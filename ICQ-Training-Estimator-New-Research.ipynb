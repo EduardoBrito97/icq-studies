{
 "cells": [
  {
   "cell_type": "code",
   "execution_count": 1,
   "metadata": {},
   "outputs": [],
   "source": [
    "import numpy as np\n",
    "from helpers.utils import print_metrics, executeIrisOneVsRest\n",
    "from helpers.icq_methods import create_and_execute_classifier_new_approach"
   ]
  },
  {
   "cell_type": "code",
   "execution_count": 2,
   "metadata": {},
   "outputs": [],
   "source": [
    "import warnings\n",
    "from sklearn.exceptions import UndefinedMetricWarning\n",
    "\n",
    "# We're ignoring some warning from sklearn.metrics.classification_report\n",
    "warnings.simplefilter(action='ignore', category=UndefinedMetricWarning)"
   ]
  },
  {
   "cell_type": "code",
   "execution_count": 3,
   "metadata": {},
   "outputs": [],
   "source": [
    "import sys\n",
    "import os\n",
    "sys.path.append(os.path.abspath('models/'))"
   ]
  },
  {
   "cell_type": "code",
   "execution_count": 4,
   "metadata": {},
   "outputs": [],
   "source": [
    "from sklearn.model_selection import RandomizedSearchCV, train_test_split, GridSearchCV\n",
    "from sklearn.multiclass import OneVsRestClassifier\n",
    "from helpers.database_helpers import get_stratified_kfold, get_iris\n",
    "from models.icq_estimators import IcqClassifier\n",
    "from helpers.icq_methods import create_and_execute_classifier_new_approach"
   ]
  },
  {
   "cell_type": "code",
   "execution_count": 5,
   "metadata": {},
   "outputs": [],
   "source": [
    "seed = 42"
   ]
  },
  {
   "cell_type": "code",
   "execution_count": 6,
   "metadata": {},
   "outputs": [],
   "source": [
    "X, y = get_iris()\n",
    "X_train, X_test, y_train, y_test = train_test_split(X, y, test_size=0.2, random_state=seed)\n",
    "cv = get_stratified_kfold(random_seed=seed)\n",
    "icq = OneVsRestClassifier(IcqClassifier(classifier_function=create_and_execute_classifier_new_approach, max_iter=2000, random_seed=seed, plot_graphs_and_metrics=False))"
   ]
  },
  {
   "cell_type": "code",
   "execution_count": 5,
   "metadata": {},
   "outputs": [
    {
     "name": "stdout",
     "output_type": "stream",
     "text": [
      "AVG: Scores = 0.33333333333333337 F1-Scores = 0.17222222222222222\n",
      "AVG: Scores = 0.38 F1-Scores = 0.22453703703703698\n",
      "AVG: Scores = 0.49333333333333335 F1-Scores = 0.37093967407434897\n",
      "AVG: Scores = 0.3 F1-Scores = 0.1658554064900814\n",
      "AVG: Scores = 0.3 F1-Scores = 0.15\n",
      "AVG: Scores = 0.6333333333333333 F1-Scores = 0.5289729225023342\n",
      "AVG: Scores = 0.41999999999999993 F1-Scores = 0.2801585253984635\n",
      "AVG: Scores = 0.33333333333333337 F1-Scores = 0.16666666666666669\n",
      "AVG: Scores = 0.36000000000000004 F1-Scores = 0.20820105820105822\n",
      "AVG: Scores = 0.33333333333333337 F1-Scores = 0.16666666666666669\n",
      "AVG: Scores = 0.62 F1-Scores = 0.5064814814814814\n",
      "AVG: Scores = 0.6333333333333333 F1-Scores = 0.5166666666666666\n",
      "Wall time: 4h 13min 42s\n"
     ]
    }
   ],
   "source": [
    "%%time\n",
    "scores = []\n",
    "f1scores = []\n",
    "for i_random_state in range(10, 70, 5):\n",
    "    curr_scores, curr_f1scores = executeIrisOneVsRest(random_seed=i_random_state,\n",
    "                                                classifier_function=create_and_execute_classifier_new_approach,\n",
    "                                                sigma_q_weights=[0, 11, 9, 2],\n",
    "                                                max_iter=2000,\n",
    "                                                print_each_fold_metric=False,\n",
    "                                                print_avg_metric=True)\n",
    "    scores.append(np.mean(curr_scores))\n",
    "    f1scores.append(np.mean(curr_f1scores))"
   ]
  },
  {
   "cell_type": "code",
   "execution_count": 8,
   "metadata": {},
   "outputs": [],
   "source": [
    "params = dict()\n",
    "params[\"estimator__sigma_q_weights\"] = []\n",
    "params[\"estimator__classifier_function\"] = [create_and_execute_classifier_new_approach]\n",
    "params[\"estimator__max_iter\"] = [2000]\n",
    "params[\"estimator__random_seed\"] = [seed]\n",
    "params[\"estimator__accuracy_succ\"] = [1.00]\n",
    "for i in range(0, 5, 1):\n",
    "    params[\"estimator__sigma_q_weights\"].append([i, i, i, i])"
   ]
  },
  {
   "cell_type": "code",
   "execution_count": 9,
   "metadata": {},
   "outputs": [
    {
     "name": "stderr",
     "output_type": "stream",
     "text": [
      "c:\\ProgramData\\Anaconda3\\lib\\site-packages\\sklearn\\model_selection\\_search.py:292: UserWarning: The total space of parameters 4 is smaller than n_iter=10. Running 4 iterations. For exhaustive searches, use GridSearchCV.\n",
      "  warnings.warn(\n"
     ]
    },
    {
     "name": "stdout",
     "output_type": "stream",
     "text": [
      "Resultados busca - ICQ Alterado\n",
      "Melhor acurácia: 0.6416666666666667\n",
      "Melhor hiperparâmetro: {'estimator__sigma_q_weights': [2, 2, 2, 2], 'estimator__random_seed': 42, 'estimator__max_iter': 2000, 'estimator__classifier_function': <function create_and_execute_classifier_new_approach at 0x00000280A6918DC0>, 'estimator__accuracy_succ': 1.0}\n",
      "Wall time: 43min 35s\n"
     ]
    }
   ],
   "source": [
    "%%time\n",
    "busca = RandomizedSearchCV(icq, params, n_iter=10, scoring='accuracy', n_jobs=-1, cv=cv, random_state=seed)\n",
    "\n",
    "# Executa busca\n",
    "resultado = busca.fit(X_train, y_train)\n",
    "\n",
    "# Resume resultados\n",
    "print('Resultados busca - ICQ Alterado')\n",
    "print('Melhor acurácia: %s' % resultado.best_score_)\n",
    "print('Melhor hiperparâmetro: %s' % resultado.best_params_)"
   ]
  },
  {
   "cell_type": "code",
   "execution_count": 10,
   "metadata": {},
   "outputs": [],
   "source": [
    "params = dict()\n",
    "params[\"estimator__sigma_q_weights\"] = [[1,1,1,0]]\n",
    "params[\"estimator__classifier_function\"] = [create_and_execute_classifier_new_approach]\n",
    "params[\"estimator__max_iter\"] = [2000]\n",
    "params[\"estimator__random_seed\"] = [seed]\n",
    "params[\"estimator__accuracy_succ\"] = [1.0]\n",
    "params[\"estimator__learning_rate\"] = [0.1, 0.01, 0.001, 0.2, 0.02, 0.002, 0.0001]"
   ]
  },
  {
   "cell_type": "code",
   "execution_count": 11,
   "metadata": {},
   "outputs": [
    {
     "name": "stderr",
     "output_type": "stream",
     "text": [
      "c:\\ProgramData\\Anaconda3\\lib\\site-packages\\sklearn\\model_selection\\_search.py:292: UserWarning: The total space of parameters 7 is smaller than n_iter=10. Running 7 iterations. For exhaustive searches, use GridSearchCV.\n",
      "  warnings.warn(\n"
     ]
    },
    {
     "name": "stdout",
     "output_type": "stream",
     "text": [
      "Resultados busca - ICQ Alterado\n",
      "Melhor acurácia: 0.9583333333333333\n",
      "Melhor hiperparâmetro: {'estimator__sigma_q_weights': [1, 1, 1, 0], 'estimator__random_seed': 42, 'estimator__max_iter': 2000, 'estimator__learning_rate': 0.001, 'estimator__classifier_function': <function create_and_execute_classifier_new_approach at 0x00000280A6918DC0>, 'estimator__accuracy_succ': 1.0}\n",
      "Wall time: 46min 24s\n"
     ]
    }
   ],
   "source": [
    "%%time\n",
    "busca = RandomizedSearchCV(icq, params, n_iter=10, scoring='accuracy', n_jobs=-1, cv=cv, random_state=seed)\n",
    "\n",
    "# Executa busca\n",
    "resultado = busca.fit(X_train, y_train)\n",
    "\n",
    "# Resume resultados\n",
    "print('Resultados busca - ICQ Alterado')\n",
    "print('Melhor acurácia: %s' % resultado.best_score_)\n",
    "print('Melhor hiperparâmetro: %s' % resultado.best_params_)"
   ]
  },
  {
   "cell_type": "code",
   "execution_count": 5,
   "metadata": {},
   "outputs": [
    {
     "name": "stdout",
     "output_type": "stream",
     "text": [
      "AVG: Scores = 0.9066666666666666 F1-Scores = 0.9056228956228957\n",
      "AVG: Scores = 0.9533333333333334 F1-Scores = 0.9524410774410775\n",
      "AVG: Scores = 0.9400000000000001 F1-Scores = 0.9386868686868686\n",
      "AVG: Scores = 0.9200000000000002 F1-Scores = 0.919040404040404\n",
      "AVG: Scores = 0.8866666666666667 F1-Scores = 0.8801394901394902\n",
      "AVG: Scores = 0.9400000000000001 F1-Scores = 0.9391750841750841\n",
      "AVG: Scores = 0.9533333333333334 F1-Scores = 0.9524410774410773\n",
      "AVG: Scores = 0.9400000000000001 F1-Scores = 0.9382491582491582\n",
      "AVG: Scores = 0.96 F1-Scores = 0.9588720538720539\n",
      "AVG: Scores = 0.9533333333333334 F1-Scores = 0.9533164983164983\n",
      "AVG: Scores = 0.9333333333333333 F1-Scores = 0.9305977355977355\n",
      "AVG: Scores = 0.9466666666666667 F1-Scores = 0.9463299663299664\n",
      "Wall time: 4h 1min 10s\n"
     ]
    }
   ],
   "source": [
    "%%time\n",
    "scores = []\n",
    "f1scores = []\n",
    "for i_random_state in range(10, 70, 5):\n",
    "    curr_scores, curr_f1scores = executeIrisOneVsRest(random_seed=i_random_state,\n",
    "                                                classifier_function=create_and_execute_classifier_new_approach,\n",
    "                                                sigma_q_weights=[1, 1, 1, 0],\n",
    "                                                max_iter=2000,\n",
    "                                                print_each_fold_metric=False,\n",
    "                                                print_avg_metric=True,\n",
    "                                                learning_rate=0.001)\n",
    "    scores.append(np.mean(curr_scores))\n",
    "    f1scores.append(np.mean(curr_f1scores))"
   ]
  },
  {
   "cell_type": "code",
   "execution_count": 6,
   "metadata": {},
   "outputs": [
    {
     "name": "stdout",
     "output_type": "stream",
     "text": [
      "Scores: [0.9066666666666666, 0.9533333333333334, 0.9400000000000001, 0.9200000000000002, 0.8866666666666667, 0.9400000000000001, 0.9533333333333334, 0.9400000000000001, 0.96, 0.9533333333333334, 0.9333333333333333, 0.9466666666666667]\n",
      "Best score: 0.96\n",
      "F1-Scores: [0.9056228956228957, 0.9524410774410775, 0.9386868686868686, 0.919040404040404, 0.8801394901394902, 0.9391750841750841, 0.9524410774410773, 0.9382491582491582, 0.9588720538720539, 0.9533164983164983, 0.9305977355977355, 0.9463299663299664]\n",
      "Max F1-Score: 0.9588720538720539\n"
     ]
    }
   ],
   "source": [
    "print_metrics(scores, f1scores)"
   ]
  },
  {
   "cell_type": "code",
   "execution_count": 7,
   "metadata": {},
   "outputs": [
    {
     "name": "stdout",
     "output_type": "stream",
     "text": [
      "Avg score: 0.9361111111111112\n",
      "Avg F1-Score: 0.9345760258260257\n"
     ]
    }
   ],
   "source": [
    "print(\"Avg score:\", np.mean(scores))\n",
    "print(\"Avg F1-Score:\", np.mean(f1scores))"
   ]
  },
  {
   "cell_type": "code",
   "execution_count": 7,
   "metadata": {},
   "outputs": [],
   "source": [
    "params = dict()\n",
    "params[\"estimator__sigma_q_weights\"] = [[1,1,1,0]]\n",
    "params[\"estimator__classifier_function\"] = [create_and_execute_classifier_new_approach]\n",
    "params[\"estimator__max_iter\"] = [2000]\n",
    "params[\"estimator__random_seed\"] = [seed]\n",
    "params[\"estimator__accuracy_succ\"] = [1.0]\n",
    "params[\"estimator__learning_rate\"] = []\n",
    "for i in range (1, 10):\n",
    "    params[\"estimator__learning_rate\"].append(0.1 * i)\n",
    "    params[\"estimator__learning_rate\"].append(0.01 * i)\n",
    "    params[\"estimator__learning_rate\"].append(0.001 * i)\n",
    "    params[\"estimator__learning_rate\"].append(0.0001 * i)\n",
    "    params[\"estimator__learning_rate\"].append(0.00001 * i)\n",
    "    params[\"estimator__learning_rate\"].append(0.000001 * i)"
   ]
  },
  {
   "cell_type": "code",
   "execution_count": 8,
   "metadata": {},
   "outputs": [
    {
     "name": "stdout",
     "output_type": "stream",
     "text": [
      "Fitting 10 folds for each of 54 candidates, totalling 540 fits\n",
      "Resultados busca - ICQ Alterado\n",
      "Melhor acurácia: 0.9666666666666666\n",
      "Melhor hiperparâmetro: {'estimator__accuracy_succ': 1.0, 'estimator__classifier_function': <function create_and_execute_classifier_new_approach at 0x000001F85E6CE8B0>, 'estimator__learning_rate': 0.0008, 'estimator__max_iter': 2000, 'estimator__random_seed': 42, 'estimator__sigma_q_weights': [1, 1, 1, 0]}\n",
      "Wall time: 8h 24min 59s\n"
     ]
    }
   ],
   "source": [
    "%%time\n",
    "busca = GridSearchCV(icq, params, scoring='accuracy', n_jobs=-1, cv=cv, verbose=10)\n",
    "\n",
    "# Executa busca\n",
    "resultado = busca.fit(X_train, y_train)\n",
    "\n",
    "# Resume resultados\n",
    "print('Resultados busca - ICQ Alterado')\n",
    "print('Melhor acurácia: %s' % resultado.best_score_)\n",
    "print('Melhor hiperparâmetro: %s' % resultado.best_params_)"
   ]
  },
  {
   "cell_type": "code",
   "execution_count": 10,
   "metadata": {},
   "outputs": [
    {
     "name": "stdout",
     "output_type": "stream",
     "text": [
      "AVG: Scores = 0.9200000000000002 F1-Scores = 0.9188047138047137\n",
      "AVG: Scores = 0.9533333333333334 F1-Scores = 0.9533346283346283\n",
      "AVG: Scores = 0.9533333333333334 F1-Scores = 0.9527104377104377\n",
      "AVG: Scores = 0.9266666666666665 F1-Scores = 0.9238637288637289\n",
      "AVG: Scores = 0.8866666666666667 F1-Scores = 0.8805603655603657\n",
      "AVG: Scores = 0.9466666666666667 F1-Scores = 0.9458417508417508\n",
      "AVG: Scores = 0.9466666666666667 F1-Scores = 0.9457070707070706\n",
      "AVG: Scores = 0.9400000000000001 F1-Scores = 0.9391750841750841\n",
      "AVG: Scores = 0.9533333333333334 F1-Scores = 0.9521380471380472\n",
      "AVG: Scores = 0.9400000000000001 F1-Scores = 0.9397811447811447\n",
      "AVG: Scores = 0.9 F1-Scores = 0.8972138972138971\n",
      "AVG: Scores = 0.9466666666666667 F1-Scores = 0.9461952861952861\n",
      "Wall time: 5h 37min 51s\n"
     ]
    }
   ],
   "source": [
    "%%time\n",
    "scores = []\n",
    "f1scores = []\n",
    "for i_random_state in range(10, 70, 5):\n",
    "    curr_scores, curr_f1scores = executeIrisOneVsRest(random_seed=i_random_state,\n",
    "                                                classifier_function=create_and_execute_classifier_new_approach,\n",
    "                                                sigma_q_weights=[1, 1, 1, 0],\n",
    "                                                max_iter=2000,\n",
    "                                                print_each_fold_metric=False,\n",
    "                                                print_avg_metric=True,\n",
    "                                                learning_rate=0.0008)\n",
    "    scores.append(np.mean(curr_scores))\n",
    "    f1scores.append(np.mean(curr_f1scores))"
   ]
  },
  {
   "cell_type": "code",
   "execution_count": 11,
   "metadata": {},
   "outputs": [
    {
     "name": "stdout",
     "output_type": "stream",
     "text": [
      "Scores: [0.9200000000000002, 0.9533333333333334, 0.9533333333333334, 0.9266666666666665, 0.8866666666666667, 0.9466666666666667, 0.9466666666666667, 0.9400000000000001, 0.9533333333333334, 0.9400000000000001, 0.9, 0.9466666666666667]\n",
      "Best score: 0.9533333333333334\n",
      "F1-Scores: [0.9188047138047137, 0.9533346283346283, 0.9527104377104377, 0.9238637288637289, 0.8805603655603657, 0.9458417508417508, 0.9457070707070706, 0.9391750841750841, 0.9521380471380472, 0.9397811447811447, 0.8972138972138971, 0.9461952861952861]\n",
      "Max F1-Score: 0.9533346283346283\n"
     ]
    }
   ],
   "source": [
    "print_metrics(scores, f1scores)"
   ]
  },
  {
   "cell_type": "code",
   "execution_count": 12,
   "metadata": {},
   "outputs": [
    {
     "name": "stdout",
     "output_type": "stream",
     "text": [
      "Avg score: 0.9344444444444445\n",
      "Avg F1-Score: 0.9329438462771796\n"
     ]
    }
   ],
   "source": [
    "print(\"Avg score:\", np.mean(scores))\n",
    "print(\"Avg F1-Score:\", np.mean(f1scores))"
   ]
  }
 ],
 "metadata": {
  "kernelspec": {
   "display_name": "base",
   "language": "python",
   "name": "python3"
  },
  "language_info": {
   "codemirror_mode": {
    "name": "ipython",
    "version": 3
   },
   "file_extension": ".py",
   "mimetype": "text/x-python",
   "name": "python",
   "nbconvert_exporter": "python",
   "pygments_lexer": "ipython3",
   "version": "3.9.13"
  },
  "orig_nbformat": 4
 },
 "nbformat": 4,
 "nbformat_minor": 2
}
