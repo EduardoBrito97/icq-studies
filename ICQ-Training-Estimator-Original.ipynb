{
 "cells": [
  {
   "cell_type": "code",
   "execution_count": null,
   "id": "8db20f4f",
   "metadata": {},
   "outputs": [],
   "source": [
    "from helpers import utils\n",
    "from helpers.icq_methods import create_and_execute_classifier"
   ]
  },
  {
   "cell_type": "code",
   "execution_count": null,
   "id": "3db420a7",
   "metadata": {},
   "outputs": [],
   "source": [
    "%%time\n",
    "scores = []\n",
    "f1scores = []\n",
    "for i_random_state in range(30):\n",
    "    score, f1score = utils.executeIrisOneVsRest(random_seed = i_random_state,\n",
    "                                                classifier_function=create_and_execute_classifier,\n",
    "                                                sigma_q_weights=[1, 1, 1, 0],\n",
    "                                                max_iter=2000)\n",
    "    scores.append(score)\n",
    "    f1scores.append(f1score)"
   ]
  },
  {
   "cell_type": "code",
   "execution_count": null,
   "id": "269541b9",
   "metadata": {},
   "outputs": [],
   "source": [
    "utils.print_metrics(scores, f1scores)"
   ]
  }
 ],
 "metadata": {
  "kernelspec": {
   "display_name": "base",
   "language": "python",
   "name": "python3"
  },
  "language_info": {
   "codemirror_mode": {
    "name": "ipython",
    "version": 3
   },
   "file_extension": ".py",
   "mimetype": "text/x-python",
   "name": "python",
   "nbconvert_exporter": "python",
   "pygments_lexer": "ipython3",
   "version": "3.9.13"
  },
  "vscode": {
   "interpreter": {
    "hash": "ad2bdc8ecc057115af97d19610ffacc2b4e99fae6737bb82f5d7fb13d2f2c186"
   }
  }
 },
 "nbformat": 4,
 "nbformat_minor": 5
}
