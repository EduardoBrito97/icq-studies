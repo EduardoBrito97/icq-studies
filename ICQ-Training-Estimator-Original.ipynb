{
 "cells": [
  {
   "attachments": {},
   "cell_type": "markdown",
   "id": "aca6976c",
   "metadata": {},
   "source": [
    "## Experimenting agains Iris dataset - Original ICQ Method\n",
    "\n",
    "Runs the original ICQ classifier against Iris dataset, using Stratified 10-Fold cross validation throughout many different random seeds to validate the classifier. At the end of each 10-Fold cross validation, it prints the AVG score and F1-Score for the classifier - and after executing with all different random seeds, the average score/f1-score is also printed."
   ]
  },
  {
   "cell_type": "code",
   "execution_count": 1,
   "id": "8db20f4f",
   "metadata": {},
   "outputs": [],
   "source": [
    "import numpy as np\n",
    "from helpers.utils import print_metrics, executeIrisOneVsRest\n",
    "from helpers.icq_methods import create_and_execute_classifier"
   ]
  },
  {
   "cell_type": "code",
   "execution_count": 2,
   "id": "bccade9c",
   "metadata": {},
   "outputs": [],
   "source": [
    "import warnings\n",
    "from sklearn.exceptions import UndefinedMetricWarning\n",
    "\n",
    "# We're ignoring some warning from sklearn.metrics.classification_report\n",
    "warnings.simplefilter(action='ignore', category=UndefinedMetricWarning)"
   ]
  },
  {
   "cell_type": "code",
   "execution_count": 3,
   "id": "61a535f5",
   "metadata": {},
   "outputs": [
    {
     "name": "stdout",
     "output_type": "stream",
     "text": [
      "AVG: Scores = 0.33333333333333337 F1-Scores = 0.16666666666666669\n",
      "AVG: Scores = 0.33333333333333337 F1-Scores = 0.16666666666666669\n",
      "AVG: Scores = 0.21333333333333332 F1-Scores = 0.1387005094435435\n",
      "AVG: Scores = 0.4133333333333333 F1-Scores = 0.3908417508417509\n",
      "AVG: Scores = 0.6933333333333334 F1-Scores = 0.6063492063492063\n",
      "AVG: Scores = 0.8800000000000001 F1-Scores = 0.8723319273319273\n",
      "Wall time: 1min 44s\n"
     ]
    }
   ],
   "source": [
    "%%time\n",
    "scores = []\n",
    "f1scores = []\n",
    "for i_random_state in range(10, 70, 5):\n",
    "    curr_scores, curr_f1scores = executeIrisOneVsRest(random_seed=i_random_state,\n",
    "                                                classifier_function=create_and_execute_classifier,\n",
    "                                                sigma_q_weights=[1, 1, 1, 0],\n",
    "                                                max_iter=2000,\n",
    "                                                print_each_fold_metric=False,\n",
    "                                                print_avg_metric=True)\n",
    "    scores.append(np.mean(curr_scores))\n",
    "    f1scores.append(np.mean(curr_f1scores))"
   ]
  },
  {
   "cell_type": "code",
   "execution_count": 4,
   "id": "269541b9",
   "metadata": {},
   "outputs": [
    {
     "name": "stdout",
     "output_type": "stream",
     "text": [
      "Scores: [0.33333333333333337, 0.33333333333333337, 0.21333333333333332, 0.4133333333333333, 0.6933333333333334, 0.8800000000000001]\n",
      "Best score: 0.8800000000000001\n",
      "F1-Scores: [0.16666666666666669, 0.16666666666666669, 0.1387005094435435, 0.3908417508417509, 0.6063492063492063, 0.8723319273319273]\n",
      "Max F1-Score: 0.8723319273319273\n"
     ]
    }
   ],
   "source": [
    "print_metrics(scores, f1scores)"
   ]
  }
 ],
 "metadata": {
  "kernelspec": {
   "display_name": "base",
   "language": "python",
   "name": "python3"
  },
  "language_info": {
   "codemirror_mode": {
    "name": "ipython",
    "version": 3
   },
   "file_extension": ".py",
   "mimetype": "text/x-python",
   "name": "python",
   "nbconvert_exporter": "python",
   "pygments_lexer": "ipython3",
   "version": "3.9.13"
  },
  "vscode": {
   "interpreter": {
    "hash": "ad2bdc8ecc057115af97d19610ffacc2b4e99fae6737bb82f5d7fb13d2f2c186"
   }
  }
 },
 "nbformat": 4,
 "nbformat_minor": 5
}
