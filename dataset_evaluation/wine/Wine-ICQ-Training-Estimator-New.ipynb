{
 "cells": [
  {
   "attachments": {},
   "cell_type": "markdown",
   "id": "7247aa79",
   "metadata": {},
   "source": [
    "## Experimenting against Wine dataset - Modified ICQ Method\n",
    "\n",
    "Runs the modified ICQ classifier against Wine dataset, using Stratified 10-Fold cross validation throughout many different random seeds to validate the classifier. At the end of each 10-Fold cross validation, it prints the AVG score and F1-Score for the classifier - and after executing with all different random seeds, the average score/f1-score is also printed."
   ]
  },
  {
   "cell_type": "code",
   "execution_count": null,
   "id": "01a44568",
   "metadata": {},
   "outputs": [],
   "source": [
    "import sys\n",
    "import os\n",
    "sys.path.append(os.path.abspath('../../'))\n",
    "sys.path.append(os.path.abspath('../../models'))\n",
    "sys.path.append(os.path.abspath('../../helpers'))"
   ]
  },
  {
   "cell_type": "code",
   "execution_count": null,
   "id": "93e369ff",
   "metadata": {},
   "outputs": [],
   "source": [
    "import numpy as np\n",
    "from helpers.utils import print_metrics, executeWineOneVsRest\n",
    "from helpers.icq_executions import execute_classifier_split_input_weight_normal_sigma_q"
   ]
  },
  {
   "cell_type": "code",
   "execution_count": null,
   "id": "822d41e7",
   "metadata": {},
   "outputs": [],
   "source": [
    "import warnings\n",
    "from sklearn.exceptions import UndefinedMetricWarning\n",
    "\n",
    "# We're ignoring some warning from sklearn.metrics.classification_report\n",
    "warnings.simplefilter(action='ignore', category=UndefinedMetricWarning)"
   ]
  },
  {
   "attachments": {},
   "cell_type": "markdown",
   "id": "a6c3aad8",
   "metadata": {},
   "source": [
    "## Sigma_Q param = [1, 1, 1]"
   ]
  },
  {
   "cell_type": "code",
   "execution_count": null,
   "id": "8db20f4f",
   "metadata": {},
   "outputs": [],
   "source": [
    "%%time\n",
    "scores = []\n",
    "f1scores = []\n",
    "for i_random_state in range(10, 70, 5):\n",
    "    curr_scores, curr_f1scores = executeWineOneVsRest(random_seed=i_random_state,\n",
    "                                                classifier_function=execute_classifier_split_input_weight_normal_sigma_q,\n",
    "                                                sigma_q_weights=[1, 1, 1],\n",
    "                                                max_iter=2000,\n",
    "                                                print_each_fold_metric=False,\n",
    "                                                print_avg_metric=True)\n",
    "    scores.append(np.mean(curr_scores))\n",
    "    f1scores.append(np.mean(curr_f1scores))"
   ]
  },
  {
   "cell_type": "code",
   "execution_count": null,
   "id": "4044424c",
   "metadata": {},
   "outputs": [],
   "source": [
    "print_metrics(scores, f1scores)"
   ]
  }
 ],
 "metadata": {
  "kernelspec": {
   "display_name": "base",
   "language": "python",
   "name": "python3"
  },
  "language_info": {
   "codemirror_mode": {
    "name": "ipython",
    "version": 3
   },
   "file_extension": ".py",
   "mimetype": "text/x-python",
   "name": "python",
   "nbconvert_exporter": "python",
   "pygments_lexer": "ipython3",
   "version": "3.9.13"
  },
  "vscode": {
   "interpreter": {
    "hash": "ad2bdc8ecc057115af97d19610ffacc2b4e99fae6737bb82f5d7fb13d2f2c186"
   }
  }
 },
 "nbformat": 4,
 "nbformat_minor": 5
}
