{
 "cells": [
  {
   "attachments": {},
   "cell_type": "markdown",
   "metadata": {},
   "source": [
    "# Researching best params for new approach\n",
    "On this notebook, we try to find the best params for our suggested approach on ICQ classifier."
   ]
  },
  {
   "attachments": {},
   "cell_type": "markdown",
   "metadata": {},
   "source": [
    "## Setup"
   ]
  },
  {
   "attachments": {},
   "cell_type": "markdown",
   "metadata": {},
   "source": [
    "### Importing libraries and helper methods"
   ]
  },
  {
   "cell_type": "code",
   "execution_count": 1,
   "metadata": {},
   "outputs": [],
   "source": [
    "import sys\n",
    "import os\n",
    "sys.path.append(os.path.abspath('../../'))\n",
    "sys.path.append(os.path.abspath('../../models/'))\n",
    "sys.path.append(os.path.abspath('../../helpers/'))"
   ]
  },
  {
   "cell_type": "code",
   "execution_count": 2,
   "metadata": {},
   "outputs": [],
   "source": [
    "import warnings\n",
    "from sklearn.exceptions import UndefinedMetricWarning\n",
    "\n",
    "# We're ignoring some warning from sklearn.metrics.classification_report\n",
    "warnings.simplefilter(action='ignore', category=UndefinedMetricWarning)"
   ]
  },
  {
   "cell_type": "code",
   "execution_count": 3,
   "metadata": {},
   "outputs": [],
   "source": [
    "import numpy as np\n",
    "#from helpers.utils import print_metrics\n",
    "from sklearn.model_selection import RandomizedSearchCV, train_test_split, GridSearchCV\n",
    "from sklearn.multiclass import OneVsRestClassifier\n",
    "from helpers.database_helpers import get_stratified_kfold\n",
    "from models.icq_estimators import IcqClassifier\n",
    "from helpers.icq_executions import execute_classifier_split_input_weight_normal_sigma_q, execute_classifier_split_input_weight_polar_sigma_q"
   ]
  },
  {
   "cell_type": "code",
   "execution_count": 4,
   "metadata": {},
   "outputs": [],
   "source": [
    "import matplotlib.pyplot as plt"
   ]
  },
  {
   "attachments": {},
   "cell_type": "markdown",
   "metadata": {},
   "source": [
    "### Setting up database, k-fold and random seed"
   ]
  },
  {
   "cell_type": "code",
   "execution_count": 15,
   "metadata": {},
   "outputs": [],
   "source": [
    "path_to_datasets = \"D:\\Quantum\\ICQ_eduardo\\icq-studies\\dataset_evaluation\\\\artificial_dataset\\Datasets_template_exp\" \n",
    "dataset_name = \"\\circles.npy\""
   ]
  },
  {
   "cell_type": "code",
   "execution_count": 16,
   "metadata": {},
   "outputs": [
    {
     "data": {
      "image/png": "[encoded data removed]",
      "text/plain": [
       "<Figure size 432x288 with 1 Axes>"
      ]
     },
     "metadata": {
      "needs_background": "light"
     },
     "output_type": "display_data"
    }
   ],
   "source": [
    "seed = 40\n",
    "dataset = np.load( path_to_datasets + dataset_name)\n",
    "\n",
    "X,y = dataset[:,:-1],dataset[:,-1]\n",
    "\n",
    "X0 = X[y == 0]\n",
    "X1 = X[y == 1]\n",
    "\n",
    "plt.plot(X0[:,0],X0[:,1],'o')\n",
    "plt.plot(X1[:,0],X1[:,1],'o')\n",
    "plt.show()\n",
    "\n",
    "X_train, X_test, y_train, y_test = train_test_split(X, y, test_size=0.2, random_state=seed)\n",
    "cv = get_stratified_kfold(random_seed=seed)"
   ]
  },
  {
   "attachments": {},
   "cell_type": "markdown",
   "metadata": {},
   "source": [
    "## Search for best params on sigmaQ = sigmaX + sigmaY + sigmaZ"
   ]
  },
  {
   "attachments": {},
   "cell_type": "markdown",
   "metadata": {},
   "source": [
    "### Model"
   ]
  },
  {
   "cell_type": "code",
   "execution_count": 7,
   "metadata": {},
   "outputs": [],
   "source": [
    "icq = IcqClassifier(classifier_function=execute_classifier_split_input_weight_normal_sigma_q,\n",
    "                    max_iter=2000, \n",
    "                    random_seed=seed, \n",
    "                    plot_graphs_and_metrics=False,\n",
    "                    do_classes_refit= False)"
   ]
  },
  {
   "cell_type": "code",
   "execution_count": 8,
   "metadata": {},
   "outputs": [
    {
     "name": "stdout",
     "output_type": "stream",
     "text": [
      "dict_keys(['accuracy_succ', 'classifier_function', 'do_classes_refit', 'learning_rate', 'max_iter', 'plot_graphs_and_metrics', 'random_seed', 'reset_weights_epoch', 'sigma_q_weights'])\n",
      "False\n"
     ]
    }
   ],
   "source": [
    "print(icq.get_params().keys())\n",
    "print(icq.do_classes_refit)"
   ]
  },
  {
   "attachments": {},
   "cell_type": "markdown",
   "metadata": {},
   "source": [
    "### Search for Sigma Q Params\n",
    "First research on the new approach (having weights on U operator and inputs on rho env) - varying SigmaQ params"
   ]
  },
  {
   "attachments": {},
   "cell_type": "markdown",
   "metadata": {},
   "source": [
    "#### Integer params\n",
    "On this phase, we're dealing only with integer params, i.e. [1, 1, 1], [2, 2, 2], etc."
   ]
  },
  {
   "cell_type": "code",
   "execution_count": 9,
   "metadata": {},
   "outputs": [],
   "source": [
    "params = dict()\n",
    "params[\"sigma_q_weights\"] = []\n",
    "params[\"classifier_function\"] = [execute_classifier_split_input_weight_normal_sigma_q]\n",
    "params[\"max_iter\"] = [2000]\n",
    "params[\"random_seed\"] = [seed]\n",
    "params[\"accuracy_succ\"] = [1.00]\n",
    "for i in range(0, 15, 1):\n",
    "    for j in range(0, 15, 1):\n",
    "        for k in range(0, 15, 1):\n",
    "                if not(i == j and j == k and i == 1):\n",
    "                    params[\"sigma_q_weights\"].append([i, j, k])"
   ]
  },
  {
   "cell_type": "code",
   "execution_count": 10,
   "metadata": {},
   "outputs": [
    {
     "name": "stdout",
     "output_type": "stream",
     "text": [
      "Fitting 10 folds for each of 10 candidates, totalling 100 fits\n"
     ]
    }
   ],
   "source": [
    "%%time\n",
    "busca = RandomizedSearchCV(icq, params, n_iter=10, scoring='accuracy', n_jobs=-1, cv=cv, random_state=seed, verbose=60)\n",
    "\n",
    "# # Executa busca\n",
    "resultado = busca.fit(X_train, y_train)\n",
    "\n",
    "# # Resume resultados\n",
    "# print('Resultados busca - ICQ Alterado')\n",
    "# print('Melhor acurácia: %s' % resultado.best_score_)\n",
    "# print('Melhor hiperparâmetro: %s' % resultado.best_params_)"
   ]
  },
  {
   "attachments": {},
   "cell_type": "markdown",
   "metadata": {},
   "source": [
    "#### Float params\n",
    "On this phase, we'll deal with Sigma Q params as floats [0,1]."
   ]
  },
  {
   "cell_type": "code",
   "execution_count": null,
   "metadata": {},
   "outputs": [],
   "source": [
    "params = dict()\n",
    "params[\"sigma_q_weights\"] = []\n",
    "params[\"classifier_function\"] = [execute_classifier_split_input_weight_normal_sigma_q]\n",
    "params[\"max_iter\"] = [2000]\n",
    "params[\"random_seed\"] = [seed]\n",
    "params[\"accuracy_succ\"] = [1.00]\n",
    "for i in np.arange(0, 1, 0.1):\n",
    "    for j in np.arange(0, 1, 0.1):\n",
    "        for k in np.arange(0, 1, 0.1):\n",
    "                if not(i == j and j == k and i == 1):\n",
    "                    params[\"sigma_q_weights\"].append([i, j, k])"
   ]
  },
  {
   "cell_type": "code",
   "execution_count": null,
   "metadata": {},
   "outputs": [],
   "source": [
    "%%time\n",
    "busca = RandomizedSearchCV(icq, params, n_iter=50, scoring='accuracy', n_jobs=-1, cv=cv, random_state=seed, verbose=60)\n",
    "\n",
    "# Executa busca\n",
    "resultado = busca.fit(X_train, y_train)\n",
    "\n",
    "# Resume resultados\n",
    "print('Resultados busca - ICQ Alterado')\n",
    "print('Melhor acurácia: %s' % resultado.best_score_)\n",
    "print('Melhor hiperparâmetro: %s' % resultado.best_params_)"
   ]
  },
  {
   "attachments": {},
   "cell_type": "markdown",
   "metadata": {},
   "source": [
    "### Search for Learning Rates\n",
    "Since we didn't have any result varying the Sigma Q, let's now vary the learning rate param and see what happens."
   ]
  },
  {
   "attachments": {},
   "cell_type": "markdown",
   "metadata": {},
   "source": [
    "#### Small subset of learning rates"
   ]
  },
  {
   "cell_type": "code",
   "execution_count": null,
   "metadata": {},
   "outputs": [],
   "source": [
    "params = dict()\n",
    "params[\"estimator__sigma_q_weights\"] = [[1,1,1]]\n",
    "params[\"estimator__classifier_function\"] = [execute_classifier_split_input_weight_normal_sigma_q]\n",
    "params[\"estimator__max_iter\"] = [2000]\n",
    "params[\"estimator__random_seed\"] = [seed]\n",
    "params[\"estimator__accuracy_succ\"] = [1.0]\n",
    "params[\"estimator__learning_rate\"] = [0.1, 0.01, 0.001, 0.2, 0.02, 0.002, 0.0001]"
   ]
  },
  {
   "cell_type": "code",
   "execution_count": null,
   "metadata": {},
   "outputs": [],
   "source": [
    "%%time\n",
    "busca = RandomizedSearchCV(icq, params, n_iter=10, scoring='accuracy', n_jobs=-1, cv=cv, random_state=seed)\n",
    "\n",
    "# Executa busca\n",
    "resultado = busca.fit(X_train, y_train)\n",
    "\n",
    "# Resume resultados\n",
    "print('Resultados busca - ICQ Alterado')\n",
    "print('Melhor acurácia: %s' % resultado.best_score_)\n",
    "print('Melhor hiperparâmetro: %s' % resultado.best_params_)"
   ]
  },
  {
   "attachments": {},
   "cell_type": "markdown",
   "metadata": {},
   "source": [
    "#### Biggest subset of learning rates\n",
    "Let's now try with a biggest subset of learning rates, which will take longer, but hopefully will earn better results. We'll try with:\n",
    "- [0.1, 0.2, ..., 0.9]; +\n",
    "- [0.01, 0.2, ..., 0.9]; +\n",
    "- [0.001, 0.002, ..., 0.009]; +\n",
    "- [0.0001, 0.0002, ..., 0.0009]; +\n",
    "- [0.00001, 0.00002, ..., 0.00009]; +\n",
    "- [0.000001, 0.000002, ..., 0.000009];"
   ]
  },
  {
   "cell_type": "code",
   "execution_count": null,
   "metadata": {},
   "outputs": [],
   "source": [
    "params = dict()\n",
    "params[\"estimator__sigma_q_weights\"] = [[1,1,1]]\n",
    "params[\"estimator__classifier_function\"] = [execute_classifier_split_input_weight_normal_sigma_q]\n",
    "params[\"estimator__max_iter\"] = [2000]\n",
    "params[\"estimator__random_seed\"] = [seed]\n",
    "params[\"estimator__accuracy_succ\"] = [1.0]\n",
    "params[\"estimator__learning_rate\"] = []\n",
    "for i in range (1, 10):\n",
    "    params[\"estimator__learning_rate\"].append(0.1 * i)\n",
    "    params[\"estimator__learning_rate\"].append(0.01 * i)\n",
    "    params[\"estimator__learning_rate\"].append(0.001 * i)\n",
    "    params[\"estimator__learning_rate\"].append(0.0001 * i)\n",
    "    params[\"estimator__learning_rate\"].append(0.00001 * i)\n",
    "    params[\"estimator__learning_rate\"].append(0.000001 * i)"
   ]
  },
  {
   "cell_type": "code",
   "execution_count": null,
   "metadata": {},
   "outputs": [],
   "source": [
    "%%time\n",
    "busca = GridSearchCV(icq, params, scoring='accuracy', n_jobs=-1, cv=cv, verbose=10)\n",
    "\n",
    "# Executa busca\n",
    "resultado = busca.fit(X_train, y_train)\n",
    "\n",
    "# Resume resultados\n",
    "print('Resultados busca - ICQ Alterado')\n",
    "print('Melhor acurácia: %s' % resultado.best_score_)\n",
    "print('Melhor hiperparâmetro: %s' % resultado.best_params_)"
   ]
  },
  {
   "attachments": {},
   "cell_type": "markdown",
   "metadata": {},
   "source": [
    "### Search for best learning rate for best Sigma Q param "
   ]
  },
  {
   "cell_type": "code",
   "execution_count": null,
   "metadata": {},
   "outputs": [],
   "source": [
    "params = dict()\n",
    "params[\"estimator__sigma_q_weights\"] = [[0.7, 0.4, 0.0]]\n",
    "params[\"estimator__classifier_function\"] = [execute_classifier_split_input_weight_normal_sigma_q]\n",
    "params[\"estimator__max_iter\"] = [2000]\n",
    "params[\"estimator__random_seed\"] = [seed]\n",
    "params[\"estimator__accuracy_succ\"] = [1.0]\n",
    "params[\"estimator__learning_rate\"] = []\n",
    "for i in range (1, 10):\n",
    "    params[\"estimator__learning_rate\"].append(0.1 * i)\n",
    "    params[\"estimator__learning_rate\"].append(0.01 * i)\n",
    "    params[\"estimator__learning_rate\"].append(0.001 * i)\n",
    "    params[\"estimator__learning_rate\"].append(0.0001 * i)\n",
    "    params[\"estimator__learning_rate\"].append(0.00001 * i)\n",
    "    params[\"estimator__learning_rate\"].append(0.000001 * i)"
   ]
  },
  {
   "cell_type": "code",
   "execution_count": null,
   "metadata": {},
   "outputs": [],
   "source": [
    "%%time\n",
    "busca = GridSearchCV(icq, params, scoring='accuracy', n_jobs=-1, cv=cv, verbose=10)\n",
    "\n",
    "# Executa busca\n",
    "resultado = busca.fit(X_train, y_train)\n",
    "\n",
    "# Resume resultados\n",
    "print('Resultados busca - ICQ Alterado')\n",
    "print('Melhor acurácia: %s' % resultado.best_score_)\n",
    "print('Melhor hiperparâmetro: %s' % resultado.best_params_)"
   ]
  },
  {
   "attachments": {},
   "cell_type": "markdown",
   "metadata": {},
   "source": [
    "### Search for best Sigma Q using best Learning Rate param"
   ]
  },
  {
   "cell_type": "code",
   "execution_count": null,
   "metadata": {},
   "outputs": [],
   "source": [
    "params = dict()\n",
    "params[\"estimator__sigma_q_weights\"] = []\n",
    "params[\"estimator__classifier_function\"] = [execute_classifier_split_input_weight_normal_sigma_q]\n",
    "params[\"estimator__max_iter\"] = [2000]\n",
    "params[\"estimator__random_seed\"] = [seed]\n",
    "params[\"estimator__accuracy_succ\"] = [1.00]\n",
    "params[\"estimator__learning_rate\"] = [0.002]\n",
    "for i in np.arange(0, 1, 0.1):\n",
    "    for j in np.arange(0, 1, 0.1):\n",
    "        for k in np.arange(0, 1, 0.1):\n",
    "                if not(i == j and j == k and i == 1):\n",
    "                    params[\"estimator__sigma_q_weights\"].append([i, j, k])"
   ]
  },
  {
   "cell_type": "code",
   "execution_count": null,
   "metadata": {},
   "outputs": [],
   "source": [
    "%%time\n",
    "busca = RandomizedSearchCV(icq, params, n_iter=50, scoring='accuracy', n_jobs=-1, cv=cv, random_state=seed, verbose=60)\n",
    "\n",
    "# Executa busca\n",
    "resultado = busca.fit(X_train, y_train)\n",
    "\n",
    "# Resume resultados\n",
    "print('Resultados busca - ICQ Alterado')\n",
    "print('Melhor acurácia: %s' % resultado.best_score_)\n",
    "print('Melhor hiperparâmetro: %s' % resultado.best_params_)"
   ]
  },
  {
   "attachments": {},
   "cell_type": "markdown",
   "metadata": {},
   "source": [
    "## Search for best params on sigmaQ = rx\\*sigmaX + ry\\*sigmaY + rz\\*sigmaZ"
   ]
  },
  {
   "cell_type": "code",
   "execution_count": null,
   "metadata": {},
   "outputs": [],
   "source": [
    "icq = OneVsRestClassifier(IcqClassifier(classifier_function=execute_classifier_split_input_weight_polar_sigma_q, max_iter=2000, random_seed=seed, plot_graphs_and_metrics=False))"
   ]
  },
  {
   "cell_type": "code",
   "execution_count": null,
   "metadata": {},
   "outputs": [],
   "source": [
    "params = dict()\n",
    "params[\"estimator__classifier_function\"] = [execute_classifier_split_input_weight_polar_sigma_q]\n",
    "params[\"estimator__max_iter\"] = [2000]\n",
    "params[\"estimator__random_seed\"] = [seed]\n",
    "params[\"estimator__accuracy_succ\"] = [1.00]"
   ]
  },
  {
   "cell_type": "code",
   "execution_count": null,
   "metadata": {},
   "outputs": [],
   "source": [
    "params[\"estimator__sigma_q_weights\"] = []\n",
    "for i in np.arange(0, np.pi, 0.1):\n",
    "    for j in np.arange(0, np.pi, 0.1):\n",
    "        params[\"estimator__sigma_q_weights\"].append([1, i, j])"
   ]
  },
  {
   "cell_type": "code",
   "execution_count": null,
   "metadata": {},
   "outputs": [],
   "source": [
    "params[\"estimator__learning_rate\"] = []\n",
    "for i in range (1, 10):\n",
    "    params[\"estimator__learning_rate\"].append(0.1 * i)\n",
    "    params[\"estimator__learning_rate\"].append(0.01 * i)\n",
    "    params[\"estimator__learning_rate\"].append(0.001 * i)\n",
    "    params[\"estimator__learning_rate\"].append(0.0001 * i)\n",
    "    params[\"estimator__learning_rate\"].append(0.00001 * i)\n",
    "    params[\"estimator__learning_rate\"].append(0.000001 * i)"
   ]
  },
  {
   "cell_type": "code",
   "execution_count": null,
   "metadata": {},
   "outputs": [],
   "source": [
    "%%time\n",
    "busca = RandomizedSearchCV(icq, params, n_iter=70, scoring='accuracy', n_jobs=-1, cv=cv, random_state=seed, verbose=60)\n",
    "\n",
    "# Executa busca\n",
    "resultado = busca.fit(X_train, y_train)\n",
    "\n",
    "# Resume resultados\n",
    "print('Resultados busca - ICQ Alterado')\n",
    "print('Melhor acurácia: %s' % resultado.best_score_)\n",
    "print('Melhor hiperparâmetro: %s' % resultado.best_params_)"
   ]
  }
 ],
 "metadata": {
  "kernelspec": {
   "display_name": "base",
   "language": "python",
   "name": "python3"
  },
  "language_info": {
   "codemirror_mode": {
    "name": "ipython",
    "version": 3
   },
   "file_extension": ".py",
   "mimetype": "text/x-python",
   "name": "python",
   "nbconvert_exporter": "python",
   "pygments_lexer": "ipython3",
   "version": "3.9.7"
  },
  "orig_nbformat": 4
 },
 "nbformat": 4,
 "nbformat_minor": 2
}
