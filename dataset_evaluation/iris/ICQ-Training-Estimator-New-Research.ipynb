{
 "cells": [
  {
   "attachments": {},
   "cell_type": "markdown",
   "metadata": {},
   "source": [
    "### Importing libraries and helper methods"
   ]
  },
  {
   "cell_type": "code",
   "execution_count": null,
   "metadata": {},
   "outputs": [],
   "source": [
    "import sys\n",
    "import os\n",
    "sys.path.append(os.path.abspath('../../models/'))"
   ]
  },
  {
   "cell_type": "code",
   "execution_count": 1,
   "metadata": {},
   "outputs": [],
   "source": [
    "import warnings\n",
    "from sklearn.exceptions import UndefinedMetricWarning\n",
    "\n",
    "# We're ignoring some warning from sklearn.metrics.classification_report\n",
    "warnings.simplefilter(action='ignore', category=UndefinedMetricWarning)"
   ]
  },
  {
   "cell_type": "code",
   "execution_count": 3,
   "metadata": {},
   "outputs": [],
   "source": [
    "import numpy as np\n",
    "from helpers.utils import print_metrics\n",
    "from sklearn.model_selection import RandomizedSearchCV, train_test_split, GridSearchCV\n",
    "from sklearn.multiclass import OneVsRestClassifier\n",
    "from helpers.database_helpers import get_stratified_kfold, get_iris\n",
    "from models.icq_estimators import IcqClassifier\n",
    "from helpers.icq_methods import create_and_execute_classifier_new_approach"
   ]
  },
  {
   "attachments": {},
   "cell_type": "markdown",
   "metadata": {},
   "source": [
    "### Setting up database, k-fold and random seed"
   ]
  },
  {
   "cell_type": "code",
   "execution_count": 4,
   "metadata": {},
   "outputs": [],
   "source": [
    "seed = 42"
   ]
  },
  {
   "cell_type": "code",
   "execution_count": 5,
   "metadata": {},
   "outputs": [],
   "source": [
    "X, y = get_iris()\n",
    "X_train, X_test, y_train, y_test = train_test_split(X, y, test_size=0.2, random_state=seed)\n",
    "cv = get_stratified_kfold(random_seed=seed)\n",
    "icq = OneVsRestClassifier(IcqClassifier(classifier_function=create_and_execute_classifier_new_approach, max_iter=2000, random_seed=seed, plot_graphs_and_metrics=False))"
   ]
  },
  {
   "attachments": {},
   "cell_type": "markdown",
   "metadata": {},
   "source": [
    "# Search for Sigma Q Params\n",
    "First research on the new approach (having weights on U operator and inputs on rho env) - varying SigmaQ params"
   ]
  },
  {
   "attachments": {},
   "cell_type": "markdown",
   "metadata": {},
   "source": [
    "## Integer params\n",
    "On this phase, we're dealing only with integer params, i.e. [1, 1, 1, 1], [2, 2, 2, 2], etc."
   ]
  },
  {
   "cell_type": "code",
   "execution_count": 6,
   "metadata": {},
   "outputs": [],
   "source": [
    "params = dict()\n",
    "params[\"estimator__sigma_q_weights\"] = []\n",
    "params[\"estimator__classifier_function\"] = [create_and_execute_classifier_new_approach]\n",
    "params[\"estimator__max_iter\"] = [2000]\n",
    "params[\"estimator__random_seed\"] = [seed]\n",
    "params[\"estimator__accuracy_succ\"] = [1.00]\n",
    "for i in range(0, 15, 1):\n",
    "    for j in range(0, 15, 1):\n",
    "        for k in range(0, 15, 1):\n",
    "            for l in range(0, 15, 1):\n",
    "                if not(i == j and j == k and i == 1 and l == 0):\n",
    "                    params[\"estimator__sigma_q_weights\"].append([i, j, k, l])"
   ]
  },
  {
   "cell_type": "code",
   "execution_count": 7,
   "metadata": {},
   "outputs": [
    {
     "name": "stdout",
     "output_type": "stream",
     "text": [
      "Fitting 10 folds for each of 50 candidates, totalling 500 fits\n",
      "Resultados busca - ICQ Alterado\n",
      "Melhor acurácia: 0.8916666666666666\n",
      "Melhor hiperparâmetro: {'estimator__sigma_q_weights': [1, 0, 12, 1], 'estimator__random_seed': 42, 'estimator__max_iter': 2000, 'estimator__classifier_function': <function create_and_execute_classifier_new_approach at 0x0000016BE1EC08B0>, 'estimator__accuracy_succ': 1.0}\n",
      "Wall time: 9h 19min 28s\n"
     ]
    }
   ],
   "source": [
    "%%time\n",
    "busca = RandomizedSearchCV(icq, params, n_iter=50, scoring='accuracy', n_jobs=-1, cv=cv, random_state=seed, verbose=100)\n",
    "\n",
    "# Executa busca\n",
    "resultado = busca.fit(X_train, y_train)\n",
    "\n",
    "# Resume resultados\n",
    "print('Resultados busca - ICQ Alterado')\n",
    "print('Melhor acurácia: %s' % resultado.best_score_)\n",
    "print('Melhor hiperparâmetro: %s' % resultado.best_params_)"
   ]
  },
  {
   "attachments": {},
   "cell_type": "markdown",
   "metadata": {},
   "source": [
    "## Float params\n",
    "On this phase, we'll deal with Sigma Q params as floats [0,1]."
   ]
  },
  {
   "cell_type": "code",
   "execution_count": 8,
   "metadata": {},
   "outputs": [],
   "source": [
    "params = dict()\n",
    "params[\"estimator__sigma_q_weights\"] = []\n",
    "params[\"estimator__classifier_function\"] = [create_and_execute_classifier_new_approach]\n",
    "params[\"estimator__max_iter\"] = [2000]\n",
    "params[\"estimator__random_seed\"] = [seed]\n",
    "params[\"estimator__accuracy_succ\"] = [1.00]\n",
    "for i in np.arange(0, 1, 0.1):\n",
    "    for j in np.arange(0, 1, 0.1):\n",
    "        for k in np.arange(0, 1, 0.1):\n",
    "            for l in np.arange(0, 1, 0.1):\n",
    "                if not(i == j and j == k and i == 1 and l == 0):\n",
    "                    params[\"estimator__sigma_q_weights\"].append([i, j, k, l])"
   ]
  },
  {
   "cell_type": "code",
   "execution_count": 9,
   "metadata": {},
   "outputs": [
    {
     "name": "stdout",
     "output_type": "stream",
     "text": [
      "Fitting 10 folds for each of 50 candidates, totalling 500 fits\n",
      "Resultados busca - ICQ Alterado\n",
      "Melhor acurácia: 0.9166666666666666\n",
      "Melhor hiperparâmetro: {'estimator__sigma_q_weights': [0.7000000000000001, 0.0, 0.4, 0.1], 'estimator__random_seed': 42, 'estimator__max_iter': 2000, 'estimator__classifier_function': <function create_and_execute_classifier_new_approach at 0x0000016BE1EC08B0>, 'estimator__accuracy_succ': 1.0}\n",
      "Wall time: 7h 20min 35s\n"
     ]
    }
   ],
   "source": [
    "%%time\n",
    "busca = RandomizedSearchCV(icq, params, n_iter=50, scoring='accuracy', n_jobs=-1, cv=cv, random_state=seed, verbose=1)\n",
    "\n",
    "# Executa busca\n",
    "resultado = busca.fit(X_train, y_train)\n",
    "\n",
    "# Resume resultados\n",
    "print('Resultados busca - ICQ Alterado')\n",
    "print('Melhor acurácia: %s' % resultado.best_score_)\n",
    "print('Melhor hiperparâmetro: %s' % resultado.best_params_)"
   ]
  },
  {
   "attachments": {},
   "cell_type": "markdown",
   "metadata": {},
   "source": [
    "# Search for Learning Rates\n",
    "Since we didn't have any result varying the Sigma Q, let's now vary the learning rate param and see what happens."
   ]
  },
  {
   "attachments": {},
   "cell_type": "markdown",
   "metadata": {},
   "source": [
    "## Small subset of learning rates"
   ]
  },
  {
   "cell_type": "code",
   "execution_count": 10,
   "metadata": {},
   "outputs": [],
   "source": [
    "params = dict()\n",
    "params[\"estimator__sigma_q_weights\"] = [[1,1,1,0]]\n",
    "params[\"estimator__classifier_function\"] = [create_and_execute_classifier_new_approach]\n",
    "params[\"estimator__max_iter\"] = [2000]\n",
    "params[\"estimator__random_seed\"] = [seed]\n",
    "params[\"estimator__accuracy_succ\"] = [1.0]\n",
    "params[\"estimator__learning_rate\"] = [0.1, 0.01, 0.001, 0.2, 0.02, 0.002, 0.0001]"
   ]
  },
  {
   "cell_type": "code",
   "execution_count": 11,
   "metadata": {},
   "outputs": [
    {
     "name": "stderr",
     "output_type": "stream",
     "text": [
      "c:\\ProgramData\\Anaconda3\\lib\\site-packages\\sklearn\\model_selection\\_search.py:292: UserWarning: The total space of parameters 7 is smaller than n_iter=10. Running 7 iterations. For exhaustive searches, use GridSearchCV.\n",
      "  warnings.warn(\n"
     ]
    },
    {
     "name": "stdout",
     "output_type": "stream",
     "text": [
      "Resultados busca - ICQ Alterado\n",
      "Melhor acurácia: 0.9583333333333333\n",
      "Melhor hiperparâmetro: {'estimator__sigma_q_weights': [1, 1, 1, 0], 'estimator__random_seed': 42, 'estimator__max_iter': 2000, 'estimator__learning_rate': 0.001, 'estimator__classifier_function': <function create_and_execute_classifier_new_approach at 0x00000280A6918DC0>, 'estimator__accuracy_succ': 1.0}\n",
      "Wall time: 46min 24s\n"
     ]
    }
   ],
   "source": [
    "%%time\n",
    "busca = RandomizedSearchCV(icq, params, n_iter=10, scoring='accuracy', n_jobs=-1, cv=cv, random_state=seed)\n",
    "\n",
    "# Executa busca\n",
    "resultado = busca.fit(X_train, y_train)\n",
    "\n",
    "# Resume resultados\n",
    "print('Resultados busca - ICQ Alterado')\n",
    "print('Melhor acurácia: %s' % resultado.best_score_)\n",
    "print('Melhor hiperparâmetro: %s' % resultado.best_params_)"
   ]
  },
  {
   "attachments": {},
   "cell_type": "markdown",
   "metadata": {},
   "source": [
    "## Biggest subset of learning rates\n",
    "Let's now try with a biggest subset of learning rates, which will take longer, but hopefully will earn better results. We'll try with:\n",
    "- [0.1, 0.2, ..., 0.9]; +\n",
    "- [0.01, 0.2, ..., 0.9]; +\n",
    "- [0.001, 0.002, ..., 0.009]; +\n",
    "- [0.0001, 0.0002, ..., 0.0009]; +\n",
    "- [0.00001, 0.00002, ..., 0.00009]; +\n",
    "- [0.000001, 0.000002, ..., 0.000009];"
   ]
  },
  {
   "cell_type": "code",
   "execution_count": 7,
   "metadata": {},
   "outputs": [],
   "source": [
    "params = dict()\n",
    "params[\"estimator__sigma_q_weights\"] = [[1,1,1,0]]\n",
    "params[\"estimator__classifier_function\"] = [create_and_execute_classifier_new_approach]\n",
    "params[\"estimator__max_iter\"] = [2000]\n",
    "params[\"estimator__random_seed\"] = [seed]\n",
    "params[\"estimator__accuracy_succ\"] = [1.0]\n",
    "params[\"estimator__learning_rate\"] = []\n",
    "for i in range (1, 10):\n",
    "    params[\"estimator__learning_rate\"].append(0.1 * i)\n",
    "    params[\"estimator__learning_rate\"].append(0.01 * i)\n",
    "    params[\"estimator__learning_rate\"].append(0.001 * i)\n",
    "    params[\"estimator__learning_rate\"].append(0.0001 * i)\n",
    "    params[\"estimator__learning_rate\"].append(0.00001 * i)\n",
    "    params[\"estimator__learning_rate\"].append(0.000001 * i)"
   ]
  },
  {
   "cell_type": "code",
   "execution_count": 8,
   "metadata": {},
   "outputs": [
    {
     "name": "stdout",
     "output_type": "stream",
     "text": [
      "Fitting 10 folds for each of 54 candidates, totalling 540 fits\n",
      "Resultados busca - ICQ Alterado\n",
      "Melhor acurácia: 0.9666666666666666\n",
      "Melhor hiperparâmetro: {'estimator__accuracy_succ': 1.0, 'estimator__classifier_function': <function create_and_execute_classifier_new_approach at 0x000001F85E6CE8B0>, 'estimator__learning_rate': 0.0008, 'estimator__max_iter': 2000, 'estimator__random_seed': 42, 'estimator__sigma_q_weights': [1, 1, 1, 0]}\n",
      "Wall time: 8h 24min 59s\n"
     ]
    }
   ],
   "source": [
    "%%time\n",
    "busca = GridSearchCV(icq, params, scoring='accuracy', n_jobs=-1, cv=cv, verbose=10)\n",
    "\n",
    "# Executa busca\n",
    "resultado = busca.fit(X_train, y_train)\n",
    "\n",
    "# Resume resultados\n",
    "print('Resultados busca - ICQ Alterado')\n",
    "print('Melhor acurácia: %s' % resultado.best_score_)\n",
    "print('Melhor hiperparâmetro: %s' % resultado.best_params_)"
   ]
  }
 ],
 "metadata": {
  "kernelspec": {
   "display_name": "base",
   "language": "python",
   "name": "python3"
  },
  "language_info": {
   "codemirror_mode": {
    "name": "ipython",
    "version": 3
   },
   "file_extension": ".py",
   "mimetype": "text/x-python",
   "name": "python",
   "nbconvert_exporter": "python",
   "pygments_lexer": "ipython3",
   "version": "3.9.13"
  },
  "orig_nbformat": 4
 },
 "nbformat": 4,
 "nbformat_minor": 2
}
