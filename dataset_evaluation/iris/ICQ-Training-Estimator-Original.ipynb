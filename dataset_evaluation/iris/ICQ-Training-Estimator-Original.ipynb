{
 "cells": [
  {
   "attachments": {},
   "cell_type": "markdown",
   "id": "aca6976c",
   "metadata": {},
   "source": [
    "## Experimenting agains Iris dataset - Original ICQ Method\n",
    "\n",
    "Runs the original ICQ classifier against Iris dataset, using Stratified 10-Fold cross validation throughout many different random seeds to validate the classifier. At the end of each 10-Fold cross validation, it prints the AVG score and F1-Score for the classifier - and after executing with all different random seeds, the average score/f1-score is also printed."
   ]
  },
  {
   "cell_type": "code",
   "execution_count": null,
   "id": "86a48482",
   "metadata": {},
   "outputs": [],
   "source": [
    "import sys\n",
    "import os\n",
    "sys.path.append(os.path.abspath('../../'))\n",
    "sys.path.append(os.path.abspath('../../models'))\n",
    "sys.path.append(os.path.abspath('../../helpers'))"
   ]
  },
  {
   "cell_type": "code",
   "execution_count": 1,
   "id": "8db20f4f",
   "metadata": {},
   "outputs": [],
   "source": [
    "import numpy as np\n",
    "from helpers.utils import print_metrics, executeIrisOneVsRest\n",
    "from helpers.icq_methods import create_and_execute_classifier"
   ]
  },
  {
   "cell_type": "code",
   "execution_count": 2,
   "id": "bccade9c",
   "metadata": {},
   "outputs": [],
   "source": [
    "import warnings\n",
    "from sklearn.exceptions import UndefinedMetricWarning\n",
    "\n",
    "# We're ignoring some warning from sklearn.metrics.classification_report\n",
    "warnings.simplefilter(action='ignore', category=UndefinedMetricWarning)"
   ]
  },
  {
   "cell_type": "code",
   "execution_count": 3,
   "id": "61a535f5",
   "metadata": {},
   "outputs": [
    {
     "name": "stdout",
     "output_type": "stream",
     "text": [
      "AVG: Scores = 0.6199999999999999 F1-Scores = 0.5642005217005217\n",
      "AVG: Scores = 0.6733333333333333 F1-Scores = 0.638646076146076\n",
      "AVG: Scores = 0.7533333333333333 F1-Scores = 0.737964257964258\n",
      "AVG: Scores = 0.8533333333333335 F1-Scores = 0.845884115884116\n",
      "AVG: Scores = 0.6599999999999999 F1-Scores = 0.6509742109742109\n",
      "AVG: Scores = 0.9533333333333334 F1-Scores = 0.952996632996633\n",
      "AVG: Scores = 0.9666666666666666 F1-Scores = 0.9663299663299663\n",
      "AVG: Scores = 0.76 F1-Scores = 0.7445704295704296\n",
      "AVG: Scores = 0.96 F1-Scores = 0.9595959595959596\n",
      "AVG: Scores = 0.7666666666666666 F1-Scores = 0.738114663114663\n",
      "AVG: Scores = 0.9066666666666666 F1-Scores = 0.9018435268435269\n",
      "AVG: Scores = 0.9533333333333334 F1-Scores = 0.9531313131313132\n",
      "Wall time: 10h 38min 14s\n"
     ]
    }
   ],
   "source": [
    "%%time\n",
    "scores = []\n",
    "f1scores = []\n",
    "for i_random_state in range(10, 70, 5):\n",
    "    curr_scores, curr_f1scores = executeIrisOneVsRest(random_seed=i_random_state,\n",
    "                                                classifier_function=create_and_execute_classifier,\n",
    "                                                sigma_q_weights=[1, 1, 1, 0],\n",
    "                                                max_iter=2000,\n",
    "                                                print_each_fold_metric=False,\n",
    "                                                print_avg_metric=True)\n",
    "    scores.append(np.mean(curr_scores))\n",
    "    f1scores.append(np.mean(curr_f1scores))"
   ]
  },
  {
   "cell_type": "code",
   "execution_count": 4,
   "id": "269541b9",
   "metadata": {},
   "outputs": [
    {
     "name": "stdout",
     "output_type": "stream",
     "text": [
      "Scores: [0.6199999999999999, 0.6733333333333333, 0.7533333333333333, 0.8533333333333335, 0.6599999999999999, 0.9533333333333334, 0.9666666666666666, 0.76, 0.96, 0.7666666666666666, 0.9066666666666666, 0.9533333333333334]\n",
      "Best score: 0.9666666666666666\n",
      "F1-Scores: [0.5642005217005217, 0.638646076146076, 0.737964257964258, 0.845884115884116, 0.6509742109742109, 0.952996632996633, 0.9663299663299663, 0.7445704295704296, 0.9595959595959596, 0.738114663114663, 0.9018435268435269, 0.9531313131313132]\n",
      "Max F1-Score: 0.9663299663299663\n"
     ]
    }
   ],
   "source": [
    "print_metrics(scores, f1scores)"
   ]
  },
  {
   "cell_type": "code",
   "execution_count": 5,
   "id": "3b1a4ff0",
   "metadata": {},
   "outputs": [
    {
     "name": "stdout",
     "output_type": "stream",
     "text": [
      "Avg score: 0.8188888888888889\n",
      "Avg F1-Score: 0.8045209728543062\n"
     ]
    }
   ],
   "source": [
    "print(\"Avg score:\", np.mean(scores))\n",
    "print(\"Avg F1-Score:\", np.mean(f1scores))"
   ]
  }
 ],
 "metadata": {
  "kernelspec": {
   "display_name": "base",
   "language": "python",
   "name": "python3"
  },
  "language_info": {
   "codemirror_mode": {
    "name": "ipython",
    "version": 3
   },
   "file_extension": ".py",
   "mimetype": "text/x-python",
   "name": "python",
   "nbconvert_exporter": "python",
   "pygments_lexer": "ipython3",
   "version": "3.9.13"
  },
  "vscode": {
   "interpreter": {
    "hash": "ad2bdc8ecc057115af97d19610ffacc2b4e99fae6737bb82f5d7fb13d2f2c186"
   }
  }
 },
 "nbformat": 4,
 "nbformat_minor": 5
}
