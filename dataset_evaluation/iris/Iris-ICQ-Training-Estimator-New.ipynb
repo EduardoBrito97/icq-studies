{
 "cells": [
  {
   "attachments": {},
   "cell_type": "markdown",
   "id": "7247aa79",
   "metadata": {},
   "source": [
    "## Experimenting against Iris dataset - Modified ICQ Method\n",
    "\n",
    "Runs the modified ICQ classifier against Iris dataset, using Stratified 10-Fold cross validation throughout many different random seeds to validate the classifier. At the end of each 10-Fold cross validation, it prints the AVG score and F1-Score for the classifier - and after executing with all different random seeds, the average score/f1-score is also printed."
   ]
  },
  {
   "cell_type": "code",
   "execution_count": 3,
   "id": "01a44568",
   "metadata": {},
   "outputs": [],
   "source": [
    "import sys\n",
    "import os\n",
    "sys.path.append(os.path.abspath('../../'))\n",
    "sys.path.append(os.path.abspath('../../models'))\n",
    "sys.path.append(os.path.abspath('../../helpers'))"
   ]
  },
  {
   "cell_type": "code",
   "execution_count": 4,
   "id": "93e369ff",
   "metadata": {},
   "outputs": [],
   "source": [
    "import numpy as np\n",
    "from helpers.utils import print_metrics, executeIrisOneVsRest"
   ]
  },
  {
   "cell_type": "code",
   "execution_count": 5,
   "id": "822d41e7",
   "metadata": {},
   "outputs": [],
   "source": [
    "import warnings\n",
    "from sklearn.exceptions import UndefinedMetricWarning\n",
    "\n",
    "# We're ignoring some warning from sklearn.metrics.classification_report\n",
    "warnings.simplefilter(action='ignore', category=UndefinedMetricWarning)"
   ]
  },
  {
   "attachments": {},
   "cell_type": "markdown",
   "id": "767caaa7",
   "metadata": {},
   "source": [
    "## Normal SigmaQ - sigmaX + sigmaY + sigmaZ"
   ]
  },
  {
   "attachments": {},
   "cell_type": "markdown",
   "id": "7280f789",
   "metadata": {},
   "source": [
    "### Importing function"
   ]
  },
  {
   "cell_type": "code",
   "execution_count": 4,
   "id": "55fd5702",
   "metadata": {},
   "outputs": [],
   "source": [
    "from helpers.icq_executions import execute_classifier_split_input_weight_normal_sigma_q"
   ]
  },
  {
   "attachments": {},
   "cell_type": "markdown",
   "id": "a6c3aad8",
   "metadata": {},
   "source": [
    "### Sigma_Q param = [1, 1, 1]\n",
    "We're first executing this test for different seeds using the same sigma Q as the original one, but with the new approach (having weights on U operator and inputs on rho env)"
   ]
  },
  {
   "cell_type": "code",
   "execution_count": 5,
   "id": "8db20f4f",
   "metadata": {},
   "outputs": [
    {
     "name": "stdout",
     "output_type": "stream",
     "text": [
      "AVG: Scores = 0.9266666666666667 F1-Scores = 0.9246549746549746\n",
      "AVG: Scores = 0.9466666666666667 F1-Scores = 0.9466006216006215\n",
      "AVG: Scores = 0.9200000000000002 F1-Scores = 0.9156399156399158\n",
      "AVG: Scores = 0.9466666666666667 F1-Scores = 0.9457070707070707\n",
      "AVG: Scores = 0.9466666666666667 F1-Scores = 0.9439310689310689\n",
      "AVG: Scores = 0.9333333333333333 F1-Scores = 0.932121212121212\n",
      "AVG: Scores = 0.9199999999999999 F1-Scores = 0.9188228438228438\n",
      "AVG: Scores = 0.96 F1-Scores = 0.9597979797979799\n",
      "AVG: Scores = 0.96 F1-Scores = 0.9595959595959596\n",
      "AVG: Scores = 0.9200000000000002 F1-Scores = 0.918957523957524\n",
      "AVG: Scores = 0.9533333333333334 F1-Scores = 0.9524410774410773\n",
      "AVG: Scores = 0.9133333333333333 F1-Scores = 0.9076479076479076\n",
      "Wall time: 5h 2min 51s\n"
     ]
    }
   ],
   "source": [
    "%%time\n",
    "scores = []\n",
    "f1scores = []\n",
    "for i_random_state in range(10, 70, 5):\n",
    "    curr_scores, curr_f1scores = executeIrisOneVsRest(random_seed=i_random_state,\n",
    "                                                classifier_function=execute_classifier_split_input_weight_normal_sigma_q,\n",
    "                                                sigma_q_weights=[1, 1, 1],\n",
    "                                                max_iter=2000,\n",
    "                                                print_each_fold_metric=False,\n",
    "                                                print_avg_metric=True)\n",
    "    scores.append(np.mean(curr_scores))\n",
    "    f1scores.append(np.mean(curr_f1scores))"
   ]
  },
  {
   "cell_type": "code",
   "execution_count": 6,
   "id": "4044424c",
   "metadata": {},
   "outputs": [
    {
     "name": "stdout",
     "output_type": "stream",
     "text": [
      "Scores: [0.9266666666666667, 0.9466666666666667, 0.9200000000000002, 0.9466666666666667, 0.9466666666666667, 0.9333333333333333, 0.9199999999999999, 0.96, 0.96, 0.9200000000000002, 0.9533333333333334, 0.9133333333333333]\n",
      "Best score: 0.96\n",
      "F1-Scores: [0.9246549746549746, 0.9466006216006215, 0.9156399156399158, 0.9457070707070707, 0.9439310689310689, 0.932121212121212, 0.9188228438228438, 0.9597979797979799, 0.9595959595959596, 0.918957523957524, 0.9524410774410773, 0.9076479076479076]\n",
      "Max F1-Score: 0.9597979797979799\n",
      "Avg score: 0.9372222222222223\n",
      "Avg F1-Score: 0.9354931796598464\n"
     ]
    }
   ],
   "source": [
    "print_metrics(scores, f1scores)"
   ]
  },
  {
   "attachments": {},
   "cell_type": "markdown",
   "id": "dd66e695",
   "metadata": {},
   "source": [
    "### Different Sigma Q\n",
    "On [ICQ-Training-Estimator-New-Research Notebook](ICQ-Training-Estimator-New-Research.ipynb), the first research we do is about varying the Sigma_Q params - having different values apart from [1, 1, 1] (which is the original one), and the best result we have is [12, 3, 3] with highest accuracy as 0.933 - therefore we don't expect to have an improvement right now, but we still do the test."
   ]
  },
  {
   "attachments": {},
   "cell_type": "markdown",
   "id": "88675ccf",
   "metadata": {},
   "source": [
    "#### Integer params"
   ]
  },
  {
   "cell_type": "code",
   "execution_count": 7,
   "id": "bff9d65f",
   "metadata": {},
   "outputs": [
    {
     "name": "stdout",
     "output_type": "stream",
     "text": [
      "AVG: Scores = 0.7533333333333333 F1-Scores = 0.7158781033781033\n",
      "AVG: Scores = 0.7733333333333334 F1-Scores = 0.7499847374847375\n",
      "AVG: Scores = 0.7866666666666667 F1-Scores = 0.7517824767824768\n",
      "AVG: Scores = 0.7933333333333332 F1-Scores = 0.7624255374255374\n",
      "AVG: Scores = 0.7733333333333333 F1-Scores = 0.7382173382173383\n",
      "AVG: Scores = 0.7933333333333333 F1-Scores = 0.7647556147556147\n",
      "AVG: Scores = 0.7933333333333332 F1-Scores = 0.7624847374847376\n",
      "AVG: Scores = 0.7866666666666667 F1-Scores = 0.7543956043956044\n",
      "AVG: Scores = 0.7866666666666666 F1-Scores = 0.7615588115588116\n",
      "AVG: Scores = 0.7933333333333333 F1-Scores = 0.7611740111740112\n",
      "AVG: Scores = 0.7933333333333332 F1-Scores = 0.7688700188700188\n",
      "AVG: Scores = 0.78 F1-Scores = 0.7524438524438525\n",
      "Wall time: 4h 22min 9s\n"
     ]
    }
   ],
   "source": [
    "%%time\n",
    "scores = []\n",
    "f1scores = []\n",
    "for i_random_state in range(10, 70, 5):\n",
    "    curr_scores, curr_f1scores = executeIrisOneVsRest(random_seed=i_random_state,\n",
    "                                                classifier_function=execute_classifier_split_input_weight_normal_sigma_q,\n",
    "                                                sigma_q_weights=[12, 3, 3],\n",
    "                                                max_iter=2000,\n",
    "                                                print_each_fold_metric=False,\n",
    "                                                print_avg_metric=True)\n",
    "    scores.append(np.mean(curr_scores))\n",
    "    f1scores.append(np.mean(curr_f1scores))"
   ]
  },
  {
   "cell_type": "code",
   "execution_count": 8,
   "id": "a35c4656",
   "metadata": {},
   "outputs": [
    {
     "name": "stdout",
     "output_type": "stream",
     "text": [
      "Scores: [0.7533333333333333, 0.7733333333333334, 0.7866666666666667, 0.7933333333333332, 0.7733333333333333, 0.7933333333333333, 0.7933333333333332, 0.7866666666666667, 0.7866666666666666, 0.7933333333333333, 0.7933333333333332, 0.78]\n",
      "Best score: 0.7933333333333333\n",
      "F1-Scores: [0.7158781033781033, 0.7499847374847375, 0.7517824767824768, 0.7624255374255374, 0.7382173382173383, 0.7647556147556147, 0.7624847374847376, 0.7543956043956044, 0.7615588115588116, 0.7611740111740112, 0.7688700188700188, 0.7524438524438525]\n",
      "Max F1-Score: 0.7688700188700188\n",
      "Avg score: 0.7838888888888889\n",
      "Avg F1-Score: 0.7536642369975702\n"
     ]
    }
   ],
   "source": [
    "print_metrics(scores, f1scores)"
   ]
  },
  {
   "attachments": {},
   "cell_type": "markdown",
   "id": "b9611631",
   "metadata": {},
   "source": [
    "#### Float params"
   ]
  },
  {
   "attachments": {},
   "cell_type": "markdown",
   "id": "f1d136fe",
   "metadata": {},
   "source": [
    "For the float params, we have the best score to be 0.95833, so it could be that we have an improvement here. This happens for the param [0.7, 0.4, 0]"
   ]
  },
  {
   "cell_type": "code",
   "execution_count": 9,
   "id": "4372cfe8",
   "metadata": {},
   "outputs": [
    {
     "name": "stdout",
     "output_type": "stream",
     "text": [
      "AVG: Scores = 0.9533333333333334 F1-Scores = 0.9529137529137529\n",
      "AVG: Scores = 0.9533333333333335 F1-Scores = 0.952996632996633\n",
      "AVG: Scores = 0.9533333333333334 F1-Scores = 0.9524410774410773\n",
      "AVG: Scores = 0.9333333333333333 F1-Scores = 0.9323063973063972\n",
      "AVG: Scores = 0.9400000000000001 F1-Scores = 0.9388215488215488\n",
      "AVG: Scores = 0.9600000000000002 F1-Scores = 0.9597306397306398\n",
      "AVG: Scores = 0.9333333333333333 F1-Scores = 0.9317340067340065\n",
      "AVG: Scores = 0.9533333333333334 F1-Scores = 0.9519360269360269\n",
      "AVG: Scores = 0.9466666666666667 F1-Scores = 0.9448569948569949\n",
      "AVG: Scores = 0.9266666666666667 F1-Scores = 0.9253198653198653\n",
      "AVG: Scores = 0.9466666666666667 F1-Scores = 0.9457070707070706\n",
      "AVG: Scores = 0.9600000000000002 F1-Scores = 0.9588215488215488\n",
      "Wall time: 3h 49min 30s\n"
     ]
    }
   ],
   "source": [
    "%%time\n",
    "scores = []\n",
    "f1scores = []\n",
    "for i_random_state in range(10, 70, 5):\n",
    "    curr_scores, curr_f1scores = executeIrisOneVsRest(random_seed=i_random_state,\n",
    "                                                classifier_function=execute_classifier_split_input_weight_normal_sigma_q,\n",
    "                                                sigma_q_weights=[0.7, 0.4, 0.0],\n",
    "                                                max_iter=2000,\n",
    "                                                print_each_fold_metric=False,\n",
    "                                                print_avg_metric=True)\n",
    "    scores.append(np.mean(curr_scores))\n",
    "    f1scores.append(np.mean(curr_f1scores))"
   ]
  },
  {
   "cell_type": "code",
   "execution_count": 10,
   "id": "d1b8eda5",
   "metadata": {},
   "outputs": [
    {
     "name": "stdout",
     "output_type": "stream",
     "text": [
      "Scores: [0.9533333333333334, 0.9533333333333335, 0.9533333333333334, 0.9333333333333333, 0.9400000000000001, 0.9600000000000002, 0.9333333333333333, 0.9533333333333334, 0.9466666666666667, 0.9266666666666667, 0.9466666666666667, 0.9600000000000002]\n",
      "Best score: 0.9600000000000002\n",
      "F1-Scores: [0.9529137529137529, 0.952996632996633, 0.9524410774410773, 0.9323063973063972, 0.9388215488215488, 0.9597306397306398, 0.9317340067340065, 0.9519360269360269, 0.9448569948569949, 0.9253198653198653, 0.9457070707070706, 0.9588215488215488]\n",
      "Max F1-Score: 0.9597306397306398\n",
      "Avg score: 0.9466666666666668\n",
      "Avg F1-Score: 0.9456321302154636\n"
     ]
    }
   ],
   "source": [
    "print_metrics(scores, f1scores)"
   ]
  },
  {
   "attachments": {},
   "cell_type": "markdown",
   "id": "41878bfb",
   "metadata": {},
   "source": [
    "### Search results for Learning Rate"
   ]
  },
  {
   "attachments": {},
   "cell_type": "markdown",
   "id": "916374bc",
   "metadata": {},
   "source": [
    "#### Small subset of learning rates\n",
    "The very first result we get is learning_rate = 0.002, which is different from the article's best 0.01. Let's see how our model deals with that."
   ]
  },
  {
   "cell_type": "code",
   "execution_count": 11,
   "id": "d5175e1d",
   "metadata": {},
   "outputs": [
    {
     "name": "stdout",
     "output_type": "stream",
     "text": [
      "AVG: Scores = 0.9200000000000002 F1-Scores = 0.9188228438228437\n",
      "AVG: Scores = 0.9533333333333334 F1-Scores = 0.9524410774410773\n",
      "AVG: Scores = 0.9533333333333334 F1-Scores = 0.9525757575757575\n",
      "AVG: Scores = 0.9400000000000001 F1-Scores = 0.9387878787878788\n",
      "AVG: Scores = 0.9333333333333333 F1-Scores = 0.9319528619528619\n",
      "AVG: Scores = 0.9466666666666667 F1-Scores = 0.9463299663299664\n",
      "AVG: Scores = 0.9466666666666667 F1-Scores = 0.9462121212121211\n",
      "AVG: Scores = 0.9 F1-Scores = 0.8918651718651718\n",
      "AVG: Scores = 0.9533333333333334 F1-Scores = 0.9521380471380472\n",
      "AVG: Scores = 0.9666666666666668 F1-Scores = 0.9665319865319866\n",
      "AVG: Scores = 0.9266666666666667 F1-Scores = 0.9212506012506013\n",
      "AVG: Scores = 0.9600000000000002 F1-Scores = 0.9597979797979799\n",
      "Wall time: 3h 58min 14s\n"
     ]
    }
   ],
   "source": [
    "%%time\n",
    "scores = []\n",
    "f1scores = []\n",
    "for i_random_state in range(10, 70, 5):\n",
    "    curr_scores, curr_f1scores = executeIrisOneVsRest(random_seed=i_random_state,\n",
    "                                                classifier_function=execute_classifier_split_input_weight_normal_sigma_q,\n",
    "                                                sigma_q_weights=[1, 1, 1],\n",
    "                                                max_iter=2000,\n",
    "                                                print_each_fold_metric=False,\n",
    "                                                print_avg_metric=True,\n",
    "                                                learning_rate=0.002)\n",
    "    scores.append(np.mean(curr_scores))\n",
    "    f1scores.append(np.mean(curr_f1scores))"
   ]
  },
  {
   "cell_type": "code",
   "execution_count": 12,
   "id": "3f334753",
   "metadata": {},
   "outputs": [
    {
     "name": "stdout",
     "output_type": "stream",
     "text": [
      "Scores: [0.9200000000000002, 0.9533333333333334, 0.9533333333333334, 0.9400000000000001, 0.9333333333333333, 0.9466666666666667, 0.9466666666666667, 0.9, 0.9533333333333334, 0.9666666666666668, 0.9266666666666667, 0.9600000000000002]\n",
      "Best score: 0.9666666666666668\n",
      "F1-Scores: [0.9188228438228437, 0.9524410774410773, 0.9525757575757575, 0.9387878787878788, 0.9319528619528619, 0.9463299663299664, 0.9462121212121211, 0.8918651718651718, 0.9521380471380472, 0.9665319865319866, 0.9212506012506013, 0.9597979797979799]\n",
      "Max F1-Score: 0.9665319865319866\n",
      "Avg score: 0.9416666666666668\n",
      "Avg F1-Score: 0.9398921911421912\n"
     ]
    }
   ],
   "source": [
    "print_metrics(scores, f1scores)"
   ]
  },
  {
   "attachments": {},
   "cell_type": "markdown",
   "id": "44ab734d",
   "metadata": {},
   "source": [
    "It seems that we managed to improve a bit more our model, as our first result was avg score 0.9266 and now we got 0.9361 - almost 1% more. Let's keep researching!"
   ]
  },
  {
   "attachments": {},
   "cell_type": "markdown",
   "id": "e4edfe34",
   "metadata": {},
   "source": [
    "#### Biggest subset of learning rates\n",
    "After our big research on [ICQ-Training-Estimator-New-Research Notebook](ICQ-Training-Estimator-New-Research.ipynb), we reached the conclusion that the learning rate of 0.002 still is the best one. So lets keep going on."
   ]
  },
  {
   "attachments": {},
   "cell_type": "markdown",
   "id": "67e20559",
   "metadata": {},
   "source": [
    "#### Best learning rate and best sigmaQ param"
   ]
  },
  {
   "attachments": {},
   "cell_type": "markdown",
   "id": "124043be",
   "metadata": {},
   "source": [
    "Now let's try to find the best learning rate for our best sigmaQ, which was [0.7, 0.4, 0.0]. Our research indicates that this learning rate is 0.01, which is exactly the default one (already researched). \n",
    "\n",
    "What happens then when we try to find the best SigmaQ for the best learning rate (0.002)? Our research indicates that the best params are rather [0.0, 0.7, 0.9] instead of the original [0.7, 0.4, 0.0]. Let's see how it goes!"
   ]
  },
  {
   "cell_type": "code",
   "execution_count": 13,
   "id": "d980ee25",
   "metadata": {},
   "outputs": [
    {
     "name": "stdout",
     "output_type": "stream",
     "text": [
      "AVG: Scores = 0.9466666666666667 F1-Scores = 0.9448653198653199\n",
      "AVG: Scores = 0.8866666666666667 F1-Scores = 0.8830887630887633\n",
      "AVG: Scores = 0.9333333333333333 F1-Scores = 0.9318181818181819\n",
      "AVG: Scores = 0.9200000000000002 F1-Scores = 0.9195959595959596\n",
      "AVG: Scores = 0.8600000000000001 F1-Scores = 0.8570875420875421\n",
      "AVG: Scores = 0.9600000000000002 F1-Scores = 0.9597306397306398\n",
      "AVG: Scores = 0.9533333333333334 F1-Scores = 0.9533670033670033\n",
      "AVG: Scores = 0.96 F1-Scores = 0.9587373737373737\n",
      "AVG: Scores = 0.96 F1-Scores = 0.9597306397306398\n",
      "AVG: Scores = 0.9733333333333334 F1-Scores = 0.9731313131313131\n",
      "AVG: Scores = 0.8866666666666665 F1-Scores = 0.8810186110186109\n",
      "AVG: Scores = 0.9666666666666668 F1-Scores = 0.9659764309764309\n",
      "Wall time: 4h 2min 54s\n"
     ]
    }
   ],
   "source": [
    "%%time\n",
    "scores = []\n",
    "f1scores = []\n",
    "for i_random_state in range(10, 70, 5):\n",
    "    curr_scores, curr_f1scores = executeIrisOneVsRest(random_seed=i_random_state,\n",
    "                                                classifier_function=execute_classifier_split_input_weight_normal_sigma_q,\n",
    "                                                sigma_q_weights=[0.0, 0.7, 0.9],\n",
    "                                                max_iter=2000,\n",
    "                                                print_each_fold_metric=False,\n",
    "                                                print_avg_metric=True,\n",
    "                                                learning_rate=0.002)\n",
    "    scores.append(np.mean(curr_scores))\n",
    "    f1scores.append(np.mean(curr_f1scores))"
   ]
  },
  {
   "cell_type": "code",
   "execution_count": 14,
   "id": "9d338dc0",
   "metadata": {},
   "outputs": [
    {
     "name": "stdout",
     "output_type": "stream",
     "text": [
      "Scores: [0.9466666666666667, 0.8866666666666667, 0.9333333333333333, 0.9200000000000002, 0.8600000000000001, 0.9600000000000002, 0.9533333333333334, 0.96, 0.96, 0.9733333333333334, 0.8866666666666665, 0.9666666666666668]\n",
      "Best score: 0.9733333333333334\n",
      "F1-Scores: [0.9448653198653199, 0.8830887630887633, 0.9318181818181819, 0.9195959595959596, 0.8570875420875421, 0.9597306397306398, 0.9533670033670033, 0.9587373737373737, 0.9597306397306398, 0.9731313131313131, 0.8810186110186109, 0.9659764309764309]\n",
      "Max F1-Score: 0.9731313131313131\n",
      "Avg score: 0.9338888888888888\n",
      "Avg F1-Score: 0.9323456481789815\n"
     ]
    }
   ],
   "source": [
    "print_metrics(scores, f1scores)"
   ]
  },
  {
   "attachments": {},
   "cell_type": "markdown",
   "id": "87a7e006",
   "metadata": {},
   "source": [
    "### Conclusion"
   ]
  },
  {
   "attachments": {},
   "cell_type": "markdown",
   "id": "8529fa0e",
   "metadata": {},
   "source": [
    "Our current best result is:\n",
    "- Sigma Q params = [0.7, 0.4, 0]\n",
    "- Learning rate = 0.01\n",
    "- \\# of training epochs = 2000"
   ]
  },
  {
   "attachments": {},
   "cell_type": "markdown",
   "id": "74c5fc9d",
   "metadata": {},
   "source": [
    "## Polar coordinates SigmaQ\n",
    "Let's see now how does our classifier behaves with sigmaQ = rx\\*sigmaX + ry\\*sigmaY + rz\\*sigmaZ"
   ]
  },
  {
   "attachments": {},
   "cell_type": "markdown",
   "id": "87a2852f",
   "metadata": {},
   "source": [
    "### Importing method"
   ]
  },
  {
   "cell_type": "code",
   "execution_count": 6,
   "id": "e0c0382a",
   "metadata": {},
   "outputs": [],
   "source": [
    "from helpers.icq_executions import execute_classifier_split_input_weight_polar_sigma_q"
   ]
  },
  {
   "attachments": {},
   "cell_type": "markdown",
   "id": "d441271b",
   "metadata": {},
   "source": [
    "### Initial execution (sigmaQ = [1, pi/4, pi/4])"
   ]
  },
  {
   "cell_type": "code",
   "execution_count": 17,
   "id": "1239a63f",
   "metadata": {},
   "outputs": [
    {
     "name": "stdout",
     "output_type": "stream",
     "text": [
      "AVG: Scores = 0.8866666666666667 F1-Scores = 0.8843110593110592\n",
      "AVG: Scores = 0.9333333333333332 F1-Scores = 0.9313973063973062\n",
      "AVG: Scores = 0.9200000000000002 F1-Scores = 0.9184848484848486\n",
      "AVG: Scores = 0.9400000000000001 F1-Scores = 0.9397138047138046\n",
      "AVG: Scores = 0.9400000000000001 F1-Scores = 0.9388215488215488\n",
      "AVG: Scores = 0.9600000000000002 F1-Scores = 0.9597306397306398\n",
      "AVG: Scores = 0.9533333333333334 F1-Scores = 0.9524410774410773\n",
      "AVG: Scores = 0.9400000000000001 F1-Scores = 0.9378199578199578\n",
      "AVG: Scores = 0.9466666666666667 F1-Scores = 0.9462121212121213\n",
      "AVG: Scores = 0.8999999999999998 F1-Scores = 0.8991919191919191\n",
      "AVG: Scores = 0.9133333333333334 F1-Scores = 0.9114983164983164\n",
      "AVG: Scores = 0.9533333333333334 F1-Scores = 0.9520875420875422\n",
      "Wall time: 4h 50min 4s\n"
     ]
    }
   ],
   "source": [
    "%%time\n",
    "scores = []\n",
    "f1scores = []\n",
    "for i_random_state in range(10, 70, 5):\n",
    "    curr_scores, curr_f1scores = executeIrisOneVsRest(random_seed=i_random_state,\n",
    "                                                classifier_function=execute_classifier_split_input_weight_polar_sigma_q,\n",
    "                                                sigma_q_weights=[1, np.pi/4, np.pi/4],\n",
    "                                                max_iter=2000,\n",
    "                                                print_each_fold_metric=False,\n",
    "                                                print_avg_metric=True)\n",
    "    scores.append(np.mean(curr_scores))\n",
    "    f1scores.append(np.mean(curr_f1scores))"
   ]
  },
  {
   "cell_type": "code",
   "execution_count": 18,
   "id": "fb24ce07",
   "metadata": {},
   "outputs": [
    {
     "name": "stdout",
     "output_type": "stream",
     "text": [
      "Scores: [0.8866666666666667, 0.9333333333333332, 0.9200000000000002, 0.9400000000000001, 0.9400000000000001, 0.9600000000000002, 0.9533333333333334, 0.9400000000000001, 0.9466666666666667, 0.8999999999999998, 0.9133333333333334, 0.9533333333333334]\n",
      "Best score: 0.9600000000000002\n",
      "F1-Scores: [0.8843110593110592, 0.9313973063973062, 0.9184848484848486, 0.9397138047138046, 0.9388215488215488, 0.9597306397306398, 0.9524410774410773, 0.9378199578199578, 0.9462121212121213, 0.8991919191919191, 0.9114983164983164, 0.9520875420875422]\n",
      "Max F1-Score: 0.9597306397306398\n",
      "Avg score: 0.9322222222222224\n",
      "Avg F1-Score: 0.9309758451425117\n"
     ]
    }
   ],
   "source": [
    "print_metrics(scores, f1scores)"
   ]
  },
  {
   "attachments": {},
   "cell_type": "markdown",
   "id": "2e68bc2e",
   "metadata": {},
   "source": [
    "### Research result"
   ]
  },
  {
   "cell_type": "code",
   "execution_count": 7,
   "id": "bbf65d07",
   "metadata": {},
   "outputs": [
    {
     "name": "stdout",
     "output_type": "stream",
     "text": [
      "AVG: Scores = 0.9533333333333334 F1-Scores = 0.9524410774410775\n",
      "AVG: Scores = 0.9600000000000002 F1-Scores = 0.9597306397306398\n",
      "AVG: Scores = 0.9400000000000001 F1-Scores = 0.9395286195286194\n",
      "AVG: Scores = 0.9266666666666667 F1-Scores = 0.9250841750841751\n",
      "AVG: Scores = 0.9400000000000001 F1-Scores = 0.9385521885521886\n",
      "AVG: Scores = 0.9466666666666667 F1-Scores = 0.9462626262626262\n",
      "AVG: Scores = 0.9266666666666665 F1-Scores = 0.9251359751359752\n",
      "AVG: Scores = 0.9466666666666667 F1-Scores = 0.946127946127946\n",
      "AVG: Scores = 0.9533333333333334 F1-Scores = 0.9530808080808081\n",
      "AVG: Scores = 0.9466666666666669 F1-Scores = 0.9458754208754208\n",
      "AVG: Scores = 0.9400000000000001 F1-Scores = 0.9397138047138048\n",
      "AVG: Scores = 0.9333333333333333 F1-Scores = 0.931085951085951\n",
      "Wall time: 4h 40min 41s\n"
     ]
    }
   ],
   "source": [
    "%%time\n",
    "scores = []\n",
    "f1scores = []\n",
    "for i_random_state in range(10, 70, 5):\n",
    "    curr_scores, curr_f1scores = executeIrisOneVsRest(random_seed=i_random_state,\n",
    "                                                classifier_function=execute_classifier_split_input_weight_polar_sigma_q,\n",
    "                                                sigma_q_weights=[1, 1.2, 2.8],\n",
    "                                                max_iter=2000,\n",
    "                                                print_each_fold_metric=False,\n",
    "                                                print_avg_metric=True,\n",
    "                                                learning_rate=0.04)\n",
    "    scores.append(np.mean(curr_scores))\n",
    "    f1scores.append(np.mean(curr_f1scores))"
   ]
  },
  {
   "cell_type": "code",
   "execution_count": 8,
   "id": "560f4939",
   "metadata": {},
   "outputs": [
    {
     "name": "stdout",
     "output_type": "stream",
     "text": [
      "Scores: [0.9533333333333334, 0.9600000000000002, 0.9400000000000001, 0.9266666666666667, 0.9400000000000001, 0.9466666666666667, 0.9266666666666665, 0.9466666666666667, 0.9533333333333334, 0.9466666666666669, 0.9400000000000001, 0.9333333333333333]\n",
      "Best score: 0.9600000000000002\n",
      "F1-Scores: [0.9524410774410775, 0.9597306397306398, 0.9395286195286194, 0.9250841750841751, 0.9385521885521886, 0.9462626262626262, 0.9251359751359752, 0.946127946127946, 0.9530808080808081, 0.9458754208754208, 0.9397138047138048, 0.931085951085951]\n",
      "Max F1-Score: 0.9597306397306398\n",
      "Avg score: 0.9427777777777778\n",
      "Avg F1-Score: 0.9418849360516027\n"
     ]
    }
   ],
   "source": [
    "print_metrics(scores, f1scores)"
   ]
  }
 ],
 "metadata": {
  "kernelspec": {
   "display_name": "base",
   "language": "python",
   "name": "python3"
  },
  "language_info": {
   "codemirror_mode": {
    "name": "ipython",
    "version": 3
   },
   "file_extension": ".py",
   "mimetype": "text/x-python",
   "name": "python",
   "nbconvert_exporter": "python",
   "pygments_lexer": "ipython3",
   "version": "3.9.13"
  },
  "vscode": {
   "interpreter": {
    "hash": "ad2bdc8ecc057115af97d19610ffacc2b4e99fae6737bb82f5d7fb13d2f2c186"
   }
  }
 },
 "nbformat": 4,
 "nbformat_minor": 5
}
