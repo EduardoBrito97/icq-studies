{
 "cells": [
  {
   "cell_type": "code",
   "execution_count": 1,
   "id": "0db239e0",
   "metadata": {},
   "outputs": [
    {
     "name": "stderr",
     "output_type": "stream",
     "text": [
      "Intel(R) Extension for Scikit-learn* enabled (https://github.com/intel/scikit-learn-intelex)\n"
     ]
    }
   ],
   "source": [
    "import sys, os\n",
    "sys.path.append(os.path.abspath('../../classifiers'))\n",
    "sys.path.append(os.path.abspath('../../training'))\n",
    "sys.path.append(os.path.abspath('../../validation'))\n",
    "from validation_functions import execute_training_test_k_fold\n",
    "from classifiers_ICQ import iqc_classifier\n",
    "\n",
    "from sklearn.multiclass import OneVsRestClassifier\n",
    "import numpy as np\n",
    "import load_caesarian\n",
    "\n",
    "X, y = load_caesarian.get_dataset()\n",
    "X = np.c_[X, np.ones((80,3))] # 1 - padding, 3 times, so it reaches 8 attributes (5 original + 3 fakes)"
   ]
  },
  {
   "cell_type": "code",
   "execution_count": 2,
   "id": "1ad66125",
   "metadata": {},
   "outputs": [],
   "source": [
    "classifier_function = iqc_classifier\n",
    "dic_classifier_params = {}\n",
    "dic_classifier_params[\"sigma_q_params\"] = [1,1,1,1]\n",
    "dic_classifier_params[\"use_polar_coordinates_on_sigma_q\"] = False\n",
    "dic_classifier_params[\"load_inputvector_env_state\"] = True\n",
    "dic_classifier_params[\"normalize_axis\"] = 0\n",
    "dic_classifier_params[\"use_exponential_on_input\"] = True\n",
    "\n",
    "dic_training_params = {\"max_iter\": 1000,\n",
    "    \"accuracy_succ\": 0.99,\n",
    "    \"plot_graphs_and_metrics\": False,\n",
    "    \"plot_graphs_in_classifier\": False,\n",
    "    \"random_seed\": 1,\n",
    "    \"learning_rate\": 0.01,\n",
    "    \"refit_db\":True,\n",
    "    \"reset_weights_epoch\":0,\n",
    "    \"do_classes_refit\":True,\n",
    "    \"batch\":False}\n",
    "\n",
    "n_times_kfold = 20\n",
    "k_times_fold = 10"
   ]
  },
  {
   "cell_type": "code",
   "execution_count": 3,
   "id": "8522d868",
   "metadata": {},
   "outputs": [
    {
     "name": "stderr",
     "output_type": "stream",
     "text": [
      "[Parallel(n_jobs=-1)]: Using backend LokyBackend with 12 concurrent workers.\n",
      "[Parallel(n_jobs=-1)]: Done   1 out of   1 | elapsed:   36.5s finished\n",
      "[Parallel(n_jobs=-1)]: Using backend LokyBackend with 12 concurrent workers.\n"
     ]
    },
    {
     "name": "stdout",
     "output_type": "stream",
     "text": [
      "K-Fold #0\n",
      "Mean negativities for all classes: [0.09212397724751276]\n",
      "Mean entropies for all classes: [5.349858917228885e-15]\n",
      "              precision    recall  f1-score   support\n",
      "\n",
      "           0       0.67      1.00      0.80         4\n",
      "           1       1.00      0.50      0.67         4\n",
      "\n",
      "    accuracy                           0.75         8\n",
      "   macro avg       0.83      0.75      0.73         8\n",
      "weighted avg       0.83      0.75      0.73         8\n",
      "\n",
      "-------------------------------------------------------------------------------------------------------------------\n"
     ]
    },
    {
     "name": "stderr",
     "output_type": "stream",
     "text": [
      "[Parallel(n_jobs=-1)]: Done   1 out of   1 | elapsed:   34.0s finished\n",
      "[Parallel(n_jobs=-1)]: Using backend LokyBackend with 12 concurrent workers.\n"
     ]
    },
    {
     "name": "stdout",
     "output_type": "stream",
     "text": [
      "K-Fold #1\n",
      "Mean negativities for all classes: [0.0916395179411904]\n",
      "Mean entropies for all classes: [7.592380761769948e-15]\n",
      "              precision    recall  f1-score   support\n",
      "\n",
      "           0       0.67      0.50      0.57         4\n",
      "           1       0.60      0.75      0.67         4\n",
      "\n",
      "    accuracy                           0.62         8\n",
      "   macro avg       0.63      0.62      0.62         8\n",
      "weighted avg       0.63      0.62      0.62         8\n",
      "\n",
      "-------------------------------------------------------------------------------------------------------------------\n"
     ]
    },
    {
     "name": "stderr",
     "output_type": "stream",
     "text": [
      "[Parallel(n_jobs=-1)]: Done   1 out of   1 | elapsed:   33.9s finished\n",
      "[Parallel(n_jobs=-1)]: Using backend LokyBackend with 12 concurrent workers.\n"
     ]
    },
    {
     "name": "stdout",
     "output_type": "stream",
     "text": [
      "K-Fold #2\n",
      "Mean negativities for all classes: [0.2236582352291064]\n",
      "Mean entropies for all classes: [5.949493792820789e-15]\n",
      "              precision    recall  f1-score   support\n",
      "\n",
      "           0       0.50      0.50      0.50         4\n",
      "           1       0.50      0.50      0.50         4\n",
      "\n",
      "    accuracy                           0.50         8\n",
      "   macro avg       0.50      0.50      0.50         8\n",
      "weighted avg       0.50      0.50      0.50         8\n",
      "\n",
      "-------------------------------------------------------------------------------------------------------------------\n"
     ]
    },
    {
     "name": "stderr",
     "output_type": "stream",
     "text": [
      "[Parallel(n_jobs=-1)]: Done   1 out of   1 | elapsed:   34.2s finished\n",
      "[Parallel(n_jobs=-1)]: Using backend LokyBackend with 12 concurrent workers.\n"
     ]
    },
    {
     "name": "stdout",
     "output_type": "stream",
     "text": [
      "K-Fold #3\n",
      "Mean negativities for all classes: [0.10164413981418798]\n",
      "Mean entropies for all classes: [6.359085487391143e-15]\n",
      "              precision    recall  f1-score   support\n",
      "\n",
      "           0       0.67      1.00      0.80         4\n",
      "           1       1.00      0.50      0.67         4\n",
      "\n",
      "    accuracy                           0.75         8\n",
      "   macro avg       0.83      0.75      0.73         8\n",
      "weighted avg       0.83      0.75      0.73         8\n",
      "\n",
      "-------------------------------------------------------------------------------------------------------------------\n"
     ]
    },
    {
     "name": "stderr",
     "output_type": "stream",
     "text": [
      "[Parallel(n_jobs=-1)]: Done   1 out of   1 | elapsed:   33.3s finished\n",
      "[Parallel(n_jobs=-1)]: Using backend LokyBackend with 12 concurrent workers.\n"
     ]
    },
    {
     "name": "stdout",
     "output_type": "stream",
     "text": [
      "K-Fold #4\n",
      "Mean negativities for all classes: [0.09353726136444893]\n",
      "Mean entropies for all classes: [7.171482336248102e-15]\n",
      "              precision    recall  f1-score   support\n",
      "\n",
      "           0       0.33      0.67      0.44         3\n",
      "           1       0.50      0.20      0.29         5\n",
      "\n",
      "    accuracy                           0.38         8\n",
      "   macro avg       0.42      0.43      0.37         8\n",
      "weighted avg       0.44      0.38      0.35         8\n",
      "\n",
      "-------------------------------------------------------------------------------------------------------------------\n"
     ]
    },
    {
     "name": "stderr",
     "output_type": "stream",
     "text": [
      "[Parallel(n_jobs=-1)]: Done   1 out of   1 | elapsed:   33.3s finished\n",
      "[Parallel(n_jobs=-1)]: Using backend LokyBackend with 12 concurrent workers.\n"
     ]
    },
    {
     "name": "stdout",
     "output_type": "stream",
     "text": [
      "K-Fold #5\n",
      "Mean negativities for all classes: [0.09136908846718884]\n",
      "Mean entropies for all classes: [6.093870534314157e-15]\n",
      "              precision    recall  f1-score   support\n",
      "\n",
      "           0       0.60      1.00      0.75         3\n",
      "           1       1.00      0.60      0.75         5\n",
      "\n",
      "    accuracy                           0.75         8\n",
      "   macro avg       0.80      0.80      0.75         8\n",
      "weighted avg       0.85      0.75      0.75         8\n",
      "\n",
      "-------------------------------------------------------------------------------------------------------------------\n"
     ]
    },
    {
     "name": "stderr",
     "output_type": "stream",
     "text": [
      "[Parallel(n_jobs=-1)]: Done   1 out of   1 | elapsed:   33.4s finished\n",
      "[Parallel(n_jobs=-1)]: Using backend LokyBackend with 12 concurrent workers.\n"
     ]
    },
    {
     "name": "stdout",
     "output_type": "stream",
     "text": [
      "K-Fold #6\n",
      "Mean negativities for all classes: [0.09190807054012456]\n",
      "Mean entropies for all classes: [6.108692924176041e-15]\n",
      "              precision    recall  f1-score   support\n",
      "\n",
      "           0       0.50      0.67      0.57         3\n",
      "           1       0.75      0.60      0.67         5\n",
      "\n",
      "    accuracy                           0.62         8\n",
      "   macro avg       0.62      0.63      0.62         8\n",
      "weighted avg       0.66      0.62      0.63         8\n",
      "\n",
      "-------------------------------------------------------------------------------------------------------------------\n"
     ]
    },
    {
     "name": "stderr",
     "output_type": "stream",
     "text": [
      "[Parallel(n_jobs=-1)]: Done   1 out of   1 | elapsed:   34.2s finished\n",
      "[Parallel(n_jobs=-1)]: Using backend LokyBackend with 12 concurrent workers.\n"
     ]
    },
    {
     "name": "stdout",
     "output_type": "stream",
     "text": [
      "K-Fold #7\n",
      "Mean negativities for all classes: [0.09184938993043625]\n",
      "Mean entropies for all classes: [6.052907800722499e-15]\n",
      "              precision    recall  f1-score   support\n",
      "\n",
      "           0       0.50      0.67      0.57         3\n",
      "           1       0.75      0.60      0.67         5\n",
      "\n",
      "    accuracy                           0.62         8\n",
      "   macro avg       0.62      0.63      0.62         8\n",
      "weighted avg       0.66      0.62      0.63         8\n",
      "\n",
      "-------------------------------------------------------------------------------------------------------------------\n"
     ]
    },
    {
     "name": "stderr",
     "output_type": "stream",
     "text": [
      "[Parallel(n_jobs=-1)]: Done   1 out of   1 | elapsed:   33.2s finished\n",
      "[Parallel(n_jobs=-1)]: Using backend LokyBackend with 12 concurrent workers.\n"
     ]
    },
    {
     "name": "stdout",
     "output_type": "stream",
     "text": [
      "K-Fold #8\n",
      "Mean negativities for all classes: [0.09088900314770001]\n",
      "Mean entropies for all classes: [6.251756679373841e-15]\n",
      "              precision    recall  f1-score   support\n",
      "\n",
      "           0       0.50      0.67      0.57         3\n",
      "           1       0.75      0.60      0.67         5\n",
      "\n",
      "    accuracy                           0.62         8\n",
      "   macro avg       0.62      0.63      0.62         8\n",
      "weighted avg       0.66      0.62      0.63         8\n",
      "\n",
      "-------------------------------------------------------------------------------------------------------------------\n"
     ]
    },
    {
     "name": "stderr",
     "output_type": "stream",
     "text": [
      "[Parallel(n_jobs=-1)]: Done   1 out of   1 | elapsed:   31.6s finished\n",
      "[Parallel(n_jobs=-1)]: Using backend LokyBackend with 12 concurrent workers.\n"
     ]
    },
    {
     "name": "stdout",
     "output_type": "stream",
     "text": [
      "K-Fold #9\n",
      "Mean negativities for all classes: [0.09144393069059258]\n",
      "Mean entropies for all classes: [5.419859728265461e-15]\n",
      "              precision    recall  f1-score   support\n",
      "\n",
      "           0       0.75      1.00      0.86         3\n",
      "           1       1.00      0.80      0.89         5\n",
      "\n",
      "    accuracy                           0.88         8\n",
      "   macro avg       0.88      0.90      0.87         8\n",
      "weighted avg       0.91      0.88      0.88         8\n",
      "\n",
      "-------------------------------------------------------------------------------------------------------------------\n",
      "AVG: Scores = 0.65 F1-Scores = 0.6430952380952382 Negativity = [0.09212397724751276, 0.0916395179411904] Entropy = [5.349858917228885e-15, 7.592380761769948e-15]\n"
     ]
    },
    {
     "name": "stderr",
     "output_type": "stream",
     "text": [
      "[Parallel(n_jobs=-1)]: Done   1 out of   1 | elapsed:   32.1s finished\n",
      "[Parallel(n_jobs=-1)]: Using backend LokyBackend with 12 concurrent workers.\n"
     ]
    },
    {
     "name": "stdout",
     "output_type": "stream",
     "text": [
      "K-Fold #0\n",
      "Mean negativities for all classes: [0.0914696439332546]\n",
      "Mean entropies for all classes: [6.665042395364618e-15]\n",
      "              precision    recall  f1-score   support\n",
      "\n",
      "           0       0.60      0.75      0.67         4\n",
      "           1       0.67      0.50      0.57         4\n",
      "\n",
      "    accuracy                           0.62         8\n",
      "   macro avg       0.63      0.62      0.62         8\n",
      "weighted avg       0.63      0.62      0.62         8\n",
      "\n",
      "-------------------------------------------------------------------------------------------------------------------\n"
     ]
    },
    {
     "name": "stderr",
     "output_type": "stream",
     "text": [
      "[Parallel(n_jobs=-1)]: Done   1 out of   1 | elapsed:   32.2s finished\n",
      "[Parallel(n_jobs=-1)]: Using backend LokyBackend with 12 concurrent workers.\n"
     ]
    },
    {
     "name": "stdout",
     "output_type": "stream",
     "text": [
      "K-Fold #1\n",
      "Mean negativities for all classes: [0.09786511504029217]\n",
      "Mean entropies for all classes: [6.140760110715391e-15]\n",
      "              precision    recall  f1-score   support\n",
      "\n",
      "           0       0.50      0.50      0.50         4\n",
      "           1       0.50      0.50      0.50         4\n",
      "\n",
      "    accuracy                           0.50         8\n",
      "   macro avg       0.50      0.50      0.50         8\n",
      "weighted avg       0.50      0.50      0.50         8\n",
      "\n",
      "-------------------------------------------------------------------------------------------------------------------\n"
     ]
    },
    {
     "name": "stderr",
     "output_type": "stream",
     "text": [
      "[Parallel(n_jobs=-1)]: Done   1 out of   1 | elapsed:   32.3s finished\n",
      "[Parallel(n_jobs=-1)]: Using backend LokyBackend with 12 concurrent workers.\n"
     ]
    },
    {
     "name": "stdout",
     "output_type": "stream",
     "text": [
      "K-Fold #2\n",
      "Mean negativities for all classes: [0.09504829900042432]\n",
      "Mean entropies for all classes: [6.001441186385074e-15]\n",
      "              precision    recall  f1-score   support\n",
      "\n",
      "           0       0.60      0.75      0.67         4\n",
      "           1       0.67      0.50      0.57         4\n",
      "\n",
      "    accuracy                           0.62         8\n",
      "   macro avg       0.63      0.62      0.62         8\n",
      "weighted avg       0.63      0.62      0.62         8\n",
      "\n",
      "-------------------------------------------------------------------------------------------------------------------\n"
     ]
    },
    {
     "name": "stderr",
     "output_type": "stream",
     "text": [
      "[Parallel(n_jobs=-1)]: Done   1 out of   1 | elapsed:   32.1s finished\n",
      "[Parallel(n_jobs=-1)]: Using backend LokyBackend with 12 concurrent workers.\n"
     ]
    },
    {
     "name": "stdout",
     "output_type": "stream",
     "text": [
      "K-Fold #3\n",
      "Mean negativities for all classes: [0.09141882856051897]\n",
      "Mean entropies for all classes: [5.987465869235176e-15]\n",
      "              precision    recall  f1-score   support\n",
      "\n",
      "           0       0.80      1.00      0.89         4\n",
      "           1       1.00      0.75      0.86         4\n",
      "\n",
      "    accuracy                           0.88         8\n",
      "   macro avg       0.90      0.88      0.87         8\n",
      "weighted avg       0.90      0.88      0.87         8\n",
      "\n",
      "-------------------------------------------------------------------------------------------------------------------\n"
     ]
    },
    {
     "name": "stderr",
     "output_type": "stream",
     "text": [
      "[Parallel(n_jobs=-1)]: Done   1 out of   1 | elapsed:   31.3s finished\n",
      "[Parallel(n_jobs=-1)]: Using backend LokyBackend with 12 concurrent workers.\n"
     ]
    },
    {
     "name": "stdout",
     "output_type": "stream",
     "text": [
      "K-Fold #4\n",
      "Mean negativities for all classes: [0.09906895289932992]\n",
      "Mean entropies for all classes: [6.973105538660219e-15]\n",
      "              precision    recall  f1-score   support\n",
      "\n",
      "           0       0.50      0.67      0.57         3\n",
      "           1       0.75      0.60      0.67         5\n",
      "\n",
      "    accuracy                           0.62         8\n",
      "   macro avg       0.62      0.63      0.62         8\n",
      "weighted avg       0.66      0.62      0.63         8\n",
      "\n",
      "-------------------------------------------------------------------------------------------------------------------\n"
     ]
    },
    {
     "name": "stderr",
     "output_type": "stream",
     "text": [
      "[Parallel(n_jobs=-1)]: Done   1 out of   1 | elapsed:   31.4s finished\n",
      "[Parallel(n_jobs=-1)]: Using backend LokyBackend with 12 concurrent workers.\n"
     ]
    },
    {
     "name": "stdout",
     "output_type": "stream",
     "text": [
      "K-Fold #5\n",
      "Mean negativities for all classes: [0.09171788785653123]\n",
      "Mean entropies for all classes: [6.989774989436627e-15]\n",
      "              precision    recall  f1-score   support\n",
      "\n",
      "           0       0.25      0.33      0.29         3\n",
      "           1       0.50      0.40      0.44         5\n",
      "\n",
      "    accuracy                           0.38         8\n",
      "   macro avg       0.38      0.37      0.37         8\n",
      "weighted avg       0.41      0.38      0.38         8\n",
      "\n",
      "-------------------------------------------------------------------------------------------------------------------\n"
     ]
    },
    {
     "name": "stderr",
     "output_type": "stream",
     "text": [
      "[Parallel(n_jobs=-1)]: Done   1 out of   1 | elapsed:   32.2s finished\n",
      "[Parallel(n_jobs=-1)]: Using backend LokyBackend with 12 concurrent workers.\n"
     ]
    },
    {
     "name": "stdout",
     "output_type": "stream",
     "text": [
      "K-Fold #6\n",
      "Mean negativities for all classes: [0.09107413534588493]\n",
      "Mean entropies for all classes: [6.520031858164533e-15]\n",
      "              precision    recall  f1-score   support\n",
      "\n",
      "           0       0.33      0.33      0.33         3\n",
      "           1       0.60      0.60      0.60         5\n",
      "\n",
      "    accuracy                           0.50         8\n",
      "   macro avg       0.47      0.47      0.47         8\n",
      "weighted avg       0.50      0.50      0.50         8\n",
      "\n",
      "-------------------------------------------------------------------------------------------------------------------\n"
     ]
    },
    {
     "name": "stderr",
     "output_type": "stream",
     "text": [
      "[Parallel(n_jobs=-1)]: Done   1 out of   1 | elapsed:   31.5s finished\n",
      "[Parallel(n_jobs=-1)]: Using backend LokyBackend with 12 concurrent workers.\n"
     ]
    },
    {
     "name": "stdout",
     "output_type": "stream",
     "text": [
      "K-Fold #7\n",
      "Mean negativities for all classes: [0.09743800434138161]\n",
      "Mean entropies for all classes: [6.4748469322522575e-15]\n",
      "              precision    recall  f1-score   support\n",
      "\n",
      "           0       0.50      0.67      0.57         3\n",
      "           1       0.75      0.60      0.67         5\n",
      "\n",
      "    accuracy                           0.62         8\n",
      "   macro avg       0.62      0.63      0.62         8\n",
      "weighted avg       0.66      0.62      0.63         8\n",
      "\n",
      "-------------------------------------------------------------------------------------------------------------------\n"
     ]
    },
    {
     "name": "stderr",
     "output_type": "stream",
     "text": [
      "[Parallel(n_jobs=-1)]: Done   1 out of   1 | elapsed:   33.3s finished\n",
      "[Parallel(n_jobs=-1)]: Using backend LokyBackend with 12 concurrent workers.\n"
     ]
    },
    {
     "name": "stdout",
     "output_type": "stream",
     "text": [
      "K-Fold #8\n",
      "Mean negativities for all classes: [0.09506526698113629]\n",
      "Mean entropies for all classes: [6.554334469597585e-15]\n",
      "              precision    recall  f1-score   support\n",
      "\n",
      "           0       0.60      1.00      0.75         3\n",
      "           1       1.00      0.60      0.75         5\n",
      "\n",
      "    accuracy                           0.75         8\n",
      "   macro avg       0.80      0.80      0.75         8\n",
      "weighted avg       0.85      0.75      0.75         8\n",
      "\n",
      "-------------------------------------------------------------------------------------------------------------------\n"
     ]
    },
    {
     "name": "stderr",
     "output_type": "stream",
     "text": [
      "[Parallel(n_jobs=-1)]: Done   1 out of   1 | elapsed:   31.4s finished\n",
      "[Parallel(n_jobs=-1)]: Using backend LokyBackend with 12 concurrent workers.\n"
     ]
    },
    {
     "name": "stdout",
     "output_type": "stream",
     "text": [
      "K-Fold #9\n",
      "Mean negativities for all classes: [0.09226501341319686]\n",
      "Mean entropies for all classes: [6.7495510474173104e-15]\n",
      "              precision    recall  f1-score   support\n",
      "\n",
      "           0       0.40      0.67      0.50         3\n",
      "           1       0.67      0.40      0.50         5\n",
      "\n",
      "    accuracy                           0.50         8\n",
      "   macro avg       0.53      0.53      0.50         8\n",
      "weighted avg       0.57      0.50      0.50         8\n",
      "\n",
      "-------------------------------------------------------------------------------------------------------------------\n",
      "AVG: Scores = 0.6 F1-Scores = 0.5930952380952381 Negativity = [0.0914696439332546, 0.09786511504029217] Entropy = [6.665042395364618e-15, 6.140760110715391e-15]\n"
     ]
    },
    {
     "name": "stderr",
     "output_type": "stream",
     "text": [
      "[Parallel(n_jobs=-1)]: Done   1 out of   1 | elapsed:   32.1s finished\n",
      "[Parallel(n_jobs=-1)]: Using backend LokyBackend with 12 concurrent workers.\n"
     ]
    },
    {
     "name": "stdout",
     "output_type": "stream",
     "text": [
      "K-Fold #0\n",
      "Mean negativities for all classes: [0.09148671491307728]\n",
      "Mean entropies for all classes: [7.575093962884556e-15]\n",
      "              precision    recall  f1-score   support\n",
      "\n",
      "           0       0.67      1.00      0.80         4\n",
      "           1       1.00      0.50      0.67         4\n",
      "\n",
      "    accuracy                           0.75         8\n",
      "   macro avg       0.83      0.75      0.73         8\n",
      "weighted avg       0.83      0.75      0.73         8\n",
      "\n",
      "-------------------------------------------------------------------------------------------------------------------\n"
     ]
    },
    {
     "name": "stderr",
     "output_type": "stream",
     "text": [
      "[Parallel(n_jobs=-1)]: Done   1 out of   1 | elapsed:   32.1s finished\n",
      "[Parallel(n_jobs=-1)]: Using backend LokyBackend with 12 concurrent workers.\n"
     ]
    },
    {
     "name": "stdout",
     "output_type": "stream",
     "text": [
      "K-Fold #1\n",
      "Mean negativities for all classes: [0.09231271514383466]\n",
      "Mean entropies for all classes: [6.9648950365156276e-15]\n",
      "              precision    recall  f1-score   support\n",
      "\n",
      "           0       0.50      0.50      0.50         4\n",
      "           1       0.50      0.50      0.50         4\n",
      "\n",
      "    accuracy                           0.50         8\n",
      "   macro avg       0.50      0.50      0.50         8\n",
      "weighted avg       0.50      0.50      0.50         8\n",
      "\n",
      "-------------------------------------------------------------------------------------------------------------------\n"
     ]
    },
    {
     "name": "stderr",
     "output_type": "stream",
     "text": [
      "[Parallel(n_jobs=-1)]: Done   1 out of   1 | elapsed:   32.2s finished\n",
      "[Parallel(n_jobs=-1)]: Using backend LokyBackend with 12 concurrent workers.\n"
     ]
    },
    {
     "name": "stdout",
     "output_type": "stream",
     "text": [
      "K-Fold #2\n",
      "Mean negativities for all classes: [0.09275853826081881]\n",
      "Mean entropies for all classes: [7.461844549516064e-15]\n",
      "              precision    recall  f1-score   support\n",
      "\n",
      "           0       1.00      1.00      1.00         4\n",
      "           1       1.00      1.00      1.00         4\n",
      "\n",
      "    accuracy                           1.00         8\n",
      "   macro avg       1.00      1.00      1.00         8\n",
      "weighted avg       1.00      1.00      1.00         8\n",
      "\n",
      "-------------------------------------------------------------------------------------------------------------------\n"
     ]
    },
    {
     "name": "stderr",
     "output_type": "stream",
     "text": [
      "[Parallel(n_jobs=-1)]: Done   1 out of   1 | elapsed:   32.0s finished\n",
      "[Parallel(n_jobs=-1)]: Using backend LokyBackend with 12 concurrent workers.\n"
     ]
    },
    {
     "name": "stdout",
     "output_type": "stream",
     "text": [
      "K-Fold #3\n",
      "Mean negativities for all classes: [0.0963053358038461]\n",
      "Mean entropies for all classes: [6.887499909360661e-15]\n",
      "              precision    recall  f1-score   support\n",
      "\n",
      "           0       0.67      1.00      0.80         4\n",
      "           1       1.00      0.50      0.67         4\n",
      "\n",
      "    accuracy                           0.75         8\n",
      "   macro avg       0.83      0.75      0.73         8\n",
      "weighted avg       0.83      0.75      0.73         8\n",
      "\n",
      "-------------------------------------------------------------------------------------------------------------------\n"
     ]
    },
    {
     "name": "stderr",
     "output_type": "stream",
     "text": [
      "[Parallel(n_jobs=-1)]: Done   1 out of   1 | elapsed:   31.3s finished\n",
      "[Parallel(n_jobs=-1)]: Using backend LokyBackend with 12 concurrent workers.\n"
     ]
    },
    {
     "name": "stdout",
     "output_type": "stream",
     "text": [
      "K-Fold #4\n",
      "Mean negativities for all classes: [0.0959131767874998]\n",
      "Mean entropies for all classes: [6.412712100820881e-15]\n",
      "              precision    recall  f1-score   support\n",
      "\n",
      "           0       0.40      0.67      0.50         3\n",
      "           1       0.67      0.40      0.50         5\n",
      "\n",
      "    accuracy                           0.50         8\n",
      "   macro avg       0.53      0.53      0.50         8\n",
      "weighted avg       0.57      0.50      0.50         8\n",
      "\n",
      "-------------------------------------------------------------------------------------------------------------------\n"
     ]
    },
    {
     "name": "stderr",
     "output_type": "stream",
     "text": [
      "[Parallel(n_jobs=-1)]: Done   1 out of   1 | elapsed:   31.3s finished\n",
      "[Parallel(n_jobs=-1)]: Using backend LokyBackend with 12 concurrent workers.\n"
     ]
    },
    {
     "name": "stdout",
     "output_type": "stream",
     "text": [
      "K-Fold #5\n",
      "Mean negativities for all classes: [0.09127619154735062]\n",
      "Mean entropies for all classes: [7.061845654066929e-15]\n",
      "              precision    recall  f1-score   support\n",
      "\n",
      "           0       0.50      0.67      0.57         3\n",
      "           1       0.75      0.60      0.67         5\n",
      "\n",
      "    accuracy                           0.62         8\n",
      "   macro avg       0.62      0.63      0.62         8\n",
      "weighted avg       0.66      0.62      0.63         8\n",
      "\n",
      "-------------------------------------------------------------------------------------------------------------------\n"
     ]
    },
    {
     "name": "stderr",
     "output_type": "stream",
     "text": [
      "[Parallel(n_jobs=-1)]: Done   1 out of   1 | elapsed:   32.2s finished\n",
      "[Parallel(n_jobs=-1)]: Using backend LokyBackend with 12 concurrent workers.\n"
     ]
    },
    {
     "name": "stdout",
     "output_type": "stream",
     "text": [
      "K-Fold #6\n",
      "Mean negativities for all classes: [0.09775205189504524]\n",
      "Mean entropies for all classes: [5.8550786570570305e-15]\n",
      "              precision    recall  f1-score   support\n",
      "\n",
      "           0       0.50      0.67      0.57         3\n",
      "           1       0.75      0.60      0.67         5\n",
      "\n",
      "    accuracy                           0.62         8\n",
      "   macro avg       0.62      0.63      0.62         8\n",
      "weighted avg       0.66      0.62      0.63         8\n",
      "\n",
      "-------------------------------------------------------------------------------------------------------------------\n"
     ]
    },
    {
     "name": "stderr",
     "output_type": "stream",
     "text": [
      "[Parallel(n_jobs=-1)]: Done   1 out of   1 | elapsed:   31.4s finished\n",
      "[Parallel(n_jobs=-1)]: Using backend LokyBackend with 12 concurrent workers.\n"
     ]
    },
    {
     "name": "stdout",
     "output_type": "stream",
     "text": [
      "K-Fold #7\n",
      "Mean negativities for all classes: [0.09124117988466919]\n",
      "Mean entropies for all classes: [6.625909418385939e-15]\n",
      "              precision    recall  f1-score   support\n",
      "\n",
      "           0       0.40      0.67      0.50         3\n",
      "           1       0.67      0.40      0.50         5\n",
      "\n",
      "    accuracy                           0.50         8\n",
      "   macro avg       0.53      0.53      0.50         8\n",
      "weighted avg       0.57      0.50      0.50         8\n",
      "\n",
      "-------------------------------------------------------------------------------------------------------------------\n"
     ]
    },
    {
     "name": "stderr",
     "output_type": "stream",
     "text": [
      "[Parallel(n_jobs=-1)]: Done   1 out of   1 | elapsed:   31.5s finished\n",
      "[Parallel(n_jobs=-1)]: Using backend LokyBackend with 12 concurrent workers.\n"
     ]
    },
    {
     "name": "stdout",
     "output_type": "stream",
     "text": [
      "K-Fold #8\n",
      "Mean negativities for all classes: [0.09936407549381827]\n",
      "Mean entropies for all classes: [7.137528224653224e-15]\n",
      "              precision    recall  f1-score   support\n",
      "\n",
      "           0       0.33      0.33      0.33         3\n",
      "           1       0.60      0.60      0.60         5\n",
      "\n",
      "    accuracy                           0.50         8\n",
      "   macro avg       0.47      0.47      0.47         8\n",
      "weighted avg       0.50      0.50      0.50         8\n",
      "\n",
      "-------------------------------------------------------------------------------------------------------------------\n"
     ]
    },
    {
     "name": "stderr",
     "output_type": "stream",
     "text": [
      "[Parallel(n_jobs=-1)]: Done   1 out of   1 | elapsed:   31.5s finished\n",
      "[Parallel(n_jobs=-1)]: Using backend LokyBackend with 12 concurrent workers.\n"
     ]
    },
    {
     "name": "stdout",
     "output_type": "stream",
     "text": [
      "K-Fold #9\n",
      "Mean negativities for all classes: [0.09161264270336539]\n",
      "Mean entropies for all classes: [5.860064566122932e-15]\n",
      "              precision    recall  f1-score   support\n",
      "\n",
      "           0       0.40      0.67      0.50         3\n",
      "           1       0.67      0.40      0.50         5\n",
      "\n",
      "    accuracy                           0.50         8\n",
      "   macro avg       0.53      0.53      0.50         8\n",
      "weighted avg       0.57      0.50      0.50         8\n",
      "\n",
      "-------------------------------------------------------------------------------------------------------------------\n",
      "AVG: Scores = 0.625 F1-Scores = 0.6171428571428572 Negativity = [0.09148671491307728, 0.09231271514383466] Entropy = [7.575093962884556e-15, 6.9648950365156276e-15]\n"
     ]
    },
    {
     "name": "stderr",
     "output_type": "stream",
     "text": [
      "[Parallel(n_jobs=-1)]: Done   1 out of   1 | elapsed:   32.1s finished\n",
      "[Parallel(n_jobs=-1)]: Using backend LokyBackend with 12 concurrent workers.\n"
     ]
    },
    {
     "name": "stdout",
     "output_type": "stream",
     "text": [
      "K-Fold #0\n",
      "Mean negativities for all classes: [0.09505382643893695]\n",
      "Mean entropies for all classes: [6.79255999468825e-15]\n",
      "              precision    recall  f1-score   support\n",
      "\n",
      "           0       0.80      1.00      0.89         4\n",
      "           1       1.00      0.75      0.86         4\n",
      "\n",
      "    accuracy                           0.88         8\n",
      "   macro avg       0.90      0.88      0.87         8\n",
      "weighted avg       0.90      0.88      0.87         8\n",
      "\n",
      "-------------------------------------------------------------------------------------------------------------------\n"
     ]
    },
    {
     "name": "stderr",
     "output_type": "stream",
     "text": [
      "[Parallel(n_jobs=-1)]: Done   1 out of   1 | elapsed:   32.0s finished\n",
      "[Parallel(n_jobs=-1)]: Using backend LokyBackend with 12 concurrent workers.\n"
     ]
    },
    {
     "name": "stdout",
     "output_type": "stream",
     "text": [
      "K-Fold #1\n",
      "Mean negativities for all classes: [0.09166322652200397]\n",
      "Mean entropies for all classes: [6.580565090667168e-15]\n",
      "              precision    recall  f1-score   support\n",
      "\n",
      "           0       0.67      1.00      0.80         4\n",
      "           1       1.00      0.50      0.67         4\n",
      "\n",
      "    accuracy                           0.75         8\n",
      "   macro avg       0.83      0.75      0.73         8\n",
      "weighted avg       0.83      0.75      0.73         8\n",
      "\n",
      "-------------------------------------------------------------------------------------------------------------------\n"
     ]
    },
    {
     "name": "stderr",
     "output_type": "stream",
     "text": [
      "[Parallel(n_jobs=-1)]: Done   1 out of   1 | elapsed:   32.1s finished\n",
      "[Parallel(n_jobs=-1)]: Using backend LokyBackend with 12 concurrent workers.\n"
     ]
    },
    {
     "name": "stdout",
     "output_type": "stream",
     "text": [
      "K-Fold #2\n",
      "Mean negativities for all classes: [0.09453500720758846]\n",
      "Mean entropies for all classes: [6.153365593468628e-15]\n",
      "              precision    recall  f1-score   support\n",
      "\n",
      "           0       0.50      0.50      0.50         4\n",
      "           1       0.50      0.50      0.50         4\n",
      "\n",
      "    accuracy                           0.50         8\n",
      "   macro avg       0.50      0.50      0.50         8\n",
      "weighted avg       0.50      0.50      0.50         8\n",
      "\n",
      "-------------------------------------------------------------------------------------------------------------------\n"
     ]
    },
    {
     "name": "stderr",
     "output_type": "stream",
     "text": [
      "[Parallel(n_jobs=-1)]: Done   1 out of   1 | elapsed:   32.0s finished\n",
      "[Parallel(n_jobs=-1)]: Using backend LokyBackend with 12 concurrent workers.\n"
     ]
    },
    {
     "name": "stdout",
     "output_type": "stream",
     "text": [
      "K-Fold #3\n",
      "Mean negativities for all classes: [0.09179805709542624]\n",
      "Mean entropies for all classes: [6.46338183033803e-15]\n",
      "              precision    recall  f1-score   support\n",
      "\n",
      "           0       0.67      0.50      0.57         4\n",
      "           1       0.60      0.75      0.67         4\n",
      "\n",
      "    accuracy                           0.62         8\n",
      "   macro avg       0.63      0.62      0.62         8\n",
      "weighted avg       0.63      0.62      0.62         8\n",
      "\n",
      "-------------------------------------------------------------------------------------------------------------------\n"
     ]
    },
    {
     "name": "stderr",
     "output_type": "stream",
     "text": [
      "[Parallel(n_jobs=-1)]: Done   1 out of   1 | elapsed:   31.2s finished\n",
      "[Parallel(n_jobs=-1)]: Using backend LokyBackend with 12 concurrent workers.\n"
     ]
    },
    {
     "name": "stdout",
     "output_type": "stream",
     "text": [
      "K-Fold #4\n",
      "Mean negativities for all classes: [0.09168285965262135]\n",
      "Mean entropies for all classes: [6.752084469743342e-15]\n",
      "              precision    recall  f1-score   support\n",
      "\n",
      "           0       0.33      0.33      0.33         3\n",
      "           1       0.60      0.60      0.60         5\n",
      "\n",
      "    accuracy                           0.50         8\n",
      "   macro avg       0.47      0.47      0.47         8\n",
      "weighted avg       0.50      0.50      0.50         8\n",
      "\n",
      "-------------------------------------------------------------------------------------------------------------------\n"
     ]
    },
    {
     "name": "stderr",
     "output_type": "stream",
     "text": [
      "[Parallel(n_jobs=-1)]: Done   1 out of   1 | elapsed:   31.4s finished\n",
      "[Parallel(n_jobs=-1)]: Using backend LokyBackend with 12 concurrent workers.\n"
     ]
    },
    {
     "name": "stdout",
     "output_type": "stream",
     "text": [
      "K-Fold #5\n",
      "Mean negativities for all classes: [0.09186156974259295]\n",
      "Mean entropies for all classes: [7.322760006979055e-15]\n",
      "              precision    recall  f1-score   support\n",
      "\n",
      "           0       0.20      0.33      0.25         3\n",
      "           1       0.33      0.20      0.25         5\n",
      "\n",
      "    accuracy                           0.25         8\n",
      "   macro avg       0.27      0.27      0.25         8\n",
      "weighted avg       0.28      0.25      0.25         8\n",
      "\n",
      "-------------------------------------------------------------------------------------------------------------------\n"
     ]
    },
    {
     "name": "stderr",
     "output_type": "stream",
     "text": [
      "[Parallel(n_jobs=-1)]: Done   1 out of   1 | elapsed:   32.2s finished\n",
      "[Parallel(n_jobs=-1)]: Using backend LokyBackend with 12 concurrent workers.\n"
     ]
    },
    {
     "name": "stdout",
     "output_type": "stream",
     "text": [
      "K-Fold #6\n",
      "Mean negativities for all classes: [0.09153673215194276]\n",
      "Mean entropies for all classes: [6.613756961282746e-15]\n",
      "              precision    recall  f1-score   support\n",
      "\n",
      "           0       0.60      1.00      0.75         3\n",
      "           1       1.00      0.60      0.75         5\n",
      "\n",
      "    accuracy                           0.75         8\n",
      "   macro avg       0.80      0.80      0.75         8\n",
      "weighted avg       0.85      0.75      0.75         8\n",
      "\n",
      "-------------------------------------------------------------------------------------------------------------------\n"
     ]
    },
    {
     "name": "stderr",
     "output_type": "stream",
     "text": [
      "[Parallel(n_jobs=-1)]: Done   1 out of   1 | elapsed:   31.5s finished\n",
      "[Parallel(n_jobs=-1)]: Using backend LokyBackend with 12 concurrent workers.\n"
     ]
    },
    {
     "name": "stdout",
     "output_type": "stream",
     "text": [
      "K-Fold #7\n",
      "Mean negativities for all classes: [0.09122595018992637]\n",
      "Mean entropies for all classes: [7.109200969565184e-15]\n",
      "              precision    recall  f1-score   support\n",
      "\n",
      "           0       0.40      0.67      0.50         3\n",
      "           1       0.67      0.40      0.50         5\n",
      "\n",
      "    accuracy                           0.50         8\n",
      "   macro avg       0.53      0.53      0.50         8\n",
      "weighted avg       0.57      0.50      0.50         8\n",
      "\n",
      "-------------------------------------------------------------------------------------------------------------------\n"
     ]
    },
    {
     "name": "stderr",
     "output_type": "stream",
     "text": [
      "[Parallel(n_jobs=-1)]: Done   1 out of   1 | elapsed:   31.5s finished\n",
      "[Parallel(n_jobs=-1)]: Using backend LokyBackend with 12 concurrent workers.\n"
     ]
    },
    {
     "name": "stdout",
     "output_type": "stream",
     "text": [
      "K-Fold #8\n",
      "Mean negativities for all classes: [0.0937200535863939]\n",
      "Mean entropies for all classes: [6.07161881812796e-15]\n",
      "              precision    recall  f1-score   support\n",
      "\n",
      "           0       0.40      0.67      0.50         3\n",
      "           1       0.67      0.40      0.50         5\n",
      "\n",
      "    accuracy                           0.50         8\n",
      "   macro avg       0.53      0.53      0.50         8\n",
      "weighted avg       0.57      0.50      0.50         8\n",
      "\n",
      "-------------------------------------------------------------------------------------------------------------------\n"
     ]
    },
    {
     "name": "stderr",
     "output_type": "stream",
     "text": [
      "[Parallel(n_jobs=-1)]: Done   1 out of   1 | elapsed:   31.3s finished\n",
      "[Parallel(n_jobs=-1)]: Using backend LokyBackend with 12 concurrent workers.\n"
     ]
    },
    {
     "name": "stdout",
     "output_type": "stream",
     "text": [
      "K-Fold #9\n",
      "Mean negativities for all classes: [0.09122337409216696]\n",
      "Mean entropies for all classes: [5.747042077833991e-15]\n",
      "              precision    recall  f1-score   support\n",
      "\n",
      "           0       0.40      0.67      0.50         3\n",
      "           1       0.67      0.40      0.50         5\n",
      "\n",
      "    accuracy                           0.50         8\n",
      "   macro avg       0.53      0.53      0.50         8\n",
      "weighted avg       0.57      0.50      0.50         8\n",
      "\n",
      "-------------------------------------------------------------------------------------------------------------------\n",
      "AVG: Scores = 0.575 F1-Scores = 0.5692063492063493 Negativity = [0.09505382643893695, 0.09166322652200397] Entropy = [6.79255999468825e-15, 6.580565090667168e-15]\n"
     ]
    },
    {
     "name": "stderr",
     "output_type": "stream",
     "text": [
      "[Parallel(n_jobs=-1)]: Done   1 out of   1 | elapsed:   32.1s finished\n",
      "[Parallel(n_jobs=-1)]: Using backend LokyBackend with 12 concurrent workers.\n"
     ]
    },
    {
     "name": "stdout",
     "output_type": "stream",
     "text": [
      "K-Fold #0\n",
      "Mean negativities for all classes: [0.09153694779257726]\n",
      "Mean entropies for all classes: [6.141302730877695e-15]\n",
      "              precision    recall  f1-score   support\n",
      "\n",
      "           0       0.67      0.50      0.57         4\n",
      "           1       0.60      0.75      0.67         4\n",
      "\n",
      "    accuracy                           0.62         8\n",
      "   macro avg       0.63      0.62      0.62         8\n",
      "weighted avg       0.63      0.62      0.62         8\n",
      "\n",
      "-------------------------------------------------------------------------------------------------------------------\n"
     ]
    },
    {
     "name": "stderr",
     "output_type": "stream",
     "text": [
      "[Parallel(n_jobs=-1)]: Done   1 out of   1 | elapsed:   32.0s finished\n",
      "[Parallel(n_jobs=-1)]: Using backend LokyBackend with 12 concurrent workers.\n"
     ]
    },
    {
     "name": "stdout",
     "output_type": "stream",
     "text": [
      "K-Fold #1\n",
      "Mean negativities for all classes: [0.09254125498448355]\n",
      "Mean entropies for all classes: [5.754271746497751e-15]\n",
      "              precision    recall  f1-score   support\n",
      "\n",
      "           0       0.60      0.75      0.67         4\n",
      "           1       0.67      0.50      0.57         4\n",
      "\n",
      "    accuracy                           0.62         8\n",
      "   macro avg       0.63      0.62      0.62         8\n",
      "weighted avg       0.63      0.62      0.62         8\n",
      "\n",
      "-------------------------------------------------------------------------------------------------------------------\n"
     ]
    },
    {
     "name": "stderr",
     "output_type": "stream",
     "text": [
      "[Parallel(n_jobs=-1)]: Done   1 out of   1 | elapsed:   32.2s finished\n",
      "[Parallel(n_jobs=-1)]: Using backend LokyBackend with 12 concurrent workers.\n"
     ]
    },
    {
     "name": "stdout",
     "output_type": "stream",
     "text": [
      "K-Fold #2\n",
      "Mean negativities for all classes: [0.09703017222135589]\n",
      "Mean entropies for all classes: [6.648158708096253e-15]\n",
      "              precision    recall  f1-score   support\n",
      "\n",
      "           0       0.25      0.25      0.25         4\n",
      "           1       0.25      0.25      0.25         4\n",
      "\n",
      "    accuracy                           0.25         8\n",
      "   macro avg       0.25      0.25      0.25         8\n",
      "weighted avg       0.25      0.25      0.25         8\n",
      "\n",
      "-------------------------------------------------------------------------------------------------------------------\n"
     ]
    },
    {
     "name": "stderr",
     "output_type": "stream",
     "text": [
      "[Parallel(n_jobs=-1)]: Done   1 out of   1 | elapsed:   32.1s finished\n",
      "[Parallel(n_jobs=-1)]: Using backend LokyBackend with 12 concurrent workers.\n"
     ]
    },
    {
     "name": "stdout",
     "output_type": "stream",
     "text": [
      "K-Fold #3\n",
      "Mean negativities for all classes: [0.09187109609329802]\n",
      "Mean entropies for all classes: [6.6256182698214296e-15]\n",
      "              precision    recall  f1-score   support\n",
      "\n",
      "           0       0.60      0.75      0.67         4\n",
      "           1       0.67      0.50      0.57         4\n",
      "\n",
      "    accuracy                           0.62         8\n",
      "   macro avg       0.63      0.62      0.62         8\n",
      "weighted avg       0.63      0.62      0.62         8\n",
      "\n",
      "-------------------------------------------------------------------------------------------------------------------\n"
     ]
    },
    {
     "name": "stderr",
     "output_type": "stream",
     "text": [
      "[Parallel(n_jobs=-1)]: Done   1 out of   1 | elapsed:   31.3s finished\n",
      "[Parallel(n_jobs=-1)]: Using backend LokyBackend with 12 concurrent workers.\n"
     ]
    },
    {
     "name": "stdout",
     "output_type": "stream",
     "text": [
      "K-Fold #4\n",
      "Mean negativities for all classes: [0.09129574395978417]\n",
      "Mean entropies for all classes: [5.2930598284262715e-15]\n",
      "              precision    recall  f1-score   support\n",
      "\n",
      "           0       0.50      0.67      0.57         3\n",
      "           1       0.75      0.60      0.67         5\n",
      "\n",
      "    accuracy                           0.62         8\n",
      "   macro avg       0.62      0.63      0.62         8\n",
      "weighted avg       0.66      0.62      0.63         8\n",
      "\n",
      "-------------------------------------------------------------------------------------------------------------------\n"
     ]
    },
    {
     "name": "stderr",
     "output_type": "stream",
     "text": [
      "[Parallel(n_jobs=-1)]: Done   1 out of   1 | elapsed:   31.4s finished\n",
      "[Parallel(n_jobs=-1)]: Using backend LokyBackend with 12 concurrent workers.\n"
     ]
    },
    {
     "name": "stdout",
     "output_type": "stream",
     "text": [
      "K-Fold #5\n",
      "Mean negativities for all classes: [0.10005401339580916]\n",
      "Mean entropies for all classes: [6.007969350566881e-15]\n",
      "              precision    recall  f1-score   support\n",
      "\n",
      "           0       0.40      0.67      0.50         3\n",
      "           1       0.67      0.40      0.50         5\n",
      "\n",
      "    accuracy                           0.50         8\n",
      "   macro avg       0.53      0.53      0.50         8\n",
      "weighted avg       0.57      0.50      0.50         8\n",
      "\n",
      "-------------------------------------------------------------------------------------------------------------------\n"
     ]
    },
    {
     "name": "stderr",
     "output_type": "stream",
     "text": [
      "[Parallel(n_jobs=-1)]: Done   1 out of   1 | elapsed:   32.0s finished\n",
      "[Parallel(n_jobs=-1)]: Using backend LokyBackend with 12 concurrent workers.\n"
     ]
    },
    {
     "name": "stdout",
     "output_type": "stream",
     "text": [
      "K-Fold #6\n",
      "Mean negativities for all classes: [0.09215591056778548]\n",
      "Mean entropies for all classes: [6.665637852317521e-15]\n",
      "              precision    recall  f1-score   support\n",
      "\n",
      "           0       0.67      0.67      0.67         3\n",
      "           1       0.80      0.80      0.80         5\n",
      "\n",
      "    accuracy                           0.75         8\n",
      "   macro avg       0.73      0.73      0.73         8\n",
      "weighted avg       0.75      0.75      0.75         8\n",
      "\n",
      "-------------------------------------------------------------------------------------------------------------------\n"
     ]
    },
    {
     "name": "stderr",
     "output_type": "stream",
     "text": [
      "[Parallel(n_jobs=-1)]: Done   1 out of   1 | elapsed:   31.4s finished\n",
      "[Parallel(n_jobs=-1)]: Using backend LokyBackend with 12 concurrent workers.\n"
     ]
    },
    {
     "name": "stdout",
     "output_type": "stream",
     "text": [
      "K-Fold #7\n",
      "Mean negativities for all classes: [0.09129452061616845]\n",
      "Mean entropies for all classes: [7.082898214941227e-15]\n",
      "              precision    recall  f1-score   support\n",
      "\n",
      "           0       0.75      1.00      0.86         3\n",
      "           1       1.00      0.80      0.89         5\n",
      "\n",
      "    accuracy                           0.88         8\n",
      "   macro avg       0.88      0.90      0.87         8\n",
      "weighted avg       0.91      0.88      0.88         8\n",
      "\n",
      "-------------------------------------------------------------------------------------------------------------------\n"
     ]
    },
    {
     "name": "stderr",
     "output_type": "stream",
     "text": [
      "[Parallel(n_jobs=-1)]: Done   1 out of   1 | elapsed:   31.4s finished\n",
      "[Parallel(n_jobs=-1)]: Using backend LokyBackend with 12 concurrent workers.\n"
     ]
    },
    {
     "name": "stdout",
     "output_type": "stream",
     "text": [
      "K-Fold #8\n",
      "Mean negativities for all classes: [0.09164788482867395]\n",
      "Mean entropies for all classes: [6.313602066399074e-15]\n",
      "              precision    recall  f1-score   support\n",
      "\n",
      "           0       0.40      0.67      0.50         3\n",
      "           1       0.67      0.40      0.50         5\n",
      "\n",
      "    accuracy                           0.50         8\n",
      "   macro avg       0.53      0.53      0.50         8\n",
      "weighted avg       0.57      0.50      0.50         8\n",
      "\n",
      "-------------------------------------------------------------------------------------------------------------------\n"
     ]
    },
    {
     "name": "stderr",
     "output_type": "stream",
     "text": [
      "[Parallel(n_jobs=-1)]: Done   1 out of   1 | elapsed:   31.5s finished\n",
      "[Parallel(n_jobs=-1)]: Using backend LokyBackend with 12 concurrent workers.\n"
     ]
    },
    {
     "name": "stdout",
     "output_type": "stream",
     "text": [
      "K-Fold #9\n",
      "Mean negativities for all classes: [0.09256011086353828]\n",
      "Mean entropies for all classes: [6.156239104920021e-15]\n",
      "              precision    recall  f1-score   support\n",
      "\n",
      "           0       0.67      0.67      0.67         3\n",
      "           1       0.80      0.80      0.80         5\n",
      "\n",
      "    accuracy                           0.75         8\n",
      "   macro avg       0.73      0.73      0.73         8\n",
      "weighted avg       0.75      0.75      0.75         8\n",
      "\n",
      "-------------------------------------------------------------------------------------------------------------------\n",
      "AVG: Scores = 0.6125 F1-Scores = 0.6065873015873016 Negativity = [0.09153694779257726, 0.09254125498448355] Entropy = [6.141302730877695e-15, 5.754271746497751e-15]\n"
     ]
    },
    {
     "name": "stderr",
     "output_type": "stream",
     "text": [
      "[Parallel(n_jobs=-1)]: Done   1 out of   1 | elapsed:   32.0s finished\n",
      "[Parallel(n_jobs=-1)]: Using backend LokyBackend with 12 concurrent workers.\n"
     ]
    },
    {
     "name": "stdout",
     "output_type": "stream",
     "text": [
      "K-Fold #0\n",
      "Mean negativities for all classes: [0.09138749886746508]\n",
      "Mean entropies for all classes: [7.317820202320693e-15]\n",
      "              precision    recall  f1-score   support\n",
      "\n",
      "           0       0.60      0.75      0.67         4\n",
      "           1       0.67      0.50      0.57         4\n",
      "\n",
      "    accuracy                           0.62         8\n",
      "   macro avg       0.63      0.62      0.62         8\n",
      "weighted avg       0.63      0.62      0.62         8\n",
      "\n",
      "-------------------------------------------------------------------------------------------------------------------\n"
     ]
    },
    {
     "name": "stderr",
     "output_type": "stream",
     "text": [
      "[Parallel(n_jobs=-1)]: Done   1 out of   1 | elapsed:   32.0s finished\n",
      "[Parallel(n_jobs=-1)]: Using backend LokyBackend with 12 concurrent workers.\n"
     ]
    },
    {
     "name": "stdout",
     "output_type": "stream",
     "text": [
      "K-Fold #1\n",
      "Mean negativities for all classes: [0.09166132498733279]\n",
      "Mean entropies for all classes: [6.0472147252368435e-15]\n",
      "              precision    recall  f1-score   support\n",
      "\n",
      "           0       0.67      0.50      0.57         4\n",
      "           1       0.60      0.75      0.67         4\n",
      "\n",
      "    accuracy                           0.62         8\n",
      "   macro avg       0.63      0.62      0.62         8\n",
      "weighted avg       0.63      0.62      0.62         8\n",
      "\n",
      "-------------------------------------------------------------------------------------------------------------------\n"
     ]
    },
    {
     "name": "stderr",
     "output_type": "stream",
     "text": [
      "[Parallel(n_jobs=-1)]: Done   1 out of   1 | elapsed:   32.1s finished\n",
      "[Parallel(n_jobs=-1)]: Using backend LokyBackend with 12 concurrent workers.\n"
     ]
    },
    {
     "name": "stdout",
     "output_type": "stream",
     "text": [
      "K-Fold #2\n",
      "Mean negativities for all classes: [0.09155950990566472]\n",
      "Mean entropies for all classes: [7.261058230715837e-15]\n",
      "              precision    recall  f1-score   support\n",
      "\n",
      "           0       0.25      0.25      0.25         4\n",
      "           1       0.25      0.25      0.25         4\n",
      "\n",
      "    accuracy                           0.25         8\n",
      "   macro avg       0.25      0.25      0.25         8\n",
      "weighted avg       0.25      0.25      0.25         8\n",
      "\n",
      "-------------------------------------------------------------------------------------------------------------------\n"
     ]
    },
    {
     "name": "stderr",
     "output_type": "stream",
     "text": [
      "[Parallel(n_jobs=-1)]: Done   1 out of   1 | elapsed:   32.1s finished\n",
      "[Parallel(n_jobs=-1)]: Using backend LokyBackend with 12 concurrent workers.\n"
     ]
    },
    {
     "name": "stdout",
     "output_type": "stream",
     "text": [
      "K-Fold #3\n",
      "Mean negativities for all classes: [0.0977480535270584]\n",
      "Mean entropies for all classes: [6.7493968847938045e-15]\n",
      "              precision    recall  f1-score   support\n",
      "\n",
      "           0       0.40      0.50      0.44         4\n",
      "           1       0.33      0.25      0.29         4\n",
      "\n",
      "    accuracy                           0.38         8\n",
      "   macro avg       0.37      0.38      0.37         8\n",
      "weighted avg       0.37      0.38      0.37         8\n",
      "\n",
      "-------------------------------------------------------------------------------------------------------------------\n"
     ]
    },
    {
     "name": "stderr",
     "output_type": "stream",
     "text": [
      "[Parallel(n_jobs=-1)]: Done   1 out of   1 | elapsed:   31.2s finished\n",
      "[Parallel(n_jobs=-1)]: Using backend LokyBackend with 12 concurrent workers.\n"
     ]
    },
    {
     "name": "stdout",
     "output_type": "stream",
     "text": [
      "K-Fold #4\n",
      "Mean negativities for all classes: [0.09125411921929662]\n",
      "Mean entropies for all classes: [6.768538038484851e-15]\n",
      "              precision    recall  f1-score   support\n",
      "\n",
      "           0       0.60      1.00      0.75         3\n",
      "           1       1.00      0.60      0.75         5\n",
      "\n",
      "    accuracy                           0.75         8\n",
      "   macro avg       0.80      0.80      0.75         8\n",
      "weighted avg       0.85      0.75      0.75         8\n",
      "\n",
      "-------------------------------------------------------------------------------------------------------------------\n"
     ]
    },
    {
     "name": "stderr",
     "output_type": "stream",
     "text": [
      "[Parallel(n_jobs=-1)]: Done   1 out of   1 | elapsed:   31.3s finished\n",
      "[Parallel(n_jobs=-1)]: Using backend LokyBackend with 12 concurrent workers.\n"
     ]
    },
    {
     "name": "stdout",
     "output_type": "stream",
     "text": [
      "K-Fold #5\n",
      "Mean negativities for all classes: [0.09387940303423348]\n",
      "Mean entropies for all classes: [6.9485320025808694e-15]\n",
      "              precision    recall  f1-score   support\n",
      "\n",
      "           0       0.60      1.00      0.75         3\n",
      "           1       1.00      0.60      0.75         5\n",
      "\n",
      "    accuracy                           0.75         8\n",
      "   macro avg       0.80      0.80      0.75         8\n",
      "weighted avg       0.85      0.75      0.75         8\n",
      "\n",
      "-------------------------------------------------------------------------------------------------------------------\n"
     ]
    },
    {
     "name": "stderr",
     "output_type": "stream",
     "text": [
      "[Parallel(n_jobs=-1)]: Done   1 out of   1 | elapsed:   32.1s finished\n",
      "[Parallel(n_jobs=-1)]: Using backend LokyBackend with 12 concurrent workers.\n"
     ]
    },
    {
     "name": "stdout",
     "output_type": "stream",
     "text": [
      "K-Fold #6\n",
      "Mean negativities for all classes: [0.09206040580826592]\n",
      "Mean entropies for all classes: [6.6082979066206075e-15]\n",
      "              precision    recall  f1-score   support\n",
      "\n",
      "           0       0.33      0.67      0.44         3\n",
      "           1       0.50      0.20      0.29         5\n",
      "\n",
      "    accuracy                           0.38         8\n",
      "   macro avg       0.42      0.43      0.37         8\n",
      "weighted avg       0.44      0.38      0.35         8\n",
      "\n",
      "-------------------------------------------------------------------------------------------------------------------\n"
     ]
    },
    {
     "name": "stderr",
     "output_type": "stream",
     "text": [
      "[Parallel(n_jobs=-1)]: Done   1 out of   1 | elapsed:   31.4s finished\n",
      "[Parallel(n_jobs=-1)]: Using backend LokyBackend with 12 concurrent workers.\n"
     ]
    },
    {
     "name": "stdout",
     "output_type": "stream",
     "text": [
      "K-Fold #7\n",
      "Mean negativities for all classes: [0.09529539322099867]\n",
      "Mean entropies for all classes: [6.677577686208331e-15]\n",
      "              precision    recall  f1-score   support\n",
      "\n",
      "           0       0.33      0.33      0.33         3\n",
      "           1       0.60      0.60      0.60         5\n",
      "\n",
      "    accuracy                           0.50         8\n",
      "   macro avg       0.47      0.47      0.47         8\n",
      "weighted avg       0.50      0.50      0.50         8\n",
      "\n",
      "-------------------------------------------------------------------------------------------------------------------\n"
     ]
    },
    {
     "name": "stderr",
     "output_type": "stream",
     "text": [
      "[Parallel(n_jobs=-1)]: Done   1 out of   1 | elapsed:   31.5s finished\n",
      "[Parallel(n_jobs=-1)]: Using backend LokyBackend with 12 concurrent workers.\n"
     ]
    },
    {
     "name": "stdout",
     "output_type": "stream",
     "text": [
      "K-Fold #8\n",
      "Mean negativities for all classes: [0.09221552328119365]\n",
      "Mean entropies for all classes: [7.066215869085281e-15]\n",
      "              precision    recall  f1-score   support\n",
      "\n",
      "           0       0.75      1.00      0.86         3\n",
      "           1       1.00      0.80      0.89         5\n",
      "\n",
      "    accuracy                           0.88         8\n",
      "   macro avg       0.88      0.90      0.87         8\n",
      "weighted avg       0.91      0.88      0.88         8\n",
      "\n",
      "-------------------------------------------------------------------------------------------------------------------\n"
     ]
    },
    {
     "name": "stderr",
     "output_type": "stream",
     "text": [
      "[Parallel(n_jobs=-1)]: Done   1 out of   1 | elapsed:   31.4s finished\n",
      "[Parallel(n_jobs=-1)]: Using backend LokyBackend with 12 concurrent workers.\n"
     ]
    },
    {
     "name": "stdout",
     "output_type": "stream",
     "text": [
      "K-Fold #9\n",
      "Mean negativities for all classes: [0.0920173472896357]\n",
      "Mean entropies for all classes: [6.2008407309064255e-15]\n",
      "              precision    recall  f1-score   support\n",
      "\n",
      "           0       0.50      0.67      0.57         3\n",
      "           1       0.75      0.60      0.67         5\n",
      "\n",
      "    accuracy                           0.62         8\n",
      "   macro avg       0.62      0.63      0.62         8\n",
      "weighted avg       0.66      0.62      0.63         8\n",
      "\n",
      "-------------------------------------------------------------------------------------------------------------------\n",
      "AVG: Scores = 0.575 F1-Scores = 0.5676984126984127 Negativity = [0.09138749886746508, 0.09166132498733279] Entropy = [7.317820202320693e-15, 6.0472147252368435e-15]\n"
     ]
    },
    {
     "name": "stderr",
     "output_type": "stream",
     "text": [
      "[Parallel(n_jobs=-1)]: Done   1 out of   1 | elapsed:   32.1s finished\n",
      "[Parallel(n_jobs=-1)]: Using backend LokyBackend with 12 concurrent workers.\n"
     ]
    },
    {
     "name": "stdout",
     "output_type": "stream",
     "text": [
      "K-Fold #0\n",
      "Mean negativities for all classes: [0.09170292473714511]\n",
      "Mean entropies for all classes: [6.559768825553762e-15]\n",
      "              precision    recall  f1-score   support\n",
      "\n",
      "           0       0.60      0.75      0.67         4\n",
      "           1       0.67      0.50      0.57         4\n",
      "\n",
      "    accuracy                           0.62         8\n",
      "   macro avg       0.63      0.62      0.62         8\n",
      "weighted avg       0.63      0.62      0.62         8\n",
      "\n",
      "-------------------------------------------------------------------------------------------------------------------\n"
     ]
    },
    {
     "name": "stderr",
     "output_type": "stream",
     "text": [
      "[Parallel(n_jobs=-1)]: Done   1 out of   1 | elapsed:   32.0s finished\n",
      "[Parallel(n_jobs=-1)]: Using backend LokyBackend with 12 concurrent workers.\n"
     ]
    },
    {
     "name": "stdout",
     "output_type": "stream",
     "text": [
      "K-Fold #1\n",
      "Mean negativities for all classes: [0.24669085559315856]\n",
      "Mean entropies for all classes: [6.191791401898222e-15]\n",
      "              precision    recall  f1-score   support\n",
      "\n",
      "           0       0.50      0.50      0.50         4\n",
      "           1       0.50      0.50      0.50         4\n",
      "\n",
      "    accuracy                           0.50         8\n",
      "   macro avg       0.50      0.50      0.50         8\n",
      "weighted avg       0.50      0.50      0.50         8\n",
      "\n",
      "-------------------------------------------------------------------------------------------------------------------\n"
     ]
    },
    {
     "name": "stderr",
     "output_type": "stream",
     "text": [
      "[Parallel(n_jobs=-1)]: Done   1 out of   1 | elapsed:   32.2s finished\n",
      "[Parallel(n_jobs=-1)]: Using backend LokyBackend with 12 concurrent workers.\n"
     ]
    },
    {
     "name": "stdout",
     "output_type": "stream",
     "text": [
      "K-Fold #2\n",
      "Mean negativities for all classes: [0.09052979249738342]\n",
      "Mean entropies for all classes: [7.744929960450363e-15]\n",
      "              precision    recall  f1-score   support\n",
      "\n",
      "           0       1.00      0.75      0.86         4\n",
      "           1       0.80      1.00      0.89         4\n",
      "\n",
      "    accuracy                           0.88         8\n",
      "   macro avg       0.90      0.88      0.87         8\n",
      "weighted avg       0.90      0.88      0.87         8\n",
      "\n",
      "-------------------------------------------------------------------------------------------------------------------\n"
     ]
    },
    {
     "name": "stderr",
     "output_type": "stream",
     "text": [
      "[Parallel(n_jobs=-1)]: Done   1 out of   1 | elapsed:   32.2s finished\n",
      "[Parallel(n_jobs=-1)]: Using backend LokyBackend with 12 concurrent workers.\n"
     ]
    },
    {
     "name": "stdout",
     "output_type": "stream",
     "text": [
      "K-Fold #3\n",
      "Mean negativities for all classes: [0.09370580577960011]\n",
      "Mean entropies for all classes: [6.380486090575874e-15]\n",
      "              precision    recall  f1-score   support\n",
      "\n",
      "           0       0.75      0.75      0.75         4\n",
      "           1       0.75      0.75      0.75         4\n",
      "\n",
      "    accuracy                           0.75         8\n",
      "   macro avg       0.75      0.75      0.75         8\n",
      "weighted avg       0.75      0.75      0.75         8\n",
      "\n",
      "-------------------------------------------------------------------------------------------------------------------\n"
     ]
    },
    {
     "name": "stderr",
     "output_type": "stream",
     "text": [
      "[Parallel(n_jobs=-1)]: Done   1 out of   1 | elapsed:   31.2s finished\n",
      "[Parallel(n_jobs=-1)]: Using backend LokyBackend with 12 concurrent workers.\n"
     ]
    },
    {
     "name": "stdout",
     "output_type": "stream",
     "text": [
      "K-Fold #4\n",
      "Mean negativities for all classes: [0.09478617284233018]\n",
      "Mean entropies for all classes: [6.279777735249499e-15]\n",
      "              precision    recall  f1-score   support\n",
      "\n",
      "           0       0.50      1.00      0.67         3\n",
      "           1       1.00      0.40      0.57         5\n",
      "\n",
      "    accuracy                           0.62         8\n",
      "   macro avg       0.75      0.70      0.62         8\n",
      "weighted avg       0.81      0.62      0.61         8\n",
      "\n",
      "-------------------------------------------------------------------------------------------------------------------\n"
     ]
    },
    {
     "name": "stderr",
     "output_type": "stream",
     "text": [
      "[Parallel(n_jobs=-1)]: Done   1 out of   1 | elapsed:   31.3s finished\n",
      "[Parallel(n_jobs=-1)]: Using backend LokyBackend with 12 concurrent workers.\n"
     ]
    },
    {
     "name": "stdout",
     "output_type": "stream",
     "text": [
      "K-Fold #5\n",
      "Mean negativities for all classes: [0.0917661491928799]\n",
      "Mean entropies for all classes: [6.060822111609035e-15]\n",
      "              precision    recall  f1-score   support\n",
      "\n",
      "           0       0.33      0.33      0.33         3\n",
      "           1       0.60      0.60      0.60         5\n",
      "\n",
      "    accuracy                           0.50         8\n",
      "   macro avg       0.47      0.47      0.47         8\n",
      "weighted avg       0.50      0.50      0.50         8\n",
      "\n",
      "-------------------------------------------------------------------------------------------------------------------\n"
     ]
    },
    {
     "name": "stderr",
     "output_type": "stream",
     "text": [
      "[Parallel(n_jobs=-1)]: Done   1 out of   1 | elapsed:   32.2s finished\n",
      "[Parallel(n_jobs=-1)]: Using backend LokyBackend with 12 concurrent workers.\n"
     ]
    },
    {
     "name": "stdout",
     "output_type": "stream",
     "text": [
      "K-Fold #6\n",
      "Mean negativities for all classes: [0.09419828526809061]\n",
      "Mean entropies for all classes: [6.268410338283493e-15]\n",
      "              precision    recall  f1-score   support\n",
      "\n",
      "           0       0.50      1.00      0.67         3\n",
      "           1       1.00      0.40      0.57         5\n",
      "\n",
      "    accuracy                           0.62         8\n",
      "   macro avg       0.75      0.70      0.62         8\n",
      "weighted avg       0.81      0.62      0.61         8\n",
      "\n",
      "-------------------------------------------------------------------------------------------------------------------\n"
     ]
    },
    {
     "name": "stderr",
     "output_type": "stream",
     "text": [
      "[Parallel(n_jobs=-1)]: Done   1 out of   1 | elapsed:   31.4s finished\n",
      "[Parallel(n_jobs=-1)]: Using backend LokyBackend with 12 concurrent workers.\n"
     ]
    },
    {
     "name": "stdout",
     "output_type": "stream",
     "text": [
      "K-Fold #7\n",
      "Mean negativities for all classes: [0.09135259574639552]\n",
      "Mean entropies for all classes: [5.998170575576561e-15]\n",
      "              precision    recall  f1-score   support\n",
      "\n",
      "           0       0.60      1.00      0.75         3\n",
      "           1       1.00      0.60      0.75         5\n",
      "\n",
      "    accuracy                           0.75         8\n",
      "   macro avg       0.80      0.80      0.75         8\n",
      "weighted avg       0.85      0.75      0.75         8\n",
      "\n",
      "-------------------------------------------------------------------------------------------------------------------\n"
     ]
    },
    {
     "name": "stderr",
     "output_type": "stream",
     "text": [
      "[Parallel(n_jobs=-1)]: Done   1 out of   1 | elapsed:   31.4s finished\n",
      "[Parallel(n_jobs=-1)]: Using backend LokyBackend with 12 concurrent workers.\n"
     ]
    },
    {
     "name": "stdout",
     "output_type": "stream",
     "text": [
      "K-Fold #8\n",
      "Mean negativities for all classes: [0.09791639690488643]\n",
      "Mean entropies for all classes: [5.662103563338063e-15]\n",
      "              precision    recall  f1-score   support\n",
      "\n",
      "           0       0.40      0.67      0.50         3\n",
      "           1       0.67      0.40      0.50         5\n",
      "\n",
      "    accuracy                           0.50         8\n",
      "   macro avg       0.53      0.53      0.50         8\n",
      "weighted avg       0.57      0.50      0.50         8\n",
      "\n",
      "-------------------------------------------------------------------------------------------------------------------\n"
     ]
    },
    {
     "name": "stderr",
     "output_type": "stream",
     "text": [
      "[Parallel(n_jobs=-1)]: Done   1 out of   1 | elapsed:   31.4s finished\n",
      "[Parallel(n_jobs=-1)]: Using backend LokyBackend with 12 concurrent workers.\n"
     ]
    },
    {
     "name": "stdout",
     "output_type": "stream",
     "text": [
      "K-Fold #9\n",
      "Mean negativities for all classes: [0.0921822759893386]\n",
      "Mean entropies for all classes: [8.013895140274866e-15]\n",
      "              precision    recall  f1-score   support\n",
      "\n",
      "           0       0.60      1.00      0.75         3\n",
      "           1       1.00      0.60      0.75         5\n",
      "\n",
      "    accuracy                           0.75         8\n",
      "   macro avg       0.80      0.80      0.75         8\n",
      "weighted avg       0.85      0.75      0.75         8\n",
      "\n",
      "-------------------------------------------------------------------------------------------------------------------\n",
      "AVG: Scores = 0.65 F1-Scores = 0.6446825396825397 Negativity = [0.09170292473714511, 0.24669085559315856] Entropy = [6.559768825553762e-15, 6.191791401898222e-15]\n"
     ]
    },
    {
     "name": "stderr",
     "output_type": "stream",
     "text": [
      "[Parallel(n_jobs=-1)]: Done   1 out of   1 | elapsed:   32.0s finished\n",
      "[Parallel(n_jobs=-1)]: Using backend LokyBackend with 12 concurrent workers.\n"
     ]
    },
    {
     "name": "stdout",
     "output_type": "stream",
     "text": [
      "K-Fold #0\n",
      "Mean negativities for all classes: [0.10234208989006659]\n",
      "Mean entropies for all classes: [6.8688781698621955e-15]\n",
      "              precision    recall  f1-score   support\n",
      "\n",
      "           0       0.75      0.75      0.75         4\n",
      "           1       0.75      0.75      0.75         4\n",
      "\n",
      "    accuracy                           0.75         8\n",
      "   macro avg       0.75      0.75      0.75         8\n",
      "weighted avg       0.75      0.75      0.75         8\n",
      "\n",
      "-------------------------------------------------------------------------------------------------------------------\n"
     ]
    },
    {
     "name": "stderr",
     "output_type": "stream",
     "text": [
      "[Parallel(n_jobs=-1)]: Done   1 out of   1 | elapsed:   32.1s finished\n",
      "[Parallel(n_jobs=-1)]: Using backend LokyBackend with 12 concurrent workers.\n"
     ]
    },
    {
     "name": "stdout",
     "output_type": "stream",
     "text": [
      "K-Fold #1\n",
      "Mean negativities for all classes: [0.09176502695922466]\n",
      "Mean entropies for all classes: [6.315043871296094e-15]\n",
      "              precision    recall  f1-score   support\n",
      "\n",
      "           0       0.50      0.50      0.50         4\n",
      "           1       0.50      0.50      0.50         4\n",
      "\n",
      "    accuracy                           0.50         8\n",
      "   macro avg       0.50      0.50      0.50         8\n",
      "weighted avg       0.50      0.50      0.50         8\n",
      "\n",
      "-------------------------------------------------------------------------------------------------------------------\n"
     ]
    },
    {
     "name": "stderr",
     "output_type": "stream",
     "text": [
      "[Parallel(n_jobs=-1)]: Done   1 out of   1 | elapsed:   32.1s finished\n",
      "[Parallel(n_jobs=-1)]: Using backend LokyBackend with 12 concurrent workers.\n"
     ]
    },
    {
     "name": "stdout",
     "output_type": "stream",
     "text": [
      "K-Fold #2\n",
      "Mean negativities for all classes: [0.09179739832919466]\n",
      "Mean entropies for all classes: [6.4096007464912655e-15]\n",
      "              precision    recall  f1-score   support\n",
      "\n",
      "           0       0.75      0.75      0.75         4\n",
      "           1       0.75      0.75      0.75         4\n",
      "\n",
      "    accuracy                           0.75         8\n",
      "   macro avg       0.75      0.75      0.75         8\n",
      "weighted avg       0.75      0.75      0.75         8\n",
      "\n",
      "-------------------------------------------------------------------------------------------------------------------\n"
     ]
    },
    {
     "name": "stderr",
     "output_type": "stream",
     "text": [
      "[Parallel(n_jobs=-1)]: Done   1 out of   1 | elapsed:   32.1s finished\n",
      "[Parallel(n_jobs=-1)]: Using backend LokyBackend with 12 concurrent workers.\n"
     ]
    },
    {
     "name": "stdout",
     "output_type": "stream",
     "text": [
      "K-Fold #3\n",
      "Mean negativities for all classes: [0.09157929604258133]\n",
      "Mean entropies for all classes: [6.906080467549732e-15]\n",
      "              precision    recall  f1-score   support\n",
      "\n",
      "           0       0.00      0.00      0.00         4\n",
      "           1       0.20      0.25      0.22         4\n",
      "\n",
      "    accuracy                           0.12         8\n",
      "   macro avg       0.10      0.12      0.11         8\n",
      "weighted avg       0.10      0.12      0.11         8\n",
      "\n",
      "-------------------------------------------------------------------------------------------------------------------\n"
     ]
    },
    {
     "name": "stderr",
     "output_type": "stream",
     "text": [
      "[Parallel(n_jobs=-1)]: Done   1 out of   1 | elapsed:   31.2s finished\n",
      "[Parallel(n_jobs=-1)]: Using backend LokyBackend with 12 concurrent workers.\n"
     ]
    },
    {
     "name": "stdout",
     "output_type": "stream",
     "text": [
      "K-Fold #4\n",
      "Mean negativities for all classes: [0.09212596928630652]\n",
      "Mean entropies for all classes: [6.429805755883256e-15]\n",
      "              precision    recall  f1-score   support\n",
      "\n",
      "           0       0.67      0.67      0.67         3\n",
      "           1       0.80      0.80      0.80         5\n",
      "\n",
      "    accuracy                           0.75         8\n",
      "   macro avg       0.73      0.73      0.73         8\n",
      "weighted avg       0.75      0.75      0.75         8\n",
      "\n",
      "-------------------------------------------------------------------------------------------------------------------\n"
     ]
    },
    {
     "name": "stderr",
     "output_type": "stream",
     "text": [
      "[Parallel(n_jobs=-1)]: Done   1 out of   1 | elapsed:   31.3s finished\n",
      "[Parallel(n_jobs=-1)]: Using backend LokyBackend with 12 concurrent workers.\n"
     ]
    },
    {
     "name": "stdout",
     "output_type": "stream",
     "text": [
      "K-Fold #5\n",
      "Mean negativities for all classes: [0.09125256835860386]\n",
      "Mean entropies for all classes: [5.825114398137706e-15]\n",
      "              precision    recall  f1-score   support\n",
      "\n",
      "           0       0.50      1.00      0.67         3\n",
      "           1       1.00      0.40      0.57         5\n",
      "\n",
      "    accuracy                           0.62         8\n",
      "   macro avg       0.75      0.70      0.62         8\n",
      "weighted avg       0.81      0.62      0.61         8\n",
      "\n",
      "-------------------------------------------------------------------------------------------------------------------\n"
     ]
    },
    {
     "name": "stderr",
     "output_type": "stream",
     "text": [
      "[Parallel(n_jobs=-1)]: Done   1 out of   1 | elapsed:   32.2s finished\n",
      "[Parallel(n_jobs=-1)]: Using backend LokyBackend with 12 concurrent workers.\n"
     ]
    },
    {
     "name": "stdout",
     "output_type": "stream",
     "text": [
      "K-Fold #6\n",
      "Mean negativities for all classes: [0.09872072220378346]\n",
      "Mean entropies for all classes: [6.004263808986064e-15]\n",
      "              precision    recall  f1-score   support\n",
      "\n",
      "           0       0.25      0.33      0.29         3\n",
      "           1       0.50      0.40      0.44         5\n",
      "\n",
      "    accuracy                           0.38         8\n",
      "   macro avg       0.38      0.37      0.37         8\n",
      "weighted avg       0.41      0.38      0.38         8\n",
      "\n",
      "-------------------------------------------------------------------------------------------------------------------\n"
     ]
    },
    {
     "name": "stderr",
     "output_type": "stream",
     "text": [
      "[Parallel(n_jobs=-1)]: Done   1 out of   1 | elapsed:   31.4s finished\n",
      "[Parallel(n_jobs=-1)]: Using backend LokyBackend with 12 concurrent workers.\n"
     ]
    },
    {
     "name": "stdout",
     "output_type": "stream",
     "text": [
      "K-Fold #7\n",
      "Mean negativities for all classes: [0.09229430853652636]\n",
      "Mean entropies for all classes: [6.6747961027199374e-15]\n",
      "              precision    recall  f1-score   support\n",
      "\n",
      "           0       0.33      0.67      0.44         3\n",
      "           1       0.50      0.20      0.29         5\n",
      "\n",
      "    accuracy                           0.38         8\n",
      "   macro avg       0.42      0.43      0.37         8\n",
      "weighted avg       0.44      0.38      0.35         8\n",
      "\n",
      "-------------------------------------------------------------------------------------------------------------------\n"
     ]
    },
    {
     "name": "stderr",
     "output_type": "stream",
     "text": [
      "[Parallel(n_jobs=-1)]: Done   1 out of   1 | elapsed:   31.4s finished\n",
      "[Parallel(n_jobs=-1)]: Using backend LokyBackend with 12 concurrent workers.\n"
     ]
    },
    {
     "name": "stdout",
     "output_type": "stream",
     "text": [
      "K-Fold #8\n",
      "Mean negativities for all classes: [0.09183156740200216]\n",
      "Mean entropies for all classes: [7.311642974549759e-15]\n",
      "              precision    recall  f1-score   support\n",
      "\n",
      "           0       0.33      0.67      0.44         3\n",
      "           1       0.50      0.20      0.29         5\n",
      "\n",
      "    accuracy                           0.38         8\n",
      "   macro avg       0.42      0.43      0.37         8\n",
      "weighted avg       0.44      0.38      0.35         8\n",
      "\n",
      "-------------------------------------------------------------------------------------------------------------------\n"
     ]
    },
    {
     "name": "stderr",
     "output_type": "stream",
     "text": [
      "[Parallel(n_jobs=-1)]: Done   1 out of   1 | elapsed:   31.4s finished\n",
      "[Parallel(n_jobs=-1)]: Using backend LokyBackend with 12 concurrent workers.\n"
     ]
    },
    {
     "name": "stdout",
     "output_type": "stream",
     "text": [
      "K-Fold #9\n",
      "Mean negativities for all classes: [0.0922120304155033]\n",
      "Mean entropies for all classes: [6.667602000868761e-15]\n",
      "              precision    recall  f1-score   support\n",
      "\n",
      "           0       0.40      0.67      0.50         3\n",
      "           1       0.67      0.40      0.50         5\n",
      "\n",
      "    accuracy                           0.50         8\n",
      "   macro avg       0.53      0.53      0.50         8\n",
      "weighted avg       0.57      0.50      0.50         8\n",
      "\n",
      "-------------------------------------------------------------------------------------------------------------------\n",
      "AVG: Scores = 0.5125 F1-Scores = 0.5058730158730158 Negativity = [0.10234208989006659, 0.09176502695922466] Entropy = [6.8688781698621955e-15, 6.315043871296094e-15]\n"
     ]
    },
    {
     "name": "stderr",
     "output_type": "stream",
     "text": [
      "[Parallel(n_jobs=-1)]: Done   1 out of   1 | elapsed:   32.0s finished\n",
      "[Parallel(n_jobs=-1)]: Using backend LokyBackend with 12 concurrent workers.\n"
     ]
    },
    {
     "name": "stdout",
     "output_type": "stream",
     "text": [
      "K-Fold #0\n",
      "Mean negativities for all classes: [0.2380745369589377]\n",
      "Mean entropies for all classes: [5.683300580896762e-15]\n",
      "              precision    recall  f1-score   support\n",
      "\n",
      "           0       0.75      0.75      0.75         4\n",
      "           1       0.75      0.75      0.75         4\n",
      "\n",
      "    accuracy                           0.75         8\n",
      "   macro avg       0.75      0.75      0.75         8\n",
      "weighted avg       0.75      0.75      0.75         8\n",
      "\n",
      "-------------------------------------------------------------------------------------------------------------------\n"
     ]
    },
    {
     "name": "stderr",
     "output_type": "stream",
     "text": [
      "[Parallel(n_jobs=-1)]: Done   1 out of   1 | elapsed:   32.0s finished\n",
      "[Parallel(n_jobs=-1)]: Using backend LokyBackend with 12 concurrent workers.\n"
     ]
    },
    {
     "name": "stdout",
     "output_type": "stream",
     "text": [
      "K-Fold #1\n",
      "Mean negativities for all classes: [0.09262918401442928]\n",
      "Mean entropies for all classes: [6.173893610913596e-15]\n",
      "              precision    recall  f1-score   support\n",
      "\n",
      "           0       0.67      1.00      0.80         4\n",
      "           1       1.00      0.50      0.67         4\n",
      "\n",
      "    accuracy                           0.75         8\n",
      "   macro avg       0.83      0.75      0.73         8\n",
      "weighted avg       0.83      0.75      0.73         8\n",
      "\n",
      "-------------------------------------------------------------------------------------------------------------------\n"
     ]
    },
    {
     "name": "stderr",
     "output_type": "stream",
     "text": [
      "[Parallel(n_jobs=-1)]: Done   1 out of   1 | elapsed:   33.5s finished\n",
      "[Parallel(n_jobs=-1)]: Using backend LokyBackend with 12 concurrent workers.\n"
     ]
    },
    {
     "name": "stdout",
     "output_type": "stream",
     "text": [
      "K-Fold #2\n",
      "Mean negativities for all classes: [0.09163277724510295]\n",
      "Mean entropies for all classes: [7.032210247088942e-15]\n",
      "              precision    recall  f1-score   support\n",
      "\n",
      "           0       0.60      0.75      0.67         4\n",
      "           1       0.67      0.50      0.57         4\n",
      "\n",
      "    accuracy                           0.62         8\n",
      "   macro avg       0.63      0.62      0.62         8\n",
      "weighted avg       0.63      0.62      0.62         8\n",
      "\n",
      "-------------------------------------------------------------------------------------------------------------------\n"
     ]
    },
    {
     "name": "stderr",
     "output_type": "stream",
     "text": [
      "[Parallel(n_jobs=-1)]: Done   1 out of   1 | elapsed:   32.1s finished\n",
      "[Parallel(n_jobs=-1)]: Using backend LokyBackend with 12 concurrent workers.\n"
     ]
    },
    {
     "name": "stdout",
     "output_type": "stream",
     "text": [
      "K-Fold #3\n",
      "Mean negativities for all classes: [0.0916788099718328]\n",
      "Mean entropies for all classes: [5.7365382213692474e-15]\n",
      "              precision    recall  f1-score   support\n",
      "\n",
      "           0       0.67      1.00      0.80         4\n",
      "           1       1.00      0.50      0.67         4\n",
      "\n",
      "    accuracy                           0.75         8\n",
      "   macro avg       0.83      0.75      0.73         8\n",
      "weighted avg       0.83      0.75      0.73         8\n",
      "\n",
      "-------------------------------------------------------------------------------------------------------------------\n"
     ]
    },
    {
     "name": "stderr",
     "output_type": "stream",
     "text": [
      "[Parallel(n_jobs=-1)]: Done   1 out of   1 | elapsed:   31.3s finished\n",
      "[Parallel(n_jobs=-1)]: Using backend LokyBackend with 12 concurrent workers.\n"
     ]
    },
    {
     "name": "stdout",
     "output_type": "stream",
     "text": [
      "K-Fold #4\n",
      "Mean negativities for all classes: [0.09190033571738099]\n",
      "Mean entropies for all classes: [6.383905626782683e-15]\n",
      "              precision    recall  f1-score   support\n",
      "\n",
      "           0       0.25      0.33      0.29         3\n",
      "           1       0.50      0.40      0.44         5\n",
      "\n",
      "    accuracy                           0.38         8\n",
      "   macro avg       0.38      0.37      0.37         8\n",
      "weighted avg       0.41      0.38      0.38         8\n",
      "\n",
      "-------------------------------------------------------------------------------------------------------------------\n"
     ]
    },
    {
     "name": "stderr",
     "output_type": "stream",
     "text": [
      "[Parallel(n_jobs=-1)]: Done   1 out of   1 | elapsed:   31.5s finished\n",
      "[Parallel(n_jobs=-1)]: Using backend LokyBackend with 12 concurrent workers.\n"
     ]
    },
    {
     "name": "stdout",
     "output_type": "stream",
     "text": [
      "K-Fold #5\n",
      "Mean negativities for all classes: [0.09755862895842805]\n",
      "Mean entropies for all classes: [7.571393028420362e-15]\n",
      "              precision    recall  f1-score   support\n",
      "\n",
      "           0       0.40      0.67      0.50         3\n",
      "           1       0.67      0.40      0.50         5\n",
      "\n",
      "    accuracy                           0.50         8\n",
      "   macro avg       0.53      0.53      0.50         8\n",
      "weighted avg       0.57      0.50      0.50         8\n",
      "\n",
      "-------------------------------------------------------------------------------------------------------------------\n"
     ]
    },
    {
     "name": "stderr",
     "output_type": "stream",
     "text": [
      "[Parallel(n_jobs=-1)]: Done   1 out of   1 | elapsed:   32.1s finished\n",
      "[Parallel(n_jobs=-1)]: Using backend LokyBackend with 12 concurrent workers.\n"
     ]
    },
    {
     "name": "stdout",
     "output_type": "stream",
     "text": [
      "K-Fold #6\n",
      "Mean negativities for all classes: [0.09137861290572778]\n",
      "Mean entropies for all classes: [6.79853461373687e-15]\n",
      "              precision    recall  f1-score   support\n",
      "\n",
      "           0       0.60      1.00      0.75         3\n",
      "           1       1.00      0.60      0.75         5\n",
      "\n",
      "    accuracy                           0.75         8\n",
      "   macro avg       0.80      0.80      0.75         8\n",
      "weighted avg       0.85      0.75      0.75         8\n",
      "\n",
      "-------------------------------------------------------------------------------------------------------------------\n"
     ]
    },
    {
     "name": "stderr",
     "output_type": "stream",
     "text": [
      "[Parallel(n_jobs=-1)]: Done   1 out of   1 | elapsed:   31.5s finished\n",
      "[Parallel(n_jobs=-1)]: Using backend LokyBackend with 12 concurrent workers.\n"
     ]
    },
    {
     "name": "stdout",
     "output_type": "stream",
     "text": [
      "K-Fold #7\n",
      "Mean negativities for all classes: [0.09224225158647649]\n",
      "Mean entropies for all classes: [6.2914756114423645e-15]\n",
      "              precision    recall  f1-score   support\n",
      "\n",
      "           0       0.50      0.67      0.57         3\n",
      "           1       0.75      0.60      0.67         5\n",
      "\n",
      "    accuracy                           0.62         8\n",
      "   macro avg       0.62      0.63      0.62         8\n",
      "weighted avg       0.66      0.62      0.63         8\n",
      "\n",
      "-------------------------------------------------------------------------------------------------------------------\n"
     ]
    },
    {
     "name": "stderr",
     "output_type": "stream",
     "text": [
      "[Parallel(n_jobs=-1)]: Done   1 out of   1 | elapsed:   31.4s finished\n",
      "[Parallel(n_jobs=-1)]: Using backend LokyBackend with 12 concurrent workers.\n"
     ]
    },
    {
     "name": "stdout",
     "output_type": "stream",
     "text": [
      "K-Fold #8\n",
      "Mean negativities for all classes: [0.09240228241490449]\n",
      "Mean entropies for all classes: [7.206698371637648e-15]\n",
      "              precision    recall  f1-score   support\n",
      "\n",
      "           0       0.25      0.33      0.29         3\n",
      "           1       0.50      0.40      0.44         5\n",
      "\n",
      "    accuracy                           0.38         8\n",
      "   macro avg       0.38      0.37      0.37         8\n",
      "weighted avg       0.41      0.38      0.38         8\n",
      "\n",
      "-------------------------------------------------------------------------------------------------------------------\n"
     ]
    },
    {
     "name": "stderr",
     "output_type": "stream",
     "text": [
      "[Parallel(n_jobs=-1)]: Done   1 out of   1 | elapsed:   31.4s finished\n",
      "[Parallel(n_jobs=-1)]: Using backend LokyBackend with 12 concurrent workers.\n"
     ]
    },
    {
     "name": "stdout",
     "output_type": "stream",
     "text": [
      "K-Fold #9\n",
      "Mean negativities for all classes: [0.0912230767169702]\n",
      "Mean entropies for all classes: [6.8069339850814345e-15]\n",
      "              precision    recall  f1-score   support\n",
      "\n",
      "           0       0.33      0.33      0.33         3\n",
      "           1       0.60      0.60      0.60         5\n",
      "\n",
      "    accuracy                           0.50         8\n",
      "   macro avg       0.47      0.47      0.47         8\n",
      "weighted avg       0.50      0.50      0.50         8\n",
      "\n",
      "-------------------------------------------------------------------------------------------------------------------\n",
      "AVG: Scores = 0.6 F1-Scores = 0.5901587301587302 Negativity = [0.2380745369589377, 0.09262918401442928] Entropy = [5.683300580896762e-15, 6.173893610913596e-15]\n"
     ]
    },
    {
     "name": "stderr",
     "output_type": "stream",
     "text": [
      "[Parallel(n_jobs=-1)]: Done   1 out of   1 | elapsed:   32.0s finished\n",
      "[Parallel(n_jobs=-1)]: Using backend LokyBackend with 12 concurrent workers.\n"
     ]
    },
    {
     "name": "stdout",
     "output_type": "stream",
     "text": [
      "K-Fold #0\n",
      "Mean negativities for all classes: [0.24205367564545463]\n",
      "Mean entropies for all classes: [6.5661113003429505e-15]\n",
      "              precision    recall  f1-score   support\n",
      "\n",
      "           0       0.75      0.75      0.75         4\n",
      "           1       0.75      0.75      0.75         4\n",
      "\n",
      "    accuracy                           0.75         8\n",
      "   macro avg       0.75      0.75      0.75         8\n",
      "weighted avg       0.75      0.75      0.75         8\n",
      "\n",
      "-------------------------------------------------------------------------------------------------------------------\n"
     ]
    },
    {
     "name": "stderr",
     "output_type": "stream",
     "text": [
      "[Parallel(n_jobs=-1)]: Done   1 out of   1 | elapsed:   32.0s finished\n",
      "[Parallel(n_jobs=-1)]: Using backend LokyBackend with 12 concurrent workers.\n"
     ]
    },
    {
     "name": "stdout",
     "output_type": "stream",
     "text": [
      "K-Fold #1\n",
      "Mean negativities for all classes: [0.09279265915374123]\n",
      "Mean entropies for all classes: [5.609814117373765e-15]\n",
      "              precision    recall  f1-score   support\n",
      "\n",
      "           0       0.75      0.75      0.75         4\n",
      "           1       0.75      0.75      0.75         4\n",
      "\n",
      "    accuracy                           0.75         8\n",
      "   macro avg       0.75      0.75      0.75         8\n",
      "weighted avg       0.75      0.75      0.75         8\n",
      "\n",
      "-------------------------------------------------------------------------------------------------------------------\n"
     ]
    },
    {
     "name": "stderr",
     "output_type": "stream",
     "text": [
      "[Parallel(n_jobs=-1)]: Done   1 out of   1 | elapsed:   32.2s finished\n",
      "[Parallel(n_jobs=-1)]: Using backend LokyBackend with 12 concurrent workers.\n"
     ]
    },
    {
     "name": "stdout",
     "output_type": "stream",
     "text": [
      "K-Fold #2\n",
      "Mean negativities for all classes: [0.09190589799934729]\n",
      "Mean entropies for all classes: [5.417451144008641e-15]\n",
      "              precision    recall  f1-score   support\n",
      "\n",
      "           0       0.80      1.00      0.89         4\n",
      "           1       1.00      0.75      0.86         4\n",
      "\n",
      "    accuracy                           0.88         8\n",
      "   macro avg       0.90      0.88      0.87         8\n",
      "weighted avg       0.90      0.88      0.87         8\n",
      "\n",
      "-------------------------------------------------------------------------------------------------------------------\n"
     ]
    },
    {
     "name": "stderr",
     "output_type": "stream",
     "text": [
      "[Parallel(n_jobs=-1)]: Done   1 out of   1 | elapsed:   32.0s finished\n",
      "[Parallel(n_jobs=-1)]: Using backend LokyBackend with 12 concurrent workers.\n"
     ]
    },
    {
     "name": "stdout",
     "output_type": "stream",
     "text": [
      "K-Fold #3\n",
      "Mean negativities for all classes: [0.09191455161557707]\n",
      "Mean entropies for all classes: [6.934791370541426e-15]\n",
      "              precision    recall  f1-score   support\n",
      "\n",
      "           0       0.60      0.75      0.67         4\n",
      "           1       0.67      0.50      0.57         4\n",
      "\n",
      "    accuracy                           0.62         8\n",
      "   macro avg       0.63      0.62      0.62         8\n",
      "weighted avg       0.63      0.62      0.62         8\n",
      "\n",
      "-------------------------------------------------------------------------------------------------------------------\n"
     ]
    },
    {
     "name": "stderr",
     "output_type": "stream",
     "text": [
      "[Parallel(n_jobs=-1)]: Done   1 out of   1 | elapsed:   31.3s finished\n",
      "[Parallel(n_jobs=-1)]: Using backend LokyBackend with 12 concurrent workers.\n"
     ]
    },
    {
     "name": "stdout",
     "output_type": "stream",
     "text": [
      "K-Fold #4\n",
      "Mean negativities for all classes: [0.0913470191140264]\n",
      "Mean entropies for all classes: [6.2942655892670895e-15]\n",
      "              precision    recall  f1-score   support\n",
      "\n",
      "           0       0.40      0.67      0.50         3\n",
      "           1       0.67      0.40      0.50         5\n",
      "\n",
      "    accuracy                           0.50         8\n",
      "   macro avg       0.53      0.53      0.50         8\n",
      "weighted avg       0.57      0.50      0.50         8\n",
      "\n",
      "-------------------------------------------------------------------------------------------------------------------\n"
     ]
    },
    {
     "name": "stderr",
     "output_type": "stream",
     "text": [
      "[Parallel(n_jobs=-1)]: Done   1 out of   1 | elapsed:   31.3s finished\n",
      "[Parallel(n_jobs=-1)]: Using backend LokyBackend with 12 concurrent workers.\n"
     ]
    },
    {
     "name": "stdout",
     "output_type": "stream",
     "text": [
      "K-Fold #5\n",
      "Mean negativities for all classes: [0.09524416191588969]\n",
      "Mean entropies for all classes: [6.704092603678481e-15]\n",
      "              precision    recall  f1-score   support\n",
      "\n",
      "           0       0.40      0.67      0.50         3\n",
      "           1       0.67      0.40      0.50         5\n",
      "\n",
      "    accuracy                           0.50         8\n",
      "   macro avg       0.53      0.53      0.50         8\n",
      "weighted avg       0.57      0.50      0.50         8\n",
      "\n",
      "-------------------------------------------------------------------------------------------------------------------\n"
     ]
    },
    {
     "name": "stderr",
     "output_type": "stream",
     "text": [
      "[Parallel(n_jobs=-1)]: Done   1 out of   1 | elapsed:   32.0s finished\n",
      "[Parallel(n_jobs=-1)]: Using backend LokyBackend with 12 concurrent workers.\n"
     ]
    },
    {
     "name": "stdout",
     "output_type": "stream",
     "text": [
      "K-Fold #6\n",
      "Mean negativities for all classes: [0.09138437450223122]\n",
      "Mean entropies for all classes: [6.2466657530669226e-15]\n",
      "              precision    recall  f1-score   support\n",
      "\n",
      "           0       0.40      0.67      0.50         3\n",
      "           1       0.67      0.40      0.50         5\n",
      "\n",
      "    accuracy                           0.50         8\n",
      "   macro avg       0.53      0.53      0.50         8\n",
      "weighted avg       0.57      0.50      0.50         8\n",
      "\n",
      "-------------------------------------------------------------------------------------------------------------------\n"
     ]
    },
    {
     "name": "stderr",
     "output_type": "stream",
     "text": [
      "[Parallel(n_jobs=-1)]: Done   1 out of   1 | elapsed:   31.4s finished\n",
      "[Parallel(n_jobs=-1)]: Using backend LokyBackend with 12 concurrent workers.\n"
     ]
    },
    {
     "name": "stdout",
     "output_type": "stream",
     "text": [
      "K-Fold #7\n",
      "Mean negativities for all classes: [0.09171352840057408]\n",
      "Mean entropies for all classes: [6.892307017923302e-15]\n",
      "              precision    recall  f1-score   support\n",
      "\n",
      "           0       0.20      0.33      0.25         3\n",
      "           1       0.33      0.20      0.25         5\n",
      "\n",
      "    accuracy                           0.25         8\n",
      "   macro avg       0.27      0.27      0.25         8\n",
      "weighted avg       0.28      0.25      0.25         8\n",
      "\n",
      "-------------------------------------------------------------------------------------------------------------------\n"
     ]
    },
    {
     "name": "stderr",
     "output_type": "stream",
     "text": [
      "[Parallel(n_jobs=-1)]: Done   1 out of   1 | elapsed:   31.4s finished\n",
      "[Parallel(n_jobs=-1)]: Using backend LokyBackend with 12 concurrent workers.\n"
     ]
    },
    {
     "name": "stdout",
     "output_type": "stream",
     "text": [
      "K-Fold #8\n",
      "Mean negativities for all classes: [0.2341247390079877]\n",
      "Mean entropies for all classes: [6.168334465875623e-15]\n",
      "              precision    recall  f1-score   support\n",
      "\n",
      "           0       0.33      0.33      0.33         3\n",
      "           1       0.60      0.60      0.60         5\n",
      "\n",
      "    accuracy                           0.50         8\n",
      "   macro avg       0.47      0.47      0.47         8\n",
      "weighted avg       0.50      0.50      0.50         8\n",
      "\n",
      "-------------------------------------------------------------------------------------------------------------------\n"
     ]
    },
    {
     "name": "stderr",
     "output_type": "stream",
     "text": [
      "[Parallel(n_jobs=-1)]: Done   1 out of   1 | elapsed:   31.4s finished\n",
      "[Parallel(n_jobs=-1)]: Using backend LokyBackend with 12 concurrent workers.\n"
     ]
    },
    {
     "name": "stdout",
     "output_type": "stream",
     "text": [
      "K-Fold #9\n",
      "Mean negativities for all classes: [0.09727531218959048]\n",
      "Mean entropies for all classes: [5.6549937690483254e-15]\n",
      "              precision    recall  f1-score   support\n",
      "\n",
      "           0       0.40      0.67      0.50         3\n",
      "           1       0.67      0.40      0.50         5\n",
      "\n",
      "    accuracy                           0.50         8\n",
      "   macro avg       0.53      0.53      0.50         8\n",
      "weighted avg       0.57      0.50      0.50         8\n",
      "\n",
      "-------------------------------------------------------------------------------------------------------------------\n",
      "AVG: Scores = 0.575 F1-Scores = 0.5708730158730159 Negativity = [0.24205367564545463, 0.09279265915374123] Entropy = [6.5661113003429505e-15, 5.609814117373765e-15]\n"
     ]
    },
    {
     "name": "stderr",
     "output_type": "stream",
     "text": [
      "[Parallel(n_jobs=-1)]: Done   1 out of   1 | elapsed:   32.1s finished\n",
      "[Parallel(n_jobs=-1)]: Using backend LokyBackend with 12 concurrent workers.\n"
     ]
    },
    {
     "name": "stdout",
     "output_type": "stream",
     "text": [
      "K-Fold #0\n",
      "Mean negativities for all classes: [0.09868603288513932]\n",
      "Mean entropies for all classes: [6.752226801970987e-15]\n",
      "              precision    recall  f1-score   support\n",
      "\n",
      "           0       0.33      0.50      0.40         4\n",
      "           1       0.00      0.00      0.00         4\n",
      "\n",
      "    accuracy                           0.25         8\n",
      "   macro avg       0.17      0.25      0.20         8\n",
      "weighted avg       0.17      0.25      0.20         8\n",
      "\n",
      "-------------------------------------------------------------------------------------------------------------------\n"
     ]
    },
    {
     "name": "stderr",
     "output_type": "stream",
     "text": [
      "[Parallel(n_jobs=-1)]: Done   1 out of   1 | elapsed:   32.0s finished\n",
      "[Parallel(n_jobs=-1)]: Using backend LokyBackend with 12 concurrent workers.\n"
     ]
    },
    {
     "name": "stdout",
     "output_type": "stream",
     "text": [
      "K-Fold #1\n",
      "Mean negativities for all classes: [0.09190956921173232]\n",
      "Mean entropies for all classes: [6.12782731354263e-15]\n",
      "              precision    recall  f1-score   support\n",
      "\n",
      "           0       0.33      0.25      0.29         4\n",
      "           1       0.40      0.50      0.44         4\n",
      "\n",
      "    accuracy                           0.38         8\n",
      "   macro avg       0.37      0.38      0.37         8\n",
      "weighted avg       0.37      0.38      0.37         8\n",
      "\n",
      "-------------------------------------------------------------------------------------------------------------------\n"
     ]
    },
    {
     "name": "stderr",
     "output_type": "stream",
     "text": [
      "[Parallel(n_jobs=-1)]: Done   1 out of   1 | elapsed:   32.2s finished\n",
      "[Parallel(n_jobs=-1)]: Using backend LokyBackend with 12 concurrent workers.\n"
     ]
    },
    {
     "name": "stdout",
     "output_type": "stream",
     "text": [
      "K-Fold #2\n",
      "Mean negativities for all classes: [0.09237058550457883]\n",
      "Mean entropies for all classes: [5.684487059267872e-15]\n",
      "              precision    recall  f1-score   support\n",
      "\n",
      "           0       0.75      0.75      0.75         4\n",
      "           1       0.75      0.75      0.75         4\n",
      "\n",
      "    accuracy                           0.75         8\n",
      "   macro avg       0.75      0.75      0.75         8\n",
      "weighted avg       0.75      0.75      0.75         8\n",
      "\n",
      "-------------------------------------------------------------------------------------------------------------------\n"
     ]
    },
    {
     "name": "stderr",
     "output_type": "stream",
     "text": [
      "[Parallel(n_jobs=-1)]: Done   1 out of   1 | elapsed:   32.1s finished\n",
      "[Parallel(n_jobs=-1)]: Using backend LokyBackend with 12 concurrent workers.\n"
     ]
    },
    {
     "name": "stdout",
     "output_type": "stream",
     "text": [
      "K-Fold #3\n",
      "Mean negativities for all classes: [0.0991906750768422]\n",
      "Mean entropies for all classes: [5.713039637977968e-15]\n",
      "              precision    recall  f1-score   support\n",
      "\n",
      "           0       0.60      0.75      0.67         4\n",
      "           1       0.67      0.50      0.57         4\n",
      "\n",
      "    accuracy                           0.62         8\n",
      "   macro avg       0.63      0.62      0.62         8\n",
      "weighted avg       0.63      0.62      0.62         8\n",
      "\n",
      "-------------------------------------------------------------------------------------------------------------------\n"
     ]
    },
    {
     "name": "stderr",
     "output_type": "stream",
     "text": [
      "[Parallel(n_jobs=-1)]: Done   1 out of   1 | elapsed:   31.3s finished\n",
      "[Parallel(n_jobs=-1)]: Using backend LokyBackend with 12 concurrent workers.\n"
     ]
    },
    {
     "name": "stdout",
     "output_type": "stream",
     "text": [
      "K-Fold #4\n",
      "Mean negativities for all classes: [0.09493560490546303]\n",
      "Mean entropies for all classes: [6.563161326831276e-15]\n",
      "              precision    recall  f1-score   support\n",
      "\n",
      "           0       0.50      0.67      0.57         3\n",
      "           1       0.75      0.60      0.67         5\n",
      "\n",
      "    accuracy                           0.62         8\n",
      "   macro avg       0.62      0.63      0.62         8\n",
      "weighted avg       0.66      0.62      0.63         8\n",
      "\n",
      "-------------------------------------------------------------------------------------------------------------------\n"
     ]
    },
    {
     "name": "stderr",
     "output_type": "stream",
     "text": [
      "[Parallel(n_jobs=-1)]: Done   1 out of   1 | elapsed:   31.3s finished\n",
      "[Parallel(n_jobs=-1)]: Using backend LokyBackend with 12 concurrent workers.\n"
     ]
    },
    {
     "name": "stdout",
     "output_type": "stream",
     "text": [
      "K-Fold #5\n",
      "Mean negativities for all classes: [0.10596736344245286]\n",
      "Mean entropies for all classes: [5.691919829601182e-15]\n",
      "              precision    recall  f1-score   support\n",
      "\n",
      "           0       0.50      1.00      0.67         3\n",
      "           1       1.00      0.40      0.57         5\n",
      "\n",
      "    accuracy                           0.62         8\n",
      "   macro avg       0.75      0.70      0.62         8\n",
      "weighted avg       0.81      0.62      0.61         8\n",
      "\n",
      "-------------------------------------------------------------------------------------------------------------------\n"
     ]
    },
    {
     "name": "stderr",
     "output_type": "stream",
     "text": [
      "[Parallel(n_jobs=-1)]: Done   1 out of   1 | elapsed:   32.0s finished\n",
      "[Parallel(n_jobs=-1)]: Using backend LokyBackend with 12 concurrent workers.\n"
     ]
    },
    {
     "name": "stdout",
     "output_type": "stream",
     "text": [
      "K-Fold #6\n",
      "Mean negativities for all classes: [0.09174493879748874]\n",
      "Mean entropies for all classes: [5.3309538788094295e-15]\n",
      "              precision    recall  f1-score   support\n",
      "\n",
      "           0       0.60      1.00      0.75         3\n",
      "           1       1.00      0.60      0.75         5\n",
      "\n",
      "    accuracy                           0.75         8\n",
      "   macro avg       0.80      0.80      0.75         8\n",
      "weighted avg       0.85      0.75      0.75         8\n",
      "\n",
      "-------------------------------------------------------------------------------------------------------------------\n"
     ]
    },
    {
     "name": "stderr",
     "output_type": "stream",
     "text": [
      "[Parallel(n_jobs=-1)]: Done   1 out of   1 | elapsed:   31.3s finished\n",
      "[Parallel(n_jobs=-1)]: Using backend LokyBackend with 12 concurrent workers.\n"
     ]
    },
    {
     "name": "stdout",
     "output_type": "stream",
     "text": [
      "K-Fold #7\n",
      "Mean negativities for all classes: [0.09568968510935599]\n",
      "Mean entropies for all classes: [6.554789940282752e-15]\n",
      "              precision    recall  f1-score   support\n",
      "\n",
      "           0       0.00      0.00      0.00         3\n",
      "           1       0.50      0.60      0.55         5\n",
      "\n",
      "    accuracy                           0.38         8\n",
      "   macro avg       0.25      0.30      0.27         8\n",
      "weighted avg       0.31      0.38      0.34         8\n",
      "\n",
      "-------------------------------------------------------------------------------------------------------------------\n"
     ]
    },
    {
     "name": "stderr",
     "output_type": "stream",
     "text": [
      "[Parallel(n_jobs=-1)]: Done   1 out of   1 | elapsed:   31.3s finished\n",
      "[Parallel(n_jobs=-1)]: Using backend LokyBackend with 12 concurrent workers.\n"
     ]
    },
    {
     "name": "stdout",
     "output_type": "stream",
     "text": [
      "K-Fold #8\n",
      "Mean negativities for all classes: [0.09137138306373532]\n",
      "Mean entropies for all classes: [7.226809235551468e-15]\n",
      "              precision    recall  f1-score   support\n",
      "\n",
      "           0       0.00      0.00      0.00         3\n",
      "           1       0.57      0.80      0.67         5\n",
      "\n",
      "    accuracy                           0.50         8\n",
      "   macro avg       0.29      0.40      0.33         8\n",
      "weighted avg       0.36      0.50      0.42         8\n",
      "\n",
      "-------------------------------------------------------------------------------------------------------------------\n"
     ]
    },
    {
     "name": "stderr",
     "output_type": "stream",
     "text": [
      "[Parallel(n_jobs=-1)]: Done   1 out of   1 | elapsed:   31.3s finished\n",
      "[Parallel(n_jobs=-1)]: Using backend LokyBackend with 12 concurrent workers.\n"
     ]
    },
    {
     "name": "stdout",
     "output_type": "stream",
     "text": [
      "K-Fold #9\n",
      "Mean negativities for all classes: [0.09258164110366249]\n",
      "Mean entropies for all classes: [6.619287012569834e-15]\n",
      "              precision    recall  f1-score   support\n",
      "\n",
      "           0       0.40      0.67      0.50         3\n",
      "           1       0.67      0.40      0.50         5\n",
      "\n",
      "    accuracy                           0.50         8\n",
      "   macro avg       0.53      0.53      0.50         8\n",
      "weighted avg       0.57      0.50      0.50         8\n",
      "\n",
      "-------------------------------------------------------------------------------------------------------------------\n",
      "AVG: Scores = 0.5375 F1-Scores = 0.5028282828282828 Negativity = [0.09868603288513932, 0.09190956921173232] Entropy = [6.752226801970987e-15, 6.12782731354263e-15]\n"
     ]
    },
    {
     "name": "stderr",
     "output_type": "stream",
     "text": [
      "[Parallel(n_jobs=-1)]: Done   1 out of   1 | elapsed:   32.1s finished\n",
      "[Parallel(n_jobs=-1)]: Using backend LokyBackend with 12 concurrent workers.\n"
     ]
    },
    {
     "name": "stdout",
     "output_type": "stream",
     "text": [
      "K-Fold #0\n",
      "Mean negativities for all classes: [0.09102635829415992]\n",
      "Mean entropies for all classes: [7.128469883531485e-15]\n",
      "              precision    recall  f1-score   support\n",
      "\n",
      "           0       0.60      0.75      0.67         4\n",
      "           1       0.67      0.50      0.57         4\n",
      "\n",
      "    accuracy                           0.62         8\n",
      "   macro avg       0.63      0.62      0.62         8\n",
      "weighted avg       0.63      0.62      0.62         8\n",
      "\n",
      "-------------------------------------------------------------------------------------------------------------------\n"
     ]
    },
    {
     "name": "stderr",
     "output_type": "stream",
     "text": [
      "[Parallel(n_jobs=-1)]: Done   1 out of   1 | elapsed:   32.1s finished\n",
      "[Parallel(n_jobs=-1)]: Using backend LokyBackend with 12 concurrent workers.\n"
     ]
    },
    {
     "name": "stdout",
     "output_type": "stream",
     "text": [
      "K-Fold #1\n",
      "Mean negativities for all classes: [0.0919690843801758]\n",
      "Mean entropies for all classes: [6.4728892701472065e-15]\n",
      "              precision    recall  f1-score   support\n",
      "\n",
      "           0       0.60      0.75      0.67         4\n",
      "           1       0.67      0.50      0.57         4\n",
      "\n",
      "    accuracy                           0.62         8\n",
      "   macro avg       0.63      0.62      0.62         8\n",
      "weighted avg       0.63      0.62      0.62         8\n",
      "\n",
      "-------------------------------------------------------------------------------------------------------------------\n"
     ]
    },
    {
     "name": "stderr",
     "output_type": "stream",
     "text": [
      "[Parallel(n_jobs=-1)]: Done   1 out of   1 | elapsed:   32.2s finished\n",
      "[Parallel(n_jobs=-1)]: Using backend LokyBackend with 12 concurrent workers.\n"
     ]
    },
    {
     "name": "stdout",
     "output_type": "stream",
     "text": [
      "K-Fold #2\n",
      "Mean negativities for all classes: [0.09655075323641296]\n",
      "Mean entropies for all classes: [6.120923383422145e-15]\n",
      "              precision    recall  f1-score   support\n",
      "\n",
      "           0       0.60      0.75      0.67         4\n",
      "           1       0.67      0.50      0.57         4\n",
      "\n",
      "    accuracy                           0.62         8\n",
      "   macro avg       0.63      0.62      0.62         8\n",
      "weighted avg       0.63      0.62      0.62         8\n",
      "\n",
      "-------------------------------------------------------------------------------------------------------------------\n"
     ]
    },
    {
     "name": "stderr",
     "output_type": "stream",
     "text": [
      "[Parallel(n_jobs=-1)]: Done   1 out of   1 | elapsed:   32.0s finished\n",
      "[Parallel(n_jobs=-1)]: Using backend LokyBackend with 12 concurrent workers.\n"
     ]
    },
    {
     "name": "stdout",
     "output_type": "stream",
     "text": [
      "K-Fold #3\n",
      "Mean negativities for all classes: [0.0913408390364342]\n",
      "Mean entropies for all classes: [6.2344146704723015e-15]\n",
      "              precision    recall  f1-score   support\n",
      "\n",
      "           0       0.40      0.50      0.44         4\n",
      "           1       0.33      0.25      0.29         4\n",
      "\n",
      "    accuracy                           0.38         8\n",
      "   macro avg       0.37      0.38      0.37         8\n",
      "weighted avg       0.37      0.38      0.37         8\n",
      "\n",
      "-------------------------------------------------------------------------------------------------------------------\n"
     ]
    },
    {
     "name": "stderr",
     "output_type": "stream",
     "text": [
      "[Parallel(n_jobs=-1)]: Done   1 out of   1 | elapsed:   31.4s finished\n",
      "[Parallel(n_jobs=-1)]: Using backend LokyBackend with 12 concurrent workers.\n"
     ]
    },
    {
     "name": "stdout",
     "output_type": "stream",
     "text": [
      "K-Fold #4\n",
      "Mean negativities for all classes: [0.09103195391856726]\n",
      "Mean entropies for all classes: [7.62445904165472e-15]\n",
      "              precision    recall  f1-score   support\n",
      "\n",
      "           0       0.33      0.67      0.44         3\n",
      "           1       0.50      0.20      0.29         5\n",
      "\n",
      "    accuracy                           0.38         8\n",
      "   macro avg       0.42      0.43      0.37         8\n",
      "weighted avg       0.44      0.38      0.35         8\n",
      "\n",
      "-------------------------------------------------------------------------------------------------------------------\n"
     ]
    },
    {
     "name": "stderr",
     "output_type": "stream",
     "text": [
      "[Parallel(n_jobs=-1)]: Done   1 out of   1 | elapsed:   31.2s finished\n",
      "[Parallel(n_jobs=-1)]: Using backend LokyBackend with 12 concurrent workers.\n"
     ]
    },
    {
     "name": "stdout",
     "output_type": "stream",
     "text": [
      "K-Fold #5\n",
      "Mean negativities for all classes: [0.0921291301116062]\n",
      "Mean entropies for all classes: [6.274895261343287e-15]\n",
      "              precision    recall  f1-score   support\n",
      "\n",
      "           0       0.50      0.67      0.57         3\n",
      "           1       0.75      0.60      0.67         5\n",
      "\n",
      "    accuracy                           0.62         8\n",
      "   macro avg       0.62      0.63      0.62         8\n",
      "weighted avg       0.66      0.62      0.63         8\n",
      "\n",
      "-------------------------------------------------------------------------------------------------------------------\n"
     ]
    },
    {
     "name": "stderr",
     "output_type": "stream",
     "text": [
      "[Parallel(n_jobs=-1)]: Done   1 out of   1 | elapsed:   32.1s finished\n",
      "[Parallel(n_jobs=-1)]: Using backend LokyBackend with 12 concurrent workers.\n"
     ]
    },
    {
     "name": "stdout",
     "output_type": "stream",
     "text": [
      "K-Fold #6\n",
      "Mean negativities for all classes: [0.09179600311385921]\n",
      "Mean entropies for all classes: [7.232419573276757e-15]\n",
      "              precision    recall  f1-score   support\n",
      "\n",
      "           0       0.67      0.67      0.67         3\n",
      "           1       0.80      0.80      0.80         5\n",
      "\n",
      "    accuracy                           0.75         8\n",
      "   macro avg       0.73      0.73      0.73         8\n",
      "weighted avg       0.75      0.75      0.75         8\n",
      "\n",
      "-------------------------------------------------------------------------------------------------------------------\n"
     ]
    },
    {
     "name": "stderr",
     "output_type": "stream",
     "text": [
      "[Parallel(n_jobs=-1)]: Done   1 out of   1 | elapsed:   31.4s finished\n",
      "[Parallel(n_jobs=-1)]: Using backend LokyBackend with 12 concurrent workers.\n"
     ]
    },
    {
     "name": "stdout",
     "output_type": "stream",
     "text": [
      "K-Fold #7\n",
      "Mean negativities for all classes: [0.09136305806997724]\n",
      "Mean entropies for all classes: [6.544120863879926e-15]\n",
      "              precision    recall  f1-score   support\n",
      "\n",
      "           0       0.25      0.33      0.29         3\n",
      "           1       0.50      0.40      0.44         5\n",
      "\n",
      "    accuracy                           0.38         8\n",
      "   macro avg       0.38      0.37      0.37         8\n",
      "weighted avg       0.41      0.38      0.38         8\n",
      "\n",
      "-------------------------------------------------------------------------------------------------------------------\n"
     ]
    },
    {
     "name": "stderr",
     "output_type": "stream",
     "text": [
      "[Parallel(n_jobs=-1)]: Done   1 out of   1 | elapsed:   31.4s finished\n",
      "[Parallel(n_jobs=-1)]: Using backend LokyBackend with 12 concurrent workers.\n"
     ]
    },
    {
     "name": "stdout",
     "output_type": "stream",
     "text": [
      "K-Fold #8\n",
      "Mean negativities for all classes: [0.09161279394191146]\n",
      "Mean entropies for all classes: [5.962750503075581e-15]\n",
      "              precision    recall  f1-score   support\n",
      "\n",
      "           0       0.60      1.00      0.75         3\n",
      "           1       1.00      0.60      0.75         5\n",
      "\n",
      "    accuracy                           0.75         8\n",
      "   macro avg       0.80      0.80      0.75         8\n",
      "weighted avg       0.85      0.75      0.75         8\n",
      "\n",
      "-------------------------------------------------------------------------------------------------------------------\n"
     ]
    },
    {
     "name": "stderr",
     "output_type": "stream",
     "text": [
      "[Parallel(n_jobs=-1)]: Done   1 out of   1 | elapsed:   31.5s finished\n",
      "[Parallel(n_jobs=-1)]: Using backend LokyBackend with 12 concurrent workers.\n"
     ]
    },
    {
     "name": "stdout",
     "output_type": "stream",
     "text": [
      "K-Fold #9\n",
      "Mean negativities for all classes: [0.09164710881503611]\n",
      "Mean entropies for all classes: [6.659401901655547e-15]\n",
      "              precision    recall  f1-score   support\n",
      "\n",
      "           0       0.40      0.67      0.50         3\n",
      "           1       0.67      0.40      0.50         5\n",
      "\n",
      "    accuracy                           0.50         8\n",
      "   macro avg       0.53      0.53      0.50         8\n",
      "weighted avg       0.57      0.50      0.50         8\n",
      "\n",
      "-------------------------------------------------------------------------------------------------------------------\n",
      "AVG: Scores = 0.5625 F1-Scores = 0.5554761904761906 Negativity = [0.09102635829415992, 0.0919690843801758] Entropy = [7.128469883531485e-15, 6.4728892701472065e-15]\n"
     ]
    },
    {
     "name": "stderr",
     "output_type": "stream",
     "text": [
      "[Parallel(n_jobs=-1)]: Done   1 out of   1 | elapsed:   32.2s finished\n",
      "[Parallel(n_jobs=-1)]: Using backend LokyBackend with 12 concurrent workers.\n"
     ]
    },
    {
     "name": "stdout",
     "output_type": "stream",
     "text": [
      "K-Fold #0\n",
      "Mean negativities for all classes: [0.09112566427525554]\n",
      "Mean entropies for all classes: [6.881079215795925e-15]\n",
      "              precision    recall  f1-score   support\n",
      "\n",
      "           0       0.00      0.00      0.00         4\n",
      "           1       0.20      0.25      0.22         4\n",
      "\n",
      "    accuracy                           0.12         8\n",
      "   macro avg       0.10      0.12      0.11         8\n",
      "weighted avg       0.10      0.12      0.11         8\n",
      "\n",
      "-------------------------------------------------------------------------------------------------------------------\n"
     ]
    },
    {
     "name": "stderr",
     "output_type": "stream",
     "text": [
      "[Parallel(n_jobs=-1)]: Done   1 out of   1 | elapsed:   32.0s finished\n",
      "[Parallel(n_jobs=-1)]: Using backend LokyBackend with 12 concurrent workers.\n"
     ]
    },
    {
     "name": "stdout",
     "output_type": "stream",
     "text": [
      "K-Fold #1\n",
      "Mean negativities for all classes: [0.09150401391975402]\n",
      "Mean entropies for all classes: [6.806248825689528e-15]\n",
      "              precision    recall  f1-score   support\n",
      "\n",
      "           0       0.40      0.50      0.44         4\n",
      "           1       0.33      0.25      0.29         4\n",
      "\n",
      "    accuracy                           0.38         8\n",
      "   macro avg       0.37      0.38      0.37         8\n",
      "weighted avg       0.37      0.38      0.37         8\n",
      "\n",
      "-------------------------------------------------------------------------------------------------------------------\n"
     ]
    },
    {
     "name": "stderr",
     "output_type": "stream",
     "text": [
      "[Parallel(n_jobs=-1)]: Done   1 out of   1 | elapsed:   32.1s finished\n",
      "[Parallel(n_jobs=-1)]: Using backend LokyBackend with 12 concurrent workers.\n"
     ]
    },
    {
     "name": "stdout",
     "output_type": "stream",
     "text": [
      "K-Fold #2\n",
      "Mean negativities for all classes: [0.09199622401657104]\n",
      "Mean entropies for all classes: [7.019114033985038e-15]\n",
      "              precision    recall  f1-score   support\n",
      "\n",
      "           0       0.80      1.00      0.89         4\n",
      "           1       1.00      0.75      0.86         4\n",
      "\n",
      "    accuracy                           0.88         8\n",
      "   macro avg       0.90      0.88      0.87         8\n",
      "weighted avg       0.90      0.88      0.87         8\n",
      "\n",
      "-------------------------------------------------------------------------------------------------------------------\n"
     ]
    },
    {
     "name": "stderr",
     "output_type": "stream",
     "text": [
      "[Parallel(n_jobs=-1)]: Done   1 out of   1 | elapsed:   32.1s finished\n",
      "[Parallel(n_jobs=-1)]: Using backend LokyBackend with 12 concurrent workers.\n"
     ]
    },
    {
     "name": "stdout",
     "output_type": "stream",
     "text": [
      "K-Fold #3\n",
      "Mean negativities for all classes: [0.09122929046626424]\n",
      "Mean entropies for all classes: [6.24977467235368e-15]\n",
      "              precision    recall  f1-score   support\n",
      "\n",
      "           0       0.80      1.00      0.89         4\n",
      "           1       1.00      0.75      0.86         4\n",
      "\n",
      "    accuracy                           0.88         8\n",
      "   macro avg       0.90      0.88      0.87         8\n",
      "weighted avg       0.90      0.88      0.87         8\n",
      "\n",
      "-------------------------------------------------------------------------------------------------------------------\n"
     ]
    },
    {
     "name": "stderr",
     "output_type": "stream",
     "text": [
      "[Parallel(n_jobs=-1)]: Done   1 out of   1 | elapsed:   31.2s finished\n",
      "[Parallel(n_jobs=-1)]: Using backend LokyBackend with 12 concurrent workers.\n"
     ]
    },
    {
     "name": "stdout",
     "output_type": "stream",
     "text": [
      "K-Fold #4\n",
      "Mean negativities for all classes: [0.09938013621191907]\n",
      "Mean entropies for all classes: [6.1972913352299694e-15]\n",
      "              precision    recall  f1-score   support\n",
      "\n",
      "           0       0.25      0.33      0.29         3\n",
      "           1       0.50      0.40      0.44         5\n",
      "\n",
      "    accuracy                           0.38         8\n",
      "   macro avg       0.38      0.37      0.37         8\n",
      "weighted avg       0.41      0.38      0.38         8\n",
      "\n",
      "-------------------------------------------------------------------------------------------------------------------\n"
     ]
    },
    {
     "name": "stderr",
     "output_type": "stream",
     "text": [
      "[Parallel(n_jobs=-1)]: Done   1 out of   1 | elapsed:   31.3s finished\n",
      "[Parallel(n_jobs=-1)]: Using backend LokyBackend with 12 concurrent workers.\n"
     ]
    },
    {
     "name": "stdout",
     "output_type": "stream",
     "text": [
      "K-Fold #5\n",
      "Mean negativities for all classes: [0.09208875133640747]\n",
      "Mean entropies for all classes: [5.8928762568703114e-15]\n",
      "              precision    recall  f1-score   support\n",
      "\n",
      "           0       0.60      1.00      0.75         3\n",
      "           1       1.00      0.60      0.75         5\n",
      "\n",
      "    accuracy                           0.75         8\n",
      "   macro avg       0.80      0.80      0.75         8\n",
      "weighted avg       0.85      0.75      0.75         8\n",
      "\n",
      "-------------------------------------------------------------------------------------------------------------------\n"
     ]
    },
    {
     "name": "stderr",
     "output_type": "stream",
     "text": [
      "[Parallel(n_jobs=-1)]: Done   1 out of   1 | elapsed:   32.0s finished\n",
      "[Parallel(n_jobs=-1)]: Using backend LokyBackend with 12 concurrent workers.\n"
     ]
    },
    {
     "name": "stdout",
     "output_type": "stream",
     "text": [
      "K-Fold #6\n",
      "Mean negativities for all classes: [0.09310734674326848]\n",
      "Mean entropies for all classes: [6.443502566361938e-15]\n",
      "              precision    recall  f1-score   support\n",
      "\n",
      "           0       0.50      1.00      0.67         3\n",
      "           1       1.00      0.40      0.57         5\n",
      "\n",
      "    accuracy                           0.62         8\n",
      "   macro avg       0.75      0.70      0.62         8\n",
      "weighted avg       0.81      0.62      0.61         8\n",
      "\n",
      "-------------------------------------------------------------------------------------------------------------------\n"
     ]
    },
    {
     "name": "stderr",
     "output_type": "stream",
     "text": [
      "[Parallel(n_jobs=-1)]: Done   1 out of   1 | elapsed:   31.3s finished\n",
      "[Parallel(n_jobs=-1)]: Using backend LokyBackend with 12 concurrent workers.\n"
     ]
    },
    {
     "name": "stdout",
     "output_type": "stream",
     "text": [
      "K-Fold #7\n",
      "Mean negativities for all classes: [0.09501872345025361]\n",
      "Mean entropies for all classes: [6.431782251781387e-15]\n",
      "              precision    recall  f1-score   support\n",
      "\n",
      "           0       0.75      1.00      0.86         3\n",
      "           1       1.00      0.80      0.89         5\n",
      "\n",
      "    accuracy                           0.88         8\n",
      "   macro avg       0.88      0.90      0.87         8\n",
      "weighted avg       0.91      0.88      0.88         8\n",
      "\n",
      "-------------------------------------------------------------------------------------------------------------------\n"
     ]
    },
    {
     "name": "stderr",
     "output_type": "stream",
     "text": [
      "[Parallel(n_jobs=-1)]: Done   1 out of   1 | elapsed:   31.3s finished\n",
      "[Parallel(n_jobs=-1)]: Using backend LokyBackend with 12 concurrent workers.\n"
     ]
    },
    {
     "name": "stdout",
     "output_type": "stream",
     "text": [
      "K-Fold #8\n",
      "Mean negativities for all classes: [0.09435449210023585]\n",
      "Mean entropies for all classes: [7.058678622269433e-15]\n",
      "              precision    recall  f1-score   support\n",
      "\n",
      "           0       0.40      0.67      0.50         3\n",
      "           1       0.67      0.40      0.50         5\n",
      "\n",
      "    accuracy                           0.50         8\n",
      "   macro avg       0.53      0.53      0.50         8\n",
      "weighted avg       0.57      0.50      0.50         8\n",
      "\n",
      "-------------------------------------------------------------------------------------------------------------------\n"
     ]
    },
    {
     "name": "stderr",
     "output_type": "stream",
     "text": [
      "[Parallel(n_jobs=-1)]: Done   1 out of   1 | elapsed:   32.7s finished\n",
      "[Parallel(n_jobs=-1)]: Using backend LokyBackend with 12 concurrent workers.\n"
     ]
    },
    {
     "name": "stdout",
     "output_type": "stream",
     "text": [
      "K-Fold #9\n",
      "Mean negativities for all classes: [0.09106850393869749]\n",
      "Mean entropies for all classes: [6.219774343462598e-15]\n",
      "              precision    recall  f1-score   support\n",
      "\n",
      "           0       0.75      1.00      0.86         3\n",
      "           1       1.00      0.80      0.89         5\n",
      "\n",
      "    accuracy                           0.88         8\n",
      "   macro avg       0.88      0.90      0.87         8\n",
      "weighted avg       0.91      0.88      0.88         8\n",
      "\n",
      "-------------------------------------------------------------------------------------------------------------------\n",
      "AVG: Scores = 0.625 F1-Scores = 0.6202380952380953 Negativity = [0.09112566427525554, 0.09150401391975402] Entropy = [6.881079215795925e-15, 6.806248825689528e-15]\n"
     ]
    },
    {
     "name": "stderr",
     "output_type": "stream",
     "text": [
      "[Parallel(n_jobs=-1)]: Done   1 out of   1 | elapsed:   32.1s finished\n",
      "[Parallel(n_jobs=-1)]: Using backend LokyBackend with 12 concurrent workers.\n"
     ]
    },
    {
     "name": "stdout",
     "output_type": "stream",
     "text": [
      "K-Fold #0\n",
      "Mean negativities for all classes: [0.09117737338093584]\n",
      "Mean entropies for all classes: [7.29528986728124e-15]\n",
      "              precision    recall  f1-score   support\n",
      "\n",
      "           0       0.50      0.50      0.50         4\n",
      "           1       0.50      0.50      0.50         4\n",
      "\n",
      "    accuracy                           0.50         8\n",
      "   macro avg       0.50      0.50      0.50         8\n",
      "weighted avg       0.50      0.50      0.50         8\n",
      "\n",
      "-------------------------------------------------------------------------------------------------------------------\n"
     ]
    },
    {
     "name": "stderr",
     "output_type": "stream",
     "text": [
      "[Parallel(n_jobs=-1)]: Done   1 out of   1 | elapsed:   32.1s finished\n",
      "[Parallel(n_jobs=-1)]: Using backend LokyBackend with 12 concurrent workers.\n"
     ]
    },
    {
     "name": "stdout",
     "output_type": "stream",
     "text": [
      "K-Fold #1\n",
      "Mean negativities for all classes: [0.09185892428116954]\n",
      "Mean entropies for all classes: [7.105725537155417e-15]\n",
      "              precision    recall  f1-score   support\n",
      "\n",
      "           0       0.80      1.00      0.89         4\n",
      "           1       1.00      0.75      0.86         4\n",
      "\n",
      "    accuracy                           0.88         8\n",
      "   macro avg       0.90      0.88      0.87         8\n",
      "weighted avg       0.90      0.88      0.87         8\n",
      "\n",
      "-------------------------------------------------------------------------------------------------------------------\n"
     ]
    },
    {
     "name": "stderr",
     "output_type": "stream",
     "text": [
      "[Parallel(n_jobs=-1)]: Done   1 out of   1 | elapsed:   32.1s finished\n",
      "[Parallel(n_jobs=-1)]: Using backend LokyBackend with 12 concurrent workers.\n"
     ]
    },
    {
     "name": "stdout",
     "output_type": "stream",
     "text": [
      "K-Fold #2\n",
      "Mean negativities for all classes: [0.22512479308453748]\n",
      "Mean entropies for all classes: [6.327423650269836e-15]\n",
      "              precision    recall  f1-score   support\n",
      "\n",
      "           0       0.80      1.00      0.89         4\n",
      "           1       1.00      0.75      0.86         4\n",
      "\n",
      "    accuracy                           0.88         8\n",
      "   macro avg       0.90      0.88      0.87         8\n",
      "weighted avg       0.90      0.88      0.87         8\n",
      "\n",
      "-------------------------------------------------------------------------------------------------------------------\n"
     ]
    },
    {
     "name": "stderr",
     "output_type": "stream",
     "text": [
      "[Parallel(n_jobs=-1)]: Done   1 out of   1 | elapsed:   32.1s finished\n",
      "[Parallel(n_jobs=-1)]: Using backend LokyBackend with 12 concurrent workers.\n"
     ]
    },
    {
     "name": "stdout",
     "output_type": "stream",
     "text": [
      "K-Fold #3\n",
      "Mean negativities for all classes: [0.09160173488249086]\n",
      "Mean entropies for all classes: [6.8077388820415025e-15]\n",
      "              precision    recall  f1-score   support\n",
      "\n",
      "           0       0.75      0.75      0.75         4\n",
      "           1       0.75      0.75      0.75         4\n",
      "\n",
      "    accuracy                           0.75         8\n",
      "   macro avg       0.75      0.75      0.75         8\n",
      "weighted avg       0.75      0.75      0.75         8\n",
      "\n",
      "-------------------------------------------------------------------------------------------------------------------\n"
     ]
    },
    {
     "name": "stderr",
     "output_type": "stream",
     "text": [
      "[Parallel(n_jobs=-1)]: Done   1 out of   1 | elapsed:   31.4s finished\n",
      "[Parallel(n_jobs=-1)]: Using backend LokyBackend with 12 concurrent workers.\n"
     ]
    },
    {
     "name": "stdout",
     "output_type": "stream",
     "text": [
      "K-Fold #4\n",
      "Mean negativities for all classes: [0.0972274311872127]\n",
      "Mean entropies for all classes: [6.628953686381988e-15]\n",
      "              precision    recall  f1-score   support\n",
      "\n",
      "           0       0.33      0.67      0.44         3\n",
      "           1       0.50      0.20      0.29         5\n",
      "\n",
      "    accuracy                           0.38         8\n",
      "   macro avg       0.42      0.43      0.37         8\n",
      "weighted avg       0.44      0.38      0.35         8\n",
      "\n",
      "-------------------------------------------------------------------------------------------------------------------\n"
     ]
    },
    {
     "name": "stderr",
     "output_type": "stream",
     "text": [
      "[Parallel(n_jobs=-1)]: Done   1 out of   1 | elapsed:   31.4s finished\n",
      "[Parallel(n_jobs=-1)]: Using backend LokyBackend with 12 concurrent workers.\n"
     ]
    },
    {
     "name": "stdout",
     "output_type": "stream",
     "text": [
      "K-Fold #5\n",
      "Mean negativities for all classes: [0.09207672774858265]\n",
      "Mean entropies for all classes: [7.049155998148153e-15]\n",
      "              precision    recall  f1-score   support\n",
      "\n",
      "           0       0.40      0.67      0.50         3\n",
      "           1       0.67      0.40      0.50         5\n",
      "\n",
      "    accuracy                           0.50         8\n",
      "   macro avg       0.53      0.53      0.50         8\n",
      "weighted avg       0.57      0.50      0.50         8\n",
      "\n",
      "-------------------------------------------------------------------------------------------------------------------\n"
     ]
    },
    {
     "name": "stderr",
     "output_type": "stream",
     "text": [
      "[Parallel(n_jobs=-1)]: Done   1 out of   1 | elapsed:   32.1s finished\n",
      "[Parallel(n_jobs=-1)]: Using backend LokyBackend with 12 concurrent workers.\n"
     ]
    },
    {
     "name": "stdout",
     "output_type": "stream",
     "text": [
      "K-Fold #6\n",
      "Mean negativities for all classes: [0.09837047887550565]\n",
      "Mean entropies for all classes: [6.32161001908998e-15]\n",
      "              precision    recall  f1-score   support\n",
      "\n",
      "           0       0.60      1.00      0.75         3\n",
      "           1       1.00      0.60      0.75         5\n",
      "\n",
      "    accuracy                           0.75         8\n",
      "   macro avg       0.80      0.80      0.75         8\n",
      "weighted avg       0.85      0.75      0.75         8\n",
      "\n",
      "-------------------------------------------------------------------------------------------------------------------\n"
     ]
    },
    {
     "name": "stderr",
     "output_type": "stream",
     "text": [
      "[Parallel(n_jobs=-1)]: Done   1 out of   1 | elapsed:   31.4s finished\n",
      "[Parallel(n_jobs=-1)]: Using backend LokyBackend with 12 concurrent workers.\n"
     ]
    },
    {
     "name": "stdout",
     "output_type": "stream",
     "text": [
      "K-Fold #7\n",
      "Mean negativities for all classes: [0.09164131676857276]\n",
      "Mean entropies for all classes: [5.913768048553392e-15]\n",
      "              precision    recall  f1-score   support\n",
      "\n",
      "           0       0.33      0.33      0.33         3\n",
      "           1       0.60      0.60      0.60         5\n",
      "\n",
      "    accuracy                           0.50         8\n",
      "   macro avg       0.47      0.47      0.47         8\n",
      "weighted avg       0.50      0.50      0.50         8\n",
      "\n",
      "-------------------------------------------------------------------------------------------------------------------\n"
     ]
    },
    {
     "name": "stderr",
     "output_type": "stream",
     "text": [
      "[Parallel(n_jobs=-1)]: Done   1 out of   1 | elapsed:   31.4s finished\n",
      "[Parallel(n_jobs=-1)]: Using backend LokyBackend with 12 concurrent workers.\n"
     ]
    },
    {
     "name": "stdout",
     "output_type": "stream",
     "text": [
      "K-Fold #8\n",
      "Mean negativities for all classes: [0.09665810173179942]\n",
      "Mean entropies for all classes: [6.5620168150060386e-15]\n",
      "              precision    recall  f1-score   support\n",
      "\n",
      "           0       0.50      0.67      0.57         3\n",
      "           1       0.75      0.60      0.67         5\n",
      "\n",
      "    accuracy                           0.62         8\n",
      "   macro avg       0.62      0.63      0.62         8\n",
      "weighted avg       0.66      0.62      0.63         8\n",
      "\n",
      "-------------------------------------------------------------------------------------------------------------------\n"
     ]
    },
    {
     "name": "stderr",
     "output_type": "stream",
     "text": [
      "[Parallel(n_jobs=-1)]: Done   1 out of   1 | elapsed:   31.4s finished\n",
      "[Parallel(n_jobs=-1)]: Using backend LokyBackend with 12 concurrent workers.\n"
     ]
    },
    {
     "name": "stdout",
     "output_type": "stream",
     "text": [
      "K-Fold #9\n",
      "Mean negativities for all classes: [0.09124628132831092]\n",
      "Mean entropies for all classes: [6.4959773359677525e-15]\n",
      "              precision    recall  f1-score   support\n",
      "\n",
      "           0       0.40      0.67      0.50         3\n",
      "           1       0.67      0.40      0.50         5\n",
      "\n",
      "    accuracy                           0.50         8\n",
      "   macro avg       0.53      0.53      0.50         8\n",
      "weighted avg       0.57      0.50      0.50         8\n",
      "\n",
      "-------------------------------------------------------------------------------------------------------------------\n",
      "AVG: Scores = 0.625 F1-Scores = 0.6196825396825396 Negativity = [0.09117737338093584, 0.09185892428116954] Entropy = [7.29528986728124e-15, 7.105725537155417e-15]\n"
     ]
    },
    {
     "name": "stderr",
     "output_type": "stream",
     "text": [
      "[Parallel(n_jobs=-1)]: Done   1 out of   1 | elapsed:   32.1s finished\n",
      "[Parallel(n_jobs=-1)]: Using backend LokyBackend with 12 concurrent workers.\n"
     ]
    },
    {
     "name": "stdout",
     "output_type": "stream",
     "text": [
      "K-Fold #0\n",
      "Mean negativities for all classes: [0.09288345153048137]\n",
      "Mean entropies for all classes: [6.237657797961633e-15]\n",
      "              precision    recall  f1-score   support\n",
      "\n",
      "           0       0.50      0.75      0.60         4\n",
      "           1       0.50      0.25      0.33         4\n",
      "\n",
      "    accuracy                           0.50         8\n",
      "   macro avg       0.50      0.50      0.47         8\n",
      "weighted avg       0.50      0.50      0.47         8\n",
      "\n",
      "-------------------------------------------------------------------------------------------------------------------\n"
     ]
    },
    {
     "name": "stderr",
     "output_type": "stream",
     "text": [
      "[Parallel(n_jobs=-1)]: Done   1 out of   1 | elapsed:   32.0s finished\n",
      "[Parallel(n_jobs=-1)]: Using backend LokyBackend with 12 concurrent workers.\n"
     ]
    },
    {
     "name": "stdout",
     "output_type": "stream",
     "text": [
      "K-Fold #1\n",
      "Mean negativities for all classes: [0.09839033908511503]\n",
      "Mean entropies for all classes: [6.390169461207318e-15]\n",
      "              precision    recall  f1-score   support\n",
      "\n",
      "           0       0.50      0.75      0.60         4\n",
      "           1       0.50      0.25      0.33         4\n",
      "\n",
      "    accuracy                           0.50         8\n",
      "   macro avg       0.50      0.50      0.47         8\n",
      "weighted avg       0.50      0.50      0.47         8\n",
      "\n",
      "-------------------------------------------------------------------------------------------------------------------\n"
     ]
    },
    {
     "name": "stderr",
     "output_type": "stream",
     "text": [
      "[Parallel(n_jobs=-1)]: Done   1 out of   1 | elapsed:   32.4s finished\n",
      "[Parallel(n_jobs=-1)]: Using backend LokyBackend with 12 concurrent workers.\n"
     ]
    },
    {
     "name": "stdout",
     "output_type": "stream",
     "text": [
      "K-Fold #2\n",
      "Mean negativities for all classes: [0.24184007685852982]\n",
      "Mean entropies for all classes: [6.567190199118085e-15]\n",
      "              precision    recall  f1-score   support\n",
      "\n",
      "           0       0.60      0.75      0.67         4\n",
      "           1       0.67      0.50      0.57         4\n",
      "\n",
      "    accuracy                           0.62         8\n",
      "   macro avg       0.63      0.62      0.62         8\n",
      "weighted avg       0.63      0.62      0.62         8\n",
      "\n",
      "-------------------------------------------------------------------------------------------------------------------\n"
     ]
    },
    {
     "name": "stderr",
     "output_type": "stream",
     "text": [
      "[Parallel(n_jobs=-1)]: Done   1 out of   1 | elapsed:   32.2s finished\n",
      "[Parallel(n_jobs=-1)]: Using backend LokyBackend with 12 concurrent workers.\n"
     ]
    },
    {
     "name": "stdout",
     "output_type": "stream",
     "text": [
      "K-Fold #3\n",
      "Mean negativities for all classes: [0.09125662958946937]\n",
      "Mean entropies for all classes: [6.886378441516581e-15]\n",
      "              precision    recall  f1-score   support\n",
      "\n",
      "           0       0.75      0.75      0.75         4\n",
      "           1       0.75      0.75      0.75         4\n",
      "\n",
      "    accuracy                           0.75         8\n",
      "   macro avg       0.75      0.75      0.75         8\n",
      "weighted avg       0.75      0.75      0.75         8\n",
      "\n",
      "-------------------------------------------------------------------------------------------------------------------\n"
     ]
    },
    {
     "name": "stderr",
     "output_type": "stream",
     "text": [
      "[Parallel(n_jobs=-1)]: Done   1 out of   1 | elapsed:   31.4s finished\n",
      "[Parallel(n_jobs=-1)]: Using backend LokyBackend with 12 concurrent workers.\n"
     ]
    },
    {
     "name": "stdout",
     "output_type": "stream",
     "text": [
      "K-Fold #4\n",
      "Mean negativities for all classes: [0.09380872294713252]\n",
      "Mean entropies for all classes: [6.302065090550272e-15]\n",
      "              precision    recall  f1-score   support\n",
      "\n",
      "           0       0.67      0.67      0.67         3\n",
      "           1       0.80      0.80      0.80         5\n",
      "\n",
      "    accuracy                           0.75         8\n",
      "   macro avg       0.73      0.73      0.73         8\n",
      "weighted avg       0.75      0.75      0.75         8\n",
      "\n",
      "-------------------------------------------------------------------------------------------------------------------\n"
     ]
    },
    {
     "name": "stderr",
     "output_type": "stream",
     "text": [
      "[Parallel(n_jobs=-1)]: Done   1 out of   1 | elapsed:   31.3s finished\n",
      "[Parallel(n_jobs=-1)]: Using backend LokyBackend with 12 concurrent workers.\n"
     ]
    },
    {
     "name": "stdout",
     "output_type": "stream",
     "text": [
      "K-Fold #5\n",
      "Mean negativities for all classes: [0.09124413469985186]\n",
      "Mean entropies for all classes: [5.623190831862765e-15]\n",
      "              precision    recall  f1-score   support\n",
      "\n",
      "           0       0.50      0.67      0.57         3\n",
      "           1       0.75      0.60      0.67         5\n",
      "\n",
      "    accuracy                           0.62         8\n",
      "   macro avg       0.62      0.63      0.62         8\n",
      "weighted avg       0.66      0.62      0.63         8\n",
      "\n",
      "-------------------------------------------------------------------------------------------------------------------\n"
     ]
    },
    {
     "name": "stderr",
     "output_type": "stream",
     "text": [
      "[Parallel(n_jobs=-1)]: Done   1 out of   1 | elapsed:   32.0s finished\n",
      "[Parallel(n_jobs=-1)]: Using backend LokyBackend with 12 concurrent workers.\n"
     ]
    },
    {
     "name": "stdout",
     "output_type": "stream",
     "text": [
      "K-Fold #6\n",
      "Mean negativities for all classes: [0.22787626681159887]\n",
      "Mean entropies for all classes: [6.422037227911994e-15]\n",
      "              precision    recall  f1-score   support\n",
      "\n",
      "           0       0.50      0.67      0.57         3\n",
      "           1       0.75      0.60      0.67         5\n",
      "\n",
      "    accuracy                           0.62         8\n",
      "   macro avg       0.62      0.63      0.62         8\n",
      "weighted avg       0.66      0.62      0.63         8\n",
      "\n",
      "-------------------------------------------------------------------------------------------------------------------\n"
     ]
    },
    {
     "name": "stderr",
     "output_type": "stream",
     "text": [
      "[Parallel(n_jobs=-1)]: Done   1 out of   1 | elapsed:   31.3s finished\n",
      "[Parallel(n_jobs=-1)]: Using backend LokyBackend with 12 concurrent workers.\n"
     ]
    },
    {
     "name": "stdout",
     "output_type": "stream",
     "text": [
      "K-Fold #7\n",
      "Mean negativities for all classes: [0.09274060904685827]\n",
      "Mean entropies for all classes: [5.30413972750717e-15]\n",
      "              precision    recall  f1-score   support\n",
      "\n",
      "           0       0.25      0.33      0.29         3\n",
      "           1       0.50      0.40      0.44         5\n",
      "\n",
      "    accuracy                           0.38         8\n",
      "   macro avg       0.38      0.37      0.37         8\n",
      "weighted avg       0.41      0.38      0.38         8\n",
      "\n",
      "-------------------------------------------------------------------------------------------------------------------\n"
     ]
    },
    {
     "name": "stderr",
     "output_type": "stream",
     "text": [
      "[Parallel(n_jobs=-1)]: Done   1 out of   1 | elapsed:   31.4s finished\n",
      "[Parallel(n_jobs=-1)]: Using backend LokyBackend with 12 concurrent workers.\n"
     ]
    },
    {
     "name": "stdout",
     "output_type": "stream",
     "text": [
      "K-Fold #8\n",
      "Mean negativities for all classes: [0.09700760222890202]\n",
      "Mean entropies for all classes: [6.450626373093044e-15]\n",
      "              precision    recall  f1-score   support\n",
      "\n",
      "           0       0.40      0.67      0.50         3\n",
      "           1       0.67      0.40      0.50         5\n",
      "\n",
      "    accuracy                           0.50         8\n",
      "   macro avg       0.53      0.53      0.50         8\n",
      "weighted avg       0.57      0.50      0.50         8\n",
      "\n",
      "-------------------------------------------------------------------------------------------------------------------\n"
     ]
    },
    {
     "name": "stderr",
     "output_type": "stream",
     "text": [
      "[Parallel(n_jobs=-1)]: Done   1 out of   1 | elapsed:   31.5s finished\n",
      "[Parallel(n_jobs=-1)]: Using backend LokyBackend with 12 concurrent workers.\n"
     ]
    },
    {
     "name": "stdout",
     "output_type": "stream",
     "text": [
      "K-Fold #9\n",
      "Mean negativities for all classes: [0.09247288098613655]\n",
      "Mean entropies for all classes: [6.6377460035453864e-15]\n",
      "              precision    recall  f1-score   support\n",
      "\n",
      "           0       0.50      0.67      0.57         3\n",
      "           1       0.75      0.60      0.67         5\n",
      "\n",
      "    accuracy                           0.62         8\n",
      "   macro avg       0.62      0.63      0.62         8\n",
      "weighted avg       0.66      0.62      0.63         8\n",
      "\n",
      "-------------------------------------------------------------------------------------------------------------------\n",
      "AVG: Scores = 0.5875 F1-Scores = 0.5757936507936507 Negativity = [0.09288345153048137, 0.09839033908511503] Entropy = [6.237657797961633e-15, 6.390169461207318e-15]\n"
     ]
    },
    {
     "name": "stderr",
     "output_type": "stream",
     "text": [
      "[Parallel(n_jobs=-1)]: Done   1 out of   1 | elapsed:   32.0s finished\n",
      "[Parallel(n_jobs=-1)]: Using backend LokyBackend with 12 concurrent workers.\n"
     ]
    },
    {
     "name": "stdout",
     "output_type": "stream",
     "text": [
      "K-Fold #0\n",
      "Mean negativities for all classes: [0.09257171641953436]\n",
      "Mean entropies for all classes: [5.584106569396331e-15]\n",
      "              precision    recall  f1-score   support\n",
      "\n",
      "           0       0.80      1.00      0.89         4\n",
      "           1       1.00      0.75      0.86         4\n",
      "\n",
      "    accuracy                           0.88         8\n",
      "   macro avg       0.90      0.88      0.87         8\n",
      "weighted avg       0.90      0.88      0.87         8\n",
      "\n",
      "-------------------------------------------------------------------------------------------------------------------\n"
     ]
    },
    {
     "name": "stderr",
     "output_type": "stream",
     "text": [
      "[Parallel(n_jobs=-1)]: Done   1 out of   1 | elapsed:   32.1s finished\n",
      "[Parallel(n_jobs=-1)]: Using backend LokyBackend with 12 concurrent workers.\n"
     ]
    },
    {
     "name": "stdout",
     "output_type": "stream",
     "text": [
      "K-Fold #1\n",
      "Mean negativities for all classes: [0.09219912218613477]\n",
      "Mean entropies for all classes: [5.155626673406991e-15]\n",
      "              precision    recall  f1-score   support\n",
      "\n",
      "           0       0.75      0.75      0.75         4\n",
      "           1       0.75      0.75      0.75         4\n",
      "\n",
      "    accuracy                           0.75         8\n",
      "   macro avg       0.75      0.75      0.75         8\n",
      "weighted avg       0.75      0.75      0.75         8\n",
      "\n",
      "-------------------------------------------------------------------------------------------------------------------\n"
     ]
    },
    {
     "name": "stderr",
     "output_type": "stream",
     "text": [
      "[Parallel(n_jobs=-1)]: Done   1 out of   1 | elapsed:   32.2s finished\n",
      "[Parallel(n_jobs=-1)]: Using backend LokyBackend with 12 concurrent workers.\n"
     ]
    },
    {
     "name": "stdout",
     "output_type": "stream",
     "text": [
      "K-Fold #2\n",
      "Mean negativities for all classes: [0.09128710303860411]\n",
      "Mean entropies for all classes: [6.990901180224236e-15]\n",
      "              precision    recall  f1-score   support\n",
      "\n",
      "           0       0.60      0.75      0.67         4\n",
      "           1       0.67      0.50      0.57         4\n",
      "\n",
      "    accuracy                           0.62         8\n",
      "   macro avg       0.63      0.62      0.62         8\n",
      "weighted avg       0.63      0.62      0.62         8\n",
      "\n",
      "-------------------------------------------------------------------------------------------------------------------\n"
     ]
    },
    {
     "name": "stderr",
     "output_type": "stream",
     "text": [
      "[Parallel(n_jobs=-1)]: Done   1 out of   1 | elapsed:   32.2s finished\n",
      "[Parallel(n_jobs=-1)]: Using backend LokyBackend with 12 concurrent workers.\n"
     ]
    },
    {
     "name": "stdout",
     "output_type": "stream",
     "text": [
      "K-Fold #3\n",
      "Mean negativities for all classes: [0.09188620504876416]\n",
      "Mean entropies for all classes: [7.655137455453745e-15]\n",
      "              precision    recall  f1-score   support\n",
      "\n",
      "           0       0.60      0.75      0.67         4\n",
      "           1       0.67      0.50      0.57         4\n",
      "\n",
      "    accuracy                           0.62         8\n",
      "   macro avg       0.63      0.62      0.62         8\n",
      "weighted avg       0.63      0.62      0.62         8\n",
      "\n",
      "-------------------------------------------------------------------------------------------------------------------\n"
     ]
    },
    {
     "name": "stderr",
     "output_type": "stream",
     "text": [
      "[Parallel(n_jobs=-1)]: Done   1 out of   1 | elapsed:   31.3s finished\n",
      "[Parallel(n_jobs=-1)]: Using backend LokyBackend with 12 concurrent workers.\n"
     ]
    },
    {
     "name": "stdout",
     "output_type": "stream",
     "text": [
      "K-Fold #4\n",
      "Mean negativities for all classes: [0.0918119140029262]\n",
      "Mean entropies for all classes: [6.3586256385094976e-15]\n",
      "              precision    recall  f1-score   support\n",
      "\n",
      "           0       0.75      1.00      0.86         3\n",
      "           1       1.00      0.80      0.89         5\n",
      "\n",
      "    accuracy                           0.88         8\n",
      "   macro avg       0.88      0.90      0.87         8\n",
      "weighted avg       0.91      0.88      0.88         8\n",
      "\n",
      "-------------------------------------------------------------------------------------------------------------------\n"
     ]
    },
    {
     "name": "stderr",
     "output_type": "stream",
     "text": [
      "[Parallel(n_jobs=-1)]: Done   1 out of   1 | elapsed:   31.3s finished\n",
      "[Parallel(n_jobs=-1)]: Using backend LokyBackend with 12 concurrent workers.\n"
     ]
    },
    {
     "name": "stdout",
     "output_type": "stream",
     "text": [
      "K-Fold #5\n",
      "Mean negativities for all classes: [0.09192096312225687]\n",
      "Mean entropies for all classes: [6.723255771514094e-15]\n",
      "              precision    recall  f1-score   support\n",
      "\n",
      "           0       0.60      1.00      0.75         3\n",
      "           1       1.00      0.60      0.75         5\n",
      "\n",
      "    accuracy                           0.75         8\n",
      "   macro avg       0.80      0.80      0.75         8\n",
      "weighted avg       0.85      0.75      0.75         8\n",
      "\n",
      "-------------------------------------------------------------------------------------------------------------------\n"
     ]
    },
    {
     "name": "stderr",
     "output_type": "stream",
     "text": [
      "[Parallel(n_jobs=-1)]: Done   1 out of   1 | elapsed:   32.1s finished\n",
      "[Parallel(n_jobs=-1)]: Using backend LokyBackend with 12 concurrent workers.\n"
     ]
    },
    {
     "name": "stdout",
     "output_type": "stream",
     "text": [
      "K-Fold #6\n",
      "Mean negativities for all classes: [0.09182675122582085]\n",
      "Mean entropies for all classes: [7.282513552063066e-15]\n",
      "              precision    recall  f1-score   support\n",
      "\n",
      "           0       0.50      1.00      0.67         3\n",
      "           1       1.00      0.40      0.57         5\n",
      "\n",
      "    accuracy                           0.62         8\n",
      "   macro avg       0.75      0.70      0.62         8\n",
      "weighted avg       0.81      0.62      0.61         8\n",
      "\n",
      "-------------------------------------------------------------------------------------------------------------------\n"
     ]
    },
    {
     "name": "stderr",
     "output_type": "stream",
     "text": [
      "[Parallel(n_jobs=-1)]: Done   1 out of   1 | elapsed:   31.3s finished\n",
      "[Parallel(n_jobs=-1)]: Using backend LokyBackend with 12 concurrent workers.\n"
     ]
    },
    {
     "name": "stdout",
     "output_type": "stream",
     "text": [
      "K-Fold #7\n",
      "Mean negativities for all classes: [0.09154310969411307]\n",
      "Mean entropies for all classes: [6.451598449002255e-15]\n",
      "              precision    recall  f1-score   support\n",
      "\n",
      "           0       0.75      1.00      0.86         3\n",
      "           1       1.00      0.80      0.89         5\n",
      "\n",
      "    accuracy                           0.88         8\n",
      "   macro avg       0.88      0.90      0.87         8\n",
      "weighted avg       0.91      0.88      0.88         8\n",
      "\n",
      "-------------------------------------------------------------------------------------------------------------------\n"
     ]
    },
    {
     "name": "stderr",
     "output_type": "stream",
     "text": [
      "[Parallel(n_jobs=-1)]: Done   1 out of   1 | elapsed:   31.3s finished\n",
      "[Parallel(n_jobs=-1)]: Using backend LokyBackend with 12 concurrent workers.\n"
     ]
    },
    {
     "name": "stdout",
     "output_type": "stream",
     "text": [
      "K-Fold #8\n",
      "Mean negativities for all classes: [0.09135895910526153]\n",
      "Mean entropies for all classes: [6.1030492591094034e-15]\n",
      "              precision    recall  f1-score   support\n",
      "\n",
      "           0       0.00      0.00      0.00         3\n",
      "           1       0.25      0.20      0.22         5\n",
      "\n",
      "    accuracy                           0.12         8\n",
      "   macro avg       0.12      0.10      0.11         8\n",
      "weighted avg       0.16      0.12      0.14         8\n",
      "\n",
      "-------------------------------------------------------------------------------------------------------------------\n"
     ]
    },
    {
     "name": "stderr",
     "output_type": "stream",
     "text": [
      "[Parallel(n_jobs=-1)]: Done   1 out of   1 | elapsed:   31.4s finished\n",
      "[Parallel(n_jobs=-1)]: Using backend LokyBackend with 12 concurrent workers.\n"
     ]
    },
    {
     "name": "stdout",
     "output_type": "stream",
     "text": [
      "K-Fold #9\n",
      "Mean negativities for all classes: [0.23758873833144295]\n",
      "Mean entropies for all classes: [6.081199582873096e-15]\n",
      "              precision    recall  f1-score   support\n",
      "\n",
      "           0       0.33      0.67      0.44         3\n",
      "           1       0.50      0.20      0.29         5\n",
      "\n",
      "    accuracy                           0.38         8\n",
      "   macro avg       0.42      0.43      0.37         8\n",
      "weighted avg       0.44      0.38      0.35         8\n",
      "\n",
      "-------------------------------------------------------------------------------------------------------------------\n",
      "AVG: Scores = 0.65 F1-Scores = 0.6452380952380953 Negativity = [0.09257171641953436, 0.09219912218613477] Entropy = [5.584106569396331e-15, 5.155626673406991e-15]\n"
     ]
    },
    {
     "name": "stderr",
     "output_type": "stream",
     "text": [
      "[Parallel(n_jobs=-1)]: Done   1 out of   1 | elapsed:   32.1s finished\n",
      "[Parallel(n_jobs=-1)]: Using backend LokyBackend with 12 concurrent workers.\n"
     ]
    },
    {
     "name": "stdout",
     "output_type": "stream",
     "text": [
      "K-Fold #0\n",
      "Mean negativities for all classes: [0.0916702325345936]\n",
      "Mean entropies for all classes: [6.26244877970127e-15]\n",
      "              precision    recall  f1-score   support\n",
      "\n",
      "           0       0.50      0.50      0.50         4\n",
      "           1       0.50      0.50      0.50         4\n",
      "\n",
      "    accuracy                           0.50         8\n",
      "   macro avg       0.50      0.50      0.50         8\n",
      "weighted avg       0.50      0.50      0.50         8\n",
      "\n",
      "-------------------------------------------------------------------------------------------------------------------\n"
     ]
    },
    {
     "name": "stderr",
     "output_type": "stream",
     "text": [
      "[Parallel(n_jobs=-1)]: Done   1 out of   1 | elapsed:   32.1s finished\n",
      "[Parallel(n_jobs=-1)]: Using backend LokyBackend with 12 concurrent workers.\n"
     ]
    },
    {
     "name": "stdout",
     "output_type": "stream",
     "text": [
      "K-Fold #1\n",
      "Mean negativities for all classes: [0.09134558980307765]\n",
      "Mean entropies for all classes: [6.751013442286037e-15]\n",
      "              precision    recall  f1-score   support\n",
      "\n",
      "           0       0.67      0.50      0.57         4\n",
      "           1       0.60      0.75      0.67         4\n",
      "\n",
      "    accuracy                           0.62         8\n",
      "   macro avg       0.63      0.62      0.62         8\n",
      "weighted avg       0.63      0.62      0.62         8\n",
      "\n",
      "-------------------------------------------------------------------------------------------------------------------\n"
     ]
    },
    {
     "name": "stderr",
     "output_type": "stream",
     "text": [
      "[Parallel(n_jobs=-1)]: Done   1 out of   1 | elapsed:   32.1s finished\n",
      "[Parallel(n_jobs=-1)]: Using backend LokyBackend with 12 concurrent workers.\n"
     ]
    },
    {
     "name": "stdout",
     "output_type": "stream",
     "text": [
      "K-Fold #2\n",
      "Mean negativities for all classes: [0.09102544300447696]\n",
      "Mean entropies for all classes: [6.7836435029388564e-15]\n",
      "              precision    recall  f1-score   support\n",
      "\n",
      "           0       0.75      0.75      0.75         4\n",
      "           1       0.75      0.75      0.75         4\n",
      "\n",
      "    accuracy                           0.75         8\n",
      "   macro avg       0.75      0.75      0.75         8\n",
      "weighted avg       0.75      0.75      0.75         8\n",
      "\n",
      "-------------------------------------------------------------------------------------------------------------------\n"
     ]
    },
    {
     "name": "stderr",
     "output_type": "stream",
     "text": [
      "[Parallel(n_jobs=-1)]: Done   1 out of   1 | elapsed:   32.1s finished\n",
      "[Parallel(n_jobs=-1)]: Using backend LokyBackend with 12 concurrent workers.\n"
     ]
    },
    {
     "name": "stdout",
     "output_type": "stream",
     "text": [
      "K-Fold #3\n",
      "Mean negativities for all classes: [0.09188005087760603]\n",
      "Mean entropies for all classes: [7.079491656506302e-15]\n",
      "              precision    recall  f1-score   support\n",
      "\n",
      "           0       0.43      0.75      0.55         4\n",
      "           1       0.00      0.00      0.00         4\n",
      "\n",
      "    accuracy                           0.38         8\n",
      "   macro avg       0.21      0.38      0.27         8\n",
      "weighted avg       0.21      0.38      0.27         8\n",
      "\n",
      "-------------------------------------------------------------------------------------------------------------------\n"
     ]
    },
    {
     "name": "stderr",
     "output_type": "stream",
     "text": [
      "[Parallel(n_jobs=-1)]: Done   1 out of   1 | elapsed:   31.3s finished\n",
      "[Parallel(n_jobs=-1)]: Using backend LokyBackend with 12 concurrent workers.\n"
     ]
    },
    {
     "name": "stdout",
     "output_type": "stream",
     "text": [
      "K-Fold #4\n",
      "Mean negativities for all classes: [0.0926689491204095]\n",
      "Mean entropies for all classes: [6.619379324152355e-15]\n",
      "              precision    recall  f1-score   support\n",
      "\n",
      "           0       0.40      0.67      0.50         3\n",
      "           1       0.67      0.40      0.50         5\n",
      "\n",
      "    accuracy                           0.50         8\n",
      "   macro avg       0.53      0.53      0.50         8\n",
      "weighted avg       0.57      0.50      0.50         8\n",
      "\n",
      "-------------------------------------------------------------------------------------------------------------------\n"
     ]
    },
    {
     "name": "stderr",
     "output_type": "stream",
     "text": [
      "[Parallel(n_jobs=-1)]: Done   1 out of   1 | elapsed:   31.3s finished\n",
      "[Parallel(n_jobs=-1)]: Using backend LokyBackend with 12 concurrent workers.\n"
     ]
    },
    {
     "name": "stdout",
     "output_type": "stream",
     "text": [
      "K-Fold #5\n",
      "Mean negativities for all classes: [0.09229890314168614]\n",
      "Mean entropies for all classes: [6.1508618313282465e-15]\n",
      "              precision    recall  f1-score   support\n",
      "\n",
      "           0       0.40      0.67      0.50         3\n",
      "           1       0.67      0.40      0.50         5\n",
      "\n",
      "    accuracy                           0.50         8\n",
      "   macro avg       0.53      0.53      0.50         8\n",
      "weighted avg       0.57      0.50      0.50         8\n",
      "\n",
      "-------------------------------------------------------------------------------------------------------------------\n"
     ]
    },
    {
     "name": "stderr",
     "output_type": "stream",
     "text": [
      "[Parallel(n_jobs=-1)]: Done   1 out of   1 | elapsed:   32.0s finished\n",
      "[Parallel(n_jobs=-1)]: Using backend LokyBackend with 12 concurrent workers.\n"
     ]
    },
    {
     "name": "stdout",
     "output_type": "stream",
     "text": [
      "K-Fold #6\n",
      "Mean negativities for all classes: [0.09198114465853308]\n",
      "Mean entropies for all classes: [6.863628404608919e-15]\n",
      "              precision    recall  f1-score   support\n",
      "\n",
      "           0       0.50      0.67      0.57         3\n",
      "           1       0.75      0.60      0.67         5\n",
      "\n",
      "    accuracy                           0.62         8\n",
      "   macro avg       0.62      0.63      0.62         8\n",
      "weighted avg       0.66      0.62      0.63         8\n",
      "\n",
      "-------------------------------------------------------------------------------------------------------------------\n"
     ]
    },
    {
     "name": "stderr",
     "output_type": "stream",
     "text": [
      "[Parallel(n_jobs=-1)]: Done   1 out of   1 | elapsed:   31.3s finished\n",
      "[Parallel(n_jobs=-1)]: Using backend LokyBackend with 12 concurrent workers.\n"
     ]
    },
    {
     "name": "stdout",
     "output_type": "stream",
     "text": [
      "K-Fold #7\n",
      "Mean negativities for all classes: [0.24209983159863138]\n",
      "Mean entropies for all classes: [6.417440999275323e-15]\n",
      "              precision    recall  f1-score   support\n",
      "\n",
      "           0       0.67      0.67      0.67         3\n",
      "           1       0.80      0.80      0.80         5\n",
      "\n",
      "    accuracy                           0.75         8\n",
      "   macro avg       0.73      0.73      0.73         8\n",
      "weighted avg       0.75      0.75      0.75         8\n",
      "\n",
      "-------------------------------------------------------------------------------------------------------------------\n"
     ]
    },
    {
     "name": "stderr",
     "output_type": "stream",
     "text": [
      "[Parallel(n_jobs=-1)]: Done   1 out of   1 | elapsed:   31.4s finished\n",
      "[Parallel(n_jobs=-1)]: Using backend LokyBackend with 12 concurrent workers.\n"
     ]
    },
    {
     "name": "stdout",
     "output_type": "stream",
     "text": [
      "K-Fold #8\n",
      "Mean negativities for all classes: [0.09092840331966068]\n",
      "Mean entropies for all classes: [6.914376554973389e-15]\n",
      "              precision    recall  f1-score   support\n",
      "\n",
      "           0       0.50      0.67      0.57         3\n",
      "           1       0.75      0.60      0.67         5\n",
      "\n",
      "    accuracy                           0.62         8\n",
      "   macro avg       0.62      0.63      0.62         8\n",
      "weighted avg       0.66      0.62      0.63         8\n",
      "\n",
      "-------------------------------------------------------------------------------------------------------------------\n"
     ]
    },
    {
     "name": "stderr",
     "output_type": "stream",
     "text": [
      "[Parallel(n_jobs=-1)]: Done   1 out of   1 | elapsed:   31.4s finished\n",
      "[Parallel(n_jobs=-1)]: Using backend LokyBackend with 12 concurrent workers.\n"
     ]
    },
    {
     "name": "stdout",
     "output_type": "stream",
     "text": [
      "K-Fold #9\n",
      "Mean negativities for all classes: [0.09116587200723154]\n",
      "Mean entropies for all classes: [5.937008651891703e-15]\n",
      "              precision    recall  f1-score   support\n",
      "\n",
      "           0       0.75      1.00      0.86         3\n",
      "           1       1.00      0.80      0.89         5\n",
      "\n",
      "    accuracy                           0.88         8\n",
      "   macro avg       0.88      0.90      0.87         8\n",
      "weighted avg       0.91      0.88      0.88         8\n",
      "\n",
      "-------------------------------------------------------------------------------------------------------------------\n",
      "AVG: Scores = 0.6125 F1-Scores = 0.5986219336219337 Negativity = [0.0916702325345936, 0.09134558980307765] Entropy = [6.26244877970127e-15, 6.751013442286037e-15]\n"
     ]
    },
    {
     "name": "stderr",
     "output_type": "stream",
     "text": [
      "[Parallel(n_jobs=-1)]: Done   1 out of   1 | elapsed:   32.2s finished\n",
      "[Parallel(n_jobs=-1)]: Using backend LokyBackend with 12 concurrent workers.\n"
     ]
    },
    {
     "name": "stdout",
     "output_type": "stream",
     "text": [
      "K-Fold #0\n",
      "Mean negativities for all classes: [0.0914973524909186]\n",
      "Mean entropies for all classes: [5.437751225606757e-15]\n",
      "              precision    recall  f1-score   support\n",
      "\n",
      "           0       0.50      0.50      0.50         4\n",
      "           1       0.50      0.50      0.50         4\n",
      "\n",
      "    accuracy                           0.50         8\n",
      "   macro avg       0.50      0.50      0.50         8\n",
      "weighted avg       0.50      0.50      0.50         8\n",
      "\n",
      "-------------------------------------------------------------------------------------------------------------------\n"
     ]
    },
    {
     "name": "stderr",
     "output_type": "stream",
     "text": [
      "[Parallel(n_jobs=-1)]: Done   1 out of   1 | elapsed:   32.1s finished\n",
      "[Parallel(n_jobs=-1)]: Using backend LokyBackend with 12 concurrent workers.\n"
     ]
    },
    {
     "name": "stdout",
     "output_type": "stream",
     "text": [
      "K-Fold #1\n",
      "Mean negativities for all classes: [0.09140832143914857]\n",
      "Mean entropies for all classes: [7.177673109585152e-15]\n",
      "              precision    recall  f1-score   support\n",
      "\n",
      "           0       0.50      0.75      0.60         4\n",
      "           1       0.50      0.25      0.33         4\n",
      "\n",
      "    accuracy                           0.50         8\n",
      "   macro avg       0.50      0.50      0.47         8\n",
      "weighted avg       0.50      0.50      0.47         8\n",
      "\n",
      "-------------------------------------------------------------------------------------------------------------------\n"
     ]
    },
    {
     "name": "stderr",
     "output_type": "stream",
     "text": [
      "[Parallel(n_jobs=-1)]: Done   1 out of   1 | elapsed:   32.2s finished\n",
      "[Parallel(n_jobs=-1)]: Using backend LokyBackend with 12 concurrent workers.\n"
     ]
    },
    {
     "name": "stdout",
     "output_type": "stream",
     "text": [
      "K-Fold #2\n",
      "Mean negativities for all classes: [0.09156159101021574]\n",
      "Mean entropies for all classes: [6.726557571390275e-15]\n",
      "              precision    recall  f1-score   support\n",
      "\n",
      "           0       0.75      0.75      0.75         4\n",
      "           1       0.75      0.75      0.75         4\n",
      "\n",
      "    accuracy                           0.75         8\n",
      "   macro avg       0.75      0.75      0.75         8\n",
      "weighted avg       0.75      0.75      0.75         8\n",
      "\n",
      "-------------------------------------------------------------------------------------------------------------------\n"
     ]
    },
    {
     "name": "stderr",
     "output_type": "stream",
     "text": [
      "[Parallel(n_jobs=-1)]: Done   1 out of   1 | elapsed:   32.2s finished\n",
      "[Parallel(n_jobs=-1)]: Using backend LokyBackend with 12 concurrent workers.\n"
     ]
    },
    {
     "name": "stdout",
     "output_type": "stream",
     "text": [
      "K-Fold #3\n",
      "Mean negativities for all classes: [0.09297554066584159]\n",
      "Mean entropies for all classes: [6.960645704290517e-15]\n",
      "              precision    recall  f1-score   support\n",
      "\n",
      "           0       0.75      0.75      0.75         4\n",
      "           1       0.75      0.75      0.75         4\n",
      "\n",
      "    accuracy                           0.75         8\n",
      "   macro avg       0.75      0.75      0.75         8\n",
      "weighted avg       0.75      0.75      0.75         8\n",
      "\n",
      "-------------------------------------------------------------------------------------------------------------------\n"
     ]
    },
    {
     "name": "stderr",
     "output_type": "stream",
     "text": [
      "[Parallel(n_jobs=-1)]: Done   1 out of   1 | elapsed:   31.4s finished\n",
      "[Parallel(n_jobs=-1)]: Using backend LokyBackend with 12 concurrent workers.\n"
     ]
    },
    {
     "name": "stdout",
     "output_type": "stream",
     "text": [
      "K-Fold #4\n",
      "Mean negativities for all classes: [0.09945884507062994]\n",
      "Mean entropies for all classes: [6.749325548597749e-15]\n",
      "              precision    recall  f1-score   support\n",
      "\n",
      "           0       0.50      1.00      0.67         3\n",
      "           1       1.00      0.40      0.57         5\n",
      "\n",
      "    accuracy                           0.62         8\n",
      "   macro avg       0.75      0.70      0.62         8\n",
      "weighted avg       0.81      0.62      0.61         8\n",
      "\n",
      "-------------------------------------------------------------------------------------------------------------------\n"
     ]
    },
    {
     "name": "stderr",
     "output_type": "stream",
     "text": [
      "[Parallel(n_jobs=-1)]: Done   1 out of   1 | elapsed:   31.4s finished\n",
      "[Parallel(n_jobs=-1)]: Using backend LokyBackend with 12 concurrent workers.\n"
     ]
    },
    {
     "name": "stdout",
     "output_type": "stream",
     "text": [
      "K-Fold #5\n",
      "Mean negativities for all classes: [0.09168335983628957]\n",
      "Mean entropies for all classes: [6.488027693882121e-15]\n",
      "              precision    recall  f1-score   support\n",
      "\n",
      "           0       0.50      0.67      0.57         3\n",
      "           1       0.75      0.60      0.67         5\n",
      "\n",
      "    accuracy                           0.62         8\n",
      "   macro avg       0.62      0.63      0.62         8\n",
      "weighted avg       0.66      0.62      0.63         8\n",
      "\n",
      "-------------------------------------------------------------------------------------------------------------------\n"
     ]
    },
    {
     "name": "stderr",
     "output_type": "stream",
     "text": [
      "[Parallel(n_jobs=-1)]: Done   1 out of   1 | elapsed:   32.1s finished\n",
      "[Parallel(n_jobs=-1)]: Using backend LokyBackend with 12 concurrent workers.\n"
     ]
    },
    {
     "name": "stdout",
     "output_type": "stream",
     "text": [
      "K-Fold #6\n",
      "Mean negativities for all classes: [0.09087228374370705]\n",
      "Mean entropies for all classes: [6.965948333327775e-15]\n",
      "              precision    recall  f1-score   support\n",
      "\n",
      "           0       0.50      0.67      0.57         3\n",
      "           1       0.75      0.60      0.67         5\n",
      "\n",
      "    accuracy                           0.62         8\n",
      "   macro avg       0.62      0.63      0.62         8\n",
      "weighted avg       0.66      0.62      0.63         8\n",
      "\n",
      "-------------------------------------------------------------------------------------------------------------------\n"
     ]
    },
    {
     "name": "stderr",
     "output_type": "stream",
     "text": [
      "[Parallel(n_jobs=-1)]: Done   1 out of   1 | elapsed:   31.4s finished\n",
      "[Parallel(n_jobs=-1)]: Using backend LokyBackend with 12 concurrent workers.\n"
     ]
    },
    {
     "name": "stdout",
     "output_type": "stream",
     "text": [
      "K-Fold #7\n",
      "Mean negativities for all classes: [0.09170592078771003]\n",
      "Mean entropies for all classes: [7.630175930322156e-15]\n",
      "              precision    recall  f1-score   support\n",
      "\n",
      "           0       0.25      0.33      0.29         3\n",
      "           1       0.50      0.40      0.44         5\n",
      "\n",
      "    accuracy                           0.38         8\n",
      "   macro avg       0.38      0.37      0.37         8\n",
      "weighted avg       0.41      0.38      0.38         8\n",
      "\n",
      "-------------------------------------------------------------------------------------------------------------------\n"
     ]
    },
    {
     "name": "stderr",
     "output_type": "stream",
     "text": [
      "[Parallel(n_jobs=-1)]: Done   1 out of   1 | elapsed:   31.4s finished\n",
      "[Parallel(n_jobs=-1)]: Using backend LokyBackend with 12 concurrent workers.\n"
     ]
    },
    {
     "name": "stdout",
     "output_type": "stream",
     "text": [
      "K-Fold #8\n",
      "Mean negativities for all classes: [0.09103531171435737]\n",
      "Mean entropies for all classes: [5.812985140963276e-15]\n",
      "              precision    recall  f1-score   support\n",
      "\n",
      "           0       0.50      0.67      0.57         3\n",
      "           1       0.75      0.60      0.67         5\n",
      "\n",
      "    accuracy                           0.62         8\n",
      "   macro avg       0.62      0.63      0.62         8\n",
      "weighted avg       0.66      0.62      0.63         8\n",
      "\n",
      "-------------------------------------------------------------------------------------------------------------------\n"
     ]
    },
    {
     "name": "stderr",
     "output_type": "stream",
     "text": [
      "[Parallel(n_jobs=-1)]: Done   1 out of   1 | elapsed:   31.5s finished\n",
      "[Parallel(n_jobs=-1)]: Using backend LokyBackend with 12 concurrent workers.\n"
     ]
    },
    {
     "name": "stdout",
     "output_type": "stream",
     "text": [
      "K-Fold #9\n",
      "Mean negativities for all classes: [0.09267208824455844]\n",
      "Mean entropies for all classes: [6.8126882453090696e-15]\n",
      "              precision    recall  f1-score   support\n",
      "\n",
      "           0       0.40      0.67      0.50         3\n",
      "           1       0.67      0.40      0.50         5\n",
      "\n",
      "    accuracy                           0.50         8\n",
      "   macro avg       0.53      0.53      0.50         8\n",
      "weighted avg       0.57      0.50      0.50         8\n",
      "\n",
      "-------------------------------------------------------------------------------------------------------------------\n",
      "AVG: Scores = 0.5875 F1-Scores = 0.5807936507936509 Negativity = [0.0914973524909186, 0.09140832143914857] Entropy = [5.437751225606757e-15, 7.177673109585152e-15]\n"
     ]
    },
    {
     "name": "stderr",
     "output_type": "stream",
     "text": [
      "[Parallel(n_jobs=-1)]: Done   1 out of   1 | elapsed:   32.1s finished\n",
      "[Parallel(n_jobs=-1)]: Using backend LokyBackend with 12 concurrent workers.\n"
     ]
    },
    {
     "name": "stdout",
     "output_type": "stream",
     "text": [
      "K-Fold #0\n",
      "Mean negativities for all classes: [0.23387878442258997]\n",
      "Mean entropies for all classes: [5.613037272465306e-15]\n",
      "              precision    recall  f1-score   support\n",
      "\n",
      "           0       0.75      0.75      0.75         4\n",
      "           1       0.75      0.75      0.75         4\n",
      "\n",
      "    accuracy                           0.75         8\n",
      "   macro avg       0.75      0.75      0.75         8\n",
      "weighted avg       0.75      0.75      0.75         8\n",
      "\n",
      "-------------------------------------------------------------------------------------------------------------------\n"
     ]
    },
    {
     "name": "stderr",
     "output_type": "stream",
     "text": [
      "[Parallel(n_jobs=-1)]: Done   1 out of   1 | elapsed:   32.1s finished\n",
      "[Parallel(n_jobs=-1)]: Using backend LokyBackend with 12 concurrent workers.\n"
     ]
    },
    {
     "name": "stdout",
     "output_type": "stream",
     "text": [
      "K-Fold #1\n",
      "Mean negativities for all classes: [0.09168505856067688]\n",
      "Mean entropies for all classes: [6.652877371319319e-15]\n",
      "              precision    recall  f1-score   support\n",
      "\n",
      "           0       0.75      0.75      0.75         4\n",
      "           1       0.75      0.75      0.75         4\n",
      "\n",
      "    accuracy                           0.75         8\n",
      "   macro avg       0.75      0.75      0.75         8\n",
      "weighted avg       0.75      0.75      0.75         8\n",
      "\n",
      "-------------------------------------------------------------------------------------------------------------------\n"
     ]
    },
    {
     "name": "stderr",
     "output_type": "stream",
     "text": [
      "[Parallel(n_jobs=-1)]: Done   1 out of   1 | elapsed:   32.2s finished\n",
      "[Parallel(n_jobs=-1)]: Using backend LokyBackend with 12 concurrent workers.\n"
     ]
    },
    {
     "name": "stdout",
     "output_type": "stream",
     "text": [
      "K-Fold #2\n",
      "Mean negativities for all classes: [0.09339969206415005]\n",
      "Mean entropies for all classes: [7.025249714412855e-15]\n",
      "              precision    recall  f1-score   support\n",
      "\n",
      "           0       0.75      0.75      0.75         4\n",
      "           1       0.75      0.75      0.75         4\n",
      "\n",
      "    accuracy                           0.75         8\n",
      "   macro avg       0.75      0.75      0.75         8\n",
      "weighted avg       0.75      0.75      0.75         8\n",
      "\n",
      "-------------------------------------------------------------------------------------------------------------------\n"
     ]
    },
    {
     "name": "stderr",
     "output_type": "stream",
     "text": [
      "[Parallel(n_jobs=-1)]: Done   1 out of   1 | elapsed:   32.2s finished\n",
      "[Parallel(n_jobs=-1)]: Using backend LokyBackend with 12 concurrent workers.\n"
     ]
    },
    {
     "name": "stdout",
     "output_type": "stream",
     "text": [
      "K-Fold #3\n",
      "Mean negativities for all classes: [0.09232984634950232]\n",
      "Mean entropies for all classes: [6.308673667350489e-15]\n",
      "              precision    recall  f1-score   support\n",
      "\n",
      "           0       0.50      0.75      0.60         4\n",
      "           1       0.50      0.25      0.33         4\n",
      "\n",
      "    accuracy                           0.50         8\n",
      "   macro avg       0.50      0.50      0.47         8\n",
      "weighted avg       0.50      0.50      0.47         8\n",
      "\n",
      "-------------------------------------------------------------------------------------------------------------------\n"
     ]
    },
    {
     "name": "stderr",
     "output_type": "stream",
     "text": [
      "[Parallel(n_jobs=-1)]: Done   1 out of   1 | elapsed:   31.3s finished\n",
      "[Parallel(n_jobs=-1)]: Using backend LokyBackend with 12 concurrent workers.\n"
     ]
    },
    {
     "name": "stdout",
     "output_type": "stream",
     "text": [
      "K-Fold #4\n",
      "Mean negativities for all classes: [0.09472691430030811]\n",
      "Mean entropies for all classes: [6.413345098561848e-15]\n",
      "              precision    recall  f1-score   support\n",
      "\n",
      "           0       0.00      0.00      0.00         3\n",
      "           1       0.25      0.20      0.22         5\n",
      "\n",
      "    accuracy                           0.12         8\n",
      "   macro avg       0.12      0.10      0.11         8\n",
      "weighted avg       0.16      0.12      0.14         8\n",
      "\n",
      "-------------------------------------------------------------------------------------------------------------------\n"
     ]
    },
    {
     "name": "stderr",
     "output_type": "stream",
     "text": [
      "[Parallel(n_jobs=-1)]: Done   1 out of   1 | elapsed:   31.3s finished\n",
      "[Parallel(n_jobs=-1)]: Using backend LokyBackend with 12 concurrent workers.\n"
     ]
    },
    {
     "name": "stdout",
     "output_type": "stream",
     "text": [
      "K-Fold #5\n",
      "Mean negativities for all classes: [0.0913229948141298]\n",
      "Mean entropies for all classes: [6.968437498387788e-15]\n",
      "              precision    recall  f1-score   support\n",
      "\n",
      "           0       0.50      1.00      0.67         3\n",
      "           1       1.00      0.40      0.57         5\n",
      "\n",
      "    accuracy                           0.62         8\n",
      "   macro avg       0.75      0.70      0.62         8\n",
      "weighted avg       0.81      0.62      0.61         8\n",
      "\n",
      "-------------------------------------------------------------------------------------------------------------------\n"
     ]
    },
    {
     "name": "stderr",
     "output_type": "stream",
     "text": [
      "[Parallel(n_jobs=-1)]: Done   1 out of   1 | elapsed:   32.1s finished\n",
      "[Parallel(n_jobs=-1)]: Using backend LokyBackend with 12 concurrent workers.\n"
     ]
    },
    {
     "name": "stdout",
     "output_type": "stream",
     "text": [
      "K-Fold #6\n",
      "Mean negativities for all classes: [0.10048986239250904]\n",
      "Mean entropies for all classes: [6.32227124759828e-15]\n",
      "              precision    recall  f1-score   support\n",
      "\n",
      "           0       0.25      0.33      0.29         3\n",
      "           1       0.50      0.40      0.44         5\n",
      "\n",
      "    accuracy                           0.38         8\n",
      "   macro avg       0.38      0.37      0.37         8\n",
      "weighted avg       0.41      0.38      0.38         8\n",
      "\n",
      "-------------------------------------------------------------------------------------------------------------------\n"
     ]
    },
    {
     "name": "stderr",
     "output_type": "stream",
     "text": [
      "[Parallel(n_jobs=-1)]: Done   1 out of   1 | elapsed:   31.4s finished\n",
      "[Parallel(n_jobs=-1)]: Using backend LokyBackend with 12 concurrent workers.\n"
     ]
    },
    {
     "name": "stdout",
     "output_type": "stream",
     "text": [
      "K-Fold #7\n",
      "Mean negativities for all classes: [0.09225350585957516]\n",
      "Mean entropies for all classes: [6.223034077292818e-15]\n",
      "              precision    recall  f1-score   support\n",
      "\n",
      "           0       0.60      1.00      0.75         3\n",
      "           1       1.00      0.60      0.75         5\n",
      "\n",
      "    accuracy                           0.75         8\n",
      "   macro avg       0.80      0.80      0.75         8\n",
      "weighted avg       0.85      0.75      0.75         8\n",
      "\n",
      "-------------------------------------------------------------------------------------------------------------------\n"
     ]
    },
    {
     "name": "stderr",
     "output_type": "stream",
     "text": [
      "[Parallel(n_jobs=-1)]: Done   1 out of   1 | elapsed:   31.4s finished\n",
      "[Parallel(n_jobs=-1)]: Using backend LokyBackend with 12 concurrent workers.\n"
     ]
    },
    {
     "name": "stdout",
     "output_type": "stream",
     "text": [
      "K-Fold #8\n",
      "Mean negativities for all classes: [0.0913947899035837]\n",
      "Mean entropies for all classes: [6.2030593043490844e-15]\n",
      "              precision    recall  f1-score   support\n",
      "\n",
      "           0       0.50      0.33      0.40         3\n",
      "           1       0.67      0.80      0.73         5\n",
      "\n",
      "    accuracy                           0.62         8\n",
      "   macro avg       0.58      0.57      0.56         8\n",
      "weighted avg       0.60      0.62      0.60         8\n",
      "\n",
      "-------------------------------------------------------------------------------------------------------------------\n"
     ]
    },
    {
     "name": "stderr",
     "output_type": "stream",
     "text": [
      "[Parallel(n_jobs=-1)]: Done   1 out of   1 | elapsed:   31.4s finished\n",
      "[Parallel(n_jobs=-1)]: Using backend LokyBackend with 12 concurrent workers.\n"
     ]
    },
    {
     "name": "stdout",
     "output_type": "stream",
     "text": [
      "K-Fold #9\n",
      "Mean negativities for all classes: [0.22775903906424416]\n",
      "Mean entropies for all classes: [6.523628095587045e-15]\n",
      "              precision    recall  f1-score   support\n",
      "\n",
      "           0       0.50      0.67      0.57         3\n",
      "           1       0.75      0.60      0.67         5\n",
      "\n",
      "    accuracy                           0.62         8\n",
      "   macro avg       0.62      0.63      0.62         8\n",
      "weighted avg       0.66      0.62      0.63         8\n",
      "\n",
      "-------------------------------------------------------------------------------------------------------------------\n",
      "AVG: Scores = 0.5875 F1-Scores = 0.5744588744588744 Negativity = [0.23387878442258997, 0.09168505856067688] Entropy = [5.613037272465306e-15, 6.652877371319319e-15]\n"
     ]
    },
    {
     "name": "stderr",
     "output_type": "stream",
     "text": [
      "[Parallel(n_jobs=-1)]: Done   1 out of   1 | elapsed:   32.2s finished\n",
      "[Parallel(n_jobs=-1)]: Using backend LokyBackend with 12 concurrent workers.\n"
     ]
    },
    {
     "name": "stdout",
     "output_type": "stream",
     "text": [
      "K-Fold #0\n",
      "Mean negativities for all classes: [0.09181105779403484]\n",
      "Mean entropies for all classes: [5.879890857388727e-15]\n",
      "              precision    recall  f1-score   support\n",
      "\n",
      "           0       0.80      1.00      0.89         4\n",
      "           1       1.00      0.75      0.86         4\n",
      "\n",
      "    accuracy                           0.88         8\n",
      "   macro avg       0.90      0.88      0.87         8\n",
      "weighted avg       0.90      0.88      0.87         8\n",
      "\n",
      "-------------------------------------------------------------------------------------------------------------------\n"
     ]
    },
    {
     "name": "stderr",
     "output_type": "stream",
     "text": [
      "[Parallel(n_jobs=-1)]: Done   1 out of   1 | elapsed:   32.1s finished\n",
      "[Parallel(n_jobs=-1)]: Using backend LokyBackend with 12 concurrent workers.\n"
     ]
    },
    {
     "name": "stdout",
     "output_type": "stream",
     "text": [
      "K-Fold #1\n",
      "Mean negativities for all classes: [0.09189747252836879]\n",
      "Mean entropies for all classes: [6.638121386111114e-15]\n",
      "              precision    recall  f1-score   support\n",
      "\n",
      "           0       0.80      1.00      0.89         4\n",
      "           1       1.00      0.75      0.86         4\n",
      "\n",
      "    accuracy                           0.88         8\n",
      "   macro avg       0.90      0.88      0.87         8\n",
      "weighted avg       0.90      0.88      0.87         8\n",
      "\n",
      "-------------------------------------------------------------------------------------------------------------------\n"
     ]
    },
    {
     "name": "stderr",
     "output_type": "stream",
     "text": [
      "[Parallel(n_jobs=-1)]: Done   1 out of   1 | elapsed:   32.2s finished\n",
      "[Parallel(n_jobs=-1)]: Using backend LokyBackend with 12 concurrent workers.\n"
     ]
    },
    {
     "name": "stdout",
     "output_type": "stream",
     "text": [
      "K-Fold #2\n",
      "Mean negativities for all classes: [0.09143489511517079]\n",
      "Mean entropies for all classes: [7.084860171128055e-15]\n",
      "              precision    recall  f1-score   support\n",
      "\n",
      "           0       0.50      0.25      0.33         4\n",
      "           1       0.50      0.75      0.60         4\n",
      "\n",
      "    accuracy                           0.50         8\n",
      "   macro avg       0.50      0.50      0.47         8\n",
      "weighted avg       0.50      0.50      0.47         8\n",
      "\n",
      "-------------------------------------------------------------------------------------------------------------------\n"
     ]
    },
    {
     "name": "stderr",
     "output_type": "stream",
     "text": [
      "[Parallel(n_jobs=-1)]: Done   1 out of   1 | elapsed:   32.1s finished\n",
      "[Parallel(n_jobs=-1)]: Using backend LokyBackend with 12 concurrent workers.\n"
     ]
    },
    {
     "name": "stdout",
     "output_type": "stream",
     "text": [
      "K-Fold #3\n",
      "Mean negativities for all classes: [0.09156762304278632]\n",
      "Mean entropies for all classes: [6.245740659827911e-15]\n",
      "              precision    recall  f1-score   support\n",
      "\n",
      "           0       0.80      1.00      0.89         4\n",
      "           1       1.00      0.75      0.86         4\n",
      "\n",
      "    accuracy                           0.88         8\n",
      "   macro avg       0.90      0.88      0.87         8\n",
      "weighted avg       0.90      0.88      0.87         8\n",
      "\n",
      "-------------------------------------------------------------------------------------------------------------------\n"
     ]
    },
    {
     "name": "stderr",
     "output_type": "stream",
     "text": [
      "[Parallel(n_jobs=-1)]: Done   1 out of   1 | elapsed:   31.4s finished\n",
      "[Parallel(n_jobs=-1)]: Using backend LokyBackend with 12 concurrent workers.\n"
     ]
    },
    {
     "name": "stdout",
     "output_type": "stream",
     "text": [
      "K-Fold #4\n",
      "Mean negativities for all classes: [0.09286307795095673]\n",
      "Mean entropies for all classes: [6.001344453213987e-15]\n",
      "              precision    recall  f1-score   support\n",
      "\n",
      "           0       0.40      0.67      0.50         3\n",
      "           1       0.67      0.40      0.50         5\n",
      "\n",
      "    accuracy                           0.50         8\n",
      "   macro avg       0.53      0.53      0.50         8\n",
      "weighted avg       0.57      0.50      0.50         8\n",
      "\n",
      "-------------------------------------------------------------------------------------------------------------------\n"
     ]
    },
    {
     "name": "stderr",
     "output_type": "stream",
     "text": [
      "[Parallel(n_jobs=-1)]: Done   1 out of   1 | elapsed:   31.4s finished\n",
      "[Parallel(n_jobs=-1)]: Using backend LokyBackend with 12 concurrent workers.\n"
     ]
    },
    {
     "name": "stdout",
     "output_type": "stream",
     "text": [
      "K-Fold #5\n",
      "Mean negativities for all classes: [0.09588059583588203]\n",
      "Mean entropies for all classes: [7.028223850477975e-15]\n",
      "              precision    recall  f1-score   support\n",
      "\n",
      "           0       0.50      0.67      0.57         3\n",
      "           1       0.75      0.60      0.67         5\n",
      "\n",
      "    accuracy                           0.62         8\n",
      "   macro avg       0.62      0.63      0.62         8\n",
      "weighted avg       0.66      0.62      0.63         8\n",
      "\n",
      "-------------------------------------------------------------------------------------------------------------------\n"
     ]
    },
    {
     "name": "stderr",
     "output_type": "stream",
     "text": [
      "[Parallel(n_jobs=-1)]: Done   1 out of   1 | elapsed:   32.1s finished\n",
      "[Parallel(n_jobs=-1)]: Using backend LokyBackend with 12 concurrent workers.\n"
     ]
    },
    {
     "name": "stdout",
     "output_type": "stream",
     "text": [
      "K-Fold #6\n",
      "Mean negativities for all classes: [0.09137786535158327]\n",
      "Mean entropies for all classes: [5.889646396248998e-15]\n",
      "              precision    recall  f1-score   support\n",
      "\n",
      "           0       0.50      0.67      0.57         3\n",
      "           1       0.75      0.60      0.67         5\n",
      "\n",
      "    accuracy                           0.62         8\n",
      "   macro avg       0.62      0.63      0.62         8\n",
      "weighted avg       0.66      0.62      0.63         8\n",
      "\n",
      "-------------------------------------------------------------------------------------------------------------------\n"
     ]
    },
    {
     "name": "stderr",
     "output_type": "stream",
     "text": [
      "[Parallel(n_jobs=-1)]: Done   1 out of   1 | elapsed:   31.3s finished\n",
      "[Parallel(n_jobs=-1)]: Using backend LokyBackend with 12 concurrent workers.\n"
     ]
    },
    {
     "name": "stdout",
     "output_type": "stream",
     "text": [
      "K-Fold #7\n",
      "Mean negativities for all classes: [0.0920981861120426]\n",
      "Mean entropies for all classes: [6.900203144770423e-15]\n",
      "              precision    recall  f1-score   support\n",
      "\n",
      "           0       0.40      0.67      0.50         3\n",
      "           1       0.67      0.40      0.50         5\n",
      "\n",
      "    accuracy                           0.50         8\n",
      "   macro avg       0.53      0.53      0.50         8\n",
      "weighted avg       0.57      0.50      0.50         8\n",
      "\n",
      "-------------------------------------------------------------------------------------------------------------------\n"
     ]
    },
    {
     "name": "stderr",
     "output_type": "stream",
     "text": [
      "[Parallel(n_jobs=-1)]: Done   1 out of   1 | elapsed:   31.6s finished\n",
      "[Parallel(n_jobs=-1)]: Using backend LokyBackend with 12 concurrent workers.\n"
     ]
    },
    {
     "name": "stdout",
     "output_type": "stream",
     "text": [
      "K-Fold #8\n",
      "Mean negativities for all classes: [0.0916332133686561]\n",
      "Mean entropies for all classes: [7.0256565368327484e-15]\n",
      "              precision    recall  f1-score   support\n",
      "\n",
      "           0       0.43      1.00      0.60         3\n",
      "           1       1.00      0.20      0.33         5\n",
      "\n",
      "    accuracy                           0.50         8\n",
      "   macro avg       0.71      0.60      0.47         8\n",
      "weighted avg       0.79      0.50      0.43         8\n",
      "\n",
      "-------------------------------------------------------------------------------------------------------------------\n",
      "K-Fold #9\n",
      "Mean negativities for all classes: [0.09136177914198641]\n",
      "Mean entropies for all classes: [6.5279600895602034e-15]\n",
      "              precision    recall  f1-score   support\n",
      "\n",
      "           0       0.50      0.67      0.57         3\n",
      "           1       0.75      0.60      0.67         5\n",
      "\n",
      "    accuracy                           0.62         8\n",
      "   macro avg       0.62      0.63      0.62         8\n",
      "weighted avg       0.66      0.62      0.63         8\n",
      "\n",
      "-------------------------------------------------------------------------------------------------------------------\n",
      "AVG: Scores = 0.65 F1-Scores = 0.6409523809523809 Negativity = [0.09181105779403484, 0.09189747252836879] Entropy = [5.879890857388727e-15, 6.638121386111114e-15]\n",
      "CPU times: total: 2min 44s\n",
      "Wall time: 1h 46min 38s\n"
     ]
    },
    {
     "name": "stderr",
     "output_type": "stream",
     "text": [
      "[Parallel(n_jobs=-1)]: Done   1 out of   1 | elapsed:   31.5s finished\n"
     ]
    }
   ],
   "source": [
    "%%time\n",
    "scores_list = []\n",
    "f1scores_list = []\n",
    "negativities_list = []\n",
    "for SEED in range(n_times_kfold):\n",
    "    scores, f1scores, output_dict = execute_training_test_k_fold(\n",
    "                    X, \n",
    "                    y, \n",
    "                    k_folds=k_times_fold,\n",
    "                    random_seed = SEED, \n",
    "                    classifier_function=classifier_function, \n",
    "                    dic_classifier_params=dic_classifier_params,\n",
    "                    one_vs_classifier=OneVsRestClassifier, \n",
    "                    dic_training_params=dic_training_params,\n",
    "                    print_each_fold_metric=True,\n",
    "                    print_avg_metric=True)\n",
    "    scores_list.append(scores)\n",
    "    f1scores_list.append(f1scores)\n",
    "    negativities_list.append(output_dict[\"negativities\"])"
   ]
  },
  {
   "cell_type": "code",
   "execution_count": 4,
   "id": "168e8aff",
   "metadata": {},
   "outputs": [
    {
     "name": "stdout",
     "output_type": "stream",
     "text": [
      "Media Score dos N K-Fold 0.6000000000000001\n",
      "Maior Score dos K-Fold 0.65\n",
      "Min Score dos K-Fold 0.5125\n",
      "Media Score dos K-Fold [0.65, 0.6, 0.625, 0.575, 0.6125, 0.575, 0.65, 0.5125, 0.6, 0.575, 0.5375, 0.5625, 0.625, 0.625, 0.5875, 0.65, 0.6125, 0.5875, 0.5875, 0.65]\n",
      "\n",
      "\n",
      "[[0.75, 0.625, 0.5, 0.75, 0.375, 0.75, 0.625, 0.625, 0.625, 0.875], [0.625, 0.5, 0.625, 0.875, 0.625, 0.375, 0.5, 0.625, 0.75, 0.5], [0.75, 0.5, 1.0, 0.75, 0.5, 0.625, 0.625, 0.5, 0.5, 0.5], [0.875, 0.75, 0.5, 0.625, 0.5, 0.25, 0.75, 0.5, 0.5, 0.5], [0.625, 0.625, 0.25, 0.625, 0.625, 0.5, 0.75, 0.875, 0.5, 0.75], [0.625, 0.625, 0.25, 0.375, 0.75, 0.75, 0.375, 0.5, 0.875, 0.625], [0.625, 0.5, 0.875, 0.75, 0.625, 0.5, 0.625, 0.75, 0.5, 0.75], [0.75, 0.5, 0.75, 0.125, 0.75, 0.625, 0.375, 0.375, 0.375, 0.5], [0.75, 0.75, 0.625, 0.75, 0.375, 0.5, 0.75, 0.625, 0.375, 0.5], [0.75, 0.75, 0.875, 0.625, 0.5, 0.5, 0.5, 0.25, 0.5, 0.5], [0.25, 0.375, 0.75, 0.625, 0.625, 0.625, 0.75, 0.375, 0.5, 0.5], [0.625, 0.625, 0.625, 0.375, 0.375, 0.625, 0.75, 0.375, 0.75, 0.5], [0.125, 0.375, 0.875, 0.875, 0.375, 0.75, 0.625, 0.875, 0.5, 0.875], [0.5, 0.875, 0.875, 0.75, 0.375, 0.5, 0.75, 0.5, 0.625, 0.5], [0.5, 0.5, 0.625, 0.75, 0.75, 0.625, 0.625, 0.375, 0.5, 0.625], [0.875, 0.75, 0.625, 0.625, 0.875, 0.75, 0.625, 0.875, 0.125, 0.375], [0.5, 0.625, 0.75, 0.375, 0.5, 0.5, 0.625, 0.75, 0.625, 0.875], [0.5, 0.5, 0.75, 0.75, 0.625, 0.625, 0.625, 0.375, 0.625, 0.5], [0.75, 0.75, 0.75, 0.5, 0.125, 0.625, 0.375, 0.75, 0.625, 0.625], [0.875, 0.875, 0.5, 0.875, 0.5, 0.625, 0.625, 0.5, 0.5, 0.625]]\n"
     ]
    }
   ],
   "source": [
    "print(\"Media Score dos N K-Fold\", np.mean([np.mean(i) for i in scores_list]))\n",
    "print(\"Maior Score dos K-Fold\", max([np.mean(i) for i in scores_list]))\n",
    "print(\"Min Score dos K-Fold\", min([np.mean(i) for i in scores_list]))\n",
    "\n",
    "print(\"Media Score dos K-Fold\", [np.mean(i) for i in scores_list])\n",
    "print()\n",
    "print()\n",
    "print(scores_list)"
   ]
  },
  {
   "cell_type": "code",
   "execution_count": 5,
   "id": "fcd239e5",
   "metadata": {},
   "outputs": [
    {
     "name": "stdout",
     "output_type": "stream",
     "text": [
      "Media F1Score dos N K-Fold 0.5911248196248196\n",
      "Maior F1Score dos K-Fold 0.6452380952380953\n",
      "Maior F1Score dos K-Fold 0.5028282828282828\n",
      "Media F1Score dos K-Fold [0.6430952380952382, 0.5930952380952381, 0.6171428571428572, 0.5692063492063493, 0.6065873015873016, 0.5676984126984127, 0.6446825396825397, 0.5058730158730158, 0.5901587301587302, 0.5708730158730159, 0.5028282828282828, 0.5554761904761906, 0.6202380952380953, 0.6196825396825396, 0.5757936507936507, 0.6452380952380953, 0.5986219336219337, 0.5807936507936509, 0.5744588744588744, 0.6409523809523809]\n",
      "\n",
      "\n",
      "[[0.7333333333333334, 0.6190476190476191, 0.5, 0.7333333333333334, 0.3650793650793651, 0.7499999999999999, 0.6190476190476191, 0.6190476190476191, 0.6190476190476191, 0.873015873015873], [0.6190476190476191, 0.5, 0.6190476190476191, 0.873015873015873, 0.6190476190476191, 0.3650793650793651, 0.4666666666666667, 0.6190476190476191, 0.7499999999999999, 0.5], [0.7333333333333334, 0.5, 1.0, 0.7333333333333334, 0.5, 0.6190476190476191, 0.6190476190476191, 0.5, 0.4666666666666667, 0.5], [0.873015873015873, 0.7333333333333334, 0.5, 0.6190476190476191, 0.4666666666666667, 0.25, 0.7499999999999999, 0.5, 0.5, 0.5], [0.6190476190476191, 0.6190476190476191, 0.25, 0.6190476190476191, 0.6190476190476191, 0.5, 0.7333333333333334, 0.873015873015873, 0.5, 0.7333333333333334], [0.6190476190476191, 0.6190476190476191, 0.25, 0.3650793650793651, 0.7499999999999999, 0.7499999999999999, 0.3650793650793651, 0.4666666666666667, 0.873015873015873, 0.6190476190476191], [0.6190476190476191, 0.5, 0.873015873015873, 0.75, 0.6190476190476191, 0.4666666666666667, 0.6190476190476191, 0.7499999999999999, 0.5, 0.7499999999999999], [0.75, 0.5, 0.75, 0.11111111111111112, 0.7333333333333334, 0.6190476190476191, 0.3650793650793651, 0.3650793650793651, 0.3650793650793651, 0.5], [0.75, 0.7333333333333334, 0.6190476190476191, 0.7333333333333334, 0.3650793650793651, 0.5, 0.7499999999999999, 0.6190476190476191, 0.3650793650793651, 0.4666666666666667], [0.75, 0.75, 0.873015873015873, 0.6190476190476191, 0.5, 0.5, 0.5, 0.25, 0.4666666666666667, 0.5], [0.2, 0.3650793650793651, 0.75, 0.6190476190476191, 0.6190476190476191, 0.6190476190476191, 0.7499999999999999, 0.2727272727272727, 0.3333333333333333, 0.5], [0.6190476190476191, 0.6190476190476191, 0.6190476190476191, 0.3650793650793651, 0.3650793650793651, 0.6190476190476191, 0.7333333333333334, 0.3650793650793651, 0.7499999999999999, 0.5], [0.11111111111111112, 0.3650793650793651, 0.873015873015873, 0.873015873015873, 0.3650793650793651, 0.7499999999999999, 0.6190476190476191, 0.873015873015873, 0.5, 0.873015873015873], [0.5, 0.873015873015873, 0.873015873015873, 0.75, 0.3650793650793651, 0.5, 0.7499999999999999, 0.4666666666666667, 0.6190476190476191, 0.5], [0.4666666666666667, 0.4666666666666667, 0.6190476190476191, 0.75, 0.7333333333333334, 0.6190476190476191, 0.6190476190476191, 0.3650793650793651, 0.5, 0.6190476190476191], [0.873015873015873, 0.75, 0.6190476190476191, 0.6190476190476191, 0.873015873015873, 0.7499999999999999, 0.6190476190476191, 0.873015873015873, 0.11111111111111112, 0.3650793650793651], [0.5, 0.6190476190476191, 0.75, 0.2727272727272727, 0.5, 0.5, 0.6190476190476191, 0.7333333333333334, 0.6190476190476191, 0.873015873015873], [0.5, 0.4666666666666667, 0.75, 0.75, 0.6190476190476191, 0.6190476190476191, 0.6190476190476191, 0.3650793650793651, 0.6190476190476191, 0.5], [0.75, 0.75, 0.75, 0.4666666666666667, 0.11111111111111112, 0.6190476190476191, 0.3650793650793651, 0.7499999999999999, 0.5636363636363636, 0.6190476190476191], [0.873015873015873, 0.873015873015873, 0.4666666666666667, 0.873015873015873, 0.5, 0.6190476190476191, 0.6190476190476191, 0.5, 0.4666666666666667, 0.6190476190476191]]\n"
     ]
    }
   ],
   "source": [
    "print(\"Media F1Score dos N K-Fold\", np.mean([np.mean(i) for i in f1scores_list]))\n",
    "print(\"Maior F1Score dos K-Fold\", max([np.mean(i) for i in f1scores_list]))\n",
    "print(\"Maior F1Score dos K-Fold\", min([np.mean(i) for i in f1scores_list]))\n",
    "\n",
    "print(\"Media F1Score dos K-Fold\", [np.mean(i) for i in f1scores_list])\n",
    "print()\n",
    "print()\n",
    "print(f1scores_list)"
   ]
  },
  {
   "cell_type": "code",
   "execution_count": 6,
   "id": "3dcbc812",
   "metadata": {},
   "outputs": [
    {
     "name": "stdout",
     "output_type": "stream",
     "text": [
      "Media Negativity dos N K-Fold 0.10159249690039443\n",
      "\n",
      "\n",
      "[[[0.09212397724751276, 0.0916395179411904, 0.2236582352291064, 0.10164413981418798, 0.09353726136444893, 0.09136908846718884, 0.09190807054012456, 0.09184938993043625, 0.09088900314770001, 0.09144393069059258]], [[0.0914696439332546, 0.09786511504029217, 0.09504829900042432, 0.09141882856051897, 0.09906895289932992, 0.09171788785653123, 0.09107413534588493, 0.09743800434138161, 0.09506526698113629, 0.09226501341319686]], [[0.09148671491307728, 0.09231271514383466, 0.09275853826081881, 0.0963053358038461, 0.0959131767874998, 0.09127619154735062, 0.09775205189504524, 0.09124117988466919, 0.09936407549381827, 0.09161264270336539]], [[0.09505382643893695, 0.09166322652200397, 0.09453500720758846, 0.09179805709542624, 0.09168285965262135, 0.09186156974259295, 0.09153673215194276, 0.09122595018992637, 0.0937200535863939, 0.09122337409216696]], [[0.09153694779257726, 0.09254125498448355, 0.09703017222135589, 0.09187109609329802, 0.09129574395978417, 0.10005401339580916, 0.09215591056778548, 0.09129452061616845, 0.09164788482867395, 0.09256011086353828]], [[0.09138749886746508, 0.09166132498733279, 0.09155950990566472, 0.0977480535270584, 0.09125411921929662, 0.09387940303423348, 0.09206040580826592, 0.09529539322099867, 0.09221552328119365, 0.0920173472896357]], [[0.09170292473714511, 0.24669085559315856, 0.09052979249738342, 0.09370580577960011, 0.09478617284233018, 0.0917661491928799, 0.09419828526809061, 0.09135259574639552, 0.09791639690488643, 0.0921822759893386]], [[0.10234208989006659, 0.09176502695922466, 0.09179739832919466, 0.09157929604258133, 0.09212596928630652, 0.09125256835860386, 0.09872072220378346, 0.09229430853652636, 0.09183156740200216, 0.0922120304155033]], [[0.2380745369589377, 0.09262918401442928, 0.09163277724510295, 0.0916788099718328, 0.09190033571738099, 0.09755862895842805, 0.09137861290572778, 0.09224225158647649, 0.09240228241490449, 0.0912230767169702]], [[0.24205367564545463, 0.09279265915374123, 0.09190589799934729, 0.09191455161557707, 0.0913470191140264, 0.09524416191588969, 0.09138437450223122, 0.09171352840057408, 0.2341247390079877, 0.09727531218959048]], [[0.09868603288513932, 0.09190956921173232, 0.09237058550457883, 0.0991906750768422, 0.09493560490546303, 0.10596736344245286, 0.09174493879748874, 0.09568968510935599, 0.09137138306373532, 0.09258164110366249]], [[0.09102635829415992, 0.0919690843801758, 0.09655075323641296, 0.0913408390364342, 0.09103195391856726, 0.0921291301116062, 0.09179600311385921, 0.09136305806997724, 0.09161279394191146, 0.09164710881503611]], [[0.09112566427525554, 0.09150401391975402, 0.09199622401657104, 0.09122929046626424, 0.09938013621191907, 0.09208875133640747, 0.09310734674326848, 0.09501872345025361, 0.09435449210023585, 0.09106850393869749]], [[0.09117737338093584, 0.09185892428116954, 0.22512479308453748, 0.09160173488249086, 0.0972274311872127, 0.09207672774858265, 0.09837047887550565, 0.09164131676857276, 0.09665810173179942, 0.09124628132831092]], [[0.09288345153048137, 0.09839033908511503, 0.24184007685852982, 0.09125662958946937, 0.09380872294713252, 0.09124413469985186, 0.22787626681159887, 0.09274060904685827, 0.09700760222890202, 0.09247288098613655]], [[0.09257171641953436, 0.09219912218613477, 0.09128710303860411, 0.09188620504876416, 0.0918119140029262, 0.09192096312225687, 0.09182675122582085, 0.09154310969411307, 0.09135895910526153, 0.23758873833144295]], [[0.0916702325345936, 0.09134558980307765, 0.09102544300447696, 0.09188005087760603, 0.0926689491204095, 0.09229890314168614, 0.09198114465853308, 0.24209983159863138, 0.09092840331966068, 0.09116587200723154]], [[0.0914973524909186, 0.09140832143914857, 0.09156159101021574, 0.09297554066584159, 0.09945884507062994, 0.09168335983628957, 0.09087228374370705, 0.09170592078771003, 0.09103531171435737, 0.09267208824455844]], [[0.23387878442258997, 0.09168505856067688, 0.09339969206415005, 0.09232984634950232, 0.09472691430030811, 0.0913229948141298, 0.10048986239250904, 0.09225350585957516, 0.0913947899035837, 0.22775903906424416]], [[0.09181105779403484, 0.09189747252836879, 0.09143489511517079, 0.09156762304278632, 0.09286307795095673, 0.09588059583588203, 0.09137786535158327, 0.0920981861120426, 0.0916332133686561, 0.09136177914198641]]]\n"
     ]
    }
   ],
   "source": [
    "print(\"Media Negativity dos N K-Fold\", np.mean([neg for neg in negativities_list]))\n",
    "\n",
    "print()\n",
    "print()\n",
    "print(negativities_list)"
   ]
  }
 ],
 "metadata": {
  "kernelspec": {
   "display_name": "Python 3",
   "language": "python",
   "name": "python3"
  },
  "language_info": {
   "codemirror_mode": {
    "name": "ipython",
    "version": 3
   },
   "file_extension": ".py",
   "mimetype": "text/x-python",
   "name": "python",
   "nbconvert_exporter": "python",
   "pygments_lexer": "ipython3",
   "version": "3.9.16"
  }
 },
 "nbformat": 4,
 "nbformat_minor": 5
}
