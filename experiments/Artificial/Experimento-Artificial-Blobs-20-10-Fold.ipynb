{
 "cells": [
  {
   "attachments": {},
   "cell_type": "markdown",
   "id": "7cafd549",
   "metadata": {},
   "source": [
    "## Proposed - 1 -  Sigma_q with Identity and Load input state in env state"
   ]
  },
  {
   "cell_type": "code",
   "execution_count": null,
   "id": "f6a490ca",
   "metadata": {},
   "outputs": [],
   "source": [
    "import sys, os\n",
    "sys.path.append(os.path.abspath('../../classifiers'))\n",
    "sys.path.append(os.path.abspath('../../training'))\n",
    "sys.path.append(os.path.abspath('../../validation'))\n",
    "from validation_functions import execute_training_test_k_fold\n",
    "from classifiers_ICQ import iqc_classifier\n",
    "\n",
    "from sklearn.multiclass import OneVsRestClassifier\n",
    "import numpy as np\n",
    "import matplotlib.pyplot as plt"
   ]
  },
  {
   "cell_type": "code",
   "execution_count": null,
   "id": "bc870df6",
   "metadata": {},
   "outputs": [],
   "source": [
    "if 'normalize_axis' not in locals() and 'normalize_axis' not in globals():\n",
    "    normalize_axis = 0\n",
    "if 'load_inputvector_env_state' not in locals() and 'load_inputvector_env_state' not in globals():\n",
    "    load_inputvector_env_state = False\n",
    "dataset_name = \"blobs.npy\""
   ]
  },
  {
   "cell_type": "code",
   "execution_count": null,
   "id": "ba271fd2",
   "metadata": {},
   "outputs": [],
   "source": [
    "def get_dataset():\n",
    "    path_to_datasets = \"../../datasets/Datasets_template_exp/\" \n",
    "    dataset = np.load(path_to_datasets + dataset_name)\n",
    "\n",
    "    X, y = dataset[:,:-1],dataset[:,-1]\n",
    "\n",
    "    X0 = X[y == 0]\n",
    "    X1 = X[y == 1]\n",
    "\n",
    "    plt.plot(X0[:,0],X0[:,1],'o')\n",
    "    plt.plot(X1[:,0],X1[:,1],'o')\n",
    "    plt.title(dataset_name)\n",
    "    return X, y"
   ]
  },
  {
   "cell_type": "code",
   "execution_count": null,
   "id": "0db239e0",
   "metadata": {},
   "outputs": [],
   "source": [
    "X, y = get_dataset()\n",
    "classifier_function = iqc_classifier\n",
    "dic_classifier_params = {}\n",
    "dic_classifier_params[\"sigma_q_params\"] = [1,1,1,1]\n",
    "dic_classifier_params[\"use_polar_coordinates_on_sigma_q\"] = False\n",
    "dic_classifier_params[\"load_inputvector_env_state\"] = load_inputvector_env_state\n",
    "dic_classifier_params[\"normalize_axis\"] = normalize_axis\n",
    "\n",
    "dic_training_params = {\"max_iter\": 1000,\n",
    "    \"accuracy_succ\": 0.99,\n",
    "    \"plot_graphs_and_metrics\": False,\n",
    "    \"plot_graphs_in_classifier\": False,\n",
    "    \"random_seed\": 1,\n",
    "    \"learning_rate\": 0.01,\n",
    "    \"refit_db\":True,\n",
    "    \"reset_weights_epoch\":0,\n",
    "    \"do_classes_refit\":True,\n",
    "    \"batch\":False}\n",
    "\n",
    "n_times_kfold = 20\n",
    "k_times_fold = 10"
   ]
  },
  {
   "cell_type": "code",
   "execution_count": null,
   "id": "cf776e03",
   "metadata": {},
   "outputs": [],
   "source": [
    "%%time\n",
    "scores_list = []\n",
    "f1scores_list = []\n",
    "for SEED in range(n_times_kfold):\n",
    "    scores, f1scores = execute_training_test_k_fold(\n",
    "                    X, \n",
    "                    y, \n",
    "                    k_folds=k_times_fold,\n",
    "                    random_seed=SEED, \n",
    "                    classifier_function=classifier_function, \n",
    "                    dic_classifier_params=dic_classifier_params,\n",
    "                    one_vs_classifier=OneVsRestClassifier, \n",
    "                    dic_training_params=dic_training_params,\n",
    "                    print_each_fold_metric=True,\n",
    "                    print_avg_metric=True)\n",
    "    scores_list.append(scores)\n",
    "    f1scores_list.append(f1scores)"
   ]
  },
  {
   "cell_type": "code",
   "execution_count": null,
   "id": "f8272521",
   "metadata": {},
   "outputs": [],
   "source": [
    "print(\"Media Score dos N K-Fold\", np.mean([np.mean(i) for i in scores_list]))\n",
    "print(\"Maior Score dos K-Fold\", max([np.mean(i) for i in scores_list]))\n",
    "print(\"Menor Score dos K-Fold\", min([np.mean(i) for i in scores_list]))\n",
    "\n",
    "print()\n",
    "print()\n",
    "print(scores_list)"
   ]
  },
  {
   "cell_type": "code",
   "execution_count": null,
   "id": "94e6481f",
   "metadata": {},
   "outputs": [],
   "source": [
    "print(\"Media F1Score dos N K-Fold\", np.mean([np.mean(i) for i in f1scores_list]))\n",
    "print(\"Maior F1Score dos K-Fold\", max([np.mean(i) for i in f1scores_list]))\n",
    "print(\"Menor F1Score dos K-Fold\", min([np.mean(i) for i in f1scores_list]))\n",
    "\n",
    "print()\n",
    "print()\n",
    "print(f1scores_list)"
   ]
  },
  {
   "cell_type": "code",
   "execution_count": null,
   "id": "10b9f2a0",
   "metadata": {},
   "outputs": [],
   "source": [
    "path = \"results/\"\n",
    "if load_inputvector_env_state:\n",
    "    path = path + \"proposed/\"\n",
    "else:\n",
    "    path = path + \"original/\"\n",
    "path = path + \"norm-\" + str(normalize_axis) + \"/\"\n",
    "\n",
    "if not os.path.exists(path):\n",
    "    os.makedirs(path)\n",
    "\n",
    "with open(path + dataset_name + \".txt\", \"w\") as file:\n",
    "    data = \"\"\"Scores dos dos N K-Fold: %s\n",
    "        Média Scores dos K-Fold: %.4f\n",
    "        Maior Score dos K-Fold: %.4f\n",
    "        Menor Score dos K-Fold: %.4f\n",
    "    F1-Scores: %s\n",
    "        Média F1-Scores dos K-Fold: %.4f\n",
    "        Maior F1-Score dos K-Fold: %.4f\n",
    "        Menor F1-Score dos K-Fold: %.4f\n",
    "    \"\"\" % (str(scores_list), \n",
    "               np.mean([np.mean(i) for i in scores_list]),\n",
    "               max([np.mean(i) for i in scores_list]),\n",
    "               min([np.mean(i) for i in scores_list]),\n",
    "               str(f1scores_list),\n",
    "               np.mean([np.mean(i) for i in f1scores_list]),\n",
    "               max([np.mean(i) for i in f1scores_list]),\n",
    "               min([np.mean(i) for i in f1scores_list]))\n",
    "    \n",
    "    file.write(data)"
   ]
  }
 ],
 "metadata": {
  "kernelspec": {
   "display_name": "Python 3",
   "language": "python",
   "name": "python3"
  },
  "language_info": {
   "codemirror_mode": {
    "name": "ipython",
    "version": 3
   },
   "file_extension": ".py",
   "mimetype": "text/x-python",
   "name": "python",
   "nbconvert_exporter": "python",
   "pygments_lexer": "ipython3",
   "version": "3.9.16"
  }
 },
 "nbformat": 4,
 "nbformat_minor": 5
}
