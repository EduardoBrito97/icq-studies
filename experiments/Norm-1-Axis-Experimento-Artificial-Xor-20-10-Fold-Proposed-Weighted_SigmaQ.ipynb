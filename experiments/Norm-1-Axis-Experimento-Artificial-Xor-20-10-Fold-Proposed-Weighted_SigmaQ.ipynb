{
 "cells": [
  {
   "attachments": {},
   "cell_type": "markdown",
   "id": "7cafd549",
   "metadata": {},
   "source": [
    "## Proposed - 1 -  Sigma_q with Identity and Load input state in env state"
   ]
  },
  {
   "cell_type": "code",
   "execution_count": 1,
   "id": "f6a490ca",
   "metadata": {},
   "outputs": [
    {
     "name": "stderr",
     "output_type": "stream",
     "text": [
      "Intel(R) Extension for Scikit-learn* enabled (https://github.com/intel/scikit-learn-intelex)\n"
     ]
    }
   ],
   "source": [
    "import sys, os\n",
    "sys.path.append(os.path.abspath('../classifiers'))\n",
    "sys.path.append(os.path.abspath('../training'))\n",
    "sys.path.append(os.path.abspath('../validation'))\n",
    "from validation_functions import execute_training_test_k_fold\n",
    "from classifiers_ICQ import iqc_classifier\n",
    "\n",
    "from sklearn.multiclass import OneVsRestClassifier\n",
    "import numpy as np\n",
    "from sklearn import datasets"
   ]
  },
  {
   "cell_type": "code",
   "execution_count": 2,
   "id": "ba271fd2",
   "metadata": {},
   "outputs": [],
   "source": [
    "def get_dataset():\n",
    "    # Dá pra usar caminhos relativos, não tem pra quê colocar tudo de uma vez não\n",
    "    path_to_datasets = \"../datasets/Datasets_template_exp/\" \n",
    "    dataset_name = \"xor.npy\"\n",
    "    dataset = np.load(path_to_datasets + dataset_name)\n",
    "\n",
    "    X, y = dataset[:,:-1],dataset[:,-1]\n",
    "    return X, y"
   ]
  },
  {
   "cell_type": "code",
   "execution_count": 3,
   "id": "0db239e0",
   "metadata": {},
   "outputs": [],
   "source": [
    "X, y = get_dataset()\n",
    "classifier_function = iqc_classifier\n",
    "dic_classifier_params = {}\n",
    "dic_classifier_params[\"sigma_q_params\"] = [1,1,1,1]\n",
    "dic_classifier_params[\"use_polar_coordinates_on_sigma_q\"] = False\n",
    "dic_classifier_params[\"load_inputvector_env_state\"] = True\n",
    "dic_classifier_params[\"normalize_axis\"] = 1\n",
    "\n",
    "dic_training_params = {\"max_iter\": 1000,\n",
    "    \"accuracy_succ\": 0.99,\n",
    "    \"plot_graphs_and_metrics\": True,\n",
    "    \"plot_graphs_in_classifier\": True,\n",
    "    \"random_seed\": 1,\n",
    "    \"learning_rate\": 0.01,\n",
    "    \"refit_db\":True,\n",
    "    \"reset_weights_epoch\":0,\n",
    "    \"do_classes_refit\":True,\n",
    "    \"batch\":False}\n",
    "\n",
    "\n",
    "print_each_fold_metric=True\n",
    "print_avg_metric=True\n",
    "\n",
    "\n",
    "n_times_kfold = 20\n",
    "k_times_fold = 10"
   ]
  },
  {
   "cell_type": "code",
   "execution_count": 4,
   "id": "cf776e03",
   "metadata": {},
   "outputs": [
    {
     "name": "stderr",
     "output_type": "stream",
     "text": [
      "[Parallel(n_jobs=-1)]: Using backend LokyBackend with 12 concurrent workers.\n",
      "[Parallel(n_jobs=-1)]: Done   1 out of   1 | elapsed:  1.9min finished\n",
      "c:\\ProgramData\\Anaconda3\\lib\\site-packages\\sklearn\\metrics\\_classification.py:1344: UndefinedMetricWarning: Precision and F-score are ill-defined and being set to 0.0 in labels with no predicted samples. Use `zero_division` parameter to control this behavior.\n",
      "  _warn_prf(average, modifier, msg_start, len(result))\n",
      "c:\\ProgramData\\Anaconda3\\lib\\site-packages\\sklearn\\metrics\\_classification.py:1344: UndefinedMetricWarning: Precision and F-score are ill-defined and being set to 0.0 in labels with no predicted samples. Use `zero_division` parameter to control this behavior.\n",
      "  _warn_prf(average, modifier, msg_start, len(result))\n",
      "c:\\ProgramData\\Anaconda3\\lib\\site-packages\\sklearn\\metrics\\_classification.py:1344: UndefinedMetricWarning: Precision and F-score are ill-defined and being set to 0.0 in labels with no predicted samples. Use `zero_division` parameter to control this behavior.\n",
      "  _warn_prf(average, modifier, msg_start, len(result))\n",
      "[Parallel(n_jobs=-1)]: Using backend LokyBackend with 12 concurrent workers.\n"
     ]
    },
    {
     "name": "stdout",
     "output_type": "stream",
     "text": [
      "K-Fold #0:\n",
      "              precision    recall  f1-score   support\n",
      "\n",
      "         0.0       0.00      0.00      0.00        20\n",
      "         1.0       0.50      1.00      0.67        20\n",
      "\n",
      "    accuracy                           0.50        40\n",
      "   macro avg       0.25      0.50      0.33        40\n",
      "weighted avg       0.25      0.50      0.33        40\n",
      "\n",
      "-------------------------------------------------------------------------------------------------------------------\n"
     ]
    },
    {
     "name": "stderr",
     "output_type": "stream",
     "text": [
      "[Parallel(n_jobs=-1)]: Done   1 out of   1 | elapsed:  1.9min finished\n",
      "[Parallel(n_jobs=-1)]: Using backend LokyBackend with 12 concurrent workers.\n"
     ]
    },
    {
     "name": "stdout",
     "output_type": "stream",
     "text": [
      "K-Fold #1:\n",
      "              precision    recall  f1-score   support\n",
      "\n",
      "         0.0       0.43      0.65      0.52        20\n",
      "         1.0       0.30      0.15      0.20        20\n",
      "\n",
      "    accuracy                           0.40        40\n",
      "   macro avg       0.37      0.40      0.36        40\n",
      "weighted avg       0.37      0.40      0.36        40\n",
      "\n",
      "-------------------------------------------------------------------------------------------------------------------\n"
     ]
    },
    {
     "name": "stderr",
     "output_type": "stream",
     "text": [
      "[Parallel(n_jobs=-1)]: Done   1 out of   1 | elapsed:  1.8min finished\n",
      "[Parallel(n_jobs=-1)]: Using backend LokyBackend with 12 concurrent workers.\n"
     ]
    },
    {
     "name": "stdout",
     "output_type": "stream",
     "text": [
      "K-Fold #2:\n",
      "              precision    recall  f1-score   support\n",
      "\n",
      "         0.0       0.48      0.60      0.53        20\n",
      "         1.0       0.47      0.35      0.40        20\n",
      "\n",
      "    accuracy                           0.48        40\n",
      "   macro avg       0.47      0.47      0.47        40\n",
      "weighted avg       0.47      0.47      0.47        40\n",
      "\n",
      "-------------------------------------------------------------------------------------------------------------------\n"
     ]
    },
    {
     "name": "stderr",
     "output_type": "stream",
     "text": [
      "[Parallel(n_jobs=-1)]: Done   1 out of   1 | elapsed:  1.7min finished\n",
      "[Parallel(n_jobs=-1)]: Using backend LokyBackend with 12 concurrent workers.\n"
     ]
    },
    {
     "name": "stdout",
     "output_type": "stream",
     "text": [
      "K-Fold #3:\n",
      "              precision    recall  f1-score   support\n",
      "\n",
      "         0.0       0.55      0.60      0.57        20\n",
      "         1.0       0.56      0.50      0.53        20\n",
      "\n",
      "    accuracy                           0.55        40\n",
      "   macro avg       0.55      0.55      0.55        40\n",
      "weighted avg       0.55      0.55      0.55        40\n",
      "\n",
      "-------------------------------------------------------------------------------------------------------------------\n"
     ]
    },
    {
     "name": "stderr",
     "output_type": "stream",
     "text": [
      "[Parallel(n_jobs=-1)]: Done   1 out of   1 | elapsed:  1.7min finished\n",
      "[Parallel(n_jobs=-1)]: Using backend LokyBackend with 12 concurrent workers.\n"
     ]
    },
    {
     "name": "stdout",
     "output_type": "stream",
     "text": [
      "K-Fold #4:\n",
      "              precision    recall  f1-score   support\n",
      "\n",
      "         0.0       1.00      0.20      0.33        20\n",
      "         1.0       0.56      1.00      0.71        20\n",
      "\n",
      "    accuracy                           0.60        40\n",
      "   macro avg       0.78      0.60      0.52        40\n",
      "weighted avg       0.78      0.60      0.52        40\n",
      "\n",
      "-------------------------------------------------------------------------------------------------------------------\n"
     ]
    },
    {
     "name": "stderr",
     "output_type": "stream",
     "text": [
      "[Parallel(n_jobs=-1)]: Done   1 out of   1 | elapsed:  1.8min finished\n",
      "[Parallel(n_jobs=-1)]: Using backend LokyBackend with 12 concurrent workers.\n"
     ]
    },
    {
     "name": "stdout",
     "output_type": "stream",
     "text": [
      "K-Fold #5:\n",
      "              precision    recall  f1-score   support\n",
      "\n",
      "         0.0       0.54      0.70      0.61        20\n",
      "         1.0       0.57      0.40      0.47        20\n",
      "\n",
      "    accuracy                           0.55        40\n",
      "   macro avg       0.55      0.55      0.54        40\n",
      "weighted avg       0.55      0.55      0.54        40\n",
      "\n",
      "-------------------------------------------------------------------------------------------------------------------\n"
     ]
    },
    {
     "name": "stderr",
     "output_type": "stream",
     "text": [
      "[Parallel(n_jobs=-1)]: Done   1 out of   1 | elapsed:  1.8min finished\n",
      "[Parallel(n_jobs=-1)]: Using backend LokyBackend with 12 concurrent workers.\n"
     ]
    },
    {
     "name": "stdout",
     "output_type": "stream",
     "text": [
      "K-Fold #6:\n",
      "              precision    recall  f1-score   support\n",
      "\n",
      "         0.0       0.49      0.85      0.62        20\n",
      "         1.0       0.40      0.10      0.16        20\n",
      "\n",
      "    accuracy                           0.48        40\n",
      "   macro avg       0.44      0.47      0.39        40\n",
      "weighted avg       0.44      0.47      0.39        40\n",
      "\n",
      "-------------------------------------------------------------------------------------------------------------------\n"
     ]
    },
    {
     "name": "stderr",
     "output_type": "stream",
     "text": [
      "[Parallel(n_jobs=-1)]: Done   1 out of   1 | elapsed:  1.8min finished\n",
      "[Parallel(n_jobs=-1)]: Using backend LokyBackend with 12 concurrent workers.\n"
     ]
    },
    {
     "name": "stdout",
     "output_type": "stream",
     "text": [
      "K-Fold #7:\n",
      "              precision    recall  f1-score   support\n",
      "\n",
      "         0.0       1.00      0.05      0.10        20\n",
      "         1.0       0.51      1.00      0.68        20\n",
      "\n",
      "    accuracy                           0.53        40\n",
      "   macro avg       0.76      0.53      0.39        40\n",
      "weighted avg       0.76      0.53      0.39        40\n",
      "\n",
      "-------------------------------------------------------------------------------------------------------------------\n"
     ]
    },
    {
     "name": "stderr",
     "output_type": "stream",
     "text": [
      "[Parallel(n_jobs=-1)]: Done   1 out of   1 | elapsed:  1.7min finished\n",
      "[Parallel(n_jobs=-1)]: Using backend LokyBackend with 12 concurrent workers.\n"
     ]
    },
    {
     "name": "stdout",
     "output_type": "stream",
     "text": [
      "K-Fold #8:\n",
      "              precision    recall  f1-score   support\n",
      "\n",
      "         0.0       0.49      0.90      0.63        20\n",
      "         1.0       0.33      0.05      0.09        20\n",
      "\n",
      "    accuracy                           0.48        40\n",
      "   macro avg       0.41      0.48      0.36        40\n",
      "weighted avg       0.41      0.47      0.36        40\n",
      "\n",
      "-------------------------------------------------------------------------------------------------------------------\n"
     ]
    },
    {
     "name": "stderr",
     "output_type": "stream",
     "text": [
      "[Parallel(n_jobs=-1)]: Done   1 out of   1 | elapsed:  1.9min finished\n",
      "[Parallel(n_jobs=-1)]: Using backend LokyBackend with 12 concurrent workers.\n"
     ]
    },
    {
     "name": "stdout",
     "output_type": "stream",
     "text": [
      "K-Fold #9:\n",
      "              precision    recall  f1-score   support\n",
      "\n",
      "         0.0       0.33      0.05      0.09        20\n",
      "         1.0       0.49      0.90      0.63        20\n",
      "\n",
      "    accuracy                           0.48        40\n",
      "   macro avg       0.41      0.48      0.36        40\n",
      "weighted avg       0.41      0.47      0.36        40\n",
      "\n",
      "-------------------------------------------------------------------------------------------------------------------\n",
      "AVG: Scores = 0.5024999999999998 F1-Scores = 0.4266552124659633\n"
     ]
    },
    {
     "name": "stderr",
     "output_type": "stream",
     "text": [
      "[Parallel(n_jobs=-1)]: Done   1 out of   1 | elapsed:  1.7min finished\n",
      "[Parallel(n_jobs=-1)]: Using backend LokyBackend with 12 concurrent workers.\n"
     ]
    },
    {
     "name": "stdout",
     "output_type": "stream",
     "text": [
      "K-Fold #0:\n",
      "              precision    recall  f1-score   support\n",
      "\n",
      "         0.0       0.48      0.65      0.55        20\n",
      "         1.0       0.46      0.30      0.36        20\n",
      "\n",
      "    accuracy                           0.48        40\n",
      "   macro avg       0.47      0.47      0.46        40\n",
      "weighted avg       0.47      0.47      0.46        40\n",
      "\n",
      "-------------------------------------------------------------------------------------------------------------------\n"
     ]
    },
    {
     "name": "stderr",
     "output_type": "stream",
     "text": [
      "[Parallel(n_jobs=-1)]: Done   1 out of   1 | elapsed:  1.7min finished\n",
      "[Parallel(n_jobs=-1)]: Using backend LokyBackend with 12 concurrent workers.\n"
     ]
    },
    {
     "name": "stdout",
     "output_type": "stream",
     "text": [
      "K-Fold #1:\n",
      "              precision    recall  f1-score   support\n",
      "\n",
      "         0.0       0.45      0.75      0.57        20\n",
      "         1.0       0.29      0.10      0.15        20\n",
      "\n",
      "    accuracy                           0.42        40\n",
      "   macro avg       0.37      0.42      0.36        40\n",
      "weighted avg       0.37      0.42      0.36        40\n",
      "\n",
      "-------------------------------------------------------------------------------------------------------------------\n"
     ]
    },
    {
     "name": "stderr",
     "output_type": "stream",
     "text": [
      "[Parallel(n_jobs=-1)]: Done   1 out of   1 | elapsed:  1.9min finished\n",
      "[Parallel(n_jobs=-1)]: Using backend LokyBackend with 12 concurrent workers.\n"
     ]
    },
    {
     "name": "stdout",
     "output_type": "stream",
     "text": [
      "K-Fold #2:\n",
      "              precision    recall  f1-score   support\n",
      "\n",
      "         0.0       0.52      0.65      0.58        20\n",
      "         1.0       0.53      0.40      0.46        20\n",
      "\n",
      "    accuracy                           0.53        40\n",
      "   macro avg       0.53      0.53      0.52        40\n",
      "weighted avg       0.53      0.53      0.52        40\n",
      "\n",
      "-------------------------------------------------------------------------------------------------------------------\n"
     ]
    },
    {
     "name": "stderr",
     "output_type": "stream",
     "text": [
      "[Parallel(n_jobs=-1)]: Done   1 out of   1 | elapsed:  1.9min finished\n",
      "[Parallel(n_jobs=-1)]: Using backend LokyBackend with 12 concurrent workers.\n"
     ]
    },
    {
     "name": "stdout",
     "output_type": "stream",
     "text": [
      "K-Fold #3:\n",
      "              precision    recall  f1-score   support\n",
      "\n",
      "         0.0       0.52      0.70      0.60        20\n",
      "         1.0       0.54      0.35      0.42        20\n",
      "\n",
      "    accuracy                           0.53        40\n",
      "   macro avg       0.53      0.52      0.51        40\n",
      "weighted avg       0.53      0.53      0.51        40\n",
      "\n",
      "-------------------------------------------------------------------------------------------------------------------\n"
     ]
    },
    {
     "name": "stderr",
     "output_type": "stream",
     "text": [
      "[Parallel(n_jobs=-1)]: Done   1 out of   1 | elapsed:  1.7min finished\n",
      "[Parallel(n_jobs=-1)]: Using backend LokyBackend with 12 concurrent workers.\n"
     ]
    },
    {
     "name": "stdout",
     "output_type": "stream",
     "text": [
      "K-Fold #4:\n",
      "              precision    recall  f1-score   support\n",
      "\n",
      "         0.0       0.47      0.90      0.62        20\n",
      "         1.0       0.00      0.00      0.00        20\n",
      "\n",
      "    accuracy                           0.45        40\n",
      "   macro avg       0.24      0.45      0.31        40\n",
      "weighted avg       0.24      0.45      0.31        40\n",
      "\n",
      "-------------------------------------------------------------------------------------------------------------------\n"
     ]
    },
    {
     "name": "stderr",
     "output_type": "stream",
     "text": [
      "[Parallel(n_jobs=-1)]: Done   1 out of   1 | elapsed:  1.9min finished\n",
      "[Parallel(n_jobs=-1)]: Using backend LokyBackend with 12 concurrent workers.\n"
     ]
    },
    {
     "name": "stdout",
     "output_type": "stream",
     "text": [
      "K-Fold #5:\n",
      "              precision    recall  f1-score   support\n",
      "\n",
      "         0.0       0.39      0.45      0.42        20\n",
      "         1.0       0.35      0.30      0.32        20\n",
      "\n",
      "    accuracy                           0.38        40\n",
      "   macro avg       0.37      0.38      0.37        40\n",
      "weighted avg       0.37      0.38      0.37        40\n",
      "\n",
      "-------------------------------------------------------------------------------------------------------------------\n"
     ]
    },
    {
     "name": "stderr",
     "output_type": "stream",
     "text": [
      "[Parallel(n_jobs=-1)]: Done   1 out of   1 | elapsed:  1.7min finished\n",
      "[Parallel(n_jobs=-1)]: Using backend LokyBackend with 12 concurrent workers.\n"
     ]
    },
    {
     "name": "stdout",
     "output_type": "stream",
     "text": [
      "K-Fold #6:\n",
      "              precision    recall  f1-score   support\n",
      "\n",
      "         0.0       0.50      0.70      0.58        20\n",
      "         1.0       0.50      0.30      0.37        20\n",
      "\n",
      "    accuracy                           0.50        40\n",
      "   macro avg       0.50      0.50      0.48        40\n",
      "weighted avg       0.50      0.50      0.48        40\n",
      "\n",
      "-------------------------------------------------------------------------------------------------------------------\n"
     ]
    },
    {
     "name": "stderr",
     "output_type": "stream",
     "text": [
      "[Parallel(n_jobs=-1)]: Done   1 out of   1 | elapsed:  1.9min finished\n",
      "[Parallel(n_jobs=-1)]: Using backend LokyBackend with 12 concurrent workers.\n"
     ]
    },
    {
     "name": "stdout",
     "output_type": "stream",
     "text": [
      "K-Fold #7:\n",
      "              precision    recall  f1-score   support\n",
      "\n",
      "         0.0       0.20      0.05      0.08        20\n",
      "         1.0       0.46      0.80      0.58        20\n",
      "\n",
      "    accuracy                           0.42        40\n",
      "   macro avg       0.33      0.43      0.33        40\n",
      "weighted avg       0.33      0.42      0.33        40\n",
      "\n",
      "-------------------------------------------------------------------------------------------------------------------\n"
     ]
    },
    {
     "name": "stderr",
     "output_type": "stream",
     "text": [
      "[Parallel(n_jobs=-1)]: Done   1 out of   1 | elapsed:  1.7min finished\n",
      "[Parallel(n_jobs=-1)]: Using backend LokyBackend with 12 concurrent workers.\n"
     ]
    },
    {
     "name": "stdout",
     "output_type": "stream",
     "text": [
      "K-Fold #8:\n",
      "              precision    recall  f1-score   support\n",
      "\n",
      "         0.0       0.56      0.75      0.64        20\n",
      "         1.0       0.62      0.40      0.48        20\n",
      "\n",
      "    accuracy                           0.57        40\n",
      "   macro avg       0.59      0.57      0.56        40\n",
      "weighted avg       0.59      0.57      0.56        40\n",
      "\n",
      "-------------------------------------------------------------------------------------------------------------------\n"
     ]
    },
    {
     "name": "stderr",
     "output_type": "stream",
     "text": [
      "[Parallel(n_jobs=-1)]: Done   1 out of   1 | elapsed:  1.7min finished\n",
      "[Parallel(n_jobs=-1)]: Using backend LokyBackend with 12 concurrent workers.\n"
     ]
    },
    {
     "name": "stdout",
     "output_type": "stream",
     "text": [
      "K-Fold #9:\n",
      "              precision    recall  f1-score   support\n",
      "\n",
      "         0.0       0.49      0.95      0.64        20\n",
      "         1.0       0.00      0.00      0.00        20\n",
      "\n",
      "    accuracy                           0.48        40\n",
      "   macro avg       0.24      0.47      0.32        40\n",
      "weighted avg       0.24      0.47      0.32        40\n",
      "\n",
      "-------------------------------------------------------------------------------------------------------------------\n",
      "AVG: Scores = 0.475 F1-Scores = 0.42184528883097583\n"
     ]
    },
    {
     "name": "stderr",
     "output_type": "stream",
     "text": [
      "[Parallel(n_jobs=-1)]: Done   1 out of   1 | elapsed:  1.7min finished\n",
      "[Parallel(n_jobs=-1)]: Using backend LokyBackend with 12 concurrent workers.\n"
     ]
    },
    {
     "name": "stdout",
     "output_type": "stream",
     "text": [
      "K-Fold #0:\n",
      "              precision    recall  f1-score   support\n",
      "\n",
      "         0.0       0.52      0.65      0.58        20\n",
      "         1.0       0.53      0.40      0.46        20\n",
      "\n",
      "    accuracy                           0.53        40\n",
      "   macro avg       0.53      0.53      0.52        40\n",
      "weighted avg       0.53      0.53      0.52        40\n",
      "\n",
      "-------------------------------------------------------------------------------------------------------------------\n"
     ]
    },
    {
     "name": "stderr",
     "output_type": "stream",
     "text": [
      "[Parallel(n_jobs=-1)]: Done   1 out of   1 | elapsed:  1.8min finished\n",
      "[Parallel(n_jobs=-1)]: Using backend LokyBackend with 12 concurrent workers.\n"
     ]
    },
    {
     "name": "stdout",
     "output_type": "stream",
     "text": [
      "K-Fold #1:\n",
      "              precision    recall  f1-score   support\n",
      "\n",
      "         0.0       0.52      0.75      0.61        20\n",
      "         1.0       0.55      0.30      0.39        20\n",
      "\n",
      "    accuracy                           0.53        40\n",
      "   macro avg       0.53      0.53      0.50        40\n",
      "weighted avg       0.53      0.53      0.50        40\n",
      "\n",
      "-------------------------------------------------------------------------------------------------------------------\n"
     ]
    },
    {
     "name": "stderr",
     "output_type": "stream",
     "text": [
      "[Parallel(n_jobs=-1)]: Done   1 out of   1 | elapsed:  1.9min finished\n",
      "c:\\ProgramData\\Anaconda3\\lib\\site-packages\\sklearn\\metrics\\_classification.py:1344: UndefinedMetricWarning: Precision and F-score are ill-defined and being set to 0.0 in labels with no predicted samples. Use `zero_division` parameter to control this behavior.\n",
      "  _warn_prf(average, modifier, msg_start, len(result))\n",
      "c:\\ProgramData\\Anaconda3\\lib\\site-packages\\sklearn\\metrics\\_classification.py:1344: UndefinedMetricWarning: Precision and F-score are ill-defined and being set to 0.0 in labels with no predicted samples. Use `zero_division` parameter to control this behavior.\n",
      "  _warn_prf(average, modifier, msg_start, len(result))\n",
      "c:\\ProgramData\\Anaconda3\\lib\\site-packages\\sklearn\\metrics\\_classification.py:1344: UndefinedMetricWarning: Precision and F-score are ill-defined and being set to 0.0 in labels with no predicted samples. Use `zero_division` parameter to control this behavior.\n",
      "  _warn_prf(average, modifier, msg_start, len(result))\n",
      "[Parallel(n_jobs=-1)]: Using backend LokyBackend with 12 concurrent workers.\n"
     ]
    },
    {
     "name": "stdout",
     "output_type": "stream",
     "text": [
      "K-Fold #2:\n",
      "              precision    recall  f1-score   support\n",
      "\n",
      "         0.0       0.00      0.00      0.00        20\n",
      "         1.0       0.50      1.00      0.67        20\n",
      "\n",
      "    accuracy                           0.50        40\n",
      "   macro avg       0.25      0.50      0.33        40\n",
      "weighted avg       0.25      0.50      0.33        40\n",
      "\n",
      "-------------------------------------------------------------------------------------------------------------------\n"
     ]
    },
    {
     "name": "stderr",
     "output_type": "stream",
     "text": [
      "[Parallel(n_jobs=-1)]: Done   1 out of   1 | elapsed:  1.7min finished\n",
      "[Parallel(n_jobs=-1)]: Using backend LokyBackend with 12 concurrent workers.\n"
     ]
    },
    {
     "name": "stdout",
     "output_type": "stream",
     "text": [
      "K-Fold #3:\n",
      "              precision    recall  f1-score   support\n",
      "\n",
      "         0.0       0.40      0.10      0.16        20\n",
      "         1.0       0.49      0.85      0.62        20\n",
      "\n",
      "    accuracy                           0.48        40\n",
      "   macro avg       0.44      0.47      0.39        40\n",
      "weighted avg       0.44      0.47      0.39        40\n",
      "\n",
      "-------------------------------------------------------------------------------------------------------------------\n"
     ]
    },
    {
     "name": "stderr",
     "output_type": "stream",
     "text": [
      "[Parallel(n_jobs=-1)]: Done   1 out of   1 | elapsed:  1.7min finished\n",
      "[Parallel(n_jobs=-1)]: Using backend LokyBackend with 12 concurrent workers.\n"
     ]
    },
    {
     "name": "stdout",
     "output_type": "stream",
     "text": [
      "K-Fold #4:\n",
      "              precision    recall  f1-score   support\n",
      "\n",
      "         0.0       0.47      0.85      0.61        20\n",
      "         1.0       0.25      0.05      0.08        20\n",
      "\n",
      "    accuracy                           0.45        40\n",
      "   macro avg       0.36      0.45      0.35        40\n",
      "weighted avg       0.36      0.45      0.35        40\n",
      "\n",
      "-------------------------------------------------------------------------------------------------------------------\n"
     ]
    },
    {
     "name": "stderr",
     "output_type": "stream",
     "text": [
      "[Parallel(n_jobs=-1)]: Done   1 out of   1 | elapsed:  1.7min finished\n",
      "[Parallel(n_jobs=-1)]: Using backend LokyBackend with 12 concurrent workers.\n"
     ]
    },
    {
     "name": "stdout",
     "output_type": "stream",
     "text": [
      "K-Fold #5:\n",
      "              precision    recall  f1-score   support\n",
      "\n",
      "         0.0       0.60      0.90      0.72        20\n",
      "         1.0       0.80      0.40      0.53        20\n",
      "\n",
      "    accuracy                           0.65        40\n",
      "   macro avg       0.70      0.65      0.63        40\n",
      "weighted avg       0.70      0.65      0.63        40\n",
      "\n",
      "-------------------------------------------------------------------------------------------------------------------\n"
     ]
    },
    {
     "name": "stderr",
     "output_type": "stream",
     "text": [
      "[Parallel(n_jobs=-1)]: Done   1 out of   1 | elapsed:  1.9min finished\n",
      "[Parallel(n_jobs=-1)]: Using backend LokyBackend with 12 concurrent workers.\n"
     ]
    },
    {
     "name": "stdout",
     "output_type": "stream",
     "text": [
      "K-Fold #6:\n",
      "              precision    recall  f1-score   support\n",
      "\n",
      "         0.0       0.33      0.35      0.34        20\n",
      "         1.0       0.32      0.30      0.31        20\n",
      "\n",
      "    accuracy                           0.33        40\n",
      "   macro avg       0.32      0.32      0.32        40\n",
      "weighted avg       0.32      0.33      0.32        40\n",
      "\n",
      "-------------------------------------------------------------------------------------------------------------------\n"
     ]
    },
    {
     "name": "stderr",
     "output_type": "stream",
     "text": [
      "[Parallel(n_jobs=-1)]: Done   1 out of   1 | elapsed:  1.9min finished\n",
      "[Parallel(n_jobs=-1)]: Using backend LokyBackend with 12 concurrent workers.\n"
     ]
    },
    {
     "name": "stdout",
     "output_type": "stream",
     "text": [
      "K-Fold #7:\n",
      "              precision    recall  f1-score   support\n",
      "\n",
      "         0.0       0.50      0.70      0.58        20\n",
      "         1.0       0.50      0.30      0.37        20\n",
      "\n",
      "    accuracy                           0.50        40\n",
      "   macro avg       0.50      0.50      0.48        40\n",
      "weighted avg       0.50      0.50      0.48        40\n",
      "\n",
      "-------------------------------------------------------------------------------------------------------------------\n"
     ]
    },
    {
     "name": "stderr",
     "output_type": "stream",
     "text": [
      "[Parallel(n_jobs=-1)]: Done   1 out of   1 | elapsed:  1.7min finished\n",
      "[Parallel(n_jobs=-1)]: Using backend LokyBackend with 12 concurrent workers.\n"
     ]
    },
    {
     "name": "stdout",
     "output_type": "stream",
     "text": [
      "K-Fold #8:\n",
      "              precision    recall  f1-score   support\n",
      "\n",
      "         0.0       1.00      0.05      0.10        20\n",
      "         1.0       0.51      1.00      0.68        20\n",
      "\n",
      "    accuracy                           0.53        40\n",
      "   macro avg       0.76      0.53      0.39        40\n",
      "weighted avg       0.76      0.53      0.39        40\n",
      "\n",
      "-------------------------------------------------------------------------------------------------------------------\n"
     ]
    },
    {
     "name": "stderr",
     "output_type": "stream",
     "text": [
      "[Parallel(n_jobs=-1)]: Done   1 out of   1 | elapsed:  1.9min finished\n",
      "[Parallel(n_jobs=-1)]: Using backend LokyBackend with 12 concurrent workers.\n"
     ]
    },
    {
     "name": "stdout",
     "output_type": "stream",
     "text": [
      "K-Fold #9:\n",
      "              precision    recall  f1-score   support\n",
      "\n",
      "         0.0       0.48      0.70      0.57        20\n",
      "         1.0       0.45      0.25      0.32        20\n",
      "\n",
      "    accuracy                           0.48        40\n",
      "   macro avg       0.47      0.47      0.45        40\n",
      "weighted avg       0.47      0.47      0.45        40\n",
      "\n",
      "-------------------------------------------------------------------------------------------------------------------\n",
      "AVG: Scores = 0.495 F1-Scores = 0.43488113924570176\n"
     ]
    },
    {
     "name": "stderr",
     "output_type": "stream",
     "text": [
      "[Parallel(n_jobs=-1)]: Done   1 out of   1 | elapsed:  1.9min finished\n",
      "[Parallel(n_jobs=-1)]: Using backend LokyBackend with 12 concurrent workers.\n"
     ]
    },
    {
     "name": "stdout",
     "output_type": "stream",
     "text": [
      "K-Fold #0:\n",
      "              precision    recall  f1-score   support\n",
      "\n",
      "         0.0       0.44      0.55      0.49        20\n",
      "         1.0       0.40      0.30      0.34        20\n",
      "\n",
      "    accuracy                           0.42        40\n",
      "   macro avg       0.42      0.43      0.42        40\n",
      "weighted avg       0.42      0.42      0.42        40\n",
      "\n",
      "-------------------------------------------------------------------------------------------------------------------\n"
     ]
    },
    {
     "name": "stderr",
     "output_type": "stream",
     "text": [
      "[Parallel(n_jobs=-1)]: Done   1 out of   1 | elapsed:  1.9min finished\n",
      "[Parallel(n_jobs=-1)]: Using backend LokyBackend with 12 concurrent workers.\n"
     ]
    },
    {
     "name": "stdout",
     "output_type": "stream",
     "text": [
      "K-Fold #1:\n",
      "              precision    recall  f1-score   support\n",
      "\n",
      "         0.0       0.54      0.65      0.59        20\n",
      "         1.0       0.56      0.45      0.50        20\n",
      "\n",
      "    accuracy                           0.55        40\n",
      "   macro avg       0.55      0.55      0.55        40\n",
      "weighted avg       0.55      0.55      0.55        40\n",
      "\n",
      "-------------------------------------------------------------------------------------------------------------------\n"
     ]
    },
    {
     "name": "stderr",
     "output_type": "stream",
     "text": [
      "[Parallel(n_jobs=-1)]: Done   1 out of   1 | elapsed:  1.7min finished\n",
      "[Parallel(n_jobs=-1)]: Using backend LokyBackend with 12 concurrent workers.\n"
     ]
    },
    {
     "name": "stdout",
     "output_type": "stream",
     "text": [
      "K-Fold #2:\n",
      "              precision    recall  f1-score   support\n",
      "\n",
      "         0.0       0.47      0.70      0.56        20\n",
      "         1.0       0.40      0.20      0.27        20\n",
      "\n",
      "    accuracy                           0.45        40\n",
      "   macro avg       0.43      0.45      0.41        40\n",
      "weighted avg       0.43      0.45      0.41        40\n",
      "\n",
      "-------------------------------------------------------------------------------------------------------------------\n"
     ]
    },
    {
     "name": "stderr",
     "output_type": "stream",
     "text": [
      "[Parallel(n_jobs=-1)]: Done   1 out of   1 | elapsed:  2.0min finished\n",
      "[Parallel(n_jobs=-1)]: Using backend LokyBackend with 12 concurrent workers.\n"
     ]
    },
    {
     "name": "stdout",
     "output_type": "stream",
     "text": [
      "K-Fold #3:\n",
      "              precision    recall  f1-score   support\n",
      "\n",
      "         0.0       0.33      0.05      0.09        20\n",
      "         1.0       0.49      0.90      0.63        20\n",
      "\n",
      "    accuracy                           0.48        40\n",
      "   macro avg       0.41      0.48      0.36        40\n",
      "weighted avg       0.41      0.47      0.36        40\n",
      "\n",
      "-------------------------------------------------------------------------------------------------------------------\n"
     ]
    },
    {
     "name": "stderr",
     "output_type": "stream",
     "text": [
      "[Parallel(n_jobs=-1)]: Done   1 out of   1 | elapsed:  1.7min finished\n",
      "[Parallel(n_jobs=-1)]: Using backend LokyBackend with 12 concurrent workers.\n"
     ]
    },
    {
     "name": "stdout",
     "output_type": "stream",
     "text": [
      "K-Fold #4:\n",
      "              precision    recall  f1-score   support\n",
      "\n",
      "         0.0       0.50      0.70      0.58        20\n",
      "         1.0       0.50      0.30      0.37        20\n",
      "\n",
      "    accuracy                           0.50        40\n",
      "   macro avg       0.50      0.50      0.48        40\n",
      "weighted avg       0.50      0.50      0.48        40\n",
      "\n",
      "-------------------------------------------------------------------------------------------------------------------\n"
     ]
    },
    {
     "name": "stderr",
     "output_type": "stream",
     "text": [
      "[Parallel(n_jobs=-1)]: Done   1 out of   1 | elapsed:  1.8min finished\n",
      "c:\\ProgramData\\Anaconda3\\lib\\site-packages\\sklearn\\metrics\\_classification.py:1344: UndefinedMetricWarning: Precision and F-score are ill-defined and being set to 0.0 in labels with no predicted samples. Use `zero_division` parameter to control this behavior.\n",
      "  _warn_prf(average, modifier, msg_start, len(result))\n",
      "c:\\ProgramData\\Anaconda3\\lib\\site-packages\\sklearn\\metrics\\_classification.py:1344: UndefinedMetricWarning: Precision and F-score are ill-defined and being set to 0.0 in labels with no predicted samples. Use `zero_division` parameter to control this behavior.\n",
      "  _warn_prf(average, modifier, msg_start, len(result))\n",
      "c:\\ProgramData\\Anaconda3\\lib\\site-packages\\sklearn\\metrics\\_classification.py:1344: UndefinedMetricWarning: Precision and F-score are ill-defined and being set to 0.0 in labels with no predicted samples. Use `zero_division` parameter to control this behavior.\n",
      "  _warn_prf(average, modifier, msg_start, len(result))\n",
      "[Parallel(n_jobs=-1)]: Using backend LokyBackend with 12 concurrent workers.\n"
     ]
    },
    {
     "name": "stdout",
     "output_type": "stream",
     "text": [
      "K-Fold #5:\n",
      "              precision    recall  f1-score   support\n",
      "\n",
      "         0.0       0.00      0.00      0.00        20\n",
      "         1.0       0.50      1.00      0.67        20\n",
      "\n",
      "    accuracy                           0.50        40\n",
      "   macro avg       0.25      0.50      0.33        40\n",
      "weighted avg       0.25      0.50      0.33        40\n",
      "\n",
      "-------------------------------------------------------------------------------------------------------------------\n"
     ]
    },
    {
     "name": "stderr",
     "output_type": "stream",
     "text": [
      "[Parallel(n_jobs=-1)]: Done   1 out of   1 | elapsed:  1.8min finished\n",
      "[Parallel(n_jobs=-1)]: Using backend LokyBackend with 12 concurrent workers.\n"
     ]
    },
    {
     "name": "stdout",
     "output_type": "stream",
     "text": [
      "K-Fold #6:\n",
      "              precision    recall  f1-score   support\n",
      "\n",
      "         0.0       0.50      0.20      0.29        20\n",
      "         1.0       0.50      0.80      0.62        20\n",
      "\n",
      "    accuracy                           0.50        40\n",
      "   macro avg       0.50      0.50      0.45        40\n",
      "weighted avg       0.50      0.50      0.45        40\n",
      "\n",
      "-------------------------------------------------------------------------------------------------------------------\n"
     ]
    },
    {
     "name": "stderr",
     "output_type": "stream",
     "text": [
      "[Parallel(n_jobs=-1)]: Done   1 out of   1 | elapsed:  1.7min finished\n",
      "c:\\ProgramData\\Anaconda3\\lib\\site-packages\\sklearn\\metrics\\_classification.py:1344: UndefinedMetricWarning: Precision and F-score are ill-defined and being set to 0.0 in labels with no predicted samples. Use `zero_division` parameter to control this behavior.\n",
      "  _warn_prf(average, modifier, msg_start, len(result))\n",
      "c:\\ProgramData\\Anaconda3\\lib\\site-packages\\sklearn\\metrics\\_classification.py:1344: UndefinedMetricWarning: Precision and F-score are ill-defined and being set to 0.0 in labels with no predicted samples. Use `zero_division` parameter to control this behavior.\n",
      "  _warn_prf(average, modifier, msg_start, len(result))\n",
      "c:\\ProgramData\\Anaconda3\\lib\\site-packages\\sklearn\\metrics\\_classification.py:1344: UndefinedMetricWarning: Precision and F-score are ill-defined and being set to 0.0 in labels with no predicted samples. Use `zero_division` parameter to control this behavior.\n",
      "  _warn_prf(average, modifier, msg_start, len(result))\n",
      "[Parallel(n_jobs=-1)]: Using backend LokyBackend with 12 concurrent workers.\n"
     ]
    },
    {
     "name": "stdout",
     "output_type": "stream",
     "text": [
      "K-Fold #7:\n",
      "              precision    recall  f1-score   support\n",
      "\n",
      "         0.0       0.00      0.00      0.00        20\n",
      "         1.0       0.50      1.00      0.67        20\n",
      "\n",
      "    accuracy                           0.50        40\n",
      "   macro avg       0.25      0.50      0.33        40\n",
      "weighted avg       0.25      0.50      0.33        40\n",
      "\n",
      "-------------------------------------------------------------------------------------------------------------------\n"
     ]
    },
    {
     "name": "stderr",
     "output_type": "stream",
     "text": [
      "[Parallel(n_jobs=-1)]: Done   1 out of   1 | elapsed:  1.7min finished\n",
      "[Parallel(n_jobs=-1)]: Using backend LokyBackend with 12 concurrent workers.\n"
     ]
    },
    {
     "name": "stdout",
     "output_type": "stream",
     "text": [
      "K-Fold #8:\n",
      "              precision    recall  f1-score   support\n",
      "\n",
      "         0.0       0.49      0.85      0.62        20\n",
      "         1.0       0.40      0.10      0.16        20\n",
      "\n",
      "    accuracy                           0.48        40\n",
      "   macro avg       0.44      0.47      0.39        40\n",
      "weighted avg       0.44      0.47      0.39        40\n",
      "\n",
      "-------------------------------------------------------------------------------------------------------------------\n"
     ]
    },
    {
     "name": "stderr",
     "output_type": "stream",
     "text": [
      "[Parallel(n_jobs=-1)]: Done   1 out of   1 | elapsed:  1.7min finished\n",
      "[Parallel(n_jobs=-1)]: Using backend LokyBackend with 12 concurrent workers.\n"
     ]
    },
    {
     "name": "stdout",
     "output_type": "stream",
     "text": [
      "K-Fold #9:\n",
      "              precision    recall  f1-score   support\n",
      "\n",
      "         0.0       0.47      0.90      0.62        20\n",
      "         1.0       0.00      0.00      0.00        20\n",
      "\n",
      "    accuracy                           0.45        40\n",
      "   macro avg       0.24      0.45      0.31        40\n",
      "weighted avg       0.24      0.45      0.31        40\n",
      "\n",
      "-------------------------------------------------------------------------------------------------------------------\n",
      "AVG: Scores = 0.48250000000000004 F1-Scores = 0.40297471497745707\n"
     ]
    },
    {
     "name": "stderr",
     "output_type": "stream",
     "text": [
      "[Parallel(n_jobs=-1)]: Done   1 out of   1 | elapsed:  1.7min finished\n",
      "[Parallel(n_jobs=-1)]: Using backend LokyBackend with 12 concurrent workers.\n"
     ]
    },
    {
     "name": "stdout",
     "output_type": "stream",
     "text": [
      "K-Fold #0:\n",
      "              precision    recall  f1-score   support\n",
      "\n",
      "         0.0       0.50      0.05      0.09        20\n",
      "         1.0       0.50      0.95      0.66        20\n",
      "\n",
      "    accuracy                           0.50        40\n",
      "   macro avg       0.50      0.50      0.37        40\n",
      "weighted avg       0.50      0.50      0.37        40\n",
      "\n",
      "-------------------------------------------------------------------------------------------------------------------\n"
     ]
    },
    {
     "name": "stderr",
     "output_type": "stream",
     "text": [
      "[Parallel(n_jobs=-1)]: Done   1 out of   1 | elapsed:  1.9min finished\n",
      "c:\\ProgramData\\Anaconda3\\lib\\site-packages\\sklearn\\metrics\\_classification.py:1344: UndefinedMetricWarning: Precision and F-score are ill-defined and being set to 0.0 in labels with no predicted samples. Use `zero_division` parameter to control this behavior.\n",
      "  _warn_prf(average, modifier, msg_start, len(result))\n",
      "c:\\ProgramData\\Anaconda3\\lib\\site-packages\\sklearn\\metrics\\_classification.py:1344: UndefinedMetricWarning: Precision and F-score are ill-defined and being set to 0.0 in labels with no predicted samples. Use `zero_division` parameter to control this behavior.\n",
      "  _warn_prf(average, modifier, msg_start, len(result))\n",
      "c:\\ProgramData\\Anaconda3\\lib\\site-packages\\sklearn\\metrics\\_classification.py:1344: UndefinedMetricWarning: Precision and F-score are ill-defined and being set to 0.0 in labels with no predicted samples. Use `zero_division` parameter to control this behavior.\n",
      "  _warn_prf(average, modifier, msg_start, len(result))\n",
      "[Parallel(n_jobs=-1)]: Using backend LokyBackend with 12 concurrent workers.\n"
     ]
    },
    {
     "name": "stdout",
     "output_type": "stream",
     "text": [
      "K-Fold #1:\n",
      "              precision    recall  f1-score   support\n",
      "\n",
      "         0.0       0.00      0.00      0.00        20\n",
      "         1.0       0.50      1.00      0.67        20\n",
      "\n",
      "    accuracy                           0.50        40\n",
      "   macro avg       0.25      0.50      0.33        40\n",
      "weighted avg       0.25      0.50      0.33        40\n",
      "\n",
      "-------------------------------------------------------------------------------------------------------------------\n"
     ]
    },
    {
     "name": "stderr",
     "output_type": "stream",
     "text": [
      "[Parallel(n_jobs=-1)]: Done   1 out of   1 | elapsed:  1.9min finished\n",
      "[Parallel(n_jobs=-1)]: Using backend LokyBackend with 12 concurrent workers.\n"
     ]
    },
    {
     "name": "stdout",
     "output_type": "stream",
     "text": [
      "K-Fold #2:\n",
      "              precision    recall  f1-score   support\n",
      "\n",
      "         0.0       0.83      0.25      0.38        20\n",
      "         1.0       0.56      0.95      0.70        20\n",
      "\n",
      "    accuracy                           0.60        40\n",
      "   macro avg       0.70      0.60      0.54        40\n",
      "weighted avg       0.70      0.60      0.54        40\n",
      "\n",
      "-------------------------------------------------------------------------------------------------------------------\n"
     ]
    },
    {
     "name": "stderr",
     "output_type": "stream",
     "text": [
      "[Parallel(n_jobs=-1)]: Done   1 out of   1 | elapsed:  1.9min finished\n",
      "[Parallel(n_jobs=-1)]: Using backend LokyBackend with 12 concurrent workers.\n"
     ]
    },
    {
     "name": "stdout",
     "output_type": "stream",
     "text": [
      "K-Fold #3:\n",
      "              precision    recall  f1-score   support\n",
      "\n",
      "         0.0       0.41      0.60      0.49        20\n",
      "         1.0       0.27      0.15      0.19        20\n",
      "\n",
      "    accuracy                           0.38        40\n",
      "   macro avg       0.34      0.38      0.34        40\n",
      "weighted avg       0.34      0.38      0.34        40\n",
      "\n",
      "-------------------------------------------------------------------------------------------------------------------\n"
     ]
    },
    {
     "name": "stderr",
     "output_type": "stream",
     "text": [
      "[Parallel(n_jobs=-1)]: Done   1 out of   1 | elapsed:  1.7min finished\n",
      "[Parallel(n_jobs=-1)]: Using backend LokyBackend with 12 concurrent workers.\n"
     ]
    },
    {
     "name": "stdout",
     "output_type": "stream",
     "text": [
      "K-Fold #4:\n",
      "              precision    recall  f1-score   support\n",
      "\n",
      "         0.0       0.25      0.25      0.25        20\n",
      "         1.0       0.25      0.25      0.25        20\n",
      "\n",
      "    accuracy                           0.25        40\n",
      "   macro avg       0.25      0.25      0.25        40\n",
      "weighted avg       0.25      0.25      0.25        40\n",
      "\n",
      "-------------------------------------------------------------------------------------------------------------------\n"
     ]
    },
    {
     "name": "stderr",
     "output_type": "stream",
     "text": [
      "[Parallel(n_jobs=-1)]: Done   1 out of   1 | elapsed:  1.8min finished\n",
      "[Parallel(n_jobs=-1)]: Using backend LokyBackend with 12 concurrent workers.\n"
     ]
    },
    {
     "name": "stdout",
     "output_type": "stream",
     "text": [
      "K-Fold #5:\n",
      "              precision    recall  f1-score   support\n",
      "\n",
      "         0.0       1.00      0.05      0.10        20\n",
      "         1.0       0.51      1.00      0.68        20\n",
      "\n",
      "    accuracy                           0.53        40\n",
      "   macro avg       0.76      0.53      0.39        40\n",
      "weighted avg       0.76      0.53      0.39        40\n",
      "\n",
      "-------------------------------------------------------------------------------------------------------------------\n"
     ]
    },
    {
     "name": "stderr",
     "output_type": "stream",
     "text": [
      "[Parallel(n_jobs=-1)]: Done   1 out of   1 | elapsed:  1.7min finished\n",
      "[Parallel(n_jobs=-1)]: Using backend LokyBackend with 12 concurrent workers.\n"
     ]
    },
    {
     "name": "stdout",
     "output_type": "stream",
     "text": [
      "K-Fold #6:\n",
      "              precision    recall  f1-score   support\n",
      "\n",
      "         0.0       0.46      0.80      0.58        20\n",
      "         1.0       0.20      0.05      0.08        20\n",
      "\n",
      "    accuracy                           0.42        40\n",
      "   macro avg       0.33      0.43      0.33        40\n",
      "weighted avg       0.33      0.42      0.33        40\n",
      "\n",
      "-------------------------------------------------------------------------------------------------------------------\n"
     ]
    },
    {
     "name": "stderr",
     "output_type": "stream",
     "text": [
      "[Parallel(n_jobs=-1)]: Done   1 out of   1 | elapsed:  1.9min finished\n",
      "[Parallel(n_jobs=-1)]: Using backend LokyBackend with 12 concurrent workers.\n"
     ]
    },
    {
     "name": "stdout",
     "output_type": "stream",
     "text": [
      "K-Fold #7:\n",
      "              precision    recall  f1-score   support\n",
      "\n",
      "         0.0       0.46      0.65      0.54        20\n",
      "         1.0       0.42      0.25      0.31        20\n",
      "\n",
      "    accuracy                           0.45        40\n",
      "   macro avg       0.44      0.45      0.43        40\n",
      "weighted avg       0.44      0.45      0.43        40\n",
      "\n",
      "-------------------------------------------------------------------------------------------------------------------\n"
     ]
    },
    {
     "name": "stderr",
     "output_type": "stream",
     "text": [
      "[Parallel(n_jobs=-1)]: Done   1 out of   1 | elapsed:  1.8min finished\n",
      "[Parallel(n_jobs=-1)]: Using backend LokyBackend with 12 concurrent workers.\n"
     ]
    },
    {
     "name": "stdout",
     "output_type": "stream",
     "text": [
      "K-Fold #8:\n",
      "              precision    recall  f1-score   support\n",
      "\n",
      "         0.0       0.00      0.00      0.00        20\n",
      "         1.0       0.49      0.95      0.64        20\n",
      "\n",
      "    accuracy                           0.48        40\n",
      "   macro avg       0.24      0.47      0.32        40\n",
      "weighted avg       0.24      0.47      0.32        40\n",
      "\n",
      "-------------------------------------------------------------------------------------------------------------------\n"
     ]
    },
    {
     "name": "stderr",
     "output_type": "stream",
     "text": [
      "[Parallel(n_jobs=-1)]: Done   1 out of   1 | elapsed:  1.7min finished\n",
      "[Parallel(n_jobs=-1)]: Using backend LokyBackend with 12 concurrent workers.\n"
     ]
    },
    {
     "name": "stdout",
     "output_type": "stream",
     "text": [
      "K-Fold #9:\n",
      "              precision    recall  f1-score   support\n",
      "\n",
      "         0.0       0.47      0.90      0.62        20\n",
      "         1.0       0.00      0.00      0.00        20\n",
      "\n",
      "    accuracy                           0.45        40\n",
      "   macro avg       0.24      0.45      0.31        40\n",
      "weighted avg       0.24      0.45      0.31        40\n",
      "\n",
      "-------------------------------------------------------------------------------------------------------------------\n",
      "AVG: Scores = 0.45499999999999996 F1-Scores = 0.36191790311762567\n"
     ]
    },
    {
     "name": "stderr",
     "output_type": "stream",
     "text": [
      "[Parallel(n_jobs=-1)]: Done   1 out of   1 | elapsed:  1.9min finished\n",
      "[Parallel(n_jobs=-1)]: Using backend LokyBackend with 12 concurrent workers.\n"
     ]
    },
    {
     "name": "stdout",
     "output_type": "stream",
     "text": [
      "K-Fold #0:\n",
      "              precision    recall  f1-score   support\n",
      "\n",
      "         0.0       0.52      0.65      0.58        20\n",
      "         1.0       0.53      0.40      0.46        20\n",
      "\n",
      "    accuracy                           0.53        40\n",
      "   macro avg       0.53      0.53      0.52        40\n",
      "weighted avg       0.53      0.53      0.52        40\n",
      "\n",
      "-------------------------------------------------------------------------------------------------------------------\n"
     ]
    },
    {
     "name": "stderr",
     "output_type": "stream",
     "text": [
      "[Parallel(n_jobs=-1)]: Done   1 out of   1 | elapsed:  1.8min finished\n",
      "c:\\ProgramData\\Anaconda3\\lib\\site-packages\\sklearn\\metrics\\_classification.py:1344: UndefinedMetricWarning: Precision and F-score are ill-defined and being set to 0.0 in labels with no predicted samples. Use `zero_division` parameter to control this behavior.\n",
      "  _warn_prf(average, modifier, msg_start, len(result))\n",
      "c:\\ProgramData\\Anaconda3\\lib\\site-packages\\sklearn\\metrics\\_classification.py:1344: UndefinedMetricWarning: Precision and F-score are ill-defined and being set to 0.0 in labels with no predicted samples. Use `zero_division` parameter to control this behavior.\n",
      "  _warn_prf(average, modifier, msg_start, len(result))\n",
      "c:\\ProgramData\\Anaconda3\\lib\\site-packages\\sklearn\\metrics\\_classification.py:1344: UndefinedMetricWarning: Precision and F-score are ill-defined and being set to 0.0 in labels with no predicted samples. Use `zero_division` parameter to control this behavior.\n",
      "  _warn_prf(average, modifier, msg_start, len(result))\n",
      "[Parallel(n_jobs=-1)]: Using backend LokyBackend with 12 concurrent workers.\n"
     ]
    },
    {
     "name": "stdout",
     "output_type": "stream",
     "text": [
      "K-Fold #1:\n",
      "              precision    recall  f1-score   support\n",
      "\n",
      "         0.0       0.50      1.00      0.67        20\n",
      "         1.0       0.00      0.00      0.00        20\n",
      "\n",
      "    accuracy                           0.50        40\n",
      "   macro avg       0.25      0.50      0.33        40\n",
      "weighted avg       0.25      0.50      0.33        40\n",
      "\n",
      "-------------------------------------------------------------------------------------------------------------------\n"
     ]
    },
    {
     "name": "stderr",
     "output_type": "stream",
     "text": [
      "[Parallel(n_jobs=-1)]: Done   1 out of   1 | elapsed:  1.9min finished\n",
      "[Parallel(n_jobs=-1)]: Using backend LokyBackend with 12 concurrent workers.\n"
     ]
    },
    {
     "name": "stdout",
     "output_type": "stream",
     "text": [
      "K-Fold #2:\n",
      "              precision    recall  f1-score   support\n",
      "\n",
      "         0.0       0.52      0.60      0.56        20\n",
      "         1.0       0.53      0.45      0.49        20\n",
      "\n",
      "    accuracy                           0.53        40\n",
      "   macro avg       0.53      0.53      0.52        40\n",
      "weighted avg       0.53      0.53      0.52        40\n",
      "\n",
      "-------------------------------------------------------------------------------------------------------------------\n"
     ]
    },
    {
     "name": "stderr",
     "output_type": "stream",
     "text": [
      "[Parallel(n_jobs=-1)]: Done   1 out of   1 | elapsed:  1.7min finished\n",
      "c:\\ProgramData\\Anaconda3\\lib\\site-packages\\sklearn\\metrics\\_classification.py:1344: UndefinedMetricWarning: Precision and F-score are ill-defined and being set to 0.0 in labels with no predicted samples. Use `zero_division` parameter to control this behavior.\n",
      "  _warn_prf(average, modifier, msg_start, len(result))\n",
      "c:\\ProgramData\\Anaconda3\\lib\\site-packages\\sklearn\\metrics\\_classification.py:1344: UndefinedMetricWarning: Precision and F-score are ill-defined and being set to 0.0 in labels with no predicted samples. Use `zero_division` parameter to control this behavior.\n",
      "  _warn_prf(average, modifier, msg_start, len(result))\n",
      "c:\\ProgramData\\Anaconda3\\lib\\site-packages\\sklearn\\metrics\\_classification.py:1344: UndefinedMetricWarning: Precision and F-score are ill-defined and being set to 0.0 in labels with no predicted samples. Use `zero_division` parameter to control this behavior.\n",
      "  _warn_prf(average, modifier, msg_start, len(result))\n",
      "[Parallel(n_jobs=-1)]: Using backend LokyBackend with 12 concurrent workers.\n"
     ]
    },
    {
     "name": "stdout",
     "output_type": "stream",
     "text": [
      "K-Fold #3:\n",
      "              precision    recall  f1-score   support\n",
      "\n",
      "         0.0       0.00      0.00      0.00        20\n",
      "         1.0       0.50      1.00      0.67        20\n",
      "\n",
      "    accuracy                           0.50        40\n",
      "   macro avg       0.25      0.50      0.33        40\n",
      "weighted avg       0.25      0.50      0.33        40\n",
      "\n",
      "-------------------------------------------------------------------------------------------------------------------\n"
     ]
    },
    {
     "name": "stderr",
     "output_type": "stream",
     "text": [
      "[Parallel(n_jobs=-1)]: Done   1 out of   1 | elapsed:  1.7min finished\n",
      "[Parallel(n_jobs=-1)]: Using backend LokyBackend with 12 concurrent workers.\n"
     ]
    },
    {
     "name": "stdout",
     "output_type": "stream",
     "text": [
      "K-Fold #4:\n",
      "              precision    recall  f1-score   support\n",
      "\n",
      "         0.0       0.52      0.85      0.64        20\n",
      "         1.0       0.57      0.20      0.30        20\n",
      "\n",
      "    accuracy                           0.53        40\n",
      "   macro avg       0.54      0.53      0.47        40\n",
      "weighted avg       0.54      0.53      0.47        40\n",
      "\n",
      "-------------------------------------------------------------------------------------------------------------------\n"
     ]
    },
    {
     "name": "stderr",
     "output_type": "stream",
     "text": [
      "[Parallel(n_jobs=-1)]: Done   1 out of   1 | elapsed:  1.7min finished\n",
      "[Parallel(n_jobs=-1)]: Using backend LokyBackend with 12 concurrent workers.\n"
     ]
    },
    {
     "name": "stdout",
     "output_type": "stream",
     "text": [
      "K-Fold #5:\n",
      "              precision    recall  f1-score   support\n",
      "\n",
      "         0.0       0.46      0.80      0.58        20\n",
      "         1.0       0.20      0.05      0.08        20\n",
      "\n",
      "    accuracy                           0.42        40\n",
      "   macro avg       0.33      0.43      0.33        40\n",
      "weighted avg       0.33      0.42      0.33        40\n",
      "\n",
      "-------------------------------------------------------------------------------------------------------------------\n"
     ]
    },
    {
     "name": "stderr",
     "output_type": "stream",
     "text": [
      "[Parallel(n_jobs=-1)]: Done   1 out of   1 | elapsed:  1.7min finished\n",
      "[Parallel(n_jobs=-1)]: Using backend LokyBackend with 12 concurrent workers.\n"
     ]
    },
    {
     "name": "stdout",
     "output_type": "stream",
     "text": [
      "K-Fold #6:\n",
      "              precision    recall  f1-score   support\n",
      "\n",
      "         0.0       0.46      0.80      0.58        20\n",
      "         1.0       0.20      0.05      0.08        20\n",
      "\n",
      "    accuracy                           0.42        40\n",
      "   macro avg       0.33      0.43      0.33        40\n",
      "weighted avg       0.33      0.42      0.33        40\n",
      "\n",
      "-------------------------------------------------------------------------------------------------------------------\n"
     ]
    },
    {
     "name": "stderr",
     "output_type": "stream",
     "text": [
      "[Parallel(n_jobs=-1)]: Done   1 out of   1 | elapsed:  1.7min finished\n",
      "[Parallel(n_jobs=-1)]: Using backend LokyBackend with 12 concurrent workers.\n"
     ]
    },
    {
     "name": "stdout",
     "output_type": "stream",
     "text": [
      "K-Fold #7:\n",
      "              precision    recall  f1-score   support\n",
      "\n",
      "         0.0       0.20      0.05      0.08        20\n",
      "         1.0       0.46      0.80      0.58        20\n",
      "\n",
      "    accuracy                           0.42        40\n",
      "   macro avg       0.33      0.43      0.33        40\n",
      "weighted avg       0.33      0.42      0.33        40\n",
      "\n",
      "-------------------------------------------------------------------------------------------------------------------\n"
     ]
    },
    {
     "name": "stderr",
     "output_type": "stream",
     "text": [
      "[Parallel(n_jobs=-1)]: Done   1 out of   1 | elapsed:  1.9min finished\n",
      "[Parallel(n_jobs=-1)]: Using backend LokyBackend with 12 concurrent workers.\n"
     ]
    },
    {
     "name": "stdout",
     "output_type": "stream",
     "text": [
      "K-Fold #8:\n",
      "              precision    recall  f1-score   support\n",
      "\n",
      "         0.0       0.48      0.75      0.59        20\n",
      "         1.0       0.44      0.20      0.28        20\n",
      "\n",
      "    accuracy                           0.48        40\n",
      "   macro avg       0.46      0.47      0.43        40\n",
      "weighted avg       0.46      0.47      0.43        40\n",
      "\n",
      "-------------------------------------------------------------------------------------------------------------------\n"
     ]
    },
    {
     "name": "stderr",
     "output_type": "stream",
     "text": [
      "[Parallel(n_jobs=-1)]: Done   1 out of   1 | elapsed:  1.7min finished\n",
      "c:\\ProgramData\\Anaconda3\\lib\\site-packages\\sklearn\\metrics\\_classification.py:1344: UndefinedMetricWarning: Precision and F-score are ill-defined and being set to 0.0 in labels with no predicted samples. Use `zero_division` parameter to control this behavior.\n",
      "  _warn_prf(average, modifier, msg_start, len(result))\n",
      "c:\\ProgramData\\Anaconda3\\lib\\site-packages\\sklearn\\metrics\\_classification.py:1344: UndefinedMetricWarning: Precision and F-score are ill-defined and being set to 0.0 in labels with no predicted samples. Use `zero_division` parameter to control this behavior.\n",
      "  _warn_prf(average, modifier, msg_start, len(result))\n",
      "c:\\ProgramData\\Anaconda3\\lib\\site-packages\\sklearn\\metrics\\_classification.py:1344: UndefinedMetricWarning: Precision and F-score are ill-defined and being set to 0.0 in labels with no predicted samples. Use `zero_division` parameter to control this behavior.\n",
      "  _warn_prf(average, modifier, msg_start, len(result))\n",
      "[Parallel(n_jobs=-1)]: Using backend LokyBackend with 12 concurrent workers.\n"
     ]
    },
    {
     "name": "stdout",
     "output_type": "stream",
     "text": [
      "K-Fold #9:\n",
      "              precision    recall  f1-score   support\n",
      "\n",
      "         0.0       0.00      0.00      0.00        20\n",
      "         1.0       0.50      1.00      0.67        20\n",
      "\n",
      "    accuracy                           0.50        40\n",
      "   macro avg       0.25      0.50      0.33        40\n",
      "weighted avg       0.25      0.50      0.33        40\n",
      "\n",
      "-------------------------------------------------------------------------------------------------------------------\n",
      "AVG: Scores = 0.48249999999999993 F1-Scores = 0.39334521475435563\n"
     ]
    },
    {
     "name": "stderr",
     "output_type": "stream",
     "text": [
      "[Parallel(n_jobs=-1)]: Done   1 out of   1 | elapsed:  1.7min finished\n",
      "c:\\ProgramData\\Anaconda3\\lib\\site-packages\\sklearn\\metrics\\_classification.py:1344: UndefinedMetricWarning: Precision and F-score are ill-defined and being set to 0.0 in labels with no predicted samples. Use `zero_division` parameter to control this behavior.\n",
      "  _warn_prf(average, modifier, msg_start, len(result))\n",
      "c:\\ProgramData\\Anaconda3\\lib\\site-packages\\sklearn\\metrics\\_classification.py:1344: UndefinedMetricWarning: Precision and F-score are ill-defined and being set to 0.0 in labels with no predicted samples. Use `zero_division` parameter to control this behavior.\n",
      "  _warn_prf(average, modifier, msg_start, len(result))\n",
      "c:\\ProgramData\\Anaconda3\\lib\\site-packages\\sklearn\\metrics\\_classification.py:1344: UndefinedMetricWarning: Precision and F-score are ill-defined and being set to 0.0 in labels with no predicted samples. Use `zero_division` parameter to control this behavior.\n",
      "  _warn_prf(average, modifier, msg_start, len(result))\n",
      "[Parallel(n_jobs=-1)]: Using backend LokyBackend with 12 concurrent workers.\n"
     ]
    },
    {
     "name": "stdout",
     "output_type": "stream",
     "text": [
      "K-Fold #0:\n",
      "              precision    recall  f1-score   support\n",
      "\n",
      "         0.0       0.00      0.00      0.00        20\n",
      "         1.0       0.50      1.00      0.67        20\n",
      "\n",
      "    accuracy                           0.50        40\n",
      "   macro avg       0.25      0.50      0.33        40\n",
      "weighted avg       0.25      0.50      0.33        40\n",
      "\n",
      "-------------------------------------------------------------------------------------------------------------------\n"
     ]
    },
    {
     "name": "stderr",
     "output_type": "stream",
     "text": [
      "[Parallel(n_jobs=-1)]: Done   1 out of   1 | elapsed:  1.8min finished\n",
      "[Parallel(n_jobs=-1)]: Using backend LokyBackend with 12 concurrent workers.\n"
     ]
    },
    {
     "name": "stdout",
     "output_type": "stream",
     "text": [
      "K-Fold #1:\n",
      "              precision    recall  f1-score   support\n",
      "\n",
      "         0.0       0.00      0.00      0.00        20\n",
      "         1.0       0.49      0.95      0.64        20\n",
      "\n",
      "    accuracy                           0.48        40\n",
      "   macro avg       0.24      0.47      0.32        40\n",
      "weighted avg       0.24      0.47      0.32        40\n",
      "\n",
      "-------------------------------------------------------------------------------------------------------------------\n"
     ]
    },
    {
     "name": "stderr",
     "output_type": "stream",
     "text": [
      "[Parallel(n_jobs=-1)]: Done   1 out of   1 | elapsed:  1.7min finished\n",
      "[Parallel(n_jobs=-1)]: Using backend LokyBackend with 12 concurrent workers.\n"
     ]
    },
    {
     "name": "stdout",
     "output_type": "stream",
     "text": [
      "K-Fold #2:\n",
      "              precision    recall  f1-score   support\n",
      "\n",
      "         0.0       0.42      0.55      0.48        20\n",
      "         1.0       0.36      0.25      0.29        20\n",
      "\n",
      "    accuracy                           0.40        40\n",
      "   macro avg       0.39      0.40      0.39        40\n",
      "weighted avg       0.39      0.40      0.39        40\n",
      "\n",
      "-------------------------------------------------------------------------------------------------------------------\n"
     ]
    },
    {
     "name": "stderr",
     "output_type": "stream",
     "text": [
      "[Parallel(n_jobs=-1)]: Done   1 out of   1 | elapsed:  1.8min finished\n",
      "c:\\ProgramData\\Anaconda3\\lib\\site-packages\\sklearn\\metrics\\_classification.py:1344: UndefinedMetricWarning: Precision and F-score are ill-defined and being set to 0.0 in labels with no predicted samples. Use `zero_division` parameter to control this behavior.\n",
      "  _warn_prf(average, modifier, msg_start, len(result))\n",
      "c:\\ProgramData\\Anaconda3\\lib\\site-packages\\sklearn\\metrics\\_classification.py:1344: UndefinedMetricWarning: Precision and F-score are ill-defined and being set to 0.0 in labels with no predicted samples. Use `zero_division` parameter to control this behavior.\n",
      "  _warn_prf(average, modifier, msg_start, len(result))\n",
      "c:\\ProgramData\\Anaconda3\\lib\\site-packages\\sklearn\\metrics\\_classification.py:1344: UndefinedMetricWarning: Precision and F-score are ill-defined and being set to 0.0 in labels with no predicted samples. Use `zero_division` parameter to control this behavior.\n",
      "  _warn_prf(average, modifier, msg_start, len(result))\n",
      "[Parallel(n_jobs=-1)]: Using backend LokyBackend with 12 concurrent workers.\n"
     ]
    },
    {
     "name": "stdout",
     "output_type": "stream",
     "text": [
      "K-Fold #3:\n",
      "              precision    recall  f1-score   support\n",
      "\n",
      "         0.0       0.00      0.00      0.00        20\n",
      "         1.0       0.50      1.00      0.67        20\n",
      "\n",
      "    accuracy                           0.50        40\n",
      "   macro avg       0.25      0.50      0.33        40\n",
      "weighted avg       0.25      0.50      0.33        40\n",
      "\n",
      "-------------------------------------------------------------------------------------------------------------------\n"
     ]
    },
    {
     "name": "stderr",
     "output_type": "stream",
     "text": [
      "[Parallel(n_jobs=-1)]: Done   1 out of   1 | elapsed:  1.9min finished\n",
      "[Parallel(n_jobs=-1)]: Using backend LokyBackend with 12 concurrent workers.\n"
     ]
    },
    {
     "name": "stdout",
     "output_type": "stream",
     "text": [
      "K-Fold #4:\n",
      "              precision    recall  f1-score   support\n",
      "\n",
      "         0.0       0.45      0.50      0.48        20\n",
      "         1.0       0.44      0.40      0.42        20\n",
      "\n",
      "    accuracy                           0.45        40\n",
      "   macro avg       0.45      0.45      0.45        40\n",
      "weighted avg       0.45      0.45      0.45        40\n",
      "\n",
      "-------------------------------------------------------------------------------------------------------------------\n"
     ]
    },
    {
     "name": "stderr",
     "output_type": "stream",
     "text": [
      "[Parallel(n_jobs=-1)]: Done   1 out of   1 | elapsed:  1.8min finished\n",
      "[Parallel(n_jobs=-1)]: Using backend LokyBackend with 12 concurrent workers.\n"
     ]
    },
    {
     "name": "stdout",
     "output_type": "stream",
     "text": [
      "K-Fold #5:\n",
      "              precision    recall  f1-score   support\n",
      "\n",
      "         0.0       0.46      0.60      0.52        20\n",
      "         1.0       0.43      0.30      0.35        20\n",
      "\n",
      "    accuracy                           0.45        40\n",
      "   macro avg       0.45      0.45      0.44        40\n",
      "weighted avg       0.45      0.45      0.44        40\n",
      "\n",
      "-------------------------------------------------------------------------------------------------------------------\n"
     ]
    },
    {
     "name": "stderr",
     "output_type": "stream",
     "text": [
      "[Parallel(n_jobs=-1)]: Done   1 out of   1 | elapsed:  1.7min finished\n",
      "[Parallel(n_jobs=-1)]: Using backend LokyBackend with 12 concurrent workers.\n"
     ]
    },
    {
     "name": "stdout",
     "output_type": "stream",
     "text": [
      "K-Fold #6:\n",
      "              precision    recall  f1-score   support\n",
      "\n",
      "         0.0       0.00      0.00      0.00        20\n",
      "         1.0       0.46      0.85      0.60        20\n",
      "\n",
      "    accuracy                           0.42        40\n",
      "   macro avg       0.23      0.42      0.30        40\n",
      "weighted avg       0.23      0.42      0.30        40\n",
      "\n",
      "-------------------------------------------------------------------------------------------------------------------\n"
     ]
    },
    {
     "name": "stderr",
     "output_type": "stream",
     "text": [
      "[Parallel(n_jobs=-1)]: Done   1 out of   1 | elapsed:  1.7min finished\n",
      "[Parallel(n_jobs=-1)]: Using backend LokyBackend with 12 concurrent workers.\n"
     ]
    },
    {
     "name": "stdout",
     "output_type": "stream",
     "text": [
      "K-Fold #7:\n",
      "              precision    recall  f1-score   support\n",
      "\n",
      "         0.0       0.48      0.65      0.55        20\n",
      "         1.0       0.46      0.30      0.36        20\n",
      "\n",
      "    accuracy                           0.48        40\n",
      "   macro avg       0.47      0.47      0.46        40\n",
      "weighted avg       0.47      0.47      0.46        40\n",
      "\n",
      "-------------------------------------------------------------------------------------------------------------------\n"
     ]
    },
    {
     "name": "stderr",
     "output_type": "stream",
     "text": [
      "[Parallel(n_jobs=-1)]: Done   1 out of   1 | elapsed:  1.8min finished\n",
      "[Parallel(n_jobs=-1)]: Using backend LokyBackend with 12 concurrent workers.\n"
     ]
    },
    {
     "name": "stdout",
     "output_type": "stream",
     "text": [
      "K-Fold #8:\n",
      "              precision    recall  f1-score   support\n",
      "\n",
      "         0.0       0.46      0.60      0.52        20\n",
      "         1.0       0.43      0.30      0.35        20\n",
      "\n",
      "    accuracy                           0.45        40\n",
      "   macro avg       0.45      0.45      0.44        40\n",
      "weighted avg       0.45      0.45      0.44        40\n",
      "\n",
      "-------------------------------------------------------------------------------------------------------------------\n"
     ]
    },
    {
     "name": "stderr",
     "output_type": "stream",
     "text": [
      "[Parallel(n_jobs=-1)]: Done   1 out of   1 | elapsed:  1.8min finished\n",
      "[Parallel(n_jobs=-1)]: Using backend LokyBackend with 12 concurrent workers.\n"
     ]
    },
    {
     "name": "stdout",
     "output_type": "stream",
     "text": [
      "K-Fold #9:\n",
      "              precision    recall  f1-score   support\n",
      "\n",
      "         0.0       0.48      0.80      0.60        20\n",
      "         1.0       0.43      0.15      0.22        20\n",
      "\n",
      "    accuracy                           0.48        40\n",
      "   macro avg       0.46      0.48      0.41        40\n",
      "weighted avg       0.46      0.47      0.41        40\n",
      "\n",
      "-------------------------------------------------------------------------------------------------------------------\n",
      "AVG: Scores = 0.45999999999999996 F1-Scores = 0.38678491281719163\n"
     ]
    },
    {
     "name": "stderr",
     "output_type": "stream",
     "text": [
      "[Parallel(n_jobs=-1)]: Done   1 out of   1 | elapsed:  1.8min finished\n",
      "[Parallel(n_jobs=-1)]: Using backend LokyBackend with 12 concurrent workers.\n"
     ]
    },
    {
     "name": "stdout",
     "output_type": "stream",
     "text": [
      "K-Fold #0:\n",
      "              precision    recall  f1-score   support\n",
      "\n",
      "         0.0       1.00      0.10      0.18        20\n",
      "         1.0       0.53      1.00      0.69        20\n",
      "\n",
      "    accuracy                           0.55        40\n",
      "   macro avg       0.76      0.55      0.44        40\n",
      "weighted avg       0.76      0.55      0.44        40\n",
      "\n",
      "-------------------------------------------------------------------------------------------------------------------\n"
     ]
    },
    {
     "name": "stderr",
     "output_type": "stream",
     "text": [
      "[Parallel(n_jobs=-1)]: Done   1 out of   1 | elapsed:  1.7min finished\n",
      "[Parallel(n_jobs=-1)]: Using backend LokyBackend with 12 concurrent workers.\n"
     ]
    },
    {
     "name": "stdout",
     "output_type": "stream",
     "text": [
      "K-Fold #1:\n",
      "              precision    recall  f1-score   support\n",
      "\n",
      "         0.0       0.51      0.95      0.67        20\n",
      "         1.0       0.67      0.10      0.17        20\n",
      "\n",
      "    accuracy                           0.53        40\n",
      "   macro avg       0.59      0.53      0.42        40\n",
      "weighted avg       0.59      0.53      0.42        40\n",
      "\n",
      "-------------------------------------------------------------------------------------------------------------------\n"
     ]
    },
    {
     "name": "stderr",
     "output_type": "stream",
     "text": [
      "[Parallel(n_jobs=-1)]: Done   1 out of   1 | elapsed:  1.8min finished\n",
      "[Parallel(n_jobs=-1)]: Using backend LokyBackend with 12 concurrent workers.\n"
     ]
    },
    {
     "name": "stdout",
     "output_type": "stream",
     "text": [
      "K-Fold #2:\n",
      "              precision    recall  f1-score   support\n",
      "\n",
      "         0.0       0.53      0.90      0.67        20\n",
      "         1.0       0.67      0.20      0.31        20\n",
      "\n",
      "    accuracy                           0.55        40\n",
      "   macro avg       0.60      0.55      0.49        40\n",
      "weighted avg       0.60      0.55      0.49        40\n",
      "\n",
      "-------------------------------------------------------------------------------------------------------------------\n"
     ]
    },
    {
     "name": "stderr",
     "output_type": "stream",
     "text": [
      "[Parallel(n_jobs=-1)]: Done   1 out of   1 | elapsed:  1.9min finished\n",
      "[Parallel(n_jobs=-1)]: Using backend LokyBackend with 12 concurrent workers.\n"
     ]
    },
    {
     "name": "stdout",
     "output_type": "stream",
     "text": [
      "K-Fold #3:\n",
      "              precision    recall  f1-score   support\n",
      "\n",
      "         0.0       0.52      0.80      0.63        20\n",
      "         1.0       0.56      0.25      0.34        20\n",
      "\n",
      "    accuracy                           0.53        40\n",
      "   macro avg       0.54      0.53      0.49        40\n",
      "weighted avg       0.54      0.53      0.49        40\n",
      "\n",
      "-------------------------------------------------------------------------------------------------------------------\n"
     ]
    },
    {
     "name": "stderr",
     "output_type": "stream",
     "text": [
      "[Parallel(n_jobs=-1)]: Done   1 out of   1 | elapsed:  1.7min finished\n",
      "[Parallel(n_jobs=-1)]: Using backend LokyBackend with 12 concurrent workers.\n"
     ]
    },
    {
     "name": "stdout",
     "output_type": "stream",
     "text": [
      "K-Fold #4:\n",
      "              precision    recall  f1-score   support\n",
      "\n",
      "         0.0       0.80      0.20      0.32        20\n",
      "         1.0       0.54      0.95      0.69        20\n",
      "\n",
      "    accuracy                           0.57        40\n",
      "   macro avg       0.67      0.57      0.51        40\n",
      "weighted avg       0.67      0.57      0.51        40\n",
      "\n",
      "-------------------------------------------------------------------------------------------------------------------\n"
     ]
    },
    {
     "name": "stderr",
     "output_type": "stream",
     "text": [
      "[Parallel(n_jobs=-1)]: Done   1 out of   1 | elapsed:  1.8min finished\n",
      "[Parallel(n_jobs=-1)]: Using backend LokyBackend with 12 concurrent workers.\n"
     ]
    },
    {
     "name": "stdout",
     "output_type": "stream",
     "text": [
      "K-Fold #5:\n",
      "              precision    recall  f1-score   support\n",
      "\n",
      "         0.0       0.44      0.55      0.49        20\n",
      "         1.0       0.40      0.30      0.34        20\n",
      "\n",
      "    accuracy                           0.42        40\n",
      "   macro avg       0.42      0.43      0.42        40\n",
      "weighted avg       0.42      0.42      0.42        40\n",
      "\n",
      "-------------------------------------------------------------------------------------------------------------------\n"
     ]
    },
    {
     "name": "stderr",
     "output_type": "stream",
     "text": [
      "[Parallel(n_jobs=-1)]: Done   1 out of   1 | elapsed:  1.8min finished\n",
      "[Parallel(n_jobs=-1)]: Using backend LokyBackend with 12 concurrent workers.\n"
     ]
    },
    {
     "name": "stdout",
     "output_type": "stream",
     "text": [
      "K-Fold #6:\n",
      "              precision    recall  f1-score   support\n",
      "\n",
      "         0.0       0.49      0.95      0.64        20\n",
      "         1.0       0.00      0.00      0.00        20\n",
      "\n",
      "    accuracy                           0.48        40\n",
      "   macro avg       0.24      0.47      0.32        40\n",
      "weighted avg       0.24      0.47      0.32        40\n",
      "\n",
      "-------------------------------------------------------------------------------------------------------------------\n"
     ]
    },
    {
     "name": "stderr",
     "output_type": "stream",
     "text": [
      "[Parallel(n_jobs=-1)]: Done   1 out of   1 | elapsed:  1.7min finished\n",
      "[Parallel(n_jobs=-1)]: Using backend LokyBackend with 12 concurrent workers.\n"
     ]
    },
    {
     "name": "stdout",
     "output_type": "stream",
     "text": [
      "K-Fold #7:\n",
      "              precision    recall  f1-score   support\n",
      "\n",
      "         0.0       0.45      0.70      0.55        20\n",
      "         1.0       0.33      0.15      0.21        20\n",
      "\n",
      "    accuracy                           0.42        40\n",
      "   macro avg       0.39      0.42      0.38        40\n",
      "weighted avg       0.39      0.42      0.38        40\n",
      "\n",
      "-------------------------------------------------------------------------------------------------------------------\n"
     ]
    },
    {
     "name": "stderr",
     "output_type": "stream",
     "text": [
      "[Parallel(n_jobs=-1)]: Done   1 out of   1 | elapsed:  1.7min finished\n",
      "[Parallel(n_jobs=-1)]: Using backend LokyBackend with 12 concurrent workers.\n"
     ]
    },
    {
     "name": "stdout",
     "output_type": "stream",
     "text": [
      "K-Fold #8:\n",
      "              precision    recall  f1-score   support\n",
      "\n",
      "         0.0       0.50      0.65      0.57        20\n",
      "         1.0       0.50      0.35      0.41        20\n",
      "\n",
      "    accuracy                           0.50        40\n",
      "   macro avg       0.50      0.50      0.49        40\n",
      "weighted avg       0.50      0.50      0.49        40\n",
      "\n",
      "-------------------------------------------------------------------------------------------------------------------\n"
     ]
    },
    {
     "name": "stderr",
     "output_type": "stream",
     "text": [
      "[Parallel(n_jobs=-1)]: Done   1 out of   1 | elapsed:  1.7min finished\n",
      "[Parallel(n_jobs=-1)]: Using backend LokyBackend with 12 concurrent workers.\n"
     ]
    },
    {
     "name": "stdout",
     "output_type": "stream",
     "text": [
      "K-Fold #9:\n",
      "              precision    recall  f1-score   support\n",
      "\n",
      "         0.0       0.40      0.50      0.44        20\n",
      "         1.0       0.33      0.25      0.29        20\n",
      "\n",
      "    accuracy                           0.38        40\n",
      "   macro avg       0.37      0.38      0.37        40\n",
      "weighted avg       0.37      0.38      0.37        40\n",
      "\n",
      "-------------------------------------------------------------------------------------------------------------------\n",
      "AVG: Scores = 0.49250000000000005 F1-Scores = 0.4304235255756465\n"
     ]
    },
    {
     "name": "stderr",
     "output_type": "stream",
     "text": [
      "[Parallel(n_jobs=-1)]: Done   1 out of   1 | elapsed:  1.7min finished\n",
      "[Parallel(n_jobs=-1)]: Using backend LokyBackend with 12 concurrent workers.\n"
     ]
    },
    {
     "name": "stdout",
     "output_type": "stream",
     "text": [
      "K-Fold #0:\n",
      "              precision    recall  f1-score   support\n",
      "\n",
      "         0.0       0.49      0.85      0.62        20\n",
      "         1.0       0.40      0.10      0.16        20\n",
      "\n",
      "    accuracy                           0.48        40\n",
      "   macro avg       0.44      0.47      0.39        40\n",
      "weighted avg       0.44      0.47      0.39        40\n",
      "\n",
      "-------------------------------------------------------------------------------------------------------------------\n"
     ]
    },
    {
     "name": "stderr",
     "output_type": "stream",
     "text": [
      "[Parallel(n_jobs=-1)]: Done   1 out of   1 | elapsed:  1.9min finished\n",
      "[Parallel(n_jobs=-1)]: Using backend LokyBackend with 12 concurrent workers.\n"
     ]
    },
    {
     "name": "stdout",
     "output_type": "stream",
     "text": [
      "K-Fold #1:\n",
      "              precision    recall  f1-score   support\n",
      "\n",
      "         0.0       0.47      0.80      0.59        20\n",
      "         1.0       0.33      0.10      0.15        20\n",
      "\n",
      "    accuracy                           0.45        40\n",
      "   macro avg       0.40      0.45      0.37        40\n",
      "weighted avg       0.40      0.45      0.37        40\n",
      "\n",
      "-------------------------------------------------------------------------------------------------------------------\n"
     ]
    },
    {
     "name": "stderr",
     "output_type": "stream",
     "text": [
      "[Parallel(n_jobs=-1)]: Done   1 out of   1 | elapsed:  1.9min finished\n",
      "[Parallel(n_jobs=-1)]: Using backend LokyBackend with 12 concurrent workers.\n"
     ]
    },
    {
     "name": "stdout",
     "output_type": "stream",
     "text": [
      "K-Fold #2:\n",
      "              precision    recall  f1-score   support\n",
      "\n",
      "         0.0       0.75      0.15      0.25        20\n",
      "         1.0       0.53      0.95      0.68        20\n",
      "\n",
      "    accuracy                           0.55        40\n",
      "   macro avg       0.64      0.55      0.46        40\n",
      "weighted avg       0.64      0.55      0.46        40\n",
      "\n",
      "-------------------------------------------------------------------------------------------------------------------\n"
     ]
    },
    {
     "name": "stderr",
     "output_type": "stream",
     "text": [
      "[Parallel(n_jobs=-1)]: Done   1 out of   1 | elapsed:  1.7min finished\n",
      "c:\\ProgramData\\Anaconda3\\lib\\site-packages\\sklearn\\metrics\\_classification.py:1344: UndefinedMetricWarning: Precision and F-score are ill-defined and being set to 0.0 in labels with no predicted samples. Use `zero_division` parameter to control this behavior.\n",
      "  _warn_prf(average, modifier, msg_start, len(result))\n",
      "c:\\ProgramData\\Anaconda3\\lib\\site-packages\\sklearn\\metrics\\_classification.py:1344: UndefinedMetricWarning: Precision and F-score are ill-defined and being set to 0.0 in labels with no predicted samples. Use `zero_division` parameter to control this behavior.\n",
      "  _warn_prf(average, modifier, msg_start, len(result))\n",
      "c:\\ProgramData\\Anaconda3\\lib\\site-packages\\sklearn\\metrics\\_classification.py:1344: UndefinedMetricWarning: Precision and F-score are ill-defined and being set to 0.0 in labels with no predicted samples. Use `zero_division` parameter to control this behavior.\n",
      "  _warn_prf(average, modifier, msg_start, len(result))\n",
      "[Parallel(n_jobs=-1)]: Using backend LokyBackend with 12 concurrent workers.\n"
     ]
    },
    {
     "name": "stdout",
     "output_type": "stream",
     "text": [
      "K-Fold #3:\n",
      "              precision    recall  f1-score   support\n",
      "\n",
      "         0.0       0.50      1.00      0.67        20\n",
      "         1.0       0.00      0.00      0.00        20\n",
      "\n",
      "    accuracy                           0.50        40\n",
      "   macro avg       0.25      0.50      0.33        40\n",
      "weighted avg       0.25      0.50      0.33        40\n",
      "\n",
      "-------------------------------------------------------------------------------------------------------------------\n"
     ]
    },
    {
     "name": "stderr",
     "output_type": "stream",
     "text": [
      "[Parallel(n_jobs=-1)]: Done   1 out of   1 | elapsed:  1.9min finished\n",
      "[Parallel(n_jobs=-1)]: Using backend LokyBackend with 12 concurrent workers.\n"
     ]
    },
    {
     "name": "stdout",
     "output_type": "stream",
     "text": [
      "K-Fold #4:\n",
      "              precision    recall  f1-score   support\n",
      "\n",
      "         0.0       0.50      0.65      0.57        20\n",
      "         1.0       0.50      0.35      0.41        20\n",
      "\n",
      "    accuracy                           0.50        40\n",
      "   macro avg       0.50      0.50      0.49        40\n",
      "weighted avg       0.50      0.50      0.49        40\n",
      "\n",
      "-------------------------------------------------------------------------------------------------------------------\n"
     ]
    },
    {
     "name": "stderr",
     "output_type": "stream",
     "text": [
      "[Parallel(n_jobs=-1)]: Done   1 out of   1 | elapsed:  1.7min finished\n",
      "[Parallel(n_jobs=-1)]: Using backend LokyBackend with 12 concurrent workers.\n"
     ]
    },
    {
     "name": "stdout",
     "output_type": "stream",
     "text": [
      "K-Fold #5:\n",
      "              precision    recall  f1-score   support\n",
      "\n",
      "         0.0       0.49      0.95      0.64        20\n",
      "         1.0       0.00      0.00      0.00        20\n",
      "\n",
      "    accuracy                           0.48        40\n",
      "   macro avg       0.24      0.47      0.32        40\n",
      "weighted avg       0.24      0.47      0.32        40\n",
      "\n",
      "-------------------------------------------------------------------------------------------------------------------\n"
     ]
    },
    {
     "name": "stderr",
     "output_type": "stream",
     "text": [
      "[Parallel(n_jobs=-1)]: Done   1 out of   1 | elapsed:  1.7min finished\n",
      "[Parallel(n_jobs=-1)]: Using backend LokyBackend with 12 concurrent workers.\n"
     ]
    },
    {
     "name": "stdout",
     "output_type": "stream",
     "text": [
      "K-Fold #6:\n",
      "              precision    recall  f1-score   support\n",
      "\n",
      "         0.0       0.50      0.20      0.29        20\n",
      "         1.0       0.50      0.80      0.62        20\n",
      "\n",
      "    accuracy                           0.50        40\n",
      "   macro avg       0.50      0.50      0.45        40\n",
      "weighted avg       0.50      0.50      0.45        40\n",
      "\n",
      "-------------------------------------------------------------------------------------------------------------------\n"
     ]
    },
    {
     "name": "stderr",
     "output_type": "stream",
     "text": [
      "[Parallel(n_jobs=-1)]: Done   1 out of   1 | elapsed:  1.8min finished\n",
      "[Parallel(n_jobs=-1)]: Using backend LokyBackend with 12 concurrent workers.\n"
     ]
    },
    {
     "name": "stdout",
     "output_type": "stream",
     "text": [
      "K-Fold #7:\n",
      "              precision    recall  f1-score   support\n",
      "\n",
      "         0.0       0.53      1.00      0.69        20\n",
      "         1.0       1.00      0.10      0.18        20\n",
      "\n",
      "    accuracy                           0.55        40\n",
      "   macro avg       0.76      0.55      0.44        40\n",
      "weighted avg       0.76      0.55      0.44        40\n",
      "\n",
      "-------------------------------------------------------------------------------------------------------------------\n"
     ]
    },
    {
     "name": "stderr",
     "output_type": "stream",
     "text": [
      "[Parallel(n_jobs=-1)]: Done   1 out of   1 | elapsed:  1.9min finished\n",
      "[Parallel(n_jobs=-1)]: Using backend LokyBackend with 12 concurrent workers.\n"
     ]
    },
    {
     "name": "stdout",
     "output_type": "stream",
     "text": [
      "K-Fold #8:\n",
      "              precision    recall  f1-score   support\n",
      "\n",
      "         0.0       0.44      0.55      0.49        20\n",
      "         1.0       0.40      0.30      0.34        20\n",
      "\n",
      "    accuracy                           0.42        40\n",
      "   macro avg       0.42      0.43      0.42        40\n",
      "weighted avg       0.42      0.42      0.42        40\n",
      "\n",
      "-------------------------------------------------------------------------------------------------------------------\n"
     ]
    },
    {
     "name": "stderr",
     "output_type": "stream",
     "text": [
      "[Parallel(n_jobs=-1)]: Done   1 out of   1 | elapsed:  1.7min finished\n",
      "[Parallel(n_jobs=-1)]: Using backend LokyBackend with 12 concurrent workers.\n"
     ]
    },
    {
     "name": "stdout",
     "output_type": "stream",
     "text": [
      "K-Fold #9:\n",
      "              precision    recall  f1-score   support\n",
      "\n",
      "         0.0       0.56      0.25      0.34        20\n",
      "         1.0       0.52      0.80      0.63        20\n",
      "\n",
      "    accuracy                           0.53        40\n",
      "   macro avg       0.54      0.53      0.49        40\n",
      "weighted avg       0.54      0.53      0.49        40\n",
      "\n",
      "-------------------------------------------------------------------------------------------------------------------\n",
      "AVG: Scores = 0.495 F1-Scores = 0.41587527036657457\n"
     ]
    },
    {
     "name": "stderr",
     "output_type": "stream",
     "text": [
      "[Parallel(n_jobs=-1)]: Done   1 out of   1 | elapsed:  1.8min finished\n",
      "[Parallel(n_jobs=-1)]: Using backend LokyBackend with 12 concurrent workers.\n"
     ]
    },
    {
     "name": "stdout",
     "output_type": "stream",
     "text": [
      "K-Fold #0:\n",
      "              precision    recall  f1-score   support\n",
      "\n",
      "         0.0       0.50      0.15      0.23        20\n",
      "         1.0       0.50      0.85      0.63        20\n",
      "\n",
      "    accuracy                           0.50        40\n",
      "   macro avg       0.50      0.50      0.43        40\n",
      "weighted avg       0.50      0.50      0.43        40\n",
      "\n",
      "-------------------------------------------------------------------------------------------------------------------\n"
     ]
    },
    {
     "name": "stderr",
     "output_type": "stream",
     "text": [
      "[Parallel(n_jobs=-1)]: Done   1 out of   1 | elapsed:  1.8min finished\n",
      "[Parallel(n_jobs=-1)]: Using backend LokyBackend with 12 concurrent workers.\n"
     ]
    },
    {
     "name": "stdout",
     "output_type": "stream",
     "text": [
      "K-Fold #1:\n",
      "              precision    recall  f1-score   support\n",
      "\n",
      "         0.0       0.55      0.80      0.65        20\n",
      "         1.0       0.64      0.35      0.45        20\n",
      "\n",
      "    accuracy                           0.57        40\n",
      "   macro avg       0.59      0.57      0.55        40\n",
      "weighted avg       0.59      0.57      0.55        40\n",
      "\n",
      "-------------------------------------------------------------------------------------------------------------------\n"
     ]
    },
    {
     "name": "stderr",
     "output_type": "stream",
     "text": [
      "[Parallel(n_jobs=-1)]: Done   1 out of   1 | elapsed:  1.9min finished\n",
      "c:\\ProgramData\\Anaconda3\\lib\\site-packages\\sklearn\\metrics\\_classification.py:1344: UndefinedMetricWarning: Precision and F-score are ill-defined and being set to 0.0 in labels with no predicted samples. Use `zero_division` parameter to control this behavior.\n",
      "  _warn_prf(average, modifier, msg_start, len(result))\n",
      "c:\\ProgramData\\Anaconda3\\lib\\site-packages\\sklearn\\metrics\\_classification.py:1344: UndefinedMetricWarning: Precision and F-score are ill-defined and being set to 0.0 in labels with no predicted samples. Use `zero_division` parameter to control this behavior.\n",
      "  _warn_prf(average, modifier, msg_start, len(result))\n",
      "c:\\ProgramData\\Anaconda3\\lib\\site-packages\\sklearn\\metrics\\_classification.py:1344: UndefinedMetricWarning: Precision and F-score are ill-defined and being set to 0.0 in labels with no predicted samples. Use `zero_division` parameter to control this behavior.\n",
      "  _warn_prf(average, modifier, msg_start, len(result))\n",
      "[Parallel(n_jobs=-1)]: Using backend LokyBackend with 12 concurrent workers.\n"
     ]
    },
    {
     "name": "stdout",
     "output_type": "stream",
     "text": [
      "K-Fold #2:\n",
      "              precision    recall  f1-score   support\n",
      "\n",
      "         0.0       0.00      0.00      0.00        20\n",
      "         1.0       0.50      1.00      0.67        20\n",
      "\n",
      "    accuracy                           0.50        40\n",
      "   macro avg       0.25      0.50      0.33        40\n",
      "weighted avg       0.25      0.50      0.33        40\n",
      "\n",
      "-------------------------------------------------------------------------------------------------------------------\n"
     ]
    },
    {
     "name": "stderr",
     "output_type": "stream",
     "text": [
      "[Parallel(n_jobs=-1)]: Done   1 out of   1 | elapsed:  1.7min finished\n",
      "[Parallel(n_jobs=-1)]: Using backend LokyBackend with 12 concurrent workers.\n"
     ]
    },
    {
     "name": "stdout",
     "output_type": "stream",
     "text": [
      "K-Fold #3:\n",
      "              precision    recall  f1-score   support\n",
      "\n",
      "         0.0       0.49      0.95      0.64        20\n",
      "         1.0       0.00      0.00      0.00        20\n",
      "\n",
      "    accuracy                           0.48        40\n",
      "   macro avg       0.24      0.47      0.32        40\n",
      "weighted avg       0.24      0.47      0.32        40\n",
      "\n",
      "-------------------------------------------------------------------------------------------------------------------\n"
     ]
    },
    {
     "name": "stderr",
     "output_type": "stream",
     "text": [
      "[Parallel(n_jobs=-1)]: Done   1 out of   1 | elapsed:  1.9min finished\n",
      "[Parallel(n_jobs=-1)]: Using backend LokyBackend with 12 concurrent workers.\n"
     ]
    },
    {
     "name": "stdout",
     "output_type": "stream",
     "text": [
      "K-Fold #4:\n",
      "              precision    recall  f1-score   support\n",
      "\n",
      "         0.0       0.46      0.60      0.52        20\n",
      "         1.0       0.43      0.30      0.35        20\n",
      "\n",
      "    accuracy                           0.45        40\n",
      "   macro avg       0.45      0.45      0.44        40\n",
      "weighted avg       0.45      0.45      0.44        40\n",
      "\n",
      "-------------------------------------------------------------------------------------------------------------------\n"
     ]
    },
    {
     "name": "stderr",
     "output_type": "stream",
     "text": [
      "[Parallel(n_jobs=-1)]: Done   1 out of   1 | elapsed:  1.9min finished\n",
      "c:\\ProgramData\\Anaconda3\\lib\\site-packages\\sklearn\\metrics\\_classification.py:1344: UndefinedMetricWarning: Precision and F-score are ill-defined and being set to 0.0 in labels with no predicted samples. Use `zero_division` parameter to control this behavior.\n",
      "  _warn_prf(average, modifier, msg_start, len(result))\n",
      "c:\\ProgramData\\Anaconda3\\lib\\site-packages\\sklearn\\metrics\\_classification.py:1344: UndefinedMetricWarning: Precision and F-score are ill-defined and being set to 0.0 in labels with no predicted samples. Use `zero_division` parameter to control this behavior.\n",
      "  _warn_prf(average, modifier, msg_start, len(result))\n",
      "c:\\ProgramData\\Anaconda3\\lib\\site-packages\\sklearn\\metrics\\_classification.py:1344: UndefinedMetricWarning: Precision and F-score are ill-defined and being set to 0.0 in labels with no predicted samples. Use `zero_division` parameter to control this behavior.\n",
      "  _warn_prf(average, modifier, msg_start, len(result))\n",
      "[Parallel(n_jobs=-1)]: Using backend LokyBackend with 12 concurrent workers.\n"
     ]
    },
    {
     "name": "stdout",
     "output_type": "stream",
     "text": [
      "K-Fold #5:\n",
      "              precision    recall  f1-score   support\n",
      "\n",
      "         0.0       0.00      0.00      0.00        20\n",
      "         1.0       0.50      1.00      0.67        20\n",
      "\n",
      "    accuracy                           0.50        40\n",
      "   macro avg       0.25      0.50      0.33        40\n",
      "weighted avg       0.25      0.50      0.33        40\n",
      "\n",
      "-------------------------------------------------------------------------------------------------------------------\n"
     ]
    },
    {
     "name": "stderr",
     "output_type": "stream",
     "text": [
      "[Parallel(n_jobs=-1)]: Done   1 out of   1 | elapsed:  1.7min finished\n",
      "[Parallel(n_jobs=-1)]: Using backend LokyBackend with 12 concurrent workers.\n"
     ]
    },
    {
     "name": "stdout",
     "output_type": "stream",
     "text": [
      "K-Fold #6:\n",
      "              precision    recall  f1-score   support\n",
      "\n",
      "         0.0       0.47      0.45      0.46        20\n",
      "         1.0       0.48      0.50      0.49        20\n",
      "\n",
      "    accuracy                           0.48        40\n",
      "   macro avg       0.47      0.47      0.47        40\n",
      "weighted avg       0.47      0.47      0.47        40\n",
      "\n",
      "-------------------------------------------------------------------------------------------------------------------\n"
     ]
    },
    {
     "name": "stderr",
     "output_type": "stream",
     "text": [
      "[Parallel(n_jobs=-1)]: Done   1 out of   1 | elapsed:  1.7min finished\n",
      "[Parallel(n_jobs=-1)]: Using backend LokyBackend with 12 concurrent workers.\n"
     ]
    },
    {
     "name": "stdout",
     "output_type": "stream",
     "text": [
      "K-Fold #7:\n",
      "              precision    recall  f1-score   support\n",
      "\n",
      "         0.0       0.46      0.65      0.54        20\n",
      "         1.0       0.42      0.25      0.31        20\n",
      "\n",
      "    accuracy                           0.45        40\n",
      "   macro avg       0.44      0.45      0.43        40\n",
      "weighted avg       0.44      0.45      0.43        40\n",
      "\n",
      "-------------------------------------------------------------------------------------------------------------------\n"
     ]
    },
    {
     "name": "stderr",
     "output_type": "stream",
     "text": [
      "[Parallel(n_jobs=-1)]: Done   1 out of   1 | elapsed:  1.7min finished\n",
      "[Parallel(n_jobs=-1)]: Using backend LokyBackend with 12 concurrent workers.\n"
     ]
    },
    {
     "name": "stdout",
     "output_type": "stream",
     "text": [
      "K-Fold #8:\n",
      "              precision    recall  f1-score   support\n",
      "\n",
      "         0.0       0.47      0.80      0.59        20\n",
      "         1.0       0.33      0.10      0.15        20\n",
      "\n",
      "    accuracy                           0.45        40\n",
      "   macro avg       0.40      0.45      0.37        40\n",
      "weighted avg       0.40      0.45      0.37        40\n",
      "\n",
      "-------------------------------------------------------------------------------------------------------------------\n"
     ]
    },
    {
     "name": "stderr",
     "output_type": "stream",
     "text": [
      "[Parallel(n_jobs=-1)]: Done   1 out of   1 | elapsed:  1.9min finished\n",
      "[Parallel(n_jobs=-1)]: Using backend LokyBackend with 12 concurrent workers.\n"
     ]
    },
    {
     "name": "stdout",
     "output_type": "stream",
     "text": [
      "K-Fold #9:\n",
      "              precision    recall  f1-score   support\n",
      "\n",
      "         0.0       0.30      0.35      0.33        20\n",
      "         1.0       0.24      0.20      0.22        20\n",
      "\n",
      "    accuracy                           0.28        40\n",
      "   macro avg       0.27      0.28      0.27        40\n",
      "weighted avg       0.27      0.28      0.27        40\n",
      "\n",
      "-------------------------------------------------------------------------------------------------------------------\n",
      "AVG: Scores = 0.465 F1-Scores = 0.39544503946105225\n"
     ]
    },
    {
     "name": "stderr",
     "output_type": "stream",
     "text": [
      "[Parallel(n_jobs=-1)]: Done   1 out of   1 | elapsed:  1.7min finished\n",
      "[Parallel(n_jobs=-1)]: Using backend LokyBackend with 12 concurrent workers.\n"
     ]
    },
    {
     "name": "stdout",
     "output_type": "stream",
     "text": [
      "K-Fold #0:\n",
      "              precision    recall  f1-score   support\n",
      "\n",
      "         0.0       0.51      0.95      0.67        20\n",
      "         1.0       0.67      0.10      0.17        20\n",
      "\n",
      "    accuracy                           0.53        40\n",
      "   macro avg       0.59      0.53      0.42        40\n",
      "weighted avg       0.59      0.53      0.42        40\n",
      "\n",
      "-------------------------------------------------------------------------------------------------------------------\n"
     ]
    },
    {
     "name": "stderr",
     "output_type": "stream",
     "text": [
      "[Parallel(n_jobs=-1)]: Done   1 out of   1 | elapsed:  1.7min finished\n",
      "[Parallel(n_jobs=-1)]: Using backend LokyBackend with 12 concurrent workers.\n"
     ]
    },
    {
     "name": "stdout",
     "output_type": "stream",
     "text": [
      "K-Fold #1:\n",
      "              precision    recall  f1-score   support\n",
      "\n",
      "         0.0       1.00      0.05      0.10        20\n",
      "         1.0       0.51      1.00      0.68        20\n",
      "\n",
      "    accuracy                           0.53        40\n",
      "   macro avg       0.76      0.53      0.39        40\n",
      "weighted avg       0.76      0.53      0.39        40\n",
      "\n",
      "-------------------------------------------------------------------------------------------------------------------\n"
     ]
    },
    {
     "name": "stderr",
     "output_type": "stream",
     "text": [
      "[Parallel(n_jobs=-1)]: Done   1 out of   1 | elapsed:  1.9min finished\n",
      "[Parallel(n_jobs=-1)]: Using backend LokyBackend with 12 concurrent workers.\n"
     ]
    },
    {
     "name": "stdout",
     "output_type": "stream",
     "text": [
      "K-Fold #2:\n",
      "              precision    recall  f1-score   support\n",
      "\n",
      "         0.0       0.53      0.85      0.65        20\n",
      "         1.0       0.62      0.25      0.36        20\n",
      "\n",
      "    accuracy                           0.55        40\n",
      "   macro avg       0.58      0.55      0.51        40\n",
      "weighted avg       0.58      0.55      0.51        40\n",
      "\n",
      "-------------------------------------------------------------------------------------------------------------------\n"
     ]
    },
    {
     "name": "stderr",
     "output_type": "stream",
     "text": [
      "[Parallel(n_jobs=-1)]: Done   1 out of   1 | elapsed:  1.7min finished\n",
      "[Parallel(n_jobs=-1)]: Using backend LokyBackend with 12 concurrent workers.\n"
     ]
    },
    {
     "name": "stdout",
     "output_type": "stream",
     "text": [
      "K-Fold #3:\n",
      "              precision    recall  f1-score   support\n",
      "\n",
      "         0.0       0.57      0.20      0.30        20\n",
      "         1.0       0.52      0.85      0.64        20\n",
      "\n",
      "    accuracy                           0.53        40\n",
      "   macro avg       0.54      0.53      0.47        40\n",
      "weighted avg       0.54      0.53      0.47        40\n",
      "\n",
      "-------------------------------------------------------------------------------------------------------------------\n"
     ]
    },
    {
     "name": "stderr",
     "output_type": "stream",
     "text": [
      "[Parallel(n_jobs=-1)]: Done   1 out of   1 | elapsed:  1.9min finished\n",
      "[Parallel(n_jobs=-1)]: Using backend LokyBackend with 12 concurrent workers.\n"
     ]
    },
    {
     "name": "stdout",
     "output_type": "stream",
     "text": [
      "K-Fold #4:\n",
      "              precision    recall  f1-score   support\n",
      "\n",
      "         0.0       0.47      0.75      0.58        20\n",
      "         1.0       0.38      0.15      0.21        20\n",
      "\n",
      "    accuracy                           0.45        40\n",
      "   macro avg       0.42      0.45      0.40        40\n",
      "weighted avg       0.42      0.45      0.40        40\n",
      "\n",
      "-------------------------------------------------------------------------------------------------------------------\n"
     ]
    },
    {
     "name": "stderr",
     "output_type": "stream",
     "text": [
      "[Parallel(n_jobs=-1)]: Done   1 out of   1 | elapsed:  1.7min finished\n",
      "[Parallel(n_jobs=-1)]: Using backend LokyBackend with 12 concurrent workers.\n"
     ]
    },
    {
     "name": "stdout",
     "output_type": "stream",
     "text": [
      "K-Fold #5:\n",
      "              precision    recall  f1-score   support\n",
      "\n",
      "         0.0       0.46      0.55      0.50        20\n",
      "         1.0       0.44      0.35      0.39        20\n",
      "\n",
      "    accuracy                           0.45        40\n",
      "   macro avg       0.45      0.45      0.44        40\n",
      "weighted avg       0.45      0.45      0.44        40\n",
      "\n",
      "-------------------------------------------------------------------------------------------------------------------\n"
     ]
    },
    {
     "name": "stderr",
     "output_type": "stream",
     "text": [
      "[Parallel(n_jobs=-1)]: Done   1 out of   1 | elapsed:  1.7min finished\n",
      "[Parallel(n_jobs=-1)]: Using backend LokyBackend with 12 concurrent workers.\n"
     ]
    },
    {
     "name": "stdout",
     "output_type": "stream",
     "text": [
      "K-Fold #6:\n",
      "              precision    recall  f1-score   support\n",
      "\n",
      "         0.0       0.60      0.15      0.24        20\n",
      "         1.0       0.51      0.90      0.65        20\n",
      "\n",
      "    accuracy                           0.53        40\n",
      "   macro avg       0.56      0.53      0.45        40\n",
      "weighted avg       0.56      0.53      0.45        40\n",
      "\n",
      "-------------------------------------------------------------------------------------------------------------------\n"
     ]
    },
    {
     "name": "stderr",
     "output_type": "stream",
     "text": [
      "[Parallel(n_jobs=-1)]: Done   1 out of   1 | elapsed:  1.9min finished\n",
      "[Parallel(n_jobs=-1)]: Using backend LokyBackend with 12 concurrent workers.\n"
     ]
    },
    {
     "name": "stdout",
     "output_type": "stream",
     "text": [
      "K-Fold #7:\n",
      "              precision    recall  f1-score   support\n",
      "\n",
      "         0.0       0.40      0.10      0.16        20\n",
      "         1.0       0.49      0.85      0.62        20\n",
      "\n",
      "    accuracy                           0.48        40\n",
      "   macro avg       0.44      0.47      0.39        40\n",
      "weighted avg       0.44      0.47      0.39        40\n",
      "\n",
      "-------------------------------------------------------------------------------------------------------------------\n"
     ]
    },
    {
     "name": "stderr",
     "output_type": "stream",
     "text": [
      "[Parallel(n_jobs=-1)]: Done   1 out of   1 | elapsed:  1.8min finished\n",
      "[Parallel(n_jobs=-1)]: Using backend LokyBackend with 12 concurrent workers.\n"
     ]
    },
    {
     "name": "stdout",
     "output_type": "stream",
     "text": [
      "K-Fold #8:\n",
      "              precision    recall  f1-score   support\n",
      "\n",
      "         0.0       0.53      0.50      0.51        20\n",
      "         1.0       0.52      0.55      0.54        20\n",
      "\n",
      "    accuracy                           0.53        40\n",
      "   macro avg       0.53      0.53      0.52        40\n",
      "weighted avg       0.53      0.53      0.52        40\n",
      "\n",
      "-------------------------------------------------------------------------------------------------------------------\n"
     ]
    },
    {
     "name": "stderr",
     "output_type": "stream",
     "text": [
      "[Parallel(n_jobs=-1)]: Done   1 out of   1 | elapsed:  1.7min finished\n",
      "[Parallel(n_jobs=-1)]: Using backend LokyBackend with 12 concurrent workers.\n"
     ]
    },
    {
     "name": "stdout",
     "output_type": "stream",
     "text": [
      "K-Fold #9:\n",
      "              precision    recall  f1-score   support\n",
      "\n",
      "         0.0       0.41      0.55      0.47        20\n",
      "         1.0       0.31      0.20      0.24        20\n",
      "\n",
      "    accuracy                           0.38        40\n",
      "   macro avg       0.36      0.38      0.36        40\n",
      "weighted avg       0.36      0.38      0.36        40\n",
      "\n",
      "-------------------------------------------------------------------------------------------------------------------\n",
      "AVG: Scores = 0.49250000000000005 F1-Scores = 0.43376594143159275\n"
     ]
    },
    {
     "name": "stderr",
     "output_type": "stream",
     "text": [
      "[Parallel(n_jobs=-1)]: Done   1 out of   1 | elapsed:  1.9min finished\n",
      "[Parallel(n_jobs=-1)]: Using backend LokyBackend with 12 concurrent workers.\n"
     ]
    },
    {
     "name": "stdout",
     "output_type": "stream",
     "text": [
      "K-Fold #0:\n",
      "              precision    recall  f1-score   support\n",
      "\n",
      "         0.0       0.50      0.05      0.09        20\n",
      "         1.0       0.50      0.95      0.66        20\n",
      "\n",
      "    accuracy                           0.50        40\n",
      "   macro avg       0.50      0.50      0.37        40\n",
      "weighted avg       0.50      0.50      0.37        40\n",
      "\n",
      "-------------------------------------------------------------------------------------------------------------------\n"
     ]
    },
    {
     "name": "stderr",
     "output_type": "stream",
     "text": [
      "[Parallel(n_jobs=-1)]: Done   1 out of   1 | elapsed:  1.8min finished\n",
      "[Parallel(n_jobs=-1)]: Using backend LokyBackend with 12 concurrent workers.\n"
     ]
    },
    {
     "name": "stdout",
     "output_type": "stream",
     "text": [
      "K-Fold #1:\n",
      "              precision    recall  f1-score   support\n",
      "\n",
      "         0.0       0.67      0.20      0.31        20\n",
      "         1.0       0.53      0.90      0.67        20\n",
      "\n",
      "    accuracy                           0.55        40\n",
      "   macro avg       0.60      0.55      0.49        40\n",
      "weighted avg       0.60      0.55      0.49        40\n",
      "\n",
      "-------------------------------------------------------------------------------------------------------------------\n"
     ]
    },
    {
     "name": "stderr",
     "output_type": "stream",
     "text": [
      "[Parallel(n_jobs=-1)]: Done   1 out of   1 | elapsed:  1.7min finished\n",
      "c:\\ProgramData\\Anaconda3\\lib\\site-packages\\sklearn\\metrics\\_classification.py:1344: UndefinedMetricWarning: Precision and F-score are ill-defined and being set to 0.0 in labels with no predicted samples. Use `zero_division` parameter to control this behavior.\n",
      "  _warn_prf(average, modifier, msg_start, len(result))\n",
      "c:\\ProgramData\\Anaconda3\\lib\\site-packages\\sklearn\\metrics\\_classification.py:1344: UndefinedMetricWarning: Precision and F-score are ill-defined and being set to 0.0 in labels with no predicted samples. Use `zero_division` parameter to control this behavior.\n",
      "  _warn_prf(average, modifier, msg_start, len(result))\n",
      "c:\\ProgramData\\Anaconda3\\lib\\site-packages\\sklearn\\metrics\\_classification.py:1344: UndefinedMetricWarning: Precision and F-score are ill-defined and being set to 0.0 in labels with no predicted samples. Use `zero_division` parameter to control this behavior.\n",
      "  _warn_prf(average, modifier, msg_start, len(result))\n",
      "[Parallel(n_jobs=-1)]: Using backend LokyBackend with 12 concurrent workers.\n"
     ]
    },
    {
     "name": "stdout",
     "output_type": "stream",
     "text": [
      "K-Fold #2:\n",
      "              precision    recall  f1-score   support\n",
      "\n",
      "         0.0       0.00      0.00      0.00        20\n",
      "         1.0       0.50      1.00      0.67        20\n",
      "\n",
      "    accuracy                           0.50        40\n",
      "   macro avg       0.25      0.50      0.33        40\n",
      "weighted avg       0.25      0.50      0.33        40\n",
      "\n",
      "-------------------------------------------------------------------------------------------------------------------\n"
     ]
    },
    {
     "name": "stderr",
     "output_type": "stream",
     "text": [
      "[Parallel(n_jobs=-1)]: Done   1 out of   1 | elapsed:  1.9min finished\n",
      "[Parallel(n_jobs=-1)]: Using backend LokyBackend with 12 concurrent workers.\n"
     ]
    },
    {
     "name": "stdout",
     "output_type": "stream",
     "text": [
      "K-Fold #3:\n",
      "              precision    recall  f1-score   support\n",
      "\n",
      "         0.0       0.53      0.50      0.51        20\n",
      "         1.0       0.52      0.55      0.54        20\n",
      "\n",
      "    accuracy                           0.53        40\n",
      "   macro avg       0.53      0.53      0.52        40\n",
      "weighted avg       0.53      0.53      0.52        40\n",
      "\n",
      "-------------------------------------------------------------------------------------------------------------------\n"
     ]
    },
    {
     "name": "stderr",
     "output_type": "stream",
     "text": [
      "[Parallel(n_jobs=-1)]: Done   1 out of   1 | elapsed:  1.7min finished\n",
      "c:\\ProgramData\\Anaconda3\\lib\\site-packages\\sklearn\\metrics\\_classification.py:1344: UndefinedMetricWarning: Precision and F-score are ill-defined and being set to 0.0 in labels with no predicted samples. Use `zero_division` parameter to control this behavior.\n",
      "  _warn_prf(average, modifier, msg_start, len(result))\n",
      "c:\\ProgramData\\Anaconda3\\lib\\site-packages\\sklearn\\metrics\\_classification.py:1344: UndefinedMetricWarning: Precision and F-score are ill-defined and being set to 0.0 in labels with no predicted samples. Use `zero_division` parameter to control this behavior.\n",
      "  _warn_prf(average, modifier, msg_start, len(result))\n",
      "c:\\ProgramData\\Anaconda3\\lib\\site-packages\\sklearn\\metrics\\_classification.py:1344: UndefinedMetricWarning: Precision and F-score are ill-defined and being set to 0.0 in labels with no predicted samples. Use `zero_division` parameter to control this behavior.\n",
      "  _warn_prf(average, modifier, msg_start, len(result))\n",
      "[Parallel(n_jobs=-1)]: Using backend LokyBackend with 12 concurrent workers.\n"
     ]
    },
    {
     "name": "stdout",
     "output_type": "stream",
     "text": [
      "K-Fold #4:\n",
      "              precision    recall  f1-score   support\n",
      "\n",
      "         0.0       0.50      1.00      0.67        20\n",
      "         1.0       0.00      0.00      0.00        20\n",
      "\n",
      "    accuracy                           0.50        40\n",
      "   macro avg       0.25      0.50      0.33        40\n",
      "weighted avg       0.25      0.50      0.33        40\n",
      "\n",
      "-------------------------------------------------------------------------------------------------------------------\n"
     ]
    },
    {
     "name": "stderr",
     "output_type": "stream",
     "text": [
      "[Parallel(n_jobs=-1)]: Done   1 out of   1 | elapsed:  1.7min finished\n",
      "[Parallel(n_jobs=-1)]: Using backend LokyBackend with 12 concurrent workers.\n"
     ]
    },
    {
     "name": "stdout",
     "output_type": "stream",
     "text": [
      "K-Fold #5:\n",
      "              precision    recall  f1-score   support\n",
      "\n",
      "         0.0       0.49      0.95      0.64        20\n",
      "         1.0       0.00      0.00      0.00        20\n",
      "\n",
      "    accuracy                           0.48        40\n",
      "   macro avg       0.24      0.47      0.32        40\n",
      "weighted avg       0.24      0.47      0.32        40\n",
      "\n",
      "-------------------------------------------------------------------------------------------------------------------\n"
     ]
    },
    {
     "name": "stderr",
     "output_type": "stream",
     "text": [
      "[Parallel(n_jobs=-1)]: Done   1 out of   1 | elapsed:  1.7min finished\n",
      "[Parallel(n_jobs=-1)]: Using backend LokyBackend with 12 concurrent workers.\n"
     ]
    },
    {
     "name": "stdout",
     "output_type": "stream",
     "text": [
      "K-Fold #6:\n",
      "              precision    recall  f1-score   support\n",
      "\n",
      "         0.0       0.59      0.65      0.62        20\n",
      "         1.0       0.61      0.55      0.58        20\n",
      "\n",
      "    accuracy                           0.60        40\n",
      "   macro avg       0.60      0.60      0.60        40\n",
      "weighted avg       0.60      0.60      0.60        40\n",
      "\n",
      "-------------------------------------------------------------------------------------------------------------------\n"
     ]
    },
    {
     "name": "stderr",
     "output_type": "stream",
     "text": [
      "[Parallel(n_jobs=-1)]: Done   1 out of   1 | elapsed:  1.8min finished\n",
      "[Parallel(n_jobs=-1)]: Using backend LokyBackend with 12 concurrent workers.\n"
     ]
    },
    {
     "name": "stdout",
     "output_type": "stream",
     "text": [
      "K-Fold #7:\n",
      "              precision    recall  f1-score   support\n",
      "\n",
      "         0.0       0.50      0.95      0.66        20\n",
      "         1.0       0.50      0.05      0.09        20\n",
      "\n",
      "    accuracy                           0.50        40\n",
      "   macro avg       0.50      0.50      0.37        40\n",
      "weighted avg       0.50      0.50      0.37        40\n",
      "\n",
      "-------------------------------------------------------------------------------------------------------------------\n"
     ]
    },
    {
     "name": "stderr",
     "output_type": "stream",
     "text": [
      "[Parallel(n_jobs=-1)]: Done   1 out of   1 | elapsed:  1.8min finished\n",
      "c:\\ProgramData\\Anaconda3\\lib\\site-packages\\sklearn\\metrics\\_classification.py:1344: UndefinedMetricWarning: Precision and F-score are ill-defined and being set to 0.0 in labels with no predicted samples. Use `zero_division` parameter to control this behavior.\n",
      "  _warn_prf(average, modifier, msg_start, len(result))\n",
      "c:\\ProgramData\\Anaconda3\\lib\\site-packages\\sklearn\\metrics\\_classification.py:1344: UndefinedMetricWarning: Precision and F-score are ill-defined and being set to 0.0 in labels with no predicted samples. Use `zero_division` parameter to control this behavior.\n",
      "  _warn_prf(average, modifier, msg_start, len(result))\n",
      "c:\\ProgramData\\Anaconda3\\lib\\site-packages\\sklearn\\metrics\\_classification.py:1344: UndefinedMetricWarning: Precision and F-score are ill-defined and being set to 0.0 in labels with no predicted samples. Use `zero_division` parameter to control this behavior.\n",
      "  _warn_prf(average, modifier, msg_start, len(result))\n",
      "[Parallel(n_jobs=-1)]: Using backend LokyBackend with 12 concurrent workers.\n"
     ]
    },
    {
     "name": "stdout",
     "output_type": "stream",
     "text": [
      "K-Fold #8:\n",
      "              precision    recall  f1-score   support\n",
      "\n",
      "         0.0       0.00      0.00      0.00        20\n",
      "         1.0       0.50      1.00      0.67        20\n",
      "\n",
      "    accuracy                           0.50        40\n",
      "   macro avg       0.25      0.50      0.33        40\n",
      "weighted avg       0.25      0.50      0.33        40\n",
      "\n",
      "-------------------------------------------------------------------------------------------------------------------\n"
     ]
    },
    {
     "name": "stderr",
     "output_type": "stream",
     "text": [
      "[Parallel(n_jobs=-1)]: Done   1 out of   1 | elapsed:  1.8min finished\n",
      "c:\\ProgramData\\Anaconda3\\lib\\site-packages\\sklearn\\metrics\\_classification.py:1344: UndefinedMetricWarning: Precision and F-score are ill-defined and being set to 0.0 in labels with no predicted samples. Use `zero_division` parameter to control this behavior.\n",
      "  _warn_prf(average, modifier, msg_start, len(result))\n",
      "c:\\ProgramData\\Anaconda3\\lib\\site-packages\\sklearn\\metrics\\_classification.py:1344: UndefinedMetricWarning: Precision and F-score are ill-defined and being set to 0.0 in labels with no predicted samples. Use `zero_division` parameter to control this behavior.\n",
      "  _warn_prf(average, modifier, msg_start, len(result))\n",
      "c:\\ProgramData\\Anaconda3\\lib\\site-packages\\sklearn\\metrics\\_classification.py:1344: UndefinedMetricWarning: Precision and F-score are ill-defined and being set to 0.0 in labels with no predicted samples. Use `zero_division` parameter to control this behavior.\n",
      "  _warn_prf(average, modifier, msg_start, len(result))\n",
      "[Parallel(n_jobs=-1)]: Using backend LokyBackend with 12 concurrent workers.\n"
     ]
    },
    {
     "name": "stdout",
     "output_type": "stream",
     "text": [
      "K-Fold #9:\n",
      "              precision    recall  f1-score   support\n",
      "\n",
      "         0.0       0.00      0.00      0.00        20\n",
      "         1.0       0.50      1.00      0.67        20\n",
      "\n",
      "    accuracy                           0.50        40\n",
      "   macro avg       0.25      0.50      0.33        40\n",
      "weighted avg       0.25      0.50      0.33        40\n",
      "\n",
      "-------------------------------------------------------------------------------------------------------------------\n",
      "AVG: Scores = 0.515 F1-Scores = 0.40123286565915217\n"
     ]
    },
    {
     "name": "stderr",
     "output_type": "stream",
     "text": [
      "[Parallel(n_jobs=-1)]: Done   1 out of   1 | elapsed:  1.8min finished\n",
      "[Parallel(n_jobs=-1)]: Using backend LokyBackend with 12 concurrent workers.\n"
     ]
    },
    {
     "name": "stdout",
     "output_type": "stream",
     "text": [
      "K-Fold #0:\n",
      "              precision    recall  f1-score   support\n",
      "\n",
      "         0.0       0.51      1.00      0.68        20\n",
      "         1.0       1.00      0.05      0.10        20\n",
      "\n",
      "    accuracy                           0.53        40\n",
      "   macro avg       0.76      0.53      0.39        40\n",
      "weighted avg       0.76      0.53      0.39        40\n",
      "\n",
      "-------------------------------------------------------------------------------------------------------------------\n"
     ]
    },
    {
     "name": "stderr",
     "output_type": "stream",
     "text": [
      "[Parallel(n_jobs=-1)]: Done   1 out of   1 | elapsed:  1.7min finished\n",
      "[Parallel(n_jobs=-1)]: Using backend LokyBackend with 12 concurrent workers.\n"
     ]
    },
    {
     "name": "stdout",
     "output_type": "stream",
     "text": [
      "K-Fold #1:\n",
      "              precision    recall  f1-score   support\n",
      "\n",
      "         0.0       1.00      0.10      0.18        20\n",
      "         1.0       0.53      1.00      0.69        20\n",
      "\n",
      "    accuracy                           0.55        40\n",
      "   macro avg       0.76      0.55      0.44        40\n",
      "weighted avg       0.76      0.55      0.44        40\n",
      "\n",
      "-------------------------------------------------------------------------------------------------------------------\n"
     ]
    },
    {
     "name": "stderr",
     "output_type": "stream",
     "text": [
      "[Parallel(n_jobs=-1)]: Done   1 out of   1 | elapsed:  1.9min finished\n",
      "[Parallel(n_jobs=-1)]: Using backend LokyBackend with 12 concurrent workers.\n"
     ]
    },
    {
     "name": "stdout",
     "output_type": "stream",
     "text": [
      "K-Fold #2:\n",
      "              precision    recall  f1-score   support\n",
      "\n",
      "         0.0       0.44      0.60      0.51        20\n",
      "         1.0       0.38      0.25      0.30        20\n",
      "\n",
      "    accuracy                           0.42        40\n",
      "   macro avg       0.41      0.42      0.41        40\n",
      "weighted avg       0.41      0.42      0.41        40\n",
      "\n",
      "-------------------------------------------------------------------------------------------------------------------\n"
     ]
    },
    {
     "name": "stderr",
     "output_type": "stream",
     "text": [
      "[Parallel(n_jobs=-1)]: Done   1 out of   1 | elapsed:  1.8min finished\n",
      "[Parallel(n_jobs=-1)]: Using backend LokyBackend with 12 concurrent workers.\n"
     ]
    },
    {
     "name": "stdout",
     "output_type": "stream",
     "text": [
      "K-Fold #3:\n",
      "              precision    recall  f1-score   support\n",
      "\n",
      "         0.0       0.46      0.85      0.60        20\n",
      "         1.0       0.00      0.00      0.00        20\n",
      "\n",
      "    accuracy                           0.42        40\n",
      "   macro avg       0.23      0.42      0.30        40\n",
      "weighted avg       0.23      0.42      0.30        40\n",
      "\n",
      "-------------------------------------------------------------------------------------------------------------------\n"
     ]
    },
    {
     "name": "stderr",
     "output_type": "stream",
     "text": [
      "[Parallel(n_jobs=-1)]: Done   1 out of   1 | elapsed:  1.7min finished\n",
      "[Parallel(n_jobs=-1)]: Using backend LokyBackend with 12 concurrent workers.\n"
     ]
    },
    {
     "name": "stdout",
     "output_type": "stream",
     "text": [
      "K-Fold #4:\n",
      "              precision    recall  f1-score   support\n",
      "\n",
      "         0.0       0.00      0.00      0.00        20\n",
      "         1.0       0.49      0.95      0.64        20\n",
      "\n",
      "    accuracy                           0.48        40\n",
      "   macro avg       0.24      0.47      0.32        40\n",
      "weighted avg       0.24      0.47      0.32        40\n",
      "\n",
      "-------------------------------------------------------------------------------------------------------------------\n"
     ]
    },
    {
     "name": "stderr",
     "output_type": "stream",
     "text": [
      "[Parallel(n_jobs=-1)]: Done   1 out of   1 | elapsed:  1.7min finished\n",
      "[Parallel(n_jobs=-1)]: Using backend LokyBackend with 12 concurrent workers.\n"
     ]
    },
    {
     "name": "stdout",
     "output_type": "stream",
     "text": [
      "K-Fold #5:\n",
      "              precision    recall  f1-score   support\n",
      "\n",
      "         0.0       0.46      0.65      0.54        20\n",
      "         1.0       0.42      0.25      0.31        20\n",
      "\n",
      "    accuracy                           0.45        40\n",
      "   macro avg       0.44      0.45      0.43        40\n",
      "weighted avg       0.44      0.45      0.43        40\n",
      "\n",
      "-------------------------------------------------------------------------------------------------------------------\n"
     ]
    },
    {
     "name": "stderr",
     "output_type": "stream",
     "text": [
      "[Parallel(n_jobs=-1)]: Done   1 out of   1 | elapsed:  1.9min finished\n",
      "[Parallel(n_jobs=-1)]: Using backend LokyBackend with 12 concurrent workers.\n"
     ]
    },
    {
     "name": "stdout",
     "output_type": "stream",
     "text": [
      "K-Fold #6:\n",
      "              precision    recall  f1-score   support\n",
      "\n",
      "         0.0       0.50      0.75      0.60        20\n",
      "         1.0       0.50      0.25      0.33        20\n",
      "\n",
      "    accuracy                           0.50        40\n",
      "   macro avg       0.50      0.50      0.47        40\n",
      "weighted avg       0.50      0.50      0.47        40\n",
      "\n",
      "-------------------------------------------------------------------------------------------------------------------\n"
     ]
    },
    {
     "name": "stderr",
     "output_type": "stream",
     "text": [
      "[Parallel(n_jobs=-1)]: Done   1 out of   1 | elapsed:  1.9min finished\n",
      "[Parallel(n_jobs=-1)]: Using backend LokyBackend with 12 concurrent workers.\n"
     ]
    },
    {
     "name": "stdout",
     "output_type": "stream",
     "text": [
      "K-Fold #7:\n",
      "              precision    recall  f1-score   support\n",
      "\n",
      "         0.0       0.54      0.65      0.59        20\n",
      "         1.0       0.56      0.45      0.50        20\n",
      "\n",
      "    accuracy                           0.55        40\n",
      "   macro avg       0.55      0.55      0.55        40\n",
      "weighted avg       0.55      0.55      0.55        40\n",
      "\n",
      "-------------------------------------------------------------------------------------------------------------------\n"
     ]
    },
    {
     "name": "stderr",
     "output_type": "stream",
     "text": [
      "[Parallel(n_jobs=-1)]: Done   1 out of   1 | elapsed:  1.7min finished\n",
      "[Parallel(n_jobs=-1)]: Using backend LokyBackend with 12 concurrent workers.\n"
     ]
    },
    {
     "name": "stdout",
     "output_type": "stream",
     "text": [
      "K-Fold #8:\n",
      "              precision    recall  f1-score   support\n",
      "\n",
      "         0.0       0.59      0.80      0.68        20\n",
      "         1.0       0.69      0.45      0.55        20\n",
      "\n",
      "    accuracy                           0.62        40\n",
      "   macro avg       0.64      0.62      0.61        40\n",
      "weighted avg       0.64      0.62      0.61        40\n",
      "\n",
      "-------------------------------------------------------------------------------------------------------------------\n"
     ]
    },
    {
     "name": "stderr",
     "output_type": "stream",
     "text": [
      "[Parallel(n_jobs=-1)]: Done   1 out of   1 | elapsed:  1.8min finished\n",
      "[Parallel(n_jobs=-1)]: Using backend LokyBackend with 12 concurrent workers.\n"
     ]
    },
    {
     "name": "stdout",
     "output_type": "stream",
     "text": [
      "K-Fold #9:\n",
      "              precision    recall  f1-score   support\n",
      "\n",
      "         0.0       0.52      0.75      0.61        20\n",
      "         1.0       0.55      0.30      0.39        20\n",
      "\n",
      "    accuracy                           0.53        40\n",
      "   macro avg       0.53      0.53      0.50        40\n",
      "weighted avg       0.53      0.53      0.50        40\n",
      "\n",
      "-------------------------------------------------------------------------------------------------------------------\n",
      "AVG: Scores = 0.5050000000000001 F1-Scores = 0.4401480774547065\n"
     ]
    },
    {
     "name": "stderr",
     "output_type": "stream",
     "text": [
      "[Parallel(n_jobs=-1)]: Done   1 out of   1 | elapsed:  1.9min finished\n",
      "[Parallel(n_jobs=-1)]: Using backend LokyBackend with 12 concurrent workers.\n"
     ]
    },
    {
     "name": "stdout",
     "output_type": "stream",
     "text": [
      "K-Fold #0:\n",
      "              precision    recall  f1-score   support\n",
      "\n",
      "         0.0       0.50      0.50      0.50        20\n",
      "         1.0       0.50      0.50      0.50        20\n",
      "\n",
      "    accuracy                           0.50        40\n",
      "   macro avg       0.50      0.50      0.50        40\n",
      "weighted avg       0.50      0.50      0.50        40\n",
      "\n",
      "-------------------------------------------------------------------------------------------------------------------\n"
     ]
    },
    {
     "name": "stderr",
     "output_type": "stream",
     "text": [
      "[Parallel(n_jobs=-1)]: Done   1 out of   1 | elapsed:  1.7min finished\n",
      "[Parallel(n_jobs=-1)]: Using backend LokyBackend with 12 concurrent workers.\n"
     ]
    },
    {
     "name": "stdout",
     "output_type": "stream",
     "text": [
      "K-Fold #1:\n",
      "              precision    recall  f1-score   support\n",
      "\n",
      "         0.0       0.50      0.20      0.29        20\n",
      "         1.0       0.50      0.80      0.62        20\n",
      "\n",
      "    accuracy                           0.50        40\n",
      "   macro avg       0.50      0.50      0.45        40\n",
      "weighted avg       0.50      0.50      0.45        40\n",
      "\n",
      "-------------------------------------------------------------------------------------------------------------------\n"
     ]
    },
    {
     "name": "stderr",
     "output_type": "stream",
     "text": [
      "[Parallel(n_jobs=-1)]: Done   1 out of   1 | elapsed:  1.7min finished\n",
      "[Parallel(n_jobs=-1)]: Using backend LokyBackend with 12 concurrent workers.\n"
     ]
    },
    {
     "name": "stdout",
     "output_type": "stream",
     "text": [
      "K-Fold #2:\n",
      "              precision    recall  f1-score   support\n",
      "\n",
      "         0.0       0.50      0.70      0.58        20\n",
      "         1.0       0.50      0.30      0.37        20\n",
      "\n",
      "    accuracy                           0.50        40\n",
      "   macro avg       0.50      0.50      0.48        40\n",
      "weighted avg       0.50      0.50      0.48        40\n",
      "\n",
      "-------------------------------------------------------------------------------------------------------------------\n"
     ]
    },
    {
     "name": "stderr",
     "output_type": "stream",
     "text": [
      "[Parallel(n_jobs=-1)]: Done   1 out of   1 | elapsed:  1.7min finished\n",
      "[Parallel(n_jobs=-1)]: Using backend LokyBackend with 12 concurrent workers.\n"
     ]
    },
    {
     "name": "stdout",
     "output_type": "stream",
     "text": [
      "K-Fold #3:\n",
      "              precision    recall  f1-score   support\n",
      "\n",
      "         0.0       0.50      0.75      0.60        20\n",
      "         1.0       0.50      0.25      0.33        20\n",
      "\n",
      "    accuracy                           0.50        40\n",
      "   macro avg       0.50      0.50      0.47        40\n",
      "weighted avg       0.50      0.50      0.47        40\n",
      "\n",
      "-------------------------------------------------------------------------------------------------------------------\n"
     ]
    },
    {
     "name": "stderr",
     "output_type": "stream",
     "text": [
      "[Parallel(n_jobs=-1)]: Done   1 out of   1 | elapsed:  1.7min finished\n",
      "c:\\ProgramData\\Anaconda3\\lib\\site-packages\\sklearn\\metrics\\_classification.py:1344: UndefinedMetricWarning: Precision and F-score are ill-defined and being set to 0.0 in labels with no predicted samples. Use `zero_division` parameter to control this behavior.\n",
      "  _warn_prf(average, modifier, msg_start, len(result))\n",
      "c:\\ProgramData\\Anaconda3\\lib\\site-packages\\sklearn\\metrics\\_classification.py:1344: UndefinedMetricWarning: Precision and F-score are ill-defined and being set to 0.0 in labels with no predicted samples. Use `zero_division` parameter to control this behavior.\n",
      "  _warn_prf(average, modifier, msg_start, len(result))\n",
      "c:\\ProgramData\\Anaconda3\\lib\\site-packages\\sklearn\\metrics\\_classification.py:1344: UndefinedMetricWarning: Precision and F-score are ill-defined and being set to 0.0 in labels with no predicted samples. Use `zero_division` parameter to control this behavior.\n",
      "  _warn_prf(average, modifier, msg_start, len(result))\n",
      "[Parallel(n_jobs=-1)]: Using backend LokyBackend with 12 concurrent workers.\n"
     ]
    },
    {
     "name": "stdout",
     "output_type": "stream",
     "text": [
      "K-Fold #4:\n",
      "              precision    recall  f1-score   support\n",
      "\n",
      "         0.0       0.50      1.00      0.67        20\n",
      "         1.0       0.00      0.00      0.00        20\n",
      "\n",
      "    accuracy                           0.50        40\n",
      "   macro avg       0.25      0.50      0.33        40\n",
      "weighted avg       0.25      0.50      0.33        40\n",
      "\n",
      "-------------------------------------------------------------------------------------------------------------------\n"
     ]
    },
    {
     "name": "stderr",
     "output_type": "stream",
     "text": [
      "[Parallel(n_jobs=-1)]: Done   1 out of   1 | elapsed:  1.8min finished\n",
      "[Parallel(n_jobs=-1)]: Using backend LokyBackend with 12 concurrent workers.\n"
     ]
    },
    {
     "name": "stdout",
     "output_type": "stream",
     "text": [
      "K-Fold #5:\n",
      "              precision    recall  f1-score   support\n",
      "\n",
      "         0.0       0.42      0.55      0.48        20\n",
      "         1.0       0.36      0.25      0.29        20\n",
      "\n",
      "    accuracy                           0.40        40\n",
      "   macro avg       0.39      0.40      0.39        40\n",
      "weighted avg       0.39      0.40      0.39        40\n",
      "\n",
      "-------------------------------------------------------------------------------------------------------------------\n"
     ]
    },
    {
     "name": "stderr",
     "output_type": "stream",
     "text": [
      "[Parallel(n_jobs=-1)]: Done   1 out of   1 | elapsed:  1.7min finished\n",
      "[Parallel(n_jobs=-1)]: Using backend LokyBackend with 12 concurrent workers.\n"
     ]
    },
    {
     "name": "stdout",
     "output_type": "stream",
     "text": [
      "K-Fold #6:\n",
      "              precision    recall  f1-score   support\n",
      "\n",
      "         0.0       0.58      0.75      0.65        20\n",
      "         1.0       0.64      0.45      0.53        20\n",
      "\n",
      "    accuracy                           0.60        40\n",
      "   macro avg       0.61      0.60      0.59        40\n",
      "weighted avg       0.61      0.60      0.59        40\n",
      "\n",
      "-------------------------------------------------------------------------------------------------------------------\n"
     ]
    },
    {
     "name": "stderr",
     "output_type": "stream",
     "text": [
      "[Parallel(n_jobs=-1)]: Done   1 out of   1 | elapsed:  1.7min finished\n",
      "[Parallel(n_jobs=-1)]: Using backend LokyBackend with 12 concurrent workers.\n"
     ]
    },
    {
     "name": "stdout",
     "output_type": "stream",
     "text": [
      "K-Fold #7:\n",
      "              precision    recall  f1-score   support\n",
      "\n",
      "         0.0       0.50      0.05      0.09        20\n",
      "         1.0       0.50      0.95      0.66        20\n",
      "\n",
      "    accuracy                           0.50        40\n",
      "   macro avg       0.50      0.50      0.37        40\n",
      "weighted avg       0.50      0.50      0.37        40\n",
      "\n",
      "-------------------------------------------------------------------------------------------------------------------\n"
     ]
    },
    {
     "name": "stderr",
     "output_type": "stream",
     "text": [
      "[Parallel(n_jobs=-1)]: Done   1 out of   1 | elapsed:  1.9min finished\n",
      "c:\\ProgramData\\Anaconda3\\lib\\site-packages\\sklearn\\metrics\\_classification.py:1344: UndefinedMetricWarning: Precision and F-score are ill-defined and being set to 0.0 in labels with no predicted samples. Use `zero_division` parameter to control this behavior.\n",
      "  _warn_prf(average, modifier, msg_start, len(result))\n",
      "c:\\ProgramData\\Anaconda3\\lib\\site-packages\\sklearn\\metrics\\_classification.py:1344: UndefinedMetricWarning: Precision and F-score are ill-defined and being set to 0.0 in labels with no predicted samples. Use `zero_division` parameter to control this behavior.\n",
      "  _warn_prf(average, modifier, msg_start, len(result))\n",
      "c:\\ProgramData\\Anaconda3\\lib\\site-packages\\sklearn\\metrics\\_classification.py:1344: UndefinedMetricWarning: Precision and F-score are ill-defined and being set to 0.0 in labels with no predicted samples. Use `zero_division` parameter to control this behavior.\n",
      "  _warn_prf(average, modifier, msg_start, len(result))\n",
      "[Parallel(n_jobs=-1)]: Using backend LokyBackend with 12 concurrent workers.\n"
     ]
    },
    {
     "name": "stdout",
     "output_type": "stream",
     "text": [
      "K-Fold #8:\n",
      "              precision    recall  f1-score   support\n",
      "\n",
      "         0.0       0.00      0.00      0.00        20\n",
      "         1.0       0.50      1.00      0.67        20\n",
      "\n",
      "    accuracy                           0.50        40\n",
      "   macro avg       0.25      0.50      0.33        40\n",
      "weighted avg       0.25      0.50      0.33        40\n",
      "\n",
      "-------------------------------------------------------------------------------------------------------------------\n"
     ]
    },
    {
     "name": "stderr",
     "output_type": "stream",
     "text": [
      "[Parallel(n_jobs=-1)]: Done   1 out of   1 | elapsed:  2.0min finished\n",
      "[Parallel(n_jobs=-1)]: Using backend LokyBackend with 12 concurrent workers.\n"
     ]
    },
    {
     "name": "stdout",
     "output_type": "stream",
     "text": [
      "K-Fold #9:\n",
      "              precision    recall  f1-score   support\n",
      "\n",
      "         0.0       0.46      0.65      0.54        20\n",
      "         1.0       0.42      0.25      0.31        20\n",
      "\n",
      "    accuracy                           0.45        40\n",
      "   macro avg       0.44      0.45      0.43        40\n",
      "weighted avg       0.44      0.45      0.43        40\n",
      "\n",
      "-------------------------------------------------------------------------------------------------------------------\n",
      "AVG: Scores = 0.495 F1-Scores = 0.4340155633420582\n"
     ]
    },
    {
     "name": "stderr",
     "output_type": "stream",
     "text": [
      "[Parallel(n_jobs=-1)]: Done   1 out of   1 | elapsed:  1.7min finished\n",
      "[Parallel(n_jobs=-1)]: Using backend LokyBackend with 12 concurrent workers.\n"
     ]
    },
    {
     "name": "stdout",
     "output_type": "stream",
     "text": [
      "K-Fold #0:\n",
      "              precision    recall  f1-score   support\n",
      "\n",
      "         0.0       0.47      0.85      0.61        20\n",
      "         1.0       0.25      0.05      0.08        20\n",
      "\n",
      "    accuracy                           0.45        40\n",
      "   macro avg       0.36      0.45      0.35        40\n",
      "weighted avg       0.36      0.45      0.35        40\n",
      "\n",
      "-------------------------------------------------------------------------------------------------------------------\n"
     ]
    },
    {
     "name": "stderr",
     "output_type": "stream",
     "text": [
      "[Parallel(n_jobs=-1)]: Done   1 out of   1 | elapsed:  1.8min finished\n",
      "[Parallel(n_jobs=-1)]: Using backend LokyBackend with 12 concurrent workers.\n"
     ]
    },
    {
     "name": "stdout",
     "output_type": "stream",
     "text": [
      "K-Fold #1:\n",
      "              precision    recall  f1-score   support\n",
      "\n",
      "         0.0       0.51      0.95      0.67        20\n",
      "         1.0       0.67      0.10      0.17        20\n",
      "\n",
      "    accuracy                           0.53        40\n",
      "   macro avg       0.59      0.53      0.42        40\n",
      "weighted avg       0.59      0.53      0.42        40\n",
      "\n",
      "-------------------------------------------------------------------------------------------------------------------\n"
     ]
    },
    {
     "name": "stderr",
     "output_type": "stream",
     "text": [
      "[Parallel(n_jobs=-1)]: Done   1 out of   1 | elapsed:  1.9min finished\n",
      "[Parallel(n_jobs=-1)]: Using backend LokyBackend with 12 concurrent workers.\n"
     ]
    },
    {
     "name": "stdout",
     "output_type": "stream",
     "text": [
      "K-Fold #2:\n",
      "              precision    recall  f1-score   support\n",
      "\n",
      "         0.0       1.00      0.05      0.10        20\n",
      "         1.0       0.51      1.00      0.68        20\n",
      "\n",
      "    accuracy                           0.53        40\n",
      "   macro avg       0.76      0.53      0.39        40\n",
      "weighted avg       0.76      0.53      0.39        40\n",
      "\n",
      "-------------------------------------------------------------------------------------------------------------------\n"
     ]
    },
    {
     "name": "stderr",
     "output_type": "stream",
     "text": [
      "[Parallel(n_jobs=-1)]: Done   1 out of   1 | elapsed:  1.7min finished\n",
      "[Parallel(n_jobs=-1)]: Using backend LokyBackend with 12 concurrent workers.\n"
     ]
    },
    {
     "name": "stdout",
     "output_type": "stream",
     "text": [
      "K-Fold #3:\n",
      "              precision    recall  f1-score   support\n",
      "\n",
      "         0.0       0.50      0.05      0.09        20\n",
      "         1.0       0.50      0.95      0.66        20\n",
      "\n",
      "    accuracy                           0.50        40\n",
      "   macro avg       0.50      0.50      0.37        40\n",
      "weighted avg       0.50      0.50      0.37        40\n",
      "\n",
      "-------------------------------------------------------------------------------------------------------------------\n"
     ]
    },
    {
     "name": "stderr",
     "output_type": "stream",
     "text": [
      "[Parallel(n_jobs=-1)]: Done   1 out of   1 | elapsed:  1.7min finished\n",
      "[Parallel(n_jobs=-1)]: Using backend LokyBackend with 12 concurrent workers.\n"
     ]
    },
    {
     "name": "stdout",
     "output_type": "stream",
     "text": [
      "K-Fold #4:\n",
      "              precision    recall  f1-score   support\n",
      "\n",
      "         0.0       1.00      0.10      0.18        20\n",
      "         1.0       0.53      1.00      0.69        20\n",
      "\n",
      "    accuracy                           0.55        40\n",
      "   macro avg       0.76      0.55      0.44        40\n",
      "weighted avg       0.76      0.55      0.44        40\n",
      "\n",
      "-------------------------------------------------------------------------------------------------------------------\n"
     ]
    },
    {
     "name": "stderr",
     "output_type": "stream",
     "text": [
      "[Parallel(n_jobs=-1)]: Done   1 out of   1 | elapsed:  1.9min finished\n",
      "[Parallel(n_jobs=-1)]: Using backend LokyBackend with 12 concurrent workers.\n"
     ]
    },
    {
     "name": "stdout",
     "output_type": "stream",
     "text": [
      "K-Fold #5:\n",
      "              precision    recall  f1-score   support\n",
      "\n",
      "         0.0       0.58      0.75      0.65        20\n",
      "         1.0       0.64      0.45      0.53        20\n",
      "\n",
      "    accuracy                           0.60        40\n",
      "   macro avg       0.61      0.60      0.59        40\n",
      "weighted avg       0.61      0.60      0.59        40\n",
      "\n",
      "-------------------------------------------------------------------------------------------------------------------\n"
     ]
    },
    {
     "name": "stderr",
     "output_type": "stream",
     "text": [
      "[Parallel(n_jobs=-1)]: Done   1 out of   1 | elapsed:  1.8min finished\n",
      "[Parallel(n_jobs=-1)]: Using backend LokyBackend with 12 concurrent workers.\n"
     ]
    },
    {
     "name": "stdout",
     "output_type": "stream",
     "text": [
      "K-Fold #6:\n",
      "              precision    recall  f1-score   support\n",
      "\n",
      "         0.0       0.33      0.05      0.09        20\n",
      "         1.0       0.49      0.90      0.63        20\n",
      "\n",
      "    accuracy                           0.48        40\n",
      "   macro avg       0.41      0.48      0.36        40\n",
      "weighted avg       0.41      0.47      0.36        40\n",
      "\n",
      "-------------------------------------------------------------------------------------------------------------------\n"
     ]
    },
    {
     "name": "stderr",
     "output_type": "stream",
     "text": [
      "[Parallel(n_jobs=-1)]: Done   1 out of   1 | elapsed:  1.8min finished\n",
      "c:\\ProgramData\\Anaconda3\\lib\\site-packages\\sklearn\\metrics\\_classification.py:1344: UndefinedMetricWarning: Precision and F-score are ill-defined and being set to 0.0 in labels with no predicted samples. Use `zero_division` parameter to control this behavior.\n",
      "  _warn_prf(average, modifier, msg_start, len(result))\n",
      "c:\\ProgramData\\Anaconda3\\lib\\site-packages\\sklearn\\metrics\\_classification.py:1344: UndefinedMetricWarning: Precision and F-score are ill-defined and being set to 0.0 in labels with no predicted samples. Use `zero_division` parameter to control this behavior.\n",
      "  _warn_prf(average, modifier, msg_start, len(result))\n",
      "c:\\ProgramData\\Anaconda3\\lib\\site-packages\\sklearn\\metrics\\_classification.py:1344: UndefinedMetricWarning: Precision and F-score are ill-defined and being set to 0.0 in labels with no predicted samples. Use `zero_division` parameter to control this behavior.\n",
      "  _warn_prf(average, modifier, msg_start, len(result))\n",
      "[Parallel(n_jobs=-1)]: Using backend LokyBackend with 12 concurrent workers.\n"
     ]
    },
    {
     "name": "stdout",
     "output_type": "stream",
     "text": [
      "K-Fold #7:\n",
      "              precision    recall  f1-score   support\n",
      "\n",
      "         0.0       0.50      1.00      0.67        20\n",
      "         1.0       0.00      0.00      0.00        20\n",
      "\n",
      "    accuracy                           0.50        40\n",
      "   macro avg       0.25      0.50      0.33        40\n",
      "weighted avg       0.25      0.50      0.33        40\n",
      "\n",
      "-------------------------------------------------------------------------------------------------------------------\n"
     ]
    },
    {
     "name": "stderr",
     "output_type": "stream",
     "text": [
      "[Parallel(n_jobs=-1)]: Done   1 out of   1 | elapsed:  1.9min finished\n",
      "[Parallel(n_jobs=-1)]: Using backend LokyBackend with 12 concurrent workers.\n"
     ]
    },
    {
     "name": "stdout",
     "output_type": "stream",
     "text": [
      "K-Fold #8:\n",
      "              precision    recall  f1-score   support\n",
      "\n",
      "         0.0       0.41      0.45      0.43        20\n",
      "         1.0       0.39      0.35      0.37        20\n",
      "\n",
      "    accuracy                           0.40        40\n",
      "   macro avg       0.40      0.40      0.40        40\n",
      "weighted avg       0.40      0.40      0.40        40\n",
      "\n",
      "-------------------------------------------------------------------------------------------------------------------\n"
     ]
    },
    {
     "name": "stderr",
     "output_type": "stream",
     "text": [
      "[Parallel(n_jobs=-1)]: Done   1 out of   1 | elapsed:  1.7min finished\n",
      "[Parallel(n_jobs=-1)]: Using backend LokyBackend with 12 concurrent workers.\n"
     ]
    },
    {
     "name": "stdout",
     "output_type": "stream",
     "text": [
      "K-Fold #9:\n",
      "              precision    recall  f1-score   support\n",
      "\n",
      "         0.0       0.52      0.70      0.60        20\n",
      "         1.0       0.54      0.35      0.42        20\n",
      "\n",
      "    accuracy                           0.53        40\n",
      "   macro avg       0.53      0.52      0.51        40\n",
      "weighted avg       0.53      0.53      0.51        40\n",
      "\n",
      "-------------------------------------------------------------------------------------------------------------------\n",
      "AVG: Scores = 0.5050000000000001 F1-Scores = 0.4152791178154186\n"
     ]
    },
    {
     "name": "stderr",
     "output_type": "stream",
     "text": [
      "[Parallel(n_jobs=-1)]: Done   1 out of   1 | elapsed:  1.7min finished\n",
      "[Parallel(n_jobs=-1)]: Using backend LokyBackend with 12 concurrent workers.\n"
     ]
    },
    {
     "name": "stdout",
     "output_type": "stream",
     "text": [
      "K-Fold #0:\n",
      "              precision    recall  f1-score   support\n",
      "\n",
      "         0.0       0.50      0.05      0.09        20\n",
      "         1.0       0.50      0.95      0.66        20\n",
      "\n",
      "    accuracy                           0.50        40\n",
      "   macro avg       0.50      0.50      0.37        40\n",
      "weighted avg       0.50      0.50      0.37        40\n",
      "\n",
      "-------------------------------------------------------------------------------------------------------------------\n"
     ]
    },
    {
     "name": "stderr",
     "output_type": "stream",
     "text": [
      "[Parallel(n_jobs=-1)]: Done   1 out of   1 | elapsed:  1.7min finished\n",
      "[Parallel(n_jobs=-1)]: Using backend LokyBackend with 12 concurrent workers.\n"
     ]
    },
    {
     "name": "stdout",
     "output_type": "stream",
     "text": [
      "K-Fold #1:\n",
      "              precision    recall  f1-score   support\n",
      "\n",
      "         0.0       0.52      0.60      0.56        20\n",
      "         1.0       0.53      0.45      0.49        20\n",
      "\n",
      "    accuracy                           0.53        40\n",
      "   macro avg       0.53      0.53      0.52        40\n",
      "weighted avg       0.53      0.53      0.52        40\n",
      "\n",
      "-------------------------------------------------------------------------------------------------------------------\n"
     ]
    },
    {
     "name": "stderr",
     "output_type": "stream",
     "text": [
      "[Parallel(n_jobs=-1)]: Done   1 out of   1 | elapsed:  1.9min finished\n",
      "[Parallel(n_jobs=-1)]: Using backend LokyBackend with 12 concurrent workers.\n"
     ]
    },
    {
     "name": "stdout",
     "output_type": "stream",
     "text": [
      "K-Fold #2:\n",
      "              precision    recall  f1-score   support\n",
      "\n",
      "         0.0       0.45      0.50      0.48        20\n",
      "         1.0       0.44      0.40      0.42        20\n",
      "\n",
      "    accuracy                           0.45        40\n",
      "   macro avg       0.45      0.45      0.45        40\n",
      "weighted avg       0.45      0.45      0.45        40\n",
      "\n",
      "-------------------------------------------------------------------------------------------------------------------\n"
     ]
    },
    {
     "name": "stderr",
     "output_type": "stream",
     "text": [
      "[Parallel(n_jobs=-1)]: Done   1 out of   1 | elapsed:  1.7min finished\n",
      "[Parallel(n_jobs=-1)]: Using backend LokyBackend with 12 concurrent workers.\n"
     ]
    },
    {
     "name": "stdout",
     "output_type": "stream",
     "text": [
      "K-Fold #3:\n",
      "              precision    recall  f1-score   support\n",
      "\n",
      "         0.0       0.50      0.05      0.09        20\n",
      "         1.0       0.50      0.95      0.66        20\n",
      "\n",
      "    accuracy                           0.50        40\n",
      "   macro avg       0.50      0.50      0.37        40\n",
      "weighted avg       0.50      0.50      0.37        40\n",
      "\n",
      "-------------------------------------------------------------------------------------------------------------------\n"
     ]
    },
    {
     "name": "stderr",
     "output_type": "stream",
     "text": [
      "[Parallel(n_jobs=-1)]: Done   1 out of   1 | elapsed:  1.9min finished\n",
      "[Parallel(n_jobs=-1)]: Using backend LokyBackend with 12 concurrent workers.\n"
     ]
    },
    {
     "name": "stdout",
     "output_type": "stream",
     "text": [
      "K-Fold #4:\n",
      "              precision    recall  f1-score   support\n",
      "\n",
      "         0.0       0.61      0.70      0.65        20\n",
      "         1.0       0.65      0.55      0.59        20\n",
      "\n",
      "    accuracy                           0.62        40\n",
      "   macro avg       0.63      0.62      0.62        40\n",
      "weighted avg       0.63      0.62      0.62        40\n",
      "\n",
      "-------------------------------------------------------------------------------------------------------------------\n"
     ]
    },
    {
     "name": "stderr",
     "output_type": "stream",
     "text": [
      "[Parallel(n_jobs=-1)]: Done   1 out of   1 | elapsed:  1.9min finished\n",
      "[Parallel(n_jobs=-1)]: Using backend LokyBackend with 12 concurrent workers.\n"
     ]
    },
    {
     "name": "stdout",
     "output_type": "stream",
     "text": [
      "K-Fold #5:\n",
      "              precision    recall  f1-score   support\n",
      "\n",
      "         0.0       0.48      0.60      0.53        20\n",
      "         1.0       0.47      0.35      0.40        20\n",
      "\n",
      "    accuracy                           0.48        40\n",
      "   macro avg       0.47      0.47      0.47        40\n",
      "weighted avg       0.47      0.47      0.47        40\n",
      "\n",
      "-------------------------------------------------------------------------------------------------------------------\n"
     ]
    },
    {
     "name": "stderr",
     "output_type": "stream",
     "text": [
      "[Parallel(n_jobs=-1)]: Done   1 out of   1 | elapsed:  1.7min finished\n",
      "[Parallel(n_jobs=-1)]: Using backend LokyBackend with 12 concurrent workers.\n"
     ]
    },
    {
     "name": "stdout",
     "output_type": "stream",
     "text": [
      "K-Fold #6:\n",
      "              precision    recall  f1-score   support\n",
      "\n",
      "         0.0       0.25      0.25      0.25        20\n",
      "         1.0       0.25      0.25      0.25        20\n",
      "\n",
      "    accuracy                           0.25        40\n",
      "   macro avg       0.25      0.25      0.25        40\n",
      "weighted avg       0.25      0.25      0.25        40\n",
      "\n",
      "-------------------------------------------------------------------------------------------------------------------\n"
     ]
    },
    {
     "name": "stderr",
     "output_type": "stream",
     "text": [
      "[Parallel(n_jobs=-1)]: Done   1 out of   1 | elapsed:  1.7min finished\n",
      "[Parallel(n_jobs=-1)]: Using backend LokyBackend with 12 concurrent workers.\n"
     ]
    },
    {
     "name": "stdout",
     "output_type": "stream",
     "text": [
      "K-Fold #7:\n",
      "              precision    recall  f1-score   support\n",
      "\n",
      "         0.0       0.47      0.90      0.62        20\n",
      "         1.0       0.00      0.00      0.00        20\n",
      "\n",
      "    accuracy                           0.45        40\n",
      "   macro avg       0.24      0.45      0.31        40\n",
      "weighted avg       0.24      0.45      0.31        40\n",
      "\n",
      "-------------------------------------------------------------------------------------------------------------------\n"
     ]
    },
    {
     "name": "stderr",
     "output_type": "stream",
     "text": [
      "[Parallel(n_jobs=-1)]: Done   1 out of   1 | elapsed:  1.7min finished\n",
      "[Parallel(n_jobs=-1)]: Using backend LokyBackend with 12 concurrent workers.\n"
     ]
    },
    {
     "name": "stdout",
     "output_type": "stream",
     "text": [
      "K-Fold #8:\n",
      "              precision    recall  f1-score   support\n",
      "\n",
      "         0.0       0.50      0.95      0.66        20\n",
      "         1.0       0.50      0.05      0.09        20\n",
      "\n",
      "    accuracy                           0.50        40\n",
      "   macro avg       0.50      0.50      0.37        40\n",
      "weighted avg       0.50      0.50      0.37        40\n",
      "\n",
      "-------------------------------------------------------------------------------------------------------------------\n"
     ]
    },
    {
     "name": "stderr",
     "output_type": "stream",
     "text": [
      "[Parallel(n_jobs=-1)]: Done   1 out of   1 | elapsed:  1.7min finished\n",
      "c:\\ProgramData\\Anaconda3\\lib\\site-packages\\sklearn\\metrics\\_classification.py:1344: UndefinedMetricWarning: Precision and F-score are ill-defined and being set to 0.0 in labels with no predicted samples. Use `zero_division` parameter to control this behavior.\n",
      "  _warn_prf(average, modifier, msg_start, len(result))\n",
      "c:\\ProgramData\\Anaconda3\\lib\\site-packages\\sklearn\\metrics\\_classification.py:1344: UndefinedMetricWarning: Precision and F-score are ill-defined and being set to 0.0 in labels with no predicted samples. Use `zero_division` parameter to control this behavior.\n",
      "  _warn_prf(average, modifier, msg_start, len(result))\n",
      "c:\\ProgramData\\Anaconda3\\lib\\site-packages\\sklearn\\metrics\\_classification.py:1344: UndefinedMetricWarning: Precision and F-score are ill-defined and being set to 0.0 in labels with no predicted samples. Use `zero_division` parameter to control this behavior.\n",
      "  _warn_prf(average, modifier, msg_start, len(result))\n",
      "[Parallel(n_jobs=-1)]: Using backend LokyBackend with 12 concurrent workers.\n"
     ]
    },
    {
     "name": "stdout",
     "output_type": "stream",
     "text": [
      "K-Fold #9:\n",
      "              precision    recall  f1-score   support\n",
      "\n",
      "         0.0       0.50      1.00      0.67        20\n",
      "         1.0       0.00      0.00      0.00        20\n",
      "\n",
      "    accuracy                           0.50        40\n",
      "   macro avg       0.25      0.50      0.33        40\n",
      "weighted avg       0.25      0.50      0.33        40\n",
      "\n",
      "-------------------------------------------------------------------------------------------------------------------\n",
      "AVG: Scores = 0.47750000000000004 F1-Scores = 0.40732803418554486\n"
     ]
    },
    {
     "name": "stderr",
     "output_type": "stream",
     "text": [
      "[Parallel(n_jobs=-1)]: Done   1 out of   1 | elapsed:  1.7min finished\n",
      "[Parallel(n_jobs=-1)]: Using backend LokyBackend with 12 concurrent workers.\n"
     ]
    },
    {
     "name": "stdout",
     "output_type": "stream",
     "text": [
      "K-Fold #0:\n",
      "              precision    recall  f1-score   support\n",
      "\n",
      "         0.0       0.44      0.40      0.42        20\n",
      "         1.0       0.45      0.50      0.48        20\n",
      "\n",
      "    accuracy                           0.45        40\n",
      "   macro avg       0.45      0.45      0.45        40\n",
      "weighted avg       0.45      0.45      0.45        40\n",
      "\n",
      "-------------------------------------------------------------------------------------------------------------------\n"
     ]
    },
    {
     "name": "stderr",
     "output_type": "stream",
     "text": [
      "[Parallel(n_jobs=-1)]: Done   1 out of   1 | elapsed:  1.7min finished\n",
      "[Parallel(n_jobs=-1)]: Using backend LokyBackend with 12 concurrent workers.\n"
     ]
    },
    {
     "name": "stdout",
     "output_type": "stream",
     "text": [
      "K-Fold #1:\n",
      "              precision    recall  f1-score   support\n",
      "\n",
      "         0.0       0.39      0.55      0.46        20\n",
      "         1.0       0.25      0.15      0.19        20\n",
      "\n",
      "    accuracy                           0.35        40\n",
      "   macro avg       0.32      0.35      0.32        40\n",
      "weighted avg       0.32      0.35      0.32        40\n",
      "\n",
      "-------------------------------------------------------------------------------------------------------------------\n"
     ]
    },
    {
     "name": "stderr",
     "output_type": "stream",
     "text": [
      "[Parallel(n_jobs=-1)]: Done   1 out of   1 | elapsed:  1.8min finished\n",
      "[Parallel(n_jobs=-1)]: Using backend LokyBackend with 12 concurrent workers.\n"
     ]
    },
    {
     "name": "stdout",
     "output_type": "stream",
     "text": [
      "K-Fold #2:\n",
      "              precision    recall  f1-score   support\n",
      "\n",
      "         0.0       0.52      0.70      0.60        20\n",
      "         1.0       0.54      0.35      0.42        20\n",
      "\n",
      "    accuracy                           0.53        40\n",
      "   macro avg       0.53      0.52      0.51        40\n",
      "weighted avg       0.53      0.53      0.51        40\n",
      "\n",
      "-------------------------------------------------------------------------------------------------------------------\n"
     ]
    },
    {
     "name": "stderr",
     "output_type": "stream",
     "text": [
      "[Parallel(n_jobs=-1)]: Done   1 out of   1 | elapsed:  1.8min finished\n",
      "[Parallel(n_jobs=-1)]: Using backend LokyBackend with 12 concurrent workers.\n"
     ]
    },
    {
     "name": "stdout",
     "output_type": "stream",
     "text": [
      "K-Fold #3:\n",
      "              precision    recall  f1-score   support\n",
      "\n",
      "         0.0       1.00      0.05      0.10        20\n",
      "         1.0       0.51      1.00      0.68        20\n",
      "\n",
      "    accuracy                           0.53        40\n",
      "   macro avg       0.76      0.53      0.39        40\n",
      "weighted avg       0.76      0.53      0.39        40\n",
      "\n",
      "-------------------------------------------------------------------------------------------------------------------\n"
     ]
    },
    {
     "name": "stderr",
     "output_type": "stream",
     "text": [
      "[Parallel(n_jobs=-1)]: Done   1 out of   1 | elapsed:  1.7min finished\n",
      "[Parallel(n_jobs=-1)]: Using backend LokyBackend with 12 concurrent workers.\n"
     ]
    },
    {
     "name": "stdout",
     "output_type": "stream",
     "text": [
      "K-Fold #4:\n",
      "              precision    recall  f1-score   support\n",
      "\n",
      "         0.0       0.50      0.90      0.64        20\n",
      "         1.0       0.50      0.10      0.17        20\n",
      "\n",
      "    accuracy                           0.50        40\n",
      "   macro avg       0.50      0.50      0.40        40\n",
      "weighted avg       0.50      0.50      0.40        40\n",
      "\n",
      "-------------------------------------------------------------------------------------------------------------------\n"
     ]
    },
    {
     "name": "stderr",
     "output_type": "stream",
     "text": [
      "[Parallel(n_jobs=-1)]: Done   1 out of   1 | elapsed:  1.8min finished\n",
      "[Parallel(n_jobs=-1)]: Using backend LokyBackend with 12 concurrent workers.\n"
     ]
    },
    {
     "name": "stdout",
     "output_type": "stream",
     "text": [
      "K-Fold #5:\n",
      "              precision    recall  f1-score   support\n",
      "\n",
      "         0.0       0.50      0.95      0.66        20\n",
      "         1.0       0.50      0.05      0.09        20\n",
      "\n",
      "    accuracy                           0.50        40\n",
      "   macro avg       0.50      0.50      0.37        40\n",
      "weighted avg       0.50      0.50      0.37        40\n",
      "\n",
      "-------------------------------------------------------------------------------------------------------------------\n"
     ]
    },
    {
     "name": "stderr",
     "output_type": "stream",
     "text": [
      "[Parallel(n_jobs=-1)]: Done   1 out of   1 | elapsed:  1.7min finished\n",
      "[Parallel(n_jobs=-1)]: Using backend LokyBackend with 12 concurrent workers.\n"
     ]
    },
    {
     "name": "stdout",
     "output_type": "stream",
     "text": [
      "K-Fold #6:\n",
      "              precision    recall  f1-score   support\n",
      "\n",
      "         0.0       0.54      0.65      0.59        20\n",
      "         1.0       0.56      0.45      0.50        20\n",
      "\n",
      "    accuracy                           0.55        40\n",
      "   macro avg       0.55      0.55      0.55        40\n",
      "weighted avg       0.55      0.55      0.55        40\n",
      "\n",
      "-------------------------------------------------------------------------------------------------------------------\n"
     ]
    },
    {
     "name": "stderr",
     "output_type": "stream",
     "text": [
      "[Parallel(n_jobs=-1)]: Done   1 out of   1 | elapsed:  1.8min finished\n",
      "[Parallel(n_jobs=-1)]: Using backend LokyBackend with 12 concurrent workers.\n"
     ]
    },
    {
     "name": "stdout",
     "output_type": "stream",
     "text": [
      "K-Fold #7:\n",
      "              precision    recall  f1-score   support\n",
      "\n",
      "         0.0       0.50      0.05      0.09        20\n",
      "         1.0       0.50      0.95      0.66        20\n",
      "\n",
      "    accuracy                           0.50        40\n",
      "   macro avg       0.50      0.50      0.37        40\n",
      "weighted avg       0.50      0.50      0.37        40\n",
      "\n",
      "-------------------------------------------------------------------------------------------------------------------\n"
     ]
    },
    {
     "name": "stderr",
     "output_type": "stream",
     "text": [
      "[Parallel(n_jobs=-1)]: Done   1 out of   1 | elapsed:  2.0min finished\n",
      "[Parallel(n_jobs=-1)]: Using backend LokyBackend with 12 concurrent workers.\n"
     ]
    },
    {
     "name": "stdout",
     "output_type": "stream",
     "text": [
      "K-Fold #8:\n",
      "              precision    recall  f1-score   support\n",
      "\n",
      "         0.0       0.52      0.70      0.60        20\n",
      "         1.0       0.54      0.35      0.42        20\n",
      "\n",
      "    accuracy                           0.53        40\n",
      "   macro avg       0.53      0.52      0.51        40\n",
      "weighted avg       0.53      0.53      0.51        40\n",
      "\n",
      "-------------------------------------------------------------------------------------------------------------------\n"
     ]
    },
    {
     "name": "stderr",
     "output_type": "stream",
     "text": [
      "[Parallel(n_jobs=-1)]: Done   1 out of   1 | elapsed:  1.7min finished\n",
      "c:\\ProgramData\\Anaconda3\\lib\\site-packages\\sklearn\\metrics\\_classification.py:1344: UndefinedMetricWarning: Precision and F-score are ill-defined and being set to 0.0 in labels with no predicted samples. Use `zero_division` parameter to control this behavior.\n",
      "  _warn_prf(average, modifier, msg_start, len(result))\n",
      "c:\\ProgramData\\Anaconda3\\lib\\site-packages\\sklearn\\metrics\\_classification.py:1344: UndefinedMetricWarning: Precision and F-score are ill-defined and being set to 0.0 in labels with no predicted samples. Use `zero_division` parameter to control this behavior.\n",
      "  _warn_prf(average, modifier, msg_start, len(result))\n",
      "c:\\ProgramData\\Anaconda3\\lib\\site-packages\\sklearn\\metrics\\_classification.py:1344: UndefinedMetricWarning: Precision and F-score are ill-defined and being set to 0.0 in labels with no predicted samples. Use `zero_division` parameter to control this behavior.\n",
      "  _warn_prf(average, modifier, msg_start, len(result))\n",
      "[Parallel(n_jobs=-1)]: Using backend LokyBackend with 12 concurrent workers.\n"
     ]
    },
    {
     "name": "stdout",
     "output_type": "stream",
     "text": [
      "K-Fold #9:\n",
      "              precision    recall  f1-score   support\n",
      "\n",
      "         0.0       0.00      0.00      0.00        20\n",
      "         1.0       0.50      1.00      0.67        20\n",
      "\n",
      "    accuracy                           0.50        40\n",
      "   macro avg       0.25      0.50      0.33        40\n",
      "weighted avg       0.25      0.50      0.33        40\n",
      "\n",
      "-------------------------------------------------------------------------------------------------------------------\n",
      "AVG: Scores = 0.4925 F1-Scores = 0.420775871236335\n"
     ]
    },
    {
     "name": "stderr",
     "output_type": "stream",
     "text": [
      "[Parallel(n_jobs=-1)]: Done   1 out of   1 | elapsed:  1.7min finished\n",
      "[Parallel(n_jobs=-1)]: Using backend LokyBackend with 12 concurrent workers.\n"
     ]
    },
    {
     "name": "stdout",
     "output_type": "stream",
     "text": [
      "K-Fold #0:\n",
      "              precision    recall  f1-score   support\n",
      "\n",
      "         0.0       0.29      0.10      0.15        20\n",
      "         1.0       0.45      0.75      0.57        20\n",
      "\n",
      "    accuracy                           0.42        40\n",
      "   macro avg       0.37      0.42      0.36        40\n",
      "weighted avg       0.37      0.42      0.36        40\n",
      "\n",
      "-------------------------------------------------------------------------------------------------------------------\n"
     ]
    },
    {
     "name": "stderr",
     "output_type": "stream",
     "text": [
      "[Parallel(n_jobs=-1)]: Done   1 out of   1 | elapsed:  2.0min finished\n",
      "[Parallel(n_jobs=-1)]: Using backend LokyBackend with 12 concurrent workers.\n"
     ]
    },
    {
     "name": "stdout",
     "output_type": "stream",
     "text": [
      "K-Fold #1:\n",
      "              precision    recall  f1-score   support\n",
      "\n",
      "         0.0       0.41      0.45      0.43        20\n",
      "         1.0       0.39      0.35      0.37        20\n",
      "\n",
      "    accuracy                           0.40        40\n",
      "   macro avg       0.40      0.40      0.40        40\n",
      "weighted avg       0.40      0.40      0.40        40\n",
      "\n",
      "-------------------------------------------------------------------------------------------------------------------\n"
     ]
    },
    {
     "name": "stderr",
     "output_type": "stream",
     "text": [
      "[Parallel(n_jobs=-1)]: Done   1 out of   1 | elapsed:  1.7min finished\n",
      "[Parallel(n_jobs=-1)]: Using backend LokyBackend with 12 concurrent workers.\n"
     ]
    },
    {
     "name": "stdout",
     "output_type": "stream",
     "text": [
      "K-Fold #2:\n",
      "              precision    recall  f1-score   support\n",
      "\n",
      "         0.0       1.00      0.15      0.26        20\n",
      "         1.0       0.54      1.00      0.70        20\n",
      "\n",
      "    accuracy                           0.57        40\n",
      "   macro avg       0.77      0.57      0.48        40\n",
      "weighted avg       0.77      0.57      0.48        40\n",
      "\n",
      "-------------------------------------------------------------------------------------------------------------------\n"
     ]
    },
    {
     "name": "stderr",
     "output_type": "stream",
     "text": [
      "[Parallel(n_jobs=-1)]: Done   1 out of   1 | elapsed:  1.9min finished\n",
      "[Parallel(n_jobs=-1)]: Using backend LokyBackend with 12 concurrent workers.\n"
     ]
    },
    {
     "name": "stdout",
     "output_type": "stream",
     "text": [
      "K-Fold #3:\n",
      "              precision    recall  f1-score   support\n",
      "\n",
      "         0.0       0.58      0.75      0.65        20\n",
      "         1.0       0.64      0.45      0.53        20\n",
      "\n",
      "    accuracy                           0.60        40\n",
      "   macro avg       0.61      0.60      0.59        40\n",
      "weighted avg       0.61      0.60      0.59        40\n",
      "\n",
      "-------------------------------------------------------------------------------------------------------------------\n"
     ]
    },
    {
     "name": "stderr",
     "output_type": "stream",
     "text": [
      "[Parallel(n_jobs=-1)]: Done   1 out of   1 | elapsed:  1.9min finished\n",
      "[Parallel(n_jobs=-1)]: Using backend LokyBackend with 12 concurrent workers.\n"
     ]
    },
    {
     "name": "stdout",
     "output_type": "stream",
     "text": [
      "K-Fold #4:\n",
      "              precision    recall  f1-score   support\n",
      "\n",
      "         0.0       0.38      0.30      0.33        20\n",
      "         1.0       0.42      0.50      0.45        20\n",
      "\n",
      "    accuracy                           0.40        40\n",
      "   macro avg       0.40      0.40      0.39        40\n",
      "weighted avg       0.40      0.40      0.39        40\n",
      "\n",
      "-------------------------------------------------------------------------------------------------------------------\n"
     ]
    },
    {
     "name": "stderr",
     "output_type": "stream",
     "text": [
      "[Parallel(n_jobs=-1)]: Done   1 out of   1 | elapsed:  1.7min finished\n",
      "[Parallel(n_jobs=-1)]: Using backend LokyBackend with 12 concurrent workers.\n"
     ]
    },
    {
     "name": "stdout",
     "output_type": "stream",
     "text": [
      "K-Fold #5:\n",
      "              precision    recall  f1-score   support\n",
      "\n",
      "         0.0       0.46      0.80      0.58        20\n",
      "         1.0       0.20      0.05      0.08        20\n",
      "\n",
      "    accuracy                           0.42        40\n",
      "   macro avg       0.33      0.43      0.33        40\n",
      "weighted avg       0.33      0.42      0.33        40\n",
      "\n",
      "-------------------------------------------------------------------------------------------------------------------\n"
     ]
    },
    {
     "name": "stderr",
     "output_type": "stream",
     "text": [
      "[Parallel(n_jobs=-1)]: Done   1 out of   1 | elapsed:  1.9min finished\n",
      "[Parallel(n_jobs=-1)]: Using backend LokyBackend with 12 concurrent workers.\n"
     ]
    },
    {
     "name": "stdout",
     "output_type": "stream",
     "text": [
      "K-Fold #6:\n",
      "              precision    recall  f1-score   support\n",
      "\n",
      "         0.0       0.54      0.70      0.61        20\n",
      "         1.0       0.57      0.40      0.47        20\n",
      "\n",
      "    accuracy                           0.55        40\n",
      "   macro avg       0.55      0.55      0.54        40\n",
      "weighted avg       0.55      0.55      0.54        40\n",
      "\n",
      "-------------------------------------------------------------------------------------------------------------------\n"
     ]
    },
    {
     "name": "stderr",
     "output_type": "stream",
     "text": [
      "[Parallel(n_jobs=-1)]: Done   1 out of   1 | elapsed:  1.8min finished\n",
      "[Parallel(n_jobs=-1)]: Using backend LokyBackend with 12 concurrent workers.\n"
     ]
    },
    {
     "name": "stdout",
     "output_type": "stream",
     "text": [
      "K-Fold #7:\n",
      "              precision    recall  f1-score   support\n",
      "\n",
      "         0.0       0.56      0.70      0.62        20\n",
      "         1.0       0.60      0.45      0.51        20\n",
      "\n",
      "    accuracy                           0.57        40\n",
      "   macro avg       0.58      0.57      0.57        40\n",
      "weighted avg       0.58      0.57      0.57        40\n",
      "\n",
      "-------------------------------------------------------------------------------------------------------------------\n"
     ]
    },
    {
     "name": "stderr",
     "output_type": "stream",
     "text": [
      "[Parallel(n_jobs=-1)]: Done   1 out of   1 | elapsed:  1.7min finished\n",
      "[Parallel(n_jobs=-1)]: Using backend LokyBackend with 12 concurrent workers.\n"
     ]
    },
    {
     "name": "stdout",
     "output_type": "stream",
     "text": [
      "K-Fold #8:\n",
      "              precision    recall  f1-score   support\n",
      "\n",
      "         0.0       0.49      0.95      0.64        20\n",
      "         1.0       0.00      0.00      0.00        20\n",
      "\n",
      "    accuracy                           0.48        40\n",
      "   macro avg       0.24      0.47      0.32        40\n",
      "weighted avg       0.24      0.47      0.32        40\n",
      "\n",
      "-------------------------------------------------------------------------------------------------------------------\n"
     ]
    },
    {
     "name": "stderr",
     "output_type": "stream",
     "text": [
      "[Parallel(n_jobs=-1)]: Done   1 out of   1 | elapsed:  1.7min finished\n",
      "[Parallel(n_jobs=-1)]: Using backend LokyBackend with 12 concurrent workers.\n"
     ]
    },
    {
     "name": "stdout",
     "output_type": "stream",
     "text": [
      "K-Fold #9:\n",
      "              precision    recall  f1-score   support\n",
      "\n",
      "         0.0       0.53      1.00      0.69        20\n",
      "         1.0       1.00      0.10      0.18        20\n",
      "\n",
      "    accuracy                           0.55        40\n",
      "   macro avg       0.76      0.55      0.44        40\n",
      "weighted avg       0.76      0.55      0.44        40\n",
      "\n",
      "-------------------------------------------------------------------------------------------------------------------\n",
      "AVG: Scores = 0.49749999999999994 F1-Scores = 0.44182089693234794\n"
     ]
    },
    {
     "name": "stderr",
     "output_type": "stream",
     "text": [
      "[Parallel(n_jobs=-1)]: Done   1 out of   1 | elapsed:  1.7min finished\n",
      "c:\\ProgramData\\Anaconda3\\lib\\site-packages\\sklearn\\metrics\\_classification.py:1344: UndefinedMetricWarning: Precision and F-score are ill-defined and being set to 0.0 in labels with no predicted samples. Use `zero_division` parameter to control this behavior.\n",
      "  _warn_prf(average, modifier, msg_start, len(result))\n",
      "c:\\ProgramData\\Anaconda3\\lib\\site-packages\\sklearn\\metrics\\_classification.py:1344: UndefinedMetricWarning: Precision and F-score are ill-defined and being set to 0.0 in labels with no predicted samples. Use `zero_division` parameter to control this behavior.\n",
      "  _warn_prf(average, modifier, msg_start, len(result))\n",
      "c:\\ProgramData\\Anaconda3\\lib\\site-packages\\sklearn\\metrics\\_classification.py:1344: UndefinedMetricWarning: Precision and F-score are ill-defined and being set to 0.0 in labels with no predicted samples. Use `zero_division` parameter to control this behavior.\n",
      "  _warn_prf(average, modifier, msg_start, len(result))\n",
      "[Parallel(n_jobs=-1)]: Using backend LokyBackend with 12 concurrent workers.\n"
     ]
    },
    {
     "name": "stdout",
     "output_type": "stream",
     "text": [
      "K-Fold #0:\n",
      "              precision    recall  f1-score   support\n",
      "\n",
      "         0.0       0.00      0.00      0.00        20\n",
      "         1.0       0.50      1.00      0.67        20\n",
      "\n",
      "    accuracy                           0.50        40\n",
      "   macro avg       0.25      0.50      0.33        40\n",
      "weighted avg       0.25      0.50      0.33        40\n",
      "\n",
      "-------------------------------------------------------------------------------------------------------------------\n"
     ]
    },
    {
     "name": "stderr",
     "output_type": "stream",
     "text": [
      "[Parallel(n_jobs=-1)]: Done   1 out of   1 | elapsed:  1.9min finished\n",
      "[Parallel(n_jobs=-1)]: Using backend LokyBackend with 12 concurrent workers.\n"
     ]
    },
    {
     "name": "stdout",
     "output_type": "stream",
     "text": [
      "K-Fold #1:\n",
      "              precision    recall  f1-score   support\n",
      "\n",
      "         0.0       0.48      0.65      0.55        20\n",
      "         1.0       0.46      0.30      0.36        20\n",
      "\n",
      "    accuracy                           0.48        40\n",
      "   macro avg       0.47      0.47      0.46        40\n",
      "weighted avg       0.47      0.47      0.46        40\n",
      "\n",
      "-------------------------------------------------------------------------------------------------------------------\n"
     ]
    },
    {
     "name": "stderr",
     "output_type": "stream",
     "text": [
      "[Parallel(n_jobs=-1)]: Done   1 out of   1 | elapsed:  1.7min finished\n",
      "[Parallel(n_jobs=-1)]: Using backend LokyBackend with 12 concurrent workers.\n"
     ]
    },
    {
     "name": "stdout",
     "output_type": "stream",
     "text": [
      "K-Fold #2:\n",
      "              precision    recall  f1-score   support\n",
      "\n",
      "         0.0       0.57      0.65      0.60        20\n",
      "         1.0       0.59      0.50      0.54        20\n",
      "\n",
      "    accuracy                           0.57        40\n",
      "   macro avg       0.58      0.57      0.57        40\n",
      "weighted avg       0.58      0.57      0.57        40\n",
      "\n",
      "-------------------------------------------------------------------------------------------------------------------\n"
     ]
    },
    {
     "name": "stderr",
     "output_type": "stream",
     "text": [
      "[Parallel(n_jobs=-1)]: Done   1 out of   1 | elapsed:  1.8min finished\n",
      "[Parallel(n_jobs=-1)]: Using backend LokyBackend with 12 concurrent workers.\n"
     ]
    },
    {
     "name": "stdout",
     "output_type": "stream",
     "text": [
      "K-Fold #3:\n",
      "              precision    recall  f1-score   support\n",
      "\n",
      "         0.0       0.50      0.95      0.66        20\n",
      "         1.0       0.50      0.05      0.09        20\n",
      "\n",
      "    accuracy                           0.50        40\n",
      "   macro avg       0.50      0.50      0.37        40\n",
      "weighted avg       0.50      0.50      0.37        40\n",
      "\n",
      "-------------------------------------------------------------------------------------------------------------------\n"
     ]
    },
    {
     "name": "stderr",
     "output_type": "stream",
     "text": [
      "[Parallel(n_jobs=-1)]: Done   1 out of   1 | elapsed:  1.9min finished\n",
      "[Parallel(n_jobs=-1)]: Using backend LokyBackend with 12 concurrent workers.\n"
     ]
    },
    {
     "name": "stdout",
     "output_type": "stream",
     "text": [
      "K-Fold #4:\n",
      "              precision    recall  f1-score   support\n",
      "\n",
      "         0.0       0.44      0.55      0.49        20\n",
      "         1.0       0.40      0.30      0.34        20\n",
      "\n",
      "    accuracy                           0.42        40\n",
      "   macro avg       0.42      0.43      0.42        40\n",
      "weighted avg       0.42      0.42      0.42        40\n",
      "\n",
      "-------------------------------------------------------------------------------------------------------------------\n"
     ]
    },
    {
     "name": "stderr",
     "output_type": "stream",
     "text": [
      "[Parallel(n_jobs=-1)]: Done   1 out of   1 | elapsed:  1.7min finished\n",
      "[Parallel(n_jobs=-1)]: Using backend LokyBackend with 12 concurrent workers.\n"
     ]
    },
    {
     "name": "stdout",
     "output_type": "stream",
     "text": [
      "K-Fold #5:\n",
      "              precision    recall  f1-score   support\n",
      "\n",
      "         0.0       0.50      0.80      0.62        20\n",
      "         1.0       0.50      0.20      0.29        20\n",
      "\n",
      "    accuracy                           0.50        40\n",
      "   macro avg       0.50      0.50      0.45        40\n",
      "weighted avg       0.50      0.50      0.45        40\n",
      "\n",
      "-------------------------------------------------------------------------------------------------------------------\n"
     ]
    },
    {
     "name": "stderr",
     "output_type": "stream",
     "text": [
      "[Parallel(n_jobs=-1)]: Done   1 out of   1 | elapsed:  1.8min finished\n",
      "[Parallel(n_jobs=-1)]: Using backend LokyBackend with 12 concurrent workers.\n"
     ]
    },
    {
     "name": "stdout",
     "output_type": "stream",
     "text": [
      "K-Fold #6:\n",
      "              precision    recall  f1-score   support\n",
      "\n",
      "         0.0       0.44      0.60      0.51        20\n",
      "         1.0       0.38      0.25      0.30        20\n",
      "\n",
      "    accuracy                           0.42        40\n",
      "   macro avg       0.41      0.42      0.41        40\n",
      "weighted avg       0.41      0.42      0.41        40\n",
      "\n",
      "-------------------------------------------------------------------------------------------------------------------\n"
     ]
    },
    {
     "name": "stderr",
     "output_type": "stream",
     "text": [
      "[Parallel(n_jobs=-1)]: Done   1 out of   1 | elapsed:  1.9min finished\n",
      "[Parallel(n_jobs=-1)]: Using backend LokyBackend with 12 concurrent workers.\n"
     ]
    },
    {
     "name": "stdout",
     "output_type": "stream",
     "text": [
      "K-Fold #7:\n",
      "              precision    recall  f1-score   support\n",
      "\n",
      "         0.0       0.60      0.15      0.24        20\n",
      "         1.0       0.51      0.90      0.65        20\n",
      "\n",
      "    accuracy                           0.53        40\n",
      "   macro avg       0.56      0.53      0.45        40\n",
      "weighted avg       0.56      0.53      0.45        40\n",
      "\n",
      "-------------------------------------------------------------------------------------------------------------------\n"
     ]
    },
    {
     "name": "stderr",
     "output_type": "stream",
     "text": [
      "[Parallel(n_jobs=-1)]: Done   1 out of   1 | elapsed:  1.7min finished\n",
      "[Parallel(n_jobs=-1)]: Using backend LokyBackend with 12 concurrent workers.\n"
     ]
    },
    {
     "name": "stdout",
     "output_type": "stream",
     "text": [
      "K-Fold #8:\n",
      "              precision    recall  f1-score   support\n",
      "\n",
      "         0.0       0.50      0.55      0.52        20\n",
      "         1.0       0.50      0.45      0.47        20\n",
      "\n",
      "    accuracy                           0.50        40\n",
      "   macro avg       0.50      0.50      0.50        40\n",
      "weighted avg       0.50      0.50      0.50        40\n",
      "\n",
      "-------------------------------------------------------------------------------------------------------------------\n"
     ]
    },
    {
     "name": "stderr",
     "output_type": "stream",
     "text": [
      "[Parallel(n_jobs=-1)]: Done   1 out of   1 | elapsed:  1.7min finished\n",
      "[Parallel(n_jobs=-1)]: Using backend LokyBackend with 12 concurrent workers.\n"
     ]
    },
    {
     "name": "stdout",
     "output_type": "stream",
     "text": [
      "K-Fold #9:\n",
      "              precision    recall  f1-score   support\n",
      "\n",
      "         0.0       0.83      0.25      0.38        20\n",
      "         1.0       0.56      0.95      0.70        20\n",
      "\n",
      "    accuracy                           0.60        40\n",
      "   macro avg       0.70      0.60      0.54        40\n",
      "weighted avg       0.70      0.60      0.54        40\n",
      "\n",
      "-------------------------------------------------------------------------------------------------------------------\n",
      "AVG: Scores = 0.5025 F1-Scores = 0.4500819769323062\n"
     ]
    },
    {
     "name": "stderr",
     "output_type": "stream",
     "text": [
      "[Parallel(n_jobs=-1)]: Done   1 out of   1 | elapsed:  1.7min finished\n",
      "[Parallel(n_jobs=-1)]: Using backend LokyBackend with 12 concurrent workers.\n"
     ]
    },
    {
     "name": "stdout",
     "output_type": "stream",
     "text": [
      "K-Fold #0:\n",
      "              precision    recall  f1-score   support\n",
      "\n",
      "         0.0       0.44      0.60      0.51        20\n",
      "         1.0       0.38      0.25      0.30        20\n",
      "\n",
      "    accuracy                           0.42        40\n",
      "   macro avg       0.41      0.42      0.41        40\n",
      "weighted avg       0.41      0.42      0.41        40\n",
      "\n",
      "-------------------------------------------------------------------------------------------------------------------\n"
     ]
    },
    {
     "name": "stderr",
     "output_type": "stream",
     "text": [
      "[Parallel(n_jobs=-1)]: Done   1 out of   1 | elapsed:  1.7min finished\n",
      "[Parallel(n_jobs=-1)]: Using backend LokyBackend with 12 concurrent workers.\n"
     ]
    },
    {
     "name": "stdout",
     "output_type": "stream",
     "text": [
      "K-Fold #1:\n",
      "              precision    recall  f1-score   support\n",
      "\n",
      "         0.0       0.49      0.85      0.62        20\n",
      "         1.0       0.40      0.10      0.16        20\n",
      "\n",
      "    accuracy                           0.48        40\n",
      "   macro avg       0.44      0.47      0.39        40\n",
      "weighted avg       0.44      0.47      0.39        40\n",
      "\n",
      "-------------------------------------------------------------------------------------------------------------------\n"
     ]
    },
    {
     "name": "stderr",
     "output_type": "stream",
     "text": [
      "[Parallel(n_jobs=-1)]: Done   1 out of   1 | elapsed:  1.8min finished\n",
      "[Parallel(n_jobs=-1)]: Using backend LokyBackend with 12 concurrent workers.\n"
     ]
    },
    {
     "name": "stdout",
     "output_type": "stream",
     "text": [
      "K-Fold #2:\n",
      "              precision    recall  f1-score   support\n",
      "\n",
      "         0.0       0.46      0.80      0.58        20\n",
      "         1.0       0.20      0.05      0.08        20\n",
      "\n",
      "    accuracy                           0.42        40\n",
      "   macro avg       0.33      0.43      0.33        40\n",
      "weighted avg       0.33      0.42      0.33        40\n",
      "\n",
      "-------------------------------------------------------------------------------------------------------------------\n"
     ]
    },
    {
     "name": "stderr",
     "output_type": "stream",
     "text": [
      "[Parallel(n_jobs=-1)]: Done   1 out of   1 | elapsed:  1.9min finished\n",
      "[Parallel(n_jobs=-1)]: Using backend LokyBackend with 12 concurrent workers.\n"
     ]
    },
    {
     "name": "stdout",
     "output_type": "stream",
     "text": [
      "K-Fold #3:\n",
      "              precision    recall  f1-score   support\n",
      "\n",
      "         0.0       0.48      0.80      0.60        20\n",
      "         1.0       0.43      0.15      0.22        20\n",
      "\n",
      "    accuracy                           0.48        40\n",
      "   macro avg       0.46      0.48      0.41        40\n",
      "weighted avg       0.46      0.47      0.41        40\n",
      "\n",
      "-------------------------------------------------------------------------------------------------------------------\n"
     ]
    },
    {
     "name": "stderr",
     "output_type": "stream",
     "text": [
      "[Parallel(n_jobs=-1)]: Done   1 out of   1 | elapsed:  1.7min finished\n",
      "[Parallel(n_jobs=-1)]: Using backend LokyBackend with 12 concurrent workers.\n"
     ]
    },
    {
     "name": "stdout",
     "output_type": "stream",
     "text": [
      "K-Fold #4:\n",
      "              precision    recall  f1-score   support\n",
      "\n",
      "         0.0       0.33      0.05      0.09        20\n",
      "         1.0       0.49      0.90      0.63        20\n",
      "\n",
      "    accuracy                           0.48        40\n",
      "   macro avg       0.41      0.48      0.36        40\n",
      "weighted avg       0.41      0.47      0.36        40\n",
      "\n",
      "-------------------------------------------------------------------------------------------------------------------\n"
     ]
    },
    {
     "name": "stderr",
     "output_type": "stream",
     "text": [
      "[Parallel(n_jobs=-1)]: Done   1 out of   1 | elapsed:  1.7min finished\n",
      "[Parallel(n_jobs=-1)]: Using backend LokyBackend with 12 concurrent workers.\n"
     ]
    },
    {
     "name": "stdout",
     "output_type": "stream",
     "text": [
      "K-Fold #5:\n",
      "              precision    recall  f1-score   support\n",
      "\n",
      "         0.0       0.37      0.35      0.36        20\n",
      "         1.0       0.38      0.40      0.39        20\n",
      "\n",
      "    accuracy                           0.38        40\n",
      "   macro avg       0.37      0.38      0.37        40\n",
      "weighted avg       0.37      0.38      0.37        40\n",
      "\n",
      "-------------------------------------------------------------------------------------------------------------------\n"
     ]
    },
    {
     "name": "stderr",
     "output_type": "stream",
     "text": [
      "[Parallel(n_jobs=-1)]: Done   1 out of   1 | elapsed:  1.7min finished\n",
      "[Parallel(n_jobs=-1)]: Using backend LokyBackend with 12 concurrent workers.\n"
     ]
    },
    {
     "name": "stdout",
     "output_type": "stream",
     "text": [
      "K-Fold #6:\n",
      "              precision    recall  f1-score   support\n",
      "\n",
      "         0.0       0.49      0.90      0.63        20\n",
      "         1.0       0.33      0.05      0.09        20\n",
      "\n",
      "    accuracy                           0.48        40\n",
      "   macro avg       0.41      0.48      0.36        40\n",
      "weighted avg       0.41      0.47      0.36        40\n",
      "\n",
      "-------------------------------------------------------------------------------------------------------------------\n"
     ]
    },
    {
     "name": "stderr",
     "output_type": "stream",
     "text": [
      "[Parallel(n_jobs=-1)]: Done   1 out of   1 | elapsed:  1.9min finished\n",
      "[Parallel(n_jobs=-1)]: Using backend LokyBackend with 12 concurrent workers.\n"
     ]
    },
    {
     "name": "stdout",
     "output_type": "stream",
     "text": [
      "K-Fold #7:\n",
      "              precision    recall  f1-score   support\n",
      "\n",
      "         0.0       0.52      0.65      0.58        20\n",
      "         1.0       0.53      0.40      0.46        20\n",
      "\n",
      "    accuracy                           0.53        40\n",
      "   macro avg       0.53      0.53      0.52        40\n",
      "weighted avg       0.53      0.53      0.52        40\n",
      "\n",
      "-------------------------------------------------------------------------------------------------------------------\n"
     ]
    },
    {
     "name": "stderr",
     "output_type": "stream",
     "text": [
      "[Parallel(n_jobs=-1)]: Done   1 out of   1 | elapsed:  1.8min finished\n",
      "[Parallel(n_jobs=-1)]: Using backend LokyBackend with 12 concurrent workers.\n"
     ]
    },
    {
     "name": "stdout",
     "output_type": "stream",
     "text": [
      "K-Fold #8:\n",
      "              precision    recall  f1-score   support\n",
      "\n",
      "         0.0       0.49      0.90      0.63        20\n",
      "         1.0       0.33      0.05      0.09        20\n",
      "\n",
      "    accuracy                           0.48        40\n",
      "   macro avg       0.41      0.48      0.36        40\n",
      "weighted avg       0.41      0.47      0.36        40\n",
      "\n",
      "-------------------------------------------------------------------------------------------------------------------\n",
      "K-Fold #9:\n",
      "              precision    recall  f1-score   support\n",
      "\n",
      "         0.0       0.48      0.60      0.53        20\n",
      "         1.0       0.47      0.35      0.40        20\n",
      "\n",
      "    accuracy                           0.48        40\n",
      "   macro avg       0.47      0.47      0.47        40\n",
      "weighted avg       0.47      0.47      0.47        40\n",
      "\n",
      "-------------------------------------------------------------------------------------------------------------------\n",
      "AVG: Scores = 0.45999999999999996 F1-Scores = 0.3976371522510266\n",
      "CPU times: total: 3.81 s\n",
      "Wall time: 5h 58min 30s\n"
     ]
    },
    {
     "name": "stderr",
     "output_type": "stream",
     "text": [
      "[Parallel(n_jobs=-1)]: Done   1 out of   1 | elapsed:  1.9min finished\n"
     ]
    }
   ],
   "source": [
    "%%time\n",
    "scores_list = []\n",
    "f1scores_list = []\n",
    "for SEED in range(n_times_kfold):\n",
    "    scores, f1scores = execute_training_test_k_fold(\n",
    "                    X, \n",
    "                    y, \n",
    "                    k_folds=k_times_fold,\n",
    "                    random_seed = SEED, \n",
    "                    classifier_function=classifier_function, \n",
    "                    dic_classifier_params=dic_classifier_params,\n",
    "                    one_vs_classifier=OneVsRestClassifier, \n",
    "                    dic_training_params=dic_training_params,\n",
    "                    print_each_fold_metric=True,\n",
    "                    print_avg_metric=True)\n",
    "    scores_list.append(scores)\n",
    "    f1scores_list.append(f1scores)"
   ]
  },
  {
   "cell_type": "code",
   "execution_count": 5,
   "id": "f8272521",
   "metadata": {},
   "outputs": [
    {
     "name": "stdout",
     "output_type": "stream",
     "text": [
      "Media Score dos N K-Fold 0.48737499999999995\n",
      "Maior Score dos K-Fold 0.515\n",
      "Menor Score dos K-Fold 0.45499999999999996\n",
      "\n",
      "\n",
      "[[0.5, 0.4, 0.475, 0.55, 0.6, 0.55, 0.475, 0.525, 0.475, 0.475], [0.475, 0.425, 0.525, 0.525, 0.45, 0.375, 0.5, 0.425, 0.575, 0.475], [0.525, 0.525, 0.5, 0.475, 0.45, 0.65, 0.325, 0.5, 0.525, 0.475], [0.425, 0.55, 0.45, 0.475, 0.5, 0.5, 0.5, 0.5, 0.475, 0.45], [0.5, 0.5, 0.6, 0.375, 0.25, 0.525, 0.425, 0.45, 0.475, 0.45], [0.525, 0.5, 0.525, 0.5, 0.525, 0.425, 0.425, 0.425, 0.475, 0.5], [0.5, 0.475, 0.4, 0.5, 0.45, 0.45, 0.425, 0.475, 0.45, 0.475], [0.55, 0.525, 0.55, 0.525, 0.575, 0.425, 0.475, 0.425, 0.5, 0.375], [0.475, 0.45, 0.55, 0.5, 0.5, 0.475, 0.5, 0.55, 0.425, 0.525], [0.5, 0.575, 0.5, 0.475, 0.45, 0.5, 0.475, 0.45, 0.45, 0.275], [0.525, 0.525, 0.55, 0.525, 0.45, 0.45, 0.525, 0.475, 0.525, 0.375], [0.5, 0.55, 0.5, 0.525, 0.5, 0.475, 0.6, 0.5, 0.5, 0.5], [0.525, 0.55, 0.425, 0.425, 0.475, 0.45, 0.5, 0.55, 0.625, 0.525], [0.5, 0.5, 0.5, 0.5, 0.5, 0.4, 0.6, 0.5, 0.5, 0.45], [0.45, 0.525, 0.525, 0.5, 0.55, 0.6, 0.475, 0.5, 0.4, 0.525], [0.5, 0.525, 0.45, 0.5, 0.625, 0.475, 0.25, 0.45, 0.5, 0.5], [0.45, 0.35, 0.525, 0.525, 0.5, 0.5, 0.55, 0.5, 0.525, 0.5], [0.425, 0.4, 0.575, 0.6, 0.4, 0.425, 0.55, 0.575, 0.475, 0.55], [0.5, 0.475, 0.575, 0.5, 0.425, 0.5, 0.425, 0.525, 0.5, 0.6], [0.425, 0.475, 0.425, 0.475, 0.475, 0.375, 0.475, 0.525, 0.475, 0.475]]\n"
     ]
    }
   ],
   "source": [
    "print(\"Media Score dos N K-Fold\", np.mean([np.mean(i) for i in scores_list]))\n",
    "print(\"Maior Score dos K-Fold\", max([np.mean(i) for i in scores_list]))\n",
    "print(\"Menor Score dos K-Fold\", min([np.mean(i) for i in scores_list]))\n",
    "\n",
    "print()\n",
    "print()\n",
    "print(scores_list)"
   ]
  },
  {
   "cell_type": "code",
   "execution_count": 6,
   "id": "94e6481f",
   "metadata": {},
   "outputs": [
    {
     "name": "stdout",
     "output_type": "stream",
     "text": [
      "Media F1Score dos N K-Fold 0.3976371522510266\n",
      "Maior F1Score dos K-Fold 0.5174603174603175\n",
      "Menor F1Score dos K-Fold 0.33090909090909093\n",
      "\n",
      "\n",
      "[0.40683430045132174, 0.38909090909090915, 0.33090909090909093, 0.41299790356394134, 0.35926773455377575, 0.37460913070669166, 0.35926773455377575, 0.5174603174603175, 0.35926773455377575, 0.4666666666666666]\n"
     ]
    }
   ],
   "source": [
    "print(\"Media F1Score dos N K-Fold\", np.mean([np.mean(i) for i in f1scores]))\n",
    "print(\"Maior F1Score dos K-Fold\", max([np.mean(i) for i in f1scores]))\n",
    "print(\"Menor F1Score dos K-Fold\", min([np.mean(i) for i in f1scores]))\n",
    "\n",
    "print()\n",
    "print()\n",
    "print(f1scores)"
   ]
  }
 ],
 "metadata": {
  "kernelspec": {
   "display_name": "Python 3",
   "language": "python",
   "name": "python3"
  },
  "language_info": {
   "codemirror_mode": {
    "name": "ipython",
    "version": 3
   },
   "file_extension": ".py",
   "mimetype": "text/x-python",
   "name": "python",
   "nbconvert_exporter": "python",
   "pygments_lexer": "ipython3",
   "version": "3.9.16"
  }
 },
 "nbformat": 4,
 "nbformat_minor": 5
}
