{
 "cells": [
  {
   "attachments": {},
   "cell_type": "markdown",
   "id": "7cafd549",
   "metadata": {},
   "source": [
    "## Proposed - 1 -  Sigma_q with Identity and Load input state in env state"
   ]
  },
  {
   "cell_type": "code",
   "execution_count": 1,
   "id": "f6a490ca",
   "metadata": {},
   "outputs": [
    {
     "name": "stderr",
     "output_type": "stream",
     "text": [
      "Intel(R) Extension for Scikit-learn* enabled (https://github.com/intel/scikit-learn-intelex)\n"
     ]
    }
   ],
   "source": [
    "import sys, os\n",
    "sys.path.append(os.path.abspath('../classifiers'))\n",
    "sys.path.append(os.path.abspath('../training'))\n",
    "sys.path.append(os.path.abspath('../validation'))\n",
    "from validation_functions import execute_training_test_k_fold\n",
    "from classifiers_ICQ import iqc_classifier\n",
    "\n",
    "from sklearn.multiclass import OneVsRestClassifier\n",
    "import numpy as np\n",
    "from sklearn import datasets"
   ]
  },
  {
   "cell_type": "code",
   "execution_count": 2,
   "id": "ba271fd2",
   "metadata": {},
   "outputs": [],
   "source": [
    "def get_circles():\n",
    "    # Dá pra usar caminhos relativos, não tem pra quê colocar tudo de uma vez não\n",
    "    path_to_datasets = \"../datasets/Datasets_template_exp/\" \n",
    "    dataset_name = \"circles.npy\"\n",
    "    dataset = np.load( path_to_datasets + dataset_name)\n",
    "\n",
    "    X, y = dataset[:,:-1],dataset[:,-1]\n",
    "    return X, y"
   ]
  },
  {
   "cell_type": "code",
   "execution_count": 3,
   "id": "0db239e0",
   "metadata": {},
   "outputs": [],
   "source": [
    "X, y = get_circles()\n",
    "classifier_function = iqc_classifier\n",
    "dic_classifier_params = {}\n",
    "dic_classifier_params[\"sigma_q_params\"] = [1,1,1,1]\n",
    "dic_classifier_params[\"use_polar_coordinates_on_sigma_q\"] = False\n",
    "dic_classifier_params[\"load_inputvector_env_state\"] = True\n",
    "dic_classifier_params[\"normalize_axis\"] = 1\n",
    "\n",
    "dic_training_params = {\"max_iter\": 1000,\n",
    "    \"accuracy_succ\": 0.99,\n",
    "    \"plot_graphs_and_metrics\": True,\n",
    "    \"plot_graphs_in_classifier\": True,\n",
    "    \"random_seed\": 1,\n",
    "    \"learning_rate\": 0.01,\n",
    "    \"refit_db\":True,\n",
    "    \"reset_weights_epoch\":0,\n",
    "    \"do_classes_refit\":True,\n",
    "    \"batch\":False}\n",
    "\n",
    "\n",
    "print_each_fold_metric=True\n",
    "print_avg_metric=True\n",
    "\n",
    "\n",
    "n_times_kfold = 20\n",
    "k_times_fold = 10"
   ]
  },
  {
   "cell_type": "code",
   "execution_count": 4,
   "id": "cf776e03",
   "metadata": {},
   "outputs": [
    {
     "name": "stderr",
     "output_type": "stream",
     "text": [
      "[Parallel(n_jobs=-1)]: Using backend LokyBackend with 12 concurrent workers.\n",
      "[Parallel(n_jobs=-1)]: Done   1 out of   1 | elapsed:  2.0min finished\n",
      "[Parallel(n_jobs=-1)]: Using backend LokyBackend with 12 concurrent workers.\n"
     ]
    },
    {
     "name": "stdout",
     "output_type": "stream",
     "text": [
      "K-Fold #0:\n",
      "              precision    recall  f1-score   support\n",
      "\n",
      "         0.0       0.00      0.00      0.00        20\n",
      "         1.0       0.44      0.80      0.57        20\n",
      "\n",
      "    accuracy                           0.40        40\n",
      "   macro avg       0.22      0.40      0.29        40\n",
      "weighted avg       0.22      0.40      0.29        40\n",
      "\n",
      "-------------------------------------------------------------------------------------------------------------------\n"
     ]
    },
    {
     "name": "stderr",
     "output_type": "stream",
     "text": [
      "[Parallel(n_jobs=-1)]: Done   1 out of   1 | elapsed:  1.8min finished\n",
      "[Parallel(n_jobs=-1)]: Using backend LokyBackend with 12 concurrent workers.\n"
     ]
    },
    {
     "name": "stdout",
     "output_type": "stream",
     "text": [
      "K-Fold #1:\n",
      "              precision    recall  f1-score   support\n",
      "\n",
      "         0.0       0.55      0.55      0.55        20\n",
      "         1.0       0.55      0.55      0.55        20\n",
      "\n",
      "    accuracy                           0.55        40\n",
      "   macro avg       0.55      0.55      0.55        40\n",
      "weighted avg       0.55      0.55      0.55        40\n",
      "\n",
      "-------------------------------------------------------------------------------------------------------------------\n"
     ]
    },
    {
     "name": "stderr",
     "output_type": "stream",
     "text": [
      "[Parallel(n_jobs=-1)]: Done   1 out of   1 | elapsed:  1.8min finished\n",
      "[Parallel(n_jobs=-1)]: Using backend LokyBackend with 12 concurrent workers.\n"
     ]
    },
    {
     "name": "stdout",
     "output_type": "stream",
     "text": [
      "K-Fold #2:\n",
      "              precision    recall  f1-score   support\n",
      "\n",
      "         0.0       0.32      0.30      0.31        20\n",
      "         1.0       0.33      0.35      0.34        20\n",
      "\n",
      "    accuracy                           0.33        40\n",
      "   macro avg       0.32      0.32      0.32        40\n",
      "weighted avg       0.32      0.33      0.32        40\n",
      "\n",
      "-------------------------------------------------------------------------------------------------------------------\n"
     ]
    },
    {
     "name": "stderr",
     "output_type": "stream",
     "text": [
      "[Parallel(n_jobs=-1)]: Done   1 out of   1 | elapsed:  1.8min finished\n",
      "[Parallel(n_jobs=-1)]: Using backend LokyBackend with 12 concurrent workers.\n"
     ]
    },
    {
     "name": "stdout",
     "output_type": "stream",
     "text": [
      "K-Fold #3:\n",
      "              precision    recall  f1-score   support\n",
      "\n",
      "         0.0       0.48      0.50      0.49        20\n",
      "         1.0       0.47      0.45      0.46        20\n",
      "\n",
      "    accuracy                           0.48        40\n",
      "   macro avg       0.47      0.47      0.47        40\n",
      "weighted avg       0.47      0.47      0.47        40\n",
      "\n",
      "-------------------------------------------------------------------------------------------------------------------\n"
     ]
    },
    {
     "name": "stderr",
     "output_type": "stream",
     "text": [
      "[Parallel(n_jobs=-1)]: Done   1 out of   1 | elapsed:  1.9min finished\n",
      "[Parallel(n_jobs=-1)]: Using backend LokyBackend with 12 concurrent workers.\n"
     ]
    },
    {
     "name": "stdout",
     "output_type": "stream",
     "text": [
      "K-Fold #4:\n",
      "              precision    recall  f1-score   support\n",
      "\n",
      "         0.0       0.52      0.85      0.64        20\n",
      "         1.0       0.57      0.20      0.30        20\n",
      "\n",
      "    accuracy                           0.53        40\n",
      "   macro avg       0.54      0.53      0.47        40\n",
      "weighted avg       0.54      0.53      0.47        40\n",
      "\n",
      "-------------------------------------------------------------------------------------------------------------------\n"
     ]
    },
    {
     "name": "stderr",
     "output_type": "stream",
     "text": [
      "[Parallel(n_jobs=-1)]: Done   1 out of   1 | elapsed:  2.0min finished\n",
      "[Parallel(n_jobs=-1)]: Using backend LokyBackend with 12 concurrent workers.\n"
     ]
    },
    {
     "name": "stdout",
     "output_type": "stream",
     "text": [
      "K-Fold #5:\n",
      "              precision    recall  f1-score   support\n",
      "\n",
      "         0.0       0.47      0.35      0.40        20\n",
      "         1.0       0.48      0.60      0.53        20\n",
      "\n",
      "    accuracy                           0.48        40\n",
      "   macro avg       0.47      0.47      0.47        40\n",
      "weighted avg       0.47      0.47      0.47        40\n",
      "\n",
      "-------------------------------------------------------------------------------------------------------------------\n"
     ]
    },
    {
     "name": "stderr",
     "output_type": "stream",
     "text": [
      "[Parallel(n_jobs=-1)]: Done   1 out of   1 | elapsed:  2.0min finished\n",
      "[Parallel(n_jobs=-1)]: Using backend LokyBackend with 12 concurrent workers.\n"
     ]
    },
    {
     "name": "stdout",
     "output_type": "stream",
     "text": [
      "K-Fold #6:\n",
      "              precision    recall  f1-score   support\n",
      "\n",
      "         0.0       0.33      0.35      0.34        20\n",
      "         1.0       0.32      0.30      0.31        20\n",
      "\n",
      "    accuracy                           0.33        40\n",
      "   macro avg       0.32      0.32      0.32        40\n",
      "weighted avg       0.32      0.33      0.32        40\n",
      "\n",
      "-------------------------------------------------------------------------------------------------------------------\n"
     ]
    },
    {
     "name": "stderr",
     "output_type": "stream",
     "text": [
      "[Parallel(n_jobs=-1)]: Done   1 out of   1 | elapsed:  1.8min finished\n",
      "[Parallel(n_jobs=-1)]: Using backend LokyBackend with 12 concurrent workers.\n"
     ]
    },
    {
     "name": "stdout",
     "output_type": "stream",
     "text": [
      "K-Fold #7:\n",
      "              precision    recall  f1-score   support\n",
      "\n",
      "         0.0       0.48      0.55      0.51        20\n",
      "         1.0       0.47      0.40      0.43        20\n",
      "\n",
      "    accuracy                           0.48        40\n",
      "   macro avg       0.47      0.48      0.47        40\n",
      "weighted avg       0.47      0.47      0.47        40\n",
      "\n",
      "-------------------------------------------------------------------------------------------------------------------\n"
     ]
    },
    {
     "name": "stderr",
     "output_type": "stream",
     "text": [
      "[Parallel(n_jobs=-1)]: Done   1 out of   1 | elapsed:  1.8min finished\n",
      "[Parallel(n_jobs=-1)]: Using backend LokyBackend with 12 concurrent workers.\n"
     ]
    },
    {
     "name": "stdout",
     "output_type": "stream",
     "text": [
      "K-Fold #8:\n",
      "              precision    recall  f1-score   support\n",
      "\n",
      "         0.0       0.41      0.35      0.38        20\n",
      "         1.0       0.43      0.50      0.47        20\n",
      "\n",
      "    accuracy                           0.42        40\n",
      "   macro avg       0.42      0.42      0.42        40\n",
      "weighted avg       0.42      0.42      0.42        40\n",
      "\n",
      "-------------------------------------------------------------------------------------------------------------------\n"
     ]
    },
    {
     "name": "stderr",
     "output_type": "stream",
     "text": [
      "[Parallel(n_jobs=-1)]: Done   1 out of   1 | elapsed:  1.9min finished\n",
      "[Parallel(n_jobs=-1)]: Using backend LokyBackend with 12 concurrent workers.\n"
     ]
    },
    {
     "name": "stdout",
     "output_type": "stream",
     "text": [
      "K-Fold #9:\n",
      "              precision    recall  f1-score   support\n",
      "\n",
      "         0.0       0.50      0.80      0.62        20\n",
      "         1.0       0.50      0.20      0.29        20\n",
      "\n",
      "    accuracy                           0.50        40\n",
      "   macro avg       0.50      0.50      0.45        40\n",
      "weighted avg       0.50      0.50      0.45        40\n",
      "\n",
      "-------------------------------------------------------------------------------------------------------------------\n",
      "AVG: Scores = 0.44749999999999995 F1-Scores = 0.42394381586084195\n"
     ]
    },
    {
     "name": "stderr",
     "output_type": "stream",
     "text": [
      "[Parallel(n_jobs=-1)]: Done   1 out of   1 | elapsed:  1.8min finished\n",
      "[Parallel(n_jobs=-1)]: Using backend LokyBackend with 12 concurrent workers.\n"
     ]
    },
    {
     "name": "stdout",
     "output_type": "stream",
     "text": [
      "K-Fold #0:\n",
      "              precision    recall  f1-score   support\n",
      "\n",
      "         0.0       0.43      0.45      0.44        20\n",
      "         1.0       0.42      0.40      0.41        20\n",
      "\n",
      "    accuracy                           0.42        40\n",
      "   macro avg       0.42      0.43      0.42        40\n",
      "weighted avg       0.42      0.42      0.42        40\n",
      "\n",
      "-------------------------------------------------------------------------------------------------------------------\n"
     ]
    },
    {
     "name": "stderr",
     "output_type": "stream",
     "text": [
      "[Parallel(n_jobs=-1)]: Done   1 out of   1 | elapsed:  1.8min finished\n",
      "[Parallel(n_jobs=-1)]: Using backend LokyBackend with 12 concurrent workers.\n"
     ]
    },
    {
     "name": "stdout",
     "output_type": "stream",
     "text": [
      "K-Fold #1:\n",
      "              precision    recall  f1-score   support\n",
      "\n",
      "         0.0       0.48      0.55      0.51        20\n",
      "         1.0       0.47      0.40      0.43        20\n",
      "\n",
      "    accuracy                           0.48        40\n",
      "   macro avg       0.47      0.48      0.47        40\n",
      "weighted avg       0.47      0.47      0.47        40\n",
      "\n",
      "-------------------------------------------------------------------------------------------------------------------\n"
     ]
    },
    {
     "name": "stderr",
     "output_type": "stream",
     "text": [
      "[Parallel(n_jobs=-1)]: Done   1 out of   1 | elapsed:  1.9min finished\n",
      "[Parallel(n_jobs=-1)]: Using backend LokyBackend with 12 concurrent workers.\n"
     ]
    },
    {
     "name": "stdout",
     "output_type": "stream",
     "text": [
      "K-Fold #2:\n",
      "              precision    recall  f1-score   support\n",
      "\n",
      "         0.0       0.45      0.50      0.48        20\n",
      "         1.0       0.44      0.40      0.42        20\n",
      "\n",
      "    accuracy                           0.45        40\n",
      "   macro avg       0.45      0.45      0.45        40\n",
      "weighted avg       0.45      0.45      0.45        40\n",
      "\n",
      "-------------------------------------------------------------------------------------------------------------------\n"
     ]
    },
    {
     "name": "stderr",
     "output_type": "stream",
     "text": [
      "[Parallel(n_jobs=-1)]: Done   1 out of   1 | elapsed:  1.9min finished\n",
      "[Parallel(n_jobs=-1)]: Using backend LokyBackend with 12 concurrent workers.\n"
     ]
    },
    {
     "name": "stdout",
     "output_type": "stream",
     "text": [
      "K-Fold #3:\n",
      "              precision    recall  f1-score   support\n",
      "\n",
      "         0.0       0.50      0.50      0.50        20\n",
      "         1.0       0.50      0.50      0.50        20\n",
      "\n",
      "    accuracy                           0.50        40\n",
      "   macro avg       0.50      0.50      0.50        40\n",
      "weighted avg       0.50      0.50      0.50        40\n",
      "\n",
      "-------------------------------------------------------------------------------------------------------------------\n"
     ]
    },
    {
     "name": "stderr",
     "output_type": "stream",
     "text": [
      "[Parallel(n_jobs=-1)]: Done   1 out of   1 | elapsed:  2.0min finished\n",
      "[Parallel(n_jobs=-1)]: Using backend LokyBackend with 12 concurrent workers.\n"
     ]
    },
    {
     "name": "stdout",
     "output_type": "stream",
     "text": [
      "K-Fold #4:\n",
      "              precision    recall  f1-score   support\n",
      "\n",
      "         0.0       0.54      0.75      0.63        20\n",
      "         1.0       0.58      0.35      0.44        20\n",
      "\n",
      "    accuracy                           0.55        40\n",
      "   macro avg       0.56      0.55      0.53        40\n",
      "weighted avg       0.56      0.55      0.53        40\n",
      "\n",
      "-------------------------------------------------------------------------------------------------------------------\n"
     ]
    },
    {
     "name": "stderr",
     "output_type": "stream",
     "text": [
      "[Parallel(n_jobs=-1)]: Done   1 out of   1 | elapsed:  2.0min finished\n",
      "[Parallel(n_jobs=-1)]: Using backend LokyBackend with 12 concurrent workers.\n"
     ]
    },
    {
     "name": "stdout",
     "output_type": "stream",
     "text": [
      "K-Fold #5:\n",
      "              precision    recall  f1-score   support\n",
      "\n",
      "         0.0       0.48      0.80      0.60        20\n",
      "         1.0       0.43      0.15      0.22        20\n",
      "\n",
      "    accuracy                           0.48        40\n",
      "   macro avg       0.46      0.48      0.41        40\n",
      "weighted avg       0.46      0.47      0.41        40\n",
      "\n",
      "-------------------------------------------------------------------------------------------------------------------\n"
     ]
    },
    {
     "name": "stderr",
     "output_type": "stream",
     "text": [
      "[Parallel(n_jobs=-1)]: Done   1 out of   1 | elapsed:  1.9min finished\n",
      "[Parallel(n_jobs=-1)]: Using backend LokyBackend with 12 concurrent workers.\n"
     ]
    },
    {
     "name": "stdout",
     "output_type": "stream",
     "text": [
      "K-Fold #6:\n",
      "              precision    recall  f1-score   support\n",
      "\n",
      "         0.0       0.48      0.60      0.53        20\n",
      "         1.0       0.47      0.35      0.40        20\n",
      "\n",
      "    accuracy                           0.48        40\n",
      "   macro avg       0.47      0.47      0.47        40\n",
      "weighted avg       0.47      0.47      0.47        40\n",
      "\n",
      "-------------------------------------------------------------------------------------------------------------------\n"
     ]
    },
    {
     "name": "stderr",
     "output_type": "stream",
     "text": [
      "[Parallel(n_jobs=-1)]: Done   1 out of   1 | elapsed:  2.0min finished\n",
      "[Parallel(n_jobs=-1)]: Using backend LokyBackend with 12 concurrent workers.\n"
     ]
    },
    {
     "name": "stdout",
     "output_type": "stream",
     "text": [
      "K-Fold #7:\n",
      "              precision    recall  f1-score   support\n",
      "\n",
      "         0.0       0.50      0.85      0.63        20\n",
      "         1.0       0.50      0.15      0.23        20\n",
      "\n",
      "    accuracy                           0.50        40\n",
      "   macro avg       0.50      0.50      0.43        40\n",
      "weighted avg       0.50      0.50      0.43        40\n",
      "\n",
      "-------------------------------------------------------------------------------------------------------------------\n"
     ]
    },
    {
     "name": "stderr",
     "output_type": "stream",
     "text": [
      "[Parallel(n_jobs=-1)]: Done   1 out of   1 | elapsed:  2.0min finished\n",
      "[Parallel(n_jobs=-1)]: Using backend LokyBackend with 12 concurrent workers.\n"
     ]
    },
    {
     "name": "stdout",
     "output_type": "stream",
     "text": [
      "K-Fold #8:\n",
      "              precision    recall  f1-score   support\n",
      "\n",
      "         0.0       0.47      0.75      0.58        20\n",
      "         1.0       0.38      0.15      0.21        20\n",
      "\n",
      "    accuracy                           0.45        40\n",
      "   macro avg       0.42      0.45      0.40        40\n",
      "weighted avg       0.42      0.45      0.40        40\n",
      "\n",
      "-------------------------------------------------------------------------------------------------------------------\n"
     ]
    },
    {
     "name": "stderr",
     "output_type": "stream",
     "text": [
      "[Parallel(n_jobs=-1)]: Done   1 out of   1 | elapsed:  2.0min finished\n",
      "[Parallel(n_jobs=-1)]: Using backend LokyBackend with 12 concurrent workers.\n"
     ]
    },
    {
     "name": "stdout",
     "output_type": "stream",
     "text": [
      "K-Fold #9:\n",
      "              precision    recall  f1-score   support\n",
      "\n",
      "         0.0       0.38      0.25      0.30        20\n",
      "         1.0       0.44      0.60      0.51        20\n",
      "\n",
      "    accuracy                           0.42        40\n",
      "   macro avg       0.41      0.42      0.41        40\n",
      "weighted avg       0.41      0.42      0.41        40\n",
      "\n",
      "-------------------------------------------------------------------------------------------------------------------\n",
      "AVG: Scores = 0.4725 F1-Scores = 0.4488844820325212\n"
     ]
    },
    {
     "name": "stderr",
     "output_type": "stream",
     "text": [
      "[Parallel(n_jobs=-1)]: Done   1 out of   1 | elapsed:  1.8min finished\n",
      "[Parallel(n_jobs=-1)]: Using backend LokyBackend with 12 concurrent workers.\n"
     ]
    },
    {
     "name": "stdout",
     "output_type": "stream",
     "text": [
      "K-Fold #0:\n",
      "              precision    recall  f1-score   support\n",
      "\n",
      "         0.0       0.29      0.10      0.15        20\n",
      "         1.0       0.45      0.75      0.57        20\n",
      "\n",
      "    accuracy                           0.42        40\n",
      "   macro avg       0.37      0.42      0.36        40\n",
      "weighted avg       0.37      0.42      0.36        40\n",
      "\n",
      "-------------------------------------------------------------------------------------------------------------------\n"
     ]
    },
    {
     "name": "stderr",
     "output_type": "stream",
     "text": [
      "[Parallel(n_jobs=-1)]: Done   1 out of   1 | elapsed:  1.8min finished\n",
      "[Parallel(n_jobs=-1)]: Using backend LokyBackend with 12 concurrent workers.\n"
     ]
    },
    {
     "name": "stdout",
     "output_type": "stream",
     "text": [
      "K-Fold #1:\n",
      "              precision    recall  f1-score   support\n",
      "\n",
      "         0.0       0.40      0.20      0.27        20\n",
      "         1.0       0.47      0.70      0.56        20\n",
      "\n",
      "    accuracy                           0.45        40\n",
      "   macro avg       0.43      0.45      0.41        40\n",
      "weighted avg       0.43      0.45      0.41        40\n",
      "\n",
      "-------------------------------------------------------------------------------------------------------------------\n"
     ]
    },
    {
     "name": "stderr",
     "output_type": "stream",
     "text": [
      "[Parallel(n_jobs=-1)]: Done   1 out of   1 | elapsed:  1.8min finished\n",
      "[Parallel(n_jobs=-1)]: Using backend LokyBackend with 12 concurrent workers.\n"
     ]
    },
    {
     "name": "stdout",
     "output_type": "stream",
     "text": [
      "K-Fold #2:\n",
      "              precision    recall  f1-score   support\n",
      "\n",
      "         0.0       0.41      0.55      0.47        20\n",
      "         1.0       0.31      0.20      0.24        20\n",
      "\n",
      "    accuracy                           0.38        40\n",
      "   macro avg       0.36      0.38      0.36        40\n",
      "weighted avg       0.36      0.38      0.36        40\n",
      "\n",
      "-------------------------------------------------------------------------------------------------------------------\n"
     ]
    },
    {
     "name": "stderr",
     "output_type": "stream",
     "text": [
      "[Parallel(n_jobs=-1)]: Done   1 out of   1 | elapsed:  2.1min finished\n",
      "[Parallel(n_jobs=-1)]: Using backend LokyBackend with 12 concurrent workers.\n"
     ]
    },
    {
     "name": "stdout",
     "output_type": "stream",
     "text": [
      "K-Fold #3:\n",
      "              precision    recall  f1-score   support\n",
      "\n",
      "         0.0       0.42      0.50      0.45        20\n",
      "         1.0       0.38      0.30      0.33        20\n",
      "\n",
      "    accuracy                           0.40        40\n",
      "   macro avg       0.40      0.40      0.39        40\n",
      "weighted avg       0.40      0.40      0.39        40\n",
      "\n",
      "-------------------------------------------------------------------------------------------------------------------\n"
     ]
    },
    {
     "name": "stderr",
     "output_type": "stream",
     "text": [
      "[Parallel(n_jobs=-1)]: Done   1 out of   1 | elapsed:  2.0min finished\n",
      "[Parallel(n_jobs=-1)]: Using backend LokyBackend with 12 concurrent workers.\n"
     ]
    },
    {
     "name": "stdout",
     "output_type": "stream",
     "text": [
      "K-Fold #4:\n",
      "              precision    recall  f1-score   support\n",
      "\n",
      "         0.0       0.52      0.60      0.56        20\n",
      "         1.0       0.53      0.45      0.49        20\n",
      "\n",
      "    accuracy                           0.53        40\n",
      "   macro avg       0.53      0.53      0.52        40\n",
      "weighted avg       0.53      0.53      0.52        40\n",
      "\n",
      "-------------------------------------------------------------------------------------------------------------------\n"
     ]
    },
    {
     "name": "stderr",
     "output_type": "stream",
     "text": [
      "[Parallel(n_jobs=-1)]: Done   1 out of   1 | elapsed:  1.8min finished\n",
      "[Parallel(n_jobs=-1)]: Using backend LokyBackend with 12 concurrent workers.\n"
     ]
    },
    {
     "name": "stdout",
     "output_type": "stream",
     "text": [
      "K-Fold #5:\n",
      "              precision    recall  f1-score   support\n",
      "\n",
      "         0.0       0.38      0.30      0.33        20\n",
      "         1.0       0.42      0.50      0.45        20\n",
      "\n",
      "    accuracy                           0.40        40\n",
      "   macro avg       0.40      0.40      0.39        40\n",
      "weighted avg       0.40      0.40      0.39        40\n",
      "\n",
      "-------------------------------------------------------------------------------------------------------------------\n"
     ]
    },
    {
     "name": "stderr",
     "output_type": "stream",
     "text": [
      "[Parallel(n_jobs=-1)]: Done   1 out of   1 | elapsed:  1.9min finished\n",
      "[Parallel(n_jobs=-1)]: Using backend LokyBackend with 12 concurrent workers.\n"
     ]
    },
    {
     "name": "stdout",
     "output_type": "stream",
     "text": [
      "K-Fold #6:\n",
      "              precision    recall  f1-score   support\n",
      "\n",
      "         0.0       0.55      0.55      0.55        20\n",
      "         1.0       0.55      0.55      0.55        20\n",
      "\n",
      "    accuracy                           0.55        40\n",
      "   macro avg       0.55      0.55      0.55        40\n",
      "weighted avg       0.55      0.55      0.55        40\n",
      "\n",
      "-------------------------------------------------------------------------------------------------------------------\n"
     ]
    },
    {
     "name": "stderr",
     "output_type": "stream",
     "text": [
      "[Parallel(n_jobs=-1)]: Done   1 out of   1 | elapsed:  2.0min finished\n",
      "[Parallel(n_jobs=-1)]: Using backend LokyBackend with 12 concurrent workers.\n"
     ]
    },
    {
     "name": "stdout",
     "output_type": "stream",
     "text": [
      "K-Fold #7:\n",
      "              precision    recall  f1-score   support\n",
      "\n",
      "         0.0       0.44      0.80      0.57        20\n",
      "         1.0       0.00      0.00      0.00        20\n",
      "\n",
      "    accuracy                           0.40        40\n",
      "   macro avg       0.22      0.40      0.29        40\n",
      "weighted avg       0.22      0.40      0.29        40\n",
      "\n",
      "-------------------------------------------------------------------------------------------------------------------\n"
     ]
    },
    {
     "name": "stderr",
     "output_type": "stream",
     "text": [
      "[Parallel(n_jobs=-1)]: Done   1 out of   1 | elapsed:  1.9min finished\n",
      "[Parallel(n_jobs=-1)]: Using backend LokyBackend with 12 concurrent workers.\n"
     ]
    },
    {
     "name": "stdout",
     "output_type": "stream",
     "text": [
      "K-Fold #8:\n",
      "              precision    recall  f1-score   support\n",
      "\n",
      "         0.0       0.40      0.40      0.40        20\n",
      "         1.0       0.40      0.40      0.40        20\n",
      "\n",
      "    accuracy                           0.40        40\n",
      "   macro avg       0.40      0.40      0.40        40\n",
      "weighted avg       0.40      0.40      0.40        40\n",
      "\n",
      "-------------------------------------------------------------------------------------------------------------------\n"
     ]
    },
    {
     "name": "stderr",
     "output_type": "stream",
     "text": [
      "[Parallel(n_jobs=-1)]: Done   1 out of   1 | elapsed:  1.8min finished\n",
      "[Parallel(n_jobs=-1)]: Using backend LokyBackend with 12 concurrent workers.\n"
     ]
    },
    {
     "name": "stdout",
     "output_type": "stream",
     "text": [
      "K-Fold #9:\n",
      "              precision    recall  f1-score   support\n",
      "\n",
      "         0.0       0.38      0.30      0.33        20\n",
      "         1.0       0.42      0.50      0.45        20\n",
      "\n",
      "    accuracy                           0.40        40\n",
      "   macro avg       0.40      0.40      0.39        40\n",
      "weighted avg       0.40      0.40      0.39        40\n",
      "\n",
      "-------------------------------------------------------------------------------------------------------------------\n",
      "AVG: Scores = 0.4325 F1-Scores = 0.4065526427953118\n"
     ]
    },
    {
     "name": "stderr",
     "output_type": "stream",
     "text": [
      "[Parallel(n_jobs=-1)]: Done   1 out of   1 | elapsed:  2.0min finished\n",
      "[Parallel(n_jobs=-1)]: Using backend LokyBackend with 12 concurrent workers.\n"
     ]
    },
    {
     "name": "stdout",
     "output_type": "stream",
     "text": [
      "K-Fold #0:\n",
      "              precision    recall  f1-score   support\n",
      "\n",
      "         0.0       0.40      0.20      0.27        20\n",
      "         1.0       0.47      0.70      0.56        20\n",
      "\n",
      "    accuracy                           0.45        40\n",
      "   macro avg       0.43      0.45      0.41        40\n",
      "weighted avg       0.43      0.45      0.41        40\n",
      "\n",
      "-------------------------------------------------------------------------------------------------------------------\n"
     ]
    },
    {
     "name": "stderr",
     "output_type": "stream",
     "text": [
      "[Parallel(n_jobs=-1)]: Done   1 out of   1 | elapsed:  1.9min finished\n",
      "[Parallel(n_jobs=-1)]: Using backend LokyBackend with 12 concurrent workers.\n"
     ]
    },
    {
     "name": "stdout",
     "output_type": "stream",
     "text": [
      "K-Fold #1:\n",
      "              precision    recall  f1-score   support\n",
      "\n",
      "         0.0       0.41      0.45      0.43        20\n",
      "         1.0       0.39      0.35      0.37        20\n",
      "\n",
      "    accuracy                           0.40        40\n",
      "   macro avg       0.40      0.40      0.40        40\n",
      "weighted avg       0.40      0.40      0.40        40\n",
      "\n",
      "-------------------------------------------------------------------------------------------------------------------\n"
     ]
    },
    {
     "name": "stderr",
     "output_type": "stream",
     "text": [
      "[Parallel(n_jobs=-1)]: Done   1 out of   1 | elapsed:  1.8min finished\n",
      "[Parallel(n_jobs=-1)]: Using backend LokyBackend with 12 concurrent workers.\n"
     ]
    },
    {
     "name": "stdout",
     "output_type": "stream",
     "text": [
      "K-Fold #2:\n",
      "              precision    recall  f1-score   support\n",
      "\n",
      "         0.0       0.41      0.45      0.43        20\n",
      "         1.0       0.39      0.35      0.37        20\n",
      "\n",
      "    accuracy                           0.40        40\n",
      "   macro avg       0.40      0.40      0.40        40\n",
      "weighted avg       0.40      0.40      0.40        40\n",
      "\n",
      "-------------------------------------------------------------------------------------------------------------------\n"
     ]
    },
    {
     "name": "stderr",
     "output_type": "stream",
     "text": [
      "[Parallel(n_jobs=-1)]: Done   1 out of   1 | elapsed:  1.8min finished\n",
      "[Parallel(n_jobs=-1)]: Using backend LokyBackend with 12 concurrent workers.\n"
     ]
    },
    {
     "name": "stdout",
     "output_type": "stream",
     "text": [
      "K-Fold #3:\n",
      "              precision    recall  f1-score   support\n",
      "\n",
      "         0.0       0.48      0.55      0.51        20\n",
      "         1.0       0.47      0.40      0.43        20\n",
      "\n",
      "    accuracy                           0.48        40\n",
      "   macro avg       0.47      0.48      0.47        40\n",
      "weighted avg       0.47      0.47      0.47        40\n",
      "\n",
      "-------------------------------------------------------------------------------------------------------------------\n"
     ]
    },
    {
     "name": "stderr",
     "output_type": "stream",
     "text": [
      "[Parallel(n_jobs=-1)]: Done   1 out of   1 | elapsed:  1.8min finished\n",
      "[Parallel(n_jobs=-1)]: Using backend LokyBackend with 12 concurrent workers.\n"
     ]
    },
    {
     "name": "stdout",
     "output_type": "stream",
     "text": [
      "K-Fold #4:\n",
      "              precision    recall  f1-score   support\n",
      "\n",
      "         0.0       0.48      0.65      0.55        20\n",
      "         1.0       0.46      0.30      0.36        20\n",
      "\n",
      "    accuracy                           0.48        40\n",
      "   macro avg       0.47      0.47      0.46        40\n",
      "weighted avg       0.47      0.47      0.46        40\n",
      "\n",
      "-------------------------------------------------------------------------------------------------------------------\n"
     ]
    },
    {
     "name": "stderr",
     "output_type": "stream",
     "text": [
      "[Parallel(n_jobs=-1)]: Done   1 out of   1 | elapsed:  2.0min finished\n",
      "[Parallel(n_jobs=-1)]: Using backend LokyBackend with 12 concurrent workers.\n"
     ]
    },
    {
     "name": "stdout",
     "output_type": "stream",
     "text": [
      "K-Fold #5:\n",
      "              precision    recall  f1-score   support\n",
      "\n",
      "         0.0       0.40      0.20      0.27        20\n",
      "         1.0       0.47      0.70      0.56        20\n",
      "\n",
      "    accuracy                           0.45        40\n",
      "   macro avg       0.43      0.45      0.41        40\n",
      "weighted avg       0.43      0.45      0.41        40\n",
      "\n",
      "-------------------------------------------------------------------------------------------------------------------\n"
     ]
    },
    {
     "name": "stderr",
     "output_type": "stream",
     "text": [
      "[Parallel(n_jobs=-1)]: Done   1 out of   1 | elapsed:  1.8min finished\n",
      "[Parallel(n_jobs=-1)]: Using backend LokyBackend with 12 concurrent workers.\n"
     ]
    },
    {
     "name": "stdout",
     "output_type": "stream",
     "text": [
      "K-Fold #6:\n",
      "              precision    recall  f1-score   support\n",
      "\n",
      "         0.0       0.41      0.55      0.47        20\n",
      "         1.0       0.31      0.20      0.24        20\n",
      "\n",
      "    accuracy                           0.38        40\n",
      "   macro avg       0.36      0.38      0.36        40\n",
      "weighted avg       0.36      0.38      0.36        40\n",
      "\n",
      "-------------------------------------------------------------------------------------------------------------------\n"
     ]
    },
    {
     "name": "stderr",
     "output_type": "stream",
     "text": [
      "[Parallel(n_jobs=-1)]: Done   1 out of   1 | elapsed:  1.8min finished\n",
      "[Parallel(n_jobs=-1)]: Using backend LokyBackend with 12 concurrent workers.\n"
     ]
    },
    {
     "name": "stdout",
     "output_type": "stream",
     "text": [
      "K-Fold #7:\n",
      "              precision    recall  f1-score   support\n",
      "\n",
      "         0.0       0.44      0.55      0.49        20\n",
      "         1.0       0.40      0.30      0.34        20\n",
      "\n",
      "    accuracy                           0.42        40\n",
      "   macro avg       0.42      0.43      0.42        40\n",
      "weighted avg       0.42      0.42      0.42        40\n",
      "\n",
      "-------------------------------------------------------------------------------------------------------------------\n"
     ]
    },
    {
     "name": "stderr",
     "output_type": "stream",
     "text": [
      "[Parallel(n_jobs=-1)]: Done   1 out of   1 | elapsed:  1.8min finished\n",
      "[Parallel(n_jobs=-1)]: Using backend LokyBackend with 12 concurrent workers.\n"
     ]
    },
    {
     "name": "stdout",
     "output_type": "stream",
     "text": [
      "K-Fold #8:\n",
      "              precision    recall  f1-score   support\n",
      "\n",
      "         0.0       0.45      0.45      0.45        20\n",
      "         1.0       0.45      0.45      0.45        20\n",
      "\n",
      "    accuracy                           0.45        40\n",
      "   macro avg       0.45      0.45      0.45        40\n",
      "weighted avg       0.45      0.45      0.45        40\n",
      "\n",
      "-------------------------------------------------------------------------------------------------------------------\n"
     ]
    },
    {
     "name": "stderr",
     "output_type": "stream",
     "text": [
      "[Parallel(n_jobs=-1)]: Done   1 out of   1 | elapsed:  1.8min finished\n",
      "[Parallel(n_jobs=-1)]: Using backend LokyBackend with 12 concurrent workers.\n"
     ]
    },
    {
     "name": "stdout",
     "output_type": "stream",
     "text": [
      "K-Fold #9:\n",
      "              precision    recall  f1-score   support\n",
      "\n",
      "         0.0       0.52      0.70      0.60        20\n",
      "         1.0       0.54      0.35      0.42        20\n",
      "\n",
      "    accuracy                           0.53        40\n",
      "   macro avg       0.53      0.52      0.51        40\n",
      "weighted avg       0.53      0.53      0.51        40\n",
      "\n",
      "-------------------------------------------------------------------------------------------------------------------\n",
      "AVG: Scores = 0.44250000000000006 F1-Scores = 0.42852244868966666\n"
     ]
    },
    {
     "name": "stderr",
     "output_type": "stream",
     "text": [
      "[Parallel(n_jobs=-1)]: Done   1 out of   1 | elapsed:  1.8min finished\n",
      "[Parallel(n_jobs=-1)]: Using backend LokyBackend with 12 concurrent workers.\n"
     ]
    },
    {
     "name": "stdout",
     "output_type": "stream",
     "text": [
      "K-Fold #0:\n",
      "              precision    recall  f1-score   support\n",
      "\n",
      "         0.0       0.57      0.80      0.67        20\n",
      "         1.0       0.67      0.40      0.50        20\n",
      "\n",
      "    accuracy                           0.60        40\n",
      "   macro avg       0.62      0.60      0.58        40\n",
      "weighted avg       0.62      0.60      0.58        40\n",
      "\n",
      "-------------------------------------------------------------------------------------------------------------------\n"
     ]
    },
    {
     "name": "stderr",
     "output_type": "stream",
     "text": [
      "[Parallel(n_jobs=-1)]: Done   1 out of   1 | elapsed:  2.1min finished\n",
      "[Parallel(n_jobs=-1)]: Using backend LokyBackend with 12 concurrent workers.\n"
     ]
    },
    {
     "name": "stdout",
     "output_type": "stream",
     "text": [
      "K-Fold #1:\n",
      "              precision    recall  f1-score   support\n",
      "\n",
      "         0.0       0.47      0.85      0.61        20\n",
      "         1.0       0.25      0.05      0.08        20\n",
      "\n",
      "    accuracy                           0.45        40\n",
      "   macro avg       0.36      0.45      0.35        40\n",
      "weighted avg       0.36      0.45      0.35        40\n",
      "\n",
      "-------------------------------------------------------------------------------------------------------------------\n"
     ]
    },
    {
     "name": "stderr",
     "output_type": "stream",
     "text": [
      "[Parallel(n_jobs=-1)]: Done   1 out of   1 | elapsed:  1.8min finished\n",
      "[Parallel(n_jobs=-1)]: Using backend LokyBackend with 12 concurrent workers.\n"
     ]
    },
    {
     "name": "stdout",
     "output_type": "stream",
     "text": [
      "K-Fold #2:\n",
      "              precision    recall  f1-score   support\n",
      "\n",
      "         0.0       0.50      0.60      0.55        20\n",
      "         1.0       0.50      0.40      0.44        20\n",
      "\n",
      "    accuracy                           0.50        40\n",
      "   macro avg       0.50      0.50      0.49        40\n",
      "weighted avg       0.50      0.50      0.49        40\n",
      "\n",
      "-------------------------------------------------------------------------------------------------------------------\n"
     ]
    },
    {
     "name": "stderr",
     "output_type": "stream",
     "text": [
      "[Parallel(n_jobs=-1)]: Done   1 out of   1 | elapsed:  2.0min finished\n",
      "[Parallel(n_jobs=-1)]: Using backend LokyBackend with 12 concurrent workers.\n"
     ]
    },
    {
     "name": "stdout",
     "output_type": "stream",
     "text": [
      "K-Fold #3:\n",
      "              precision    recall  f1-score   support\n",
      "\n",
      "         0.0       0.38      0.25      0.30        20\n",
      "         1.0       0.44      0.60      0.51        20\n",
      "\n",
      "    accuracy                           0.42        40\n",
      "   macro avg       0.41      0.42      0.41        40\n",
      "weighted avg       0.41      0.42      0.41        40\n",
      "\n",
      "-------------------------------------------------------------------------------------------------------------------\n"
     ]
    },
    {
     "name": "stderr",
     "output_type": "stream",
     "text": [
      "[Parallel(n_jobs=-1)]: Done   1 out of   1 | elapsed:  2.0min finished\n",
      "[Parallel(n_jobs=-1)]: Using backend LokyBackend with 12 concurrent workers.\n"
     ]
    },
    {
     "name": "stdout",
     "output_type": "stream",
     "text": [
      "K-Fold #4:\n",
      "              precision    recall  f1-score   support\n",
      "\n",
      "         0.0       0.43      0.60      0.50        20\n",
      "         1.0       0.33      0.20      0.25        20\n",
      "\n",
      "    accuracy                           0.40        40\n",
      "   macro avg       0.38      0.40      0.38        40\n",
      "weighted avg       0.38      0.40      0.38        40\n",
      "\n",
      "-------------------------------------------------------------------------------------------------------------------\n"
     ]
    },
    {
     "name": "stderr",
     "output_type": "stream",
     "text": [
      "[Parallel(n_jobs=-1)]: Done   1 out of   1 | elapsed:  2.0min finished\n",
      "[Parallel(n_jobs=-1)]: Using backend LokyBackend with 12 concurrent workers.\n"
     ]
    },
    {
     "name": "stdout",
     "output_type": "stream",
     "text": [
      "K-Fold #5:\n",
      "              precision    recall  f1-score   support\n",
      "\n",
      "         0.0       0.55      0.30      0.39        20\n",
      "         1.0       0.52      0.75      0.61        20\n",
      "\n",
      "    accuracy                           0.53        40\n",
      "   macro avg       0.53      0.53      0.50        40\n",
      "weighted avg       0.53      0.53      0.50        40\n",
      "\n",
      "-------------------------------------------------------------------------------------------------------------------\n"
     ]
    },
    {
     "name": "stderr",
     "output_type": "stream",
     "text": [
      "[Parallel(n_jobs=-1)]: Done   1 out of   1 | elapsed:  2.0min finished\n",
      "[Parallel(n_jobs=-1)]: Using backend LokyBackend with 12 concurrent workers.\n"
     ]
    },
    {
     "name": "stdout",
     "output_type": "stream",
     "text": [
      "K-Fold #6:\n",
      "              precision    recall  f1-score   support\n",
      "\n",
      "         0.0       0.25      0.15      0.19        20\n",
      "         1.0       0.39      0.55      0.46        20\n",
      "\n",
      "    accuracy                           0.35        40\n",
      "   macro avg       0.32      0.35      0.32        40\n",
      "weighted avg       0.32      0.35      0.32        40\n",
      "\n",
      "-------------------------------------------------------------------------------------------------------------------\n"
     ]
    },
    {
     "name": "stderr",
     "output_type": "stream",
     "text": [
      "[Parallel(n_jobs=-1)]: Done   1 out of   1 | elapsed:  1.9min finished\n",
      "[Parallel(n_jobs=-1)]: Using backend LokyBackend with 12 concurrent workers.\n"
     ]
    },
    {
     "name": "stdout",
     "output_type": "stream",
     "text": [
      "K-Fold #7:\n",
      "              precision    recall  f1-score   support\n",
      "\n",
      "         0.0       0.47      0.45      0.46        20\n",
      "         1.0       0.48      0.50      0.49        20\n",
      "\n",
      "    accuracy                           0.48        40\n",
      "   macro avg       0.47      0.47      0.47        40\n",
      "weighted avg       0.47      0.47      0.47        40\n",
      "\n",
      "-------------------------------------------------------------------------------------------------------------------\n"
     ]
    },
    {
     "name": "stderr",
     "output_type": "stream",
     "text": [
      "[Parallel(n_jobs=-1)]: Done   1 out of   1 | elapsed:  1.8min finished\n",
      "[Parallel(n_jobs=-1)]: Using backend LokyBackend with 12 concurrent workers.\n"
     ]
    },
    {
     "name": "stdout",
     "output_type": "stream",
     "text": [
      "K-Fold #8:\n",
      "              precision    recall  f1-score   support\n",
      "\n",
      "         0.0       0.31      0.20      0.24        20\n",
      "         1.0       0.41      0.55      0.47        20\n",
      "\n",
      "    accuracy                           0.38        40\n",
      "   macro avg       0.36      0.38      0.36        40\n",
      "weighted avg       0.36      0.38      0.36        40\n",
      "\n",
      "-------------------------------------------------------------------------------------------------------------------\n"
     ]
    },
    {
     "name": "stderr",
     "output_type": "stream",
     "text": [
      "[Parallel(n_jobs=-1)]: Done   1 out of   1 | elapsed:  1.8min finished\n",
      "[Parallel(n_jobs=-1)]: Using backend LokyBackend with 12 concurrent workers.\n"
     ]
    },
    {
     "name": "stdout",
     "output_type": "stream",
     "text": [
      "K-Fold #9:\n",
      "              precision    recall  f1-score   support\n",
      "\n",
      "         0.0       0.42      0.40      0.41        20\n",
      "         1.0       0.43      0.45      0.44        20\n",
      "\n",
      "    accuracy                           0.42        40\n",
      "   macro avg       0.42      0.43      0.42        40\n",
      "weighted avg       0.42      0.42      0.42        40\n",
      "\n",
      "-------------------------------------------------------------------------------------------------------------------\n",
      "AVG: Scores = 0.45249999999999996 F1-Scores = 0.42825094711626666\n"
     ]
    },
    {
     "name": "stderr",
     "output_type": "stream",
     "text": [
      "[Parallel(n_jobs=-1)]: Done   1 out of   1 | elapsed:  1.9min finished\n",
      "[Parallel(n_jobs=-1)]: Using backend LokyBackend with 12 concurrent workers.\n"
     ]
    },
    {
     "name": "stdout",
     "output_type": "stream",
     "text": [
      "K-Fold #0:\n",
      "              precision    recall  f1-score   support\n",
      "\n",
      "         0.0       0.48      0.55      0.51        20\n",
      "         1.0       0.47      0.40      0.43        20\n",
      "\n",
      "    accuracy                           0.48        40\n",
      "   macro avg       0.47      0.48      0.47        40\n",
      "weighted avg       0.47      0.47      0.47        40\n",
      "\n",
      "-------------------------------------------------------------------------------------------------------------------\n"
     ]
    },
    {
     "name": "stderr",
     "output_type": "stream",
     "text": [
      "[Parallel(n_jobs=-1)]: Done   1 out of   1 | elapsed:  1.8min finished\n",
      "[Parallel(n_jobs=-1)]: Using backend LokyBackend with 12 concurrent workers.\n"
     ]
    },
    {
     "name": "stdout",
     "output_type": "stream",
     "text": [
      "K-Fold #1:\n",
      "              precision    recall  f1-score   support\n",
      "\n",
      "         0.0       0.42      0.40      0.41        20\n",
      "         1.0       0.43      0.45      0.44        20\n",
      "\n",
      "    accuracy                           0.42        40\n",
      "   macro avg       0.42      0.43      0.42        40\n",
      "weighted avg       0.42      0.42      0.42        40\n",
      "\n",
      "-------------------------------------------------------------------------------------------------------------------\n"
     ]
    },
    {
     "name": "stderr",
     "output_type": "stream",
     "text": [
      "[Parallel(n_jobs=-1)]: Done   1 out of   1 | elapsed:  1.8min finished\n",
      "[Parallel(n_jobs=-1)]: Using backend LokyBackend with 12 concurrent workers.\n"
     ]
    },
    {
     "name": "stdout",
     "output_type": "stream",
     "text": [
      "K-Fold #2:\n",
      "              precision    recall  f1-score   support\n",
      "\n",
      "         0.0       0.42      0.25      0.31        20\n",
      "         1.0       0.46      0.65      0.54        20\n",
      "\n",
      "    accuracy                           0.45        40\n",
      "   macro avg       0.44      0.45      0.43        40\n",
      "weighted avg       0.44      0.45      0.43        40\n",
      "\n",
      "-------------------------------------------------------------------------------------------------------------------\n"
     ]
    },
    {
     "name": "stderr",
     "output_type": "stream",
     "text": [
      "[Parallel(n_jobs=-1)]: Done   1 out of   1 | elapsed:  1.9min finished\n",
      "[Parallel(n_jobs=-1)]: Using backend LokyBackend with 12 concurrent workers.\n"
     ]
    },
    {
     "name": "stdout",
     "output_type": "stream",
     "text": [
      "K-Fold #3:\n",
      "              precision    recall  f1-score   support\n",
      "\n",
      "         0.0       0.52      0.60      0.56        20\n",
      "         1.0       0.53      0.45      0.49        20\n",
      "\n",
      "    accuracy                           0.53        40\n",
      "   macro avg       0.53      0.53      0.52        40\n",
      "weighted avg       0.53      0.53      0.52        40\n",
      "\n",
      "-------------------------------------------------------------------------------------------------------------------\n"
     ]
    },
    {
     "name": "stderr",
     "output_type": "stream",
     "text": [
      "[Parallel(n_jobs=-1)]: Done   1 out of   1 | elapsed:  1.8min finished\n",
      "[Parallel(n_jobs=-1)]: Using backend LokyBackend with 12 concurrent workers.\n"
     ]
    },
    {
     "name": "stdout",
     "output_type": "stream",
     "text": [
      "K-Fold #4:\n",
      "              precision    recall  f1-score   support\n",
      "\n",
      "         0.0       0.43      0.30      0.35        20\n",
      "         1.0       0.46      0.60      0.52        20\n",
      "\n",
      "    accuracy                           0.45        40\n",
      "   macro avg       0.45      0.45      0.44        40\n",
      "weighted avg       0.45      0.45      0.44        40\n",
      "\n",
      "-------------------------------------------------------------------------------------------------------------------\n"
     ]
    },
    {
     "name": "stderr",
     "output_type": "stream",
     "text": [
      "[Parallel(n_jobs=-1)]: Done   1 out of   1 | elapsed:  2.0min finished\n",
      "[Parallel(n_jobs=-1)]: Using backend LokyBackend with 12 concurrent workers.\n"
     ]
    },
    {
     "name": "stdout",
     "output_type": "stream",
     "text": [
      "K-Fold #5:\n",
      "              precision    recall  f1-score   support\n",
      "\n",
      "         0.0       0.18      0.10      0.13        20\n",
      "         1.0       0.38      0.55      0.45        20\n",
      "\n",
      "    accuracy                           0.33        40\n",
      "   macro avg       0.28      0.33      0.29        40\n",
      "weighted avg       0.28      0.33      0.29        40\n",
      "\n",
      "-------------------------------------------------------------------------------------------------------------------\n"
     ]
    },
    {
     "name": "stderr",
     "output_type": "stream",
     "text": [
      "[Parallel(n_jobs=-1)]: Done   1 out of   1 | elapsed:  1.9min finished\n",
      "[Parallel(n_jobs=-1)]: Using backend LokyBackend with 12 concurrent workers.\n"
     ]
    },
    {
     "name": "stdout",
     "output_type": "stream",
     "text": [
      "K-Fold #6:\n",
      "              precision    recall  f1-score   support\n",
      "\n",
      "         0.0       0.53      0.50      0.51        20\n",
      "         1.0       0.52      0.55      0.54        20\n",
      "\n",
      "    accuracy                           0.53        40\n",
      "   macro avg       0.53      0.53      0.52        40\n",
      "weighted avg       0.53      0.53      0.52        40\n",
      "\n",
      "-------------------------------------------------------------------------------------------------------------------\n"
     ]
    },
    {
     "name": "stderr",
     "output_type": "stream",
     "text": [
      "[Parallel(n_jobs=-1)]: Done   1 out of   1 | elapsed:  1.8min finished\n",
      "[Parallel(n_jobs=-1)]: Using backend LokyBackend with 12 concurrent workers.\n"
     ]
    },
    {
     "name": "stdout",
     "output_type": "stream",
     "text": [
      "K-Fold #7:\n",
      "              precision    recall  f1-score   support\n",
      "\n",
      "         0.0       0.53      0.80      0.64        20\n",
      "         1.0       0.60      0.30      0.40        20\n",
      "\n",
      "    accuracy                           0.55        40\n",
      "   macro avg       0.57      0.55      0.52        40\n",
      "weighted avg       0.57      0.55      0.52        40\n",
      "\n",
      "-------------------------------------------------------------------------------------------------------------------\n"
     ]
    },
    {
     "name": "stderr",
     "output_type": "stream",
     "text": [
      "[Parallel(n_jobs=-1)]: Done   1 out of   1 | elapsed:  1.8min finished\n",
      "[Parallel(n_jobs=-1)]: Using backend LokyBackend with 12 concurrent workers.\n"
     ]
    },
    {
     "name": "stdout",
     "output_type": "stream",
     "text": [
      "K-Fold #8:\n",
      "              precision    recall  f1-score   support\n",
      "\n",
      "         0.0       0.48      0.75      0.59        20\n",
      "         1.0       0.44      0.20      0.28        20\n",
      "\n",
      "    accuracy                           0.48        40\n",
      "   macro avg       0.46      0.47      0.43        40\n",
      "weighted avg       0.46      0.47      0.43        40\n",
      "\n",
      "-------------------------------------------------------------------------------------------------------------------\n"
     ]
    },
    {
     "name": "stderr",
     "output_type": "stream",
     "text": [
      "[Parallel(n_jobs=-1)]: Done   1 out of   1 | elapsed:  1.8min finished\n",
      "[Parallel(n_jobs=-1)]: Using backend LokyBackend with 12 concurrent workers.\n"
     ]
    },
    {
     "name": "stdout",
     "output_type": "stream",
     "text": [
      "K-Fold #9:\n",
      "              precision    recall  f1-score   support\n",
      "\n",
      "         0.0       0.58      0.55      0.56        20\n",
      "         1.0       0.57      0.60      0.59        20\n",
      "\n",
      "    accuracy                           0.57        40\n",
      "   macro avg       0.58      0.57      0.57        40\n",
      "weighted avg       0.58      0.57      0.57        40\n",
      "\n",
      "-------------------------------------------------------------------------------------------------------------------\n",
      "AVG: Scores = 0.47750000000000004 F1-Scores = 0.462389882213571\n"
     ]
    },
    {
     "name": "stderr",
     "output_type": "stream",
     "text": [
      "[Parallel(n_jobs=-1)]: Done   1 out of   1 | elapsed:  1.8min finished\n",
      "[Parallel(n_jobs=-1)]: Using backend LokyBackend with 12 concurrent workers.\n"
     ]
    },
    {
     "name": "stdout",
     "output_type": "stream",
     "text": [
      "K-Fold #0:\n",
      "              precision    recall  f1-score   support\n",
      "\n",
      "         0.0       0.48      0.70      0.57        20\n",
      "         1.0       0.45      0.25      0.32        20\n",
      "\n",
      "    accuracy                           0.48        40\n",
      "   macro avg       0.47      0.47      0.45        40\n",
      "weighted avg       0.47      0.47      0.45        40\n",
      "\n",
      "-------------------------------------------------------------------------------------------------------------------\n"
     ]
    },
    {
     "name": "stderr",
     "output_type": "stream",
     "text": [
      "[Parallel(n_jobs=-1)]: Done   1 out of   1 | elapsed:  1.9min finished\n",
      "[Parallel(n_jobs=-1)]: Using backend LokyBackend with 12 concurrent workers.\n"
     ]
    },
    {
     "name": "stdout",
     "output_type": "stream",
     "text": [
      "K-Fold #1:\n",
      "              precision    recall  f1-score   support\n",
      "\n",
      "         0.0       0.52      0.65      0.58        20\n",
      "         1.0       0.53      0.40      0.46        20\n",
      "\n",
      "    accuracy                           0.53        40\n",
      "   macro avg       0.53      0.53      0.52        40\n",
      "weighted avg       0.53      0.53      0.52        40\n",
      "\n",
      "-------------------------------------------------------------------------------------------------------------------\n"
     ]
    },
    {
     "name": "stderr",
     "output_type": "stream",
     "text": [
      "[Parallel(n_jobs=-1)]: Done   1 out of   1 | elapsed:  1.8min finished\n",
      "[Parallel(n_jobs=-1)]: Using backend LokyBackend with 12 concurrent workers.\n"
     ]
    },
    {
     "name": "stdout",
     "output_type": "stream",
     "text": [
      "K-Fold #2:\n",
      "              precision    recall  f1-score   support\n",
      "\n",
      "         0.0       0.50      0.25      0.33        20\n",
      "         1.0       0.50      0.75      0.60        20\n",
      "\n",
      "    accuracy                           0.50        40\n",
      "   macro avg       0.50      0.50      0.47        40\n",
      "weighted avg       0.50      0.50      0.47        40\n",
      "\n",
      "-------------------------------------------------------------------------------------------------------------------\n"
     ]
    },
    {
     "name": "stderr",
     "output_type": "stream",
     "text": [
      "[Parallel(n_jobs=-1)]: Done   1 out of   1 | elapsed:  1.8min finished\n",
      "[Parallel(n_jobs=-1)]: Using backend LokyBackend with 12 concurrent workers.\n"
     ]
    },
    {
     "name": "stdout",
     "output_type": "stream",
     "text": [
      "K-Fold #3:\n",
      "              precision    recall  f1-score   support\n",
      "\n",
      "         0.0       0.50      0.50      0.50        20\n",
      "         1.0       0.50      0.50      0.50        20\n",
      "\n",
      "    accuracy                           0.50        40\n",
      "   macro avg       0.50      0.50      0.50        40\n",
      "weighted avg       0.50      0.50      0.50        40\n",
      "\n",
      "-------------------------------------------------------------------------------------------------------------------\n"
     ]
    },
    {
     "name": "stderr",
     "output_type": "stream",
     "text": [
      "[Parallel(n_jobs=-1)]: Done   1 out of   1 | elapsed:  2.0min finished\n",
      "[Parallel(n_jobs=-1)]: Using backend LokyBackend with 12 concurrent workers.\n"
     ]
    },
    {
     "name": "stdout",
     "output_type": "stream",
     "text": [
      "K-Fold #4:\n",
      "              precision    recall  f1-score   support\n",
      "\n",
      "         0.0       0.54      0.70      0.61        20\n",
      "         1.0       0.57      0.40      0.47        20\n",
      "\n",
      "    accuracy                           0.55        40\n",
      "   macro avg       0.55      0.55      0.54        40\n",
      "weighted avg       0.55      0.55      0.54        40\n",
      "\n",
      "-------------------------------------------------------------------------------------------------------------------\n"
     ]
    },
    {
     "name": "stderr",
     "output_type": "stream",
     "text": [
      "[Parallel(n_jobs=-1)]: Done   1 out of   1 | elapsed:  1.8min finished\n",
      "[Parallel(n_jobs=-1)]: Using backend LokyBackend with 12 concurrent workers.\n"
     ]
    },
    {
     "name": "stdout",
     "output_type": "stream",
     "text": [
      "K-Fold #5:\n",
      "              precision    recall  f1-score   support\n",
      "\n",
      "         0.0       0.43      0.65      0.52        20\n",
      "         1.0       0.30      0.15      0.20        20\n",
      "\n",
      "    accuracy                           0.40        40\n",
      "   macro avg       0.37      0.40      0.36        40\n",
      "weighted avg       0.37      0.40      0.36        40\n",
      "\n",
      "-------------------------------------------------------------------------------------------------------------------\n"
     ]
    },
    {
     "name": "stderr",
     "output_type": "stream",
     "text": [
      "[Parallel(n_jobs=-1)]: Done   1 out of   1 | elapsed:  1.8min finished\n",
      "[Parallel(n_jobs=-1)]: Using backend LokyBackend with 12 concurrent workers.\n"
     ]
    },
    {
     "name": "stdout",
     "output_type": "stream",
     "text": [
      "K-Fold #6:\n",
      "              precision    recall  f1-score   support\n",
      "\n",
      "         0.0       0.56      0.25      0.34        20\n",
      "         1.0       0.52      0.80      0.63        20\n",
      "\n",
      "    accuracy                           0.53        40\n",
      "   macro avg       0.54      0.53      0.49        40\n",
      "weighted avg       0.54      0.53      0.49        40\n",
      "\n",
      "-------------------------------------------------------------------------------------------------------------------\n"
     ]
    },
    {
     "name": "stderr",
     "output_type": "stream",
     "text": [
      "[Parallel(n_jobs=-1)]: Done   1 out of   1 | elapsed:  1.9min finished\n",
      "[Parallel(n_jobs=-1)]: Using backend LokyBackend with 12 concurrent workers.\n"
     ]
    },
    {
     "name": "stdout",
     "output_type": "stream",
     "text": [
      "K-Fold #7:\n",
      "              precision    recall  f1-score   support\n",
      "\n",
      "         0.0       0.17      0.05      0.08        20\n",
      "         1.0       0.44      0.75      0.56        20\n",
      "\n",
      "    accuracy                           0.40        40\n",
      "   macro avg       0.30      0.40      0.32        40\n",
      "weighted avg       0.30      0.40      0.32        40\n",
      "\n",
      "-------------------------------------------------------------------------------------------------------------------\n"
     ]
    },
    {
     "name": "stderr",
     "output_type": "stream",
     "text": [
      "[Parallel(n_jobs=-1)]: Done   1 out of   1 | elapsed:  1.9min finished\n",
      "[Parallel(n_jobs=-1)]: Using backend LokyBackend with 12 concurrent workers.\n"
     ]
    },
    {
     "name": "stdout",
     "output_type": "stream",
     "text": [
      "K-Fold #8:\n",
      "              precision    recall  f1-score   support\n",
      "\n",
      "         0.0       0.35      0.40      0.37        20\n",
      "         1.0       0.29      0.25      0.27        20\n",
      "\n",
      "    accuracy                           0.33        40\n",
      "   macro avg       0.32      0.33      0.32        40\n",
      "weighted avg       0.32      0.33      0.32        40\n",
      "\n",
      "-------------------------------------------------------------------------------------------------------------------\n"
     ]
    },
    {
     "name": "stderr",
     "output_type": "stream",
     "text": [
      "[Parallel(n_jobs=-1)]: Done   1 out of   1 | elapsed:  2.0min finished\n",
      "[Parallel(n_jobs=-1)]: Using backend LokyBackend with 12 concurrent workers.\n"
     ]
    },
    {
     "name": "stdout",
     "output_type": "stream",
     "text": [
      "K-Fold #9:\n",
      "              precision    recall  f1-score   support\n",
      "\n",
      "         0.0       0.50      0.60      0.55        20\n",
      "         1.0       0.50      0.40      0.44        20\n",
      "\n",
      "    accuracy                           0.50        40\n",
      "   macro avg       0.50      0.50      0.49        40\n",
      "weighted avg       0.50      0.50      0.49        40\n",
      "\n",
      "-------------------------------------------------------------------------------------------------------------------\n",
      "AVG: Scores = 0.47000000000000003 F1-Scores = 0.4449283277407311\n"
     ]
    },
    {
     "name": "stderr",
     "output_type": "stream",
     "text": [
      "[Parallel(n_jobs=-1)]: Done   1 out of   1 | elapsed:  2.0min finished\n",
      "[Parallel(n_jobs=-1)]: Using backend LokyBackend with 12 concurrent workers.\n"
     ]
    },
    {
     "name": "stdout",
     "output_type": "stream",
     "text": [
      "K-Fold #0:\n",
      "              precision    recall  f1-score   support\n",
      "\n",
      "         0.0       0.50      0.45      0.47        20\n",
      "         1.0       0.50      0.55      0.52        20\n",
      "\n",
      "    accuracy                           0.50        40\n",
      "   macro avg       0.50      0.50      0.50        40\n",
      "weighted avg       0.50      0.50      0.50        40\n",
      "\n",
      "-------------------------------------------------------------------------------------------------------------------\n"
     ]
    },
    {
     "name": "stderr",
     "output_type": "stream",
     "text": [
      "[Parallel(n_jobs=-1)]: Done   1 out of   1 | elapsed:  1.8min finished\n",
      "[Parallel(n_jobs=-1)]: Using backend LokyBackend with 12 concurrent workers.\n"
     ]
    },
    {
     "name": "stdout",
     "output_type": "stream",
     "text": [
      "K-Fold #1:\n",
      "              precision    recall  f1-score   support\n",
      "\n",
      "         0.0       0.47      0.40      0.43        20\n",
      "         1.0       0.48      0.55      0.51        20\n",
      "\n",
      "    accuracy                           0.48        40\n",
      "   macro avg       0.47      0.48      0.47        40\n",
      "weighted avg       0.47      0.47      0.47        40\n",
      "\n",
      "-------------------------------------------------------------------------------------------------------------------\n"
     ]
    },
    {
     "name": "stderr",
     "output_type": "stream",
     "text": [
      "[Parallel(n_jobs=-1)]: Done   1 out of   1 | elapsed:  1.8min finished\n",
      "[Parallel(n_jobs=-1)]: Using backend LokyBackend with 12 concurrent workers.\n"
     ]
    },
    {
     "name": "stdout",
     "output_type": "stream",
     "text": [
      "K-Fold #2:\n",
      "              precision    recall  f1-score   support\n",
      "\n",
      "         0.0       0.43      0.45      0.44        20\n",
      "         1.0       0.42      0.40      0.41        20\n",
      "\n",
      "    accuracy                           0.42        40\n",
      "   macro avg       0.42      0.43      0.42        40\n",
      "weighted avg       0.42      0.42      0.42        40\n",
      "\n",
      "-------------------------------------------------------------------------------------------------------------------\n"
     ]
    },
    {
     "name": "stderr",
     "output_type": "stream",
     "text": [
      "[Parallel(n_jobs=-1)]: Done   1 out of   1 | elapsed:  1.9min finished\n",
      "[Parallel(n_jobs=-1)]: Using backend LokyBackend with 12 concurrent workers.\n"
     ]
    },
    {
     "name": "stdout",
     "output_type": "stream",
     "text": [
      "K-Fold #3:\n",
      "              precision    recall  f1-score   support\n",
      "\n",
      "         0.0       0.54      0.65      0.59        20\n",
      "         1.0       0.56      0.45      0.50        20\n",
      "\n",
      "    accuracy                           0.55        40\n",
      "   macro avg       0.55      0.55      0.55        40\n",
      "weighted avg       0.55      0.55      0.55        40\n",
      "\n",
      "-------------------------------------------------------------------------------------------------------------------\n"
     ]
    },
    {
     "name": "stderr",
     "output_type": "stream",
     "text": [
      "[Parallel(n_jobs=-1)]: Done   1 out of   1 | elapsed:  1.8min finished\n",
      "[Parallel(n_jobs=-1)]: Using backend LokyBackend with 12 concurrent workers.\n"
     ]
    },
    {
     "name": "stdout",
     "output_type": "stream",
     "text": [
      "K-Fold #4:\n",
      "              precision    recall  f1-score   support\n",
      "\n",
      "         0.0       0.40      0.40      0.40        20\n",
      "         1.0       0.40      0.40      0.40        20\n",
      "\n",
      "    accuracy                           0.40        40\n",
      "   macro avg       0.40      0.40      0.40        40\n",
      "weighted avg       0.40      0.40      0.40        40\n",
      "\n",
      "-------------------------------------------------------------------------------------------------------------------\n"
     ]
    },
    {
     "name": "stderr",
     "output_type": "stream",
     "text": [
      "[Parallel(n_jobs=-1)]: Done   1 out of   1 | elapsed:  1.8min finished\n",
      "[Parallel(n_jobs=-1)]: Using backend LokyBackend with 12 concurrent workers.\n"
     ]
    },
    {
     "name": "stdout",
     "output_type": "stream",
     "text": [
      "K-Fold #5:\n",
      "              precision    recall  f1-score   support\n",
      "\n",
      "         0.0       0.52      0.60      0.56        20\n",
      "         1.0       0.53      0.45      0.49        20\n",
      "\n",
      "    accuracy                           0.53        40\n",
      "   macro avg       0.53      0.53      0.52        40\n",
      "weighted avg       0.53      0.53      0.52        40\n",
      "\n",
      "-------------------------------------------------------------------------------------------------------------------\n"
     ]
    },
    {
     "name": "stderr",
     "output_type": "stream",
     "text": [
      "[Parallel(n_jobs=-1)]: Done   1 out of   1 | elapsed:  1.9min finished\n",
      "[Parallel(n_jobs=-1)]: Using backend LokyBackend with 12 concurrent workers.\n"
     ]
    },
    {
     "name": "stdout",
     "output_type": "stream",
     "text": [
      "K-Fold #6:\n",
      "              precision    recall  f1-score   support\n",
      "\n",
      "         0.0       0.48      0.75      0.59        20\n",
      "         1.0       0.44      0.20      0.28        20\n",
      "\n",
      "    accuracy                           0.48        40\n",
      "   macro avg       0.46      0.47      0.43        40\n",
      "weighted avg       0.46      0.47      0.43        40\n",
      "\n",
      "-------------------------------------------------------------------------------------------------------------------\n"
     ]
    },
    {
     "name": "stderr",
     "output_type": "stream",
     "text": [
      "[Parallel(n_jobs=-1)]: Done   1 out of   1 | elapsed:  1.9min finished\n",
      "[Parallel(n_jobs=-1)]: Using backend LokyBackend with 12 concurrent workers.\n"
     ]
    },
    {
     "name": "stdout",
     "output_type": "stream",
     "text": [
      "K-Fold #7:\n",
      "              precision    recall  f1-score   support\n",
      "\n",
      "         0.0       0.50      0.35      0.41        20\n",
      "         1.0       0.50      0.65      0.57        20\n",
      "\n",
      "    accuracy                           0.50        40\n",
      "   macro avg       0.50      0.50      0.49        40\n",
      "weighted avg       0.50      0.50      0.49        40\n",
      "\n",
      "-------------------------------------------------------------------------------------------------------------------\n"
     ]
    },
    {
     "name": "stderr",
     "output_type": "stream",
     "text": [
      "[Parallel(n_jobs=-1)]: Done   1 out of   1 | elapsed:  1.8min finished\n",
      "[Parallel(n_jobs=-1)]: Using backend LokyBackend with 12 concurrent workers.\n"
     ]
    },
    {
     "name": "stdout",
     "output_type": "stream",
     "text": [
      "K-Fold #8:\n",
      "              precision    recall  f1-score   support\n",
      "\n",
      "         0.0       0.47      0.70      0.56        20\n",
      "         1.0       0.40      0.20      0.27        20\n",
      "\n",
      "    accuracy                           0.45        40\n",
      "   macro avg       0.43      0.45      0.41        40\n",
      "weighted avg       0.43      0.45      0.41        40\n",
      "\n",
      "-------------------------------------------------------------------------------------------------------------------\n"
     ]
    },
    {
     "name": "stderr",
     "output_type": "stream",
     "text": [
      "[Parallel(n_jobs=-1)]: Done   1 out of   1 | elapsed:  1.8min finished\n",
      "[Parallel(n_jobs=-1)]: Using backend LokyBackend with 12 concurrent workers.\n"
     ]
    },
    {
     "name": "stdout",
     "output_type": "stream",
     "text": [
      "K-Fold #9:\n",
      "              precision    recall  f1-score   support\n",
      "\n",
      "         0.0       0.50      0.75      0.60        20\n",
      "         1.0       0.50      0.25      0.33        20\n",
      "\n",
      "    accuracy                           0.50        40\n",
      "   macro avg       0.50      0.50      0.47        40\n",
      "weighted avg       0.50      0.50      0.47        40\n",
      "\n",
      "-------------------------------------------------------------------------------------------------------------------\n",
      "AVG: Scores = 0.48 F1-Scores = 0.4663724723397246\n"
     ]
    },
    {
     "name": "stderr",
     "output_type": "stream",
     "text": [
      "[Parallel(n_jobs=-1)]: Done   1 out of   1 | elapsed:  2.0min finished\n",
      "[Parallel(n_jobs=-1)]: Using backend LokyBackend with 12 concurrent workers.\n"
     ]
    },
    {
     "name": "stdout",
     "output_type": "stream",
     "text": [
      "K-Fold #0:\n",
      "              precision    recall  f1-score   support\n",
      "\n",
      "         0.0       0.46      0.80      0.58        20\n",
      "         1.0       0.20      0.05      0.08        20\n",
      "\n",
      "    accuracy                           0.42        40\n",
      "   macro avg       0.33      0.43      0.33        40\n",
      "weighted avg       0.33      0.42      0.33        40\n",
      "\n",
      "-------------------------------------------------------------------------------------------------------------------\n"
     ]
    },
    {
     "name": "stderr",
     "output_type": "stream",
     "text": [
      "[Parallel(n_jobs=-1)]: Done   1 out of   1 | elapsed:  2.0min finished\n",
      "[Parallel(n_jobs=-1)]: Using backend LokyBackend with 12 concurrent workers.\n"
     ]
    },
    {
     "name": "stdout",
     "output_type": "stream",
     "text": [
      "K-Fold #1:\n",
      "              precision    recall  f1-score   support\n",
      "\n",
      "         0.0       0.33      0.30      0.32        20\n",
      "         1.0       0.36      0.40      0.38        20\n",
      "\n",
      "    accuracy                           0.35        40\n",
      "   macro avg       0.35      0.35      0.35        40\n",
      "weighted avg       0.35      0.35      0.35        40\n",
      "\n",
      "-------------------------------------------------------------------------------------------------------------------\n"
     ]
    },
    {
     "name": "stderr",
     "output_type": "stream",
     "text": [
      "[Parallel(n_jobs=-1)]: Done   1 out of   1 | elapsed:  1.9min finished\n",
      "[Parallel(n_jobs=-1)]: Using backend LokyBackend with 12 concurrent workers.\n"
     ]
    },
    {
     "name": "stdout",
     "output_type": "stream",
     "text": [
      "K-Fold #2:\n",
      "              precision    recall  f1-score   support\n",
      "\n",
      "         0.0       0.50      0.85      0.63        20\n",
      "         1.0       0.50      0.15      0.23        20\n",
      "\n",
      "    accuracy                           0.50        40\n",
      "   macro avg       0.50      0.50      0.43        40\n",
      "weighted avg       0.50      0.50      0.43        40\n",
      "\n",
      "-------------------------------------------------------------------------------------------------------------------\n"
     ]
    },
    {
     "name": "stderr",
     "output_type": "stream",
     "text": [
      "[Parallel(n_jobs=-1)]: Done   1 out of   1 | elapsed:  2.0min finished\n",
      "[Parallel(n_jobs=-1)]: Using backend LokyBackend with 12 concurrent workers.\n"
     ]
    },
    {
     "name": "stdout",
     "output_type": "stream",
     "text": [
      "K-Fold #3:\n",
      "              precision    recall  f1-score   support\n",
      "\n",
      "         0.0       0.58      0.70      0.64        20\n",
      "         1.0       0.62      0.50      0.56        20\n",
      "\n",
      "    accuracy                           0.60        40\n",
      "   macro avg       0.60      0.60      0.60        40\n",
      "weighted avg       0.60      0.60      0.60        40\n",
      "\n",
      "-------------------------------------------------------------------------------------------------------------------\n"
     ]
    },
    {
     "name": "stderr",
     "output_type": "stream",
     "text": [
      "[Parallel(n_jobs=-1)]: Done   1 out of   1 | elapsed:  1.8min finished\n",
      "[Parallel(n_jobs=-1)]: Using backend LokyBackend with 12 concurrent workers.\n"
     ]
    },
    {
     "name": "stdout",
     "output_type": "stream",
     "text": [
      "K-Fold #4:\n",
      "              precision    recall  f1-score   support\n",
      "\n",
      "         0.0       0.52      0.75      0.61        20\n",
      "         1.0       0.55      0.30      0.39        20\n",
      "\n",
      "    accuracy                           0.53        40\n",
      "   macro avg       0.53      0.53      0.50        40\n",
      "weighted avg       0.53      0.53      0.50        40\n",
      "\n",
      "-------------------------------------------------------------------------------------------------------------------\n"
     ]
    },
    {
     "name": "stderr",
     "output_type": "stream",
     "text": [
      "[Parallel(n_jobs=-1)]: Done   1 out of   1 | elapsed:  1.8min finished\n",
      "[Parallel(n_jobs=-1)]: Using backend LokyBackend with 12 concurrent workers.\n"
     ]
    },
    {
     "name": "stdout",
     "output_type": "stream",
     "text": [
      "K-Fold #5:\n",
      "              precision    recall  f1-score   support\n",
      "\n",
      "         0.0       0.42      0.40      0.41        20\n",
      "         1.0       0.43      0.45      0.44        20\n",
      "\n",
      "    accuracy                           0.42        40\n",
      "   macro avg       0.42      0.43      0.42        40\n",
      "weighted avg       0.42      0.42      0.42        40\n",
      "\n",
      "-------------------------------------------------------------------------------------------------------------------\n"
     ]
    },
    {
     "name": "stderr",
     "output_type": "stream",
     "text": [
      "[Parallel(n_jobs=-1)]: Done   1 out of   1 | elapsed:  2.3min finished\n",
      "[Parallel(n_jobs=-1)]: Using backend LokyBackend with 12 concurrent workers.\n"
     ]
    },
    {
     "name": "stdout",
     "output_type": "stream",
     "text": [
      "K-Fold #6:\n",
      "              precision    recall  f1-score   support\n",
      "\n",
      "         0.0       0.38      0.45      0.41        20\n",
      "         1.0       0.31      0.25      0.28        20\n",
      "\n",
      "    accuracy                           0.35        40\n",
      "   macro avg       0.34      0.35      0.34        40\n",
      "weighted avg       0.34      0.35      0.34        40\n",
      "\n",
      "-------------------------------------------------------------------------------------------------------------------\n"
     ]
    },
    {
     "name": "stderr",
     "output_type": "stream",
     "text": [
      "[Parallel(n_jobs=-1)]: Done   1 out of   1 | elapsed:  2.2min finished\n",
      "[Parallel(n_jobs=-1)]: Using backend LokyBackend with 12 concurrent workers.\n"
     ]
    },
    {
     "name": "stdout",
     "output_type": "stream",
     "text": [
      "K-Fold #7:\n",
      "              precision    recall  f1-score   support\n",
      "\n",
      "         0.0       0.44      0.55      0.49        20\n",
      "         1.0       0.40      0.30      0.34        20\n",
      "\n",
      "    accuracy                           0.42        40\n",
      "   macro avg       0.42      0.43      0.42        40\n",
      "weighted avg       0.42      0.42      0.42        40\n",
      "\n",
      "-------------------------------------------------------------------------------------------------------------------\n"
     ]
    },
    {
     "name": "stderr",
     "output_type": "stream",
     "text": [
      "[Parallel(n_jobs=-1)]: Done   1 out of   1 | elapsed:  2.1min finished\n",
      "[Parallel(n_jobs=-1)]: Using backend LokyBackend with 12 concurrent workers.\n"
     ]
    },
    {
     "name": "stdout",
     "output_type": "stream",
     "text": [
      "K-Fold #8:\n",
      "              precision    recall  f1-score   support\n",
      "\n",
      "         0.0       0.45      0.45      0.45        20\n",
      "         1.0       0.45      0.45      0.45        20\n",
      "\n",
      "    accuracy                           0.45        40\n",
      "   macro avg       0.45      0.45      0.45        40\n",
      "weighted avg       0.45      0.45      0.45        40\n",
      "\n",
      "-------------------------------------------------------------------------------------------------------------------\n"
     ]
    },
    {
     "name": "stderr",
     "output_type": "stream",
     "text": [
      "[Parallel(n_jobs=-1)]: Done   1 out of   1 | elapsed:  2.3min finished\n",
      "[Parallel(n_jobs=-1)]: Using backend LokyBackend with 12 concurrent workers.\n"
     ]
    },
    {
     "name": "stdout",
     "output_type": "stream",
     "text": [
      "K-Fold #9:\n",
      "              precision    recall  f1-score   support\n",
      "\n",
      "         0.0       0.33      0.35      0.34        20\n",
      "         1.0       0.32      0.30      0.31        20\n",
      "\n",
      "    accuracy                           0.33        40\n",
      "   macro avg       0.32      0.32      0.32        40\n",
      "weighted avg       0.32      0.33      0.32        40\n",
      "\n",
      "-------------------------------------------------------------------------------------------------------------------\n",
      "AVG: Scores = 0.4375 F1-Scores = 0.41636355011835213\n"
     ]
    },
    {
     "name": "stderr",
     "output_type": "stream",
     "text": [
      "[Parallel(n_jobs=-1)]: Done   1 out of   1 | elapsed:  2.2min finished\n",
      "[Parallel(n_jobs=-1)]: Using backend LokyBackend with 12 concurrent workers.\n"
     ]
    },
    {
     "name": "stdout",
     "output_type": "stream",
     "text": [
      "K-Fold #0:\n",
      "              precision    recall  f1-score   support\n",
      "\n",
      "         0.0       0.33      0.25      0.29        20\n",
      "         1.0       0.40      0.50      0.44        20\n",
      "\n",
      "    accuracy                           0.38        40\n",
      "   macro avg       0.37      0.38      0.37        40\n",
      "weighted avg       0.37      0.38      0.37        40\n",
      "\n",
      "-------------------------------------------------------------------------------------------------------------------\n"
     ]
    },
    {
     "name": "stderr",
     "output_type": "stream",
     "text": [
      "[Parallel(n_jobs=-1)]: Done   1 out of   1 | elapsed:  2.3min finished\n",
      "[Parallel(n_jobs=-1)]: Using backend LokyBackend with 12 concurrent workers.\n"
     ]
    },
    {
     "name": "stdout",
     "output_type": "stream",
     "text": [
      "K-Fold #1:\n",
      "              precision    recall  f1-score   support\n",
      "\n",
      "         0.0       0.41      0.35      0.38        20\n",
      "         1.0       0.43      0.50      0.47        20\n",
      "\n",
      "    accuracy                           0.42        40\n",
      "   macro avg       0.42      0.42      0.42        40\n",
      "weighted avg       0.42      0.42      0.42        40\n",
      "\n",
      "-------------------------------------------------------------------------------------------------------------------\n"
     ]
    },
    {
     "name": "stderr",
     "output_type": "stream",
     "text": [
      "[Parallel(n_jobs=-1)]: Done   1 out of   1 | elapsed:  2.2min finished\n",
      "[Parallel(n_jobs=-1)]: Using backend LokyBackend with 12 concurrent workers.\n"
     ]
    },
    {
     "name": "stdout",
     "output_type": "stream",
     "text": [
      "K-Fold #2:\n",
      "              precision    recall  f1-score   support\n",
      "\n",
      "         0.0       0.61      0.55      0.58        20\n",
      "         1.0       0.59      0.65      0.62        20\n",
      "\n",
      "    accuracy                           0.60        40\n",
      "   macro avg       0.60      0.60      0.60        40\n",
      "weighted avg       0.60      0.60      0.60        40\n",
      "\n",
      "-------------------------------------------------------------------------------------------------------------------\n"
     ]
    },
    {
     "name": "stderr",
     "output_type": "stream",
     "text": [
      "[Parallel(n_jobs=-1)]: Done   1 out of   1 | elapsed:  2.2min finished\n",
      "[Parallel(n_jobs=-1)]: Using backend LokyBackend with 12 concurrent workers.\n"
     ]
    },
    {
     "name": "stdout",
     "output_type": "stream",
     "text": [
      "K-Fold #3:\n",
      "              precision    recall  f1-score   support\n",
      "\n",
      "         0.0       0.43      0.50      0.47        20\n",
      "         1.0       0.41      0.35      0.38        20\n",
      "\n",
      "    accuracy                           0.42        40\n",
      "   macro avg       0.42      0.42      0.42        40\n",
      "weighted avg       0.42      0.42      0.42        40\n",
      "\n",
      "-------------------------------------------------------------------------------------------------------------------\n"
     ]
    },
    {
     "name": "stderr",
     "output_type": "stream",
     "text": [
      "[Parallel(n_jobs=-1)]: Done   1 out of   1 | elapsed:  2.2min finished\n",
      "[Parallel(n_jobs=-1)]: Using backend LokyBackend with 12 concurrent workers.\n"
     ]
    },
    {
     "name": "stdout",
     "output_type": "stream",
     "text": [
      "K-Fold #4:\n",
      "              precision    recall  f1-score   support\n",
      "\n",
      "         0.0       0.25      0.15      0.19        20\n",
      "         1.0       0.39      0.55      0.46        20\n",
      "\n",
      "    accuracy                           0.35        40\n",
      "   macro avg       0.32      0.35      0.32        40\n",
      "weighted avg       0.32      0.35      0.32        40\n",
      "\n",
      "-------------------------------------------------------------------------------------------------------------------\n"
     ]
    },
    {
     "name": "stderr",
     "output_type": "stream",
     "text": [
      "[Parallel(n_jobs=-1)]: Done   1 out of   1 | elapsed:  2.3min finished\n",
      "[Parallel(n_jobs=-1)]: Using backend LokyBackend with 12 concurrent workers.\n"
     ]
    },
    {
     "name": "stdout",
     "output_type": "stream",
     "text": [
      "K-Fold #5:\n",
      "              precision    recall  f1-score   support\n",
      "\n",
      "         0.0       0.41      0.45      0.43        20\n",
      "         1.0       0.39      0.35      0.37        20\n",
      "\n",
      "    accuracy                           0.40        40\n",
      "   macro avg       0.40      0.40      0.40        40\n",
      "weighted avg       0.40      0.40      0.40        40\n",
      "\n",
      "-------------------------------------------------------------------------------------------------------------------\n"
     ]
    },
    {
     "name": "stderr",
     "output_type": "stream",
     "text": [
      "[Parallel(n_jobs=-1)]: Done   1 out of   1 | elapsed:  2.3min finished\n",
      "[Parallel(n_jobs=-1)]: Using backend LokyBackend with 12 concurrent workers.\n"
     ]
    },
    {
     "name": "stdout",
     "output_type": "stream",
     "text": [
      "K-Fold #6:\n",
      "              precision    recall  f1-score   support\n",
      "\n",
      "         0.0       0.45      0.45      0.45        20\n",
      "         1.0       0.45      0.45      0.45        20\n",
      "\n",
      "    accuracy                           0.45        40\n",
      "   macro avg       0.45      0.45      0.45        40\n",
      "weighted avg       0.45      0.45      0.45        40\n",
      "\n",
      "-------------------------------------------------------------------------------------------------------------------\n"
     ]
    },
    {
     "name": "stderr",
     "output_type": "stream",
     "text": [
      "[Parallel(n_jobs=-1)]: Done   1 out of   1 | elapsed:  2.1min finished\n",
      "[Parallel(n_jobs=-1)]: Using backend LokyBackend with 12 concurrent workers.\n"
     ]
    },
    {
     "name": "stdout",
     "output_type": "stream",
     "text": [
      "K-Fold #7:\n",
      "              precision    recall  f1-score   support\n",
      "\n",
      "         0.0       0.52      0.75      0.61        20\n",
      "         1.0       0.55      0.30      0.39        20\n",
      "\n",
      "    accuracy                           0.53        40\n",
      "   macro avg       0.53      0.53      0.50        40\n",
      "weighted avg       0.53      0.53      0.50        40\n",
      "\n",
      "-------------------------------------------------------------------------------------------------------------------\n"
     ]
    },
    {
     "name": "stderr",
     "output_type": "stream",
     "text": [
      "[Parallel(n_jobs=-1)]: Done   1 out of   1 | elapsed:  2.3min finished\n",
      "[Parallel(n_jobs=-1)]: Using backend LokyBackend with 12 concurrent workers.\n"
     ]
    },
    {
     "name": "stdout",
     "output_type": "stream",
     "text": [
      "K-Fold #8:\n",
      "              precision    recall  f1-score   support\n",
      "\n",
      "         0.0       0.48      0.55      0.51        20\n",
      "         1.0       0.47      0.40      0.43        20\n",
      "\n",
      "    accuracy                           0.48        40\n",
      "   macro avg       0.47      0.48      0.47        40\n",
      "weighted avg       0.47      0.47      0.47        40\n",
      "\n",
      "-------------------------------------------------------------------------------------------------------------------\n"
     ]
    },
    {
     "name": "stderr",
     "output_type": "stream",
     "text": [
      "[Parallel(n_jobs=-1)]: Done   1 out of   1 | elapsed:  2.3min finished\n",
      "[Parallel(n_jobs=-1)]: Using backend LokyBackend with 12 concurrent workers.\n"
     ]
    },
    {
     "name": "stdout",
     "output_type": "stream",
     "text": [
      "K-Fold #9:\n",
      "              precision    recall  f1-score   support\n",
      "\n",
      "         0.0       0.42      0.50      0.45        20\n",
      "         1.0       0.38      0.30      0.33        20\n",
      "\n",
      "    accuracy                           0.40        40\n",
      "   macro avg       0.40      0.40      0.39        40\n",
      "weighted avg       0.40      0.40      0.39        40\n",
      "\n",
      "-------------------------------------------------------------------------------------------------------------------\n",
      "AVG: Scores = 0.4425 F1-Scores = 0.43446248232503654\n"
     ]
    },
    {
     "name": "stderr",
     "output_type": "stream",
     "text": [
      "[Parallel(n_jobs=-1)]: Done   1 out of   1 | elapsed:  2.1min finished\n",
      "[Parallel(n_jobs=-1)]: Using backend LokyBackend with 12 concurrent workers.\n"
     ]
    },
    {
     "name": "stdout",
     "output_type": "stream",
     "text": [
      "K-Fold #0:\n",
      "              precision    recall  f1-score   support\n",
      "\n",
      "         0.0       0.36      0.40      0.38        20\n",
      "         1.0       0.33      0.30      0.32        20\n",
      "\n",
      "    accuracy                           0.35        40\n",
      "   macro avg       0.35      0.35      0.35        40\n",
      "weighted avg       0.35      0.35      0.35        40\n",
      "\n",
      "-------------------------------------------------------------------------------------------------------------------\n"
     ]
    },
    {
     "name": "stderr",
     "output_type": "stream",
     "text": [
      "[Parallel(n_jobs=-1)]: Done   1 out of   1 | elapsed:  2.3min finished\n",
      "[Parallel(n_jobs=-1)]: Using backend LokyBackend with 12 concurrent workers.\n"
     ]
    },
    {
     "name": "stdout",
     "output_type": "stream",
     "text": [
      "K-Fold #1:\n",
      "              precision    recall  f1-score   support\n",
      "\n",
      "         0.0       0.27      0.30      0.29        20\n",
      "         1.0       0.22      0.20      0.21        20\n",
      "\n",
      "    accuracy                           0.25        40\n",
      "   macro avg       0.25      0.25      0.25        40\n",
      "weighted avg       0.25      0.25      0.25        40\n",
      "\n",
      "-------------------------------------------------------------------------------------------------------------------\n"
     ]
    },
    {
     "name": "stderr",
     "output_type": "stream",
     "text": [
      "[Parallel(n_jobs=-1)]: Done   1 out of   1 | elapsed:  2.2min finished\n",
      "[Parallel(n_jobs=-1)]: Using backend LokyBackend with 12 concurrent workers.\n"
     ]
    },
    {
     "name": "stdout",
     "output_type": "stream",
     "text": [
      "K-Fold #2:\n",
      "              precision    recall  f1-score   support\n",
      "\n",
      "         0.0       0.27      0.20      0.23        20\n",
      "         1.0       0.36      0.45      0.40        20\n",
      "\n",
      "    accuracy                           0.33        40\n",
      "   macro avg       0.31      0.33      0.31        40\n",
      "weighted avg       0.31      0.33      0.31        40\n",
      "\n",
      "-------------------------------------------------------------------------------------------------------------------\n"
     ]
    },
    {
     "name": "stderr",
     "output_type": "stream",
     "text": [
      "[Parallel(n_jobs=-1)]: Done   1 out of   1 | elapsed:  2.5min finished\n",
      "[Parallel(n_jobs=-1)]: Using backend LokyBackend with 12 concurrent workers.\n"
     ]
    },
    {
     "name": "stdout",
     "output_type": "stream",
     "text": [
      "K-Fold #3:\n",
      "              precision    recall  f1-score   support\n",
      "\n",
      "         0.0       0.47      0.40      0.43        20\n",
      "         1.0       0.48      0.55      0.51        20\n",
      "\n",
      "    accuracy                           0.48        40\n",
      "   macro avg       0.47      0.48      0.47        40\n",
      "weighted avg       0.47      0.47      0.47        40\n",
      "\n",
      "-------------------------------------------------------------------------------------------------------------------\n"
     ]
    },
    {
     "name": "stderr",
     "output_type": "stream",
     "text": [
      "[Parallel(n_jobs=-1)]: Done   1 out of   1 | elapsed:  2.1min finished\n",
      "[Parallel(n_jobs=-1)]: Using backend LokyBackend with 12 concurrent workers.\n"
     ]
    },
    {
     "name": "stdout",
     "output_type": "stream",
     "text": [
      "K-Fold #4:\n",
      "              precision    recall  f1-score   support\n",
      "\n",
      "         0.0       0.49      0.95      0.64        20\n",
      "         1.0       0.00      0.00      0.00        20\n",
      "\n",
      "    accuracy                           0.48        40\n",
      "   macro avg       0.24      0.47      0.32        40\n",
      "weighted avg       0.24      0.47      0.32        40\n",
      "\n",
      "-------------------------------------------------------------------------------------------------------------------\n"
     ]
    },
    {
     "name": "stderr",
     "output_type": "stream",
     "text": [
      "[Parallel(n_jobs=-1)]: Done   1 out of   1 | elapsed:  2.2min finished\n",
      "[Parallel(n_jobs=-1)]: Using backend LokyBackend with 12 concurrent workers.\n"
     ]
    },
    {
     "name": "stdout",
     "output_type": "stream",
     "text": [
      "K-Fold #5:\n",
      "              precision    recall  f1-score   support\n",
      "\n",
      "         0.0       0.32      0.30      0.31        20\n",
      "         1.0       0.33      0.35      0.34        20\n",
      "\n",
      "    accuracy                           0.33        40\n",
      "   macro avg       0.32      0.32      0.32        40\n",
      "weighted avg       0.32      0.33      0.32        40\n",
      "\n",
      "-------------------------------------------------------------------------------------------------------------------\n"
     ]
    },
    {
     "name": "stderr",
     "output_type": "stream",
     "text": [
      "[Parallel(n_jobs=-1)]: Done   1 out of   1 | elapsed:  2.1min finished\n",
      "[Parallel(n_jobs=-1)]: Using backend LokyBackend with 12 concurrent workers.\n"
     ]
    },
    {
     "name": "stdout",
     "output_type": "stream",
     "text": [
      "K-Fold #6:\n",
      "              precision    recall  f1-score   support\n",
      "\n",
      "         0.0       0.44      0.55      0.49        20\n",
      "         1.0       0.40      0.30      0.34        20\n",
      "\n",
      "    accuracy                           0.42        40\n",
      "   macro avg       0.42      0.43      0.42        40\n",
      "weighted avg       0.42      0.42      0.42        40\n",
      "\n",
      "-------------------------------------------------------------------------------------------------------------------\n"
     ]
    },
    {
     "name": "stderr",
     "output_type": "stream",
     "text": [
      "[Parallel(n_jobs=-1)]: Done   1 out of   1 | elapsed:  2.2min finished\n",
      "[Parallel(n_jobs=-1)]: Using backend LokyBackend with 12 concurrent workers.\n"
     ]
    },
    {
     "name": "stdout",
     "output_type": "stream",
     "text": [
      "K-Fold #7:\n",
      "              precision    recall  f1-score   support\n",
      "\n",
      "         0.0       0.48      0.55      0.51        20\n",
      "         1.0       0.47      0.40      0.43        20\n",
      "\n",
      "    accuracy                           0.48        40\n",
      "   macro avg       0.47      0.48      0.47        40\n",
      "weighted avg       0.47      0.47      0.47        40\n",
      "\n",
      "-------------------------------------------------------------------------------------------------------------------\n"
     ]
    },
    {
     "name": "stderr",
     "output_type": "stream",
     "text": [
      "[Parallel(n_jobs=-1)]: Done   1 out of   1 | elapsed:  2.3min finished\n",
      "[Parallel(n_jobs=-1)]: Using backend LokyBackend with 12 concurrent workers.\n"
     ]
    },
    {
     "name": "stdout",
     "output_type": "stream",
     "text": [
      "K-Fold #8:\n",
      "              precision    recall  f1-score   support\n",
      "\n",
      "         0.0       0.55      0.60      0.57        20\n",
      "         1.0       0.56      0.50      0.53        20\n",
      "\n",
      "    accuracy                           0.55        40\n",
      "   macro avg       0.55      0.55      0.55        40\n",
      "weighted avg       0.55      0.55      0.55        40\n",
      "\n",
      "-------------------------------------------------------------------------------------------------------------------\n"
     ]
    },
    {
     "name": "stderr",
     "output_type": "stream",
     "text": [
      "[Parallel(n_jobs=-1)]: Done   1 out of   1 | elapsed:  2.1min finished\n",
      "[Parallel(n_jobs=-1)]: Using backend LokyBackend with 12 concurrent workers.\n"
     ]
    },
    {
     "name": "stdout",
     "output_type": "stream",
     "text": [
      "K-Fold #9:\n",
      "              precision    recall  f1-score   support\n",
      "\n",
      "         0.0       0.53      0.95      0.68        20\n",
      "         1.0       0.75      0.15      0.25        20\n",
      "\n",
      "    accuracy                           0.55        40\n",
      "   macro avg       0.64      0.55      0.46        40\n",
      "weighted avg       0.64      0.55      0.46        40\n",
      "\n",
      "-------------------------------------------------------------------------------------------------------------------\n",
      "AVG: Scores = 0.41999999999999993 F1-Scores = 0.3930479951843236\n"
     ]
    },
    {
     "name": "stderr",
     "output_type": "stream",
     "text": [
      "[Parallel(n_jobs=-1)]: Done   1 out of   1 | elapsed:  2.4min finished\n",
      "[Parallel(n_jobs=-1)]: Using backend LokyBackend with 12 concurrent workers.\n"
     ]
    },
    {
     "name": "stdout",
     "output_type": "stream",
     "text": [
      "K-Fold #0:\n",
      "              precision    recall  f1-score   support\n",
      "\n",
      "         0.0       0.00      0.00      0.00        20\n",
      "         1.0       0.43      0.75      0.55        20\n",
      "\n",
      "    accuracy                           0.38        40\n",
      "   macro avg       0.21      0.38      0.27        40\n",
      "weighted avg       0.21      0.38      0.27        40\n",
      "\n",
      "-------------------------------------------------------------------------------------------------------------------\n"
     ]
    },
    {
     "name": "stderr",
     "output_type": "stream",
     "text": [
      "[Parallel(n_jobs=-1)]: Done   1 out of   1 | elapsed:  2.2min finished\n",
      "[Parallel(n_jobs=-1)]: Using backend LokyBackend with 12 concurrent workers.\n"
     ]
    },
    {
     "name": "stdout",
     "output_type": "stream",
     "text": [
      "K-Fold #1:\n",
      "              precision    recall  f1-score   support\n",
      "\n",
      "         0.0       0.52      0.75      0.61        20\n",
      "         1.0       0.55      0.30      0.39        20\n",
      "\n",
      "    accuracy                           0.53        40\n",
      "   macro avg       0.53      0.53      0.50        40\n",
      "weighted avg       0.53      0.53      0.50        40\n",
      "\n",
      "-------------------------------------------------------------------------------------------------------------------\n"
     ]
    },
    {
     "name": "stderr",
     "output_type": "stream",
     "text": [
      "[Parallel(n_jobs=-1)]: Done   1 out of   1 | elapsed:  2.1min finished\n",
      "[Parallel(n_jobs=-1)]: Using backend LokyBackend with 12 concurrent workers.\n"
     ]
    },
    {
     "name": "stdout",
     "output_type": "stream",
     "text": [
      "K-Fold #2:\n",
      "              precision    recall  f1-score   support\n",
      "\n",
      "         0.0       0.57      0.65      0.60        20\n",
      "         1.0       0.59      0.50      0.54        20\n",
      "\n",
      "    accuracy                           0.57        40\n",
      "   macro avg       0.58      0.57      0.57        40\n",
      "weighted avg       0.58      0.57      0.57        40\n",
      "\n",
      "-------------------------------------------------------------------------------------------------------------------\n"
     ]
    },
    {
     "name": "stderr",
     "output_type": "stream",
     "text": [
      "[Parallel(n_jobs=-1)]: Done   1 out of   1 | elapsed:  2.2min finished\n",
      "[Parallel(n_jobs=-1)]: Using backend LokyBackend with 12 concurrent workers.\n"
     ]
    },
    {
     "name": "stdout",
     "output_type": "stream",
     "text": [
      "K-Fold #3:\n",
      "              precision    recall  f1-score   support\n",
      "\n",
      "         0.0       0.49      0.90      0.63        20\n",
      "         1.0       0.33      0.05      0.09        20\n",
      "\n",
      "    accuracy                           0.48        40\n",
      "   macro avg       0.41      0.48      0.36        40\n",
      "weighted avg       0.41      0.47      0.36        40\n",
      "\n",
      "-------------------------------------------------------------------------------------------------------------------\n"
     ]
    },
    {
     "name": "stderr",
     "output_type": "stream",
     "text": [
      "[Parallel(n_jobs=-1)]: Done   1 out of   1 | elapsed:  2.2min finished\n",
      "[Parallel(n_jobs=-1)]: Using backend LokyBackend with 12 concurrent workers.\n"
     ]
    },
    {
     "name": "stdout",
     "output_type": "stream",
     "text": [
      "K-Fold #4:\n",
      "              precision    recall  f1-score   support\n",
      "\n",
      "         0.0       0.43      0.45      0.44        20\n",
      "         1.0       0.42      0.40      0.41        20\n",
      "\n",
      "    accuracy                           0.42        40\n",
      "   macro avg       0.42      0.43      0.42        40\n",
      "weighted avg       0.42      0.42      0.42        40\n",
      "\n",
      "-------------------------------------------------------------------------------------------------------------------\n"
     ]
    },
    {
     "name": "stderr",
     "output_type": "stream",
     "text": [
      "[Parallel(n_jobs=-1)]: Done   1 out of   1 | elapsed:  2.3min finished\n",
      "[Parallel(n_jobs=-1)]: Using backend LokyBackend with 12 concurrent workers.\n"
     ]
    },
    {
     "name": "stdout",
     "output_type": "stream",
     "text": [
      "K-Fold #5:\n",
      "              precision    recall  f1-score   support\n",
      "\n",
      "         0.0       0.48      0.55      0.51        20\n",
      "         1.0       0.47      0.40      0.43        20\n",
      "\n",
      "    accuracy                           0.48        40\n",
      "   macro avg       0.47      0.48      0.47        40\n",
      "weighted avg       0.47      0.47      0.47        40\n",
      "\n",
      "-------------------------------------------------------------------------------------------------------------------\n"
     ]
    },
    {
     "name": "stderr",
     "output_type": "stream",
     "text": [
      "[Parallel(n_jobs=-1)]: Done   1 out of   1 | elapsed:  2.2min finished\n",
      "[Parallel(n_jobs=-1)]: Using backend LokyBackend with 12 concurrent workers.\n"
     ]
    },
    {
     "name": "stdout",
     "output_type": "stream",
     "text": [
      "K-Fold #6:\n",
      "              precision    recall  f1-score   support\n",
      "\n",
      "         0.0       0.42      0.55      0.48        20\n",
      "         1.0       0.36      0.25      0.29        20\n",
      "\n",
      "    accuracy                           0.40        40\n",
      "   macro avg       0.39      0.40      0.39        40\n",
      "weighted avg       0.39      0.40      0.39        40\n",
      "\n",
      "-------------------------------------------------------------------------------------------------------------------\n"
     ]
    },
    {
     "name": "stderr",
     "output_type": "stream",
     "text": [
      "[Parallel(n_jobs=-1)]: Done   1 out of   1 | elapsed:  2.4min finished\n",
      "[Parallel(n_jobs=-1)]: Using backend LokyBackend with 12 concurrent workers.\n"
     ]
    },
    {
     "name": "stdout",
     "output_type": "stream",
     "text": [
      "K-Fold #7:\n",
      "              precision    recall  f1-score   support\n",
      "\n",
      "         0.0       0.40      0.20      0.27        20\n",
      "         1.0       0.47      0.70      0.56        20\n",
      "\n",
      "    accuracy                           0.45        40\n",
      "   macro avg       0.43      0.45      0.41        40\n",
      "weighted avg       0.43      0.45      0.41        40\n",
      "\n",
      "-------------------------------------------------------------------------------------------------------------------\n"
     ]
    },
    {
     "name": "stderr",
     "output_type": "stream",
     "text": [
      "[Parallel(n_jobs=-1)]: Done   1 out of   1 | elapsed:  2.1min finished\n",
      "[Parallel(n_jobs=-1)]: Using backend LokyBackend with 12 concurrent workers.\n"
     ]
    },
    {
     "name": "stdout",
     "output_type": "stream",
     "text": [
      "K-Fold #8:\n",
      "              precision    recall  f1-score   support\n",
      "\n",
      "         0.0       0.42      0.50      0.45        20\n",
      "         1.0       0.38      0.30      0.33        20\n",
      "\n",
      "    accuracy                           0.40        40\n",
      "   macro avg       0.40      0.40      0.39        40\n",
      "weighted avg       0.40      0.40      0.39        40\n",
      "\n",
      "-------------------------------------------------------------------------------------------------------------------\n"
     ]
    },
    {
     "name": "stderr",
     "output_type": "stream",
     "text": [
      "[Parallel(n_jobs=-1)]: Done   1 out of   1 | elapsed:  2.3min finished\n",
      "[Parallel(n_jobs=-1)]: Using backend LokyBackend with 12 concurrent workers.\n"
     ]
    },
    {
     "name": "stdout",
     "output_type": "stream",
     "text": [
      "K-Fold #9:\n",
      "              precision    recall  f1-score   support\n",
      "\n",
      "         0.0       0.43      0.50      0.47        20\n",
      "         1.0       0.41      0.35      0.38        20\n",
      "\n",
      "    accuracy                           0.42        40\n",
      "   macro avg       0.42      0.42      0.42        40\n",
      "weighted avg       0.42      0.42      0.42        40\n",
      "\n",
      "-------------------------------------------------------------------------------------------------------------------\n",
      "AVG: Scores = 0.45249999999999996 F1-Scores = 0.42161415792865986\n"
     ]
    },
    {
     "name": "stderr",
     "output_type": "stream",
     "text": [
      "[Parallel(n_jobs=-1)]: Done   1 out of   1 | elapsed:  2.4min finished\n",
      "[Parallel(n_jobs=-1)]: Using backend LokyBackend with 12 concurrent workers.\n"
     ]
    },
    {
     "name": "stdout",
     "output_type": "stream",
     "text": [
      "K-Fold #0:\n",
      "              precision    recall  f1-score   support\n",
      "\n",
      "         0.0       0.50      0.40      0.44        20\n",
      "         1.0       0.50      0.60      0.55        20\n",
      "\n",
      "    accuracy                           0.50        40\n",
      "   macro avg       0.50      0.50      0.49        40\n",
      "weighted avg       0.50      0.50      0.49        40\n",
      "\n",
      "-------------------------------------------------------------------------------------------------------------------\n"
     ]
    },
    {
     "name": "stderr",
     "output_type": "stream",
     "text": [
      "[Parallel(n_jobs=-1)]: Done   1 out of   1 | elapsed:  2.1min finished\n",
      "[Parallel(n_jobs=-1)]: Using backend LokyBackend with 12 concurrent workers.\n"
     ]
    },
    {
     "name": "stdout",
     "output_type": "stream",
     "text": [
      "K-Fold #1:\n",
      "              precision    recall  f1-score   support\n",
      "\n",
      "         0.0       0.50      0.15      0.23        20\n",
      "         1.0       0.50      0.85      0.63        20\n",
      "\n",
      "    accuracy                           0.50        40\n",
      "   macro avg       0.50      0.50      0.43        40\n",
      "weighted avg       0.50      0.50      0.43        40\n",
      "\n",
      "-------------------------------------------------------------------------------------------------------------------\n"
     ]
    },
    {
     "name": "stderr",
     "output_type": "stream",
     "text": [
      "[Parallel(n_jobs=-1)]: Done   1 out of   1 | elapsed:  2.2min finished\n",
      "[Parallel(n_jobs=-1)]: Using backend LokyBackend with 12 concurrent workers.\n"
     ]
    },
    {
     "name": "stdout",
     "output_type": "stream",
     "text": [
      "K-Fold #2:\n",
      "              precision    recall  f1-score   support\n",
      "\n",
      "         0.0       0.46      0.65      0.54        20\n",
      "         1.0       0.42      0.25      0.31        20\n",
      "\n",
      "    accuracy                           0.45        40\n",
      "   macro avg       0.44      0.45      0.43        40\n",
      "weighted avg       0.44      0.45      0.43        40\n",
      "\n",
      "-------------------------------------------------------------------------------------------------------------------\n"
     ]
    },
    {
     "name": "stderr",
     "output_type": "stream",
     "text": [
      "[Parallel(n_jobs=-1)]: Done   1 out of   1 | elapsed:  2.1min finished\n",
      "[Parallel(n_jobs=-1)]: Using backend LokyBackend with 12 concurrent workers.\n"
     ]
    },
    {
     "name": "stdout",
     "output_type": "stream",
     "text": [
      "K-Fold #3:\n",
      "              precision    recall  f1-score   support\n",
      "\n",
      "         0.0       0.47      0.75      0.58        20\n",
      "         1.0       0.38      0.15      0.21        20\n",
      "\n",
      "    accuracy                           0.45        40\n",
      "   macro avg       0.42      0.45      0.40        40\n",
      "weighted avg       0.42      0.45      0.40        40\n",
      "\n",
      "-------------------------------------------------------------------------------------------------------------------\n"
     ]
    },
    {
     "name": "stderr",
     "output_type": "stream",
     "text": [
      "[Parallel(n_jobs=-1)]: Done   1 out of   1 | elapsed:  2.3min finished\n",
      "[Parallel(n_jobs=-1)]: Using backend LokyBackend with 12 concurrent workers.\n"
     ]
    },
    {
     "name": "stdout",
     "output_type": "stream",
     "text": [
      "K-Fold #4:\n",
      "              precision    recall  f1-score   support\n",
      "\n",
      "         0.0       0.47      0.40      0.43        20\n",
      "         1.0       0.48      0.55      0.51        20\n",
      "\n",
      "    accuracy                           0.48        40\n",
      "   macro avg       0.47      0.48      0.47        40\n",
      "weighted avg       0.47      0.47      0.47        40\n",
      "\n",
      "-------------------------------------------------------------------------------------------------------------------\n"
     ]
    },
    {
     "name": "stderr",
     "output_type": "stream",
     "text": [
      "[Parallel(n_jobs=-1)]: Done   1 out of   1 | elapsed:  2.4min finished\n",
      "[Parallel(n_jobs=-1)]: Using backend LokyBackend with 12 concurrent workers.\n"
     ]
    },
    {
     "name": "stdout",
     "output_type": "stream",
     "text": [
      "K-Fold #5:\n",
      "              precision    recall  f1-score   support\n",
      "\n",
      "         0.0       0.45      0.45      0.45        20\n",
      "         1.0       0.45      0.45      0.45        20\n",
      "\n",
      "    accuracy                           0.45        40\n",
      "   macro avg       0.45      0.45      0.45        40\n",
      "weighted avg       0.45      0.45      0.45        40\n",
      "\n",
      "-------------------------------------------------------------------------------------------------------------------\n"
     ]
    },
    {
     "name": "stderr",
     "output_type": "stream",
     "text": [
      "[Parallel(n_jobs=-1)]: Done   1 out of   1 | elapsed:  2.2min finished\n",
      "[Parallel(n_jobs=-1)]: Using backend LokyBackend with 12 concurrent workers.\n"
     ]
    },
    {
     "name": "stdout",
     "output_type": "stream",
     "text": [
      "K-Fold #6:\n",
      "              precision    recall  f1-score   support\n",
      "\n",
      "         0.0       0.46      0.60      0.52        20\n",
      "         1.0       0.43      0.30      0.35        20\n",
      "\n",
      "    accuracy                           0.45        40\n",
      "   macro avg       0.45      0.45      0.44        40\n",
      "weighted avg       0.45      0.45      0.44        40\n",
      "\n",
      "-------------------------------------------------------------------------------------------------------------------\n"
     ]
    },
    {
     "name": "stderr",
     "output_type": "stream",
     "text": [
      "[Parallel(n_jobs=-1)]: Done   1 out of   1 | elapsed:  2.1min finished\n",
      "[Parallel(n_jobs=-1)]: Using backend LokyBackend with 12 concurrent workers.\n"
     ]
    },
    {
     "name": "stdout",
     "output_type": "stream",
     "text": [
      "K-Fold #7:\n",
      "              precision    recall  f1-score   support\n",
      "\n",
      "         0.0       0.45      0.25      0.32        20\n",
      "         1.0       0.48      0.70      0.57        20\n",
      "\n",
      "    accuracy                           0.48        40\n",
      "   macro avg       0.47      0.47      0.45        40\n",
      "weighted avg       0.47      0.47      0.45        40\n",
      "\n",
      "-------------------------------------------------------------------------------------------------------------------\n"
     ]
    },
    {
     "name": "stderr",
     "output_type": "stream",
     "text": [
      "[Parallel(n_jobs=-1)]: Done   1 out of   1 | elapsed:  2.2min finished\n",
      "[Parallel(n_jobs=-1)]: Using backend LokyBackend with 12 concurrent workers.\n"
     ]
    },
    {
     "name": "stdout",
     "output_type": "stream",
     "text": [
      "K-Fold #8:\n",
      "              precision    recall  f1-score   support\n",
      "\n",
      "         0.0       0.44      0.55      0.49        20\n",
      "         1.0       0.40      0.30      0.34        20\n",
      "\n",
      "    accuracy                           0.42        40\n",
      "   macro avg       0.42      0.43      0.42        40\n",
      "weighted avg       0.42      0.42      0.42        40\n",
      "\n",
      "-------------------------------------------------------------------------------------------------------------------\n"
     ]
    },
    {
     "name": "stderr",
     "output_type": "stream",
     "text": [
      "[Parallel(n_jobs=-1)]: Done   1 out of   1 | elapsed:  2.3min finished\n",
      "[Parallel(n_jobs=-1)]: Using backend LokyBackend with 12 concurrent workers.\n"
     ]
    },
    {
     "name": "stdout",
     "output_type": "stream",
     "text": [
      "K-Fold #9:\n",
      "              precision    recall  f1-score   support\n",
      "\n",
      "         0.0       0.50      0.65      0.57        20\n",
      "         1.0       0.50      0.35      0.41        20\n",
      "\n",
      "    accuracy                           0.50        40\n",
      "   macro avg       0.50      0.50      0.49        40\n",
      "weighted avg       0.50      0.50      0.49        40\n",
      "\n",
      "-------------------------------------------------------------------------------------------------------------------\n",
      "AVG: Scores = 0.46749999999999997 F1-Scores = 0.4458575650005224\n"
     ]
    },
    {
     "name": "stderr",
     "output_type": "stream",
     "text": [
      "[Parallel(n_jobs=-1)]: Done   1 out of   1 | elapsed:  2.2min finished\n",
      "[Parallel(n_jobs=-1)]: Using backend LokyBackend with 12 concurrent workers.\n"
     ]
    },
    {
     "name": "stdout",
     "output_type": "stream",
     "text": [
      "K-Fold #0:\n",
      "              precision    recall  f1-score   support\n",
      "\n",
      "         0.0       0.52      0.75      0.61        20\n",
      "         1.0       0.55      0.30      0.39        20\n",
      "\n",
      "    accuracy                           0.53        40\n",
      "   macro avg       0.53      0.53      0.50        40\n",
      "weighted avg       0.53      0.53      0.50        40\n",
      "\n",
      "-------------------------------------------------------------------------------------------------------------------\n"
     ]
    },
    {
     "name": "stderr",
     "output_type": "stream",
     "text": [
      "[Parallel(n_jobs=-1)]: Done   1 out of   1 | elapsed:  2.1min finished\n",
      "[Parallel(n_jobs=-1)]: Using backend LokyBackend with 12 concurrent workers.\n"
     ]
    },
    {
     "name": "stdout",
     "output_type": "stream",
     "text": [
      "K-Fold #1:\n",
      "              precision    recall  f1-score   support\n",
      "\n",
      "         0.0       0.58      0.35      0.44        20\n",
      "         1.0       0.54      0.75      0.63        20\n",
      "\n",
      "    accuracy                           0.55        40\n",
      "   macro avg       0.56      0.55      0.53        40\n",
      "weighted avg       0.56      0.55      0.53        40\n",
      "\n",
      "-------------------------------------------------------------------------------------------------------------------\n"
     ]
    },
    {
     "name": "stderr",
     "output_type": "stream",
     "text": [
      "[Parallel(n_jobs=-1)]: Done   1 out of   1 | elapsed:  2.2min finished\n",
      "[Parallel(n_jobs=-1)]: Using backend LokyBackend with 12 concurrent workers.\n"
     ]
    },
    {
     "name": "stdout",
     "output_type": "stream",
     "text": [
      "K-Fold #2:\n",
      "              precision    recall  f1-score   support\n",
      "\n",
      "         0.0       0.40      0.50      0.44        20\n",
      "         1.0       0.33      0.25      0.29        20\n",
      "\n",
      "    accuracy                           0.38        40\n",
      "   macro avg       0.37      0.38      0.37        40\n",
      "weighted avg       0.37      0.38      0.37        40\n",
      "\n",
      "-------------------------------------------------------------------------------------------------------------------\n"
     ]
    },
    {
     "name": "stderr",
     "output_type": "stream",
     "text": [
      "[Parallel(n_jobs=-1)]: Done   1 out of   1 | elapsed:  2.1min finished\n",
      "[Parallel(n_jobs=-1)]: Using backend LokyBackend with 12 concurrent workers.\n"
     ]
    },
    {
     "name": "stdout",
     "output_type": "stream",
     "text": [
      "K-Fold #3:\n",
      "              precision    recall  f1-score   support\n",
      "\n",
      "         0.0       0.44      0.40      0.42        20\n",
      "         1.0       0.45      0.50      0.48        20\n",
      "\n",
      "    accuracy                           0.45        40\n",
      "   macro avg       0.45      0.45      0.45        40\n",
      "weighted avg       0.45      0.45      0.45        40\n",
      "\n",
      "-------------------------------------------------------------------------------------------------------------------\n"
     ]
    },
    {
     "name": "stderr",
     "output_type": "stream",
     "text": [
      "[Parallel(n_jobs=-1)]: Done   1 out of   1 | elapsed:  2.2min finished\n",
      "[Parallel(n_jobs=-1)]: Using backend LokyBackend with 12 concurrent workers.\n"
     ]
    },
    {
     "name": "stdout",
     "output_type": "stream",
     "text": [
      "K-Fold #4:\n",
      "              precision    recall  f1-score   support\n",
      "\n",
      "         0.0       0.48      0.65      0.55        20\n",
      "         1.0       0.46      0.30      0.36        20\n",
      "\n",
      "    accuracy                           0.48        40\n",
      "   macro avg       0.47      0.47      0.46        40\n",
      "weighted avg       0.47      0.47      0.46        40\n",
      "\n",
      "-------------------------------------------------------------------------------------------------------------------\n"
     ]
    },
    {
     "name": "stderr",
     "output_type": "stream",
     "text": [
      "[Parallel(n_jobs=-1)]: Done   1 out of   1 | elapsed:  2.3min finished\n",
      "[Parallel(n_jobs=-1)]: Using backend LokyBackend with 12 concurrent workers.\n"
     ]
    },
    {
     "name": "stdout",
     "output_type": "stream",
     "text": [
      "K-Fold #5:\n",
      "              precision    recall  f1-score   support\n",
      "\n",
      "         0.0       0.48      0.55      0.51        20\n",
      "         1.0       0.47      0.40      0.43        20\n",
      "\n",
      "    accuracy                           0.48        40\n",
      "   macro avg       0.47      0.48      0.47        40\n",
      "weighted avg       0.47      0.47      0.47        40\n",
      "\n",
      "-------------------------------------------------------------------------------------------------------------------\n"
     ]
    },
    {
     "name": "stderr",
     "output_type": "stream",
     "text": [
      "[Parallel(n_jobs=-1)]: Done   1 out of   1 | elapsed:  2.3min finished\n",
      "[Parallel(n_jobs=-1)]: Using backend LokyBackend with 12 concurrent workers.\n"
     ]
    },
    {
     "name": "stdout",
     "output_type": "stream",
     "text": [
      "K-Fold #6:\n",
      "              precision    recall  f1-score   support\n",
      "\n",
      "         0.0       0.38      0.40      0.39        20\n",
      "         1.0       0.37      0.35      0.36        20\n",
      "\n",
      "    accuracy                           0.38        40\n",
      "   macro avg       0.37      0.38      0.37        40\n",
      "weighted avg       0.37      0.38      0.37        40\n",
      "\n",
      "-------------------------------------------------------------------------------------------------------------------\n"
     ]
    },
    {
     "name": "stderr",
     "output_type": "stream",
     "text": [
      "[Parallel(n_jobs=-1)]: Done   1 out of   1 | elapsed:  2.2min finished\n",
      "[Parallel(n_jobs=-1)]: Using backend LokyBackend with 12 concurrent workers.\n"
     ]
    },
    {
     "name": "stdout",
     "output_type": "stream",
     "text": [
      "K-Fold #7:\n",
      "              precision    recall  f1-score   support\n",
      "\n",
      "         0.0       0.50      0.70      0.58        20\n",
      "         1.0       0.50      0.30      0.37        20\n",
      "\n",
      "    accuracy                           0.50        40\n",
      "   macro avg       0.50      0.50      0.48        40\n",
      "weighted avg       0.50      0.50      0.48        40\n",
      "\n",
      "-------------------------------------------------------------------------------------------------------------------\n"
     ]
    },
    {
     "name": "stderr",
     "output_type": "stream",
     "text": [
      "[Parallel(n_jobs=-1)]: Done   1 out of   1 | elapsed:  2.3min finished\n",
      "[Parallel(n_jobs=-1)]: Using backend LokyBackend with 12 concurrent workers.\n"
     ]
    },
    {
     "name": "stdout",
     "output_type": "stream",
     "text": [
      "K-Fold #8:\n",
      "              precision    recall  f1-score   support\n",
      "\n",
      "         0.0       0.47      0.40      0.43        20\n",
      "         1.0       0.48      0.55      0.51        20\n",
      "\n",
      "    accuracy                           0.48        40\n",
      "   macro avg       0.47      0.48      0.47        40\n",
      "weighted avg       0.47      0.47      0.47        40\n",
      "\n",
      "-------------------------------------------------------------------------------------------------------------------\n"
     ]
    },
    {
     "name": "stderr",
     "output_type": "stream",
     "text": [
      "[Parallel(n_jobs=-1)]: Done   1 out of   1 | elapsed:  2.3min finished\n",
      "[Parallel(n_jobs=-1)]: Using backend LokyBackend with 12 concurrent workers.\n"
     ]
    },
    {
     "name": "stdout",
     "output_type": "stream",
     "text": [
      "K-Fold #9:\n",
      "              precision    recall  f1-score   support\n",
      "\n",
      "         0.0       0.42      0.50      0.45        20\n",
      "         1.0       0.38      0.30      0.33        20\n",
      "\n",
      "    accuracy                           0.40        40\n",
      "   macro avg       0.40      0.40      0.39        40\n",
      "weighted avg       0.40      0.40      0.39        40\n",
      "\n",
      "-------------------------------------------------------------------------------------------------------------------\n",
      "AVG: Scores = 0.4600000000000001 F1-Scores = 0.4494811212261404\n"
     ]
    },
    {
     "name": "stderr",
     "output_type": "stream",
     "text": [
      "[Parallel(n_jobs=-1)]: Done   1 out of   1 | elapsed:  2.2min finished\n",
      "[Parallel(n_jobs=-1)]: Using backend LokyBackend with 12 concurrent workers.\n"
     ]
    },
    {
     "name": "stdout",
     "output_type": "stream",
     "text": [
      "K-Fold #0:\n",
      "              precision    recall  f1-score   support\n",
      "\n",
      "         0.0       0.48      0.65      0.55        20\n",
      "         1.0       0.46      0.30      0.36        20\n",
      "\n",
      "    accuracy                           0.48        40\n",
      "   macro avg       0.47      0.47      0.46        40\n",
      "weighted avg       0.47      0.47      0.46        40\n",
      "\n",
      "-------------------------------------------------------------------------------------------------------------------\n"
     ]
    },
    {
     "name": "stderr",
     "output_type": "stream",
     "text": [
      "[Parallel(n_jobs=-1)]: Done   1 out of   1 | elapsed:  2.2min finished\n",
      "[Parallel(n_jobs=-1)]: Using backend LokyBackend with 12 concurrent workers.\n"
     ]
    },
    {
     "name": "stdout",
     "output_type": "stream",
     "text": [
      "K-Fold #1:\n",
      "              precision    recall  f1-score   support\n",
      "\n",
      "         0.0       0.42      0.40      0.41        20\n",
      "         1.0       0.43      0.45      0.44        20\n",
      "\n",
      "    accuracy                           0.42        40\n",
      "   macro avg       0.42      0.43      0.42        40\n",
      "weighted avg       0.42      0.42      0.42        40\n",
      "\n",
      "-------------------------------------------------------------------------------------------------------------------\n"
     ]
    },
    {
     "name": "stderr",
     "output_type": "stream",
     "text": [
      "[Parallel(n_jobs=-1)]: Done   1 out of   1 | elapsed:  2.1min finished\n",
      "[Parallel(n_jobs=-1)]: Using backend LokyBackend with 12 concurrent workers.\n"
     ]
    },
    {
     "name": "stdout",
     "output_type": "stream",
     "text": [
      "K-Fold #2:\n",
      "              precision    recall  f1-score   support\n",
      "\n",
      "         0.0       0.37      0.35      0.36        20\n",
      "         1.0       0.38      0.40      0.39        20\n",
      "\n",
      "    accuracy                           0.38        40\n",
      "   macro avg       0.37      0.38      0.37        40\n",
      "weighted avg       0.37      0.38      0.37        40\n",
      "\n",
      "-------------------------------------------------------------------------------------------------------------------\n"
     ]
    },
    {
     "name": "stderr",
     "output_type": "stream",
     "text": [
      "[Parallel(n_jobs=-1)]: Done   1 out of   1 | elapsed:  2.4min finished\n",
      "[Parallel(n_jobs=-1)]: Using backend LokyBackend with 12 concurrent workers.\n"
     ]
    },
    {
     "name": "stdout",
     "output_type": "stream",
     "text": [
      "K-Fold #3:\n",
      "              precision    recall  f1-score   support\n",
      "\n",
      "         0.0       0.49      0.85      0.62        20\n",
      "         1.0       0.40      0.10      0.16        20\n",
      "\n",
      "    accuracy                           0.48        40\n",
      "   macro avg       0.44      0.47      0.39        40\n",
      "weighted avg       0.44      0.47      0.39        40\n",
      "\n",
      "-------------------------------------------------------------------------------------------------------------------\n"
     ]
    },
    {
     "name": "stderr",
     "output_type": "stream",
     "text": [
      "[Parallel(n_jobs=-1)]: Done   1 out of   1 | elapsed:  2.2min finished\n",
      "[Parallel(n_jobs=-1)]: Using backend LokyBackend with 12 concurrent workers.\n"
     ]
    },
    {
     "name": "stdout",
     "output_type": "stream",
     "text": [
      "K-Fold #4:\n",
      "              precision    recall  f1-score   support\n",
      "\n",
      "         0.0       0.50      0.25      0.33        20\n",
      "         1.0       0.50      0.75      0.60        20\n",
      "\n",
      "    accuracy                           0.50        40\n",
      "   macro avg       0.50      0.50      0.47        40\n",
      "weighted avg       0.50      0.50      0.47        40\n",
      "\n",
      "-------------------------------------------------------------------------------------------------------------------\n"
     ]
    },
    {
     "name": "stderr",
     "output_type": "stream",
     "text": [
      "[Parallel(n_jobs=-1)]: Done   1 out of   1 | elapsed:  2.3min finished\n",
      "[Parallel(n_jobs=-1)]: Using backend LokyBackend with 12 concurrent workers.\n"
     ]
    },
    {
     "name": "stdout",
     "output_type": "stream",
     "text": [
      "K-Fold #5:\n",
      "              precision    recall  f1-score   support\n",
      "\n",
      "         0.0       0.44      0.60      0.51        20\n",
      "         1.0       0.38      0.25      0.30        20\n",
      "\n",
      "    accuracy                           0.42        40\n",
      "   macro avg       0.41      0.42      0.41        40\n",
      "weighted avg       0.41      0.42      0.41        40\n",
      "\n",
      "-------------------------------------------------------------------------------------------------------------------\n"
     ]
    },
    {
     "name": "stderr",
     "output_type": "stream",
     "text": [
      "[Parallel(n_jobs=-1)]: Done   1 out of   1 | elapsed:  2.4min finished\n",
      "[Parallel(n_jobs=-1)]: Using backend LokyBackend with 12 concurrent workers.\n"
     ]
    },
    {
     "name": "stdout",
     "output_type": "stream",
     "text": [
      "K-Fold #6:\n",
      "              precision    recall  f1-score   support\n",
      "\n",
      "         0.0       0.42      0.40      0.41        20\n",
      "         1.0       0.43      0.45      0.44        20\n",
      "\n",
      "    accuracy                           0.42        40\n",
      "   macro avg       0.42      0.43      0.42        40\n",
      "weighted avg       0.42      0.42      0.42        40\n",
      "\n",
      "-------------------------------------------------------------------------------------------------------------------\n"
     ]
    },
    {
     "name": "stderr",
     "output_type": "stream",
     "text": [
      "[Parallel(n_jobs=-1)]: Done   1 out of   1 | elapsed:  2.2min finished\n",
      "[Parallel(n_jobs=-1)]: Using backend LokyBackend with 12 concurrent workers.\n"
     ]
    },
    {
     "name": "stdout",
     "output_type": "stream",
     "text": [
      "K-Fold #7:\n",
      "              precision    recall  f1-score   support\n",
      "\n",
      "         0.0       0.40      0.50      0.44        20\n",
      "         1.0       0.33      0.25      0.29        20\n",
      "\n",
      "    accuracy                           0.38        40\n",
      "   macro avg       0.37      0.38      0.37        40\n",
      "weighted avg       0.37      0.38      0.37        40\n",
      "\n",
      "-------------------------------------------------------------------------------------------------------------------\n"
     ]
    },
    {
     "name": "stderr",
     "output_type": "stream",
     "text": [
      "[Parallel(n_jobs=-1)]: Done   1 out of   1 | elapsed:  2.2min finished\n",
      "[Parallel(n_jobs=-1)]: Using backend LokyBackend with 12 concurrent workers.\n"
     ]
    },
    {
     "name": "stdout",
     "output_type": "stream",
     "text": [
      "K-Fold #8:\n",
      "              precision    recall  f1-score   support\n",
      "\n",
      "         0.0       0.52      0.70      0.60        20\n",
      "         1.0       0.54      0.35      0.42        20\n",
      "\n",
      "    accuracy                           0.53        40\n",
      "   macro avg       0.53      0.52      0.51        40\n",
      "weighted avg       0.53      0.53      0.51        40\n",
      "\n",
      "-------------------------------------------------------------------------------------------------------------------\n"
     ]
    },
    {
     "name": "stderr",
     "output_type": "stream",
     "text": [
      "[Parallel(n_jobs=-1)]: Done   1 out of   1 | elapsed:  2.4min finished\n",
      "[Parallel(n_jobs=-1)]: Using backend LokyBackend with 12 concurrent workers.\n"
     ]
    },
    {
     "name": "stdout",
     "output_type": "stream",
     "text": [
      "K-Fold #9:\n",
      "              precision    recall  f1-score   support\n",
      "\n",
      "         0.0       0.47      0.45      0.46        20\n",
      "         1.0       0.48      0.50      0.49        20\n",
      "\n",
      "    accuracy                           0.48        40\n",
      "   macro avg       0.47      0.47      0.47        40\n",
      "weighted avg       0.47      0.47      0.47        40\n",
      "\n",
      "-------------------------------------------------------------------------------------------------------------------\n",
      "AVG: Scores = 0.44749999999999995 F1-Scores = 0.4294640321334665\n"
     ]
    },
    {
     "name": "stderr",
     "output_type": "stream",
     "text": [
      "[Parallel(n_jobs=-1)]: Done   1 out of   1 | elapsed:  2.4min finished\n",
      "[Parallel(n_jobs=-1)]: Using backend LokyBackend with 12 concurrent workers.\n"
     ]
    },
    {
     "name": "stdout",
     "output_type": "stream",
     "text": [
      "K-Fold #0:\n",
      "              precision    recall  f1-score   support\n",
      "\n",
      "         0.0       0.41      0.70      0.52        20\n",
      "         1.0       0.00      0.00      0.00        20\n",
      "\n",
      "    accuracy                           0.35        40\n",
      "   macro avg       0.21      0.35      0.26        40\n",
      "weighted avg       0.21      0.35      0.26        40\n",
      "\n",
      "-------------------------------------------------------------------------------------------------------------------\n"
     ]
    },
    {
     "name": "stderr",
     "output_type": "stream",
     "text": [
      "[Parallel(n_jobs=-1)]: Done   1 out of   1 | elapsed:  1.8min finished\n",
      "[Parallel(n_jobs=-1)]: Using backend LokyBackend with 12 concurrent workers.\n"
     ]
    },
    {
     "name": "stdout",
     "output_type": "stream",
     "text": [
      "K-Fold #1:\n",
      "              precision    recall  f1-score   support\n",
      "\n",
      "         0.0       0.39      0.45      0.42        20\n",
      "         1.0       0.35      0.30      0.32        20\n",
      "\n",
      "    accuracy                           0.38        40\n",
      "   macro avg       0.37      0.38      0.37        40\n",
      "weighted avg       0.37      0.38      0.37        40\n",
      "\n",
      "-------------------------------------------------------------------------------------------------------------------\n"
     ]
    },
    {
     "name": "stderr",
     "output_type": "stream",
     "text": [
      "[Parallel(n_jobs=-1)]: Done   1 out of   1 | elapsed:  1.9min finished\n",
      "[Parallel(n_jobs=-1)]: Using backend LokyBackend with 12 concurrent workers.\n"
     ]
    },
    {
     "name": "stdout",
     "output_type": "stream",
     "text": [
      "K-Fold #2:\n",
      "              precision    recall  f1-score   support\n",
      "\n",
      "         0.0       0.50      0.55      0.52        20\n",
      "         1.0       0.50      0.45      0.47        20\n",
      "\n",
      "    accuracy                           0.50        40\n",
      "   macro avg       0.50      0.50      0.50        40\n",
      "weighted avg       0.50      0.50      0.50        40\n",
      "\n",
      "-------------------------------------------------------------------------------------------------------------------\n"
     ]
    },
    {
     "name": "stderr",
     "output_type": "stream",
     "text": [
      "[Parallel(n_jobs=-1)]: Done   1 out of   1 | elapsed:  2.0min finished\n",
      "[Parallel(n_jobs=-1)]: Using backend LokyBackend with 12 concurrent workers.\n"
     ]
    },
    {
     "name": "stdout",
     "output_type": "stream",
     "text": [
      "K-Fold #3:\n",
      "              precision    recall  f1-score   support\n",
      "\n",
      "         0.0       0.31      0.25      0.28        20\n",
      "         1.0       0.38      0.45      0.41        20\n",
      "\n",
      "    accuracy                           0.35        40\n",
      "   macro avg       0.34      0.35      0.34        40\n",
      "weighted avg       0.34      0.35      0.34        40\n",
      "\n",
      "-------------------------------------------------------------------------------------------------------------------\n"
     ]
    },
    {
     "name": "stderr",
     "output_type": "stream",
     "text": [
      "[Parallel(n_jobs=-1)]: Done   1 out of   1 | elapsed:  1.8min finished\n",
      "[Parallel(n_jobs=-1)]: Using backend LokyBackend with 12 concurrent workers.\n"
     ]
    },
    {
     "name": "stdout",
     "output_type": "stream",
     "text": [
      "K-Fold #4:\n",
      "              precision    recall  f1-score   support\n",
      "\n",
      "         0.0       0.42      0.50      0.45        20\n",
      "         1.0       0.38      0.30      0.33        20\n",
      "\n",
      "    accuracy                           0.40        40\n",
      "   macro avg       0.40      0.40      0.39        40\n",
      "weighted avg       0.40      0.40      0.39        40\n",
      "\n",
      "-------------------------------------------------------------------------------------------------------------------\n"
     ]
    },
    {
     "name": "stderr",
     "output_type": "stream",
     "text": [
      "[Parallel(n_jobs=-1)]: Done   1 out of   1 | elapsed:  1.8min finished\n",
      "[Parallel(n_jobs=-1)]: Using backend LokyBackend with 12 concurrent workers.\n"
     ]
    },
    {
     "name": "stdout",
     "output_type": "stream",
     "text": [
      "K-Fold #5:\n",
      "              precision    recall  f1-score   support\n",
      "\n",
      "         0.0       0.14      0.05      0.07        20\n",
      "         1.0       0.42      0.70      0.53        20\n",
      "\n",
      "    accuracy                           0.38        40\n",
      "   macro avg       0.28      0.38      0.30        40\n",
      "weighted avg       0.28      0.38      0.30        40\n",
      "\n",
      "-------------------------------------------------------------------------------------------------------------------\n"
     ]
    },
    {
     "name": "stderr",
     "output_type": "stream",
     "text": [
      "[Parallel(n_jobs=-1)]: Done   1 out of   1 | elapsed:  2.0min finished\n",
      "[Parallel(n_jobs=-1)]: Using backend LokyBackend with 12 concurrent workers.\n"
     ]
    },
    {
     "name": "stdout",
     "output_type": "stream",
     "text": [
      "K-Fold #6:\n",
      "              precision    recall  f1-score   support\n",
      "\n",
      "         0.0       0.44      0.60      0.51        20\n",
      "         1.0       0.38      0.25      0.30        20\n",
      "\n",
      "    accuracy                           0.42        40\n",
      "   macro avg       0.41      0.42      0.41        40\n",
      "weighted avg       0.41      0.42      0.41        40\n",
      "\n",
      "-------------------------------------------------------------------------------------------------------------------\n"
     ]
    },
    {
     "name": "stderr",
     "output_type": "stream",
     "text": [
      "[Parallel(n_jobs=-1)]: Done   1 out of   1 | elapsed:  1.8min finished\n",
      "[Parallel(n_jobs=-1)]: Using backend LokyBackend with 12 concurrent workers.\n"
     ]
    },
    {
     "name": "stdout",
     "output_type": "stream",
     "text": [
      "K-Fold #7:\n",
      "              precision    recall  f1-score   support\n",
      "\n",
      "         0.0       0.30      0.15      0.20        20\n",
      "         1.0       0.43      0.65      0.52        20\n",
      "\n",
      "    accuracy                           0.40        40\n",
      "   macro avg       0.37      0.40      0.36        40\n",
      "weighted avg       0.37      0.40      0.36        40\n",
      "\n",
      "-------------------------------------------------------------------------------------------------------------------\n"
     ]
    },
    {
     "name": "stderr",
     "output_type": "stream",
     "text": [
      "[Parallel(n_jobs=-1)]: Done   1 out of   1 | elapsed:  1.8min finished\n",
      "[Parallel(n_jobs=-1)]: Using backend LokyBackend with 12 concurrent workers.\n"
     ]
    },
    {
     "name": "stdout",
     "output_type": "stream",
     "text": [
      "K-Fold #8:\n",
      "              precision    recall  f1-score   support\n",
      "\n",
      "         0.0       0.60      0.60      0.60        20\n",
      "         1.0       0.60      0.60      0.60        20\n",
      "\n",
      "    accuracy                           0.60        40\n",
      "   macro avg       0.60      0.60      0.60        40\n",
      "weighted avg       0.60      0.60      0.60        40\n",
      "\n",
      "-------------------------------------------------------------------------------------------------------------------\n"
     ]
    },
    {
     "name": "stderr",
     "output_type": "stream",
     "text": [
      "[Parallel(n_jobs=-1)]: Done   1 out of   1 | elapsed:  1.8min finished\n",
      "[Parallel(n_jobs=-1)]: Using backend LokyBackend with 12 concurrent workers.\n"
     ]
    },
    {
     "name": "stdout",
     "output_type": "stream",
     "text": [
      "K-Fold #9:\n",
      "              precision    recall  f1-score   support\n",
      "\n",
      "         0.0       0.73      0.40      0.52        20\n",
      "         1.0       0.59      0.85      0.69        20\n",
      "\n",
      "    accuracy                           0.62        40\n",
      "   macro avg       0.66      0.62      0.61        40\n",
      "weighted avg       0.66      0.62      0.61        40\n",
      "\n",
      "-------------------------------------------------------------------------------------------------------------------\n",
      "AVG: Scores = 0.44000000000000006 F1-Scores = 0.41398699240682946\n"
     ]
    },
    {
     "name": "stderr",
     "output_type": "stream",
     "text": [
      "[Parallel(n_jobs=-1)]: Done   1 out of   1 | elapsed:  1.8min finished\n",
      "[Parallel(n_jobs=-1)]: Using backend LokyBackend with 12 concurrent workers.\n"
     ]
    },
    {
     "name": "stdout",
     "output_type": "stream",
     "text": [
      "K-Fold #0:\n",
      "              precision    recall  f1-score   support\n",
      "\n",
      "         0.0       0.32      0.30      0.31        20\n",
      "         1.0       0.33      0.35      0.34        20\n",
      "\n",
      "    accuracy                           0.33        40\n",
      "   macro avg       0.32      0.32      0.32        40\n",
      "weighted avg       0.32      0.33      0.32        40\n",
      "\n",
      "-------------------------------------------------------------------------------------------------------------------\n"
     ]
    },
    {
     "name": "stderr",
     "output_type": "stream",
     "text": [
      "[Parallel(n_jobs=-1)]: Done   1 out of   1 | elapsed:  1.8min finished\n",
      "[Parallel(n_jobs=-1)]: Using backend LokyBackend with 12 concurrent workers.\n"
     ]
    },
    {
     "name": "stdout",
     "output_type": "stream",
     "text": [
      "K-Fold #1:\n",
      "              precision    recall  f1-score   support\n",
      "\n",
      "         0.0       0.57      0.60      0.59        20\n",
      "         1.0       0.58      0.55      0.56        20\n",
      "\n",
      "    accuracy                           0.57        40\n",
      "   macro avg       0.58      0.57      0.57        40\n",
      "weighted avg       0.58      0.57      0.57        40\n",
      "\n",
      "-------------------------------------------------------------------------------------------------------------------\n"
     ]
    },
    {
     "name": "stderr",
     "output_type": "stream",
     "text": [
      "[Parallel(n_jobs=-1)]: Done   1 out of   1 | elapsed:  1.9min finished\n",
      "[Parallel(n_jobs=-1)]: Using backend LokyBackend with 12 concurrent workers.\n"
     ]
    },
    {
     "name": "stdout",
     "output_type": "stream",
     "text": [
      "K-Fold #2:\n",
      "              precision    recall  f1-score   support\n",
      "\n",
      "         0.0       0.40      0.20      0.27        20\n",
      "         1.0       0.47      0.70      0.56        20\n",
      "\n",
      "    accuracy                           0.45        40\n",
      "   macro avg       0.43      0.45      0.41        40\n",
      "weighted avg       0.43      0.45      0.41        40\n",
      "\n",
      "-------------------------------------------------------------------------------------------------------------------\n"
     ]
    },
    {
     "name": "stderr",
     "output_type": "stream",
     "text": [
      "[Parallel(n_jobs=-1)]: Done   1 out of   1 | elapsed:  1.9min finished\n",
      "[Parallel(n_jobs=-1)]: Using backend LokyBackend with 12 concurrent workers.\n"
     ]
    },
    {
     "name": "stdout",
     "output_type": "stream",
     "text": [
      "K-Fold #3:\n",
      "              precision    recall  f1-score   support\n",
      "\n",
      "         0.0       0.45      0.70      0.55        20\n",
      "         1.0       0.33      0.15      0.21        20\n",
      "\n",
      "    accuracy                           0.42        40\n",
      "   macro avg       0.39      0.42      0.38        40\n",
      "weighted avg       0.39      0.42      0.38        40\n",
      "\n",
      "-------------------------------------------------------------------------------------------------------------------\n"
     ]
    },
    {
     "name": "stderr",
     "output_type": "stream",
     "text": [
      "[Parallel(n_jobs=-1)]: Done   1 out of   1 | elapsed:  1.8min finished\n",
      "[Parallel(n_jobs=-1)]: Using backend LokyBackend with 12 concurrent workers.\n"
     ]
    },
    {
     "name": "stdout",
     "output_type": "stream",
     "text": [
      "K-Fold #4:\n",
      "              precision    recall  f1-score   support\n",
      "\n",
      "         0.0       0.55      0.55      0.55        20\n",
      "         1.0       0.55      0.55      0.55        20\n",
      "\n",
      "    accuracy                           0.55        40\n",
      "   macro avg       0.55      0.55      0.55        40\n",
      "weighted avg       0.55      0.55      0.55        40\n",
      "\n",
      "-------------------------------------------------------------------------------------------------------------------\n"
     ]
    },
    {
     "name": "stderr",
     "output_type": "stream",
     "text": [
      "[Parallel(n_jobs=-1)]: Done   1 out of   1 | elapsed:  1.9min finished\n",
      "[Parallel(n_jobs=-1)]: Using backend LokyBackend with 12 concurrent workers.\n"
     ]
    },
    {
     "name": "stdout",
     "output_type": "stream",
     "text": [
      "K-Fold #5:\n",
      "              precision    recall  f1-score   support\n",
      "\n",
      "         0.0       0.53      0.90      0.67        20\n",
      "         1.0       0.67      0.20      0.31        20\n",
      "\n",
      "    accuracy                           0.55        40\n",
      "   macro avg       0.60      0.55      0.49        40\n",
      "weighted avg       0.60      0.55      0.49        40\n",
      "\n",
      "-------------------------------------------------------------------------------------------------------------------\n"
     ]
    },
    {
     "name": "stderr",
     "output_type": "stream",
     "text": [
      "[Parallel(n_jobs=-1)]: Done   1 out of   1 | elapsed:  2.0min finished\n",
      "[Parallel(n_jobs=-1)]: Using backend LokyBackend with 12 concurrent workers.\n"
     ]
    },
    {
     "name": "stdout",
     "output_type": "stream",
     "text": [
      "K-Fold #6:\n",
      "              precision    recall  f1-score   support\n",
      "\n",
      "         0.0       0.58      0.35      0.44        20\n",
      "         1.0       0.54      0.75      0.63        20\n",
      "\n",
      "    accuracy                           0.55        40\n",
      "   macro avg       0.56      0.55      0.53        40\n",
      "weighted avg       0.56      0.55      0.53        40\n",
      "\n",
      "-------------------------------------------------------------------------------------------------------------------\n"
     ]
    },
    {
     "name": "stderr",
     "output_type": "stream",
     "text": [
      "[Parallel(n_jobs=-1)]: Done   1 out of   1 | elapsed:  1.8min finished\n",
      "[Parallel(n_jobs=-1)]: Using backend LokyBackend with 12 concurrent workers.\n"
     ]
    },
    {
     "name": "stdout",
     "output_type": "stream",
     "text": [
      "K-Fold #7:\n",
      "              precision    recall  f1-score   support\n",
      "\n",
      "         0.0       0.50      0.50      0.50        20\n",
      "         1.0       0.50      0.50      0.50        20\n",
      "\n",
      "    accuracy                           0.50        40\n",
      "   macro avg       0.50      0.50      0.50        40\n",
      "weighted avg       0.50      0.50      0.50        40\n",
      "\n",
      "-------------------------------------------------------------------------------------------------------------------\n"
     ]
    },
    {
     "name": "stderr",
     "output_type": "stream",
     "text": [
      "[Parallel(n_jobs=-1)]: Done   1 out of   1 | elapsed:  1.9min finished\n",
      "[Parallel(n_jobs=-1)]: Using backend LokyBackend with 12 concurrent workers.\n"
     ]
    },
    {
     "name": "stdout",
     "output_type": "stream",
     "text": [
      "K-Fold #8:\n",
      "              precision    recall  f1-score   support\n",
      "\n",
      "         0.0       0.59      0.65      0.62        20\n",
      "         1.0       0.61      0.55      0.58        20\n",
      "\n",
      "    accuracy                           0.60        40\n",
      "   macro avg       0.60      0.60      0.60        40\n",
      "weighted avg       0.60      0.60      0.60        40\n",
      "\n",
      "-------------------------------------------------------------------------------------------------------------------\n"
     ]
    },
    {
     "name": "stderr",
     "output_type": "stream",
     "text": [
      "[Parallel(n_jobs=-1)]: Done   1 out of   1 | elapsed:  2.0min finished\n",
      "[Parallel(n_jobs=-1)]: Using backend LokyBackend with 12 concurrent workers.\n"
     ]
    },
    {
     "name": "stdout",
     "output_type": "stream",
     "text": [
      "K-Fold #9:\n",
      "              precision    recall  f1-score   support\n",
      "\n",
      "         0.0       0.47      0.90      0.62        20\n",
      "         1.0       0.00      0.00      0.00        20\n",
      "\n",
      "    accuracy                           0.45        40\n",
      "   macro avg       0.24      0.45      0.31        40\n",
      "weighted avg       0.24      0.45      0.31        40\n",
      "\n",
      "-------------------------------------------------------------------------------------------------------------------\n",
      "AVG: Scores = 0.49750000000000005 F1-Scores = 0.46683752916607785\n"
     ]
    },
    {
     "name": "stderr",
     "output_type": "stream",
     "text": [
      "[Parallel(n_jobs=-1)]: Done   1 out of   1 | elapsed:  1.9min finished\n",
      "[Parallel(n_jobs=-1)]: Using backend LokyBackend with 12 concurrent workers.\n"
     ]
    },
    {
     "name": "stdout",
     "output_type": "stream",
     "text": [
      "K-Fold #0:\n",
      "              precision    recall  f1-score   support\n",
      "\n",
      "         0.0       0.45      0.75      0.57        20\n",
      "         1.0       0.29      0.10      0.15        20\n",
      "\n",
      "    accuracy                           0.42        40\n",
      "   macro avg       0.37      0.42      0.36        40\n",
      "weighted avg       0.37      0.42      0.36        40\n",
      "\n",
      "-------------------------------------------------------------------------------------------------------------------\n"
     ]
    },
    {
     "name": "stderr",
     "output_type": "stream",
     "text": [
      "[Parallel(n_jobs=-1)]: Done   1 out of   1 | elapsed:  2.0min finished\n",
      "[Parallel(n_jobs=-1)]: Using backend LokyBackend with 12 concurrent workers.\n"
     ]
    },
    {
     "name": "stdout",
     "output_type": "stream",
     "text": [
      "K-Fold #1:\n",
      "              precision    recall  f1-score   support\n",
      "\n",
      "         0.0       0.48      0.55      0.51        20\n",
      "         1.0       0.47      0.40      0.43        20\n",
      "\n",
      "    accuracy                           0.48        40\n",
      "   macro avg       0.47      0.48      0.47        40\n",
      "weighted avg       0.47      0.47      0.47        40\n",
      "\n",
      "-------------------------------------------------------------------------------------------------------------------\n"
     ]
    },
    {
     "name": "stderr",
     "output_type": "stream",
     "text": [
      "[Parallel(n_jobs=-1)]: Done   1 out of   1 | elapsed:  1.8min finished\n",
      "[Parallel(n_jobs=-1)]: Using backend LokyBackend with 12 concurrent workers.\n"
     ]
    },
    {
     "name": "stdout",
     "output_type": "stream",
     "text": [
      "K-Fold #2:\n",
      "              precision    recall  f1-score   support\n",
      "\n",
      "         0.0       0.56      0.70      0.62        20\n",
      "         1.0       0.60      0.45      0.51        20\n",
      "\n",
      "    accuracy                           0.57        40\n",
      "   macro avg       0.58      0.57      0.57        40\n",
      "weighted avg       0.58      0.57      0.57        40\n",
      "\n",
      "-------------------------------------------------------------------------------------------------------------------\n"
     ]
    },
    {
     "name": "stderr",
     "output_type": "stream",
     "text": [
      "[Parallel(n_jobs=-1)]: Done   1 out of   1 | elapsed:  2.0min finished\n",
      "[Parallel(n_jobs=-1)]: Using backend LokyBackend with 12 concurrent workers.\n"
     ]
    },
    {
     "name": "stdout",
     "output_type": "stream",
     "text": [
      "K-Fold #3:\n",
      "              precision    recall  f1-score   support\n",
      "\n",
      "         0.0       0.30      0.15      0.20        20\n",
      "         1.0       0.43      0.65      0.52        20\n",
      "\n",
      "    accuracy                           0.40        40\n",
      "   macro avg       0.37      0.40      0.36        40\n",
      "weighted avg       0.37      0.40      0.36        40\n",
      "\n",
      "-------------------------------------------------------------------------------------------------------------------\n"
     ]
    },
    {
     "name": "stderr",
     "output_type": "stream",
     "text": [
      "[Parallel(n_jobs=-1)]: Done   1 out of   1 | elapsed:  2.0min finished\n",
      "[Parallel(n_jobs=-1)]: Using backend LokyBackend with 12 concurrent workers.\n"
     ]
    },
    {
     "name": "stdout",
     "output_type": "stream",
     "text": [
      "K-Fold #4:\n",
      "              precision    recall  f1-score   support\n",
      "\n",
      "         0.0       0.50      0.50      0.50        20\n",
      "         1.0       0.50      0.50      0.50        20\n",
      "\n",
      "    accuracy                           0.50        40\n",
      "   macro avg       0.50      0.50      0.50        40\n",
      "weighted avg       0.50      0.50      0.50        40\n",
      "\n",
      "-------------------------------------------------------------------------------------------------------------------\n"
     ]
    },
    {
     "name": "stderr",
     "output_type": "stream",
     "text": [
      "[Parallel(n_jobs=-1)]: Done   1 out of   1 | elapsed:  1.8min finished\n",
      "[Parallel(n_jobs=-1)]: Using backend LokyBackend with 12 concurrent workers.\n"
     ]
    },
    {
     "name": "stdout",
     "output_type": "stream",
     "text": [
      "K-Fold #5:\n",
      "              precision    recall  f1-score   support\n",
      "\n",
      "         0.0       0.43      0.15      0.22        20\n",
      "         1.0       0.48      0.80      0.60        20\n",
      "\n",
      "    accuracy                           0.48        40\n",
      "   macro avg       0.46      0.48      0.41        40\n",
      "weighted avg       0.46      0.47      0.41        40\n",
      "\n",
      "-------------------------------------------------------------------------------------------------------------------\n"
     ]
    },
    {
     "name": "stderr",
     "output_type": "stream",
     "text": [
      "[Parallel(n_jobs=-1)]: Done   1 out of   1 | elapsed:  1.9min finished\n",
      "[Parallel(n_jobs=-1)]: Using backend LokyBackend with 12 concurrent workers.\n"
     ]
    },
    {
     "name": "stdout",
     "output_type": "stream",
     "text": [
      "K-Fold #6:\n",
      "              precision    recall  f1-score   support\n",
      "\n",
      "         0.0       0.25      0.05      0.08        20\n",
      "         1.0       0.47      0.85      0.61        20\n",
      "\n",
      "    accuracy                           0.45        40\n",
      "   macro avg       0.36      0.45      0.35        40\n",
      "weighted avg       0.36      0.45      0.35        40\n",
      "\n",
      "-------------------------------------------------------------------------------------------------------------------\n"
     ]
    },
    {
     "name": "stderr",
     "output_type": "stream",
     "text": [
      "[Parallel(n_jobs=-1)]: Done   1 out of   1 | elapsed:  1.9min finished\n",
      "[Parallel(n_jobs=-1)]: Using backend LokyBackend with 12 concurrent workers.\n"
     ]
    },
    {
     "name": "stdout",
     "output_type": "stream",
     "text": [
      "K-Fold #7:\n",
      "              precision    recall  f1-score   support\n",
      "\n",
      "         0.0       0.43      0.65      0.52        20\n",
      "         1.0       0.30      0.15      0.20        20\n",
      "\n",
      "    accuracy                           0.40        40\n",
      "   macro avg       0.37      0.40      0.36        40\n",
      "weighted avg       0.37      0.40      0.36        40\n",
      "\n",
      "-------------------------------------------------------------------------------------------------------------------\n"
     ]
    },
    {
     "name": "stderr",
     "output_type": "stream",
     "text": [
      "[Parallel(n_jobs=-1)]: Done   1 out of   1 | elapsed:  2.0min finished\n",
      "[Parallel(n_jobs=-1)]: Using backend LokyBackend with 12 concurrent workers.\n"
     ]
    },
    {
     "name": "stdout",
     "output_type": "stream",
     "text": [
      "K-Fold #8:\n",
      "              precision    recall  f1-score   support\n",
      "\n",
      "         0.0       0.46      0.55      0.50        20\n",
      "         1.0       0.44      0.35      0.39        20\n",
      "\n",
      "    accuracy                           0.45        40\n",
      "   macro avg       0.45      0.45      0.44        40\n",
      "weighted avg       0.45      0.45      0.44        40\n",
      "\n",
      "-------------------------------------------------------------------------------------------------------------------\n"
     ]
    },
    {
     "name": "stderr",
     "output_type": "stream",
     "text": [
      "[Parallel(n_jobs=-1)]: Done   1 out of   1 | elapsed:  1.9min finished\n",
      "[Parallel(n_jobs=-1)]: Using backend LokyBackend with 12 concurrent workers.\n"
     ]
    },
    {
     "name": "stdout",
     "output_type": "stream",
     "text": [
      "K-Fold #9:\n",
      "              precision    recall  f1-score   support\n",
      "\n",
      "         0.0       0.36      0.45      0.40        20\n",
      "         1.0       0.27      0.20      0.23        20\n",
      "\n",
      "    accuracy                           0.33        40\n",
      "   macro avg       0.31      0.33      0.31        40\n",
      "weighted avg       0.31      0.33      0.31        40\n",
      "\n",
      "-------------------------------------------------------------------------------------------------------------------\n",
      "AVG: Scores = 0.44750000000000006 F1-Scores = 0.4134343237489354\n"
     ]
    },
    {
     "name": "stderr",
     "output_type": "stream",
     "text": [
      "[Parallel(n_jobs=-1)]: Done   1 out of   1 | elapsed:  1.9min finished\n",
      "[Parallel(n_jobs=-1)]: Using backend LokyBackend with 12 concurrent workers.\n"
     ]
    },
    {
     "name": "stdout",
     "output_type": "stream",
     "text": [
      "K-Fold #0:\n",
      "              precision    recall  f1-score   support\n",
      "\n",
      "         0.0       0.41      0.45      0.43        20\n",
      "         1.0       0.39      0.35      0.37        20\n",
      "\n",
      "    accuracy                           0.40        40\n",
      "   macro avg       0.40      0.40      0.40        40\n",
      "weighted avg       0.40      0.40      0.40        40\n",
      "\n",
      "-------------------------------------------------------------------------------------------------------------------\n"
     ]
    },
    {
     "name": "stderr",
     "output_type": "stream",
     "text": [
      "[Parallel(n_jobs=-1)]: Done   1 out of   1 | elapsed:  1.9min finished\n",
      "[Parallel(n_jobs=-1)]: Using backend LokyBackend with 12 concurrent workers.\n"
     ]
    },
    {
     "name": "stdout",
     "output_type": "stream",
     "text": [
      "K-Fold #1:\n",
      "              precision    recall  f1-score   support\n",
      "\n",
      "         0.0       0.56      0.25      0.34        20\n",
      "         1.0       0.52      0.80      0.63        20\n",
      "\n",
      "    accuracy                           0.53        40\n",
      "   macro avg       0.54      0.53      0.49        40\n",
      "weighted avg       0.54      0.53      0.49        40\n",
      "\n",
      "-------------------------------------------------------------------------------------------------------------------\n"
     ]
    },
    {
     "name": "stderr",
     "output_type": "stream",
     "text": [
      "[Parallel(n_jobs=-1)]: Done   1 out of   1 | elapsed:  1.8min finished\n",
      "[Parallel(n_jobs=-1)]: Using backend LokyBackend with 12 concurrent workers.\n"
     ]
    },
    {
     "name": "stdout",
     "output_type": "stream",
     "text": [
      "K-Fold #2:\n",
      "              precision    recall  f1-score   support\n",
      "\n",
      "         0.0       0.53      0.80      0.64        20\n",
      "         1.0       0.60      0.30      0.40        20\n",
      "\n",
      "    accuracy                           0.55        40\n",
      "   macro avg       0.57      0.55      0.52        40\n",
      "weighted avg       0.57      0.55      0.52        40\n",
      "\n",
      "-------------------------------------------------------------------------------------------------------------------\n"
     ]
    },
    {
     "name": "stderr",
     "output_type": "stream",
     "text": [
      "[Parallel(n_jobs=-1)]: Done   1 out of   1 | elapsed:  1.8min finished\n",
      "[Parallel(n_jobs=-1)]: Using backend LokyBackend with 12 concurrent workers.\n"
     ]
    },
    {
     "name": "stdout",
     "output_type": "stream",
     "text": [
      "K-Fold #3:\n",
      "              precision    recall  f1-score   support\n",
      "\n",
      "         0.0       0.27      0.15      0.19        20\n",
      "         1.0       0.41      0.60      0.49        20\n",
      "\n",
      "    accuracy                           0.38        40\n",
      "   macro avg       0.34      0.38      0.34        40\n",
      "weighted avg       0.34      0.38      0.34        40\n",
      "\n",
      "-------------------------------------------------------------------------------------------------------------------\n"
     ]
    },
    {
     "name": "stderr",
     "output_type": "stream",
     "text": [
      "[Parallel(n_jobs=-1)]: Done   1 out of   1 | elapsed:  2.0min finished\n",
      "[Parallel(n_jobs=-1)]: Using backend LokyBackend with 12 concurrent workers.\n"
     ]
    },
    {
     "name": "stdout",
     "output_type": "stream",
     "text": [
      "K-Fold #4:\n",
      "              precision    recall  f1-score   support\n",
      "\n",
      "         0.0       0.48      0.50      0.49        20\n",
      "         1.0       0.47      0.45      0.46        20\n",
      "\n",
      "    accuracy                           0.48        40\n",
      "   macro avg       0.47      0.47      0.47        40\n",
      "weighted avg       0.47      0.47      0.47        40\n",
      "\n",
      "-------------------------------------------------------------------------------------------------------------------\n"
     ]
    },
    {
     "name": "stderr",
     "output_type": "stream",
     "text": [
      "[Parallel(n_jobs=-1)]: Done   1 out of   1 | elapsed:  2.0min finished\n",
      "[Parallel(n_jobs=-1)]: Using backend LokyBackend with 12 concurrent workers.\n"
     ]
    },
    {
     "name": "stdout",
     "output_type": "stream",
     "text": [
      "K-Fold #5:\n",
      "              precision    recall  f1-score   support\n",
      "\n",
      "         0.0       0.38      0.45      0.41        20\n",
      "         1.0       0.31      0.25      0.28        20\n",
      "\n",
      "    accuracy                           0.35        40\n",
      "   macro avg       0.34      0.35      0.34        40\n",
      "weighted avg       0.34      0.35      0.34        40\n",
      "\n",
      "-------------------------------------------------------------------------------------------------------------------\n"
     ]
    },
    {
     "name": "stderr",
     "output_type": "stream",
     "text": [
      "[Parallel(n_jobs=-1)]: Done   1 out of   1 | elapsed:  1.8min finished\n",
      "[Parallel(n_jobs=-1)]: Using backend LokyBackend with 12 concurrent workers.\n"
     ]
    },
    {
     "name": "stdout",
     "output_type": "stream",
     "text": [
      "K-Fold #6:\n",
      "              precision    recall  f1-score   support\n",
      "\n",
      "         0.0       0.47      0.70      0.56        20\n",
      "         1.0       0.40      0.20      0.27        20\n",
      "\n",
      "    accuracy                           0.45        40\n",
      "   macro avg       0.43      0.45      0.41        40\n",
      "weighted avg       0.43      0.45      0.41        40\n",
      "\n",
      "-------------------------------------------------------------------------------------------------------------------\n"
     ]
    },
    {
     "name": "stderr",
     "output_type": "stream",
     "text": [
      "[Parallel(n_jobs=-1)]: Done   1 out of   1 | elapsed:  1.9min finished\n",
      "[Parallel(n_jobs=-1)]: Using backend LokyBackend with 12 concurrent workers.\n"
     ]
    },
    {
     "name": "stdout",
     "output_type": "stream",
     "text": [
      "K-Fold #7:\n",
      "              precision    recall  f1-score   support\n",
      "\n",
      "         0.0       0.52      0.70      0.60        20\n",
      "         1.0       0.54      0.35      0.42        20\n",
      "\n",
      "    accuracy                           0.53        40\n",
      "   macro avg       0.53      0.52      0.51        40\n",
      "weighted avg       0.53      0.53      0.51        40\n",
      "\n",
      "-------------------------------------------------------------------------------------------------------------------\n"
     ]
    },
    {
     "name": "stderr",
     "output_type": "stream",
     "text": [
      "[Parallel(n_jobs=-1)]: Done   1 out of   1 | elapsed:  1.8min finished\n",
      "[Parallel(n_jobs=-1)]: Using backend LokyBackend with 12 concurrent workers.\n"
     ]
    },
    {
     "name": "stdout",
     "output_type": "stream",
     "text": [
      "K-Fold #8:\n",
      "              precision    recall  f1-score   support\n",
      "\n",
      "         0.0       0.43      0.50      0.47        20\n",
      "         1.0       0.41      0.35      0.38        20\n",
      "\n",
      "    accuracy                           0.42        40\n",
      "   macro avg       0.42      0.42      0.42        40\n",
      "weighted avg       0.42      0.42      0.42        40\n",
      "\n",
      "-------------------------------------------------------------------------------------------------------------------\n"
     ]
    },
    {
     "name": "stderr",
     "output_type": "stream",
     "text": [
      "[Parallel(n_jobs=-1)]: Done   1 out of   1 | elapsed:  2.0min finished\n",
      "[Parallel(n_jobs=-1)]: Using backend LokyBackend with 12 concurrent workers.\n"
     ]
    },
    {
     "name": "stdout",
     "output_type": "stream",
     "text": [
      "K-Fold #9:\n",
      "              precision    recall  f1-score   support\n",
      "\n",
      "         0.0       0.45      0.45      0.45        20\n",
      "         1.0       0.45      0.45      0.45        20\n",
      "\n",
      "    accuracy                           0.45        40\n",
      "   macro avg       0.45      0.45      0.45        40\n",
      "weighted avg       0.45      0.45      0.45        40\n",
      "\n",
      "-------------------------------------------------------------------------------------------------------------------\n",
      "AVG: Scores = 0.4525 F1-Scores = 0.4359487904465206\n"
     ]
    },
    {
     "name": "stderr",
     "output_type": "stream",
     "text": [
      "[Parallel(n_jobs=-1)]: Done   1 out of   1 | elapsed:  1.9min finished\n",
      "[Parallel(n_jobs=-1)]: Using backend LokyBackend with 12 concurrent workers.\n"
     ]
    },
    {
     "name": "stdout",
     "output_type": "stream",
     "text": [
      "K-Fold #0:\n",
      "              precision    recall  f1-score   support\n",
      "\n",
      "         0.0       0.48      0.70      0.57        20\n",
      "         1.0       0.45      0.25      0.32        20\n",
      "\n",
      "    accuracy                           0.48        40\n",
      "   macro avg       0.47      0.47      0.45        40\n",
      "weighted avg       0.47      0.47      0.45        40\n",
      "\n",
      "-------------------------------------------------------------------------------------------------------------------\n"
     ]
    },
    {
     "name": "stderr",
     "output_type": "stream",
     "text": [
      "[Parallel(n_jobs=-1)]: Done   1 out of   1 | elapsed:  1.8min finished\n",
      "[Parallel(n_jobs=-1)]: Using backend LokyBackend with 12 concurrent workers.\n"
     ]
    },
    {
     "name": "stdout",
     "output_type": "stream",
     "text": [
      "K-Fold #1:\n",
      "              precision    recall  f1-score   support\n",
      "\n",
      "         0.0       0.56      0.45      0.50        20\n",
      "         1.0       0.54      0.65      0.59        20\n",
      "\n",
      "    accuracy                           0.55        40\n",
      "   macro avg       0.55      0.55      0.55        40\n",
      "weighted avg       0.55      0.55      0.55        40\n",
      "\n",
      "-------------------------------------------------------------------------------------------------------------------\n"
     ]
    },
    {
     "name": "stderr",
     "output_type": "stream",
     "text": [
      "[Parallel(n_jobs=-1)]: Done   1 out of   1 | elapsed:  1.8min finished\n",
      "[Parallel(n_jobs=-1)]: Using backend LokyBackend with 12 concurrent workers.\n"
     ]
    },
    {
     "name": "stdout",
     "output_type": "stream",
     "text": [
      "K-Fold #2:\n",
      "              precision    recall  f1-score   support\n",
      "\n",
      "         0.0       0.36      0.20      0.26        20\n",
      "         1.0       0.45      0.65      0.53        20\n",
      "\n",
      "    accuracy                           0.42        40\n",
      "   macro avg       0.41      0.43      0.39        40\n",
      "weighted avg       0.41      0.42      0.39        40\n",
      "\n",
      "-------------------------------------------------------------------------------------------------------------------\n"
     ]
    },
    {
     "name": "stderr",
     "output_type": "stream",
     "text": [
      "[Parallel(n_jobs=-1)]: Done   1 out of   1 | elapsed:  2.0min finished\n",
      "[Parallel(n_jobs=-1)]: Using backend LokyBackend with 12 concurrent workers.\n"
     ]
    },
    {
     "name": "stdout",
     "output_type": "stream",
     "text": [
      "K-Fold #3:\n",
      "              precision    recall  f1-score   support\n",
      "\n",
      "         0.0       0.41      0.60      0.49        20\n",
      "         1.0       0.27      0.15      0.19        20\n",
      "\n",
      "    accuracy                           0.38        40\n",
      "   macro avg       0.34      0.38      0.34        40\n",
      "weighted avg       0.34      0.38      0.34        40\n",
      "\n",
      "-------------------------------------------------------------------------------------------------------------------\n"
     ]
    },
    {
     "name": "stderr",
     "output_type": "stream",
     "text": [
      "[Parallel(n_jobs=-1)]: Done   1 out of   1 | elapsed:  2.0min finished\n",
      "[Parallel(n_jobs=-1)]: Using backend LokyBackend with 12 concurrent workers.\n"
     ]
    },
    {
     "name": "stdout",
     "output_type": "stream",
     "text": [
      "K-Fold #4:\n",
      "              precision    recall  f1-score   support\n",
      "\n",
      "         0.0       0.43      0.30      0.35        20\n",
      "         1.0       0.46      0.60      0.52        20\n",
      "\n",
      "    accuracy                           0.45        40\n",
      "   macro avg       0.45      0.45      0.44        40\n",
      "weighted avg       0.45      0.45      0.44        40\n",
      "\n",
      "-------------------------------------------------------------------------------------------------------------------\n"
     ]
    },
    {
     "name": "stderr",
     "output_type": "stream",
     "text": [
      "[Parallel(n_jobs=-1)]: Done   1 out of   1 | elapsed:  1.8min finished\n",
      "[Parallel(n_jobs=-1)]: Using backend LokyBackend with 12 concurrent workers.\n"
     ]
    },
    {
     "name": "stdout",
     "output_type": "stream",
     "text": [
      "K-Fold #5:\n",
      "              precision    recall  f1-score   support\n",
      "\n",
      "         0.0       0.50      0.50      0.50        20\n",
      "         1.0       0.50      0.50      0.50        20\n",
      "\n",
      "    accuracy                           0.50        40\n",
      "   macro avg       0.50      0.50      0.50        40\n",
      "weighted avg       0.50      0.50      0.50        40\n",
      "\n",
      "-------------------------------------------------------------------------------------------------------------------\n"
     ]
    },
    {
     "name": "stderr",
     "output_type": "stream",
     "text": [
      "[Parallel(n_jobs=-1)]: Done   1 out of   1 | elapsed:  1.8min finished\n",
      "[Parallel(n_jobs=-1)]: Using backend LokyBackend with 12 concurrent workers.\n"
     ]
    },
    {
     "name": "stdout",
     "output_type": "stream",
     "text": [
      "K-Fold #6:\n",
      "              precision    recall  f1-score   support\n",
      "\n",
      "         0.0       0.45      0.50      0.48        20\n",
      "         1.0       0.44      0.40      0.42        20\n",
      "\n",
      "    accuracy                           0.45        40\n",
      "   macro avg       0.45      0.45      0.45        40\n",
      "weighted avg       0.45      0.45      0.45        40\n",
      "\n",
      "-------------------------------------------------------------------------------------------------------------------\n"
     ]
    },
    {
     "name": "stderr",
     "output_type": "stream",
     "text": [
      "[Parallel(n_jobs=-1)]: Done   1 out of   1 | elapsed:  1.9min finished\n",
      "[Parallel(n_jobs=-1)]: Using backend LokyBackend with 12 concurrent workers.\n"
     ]
    },
    {
     "name": "stdout",
     "output_type": "stream",
     "text": [
      "K-Fold #7:\n",
      "              precision    recall  f1-score   support\n",
      "\n",
      "         0.0       0.45      0.45      0.45        20\n",
      "         1.0       0.45      0.45      0.45        20\n",
      "\n",
      "    accuracy                           0.45        40\n",
      "   macro avg       0.45      0.45      0.45        40\n",
      "weighted avg       0.45      0.45      0.45        40\n",
      "\n",
      "-------------------------------------------------------------------------------------------------------------------\n"
     ]
    },
    {
     "name": "stderr",
     "output_type": "stream",
     "text": [
      "[Parallel(n_jobs=-1)]: Done   1 out of   1 | elapsed:  1.8min finished\n",
      "[Parallel(n_jobs=-1)]: Using backend LokyBackend with 12 concurrent workers.\n"
     ]
    },
    {
     "name": "stdout",
     "output_type": "stream",
     "text": [
      "K-Fold #8:\n",
      "              precision    recall  f1-score   support\n",
      "\n",
      "         0.0       0.52      0.55      0.54        20\n",
      "         1.0       0.53      0.50      0.51        20\n",
      "\n",
      "    accuracy                           0.53        40\n",
      "   macro avg       0.53      0.53      0.52        40\n",
      "weighted avg       0.53      0.53      0.52        40\n",
      "\n",
      "-------------------------------------------------------------------------------------------------------------------\n",
      "K-Fold #9:\n",
      "              precision    recall  f1-score   support\n",
      "\n",
      "         0.0       0.44      0.40      0.42        20\n",
      "         1.0       0.45      0.50      0.48        20\n",
      "\n",
      "    accuracy                           0.45        40\n",
      "   macro avg       0.45      0.45      0.45        40\n",
      "weighted avg       0.45      0.45      0.45        40\n",
      "\n",
      "-------------------------------------------------------------------------------------------------------------------\n",
      "AVG: Scores = 0.465 F1-Scores = 0.45377558875542273\n",
      "CPU times: total: 4.08 s\n",
      "Wall time: 6h 39min 26s\n"
     ]
    },
    {
     "name": "stderr",
     "output_type": "stream",
     "text": [
      "[Parallel(n_jobs=-1)]: Done   1 out of   1 | elapsed:  1.8min finished\n"
     ]
    }
   ],
   "source": [
    "%%time\n",
    "scores_list = []\n",
    "f1scores_list = []\n",
    "for SEED in range(n_times_kfold):\n",
    "    scores, f1scores = execute_training_test_k_fold(\n",
    "                    X, \n",
    "                    y, \n",
    "                    k_folds=k_times_fold,\n",
    "                    random_seed = SEED, \n",
    "                    classifier_function=classifier_function, \n",
    "                    dic_classifier_params=dic_classifier_params,\n",
    "                    one_vs_classifier=OneVsRestClassifier, \n",
    "                    dic_training_params=dic_training_params,\n",
    "                    print_each_fold_metric=True,\n",
    "                    print_avg_metric=True)\n",
    "    scores_list.append(scores)\n",
    "    f1scores_list.append(f1scores)"
   ]
  },
  {
   "cell_type": "code",
   "execution_count": 5,
   "id": "f8272521",
   "metadata": {},
   "outputs": [
    {
     "name": "stdout",
     "output_type": "stream",
     "text": [
      "Media Score dos N K-Fold 0.45525000000000004\n",
      "Maior Score dos K-Fold 0.49750000000000005\n",
      "Menor Score dos K-Fold 0.41999999999999993\n",
      "\n",
      "\n",
      "[[0.4, 0.55, 0.325, 0.475, 0.525, 0.475, 0.325, 0.475, 0.425, 0.5], [0.425, 0.475, 0.45, 0.5, 0.55, 0.475, 0.475, 0.5, 0.45, 0.425], [0.425, 0.45, 0.375, 0.4, 0.525, 0.4, 0.55, 0.4, 0.4, 0.4], [0.45, 0.4, 0.4, 0.475, 0.475, 0.45, 0.375, 0.425, 0.45, 0.525], [0.6, 0.45, 0.5, 0.425, 0.4, 0.525, 0.35, 0.475, 0.375, 0.425], [0.475, 0.425, 0.45, 0.525, 0.45, 0.325, 0.525, 0.55, 0.475, 0.575], [0.475, 0.525, 0.5, 0.5, 0.55, 0.4, 0.525, 0.4, 0.325, 0.5], [0.5, 0.475, 0.425, 0.55, 0.4, 0.525, 0.475, 0.5, 0.45, 0.5], [0.425, 0.35, 0.5, 0.6, 0.525, 0.425, 0.35, 0.425, 0.45, 0.325], [0.375, 0.425, 0.6, 0.425, 0.35, 0.4, 0.45, 0.525, 0.475, 0.4], [0.35, 0.25, 0.325, 0.475, 0.475, 0.325, 0.425, 0.475, 0.55, 0.55], [0.375, 0.525, 0.575, 0.475, 0.425, 0.475, 0.4, 0.45, 0.4, 0.425], [0.5, 0.5, 0.45, 0.45, 0.475, 0.45, 0.45, 0.475, 0.425, 0.5], [0.525, 0.55, 0.375, 0.45, 0.475, 0.475, 0.375, 0.5, 0.475, 0.4], [0.475, 0.425, 0.375, 0.475, 0.5, 0.425, 0.425, 0.375, 0.525, 0.475], [0.35, 0.375, 0.5, 0.35, 0.4, 0.375, 0.425, 0.4, 0.6, 0.625], [0.325, 0.575, 0.45, 0.425, 0.55, 0.55, 0.55, 0.5, 0.6, 0.45], [0.425, 0.475, 0.575, 0.4, 0.5, 0.475, 0.45, 0.4, 0.45, 0.325], [0.4, 0.525, 0.55, 0.375, 0.475, 0.35, 0.45, 0.525, 0.425, 0.45], [0.475, 0.55, 0.425, 0.375, 0.45, 0.5, 0.45, 0.45, 0.525, 0.45]]\n"
     ]
    }
   ],
   "source": [
    "print(\"Media Score dos N K-Fold\", np.mean([np.mean(i) for i in scores_list]))\n",
    "print(\"Maior Score dos K-Fold\", max([np.mean(i) for i in scores_list]))\n",
    "print(\"Menor Score dos K-Fold\", min([np.mean(i) for i in scores_list]))\n",
    "\n",
    "print()\n",
    "print()\n",
    "print(scores_list)"
   ]
  },
  {
   "cell_type": "code",
   "execution_count": 6,
   "id": "94e6481f",
   "metadata": {},
   "outputs": [
    {
     "name": "stdout",
     "output_type": "stream",
     "text": [
      "Media F1Score dos N K-Fold 0.45377558875542273\n",
      "Maior F1Score dos K-Fold 0.5454545454545454\n",
      "Menor F1Score dos K-Fold 0.34167215273206053\n",
      "\n",
      "\n",
      "[0.4470046082949308, 0.5454545454545454, 0.39433838051349573, 0.34167215273206053, 0.4373401534526854, 0.5, 0.4486215538847118, 0.45, 0.5247029393370857, 0.4486215538847118]\n"
     ]
    }
   ],
   "source": [
    "print(\"Media F1Score dos N K-Fold\", np.mean([np.mean(i) for i in f1scores]))\n",
    "print(\"Maior F1Score dos K-Fold\", max([np.mean(i) for i in f1scores]))\n",
    "print(\"Menor F1Score dos K-Fold\", min([np.mean(i) for i in f1scores]))\n",
    "\n",
    "print()\n",
    "print()\n",
    "print(f1scores)"
   ]
  }
 ],
 "metadata": {
  "kernelspec": {
   "display_name": "Python 3",
   "language": "python",
   "name": "python3"
  },
  "language_info": {
   "codemirror_mode": {
    "name": "ipython",
    "version": 3
   },
   "file_extension": ".py",
   "mimetype": "text/x-python",
   "name": "python",
   "nbconvert_exporter": "python",
   "pygments_lexer": "ipython3",
   "version": "3.9.16"
  }
 },
 "nbformat": 4,
 "nbformat_minor": 5
}
