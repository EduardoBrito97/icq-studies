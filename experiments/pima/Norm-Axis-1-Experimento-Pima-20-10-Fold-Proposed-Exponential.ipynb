{
 "cells": [
  {
   "cell_type": "code",
   "execution_count": 7,
   "id": "0db239e0",
   "metadata": {},
   "outputs": [],
   "source": [
    "import sys, os\n",
    "sys.path.append(os.path.abspath('../../classifiers'))\n",
    "sys.path.append(os.path.abspath('../../training'))\n",
    "sys.path.append(os.path.abspath('../../validation'))\n",
    "from validation_functions import execute_training_test_k_fold\n",
    "from classifiers_ICQ import iqc_classifier\n",
    "\n",
    "from sklearn.multiclass import OneVsRestClassifier\n",
    "import numpy as np\n",
    "import load_pima\n",
    "\n",
    "X, y = load_pima.get_dataset()"
   ]
  },
  {
   "cell_type": "code",
   "execution_count": 8,
   "id": "1ad66125",
   "metadata": {},
   "outputs": [],
   "source": [
    "classifier_function = iqc_classifier\n",
    "dic_classifier_params = {}\n",
    "dic_classifier_params[\"sigma_q_params\"] = [1,1,1,1]\n",
    "dic_classifier_params[\"use_polar_coordinates_on_sigma_q\"] = False\n",
    "dic_classifier_params[\"load_inputvector_env_state\"] = True\n",
    "dic_classifier_params[\"normalize_axis\"] = 1\n",
    "dic_classifier_params[\"use_exponential_on_input\"] = True\n",
    "\n",
    "dic_training_params = {\"max_iter\": 1000,\n",
    "    \"accuracy_succ\": 0.99,\n",
    "    \"plot_graphs_and_metrics\": False,\n",
    "    \"plot_graphs_in_classifier\": False,\n",
    "    \"random_seed\": 1,\n",
    "    \"learning_rate\": 0.009,\n",
    "    \"refit_db\":True,\n",
    "    \"reset_weights_epoch\":0,\n",
    "    \"do_classes_refit\":True,\n",
    "    \"batch\":False}\n",
    "\n",
    "n_times_kfold = 10\n",
    "k_times_fold = 10"
   ]
  },
  {
   "cell_type": "code",
   "execution_count": 9,
   "id": "8522d868",
   "metadata": {},
   "outputs": [
    {
     "name": "stderr",
     "output_type": "stream",
     "text": [
      "[Parallel(n_jobs=-1)]: Using backend LokyBackend with 12 concurrent workers.\n",
      "[Parallel(n_jobs=-1)]: Done   1 out of   1 | elapsed:  6.0min finished\n"
     ]
    },
    {
     "name": "stdout",
     "output_type": "stream",
     "text": [
      "K-Fold #0\n",
      "Mean negativities for all classes: [0.2678398103663057]\n",
      "Mean entropies for all classes: [6.338634243540112e-15]\n",
      "              precision    recall  f1-score   support\n",
      "\n",
      "           0       1.00      0.14      0.25        50\n",
      "           1       0.39      1.00      0.56        27\n",
      "\n",
      "    accuracy                           0.44        77\n",
      "   macro avg       0.69      0.57      0.40        77\n",
      "weighted avg       0.78      0.44      0.35        77\n",
      "\n",
      "-------------------------------------------------------------------------------------------------------------------\n"
     ]
    },
    {
     "name": "stderr",
     "output_type": "stream",
     "text": [
      "[Parallel(n_jobs=-1)]: Using backend LokyBackend with 12 concurrent workers.\n",
      "[Parallel(n_jobs=-1)]: Done   1 out of   1 | elapsed:  5.9min finished\n"
     ]
    },
    {
     "name": "stdout",
     "output_type": "stream",
     "text": [
      "K-Fold #1\n",
      "Mean negativities for all classes: [0.26140931753956786]\n",
      "Mean entropies for all classes: [6.180552007638457e-15]\n",
      "              precision    recall  f1-score   support\n",
      "\n",
      "           0       0.90      0.18      0.30        50\n",
      "           1       0.39      0.96      0.55        27\n",
      "\n",
      "    accuracy                           0.45        77\n",
      "   macro avg       0.64      0.57      0.43        77\n",
      "weighted avg       0.72      0.45      0.39        77\n",
      "\n",
      "-------------------------------------------------------------------------------------------------------------------\n"
     ]
    },
    {
     "name": "stderr",
     "output_type": "stream",
     "text": [
      "[Parallel(n_jobs=-1)]: Using backend LokyBackend with 12 concurrent workers.\n",
      "[Parallel(n_jobs=-1)]: Done   1 out of   1 | elapsed:  5.9min finished\n"
     ]
    },
    {
     "name": "stdout",
     "output_type": "stream",
     "text": [
      "K-Fold #2\n",
      "Mean negativities for all classes: [0.2684396260454454]\n",
      "Mean entropies for all classes: [5.994163827282367e-15]\n",
      "              precision    recall  f1-score   support\n",
      "\n",
      "           0       0.89      0.16      0.27        50\n",
      "           1       0.38      0.96      0.55        27\n",
      "\n",
      "    accuracy                           0.44        77\n",
      "   macro avg       0.64      0.56      0.41        77\n",
      "weighted avg       0.71      0.44      0.37        77\n",
      "\n",
      "-------------------------------------------------------------------------------------------------------------------\n"
     ]
    },
    {
     "name": "stderr",
     "output_type": "stream",
     "text": [
      "[Parallel(n_jobs=-1)]: Using backend LokyBackend with 12 concurrent workers.\n",
      "[Parallel(n_jobs=-1)]: Done   1 out of   1 | elapsed:  5.9min finished\n"
     ]
    },
    {
     "name": "stdout",
     "output_type": "stream",
     "text": [
      "K-Fold #3\n",
      "Mean negativities for all classes: [0.2718896872071192]\n",
      "Mean entropies for all classes: [6.544600683427753e-15]\n",
      "              precision    recall  f1-score   support\n",
      "\n",
      "           0       0.85      0.22      0.35        50\n",
      "           1       0.39      0.93      0.55        27\n",
      "\n",
      "    accuracy                           0.47        77\n",
      "   macro avg       0.62      0.57      0.45        77\n",
      "weighted avg       0.69      0.47      0.42        77\n",
      "\n",
      "-------------------------------------------------------------------------------------------------------------------\n"
     ]
    },
    {
     "name": "stderr",
     "output_type": "stream",
     "text": [
      "[Parallel(n_jobs=-1)]: Using backend LokyBackend with 12 concurrent workers.\n",
      "[Parallel(n_jobs=-1)]: Done   1 out of   1 | elapsed:  5.9min finished\n"
     ]
    },
    {
     "name": "stdout",
     "output_type": "stream",
     "text": [
      "K-Fold #4\n",
      "Mean negativities for all classes: [0.2694411529201111]\n",
      "Mean entropies for all classes: [6.223484359062332e-15]\n",
      "              precision    recall  f1-score   support\n",
      "\n",
      "           0       1.00      0.24      0.39        50\n",
      "           1       0.42      1.00      0.59        27\n",
      "\n",
      "    accuracy                           0.51        77\n",
      "   macro avg       0.71      0.62      0.49        77\n",
      "weighted avg       0.80      0.51      0.46        77\n",
      "\n",
      "-------------------------------------------------------------------------------------------------------------------\n"
     ]
    },
    {
     "name": "stderr",
     "output_type": "stream",
     "text": [
      "[Parallel(n_jobs=-1)]: Using backend LokyBackend with 12 concurrent workers.\n",
      "[Parallel(n_jobs=-1)]: Done   1 out of   1 | elapsed:  5.9min finished\n"
     ]
    },
    {
     "name": "stdout",
     "output_type": "stream",
     "text": [
      "K-Fold #5\n",
      "Mean negativities for all classes: [0.2693918106534923]\n",
      "Mean entropies for all classes: [5.713966682653594e-15]\n",
      "              precision    recall  f1-score   support\n",
      "\n",
      "           0       1.00      0.12      0.21        50\n",
      "           1       0.38      1.00      0.55        27\n",
      "\n",
      "    accuracy                           0.43        77\n",
      "   macro avg       0.69      0.56      0.38        77\n",
      "weighted avg       0.78      0.43      0.33        77\n",
      "\n",
      "-------------------------------------------------------------------------------------------------------------------\n"
     ]
    },
    {
     "name": "stderr",
     "output_type": "stream",
     "text": [
      "[Parallel(n_jobs=-1)]: Using backend LokyBackend with 12 concurrent workers.\n",
      "[Parallel(n_jobs=-1)]: Done   1 out of   1 | elapsed:  5.9min finished\n"
     ]
    },
    {
     "name": "stdout",
     "output_type": "stream",
     "text": [
      "K-Fold #6\n",
      "Mean negativities for all classes: [0.2715477987650242]\n",
      "Mean entropies for all classes: [6.362270937376211e-15]\n",
      "              precision    recall  f1-score   support\n",
      "\n",
      "           0       0.93      0.26      0.41        50\n",
      "           1       0.41      0.96      0.58        27\n",
      "\n",
      "    accuracy                           0.51        77\n",
      "   macro avg       0.67      0.61      0.49        77\n",
      "weighted avg       0.75      0.51      0.47        77\n",
      "\n",
      "-------------------------------------------------------------------------------------------------------------------\n"
     ]
    },
    {
     "name": "stderr",
     "output_type": "stream",
     "text": [
      "[Parallel(n_jobs=-1)]: Using backend LokyBackend with 12 concurrent workers.\n",
      "[Parallel(n_jobs=-1)]: Done   1 out of   1 | elapsed:  5.9min finished\n"
     ]
    },
    {
     "name": "stdout",
     "output_type": "stream",
     "text": [
      "K-Fold #7\n",
      "Mean negativities for all classes: [0.25548908733589104]\n",
      "Mean entropies for all classes: [6.043328974379199e-15]\n",
      "              precision    recall  f1-score   support\n",
      "\n",
      "           0       0.82      0.18      0.30        50\n",
      "           1       0.38      0.93      0.54        27\n",
      "\n",
      "    accuracy                           0.44        77\n",
      "   macro avg       0.60      0.55      0.42        77\n",
      "weighted avg       0.66      0.44      0.38        77\n",
      "\n",
      "-------------------------------------------------------------------------------------------------------------------\n"
     ]
    },
    {
     "name": "stderr",
     "output_type": "stream",
     "text": [
      "[Parallel(n_jobs=-1)]: Using backend LokyBackend with 12 concurrent workers.\n",
      "[Parallel(n_jobs=-1)]: Done   1 out of   1 | elapsed:  5.9min finished\n"
     ]
    },
    {
     "name": "stdout",
     "output_type": "stream",
     "text": [
      "K-Fold #8\n",
      "Mean negativities for all classes: [0.2717687367602974]\n",
      "Mean entropies for all classes: [5.9617155087804055e-15]\n",
      "              precision    recall  f1-score   support\n",
      "\n",
      "           0       0.50      0.08      0.14        50\n",
      "           1       0.32      0.85      0.47        26\n",
      "\n",
      "    accuracy                           0.34        76\n",
      "   macro avg       0.41      0.46      0.30        76\n",
      "weighted avg       0.44      0.34      0.25        76\n",
      "\n",
      "-------------------------------------------------------------------------------------------------------------------\n"
     ]
    },
    {
     "name": "stderr",
     "output_type": "stream",
     "text": [
      "[Parallel(n_jobs=-1)]: Using backend LokyBackend with 12 concurrent workers.\n",
      "[Parallel(n_jobs=-1)]: Done   1 out of   1 | elapsed:  6.0min finished\n"
     ]
    },
    {
     "name": "stdout",
     "output_type": "stream",
     "text": [
      "K-Fold #9\n",
      "Mean negativities for all classes: [0.263410121886523]\n",
      "Mean entropies for all classes: [5.978461687227302e-15]\n",
      "              precision    recall  f1-score   support\n",
      "\n",
      "           0       0.73      0.22      0.34        50\n",
      "           1       0.36      0.85      0.51        26\n",
      "\n",
      "    accuracy                           0.43        76\n",
      "   macro avg       0.55      0.53      0.42        76\n",
      "weighted avg       0.61      0.43      0.40        76\n",
      "\n",
      "-------------------------------------------------------------------------------------------------------------------\n",
      "AVG: Scores = 0.44646274777853723 F1-Scores = 0.41895233467517556 Negativity = [0.2678398103663057, 0.26140931753956786] Entropy = [6.338634243540112e-15, 6.180552007638457e-15]\n"
     ]
    },
    {
     "name": "stderr",
     "output_type": "stream",
     "text": [
      "[Parallel(n_jobs=-1)]: Using backend LokyBackend with 12 concurrent workers.\n",
      "[Parallel(n_jobs=-1)]: Done   1 out of   1 | elapsed:  5.9min finished\n"
     ]
    },
    {
     "name": "stdout",
     "output_type": "stream",
     "text": [
      "K-Fold #0\n",
      "Mean negativities for all classes: [0.2691264212209847]\n",
      "Mean entropies for all classes: [6.09845235243793e-15]\n",
      "              precision    recall  f1-score   support\n",
      "\n",
      "           0       0.75      0.18      0.29        50\n",
      "           1       0.37      0.89      0.52        27\n",
      "\n",
      "    accuracy                           0.43        77\n",
      "   macro avg       0.56      0.53      0.41        77\n",
      "weighted avg       0.62      0.43      0.37        77\n",
      "\n",
      "-------------------------------------------------------------------------------------------------------------------\n"
     ]
    },
    {
     "name": "stderr",
     "output_type": "stream",
     "text": [
      "[Parallel(n_jobs=-1)]: Using backend LokyBackend with 12 concurrent workers.\n",
      "[Parallel(n_jobs=-1)]: Done   1 out of   1 | elapsed:  5.9min finished\n"
     ]
    },
    {
     "name": "stdout",
     "output_type": "stream",
     "text": [
      "K-Fold #1\n",
      "Mean negativities for all classes: [0.26880049627021885]\n",
      "Mean entropies for all classes: [6.0853894121537585e-15]\n",
      "              precision    recall  f1-score   support\n",
      "\n",
      "           0       0.88      0.14      0.24        50\n",
      "           1       0.38      0.96      0.54        27\n",
      "\n",
      "    accuracy                           0.43        77\n",
      "   macro avg       0.63      0.55      0.39        77\n",
      "weighted avg       0.70      0.43      0.35        77\n",
      "\n",
      "-------------------------------------------------------------------------------------------------------------------\n"
     ]
    },
    {
     "name": "stderr",
     "output_type": "stream",
     "text": [
      "[Parallel(n_jobs=-1)]: Using backend LokyBackend with 12 concurrent workers.\n",
      "[Parallel(n_jobs=-1)]: Done   1 out of   1 | elapsed:  5.9min finished\n"
     ]
    },
    {
     "name": "stdout",
     "output_type": "stream",
     "text": [
      "K-Fold #2\n",
      "Mean negativities for all classes: [0.2693196618607912]\n",
      "Mean entropies for all classes: [6.075758767662459e-15]\n",
      "              precision    recall  f1-score   support\n",
      "\n",
      "           0       1.00      0.10      0.18        50\n",
      "           1       0.38      1.00      0.55        27\n",
      "\n",
      "    accuracy                           0.42        77\n",
      "   macro avg       0.69      0.55      0.36        77\n",
      "weighted avg       0.78      0.42      0.31        77\n",
      "\n",
      "-------------------------------------------------------------------------------------------------------------------\n"
     ]
    },
    {
     "name": "stderr",
     "output_type": "stream",
     "text": [
      "[Parallel(n_jobs=-1)]: Using backend LokyBackend with 12 concurrent workers.\n",
      "[Parallel(n_jobs=-1)]: Done   1 out of   1 | elapsed:  5.9min finished\n"
     ]
    },
    {
     "name": "stdout",
     "output_type": "stream",
     "text": [
      "K-Fold #3\n",
      "Mean negativities for all classes: [0.2713312651098286]\n",
      "Mean entropies for all classes: [6.512679937096612e-15]\n",
      "              precision    recall  f1-score   support\n",
      "\n",
      "           0       0.94      0.32      0.48        50\n",
      "           1       0.43      0.96      0.60        27\n",
      "\n",
      "    accuracy                           0.55        77\n",
      "   macro avg       0.69      0.64      0.54        77\n",
      "weighted avg       0.76      0.55      0.52        77\n",
      "\n",
      "-------------------------------------------------------------------------------------------------------------------\n"
     ]
    },
    {
     "name": "stderr",
     "output_type": "stream",
     "text": [
      "[Parallel(n_jobs=-1)]: Using backend LokyBackend with 12 concurrent workers.\n",
      "[Parallel(n_jobs=-1)]: Done   1 out of   1 | elapsed:  5.9min finished\n"
     ]
    },
    {
     "name": "stdout",
     "output_type": "stream",
     "text": [
      "K-Fold #4\n",
      "Mean negativities for all classes: [0.27160805182450465]\n",
      "Mean entropies for all classes: [6.351135265434182e-15]\n",
      "              precision    recall  f1-score   support\n",
      "\n",
      "           0       0.82      0.18      0.30        50\n",
      "           1       0.38      0.93      0.54        27\n",
      "\n",
      "    accuracy                           0.44        77\n",
      "   macro avg       0.60      0.55      0.42        77\n",
      "weighted avg       0.66      0.44      0.38        77\n",
      "\n",
      "-------------------------------------------------------------------------------------------------------------------\n"
     ]
    },
    {
     "name": "stderr",
     "output_type": "stream",
     "text": [
      "[Parallel(n_jobs=-1)]: Using backend LokyBackend with 12 concurrent workers.\n",
      "[Parallel(n_jobs=-1)]: Done   1 out of   1 | elapsed:  5.9min finished\n"
     ]
    },
    {
     "name": "stdout",
     "output_type": "stream",
     "text": [
      "K-Fold #5\n",
      "Mean negativities for all classes: [0.26177356780533034]\n",
      "Mean entropies for all classes: [6.24525536492793e-15]\n",
      "              precision    recall  f1-score   support\n",
      "\n",
      "           0       0.88      0.14      0.24        50\n",
      "           1       0.38      0.96      0.54        27\n",
      "\n",
      "    accuracy                           0.43        77\n",
      "   macro avg       0.63      0.55      0.39        77\n",
      "weighted avg       0.70      0.43      0.35        77\n",
      "\n",
      "-------------------------------------------------------------------------------------------------------------------\n"
     ]
    },
    {
     "name": "stderr",
     "output_type": "stream",
     "text": [
      "[Parallel(n_jobs=-1)]: Using backend LokyBackend with 12 concurrent workers.\n",
      "[Parallel(n_jobs=-1)]: Done   1 out of   1 | elapsed:  5.9min finished\n"
     ]
    },
    {
     "name": "stdout",
     "output_type": "stream",
     "text": [
      "K-Fold #6\n",
      "Mean negativities for all classes: [0.27021439495753063]\n",
      "Mean entropies for all classes: [6.229441264464609e-15]\n",
      "              precision    recall  f1-score   support\n",
      "\n",
      "           0       0.89      0.16      0.27        50\n",
      "           1       0.38      0.96      0.55        27\n",
      "\n",
      "    accuracy                           0.44        77\n",
      "   macro avg       0.64      0.56      0.41        77\n",
      "weighted avg       0.71      0.44      0.37        77\n",
      "\n",
      "-------------------------------------------------------------------------------------------------------------------\n"
     ]
    },
    {
     "name": "stderr",
     "output_type": "stream",
     "text": [
      "[Parallel(n_jobs=-1)]: Using backend LokyBackend with 12 concurrent workers.\n",
      "[Parallel(n_jobs=-1)]: Done   1 out of   1 | elapsed:  5.9min finished\n"
     ]
    },
    {
     "name": "stdout",
     "output_type": "stream",
     "text": [
      "K-Fold #7\n",
      "Mean negativities for all classes: [0.2701135023262482]\n",
      "Mean entropies for all classes: [6.121923796913347e-15]\n",
      "              precision    recall  f1-score   support\n",
      "\n",
      "           0       0.83      0.20      0.32        50\n",
      "           1       0.38      0.93      0.54        27\n",
      "\n",
      "    accuracy                           0.45        77\n",
      "   macro avg       0.61      0.56      0.43        77\n",
      "weighted avg       0.68      0.45      0.40        77\n",
      "\n",
      "-------------------------------------------------------------------------------------------------------------------\n"
     ]
    },
    {
     "name": "stderr",
     "output_type": "stream",
     "text": [
      "[Parallel(n_jobs=-1)]: Using backend LokyBackend with 12 concurrent workers.\n",
      "[Parallel(n_jobs=-1)]: Done   1 out of   1 | elapsed:  5.9min finished\n"
     ]
    },
    {
     "name": "stdout",
     "output_type": "stream",
     "text": [
      "K-Fold #8\n",
      "Mean negativities for all classes: [0.27126684343905544]\n",
      "Mean entropies for all classes: [6.160543969471099e-15]\n",
      "              precision    recall  f1-score   support\n",
      "\n",
      "           0       0.77      0.20      0.32        50\n",
      "           1       0.37      0.88      0.52        26\n",
      "\n",
      "    accuracy                           0.43        76\n",
      "   macro avg       0.57      0.54      0.42        76\n",
      "weighted avg       0.63      0.43      0.39        76\n",
      "\n",
      "-------------------------------------------------------------------------------------------------------------------\n"
     ]
    },
    {
     "name": "stderr",
     "output_type": "stream",
     "text": [
      "[Parallel(n_jobs=-1)]: Using backend LokyBackend with 12 concurrent workers.\n",
      "[Parallel(n_jobs=-1)]: Done   1 out of   1 | elapsed:  5.9min finished\n"
     ]
    },
    {
     "name": "stdout",
     "output_type": "stream",
     "text": [
      "K-Fold #9\n",
      "Mean negativities for all classes: [0.26202548836671846]\n",
      "Mean entropies for all classes: [5.809602171149767e-15]\n",
      "              precision    recall  f1-score   support\n",
      "\n",
      "           0       0.90      0.18      0.30        50\n",
      "           1       0.38      0.96      0.54        26\n",
      "\n",
      "    accuracy                           0.45        76\n",
      "   macro avg       0.64      0.57      0.42        76\n",
      "weighted avg       0.72      0.45      0.38        76\n",
      "\n",
      "-------------------------------------------------------------------------------------------------------------------\n",
      "AVG: Scores = 0.44659945317840055 F1-Scores = 0.4187931068295162 Negativity = [0.2691264212209847, 0.26880049627021885] Entropy = [6.09845235243793e-15, 6.0853894121537585e-15]\n"
     ]
    },
    {
     "name": "stderr",
     "output_type": "stream",
     "text": [
      "[Parallel(n_jobs=-1)]: Using backend LokyBackend with 12 concurrent workers.\n",
      "[Parallel(n_jobs=-1)]: Done   1 out of   1 | elapsed:  5.9min finished\n"
     ]
    },
    {
     "name": "stdout",
     "output_type": "stream",
     "text": [
      "K-Fold #0\n",
      "Mean negativities for all classes: [0.2681600065463597]\n",
      "Mean entropies for all classes: [6.049243701470625e-15]\n",
      "              precision    recall  f1-score   support\n",
      "\n",
      "           0       1.00      0.14      0.25        50\n",
      "           1       0.39      1.00      0.56        27\n",
      "\n",
      "    accuracy                           0.44        77\n",
      "   macro avg       0.69      0.57      0.40        77\n",
      "weighted avg       0.78      0.44      0.35        77\n",
      "\n",
      "-------------------------------------------------------------------------------------------------------------------\n"
     ]
    },
    {
     "name": "stderr",
     "output_type": "stream",
     "text": [
      "[Parallel(n_jobs=-1)]: Using backend LokyBackend with 12 concurrent workers.\n",
      "[Parallel(n_jobs=-1)]: Done   1 out of   1 | elapsed:  5.9min finished\n"
     ]
    },
    {
     "name": "stdout",
     "output_type": "stream",
     "text": [
      "K-Fold #1\n",
      "Mean negativities for all classes: [0.2630980102292076]\n",
      "Mean entropies for all classes: [5.848172054618285e-15]\n",
      "              precision    recall  f1-score   support\n",
      "\n",
      "           0       1.00      0.14      0.25        50\n",
      "           1       0.39      1.00      0.56        27\n",
      "\n",
      "    accuracy                           0.44        77\n",
      "   macro avg       0.69      0.57      0.40        77\n",
      "weighted avg       0.78      0.44      0.35        77\n",
      "\n",
      "-------------------------------------------------------------------------------------------------------------------\n"
     ]
    },
    {
     "name": "stderr",
     "output_type": "stream",
     "text": [
      "[Parallel(n_jobs=-1)]: Using backend LokyBackend with 12 concurrent workers.\n",
      "[Parallel(n_jobs=-1)]: Done   1 out of   1 | elapsed:  5.9min finished\n"
     ]
    },
    {
     "name": "stdout",
     "output_type": "stream",
     "text": [
      "K-Fold #2\n",
      "Mean negativities for all classes: [0.2686413458338696]\n",
      "Mean entropies for all classes: [6.088546114558301e-15]\n",
      "              precision    recall  f1-score   support\n",
      "\n",
      "           0       1.00      0.34      0.51        50\n",
      "           1       0.45      1.00      0.62        27\n",
      "\n",
      "    accuracy                           0.57        77\n",
      "   macro avg       0.72      0.67      0.56        77\n",
      "weighted avg       0.81      0.57      0.55        77\n",
      "\n",
      "-------------------------------------------------------------------------------------------------------------------\n"
     ]
    },
    {
     "name": "stderr",
     "output_type": "stream",
     "text": [
      "[Parallel(n_jobs=-1)]: Using backend LokyBackend with 12 concurrent workers.\n",
      "[Parallel(n_jobs=-1)]: Done   1 out of   1 | elapsed:  5.9min finished\n"
     ]
    },
    {
     "name": "stdout",
     "output_type": "stream",
     "text": [
      "K-Fold #3\n",
      "Mean negativities for all classes: [0.27175219424273855]\n",
      "Mean entropies for all classes: [6.502891579832731e-15]\n",
      "              precision    recall  f1-score   support\n",
      "\n",
      "           0       0.82      0.18      0.30        50\n",
      "           1       0.38      0.93      0.54        27\n",
      "\n",
      "    accuracy                           0.44        77\n",
      "   macro avg       0.60      0.55      0.42        77\n",
      "weighted avg       0.66      0.44      0.38        77\n",
      "\n",
      "-------------------------------------------------------------------------------------------------------------------\n"
     ]
    },
    {
     "name": "stderr",
     "output_type": "stream",
     "text": [
      "[Parallel(n_jobs=-1)]: Using backend LokyBackend with 12 concurrent workers.\n",
      "[Parallel(n_jobs=-1)]: Done   1 out of   1 | elapsed:  5.9min finished\n"
     ]
    },
    {
     "name": "stdout",
     "output_type": "stream",
     "text": [
      "K-Fold #4\n",
      "Mean negativities for all classes: [0.27155751065851036]\n",
      "Mean entropies for all classes: [6.219229296718591e-15]\n",
      "              precision    recall  f1-score   support\n",
      "\n",
      "           0       0.57      0.16      0.25        50\n",
      "           1       0.33      0.78      0.47        27\n",
      "\n",
      "    accuracy                           0.38        77\n",
      "   macro avg       0.45      0.47      0.36        77\n",
      "weighted avg       0.49      0.38      0.33        77\n",
      "\n",
      "-------------------------------------------------------------------------------------------------------------------\n"
     ]
    },
    {
     "name": "stderr",
     "output_type": "stream",
     "text": [
      "[Parallel(n_jobs=-1)]: Using backend LokyBackend with 12 concurrent workers.\n",
      "[Parallel(n_jobs=-1)]: Done   1 out of   1 | elapsed:  5.9min finished\n"
     ]
    },
    {
     "name": "stdout",
     "output_type": "stream",
     "text": [
      "K-Fold #5\n",
      "Mean negativities for all classes: [0.25988747360224096]\n",
      "Mean entropies for all classes: [6.3169940818893355e-15]\n",
      "              precision    recall  f1-score   support\n",
      "\n",
      "           0       1.00      0.16      0.28        50\n",
      "           1       0.39      1.00      0.56        27\n",
      "\n",
      "    accuracy                           0.45        77\n",
      "   macro avg       0.70      0.58      0.42        77\n",
      "weighted avg       0.79      0.45      0.38        77\n",
      "\n",
      "-------------------------------------------------------------------------------------------------------------------\n"
     ]
    },
    {
     "name": "stderr",
     "output_type": "stream",
     "text": [
      "[Parallel(n_jobs=-1)]: Using backend LokyBackend with 12 concurrent workers.\n",
      "[Parallel(n_jobs=-1)]: Done   1 out of   1 | elapsed:  5.9min finished\n"
     ]
    },
    {
     "name": "stdout",
     "output_type": "stream",
     "text": [
      "K-Fold #6\n",
      "Mean negativities for all classes: [0.26303031755062223]\n",
      "Mean entropies for all classes: [6.43943642603929e-15]\n",
      "              precision    recall  f1-score   support\n",
      "\n",
      "           0       0.71      0.10      0.18        50\n",
      "           1       0.36      0.93      0.52        27\n",
      "\n",
      "    accuracy                           0.39        77\n",
      "   macro avg       0.54      0.51      0.35        77\n",
      "weighted avg       0.59      0.39      0.29        77\n",
      "\n",
      "-------------------------------------------------------------------------------------------------------------------\n"
     ]
    },
    {
     "name": "stderr",
     "output_type": "stream",
     "text": [
      "[Parallel(n_jobs=-1)]: Using backend LokyBackend with 12 concurrent workers.\n",
      "[Parallel(n_jobs=-1)]: Done   1 out of   1 | elapsed:  5.9min finished\n"
     ]
    },
    {
     "name": "stdout",
     "output_type": "stream",
     "text": [
      "K-Fold #7\n",
      "Mean negativities for all classes: [0.2709493034818322]\n",
      "Mean entropies for all classes: [5.931732772151476e-15]\n",
      "              precision    recall  f1-score   support\n",
      "\n",
      "           0       0.83      0.20      0.32        50\n",
      "           1       0.38      0.93      0.54        27\n",
      "\n",
      "    accuracy                           0.45        77\n",
      "   macro avg       0.61      0.56      0.43        77\n",
      "weighted avg       0.68      0.45      0.40        77\n",
      "\n",
      "-------------------------------------------------------------------------------------------------------------------\n"
     ]
    },
    {
     "name": "stderr",
     "output_type": "stream",
     "text": [
      "[Parallel(n_jobs=-1)]: Using backend LokyBackend with 12 concurrent workers.\n",
      "[Parallel(n_jobs=-1)]: Done   1 out of   1 | elapsed:  5.9min finished\n"
     ]
    },
    {
     "name": "stdout",
     "output_type": "stream",
     "text": [
      "K-Fold #8\n",
      "Mean negativities for all classes: [0.26209496966623985]\n",
      "Mean entropies for all classes: [6.201245514487256e-15]\n",
      "              precision    recall  f1-score   support\n",
      "\n",
      "           0       0.92      0.24      0.38        50\n",
      "           1       0.40      0.96      0.56        26\n",
      "\n",
      "    accuracy                           0.49        76\n",
      "   macro avg       0.66      0.60      0.47        76\n",
      "weighted avg       0.74      0.49      0.44        76\n",
      "\n",
      "-------------------------------------------------------------------------------------------------------------------\n"
     ]
    },
    {
     "name": "stderr",
     "output_type": "stream",
     "text": [
      "[Parallel(n_jobs=-1)]: Using backend LokyBackend with 12 concurrent workers.\n",
      "[Parallel(n_jobs=-1)]: Done   1 out of   1 | elapsed:  5.9min finished\n"
     ]
    },
    {
     "name": "stdout",
     "output_type": "stream",
     "text": [
      "K-Fold #9\n",
      "Mean negativities for all classes: [0.2708336427944874]\n",
      "Mean entropies for all classes: [6.168193226653441e-15]\n",
      "              precision    recall  f1-score   support\n",
      "\n",
      "           0       0.82      0.18      0.30        50\n",
      "           1       0.37      0.92      0.53        26\n",
      "\n",
      "    accuracy                           0.43        76\n",
      "   macro avg       0.59      0.55      0.41        76\n",
      "weighted avg       0.66      0.43      0.37        76\n",
      "\n",
      "-------------------------------------------------------------------------------------------------------------------\n",
      "AVG: Scores = 0.4492481203007518 F1-Scores = 0.4221396816856502 Negativity = [0.2681600065463597, 0.2630980102292076] Entropy = [6.049243701470625e-15, 5.848172054618285e-15]\n"
     ]
    },
    {
     "name": "stderr",
     "output_type": "stream",
     "text": [
      "[Parallel(n_jobs=-1)]: Using backend LokyBackend with 12 concurrent workers.\n",
      "[Parallel(n_jobs=-1)]: Done   1 out of   1 | elapsed:  5.9min finished\n"
     ]
    },
    {
     "name": "stdout",
     "output_type": "stream",
     "text": [
      "K-Fold #0\n",
      "Mean negativities for all classes: [0.2734077247314509]\n",
      "Mean entropies for all classes: [6.057994168422616e-15]\n",
      "              precision    recall  f1-score   support\n",
      "\n",
      "           0       0.58      0.14      0.23        50\n",
      "           1       0.34      0.81      0.48        27\n",
      "\n",
      "    accuracy                           0.38        77\n",
      "   macro avg       0.46      0.48      0.35        77\n",
      "weighted avg       0.50      0.38      0.31        77\n",
      "\n",
      "-------------------------------------------------------------------------------------------------------------------\n"
     ]
    },
    {
     "name": "stderr",
     "output_type": "stream",
     "text": [
      "[Parallel(n_jobs=-1)]: Using backend LokyBackend with 12 concurrent workers.\n",
      "[Parallel(n_jobs=-1)]: Done   1 out of   1 | elapsed:  5.9min finished\n"
     ]
    },
    {
     "name": "stdout",
     "output_type": "stream",
     "text": [
      "K-Fold #1\n",
      "Mean negativities for all classes: [0.26246366149942224]\n",
      "Mean entropies for all classes: [6.2594100422456335e-15]\n",
      "              precision    recall  f1-score   support\n",
      "\n",
      "           0       0.88      0.14      0.24        50\n",
      "           1       0.38      0.96      0.54        27\n",
      "\n",
      "    accuracy                           0.43        77\n",
      "   macro avg       0.63      0.55      0.39        77\n",
      "weighted avg       0.70      0.43      0.35        77\n",
      "\n",
      "-------------------------------------------------------------------------------------------------------------------\n"
     ]
    },
    {
     "name": "stderr",
     "output_type": "stream",
     "text": [
      "[Parallel(n_jobs=-1)]: Using backend LokyBackend with 12 concurrent workers.\n",
      "[Parallel(n_jobs=-1)]: Done   1 out of   1 | elapsed:  5.9min finished\n"
     ]
    },
    {
     "name": "stdout",
     "output_type": "stream",
     "text": [
      "K-Fold #2\n",
      "Mean negativities for all classes: [0.27266319062716804]\n",
      "Mean entropies for all classes: [6.3048974063280205e-15]\n",
      "              precision    recall  f1-score   support\n",
      "\n",
      "           0       0.94      0.32      0.48        50\n",
      "           1       0.43      0.96      0.60        27\n",
      "\n",
      "    accuracy                           0.55        77\n",
      "   macro avg       0.69      0.64      0.54        77\n",
      "weighted avg       0.76      0.55      0.52        77\n",
      "\n",
      "-------------------------------------------------------------------------------------------------------------------\n"
     ]
    },
    {
     "name": "stderr",
     "output_type": "stream",
     "text": [
      "[Parallel(n_jobs=-1)]: Using backend LokyBackend with 12 concurrent workers.\n",
      "[Parallel(n_jobs=-1)]: Done   1 out of   1 | elapsed:  6.1min finished\n"
     ]
    },
    {
     "name": "stdout",
     "output_type": "stream",
     "text": [
      "K-Fold #3\n",
      "Mean negativities for all classes: [0.2710566377735209]\n",
      "Mean entropies for all classes: [6.107832811637898e-15]\n",
      "              precision    recall  f1-score   support\n",
      "\n",
      "           0       0.91      0.20      0.33        50\n",
      "           1       0.39      0.96      0.56        27\n",
      "\n",
      "    accuracy                           0.47        77\n",
      "   macro avg       0.65      0.58      0.44        77\n",
      "weighted avg       0.73      0.47      0.41        77\n",
      "\n",
      "-------------------------------------------------------------------------------------------------------------------\n"
     ]
    },
    {
     "name": "stderr",
     "output_type": "stream",
     "text": [
      "[Parallel(n_jobs=-1)]: Using backend LokyBackend with 12 concurrent workers.\n",
      "[Parallel(n_jobs=-1)]: Done   1 out of   1 | elapsed:  6.1min finished\n"
     ]
    },
    {
     "name": "stdout",
     "output_type": "stream",
     "text": [
      "K-Fold #4\n",
      "Mean negativities for all classes: [0.2665393288131796]\n",
      "Mean entropies for all classes: [5.7466018794310234e-15]\n",
      "              precision    recall  f1-score   support\n",
      "\n",
      "           0       1.00      0.08      0.15        50\n",
      "           1       0.37      1.00      0.54        27\n",
      "\n",
      "    accuracy                           0.40        77\n",
      "   macro avg       0.68      0.54      0.34        77\n",
      "weighted avg       0.78      0.40      0.29        77\n",
      "\n",
      "-------------------------------------------------------------------------------------------------------------------\n"
     ]
    },
    {
     "name": "stderr",
     "output_type": "stream",
     "text": [
      "[Parallel(n_jobs=-1)]: Using backend LokyBackend with 12 concurrent workers.\n",
      "[Parallel(n_jobs=-1)]: Done   1 out of   1 | elapsed:  6.1min finished\n"
     ]
    },
    {
     "name": "stdout",
     "output_type": "stream",
     "text": [
      "K-Fold #5\n",
      "Mean negativities for all classes: [0.2686879235102614]\n",
      "Mean entropies for all classes: [6.1744187292897365e-15]\n",
      "              precision    recall  f1-score   support\n",
      "\n",
      "           0       1.00      0.24      0.39        50\n",
      "           1       0.42      1.00      0.59        27\n",
      "\n",
      "    accuracy                           0.51        77\n",
      "   macro avg       0.71      0.62      0.49        77\n",
      "weighted avg       0.80      0.51      0.46        77\n",
      "\n",
      "-------------------------------------------------------------------------------------------------------------------\n"
     ]
    },
    {
     "name": "stderr",
     "output_type": "stream",
     "text": [
      "[Parallel(n_jobs=-1)]: Using backend LokyBackend with 12 concurrent workers.\n",
      "[Parallel(n_jobs=-1)]: Done   1 out of   1 | elapsed:  6.0min finished\n"
     ]
    },
    {
     "name": "stdout",
     "output_type": "stream",
     "text": [
      "K-Fold #6\n",
      "Mean negativities for all classes: [0.27256043543923597]\n",
      "Mean entropies for all classes: [6.018505366642408e-15]\n",
      "              precision    recall  f1-score   support\n",
      "\n",
      "           0       0.71      0.20      0.31        50\n",
      "           1       0.37      0.85      0.51        27\n",
      "\n",
      "    accuracy                           0.43        77\n",
      "   macro avg       0.54      0.53      0.41        77\n",
      "weighted avg       0.59      0.43      0.38        77\n",
      "\n",
      "-------------------------------------------------------------------------------------------------------------------\n"
     ]
    },
    {
     "name": "stderr",
     "output_type": "stream",
     "text": [
      "[Parallel(n_jobs=-1)]: Using backend LokyBackend with 12 concurrent workers.\n",
      "[Parallel(n_jobs=-1)]: Done   1 out of   1 | elapsed:  5.9min finished\n"
     ]
    },
    {
     "name": "stdout",
     "output_type": "stream",
     "text": [
      "K-Fold #7\n",
      "Mean negativities for all classes: [0.27192040562309194]\n",
      "Mean entropies for all classes: [5.674440692566689e-15]\n",
      "              precision    recall  f1-score   support\n",
      "\n",
      "           0       0.64      0.14      0.23        50\n",
      "           1       0.35      0.85      0.49        27\n",
      "\n",
      "    accuracy                           0.39        77\n",
      "   macro avg       0.49      0.50      0.36        77\n",
      "weighted avg       0.54      0.39      0.32        77\n",
      "\n",
      "-------------------------------------------------------------------------------------------------------------------\n"
     ]
    },
    {
     "name": "stderr",
     "output_type": "stream",
     "text": [
      "[Parallel(n_jobs=-1)]: Using backend LokyBackend with 12 concurrent workers.\n",
      "[Parallel(n_jobs=-1)]: Done   1 out of   1 | elapsed:  5.9min finished\n"
     ]
    },
    {
     "name": "stdout",
     "output_type": "stream",
     "text": [
      "K-Fold #8\n",
      "Mean negativities for all classes: [0.27038309497424423]\n",
      "Mean entropies for all classes: [6.102459816019135e-15]\n",
      "              precision    recall  f1-score   support\n",
      "\n",
      "           0       0.91      0.20      0.33        50\n",
      "           1       0.38      0.96      0.55        26\n",
      "\n",
      "    accuracy                           0.46        76\n",
      "   macro avg       0.65      0.58      0.44        76\n",
      "weighted avg       0.73      0.46      0.40        76\n",
      "\n",
      "-------------------------------------------------------------------------------------------------------------------\n"
     ]
    },
    {
     "name": "stderr",
     "output_type": "stream",
     "text": [
      "[Parallel(n_jobs=-1)]: Using backend LokyBackend with 12 concurrent workers.\n",
      "[Parallel(n_jobs=-1)]: Done   1 out of   1 | elapsed:  5.9min finished\n"
     ]
    },
    {
     "name": "stdout",
     "output_type": "stream",
     "text": [
      "K-Fold #9\n",
      "Mean negativities for all classes: [0.2692317568868732]\n",
      "Mean entropies for all classes: [5.949823939707757e-15]\n",
      "              precision    recall  f1-score   support\n",
      "\n",
      "           0       0.92      0.24      0.38        50\n",
      "           1       0.40      0.96      0.56        26\n",
      "\n",
      "    accuracy                           0.49        76\n",
      "   macro avg       0.66      0.60      0.47        76\n",
      "weighted avg       0.74      0.49      0.44        76\n",
      "\n",
      "-------------------------------------------------------------------------------------------------------------------\n",
      "AVG: Scores = 0.4492822966507176 F1-Scores = 0.42397244844084137 Negativity = [0.2734077247314509, 0.26246366149942224] Entropy = [6.057994168422616e-15, 6.2594100422456335e-15]\n"
     ]
    },
    {
     "name": "stderr",
     "output_type": "stream",
     "text": [
      "[Parallel(n_jobs=-1)]: Using backend LokyBackend with 12 concurrent workers.\n",
      "[Parallel(n_jobs=-1)]: Done   1 out of   1 | elapsed:  5.9min finished\n"
     ]
    },
    {
     "name": "stdout",
     "output_type": "stream",
     "text": [
      "K-Fold #0\n",
      "Mean negativities for all classes: [0.26875597953899955]\n",
      "Mean entropies for all classes: [5.75555466464268e-15]\n",
      "              precision    recall  f1-score   support\n",
      "\n",
      "           0       0.80      0.16      0.27        50\n",
      "           1       0.37      0.93      0.53        27\n",
      "\n",
      "    accuracy                           0.43        77\n",
      "   macro avg       0.59      0.54      0.40        77\n",
      "weighted avg       0.65      0.43      0.36        77\n",
      "\n",
      "-------------------------------------------------------------------------------------------------------------------\n"
     ]
    },
    {
     "name": "stderr",
     "output_type": "stream",
     "text": [
      "[Parallel(n_jobs=-1)]: Using backend LokyBackend with 12 concurrent workers.\n",
      "[Parallel(n_jobs=-1)]: Done   1 out of   1 | elapsed:  5.9min finished\n"
     ]
    },
    {
     "name": "stdout",
     "output_type": "stream",
     "text": [
      "K-Fold #1\n",
      "Mean negativities for all classes: [0.2715603308437958]\n",
      "Mean entropies for all classes: [6.233243349407788e-15]\n",
      "              precision    recall  f1-score   support\n",
      "\n",
      "           0       0.87      0.26      0.40        50\n",
      "           1       0.40      0.93      0.56        27\n",
      "\n",
      "    accuracy                           0.49        77\n",
      "   macro avg       0.63      0.59      0.48        77\n",
      "weighted avg       0.70      0.49      0.46        77\n",
      "\n",
      "-------------------------------------------------------------------------------------------------------------------\n"
     ]
    },
    {
     "name": "stderr",
     "output_type": "stream",
     "text": [
      "[Parallel(n_jobs=-1)]: Using backend LokyBackend with 12 concurrent workers.\n",
      "[Parallel(n_jobs=-1)]: Done   1 out of   1 | elapsed:  5.9min finished\n"
     ]
    },
    {
     "name": "stdout",
     "output_type": "stream",
     "text": [
      "K-Fold #2\n",
      "Mean negativities for all classes: [0.2700805952788218]\n",
      "Mean entropies for all classes: [6.0963463227150135e-15]\n",
      "              precision    recall  f1-score   support\n",
      "\n",
      "           0       0.88      0.14      0.24        50\n",
      "           1       0.38      0.96      0.54        27\n",
      "\n",
      "    accuracy                           0.43        77\n",
      "   macro avg       0.63      0.55      0.39        77\n",
      "weighted avg       0.70      0.43      0.35        77\n",
      "\n",
      "-------------------------------------------------------------------------------------------------------------------\n"
     ]
    },
    {
     "name": "stderr",
     "output_type": "stream",
     "text": [
      "[Parallel(n_jobs=-1)]: Using backend LokyBackend with 12 concurrent workers.\n",
      "[Parallel(n_jobs=-1)]: Done   1 out of   1 | elapsed:  5.9min finished\n"
     ]
    },
    {
     "name": "stdout",
     "output_type": "stream",
     "text": [
      "K-Fold #3\n",
      "Mean negativities for all classes: [0.27041347905960983]\n",
      "Mean entropies for all classes: [5.981879148848799e-15]\n",
      "              precision    recall  f1-score   support\n",
      "\n",
      "           0       0.86      0.12      0.21        50\n",
      "           1       0.37      0.96      0.54        27\n",
      "\n",
      "    accuracy                           0.42        77\n",
      "   macro avg       0.61      0.54      0.37        77\n",
      "weighted avg       0.69      0.42      0.32        77\n",
      "\n",
      "-------------------------------------------------------------------------------------------------------------------\n"
     ]
    },
    {
     "name": "stderr",
     "output_type": "stream",
     "text": [
      "[Parallel(n_jobs=-1)]: Using backend LokyBackend with 12 concurrent workers.\n",
      "[Parallel(n_jobs=-1)]: Done   1 out of   1 | elapsed:  5.9min finished\n"
     ]
    },
    {
     "name": "stdout",
     "output_type": "stream",
     "text": [
      "K-Fold #4\n",
      "Mean negativities for all classes: [0.2726264004192186]\n",
      "Mean entropies for all classes: [5.9144917557009424e-15]\n",
      "              precision    recall  f1-score   support\n",
      "\n",
      "           0       0.92      0.24      0.38        50\n",
      "           1       0.41      0.96      0.57        27\n",
      "\n",
      "    accuracy                           0.49        77\n",
      "   macro avg       0.66      0.60      0.48        77\n",
      "weighted avg       0.74      0.49      0.45        77\n",
      "\n",
      "-------------------------------------------------------------------------------------------------------------------\n"
     ]
    },
    {
     "name": "stderr",
     "output_type": "stream",
     "text": [
      "[Parallel(n_jobs=-1)]: Using backend LokyBackend with 12 concurrent workers.\n",
      "[Parallel(n_jobs=-1)]: Done   1 out of   1 | elapsed:  5.9min finished\n"
     ]
    },
    {
     "name": "stdout",
     "output_type": "stream",
     "text": [
      "K-Fold #5\n",
      "Mean negativities for all classes: [0.2699569060141241]\n",
      "Mean entropies for all classes: [5.9478299892195525e-15]\n",
      "              precision    recall  f1-score   support\n",
      "\n",
      "           0       1.00      0.16      0.28        50\n",
      "           1       0.39      1.00      0.56        27\n",
      "\n",
      "    accuracy                           0.45        77\n",
      "   macro avg       0.70      0.58      0.42        77\n",
      "weighted avg       0.79      0.45      0.38        77\n",
      "\n",
      "-------------------------------------------------------------------------------------------------------------------\n"
     ]
    },
    {
     "name": "stderr",
     "output_type": "stream",
     "text": [
      "[Parallel(n_jobs=-1)]: Using backend LokyBackend with 12 concurrent workers.\n",
      "[Parallel(n_jobs=-1)]: Done   1 out of   1 | elapsed:  5.9min finished\n"
     ]
    },
    {
     "name": "stdout",
     "output_type": "stream",
     "text": [
      "K-Fold #6\n",
      "Mean negativities for all classes: [0.27188403476509854]\n",
      "Mean entropies for all classes: [5.696450023279736e-15]\n",
      "              precision    recall  f1-score   support\n",
      "\n",
      "           0       0.93      0.28      0.43        50\n",
      "           1       0.42      0.96      0.58        27\n",
      "\n",
      "    accuracy                           0.52        77\n",
      "   macro avg       0.68      0.62      0.51        77\n",
      "weighted avg       0.75      0.52      0.48        77\n",
      "\n",
      "-------------------------------------------------------------------------------------------------------------------\n"
     ]
    },
    {
     "name": "stderr",
     "output_type": "stream",
     "text": [
      "[Parallel(n_jobs=-1)]: Using backend LokyBackend with 12 concurrent workers.\n",
      "[Parallel(n_jobs=-1)]: Done   1 out of   1 | elapsed:  5.9min finished\n"
     ]
    },
    {
     "name": "stdout",
     "output_type": "stream",
     "text": [
      "K-Fold #7\n",
      "Mean negativities for all classes: [0.2690968571697339]\n",
      "Mean entropies for all classes: [5.8973179938868515e-15]\n",
      "              precision    recall  f1-score   support\n",
      "\n",
      "           0       0.75      0.12      0.21        50\n",
      "           1       0.36      0.93      0.52        27\n",
      "\n",
      "    accuracy                           0.40        77\n",
      "   macro avg       0.56      0.52      0.36        77\n",
      "weighted avg       0.61      0.40      0.32        77\n",
      "\n",
      "-------------------------------------------------------------------------------------------------------------------\n"
     ]
    },
    {
     "name": "stderr",
     "output_type": "stream",
     "text": [
      "[Parallel(n_jobs=-1)]: Using backend LokyBackend with 12 concurrent workers.\n",
      "[Parallel(n_jobs=-1)]: Done   1 out of   1 | elapsed:  6.0min finished\n"
     ]
    },
    {
     "name": "stdout",
     "output_type": "stream",
     "text": [
      "K-Fold #8\n",
      "Mean negativities for all classes: [0.2708431854735692]\n",
      "Mean entropies for all classes: [6.0687912887948425e-15]\n",
      "              precision    recall  f1-score   support\n",
      "\n",
      "           0       0.75      0.18      0.29        50\n",
      "           1       0.36      0.88      0.51        26\n",
      "\n",
      "    accuracy                           0.42        76\n",
      "   macro avg       0.55      0.53      0.40        76\n",
      "weighted avg       0.62      0.42      0.37        76\n",
      "\n",
      "-------------------------------------------------------------------------------------------------------------------\n"
     ]
    },
    {
     "name": "stderr",
     "output_type": "stream",
     "text": [
      "[Parallel(n_jobs=-1)]: Using backend LokyBackend with 12 concurrent workers.\n",
      "[Parallel(n_jobs=-1)]: Done   1 out of   1 | elapsed:  5.9min finished\n"
     ]
    },
    {
     "name": "stdout",
     "output_type": "stream",
     "text": [
      "K-Fold #9\n",
      "Mean negativities for all classes: [0.26536286328525344]\n",
      "Mean entropies for all classes: [6.0617710992808504e-15]\n",
      "              precision    recall  f1-score   support\n",
      "\n",
      "           0       1.00      0.16      0.28        50\n",
      "           1       0.38      1.00      0.55        26\n",
      "\n",
      "    accuracy                           0.45        76\n",
      "   macro avg       0.69      0.58      0.41        76\n",
      "weighted avg       0.79      0.45      0.37        76\n",
      "\n",
      "-------------------------------------------------------------------------------------------------------------------\n",
      "AVG: Scores = 0.45047846889952153 F1-Scores = 0.42270165651492303 Negativity = [0.26875597953899955, 0.2715603308437958] Entropy = [5.75555466464268e-15, 6.233243349407788e-15]\n"
     ]
    },
    {
     "name": "stderr",
     "output_type": "stream",
     "text": [
      "[Parallel(n_jobs=-1)]: Using backend LokyBackend with 12 concurrent workers.\n",
      "[Parallel(n_jobs=-1)]: Done   1 out of   1 | elapsed:  5.9min finished\n"
     ]
    },
    {
     "name": "stdout",
     "output_type": "stream",
     "text": [
      "K-Fold #0\n",
      "Mean negativities for all classes: [0.2690551396831482]\n",
      "Mean entropies for all classes: [6.152040343614921e-15]\n",
      "              precision    recall  f1-score   support\n",
      "\n",
      "           0       0.78      0.14      0.24        50\n",
      "           1       0.37      0.93      0.53        27\n",
      "\n",
      "    accuracy                           0.42        77\n",
      "   macro avg       0.57      0.53      0.38        77\n",
      "weighted avg       0.63      0.42      0.34        77\n",
      "\n",
      "-------------------------------------------------------------------------------------------------------------------\n"
     ]
    },
    {
     "name": "stderr",
     "output_type": "stream",
     "text": [
      "[Parallel(n_jobs=-1)]: Using backend LokyBackend with 12 concurrent workers.\n",
      "[Parallel(n_jobs=-1)]: Done   1 out of   1 | elapsed:  5.8min finished\n"
     ]
    },
    {
     "name": "stdout",
     "output_type": "stream",
     "text": [
      "K-Fold #1\n",
      "Mean negativities for all classes: [0.2627047063077734]\n",
      "Mean entropies for all classes: [6.467497174870618e-15]\n",
      "              precision    recall  f1-score   support\n",
      "\n",
      "           0       0.93      0.28      0.43        50\n",
      "           1       0.42      0.96      0.58        27\n",
      "\n",
      "    accuracy                           0.52        77\n",
      "   macro avg       0.68      0.62      0.51        77\n",
      "weighted avg       0.75      0.52      0.48        77\n",
      "\n",
      "-------------------------------------------------------------------------------------------------------------------\n"
     ]
    },
    {
     "name": "stderr",
     "output_type": "stream",
     "text": [
      "[Parallel(n_jobs=-1)]: Using backend LokyBackend with 12 concurrent workers.\n",
      "[Parallel(n_jobs=-1)]: Done   1 out of   1 | elapsed:  5.8min finished\n"
     ]
    },
    {
     "name": "stdout",
     "output_type": "stream",
     "text": [
      "K-Fold #2\n",
      "Mean negativities for all classes: [0.2636279934525406]\n",
      "Mean entropies for all classes: [5.930528126170702e-15]\n",
      "              precision    recall  f1-score   support\n",
      "\n",
      "           0       0.89      0.16      0.27        50\n",
      "           1       0.38      0.96      0.55        27\n",
      "\n",
      "    accuracy                           0.44        77\n",
      "   macro avg       0.64      0.56      0.41        77\n",
      "weighted avg       0.71      0.44      0.37        77\n",
      "\n",
      "-------------------------------------------------------------------------------------------------------------------\n"
     ]
    },
    {
     "name": "stderr",
     "output_type": "stream",
     "text": [
      "[Parallel(n_jobs=-1)]: Using backend LokyBackend with 12 concurrent workers.\n",
      "[Parallel(n_jobs=-1)]: Done   1 out of   1 | elapsed:  5.9min finished\n"
     ]
    },
    {
     "name": "stdout",
     "output_type": "stream",
     "text": [
      "K-Fold #3\n",
      "Mean negativities for all classes: [0.26363355958077533]\n",
      "Mean entropies for all classes: [6.143004729124929e-15]\n",
      "              precision    recall  f1-score   support\n",
      "\n",
      "           0       0.77      0.20      0.32        50\n",
      "           1       0.38      0.89      0.53        27\n",
      "\n",
      "    accuracy                           0.44        77\n",
      "   macro avg       0.57      0.54      0.42        77\n",
      "weighted avg       0.63      0.44      0.39        77\n",
      "\n",
      "-------------------------------------------------------------------------------------------------------------------\n"
     ]
    },
    {
     "name": "stderr",
     "output_type": "stream",
     "text": [
      "[Parallel(n_jobs=-1)]: Using backend LokyBackend with 12 concurrent workers.\n",
      "[Parallel(n_jobs=-1)]: Done   1 out of   1 | elapsed:  5.9min finished\n"
     ]
    },
    {
     "name": "stdout",
     "output_type": "stream",
     "text": [
      "K-Fold #4\n",
      "Mean negativities for all classes: [0.262128178610941]\n",
      "Mean entropies for all classes: [6.314748187408138e-15]\n",
      "              precision    recall  f1-score   support\n",
      "\n",
      "           0       0.67      0.08      0.14        50\n",
      "           1       0.35      0.93      0.51        27\n",
      "\n",
      "    accuracy                           0.38        77\n",
      "   macro avg       0.51      0.50      0.33        77\n",
      "weighted avg       0.56      0.38      0.27        77\n",
      "\n",
      "-------------------------------------------------------------------------------------------------------------------\n"
     ]
    },
    {
     "name": "stderr",
     "output_type": "stream",
     "text": [
      "[Parallel(n_jobs=-1)]: Using backend LokyBackend with 12 concurrent workers.\n",
      "[Parallel(n_jobs=-1)]: Done   1 out of   1 | elapsed:  5.9min finished\n"
     ]
    },
    {
     "name": "stdout",
     "output_type": "stream",
     "text": [
      "K-Fold #5\n",
      "Mean negativities for all classes: [0.2693097688449763]\n",
      "Mean entropies for all classes: [6.117131227126267e-15]\n",
      "              precision    recall  f1-score   support\n",
      "\n",
      "           0       0.88      0.14      0.24        50\n",
      "           1       0.38      0.96      0.54        27\n",
      "\n",
      "    accuracy                           0.43        77\n",
      "   macro avg       0.63      0.55      0.39        77\n",
      "weighted avg       0.70      0.43      0.35        77\n",
      "\n",
      "-------------------------------------------------------------------------------------------------------------------\n"
     ]
    },
    {
     "name": "stderr",
     "output_type": "stream",
     "text": [
      "[Parallel(n_jobs=-1)]: Using backend LokyBackend with 12 concurrent workers.\n",
      "[Parallel(n_jobs=-1)]: Done   1 out of   1 | elapsed:  5.9min finished\n"
     ]
    },
    {
     "name": "stdout",
     "output_type": "stream",
     "text": [
      "K-Fold #6\n",
      "Mean negativities for all classes: [0.26932957409529595]\n",
      "Mean entropies for all classes: [6.048777476920112e-15]\n",
      "              precision    recall  f1-score   support\n",
      "\n",
      "           0       1.00      0.22      0.36        50\n",
      "           1       0.41      1.00      0.58        27\n",
      "\n",
      "    accuracy                           0.49        77\n",
      "   macro avg       0.70      0.61      0.47        77\n",
      "weighted avg       0.79      0.49      0.44        77\n",
      "\n",
      "-------------------------------------------------------------------------------------------------------------------\n"
     ]
    },
    {
     "name": "stderr",
     "output_type": "stream",
     "text": [
      "[Parallel(n_jobs=-1)]: Using backend LokyBackend with 12 concurrent workers.\n",
      "[Parallel(n_jobs=-1)]: Done   1 out of   1 | elapsed:  5.9min finished\n"
     ]
    },
    {
     "name": "stdout",
     "output_type": "stream",
     "text": [
      "K-Fold #7\n",
      "Mean negativities for all classes: [0.2619637164494447]\n",
      "Mean entropies for all classes: [6.271713098556013e-15]\n",
      "              precision    recall  f1-score   support\n",
      "\n",
      "           0       1.00      0.22      0.36        50\n",
      "           1       0.41      1.00      0.58        27\n",
      "\n",
      "    accuracy                           0.49        77\n",
      "   macro avg       0.70      0.61      0.47        77\n",
      "weighted avg       0.79      0.49      0.44        77\n",
      "\n",
      "-------------------------------------------------------------------------------------------------------------------\n"
     ]
    },
    {
     "name": "stderr",
     "output_type": "stream",
     "text": [
      "[Parallel(n_jobs=-1)]: Using backend LokyBackend with 12 concurrent workers.\n",
      "[Parallel(n_jobs=-1)]: Done   1 out of   1 | elapsed:  5.9min finished\n"
     ]
    },
    {
     "name": "stdout",
     "output_type": "stream",
     "text": [
      "K-Fold #8\n",
      "Mean negativities for all classes: [0.27311103117087493]\n",
      "Mean entropies for all classes: [5.95661894453395e-15]\n",
      "              precision    recall  f1-score   support\n",
      "\n",
      "           0       0.88      0.28      0.42        50\n",
      "           1       0.40      0.92      0.56        26\n",
      "\n",
      "    accuracy                           0.50        76\n",
      "   macro avg       0.64      0.60      0.49        76\n",
      "weighted avg       0.71      0.50      0.47        76\n",
      "\n",
      "-------------------------------------------------------------------------------------------------------------------\n"
     ]
    },
    {
     "name": "stderr",
     "output_type": "stream",
     "text": [
      "[Parallel(n_jobs=-1)]: Using backend LokyBackend with 12 concurrent workers.\n",
      "[Parallel(n_jobs=-1)]: Done   1 out of   1 | elapsed:  5.9min finished\n"
     ]
    },
    {
     "name": "stdout",
     "output_type": "stream",
     "text": [
      "K-Fold #9\n",
      "Mean negativities for all classes: [0.2692472579693397]\n",
      "Mean entropies for all classes: [6.032724266512762e-15]\n",
      "              precision    recall  f1-score   support\n",
      "\n",
      "           0       0.78      0.14      0.24        50\n",
      "           1       0.36      0.92      0.52        26\n",
      "\n",
      "    accuracy                           0.41        76\n",
      "   macro avg       0.57      0.53      0.38        76\n",
      "weighted avg       0.63      0.41      0.33        76\n",
      "\n",
      "-------------------------------------------------------------------------------------------------------------------\n",
      "AVG: Scores = 0.4518284347231716 F1-Scores = 0.4248319325945064 Negativity = [0.2690551396831482, 0.2627047063077734] Entropy = [6.152040343614921e-15, 6.467497174870618e-15]\n"
     ]
    },
    {
     "name": "stderr",
     "output_type": "stream",
     "text": [
      "[Parallel(n_jobs=-1)]: Using backend LokyBackend with 12 concurrent workers.\n",
      "[Parallel(n_jobs=-1)]: Done   1 out of   1 | elapsed:  5.9min finished\n"
     ]
    },
    {
     "name": "stdout",
     "output_type": "stream",
     "text": [
      "K-Fold #0\n",
      "Mean negativities for all classes: [0.27032268468300624]\n",
      "Mean entropies for all classes: [6.152675020298074e-15]\n",
      "              precision    recall  f1-score   support\n",
      "\n",
      "           0       0.90      0.18      0.30        50\n",
      "           1       0.39      0.96      0.55        27\n",
      "\n",
      "    accuracy                           0.45        77\n",
      "   macro avg       0.64      0.57      0.43        77\n",
      "weighted avg       0.72      0.45      0.39        77\n",
      "\n",
      "-------------------------------------------------------------------------------------------------------------------\n"
     ]
    },
    {
     "name": "stderr",
     "output_type": "stream",
     "text": [
      "[Parallel(n_jobs=-1)]: Using backend LokyBackend with 12 concurrent workers.\n",
      "[Parallel(n_jobs=-1)]: Done   1 out of   1 | elapsed:  5.9min finished\n"
     ]
    },
    {
     "name": "stdout",
     "output_type": "stream",
     "text": [
      "K-Fold #1\n",
      "Mean negativities for all classes: [0.2622198945206412]\n",
      "Mean entropies for all classes: [6.3903985864894145e-15]\n",
      "              precision    recall  f1-score   support\n",
      "\n",
      "           0       0.82      0.18      0.30        50\n",
      "           1       0.38      0.93      0.54        27\n",
      "\n",
      "    accuracy                           0.44        77\n",
      "   macro avg       0.60      0.55      0.42        77\n",
      "weighted avg       0.66      0.44      0.38        77\n",
      "\n",
      "-------------------------------------------------------------------------------------------------------------------\n"
     ]
    },
    {
     "name": "stderr",
     "output_type": "stream",
     "text": [
      "[Parallel(n_jobs=-1)]: Using backend LokyBackend with 12 concurrent workers.\n",
      "[Parallel(n_jobs=-1)]: Done   1 out of   1 | elapsed:  5.9min finished\n"
     ]
    },
    {
     "name": "stdout",
     "output_type": "stream",
     "text": [
      "K-Fold #2\n",
      "Mean negativities for all classes: [0.27049691799672515]\n",
      "Mean entropies for all classes: [6.1373132493731535e-15]\n",
      "              precision    recall  f1-score   support\n",
      "\n",
      "           0       0.82      0.18      0.30        50\n",
      "           1       0.38      0.93      0.54        27\n",
      "\n",
      "    accuracy                           0.44        77\n",
      "   macro avg       0.60      0.55      0.42        77\n",
      "weighted avg       0.66      0.44      0.38        77\n",
      "\n",
      "-------------------------------------------------------------------------------------------------------------------\n"
     ]
    },
    {
     "name": "stderr",
     "output_type": "stream",
     "text": [
      "[Parallel(n_jobs=-1)]: Using backend LokyBackend with 12 concurrent workers.\n",
      "[Parallel(n_jobs=-1)]: Done   1 out of   1 | elapsed:  5.9min finished\n"
     ]
    },
    {
     "name": "stdout",
     "output_type": "stream",
     "text": [
      "K-Fold #3\n",
      "Mean negativities for all classes: [0.2705905034949498]\n",
      "Mean entropies for all classes: [6.27684888623975e-15]\n",
      "              precision    recall  f1-score   support\n",
      "\n",
      "           0       1.00      0.20      0.33        50\n",
      "           1       0.40      1.00      0.57        27\n",
      "\n",
      "    accuracy                           0.48        77\n",
      "   macro avg       0.70      0.60      0.45        77\n",
      "weighted avg       0.79      0.48      0.42        77\n",
      "\n",
      "-------------------------------------------------------------------------------------------------------------------\n"
     ]
    },
    {
     "name": "stderr",
     "output_type": "stream",
     "text": [
      "[Parallel(n_jobs=-1)]: Using backend LokyBackend with 12 concurrent workers.\n",
      "[Parallel(n_jobs=-1)]: Done   1 out of   1 | elapsed:  5.9min finished\n"
     ]
    },
    {
     "name": "stdout",
     "output_type": "stream",
     "text": [
      "K-Fold #4\n",
      "Mean negativities for all classes: [0.27153899524599295]\n",
      "Mean entropies for all classes: [5.982781470842536e-15]\n",
      "              precision    recall  f1-score   support\n",
      "\n",
      "           0       0.92      0.22      0.35        50\n",
      "           1       0.40      0.96      0.57        27\n",
      "\n",
      "    accuracy                           0.48        77\n",
      "   macro avg       0.66      0.59      0.46        77\n",
      "weighted avg       0.74      0.48      0.43        77\n",
      "\n",
      "-------------------------------------------------------------------------------------------------------------------\n"
     ]
    },
    {
     "name": "stderr",
     "output_type": "stream",
     "text": [
      "[Parallel(n_jobs=-1)]: Using backend LokyBackend with 12 concurrent workers.\n",
      "[Parallel(n_jobs=-1)]: Done   1 out of   1 | elapsed:  5.9min finished\n"
     ]
    },
    {
     "name": "stdout",
     "output_type": "stream",
     "text": [
      "K-Fold #5\n",
      "Mean negativities for all classes: [0.2603580249632034]\n",
      "Mean entropies for all classes: [5.889999213067525e-15]\n",
      "              precision    recall  f1-score   support\n",
      "\n",
      "           0       1.00      0.10      0.18        50\n",
      "           1       0.38      1.00      0.55        27\n",
      "\n",
      "    accuracy                           0.42        77\n",
      "   macro avg       0.69      0.55      0.36        77\n",
      "weighted avg       0.78      0.42      0.31        77\n",
      "\n",
      "-------------------------------------------------------------------------------------------------------------------\n"
     ]
    },
    {
     "name": "stderr",
     "output_type": "stream",
     "text": [
      "[Parallel(n_jobs=-1)]: Using backend LokyBackend with 12 concurrent workers.\n",
      "[Parallel(n_jobs=-1)]: Done   1 out of   1 | elapsed:  6.0min finished\n"
     ]
    },
    {
     "name": "stdout",
     "output_type": "stream",
     "text": [
      "K-Fold #6\n",
      "Mean negativities for all classes: [0.27101138487018067]\n",
      "Mean entropies for all classes: [6.158898871978561e-15]\n",
      "              precision    recall  f1-score   support\n",
      "\n",
      "           0       0.80      0.16      0.27        50\n",
      "           1       0.37      0.93      0.53        27\n",
      "\n",
      "    accuracy                           0.43        77\n",
      "   macro avg       0.59      0.54      0.40        77\n",
      "weighted avg       0.65      0.43      0.36        77\n",
      "\n",
      "-------------------------------------------------------------------------------------------------------------------\n"
     ]
    },
    {
     "name": "stderr",
     "output_type": "stream",
     "text": [
      "[Parallel(n_jobs=-1)]: Using backend LokyBackend with 12 concurrent workers.\n",
      "[Parallel(n_jobs=-1)]: Done   1 out of   1 | elapsed:  6.0min finished\n"
     ]
    },
    {
     "name": "stdout",
     "output_type": "stream",
     "text": [
      "K-Fold #7\n",
      "Mean negativities for all classes: [0.2599230084263607]\n",
      "Mean entropies for all classes: [5.897779119342651e-15]\n",
      "              precision    recall  f1-score   support\n",
      "\n",
      "           0       0.92      0.22      0.35        50\n",
      "           1       0.40      0.96      0.57        27\n",
      "\n",
      "    accuracy                           0.48        77\n",
      "   macro avg       0.66      0.59      0.46        77\n",
      "weighted avg       0.74      0.48      0.43        77\n",
      "\n",
      "-------------------------------------------------------------------------------------------------------------------\n"
     ]
    },
    {
     "name": "stderr",
     "output_type": "stream",
     "text": [
      "[Parallel(n_jobs=-1)]: Using backend LokyBackend with 12 concurrent workers.\n",
      "[Parallel(n_jobs=-1)]: Done   1 out of   1 | elapsed:  6.0min finished\n"
     ]
    },
    {
     "name": "stdout",
     "output_type": "stream",
     "text": [
      "K-Fold #8\n",
      "Mean negativities for all classes: [0.2632903900099351]\n",
      "Mean entropies for all classes: [6.163673310157777e-15]\n",
      "              precision    recall  f1-score   support\n",
      "\n",
      "           0       0.92      0.22      0.35        50\n",
      "           1       0.39      0.96      0.56        26\n",
      "\n",
      "    accuracy                           0.47        76\n",
      "   macro avg       0.65      0.59      0.46        76\n",
      "weighted avg       0.74      0.47      0.42        76\n",
      "\n",
      "-------------------------------------------------------------------------------------------------------------------\n"
     ]
    },
    {
     "name": "stderr",
     "output_type": "stream",
     "text": [
      "[Parallel(n_jobs=-1)]: Using backend LokyBackend with 12 concurrent workers.\n",
      "[Parallel(n_jobs=-1)]: Done   1 out of   1 | elapsed:  6.0min finished\n"
     ]
    },
    {
     "name": "stdout",
     "output_type": "stream",
     "text": [
      "K-Fold #9\n",
      "Mean negativities for all classes: [0.27046160247469103]\n",
      "Mean entropies for all classes: [6.208152386775491e-15]\n",
      "              precision    recall  f1-score   support\n",
      "\n",
      "           0       0.78      0.14      0.24        50\n",
      "           1       0.36      0.92      0.52        26\n",
      "\n",
      "    accuracy                           0.41        76\n",
      "   macro avg       0.57      0.53      0.38        76\n",
      "weighted avg       0.63      0.41      0.33        76\n",
      "\n",
      "-------------------------------------------------------------------------------------------------------------------\n",
      "AVG: Scores = 0.4504955570745045 F1-Scores = 0.4228101791018079 Negativity = [0.27032268468300624, 0.2622198945206412] Entropy = [6.152675020298074e-15, 6.3903985864894145e-15]\n"
     ]
    },
    {
     "name": "stderr",
     "output_type": "stream",
     "text": [
      "[Parallel(n_jobs=-1)]: Using backend LokyBackend with 12 concurrent workers.\n",
      "[Parallel(n_jobs=-1)]: Done   1 out of   1 | elapsed:  6.0min finished\n"
     ]
    },
    {
     "name": "stdout",
     "output_type": "stream",
     "text": [
      "K-Fold #0\n",
      "Mean negativities for all classes: [0.26814831812553086]\n",
      "Mean entropies for all classes: [6.167934058199594e-15]\n",
      "              precision    recall  f1-score   support\n",
      "\n",
      "           0       0.83      0.10      0.18        50\n",
      "           1       0.37      0.96      0.53        27\n",
      "\n",
      "    accuracy                           0.40        77\n",
      "   macro avg       0.60      0.53      0.35        77\n",
      "weighted avg       0.67      0.40      0.30        77\n",
      "\n",
      "-------------------------------------------------------------------------------------------------------------------\n"
     ]
    },
    {
     "name": "stderr",
     "output_type": "stream",
     "text": [
      "[Parallel(n_jobs=-1)]: Using backend LokyBackend with 12 concurrent workers.\n",
      "[Parallel(n_jobs=-1)]: Done   1 out of   1 | elapsed:  6.0min finished\n"
     ]
    },
    {
     "name": "stdout",
     "output_type": "stream",
     "text": [
      "K-Fold #1\n",
      "Mean negativities for all classes: [0.2706274390163666]\n",
      "Mean entropies for all classes: [6.304487681520781e-15]\n",
      "              precision    recall  f1-score   support\n",
      "\n",
      "           0       0.92      0.22      0.35        50\n",
      "           1       0.40      0.96      0.57        27\n",
      "\n",
      "    accuracy                           0.48        77\n",
      "   macro avg       0.66      0.59      0.46        77\n",
      "weighted avg       0.74      0.48      0.43        77\n",
      "\n",
      "-------------------------------------------------------------------------------------------------------------------\n"
     ]
    },
    {
     "name": "stderr",
     "output_type": "stream",
     "text": [
      "[Parallel(n_jobs=-1)]: Using backend LokyBackend with 12 concurrent workers.\n",
      "[Parallel(n_jobs=-1)]: Done   1 out of   1 | elapsed:  6.0min finished\n"
     ]
    },
    {
     "name": "stdout",
     "output_type": "stream",
     "text": [
      "K-Fold #2\n",
      "Mean negativities for all classes: [0.26853367677200074]\n",
      "Mean entropies for all classes: [6.32732319461739e-15]\n",
      "              precision    recall  f1-score   support\n",
      "\n",
      "           0       1.00      0.08      0.15        50\n",
      "           1       0.37      1.00      0.54        27\n",
      "\n",
      "    accuracy                           0.40        77\n",
      "   macro avg       0.68      0.54      0.34        77\n",
      "weighted avg       0.78      0.40      0.29        77\n",
      "\n",
      "-------------------------------------------------------------------------------------------------------------------\n"
     ]
    },
    {
     "name": "stderr",
     "output_type": "stream",
     "text": [
      "[Parallel(n_jobs=-1)]: Using backend LokyBackend with 12 concurrent workers.\n",
      "[Parallel(n_jobs=-1)]: Done   1 out of   1 | elapsed:  6.0min finished\n"
     ]
    },
    {
     "name": "stdout",
     "output_type": "stream",
     "text": [
      "K-Fold #3\n",
      "Mean negativities for all classes: [0.2622893530925797]\n",
      "Mean entropies for all classes: [6.03095017507189e-15]\n",
      "              precision    recall  f1-score   support\n",
      "\n",
      "           0       0.90      0.18      0.30        50\n",
      "           1       0.39      0.96      0.55        27\n",
      "\n",
      "    accuracy                           0.45        77\n",
      "   macro avg       0.64      0.57      0.43        77\n",
      "weighted avg       0.72      0.45      0.39        77\n",
      "\n",
      "-------------------------------------------------------------------------------------------------------------------\n"
     ]
    },
    {
     "name": "stderr",
     "output_type": "stream",
     "text": [
      "[Parallel(n_jobs=-1)]: Using backend LokyBackend with 12 concurrent workers.\n",
      "[Parallel(n_jobs=-1)]: Done   1 out of   1 | elapsed:  6.0min finished\n"
     ]
    },
    {
     "name": "stdout",
     "output_type": "stream",
     "text": [
      "K-Fold #4\n",
      "Mean negativities for all classes: [0.27065071438524796]\n",
      "Mean entropies for all classes: [6.342318002925522e-15]\n",
      "              precision    recall  f1-score   support\n",
      "\n",
      "           0       0.83      0.20      0.32        50\n",
      "           1       0.38      0.93      0.54        27\n",
      "\n",
      "    accuracy                           0.45        77\n",
      "   macro avg       0.61      0.56      0.43        77\n",
      "weighted avg       0.68      0.45      0.40        77\n",
      "\n",
      "-------------------------------------------------------------------------------------------------------------------\n"
     ]
    },
    {
     "name": "stderr",
     "output_type": "stream",
     "text": [
      "[Parallel(n_jobs=-1)]: Using backend LokyBackend with 12 concurrent workers.\n",
      "[Parallel(n_jobs=-1)]: Done   1 out of   1 | elapsed:  6.0min finished\n"
     ]
    },
    {
     "name": "stdout",
     "output_type": "stream",
     "text": [
      "K-Fold #5\n",
      "Mean negativities for all classes: [0.2701766981572621]\n",
      "Mean entropies for all classes: [6.026847907112146e-15]\n",
      "              precision    recall  f1-score   support\n",
      "\n",
      "           0       0.85      0.22      0.35        50\n",
      "           1       0.39      0.93      0.55        27\n",
      "\n",
      "    accuracy                           0.47        77\n",
      "   macro avg       0.62      0.57      0.45        77\n",
      "weighted avg       0.69      0.47      0.42        77\n",
      "\n",
      "-------------------------------------------------------------------------------------------------------------------\n"
     ]
    },
    {
     "name": "stderr",
     "output_type": "stream",
     "text": [
      "[Parallel(n_jobs=-1)]: Using backend LokyBackend with 12 concurrent workers.\n",
      "[Parallel(n_jobs=-1)]: Done   1 out of   1 | elapsed:  6.0min finished\n"
     ]
    },
    {
     "name": "stdout",
     "output_type": "stream",
     "text": [
      "K-Fold #6\n",
      "Mean negativities for all classes: [0.2694727172893715]\n",
      "Mean entropies for all classes: [6.135270916922892e-15]\n",
      "              precision    recall  f1-score   support\n",
      "\n",
      "           0       0.88      0.14      0.24        50\n",
      "           1       0.38      0.96      0.54        27\n",
      "\n",
      "    accuracy                           0.43        77\n",
      "   macro avg       0.63      0.55      0.39        77\n",
      "weighted avg       0.70      0.43      0.35        77\n",
      "\n",
      "-------------------------------------------------------------------------------------------------------------------\n"
     ]
    },
    {
     "name": "stderr",
     "output_type": "stream",
     "text": [
      "[Parallel(n_jobs=-1)]: Using backend LokyBackend with 12 concurrent workers.\n",
      "[Parallel(n_jobs=-1)]: Done   1 out of   1 | elapsed:  6.0min finished\n"
     ]
    },
    {
     "name": "stdout",
     "output_type": "stream",
     "text": [
      "K-Fold #7\n",
      "Mean negativities for all classes: [0.2696512758237735]\n",
      "Mean entropies for all classes: [6.150213403929271e-15]\n",
      "              precision    recall  f1-score   support\n",
      "\n",
      "           0       1.00      0.12      0.21        50\n",
      "           1       0.38      1.00      0.55        27\n",
      "\n",
      "    accuracy                           0.43        77\n",
      "   macro avg       0.69      0.56      0.38        77\n",
      "weighted avg       0.78      0.43      0.33        77\n",
      "\n",
      "-------------------------------------------------------------------------------------------------------------------\n"
     ]
    },
    {
     "name": "stderr",
     "output_type": "stream",
     "text": [
      "[Parallel(n_jobs=-1)]: Using backend LokyBackend with 12 concurrent workers.\n",
      "[Parallel(n_jobs=-1)]: Done   1 out of   1 | elapsed:  5.9min finished\n"
     ]
    },
    {
     "name": "stdout",
     "output_type": "stream",
     "text": [
      "K-Fold #8\n",
      "Mean negativities for all classes: [0.2700000488780873]\n",
      "Mean entropies for all classes: [6.11757433780823e-15]\n",
      "              precision    recall  f1-score   support\n",
      "\n",
      "           0       0.91      0.20      0.33        50\n",
      "           1       0.38      0.96      0.55        26\n",
      "\n",
      "    accuracy                           0.46        76\n",
      "   macro avg       0.65      0.58      0.44        76\n",
      "weighted avg       0.73      0.46      0.40        76\n",
      "\n",
      "-------------------------------------------------------------------------------------------------------------------\n"
     ]
    },
    {
     "name": "stderr",
     "output_type": "stream",
     "text": [
      "[Parallel(n_jobs=-1)]: Using backend LokyBackend with 12 concurrent workers.\n",
      "[Parallel(n_jobs=-1)]: Done   1 out of   1 | elapsed:  5.9min finished\n"
     ]
    },
    {
     "name": "stdout",
     "output_type": "stream",
     "text": [
      "K-Fold #9\n",
      "Mean negativities for all classes: [0.2711765689543621]\n",
      "Mean entropies for all classes: [6.376033313552503e-15]\n",
      "              precision    recall  f1-score   support\n",
      "\n",
      "           0       0.83      0.30      0.44        50\n",
      "           1       0.40      0.88      0.55        26\n",
      "\n",
      "    accuracy                           0.50        76\n",
      "   macro avg       0.61      0.59      0.49        76\n",
      "weighted avg       0.68      0.50      0.48        76\n",
      "\n",
      "-------------------------------------------------------------------------------------------------------------------\n",
      "AVG: Scores = 0.4480006835269993 F1-Scores = 0.41748811181130413 Negativity = [0.26814831812553086, 0.2706274390163666] Entropy = [6.167934058199594e-15, 6.304487681520781e-15]\n"
     ]
    },
    {
     "name": "stderr",
     "output_type": "stream",
     "text": [
      "[Parallel(n_jobs=-1)]: Using backend LokyBackend with 12 concurrent workers.\n",
      "[Parallel(n_jobs=-1)]: Done   1 out of   1 | elapsed:  5.9min finished\n"
     ]
    },
    {
     "name": "stdout",
     "output_type": "stream",
     "text": [
      "K-Fold #0\n",
      "Mean negativities for all classes: [0.2605555598783412]\n",
      "Mean entropies for all classes: [6.1565747143681284e-15]\n",
      "              precision    recall  f1-score   support\n",
      "\n",
      "           0       0.75      0.12      0.21        50\n",
      "           1       0.36      0.93      0.52        27\n",
      "\n",
      "    accuracy                           0.40        77\n",
      "   macro avg       0.56      0.52      0.36        77\n",
      "weighted avg       0.61      0.40      0.32        77\n",
      "\n",
      "-------------------------------------------------------------------------------------------------------------------\n"
     ]
    },
    {
     "name": "stderr",
     "output_type": "stream",
     "text": [
      "[Parallel(n_jobs=-1)]: Using backend LokyBackend with 12 concurrent workers.\n",
      "[Parallel(n_jobs=-1)]: Done   1 out of   1 | elapsed:  6.0min finished\n"
     ]
    },
    {
     "name": "stdout",
     "output_type": "stream",
     "text": [
      "K-Fold #1\n",
      "Mean negativities for all classes: [0.27401411137573783]\n",
      "Mean entropies for all classes: [6.317173208774788e-15]\n",
      "              precision    recall  f1-score   support\n",
      "\n",
      "           0       0.78      0.14      0.24        50\n",
      "           1       0.37      0.93      0.53        27\n",
      "\n",
      "    accuracy                           0.42        77\n",
      "   macro avg       0.57      0.53      0.38        77\n",
      "weighted avg       0.63      0.42      0.34        77\n",
      "\n",
      "-------------------------------------------------------------------------------------------------------------------\n"
     ]
    },
    {
     "name": "stderr",
     "output_type": "stream",
     "text": [
      "[Parallel(n_jobs=-1)]: Using backend LokyBackend with 12 concurrent workers.\n",
      "[Parallel(n_jobs=-1)]: Done   1 out of   1 | elapsed:  6.0min finished\n"
     ]
    },
    {
     "name": "stdout",
     "output_type": "stream",
     "text": [
      "K-Fold #2\n",
      "Mean negativities for all classes: [0.26948320808465714]\n",
      "Mean entropies for all classes: [6.023382354830143e-15]\n",
      "              precision    recall  f1-score   support\n",
      "\n",
      "           0       1.00      0.22      0.36        50\n",
      "           1       0.41      1.00      0.58        27\n",
      "\n",
      "    accuracy                           0.49        77\n",
      "   macro avg       0.70      0.61      0.47        77\n",
      "weighted avg       0.79      0.49      0.44        77\n",
      "\n",
      "-------------------------------------------------------------------------------------------------------------------\n"
     ]
    },
    {
     "name": "stderr",
     "output_type": "stream",
     "text": [
      "[Parallel(n_jobs=-1)]: Using backend LokyBackend with 12 concurrent workers.\n",
      "[Parallel(n_jobs=-1)]: Done   1 out of   1 | elapsed:  6.0min finished\n"
     ]
    },
    {
     "name": "stdout",
     "output_type": "stream",
     "text": [
      "K-Fold #3\n",
      "Mean negativities for all classes: [0.26963610662406007]\n",
      "Mean entropies for all classes: [5.988756073046079e-15]\n",
      "              precision    recall  f1-score   support\n",
      "\n",
      "           0       0.89      0.16      0.27        50\n",
      "           1       0.38      0.96      0.55        27\n",
      "\n",
      "    accuracy                           0.44        77\n",
      "   macro avg       0.64      0.56      0.41        77\n",
      "weighted avg       0.71      0.44      0.37        77\n",
      "\n",
      "-------------------------------------------------------------------------------------------------------------------\n"
     ]
    },
    {
     "name": "stderr",
     "output_type": "stream",
     "text": [
      "[Parallel(n_jobs=-1)]: Using backend LokyBackend with 12 concurrent workers.\n",
      "[Parallel(n_jobs=-1)]: Done   1 out of   1 | elapsed:  5.9min finished\n"
     ]
    },
    {
     "name": "stdout",
     "output_type": "stream",
     "text": [
      "K-Fold #4\n",
      "Mean negativities for all classes: [0.2710884199874921]\n",
      "Mean entropies for all classes: [5.608521420282109e-15]\n",
      "              precision    recall  f1-score   support\n",
      "\n",
      "           0       0.73      0.22      0.34        50\n",
      "           1       0.37      0.85      0.52        27\n",
      "\n",
      "    accuracy                           0.44        77\n",
      "   macro avg       0.55      0.54      0.43        77\n",
      "weighted avg       0.61      0.44      0.40        77\n",
      "\n",
      "-------------------------------------------------------------------------------------------------------------------\n"
     ]
    },
    {
     "name": "stderr",
     "output_type": "stream",
     "text": [
      "[Parallel(n_jobs=-1)]: Using backend LokyBackend with 12 concurrent workers.\n",
      "[Parallel(n_jobs=-1)]: Done   1 out of   1 | elapsed:  5.9min finished\n"
     ]
    },
    {
     "name": "stdout",
     "output_type": "stream",
     "text": [
      "K-Fold #5\n",
      "Mean negativities for all classes: [0.25922513644409256]\n",
      "Mean entropies for all classes: [6.1075960526574704e-15]\n",
      "              precision    recall  f1-score   support\n",
      "\n",
      "           0       1.00      0.20      0.33        50\n",
      "           1       0.40      1.00      0.57        27\n",
      "\n",
      "    accuracy                           0.48        77\n",
      "   macro avg       0.70      0.60      0.45        77\n",
      "weighted avg       0.79      0.48      0.42        77\n",
      "\n",
      "-------------------------------------------------------------------------------------------------------------------\n"
     ]
    },
    {
     "name": "stderr",
     "output_type": "stream",
     "text": [
      "[Parallel(n_jobs=-1)]: Using backend LokyBackend with 12 concurrent workers.\n",
      "[Parallel(n_jobs=-1)]: Done   1 out of   1 | elapsed:  5.9min finished\n"
     ]
    },
    {
     "name": "stdout",
     "output_type": "stream",
     "text": [
      "K-Fold #6\n",
      "Mean negativities for all classes: [0.2590093168621557]\n",
      "Mean entropies for all classes: [6.119320869976387e-15]\n",
      "              precision    recall  f1-score   support\n",
      "\n",
      "           0       1.00      0.16      0.28        50\n",
      "           1       0.39      1.00      0.56        27\n",
      "\n",
      "    accuracy                           0.45        77\n",
      "   macro avg       0.70      0.58      0.42        77\n",
      "weighted avg       0.79      0.45      0.38        77\n",
      "\n",
      "-------------------------------------------------------------------------------------------------------------------\n"
     ]
    },
    {
     "name": "stderr",
     "output_type": "stream",
     "text": [
      "[Parallel(n_jobs=-1)]: Using backend LokyBackend with 12 concurrent workers.\n",
      "[Parallel(n_jobs=-1)]: Done   1 out of   1 | elapsed:  5.9min finished\n"
     ]
    },
    {
     "name": "stdout",
     "output_type": "stream",
     "text": [
      "K-Fold #7\n",
      "Mean negativities for all classes: [0.2738246596172349]\n",
      "Mean entropies for all classes: [6.533820411133691e-15]\n",
      "              precision    recall  f1-score   support\n",
      "\n",
      "           0       0.79      0.22      0.34        50\n",
      "           1       0.38      0.89      0.53        27\n",
      "\n",
      "    accuracy                           0.45        77\n",
      "   macro avg       0.58      0.55      0.44        77\n",
      "weighted avg       0.64      0.45      0.41        77\n",
      "\n",
      "-------------------------------------------------------------------------------------------------------------------\n"
     ]
    },
    {
     "name": "stderr",
     "output_type": "stream",
     "text": [
      "[Parallel(n_jobs=-1)]: Using backend LokyBackend with 12 concurrent workers.\n",
      "[Parallel(n_jobs=-1)]: Done   1 out of   1 | elapsed:  6.0min finished\n"
     ]
    },
    {
     "name": "stdout",
     "output_type": "stream",
     "text": [
      "K-Fold #8\n",
      "Mean negativities for all classes: [0.2624572215296679]\n",
      "Mean entropies for all classes: [5.7429765680866336e-15]\n",
      "              precision    recall  f1-score   support\n",
      "\n",
      "           0       0.93      0.26      0.41        50\n",
      "           1       0.40      0.96      0.57        26\n",
      "\n",
      "    accuracy                           0.50        76\n",
      "   macro avg       0.67      0.61      0.49        76\n",
      "weighted avg       0.75      0.50      0.46        76\n",
      "\n",
      "-------------------------------------------------------------------------------------------------------------------\n"
     ]
    },
    {
     "name": "stderr",
     "output_type": "stream",
     "text": [
      "[Parallel(n_jobs=-1)]: Using backend LokyBackend with 12 concurrent workers.\n",
      "[Parallel(n_jobs=-1)]: Done   1 out of   1 | elapsed:  5.9min finished\n"
     ]
    },
    {
     "name": "stdout",
     "output_type": "stream",
     "text": [
      "K-Fold #9\n",
      "Mean negativities for all classes: [0.27090807211522033]\n",
      "Mean entropies for all classes: [6.1007716218239155e-15]\n",
      "              precision    recall  f1-score   support\n",
      "\n",
      "           0       1.00      0.18      0.31        50\n",
      "           1       0.39      1.00      0.56        26\n",
      "\n",
      "    accuracy                           0.46        76\n",
      "   macro avg       0.69      0.59      0.43        76\n",
      "weighted avg       0.79      0.46      0.39        76\n",
      "\n",
      "-------------------------------------------------------------------------------------------------------------------\n",
      "AVG: Scores = 0.4544941900205058 F1-Scores = 0.42842041057626784 Negativity = [0.2605555598783412, 0.27401411137573783] Entropy = [6.1565747143681284e-15, 6.317173208774788e-15]\n"
     ]
    },
    {
     "name": "stderr",
     "output_type": "stream",
     "text": [
      "[Parallel(n_jobs=-1)]: Using backend LokyBackend with 12 concurrent workers.\n",
      "[Parallel(n_jobs=-1)]: Done   1 out of   1 | elapsed:  5.9min finished\n"
     ]
    },
    {
     "name": "stdout",
     "output_type": "stream",
     "text": [
      "K-Fold #0\n",
      "Mean negativities for all classes: [0.27230274566408375]\n",
      "Mean entropies for all classes: [5.978072393846017e-15]\n",
      "              precision    recall  f1-score   support\n",
      "\n",
      "           0       0.92      0.24      0.38        50\n",
      "           1       0.41      0.96      0.57        27\n",
      "\n",
      "    accuracy                           0.49        77\n",
      "   macro avg       0.66      0.60      0.48        77\n",
      "weighted avg       0.74      0.49      0.45        77\n",
      "\n",
      "-------------------------------------------------------------------------------------------------------------------\n"
     ]
    },
    {
     "name": "stderr",
     "output_type": "stream",
     "text": [
      "[Parallel(n_jobs=-1)]: Using backend LokyBackend with 12 concurrent workers.\n",
      "[Parallel(n_jobs=-1)]: Done   1 out of   1 | elapsed:  5.9min finished\n"
     ]
    },
    {
     "name": "stdout",
     "output_type": "stream",
     "text": [
      "K-Fold #1\n",
      "Mean negativities for all classes: [0.2723137541012]\n",
      "Mean entropies for all classes: [6.053082213788765e-15]\n",
      "              precision    recall  f1-score   support\n",
      "\n",
      "           0       0.80      0.24      0.37        50\n",
      "           1       0.39      0.89      0.54        27\n",
      "\n",
      "    accuracy                           0.47        77\n",
      "   macro avg       0.59      0.56      0.45        77\n",
      "weighted avg       0.66      0.47      0.43        77\n",
      "\n",
      "-------------------------------------------------------------------------------------------------------------------\n"
     ]
    },
    {
     "name": "stderr",
     "output_type": "stream",
     "text": [
      "[Parallel(n_jobs=-1)]: Using backend LokyBackend with 12 concurrent workers.\n",
      "[Parallel(n_jobs=-1)]: Done   1 out of   1 | elapsed:  5.9min finished\n"
     ]
    },
    {
     "name": "stdout",
     "output_type": "stream",
     "text": [
      "K-Fold #2\n",
      "Mean negativities for all classes: [0.25429010490664433]\n",
      "Mean entropies for all classes: [6.21121714407127e-15]\n",
      "              precision    recall  f1-score   support\n",
      "\n",
      "           0       1.00      0.20      0.33        50\n",
      "           1       0.40      1.00      0.57        27\n",
      "\n",
      "    accuracy                           0.48        77\n",
      "   macro avg       0.70      0.60      0.45        77\n",
      "weighted avg       0.79      0.48      0.42        77\n",
      "\n",
      "-------------------------------------------------------------------------------------------------------------------\n"
     ]
    },
    {
     "name": "stderr",
     "output_type": "stream",
     "text": [
      "[Parallel(n_jobs=-1)]: Using backend LokyBackend with 12 concurrent workers.\n",
      "[Parallel(n_jobs=-1)]: Done   1 out of   1 | elapsed:  5.9min finished\n"
     ]
    },
    {
     "name": "stdout",
     "output_type": "stream",
     "text": [
      "K-Fold #3\n",
      "Mean negativities for all classes: [0.2687467974818656]\n",
      "Mean entropies for all classes: [6.115639617064014e-15]\n",
      "              precision    recall  f1-score   support\n",
      "\n",
      "           0       1.00      0.16      0.28        50\n",
      "           1       0.39      1.00      0.56        27\n",
      "\n",
      "    accuracy                           0.45        77\n",
      "   macro avg       0.70      0.58      0.42        77\n",
      "weighted avg       0.79      0.45      0.38        77\n",
      "\n",
      "-------------------------------------------------------------------------------------------------------------------\n"
     ]
    },
    {
     "name": "stderr",
     "output_type": "stream",
     "text": [
      "[Parallel(n_jobs=-1)]: Using backend LokyBackend with 12 concurrent workers.\n",
      "[Parallel(n_jobs=-1)]: Done   1 out of   1 | elapsed:  5.9min finished\n"
     ]
    },
    {
     "name": "stdout",
     "output_type": "stream",
     "text": [
      "K-Fold #4\n",
      "Mean negativities for all classes: [0.2677327523915144]\n",
      "Mean entropies for all classes: [5.8824247744336134e-15]\n",
      "              precision    recall  f1-score   support\n",
      "\n",
      "           0       1.00      0.14      0.25        50\n",
      "           1       0.39      1.00      0.56        27\n",
      "\n",
      "    accuracy                           0.44        77\n",
      "   macro avg       0.69      0.57      0.40        77\n",
      "weighted avg       0.78      0.44      0.35        77\n",
      "\n",
      "-------------------------------------------------------------------------------------------------------------------\n"
     ]
    },
    {
     "name": "stderr",
     "output_type": "stream",
     "text": [
      "[Parallel(n_jobs=-1)]: Using backend LokyBackend with 12 concurrent workers.\n",
      "[Parallel(n_jobs=-1)]: Done   1 out of   1 | elapsed:  5.9min finished\n"
     ]
    },
    {
     "name": "stdout",
     "output_type": "stream",
     "text": [
      "K-Fold #5\n",
      "Mean negativities for all classes: [0.27172699575796044]\n",
      "Mean entropies for all classes: [6.159647483790207e-15]\n",
      "              precision    recall  f1-score   support\n",
      "\n",
      "           0       0.62      0.16      0.25        50\n",
      "           1       0.34      0.81      0.48        27\n",
      "\n",
      "    accuracy                           0.39        77\n",
      "   macro avg       0.48      0.49      0.37        77\n",
      "weighted avg       0.52      0.39      0.33        77\n",
      "\n",
      "-------------------------------------------------------------------------------------------------------------------\n"
     ]
    },
    {
     "name": "stderr",
     "output_type": "stream",
     "text": [
      "[Parallel(n_jobs=-1)]: Using backend LokyBackend with 12 concurrent workers.\n",
      "[Parallel(n_jobs=-1)]: Done   1 out of   1 | elapsed:  5.9min finished\n"
     ]
    },
    {
     "name": "stdout",
     "output_type": "stream",
     "text": [
      "K-Fold #6\n",
      "Mean negativities for all classes: [0.2741402176663342]\n",
      "Mean entropies for all classes: [6.160145048540736e-15]\n",
      "              precision    recall  f1-score   support\n",
      "\n",
      "           0       0.79      0.22      0.34        50\n",
      "           1       0.38      0.89      0.53        27\n",
      "\n",
      "    accuracy                           0.45        77\n",
      "   macro avg       0.58      0.55      0.44        77\n",
      "weighted avg       0.64      0.45      0.41        77\n",
      "\n",
      "-------------------------------------------------------------------------------------------------------------------\n"
     ]
    },
    {
     "name": "stderr",
     "output_type": "stream",
     "text": [
      "[Parallel(n_jobs=-1)]: Using backend LokyBackend with 12 concurrent workers.\n",
      "[Parallel(n_jobs=-1)]: Done   1 out of   1 | elapsed:  5.9min finished\n"
     ]
    },
    {
     "name": "stdout",
     "output_type": "stream",
     "text": [
      "K-Fold #7\n",
      "Mean negativities for all classes: [0.2597552287768891]\n",
      "Mean entropies for all classes: [6.146949919186005e-15]\n",
      "              precision    recall  f1-score   support\n",
      "\n",
      "           0       0.78      0.14      0.24        50\n",
      "           1       0.37      0.93      0.53        27\n",
      "\n",
      "    accuracy                           0.42        77\n",
      "   macro avg       0.57      0.53      0.38        77\n",
      "weighted avg       0.63      0.42      0.34        77\n",
      "\n",
      "-------------------------------------------------------------------------------------------------------------------\n"
     ]
    },
    {
     "name": "stderr",
     "output_type": "stream",
     "text": [
      "[Parallel(n_jobs=-1)]: Using backend LokyBackend with 12 concurrent workers.\n",
      "[Parallel(n_jobs=-1)]: Done   1 out of   1 | elapsed:  5.9min finished\n"
     ]
    },
    {
     "name": "stdout",
     "output_type": "stream",
     "text": [
      "K-Fold #8\n",
      "Mean negativities for all classes: [0.2626059580518298]\n",
      "Mean entropies for all classes: [6.018045141072336e-15]\n",
      "              precision    recall  f1-score   support\n",
      "\n",
      "           0       0.86      0.24      0.38        50\n",
      "           1       0.39      0.92      0.55        26\n",
      "\n",
      "    accuracy                           0.47        76\n",
      "   macro avg       0.62      0.58      0.46        76\n",
      "weighted avg       0.70      0.47      0.43        76\n",
      "\n",
      "-------------------------------------------------------------------------------------------------------------------\n"
     ]
    },
    {
     "name": "stderr",
     "output_type": "stream",
     "text": [
      "[Parallel(n_jobs=-1)]: Using backend LokyBackend with 12 concurrent workers.\n",
      "[Parallel(n_jobs=-1)]: Done   1 out of   1 | elapsed:  5.9min finished\n"
     ]
    },
    {
     "name": "stdout",
     "output_type": "stream",
     "text": [
      "K-Fold #9\n",
      "Mean negativities for all classes: [0.26976863999545847]\n",
      "Mean entropies for all classes: [6.2371206740303785e-15]\n",
      "              precision    recall  f1-score   support\n",
      "\n",
      "           0       0.75      0.12      0.21        50\n",
      "           1       0.35      0.92      0.51        26\n",
      "\n",
      "    accuracy                           0.39        76\n",
      "   macro avg       0.55      0.52      0.36        76\n",
      "weighted avg       0.61      0.39      0.31        76\n",
      "\n",
      "-------------------------------------------------------------------------------------------------------------------\n",
      "AVG: Scores = 0.44658236500341764 F1-Scores = 0.4212788754332569 Negativity = [0.27230274566408375, 0.2723137541012] Entropy = [5.978072393846017e-15, 6.053082213788765e-15]\n",
      "CPU times: total: 2min 34s\n",
      "Wall time: 9h 53min 37s\n"
     ]
    }
   ],
   "source": [
    "%%time\n",
    "scores_list = []\n",
    "f1scores_list = []\n",
    "negativities_list = []\n",
    "for SEED in range(n_times_kfold):\n",
    "    scores, f1scores, output_dict = execute_training_test_k_fold(\n",
    "                    X, \n",
    "                    y, \n",
    "                    k_folds=k_times_fold,\n",
    "                    random_seed = SEED, \n",
    "                    classifier_function=classifier_function, \n",
    "                    dic_classifier_params=dic_classifier_params,\n",
    "                    one_vs_classifier=OneVsRestClassifier, \n",
    "                    dic_training_params=dic_training_params,\n",
    "                    print_each_fold_metric=True,\n",
    "                    print_avg_metric=True)\n",
    "    scores_list.append(scores)\n",
    "    f1scores_list.append(f1scores)\n",
    "    negativities_list.append(output_dict[\"negativities\"])"
   ]
  },
  {
   "cell_type": "code",
   "execution_count": 10,
   "id": "168e8aff",
   "metadata": {},
   "outputs": [
    {
     "name": "stdout",
     "output_type": "stream",
     "text": [
      "Media Score dos N K-Fold 0.4493472317156527\n",
      "Maior Score dos K-Fold 0.4544941900205058\n",
      "Min Score dos K-Fold 0.44646274777853723\n",
      "Media Score dos K-Fold [0.44646274777853723, 0.44659945317840055, 0.4492481203007518, 0.4492822966507176, 0.45047846889952153, 0.4518284347231716, 0.4504955570745045, 0.4480006835269993, 0.4544941900205058, 0.44658236500341764]\n",
      "\n",
      "\n",
      "[[0.44155844155844154, 0.45454545454545453, 0.44155844155844154, 0.4675324675324675, 0.5064935064935064, 0.42857142857142855, 0.5064935064935064, 0.44155844155844154, 0.34210526315789475, 0.4342105263157895], [0.42857142857142855, 0.42857142857142855, 0.4155844155844156, 0.5454545454545454, 0.44155844155844154, 0.42857142857142855, 0.44155844155844154, 0.45454545454545453, 0.4342105263157895, 0.4473684210526316], [0.44155844155844154, 0.44155844155844154, 0.5714285714285714, 0.44155844155844154, 0.37662337662337664, 0.45454545454545453, 0.38961038961038963, 0.45454545454545453, 0.4868421052631579, 0.4342105263157895], [0.37662337662337664, 0.42857142857142855, 0.5454545454545454, 0.4675324675324675, 0.4025974025974026, 0.5064935064935064, 0.42857142857142855, 0.38961038961038963, 0.4605263157894737, 0.4868421052631579], [0.42857142857142855, 0.4935064935064935, 0.42857142857142855, 0.4155844155844156, 0.4935064935064935, 0.45454545454545453, 0.5194805194805194, 0.4025974025974026, 0.42105263157894735, 0.4473684210526316], [0.4155844155844156, 0.5194805194805194, 0.44155844155844154, 0.44155844155844154, 0.37662337662337664, 0.42857142857142855, 0.4935064935064935, 0.4935064935064935, 0.5, 0.40789473684210525], [0.45454545454545453, 0.44155844155844154, 0.44155844155844154, 0.4805194805194805, 0.4805194805194805, 0.4155844155844156, 0.42857142857142855, 0.4805194805194805, 0.47368421052631576, 0.40789473684210525], [0.4025974025974026, 0.4805194805194805, 0.4025974025974026, 0.45454545454545453, 0.45454545454545453, 0.4675324675324675, 0.42857142857142855, 0.42857142857142855, 0.4605263157894737, 0.5], [0.4025974025974026, 0.4155844155844156, 0.4935064935064935, 0.44155844155844154, 0.44155844155844154, 0.4805194805194805, 0.45454545454545453, 0.45454545454545453, 0.5, 0.4605263157894737], [0.4935064935064935, 0.4675324675324675, 0.4805194805194805, 0.45454545454545453, 0.44155844155844154, 0.38961038961038963, 0.45454545454545453, 0.4155844155844156, 0.47368421052631576, 0.39473684210526316]]\n"
     ]
    }
   ],
   "source": [
    "print(\"Media Score dos N K-Fold\", np.mean([np.mean(i) for i in scores_list]))\n",
    "print(\"Maior Score dos K-Fold\", max([np.mean(i) for i in scores_list]))\n",
    "print(\"Min Score dos K-Fold\", min([np.mean(i) for i in scores_list]))\n",
    "\n",
    "print(\"Media Score dos K-Fold\", [np.mean(i) for i in scores_list])\n",
    "print()\n",
    "print()\n",
    "print(scores_list)"
   ]
  },
  {
   "cell_type": "code",
   "execution_count": 11,
   "id": "fcd239e5",
   "metadata": {},
   "outputs": [
    {
     "name": "stdout",
     "output_type": "stream",
     "text": [
      "Media F1Score dos N K-Fold 0.422138873766325\n",
      "Maior F1Score dos K-Fold 0.42842041057626784\n",
      "Maior F1Score dos K-Fold 0.41748811181130413\n",
      "Media F1Score dos K-Fold [0.41895233467517556, 0.4187931068295162, 0.4221396816856502, 0.42397244844084137, 0.42270165651492303, 0.4248319325945064, 0.4228101791018079, 0.41748811181130413, 0.42842041057626784, 0.4212788754332569]\n",
      "\n",
      "\n",
      "[[0.4011575330077772, 0.42659574468085104, 0.4092774308652989, 0.4493284493284493, 0.48702664796633943, 0.38265306122448983, 0.49201388888888886, 0.4163581879076326, 0.3030080704328687, 0.42210433244916], [0.406030855539972, 0.3915229885057472, 0.36363636363636365, 0.5376565448618974, 0.4163581879076326, 0.3915229885057472, 0.4092774308652989, 0.43302945301542783, 0.4171571250222935, 0.4217391304347826], [0.4011575330077772, 0.4011575330077772, 0.564076170869789, 0.4163581879076326, 0.3583333333333333, 0.4191810344827587, 0.34545125700850066, 0.43302945301542783, 0.4713750668806848, 0.4112772473428211], [0.3520336605890603, 0.3915229885057472, 0.5376565448618974, 0.4435043187026264, 0.3440740740740741, 0.48702664796633943, 0.41180555555555554, 0.36206592631764506, 0.4386597009547829, 0.4713750668806848], [0.39929078014184394, 0.4808988764044944, 0.3915229885057472, 0.3733043950081389, 0.47619047619047616, 0.4191810344827587, 0.5075194468452895, 0.36386494252873564, 0.4007168458781363, 0.4145267791636097], [0.3818019625334523, 0.5075194468452895, 0.4092774308652989, 0.42246642246642246, 0.3265306122448979, 0.3915229885057472, 0.47065044949762036, 0.47065044949762036, 0.49119097956307256, 0.37670858392564244], [0.42659574468085104, 0.4163581879076326, 0.4163581879076326, 0.45390070921985815, 0.4600280504908836, 0.36363636363636365, 0.39929078014184394, 0.4600280504908836, 0.4551971326164874, 0.37670858392564244], [0.35459183673469385, 0.4600280504908836, 0.3440740740740741, 0.42659574468085104, 0.43302945301542783, 0.4493284493284493, 0.3915229885057472, 0.38265306122448983, 0.4386597009547829, 0.4943977591036414], [0.36386494252873564, 0.3818019625334523, 0.47065044949762036, 0.4092774308652989, 0.4276577355229041, 0.45390070921985815, 0.4191810344827587, 0.4385416666666666, 0.48721590909090906, 0.4321122653544742], [0.47619047619047616, 0.4542783059636992, 0.45390070921985815, 0.4191810344827587, 0.4011575330077772, 0.3687423687423687, 0.4385416666666666, 0.3818019625334523, 0.4602272727272727, 0.3587674247982392]]\n"
     ]
    }
   ],
   "source": [
    "print(\"Media F1Score dos N K-Fold\", np.mean([np.mean(i) for i in f1scores_list]))\n",
    "print(\"Maior F1Score dos K-Fold\", max([np.mean(i) for i in f1scores_list]))\n",
    "print(\"Maior F1Score dos K-Fold\", min([np.mean(i) for i in f1scores_list]))\n",
    "\n",
    "print(\"Media F1Score dos K-Fold\", [np.mean(i) for i in f1scores_list])\n",
    "print()\n",
    "print()\n",
    "print(f1scores_list)"
   ]
  },
  {
   "cell_type": "code",
   "execution_count": 12,
   "id": "3dcbc812",
   "metadata": {},
   "outputs": [
    {
     "ename": "IndexError",
     "evalue": "list index out of range",
     "output_type": "error",
     "traceback": [
      "\u001b[1;31m---------------------------------------------------------------------------\u001b[0m",
      "\u001b[1;31mIndexError\u001b[0m                                Traceback (most recent call last)",
      "Cell \u001b[1;32mIn[12], line 1\u001b[0m\n\u001b[1;32m----> 1\u001b[0m \u001b[38;5;28mprint\u001b[39m(\u001b[38;5;124m\"\u001b[39m\u001b[38;5;124mMedia Negativity dos N K-Fold\u001b[39m\u001b[38;5;124m\"\u001b[39m, [np\u001b[38;5;241m.\u001b[39mmean([neg[i] \u001b[38;5;28;01mfor\u001b[39;00m neg \u001b[38;5;129;01min\u001b[39;00m negativities_list]) \u001b[38;5;28;01mfor\u001b[39;00m i \u001b[38;5;129;01min\u001b[39;00m \u001b[38;5;28mrange\u001b[39m(\u001b[38;5;28mlen\u001b[39m(\u001b[38;5;28mset\u001b[39m(y)))])\n\u001b[0;32m      3\u001b[0m \u001b[38;5;28mprint\u001b[39m()\n\u001b[0;32m      4\u001b[0m \u001b[38;5;28mprint\u001b[39m()\n",
      "Cell \u001b[1;32mIn[12], line 1\u001b[0m, in \u001b[0;36m<listcomp>\u001b[1;34m(.0)\u001b[0m\n\u001b[1;32m----> 1\u001b[0m \u001b[38;5;28mprint\u001b[39m(\u001b[38;5;124m\"\u001b[39m\u001b[38;5;124mMedia Negativity dos N K-Fold\u001b[39m\u001b[38;5;124m\"\u001b[39m, [np\u001b[38;5;241m.\u001b[39mmean([neg[i] \u001b[38;5;28;01mfor\u001b[39;00m neg \u001b[38;5;129;01min\u001b[39;00m negativities_list]) \u001b[38;5;28;01mfor\u001b[39;00m i \u001b[38;5;129;01min\u001b[39;00m \u001b[38;5;28mrange\u001b[39m(\u001b[38;5;28mlen\u001b[39m(\u001b[38;5;28mset\u001b[39m(y)))])\n\u001b[0;32m      3\u001b[0m \u001b[38;5;28mprint\u001b[39m()\n\u001b[0;32m      4\u001b[0m \u001b[38;5;28mprint\u001b[39m()\n",
      "Cell \u001b[1;32mIn[12], line 1\u001b[0m, in \u001b[0;36m<listcomp>\u001b[1;34m(.0)\u001b[0m\n\u001b[1;32m----> 1\u001b[0m \u001b[38;5;28mprint\u001b[39m(\u001b[38;5;124m\"\u001b[39m\u001b[38;5;124mMedia Negativity dos N K-Fold\u001b[39m\u001b[38;5;124m\"\u001b[39m, [np\u001b[38;5;241m.\u001b[39mmean([\u001b[43mneg\u001b[49m\u001b[43m[\u001b[49m\u001b[43mi\u001b[49m\u001b[43m]\u001b[49m \u001b[38;5;28;01mfor\u001b[39;00m neg \u001b[38;5;129;01min\u001b[39;00m negativities_list]) \u001b[38;5;28;01mfor\u001b[39;00m i \u001b[38;5;129;01min\u001b[39;00m \u001b[38;5;28mrange\u001b[39m(\u001b[38;5;28mlen\u001b[39m(\u001b[38;5;28mset\u001b[39m(y)))])\n\u001b[0;32m      3\u001b[0m \u001b[38;5;28mprint\u001b[39m()\n\u001b[0;32m      4\u001b[0m \u001b[38;5;28mprint\u001b[39m()\n",
      "\u001b[1;31mIndexError\u001b[0m: list index out of range"
     ]
    }
   ],
   "source": [
    "print(\"Media Negativity dos N K-Fold\", [np.mean([neg[i] for neg in negativities_list]) for i in range(len(set(y)))])\n",
    "\n",
    "print()\n",
    "print()\n",
    "print(negativities_list)"
   ]
  }
 ],
 "metadata": {
  "kernelspec": {
   "display_name": "Python 3",
   "language": "python",
   "name": "python3"
  },
  "language_info": {
   "codemirror_mode": {
    "name": "ipython",
    "version": 3
   },
   "file_extension": ".py",
   "mimetype": "text/x-python",
   "name": "python",
   "nbconvert_exporter": "python",
   "pygments_lexer": "ipython3",
   "version": "3.9.16"
  }
 },
 "nbformat": 4,
 "nbformat_minor": 5
}
