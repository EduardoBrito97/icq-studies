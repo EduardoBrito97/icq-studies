{
 "cells": [
  {
   "cell_type": "code",
   "execution_count": 1,
   "id": "0db239e0",
   "metadata": {},
   "outputs": [
    {
     "name": "stderr",
     "output_type": "stream",
     "text": [
      "Intel(R) Extension for Scikit-learn* enabled (https://github.com/intel/scikit-learn-intelex)\n"
     ]
    }
   ],
   "source": [
    "import sys, os\n",
    "sys.path.append(os.path.abspath('../../classifiers'))\n",
    "sys.path.append(os.path.abspath('../../training'))\n",
    "sys.path.append(os.path.abspath('../../validation'))\n",
    "from validation_functions import execute_training_test_k_fold\n",
    "from classifiers_ICQ import iqc_classifier\n",
    "\n",
    "from sklearn.multiclass import OneVsRestClassifier\n",
    "import numpy as np\n",
    "import load_pima\n",
    "\n",
    "X, y = load_pima.get_dataset()"
   ]
  },
  {
   "cell_type": "code",
   "execution_count": 2,
   "id": "1ad66125",
   "metadata": {},
   "outputs": [],
   "source": [
    "classifier_function = iqc_classifier\n",
    "dic_classifier_params = {}\n",
    "dic_classifier_params[\"sigma_q_params\"] = [1,1,1,0]\n",
    "dic_classifier_params[\"use_polar_coordinates_on_sigma_q\"] = False\n",
    "dic_classifier_params[\"load_inputvector_env_state\"] = False\n",
    "dic_classifier_params[\"normalize_axis\"] = 1\n",
    "\n",
    "dic_training_params = {\"max_iter\": 1000,\n",
    "    \"accuracy_succ\": 0.99,\n",
    "    \"plot_graphs_and_metrics\": False,\n",
    "    \"plot_graphs_in_classifier\": False,\n",
    "    \"random_seed\": 1,\n",
    "    \"learning_rate\": 0.009,\n",
    "    \"refit_db\":True,\n",
    "    \"reset_weights_epoch\":0,\n",
    "    \"do_classes_refit\":True,\n",
    "    \"batch\":False}\n",
    "\n",
    "n_times_kfold = 10\n",
    "k_times_fold = 10"
   ]
  },
  {
   "cell_type": "code",
   "execution_count": 3,
   "id": "8522d868",
   "metadata": {},
   "outputs": [
    {
     "name": "stderr",
     "output_type": "stream",
     "text": [
      "[Parallel(n_jobs=-1)]: Using backend LokyBackend with 12 concurrent workers.\n",
      "[Parallel(n_jobs=-1)]: Done   1 out of   1 | elapsed:  6.3min finished\n"
     ]
    },
    {
     "name": "stdout",
     "output_type": "stream",
     "text": [
      "K-Fold #0\n",
      "Mean negativities for all classes: [0.3024925788769381]\n",
      "Mean entropies for all classes: [4.100401187497706e-15]\n",
      "              precision    recall  f1-score   support\n",
      "\n",
      "           0       1.00      0.28      0.44        50\n",
      "           1       0.43      1.00      0.60        27\n",
      "\n",
      "    accuracy                           0.53        77\n",
      "   macro avg       0.71      0.64      0.52        77\n",
      "weighted avg       0.80      0.53      0.49        77\n",
      "\n",
      "-------------------------------------------------------------------------------------------------------------------\n"
     ]
    },
    {
     "name": "stderr",
     "output_type": "stream",
     "text": [
      "[Parallel(n_jobs=-1)]: Using backend LokyBackend with 12 concurrent workers.\n",
      "[Parallel(n_jobs=-1)]: Done   1 out of   1 | elapsed:  6.3min finished\n"
     ]
    },
    {
     "name": "stdout",
     "output_type": "stream",
     "text": [
      "K-Fold #1\n",
      "Mean negativities for all classes: [0.3153476445883093]\n",
      "Mean entropies for all classes: [4.122867057718606e-15]\n",
      "              precision    recall  f1-score   support\n",
      "\n",
      "           0       0.91      0.20      0.33        50\n",
      "           1       0.39      0.96      0.56        27\n",
      "\n",
      "    accuracy                           0.47        77\n",
      "   macro avg       0.65      0.58      0.44        77\n",
      "weighted avg       0.73      0.47      0.41        77\n",
      "\n",
      "-------------------------------------------------------------------------------------------------------------------\n"
     ]
    },
    {
     "name": "stderr",
     "output_type": "stream",
     "text": [
      "[Parallel(n_jobs=-1)]: Using backend LokyBackend with 12 concurrent workers.\n",
      "[Parallel(n_jobs=-1)]: Done   1 out of   1 | elapsed:  6.3min finished\n"
     ]
    },
    {
     "name": "stdout",
     "output_type": "stream",
     "text": [
      "K-Fold #2\n",
      "Mean negativities for all classes: [0.3123415360703181]\n",
      "Mean entropies for all classes: [4.3394204242423935e-15]\n",
      "              precision    recall  f1-score   support\n",
      "\n",
      "           0       0.88      0.30      0.45        50\n",
      "           1       0.42      0.93      0.57        27\n",
      "\n",
      "    accuracy                           0.52        77\n",
      "   macro avg       0.65      0.61      0.51        77\n",
      "weighted avg       0.72      0.52      0.49        77\n",
      "\n",
      "-------------------------------------------------------------------------------------------------------------------\n"
     ]
    },
    {
     "name": "stderr",
     "output_type": "stream",
     "text": [
      "[Parallel(n_jobs=-1)]: Using backend LokyBackend with 12 concurrent workers.\n",
      "[Parallel(n_jobs=-1)]: Done   1 out of   1 | elapsed:  6.2min finished\n"
     ]
    },
    {
     "name": "stdout",
     "output_type": "stream",
     "text": [
      "K-Fold #3\n",
      "Mean negativities for all classes: [0.318880363325705]\n",
      "Mean entropies for all classes: [4.3227482981302756e-15]\n",
      "              precision    recall  f1-score   support\n",
      "\n",
      "           0       0.86      0.38      0.53        50\n",
      "           1       0.44      0.89      0.59        27\n",
      "\n",
      "    accuracy                           0.56        77\n",
      "   macro avg       0.65      0.63      0.56        77\n",
      "weighted avg       0.71      0.56      0.55        77\n",
      "\n",
      "-------------------------------------------------------------------------------------------------------------------\n"
     ]
    },
    {
     "name": "stderr",
     "output_type": "stream",
     "text": [
      "[Parallel(n_jobs=-1)]: Using backend LokyBackend with 12 concurrent workers.\n",
      "[Parallel(n_jobs=-1)]: Done   1 out of   1 | elapsed:  6.3min finished\n"
     ]
    },
    {
     "name": "stdout",
     "output_type": "stream",
     "text": [
      "K-Fold #4\n",
      "Mean negativities for all classes: [0.30504506145775007]\n",
      "Mean entropies for all classes: [4.0357706090520775e-15]\n",
      "              precision    recall  f1-score   support\n",
      "\n",
      "           0       0.86      0.38      0.53        50\n",
      "           1       0.44      0.89      0.59        27\n",
      "\n",
      "    accuracy                           0.56        77\n",
      "   macro avg       0.65      0.63      0.56        77\n",
      "weighted avg       0.71      0.56      0.55        77\n",
      "\n",
      "-------------------------------------------------------------------------------------------------------------------\n"
     ]
    },
    {
     "name": "stderr",
     "output_type": "stream",
     "text": [
      "[Parallel(n_jobs=-1)]: Using backend LokyBackend with 12 concurrent workers.\n",
      "[Parallel(n_jobs=-1)]: Done   1 out of   1 | elapsed:  6.3min finished\n"
     ]
    },
    {
     "name": "stdout",
     "output_type": "stream",
     "text": [
      "K-Fold #5\n",
      "Mean negativities for all classes: [0.305208024422979]\n",
      "Mean entropies for all classes: [3.998872583135993e-15]\n",
      "              precision    recall  f1-score   support\n",
      "\n",
      "           0       0.92      0.22      0.35        50\n",
      "           1       0.40      0.96      0.57        27\n",
      "\n",
      "    accuracy                           0.48        77\n",
      "   macro avg       0.66      0.59      0.46        77\n",
      "weighted avg       0.74      0.48      0.43        77\n",
      "\n",
      "-------------------------------------------------------------------------------------------------------------------\n"
     ]
    },
    {
     "name": "stderr",
     "output_type": "stream",
     "text": [
      "[Parallel(n_jobs=-1)]: Using backend LokyBackend with 12 concurrent workers.\n",
      "[Parallel(n_jobs=-1)]: Done   1 out of   1 | elapsed:  6.3min finished\n"
     ]
    },
    {
     "name": "stdout",
     "output_type": "stream",
     "text": [
      "K-Fold #6\n",
      "Mean negativities for all classes: [0.31705165220055453]\n",
      "Mean entropies for all classes: [4.146821630902406e-15]\n",
      "              precision    recall  f1-score   support\n",
      "\n",
      "           0       0.84      0.32      0.46        50\n",
      "           1       0.41      0.89      0.56        27\n",
      "\n",
      "    accuracy                           0.52        77\n",
      "   macro avg       0.63      0.60      0.51        77\n",
      "weighted avg       0.69      0.52      0.50        77\n",
      "\n",
      "-------------------------------------------------------------------------------------------------------------------\n"
     ]
    },
    {
     "name": "stderr",
     "output_type": "stream",
     "text": [
      "[Parallel(n_jobs=-1)]: Using backend LokyBackend with 12 concurrent workers.\n",
      "[Parallel(n_jobs=-1)]: Done   1 out of   1 | elapsed:  6.2min finished\n"
     ]
    },
    {
     "name": "stdout",
     "output_type": "stream",
     "text": [
      "K-Fold #7\n",
      "Mean negativities for all classes: [0.3113102900873769]\n",
      "Mean entropies for all classes: [4.051298952126342e-15]\n",
      "              precision    recall  f1-score   support\n",
      "\n",
      "           0       0.70      0.32      0.44        50\n",
      "           1       0.37      0.74      0.49        27\n",
      "\n",
      "    accuracy                           0.47        77\n",
      "   macro avg       0.53      0.53      0.47        77\n",
      "weighted avg       0.58      0.47      0.46        77\n",
      "\n",
      "-------------------------------------------------------------------------------------------------------------------\n"
     ]
    },
    {
     "name": "stderr",
     "output_type": "stream",
     "text": [
      "[Parallel(n_jobs=-1)]: Using backend LokyBackend with 12 concurrent workers.\n",
      "[Parallel(n_jobs=-1)]: Done   1 out of   1 | elapsed:  6.3min finished\n"
     ]
    },
    {
     "name": "stdout",
     "output_type": "stream",
     "text": [
      "K-Fold #8\n",
      "Mean negativities for all classes: [0.32502153462907635]\n",
      "Mean entropies for all classes: [4.139190295334869e-15]\n",
      "              precision    recall  f1-score   support\n",
      "\n",
      "           0       0.60      0.24      0.34        50\n",
      "           1       0.32      0.69      0.44        26\n",
      "\n",
      "    accuracy                           0.39        76\n",
      "   macro avg       0.46      0.47      0.39        76\n",
      "weighted avg       0.50      0.39      0.38        76\n",
      "\n",
      "-------------------------------------------------------------------------------------------------------------------\n"
     ]
    },
    {
     "name": "stderr",
     "output_type": "stream",
     "text": [
      "[Parallel(n_jobs=-1)]: Using backend LokyBackend with 12 concurrent workers.\n",
      "[Parallel(n_jobs=-1)]: Done   1 out of   1 | elapsed:  6.3min finished\n"
     ]
    },
    {
     "name": "stdout",
     "output_type": "stream",
     "text": [
      "K-Fold #9\n",
      "Mean negativities for all classes: [0.31726917561193346]\n",
      "Mean entropies for all classes: [4.18770957298612e-15]\n",
      "              precision    recall  f1-score   support\n",
      "\n",
      "           0       0.67      0.32      0.43        50\n",
      "           1       0.35      0.69      0.46        26\n",
      "\n",
      "    accuracy                           0.45        76\n",
      "   macro avg       0.51      0.51      0.45        76\n",
      "weighted avg       0.56      0.45      0.44        76\n",
      "\n",
      "-------------------------------------------------------------------------------------------------------------------\n",
      "AVG: Scores = 0.49460013670539976 F1-Scores = 0.48649177946059785 Negativity = [0.3024925788769381, 0.3153476445883093] Entropy = [4.100401187497706e-15, 4.122867057718606e-15]\n"
     ]
    },
    {
     "name": "stderr",
     "output_type": "stream",
     "text": [
      "[Parallel(n_jobs=-1)]: Using backend LokyBackend with 12 concurrent workers.\n",
      "[Parallel(n_jobs=-1)]: Done   1 out of   1 | elapsed:  6.3min finished\n",
      "[Parallel(n_jobs=-1)]: Using backend LokyBackend with 12 concurrent workers.\n"
     ]
    },
    {
     "name": "stdout",
     "output_type": "stream",
     "text": [
      "K-Fold #0\n",
      "Mean negativities for all classes: [0.29755835582509027]\n",
      "Mean entropies for all classes: [4.123034271882564e-15]\n",
      "              precision    recall  f1-score   support\n",
      "\n",
      "           0       0.83      0.40      0.54        50\n",
      "           1       0.43      0.85      0.58        27\n",
      "\n",
      "    accuracy                           0.56        77\n",
      "   macro avg       0.63      0.63      0.56        77\n",
      "weighted avg       0.69      0.56      0.55        77\n",
      "\n",
      "-------------------------------------------------------------------------------------------------------------------\n"
     ]
    },
    {
     "name": "stderr",
     "output_type": "stream",
     "text": [
      "[Parallel(n_jobs=-1)]: Done   1 out of   1 | elapsed:  6.3min finished\n"
     ]
    },
    {
     "name": "stdout",
     "output_type": "stream",
     "text": [
      "K-Fold #1\n",
      "Mean negativities for all classes: [0.3199871659823694]\n",
      "Mean entropies for all classes: [4.122912623434386e-15]\n",
      "              precision    recall  f1-score   support\n",
      "\n",
      "           0       0.83      0.30      0.44        50\n",
      "           1       0.41      0.89      0.56        27\n",
      "\n",
      "    accuracy                           0.51        77\n",
      "   macro avg       0.62      0.59      0.50        77\n",
      "weighted avg       0.68      0.51      0.48        77\n",
      "\n",
      "-------------------------------------------------------------------------------------------------------------------\n"
     ]
    },
    {
     "name": "stderr",
     "output_type": "stream",
     "text": [
      "[Parallel(n_jobs=-1)]: Using backend LokyBackend with 12 concurrent workers.\n",
      "[Parallel(n_jobs=-1)]: Done   1 out of   1 | elapsed:  6.3min finished\n"
     ]
    },
    {
     "name": "stdout",
     "output_type": "stream",
     "text": [
      "K-Fold #2\n",
      "Mean negativities for all classes: [0.3150543442561222]\n",
      "Mean entropies for all classes: [4.248033278456851e-15]\n",
      "              precision    recall  f1-score   support\n",
      "\n",
      "           0       0.70      0.14      0.23        50\n",
      "           1       0.36      0.89      0.51        27\n",
      "\n",
      "    accuracy                           0.40        77\n",
      "   macro avg       0.53      0.51      0.37        77\n",
      "weighted avg       0.58      0.40      0.33        77\n",
      "\n",
      "-------------------------------------------------------------------------------------------------------------------\n"
     ]
    },
    {
     "name": "stderr",
     "output_type": "stream",
     "text": [
      "[Parallel(n_jobs=-1)]: Using backend LokyBackend with 12 concurrent workers.\n",
      "[Parallel(n_jobs=-1)]: Done   1 out of   1 | elapsed:  6.3min finished\n"
     ]
    },
    {
     "name": "stdout",
     "output_type": "stream",
     "text": [
      "K-Fold #3\n",
      "Mean negativities for all classes: [0.31083082713044324]\n",
      "Mean entropies for all classes: [4.081277752219322e-15]\n",
      "              precision    recall  f1-score   support\n",
      "\n",
      "           0       0.82      0.36      0.50        50\n",
      "           1       0.42      0.85      0.56        27\n",
      "\n",
      "    accuracy                           0.53        77\n",
      "   macro avg       0.62      0.61      0.53        77\n",
      "weighted avg       0.68      0.53      0.52        77\n",
      "\n",
      "-------------------------------------------------------------------------------------------------------------------\n"
     ]
    },
    {
     "name": "stderr",
     "output_type": "stream",
     "text": [
      "[Parallel(n_jobs=-1)]: Using backend LokyBackend with 12 concurrent workers.\n",
      "[Parallel(n_jobs=-1)]: Done   1 out of   1 | elapsed:  6.3min finished\n"
     ]
    },
    {
     "name": "stdout",
     "output_type": "stream",
     "text": [
      "K-Fold #4\n",
      "Mean negativities for all classes: [0.31926292925930855]\n",
      "Mean entropies for all classes: [4.1440850673222834e-15]\n",
      "              precision    recall  f1-score   support\n",
      "\n",
      "           0       0.80      0.32      0.46        50\n",
      "           1       0.40      0.85      0.55        27\n",
      "\n",
      "    accuracy                           0.51        77\n",
      "   macro avg       0.60      0.59      0.50        77\n",
      "weighted avg       0.66      0.51      0.49        77\n",
      "\n",
      "-------------------------------------------------------------------------------------------------------------------\n"
     ]
    },
    {
     "name": "stderr",
     "output_type": "stream",
     "text": [
      "[Parallel(n_jobs=-1)]: Using backend LokyBackend with 12 concurrent workers.\n",
      "[Parallel(n_jobs=-1)]: Done   1 out of   1 | elapsed:  6.3min finished\n"
     ]
    },
    {
     "name": "stdout",
     "output_type": "stream",
     "text": [
      "K-Fold #5\n",
      "Mean negativities for all classes: [0.30597587165775375]\n",
      "Mean entropies for all classes: [4.0738192269881375e-15]\n",
      "              precision    recall  f1-score   support\n",
      "\n",
      "           0       0.94      0.34      0.50        50\n",
      "           1       0.44      0.96      0.60        27\n",
      "\n",
      "    accuracy                           0.56        77\n",
      "   macro avg       0.69      0.65      0.55        77\n",
      "weighted avg       0.77      0.56      0.54        77\n",
      "\n",
      "-------------------------------------------------------------------------------------------------------------------\n"
     ]
    },
    {
     "name": "stderr",
     "output_type": "stream",
     "text": [
      "[Parallel(n_jobs=-1)]: Using backend LokyBackend with 12 concurrent workers.\n",
      "[Parallel(n_jobs=-1)]: Done   1 out of   1 | elapsed:  6.3min finished\n"
     ]
    },
    {
     "name": "stdout",
     "output_type": "stream",
     "text": [
      "K-Fold #6\n",
      "Mean negativities for all classes: [0.3173064402641376]\n",
      "Mean entropies for all classes: [4.21843447241445e-15]\n",
      "              precision    recall  f1-score   support\n",
      "\n",
      "           0       0.86      0.36      0.51        50\n",
      "           1       0.43      0.89      0.58        27\n",
      "\n",
      "    accuracy                           0.55        77\n",
      "   macro avg       0.64      0.62      0.54        77\n",
      "weighted avg       0.71      0.55      0.53        77\n",
      "\n",
      "-------------------------------------------------------------------------------------------------------------------\n"
     ]
    },
    {
     "name": "stderr",
     "output_type": "stream",
     "text": [
      "[Parallel(n_jobs=-1)]: Using backend LokyBackend with 12 concurrent workers.\n",
      "[Parallel(n_jobs=-1)]: Done   1 out of   1 | elapsed:  6.3min finished\n"
     ]
    },
    {
     "name": "stdout",
     "output_type": "stream",
     "text": [
      "K-Fold #7\n",
      "Mean negativities for all classes: [0.3159323559248998]\n",
      "Mean entropies for all classes: [4.059755660712866e-15]\n",
      "              precision    recall  f1-score   support\n",
      "\n",
      "           0       0.79      0.30      0.43        50\n",
      "           1       0.40      0.85      0.54        27\n",
      "\n",
      "    accuracy                           0.49        77\n",
      "   macro avg       0.59      0.58      0.49        77\n",
      "weighted avg       0.65      0.49      0.47        77\n",
      "\n",
      "-------------------------------------------------------------------------------------------------------------------\n"
     ]
    },
    {
     "name": "stderr",
     "output_type": "stream",
     "text": [
      "[Parallel(n_jobs=-1)]: Using backend LokyBackend with 12 concurrent workers.\n",
      "[Parallel(n_jobs=-1)]: Done   1 out of   1 | elapsed:  6.3min finished\n"
     ]
    },
    {
     "name": "stdout",
     "output_type": "stream",
     "text": [
      "K-Fold #8\n",
      "Mean negativities for all classes: [0.3137072110794931]\n",
      "Mean entropies for all classes: [4.157769666189067e-15]\n",
      "              precision    recall  f1-score   support\n",
      "\n",
      "           0       0.71      0.40      0.51        50\n",
      "           1       0.38      0.69      0.49        26\n",
      "\n",
      "    accuracy                           0.50        76\n",
      "   macro avg       0.54      0.55      0.50        76\n",
      "weighted avg       0.60      0.50      0.50        76\n",
      "\n",
      "-------------------------------------------------------------------------------------------------------------------\n"
     ]
    },
    {
     "name": "stderr",
     "output_type": "stream",
     "text": [
      "[Parallel(n_jobs=-1)]: Using backend LokyBackend with 12 concurrent workers.\n",
      "[Parallel(n_jobs=-1)]: Done   1 out of   1 | elapsed:  6.3min finished\n"
     ]
    },
    {
     "name": "stdout",
     "output_type": "stream",
     "text": [
      "K-Fold #9\n",
      "Mean negativities for all classes: [0.31157677327504674]\n",
      "Mean entropies for all classes: [4.058244822055314e-15]\n",
      "              precision    recall  f1-score   support\n",
      "\n",
      "           0       0.67      0.36      0.47        50\n",
      "           1       0.35      0.65      0.45        26\n",
      "\n",
      "    accuracy                           0.46        76\n",
      "   macro avg       0.51      0.51      0.46        76\n",
      "weighted avg       0.56      0.46      0.46        76\n",
      "\n",
      "-------------------------------------------------------------------------------------------------------------------\n",
      "AVG: Scores = 0.5064422419685577 F1-Scores = 0.5005352120258367 Negativity = [0.29755835582509027, 0.3199871659823694] Entropy = [4.123034271882564e-15, 4.122912623434386e-15]\n"
     ]
    },
    {
     "name": "stderr",
     "output_type": "stream",
     "text": [
      "[Parallel(n_jobs=-1)]: Using backend LokyBackend with 12 concurrent workers.\n",
      "[Parallel(n_jobs=-1)]: Done   1 out of   1 | elapsed:  6.3min finished\n"
     ]
    },
    {
     "name": "stdout",
     "output_type": "stream",
     "text": [
      "K-Fold #0\n",
      "Mean negativities for all classes: [0.30710577108500764]\n",
      "Mean entropies for all classes: [4.20874870324982e-15]\n",
      "              precision    recall  f1-score   support\n",
      "\n",
      "           0       0.95      0.36      0.52        50\n",
      "           1       0.45      0.96      0.61        27\n",
      "\n",
      "    accuracy                           0.57        77\n",
      "   macro avg       0.70      0.66      0.57        77\n",
      "weighted avg       0.77      0.57      0.55        77\n",
      "\n",
      "-------------------------------------------------------------------------------------------------------------------\n"
     ]
    },
    {
     "name": "stderr",
     "output_type": "stream",
     "text": [
      "[Parallel(n_jobs=-1)]: Using backend LokyBackend with 12 concurrent workers.\n",
      "[Parallel(n_jobs=-1)]: Done   1 out of   1 | elapsed:  6.3min finished\n"
     ]
    },
    {
     "name": "stdout",
     "output_type": "stream",
     "text": [
      "K-Fold #1\n",
      "Mean negativities for all classes: [0.32197390563433864]\n",
      "Mean entropies for all classes: [3.983332114714366e-15]\n",
      "              precision    recall  f1-score   support\n",
      "\n",
      "           0       0.74      0.34      0.47        50\n",
      "           1       0.39      0.78      0.52        27\n",
      "\n",
      "    accuracy                           0.49        77\n",
      "   macro avg       0.56      0.56      0.49        77\n",
      "weighted avg       0.62      0.49      0.48        77\n",
      "\n",
      "-------------------------------------------------------------------------------------------------------------------\n"
     ]
    },
    {
     "name": "stderr",
     "output_type": "stream",
     "text": [
      "[Parallel(n_jobs=-1)]: Using backend LokyBackend with 12 concurrent workers.\n",
      "[Parallel(n_jobs=-1)]: Done   1 out of   1 | elapsed:  6.3min finished\n"
     ]
    },
    {
     "name": "stdout",
     "output_type": "stream",
     "text": [
      "K-Fold #2\n",
      "Mean negativities for all classes: [0.2961017640499242]\n",
      "Mean entropies for all classes: [4.285454613946028e-15]\n",
      "              precision    recall  f1-score   support\n",
      "\n",
      "           0       0.89      0.34      0.49        50\n",
      "           1       0.43      0.93      0.59        27\n",
      "\n",
      "    accuracy                           0.55        77\n",
      "   macro avg       0.66      0.63      0.54        77\n",
      "weighted avg       0.73      0.55      0.53        77\n",
      "\n",
      "-------------------------------------------------------------------------------------------------------------------\n"
     ]
    },
    {
     "name": "stderr",
     "output_type": "stream",
     "text": [
      "[Parallel(n_jobs=-1)]: Using backend LokyBackend with 12 concurrent workers.\n",
      "[Parallel(n_jobs=-1)]: Done   1 out of   1 | elapsed:  6.3min finished\n"
     ]
    },
    {
     "name": "stdout",
     "output_type": "stream",
     "text": [
      "K-Fold #3\n",
      "Mean negativities for all classes: [0.31882390982834985]\n",
      "Mean entropies for all classes: [4.267340122286014e-15]\n",
      "              precision    recall  f1-score   support\n",
      "\n",
      "           0       0.88      0.46      0.61        50\n",
      "           1       0.47      0.89      0.62        27\n",
      "\n",
      "    accuracy                           0.61        77\n",
      "   macro avg       0.68      0.67      0.61        77\n",
      "weighted avg       0.74      0.61      0.61        77\n",
      "\n",
      "-------------------------------------------------------------------------------------------------------------------\n"
     ]
    },
    {
     "name": "stderr",
     "output_type": "stream",
     "text": [
      "[Parallel(n_jobs=-1)]: Using backend LokyBackend with 12 concurrent workers.\n",
      "[Parallel(n_jobs=-1)]: Done   1 out of   1 | elapsed:  6.4min finished\n"
     ]
    },
    {
     "name": "stdout",
     "output_type": "stream",
     "text": [
      "K-Fold #4\n",
      "Mean negativities for all classes: [0.31143951945458775]\n",
      "Mean entropies for all classes: [4.3263527358755915e-15]\n",
      "              precision    recall  f1-score   support\n",
      "\n",
      "           0       0.73      0.38      0.50        50\n",
      "           1       0.39      0.74      0.51        27\n",
      "\n",
      "    accuracy                           0.51        77\n",
      "   macro avg       0.56      0.56      0.51        77\n",
      "weighted avg       0.61      0.51      0.50        77\n",
      "\n",
      "-------------------------------------------------------------------------------------------------------------------\n"
     ]
    },
    {
     "name": "stderr",
     "output_type": "stream",
     "text": [
      "[Parallel(n_jobs=-1)]: Using backend LokyBackend with 12 concurrent workers.\n",
      "[Parallel(n_jobs=-1)]: Done   1 out of   1 | elapsed:  6.7min finished\n"
     ]
    },
    {
     "name": "stdout",
     "output_type": "stream",
     "text": [
      "K-Fold #5\n",
      "Mean negativities for all classes: [0.3016302958116527]\n",
      "Mean entropies for all classes: [4.2363159081406084e-15]\n",
      "              precision    recall  f1-score   support\n",
      "\n",
      "           0       0.88      0.28      0.42        50\n",
      "           1       0.41      0.93      0.57        27\n",
      "\n",
      "    accuracy                           0.51        77\n",
      "   macro avg       0.64      0.60      0.50        77\n",
      "weighted avg       0.71      0.51      0.47        77\n",
      "\n",
      "-------------------------------------------------------------------------------------------------------------------\n"
     ]
    },
    {
     "name": "stderr",
     "output_type": "stream",
     "text": [
      "[Parallel(n_jobs=-1)]: Using backend LokyBackend with 12 concurrent workers.\n",
      "[Parallel(n_jobs=-1)]: Done   1 out of   1 | elapsed:  6.3min finished\n"
     ]
    },
    {
     "name": "stdout",
     "output_type": "stream",
     "text": [
      "K-Fold #6\n",
      "Mean negativities for all classes: [0.32626343744101255]\n",
      "Mean entropies for all classes: [4.1724524222203845e-15]\n",
      "              precision    recall  f1-score   support\n",
      "\n",
      "           0       0.75      0.36      0.49        50\n",
      "           1       0.40      0.78      0.53        27\n",
      "\n",
      "    accuracy                           0.51        77\n",
      "   macro avg       0.57      0.57      0.51        77\n",
      "weighted avg       0.63      0.51      0.50        77\n",
      "\n",
      "-------------------------------------------------------------------------------------------------------------------\n"
     ]
    },
    {
     "name": "stderr",
     "output_type": "stream",
     "text": [
      "[Parallel(n_jobs=-1)]: Using backend LokyBackend with 12 concurrent workers.\n",
      "[Parallel(n_jobs=-1)]: Done   1 out of   1 | elapsed:  6.3min finished\n"
     ]
    },
    {
     "name": "stdout",
     "output_type": "stream",
     "text": [
      "K-Fold #7\n",
      "Mean negativities for all classes: [0.31461616761811095]\n",
      "Mean entropies for all classes: [3.8890763224499885e-15]\n",
      "              precision    recall  f1-score   support\n",
      "\n",
      "           0       0.76      0.26      0.39        50\n",
      "           1       0.38      0.85      0.53        27\n",
      "\n",
      "    accuracy                           0.47        77\n",
      "   macro avg       0.57      0.56      0.46        77\n",
      "weighted avg       0.63      0.47      0.44        77\n",
      "\n",
      "-------------------------------------------------------------------------------------------------------------------\n"
     ]
    },
    {
     "name": "stderr",
     "output_type": "stream",
     "text": [
      "[Parallel(n_jobs=-1)]: Using backend LokyBackend with 12 concurrent workers.\n",
      "[Parallel(n_jobs=-1)]: Done   1 out of   1 | elapsed:  6.3min finished\n"
     ]
    },
    {
     "name": "stdout",
     "output_type": "stream",
     "text": [
      "K-Fold #8\n",
      "Mean negativities for all classes: [0.31505986365766797]\n",
      "Mean entropies for all classes: [4.173120590987208e-15]\n",
      "              precision    recall  f1-score   support\n",
      "\n",
      "           0       0.78      0.28      0.41        50\n",
      "           1       0.38      0.85      0.52        26\n",
      "\n",
      "    accuracy                           0.47        76\n",
      "   macro avg       0.58      0.56      0.47        76\n",
      "weighted avg       0.64      0.47      0.45        76\n",
      "\n",
      "-------------------------------------------------------------------------------------------------------------------\n"
     ]
    },
    {
     "name": "stderr",
     "output_type": "stream",
     "text": [
      "[Parallel(n_jobs=-1)]: Using backend LokyBackend with 12 concurrent workers.\n",
      "[Parallel(n_jobs=-1)]: Done   1 out of   1 | elapsed:  6.4min finished\n"
     ]
    },
    {
     "name": "stdout",
     "output_type": "stream",
     "text": [
      "K-Fold #9\n",
      "Mean negativities for all classes: [0.3183165677420305]\n",
      "Mean entropies for all classes: [4.117788557839104e-15]\n",
      "              precision    recall  f1-score   support\n",
      "\n",
      "           0       0.74      0.34      0.47        50\n",
      "           1       0.38      0.77      0.51        26\n",
      "\n",
      "    accuracy                           0.49        76\n",
      "   macro avg       0.56      0.55      0.49        76\n",
      "weighted avg       0.62      0.49      0.48        76\n",
      "\n",
      "-------------------------------------------------------------------------------------------------------------------\n",
      "AVG: Scores = 0.5168318523581681 F1-Scores = 0.5130297906879872 Negativity = [0.30710577108500764, 0.32197390563433864] Entropy = [4.20874870324982e-15, 3.983332114714366e-15]\n"
     ]
    },
    {
     "name": "stderr",
     "output_type": "stream",
     "text": [
      "[Parallel(n_jobs=-1)]: Using backend LokyBackend with 12 concurrent workers.\n",
      "[Parallel(n_jobs=-1)]: Done   1 out of   1 | elapsed:  6.3min finished\n"
     ]
    },
    {
     "name": "stdout",
     "output_type": "stream",
     "text": [
      "K-Fold #0\n",
      "Mean negativities for all classes: [0.3199333174629417]\n",
      "Mean entropies for all classes: [4.111236751302387e-15]\n",
      "              precision    recall  f1-score   support\n",
      "\n",
      "           0       0.64      0.32      0.43        50\n",
      "           1       0.35      0.67      0.46        27\n",
      "\n",
      "    accuracy                           0.44        77\n",
      "   macro avg       0.49      0.49      0.44        77\n",
      "weighted avg       0.54      0.44      0.44        77\n",
      "\n",
      "-------------------------------------------------------------------------------------------------------------------\n"
     ]
    },
    {
     "name": "stderr",
     "output_type": "stream",
     "text": [
      "[Parallel(n_jobs=-1)]: Using backend LokyBackend with 12 concurrent workers.\n",
      "[Parallel(n_jobs=-1)]: Done   1 out of   1 | elapsed:  6.3min finished\n"
     ]
    },
    {
     "name": "stdout",
     "output_type": "stream",
     "text": [
      "K-Fold #1\n",
      "Mean negativities for all classes: [0.3132316988416744]\n",
      "Mean entropies for all classes: [4.216455440746535e-15]\n",
      "              precision    recall  f1-score   support\n",
      "\n",
      "           0       0.77      0.34      0.47        50\n",
      "           1       0.40      0.81      0.54        27\n",
      "\n",
      "    accuracy                           0.51        77\n",
      "   macro avg       0.59      0.58      0.50        77\n",
      "weighted avg       0.64      0.51      0.49        77\n",
      "\n",
      "-------------------------------------------------------------------------------------------------------------------\n"
     ]
    },
    {
     "name": "stderr",
     "output_type": "stream",
     "text": [
      "[Parallel(n_jobs=-1)]: Using backend LokyBackend with 12 concurrent workers.\n",
      "[Parallel(n_jobs=-1)]: Done   1 out of   1 | elapsed:  6.3min finished\n"
     ]
    },
    {
     "name": "stdout",
     "output_type": "stream",
     "text": [
      "K-Fold #2\n",
      "Mean negativities for all classes: [0.3209764970059974]\n",
      "Mean entropies for all classes: [4.41320504976128e-15]\n",
      "              precision    recall  f1-score   support\n",
      "\n",
      "           0       0.83      0.30      0.44        50\n",
      "           1       0.41      0.89      0.56        27\n",
      "\n",
      "    accuracy                           0.51        77\n",
      "   macro avg       0.62      0.59      0.50        77\n",
      "weighted avg       0.68      0.51      0.48        77\n",
      "\n",
      "-------------------------------------------------------------------------------------------------------------------\n"
     ]
    },
    {
     "name": "stderr",
     "output_type": "stream",
     "text": [
      "[Parallel(n_jobs=-1)]: Using backend LokyBackend with 12 concurrent workers.\n",
      "[Parallel(n_jobs=-1)]: Done   1 out of   1 | elapsed:  6.3min finished\n"
     ]
    },
    {
     "name": "stdout",
     "output_type": "stream",
     "text": [
      "K-Fold #3\n",
      "Mean negativities for all classes: [0.3046192749947945]\n",
      "Mean entropies for all classes: [4.145203512637238e-15]\n",
      "              precision    recall  f1-score   support\n",
      "\n",
      "           0       0.85      0.34      0.49        50\n",
      "           1       0.42      0.89      0.57        27\n",
      "\n",
      "    accuracy                           0.53        77\n",
      "   macro avg       0.64      0.61      0.53        77\n",
      "weighted avg       0.70      0.53      0.52        77\n",
      "\n",
      "-------------------------------------------------------------------------------------------------------------------\n"
     ]
    },
    {
     "name": "stderr",
     "output_type": "stream",
     "text": [
      "[Parallel(n_jobs=-1)]: Using backend LokyBackend with 12 concurrent workers.\n",
      "[Parallel(n_jobs=-1)]: Done   1 out of   1 | elapsed:  6.4min finished\n"
     ]
    },
    {
     "name": "stdout",
     "output_type": "stream",
     "text": [
      "K-Fold #4\n",
      "Mean negativities for all classes: [0.29991534306267364]\n",
      "Mean entropies for all classes: [4.051545030937563e-15]\n",
      "              precision    recall  f1-score   support\n",
      "\n",
      "           0       0.88      0.28      0.42        50\n",
      "           1       0.41      0.93      0.57        27\n",
      "\n",
      "    accuracy                           0.51        77\n",
      "   macro avg       0.64      0.60      0.50        77\n",
      "weighted avg       0.71      0.51      0.47        77\n",
      "\n",
      "-------------------------------------------------------------------------------------------------------------------\n"
     ]
    },
    {
     "name": "stderr",
     "output_type": "stream",
     "text": [
      "[Parallel(n_jobs=-1)]: Using backend LokyBackend with 12 concurrent workers.\n",
      "[Parallel(n_jobs=-1)]: Done   1 out of   1 | elapsed:  6.4min finished\n"
     ]
    },
    {
     "name": "stdout",
     "output_type": "stream",
     "text": [
      "K-Fold #5\n",
      "Mean negativities for all classes: [0.3109922787626147]\n",
      "Mean entropies for all classes: [4.016160432614213e-15]\n",
      "              precision    recall  f1-score   support\n",
      "\n",
      "           0       0.81      0.42      0.55        50\n",
      "           1       0.43      0.81      0.56        27\n",
      "\n",
      "    accuracy                           0.56        77\n",
      "   macro avg       0.62      0.62      0.56        77\n",
      "weighted avg       0.68      0.56      0.56        77\n",
      "\n",
      "-------------------------------------------------------------------------------------------------------------------\n"
     ]
    },
    {
     "name": "stderr",
     "output_type": "stream",
     "text": [
      "[Parallel(n_jobs=-1)]: Using backend LokyBackend with 12 concurrent workers.\n",
      "[Parallel(n_jobs=-1)]: Done   1 out of   1 | elapsed:  6.3min finished\n"
     ]
    },
    {
     "name": "stdout",
     "output_type": "stream",
     "text": [
      "K-Fold #6\n",
      "Mean negativities for all classes: [0.317771600381055]\n",
      "Mean entropies for all classes: [4.435659326261107e-15]\n",
      "              precision    recall  f1-score   support\n",
      "\n",
      "           0       0.73      0.22      0.34        50\n",
      "           1       0.37      0.85      0.52        27\n",
      "\n",
      "    accuracy                           0.44        77\n",
      "   macro avg       0.55      0.54      0.43        77\n",
      "weighted avg       0.61      0.44      0.40        77\n",
      "\n",
      "-------------------------------------------------------------------------------------------------------------------\n"
     ]
    },
    {
     "name": "stderr",
     "output_type": "stream",
     "text": [
      "[Parallel(n_jobs=-1)]: Using backend LokyBackend with 12 concurrent workers.\n",
      "[Parallel(n_jobs=-1)]: Done   1 out of   1 | elapsed:  6.4min finished\n"
     ]
    },
    {
     "name": "stdout",
     "output_type": "stream",
     "text": [
      "K-Fold #7\n",
      "Mean negativities for all classes: [0.3191059056643114]\n",
      "Mean entropies for all classes: [4.1594579805521895e-15]\n",
      "              precision    recall  f1-score   support\n",
      "\n",
      "           0       0.83      0.30      0.44        50\n",
      "           1       0.41      0.89      0.56        27\n",
      "\n",
      "    accuracy                           0.51        77\n",
      "   macro avg       0.62      0.59      0.50        77\n",
      "weighted avg       0.68      0.51      0.48        77\n",
      "\n",
      "-------------------------------------------------------------------------------------------------------------------\n"
     ]
    },
    {
     "name": "stderr",
     "output_type": "stream",
     "text": [
      "[Parallel(n_jobs=-1)]: Using backend LokyBackend with 12 concurrent workers.\n",
      "[Parallel(n_jobs=-1)]: Done   1 out of   1 | elapsed:  6.3min finished\n"
     ]
    },
    {
     "name": "stdout",
     "output_type": "stream",
     "text": [
      "K-Fold #8\n",
      "Mean negativities for all classes: [0.3137040193987713]\n",
      "Mean entropies for all classes: [4.224615882473933e-15]\n",
      "              precision    recall  f1-score   support\n",
      "\n",
      "           0       0.95      0.36      0.52        50\n",
      "           1       0.44      0.96      0.60        26\n",
      "\n",
      "    accuracy                           0.57        76\n",
      "   macro avg       0.69      0.66      0.56        76\n",
      "weighted avg       0.77      0.57      0.55        76\n",
      "\n",
      "-------------------------------------------------------------------------------------------------------------------\n"
     ]
    },
    {
     "name": "stderr",
     "output_type": "stream",
     "text": [
      "[Parallel(n_jobs=-1)]: Using backend LokyBackend with 12 concurrent workers.\n",
      "[Parallel(n_jobs=-1)]: Done   1 out of   1 | elapsed:  6.3min finished\n"
     ]
    },
    {
     "name": "stdout",
     "output_type": "stream",
     "text": [
      "K-Fold #9\n",
      "Mean negativities for all classes: [0.3115958506681858]\n",
      "Mean entropies for all classes: [4.263390712888656e-15]\n",
      "              precision    recall  f1-score   support\n",
      "\n",
      "           0       0.82      0.36      0.50        50\n",
      "           1       0.41      0.85      0.55        26\n",
      "\n",
      "    accuracy                           0.53        76\n",
      "   macro avg       0.61      0.60      0.52        76\n",
      "weighted avg       0.68      0.53      0.52        76\n",
      "\n",
      "-------------------------------------------------------------------------------------------------------------------\n",
      "AVG: Scores = 0.5092105263157894 F1-Scores = 0.5042783975434973 Negativity = [0.3199333174629417, 0.3132316988416744] Entropy = [4.111236751302387e-15, 4.216455440746535e-15]\n"
     ]
    },
    {
     "name": "stderr",
     "output_type": "stream",
     "text": [
      "[Parallel(n_jobs=-1)]: Using backend LokyBackend with 12 concurrent workers.\n",
      "[Parallel(n_jobs=-1)]: Done   1 out of   1 | elapsed:  6.3min finished\n"
     ]
    },
    {
     "name": "stdout",
     "output_type": "stream",
     "text": [
      "K-Fold #0\n",
      "Mean negativities for all classes: [0.3104368116368782]\n",
      "Mean entropies for all classes: [4.264220124782678e-15]\n",
      "              precision    recall  f1-score   support\n",
      "\n",
      "           0       0.87      0.26      0.40        50\n",
      "           1       0.40      0.93      0.56        27\n",
      "\n",
      "    accuracy                           0.49        77\n",
      "   macro avg       0.63      0.59      0.48        77\n",
      "weighted avg       0.70      0.49      0.46        77\n",
      "\n",
      "-------------------------------------------------------------------------------------------------------------------\n"
     ]
    },
    {
     "name": "stderr",
     "output_type": "stream",
     "text": [
      "[Parallel(n_jobs=-1)]: Using backend LokyBackend with 12 concurrent workers.\n",
      "[Parallel(n_jobs=-1)]: Done   1 out of   1 | elapsed:  6.3min finished\n"
     ]
    },
    {
     "name": "stdout",
     "output_type": "stream",
     "text": [
      "K-Fold #1\n",
      "Mean negativities for all classes: [0.3205604591572694]\n",
      "Mean entropies for all classes: [4.232013745191909e-15]\n",
      "              precision    recall  f1-score   support\n",
      "\n",
      "           0       0.75      0.24      0.36        50\n",
      "           1       0.38      0.85      0.52        27\n",
      "\n",
      "    accuracy                           0.45        77\n",
      "   macro avg       0.56      0.55      0.44        77\n",
      "weighted avg       0.62      0.45      0.42        77\n",
      "\n",
      "-------------------------------------------------------------------------------------------------------------------\n"
     ]
    },
    {
     "name": "stderr",
     "output_type": "stream",
     "text": [
      "[Parallel(n_jobs=-1)]: Using backend LokyBackend with 12 concurrent workers.\n",
      "[Parallel(n_jobs=-1)]: Done   1 out of   1 | elapsed:  6.3min finished\n"
     ]
    },
    {
     "name": "stdout",
     "output_type": "stream",
     "text": [
      "K-Fold #2\n",
      "Mean negativities for all classes: [0.3247258847547648]\n",
      "Mean entropies for all classes: [4.007614991782372e-15]\n",
      "              precision    recall  f1-score   support\n",
      "\n",
      "           0       0.69      0.22      0.33        50\n",
      "           1       0.36      0.81      0.50        27\n",
      "\n",
      "    accuracy                           0.43        77\n",
      "   macro avg       0.52      0.52      0.42        77\n",
      "weighted avg       0.57      0.43      0.39        77\n",
      "\n",
      "-------------------------------------------------------------------------------------------------------------------\n"
     ]
    },
    {
     "name": "stderr",
     "output_type": "stream",
     "text": [
      "[Parallel(n_jobs=-1)]: Using backend LokyBackend with 12 concurrent workers.\n",
      "[Parallel(n_jobs=-1)]: Done   1 out of   1 | elapsed:  6.3min finished\n"
     ]
    },
    {
     "name": "stdout",
     "output_type": "stream",
     "text": [
      "K-Fold #3\n",
      "Mean negativities for all classes: [0.32119536541451454]\n",
      "Mean entropies for all classes: [4.2957822947459136e-15]\n",
      "              precision    recall  f1-score   support\n",
      "\n",
      "           0       0.80      0.32      0.46        50\n",
      "           1       0.40      0.85      0.55        27\n",
      "\n",
      "    accuracy                           0.51        77\n",
      "   macro avg       0.60      0.59      0.50        77\n",
      "weighted avg       0.66      0.51      0.49        77\n",
      "\n",
      "-------------------------------------------------------------------------------------------------------------------\n"
     ]
    },
    {
     "name": "stderr",
     "output_type": "stream",
     "text": [
      "[Parallel(n_jobs=-1)]: Using backend LokyBackend with 12 concurrent workers.\n",
      "[Parallel(n_jobs=-1)]: Done   1 out of   1 | elapsed:  6.3min finished\n"
     ]
    },
    {
     "name": "stdout",
     "output_type": "stream",
     "text": [
      "K-Fold #4\n",
      "Mean negativities for all classes: [0.306368137600018]\n",
      "Mean entropies for all classes: [4.076763607345408e-15]\n",
      "              precision    recall  f1-score   support\n",
      "\n",
      "           0       0.85      0.34      0.49        50\n",
      "           1       0.42      0.89      0.57        27\n",
      "\n",
      "    accuracy                           0.53        77\n",
      "   macro avg       0.64      0.61      0.53        77\n",
      "weighted avg       0.70      0.53      0.52        77\n",
      "\n",
      "-------------------------------------------------------------------------------------------------------------------\n"
     ]
    },
    {
     "name": "stderr",
     "output_type": "stream",
     "text": [
      "[Parallel(n_jobs=-1)]: Using backend LokyBackend with 12 concurrent workers.\n",
      "[Parallel(n_jobs=-1)]: Done   1 out of   1 | elapsed:  6.3min finished\n"
     ]
    },
    {
     "name": "stdout",
     "output_type": "stream",
     "text": [
      "K-Fold #5\n",
      "Mean negativities for all classes: [0.3077273968406176]\n",
      "Mean entropies for all classes: [3.988933724911432e-15]\n",
      "              precision    recall  f1-score   support\n",
      "\n",
      "           0       0.82      0.36      0.50        50\n",
      "           1       0.42      0.85      0.56        27\n",
      "\n",
      "    accuracy                           0.53        77\n",
      "   macro avg       0.62      0.61      0.53        77\n",
      "weighted avg       0.68      0.53      0.52        77\n",
      "\n",
      "-------------------------------------------------------------------------------------------------------------------\n"
     ]
    },
    {
     "name": "stderr",
     "output_type": "stream",
     "text": [
      "[Parallel(n_jobs=-1)]: Using backend LokyBackend with 12 concurrent workers.\n",
      "[Parallel(n_jobs=-1)]: Done   1 out of   1 | elapsed:  6.3min finished\n"
     ]
    },
    {
     "name": "stdout",
     "output_type": "stream",
     "text": [
      "K-Fold #6\n",
      "Mean negativities for all classes: [0.3180729811208462]\n",
      "Mean entropies for all classes: [4.347705261304065e-15]\n",
      "              precision    recall  f1-score   support\n",
      "\n",
      "           0       0.81      0.34      0.48        50\n",
      "           1       0.41      0.85      0.55        27\n",
      "\n",
      "    accuracy                           0.52        77\n",
      "   macro avg       0.61      0.60      0.52        77\n",
      "weighted avg       0.67      0.52      0.51        77\n",
      "\n",
      "-------------------------------------------------------------------------------------------------------------------\n"
     ]
    },
    {
     "name": "stderr",
     "output_type": "stream",
     "text": [
      "[Parallel(n_jobs=-1)]: Using backend LokyBackend with 12 concurrent workers.\n",
      "[Parallel(n_jobs=-1)]: Done   1 out of   1 | elapsed:  6.3min finished\n"
     ]
    },
    {
     "name": "stdout",
     "output_type": "stream",
     "text": [
      "K-Fold #7\n",
      "Mean negativities for all classes: [0.3147870809883021]\n",
      "Mean entropies for all classes: [4.119151059079464e-15]\n",
      "              precision    recall  f1-score   support\n",
      "\n",
      "           0       0.68      0.30      0.42        50\n",
      "           1       0.36      0.74      0.49        27\n",
      "\n",
      "    accuracy                           0.45        77\n",
      "   macro avg       0.52      0.52      0.45        77\n",
      "weighted avg       0.57      0.45      0.44        77\n",
      "\n",
      "-------------------------------------------------------------------------------------------------------------------\n"
     ]
    },
    {
     "name": "stderr",
     "output_type": "stream",
     "text": [
      "[Parallel(n_jobs=-1)]: Using backend LokyBackend with 12 concurrent workers.\n",
      "[Parallel(n_jobs=-1)]: Done   1 out of   1 | elapsed:  6.3min finished\n"
     ]
    },
    {
     "name": "stdout",
     "output_type": "stream",
     "text": [
      "K-Fold #8\n",
      "Mean negativities for all classes: [0.30992438631353814]\n",
      "Mean entropies for all classes: [4.2697291080269676e-15]\n",
      "              precision    recall  f1-score   support\n",
      "\n",
      "           0       0.81      0.26      0.39        50\n",
      "           1       0.38      0.88      0.53        26\n",
      "\n",
      "    accuracy                           0.47        76\n",
      "   macro avg       0.60      0.57      0.46        76\n",
      "weighted avg       0.67      0.47      0.44        76\n",
      "\n",
      "-------------------------------------------------------------------------------------------------------------------\n"
     ]
    },
    {
     "name": "stderr",
     "output_type": "stream",
     "text": [
      "[Parallel(n_jobs=-1)]: Using backend LokyBackend with 12 concurrent workers.\n",
      "[Parallel(n_jobs=-1)]: Done   1 out of   1 | elapsed:  6.3min finished\n"
     ]
    },
    {
     "name": "stdout",
     "output_type": "stream",
     "text": [
      "K-Fold #9\n",
      "Mean negativities for all classes: [0.30671395598355167]\n",
      "Mean entropies for all classes: [4.174796964346399e-15]\n",
      "              precision    recall  f1-score   support\n",
      "\n",
      "           0       0.88      0.30      0.45        50\n",
      "           1       0.41      0.92      0.56        26\n",
      "\n",
      "    accuracy                           0.51        76\n",
      "   macro avg       0.64      0.61      0.51        76\n",
      "weighted avg       0.72      0.51      0.49        76\n",
      "\n",
      "-------------------------------------------------------------------------------------------------------------------\n",
      "AVG: Scores = 0.490892002734108 F1-Scores = 0.4841613468520592 Negativity = [0.3104368116368782, 0.3205604591572694] Entropy = [4.264220124782678e-15, 4.232013745191909e-15]\n"
     ]
    },
    {
     "name": "stderr",
     "output_type": "stream",
     "text": [
      "[Parallel(n_jobs=-1)]: Using backend LokyBackend with 12 concurrent workers.\n",
      "[Parallel(n_jobs=-1)]: Done   1 out of   1 | elapsed:  6.3min finished\n"
     ]
    },
    {
     "name": "stdout",
     "output_type": "stream",
     "text": [
      "K-Fold #0\n",
      "Mean negativities for all classes: [0.29497792778918475]\n",
      "Mean entropies for all classes: [4.0466696836171016e-15]\n",
      "              precision    recall  f1-score   support\n",
      "\n",
      "           0       0.71      0.24      0.36        50\n",
      "           1       0.37      0.81      0.51        27\n",
      "\n",
      "    accuracy                           0.44        77\n",
      "   macro avg       0.54      0.53      0.43        77\n",
      "weighted avg       0.59      0.44      0.41        77\n",
      "\n",
      "-------------------------------------------------------------------------------------------------------------------\n"
     ]
    },
    {
     "name": "stderr",
     "output_type": "stream",
     "text": [
      "[Parallel(n_jobs=-1)]: Using backend LokyBackend with 12 concurrent workers.\n",
      "[Parallel(n_jobs=-1)]: Done   1 out of   1 | elapsed:  6.3min finished\n"
     ]
    },
    {
     "name": "stdout",
     "output_type": "stream",
     "text": [
      "K-Fold #1\n",
      "Mean negativities for all classes: [0.3170378810635359]\n",
      "Mean entropies for all classes: [4.055408646046991e-15]\n",
      "              precision    recall  f1-score   support\n",
      "\n",
      "           0       0.79      0.44      0.56        50\n",
      "           1       0.43      0.78      0.55        27\n",
      "\n",
      "    accuracy                           0.56        77\n",
      "   macro avg       0.61      0.61      0.56        77\n",
      "weighted avg       0.66      0.56      0.56        77\n",
      "\n",
      "-------------------------------------------------------------------------------------------------------------------\n"
     ]
    },
    {
     "name": "stderr",
     "output_type": "stream",
     "text": [
      "[Parallel(n_jobs=-1)]: Using backend LokyBackend with 12 concurrent workers.\n",
      "[Parallel(n_jobs=-1)]: Done   1 out of   1 | elapsed:  6.3min finished\n"
     ]
    },
    {
     "name": "stdout",
     "output_type": "stream",
     "text": [
      "K-Fold #2\n",
      "Mean negativities for all classes: [0.3119365862893655]\n",
      "Mean entropies for all classes: [4.264553088508014e-15]\n",
      "              precision    recall  f1-score   support\n",
      "\n",
      "           0       0.87      0.40      0.55        50\n",
      "           1       0.44      0.89      0.59        27\n",
      "\n",
      "    accuracy                           0.57        77\n",
      "   macro avg       0.66      0.64      0.57        77\n",
      "weighted avg       0.72      0.57      0.56        77\n",
      "\n",
      "-------------------------------------------------------------------------------------------------------------------\n"
     ]
    },
    {
     "name": "stderr",
     "output_type": "stream",
     "text": [
      "[Parallel(n_jobs=-1)]: Using backend LokyBackend with 12 concurrent workers.\n",
      "[Parallel(n_jobs=-1)]: Done   1 out of   1 | elapsed:  6.3min finished\n"
     ]
    },
    {
     "name": "stdout",
     "output_type": "stream",
     "text": [
      "K-Fold #3\n",
      "Mean negativities for all classes: [0.31741342915256987]\n",
      "Mean entropies for all classes: [4.06602321396251e-15]\n",
      "              precision    recall  f1-score   support\n",
      "\n",
      "           0       0.74      0.34      0.47        50\n",
      "           1       0.39      0.78      0.52        27\n",
      "\n",
      "    accuracy                           0.49        77\n",
      "   macro avg       0.56      0.56      0.49        77\n",
      "weighted avg       0.62      0.49      0.48        77\n",
      "\n",
      "-------------------------------------------------------------------------------------------------------------------\n"
     ]
    },
    {
     "name": "stderr",
     "output_type": "stream",
     "text": [
      "[Parallel(n_jobs=-1)]: Using backend LokyBackend with 12 concurrent workers.\n",
      "[Parallel(n_jobs=-1)]: Done   1 out of   1 | elapsed:  6.3min finished\n"
     ]
    },
    {
     "name": "stdout",
     "output_type": "stream",
     "text": [
      "K-Fold #4\n",
      "Mean negativities for all classes: [0.30545001443475267]\n",
      "Mean entropies for all classes: [4.000471688601098e-15]\n",
      "              precision    recall  f1-score   support\n",
      "\n",
      "           0       0.75      0.24      0.36        50\n",
      "           1       0.38      0.85      0.52        27\n",
      "\n",
      "    accuracy                           0.45        77\n",
      "   macro avg       0.56      0.55      0.44        77\n",
      "weighted avg       0.62      0.45      0.42        77\n",
      "\n",
      "-------------------------------------------------------------------------------------------------------------------\n"
     ]
    },
    {
     "name": "stderr",
     "output_type": "stream",
     "text": [
      "[Parallel(n_jobs=-1)]: Using backend LokyBackend with 12 concurrent workers.\n",
      "[Parallel(n_jobs=-1)]: Done   1 out of   1 | elapsed:  6.3min finished\n"
     ]
    },
    {
     "name": "stdout",
     "output_type": "stream",
     "text": [
      "K-Fold #5\n",
      "Mean negativities for all classes: [0.30320600321701296]\n",
      "Mean entropies for all classes: [4.2610941174155166e-15]\n",
      "              precision    recall  f1-score   support\n",
      "\n",
      "           0       0.79      0.30      0.43        50\n",
      "           1       0.40      0.85      0.54        27\n",
      "\n",
      "    accuracy                           0.49        77\n",
      "   macro avg       0.59      0.58      0.49        77\n",
      "weighted avg       0.65      0.49      0.47        77\n",
      "\n",
      "-------------------------------------------------------------------------------------------------------------------\n"
     ]
    },
    {
     "name": "stderr",
     "output_type": "stream",
     "text": [
      "[Parallel(n_jobs=-1)]: Using backend LokyBackend with 12 concurrent workers.\n",
      "[Parallel(n_jobs=-1)]: Done   1 out of   1 | elapsed:  6.3min finished\n"
     ]
    },
    {
     "name": "stdout",
     "output_type": "stream",
     "text": [
      "K-Fold #6\n",
      "Mean negativities for all classes: [0.3092533920518634]\n",
      "Mean entropies for all classes: [4.0317462130312824e-15]\n",
      "              precision    recall  f1-score   support\n",
      "\n",
      "           0       0.89      0.32      0.47        50\n",
      "           1       0.42      0.93      0.58        27\n",
      "\n",
      "    accuracy                           0.53        77\n",
      "   macro avg       0.66      0.62      0.53        77\n",
      "weighted avg       0.73      0.53      0.51        77\n",
      "\n",
      "-------------------------------------------------------------------------------------------------------------------\n"
     ]
    },
    {
     "name": "stderr",
     "output_type": "stream",
     "text": [
      "[Parallel(n_jobs=-1)]: Using backend LokyBackend with 12 concurrent workers.\n",
      "[Parallel(n_jobs=-1)]: Done   1 out of   1 | elapsed:  6.3min finished\n"
     ]
    },
    {
     "name": "stdout",
     "output_type": "stream",
     "text": [
      "K-Fold #7\n",
      "Mean negativities for all classes: [0.3074953066383117]\n",
      "Mean entropies for all classes: [3.869986750317461e-15]\n",
      "              precision    recall  f1-score   support\n",
      "\n",
      "           0       0.82      0.36      0.50        50\n",
      "           1       0.42      0.85      0.56        27\n",
      "\n",
      "    accuracy                           0.53        77\n",
      "   macro avg       0.62      0.61      0.53        77\n",
      "weighted avg       0.68      0.53      0.52        77\n",
      "\n",
      "-------------------------------------------------------------------------------------------------------------------\n"
     ]
    },
    {
     "name": "stderr",
     "output_type": "stream",
     "text": [
      "[Parallel(n_jobs=-1)]: Using backend LokyBackend with 12 concurrent workers.\n",
      "[Parallel(n_jobs=-1)]: Done   1 out of   1 | elapsed:  6.3min finished\n"
     ]
    },
    {
     "name": "stdout",
     "output_type": "stream",
     "text": [
      "K-Fold #8\n",
      "Mean negativities for all classes: [0.31774226500424485]\n",
      "Mean entropies for all classes: [4.177446030244126e-15]\n",
      "              precision    recall  f1-score   support\n",
      "\n",
      "           0       0.85      0.34      0.49        50\n",
      "           1       0.41      0.88      0.56        26\n",
      "\n",
      "    accuracy                           0.53        76\n",
      "   macro avg       0.63      0.61      0.52        76\n",
      "weighted avg       0.70      0.53      0.51        76\n",
      "\n",
      "-------------------------------------------------------------------------------------------------------------------\n"
     ]
    },
    {
     "name": "stderr",
     "output_type": "stream",
     "text": [
      "[Parallel(n_jobs=-1)]: Using backend LokyBackend with 12 concurrent workers.\n",
      "[Parallel(n_jobs=-1)]: Done   1 out of   1 | elapsed:  6.3min finished\n"
     ]
    },
    {
     "name": "stdout",
     "output_type": "stream",
     "text": [
      "K-Fold #9\n",
      "Mean negativities for all classes: [0.3164474629010328]\n",
      "Mean entropies for all classes: [4.279333762102116e-15]\n",
      "              precision    recall  f1-score   support\n",
      "\n",
      "           0       0.89      0.34      0.49        50\n",
      "           1       0.42      0.92      0.58        26\n",
      "\n",
      "    accuracy                           0.54        76\n",
      "   macro avg       0.66      0.63      0.54        76\n",
      "weighted avg       0.73      0.54      0.52        76\n",
      "\n",
      "-------------------------------------------------------------------------------------------------------------------\n",
      "AVG: Scores = 0.5143711551606288 F1-Scores = 0.5099269323582238 Negativity = [0.29497792778918475, 0.3170378810635359] Entropy = [4.0466696836171016e-15, 4.055408646046991e-15]\n"
     ]
    },
    {
     "name": "stderr",
     "output_type": "stream",
     "text": [
      "[Parallel(n_jobs=-1)]: Using backend LokyBackend with 12 concurrent workers.\n",
      "[Parallel(n_jobs=-1)]: Done   1 out of   1 | elapsed:  6.3min finished\n"
     ]
    },
    {
     "name": "stdout",
     "output_type": "stream",
     "text": [
      "K-Fold #0\n",
      "Mean negativities for all classes: [0.30729481495954636]\n",
      "Mean entropies for all classes: [4.3817337984005194e-15]\n",
      "              precision    recall  f1-score   support\n",
      "\n",
      "           0       0.75      0.30      0.43        50\n",
      "           1       0.39      0.81      0.52        27\n",
      "\n",
      "    accuracy                           0.48        77\n",
      "   macro avg       0.57      0.56      0.48        77\n",
      "weighted avg       0.62      0.48      0.46        77\n",
      "\n",
      "-------------------------------------------------------------------------------------------------------------------\n"
     ]
    },
    {
     "name": "stderr",
     "output_type": "stream",
     "text": [
      "[Parallel(n_jobs=-1)]: Using backend LokyBackend with 12 concurrent workers.\n",
      "[Parallel(n_jobs=-1)]: Done   1 out of   1 | elapsed:  6.3min finished\n"
     ]
    },
    {
     "name": "stdout",
     "output_type": "stream",
     "text": [
      "K-Fold #1\n",
      "Mean negativities for all classes: [0.3008761631604573]\n",
      "Mean entropies for all classes: [3.905758529016387e-15]\n",
      "              precision    recall  f1-score   support\n",
      "\n",
      "           0       0.76      0.26      0.39        50\n",
      "           1       0.38      0.85      0.53        27\n",
      "\n",
      "    accuracy                           0.47        77\n",
      "   macro avg       0.57      0.56      0.46        77\n",
      "weighted avg       0.63      0.47      0.44        77\n",
      "\n",
      "-------------------------------------------------------------------------------------------------------------------\n"
     ]
    },
    {
     "name": "stderr",
     "output_type": "stream",
     "text": [
      "[Parallel(n_jobs=-1)]: Using backend LokyBackend with 12 concurrent workers.\n",
      "[Parallel(n_jobs=-1)]: Done   1 out of   1 | elapsed:  6.3min finished\n"
     ]
    },
    {
     "name": "stdout",
     "output_type": "stream",
     "text": [
      "K-Fold #2\n",
      "Mean negativities for all classes: [0.3149013272278261]\n",
      "Mean entropies for all classes: [4.157035415844752e-15]\n",
      "              precision    recall  f1-score   support\n",
      "\n",
      "           0       0.80      0.40      0.53        50\n",
      "           1       0.42      0.81      0.56        27\n",
      "\n",
      "    accuracy                           0.55        77\n",
      "   macro avg       0.61      0.61      0.55        77\n",
      "weighted avg       0.67      0.55      0.54        77\n",
      "\n",
      "-------------------------------------------------------------------------------------------------------------------\n"
     ]
    },
    {
     "name": "stderr",
     "output_type": "stream",
     "text": [
      "[Parallel(n_jobs=-1)]: Using backend LokyBackend with 12 concurrent workers.\n",
      "[Parallel(n_jobs=-1)]: Done   1 out of   1 | elapsed:  6.3min finished\n"
     ]
    },
    {
     "name": "stdout",
     "output_type": "stream",
     "text": [
      "K-Fold #3\n",
      "Mean negativities for all classes: [0.3121206921470424]\n",
      "Mean entropies for all classes: [4.138762672346184e-15]\n",
      "              precision    recall  f1-score   support\n",
      "\n",
      "           0       1.00      0.32      0.48        50\n",
      "           1       0.44      1.00      0.61        27\n",
      "\n",
      "    accuracy                           0.56        77\n",
      "   macro avg       0.72      0.66      0.55        77\n",
      "weighted avg       0.80      0.56      0.53        77\n",
      "\n",
      "-------------------------------------------------------------------------------------------------------------------\n"
     ]
    },
    {
     "name": "stderr",
     "output_type": "stream",
     "text": [
      "[Parallel(n_jobs=-1)]: Using backend LokyBackend with 12 concurrent workers.\n",
      "[Parallel(n_jobs=-1)]: Done   1 out of   1 | elapsed:  6.3min finished\n"
     ]
    },
    {
     "name": "stdout",
     "output_type": "stream",
     "text": [
      "K-Fold #4\n",
      "Mean negativities for all classes: [0.31249643707113106]\n",
      "Mean entropies for all classes: [4.200070069492039e-15]\n",
      "              precision    recall  f1-score   support\n",
      "\n",
      "           0       0.76      0.38      0.51        50\n",
      "           1       0.40      0.78      0.53        27\n",
      "\n",
      "    accuracy                           0.52        77\n",
      "   macro avg       0.58      0.58      0.52        77\n",
      "weighted avg       0.64      0.52      0.52        77\n",
      "\n",
      "-------------------------------------------------------------------------------------------------------------------\n"
     ]
    },
    {
     "name": "stderr",
     "output_type": "stream",
     "text": [
      "[Parallel(n_jobs=-1)]: Using backend LokyBackend with 12 concurrent workers.\n",
      "[Parallel(n_jobs=-1)]: Done   1 out of   1 | elapsed:  6.3min finished\n"
     ]
    },
    {
     "name": "stdout",
     "output_type": "stream",
     "text": [
      "K-Fold #5\n",
      "Mean negativities for all classes: [0.3026823580251797]\n",
      "Mean entropies for all classes: [3.920190433002313e-15]\n",
      "              precision    recall  f1-score   support\n",
      "\n",
      "           0       0.80      0.24      0.37        50\n",
      "           1       0.39      0.89      0.54        27\n",
      "\n",
      "    accuracy                           0.47        77\n",
      "   macro avg       0.59      0.56      0.45        77\n",
      "weighted avg       0.66      0.47      0.43        77\n",
      "\n",
      "-------------------------------------------------------------------------------------------------------------------\n"
     ]
    },
    {
     "name": "stderr",
     "output_type": "stream",
     "text": [
      "[Parallel(n_jobs=-1)]: Using backend LokyBackend with 12 concurrent workers.\n",
      "[Parallel(n_jobs=-1)]: Done   1 out of   1 | elapsed:  6.3min finished\n"
     ]
    },
    {
     "name": "stdout",
     "output_type": "stream",
     "text": [
      "K-Fold #6\n",
      "Mean negativities for all classes: [0.32337284186817306]\n",
      "Mean entropies for all classes: [4.11797177039185e-15]\n",
      "              precision    recall  f1-score   support\n",
      "\n",
      "           0       0.70      0.28      0.40        50\n",
      "           1       0.37      0.78      0.50        27\n",
      "\n",
      "    accuracy                           0.45        77\n",
      "   macro avg       0.53      0.53      0.45        77\n",
      "weighted avg       0.58      0.45      0.44        77\n",
      "\n",
      "-------------------------------------------------------------------------------------------------------------------\n"
     ]
    },
    {
     "name": "stderr",
     "output_type": "stream",
     "text": [
      "[Parallel(n_jobs=-1)]: Using backend LokyBackend with 12 concurrent workers.\n",
      "[Parallel(n_jobs=-1)]: Done   1 out of   1 | elapsed:  6.4min finished\n"
     ]
    },
    {
     "name": "stdout",
     "output_type": "stream",
     "text": [
      "K-Fold #7\n",
      "Mean negativities for all classes: [0.31623174138917476]\n",
      "Mean entropies for all classes: [4.22414896994585e-15]\n",
      "              precision    recall  f1-score   support\n",
      "\n",
      "           0       0.82      0.28      0.42        50\n",
      "           1       0.40      0.89      0.55        27\n",
      "\n",
      "    accuracy                           0.49        77\n",
      "   macro avg       0.61      0.58      0.48        77\n",
      "weighted avg       0.68      0.49      0.46        77\n",
      "\n",
      "-------------------------------------------------------------------------------------------------------------------\n"
     ]
    },
    {
     "name": "stderr",
     "output_type": "stream",
     "text": [
      "[Parallel(n_jobs=-1)]: Using backend LokyBackend with 12 concurrent workers.\n",
      "[Parallel(n_jobs=-1)]: Done   1 out of   1 | elapsed:  6.2min finished\n"
     ]
    },
    {
     "name": "stdout",
     "output_type": "stream",
     "text": [
      "K-Fold #8\n",
      "Mean negativities for all classes: [0.32195323536970144]\n",
      "Mean entropies for all classes: [4.143544555885872e-15]\n",
      "              precision    recall  f1-score   support\n",
      "\n",
      "           0       0.74      0.28      0.41        50\n",
      "           1       0.37      0.81      0.51        26\n",
      "\n",
      "    accuracy                           0.46        76\n",
      "   macro avg       0.55      0.54      0.46        76\n",
      "weighted avg       0.61      0.46      0.44        76\n",
      "\n",
      "-------------------------------------------------------------------------------------------------------------------\n"
     ]
    },
    {
     "name": "stderr",
     "output_type": "stream",
     "text": [
      "[Parallel(n_jobs=-1)]: Using backend LokyBackend with 12 concurrent workers.\n",
      "[Parallel(n_jobs=-1)]: Done   1 out of   1 | elapsed:  6.4min finished\n"
     ]
    },
    {
     "name": "stdout",
     "output_type": "stream",
     "text": [
      "K-Fold #9\n",
      "Mean negativities for all classes: [0.3155379018497958]\n",
      "Mean entropies for all classes: [4.1149427198299635e-15]\n",
      "              precision    recall  f1-score   support\n",
      "\n",
      "           0       0.83      0.50      0.62        50\n",
      "           1       0.46      0.81      0.58        26\n",
      "\n",
      "    accuracy                           0.61        76\n",
      "   macro avg       0.64      0.65      0.60        76\n",
      "weighted avg       0.70      0.61      0.61        76\n",
      "\n",
      "-------------------------------------------------------------------------------------------------------------------\n",
      "AVG: Scores = 0.5052802460697198 F1-Scores = 0.49973072291333664 Negativity = [0.30729481495954636, 0.3008761631604573] Entropy = [4.3817337984005194e-15, 3.905758529016387e-15]\n"
     ]
    },
    {
     "name": "stderr",
     "output_type": "stream",
     "text": [
      "[Parallel(n_jobs=-1)]: Using backend LokyBackend with 12 concurrent workers.\n",
      "[Parallel(n_jobs=-1)]: Done   1 out of   1 | elapsed:  6.3min finished\n"
     ]
    },
    {
     "name": "stdout",
     "output_type": "stream",
     "text": [
      "K-Fold #0\n",
      "Mean negativities for all classes: [0.3155246867850307]\n",
      "Mean entropies for all classes: [4.296092154743395e-15]\n",
      "              precision    recall  f1-score   support\n",
      "\n",
      "           0       0.67      0.20      0.31        50\n",
      "           1       0.35      0.81      0.49        27\n",
      "\n",
      "    accuracy                           0.42        77\n",
      "   macro avg       0.51      0.51      0.40        77\n",
      "weighted avg       0.56      0.42      0.37        77\n",
      "\n",
      "-------------------------------------------------------------------------------------------------------------------\n"
     ]
    },
    {
     "name": "stderr",
     "output_type": "stream",
     "text": [
      "[Parallel(n_jobs=-1)]: Using backend LokyBackend with 12 concurrent workers.\n",
      "[Parallel(n_jobs=-1)]: Done   1 out of   1 | elapsed:  6.3min finished\n"
     ]
    },
    {
     "name": "stdout",
     "output_type": "stream",
     "text": [
      "K-Fold #1\n",
      "Mean negativities for all classes: [0.31314003541123475]\n",
      "Mean entropies for all classes: [4.032069429478557e-15]\n",
      "              precision    recall  f1-score   support\n",
      "\n",
      "           0       0.76      0.26      0.39        50\n",
      "           1       0.38      0.85      0.53        27\n",
      "\n",
      "    accuracy                           0.47        77\n",
      "   macro avg       0.57      0.56      0.46        77\n",
      "weighted avg       0.63      0.47      0.44        77\n",
      "\n",
      "-------------------------------------------------------------------------------------------------------------------\n"
     ]
    },
    {
     "name": "stderr",
     "output_type": "stream",
     "text": [
      "[Parallel(n_jobs=-1)]: Using backend LokyBackend with 12 concurrent workers.\n",
      "[Parallel(n_jobs=-1)]: Done   1 out of   1 | elapsed:  6.3min finished\n"
     ]
    },
    {
     "name": "stdout",
     "output_type": "stream",
     "text": [
      "K-Fold #2\n",
      "Mean negativities for all classes: [0.3102002078246532]\n",
      "Mean entropies for all classes: [4.047546144435477e-15]\n",
      "              precision    recall  f1-score   support\n",
      "\n",
      "           0       0.82      0.36      0.50        50\n",
      "           1       0.42      0.85      0.56        27\n",
      "\n",
      "    accuracy                           0.53        77\n",
      "   macro avg       0.62      0.61      0.53        77\n",
      "weighted avg       0.68      0.53      0.52        77\n",
      "\n",
      "-------------------------------------------------------------------------------------------------------------------\n"
     ]
    },
    {
     "name": "stderr",
     "output_type": "stream",
     "text": [
      "[Parallel(n_jobs=-1)]: Using backend LokyBackend with 12 concurrent workers.\n",
      "[Parallel(n_jobs=-1)]: Done   1 out of   1 | elapsed:  6.3min finished\n"
     ]
    },
    {
     "name": "stdout",
     "output_type": "stream",
     "text": [
      "K-Fold #3\n",
      "Mean negativities for all classes: [0.30439877751027455]\n",
      "Mean entropies for all classes: [4.236697611713736e-15]\n",
      "              precision    recall  f1-score   support\n",
      "\n",
      "           0       0.83      0.30      0.44        50\n",
      "           1       0.41      0.89      0.56        27\n",
      "\n",
      "    accuracy                           0.51        77\n",
      "   macro avg       0.62      0.59      0.50        77\n",
      "weighted avg       0.68      0.51      0.48        77\n",
      "\n",
      "-------------------------------------------------------------------------------------------------------------------\n"
     ]
    },
    {
     "name": "stderr",
     "output_type": "stream",
     "text": [
      "[Parallel(n_jobs=-1)]: Using backend LokyBackend with 12 concurrent workers.\n",
      "[Parallel(n_jobs=-1)]: Done   1 out of   1 | elapsed:  6.3min finished\n"
     ]
    },
    {
     "name": "stdout",
     "output_type": "stream",
     "text": [
      "K-Fold #4\n",
      "Mean negativities for all classes: [0.3131417943432315]\n",
      "Mean entropies for all classes: [4.376077787879889e-15]\n",
      "              precision    recall  f1-score   support\n",
      "\n",
      "           0       0.65      0.26      0.37        50\n",
      "           1       0.35      0.74      0.48        27\n",
      "\n",
      "    accuracy                           0.43        77\n",
      "   macro avg       0.50      0.50      0.42        77\n",
      "weighted avg       0.55      0.43      0.41        77\n",
      "\n",
      "-------------------------------------------------------------------------------------------------------------------\n"
     ]
    },
    {
     "name": "stderr",
     "output_type": "stream",
     "text": [
      "[Parallel(n_jobs=-1)]: Using backend LokyBackend with 12 concurrent workers.\n",
      "[Parallel(n_jobs=-1)]: Done   1 out of   1 | elapsed:  6.3min finished\n"
     ]
    },
    {
     "name": "stdout",
     "output_type": "stream",
     "text": [
      "K-Fold #5\n",
      "Mean negativities for all classes: [0.30601706024265857]\n",
      "Mean entropies for all classes: [4.071180826683326e-15]\n",
      "              precision    recall  f1-score   support\n",
      "\n",
      "           0       0.74      0.34      0.47        50\n",
      "           1       0.39      0.78      0.52        27\n",
      "\n",
      "    accuracy                           0.49        77\n",
      "   macro avg       0.56      0.56      0.49        77\n",
      "weighted avg       0.62      0.49      0.48        77\n",
      "\n",
      "-------------------------------------------------------------------------------------------------------------------\n"
     ]
    },
    {
     "name": "stderr",
     "output_type": "stream",
     "text": [
      "[Parallel(n_jobs=-1)]: Using backend LokyBackend with 12 concurrent workers.\n",
      "[Parallel(n_jobs=-1)]: Done   1 out of   1 | elapsed:  6.3min finished\n"
     ]
    },
    {
     "name": "stdout",
     "output_type": "stream",
     "text": [
      "K-Fold #6\n",
      "Mean negativities for all classes: [0.31358439019746964]\n",
      "Mean entropies for all classes: [4.096995713482111e-15]\n",
      "              precision    recall  f1-score   support\n",
      "\n",
      "           0       0.73      0.32      0.44        50\n",
      "           1       0.38      0.78      0.51        27\n",
      "\n",
      "    accuracy                           0.48        77\n",
      "   macro avg       0.55      0.55      0.48        77\n",
      "weighted avg       0.61      0.48      0.47        77\n",
      "\n",
      "-------------------------------------------------------------------------------------------------------------------\n"
     ]
    },
    {
     "name": "stderr",
     "output_type": "stream",
     "text": [
      "[Parallel(n_jobs=-1)]: Using backend LokyBackend with 12 concurrent workers.\n",
      "[Parallel(n_jobs=-1)]: Done   1 out of   1 | elapsed:  6.4min finished\n"
     ]
    },
    {
     "name": "stdout",
     "output_type": "stream",
     "text": [
      "K-Fold #7\n",
      "Mean negativities for all classes: [0.30957184025958073]\n",
      "Mean entropies for all classes: [4.483345963754782e-15]\n",
      "              precision    recall  f1-score   support\n",
      "\n",
      "           0       0.88      0.30      0.45        50\n",
      "           1       0.42      0.93      0.57        27\n",
      "\n",
      "    accuracy                           0.52        77\n",
      "   macro avg       0.65      0.61      0.51        77\n",
      "weighted avg       0.72      0.52      0.49        77\n",
      "\n",
      "-------------------------------------------------------------------------------------------------------------------\n"
     ]
    },
    {
     "name": "stderr",
     "output_type": "stream",
     "text": [
      "[Parallel(n_jobs=-1)]: Using backend LokyBackend with 12 concurrent workers.\n",
      "[Parallel(n_jobs=-1)]: Done   1 out of   1 | elapsed:  6.3min finished\n"
     ]
    },
    {
     "name": "stdout",
     "output_type": "stream",
     "text": [
      "K-Fold #8\n",
      "Mean negativities for all classes: [0.30879325768400656]\n",
      "Mean entropies for all classes: [4.260195697836676e-15]\n",
      "              precision    recall  f1-score   support\n",
      "\n",
      "           0       0.88      0.30      0.45        50\n",
      "           1       0.41      0.92      0.56        26\n",
      "\n",
      "    accuracy                           0.51        76\n",
      "   macro avg       0.64      0.61      0.51        76\n",
      "weighted avg       0.72      0.51      0.49        76\n",
      "\n",
      "-------------------------------------------------------------------------------------------------------------------\n"
     ]
    },
    {
     "name": "stderr",
     "output_type": "stream",
     "text": [
      "[Parallel(n_jobs=-1)]: Using backend LokyBackend with 12 concurrent workers.\n",
      "[Parallel(n_jobs=-1)]: Done   1 out of   1 | elapsed:  6.3min finished\n"
     ]
    },
    {
     "name": "stdout",
     "output_type": "stream",
     "text": [
      "K-Fold #9\n",
      "Mean negativities for all classes: [0.31614101331459515]\n",
      "Mean entropies for all classes: [4.01750116039685e-15]\n",
      "              precision    recall  f1-score   support\n",
      "\n",
      "           0       0.82      0.36      0.50        50\n",
      "           1       0.41      0.85      0.55        26\n",
      "\n",
      "    accuracy                           0.53        76\n",
      "   macro avg       0.61      0.60      0.52        76\n",
      "weighted avg       0.68      0.53      0.52        76\n",
      "\n",
      "-------------------------------------------------------------------------------------------------------------------\n",
      "AVG: Scores = 0.488362952836637 F1-Scores = 0.48263163751751426 Negativity = [0.3155246867850307, 0.31314003541123475] Entropy = [4.296092154743395e-15, 4.032069429478557e-15]\n"
     ]
    },
    {
     "name": "stderr",
     "output_type": "stream",
     "text": [
      "[Parallel(n_jobs=-1)]: Using backend LokyBackend with 12 concurrent workers.\n",
      "[Parallel(n_jobs=-1)]: Done   1 out of   1 | elapsed:  6.3min finished\n"
     ]
    },
    {
     "name": "stdout",
     "output_type": "stream",
     "text": [
      "K-Fold #0\n",
      "Mean negativities for all classes: [0.31078495689242563]\n",
      "Mean entropies for all classes: [4.178481378410036e-15]\n",
      "              precision    recall  f1-score   support\n",
      "\n",
      "           0       0.75      0.24      0.36        50\n",
      "           1       0.38      0.85      0.52        27\n",
      "\n",
      "    accuracy                           0.45        77\n",
      "   macro avg       0.56      0.55      0.44        77\n",
      "weighted avg       0.62      0.45      0.42        77\n",
      "\n",
      "-------------------------------------------------------------------------------------------------------------------\n"
     ]
    },
    {
     "name": "stderr",
     "output_type": "stream",
     "text": [
      "[Parallel(n_jobs=-1)]: Using backend LokyBackend with 12 concurrent workers.\n",
      "[Parallel(n_jobs=-1)]: Done   1 out of   1 | elapsed:  6.4min finished\n"
     ]
    },
    {
     "name": "stdout",
     "output_type": "stream",
     "text": [
      "K-Fold #1\n",
      "Mean negativities for all classes: [0.3193559544725259]\n",
      "Mean entropies for all classes: [3.9975197414896624e-15]\n",
      "              precision    recall  f1-score   support\n",
      "\n",
      "           0       0.77      0.34      0.47        50\n",
      "           1       0.40      0.81      0.54        27\n",
      "\n",
      "    accuracy                           0.51        77\n",
      "   macro avg       0.59      0.58      0.50        77\n",
      "weighted avg       0.64      0.51      0.49        77\n",
      "\n",
      "-------------------------------------------------------------------------------------------------------------------\n"
     ]
    },
    {
     "name": "stderr",
     "output_type": "stream",
     "text": [
      "[Parallel(n_jobs=-1)]: Using backend LokyBackend with 12 concurrent workers.\n",
      "[Parallel(n_jobs=-1)]: Done   1 out of   1 | elapsed:  6.3min finished\n"
     ]
    },
    {
     "name": "stdout",
     "output_type": "stream",
     "text": [
      "K-Fold #2\n",
      "Mean negativities for all classes: [0.3166425941033969]\n",
      "Mean entropies for all classes: [4.102794155830218e-15]\n",
      "              precision    recall  f1-score   support\n",
      "\n",
      "           0       0.82      0.46      0.59        50\n",
      "           1       0.45      0.81      0.58        27\n",
      "\n",
      "    accuracy                           0.58        77\n",
      "   macro avg       0.64      0.64      0.58        77\n",
      "weighted avg       0.69      0.58      0.59        77\n",
      "\n",
      "-------------------------------------------------------------------------------------------------------------------\n"
     ]
    },
    {
     "name": "stderr",
     "output_type": "stream",
     "text": [
      "[Parallel(n_jobs=-1)]: Using backend LokyBackend with 12 concurrent workers.\n",
      "[Parallel(n_jobs=-1)]: Done   1 out of   1 | elapsed:  6.3min finished\n"
     ]
    },
    {
     "name": "stdout",
     "output_type": "stream",
     "text": [
      "K-Fold #3\n",
      "Mean negativities for all classes: [0.3185023074395027]\n",
      "Mean entropies for all classes: [4.0247370736008634e-15]\n",
      "              precision    recall  f1-score   support\n",
      "\n",
      "           0       0.83      0.38      0.52        50\n",
      "           1       0.43      0.85      0.57        27\n",
      "\n",
      "    accuracy                           0.55        77\n",
      "   macro avg       0.63      0.62      0.54        77\n",
      "weighted avg       0.69      0.55      0.54        77\n",
      "\n",
      "-------------------------------------------------------------------------------------------------------------------\n"
     ]
    },
    {
     "name": "stderr",
     "output_type": "stream",
     "text": [
      "[Parallel(n_jobs=-1)]: Using backend LokyBackend with 12 concurrent workers.\n",
      "[Parallel(n_jobs=-1)]: Done   1 out of   1 | elapsed:  6.3min finished\n"
     ]
    },
    {
     "name": "stdout",
     "output_type": "stream",
     "text": [
      "K-Fold #4\n",
      "Mean negativities for all classes: [0.3089168187776136]\n",
      "Mean entropies for all classes: [4.163587317652682e-15]\n",
      "              precision    recall  f1-score   support\n",
      "\n",
      "           0       0.81      0.42      0.55        50\n",
      "           1       0.43      0.81      0.56        27\n",
      "\n",
      "    accuracy                           0.56        77\n",
      "   macro avg       0.62      0.62      0.56        77\n",
      "weighted avg       0.68      0.56      0.56        77\n",
      "\n",
      "-------------------------------------------------------------------------------------------------------------------\n"
     ]
    },
    {
     "name": "stderr",
     "output_type": "stream",
     "text": [
      "[Parallel(n_jobs=-1)]: Using backend LokyBackend with 12 concurrent workers.\n",
      "[Parallel(n_jobs=-1)]: Done   1 out of   1 | elapsed:  6.3min finished\n"
     ]
    },
    {
     "name": "stdout",
     "output_type": "stream",
     "text": [
      "K-Fold #5\n",
      "Mean negativities for all classes: [0.3010867907556665]\n",
      "Mean entropies for all classes: [4.2609332769635196e-15]\n",
      "              precision    recall  f1-score   support\n",
      "\n",
      "           0       0.89      0.32      0.47        50\n",
      "           1       0.42      0.93      0.58        27\n",
      "\n",
      "    accuracy                           0.53        77\n",
      "   macro avg       0.66      0.62      0.53        77\n",
      "weighted avg       0.73      0.53      0.51        77\n",
      "\n",
      "-------------------------------------------------------------------------------------------------------------------\n"
     ]
    },
    {
     "name": "stderr",
     "output_type": "stream",
     "text": [
      "[Parallel(n_jobs=-1)]: Using backend LokyBackend with 12 concurrent workers.\n",
      "[Parallel(n_jobs=-1)]: Done   1 out of   1 | elapsed:  6.3min finished\n"
     ]
    },
    {
     "name": "stdout",
     "output_type": "stream",
     "text": [
      "K-Fold #6\n",
      "Mean negativities for all classes: [0.3125501898567648]\n",
      "Mean entropies for all classes: [4.010769612360275e-15]\n",
      "              precision    recall  f1-score   support\n",
      "\n",
      "           0       0.86      0.24      0.38        50\n",
      "           1       0.40      0.93      0.56        27\n",
      "\n",
      "    accuracy                           0.48        77\n",
      "   macro avg       0.63      0.58      0.47        77\n",
      "weighted avg       0.70      0.48      0.44        77\n",
      "\n",
      "-------------------------------------------------------------------------------------------------------------------\n"
     ]
    },
    {
     "name": "stderr",
     "output_type": "stream",
     "text": [
      "[Parallel(n_jobs=-1)]: Using backend LokyBackend with 12 concurrent workers.\n",
      "[Parallel(n_jobs=-1)]: Done   1 out of   1 | elapsed:  6.2min finished\n"
     ]
    },
    {
     "name": "stdout",
     "output_type": "stream",
     "text": [
      "K-Fold #7\n",
      "Mean negativities for all classes: [0.32878435435473463]\n",
      "Mean entropies for all classes: [4.2387180629232494e-15]\n",
      "              precision    recall  f1-score   support\n",
      "\n",
      "           0       0.70      0.28      0.40        50\n",
      "           1       0.37      0.78      0.50        27\n",
      "\n",
      "    accuracy                           0.45        77\n",
      "   macro avg       0.53      0.53      0.45        77\n",
      "weighted avg       0.58      0.45      0.44        77\n",
      "\n",
      "-------------------------------------------------------------------------------------------------------------------\n"
     ]
    },
    {
     "name": "stderr",
     "output_type": "stream",
     "text": [
      "[Parallel(n_jobs=-1)]: Using backend LokyBackend with 12 concurrent workers.\n",
      "[Parallel(n_jobs=-1)]: Done   1 out of   1 | elapsed:  6.3min finished\n"
     ]
    },
    {
     "name": "stdout",
     "output_type": "stream",
     "text": [
      "K-Fold #8\n",
      "Mean negativities for all classes: [0.31110869828879595]\n",
      "Mean entropies for all classes: [4.09653174186945e-15]\n",
      "              precision    recall  f1-score   support\n",
      "\n",
      "           0       0.83      0.48      0.61        50\n",
      "           1       0.45      0.81      0.58        26\n",
      "\n",
      "    accuracy                           0.59        76\n",
      "   macro avg       0.64      0.64      0.59        76\n",
      "weighted avg       0.70      0.59      0.60        76\n",
      "\n",
      "-------------------------------------------------------------------------------------------------------------------\n"
     ]
    },
    {
     "name": "stderr",
     "output_type": "stream",
     "text": [
      "[Parallel(n_jobs=-1)]: Using backend LokyBackend with 12 concurrent workers.\n",
      "[Parallel(n_jobs=-1)]: Done   1 out of   1 | elapsed:  6.3min finished\n"
     ]
    },
    {
     "name": "stdout",
     "output_type": "stream",
     "text": [
      "K-Fold #9\n",
      "Mean negativities for all classes: [0.323871401477403]\n",
      "Mean entropies for all classes: [4.0304119718099e-15]\n",
      "              precision    recall  f1-score   support\n",
      "\n",
      "           0       0.95      0.42      0.58        50\n",
      "           1       0.46      0.96      0.62        26\n",
      "\n",
      "    accuracy                           0.61        76\n",
      "   macro avg       0.71      0.69      0.60        76\n",
      "weighted avg       0.79      0.61      0.60        76\n",
      "\n",
      "-------------------------------------------------------------------------------------------------------------------\n",
      "AVG: Scores = 0.5314251537935748 F1-Scores = 0.5271427690454986 Negativity = [0.31078495689242563, 0.3193559544725259] Entropy = [4.178481378410036e-15, 3.9975197414896624e-15]\n"
     ]
    },
    {
     "name": "stderr",
     "output_type": "stream",
     "text": [
      "[Parallel(n_jobs=-1)]: Using backend LokyBackend with 12 concurrent workers.\n",
      "[Parallel(n_jobs=-1)]: Done   1 out of   1 | elapsed:  6.3min finished\n"
     ]
    },
    {
     "name": "stdout",
     "output_type": "stream",
     "text": [
      "K-Fold #0\n",
      "Mean negativities for all classes: [0.3096993025967261]\n",
      "Mean entropies for all classes: [4.308316936408954e-15]\n",
      "              precision    recall  f1-score   support\n",
      "\n",
      "           0       0.91      0.40      0.56        50\n",
      "           1       0.45      0.93      0.61        27\n",
      "\n",
      "    accuracy                           0.58        77\n",
      "   macro avg       0.68      0.66      0.58        77\n",
      "weighted avg       0.75      0.58      0.57        77\n",
      "\n",
      "-------------------------------------------------------------------------------------------------------------------\n"
     ]
    },
    {
     "name": "stderr",
     "output_type": "stream",
     "text": [
      "[Parallel(n_jobs=-1)]: Using backend LokyBackend with 12 concurrent workers.\n",
      "[Parallel(n_jobs=-1)]: Done   1 out of   1 | elapsed:  6.3min finished\n"
     ]
    },
    {
     "name": "stdout",
     "output_type": "stream",
     "text": [
      "K-Fold #1\n",
      "Mean negativities for all classes: [0.3036221484826579]\n",
      "Mean entropies for all classes: [3.884133746686807e-15]\n",
      "              precision    recall  f1-score   support\n",
      "\n",
      "           0       0.76      0.38      0.51        50\n",
      "           1       0.40      0.78      0.53        27\n",
      "\n",
      "    accuracy                           0.52        77\n",
      "   macro avg       0.58      0.58      0.52        77\n",
      "weighted avg       0.64      0.52      0.52        77\n",
      "\n",
      "-------------------------------------------------------------------------------------------------------------------\n"
     ]
    },
    {
     "name": "stderr",
     "output_type": "stream",
     "text": [
      "[Parallel(n_jobs=-1)]: Using backend LokyBackend with 12 concurrent workers.\n",
      "[Parallel(n_jobs=-1)]: Done   1 out of   1 | elapsed:  6.3min finished\n"
     ]
    },
    {
     "name": "stdout",
     "output_type": "stream",
     "text": [
      "K-Fold #2\n",
      "Mean negativities for all classes: [0.3057860748308977]\n",
      "Mean entropies for all classes: [4.187323763702484e-15]\n",
      "              precision    recall  f1-score   support\n",
      "\n",
      "           0       0.84      0.32      0.46        50\n",
      "           1       0.41      0.89      0.56        27\n",
      "\n",
      "    accuracy                           0.52        77\n",
      "   macro avg       0.63      0.60      0.51        77\n",
      "weighted avg       0.69      0.52      0.50        77\n",
      "\n",
      "-------------------------------------------------------------------------------------------------------------------\n"
     ]
    },
    {
     "name": "stderr",
     "output_type": "stream",
     "text": [
      "[Parallel(n_jobs=-1)]: Using backend LokyBackend with 12 concurrent workers.\n",
      "[Parallel(n_jobs=-1)]: Done   1 out of   1 | elapsed:  6.4min finished\n"
     ]
    },
    {
     "name": "stdout",
     "output_type": "stream",
     "text": [
      "K-Fold #3\n",
      "Mean negativities for all classes: [0.3169070485948934]\n",
      "Mean entropies for all classes: [4.034008268127352e-15]\n",
      "              precision    recall  f1-score   support\n",
      "\n",
      "           0       0.90      0.36      0.51        50\n",
      "           1       0.44      0.93      0.60        27\n",
      "\n",
      "    accuracy                           0.56        77\n",
      "   macro avg       0.67      0.64      0.55        77\n",
      "weighted avg       0.74      0.56      0.54        77\n",
      "\n",
      "-------------------------------------------------------------------------------------------------------------------\n"
     ]
    },
    {
     "name": "stderr",
     "output_type": "stream",
     "text": [
      "[Parallel(n_jobs=-1)]: Using backend LokyBackend with 12 concurrent workers.\n",
      "[Parallel(n_jobs=-1)]: Done   1 out of   1 | elapsed:  6.3min finished\n"
     ]
    },
    {
     "name": "stdout",
     "output_type": "stream",
     "text": [
      "K-Fold #4\n",
      "Mean negativities for all classes: [0.3070324253265813]\n",
      "Mean entropies for all classes: [4.014200480832729e-15]\n",
      "              precision    recall  f1-score   support\n",
      "\n",
      "           0       0.80      0.32      0.46        50\n",
      "           1       0.40      0.85      0.55        27\n",
      "\n",
      "    accuracy                           0.51        77\n",
      "   macro avg       0.60      0.59      0.50        77\n",
      "weighted avg       0.66      0.51      0.49        77\n",
      "\n",
      "-------------------------------------------------------------------------------------------------------------------\n"
     ]
    },
    {
     "name": "stderr",
     "output_type": "stream",
     "text": [
      "[Parallel(n_jobs=-1)]: Using backend LokyBackend with 12 concurrent workers.\n",
      "[Parallel(n_jobs=-1)]: Done   1 out of   1 | elapsed:  6.3min finished\n"
     ]
    },
    {
     "name": "stdout",
     "output_type": "stream",
     "text": [
      "K-Fold #5\n",
      "Mean negativities for all classes: [0.3116409713174945]\n",
      "Mean entropies for all classes: [4.320243641300968e-15]\n",
      "              precision    recall  f1-score   support\n",
      "\n",
      "           0       0.65      0.30      0.41        50\n",
      "           1       0.35      0.70      0.47        27\n",
      "\n",
      "    accuracy                           0.44        77\n",
      "   macro avg       0.50      0.50      0.44        77\n",
      "weighted avg       0.55      0.44      0.43        77\n",
      "\n",
      "-------------------------------------------------------------------------------------------------------------------\n"
     ]
    },
    {
     "name": "stderr",
     "output_type": "stream",
     "text": [
      "[Parallel(n_jobs=-1)]: Using backend LokyBackend with 12 concurrent workers.\n",
      "[Parallel(n_jobs=-1)]: Done   1 out of   1 | elapsed:  6.3min finished\n"
     ]
    },
    {
     "name": "stdout",
     "output_type": "stream",
     "text": [
      "K-Fold #6\n",
      "Mean negativities for all classes: [0.3261762476994903]\n",
      "Mean entropies for all classes: [4.316749683305125e-15]\n",
      "              precision    recall  f1-score   support\n",
      "\n",
      "           0       0.76      0.50      0.60        50\n",
      "           1       0.43      0.70      0.54        27\n",
      "\n",
      "    accuracy                           0.57        77\n",
      "   macro avg       0.59      0.60      0.57        77\n",
      "weighted avg       0.64      0.57      0.58        77\n",
      "\n",
      "-------------------------------------------------------------------------------------------------------------------\n"
     ]
    },
    {
     "name": "stderr",
     "output_type": "stream",
     "text": [
      "[Parallel(n_jobs=-1)]: Using backend LokyBackend with 12 concurrent workers.\n",
      "[Parallel(n_jobs=-1)]: Done   1 out of   1 | elapsed:  6.3min finished\n"
     ]
    },
    {
     "name": "stdout",
     "output_type": "stream",
     "text": [
      "K-Fold #7\n",
      "Mean negativities for all classes: [0.30684310472166637]\n",
      "Mean entropies for all classes: [4.222261286373152e-15]\n",
      "              precision    recall  f1-score   support\n",
      "\n",
      "           0       0.80      0.16      0.27        50\n",
      "           1       0.37      0.93      0.53        27\n",
      "\n",
      "    accuracy                           0.43        77\n",
      "   macro avg       0.59      0.54      0.40        77\n",
      "weighted avg       0.65      0.43      0.36        77\n",
      "\n",
      "-------------------------------------------------------------------------------------------------------------------\n"
     ]
    },
    {
     "name": "stderr",
     "output_type": "stream",
     "text": [
      "[Parallel(n_jobs=-1)]: Using backend LokyBackend with 12 concurrent workers.\n",
      "[Parallel(n_jobs=-1)]: Done   1 out of   1 | elapsed:  6.4min finished\n"
     ]
    },
    {
     "name": "stdout",
     "output_type": "stream",
     "text": [
      "K-Fold #8\n",
      "Mean negativities for all classes: [0.31124794377964493]\n",
      "Mean entropies for all classes: [4.136948171023375e-15]\n",
      "              precision    recall  f1-score   support\n",
      "\n",
      "           0       0.89      0.50      0.64        50\n",
      "           1       0.48      0.88      0.62        26\n",
      "\n",
      "    accuracy                           0.63        76\n",
      "   macro avg       0.69      0.69      0.63        76\n",
      "weighted avg       0.75      0.63      0.63        76\n",
      "\n",
      "-------------------------------------------------------------------------------------------------------------------\n"
     ]
    },
    {
     "name": "stderr",
     "output_type": "stream",
     "text": [
      "[Parallel(n_jobs=-1)]: Using backend LokyBackend with 12 concurrent workers.\n",
      "[Parallel(n_jobs=-1)]: Done   1 out of   1 | elapsed:  6.3min finished\n"
     ]
    },
    {
     "name": "stdout",
     "output_type": "stream",
     "text": [
      "K-Fold #9\n",
      "Mean negativities for all classes: [0.30710079512297705]\n",
      "Mean entropies for all classes: [4.225551461705818e-15]\n",
      "              precision    recall  f1-score   support\n",
      "\n",
      "           0       0.86      0.24      0.38        50\n",
      "           1       0.39      0.92      0.55        26\n",
      "\n",
      "    accuracy                           0.47        76\n",
      "   macro avg       0.62      0.58      0.46        76\n",
      "weighted avg       0.70      0.47      0.43        76\n",
      "\n",
      "-------------------------------------------------------------------------------------------------------------------\n",
      "AVG: Scores = 0.5235133287764866 F1-Scores = 0.5172891291554104 Negativity = [0.3096993025967261, 0.3036221484826579] Entropy = [4.308316936408954e-15, 3.884133746686807e-15]\n",
      "CPU times: total: 2min 28s\n",
      "Wall time: 10h 31min 29s\n"
     ]
    }
   ],
   "source": [
    "%%time\n",
    "scores_list = []\n",
    "f1scores_list = []\n",
    "negativities_list = []\n",
    "for SEED in range(n_times_kfold):\n",
    "    scores, f1scores, output_dict = execute_training_test_k_fold(\n",
    "                    X, \n",
    "                    y, \n",
    "                    k_folds=k_times_fold,\n",
    "                    random_seed = SEED, \n",
    "                    classifier_function=classifier_function, \n",
    "                    dic_classifier_params=dic_classifier_params,\n",
    "                    one_vs_classifier=OneVsRestClassifier, \n",
    "                    dic_training_params=dic_training_params,\n",
    "                    print_each_fold_metric=True,\n",
    "                    print_avg_metric=True)\n",
    "    scores_list.append(scores)\n",
    "    f1scores_list.append(f1scores)\n",
    "    negativities_list.append(output_dict[\"negativities\"])"
   ]
  },
  {
   "cell_type": "code",
   "execution_count": 4,
   "id": "168e8aff",
   "metadata": {},
   "outputs": [
    {
     "name": "stdout",
     "output_type": "stream",
     "text": [
      "Media Score dos N K-Fold 0.508092959671907\n",
      "Maior Score dos K-Fold 0.5314251537935748\n",
      "Min Score dos K-Fold 0.488362952836637\n",
      "Media Score dos K-Fold [0.49460013670539976, 0.5064422419685577, 0.5168318523581681, 0.5092105263157894, 0.490892002734108, 0.5143711551606288, 0.5052802460697198, 0.488362952836637, 0.5314251537935748, 0.5235133287764866]\n",
      "\n",
      "\n",
      "[[0.5324675324675324, 0.4675324675324675, 0.5194805194805194, 0.5584415584415584, 0.5584415584415584, 0.4805194805194805, 0.5194805194805194, 0.4675324675324675, 0.39473684210526316, 0.4473684210526316], [0.5584415584415584, 0.5064935064935064, 0.4025974025974026, 0.5324675324675324, 0.5064935064935064, 0.5584415584415584, 0.5454545454545454, 0.4935064935064935, 0.5, 0.4605263157894737], [0.5714285714285714, 0.4935064935064935, 0.5454545454545454, 0.6103896103896104, 0.5064935064935064, 0.5064935064935064, 0.5064935064935064, 0.4675324675324675, 0.47368421052631576, 0.4868421052631579], [0.44155844155844154, 0.5064935064935064, 0.5064935064935064, 0.5324675324675324, 0.5064935064935064, 0.5584415584415584, 0.44155844155844154, 0.5064935064935064, 0.5657894736842105, 0.5263157894736842], [0.4935064935064935, 0.45454545454545453, 0.42857142857142855, 0.5064935064935064, 0.5324675324675324, 0.5324675324675324, 0.5194805194805194, 0.45454545454545453, 0.47368421052631576, 0.5131578947368421], [0.44155844155844154, 0.5584415584415584, 0.5714285714285714, 0.4935064935064935, 0.45454545454545453, 0.4935064935064935, 0.5324675324675324, 0.5324675324675324, 0.5263157894736842, 0.5394736842105263], [0.4805194805194805, 0.4675324675324675, 0.5454545454545454, 0.5584415584415584, 0.5194805194805194, 0.4675324675324675, 0.45454545454545453, 0.4935064935064935, 0.4605263157894737, 0.6052631578947368], [0.4155844155844156, 0.4675324675324675, 0.5324675324675324, 0.5064935064935064, 0.42857142857142855, 0.4935064935064935, 0.4805194805194805, 0.5194805194805194, 0.5131578947368421, 0.5263157894736842], [0.45454545454545453, 0.5064935064935064, 0.5844155844155844, 0.5454545454545454, 0.5584415584415584, 0.5324675324675324, 0.4805194805194805, 0.45454545454545453, 0.5921052631578947, 0.6052631578947368], [0.5844155844155844, 0.5194805194805194, 0.5194805194805194, 0.5584415584415584, 0.5064935064935064, 0.44155844155844154, 0.5714285714285714, 0.42857142857142855, 0.631578947368421, 0.47368421052631576]]\n"
     ]
    }
   ],
   "source": [
    "print(\"Media Score dos N K-Fold\", np.mean([np.mean(i) for i in scores_list]))\n",
    "print(\"Maior Score dos K-Fold\", max([np.mean(i) for i in scores_list]))\n",
    "print(\"Min Score dos K-Fold\", min([np.mean(i) for i in scores_list]))\n",
    "\n",
    "print(\"Media Score dos K-Fold\", [np.mean(i) for i in scores_list])\n",
    "print()\n",
    "print()\n",
    "print(scores_list)"
   ]
  },
  {
   "cell_type": "code",
   "execution_count": 5,
   "id": "fcd239e5",
   "metadata": {},
   "outputs": [
    {
     "name": "stdout",
     "output_type": "stream",
     "text": [
      "Media F1Score dos N K-Fold 0.5025217717559962\n",
      "Maior F1Score dos K-Fold 0.5271427690454986\n",
      "Maior F1Score dos K-Fold 0.48263163751751426\n",
      "Media F1Score dos K-Fold [0.48649177946059785, 0.5005352120258367, 0.5130297906879872, 0.5042783975434973, 0.4841613468520592, 0.5099269323582238, 0.49973072291333664, 0.48263163751751426, 0.5271427690454986, 0.5172891291554104]\n",
      "\n",
      "\n",
      "[[0.51875, 0.4435043187026264, 0.5112369188540058, 0.5565718157181572, 0.5565718157181572, 0.4600280504908836, 0.5142369991474851, 0.4660916624386944, 0.3909407665505227, 0.446985446985447], [0.5577702702702703, 0.4996580027359781, 0.3719858156028369, 0.5304878048780488, 0.5023809523809524, 0.5523255813953488, 0.5426777532665874, 0.48797953964194374, 0.4996534996534997, 0.4604329004329004], [0.5667519181585677, 0.49213597158802636, 0.5404944586530265, 0.6103238866396761, 0.5064102564102564, 0.4962121212121212, 0.5057432432432433, 0.4583976668382227, 0.4677871148459384, 0.48604126929079244], [0.44118143459915615, 0.5044037940379404, 0.4996580027359781, 0.5285714285714286, 0.4962121212121212, 0.5583670715249663, 0.4276577355229041, 0.4996580027359781, 0.5620743844944998, 0.5249999999999999], [0.4808988764044944, 0.4431818181818182, 0.41666666666666663, 0.5023809523809524, 0.5285714285714286, 0.5304878048780488, 0.5165450534532496, 0.4522357723577236, 0.46441155743481327, 0.506233538191396], [0.4319780408303311, 0.5583670715249662, 0.5702688990360223, 0.49213597158802636, 0.4431818181818182, 0.48797953964194374, 0.5259917920656635, 0.5304878048780488, 0.5233449477351917, 0.535533438100227], [0.47619047619047616, 0.4583976668382227, 0.5451476793248945, 0.5492424242424243, 0.5191561181434599, 0.4542783059636992, 0.45, 0.4848172928461143, 0.4559105989174088, 0.6041666666666666], [0.40103716508210885, 0.4583976668382227, 0.5304878048780488, 0.4996580027359781, 0.4238095238095238, 0.49213597158802636, 0.478319783197832, 0.5112369188540058, 0.506233538191396, 0.5249999999999999], [0.4431818181818182, 0.5044037940379404, 0.5843454790823213, 0.5442245898866904, 0.5583670715249663, 0.5259917920656635, 0.46527777777777773, 0.45, 0.5914687012311427, 0.6041666666666667], [0.5826558265582655, 0.5191561181434599, 0.5142369991474851, 0.5547619047619048, 0.5023809523809524, 0.4400473532893624, 0.5688104530799254, 0.39929078014184394, 0.6313236313236313, 0.4602272727272727]]\n"
     ]
    }
   ],
   "source": [
    "print(\"Media F1Score dos N K-Fold\", np.mean([np.mean(i) for i in f1scores_list]))\n",
    "print(\"Maior F1Score dos K-Fold\", max([np.mean(i) for i in f1scores_list]))\n",
    "print(\"Maior F1Score dos K-Fold\", min([np.mean(i) for i in f1scores_list]))\n",
    "\n",
    "print(\"Media F1Score dos K-Fold\", [np.mean(i) for i in f1scores_list])\n",
    "print()\n",
    "print()\n",
    "print(f1scores_list)"
   ]
  },
  {
   "cell_type": "code",
   "execution_count": 6,
   "id": "508127af",
   "metadata": {},
   "outputs": [
    {
     "name": "stdout",
     "output_type": "stream",
     "text": [
      "Media Negativity dos N K-Fold 0.312574505583761\n",
      "\n",
      "\n",
      "[[[0.3024925788769381, 0.3153476445883093, 0.3123415360703181, 0.318880363325705, 0.30504506145775007, 0.305208024422979, 0.31705165220055453, 0.3113102900873769, 0.32502153462907635, 0.31726917561193346]], [[0.29755835582509027, 0.3199871659823694, 0.3150543442561222, 0.31083082713044324, 0.31926292925930855, 0.30597587165775375, 0.3173064402641376, 0.3159323559248998, 0.3137072110794931, 0.31157677327504674]], [[0.30710577108500764, 0.32197390563433864, 0.2961017640499242, 0.31882390982834985, 0.31143951945458775, 0.3016302958116527, 0.32626343744101255, 0.31461616761811095, 0.31505986365766797, 0.3183165677420305]], [[0.3199333174629417, 0.3132316988416744, 0.3209764970059974, 0.3046192749947945, 0.29991534306267364, 0.3109922787626147, 0.317771600381055, 0.3191059056643114, 0.3137040193987713, 0.3115958506681858]], [[0.3104368116368782, 0.3205604591572694, 0.3247258847547648, 0.32119536541451454, 0.306368137600018, 0.3077273968406176, 0.3180729811208462, 0.3147870809883021, 0.30992438631353814, 0.30671395598355167]], [[0.29497792778918475, 0.3170378810635359, 0.3119365862893655, 0.31741342915256987, 0.30545001443475267, 0.30320600321701296, 0.3092533920518634, 0.3074953066383117, 0.31774226500424485, 0.3164474629010328]], [[0.30729481495954636, 0.3008761631604573, 0.3149013272278261, 0.3121206921470424, 0.31249643707113106, 0.3026823580251797, 0.32337284186817306, 0.31623174138917476, 0.32195323536970144, 0.3155379018497958]], [[0.3155246867850307, 0.31314003541123475, 0.3102002078246532, 0.30439877751027455, 0.3131417943432315, 0.30601706024265857, 0.31358439019746964, 0.30957184025958073, 0.30879325768400656, 0.31614101331459515]], [[0.31078495689242563, 0.3193559544725259, 0.3166425941033969, 0.3185023074395027, 0.3089168187776136, 0.3010867907556665, 0.3125501898567648, 0.32878435435473463, 0.31110869828879595, 0.323871401477403]], [[0.3096993025967261, 0.3036221484826579, 0.3057860748308977, 0.3169070485948934, 0.3070324253265813, 0.3116409713174945, 0.3261762476994903, 0.30684310472166637, 0.31124794377964493, 0.30710079512297705]]]\n"
     ]
    }
   ],
   "source": [
    "print(\"Media Negativity dos N K-Fold\", np.mean([neg for neg in negativities_list]))\n",
    "\n",
    "print()\n",
    "print()\n",
    "print(negativities_list)"
   ]
  }
 ],
 "metadata": {
  "kernelspec": {
   "display_name": "Python 3",
   "language": "python",
   "name": "python3"
  },
  "language_info": {
   "codemirror_mode": {
    "name": "ipython",
    "version": 3
   },
   "file_extension": ".py",
   "mimetype": "text/x-python",
   "name": "python",
   "nbconvert_exporter": "python",
   "pygments_lexer": "ipython3",
   "version": "3.9.16"
  }
 },
 "nbformat": 4,
 "nbformat_minor": 5
}
