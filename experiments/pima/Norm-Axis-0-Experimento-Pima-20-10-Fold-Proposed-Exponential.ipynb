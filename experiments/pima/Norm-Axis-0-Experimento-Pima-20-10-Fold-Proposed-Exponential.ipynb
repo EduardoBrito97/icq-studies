{
 "cells": [
  {
   "cell_type": "code",
   "execution_count": 1,
   "id": "0db239e0",
   "metadata": {},
   "outputs": [
    {
     "name": "stderr",
     "output_type": "stream",
     "text": [
      "Intel(R) Extension for Scikit-learn* enabled (https://github.com/intel/scikit-learn-intelex)\n"
     ]
    }
   ],
   "source": [
    "import sys, os\n",
    "sys.path.append(os.path.abspath('../../classifiers'))\n",
    "sys.path.append(os.path.abspath('../../training'))\n",
    "sys.path.append(os.path.abspath('../../validation'))\n",
    "from validation_functions import execute_training_test_k_fold\n",
    "from classifiers_ICQ import iqc_classifier\n",
    "\n",
    "from sklearn.multiclass import OneVsRestClassifier\n",
    "import numpy as np\n",
    "import load_pima\n",
    "\n",
    "X, y = load_pima.get_dataset()"
   ]
  },
  {
   "cell_type": "code",
   "execution_count": 2,
   "id": "1ad66125",
   "metadata": {},
   "outputs": [],
   "source": [
    "classifier_function = iqc_classifier\n",
    "dic_classifier_params = {}\n",
    "dic_classifier_params[\"sigma_q_params\"] = [1,1,1,1]\n",
    "dic_classifier_params[\"use_polar_coordinates_on_sigma_q\"] = False\n",
    "dic_classifier_params[\"load_inputvector_env_state\"] = True\n",
    "dic_classifier_params[\"normalize_axis\"] = 0\n",
    "dic_classifier_params[\"use_exponential_on_input\"] = True\n",
    "\n",
    "dic_training_params = {\"max_iter\": 1000,\n",
    "    \"accuracy_succ\": 0.99,\n",
    "    \"plot_graphs_and_metrics\": False,\n",
    "    \"plot_graphs_in_classifier\": False,\n",
    "    \"random_seed\": 1,\n",
    "    \"learning_rate\": 0.009,\n",
    "    \"refit_db\":True,\n",
    "    \"reset_weights_epoch\":0,\n",
    "    \"do_classes_refit\":True,\n",
    "    \"batch\":False}\n",
    "\n",
    "n_times_kfold = 10\n",
    "k_times_fold = 10"
   ]
  },
  {
   "cell_type": "code",
   "execution_count": 3,
   "id": "8522d868",
   "metadata": {},
   "outputs": [
    {
     "name": "stderr",
     "output_type": "stream",
     "text": [
      "[Parallel(n_jobs=-1)]: Using backend LokyBackend with 12 concurrent workers.\n",
      "[Parallel(n_jobs=-1)]: Done   1 out of   1 | elapsed:  6.3min finished\n",
      "[Parallel(n_jobs=-1)]: Using backend LokyBackend with 12 concurrent workers.\n"
     ]
    },
    {
     "name": "stdout",
     "output_type": "stream",
     "text": [
      "K-Fold #0\n",
      "Mean negativities for all classes: [0.245679616974788]\n",
      "Mean entropies for all classes: [6.744763341661426e-15]\n",
      "              precision    recall  f1-score   support\n",
      "\n",
      "           0       0.76      0.58      0.66        50\n",
      "           1       0.46      0.67      0.55        27\n",
      "\n",
      "    accuracy                           0.61        77\n",
      "   macro avg       0.61      0.62      0.60        77\n",
      "weighted avg       0.66      0.61      0.62        77\n",
      "\n",
      "-------------------------------------------------------------------------------------------------------------------\n"
     ]
    },
    {
     "name": "stderr",
     "output_type": "stream",
     "text": [
      "[Parallel(n_jobs=-1)]: Done   1 out of   1 | elapsed:  6.1min finished\n"
     ]
    },
    {
     "name": "stdout",
     "output_type": "stream",
     "text": [
      "K-Fold #1\n",
      "Mean negativities for all classes: [0.24902986891383844]\n",
      "Mean entropies for all classes: [7.456954094320163e-15]\n",
      "              precision    recall  f1-score   support\n",
      "\n",
      "           0       0.76      0.64      0.70        50\n",
      "           1       0.49      0.63      0.55        27\n",
      "\n",
      "    accuracy                           0.64        77\n",
      "   macro avg       0.62      0.63      0.62        77\n",
      "weighted avg       0.67      0.64      0.64        77\n",
      "\n",
      "-------------------------------------------------------------------------------------------------------------------\n"
     ]
    },
    {
     "name": "stderr",
     "output_type": "stream",
     "text": [
      "[Parallel(n_jobs=-1)]: Using backend LokyBackend with 12 concurrent workers.\n",
      "[Parallel(n_jobs=-1)]: Done   1 out of   1 | elapsed:  6.0min finished\n"
     ]
    },
    {
     "name": "stdout",
     "output_type": "stream",
     "text": [
      "K-Fold #2\n",
      "Mean negativities for all classes: [0.24849270819170638]\n",
      "Mean entropies for all classes: [6.86499774745301e-15]\n",
      "              precision    recall  f1-score   support\n",
      "\n",
      "           0       0.85      0.66      0.74        50\n",
      "           1       0.55      0.78      0.65        27\n",
      "\n",
      "    accuracy                           0.70        77\n",
      "   macro avg       0.70      0.72      0.69        77\n",
      "weighted avg       0.74      0.70      0.71        77\n",
      "\n",
      "-------------------------------------------------------------------------------------------------------------------\n"
     ]
    },
    {
     "name": "stderr",
     "output_type": "stream",
     "text": [
      "[Parallel(n_jobs=-1)]: Using backend LokyBackend with 12 concurrent workers.\n",
      "[Parallel(n_jobs=-1)]: Done   1 out of   1 | elapsed:  6.2min finished\n"
     ]
    },
    {
     "name": "stdout",
     "output_type": "stream",
     "text": [
      "K-Fold #3\n",
      "Mean negativities for all classes: [0.24880947345895965]\n",
      "Mean entropies for all classes: [6.937063155674865e-15]\n",
      "              precision    recall  f1-score   support\n",
      "\n",
      "           0       0.69      0.44      0.54        50\n",
      "           1       0.38      0.63      0.47        27\n",
      "\n",
      "    accuracy                           0.51        77\n",
      "   macro avg       0.53      0.53      0.50        77\n",
      "weighted avg       0.58      0.51      0.51        77\n",
      "\n",
      "-------------------------------------------------------------------------------------------------------------------\n"
     ]
    },
    {
     "name": "stderr",
     "output_type": "stream",
     "text": [
      "[Parallel(n_jobs=-1)]: Using backend LokyBackend with 12 concurrent workers.\n",
      "[Parallel(n_jobs=-1)]: Done   1 out of   1 | elapsed:  6.3min finished\n"
     ]
    },
    {
     "name": "stdout",
     "output_type": "stream",
     "text": [
      "K-Fold #4\n",
      "Mean negativities for all classes: [0.2381041249454525]\n",
      "Mean entropies for all classes: [7.0941564552348415e-15]\n",
      "              precision    recall  f1-score   support\n",
      "\n",
      "           0       0.89      0.62      0.73        50\n",
      "           1       0.55      0.85      0.67        27\n",
      "\n",
      "    accuracy                           0.70        77\n",
      "   macro avg       0.72      0.74      0.70        77\n",
      "weighted avg       0.77      0.70      0.71        77\n",
      "\n",
      "-------------------------------------------------------------------------------------------------------------------\n"
     ]
    },
    {
     "name": "stderr",
     "output_type": "stream",
     "text": [
      "[Parallel(n_jobs=-1)]: Using backend LokyBackend with 12 concurrent workers.\n",
      "[Parallel(n_jobs=-1)]: Done   1 out of   1 | elapsed:  6.0min finished\n"
     ]
    },
    {
     "name": "stdout",
     "output_type": "stream",
     "text": [
      "K-Fold #5\n",
      "Mean negativities for all classes: [0.2365841177626702]\n",
      "Mean entropies for all classes: [6.559681959383285e-15]\n",
      "              precision    recall  f1-score   support\n",
      "\n",
      "           0       0.72      0.46      0.56        50\n",
      "           1       0.40      0.67      0.50        27\n",
      "\n",
      "    accuracy                           0.53        77\n",
      "   macro avg       0.56      0.56      0.53        77\n",
      "weighted avg       0.61      0.53      0.54        77\n",
      "\n",
      "-------------------------------------------------------------------------------------------------------------------\n"
     ]
    },
    {
     "name": "stderr",
     "output_type": "stream",
     "text": [
      "[Parallel(n_jobs=-1)]: Using backend LokyBackend with 12 concurrent workers.\n",
      "[Parallel(n_jobs=-1)]: Done   1 out of   1 | elapsed:  6.1min finished\n"
     ]
    },
    {
     "name": "stdout",
     "output_type": "stream",
     "text": [
      "K-Fold #6\n",
      "Mean negativities for all classes: [0.25558661360606244]\n",
      "Mean entropies for all classes: [7.056170437203272e-15]\n",
      "              precision    recall  f1-score   support\n",
      "\n",
      "           0       0.85      0.66      0.74        50\n",
      "           1       0.55      0.78      0.65        27\n",
      "\n",
      "    accuracy                           0.70        77\n",
      "   macro avg       0.70      0.72      0.69        77\n",
      "weighted avg       0.74      0.70      0.71        77\n",
      "\n",
      "-------------------------------------------------------------------------------------------------------------------\n"
     ]
    },
    {
     "name": "stderr",
     "output_type": "stream",
     "text": [
      "[Parallel(n_jobs=-1)]: Using backend LokyBackend with 12 concurrent workers.\n",
      "[Parallel(n_jobs=-1)]: Done   1 out of   1 | elapsed:  6.1min finished\n"
     ]
    },
    {
     "name": "stdout",
     "output_type": "stream",
     "text": [
      "K-Fold #7\n",
      "Mean negativities for all classes: [0.2450926412623085]\n",
      "Mean entropies for all classes: [7.379137652691185e-15]\n",
      "              precision    recall  f1-score   support\n",
      "\n",
      "           0       0.77      0.60      0.67        50\n",
      "           1       0.47      0.67      0.55        27\n",
      "\n",
      "    accuracy                           0.62        77\n",
      "   macro avg       0.62      0.63      0.61        77\n",
      "weighted avg       0.67      0.62      0.63        77\n",
      "\n",
      "-------------------------------------------------------------------------------------------------------------------\n"
     ]
    },
    {
     "name": "stderr",
     "output_type": "stream",
     "text": [
      "[Parallel(n_jobs=-1)]: Using backend LokyBackend with 12 concurrent workers.\n",
      "[Parallel(n_jobs=-1)]: Done   1 out of   1 | elapsed:  6.1min finished\n"
     ]
    },
    {
     "name": "stdout",
     "output_type": "stream",
     "text": [
      "K-Fold #8\n",
      "Mean negativities for all classes: [0.24961351635574014]\n",
      "Mean entropies for all classes: [6.995035899613381e-15]\n",
      "              precision    recall  f1-score   support\n",
      "\n",
      "           0       0.78      0.58      0.67        50\n",
      "           1       0.46      0.69      0.55        26\n",
      "\n",
      "    accuracy                           0.62        76\n",
      "   macro avg       0.62      0.64      0.61        76\n",
      "weighted avg       0.67      0.62      0.63        76\n",
      "\n",
      "-------------------------------------------------------------------------------------------------------------------\n"
     ]
    },
    {
     "name": "stderr",
     "output_type": "stream",
     "text": [
      "[Parallel(n_jobs=-1)]: Using backend LokyBackend with 12 concurrent workers.\n",
      "[Parallel(n_jobs=-1)]: Done   1 out of   1 | elapsed:  6.1min finished\n"
     ]
    },
    {
     "name": "stdout",
     "output_type": "stream",
     "text": [
      "K-Fold #9\n",
      "Mean negativities for all classes: [0.2451071036097053]\n",
      "Mean entropies for all classes: [6.9088092080945014e-15]\n",
      "              precision    recall  f1-score   support\n",
      "\n",
      "           0       0.76      0.56      0.64        50\n",
      "           1       0.44      0.65      0.52        26\n",
      "\n",
      "    accuracy                           0.59        76\n",
      "   macro avg       0.60      0.61      0.58        76\n",
      "weighted avg       0.65      0.59      0.60        76\n",
      "\n",
      "-------------------------------------------------------------------------------------------------------------------\n",
      "AVG: Scores = 0.6223513328776487 F1-Scores = 0.6152585737943432 Negativity = [0.245679616974788, 0.24902986891383844] Entropy = [6.744763341661426e-15, 7.456954094320163e-15]\n"
     ]
    },
    {
     "name": "stderr",
     "output_type": "stream",
     "text": [
      "[Parallel(n_jobs=-1)]: Using backend LokyBackend with 12 concurrent workers.\n",
      "[Parallel(n_jobs=-1)]: Done   1 out of   1 | elapsed:  6.1min finished\n"
     ]
    },
    {
     "name": "stdout",
     "output_type": "stream",
     "text": [
      "K-Fold #0\n",
      "Mean negativities for all classes: [0.2503937290890361]\n",
      "Mean entropies for all classes: [7.157104897774584e-15]\n",
      "              precision    recall  f1-score   support\n",
      "\n",
      "           0       0.82      0.54      0.65        50\n",
      "           1       0.48      0.78      0.59        27\n",
      "\n",
      "    accuracy                           0.62        77\n",
      "   macro avg       0.65      0.66      0.62        77\n",
      "weighted avg       0.70      0.62      0.63        77\n",
      "\n",
      "-------------------------------------------------------------------------------------------------------------------\n"
     ]
    },
    {
     "name": "stderr",
     "output_type": "stream",
     "text": [
      "[Parallel(n_jobs=-1)]: Using backend LokyBackend with 12 concurrent workers.\n",
      "[Parallel(n_jobs=-1)]: Done   1 out of   1 | elapsed:  6.1min finished\n"
     ]
    },
    {
     "name": "stdout",
     "output_type": "stream",
     "text": [
      "K-Fold #1\n",
      "Mean negativities for all classes: [0.24656364781740248]\n",
      "Mean entropies for all classes: [6.8618291735179756e-15]\n",
      "              precision    recall  f1-score   support\n",
      "\n",
      "           0       0.81      0.58      0.67        50\n",
      "           1       0.49      0.74      0.59        27\n",
      "\n",
      "    accuracy                           0.64        77\n",
      "   macro avg       0.65      0.66      0.63        77\n",
      "weighted avg       0.69      0.64      0.64        77\n",
      "\n",
      "-------------------------------------------------------------------------------------------------------------------\n"
     ]
    },
    {
     "name": "stderr",
     "output_type": "stream",
     "text": [
      "[Parallel(n_jobs=-1)]: Using backend LokyBackend with 12 concurrent workers.\n",
      "[Parallel(n_jobs=-1)]: Done   1 out of   1 | elapsed:  6.1min finished\n"
     ]
    },
    {
     "name": "stdout",
     "output_type": "stream",
     "text": [
      "K-Fold #2\n",
      "Mean negativities for all classes: [0.2460247336008533]\n",
      "Mean entropies for all classes: [6.976680740521533e-15]\n",
      "              precision    recall  f1-score   support\n",
      "\n",
      "           0       0.72      0.52      0.60        50\n",
      "           1       0.41      0.63      0.50        27\n",
      "\n",
      "    accuracy                           0.56        77\n",
      "   macro avg       0.57      0.57      0.55        77\n",
      "weighted avg       0.61      0.56      0.57        77\n",
      "\n",
      "-------------------------------------------------------------------------------------------------------------------\n"
     ]
    },
    {
     "name": "stderr",
     "output_type": "stream",
     "text": [
      "[Parallel(n_jobs=-1)]: Using backend LokyBackend with 12 concurrent workers.\n",
      "[Parallel(n_jobs=-1)]: Done   1 out of   1 | elapsed:  6.1min finished\n"
     ]
    },
    {
     "name": "stdout",
     "output_type": "stream",
     "text": [
      "K-Fold #3\n",
      "Mean negativities for all classes: [0.24410659628053322]\n",
      "Mean entropies for all classes: [6.970834536789986e-15]\n",
      "              precision    recall  f1-score   support\n",
      "\n",
      "           0       0.87      0.66      0.75        50\n",
      "           1       0.56      0.81      0.67        27\n",
      "\n",
      "    accuracy                           0.71        77\n",
      "   macro avg       0.72      0.74      0.71        77\n",
      "weighted avg       0.76      0.71      0.72        77\n",
      "\n",
      "-------------------------------------------------------------------------------------------------------------------\n"
     ]
    },
    {
     "name": "stderr",
     "output_type": "stream",
     "text": [
      "[Parallel(n_jobs=-1)]: Using backend LokyBackend with 12 concurrent workers.\n",
      "[Parallel(n_jobs=-1)]: Done   1 out of   1 | elapsed:  6.1min finished\n"
     ]
    },
    {
     "name": "stdout",
     "output_type": "stream",
     "text": [
      "K-Fold #4\n",
      "Mean negativities for all classes: [0.24043982321369992]\n",
      "Mean entropies for all classes: [6.755782436210923e-15]\n",
      "              precision    recall  f1-score   support\n",
      "\n",
      "           0       0.86      0.60      0.71        50\n",
      "           1       0.52      0.81      0.64        27\n",
      "\n",
      "    accuracy                           0.68        77\n",
      "   macro avg       0.69      0.71      0.67        77\n",
      "weighted avg       0.74      0.68      0.68        77\n",
      "\n",
      "-------------------------------------------------------------------------------------------------------------------\n"
     ]
    },
    {
     "name": "stderr",
     "output_type": "stream",
     "text": [
      "[Parallel(n_jobs=-1)]: Using backend LokyBackend with 12 concurrent workers.\n",
      "[Parallel(n_jobs=-1)]: Done   1 out of   1 | elapsed:  6.1min finished\n"
     ]
    },
    {
     "name": "stdout",
     "output_type": "stream",
     "text": [
      "K-Fold #5\n",
      "Mean negativities for all classes: [0.2439849849428714]\n",
      "Mean entropies for all classes: [7.230835890175118e-15]\n",
      "              precision    recall  f1-score   support\n",
      "\n",
      "           0       0.83      0.70      0.76        50\n",
      "           1       0.57      0.74      0.65        27\n",
      "\n",
      "    accuracy                           0.71        77\n",
      "   macro avg       0.70      0.72      0.70        77\n",
      "weighted avg       0.74      0.71      0.72        77\n",
      "\n",
      "-------------------------------------------------------------------------------------------------------------------\n"
     ]
    },
    {
     "name": "stderr",
     "output_type": "stream",
     "text": [
      "[Parallel(n_jobs=-1)]: Using backend LokyBackend with 12 concurrent workers.\n",
      "[Parallel(n_jobs=-1)]: Done   1 out of   1 | elapsed:  6.1min finished\n"
     ]
    },
    {
     "name": "stdout",
     "output_type": "stream",
     "text": [
      "K-Fold #6\n",
      "Mean negativities for all classes: [0.24605976995023476]\n",
      "Mean entropies for all classes: [6.91663512688295e-15]\n",
      "              precision    recall  f1-score   support\n",
      "\n",
      "           0       0.73      0.60      0.66        50\n",
      "           1       0.44      0.59      0.51        27\n",
      "\n",
      "    accuracy                           0.60        77\n",
      "   macro avg       0.59      0.60      0.58        77\n",
      "weighted avg       0.63      0.60      0.61        77\n",
      "\n",
      "-------------------------------------------------------------------------------------------------------------------\n"
     ]
    },
    {
     "name": "stderr",
     "output_type": "stream",
     "text": [
      "[Parallel(n_jobs=-1)]: Using backend LokyBackend with 12 concurrent workers.\n",
      "[Parallel(n_jobs=-1)]: Done   1 out of   1 | elapsed:  6.1min finished\n"
     ]
    },
    {
     "name": "stdout",
     "output_type": "stream",
     "text": [
      "K-Fold #7\n",
      "Mean negativities for all classes: [0.24469592381721203]\n",
      "Mean entropies for all classes: [7.036008396434121e-15]\n",
      "              precision    recall  f1-score   support\n",
      "\n",
      "           0       0.73      0.60      0.66        50\n",
      "           1       0.44      0.59      0.51        27\n",
      "\n",
      "    accuracy                           0.60        77\n",
      "   macro avg       0.59      0.60      0.58        77\n",
      "weighted avg       0.63      0.60      0.61        77\n",
      "\n",
      "-------------------------------------------------------------------------------------------------------------------\n"
     ]
    },
    {
     "name": "stderr",
     "output_type": "stream",
     "text": [
      "[Parallel(n_jobs=-1)]: Using backend LokyBackend with 12 concurrent workers.\n",
      "[Parallel(n_jobs=-1)]: Done   1 out of   1 | elapsed:  6.2min finished\n"
     ]
    },
    {
     "name": "stdout",
     "output_type": "stream",
     "text": [
      "K-Fold #8\n",
      "Mean negativities for all classes: [0.24629711551067918]\n",
      "Mean entropies for all classes: [6.900017387670251e-15]\n",
      "              precision    recall  f1-score   support\n",
      "\n",
      "           0       0.76      0.56      0.64        50\n",
      "           1       0.44      0.65      0.52        26\n",
      "\n",
      "    accuracy                           0.59        76\n",
      "   macro avg       0.60      0.61      0.58        76\n",
      "weighted avg       0.65      0.59      0.60        76\n",
      "\n",
      "-------------------------------------------------------------------------------------------------------------------\n"
     ]
    },
    {
     "name": "stderr",
     "output_type": "stream",
     "text": [
      "[Parallel(n_jobs=-1)]: Using backend LokyBackend with 12 concurrent workers.\n",
      "[Parallel(n_jobs=-1)]: Done   1 out of   1 | elapsed:  6.2min finished\n"
     ]
    },
    {
     "name": "stdout",
     "output_type": "stream",
     "text": [
      "K-Fold #9\n",
      "Mean negativities for all classes: [0.2552034785445346]\n",
      "Mean entropies for all classes: [6.8241143052961624e-15]\n",
      "              precision    recall  f1-score   support\n",
      "\n",
      "           0       0.66      0.46      0.54        50\n",
      "           1       0.34      0.54      0.42        26\n",
      "\n",
      "    accuracy                           0.49        76\n",
      "   macro avg       0.50      0.50      0.48        76\n",
      "weighted avg       0.55      0.49      0.50        76\n",
      "\n",
      "-------------------------------------------------------------------------------------------------------------------\n",
      "AVG: Scores = 0.6195830485304169 F1-Scores = 0.6118057069220522 Negativity = [0.2503937290890361, 0.24656364781740248] Entropy = [7.157104897774584e-15, 6.8618291735179756e-15]\n"
     ]
    },
    {
     "name": "stderr",
     "output_type": "stream",
     "text": [
      "[Parallel(n_jobs=-1)]: Using backend LokyBackend with 12 concurrent workers.\n",
      "[Parallel(n_jobs=-1)]: Done   1 out of   1 | elapsed:  6.0min finished\n"
     ]
    },
    {
     "name": "stdout",
     "output_type": "stream",
     "text": [
      "K-Fold #0\n",
      "Mean negativities for all classes: [0.24283399560018465]\n",
      "Mean entropies for all classes: [6.754822433904059e-15]\n",
      "              precision    recall  f1-score   support\n",
      "\n",
      "           0       0.76      0.56      0.64        50\n",
      "           1       0.45      0.67      0.54        27\n",
      "\n",
      "    accuracy                           0.60        77\n",
      "   macro avg       0.60      0.61      0.59        77\n",
      "weighted avg       0.65      0.60      0.61        77\n",
      "\n",
      "-------------------------------------------------------------------------------------------------------------------\n"
     ]
    },
    {
     "name": "stderr",
     "output_type": "stream",
     "text": [
      "[Parallel(n_jobs=-1)]: Using backend LokyBackend with 12 concurrent workers.\n",
      "[Parallel(n_jobs=-1)]: Done   1 out of   1 | elapsed:  6.0min finished\n"
     ]
    },
    {
     "name": "stdout",
     "output_type": "stream",
     "text": [
      "K-Fold #1\n",
      "Mean negativities for all classes: [0.24616078582795728]\n",
      "Mean entropies for all classes: [7.168155355594073e-15]\n",
      "              precision    recall  f1-score   support\n",
      "\n",
      "           0       0.81      0.58      0.67        50\n",
      "           1       0.49      0.74      0.59        27\n",
      "\n",
      "    accuracy                           0.64        77\n",
      "   macro avg       0.65      0.66      0.63        77\n",
      "weighted avg       0.69      0.64      0.64        77\n",
      "\n",
      "-------------------------------------------------------------------------------------------------------------------\n"
     ]
    },
    {
     "name": "stderr",
     "output_type": "stream",
     "text": [
      "[Parallel(n_jobs=-1)]: Using backend LokyBackend with 12 concurrent workers.\n",
      "[Parallel(n_jobs=-1)]: Done   1 out of   1 | elapsed:  6.1min finished\n"
     ]
    },
    {
     "name": "stdout",
     "output_type": "stream",
     "text": [
      "K-Fold #2\n",
      "Mean negativities for all classes: [0.24289249495885362]\n",
      "Mean entropies for all classes: [7.118650098096407e-15]\n",
      "              precision    recall  f1-score   support\n",
      "\n",
      "           0       0.83      0.58      0.68        50\n",
      "           1       0.50      0.78      0.61        27\n",
      "\n",
      "    accuracy                           0.65        77\n",
      "   macro avg       0.66      0.68      0.65        77\n",
      "weighted avg       0.71      0.65      0.66        77\n",
      "\n",
      "-------------------------------------------------------------------------------------------------------------------\n"
     ]
    },
    {
     "name": "stderr",
     "output_type": "stream",
     "text": [
      "[Parallel(n_jobs=-1)]: Using backend LokyBackend with 12 concurrent workers.\n",
      "[Parallel(n_jobs=-1)]: Done   1 out of   1 | elapsed:  6.1min finished\n"
     ]
    },
    {
     "name": "stdout",
     "output_type": "stream",
     "text": [
      "K-Fold #3\n",
      "Mean negativities for all classes: [0.24746289185475875]\n",
      "Mean entropies for all classes: [6.773129398397679e-15]\n",
      "              precision    recall  f1-score   support\n",
      "\n",
      "           0       0.81      0.68      0.74        50\n",
      "           1       0.54      0.70      0.61        27\n",
      "\n",
      "    accuracy                           0.69        77\n",
      "   macro avg       0.68      0.69      0.68        77\n",
      "weighted avg       0.72      0.69      0.69        77\n",
      "\n",
      "-------------------------------------------------------------------------------------------------------------------\n"
     ]
    },
    {
     "name": "stderr",
     "output_type": "stream",
     "text": [
      "[Parallel(n_jobs=-1)]: Using backend LokyBackend with 12 concurrent workers.\n",
      "[Parallel(n_jobs=-1)]: Done   1 out of   1 | elapsed:  6.1min finished\n"
     ]
    },
    {
     "name": "stdout",
     "output_type": "stream",
     "text": [
      "K-Fold #4\n",
      "Mean negativities for all classes: [0.2462400447386567]\n",
      "Mean entropies for all classes: [7.0442527543901824e-15]\n",
      "              precision    recall  f1-score   support\n",
      "\n",
      "           0       0.76      0.58      0.66        50\n",
      "           1       0.46      0.67      0.55        27\n",
      "\n",
      "    accuracy                           0.61        77\n",
      "   macro avg       0.61      0.62      0.60        77\n",
      "weighted avg       0.66      0.61      0.62        77\n",
      "\n",
      "-------------------------------------------------------------------------------------------------------------------\n"
     ]
    },
    {
     "name": "stderr",
     "output_type": "stream",
     "text": [
      "[Parallel(n_jobs=-1)]: Using backend LokyBackend with 12 concurrent workers.\n",
      "[Parallel(n_jobs=-1)]: Done   1 out of   1 | elapsed:  6.0min finished\n"
     ]
    },
    {
     "name": "stdout",
     "output_type": "stream",
     "text": [
      "K-Fold #5\n",
      "Mean negativities for all classes: [0.251551923867431]\n",
      "Mean entropies for all classes: [7.1579352879386e-15]\n",
      "              precision    recall  f1-score   support\n",
      "\n",
      "           0       0.76      0.64      0.70        50\n",
      "           1       0.49      0.63      0.55        27\n",
      "\n",
      "    accuracy                           0.64        77\n",
      "   macro avg       0.62      0.63      0.62        77\n",
      "weighted avg       0.67      0.64      0.64        77\n",
      "\n",
      "-------------------------------------------------------------------------------------------------------------------\n"
     ]
    },
    {
     "name": "stderr",
     "output_type": "stream",
     "text": [
      "[Parallel(n_jobs=-1)]: Using backend LokyBackend with 12 concurrent workers.\n",
      "[Parallel(n_jobs=-1)]: Done   1 out of   1 | elapsed:  6.0min finished\n"
     ]
    },
    {
     "name": "stdout",
     "output_type": "stream",
     "text": [
      "K-Fold #6\n",
      "Mean negativities for all classes: [0.24855997844591546]\n",
      "Mean entropies for all classes: [7.184531124903267e-15]\n",
      "              precision    recall  f1-score   support\n",
      "\n",
      "           0       0.78      0.70      0.74        50\n",
      "           1       0.53      0.63      0.58        27\n",
      "\n",
      "    accuracy                           0.68        77\n",
      "   macro avg       0.65      0.66      0.66        77\n",
      "weighted avg       0.69      0.68      0.68        77\n",
      "\n",
      "-------------------------------------------------------------------------------------------------------------------\n"
     ]
    },
    {
     "name": "stderr",
     "output_type": "stream",
     "text": [
      "[Parallel(n_jobs=-1)]: Using backend LokyBackend with 12 concurrent workers.\n",
      "[Parallel(n_jobs=-1)]: Done   1 out of   1 | elapsed:  5.9min finished\n"
     ]
    },
    {
     "name": "stdout",
     "output_type": "stream",
     "text": [
      "K-Fold #7\n",
      "Mean negativities for all classes: [0.2388616918160143]\n",
      "Mean entropies for all classes: [7.208365233514927e-15]\n",
      "              precision    recall  f1-score   support\n",
      "\n",
      "           0       0.70      0.46      0.55        50\n",
      "           1       0.39      0.63      0.48        27\n",
      "\n",
      "    accuracy                           0.52        77\n",
      "   macro avg       0.54      0.54      0.52        77\n",
      "weighted avg       0.59      0.52      0.53        77\n",
      "\n",
      "-------------------------------------------------------------------------------------------------------------------\n"
     ]
    },
    {
     "name": "stderr",
     "output_type": "stream",
     "text": [
      "[Parallel(n_jobs=-1)]: Using backend LokyBackend with 12 concurrent workers.\n",
      "[Parallel(n_jobs=-1)]: Done   1 out of   1 | elapsed:  6.0min finished\n"
     ]
    },
    {
     "name": "stdout",
     "output_type": "stream",
     "text": [
      "K-Fold #8\n",
      "Mean negativities for all classes: [0.24684488363158882]\n",
      "Mean entropies for all classes: [6.898161718771999e-15]\n",
      "              precision    recall  f1-score   support\n",
      "\n",
      "           0       0.66      0.46      0.54        50\n",
      "           1       0.34      0.54      0.42        26\n",
      "\n",
      "    accuracy                           0.49        76\n",
      "   macro avg       0.50      0.50      0.48        76\n",
      "weighted avg       0.55      0.49      0.50        76\n",
      "\n",
      "-------------------------------------------------------------------------------------------------------------------\n"
     ]
    },
    {
     "name": "stderr",
     "output_type": "stream",
     "text": [
      "[Parallel(n_jobs=-1)]: Using backend LokyBackend with 12 concurrent workers.\n",
      "[Parallel(n_jobs=-1)]: Done   1 out of   1 | elapsed:  6.0min finished\n"
     ]
    },
    {
     "name": "stdout",
     "output_type": "stream",
     "text": [
      "K-Fold #9\n",
      "Mean negativities for all classes: [0.24211113116827637]\n",
      "Mean entropies for all classes: [7.050566238086671e-15]\n",
      "              precision    recall  f1-score   support\n",
      "\n",
      "           0       0.78      0.62      0.69        50\n",
      "           1       0.47      0.65      0.55        26\n",
      "\n",
      "    accuracy                           0.63        76\n",
      "   macro avg       0.62      0.64      0.62        76\n",
      "weighted avg       0.67      0.63      0.64        76\n",
      "\n",
      "-------------------------------------------------------------------------------------------------------------------\n",
      "AVG: Scores = 0.6131408065618592 F1-Scores = 0.6038939387159578 Negativity = [0.24283399560018465, 0.24616078582795728] Entropy = [6.754822433904059e-15, 7.168155355594073e-15]\n"
     ]
    },
    {
     "name": "stderr",
     "output_type": "stream",
     "text": [
      "[Parallel(n_jobs=-1)]: Using backend LokyBackend with 12 concurrent workers.\n",
      "[Parallel(n_jobs=-1)]: Done   1 out of   1 | elapsed:  6.1min finished\n"
     ]
    },
    {
     "name": "stdout",
     "output_type": "stream",
     "text": [
      "K-Fold #0\n",
      "Mean negativities for all classes: [0.24937206802079123]\n",
      "Mean entropies for all classes: [7.272891665742916e-15]\n",
      "              precision    recall  f1-score   support\n",
      "\n",
      "           0       0.83      0.60      0.70        50\n",
      "           1       0.51      0.78      0.62        27\n",
      "\n",
      "    accuracy                           0.66        77\n",
      "   macro avg       0.67      0.69      0.66        77\n",
      "weighted avg       0.72      0.66      0.67        77\n",
      "\n",
      "-------------------------------------------------------------------------------------------------------------------\n"
     ]
    },
    {
     "name": "stderr",
     "output_type": "stream",
     "text": [
      "[Parallel(n_jobs=-1)]: Using backend LokyBackend with 12 concurrent workers.\n",
      "[Parallel(n_jobs=-1)]: Done   1 out of   1 | elapsed:  6.1min finished\n"
     ]
    },
    {
     "name": "stdout",
     "output_type": "stream",
     "text": [
      "K-Fold #1\n",
      "Mean negativities for all classes: [0.24488185941617538]\n",
      "Mean entropies for all classes: [6.8827216957256326e-15]\n",
      "              precision    recall  f1-score   support\n",
      "\n",
      "           0       0.76      0.58      0.66        50\n",
      "           1       0.46      0.67      0.55        27\n",
      "\n",
      "    accuracy                           0.61        77\n",
      "   macro avg       0.61      0.62      0.60        77\n",
      "weighted avg       0.66      0.61      0.62        77\n",
      "\n",
      "-------------------------------------------------------------------------------------------------------------------\n"
     ]
    },
    {
     "name": "stderr",
     "output_type": "stream",
     "text": [
      "[Parallel(n_jobs=-1)]: Using backend LokyBackend with 12 concurrent workers.\n",
      "[Parallel(n_jobs=-1)]: Done   1 out of   1 | elapsed:  6.2min finished\n"
     ]
    },
    {
     "name": "stdout",
     "output_type": "stream",
     "text": [
      "K-Fold #2\n",
      "Mean negativities for all classes: [0.24492772912554697]\n",
      "Mean entropies for all classes: [7.164050563257386e-15]\n",
      "              precision    recall  f1-score   support\n",
      "\n",
      "           0       0.82      0.66      0.73        50\n",
      "           1       0.54      0.74      0.62        27\n",
      "\n",
      "    accuracy                           0.69        77\n",
      "   macro avg       0.68      0.70      0.68        77\n",
      "weighted avg       0.73      0.69      0.70        77\n",
      "\n",
      "-------------------------------------------------------------------------------------------------------------------\n"
     ]
    },
    {
     "name": "stderr",
     "output_type": "stream",
     "text": [
      "[Parallel(n_jobs=-1)]: Using backend LokyBackend with 12 concurrent workers.\n",
      "[Parallel(n_jobs=-1)]: Done   1 out of   1 | elapsed:  6.1min finished\n"
     ]
    },
    {
     "name": "stdout",
     "output_type": "stream",
     "text": [
      "K-Fold #3\n",
      "Mean negativities for all classes: [0.2516509847940126]\n",
      "Mean entropies for all classes: [7.057566106502221e-15]\n",
      "              precision    recall  f1-score   support\n",
      "\n",
      "           0       0.81      0.76      0.78        50\n",
      "           1       0.60      0.67      0.63        27\n",
      "\n",
      "    accuracy                           0.73        77\n",
      "   macro avg       0.70      0.71      0.71        77\n",
      "weighted avg       0.74      0.73      0.73        77\n",
      "\n",
      "-------------------------------------------------------------------------------------------------------------------\n"
     ]
    },
    {
     "name": "stderr",
     "output_type": "stream",
     "text": [
      "[Parallel(n_jobs=-1)]: Using backend LokyBackend with 12 concurrent workers.\n",
      "[Parallel(n_jobs=-1)]: Done   1 out of   1 | elapsed:  6.1min finished\n"
     ]
    },
    {
     "name": "stdout",
     "output_type": "stream",
     "text": [
      "K-Fold #4\n",
      "Mean negativities for all classes: [0.24550036329896413]\n",
      "Mean entropies for all classes: [7.11312646245135e-15]\n",
      "              precision    recall  f1-score   support\n",
      "\n",
      "           0       0.78      0.56      0.65        50\n",
      "           1       0.46      0.70      0.56        27\n",
      "\n",
      "    accuracy                           0.61        77\n",
      "   macro avg       0.62      0.63      0.60        77\n",
      "weighted avg       0.67      0.61      0.62        77\n",
      "\n",
      "-------------------------------------------------------------------------------------------------------------------\n"
     ]
    },
    {
     "name": "stderr",
     "output_type": "stream",
     "text": [
      "[Parallel(n_jobs=-1)]: Using backend LokyBackend with 12 concurrent workers.\n",
      "[Parallel(n_jobs=-1)]: Done   1 out of   1 | elapsed:  6.0min finished\n"
     ]
    },
    {
     "name": "stdout",
     "output_type": "stream",
     "text": [
      "K-Fold #5\n",
      "Mean negativities for all classes: [0.24400751332607917]\n",
      "Mean entropies for all classes: [6.718003596925648e-15]\n",
      "              precision    recall  f1-score   support\n",
      "\n",
      "           0       0.80      0.64      0.71        50\n",
      "           1       0.51      0.70      0.59        27\n",
      "\n",
      "    accuracy                           0.66        77\n",
      "   macro avg       0.66      0.67      0.65        77\n",
      "weighted avg       0.70      0.66      0.67        77\n",
      "\n",
      "-------------------------------------------------------------------------------------------------------------------\n"
     ]
    },
    {
     "name": "stderr",
     "output_type": "stream",
     "text": [
      "[Parallel(n_jobs=-1)]: Using backend LokyBackend with 12 concurrent workers.\n",
      "[Parallel(n_jobs=-1)]: Done   1 out of   1 | elapsed:  5.9min finished\n"
     ]
    },
    {
     "name": "stdout",
     "output_type": "stream",
     "text": [
      "K-Fold #6\n",
      "Mean negativities for all classes: [0.2436814768345734]\n",
      "Mean entropies for all classes: [7.14568247963323e-15]\n",
      "              precision    recall  f1-score   support\n",
      "\n",
      "           0       0.76      0.58      0.66        50\n",
      "           1       0.46      0.67      0.55        27\n",
      "\n",
      "    accuracy                           0.61        77\n",
      "   macro avg       0.61      0.62      0.60        77\n",
      "weighted avg       0.66      0.61      0.62        77\n",
      "\n",
      "-------------------------------------------------------------------------------------------------------------------\n"
     ]
    },
    {
     "name": "stderr",
     "output_type": "stream",
     "text": [
      "[Parallel(n_jobs=-1)]: Using backend LokyBackend with 12 concurrent workers.\n",
      "[Parallel(n_jobs=-1)]: Done   1 out of   1 | elapsed:  5.8min finished\n"
     ]
    },
    {
     "name": "stdout",
     "output_type": "stream",
     "text": [
      "K-Fold #7\n",
      "Mean negativities for all classes: [0.24651727389275108]\n",
      "Mean entropies for all classes: [6.655281673683055e-15]\n",
      "              precision    recall  f1-score   support\n",
      "\n",
      "           0       0.71      0.54      0.61        50\n",
      "           1       0.41      0.59      0.48        27\n",
      "\n",
      "    accuracy                           0.56        77\n",
      "   macro avg       0.56      0.57      0.55        77\n",
      "weighted avg       0.61      0.56      0.57        77\n",
      "\n",
      "-------------------------------------------------------------------------------------------------------------------\n"
     ]
    },
    {
     "name": "stderr",
     "output_type": "stream",
     "text": [
      "[Parallel(n_jobs=-1)]: Using backend LokyBackend with 12 concurrent workers.\n",
      "[Parallel(n_jobs=-1)]: Done   1 out of   1 | elapsed:  5.9min finished\n"
     ]
    },
    {
     "name": "stdout",
     "output_type": "stream",
     "text": [
      "K-Fold #8\n",
      "Mean negativities for all classes: [0.24503637703766729]\n",
      "Mean entropies for all classes: [7.087628960625584e-15]\n",
      "              precision    recall  f1-score   support\n",
      "\n",
      "           0       0.69      0.50      0.58        50\n",
      "           1       0.38      0.58      0.45        26\n",
      "\n",
      "    accuracy                           0.53        76\n",
      "   macro avg       0.53      0.54      0.52        76\n",
      "weighted avg       0.59      0.53      0.54        76\n",
      "\n",
      "-------------------------------------------------------------------------------------------------------------------\n"
     ]
    },
    {
     "name": "stderr",
     "output_type": "stream",
     "text": [
      "[Parallel(n_jobs=-1)]: Using backend LokyBackend with 12 concurrent workers.\n",
      "[Parallel(n_jobs=-1)]: Done   1 out of   1 | elapsed:  5.9min finished\n"
     ]
    },
    {
     "name": "stdout",
     "output_type": "stream",
     "text": [
      "K-Fold #9\n",
      "Mean negativities for all classes: [0.24884732345073082]\n",
      "Mean entropies for all classes: [6.928555475765712e-15]\n",
      "              precision    recall  f1-score   support\n",
      "\n",
      "           0       0.81      0.58      0.67        50\n",
      "           1       0.47      0.73      0.58        26\n",
      "\n",
      "    accuracy                           0.63        76\n",
      "   macro avg       0.64      0.66      0.63        76\n",
      "weighted avg       0.69      0.63      0.64        76\n",
      "\n",
      "-------------------------------------------------------------------------------------------------------------------\n",
      "AVG: Scores = 0.6287764866712234 F1-Scores = 0.619863954267841 Negativity = [0.24937206802079123, 0.24488185941617538] Entropy = [7.272891665742916e-15, 6.8827216957256326e-15]\n"
     ]
    },
    {
     "name": "stderr",
     "output_type": "stream",
     "text": [
      "[Parallel(n_jobs=-1)]: Using backend LokyBackend with 12 concurrent workers.\n",
      "[Parallel(n_jobs=-1)]: Done   1 out of   1 | elapsed:  5.9min finished\n"
     ]
    },
    {
     "name": "stdout",
     "output_type": "stream",
     "text": [
      "K-Fold #0\n",
      "Mean negativities for all classes: [0.24571062099725527]\n",
      "Mean entropies for all classes: [6.998131298611877e-15]\n",
      "              precision    recall  f1-score   support\n",
      "\n",
      "           0       0.76      0.56      0.64        50\n",
      "           1       0.45      0.67      0.54        27\n",
      "\n",
      "    accuracy                           0.60        77\n",
      "   macro avg       0.60      0.61      0.59        77\n",
      "weighted avg       0.65      0.60      0.61        77\n",
      "\n",
      "-------------------------------------------------------------------------------------------------------------------\n"
     ]
    },
    {
     "name": "stderr",
     "output_type": "stream",
     "text": [
      "[Parallel(n_jobs=-1)]: Using backend LokyBackend with 12 concurrent workers.\n",
      "[Parallel(n_jobs=-1)]: Done   1 out of   1 | elapsed:  5.9min finished\n"
     ]
    },
    {
     "name": "stdout",
     "output_type": "stream",
     "text": [
      "K-Fold #1\n",
      "Mean negativities for all classes: [0.2412144170190803]\n",
      "Mean entropies for all classes: [6.9900986128659025e-15]\n",
      "              precision    recall  f1-score   support\n",
      "\n",
      "           0       0.80      0.64      0.71        50\n",
      "           1       0.51      0.70      0.59        27\n",
      "\n",
      "    accuracy                           0.66        77\n",
      "   macro avg       0.66      0.67      0.65        77\n",
      "weighted avg       0.70      0.66      0.67        77\n",
      "\n",
      "-------------------------------------------------------------------------------------------------------------------\n"
     ]
    },
    {
     "name": "stderr",
     "output_type": "stream",
     "text": [
      "[Parallel(n_jobs=-1)]: Using backend LokyBackend with 12 concurrent workers.\n",
      "[Parallel(n_jobs=-1)]: Done   1 out of   1 | elapsed:  5.9min finished\n"
     ]
    },
    {
     "name": "stdout",
     "output_type": "stream",
     "text": [
      "K-Fold #2\n",
      "Mean negativities for all classes: [0.2391669220344106]\n",
      "Mean entropies for all classes: [6.828951383568793e-15]\n",
      "              precision    recall  f1-score   support\n",
      "\n",
      "           0       0.75      0.48      0.59        50\n",
      "           1       0.42      0.70      0.53        27\n",
      "\n",
      "    accuracy                           0.56        77\n",
      "   macro avg       0.59      0.59      0.56        77\n",
      "weighted avg       0.64      0.56      0.57        77\n",
      "\n",
      "-------------------------------------------------------------------------------------------------------------------\n"
     ]
    },
    {
     "name": "stderr",
     "output_type": "stream",
     "text": [
      "[Parallel(n_jobs=-1)]: Using backend LokyBackend with 12 concurrent workers.\n",
      "[Parallel(n_jobs=-1)]: Done   1 out of   1 | elapsed:  5.8min finished\n"
     ]
    },
    {
     "name": "stdout",
     "output_type": "stream",
     "text": [
      "K-Fold #3\n",
      "Mean negativities for all classes: [0.24320574886468896]\n",
      "Mean entropies for all classes: [7.009817602271068e-15]\n",
      "              precision    recall  f1-score   support\n",
      "\n",
      "           0       0.80      0.70      0.74        50\n",
      "           1       0.55      0.67      0.60        27\n",
      "\n",
      "    accuracy                           0.69        77\n",
      "   macro avg       0.67      0.68      0.67        77\n",
      "weighted avg       0.71      0.69      0.69        77\n",
      "\n",
      "-------------------------------------------------------------------------------------------------------------------\n"
     ]
    },
    {
     "name": "stderr",
     "output_type": "stream",
     "text": [
      "[Parallel(n_jobs=-1)]: Using backend LokyBackend with 12 concurrent workers.\n",
      "[Parallel(n_jobs=-1)]: Done   1 out of   1 | elapsed:  5.9min finished\n"
     ]
    },
    {
     "name": "stdout",
     "output_type": "stream",
     "text": [
      "K-Fold #4\n",
      "Mean negativities for all classes: [0.24753702759190913]\n",
      "Mean entropies for all classes: [7.14280660431918e-15]\n",
      "              precision    recall  f1-score   support\n",
      "\n",
      "           0       0.78      0.58      0.67        50\n",
      "           1       0.47      0.70      0.57        27\n",
      "\n",
      "    accuracy                           0.62        77\n",
      "   macro avg       0.63      0.64      0.62        77\n",
      "weighted avg       0.68      0.62      0.63        77\n",
      "\n",
      "-------------------------------------------------------------------------------------------------------------------\n"
     ]
    },
    {
     "name": "stderr",
     "output_type": "stream",
     "text": [
      "[Parallel(n_jobs=-1)]: Using backend LokyBackend with 12 concurrent workers.\n",
      "[Parallel(n_jobs=-1)]: Done   1 out of   1 | elapsed:  5.8min finished\n"
     ]
    },
    {
     "name": "stdout",
     "output_type": "stream",
     "text": [
      "K-Fold #5\n",
      "Mean negativities for all classes: [0.24591738790278722]\n",
      "Mean entropies for all classes: [6.9851603636879855e-15]\n",
      "              precision    recall  f1-score   support\n",
      "\n",
      "           0       0.79      0.60      0.68        50\n",
      "           1       0.49      0.70      0.58        27\n",
      "\n",
      "    accuracy                           0.64        77\n",
      "   macro avg       0.64      0.65      0.63        77\n",
      "weighted avg       0.68      0.64      0.64        77\n",
      "\n",
      "-------------------------------------------------------------------------------------------------------------------\n"
     ]
    },
    {
     "name": "stderr",
     "output_type": "stream",
     "text": [
      "[Parallel(n_jobs=-1)]: Using backend LokyBackend with 12 concurrent workers.\n",
      "[Parallel(n_jobs=-1)]: Done   1 out of   1 | elapsed:  5.9min finished\n"
     ]
    },
    {
     "name": "stdout",
     "output_type": "stream",
     "text": [
      "K-Fold #6\n",
      "Mean negativities for all classes: [0.25152455437517796]\n",
      "Mean entropies for all classes: [7.351635097242487e-15]\n",
      "              precision    recall  f1-score   support\n",
      "\n",
      "           0       0.78      0.64      0.70        50\n",
      "           1       0.50      0.67      0.57        27\n",
      "\n",
      "    accuracy                           0.65        77\n",
      "   macro avg       0.64      0.65      0.64        77\n",
      "weighted avg       0.68      0.65      0.66        77\n",
      "\n",
      "-------------------------------------------------------------------------------------------------------------------\n"
     ]
    },
    {
     "name": "stderr",
     "output_type": "stream",
     "text": [
      "[Parallel(n_jobs=-1)]: Using backend LokyBackend with 12 concurrent workers.\n",
      "[Parallel(n_jobs=-1)]: Done   1 out of   1 | elapsed:  6.0min finished\n"
     ]
    },
    {
     "name": "stdout",
     "output_type": "stream",
     "text": [
      "K-Fold #7\n",
      "Mean negativities for all classes: [0.2509869604029137]\n",
      "Mean entropies for all classes: [7.235849233974674e-15]\n",
      "              precision    recall  f1-score   support\n",
      "\n",
      "           0       0.77      0.54      0.64        50\n",
      "           1       0.45      0.70      0.55        27\n",
      "\n",
      "    accuracy                           0.60        77\n",
      "   macro avg       0.61      0.62      0.59        77\n",
      "weighted avg       0.66      0.60      0.61        77\n",
      "\n",
      "-------------------------------------------------------------------------------------------------------------------\n"
     ]
    },
    {
     "name": "stderr",
     "output_type": "stream",
     "text": [
      "[Parallel(n_jobs=-1)]: Using backend LokyBackend with 12 concurrent workers.\n",
      "[Parallel(n_jobs=-1)]: Done   1 out of   1 | elapsed:  6.0min finished\n"
     ]
    },
    {
     "name": "stdout",
     "output_type": "stream",
     "text": [
      "K-Fold #8\n",
      "Mean negativities for all classes: [0.24502672606614523]\n",
      "Mean entropies for all classes: [7.311399540490936e-15]\n",
      "              precision    recall  f1-score   support\n",
      "\n",
      "           0       0.76      0.56      0.64        50\n",
      "           1       0.44      0.65      0.52        26\n",
      "\n",
      "    accuracy                           0.59        76\n",
      "   macro avg       0.60      0.61      0.58        76\n",
      "weighted avg       0.65      0.59      0.60        76\n",
      "\n",
      "-------------------------------------------------------------------------------------------------------------------\n"
     ]
    },
    {
     "name": "stderr",
     "output_type": "stream",
     "text": [
      "[Parallel(n_jobs=-1)]: Using backend LokyBackend with 12 concurrent workers.\n",
      "[Parallel(n_jobs=-1)]: Done   1 out of   1 | elapsed:  6.0min finished\n"
     ]
    },
    {
     "name": "stdout",
     "output_type": "stream",
     "text": [
      "K-Fold #9\n",
      "Mean negativities for all classes: [0.24589976344020273]\n",
      "Mean entropies for all classes: [7.141364741523445e-15]\n",
      "              precision    recall  f1-score   support\n",
      "\n",
      "           0       0.79      0.62      0.70        50\n",
      "           1       0.49      0.69      0.57        26\n",
      "\n",
      "    accuracy                           0.64        76\n",
      "   macro avg       0.64      0.66      0.63        76\n",
      "weighted avg       0.69      0.64      0.65        76\n",
      "\n",
      "-------------------------------------------------------------------------------------------------------------------\n",
      "AVG: Scores = 0.6249829118250171 F1-Scores = 0.6165320344837596 Negativity = [0.24571062099725527, 0.2412144170190803] Entropy = [6.998131298611877e-15, 6.9900986128659025e-15]\n"
     ]
    },
    {
     "name": "stderr",
     "output_type": "stream",
     "text": [
      "[Parallel(n_jobs=-1)]: Using backend LokyBackend with 12 concurrent workers.\n",
      "[Parallel(n_jobs=-1)]: Done   1 out of   1 | elapsed:  5.9min finished\n"
     ]
    },
    {
     "name": "stdout",
     "output_type": "stream",
     "text": [
      "K-Fold #0\n",
      "Mean negativities for all classes: [0.24405742370983702]\n",
      "Mean entropies for all classes: [7.0754372331763304e-15]\n",
      "              precision    recall  f1-score   support\n",
      "\n",
      "           0       0.76      0.52      0.62        50\n",
      "           1       0.44      0.70      0.54        27\n",
      "\n",
      "    accuracy                           0.58        77\n",
      "   macro avg       0.60      0.61      0.58        77\n",
      "weighted avg       0.65      0.58      0.59        77\n",
      "\n",
      "-------------------------------------------------------------------------------------------------------------------\n"
     ]
    },
    {
     "name": "stderr",
     "output_type": "stream",
     "text": [
      "[Parallel(n_jobs=-1)]: Using backend LokyBackend with 12 concurrent workers.\n",
      "[Parallel(n_jobs=-1)]: Done   1 out of   1 | elapsed:  6.0min finished\n"
     ]
    },
    {
     "name": "stdout",
     "output_type": "stream",
     "text": [
      "K-Fold #1\n",
      "Mean negativities for all classes: [0.24286430771086304]\n",
      "Mean entropies for all classes: [7.048561690490278e-15]\n",
      "              precision    recall  f1-score   support\n",
      "\n",
      "           0       0.85      0.58      0.69        50\n",
      "           1       0.51      0.81      0.63        27\n",
      "\n",
      "    accuracy                           0.66        77\n",
      "   macro avg       0.68      0.70      0.66        77\n",
      "weighted avg       0.73      0.66      0.67        77\n",
      "\n",
      "-------------------------------------------------------------------------------------------------------------------\n"
     ]
    },
    {
     "name": "stderr",
     "output_type": "stream",
     "text": [
      "[Parallel(n_jobs=-1)]: Using backend LokyBackend with 12 concurrent workers.\n",
      "[Parallel(n_jobs=-1)]: Done   1 out of   1 | elapsed:  5.9min finished\n"
     ]
    },
    {
     "name": "stdout",
     "output_type": "stream",
     "text": [
      "K-Fold #2\n",
      "Mean negativities for all classes: [0.24805279291680013]\n",
      "Mean entropies for all classes: [7.09192889974737e-15]\n",
      "              precision    recall  f1-score   support\n",
      "\n",
      "           0       0.82      0.64      0.72        50\n",
      "           1       0.53      0.74      0.62        27\n",
      "\n",
      "    accuracy                           0.68        77\n",
      "   macro avg       0.67      0.69      0.67        77\n",
      "weighted avg       0.72      0.68      0.68        77\n",
      "\n",
      "-------------------------------------------------------------------------------------------------------------------\n"
     ]
    },
    {
     "name": "stderr",
     "output_type": "stream",
     "text": [
      "[Parallel(n_jobs=-1)]: Using backend LokyBackend with 12 concurrent workers.\n",
      "[Parallel(n_jobs=-1)]: Done   1 out of   1 | elapsed:  6.0min finished\n"
     ]
    },
    {
     "name": "stdout",
     "output_type": "stream",
     "text": [
      "K-Fold #3\n",
      "Mean negativities for all classes: [0.25114837204936835]\n",
      "Mean entropies for all classes: [6.723442784520321e-15]\n",
      "              precision    recall  f1-score   support\n",
      "\n",
      "           0       0.70      0.52      0.60        50\n",
      "           1       0.40      0.59      0.48        27\n",
      "\n",
      "    accuracy                           0.55        77\n",
      "   macro avg       0.55      0.56      0.54        77\n",
      "weighted avg       0.60      0.55      0.56        77\n",
      "\n",
      "-------------------------------------------------------------------------------------------------------------------\n"
     ]
    },
    {
     "name": "stderr",
     "output_type": "stream",
     "text": [
      "[Parallel(n_jobs=-1)]: Using backend LokyBackend with 12 concurrent workers.\n",
      "[Parallel(n_jobs=-1)]: Done   1 out of   1 | elapsed:  6.0min finished\n"
     ]
    },
    {
     "name": "stdout",
     "output_type": "stream",
     "text": [
      "K-Fold #4\n",
      "Mean negativities for all classes: [0.2496845551441295]\n",
      "Mean entropies for all classes: [6.965900457840938e-15]\n",
      "              precision    recall  f1-score   support\n",
      "\n",
      "           0       0.74      0.56      0.64        50\n",
      "           1       0.44      0.63      0.52        27\n",
      "\n",
      "    accuracy                           0.58        77\n",
      "   macro avg       0.59      0.59      0.58        77\n",
      "weighted avg       0.63      0.58      0.59        77\n",
      "\n",
      "-------------------------------------------------------------------------------------------------------------------\n"
     ]
    },
    {
     "name": "stderr",
     "output_type": "stream",
     "text": [
      "[Parallel(n_jobs=-1)]: Using backend LokyBackend with 12 concurrent workers.\n",
      "[Parallel(n_jobs=-1)]: Done   1 out of   1 | elapsed:  6.0min finished\n"
     ]
    },
    {
     "name": "stdout",
     "output_type": "stream",
     "text": [
      "K-Fold #5\n",
      "Mean negativities for all classes: [0.24900944642679265]\n",
      "Mean entropies for all classes: [7.074412588431968e-15]\n",
      "              precision    recall  f1-score   support\n",
      "\n",
      "           0       0.76      0.62      0.68        50\n",
      "           1       0.47      0.63      0.54        27\n",
      "\n",
      "    accuracy                           0.62        77\n",
      "   macro avg       0.61      0.62      0.61        77\n",
      "weighted avg       0.66      0.62      0.63        77\n",
      "\n",
      "-------------------------------------------------------------------------------------------------------------------\n"
     ]
    },
    {
     "name": "stderr",
     "output_type": "stream",
     "text": [
      "[Parallel(n_jobs=-1)]: Using backend LokyBackend with 12 concurrent workers.\n",
      "[Parallel(n_jobs=-1)]: Done   1 out of   1 | elapsed:  6.0min finished\n"
     ]
    },
    {
     "name": "stdout",
     "output_type": "stream",
     "text": [
      "K-Fold #6\n",
      "Mean negativities for all classes: [0.2474180337698483]\n",
      "Mean entropies for all classes: [6.965431791303345e-15]\n",
      "              precision    recall  f1-score   support\n",
      "\n",
      "           0       0.76      0.68      0.72        50\n",
      "           1       0.50      0.59      0.54        27\n",
      "\n",
      "    accuracy                           0.65        77\n",
      "   macro avg       0.63      0.64      0.63        77\n",
      "weighted avg       0.67      0.65      0.65        77\n",
      "\n",
      "-------------------------------------------------------------------------------------------------------------------\n"
     ]
    },
    {
     "name": "stderr",
     "output_type": "stream",
     "text": [
      "[Parallel(n_jobs=-1)]: Using backend LokyBackend with 12 concurrent workers.\n",
      "[Parallel(n_jobs=-1)]: Done   1 out of   1 | elapsed:  6.0min finished\n"
     ]
    },
    {
     "name": "stdout",
     "output_type": "stream",
     "text": [
      "K-Fold #7\n",
      "Mean negativities for all classes: [0.24332152823408182]\n",
      "Mean entropies for all classes: [6.784751464051022e-15]\n",
      "              precision    recall  f1-score   support\n",
      "\n",
      "           0       0.81      0.60      0.69        50\n",
      "           1       0.50      0.74      0.60        27\n",
      "\n",
      "    accuracy                           0.65        77\n",
      "   macro avg       0.66      0.67      0.64        77\n",
      "weighted avg       0.70      0.65      0.66        77\n",
      "\n",
      "-------------------------------------------------------------------------------------------------------------------\n"
     ]
    },
    {
     "name": "stderr",
     "output_type": "stream",
     "text": [
      "[Parallel(n_jobs=-1)]: Using backend LokyBackend with 12 concurrent workers.\n",
      "[Parallel(n_jobs=-1)]: Done   1 out of   1 | elapsed:  6.0min finished\n"
     ]
    },
    {
     "name": "stdout",
     "output_type": "stream",
     "text": [
      "K-Fold #8\n",
      "Mean negativities for all classes: [0.24714236019666067]\n",
      "Mean entropies for all classes: [7.244657652112357e-15]\n",
      "              precision    recall  f1-score   support\n",
      "\n",
      "           0       0.76      0.62      0.68        50\n",
      "           1       0.46      0.62      0.52        26\n",
      "\n",
      "    accuracy                           0.62        76\n",
      "   macro avg       0.61      0.62      0.60        76\n",
      "weighted avg       0.65      0.62      0.63        76\n",
      "\n",
      "-------------------------------------------------------------------------------------------------------------------\n"
     ]
    },
    {
     "name": "stderr",
     "output_type": "stream",
     "text": [
      "[Parallel(n_jobs=-1)]: Using backend LokyBackend with 12 concurrent workers.\n",
      "[Parallel(n_jobs=-1)]: Done   1 out of   1 | elapsed:  5.9min finished\n"
     ]
    },
    {
     "name": "stdout",
     "output_type": "stream",
     "text": [
      "K-Fold #9\n",
      "Mean negativities for all classes: [0.24285421059011697]\n",
      "Mean entropies for all classes: [6.8819471004771515e-15]\n",
      "              precision    recall  f1-score   support\n",
      "\n",
      "           0       0.82      0.62      0.70        50\n",
      "           1       0.50      0.73      0.59        26\n",
      "\n",
      "    accuracy                           0.66        76\n",
      "   macro avg       0.66      0.68      0.65        76\n",
      "weighted avg       0.71      0.66      0.67        76\n",
      "\n",
      "-------------------------------------------------------------------------------------------------------------------\n",
      "AVG: Scores = 0.6250341763499658 F1-Scores = 0.6156152167399151 Negativity = [0.24405742370983702, 0.24286430771086304] Entropy = [7.0754372331763304e-15, 7.048561690490278e-15]\n"
     ]
    },
    {
     "name": "stderr",
     "output_type": "stream",
     "text": [
      "[Parallel(n_jobs=-1)]: Using backend LokyBackend with 12 concurrent workers.\n",
      "[Parallel(n_jobs=-1)]: Done   1 out of   1 | elapsed:  5.8min finished\n"
     ]
    },
    {
     "name": "stdout",
     "output_type": "stream",
     "text": [
      "K-Fold #0\n",
      "Mean negativities for all classes: [0.2507890439632198]\n",
      "Mean entropies for all classes: [7.1009506649643406e-15]\n",
      "              precision    recall  f1-score   support\n",
      "\n",
      "           0       0.74      0.56      0.64        50\n",
      "           1       0.44      0.63      0.52        27\n",
      "\n",
      "    accuracy                           0.58        77\n",
      "   macro avg       0.59      0.59      0.58        77\n",
      "weighted avg       0.63      0.58      0.59        77\n",
      "\n",
      "-------------------------------------------------------------------------------------------------------------------\n"
     ]
    },
    {
     "name": "stderr",
     "output_type": "stream",
     "text": [
      "[Parallel(n_jobs=-1)]: Using backend LokyBackend with 12 concurrent workers.\n",
      "[Parallel(n_jobs=-1)]: Done   1 out of   1 | elapsed:  6.0min finished\n"
     ]
    },
    {
     "name": "stdout",
     "output_type": "stream",
     "text": [
      "K-Fold #1\n",
      "Mean negativities for all classes: [0.24600458132896713]\n",
      "Mean entropies for all classes: [7.086750173122445e-15]\n",
      "              precision    recall  f1-score   support\n",
      "\n",
      "           0       0.74      0.56      0.64        50\n",
      "           1       0.44      0.63      0.52        27\n",
      "\n",
      "    accuracy                           0.58        77\n",
      "   macro avg       0.59      0.59      0.58        77\n",
      "weighted avg       0.63      0.58      0.59        77\n",
      "\n",
      "-------------------------------------------------------------------------------------------------------------------\n"
     ]
    },
    {
     "name": "stderr",
     "output_type": "stream",
     "text": [
      "[Parallel(n_jobs=-1)]: Using backend LokyBackend with 12 concurrent workers.\n",
      "[Parallel(n_jobs=-1)]: Done   1 out of   1 | elapsed:  6.0min finished\n"
     ]
    },
    {
     "name": "stdout",
     "output_type": "stream",
     "text": [
      "K-Fold #2\n",
      "Mean negativities for all classes: [0.2463129723507239]\n",
      "Mean entropies for all classes: [6.8656879980423684e-15]\n",
      "              precision    recall  f1-score   support\n",
      "\n",
      "           0       0.74      0.52      0.61        50\n",
      "           1       0.43      0.67      0.52        27\n",
      "\n",
      "    accuracy                           0.57        77\n",
      "   macro avg       0.59      0.59      0.57        77\n",
      "weighted avg       0.63      0.57      0.58        77\n",
      "\n",
      "-------------------------------------------------------------------------------------------------------------------\n"
     ]
    },
    {
     "name": "stderr",
     "output_type": "stream",
     "text": [
      "[Parallel(n_jobs=-1)]: Using backend LokyBackend with 12 concurrent workers.\n",
      "[Parallel(n_jobs=-1)]: Done   1 out of   1 | elapsed:  6.0min finished\n"
     ]
    },
    {
     "name": "stdout",
     "output_type": "stream",
     "text": [
      "K-Fold #3\n",
      "Mean negativities for all classes: [0.24575437906597536]\n",
      "Mean entropies for all classes: [6.659532711491237e-15]\n",
      "              precision    recall  f1-score   support\n",
      "\n",
      "           0       0.85      0.68      0.76        50\n",
      "           1       0.57      0.78      0.66        27\n",
      "\n",
      "    accuracy                           0.71        77\n",
      "   macro avg       0.71      0.73      0.71        77\n",
      "weighted avg       0.75      0.71      0.72        77\n",
      "\n",
      "-------------------------------------------------------------------------------------------------------------------\n"
     ]
    },
    {
     "name": "stderr",
     "output_type": "stream",
     "text": [
      "[Parallel(n_jobs=-1)]: Using backend LokyBackend with 12 concurrent workers.\n",
      "[Parallel(n_jobs=-1)]: Done   1 out of   1 | elapsed:  6.0min finished\n"
     ]
    },
    {
     "name": "stdout",
     "output_type": "stream",
     "text": [
      "K-Fold #4\n",
      "Mean negativities for all classes: [0.24208097774575826]\n",
      "Mean entropies for all classes: [7.501693890189165e-15]\n",
      "              precision    recall  f1-score   support\n",
      "\n",
      "           0       0.78      0.64      0.70        50\n",
      "           1       0.50      0.67      0.57        27\n",
      "\n",
      "    accuracy                           0.65        77\n",
      "   macro avg       0.64      0.65      0.64        77\n",
      "weighted avg       0.68      0.65      0.66        77\n",
      "\n",
      "-------------------------------------------------------------------------------------------------------------------\n"
     ]
    },
    {
     "name": "stderr",
     "output_type": "stream",
     "text": [
      "[Parallel(n_jobs=-1)]: Using backend LokyBackend with 12 concurrent workers.\n",
      "[Parallel(n_jobs=-1)]: Done   1 out of   1 | elapsed:  6.0min finished\n"
     ]
    },
    {
     "name": "stdout",
     "output_type": "stream",
     "text": [
      "K-Fold #5\n",
      "Mean negativities for all classes: [0.25531765797148864]\n",
      "Mean entropies for all classes: [6.478126694210138e-15]\n",
      "              precision    recall  f1-score   support\n",
      "\n",
      "           0       0.71      0.48      0.57        50\n",
      "           1       0.40      0.63      0.49        27\n",
      "\n",
      "    accuracy                           0.53        77\n",
      "   macro avg       0.55      0.55      0.53        77\n",
      "weighted avg       0.60      0.53      0.54        77\n",
      "\n",
      "-------------------------------------------------------------------------------------------------------------------\n"
     ]
    },
    {
     "name": "stderr",
     "output_type": "stream",
     "text": [
      "[Parallel(n_jobs=-1)]: Using backend LokyBackend with 12 concurrent workers.\n",
      "[Parallel(n_jobs=-1)]: Done   1 out of   1 | elapsed:  5.9min finished\n"
     ]
    },
    {
     "name": "stdout",
     "output_type": "stream",
     "text": [
      "K-Fold #6\n",
      "Mean negativities for all classes: [0.2481957353169611]\n",
      "Mean entropies for all classes: [6.879254291779684e-15]\n",
      "              precision    recall  f1-score   support\n",
      "\n",
      "           0       0.75      0.54      0.63        50\n",
      "           1       0.44      0.67      0.53        27\n",
      "\n",
      "    accuracy                           0.58        77\n",
      "   macro avg       0.59      0.60      0.58        77\n",
      "weighted avg       0.64      0.58      0.59        77\n",
      "\n",
      "-------------------------------------------------------------------------------------------------------------------\n"
     ]
    },
    {
     "name": "stderr",
     "output_type": "stream",
     "text": [
      "[Parallel(n_jobs=-1)]: Using backend LokyBackend with 12 concurrent workers.\n",
      "[Parallel(n_jobs=-1)]: Done   1 out of   1 | elapsed:  6.0min finished\n"
     ]
    },
    {
     "name": "stdout",
     "output_type": "stream",
     "text": [
      "K-Fold #7\n",
      "Mean negativities for all classes: [0.24760713033055695]\n",
      "Mean entropies for all classes: [6.6642585165111816e-15]\n",
      "              precision    recall  f1-score   support\n",
      "\n",
      "           0       0.76      0.56      0.64        50\n",
      "           1       0.45      0.67      0.54        27\n",
      "\n",
      "    accuracy                           0.60        77\n",
      "   macro avg       0.60      0.61      0.59        77\n",
      "weighted avg       0.65      0.60      0.61        77\n",
      "\n",
      "-------------------------------------------------------------------------------------------------------------------\n"
     ]
    },
    {
     "name": "stderr",
     "output_type": "stream",
     "text": [
      "[Parallel(n_jobs=-1)]: Using backend LokyBackend with 12 concurrent workers.\n",
      "[Parallel(n_jobs=-1)]: Done   1 out of   1 | elapsed:  6.2min finished\n"
     ]
    },
    {
     "name": "stdout",
     "output_type": "stream",
     "text": [
      "K-Fold #8\n",
      "Mean negativities for all classes: [0.24887917992236636]\n",
      "Mean entropies for all classes: [7.016363907980445e-15]\n",
      "              precision    recall  f1-score   support\n",
      "\n",
      "           0       0.89      0.64      0.74        50\n",
      "           1       0.55      0.85      0.67        26\n",
      "\n",
      "    accuracy                           0.71        76\n",
      "   macro avg       0.72      0.74      0.71        76\n",
      "weighted avg       0.77      0.71      0.72        76\n",
      "\n",
      "-------------------------------------------------------------------------------------------------------------------\n"
     ]
    },
    {
     "name": "stderr",
     "output_type": "stream",
     "text": [
      "[Parallel(n_jobs=-1)]: Using backend LokyBackend with 12 concurrent workers.\n",
      "[Parallel(n_jobs=-1)]: Done   1 out of   1 | elapsed:  6.1min finished\n"
     ]
    },
    {
     "name": "stdout",
     "output_type": "stream",
     "text": [
      "K-Fold #9\n",
      "Mean negativities for all classes: [0.24854212008312698]\n",
      "Mean entropies for all classes: [7.169167146932878e-15]\n",
      "              precision    recall  f1-score   support\n",
      "\n",
      "           0       0.80      0.74      0.77        50\n",
      "           1       0.57      0.65      0.61        26\n",
      "\n",
      "    accuracy                           0.71        76\n",
      "   macro avg       0.69      0.70      0.69        76\n",
      "weighted avg       0.72      0.71      0.71        76\n",
      "\n",
      "-------------------------------------------------------------------------------------------------------------------\n",
      "AVG: Scores = 0.6239234449760764 F1-Scores = 0.615367353281552 Negativity = [0.2507890439632198, 0.24600458132896713] Entropy = [7.1009506649643406e-15, 7.086750173122445e-15]\n"
     ]
    },
    {
     "name": "stderr",
     "output_type": "stream",
     "text": [
      "[Parallel(n_jobs=-1)]: Using backend LokyBackend with 12 concurrent workers.\n",
      "[Parallel(n_jobs=-1)]: Done   1 out of   1 | elapsed:  6.1min finished\n"
     ]
    },
    {
     "name": "stdout",
     "output_type": "stream",
     "text": [
      "K-Fold #0\n",
      "Mean negativities for all classes: [0.2433547728119214]\n",
      "Mean entropies for all classes: [7.411348635441602e-15]\n",
      "              precision    recall  f1-score   support\n",
      "\n",
      "           0       0.78      0.64      0.70        50\n",
      "           1       0.50      0.67      0.57        27\n",
      "\n",
      "    accuracy                           0.65        77\n",
      "   macro avg       0.64      0.65      0.64        77\n",
      "weighted avg       0.68      0.65      0.66        77\n",
      "\n",
      "-------------------------------------------------------------------------------------------------------------------\n"
     ]
    },
    {
     "name": "stderr",
     "output_type": "stream",
     "text": [
      "[Parallel(n_jobs=-1)]: Using backend LokyBackend with 12 concurrent workers.\n",
      "[Parallel(n_jobs=-1)]: Done   1 out of   1 | elapsed:  6.1min finished\n"
     ]
    },
    {
     "name": "stdout",
     "output_type": "stream",
     "text": [
      "K-Fold #1\n",
      "Mean negativities for all classes: [0.24866266892191102]\n",
      "Mean entropies for all classes: [7.037471931950427e-15]\n",
      "              precision    recall  f1-score   support\n",
      "\n",
      "           0       0.81      0.58      0.67        50\n",
      "           1       0.49      0.74      0.59        27\n",
      "\n",
      "    accuracy                           0.64        77\n",
      "   macro avg       0.65      0.66      0.63        77\n",
      "weighted avg       0.69      0.64      0.64        77\n",
      "\n",
      "-------------------------------------------------------------------------------------------------------------------\n"
     ]
    },
    {
     "name": "stderr",
     "output_type": "stream",
     "text": [
      "[Parallel(n_jobs=-1)]: Using backend LokyBackend with 12 concurrent workers.\n",
      "[Parallel(n_jobs=-1)]: Done   1 out of   1 | elapsed:  6.1min finished\n"
     ]
    },
    {
     "name": "stdout",
     "output_type": "stream",
     "text": [
      "K-Fold #2\n",
      "Mean negativities for all classes: [0.244341777868517]\n",
      "Mean entropies for all classes: [7.434057401129732e-15]\n",
      "              precision    recall  f1-score   support\n",
      "\n",
      "           0       0.78      0.62      0.69        50\n",
      "           1       0.49      0.67      0.56        27\n",
      "\n",
      "    accuracy                           0.64        77\n",
      "   macro avg       0.63      0.64      0.63        77\n",
      "weighted avg       0.67      0.64      0.64        77\n",
      "\n",
      "-------------------------------------------------------------------------------------------------------------------\n"
     ]
    },
    {
     "name": "stderr",
     "output_type": "stream",
     "text": [
      "[Parallel(n_jobs=-1)]: Using backend LokyBackend with 12 concurrent workers.\n",
      "[Parallel(n_jobs=-1)]: Done   1 out of   1 | elapsed:  6.1min finished\n"
     ]
    },
    {
     "name": "stdout",
     "output_type": "stream",
     "text": [
      "K-Fold #3\n",
      "Mean negativities for all classes: [0.24368649906657186]\n",
      "Mean entropies for all classes: [7.093393532837991e-15]\n",
      "              precision    recall  f1-score   support\n",
      "\n",
      "           0       0.78      0.62      0.69        50\n",
      "           1       0.49      0.67      0.56        27\n",
      "\n",
      "    accuracy                           0.64        77\n",
      "   macro avg       0.63      0.64      0.63        77\n",
      "weighted avg       0.67      0.64      0.64        77\n",
      "\n",
      "-------------------------------------------------------------------------------------------------------------------\n"
     ]
    },
    {
     "name": "stderr",
     "output_type": "stream",
     "text": [
      "[Parallel(n_jobs=-1)]: Using backend LokyBackend with 12 concurrent workers.\n",
      "[Parallel(n_jobs=-1)]: Done   1 out of   1 | elapsed:  6.1min finished\n"
     ]
    },
    {
     "name": "stdout",
     "output_type": "stream",
     "text": [
      "K-Fold #4\n",
      "Mean negativities for all classes: [0.24538716795566923]\n",
      "Mean entropies for all classes: [6.879557924164918e-15]\n",
      "              precision    recall  f1-score   support\n",
      "\n",
      "           0       0.75      0.60      0.67        50\n",
      "           1       0.46      0.63      0.53        27\n",
      "\n",
      "    accuracy                           0.61        77\n",
      "   macro avg       0.60      0.61      0.60        77\n",
      "weighted avg       0.65      0.61      0.62        77\n",
      "\n",
      "-------------------------------------------------------------------------------------------------------------------\n"
     ]
    },
    {
     "name": "stderr",
     "output_type": "stream",
     "text": [
      "[Parallel(n_jobs=-1)]: Using backend LokyBackend with 12 concurrent workers.\n",
      "[Parallel(n_jobs=-1)]: Done   1 out of   1 | elapsed:  6.1min finished\n"
     ]
    },
    {
     "name": "stdout",
     "output_type": "stream",
     "text": [
      "K-Fold #5\n",
      "Mean negativities for all classes: [0.2442909361338714]\n",
      "Mean entropies for all classes: [6.931705072793794e-15]\n",
      "              precision    recall  f1-score   support\n",
      "\n",
      "           0       0.69      0.48      0.56        50\n",
      "           1       0.38      0.59      0.46        27\n",
      "\n",
      "    accuracy                           0.52        77\n",
      "   macro avg       0.53      0.54      0.51        77\n",
      "weighted avg       0.58      0.52      0.53        77\n",
      "\n",
      "-------------------------------------------------------------------------------------------------------------------\n"
     ]
    },
    {
     "name": "stderr",
     "output_type": "stream",
     "text": [
      "[Parallel(n_jobs=-1)]: Using backend LokyBackend with 12 concurrent workers.\n",
      "[Parallel(n_jobs=-1)]: Done   1 out of   1 | elapsed:  6.1min finished\n"
     ]
    },
    {
     "name": "stdout",
     "output_type": "stream",
     "text": [
      "K-Fold #6\n",
      "Mean negativities for all classes: [0.25284198758644727]\n",
      "Mean entropies for all classes: [6.822488009249307e-15]\n",
      "              precision    recall  f1-score   support\n",
      "\n",
      "           0       0.74      0.56      0.64        50\n",
      "           1       0.44      0.63      0.52        27\n",
      "\n",
      "    accuracy                           0.58        77\n",
      "   macro avg       0.59      0.59      0.58        77\n",
      "weighted avg       0.63      0.58      0.59        77\n",
      "\n",
      "-------------------------------------------------------------------------------------------------------------------\n"
     ]
    },
    {
     "name": "stderr",
     "output_type": "stream",
     "text": [
      "[Parallel(n_jobs=-1)]: Using backend LokyBackend with 12 concurrent workers.\n",
      "[Parallel(n_jobs=-1)]: Done   1 out of   1 | elapsed:  6.0min finished\n"
     ]
    },
    {
     "name": "stdout",
     "output_type": "stream",
     "text": [
      "K-Fold #7\n",
      "Mean negativities for all classes: [0.2456542996268243]\n",
      "Mean entropies for all classes: [6.8971065553295005e-15]\n",
      "              precision    recall  f1-score   support\n",
      "\n",
      "           0       0.82      0.62      0.70        50\n",
      "           1       0.51      0.74      0.61        27\n",
      "\n",
      "    accuracy                           0.66        77\n",
      "   macro avg       0.66      0.68      0.66        77\n",
      "weighted avg       0.71      0.66      0.67        77\n",
      "\n",
      "-------------------------------------------------------------------------------------------------------------------\n"
     ]
    },
    {
     "name": "stderr",
     "output_type": "stream",
     "text": [
      "[Parallel(n_jobs=-1)]: Using backend LokyBackend with 12 concurrent workers.\n",
      "[Parallel(n_jobs=-1)]: Done   1 out of   1 | elapsed:  5.9min finished\n"
     ]
    },
    {
     "name": "stdout",
     "output_type": "stream",
     "text": [
      "K-Fold #8\n",
      "Mean negativities for all classes: [0.24492886704217112]\n",
      "Mean entropies for all classes: [7.269866899809664e-15]\n",
      "              precision    recall  f1-score   support\n",
      "\n",
      "           0       0.83      0.60      0.70        50\n",
      "           1       0.50      0.77      0.61        26\n",
      "\n",
      "    accuracy                           0.66        76\n",
      "   macro avg       0.67      0.68      0.65        76\n",
      "weighted avg       0.72      0.66      0.67        76\n",
      "\n",
      "-------------------------------------------------------------------------------------------------------------------\n"
     ]
    },
    {
     "name": "stderr",
     "output_type": "stream",
     "text": [
      "[Parallel(n_jobs=-1)]: Using backend LokyBackend with 12 concurrent workers.\n",
      "[Parallel(n_jobs=-1)]: Done   1 out of   1 | elapsed:  6.0min finished\n"
     ]
    },
    {
     "name": "stdout",
     "output_type": "stream",
     "text": [
      "K-Fold #9\n",
      "Mean negativities for all classes: [0.24360518583254057]\n",
      "Mean entropies for all classes: [6.722130536174817e-15]\n",
      "              precision    recall  f1-score   support\n",
      "\n",
      "           0       0.83      0.68      0.75        50\n",
      "           1       0.54      0.73      0.62        26\n",
      "\n",
      "    accuracy                           0.70        76\n",
      "   macro avg       0.69      0.71      0.69        76\n",
      "weighted avg       0.73      0.70      0.70        76\n",
      "\n",
      "-------------------------------------------------------------------------------------------------------------------\n",
      "AVG: Scores = 0.6290328092959672 F1-Scores = 0.6201303709972424 Negativity = [0.2433547728119214, 0.24866266892191102] Entropy = [7.411348635441602e-15, 7.037471931950427e-15]\n"
     ]
    },
    {
     "name": "stderr",
     "output_type": "stream",
     "text": [
      "[Parallel(n_jobs=-1)]: Using backend LokyBackend with 12 concurrent workers.\n",
      "[Parallel(n_jobs=-1)]: Done   1 out of   1 | elapsed:  5.9min finished\n"
     ]
    },
    {
     "name": "stdout",
     "output_type": "stream",
     "text": [
      "K-Fold #0\n",
      "Mean negativities for all classes: [0.25049921679519876]\n",
      "Mean entropies for all classes: [6.634191870052446e-15]\n",
      "              precision    recall  f1-score   support\n",
      "\n",
      "           0       0.71      0.54      0.61        50\n",
      "           1       0.41      0.59      0.48        27\n",
      "\n",
      "    accuracy                           0.56        77\n",
      "   macro avg       0.56      0.57      0.55        77\n",
      "weighted avg       0.61      0.56      0.57        77\n",
      "\n",
      "-------------------------------------------------------------------------------------------------------------------\n"
     ]
    },
    {
     "name": "stderr",
     "output_type": "stream",
     "text": [
      "[Parallel(n_jobs=-1)]: Using backend LokyBackend with 12 concurrent workers.\n",
      "[Parallel(n_jobs=-1)]: Done   1 out of   1 | elapsed:  5.9min finished\n"
     ]
    },
    {
     "name": "stdout",
     "output_type": "stream",
     "text": [
      "K-Fold #1\n",
      "Mean negativities for all classes: [0.24665877167876965]\n",
      "Mean entropies for all classes: [7.13015839332159e-15]\n",
      "              precision    recall  f1-score   support\n",
      "\n",
      "           0       0.72      0.58      0.64        50\n",
      "           1       0.43      0.59      0.50        27\n",
      "\n",
      "    accuracy                           0.58        77\n",
      "   macro avg       0.58      0.59      0.57        77\n",
      "weighted avg       0.62      0.58      0.59        77\n",
      "\n",
      "-------------------------------------------------------------------------------------------------------------------\n"
     ]
    },
    {
     "name": "stderr",
     "output_type": "stream",
     "text": [
      "[Parallel(n_jobs=-1)]: Using backend LokyBackend with 12 concurrent workers.\n",
      "[Parallel(n_jobs=-1)]: Done   1 out of   1 | elapsed:  5.8min finished\n"
     ]
    },
    {
     "name": "stdout",
     "output_type": "stream",
     "text": [
      "K-Fold #2\n",
      "Mean negativities for all classes: [0.24045000185500562]\n",
      "Mean entropies for all classes: [6.709077460490793e-15]\n",
      "              precision    recall  f1-score   support\n",
      "\n",
      "           0       0.72      0.52      0.60        50\n",
      "           1       0.41      0.63      0.50        27\n",
      "\n",
      "    accuracy                           0.56        77\n",
      "   macro avg       0.57      0.57      0.55        77\n",
      "weighted avg       0.61      0.56      0.57        77\n",
      "\n",
      "-------------------------------------------------------------------------------------------------------------------\n"
     ]
    },
    {
     "name": "stderr",
     "output_type": "stream",
     "text": [
      "[Parallel(n_jobs=-1)]: Using backend LokyBackend with 12 concurrent workers.\n",
      "[Parallel(n_jobs=-1)]: Done   1 out of   1 | elapsed:  5.9min finished\n"
     ]
    },
    {
     "name": "stdout",
     "output_type": "stream",
     "text": [
      "K-Fold #3\n",
      "Mean negativities for all classes: [0.24615433936041534]\n",
      "Mean entropies for all classes: [7.0806322758230545e-15]\n",
      "              precision    recall  f1-score   support\n",
      "\n",
      "           0       0.82      0.74      0.78        50\n",
      "           1       0.59      0.70      0.64        27\n",
      "\n",
      "    accuracy                           0.73        77\n",
      "   macro avg       0.71      0.72      0.71        77\n",
      "weighted avg       0.74      0.73      0.73        77\n",
      "\n",
      "-------------------------------------------------------------------------------------------------------------------\n"
     ]
    },
    {
     "name": "stderr",
     "output_type": "stream",
     "text": [
      "[Parallel(n_jobs=-1)]: Using backend LokyBackend with 12 concurrent workers.\n",
      "[Parallel(n_jobs=-1)]: Done   1 out of   1 | elapsed:  5.8min finished\n"
     ]
    },
    {
     "name": "stdout",
     "output_type": "stream",
     "text": [
      "K-Fold #4\n",
      "Mean negativities for all classes: [0.23311847326793242]\n",
      "Mean entropies for all classes: [7.136619222254654e-15]\n",
      "              precision    recall  f1-score   support\n",
      "\n",
      "           0       0.86      0.48      0.62        50\n",
      "           1       0.47      0.85      0.61        27\n",
      "\n",
      "    accuracy                           0.61        77\n",
      "   macro avg       0.66      0.67      0.61        77\n",
      "weighted avg       0.72      0.61      0.61        77\n",
      "\n",
      "-------------------------------------------------------------------------------------------------------------------\n"
     ]
    },
    {
     "name": "stderr",
     "output_type": "stream",
     "text": [
      "[Parallel(n_jobs=-1)]: Using backend LokyBackend with 12 concurrent workers.\n",
      "[Parallel(n_jobs=-1)]: Done   1 out of   1 | elapsed:  5.9min finished\n"
     ]
    },
    {
     "name": "stdout",
     "output_type": "stream",
     "text": [
      "K-Fold #5\n",
      "Mean negativities for all classes: [0.24510086505528164]\n",
      "Mean entropies for all classes: [7.261687805185e-15]\n",
      "              precision    recall  f1-score   support\n",
      "\n",
      "           0       0.76      0.56      0.64        50\n",
      "           1       0.45      0.67      0.54        27\n",
      "\n",
      "    accuracy                           0.60        77\n",
      "   macro avg       0.60      0.61      0.59        77\n",
      "weighted avg       0.65      0.60      0.61        77\n",
      "\n",
      "-------------------------------------------------------------------------------------------------------------------\n"
     ]
    },
    {
     "name": "stderr",
     "output_type": "stream",
     "text": [
      "[Parallel(n_jobs=-1)]: Using backend LokyBackend with 12 concurrent workers.\n",
      "[Parallel(n_jobs=-1)]: Done   1 out of   1 | elapsed:  5.9min finished\n"
     ]
    },
    {
     "name": "stdout",
     "output_type": "stream",
     "text": [
      "K-Fold #6\n",
      "Mean negativities for all classes: [0.2443520174969241]\n",
      "Mean entropies for all classes: [6.858598533559745e-15]\n",
      "              precision    recall  f1-score   support\n",
      "\n",
      "           0       0.77      0.60      0.67        50\n",
      "           1       0.47      0.67      0.55        27\n",
      "\n",
      "    accuracy                           0.62        77\n",
      "   macro avg       0.62      0.63      0.61        77\n",
      "weighted avg       0.67      0.62      0.63        77\n",
      "\n",
      "-------------------------------------------------------------------------------------------------------------------\n"
     ]
    },
    {
     "name": "stderr",
     "output_type": "stream",
     "text": [
      "[Parallel(n_jobs=-1)]: Using backend LokyBackend with 12 concurrent workers.\n",
      "[Parallel(n_jobs=-1)]: Done   1 out of   1 | elapsed:  5.9min finished\n",
      "[Parallel(n_jobs=-1)]: Using backend LokyBackend with 12 concurrent workers.\n"
     ]
    },
    {
     "name": "stdout",
     "output_type": "stream",
     "text": [
      "K-Fold #7\n",
      "Mean negativities for all classes: [0.2523321402209516]\n",
      "Mean entropies for all classes: [6.709295070205959e-15]\n",
      "              precision    recall  f1-score   support\n",
      "\n",
      "           0       0.74      0.52      0.61        50\n",
      "           1       0.43      0.67      0.52        27\n",
      "\n",
      "    accuracy                           0.57        77\n",
      "   macro avg       0.59      0.59      0.57        77\n",
      "weighted avg       0.63      0.57      0.58        77\n",
      "\n",
      "-------------------------------------------------------------------------------------------------------------------\n"
     ]
    },
    {
     "name": "stderr",
     "output_type": "stream",
     "text": [
      "[Parallel(n_jobs=-1)]: Done   1 out of   1 | elapsed:  5.9min finished\n"
     ]
    },
    {
     "name": "stdout",
     "output_type": "stream",
     "text": [
      "K-Fold #8\n",
      "Mean negativities for all classes: [0.24617259781755063]\n",
      "Mean entropies for all classes: [6.80501112778733e-15]\n",
      "              precision    recall  f1-score   support\n",
      "\n",
      "           0       0.78      0.50      0.61        50\n",
      "           1       0.43      0.73      0.54        26\n",
      "\n",
      "    accuracy                           0.58        76\n",
      "   macro avg       0.61      0.62      0.58        76\n",
      "weighted avg       0.66      0.58      0.59        76\n",
      "\n",
      "-------------------------------------------------------------------------------------------------------------------\n"
     ]
    },
    {
     "name": "stderr",
     "output_type": "stream",
     "text": [
      "[Parallel(n_jobs=-1)]: Using backend LokyBackend with 12 concurrent workers.\n",
      "[Parallel(n_jobs=-1)]: Done   1 out of   1 | elapsed:  5.9min finished\n"
     ]
    },
    {
     "name": "stdout",
     "output_type": "stream",
     "text": [
      "K-Fold #9\n",
      "Mean negativities for all classes: [0.24342471667712387]\n",
      "Mean entropies for all classes: [6.68889288750182e-15]\n",
      "              precision    recall  f1-score   support\n",
      "\n",
      "           0       0.84      0.72      0.77        50\n",
      "           1       0.58      0.73      0.64        26\n",
      "\n",
      "    accuracy                           0.72        76\n",
      "   macro avg       0.71      0.73      0.71        76\n",
      "weighted avg       0.75      0.72      0.73        76\n",
      "\n",
      "-------------------------------------------------------------------------------------------------------------------\n",
      "AVG: Scores = 0.61338004101162 F1-Scores = 0.6052308433367694 Negativity = [0.25049921679519876, 0.24665877167876965] Entropy = [6.634191870052446e-15, 7.13015839332159e-15]\n"
     ]
    },
    {
     "name": "stderr",
     "output_type": "stream",
     "text": [
      "[Parallel(n_jobs=-1)]: Using backend LokyBackend with 12 concurrent workers.\n",
      "[Parallel(n_jobs=-1)]: Done   1 out of   1 | elapsed:  5.9min finished\n"
     ]
    },
    {
     "name": "stdout",
     "output_type": "stream",
     "text": [
      "K-Fold #0\n",
      "Mean negativities for all classes: [0.2511912651626908]\n",
      "Mean entropies for all classes: [7.325733422492067e-15]\n",
      "              precision    recall  f1-score   support\n",
      "\n",
      "           0       0.78      0.70      0.74        50\n",
      "           1       0.53      0.63      0.58        27\n",
      "\n",
      "    accuracy                           0.68        77\n",
      "   macro avg       0.65      0.66      0.66        77\n",
      "weighted avg       0.69      0.68      0.68        77\n",
      "\n",
      "-------------------------------------------------------------------------------------------------------------------\n"
     ]
    },
    {
     "name": "stderr",
     "output_type": "stream",
     "text": [
      "[Parallel(n_jobs=-1)]: Using backend LokyBackend with 12 concurrent workers.\n",
      "[Parallel(n_jobs=-1)]: Done   1 out of   1 | elapsed:  5.9min finished\n"
     ]
    },
    {
     "name": "stdout",
     "output_type": "stream",
     "text": [
      "K-Fold #1\n",
      "Mean negativities for all classes: [0.248216341840189]\n",
      "Mean entropies for all classes: [6.9890958128326424e-15]\n",
      "              precision    recall  f1-score   support\n",
      "\n",
      "           0       0.78      0.56      0.65        50\n",
      "           1       0.46      0.70      0.56        27\n",
      "\n",
      "    accuracy                           0.61        77\n",
      "   macro avg       0.62      0.63      0.60        77\n",
      "weighted avg       0.67      0.61      0.62        77\n",
      "\n",
      "-------------------------------------------------------------------------------------------------------------------\n"
     ]
    },
    {
     "name": "stderr",
     "output_type": "stream",
     "text": [
      "[Parallel(n_jobs=-1)]: Using backend LokyBackend with 12 concurrent workers.\n",
      "[Parallel(n_jobs=-1)]: Done   1 out of   1 | elapsed:  5.9min finished\n"
     ]
    },
    {
     "name": "stdout",
     "output_type": "stream",
     "text": [
      "K-Fold #2\n",
      "Mean negativities for all classes: [0.24704739648244745]\n",
      "Mean entropies for all classes: [6.9498831337673365e-15]\n",
      "              precision    recall  f1-score   support\n",
      "\n",
      "           0       0.77      0.66      0.71        50\n",
      "           1       0.50      0.63      0.56        27\n",
      "\n",
      "    accuracy                           0.65        77\n",
      "   macro avg       0.63      0.64      0.63        77\n",
      "weighted avg       0.67      0.65      0.66        77\n",
      "\n",
      "-------------------------------------------------------------------------------------------------------------------\n"
     ]
    },
    {
     "name": "stderr",
     "output_type": "stream",
     "text": [
      "[Parallel(n_jobs=-1)]: Using backend LokyBackend with 12 concurrent workers.\n",
      "[Parallel(n_jobs=-1)]: Done   1 out of   1 | elapsed:  5.9min finished\n"
     ]
    },
    {
     "name": "stdout",
     "output_type": "stream",
     "text": [
      "K-Fold #3\n",
      "Mean negativities for all classes: [0.24260745026019415]\n",
      "Mean entropies for all classes: [6.823033884581109e-15]\n",
      "              precision    recall  f1-score   support\n",
      "\n",
      "           0       0.75      0.60      0.67        50\n",
      "           1       0.46      0.63      0.53        27\n",
      "\n",
      "    accuracy                           0.61        77\n",
      "   macro avg       0.60      0.61      0.60        77\n",
      "weighted avg       0.65      0.61      0.62        77\n",
      "\n",
      "-------------------------------------------------------------------------------------------------------------------\n"
     ]
    },
    {
     "name": "stderr",
     "output_type": "stream",
     "text": [
      "[Parallel(n_jobs=-1)]: Using backend LokyBackend with 12 concurrent workers.\n",
      "[Parallel(n_jobs=-1)]: Done   1 out of   1 | elapsed:  5.9min finished\n"
     ]
    },
    {
     "name": "stdout",
     "output_type": "stream",
     "text": [
      "K-Fold #4\n",
      "Mean negativities for all classes: [0.2457403016737196]\n",
      "Mean entropies for all classes: [6.904330567681624e-15]\n",
      "              precision    recall  f1-score   support\n",
      "\n",
      "           0       0.76      0.58      0.66        50\n",
      "           1       0.46      0.67      0.55        27\n",
      "\n",
      "    accuracy                           0.61        77\n",
      "   macro avg       0.61      0.62      0.60        77\n",
      "weighted avg       0.66      0.61      0.62        77\n",
      "\n",
      "-------------------------------------------------------------------------------------------------------------------\n"
     ]
    },
    {
     "name": "stderr",
     "output_type": "stream",
     "text": [
      "[Parallel(n_jobs=-1)]: Using backend LokyBackend with 12 concurrent workers.\n",
      "[Parallel(n_jobs=-1)]: Done   1 out of   1 | elapsed:  5.9min finished\n"
     ]
    },
    {
     "name": "stdout",
     "output_type": "stream",
     "text": [
      "K-Fold #5\n",
      "Mean negativities for all classes: [0.253641534698702]\n",
      "Mean entropies for all classes: [6.962160845170257e-15]\n",
      "              precision    recall  f1-score   support\n",
      "\n",
      "           0       0.76      0.56      0.64        50\n",
      "           1       0.45      0.67      0.54        27\n",
      "\n",
      "    accuracy                           0.60        77\n",
      "   macro avg       0.60      0.61      0.59        77\n",
      "weighted avg       0.65      0.60      0.61        77\n",
      "\n",
      "-------------------------------------------------------------------------------------------------------------------\n"
     ]
    },
    {
     "name": "stderr",
     "output_type": "stream",
     "text": [
      "[Parallel(n_jobs=-1)]: Using backend LokyBackend with 12 concurrent workers.\n",
      "[Parallel(n_jobs=-1)]: Done   1 out of   1 | elapsed:  5.9min finished\n"
     ]
    },
    {
     "name": "stdout",
     "output_type": "stream",
     "text": [
      "K-Fold #6\n",
      "Mean negativities for all classes: [0.2419194046901061]\n",
      "Mean entropies for all classes: [6.9225946662925544e-15]\n",
      "              precision    recall  f1-score   support\n",
      "\n",
      "           0       0.70      0.52      0.60        50\n",
      "           1       0.40      0.59      0.48        27\n",
      "\n",
      "    accuracy                           0.55        77\n",
      "   macro avg       0.55      0.56      0.54        77\n",
      "weighted avg       0.60      0.55      0.56        77\n",
      "\n",
      "-------------------------------------------------------------------------------------------------------------------\n"
     ]
    },
    {
     "name": "stderr",
     "output_type": "stream",
     "text": [
      "[Parallel(n_jobs=-1)]: Using backend LokyBackend with 12 concurrent workers.\n",
      "[Parallel(n_jobs=-1)]: Done   1 out of   1 | elapsed:  6.0min finished\n"
     ]
    },
    {
     "name": "stdout",
     "output_type": "stream",
     "text": [
      "K-Fold #7\n",
      "Mean negativities for all classes: [0.25083036637470885]\n",
      "Mean entropies for all classes: [7.247621602142705e-15]\n",
      "              precision    recall  f1-score   support\n",
      "\n",
      "           0       0.78      0.76      0.77        50\n",
      "           1       0.57      0.59      0.58        27\n",
      "\n",
      "    accuracy                           0.70        77\n",
      "   macro avg       0.67      0.68      0.67        77\n",
      "weighted avg       0.70      0.70      0.70        77\n",
      "\n",
      "-------------------------------------------------------------------------------------------------------------------\n"
     ]
    },
    {
     "name": "stderr",
     "output_type": "stream",
     "text": [
      "[Parallel(n_jobs=-1)]: Using backend LokyBackend with 12 concurrent workers.\n",
      "[Parallel(n_jobs=-1)]: Done   1 out of   1 | elapsed:  6.2min finished\n"
     ]
    },
    {
     "name": "stdout",
     "output_type": "stream",
     "text": [
      "K-Fold #8\n",
      "Mean negativities for all classes: [0.24531351856238692]\n",
      "Mean entropies for all classes: [6.867771997960017e-15]\n",
      "              precision    recall  f1-score   support\n",
      "\n",
      "           0       0.89      0.62      0.73        50\n",
      "           1       0.54      0.85      0.66        26\n",
      "\n",
      "    accuracy                           0.70        76\n",
      "   macro avg       0.71      0.73      0.69        76\n",
      "weighted avg       0.77      0.70      0.70        76\n",
      "\n",
      "-------------------------------------------------------------------------------------------------------------------\n"
     ]
    },
    {
     "name": "stderr",
     "output_type": "stream",
     "text": [
      "[Parallel(n_jobs=-1)]: Using backend LokyBackend with 12 concurrent workers.\n",
      "[Parallel(n_jobs=-1)]: Done   1 out of   1 | elapsed:  6.1min finished\n"
     ]
    },
    {
     "name": "stdout",
     "output_type": "stream",
     "text": [
      "K-Fold #9\n",
      "Mean negativities for all classes: [0.2434278152150433]\n",
      "Mean entropies for all classes: [6.8338446861360194e-15]\n",
      "              precision    recall  f1-score   support\n",
      "\n",
      "           0       0.76      0.50      0.60        50\n",
      "           1       0.42      0.69      0.52        26\n",
      "\n",
      "    accuracy                           0.57        76\n",
      "   macro avg       0.59      0.60      0.56        76\n",
      "weighted avg       0.64      0.57      0.57        76\n",
      "\n",
      "-------------------------------------------------------------------------------------------------------------------\n",
      "AVG: Scores = 0.6263157894736843 F1-Scores = 0.6154346393069998 Negativity = [0.2511912651626908, 0.248216341840189] Entropy = [7.325733422492067e-15, 6.9890958128326424e-15]\n",
      "CPU times: total: 2min 28s\n",
      "Wall time: 10h 1min 26s\n"
     ]
    }
   ],
   "source": [
    "%%time\n",
    "scores_list = []\n",
    "f1scores_list = []\n",
    "negativities_list = []\n",
    "for SEED in range(n_times_kfold):\n",
    "    scores, f1scores, output_dict = execute_training_test_k_fold(\n",
    "                    X, \n",
    "                    y, \n",
    "                    k_folds=k_times_fold,\n",
    "                    random_seed = SEED, \n",
    "                    classifier_function=classifier_function, \n",
    "                    dic_classifier_params=dic_classifier_params,\n",
    "                    one_vs_classifier=OneVsRestClassifier, \n",
    "                    dic_training_params=dic_training_params,\n",
    "                    print_each_fold_metric=True,\n",
    "                    print_avg_metric=True)\n",
    "    scores_list.append(scores)\n",
    "    f1scores_list.append(f1scores)\n",
    "    negativities_list.append(output_dict[\"negativities\"])"
   ]
  },
  {
   "cell_type": "code",
   "execution_count": 4,
   "id": "168e8aff",
   "metadata": {},
   "outputs": [
    {
     "name": "stdout",
     "output_type": "stream",
     "text": [
      "Media Score dos N K-Fold 0.622652084757348\n",
      "Maior Score dos K-Fold 0.6290328092959672\n",
      "Min Score dos K-Fold 0.6131408065618592\n",
      "Media Score dos K-Fold [0.6223513328776487, 0.6195830485304169, 0.6131408065618592, 0.6287764866712234, 0.6249829118250171, 0.6250341763499658, 0.6239234449760764, 0.6290328092959672, 0.61338004101162, 0.6263157894736843]\n",
      "\n",
      "\n",
      "[[0.6103896103896104, 0.6363636363636364, 0.7012987012987013, 0.5064935064935064, 0.7012987012987013, 0.5324675324675324, 0.7012987012987013, 0.6233766233766234, 0.618421052631579, 0.5921052631578947], [0.6233766233766234, 0.6363636363636364, 0.5584415584415584, 0.7142857142857143, 0.6753246753246753, 0.7142857142857143, 0.5974025974025974, 0.5974025974025974, 0.5921052631578947, 0.4868421052631579], [0.5974025974025974, 0.6363636363636364, 0.6493506493506493, 0.6883116883116883, 0.6103896103896104, 0.6363636363636364, 0.6753246753246753, 0.5194805194805194, 0.4868421052631579, 0.631578947368421], [0.6623376623376623, 0.6103896103896104, 0.6883116883116883, 0.7272727272727273, 0.6103896103896104, 0.6623376623376623, 0.6103896103896104, 0.5584415584415584, 0.5263157894736842, 0.631578947368421], [0.5974025974025974, 0.6623376623376623, 0.5584415584415584, 0.6883116883116883, 0.6233766233766234, 0.6363636363636364, 0.6493506493506493, 0.5974025974025974, 0.5921052631578947, 0.6447368421052632], [0.5844155844155844, 0.6623376623376623, 0.6753246753246753, 0.5454545454545454, 0.5844155844155844, 0.6233766233766234, 0.6493506493506493, 0.6493506493506493, 0.618421052631579, 0.6578947368421053], [0.5844155844155844, 0.5844155844155844, 0.5714285714285714, 0.7142857142857143, 0.6493506493506493, 0.5324675324675324, 0.5844155844155844, 0.5974025974025974, 0.7105263157894737, 0.7105263157894737], [0.6493506493506493, 0.6363636363636364, 0.6363636363636364, 0.6363636363636364, 0.6103896103896104, 0.5194805194805194, 0.5844155844155844, 0.6623376623376623, 0.6578947368421053, 0.6973684210526315], [0.5584415584415584, 0.5844155844155844, 0.5584415584415584, 0.7272727272727273, 0.6103896103896104, 0.5974025974025974, 0.6233766233766234, 0.5714285714285714, 0.5789473684210527, 0.7236842105263158], [0.6753246753246753, 0.6103896103896104, 0.6493506493506493, 0.6103896103896104, 0.6103896103896104, 0.5974025974025974, 0.5454545454545454, 0.7012987012987013, 0.6973684210526315, 0.5657894736842105]]\n"
     ]
    }
   ],
   "source": [
    "print(\"Media Score dos N K-Fold\", np.mean([np.mean(i) for i in scores_list]))\n",
    "print(\"Maior Score dos K-Fold\", max([np.mean(i) for i in scores_list]))\n",
    "print(\"Min Score dos K-Fold\", min([np.mean(i) for i in scores_list]))\n",
    "\n",
    "print(\"Media Score dos K-Fold\", [np.mean(i) for i in scores_list])\n",
    "print()\n",
    "print()\n",
    "print(scores_list)"
   ]
  },
  {
   "cell_type": "code",
   "execution_count": 5,
   "id": "fcd239e5",
   "metadata": {},
   "outputs": [
    {
     "name": "stdout",
     "output_type": "stream",
     "text": [
      "Media F1Score dos N K-Fold 0.6139132631846432\n",
      "Maior F1Score dos K-Fold 0.6201303709972424\n",
      "Maior F1Score dos K-Fold 0.6038939387159578\n",
      "Media F1Score dos K-Fold [0.6152585737943432, 0.6118057069220522, 0.6038939387159578, 0.619863954267841, 0.6165320344837596, 0.6156152167399151, 0.615367353281552, 0.6201303709972424, 0.6052308433367694, 0.6154346393069998]\n",
      "\n",
      "\n",
      "[[0.6022727272727273, 0.6220196353436185, 0.6938634399308556, 0.5044037940379403, 0.6980392156862745, 0.5304878048780488, 0.6938634399308556, 0.6140017286084701, 0.6102564102564103, 0.5833775419982317], [0.621075852706601, 0.6313269493844049, 0.5523255813953488, 0.7083333333333335, 0.6717817561807331, 0.703015427769986, 0.5836385836385837, 0.5836385836385837, 0.5833775419982317, 0.47954345917471475], [0.5904957968776805, 0.6313269493844049, 0.6455242966751918, 0.6760168302945302, 0.6022727272727273, 0.6220196353436185, 0.6565566458519179, 0.5165450534532496, 0.47954345917471475, 0.6186379928315413], [0.6576607387140903, 0.6022727272727273, 0.6791666666666667, 0.7075420510037982, 0.6049931600547196, 0.6524305555555556, 0.6022727272727273, 0.5492424242424243, 0.5179704016913319, 0.6250880902043694], [0.5904957968776805, 0.6524305555555556, 0.5565718157181572, 0.6723404255319149, 0.6169154228855721, 0.6287878787878789, 0.6373626373626375, 0.5930093776641092, 0.5833775419982317, 0.6340288924558588], [0.580952380952381, 0.6595238095238095, 0.6672428694900605, 0.5376565448618975, 0.5757575757575757, 0.6105006105006106, 0.6290811775200713, 0.6433350488934637, 0.6029544226265537, 0.6491477272727273], [0.5757575757575757, 0.5757575757575757, 0.5667519181585677, 0.7059027777777778, 0.6373626373626375, 0.5285714285714285, 0.5786593707250343, 0.5904957968776805, 0.7054263565891473, 0.6889880952380951], [0.6373626373626375, 0.6313269493844049, 0.6256944444444444, 0.6256944444444444, 0.5989583333333333, 0.5142369991474851, 0.5757575757575757, 0.6553030303030303, 0.6518675123326286, 0.6851017834624392], [0.5492424242424243, 0.5722222222222222, 0.5523255813953488, 0.711507582515611, 0.6103238866396761, 0.5904957968776805, 0.6140017286084701, 0.5667519181585677, 0.5763066202090592, 0.7091306724986333], [0.6565566458519179, 0.6049931600547196, 0.6335272342675833, 0.5989583333333333, 0.6022727272727273, 0.5904957968776805, 0.5376565448618975, 0.6747474747474747, 0.693064091308165, 0.5620743844944998]]\n"
     ]
    }
   ],
   "source": [
    "print(\"Media F1Score dos N K-Fold\", np.mean([np.mean(i) for i in f1scores_list]))\n",
    "print(\"Maior F1Score dos K-Fold\", max([np.mean(i) for i in f1scores_list]))\n",
    "print(\"Maior F1Score dos K-Fold\", min([np.mean(i) for i in f1scores_list]))\n",
    "\n",
    "print(\"Media F1Score dos K-Fold\", [np.mean(i) for i in f1scores_list])\n",
    "print()\n",
    "print()\n",
    "print(f1scores_list)"
   ]
  },
  {
   "cell_type": "code",
   "execution_count": 6,
   "id": "3dcbc812",
   "metadata": {},
   "outputs": [
    {
     "ename": "IndexError",
     "evalue": "list index out of range",
     "output_type": "error",
     "traceback": [
      "\u001b[1;31m---------------------------------------------------------------------------\u001b[0m",
      "\u001b[1;31mIndexError\u001b[0m                                Traceback (most recent call last)",
      "\u001b[1;32mc:\\Users\\Eduardo Barreto\\Desktop\\Mestrado\\icq-studies\\experiments\\pima\\Norm-Axis-0-Experimento-Pima-20-10-Fold-Proposed.ipynb Célula 6\u001b[0m line \u001b[0;36m1\n\u001b[1;32m----> <a href='vscode-notebook-cell:/c%3A/Users/Eduardo%20Barreto/Desktop/Mestrado/icq-studies/experiments/pima/Norm-Axis-0-Experimento-Pima-20-10-Fold-Proposed.ipynb#X11sZmlsZQ%3D%3D?line=0'>1</a>\u001b[0m \u001b[39mprint\u001b[39m(\u001b[39m\"\u001b[39m\u001b[39mMedia Negativity dos N K-Fold\u001b[39m\u001b[39m\"\u001b[39m, [np\u001b[39m.\u001b[39mmean([neg[i] \u001b[39mfor\u001b[39;00m neg \u001b[39min\u001b[39;00m negativities_list]) \u001b[39mfor\u001b[39;00m i \u001b[39min\u001b[39;00m \u001b[39mrange\u001b[39m(\u001b[39mlen\u001b[39m(\u001b[39mset\u001b[39m(y)))])\n\u001b[0;32m      <a href='vscode-notebook-cell:/c%3A/Users/Eduardo%20Barreto/Desktop/Mestrado/icq-studies/experiments/pima/Norm-Axis-0-Experimento-Pima-20-10-Fold-Proposed.ipynb#X11sZmlsZQ%3D%3D?line=2'>3</a>\u001b[0m \u001b[39mprint\u001b[39m()\n\u001b[0;32m      <a href='vscode-notebook-cell:/c%3A/Users/Eduardo%20Barreto/Desktop/Mestrado/icq-studies/experiments/pima/Norm-Axis-0-Experimento-Pima-20-10-Fold-Proposed.ipynb#X11sZmlsZQ%3D%3D?line=3'>4</a>\u001b[0m \u001b[39mprint\u001b[39m()\n",
      "\u001b[1;32mc:\\Users\\Eduardo Barreto\\Desktop\\Mestrado\\icq-studies\\experiments\\pima\\Norm-Axis-0-Experimento-Pima-20-10-Fold-Proposed.ipynb Célula 6\u001b[0m line \u001b[0;36m1\n\u001b[1;32m----> <a href='vscode-notebook-cell:/c%3A/Users/Eduardo%20Barreto/Desktop/Mestrado/icq-studies/experiments/pima/Norm-Axis-0-Experimento-Pima-20-10-Fold-Proposed.ipynb#X11sZmlsZQ%3D%3D?line=0'>1</a>\u001b[0m \u001b[39mprint\u001b[39m(\u001b[39m\"\u001b[39m\u001b[39mMedia Negativity dos N K-Fold\u001b[39m\u001b[39m\"\u001b[39m, [np\u001b[39m.\u001b[39mmean([neg[i] \u001b[39mfor\u001b[39;00m neg \u001b[39min\u001b[39;00m negativities_list]) \u001b[39mfor\u001b[39;00m i \u001b[39min\u001b[39;00m \u001b[39mrange\u001b[39m(\u001b[39mlen\u001b[39m(\u001b[39mset\u001b[39m(y)))])\n\u001b[0;32m      <a href='vscode-notebook-cell:/c%3A/Users/Eduardo%20Barreto/Desktop/Mestrado/icq-studies/experiments/pima/Norm-Axis-0-Experimento-Pima-20-10-Fold-Proposed.ipynb#X11sZmlsZQ%3D%3D?line=2'>3</a>\u001b[0m \u001b[39mprint\u001b[39m()\n\u001b[0;32m      <a href='vscode-notebook-cell:/c%3A/Users/Eduardo%20Barreto/Desktop/Mestrado/icq-studies/experiments/pima/Norm-Axis-0-Experimento-Pima-20-10-Fold-Proposed.ipynb#X11sZmlsZQ%3D%3D?line=3'>4</a>\u001b[0m \u001b[39mprint\u001b[39m()\n",
      "\u001b[1;32mc:\\Users\\Eduardo Barreto\\Desktop\\Mestrado\\icq-studies\\experiments\\pima\\Norm-Axis-0-Experimento-Pima-20-10-Fold-Proposed.ipynb Célula 6\u001b[0m line \u001b[0;36m1\n\u001b[1;32m----> <a href='vscode-notebook-cell:/c%3A/Users/Eduardo%20Barreto/Desktop/Mestrado/icq-studies/experiments/pima/Norm-Axis-0-Experimento-Pima-20-10-Fold-Proposed.ipynb#X11sZmlsZQ%3D%3D?line=0'>1</a>\u001b[0m \u001b[39mprint\u001b[39m(\u001b[39m\"\u001b[39m\u001b[39mMedia Negativity dos N K-Fold\u001b[39m\u001b[39m\"\u001b[39m, [np\u001b[39m.\u001b[39mmean([neg[i] \u001b[39mfor\u001b[39;00m neg \u001b[39min\u001b[39;00m negativities_list]) \u001b[39mfor\u001b[39;00m i \u001b[39min\u001b[39;00m \u001b[39mrange\u001b[39m(\u001b[39mlen\u001b[39m(\u001b[39mset\u001b[39m(y)))])\n\u001b[0;32m      <a href='vscode-notebook-cell:/c%3A/Users/Eduardo%20Barreto/Desktop/Mestrado/icq-studies/experiments/pima/Norm-Axis-0-Experimento-Pima-20-10-Fold-Proposed.ipynb#X11sZmlsZQ%3D%3D?line=2'>3</a>\u001b[0m \u001b[39mprint\u001b[39m()\n\u001b[0;32m      <a href='vscode-notebook-cell:/c%3A/Users/Eduardo%20Barreto/Desktop/Mestrado/icq-studies/experiments/pima/Norm-Axis-0-Experimento-Pima-20-10-Fold-Proposed.ipynb#X11sZmlsZQ%3D%3D?line=3'>4</a>\u001b[0m \u001b[39mprint\u001b[39m()\n",
      "\u001b[1;31mIndexError\u001b[0m: list index out of range"
     ]
    }
   ],
   "source": [
    "print(\"Media Negativity dos N K-Fold\", [np.mean([neg[i] for neg in negativities_list]) for i in range(len(set(y)))])\n",
    "\n",
    "print()\n",
    "print()\n",
    "print(negativities_list)"
   ]
  }
 ],
 "metadata": {
  "kernelspec": {
   "display_name": "Python 3",
   "language": "python",
   "name": "python3"
  },
  "language_info": {
   "codemirror_mode": {
    "name": "ipython",
    "version": 3
   },
   "file_extension": ".py",
   "mimetype": "text/x-python",
   "name": "python",
   "nbconvert_exporter": "python",
   "pygments_lexer": "ipython3",
   "version": "3.9.16"
  }
 },
 "nbformat": 4,
 "nbformat_minor": 5
}
