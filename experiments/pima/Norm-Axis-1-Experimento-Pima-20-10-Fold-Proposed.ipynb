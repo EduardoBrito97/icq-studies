{
 "cells": [
  {
   "cell_type": "code",
   "execution_count": 1,
   "id": "0db239e0",
   "metadata": {},
   "outputs": [
    {
     "name": "stderr",
     "output_type": "stream",
     "text": [
      "Intel(R) Extension for Scikit-learn* enabled (https://github.com/intel/scikit-learn-intelex)\n"
     ]
    }
   ],
   "source": [
    "import sys, os\n",
    "sys.path.append(os.path.abspath('../../classifiers'))\n",
    "sys.path.append(os.path.abspath('../../training'))\n",
    "sys.path.append(os.path.abspath('../../validation'))\n",
    "from validation_functions import execute_training_test_k_fold\n",
    "from classifiers_ICQ import iqc_classifier\n",
    "\n",
    "from sklearn.multiclass import OneVsRestClassifier\n",
    "import numpy as np\n",
    "import load_pima\n",
    "\n",
    "X, y = load_pima.get_dataset()"
   ]
  },
  {
   "cell_type": "code",
   "execution_count": 2,
   "id": "1ad66125",
   "metadata": {},
   "outputs": [],
   "source": [
    "classifier_function = iqc_classifier\n",
    "dic_classifier_params = {}\n",
    "dic_classifier_params[\"sigma_q_params\"] = [1,1,1,1]\n",
    "dic_classifier_params[\"use_polar_coordinates_on_sigma_q\"] = False\n",
    "dic_classifier_params[\"load_inputvector_env_state\"] = True\n",
    "dic_classifier_params[\"normalize_axis\"] = 1\n",
    "\n",
    "dic_training_params = {\"max_iter\": 1000,\n",
    "    \"accuracy_succ\": 0.99,\n",
    "    \"plot_graphs_and_metrics\": False,\n",
    "    \"plot_graphs_in_classifier\": False,\n",
    "    \"random_seed\": 1,\n",
    "    \"learning_rate\": 0.009,\n",
    "    \"refit_db\":True,\n",
    "    \"reset_weights_epoch\":0,\n",
    "    \"do_classes_refit\":True,\n",
    "    \"batch\":False}\n",
    "\n",
    "n_times_kfold = 10\n",
    "k_times_fold = 10"
   ]
  },
  {
   "cell_type": "code",
   "execution_count": 3,
   "id": "8522d868",
   "metadata": {},
   "outputs": [
    {
     "name": "stderr",
     "output_type": "stream",
     "text": [
      "[Parallel(n_jobs=-1)]: Using backend LokyBackend with 12 concurrent workers.\n",
      "[Parallel(n_jobs=-1)]: Done   1 out of   1 | elapsed:  6.0min finished\n"
     ]
    },
    {
     "name": "stdout",
     "output_type": "stream",
     "text": [
      "K-Fold #0\n",
      "Mean negativities for all classes: [0.13908527637183335]\n",
      "Mean entropies for all classes: [4.030508004603937e-15]\n",
      "              precision    recall  f1-score   support\n",
      "\n",
      "           0       1.00      0.02      0.04        50\n",
      "           1       0.36      1.00      0.52        27\n",
      "\n",
      "    accuracy                           0.36        77\n",
      "   macro avg       0.68      0.51      0.28        77\n",
      "weighted avg       0.77      0.36      0.21        77\n",
      "\n",
      "-------------------------------------------------------------------------------------------------------------------\n"
     ]
    },
    {
     "name": "stderr",
     "output_type": "stream",
     "text": [
      "[Parallel(n_jobs=-1)]: Using backend LokyBackend with 12 concurrent workers.\n",
      "[Parallel(n_jobs=-1)]: Done   1 out of   1 | elapsed:  5.9min finished\n"
     ]
    },
    {
     "name": "stdout",
     "output_type": "stream",
     "text": [
      "K-Fold #1\n",
      "Mean negativities for all classes: [0.10329331959849064]\n",
      "Mean entropies for all classes: [4.499240628840517e-15]\n",
      "              precision    recall  f1-score   support\n",
      "\n",
      "           0       0.83      0.10      0.18        50\n",
      "           1       0.37      0.96      0.53        27\n",
      "\n",
      "    accuracy                           0.40        77\n",
      "   macro avg       0.60      0.53      0.35        77\n",
      "weighted avg       0.67      0.40      0.30        77\n",
      "\n",
      "-------------------------------------------------------------------------------------------------------------------\n"
     ]
    },
    {
     "name": "stderr",
     "output_type": "stream",
     "text": [
      "[Parallel(n_jobs=-1)]: Using backend LokyBackend with 12 concurrent workers.\n",
      "[Parallel(n_jobs=-1)]: Done   1 out of   1 | elapsed:  6.0min finished\n"
     ]
    },
    {
     "name": "stdout",
     "output_type": "stream",
     "text": [
      "K-Fold #2\n",
      "Mean negativities for all classes: [0.11486083364188672]\n",
      "Mean entropies for all classes: [3.803078204499843e-15]\n",
      "              precision    recall  f1-score   support\n",
      "\n",
      "           0       0.83      0.10      0.18        50\n",
      "           1       0.37      0.96      0.53        27\n",
      "\n",
      "    accuracy                           0.40        77\n",
      "   macro avg       0.60      0.53      0.35        77\n",
      "weighted avg       0.67      0.40      0.30        77\n",
      "\n",
      "-------------------------------------------------------------------------------------------------------------------\n"
     ]
    },
    {
     "name": "stderr",
     "output_type": "stream",
     "text": [
      "[Parallel(n_jobs=-1)]: Using backend LokyBackend with 12 concurrent workers.\n",
      "[Parallel(n_jobs=-1)]: Done   1 out of   1 | elapsed:  6.1min finished\n"
     ]
    },
    {
     "name": "stdout",
     "output_type": "stream",
     "text": [
      "K-Fold #3\n",
      "Mean negativities for all classes: [0.11071631079038563]\n",
      "Mean entropies for all classes: [5.0867807072768104e-15]\n",
      "              precision    recall  f1-score   support\n",
      "\n",
      "           0       1.00      0.08      0.15        50\n",
      "           1       0.37      1.00      0.54        27\n",
      "\n",
      "    accuracy                           0.40        77\n",
      "   macro avg       0.68      0.54      0.34        77\n",
      "weighted avg       0.78      0.40      0.29        77\n",
      "\n",
      "-------------------------------------------------------------------------------------------------------------------\n"
     ]
    },
    {
     "name": "stderr",
     "output_type": "stream",
     "text": [
      "[Parallel(n_jobs=-1)]: Using backend LokyBackend with 12 concurrent workers.\n",
      "[Parallel(n_jobs=-1)]: Done   1 out of   1 | elapsed:  6.0min finished\n"
     ]
    },
    {
     "name": "stdout",
     "output_type": "stream",
     "text": [
      "K-Fold #4\n",
      "Mean negativities for all classes: [0.13448389768243774]\n",
      "Mean entropies for all classes: [4.020207945305857e-15]\n",
      "              precision    recall  f1-score   support\n",
      "\n",
      "           0       1.00      0.12      0.21        50\n",
      "           1       0.38      1.00      0.55        27\n",
      "\n",
      "    accuracy                           0.43        77\n",
      "   macro avg       0.69      0.56      0.38        77\n",
      "weighted avg       0.78      0.43      0.33        77\n",
      "\n",
      "-------------------------------------------------------------------------------------------------------------------\n"
     ]
    },
    {
     "name": "stderr",
     "output_type": "stream",
     "text": [
      "[Parallel(n_jobs=-1)]: Using backend LokyBackend with 12 concurrent workers.\n",
      "[Parallel(n_jobs=-1)]: Done   1 out of   1 | elapsed:  6.0min finished\n"
     ]
    },
    {
     "name": "stdout",
     "output_type": "stream",
     "text": [
      "K-Fold #5\n",
      "Mean negativities for all classes: [0.1508604896423859]\n",
      "Mean entropies for all classes: [4.763471208104289e-15]\n",
      "              precision    recall  f1-score   support\n",
      "\n",
      "           0       0.75      0.12      0.21        50\n",
      "           1       0.36      0.93      0.52        27\n",
      "\n",
      "    accuracy                           0.40        77\n",
      "   macro avg       0.56      0.52      0.36        77\n",
      "weighted avg       0.61      0.40      0.32        77\n",
      "\n",
      "-------------------------------------------------------------------------------------------------------------------\n"
     ]
    },
    {
     "name": "stderr",
     "output_type": "stream",
     "text": [
      "[Parallel(n_jobs=-1)]: Using backend LokyBackend with 12 concurrent workers.\n",
      "[Parallel(n_jobs=-1)]: Done   1 out of   1 | elapsed:  6.0min finished\n"
     ]
    },
    {
     "name": "stdout",
     "output_type": "stream",
     "text": [
      "K-Fold #6\n",
      "Mean negativities for all classes: [0.1408238779375546]\n",
      "Mean entropies for all classes: [4.51966444963089e-15]\n",
      "              precision    recall  f1-score   support\n",
      "\n",
      "           0       1.00      0.12      0.21        50\n",
      "           1       0.38      1.00      0.55        27\n",
      "\n",
      "    accuracy                           0.43        77\n",
      "   macro avg       0.69      0.56      0.38        77\n",
      "weighted avg       0.78      0.43      0.33        77\n",
      "\n",
      "-------------------------------------------------------------------------------------------------------------------\n"
     ]
    },
    {
     "name": "stderr",
     "output_type": "stream",
     "text": [
      "[Parallel(n_jobs=-1)]: Using backend LokyBackend with 12 concurrent workers.\n",
      "[Parallel(n_jobs=-1)]: Done   1 out of   1 | elapsed:  6.0min finished\n"
     ]
    },
    {
     "name": "stdout",
     "output_type": "stream",
     "text": [
      "K-Fold #7\n",
      "Mean negativities for all classes: [0.33127382622519125]\n",
      "Mean entropies for all classes: [4.461326460549958e-15]\n",
      "              precision    recall  f1-score   support\n",
      "\n",
      "           0       0.64      0.68      0.66        50\n",
      "           1       0.33      0.30      0.31        27\n",
      "\n",
      "    accuracy                           0.55        77\n",
      "   macro avg       0.49      0.49      0.49        77\n",
      "weighted avg       0.53      0.55      0.54        77\n",
      "\n",
      "-------------------------------------------------------------------------------------------------------------------\n"
     ]
    },
    {
     "name": "stderr",
     "output_type": "stream",
     "text": [
      "[Parallel(n_jobs=-1)]: Using backend LokyBackend with 12 concurrent workers.\n",
      "[Parallel(n_jobs=-1)]: Done   1 out of   1 | elapsed:  6.0min finished\n"
     ]
    },
    {
     "name": "stdout",
     "output_type": "stream",
     "text": [
      "K-Fold #8\n",
      "Mean negativities for all classes: [0.14172018385709523]\n",
      "Mean entropies for all classes: [4.3539998618940954e-15]\n",
      "              precision    recall  f1-score   support\n",
      "\n",
      "           0       0.50      0.02      0.04        50\n",
      "           1       0.34      0.96      0.50        26\n",
      "\n",
      "    accuracy                           0.34        76\n",
      "   macro avg       0.42      0.49      0.27        76\n",
      "weighted avg       0.44      0.34      0.20        76\n",
      "\n",
      "-------------------------------------------------------------------------------------------------------------------\n"
     ]
    },
    {
     "name": "stderr",
     "output_type": "stream",
     "text": [
      "[Parallel(n_jobs=-1)]: Using backend LokyBackend with 12 concurrent workers.\n",
      "[Parallel(n_jobs=-1)]: Done   1 out of   1 | elapsed:  6.0min finished\n"
     ]
    },
    {
     "name": "stdout",
     "output_type": "stream",
     "text": [
      "K-Fold #9\n",
      "Mean negativities for all classes: [0.14845300904873499]\n",
      "Mean entropies for all classes: [4.498104199307318e-15]\n",
      "              precision    recall  f1-score   support\n",
      "\n",
      "           0       0.83      0.10      0.18        50\n",
      "           1       0.36      0.96      0.52        26\n",
      "\n",
      "    accuracy                           0.39        76\n",
      "   macro avg       0.60      0.53      0.35        76\n",
      "weighted avg       0.67      0.39      0.30        76\n",
      "\n",
      "-------------------------------------------------------------------------------------------------------------------\n",
      "AVG: Scores = 0.41134654818865346 F1-Scores = 0.35700655606483594 Negativity = [0.13908527637183335, 0.10329331959849064] Entropy = [4.030508004603937e-15, 4.499240628840517e-15]\n"
     ]
    },
    {
     "name": "stderr",
     "output_type": "stream",
     "text": [
      "[Parallel(n_jobs=-1)]: Using backend LokyBackend with 12 concurrent workers.\n",
      "[Parallel(n_jobs=-1)]: Done   1 out of   1 | elapsed:  6.0min finished\n"
     ]
    },
    {
     "name": "stdout",
     "output_type": "stream",
     "text": [
      "K-Fold #0\n",
      "Mean negativities for all classes: [0.12967816217553557]\n",
      "Mean entropies for all classes: [5.053077475000666e-15]\n",
      "              precision    recall  f1-score   support\n",
      "\n",
      "           0       0.86      0.12      0.21        50\n",
      "           1       0.37      0.96      0.54        27\n",
      "\n",
      "    accuracy                           0.42        77\n",
      "   macro avg       0.61      0.54      0.37        77\n",
      "weighted avg       0.69      0.42      0.32        77\n",
      "\n",
      "-------------------------------------------------------------------------------------------------------------------\n"
     ]
    },
    {
     "name": "stderr",
     "output_type": "stream",
     "text": [
      "[Parallel(n_jobs=-1)]: Using backend LokyBackend with 12 concurrent workers.\n",
      "[Parallel(n_jobs=-1)]: Done   1 out of   1 | elapsed:  6.0min finished\n"
     ]
    },
    {
     "name": "stdout",
     "output_type": "stream",
     "text": [
      "K-Fold #1\n",
      "Mean negativities for all classes: [0.3366613831881348]\n",
      "Mean entropies for all classes: [3.6015655830610184e-15]\n",
      "              precision    recall  f1-score   support\n",
      "\n",
      "           0       0.64      0.76      0.70        50\n",
      "           1       0.33      0.22      0.27        27\n",
      "\n",
      "    accuracy                           0.57        77\n",
      "   macro avg       0.49      0.49      0.48        77\n",
      "weighted avg       0.54      0.57      0.55        77\n",
      "\n",
      "-------------------------------------------------------------------------------------------------------------------\n"
     ]
    },
    {
     "name": "stderr",
     "output_type": "stream",
     "text": [
      "[Parallel(n_jobs=-1)]: Using backend LokyBackend with 12 concurrent workers.\n",
      "[Parallel(n_jobs=-1)]: Done   1 out of   1 | elapsed:  6.0min finished\n"
     ]
    },
    {
     "name": "stdout",
     "output_type": "stream",
     "text": [
      "K-Fold #2\n",
      "Mean negativities for all classes: [0.3427922688612893]\n",
      "Mean entropies for all classes: [4.8166371740999245e-15]\n",
      "              precision    recall  f1-score   support\n",
      "\n",
      "           0       0.61      0.78      0.68        50\n",
      "           1       0.15      0.07      0.10        27\n",
      "\n",
      "    accuracy                           0.53        77\n",
      "   macro avg       0.38      0.43      0.39        77\n",
      "weighted avg       0.45      0.53      0.48        77\n",
      "\n",
      "-------------------------------------------------------------------------------------------------------------------\n"
     ]
    },
    {
     "name": "stderr",
     "output_type": "stream",
     "text": [
      "[Parallel(n_jobs=-1)]: Using backend LokyBackend with 12 concurrent workers.\n",
      "[Parallel(n_jobs=-1)]: Done   1 out of   1 | elapsed:  6.2min finished\n"
     ]
    },
    {
     "name": "stdout",
     "output_type": "stream",
     "text": [
      "K-Fold #3\n",
      "Mean negativities for all classes: [0.1532549426970348]\n",
      "Mean entropies for all classes: [4.775260845914088e-15]\n",
      "              precision    recall  f1-score   support\n",
      "\n",
      "           0       0.80      0.16      0.27        50\n",
      "           1       0.37      0.93      0.53        27\n",
      "\n",
      "    accuracy                           0.43        77\n",
      "   macro avg       0.59      0.54      0.40        77\n",
      "weighted avg       0.65      0.43      0.36        77\n",
      "\n",
      "-------------------------------------------------------------------------------------------------------------------\n"
     ]
    },
    {
     "name": "stderr",
     "output_type": "stream",
     "text": [
      "[Parallel(n_jobs=-1)]: Using backend LokyBackend with 12 concurrent workers.\n",
      "[Parallel(n_jobs=-1)]: Done   1 out of   1 | elapsed:  6.0min finished\n"
     ]
    },
    {
     "name": "stdout",
     "output_type": "stream",
     "text": [
      "K-Fold #4\n",
      "Mean negativities for all classes: [0.3381236674243447]\n",
      "Mean entropies for all classes: [4.798116272098008e-15]\n",
      "              precision    recall  f1-score   support\n",
      "\n",
      "           0       0.67      0.78      0.72        50\n",
      "           1       0.42      0.30      0.35        27\n",
      "\n",
      "    accuracy                           0.61        77\n",
      "   macro avg       0.55      0.54      0.54        77\n",
      "weighted avg       0.58      0.61      0.59        77\n",
      "\n",
      "-------------------------------------------------------------------------------------------------------------------\n"
     ]
    },
    {
     "name": "stderr",
     "output_type": "stream",
     "text": [
      "[Parallel(n_jobs=-1)]: Using backend LokyBackend with 12 concurrent workers.\n",
      "[Parallel(n_jobs=-1)]: Done   1 out of   1 | elapsed:  6.0min finished\n"
     ]
    },
    {
     "name": "stdout",
     "output_type": "stream",
     "text": [
      "K-Fold #5\n",
      "Mean negativities for all classes: [0.13969865985998633]\n",
      "Mean entropies for all classes: [4.544675833756324e-15]\n",
      "              precision    recall  f1-score   support\n",
      "\n",
      "           0       1.00      0.04      0.08        50\n",
      "           1       0.36      1.00      0.53        27\n",
      "\n",
      "    accuracy                           0.38        77\n",
      "   macro avg       0.68      0.52      0.30        77\n",
      "weighted avg       0.78      0.38      0.24        77\n",
      "\n",
      "-------------------------------------------------------------------------------------------------------------------\n"
     ]
    },
    {
     "name": "stderr",
     "output_type": "stream",
     "text": [
      "[Parallel(n_jobs=-1)]: Using backend LokyBackend with 12 concurrent workers.\n",
      "[Parallel(n_jobs=-1)]: Done   1 out of   1 | elapsed:  6.0min finished\n"
     ]
    },
    {
     "name": "stdout",
     "output_type": "stream",
     "text": [
      "K-Fold #6\n",
      "Mean negativities for all classes: [0.13953998285997987]\n",
      "Mean entropies for all classes: [5.04404531158262e-15]\n",
      "              precision    recall  f1-score   support\n",
      "\n",
      "           0       1.00      0.06      0.11        50\n",
      "           1       0.36      1.00      0.53        27\n",
      "\n",
      "    accuracy                           0.39        77\n",
      "   macro avg       0.68      0.53      0.32        77\n",
      "weighted avg       0.78      0.39      0.26        77\n",
      "\n",
      "-------------------------------------------------------------------------------------------------------------------\n"
     ]
    },
    {
     "name": "stderr",
     "output_type": "stream",
     "text": [
      "[Parallel(n_jobs=-1)]: Using backend LokyBackend with 12 concurrent workers.\n",
      "[Parallel(n_jobs=-1)]: Done   1 out of   1 | elapsed:  6.0min finished\n"
     ]
    },
    {
     "name": "stdout",
     "output_type": "stream",
     "text": [
      "K-Fold #7\n",
      "Mean negativities for all classes: [0.13795281698459208]\n",
      "Mean entropies for all classes: [3.90254864069671e-15]\n",
      "              precision    recall  f1-score   support\n",
      "\n",
      "           0       0.88      0.14      0.24        50\n",
      "           1       0.38      0.96      0.54        27\n",
      "\n",
      "    accuracy                           0.43        77\n",
      "   macro avg       0.63      0.55      0.39        77\n",
      "weighted avg       0.70      0.43      0.35        77\n",
      "\n",
      "-------------------------------------------------------------------------------------------------------------------\n"
     ]
    },
    {
     "name": "stderr",
     "output_type": "stream",
     "text": [
      "[Parallel(n_jobs=-1)]: Using backend LokyBackend with 12 concurrent workers.\n",
      "[Parallel(n_jobs=-1)]: Done   1 out of   1 | elapsed:  6.0min finished\n"
     ]
    },
    {
     "name": "stdout",
     "output_type": "stream",
     "text": [
      "K-Fold #8\n",
      "Mean negativities for all classes: [0.14479824390376972]\n",
      "Mean entropies for all classes: [4.352999753505338e-15]\n",
      "              precision    recall  f1-score   support\n",
      "\n",
      "           0       1.00      0.16      0.28        50\n",
      "           1       0.38      1.00      0.55        26\n",
      "\n",
      "    accuracy                           0.45        76\n",
      "   macro avg       0.69      0.58      0.41        76\n",
      "weighted avg       0.79      0.45      0.37        76\n",
      "\n",
      "-------------------------------------------------------------------------------------------------------------------\n"
     ]
    },
    {
     "name": "stderr",
     "output_type": "stream",
     "text": [
      "[Parallel(n_jobs=-1)]: Using backend LokyBackend with 12 concurrent workers.\n",
      "[Parallel(n_jobs=-1)]: Done   1 out of   1 | elapsed:  6.0min finished\n"
     ]
    },
    {
     "name": "stdout",
     "output_type": "stream",
     "text": [
      "K-Fold #9\n",
      "Mean negativities for all classes: [0.14305357725465292]\n",
      "Mean entropies for all classes: [4.46856215768554e-15]\n",
      "              precision    recall  f1-score   support\n",
      "\n",
      "           0       0.80      0.08      0.15        50\n",
      "           1       0.35      0.96      0.52        26\n",
      "\n",
      "    accuracy                           0.38        76\n",
      "   macro avg       0.58      0.52      0.33        76\n",
      "weighted avg       0.65      0.38      0.27        76\n",
      "\n",
      "-------------------------------------------------------------------------------------------------------------------\n",
      "AVG: Scores = 0.4582194121667806 F1-Scores = 0.39452887056737607 Negativity = [0.12967816217553557, 0.3366613831881348] Entropy = [5.053077475000666e-15, 3.6015655830610184e-15]\n"
     ]
    },
    {
     "name": "stderr",
     "output_type": "stream",
     "text": [
      "[Parallel(n_jobs=-1)]: Using backend LokyBackend with 12 concurrent workers.\n",
      "[Parallel(n_jobs=-1)]: Done   1 out of   1 | elapsed:  6.0min finished\n"
     ]
    },
    {
     "name": "stdout",
     "output_type": "stream",
     "text": [
      "K-Fold #0\n",
      "Mean negativities for all classes: [0.11579316733698547]\n",
      "Mean entropies for all classes: [4.408094268035466e-15]\n",
      "              precision    recall  f1-score   support\n",
      "\n",
      "           0       1.00      0.10      0.18        50\n",
      "           1       0.38      1.00      0.55        27\n",
      "\n",
      "    accuracy                           0.42        77\n",
      "   macro avg       0.69      0.55      0.36        77\n",
      "weighted avg       0.78      0.42      0.31        77\n",
      "\n",
      "-------------------------------------------------------------------------------------------------------------------\n"
     ]
    },
    {
     "name": "stderr",
     "output_type": "stream",
     "text": [
      "[Parallel(n_jobs=-1)]: Using backend LokyBackend with 12 concurrent workers.\n",
      "[Parallel(n_jobs=-1)]: Done   1 out of   1 | elapsed:  6.0min finished\n"
     ]
    },
    {
     "name": "stdout",
     "output_type": "stream",
     "text": [
      "K-Fold #1\n",
      "Mean negativities for all classes: [0.15035762545161555]\n",
      "Mean entropies for all classes: [4.794314215280742e-15]\n",
      "              precision    recall  f1-score   support\n",
      "\n",
      "           0       1.00      0.06      0.11        50\n",
      "           1       0.36      1.00      0.53        27\n",
      "\n",
      "    accuracy                           0.39        77\n",
      "   macro avg       0.68      0.53      0.32        77\n",
      "weighted avg       0.78      0.39      0.26        77\n",
      "\n",
      "-------------------------------------------------------------------------------------------------------------------\n"
     ]
    },
    {
     "name": "stderr",
     "output_type": "stream",
     "text": [
      "[Parallel(n_jobs=-1)]: Using backend LokyBackend with 12 concurrent workers.\n",
      "[Parallel(n_jobs=-1)]: Done   1 out of   1 | elapsed:  6.1min finished\n"
     ]
    },
    {
     "name": "stdout",
     "output_type": "stream",
     "text": [
      "K-Fold #2\n",
      "Mean negativities for all classes: [0.13010968256828304]\n",
      "Mean entropies for all classes: [4.068593642214072e-15]\n",
      "              precision    recall  f1-score   support\n",
      "\n",
      "           0       1.00      0.14      0.25        50\n",
      "           1       0.39      1.00      0.56        27\n",
      "\n",
      "    accuracy                           0.44        77\n",
      "   macro avg       0.69      0.57      0.40        77\n",
      "weighted avg       0.78      0.44      0.35        77\n",
      "\n",
      "-------------------------------------------------------------------------------------------------------------------\n"
     ]
    },
    {
     "name": "stderr",
     "output_type": "stream",
     "text": [
      "[Parallel(n_jobs=-1)]: Using backend LokyBackend with 12 concurrent workers.\n",
      "[Parallel(n_jobs=-1)]: Done   1 out of   1 | elapsed:  6.1min finished\n"
     ]
    },
    {
     "name": "stdout",
     "output_type": "stream",
     "text": [
      "K-Fold #3\n",
      "Mean negativities for all classes: [0.019851374876463993]\n",
      "Mean entropies for all classes: [4.087600969275106e-15]\n",
      "              precision    recall  f1-score   support\n",
      "\n",
      "           0       1.00      0.08      0.15        50\n",
      "           1       0.37      1.00      0.54        27\n",
      "\n",
      "    accuracy                           0.40        77\n",
      "   macro avg       0.68      0.54      0.34        77\n",
      "weighted avg       0.78      0.40      0.29        77\n",
      "\n",
      "-------------------------------------------------------------------------------------------------------------------\n"
     ]
    },
    {
     "name": "stderr",
     "output_type": "stream",
     "text": [
      "[Parallel(n_jobs=-1)]: Using backend LokyBackend with 12 concurrent workers.\n",
      "[Parallel(n_jobs=-1)]: Done   1 out of   1 | elapsed:  6.1min finished\n"
     ]
    },
    {
     "name": "stdout",
     "output_type": "stream",
     "text": [
      "K-Fold #4\n",
      "Mean negativities for all classes: [0.1465559605325865]\n",
      "Mean entropies for all classes: [4.57557120242743e-15]\n",
      "              precision    recall  f1-score   support\n",
      "\n",
      "           0       0.80      0.08      0.15        50\n",
      "           1       0.36      0.96      0.53        27\n",
      "\n",
      "    accuracy                           0.39        77\n",
      "   macro avg       0.58      0.52      0.34        77\n",
      "weighted avg       0.65      0.39      0.28        77\n",
      "\n",
      "-------------------------------------------------------------------------------------------------------------------\n"
     ]
    },
    {
     "name": "stderr",
     "output_type": "stream",
     "text": [
      "[Parallel(n_jobs=-1)]: Using backend LokyBackend with 12 concurrent workers.\n",
      "[Parallel(n_jobs=-1)]: Done   1 out of   1 | elapsed:  6.1min finished\n"
     ]
    },
    {
     "name": "stdout",
     "output_type": "stream",
     "text": [
      "K-Fold #5\n",
      "Mean negativities for all classes: [0.004786745321655]\n",
      "Mean entropies for all classes: [4.009642629777867e-15]\n",
      "              precision    recall  f1-score   support\n",
      "\n",
      "           0       1.00      0.10      0.18        50\n",
      "           1       0.38      1.00      0.55        27\n",
      "\n",
      "    accuracy                           0.42        77\n",
      "   macro avg       0.69      0.55      0.36        77\n",
      "weighted avg       0.78      0.42      0.31        77\n",
      "\n",
      "-------------------------------------------------------------------------------------------------------------------\n"
     ]
    },
    {
     "name": "stderr",
     "output_type": "stream",
     "text": [
      "[Parallel(n_jobs=-1)]: Using backend LokyBackend with 12 concurrent workers.\n",
      "[Parallel(n_jobs=-1)]: Done   1 out of   1 | elapsed:  6.1min finished\n"
     ]
    },
    {
     "name": "stdout",
     "output_type": "stream",
     "text": [
      "K-Fold #6\n",
      "Mean negativities for all classes: [0.15784613127727465]\n",
      "Mean entropies for all classes: [3.9058601610920335e-15]\n",
      "              precision    recall  f1-score   support\n",
      "\n",
      "           0       0.57      0.08      0.14        50\n",
      "           1       0.34      0.89      0.49        27\n",
      "\n",
      "    accuracy                           0.36        77\n",
      "   macro avg       0.46      0.48      0.32        77\n",
      "weighted avg       0.49      0.36      0.26        77\n",
      "\n",
      "-------------------------------------------------------------------------------------------------------------------\n"
     ]
    },
    {
     "name": "stderr",
     "output_type": "stream",
     "text": [
      "[Parallel(n_jobs=-1)]: Using backend LokyBackend with 12 concurrent workers.\n",
      "[Parallel(n_jobs=-1)]: Done   1 out of   1 | elapsed:  6.1min finished\n"
     ]
    },
    {
     "name": "stdout",
     "output_type": "stream",
     "text": [
      "K-Fold #7\n",
      "Mean negativities for all classes: [0.13980502290807417]\n",
      "Mean entropies for all classes: [4.454585666862831e-15]\n",
      "              precision    recall  f1-score   support\n",
      "\n",
      "           0       0.67      0.08      0.14        50\n",
      "           1       0.35      0.93      0.51        27\n",
      "\n",
      "    accuracy                           0.38        77\n",
      "   macro avg       0.51      0.50      0.33        77\n",
      "weighted avg       0.56      0.38      0.27        77\n",
      "\n",
      "-------------------------------------------------------------------------------------------------------------------\n"
     ]
    },
    {
     "name": "stderr",
     "output_type": "stream",
     "text": [
      "[Parallel(n_jobs=-1)]: Using backend LokyBackend with 12 concurrent workers.\n",
      "[Parallel(n_jobs=-1)]: Done   1 out of   1 | elapsed:  6.1min finished\n"
     ]
    },
    {
     "name": "stdout",
     "output_type": "stream",
     "text": [
      "K-Fold #8\n",
      "Mean negativities for all classes: [0.13836802113831903]\n",
      "Mean entropies for all classes: [4.3352514359175345e-15]\n",
      "              precision    recall  f1-score   support\n",
      "\n",
      "           0       0.90      0.18      0.30        50\n",
      "           1       0.38      0.96      0.54        26\n",
      "\n",
      "    accuracy                           0.45        76\n",
      "   macro avg       0.64      0.57      0.42        76\n",
      "weighted avg       0.72      0.45      0.38        76\n",
      "\n",
      "-------------------------------------------------------------------------------------------------------------------\n"
     ]
    },
    {
     "name": "stderr",
     "output_type": "stream",
     "text": [
      "[Parallel(n_jobs=-1)]: Using backend LokyBackend with 12 concurrent workers.\n",
      "[Parallel(n_jobs=-1)]: Done   1 out of   1 | elapsed:  6.1min finished\n"
     ]
    },
    {
     "name": "stdout",
     "output_type": "stream",
     "text": [
      "K-Fold #9\n",
      "Mean negativities for all classes: [0.03452284519444143]\n",
      "Mean entropies for all classes: [3.929726894450146e-15]\n",
      "              precision    recall  f1-score   support\n",
      "\n",
      "           0       0.67      0.12      0.20        50\n",
      "           1       0.34      0.88      0.49        26\n",
      "\n",
      "    accuracy                           0.38        76\n",
      "   macro avg       0.50      0.50      0.35        76\n",
      "weighted avg       0.56      0.38      0.30        76\n",
      "\n",
      "-------------------------------------------------------------------------------------------------------------------\n",
      "AVG: Scores = 0.4023752563226247 F1-Scores = 0.3546662980866056 Negativity = [0.11579316733698547, 0.15035762545161555] Entropy = [4.408094268035466e-15, 4.794314215280742e-15]\n"
     ]
    },
    {
     "name": "stderr",
     "output_type": "stream",
     "text": [
      "[Parallel(n_jobs=-1)]: Using backend LokyBackend with 12 concurrent workers.\n",
      "[Parallel(n_jobs=-1)]: Done   1 out of   1 | elapsed:  6.1min finished\n"
     ]
    },
    {
     "name": "stdout",
     "output_type": "stream",
     "text": [
      "K-Fold #0\n",
      "Mean negativities for all classes: [0.14567293234576237]\n",
      "Mean entropies for all classes: [4.236400563212371e-15]\n",
      "              precision    recall  f1-score   support\n",
      "\n",
      "           0       0.73      0.16      0.26        50\n",
      "           1       0.36      0.89      0.52        27\n",
      "\n",
      "    accuracy                           0.42        77\n",
      "   macro avg       0.55      0.52      0.39        77\n",
      "weighted avg       0.60      0.42      0.35        77\n",
      "\n",
      "-------------------------------------------------------------------------------------------------------------------\n"
     ]
    },
    {
     "name": "stderr",
     "output_type": "stream",
     "text": [
      "[Parallel(n_jobs=-1)]: Using backend LokyBackend with 12 concurrent workers.\n",
      "[Parallel(n_jobs=-1)]: Done   1 out of   1 | elapsed:  6.1min finished\n"
     ]
    },
    {
     "name": "stdout",
     "output_type": "stream",
     "text": [
      "K-Fold #1\n",
      "Mean negativities for all classes: [0.34226728147866836]\n",
      "Mean entropies for all classes: [5.102402675486518e-15]\n",
      "              precision    recall  f1-score   support\n",
      "\n",
      "           0       0.63      0.72      0.67        50\n",
      "           1       0.30      0.22      0.26        27\n",
      "\n",
      "    accuracy                           0.55        77\n",
      "   macro avg       0.47      0.47      0.46        77\n",
      "weighted avg       0.52      0.55      0.53        77\n",
      "\n",
      "-------------------------------------------------------------------------------------------------------------------\n"
     ]
    },
    {
     "name": "stderr",
     "output_type": "stream",
     "text": [
      "[Parallel(n_jobs=-1)]: Using backend LokyBackend with 12 concurrent workers.\n",
      "[Parallel(n_jobs=-1)]: Done   1 out of   1 | elapsed:  6.1min finished\n"
     ]
    },
    {
     "name": "stdout",
     "output_type": "stream",
     "text": [
      "K-Fold #2\n",
      "Mean negativities for all classes: [0.00640351574799302]\n",
      "Mean entropies for all classes: [4.281056044230171e-15]\n",
      "              precision    recall  f1-score   support\n",
      "\n",
      "           0       0.75      0.12      0.21        50\n",
      "           1       0.36      0.93      0.52        27\n",
      "\n",
      "    accuracy                           0.40        77\n",
      "   macro avg       0.56      0.52      0.36        77\n",
      "weighted avg       0.61      0.40      0.32        77\n",
      "\n",
      "-------------------------------------------------------------------------------------------------------------------\n"
     ]
    },
    {
     "name": "stderr",
     "output_type": "stream",
     "text": [
      "[Parallel(n_jobs=-1)]: Using backend LokyBackend with 12 concurrent workers.\n",
      "[Parallel(n_jobs=-1)]: Done   1 out of   1 | elapsed:  6.1min finished\n"
     ]
    },
    {
     "name": "stdout",
     "output_type": "stream",
     "text": [
      "K-Fold #3\n",
      "Mean negativities for all classes: [0.10222659361990168]\n",
      "Mean entropies for all classes: [4.31064258467684e-15]\n",
      "              precision    recall  f1-score   support\n",
      "\n",
      "           0       1.00      0.16      0.28        50\n",
      "           1       0.39      1.00      0.56        27\n",
      "\n",
      "    accuracy                           0.45        77\n",
      "   macro avg       0.70      0.58      0.42        77\n",
      "weighted avg       0.79      0.45      0.38        77\n",
      "\n",
      "-------------------------------------------------------------------------------------------------------------------\n"
     ]
    },
    {
     "name": "stderr",
     "output_type": "stream",
     "text": [
      "[Parallel(n_jobs=-1)]: Using backend LokyBackend with 12 concurrent workers.\n",
      "[Parallel(n_jobs=-1)]: Done   1 out of   1 | elapsed:  6.1min finished\n"
     ]
    },
    {
     "name": "stdout",
     "output_type": "stream",
     "text": [
      "K-Fold #4\n",
      "Mean negativities for all classes: [0.13638134900417404]\n",
      "Mean entropies for all classes: [4.3278366609461e-15]\n",
      "              precision    recall  f1-score   support\n",
      "\n",
      "           0       1.00      0.06      0.11        50\n",
      "           1       0.36      1.00      0.53        27\n",
      "\n",
      "    accuracy                           0.39        77\n",
      "   macro avg       0.68      0.53      0.32        77\n",
      "weighted avg       0.78      0.39      0.26        77\n",
      "\n",
      "-------------------------------------------------------------------------------------------------------------------\n"
     ]
    },
    {
     "name": "stderr",
     "output_type": "stream",
     "text": [
      "[Parallel(n_jobs=-1)]: Using backend LokyBackend with 12 concurrent workers.\n",
      "[Parallel(n_jobs=-1)]: Done   1 out of   1 | elapsed:  6.1min finished\n"
     ]
    },
    {
     "name": "stdout",
     "output_type": "stream",
     "text": [
      "K-Fold #5\n",
      "Mean negativities for all classes: [0.14846866715225035]\n",
      "Mean entropies for all classes: [4.01712783261014e-15]\n",
      "              precision    recall  f1-score   support\n",
      "\n",
      "           0       1.00      0.10      0.18        50\n",
      "           1       0.38      1.00      0.55        27\n",
      "\n",
      "    accuracy                           0.42        77\n",
      "   macro avg       0.69      0.55      0.36        77\n",
      "weighted avg       0.78      0.42      0.31        77\n",
      "\n",
      "-------------------------------------------------------------------------------------------------------------------\n"
     ]
    },
    {
     "name": "stderr",
     "output_type": "stream",
     "text": [
      "[Parallel(n_jobs=-1)]: Using backend LokyBackend with 12 concurrent workers.\n",
      "[Parallel(n_jobs=-1)]: Done   1 out of   1 | elapsed:  6.1min finished\n"
     ]
    },
    {
     "name": "stdout",
     "output_type": "stream",
     "text": [
      "K-Fold #6\n",
      "Mean negativities for all classes: [0.07216530273341293]\n",
      "Mean entropies for all classes: [3.786524724451591e-15]\n",
      "              precision    recall  f1-score   support\n",
      "\n",
      "           0       0.88      0.14      0.24        50\n",
      "           1       0.38      0.96      0.54        27\n",
      "\n",
      "    accuracy                           0.43        77\n",
      "   macro avg       0.63      0.55      0.39        77\n",
      "weighted avg       0.70      0.43      0.35        77\n",
      "\n",
      "-------------------------------------------------------------------------------------------------------------------\n"
     ]
    },
    {
     "name": "stderr",
     "output_type": "stream",
     "text": [
      "[Parallel(n_jobs=-1)]: Using backend LokyBackend with 12 concurrent workers.\n",
      "[Parallel(n_jobs=-1)]: Done   1 out of   1 | elapsed:  6.1min finished\n"
     ]
    },
    {
     "name": "stdout",
     "output_type": "stream",
     "text": [
      "K-Fold #7\n",
      "Mean negativities for all classes: [0.1507525823656909]\n",
      "Mean entropies for all classes: [3.969755668626285e-15]\n",
      "              precision    recall  f1-score   support\n",
      "\n",
      "           0       0.75      0.24      0.36        50\n",
      "           1       0.38      0.85      0.52        27\n",
      "\n",
      "    accuracy                           0.45        77\n",
      "   macro avg       0.56      0.55      0.44        77\n",
      "weighted avg       0.62      0.45      0.42        77\n",
      "\n",
      "-------------------------------------------------------------------------------------------------------------------\n"
     ]
    },
    {
     "name": "stderr",
     "output_type": "stream",
     "text": [
      "[Parallel(n_jobs=-1)]: Using backend LokyBackend with 12 concurrent workers.\n",
      "[Parallel(n_jobs=-1)]: Done   1 out of   1 | elapsed:  6.1min finished\n"
     ]
    },
    {
     "name": "stdout",
     "output_type": "stream",
     "text": [
      "K-Fold #8\n",
      "Mean negativities for all classes: [0.1422614627346286]\n",
      "Mean entropies for all classes: [4.644483814802792e-15]\n",
      "              precision    recall  f1-score   support\n",
      "\n",
      "           0       0.80      0.08      0.15        50\n",
      "           1       0.35      0.96      0.52        26\n",
      "\n",
      "    accuracy                           0.38        76\n",
      "   macro avg       0.58      0.52      0.33        76\n",
      "weighted avg       0.65      0.38      0.27        76\n",
      "\n",
      "-------------------------------------------------------------------------------------------------------------------\n"
     ]
    },
    {
     "name": "stderr",
     "output_type": "stream",
     "text": [
      "[Parallel(n_jobs=-1)]: Using backend LokyBackend with 12 concurrent workers.\n",
      "[Parallel(n_jobs=-1)]: Done   1 out of   1 | elapsed:  6.1min finished\n"
     ]
    },
    {
     "name": "stdout",
     "output_type": "stream",
     "text": [
      "K-Fold #9\n",
      "Mean negativities for all classes: [0.12076810791038338]\n",
      "Mean entropies for all classes: [3.900640482605474e-15]\n",
      "              precision    recall  f1-score   support\n",
      "\n",
      "           0       1.00      0.18      0.31        50\n",
      "           1       0.39      1.00      0.56        26\n",
      "\n",
      "    accuracy                           0.46        76\n",
      "   macro avg       0.69      0.59      0.43        76\n",
      "weighted avg       0.79      0.46      0.39        76\n",
      "\n",
      "-------------------------------------------------------------------------------------------------------------------\n",
      "AVG: Scores = 0.4348598769651401 F1-Scores = 0.39212093801497944 Negativity = [0.14567293234576237, 0.34226728147866836] Entropy = [4.236400563212371e-15, 5.102402675486518e-15]\n"
     ]
    },
    {
     "name": "stderr",
     "output_type": "stream",
     "text": [
      "[Parallel(n_jobs=-1)]: Using backend LokyBackend with 12 concurrent workers.\n",
      "[Parallel(n_jobs=-1)]: Done   1 out of   1 | elapsed:  6.1min finished\n"
     ]
    },
    {
     "name": "stdout",
     "output_type": "stream",
     "text": [
      "K-Fold #0\n",
      "Mean negativities for all classes: [0.15259441767328147]\n",
      "Mean entropies for all classes: [4.1179423331276035e-15]\n",
      "              precision    recall  f1-score   support\n",
      "\n",
      "           0       0.80      0.16      0.27        50\n",
      "           1       0.37      0.93      0.53        27\n",
      "\n",
      "    accuracy                           0.43        77\n",
      "   macro avg       0.59      0.54      0.40        77\n",
      "weighted avg       0.65      0.43      0.36        77\n",
      "\n",
      "-------------------------------------------------------------------------------------------------------------------\n"
     ]
    },
    {
     "name": "stderr",
     "output_type": "stream",
     "text": [
      "[Parallel(n_jobs=-1)]: Using backend LokyBackend with 12 concurrent workers.\n",
      "[Parallel(n_jobs=-1)]: Done   1 out of   1 | elapsed:  6.1min finished\n"
     ]
    },
    {
     "name": "stdout",
     "output_type": "stream",
     "text": [
      "K-Fold #1\n",
      "Mean negativities for all classes: [0.11521841491807612]\n",
      "Mean entropies for all classes: [4.270378726214272e-15]\n",
      "              precision    recall  f1-score   support\n",
      "\n",
      "           0       1.00      0.20      0.33        50\n",
      "           1       0.40      1.00      0.57        27\n",
      "\n",
      "    accuracy                           0.48        77\n",
      "   macro avg       0.70      0.60      0.45        77\n",
      "weighted avg       0.79      0.48      0.42        77\n",
      "\n",
      "-------------------------------------------------------------------------------------------------------------------\n"
     ]
    },
    {
     "name": "stderr",
     "output_type": "stream",
     "text": [
      "[Parallel(n_jobs=-1)]: Using backend LokyBackend with 12 concurrent workers.\n",
      "[Parallel(n_jobs=-1)]: Done   1 out of   1 | elapsed:  6.1min finished\n"
     ]
    },
    {
     "name": "stdout",
     "output_type": "stream",
     "text": [
      "K-Fold #2\n",
      "Mean negativities for all classes: [0.13963137982954255]\n",
      "Mean entropies for all classes: [4.610122135156668e-15]\n",
      "              precision    recall  f1-score   support\n",
      "\n",
      "           0       0.83      0.10      0.18        50\n",
      "           1       0.37      0.96      0.53        27\n",
      "\n",
      "    accuracy                           0.40        77\n",
      "   macro avg       0.60      0.53      0.35        77\n",
      "weighted avg       0.67      0.40      0.30        77\n",
      "\n",
      "-------------------------------------------------------------------------------------------------------------------\n"
     ]
    },
    {
     "name": "stderr",
     "output_type": "stream",
     "text": [
      "[Parallel(n_jobs=-1)]: Using backend LokyBackend with 12 concurrent workers.\n",
      "[Parallel(n_jobs=-1)]: Done   1 out of   1 | elapsed:  6.0min finished\n"
     ]
    },
    {
     "name": "stdout",
     "output_type": "stream",
     "text": [
      "K-Fold #3\n",
      "Mean negativities for all classes: [0.14154644014755488]\n",
      "Mean entropies for all classes: [5.309361941470498e-15]\n",
      "              precision    recall  f1-score   support\n",
      "\n",
      "           0       1.00      0.12      0.21        50\n",
      "           1       0.38      1.00      0.55        27\n",
      "\n",
      "    accuracy                           0.43        77\n",
      "   macro avg       0.69      0.56      0.38        77\n",
      "weighted avg       0.78      0.43      0.33        77\n",
      "\n",
      "-------------------------------------------------------------------------------------------------------------------\n"
     ]
    },
    {
     "name": "stderr",
     "output_type": "stream",
     "text": [
      "[Parallel(n_jobs=-1)]: Using backend LokyBackend with 12 concurrent workers.\n",
      "[Parallel(n_jobs=-1)]: Done   1 out of   1 | elapsed:  6.0min finished\n"
     ]
    },
    {
     "name": "stdout",
     "output_type": "stream",
     "text": [
      "K-Fold #4\n",
      "Mean negativities for all classes: [0.12500678209461386]\n",
      "Mean entropies for all classes: [4.191549523250606e-15]\n",
      "              precision    recall  f1-score   support\n",
      "\n",
      "           0       1.00      0.08      0.15        50\n",
      "           1       0.37      1.00      0.54        27\n",
      "\n",
      "    accuracy                           0.40        77\n",
      "   macro avg       0.68      0.54      0.34        77\n",
      "weighted avg       0.78      0.40      0.29        77\n",
      "\n",
      "-------------------------------------------------------------------------------------------------------------------\n"
     ]
    },
    {
     "name": "stderr",
     "output_type": "stream",
     "text": [
      "[Parallel(n_jobs=-1)]: Using backend LokyBackend with 12 concurrent workers.\n",
      "[Parallel(n_jobs=-1)]: Done   1 out of   1 | elapsed:  6.0min finished\n"
     ]
    },
    {
     "name": "stdout",
     "output_type": "stream",
     "text": [
      "K-Fold #5\n",
      "Mean negativities for all classes: [0.154043923032538]\n",
      "Mean entropies for all classes: [4.908068321887295e-15]\n",
      "              precision    recall  f1-score   support\n",
      "\n",
      "           0       1.00      0.10      0.18        50\n",
      "           1       0.38      1.00      0.55        27\n",
      "\n",
      "    accuracy                           0.42        77\n",
      "   macro avg       0.69      0.55      0.36        77\n",
      "weighted avg       0.78      0.42      0.31        77\n",
      "\n",
      "-------------------------------------------------------------------------------------------------------------------\n"
     ]
    },
    {
     "name": "stderr",
     "output_type": "stream",
     "text": [
      "[Parallel(n_jobs=-1)]: Using backend LokyBackend with 12 concurrent workers.\n",
      "[Parallel(n_jobs=-1)]: Done   1 out of   1 | elapsed:  6.0min finished\n"
     ]
    },
    {
     "name": "stdout",
     "output_type": "stream",
     "text": [
      "K-Fold #6\n",
      "Mean negativities for all classes: [0.14723754547363144]\n",
      "Mean entropies for all classes: [4.731690680585534e-15]\n",
      "              precision    recall  f1-score   support\n",
      "\n",
      "           0       1.00      0.06      0.11        50\n",
      "           1       0.36      1.00      0.53        27\n",
      "\n",
      "    accuracy                           0.39        77\n",
      "   macro avg       0.68      0.53      0.32        77\n",
      "weighted avg       0.78      0.39      0.26        77\n",
      "\n",
      "-------------------------------------------------------------------------------------------------------------------\n"
     ]
    },
    {
     "name": "stderr",
     "output_type": "stream",
     "text": [
      "[Parallel(n_jobs=-1)]: Using backend LokyBackend with 12 concurrent workers.\n",
      "[Parallel(n_jobs=-1)]: Done   1 out of   1 | elapsed:  6.0min finished\n"
     ]
    },
    {
     "name": "stdout",
     "output_type": "stream",
     "text": [
      "K-Fold #7\n",
      "Mean negativities for all classes: [0.12284762186764336]\n",
      "Mean entropies for all classes: [4.261097639155432e-15]\n",
      "              precision    recall  f1-score   support\n",
      "\n",
      "           0       1.00      0.06      0.11        50\n",
      "           1       0.36      1.00      0.53        27\n",
      "\n",
      "    accuracy                           0.39        77\n",
      "   macro avg       0.68      0.53      0.32        77\n",
      "weighted avg       0.78      0.39      0.26        77\n",
      "\n",
      "-------------------------------------------------------------------------------------------------------------------\n"
     ]
    },
    {
     "name": "stderr",
     "output_type": "stream",
     "text": [
      "[Parallel(n_jobs=-1)]: Using backend LokyBackend with 12 concurrent workers.\n",
      "[Parallel(n_jobs=-1)]: Done   1 out of   1 | elapsed:  6.0min finished\n"
     ]
    },
    {
     "name": "stdout",
     "output_type": "stream",
     "text": [
      "K-Fold #8\n",
      "Mean negativities for all classes: [0.13839835934775296]\n",
      "Mean entropies for all classes: [4.6513085598779e-15]\n",
      "              precision    recall  f1-score   support\n",
      "\n",
      "           0       1.00      0.08      0.15        50\n",
      "           1       0.36      1.00      0.53        26\n",
      "\n",
      "    accuracy                           0.39        76\n",
      "   macro avg       0.68      0.54      0.34        76\n",
      "weighted avg       0.78      0.39      0.28        76\n",
      "\n",
      "-------------------------------------------------------------------------------------------------------------------\n"
     ]
    },
    {
     "name": "stderr",
     "output_type": "stream",
     "text": [
      "[Parallel(n_jobs=-1)]: Using backend LokyBackend with 12 concurrent workers.\n",
      "[Parallel(n_jobs=-1)]: Done   1 out of   1 | elapsed:  6.0min finished\n"
     ]
    },
    {
     "name": "stdout",
     "output_type": "stream",
     "text": [
      "K-Fold #9\n",
      "Mean negativities for all classes: [0.1395765597939517]\n",
      "Mean entropies for all classes: [4.204816903519438e-15]\n",
      "              precision    recall  f1-score   support\n",
      "\n",
      "           0       1.00      0.04      0.08        50\n",
      "           1       0.35      1.00      0.52        26\n",
      "\n",
      "    accuracy                           0.37        76\n",
      "   macro avg       0.68      0.52      0.30        76\n",
      "weighted avg       0.78      0.37      0.23        76\n",
      "\n",
      "-------------------------------------------------------------------------------------------------------------------\n",
      "AVG: Scores = 0.41008202323991794 F1-Scores = 0.35838495725322617 Negativity = [0.15259441767328147, 0.11521841491807612] Entropy = [4.1179423331276035e-15, 4.270378726214272e-15]\n"
     ]
    },
    {
     "name": "stderr",
     "output_type": "stream",
     "text": [
      "[Parallel(n_jobs=-1)]: Using backend LokyBackend with 12 concurrent workers.\n",
      "[Parallel(n_jobs=-1)]: Done   1 out of   1 | elapsed:  6.0min finished\n"
     ]
    },
    {
     "name": "stdout",
     "output_type": "stream",
     "text": [
      "K-Fold #0\n",
      "Mean negativities for all classes: [0.12726783826933802]\n",
      "Mean entropies for all classes: [4.895851638696834e-15]\n",
      "              precision    recall  f1-score   support\n",
      "\n",
      "           0       0.80      0.08      0.15        50\n",
      "           1       0.36      0.96      0.53        27\n",
      "\n",
      "    accuracy                           0.39        77\n",
      "   macro avg       0.58      0.52      0.34        77\n",
      "weighted avg       0.65      0.39      0.28        77\n",
      "\n",
      "-------------------------------------------------------------------------------------------------------------------\n"
     ]
    },
    {
     "name": "stderr",
     "output_type": "stream",
     "text": [
      "[Parallel(n_jobs=-1)]: Using backend LokyBackend with 12 concurrent workers.\n",
      "[Parallel(n_jobs=-1)]: Done   1 out of   1 | elapsed:  6.0min finished\n"
     ]
    },
    {
     "name": "stdout",
     "output_type": "stream",
     "text": [
      "K-Fold #1\n",
      "Mean negativities for all classes: [0.07349764605312632]\n",
      "Mean entropies for all classes: [4.554158109153895e-15]\n",
      "              precision    recall  f1-score   support\n",
      "\n",
      "           0       0.80      0.16      0.27        50\n",
      "           1       0.37      0.93      0.53        27\n",
      "\n",
      "    accuracy                           0.43        77\n",
      "   macro avg       0.59      0.54      0.40        77\n",
      "weighted avg       0.65      0.43      0.36        77\n",
      "\n",
      "-------------------------------------------------------------------------------------------------------------------\n"
     ]
    },
    {
     "name": "stderr",
     "output_type": "stream",
     "text": [
      "[Parallel(n_jobs=-1)]: Using backend LokyBackend with 12 concurrent workers.\n",
      "[Parallel(n_jobs=-1)]: Done   1 out of   1 | elapsed:  6.0min finished\n"
     ]
    },
    {
     "name": "stdout",
     "output_type": "stream",
     "text": [
      "K-Fold #2\n",
      "Mean negativities for all classes: [0.1451253255814124]\n",
      "Mean entropies for all classes: [4.352849098723497e-15]\n",
      "              precision    recall  f1-score   support\n",
      "\n",
      "           0       1.00      0.02      0.04        50\n",
      "           1       0.36      1.00      0.52        27\n",
      "\n",
      "    accuracy                           0.36        77\n",
      "   macro avg       0.68      0.51      0.28        77\n",
      "weighted avg       0.77      0.36      0.21        77\n",
      "\n",
      "-------------------------------------------------------------------------------------------------------------------\n"
     ]
    },
    {
     "name": "stderr",
     "output_type": "stream",
     "text": [
      "[Parallel(n_jobs=-1)]: Using backend LokyBackend with 12 concurrent workers.\n",
      "[Parallel(n_jobs=-1)]: Done   1 out of   1 | elapsed:  6.0min finished\n"
     ]
    },
    {
     "name": "stdout",
     "output_type": "stream",
     "text": [
      "K-Fold #3\n",
      "Mean negativities for all classes: [0.15297876568385613]\n",
      "Mean entropies for all classes: [4.3804274941869926e-15]\n",
      "              precision    recall  f1-score   support\n",
      "\n",
      "           0       0.82      0.18      0.30        50\n",
      "           1       0.38      0.93      0.54        27\n",
      "\n",
      "    accuracy                           0.44        77\n",
      "   macro avg       0.60      0.55      0.42        77\n",
      "weighted avg       0.66      0.44      0.38        77\n",
      "\n",
      "-------------------------------------------------------------------------------------------------------------------\n"
     ]
    },
    {
     "name": "stderr",
     "output_type": "stream",
     "text": [
      "[Parallel(n_jobs=-1)]: Using backend LokyBackend with 12 concurrent workers.\n",
      "[Parallel(n_jobs=-1)]: Done   1 out of   1 | elapsed:  6.0min finished\n"
     ]
    },
    {
     "name": "stdout",
     "output_type": "stream",
     "text": [
      "K-Fold #4\n",
      "Mean negativities for all classes: [0.1322858986537985]\n",
      "Mean entropies for all classes: [4.965479634201488e-15]\n",
      "              precision    recall  f1-score   support\n",
      "\n",
      "           0       1.00      0.02      0.04        50\n",
      "           1       0.36      1.00      0.52        27\n",
      "\n",
      "    accuracy                           0.36        77\n",
      "   macro avg       0.68      0.51      0.28        77\n",
      "weighted avg       0.77      0.36      0.21        77\n",
      "\n",
      "-------------------------------------------------------------------------------------------------------------------\n"
     ]
    },
    {
     "name": "stderr",
     "output_type": "stream",
     "text": [
      "[Parallel(n_jobs=-1)]: Using backend LokyBackend with 12 concurrent workers.\n",
      "[Parallel(n_jobs=-1)]: Done   1 out of   1 | elapsed:  6.0min finished\n"
     ]
    },
    {
     "name": "stdout",
     "output_type": "stream",
     "text": [
      "K-Fold #5\n",
      "Mean negativities for all classes: [0.1416932075401808]\n",
      "Mean entropies for all classes: [4.036141604583563e-15]\n",
      "              precision    recall  f1-score   support\n",
      "\n",
      "           0       1.00      0.10      0.18        50\n",
      "           1       0.38      1.00      0.55        27\n",
      "\n",
      "    accuracy                           0.42        77\n",
      "   macro avg       0.69      0.55      0.36        77\n",
      "weighted avg       0.78      0.42      0.31        77\n",
      "\n",
      "-------------------------------------------------------------------------------------------------------------------\n"
     ]
    },
    {
     "name": "stderr",
     "output_type": "stream",
     "text": [
      "[Parallel(n_jobs=-1)]: Using backend LokyBackend with 12 concurrent workers.\n",
      "[Parallel(n_jobs=-1)]: Done   1 out of   1 | elapsed:  6.0min finished\n"
     ]
    },
    {
     "name": "stdout",
     "output_type": "stream",
     "text": [
      "K-Fold #6\n",
      "Mean negativities for all classes: [0.10722450108787117]\n",
      "Mean entropies for all classes: [3.977858424768409e-15]\n",
      "              precision    recall  f1-score   support\n",
      "\n",
      "           0       1.00      0.10      0.18        50\n",
      "           1       0.38      1.00      0.55        27\n",
      "\n",
      "    accuracy                           0.42        77\n",
      "   macro avg       0.69      0.55      0.36        77\n",
      "weighted avg       0.78      0.42      0.31        77\n",
      "\n",
      "-------------------------------------------------------------------------------------------------------------------\n"
     ]
    },
    {
     "name": "stderr",
     "output_type": "stream",
     "text": [
      "[Parallel(n_jobs=-1)]: Using backend LokyBackend with 12 concurrent workers.\n",
      "[Parallel(n_jobs=-1)]: Done   1 out of   1 | elapsed:  6.0min finished\n"
     ]
    },
    {
     "name": "stdout",
     "output_type": "stream",
     "text": [
      "K-Fold #7\n",
      "Mean negativities for all classes: [0.1519877807032669]\n",
      "Mean entropies for all classes: [4.1042688237579576e-15]\n",
      "              precision    recall  f1-score   support\n",
      "\n",
      "           0       0.86      0.12      0.21        50\n",
      "           1       0.37      0.96      0.54        27\n",
      "\n",
      "    accuracy                           0.42        77\n",
      "   macro avg       0.61      0.54      0.37        77\n",
      "weighted avg       0.69      0.42      0.32        77\n",
      "\n",
      "-------------------------------------------------------------------------------------------------------------------\n"
     ]
    },
    {
     "name": "stderr",
     "output_type": "stream",
     "text": [
      "[Parallel(n_jobs=-1)]: Using backend LokyBackend with 12 concurrent workers.\n",
      "[Parallel(n_jobs=-1)]: Done   1 out of   1 | elapsed:  6.0min finished\n"
     ]
    },
    {
     "name": "stdout",
     "output_type": "stream",
     "text": [
      "K-Fold #8\n",
      "Mean negativities for all classes: [0.11361580288437532]\n",
      "Mean entropies for all classes: [4.28419152254473e-15]\n",
      "              precision    recall  f1-score   support\n",
      "\n",
      "           0       1.00      0.14      0.25        50\n",
      "           1       0.38      1.00      0.55        26\n",
      "\n",
      "    accuracy                           0.43        76\n",
      "   macro avg       0.69      0.57      0.40        76\n",
      "weighted avg       0.79      0.43      0.35        76\n",
      "\n",
      "-------------------------------------------------------------------------------------------------------------------\n"
     ]
    },
    {
     "name": "stderr",
     "output_type": "stream",
     "text": [
      "[Parallel(n_jobs=-1)]: Using backend LokyBackend with 12 concurrent workers.\n",
      "[Parallel(n_jobs=-1)]: Done   1 out of   1 | elapsed:  6.1min finished\n"
     ]
    },
    {
     "name": "stdout",
     "output_type": "stream",
     "text": [
      "K-Fold #9\n",
      "Mean negativities for all classes: [0.12655496855893777]\n",
      "Mean entropies for all classes: [4.6954419727761815e-15]\n",
      "              precision    recall  f1-score   support\n",
      "\n",
      "           0       0.86      0.12      0.21        50\n",
      "           1       0.36      0.96      0.53        26\n",
      "\n",
      "    accuracy                           0.41        76\n",
      "   macro avg       0.61      0.54      0.37        76\n",
      "weighted avg       0.69      0.41      0.32        76\n",
      "\n",
      "-------------------------------------------------------------------------------------------------------------------\n",
      "AVG: Scores = 0.4075871496924129 F1-Scores = 0.35799794373203364 Negativity = [0.12726783826933802, 0.07349764605312632] Entropy = [4.895851638696834e-15, 4.554158109153895e-15]\n"
     ]
    },
    {
     "name": "stderr",
     "output_type": "stream",
     "text": [
      "[Parallel(n_jobs=-1)]: Using backend LokyBackend with 12 concurrent workers.\n",
      "[Parallel(n_jobs=-1)]: Done   1 out of   1 | elapsed:  6.1min finished\n"
     ]
    },
    {
     "name": "stdout",
     "output_type": "stream",
     "text": [
      "K-Fold #0\n",
      "Mean negativities for all classes: [0.14554519065567095]\n",
      "Mean entropies for all classes: [4.4992271236011485e-15]\n",
      "              precision    recall  f1-score   support\n",
      "\n",
      "           0       1.00      0.08      0.15        50\n",
      "           1       0.37      1.00      0.54        27\n",
      "\n",
      "    accuracy                           0.40        77\n",
      "   macro avg       0.68      0.54      0.34        77\n",
      "weighted avg       0.78      0.40      0.29        77\n",
      "\n",
      "-------------------------------------------------------------------------------------------------------------------\n"
     ]
    },
    {
     "name": "stderr",
     "output_type": "stream",
     "text": [
      "[Parallel(n_jobs=-1)]: Using backend LokyBackend with 12 concurrent workers.\n",
      "[Parallel(n_jobs=-1)]: Done   1 out of   1 | elapsed:  6.1min finished\n"
     ]
    },
    {
     "name": "stdout",
     "output_type": "stream",
     "text": [
      "K-Fold #1\n",
      "Mean negativities for all classes: [0.01685553735036743]\n",
      "Mean entropies for all classes: [3.7183944717161796e-15]\n",
      "              precision    recall  f1-score   support\n",
      "\n",
      "           0       0.83      0.10      0.18        50\n",
      "           1       0.37      0.96      0.53        27\n",
      "\n",
      "    accuracy                           0.40        77\n",
      "   macro avg       0.60      0.53      0.35        77\n",
      "weighted avg       0.67      0.40      0.30        77\n",
      "\n",
      "-------------------------------------------------------------------------------------------------------------------\n"
     ]
    },
    {
     "name": "stderr",
     "output_type": "stream",
     "text": [
      "[Parallel(n_jobs=-1)]: Using backend LokyBackend with 12 concurrent workers.\n",
      "[Parallel(n_jobs=-1)]: Done   1 out of   1 | elapsed:  6.1min finished\n"
     ]
    },
    {
     "name": "stdout",
     "output_type": "stream",
     "text": [
      "K-Fold #2\n",
      "Mean negativities for all classes: [0.12665492414347426]\n",
      "Mean entropies for all classes: [4.4279253199648115e-15]\n",
      "              precision    recall  f1-score   support\n",
      "\n",
      "           0       1.00      0.10      0.18        50\n",
      "           1       0.38      1.00      0.55        27\n",
      "\n",
      "    accuracy                           0.42        77\n",
      "   macro avg       0.69      0.55      0.36        77\n",
      "weighted avg       0.78      0.42      0.31        77\n",
      "\n",
      "-------------------------------------------------------------------------------------------------------------------\n"
     ]
    },
    {
     "name": "stderr",
     "output_type": "stream",
     "text": [
      "[Parallel(n_jobs=-1)]: Using backend LokyBackend with 12 concurrent workers.\n",
      "[Parallel(n_jobs=-1)]: Done   1 out of   1 | elapsed:  6.1min finished\n"
     ]
    },
    {
     "name": "stdout",
     "output_type": "stream",
     "text": [
      "K-Fold #3\n",
      "Mean negativities for all classes: [0.07046794819441624]\n",
      "Mean entropies for all classes: [4.071002112030238e-15]\n",
      "              precision    recall  f1-score   support\n",
      "\n",
      "           0       1.00      0.06      0.11        50\n",
      "           1       0.36      1.00      0.53        27\n",
      "\n",
      "    accuracy                           0.39        77\n",
      "   macro avg       0.68      0.53      0.32        77\n",
      "weighted avg       0.78      0.39      0.26        77\n",
      "\n",
      "-------------------------------------------------------------------------------------------------------------------\n"
     ]
    },
    {
     "name": "stderr",
     "output_type": "stream",
     "text": [
      "[Parallel(n_jobs=-1)]: Using backend LokyBackend with 12 concurrent workers.\n",
      "[Parallel(n_jobs=-1)]: Done   1 out of   1 | elapsed:  6.1min finished\n"
     ]
    },
    {
     "name": "stdout",
     "output_type": "stream",
     "text": [
      "K-Fold #4\n",
      "Mean negativities for all classes: [0.12971966179583783]\n",
      "Mean entropies for all classes: [4.501377725302271e-15]\n",
      "              precision    recall  f1-score   support\n",
      "\n",
      "           0       1.00      0.12      0.21        50\n",
      "           1       0.38      1.00      0.55        27\n",
      "\n",
      "    accuracy                           0.43        77\n",
      "   macro avg       0.69      0.56      0.38        77\n",
      "weighted avg       0.78      0.43      0.33        77\n",
      "\n",
      "-------------------------------------------------------------------------------------------------------------------\n"
     ]
    },
    {
     "name": "stderr",
     "output_type": "stream",
     "text": [
      "[Parallel(n_jobs=-1)]: Using backend LokyBackend with 12 concurrent workers.\n",
      "[Parallel(n_jobs=-1)]: Done   1 out of   1 | elapsed:  6.1min finished\n"
     ]
    },
    {
     "name": "stdout",
     "output_type": "stream",
     "text": [
      "K-Fold #5\n",
      "Mean negativities for all classes: [0.14846120132971835]\n",
      "Mean entropies for all classes: [4.267206909013449e-15]\n",
      "              precision    recall  f1-score   support\n",
      "\n",
      "           0       1.00      0.08      0.15        50\n",
      "           1       0.37      1.00      0.54        27\n",
      "\n",
      "    accuracy                           0.40        77\n",
      "   macro avg       0.68      0.54      0.34        77\n",
      "weighted avg       0.78      0.40      0.29        77\n",
      "\n",
      "-------------------------------------------------------------------------------------------------------------------\n"
     ]
    },
    {
     "name": "stderr",
     "output_type": "stream",
     "text": [
      "[Parallel(n_jobs=-1)]: Using backend LokyBackend with 12 concurrent workers.\n",
      "[Parallel(n_jobs=-1)]: Done   1 out of   1 | elapsed:  6.0min finished\n"
     ]
    },
    {
     "name": "stdout",
     "output_type": "stream",
     "text": [
      "K-Fold #6\n",
      "Mean negativities for all classes: [0.1349101410129957]\n",
      "Mean entropies for all classes: [3.730675258073278e-15]\n",
      "              precision    recall  f1-score   support\n",
      "\n",
      "           0       0.89      0.16      0.27        50\n",
      "           1       0.38      0.96      0.55        27\n",
      "\n",
      "    accuracy                           0.44        77\n",
      "   macro avg       0.64      0.56      0.41        77\n",
      "weighted avg       0.71      0.44      0.37        77\n",
      "\n",
      "-------------------------------------------------------------------------------------------------------------------\n"
     ]
    },
    {
     "name": "stderr",
     "output_type": "stream",
     "text": [
      "[Parallel(n_jobs=-1)]: Using backend LokyBackend with 12 concurrent workers.\n",
      "[Parallel(n_jobs=-1)]: Done   1 out of   1 | elapsed:  6.0min finished\n"
     ]
    },
    {
     "name": "stdout",
     "output_type": "stream",
     "text": [
      "K-Fold #7\n",
      "Mean negativities for all classes: [0.11252282325832769]\n",
      "Mean entropies for all classes: [4.485142019828801e-15]\n",
      "              precision    recall  f1-score   support\n",
      "\n",
      "           0       0.80      0.08      0.15        50\n",
      "           1       0.36      0.96      0.53        27\n",
      "\n",
      "    accuracy                           0.39        77\n",
      "   macro avg       0.58      0.52      0.34        77\n",
      "weighted avg       0.65      0.39      0.28        77\n",
      "\n",
      "-------------------------------------------------------------------------------------------------------------------\n"
     ]
    },
    {
     "name": "stderr",
     "output_type": "stream",
     "text": [
      "[Parallel(n_jobs=-1)]: Using backend LokyBackend with 12 concurrent workers.\n",
      "[Parallel(n_jobs=-1)]: Done   1 out of   1 | elapsed:  6.0min finished\n"
     ]
    },
    {
     "name": "stdout",
     "output_type": "stream",
     "text": [
      "K-Fold #8\n",
      "Mean negativities for all classes: [0.0268663227610894]\n",
      "Mean entropies for all classes: [4.89112849388862e-15]\n",
      "              precision    recall  f1-score   support\n",
      "\n",
      "           0       1.00      0.08      0.15        50\n",
      "           1       0.36      1.00      0.53        26\n",
      "\n",
      "    accuracy                           0.39        76\n",
      "   macro avg       0.68      0.54      0.34        76\n",
      "weighted avg       0.78      0.39      0.28        76\n",
      "\n",
      "-------------------------------------------------------------------------------------------------------------------\n"
     ]
    },
    {
     "name": "stderr",
     "output_type": "stream",
     "text": [
      "[Parallel(n_jobs=-1)]: Using backend LokyBackend with 12 concurrent workers.\n",
      "[Parallel(n_jobs=-1)]: Done   1 out of   1 | elapsed:  6.0min finished\n"
     ]
    },
    {
     "name": "stdout",
     "output_type": "stream",
     "text": [
      "K-Fold #9\n",
      "Mean negativities for all classes: [0.14106272360035135]\n",
      "Mean entropies for all classes: [4.568131516194112e-15]\n",
      "              precision    recall  f1-score   support\n",
      "\n",
      "           0       1.00      0.10      0.18        50\n",
      "           1       0.37      1.00      0.54        26\n",
      "\n",
      "    accuracy                           0.41        76\n",
      "   macro avg       0.68      0.55      0.36        76\n",
      "weighted avg       0.78      0.41      0.30        76\n",
      "\n",
      "-------------------------------------------------------------------------------------------------------------------\n",
      "AVG: Scores = 0.40753588516746414 F1-Scores = 0.3555921406766249 Negativity = [0.14554519065567095, 0.01685553735036743] Entropy = [4.4992271236011485e-15, 3.7183944717161796e-15]\n"
     ]
    },
    {
     "name": "stderr",
     "output_type": "stream",
     "text": [
      "[Parallel(n_jobs=-1)]: Using backend LokyBackend with 12 concurrent workers.\n",
      "[Parallel(n_jobs=-1)]: Done   1 out of   1 | elapsed:  5.9min finished\n"
     ]
    },
    {
     "name": "stdout",
     "output_type": "stream",
     "text": [
      "K-Fold #0\n",
      "Mean negativities for all classes: [0.1290095145071137]\n",
      "Mean entropies for all classes: [4.2762366917902654e-15]\n",
      "              precision    recall  f1-score   support\n",
      "\n",
      "           0       0.00      0.00      0.00        50\n",
      "           1       0.35      1.00      0.52        27\n",
      "\n",
      "    accuracy                           0.35        77\n",
      "   macro avg       0.18      0.50      0.26        77\n",
      "weighted avg       0.12      0.35      0.18        77\n",
      "\n",
      "-------------------------------------------------------------------------------------------------------------------\n"
     ]
    },
    {
     "name": "stderr",
     "output_type": "stream",
     "text": [
      "c:\\ProgramData\\Anaconda3\\lib\\site-packages\\sklearn\\metrics\\_classification.py:1344: UndefinedMetricWarning: Precision and F-score are ill-defined and being set to 0.0 in labels with no predicted samples. Use `zero_division` parameter to control this behavior.\n",
      "  _warn_prf(average, modifier, msg_start, len(result))\n",
      "c:\\ProgramData\\Anaconda3\\lib\\site-packages\\sklearn\\metrics\\_classification.py:1344: UndefinedMetricWarning: Precision and F-score are ill-defined and being set to 0.0 in labels with no predicted samples. Use `zero_division` parameter to control this behavior.\n",
      "  _warn_prf(average, modifier, msg_start, len(result))\n",
      "c:\\ProgramData\\Anaconda3\\lib\\site-packages\\sklearn\\metrics\\_classification.py:1344: UndefinedMetricWarning: Precision and F-score are ill-defined and being set to 0.0 in labels with no predicted samples. Use `zero_division` parameter to control this behavior.\n",
      "  _warn_prf(average, modifier, msg_start, len(result))\n",
      "[Parallel(n_jobs=-1)]: Using backend LokyBackend with 12 concurrent workers.\n",
      "[Parallel(n_jobs=-1)]: Done   1 out of   1 | elapsed:  6.0min finished\n"
     ]
    },
    {
     "name": "stdout",
     "output_type": "stream",
     "text": [
      "K-Fold #1\n",
      "Mean negativities for all classes: [0.13561874641337976]\n",
      "Mean entropies for all classes: [4.189678842167924e-15]\n",
      "              precision    recall  f1-score   support\n",
      "\n",
      "           0       0.88      0.14      0.24        50\n",
      "           1       0.38      0.96      0.54        27\n",
      "\n",
      "    accuracy                           0.43        77\n",
      "   macro avg       0.63      0.55      0.39        77\n",
      "weighted avg       0.70      0.43      0.35        77\n",
      "\n",
      "-------------------------------------------------------------------------------------------------------------------\n"
     ]
    },
    {
     "name": "stderr",
     "output_type": "stream",
     "text": [
      "[Parallel(n_jobs=-1)]: Using backend LokyBackend with 12 concurrent workers.\n",
      "[Parallel(n_jobs=-1)]: Done   1 out of   1 | elapsed:  6.0min finished\n"
     ]
    },
    {
     "name": "stdout",
     "output_type": "stream",
     "text": [
      "K-Fold #2\n",
      "Mean negativities for all classes: [0.1400587501084378]\n",
      "Mean entropies for all classes: [4.751143580294313e-15]\n",
      "              precision    recall  f1-score   support\n",
      "\n",
      "           0       1.00      0.02      0.04        50\n",
      "           1       0.36      1.00      0.52        27\n",
      "\n",
      "    accuracy                           0.36        77\n",
      "   macro avg       0.68      0.51      0.28        77\n",
      "weighted avg       0.77      0.36      0.21        77\n",
      "\n",
      "-------------------------------------------------------------------------------------------------------------------\n"
     ]
    },
    {
     "name": "stderr",
     "output_type": "stream",
     "text": [
      "[Parallel(n_jobs=-1)]: Using backend LokyBackend with 12 concurrent workers.\n",
      "[Parallel(n_jobs=-1)]: Done   1 out of   1 | elapsed:  6.0min finished\n"
     ]
    },
    {
     "name": "stdout",
     "output_type": "stream",
     "text": [
      "K-Fold #3\n",
      "Mean negativities for all classes: [0.14701155204034794]\n",
      "Mean entropies for all classes: [4.586915730619951e-15]\n",
      "              precision    recall  f1-score   support\n",
      "\n",
      "           0       1.00      0.10      0.18        50\n",
      "           1       0.38      1.00      0.55        27\n",
      "\n",
      "    accuracy                           0.42        77\n",
      "   macro avg       0.69      0.55      0.36        77\n",
      "weighted avg       0.78      0.42      0.31        77\n",
      "\n",
      "-------------------------------------------------------------------------------------------------------------------\n"
     ]
    },
    {
     "name": "stderr",
     "output_type": "stream",
     "text": [
      "[Parallel(n_jobs=-1)]: Using backend LokyBackend with 12 concurrent workers.\n",
      "[Parallel(n_jobs=-1)]: Done   1 out of   1 | elapsed:  6.0min finished\n"
     ]
    },
    {
     "name": "stdout",
     "output_type": "stream",
     "text": [
      "K-Fold #4\n",
      "Mean negativities for all classes: [0.12941165301245208]\n",
      "Mean entropies for all classes: [4.011862600208568e-15]\n",
      "              precision    recall  f1-score   support\n",
      "\n",
      "           0       1.00      0.06      0.11        50\n",
      "           1       0.36      1.00      0.53        27\n",
      "\n",
      "    accuracy                           0.39        77\n",
      "   macro avg       0.68      0.53      0.32        77\n",
      "weighted avg       0.78      0.39      0.26        77\n",
      "\n",
      "-------------------------------------------------------------------------------------------------------------------\n"
     ]
    },
    {
     "name": "stderr",
     "output_type": "stream",
     "text": [
      "[Parallel(n_jobs=-1)]: Using backend LokyBackend with 12 concurrent workers.\n",
      "[Parallel(n_jobs=-1)]: Done   1 out of   1 | elapsed:  6.0min finished\n"
     ]
    },
    {
     "name": "stdout",
     "output_type": "stream",
     "text": [
      "K-Fold #5\n",
      "Mean negativities for all classes: [0.15539323047996578]\n",
      "Mean entropies for all classes: [4.8161395522795874e-15]\n",
      "              precision    recall  f1-score   support\n",
      "\n",
      "           0       0.71      0.10      0.18        50\n",
      "           1       0.36      0.93      0.52        27\n",
      "\n",
      "    accuracy                           0.39        77\n",
      "   macro avg       0.54      0.51      0.35        77\n",
      "weighted avg       0.59      0.39      0.29        77\n",
      "\n",
      "-------------------------------------------------------------------------------------------------------------------\n"
     ]
    },
    {
     "name": "stderr",
     "output_type": "stream",
     "text": [
      "[Parallel(n_jobs=-1)]: Using backend LokyBackend with 12 concurrent workers.\n",
      "[Parallel(n_jobs=-1)]: Done   1 out of   1 | elapsed:  6.0min finished\n"
     ]
    },
    {
     "name": "stdout",
     "output_type": "stream",
     "text": [
      "K-Fold #6\n",
      "Mean negativities for all classes: [0.14626016026480024]\n",
      "Mean entropies for all classes: [3.621912528655648e-15]\n",
      "              precision    recall  f1-score   support\n",
      "\n",
      "           0       1.00      0.06      0.11        50\n",
      "           1       0.36      1.00      0.53        27\n",
      "\n",
      "    accuracy                           0.39        77\n",
      "   macro avg       0.68      0.53      0.32        77\n",
      "weighted avg       0.78      0.39      0.26        77\n",
      "\n",
      "-------------------------------------------------------------------------------------------------------------------\n"
     ]
    },
    {
     "name": "stderr",
     "output_type": "stream",
     "text": [
      "[Parallel(n_jobs=-1)]: Using backend LokyBackend with 12 concurrent workers.\n",
      "[Parallel(n_jobs=-1)]: Done   1 out of   1 | elapsed:  6.0min finished\n"
     ]
    },
    {
     "name": "stdout",
     "output_type": "stream",
     "text": [
      "K-Fold #7\n",
      "Mean negativities for all classes: [0.1458149086477519]\n",
      "Mean entropies for all classes: [3.941122997446786e-15]\n",
      "              precision    recall  f1-score   support\n",
      "\n",
      "           0       1.00      0.04      0.08        50\n",
      "           1       0.36      1.00      0.53        27\n",
      "\n",
      "    accuracy                           0.38        77\n",
      "   macro avg       0.68      0.52      0.30        77\n",
      "weighted avg       0.78      0.38      0.24        77\n",
      "\n",
      "-------------------------------------------------------------------------------------------------------------------\n"
     ]
    },
    {
     "name": "stderr",
     "output_type": "stream",
     "text": [
      "[Parallel(n_jobs=-1)]: Using backend LokyBackend with 12 concurrent workers.\n",
      "[Parallel(n_jobs=-1)]: Done   1 out of   1 | elapsed:  6.0min finished\n"
     ]
    },
    {
     "name": "stdout",
     "output_type": "stream",
     "text": [
      "K-Fold #8\n",
      "Mean negativities for all classes: [0.1316089247431705]\n",
      "Mean entropies for all classes: [4.675249637101914e-15]\n",
      "              precision    recall  f1-score   support\n",
      "\n",
      "           0       1.00      0.14      0.25        50\n",
      "           1       0.38      1.00      0.55        26\n",
      "\n",
      "    accuracy                           0.43        76\n",
      "   macro avg       0.69      0.57      0.40        76\n",
      "weighted avg       0.79      0.43      0.35        76\n",
      "\n",
      "-------------------------------------------------------------------------------------------------------------------\n"
     ]
    },
    {
     "name": "stderr",
     "output_type": "stream",
     "text": [
      "[Parallel(n_jobs=-1)]: Using backend LokyBackend with 12 concurrent workers.\n",
      "[Parallel(n_jobs=-1)]: Done   1 out of   1 | elapsed:  6.0min finished\n"
     ]
    },
    {
     "name": "stdout",
     "output_type": "stream",
     "text": [
      "K-Fold #9\n",
      "Mean negativities for all classes: [0.14896785691510972]\n",
      "Mean entropies for all classes: [5.0180021373994335e-15]\n",
      "              precision    recall  f1-score   support\n",
      "\n",
      "           0       1.00      0.14      0.25        50\n",
      "           1       0.38      1.00      0.55        26\n",
      "\n",
      "    accuracy                           0.43        76\n",
      "   macro avg       0.69      0.57      0.40        76\n",
      "weighted avg       0.79      0.43      0.35        76\n",
      "\n",
      "-------------------------------------------------------------------------------------------------------------------\n",
      "AVG: Scores = 0.39723171565276827 F1-Scores = 0.3385980648704524 Negativity = [0.1290095145071137, 0.13561874641337976] Entropy = [4.2762366917902654e-15, 4.189678842167924e-15]\n"
     ]
    },
    {
     "name": "stderr",
     "output_type": "stream",
     "text": [
      "[Parallel(n_jobs=-1)]: Using backend LokyBackend with 12 concurrent workers.\n",
      "[Parallel(n_jobs=-1)]: Done   1 out of   1 | elapsed:  6.0min finished\n"
     ]
    },
    {
     "name": "stdout",
     "output_type": "stream",
     "text": [
      "K-Fold #0\n",
      "Mean negativities for all classes: [0.1404980372881531]\n",
      "Mean entropies for all classes: [4.514154119989079e-15]\n",
      "              precision    recall  f1-score   support\n",
      "\n",
      "           0       0.75      0.06      0.11        50\n",
      "           1       0.36      0.96      0.52        27\n",
      "\n",
      "    accuracy                           0.38        77\n",
      "   macro avg       0.55      0.51      0.32        77\n",
      "weighted avg       0.61      0.38      0.25        77\n",
      "\n",
      "-------------------------------------------------------------------------------------------------------------------\n"
     ]
    },
    {
     "name": "stderr",
     "output_type": "stream",
     "text": [
      "[Parallel(n_jobs=-1)]: Using backend LokyBackend with 12 concurrent workers.\n",
      "[Parallel(n_jobs=-1)]: Done   1 out of   1 | elapsed:  6.0min finished\n",
      "[Parallel(n_jobs=-1)]: Using backend LokyBackend with 12 concurrent workers.\n"
     ]
    },
    {
     "name": "stdout",
     "output_type": "stream",
     "text": [
      "K-Fold #1\n",
      "Mean negativities for all classes: [0.13588748863544553]\n",
      "Mean entropies for all classes: [4.1977063291816625e-15]\n",
      "              precision    recall  f1-score   support\n",
      "\n",
      "           0       0.57      0.08      0.14        50\n",
      "           1       0.34      0.89      0.49        27\n",
      "\n",
      "    accuracy                           0.36        77\n",
      "   macro avg       0.46      0.48      0.32        77\n",
      "weighted avg       0.49      0.36      0.26        77\n",
      "\n",
      "-------------------------------------------------------------------------------------------------------------------\n"
     ]
    },
    {
     "name": "stderr",
     "output_type": "stream",
     "text": [
      "[Parallel(n_jobs=-1)]: Done   1 out of   1 | elapsed:  6.0min finished\n"
     ]
    },
    {
     "name": "stdout",
     "output_type": "stream",
     "text": [
      "K-Fold #2\n",
      "Mean negativities for all classes: [0.017933490619437865]\n",
      "Mean entropies for all classes: [4.025446134471991e-15]\n",
      "              precision    recall  f1-score   support\n",
      "\n",
      "           0       1.00      0.12      0.21        50\n",
      "           1       0.38      1.00      0.55        27\n",
      "\n",
      "    accuracy                           0.43        77\n",
      "   macro avg       0.69      0.56      0.38        77\n",
      "weighted avg       0.78      0.43      0.33        77\n",
      "\n",
      "-------------------------------------------------------------------------------------------------------------------\n"
     ]
    },
    {
     "name": "stderr",
     "output_type": "stream",
     "text": [
      "[Parallel(n_jobs=-1)]: Using backend LokyBackend with 12 concurrent workers.\n",
      "[Parallel(n_jobs=-1)]: Done   1 out of   1 | elapsed:  6.0min finished\n"
     ]
    },
    {
     "name": "stdout",
     "output_type": "stream",
     "text": [
      "K-Fold #3\n",
      "Mean negativities for all classes: [0.13486617758066885]\n",
      "Mean entropies for all classes: [4.422129730471382e-15]\n",
      "              precision    recall  f1-score   support\n",
      "\n",
      "           0       1.00      0.04      0.08        50\n",
      "           1       0.36      1.00      0.53        27\n",
      "\n",
      "    accuracy                           0.38        77\n",
      "   macro avg       0.68      0.52      0.30        77\n",
      "weighted avg       0.78      0.38      0.24        77\n",
      "\n",
      "-------------------------------------------------------------------------------------------------------------------\n"
     ]
    },
    {
     "name": "stderr",
     "output_type": "stream",
     "text": [
      "[Parallel(n_jobs=-1)]: Using backend LokyBackend with 12 concurrent workers.\n",
      "[Parallel(n_jobs=-1)]: Done   1 out of   1 | elapsed:  5.9min finished\n"
     ]
    },
    {
     "name": "stdout",
     "output_type": "stream",
     "text": [
      "K-Fold #4\n",
      "Mean negativities for all classes: [0.14389042809071562]\n",
      "Mean entropies for all classes: [4.098107389106595e-15]\n",
      "              precision    recall  f1-score   support\n",
      "\n",
      "           0       0.75      0.12      0.21        50\n",
      "           1       0.36      0.93      0.52        27\n",
      "\n",
      "    accuracy                           0.40        77\n",
      "   macro avg       0.56      0.52      0.36        77\n",
      "weighted avg       0.61      0.40      0.32        77\n",
      "\n",
      "-------------------------------------------------------------------------------------------------------------------\n"
     ]
    },
    {
     "name": "stderr",
     "output_type": "stream",
     "text": [
      "[Parallel(n_jobs=-1)]: Using backend LokyBackend with 12 concurrent workers.\n",
      "[Parallel(n_jobs=-1)]: Done   1 out of   1 | elapsed:  5.9min finished\n"
     ]
    },
    {
     "name": "stdout",
     "output_type": "stream",
     "text": [
      "K-Fold #5\n",
      "Mean negativities for all classes: [0.13645587823012423]\n",
      "Mean entropies for all classes: [4.860320137448006e-15]\n",
      "              precision    recall  f1-score   support\n",
      "\n",
      "           0       1.00      0.08      0.15        50\n",
      "           1       0.37      1.00      0.54        27\n",
      "\n",
      "    accuracy                           0.40        77\n",
      "   macro avg       0.68      0.54      0.34        77\n",
      "weighted avg       0.78      0.40      0.29        77\n",
      "\n",
      "-------------------------------------------------------------------------------------------------------------------\n"
     ]
    },
    {
     "name": "stderr",
     "output_type": "stream",
     "text": [
      "[Parallel(n_jobs=-1)]: Using backend LokyBackend with 12 concurrent workers.\n",
      "[Parallel(n_jobs=-1)]: Done   1 out of   1 | elapsed:  6.2min finished\n"
     ]
    },
    {
     "name": "stdout",
     "output_type": "stream",
     "text": [
      "K-Fold #6\n",
      "Mean negativities for all classes: [0.3307983497069552]\n",
      "Mean entropies for all classes: [3.9705963496589424e-15]\n",
      "              precision    recall  f1-score   support\n",
      "\n",
      "           0       0.62      0.64      0.63        50\n",
      "           1       0.28      0.26      0.27        27\n",
      "\n",
      "    accuracy                           0.51        77\n",
      "   macro avg       0.45      0.45      0.45        77\n",
      "weighted avg       0.50      0.51      0.50        77\n",
      "\n",
      "-------------------------------------------------------------------------------------------------------------------\n"
     ]
    },
    {
     "name": "stderr",
     "output_type": "stream",
     "text": [
      "[Parallel(n_jobs=-1)]: Using backend LokyBackend with 12 concurrent workers.\n",
      "[Parallel(n_jobs=-1)]: Done   1 out of   1 | elapsed:  6.2min finished\n"
     ]
    },
    {
     "name": "stdout",
     "output_type": "stream",
     "text": [
      "K-Fold #7\n",
      "Mean negativities for all classes: [0.15613469534867636]\n",
      "Mean entropies for all classes: [3.941293728729991e-15]\n",
      "              precision    recall  f1-score   support\n",
      "\n",
      "           0       0.86      0.12      0.21        50\n",
      "           1       0.37      0.96      0.54        27\n",
      "\n",
      "    accuracy                           0.42        77\n",
      "   macro avg       0.61      0.54      0.37        77\n",
      "weighted avg       0.69      0.42      0.32        77\n",
      "\n",
      "-------------------------------------------------------------------------------------------------------------------\n"
     ]
    },
    {
     "name": "stderr",
     "output_type": "stream",
     "text": [
      "[Parallel(n_jobs=-1)]: Using backend LokyBackend with 12 concurrent workers.\n",
      "[Parallel(n_jobs=-1)]: Done   1 out of   1 | elapsed:  6.0min finished\n"
     ]
    },
    {
     "name": "stdout",
     "output_type": "stream",
     "text": [
      "K-Fold #8\n",
      "Mean negativities for all classes: [0.1477754824698941]\n",
      "Mean entropies for all classes: [4.439497821096188e-15]\n",
      "              precision    recall  f1-score   support\n",
      "\n",
      "           0       0.80      0.08      0.15        50\n",
      "           1       0.35      0.96      0.52        26\n",
      "\n",
      "    accuracy                           0.38        76\n",
      "   macro avg       0.58      0.52      0.33        76\n",
      "weighted avg       0.65      0.38      0.27        76\n",
      "\n",
      "-------------------------------------------------------------------------------------------------------------------\n"
     ]
    },
    {
     "name": "stderr",
     "output_type": "stream",
     "text": [
      "[Parallel(n_jobs=-1)]: Using backend LokyBackend with 12 concurrent workers.\n",
      "[Parallel(n_jobs=-1)]: Done   1 out of   1 | elapsed:  6.0min finished\n"
     ]
    },
    {
     "name": "stdout",
     "output_type": "stream",
     "text": [
      "K-Fold #9\n",
      "Mean negativities for all classes: [0.1415943854988055]\n",
      "Mean entropies for all classes: [4.367654261348234e-15]\n",
      "              precision    recall  f1-score   support\n",
      "\n",
      "           0       1.00      0.06      0.11        50\n",
      "           1       0.36      1.00      0.53        26\n",
      "\n",
      "    accuracy                           0.38        76\n",
      "   macro avg       0.68      0.53      0.32        76\n",
      "weighted avg       0.78      0.38      0.25        76\n",
      "\n",
      "-------------------------------------------------------------------------------------------------------------------\n",
      "AVG: Scores = 0.4035885167464115 F1-Scores = 0.34982477107271265 Negativity = [0.1404980372881531, 0.13588748863544553] Entropy = [4.514154119989079e-15, 4.1977063291816625e-15]\n"
     ]
    },
    {
     "name": "stderr",
     "output_type": "stream",
     "text": [
      "[Parallel(n_jobs=-1)]: Using backend LokyBackend with 12 concurrent workers.\n",
      "[Parallel(n_jobs=-1)]: Done   1 out of   1 | elapsed:  6.0min finished\n"
     ]
    },
    {
     "name": "stdout",
     "output_type": "stream",
     "text": [
      "K-Fold #0\n",
      "Mean negativities for all classes: [0.017532152147788308]\n",
      "Mean entropies for all classes: [4.703864016761656e-15]\n",
      "              precision    recall  f1-score   support\n",
      "\n",
      "           0       1.00      0.16      0.28        50\n",
      "           1       0.39      1.00      0.56        27\n",
      "\n",
      "    accuracy                           0.45        77\n",
      "   macro avg       0.70      0.58      0.42        77\n",
      "weighted avg       0.79      0.45      0.38        77\n",
      "\n",
      "-------------------------------------------------------------------------------------------------------------------\n"
     ]
    },
    {
     "name": "stderr",
     "output_type": "stream",
     "text": [
      "[Parallel(n_jobs=-1)]: Using backend LokyBackend with 12 concurrent workers.\n",
      "[Parallel(n_jobs=-1)]: Done   1 out of   1 | elapsed:  6.1min finished\n"
     ]
    },
    {
     "name": "stdout",
     "output_type": "stream",
     "text": [
      "K-Fold #1\n",
      "Mean negativities for all classes: [0.1527763339938836]\n",
      "Mean entropies for all classes: [4.775778007539914e-15]\n",
      "              precision    recall  f1-score   support\n",
      "\n",
      "           0       1.00      0.14      0.25        50\n",
      "           1       0.39      1.00      0.56        27\n",
      "\n",
      "    accuracy                           0.44        77\n",
      "   macro avg       0.69      0.57      0.40        77\n",
      "weighted avg       0.78      0.44      0.35        77\n",
      "\n",
      "-------------------------------------------------------------------------------------------------------------------\n"
     ]
    },
    {
     "name": "stderr",
     "output_type": "stream",
     "text": [
      "[Parallel(n_jobs=-1)]: Using backend LokyBackend with 12 concurrent workers.\n",
      "[Parallel(n_jobs=-1)]: Done   1 out of   1 | elapsed:  6.0min finished\n"
     ]
    },
    {
     "name": "stdout",
     "output_type": "stream",
     "text": [
      "K-Fold #2\n",
      "Mean negativities for all classes: [0.13380249111919992]\n",
      "Mean entropies for all classes: [4.696058271371035e-15]\n",
      "              precision    recall  f1-score   support\n",
      "\n",
      "           0       1.00      0.12      0.21        50\n",
      "           1       0.38      1.00      0.55        27\n",
      "\n",
      "    accuracy                           0.43        77\n",
      "   macro avg       0.69      0.56      0.38        77\n",
      "weighted avg       0.78      0.43      0.33        77\n",
      "\n",
      "-------------------------------------------------------------------------------------------------------------------\n"
     ]
    },
    {
     "name": "stderr",
     "output_type": "stream",
     "text": [
      "[Parallel(n_jobs=-1)]: Using backend LokyBackend with 12 concurrent workers.\n",
      "[Parallel(n_jobs=-1)]: Done   1 out of   1 | elapsed:  6.0min finished\n"
     ]
    },
    {
     "name": "stdout",
     "output_type": "stream",
     "text": [
      "K-Fold #3\n",
      "Mean negativities for all classes: [0.1460121275215654]\n",
      "Mean entropies for all classes: [4.811015951914433e-15]\n",
      "              precision    recall  f1-score   support\n",
      "\n",
      "           0       1.00      0.02      0.04        50\n",
      "           1       0.36      1.00      0.52        27\n",
      "\n",
      "    accuracy                           0.36        77\n",
      "   macro avg       0.68      0.51      0.28        77\n",
      "weighted avg       0.77      0.36      0.21        77\n",
      "\n",
      "-------------------------------------------------------------------------------------------------------------------\n"
     ]
    },
    {
     "name": "stderr",
     "output_type": "stream",
     "text": [
      "[Parallel(n_jobs=-1)]: Using backend LokyBackend with 12 concurrent workers.\n",
      "[Parallel(n_jobs=-1)]: Done   1 out of   1 | elapsed:  6.0min finished\n"
     ]
    },
    {
     "name": "stdout",
     "output_type": "stream",
     "text": [
      "K-Fold #4\n",
      "Mean negativities for all classes: [0.1417542398216172]\n",
      "Mean entropies for all classes: [4.244351727842864e-15]\n",
      "              precision    recall  f1-score   support\n",
      "\n",
      "           0       1.00      0.06      0.11        50\n",
      "           1       0.36      1.00      0.53        27\n",
      "\n",
      "    accuracy                           0.39        77\n",
      "   macro avg       0.68      0.53      0.32        77\n",
      "weighted avg       0.78      0.39      0.26        77\n",
      "\n",
      "-------------------------------------------------------------------------------------------------------------------\n"
     ]
    },
    {
     "name": "stderr",
     "output_type": "stream",
     "text": [
      "[Parallel(n_jobs=-1)]: Using backend LokyBackend with 12 concurrent workers.\n",
      "[Parallel(n_jobs=-1)]: Done   1 out of   1 | elapsed:  6.0min finished\n"
     ]
    },
    {
     "name": "stdout",
     "output_type": "stream",
     "text": [
      "K-Fold #5\n",
      "Mean negativities for all classes: [0.018253698491533354]\n",
      "Mean entropies for all classes: [4.4912866403374655e-15]\n",
      "              precision    recall  f1-score   support\n",
      "\n",
      "           0       0.71      0.10      0.18        50\n",
      "           1       0.36      0.93      0.52        27\n",
      "\n",
      "    accuracy                           0.39        77\n",
      "   macro avg       0.54      0.51      0.35        77\n",
      "weighted avg       0.59      0.39      0.29        77\n",
      "\n",
      "-------------------------------------------------------------------------------------------------------------------\n"
     ]
    },
    {
     "name": "stderr",
     "output_type": "stream",
     "text": [
      "[Parallel(n_jobs=-1)]: Using backend LokyBackend with 12 concurrent workers.\n",
      "[Parallel(n_jobs=-1)]: Done   1 out of   1 | elapsed:  6.1min finished\n"
     ]
    },
    {
     "name": "stdout",
     "output_type": "stream",
     "text": [
      "K-Fold #6\n",
      "Mean negativities for all classes: [0.15473143739306866]\n",
      "Mean entropies for all classes: [4.63848731265124e-15]\n",
      "              precision    recall  f1-score   support\n",
      "\n",
      "           0       0.75      0.12      0.21        50\n",
      "           1       0.36      0.93      0.52        27\n",
      "\n",
      "    accuracy                           0.40        77\n",
      "   macro avg       0.56      0.52      0.36        77\n",
      "weighted avg       0.61      0.40      0.32        77\n",
      "\n",
      "-------------------------------------------------------------------------------------------------------------------\n"
     ]
    },
    {
     "name": "stderr",
     "output_type": "stream",
     "text": [
      "[Parallel(n_jobs=-1)]: Using backend LokyBackend with 12 concurrent workers.\n",
      "[Parallel(n_jobs=-1)]: Done   1 out of   1 | elapsed:  6.0min finished\n"
     ]
    },
    {
     "name": "stdout",
     "output_type": "stream",
     "text": [
      "K-Fold #7\n",
      "Mean negativities for all classes: [0.01943254057787587]\n",
      "Mean entropies for all classes: [4.013593976126678e-15]\n",
      "              precision    recall  f1-score   support\n",
      "\n",
      "           0       0.75      0.12      0.21        50\n",
      "           1       0.36      0.93      0.52        27\n",
      "\n",
      "    accuracy                           0.40        77\n",
      "   macro avg       0.56      0.52      0.36        77\n",
      "weighted avg       0.61      0.40      0.32        77\n",
      "\n",
      "-------------------------------------------------------------------------------------------------------------------\n"
     ]
    },
    {
     "name": "stderr",
     "output_type": "stream",
     "text": [
      "[Parallel(n_jobs=-1)]: Using backend LokyBackend with 12 concurrent workers.\n",
      "[Parallel(n_jobs=-1)]: Done   1 out of   1 | elapsed:  6.0min finished\n"
     ]
    },
    {
     "name": "stdout",
     "output_type": "stream",
     "text": [
      "K-Fold #8\n",
      "Mean negativities for all classes: [0.08148182968707103]\n",
      "Mean entropies for all classes: [4.2107896446145815e-15]\n",
      "              precision    recall  f1-score   support\n",
      "\n",
      "           0       0.93      0.26      0.41        50\n",
      "           1       0.40      0.96      0.57        26\n",
      "\n",
      "    accuracy                           0.50        76\n",
      "   macro avg       0.67      0.61      0.49        76\n",
      "weighted avg       0.75      0.50      0.46        76\n",
      "\n",
      "-------------------------------------------------------------------------------------------------------------------\n"
     ]
    },
    {
     "name": "stderr",
     "output_type": "stream",
     "text": [
      "[Parallel(n_jobs=-1)]: Using backend LokyBackend with 12 concurrent workers.\n",
      "[Parallel(n_jobs=-1)]: Done   1 out of   1 | elapsed:  6.0min finished\n"
     ]
    },
    {
     "name": "stdout",
     "output_type": "stream",
     "text": [
      "K-Fold #9\n",
      "Mean negativities for all classes: [0.13870696661506973]\n",
      "Mean entropies for all classes: [4.372680441917e-15]\n",
      "              precision    recall  f1-score   support\n",
      "\n",
      "           0       1.00      0.06      0.11        50\n",
      "           1       0.36      1.00      0.53        26\n",
      "\n",
      "    accuracy                           0.38        76\n",
      "   macro avg       0.68      0.53      0.32        76\n",
      "weighted avg       0.78      0.38      0.25        76\n",
      "\n",
      "-------------------------------------------------------------------------------------------------------------------\n",
      "AVG: Scores = 0.4154306220095694 F1-Scores = 0.36882929878086 Negativity = [0.017532152147788308, 0.1527763339938836] Entropy = [4.703864016761656e-15, 4.775778007539914e-15]\n",
      "CPU times: total: 2min 25s\n",
      "Wall time: 10h 2min 35s\n"
     ]
    }
   ],
   "source": [
    "%%time\n",
    "scores_list = []\n",
    "f1scores_list = []\n",
    "negativities_list = []\n",
    "for SEED in range(n_times_kfold):\n",
    "    scores, f1scores, output_dict = execute_training_test_k_fold(\n",
    "                    X, \n",
    "                    y, \n",
    "                    k_folds=k_times_fold,\n",
    "                    random_seed = SEED, \n",
    "                    classifier_function=classifier_function, \n",
    "                    dic_classifier_params=dic_classifier_params,\n",
    "                    one_vs_classifier=OneVsRestClassifier, \n",
    "                    dic_training_params=dic_training_params,\n",
    "                    print_each_fold_metric=True,\n",
    "                    print_avg_metric=True)\n",
    "    scores_list.append(scores)\n",
    "    f1scores_list.append(f1scores)\n",
    "    negativities_list.append(output_dict[\"negativities\"])"
   ]
  },
  {
   "cell_type": "code",
   "execution_count": 4,
   "id": "168e8aff",
   "metadata": {},
   "outputs": [
    {
     "name": "stdout",
     "output_type": "stream",
     "text": [
      "Media Score dos N K-Fold 0.4148257006151743\n",
      "Maior Score dos K-Fold 0.4582194121667806\n",
      "Min Score dos K-Fold 0.39723171565276827\n",
      "Media Score dos K-Fold [0.41134654818865346, 0.4582194121667806, 0.4023752563226247, 0.4348598769651401, 0.41008202323991794, 0.4075871496924129, 0.40753588516746414, 0.39723171565276827, 0.4035885167464115, 0.4154306220095694]\n",
      "\n",
      "\n",
      "[[0.36363636363636365, 0.4025974025974026, 0.4025974025974026, 0.4025974025974026, 0.42857142857142855, 0.4025974025974026, 0.42857142857142855, 0.5454545454545454, 0.34210526315789475, 0.39473684210526316], [0.4155844155844156, 0.5714285714285714, 0.5324675324675324, 0.42857142857142855, 0.6103896103896104, 0.37662337662337664, 0.38961038961038963, 0.42857142857142855, 0.4473684210526316, 0.3815789473684211], [0.4155844155844156, 0.38961038961038963, 0.44155844155844154, 0.4025974025974026, 0.38961038961038963, 0.4155844155844156, 0.36363636363636365, 0.37662337662337664, 0.4473684210526316, 0.3815789473684211], [0.4155844155844156, 0.5454545454545454, 0.4025974025974026, 0.45454545454545453, 0.38961038961038963, 0.4155844155844156, 0.42857142857142855, 0.45454545454545453, 0.3815789473684211, 0.4605263157894737], [0.42857142857142855, 0.4805194805194805, 0.4025974025974026, 0.42857142857142855, 0.4025974025974026, 0.4155844155844156, 0.38961038961038963, 0.38961038961038963, 0.39473684210526316, 0.3684210526315789], [0.38961038961038963, 0.42857142857142855, 0.36363636363636365, 0.44155844155844154, 0.36363636363636365, 0.4155844155844156, 0.4155844155844156, 0.4155844155844156, 0.4342105263157895, 0.40789473684210525], [0.4025974025974026, 0.4025974025974026, 0.4155844155844156, 0.38961038961038963, 0.42857142857142855, 0.4025974025974026, 0.44155844155844154, 0.38961038961038963, 0.39473684210526316, 0.40789473684210525], [0.35064935064935066, 0.42857142857142855, 0.36363636363636365, 0.4155844155844156, 0.38961038961038963, 0.38961038961038963, 0.38961038961038963, 0.37662337662337664, 0.4342105263157895, 0.4342105263157895], [0.37662337662337664, 0.36363636363636365, 0.42857142857142855, 0.37662337662337664, 0.4025974025974026, 0.4025974025974026, 0.5064935064935064, 0.4155844155844156, 0.3815789473684211, 0.3815789473684211], [0.45454545454545453, 0.44155844155844154, 0.42857142857142855, 0.36363636363636365, 0.38961038961038963, 0.38961038961038963, 0.4025974025974026, 0.4025974025974026, 0.5, 0.3815789473684211]]\n"
     ]
    }
   ],
   "source": [
    "print(\"Media Score dos N K-Fold\", np.mean([np.mean(i) for i in scores_list]))\n",
    "print(\"Maior Score dos K-Fold\", max([np.mean(i) for i in scores_list]))\n",
    "print(\"Min Score dos K-Fold\", min([np.mean(i) for i in scores_list]))\n",
    "\n",
    "print(\"Media Score dos K-Fold\", [np.mean(i) for i in scores_list])\n",
    "print()\n",
    "print()\n",
    "print(scores_list)"
   ]
  },
  {
   "cell_type": "code",
   "execution_count": 5,
   "id": "fcd239e5",
   "metadata": {},
   "outputs": [
    {
     "name": "stdout",
     "output_type": "stream",
     "text": [
      "Media F1Score dos N K-Fold 0.3627549839119707\n",
      "Maior F1Score dos K-Fold 0.39452887056737607\n",
      "Maior F1Score dos K-Fold 0.3385980648704524\n",
      "Media F1Score dos K-Fold [0.35700655606483594, 0.39452887056737607, 0.3546662980866056, 0.39212093801497944, 0.35838495725322617, 0.35799794373203364, 0.3555921406766249, 0.3385980648704524, 0.34982477107271265, 0.36882929878086]\n",
      "\n",
      "\n",
      "[[0.28174376546735197, 0.35459183673469385, 0.35459183673469385, 0.3440740740740741, 0.38265306122448983, 0.36386494252873564, 0.38265306122448983, 0.48695983247668007, 0.2692307692307692, 0.349702380952381], [0.3733043950081389, 0.4819571865443425, 0.39210526315789473, 0.39929078014184394, 0.535024154589372, 0.30316742081447967, 0.32393050625817293, 0.3915229885057472, 0.4145267791636097, 0.3304592314901593], [0.36363636363636365, 0.32393050625817293, 0.4011575330077772, 0.3440740740740741, 0.3353535353535354, 0.36363636363636365, 0.3175981190088623, 0.3265306122448979, 0.4217391304347826, 0.34900674321122654], [0.38921205711263873, 0.4641081725989262, 0.36386494252873564, 0.4191810344827587, 0.32393050625817293, 0.36363636363636365, 0.3915229885057472, 0.4431818181818182, 0.3304592314901593, 0.4321122653544742], [0.39929078014184394, 0.45390070921985815, 0.35459183673469385, 0.38265306122448983, 0.3440740740740741, 0.36363636363636365, 0.32393050625817293, 0.32393050625817293, 0.3393801965230536, 0.29846153846153844], [0.3353535353535354, 0.39929078014184394, 0.28174376546735197, 0.4163581879076326, 0.28174376546735197, 0.36363636363636365, 0.36363636363636365, 0.3733043950081389, 0.39649122807017545, 0.368421052631579], [0.3440740740740741, 0.35459183673469385, 0.36363636363636365, 0.32393050625817293, 0.38265306122448983, 0.3440740740740741, 0.4092774308652989, 0.3353535353535354, 0.3393801965230536, 0.35895032802249294], [0.25961538461538464, 0.3915229885057472, 0.28174376546735197, 0.36363636363636365, 0.32393050625817293, 0.34545125700850066, 0.32393050625817293, 0.30316742081447967, 0.39649122807017545, 0.39649122807017545], [0.3155555555555556, 0.3175981190088623, 0.38265306122448983, 0.30316742081447967, 0.36386494252873564, 0.3440740740740741, 0.448340874811463, 0.3733043950081389, 0.3304592314901593, 0.31923003621116824], [0.4191810344827587, 0.4011575330077772, 0.38265306122448983, 0.28174376546735197, 0.32393050625817293, 0.34545125700850066, 0.36386494252873564, 0.36386494252873564, 0.48721590909090906, 0.31923003621116824]]\n"
     ]
    }
   ],
   "source": [
    "print(\"Media F1Score dos N K-Fold\", np.mean([np.mean(i) for i in f1scores_list]))\n",
    "print(\"Maior F1Score dos K-Fold\", max([np.mean(i) for i in f1scores_list]))\n",
    "print(\"Maior F1Score dos K-Fold\", min([np.mean(i) for i in f1scores_list]))\n",
    "\n",
    "print(\"Media F1Score dos K-Fold\", [np.mean(i) for i in f1scores_list])\n",
    "print()\n",
    "print()\n",
    "print(f1scores_list)"
   ]
  },
  {
   "cell_type": "code",
   "execution_count": 6,
   "id": "9de54e21",
   "metadata": {},
   "outputs": [
    {
     "name": "stdout",
     "output_type": "stream",
     "text": [
      "Media Negativity dos N K-Fold 0.1352736228297096\n",
      "\n",
      "\n",
      "[[[0.13908527637183335, 0.10329331959849064, 0.11486083364188672, 0.11071631079038563, 0.13448389768243774, 0.1508604896423859, 0.1408238779375546, 0.33127382622519125, 0.14172018385709523, 0.14845300904873499]], [[0.12967816217553557, 0.3366613831881348, 0.3427922688612893, 0.1532549426970348, 0.3381236674243447, 0.13969865985998633, 0.13953998285997987, 0.13795281698459208, 0.14479824390376972, 0.14305357725465292]], [[0.11579316733698547, 0.15035762545161555, 0.13010968256828304, 0.019851374876463993, 0.1465559605325865, 0.004786745321655, 0.15784613127727465, 0.13980502290807417, 0.13836802113831903, 0.03452284519444143]], [[0.14567293234576237, 0.34226728147866836, 0.00640351574799302, 0.10222659361990168, 0.13638134900417404, 0.14846866715225035, 0.07216530273341293, 0.1507525823656909, 0.1422614627346286, 0.12076810791038338]], [[0.15259441767328147, 0.11521841491807612, 0.13963137982954255, 0.14154644014755488, 0.12500678209461386, 0.154043923032538, 0.14723754547363144, 0.12284762186764336, 0.13839835934775296, 0.1395765597939517]], [[0.12726783826933802, 0.07349764605312632, 0.1451253255814124, 0.15297876568385613, 0.1322858986537985, 0.1416932075401808, 0.10722450108787117, 0.1519877807032669, 0.11361580288437532, 0.12655496855893777]], [[0.14554519065567095, 0.01685553735036743, 0.12665492414347426, 0.07046794819441624, 0.12971966179583783, 0.14846120132971835, 0.1349101410129957, 0.11252282325832769, 0.0268663227610894, 0.14106272360035135]], [[0.1290095145071137, 0.13561874641337976, 0.1400587501084378, 0.14701155204034794, 0.12941165301245208, 0.15539323047996578, 0.14626016026480024, 0.1458149086477519, 0.1316089247431705, 0.14896785691510972]], [[0.1404980372881531, 0.13588748863544553, 0.017933490619437865, 0.13486617758066885, 0.14389042809071562, 0.13645587823012423, 0.3307983497069552, 0.15613469534867636, 0.1477754824698941, 0.1415943854988055]], [[0.017532152147788308, 0.1527763339938836, 0.13380249111919992, 0.1460121275215654, 0.1417542398216172, 0.018253698491533354, 0.15473143739306866, 0.01943254057787587, 0.08148182968707103, 0.13870696661506973]]]\n"
     ]
    }
   ],
   "source": [
    "print(\"Media Negativity dos N K-Fold\", np.mean([neg for neg in negativities_list]))\n",
    "\n",
    "print()\n",
    "print()\n",
    "print(negativities_list)"
   ]
  }
 ],
 "metadata": {
  "kernelspec": {
   "display_name": "Python 3",
   "language": "python",
   "name": "python3"
  },
  "language_info": {
   "codemirror_mode": {
    "name": "ipython",
    "version": 3
   },
   "file_extension": ".py",
   "mimetype": "text/x-python",
   "name": "python",
   "nbconvert_exporter": "python",
   "pygments_lexer": "ipython3",
   "version": "3.9.16"
  }
 },
 "nbformat": 4,
 "nbformat_minor": 5
}
