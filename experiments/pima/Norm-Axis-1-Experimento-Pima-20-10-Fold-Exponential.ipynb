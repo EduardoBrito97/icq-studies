{
 "cells": [
  {
   "cell_type": "code",
   "execution_count": 1,
   "id": "0db239e0",
   "metadata": {},
   "outputs": [
    {
     "name": "stderr",
     "output_type": "stream",
     "text": [
      "Intel(R) Extension for Scikit-learn* enabled (https://github.com/intel/scikit-learn-intelex)\n"
     ]
    }
   ],
   "source": [
    "import sys, os\n",
    "sys.path.append(os.path.abspath('../../classifiers'))\n",
    "sys.path.append(os.path.abspath('../../training'))\n",
    "sys.path.append(os.path.abspath('../../validation'))\n",
    "from validation_functions import execute_training_test_k_fold\n",
    "from classifiers_ICQ import iqc_classifier\n",
    "\n",
    "from sklearn.multiclass import OneVsRestClassifier\n",
    "import numpy as np\n",
    "import load_pima\n",
    "\n",
    "X, y = load_pima.get_dataset()"
   ]
  },
  {
   "cell_type": "code",
   "execution_count": 2,
   "id": "1ad66125",
   "metadata": {},
   "outputs": [],
   "source": [
    "classifier_function = iqc_classifier\n",
    "dic_classifier_params = {}\n",
    "dic_classifier_params[\"sigma_q_params\"] = [1,1,1,0]\n",
    "dic_classifier_params[\"use_polar_coordinates_on_sigma_q\"] = False\n",
    "dic_classifier_params[\"load_inputvector_env_state\"] = False\n",
    "dic_classifier_params[\"normalize_axis\"] = 1\n",
    "dic_classifier_params[\"use_exponential_on_input\"] = True\n",
    "\n",
    "dic_training_params = {\"max_iter\": 1000,\n",
    "    \"accuracy_succ\": 0.99,\n",
    "    \"plot_graphs_and_metrics\": False,\n",
    "    \"plot_graphs_in_classifier\": False,\n",
    "    \"random_seed\": 1,\n",
    "    \"learning_rate\": 0.009,\n",
    "    \"refit_db\":True,\n",
    "    \"reset_weights_epoch\":0,\n",
    "    \"do_classes_refit\":True,\n",
    "    \"batch\":False}\n",
    "\n",
    "n_times_kfold = 10\n",
    "k_times_fold = 10"
   ]
  },
  {
   "cell_type": "code",
   "execution_count": 3,
   "id": "8522d868",
   "metadata": {},
   "outputs": [
    {
     "name": "stderr",
     "output_type": "stream",
     "text": [
      "[Parallel(n_jobs=-1)]: Using backend LokyBackend with 12 concurrent workers.\n",
      "[Parallel(n_jobs=-1)]: Done   1 out of   1 | elapsed:  6.7min finished\n"
     ]
    },
    {
     "name": "stdout",
     "output_type": "stream",
     "text": [
      "K-Fold #0\n",
      "Mean negativities for all classes: [0.32803424192203184]\n",
      "Mean entropies for all classes: [4.845881564418499e-15]\n",
      "              precision    recall  f1-score   support\n",
      "\n",
      "           0       0.67      0.24      0.35        50\n",
      "           1       0.36      0.78      0.49        27\n",
      "\n",
      "    accuracy                           0.43        77\n",
      "   macro avg       0.51      0.51      0.42        77\n",
      "weighted avg       0.56      0.43      0.40        77\n",
      "\n",
      "-------------------------------------------------------------------------------------------------------------------\n"
     ]
    },
    {
     "name": "stderr",
     "output_type": "stream",
     "text": [
      "[Parallel(n_jobs=-1)]: Using backend LokyBackend with 12 concurrent workers.\n",
      "[Parallel(n_jobs=-1)]: Done   1 out of   1 | elapsed:  6.6min finished\n"
     ]
    },
    {
     "name": "stdout",
     "output_type": "stream",
     "text": [
      "K-Fold #1\n",
      "Mean negativities for all classes: [0.32852104621015643]\n",
      "Mean entropies for all classes: [4.994863346198591e-15]\n",
      "              precision    recall  f1-score   support\n",
      "\n",
      "           0       0.72      0.26      0.38        50\n",
      "           1       0.37      0.81      0.51        27\n",
      "\n",
      "    accuracy                           0.45        77\n",
      "   macro avg       0.55      0.54      0.45        77\n",
      "weighted avg       0.60      0.45      0.43        77\n",
      "\n",
      "-------------------------------------------------------------------------------------------------------------------\n"
     ]
    },
    {
     "name": "stderr",
     "output_type": "stream",
     "text": [
      "[Parallel(n_jobs=-1)]: Using backend LokyBackend with 12 concurrent workers.\n",
      "[Parallel(n_jobs=-1)]: Done   1 out of   1 | elapsed:  6.6min finished\n"
     ]
    },
    {
     "name": "stdout",
     "output_type": "stream",
     "text": [
      "K-Fold #2\n",
      "Mean negativities for all classes: [0.326196017162644]\n",
      "Mean entropies for all classes: [4.831252831978479e-15]\n",
      "              precision    recall  f1-score   support\n",
      "\n",
      "           0       0.85      0.22      0.35        50\n",
      "           1       0.39      0.93      0.55        27\n",
      "\n",
      "    accuracy                           0.47        77\n",
      "   macro avg       0.62      0.57      0.45        77\n",
      "weighted avg       0.69      0.47      0.42        77\n",
      "\n",
      "-------------------------------------------------------------------------------------------------------------------\n"
     ]
    },
    {
     "name": "stderr",
     "output_type": "stream",
     "text": [
      "[Parallel(n_jobs=-1)]: Using backend LokyBackend with 12 concurrent workers.\n",
      "[Parallel(n_jobs=-1)]: Done   1 out of   1 | elapsed:  6.6min finished\n"
     ]
    },
    {
     "name": "stdout",
     "output_type": "stream",
     "text": [
      "K-Fold #3\n",
      "Mean negativities for all classes: [0.33446643241797425]\n",
      "Mean entropies for all classes: [4.698768357916958e-15]\n",
      "              precision    recall  f1-score   support\n",
      "\n",
      "           0       0.71      0.44      0.54        50\n",
      "           1       0.39      0.67      0.49        27\n",
      "\n",
      "    accuracy                           0.52        77\n",
      "   macro avg       0.55      0.55      0.52        77\n",
      "weighted avg       0.60      0.52      0.53        77\n",
      "\n",
      "-------------------------------------------------------------------------------------------------------------------\n"
     ]
    },
    {
     "name": "stderr",
     "output_type": "stream",
     "text": [
      "[Parallel(n_jobs=-1)]: Using backend LokyBackend with 12 concurrent workers.\n",
      "[Parallel(n_jobs=-1)]: Done   1 out of   1 | elapsed:  6.6min finished\n"
     ]
    },
    {
     "name": "stdout",
     "output_type": "stream",
     "text": [
      "K-Fold #4\n",
      "Mean negativities for all classes: [0.3258400076102197]\n",
      "Mean entropies for all classes: [4.5115858934325195e-15]\n",
      "              precision    recall  f1-score   support\n",
      "\n",
      "           0       0.84      0.32      0.46        50\n",
      "           1       0.41      0.89      0.56        27\n",
      "\n",
      "    accuracy                           0.52        77\n",
      "   macro avg       0.63      0.60      0.51        77\n",
      "weighted avg       0.69      0.52      0.50        77\n",
      "\n",
      "-------------------------------------------------------------------------------------------------------------------\n"
     ]
    },
    {
     "name": "stderr",
     "output_type": "stream",
     "text": [
      "[Parallel(n_jobs=-1)]: Using backend LokyBackend with 12 concurrent workers.\n",
      "[Parallel(n_jobs=-1)]: Done   1 out of   1 | elapsed:  6.6min finished\n"
     ]
    },
    {
     "name": "stdout",
     "output_type": "stream",
     "text": [
      "K-Fold #5\n",
      "Mean negativities for all classes: [0.3404944548265049]\n",
      "Mean entropies for all classes: [5.0518801572240935e-15]\n",
      "              precision    recall  f1-score   support\n",
      "\n",
      "           0       0.72      0.42      0.53        50\n",
      "           1       0.40      0.70      0.51        27\n",
      "\n",
      "    accuracy                           0.52        77\n",
      "   macro avg       0.56      0.56      0.52        77\n",
      "weighted avg       0.61      0.52      0.52        77\n",
      "\n",
      "-------------------------------------------------------------------------------------------------------------------\n"
     ]
    },
    {
     "name": "stderr",
     "output_type": "stream",
     "text": [
      "[Parallel(n_jobs=-1)]: Using backend LokyBackend with 12 concurrent workers.\n",
      "[Parallel(n_jobs=-1)]: Done   1 out of   1 | elapsed:  6.6min finished\n"
     ]
    },
    {
     "name": "stdout",
     "output_type": "stream",
     "text": [
      "K-Fold #6\n",
      "Mean negativities for all classes: [0.3347253673327041]\n",
      "Mean entropies for all classes: [4.840915619505601e-15]\n",
      "              precision    recall  f1-score   support\n",
      "\n",
      "           0       0.81      0.44      0.57        50\n",
      "           1       0.44      0.81      0.57        27\n",
      "\n",
      "    accuracy                           0.57        77\n",
      "   macro avg       0.63      0.63      0.57        77\n",
      "weighted avg       0.68      0.57      0.57        77\n",
      "\n",
      "-------------------------------------------------------------------------------------------------------------------\n"
     ]
    },
    {
     "name": "stderr",
     "output_type": "stream",
     "text": [
      "[Parallel(n_jobs=-1)]: Using backend LokyBackend with 12 concurrent workers.\n",
      "[Parallel(n_jobs=-1)]: Done   1 out of   1 | elapsed:  6.6min finished\n"
     ]
    },
    {
     "name": "stdout",
     "output_type": "stream",
     "text": [
      "K-Fold #7\n",
      "Mean negativities for all classes: [0.3317625650002212]\n",
      "Mean entropies for all classes: [4.836317538444265e-15]\n",
      "              precision    recall  f1-score   support\n",
      "\n",
      "           0       0.83      0.38      0.52        50\n",
      "           1       0.43      0.85      0.57        27\n",
      "\n",
      "    accuracy                           0.55        77\n",
      "   macro avg       0.63      0.62      0.54        77\n",
      "weighted avg       0.69      0.55      0.54        77\n",
      "\n",
      "-------------------------------------------------------------------------------------------------------------------\n"
     ]
    },
    {
     "name": "stderr",
     "output_type": "stream",
     "text": [
      "[Parallel(n_jobs=-1)]: Using backend LokyBackend with 12 concurrent workers.\n",
      "[Parallel(n_jobs=-1)]: Done   1 out of   1 | elapsed:  6.6min finished\n"
     ]
    },
    {
     "name": "stdout",
     "output_type": "stream",
     "text": [
      "K-Fold #8\n",
      "Mean negativities for all classes: [0.32724445439513267]\n",
      "Mean entropies for all classes: [5.0202662022916564e-15]\n",
      "              precision    recall  f1-score   support\n",
      "\n",
      "           0       0.71      0.24      0.36        50\n",
      "           1       0.36      0.81      0.49        26\n",
      "\n",
      "    accuracy                           0.43        76\n",
      "   macro avg       0.53      0.52      0.43        76\n",
      "weighted avg       0.59      0.43      0.40        76\n",
      "\n",
      "-------------------------------------------------------------------------------------------------------------------\n"
     ]
    },
    {
     "name": "stderr",
     "output_type": "stream",
     "text": [
      "[Parallel(n_jobs=-1)]: Using backend LokyBackend with 12 concurrent workers.\n",
      "[Parallel(n_jobs=-1)]: Done   1 out of   1 | elapsed:  6.6min finished\n"
     ]
    },
    {
     "name": "stdout",
     "output_type": "stream",
     "text": [
      "K-Fold #9\n",
      "Mean negativities for all classes: [0.3320326260195644]\n",
      "Mean entropies for all classes: [4.593151022947722e-15]\n",
      "              precision    recall  f1-score   support\n",
      "\n",
      "           0       0.77      0.34      0.47        50\n",
      "           1       0.39      0.81      0.53        26\n",
      "\n",
      "    accuracy                           0.50        76\n",
      "   macro avg       0.58      0.57      0.50        76\n",
      "weighted avg       0.64      0.50      0.49        76\n",
      "\n",
      "-------------------------------------------------------------------------------------------------------------------\n",
      "AVG: Scores = 0.49601845522898147 F1-Scores = 0.4908976479748007 Negativity = [0.32803424192203184, 0.32852104621015643] Entropy = [4.845881564418499e-15, 4.994863346198591e-15]\n"
     ]
    },
    {
     "name": "stderr",
     "output_type": "stream",
     "text": [
      "[Parallel(n_jobs=-1)]: Using backend LokyBackend with 12 concurrent workers.\n",
      "[Parallel(n_jobs=-1)]: Done   1 out of   1 | elapsed:  6.6min finished\n"
     ]
    },
    {
     "name": "stdout",
     "output_type": "stream",
     "text": [
      "K-Fold #0\n",
      "Mean negativities for all classes: [0.33252941914163553]\n",
      "Mean entropies for all classes: [4.9876493561368075e-15]\n",
      "              precision    recall  f1-score   support\n",
      "\n",
      "           0       0.68      0.38      0.49        50\n",
      "           1       0.37      0.67      0.47        27\n",
      "\n",
      "    accuracy                           0.48        77\n",
      "   macro avg       0.52      0.52      0.48        77\n",
      "weighted avg       0.57      0.48      0.48        77\n",
      "\n",
      "-------------------------------------------------------------------------------------------------------------------\n"
     ]
    },
    {
     "name": "stderr",
     "output_type": "stream",
     "text": [
      "[Parallel(n_jobs=-1)]: Using backend LokyBackend with 12 concurrent workers.\n",
      "[Parallel(n_jobs=-1)]: Done   1 out of   1 | elapsed:  6.6min finished\n"
     ]
    },
    {
     "name": "stdout",
     "output_type": "stream",
     "text": [
      "K-Fold #1\n",
      "Mean negativities for all classes: [0.3285664438584161]\n",
      "Mean entropies for all classes: [4.582442121397883e-15]\n",
      "              precision    recall  f1-score   support\n",
      "\n",
      "           0       0.78      0.28      0.41        50\n",
      "           1       0.39      0.85      0.53        27\n",
      "\n",
      "    accuracy                           0.48        77\n",
      "   macro avg       0.58      0.57      0.47        77\n",
      "weighted avg       0.64      0.48      0.45        77\n",
      "\n",
      "-------------------------------------------------------------------------------------------------------------------\n"
     ]
    },
    {
     "name": "stderr",
     "output_type": "stream",
     "text": [
      "[Parallel(n_jobs=-1)]: Using backend LokyBackend with 12 concurrent workers.\n",
      "[Parallel(n_jobs=-1)]: Done   1 out of   1 | elapsed:  6.6min finished\n"
     ]
    },
    {
     "name": "stdout",
     "output_type": "stream",
     "text": [
      "K-Fold #2\n",
      "Mean negativities for all classes: [0.3268833205106958]\n",
      "Mean entropies for all classes: [4.78349762126847e-15]\n",
      "              precision    recall  f1-score   support\n",
      "\n",
      "           0       0.92      0.24      0.38        50\n",
      "           1       0.41      0.96      0.57        27\n",
      "\n",
      "    accuracy                           0.49        77\n",
      "   macro avg       0.66      0.60      0.48        77\n",
      "weighted avg       0.74      0.49      0.45        77\n",
      "\n",
      "-------------------------------------------------------------------------------------------------------------------\n"
     ]
    },
    {
     "name": "stderr",
     "output_type": "stream",
     "text": [
      "[Parallel(n_jobs=-1)]: Using backend LokyBackend with 12 concurrent workers.\n",
      "[Parallel(n_jobs=-1)]: Done   1 out of   1 | elapsed:  6.6min finished\n"
     ]
    },
    {
     "name": "stdout",
     "output_type": "stream",
     "text": [
      "K-Fold #3\n",
      "Mean negativities for all classes: [0.3291544358011316]\n",
      "Mean entropies for all classes: [4.658881955130064e-15]\n",
      "              precision    recall  f1-score   support\n",
      "\n",
      "           0       0.81      0.34      0.48        50\n",
      "           1       0.41      0.85      0.55        27\n",
      "\n",
      "    accuracy                           0.52        77\n",
      "   macro avg       0.61      0.60      0.52        77\n",
      "weighted avg       0.67      0.52      0.51        77\n",
      "\n",
      "-------------------------------------------------------------------------------------------------------------------\n"
     ]
    },
    {
     "name": "stderr",
     "output_type": "stream",
     "text": [
      "[Parallel(n_jobs=-1)]: Using backend LokyBackend with 12 concurrent workers.\n",
      "[Parallel(n_jobs=-1)]: Done   1 out of   1 | elapsed:  6.6min finished\n"
     ]
    },
    {
     "name": "stdout",
     "output_type": "stream",
     "text": [
      "K-Fold #4\n",
      "Mean negativities for all classes: [0.3310789102023126]\n",
      "Mean entropies for all classes: [4.914054599044185e-15]\n",
      "              precision    recall  f1-score   support\n",
      "\n",
      "           0       0.78      0.36      0.49        50\n",
      "           1       0.41      0.81      0.54        27\n",
      "\n",
      "    accuracy                           0.52        77\n",
      "   macro avg       0.60      0.59      0.52        77\n",
      "weighted avg       0.65      0.52      0.51        77\n",
      "\n",
      "-------------------------------------------------------------------------------------------------------------------\n"
     ]
    },
    {
     "name": "stderr",
     "output_type": "stream",
     "text": [
      "[Parallel(n_jobs=-1)]: Using backend LokyBackend with 12 concurrent workers.\n",
      "[Parallel(n_jobs=-1)]: Done   1 out of   1 | elapsed:  6.6min finished\n"
     ]
    },
    {
     "name": "stdout",
     "output_type": "stream",
     "text": [
      "K-Fold #5\n",
      "Mean negativities for all classes: [0.3358544776646394]\n",
      "Mean entropies for all classes: [5.005905154089876e-15]\n",
      "              precision    recall  f1-score   support\n",
      "\n",
      "           0       0.67      0.32      0.43        50\n",
      "           1       0.36      0.70      0.48        27\n",
      "\n",
      "    accuracy                           0.45        77\n",
      "   macro avg       0.51      0.51      0.45        77\n",
      "weighted avg       0.56      0.45      0.45        77\n",
      "\n",
      "-------------------------------------------------------------------------------------------------------------------\n"
     ]
    },
    {
     "name": "stderr",
     "output_type": "stream",
     "text": [
      "[Parallel(n_jobs=-1)]: Using backend LokyBackend with 12 concurrent workers.\n",
      "[Parallel(n_jobs=-1)]: Done   1 out of   1 | elapsed:  6.6min finished\n"
     ]
    },
    {
     "name": "stdout",
     "output_type": "stream",
     "text": [
      "K-Fold #6\n",
      "Mean negativities for all classes: [0.32671919815689054]\n",
      "Mean entropies for all classes: [4.653570288240032e-15]\n",
      "              precision    recall  f1-score   support\n",
      "\n",
      "           0       0.73      0.22      0.34        50\n",
      "           1       0.37      0.85      0.52        27\n",
      "\n",
      "    accuracy                           0.44        77\n",
      "   macro avg       0.55      0.54      0.43        77\n",
      "weighted avg       0.61      0.44      0.40        77\n",
      "\n",
      "-------------------------------------------------------------------------------------------------------------------\n"
     ]
    },
    {
     "name": "stderr",
     "output_type": "stream",
     "text": [
      "[Parallel(n_jobs=-1)]: Using backend LokyBackend with 12 concurrent workers.\n",
      "[Parallel(n_jobs=-1)]: Done   1 out of   1 | elapsed:  6.6min finished\n"
     ]
    },
    {
     "name": "stdout",
     "output_type": "stream",
     "text": [
      "K-Fold #7\n",
      "Mean negativities for all classes: [0.3340076785725654]\n",
      "Mean entropies for all classes: [4.790961931803539e-15]\n",
      "              precision    recall  f1-score   support\n",
      "\n",
      "           0       0.77      0.48      0.59        50\n",
      "           1       0.43      0.74      0.55        27\n",
      "\n",
      "    accuracy                           0.57        77\n",
      "   macro avg       0.60      0.61      0.57        77\n",
      "weighted avg       0.66      0.57      0.58        77\n",
      "\n",
      "-------------------------------------------------------------------------------------------------------------------\n"
     ]
    },
    {
     "name": "stderr",
     "output_type": "stream",
     "text": [
      "[Parallel(n_jobs=-1)]: Using backend LokyBackend with 12 concurrent workers.\n",
      "[Parallel(n_jobs=-1)]: Done   1 out of   1 | elapsed:  6.6min finished\n"
     ]
    },
    {
     "name": "stdout",
     "output_type": "stream",
     "text": [
      "K-Fold #8\n",
      "Mean negativities for all classes: [0.32691811283692634]\n",
      "Mean entropies for all classes: [4.645494989198351e-15]\n",
      "              precision    recall  f1-score   support\n",
      "\n",
      "           0       0.71      0.24      0.36        50\n",
      "           1       0.36      0.81      0.49        26\n",
      "\n",
      "    accuracy                           0.43        76\n",
      "   macro avg       0.53      0.52      0.43        76\n",
      "weighted avg       0.59      0.43      0.40        76\n",
      "\n",
      "-------------------------------------------------------------------------------------------------------------------\n"
     ]
    },
    {
     "name": "stderr",
     "output_type": "stream",
     "text": [
      "[Parallel(n_jobs=-1)]: Using backend LokyBackend with 12 concurrent workers.\n",
      "[Parallel(n_jobs=-1)]: Done   1 out of   1 | elapsed:  6.7min finished\n"
     ]
    },
    {
     "name": "stdout",
     "output_type": "stream",
     "text": [
      "K-Fold #9\n",
      "Mean negativities for all classes: [0.3341493247048669]\n",
      "Mean entropies for all classes: [4.87433617960064e-15]\n",
      "              precision    recall  f1-score   support\n",
      "\n",
      "           0       0.67      0.24      0.35        50\n",
      "           1       0.34      0.77      0.48        26\n",
      "\n",
      "    accuracy                           0.42        76\n",
      "   macro avg       0.51      0.50      0.41        76\n",
      "weighted avg       0.56      0.42      0.40        76\n",
      "\n",
      "-------------------------------------------------------------------------------------------------------------------\n",
      "AVG: Scores = 0.4816302118933697 F1-Scores = 0.4757043850887305 Negativity = [0.33252941914163553, 0.3285664438584161] Entropy = [4.9876493561368075e-15, 4.582442121397883e-15]\n"
     ]
    },
    {
     "name": "stderr",
     "output_type": "stream",
     "text": [
      "[Parallel(n_jobs=-1)]: Using backend LokyBackend with 12 concurrent workers.\n",
      "[Parallel(n_jobs=-1)]: Done   1 out of   1 | elapsed:  6.6min finished\n"
     ]
    },
    {
     "name": "stdout",
     "output_type": "stream",
     "text": [
      "K-Fold #0\n",
      "Mean negativities for all classes: [0.33000529443802884]\n",
      "Mean entropies for all classes: [4.48443008103182e-15]\n",
      "              precision    recall  f1-score   support\n",
      "\n",
      "           0       0.62      0.26      0.37        50\n",
      "           1       0.34      0.70      0.46        27\n",
      "\n",
      "    accuracy                           0.42        77\n",
      "   macro avg       0.48      0.48      0.41        77\n",
      "weighted avg       0.52      0.42      0.40        77\n",
      "\n",
      "-------------------------------------------------------------------------------------------------------------------\n"
     ]
    },
    {
     "name": "stderr",
     "output_type": "stream",
     "text": [
      "[Parallel(n_jobs=-1)]: Using backend LokyBackend with 12 concurrent workers.\n",
      "[Parallel(n_jobs=-1)]: Done   1 out of   1 | elapsed:  6.6min finished\n"
     ]
    },
    {
     "name": "stdout",
     "output_type": "stream",
     "text": [
      "K-Fold #1\n",
      "Mean negativities for all classes: [0.3281146988165774]\n",
      "Mean entropies for all classes: [4.762370995764076e-15]\n",
      "              precision    recall  f1-score   support\n",
      "\n",
      "           0       0.60      0.18      0.28        50\n",
      "           1       0.34      0.78      0.47        27\n",
      "\n",
      "    accuracy                           0.39        77\n",
      "   macro avg       0.47      0.48      0.37        77\n",
      "weighted avg       0.51      0.39      0.35        77\n",
      "\n",
      "-------------------------------------------------------------------------------------------------------------------\n"
     ]
    },
    {
     "name": "stderr",
     "output_type": "stream",
     "text": [
      "[Parallel(n_jobs=-1)]: Using backend LokyBackend with 12 concurrent workers.\n",
      "[Parallel(n_jobs=-1)]: Done   1 out of   1 | elapsed:  6.6min finished\n"
     ]
    },
    {
     "name": "stdout",
     "output_type": "stream",
     "text": [
      "K-Fold #2\n",
      "Mean negativities for all classes: [0.3296472628425166]\n",
      "Mean entropies for all classes: [4.7586768999556305e-15]\n",
      "              precision    recall  f1-score   support\n",
      "\n",
      "           0       0.81      0.26      0.39        50\n",
      "           1       0.39      0.89      0.55        27\n",
      "\n",
      "    accuracy                           0.48        77\n",
      "   macro avg       0.60      0.57      0.47        77\n",
      "weighted avg       0.67      0.48      0.45        77\n",
      "\n",
      "-------------------------------------------------------------------------------------------------------------------\n"
     ]
    },
    {
     "name": "stderr",
     "output_type": "stream",
     "text": [
      "[Parallel(n_jobs=-1)]: Using backend LokyBackend with 12 concurrent workers.\n",
      "[Parallel(n_jobs=-1)]: Done   1 out of   1 | elapsed:  6.6min finished\n"
     ]
    },
    {
     "name": "stdout",
     "output_type": "stream",
     "text": [
      "K-Fold #3\n",
      "Mean negativities for all classes: [0.3330480894012908]\n",
      "Mean entropies for all classes: [4.9530685695866165e-15]\n",
      "              precision    recall  f1-score   support\n",
      "\n",
      "           0       0.85      0.46      0.60        50\n",
      "           1       0.46      0.85      0.60        27\n",
      "\n",
      "    accuracy                           0.60        77\n",
      "   macro avg       0.66      0.66      0.60        77\n",
      "weighted avg       0.71      0.60      0.60        77\n",
      "\n",
      "-------------------------------------------------------------------------------------------------------------------\n"
     ]
    },
    {
     "name": "stderr",
     "output_type": "stream",
     "text": [
      "[Parallel(n_jobs=-1)]: Using backend LokyBackend with 12 concurrent workers.\n",
      "[Parallel(n_jobs=-1)]: Done   1 out of   1 | elapsed:  6.6min finished\n"
     ]
    },
    {
     "name": "stdout",
     "output_type": "stream",
     "text": [
      "K-Fold #4\n",
      "Mean negativities for all classes: [0.3305427393079198]\n",
      "Mean entropies for all classes: [4.514295416012081e-15]\n",
      "              precision    recall  f1-score   support\n",
      "\n",
      "           0       0.74      0.28      0.41        50\n",
      "           1       0.38      0.81      0.52        27\n",
      "\n",
      "    accuracy                           0.47        77\n",
      "   macro avg       0.56      0.55      0.46        77\n",
      "weighted avg       0.61      0.47      0.45        77\n",
      "\n",
      "-------------------------------------------------------------------------------------------------------------------\n"
     ]
    },
    {
     "name": "stderr",
     "output_type": "stream",
     "text": [
      "[Parallel(n_jobs=-1)]: Using backend LokyBackend with 12 concurrent workers.\n",
      "[Parallel(n_jobs=-1)]: Done   1 out of   1 | elapsed:  6.6min finished\n"
     ]
    },
    {
     "name": "stdout",
     "output_type": "stream",
     "text": [
      "K-Fold #5\n",
      "Mean negativities for all classes: [0.327232913041991]\n",
      "Mean entropies for all classes: [4.68369994785797e-15]\n",
      "              precision    recall  f1-score   support\n",
      "\n",
      "           0       0.61      0.22      0.32        50\n",
      "           1       0.34      0.74      0.47        27\n",
      "\n",
      "    accuracy                           0.40        77\n",
      "   macro avg       0.48      0.48      0.39        77\n",
      "weighted avg       0.52      0.40      0.37        77\n",
      "\n",
      "-------------------------------------------------------------------------------------------------------------------\n"
     ]
    },
    {
     "name": "stderr",
     "output_type": "stream",
     "text": [
      "[Parallel(n_jobs=-1)]: Using backend LokyBackend with 12 concurrent workers.\n",
      "[Parallel(n_jobs=-1)]: Done   1 out of   1 | elapsed:  6.6min finished\n"
     ]
    },
    {
     "name": "stdout",
     "output_type": "stream",
     "text": [
      "K-Fold #6\n",
      "Mean negativities for all classes: [0.3308531647118123]\n",
      "Mean entropies for all classes: [4.6831475519045335e-15]\n",
      "              precision    recall  f1-score   support\n",
      "\n",
      "           0       0.71      0.34      0.46        50\n",
      "           1       0.38      0.74      0.50        27\n",
      "\n",
      "    accuracy                           0.48        77\n",
      "   macro avg       0.54      0.54      0.48        77\n",
      "weighted avg       0.59      0.48      0.47        77\n",
      "\n",
      "-------------------------------------------------------------------------------------------------------------------\n"
     ]
    },
    {
     "name": "stderr",
     "output_type": "stream",
     "text": [
      "[Parallel(n_jobs=-1)]: Using backend LokyBackend with 12 concurrent workers.\n",
      "[Parallel(n_jobs=-1)]: Done   1 out of   1 | elapsed:  6.6min finished\n"
     ]
    },
    {
     "name": "stdout",
     "output_type": "stream",
     "text": [
      "K-Fold #7\n",
      "Mean negativities for all classes: [0.3279374668267303]\n",
      "Mean entropies for all classes: [4.719237474574422e-15]\n",
      "              precision    recall  f1-score   support\n",
      "\n",
      "           0       0.94      0.30      0.45        50\n",
      "           1       0.43      0.96      0.59        27\n",
      "\n",
      "    accuracy                           0.53        77\n",
      "   macro avg       0.68      0.63      0.52        77\n",
      "weighted avg       0.76      0.53      0.50        77\n",
      "\n",
      "-------------------------------------------------------------------------------------------------------------------\n"
     ]
    },
    {
     "name": "stderr",
     "output_type": "stream",
     "text": [
      "[Parallel(n_jobs=-1)]: Using backend LokyBackend with 12 concurrent workers.\n",
      "[Parallel(n_jobs=-1)]: Done   1 out of   1 | elapsed:  6.6min finished\n"
     ]
    },
    {
     "name": "stdout",
     "output_type": "stream",
     "text": [
      "K-Fold #8\n",
      "Mean negativities for all classes: [0.3356335188891797]\n",
      "Mean entropies for all classes: [4.71438646271268e-15]\n",
      "              precision    recall  f1-score   support\n",
      "\n",
      "           0       0.76      0.32      0.45        50\n",
      "           1       0.38      0.81      0.52        26\n",
      "\n",
      "    accuracy                           0.49        76\n",
      "   macro avg       0.57      0.56      0.48        76\n",
      "weighted avg       0.63      0.49      0.47        76\n",
      "\n",
      "-------------------------------------------------------------------------------------------------------------------\n"
     ]
    },
    {
     "name": "stderr",
     "output_type": "stream",
     "text": [
      "[Parallel(n_jobs=-1)]: Using backend LokyBackend with 12 concurrent workers.\n",
      "[Parallel(n_jobs=-1)]: Done   1 out of   1 | elapsed:  6.5min finished\n"
     ]
    },
    {
     "name": "stdout",
     "output_type": "stream",
     "text": [
      "K-Fold #9\n",
      "Mean negativities for all classes: [0.3361162453351742]\n",
      "Mean entropies for all classes: [4.730932243890927e-15]\n",
      "              precision    recall  f1-score   support\n",
      "\n",
      "           0       0.86      0.48      0.62        50\n",
      "           1       0.46      0.85      0.59        26\n",
      "\n",
      "    accuracy                           0.61        76\n",
      "   macro avg       0.66      0.66      0.60        76\n",
      "weighted avg       0.72      0.61      0.61        76\n",
      "\n",
      "-------------------------------------------------------------------------------------------------------------------\n",
      "AVG: Scores = 0.48583390293916606 F1-Scores = 0.4801633320876341 Negativity = [0.33000529443802884, 0.3281146988165774] Entropy = [4.48443008103182e-15, 4.762370995764076e-15]\n"
     ]
    },
    {
     "name": "stderr",
     "output_type": "stream",
     "text": [
      "[Parallel(n_jobs=-1)]: Using backend LokyBackend with 12 concurrent workers.\n",
      "[Parallel(n_jobs=-1)]: Done   1 out of   1 | elapsed:  6.6min finished\n"
     ]
    },
    {
     "name": "stdout",
     "output_type": "stream",
     "text": [
      "K-Fold #0\n",
      "Mean negativities for all classes: [0.3349433209404804]\n",
      "Mean entropies for all classes: [4.608915902255883e-15]\n",
      "              precision    recall  f1-score   support\n",
      "\n",
      "           0       0.75      0.36      0.49        50\n",
      "           1       0.40      0.78      0.53        27\n",
      "\n",
      "    accuracy                           0.51        77\n",
      "   macro avg       0.57      0.57      0.51        77\n",
      "weighted avg       0.63      0.51      0.50        77\n",
      "\n",
      "-------------------------------------------------------------------------------------------------------------------\n"
     ]
    },
    {
     "name": "stderr",
     "output_type": "stream",
     "text": [
      "[Parallel(n_jobs=-1)]: Using backend LokyBackend with 12 concurrent workers.\n",
      "[Parallel(n_jobs=-1)]: Done   1 out of   1 | elapsed:  6.7min finished\n"
     ]
    },
    {
     "name": "stdout",
     "output_type": "stream",
     "text": [
      "K-Fold #1\n",
      "Mean negativities for all classes: [0.3329675932658147]\n",
      "Mean entropies for all classes: [4.633289840597538e-15]\n",
      "              precision    recall  f1-score   support\n",
      "\n",
      "           0       0.81      0.34      0.48        50\n",
      "           1       0.41      0.85      0.55        27\n",
      "\n",
      "    accuracy                           0.52        77\n",
      "   macro avg       0.61      0.60      0.52        77\n",
      "weighted avg       0.67      0.52      0.51        77\n",
      "\n",
      "-------------------------------------------------------------------------------------------------------------------\n"
     ]
    },
    {
     "name": "stderr",
     "output_type": "stream",
     "text": [
      "[Parallel(n_jobs=-1)]: Using backend LokyBackend with 12 concurrent workers.\n",
      "[Parallel(n_jobs=-1)]: Done   1 out of   1 | elapsed:  6.7min finished\n"
     ]
    },
    {
     "name": "stdout",
     "output_type": "stream",
     "text": [
      "K-Fold #2\n",
      "Mean negativities for all classes: [0.3359361530425226]\n",
      "Mean entropies for all classes: [4.789993865270007e-15]\n",
      "              precision    recall  f1-score   support\n",
      "\n",
      "           0       0.75      0.42      0.54        50\n",
      "           1       0.41      0.74      0.53        27\n",
      "\n",
      "    accuracy                           0.53        77\n",
      "   macro avg       0.58      0.58      0.53        77\n",
      "weighted avg       0.63      0.53      0.53        77\n",
      "\n",
      "-------------------------------------------------------------------------------------------------------------------\n"
     ]
    },
    {
     "name": "stderr",
     "output_type": "stream",
     "text": [
      "[Parallel(n_jobs=-1)]: Using backend LokyBackend with 12 concurrent workers.\n",
      "[Parallel(n_jobs=-1)]: Done   1 out of   1 | elapsed:  6.6min finished\n"
     ]
    },
    {
     "name": "stdout",
     "output_type": "stream",
     "text": [
      "K-Fold #3\n",
      "Mean negativities for all classes: [0.331604528038296]\n",
      "Mean entropies for all classes: [4.7693481108202414e-15]\n",
      "              precision    recall  f1-score   support\n",
      "\n",
      "           0       0.73      0.38      0.50        50\n",
      "           1       0.39      0.74      0.51        27\n",
      "\n",
      "    accuracy                           0.51        77\n",
      "   macro avg       0.56      0.56      0.51        77\n",
      "weighted avg       0.61      0.51      0.50        77\n",
      "\n",
      "-------------------------------------------------------------------------------------------------------------------\n"
     ]
    },
    {
     "name": "stderr",
     "output_type": "stream",
     "text": [
      "[Parallel(n_jobs=-1)]: Using backend LokyBackend with 12 concurrent workers.\n",
      "[Parallel(n_jobs=-1)]: Done   1 out of   1 | elapsed:  6.6min finished\n"
     ]
    },
    {
     "name": "stdout",
     "output_type": "stream",
     "text": [
      "K-Fold #4\n",
      "Mean negativities for all classes: [0.32374156716543234]\n",
      "Mean entropies for all classes: [4.7070246206024914e-15]\n",
      "              precision    recall  f1-score   support\n",
      "\n",
      "           0       0.92      0.24      0.38        50\n",
      "           1       0.41      0.96      0.57        27\n",
      "\n",
      "    accuracy                           0.49        77\n",
      "   macro avg       0.66      0.60      0.48        77\n",
      "weighted avg       0.74      0.49      0.45        77\n",
      "\n",
      "-------------------------------------------------------------------------------------------------------------------\n"
     ]
    },
    {
     "name": "stderr",
     "output_type": "stream",
     "text": [
      "[Parallel(n_jobs=-1)]: Using backend LokyBackend with 12 concurrent workers.\n",
      "[Parallel(n_jobs=-1)]: Done   1 out of   1 | elapsed:  6.5min finished\n"
     ]
    },
    {
     "name": "stdout",
     "output_type": "stream",
     "text": [
      "K-Fold #5\n",
      "Mean negativities for all classes: [0.3189589406687491]\n",
      "Mean entropies for all classes: [4.837044161963132e-15]\n",
      "              precision    recall  f1-score   support\n",
      "\n",
      "           0       0.85      0.22      0.35        50\n",
      "           1       0.39      0.93      0.55        27\n",
      "\n",
      "    accuracy                           0.47        77\n",
      "   macro avg       0.62      0.57      0.45        77\n",
      "weighted avg       0.69      0.47      0.42        77\n",
      "\n",
      "-------------------------------------------------------------------------------------------------------------------\n"
     ]
    },
    {
     "name": "stderr",
     "output_type": "stream",
     "text": [
      "[Parallel(n_jobs=-1)]: Using backend LokyBackend with 12 concurrent workers.\n",
      "[Parallel(n_jobs=-1)]: Done   1 out of   1 | elapsed:  6.6min finished\n"
     ]
    },
    {
     "name": "stdout",
     "output_type": "stream",
     "text": [
      "K-Fold #6\n",
      "Mean negativities for all classes: [0.33315334462595797]\n",
      "Mean entropies for all classes: [4.972077587378735e-15]\n",
      "              precision    recall  f1-score   support\n",
      "\n",
      "           0       0.77      0.40      0.53        50\n",
      "           1       0.41      0.78      0.54        27\n",
      "\n",
      "    accuracy                           0.53        77\n",
      "   macro avg       0.59      0.59      0.53        77\n",
      "weighted avg       0.64      0.53      0.53        77\n",
      "\n",
      "-------------------------------------------------------------------------------------------------------------------\n"
     ]
    },
    {
     "name": "stderr",
     "output_type": "stream",
     "text": [
      "[Parallel(n_jobs=-1)]: Using backend LokyBackend with 12 concurrent workers.\n",
      "[Parallel(n_jobs=-1)]: Done   1 out of   1 | elapsed:  6.6min finished\n"
     ]
    },
    {
     "name": "stdout",
     "output_type": "stream",
     "text": [
      "K-Fold #7\n",
      "Mean negativities for all classes: [0.3269603943736489]\n",
      "Mean entropies for all classes: [4.642830955381676e-15]\n",
      "              precision    recall  f1-score   support\n",
      "\n",
      "           0       0.70      0.28      0.40        50\n",
      "           1       0.37      0.78      0.50        27\n",
      "\n",
      "    accuracy                           0.45        77\n",
      "   macro avg       0.53      0.53      0.45        77\n",
      "weighted avg       0.58      0.45      0.44        77\n",
      "\n",
      "-------------------------------------------------------------------------------------------------------------------\n"
     ]
    },
    {
     "name": "stderr",
     "output_type": "stream",
     "text": [
      "[Parallel(n_jobs=-1)]: Using backend LokyBackend with 12 concurrent workers.\n",
      "[Parallel(n_jobs=-1)]: Done   1 out of   1 | elapsed:  6.6min finished\n"
     ]
    },
    {
     "name": "stdout",
     "output_type": "stream",
     "text": [
      "K-Fold #8\n",
      "Mean negativities for all classes: [0.3302332988727034]\n",
      "Mean entropies for all classes: [4.750197002037926e-15]\n",
      "              precision    recall  f1-score   support\n",
      "\n",
      "           0       0.65      0.26      0.37        50\n",
      "           1       0.34      0.73      0.46        26\n",
      "\n",
      "    accuracy                           0.42        76\n",
      "   macro avg       0.49      0.50      0.42        76\n",
      "weighted avg       0.54      0.42      0.40        76\n",
      "\n",
      "-------------------------------------------------------------------------------------------------------------------\n"
     ]
    },
    {
     "name": "stderr",
     "output_type": "stream",
     "text": [
      "[Parallel(n_jobs=-1)]: Using backend LokyBackend with 12 concurrent workers.\n",
      "[Parallel(n_jobs=-1)]: Done   1 out of   1 | elapsed:  6.6min finished\n"
     ]
    },
    {
     "name": "stdout",
     "output_type": "stream",
     "text": [
      "K-Fold #9\n",
      "Mean negativities for all classes: [0.3270386426187171]\n",
      "Mean entropies for all classes: [4.7732357609885226e-15]\n",
      "              precision    recall  f1-score   support\n",
      "\n",
      "           0       0.89      0.32      0.47        50\n",
      "           1       0.41      0.92      0.57        26\n",
      "\n",
      "    accuracy                           0.53        76\n",
      "   macro avg       0.65      0.62      0.52        76\n",
      "weighted avg       0.73      0.53      0.51        76\n",
      "\n",
      "-------------------------------------------------------------------------------------------------------------------\n",
      "AVG: Scores = 0.4960355434039644 F1-Scores = 0.49074248127096987 Negativity = [0.3349433209404804, 0.3329675932658147] Entropy = [4.608915902255883e-15, 4.633289840597538e-15]\n"
     ]
    },
    {
     "name": "stderr",
     "output_type": "stream",
     "text": [
      "[Parallel(n_jobs=-1)]: Using backend LokyBackend with 12 concurrent workers.\n",
      "[Parallel(n_jobs=-1)]: Done   1 out of   1 | elapsed:  6.6min finished\n"
     ]
    },
    {
     "name": "stdout",
     "output_type": "stream",
     "text": [
      "K-Fold #0\n",
      "Mean negativities for all classes: [0.3310825772268741]\n",
      "Mean entropies for all classes: [4.820419337443567e-15]\n",
      "              precision    recall  f1-score   support\n",
      "\n",
      "           0       0.80      0.32      0.46        50\n",
      "           1       0.40      0.85      0.55        27\n",
      "\n",
      "    accuracy                           0.51        77\n",
      "   macro avg       0.60      0.59      0.50        77\n",
      "weighted avg       0.66      0.51      0.49        77\n",
      "\n",
      "-------------------------------------------------------------------------------------------------------------------\n"
     ]
    },
    {
     "name": "stderr",
     "output_type": "stream",
     "text": [
      "[Parallel(n_jobs=-1)]: Using backend LokyBackend with 12 concurrent workers.\n",
      "[Parallel(n_jobs=-1)]: Done   1 out of   1 | elapsed:  6.6min finished\n"
     ]
    },
    {
     "name": "stdout",
     "output_type": "stream",
     "text": [
      "K-Fold #1\n",
      "Mean negativities for all classes: [0.33159802558868356]\n",
      "Mean entropies for all classes: [4.8520725877378454e-15]\n",
      "              precision    recall  f1-score   support\n",
      "\n",
      "           0       0.79      0.38      0.51        50\n",
      "           1       0.42      0.81      0.55        27\n",
      "\n",
      "    accuracy                           0.53        77\n",
      "   macro avg       0.60      0.60      0.53        77\n",
      "weighted avg       0.66      0.53      0.53        77\n",
      "\n",
      "-------------------------------------------------------------------------------------------------------------------\n"
     ]
    },
    {
     "name": "stderr",
     "output_type": "stream",
     "text": [
      "[Parallel(n_jobs=-1)]: Using backend LokyBackend with 12 concurrent workers.\n",
      "[Parallel(n_jobs=-1)]: Done   1 out of   1 | elapsed:  6.6min finished\n"
     ]
    },
    {
     "name": "stdout",
     "output_type": "stream",
     "text": [
      "K-Fold #2\n",
      "Mean negativities for all classes: [0.32954275318379894]\n",
      "Mean entropies for all classes: [4.715927342403546e-15]\n",
      "              precision    recall  f1-score   support\n",
      "\n",
      "           0       0.75      0.30      0.43        50\n",
      "           1       0.39      0.81      0.52        27\n",
      "\n",
      "    accuracy                           0.48        77\n",
      "   macro avg       0.57      0.56      0.48        77\n",
      "weighted avg       0.62      0.48      0.46        77\n",
      "\n",
      "-------------------------------------------------------------------------------------------------------------------\n"
     ]
    },
    {
     "name": "stderr",
     "output_type": "stream",
     "text": [
      "[Parallel(n_jobs=-1)]: Using backend LokyBackend with 12 concurrent workers.\n",
      "[Parallel(n_jobs=-1)]: Done   1 out of   1 | elapsed:  6.6min finished\n"
     ]
    },
    {
     "name": "stdout",
     "output_type": "stream",
     "text": [
      "K-Fold #3\n",
      "Mean negativities for all classes: [0.33062642606870246]\n",
      "Mean entropies for all classes: [4.490129766985537e-15]\n",
      "              precision    recall  f1-score   support\n",
      "\n",
      "           0       0.77      0.34      0.47        50\n",
      "           1       0.40      0.81      0.54        27\n",
      "\n",
      "    accuracy                           0.51        77\n",
      "   macro avg       0.59      0.58      0.50        77\n",
      "weighted avg       0.64      0.51      0.49        77\n",
      "\n",
      "-------------------------------------------------------------------------------------------------------------------\n"
     ]
    },
    {
     "name": "stderr",
     "output_type": "stream",
     "text": [
      "[Parallel(n_jobs=-1)]: Using backend LokyBackend with 12 concurrent workers.\n",
      "[Parallel(n_jobs=-1)]: Done   1 out of   1 | elapsed:  6.6min finished\n"
     ]
    },
    {
     "name": "stdout",
     "output_type": "stream",
     "text": [
      "K-Fold #4\n",
      "Mean negativities for all classes: [0.3794562127530509]\n",
      "Mean entropies for all classes: [-1.7529394812630014e-15]\n",
      "              precision    recall  f1-score   support\n",
      "\n",
      "           0       0.66      0.96      0.78        50\n",
      "           1       0.50      0.07      0.13        27\n",
      "\n",
      "    accuracy                           0.65        77\n",
      "   macro avg       0.58      0.52      0.45        77\n",
      "weighted avg       0.60      0.65      0.55        77\n",
      "\n",
      "-------------------------------------------------------------------------------------------------------------------\n"
     ]
    },
    {
     "name": "stderr",
     "output_type": "stream",
     "text": [
      "[Parallel(n_jobs=-1)]: Using backend LokyBackend with 12 concurrent workers.\n",
      "[Parallel(n_jobs=-1)]: Done   1 out of   1 | elapsed:  6.6min finished\n"
     ]
    },
    {
     "name": "stdout",
     "output_type": "stream",
     "text": [
      "K-Fold #5\n",
      "Mean negativities for all classes: [0.3242804812848461]\n",
      "Mean entropies for all classes: [4.72339302975385e-15]\n",
      "              precision    recall  f1-score   support\n",
      "\n",
      "           0       0.92      0.22      0.35        50\n",
      "           1       0.40      0.96      0.57        27\n",
      "\n",
      "    accuracy                           0.48        77\n",
      "   macro avg       0.66      0.59      0.46        77\n",
      "weighted avg       0.74      0.48      0.43        77\n",
      "\n",
      "-------------------------------------------------------------------------------------------------------------------\n"
     ]
    },
    {
     "name": "stderr",
     "output_type": "stream",
     "text": [
      "[Parallel(n_jobs=-1)]: Using backend LokyBackend with 12 concurrent workers.\n",
      "[Parallel(n_jobs=-1)]: Done   1 out of   1 | elapsed:  6.6min finished\n"
     ]
    },
    {
     "name": "stdout",
     "output_type": "stream",
     "text": [
      "K-Fold #6\n",
      "Mean negativities for all classes: [0.33135218805546307]\n",
      "Mean entropies for all classes: [4.7529390359381075e-15]\n",
      "              precision    recall  f1-score   support\n",
      "\n",
      "           0       0.75      0.36      0.49        50\n",
      "           1       0.40      0.78      0.53        27\n",
      "\n",
      "    accuracy                           0.51        77\n",
      "   macro avg       0.57      0.57      0.51        77\n",
      "weighted avg       0.63      0.51      0.50        77\n",
      "\n",
      "-------------------------------------------------------------------------------------------------------------------\n"
     ]
    },
    {
     "name": "stderr",
     "output_type": "stream",
     "text": [
      "[Parallel(n_jobs=-1)]: Using backend LokyBackend with 12 concurrent workers.\n",
      "[Parallel(n_jobs=-1)]: Done   1 out of   1 | elapsed:  6.6min finished\n"
     ]
    },
    {
     "name": "stdout",
     "output_type": "stream",
     "text": [
      "K-Fold #7\n",
      "Mean negativities for all classes: [0.3310916259423387]\n",
      "Mean entropies for all classes: [4.865223425659178e-15]\n",
      "              precision    recall  f1-score   support\n",
      "\n",
      "           0       0.55      0.24      0.33        50\n",
      "           1       0.31      0.63      0.41        27\n",
      "\n",
      "    accuracy                           0.38        77\n",
      "   macro avg       0.43      0.43      0.37        77\n",
      "weighted avg       0.46      0.38      0.36        77\n",
      "\n",
      "-------------------------------------------------------------------------------------------------------------------\n"
     ]
    },
    {
     "name": "stderr",
     "output_type": "stream",
     "text": [
      "[Parallel(n_jobs=-1)]: Using backend LokyBackend with 12 concurrent workers.\n",
      "[Parallel(n_jobs=-1)]: Done   1 out of   1 | elapsed:  6.6min finished\n"
     ]
    },
    {
     "name": "stdout",
     "output_type": "stream",
     "text": [
      "K-Fold #8\n",
      "Mean negativities for all classes: [0.3306539167254798]\n",
      "Mean entropies for all classes: [4.825424537282249e-15]\n",
      "              precision    recall  f1-score   support\n",
      "\n",
      "           0       0.68      0.34      0.45        50\n",
      "           1       0.35      0.69      0.47        26\n",
      "\n",
      "    accuracy                           0.46        76\n",
      "   macro avg       0.52      0.52      0.46        76\n",
      "weighted avg       0.57      0.46      0.46        76\n",
      "\n",
      "-------------------------------------------------------------------------------------------------------------------\n"
     ]
    },
    {
     "name": "stderr",
     "output_type": "stream",
     "text": [
      "[Parallel(n_jobs=-1)]: Using backend LokyBackend with 12 concurrent workers.\n",
      "[Parallel(n_jobs=-1)]: Done   1 out of   1 | elapsed:  6.6min finished\n"
     ]
    },
    {
     "name": "stdout",
     "output_type": "stream",
     "text": [
      "K-Fold #9\n",
      "Mean negativities for all classes: [0.32133194846361296]\n",
      "Mean entropies for all classes: [4.977844718950603e-15]\n",
      "              precision    recall  f1-score   support\n",
      "\n",
      "           0       0.80      0.16      0.27        50\n",
      "           1       0.36      0.92      0.52        26\n",
      "\n",
      "    accuracy                           0.42        76\n",
      "   macro avg       0.58      0.54      0.39        76\n",
      "weighted avg       0.65      0.42      0.35        76\n",
      "\n",
      "-------------------------------------------------------------------------------------------------------------------\n",
      "AVG: Scores = 0.4920539986329461 F1-Scores = 0.46638828433925583 Negativity = [0.3310825772268741, 0.33159802558868356] Entropy = [4.820419337443567e-15, 4.8520725877378454e-15]\n"
     ]
    },
    {
     "name": "stderr",
     "output_type": "stream",
     "text": [
      "[Parallel(n_jobs=-1)]: Using backend LokyBackend with 12 concurrent workers.\n",
      "[Parallel(n_jobs=-1)]: Done   1 out of   1 | elapsed:  6.6min finished\n"
     ]
    },
    {
     "name": "stdout",
     "output_type": "stream",
     "text": [
      "K-Fold #0\n",
      "Mean negativities for all classes: [0.33245837314794974]\n",
      "Mean entropies for all classes: [5.057825649836872e-15]\n",
      "              precision    recall  f1-score   support\n",
      "\n",
      "           0       0.86      0.38      0.53        50\n",
      "           1       0.44      0.89      0.59        27\n",
      "\n",
      "    accuracy                           0.56        77\n",
      "   macro avg       0.65      0.63      0.56        77\n",
      "weighted avg       0.71      0.56      0.55        77\n",
      "\n",
      "-------------------------------------------------------------------------------------------------------------------\n"
     ]
    },
    {
     "name": "stderr",
     "output_type": "stream",
     "text": [
      "[Parallel(n_jobs=-1)]: Using backend LokyBackend with 12 concurrent workers.\n",
      "[Parallel(n_jobs=-1)]: Done   1 out of   1 | elapsed:  6.6min finished\n"
     ]
    },
    {
     "name": "stdout",
     "output_type": "stream",
     "text": [
      "K-Fold #1\n",
      "Mean negativities for all classes: [0.33203380380697556]\n",
      "Mean entropies for all classes: [4.526326849513587e-15]\n",
      "              precision    recall  f1-score   support\n",
      "\n",
      "           0       0.78      0.28      0.41        50\n",
      "           1       0.39      0.85      0.53        27\n",
      "\n",
      "    accuracy                           0.48        77\n",
      "   macro avg       0.58      0.57      0.47        77\n",
      "weighted avg       0.64      0.48      0.45        77\n",
      "\n",
      "-------------------------------------------------------------------------------------------------------------------\n"
     ]
    },
    {
     "name": "stderr",
     "output_type": "stream",
     "text": [
      "[Parallel(n_jobs=-1)]: Using backend LokyBackend with 12 concurrent workers.\n",
      "[Parallel(n_jobs=-1)]: Done   1 out of   1 | elapsed:  6.6min finished\n"
     ]
    },
    {
     "name": "stdout",
     "output_type": "stream",
     "text": [
      "K-Fold #2\n",
      "Mean negativities for all classes: [0.33256971633757926]\n",
      "Mean entropies for all classes: [4.623319044542142e-15]\n",
      "              precision    recall  f1-score   support\n",
      "\n",
      "           0       0.69      0.40      0.51        50\n",
      "           1       0.38      0.67      0.48        27\n",
      "\n",
      "    accuracy                           0.49        77\n",
      "   macro avg       0.53      0.53      0.49        77\n",
      "weighted avg       0.58      0.49      0.50        77\n",
      "\n",
      "-------------------------------------------------------------------------------------------------------------------\n"
     ]
    },
    {
     "name": "stderr",
     "output_type": "stream",
     "text": [
      "[Parallel(n_jobs=-1)]: Using backend LokyBackend with 12 concurrent workers.\n",
      "[Parallel(n_jobs=-1)]: Done   1 out of   1 | elapsed:  6.6min finished\n"
     ]
    },
    {
     "name": "stdout",
     "output_type": "stream",
     "text": [
      "K-Fold #3\n",
      "Mean negativities for all classes: [0.32845128169485754]\n",
      "Mean entropies for all classes: [4.652827272672505e-15]\n",
      "              precision    recall  f1-score   support\n",
      "\n",
      "           0       0.68      0.26      0.38        50\n",
      "           1       0.36      0.78      0.49        27\n",
      "\n",
      "    accuracy                           0.44        77\n",
      "   macro avg       0.52      0.52      0.44        77\n",
      "weighted avg       0.57      0.44      0.42        77\n",
      "\n",
      "-------------------------------------------------------------------------------------------------------------------\n"
     ]
    },
    {
     "name": "stderr",
     "output_type": "stream",
     "text": [
      "[Parallel(n_jobs=-1)]: Using backend LokyBackend with 12 concurrent workers.\n",
      "[Parallel(n_jobs=-1)]: Done   1 out of   1 | elapsed:  6.6min finished\n"
     ]
    },
    {
     "name": "stdout",
     "output_type": "stream",
     "text": [
      "K-Fold #4\n",
      "Mean negativities for all classes: [0.3292732260225863]\n",
      "Mean entropies for all classes: [4.575888301649386e-15]\n",
      "              precision    recall  f1-score   support\n",
      "\n",
      "           0       0.60      0.18      0.28        50\n",
      "           1       0.34      0.78      0.47        27\n",
      "\n",
      "    accuracy                           0.39        77\n",
      "   macro avg       0.47      0.48      0.37        77\n",
      "weighted avg       0.51      0.39      0.35        77\n",
      "\n",
      "-------------------------------------------------------------------------------------------------------------------\n"
     ]
    },
    {
     "name": "stderr",
     "output_type": "stream",
     "text": [
      "[Parallel(n_jobs=-1)]: Using backend LokyBackend with 12 concurrent workers.\n",
      "[Parallel(n_jobs=-1)]: Done   1 out of   1 | elapsed:  6.5min finished\n"
     ]
    },
    {
     "name": "stdout",
     "output_type": "stream",
     "text": [
      "K-Fold #5\n",
      "Mean negativities for all classes: [0.33696324612224143]\n",
      "Mean entropies for all classes: [4.560218403711539e-15]\n",
      "              precision    recall  f1-score   support\n",
      "\n",
      "           0       0.59      0.32      0.42        50\n",
      "           1       0.32      0.59      0.42        27\n",
      "\n",
      "    accuracy                           0.42        77\n",
      "   macro avg       0.46      0.46      0.42        77\n",
      "weighted avg       0.50      0.42      0.42        77\n",
      "\n",
      "-------------------------------------------------------------------------------------------------------------------\n"
     ]
    },
    {
     "name": "stderr",
     "output_type": "stream",
     "text": [
      "[Parallel(n_jobs=-1)]: Using backend LokyBackend with 12 concurrent workers.\n",
      "[Parallel(n_jobs=-1)]: Done   1 out of   1 | elapsed:  6.6min finished\n"
     ]
    },
    {
     "name": "stdout",
     "output_type": "stream",
     "text": [
      "K-Fold #6\n",
      "Mean negativities for all classes: [0.32506189501044175]\n",
      "Mean entropies for all classes: [4.679828587132332e-15]\n",
      "              precision    recall  f1-score   support\n",
      "\n",
      "           0       0.83      0.30      0.44        50\n",
      "           1       0.41      0.89      0.56        27\n",
      "\n",
      "    accuracy                           0.51        77\n",
      "   macro avg       0.62      0.59      0.50        77\n",
      "weighted avg       0.68      0.51      0.48        77\n",
      "\n",
      "-------------------------------------------------------------------------------------------------------------------\n"
     ]
    },
    {
     "name": "stderr",
     "output_type": "stream",
     "text": [
      "[Parallel(n_jobs=-1)]: Using backend LokyBackend with 12 concurrent workers.\n",
      "[Parallel(n_jobs=-1)]: Done   1 out of   1 | elapsed:  6.6min finished\n"
     ]
    },
    {
     "name": "stdout",
     "output_type": "stream",
     "text": [
      "K-Fold #7\n",
      "Mean negativities for all classes: [0.32474070998147275]\n",
      "Mean entropies for all classes: [4.664843094731834e-15]\n",
      "              precision    recall  f1-score   support\n",
      "\n",
      "           0       0.93      0.28      0.43        50\n",
      "           1       0.42      0.96      0.58        27\n",
      "\n",
      "    accuracy                           0.52        77\n",
      "   macro avg       0.68      0.62      0.51        77\n",
      "weighted avg       0.75      0.52      0.48        77\n",
      "\n",
      "-------------------------------------------------------------------------------------------------------------------\n"
     ]
    },
    {
     "name": "stderr",
     "output_type": "stream",
     "text": [
      "[Parallel(n_jobs=-1)]: Using backend LokyBackend with 12 concurrent workers.\n",
      "[Parallel(n_jobs=-1)]: Done   1 out of   1 | elapsed:  6.6min finished\n"
     ]
    },
    {
     "name": "stdout",
     "output_type": "stream",
     "text": [
      "K-Fold #8\n",
      "Mean negativities for all classes: [0.3350996377022594]\n",
      "Mean entropies for all classes: [4.839879607004965e-15]\n",
      "              precision    recall  f1-score   support\n",
      "\n",
      "           0       0.79      0.38      0.51        50\n",
      "           1       0.40      0.81      0.54        26\n",
      "\n",
      "    accuracy                           0.53        76\n",
      "   macro avg       0.60      0.59      0.53        76\n",
      "weighted avg       0.66      0.53      0.52        76\n",
      "\n",
      "-------------------------------------------------------------------------------------------------------------------\n"
     ]
    },
    {
     "name": "stderr",
     "output_type": "stream",
     "text": [
      "[Parallel(n_jobs=-1)]: Using backend LokyBackend with 12 concurrent workers.\n",
      "[Parallel(n_jobs=-1)]: Done   1 out of   1 | elapsed:  6.8min finished\n"
     ]
    },
    {
     "name": "stdout",
     "output_type": "stream",
     "text": [
      "K-Fold #9\n",
      "Mean negativities for all classes: [0.32974989278109024]\n",
      "Mean entropies for all classes: [4.736317521796668e-15]\n",
      "              precision    recall  f1-score   support\n",
      "\n",
      "           0       0.81      0.26      0.39        50\n",
      "           1       0.38      0.88      0.53        26\n",
      "\n",
      "    accuracy                           0.47        76\n",
      "   macro avg       0.60      0.57      0.46        76\n",
      "weighted avg       0.67      0.47      0.44        76\n",
      "\n",
      "-------------------------------------------------------------------------------------------------------------------\n",
      "AVG: Scores = 0.4805194805194805 F1-Scores = 0.47461027499466724 Negativity = [0.33245837314794974, 0.33203380380697556] Entropy = [5.057825649836872e-15, 4.526326849513587e-15]\n"
     ]
    },
    {
     "name": "stderr",
     "output_type": "stream",
     "text": [
      "[Parallel(n_jobs=-1)]: Using backend LokyBackend with 12 concurrent workers.\n",
      "[Parallel(n_jobs=-1)]: Done   1 out of   1 | elapsed:  6.6min finished\n"
     ]
    },
    {
     "name": "stdout",
     "output_type": "stream",
     "text": [
      "K-Fold #0\n",
      "Mean negativities for all classes: [0.33175941925996644]\n",
      "Mean entropies for all classes: [4.991879708102027e-15]\n",
      "              precision    recall  f1-score   support\n",
      "\n",
      "           0       0.83      0.38      0.52        50\n",
      "           1       0.43      0.85      0.57        27\n",
      "\n",
      "    accuracy                           0.55        77\n",
      "   macro avg       0.63      0.62      0.54        77\n",
      "weighted avg       0.69      0.55      0.54        77\n",
      "\n",
      "-------------------------------------------------------------------------------------------------------------------\n"
     ]
    },
    {
     "name": "stderr",
     "output_type": "stream",
     "text": [
      "[Parallel(n_jobs=-1)]: Using backend LokyBackend with 12 concurrent workers.\n",
      "[Parallel(n_jobs=-1)]: Done   1 out of   1 | elapsed:  6.7min finished\n"
     ]
    },
    {
     "name": "stdout",
     "output_type": "stream",
     "text": [
      "K-Fold #1\n",
      "Mean negativities for all classes: [0.32927640534401104]\n",
      "Mean entropies for all classes: [4.966427656940524e-15]\n",
      "              precision    recall  f1-score   support\n",
      "\n",
      "           0       0.78      0.36      0.49        50\n",
      "           1       0.41      0.81      0.54        27\n",
      "\n",
      "    accuracy                           0.52        77\n",
      "   macro avg       0.60      0.59      0.52        77\n",
      "weighted avg       0.65      0.52      0.51        77\n",
      "\n",
      "-------------------------------------------------------------------------------------------------------------------\n"
     ]
    },
    {
     "name": "stderr",
     "output_type": "stream",
     "text": [
      "[Parallel(n_jobs=-1)]: Using backend LokyBackend with 12 concurrent workers.\n",
      "[Parallel(n_jobs=-1)]: Done   1 out of   1 | elapsed:  6.6min finished\n"
     ]
    },
    {
     "name": "stdout",
     "output_type": "stream",
     "text": [
      "K-Fold #2\n",
      "Mean negativities for all classes: [0.3304134227660029]\n",
      "Mean entropies for all classes: [4.6121492990418795e-15]\n",
      "              precision    recall  f1-score   support\n",
      "\n",
      "           0       0.84      0.32      0.46        50\n",
      "           1       0.41      0.89      0.56        27\n",
      "\n",
      "    accuracy                           0.52        77\n",
      "   macro avg       0.63      0.60      0.51        77\n",
      "weighted avg       0.69      0.52      0.50        77\n",
      "\n",
      "-------------------------------------------------------------------------------------------------------------------\n"
     ]
    },
    {
     "name": "stderr",
     "output_type": "stream",
     "text": [
      "[Parallel(n_jobs=-1)]: Using backend LokyBackend with 12 concurrent workers.\n",
      "[Parallel(n_jobs=-1)]: Done   1 out of   1 | elapsed:  6.7min finished\n"
     ]
    },
    {
     "name": "stdout",
     "output_type": "stream",
     "text": [
      "K-Fold #3\n",
      "Mean negativities for all classes: [0.325969470361581]\n",
      "Mean entropies for all classes: [4.696124567271069e-15]\n",
      "              precision    recall  f1-score   support\n",
      "\n",
      "           0       0.72      0.26      0.38        50\n",
      "           1       0.37      0.81      0.51        27\n",
      "\n",
      "    accuracy                           0.45        77\n",
      "   macro avg       0.55      0.54      0.45        77\n",
      "weighted avg       0.60      0.45      0.43        77\n",
      "\n",
      "-------------------------------------------------------------------------------------------------------------------\n"
     ]
    },
    {
     "name": "stderr",
     "output_type": "stream",
     "text": [
      "[Parallel(n_jobs=-1)]: Using backend LokyBackend with 12 concurrent workers.\n",
      "[Parallel(n_jobs=-1)]: Done   1 out of   1 | elapsed:  6.6min finished\n"
     ]
    },
    {
     "name": "stdout",
     "output_type": "stream",
     "text": [
      "K-Fold #4\n",
      "Mean negativities for all classes: [0.3284275381239892]\n",
      "Mean entropies for all classes: [4.712227596813517e-15]\n",
      "              precision    recall  f1-score   support\n",
      "\n",
      "           0       0.84      0.32      0.46        50\n",
      "           1       0.41      0.89      0.56        27\n",
      "\n",
      "    accuracy                           0.52        77\n",
      "   macro avg       0.63      0.60      0.51        77\n",
      "weighted avg       0.69      0.52      0.50        77\n",
      "\n",
      "-------------------------------------------------------------------------------------------------------------------\n"
     ]
    },
    {
     "name": "stderr",
     "output_type": "stream",
     "text": [
      "[Parallel(n_jobs=-1)]: Using backend LokyBackend with 12 concurrent workers.\n",
      "[Parallel(n_jobs=-1)]: Done   1 out of   1 | elapsed:  6.6min finished\n"
     ]
    },
    {
     "name": "stdout",
     "output_type": "stream",
     "text": [
      "K-Fold #5\n",
      "Mean negativities for all classes: [0.3278023368377835]\n",
      "Mean entropies for all classes: [4.8203122345249425e-15]\n",
      "              precision    recall  f1-score   support\n",
      "\n",
      "           0       0.57      0.16      0.25        50\n",
      "           1       0.33      0.78      0.47        27\n",
      "\n",
      "    accuracy                           0.38        77\n",
      "   macro avg       0.45      0.47      0.36        77\n",
      "weighted avg       0.49      0.38      0.33        77\n",
      "\n",
      "-------------------------------------------------------------------------------------------------------------------\n"
     ]
    },
    {
     "name": "stderr",
     "output_type": "stream",
     "text": [
      "[Parallel(n_jobs=-1)]: Using backend LokyBackend with 12 concurrent workers.\n",
      "[Parallel(n_jobs=-1)]: Done   1 out of   1 | elapsed:  6.6min finished\n"
     ]
    },
    {
     "name": "stdout",
     "output_type": "stream",
     "text": [
      "K-Fold #6\n",
      "Mean negativities for all classes: [0.3344492956862042]\n",
      "Mean entropies for all classes: [4.676197859391123e-15]\n",
      "              precision    recall  f1-score   support\n",
      "\n",
      "           0       0.73      0.32      0.44        50\n",
      "           1       0.38      0.78      0.51        27\n",
      "\n",
      "    accuracy                           0.48        77\n",
      "   macro avg       0.55      0.55      0.48        77\n",
      "weighted avg       0.61      0.48      0.47        77\n",
      "\n",
      "-------------------------------------------------------------------------------------------------------------------\n"
     ]
    },
    {
     "name": "stderr",
     "output_type": "stream",
     "text": [
      "[Parallel(n_jobs=-1)]: Using backend LokyBackend with 12 concurrent workers.\n",
      "[Parallel(n_jobs=-1)]: Done   1 out of   1 | elapsed:  6.6min finished\n"
     ]
    },
    {
     "name": "stdout",
     "output_type": "stream",
     "text": [
      "K-Fold #7\n",
      "Mean negativities for all classes: [0.3260580545647836]\n",
      "Mean entropies for all classes: [4.41138524380338e-15]\n",
      "              precision    recall  f1-score   support\n",
      "\n",
      "           0       0.76      0.26      0.39        50\n",
      "           1       0.38      0.85      0.53        27\n",
      "\n",
      "    accuracy                           0.47        77\n",
      "   macro avg       0.57      0.56      0.46        77\n",
      "weighted avg       0.63      0.47      0.44        77\n",
      "\n",
      "-------------------------------------------------------------------------------------------------------------------\n"
     ]
    },
    {
     "name": "stderr",
     "output_type": "stream",
     "text": [
      "[Parallel(n_jobs=-1)]: Using backend LokyBackend with 12 concurrent workers.\n",
      "[Parallel(n_jobs=-1)]: Done   1 out of   1 | elapsed:  6.6min finished\n"
     ]
    },
    {
     "name": "stdout",
     "output_type": "stream",
     "text": [
      "K-Fold #8\n",
      "Mean negativities for all classes: [0.33399641630155713]\n",
      "Mean entropies for all classes: [4.8190321345672216e-15]\n",
      "              precision    recall  f1-score   support\n",
      "\n",
      "           0       0.69      0.40      0.51        50\n",
      "           1       0.36      0.65      0.47        26\n",
      "\n",
      "    accuracy                           0.49        76\n",
      "   macro avg       0.53      0.53      0.49        76\n",
      "weighted avg       0.58      0.49      0.49        76\n",
      "\n",
      "-------------------------------------------------------------------------------------------------------------------\n"
     ]
    },
    {
     "name": "stderr",
     "output_type": "stream",
     "text": [
      "[Parallel(n_jobs=-1)]: Using backend LokyBackend with 12 concurrent workers.\n",
      "[Parallel(n_jobs=-1)]: Done   1 out of   1 | elapsed:  6.7min finished\n"
     ]
    },
    {
     "name": "stdout",
     "output_type": "stream",
     "text": [
      "K-Fold #9\n",
      "Mean negativities for all classes: [0.33010971319939425]\n",
      "Mean entropies for all classes: [4.516685135232639e-15]\n",
      "              precision    recall  f1-score   support\n",
      "\n",
      "           0       0.60      0.24      0.34        50\n",
      "           1       0.32      0.69      0.44        26\n",
      "\n",
      "    accuracy                           0.39        76\n",
      "   macro avg       0.46      0.47      0.39        76\n",
      "weighted avg       0.50      0.39      0.38        76\n",
      "\n",
      "-------------------------------------------------------------------------------------------------------------------\n",
      "AVG: Scores = 0.4764695830485303 F1-Scores = 0.4709902112206329 Negativity = [0.33175941925996644, 0.32927640534401104] Entropy = [4.991879708102027e-15, 4.966427656940524e-15]\n"
     ]
    },
    {
     "name": "stderr",
     "output_type": "stream",
     "text": [
      "[Parallel(n_jobs=-1)]: Using backend LokyBackend with 12 concurrent workers.\n",
      "[Parallel(n_jobs=-1)]: Done   1 out of   1 | elapsed:  7.0min finished\n"
     ]
    },
    {
     "name": "stdout",
     "output_type": "stream",
     "text": [
      "K-Fold #0\n",
      "Mean negativities for all classes: [0.33198137854438536]\n",
      "Mean entropies for all classes: [4.7669528314718584e-15]\n",
      "              precision    recall  f1-score   support\n",
      "\n",
      "           0       0.76      0.32      0.45        50\n",
      "           1       0.39      0.81      0.53        27\n",
      "\n",
      "    accuracy                           0.49        77\n",
      "   macro avg       0.58      0.57      0.49        77\n",
      "weighted avg       0.63      0.49      0.48        77\n",
      "\n",
      "-------------------------------------------------------------------------------------------------------------------\n"
     ]
    },
    {
     "name": "stderr",
     "output_type": "stream",
     "text": [
      "[Parallel(n_jobs=-1)]: Using backend LokyBackend with 12 concurrent workers.\n",
      "[Parallel(n_jobs=-1)]: Done   1 out of   1 | elapsed:  6.9min finished\n"
     ]
    },
    {
     "name": "stdout",
     "output_type": "stream",
     "text": [
      "K-Fold #1\n",
      "Mean negativities for all classes: [0.3297367038897593]\n",
      "Mean entropies for all classes: [4.8792719505170744e-15]\n",
      "              precision    recall  f1-score   support\n",
      "\n",
      "           0       0.62      0.26      0.37        50\n",
      "           1       0.34      0.70      0.46        27\n",
      "\n",
      "    accuracy                           0.42        77\n",
      "   macro avg       0.48      0.48      0.41        77\n",
      "weighted avg       0.52      0.42      0.40        77\n",
      "\n",
      "-------------------------------------------------------------------------------------------------------------------\n"
     ]
    },
    {
     "name": "stderr",
     "output_type": "stream",
     "text": [
      "[Parallel(n_jobs=-1)]: Using backend LokyBackend with 12 concurrent workers.\n",
      "[Parallel(n_jobs=-1)]: Done   1 out of   1 | elapsed:  6.9min finished\n"
     ]
    },
    {
     "name": "stdout",
     "output_type": "stream",
     "text": [
      "K-Fold #2\n",
      "Mean negativities for all classes: [0.3254096010014258]\n",
      "Mean entropies for all classes: [4.978027943184115e-15]\n",
      "              precision    recall  f1-score   support\n",
      "\n",
      "           0       0.80      0.24      0.37        50\n",
      "           1       0.39      0.89      0.54        27\n",
      "\n",
      "    accuracy                           0.47        77\n",
      "   macro avg       0.59      0.56      0.45        77\n",
      "weighted avg       0.66      0.47      0.43        77\n",
      "\n",
      "-------------------------------------------------------------------------------------------------------------------\n"
     ]
    },
    {
     "name": "stderr",
     "output_type": "stream",
     "text": [
      "[Parallel(n_jobs=-1)]: Using backend LokyBackend with 12 concurrent workers.\n",
      "[Parallel(n_jobs=-1)]: Done   1 out of   1 | elapsed:  7.2min finished\n"
     ]
    },
    {
     "name": "stdout",
     "output_type": "stream",
     "text": [
      "K-Fold #3\n",
      "Mean negativities for all classes: [0.3331061539841563]\n",
      "Mean entropies for all classes: [4.7676609885280475e-15]\n",
      "              precision    recall  f1-score   support\n",
      "\n",
      "           0       0.83      0.40      0.54        50\n",
      "           1       0.43      0.85      0.58        27\n",
      "\n",
      "    accuracy                           0.56        77\n",
      "   macro avg       0.63      0.63      0.56        77\n",
      "weighted avg       0.69      0.56      0.55        77\n",
      "\n",
      "-------------------------------------------------------------------------------------------------------------------\n"
     ]
    },
    {
     "name": "stderr",
     "output_type": "stream",
     "text": [
      "[Parallel(n_jobs=-1)]: Using backend LokyBackend with 12 concurrent workers.\n",
      "[Parallel(n_jobs=-1)]: Done   1 out of   1 | elapsed:  6.9min finished\n"
     ]
    },
    {
     "name": "stdout",
     "output_type": "stream",
     "text": [
      "K-Fold #4\n",
      "Mean negativities for all classes: [0.3304963887803936]\n",
      "Mean entropies for all classes: [4.734781703303892e-15]\n",
      "              precision    recall  f1-score   support\n",
      "\n",
      "           0       0.69      0.40      0.51        50\n",
      "           1       0.38      0.67      0.48        27\n",
      "\n",
      "    accuracy                           0.49        77\n",
      "   macro avg       0.53      0.53      0.49        77\n",
      "weighted avg       0.58      0.49      0.50        77\n",
      "\n",
      "-------------------------------------------------------------------------------------------------------------------\n"
     ]
    },
    {
     "name": "stderr",
     "output_type": "stream",
     "text": [
      "[Parallel(n_jobs=-1)]: Using backend LokyBackend with 12 concurrent workers.\n",
      "[Parallel(n_jobs=-1)]: Done   1 out of   1 | elapsed:  6.9min finished\n"
     ]
    },
    {
     "name": "stdout",
     "output_type": "stream",
     "text": [
      "K-Fold #5\n",
      "Mean negativities for all classes: [0.33860535232616584]\n",
      "Mean entropies for all classes: [4.535748109877241e-15]\n",
      "              precision    recall  f1-score   support\n",
      "\n",
      "           0       0.72      0.36      0.48        50\n",
      "           1       0.38      0.74      0.51        27\n",
      "\n",
      "    accuracy                           0.49        77\n",
      "   macro avg       0.55      0.55      0.49        77\n",
      "weighted avg       0.60      0.49      0.49        77\n",
      "\n",
      "-------------------------------------------------------------------------------------------------------------------\n"
     ]
    },
    {
     "name": "stderr",
     "output_type": "stream",
     "text": [
      "[Parallel(n_jobs=-1)]: Using backend LokyBackend with 12 concurrent workers.\n",
      "[Parallel(n_jobs=-1)]: Done   1 out of   1 | elapsed:  7.0min finished\n"
     ]
    },
    {
     "name": "stdout",
     "output_type": "stream",
     "text": [
      "K-Fold #6\n",
      "Mean negativities for all classes: [0.325426753112249]\n",
      "Mean entropies for all classes: [4.879237286470094e-15]\n",
      "              precision    recall  f1-score   support\n",
      "\n",
      "           0       0.88      0.28      0.42        50\n",
      "           1       0.41      0.93      0.57        27\n",
      "\n",
      "    accuracy                           0.51        77\n",
      "   macro avg       0.64      0.60      0.50        77\n",
      "weighted avg       0.71      0.51      0.47        77\n",
      "\n",
      "-------------------------------------------------------------------------------------------------------------------\n"
     ]
    },
    {
     "name": "stderr",
     "output_type": "stream",
     "text": [
      "[Parallel(n_jobs=-1)]: Using backend LokyBackend with 12 concurrent workers.\n",
      "[Parallel(n_jobs=-1)]: Done   1 out of   1 | elapsed:  6.9min finished\n"
     ]
    },
    {
     "name": "stdout",
     "output_type": "stream",
     "text": [
      "K-Fold #7\n",
      "Mean negativities for all classes: [0.3208077539993256]\n",
      "Mean entropies for all classes: [4.735073528114939e-15]\n",
      "              precision    recall  f1-score   support\n",
      "\n",
      "           0       0.92      0.22      0.35        50\n",
      "           1       0.40      0.96      0.57        27\n",
      "\n",
      "    accuracy                           0.48        77\n",
      "   macro avg       0.66      0.59      0.46        77\n",
      "weighted avg       0.74      0.48      0.43        77\n",
      "\n",
      "-------------------------------------------------------------------------------------------------------------------\n"
     ]
    },
    {
     "name": "stderr",
     "output_type": "stream",
     "text": [
      "[Parallel(n_jobs=-1)]: Using backend LokyBackend with 12 concurrent workers.\n",
      "[Parallel(n_jobs=-1)]: Done   1 out of   1 | elapsed:  6.9min finished\n"
     ]
    },
    {
     "name": "stdout",
     "output_type": "stream",
     "text": [
      "K-Fold #8\n",
      "Mean negativities for all classes: [0.3222068081945655]\n",
      "Mean entropies for all classes: [4.473629713810701e-15]\n",
      "              precision    recall  f1-score   support\n",
      "\n",
      "           0       1.00      0.20      0.33        50\n",
      "           1       0.39      1.00      0.57        26\n",
      "\n",
      "    accuracy                           0.47        76\n",
      "   macro avg       0.70      0.60      0.45        76\n",
      "weighted avg       0.79      0.47      0.41        76\n",
      "\n",
      "-------------------------------------------------------------------------------------------------------------------\n"
     ]
    },
    {
     "name": "stderr",
     "output_type": "stream",
     "text": [
      "[Parallel(n_jobs=-1)]: Using backend LokyBackend with 12 concurrent workers.\n",
      "[Parallel(n_jobs=-1)]: Done   1 out of   1 | elapsed:  6.9min finished\n"
     ]
    },
    {
     "name": "stdout",
     "output_type": "stream",
     "text": [
      "K-Fold #9\n",
      "Mean negativities for all classes: [0.33316663353122516]\n",
      "Mean entropies for all classes: [4.739772958694098e-15]\n",
      "              precision    recall  f1-score   support\n",
      "\n",
      "           0       0.70      0.28      0.40        50\n",
      "           1       0.36      0.77      0.49        26\n",
      "\n",
      "    accuracy                           0.45        76\n",
      "   macro avg       0.53      0.52      0.44        76\n",
      "weighted avg       0.58      0.45      0.43        76\n",
      "\n",
      "-------------------------------------------------------------------------------------------------------------------\n",
      "AVG: Scores = 0.4830143540669857 F1-Scores = 0.4750222271044066 Negativity = [0.33198137854438536, 0.3297367038897593] Entropy = [4.7669528314718584e-15, 4.8792719505170744e-15]\n"
     ]
    },
    {
     "name": "stderr",
     "output_type": "stream",
     "text": [
      "[Parallel(n_jobs=-1)]: Using backend LokyBackend with 12 concurrent workers.\n",
      "[Parallel(n_jobs=-1)]: Done   1 out of   1 | elapsed:  6.9min finished\n"
     ]
    },
    {
     "name": "stdout",
     "output_type": "stream",
     "text": [
      "K-Fold #0\n",
      "Mean negativities for all classes: [0.32757140253606837]\n",
      "Mean entropies for all classes: [4.72433167726651e-15]\n",
      "              precision    recall  f1-score   support\n",
      "\n",
      "           0       0.71      0.24      0.36        50\n",
      "           1       0.37      0.81      0.51        27\n",
      "\n",
      "    accuracy                           0.44        77\n",
      "   macro avg       0.54      0.53      0.43        77\n",
      "weighted avg       0.59      0.44      0.41        77\n",
      "\n",
      "-------------------------------------------------------------------------------------------------------------------\n"
     ]
    },
    {
     "name": "stderr",
     "output_type": "stream",
     "text": [
      "[Parallel(n_jobs=-1)]: Using backend LokyBackend with 12 concurrent workers.\n",
      "[Parallel(n_jobs=-1)]: Done   1 out of   1 | elapsed:  7.3min finished\n"
     ]
    },
    {
     "name": "stdout",
     "output_type": "stream",
     "text": [
      "K-Fold #1\n",
      "Mean negativities for all classes: [0.3317300513632007]\n",
      "Mean entropies for all classes: [4.696540440986547e-15]\n",
      "              precision    recall  f1-score   support\n",
      "\n",
      "           0       0.71      0.30      0.42        50\n",
      "           1       0.38      0.78      0.51        27\n",
      "\n",
      "    accuracy                           0.47        77\n",
      "   macro avg       0.54      0.54      0.46        77\n",
      "weighted avg       0.60      0.47      0.45        77\n",
      "\n",
      "-------------------------------------------------------------------------------------------------------------------\n"
     ]
    },
    {
     "name": "stderr",
     "output_type": "stream",
     "text": [
      "[Parallel(n_jobs=-1)]: Using backend LokyBackend with 12 concurrent workers.\n",
      "[Parallel(n_jobs=-1)]: Done   1 out of   1 | elapsed:  7.2min finished\n"
     ]
    },
    {
     "name": "stdout",
     "output_type": "stream",
     "text": [
      "K-Fold #2\n",
      "Mean negativities for all classes: [0.3264229348063987]\n",
      "Mean entropies for all classes: [4.504888964625841e-15]\n",
      "              precision    recall  f1-score   support\n",
      "\n",
      "           0       0.79      0.30      0.43        50\n",
      "           1       0.40      0.85      0.54        27\n",
      "\n",
      "    accuracy                           0.49        77\n",
      "   macro avg       0.59      0.58      0.49        77\n",
      "weighted avg       0.65      0.49      0.47        77\n",
      "\n",
      "-------------------------------------------------------------------------------------------------------------------\n"
     ]
    },
    {
     "name": "stderr",
     "output_type": "stream",
     "text": [
      "[Parallel(n_jobs=-1)]: Using backend LokyBackend with 12 concurrent workers.\n",
      "[Parallel(n_jobs=-1)]: Done   1 out of   1 | elapsed:  6.8min finished\n"
     ]
    },
    {
     "name": "stdout",
     "output_type": "stream",
     "text": [
      "K-Fold #3\n",
      "Mean negativities for all classes: [0.3296377954937521]\n",
      "Mean entropies for all classes: [4.659525727037307e-15]\n",
      "              precision    recall  f1-score   support\n",
      "\n",
      "           0       0.80      0.16      0.27        50\n",
      "           1       0.37      0.93      0.53        27\n",
      "\n",
      "    accuracy                           0.43        77\n",
      "   macro avg       0.59      0.54      0.40        77\n",
      "weighted avg       0.65      0.43      0.36        77\n",
      "\n",
      "-------------------------------------------------------------------------------------------------------------------\n"
     ]
    },
    {
     "name": "stderr",
     "output_type": "stream",
     "text": [
      "[Parallel(n_jobs=-1)]: Using backend LokyBackend with 12 concurrent workers.\n",
      "[Parallel(n_jobs=-1)]: Done   1 out of   1 | elapsed:  6.6min finished\n"
     ]
    },
    {
     "name": "stdout",
     "output_type": "stream",
     "text": [
      "K-Fold #4\n",
      "Mean negativities for all classes: [0.33187712355323856]\n",
      "Mean entropies for all classes: [4.585430370894883e-15]\n",
      "              precision    recall  f1-score   support\n",
      "\n",
      "           0       0.73      0.32      0.44        50\n",
      "           1       0.38      0.78      0.51        27\n",
      "\n",
      "    accuracy                           0.48        77\n",
      "   macro avg       0.55      0.55      0.48        77\n",
      "weighted avg       0.61      0.48      0.47        77\n",
      "\n",
      "-------------------------------------------------------------------------------------------------------------------\n"
     ]
    },
    {
     "name": "stderr",
     "output_type": "stream",
     "text": [
      "[Parallel(n_jobs=-1)]: Using backend LokyBackend with 12 concurrent workers.\n",
      "[Parallel(n_jobs=-1)]: Done   1 out of   1 | elapsed:  6.6min finished\n"
     ]
    },
    {
     "name": "stdout",
     "output_type": "stream",
     "text": [
      "K-Fold #5\n",
      "Mean negativities for all classes: [0.3742002922715852]\n",
      "Mean entropies for all classes: [1.2380526222096085e-14]\n",
      "              precision    recall  f1-score   support\n",
      "\n",
      "           0       0.68      0.92      0.78        50\n",
      "           1       0.56      0.19      0.28        27\n",
      "\n",
      "    accuracy                           0.66        77\n",
      "   macro avg       0.62      0.55      0.53        77\n",
      "weighted avg       0.63      0.66      0.60        77\n",
      "\n",
      "-------------------------------------------------------------------------------------------------------------------\n"
     ]
    },
    {
     "name": "stderr",
     "output_type": "stream",
     "text": [
      "[Parallel(n_jobs=-1)]: Using backend LokyBackend with 12 concurrent workers.\n",
      "[Parallel(n_jobs=-1)]: Done   1 out of   1 | elapsed:  6.7min finished\n"
     ]
    },
    {
     "name": "stdout",
     "output_type": "stream",
     "text": [
      "K-Fold #6\n",
      "Mean negativities for all classes: [0.33095095522908824]\n",
      "Mean entropies for all classes: [4.662930162873666e-15]\n",
      "              precision    recall  f1-score   support\n",
      "\n",
      "           0       0.75      0.30      0.43        50\n",
      "           1       0.39      0.81      0.52        27\n",
      "\n",
      "    accuracy                           0.48        77\n",
      "   macro avg       0.57      0.56      0.48        77\n",
      "weighted avg       0.62      0.48      0.46        77\n",
      "\n",
      "-------------------------------------------------------------------------------------------------------------------\n"
     ]
    },
    {
     "name": "stderr",
     "output_type": "stream",
     "text": [
      "[Parallel(n_jobs=-1)]: Using backend LokyBackend with 12 concurrent workers.\n",
      "[Parallel(n_jobs=-1)]: Done   1 out of   1 | elapsed:  6.7min finished\n"
     ]
    },
    {
     "name": "stdout",
     "output_type": "stream",
     "text": [
      "K-Fold #7\n",
      "Mean negativities for all classes: [0.3317416169356014]\n",
      "Mean entropies for all classes: [4.315356942214394e-15]\n",
      "              precision    recall  f1-score   support\n",
      "\n",
      "           0       0.81      0.34      0.48        50\n",
      "           1       0.41      0.85      0.55        27\n",
      "\n",
      "    accuracy                           0.52        77\n",
      "   macro avg       0.61      0.60      0.52        77\n",
      "weighted avg       0.67      0.52      0.51        77\n",
      "\n",
      "-------------------------------------------------------------------------------------------------------------------\n"
     ]
    },
    {
     "name": "stderr",
     "output_type": "stream",
     "text": [
      "[Parallel(n_jobs=-1)]: Using backend LokyBackend with 12 concurrent workers.\n",
      "[Parallel(n_jobs=-1)]: Done   1 out of   1 | elapsed:  6.7min finished\n"
     ]
    },
    {
     "name": "stdout",
     "output_type": "stream",
     "text": [
      "K-Fold #8\n",
      "Mean negativities for all classes: [0.3334655211655394]\n",
      "Mean entropies for all classes: [4.673487932703849e-15]\n",
      "              precision    recall  f1-score   support\n",
      "\n",
      "           0       0.76      0.38      0.51        50\n",
      "           1       0.39      0.77      0.52        26\n",
      "\n",
      "    accuracy                           0.51        76\n",
      "   macro avg       0.58      0.57      0.51        76\n",
      "weighted avg       0.63      0.51      0.51        76\n",
      "\n",
      "-------------------------------------------------------------------------------------------------------------------\n"
     ]
    },
    {
     "name": "stderr",
     "output_type": "stream",
     "text": [
      "[Parallel(n_jobs=-1)]: Using backend LokyBackend with 12 concurrent workers.\n",
      "[Parallel(n_jobs=-1)]: Done   1 out of   1 | elapsed:  6.7min finished\n"
     ]
    },
    {
     "name": "stdout",
     "output_type": "stream",
     "text": [
      "K-Fold #9\n",
      "Mean negativities for all classes: [0.33232935843980926]\n",
      "Mean entropies for all classes: [4.681454630460379e-15]\n",
      "              precision    recall  f1-score   support\n",
      "\n",
      "           0       0.80      0.32      0.46        50\n",
      "           1       0.39      0.85      0.54        26\n",
      "\n",
      "    accuracy                           0.50        76\n",
      "   macro avg       0.60      0.58      0.50        76\n",
      "weighted avg       0.66      0.50      0.48        76\n",
      "\n",
      "-------------------------------------------------------------------------------------------------------------------\n",
      "AVG: Scores = 0.4987183868762816 F1-Scores = 0.47932404292175673 Negativity = [0.32757140253606837, 0.3317300513632007] Entropy = [4.72433167726651e-15, 4.696540440986547e-15]\n"
     ]
    },
    {
     "name": "stderr",
     "output_type": "stream",
     "text": [
      "[Parallel(n_jobs=-1)]: Using backend LokyBackend with 12 concurrent workers.\n",
      "[Parallel(n_jobs=-1)]: Done   1 out of   1 | elapsed:  6.7min finished\n"
     ]
    },
    {
     "name": "stdout",
     "output_type": "stream",
     "text": [
      "K-Fold #0\n",
      "Mean negativities for all classes: [0.3352510840588657]\n",
      "Mean entropies for all classes: [4.510123067516636e-15]\n",
      "              precision    recall  f1-score   support\n",
      "\n",
      "           0       0.70      0.38      0.49        50\n",
      "           1       0.38      0.70      0.49        27\n",
      "\n",
      "    accuracy                           0.49        77\n",
      "   macro avg       0.54      0.54      0.49        77\n",
      "weighted avg       0.59      0.49      0.49        77\n",
      "\n",
      "-------------------------------------------------------------------------------------------------------------------\n"
     ]
    },
    {
     "name": "stderr",
     "output_type": "stream",
     "text": [
      "[Parallel(n_jobs=-1)]: Using backend LokyBackend with 12 concurrent workers.\n",
      "[Parallel(n_jobs=-1)]: Done   1 out of   1 | elapsed:  6.7min finished\n"
     ]
    },
    {
     "name": "stdout",
     "output_type": "stream",
     "text": [
      "K-Fold #1\n",
      "Mean negativities for all classes: [0.33185308373132455]\n",
      "Mean entropies for all classes: [4.593920574236845e-15]\n",
      "              precision    recall  f1-score   support\n",
      "\n",
      "           0       0.78      0.28      0.41        50\n",
      "           1       0.39      0.85      0.53        27\n",
      "\n",
      "    accuracy                           0.48        77\n",
      "   macro avg       0.58      0.57      0.47        77\n",
      "weighted avg       0.64      0.48      0.45        77\n",
      "\n",
      "-------------------------------------------------------------------------------------------------------------------\n"
     ]
    },
    {
     "name": "stderr",
     "output_type": "stream",
     "text": [
      "[Parallel(n_jobs=-1)]: Using backend LokyBackend with 12 concurrent workers.\n",
      "[Parallel(n_jobs=-1)]: Done   1 out of   1 | elapsed:  6.7min finished\n"
     ]
    },
    {
     "name": "stdout",
     "output_type": "stream",
     "text": [
      "K-Fold #2\n",
      "Mean negativities for all classes: [0.330533387151878]\n",
      "Mean entropies for all classes: [4.804817016193478e-15]\n",
      "              precision    recall  f1-score   support\n",
      "\n",
      "           0       0.70      0.32      0.44        50\n",
      "           1       0.37      0.74      0.49        27\n",
      "\n",
      "    accuracy                           0.47        77\n",
      "   macro avg       0.53      0.53      0.47        77\n",
      "weighted avg       0.58      0.47      0.46        77\n",
      "\n",
      "-------------------------------------------------------------------------------------------------------------------\n"
     ]
    },
    {
     "name": "stderr",
     "output_type": "stream",
     "text": [
      "[Parallel(n_jobs=-1)]: Using backend LokyBackend with 12 concurrent workers.\n",
      "[Parallel(n_jobs=-1)]: Done   1 out of   1 | elapsed:  6.7min finished\n"
     ]
    },
    {
     "name": "stdout",
     "output_type": "stream",
     "text": [
      "K-Fold #3\n",
      "Mean negativities for all classes: [0.3257992580222125]\n",
      "Mean entropies for all classes: [4.666126672376598e-15]\n",
      "              precision    recall  f1-score   support\n",
      "\n",
      "           0       0.70      0.28      0.40        50\n",
      "           1       0.37      0.78      0.50        27\n",
      "\n",
      "    accuracy                           0.45        77\n",
      "   macro avg       0.53      0.53      0.45        77\n",
      "weighted avg       0.58      0.45      0.44        77\n",
      "\n",
      "-------------------------------------------------------------------------------------------------------------------\n"
     ]
    },
    {
     "name": "stderr",
     "output_type": "stream",
     "text": [
      "[Parallel(n_jobs=-1)]: Using backend LokyBackend with 12 concurrent workers.\n",
      "[Parallel(n_jobs=-1)]: Done   1 out of   1 | elapsed:  6.7min finished\n"
     ]
    },
    {
     "name": "stdout",
     "output_type": "stream",
     "text": [
      "K-Fold #4\n",
      "Mean negativities for all classes: [0.32880652437059826]\n",
      "Mean entropies for all classes: [4.41489942270243e-15]\n",
      "              precision    recall  f1-score   support\n",
      "\n",
      "           0       0.93      0.28      0.43        50\n",
      "           1       0.42      0.96      0.58        27\n",
      "\n",
      "    accuracy                           0.52        77\n",
      "   macro avg       0.68      0.62      0.51        77\n",
      "weighted avg       0.75      0.52      0.48        77\n",
      "\n",
      "-------------------------------------------------------------------------------------------------------------------\n"
     ]
    },
    {
     "name": "stderr",
     "output_type": "stream",
     "text": [
      "[Parallel(n_jobs=-1)]: Using backend LokyBackend with 12 concurrent workers.\n",
      "[Parallel(n_jobs=-1)]: Done   1 out of   1 | elapsed:  6.7min finished\n"
     ]
    },
    {
     "name": "stdout",
     "output_type": "stream",
     "text": [
      "K-Fold #5\n",
      "Mean negativities for all classes: [0.3320647792795649]\n",
      "Mean entropies for all classes: [4.92553638648945e-15]\n",
      "              precision    recall  f1-score   support\n",
      "\n",
      "           0       0.78      0.36      0.49        50\n",
      "           1       0.41      0.81      0.54        27\n",
      "\n",
      "    accuracy                           0.52        77\n",
      "   macro avg       0.60      0.59      0.52        77\n",
      "weighted avg       0.65      0.52      0.51        77\n",
      "\n",
      "-------------------------------------------------------------------------------------------------------------------\n"
     ]
    },
    {
     "name": "stderr",
     "output_type": "stream",
     "text": [
      "[Parallel(n_jobs=-1)]: Using backend LokyBackend with 12 concurrent workers.\n",
      "[Parallel(n_jobs=-1)]: Done   1 out of   1 | elapsed:  6.8min finished\n"
     ]
    },
    {
     "name": "stdout",
     "output_type": "stream",
     "text": [
      "K-Fold #6\n",
      "Mean negativities for all classes: [0.333812437832638]\n",
      "Mean entropies for all classes: [4.93822023412127e-15]\n",
      "              precision    recall  f1-score   support\n",
      "\n",
      "           0       0.77      0.34      0.47        50\n",
      "           1       0.40      0.81      0.54        27\n",
      "\n",
      "    accuracy                           0.51        77\n",
      "   macro avg       0.59      0.58      0.50        77\n",
      "weighted avg       0.64      0.51      0.49        77\n",
      "\n",
      "-------------------------------------------------------------------------------------------------------------------\n"
     ]
    },
    {
     "name": "stderr",
     "output_type": "stream",
     "text": [
      "[Parallel(n_jobs=-1)]: Using backend LokyBackend with 12 concurrent workers.\n",
      "[Parallel(n_jobs=-1)]: Done   1 out of   1 | elapsed:  6.7min finished\n"
     ]
    },
    {
     "name": "stdout",
     "output_type": "stream",
     "text": [
      "K-Fold #7\n",
      "Mean negativities for all classes: [0.33003370835831863]\n",
      "Mean entropies for all classes: [4.608124268208716e-15]\n",
      "              precision    recall  f1-score   support\n",
      "\n",
      "           0       0.76      0.32      0.45        50\n",
      "           1       0.39      0.81      0.53        27\n",
      "\n",
      "    accuracy                           0.49        77\n",
      "   macro avg       0.58      0.57      0.49        77\n",
      "weighted avg       0.63      0.49      0.48        77\n",
      "\n",
      "-------------------------------------------------------------------------------------------------------------------\n"
     ]
    },
    {
     "name": "stderr",
     "output_type": "stream",
     "text": [
      "[Parallel(n_jobs=-1)]: Using backend LokyBackend with 12 concurrent workers.\n",
      "[Parallel(n_jobs=-1)]: Done   1 out of   1 | elapsed:  6.7min finished\n"
     ]
    },
    {
     "name": "stdout",
     "output_type": "stream",
     "text": [
      "K-Fold #8\n",
      "Mean negativities for all classes: [0.33358678505248657]\n",
      "Mean entropies for all classes: [4.664867042484321e-15]\n",
      "              precision    recall  f1-score   support\n",
      "\n",
      "           0       0.71      0.40      0.51        50\n",
      "           1       0.38      0.69      0.49        26\n",
      "\n",
      "    accuracy                           0.50        76\n",
      "   macro avg       0.54      0.55      0.50        76\n",
      "weighted avg       0.60      0.50      0.50        76\n",
      "\n",
      "-------------------------------------------------------------------------------------------------------------------\n"
     ]
    },
    {
     "name": "stderr",
     "output_type": "stream",
     "text": [
      "[Parallel(n_jobs=-1)]: Using backend LokyBackend with 12 concurrent workers.\n",
      "[Parallel(n_jobs=-1)]: Done   1 out of   1 | elapsed:  6.7min finished\n"
     ]
    },
    {
     "name": "stdout",
     "output_type": "stream",
     "text": [
      "K-Fold #9\n",
      "Mean negativities for all classes: [0.326953382497678]\n",
      "Mean entropies for all classes: [4.5838914133770545e-15]\n",
      "              precision    recall  f1-score   support\n",
      "\n",
      "           0       0.78      0.28      0.41        50\n",
      "           1       0.38      0.85      0.52        26\n",
      "\n",
      "    accuracy                           0.47        76\n",
      "   macro avg       0.58      0.56      0.47        76\n",
      "weighted avg       0.64      0.47      0.45        76\n",
      "\n",
      "-------------------------------------------------------------------------------------------------------------------\n",
      "AVG: Scores = 0.490874914559125 F1-Scores = 0.4870878859111419 Negativity = [0.3352510840588657, 0.33185308373132455] Entropy = [4.510123067516636e-15, 4.593920574236845e-15]\n",
      "CPU times: total: 2min 28s\n",
      "Wall time: 11h 7min 50s\n"
     ]
    }
   ],
   "source": [
    "%%time\n",
    "scores_list = []\n",
    "f1scores_list = []\n",
    "negativities_list = []\n",
    "for SEED in range(n_times_kfold):\n",
    "    scores, f1scores, output_dict = execute_training_test_k_fold(\n",
    "                    X, \n",
    "                    y, \n",
    "                    k_folds=k_times_fold,\n",
    "                    random_seed = SEED, \n",
    "                    classifier_function=classifier_function, \n",
    "                    dic_classifier_params=dic_classifier_params,\n",
    "                    one_vs_classifier=OneVsRestClassifier, \n",
    "                    dic_training_params=dic_training_params,\n",
    "                    print_each_fold_metric=True,\n",
    "                    print_avg_metric=True)\n",
    "    scores_list.append(scores)\n",
    "    f1scores_list.append(f1scores)\n",
    "    negativities_list.append(output_dict[\"negativities\"])"
   ]
  },
  {
   "cell_type": "code",
   "execution_count": 4,
   "id": "168e8aff",
   "metadata": {},
   "outputs": [
    {
     "name": "stdout",
     "output_type": "stream",
     "text": [
      "Media Score dos N K-Fold 0.48811688311688306\n",
      "Maior Score dos K-Fold 0.4987183868762816\n",
      "Min Score dos K-Fold 0.4764695830485303\n",
      "Media Score dos K-Fold [0.49601845522898147, 0.4816302118933697, 0.48583390293916606, 0.4960355434039644, 0.4920539986329461, 0.4805194805194805, 0.4764695830485303, 0.4830143540669857, 0.4987183868762816, 0.490874914559125]\n",
      "\n",
      "\n",
      "[[0.42857142857142855, 0.45454545454545453, 0.4675324675324675, 0.5194805194805194, 0.5194805194805194, 0.5194805194805194, 0.5714285714285714, 0.5454545454545454, 0.4342105263157895, 0.5], [0.4805194805194805, 0.4805194805194805, 0.4935064935064935, 0.5194805194805194, 0.5194805194805194, 0.45454545454545453, 0.44155844155844154, 0.5714285714285714, 0.4342105263157895, 0.42105263157894735], [0.4155844155844156, 0.38961038961038963, 0.4805194805194805, 0.5974025974025974, 0.4675324675324675, 0.4025974025974026, 0.4805194805194805, 0.5324675324675324, 0.4868421052631579, 0.6052631578947368], [0.5064935064935064, 0.5194805194805194, 0.5324675324675324, 0.5064935064935064, 0.4935064935064935, 0.4675324675324675, 0.5324675324675324, 0.45454545454545453, 0.42105263157894735, 0.5263157894736842], [0.5064935064935064, 0.5324675324675324, 0.4805194805194805, 0.5064935064935064, 0.6493506493506493, 0.4805194805194805, 0.5064935064935064, 0.37662337662337664, 0.4605263157894737, 0.42105263157894735], [0.5584415584415584, 0.4805194805194805, 0.4935064935064935, 0.44155844155844154, 0.38961038961038963, 0.4155844155844156, 0.5064935064935064, 0.5194805194805194, 0.5263157894736842, 0.47368421052631576], [0.5454545454545454, 0.5194805194805194, 0.5194805194805194, 0.45454545454545453, 0.5194805194805194, 0.37662337662337664, 0.4805194805194805, 0.4675324675324675, 0.4868421052631579, 0.39473684210526316], [0.4935064935064935, 0.4155844155844156, 0.4675324675324675, 0.5584415584415584, 0.4935064935064935, 0.4935064935064935, 0.5064935064935064, 0.4805194805194805, 0.47368421052631576, 0.4473684210526316], [0.44155844155844154, 0.4675324675324675, 0.4935064935064935, 0.42857142857142855, 0.4805194805194805, 0.6623376623376623, 0.4805194805194805, 0.5194805194805194, 0.5131578947368421, 0.5], [0.4935064935064935, 0.4805194805194805, 0.4675324675324675, 0.45454545454545453, 0.5194805194805194, 0.5194805194805194, 0.5064935064935064, 0.4935064935064935, 0.5, 0.47368421052631576]]\n"
     ]
    }
   ],
   "source": [
    "print(\"Media Score dos N K-Fold\", np.mean([np.mean(i) for i in scores_list]))\n",
    "print(\"Maior Score dos K-Fold\", max([np.mean(i) for i in scores_list]))\n",
    "print(\"Min Score dos K-Fold\", min([np.mean(i) for i in scores_list]))\n",
    "\n",
    "print(\"Media Score dos K-Fold\", [np.mean(i) for i in scores_list])\n",
    "print()\n",
    "print()\n",
    "print(scores_list)"
   ]
  },
  {
   "cell_type": "code",
   "execution_count": 5,
   "id": "fcd239e5",
   "metadata": {},
   "outputs": [
    {
     "name": "stdout",
     "output_type": "stream",
     "text": [
      "Media F1Score dos N K-Fold 0.4790930772913996\n",
      "Maior F1Score dos K-Fold 0.4908976479748007\n",
      "Maior F1Score dos K-Fold 0.46638828433925583\n",
      "Media F1Score dos K-Fold [0.4908976479748007, 0.4757043850887305, 0.4801633320876341, 0.49074248127096987, 0.46638828433925583, 0.47461027499466724, 0.4709902112206329, 0.4750222271044066, 0.47932404292175673, 0.4870878859111419]\n",
      "\n",
      "\n",
      "[[0.420656634746922, 0.4469904240766074, 0.4493284493284493, 0.5181802807373583, 0.5142369991474851, 0.5191561181434599, 0.5714285714285714, 0.5442245898866904, 0.4261633011413521, 0.4986111111111111], [0.48043184885290147, 0.4733242134062927, 0.47619047619047616, 0.5165450534532496, 0.5181802807373583, 0.4537162162162163, 0.4276577355229041, 0.5702688990360223, 0.4261633011413521, 0.4145658263305322], [0.4120142541998982, 0.3744165946413137, 0.4696969696969697, 0.5974025974025975, 0.46172208013640237, 0.3943228454172366, 0.47972972972972977, 0.5227272727272727, 0.48461137193531556, 0.6049896049896049], [0.5057432432432433, 0.5165450534532496, 0.5323886639676114, 0.5064102564102564, 0.47619047619047616, 0.4493284493284493, 0.5323886639676113, 0.45, 0.41742160278745644, 0.5210084033613446], [0.5023809523809524, 0.5317567567567567, 0.47619047619047616, 0.5044037940379404, 0.45476003147128247, 0.4600280504908836, 0.5057432432432433, 0.3739837398373984, 0.46043290043290047, 0.39420289855072466], [0.5565718157181572, 0.4733242134062927, 0.49316455696202544, 0.435464620630861, 0.3744165946413137, 0.41558441558441556, 0.4996580027359781, 0.5075194468452895, 0.525987525987526, 0.46441155743481327], [0.5442245898866904, 0.5181802807373583, 0.5142369991474851, 0.4469904240766074, 0.5142369991474851, 0.3583333333333333, 0.478319783197832, 0.4583976668382227, 0.4860412692907925, 0.3909407665505227], [0.49041235363991176, 0.4120142541998982, 0.4542783059636992, 0.5577702702702703, 0.49316455696202544, 0.4931645569620253, 0.4962121212121212, 0.4600280504908836, 0.4492753623188406, 0.4439024390243903], [0.4319780408303311, 0.46427965382657393, 0.48797953964194374, 0.39929078014184394, 0.478319783197832, 0.5287193973634652, 0.47619047619047616, 0.5165450534532496, 0.513073593073593, 0.4968641114982578], [0.49350649350649356, 0.4733242134062927, 0.4660916624386944, 0.45, 0.5075194468452895, 0.5181802807373583, 0.5044037940379404, 0.49041235363991176, 0.4996534996534997, 0.4677871148459384]]\n"
     ]
    }
   ],
   "source": [
    "print(\"Media F1Score dos N K-Fold\", np.mean([np.mean(i) for i in f1scores_list]))\n",
    "print(\"Maior F1Score dos K-Fold\", max([np.mean(i) for i in f1scores_list]))\n",
    "print(\"Maior F1Score dos K-Fold\", min([np.mean(i) for i in f1scores_list]))\n",
    "\n",
    "print(\"Media F1Score dos K-Fold\", [np.mean(i) for i in f1scores_list])\n",
    "print()\n",
    "print()\n",
    "print(f1scores_list)"
   ]
  },
  {
   "cell_type": "code",
   "execution_count": 6,
   "id": "35ede4ea",
   "metadata": {},
   "outputs": [
    {
     "name": "stdout",
     "output_type": "stream",
     "text": [
      "Media Negativity dos N K-Fold 0.3311509273142986\n",
      "\n",
      "\n",
      "[[[0.32803424192203184, 0.32852104621015643, 0.326196017162644, 0.33446643241797425, 0.3258400076102197, 0.3404944548265049, 0.3347253673327041, 0.3317625650002212, 0.32724445439513267, 0.3320326260195644]], [[0.33252941914163553, 0.3285664438584161, 0.3268833205106958, 0.3291544358011316, 0.3310789102023126, 0.3358544776646394, 0.32671919815689054, 0.3340076785725654, 0.32691811283692634, 0.3341493247048669]], [[0.33000529443802884, 0.3281146988165774, 0.3296472628425166, 0.3330480894012908, 0.3305427393079198, 0.327232913041991, 0.3308531647118123, 0.3279374668267303, 0.3356335188891797, 0.3361162453351742]], [[0.3349433209404804, 0.3329675932658147, 0.3359361530425226, 0.331604528038296, 0.32374156716543234, 0.3189589406687491, 0.33315334462595797, 0.3269603943736489, 0.3302332988727034, 0.3270386426187171]], [[0.3310825772268741, 0.33159802558868356, 0.32954275318379894, 0.33062642606870246, 0.3794562127530509, 0.3242804812848461, 0.33135218805546307, 0.3310916259423387, 0.3306539167254798, 0.32133194846361296]], [[0.33245837314794974, 0.33203380380697556, 0.33256971633757926, 0.32845128169485754, 0.3292732260225863, 0.33696324612224143, 0.32506189501044175, 0.32474070998147275, 0.3350996377022594, 0.32974989278109024]], [[0.33175941925996644, 0.32927640534401104, 0.3304134227660029, 0.325969470361581, 0.3284275381239892, 0.3278023368377835, 0.3344492956862042, 0.3260580545647836, 0.33399641630155713, 0.33010971319939425]], [[0.33198137854438536, 0.3297367038897593, 0.3254096010014258, 0.3331061539841563, 0.3304963887803936, 0.33860535232616584, 0.325426753112249, 0.3208077539993256, 0.3222068081945655, 0.33316663353122516]], [[0.32757140253606837, 0.3317300513632007, 0.3264229348063987, 0.3296377954937521, 0.33187712355323856, 0.3742002922715852, 0.33095095522908824, 0.3317416169356014, 0.3334655211655394, 0.33232935843980926]], [[0.3352510840588657, 0.33185308373132455, 0.330533387151878, 0.3257992580222125, 0.32880652437059826, 0.3320647792795649, 0.333812437832638, 0.33003370835831863, 0.33358678505248657, 0.326953382497678]]]\n"
     ]
    }
   ],
   "source": [
    "print(\"Media Negativity dos N K-Fold\", np.mean([neg for neg in negativities_list]))\n",
    "\n",
    "print()\n",
    "print()\n",
    "print(negativities_list)"
   ]
  }
 ],
 "metadata": {
  "kernelspec": {
   "display_name": "Python 3",
   "language": "python",
   "name": "python3"
  },
  "language_info": {
   "codemirror_mode": {
    "name": "ipython",
    "version": 3
   },
   "file_extension": ".py",
   "mimetype": "text/x-python",
   "name": "python",
   "nbconvert_exporter": "python",
   "pygments_lexer": "ipython3",
   "version": "3.9.16"
  }
 },
 "nbformat": 4,
 "nbformat_minor": 5
}
