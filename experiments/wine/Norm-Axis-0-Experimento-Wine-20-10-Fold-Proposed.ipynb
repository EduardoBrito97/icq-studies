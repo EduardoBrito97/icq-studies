{
 "cells": [
  {
   "cell_type": "code",
   "execution_count": 1,
   "id": "0db239e0",
   "metadata": {},
   "outputs": [
    {
     "name": "stderr",
     "output_type": "stream",
     "text": [
      "Intel(R) Extension for Scikit-learn* enabled (https://github.com/intel/scikit-learn-intelex)\n"
     ]
    }
   ],
   "source": [
    "import sys, os\n",
    "sys.path.append(os.path.abspath('../../classifiers'))\n",
    "sys.path.append(os.path.abspath('../../training'))\n",
    "sys.path.append(os.path.abspath('../../validation'))\n",
    "from validation_functions import execute_training_test_k_fold\n",
    "from classifiers_ICQ import iqc_classifier\n",
    "\n",
    "from sklearn.multiclass import OneVsRestClassifier\n",
    "import numpy as np\n",
    "from sklearn import datasets\n",
    "\n",
    "wine = datasets.load_wine()\n",
    "\n",
    "X = wine.data[:, [0,1,2,3,4,5,6,7,8,9,10,11,12]]\n",
    "y = wine.target\n",
    "\n",
    "X = np.c_[X, np.ones((178,3))] #padding = 16 attributes"
   ]
  },
  {
   "cell_type": "code",
   "execution_count": 2,
   "id": "1ad66125",
   "metadata": {},
   "outputs": [],
   "source": [
    "classifier_function = iqc_classifier\n",
    "dic_classifier_params = {}\n",
    "dic_classifier_params[\"sigma_q_params\"] = [1,1,1,1]\n",
    "dic_classifier_params[\"use_polar_coordinates_on_sigma_q\"] = False\n",
    "dic_classifier_params[\"load_inputvector_env_state\"] = True\n",
    "dic_classifier_params[\"normalize_axis\"] = 0\n",
    "\n",
    "dic_training_params = {\"max_iter\": 1000,\n",
    "    \"accuracy_succ\": 0.99,\n",
    "    \"plot_graphs_and_metrics\": False,\n",
    "    \"plot_graphs_in_classifier\": False,\n",
    "    \"random_seed\": 1,\n",
    "    \"learning_rate\": 0.009,\n",
    "    \"refit_db\":True,\n",
    "    \"reset_weights_epoch\":0,\n",
    "    \"do_classes_refit\":True,\n",
    "    \"batch\":False}\n",
    "\n",
    "n_times_kfold = 20\n",
    "k_times_fold = 10"
   ]
  },
  {
   "cell_type": "code",
   "execution_count": 3,
   "id": "8522d868",
   "metadata": {},
   "outputs": [
    {
     "name": "stderr",
     "output_type": "stream",
     "text": [
      "[Parallel(n_jobs=-1)]: Using backend LokyBackend with 12 concurrent workers.\n",
      "[Parallel(n_jobs=-1)]: Done   3 out of   3 | elapsed:  2.8min finished\n"
     ]
    },
    {
     "name": "stdout",
     "output_type": "stream",
     "text": [
      "K-Fold #0\n",
      "Mean negativities for all classes: [0.2500711918217564, 0.30355904309500864, 0.3355477813602743]\n",
      "Mean entropies for all classes: [9.506080917816323e-15, 9.273418506785831e-15, 6.586254015928707e-15]\n",
      "              precision    recall  f1-score   support\n",
      "\n",
      "           0       1.00      1.00      1.00         6\n",
      "           1       1.00      1.00      1.00         7\n",
      "           2       1.00      1.00      1.00         5\n",
      "\n",
      "    accuracy                           1.00        18\n",
      "   macro avg       1.00      1.00      1.00        18\n",
      "weighted avg       1.00      1.00      1.00        18\n",
      "\n",
      "-------------------------------------------------------------------------------------------------------------------\n"
     ]
    },
    {
     "name": "stderr",
     "output_type": "stream",
     "text": [
      "[Parallel(n_jobs=-1)]: Using backend LokyBackend with 12 concurrent workers.\n",
      "[Parallel(n_jobs=-1)]: Done   3 out of   3 | elapsed:  2.7min finished\n"
     ]
    },
    {
     "name": "stdout",
     "output_type": "stream",
     "text": [
      "K-Fold #1\n",
      "Mean negativities for all classes: [0.26102134189066173, 0.31345137601421247, 0.370331648285125]\n",
      "Mean entropies for all classes: [9.668501251076064e-15, 9.915773605467648e-15, 9.06088264110284e-15]\n",
      "              precision    recall  f1-score   support\n",
      "\n",
      "           0       0.83      0.83      0.83         6\n",
      "           1       0.70      1.00      0.82         7\n",
      "           2       1.00      0.40      0.57         5\n",
      "\n",
      "    accuracy                           0.78        18\n",
      "   macro avg       0.84      0.74      0.74        18\n",
      "weighted avg       0.83      0.78      0.76        18\n",
      "\n",
      "-------------------------------------------------------------------------------------------------------------------\n"
     ]
    },
    {
     "name": "stderr",
     "output_type": "stream",
     "text": [
      "[Parallel(n_jobs=-1)]: Using backend LokyBackend with 12 concurrent workers.\n",
      "[Parallel(n_jobs=-1)]: Done   3 out of   3 | elapsed:  2.7min finished\n"
     ]
    },
    {
     "name": "stdout",
     "output_type": "stream",
     "text": [
      "K-Fold #2\n",
      "Mean negativities for all classes: [0.25191103461216413, 0.31703987498398817, 0.3635470453395289]\n",
      "Mean entropies for all classes: [9.661410350144444e-15, 9.836356091041846e-15, 9.875384587912242e-15]\n",
      "              precision    recall  f1-score   support\n",
      "\n",
      "           0       1.00      1.00      1.00         6\n",
      "           1       1.00      1.00      1.00         7\n",
      "           2       1.00      1.00      1.00         5\n",
      "\n",
      "    accuracy                           1.00        18\n",
      "   macro avg       1.00      1.00      1.00        18\n",
      "weighted avg       1.00      1.00      1.00        18\n",
      "\n",
      "-------------------------------------------------------------------------------------------------------------------\n"
     ]
    },
    {
     "name": "stderr",
     "output_type": "stream",
     "text": [
      "[Parallel(n_jobs=-1)]: Using backend LokyBackend with 12 concurrent workers.\n",
      "[Parallel(n_jobs=-1)]: Done   3 out of   3 | elapsed:  2.7min finished\n"
     ]
    },
    {
     "name": "stdout",
     "output_type": "stream",
     "text": [
      "K-Fold #3\n",
      "Mean negativities for all classes: [0.24918465199437032, 0.31513407683095895, 0.37154666917414525]\n",
      "Mean entropies for all classes: [9.554208803558492e-15, 1.0031917730689439e-14, 8.485613691868656e-15]\n",
      "              precision    recall  f1-score   support\n",
      "\n",
      "           0       0.75      1.00      0.86         6\n",
      "           1       0.88      1.00      0.93         7\n",
      "           2       1.00      0.40      0.57         5\n",
      "\n",
      "    accuracy                           0.83        18\n",
      "   macro avg       0.88      0.80      0.79        18\n",
      "weighted avg       0.87      0.83      0.81        18\n",
      "\n",
      "-------------------------------------------------------------------------------------------------------------------\n"
     ]
    },
    {
     "name": "stderr",
     "output_type": "stream",
     "text": [
      "[Parallel(n_jobs=-1)]: Using backend LokyBackend with 12 concurrent workers.\n",
      "[Parallel(n_jobs=-1)]: Done   3 out of   3 | elapsed:  2.7min finished\n"
     ]
    },
    {
     "name": "stdout",
     "output_type": "stream",
     "text": [
      "K-Fold #4\n",
      "Mean negativities for all classes: [0.24585082301661862, 0.3137603682659439, 0.29922131130416907]\n",
      "Mean entropies for all classes: [1.014883177294917e-14, 9.985259224897651e-15, 1.350447703249399e-14]\n",
      "              precision    recall  f1-score   support\n",
      "\n",
      "           0       1.00      0.83      0.91         6\n",
      "           1       1.00      0.86      0.92         7\n",
      "           2       0.71      1.00      0.83         5\n",
      "\n",
      "    accuracy                           0.89        18\n",
      "   macro avg       0.90      0.90      0.89        18\n",
      "weighted avg       0.92      0.89      0.89        18\n",
      "\n",
      "-------------------------------------------------------------------------------------------------------------------\n"
     ]
    },
    {
     "name": "stderr",
     "output_type": "stream",
     "text": [
      "[Parallel(n_jobs=-1)]: Using backend LokyBackend with 12 concurrent workers.\n",
      "[Parallel(n_jobs=-1)]: Done   3 out of   3 | elapsed:  2.7min finished\n"
     ]
    },
    {
     "name": "stdout",
     "output_type": "stream",
     "text": [
      "K-Fold #5\n",
      "Mean negativities for all classes: [0.2515170247185605, 0.31413090892123585, 0.37465767700458696]\n",
      "Mean entropies for all classes: [9.988946744435906e-15, 9.979000909256218e-15, 9.765797263495293e-15]\n",
      "              precision    recall  f1-score   support\n",
      "\n",
      "           0       1.00      1.00      1.00         6\n",
      "           1       0.70      1.00      0.82         7\n",
      "           2       1.00      0.40      0.57         5\n",
      "\n",
      "    accuracy                           0.83        18\n",
      "   macro avg       0.90      0.80      0.80        18\n",
      "weighted avg       0.88      0.83      0.81        18\n",
      "\n",
      "-------------------------------------------------------------------------------------------------------------------\n"
     ]
    },
    {
     "name": "stderr",
     "output_type": "stream",
     "text": [
      "[Parallel(n_jobs=-1)]: Using backend LokyBackend with 12 concurrent workers.\n",
      "[Parallel(n_jobs=-1)]: Done   3 out of   3 | elapsed:  2.7min finished\n"
     ]
    },
    {
     "name": "stdout",
     "output_type": "stream",
     "text": [
      "K-Fold #6\n",
      "Mean negativities for all classes: [0.251438042973434, 0.3068616305491908, 0.37364004627889313]\n",
      "Mean entropies for all classes: [9.69806725435631e-15, 9.806632794320978e-15, 8.551280100261972e-15]\n",
      "              precision    recall  f1-score   support\n",
      "\n",
      "           0       1.00      1.00      1.00         6\n",
      "           1       1.00      1.00      1.00         7\n",
      "           2       1.00      1.00      1.00         5\n",
      "\n",
      "    accuracy                           1.00        18\n",
      "   macro avg       1.00      1.00      1.00        18\n",
      "weighted avg       1.00      1.00      1.00        18\n",
      "\n",
      "-------------------------------------------------------------------------------------------------------------------\n"
     ]
    },
    {
     "name": "stderr",
     "output_type": "stream",
     "text": [
      "[Parallel(n_jobs=-1)]: Using backend LokyBackend with 12 concurrent workers.\n",
      "[Parallel(n_jobs=-1)]: Done   3 out of   3 | elapsed:  2.7min finished\n"
     ]
    },
    {
     "name": "stdout",
     "output_type": "stream",
     "text": [
      "K-Fold #7\n",
      "Mean negativities for all classes: [0.25411539008054224, 0.30874370350445907, 0.38680485734411857]\n",
      "Mean entropies for all classes: [9.948133750381942e-15, 9.515807187385077e-15, 9.698963694703988e-15]\n",
      "              precision    recall  f1-score   support\n",
      "\n",
      "           0       0.67      1.00      0.80         6\n",
      "           1       0.78      1.00      0.88         7\n",
      "           2       0.00      0.00      0.00         5\n",
      "\n",
      "    accuracy                           0.72        18\n",
      "   macro avg       0.48      0.67      0.56        18\n",
      "weighted avg       0.52      0.72      0.61        18\n",
      "\n",
      "-------------------------------------------------------------------------------------------------------------------\n"
     ]
    },
    {
     "name": "stderr",
     "output_type": "stream",
     "text": [
      "c:\\ProgramData\\Anaconda3\\lib\\site-packages\\sklearn\\metrics\\_classification.py:1344: UndefinedMetricWarning: Precision and F-score are ill-defined and being set to 0.0 in labels with no predicted samples. Use `zero_division` parameter to control this behavior.\n",
      "  _warn_prf(average, modifier, msg_start, len(result))\n",
      "c:\\ProgramData\\Anaconda3\\lib\\site-packages\\sklearn\\metrics\\_classification.py:1344: UndefinedMetricWarning: Precision and F-score are ill-defined and being set to 0.0 in labels with no predicted samples. Use `zero_division` parameter to control this behavior.\n",
      "  _warn_prf(average, modifier, msg_start, len(result))\n",
      "c:\\ProgramData\\Anaconda3\\lib\\site-packages\\sklearn\\metrics\\_classification.py:1344: UndefinedMetricWarning: Precision and F-score are ill-defined and being set to 0.0 in labels with no predicted samples. Use `zero_division` parameter to control this behavior.\n",
      "  _warn_prf(average, modifier, msg_start, len(result))\n",
      "[Parallel(n_jobs=-1)]: Using backend LokyBackend with 12 concurrent workers.\n",
      "[Parallel(n_jobs=-1)]: Done   3 out of   3 | elapsed:  2.8min finished\n"
     ]
    },
    {
     "name": "stdout",
     "output_type": "stream",
     "text": [
      "K-Fold #8\n",
      "Mean negativities for all classes: [0.2562141911616702, 0.3118780169544538, 0.3660886655689869]\n",
      "Mean entropies for all classes: [9.504042387074123e-15, 9.404511597684954e-15, 9.417146931841678e-15]\n",
      "              precision    recall  f1-score   support\n",
      "\n",
      "           0       0.86      1.00      0.92         6\n",
      "           1       0.75      0.86      0.80         7\n",
      "           2       0.50      0.25      0.33         4\n",
      "\n",
      "    accuracy                           0.76        17\n",
      "   macro avg       0.70      0.70      0.69        17\n",
      "weighted avg       0.73      0.76      0.73        17\n",
      "\n",
      "-------------------------------------------------------------------------------------------------------------------\n"
     ]
    },
    {
     "name": "stderr",
     "output_type": "stream",
     "text": [
      "[Parallel(n_jobs=-1)]: Using backend LokyBackend with 12 concurrent workers.\n",
      "[Parallel(n_jobs=-1)]: Done   3 out of   3 | elapsed:  2.7min finished\n"
     ]
    },
    {
     "name": "stdout",
     "output_type": "stream",
     "text": [
      "K-Fold #9\n",
      "Mean negativities for all classes: [0.27470769395513744, 0.30356036595298436, 0.38267122745398785]\n",
      "Mean entropies for all classes: [9.797278269109148e-15, 9.926264209001571e-15, 9.918933820407902e-15]\n",
      "              precision    recall  f1-score   support\n",
      "\n",
      "           0       0.57      0.80      0.67         5\n",
      "           1       0.89      1.00      0.94         8\n",
      "           2       1.00      0.25      0.40         4\n",
      "\n",
      "    accuracy                           0.76        17\n",
      "   macro avg       0.82      0.68      0.67        17\n",
      "weighted avg       0.82      0.76      0.73        17\n",
      "\n",
      "-------------------------------------------------------------------------------------------------------------------\n",
      "AVG: Scores = 0.8584967320261437 F1-Scores = 0.8129969540263658 Negativity = [0.29639267209234643, 0.31493478872999975, 0.31083265164522705] Entropy = [8.45525114684362e-15, 9.54838583254885e-15, 9.791050343032842e-15]\n"
     ]
    },
    {
     "name": "stderr",
     "output_type": "stream",
     "text": [
      "[Parallel(n_jobs=-1)]: Using backend LokyBackend with 12 concurrent workers.\n",
      "[Parallel(n_jobs=-1)]: Done   3 out of   3 | elapsed:  2.7min finished\n"
     ]
    },
    {
     "name": "stdout",
     "output_type": "stream",
     "text": [
      "K-Fold #0\n",
      "Mean negativities for all classes: [0.25339077738820914, 0.3112385348962782, 0.36753461416614136]\n",
      "Mean entropies for all classes: [9.853236250951254e-15, 9.806421488683374e-15, 1.0397967114112452e-14]\n",
      "              precision    recall  f1-score   support\n",
      "\n",
      "           0       0.75      1.00      0.86         6\n",
      "           1       0.78      1.00      0.88         7\n",
      "           2       1.00      0.20      0.33         5\n",
      "\n",
      "    accuracy                           0.78        18\n",
      "   macro avg       0.84      0.73      0.69        18\n",
      "weighted avg       0.83      0.78      0.72        18\n",
      "\n",
      "-------------------------------------------------------------------------------------------------------------------\n"
     ]
    },
    {
     "name": "stderr",
     "output_type": "stream",
     "text": [
      "[Parallel(n_jobs=-1)]: Using backend LokyBackend with 12 concurrent workers.\n",
      "[Parallel(n_jobs=-1)]: Done   3 out of   3 | elapsed:  2.7min finished\n"
     ]
    },
    {
     "name": "stdout",
     "output_type": "stream",
     "text": [
      "K-Fold #1\n",
      "Mean negativities for all classes: [0.2539790112318931, 0.30901789094702276, 0.36420205598183863]\n",
      "Mean entropies for all classes: [9.334511875389925e-15, 9.78242060669776e-15, 1.004131049576869e-14]\n",
      "              precision    recall  f1-score   support\n",
      "\n",
      "           0       1.00      1.00      1.00         6\n",
      "           1       1.00      1.00      1.00         7\n",
      "           2       1.00      1.00      1.00         5\n",
      "\n",
      "    accuracy                           1.00        18\n",
      "   macro avg       1.00      1.00      1.00        18\n",
      "weighted avg       1.00      1.00      1.00        18\n",
      "\n",
      "-------------------------------------------------------------------------------------------------------------------\n"
     ]
    },
    {
     "name": "stderr",
     "output_type": "stream",
     "text": [
      "[Parallel(n_jobs=-1)]: Using backend LokyBackend with 12 concurrent workers.\n",
      "[Parallel(n_jobs=-1)]: Done   3 out of   3 | elapsed:  2.7min finished\n"
     ]
    },
    {
     "name": "stdout",
     "output_type": "stream",
     "text": [
      "K-Fold #2\n",
      "Mean negativities for all classes: [0.24898235093280263, 0.3234724711823709, 0.3676459970766608]\n",
      "Mean entropies for all classes: [9.599080749912116e-15, 1.0395260398811283e-14, 6.591084600889517e-15]\n",
      "              precision    recall  f1-score   support\n",
      "\n",
      "           0       0.86      1.00      0.92         6\n",
      "           1       0.88      1.00      0.93         7\n",
      "           2       1.00      0.60      0.75         5\n",
      "\n",
      "    accuracy                           0.89        18\n",
      "   macro avg       0.91      0.87      0.87        18\n",
      "weighted avg       0.90      0.89      0.88        18\n",
      "\n",
      "-------------------------------------------------------------------------------------------------------------------\n"
     ]
    },
    {
     "name": "stderr",
     "output_type": "stream",
     "text": [
      "[Parallel(n_jobs=-1)]: Using backend LokyBackend with 12 concurrent workers.\n",
      "[Parallel(n_jobs=-1)]: Done   3 out of   3 | elapsed:  2.8min finished\n"
     ]
    },
    {
     "name": "stdout",
     "output_type": "stream",
     "text": [
      "K-Fold #3\n",
      "Mean negativities for all classes: [0.250276631250455, 0.30412312062989144, 0.3259234975203058]\n",
      "Mean entropies for all classes: [9.682729374285014e-15, 1.0074706353785423e-14, 8.936776865819196e-15]\n",
      "              precision    recall  f1-score   support\n",
      "\n",
      "           0       1.00      0.83      0.91         6\n",
      "           1       0.88      1.00      0.93         7\n",
      "           2       1.00      1.00      1.00         5\n",
      "\n",
      "    accuracy                           0.94        18\n",
      "   macro avg       0.96      0.94      0.95        18\n",
      "weighted avg       0.95      0.94      0.94        18\n",
      "\n",
      "-------------------------------------------------------------------------------------------------------------------\n"
     ]
    },
    {
     "name": "stderr",
     "output_type": "stream",
     "text": [
      "[Parallel(n_jobs=-1)]: Using backend LokyBackend with 12 concurrent workers.\n",
      "[Parallel(n_jobs=-1)]: Done   3 out of   3 | elapsed:  2.7min finished\n"
     ]
    },
    {
     "name": "stdout",
     "output_type": "stream",
     "text": [
      "K-Fold #4\n",
      "Mean negativities for all classes: [0.272102311811495, 0.3058726396907789, 0.33683196954776345]\n",
      "Mean entropies for all classes: [9.542899867889704e-15, 9.660180917238094e-15, 6.803593912705338e-15]\n",
      "              precision    recall  f1-score   support\n",
      "\n",
      "           0       1.00      1.00      1.00         6\n",
      "           1       1.00      1.00      1.00         7\n",
      "           2       1.00      1.00      1.00         5\n",
      "\n",
      "    accuracy                           1.00        18\n",
      "   macro avg       1.00      1.00      1.00        18\n",
      "weighted avg       1.00      1.00      1.00        18\n",
      "\n",
      "-------------------------------------------------------------------------------------------------------------------\n"
     ]
    },
    {
     "name": "stderr",
     "output_type": "stream",
     "text": [
      "[Parallel(n_jobs=-1)]: Using backend LokyBackend with 12 concurrent workers.\n",
      "[Parallel(n_jobs=-1)]: Done   3 out of   3 | elapsed:  2.7min finished\n"
     ]
    },
    {
     "name": "stdout",
     "output_type": "stream",
     "text": [
      "K-Fold #5\n",
      "Mean negativities for all classes: [0.26272203068061883, 0.3181840629394966, 0.3627519155020626]\n",
      "Mean entropies for all classes: [9.639449830479662e-15, 9.566948673598355e-15, 9.408096372043555e-15]\n",
      "              precision    recall  f1-score   support\n",
      "\n",
      "           0       1.00      0.83      0.91         6\n",
      "           1       0.88      1.00      0.93         7\n",
      "           2       1.00      1.00      1.00         5\n",
      "\n",
      "    accuracy                           0.94        18\n",
      "   macro avg       0.96      0.94      0.95        18\n",
      "weighted avg       0.95      0.94      0.94        18\n",
      "\n",
      "-------------------------------------------------------------------------------------------------------------------\n"
     ]
    },
    {
     "name": "stderr",
     "output_type": "stream",
     "text": [
      "[Parallel(n_jobs=-1)]: Using backend LokyBackend with 12 concurrent workers.\n",
      "[Parallel(n_jobs=-1)]: Done   3 out of   3 | elapsed:  2.7min finished\n"
     ]
    },
    {
     "name": "stdout",
     "output_type": "stream",
     "text": [
      "K-Fold #6\n",
      "Mean negativities for all classes: [0.27256842245191204, 0.3067449551404624, 0.36308540324481403]\n",
      "Mean entropies for all classes: [1.0309449042906606e-14, 9.833455412809787e-15, 9.211762545962104e-15]\n",
      "              precision    recall  f1-score   support\n",
      "\n",
      "           0       1.00      0.83      0.91         6\n",
      "           1       0.86      0.86      0.86         7\n",
      "           2       0.83      1.00      0.91         5\n",
      "\n",
      "    accuracy                           0.89        18\n",
      "   macro avg       0.90      0.90      0.89        18\n",
      "weighted avg       0.90      0.89      0.89        18\n",
      "\n",
      "-------------------------------------------------------------------------------------------------------------------\n"
     ]
    },
    {
     "name": "stderr",
     "output_type": "stream",
     "text": [
      "[Parallel(n_jobs=-1)]: Using backend LokyBackend with 12 concurrent workers.\n",
      "[Parallel(n_jobs=-1)]: Done   3 out of   3 | elapsed:  2.7min finished\n"
     ]
    },
    {
     "name": "stdout",
     "output_type": "stream",
     "text": [
      "K-Fold #7\n",
      "Mean negativities for all classes: [0.254685737398468, 0.3109054693201825, 0.35504256455962513]\n",
      "Mean entropies for all classes: [9.751244995435893e-15, 9.59055510962968e-15, 9.999547076375542e-15]\n",
      "              precision    recall  f1-score   support\n",
      "\n",
      "           0       1.00      1.00      1.00         6\n",
      "           1       0.64      1.00      0.78         7\n",
      "           2       1.00      0.20      0.33         5\n",
      "\n",
      "    accuracy                           0.78        18\n",
      "   macro avg       0.88      0.73      0.70        18\n",
      "weighted avg       0.86      0.78      0.73        18\n",
      "\n",
      "-------------------------------------------------------------------------------------------------------------------\n"
     ]
    },
    {
     "name": "stderr",
     "output_type": "stream",
     "text": [
      "[Parallel(n_jobs=-1)]: Using backend LokyBackend with 12 concurrent workers.\n",
      "[Parallel(n_jobs=-1)]: Done   3 out of   3 | elapsed:  2.7min finished\n"
     ]
    },
    {
     "name": "stdout",
     "output_type": "stream",
     "text": [
      "K-Fold #8\n",
      "Mean negativities for all classes: [0.24671484628682705, 0.3134146802984979, 0.36668043352011503]\n",
      "Mean entropies for all classes: [9.735348299997857e-15, 9.48309253684535e-15, 1.0221546815902583e-14]\n",
      "              precision    recall  f1-score   support\n",
      "\n",
      "           0       0.86      1.00      0.92         6\n",
      "           1       0.88      1.00      0.93         7\n",
      "           2       1.00      0.50      0.67         4\n",
      "\n",
      "    accuracy                           0.88        17\n",
      "   macro avg       0.91      0.83      0.84        17\n",
      "weighted avg       0.90      0.88      0.87        17\n",
      "\n",
      "-------------------------------------------------------------------------------------------------------------------\n"
     ]
    },
    {
     "name": "stderr",
     "output_type": "stream",
     "text": [
      "[Parallel(n_jobs=-1)]: Using backend LokyBackend with 12 concurrent workers.\n",
      "[Parallel(n_jobs=-1)]: Done   3 out of   3 | elapsed:  2.7min finished\n"
     ]
    },
    {
     "name": "stdout",
     "output_type": "stream",
     "text": [
      "K-Fold #9\n",
      "Mean negativities for all classes: [0.24905523871277632, 0.3126483038215034, 0.3706136899753626]\n",
      "Mean entropies for all classes: [9.430009180401665e-15, 9.605208116476662e-15, 8.335043528243235e-15]\n",
      "              precision    recall  f1-score   support\n",
      "\n",
      "           0       1.00      1.00      1.00         5\n",
      "           1       0.89      1.00      0.94         8\n",
      "           2       1.00      0.75      0.86         4\n",
      "\n",
      "    accuracy                           0.94        17\n",
      "   macro avg       0.96      0.92      0.93        17\n",
      "weighted avg       0.95      0.94      0.94        17\n",
      "\n",
      "-------------------------------------------------------------------------------------------------------------------\n",
      "AVG: Scores = 0.9045751633986928 F1-Scores = 0.8821522322992911 Negativity = [0.31072130881687626, 0.30906631938691814, 0.3133669397306114] Entropy = [1.001920828458236e-14, 9.719414325952126e-15, 8.861808583204305e-15]\n"
     ]
    },
    {
     "name": "stderr",
     "output_type": "stream",
     "text": [
      "[Parallel(n_jobs=-1)]: Using backend LokyBackend with 12 concurrent workers.\n",
      "[Parallel(n_jobs=-1)]: Done   3 out of   3 | elapsed:  2.7min finished\n"
     ]
    },
    {
     "name": "stdout",
     "output_type": "stream",
     "text": [
      "K-Fold #0\n",
      "Mean negativities for all classes: [0.2550308415882484, 0.31255355415951874, 0.36965187754831447]\n",
      "Mean entropies for all classes: [1.006494992727812e-14, 1.0101598058255966e-14, 8.599115832976015e-15]\n",
      "              precision    recall  f1-score   support\n",
      "\n",
      "           0       0.86      1.00      0.92         6\n",
      "           1       0.88      1.00      0.93         7\n",
      "           2       1.00      0.60      0.75         5\n",
      "\n",
      "    accuracy                           0.89        18\n",
      "   macro avg       0.91      0.87      0.87        18\n",
      "weighted avg       0.90      0.89      0.88        18\n",
      "\n",
      "-------------------------------------------------------------------------------------------------------------------\n"
     ]
    },
    {
     "name": "stderr",
     "output_type": "stream",
     "text": [
      "[Parallel(n_jobs=-1)]: Using backend LokyBackend with 12 concurrent workers.\n",
      "[Parallel(n_jobs=-1)]: Done   3 out of   3 | elapsed:  2.7min finished\n"
     ]
    },
    {
     "name": "stdout",
     "output_type": "stream",
     "text": [
      "K-Fold #1\n",
      "Mean negativities for all classes: [0.2517538134045834, 0.3102795831331177, 0.33570535729531853]\n",
      "Mean entropies for all classes: [9.374951804138721e-15, 9.55300078922542e-15, 9.804519799870476e-15]\n",
      "              precision    recall  f1-score   support\n",
      "\n",
      "           0       1.00      1.00      1.00         6\n",
      "           1       1.00      0.86      0.92         7\n",
      "           2       0.83      1.00      0.91         5\n",
      "\n",
      "    accuracy                           0.94        18\n",
      "   macro avg       0.94      0.95      0.94        18\n",
      "weighted avg       0.95      0.94      0.94        18\n",
      "\n",
      "-------------------------------------------------------------------------------------------------------------------\n"
     ]
    },
    {
     "name": "stderr",
     "output_type": "stream",
     "text": [
      "[Parallel(n_jobs=-1)]: Using backend LokyBackend with 12 concurrent workers.\n",
      "[Parallel(n_jobs=-1)]: Done   3 out of   3 | elapsed:  2.7min finished\n"
     ]
    },
    {
     "name": "stdout",
     "output_type": "stream",
     "text": [
      "K-Fold #2\n",
      "Mean negativities for all classes: [0.24972388511138213, 0.308885426233191, 0.3438344590659623]\n",
      "Mean entropies for all classes: [9.63926757613273e-15, 9.399812255742752e-15, 9.763115267271889e-15]\n",
      "              precision    recall  f1-score   support\n",
      "\n",
      "           0       1.00      1.00      1.00         6\n",
      "           1       0.64      1.00      0.78         7\n",
      "           2       1.00      0.20      0.33         5\n",
      "\n",
      "    accuracy                           0.78        18\n",
      "   macro avg       0.88      0.73      0.70        18\n",
      "weighted avg       0.86      0.78      0.73        18\n",
      "\n",
      "-------------------------------------------------------------------------------------------------------------------\n"
     ]
    },
    {
     "name": "stderr",
     "output_type": "stream",
     "text": [
      "[Parallel(n_jobs=-1)]: Using backend LokyBackend with 12 concurrent workers.\n",
      "[Parallel(n_jobs=-1)]: Done   3 out of   3 | elapsed:  2.6min finished\n"
     ]
    },
    {
     "name": "stdout",
     "output_type": "stream",
     "text": [
      "K-Fold #3\n",
      "Mean negativities for all classes: [0.2596094020886101, 0.3152242922219543, 0.3659326469936936]\n",
      "Mean entropies for all classes: [9.446703010655669e-15, 9.427481827896896e-15, 6.5022532151707826e-15]\n",
      "              precision    recall  f1-score   support\n",
      "\n",
      "           0       1.00      0.83      0.91         6\n",
      "           1       0.78      1.00      0.88         7\n",
      "           2       1.00      0.80      0.89         5\n",
      "\n",
      "    accuracy                           0.89        18\n",
      "   macro avg       0.93      0.88      0.89        18\n",
      "weighted avg       0.91      0.89      0.89        18\n",
      "\n",
      "-------------------------------------------------------------------------------------------------------------------\n"
     ]
    },
    {
     "name": "stderr",
     "output_type": "stream",
     "text": [
      "[Parallel(n_jobs=-1)]: Using backend LokyBackend with 12 concurrent workers.\n",
      "[Parallel(n_jobs=-1)]: Done   3 out of   3 | elapsed:  2.7min finished\n"
     ]
    },
    {
     "name": "stdout",
     "output_type": "stream",
     "text": [
      "K-Fold #4\n",
      "Mean negativities for all classes: [0.24727937726184823, 0.31172004336160275, 0.3552268960059282]\n",
      "Mean entropies for all classes: [9.477489898979989e-15, 9.861503048086956e-15, 6.687274531521058e-15]\n",
      "              precision    recall  f1-score   support\n",
      "\n",
      "           0       1.00      1.00      1.00         6\n",
      "           1       1.00      1.00      1.00         7\n",
      "           2       1.00      1.00      1.00         5\n",
      "\n",
      "    accuracy                           1.00        18\n",
      "   macro avg       1.00      1.00      1.00        18\n",
      "weighted avg       1.00      1.00      1.00        18\n",
      "\n",
      "-------------------------------------------------------------------------------------------------------------------\n"
     ]
    },
    {
     "name": "stderr",
     "output_type": "stream",
     "text": [
      "[Parallel(n_jobs=-1)]: Using backend LokyBackend with 12 concurrent workers.\n",
      "[Parallel(n_jobs=-1)]: Done   3 out of   3 | elapsed:  2.7min finished\n"
     ]
    },
    {
     "name": "stdout",
     "output_type": "stream",
     "text": [
      "K-Fold #5\n",
      "Mean negativities for all classes: [0.2593870076997701, 0.3087216376124644, 0.37310402161852374]\n",
      "Mean entropies for all classes: [9.532470389014232e-15, 9.421583324195444e-15, 8.351020563748236e-15]\n",
      "              precision    recall  f1-score   support\n",
      "\n",
      "           0       0.75      1.00      0.86         6\n",
      "           1       0.78      1.00      0.88         7\n",
      "           2       1.00      0.20      0.33         5\n",
      "\n",
      "    accuracy                           0.78        18\n",
      "   macro avg       0.84      0.73      0.69        18\n",
      "weighted avg       0.83      0.78      0.72        18\n",
      "\n",
      "-------------------------------------------------------------------------------------------------------------------\n"
     ]
    },
    {
     "name": "stderr",
     "output_type": "stream",
     "text": [
      "[Parallel(n_jobs=-1)]: Using backend LokyBackend with 12 concurrent workers.\n",
      "[Parallel(n_jobs=-1)]: Done   3 out of   3 | elapsed:  2.7min finished\n"
     ]
    },
    {
     "name": "stdout",
     "output_type": "stream",
     "text": [
      "K-Fold #6\n",
      "Mean negativities for all classes: [0.25143765508103594, 0.3133561884201403, 0.37134131704144874]\n",
      "Mean entropies for all classes: [9.472547173287628e-15, 9.086802773068079e-15, 7.053705483877452e-15]\n",
      "              precision    recall  f1-score   support\n",
      "\n",
      "           0       0.75      1.00      0.86         6\n",
      "           1       0.75      0.86      0.80         7\n",
      "           2       1.00      0.40      0.57         5\n",
      "\n",
      "    accuracy                           0.78        18\n",
      "   macro avg       0.83      0.75      0.74        18\n",
      "weighted avg       0.82      0.78      0.76        18\n",
      "\n",
      "-------------------------------------------------------------------------------------------------------------------\n"
     ]
    },
    {
     "name": "stderr",
     "output_type": "stream",
     "text": [
      "[Parallel(n_jobs=-1)]: Using backend LokyBackend with 12 concurrent workers.\n",
      "[Parallel(n_jobs=-1)]: Done   3 out of   3 | elapsed:  2.7min finished\n"
     ]
    },
    {
     "name": "stdout",
     "output_type": "stream",
     "text": [
      "K-Fold #7\n",
      "Mean negativities for all classes: [0.2637859923836306, 0.30917735800184676, 0.3611427796159876]\n",
      "Mean entropies for all classes: [9.542823283685554e-15, 9.935259594023006e-15, 1.0782715436529587e-14]\n",
      "              precision    recall  f1-score   support\n",
      "\n",
      "           0       0.83      0.83      0.83         6\n",
      "           1       0.75      0.86      0.80         7\n",
      "           2       1.00      0.80      0.89         5\n",
      "\n",
      "    accuracy                           0.83        18\n",
      "   macro avg       0.86      0.83      0.84        18\n",
      "weighted avg       0.85      0.83      0.84        18\n",
      "\n",
      "-------------------------------------------------------------------------------------------------------------------\n"
     ]
    },
    {
     "name": "stderr",
     "output_type": "stream",
     "text": [
      "[Parallel(n_jobs=-1)]: Using backend LokyBackend with 12 concurrent workers.\n",
      "[Parallel(n_jobs=-1)]: Done   3 out of   3 | elapsed:  2.7min finished\n"
     ]
    },
    {
     "name": "stdout",
     "output_type": "stream",
     "text": [
      "K-Fold #8\n",
      "Mean negativities for all classes: [0.2535068618613183, 0.318550413751744, 0.35688798597794685]\n",
      "Mean entropies for all classes: [9.41167241958236e-15, 9.714057726026508e-15, 8.046645985482038e-15]\n",
      "              precision    recall  f1-score   support\n",
      "\n",
      "           0       0.86      1.00      0.92         6\n",
      "           1       1.00      0.86      0.92         7\n",
      "           2       0.75      0.75      0.75         4\n",
      "\n",
      "    accuracy                           0.88        17\n",
      "   macro avg       0.87      0.87      0.87        17\n",
      "weighted avg       0.89      0.88      0.88        17\n",
      "\n",
      "-------------------------------------------------------------------------------------------------------------------\n"
     ]
    },
    {
     "name": "stderr",
     "output_type": "stream",
     "text": [
      "[Parallel(n_jobs=-1)]: Using backend LokyBackend with 12 concurrent workers.\n",
      "[Parallel(n_jobs=-1)]: Done   3 out of   3 | elapsed:  2.7min finished\n"
     ]
    },
    {
     "name": "stdout",
     "output_type": "stream",
     "text": [
      "K-Fold #9\n",
      "Mean negativities for all classes: [0.25609896132312704, 0.30720695667280146, 0.3720185987903024]\n",
      "Mean entropies for all classes: [9.556261929731768e-15, 9.621398974796867e-15, 9.961225944812474e-15]\n",
      "              precision    recall  f1-score   support\n",
      "\n",
      "           0       0.71      1.00      0.83         5\n",
      "           1       0.80      1.00      0.89         8\n",
      "           2       0.00      0.00      0.00         4\n",
      "\n",
      "    accuracy                           0.76        17\n",
      "   macro avg       0.50      0.67      0.57        17\n",
      "weighted avg       0.59      0.76      0.66        17\n",
      "\n",
      "-------------------------------------------------------------------------------------------------------------------\n",
      "AVG: Scores = 0.8535947712418303 F1-Scores = 0.8119104969104969 Negativity = [0.31241209109869383, 0.29924625127767324, 0.30081459013684514] Entropy = [9.588554606170034e-15, 9.577490797744873e-15, 9.600731699715791e-15]\n"
     ]
    },
    {
     "name": "stderr",
     "output_type": "stream",
     "text": [
      "c:\\ProgramData\\Anaconda3\\lib\\site-packages\\sklearn\\metrics\\_classification.py:1344: UndefinedMetricWarning: Precision and F-score are ill-defined and being set to 0.0 in labels with no predicted samples. Use `zero_division` parameter to control this behavior.\n",
      "  _warn_prf(average, modifier, msg_start, len(result))\n",
      "c:\\ProgramData\\Anaconda3\\lib\\site-packages\\sklearn\\metrics\\_classification.py:1344: UndefinedMetricWarning: Precision and F-score are ill-defined and being set to 0.0 in labels with no predicted samples. Use `zero_division` parameter to control this behavior.\n",
      "  _warn_prf(average, modifier, msg_start, len(result))\n",
      "c:\\ProgramData\\Anaconda3\\lib\\site-packages\\sklearn\\metrics\\_classification.py:1344: UndefinedMetricWarning: Precision and F-score are ill-defined and being set to 0.0 in labels with no predicted samples. Use `zero_division` parameter to control this behavior.\n",
      "  _warn_prf(average, modifier, msg_start, len(result))\n",
      "[Parallel(n_jobs=-1)]: Using backend LokyBackend with 12 concurrent workers.\n",
      "[Parallel(n_jobs=-1)]: Done   3 out of   3 | elapsed:  2.7min finished\n"
     ]
    },
    {
     "name": "stdout",
     "output_type": "stream",
     "text": [
      "K-Fold #0\n",
      "Mean negativities for all classes: [0.2504791074040844, 0.30580475884576885, 0.37947301754766727]\n",
      "Mean entropies for all classes: [9.984563996479946e-15, 9.967144156573623e-15, 7.0410385137705295e-15]\n",
      "              precision    recall  f1-score   support\n",
      "\n",
      "           0       0.75      1.00      0.86         6\n",
      "           1       0.88      1.00      0.93         7\n",
      "           2       1.00      0.40      0.57         5\n",
      "\n",
      "    accuracy                           0.83        18\n",
      "   macro avg       0.88      0.80      0.79        18\n",
      "weighted avg       0.87      0.83      0.81        18\n",
      "\n",
      "-------------------------------------------------------------------------------------------------------------------\n"
     ]
    },
    {
     "name": "stderr",
     "output_type": "stream",
     "text": [
      "[Parallel(n_jobs=-1)]: Using backend LokyBackend with 12 concurrent workers.\n",
      "[Parallel(n_jobs=-1)]: Done   3 out of   3 | elapsed:  2.7min finished\n"
     ]
    },
    {
     "name": "stdout",
     "output_type": "stream",
     "text": [
      "K-Fold #1\n",
      "Mean negativities for all classes: [0.24530776110147678, 0.31035118587231414, 0.3863063527729573]\n",
      "Mean entropies for all classes: [9.845560466981297e-15, 1.0397328239133233e-14, 8.934963774129542e-15]\n",
      "              precision    recall  f1-score   support\n",
      "\n",
      "           0       0.75      1.00      0.86         6\n",
      "           1       0.78      1.00      0.88         7\n",
      "           2       1.00      0.20      0.33         5\n",
      "\n",
      "    accuracy                           0.78        18\n",
      "   macro avg       0.84      0.73      0.69        18\n",
      "weighted avg       0.83      0.78      0.72        18\n",
      "\n",
      "-------------------------------------------------------------------------------------------------------------------\n"
     ]
    },
    {
     "name": "stderr",
     "output_type": "stream",
     "text": [
      "[Parallel(n_jobs=-1)]: Using backend LokyBackend with 12 concurrent workers.\n",
      "[Parallel(n_jobs=-1)]: Done   3 out of   3 | elapsed:  2.7min finished\n"
     ]
    },
    {
     "name": "stdout",
     "output_type": "stream",
     "text": [
      "K-Fold #2\n",
      "Mean negativities for all classes: [0.25345093425866705, 0.31741141922386945, 0.36677977752919866]\n",
      "Mean entropies for all classes: [9.514862780323812e-15, 9.660169430537236e-15, 1.1674158702399442e-14]\n",
      "              precision    recall  f1-score   support\n",
      "\n",
      "           0       0.86      1.00      0.92         6\n",
      "           1       1.00      0.86      0.92         7\n",
      "           2       0.80      0.80      0.80         5\n",
      "\n",
      "    accuracy                           0.89        18\n",
      "   macro avg       0.89      0.89      0.88        18\n",
      "weighted avg       0.90      0.89      0.89        18\n",
      "\n",
      "-------------------------------------------------------------------------------------------------------------------\n"
     ]
    },
    {
     "name": "stderr",
     "output_type": "stream",
     "text": [
      "[Parallel(n_jobs=-1)]: Using backend LokyBackend with 12 concurrent workers.\n",
      "[Parallel(n_jobs=-1)]: Done   3 out of   3 | elapsed:  2.7min finished\n"
     ]
    },
    {
     "name": "stdout",
     "output_type": "stream",
     "text": [
      "K-Fold #3\n",
      "Mean negativities for all classes: [0.2660368763275254, 0.3073092603259914, 0.3149566764235316]\n",
      "Mean entropies for all classes: [9.943911749577575e-15, 1.0308227675211868e-14, 1.0084779965227362e-14]\n",
      "              precision    recall  f1-score   support\n",
      "\n",
      "           0       1.00      1.00      1.00         6\n",
      "           1       1.00      1.00      1.00         7\n",
      "           2       1.00      1.00      1.00         5\n",
      "\n",
      "    accuracy                           1.00        18\n",
      "   macro avg       1.00      1.00      1.00        18\n",
      "weighted avg       1.00      1.00      1.00        18\n",
      "\n",
      "-------------------------------------------------------------------------------------------------------------------\n"
     ]
    },
    {
     "name": "stderr",
     "output_type": "stream",
     "text": [
      "[Parallel(n_jobs=-1)]: Using backend LokyBackend with 12 concurrent workers.\n",
      "[Parallel(n_jobs=-1)]: Done   3 out of   3 | elapsed:  2.7min finished\n"
     ]
    },
    {
     "name": "stdout",
     "output_type": "stream",
     "text": [
      "K-Fold #4\n",
      "Mean negativities for all classes: [0.262033206073256, 0.3035019355944788, 0.37260389601749383]\n",
      "Mean entropies for all classes: [9.650088177326696e-15, 9.828384255998498e-15, 1.1002417655773827e-14]\n",
      "              precision    recall  f1-score   support\n",
      "\n",
      "           0       1.00      0.83      0.91         6\n",
      "           1       0.70      1.00      0.82         7\n",
      "           2       1.00      0.60      0.75         5\n",
      "\n",
      "    accuracy                           0.83        18\n",
      "   macro avg       0.90      0.81      0.83        18\n",
      "weighted avg       0.88      0.83      0.83        18\n",
      "\n",
      "-------------------------------------------------------------------------------------------------------------------\n"
     ]
    },
    {
     "name": "stderr",
     "output_type": "stream",
     "text": [
      "[Parallel(n_jobs=-1)]: Using backend LokyBackend with 12 concurrent workers.\n",
      "[Parallel(n_jobs=-1)]: Done   3 out of   3 | elapsed:  2.7min finished\n"
     ]
    },
    {
     "name": "stdout",
     "output_type": "stream",
     "text": [
      "K-Fold #5\n",
      "Mean negativities for all classes: [0.25199856090512607, 0.3115494723571699, 0.3603949315125795]\n",
      "Mean entropies for all classes: [9.71380992070113e-15, 9.856276956536156e-15, 9.798433396668544e-15]\n",
      "              precision    recall  f1-score   support\n",
      "\n",
      "           0       1.00      1.00      1.00         6\n",
      "           1       1.00      1.00      1.00         7\n",
      "           2       1.00      1.00      1.00         5\n",
      "\n",
      "    accuracy                           1.00        18\n",
      "   macro avg       1.00      1.00      1.00        18\n",
      "weighted avg       1.00      1.00      1.00        18\n",
      "\n",
      "-------------------------------------------------------------------------------------------------------------------\n"
     ]
    },
    {
     "name": "stderr",
     "output_type": "stream",
     "text": [
      "[Parallel(n_jobs=-1)]: Using backend LokyBackend with 12 concurrent workers.\n",
      "[Parallel(n_jobs=-1)]: Done   3 out of   3 | elapsed:  2.7min finished\n"
     ]
    },
    {
     "name": "stdout",
     "output_type": "stream",
     "text": [
      "K-Fold #6\n",
      "Mean negativities for all classes: [0.26984653731224745, 0.30440322160527356, 0.3716930840915605]\n",
      "Mean entropies for all classes: [1.0162764668522702e-14, 9.904431423459073e-15, 9.448061877216378e-15]\n",
      "              precision    recall  f1-score   support\n",
      "\n",
      "           0       0.62      0.83      0.71         6\n",
      "           1       0.78      1.00      0.88         7\n",
      "           2       1.00      0.20      0.33         5\n",
      "\n",
      "    accuracy                           0.72        18\n",
      "   macro avg       0.80      0.68      0.64        18\n",
      "weighted avg       0.79      0.72      0.67        18\n",
      "\n",
      "-------------------------------------------------------------------------------------------------------------------\n"
     ]
    },
    {
     "name": "stderr",
     "output_type": "stream",
     "text": [
      "[Parallel(n_jobs=-1)]: Using backend LokyBackend with 12 concurrent workers.\n",
      "[Parallel(n_jobs=-1)]: Done   3 out of   3 | elapsed:  2.7min finished\n"
     ]
    },
    {
     "name": "stdout",
     "output_type": "stream",
     "text": [
      "K-Fold #7\n",
      "Mean negativities for all classes: [0.24923269744084203, 0.3181354923271668, 0.3675371401758969]\n",
      "Mean entropies for all classes: [9.734943506485086e-15, 9.30327278988211e-15, 8.799862782033244e-15]\n",
      "              precision    recall  f1-score   support\n",
      "\n",
      "           0       0.86      1.00      0.92         6\n",
      "           1       0.75      0.86      0.80         7\n",
      "           2       0.67      0.40      0.50         5\n",
      "\n",
      "    accuracy                           0.78        18\n",
      "   macro avg       0.76      0.75      0.74        18\n",
      "weighted avg       0.76      0.78      0.76        18\n",
      "\n",
      "-------------------------------------------------------------------------------------------------------------------\n"
     ]
    },
    {
     "name": "stderr",
     "output_type": "stream",
     "text": [
      "[Parallel(n_jobs=-1)]: Using backend LokyBackend with 12 concurrent workers.\n",
      "[Parallel(n_jobs=-1)]: Done   3 out of   3 | elapsed:  2.7min finished\n"
     ]
    },
    {
     "name": "stdout",
     "output_type": "stream",
     "text": [
      "K-Fold #8\n",
      "Mean negativities for all classes: [0.25163034649854604, 0.30326600782960367, 0.3180474539959357]\n",
      "Mean entropies for all classes: [9.31432044131651e-15, 9.104844101226933e-15, 8.198078091053099e-15]\n",
      "              precision    recall  f1-score   support\n",
      "\n",
      "           0       1.00      1.00      1.00         6\n",
      "           1       1.00      1.00      1.00         7\n",
      "           2       1.00      1.00      1.00         4\n",
      "\n",
      "    accuracy                           1.00        17\n",
      "   macro avg       1.00      1.00      1.00        17\n",
      "weighted avg       1.00      1.00      1.00        17\n",
      "\n",
      "-------------------------------------------------------------------------------------------------------------------\n"
     ]
    },
    {
     "name": "stderr",
     "output_type": "stream",
     "text": [
      "[Parallel(n_jobs=-1)]: Using backend LokyBackend with 12 concurrent workers.\n",
      "[Parallel(n_jobs=-1)]: Done   3 out of   3 | elapsed:  2.7min finished\n"
     ]
    },
    {
     "name": "stdout",
     "output_type": "stream",
     "text": [
      "K-Fold #9\n",
      "Mean negativities for all classes: [0.25252918627144977, 0.3082771928209273, 0.33762628931891603]\n",
      "Mean entropies for all classes: [9.884033842678537e-15, 9.519472410449875e-15, 7.0862842618369735e-15]\n",
      "              precision    recall  f1-score   support\n",
      "\n",
      "           0       0.83      1.00      0.91         5\n",
      "           1       1.00      0.88      0.93         8\n",
      "           2       1.00      1.00      1.00         4\n",
      "\n",
      "    accuracy                           0.94        17\n",
      "   macro avg       0.94      0.96      0.95        17\n",
      "weighted avg       0.95      0.94      0.94        17\n",
      "\n",
      "-------------------------------------------------------------------------------------------------------------------\n",
      "AVG: Scores = 0.877450980392157 F1-Scores = 0.8514758444170208 Negativity = [0.3119189612658402, 0.31398843324891607, 0.3125473770039117] Entropy = [8.9975822222747e-15, 9.725950826748024e-15, 1.0283063637753498e-14]\n"
     ]
    },
    {
     "name": "stderr",
     "output_type": "stream",
     "text": [
      "[Parallel(n_jobs=-1)]: Using backend LokyBackend with 12 concurrent workers.\n",
      "[Parallel(n_jobs=-1)]: Done   3 out of   3 | elapsed:  2.7min finished\n"
     ]
    },
    {
     "name": "stdout",
     "output_type": "stream",
     "text": [
      "K-Fold #0\n",
      "Mean negativities for all classes: [0.257052939207541, 0.30697403931321116, 0.34382189526602386]\n",
      "Mean entropies for all classes: [9.44784623981194e-15, 9.71661344170754e-15, 1.3829648856870522e-14]\n",
      "              precision    recall  f1-score   support\n",
      "\n",
      "           0       1.00      1.00      1.00         6\n",
      "           1       1.00      1.00      1.00         7\n",
      "           2       1.00      1.00      1.00         5\n",
      "\n",
      "    accuracy                           1.00        18\n",
      "   macro avg       1.00      1.00      1.00        18\n",
      "weighted avg       1.00      1.00      1.00        18\n",
      "\n",
      "-------------------------------------------------------------------------------------------------------------------\n"
     ]
    },
    {
     "name": "stderr",
     "output_type": "stream",
     "text": [
      "[Parallel(n_jobs=-1)]: Using backend LokyBackend with 12 concurrent workers.\n",
      "[Parallel(n_jobs=-1)]: Done   3 out of   3 | elapsed:  2.7min finished\n"
     ]
    },
    {
     "name": "stdout",
     "output_type": "stream",
     "text": [
      "K-Fold #1\n",
      "Mean negativities for all classes: [0.25253214592628975, 0.3083183917909029, 0.36467056263313347]\n",
      "Mean entropies for all classes: [9.482233380864252e-15, 9.91253668667707e-15, 8.565428805593424e-15]\n",
      "              precision    recall  f1-score   support\n",
      "\n",
      "           0       0.86      1.00      0.92         6\n",
      "           1       0.70      1.00      0.82         7\n",
      "           2       1.00      0.20      0.33         5\n",
      "\n",
      "    accuracy                           0.78        18\n",
      "   macro avg       0.85      0.73      0.69        18\n",
      "weighted avg       0.84      0.78      0.72        18\n",
      "\n",
      "-------------------------------------------------------------------------------------------------------------------\n"
     ]
    },
    {
     "name": "stderr",
     "output_type": "stream",
     "text": [
      "[Parallel(n_jobs=-1)]: Using backend LokyBackend with 12 concurrent workers.\n",
      "[Parallel(n_jobs=-1)]: Done   3 out of   3 | elapsed:  2.7min finished\n"
     ]
    },
    {
     "name": "stdout",
     "output_type": "stream",
     "text": [
      "K-Fold #2\n",
      "Mean negativities for all classes: [0.269429881473578, 0.3064859450805684, 0.3696492113795051]\n",
      "Mean entropies for all classes: [9.972642438312945e-15, 9.551069969274359e-15, 8.32068033439546e-15]\n",
      "              precision    recall  f1-score   support\n",
      "\n",
      "           0       1.00      0.83      0.91         6\n",
      "           1       0.78      1.00      0.88         7\n",
      "           2       1.00      0.80      0.89         5\n",
      "\n",
      "    accuracy                           0.89        18\n",
      "   macro avg       0.93      0.88      0.89        18\n",
      "weighted avg       0.91      0.89      0.89        18\n",
      "\n",
      "-------------------------------------------------------------------------------------------------------------------\n"
     ]
    },
    {
     "name": "stderr",
     "output_type": "stream",
     "text": [
      "[Parallel(n_jobs=-1)]: Using backend LokyBackend with 12 concurrent workers.\n",
      "[Parallel(n_jobs=-1)]: Done   3 out of   3 | elapsed:  2.7min finished\n"
     ]
    },
    {
     "name": "stdout",
     "output_type": "stream",
     "text": [
      "K-Fold #3\n",
      "Mean negativities for all classes: [0.2646191949898236, 0.309204533119192, 0.3563749646751894]\n",
      "Mean entropies for all classes: [9.826736495010909e-15, 9.967599469613686e-15, 1.0407378761658249e-14]\n",
      "              precision    recall  f1-score   support\n",
      "\n",
      "           0       1.00      1.00      1.00         6\n",
      "           1       1.00      1.00      1.00         7\n",
      "           2       1.00      1.00      1.00         5\n",
      "\n",
      "    accuracy                           1.00        18\n",
      "   macro avg       1.00      1.00      1.00        18\n",
      "weighted avg       1.00      1.00      1.00        18\n",
      "\n",
      "-------------------------------------------------------------------------------------------------------------------\n"
     ]
    },
    {
     "name": "stderr",
     "output_type": "stream",
     "text": [
      "[Parallel(n_jobs=-1)]: Using backend LokyBackend with 12 concurrent workers.\n",
      "[Parallel(n_jobs=-1)]: Done   3 out of   3 | elapsed:  2.7min finished\n"
     ]
    },
    {
     "name": "stdout",
     "output_type": "stream",
     "text": [
      "K-Fold #4\n",
      "Mean negativities for all classes: [0.2524150729329746, 0.30807327874328944, 0.3421899119564175]\n",
      "Mean entropies for all classes: [9.626479293762083e-15, 9.788626316559572e-15, 6.7723456259652475e-15]\n",
      "              precision    recall  f1-score   support\n",
      "\n",
      "           0       1.00      1.00      1.00         6\n",
      "           1       0.88      1.00      0.93         7\n",
      "           2       1.00      0.80      0.89         5\n",
      "\n",
      "    accuracy                           0.94        18\n",
      "   macro avg       0.96      0.93      0.94        18\n",
      "weighted avg       0.95      0.94      0.94        18\n",
      "\n",
      "-------------------------------------------------------------------------------------------------------------------\n"
     ]
    },
    {
     "name": "stderr",
     "output_type": "stream",
     "text": [
      "[Parallel(n_jobs=-1)]: Using backend LokyBackend with 12 concurrent workers.\n",
      "[Parallel(n_jobs=-1)]: Done   3 out of   3 | elapsed:  2.8min finished\n"
     ]
    },
    {
     "name": "stdout",
     "output_type": "stream",
     "text": [
      "K-Fold #5\n",
      "Mean negativities for all classes: [0.26348466795967584, 0.306471459790007, 0.3666329647975044]\n",
      "Mean entropies for all classes: [9.980681600595851e-15, 1.0078757671434873e-14, 8.698971993137356e-15]\n",
      "              precision    recall  f1-score   support\n",
      "\n",
      "           0       0.83      0.83      0.83         6\n",
      "           1       0.70      1.00      0.82         7\n",
      "           2       1.00      0.40      0.57         5\n",
      "\n",
      "    accuracy                           0.78        18\n",
      "   macro avg       0.84      0.74      0.74        18\n",
      "weighted avg       0.83      0.78      0.76        18\n",
      "\n",
      "-------------------------------------------------------------------------------------------------------------------\n"
     ]
    },
    {
     "name": "stderr",
     "output_type": "stream",
     "text": [
      "[Parallel(n_jobs=-1)]: Using backend LokyBackend with 12 concurrent workers.\n",
      "[Parallel(n_jobs=-1)]: Done   3 out of   3 | elapsed:  2.7min finished\n"
     ]
    },
    {
     "name": "stdout",
     "output_type": "stream",
     "text": [
      "K-Fold #6\n",
      "Mean negativities for all classes: [0.24863982561957787, 0.3126965234197284, 0.37649048718327816]\n",
      "Mean entropies for all classes: [1.027452556529285e-14, 1.015030455274645e-14, 9.077838750652944e-15]\n",
      "              precision    recall  f1-score   support\n",
      "\n",
      "           0       0.75      1.00      0.86         6\n",
      "           1       0.88      1.00      0.93         7\n",
      "           2       1.00      0.40      0.57         5\n",
      "\n",
      "    accuracy                           0.83        18\n",
      "   macro avg       0.88      0.80      0.79        18\n",
      "weighted avg       0.87      0.83      0.81        18\n",
      "\n",
      "-------------------------------------------------------------------------------------------------------------------\n"
     ]
    },
    {
     "name": "stderr",
     "output_type": "stream",
     "text": [
      "[Parallel(n_jobs=-1)]: Using backend LokyBackend with 12 concurrent workers.\n",
      "[Parallel(n_jobs=-1)]: Done   3 out of   3 | elapsed:  2.7min finished\n"
     ]
    },
    {
     "name": "stdout",
     "output_type": "stream",
     "text": [
      "K-Fold #7\n",
      "Mean negativities for all classes: [0.2510905992988076, 0.3178423417386497, 0.3501815314777859]\n",
      "Mean entropies for all classes: [9.985450716484256e-15, 9.62499992278919e-15, 8.846146691973914e-15]\n",
      "              precision    recall  f1-score   support\n",
      "\n",
      "           0       0.67      1.00      0.80         6\n",
      "           1       0.88      1.00      0.93         7\n",
      "           2       1.00      0.20      0.33         5\n",
      "\n",
      "    accuracy                           0.78        18\n",
      "   macro avg       0.85      0.73      0.69        18\n",
      "weighted avg       0.84      0.78      0.72        18\n",
      "\n",
      "-------------------------------------------------------------------------------------------------------------------\n"
     ]
    },
    {
     "name": "stderr",
     "output_type": "stream",
     "text": [
      "[Parallel(n_jobs=-1)]: Using backend LokyBackend with 12 concurrent workers.\n",
      "[Parallel(n_jobs=-1)]: Done   3 out of   3 | elapsed:  2.8min finished\n"
     ]
    },
    {
     "name": "stdout",
     "output_type": "stream",
     "text": [
      "K-Fold #8\n",
      "Mean negativities for all classes: [0.25215696924734027, 0.3038909233303184, 0.3612447918360532]\n",
      "Mean entropies for all classes: [9.770442400917322e-15, 9.117194929191476e-15, 1.0171549418551869e-14]\n",
      "              precision    recall  f1-score   support\n",
      "\n",
      "           0       1.00      1.00      1.00         6\n",
      "           1       1.00      1.00      1.00         7\n",
      "           2       1.00      1.00      1.00         4\n",
      "\n",
      "    accuracy                           1.00        17\n",
      "   macro avg       1.00      1.00      1.00        17\n",
      "weighted avg       1.00      1.00      1.00        17\n",
      "\n",
      "-------------------------------------------------------------------------------------------------------------------\n"
     ]
    },
    {
     "name": "stderr",
     "output_type": "stream",
     "text": [
      "[Parallel(n_jobs=-1)]: Using backend LokyBackend with 12 concurrent workers.\n",
      "[Parallel(n_jobs=-1)]: Done   3 out of   3 | elapsed:  2.7min finished\n"
     ]
    },
    {
     "name": "stdout",
     "output_type": "stream",
     "text": [
      "K-Fold #9\n",
      "Mean negativities for all classes: [0.24898397961209184, 0.31532292676640944, 0.3527759873706638]\n",
      "Mean entropies for all classes: [9.260031660777737e-15, 9.630990477986141e-15, 6.49972526374079e-15]\n",
      "              precision    recall  f1-score   support\n",
      "\n",
      "           0       1.00      1.00      1.00         5\n",
      "           1       1.00      0.62      0.77         8\n",
      "           2       0.57      1.00      0.73         4\n",
      "\n",
      "    accuracy                           0.82        17\n",
      "   macro avg       0.86      0.88      0.83        17\n",
      "weighted avg       0.90      0.82      0.83        17\n",
      "\n",
      "-------------------------------------------------------------------------------------------------------------------\n",
      "AVG: Scores = 0.8823529411764707 F1-Scores = 0.8576169309992838 Negativity = [0.3026162912622587, 0.3085070334501087, 0.31518834597788387] Entropy = [1.0998036179463335e-14, 9.320066291044916e-15, 9.28146424732759e-15]\n"
     ]
    },
    {
     "name": "stderr",
     "output_type": "stream",
     "text": [
      "[Parallel(n_jobs=-1)]: Using backend LokyBackend with 12 concurrent workers.\n",
      "[Parallel(n_jobs=-1)]: Done   3 out of   3 | elapsed:  2.7min finished\n"
     ]
    },
    {
     "name": "stdout",
     "output_type": "stream",
     "text": [
      "K-Fold #0\n",
      "Mean negativities for all classes: [0.24989601055509855, 0.3111909101792624, 0.3636424632604537]\n",
      "Mean entropies for all classes: [9.716961410910994e-15, 9.276819157759906e-15, 9.916851553571135e-15]\n",
      "              precision    recall  f1-score   support\n",
      "\n",
      "           0       1.00      1.00      1.00         6\n",
      "           1       0.78      1.00      0.88         7\n",
      "           2       1.00      0.60      0.75         5\n",
      "\n",
      "    accuracy                           0.89        18\n",
      "   macro avg       0.93      0.87      0.88        18\n",
      "weighted avg       0.91      0.89      0.88        18\n",
      "\n",
      "-------------------------------------------------------------------------------------------------------------------\n"
     ]
    },
    {
     "name": "stderr",
     "output_type": "stream",
     "text": [
      "[Parallel(n_jobs=-1)]: Using backend LokyBackend with 12 concurrent workers.\n",
      "[Parallel(n_jobs=-1)]: Done   3 out of   3 | elapsed:  2.7min finished\n"
     ]
    },
    {
     "name": "stdout",
     "output_type": "stream",
     "text": [
      "K-Fold #1\n",
      "Mean negativities for all classes: [0.2533545167761589, 0.3156665944535753, 0.3721530886186158]\n",
      "Mean entropies for all classes: [9.97616279758128e-15, 9.737438770381561e-15, 8.470205022479526e-15]\n",
      "              precision    recall  f1-score   support\n",
      "\n",
      "           0       0.75      1.00      0.86         6\n",
      "           1       0.70      1.00      0.82         7\n",
      "           2       0.00      0.00      0.00         5\n",
      "\n",
      "    accuracy                           0.72        18\n",
      "   macro avg       0.48      0.67      0.56        18\n",
      "weighted avg       0.52      0.72      0.61        18\n",
      "\n",
      "-------------------------------------------------------------------------------------------------------------------\n"
     ]
    },
    {
     "name": "stderr",
     "output_type": "stream",
     "text": [
      "c:\\ProgramData\\Anaconda3\\lib\\site-packages\\sklearn\\metrics\\_classification.py:1344: UndefinedMetricWarning: Precision and F-score are ill-defined and being set to 0.0 in labels with no predicted samples. Use `zero_division` parameter to control this behavior.\n",
      "  _warn_prf(average, modifier, msg_start, len(result))\n",
      "c:\\ProgramData\\Anaconda3\\lib\\site-packages\\sklearn\\metrics\\_classification.py:1344: UndefinedMetricWarning: Precision and F-score are ill-defined and being set to 0.0 in labels with no predicted samples. Use `zero_division` parameter to control this behavior.\n",
      "  _warn_prf(average, modifier, msg_start, len(result))\n",
      "c:\\ProgramData\\Anaconda3\\lib\\site-packages\\sklearn\\metrics\\_classification.py:1344: UndefinedMetricWarning: Precision and F-score are ill-defined and being set to 0.0 in labels with no predicted samples. Use `zero_division` parameter to control this behavior.\n",
      "  _warn_prf(average, modifier, msg_start, len(result))\n",
      "[Parallel(n_jobs=-1)]: Using backend LokyBackend with 12 concurrent workers.\n",
      "[Parallel(n_jobs=-1)]: Done   3 out of   3 | elapsed:  2.7min finished\n"
     ]
    },
    {
     "name": "stdout",
     "output_type": "stream",
     "text": [
      "K-Fold #2\n",
      "Mean negativities for all classes: [0.2709923963350436, 0.314890659643732, 0.37202499843075587]\n",
      "Mean entropies for all classes: [9.85544919227964e-15, 9.380789423738241e-15, 1.0333388731671439e-14]\n",
      "              precision    recall  f1-score   support\n",
      "\n",
      "           0       0.86      1.00      0.92         6\n",
      "           1       0.78      1.00      0.88         7\n",
      "           2       1.00      0.40      0.57         5\n",
      "\n",
      "    accuracy                           0.83        18\n",
      "   macro avg       0.88      0.80      0.79        18\n",
      "weighted avg       0.87      0.83      0.81        18\n",
      "\n",
      "-------------------------------------------------------------------------------------------------------------------\n"
     ]
    },
    {
     "name": "stderr",
     "output_type": "stream",
     "text": [
      "[Parallel(n_jobs=-1)]: Using backend LokyBackend with 12 concurrent workers.\n",
      "[Parallel(n_jobs=-1)]: Done   3 out of   3 | elapsed:  2.8min finished\n"
     ]
    },
    {
     "name": "stdout",
     "output_type": "stream",
     "text": [
      "K-Fold #3\n",
      "Mean negativities for all classes: [0.2583853449268302, 0.31910329019785844, 0.3361682022049958]\n",
      "Mean entropies for all classes: [9.670049583524004e-15, 9.41774513333042e-15, 7.788637349809938e-15]\n",
      "              precision    recall  f1-score   support\n",
      "\n",
      "           0       1.00      1.00      1.00         6\n",
      "           1       1.00      0.86      0.92         7\n",
      "           2       0.83      1.00      0.91         5\n",
      "\n",
      "    accuracy                           0.94        18\n",
      "   macro avg       0.94      0.95      0.94        18\n",
      "weighted avg       0.95      0.94      0.94        18\n",
      "\n",
      "-------------------------------------------------------------------------------------------------------------------\n"
     ]
    },
    {
     "name": "stderr",
     "output_type": "stream",
     "text": [
      "[Parallel(n_jobs=-1)]: Using backend LokyBackend with 12 concurrent workers.\n",
      "[Parallel(n_jobs=-1)]: Done   3 out of   3 | elapsed:  2.7min finished\n"
     ]
    },
    {
     "name": "stdout",
     "output_type": "stream",
     "text": [
      "K-Fold #4\n",
      "Mean negativities for all classes: [0.2543413102648258, 0.3113906144022678, 0.3699276728032124]\n",
      "Mean entropies for all classes: [1.0086130395052505e-14, 9.646568273107253e-15, 9.252102091167735e-15]\n",
      "              precision    recall  f1-score   support\n",
      "\n",
      "           0       0.67      1.00      0.80         6\n",
      "           1       0.88      1.00      0.93         7\n",
      "           2       1.00      0.20      0.33         5\n",
      "\n",
      "    accuracy                           0.78        18\n",
      "   macro avg       0.85      0.73      0.69        18\n",
      "weighted avg       0.84      0.78      0.72        18\n",
      "\n",
      "-------------------------------------------------------------------------------------------------------------------\n"
     ]
    },
    {
     "name": "stderr",
     "output_type": "stream",
     "text": [
      "[Parallel(n_jobs=-1)]: Using backend LokyBackend with 12 concurrent workers.\n",
      "[Parallel(n_jobs=-1)]: Done   3 out of   3 | elapsed:  2.7min finished\n"
     ]
    },
    {
     "name": "stdout",
     "output_type": "stream",
     "text": [
      "K-Fold #5\n",
      "Mean negativities for all classes: [0.25168621835343374, 0.31572556747252356, 0.3740055919582257]\n",
      "Mean entropies for all classes: [9.755741105115511e-15, 9.85267644840133e-15, 1.0884292083584883e-14]\n",
      "              precision    recall  f1-score   support\n",
      "\n",
      "           0       0.75      1.00      0.86         6\n",
      "           1       0.78      1.00      0.88         7\n",
      "           2       1.00      0.20      0.33         5\n",
      "\n",
      "    accuracy                           0.78        18\n",
      "   macro avg       0.84      0.73      0.69        18\n",
      "weighted avg       0.83      0.78      0.72        18\n",
      "\n",
      "-------------------------------------------------------------------------------------------------------------------\n"
     ]
    },
    {
     "name": "stderr",
     "output_type": "stream",
     "text": [
      "[Parallel(n_jobs=-1)]: Using backend LokyBackend with 12 concurrent workers.\n",
      "[Parallel(n_jobs=-1)]: Done   3 out of   3 | elapsed:  2.8min finished\n"
     ]
    },
    {
     "name": "stdout",
     "output_type": "stream",
     "text": [
      "K-Fold #6\n",
      "Mean negativities for all classes: [0.2631286667356416, 0.30574147527762674, 0.35737244920909916]\n",
      "Mean entropies for all classes: [9.626496322828529e-15, 9.588844791031158e-15, 1.1699739585489132e-14]\n",
      "              precision    recall  f1-score   support\n",
      "\n",
      "           0       1.00      0.83      0.91         6\n",
      "           1       0.88      1.00      0.93         7\n",
      "           2       1.00      1.00      1.00         5\n",
      "\n",
      "    accuracy                           0.94        18\n",
      "   macro avg       0.96      0.94      0.95        18\n",
      "weighted avg       0.95      0.94      0.94        18\n",
      "\n",
      "-------------------------------------------------------------------------------------------------------------------\n"
     ]
    },
    {
     "name": "stderr",
     "output_type": "stream",
     "text": [
      "[Parallel(n_jobs=-1)]: Using backend LokyBackend with 12 concurrent workers.\n",
      "[Parallel(n_jobs=-1)]: Done   3 out of   3 | elapsed:  2.7min finished\n"
     ]
    },
    {
     "name": "stdout",
     "output_type": "stream",
     "text": [
      "K-Fold #7\n",
      "Mean negativities for all classes: [0.24711771624706103, 0.31343887113366103, 0.3628503381192977]\n",
      "Mean entropies for all classes: [9.302800210429997e-15, 9.41105008400694e-15, 8.659575054295624e-15]\n",
      "              precision    recall  f1-score   support\n",
      "\n",
      "           0       1.00      1.00      1.00         6\n",
      "           1       1.00      0.71      0.83         7\n",
      "           2       0.71      1.00      0.83         5\n",
      "\n",
      "    accuracy                           0.89        18\n",
      "   macro avg       0.90      0.90      0.89        18\n",
      "weighted avg       0.92      0.89      0.89        18\n",
      "\n",
      "-------------------------------------------------------------------------------------------------------------------\n"
     ]
    },
    {
     "name": "stderr",
     "output_type": "stream",
     "text": [
      "[Parallel(n_jobs=-1)]: Using backend LokyBackend with 12 concurrent workers.\n",
      "[Parallel(n_jobs=-1)]: Done   3 out of   3 | elapsed:  2.7min finished\n"
     ]
    },
    {
     "name": "stdout",
     "output_type": "stream",
     "text": [
      "K-Fold #8\n",
      "Mean negativities for all classes: [0.2511313006125998, 0.29961551857332713, 0.3812940577030285]\n",
      "Mean entropies for all classes: [1.0115928080043747e-14, 9.870897677420268e-15, 8.999207508845201e-15]\n",
      "              precision    recall  f1-score   support\n",
      "\n",
      "           0       1.00      1.00      1.00         6\n",
      "           1       0.88      1.00      0.93         7\n",
      "           2       1.00      0.75      0.86         4\n",
      "\n",
      "    accuracy                           0.94        17\n",
      "   macro avg       0.96      0.92      0.93        17\n",
      "weighted avg       0.95      0.94      0.94        17\n",
      "\n",
      "-------------------------------------------------------------------------------------------------------------------\n"
     ]
    },
    {
     "name": "stderr",
     "output_type": "stream",
     "text": [
      "[Parallel(n_jobs=-1)]: Using backend LokyBackend with 12 concurrent workers.\n",
      "[Parallel(n_jobs=-1)]: Done   3 out of   3 | elapsed:  2.7min finished\n"
     ]
    },
    {
     "name": "stdout",
     "output_type": "stream",
     "text": [
      "K-Fold #9\n",
      "Mean negativities for all classes: [0.25323020660577233, 0.3133282151476222, 0.3708243666366655]\n",
      "Mean entropies for all classes: [9.645761492085038e-15, 9.616557656449314e-15, 7.632071103503883e-15]\n",
      "              precision    recall  f1-score   support\n",
      "\n",
      "           0       0.80      0.80      0.80         5\n",
      "           1       0.80      1.00      0.89         8\n",
      "           2       1.00      0.50      0.67         4\n",
      "\n",
      "    accuracy                           0.82        17\n",
      "   macro avg       0.87      0.77      0.79        17\n",
      "weighted avg       0.85      0.82      0.81        17\n",
      "\n",
      "-------------------------------------------------------------------------------------------------------------------\n",
      "AVG: Scores = 0.8542483660130719 F1-Scores = 0.8098203702615467 Negativity = [0.3082431279982715, 0.31372473328278333, 0.31930268480317714] Entropy = [9.636877374080677e-15, 9.394602196814122e-15, 9.856542449229773e-15]\n"
     ]
    },
    {
     "name": "stderr",
     "output_type": "stream",
     "text": [
      "[Parallel(n_jobs=-1)]: Using backend LokyBackend with 12 concurrent workers.\n",
      "[Parallel(n_jobs=-1)]: Done   3 out of   3 | elapsed:  2.7min finished\n"
     ]
    },
    {
     "name": "stdout",
     "output_type": "stream",
     "text": [
      "K-Fold #0\n",
      "Mean negativities for all classes: [0.2539762292431927, 0.3180624925012301, 0.3681067441285534]\n",
      "Mean entropies for all classes: [9.905226304956905e-15, 9.72196228921112e-15, 8.15914165857431e-15]\n",
      "              precision    recall  f1-score   support\n",
      "\n",
      "           0       1.00      1.00      1.00         6\n",
      "           1       0.70      1.00      0.82         7\n",
      "           2       1.00      0.40      0.57         5\n",
      "\n",
      "    accuracy                           0.83        18\n",
      "   macro avg       0.90      0.80      0.80        18\n",
      "weighted avg       0.88      0.83      0.81        18\n",
      "\n",
      "-------------------------------------------------------------------------------------------------------------------\n"
     ]
    },
    {
     "name": "stderr",
     "output_type": "stream",
     "text": [
      "[Parallel(n_jobs=-1)]: Using backend LokyBackend with 12 concurrent workers.\n",
      "[Parallel(n_jobs=-1)]: Done   3 out of   3 | elapsed:  2.8min finished\n"
     ]
    },
    {
     "name": "stdout",
     "output_type": "stream",
     "text": [
      "K-Fold #1\n",
      "Mean negativities for all classes: [0.2539805361387789, 0.30503847312093435, 0.34418303023464586]\n",
      "Mean entropies for all classes: [9.624751891925145e-15, 9.656274060994184e-15, 9.83909145854905e-15]\n",
      "              precision    recall  f1-score   support\n",
      "\n",
      "           0       1.00      1.00      1.00         6\n",
      "           1       0.70      1.00      0.82         7\n",
      "           2       1.00      0.40      0.57         5\n",
      "\n",
      "    accuracy                           0.83        18\n",
      "   macro avg       0.90      0.80      0.80        18\n",
      "weighted avg       0.88      0.83      0.81        18\n",
      "\n",
      "-------------------------------------------------------------------------------------------------------------------\n"
     ]
    },
    {
     "name": "stderr",
     "output_type": "stream",
     "text": [
      "[Parallel(n_jobs=-1)]: Using backend LokyBackend with 12 concurrent workers.\n",
      "[Parallel(n_jobs=-1)]: Done   3 out of   3 | elapsed:  2.7min finished\n"
     ]
    },
    {
     "name": "stdout",
     "output_type": "stream",
     "text": [
      "K-Fold #2\n",
      "Mean negativities for all classes: [0.2656882737137871, 0.31378374653446595, 0.35964673618008725]\n",
      "Mean entropies for all classes: [9.572046356433946e-15, 9.458592371761344e-15, 7.014956849628748e-15]\n",
      "              precision    recall  f1-score   support\n",
      "\n",
      "           0       1.00      0.83      0.91         6\n",
      "           1       0.78      1.00      0.88         7\n",
      "           2       1.00      0.80      0.89         5\n",
      "\n",
      "    accuracy                           0.89        18\n",
      "   macro avg       0.93      0.88      0.89        18\n",
      "weighted avg       0.91      0.89      0.89        18\n",
      "\n",
      "-------------------------------------------------------------------------------------------------------------------\n"
     ]
    },
    {
     "name": "stderr",
     "output_type": "stream",
     "text": [
      "[Parallel(n_jobs=-1)]: Using backend LokyBackend with 12 concurrent workers.\n",
      "[Parallel(n_jobs=-1)]: Done   3 out of   3 | elapsed:  2.8min finished\n"
     ]
    },
    {
     "name": "stdout",
     "output_type": "stream",
     "text": [
      "K-Fold #3\n",
      "Mean negativities for all classes: [0.26629360142775477, 0.30748607588838117, 0.3626287275126968]\n",
      "Mean entropies for all classes: [9.653138158926906e-15, 9.3649798745885e-15, 1.1503187315125395e-14]\n",
      "              precision    recall  f1-score   support\n",
      "\n",
      "           0       0.86      1.00      0.92         6\n",
      "           1       1.00      1.00      1.00         7\n",
      "           2       1.00      0.80      0.89         5\n",
      "\n",
      "    accuracy                           0.94        18\n",
      "   macro avg       0.95      0.93      0.94        18\n",
      "weighted avg       0.95      0.94      0.94        18\n",
      "\n",
      "-------------------------------------------------------------------------------------------------------------------\n"
     ]
    },
    {
     "name": "stderr",
     "output_type": "stream",
     "text": [
      "[Parallel(n_jobs=-1)]: Using backend LokyBackend with 12 concurrent workers.\n",
      "[Parallel(n_jobs=-1)]: Done   3 out of   3 | elapsed:  2.8min finished\n"
     ]
    },
    {
     "name": "stdout",
     "output_type": "stream",
     "text": [
      "K-Fold #4\n",
      "Mean negativities for all classes: [0.25141030083664667, 0.3118196931189625, 0.3573530502067565]\n",
      "Mean entropies for all classes: [9.779363940746082e-15, 1.0388497785151351e-14, 1.3305356366113046e-14]\n",
      "              precision    recall  f1-score   support\n",
      "\n",
      "           0       0.86      1.00      0.92         6\n",
      "           1       0.78      1.00      0.88         7\n",
      "           2       1.00      0.40      0.57         5\n",
      "\n",
      "    accuracy                           0.83        18\n",
      "   macro avg       0.88      0.80      0.79        18\n",
      "weighted avg       0.87      0.83      0.81        18\n",
      "\n",
      "-------------------------------------------------------------------------------------------------------------------\n"
     ]
    },
    {
     "name": "stderr",
     "output_type": "stream",
     "text": [
      "[Parallel(n_jobs=-1)]: Using backend LokyBackend with 12 concurrent workers.\n",
      "[Parallel(n_jobs=-1)]: Done   3 out of   3 | elapsed:  2.7min finished\n"
     ]
    },
    {
     "name": "stdout",
     "output_type": "stream",
     "text": [
      "K-Fold #5\n",
      "Mean negativities for all classes: [0.2748928551787229, 0.31632412198733784, 0.36436284241928024]\n",
      "Mean entropies for all classes: [9.952626414842304e-15, 9.714325570419849e-15, 1.1320654861806094e-14]\n",
      "              precision    recall  f1-score   support\n",
      "\n",
      "           0       1.00      0.83      0.91         6\n",
      "           1       0.70      1.00      0.82         7\n",
      "           2       1.00      0.60      0.75         5\n",
      "\n",
      "    accuracy                           0.83        18\n",
      "   macro avg       0.90      0.81      0.83        18\n",
      "weighted avg       0.88      0.83      0.83        18\n",
      "\n",
      "-------------------------------------------------------------------------------------------------------------------\n"
     ]
    },
    {
     "name": "stderr",
     "output_type": "stream",
     "text": [
      "[Parallel(n_jobs=-1)]: Using backend LokyBackend with 12 concurrent workers.\n",
      "[Parallel(n_jobs=-1)]: Done   3 out of   3 | elapsed:  2.8min finished\n"
     ]
    },
    {
     "name": "stdout",
     "output_type": "stream",
     "text": [
      "K-Fold #6\n",
      "Mean negativities for all classes: [0.24946330126678312, 0.3003913760423479, 0.36552799852779866]\n",
      "Mean entropies for all classes: [9.62584546675782e-15, 9.495281423776843e-15, 9.393660740631761e-15]\n",
      "              precision    recall  f1-score   support\n",
      "\n",
      "           0       1.00      1.00      1.00         6\n",
      "           1       1.00      1.00      1.00         7\n",
      "           2       1.00      1.00      1.00         5\n",
      "\n",
      "    accuracy                           1.00        18\n",
      "   macro avg       1.00      1.00      1.00        18\n",
      "weighted avg       1.00      1.00      1.00        18\n",
      "\n",
      "-------------------------------------------------------------------------------------------------------------------\n"
     ]
    },
    {
     "name": "stderr",
     "output_type": "stream",
     "text": [
      "[Parallel(n_jobs=-1)]: Using backend LokyBackend with 12 concurrent workers.\n",
      "[Parallel(n_jobs=-1)]: Done   3 out of   3 | elapsed:  2.8min finished\n"
     ]
    },
    {
     "name": "stdout",
     "output_type": "stream",
     "text": [
      "K-Fold #7\n",
      "Mean negativities for all classes: [0.2557555761210957, 0.30588593656271273, 0.35201882270560064]\n",
      "Mean entropies for all classes: [9.660868704654404e-15, 9.889999132172316e-15, 8.398965081442988e-15]\n",
      "              precision    recall  f1-score   support\n",
      "\n",
      "           0       1.00      1.00      1.00         6\n",
      "           1       1.00      1.00      1.00         7\n",
      "           2       1.00      1.00      1.00         5\n",
      "\n",
      "    accuracy                           1.00        18\n",
      "   macro avg       1.00      1.00      1.00        18\n",
      "weighted avg       1.00      1.00      1.00        18\n",
      "\n",
      "-------------------------------------------------------------------------------------------------------------------\n"
     ]
    },
    {
     "name": "stderr",
     "output_type": "stream",
     "text": [
      "[Parallel(n_jobs=-1)]: Using backend LokyBackend with 12 concurrent workers.\n",
      "[Parallel(n_jobs=-1)]: Done   3 out of   3 | elapsed:  2.8min finished\n"
     ]
    },
    {
     "name": "stdout",
     "output_type": "stream",
     "text": [
      "K-Fold #8\n",
      "Mean negativities for all classes: [0.2474681149435573, 0.3138684709011916, 0.37515382747463766]\n",
      "Mean entropies for all classes: [9.963809591669955e-15, 9.583730265677442e-15, 7.428332398361736e-15]\n",
      "              precision    recall  f1-score   support\n",
      "\n",
      "           0       1.00      1.00      1.00         6\n",
      "           1       0.88      1.00      0.93         7\n",
      "           2       1.00      0.75      0.86         4\n",
      "\n",
      "    accuracy                           0.94        17\n",
      "   macro avg       0.96      0.92      0.93        17\n",
      "weighted avg       0.95      0.94      0.94        17\n",
      "\n",
      "-------------------------------------------------------------------------------------------------------------------\n"
     ]
    },
    {
     "name": "stderr",
     "output_type": "stream",
     "text": [
      "[Parallel(n_jobs=-1)]: Using backend LokyBackend with 12 concurrent workers.\n",
      "[Parallel(n_jobs=-1)]: Done   3 out of   3 | elapsed:  2.8min finished\n"
     ]
    },
    {
     "name": "stdout",
     "output_type": "stream",
     "text": [
      "K-Fold #9\n",
      "Mean negativities for all classes: [0.24483162223938196, 0.3158460211005694, 0.3634637043924009]\n",
      "Mean entropies for all classes: [9.571748649146389e-15, 9.447542390923416e-15, 1.190072831030084e-14]\n",
      "              precision    recall  f1-score   support\n",
      "\n",
      "           0       0.83      1.00      0.91         5\n",
      "           1       1.00      0.88      0.93         8\n",
      "           2       1.00      1.00      1.00         4\n",
      "\n",
      "    accuracy                           0.94        17\n",
      "   macro avg       0.94      0.96      0.95        17\n",
      "weighted avg       0.95      0.94      0.94        17\n",
      "\n",
      "-------------------------------------------------------------------------------------------------------------------\n",
      "AVG: Scores = 0.9049019607843137 F1-Scores = 0.8919962608197902 Negativity = [0.3133818219576587, 0.3010673464981197, 0.31303958547611344] Entropy = [9.262110084247445e-15, 9.706705803822792e-15, 8.681865192608013e-15]\n"
     ]
    },
    {
     "name": "stderr",
     "output_type": "stream",
     "text": [
      "[Parallel(n_jobs=-1)]: Using backend LokyBackend with 12 concurrent workers.\n",
      "[Parallel(n_jobs=-1)]: Done   3 out of   3 | elapsed:  2.7min finished\n"
     ]
    },
    {
     "name": "stdout",
     "output_type": "stream",
     "text": [
      "K-Fold #0\n",
      "Mean negativities for all classes: [0.2523973556776042, 0.30750669746009524, 0.36799512699867687]\n",
      "Mean entropies for all classes: [9.900145568920347e-15, 9.545562262389002e-15, 8.430790481980197e-15]\n",
      "              precision    recall  f1-score   support\n",
      "\n",
      "           0       0.75      1.00      0.86         6\n",
      "           1       0.78      1.00      0.88         7\n",
      "           2       1.00      0.20      0.33         5\n",
      "\n",
      "    accuracy                           0.78        18\n",
      "   macro avg       0.84      0.73      0.69        18\n",
      "weighted avg       0.83      0.78      0.72        18\n",
      "\n",
      "-------------------------------------------------------------------------------------------------------------------\n"
     ]
    },
    {
     "name": "stderr",
     "output_type": "stream",
     "text": [
      "[Parallel(n_jobs=-1)]: Using backend LokyBackend with 12 concurrent workers.\n",
      "[Parallel(n_jobs=-1)]: Done   3 out of   3 | elapsed:  2.8min finished\n"
     ]
    },
    {
     "name": "stdout",
     "output_type": "stream",
     "text": [
      "K-Fold #1\n",
      "Mean negativities for all classes: [0.27037623648862674, 0.306159083905467, 0.3665478778573061]\n",
      "Mean entropies for all classes: [9.53471151192084e-15, 9.585031736583428e-15, 9.702569345675542e-15]\n",
      "              precision    recall  f1-score   support\n",
      "\n",
      "           0       0.62      0.83      0.71         6\n",
      "           1       0.88      1.00      0.93         7\n",
      "           2       1.00      0.40      0.57         5\n",
      "\n",
      "    accuracy                           0.78        18\n",
      "   macro avg       0.83      0.74      0.74        18\n",
      "weighted avg       0.83      0.78      0.76        18\n",
      "\n",
      "-------------------------------------------------------------------------------------------------------------------\n"
     ]
    },
    {
     "name": "stderr",
     "output_type": "stream",
     "text": [
      "[Parallel(n_jobs=-1)]: Using backend LokyBackend with 12 concurrent workers.\n",
      "[Parallel(n_jobs=-1)]: Done   3 out of   3 | elapsed:  2.8min finished\n"
     ]
    },
    {
     "name": "stdout",
     "output_type": "stream",
     "text": [
      "K-Fold #2\n",
      "Mean negativities for all classes: [0.2482446430756268, 0.30213004015064504, 0.3760163506986172]\n",
      "Mean entropies for all classes: [9.476558227409388e-15, 1.0155754775918446e-14, 1.0857701472239478e-14]\n",
      "              precision    recall  f1-score   support\n",
      "\n",
      "           0       0.86      1.00      0.92         6\n",
      "           1       0.64      1.00      0.78         7\n",
      "           2       0.00      0.00      0.00         5\n",
      "\n",
      "    accuracy                           0.72        18\n",
      "   macro avg       0.50      0.67      0.57        18\n",
      "weighted avg       0.53      0.72      0.61        18\n",
      "\n",
      "-------------------------------------------------------------------------------------------------------------------\n"
     ]
    },
    {
     "name": "stderr",
     "output_type": "stream",
     "text": [
      "c:\\ProgramData\\Anaconda3\\lib\\site-packages\\sklearn\\metrics\\_classification.py:1344: UndefinedMetricWarning: Precision and F-score are ill-defined and being set to 0.0 in labels with no predicted samples. Use `zero_division` parameter to control this behavior.\n",
      "  _warn_prf(average, modifier, msg_start, len(result))\n",
      "c:\\ProgramData\\Anaconda3\\lib\\site-packages\\sklearn\\metrics\\_classification.py:1344: UndefinedMetricWarning: Precision and F-score are ill-defined and being set to 0.0 in labels with no predicted samples. Use `zero_division` parameter to control this behavior.\n",
      "  _warn_prf(average, modifier, msg_start, len(result))\n",
      "c:\\ProgramData\\Anaconda3\\lib\\site-packages\\sklearn\\metrics\\_classification.py:1344: UndefinedMetricWarning: Precision and F-score are ill-defined and being set to 0.0 in labels with no predicted samples. Use `zero_division` parameter to control this behavior.\n",
      "  _warn_prf(average, modifier, msg_start, len(result))\n",
      "[Parallel(n_jobs=-1)]: Using backend LokyBackend with 12 concurrent workers.\n",
      "[Parallel(n_jobs=-1)]: Done   3 out of   3 | elapsed:  2.8min finished\n"
     ]
    },
    {
     "name": "stdout",
     "output_type": "stream",
     "text": [
      "K-Fold #3\n",
      "Mean negativities for all classes: [0.25105460847479566, 0.30788255893927746, 0.36382698431268423]\n",
      "Mean entropies for all classes: [9.997235120340271e-15, 9.584701618976927e-15, 8.487109121820016e-15]\n",
      "              precision    recall  f1-score   support\n",
      "\n",
      "           0       1.00      1.00      1.00         6\n",
      "           1       0.88      1.00      0.93         7\n",
      "           2       1.00      0.80      0.89         5\n",
      "\n",
      "    accuracy                           0.94        18\n",
      "   macro avg       0.96      0.93      0.94        18\n",
      "weighted avg       0.95      0.94      0.94        18\n",
      "\n",
      "-------------------------------------------------------------------------------------------------------------------\n"
     ]
    },
    {
     "name": "stderr",
     "output_type": "stream",
     "text": [
      "[Parallel(n_jobs=-1)]: Using backend LokyBackend with 12 concurrent workers.\n",
      "[Parallel(n_jobs=-1)]: Done   3 out of   3 | elapsed:  2.7min finished\n"
     ]
    },
    {
     "name": "stdout",
     "output_type": "stream",
     "text": [
      "K-Fold #4\n",
      "Mean negativities for all classes: [0.2519905812126118, 0.3169029020700682, 0.37446658316393117]\n",
      "Mean entropies for all classes: [9.741938853428878e-15, 9.43403335572981e-15, 7.909843329809587e-15]\n",
      "              precision    recall  f1-score   support\n",
      "\n",
      "           0       1.00      1.00      1.00         6\n",
      "           1       0.70      1.00      0.82         7\n",
      "           2       1.00      0.40      0.57         5\n",
      "\n",
      "    accuracy                           0.83        18\n",
      "   macro avg       0.90      0.80      0.80        18\n",
      "weighted avg       0.88      0.83      0.81        18\n",
      "\n",
      "-------------------------------------------------------------------------------------------------------------------\n"
     ]
    },
    {
     "name": "stderr",
     "output_type": "stream",
     "text": [
      "[Parallel(n_jobs=-1)]: Using backend LokyBackend with 12 concurrent workers.\n",
      "[Parallel(n_jobs=-1)]: Done   3 out of   3 | elapsed:  2.7min finished\n"
     ]
    },
    {
     "name": "stdout",
     "output_type": "stream",
     "text": [
      "K-Fold #5\n",
      "Mean negativities for all classes: [0.25426489177058836, 0.3114051158525485, 0.3629025773115729]\n",
      "Mean entropies for all classes: [9.344372735267503e-15, 9.849096184823118e-15, 8.65882951767405e-15]\n",
      "              precision    recall  f1-score   support\n",
      "\n",
      "           0       0.75      1.00      0.86         6\n",
      "           1       0.86      0.86      0.86         7\n",
      "           2       1.00      0.60      0.75         5\n",
      "\n",
      "    accuracy                           0.83        18\n",
      "   macro avg       0.87      0.82      0.82        18\n",
      "weighted avg       0.86      0.83      0.83        18\n",
      "\n",
      "-------------------------------------------------------------------------------------------------------------------\n"
     ]
    },
    {
     "name": "stderr",
     "output_type": "stream",
     "text": [
      "[Parallel(n_jobs=-1)]: Using backend LokyBackend with 12 concurrent workers.\n",
      "[Parallel(n_jobs=-1)]: Done   3 out of   3 | elapsed:  2.8min finished\n"
     ]
    },
    {
     "name": "stdout",
     "output_type": "stream",
     "text": [
      "K-Fold #6\n",
      "Mean negativities for all classes: [0.2494876799882073, 0.30503876930545004, 0.36921665030004097]\n",
      "Mean entropies for all classes: [1.0099229136494735e-14, 9.638969306264218e-15, 8.704486056688487e-15]\n",
      "              precision    recall  f1-score   support\n",
      "\n",
      "           0       0.75      1.00      0.86         6\n",
      "           1       0.78      1.00      0.88         7\n",
      "           2       1.00      0.20      0.33         5\n",
      "\n",
      "    accuracy                           0.78        18\n",
      "   macro avg       0.84      0.73      0.69        18\n",
      "weighted avg       0.83      0.78      0.72        18\n",
      "\n",
      "-------------------------------------------------------------------------------------------------------------------\n"
     ]
    },
    {
     "name": "stderr",
     "output_type": "stream",
     "text": [
      "[Parallel(n_jobs=-1)]: Using backend LokyBackend with 12 concurrent workers.\n",
      "[Parallel(n_jobs=-1)]: Done   3 out of   3 | elapsed:  2.8min finished\n"
     ]
    },
    {
     "name": "stdout",
     "output_type": "stream",
     "text": [
      "K-Fold #7\n",
      "Mean negativities for all classes: [0.2554495482701245, 0.31386470516415776, 0.37482118599495023]\n",
      "Mean entropies for all classes: [9.169129584425432e-15, 1.0097499474133704e-14, 1.0715257164227527e-14]\n",
      "              precision    recall  f1-score   support\n",
      "\n",
      "           0       0.86      1.00      0.92         6\n",
      "           1       0.88      1.00      0.93         7\n",
      "           2       1.00      0.60      0.75         5\n",
      "\n",
      "    accuracy                           0.89        18\n",
      "   macro avg       0.91      0.87      0.87        18\n",
      "weighted avg       0.90      0.89      0.88        18\n",
      "\n",
      "-------------------------------------------------------------------------------------------------------------------\n"
     ]
    },
    {
     "name": "stderr",
     "output_type": "stream",
     "text": [
      "[Parallel(n_jobs=-1)]: Using backend LokyBackend with 12 concurrent workers.\n",
      "[Parallel(n_jobs=-1)]: Done   3 out of   3 | elapsed:  2.7min finished\n"
     ]
    },
    {
     "name": "stdout",
     "output_type": "stream",
     "text": [
      "K-Fold #8\n",
      "Mean negativities for all classes: [0.2627461581566651, 0.31203326542598153, 0.34916312869504257]\n",
      "Mean entropies for all classes: [9.982800930428838e-15, 9.725641066736505e-15, 9.372659235926193e-15]\n",
      "              precision    recall  f1-score   support\n",
      "\n",
      "           0       0.83      0.83      0.83         6\n",
      "           1       0.86      0.86      0.86         7\n",
      "           2       1.00      1.00      1.00         4\n",
      "\n",
      "    accuracy                           0.88        17\n",
      "   macro avg       0.90      0.90      0.90        17\n",
      "weighted avg       0.88      0.88      0.88        17\n",
      "\n",
      "-------------------------------------------------------------------------------------------------------------------\n"
     ]
    },
    {
     "name": "stderr",
     "output_type": "stream",
     "text": [
      "[Parallel(n_jobs=-1)]: Using backend LokyBackend with 12 concurrent workers.\n",
      "[Parallel(n_jobs=-1)]: Done   3 out of   3 | elapsed:  2.7min finished\n"
     ]
    },
    {
     "name": "stdout",
     "output_type": "stream",
     "text": [
      "K-Fold #9\n",
      "Mean negativities for all classes: [0.25124769112703194, 0.3129070339665795, 0.3715361753002407]\n",
      "Mean entropies for all classes: [9.530028779546822e-15, 9.669251429175152e-15, 7.077723082447237e-15]\n",
      "              precision    recall  f1-score   support\n",
      "\n",
      "           0       0.56      1.00      0.71         5\n",
      "           1       1.00      0.88      0.93         8\n",
      "           2       1.00      0.25      0.40         4\n",
      "\n",
      "    accuracy                           0.76        17\n",
      "   macro avg       0.85      0.71      0.68        17\n",
      "weighted avg       0.87      0.76      0.74        17\n",
      "\n",
      "-------------------------------------------------------------------------------------------------------------------\n",
      "AVG: Scores = 0.8202614379084967 F1-Scores = 0.7692275371687137 Negativity = [0.3092997267121254, 0.31436106608379993, 0.30879701130829634] Entropy = [9.292166104429849e-15, 9.60743753139327e-15, 1.0163338158522436e-14]\n"
     ]
    },
    {
     "name": "stderr",
     "output_type": "stream",
     "text": [
      "[Parallel(n_jobs=-1)]: Using backend LokyBackend with 12 concurrent workers.\n",
      "[Parallel(n_jobs=-1)]: Done   3 out of   3 | elapsed:  2.7min finished\n"
     ]
    },
    {
     "name": "stdout",
     "output_type": "stream",
     "text": [
      "K-Fold #0\n",
      "Mean negativities for all classes: [0.2513010332177843, 0.3124133131350435, 0.359676332290908]\n",
      "Mean entropies for all classes: [9.529654752511196e-15, 9.80941535098597e-15, 9.072877625735557e-15]\n",
      "              precision    recall  f1-score   support\n",
      "\n",
      "           0       1.00      1.00      1.00         6\n",
      "           1       0.78      1.00      0.88         7\n",
      "           2       1.00      0.60      0.75         5\n",
      "\n",
      "    accuracy                           0.89        18\n",
      "   macro avg       0.93      0.87      0.88        18\n",
      "weighted avg       0.91      0.89      0.88        18\n",
      "\n",
      "-------------------------------------------------------------------------------------------------------------------\n"
     ]
    },
    {
     "name": "stderr",
     "output_type": "stream",
     "text": [
      "[Parallel(n_jobs=-1)]: Using backend LokyBackend with 12 concurrent workers.\n",
      "[Parallel(n_jobs=-1)]: Done   3 out of   3 | elapsed:  2.7min finished\n"
     ]
    },
    {
     "name": "stdout",
     "output_type": "stream",
     "text": [
      "K-Fold #1\n",
      "Mean negativities for all classes: [0.2660579874788468, 0.30995472785890593, 0.36517390368511793]\n",
      "Mean entropies for all classes: [9.500426996409505e-15, 9.043449912974693e-15, 8.837210374209498e-15]\n",
      "              precision    recall  f1-score   support\n",
      "\n",
      "           0       0.71      0.83      0.77         6\n",
      "           1       0.75      0.86      0.80         7\n",
      "           2       1.00      0.60      0.75         5\n",
      "\n",
      "    accuracy                           0.78        18\n",
      "   macro avg       0.82      0.76      0.77        18\n",
      "weighted avg       0.81      0.78      0.78        18\n",
      "\n",
      "-------------------------------------------------------------------------------------------------------------------\n"
     ]
    },
    {
     "name": "stderr",
     "output_type": "stream",
     "text": [
      "[Parallel(n_jobs=-1)]: Using backend LokyBackend with 12 concurrent workers.\n",
      "[Parallel(n_jobs=-1)]: Done   3 out of   3 | elapsed:  2.7min finished\n"
     ]
    },
    {
     "name": "stdout",
     "output_type": "stream",
     "text": [
      "K-Fold #2\n",
      "Mean negativities for all classes: [0.2656469780462157, 0.3068550419373744, 0.37401578907219335]\n",
      "Mean entropies for all classes: [9.876023937597052e-15, 9.766023865825552e-15, 1.0098134225137806e-14]\n",
      "              precision    recall  f1-score   support\n",
      "\n",
      "           0       0.55      1.00      0.71         6\n",
      "           1       1.00      1.00      1.00         7\n",
      "           2       0.00      0.00      0.00         5\n",
      "\n",
      "    accuracy                           0.72        18\n",
      "   macro avg       0.52      0.67      0.57        18\n",
      "weighted avg       0.57      0.72      0.62        18\n",
      "\n",
      "-------------------------------------------------------------------------------------------------------------------\n"
     ]
    },
    {
     "name": "stderr",
     "output_type": "stream",
     "text": [
      "c:\\ProgramData\\Anaconda3\\lib\\site-packages\\sklearn\\metrics\\_classification.py:1344: UndefinedMetricWarning: Precision and F-score are ill-defined and being set to 0.0 in labels with no predicted samples. Use `zero_division` parameter to control this behavior.\n",
      "  _warn_prf(average, modifier, msg_start, len(result))\n",
      "c:\\ProgramData\\Anaconda3\\lib\\site-packages\\sklearn\\metrics\\_classification.py:1344: UndefinedMetricWarning: Precision and F-score are ill-defined and being set to 0.0 in labels with no predicted samples. Use `zero_division` parameter to control this behavior.\n",
      "  _warn_prf(average, modifier, msg_start, len(result))\n",
      "c:\\ProgramData\\Anaconda3\\lib\\site-packages\\sklearn\\metrics\\_classification.py:1344: UndefinedMetricWarning: Precision and F-score are ill-defined and being set to 0.0 in labels with no predicted samples. Use `zero_division` parameter to control this behavior.\n",
      "  _warn_prf(average, modifier, msg_start, len(result))\n",
      "[Parallel(n_jobs=-1)]: Using backend LokyBackend with 12 concurrent workers.\n",
      "[Parallel(n_jobs=-1)]: Done   3 out of   3 | elapsed:  2.7min finished\n"
     ]
    },
    {
     "name": "stdout",
     "output_type": "stream",
     "text": [
      "K-Fold #3\n",
      "Mean negativities for all classes: [0.26064581931349706, 0.3167703040203043, 0.34355857345614316]\n",
      "Mean entropies for all classes: [9.430398933339999e-15, 9.477514378939161e-15, 1.0077290876183718e-14]\n",
      "              precision    recall  f1-score   support\n",
      "\n",
      "           0       0.83      0.83      0.83         6\n",
      "           1       0.78      1.00      0.88         7\n",
      "           2       1.00      0.60      0.75         5\n",
      "\n",
      "    accuracy                           0.83        18\n",
      "   macro avg       0.87      0.81      0.82        18\n",
      "weighted avg       0.86      0.83      0.83        18\n",
      "\n",
      "-------------------------------------------------------------------------------------------------------------------\n"
     ]
    },
    {
     "name": "stderr",
     "output_type": "stream",
     "text": [
      "[Parallel(n_jobs=-1)]: Using backend LokyBackend with 12 concurrent workers.\n",
      "[Parallel(n_jobs=-1)]: Done   3 out of   3 | elapsed:  2.8min finished\n"
     ]
    },
    {
     "name": "stdout",
     "output_type": "stream",
     "text": [
      "K-Fold #4\n",
      "Mean negativities for all classes: [0.24825507872956892, 0.313763169675088, 0.3643492060075953]\n",
      "Mean entropies for all classes: [9.561049801889252e-15, 9.914841631202926e-15, 7.796130444920974e-15]\n",
      "              precision    recall  f1-score   support\n",
      "\n",
      "           0       1.00      0.83      0.91         6\n",
      "           1       0.78      1.00      0.88         7\n",
      "           2       1.00      0.80      0.89         5\n",
      "\n",
      "    accuracy                           0.89        18\n",
      "   macro avg       0.93      0.88      0.89        18\n",
      "weighted avg       0.91      0.89      0.89        18\n",
      "\n",
      "-------------------------------------------------------------------------------------------------------------------\n"
     ]
    },
    {
     "name": "stderr",
     "output_type": "stream",
     "text": [
      "[Parallel(n_jobs=-1)]: Using backend LokyBackend with 12 concurrent workers.\n",
      "[Parallel(n_jobs=-1)]: Done   3 out of   3 | elapsed:  2.7min finished\n"
     ]
    },
    {
     "name": "stdout",
     "output_type": "stream",
     "text": [
      "K-Fold #5\n",
      "Mean negativities for all classes: [0.26501509635085174, 0.31340792621586416, 0.36027461801515015]\n",
      "Mean entropies for all classes: [9.552664032475006e-15, 9.712154015872857e-15, 9.822224433455113e-15]\n",
      "              precision    recall  f1-score   support\n",
      "\n",
      "           0       1.00      1.00      1.00         6\n",
      "           1       0.78      1.00      0.88         7\n",
      "           2       1.00      0.60      0.75         5\n",
      "\n",
      "    accuracy                           0.89        18\n",
      "   macro avg       0.93      0.87      0.88        18\n",
      "weighted avg       0.91      0.89      0.88        18\n",
      "\n",
      "-------------------------------------------------------------------------------------------------------------------\n"
     ]
    },
    {
     "name": "stderr",
     "output_type": "stream",
     "text": [
      "[Parallel(n_jobs=-1)]: Using backend LokyBackend with 12 concurrent workers.\n",
      "[Parallel(n_jobs=-1)]: Done   3 out of   3 | elapsed:  2.7min finished\n"
     ]
    },
    {
     "name": "stdout",
     "output_type": "stream",
     "text": [
      "K-Fold #6\n",
      "Mean negativities for all classes: [0.2529927645938219, 0.30751317586282956, 0.3859382242650114]\n",
      "Mean entropies for all classes: [1.0131109811471536e-14, 1.0076152543744645e-14, 9.233197371860629e-15]\n",
      "              precision    recall  f1-score   support\n",
      "\n",
      "           0       0.86      1.00      0.92         6\n",
      "           1       0.64      1.00      0.78         7\n",
      "           2       0.00      0.00      0.00         5\n",
      "\n",
      "    accuracy                           0.72        18\n",
      "   macro avg       0.50      0.67      0.57        18\n",
      "weighted avg       0.53      0.72      0.61        18\n",
      "\n",
      "-------------------------------------------------------------------------------------------------------------------\n"
     ]
    },
    {
     "name": "stderr",
     "output_type": "stream",
     "text": [
      "c:\\ProgramData\\Anaconda3\\lib\\site-packages\\sklearn\\metrics\\_classification.py:1344: UndefinedMetricWarning: Precision and F-score are ill-defined and being set to 0.0 in labels with no predicted samples. Use `zero_division` parameter to control this behavior.\n",
      "  _warn_prf(average, modifier, msg_start, len(result))\n",
      "c:\\ProgramData\\Anaconda3\\lib\\site-packages\\sklearn\\metrics\\_classification.py:1344: UndefinedMetricWarning: Precision and F-score are ill-defined and being set to 0.0 in labels with no predicted samples. Use `zero_division` parameter to control this behavior.\n",
      "  _warn_prf(average, modifier, msg_start, len(result))\n",
      "c:\\ProgramData\\Anaconda3\\lib\\site-packages\\sklearn\\metrics\\_classification.py:1344: UndefinedMetricWarning: Precision and F-score are ill-defined and being set to 0.0 in labels with no predicted samples. Use `zero_division` parameter to control this behavior.\n",
      "  _warn_prf(average, modifier, msg_start, len(result))\n",
      "[Parallel(n_jobs=-1)]: Using backend LokyBackend with 12 concurrent workers.\n",
      "[Parallel(n_jobs=-1)]: Done   3 out of   3 | elapsed:  2.7min finished\n"
     ]
    },
    {
     "name": "stdout",
     "output_type": "stream",
     "text": [
      "K-Fold #7\n",
      "Mean negativities for all classes: [0.2537341897837996, 0.31048226198023526, 0.319625108255915]\n",
      "Mean entropies for all classes: [9.720840660121583e-15, 9.911669656904639e-15, 9.528234226273341e-15]\n",
      "              precision    recall  f1-score   support\n",
      "\n",
      "           0       1.00      1.00      1.00         6\n",
      "           1       1.00      0.86      0.92         7\n",
      "           2       0.83      1.00      0.91         5\n",
      "\n",
      "    accuracy                           0.94        18\n",
      "   macro avg       0.94      0.95      0.94        18\n",
      "weighted avg       0.95      0.94      0.94        18\n",
      "\n",
      "-------------------------------------------------------------------------------------------------------------------\n"
     ]
    },
    {
     "name": "stderr",
     "output_type": "stream",
     "text": [
      "[Parallel(n_jobs=-1)]: Using backend LokyBackend with 12 concurrent workers.\n",
      "[Parallel(n_jobs=-1)]: Done   3 out of   3 | elapsed:  2.8min finished\n"
     ]
    },
    {
     "name": "stdout",
     "output_type": "stream",
     "text": [
      "K-Fold #8\n",
      "Mean negativities for all classes: [0.25059662638107055, 0.30445887648191367, 0.36999481003117335]\n",
      "Mean entropies for all classes: [9.8465335241637e-15, 1.0166187540629714e-14, 9.510051708711257e-15]\n",
      "              precision    recall  f1-score   support\n",
      "\n",
      "           0       0.75      1.00      0.86         6\n",
      "           1       0.88      1.00      0.93         7\n",
      "           2       1.00      0.25      0.40         4\n",
      "\n",
      "    accuracy                           0.82        17\n",
      "   macro avg       0.88      0.75      0.73        17\n",
      "weighted avg       0.86      0.82      0.78        17\n",
      "\n",
      "-------------------------------------------------------------------------------------------------------------------\n"
     ]
    },
    {
     "name": "stderr",
     "output_type": "stream",
     "text": [
      "[Parallel(n_jobs=-1)]: Using backend LokyBackend with 12 concurrent workers.\n",
      "[Parallel(n_jobs=-1)]: Done   3 out of   3 | elapsed:  2.7min finished\n"
     ]
    },
    {
     "name": "stdout",
     "output_type": "stream",
     "text": [
      "K-Fold #9\n",
      "Mean negativities for all classes: [0.25557123009061783, 0.3104771041070945, 0.37304423698410394]\n",
      "Mean entropies for all classes: [9.36638546476671e-15, 9.591579441719248e-15, 9.77127077078075e-15]\n",
      "              precision    recall  f1-score   support\n",
      "\n",
      "           0       0.83      1.00      0.91         5\n",
      "           1       0.80      1.00      0.89         8\n",
      "           2       1.00      0.25      0.40         4\n",
      "\n",
      "    accuracy                           0.82        17\n",
      "   macro avg       0.88      0.75      0.73        17\n",
      "weighted avg       0.86      0.82      0.78        17\n",
      "\n",
      "-------------------------------------------------------------------------------------------------------------------\n",
      "AVG: Scores = 0.8313725490196078 F1-Scores = 0.7775968258321199 Negativity = [0.3077968928812453, 0.3137288730076236, 0.3155059363519278] Entropy = [9.470649243077575e-15, 9.127029094531233e-15, 9.913394009520138e-15]\n"
     ]
    },
    {
     "name": "stderr",
     "output_type": "stream",
     "text": [
      "[Parallel(n_jobs=-1)]: Using backend LokyBackend with 12 concurrent workers.\n",
      "[Parallel(n_jobs=-1)]: Done   3 out of   3 | elapsed:  2.8min finished\n"
     ]
    },
    {
     "name": "stdout",
     "output_type": "stream",
     "text": [
      "K-Fold #0\n",
      "Mean negativities for all classes: [0.250756179978996, 0.31273601588587085, 0.3248413242989129]\n",
      "Mean entropies for all classes: [9.133807759249532e-15, 9.869904084887051e-15, 1.0185341160371102e-14]\n",
      "              precision    recall  f1-score   support\n",
      "\n",
      "           0       1.00      1.00      1.00         6\n",
      "           1       1.00      0.86      0.92         7\n",
      "           2       0.83      1.00      0.91         5\n",
      "\n",
      "    accuracy                           0.94        18\n",
      "   macro avg       0.94      0.95      0.94        18\n",
      "weighted avg       0.95      0.94      0.94        18\n",
      "\n",
      "-------------------------------------------------------------------------------------------------------------------\n"
     ]
    },
    {
     "name": "stderr",
     "output_type": "stream",
     "text": [
      "[Parallel(n_jobs=-1)]: Using backend LokyBackend with 12 concurrent workers.\n",
      "[Parallel(n_jobs=-1)]: Done   3 out of   3 | elapsed:  2.7min finished\n"
     ]
    },
    {
     "name": "stdout",
     "output_type": "stream",
     "text": [
      "K-Fold #1\n",
      "Mean negativities for all classes: [0.24800496357310575, 0.30662054163906277, 0.34996129629563]\n",
      "Mean entropies for all classes: [1.0100088311787351e-14, 1.0018762384634586e-14, 9.286672412350132e-15]\n",
      "              precision    recall  f1-score   support\n",
      "\n",
      "           0       0.67      1.00      0.80         6\n",
      "           1       0.88      1.00      0.93         7\n",
      "           2       1.00      0.20      0.33         5\n",
      "\n",
      "    accuracy                           0.78        18\n",
      "   macro avg       0.85      0.73      0.69        18\n",
      "weighted avg       0.84      0.78      0.72        18\n",
      "\n",
      "-------------------------------------------------------------------------------------------------------------------\n"
     ]
    },
    {
     "name": "stderr",
     "output_type": "stream",
     "text": [
      "[Parallel(n_jobs=-1)]: Using backend LokyBackend with 12 concurrent workers.\n",
      "[Parallel(n_jobs=-1)]: Done   3 out of   3 | elapsed:  2.8min finished\n"
     ]
    },
    {
     "name": "stdout",
     "output_type": "stream",
     "text": [
      "K-Fold #2\n",
      "Mean negativities for all classes: [0.252576041378944, 0.31006470352072324, 0.3226873228173669]\n",
      "Mean entropies for all classes: [9.005258982317887e-15, 9.512439657207199e-15, 6.960621862277952e-15]\n",
      "              precision    recall  f1-score   support\n",
      "\n",
      "           0       1.00      1.00      1.00         6\n",
      "           1       1.00      0.86      0.92         7\n",
      "           2       0.83      1.00      0.91         5\n",
      "\n",
      "    accuracy                           0.94        18\n",
      "   macro avg       0.94      0.95      0.94        18\n",
      "weighted avg       0.95      0.94      0.94        18\n",
      "\n",
      "-------------------------------------------------------------------------------------------------------------------\n"
     ]
    },
    {
     "name": "stderr",
     "output_type": "stream",
     "text": [
      "[Parallel(n_jobs=-1)]: Using backend LokyBackend with 12 concurrent workers.\n",
      "[Parallel(n_jobs=-1)]: Done   3 out of   3 | elapsed:  2.7min finished\n"
     ]
    },
    {
     "name": "stdout",
     "output_type": "stream",
     "text": [
      "K-Fold #3\n",
      "Mean negativities for all classes: [0.2529975497967383, 0.3127217239912529, 0.357354348588957]\n",
      "Mean entropies for all classes: [9.680348869398028e-15, 9.392182139856629e-15, 1.0102144019555904e-14]\n",
      "              precision    recall  f1-score   support\n",
      "\n",
      "           0       1.00      1.00      1.00         6\n",
      "           1       1.00      1.00      1.00         7\n",
      "           2       1.00      1.00      1.00         5\n",
      "\n",
      "    accuracy                           1.00        18\n",
      "   macro avg       1.00      1.00      1.00        18\n",
      "weighted avg       1.00      1.00      1.00        18\n",
      "\n",
      "-------------------------------------------------------------------------------------------------------------------\n"
     ]
    },
    {
     "name": "stderr",
     "output_type": "stream",
     "text": [
      "[Parallel(n_jobs=-1)]: Using backend LokyBackend with 12 concurrent workers.\n",
      "[Parallel(n_jobs=-1)]: Done   3 out of   3 | elapsed:  2.7min finished\n"
     ]
    },
    {
     "name": "stdout",
     "output_type": "stream",
     "text": [
      "K-Fold #4\n",
      "Mean negativities for all classes: [0.24655849360850132, 0.31383488204907484, 0.3314370161779693]\n",
      "Mean entropies for all classes: [9.753783236335107e-15, 9.993911913268807e-15, 9.7755781446891e-15]\n",
      "              precision    recall  f1-score   support\n",
      "\n",
      "           0       1.00      1.00      1.00         6\n",
      "           1       1.00      1.00      1.00         7\n",
      "           2       1.00      1.00      1.00         5\n",
      "\n",
      "    accuracy                           1.00        18\n",
      "   macro avg       1.00      1.00      1.00        18\n",
      "weighted avg       1.00      1.00      1.00        18\n",
      "\n",
      "-------------------------------------------------------------------------------------------------------------------\n"
     ]
    },
    {
     "name": "stderr",
     "output_type": "stream",
     "text": [
      "[Parallel(n_jobs=-1)]: Using backend LokyBackend with 12 concurrent workers.\n",
      "[Parallel(n_jobs=-1)]: Done   3 out of   3 | elapsed:  2.8min finished\n"
     ]
    },
    {
     "name": "stdout",
     "output_type": "stream",
     "text": [
      "K-Fold #5\n",
      "Mean negativities for all classes: [0.2553710767107839, 0.31648713878441836, 0.3587283211581734]\n",
      "Mean entropies for all classes: [1.0279124733046219e-14, 9.702271418593832e-15, 8.942640199851829e-15]\n",
      "              precision    recall  f1-score   support\n",
      "\n",
      "           0       0.75      1.00      0.86         6\n",
      "           1       0.70      1.00      0.82         7\n",
      "           2       0.00      0.00      0.00         5\n",
      "\n",
      "    accuracy                           0.72        18\n",
      "   macro avg       0.48      0.67      0.56        18\n",
      "weighted avg       0.52      0.72      0.61        18\n",
      "\n",
      "-------------------------------------------------------------------------------------------------------------------\n"
     ]
    },
    {
     "name": "stderr",
     "output_type": "stream",
     "text": [
      "c:\\ProgramData\\Anaconda3\\lib\\site-packages\\sklearn\\metrics\\_classification.py:1344: UndefinedMetricWarning: Precision and F-score are ill-defined and being set to 0.0 in labels with no predicted samples. Use `zero_division` parameter to control this behavior.\n",
      "  _warn_prf(average, modifier, msg_start, len(result))\n",
      "c:\\ProgramData\\Anaconda3\\lib\\site-packages\\sklearn\\metrics\\_classification.py:1344: UndefinedMetricWarning: Precision and F-score are ill-defined and being set to 0.0 in labels with no predicted samples. Use `zero_division` parameter to control this behavior.\n",
      "  _warn_prf(average, modifier, msg_start, len(result))\n",
      "c:\\ProgramData\\Anaconda3\\lib\\site-packages\\sklearn\\metrics\\_classification.py:1344: UndefinedMetricWarning: Precision and F-score are ill-defined and being set to 0.0 in labels with no predicted samples. Use `zero_division` parameter to control this behavior.\n",
      "  _warn_prf(average, modifier, msg_start, len(result))\n",
      "[Parallel(n_jobs=-1)]: Using backend LokyBackend with 12 concurrent workers.\n",
      "[Parallel(n_jobs=-1)]: Done   3 out of   3 | elapsed:  2.7min finished\n"
     ]
    },
    {
     "name": "stdout",
     "output_type": "stream",
     "text": [
      "K-Fold #6\n",
      "Mean negativities for all classes: [0.2791125879771765, 0.30548547159374206, 0.361574377359943]\n",
      "Mean entropies for all classes: [9.525986769948019e-15, 9.937573479904639e-15, 1.1056352307359428e-14]\n",
      "              precision    recall  f1-score   support\n",
      "\n",
      "           0       1.00      0.67      0.80         6\n",
      "           1       0.78      1.00      0.88         7\n",
      "           2       1.00      1.00      1.00         5\n",
      "\n",
      "    accuracy                           0.89        18\n",
      "   macro avg       0.93      0.89      0.89        18\n",
      "weighted avg       0.91      0.89      0.88        18\n",
      "\n",
      "-------------------------------------------------------------------------------------------------------------------\n"
     ]
    },
    {
     "name": "stderr",
     "output_type": "stream",
     "text": [
      "[Parallel(n_jobs=-1)]: Using backend LokyBackend with 12 concurrent workers.\n",
      "[Parallel(n_jobs=-1)]: Done   3 out of   3 | elapsed:  2.7min finished\n"
     ]
    },
    {
     "name": "stdout",
     "output_type": "stream",
     "text": [
      "K-Fold #7\n",
      "Mean negativities for all classes: [0.2504662627129944, 0.30731379245035684, 0.3683164711767995]\n",
      "Mean entropies for all classes: [9.555892019770683e-15, 9.43066024046998e-15, 9.617945495379987e-15]\n",
      "              precision    recall  f1-score   support\n",
      "\n",
      "           0       1.00      1.00      1.00         6\n",
      "           1       0.78      1.00      0.88         7\n",
      "           2       1.00      0.60      0.75         5\n",
      "\n",
      "    accuracy                           0.89        18\n",
      "   macro avg       0.93      0.87      0.88        18\n",
      "weighted avg       0.91      0.89      0.88        18\n",
      "\n",
      "-------------------------------------------------------------------------------------------------------------------\n"
     ]
    },
    {
     "name": "stderr",
     "output_type": "stream",
     "text": [
      "[Parallel(n_jobs=-1)]: Using backend LokyBackend with 12 concurrent workers.\n",
      "[Parallel(n_jobs=-1)]: Done   3 out of   3 | elapsed:  2.7min finished\n"
     ]
    },
    {
     "name": "stdout",
     "output_type": "stream",
     "text": [
      "K-Fold #8\n",
      "Mean negativities for all classes: [0.2547062030941814, 0.30728753613780135, 0.3509391421699275]\n",
      "Mean entropies for all classes: [9.840070377698396e-15, 9.988318909964848e-15, 9.30369276992329e-15]\n",
      "              precision    recall  f1-score   support\n",
      "\n",
      "           0       1.00      1.00      1.00         6\n",
      "           1       0.83      0.71      0.77         7\n",
      "           2       0.60      0.75      0.67         4\n",
      "\n",
      "    accuracy                           0.82        17\n",
      "   macro avg       0.81      0.82      0.81        17\n",
      "weighted avg       0.84      0.82      0.83        17\n",
      "\n",
      "-------------------------------------------------------------------------------------------------------------------\n"
     ]
    },
    {
     "name": "stderr",
     "output_type": "stream",
     "text": [
      "[Parallel(n_jobs=-1)]: Using backend LokyBackend with 12 concurrent workers.\n",
      "[Parallel(n_jobs=-1)]: Done   3 out of   3 | elapsed:  2.8min finished\n"
     ]
    },
    {
     "name": "stdout",
     "output_type": "stream",
     "text": [
      "K-Fold #9\n",
      "Mean negativities for all classes: [0.2522987367929635, 0.3085037336698382, 0.3731572799204269]\n",
      "Mean entropies for all classes: [9.713291038153936e-15, 1.0228614745790174e-14, 9.953384845725959e-15]\n",
      "              precision    recall  f1-score   support\n",
      "\n",
      "           0       0.83      1.00      0.91         5\n",
      "           1       0.73      1.00      0.84         8\n",
      "           2       0.00      0.00      0.00         4\n",
      "\n",
      "    accuracy                           0.76        17\n",
      "   macro avg       0.52      0.67      0.58        17\n",
      "weighted avg       0.59      0.76      0.66        17\n",
      "\n",
      "-------------------------------------------------------------------------------------------------------------------\n",
      "AVG: Scores = 0.8754901960784313 F1-Scores = 0.8299589402685378 Negativity = [0.2961111733879266, 0.3015289338359328, 0.29510935590567805] Entropy = [9.729684334835894e-15, 9.801841036257356e-15, 8.492773500601012e-15]\n"
     ]
    },
    {
     "name": "stderr",
     "output_type": "stream",
     "text": [
      "c:\\ProgramData\\Anaconda3\\lib\\site-packages\\sklearn\\metrics\\_classification.py:1344: UndefinedMetricWarning: Precision and F-score are ill-defined and being set to 0.0 in labels with no predicted samples. Use `zero_division` parameter to control this behavior.\n",
      "  _warn_prf(average, modifier, msg_start, len(result))\n",
      "c:\\ProgramData\\Anaconda3\\lib\\site-packages\\sklearn\\metrics\\_classification.py:1344: UndefinedMetricWarning: Precision and F-score are ill-defined and being set to 0.0 in labels with no predicted samples. Use `zero_division` parameter to control this behavior.\n",
      "  _warn_prf(average, modifier, msg_start, len(result))\n",
      "c:\\ProgramData\\Anaconda3\\lib\\site-packages\\sklearn\\metrics\\_classification.py:1344: UndefinedMetricWarning: Precision and F-score are ill-defined and being set to 0.0 in labels with no predicted samples. Use `zero_division` parameter to control this behavior.\n",
      "  _warn_prf(average, modifier, msg_start, len(result))\n",
      "[Parallel(n_jobs=-1)]: Using backend LokyBackend with 12 concurrent workers.\n",
      "[Parallel(n_jobs=-1)]: Done   3 out of   3 | elapsed:  2.8min finished\n"
     ]
    },
    {
     "name": "stdout",
     "output_type": "stream",
     "text": [
      "K-Fold #0\n",
      "Mean negativities for all classes: [0.25063725801546466, 0.3068694056039468, 0.37222588412660407]\n",
      "Mean entropies for all classes: [1.0048982190902801e-14, 9.468136576485595e-15, 1.0671686633069609e-14]\n",
      "              precision    recall  f1-score   support\n",
      "\n",
      "           0       0.86      1.00      0.92         6\n",
      "           1       0.78      1.00      0.88         7\n",
      "           2       1.00      0.40      0.57         5\n",
      "\n",
      "    accuracy                           0.83        18\n",
      "   macro avg       0.88      0.80      0.79        18\n",
      "weighted avg       0.87      0.83      0.81        18\n",
      "\n",
      "-------------------------------------------------------------------------------------------------------------------\n"
     ]
    },
    {
     "name": "stderr",
     "output_type": "stream",
     "text": [
      "[Parallel(n_jobs=-1)]: Using backend LokyBackend with 12 concurrent workers.\n",
      "[Parallel(n_jobs=-1)]: Done   3 out of   3 | elapsed:  2.8min finished\n"
     ]
    },
    {
     "name": "stdout",
     "output_type": "stream",
     "text": [
      "K-Fold #1\n",
      "Mean negativities for all classes: [0.2521715130546085, 0.3104125676206448, 0.3682244016329853]\n",
      "Mean entropies for all classes: [1.0086049637380318e-14, 9.659301368755837e-15, 9.448115658289553e-15]\n",
      "              precision    recall  f1-score   support\n",
      "\n",
      "           0       0.86      1.00      0.92         6\n",
      "           1       0.60      0.86      0.71         7\n",
      "           2       0.00      0.00      0.00         5\n",
      "\n",
      "    accuracy                           0.67        18\n",
      "   macro avg       0.49      0.62      0.54        18\n",
      "weighted avg       0.52      0.67      0.58        18\n",
      "\n",
      "-------------------------------------------------------------------------------------------------------------------\n"
     ]
    },
    {
     "name": "stderr",
     "output_type": "stream",
     "text": [
      "[Parallel(n_jobs=-1)]: Using backend LokyBackend with 12 concurrent workers.\n",
      "[Parallel(n_jobs=-1)]: Done   3 out of   3 | elapsed:  2.8min finished\n"
     ]
    },
    {
     "name": "stdout",
     "output_type": "stream",
     "text": [
      "K-Fold #2\n",
      "Mean negativities for all classes: [0.2643666556478635, 0.3120945811340012, 0.3452703024207869]\n",
      "Mean entropies for all classes: [9.564180052324965e-15, 9.39691503801257e-15, 6.182583915402432e-15]\n",
      "              precision    recall  f1-score   support\n",
      "\n",
      "           0       1.00      0.83      0.91         6\n",
      "           1       0.75      0.86      0.80         7\n",
      "           2       0.80      0.80      0.80         5\n",
      "\n",
      "    accuracy                           0.83        18\n",
      "   macro avg       0.85      0.83      0.84        18\n",
      "weighted avg       0.85      0.83      0.84        18\n",
      "\n",
      "-------------------------------------------------------------------------------------------------------------------\n"
     ]
    },
    {
     "name": "stderr",
     "output_type": "stream",
     "text": [
      "[Parallel(n_jobs=-1)]: Using backend LokyBackend with 12 concurrent workers.\n",
      "[Parallel(n_jobs=-1)]: Done   3 out of   3 | elapsed:  2.8min finished\n"
     ]
    },
    {
     "name": "stdout",
     "output_type": "stream",
     "text": [
      "K-Fold #3\n",
      "Mean negativities for all classes: [0.2653796187373461, 0.31579183961038065, 0.33106151188703414]\n",
      "Mean entropies for all classes: [9.444245243110885e-15, 9.827494021752447e-15, 5.30571867100015e-15]\n",
      "              precision    recall  f1-score   support\n",
      "\n",
      "           0       1.00      0.83      0.91         6\n",
      "           1       0.88      1.00      0.93         7\n",
      "           2       1.00      1.00      1.00         5\n",
      "\n",
      "    accuracy                           0.94        18\n",
      "   macro avg       0.96      0.94      0.95        18\n",
      "weighted avg       0.95      0.94      0.94        18\n",
      "\n",
      "-------------------------------------------------------------------------------------------------------------------\n"
     ]
    },
    {
     "name": "stderr",
     "output_type": "stream",
     "text": [
      "[Parallel(n_jobs=-1)]: Using backend LokyBackend with 12 concurrent workers.\n",
      "[Parallel(n_jobs=-1)]: Done   3 out of   3 | elapsed:  2.7min finished\n"
     ]
    },
    {
     "name": "stdout",
     "output_type": "stream",
     "text": [
      "K-Fold #4\n",
      "Mean negativities for all classes: [0.25036611803022585, 0.3172544150117295, 0.3687654877763273]\n",
      "Mean entropies for all classes: [9.54445871786789e-15, 9.354641808772256e-15, 9.414533489049294e-15]\n",
      "              precision    recall  f1-score   support\n",
      "\n",
      "           0       1.00      1.00      1.00         6\n",
      "           1       0.78      1.00      0.88         7\n",
      "           2       1.00      0.60      0.75         5\n",
      "\n",
      "    accuracy                           0.89        18\n",
      "   macro avg       0.93      0.87      0.88        18\n",
      "weighted avg       0.91      0.89      0.88        18\n",
      "\n",
      "-------------------------------------------------------------------------------------------------------------------\n"
     ]
    },
    {
     "name": "stderr",
     "output_type": "stream",
     "text": [
      "[Parallel(n_jobs=-1)]: Using backend LokyBackend with 12 concurrent workers.\n",
      "[Parallel(n_jobs=-1)]: Done   3 out of   3 | elapsed:  2.7min finished\n"
     ]
    },
    {
     "name": "stdout",
     "output_type": "stream",
     "text": [
      "K-Fold #5\n",
      "Mean negativities for all classes: [0.2526624556686672, 0.30977160205651844, 0.3915753273262453]\n",
      "Mean entropies for all classes: [9.521266999484318e-15, 1.0051058671691642e-14, 1.0344879590977576e-14]\n",
      "              precision    recall  f1-score   support\n",
      "\n",
      "           0       0.67      1.00      0.80         6\n",
      "           1       0.78      1.00      0.88         7\n",
      "           2       0.00      0.00      0.00         5\n",
      "\n",
      "    accuracy                           0.72        18\n",
      "   macro avg       0.48      0.67      0.56        18\n",
      "weighted avg       0.52      0.72      0.61        18\n",
      "\n",
      "-------------------------------------------------------------------------------------------------------------------\n"
     ]
    },
    {
     "name": "stderr",
     "output_type": "stream",
     "text": [
      "c:\\ProgramData\\Anaconda3\\lib\\site-packages\\sklearn\\metrics\\_classification.py:1344: UndefinedMetricWarning: Precision and F-score are ill-defined and being set to 0.0 in labels with no predicted samples. Use `zero_division` parameter to control this behavior.\n",
      "  _warn_prf(average, modifier, msg_start, len(result))\n",
      "c:\\ProgramData\\Anaconda3\\lib\\site-packages\\sklearn\\metrics\\_classification.py:1344: UndefinedMetricWarning: Precision and F-score are ill-defined and being set to 0.0 in labels with no predicted samples. Use `zero_division` parameter to control this behavior.\n",
      "  _warn_prf(average, modifier, msg_start, len(result))\n",
      "c:\\ProgramData\\Anaconda3\\lib\\site-packages\\sklearn\\metrics\\_classification.py:1344: UndefinedMetricWarning: Precision and F-score are ill-defined and being set to 0.0 in labels with no predicted samples. Use `zero_division` parameter to control this behavior.\n",
      "  _warn_prf(average, modifier, msg_start, len(result))\n",
      "[Parallel(n_jobs=-1)]: Using backend LokyBackend with 12 concurrent workers.\n",
      "[Parallel(n_jobs=-1)]: Done   3 out of   3 | elapsed:  2.8min finished\n"
     ]
    },
    {
     "name": "stdout",
     "output_type": "stream",
     "text": [
      "K-Fold #6\n",
      "Mean negativities for all classes: [0.25106073186284206, 0.30550108259628295, 0.3660424124126213]\n",
      "Mean entropies for all classes: [9.525903561008495e-15, 9.754767409876787e-15, 9.2015493928505e-15]\n",
      "              precision    recall  f1-score   support\n",
      "\n",
      "           0       0.75      1.00      0.86         6\n",
      "           1       0.88      1.00      0.93         7\n",
      "           2       1.00      0.40      0.57         5\n",
      "\n",
      "    accuracy                           0.83        18\n",
      "   macro avg       0.88      0.80      0.79        18\n",
      "weighted avg       0.87      0.83      0.81        18\n",
      "\n",
      "-------------------------------------------------------------------------------------------------------------------\n"
     ]
    },
    {
     "name": "stderr",
     "output_type": "stream",
     "text": [
      "[Parallel(n_jobs=-1)]: Using backend LokyBackend with 12 concurrent workers.\n",
      "[Parallel(n_jobs=-1)]: Done   3 out of   3 | elapsed:  2.8min finished\n"
     ]
    },
    {
     "name": "stdout",
     "output_type": "stream",
     "text": [
      "K-Fold #7\n",
      "Mean negativities for all classes: [0.25187494329412885, 0.30640519765777097, 0.37144931478265875]\n",
      "Mean entropies for all classes: [1.0120812281201464e-14, 9.346363580486507e-15, 9.75484761560117e-15]\n",
      "              precision    recall  f1-score   support\n",
      "\n",
      "           0       0.86      1.00      0.92         6\n",
      "           1       0.78      1.00      0.88         7\n",
      "           2       1.00      0.40      0.57         5\n",
      "\n",
      "    accuracy                           0.83        18\n",
      "   macro avg       0.88      0.80      0.79        18\n",
      "weighted avg       0.87      0.83      0.81        18\n",
      "\n",
      "-------------------------------------------------------------------------------------------------------------------\n"
     ]
    },
    {
     "name": "stderr",
     "output_type": "stream",
     "text": [
      "[Parallel(n_jobs=-1)]: Using backend LokyBackend with 12 concurrent workers.\n",
      "[Parallel(n_jobs=-1)]: Done   3 out of   3 | elapsed:  2.8min finished\n"
     ]
    },
    {
     "name": "stdout",
     "output_type": "stream",
     "text": [
      "K-Fold #8\n",
      "Mean negativities for all classes: [0.2530039847004999, 0.3070038270816881, 0.3667480810071634]\n",
      "Mean entropies for all classes: [9.669077642659782e-15, 9.325383613202756e-15, 9.146985346188242e-15]\n",
      "              precision    recall  f1-score   support\n",
      "\n",
      "           0       1.00      1.00      1.00         6\n",
      "           1       0.88      1.00      0.93         7\n",
      "           2       1.00      0.75      0.86         4\n",
      "\n",
      "    accuracy                           0.94        17\n",
      "   macro avg       0.96      0.92      0.93        17\n",
      "weighted avg       0.95      0.94      0.94        17\n",
      "\n",
      "-------------------------------------------------------------------------------------------------------------------\n"
     ]
    },
    {
     "name": "stderr",
     "output_type": "stream",
     "text": [
      "[Parallel(n_jobs=-1)]: Using backend LokyBackend with 12 concurrent workers.\n",
      "[Parallel(n_jobs=-1)]: Done   3 out of   3 | elapsed:  2.7min finished\n"
     ]
    },
    {
     "name": "stdout",
     "output_type": "stream",
     "text": [
      "K-Fold #9\n",
      "Mean negativities for all classes: [0.24685841251889074, 0.3132317785832692, 0.3892389345035558]\n",
      "Mean entropies for all classes: [9.416304797349038e-15, 9.7060593540473e-15, 7.420602701408776e-15]\n",
      "              precision    recall  f1-score   support\n",
      "\n",
      "           0       0.56      1.00      0.71         5\n",
      "           1       1.00      0.88      0.93         8\n",
      "           2       1.00      0.25      0.40         4\n",
      "\n",
      "    accuracy                           0.76        17\n",
      "   macro avg       0.85      0.71      0.68        17\n",
      "weighted avg       0.87      0.76      0.74        17\n",
      "\n",
      "-------------------------------------------------------------------------------------------------------------------\n",
      "AVG: Scores = 0.8261437908496732 F1-Scores = 0.7739828472181414 Negativity = [0.30991084924867185, 0.31026949410274623, 0.3072438464008838] Entropy = [1.0062935133486003e-14, 9.731155554808568e-15, 8.381226335246655e-15]\n"
     ]
    },
    {
     "name": "stderr",
     "output_type": "stream",
     "text": [
      "[Parallel(n_jobs=-1)]: Using backend LokyBackend with 12 concurrent workers.\n",
      "[Parallel(n_jobs=-1)]: Done   3 out of   3 | elapsed:  2.7min finished\n"
     ]
    },
    {
     "name": "stdout",
     "output_type": "stream",
     "text": [
      "K-Fold #0\n",
      "Mean negativities for all classes: [0.250226063207011, 0.31033277142169047, 0.3890604231836342]\n",
      "Mean entropies for all classes: [9.717702116581057e-15, 9.772095424713815e-15, 5.888113036347072e-15]\n",
      "              precision    recall  f1-score   support\n",
      "\n",
      "           0       0.67      1.00      0.80         6\n",
      "           1       0.78      1.00      0.88         7\n",
      "           2       0.00      0.00      0.00         5\n",
      "\n",
      "    accuracy                           0.72        18\n",
      "   macro avg       0.48      0.67      0.56        18\n",
      "weighted avg       0.52      0.72      0.61        18\n",
      "\n",
      "-------------------------------------------------------------------------------------------------------------------\n"
     ]
    },
    {
     "name": "stderr",
     "output_type": "stream",
     "text": [
      "c:\\ProgramData\\Anaconda3\\lib\\site-packages\\sklearn\\metrics\\_classification.py:1344: UndefinedMetricWarning: Precision and F-score are ill-defined and being set to 0.0 in labels with no predicted samples. Use `zero_division` parameter to control this behavior.\n",
      "  _warn_prf(average, modifier, msg_start, len(result))\n",
      "c:\\ProgramData\\Anaconda3\\lib\\site-packages\\sklearn\\metrics\\_classification.py:1344: UndefinedMetricWarning: Precision and F-score are ill-defined and being set to 0.0 in labels with no predicted samples. Use `zero_division` parameter to control this behavior.\n",
      "  _warn_prf(average, modifier, msg_start, len(result))\n",
      "c:\\ProgramData\\Anaconda3\\lib\\site-packages\\sklearn\\metrics\\_classification.py:1344: UndefinedMetricWarning: Precision and F-score are ill-defined and being set to 0.0 in labels with no predicted samples. Use `zero_division` parameter to control this behavior.\n",
      "  _warn_prf(average, modifier, msg_start, len(result))\n",
      "[Parallel(n_jobs=-1)]: Using backend LokyBackend with 12 concurrent workers.\n",
      "[Parallel(n_jobs=-1)]: Done   3 out of   3 | elapsed:  2.8min finished\n"
     ]
    },
    {
     "name": "stdout",
     "output_type": "stream",
     "text": [
      "K-Fold #1\n",
      "Mean negativities for all classes: [0.25506752115541176, 0.3088008478609761, 0.3603281746132979]\n",
      "Mean entropies for all classes: [1.0129864280786383e-14, 1.0149143666463754e-14, 5.2588836048789786e-15]\n",
      "              precision    recall  f1-score   support\n",
      "\n",
      "           0       0.83      0.83      0.83         6\n",
      "           1       0.78      1.00      0.88         7\n",
      "           2       0.67      0.40      0.50         5\n",
      "\n",
      "    accuracy                           0.78        18\n",
      "   macro avg       0.76      0.74      0.74        18\n",
      "weighted avg       0.77      0.78      0.76        18\n",
      "\n",
      "-------------------------------------------------------------------------------------------------------------------\n"
     ]
    },
    {
     "name": "stderr",
     "output_type": "stream",
     "text": [
      "[Parallel(n_jobs=-1)]: Using backend LokyBackend with 12 concurrent workers.\n",
      "[Parallel(n_jobs=-1)]: Done   3 out of   3 | elapsed:  2.7min finished\n"
     ]
    },
    {
     "name": "stdout",
     "output_type": "stream",
     "text": [
      "K-Fold #2\n",
      "Mean negativities for all classes: [0.25220128851814866, 0.3154812125905108, 0.3663816899460144]\n",
      "Mean entropies for all classes: [9.208196936721315e-15, 9.871857396776323e-15, 8.242421808876125e-15]\n",
      "              precision    recall  f1-score   support\n",
      "\n",
      "           0       0.86      1.00      0.92         6\n",
      "           1       0.75      0.86      0.80         7\n",
      "           2       1.00      0.60      0.75         5\n",
      "\n",
      "    accuracy                           0.83        18\n",
      "   macro avg       0.87      0.82      0.82        18\n",
      "weighted avg       0.86      0.83      0.83        18\n",
      "\n",
      "-------------------------------------------------------------------------------------------------------------------\n"
     ]
    },
    {
     "name": "stderr",
     "output_type": "stream",
     "text": [
      "[Parallel(n_jobs=-1)]: Using backend LokyBackend with 12 concurrent workers.\n",
      "[Parallel(n_jobs=-1)]: Done   3 out of   3 | elapsed:  2.7min finished\n"
     ]
    },
    {
     "name": "stdout",
     "output_type": "stream",
     "text": [
      "K-Fold #3\n",
      "Mean negativities for all classes: [0.26066334617104087, 0.3185189974219525, 0.36412066540965154]\n",
      "Mean entropies for all classes: [9.743962468535373e-15, 9.978287679284261e-15, 6.385178026899752e-15]\n",
      "              precision    recall  f1-score   support\n",
      "\n",
      "           0       0.71      0.83      0.77         6\n",
      "           1       0.88      1.00      0.93         7\n",
      "           2       1.00      0.60      0.75         5\n",
      "\n",
      "    accuracy                           0.83        18\n",
      "   macro avg       0.86      0.81      0.82        18\n",
      "weighted avg       0.86      0.83      0.83        18\n",
      "\n",
      "-------------------------------------------------------------------------------------------------------------------\n"
     ]
    },
    {
     "name": "stderr",
     "output_type": "stream",
     "text": [
      "[Parallel(n_jobs=-1)]: Using backend LokyBackend with 12 concurrent workers.\n",
      "[Parallel(n_jobs=-1)]: Done   3 out of   3 | elapsed:  2.7min finished\n"
     ]
    },
    {
     "name": "stdout",
     "output_type": "stream",
     "text": [
      "K-Fold #4\n",
      "Mean negativities for all classes: [0.24797543508277325, 0.303772628529614, 0.3676249734268371]\n",
      "Mean entropies for all classes: [9.25435714728585e-15, 9.6236494611734e-15, 9.118124054508965e-15]\n",
      "              precision    recall  f1-score   support\n",
      "\n",
      "           0       0.75      1.00      0.86         6\n",
      "           1       0.88      1.00      0.93         7\n",
      "           2       1.00      0.40      0.57         5\n",
      "\n",
      "    accuracy                           0.83        18\n",
      "   macro avg       0.88      0.80      0.79        18\n",
      "weighted avg       0.87      0.83      0.81        18\n",
      "\n",
      "-------------------------------------------------------------------------------------------------------------------\n"
     ]
    },
    {
     "name": "stderr",
     "output_type": "stream",
     "text": [
      "[Parallel(n_jobs=-1)]: Using backend LokyBackend with 12 concurrent workers.\n",
      "[Parallel(n_jobs=-1)]: Done   3 out of   3 | elapsed:  2.8min finished\n"
     ]
    },
    {
     "name": "stdout",
     "output_type": "stream",
     "text": [
      "K-Fold #5\n",
      "Mean negativities for all classes: [0.26802216684814206, 0.31549235188761243, 0.3197162879264842]\n",
      "Mean entropies for all classes: [9.328302960740033e-15, 9.923200224811354e-15, 1.208271054924727e-14]\n",
      "              precision    recall  f1-score   support\n",
      "\n",
      "           0       0.83      0.83      0.83         6\n",
      "           1       0.86      0.86      0.86         7\n",
      "           2       1.00      1.00      1.00         5\n",
      "\n",
      "    accuracy                           0.89        18\n",
      "   macro avg       0.90      0.90      0.90        18\n",
      "weighted avg       0.89      0.89      0.89        18\n",
      "\n",
      "-------------------------------------------------------------------------------------------------------------------\n"
     ]
    },
    {
     "name": "stderr",
     "output_type": "stream",
     "text": [
      "[Parallel(n_jobs=-1)]: Using backend LokyBackend with 12 concurrent workers.\n",
      "[Parallel(n_jobs=-1)]: Done   3 out of   3 | elapsed:  2.8min finished\n"
     ]
    },
    {
     "name": "stdout",
     "output_type": "stream",
     "text": [
      "K-Fold #6\n",
      "Mean negativities for all classes: [0.2509337934906016, 0.3095201022377456, 0.3650259957336737]\n",
      "Mean entropies for all classes: [9.525583800082789e-15, 9.595846477443387e-15, 9.02297583394234e-15]\n",
      "              precision    recall  f1-score   support\n",
      "\n",
      "           0       0.75      1.00      0.86         6\n",
      "           1       0.88      1.00      0.93         7\n",
      "           2       1.00      0.40      0.57         5\n",
      "\n",
      "    accuracy                           0.83        18\n",
      "   macro avg       0.88      0.80      0.79        18\n",
      "weighted avg       0.87      0.83      0.81        18\n",
      "\n",
      "-------------------------------------------------------------------------------------------------------------------\n"
     ]
    },
    {
     "name": "stderr",
     "output_type": "stream",
     "text": [
      "[Parallel(n_jobs=-1)]: Using backend LokyBackend with 12 concurrent workers.\n",
      "[Parallel(n_jobs=-1)]: Done   3 out of   3 | elapsed:  2.7min finished\n"
     ]
    },
    {
     "name": "stdout",
     "output_type": "stream",
     "text": [
      "K-Fold #7\n",
      "Mean negativities for all classes: [0.26659272241426407, 0.31049975168839106, 0.37902016474872663]\n",
      "Mean entropies for all classes: [9.426135037459072e-15, 9.442059393078623e-15, 8.407798952876588e-15]\n",
      "              precision    recall  f1-score   support\n",
      "\n",
      "           0       0.75      1.00      0.86         6\n",
      "           1       0.70      1.00      0.82         7\n",
      "           2       0.00      0.00      0.00         5\n",
      "\n",
      "    accuracy                           0.72        18\n",
      "   macro avg       0.48      0.67      0.56        18\n",
      "weighted avg       0.52      0.72      0.61        18\n",
      "\n",
      "-------------------------------------------------------------------------------------------------------------------\n"
     ]
    },
    {
     "name": "stderr",
     "output_type": "stream",
     "text": [
      "c:\\ProgramData\\Anaconda3\\lib\\site-packages\\sklearn\\metrics\\_classification.py:1344: UndefinedMetricWarning: Precision and F-score are ill-defined and being set to 0.0 in labels with no predicted samples. Use `zero_division` parameter to control this behavior.\n",
      "  _warn_prf(average, modifier, msg_start, len(result))\n",
      "c:\\ProgramData\\Anaconda3\\lib\\site-packages\\sklearn\\metrics\\_classification.py:1344: UndefinedMetricWarning: Precision and F-score are ill-defined and being set to 0.0 in labels with no predicted samples. Use `zero_division` parameter to control this behavior.\n",
      "  _warn_prf(average, modifier, msg_start, len(result))\n",
      "c:\\ProgramData\\Anaconda3\\lib\\site-packages\\sklearn\\metrics\\_classification.py:1344: UndefinedMetricWarning: Precision and F-score are ill-defined and being set to 0.0 in labels with no predicted samples. Use `zero_division` parameter to control this behavior.\n",
      "  _warn_prf(average, modifier, msg_start, len(result))\n",
      "[Parallel(n_jobs=-1)]: Using backend LokyBackend with 12 concurrent workers.\n",
      "[Parallel(n_jobs=-1)]: Done   3 out of   3 | elapsed:  2.8min finished\n"
     ]
    },
    {
     "name": "stdout",
     "output_type": "stream",
     "text": [
      "K-Fold #8\n",
      "Mean negativities for all classes: [0.2652682451227794, 0.3154137795374524, 0.3646729466032193]\n",
      "Mean entropies for all classes: [9.844379318394406e-15, 9.736704467300565e-15, 1.3155540600105978e-14]\n",
      "              precision    recall  f1-score   support\n",
      "\n",
      "           0       1.00      1.00      1.00         6\n",
      "           1       1.00      1.00      1.00         7\n",
      "           2       1.00      1.00      1.00         4\n",
      "\n",
      "    accuracy                           1.00        17\n",
      "   macro avg       1.00      1.00      1.00        17\n",
      "weighted avg       1.00      1.00      1.00        17\n",
      "\n",
      "-------------------------------------------------------------------------------------------------------------------\n"
     ]
    },
    {
     "name": "stderr",
     "output_type": "stream",
     "text": [
      "[Parallel(n_jobs=-1)]: Using backend LokyBackend with 12 concurrent workers.\n",
      "[Parallel(n_jobs=-1)]: Done   3 out of   3 | elapsed:  2.8min finished\n"
     ]
    },
    {
     "name": "stdout",
     "output_type": "stream",
     "text": [
      "K-Fold #9\n",
      "Mean negativities for all classes: [0.24791681213297612, 0.30971264223472955, 0.3516754286546372]\n",
      "Mean entropies for all classes: [9.470439000528289e-15, 9.78544063041303e-15, 8.764608498262588e-15]\n",
      "              precision    recall  f1-score   support\n",
      "\n",
      "           0       1.00      1.00      1.00         5\n",
      "           1       0.80      1.00      0.89         8\n",
      "           2       1.00      0.50      0.67         4\n",
      "\n",
      "    accuracy                           0.88        17\n",
      "   macro avg       0.93      0.83      0.85        17\n",
      "weighted avg       0.91      0.88      0.87        17\n",
      "\n",
      "-------------------------------------------------------------------------------------------------------------------\n",
      "AVG: Scores = 0.8326797385620915 F1-Scores = 0.7819829299241065 Negativity = [0.3165397526041119, 0.3080655145432286, 0.311354730351558] Entropy = [8.459303525880647e-15, 8.512630517376373e-15, 9.107492047457921e-15]\n"
     ]
    },
    {
     "name": "stderr",
     "output_type": "stream",
     "text": [
      "[Parallel(n_jobs=-1)]: Using backend LokyBackend with 12 concurrent workers.\n",
      "[Parallel(n_jobs=-1)]: Done   3 out of   3 | elapsed:  2.7min finished\n"
     ]
    },
    {
     "name": "stdout",
     "output_type": "stream",
     "text": [
      "K-Fold #0\n",
      "Mean negativities for all classes: [0.2513151501788728, 0.31227946841948173, 0.36086399641853995]\n",
      "Mean entropies for all classes: [9.887743631744197e-15, 9.858903207362182e-15, 8.33430974506574e-15]\n",
      "              precision    recall  f1-score   support\n",
      "\n",
      "           0       1.00      1.00      1.00         6\n",
      "           1       1.00      1.00      1.00         7\n",
      "           2       1.00      1.00      1.00         5\n",
      "\n",
      "    accuracy                           1.00        18\n",
      "   macro avg       1.00      1.00      1.00        18\n",
      "weighted avg       1.00      1.00      1.00        18\n",
      "\n",
      "-------------------------------------------------------------------------------------------------------------------\n"
     ]
    },
    {
     "name": "stderr",
     "output_type": "stream",
     "text": [
      "[Parallel(n_jobs=-1)]: Using backend LokyBackend with 12 concurrent workers.\n",
      "[Parallel(n_jobs=-1)]: Done   3 out of   3 | elapsed:  2.7min finished\n"
     ]
    },
    {
     "name": "stdout",
     "output_type": "stream",
     "text": [
      "K-Fold #1\n",
      "Mean negativities for all classes: [0.2621945192884784, 0.3087241340585508, 0.37099538003065674]\n",
      "Mean entropies for all classes: [9.393216305734525e-15, 9.627014684109565e-15, 8.522441420521885e-15]\n",
      "              precision    recall  f1-score   support\n",
      "\n",
      "           0       0.86      1.00      0.92         6\n",
      "           1       0.88      1.00      0.93         7\n",
      "           2       1.00      0.60      0.75         5\n",
      "\n",
      "    accuracy                           0.89        18\n",
      "   macro avg       0.91      0.87      0.87        18\n",
      "weighted avg       0.90      0.89      0.88        18\n",
      "\n",
      "-------------------------------------------------------------------------------------------------------------------\n"
     ]
    },
    {
     "name": "stderr",
     "output_type": "stream",
     "text": [
      "[Parallel(n_jobs=-1)]: Using backend LokyBackend with 12 concurrent workers.\n",
      "[Parallel(n_jobs=-1)]: Done   3 out of   3 | elapsed:  2.7min finished\n"
     ]
    },
    {
     "name": "stdout",
     "output_type": "stream",
     "text": [
      "K-Fold #2\n",
      "Mean negativities for all classes: [0.249951972679467, 0.31630599297693374, 0.3615535379626498]\n",
      "Mean entropies for all classes: [1.0073162529002208e-14, 1.0195808613811434e-14, 8.713630418988662e-15]\n",
      "              precision    recall  f1-score   support\n",
      "\n",
      "           0       1.00      1.00      1.00         6\n",
      "           1       0.58      1.00      0.74         7\n",
      "           2       0.00      0.00      0.00         5\n",
      "\n",
      "    accuracy                           0.72        18\n",
      "   macro avg       0.53      0.67      0.58        18\n",
      "weighted avg       0.56      0.72      0.62        18\n",
      "\n",
      "-------------------------------------------------------------------------------------------------------------------\n"
     ]
    },
    {
     "name": "stderr",
     "output_type": "stream",
     "text": [
      "c:\\ProgramData\\Anaconda3\\lib\\site-packages\\sklearn\\metrics\\_classification.py:1344: UndefinedMetricWarning: Precision and F-score are ill-defined and being set to 0.0 in labels with no predicted samples. Use `zero_division` parameter to control this behavior.\n",
      "  _warn_prf(average, modifier, msg_start, len(result))\n",
      "c:\\ProgramData\\Anaconda3\\lib\\site-packages\\sklearn\\metrics\\_classification.py:1344: UndefinedMetricWarning: Precision and F-score are ill-defined and being set to 0.0 in labels with no predicted samples. Use `zero_division` parameter to control this behavior.\n",
      "  _warn_prf(average, modifier, msg_start, len(result))\n",
      "c:\\ProgramData\\Anaconda3\\lib\\site-packages\\sklearn\\metrics\\_classification.py:1344: UndefinedMetricWarning: Precision and F-score are ill-defined and being set to 0.0 in labels with no predicted samples. Use `zero_division` parameter to control this behavior.\n",
      "  _warn_prf(average, modifier, msg_start, len(result))\n",
      "[Parallel(n_jobs=-1)]: Using backend LokyBackend with 12 concurrent workers.\n",
      "[Parallel(n_jobs=-1)]: Done   3 out of   3 | elapsed:  2.8min finished\n"
     ]
    },
    {
     "name": "stdout",
     "output_type": "stream",
     "text": [
      "K-Fold #3\n",
      "Mean negativities for all classes: [0.26470426547250775, 0.3081678307553049, 0.34811827571066134]\n",
      "Mean entropies for all classes: [9.773638194386895e-15, 1.0163368530993402e-14, 7.667431653040177e-15]\n",
      "              precision    recall  f1-score   support\n",
      "\n",
      "           0       1.00      1.00      1.00         6\n",
      "           1       1.00      0.86      0.92         7\n",
      "           2       0.83      1.00      0.91         5\n",
      "\n",
      "    accuracy                           0.94        18\n",
      "   macro avg       0.94      0.95      0.94        18\n",
      "weighted avg       0.95      0.94      0.94        18\n",
      "\n",
      "-------------------------------------------------------------------------------------------------------------------\n"
     ]
    },
    {
     "name": "stderr",
     "output_type": "stream",
     "text": [
      "[Parallel(n_jobs=-1)]: Using backend LokyBackend with 12 concurrent workers.\n",
      "[Parallel(n_jobs=-1)]: Done   3 out of   3 | elapsed:  2.7min finished\n"
     ]
    },
    {
     "name": "stdout",
     "output_type": "stream",
     "text": [
      "K-Fold #4\n",
      "Mean negativities for all classes: [0.26152946527118154, 0.3120819159498213, 0.3173017381412867]\n",
      "Mean entropies for all classes: [1.0073310579089478e-14, 1.0251303094428425e-14, 1.2595955824125997e-14]\n",
      "              precision    recall  f1-score   support\n",
      "\n",
      "           0       1.00      0.83      0.91         6\n",
      "           1       0.86      0.86      0.86         7\n",
      "           2       0.83      1.00      0.91         5\n",
      "\n",
      "    accuracy                           0.89        18\n",
      "   macro avg       0.90      0.90      0.89        18\n",
      "weighted avg       0.90      0.89      0.89        18\n",
      "\n",
      "-------------------------------------------------------------------------------------------------------------------\n"
     ]
    },
    {
     "name": "stderr",
     "output_type": "stream",
     "text": [
      "[Parallel(n_jobs=-1)]: Using backend LokyBackend with 12 concurrent workers.\n",
      "[Parallel(n_jobs=-1)]: Done   3 out of   3 | elapsed:  2.7min finished\n"
     ]
    },
    {
     "name": "stdout",
     "output_type": "stream",
     "text": [
      "K-Fold #5\n",
      "Mean negativities for all classes: [0.26982585368511525, 0.3037894383994644, 0.39092522387879103]\n",
      "Mean entropies for all classes: [9.727023337740998e-15, 9.55740813966357e-15, 7.613437922330792e-15]\n",
      "              precision    recall  f1-score   support\n",
      "\n",
      "           0       0.67      1.00      0.80         6\n",
      "           1       0.78      1.00      0.88         7\n",
      "           2       0.00      0.00      0.00         5\n",
      "\n",
      "    accuracy                           0.72        18\n",
      "   macro avg       0.48      0.67      0.56        18\n",
      "weighted avg       0.52      0.72      0.61        18\n",
      "\n",
      "-------------------------------------------------------------------------------------------------------------------\n"
     ]
    },
    {
     "name": "stderr",
     "output_type": "stream",
     "text": [
      "c:\\ProgramData\\Anaconda3\\lib\\site-packages\\sklearn\\metrics\\_classification.py:1344: UndefinedMetricWarning: Precision and F-score are ill-defined and being set to 0.0 in labels with no predicted samples. Use `zero_division` parameter to control this behavior.\n",
      "  _warn_prf(average, modifier, msg_start, len(result))\n",
      "c:\\ProgramData\\Anaconda3\\lib\\site-packages\\sklearn\\metrics\\_classification.py:1344: UndefinedMetricWarning: Precision and F-score are ill-defined and being set to 0.0 in labels with no predicted samples. Use `zero_division` parameter to control this behavior.\n",
      "  _warn_prf(average, modifier, msg_start, len(result))\n",
      "c:\\ProgramData\\Anaconda3\\lib\\site-packages\\sklearn\\metrics\\_classification.py:1344: UndefinedMetricWarning: Precision and F-score are ill-defined and being set to 0.0 in labels with no predicted samples. Use `zero_division` parameter to control this behavior.\n",
      "  _warn_prf(average, modifier, msg_start, len(result))\n",
      "[Parallel(n_jobs=-1)]: Using backend LokyBackend with 12 concurrent workers.\n",
      "[Parallel(n_jobs=-1)]: Done   3 out of   3 | elapsed:  2.8min finished\n"
     ]
    },
    {
     "name": "stdout",
     "output_type": "stream",
     "text": [
      "K-Fold #6\n",
      "Mean negativities for all classes: [0.26299362163380674, 0.3162946657435991, 0.3908626520222474]\n",
      "Mean entropies for all classes: [1.0033592714167452e-14, 9.821378380734976e-15, 9.850269212636162e-15]\n",
      "              precision    recall  f1-score   support\n",
      "\n",
      "           0       0.83      0.83      0.83         6\n",
      "           1       0.58      1.00      0.74         7\n",
      "           2       0.00      0.00      0.00         5\n",
      "\n",
      "    accuracy                           0.67        18\n",
      "   macro avg       0.47      0.61      0.52        18\n",
      "weighted avg       0.50      0.67      0.56        18\n",
      "\n",
      "-------------------------------------------------------------------------------------------------------------------\n"
     ]
    },
    {
     "name": "stderr",
     "output_type": "stream",
     "text": [
      "c:\\ProgramData\\Anaconda3\\lib\\site-packages\\sklearn\\metrics\\_classification.py:1344: UndefinedMetricWarning: Precision and F-score are ill-defined and being set to 0.0 in labels with no predicted samples. Use `zero_division` parameter to control this behavior.\n",
      "  _warn_prf(average, modifier, msg_start, len(result))\n",
      "c:\\ProgramData\\Anaconda3\\lib\\site-packages\\sklearn\\metrics\\_classification.py:1344: UndefinedMetricWarning: Precision and F-score are ill-defined and being set to 0.0 in labels with no predicted samples. Use `zero_division` parameter to control this behavior.\n",
      "  _warn_prf(average, modifier, msg_start, len(result))\n",
      "c:\\ProgramData\\Anaconda3\\lib\\site-packages\\sklearn\\metrics\\_classification.py:1344: UndefinedMetricWarning: Precision and F-score are ill-defined and being set to 0.0 in labels with no predicted samples. Use `zero_division` parameter to control this behavior.\n",
      "  _warn_prf(average, modifier, msg_start, len(result))\n",
      "[Parallel(n_jobs=-1)]: Using backend LokyBackend with 12 concurrent workers.\n",
      "[Parallel(n_jobs=-1)]: Done   3 out of   3 | elapsed:  2.7min finished\n"
     ]
    },
    {
     "name": "stdout",
     "output_type": "stream",
     "text": [
      "K-Fold #7\n",
      "Mean negativities for all classes: [0.25494505539616774, 0.30959104368958157, 0.34039950768858496]\n",
      "Mean entropies for all classes: [9.508755950901753e-15, 9.904402478738867e-15, 8.62446214452692e-15]\n",
      "              precision    recall  f1-score   support\n",
      "\n",
      "           0       1.00      1.00      1.00         6\n",
      "           1       1.00      1.00      1.00         7\n",
      "           2       1.00      1.00      1.00         5\n",
      "\n",
      "    accuracy                           1.00        18\n",
      "   macro avg       1.00      1.00      1.00        18\n",
      "weighted avg       1.00      1.00      1.00        18\n",
      "\n",
      "-------------------------------------------------------------------------------------------------------------------\n"
     ]
    },
    {
     "name": "stderr",
     "output_type": "stream",
     "text": [
      "[Parallel(n_jobs=-1)]: Using backend LokyBackend with 12 concurrent workers.\n",
      "[Parallel(n_jobs=-1)]: Done   3 out of   3 | elapsed:  2.7min finished\n"
     ]
    },
    {
     "name": "stdout",
     "output_type": "stream",
     "text": [
      "K-Fold #8\n",
      "Mean negativities for all classes: [0.25380035984839533, 0.3066020510984469, 0.3745618746141193]\n",
      "Mean entropies for all classes: [9.64743534024673e-15, 9.60434555836221e-15, 1.1150698175095223e-14]\n",
      "              precision    recall  f1-score   support\n",
      "\n",
      "           0       1.00      1.00      1.00         6\n",
      "           1       0.88      1.00      0.93         7\n",
      "           2       1.00      0.75      0.86         4\n",
      "\n",
      "    accuracy                           0.94        17\n",
      "   macro avg       0.96      0.92      0.93        17\n",
      "weighted avg       0.95      0.94      0.94        17\n",
      "\n",
      "-------------------------------------------------------------------------------------------------------------------\n"
     ]
    },
    {
     "name": "stderr",
     "output_type": "stream",
     "text": [
      "[Parallel(n_jobs=-1)]: Using backend LokyBackend with 12 concurrent workers.\n",
      "[Parallel(n_jobs=-1)]: Done   3 out of   3 | elapsed:  2.7min finished\n"
     ]
    },
    {
     "name": "stdout",
     "output_type": "stream",
     "text": [
      "K-Fold #9\n",
      "Mean negativities for all classes: [0.25110511128671825, 0.31204120771256855, 0.3750556738438957]\n",
      "Mean entropies for all classes: [9.363264504300642e-15, 1.0037172968064572e-14, 1.2762590409288808e-14]\n",
      "              precision    recall  f1-score   support\n",
      "\n",
      "           0       0.83      1.00      0.91         5\n",
      "           1       0.89      1.00      0.94         8\n",
      "           2       1.00      0.50      0.67         4\n",
      "\n",
      "    accuracy                           0.88        17\n",
      "   macro avg       0.91      0.83      0.84        17\n",
      "weighted avg       0.90      0.88      0.87        17\n",
      "\n",
      "-------------------------------------------------------------------------------------------------------------------\n",
      "AVG: Scores = 0.8656862745098038 F1-Scores = 0.8134443514861471 Negativity = [0.30815287167229816, 0.31397134445922864, 0.3092705012063502] Entropy = [9.360318861390707e-15, 9.180890803455325e-15, 9.660867187267435e-15]\n"
     ]
    },
    {
     "name": "stderr",
     "output_type": "stream",
     "text": [
      "[Parallel(n_jobs=-1)]: Using backend LokyBackend with 12 concurrent workers.\n",
      "[Parallel(n_jobs=-1)]: Done   3 out of   3 | elapsed:  2.7min finished\n"
     ]
    },
    {
     "name": "stdout",
     "output_type": "stream",
     "text": [
      "K-Fold #0\n",
      "Mean negativities for all classes: [0.25985354233500924, 0.30731159927300455, 0.3689709315854322]\n",
      "Mean entropies for all classes: [9.608726918847102e-15, 9.048667689738387e-15, 9.416353718783841e-15]\n",
      "              precision    recall  f1-score   support\n",
      "\n",
      "           0       1.00      0.83      0.91         6\n",
      "           1       0.88      1.00      0.93         7\n",
      "           2       1.00      1.00      1.00         5\n",
      "\n",
      "    accuracy                           0.94        18\n",
      "   macro avg       0.96      0.94      0.95        18\n",
      "weighted avg       0.95      0.94      0.94        18\n",
      "\n",
      "-------------------------------------------------------------------------------------------------------------------\n"
     ]
    },
    {
     "name": "stderr",
     "output_type": "stream",
     "text": [
      "[Parallel(n_jobs=-1)]: Using backend LokyBackend with 12 concurrent workers.\n",
      "[Parallel(n_jobs=-1)]: Done   3 out of   3 | elapsed:  2.8min finished\n"
     ]
    },
    {
     "name": "stdout",
     "output_type": "stream",
     "text": [
      "K-Fold #1\n",
      "Mean negativities for all classes: [0.2519282790875607, 0.31634212674131273, 0.3627893137325826]\n",
      "Mean entropies for all classes: [9.457404580084232e-15, 9.494388254180145e-15, 9.201736433804742e-15]\n",
      "              precision    recall  f1-score   support\n",
      "\n",
      "           0       1.00      1.00      1.00         6\n",
      "           1       0.70      1.00      0.82         7\n",
      "           2       1.00      0.40      0.57         5\n",
      "\n",
      "    accuracy                           0.83        18\n",
      "   macro avg       0.90      0.80      0.80        18\n",
      "weighted avg       0.88      0.83      0.81        18\n",
      "\n",
      "-------------------------------------------------------------------------------------------------------------------\n"
     ]
    },
    {
     "name": "stderr",
     "output_type": "stream",
     "text": [
      "[Parallel(n_jobs=-1)]: Using backend LokyBackend with 12 concurrent workers.\n",
      "[Parallel(n_jobs=-1)]: Done   3 out of   3 | elapsed:  2.7min finished\n"
     ]
    },
    {
     "name": "stdout",
     "output_type": "stream",
     "text": [
      "K-Fold #2\n",
      "Mean negativities for all classes: [0.2530597866503148, 0.312524121435348, 0.3635353749080358]\n",
      "Mean entropies for all classes: [9.703378281962473e-15, 9.49609018984792e-15, 1.1047559783399156e-14]\n",
      "              precision    recall  f1-score   support\n",
      "\n",
      "           0       0.86      1.00      0.92         6\n",
      "           1       0.88      1.00      0.93         7\n",
      "           2       1.00      0.60      0.75         5\n",
      "\n",
      "    accuracy                           0.89        18\n",
      "   macro avg       0.91      0.87      0.87        18\n",
      "weighted avg       0.90      0.89      0.88        18\n",
      "\n",
      "-------------------------------------------------------------------------------------------------------------------\n"
     ]
    },
    {
     "name": "stderr",
     "output_type": "stream",
     "text": [
      "[Parallel(n_jobs=-1)]: Using backend LokyBackend with 12 concurrent workers.\n",
      "[Parallel(n_jobs=-1)]: Done   3 out of   3 | elapsed:  2.7min finished\n",
      "[Parallel(n_jobs=-1)]: Using backend LokyBackend with 12 concurrent workers.\n"
     ]
    },
    {
     "name": "stdout",
     "output_type": "stream",
     "text": [
      "K-Fold #3\n",
      "Mean negativities for all classes: [0.2516675816470275, 0.30224357948572866, 0.3824406193757328]\n",
      "Mean entropies for all classes: [9.907667163158018e-15, 9.683038923139829e-15, 8.890488576590647e-15]\n",
      "              precision    recall  f1-score   support\n",
      "\n",
      "           0       0.75      1.00      0.86         6\n",
      "           1       1.00      1.00      1.00         7\n",
      "           2       1.00      0.60      0.75         5\n",
      "\n",
      "    accuracy                           0.89        18\n",
      "   macro avg       0.92      0.87      0.87        18\n",
      "weighted avg       0.92      0.89      0.88        18\n",
      "\n",
      "-------------------------------------------------------------------------------------------------------------------\n"
     ]
    },
    {
     "name": "stderr",
     "output_type": "stream",
     "text": [
      "[Parallel(n_jobs=-1)]: Done   3 out of   3 | elapsed:  2.8min finished\n"
     ]
    },
    {
     "name": "stdout",
     "output_type": "stream",
     "text": [
      "K-Fold #4\n",
      "Mean negativities for all classes: [0.24713558838722186, 0.30870061709895524, 0.36260962536452357]\n",
      "Mean entropies for all classes: [8.919959621064919e-15, 9.447123223255631e-15, 1.1016266224299287e-14]\n",
      "              precision    recall  f1-score   support\n",
      "\n",
      "           0       1.00      1.00      1.00         6\n",
      "           1       0.78      1.00      0.88         7\n",
      "           2       1.00      0.60      0.75         5\n",
      "\n",
      "    accuracy                           0.89        18\n",
      "   macro avg       0.93      0.87      0.88        18\n",
      "weighted avg       0.91      0.89      0.88        18\n",
      "\n",
      "-------------------------------------------------------------------------------------------------------------------\n"
     ]
    },
    {
     "name": "stderr",
     "output_type": "stream",
     "text": [
      "[Parallel(n_jobs=-1)]: Using backend LokyBackend with 12 concurrent workers.\n",
      "[Parallel(n_jobs=-1)]: Done   3 out of   3 | elapsed:  2.7min finished\n"
     ]
    },
    {
     "name": "stdout",
     "output_type": "stream",
     "text": [
      "K-Fold #5\n",
      "Mean negativities for all classes: [0.2538187342537107, 0.3130632888440458, 0.36480962120981375]\n",
      "Mean entropies for all classes: [9.35653100056864e-15, 9.776501111121163e-15, 9.480650018958005e-15]\n",
      "              precision    recall  f1-score   support\n",
      "\n",
      "           0       1.00      1.00      1.00         6\n",
      "           1       0.70      1.00      0.82         7\n",
      "           2       1.00      0.40      0.57         5\n",
      "\n",
      "    accuracy                           0.83        18\n",
      "   macro avg       0.90      0.80      0.80        18\n",
      "weighted avg       0.88      0.83      0.81        18\n",
      "\n",
      "-------------------------------------------------------------------------------------------------------------------\n"
     ]
    },
    {
     "name": "stderr",
     "output_type": "stream",
     "text": [
      "[Parallel(n_jobs=-1)]: Using backend LokyBackend with 12 concurrent workers.\n",
      "[Parallel(n_jobs=-1)]: Done   3 out of   3 | elapsed:  2.7min finished\n"
     ]
    },
    {
     "name": "stdout",
     "output_type": "stream",
     "text": [
      "K-Fold #6\n",
      "Mean negativities for all classes: [0.2600714073118146, 0.30549427218124076, 0.36499549146173904]\n",
      "Mean entropies for all classes: [9.684717414616736e-15, 9.43402639979195e-15, 1.1130536136095041e-14]\n",
      "              precision    recall  f1-score   support\n",
      "\n",
      "           0       0.67      1.00      0.80         6\n",
      "           1       0.75      0.86      0.80         7\n",
      "           2       1.00      0.20      0.33         5\n",
      "\n",
      "    accuracy                           0.72        18\n",
      "   macro avg       0.81      0.69      0.64        18\n",
      "weighted avg       0.79      0.72      0.67        18\n",
      "\n",
      "-------------------------------------------------------------------------------------------------------------------\n"
     ]
    },
    {
     "name": "stderr",
     "output_type": "stream",
     "text": [
      "[Parallel(n_jobs=-1)]: Using backend LokyBackend with 12 concurrent workers.\n",
      "[Parallel(n_jobs=-1)]: Done   3 out of   3 | elapsed:  2.7min finished\n"
     ]
    },
    {
     "name": "stdout",
     "output_type": "stream",
     "text": [
      "K-Fold #7\n",
      "Mean negativities for all classes: [0.2510224875276344, 0.30650472424751585, 0.37048972475807623]\n",
      "Mean entropies for all classes: [9.155313628252932e-15, 9.147772577520903e-15, 9.310959233217028e-15]\n",
      "              precision    recall  f1-score   support\n",
      "\n",
      "           0       1.00      0.83      0.91         6\n",
      "           1       0.78      1.00      0.88         7\n",
      "           2       1.00      0.80      0.89         5\n",
      "\n",
      "    accuracy                           0.89        18\n",
      "   macro avg       0.93      0.88      0.89        18\n",
      "weighted avg       0.91      0.89      0.89        18\n",
      "\n",
      "-------------------------------------------------------------------------------------------------------------------\n"
     ]
    },
    {
     "name": "stderr",
     "output_type": "stream",
     "text": [
      "[Parallel(n_jobs=-1)]: Using backend LokyBackend with 12 concurrent workers.\n",
      "[Parallel(n_jobs=-1)]: Done   3 out of   3 | elapsed:  2.7min finished\n"
     ]
    },
    {
     "name": "stdout",
     "output_type": "stream",
     "text": [
      "K-Fold #8\n",
      "Mean negativities for all classes: [0.2767139207011601, 0.3080672235468807, 0.3185690299781069]\n",
      "Mean entropies for all classes: [9.391234826935897e-15, 9.141572220297871e-15, 9.952360004830199e-15]\n",
      "              precision    recall  f1-score   support\n",
      "\n",
      "           0       1.00      0.83      0.91         6\n",
      "           1       0.88      1.00      0.93         7\n",
      "           2       1.00      1.00      1.00         4\n",
      "\n",
      "    accuracy                           0.94        17\n",
      "   macro avg       0.96      0.94      0.95        17\n",
      "weighted avg       0.95      0.94      0.94        17\n",
      "\n",
      "-------------------------------------------------------------------------------------------------------------------\n"
     ]
    },
    {
     "name": "stderr",
     "output_type": "stream",
     "text": [
      "[Parallel(n_jobs=-1)]: Using backend LokyBackend with 12 concurrent workers.\n",
      "[Parallel(n_jobs=-1)]: Done   3 out of   3 | elapsed:  2.8min finished\n"
     ]
    },
    {
     "name": "stdout",
     "output_type": "stream",
     "text": [
      "K-Fold #9\n",
      "Mean negativities for all classes: [0.2517188614693988, 0.3106937610058466, 0.3442409602730465]\n",
      "Mean entropies for all classes: [9.920914922226976e-15, 9.92886142721749e-15, 4.734963792260075e-15]\n",
      "              precision    recall  f1-score   support\n",
      "\n",
      "           0       1.00      1.00      1.00         5\n",
      "           1       1.00      1.00      1.00         8\n",
      "           2       1.00      1.00      1.00         4\n",
      "\n",
      "    accuracy                           1.00        17\n",
      "   macro avg       1.00      1.00      1.00        17\n",
      "weighted avg       1.00      1.00      1.00        17\n",
      "\n",
      "-------------------------------------------------------------------------------------------------------------------\n",
      "AVG: Scores = 0.8830065359477125 F1-Scores = 0.8639876898700429 Negativity = [0.31204535773114866, 0.3103532398538187, 0.3097064276645662] Entropy = [9.35791610912311e-15, 9.38450975602304e-15, 1.0082342751736514e-14]\n"
     ]
    },
    {
     "name": "stderr",
     "output_type": "stream",
     "text": [
      "[Parallel(n_jobs=-1)]: Using backend LokyBackend with 12 concurrent workers.\n",
      "[Parallel(n_jobs=-1)]: Done   3 out of   3 | elapsed:  2.7min finished\n"
     ]
    },
    {
     "name": "stdout",
     "output_type": "stream",
     "text": [
      "K-Fold #0\n",
      "Mean negativities for all classes: [0.25695385278082034, 0.3061631876581414, 0.36943599205246114]\n",
      "Mean entropies for all classes: [9.850229333255963e-15, 9.237947327871643e-15, 1.1053482000661749e-14]\n",
      "              precision    recall  f1-score   support\n",
      "\n",
      "           0       0.67      1.00      0.80         6\n",
      "           1       1.00      1.00      1.00         7\n",
      "           2       1.00      0.40      0.57         5\n",
      "\n",
      "    accuracy                           0.83        18\n",
      "   macro avg       0.89      0.80      0.79        18\n",
      "weighted avg       0.89      0.83      0.81        18\n",
      "\n",
      "-------------------------------------------------------------------------------------------------------------------\n"
     ]
    },
    {
     "name": "stderr",
     "output_type": "stream",
     "text": [
      "[Parallel(n_jobs=-1)]: Using backend LokyBackend with 12 concurrent workers.\n",
      "[Parallel(n_jobs=-1)]: Done   3 out of   3 | elapsed:  2.7min finished\n"
     ]
    },
    {
     "name": "stdout",
     "output_type": "stream",
     "text": [
      "K-Fold #1\n",
      "Mean negativities for all classes: [0.2521369076364177, 0.3106494449185672, 0.3665161001011409]\n",
      "Mean entropies for all classes: [9.931726953081051e-15, 9.72954200275316e-15, 1.0589111070134707e-14]\n",
      "              precision    recall  f1-score   support\n",
      "\n",
      "           0       0.86      1.00      0.92         6\n",
      "           1       1.00      1.00      1.00         7\n",
      "           2       1.00      0.80      0.89         5\n",
      "\n",
      "    accuracy                           0.94        18\n",
      "   macro avg       0.95      0.93      0.94        18\n",
      "weighted avg       0.95      0.94      0.94        18\n",
      "\n",
      "-------------------------------------------------------------------------------------------------------------------\n"
     ]
    },
    {
     "name": "stderr",
     "output_type": "stream",
     "text": [
      "[Parallel(n_jobs=-1)]: Using backend LokyBackend with 12 concurrent workers.\n",
      "[Parallel(n_jobs=-1)]: Done   3 out of   3 | elapsed:  2.8min finished\n"
     ]
    },
    {
     "name": "stdout",
     "output_type": "stream",
     "text": [
      "K-Fold #2\n",
      "Mean negativities for all classes: [0.24952706890688908, 0.30494085200059917, 0.3492049203281346]\n",
      "Mean entropies for all classes: [9.747605835192517e-15, 9.495061088941218e-15, 1.0449623617577992e-14]\n",
      "              precision    recall  f1-score   support\n",
      "\n",
      "           0       0.86      1.00      0.92         6\n",
      "           1       0.78      1.00      0.88         7\n",
      "           2       1.00      0.40      0.57         5\n",
      "\n",
      "    accuracy                           0.83        18\n",
      "   macro avg       0.88      0.80      0.79        18\n",
      "weighted avg       0.87      0.83      0.81        18\n",
      "\n",
      "-------------------------------------------------------------------------------------------------------------------\n"
     ]
    },
    {
     "name": "stderr",
     "output_type": "stream",
     "text": [
      "[Parallel(n_jobs=-1)]: Using backend LokyBackend with 12 concurrent workers.\n",
      "[Parallel(n_jobs=-1)]: Done   3 out of   3 | elapsed:  2.7min finished\n"
     ]
    },
    {
     "name": "stdout",
     "output_type": "stream",
     "text": [
      "K-Fold #3\n",
      "Mean negativities for all classes: [0.24665180795843725, 0.3103493207472094, 0.3620943740429871]\n",
      "Mean entropies for all classes: [9.586521960558947e-15, 1.0042762489126548e-14, 1.0598618923208269e-14]\n",
      "              precision    recall  f1-score   support\n",
      "\n",
      "           0       0.86      1.00      0.92         6\n",
      "           1       0.88      1.00      0.93         7\n",
      "           2       1.00      0.60      0.75         5\n",
      "\n",
      "    accuracy                           0.89        18\n",
      "   macro avg       0.91      0.87      0.87        18\n",
      "weighted avg       0.90      0.89      0.88        18\n",
      "\n",
      "-------------------------------------------------------------------------------------------------------------------\n"
     ]
    },
    {
     "name": "stderr",
     "output_type": "stream",
     "text": [
      "[Parallel(n_jobs=-1)]: Using backend LokyBackend with 12 concurrent workers.\n",
      "[Parallel(n_jobs=-1)]: Done   3 out of   3 | elapsed:  2.7min finished\n"
     ]
    },
    {
     "name": "stdout",
     "output_type": "stream",
     "text": [
      "K-Fold #4\n",
      "Mean negativities for all classes: [0.253455492501178, 0.3231061173001212, 0.37207466772956926]\n",
      "Mean entropies for all classes: [9.954693323390733e-15, 9.635317852991207e-15, 9.713819599376662e-15]\n",
      "              precision    recall  f1-score   support\n",
      "\n",
      "           0       0.86      1.00      0.92         6\n",
      "           1       0.70      1.00      0.82         7\n",
      "           2       1.00      0.20      0.33         5\n",
      "\n",
      "    accuracy                           0.78        18\n",
      "   macro avg       0.85      0.73      0.69        18\n",
      "weighted avg       0.84      0.78      0.72        18\n",
      "\n",
      "-------------------------------------------------------------------------------------------------------------------\n"
     ]
    },
    {
     "name": "stderr",
     "output_type": "stream",
     "text": [
      "[Parallel(n_jobs=-1)]: Using backend LokyBackend with 12 concurrent workers.\n",
      "[Parallel(n_jobs=-1)]: Done   3 out of   3 | elapsed:  2.7min finished\n"
     ]
    },
    {
     "name": "stdout",
     "output_type": "stream",
     "text": [
      "K-Fold #5\n",
      "Mean negativities for all classes: [0.24922594006993715, 0.3065124122914199, 0.3498841765189787]\n",
      "Mean entropies for all classes: [1.0415677115418044e-14, 9.757584499650383e-15, 7.528903919223047e-15]\n",
      "              precision    recall  f1-score   support\n",
      "\n",
      "           0       0.75      0.50      0.60         6\n",
      "           1       0.86      0.86      0.86         7\n",
      "           2       0.43      0.60      0.50         5\n",
      "\n",
      "    accuracy                           0.67        18\n",
      "   macro avg       0.68      0.65      0.65        18\n",
      "weighted avg       0.70      0.67      0.67        18\n",
      "\n",
      "-------------------------------------------------------------------------------------------------------------------\n"
     ]
    },
    {
     "name": "stderr",
     "output_type": "stream",
     "text": [
      "[Parallel(n_jobs=-1)]: Using backend LokyBackend with 12 concurrent workers.\n",
      "[Parallel(n_jobs=-1)]: Done   3 out of   3 | elapsed:  2.8min finished\n"
     ]
    },
    {
     "name": "stdout",
     "output_type": "stream",
     "text": [
      "K-Fold #6\n",
      "Mean negativities for all classes: [0.27063419849850356, 0.31596373864344707, 0.34335683576630216]\n",
      "Mean entropies for all classes: [1.033039178850197e-14, 1.003486867537883e-14, 1.5044261611490833e-14]\n",
      "              precision    recall  f1-score   support\n",
      "\n",
      "           0       1.00      0.83      0.91         6\n",
      "           1       0.86      0.86      0.86         7\n",
      "           2       0.83      1.00      0.91         5\n",
      "\n",
      "    accuracy                           0.89        18\n",
      "   macro avg       0.90      0.90      0.89        18\n",
      "weighted avg       0.90      0.89      0.89        18\n",
      "\n",
      "-------------------------------------------------------------------------------------------------------------------\n"
     ]
    },
    {
     "name": "stderr",
     "output_type": "stream",
     "text": [
      "[Parallel(n_jobs=-1)]: Using backend LokyBackend with 12 concurrent workers.\n",
      "[Parallel(n_jobs=-1)]: Done   3 out of   3 | elapsed:  2.8min finished\n"
     ]
    },
    {
     "name": "stdout",
     "output_type": "stream",
     "text": [
      "K-Fold #7\n",
      "Mean negativities for all classes: [0.2568656003881578, 0.30661200842437664, 0.37493493942601686]\n",
      "Mean entropies for all classes: [9.768902530588925e-15, 1.0108488352705277e-14, 9.419430265751652e-15]\n",
      "              precision    recall  f1-score   support\n",
      "\n",
      "           0       0.75      1.00      0.86         6\n",
      "           1       0.78      1.00      0.88         7\n",
      "           2       1.00      0.20      0.33         5\n",
      "\n",
      "    accuracy                           0.78        18\n",
      "   macro avg       0.84      0.73      0.69        18\n",
      "weighted avg       0.83      0.78      0.72        18\n",
      "\n",
      "-------------------------------------------------------------------------------------------------------------------\n"
     ]
    },
    {
     "name": "stderr",
     "output_type": "stream",
     "text": [
      "[Parallel(n_jobs=-1)]: Using backend LokyBackend with 12 concurrent workers.\n",
      "[Parallel(n_jobs=-1)]: Done   3 out of   3 | elapsed:  2.7min finished\n"
     ]
    },
    {
     "name": "stdout",
     "output_type": "stream",
     "text": [
      "K-Fold #8\n",
      "Mean negativities for all classes: [0.26059170400893117, 0.3169374998124025, 0.3233393476166057]\n",
      "Mean entropies for all classes: [1.0003793961125779e-14, 1.0024171665125986e-14, 9.046838949412352e-15]\n",
      "              precision    recall  f1-score   support\n",
      "\n",
      "           0       1.00      0.83      0.91         6\n",
      "           1       0.86      0.86      0.86         7\n",
      "           2       0.80      1.00      0.89         4\n",
      "\n",
      "    accuracy                           0.88        17\n",
      "   macro avg       0.89      0.90      0.89        17\n",
      "weighted avg       0.89      0.88      0.88        17\n",
      "\n",
      "-------------------------------------------------------------------------------------------------------------------\n"
     ]
    },
    {
     "name": "stderr",
     "output_type": "stream",
     "text": [
      "[Parallel(n_jobs=-1)]: Using backend LokyBackend with 12 concurrent workers.\n",
      "[Parallel(n_jobs=-1)]: Done   3 out of   3 | elapsed:  2.7min finished\n"
     ]
    },
    {
     "name": "stdout",
     "output_type": "stream",
     "text": [
      "K-Fold #9\n",
      "Mean negativities for all classes: [0.2581329969011067, 0.30643565317596827, 0.3458423266192048]\n",
      "Mean entropies for all classes: [9.565305934159753e-15, 9.716201418352217e-15, 7.777754349830521e-15]\n",
      "              precision    recall  f1-score   support\n",
      "\n",
      "           0       1.00      1.00      1.00         5\n",
      "           1       1.00      0.88      0.93         8\n",
      "           2       0.80      1.00      0.89         4\n",
      "\n",
      "    accuracy                           0.94        17\n",
      "   macro avg       0.93      0.96      0.94        17\n",
      "weighted avg       0.95      0.94      0.94        17\n",
      "\n",
      "-------------------------------------------------------------------------------------------------------------------\n",
      "AVG: Scores = 0.8434640522875817 F1-Scores = 0.8138179467591232 Negativity = [0.3108510108304743, 0.30976748421870864, 0.3012242804118743] Entropy = [1.0047219553929784e-14, 1.0083460008656305e-14, 9.897430180570575e-15]\n"
     ]
    },
    {
     "name": "stderr",
     "output_type": "stream",
     "text": [
      "[Parallel(n_jobs=-1)]: Using backend LokyBackend with 12 concurrent workers.\n",
      "[Parallel(n_jobs=-1)]: Done   3 out of   3 | elapsed:  2.8min finished\n"
     ]
    },
    {
     "name": "stdout",
     "output_type": "stream",
     "text": [
      "K-Fold #0\n",
      "Mean negativities for all classes: [0.25330077356967834, 0.3031384943627418, 0.37950338255630955]\n",
      "Mean entropies for all classes: [9.291763039530013e-15, 9.543541618973485e-15, 6.5719662500196545e-15]\n",
      "              precision    recall  f1-score   support\n",
      "\n",
      "           0       0.67      1.00      0.80         6\n",
      "           1       0.88      1.00      0.93         7\n",
      "           2       1.00      0.20      0.33         5\n",
      "\n",
      "    accuracy                           0.78        18\n",
      "   macro avg       0.85      0.73      0.69        18\n",
      "weighted avg       0.84      0.78      0.72        18\n",
      "\n",
      "-------------------------------------------------------------------------------------------------------------------\n"
     ]
    },
    {
     "name": "stderr",
     "output_type": "stream",
     "text": [
      "[Parallel(n_jobs=-1)]: Using backend LokyBackend with 12 concurrent workers.\n",
      "[Parallel(n_jobs=-1)]: Done   3 out of   3 | elapsed:  2.7min finished\n"
     ]
    },
    {
     "name": "stdout",
     "output_type": "stream",
     "text": [
      "K-Fold #1\n",
      "Mean negativities for all classes: [0.25362979008372466, 0.31523611525560835, 0.36109399206744563]\n",
      "Mean entropies for all classes: [9.458931137636028e-15, 9.20509397569937e-15, 8.228649062720206e-15]\n",
      "              precision    recall  f1-score   support\n",
      "\n",
      "           0       1.00      1.00      1.00         6\n",
      "           1       0.88      1.00      0.93         7\n",
      "           2       1.00      0.80      0.89         5\n",
      "\n",
      "    accuracy                           0.94        18\n",
      "   macro avg       0.96      0.93      0.94        18\n",
      "weighted avg       0.95      0.94      0.94        18\n",
      "\n",
      "-------------------------------------------------------------------------------------------------------------------\n"
     ]
    },
    {
     "name": "stderr",
     "output_type": "stream",
     "text": [
      "[Parallel(n_jobs=-1)]: Using backend LokyBackend with 12 concurrent workers.\n",
      "[Parallel(n_jobs=-1)]: Done   3 out of   3 | elapsed:  2.7min finished\n"
     ]
    },
    {
     "name": "stdout",
     "output_type": "stream",
     "text": [
      "K-Fold #2\n",
      "Mean negativities for all classes: [0.27628552463568173, 0.31402558255613905, 0.3805452782389447]\n",
      "Mean entropies for all classes: [9.943264600430173e-15, 1.0161451647039331e-14, 1.1925251115217279e-14]\n",
      "              precision    recall  f1-score   support\n",
      "\n",
      "           0       0.62      0.83      0.71         6\n",
      "           1       0.78      1.00      0.88         7\n",
      "           2       1.00      0.20      0.33         5\n",
      "\n",
      "    accuracy                           0.72        18\n",
      "   macro avg       0.80      0.68      0.64        18\n",
      "weighted avg       0.79      0.72      0.67        18\n",
      "\n",
      "-------------------------------------------------------------------------------------------------------------------\n"
     ]
    },
    {
     "name": "stderr",
     "output_type": "stream",
     "text": [
      "[Parallel(n_jobs=-1)]: Using backend LokyBackend with 12 concurrent workers.\n",
      "[Parallel(n_jobs=-1)]: Done   3 out of   3 | elapsed:  2.7min finished\n"
     ]
    },
    {
     "name": "stdout",
     "output_type": "stream",
     "text": [
      "K-Fold #3\n",
      "Mean negativities for all classes: [0.27562825689530257, 0.30665986395597705, 0.37866066032045337]\n",
      "Mean entropies for all classes: [9.66709034077963e-15, 9.727644108139418e-15, 1.1300627237041853e-14]\n",
      "              precision    recall  f1-score   support\n",
      "\n",
      "           0       0.62      0.83      0.71         6\n",
      "           1       0.70      1.00      0.82         7\n",
      "           2       0.00      0.00      0.00         5\n",
      "\n",
      "    accuracy                           0.67        18\n",
      "   macro avg       0.44      0.61      0.51        18\n",
      "weighted avg       0.48      0.67      0.56        18\n",
      "\n",
      "-------------------------------------------------------------------------------------------------------------------\n"
     ]
    },
    {
     "name": "stderr",
     "output_type": "stream",
     "text": [
      "c:\\ProgramData\\Anaconda3\\lib\\site-packages\\sklearn\\metrics\\_classification.py:1344: UndefinedMetricWarning: Precision and F-score are ill-defined and being set to 0.0 in labels with no predicted samples. Use `zero_division` parameter to control this behavior.\n",
      "  _warn_prf(average, modifier, msg_start, len(result))\n",
      "c:\\ProgramData\\Anaconda3\\lib\\site-packages\\sklearn\\metrics\\_classification.py:1344: UndefinedMetricWarning: Precision and F-score are ill-defined and being set to 0.0 in labels with no predicted samples. Use `zero_division` parameter to control this behavior.\n",
      "  _warn_prf(average, modifier, msg_start, len(result))\n",
      "c:\\ProgramData\\Anaconda3\\lib\\site-packages\\sklearn\\metrics\\_classification.py:1344: UndefinedMetricWarning: Precision and F-score are ill-defined and being set to 0.0 in labels with no predicted samples. Use `zero_division` parameter to control this behavior.\n",
      "  _warn_prf(average, modifier, msg_start, len(result))\n",
      "[Parallel(n_jobs=-1)]: Using backend LokyBackend with 12 concurrent workers.\n",
      "[Parallel(n_jobs=-1)]: Done   3 out of   3 | elapsed:  2.7min finished\n"
     ]
    },
    {
     "name": "stdout",
     "output_type": "stream",
     "text": [
      "K-Fold #4\n",
      "Mean negativities for all classes: [0.25485193642252274, 0.306860399374994, 0.3734717475222854]\n",
      "Mean entropies for all classes: [9.909917970520818e-15, 1.0276384178824937e-14, 9.553051905698628e-15]\n",
      "              precision    recall  f1-score   support\n",
      "\n",
      "           0       0.75      1.00      0.86         6\n",
      "           1       0.78      1.00      0.88         7\n",
      "           2       1.00      0.20      0.33         5\n",
      "\n",
      "    accuracy                           0.78        18\n",
      "   macro avg       0.84      0.73      0.69        18\n",
      "weighted avg       0.83      0.78      0.72        18\n",
      "\n",
      "-------------------------------------------------------------------------------------------------------------------\n"
     ]
    },
    {
     "name": "stderr",
     "output_type": "stream",
     "text": [
      "[Parallel(n_jobs=-1)]: Using backend LokyBackend with 12 concurrent workers.\n",
      "[Parallel(n_jobs=-1)]: Done   3 out of   3 | elapsed:  2.8min finished\n"
     ]
    },
    {
     "name": "stdout",
     "output_type": "stream",
     "text": [
      "K-Fold #5\n",
      "Mean negativities for all classes: [0.2504683199790633, 0.3105625704930092, 0.3701985181996666]\n",
      "Mean entropies for all classes: [9.739495650269966e-15, 1.0006046226769791e-14, 1.0678382498828997e-14]\n",
      "              precision    recall  f1-score   support\n",
      "\n",
      "           0       0.86      1.00      0.92         6\n",
      "           1       0.78      1.00      0.88         7\n",
      "           2       1.00      0.40      0.57         5\n",
      "\n",
      "    accuracy                           0.83        18\n",
      "   macro avg       0.88      0.80      0.79        18\n",
      "weighted avg       0.87      0.83      0.81        18\n",
      "\n",
      "-------------------------------------------------------------------------------------------------------------------\n"
     ]
    },
    {
     "name": "stderr",
     "output_type": "stream",
     "text": [
      "[Parallel(n_jobs=-1)]: Using backend LokyBackend with 12 concurrent workers.\n",
      "[Parallel(n_jobs=-1)]: Done   3 out of   3 | elapsed:  2.7min finished\n"
     ]
    },
    {
     "name": "stdout",
     "output_type": "stream",
     "text": [
      "K-Fold #6\n",
      "Mean negativities for all classes: [0.26650598627886296, 0.3091562454315955, 0.3533936291654948]\n",
      "Mean entropies for all classes: [1.0255872942910138e-14, 1.0432759073110699e-14, 1.104919259190274e-14]\n",
      "              precision    recall  f1-score   support\n",
      "\n",
      "           0       0.86      1.00      0.92         6\n",
      "           1       0.86      0.86      0.86         7\n",
      "           2       1.00      0.80      0.89         5\n",
      "\n",
      "    accuracy                           0.89        18\n",
      "   macro avg       0.90      0.89      0.89        18\n",
      "weighted avg       0.90      0.89      0.89        18\n",
      "\n",
      "-------------------------------------------------------------------------------------------------------------------\n"
     ]
    },
    {
     "name": "stderr",
     "output_type": "stream",
     "text": [
      "[Parallel(n_jobs=-1)]: Using backend LokyBackend with 12 concurrent workers.\n",
      "[Parallel(n_jobs=-1)]: Done   3 out of   3 | elapsed:  2.8min finished\n"
     ]
    },
    {
     "name": "stdout",
     "output_type": "stream",
     "text": [
      "K-Fold #7\n",
      "Mean negativities for all classes: [0.25193926532408645, 0.30981705314605557, 0.38031091042934456]\n",
      "Mean entropies for all classes: [9.810655871177862e-15, 9.589241134282186e-15, 1.19934282285201e-14]\n",
      "              precision    recall  f1-score   support\n",
      "\n",
      "           0       0.86      1.00      0.92         6\n",
      "           1       0.70      1.00      0.82         7\n",
      "           2       1.00      0.20      0.33         5\n",
      "\n",
      "    accuracy                           0.78        18\n",
      "   macro avg       0.85      0.73      0.69        18\n",
      "weighted avg       0.84      0.78      0.72        18\n",
      "\n",
      "-------------------------------------------------------------------------------------------------------------------\n"
     ]
    },
    {
     "name": "stderr",
     "output_type": "stream",
     "text": [
      "[Parallel(n_jobs=-1)]: Using backend LokyBackend with 12 concurrent workers.\n",
      "[Parallel(n_jobs=-1)]: Done   3 out of   3 | elapsed:  2.8min finished\n"
     ]
    },
    {
     "name": "stdout",
     "output_type": "stream",
     "text": [
      "K-Fold #8\n",
      "Mean negativities for all classes: [0.24899160200003745, 0.30879338299608855, 0.3374771278815267]\n",
      "Mean entropies for all classes: [9.230050637502846e-15, 1.0105067385673072e-14, 6.192120303359905e-15]\n",
      "              precision    recall  f1-score   support\n",
      "\n",
      "           0       1.00      1.00      1.00         6\n",
      "           1       1.00      0.71      0.83         7\n",
      "           2       0.67      1.00      0.80         4\n",
      "\n",
      "    accuracy                           0.88        17\n",
      "   macro avg       0.89      0.90      0.88        17\n",
      "weighted avg       0.92      0.88      0.88        17\n",
      "\n",
      "-------------------------------------------------------------------------------------------------------------------\n"
     ]
    },
    {
     "name": "stderr",
     "output_type": "stream",
     "text": [
      "[Parallel(n_jobs=-1)]: Using backend LokyBackend with 12 concurrent workers.\n",
      "[Parallel(n_jobs=-1)]: Done   3 out of   3 | elapsed:  2.7min finished\n"
     ]
    },
    {
     "name": "stdout",
     "output_type": "stream",
     "text": [
      "K-Fold #9\n",
      "Mean negativities for all classes: [0.2543822847814352, 0.31376766868919326, 0.3619784409553054]\n",
      "Mean entropies for all classes: [9.349314459710098e-15, 9.925125225791426e-15, 8.492056031189783e-15]\n",
      "              precision    recall  f1-score   support\n",
      "\n",
      "           0       0.83      1.00      0.91         5\n",
      "           1       1.00      0.88      0.93         8\n",
      "           2       1.00      1.00      1.00         4\n",
      "\n",
      "    accuracy                           0.94        17\n",
      "   macro avg       0.94      0.96      0.95        17\n",
      "weighted avg       0.95      0.94      0.94        17\n",
      "\n",
      "-------------------------------------------------------------------------------------------------------------------\n",
      "AVG: Scores = 0.8212418300653596 F1-Scores = 0.7669703553527083 Negativity = [0.31198088349624326, 0.3099866324689262, 0.3236187951435885] Entropy = [8.46909030284105e-15, 8.964224725351868e-15, 1.067665578756226e-14]\n"
     ]
    },
    {
     "name": "stderr",
     "output_type": "stream",
     "text": [
      "[Parallel(n_jobs=-1)]: Using backend LokyBackend with 12 concurrent workers.\n",
      "[Parallel(n_jobs=-1)]: Done   3 out of   3 | elapsed:  2.7min finished\n"
     ]
    },
    {
     "name": "stdout",
     "output_type": "stream",
     "text": [
      "K-Fold #0\n",
      "Mean negativities for all classes: [0.25658589483589833, 0.3135768937911685, 0.3766254100170426]\n",
      "Mean entropies for all classes: [9.656266236942642e-15, 9.54425403827052e-15, 9.9329168806537e-15]\n",
      "              precision    recall  f1-score   support\n",
      "\n",
      "           0       0.75      1.00      0.86         6\n",
      "           1       0.70      1.00      0.82         7\n",
      "           2       0.00      0.00      0.00         5\n",
      "\n",
      "    accuracy                           0.72        18\n",
      "   macro avg       0.48      0.67      0.56        18\n",
      "weighted avg       0.52      0.72      0.61        18\n",
      "\n",
      "-------------------------------------------------------------------------------------------------------------------\n"
     ]
    },
    {
     "name": "stderr",
     "output_type": "stream",
     "text": [
      "c:\\ProgramData\\Anaconda3\\lib\\site-packages\\sklearn\\metrics\\_classification.py:1344: UndefinedMetricWarning: Precision and F-score are ill-defined and being set to 0.0 in labels with no predicted samples. Use `zero_division` parameter to control this behavior.\n",
      "  _warn_prf(average, modifier, msg_start, len(result))\n",
      "c:\\ProgramData\\Anaconda3\\lib\\site-packages\\sklearn\\metrics\\_classification.py:1344: UndefinedMetricWarning: Precision and F-score are ill-defined and being set to 0.0 in labels with no predicted samples. Use `zero_division` parameter to control this behavior.\n",
      "  _warn_prf(average, modifier, msg_start, len(result))\n",
      "c:\\ProgramData\\Anaconda3\\lib\\site-packages\\sklearn\\metrics\\_classification.py:1344: UndefinedMetricWarning: Precision and F-score are ill-defined and being set to 0.0 in labels with no predicted samples. Use `zero_division` parameter to control this behavior.\n",
      "  _warn_prf(average, modifier, msg_start, len(result))\n",
      "[Parallel(n_jobs=-1)]: Using backend LokyBackend with 12 concurrent workers.\n",
      "[Parallel(n_jobs=-1)]: Done   3 out of   3 | elapsed:  2.7min finished\n"
     ]
    },
    {
     "name": "stdout",
     "output_type": "stream",
     "text": [
      "K-Fold #1\n",
      "Mean negativities for all classes: [0.2525187044048957, 0.31168355312290863, 0.3674883702810212]\n",
      "Mean entropies for all classes: [9.634711426694841e-15, 9.40529027044546e-15, 1.025856188715849e-14]\n",
      "              precision    recall  f1-score   support\n",
      "\n",
      "           0       0.86      1.00      0.92         6\n",
      "           1       1.00      1.00      1.00         7\n",
      "           2       1.00      0.80      0.89         5\n",
      "\n",
      "    accuracy                           0.94        18\n",
      "   macro avg       0.95      0.93      0.94        18\n",
      "weighted avg       0.95      0.94      0.94        18\n",
      "\n",
      "-------------------------------------------------------------------------------------------------------------------\n"
     ]
    },
    {
     "name": "stderr",
     "output_type": "stream",
     "text": [
      "[Parallel(n_jobs=-1)]: Using backend LokyBackend with 12 concurrent workers.\n",
      "[Parallel(n_jobs=-1)]: Done   3 out of   3 | elapsed:  2.7min finished\n"
     ]
    },
    {
     "name": "stdout",
     "output_type": "stream",
     "text": [
      "K-Fold #2\n",
      "Mean negativities for all classes: [0.265999829013551, 0.3102660929445389, 0.3583443447794873]\n",
      "Mean entropies for all classes: [9.697353668649599e-15, 9.430780379565466e-15, 7.793878976308759e-15]\n",
      "              precision    recall  f1-score   support\n",
      "\n",
      "           0       0.86      1.00      0.92         6\n",
      "           1       0.57      0.57      0.57         7\n",
      "           2       0.25      0.20      0.22         5\n",
      "\n",
      "    accuracy                           0.61        18\n",
      "   macro avg       0.56      0.59      0.57        18\n",
      "weighted avg       0.58      0.61      0.59        18\n",
      "\n",
      "-------------------------------------------------------------------------------------------------------------------\n"
     ]
    },
    {
     "name": "stderr",
     "output_type": "stream",
     "text": [
      "[Parallel(n_jobs=-1)]: Using backend LokyBackend with 12 concurrent workers.\n",
      "[Parallel(n_jobs=-1)]: Done   3 out of   3 | elapsed:  2.7min finished\n"
     ]
    },
    {
     "name": "stdout",
     "output_type": "stream",
     "text": [
      "K-Fold #3\n",
      "Mean negativities for all classes: [0.24986251021119538, 0.3112006425835302, 0.36844834814679417]\n",
      "Mean entropies for all classes: [9.783351768033969e-15, 1.0660805929021515e-14, 1.2602149348087163e-14]\n",
      "              precision    recall  f1-score   support\n",
      "\n",
      "           0       1.00      1.00      1.00         6\n",
      "           1       1.00      1.00      1.00         7\n",
      "           2       1.00      1.00      1.00         5\n",
      "\n",
      "    accuracy                           1.00        18\n",
      "   macro avg       1.00      1.00      1.00        18\n",
      "weighted avg       1.00      1.00      1.00        18\n",
      "\n",
      "-------------------------------------------------------------------------------------------------------------------\n"
     ]
    },
    {
     "name": "stderr",
     "output_type": "stream",
     "text": [
      "[Parallel(n_jobs=-1)]: Using backend LokyBackend with 12 concurrent workers.\n",
      "[Parallel(n_jobs=-1)]: Done   3 out of   3 | elapsed:  2.7min finished\n"
     ]
    },
    {
     "name": "stdout",
     "output_type": "stream",
     "text": [
      "K-Fold #4\n",
      "Mean negativities for all classes: [0.27466325602631714, 0.30785334084513244, 0.3732707483730166]\n",
      "Mean entropies for all classes: [1.0113748567367728e-14, 9.280713525089385e-15, 1.2897179190563687e-14]\n",
      "              precision    recall  f1-score   support\n",
      "\n",
      "           0       0.71      0.83      0.77         6\n",
      "           1       0.70      1.00      0.82         7\n",
      "           2       1.00      0.20      0.33         5\n",
      "\n",
      "    accuracy                           0.72        18\n",
      "   macro avg       0.80      0.68      0.64        18\n",
      "weighted avg       0.79      0.72      0.67        18\n",
      "\n",
      "-------------------------------------------------------------------------------------------------------------------\n"
     ]
    },
    {
     "name": "stderr",
     "output_type": "stream",
     "text": [
      "[Parallel(n_jobs=-1)]: Using backend LokyBackend with 12 concurrent workers.\n",
      "[Parallel(n_jobs=-1)]: Done   3 out of   3 | elapsed:  2.8min finished\n"
     ]
    },
    {
     "name": "stdout",
     "output_type": "stream",
     "text": [
      "K-Fold #5\n",
      "Mean negativities for all classes: [0.2666447021971882, 0.3048975277360618, 0.3651694337340168]\n",
      "Mean entropies for all classes: [9.754242654454474e-15, 9.347359574278868e-15, 9.030631471037176e-15]\n",
      "              precision    recall  f1-score   support\n",
      "\n",
      "           0       0.83      0.83      0.83         6\n",
      "           1       0.78      1.00      0.88         7\n",
      "           2       1.00      0.60      0.75         5\n",
      "\n",
      "    accuracy                           0.83        18\n",
      "   macro avg       0.87      0.81      0.82        18\n",
      "weighted avg       0.86      0.83      0.83        18\n",
      "\n",
      "-------------------------------------------------------------------------------------------------------------------\n"
     ]
    },
    {
     "name": "stderr",
     "output_type": "stream",
     "text": [
      "[Parallel(n_jobs=-1)]: Using backend LokyBackend with 12 concurrent workers.\n",
      "[Parallel(n_jobs=-1)]: Done   3 out of   3 | elapsed:  2.8min finished\n"
     ]
    },
    {
     "name": "stdout",
     "output_type": "stream",
     "text": [
      "K-Fold #6\n",
      "Mean negativities for all classes: [0.2534155753355669, 0.3015914777218043, 0.3619993090229563]\n",
      "Mean entropies for all classes: [9.724991537334205e-15, 9.549244934675064e-15, 7.738632406654667e-15]\n",
      "              precision    recall  f1-score   support\n",
      "\n",
      "           0       1.00      1.00      1.00         6\n",
      "           1       0.78      1.00      0.88         7\n",
      "           2       1.00      0.60      0.75         5\n",
      "\n",
      "    accuracy                           0.89        18\n",
      "   macro avg       0.93      0.87      0.88        18\n",
      "weighted avg       0.91      0.89      0.88        18\n",
      "\n",
      "-------------------------------------------------------------------------------------------------------------------\n"
     ]
    },
    {
     "name": "stderr",
     "output_type": "stream",
     "text": [
      "[Parallel(n_jobs=-1)]: Using backend LokyBackend with 12 concurrent workers.\n",
      "[Parallel(n_jobs=-1)]: Done   3 out of   3 | elapsed:  2.7min finished\n"
     ]
    },
    {
     "name": "stdout",
     "output_type": "stream",
     "text": [
      "K-Fold #7\n",
      "Mean negativities for all classes: [0.2501005569306786, 0.30872134567132337, 0.37493964306902783]\n",
      "Mean entropies for all classes: [9.392288589338557e-15, 1.0447145408012899e-14, 9.0357015833525e-15]\n",
      "              precision    recall  f1-score   support\n",
      "\n",
      "           0       1.00      1.00      1.00         6\n",
      "           1       0.70      1.00      0.82         7\n",
      "           2       1.00      0.40      0.57         5\n",
      "\n",
      "    accuracy                           0.83        18\n",
      "   macro avg       0.90      0.80      0.80        18\n",
      "weighted avg       0.88      0.83      0.81        18\n",
      "\n",
      "-------------------------------------------------------------------------------------------------------------------\n"
     ]
    },
    {
     "name": "stderr",
     "output_type": "stream",
     "text": [
      "[Parallel(n_jobs=-1)]: Using backend LokyBackend with 12 concurrent workers.\n",
      "[Parallel(n_jobs=-1)]: Done   3 out of   3 | elapsed:  2.7min finished\n"
     ]
    },
    {
     "name": "stdout",
     "output_type": "stream",
     "text": [
      "K-Fold #8\n",
      "Mean negativities for all classes: [0.2502709187645803, 0.31301932378136954, 0.3502614858636928]\n",
      "Mean entropies for all classes: [9.645927963858647e-15, 9.96636215436112e-15, 1.2011356403119712e-14]\n",
      "              precision    recall  f1-score   support\n",
      "\n",
      "           0       1.00      1.00      1.00         6\n",
      "           1       1.00      1.00      1.00         7\n",
      "           2       1.00      1.00      1.00         4\n",
      "\n",
      "    accuracy                           1.00        17\n",
      "   macro avg       1.00      1.00      1.00        17\n",
      "weighted avg       1.00      1.00      1.00        17\n",
      "\n",
      "-------------------------------------------------------------------------------------------------------------------\n"
     ]
    },
    {
     "name": "stderr",
     "output_type": "stream",
     "text": [
      "[Parallel(n_jobs=-1)]: Using backend LokyBackend with 12 concurrent workers.\n",
      "[Parallel(n_jobs=-1)]: Done   3 out of   3 | elapsed:  2.7min finished\n"
     ]
    },
    {
     "name": "stdout",
     "output_type": "stream",
     "text": [
      "K-Fold #9\n",
      "Mean negativities for all classes: [0.2520877324680983, 0.3023905926869762, 0.35390416558081883]\n",
      "Mean entropies for all classes: [9.505858319337547e-15, 9.781622705111945e-15, 9.582834917365122e-15]\n",
      "              precision    recall  f1-score   support\n",
      "\n",
      "           0       1.00      1.00      1.00         5\n",
      "           1       1.00      0.88      0.93         8\n",
      "           2       0.80      1.00      0.89         4\n",
      "\n",
      "    accuracy                           0.94        17\n",
      "   macro avg       0.93      0.96      0.94        17\n",
      "weighted avg       0.95      0.94      0.94        17\n",
      "\n",
      "-------------------------------------------------------------------------------------------------------------------\n",
      "AVG: Scores = 0.8496732026143791 F1-Scores = 0.8145324283559578 Negativity = [0.3155960662147031, 0.31056354260294183, 0.3115367555791924] Entropy = [9.711145718622288e-15, 9.76618786143293e-15, 8.974004341507941e-15]\n"
     ]
    },
    {
     "name": "stderr",
     "output_type": "stream",
     "text": [
      "[Parallel(n_jobs=-1)]: Using backend LokyBackend with 12 concurrent workers.\n",
      "[Parallel(n_jobs=-1)]: Done   3 out of   3 | elapsed:  2.8min finished\n"
     ]
    },
    {
     "name": "stdout",
     "output_type": "stream",
     "text": [
      "K-Fold #0\n",
      "Mean negativities for all classes: [0.25212304869378405, 0.3126622948191169, 0.37179774567418417]\n",
      "Mean entropies for all classes: [9.630656957094454e-15, 9.46435544174426e-15, 9.137580506647686e-15]\n",
      "              precision    recall  f1-score   support\n",
      "\n",
      "           0       1.00      1.00      1.00         6\n",
      "           1       0.88      1.00      0.93         7\n",
      "           2       1.00      0.80      0.89         5\n",
      "\n",
      "    accuracy                           0.94        18\n",
      "   macro avg       0.96      0.93      0.94        18\n",
      "weighted avg       0.95      0.94      0.94        18\n",
      "\n",
      "-------------------------------------------------------------------------------------------------------------------\n"
     ]
    },
    {
     "name": "stderr",
     "output_type": "stream",
     "text": [
      "[Parallel(n_jobs=-1)]: Using backend LokyBackend with 12 concurrent workers.\n",
      "[Parallel(n_jobs=-1)]: Done   3 out of   3 | elapsed:  2.7min finished\n"
     ]
    },
    {
     "name": "stdout",
     "output_type": "stream",
     "text": [
      "K-Fold #1\n",
      "Mean negativities for all classes: [0.25438069410051845, 0.30896038246413066, 0.3597079868033348]\n",
      "Mean entropies for all classes: [9.674608982908811e-15, 9.880051607419295e-15, 1.1536178470859992e-14]\n",
      "              precision    recall  f1-score   support\n",
      "\n",
      "           0       1.00      1.00      1.00         6\n",
      "           1       1.00      0.86      0.92         7\n",
      "           2       0.83      1.00      0.91         5\n",
      "\n",
      "    accuracy                           0.94        18\n",
      "   macro avg       0.94      0.95      0.94        18\n",
      "weighted avg       0.95      0.94      0.94        18\n",
      "\n",
      "-------------------------------------------------------------------------------------------------------------------\n"
     ]
    },
    {
     "name": "stderr",
     "output_type": "stream",
     "text": [
      "[Parallel(n_jobs=-1)]: Using backend LokyBackend with 12 concurrent workers.\n",
      "[Parallel(n_jobs=-1)]: Done   3 out of   3 | elapsed:  2.8min finished\n"
     ]
    },
    {
     "name": "stdout",
     "output_type": "stream",
     "text": [
      "K-Fold #2\n",
      "Mean negativities for all classes: [0.2667323800039483, 0.304428504756534, 0.3800327310481171]\n",
      "Mean entropies for all classes: [9.865885817965113e-15, 9.671459871508088e-15, 9.448715025228166e-15]\n",
      "              precision    recall  f1-score   support\n",
      "\n",
      "           0       0.83      0.83      0.83         6\n",
      "           1       0.64      1.00      0.78         7\n",
      "           2       1.00      0.20      0.33         5\n",
      "\n",
      "    accuracy                           0.72        18\n",
      "   macro avg       0.82      0.68      0.65        18\n",
      "weighted avg       0.80      0.72      0.67        18\n",
      "\n",
      "-------------------------------------------------------------------------------------------------------------------\n"
     ]
    },
    {
     "name": "stderr",
     "output_type": "stream",
     "text": [
      "[Parallel(n_jobs=-1)]: Using backend LokyBackend with 12 concurrent workers.\n",
      "[Parallel(n_jobs=-1)]: Done   3 out of   3 | elapsed:  2.7min finished\n"
     ]
    },
    {
     "name": "stdout",
     "output_type": "stream",
     "text": [
      "K-Fold #3\n",
      "Mean negativities for all classes: [0.2602120509195627, 0.31325607173953846, 0.3726996884988594]\n",
      "Mean entropies for all classes: [9.98743756537216e-15, 1.004762470050496e-14, 1.0271804722517855e-14]\n",
      "              precision    recall  f1-score   support\n",
      "\n",
      "           0       0.86      1.00      0.92         6\n",
      "           1       0.64      1.00      0.78         7\n",
      "           2       0.00      0.00      0.00         5\n",
      "\n",
      "    accuracy                           0.72        18\n",
      "   macro avg       0.50      0.67      0.57        18\n",
      "weighted avg       0.53      0.72      0.61        18\n",
      "\n",
      "-------------------------------------------------------------------------------------------------------------------\n"
     ]
    },
    {
     "name": "stderr",
     "output_type": "stream",
     "text": [
      "c:\\ProgramData\\Anaconda3\\lib\\site-packages\\sklearn\\metrics\\_classification.py:1344: UndefinedMetricWarning: Precision and F-score are ill-defined and being set to 0.0 in labels with no predicted samples. Use `zero_division` parameter to control this behavior.\n",
      "  _warn_prf(average, modifier, msg_start, len(result))\n",
      "c:\\ProgramData\\Anaconda3\\lib\\site-packages\\sklearn\\metrics\\_classification.py:1344: UndefinedMetricWarning: Precision and F-score are ill-defined and being set to 0.0 in labels with no predicted samples. Use `zero_division` parameter to control this behavior.\n",
      "  _warn_prf(average, modifier, msg_start, len(result))\n",
      "c:\\ProgramData\\Anaconda3\\lib\\site-packages\\sklearn\\metrics\\_classification.py:1344: UndefinedMetricWarning: Precision and F-score are ill-defined and being set to 0.0 in labels with no predicted samples. Use `zero_division` parameter to control this behavior.\n",
      "  _warn_prf(average, modifier, msg_start, len(result))\n",
      "[Parallel(n_jobs=-1)]: Using backend LokyBackend with 12 concurrent workers.\n",
      "[Parallel(n_jobs=-1)]: Done   3 out of   3 | elapsed:  2.8min finished\n"
     ]
    },
    {
     "name": "stdout",
     "output_type": "stream",
     "text": [
      "K-Fold #4\n",
      "Mean negativities for all classes: [0.265552124762278, 0.31052042145918246, 0.35192116755202335]\n",
      "Mean entropies for all classes: [1.013939101875322e-14, 1.0287567090255293e-14, 9.877260454974068e-15]\n",
      "              precision    recall  f1-score   support\n",
      "\n",
      "           0       1.00      0.67      0.80         6\n",
      "           1       0.75      0.86      0.80         7\n",
      "           2       0.67      0.80      0.73         5\n",
      "\n",
      "    accuracy                           0.78        18\n",
      "   macro avg       0.81      0.77      0.78        18\n",
      "weighted avg       0.81      0.78      0.78        18\n",
      "\n",
      "-------------------------------------------------------------------------------------------------------------------\n"
     ]
    },
    {
     "name": "stderr",
     "output_type": "stream",
     "text": [
      "[Parallel(n_jobs=-1)]: Using backend LokyBackend with 12 concurrent workers.\n",
      "[Parallel(n_jobs=-1)]: Done   3 out of   3 | elapsed:  2.7min finished\n"
     ]
    },
    {
     "name": "stdout",
     "output_type": "stream",
     "text": [
      "K-Fold #5\n",
      "Mean negativities for all classes: [0.24889321875919312, 0.31239242665580363, 0.3694370732521714]\n",
      "Mean entropies for all classes: [9.633304316893107e-15, 9.88699438749415e-15, 1.0193309108041007e-14]\n",
      "              precision    recall  f1-score   support\n",
      "\n",
      "           0       0.67      1.00      0.80         6\n",
      "           1       0.88      1.00      0.93         7\n",
      "           2       1.00      0.20      0.33         5\n",
      "\n",
      "    accuracy                           0.78        18\n",
      "   macro avg       0.85      0.73      0.69        18\n",
      "weighted avg       0.84      0.78      0.72        18\n",
      "\n",
      "-------------------------------------------------------------------------------------------------------------------\n"
     ]
    },
    {
     "name": "stderr",
     "output_type": "stream",
     "text": [
      "[Parallel(n_jobs=-1)]: Using backend LokyBackend with 12 concurrent workers.\n",
      "[Parallel(n_jobs=-1)]: Done   3 out of   3 | elapsed:  2.8min finished\n"
     ]
    },
    {
     "name": "stdout",
     "output_type": "stream",
     "text": [
      "K-Fold #6\n",
      "Mean negativities for all classes: [0.24608745663889117, 0.3068170614952159, 0.3499659387155958]\n",
      "Mean entropies for all classes: [9.7243331674908e-15, 9.803398359221066e-15, 9.851080966414458e-15]\n",
      "              precision    recall  f1-score   support\n",
      "\n",
      "           0       0.83      0.83      0.83         6\n",
      "           1       0.70      1.00      0.82         7\n",
      "           2       1.00      0.40      0.57         5\n",
      "\n",
      "    accuracy                           0.78        18\n",
      "   macro avg       0.84      0.74      0.74        18\n",
      "weighted avg       0.83      0.78      0.76        18\n",
      "\n",
      "-------------------------------------------------------------------------------------------------------------------\n"
     ]
    },
    {
     "name": "stderr",
     "output_type": "stream",
     "text": [
      "[Parallel(n_jobs=-1)]: Using backend LokyBackend with 12 concurrent workers.\n",
      "[Parallel(n_jobs=-1)]: Done   3 out of   3 | elapsed:  2.8min finished\n"
     ]
    },
    {
     "name": "stdout",
     "output_type": "stream",
     "text": [
      "K-Fold #7\n",
      "Mean negativities for all classes: [0.25271448384905065, 0.3079586290157243, 0.38480336588134506]\n",
      "Mean entropies for all classes: [9.52062624260104e-15, 9.148606908292347e-15, 1.0089396173217766e-14]\n",
      "              precision    recall  f1-score   support\n",
      "\n",
      "           0       0.86      1.00      0.92         6\n",
      "           1       0.70      1.00      0.82         7\n",
      "           2       1.00      0.20      0.33         5\n",
      "\n",
      "    accuracy                           0.78        18\n",
      "   macro avg       0.85      0.73      0.69        18\n",
      "weighted avg       0.84      0.78      0.72        18\n",
      "\n",
      "-------------------------------------------------------------------------------------------------------------------\n"
     ]
    },
    {
     "name": "stderr",
     "output_type": "stream",
     "text": [
      "[Parallel(n_jobs=-1)]: Using backend LokyBackend with 12 concurrent workers.\n",
      "[Parallel(n_jobs=-1)]: Done   3 out of   3 | elapsed:  2.7min finished\n"
     ]
    },
    {
     "name": "stdout",
     "output_type": "stream",
     "text": [
      "K-Fold #8\n",
      "Mean negativities for all classes: [0.2563363531503887, 0.30678559871271427, 0.36841580402200347]\n",
      "Mean entropies for all classes: [9.766432983239272e-15, 9.629674811711455e-15, 9.340599009576897e-15]\n",
      "              precision    recall  f1-score   support\n",
      "\n",
      "           0       1.00      1.00      1.00         6\n",
      "           1       0.88      1.00      0.93         7\n",
      "           2       1.00      0.75      0.86         4\n",
      "\n",
      "    accuracy                           0.94        17\n",
      "   macro avg       0.96      0.92      0.93        17\n",
      "weighted avg       0.95      0.94      0.94        17\n",
      "\n",
      "-------------------------------------------------------------------------------------------------------------------\n"
     ]
    },
    {
     "name": "stderr",
     "output_type": "stream",
     "text": [
      "[Parallel(n_jobs=-1)]: Using backend LokyBackend with 12 concurrent workers.\n",
      "[Parallel(n_jobs=-1)]: Done   3 out of   3 | elapsed:  2.8min finished\n"
     ]
    },
    {
     "name": "stdout",
     "output_type": "stream",
     "text": [
      "K-Fold #9\n",
      "Mean negativities for all classes: [0.24773640604541225, 0.31297159806725855, 0.3696276204805557]\n",
      "Mean entropies for all classes: [1.0130284847722818e-14, 9.739798095575063e-15, 1.044783008948212e-14]\n",
      "              precision    recall  f1-score   support\n",
      "\n",
      "           0       0.83      1.00      0.91         5\n",
      "           1       0.89      1.00      0.94         8\n",
      "           2       1.00      0.50      0.67         4\n",
      "\n",
      "    accuracy                           0.88        17\n",
      "   macro avg       0.91      0.83      0.84        17\n",
      "weighted avg       0.90      0.88      0.87        17\n",
      "\n",
      "-------------------------------------------------------------------------------------------------------------------\n",
      "AVG: Scores = 0.8267973856209151 F1-Scores = 0.7769756605050723 Negativity = [0.31219436306236165, 0.3076830211226613, 0.3170645386028665] Entropy = [9.410864301828799e-15, 1.0363613020396034e-14, 9.662020238233788e-15]\n"
     ]
    },
    {
     "name": "stderr",
     "output_type": "stream",
     "text": [
      "[Parallel(n_jobs=-1)]: Using backend LokyBackend with 12 concurrent workers.\n",
      "[Parallel(n_jobs=-1)]: Done   3 out of   3 | elapsed:  2.8min finished\n"
     ]
    },
    {
     "name": "stdout",
     "output_type": "stream",
     "text": [
      "K-Fold #0\n",
      "Mean negativities for all classes: [0.2548147161590022, 0.3097816634760211, 0.3675454230190382]\n",
      "Mean entropies for all classes: [9.796082408405886e-15, 9.692241480739696e-15, 8.32741866335371e-15]\n",
      "              precision    recall  f1-score   support\n",
      "\n",
      "           0       0.86      1.00      0.92         6\n",
      "           1       0.78      1.00      0.88         7\n",
      "           2       1.00      0.40      0.57         5\n",
      "\n",
      "    accuracy                           0.83        18\n",
      "   macro avg       0.88      0.80      0.79        18\n",
      "weighted avg       0.87      0.83      0.81        18\n",
      "\n",
      "-------------------------------------------------------------------------------------------------------------------\n"
     ]
    },
    {
     "name": "stderr",
     "output_type": "stream",
     "text": [
      "[Parallel(n_jobs=-1)]: Using backend LokyBackend with 12 concurrent workers.\n",
      "[Parallel(n_jobs=-1)]: Done   3 out of   3 | elapsed:  2.7min finished\n"
     ]
    },
    {
     "name": "stdout",
     "output_type": "stream",
     "text": [
      "K-Fold #1\n",
      "Mean negativities for all classes: [0.25125751510394284, 0.31269987396245447, 0.3005354362357496]\n",
      "Mean entropies for all classes: [9.413176239463857e-15, 1.0400876818528453e-14, 7.45913400039067e-15]\n",
      "              precision    recall  f1-score   support\n",
      "\n",
      "           0       1.00      1.00      1.00         6\n",
      "           1       1.00      1.00      1.00         7\n",
      "           2       1.00      1.00      1.00         5\n",
      "\n",
      "    accuracy                           1.00        18\n",
      "   macro avg       1.00      1.00      1.00        18\n",
      "weighted avg       1.00      1.00      1.00        18\n",
      "\n",
      "-------------------------------------------------------------------------------------------------------------------\n"
     ]
    },
    {
     "name": "stderr",
     "output_type": "stream",
     "text": [
      "[Parallel(n_jobs=-1)]: Using backend LokyBackend with 12 concurrent workers.\n",
      "[Parallel(n_jobs=-1)]: Done   3 out of   3 | elapsed:  2.7min finished\n"
     ]
    },
    {
     "name": "stdout",
     "output_type": "stream",
     "text": [
      "K-Fold #2\n",
      "Mean negativities for all classes: [0.24971103364472405, 0.30831438236327413, 0.3698345961208458]\n",
      "Mean entropies for all classes: [9.953021830443237e-15, 9.59521319745937e-15, 1.0259734643685636e-14]\n",
      "              precision    recall  f1-score   support\n",
      "\n",
      "           0       0.86      1.00      0.92         6\n",
      "           1       0.88      1.00      0.93         7\n",
      "           2       1.00      0.60      0.75         5\n",
      "\n",
      "    accuracy                           0.89        18\n",
      "   macro avg       0.91      0.87      0.87        18\n",
      "weighted avg       0.90      0.89      0.88        18\n",
      "\n",
      "-------------------------------------------------------------------------------------------------------------------\n"
     ]
    },
    {
     "name": "stderr",
     "output_type": "stream",
     "text": [
      "[Parallel(n_jobs=-1)]: Using backend LokyBackend with 12 concurrent workers.\n",
      "[Parallel(n_jobs=-1)]: Done   3 out of   3 | elapsed:  2.8min finished\n"
     ]
    },
    {
     "name": "stdout",
     "output_type": "stream",
     "text": [
      "K-Fold #3\n",
      "Mean negativities for all classes: [0.25870864282241257, 0.3139437837409475, 0.3621487944317791]\n",
      "Mean entropies for all classes: [9.654383412526396e-15, 9.553761379745312e-15, 1.4521508857721587e-14]\n",
      "              precision    recall  f1-score   support\n",
      "\n",
      "           0       1.00      0.83      0.91         6\n",
      "           1       0.75      0.86      0.80         7\n",
      "           2       0.80      0.80      0.80         5\n",
      "\n",
      "    accuracy                           0.83        18\n",
      "   macro avg       0.85      0.83      0.84        18\n",
      "weighted avg       0.85      0.83      0.84        18\n",
      "\n",
      "-------------------------------------------------------------------------------------------------------------------\n"
     ]
    },
    {
     "name": "stderr",
     "output_type": "stream",
     "text": [
      "[Parallel(n_jobs=-1)]: Using backend LokyBackend with 12 concurrent workers.\n",
      "[Parallel(n_jobs=-1)]: Done   3 out of   3 | elapsed:  2.8min finished\n"
     ]
    },
    {
     "name": "stdout",
     "output_type": "stream",
     "text": [
      "K-Fold #4\n",
      "Mean negativities for all classes: [0.2698213756737975, 0.30912212150286866, 0.3653912431748971]\n",
      "Mean entropies for all classes: [9.279277549795515e-15, 1.0468671644110624e-14, 1.1065233665787873e-14]\n",
      "              precision    recall  f1-score   support\n",
      "\n",
      "           0       1.00      0.83      0.91         6\n",
      "           1       0.88      1.00      0.93         7\n",
      "           2       1.00      1.00      1.00         5\n",
      "\n",
      "    accuracy                           0.94        18\n",
      "   macro avg       0.96      0.94      0.95        18\n",
      "weighted avg       0.95      0.94      0.94        18\n",
      "\n",
      "-------------------------------------------------------------------------------------------------------------------\n"
     ]
    },
    {
     "name": "stderr",
     "output_type": "stream",
     "text": [
      "[Parallel(n_jobs=-1)]: Using backend LokyBackend with 12 concurrent workers.\n",
      "[Parallel(n_jobs=-1)]: Done   3 out of   3 | elapsed:  2.8min finished\n"
     ]
    },
    {
     "name": "stdout",
     "output_type": "stream",
     "text": [
      "K-Fold #5\n",
      "Mean negativities for all classes: [0.25470851306317716, 0.30697522972237773, 0.3617213327681353]\n",
      "Mean entropies for all classes: [9.404130774210118e-15, 9.506743271406769e-15, 8.796309043842087e-15]\n",
      "              precision    recall  f1-score   support\n",
      "\n",
      "           0       1.00      1.00      1.00         6\n",
      "           1       0.88      1.00      0.93         7\n",
      "           2       1.00      0.80      0.89         5\n",
      "\n",
      "    accuracy                           0.94        18\n",
      "   macro avg       0.96      0.93      0.94        18\n",
      "weighted avg       0.95      0.94      0.94        18\n",
      "\n",
      "-------------------------------------------------------------------------------------------------------------------\n"
     ]
    },
    {
     "name": "stderr",
     "output_type": "stream",
     "text": [
      "[Parallel(n_jobs=-1)]: Using backend LokyBackend with 12 concurrent workers.\n",
      "[Parallel(n_jobs=-1)]: Done   3 out of   3 | elapsed:  2.8min finished\n"
     ]
    },
    {
     "name": "stdout",
     "output_type": "stream",
     "text": [
      "K-Fold #6\n",
      "Mean negativities for all classes: [0.2457426078380098, 0.31220060517020864, 0.3646120715634754]\n",
      "Mean entropies for all classes: [9.703120757018232e-15, 9.460552237268072e-15, 7.727454674263083e-15]\n",
      "              precision    recall  f1-score   support\n",
      "\n",
      "           0       1.00      1.00      1.00         6\n",
      "           1       1.00      1.00      1.00         7\n",
      "           2       1.00      1.00      1.00         5\n",
      "\n",
      "    accuracy                           1.00        18\n",
      "   macro avg       1.00      1.00      1.00        18\n",
      "weighted avg       1.00      1.00      1.00        18\n",
      "\n",
      "-------------------------------------------------------------------------------------------------------------------\n"
     ]
    },
    {
     "name": "stderr",
     "output_type": "stream",
     "text": [
      "[Parallel(n_jobs=-1)]: Using backend LokyBackend with 12 concurrent workers.\n",
      "[Parallel(n_jobs=-1)]: Done   3 out of   3 | elapsed:  2.7min finished\n"
     ]
    },
    {
     "name": "stdout",
     "output_type": "stream",
     "text": [
      "K-Fold #7\n",
      "Mean negativities for all classes: [0.26528375259290216, 0.31088950698609547, 0.36309312468178523]\n",
      "Mean entropies for all classes: [9.828477585591229e-15, 9.780019371408417e-15, 9.290604795896936e-15]\n",
      "              precision    recall  f1-score   support\n",
      "\n",
      "           0       0.86      1.00      0.92         6\n",
      "           1       0.78      1.00      0.88         7\n",
      "           2       1.00      0.40      0.57         5\n",
      "\n",
      "    accuracy                           0.83        18\n",
      "   macro avg       0.88      0.80      0.79        18\n",
      "weighted avg       0.87      0.83      0.81        18\n",
      "\n",
      "-------------------------------------------------------------------------------------------------------------------\n"
     ]
    },
    {
     "name": "stderr",
     "output_type": "stream",
     "text": [
      "[Parallel(n_jobs=-1)]: Using backend LokyBackend with 12 concurrent workers.\n",
      "[Parallel(n_jobs=-1)]: Done   3 out of   3 | elapsed:  2.8min finished\n"
     ]
    },
    {
     "name": "stdout",
     "output_type": "stream",
     "text": [
      "K-Fold #8\n",
      "Mean negativities for all classes: [0.24922903150018333, 0.3077801102185507, 0.3690262630044347]\n",
      "Mean entropies for all classes: [9.753387955200867e-15, 9.902715660643197e-15, 1.2335150168885897e-14]\n",
      "              precision    recall  f1-score   support\n",
      "\n",
      "           0       1.00      1.00      1.00         6\n",
      "           1       0.70      1.00      0.82         7\n",
      "           2       1.00      0.25      0.40         4\n",
      "\n",
      "    accuracy                           0.82        17\n",
      "   macro avg       0.90      0.75      0.74        17\n",
      "weighted avg       0.88      0.82      0.79        17\n",
      "\n",
      "-------------------------------------------------------------------------------------------------------------------\n"
     ]
    },
    {
     "name": "stderr",
     "output_type": "stream",
     "text": [
      "[Parallel(n_jobs=-1)]: Using backend LokyBackend with 12 concurrent workers.\n",
      "[Parallel(n_jobs=-1)]: Done   3 out of   3 | elapsed:  2.7min finished\n"
     ]
    },
    {
     "name": "stdout",
     "output_type": "stream",
     "text": [
      "K-Fold #9\n",
      "Mean negativities for all classes: [0.25593987560430664, 0.3108620027729395, 0.37304348846606145]\n",
      "Mean entropies for all classes: [9.909551818890996e-15, 9.917604465650616e-15, 1.017943746230669e-14]\n",
      "              precision    recall  f1-score   support\n",
      "\n",
      "           0       0.83      1.00      0.91         5\n",
      "           1       0.89      1.00      0.94         8\n",
      "           2       1.00      0.50      0.67         4\n",
      "\n",
      "    accuracy                           0.88        17\n",
      "   macro avg       0.91      0.83      0.84        17\n",
      "weighted avg       0.90      0.88      0.87        17\n",
      "\n",
      "-------------------------------------------------------------------------------------------------------------------\n",
      "AVG: Scores = 0.8983660130718956 F1-Scores = 0.8753207359089712 Negativity = [0.3107139342180205, 0.28816427510071563, 0.30928667070961463] Entropy = [9.27191418416643e-15, 9.091062352794325e-15, 9.935989890529415e-15]\n"
     ]
    },
    {
     "name": "stderr",
     "output_type": "stream",
     "text": [
      "[Parallel(n_jobs=-1)]: Using backend LokyBackend with 12 concurrent workers.\n",
      "[Parallel(n_jobs=-1)]: Done   3 out of   3 | elapsed:  2.7min finished\n"
     ]
    },
    {
     "name": "stdout",
     "output_type": "stream",
     "text": [
      "K-Fold #0\n",
      "Mean negativities for all classes: [0.25271089488976334, 0.3124193501524865, 0.3751547365086086]\n",
      "Mean entropies for all classes: [9.492410464670882e-15, 9.580145410243579e-15, 8.039648124330324e-15]\n",
      "              precision    recall  f1-score   support\n",
      "\n",
      "           0       0.86      1.00      0.92         6\n",
      "           1       0.78      1.00      0.88         7\n",
      "           2       1.00      0.40      0.57         5\n",
      "\n",
      "    accuracy                           0.83        18\n",
      "   macro avg       0.88      0.80      0.79        18\n",
      "weighted avg       0.87      0.83      0.81        18\n",
      "\n",
      "-------------------------------------------------------------------------------------------------------------------\n"
     ]
    },
    {
     "name": "stderr",
     "output_type": "stream",
     "text": [
      "[Parallel(n_jobs=-1)]: Using backend LokyBackend with 12 concurrent workers.\n",
      "[Parallel(n_jobs=-1)]: Done   3 out of   3 | elapsed:  2.7min finished\n"
     ]
    },
    {
     "name": "stdout",
     "output_type": "stream",
     "text": [
      "K-Fold #1\n",
      "Mean negativities for all classes: [0.2498208727331216, 0.30686174548348766, 0.3532690950567774]\n",
      "Mean entropies for all classes: [1.028770174545955e-14, 9.754835790751117e-15, 1.0886769559138883e-14]\n",
      "              precision    recall  f1-score   support\n",
      "\n",
      "           0       1.00      1.00      1.00         6\n",
      "           1       1.00      1.00      1.00         7\n",
      "           2       1.00      1.00      1.00         5\n",
      "\n",
      "    accuracy                           1.00        18\n",
      "   macro avg       1.00      1.00      1.00        18\n",
      "weighted avg       1.00      1.00      1.00        18\n",
      "\n",
      "-------------------------------------------------------------------------------------------------------------------\n"
     ]
    },
    {
     "name": "stderr",
     "output_type": "stream",
     "text": [
      "[Parallel(n_jobs=-1)]: Using backend LokyBackend with 12 concurrent workers.\n",
      "[Parallel(n_jobs=-1)]: Done   3 out of   3 | elapsed:  2.8min finished\n"
     ]
    },
    {
     "name": "stdout",
     "output_type": "stream",
     "text": [
      "K-Fold #2\n",
      "Mean negativities for all classes: [0.2664461992366307, 0.3065674589523773, 0.361250008858508]\n",
      "Mean entropies for all classes: [9.642795416421964e-15, 9.535224762503647e-15, 1.2286775842254817e-14]\n",
      "              precision    recall  f1-score   support\n",
      "\n",
      "           0       1.00      1.00      1.00         6\n",
      "           1       0.86      0.86      0.86         7\n",
      "           2       0.80      0.80      0.80         5\n",
      "\n",
      "    accuracy                           0.89        18\n",
      "   macro avg       0.89      0.89      0.89        18\n",
      "weighted avg       0.89      0.89      0.89        18\n",
      "\n",
      "-------------------------------------------------------------------------------------------------------------------\n"
     ]
    },
    {
     "name": "stderr",
     "output_type": "stream",
     "text": [
      "[Parallel(n_jobs=-1)]: Using backend LokyBackend with 12 concurrent workers.\n",
      "[Parallel(n_jobs=-1)]: Done   3 out of   3 | elapsed:  2.8min finished\n"
     ]
    },
    {
     "name": "stdout",
     "output_type": "stream",
     "text": [
      "K-Fold #3\n",
      "Mean negativities for all classes: [0.26774893361023766, 0.30778963111579877, 0.35397108392521176]\n",
      "Mean entropies for all classes: [9.518102995493699e-15, 1.0015522988145772e-14, 8.659410666262066e-15]\n",
      "              precision    recall  f1-score   support\n",
      "\n",
      "           0       1.00      0.83      0.91         6\n",
      "           1       0.88      1.00      0.93         7\n",
      "           2       1.00      1.00      1.00         5\n",
      "\n",
      "    accuracy                           0.94        18\n",
      "   macro avg       0.96      0.94      0.95        18\n",
      "weighted avg       0.95      0.94      0.94        18\n",
      "\n",
      "-------------------------------------------------------------------------------------------------------------------\n"
     ]
    },
    {
     "name": "stderr",
     "output_type": "stream",
     "text": [
      "[Parallel(n_jobs=-1)]: Using backend LokyBackend with 12 concurrent workers.\n",
      "[Parallel(n_jobs=-1)]: Done   3 out of   3 | elapsed:  2.8min finished\n"
     ]
    },
    {
     "name": "stdout",
     "output_type": "stream",
     "text": [
      "K-Fold #4\n",
      "Mean negativities for all classes: [0.2539268394115171, 0.3028800365711313, 0.3534884196121573]\n",
      "Mean entropies for all classes: [9.201458199750413e-15, 9.096059971384722e-15, 8.328109652493659e-15]\n",
      "              precision    recall  f1-score   support\n",
      "\n",
      "           0       1.00      0.83      0.91         6\n",
      "           1       0.88      1.00      0.93         7\n",
      "           2       1.00      1.00      1.00         5\n",
      "\n",
      "    accuracy                           0.94        18\n",
      "   macro avg       0.96      0.94      0.95        18\n",
      "weighted avg       0.95      0.94      0.94        18\n",
      "\n",
      "-------------------------------------------------------------------------------------------------------------------\n"
     ]
    },
    {
     "name": "stderr",
     "output_type": "stream",
     "text": [
      "[Parallel(n_jobs=-1)]: Using backend LokyBackend with 12 concurrent workers.\n",
      "[Parallel(n_jobs=-1)]: Done   3 out of   3 | elapsed:  2.8min finished\n"
     ]
    },
    {
     "name": "stdout",
     "output_type": "stream",
     "text": [
      "K-Fold #5\n",
      "Mean negativities for all classes: [0.259476156567642, 0.31312093098290855, 0.36129325682466296]\n",
      "Mean entropies for all classes: [9.549863071952553e-15, 9.43164377990814e-15, 9.03305969764151e-15]\n",
      "              precision    recall  f1-score   support\n",
      "\n",
      "           0       0.71      0.83      0.77         6\n",
      "           1       0.67      0.86      0.75         7\n",
      "           2       1.00      0.40      0.57         5\n",
      "\n",
      "    accuracy                           0.72        18\n",
      "   macro avg       0.79      0.70      0.70        18\n",
      "weighted avg       0.78      0.72      0.71        18\n",
      "\n",
      "-------------------------------------------------------------------------------------------------------------------\n"
     ]
    },
    {
     "name": "stderr",
     "output_type": "stream",
     "text": [
      "[Parallel(n_jobs=-1)]: Using backend LokyBackend with 12 concurrent workers.\n",
      "[Parallel(n_jobs=-1)]: Done   3 out of   3 | elapsed:  2.8min finished\n"
     ]
    },
    {
     "name": "stdout",
     "output_type": "stream",
     "text": [
      "K-Fold #6\n",
      "Mean negativities for all classes: [0.2512841174372675, 0.3118350749324017, 0.3693889555784732]\n",
      "Mean entropies for all classes: [9.622669953958613e-15, 9.894262623779654e-15, 1.1809510587485374e-14]\n",
      "              precision    recall  f1-score   support\n",
      "\n",
      "           0       0.86      1.00      0.92         6\n",
      "           1       0.78      1.00      0.88         7\n",
      "           2       1.00      0.40      0.57         5\n",
      "\n",
      "    accuracy                           0.83        18\n",
      "   macro avg       0.88      0.80      0.79        18\n",
      "weighted avg       0.87      0.83      0.81        18\n",
      "\n",
      "-------------------------------------------------------------------------------------------------------------------\n"
     ]
    },
    {
     "name": "stderr",
     "output_type": "stream",
     "text": [
      "[Parallel(n_jobs=-1)]: Using backend LokyBackend with 12 concurrent workers.\n",
      "[Parallel(n_jobs=-1)]: Done   3 out of   3 | elapsed:  2.7min finished\n"
     ]
    },
    {
     "name": "stdout",
     "output_type": "stream",
     "text": [
      "K-Fold #7\n",
      "Mean negativities for all classes: [0.2506276340968578, 0.3145772649987668, 0.37003075611513175]\n",
      "Mean entropies for all classes: [9.738921299933033e-15, 9.419453898627215e-15, 1.0036750763580785e-14]\n",
      "              precision    recall  f1-score   support\n",
      "\n",
      "           0       0.80      0.67      0.73         6\n",
      "           1       0.58      1.00      0.74         7\n",
      "           2       1.00      0.20      0.33         5\n",
      "\n",
      "    accuracy                           0.67        18\n",
      "   macro avg       0.79      0.62      0.60        18\n",
      "weighted avg       0.77      0.67      0.62        18\n",
      "\n",
      "-------------------------------------------------------------------------------------------------------------------\n"
     ]
    },
    {
     "name": "stderr",
     "output_type": "stream",
     "text": [
      "[Parallel(n_jobs=-1)]: Using backend LokyBackend with 12 concurrent workers.\n",
      "[Parallel(n_jobs=-1)]: Done   3 out of   3 | elapsed:  2.7min finished\n"
     ]
    },
    {
     "name": "stdout",
     "output_type": "stream",
     "text": [
      "K-Fold #8\n",
      "Mean negativities for all classes: [0.26256925228037326, 0.31380347514655904, 0.37854726965416435]\n",
      "Mean entropies for all classes: [9.468414800653839e-15, 1.0067554912481411e-14, 1.0467058929901217e-14]\n",
      "              precision    recall  f1-score   support\n",
      "\n",
      "           0       0.86      1.00      0.92         6\n",
      "           1       0.70      1.00      0.82         7\n",
      "           2       0.00      0.00      0.00         4\n",
      "\n",
      "    accuracy                           0.76        17\n",
      "   macro avg       0.52      0.67      0.58        17\n",
      "weighted avg       0.59      0.76      0.66        17\n",
      "\n",
      "-------------------------------------------------------------------------------------------------------------------\n"
     ]
    },
    {
     "name": "stderr",
     "output_type": "stream",
     "text": [
      "c:\\ProgramData\\Anaconda3\\lib\\site-packages\\sklearn\\metrics\\_classification.py:1344: UndefinedMetricWarning: Precision and F-score are ill-defined and being set to 0.0 in labels with no predicted samples. Use `zero_division` parameter to control this behavior.\n",
      "  _warn_prf(average, modifier, msg_start, len(result))\n",
      "c:\\ProgramData\\Anaconda3\\lib\\site-packages\\sklearn\\metrics\\_classification.py:1344: UndefinedMetricWarning: Precision and F-score are ill-defined and being set to 0.0 in labels with no predicted samples. Use `zero_division` parameter to control this behavior.\n",
      "  _warn_prf(average, modifier, msg_start, len(result))\n",
      "c:\\ProgramData\\Anaconda3\\lib\\site-packages\\sklearn\\metrics\\_classification.py:1344: UndefinedMetricWarning: Precision and F-score are ill-defined and being set to 0.0 in labels with no predicted samples. Use `zero_division` parameter to control this behavior.\n",
      "  _warn_prf(average, modifier, msg_start, len(result))\n",
      "[Parallel(n_jobs=-1)]: Using backend LokyBackend with 12 concurrent workers.\n",
      "[Parallel(n_jobs=-1)]: Done   3 out of   3 | elapsed:  2.8min finished\n"
     ]
    },
    {
     "name": "stdout",
     "output_type": "stream",
     "text": [
      "K-Fold #9\n",
      "Mean negativities for all classes: [0.25588375026662813, 0.30555766048956834, 0.3357183214648011]\n",
      "Mean entropies for all classes: [9.560306572895583e-15, 9.968562884040859e-15, 8.49621629008387e-15]\n",
      "              precision    recall  f1-score   support\n",
      "\n",
      "           0       1.00      1.00      1.00         5\n",
      "           1       1.00      0.88      0.93         8\n",
      "           2       0.80      1.00      0.89         4\n",
      "\n",
      "    accuracy                           0.94        17\n",
      "   macro avg       0.93      0.96      0.94        17\n",
      "weighted avg       0.95      0.94      0.94        17\n",
      "\n",
      "-------------------------------------------------------------------------------------------------------------------\n",
      "AVG: Scores = 0.8539215686274509 F1-Scores = 0.8179312798198246 Negativity = [0.3134283271836195, 0.30331723775779557, 0.31142122234917197] Entropy = [9.037401333081596e-15, 1.0309769031783185e-14, 1.0488265340393477e-14]\n",
      "CPU times: total: 6min 7s\n",
      "Wall time: 9h 7min 45s\n"
     ]
    }
   ],
   "source": [
    "%%time\n",
    "scores_list = []\n",
    "f1scores_list = []\n",
    "negativities_list = []\n",
    "for SEED in range(n_times_kfold):\n",
    "    scores, f1scores, output_dict = execute_training_test_k_fold(\n",
    "                    X, \n",
    "                    y, \n",
    "                    k_folds=k_times_fold,\n",
    "                    random_seed = SEED, \n",
    "                    classifier_function=classifier_function, \n",
    "                    dic_classifier_params=dic_classifier_params,\n",
    "                    one_vs_classifier=OneVsRestClassifier, \n",
    "                    dic_training_params=dic_training_params,\n",
    "                    print_each_fold_metric=True,\n",
    "                    print_avg_metric=True)\n",
    "    scores_list.append(scores)\n",
    "    f1scores_list.append(f1scores)\n",
    "    negativities_list.append(output_dict[\"negativities\"])"
   ]
  },
  {
   "cell_type": "code",
   "execution_count": 4,
   "id": "edf6b067",
   "metadata": {},
   "outputs": [
    {
     "name": "stdout",
     "output_type": "stream",
     "text": [
      "[[1.0, 0.7777777777777778, 1.0, 0.8333333333333334, 0.8888888888888888, 0.8333333333333334, 1.0, 0.7222222222222222, 0.7647058823529411, 0.7647058823529411], [0.7777777777777778, 1.0, 0.8888888888888888, 0.9444444444444444, 1.0, 0.9444444444444444, 0.8888888888888888, 0.7777777777777778, 0.8823529411764706, 0.9411764705882353], [0.8888888888888888, 0.9444444444444444, 0.7777777777777778, 0.8888888888888888, 1.0, 0.7777777777777778, 0.7777777777777778, 0.8333333333333334, 0.8823529411764706, 0.7647058823529411], [0.8333333333333334, 0.7777777777777778, 0.8888888888888888, 1.0, 0.8333333333333334, 1.0, 0.7222222222222222, 0.7777777777777778, 1.0, 0.9411764705882353], [1.0, 0.7777777777777778, 0.8888888888888888, 1.0, 0.9444444444444444, 0.7777777777777778, 0.8333333333333334, 0.7777777777777778, 1.0, 0.8235294117647058], [0.8888888888888888, 0.7222222222222222, 0.8333333333333334, 0.9444444444444444, 0.7777777777777778, 0.7777777777777778, 0.9444444444444444, 0.8888888888888888, 0.9411764705882353, 0.8235294117647058], [0.8333333333333334, 0.8333333333333334, 0.8888888888888888, 0.9444444444444444, 0.8333333333333334, 0.8333333333333334, 1.0, 1.0, 0.9411764705882353, 0.9411764705882353], [0.7777777777777778, 0.7777777777777778, 0.7222222222222222, 0.9444444444444444, 0.8333333333333334, 0.8333333333333334, 0.7777777777777778, 0.8888888888888888, 0.8823529411764706, 0.7647058823529411], [0.8888888888888888, 0.7777777777777778, 0.7222222222222222, 0.8333333333333334, 0.8888888888888888, 0.8888888888888888, 0.7222222222222222, 0.9444444444444444, 0.8235294117647058, 0.8235294117647058], [0.9444444444444444, 0.7777777777777778, 0.9444444444444444, 1.0, 1.0, 0.7222222222222222, 0.8888888888888888, 0.8888888888888888, 0.8235294117647058, 0.7647058823529411], [0.8333333333333334, 0.6666666666666666, 0.8333333333333334, 0.9444444444444444, 0.8888888888888888, 0.7222222222222222, 0.8333333333333334, 0.8333333333333334, 0.9411764705882353, 0.7647058823529411], [0.7222222222222222, 0.7777777777777778, 0.8333333333333334, 0.8333333333333334, 0.8333333333333334, 0.8888888888888888, 0.8333333333333334, 0.7222222222222222, 1.0, 0.8823529411764706], [1.0, 0.8888888888888888, 0.7222222222222222, 0.9444444444444444, 0.8888888888888888, 0.7222222222222222, 0.6666666666666666, 1.0, 0.9411764705882353, 0.8823529411764706], [0.9444444444444444, 0.8333333333333334, 0.8888888888888888, 0.8888888888888888, 0.8888888888888888, 0.8333333333333334, 0.7222222222222222, 0.8888888888888888, 0.9411764705882353, 1.0], [0.8333333333333334, 0.9444444444444444, 0.8333333333333334, 0.8888888888888888, 0.7777777777777778, 0.6666666666666666, 0.8888888888888888, 0.7777777777777778, 0.8823529411764706, 0.9411764705882353], [0.7777777777777778, 0.9444444444444444, 0.7222222222222222, 0.6666666666666666, 0.7777777777777778, 0.8333333333333334, 0.8888888888888888, 0.7777777777777778, 0.8823529411764706, 0.9411764705882353], [0.7222222222222222, 0.9444444444444444, 0.6111111111111112, 1.0, 0.7222222222222222, 0.8333333333333334, 0.8888888888888888, 0.8333333333333334, 1.0, 0.9411764705882353], [0.9444444444444444, 0.9444444444444444, 0.7222222222222222, 0.7222222222222222, 0.7777777777777778, 0.7777777777777778, 0.7777777777777778, 0.7777777777777778, 0.9411764705882353, 0.8823529411764706], [0.8333333333333334, 1.0, 0.8888888888888888, 0.8333333333333334, 0.9444444444444444, 0.9444444444444444, 1.0, 0.8333333333333334, 0.8235294117647058, 0.8823529411764706], [0.8333333333333334, 1.0, 0.8888888888888888, 0.9444444444444444, 0.9444444444444444, 0.7222222222222222, 0.8333333333333334, 0.6666666666666666, 0.7647058823529411, 0.9411764705882353]]\n"
     ]
    }
   ],
   "source": [
    "print(scores_list)"
   ]
  },
  {
   "cell_type": "code",
   "execution_count": 5,
   "id": "113e5328",
   "metadata": {},
   "outputs": [
    {
     "data": {
      "text/plain": [
       "0.8581862745098041"
      ]
     },
     "execution_count": 5,
     "metadata": {},
     "output_type": "execute_result"
    }
   ],
   "source": [
    "import numpy as np\n",
    "np.mean([np.mean(i) for i in scores_list])"
   ]
  },
  {
   "cell_type": "code",
   "execution_count": 6,
   "id": "5d5fcbfa",
   "metadata": {},
   "outputs": [
    {
     "data": {
      "text/plain": [
       "[0.8584967320261437,\n",
       " 0.9045751633986928,\n",
       " 0.8535947712418303,\n",
       " 0.877450980392157,\n",
       " 0.8823529411764707,\n",
       " 0.8542483660130719,\n",
       " 0.9049019607843137,\n",
       " 0.8202614379084967,\n",
       " 0.8313725490196078,\n",
       " 0.8754901960784313,\n",
       " 0.8261437908496732,\n",
       " 0.8326797385620915,\n",
       " 0.8656862745098038,\n",
       " 0.8830065359477125,\n",
       " 0.8434640522875817,\n",
       " 0.8212418300653596,\n",
       " 0.8496732026143791,\n",
       " 0.8267973856209151,\n",
       " 0.8983660130718956,\n",
       " 0.8539215686274509]"
      ]
     },
     "execution_count": 6,
     "metadata": {},
     "output_type": "execute_result"
    }
   ],
   "source": [
    "[np.mean(i) for i in scores_list]"
   ]
  },
  {
   "cell_type": "code",
   "execution_count": 7,
   "id": "168e8aff",
   "metadata": {},
   "outputs": [
    {
     "name": "stdout",
     "output_type": "stream",
     "text": [
      "Media Score dos N K-Fold 0.8581862745098041\n",
      "Maior Score dos K-Fold 0.9049019607843137\n",
      "Menor Score dos K-Fold 0.8202614379084967\n",
      "\n",
      "\n",
      "[[1.0, 0.7777777777777778, 1.0, 0.8333333333333334, 0.8888888888888888, 0.8333333333333334, 1.0, 0.7222222222222222, 0.7647058823529411, 0.7647058823529411], [0.7777777777777778, 1.0, 0.8888888888888888, 0.9444444444444444, 1.0, 0.9444444444444444, 0.8888888888888888, 0.7777777777777778, 0.8823529411764706, 0.9411764705882353], [0.8888888888888888, 0.9444444444444444, 0.7777777777777778, 0.8888888888888888, 1.0, 0.7777777777777778, 0.7777777777777778, 0.8333333333333334, 0.8823529411764706, 0.7647058823529411], [0.8333333333333334, 0.7777777777777778, 0.8888888888888888, 1.0, 0.8333333333333334, 1.0, 0.7222222222222222, 0.7777777777777778, 1.0, 0.9411764705882353], [1.0, 0.7777777777777778, 0.8888888888888888, 1.0, 0.9444444444444444, 0.7777777777777778, 0.8333333333333334, 0.7777777777777778, 1.0, 0.8235294117647058], [0.8888888888888888, 0.7222222222222222, 0.8333333333333334, 0.9444444444444444, 0.7777777777777778, 0.7777777777777778, 0.9444444444444444, 0.8888888888888888, 0.9411764705882353, 0.8235294117647058], [0.8333333333333334, 0.8333333333333334, 0.8888888888888888, 0.9444444444444444, 0.8333333333333334, 0.8333333333333334, 1.0, 1.0, 0.9411764705882353, 0.9411764705882353], [0.7777777777777778, 0.7777777777777778, 0.7222222222222222, 0.9444444444444444, 0.8333333333333334, 0.8333333333333334, 0.7777777777777778, 0.8888888888888888, 0.8823529411764706, 0.7647058823529411], [0.8888888888888888, 0.7777777777777778, 0.7222222222222222, 0.8333333333333334, 0.8888888888888888, 0.8888888888888888, 0.7222222222222222, 0.9444444444444444, 0.8235294117647058, 0.8235294117647058], [0.9444444444444444, 0.7777777777777778, 0.9444444444444444, 1.0, 1.0, 0.7222222222222222, 0.8888888888888888, 0.8888888888888888, 0.8235294117647058, 0.7647058823529411], [0.8333333333333334, 0.6666666666666666, 0.8333333333333334, 0.9444444444444444, 0.8888888888888888, 0.7222222222222222, 0.8333333333333334, 0.8333333333333334, 0.9411764705882353, 0.7647058823529411], [0.7222222222222222, 0.7777777777777778, 0.8333333333333334, 0.8333333333333334, 0.8333333333333334, 0.8888888888888888, 0.8333333333333334, 0.7222222222222222, 1.0, 0.8823529411764706], [1.0, 0.8888888888888888, 0.7222222222222222, 0.9444444444444444, 0.8888888888888888, 0.7222222222222222, 0.6666666666666666, 1.0, 0.9411764705882353, 0.8823529411764706], [0.9444444444444444, 0.8333333333333334, 0.8888888888888888, 0.8888888888888888, 0.8888888888888888, 0.8333333333333334, 0.7222222222222222, 0.8888888888888888, 0.9411764705882353, 1.0], [0.8333333333333334, 0.9444444444444444, 0.8333333333333334, 0.8888888888888888, 0.7777777777777778, 0.6666666666666666, 0.8888888888888888, 0.7777777777777778, 0.8823529411764706, 0.9411764705882353], [0.7777777777777778, 0.9444444444444444, 0.7222222222222222, 0.6666666666666666, 0.7777777777777778, 0.8333333333333334, 0.8888888888888888, 0.7777777777777778, 0.8823529411764706, 0.9411764705882353], [0.7222222222222222, 0.9444444444444444, 0.6111111111111112, 1.0, 0.7222222222222222, 0.8333333333333334, 0.8888888888888888, 0.8333333333333334, 1.0, 0.9411764705882353], [0.9444444444444444, 0.9444444444444444, 0.7222222222222222, 0.7222222222222222, 0.7777777777777778, 0.7777777777777778, 0.7777777777777778, 0.7777777777777778, 0.9411764705882353, 0.8823529411764706], [0.8333333333333334, 1.0, 0.8888888888888888, 0.8333333333333334, 0.9444444444444444, 0.9444444444444444, 1.0, 0.8333333333333334, 0.8235294117647058, 0.8823529411764706], [0.8333333333333334, 1.0, 0.8888888888888888, 0.9444444444444444, 0.9444444444444444, 0.7222222222222222, 0.8333333333333334, 0.6666666666666666, 0.7647058823529411, 0.9411764705882353]]\n"
     ]
    }
   ],
   "source": [
    "print(\"Media Score dos N K-Fold\", np.mean([np.mean(i) for i in scores_list]))\n",
    "print(\"Maior Score dos K-Fold\", max([np.mean(i) for i in scores_list]))\n",
    "print(\"Menor Score dos K-Fold\", min([np.mean(i) for i in scores_list]))\n",
    "\n",
    "print()\n",
    "print()\n",
    "print(scores_list)"
   ]
  },
  {
   "cell_type": "code",
   "execution_count": 8,
   "id": "fcd239e5",
   "metadata": {},
   "outputs": [
    {
     "name": "stdout",
     "output_type": "stream",
     "text": [
      "Media F1Score dos N K-Fold 0.8179312798198246\n",
      "Maior F1Score dos K-Fold 1.0\n",
      "Menor F1Score dos K-Fold 0.5822021116138764\n",
      "\n",
      "\n",
      "[0.7898351648351648, 1.0, 0.8857142857142858, 0.9474747474747475, 0.9474747474747475, 0.696886446886447, 0.7898351648351648, 0.5991493886230729, 0.5822021116138764, 0.9407407407407408]\n"
     ]
    }
   ],
   "source": [
    "print(\"Media F1Score dos N K-Fold\", np.mean([np.mean(i) for i in f1scores]))\n",
    "print(\"Maior F1Score dos K-Fold\", max([np.mean(i) for i in f1scores]))\n",
    "print(\"Menor F1Score dos K-Fold\", min([np.mean(i) for i in f1scores]))\n",
    "\n",
    "print()\n",
    "print()\n",
    "print(f1scores)"
   ]
  },
  {
   "cell_type": "code",
   "execution_count": 9,
   "id": "3dcbc812",
   "metadata": {},
   "outputs": [
    {
     "name": "stdout",
     "output_type": "stream",
     "text": [
      "Media Negativity dos N K-Fold [0.25589707497729436, 0.3103030736997712, 0.36168036689995064]\n",
      "\n",
      "\n",
      "[[[0.2500711918217564, 0.26102134189066173, 0.25191103461216413, 0.24918465199437032, 0.24585082301661862, 0.2515170247185605, 0.251438042973434, 0.25411539008054224, 0.2562141911616702, 0.27470769395513744], [0.30355904309500864, 0.31345137601421247, 0.31703987498398817, 0.31513407683095895, 0.3137603682659439, 0.31413090892123585, 0.3068616305491908, 0.30874370350445907, 0.3118780169544538, 0.30356036595298436], [0.3355477813602743, 0.370331648285125, 0.3635470453395289, 0.37154666917414525, 0.29922131130416907, 0.37465767700458696, 0.37364004627889313, 0.38680485734411857, 0.3660886655689869, 0.38267122745398785]], [[0.25339077738820914, 0.2539790112318931, 0.24898235093280263, 0.250276631250455, 0.272102311811495, 0.26272203068061883, 0.27256842245191204, 0.254685737398468, 0.24671484628682705, 0.24905523871277632], [0.3112385348962782, 0.30901789094702276, 0.3234724711823709, 0.30412312062989144, 0.3058726396907789, 0.3181840629394966, 0.3067449551404624, 0.3109054693201825, 0.3134146802984979, 0.3126483038215034], [0.36753461416614136, 0.36420205598183863, 0.3676459970766608, 0.3259234975203058, 0.33683196954776345, 0.3627519155020626, 0.36308540324481403, 0.35504256455962513, 0.36668043352011503, 0.3706136899753626]], [[0.2550308415882484, 0.2517538134045834, 0.24972388511138213, 0.2596094020886101, 0.24727937726184823, 0.2593870076997701, 0.25143765508103594, 0.2637859923836306, 0.2535068618613183, 0.25609896132312704], [0.31255355415951874, 0.3102795831331177, 0.308885426233191, 0.3152242922219543, 0.31172004336160275, 0.3087216376124644, 0.3133561884201403, 0.30917735800184676, 0.318550413751744, 0.30720695667280146], [0.36965187754831447, 0.33570535729531853, 0.3438344590659623, 0.3659326469936936, 0.3552268960059282, 0.37310402161852374, 0.37134131704144874, 0.3611427796159876, 0.35688798597794685, 0.3720185987903024]], [[0.2504791074040844, 0.24530776110147678, 0.25345093425866705, 0.2660368763275254, 0.262033206073256, 0.25199856090512607, 0.26984653731224745, 0.24923269744084203, 0.25163034649854604, 0.25252918627144977], [0.30580475884576885, 0.31035118587231414, 0.31741141922386945, 0.3073092603259914, 0.3035019355944788, 0.3115494723571699, 0.30440322160527356, 0.3181354923271668, 0.30326600782960367, 0.3082771928209273], [0.37947301754766727, 0.3863063527729573, 0.36677977752919866, 0.3149566764235316, 0.37260389601749383, 0.3603949315125795, 0.3716930840915605, 0.3675371401758969, 0.3180474539959357, 0.33762628931891603]], [[0.257052939207541, 0.25253214592628975, 0.269429881473578, 0.2646191949898236, 0.2524150729329746, 0.26348466795967584, 0.24863982561957787, 0.2510905992988076, 0.25215696924734027, 0.24898397961209184], [0.30697403931321116, 0.3083183917909029, 0.3064859450805684, 0.309204533119192, 0.30807327874328944, 0.306471459790007, 0.3126965234197284, 0.3178423417386497, 0.3038909233303184, 0.31532292676640944], [0.34382189526602386, 0.36467056263313347, 0.3696492113795051, 0.3563749646751894, 0.3421899119564175, 0.3666329647975044, 0.37649048718327816, 0.3501815314777859, 0.3612447918360532, 0.3527759873706638]], [[0.24989601055509855, 0.2533545167761589, 0.2709923963350436, 0.2583853449268302, 0.2543413102648258, 0.25168621835343374, 0.2631286667356416, 0.24711771624706103, 0.2511313006125998, 0.25323020660577233], [0.3111909101792624, 0.3156665944535753, 0.314890659643732, 0.31910329019785844, 0.3113906144022678, 0.31572556747252356, 0.30574147527762674, 0.31343887113366103, 0.29961551857332713, 0.3133282151476222], [0.3636424632604537, 0.3721530886186158, 0.37202499843075587, 0.3361682022049958, 0.3699276728032124, 0.3740055919582257, 0.35737244920909916, 0.3628503381192977, 0.3812940577030285, 0.3708243666366655]], [[0.2539762292431927, 0.2539805361387789, 0.2656882737137871, 0.26629360142775477, 0.25141030083664667, 0.2748928551787229, 0.24946330126678312, 0.2557555761210957, 0.2474681149435573, 0.24483162223938196], [0.3180624925012301, 0.30503847312093435, 0.31378374653446595, 0.30748607588838117, 0.3118196931189625, 0.31632412198733784, 0.3003913760423479, 0.30588593656271273, 0.3138684709011916, 0.3158460211005694], [0.3681067441285534, 0.34418303023464586, 0.35964673618008725, 0.3626287275126968, 0.3573530502067565, 0.36436284241928024, 0.36552799852779866, 0.35201882270560064, 0.37515382747463766, 0.3634637043924009]], [[0.2523973556776042, 0.27037623648862674, 0.2482446430756268, 0.25105460847479566, 0.2519905812126118, 0.25426489177058836, 0.2494876799882073, 0.2554495482701245, 0.2627461581566651, 0.25124769112703194], [0.30750669746009524, 0.306159083905467, 0.30213004015064504, 0.30788255893927746, 0.3169029020700682, 0.3114051158525485, 0.30503876930545004, 0.31386470516415776, 0.31203326542598153, 0.3129070339665795], [0.36799512699867687, 0.3665478778573061, 0.3760163506986172, 0.36382698431268423, 0.37446658316393117, 0.3629025773115729, 0.36921665030004097, 0.37482118599495023, 0.34916312869504257, 0.3715361753002407]], [[0.2513010332177843, 0.2660579874788468, 0.2656469780462157, 0.26064581931349706, 0.24825507872956892, 0.26501509635085174, 0.2529927645938219, 0.2537341897837996, 0.25059662638107055, 0.25557123009061783], [0.3124133131350435, 0.30995472785890593, 0.3068550419373744, 0.3167703040203043, 0.313763169675088, 0.31340792621586416, 0.30751317586282956, 0.31048226198023526, 0.30445887648191367, 0.3104771041070945], [0.359676332290908, 0.36517390368511793, 0.37401578907219335, 0.34355857345614316, 0.3643492060075953, 0.36027461801515015, 0.3859382242650114, 0.319625108255915, 0.36999481003117335, 0.37304423698410394]], [[0.250756179978996, 0.24800496357310575, 0.252576041378944, 0.2529975497967383, 0.24655849360850132, 0.2553710767107839, 0.2791125879771765, 0.2504662627129944, 0.2547062030941814, 0.2522987367929635], [0.31273601588587085, 0.30662054163906277, 0.31006470352072324, 0.3127217239912529, 0.31383488204907484, 0.31648713878441836, 0.30548547159374206, 0.30731379245035684, 0.30728753613780135, 0.3085037336698382], [0.3248413242989129, 0.34996129629563, 0.3226873228173669, 0.357354348588957, 0.3314370161779693, 0.3587283211581734, 0.361574377359943, 0.3683164711767995, 0.3509391421699275, 0.3731572799204269]], [[0.25063725801546466, 0.2521715130546085, 0.2643666556478635, 0.2653796187373461, 0.25036611803022585, 0.2526624556686672, 0.25106073186284206, 0.25187494329412885, 0.2530039847004999, 0.24685841251889074], [0.3068694056039468, 0.3104125676206448, 0.3120945811340012, 0.31579183961038065, 0.3172544150117295, 0.30977160205651844, 0.30550108259628295, 0.30640519765777097, 0.3070038270816881, 0.3132317785832692], [0.37222588412660407, 0.3682244016329853, 0.3452703024207869, 0.33106151188703414, 0.3687654877763273, 0.3915753273262453, 0.3660424124126213, 0.37144931478265875, 0.3667480810071634, 0.3892389345035558]], [[0.250226063207011, 0.25506752115541176, 0.25220128851814866, 0.26066334617104087, 0.24797543508277325, 0.26802216684814206, 0.2509337934906016, 0.26659272241426407, 0.2652682451227794, 0.24791681213297612], [0.31033277142169047, 0.3088008478609761, 0.3154812125905108, 0.3185189974219525, 0.303772628529614, 0.31549235188761243, 0.3095201022377456, 0.31049975168839106, 0.3154137795374524, 0.30971264223472955], [0.3890604231836342, 0.3603281746132979, 0.3663816899460144, 0.36412066540965154, 0.3676249734268371, 0.3197162879264842, 0.3650259957336737, 0.37902016474872663, 0.3646729466032193, 0.3516754286546372]], [[0.2513151501788728, 0.2621945192884784, 0.249951972679467, 0.26470426547250775, 0.26152946527118154, 0.26982585368511525, 0.26299362163380674, 0.25494505539616774, 0.25380035984839533, 0.25110511128671825], [0.31227946841948173, 0.3087241340585508, 0.31630599297693374, 0.3081678307553049, 0.3120819159498213, 0.3037894383994644, 0.3162946657435991, 0.30959104368958157, 0.3066020510984469, 0.31204120771256855], [0.36086399641853995, 0.37099538003065674, 0.3615535379626498, 0.34811827571066134, 0.3173017381412867, 0.39092522387879103, 0.3908626520222474, 0.34039950768858496, 0.3745618746141193, 0.3750556738438957]], [[0.25985354233500924, 0.2519282790875607, 0.2530597866503148, 0.2516675816470275, 0.24713558838722186, 0.2538187342537107, 0.2600714073118146, 0.2510224875276344, 0.2767139207011601, 0.2517188614693988], [0.30731159927300455, 0.31634212674131273, 0.312524121435348, 0.30224357948572866, 0.30870061709895524, 0.3130632888440458, 0.30549427218124076, 0.30650472424751585, 0.3080672235468807, 0.3106937610058466], [0.3689709315854322, 0.3627893137325826, 0.3635353749080358, 0.3824406193757328, 0.36260962536452357, 0.36480962120981375, 0.36499549146173904, 0.37048972475807623, 0.3185690299781069, 0.3442409602730465]], [[0.25695385278082034, 0.2521369076364177, 0.24952706890688908, 0.24665180795843725, 0.253455492501178, 0.24922594006993715, 0.27063419849850356, 0.2568656003881578, 0.26059170400893117, 0.2581329969011067], [0.3061631876581414, 0.3106494449185672, 0.30494085200059917, 0.3103493207472094, 0.3231061173001212, 0.3065124122914199, 0.31596373864344707, 0.30661200842437664, 0.3169374998124025, 0.30643565317596827], [0.36943599205246114, 0.3665161001011409, 0.3492049203281346, 0.3620943740429871, 0.37207466772956926, 0.3498841765189787, 0.34335683576630216, 0.37493493942601686, 0.3233393476166057, 0.3458423266192048]], [[0.25330077356967834, 0.25362979008372466, 0.27628552463568173, 0.27562825689530257, 0.25485193642252274, 0.2504683199790633, 0.26650598627886296, 0.25193926532408645, 0.24899160200003745, 0.2543822847814352], [0.3031384943627418, 0.31523611525560835, 0.31402558255613905, 0.30665986395597705, 0.306860399374994, 0.3105625704930092, 0.3091562454315955, 0.30981705314605557, 0.30879338299608855, 0.31376766868919326], [0.37950338255630955, 0.36109399206744563, 0.3805452782389447, 0.37866066032045337, 0.3734717475222854, 0.3701985181996666, 0.3533936291654948, 0.38031091042934456, 0.3374771278815267, 0.3619784409553054]], [[0.25658589483589833, 0.2525187044048957, 0.265999829013551, 0.24986251021119538, 0.27466325602631714, 0.2666447021971882, 0.2534155753355669, 0.2501005569306786, 0.2502709187645803, 0.2520877324680983], [0.3135768937911685, 0.31168355312290863, 0.3102660929445389, 0.3112006425835302, 0.30785334084513244, 0.3048975277360618, 0.3015914777218043, 0.30872134567132337, 0.31301932378136954, 0.3023905926869762], [0.3766254100170426, 0.3674883702810212, 0.3583443447794873, 0.36844834814679417, 0.3732707483730166, 0.3651694337340168, 0.3619993090229563, 0.37493964306902783, 0.3502614858636928, 0.35390416558081883]], [[0.25212304869378405, 0.25438069410051845, 0.2667323800039483, 0.2602120509195627, 0.265552124762278, 0.24889321875919312, 0.24608745663889117, 0.25271448384905065, 0.2563363531503887, 0.24773640604541225], [0.3126622948191169, 0.30896038246413066, 0.304428504756534, 0.31325607173953846, 0.31052042145918246, 0.31239242665580363, 0.3068170614952159, 0.3079586290157243, 0.30678559871271427, 0.31297159806725855], [0.37179774567418417, 0.3597079868033348, 0.3800327310481171, 0.3726996884988594, 0.35192116755202335, 0.3694370732521714, 0.3499659387155958, 0.38480336588134506, 0.36841580402200347, 0.3696276204805557]], [[0.2548147161590022, 0.25125751510394284, 0.24971103364472405, 0.25870864282241257, 0.2698213756737975, 0.25470851306317716, 0.2457426078380098, 0.26528375259290216, 0.24922903150018333, 0.25593987560430664], [0.3097816634760211, 0.31269987396245447, 0.30831438236327413, 0.3139437837409475, 0.30912212150286866, 0.30697522972237773, 0.31220060517020864, 0.31088950698609547, 0.3077801102185507, 0.3108620027729395], [0.3675454230190382, 0.3005354362357496, 0.3698345961208458, 0.3621487944317791, 0.3653912431748971, 0.3617213327681353, 0.3646120715634754, 0.36309312468178523, 0.3690262630044347, 0.37304348846606145]], [[0.25271089488976334, 0.2498208727331216, 0.2664461992366307, 0.26774893361023766, 0.2539268394115171, 0.259476156567642, 0.2512841174372675, 0.2506276340968578, 0.26256925228037326, 0.25588375026662813], [0.3124193501524865, 0.30686174548348766, 0.3065674589523773, 0.30778963111579877, 0.3028800365711313, 0.31312093098290855, 0.3118350749324017, 0.3145772649987668, 0.31380347514655904, 0.30555766048956834], [0.3751547365086086, 0.3532690950567774, 0.361250008858508, 0.35397108392521176, 0.3534884196121573, 0.36129325682466296, 0.3693889555784732, 0.37003075611513175, 0.37854726965416435, 0.3357183214648011]]]\n"
     ]
    }
   ],
   "source": [
    "print(\"Media Negativity dos N K-Fold\", [np.mean([neg[i] for neg in negativities_list]) for i in range(len(set(y)))])\n",
    "\n",
    "print()\n",
    "print()\n",
    "print(negativities_list)"
   ]
  }
 ],
 "metadata": {
  "kernelspec": {
   "display_name": "Python 3",
   "language": "python",
   "name": "python3"
  },
  "language_info": {
   "codemirror_mode": {
    "name": "ipython",
    "version": 3
   },
   "file_extension": ".py",
   "mimetype": "text/x-python",
   "name": "python",
   "nbconvert_exporter": "python",
   "pygments_lexer": "ipython3",
   "version": "3.9.16"
  }
 },
 "nbformat": 4,
 "nbformat_minor": 5
}
