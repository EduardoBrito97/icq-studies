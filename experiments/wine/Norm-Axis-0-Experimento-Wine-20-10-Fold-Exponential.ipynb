{
 "cells": [
  {
   "cell_type": "code",
   "execution_count": 1,
   "id": "0db239e0",
   "metadata": {},
   "outputs": [
    {
     "name": "stderr",
     "output_type": "stream",
     "text": [
      "Intel(R) Extension for Scikit-learn* enabled (https://github.com/intel/scikit-learn-intelex)\n"
     ]
    }
   ],
   "source": [
    "import sys, os\n",
    "sys.path.append(os.path.abspath('../../classifiers'))\n",
    "sys.path.append(os.path.abspath('../../training'))\n",
    "sys.path.append(os.path.abspath('../../validation'))\n",
    "from validation_functions import execute_training_test_k_fold\n",
    "from classifiers_ICQ import iqc_classifier\n",
    "\n",
    "from sklearn.multiclass import OneVsRestClassifier\n",
    "import numpy as np\n",
    "from sklearn import datasets\n",
    "\n",
    "wine = datasets.load_wine()\n",
    "\n",
    "X = wine.data[:, [0,1,2,3,4,5,6,7,8,9,10,11,12]]\n",
    "y = wine.target\n",
    "\n",
    "X = np.c_[X, np.ones((178,3))] #padding = 16 attributes"
   ]
  },
  {
   "cell_type": "code",
   "execution_count": 2,
   "id": "1ad66125",
   "metadata": {},
   "outputs": [],
   "source": [
    "classifier_function = iqc_classifier\n",
    "dic_classifier_params = {}\n",
    "dic_classifier_params[\"sigma_q_params\"] = [1,1,1,0]\n",
    "dic_classifier_params[\"use_polar_coordinates_on_sigma_q\"] = False\n",
    "dic_classifier_params[\"load_inputvector_env_state\"] = False\n",
    "dic_classifier_params[\"normalize_axis\"] = 0\n",
    "dic_classifier_params[\"use_exponential_on_input\"] = True\n",
    "\n",
    "dic_training_params = {\"max_iter\": 1000,\n",
    "    \"accuracy_succ\": 0.99,\n",
    "    \"plot_graphs_and_metrics\": False,\n",
    "    \"plot_graphs_in_classifier\": False,\n",
    "    \"random_seed\": 1,\n",
    "    \"learning_rate\": 0.009,\n",
    "    \"refit_db\":True,\n",
    "    \"reset_weights_epoch\":0,\n",
    "    \"do_classes_refit\":True,\n",
    "    \"batch\":False}\n",
    "\n",
    "n_times_kfold = 20\n",
    "k_times_fold = 10"
   ]
  },
  {
   "cell_type": "code",
   "execution_count": 3,
   "id": "8522d868",
   "metadata": {},
   "outputs": [
    {
     "name": "stderr",
     "output_type": "stream",
     "text": [
      "[Parallel(n_jobs=-1)]: Using backend LokyBackend with 12 concurrent workers.\n",
      "[Parallel(n_jobs=-1)]: Done   3 out of   3 | elapsed:  2.6min finished\n"
     ]
    },
    {
     "name": "stdout",
     "output_type": "stream",
     "text": [
      "K-Fold #0\n",
      "Mean negativities for all classes: [0.3943021959560993, 0.39497965429557946, 0.3922257233450998]\n",
      "Mean entropies for all classes: [7.89974566677e-15, 7.199348873801958e-15, 7.469691206895489e-15]\n",
      "              precision    recall  f1-score   support\n",
      "\n",
      "           0       0.46      1.00      0.63         6\n",
      "           1       0.75      0.43      0.55         7\n",
      "           2       0.00      0.00      0.00         5\n",
      "\n",
      "    accuracy                           0.50        18\n",
      "   macro avg       0.40      0.48      0.39        18\n",
      "weighted avg       0.45      0.50      0.42        18\n",
      "\n",
      "-------------------------------------------------------------------------------------------------------------------\n"
     ]
    },
    {
     "name": "stderr",
     "output_type": "stream",
     "text": [
      "[Parallel(n_jobs=-1)]: Using backend LokyBackend with 12 concurrent workers.\n",
      "[Parallel(n_jobs=-1)]: Done   3 out of   3 | elapsed:  2.6min finished\n"
     ]
    },
    {
     "name": "stdout",
     "output_type": "stream",
     "text": [
      "K-Fold #1\n",
      "Mean negativities for all classes: [0.3951601031435526, 0.3963448050729238, 0.39447871123341277]\n",
      "Mean entropies for all classes: [6.783443342718397e-15, 7.343510832681547e-15, 7.907333459622008e-15]\n",
      "              precision    recall  f1-score   support\n",
      "\n",
      "           0       0.50      0.83      0.62         6\n",
      "           1       0.33      0.14      0.20         7\n",
      "           2       0.40      0.40      0.40         5\n",
      "\n",
      "    accuracy                           0.44        18\n",
      "   macro avg       0.41      0.46      0.41        18\n",
      "weighted avg       0.41      0.44      0.40        18\n",
      "\n",
      "-------------------------------------------------------------------------------------------------------------------\n"
     ]
    },
    {
     "name": "stderr",
     "output_type": "stream",
     "text": [
      "[Parallel(n_jobs=-1)]: Using backend LokyBackend with 12 concurrent workers.\n",
      "[Parallel(n_jobs=-1)]: Done   3 out of   3 | elapsed:  2.5min finished\n"
     ]
    },
    {
     "name": "stdout",
     "output_type": "stream",
     "text": [
      "K-Fold #2\n",
      "Mean negativities for all classes: [0.39413459157343944, 0.3943868437989123, 0.3775206594632366]\n",
      "Mean entropies for all classes: [8.194318720535775e-15, 6.730771049289819e-15, 6.599792987409255e-15]\n",
      "              precision    recall  f1-score   support\n",
      "\n",
      "           0       0.45      0.83      0.59         6\n",
      "           1       0.17      0.14      0.15         7\n",
      "           2       1.00      0.20      0.33         5\n",
      "\n",
      "    accuracy                           0.39        18\n",
      "   macro avg       0.54      0.39      0.36        18\n",
      "weighted avg       0.49      0.39      0.35        18\n",
      "\n",
      "-------------------------------------------------------------------------------------------------------------------\n"
     ]
    },
    {
     "name": "stderr",
     "output_type": "stream",
     "text": [
      "[Parallel(n_jobs=-1)]: Using backend LokyBackend with 12 concurrent workers.\n",
      "[Parallel(n_jobs=-1)]: Done   3 out of   3 | elapsed:  2.5min finished\n"
     ]
    },
    {
     "name": "stdout",
     "output_type": "stream",
     "text": [
      "K-Fold #3\n",
      "Mean negativities for all classes: [0.3921979826718515, 0.39126060937365326, 0.3762182057202301]\n",
      "Mean entropies for all classes: [6.380506510261799e-15, 5.962365647219275e-15, 6.358796225126283e-15]\n",
      "              precision    recall  f1-score   support\n",
      "\n",
      "           0       0.36      0.83      0.50         6\n",
      "           1       0.75      0.43      0.55         7\n",
      "           2       0.00      0.00      0.00         5\n",
      "\n",
      "    accuracy                           0.44        18\n",
      "   macro avg       0.37      0.42      0.35        18\n",
      "weighted avg       0.41      0.44      0.38        18\n",
      "\n",
      "-------------------------------------------------------------------------------------------------------------------\n"
     ]
    },
    {
     "name": "stderr",
     "output_type": "stream",
     "text": [
      "c:\\ProgramData\\Anaconda3\\lib\\site-packages\\sklearn\\metrics\\_classification.py:1344: UndefinedMetricWarning: Precision and F-score are ill-defined and being set to 0.0 in labels with no predicted samples. Use `zero_division` parameter to control this behavior.\n",
      "  _warn_prf(average, modifier, msg_start, len(result))\n",
      "c:\\ProgramData\\Anaconda3\\lib\\site-packages\\sklearn\\metrics\\_classification.py:1344: UndefinedMetricWarning: Precision and F-score are ill-defined and being set to 0.0 in labels with no predicted samples. Use `zero_division` parameter to control this behavior.\n",
      "  _warn_prf(average, modifier, msg_start, len(result))\n",
      "c:\\ProgramData\\Anaconda3\\lib\\site-packages\\sklearn\\metrics\\_classification.py:1344: UndefinedMetricWarning: Precision and F-score are ill-defined and being set to 0.0 in labels with no predicted samples. Use `zero_division` parameter to control this behavior.\n",
      "  _warn_prf(average, modifier, msg_start, len(result))\n",
      "[Parallel(n_jobs=-1)]: Using backend LokyBackend with 12 concurrent workers.\n",
      "[Parallel(n_jobs=-1)]: Done   3 out of   3 | elapsed:  2.5min finished\n"
     ]
    },
    {
     "name": "stdout",
     "output_type": "stream",
     "text": [
      "K-Fold #4\n",
      "Mean negativities for all classes: [0.3982554540659578, 0.39220880250811985, 0.39874909228761857]\n",
      "Mean entropies for all classes: [6.996279541591812e-15, 6.897362530698489e-15, 7.569611799533315e-15]\n",
      "              precision    recall  f1-score   support\n",
      "\n",
      "           0       0.50      0.33      0.40         6\n",
      "           1       0.00      0.00      0.00         7\n",
      "           2       0.31      0.80      0.44         5\n",
      "\n",
      "    accuracy                           0.33        18\n",
      "   macro avg       0.27      0.38      0.28        18\n",
      "weighted avg       0.25      0.33      0.26        18\n",
      "\n",
      "-------------------------------------------------------------------------------------------------------------------\n"
     ]
    },
    {
     "name": "stderr",
     "output_type": "stream",
     "text": [
      "[Parallel(n_jobs=-1)]: Using backend LokyBackend with 12 concurrent workers.\n",
      "[Parallel(n_jobs=-1)]: Done   3 out of   3 | elapsed:  2.5min finished\n"
     ]
    },
    {
     "name": "stdout",
     "output_type": "stream",
     "text": [
      "K-Fold #5\n",
      "Mean negativities for all classes: [0.39691361232493383, 0.39330159536879666, 0.39488819296423494]\n",
      "Mean entropies for all classes: [6.854209940909319e-15, 6.593504402645411e-15, 6.1327214975168604e-15]\n",
      "              precision    recall  f1-score   support\n",
      "\n",
      "           0       0.43      0.50      0.46         6\n",
      "           1       0.50      0.14      0.22         7\n",
      "           2       0.33      0.60      0.43         5\n",
      "\n",
      "    accuracy                           0.39        18\n",
      "   macro avg       0.42      0.41      0.37        18\n",
      "weighted avg       0.43      0.39      0.36        18\n",
      "\n",
      "-------------------------------------------------------------------------------------------------------------------\n"
     ]
    },
    {
     "name": "stderr",
     "output_type": "stream",
     "text": [
      "[Parallel(n_jobs=-1)]: Using backend LokyBackend with 12 concurrent workers.\n",
      "[Parallel(n_jobs=-1)]: Done   3 out of   3 | elapsed:  2.5min finished\n"
     ]
    },
    {
     "name": "stdout",
     "output_type": "stream",
     "text": [
      "K-Fold #6\n",
      "Mean negativities for all classes: [0.391659483340074, 0.3920733393976571, 0.3933251606378285]\n",
      "Mean entropies for all classes: [7.873249281899474e-15, 5.867777039913846e-15, 7.877516420583171e-15]\n",
      "              precision    recall  f1-score   support\n",
      "\n",
      "           0       0.25      0.17      0.20         6\n",
      "           1       0.67      0.57      0.62         7\n",
      "           2       0.38      0.60      0.46         5\n",
      "\n",
      "    accuracy                           0.44        18\n",
      "   macro avg       0.43      0.45      0.43        18\n",
      "weighted avg       0.45      0.44      0.43        18\n",
      "\n",
      "-------------------------------------------------------------------------------------------------------------------\n"
     ]
    },
    {
     "name": "stderr",
     "output_type": "stream",
     "text": [
      "[Parallel(n_jobs=-1)]: Using backend LokyBackend with 12 concurrent workers.\n",
      "[Parallel(n_jobs=-1)]: Done   3 out of   3 | elapsed:  2.6min finished\n"
     ]
    },
    {
     "name": "stdout",
     "output_type": "stream",
     "text": [
      "K-Fold #7\n",
      "Mean negativities for all classes: [0.3946943484240154, 0.3946070521036292, 0.3938952725825052]\n",
      "Mean entropies for all classes: [7.556090428588087e-15, 7.396459061318269e-15, 5.479978707303889e-15]\n",
      "              precision    recall  f1-score   support\n",
      "\n",
      "           0       0.11      0.17      0.13         6\n",
      "           1       0.25      0.14      0.18         7\n",
      "           2       0.20      0.20      0.20         5\n",
      "\n",
      "    accuracy                           0.17        18\n",
      "   macro avg       0.19      0.17      0.17        18\n",
      "weighted avg       0.19      0.17      0.17        18\n",
      "\n",
      "-------------------------------------------------------------------------------------------------------------------\n"
     ]
    },
    {
     "name": "stderr",
     "output_type": "stream",
     "text": [
      "[Parallel(n_jobs=-1)]: Using backend LokyBackend with 12 concurrent workers.\n",
      "[Parallel(n_jobs=-1)]: Done   3 out of   3 | elapsed:  2.5min finished\n"
     ]
    },
    {
     "name": "stdout",
     "output_type": "stream",
     "text": [
      "K-Fold #8\n",
      "Mean negativities for all classes: [0.3974894095687727, 0.3905727990862981, 0.39384555583202285]\n",
      "Mean entropies for all classes: [1.1529185673992987e-14, 6.937188024230847e-15, 5.695917919293652e-15]\n",
      "              precision    recall  f1-score   support\n",
      "\n",
      "           0       0.33      0.17      0.22         6\n",
      "           1       0.00      0.00      0.00         7\n",
      "           2       0.29      1.00      0.44         4\n",
      "\n",
      "    accuracy                           0.29        17\n",
      "   macro avg       0.21      0.39      0.22        17\n",
      "weighted avg       0.18      0.29      0.18        17\n",
      "\n",
      "-------------------------------------------------------------------------------------------------------------------\n"
     ]
    },
    {
     "name": "stderr",
     "output_type": "stream",
     "text": [
      "c:\\ProgramData\\Anaconda3\\lib\\site-packages\\sklearn\\metrics\\_classification.py:1344: UndefinedMetricWarning: Precision and F-score are ill-defined and being set to 0.0 in labels with no predicted samples. Use `zero_division` parameter to control this behavior.\n",
      "  _warn_prf(average, modifier, msg_start, len(result))\n",
      "c:\\ProgramData\\Anaconda3\\lib\\site-packages\\sklearn\\metrics\\_classification.py:1344: UndefinedMetricWarning: Precision and F-score are ill-defined and being set to 0.0 in labels with no predicted samples. Use `zero_division` parameter to control this behavior.\n",
      "  _warn_prf(average, modifier, msg_start, len(result))\n",
      "c:\\ProgramData\\Anaconda3\\lib\\site-packages\\sklearn\\metrics\\_classification.py:1344: UndefinedMetricWarning: Precision and F-score are ill-defined and being set to 0.0 in labels with no predicted samples. Use `zero_division` parameter to control this behavior.\n",
      "  _warn_prf(average, modifier, msg_start, len(result))\n",
      "[Parallel(n_jobs=-1)]: Using backend LokyBackend with 12 concurrent workers.\n",
      "[Parallel(n_jobs=-1)]: Done   3 out of   3 | elapsed:  2.5min finished\n"
     ]
    },
    {
     "name": "stdout",
     "output_type": "stream",
     "text": [
      "K-Fold #9\n",
      "Mean negativities for all classes: [0.3971818014913443, 0.39792742026931677, 0.39848634823734036]\n",
      "Mean entropies for all classes: [7.41437312786318e-15, 5.732685768446725e-15, 6.602438717962752e-15]\n",
      "              precision    recall  f1-score   support\n",
      "\n",
      "           0       0.30      0.60      0.40         5\n",
      "           1       1.00      0.12      0.22         8\n",
      "           2       0.00      0.00      0.00         4\n",
      "\n",
      "    accuracy                           0.24        17\n",
      "   macro avg       0.43      0.24      0.21        17\n",
      "weighted avg       0.56      0.24      0.22        17\n",
      "\n",
      "-------------------------------------------------------------------------------------------------------------------\n",
      "AVG: Scores = 0.3640522875816993 F1-Scores = 0.3186880952438228 Negativity = [0.3938358578655929, 0.39532787314996304, 0.3886806982785294] Entropy = [7.522928582489148e-15, 7.344762545007318e-15, 7.174960919078283e-15]\n"
     ]
    },
    {
     "name": "stderr",
     "output_type": "stream",
     "text": [
      "[Parallel(n_jobs=-1)]: Using backend LokyBackend with 12 concurrent workers.\n",
      "[Parallel(n_jobs=-1)]: Done   3 out of   3 | elapsed:  2.5min finished\n"
     ]
    },
    {
     "name": "stdout",
     "output_type": "stream",
     "text": [
      "K-Fold #0\n",
      "Mean negativities for all classes: [0.3945462026898955, 0.39701880782229737, 0.3854952626730109]\n",
      "Mean entropies for all classes: [5.083577874255854e-15, 5.373436824054926e-15, 7.007807744708181e-15]\n",
      "              precision    recall  f1-score   support\n",
      "\n",
      "           0       0.14      0.17      0.15         6\n",
      "           1       0.67      0.29      0.40         7\n",
      "           2       0.00      0.00      0.00         5\n",
      "\n",
      "    accuracy                           0.17        18\n",
      "   macro avg       0.27      0.15      0.18        18\n",
      "weighted avg       0.31      0.17      0.21        18\n",
      "\n",
      "-------------------------------------------------------------------------------------------------------------------\n"
     ]
    },
    {
     "name": "stderr",
     "output_type": "stream",
     "text": [
      "[Parallel(n_jobs=-1)]: Using backend LokyBackend with 12 concurrent workers.\n",
      "[Parallel(n_jobs=-1)]: Done   3 out of   3 | elapsed:  2.5min finished\n"
     ]
    },
    {
     "name": "stdout",
     "output_type": "stream",
     "text": [
      "K-Fold #1\n",
      "Mean negativities for all classes: [0.39116877486656176, 0.38488291407376085, 0.37393371861368846]\n",
      "Mean entropies for all classes: [8.578961705971946e-15, 6.770927382367664e-15, 6.155113577311521e-15]\n",
      "              precision    recall  f1-score   support\n",
      "\n",
      "           0       0.42      0.83      0.56         6\n",
      "           1       0.50      0.43      0.46         7\n",
      "           2       0.00      0.00      0.00         5\n",
      "\n",
      "    accuracy                           0.44        18\n",
      "   macro avg       0.31      0.42      0.34        18\n",
      "weighted avg       0.33      0.44      0.36        18\n",
      "\n",
      "-------------------------------------------------------------------------------------------------------------------\n"
     ]
    },
    {
     "name": "stderr",
     "output_type": "stream",
     "text": [
      "c:\\ProgramData\\Anaconda3\\lib\\site-packages\\sklearn\\metrics\\_classification.py:1344: UndefinedMetricWarning: Precision and F-score are ill-defined and being set to 0.0 in labels with no predicted samples. Use `zero_division` parameter to control this behavior.\n",
      "  _warn_prf(average, modifier, msg_start, len(result))\n",
      "c:\\ProgramData\\Anaconda3\\lib\\site-packages\\sklearn\\metrics\\_classification.py:1344: UndefinedMetricWarning: Precision and F-score are ill-defined and being set to 0.0 in labels with no predicted samples. Use `zero_division` parameter to control this behavior.\n",
      "  _warn_prf(average, modifier, msg_start, len(result))\n",
      "c:\\ProgramData\\Anaconda3\\lib\\site-packages\\sklearn\\metrics\\_classification.py:1344: UndefinedMetricWarning: Precision and F-score are ill-defined and being set to 0.0 in labels with no predicted samples. Use `zero_division` parameter to control this behavior.\n",
      "  _warn_prf(average, modifier, msg_start, len(result))\n",
      "[Parallel(n_jobs=-1)]: Using backend LokyBackend with 12 concurrent workers.\n",
      "[Parallel(n_jobs=-1)]: Done   3 out of   3 | elapsed:  2.5min finished\n"
     ]
    },
    {
     "name": "stdout",
     "output_type": "stream",
     "text": [
      "K-Fold #2\n",
      "Mean negativities for all classes: [0.39163081898164365, 0.40205162853851667, 0.39383599581612233]\n",
      "Mean entropies for all classes: [6.103392298140901e-15, 6.170866689346951e-15, 1.0987677171868481e-14]\n",
      "              precision    recall  f1-score   support\n",
      "\n",
      "           0       0.36      0.67      0.47         6\n",
      "           1       0.67      0.29      0.40         7\n",
      "           2       0.25      0.20      0.22         5\n",
      "\n",
      "    accuracy                           0.39        18\n",
      "   macro avg       0.43      0.38      0.36        18\n",
      "weighted avg       0.45      0.39      0.37        18\n",
      "\n",
      "-------------------------------------------------------------------------------------------------------------------\n"
     ]
    },
    {
     "name": "stderr",
     "output_type": "stream",
     "text": [
      "[Parallel(n_jobs=-1)]: Using backend LokyBackend with 12 concurrent workers.\n",
      "[Parallel(n_jobs=-1)]: Done   3 out of   3 | elapsed:  2.5min finished\n"
     ]
    },
    {
     "name": "stdout",
     "output_type": "stream",
     "text": [
      "K-Fold #3\n",
      "Mean negativities for all classes: [0.39867428761324986, 0.3903689280210232, 0.39910724105860074]\n",
      "Mean entropies for all classes: [5.0666176187384054e-15, 6.156517646597839e-15, 6.826306183442132e-15]\n",
      "              precision    recall  f1-score   support\n",
      "\n",
      "           0       0.38      1.00      0.55         6\n",
      "           1       0.00      0.00      0.00         7\n",
      "           2       1.00      0.20      0.33         5\n",
      "\n",
      "    accuracy                           0.39        18\n",
      "   macro avg       0.46      0.40      0.29        18\n",
      "weighted avg       0.40      0.39      0.27        18\n",
      "\n",
      "-------------------------------------------------------------------------------------------------------------------\n"
     ]
    },
    {
     "name": "stderr",
     "output_type": "stream",
     "text": [
      "[Parallel(n_jobs=-1)]: Using backend LokyBackend with 12 concurrent workers.\n",
      "[Parallel(n_jobs=-1)]: Done   3 out of   3 | elapsed:  2.5min finished\n"
     ]
    },
    {
     "name": "stdout",
     "output_type": "stream",
     "text": [
      "K-Fold #4\n",
      "Mean negativities for all classes: [0.39161457164070207, 0.39615038466125985, 0.3933231696327189]\n",
      "Mean entropies for all classes: [7.616041644351686e-15, 6.2186726125100466e-15, 6.639954959784288e-15]\n",
      "              precision    recall  f1-score   support\n",
      "\n",
      "           0       0.18      0.33      0.24         6\n",
      "           1       0.33      0.29      0.31         7\n",
      "           2       1.00      0.20      0.33         5\n",
      "\n",
      "    accuracy                           0.28        18\n",
      "   macro avg       0.51      0.27      0.29        18\n",
      "weighted avg       0.47      0.28      0.29        18\n",
      "\n",
      "-------------------------------------------------------------------------------------------------------------------\n"
     ]
    },
    {
     "name": "stderr",
     "output_type": "stream",
     "text": [
      "[Parallel(n_jobs=-1)]: Using backend LokyBackend with 12 concurrent workers.\n",
      "[Parallel(n_jobs=-1)]: Done   3 out of   3 | elapsed:  2.5min finished\n"
     ]
    },
    {
     "name": "stdout",
     "output_type": "stream",
     "text": [
      "K-Fold #5\n",
      "Mean negativities for all classes: [0.3860073909489837, 0.39515404584458474, 0.3854965131780534]\n",
      "Mean entropies for all classes: [5.858074827245848e-15, 7.298911172774017e-15, 6.107741882662634e-15]\n",
      "              precision    recall  f1-score   support\n",
      "\n",
      "           0       0.35      1.00      0.52         6\n",
      "           1       1.00      0.14      0.25         7\n",
      "           2       0.00      0.00      0.00         5\n",
      "\n",
      "    accuracy                           0.39        18\n",
      "   macro avg       0.45      0.38      0.26        18\n",
      "weighted avg       0.51      0.39      0.27        18\n",
      "\n",
      "-------------------------------------------------------------------------------------------------------------------\n"
     ]
    },
    {
     "name": "stderr",
     "output_type": "stream",
     "text": [
      "c:\\ProgramData\\Anaconda3\\lib\\site-packages\\sklearn\\metrics\\_classification.py:1344: UndefinedMetricWarning: Precision and F-score are ill-defined and being set to 0.0 in labels with no predicted samples. Use `zero_division` parameter to control this behavior.\n",
      "  _warn_prf(average, modifier, msg_start, len(result))\n",
      "c:\\ProgramData\\Anaconda3\\lib\\site-packages\\sklearn\\metrics\\_classification.py:1344: UndefinedMetricWarning: Precision and F-score are ill-defined and being set to 0.0 in labels with no predicted samples. Use `zero_division` parameter to control this behavior.\n",
      "  _warn_prf(average, modifier, msg_start, len(result))\n",
      "c:\\ProgramData\\Anaconda3\\lib\\site-packages\\sklearn\\metrics\\_classification.py:1344: UndefinedMetricWarning: Precision and F-score are ill-defined and being set to 0.0 in labels with no predicted samples. Use `zero_division` parameter to control this behavior.\n",
      "  _warn_prf(average, modifier, msg_start, len(result))\n",
      "[Parallel(n_jobs=-1)]: Using backend LokyBackend with 12 concurrent workers.\n",
      "[Parallel(n_jobs=-1)]: Done   3 out of   3 | elapsed:  2.5min finished\n"
     ]
    },
    {
     "name": "stdout",
     "output_type": "stream",
     "text": [
      "K-Fold #6\n",
      "Mean negativities for all classes: [0.3929223020807895, 0.3962645512190277, 0.3834558084192645]\n",
      "Mean entropies for all classes: [8.918287785883445e-15, 7.239606078848226e-15, 6.871824398969318e-15]\n",
      "              precision    recall  f1-score   support\n",
      "\n",
      "           0       0.30      0.50      0.37         6\n",
      "           1       0.43      0.43      0.43         7\n",
      "           2       0.00      0.00      0.00         5\n",
      "\n",
      "    accuracy                           0.33        18\n",
      "   macro avg       0.24      0.31      0.27        18\n",
      "weighted avg       0.27      0.33      0.29        18\n",
      "\n",
      "-------------------------------------------------------------------------------------------------------------------\n"
     ]
    },
    {
     "name": "stderr",
     "output_type": "stream",
     "text": [
      "[Parallel(n_jobs=-1)]: Using backend LokyBackend with 12 concurrent workers.\n",
      "[Parallel(n_jobs=-1)]: Done   3 out of   3 | elapsed:  2.5min finished\n"
     ]
    },
    {
     "name": "stdout",
     "output_type": "stream",
     "text": [
      "K-Fold #7\n",
      "Mean negativities for all classes: [0.39976289290810774, 0.3947329430582856, 0.3916138693467954]\n",
      "Mean entropies for all classes: [8.067966340579697e-15, 4.6548275651477525e-15, 6.587543082762017e-15]\n",
      "              precision    recall  f1-score   support\n",
      "\n",
      "           0       0.40      0.67      0.50         6\n",
      "           1       0.25      0.14      0.18         7\n",
      "           2       0.00      0.00      0.00         5\n",
      "\n",
      "    accuracy                           0.28        18\n",
      "   macro avg       0.22      0.27      0.23        18\n",
      "weighted avg       0.23      0.28      0.24        18\n",
      "\n",
      "-------------------------------------------------------------------------------------------------------------------\n"
     ]
    },
    {
     "name": "stderr",
     "output_type": "stream",
     "text": [
      "[Parallel(n_jobs=-1)]: Using backend LokyBackend with 12 concurrent workers.\n",
      "[Parallel(n_jobs=-1)]: Done   3 out of   3 | elapsed:  2.5min finished\n"
     ]
    },
    {
     "name": "stdout",
     "output_type": "stream",
     "text": [
      "K-Fold #8\n",
      "Mean negativities for all classes: [0.3926683254581983, 0.3951949117252786, 0.3751022123281589]\n",
      "Mean entropies for all classes: [6.233237249720172e-15, 6.614857884965386e-15, 6.134422986683272e-15]\n",
      "              precision    recall  f1-score   support\n",
      "\n",
      "           0       0.25      0.33      0.29         6\n",
      "           1       0.44      0.57      0.50         7\n",
      "           2       0.00      0.00      0.00         4\n",
      "\n",
      "    accuracy                           0.35        17\n",
      "   macro avg       0.23      0.30      0.26        17\n",
      "weighted avg       0.27      0.35      0.31        17\n",
      "\n",
      "-------------------------------------------------------------------------------------------------------------------\n"
     ]
    },
    {
     "name": "stderr",
     "output_type": "stream",
     "text": [
      "c:\\ProgramData\\Anaconda3\\lib\\site-packages\\sklearn\\metrics\\_classification.py:1344: UndefinedMetricWarning: Precision and F-score are ill-defined and being set to 0.0 in labels with no predicted samples. Use `zero_division` parameter to control this behavior.\n",
      "  _warn_prf(average, modifier, msg_start, len(result))\n",
      "c:\\ProgramData\\Anaconda3\\lib\\site-packages\\sklearn\\metrics\\_classification.py:1344: UndefinedMetricWarning: Precision and F-score are ill-defined and being set to 0.0 in labels with no predicted samples. Use `zero_division` parameter to control this behavior.\n",
      "  _warn_prf(average, modifier, msg_start, len(result))\n",
      "c:\\ProgramData\\Anaconda3\\lib\\site-packages\\sklearn\\metrics\\_classification.py:1344: UndefinedMetricWarning: Precision and F-score are ill-defined and being set to 0.0 in labels with no predicted samples. Use `zero_division` parameter to control this behavior.\n",
      "  _warn_prf(average, modifier, msg_start, len(result))\n",
      "[Parallel(n_jobs=-1)]: Using backend LokyBackend with 12 concurrent workers.\n",
      "[Parallel(n_jobs=-1)]: Done   3 out of   3 | elapsed:  2.5min finished\n"
     ]
    },
    {
     "name": "stdout",
     "output_type": "stream",
     "text": [
      "K-Fold #9\n",
      "Mean negativities for all classes: [0.38763806263878386, 0.39542845918490466, 0.3909382106651659]\n",
      "Mean entropies for all classes: [6.6592011552759865e-15, 7.204086947870364e-15, 6.7304849156769606e-15]\n",
      "              precision    recall  f1-score   support\n",
      "\n",
      "           0       0.10      0.20      0.13         5\n",
      "           1       0.25      0.12      0.17         8\n",
      "           2       0.00      0.00      0.00         4\n",
      "\n",
      "    accuracy                           0.12        17\n",
      "   macro avg       0.12      0.11      0.10        17\n",
      "weighted avg       0.15      0.12      0.12        17\n",
      "\n",
      "-------------------------------------------------------------------------------------------------------------------\n",
      "AVG: Scores = 0.3137254901960785 F1-Scores = 0.2587233764151923 Negativity = [0.39235342439506793, 0.38332846918467034, 0.3958394811120942] Entropy = [5.821607481006321e-15, 7.16833422188371e-15, 7.753978719785444e-15]\n"
     ]
    },
    {
     "name": "stderr",
     "output_type": "stream",
     "text": [
      "[Parallel(n_jobs=-1)]: Using backend LokyBackend with 12 concurrent workers.\n",
      "[Parallel(n_jobs=-1)]: Done   3 out of   3 | elapsed:  2.5min finished\n"
     ]
    },
    {
     "name": "stdout",
     "output_type": "stream",
     "text": [
      "K-Fold #0\n",
      "Mean negativities for all classes: [0.3928556474442467, 0.3872231486307219, 0.38445771342563995]\n",
      "Mean entropies for all classes: [7.784649582350444e-15, 7.310796164365808e-15, 6.619880381570856e-15]\n",
      "              precision    recall  f1-score   support\n",
      "\n",
      "           0       0.36      0.83      0.50         6\n",
      "           1       0.50      0.29      0.36         7\n",
      "           2       0.00      0.00      0.00         5\n",
      "\n",
      "    accuracy                           0.39        18\n",
      "   macro avg       0.29      0.37      0.29        18\n",
      "weighted avg       0.31      0.39      0.31        18\n",
      "\n",
      "-------------------------------------------------------------------------------------------------------------------\n"
     ]
    },
    {
     "name": "stderr",
     "output_type": "stream",
     "text": [
      "c:\\ProgramData\\Anaconda3\\lib\\site-packages\\sklearn\\metrics\\_classification.py:1344: UndefinedMetricWarning: Precision and F-score are ill-defined and being set to 0.0 in labels with no predicted samples. Use `zero_division` parameter to control this behavior.\n",
      "  _warn_prf(average, modifier, msg_start, len(result))\n",
      "c:\\ProgramData\\Anaconda3\\lib\\site-packages\\sklearn\\metrics\\_classification.py:1344: UndefinedMetricWarning: Precision and F-score are ill-defined and being set to 0.0 in labels with no predicted samples. Use `zero_division` parameter to control this behavior.\n",
      "  _warn_prf(average, modifier, msg_start, len(result))\n",
      "c:\\ProgramData\\Anaconda3\\lib\\site-packages\\sklearn\\metrics\\_classification.py:1344: UndefinedMetricWarning: Precision and F-score are ill-defined and being set to 0.0 in labels with no predicted samples. Use `zero_division` parameter to control this behavior.\n",
      "  _warn_prf(average, modifier, msg_start, len(result))\n",
      "[Parallel(n_jobs=-1)]: Using backend LokyBackend with 12 concurrent workers.\n",
      "[Parallel(n_jobs=-1)]: Done   3 out of   3 | elapsed:  2.5min finished\n"
     ]
    },
    {
     "name": "stdout",
     "output_type": "stream",
     "text": [
      "K-Fold #1\n",
      "Mean negativities for all classes: [0.3952275634465164, 0.3920045519779347, 0.3915906233861747]\n",
      "Mean entropies for all classes: [8.642155714823149e-15, 5.7513340408953236e-15, 6.185479879746166e-15]\n",
      "              precision    recall  f1-score   support\n",
      "\n",
      "           0       0.38      1.00      0.55         6\n",
      "           1       0.00      0.00      0.00         7\n",
      "           2       1.00      0.20      0.33         5\n",
      "\n",
      "    accuracy                           0.39        18\n",
      "   macro avg       0.46      0.40      0.29        18\n",
      "weighted avg       0.40      0.39      0.27        18\n",
      "\n",
      "-------------------------------------------------------------------------------------------------------------------\n"
     ]
    },
    {
     "name": "stderr",
     "output_type": "stream",
     "text": [
      "[Parallel(n_jobs=-1)]: Using backend LokyBackend with 12 concurrent workers.\n",
      "[Parallel(n_jobs=-1)]: Done   3 out of   3 | elapsed:  2.5min finished\n"
     ]
    },
    {
     "name": "stdout",
     "output_type": "stream",
     "text": [
      "K-Fold #2\n",
      "Mean negativities for all classes: [0.3938810359050658, 0.39483106944569296, 0.38205209241933485]\n",
      "Mean entropies for all classes: [7.930492803220003e-15, 6.085043313323084e-15, 7.608459482412977e-15]\n",
      "              precision    recall  f1-score   support\n",
      "\n",
      "           0       0.00      0.00      0.00         6\n",
      "           1       0.67      0.29      0.40         7\n",
      "           2       0.00      0.00      0.00         5\n",
      "\n",
      "    accuracy                           0.11        18\n",
      "   macro avg       0.22      0.10      0.13        18\n",
      "weighted avg       0.26      0.11      0.16        18\n",
      "\n",
      "-------------------------------------------------------------------------------------------------------------------\n"
     ]
    },
    {
     "name": "stderr",
     "output_type": "stream",
     "text": [
      "[Parallel(n_jobs=-1)]: Using backend LokyBackend with 12 concurrent workers.\n",
      "[Parallel(n_jobs=-1)]: Done   3 out of   3 | elapsed:  2.5min finished\n"
     ]
    },
    {
     "name": "stdout",
     "output_type": "stream",
     "text": [
      "K-Fold #3\n",
      "Mean negativities for all classes: [0.3942790330126995, 0.3924348627690847, 0.392315930225841]\n",
      "Mean entropies for all classes: [7.41842356616146e-15, 6.510783852985639e-15, 6.684738033568548e-15]\n",
      "              precision    recall  f1-score   support\n",
      "\n",
      "           0       0.31      0.83      0.45         6\n",
      "           1       0.50      0.14      0.22         7\n",
      "           2       0.00      0.00      0.00         5\n",
      "\n",
      "    accuracy                           0.33        18\n",
      "   macro avg       0.27      0.33      0.23        18\n",
      "weighted avg       0.30      0.33      0.24        18\n",
      "\n",
      "-------------------------------------------------------------------------------------------------------------------\n"
     ]
    },
    {
     "name": "stderr",
     "output_type": "stream",
     "text": [
      "c:\\ProgramData\\Anaconda3\\lib\\site-packages\\sklearn\\metrics\\_classification.py:1344: UndefinedMetricWarning: Precision and F-score are ill-defined and being set to 0.0 in labels with no predicted samples. Use `zero_division` parameter to control this behavior.\n",
      "  _warn_prf(average, modifier, msg_start, len(result))\n",
      "c:\\ProgramData\\Anaconda3\\lib\\site-packages\\sklearn\\metrics\\_classification.py:1344: UndefinedMetricWarning: Precision and F-score are ill-defined and being set to 0.0 in labels with no predicted samples. Use `zero_division` parameter to control this behavior.\n",
      "  _warn_prf(average, modifier, msg_start, len(result))\n",
      "c:\\ProgramData\\Anaconda3\\lib\\site-packages\\sklearn\\metrics\\_classification.py:1344: UndefinedMetricWarning: Precision and F-score are ill-defined and being set to 0.0 in labels with no predicted samples. Use `zero_division` parameter to control this behavior.\n",
      "  _warn_prf(average, modifier, msg_start, len(result))\n",
      "[Parallel(n_jobs=-1)]: Using backend LokyBackend with 12 concurrent workers.\n",
      "[Parallel(n_jobs=-1)]: Done   3 out of   3 | elapsed:  2.5min finished\n"
     ]
    },
    {
     "name": "stdout",
     "output_type": "stream",
     "text": [
      "K-Fold #4\n",
      "Mean negativities for all classes: [0.3932863844031956, 0.388430918041412, 0.396791857026754]\n",
      "Mean entropies for all classes: [6.422988761474152e-15, 6.653173018790926e-15, 1.2239880527476784e-14]\n",
      "              precision    recall  f1-score   support\n",
      "\n",
      "           0       0.31      0.83      0.45         6\n",
      "           1       0.00      0.00      0.00         7\n",
      "           2       0.00      0.00      0.00         5\n",
      "\n",
      "    accuracy                           0.28        18\n",
      "   macro avg       0.10      0.28      0.15        18\n",
      "weighted avg       0.10      0.28      0.15        18\n",
      "\n",
      "-------------------------------------------------------------------------------------------------------------------\n"
     ]
    },
    {
     "name": "stderr",
     "output_type": "stream",
     "text": [
      "c:\\ProgramData\\Anaconda3\\lib\\site-packages\\sklearn\\metrics\\_classification.py:1344: UndefinedMetricWarning: Precision and F-score are ill-defined and being set to 0.0 in labels with no predicted samples. Use `zero_division` parameter to control this behavior.\n",
      "  _warn_prf(average, modifier, msg_start, len(result))\n",
      "c:\\ProgramData\\Anaconda3\\lib\\site-packages\\sklearn\\metrics\\_classification.py:1344: UndefinedMetricWarning: Precision and F-score are ill-defined and being set to 0.0 in labels with no predicted samples. Use `zero_division` parameter to control this behavior.\n",
      "  _warn_prf(average, modifier, msg_start, len(result))\n",
      "c:\\ProgramData\\Anaconda3\\lib\\site-packages\\sklearn\\metrics\\_classification.py:1344: UndefinedMetricWarning: Precision and F-score are ill-defined and being set to 0.0 in labels with no predicted samples. Use `zero_division` parameter to control this behavior.\n",
      "  _warn_prf(average, modifier, msg_start, len(result))\n",
      "[Parallel(n_jobs=-1)]: Using backend LokyBackend with 12 concurrent workers.\n",
      "[Parallel(n_jobs=-1)]: Done   3 out of   3 | elapsed:  2.5min finished\n"
     ]
    },
    {
     "name": "stdout",
     "output_type": "stream",
     "text": [
      "K-Fold #5\n",
      "Mean negativities for all classes: [0.3967674869269595, 0.3903575204359481, 0.3870628615113566]\n",
      "Mean entropies for all classes: [7.326696350412737e-15, 6.996886626765798e-15, 8.050007895433656e-15]\n",
      "              precision    recall  f1-score   support\n",
      "\n",
      "           0       0.00      0.00      0.00         6\n",
      "           1       0.17      0.14      0.15         7\n",
      "           2       0.00      0.00      0.00         5\n",
      "\n",
      "    accuracy                           0.06        18\n",
      "   macro avg       0.06      0.05      0.05        18\n",
      "weighted avg       0.06      0.06      0.06        18\n",
      "\n",
      "-------------------------------------------------------------------------------------------------------------------\n"
     ]
    },
    {
     "name": "stderr",
     "output_type": "stream",
     "text": [
      "[Parallel(n_jobs=-1)]: Using backend LokyBackend with 12 concurrent workers.\n",
      "[Parallel(n_jobs=-1)]: Done   3 out of   3 | elapsed:  2.5min finished\n"
     ]
    },
    {
     "name": "stdout",
     "output_type": "stream",
     "text": [
      "K-Fold #6\n",
      "Mean negativities for all classes: [0.3900846274842026, 0.39546320315390765, 0.3906261544911187]\n",
      "Mean entropies for all classes: [1.1931689324290213e-14, 6.783659563303473e-15, 7.627359806710267e-15]\n",
      "              precision    recall  f1-score   support\n",
      "\n",
      "           0       0.33      0.33      0.33         6\n",
      "           1       0.00      0.00      0.00         7\n",
      "           2       0.11      0.20      0.14         5\n",
      "\n",
      "    accuracy                           0.17        18\n",
      "   macro avg       0.15      0.18      0.16        18\n",
      "weighted avg       0.14      0.17      0.15        18\n",
      "\n",
      "-------------------------------------------------------------------------------------------------------------------\n"
     ]
    },
    {
     "name": "stderr",
     "output_type": "stream",
     "text": [
      "[Parallel(n_jobs=-1)]: Using backend LokyBackend with 12 concurrent workers.\n",
      "[Parallel(n_jobs=-1)]: Done   3 out of   3 | elapsed:  2.5min finished\n"
     ]
    },
    {
     "name": "stdout",
     "output_type": "stream",
     "text": [
      "K-Fold #7\n",
      "Mean negativities for all classes: [0.38799401171768305, 0.39648147576063913, 0.38991245547461434]\n",
      "Mean entropies for all classes: [6.281418821955475e-15, 6.8143462994670486e-15, 1.0559761419221644e-14]\n",
      "              precision    recall  f1-score   support\n",
      "\n",
      "           0       0.33      0.83      0.48         6\n",
      "           1       0.00      0.00      0.00         7\n",
      "           2       0.50      0.20      0.29         5\n",
      "\n",
      "    accuracy                           0.33        18\n",
      "   macro avg       0.28      0.34      0.25        18\n",
      "weighted avg       0.25      0.33      0.24        18\n",
      "\n",
      "-------------------------------------------------------------------------------------------------------------------\n"
     ]
    },
    {
     "name": "stderr",
     "output_type": "stream",
     "text": [
      "[Parallel(n_jobs=-1)]: Using backend LokyBackend with 12 concurrent workers.\n",
      "[Parallel(n_jobs=-1)]: Done   3 out of   3 | elapsed:  2.5min finished\n"
     ]
    },
    {
     "name": "stdout",
     "output_type": "stream",
     "text": [
      "K-Fold #8\n",
      "Mean negativities for all classes: [0.3855684369872118, 0.3907307685086365, 0.3914974958937299]\n",
      "Mean entropies for all classes: [6.3559910907750605e-15, 8.516403296448793e-15, 6.367875543722953e-15]\n",
      "              precision    recall  f1-score   support\n",
      "\n",
      "           0       0.00      0.00      0.00         6\n",
      "           1       0.00      0.00      0.00         7\n",
      "           2       0.14      0.50      0.22         4\n",
      "\n",
      "    accuracy                           0.12        17\n",
      "   macro avg       0.05      0.17      0.07        17\n",
      "weighted avg       0.03      0.12      0.05        17\n",
      "\n",
      "-------------------------------------------------------------------------------------------------------------------\n"
     ]
    },
    {
     "name": "stderr",
     "output_type": "stream",
     "text": [
      "c:\\ProgramData\\Anaconda3\\lib\\site-packages\\sklearn\\metrics\\_classification.py:1344: UndefinedMetricWarning: Precision and F-score are ill-defined and being set to 0.0 in labels with no predicted samples. Use `zero_division` parameter to control this behavior.\n",
      "  _warn_prf(average, modifier, msg_start, len(result))\n",
      "c:\\ProgramData\\Anaconda3\\lib\\site-packages\\sklearn\\metrics\\_classification.py:1344: UndefinedMetricWarning: Precision and F-score are ill-defined and being set to 0.0 in labels with no predicted samples. Use `zero_division` parameter to control this behavior.\n",
      "  _warn_prf(average, modifier, msg_start, len(result))\n",
      "c:\\ProgramData\\Anaconda3\\lib\\site-packages\\sklearn\\metrics\\_classification.py:1344: UndefinedMetricWarning: Precision and F-score are ill-defined and being set to 0.0 in labels with no predicted samples. Use `zero_division` parameter to control this behavior.\n",
      "  _warn_prf(average, modifier, msg_start, len(result))\n",
      "[Parallel(n_jobs=-1)]: Using backend LokyBackend with 12 concurrent workers.\n",
      "[Parallel(n_jobs=-1)]: Done   3 out of   3 | elapsed:  2.5min finished\n"
     ]
    },
    {
     "name": "stdout",
     "output_type": "stream",
     "text": [
      "K-Fold #9\n",
      "Mean negativities for all classes: [0.3945099681246862, 0.3933873188849407, 0.39589219170099504]\n",
      "Mean entropies for all classes: [8.063091384320927e-15, 5.0105283189793805e-15, 4.571689473706962e-15]\n",
      "              precision    recall  f1-score   support\n",
      "\n",
      "           0       0.33      0.40      0.36         5\n",
      "           1       0.57      0.50      0.53         8\n",
      "           2       0.25      0.25      0.25         4\n",
      "\n",
      "    accuracy                           0.41        17\n",
      "   macro avg       0.38      0.38      0.38        17\n",
      "weighted avg       0.43      0.41      0.42        17\n",
      "\n",
      "-------------------------------------------------------------------------------------------------------------------\n",
      "AVG: Scores = 0.2584967320261438 F1-Scores = 0.20116235616235617 Negativity = [0.38817883650020285, 0.3929409129368753, 0.3902547325900312] Entropy = [7.238442042762369e-15, 6.859656545154879e-15, 7.207998532985355e-15]\n"
     ]
    },
    {
     "name": "stderr",
     "output_type": "stream",
     "text": [
      "[Parallel(n_jobs=-1)]: Using backend LokyBackend with 12 concurrent workers.\n",
      "[Parallel(n_jobs=-1)]: Done   3 out of   3 | elapsed:  2.5min finished\n"
     ]
    },
    {
     "name": "stdout",
     "output_type": "stream",
     "text": [
      "K-Fold #0\n",
      "Mean negativities for all classes: [0.39441325568541785, 0.3932449555530264, 0.39086231137555544]\n",
      "Mean entropies for all classes: [6.50641128493019e-15, 6.6485323958533806e-15, 7.749565010149615e-15]\n",
      "              precision    recall  f1-score   support\n",
      "\n",
      "           0       0.17      0.17      0.17         6\n",
      "           1       0.67      0.29      0.40         7\n",
      "           2       0.11      0.20      0.14         5\n",
      "\n",
      "    accuracy                           0.22        18\n",
      "   macro avg       0.31      0.22      0.24        18\n",
      "weighted avg       0.35      0.22      0.25        18\n",
      "\n",
      "-------------------------------------------------------------------------------------------------------------------\n"
     ]
    },
    {
     "name": "stderr",
     "output_type": "stream",
     "text": [
      "[Parallel(n_jobs=-1)]: Using backend LokyBackend with 12 concurrent workers.\n",
      "[Parallel(n_jobs=-1)]: Done   3 out of   3 | elapsed:  2.5min finished\n"
     ]
    },
    {
     "name": "stdout",
     "output_type": "stream",
     "text": [
      "K-Fold #1\n",
      "Mean negativities for all classes: [0.3951691735500006, 0.3921347900549741, 0.3887998686291432]\n",
      "Mean entropies for all classes: [7.497735080710018e-15, 6.308757695150781e-15, 7.039885696306808e-15]\n",
      "              precision    recall  f1-score   support\n",
      "\n",
      "           0       0.29      0.33      0.31         6\n",
      "           1       0.00      0.00      0.00         7\n",
      "           2       0.18      0.40      0.25         5\n",
      "\n",
      "    accuracy                           0.22        18\n",
      "   macro avg       0.16      0.24      0.19        18\n",
      "weighted avg       0.15      0.22      0.17        18\n",
      "\n",
      "-------------------------------------------------------------------------------------------------------------------\n"
     ]
    },
    {
     "name": "stderr",
     "output_type": "stream",
     "text": [
      "c:\\ProgramData\\Anaconda3\\lib\\site-packages\\sklearn\\metrics\\_classification.py:1344: UndefinedMetricWarning: Precision and F-score are ill-defined and being set to 0.0 in labels with no predicted samples. Use `zero_division` parameter to control this behavior.\n",
      "  _warn_prf(average, modifier, msg_start, len(result))\n",
      "c:\\ProgramData\\Anaconda3\\lib\\site-packages\\sklearn\\metrics\\_classification.py:1344: UndefinedMetricWarning: Precision and F-score are ill-defined and being set to 0.0 in labels with no predicted samples. Use `zero_division` parameter to control this behavior.\n",
      "  _warn_prf(average, modifier, msg_start, len(result))\n",
      "c:\\ProgramData\\Anaconda3\\lib\\site-packages\\sklearn\\metrics\\_classification.py:1344: UndefinedMetricWarning: Precision and F-score are ill-defined and being set to 0.0 in labels with no predicted samples. Use `zero_division` parameter to control this behavior.\n",
      "  _warn_prf(average, modifier, msg_start, len(result))\n",
      "[Parallel(n_jobs=-1)]: Using backend LokyBackend with 12 concurrent workers.\n",
      "[Parallel(n_jobs=-1)]: Done   3 out of   3 | elapsed:  2.6min finished\n"
     ]
    },
    {
     "name": "stdout",
     "output_type": "stream",
     "text": [
      "K-Fold #2\n",
      "Mean negativities for all classes: [0.395625001654387, 0.39289042242181776, 0.39911142139232164]\n",
      "Mean entropies for all classes: [6.347615549749586e-15, 6.374399201216683e-15, 7.517328664319393e-15]\n",
      "              precision    recall  f1-score   support\n",
      "\n",
      "           0       0.00      0.00      0.00         6\n",
      "           1       0.45      0.71      0.56         7\n",
      "           2       0.43      0.60      0.50         5\n",
      "\n",
      "    accuracy                           0.44        18\n",
      "   macro avg       0.29      0.44      0.35        18\n",
      "weighted avg       0.30      0.44      0.35        18\n",
      "\n",
      "-------------------------------------------------------------------------------------------------------------------\n"
     ]
    },
    {
     "name": "stderr",
     "output_type": "stream",
     "text": [
      "c:\\ProgramData\\Anaconda3\\lib\\site-packages\\sklearn\\metrics\\_classification.py:1344: UndefinedMetricWarning: Precision and F-score are ill-defined and being set to 0.0 in labels with no predicted samples. Use `zero_division` parameter to control this behavior.\n",
      "  _warn_prf(average, modifier, msg_start, len(result))\n",
      "c:\\ProgramData\\Anaconda3\\lib\\site-packages\\sklearn\\metrics\\_classification.py:1344: UndefinedMetricWarning: Precision and F-score are ill-defined and being set to 0.0 in labels with no predicted samples. Use `zero_division` parameter to control this behavior.\n",
      "  _warn_prf(average, modifier, msg_start, len(result))\n",
      "c:\\ProgramData\\Anaconda3\\lib\\site-packages\\sklearn\\metrics\\_classification.py:1344: UndefinedMetricWarning: Precision and F-score are ill-defined and being set to 0.0 in labels with no predicted samples. Use `zero_division` parameter to control this behavior.\n",
      "  _warn_prf(average, modifier, msg_start, len(result))\n",
      "[Parallel(n_jobs=-1)]: Using backend LokyBackend with 12 concurrent workers.\n",
      "[Parallel(n_jobs=-1)]: Done   3 out of   3 | elapsed:  2.5min finished\n"
     ]
    },
    {
     "name": "stdout",
     "output_type": "stream",
     "text": [
      "K-Fold #3\n",
      "Mean negativities for all classes: [0.3957589323192063, 0.38890352663251904, 0.3909491723851611]\n",
      "Mean entropies for all classes: [6.533474336746987e-15, 6.509250896400589e-15, 7.034335045688863e-15]\n",
      "              precision    recall  f1-score   support\n",
      "\n",
      "           0       0.11      0.17      0.13         6\n",
      "           1       0.00      0.00      0.00         7\n",
      "           2       0.00      0.00      0.00         5\n",
      "\n",
      "    accuracy                           0.06        18\n",
      "   macro avg       0.04      0.06      0.04        18\n",
      "weighted avg       0.04      0.06      0.04        18\n",
      "\n",
      "-------------------------------------------------------------------------------------------------------------------\n"
     ]
    },
    {
     "name": "stderr",
     "output_type": "stream",
     "text": [
      "c:\\ProgramData\\Anaconda3\\lib\\site-packages\\sklearn\\metrics\\_classification.py:1344: UndefinedMetricWarning: Precision and F-score are ill-defined and being set to 0.0 in labels with no predicted samples. Use `zero_division` parameter to control this behavior.\n",
      "  _warn_prf(average, modifier, msg_start, len(result))\n",
      "c:\\ProgramData\\Anaconda3\\lib\\site-packages\\sklearn\\metrics\\_classification.py:1344: UndefinedMetricWarning: Precision and F-score are ill-defined and being set to 0.0 in labels with no predicted samples. Use `zero_division` parameter to control this behavior.\n",
      "  _warn_prf(average, modifier, msg_start, len(result))\n",
      "c:\\ProgramData\\Anaconda3\\lib\\site-packages\\sklearn\\metrics\\_classification.py:1344: UndefinedMetricWarning: Precision and F-score are ill-defined and being set to 0.0 in labels with no predicted samples. Use `zero_division` parameter to control this behavior.\n",
      "  _warn_prf(average, modifier, msg_start, len(result))\n",
      "[Parallel(n_jobs=-1)]: Using backend LokyBackend with 12 concurrent workers.\n",
      "[Parallel(n_jobs=-1)]: Done   3 out of   3 | elapsed:  2.5min finished\n"
     ]
    },
    {
     "name": "stdout",
     "output_type": "stream",
     "text": [
      "K-Fold #4\n",
      "Mean negativities for all classes: [0.3988244138756569, 0.39140491766457797, 0.389810590982911]\n",
      "Mean entropies for all classes: [8.791910459500933e-15, 6.9536233057277366e-15, 7.908181982617644e-15]\n",
      "              precision    recall  f1-score   support\n",
      "\n",
      "           0       0.00      0.00      0.00       6.0\n",
      "           1       0.00      0.00      0.00       7.0\n",
      "           2       0.00      0.00      0.00       5.0\n",
      "\n",
      "    accuracy                           0.00      18.0\n",
      "   macro avg       0.00      0.00      0.00      18.0\n",
      "weighted avg       0.00      0.00      0.00      18.0\n",
      "\n",
      "-------------------------------------------------------------------------------------------------------------------\n"
     ]
    },
    {
     "name": "stderr",
     "output_type": "stream",
     "text": [
      "c:\\ProgramData\\Anaconda3\\lib\\site-packages\\sklearn\\metrics\\_classification.py:1344: UndefinedMetricWarning: Precision and F-score are ill-defined and being set to 0.0 in labels with no predicted samples. Use `zero_division` parameter to control this behavior.\n",
      "  _warn_prf(average, modifier, msg_start, len(result))\n",
      "c:\\ProgramData\\Anaconda3\\lib\\site-packages\\sklearn\\metrics\\_classification.py:1344: UndefinedMetricWarning: Precision and F-score are ill-defined and being set to 0.0 in labels with no predicted samples. Use `zero_division` parameter to control this behavior.\n",
      "  _warn_prf(average, modifier, msg_start, len(result))\n",
      "c:\\ProgramData\\Anaconda3\\lib\\site-packages\\sklearn\\metrics\\_classification.py:1344: UndefinedMetricWarning: Precision and F-score are ill-defined and being set to 0.0 in labels with no predicted samples. Use `zero_division` parameter to control this behavior.\n",
      "  _warn_prf(average, modifier, msg_start, len(result))\n",
      "[Parallel(n_jobs=-1)]: Using backend LokyBackend with 12 concurrent workers.\n",
      "[Parallel(n_jobs=-1)]: Done   3 out of   3 | elapsed:  2.5min finished\n"
     ]
    },
    {
     "name": "stdout",
     "output_type": "stream",
     "text": [
      "K-Fold #5\n",
      "Mean negativities for all classes: [0.3921644219281552, 0.3949601487542551, 0.3919231143864453]\n",
      "Mean entropies for all classes: [6.899107315634316e-15, 4.848031409341258e-15, 8.066044080991727e-15]\n",
      "              precision    recall  f1-score   support\n",
      "\n",
      "           0       0.36      0.83      0.50         6\n",
      "           1       0.50      0.14      0.22         7\n",
      "           2       0.00      0.00      0.00         5\n",
      "\n",
      "    accuracy                           0.33        18\n",
      "   macro avg       0.29      0.33      0.24        18\n",
      "weighted avg       0.31      0.33      0.25        18\n",
      "\n",
      "-------------------------------------------------------------------------------------------------------------------\n"
     ]
    },
    {
     "name": "stderr",
     "output_type": "stream",
     "text": [
      "[Parallel(n_jobs=-1)]: Using backend LokyBackend with 12 concurrent workers.\n",
      "[Parallel(n_jobs=-1)]: Done   3 out of   3 | elapsed:  2.5min finished\n"
     ]
    },
    {
     "name": "stdout",
     "output_type": "stream",
     "text": [
      "K-Fold #6\n",
      "Mean negativities for all classes: [0.3969704530651129, 0.3919076993253835, 0.3898241036570844]\n",
      "Mean entropies for all classes: [6.434838409670245e-15, 6.4520013190010225e-15, 6.3944660059664034e-15]\n",
      "              precision    recall  f1-score   support\n",
      "\n",
      "           0       0.31      0.67      0.42         6\n",
      "           1       1.00      0.14      0.25         7\n",
      "           2       0.00      0.00      0.00         5\n",
      "\n",
      "    accuracy                           0.28        18\n",
      "   macro avg       0.44      0.27      0.22        18\n",
      "weighted avg       0.49      0.28      0.24        18\n",
      "\n",
      "-------------------------------------------------------------------------------------------------------------------\n"
     ]
    },
    {
     "name": "stderr",
     "output_type": "stream",
     "text": [
      "[Parallel(n_jobs=-1)]: Using backend LokyBackend with 12 concurrent workers.\n",
      "[Parallel(n_jobs=-1)]: Done   3 out of   3 | elapsed:  2.6min finished\n"
     ]
    },
    {
     "name": "stdout",
     "output_type": "stream",
     "text": [
      "K-Fold #7\n",
      "Mean negativities for all classes: [0.38954730319052705, 0.3898114770049807, 0.3849024939992974]\n",
      "Mean entropies for all classes: [6.625825890884065e-15, 6.386694568421409e-15, 6.360627051378335e-15]\n",
      "              precision    recall  f1-score   support\n",
      "\n",
      "           0       0.46      1.00      0.63         6\n",
      "           1       0.60      0.43      0.50         7\n",
      "           2       0.00      0.00      0.00         5\n",
      "\n",
      "    accuracy                           0.50        18\n",
      "   macro avg       0.35      0.48      0.38        18\n",
      "weighted avg       0.39      0.50      0.40        18\n",
      "\n",
      "-------------------------------------------------------------------------------------------------------------------\n"
     ]
    },
    {
     "name": "stderr",
     "output_type": "stream",
     "text": [
      "c:\\ProgramData\\Anaconda3\\lib\\site-packages\\sklearn\\metrics\\_classification.py:1344: UndefinedMetricWarning: Precision and F-score are ill-defined and being set to 0.0 in labels with no predicted samples. Use `zero_division` parameter to control this behavior.\n",
      "  _warn_prf(average, modifier, msg_start, len(result))\n",
      "c:\\ProgramData\\Anaconda3\\lib\\site-packages\\sklearn\\metrics\\_classification.py:1344: UndefinedMetricWarning: Precision and F-score are ill-defined and being set to 0.0 in labels with no predicted samples. Use `zero_division` parameter to control this behavior.\n",
      "  _warn_prf(average, modifier, msg_start, len(result))\n",
      "c:\\ProgramData\\Anaconda3\\lib\\site-packages\\sklearn\\metrics\\_classification.py:1344: UndefinedMetricWarning: Precision and F-score are ill-defined and being set to 0.0 in labels with no predicted samples. Use `zero_division` parameter to control this behavior.\n",
      "  _warn_prf(average, modifier, msg_start, len(result))\n",
      "[Parallel(n_jobs=-1)]: Using backend LokyBackend with 12 concurrent workers.\n",
      "[Parallel(n_jobs=-1)]: Done   3 out of   3 | elapsed:  2.5min finished\n"
     ]
    },
    {
     "name": "stdout",
     "output_type": "stream",
     "text": [
      "K-Fold #8\n",
      "Mean negativities for all classes: [0.3874150144090874, 0.3924358301220152, 0.384194510335553]\n",
      "Mean entropies for all classes: [8.127120382806359e-15, 6.8178169306131695e-15, 7.699407414325448e-15]\n",
      "              precision    recall  f1-score   support\n",
      "\n",
      "           0       0.31      0.83      0.45         6\n",
      "           1       0.00      0.00      0.00         7\n",
      "           2       0.00      0.00      0.00         4\n",
      "\n",
      "    accuracy                           0.29        17\n",
      "   macro avg       0.10      0.28      0.15        17\n",
      "weighted avg       0.11      0.29      0.16        17\n",
      "\n",
      "-------------------------------------------------------------------------------------------------------------------\n"
     ]
    },
    {
     "name": "stderr",
     "output_type": "stream",
     "text": [
      "c:\\ProgramData\\Anaconda3\\lib\\site-packages\\sklearn\\metrics\\_classification.py:1344: UndefinedMetricWarning: Precision and F-score are ill-defined and being set to 0.0 in labels with no predicted samples. Use `zero_division` parameter to control this behavior.\n",
      "  _warn_prf(average, modifier, msg_start, len(result))\n",
      "c:\\ProgramData\\Anaconda3\\lib\\site-packages\\sklearn\\metrics\\_classification.py:1344: UndefinedMetricWarning: Precision and F-score are ill-defined and being set to 0.0 in labels with no predicted samples. Use `zero_division` parameter to control this behavior.\n",
      "  _warn_prf(average, modifier, msg_start, len(result))\n",
      "c:\\ProgramData\\Anaconda3\\lib\\site-packages\\sklearn\\metrics\\_classification.py:1344: UndefinedMetricWarning: Precision and F-score are ill-defined and being set to 0.0 in labels with no predicted samples. Use `zero_division` parameter to control this behavior.\n",
      "  _warn_prf(average, modifier, msg_start, len(result))\n",
      "[Parallel(n_jobs=-1)]: Using backend LokyBackend with 12 concurrent workers.\n",
      "[Parallel(n_jobs=-1)]: Done   3 out of   3 | elapsed:  2.5min finished\n"
     ]
    },
    {
     "name": "stdout",
     "output_type": "stream",
     "text": [
      "K-Fold #9\n",
      "Mean negativities for all classes: [0.39289263918798906, 0.3934798204647194, 0.3924358319585863]\n",
      "Mean entropies for all classes: [8.051901993265391e-15, 7.562902962479954e-15, 7.150437524624867e-15]\n",
      "              precision    recall  f1-score   support\n",
      "\n",
      "           0       0.27      0.60      0.37         5\n",
      "           1       0.75      0.38      0.50         8\n",
      "           2       0.50      0.25      0.33         4\n",
      "\n",
      "    accuracy                           0.41        17\n",
      "   macro avg       0.51      0.41      0.40        17\n",
      "weighted avg       0.55      0.41      0.42        17\n",
      "\n",
      "-------------------------------------------------------------------------------------------------------------------\n",
      "AVG: Scores = 0.27614379084967317 F1-Scores = 0.2214612531717795 Negativity = [0.39284017420466655, 0.39203461074470597, 0.3958756151561755] Entropy = [6.968169563644395e-15, 6.948792824055869e-15, 6.7464478050952204e-15]\n"
     ]
    },
    {
     "name": "stderr",
     "output_type": "stream",
     "text": [
      "[Parallel(n_jobs=-1)]: Using backend LokyBackend with 12 concurrent workers.\n",
      "[Parallel(n_jobs=-1)]: Done   3 out of   3 | elapsed:  2.5min finished\n"
     ]
    },
    {
     "name": "stdout",
     "output_type": "stream",
     "text": [
      "K-Fold #0\n",
      "Mean negativities for all classes: [0.3946479694792571, 0.39038766274221387, 0.3875874578649347]\n",
      "Mean entropies for all classes: [5.2459348178513965e-15, 6.682357265325336e-15, 1.0498538267774599e-14]\n",
      "              precision    recall  f1-score   support\n",
      "\n",
      "           0       0.00      0.00      0.00         6\n",
      "           1       0.36      0.57      0.44         7\n",
      "           2       0.20      0.20      0.20         5\n",
      "\n",
      "    accuracy                           0.28        18\n",
      "   macro avg       0.19      0.26      0.21        18\n",
      "weighted avg       0.20      0.28      0.23        18\n",
      "\n",
      "-------------------------------------------------------------------------------------------------------------------\n"
     ]
    },
    {
     "name": "stderr",
     "output_type": "stream",
     "text": [
      "[Parallel(n_jobs=-1)]: Using backend LokyBackend with 12 concurrent workers.\n",
      "[Parallel(n_jobs=-1)]: Done   3 out of   3 | elapsed:  2.5min finished\n"
     ]
    },
    {
     "name": "stdout",
     "output_type": "stream",
     "text": [
      "K-Fold #1\n",
      "Mean negativities for all classes: [0.3938502107766324, 0.39345531698057873, 0.38208442371466134]\n",
      "Mean entropies for all classes: [7.804863225549464e-15, 6.369569237278871e-15, 6.569998649648013e-15]\n",
      "              precision    recall  f1-score   support\n",
      "\n",
      "           0       0.29      0.67      0.40         6\n",
      "           1       0.00      0.00      0.00         7\n",
      "           2       0.50      0.20      0.29         5\n",
      "\n",
      "    accuracy                           0.28        18\n",
      "   macro avg       0.26      0.29      0.23        18\n",
      "weighted avg       0.23      0.28      0.21        18\n",
      "\n",
      "-------------------------------------------------------------------------------------------------------------------\n"
     ]
    },
    {
     "name": "stderr",
     "output_type": "stream",
     "text": [
      "[Parallel(n_jobs=-1)]: Using backend LokyBackend with 12 concurrent workers.\n",
      "[Parallel(n_jobs=-1)]: Done   3 out of   3 | elapsed:  2.5min finished\n"
     ]
    },
    {
     "name": "stdout",
     "output_type": "stream",
     "text": [
      "K-Fold #2\n",
      "Mean negativities for all classes: [0.3879376920759219, 0.3897863286468245, 0.3887580582863828]\n",
      "Mean entropies for all classes: [8.561841099202569e-15, 6.840112254103063e-15, 7.012335490018013e-15]\n",
      "              precision    recall  f1-score   support\n",
      "\n",
      "           0       0.31      0.67      0.42         6\n",
      "           1       0.00      0.00      0.00         7\n",
      "           2       0.00      0.00      0.00         5\n",
      "\n",
      "    accuracy                           0.22        18\n",
      "   macro avg       0.10      0.22      0.14        18\n",
      "weighted avg       0.10      0.22      0.14        18\n",
      "\n",
      "-------------------------------------------------------------------------------------------------------------------\n"
     ]
    },
    {
     "name": "stderr",
     "output_type": "stream",
     "text": [
      "[Parallel(n_jobs=-1)]: Using backend LokyBackend with 12 concurrent workers.\n",
      "[Parallel(n_jobs=-1)]: Done   3 out of   3 | elapsed:  2.5min finished\n"
     ]
    },
    {
     "name": "stdout",
     "output_type": "stream",
     "text": [
      "K-Fold #3\n",
      "Mean negativities for all classes: [0.3911278248983567, 0.3932977533864167, 0.3950417948384801]\n",
      "Mean entropies for all classes: [7.510367251520425e-15, 5.8705867309172184e-15, 6.54583757024097e-15]\n",
      "              precision    recall  f1-score   support\n",
      "\n",
      "           0       0.33      0.17      0.22         6\n",
      "           1       0.33      0.57      0.42         7\n",
      "           2       0.00      0.00      0.00         5\n",
      "\n",
      "    accuracy                           0.28        18\n",
      "   macro avg       0.22      0.25      0.21        18\n",
      "weighted avg       0.24      0.28      0.24        18\n",
      "\n",
      "-------------------------------------------------------------------------------------------------------------------\n"
     ]
    },
    {
     "name": "stderr",
     "output_type": "stream",
     "text": [
      "[Parallel(n_jobs=-1)]: Using backend LokyBackend with 12 concurrent workers.\n",
      "[Parallel(n_jobs=-1)]: Done   3 out of   3 | elapsed:  2.5min finished\n"
     ]
    },
    {
     "name": "stdout",
     "output_type": "stream",
     "text": [
      "K-Fold #4\n",
      "Mean negativities for all classes: [0.39979380357226096, 0.3961263436998111, 0.394612614918582]\n",
      "Mean entropies for all classes: [9.637562234395572e-15, 6.868330309597242e-15, 7.756613943891298e-15]\n",
      "              precision    recall  f1-score   support\n",
      "\n",
      "           0       0.38      0.50      0.43         6\n",
      "           1       0.00      0.00      0.00         7\n",
      "           2       0.40      0.80      0.53         5\n",
      "\n",
      "    accuracy                           0.39        18\n",
      "   macro avg       0.26      0.43      0.32        18\n",
      "weighted avg       0.24      0.39      0.29        18\n",
      "\n",
      "-------------------------------------------------------------------------------------------------------------------\n"
     ]
    },
    {
     "name": "stderr",
     "output_type": "stream",
     "text": [
      "c:\\ProgramData\\Anaconda3\\lib\\site-packages\\sklearn\\metrics\\_classification.py:1344: UndefinedMetricWarning: Precision and F-score are ill-defined and being set to 0.0 in labels with no predicted samples. Use `zero_division` parameter to control this behavior.\n",
      "  _warn_prf(average, modifier, msg_start, len(result))\n",
      "c:\\ProgramData\\Anaconda3\\lib\\site-packages\\sklearn\\metrics\\_classification.py:1344: UndefinedMetricWarning: Precision and F-score are ill-defined and being set to 0.0 in labels with no predicted samples. Use `zero_division` parameter to control this behavior.\n",
      "  _warn_prf(average, modifier, msg_start, len(result))\n",
      "c:\\ProgramData\\Anaconda3\\lib\\site-packages\\sklearn\\metrics\\_classification.py:1344: UndefinedMetricWarning: Precision and F-score are ill-defined and being set to 0.0 in labels with no predicted samples. Use `zero_division` parameter to control this behavior.\n",
      "  _warn_prf(average, modifier, msg_start, len(result))\n",
      "[Parallel(n_jobs=-1)]: Using backend LokyBackend with 12 concurrent workers.\n",
      "[Parallel(n_jobs=-1)]: Done   3 out of   3 | elapsed:  2.5min finished\n"
     ]
    },
    {
     "name": "stdout",
     "output_type": "stream",
     "text": [
      "K-Fold #5\n",
      "Mean negativities for all classes: [0.39266263259050915, 0.39712471058116133, 0.3987520215640091]\n",
      "Mean entropies for all classes: [1.2553968837438338e-14, 5.028158443274059e-15, 6.776769863375467e-15]\n",
      "              precision    recall  f1-score   support\n",
      "\n",
      "           0       0.11      0.17      0.13         6\n",
      "           1       0.00      0.00      0.00         7\n",
      "           2       0.17      0.20      0.18         5\n",
      "\n",
      "    accuracy                           0.11        18\n",
      "   macro avg       0.09      0.12      0.11        18\n",
      "weighted avg       0.08      0.11      0.09        18\n",
      "\n",
      "-------------------------------------------------------------------------------------------------------------------\n"
     ]
    },
    {
     "name": "stderr",
     "output_type": "stream",
     "text": [
      "[Parallel(n_jobs=-1)]: Using backend LokyBackend with 12 concurrent workers.\n",
      "[Parallel(n_jobs=-1)]: Done   3 out of   3 | elapsed:  2.5min finished\n"
     ]
    },
    {
     "name": "stdout",
     "output_type": "stream",
     "text": [
      "K-Fold #6\n",
      "Mean negativities for all classes: [0.39304836749553423, 0.39316102134752445, 0.38137469410698815]\n",
      "Mean entropies for all classes: [8.023410705702251e-15, 6.5297515073178695e-15, 7.050754339265045e-15]\n",
      "              precision    recall  f1-score   support\n",
      "\n",
      "           0       0.35      1.00      0.52         6\n",
      "           1       0.00      0.00      0.00         7\n",
      "           2       0.00      0.00      0.00         5\n",
      "\n",
      "    accuracy                           0.33        18\n",
      "   macro avg       0.12      0.33      0.17        18\n",
      "weighted avg       0.12      0.33      0.17        18\n",
      "\n",
      "-------------------------------------------------------------------------------------------------------------------\n"
     ]
    },
    {
     "name": "stderr",
     "output_type": "stream",
     "text": [
      "c:\\ProgramData\\Anaconda3\\lib\\site-packages\\sklearn\\metrics\\_classification.py:1344: UndefinedMetricWarning: Precision and F-score are ill-defined and being set to 0.0 in labels with no predicted samples. Use `zero_division` parameter to control this behavior.\n",
      "  _warn_prf(average, modifier, msg_start, len(result))\n",
      "c:\\ProgramData\\Anaconda3\\lib\\site-packages\\sklearn\\metrics\\_classification.py:1344: UndefinedMetricWarning: Precision and F-score are ill-defined and being set to 0.0 in labels with no predicted samples. Use `zero_division` parameter to control this behavior.\n",
      "  _warn_prf(average, modifier, msg_start, len(result))\n",
      "c:\\ProgramData\\Anaconda3\\lib\\site-packages\\sklearn\\metrics\\_classification.py:1344: UndefinedMetricWarning: Precision and F-score are ill-defined and being set to 0.0 in labels with no predicted samples. Use `zero_division` parameter to control this behavior.\n",
      "  _warn_prf(average, modifier, msg_start, len(result))\n",
      "[Parallel(n_jobs=-1)]: Using backend LokyBackend with 12 concurrent workers.\n",
      "[Parallel(n_jobs=-1)]: Done   3 out of   3 | elapsed:  2.5min finished\n"
     ]
    },
    {
     "name": "stdout",
     "output_type": "stream",
     "text": [
      "K-Fold #7\n",
      "Mean negativities for all classes: [0.3948261739704687, 0.3926105089843339, 0.3836245559571305]\n",
      "Mean entropies for all classes: [5.8612548233967186e-15, 7.146589626516269e-15, 7.684399487846905e-15]\n",
      "              precision    recall  f1-score   support\n",
      "\n",
      "           0       0.00      0.00      0.00         6\n",
      "           1       1.00      0.14      0.25         7\n",
      "           2       0.10      0.20      0.13         5\n",
      "\n",
      "    accuracy                           0.11        18\n",
      "   macro avg       0.37      0.11      0.13        18\n",
      "weighted avg       0.42      0.11      0.13        18\n",
      "\n",
      "-------------------------------------------------------------------------------------------------------------------\n"
     ]
    },
    {
     "name": "stderr",
     "output_type": "stream",
     "text": [
      "[Parallel(n_jobs=-1)]: Using backend LokyBackend with 12 concurrent workers.\n",
      "[Parallel(n_jobs=-1)]: Done   3 out of   3 | elapsed:  2.5min finished\n"
     ]
    },
    {
     "name": "stdout",
     "output_type": "stream",
     "text": [
      "K-Fold #8\n",
      "Mean negativities for all classes: [0.39380628660209577, 0.3970887842264952, 0.39570490223748395]\n",
      "Mean entropies for all classes: [9.49945938957783e-15, 5.3444814123497754e-15, 7.438200574759972e-15]\n",
      "              precision    recall  f1-score   support\n",
      "\n",
      "           0       0.14      0.17      0.15         6\n",
      "           1       0.29      0.29      0.29         7\n",
      "           2       0.67      0.50      0.57         4\n",
      "\n",
      "    accuracy                           0.29        17\n",
      "   macro avg       0.37      0.32      0.34        17\n",
      "weighted avg       0.32      0.29      0.31        17\n",
      "\n",
      "-------------------------------------------------------------------------------------------------------------------\n"
     ]
    },
    {
     "name": "stderr",
     "output_type": "stream",
     "text": [
      "[Parallel(n_jobs=-1)]: Using backend LokyBackend with 12 concurrent workers.\n",
      "[Parallel(n_jobs=-1)]: Done   3 out of   3 | elapsed:  2.5min finished\n"
     ]
    },
    {
     "name": "stdout",
     "output_type": "stream",
     "text": [
      "K-Fold #9\n",
      "Mean negativities for all classes: [0.3975730599335855, 0.39560720289568907, 0.3984505318675025]\n",
      "Mean entropies for all classes: [5.369119086727494e-15, 7.323136792307449e-15, 8.833573499712464e-15]\n",
      "              precision    recall  f1-score   support\n",
      "\n",
      "           0       0.00      0.00      0.00         5\n",
      "           1       0.50      0.25      0.33         8\n",
      "           2       0.25      0.75      0.38         4\n",
      "\n",
      "    accuracy                           0.29        17\n",
      "   macro avg       0.25      0.33      0.24        17\n",
      "weighted avg       0.29      0.29      0.25        17\n",
      "\n",
      "-------------------------------------------------------------------------------------------------------------------\n",
      "AVG: Scores = 0.2588235294117647 F1-Scores = 0.20986457668951944 Negativity = [0.3908743633621352, 0.38979665049062423, 0.38882735966970977] Entropy = [7.475610116983778e-15, 6.91481037082545e-15, 7.471429614441214e-15]\n"
     ]
    },
    {
     "name": "stderr",
     "output_type": "stream",
     "text": [
      "[Parallel(n_jobs=-1)]: Using backend LokyBackend with 12 concurrent workers.\n",
      "[Parallel(n_jobs=-1)]: Done   3 out of   3 | elapsed:  2.5min finished\n"
     ]
    },
    {
     "name": "stdout",
     "output_type": "stream",
     "text": [
      "K-Fold #0\n",
      "Mean negativities for all classes: [0.39240263114588303, 0.3942879125502776, 0.3942240460874967]\n",
      "Mean entropies for all classes: [6.551673941822738e-15, 6.341321289616272e-15, 8.023375038203234e-15]\n",
      "              precision    recall  f1-score   support\n",
      "\n",
      "           0       0.38      0.50      0.43         6\n",
      "           1       0.20      0.14      0.17         7\n",
      "           2       0.20      0.20      0.20         5\n",
      "\n",
      "    accuracy                           0.28        18\n",
      "   macro avg       0.26      0.28      0.27        18\n",
      "weighted avg       0.26      0.28      0.26        18\n",
      "\n",
      "-------------------------------------------------------------------------------------------------------------------\n"
     ]
    },
    {
     "name": "stderr",
     "output_type": "stream",
     "text": [
      "[Parallel(n_jobs=-1)]: Using backend LokyBackend with 12 concurrent workers.\n",
      "[Parallel(n_jobs=-1)]: Done   3 out of   3 | elapsed:  2.5min finished\n"
     ]
    },
    {
     "name": "stdout",
     "output_type": "stream",
     "text": [
      "K-Fold #1\n",
      "Mean negativities for all classes: [0.3921912911096339, 0.4020604937344147, 0.38883448532457315]\n",
      "Mean entropies for all classes: [5.179827970170052e-15, 6.6012962088139e-15, 6.9189588513163944e-15]\n",
      "              precision    recall  f1-score   support\n",
      "\n",
      "           0       0.36      0.67      0.47         6\n",
      "           1       0.50      0.29      0.36         7\n",
      "           2       0.00      0.00      0.00         5\n",
      "\n",
      "    accuracy                           0.33        18\n",
      "   macro avg       0.29      0.32      0.28        18\n",
      "weighted avg       0.32      0.33      0.30        18\n",
      "\n",
      "-------------------------------------------------------------------------------------------------------------------\n"
     ]
    },
    {
     "name": "stderr",
     "output_type": "stream",
     "text": [
      "[Parallel(n_jobs=-1)]: Using backend LokyBackend with 12 concurrent workers.\n",
      "[Parallel(n_jobs=-1)]: Done   3 out of   3 | elapsed:  2.5min finished\n"
     ]
    },
    {
     "name": "stdout",
     "output_type": "stream",
     "text": [
      "K-Fold #2\n",
      "Mean negativities for all classes: [0.3917939778947579, 0.39442167676251794, 0.38773734922067227]\n",
      "Mean entropies for all classes: [4.350453701709129e-15, 7.12332541241432e-15, 5.65182139422499e-15]\n",
      "              precision    recall  f1-score   support\n",
      "\n",
      "           0       0.25      0.33      0.29         6\n",
      "           1       0.50      0.14      0.22         7\n",
      "           2       0.25      0.40      0.31         5\n",
      "\n",
      "    accuracy                           0.28        18\n",
      "   macro avg       0.33      0.29      0.27        18\n",
      "weighted avg       0.35      0.28      0.27        18\n",
      "\n",
      "-------------------------------------------------------------------------------------------------------------------\n"
     ]
    },
    {
     "name": "stderr",
     "output_type": "stream",
     "text": [
      "[Parallel(n_jobs=-1)]: Using backend LokyBackend with 12 concurrent workers.\n",
      "[Parallel(n_jobs=-1)]: Done   3 out of   3 | elapsed:  2.5min finished\n"
     ]
    },
    {
     "name": "stdout",
     "output_type": "stream",
     "text": [
      "K-Fold #3\n",
      "Mean negativities for all classes: [0.3993830010096535, 0.3905840329772325, 0.3940341725012623]\n",
      "Mean entropies for all classes: [6.783809141466031e-15, 6.146744692457368e-15, 6.930368382800095e-15]\n",
      "              precision    recall  f1-score   support\n",
      "\n",
      "           0       0.57      0.67      0.62         6\n",
      "           1       0.40      0.57      0.47         7\n",
      "           2       0.00      0.00      0.00         5\n",
      "\n",
      "    accuracy                           0.44        18\n",
      "   macro avg       0.32      0.41      0.36        18\n",
      "weighted avg       0.35      0.44      0.39        18\n",
      "\n",
      "-------------------------------------------------------------------------------------------------------------------\n"
     ]
    },
    {
     "name": "stderr",
     "output_type": "stream",
     "text": [
      "[Parallel(n_jobs=-1)]: Using backend LokyBackend with 12 concurrent workers.\n",
      "[Parallel(n_jobs=-1)]: Done   3 out of   3 | elapsed:  2.5min finished\n"
     ]
    },
    {
     "name": "stdout",
     "output_type": "stream",
     "text": [
      "K-Fold #4\n",
      "Mean negativities for all classes: [0.39456319210071533, 0.3943381002955858, 0.39235135792589354]\n",
      "Mean entropies for all classes: [6.41405808247255e-15, 6.897883979203437e-15, 7.691589633609615e-15]\n",
      "              precision    recall  f1-score   support\n",
      "\n",
      "           0       0.33      0.33      0.33         6\n",
      "           1       0.50      0.71      0.59         7\n",
      "           2       0.00      0.00      0.00         5\n",
      "\n",
      "    accuracy                           0.39        18\n",
      "   macro avg       0.28      0.35      0.31        18\n",
      "weighted avg       0.31      0.39      0.34        18\n",
      "\n",
      "-------------------------------------------------------------------------------------------------------------------\n"
     ]
    },
    {
     "name": "stderr",
     "output_type": "stream",
     "text": [
      "[Parallel(n_jobs=-1)]: Using backend LokyBackend with 12 concurrent workers.\n",
      "[Parallel(n_jobs=-1)]: Done   3 out of   3 | elapsed:  2.5min finished\n"
     ]
    },
    {
     "name": "stdout",
     "output_type": "stream",
     "text": [
      "K-Fold #5\n",
      "Mean negativities for all classes: [0.39049772851976094, 0.3921707800273534, 0.3941669411617328]\n",
      "Mean entropies for all classes: [5.884256792806544e-15, 6.653887991330952e-15, 7.229156317847415e-15]\n",
      "              precision    recall  f1-score   support\n",
      "\n",
      "           0       0.46      1.00      0.63         6\n",
      "           1       1.00      0.29      0.44         7\n",
      "           2       0.33      0.20      0.25         5\n",
      "\n",
      "    accuracy                           0.50        18\n",
      "   macro avg       0.60      0.50      0.44        18\n",
      "weighted avg       0.64      0.50      0.45        18\n",
      "\n",
      "-------------------------------------------------------------------------------------------------------------------\n"
     ]
    },
    {
     "name": "stderr",
     "output_type": "stream",
     "text": [
      "[Parallel(n_jobs=-1)]: Using backend LokyBackend with 12 concurrent workers.\n",
      "[Parallel(n_jobs=-1)]: Done   3 out of   3 | elapsed:  2.5min finished\n"
     ]
    },
    {
     "name": "stdout",
     "output_type": "stream",
     "text": [
      "K-Fold #6\n",
      "Mean negativities for all classes: [0.39325724370607285, 0.39419553397783685, 0.37960007919808686]\n",
      "Mean entropies for all classes: [8.020751791216105e-15, 7.359311928497298e-15, 6.8109136213762335e-15]\n",
      "              precision    recall  f1-score   support\n",
      "\n",
      "           0       0.33      0.33      0.33         6\n",
      "           1       0.33      0.57      0.42         7\n",
      "           2       0.00      0.00      0.00         5\n",
      "\n",
      "    accuracy                           0.33        18\n",
      "   macro avg       0.22      0.30      0.25        18\n",
      "weighted avg       0.24      0.33      0.27        18\n",
      "\n",
      "-------------------------------------------------------------------------------------------------------------------\n"
     ]
    },
    {
     "name": "stderr",
     "output_type": "stream",
     "text": [
      "c:\\ProgramData\\Anaconda3\\lib\\site-packages\\sklearn\\metrics\\_classification.py:1344: UndefinedMetricWarning: Precision and F-score are ill-defined and being set to 0.0 in labels with no predicted samples. Use `zero_division` parameter to control this behavior.\n",
      "  _warn_prf(average, modifier, msg_start, len(result))\n",
      "c:\\ProgramData\\Anaconda3\\lib\\site-packages\\sklearn\\metrics\\_classification.py:1344: UndefinedMetricWarning: Precision and F-score are ill-defined and being set to 0.0 in labels with no predicted samples. Use `zero_division` parameter to control this behavior.\n",
      "  _warn_prf(average, modifier, msg_start, len(result))\n",
      "c:\\ProgramData\\Anaconda3\\lib\\site-packages\\sklearn\\metrics\\_classification.py:1344: UndefinedMetricWarning: Precision and F-score are ill-defined and being set to 0.0 in labels with no predicted samples. Use `zero_division` parameter to control this behavior.\n",
      "  _warn_prf(average, modifier, msg_start, len(result))\n",
      "[Parallel(n_jobs=-1)]: Using backend LokyBackend with 12 concurrent workers.\n",
      "[Parallel(n_jobs=-1)]: Done   3 out of   3 | elapsed:  2.5min finished\n"
     ]
    },
    {
     "name": "stdout",
     "output_type": "stream",
     "text": [
      "K-Fold #7\n",
      "Mean negativities for all classes: [0.3990286832590876, 0.39308873389878574, 0.39654471026100857]\n",
      "Mean entropies for all classes: [7.82403569906208e-15, 6.162733381171285e-15, 7.225939189307507e-15]\n",
      "              precision    recall  f1-score   support\n",
      "\n",
      "           0       0.15      0.33      0.21         6\n",
      "           1       0.00      0.00      0.00         7\n",
      "           2       0.00      0.00      0.00         5\n",
      "\n",
      "    accuracy                           0.11        18\n",
      "   macro avg       0.05      0.11      0.07        18\n",
      "weighted avg       0.05      0.11      0.07        18\n",
      "\n",
      "-------------------------------------------------------------------------------------------------------------------\n"
     ]
    },
    {
     "name": "stderr",
     "output_type": "stream",
     "text": [
      "c:\\ProgramData\\Anaconda3\\lib\\site-packages\\sklearn\\metrics\\_classification.py:1344: UndefinedMetricWarning: Precision and F-score are ill-defined and being set to 0.0 in labels with no predicted samples. Use `zero_division` parameter to control this behavior.\n",
      "  _warn_prf(average, modifier, msg_start, len(result))\n",
      "c:\\ProgramData\\Anaconda3\\lib\\site-packages\\sklearn\\metrics\\_classification.py:1344: UndefinedMetricWarning: Precision and F-score are ill-defined and being set to 0.0 in labels with no predicted samples. Use `zero_division` parameter to control this behavior.\n",
      "  _warn_prf(average, modifier, msg_start, len(result))\n",
      "c:\\ProgramData\\Anaconda3\\lib\\site-packages\\sklearn\\metrics\\_classification.py:1344: UndefinedMetricWarning: Precision and F-score are ill-defined and being set to 0.0 in labels with no predicted samples. Use `zero_division` parameter to control this behavior.\n",
      "  _warn_prf(average, modifier, msg_start, len(result))\n",
      "[Parallel(n_jobs=-1)]: Using backend LokyBackend with 12 concurrent workers.\n",
      "[Parallel(n_jobs=-1)]: Done   3 out of   3 | elapsed:  2.5min finished\n"
     ]
    },
    {
     "name": "stdout",
     "output_type": "stream",
     "text": [
      "K-Fold #8\n",
      "Mean negativities for all classes: [0.39559827472294434, 0.39091713468354733, 0.39273157583365426]\n",
      "Mean entropies for all classes: [7.289957963501589e-15, 7.564560375559337e-15, 7.825400458478928e-15]\n",
      "              precision    recall  f1-score   support\n",
      "\n",
      "           0       0.00      0.00      0.00         6\n",
      "           1       0.67      0.29      0.40         7\n",
      "           2       0.18      0.50      0.27         4\n",
      "\n",
      "    accuracy                           0.24        17\n",
      "   macro avg       0.28      0.26      0.22        17\n",
      "weighted avg       0.32      0.24      0.23        17\n",
      "\n",
      "-------------------------------------------------------------------------------------------------------------------\n"
     ]
    },
    {
     "name": "stderr",
     "output_type": "stream",
     "text": [
      "[Parallel(n_jobs=-1)]: Using backend LokyBackend with 12 concurrent workers.\n",
      "[Parallel(n_jobs=-1)]: Done   3 out of   3 | elapsed:  2.5min finished\n"
     ]
    },
    {
     "name": "stdout",
     "output_type": "stream",
     "text": [
      "K-Fold #9\n",
      "Mean negativities for all classes: [0.3975648082641179, 0.39270372810409443, 0.39255070086533395]\n",
      "Mean entropies for all classes: [6.26592426272133e-15, 7.314367746344143e-15, 5.498976567122899e-15]\n",
      "              precision    recall  f1-score   support\n",
      "\n",
      "           0       0.30      0.60      0.40         5\n",
      "           1       0.33      0.25      0.29         8\n",
      "           2       0.00      0.00      0.00         4\n",
      "\n",
      "    accuracy                           0.29        17\n",
      "   macro avg       0.21      0.28      0.23        17\n",
      "weighted avg       0.25      0.29      0.25        17\n",
      "\n",
      "-------------------------------------------------------------------------------------------------------------------\n",
      "AVG: Scores = 0.31960784313725493 F1-Scores = 0.26986498709408924 Negativity = [0.3936381965945525, 0.39436209005620726, 0.39131766795931605] Entropy = [6.972123423214081e-15, 6.233361010100115e-15, 5.7085335027828124e-15]\n"
     ]
    },
    {
     "name": "stderr",
     "output_type": "stream",
     "text": [
      "[Parallel(n_jobs=-1)]: Using backend LokyBackend with 12 concurrent workers.\n",
      "[Parallel(n_jobs=-1)]: Done   3 out of   3 | elapsed:  2.5min finished\n"
     ]
    },
    {
     "name": "stdout",
     "output_type": "stream",
     "text": [
      "K-Fold #0\n",
      "Mean negativities for all classes: [0.3947392610078484, 0.40155982236846843, 0.3870576499421742]\n",
      "Mean entropies for all classes: [8.445447945986058e-15, 8.489617652008031e-15, 6.119852267855463e-15]\n",
      "              precision    recall  f1-score   support\n",
      "\n",
      "           0       0.38      0.50      0.43         6\n",
      "           1       0.25      0.29      0.27         7\n",
      "           2       0.50      0.20      0.29         5\n",
      "\n",
      "    accuracy                           0.33        18\n",
      "   macro avg       0.38      0.33      0.33        18\n",
      "weighted avg       0.36      0.33      0.33        18\n",
      "\n",
      "-------------------------------------------------------------------------------------------------------------------\n"
     ]
    },
    {
     "name": "stderr",
     "output_type": "stream",
     "text": [
      "[Parallel(n_jobs=-1)]: Using backend LokyBackend with 12 concurrent workers.\n",
      "[Parallel(n_jobs=-1)]: Done   3 out of   3 | elapsed:  2.5min finished\n"
     ]
    },
    {
     "name": "stdout",
     "output_type": "stream",
     "text": [
      "K-Fold #1\n",
      "Mean negativities for all classes: [0.3883245918798651, 0.387396814611271, 0.39214427498806326]\n",
      "Mean entropies for all classes: [6.193479637382758e-15, 6.5534449813576006e-15, 6.418177753918632e-15]\n",
      "              precision    recall  f1-score   support\n",
      "\n",
      "           0       0.50      0.67      0.57         6\n",
      "           1       0.33      0.29      0.31         7\n",
      "           2       0.50      0.40      0.44         5\n",
      "\n",
      "    accuracy                           0.44        18\n",
      "   macro avg       0.44      0.45      0.44        18\n",
      "weighted avg       0.44      0.44      0.43        18\n",
      "\n",
      "-------------------------------------------------------------------------------------------------------------------\n"
     ]
    },
    {
     "name": "stderr",
     "output_type": "stream",
     "text": [
      "[Parallel(n_jobs=-1)]: Using backend LokyBackend with 12 concurrent workers.\n",
      "[Parallel(n_jobs=-1)]: Done   3 out of   3 | elapsed:  2.5min finished\n"
     ]
    },
    {
     "name": "stdout",
     "output_type": "stream",
     "text": [
      "K-Fold #2\n",
      "Mean negativities for all classes: [0.39706731975554566, 0.3930607598162816, 0.39167988198719356]\n",
      "Mean entropies for all classes: [5.368280503686673e-15, 7.173215015416358e-15, 6.2672646862073705e-15]\n",
      "              precision    recall  f1-score   support\n",
      "\n",
      "           0       0.33      0.83      0.48         6\n",
      "           1       0.33      0.14      0.20         7\n",
      "           2       0.00      0.00      0.00         5\n",
      "\n",
      "    accuracy                           0.33        18\n",
      "   macro avg       0.22      0.33      0.23        18\n",
      "weighted avg       0.24      0.33      0.24        18\n",
      "\n",
      "-------------------------------------------------------------------------------------------------------------------\n"
     ]
    },
    {
     "name": "stderr",
     "output_type": "stream",
     "text": [
      "c:\\ProgramData\\Anaconda3\\lib\\site-packages\\sklearn\\metrics\\_classification.py:1344: UndefinedMetricWarning: Precision and F-score are ill-defined and being set to 0.0 in labels with no predicted samples. Use `zero_division` parameter to control this behavior.\n",
      "  _warn_prf(average, modifier, msg_start, len(result))\n",
      "c:\\ProgramData\\Anaconda3\\lib\\site-packages\\sklearn\\metrics\\_classification.py:1344: UndefinedMetricWarning: Precision and F-score are ill-defined and being set to 0.0 in labels with no predicted samples. Use `zero_division` parameter to control this behavior.\n",
      "  _warn_prf(average, modifier, msg_start, len(result))\n",
      "c:\\ProgramData\\Anaconda3\\lib\\site-packages\\sklearn\\metrics\\_classification.py:1344: UndefinedMetricWarning: Precision and F-score are ill-defined and being set to 0.0 in labels with no predicted samples. Use `zero_division` parameter to control this behavior.\n",
      "  _warn_prf(average, modifier, msg_start, len(result))\n",
      "[Parallel(n_jobs=-1)]: Using backend LokyBackend with 12 concurrent workers.\n",
      "[Parallel(n_jobs=-1)]: Done   3 out of   3 | elapsed:  2.5min finished\n"
     ]
    },
    {
     "name": "stdout",
     "output_type": "stream",
     "text": [
      "K-Fold #3\n",
      "Mean negativities for all classes: [0.3974482920578755, 0.39261645537063633, 0.3862635140185292]\n",
      "Mean entropies for all classes: [6.865261232763222e-15, 7.256014784548995e-15, 5.786484957947617e-15]\n",
      "              precision    recall  f1-score   support\n",
      "\n",
      "           0       0.33      0.83      0.48         6\n",
      "           1       0.00      0.00      0.00         7\n",
      "           2       0.00      0.00      0.00         5\n",
      "\n",
      "    accuracy                           0.28        18\n",
      "   macro avg       0.11      0.28      0.16        18\n",
      "weighted avg       0.11      0.28      0.16        18\n",
      "\n",
      "-------------------------------------------------------------------------------------------------------------------\n"
     ]
    },
    {
     "name": "stderr",
     "output_type": "stream",
     "text": [
      "c:\\ProgramData\\Anaconda3\\lib\\site-packages\\sklearn\\metrics\\_classification.py:1344: UndefinedMetricWarning: Precision and F-score are ill-defined and being set to 0.0 in labels with no predicted samples. Use `zero_division` parameter to control this behavior.\n",
      "  _warn_prf(average, modifier, msg_start, len(result))\n",
      "c:\\ProgramData\\Anaconda3\\lib\\site-packages\\sklearn\\metrics\\_classification.py:1344: UndefinedMetricWarning: Precision and F-score are ill-defined and being set to 0.0 in labels with no predicted samples. Use `zero_division` parameter to control this behavior.\n",
      "  _warn_prf(average, modifier, msg_start, len(result))\n",
      "c:\\ProgramData\\Anaconda3\\lib\\site-packages\\sklearn\\metrics\\_classification.py:1344: UndefinedMetricWarning: Precision and F-score are ill-defined and being set to 0.0 in labels with no predicted samples. Use `zero_division` parameter to control this behavior.\n",
      "  _warn_prf(average, modifier, msg_start, len(result))\n",
      "[Parallel(n_jobs=-1)]: Using backend LokyBackend with 12 concurrent workers.\n",
      "[Parallel(n_jobs=-1)]: Done   3 out of   3 | elapsed:  2.5min finished\n"
     ]
    },
    {
     "name": "stdout",
     "output_type": "stream",
     "text": [
      "K-Fold #4\n",
      "Mean negativities for all classes: [0.3948702415114777, 0.3934673809806413, 0.39642258688174575]\n",
      "Mean entropies for all classes: [8.700375169368514e-15, 6.529706044491583e-15, 7.222911136806138e-15]\n",
      "              precision    recall  f1-score   support\n",
      "\n",
      "           0       0.33      0.33      0.33         6\n",
      "           1       0.00      0.00      0.00         7\n",
      "           2       0.20      0.40      0.27         5\n",
      "\n",
      "    accuracy                           0.22        18\n",
      "   macro avg       0.18      0.24      0.20        18\n",
      "weighted avg       0.17      0.22      0.19        18\n",
      "\n",
      "-------------------------------------------------------------------------------------------------------------------\n"
     ]
    },
    {
     "name": "stderr",
     "output_type": "stream",
     "text": [
      "[Parallel(n_jobs=-1)]: Using backend LokyBackend with 12 concurrent workers.\n",
      "[Parallel(n_jobs=-1)]: Done   3 out of   3 | elapsed:  2.5min finished\n"
     ]
    },
    {
     "name": "stdout",
     "output_type": "stream",
     "text": [
      "K-Fold #5\n",
      "Mean negativities for all classes: [0.3933470527480677, 0.39710184316540303, 0.3831223545808247]\n",
      "Mean entropies for all classes: [6.092043685918821e-15, 8.622762000824131e-15, 6.730334870251451e-15]\n",
      "              precision    recall  f1-score   support\n",
      "\n",
      "           0       0.45      0.83      0.59         6\n",
      "           1       0.57      0.57      0.57         7\n",
      "           2       0.00      0.00      0.00         5\n",
      "\n",
      "    accuracy                           0.50        18\n",
      "   macro avg       0.34      0.47      0.39        18\n",
      "weighted avg       0.37      0.50      0.42        18\n",
      "\n",
      "-------------------------------------------------------------------------------------------------------------------\n"
     ]
    },
    {
     "name": "stderr",
     "output_type": "stream",
     "text": [
      "c:\\ProgramData\\Anaconda3\\lib\\site-packages\\sklearn\\metrics\\_classification.py:1344: UndefinedMetricWarning: Precision and F-score are ill-defined and being set to 0.0 in labels with no predicted samples. Use `zero_division` parameter to control this behavior.\n",
      "  _warn_prf(average, modifier, msg_start, len(result))\n",
      "c:\\ProgramData\\Anaconda3\\lib\\site-packages\\sklearn\\metrics\\_classification.py:1344: UndefinedMetricWarning: Precision and F-score are ill-defined and being set to 0.0 in labels with no predicted samples. Use `zero_division` parameter to control this behavior.\n",
      "  _warn_prf(average, modifier, msg_start, len(result))\n",
      "c:\\ProgramData\\Anaconda3\\lib\\site-packages\\sklearn\\metrics\\_classification.py:1344: UndefinedMetricWarning: Precision and F-score are ill-defined and being set to 0.0 in labels with no predicted samples. Use `zero_division` parameter to control this behavior.\n",
      "  _warn_prf(average, modifier, msg_start, len(result))\n",
      "[Parallel(n_jobs=-1)]: Using backend LokyBackend with 12 concurrent workers.\n",
      "[Parallel(n_jobs=-1)]: Done   3 out of   3 | elapsed:  2.5min finished\n"
     ]
    },
    {
     "name": "stdout",
     "output_type": "stream",
     "text": [
      "K-Fold #6\n",
      "Mean negativities for all classes: [0.3903706422099876, 0.3882881012950441, 0.38435910522556327]\n",
      "Mean entropies for all classes: [8.409692824410989e-15, 7.062762899972207e-15, 6.642117121254936e-15]\n",
      "              precision    recall  f1-score   support\n",
      "\n",
      "           0       0.29      0.67      0.40         6\n",
      "           1       0.67      0.29      0.40         7\n",
      "           2       0.00      0.00      0.00         5\n",
      "\n",
      "    accuracy                           0.33        18\n",
      "   macro avg       0.32      0.32      0.27        18\n",
      "weighted avg       0.35      0.33      0.29        18\n",
      "\n",
      "-------------------------------------------------------------------------------------------------------------------\n"
     ]
    },
    {
     "name": "stderr",
     "output_type": "stream",
     "text": [
      "[Parallel(n_jobs=-1)]: Using backend LokyBackend with 12 concurrent workers.\n",
      "[Parallel(n_jobs=-1)]: Done   3 out of   3 | elapsed:  2.5min finished\n"
     ]
    },
    {
     "name": "stdout",
     "output_type": "stream",
     "text": [
      "K-Fold #7\n",
      "Mean negativities for all classes: [0.39704942093809925, 0.39362909080493963, 0.3849524984740931]\n",
      "Mean entropies for all classes: [1.0294483595229834e-14, 6.335060410138795e-15, 9.708454905987816e-15]\n",
      "              precision    recall  f1-score   support\n",
      "\n",
      "           0       0.43      1.00      0.60         6\n",
      "           1       0.67      0.29      0.40         7\n",
      "           2       1.00      0.20      0.33         5\n",
      "\n",
      "    accuracy                           0.50        18\n",
      "   macro avg       0.70      0.50      0.44        18\n",
      "weighted avg       0.68      0.50      0.45        18\n",
      "\n",
      "-------------------------------------------------------------------------------------------------------------------\n"
     ]
    },
    {
     "name": "stderr",
     "output_type": "stream",
     "text": [
      "[Parallel(n_jobs=-1)]: Using backend LokyBackend with 12 concurrent workers.\n",
      "[Parallel(n_jobs=-1)]: Done   3 out of   3 | elapsed:  2.5min finished\n"
     ]
    },
    {
     "name": "stdout",
     "output_type": "stream",
     "text": [
      "K-Fold #8\n",
      "Mean negativities for all classes: [0.39549052317792505, 0.3938358991426215, 0.3885261349790835]\n",
      "Mean entropies for all classes: [9.752967551165315e-15, 6.314480810462019e-15, 6.6505736633602655e-15]\n",
      "              precision    recall  f1-score   support\n",
      "\n",
      "           0       0.36      0.67      0.47         6\n",
      "           1       0.00      0.00      0.00         7\n",
      "           2       0.00      0.00      0.00         4\n",
      "\n",
      "    accuracy                           0.24        17\n",
      "   macro avg       0.12      0.22      0.16        17\n",
      "weighted avg       0.13      0.24      0.17        17\n",
      "\n",
      "-------------------------------------------------------------------------------------------------------------------\n"
     ]
    },
    {
     "name": "stderr",
     "output_type": "stream",
     "text": [
      "[Parallel(n_jobs=-1)]: Using backend LokyBackend with 12 concurrent workers.\n",
      "[Parallel(n_jobs=-1)]: Done   3 out of   3 | elapsed:  2.5min finished\n"
     ]
    },
    {
     "name": "stdout",
     "output_type": "stream",
     "text": [
      "K-Fold #9\n",
      "Mean negativities for all classes: [0.38483085593735256, 0.3938196430145357, 0.39661441135025055]\n",
      "Mean entropies for all classes: [7.526845238047431e-15, 8.307259834888004e-15, 6.302784021027352e-15]\n",
      "              precision    recall  f1-score   support\n",
      "\n",
      "           0       0.29      0.40      0.33         5\n",
      "           1       0.33      0.25      0.29         8\n",
      "           2       0.50      0.50      0.50         4\n",
      "\n",
      "    accuracy                           0.35        17\n",
      "   macro avg       0.37      0.38      0.37        17\n",
      "weighted avg       0.36      0.35      0.35        17\n",
      "\n",
      "-------------------------------------------------------------------------------------------------------------------\n",
      "AVG: Scores = 0.3532679738562091 F1-Scores = 0.2979843903373315 Negativity = [0.39445224443949706, 0.3892885604930665, 0.3939359871863403] Entropy = [7.68497262194985e-15, 6.388367457552997e-15, 6.269586735103468e-15]\n"
     ]
    },
    {
     "name": "stderr",
     "output_type": "stream",
     "text": [
      "[Parallel(n_jobs=-1)]: Using backend LokyBackend with 12 concurrent workers.\n",
      "[Parallel(n_jobs=-1)]: Done   3 out of   3 | elapsed:  2.5min finished\n"
     ]
    },
    {
     "name": "stdout",
     "output_type": "stream",
     "text": [
      "K-Fold #0\n",
      "Mean negativities for all classes: [0.38790112841147445, 0.39968902744025486, 0.39943236161147383]\n",
      "Mean entropies for all classes: [7.967223543698722e-15, 6.647260560430439e-15, 6.413671278078266e-15]\n",
      "              precision    recall  f1-score   support\n",
      "\n",
      "           0       0.50      0.33      0.40         6\n",
      "           1       0.25      0.29      0.27         7\n",
      "           2       0.33      0.40      0.36         5\n",
      "\n",
      "    accuracy                           0.33        18\n",
      "   macro avg       0.36      0.34      0.34        18\n",
      "weighted avg       0.36      0.33      0.34        18\n",
      "\n",
      "-------------------------------------------------------------------------------------------------------------------\n"
     ]
    },
    {
     "name": "stderr",
     "output_type": "stream",
     "text": [
      "[Parallel(n_jobs=-1)]: Using backend LokyBackend with 12 concurrent workers.\n",
      "[Parallel(n_jobs=-1)]: Done   3 out of   3 | elapsed:  2.5min finished\n"
     ]
    },
    {
     "name": "stdout",
     "output_type": "stream",
     "text": [
      "K-Fold #1\n",
      "Mean negativities for all classes: [0.3934656858018119, 0.3976225979297205, 0.3963613523391088]\n",
      "Mean entropies for all classes: [7.800542926510597e-15, 7.665271300957445e-15, 5.571009990837224e-15]\n",
      "              precision    recall  f1-score   support\n",
      "\n",
      "           0       0.50      0.67      0.57         6\n",
      "           1       0.00      0.00      0.00         7\n",
      "           2       0.33      0.60      0.43         5\n",
      "\n",
      "    accuracy                           0.39        18\n",
      "   macro avg       0.28      0.42      0.33        18\n",
      "weighted avg       0.26      0.39      0.31        18\n",
      "\n",
      "-------------------------------------------------------------------------------------------------------------------\n"
     ]
    },
    {
     "name": "stderr",
     "output_type": "stream",
     "text": [
      "[Parallel(n_jobs=-1)]: Using backend LokyBackend with 12 concurrent workers.\n",
      "[Parallel(n_jobs=-1)]: Done   3 out of   3 | elapsed:  2.5min finished\n"
     ]
    },
    {
     "name": "stdout",
     "output_type": "stream",
     "text": [
      "K-Fold #2\n",
      "Mean negativities for all classes: [0.39446386770603703, 0.3884156892893389, 0.3928895940432899]\n",
      "Mean entropies for all classes: [6.2373624717954754e-15, 6.887475463961197e-15, 7.261503228416637e-15]\n",
      "              precision    recall  f1-score   support\n",
      "\n",
      "           0       0.25      0.17      0.20         6\n",
      "           1       0.67      0.29      0.40         7\n",
      "           2       0.27      0.60      0.37         5\n",
      "\n",
      "    accuracy                           0.33        18\n",
      "   macro avg       0.40      0.35      0.33        18\n",
      "weighted avg       0.42      0.33      0.33        18\n",
      "\n",
      "-------------------------------------------------------------------------------------------------------------------\n"
     ]
    },
    {
     "name": "stderr",
     "output_type": "stream",
     "text": [
      "[Parallel(n_jobs=-1)]: Using backend LokyBackend with 12 concurrent workers.\n",
      "[Parallel(n_jobs=-1)]: Done   3 out of   3 | elapsed:  2.5min finished\n"
     ]
    },
    {
     "name": "stdout",
     "output_type": "stream",
     "text": [
      "K-Fold #3\n",
      "Mean negativities for all classes: [0.39243658067873877, 0.38800587503575396, 0.38693394096658323]\n",
      "Mean entropies for all classes: [8.714239326713754e-15, 5.288214543295837e-15, 5.900832667642378e-15]\n",
      "              precision    recall  f1-score   support\n",
      "\n",
      "           0       0.33      0.50      0.40         6\n",
      "           1       0.56      0.71      0.63         7\n",
      "           2       0.00      0.00      0.00         5\n",
      "\n",
      "    accuracy                           0.44        18\n",
      "   macro avg       0.30      0.40      0.34        18\n",
      "weighted avg       0.33      0.44      0.38        18\n",
      "\n",
      "-------------------------------------------------------------------------------------------------------------------\n"
     ]
    },
    {
     "name": "stderr",
     "output_type": "stream",
     "text": [
      "c:\\ProgramData\\Anaconda3\\lib\\site-packages\\sklearn\\metrics\\_classification.py:1344: UndefinedMetricWarning: Precision and F-score are ill-defined and being set to 0.0 in labels with no predicted samples. Use `zero_division` parameter to control this behavior.\n",
      "  _warn_prf(average, modifier, msg_start, len(result))\n",
      "c:\\ProgramData\\Anaconda3\\lib\\site-packages\\sklearn\\metrics\\_classification.py:1344: UndefinedMetricWarning: Precision and F-score are ill-defined and being set to 0.0 in labels with no predicted samples. Use `zero_division` parameter to control this behavior.\n",
      "  _warn_prf(average, modifier, msg_start, len(result))\n",
      "c:\\ProgramData\\Anaconda3\\lib\\site-packages\\sklearn\\metrics\\_classification.py:1344: UndefinedMetricWarning: Precision and F-score are ill-defined and being set to 0.0 in labels with no predicted samples. Use `zero_division` parameter to control this behavior.\n",
      "  _warn_prf(average, modifier, msg_start, len(result))\n",
      "[Parallel(n_jobs=-1)]: Using backend LokyBackend with 12 concurrent workers.\n",
      "[Parallel(n_jobs=-1)]: Done   3 out of   3 | elapsed:  2.5min finished\n"
     ]
    },
    {
     "name": "stdout",
     "output_type": "stream",
     "text": [
      "K-Fold #4\n",
      "Mean negativities for all classes: [0.3967772549840187, 0.3945131680328282, 0.389394941517759]\n",
      "Mean entropies for all classes: [5.5231159536862055e-15, 6.0483186512564265e-15, 6.536010547855043e-15]\n",
      "              precision    recall  f1-score   support\n",
      "\n",
      "           0       0.27      0.50      0.35         6\n",
      "           1       0.33      0.29      0.31         7\n",
      "           2       0.00      0.00      0.00         5\n",
      "\n",
      "    accuracy                           0.28        18\n",
      "   macro avg       0.20      0.26      0.22        18\n",
      "weighted avg       0.22      0.28      0.24        18\n",
      "\n",
      "-------------------------------------------------------------------------------------------------------------------\n"
     ]
    },
    {
     "name": "stderr",
     "output_type": "stream",
     "text": [
      "[Parallel(n_jobs=-1)]: Using backend LokyBackend with 12 concurrent workers.\n",
      "[Parallel(n_jobs=-1)]: Done   3 out of   3 | elapsed:  2.5min finished\n"
     ]
    },
    {
     "name": "stdout",
     "output_type": "stream",
     "text": [
      "K-Fold #5\n",
      "Mean negativities for all classes: [0.39860864689525044, 0.39542202351667927, 0.3962733963719478]\n",
      "Mean entropies for all classes: [6.4598089143397516e-15, 6.677994286626687e-15, 6.786887754604093e-15]\n",
      "              precision    recall  f1-score   support\n",
      "\n",
      "           0       0.50      0.50      0.50         6\n",
      "           1       0.33      0.14      0.20         7\n",
      "           2       0.11      0.20      0.14         5\n",
      "\n",
      "    accuracy                           0.28        18\n",
      "   macro avg       0.31      0.28      0.28        18\n",
      "weighted avg       0.33      0.28      0.28        18\n",
      "\n",
      "-------------------------------------------------------------------------------------------------------------------\n"
     ]
    },
    {
     "name": "stderr",
     "output_type": "stream",
     "text": [
      "[Parallel(n_jobs=-1)]: Using backend LokyBackend with 12 concurrent workers.\n",
      "[Parallel(n_jobs=-1)]: Done   3 out of   3 | elapsed:  2.5min finished\n"
     ]
    },
    {
     "name": "stdout",
     "output_type": "stream",
     "text": [
      "K-Fold #6\n",
      "Mean negativities for all classes: [0.39846592711397233, 0.3917432897102156, 0.38850582915454157]\n",
      "Mean entropies for all classes: [8.337468417742659e-15, 7.075091855232881e-15, 6.65044290715098e-15]\n",
      "              precision    recall  f1-score   support\n",
      "\n",
      "           0       0.17      0.17      0.17         6\n",
      "           1       0.00      0.00      0.00         7\n",
      "           2       0.00      0.00      0.00         5\n",
      "\n",
      "    accuracy                           0.06        18\n",
      "   macro avg       0.06      0.06      0.06        18\n",
      "weighted avg       0.06      0.06      0.06        18\n",
      "\n",
      "-------------------------------------------------------------------------------------------------------------------\n"
     ]
    },
    {
     "name": "stderr",
     "output_type": "stream",
     "text": [
      "[Parallel(n_jobs=-1)]: Using backend LokyBackend with 12 concurrent workers.\n",
      "[Parallel(n_jobs=-1)]: Done   3 out of   3 | elapsed:  2.5min finished\n"
     ]
    },
    {
     "name": "stdout",
     "output_type": "stream",
     "text": [
      "K-Fold #7\n",
      "Mean negativities for all classes: [0.3969789700361648, 0.3923949832920333, 0.398604752588375]\n",
      "Mean entropies for all classes: [1.093275214321255e-14, 5.069589613385036e-15, 5.1376202992547355e-15]\n",
      "              precision    recall  f1-score   support\n",
      "\n",
      "           0       0.00      0.00      0.00         6\n",
      "           1       0.50      0.14      0.22         7\n",
      "           2       0.27      0.80      0.40         5\n",
      "\n",
      "    accuracy                           0.28        18\n",
      "   macro avg       0.26      0.31      0.21        18\n",
      "weighted avg       0.27      0.28      0.20        18\n",
      "\n",
      "-------------------------------------------------------------------------------------------------------------------\n"
     ]
    },
    {
     "name": "stderr",
     "output_type": "stream",
     "text": [
      "[Parallel(n_jobs=-1)]: Using backend LokyBackend with 12 concurrent workers.\n",
      "[Parallel(n_jobs=-1)]: Done   3 out of   3 | elapsed:  2.5min finished\n"
     ]
    },
    {
     "name": "stdout",
     "output_type": "stream",
     "text": [
      "K-Fold #8\n",
      "Mean negativities for all classes: [0.39413065863657737, 0.39409116168475083, 0.3969149302401856]\n",
      "Mean entropies for all classes: [1.0960793509215108e-14, 6.4312577475694895e-15, 5.27109960316558e-15]\n",
      "              precision    recall  f1-score   support\n",
      "\n",
      "           0       0.33      0.50      0.40         6\n",
      "           1       0.67      0.29      0.40         7\n",
      "           2       0.00      0.00      0.00         4\n",
      "\n",
      "    accuracy                           0.29        17\n",
      "   macro avg       0.33      0.26      0.27        17\n",
      "weighted avg       0.39      0.29      0.31        17\n",
      "\n",
      "-------------------------------------------------------------------------------------------------------------------\n"
     ]
    },
    {
     "name": "stderr",
     "output_type": "stream",
     "text": [
      "[Parallel(n_jobs=-1)]: Using backend LokyBackend with 12 concurrent workers.\n",
      "[Parallel(n_jobs=-1)]: Done   3 out of   3 | elapsed:  2.5min finished\n"
     ]
    },
    {
     "name": "stdout",
     "output_type": "stream",
     "text": [
      "K-Fold #9\n",
      "Mean negativities for all classes: [0.3944986393203591, 0.3922730762126257, 0.3914426880651025]\n",
      "Mean entropies for all classes: [5.959504453261197e-15, 1.0274378538512671e-14, 7.386800621327636e-15]\n",
      "              precision    recall  f1-score   support\n",
      "\n",
      "           0       0.00      0.00      0.00         5\n",
      "           1       0.18      0.25      0.21         8\n",
      "           2       0.00      0.00      0.00         4\n",
      "\n",
      "    accuracy                           0.12        17\n",
      "   macro avg       0.06      0.08      0.07        17\n",
      "weighted avg       0.09      0.12      0.10        17\n",
      "\n",
      "-------------------------------------------------------------------------------------------------------------------\n",
      "AVG: Scores = 0.2800653594771242 F1-Scores = 0.2444402954000477 Negativity = [0.3956741724877344, 0.39581654535688043, 0.39192305034622194] Entropy = [7.009385127402475e-15, 7.012274739435089e-15, 6.795447054724436e-15]\n"
     ]
    },
    {
     "name": "stderr",
     "output_type": "stream",
     "text": [
      "[Parallel(n_jobs=-1)]: Using backend LokyBackend with 12 concurrent workers.\n",
      "[Parallel(n_jobs=-1)]: Done   3 out of   3 | elapsed:  2.5min finished\n"
     ]
    },
    {
     "name": "stdout",
     "output_type": "stream",
     "text": [
      "K-Fold #0\n",
      "Mean negativities for all classes: [0.39389195456910503, 0.3958649225002323, 0.39169187844977027]\n",
      "Mean entropies for all classes: [8.714710223422207e-15, 6.41194668349528e-15, 6.8250430071748576e-15]\n",
      "              precision    recall  f1-score   support\n",
      "\n",
      "           0       0.25      0.50      0.33         6\n",
      "           1       0.00      0.00      0.00         7\n",
      "           2       0.17      0.20      0.18         5\n",
      "\n",
      "    accuracy                           0.22        18\n",
      "   macro avg       0.14      0.23      0.17        18\n",
      "weighted avg       0.13      0.22      0.16        18\n",
      "\n",
      "-------------------------------------------------------------------------------------------------------------------\n"
     ]
    },
    {
     "name": "stderr",
     "output_type": "stream",
     "text": [
      "c:\\ProgramData\\Anaconda3\\lib\\site-packages\\sklearn\\metrics\\_classification.py:1344: UndefinedMetricWarning: Precision and F-score are ill-defined and being set to 0.0 in labels with no predicted samples. Use `zero_division` parameter to control this behavior.\n",
      "  _warn_prf(average, modifier, msg_start, len(result))\n",
      "c:\\ProgramData\\Anaconda3\\lib\\site-packages\\sklearn\\metrics\\_classification.py:1344: UndefinedMetricWarning: Precision and F-score are ill-defined and being set to 0.0 in labels with no predicted samples. Use `zero_division` parameter to control this behavior.\n",
      "  _warn_prf(average, modifier, msg_start, len(result))\n",
      "c:\\ProgramData\\Anaconda3\\lib\\site-packages\\sklearn\\metrics\\_classification.py:1344: UndefinedMetricWarning: Precision and F-score are ill-defined and being set to 0.0 in labels with no predicted samples. Use `zero_division` parameter to control this behavior.\n",
      "  _warn_prf(average, modifier, msg_start, len(result))\n",
      "[Parallel(n_jobs=-1)]: Using backend LokyBackend with 12 concurrent workers.\n",
      "[Parallel(n_jobs=-1)]: Done   3 out of   3 | elapsed:  2.5min finished\n"
     ]
    },
    {
     "name": "stdout",
     "output_type": "stream",
     "text": [
      "K-Fold #1\n",
      "Mean negativities for all classes: [0.3903991135531615, 0.3939764900221266, 0.39757189678913024]\n",
      "Mean entropies for all classes: [8.097045585637415e-15, 7.11443516517579e-15, 5.417035122662219e-15]\n",
      "              precision    recall  f1-score   support\n",
      "\n",
      "           0       0.75      0.50      0.60         6\n",
      "           1       0.43      0.43      0.43         7\n",
      "           2       0.43      0.60      0.50         5\n",
      "\n",
      "    accuracy                           0.50        18\n",
      "   macro avg       0.54      0.51      0.51        18\n",
      "weighted avg       0.54      0.50      0.51        18\n",
      "\n",
      "-------------------------------------------------------------------------------------------------------------------\n"
     ]
    },
    {
     "name": "stderr",
     "output_type": "stream",
     "text": [
      "[Parallel(n_jobs=-1)]: Using backend LokyBackend with 12 concurrent workers.\n",
      "[Parallel(n_jobs=-1)]: Done   3 out of   3 | elapsed:  2.5min finished\n"
     ]
    },
    {
     "name": "stdout",
     "output_type": "stream",
     "text": [
      "K-Fold #2\n",
      "Mean negativities for all classes: [0.3955761875955426, 0.3976756448129343, 0.3837028719598025]\n",
      "Mean entropies for all classes: [8.979732562595746e-15, 8.842101117673142e-15, 7.453709278077968e-15]\n",
      "              precision    recall  f1-score   support\n",
      "\n",
      "           0       0.00      0.00      0.00         6\n",
      "           1       0.50      0.43      0.46         7\n",
      "           2       0.00      0.00      0.00         5\n",
      "\n",
      "    accuracy                           0.17        18\n",
      "   macro avg       0.17      0.14      0.15        18\n",
      "weighted avg       0.19      0.17      0.18        18\n",
      "\n",
      "-------------------------------------------------------------------------------------------------------------------\n"
     ]
    },
    {
     "name": "stderr",
     "output_type": "stream",
     "text": [
      "[Parallel(n_jobs=-1)]: Using backend LokyBackend with 12 concurrent workers.\n",
      "[Parallel(n_jobs=-1)]: Done   3 out of   3 | elapsed:  2.5min finished\n"
     ]
    },
    {
     "name": "stdout",
     "output_type": "stream",
     "text": [
      "K-Fold #3\n",
      "Mean negativities for all classes: [0.3929138136878055, 0.3980735137212226, 0.39192572841510803]\n",
      "Mean entropies for all classes: [5.69577341411327e-15, 6.892255584623505e-15, 7.645344643910284e-15]\n",
      "              precision    recall  f1-score   support\n",
      "\n",
      "           0       0.50      1.00      0.67         6\n",
      "           1       0.67      0.29      0.40         7\n",
      "           2       0.33      0.20      0.25         5\n",
      "\n",
      "    accuracy                           0.50        18\n",
      "   macro avg       0.50      0.50      0.44        18\n",
      "weighted avg       0.52      0.50      0.45        18\n",
      "\n",
      "-------------------------------------------------------------------------------------------------------------------\n"
     ]
    },
    {
     "name": "stderr",
     "output_type": "stream",
     "text": [
      "[Parallel(n_jobs=-1)]: Using backend LokyBackend with 12 concurrent workers.\n",
      "[Parallel(n_jobs=-1)]: Done   3 out of   3 | elapsed:  2.5min finished\n"
     ]
    },
    {
     "name": "stdout",
     "output_type": "stream",
     "text": [
      "K-Fold #4\n",
      "Mean negativities for all classes: [0.39405024149358847, 0.39186185013745767, 0.391113397504254]\n",
      "Mean entropies for all classes: [6.7343921990185306e-15, 6.865989826240075e-15, 6.50651826304747e-15]\n",
      "              precision    recall  f1-score   support\n",
      "\n",
      "           0       0.27      0.50      0.35         6\n",
      "           1       0.67      0.29      0.40         7\n",
      "           2       0.00      0.00      0.00         5\n",
      "\n",
      "    accuracy                           0.28        18\n",
      "   macro avg       0.31      0.26      0.25        18\n",
      "weighted avg       0.35      0.28      0.27        18\n",
      "\n",
      "-------------------------------------------------------------------------------------------------------------------\n"
     ]
    },
    {
     "name": "stderr",
     "output_type": "stream",
     "text": [
      "[Parallel(n_jobs=-1)]: Using backend LokyBackend with 12 concurrent workers.\n",
      "[Parallel(n_jobs=-1)]: Done   3 out of   3 | elapsed:  2.5min finished\n"
     ]
    },
    {
     "name": "stdout",
     "output_type": "stream",
     "text": [
      "K-Fold #5\n",
      "Mean negativities for all classes: [0.3949169971332156, 0.3900804013285518, 0.3954681421318351]\n",
      "Mean entropies for all classes: [7.172678280988493e-15, 6.719617081370029e-15, 5.923147564389192e-15]\n",
      "              precision    recall  f1-score   support\n",
      "\n",
      "           0       0.25      0.50      0.33         6\n",
      "           1       0.00      0.00      0.00         7\n",
      "           2       0.00      0.00      0.00         5\n",
      "\n",
      "    accuracy                           0.17        18\n",
      "   macro avg       0.08      0.17      0.11        18\n",
      "weighted avg       0.08      0.17      0.11        18\n",
      "\n",
      "-------------------------------------------------------------------------------------------------------------------\n"
     ]
    },
    {
     "name": "stderr",
     "output_type": "stream",
     "text": [
      "[Parallel(n_jobs=-1)]: Using backend LokyBackend with 12 concurrent workers.\n",
      "[Parallel(n_jobs=-1)]: Done   3 out of   3 | elapsed:  2.5min finished\n"
     ]
    },
    {
     "name": "stdout",
     "output_type": "stream",
     "text": [
      "K-Fold #6\n",
      "Mean negativities for all classes: [0.3899419981691608, 0.39430792657635866, 0.39048250832398734]\n",
      "Mean entropies for all classes: [5.0884275306917294e-15, 5.793267308668629e-15, 1.8176059416473355e-15]\n",
      "              precision    recall  f1-score   support\n",
      "\n",
      "           0       0.30      0.50      0.37         6\n",
      "           1       0.14      0.14      0.14         7\n",
      "           2       1.00      0.20      0.33         5\n",
      "\n",
      "    accuracy                           0.28        18\n",
      "   macro avg       0.48      0.28      0.28        18\n",
      "weighted avg       0.43      0.28      0.27        18\n",
      "\n",
      "-------------------------------------------------------------------------------------------------------------------\n"
     ]
    },
    {
     "name": "stderr",
     "output_type": "stream",
     "text": [
      "[Parallel(n_jobs=-1)]: Using backend LokyBackend with 12 concurrent workers.\n",
      "[Parallel(n_jobs=-1)]: Done   3 out of   3 | elapsed:  2.5min finished\n"
     ]
    },
    {
     "name": "stdout",
     "output_type": "stream",
     "text": [
      "K-Fold #7\n",
      "Mean negativities for all classes: [0.3943255505090297, 0.3950295001060412, 0.3878086039622608]\n",
      "Mean entropies for all classes: [8.003808292511168e-15, 7.639348792773024e-15, 7.042357880233314e-15]\n",
      "              precision    recall  f1-score   support\n",
      "\n",
      "           0       0.00      0.00      0.00         6\n",
      "           1       0.17      0.14      0.15         7\n",
      "           2       0.11      0.20      0.14         5\n",
      "\n",
      "    accuracy                           0.11        18\n",
      "   macro avg       0.09      0.11      0.10        18\n",
      "weighted avg       0.10      0.11      0.10        18\n",
      "\n",
      "-------------------------------------------------------------------------------------------------------------------\n"
     ]
    },
    {
     "name": "stderr",
     "output_type": "stream",
     "text": [
      "[Parallel(n_jobs=-1)]: Using backend LokyBackend with 12 concurrent workers.\n",
      "[Parallel(n_jobs=-1)]: Done   3 out of   3 | elapsed:  2.5min finished\n"
     ]
    },
    {
     "name": "stdout",
     "output_type": "stream",
     "text": [
      "K-Fold #8\n",
      "Mean negativities for all classes: [0.39370654941356376, 0.3940198637590937, 0.3918233876271826]\n",
      "Mean entropies for all classes: [6.0384286907034076e-15, 7.11289042169807e-15, 5.0505896398412385e-15]\n",
      "              precision    recall  f1-score   support\n",
      "\n",
      "           0       0.60      0.50      0.55         6\n",
      "           1       0.00      0.00      0.00         7\n",
      "           2       0.33      1.00      0.50         4\n",
      "\n",
      "    accuracy                           0.41        17\n",
      "   macro avg       0.31      0.50      0.35        17\n",
      "weighted avg       0.29      0.41      0.31        17\n",
      "\n",
      "-------------------------------------------------------------------------------------------------------------------\n"
     ]
    },
    {
     "name": "stderr",
     "output_type": "stream",
     "text": [
      "c:\\ProgramData\\Anaconda3\\lib\\site-packages\\sklearn\\metrics\\_classification.py:1344: UndefinedMetricWarning: Precision and F-score are ill-defined and being set to 0.0 in labels with no predicted samples. Use `zero_division` parameter to control this behavior.\n",
      "  _warn_prf(average, modifier, msg_start, len(result))\n",
      "c:\\ProgramData\\Anaconda3\\lib\\site-packages\\sklearn\\metrics\\_classification.py:1344: UndefinedMetricWarning: Precision and F-score are ill-defined and being set to 0.0 in labels with no predicted samples. Use `zero_division` parameter to control this behavior.\n",
      "  _warn_prf(average, modifier, msg_start, len(result))\n",
      "c:\\ProgramData\\Anaconda3\\lib\\site-packages\\sklearn\\metrics\\_classification.py:1344: UndefinedMetricWarning: Precision and F-score are ill-defined and being set to 0.0 in labels with no predicted samples. Use `zero_division` parameter to control this behavior.\n",
      "  _warn_prf(average, modifier, msg_start, len(result))\n",
      "[Parallel(n_jobs=-1)]: Using backend LokyBackend with 12 concurrent workers.\n",
      "[Parallel(n_jobs=-1)]: Done   3 out of   3 | elapsed:  2.5min finished\n"
     ]
    },
    {
     "name": "stdout",
     "output_type": "stream",
     "text": [
      "K-Fold #9\n",
      "Mean negativities for all classes: [0.3939226727883145, 0.394210972270169, 0.39495413183458444]\n",
      "Mean entropies for all classes: [5.739862594069053e-15, 6.718796363365774e-15, 8.109165858099831e-15]\n",
      "              precision    recall  f1-score   support\n",
      "\n",
      "           0       0.00      0.00      0.00         5\n",
      "           1       0.67      0.25      0.36         8\n",
      "           2       0.18      0.50      0.27         4\n",
      "\n",
      "    accuracy                           0.24        17\n",
      "   macro avg       0.28      0.25      0.21        17\n",
      "weighted avg       0.36      0.24      0.23        17\n",
      "\n",
      "-------------------------------------------------------------------------------------------------------------------\n",
      "AVG: Scores = 0.2869281045751634 F1-Scores = 0.2577284643461114 Negativity = [0.39381625183970254, 0.39398250012147273, 0.3923182347894265] Entropy = [7.317233304697448e-15, 6.8761719578251416e-15, 8.425180986115617e-15]\n"
     ]
    },
    {
     "name": "stderr",
     "output_type": "stream",
     "text": [
      "[Parallel(n_jobs=-1)]: Using backend LokyBackend with 12 concurrent workers.\n",
      "[Parallel(n_jobs=-1)]: Done   3 out of   3 | elapsed:  2.5min finished\n"
     ]
    },
    {
     "name": "stdout",
     "output_type": "stream",
     "text": [
      "K-Fold #0\n",
      "Mean negativities for all classes: [0.3919236848343126, 0.3929012087940804, 0.3937146959892961]\n",
      "Mean entropies for all classes: [8.368881237133476e-15, 8.515185474868496e-15, 1.0019904844664329e-14]\n",
      "              precision    recall  f1-score   support\n",
      "\n",
      "           0       0.20      0.17      0.18         6\n",
      "           1       0.40      0.29      0.33         7\n",
      "           2       0.12      0.20      0.15         5\n",
      "\n",
      "    accuracy                           0.22        18\n",
      "   macro avg       0.24      0.22      0.22        18\n",
      "weighted avg       0.26      0.22      0.23        18\n",
      "\n",
      "-------------------------------------------------------------------------------------------------------------------\n"
     ]
    },
    {
     "name": "stderr",
     "output_type": "stream",
     "text": [
      "[Parallel(n_jobs=-1)]: Using backend LokyBackend with 12 concurrent workers.\n",
      "[Parallel(n_jobs=-1)]: Done   3 out of   3 | elapsed:  2.5min finished\n"
     ]
    },
    {
     "name": "stdout",
     "output_type": "stream",
     "text": [
      "K-Fold #1\n",
      "Mean negativities for all classes: [0.3932758949203511, 0.39124666998351343, 0.3880321057906066]\n",
      "Mean entropies for all classes: [8.675073706410834e-15, 6.359658352529504e-15, 7.318046412436793e-15]\n",
      "              precision    recall  f1-score   support\n",
      "\n",
      "           0       0.00      0.00      0.00         6\n",
      "           1       0.20      0.29      0.24         7\n",
      "           2       0.00      0.00      0.00         5\n",
      "\n",
      "    accuracy                           0.11        18\n",
      "   macro avg       0.07      0.10      0.08        18\n",
      "weighted avg       0.08      0.11      0.09        18\n",
      "\n",
      "-------------------------------------------------------------------------------------------------------------------\n"
     ]
    },
    {
     "name": "stderr",
     "output_type": "stream",
     "text": [
      "[Parallel(n_jobs=-1)]: Using backend LokyBackend with 12 concurrent workers.\n",
      "[Parallel(n_jobs=-1)]: Done   3 out of   3 | elapsed:  2.5min finished\n"
     ]
    },
    {
     "name": "stdout",
     "output_type": "stream",
     "text": [
      "K-Fold #2\n",
      "Mean negativities for all classes: [0.39228303232578615, 0.3929327076127904, 0.4019103191669874]\n",
      "Mean entropies for all classes: [7.77245685694761e-15, 8.270614297055847e-15, 5.881184269986918e-15]\n",
      "              precision    recall  f1-score   support\n",
      "\n",
      "           0       0.50      0.17      0.25         6\n",
      "           1       0.38      0.43      0.40         7\n",
      "           2       0.38      0.60      0.46         5\n",
      "\n",
      "    accuracy                           0.39        18\n",
      "   macro avg       0.42      0.40      0.37        18\n",
      "weighted avg       0.42      0.39      0.37        18\n",
      "\n",
      "-------------------------------------------------------------------------------------------------------------------\n"
     ]
    },
    {
     "name": "stderr",
     "output_type": "stream",
     "text": [
      "[Parallel(n_jobs=-1)]: Using backend LokyBackend with 12 concurrent workers.\n",
      "[Parallel(n_jobs=-1)]: Done   3 out of   3 | elapsed:  2.5min finished\n"
     ]
    },
    {
     "name": "stdout",
     "output_type": "stream",
     "text": [
      "K-Fold #3\n",
      "Mean negativities for all classes: [0.3992692901973156, 0.395402978458517, 0.38769929491376287]\n",
      "Mean entropies for all classes: [8.80213514586824e-15, 6.552125246389453e-15, 5.007273681173543e-15]\n",
      "              precision    recall  f1-score   support\n",
      "\n",
      "           0       0.27      0.50      0.35         6\n",
      "           1       0.00      0.00      0.00         7\n",
      "           2       0.33      0.40      0.36         5\n",
      "\n",
      "    accuracy                           0.28        18\n",
      "   macro avg       0.20      0.30      0.24        18\n",
      "weighted avg       0.18      0.28      0.22        18\n",
      "\n",
      "-------------------------------------------------------------------------------------------------------------------\n"
     ]
    },
    {
     "name": "stderr",
     "output_type": "stream",
     "text": [
      "[Parallel(n_jobs=-1)]: Using backend LokyBackend with 12 concurrent workers.\n",
      "[Parallel(n_jobs=-1)]: Done   3 out of   3 | elapsed:  2.5min finished\n"
     ]
    },
    {
     "name": "stdout",
     "output_type": "stream",
     "text": [
      "K-Fold #4\n",
      "Mean negativities for all classes: [0.3923442423226306, 0.3849876311563425, 0.39662568834464906]\n",
      "Mean entropies for all classes: [7.277667094065401e-15, 6.188918798383165e-15, 8.289572683759582e-15]\n",
      "              precision    recall  f1-score   support\n",
      "\n",
      "           0       0.56      0.83      0.67         6\n",
      "           1       0.56      0.71      0.63         7\n",
      "           2       0.00      0.00      0.00         5\n",
      "\n",
      "    accuracy                           0.56        18\n",
      "   macro avg       0.37      0.52      0.43        18\n",
      "weighted avg       0.40      0.56      0.47        18\n",
      "\n",
      "-------------------------------------------------------------------------------------------------------------------\n"
     ]
    },
    {
     "name": "stderr",
     "output_type": "stream",
     "text": [
      "c:\\ProgramData\\Anaconda3\\lib\\site-packages\\sklearn\\metrics\\_classification.py:1344: UndefinedMetricWarning: Precision and F-score are ill-defined and being set to 0.0 in labels with no predicted samples. Use `zero_division` parameter to control this behavior.\n",
      "  _warn_prf(average, modifier, msg_start, len(result))\n",
      "c:\\ProgramData\\Anaconda3\\lib\\site-packages\\sklearn\\metrics\\_classification.py:1344: UndefinedMetricWarning: Precision and F-score are ill-defined and being set to 0.0 in labels with no predicted samples. Use `zero_division` parameter to control this behavior.\n",
      "  _warn_prf(average, modifier, msg_start, len(result))\n",
      "c:\\ProgramData\\Anaconda3\\lib\\site-packages\\sklearn\\metrics\\_classification.py:1344: UndefinedMetricWarning: Precision and F-score are ill-defined and being set to 0.0 in labels with no predicted samples. Use `zero_division` parameter to control this behavior.\n",
      "  _warn_prf(average, modifier, msg_start, len(result))\n",
      "[Parallel(n_jobs=-1)]: Using backend LokyBackend with 12 concurrent workers.\n",
      "[Parallel(n_jobs=-1)]: Done   3 out of   3 | elapsed:  2.5min finished\n"
     ]
    },
    {
     "name": "stdout",
     "output_type": "stream",
     "text": [
      "K-Fold #5\n",
      "Mean negativities for all classes: [0.39010961272922, 0.39461373601909927, 0.392976381282985]\n",
      "Mean entropies for all classes: [9.926731222552691e-15, 5.941222717741897e-15, 7.856043483705996e-15]\n",
      "              precision    recall  f1-score   support\n",
      "\n",
      "           0       0.56      0.83      0.67         6\n",
      "           1       0.50      0.29      0.36         7\n",
      "           2       0.00      0.00      0.00         5\n",
      "\n",
      "    accuracy                           0.39        18\n",
      "   macro avg       0.35      0.37      0.34        18\n",
      "weighted avg       0.38      0.39      0.36        18\n",
      "\n",
      "-------------------------------------------------------------------------------------------------------------------\n"
     ]
    },
    {
     "name": "stderr",
     "output_type": "stream",
     "text": [
      "[Parallel(n_jobs=-1)]: Using backend LokyBackend with 12 concurrent workers.\n",
      "[Parallel(n_jobs=-1)]: Done   3 out of   3 | elapsed:  2.6min finished\n"
     ]
    },
    {
     "name": "stdout",
     "output_type": "stream",
     "text": [
      "K-Fold #6\n",
      "Mean negativities for all classes: [0.3923451698804011, 0.3962666943549543, 0.3970684910047082]\n",
      "Mean entropies for all classes: [7.93149997635025e-15, 7.75461383188372e-15, 4.9776457806462994e-15]\n",
      "              precision    recall  f1-score   support\n",
      "\n",
      "           0       0.36      0.67      0.47         6\n",
      "           1       0.00      0.00      0.00         7\n",
      "           2       0.29      0.40      0.33         5\n",
      "\n",
      "    accuracy                           0.33        18\n",
      "   macro avg       0.22      0.36      0.27        18\n",
      "weighted avg       0.20      0.33      0.25        18\n",
      "\n",
      "-------------------------------------------------------------------------------------------------------------------\n"
     ]
    },
    {
     "name": "stderr",
     "output_type": "stream",
     "text": [
      "c:\\ProgramData\\Anaconda3\\lib\\site-packages\\sklearn\\metrics\\_classification.py:1344: UndefinedMetricWarning: Precision and F-score are ill-defined and being set to 0.0 in labels with no predicted samples. Use `zero_division` parameter to control this behavior.\n",
      "  _warn_prf(average, modifier, msg_start, len(result))\n",
      "c:\\ProgramData\\Anaconda3\\lib\\site-packages\\sklearn\\metrics\\_classification.py:1344: UndefinedMetricWarning: Precision and F-score are ill-defined and being set to 0.0 in labels with no predicted samples. Use `zero_division` parameter to control this behavior.\n",
      "  _warn_prf(average, modifier, msg_start, len(result))\n",
      "c:\\ProgramData\\Anaconda3\\lib\\site-packages\\sklearn\\metrics\\_classification.py:1344: UndefinedMetricWarning: Precision and F-score are ill-defined and being set to 0.0 in labels with no predicted samples. Use `zero_division` parameter to control this behavior.\n",
      "  _warn_prf(average, modifier, msg_start, len(result))\n",
      "[Parallel(n_jobs=-1)]: Using backend LokyBackend with 12 concurrent workers.\n",
      "[Parallel(n_jobs=-1)]: Done   3 out of   3 | elapsed:  2.5min finished\n"
     ]
    },
    {
     "name": "stdout",
     "output_type": "stream",
     "text": [
      "K-Fold #7\n",
      "Mean negativities for all classes: [0.3931558601504357, 0.3940135756998222, 0.3986393486317894]\n",
      "Mean entropies for all classes: [7.450941772528583e-15, 6.941373986698104e-15, 6.820817600054459e-15]\n",
      "              precision    recall  f1-score   support\n",
      "\n",
      "           0       0.33      0.83      0.48         6\n",
      "           1       0.00      0.00      0.00         7\n",
      "           2       0.00      0.00      0.00         5\n",
      "\n",
      "    accuracy                           0.28        18\n",
      "   macro avg       0.11      0.28      0.16        18\n",
      "weighted avg       0.11      0.28      0.16        18\n",
      "\n",
      "-------------------------------------------------------------------------------------------------------------------\n"
     ]
    },
    {
     "name": "stderr",
     "output_type": "stream",
     "text": [
      "[Parallel(n_jobs=-1)]: Using backend LokyBackend with 12 concurrent workers.\n",
      "[Parallel(n_jobs=-1)]: Done   3 out of   3 | elapsed:  2.5min finished\n"
     ]
    },
    {
     "name": "stdout",
     "output_type": "stream",
     "text": [
      "K-Fold #8\n",
      "Mean negativities for all classes: [0.3948297952367122, 0.39148278931084446, 0.3982364331658514]\n",
      "Mean entropies for all classes: [7.490683908009402e-15, 7.330173048239744e-15, 6.542195337293929e-15]\n",
      "              precision    recall  f1-score   support\n",
      "\n",
      "           0       0.36      0.67      0.47         6\n",
      "           1       0.67      0.29      0.40         7\n",
      "           2       0.00      0.00      0.00         4\n",
      "\n",
      "    accuracy                           0.35        17\n",
      "   macro avg       0.34      0.32      0.29        17\n",
      "weighted avg       0.40      0.35      0.33        17\n",
      "\n",
      "-------------------------------------------------------------------------------------------------------------------\n"
     ]
    },
    {
     "name": "stderr",
     "output_type": "stream",
     "text": [
      "[Parallel(n_jobs=-1)]: Using backend LokyBackend with 12 concurrent workers.\n",
      "[Parallel(n_jobs=-1)]: Done   3 out of   3 | elapsed:  2.5min finished\n"
     ]
    },
    {
     "name": "stdout",
     "output_type": "stream",
     "text": [
      "K-Fold #9\n",
      "Mean negativities for all classes: [0.39376815348485666, 0.38899755501633293, 0.39781492474484975]\n",
      "Mean entropies for all classes: [7.0043364625255125e-15, 6.511069155199379e-15, 7.837813362951276e-15]\n",
      "              precision    recall  f1-score   support\n",
      "\n",
      "           0       0.00      0.00      0.00         5\n",
      "           1       1.00      0.25      0.40         8\n",
      "           2       0.33      1.00      0.50         4\n",
      "\n",
      "    accuracy                           0.35        17\n",
      "   macro avg       0.44      0.42      0.30        17\n",
      "weighted avg       0.55      0.35      0.31        17\n",
      "\n",
      "-------------------------------------------------------------------------------------------------------------------\n",
      "AVG: Scores = 0.3261437908496732 F1-Scores = 0.2701692588457294 Negativity = [0.392846529872563, 0.39085155689815704, 0.39570868636852136] Entropy = [8.967990518888767e-15, 7.450926157125711e-15, 7.308085141330125e-15]\n"
     ]
    },
    {
     "name": "stderr",
     "output_type": "stream",
     "text": [
      "[Parallel(n_jobs=-1)]: Using backend LokyBackend with 12 concurrent workers.\n",
      "[Parallel(n_jobs=-1)]: Done   3 out of   3 | elapsed:  2.5min finished\n"
     ]
    },
    {
     "name": "stdout",
     "output_type": "stream",
     "text": [
      "K-Fold #0\n",
      "Mean negativities for all classes: [0.39032144869061897, 0.39113914312169074, 0.39179530182831385]\n",
      "Mean entropies for all classes: [8.110926151005337e-15, 7.256079068538094e-15, 6.278738447280788e-15]\n",
      "              precision    recall  f1-score   support\n",
      "\n",
      "           0       0.50      0.50      0.50         6\n",
      "           1       0.25      0.14      0.18         7\n",
      "           2       0.12      0.20      0.15         5\n",
      "\n",
      "    accuracy                           0.28        18\n",
      "   macro avg       0.29      0.28      0.28        18\n",
      "weighted avg       0.30      0.28      0.28        18\n",
      "\n",
      "-------------------------------------------------------------------------------------------------------------------\n"
     ]
    },
    {
     "name": "stderr",
     "output_type": "stream",
     "text": [
      "[Parallel(n_jobs=-1)]: Using backend LokyBackend with 12 concurrent workers.\n",
      "[Parallel(n_jobs=-1)]: Done   3 out of   3 | elapsed:  2.5min finished\n"
     ]
    },
    {
     "name": "stdout",
     "output_type": "stream",
     "text": [
      "K-Fold #1\n",
      "Mean negativities for all classes: [0.3940784928456955, 0.3910499266699477, 0.3962275375419419]\n",
      "Mean entropies for all classes: [6.413222177117218e-15, 7.521048358182622e-15, 7.819045616324006e-15]\n",
      "              precision    recall  f1-score   support\n",
      "\n",
      "           0       0.38      0.83      0.53         6\n",
      "           1       0.00      0.00      0.00         7\n",
      "           2       0.00      0.00      0.00         5\n",
      "\n",
      "    accuracy                           0.28        18\n",
      "   macro avg       0.13      0.28      0.18        18\n",
      "weighted avg       0.13      0.28      0.18        18\n",
      "\n",
      "-------------------------------------------------------------------------------------------------------------------\n"
     ]
    },
    {
     "name": "stderr",
     "output_type": "stream",
     "text": [
      "[Parallel(n_jobs=-1)]: Using backend LokyBackend with 12 concurrent workers.\n",
      "[Parallel(n_jobs=-1)]: Done   3 out of   3 | elapsed:  2.5min finished\n"
     ]
    },
    {
     "name": "stdout",
     "output_type": "stream",
     "text": [
      "K-Fold #2\n",
      "Mean negativities for all classes: [0.3908314614426916, 0.3974689533884482, 0.39752969535953997]\n",
      "Mean entropies for all classes: [7.907356445723212e-15, 5.759003292099285e-15, 8.591153991477549e-15]\n",
      "              precision    recall  f1-score   support\n",
      "\n",
      "           0       0.33      0.50      0.40         6\n",
      "           1       0.60      0.43      0.50         7\n",
      "           2       0.00      0.00      0.00         5\n",
      "\n",
      "    accuracy                           0.33        18\n",
      "   macro avg       0.31      0.31      0.30        18\n",
      "weighted avg       0.34      0.33      0.33        18\n",
      "\n",
      "-------------------------------------------------------------------------------------------------------------------\n"
     ]
    },
    {
     "name": "stderr",
     "output_type": "stream",
     "text": [
      "[Parallel(n_jobs=-1)]: Using backend LokyBackend with 12 concurrent workers.\n",
      "[Parallel(n_jobs=-1)]: Done   3 out of   3 | elapsed:  2.5min finished\n"
     ]
    },
    {
     "name": "stdout",
     "output_type": "stream",
     "text": [
      "K-Fold #3\n",
      "Mean negativities for all classes: [0.39815444968905084, 0.39614492238927435, 0.3867814771873277]\n",
      "Mean entropies for all classes: [8.981064903049245e-15, 6.189870351607401e-15, 7.066393027751778e-15]\n",
      "              precision    recall  f1-score   support\n",
      "\n",
      "           0       0.38      0.83      0.53         6\n",
      "           1       1.00      0.14      0.25         7\n",
      "           2       0.00      0.00      0.00         5\n",
      "\n",
      "    accuracy                           0.33        18\n",
      "   macro avg       0.46      0.33      0.26        18\n",
      "weighted avg       0.52      0.33      0.27        18\n",
      "\n",
      "-------------------------------------------------------------------------------------------------------------------\n"
     ]
    },
    {
     "name": "stderr",
     "output_type": "stream",
     "text": [
      "[Parallel(n_jobs=-1)]: Using backend LokyBackend with 12 concurrent workers.\n",
      "[Parallel(n_jobs=-1)]: Done   3 out of   3 | elapsed:  2.5min finished\n"
     ]
    },
    {
     "name": "stdout",
     "output_type": "stream",
     "text": [
      "K-Fold #4\n",
      "Mean negativities for all classes: [0.3929713534063832, 0.39773288557949205, 0.39459302443408895]\n",
      "Mean entropies for all classes: [5.567702015520456e-15, 6.590318746306341e-15, 5.783992120801815e-15]\n",
      "              precision    recall  f1-score   support\n",
      "\n",
      "           0       0.22      0.33      0.27         6\n",
      "           1       0.00      0.00      0.00         7\n",
      "           2       0.22      0.40      0.29         5\n",
      "\n",
      "    accuracy                           0.22        18\n",
      "   macro avg       0.15      0.24      0.18        18\n",
      "weighted avg       0.14      0.22      0.17        18\n",
      "\n",
      "-------------------------------------------------------------------------------------------------------------------\n"
     ]
    },
    {
     "name": "stderr",
     "output_type": "stream",
     "text": [
      "c:\\ProgramData\\Anaconda3\\lib\\site-packages\\sklearn\\metrics\\_classification.py:1344: UndefinedMetricWarning: Precision and F-score are ill-defined and being set to 0.0 in labels with no predicted samples. Use `zero_division` parameter to control this behavior.\n",
      "  _warn_prf(average, modifier, msg_start, len(result))\n",
      "c:\\ProgramData\\Anaconda3\\lib\\site-packages\\sklearn\\metrics\\_classification.py:1344: UndefinedMetricWarning: Precision and F-score are ill-defined and being set to 0.0 in labels with no predicted samples. Use `zero_division` parameter to control this behavior.\n",
      "  _warn_prf(average, modifier, msg_start, len(result))\n",
      "c:\\ProgramData\\Anaconda3\\lib\\site-packages\\sklearn\\metrics\\_classification.py:1344: UndefinedMetricWarning: Precision and F-score are ill-defined and being set to 0.0 in labels with no predicted samples. Use `zero_division` parameter to control this behavior.\n",
      "  _warn_prf(average, modifier, msg_start, len(result))\n",
      "[Parallel(n_jobs=-1)]: Using backend LokyBackend with 12 concurrent workers.\n",
      "[Parallel(n_jobs=-1)]: Done   3 out of   3 | elapsed:  2.5min finished\n"
     ]
    },
    {
     "name": "stdout",
     "output_type": "stream",
     "text": [
      "K-Fold #5\n",
      "Mean negativities for all classes: [0.40179897587361213, 0.3987556966153954, 0.3872251395537843]\n",
      "Mean entropies for all classes: [6.326117018092332e-15, 8.861660522976603e-15, 6.7015439623895596e-15]\n",
      "              precision    recall  f1-score   support\n",
      "\n",
      "           0       0.38      0.83      0.53         6\n",
      "           1       0.20      0.14      0.17         7\n",
      "           2       0.00      0.00      0.00         5\n",
      "\n",
      "    accuracy                           0.33        18\n",
      "   macro avg       0.19      0.33      0.23        18\n",
      "weighted avg       0.21      0.33      0.24        18\n",
      "\n",
      "-------------------------------------------------------------------------------------------------------------------\n"
     ]
    },
    {
     "name": "stderr",
     "output_type": "stream",
     "text": [
      "c:\\ProgramData\\Anaconda3\\lib\\site-packages\\sklearn\\metrics\\_classification.py:1344: UndefinedMetricWarning: Precision and F-score are ill-defined and being set to 0.0 in labels with no predicted samples. Use `zero_division` parameter to control this behavior.\n",
      "  _warn_prf(average, modifier, msg_start, len(result))\n",
      "c:\\ProgramData\\Anaconda3\\lib\\site-packages\\sklearn\\metrics\\_classification.py:1344: UndefinedMetricWarning: Precision and F-score are ill-defined and being set to 0.0 in labels with no predicted samples. Use `zero_division` parameter to control this behavior.\n",
      "  _warn_prf(average, modifier, msg_start, len(result))\n",
      "c:\\ProgramData\\Anaconda3\\lib\\site-packages\\sklearn\\metrics\\_classification.py:1344: UndefinedMetricWarning: Precision and F-score are ill-defined and being set to 0.0 in labels with no predicted samples. Use `zero_division` parameter to control this behavior.\n",
      "  _warn_prf(average, modifier, msg_start, len(result))\n",
      "[Parallel(n_jobs=-1)]: Using backend LokyBackend with 12 concurrent workers.\n",
      "[Parallel(n_jobs=-1)]: Done   3 out of   3 | elapsed:  2.5min finished\n"
     ]
    },
    {
     "name": "stdout",
     "output_type": "stream",
     "text": [
      "K-Fold #6\n",
      "Mean negativities for all classes: [0.39870445622429584, 0.395624981432782, 0.3971661346631127]\n",
      "Mean entropies for all classes: [9.22870223163429e-15, 5.909779008377191e-15, 7.000279564980788e-15]\n",
      "              precision    recall  f1-score   support\n",
      "\n",
      "           0       0.29      0.33      0.31         6\n",
      "           1       0.25      0.14      0.18         7\n",
      "           2       0.43      0.60      0.50         5\n",
      "\n",
      "    accuracy                           0.33        18\n",
      "   macro avg       0.32      0.36      0.33        18\n",
      "weighted avg       0.31      0.33      0.31        18\n",
      "\n",
      "-------------------------------------------------------------------------------------------------------------------\n"
     ]
    },
    {
     "name": "stderr",
     "output_type": "stream",
     "text": [
      "[Parallel(n_jobs=-1)]: Using backend LokyBackend with 12 concurrent workers.\n",
      "[Parallel(n_jobs=-1)]: Done   3 out of   3 | elapsed:  2.5min finished\n"
     ]
    },
    {
     "name": "stdout",
     "output_type": "stream",
     "text": [
      "K-Fold #7\n",
      "Mean negativities for all classes: [0.3904639585553761, 0.39370360911556523, 0.400494967598616]\n",
      "Mean entropies for all classes: [6.94895815876795e-15, 6.694472573465613e-15, 5.045087544788344e-15]\n",
      "              precision    recall  f1-score   support\n",
      "\n",
      "           0       0.30      0.50      0.37         6\n",
      "           1       0.00      0.00      0.00         7\n",
      "           2       0.25      0.40      0.31         5\n",
      "\n",
      "    accuracy                           0.28        18\n",
      "   macro avg       0.18      0.30      0.23        18\n",
      "weighted avg       0.17      0.28      0.21        18\n",
      "\n",
      "-------------------------------------------------------------------------------------------------------------------\n"
     ]
    },
    {
     "name": "stderr",
     "output_type": "stream",
     "text": [
      "c:\\ProgramData\\Anaconda3\\lib\\site-packages\\sklearn\\metrics\\_classification.py:1344: UndefinedMetricWarning: Precision and F-score are ill-defined and being set to 0.0 in labels with no predicted samples. Use `zero_division` parameter to control this behavior.\n",
      "  _warn_prf(average, modifier, msg_start, len(result))\n",
      "c:\\ProgramData\\Anaconda3\\lib\\site-packages\\sklearn\\metrics\\_classification.py:1344: UndefinedMetricWarning: Precision and F-score are ill-defined and being set to 0.0 in labels with no predicted samples. Use `zero_division` parameter to control this behavior.\n",
      "  _warn_prf(average, modifier, msg_start, len(result))\n",
      "c:\\ProgramData\\Anaconda3\\lib\\site-packages\\sklearn\\metrics\\_classification.py:1344: UndefinedMetricWarning: Precision and F-score are ill-defined and being set to 0.0 in labels with no predicted samples. Use `zero_division` parameter to control this behavior.\n",
      "  _warn_prf(average, modifier, msg_start, len(result))\n",
      "[Parallel(n_jobs=-1)]: Using backend LokyBackend with 12 concurrent workers.\n",
      "[Parallel(n_jobs=-1)]: Done   3 out of   3 | elapsed:  2.5min finished\n"
     ]
    },
    {
     "name": "stdout",
     "output_type": "stream",
     "text": [
      "K-Fold #8\n",
      "Mean negativities for all classes: [0.3895457116731963, 0.3933781380997254, 0.38288453781239434]\n",
      "Mean entropies for all classes: [4.214677207023189e-15, 7.016995811666672e-15, 6.312125132633801e-15]\n",
      "              precision    recall  f1-score   support\n",
      "\n",
      "           0       0.38      1.00      0.55         6\n",
      "           1       1.00      0.14      0.25         7\n",
      "           2       0.00      0.00      0.00         4\n",
      "\n",
      "    accuracy                           0.41        17\n",
      "   macro avg       0.46      0.38      0.27        17\n",
      "weighted avg       0.54      0.41      0.30        17\n",
      "\n",
      "-------------------------------------------------------------------------------------------------------------------\n"
     ]
    },
    {
     "name": "stderr",
     "output_type": "stream",
     "text": [
      "c:\\ProgramData\\Anaconda3\\lib\\site-packages\\sklearn\\metrics\\_classification.py:1344: UndefinedMetricWarning: Precision and F-score are ill-defined and being set to 0.0 in labels with no predicted samples. Use `zero_division` parameter to control this behavior.\n",
      "  _warn_prf(average, modifier, msg_start, len(result))\n",
      "c:\\ProgramData\\Anaconda3\\lib\\site-packages\\sklearn\\metrics\\_classification.py:1344: UndefinedMetricWarning: Precision and F-score are ill-defined and being set to 0.0 in labels with no predicted samples. Use `zero_division` parameter to control this behavior.\n",
      "  _warn_prf(average, modifier, msg_start, len(result))\n",
      "c:\\ProgramData\\Anaconda3\\lib\\site-packages\\sklearn\\metrics\\_classification.py:1344: UndefinedMetricWarning: Precision and F-score are ill-defined and being set to 0.0 in labels with no predicted samples. Use `zero_division` parameter to control this behavior.\n",
      "  _warn_prf(average, modifier, msg_start, len(result))\n",
      "[Parallel(n_jobs=-1)]: Using backend LokyBackend with 12 concurrent workers.\n",
      "[Parallel(n_jobs=-1)]: Done   3 out of   3 | elapsed:  2.5min finished\n"
     ]
    },
    {
     "name": "stdout",
     "output_type": "stream",
     "text": [
      "K-Fold #9\n",
      "Mean negativities for all classes: [0.39769141766372196, 0.3922991903846833, 0.4001214210115224]\n",
      "Mean entropies for all classes: [5.5777716857734746e-15, 6.7830232188414565e-15, 8.911517863586833e-15]\n",
      "              precision    recall  f1-score   support\n",
      "\n",
      "           0       0.30      0.60      0.40         5\n",
      "           1       1.00      0.12      0.22         8\n",
      "           2       0.17      0.25      0.20         4\n",
      "\n",
      "    accuracy                           0.29        17\n",
      "   macro avg       0.49      0.33      0.27        17\n",
      "weighted avg       0.60      0.29      0.27        17\n",
      "\n",
      "-------------------------------------------------------------------------------------------------------------------\n",
      "AVG: Scores = 0.30947712418300655 F1-Scores = 0.25245129626708573 Negativity = [0.3910852978802078, 0.39378531901919506, 0.3952767033968933] Entropy = [7.215247888941406e-15, 7.251105383874615e-15, 7.419171243100016e-15]\n"
     ]
    },
    {
     "name": "stderr",
     "output_type": "stream",
     "text": [
      "[Parallel(n_jobs=-1)]: Using backend LokyBackend with 12 concurrent workers.\n",
      "[Parallel(n_jobs=-1)]: Done   3 out of   3 | elapsed:  2.5min finished\n"
     ]
    },
    {
     "name": "stdout",
     "output_type": "stream",
     "text": [
      "K-Fold #0\n",
      "Mean negativities for all classes: [0.39249435332958715, 0.39581387750064934, 0.39264730581364243]\n",
      "Mean entropies for all classes: [8.578323754377184e-15, 5.7358233556874035e-15, 6.8854405114659994e-15]\n",
      "              precision    recall  f1-score   support\n",
      "\n",
      "           0       0.17      0.17      0.17         6\n",
      "           1       0.17      0.14      0.15         7\n",
      "           2       0.33      0.40      0.36         5\n",
      "\n",
      "    accuracy                           0.22        18\n",
      "   macro avg       0.22      0.24      0.23        18\n",
      "weighted avg       0.21      0.22      0.22        18\n",
      "\n",
      "-------------------------------------------------------------------------------------------------------------------\n"
     ]
    },
    {
     "name": "stderr",
     "output_type": "stream",
     "text": [
      "[Parallel(n_jobs=-1)]: Using backend LokyBackend with 12 concurrent workers.\n",
      "[Parallel(n_jobs=-1)]: Done   3 out of   3 | elapsed:  2.5min finished\n"
     ]
    },
    {
     "name": "stdout",
     "output_type": "stream",
     "text": [
      "K-Fold #1\n",
      "Mean negativities for all classes: [0.3979818787487461, 0.3879387800267631, 0.3969994081401984]\n",
      "Mean entropies for all classes: [6.184512203707203e-15, 6.607561658028916e-15, 7.3428132182876e-15]\n",
      "              precision    recall  f1-score   support\n",
      "\n",
      "           0       0.55      1.00      0.71         6\n",
      "           1       0.00      0.00      0.00         7\n",
      "           2       0.43      0.60      0.50         5\n",
      "\n",
      "    accuracy                           0.50        18\n",
      "   macro avg       0.32      0.53      0.40        18\n",
      "weighted avg       0.30      0.50      0.37        18\n",
      "\n",
      "-------------------------------------------------------------------------------------------------------------------\n"
     ]
    },
    {
     "name": "stderr",
     "output_type": "stream",
     "text": [
      "c:\\ProgramData\\Anaconda3\\lib\\site-packages\\sklearn\\metrics\\_classification.py:1344: UndefinedMetricWarning: Precision and F-score are ill-defined and being set to 0.0 in labels with no predicted samples. Use `zero_division` parameter to control this behavior.\n",
      "  _warn_prf(average, modifier, msg_start, len(result))\n",
      "c:\\ProgramData\\Anaconda3\\lib\\site-packages\\sklearn\\metrics\\_classification.py:1344: UndefinedMetricWarning: Precision and F-score are ill-defined and being set to 0.0 in labels with no predicted samples. Use `zero_division` parameter to control this behavior.\n",
      "  _warn_prf(average, modifier, msg_start, len(result))\n",
      "c:\\ProgramData\\Anaconda3\\lib\\site-packages\\sklearn\\metrics\\_classification.py:1344: UndefinedMetricWarning: Precision and F-score are ill-defined and being set to 0.0 in labels with no predicted samples. Use `zero_division` parameter to control this behavior.\n",
      "  _warn_prf(average, modifier, msg_start, len(result))\n",
      "[Parallel(n_jobs=-1)]: Using backend LokyBackend with 12 concurrent workers.\n",
      "[Parallel(n_jobs=-1)]: Done   3 out of   3 | elapsed:  2.5min finished\n"
     ]
    },
    {
     "name": "stdout",
     "output_type": "stream",
     "text": [
      "K-Fold #2\n",
      "Mean negativities for all classes: [0.39557820445490455, 0.39047756280649, 0.39637945267869473]\n",
      "Mean entropies for all classes: [8.654054712531329e-15, 9.102856095512444e-15, 9.640049202676934e-15]\n",
      "              precision    recall  f1-score   support\n",
      "\n",
      "           0       0.33      0.17      0.22         6\n",
      "           1       0.38      0.71      0.50         7\n",
      "           2       0.00      0.00      0.00         5\n",
      "\n",
      "    accuracy                           0.33        18\n",
      "   macro avg       0.24      0.29      0.24        18\n",
      "weighted avg       0.26      0.33      0.27        18\n",
      "\n",
      "-------------------------------------------------------------------------------------------------------------------\n"
     ]
    },
    {
     "name": "stderr",
     "output_type": "stream",
     "text": [
      "[Parallel(n_jobs=-1)]: Using backend LokyBackend with 12 concurrent workers.\n",
      "[Parallel(n_jobs=-1)]: Done   3 out of   3 | elapsed:  2.5min finished\n"
     ]
    },
    {
     "name": "stdout",
     "output_type": "stream",
     "text": [
      "K-Fold #3\n",
      "Mean negativities for all classes: [0.3968117238958262, 0.39484616224219965, 0.38805734270767467]\n",
      "Mean entropies for all classes: [5.383825298431719e-15, 6.437190877952476e-15, 5.505124220812165e-15]\n",
      "              precision    recall  f1-score   support\n",
      "\n",
      "           0       0.31      0.67      0.42         6\n",
      "           1       0.00      0.00      0.00         7\n",
      "           2       0.25      0.20      0.22         5\n",
      "\n",
      "    accuracy                           0.28        18\n",
      "   macro avg       0.19      0.29      0.21        18\n",
      "weighted avg       0.17      0.28      0.20        18\n",
      "\n",
      "-------------------------------------------------------------------------------------------------------------------\n"
     ]
    },
    {
     "name": "stderr",
     "output_type": "stream",
     "text": [
      "[Parallel(n_jobs=-1)]: Using backend LokyBackend with 12 concurrent workers.\n",
      "[Parallel(n_jobs=-1)]: Done   3 out of   3 | elapsed:  2.5min finished\n"
     ]
    },
    {
     "name": "stdout",
     "output_type": "stream",
     "text": [
      "K-Fold #4\n",
      "Mean negativities for all classes: [0.39339580860491263, 0.3936748119763249, 0.38523956469106263]\n",
      "Mean entropies for all classes: [4.190564047590579e-15, 7.380695575288361e-15, 6.400614577470825e-15]\n",
      "              precision    recall  f1-score   support\n",
      "\n",
      "           0       0.00      0.00      0.00         6\n",
      "           1       0.50      0.57      0.53         7\n",
      "           2       0.10      0.20      0.13         5\n",
      "\n",
      "    accuracy                           0.28        18\n",
      "   macro avg       0.20      0.26      0.22        18\n",
      "weighted avg       0.22      0.28      0.24        18\n",
      "\n",
      "-------------------------------------------------------------------------------------------------------------------\n"
     ]
    },
    {
     "name": "stderr",
     "output_type": "stream",
     "text": [
      "c:\\ProgramData\\Anaconda3\\lib\\site-packages\\sklearn\\metrics\\_classification.py:1344: UndefinedMetricWarning: Precision and F-score are ill-defined and being set to 0.0 in labels with no predicted samples. Use `zero_division` parameter to control this behavior.\n",
      "  _warn_prf(average, modifier, msg_start, len(result))\n",
      "c:\\ProgramData\\Anaconda3\\lib\\site-packages\\sklearn\\metrics\\_classification.py:1344: UndefinedMetricWarning: Precision and F-score are ill-defined and being set to 0.0 in labels with no predicted samples. Use `zero_division` parameter to control this behavior.\n",
      "  _warn_prf(average, modifier, msg_start, len(result))\n",
      "c:\\ProgramData\\Anaconda3\\lib\\site-packages\\sklearn\\metrics\\_classification.py:1344: UndefinedMetricWarning: Precision and F-score are ill-defined and being set to 0.0 in labels with no predicted samples. Use `zero_division` parameter to control this behavior.\n",
      "  _warn_prf(average, modifier, msg_start, len(result))\n",
      "[Parallel(n_jobs=-1)]: Using backend LokyBackend with 12 concurrent workers.\n",
      "[Parallel(n_jobs=-1)]: Done   3 out of   3 | elapsed:  2.5min finished\n"
     ]
    },
    {
     "name": "stdout",
     "output_type": "stream",
     "text": [
      "K-Fold #5\n",
      "Mean negativities for all classes: [0.391769455364597, 0.3896214796421892, 0.3887824747687321]\n",
      "Mean entropies for all classes: [7.647698666407824e-15, 5.52438874203465e-15, 5.626141069193593e-15]\n",
      "              precision    recall  f1-score   support\n",
      "\n",
      "           0       0.67      0.33      0.44         6\n",
      "           1       0.00      0.00      0.00         7\n",
      "           2       0.36      1.00      0.53         5\n",
      "\n",
      "    accuracy                           0.39        18\n",
      "   macro avg       0.34      0.44      0.32        18\n",
      "weighted avg       0.32      0.39      0.29        18\n",
      "\n",
      "-------------------------------------------------------------------------------------------------------------------\n"
     ]
    },
    {
     "name": "stderr",
     "output_type": "stream",
     "text": [
      "[Parallel(n_jobs=-1)]: Using backend LokyBackend with 12 concurrent workers.\n",
      "[Parallel(n_jobs=-1)]: Done   3 out of   3 | elapsed:  2.5min finished\n"
     ]
    },
    {
     "name": "stdout",
     "output_type": "stream",
     "text": [
      "K-Fold #6\n",
      "Mean negativities for all classes: [0.3952018264336746, 0.39276285950095907, 0.3890960580320512]\n",
      "Mean entropies for all classes: [7.291138646160587e-15, 6.808260363671309e-15, 7.494577053616494e-15]\n",
      "              precision    recall  f1-score   support\n",
      "\n",
      "           0       0.00      0.00      0.00         6\n",
      "           1       0.00      0.00      0.00         7\n",
      "           2       0.08      0.20      0.11         5\n",
      "\n",
      "    accuracy                           0.06        18\n",
      "   macro avg       0.03      0.07      0.04        18\n",
      "weighted avg       0.02      0.06      0.03        18\n",
      "\n",
      "-------------------------------------------------------------------------------------------------------------------\n"
     ]
    },
    {
     "name": "stderr",
     "output_type": "stream",
     "text": [
      "[Parallel(n_jobs=-1)]: Using backend LokyBackend with 12 concurrent workers.\n",
      "[Parallel(n_jobs=-1)]: Done   3 out of   3 | elapsed:  2.5min finished\n"
     ]
    },
    {
     "name": "stdout",
     "output_type": "stream",
     "text": [
      "K-Fold #7\n",
      "Mean negativities for all classes: [0.3958031886956599, 0.394934282916257, 0.39063713420133483]\n",
      "Mean entropies for all classes: [7.811822062840076e-15, 7.030907705106123e-15, 6.5154383559118194e-15]\n",
      "              precision    recall  f1-score   support\n",
      "\n",
      "           0       0.12      0.17      0.14         6\n",
      "           1       0.25      0.14      0.18         7\n",
      "           2       0.17      0.20      0.18         5\n",
      "\n",
      "    accuracy                           0.17        18\n",
      "   macro avg       0.18      0.17      0.17        18\n",
      "weighted avg       0.19      0.17      0.17        18\n",
      "\n",
      "-------------------------------------------------------------------------------------------------------------------\n"
     ]
    },
    {
     "name": "stderr",
     "output_type": "stream",
     "text": [
      "[Parallel(n_jobs=-1)]: Using backend LokyBackend with 12 concurrent workers.\n",
      "[Parallel(n_jobs=-1)]: Done   3 out of   3 | elapsed:  2.5min finished\n"
     ]
    },
    {
     "name": "stdout",
     "output_type": "stream",
     "text": [
      "K-Fold #8\n",
      "Mean negativities for all classes: [0.3904363206222072, 0.39328286171697846, 0.393565753723149]\n",
      "Mean entropies for all classes: [8.722939927922174e-15, 6.9578722362813105e-15, 6.433636661822423e-15]\n",
      "              precision    recall  f1-score   support\n",
      "\n",
      "           0       0.14      0.17      0.15         6\n",
      "           1       0.00      0.00      0.00         7\n",
      "           2       0.00      0.00      0.00         4\n",
      "\n",
      "    accuracy                           0.06        17\n",
      "   macro avg       0.05      0.06      0.05        17\n",
      "weighted avg       0.05      0.06      0.05        17\n",
      "\n",
      "-------------------------------------------------------------------------------------------------------------------\n"
     ]
    },
    {
     "name": "stderr",
     "output_type": "stream",
     "text": [
      "[Parallel(n_jobs=-1)]: Using backend LokyBackend with 12 concurrent workers.\n",
      "[Parallel(n_jobs=-1)]: Done   3 out of   3 | elapsed:  2.5min finished\n"
     ]
    },
    {
     "name": "stdout",
     "output_type": "stream",
     "text": [
      "K-Fold #9\n",
      "Mean negativities for all classes: [0.39052813415992393, 0.38726211876206146, 0.3928675611954831]\n",
      "Mean entropies for all classes: [7.301249879310963e-15, 6.244298434938856e-15, 5.611052379839183e-15]\n",
      "              precision    recall  f1-score   support\n",
      "\n",
      "           0       0.33      0.60      0.43         5\n",
      "           1       0.00      0.00      0.00         8\n",
      "           2       0.25      0.50      0.33         4\n",
      "\n",
      "    accuracy                           0.29        17\n",
      "   macro avg       0.19      0.37      0.25        17\n",
      "weighted avg       0.16      0.29      0.20        17\n",
      "\n",
      "-------------------------------------------------------------------------------------------------------------------\n",
      "AVG: Scores = 0.257516339869281 F1-Scores = 0.214210368235136 Negativity = [0.3936518455479596, 0.3943066889719025, 0.3941450733133631] Entropy = [7.066529207176863e-15, 6.7116290266745726e-15, 9.13232000357357e-15]\n"
     ]
    },
    {
     "name": "stderr",
     "output_type": "stream",
     "text": [
      "c:\\ProgramData\\Anaconda3\\lib\\site-packages\\sklearn\\metrics\\_classification.py:1344: UndefinedMetricWarning: Precision and F-score are ill-defined and being set to 0.0 in labels with no predicted samples. Use `zero_division` parameter to control this behavior.\n",
      "  _warn_prf(average, modifier, msg_start, len(result))\n",
      "c:\\ProgramData\\Anaconda3\\lib\\site-packages\\sklearn\\metrics\\_classification.py:1344: UndefinedMetricWarning: Precision and F-score are ill-defined and being set to 0.0 in labels with no predicted samples. Use `zero_division` parameter to control this behavior.\n",
      "  _warn_prf(average, modifier, msg_start, len(result))\n",
      "c:\\ProgramData\\Anaconda3\\lib\\site-packages\\sklearn\\metrics\\_classification.py:1344: UndefinedMetricWarning: Precision and F-score are ill-defined and being set to 0.0 in labels with no predicted samples. Use `zero_division` parameter to control this behavior.\n",
      "  _warn_prf(average, modifier, msg_start, len(result))\n",
      "[Parallel(n_jobs=-1)]: Using backend LokyBackend with 12 concurrent workers.\n",
      "[Parallel(n_jobs=-1)]: Done   3 out of   3 | elapsed:  2.5min finished\n"
     ]
    },
    {
     "name": "stdout",
     "output_type": "stream",
     "text": [
      "K-Fold #0\n",
      "Mean negativities for all classes: [0.3984171320502367, 0.39213171584523426, 0.38959840293676645]\n",
      "Mean entropies for all classes: [7.132839218941947e-15, 7.841449908823047e-15, 7.067276290764256e-15]\n",
      "              precision    recall  f1-score   support\n",
      "\n",
      "           0       0.38      0.50      0.43         6\n",
      "           1       0.60      0.86      0.71         7\n",
      "           2       0.00      0.00      0.00         5\n",
      "\n",
      "    accuracy                           0.50        18\n",
      "   macro avg       0.33      0.45      0.38        18\n",
      "weighted avg       0.36      0.50      0.42        18\n",
      "\n",
      "-------------------------------------------------------------------------------------------------------------------\n"
     ]
    },
    {
     "name": "stderr",
     "output_type": "stream",
     "text": [
      "c:\\ProgramData\\Anaconda3\\lib\\site-packages\\sklearn\\metrics\\_classification.py:1344: UndefinedMetricWarning: Precision and F-score are ill-defined and being set to 0.0 in labels with no predicted samples. Use `zero_division` parameter to control this behavior.\n",
      "  _warn_prf(average, modifier, msg_start, len(result))\n",
      "c:\\ProgramData\\Anaconda3\\lib\\site-packages\\sklearn\\metrics\\_classification.py:1344: UndefinedMetricWarning: Precision and F-score are ill-defined and being set to 0.0 in labels with no predicted samples. Use `zero_division` parameter to control this behavior.\n",
      "  _warn_prf(average, modifier, msg_start, len(result))\n",
      "c:\\ProgramData\\Anaconda3\\lib\\site-packages\\sklearn\\metrics\\_classification.py:1344: UndefinedMetricWarning: Precision and F-score are ill-defined and being set to 0.0 in labels with no predicted samples. Use `zero_division` parameter to control this behavior.\n",
      "  _warn_prf(average, modifier, msg_start, len(result))\n",
      "[Parallel(n_jobs=-1)]: Using backend LokyBackend with 12 concurrent workers.\n",
      "[Parallel(n_jobs=-1)]: Done   3 out of   3 | elapsed:  2.5min finished\n"
     ]
    },
    {
     "name": "stdout",
     "output_type": "stream",
     "text": [
      "K-Fold #1\n",
      "Mean negativities for all classes: [0.3954347882655108, 0.3916488667095257, 0.39500508232393927]\n",
      "Mean entropies for all classes: [6.2149902783093066e-15, 9.074810335114846e-15, 9.81112640229141e-15]\n",
      "              precision    recall  f1-score   support\n",
      "\n",
      "           0       0.29      0.67      0.40         6\n",
      "           1       0.00      0.00      0.00         7\n",
      "           2       0.00      0.00      0.00         5\n",
      "\n",
      "    accuracy                           0.22        18\n",
      "   macro avg       0.10      0.22      0.13        18\n",
      "weighted avg       0.10      0.22      0.13        18\n",
      "\n",
      "-------------------------------------------------------------------------------------------------------------------\n"
     ]
    },
    {
     "name": "stderr",
     "output_type": "stream",
     "text": [
      "c:\\ProgramData\\Anaconda3\\lib\\site-packages\\sklearn\\metrics\\_classification.py:1344: UndefinedMetricWarning: Precision and F-score are ill-defined and being set to 0.0 in labels with no predicted samples. Use `zero_division` parameter to control this behavior.\n",
      "  _warn_prf(average, modifier, msg_start, len(result))\n",
      "c:\\ProgramData\\Anaconda3\\lib\\site-packages\\sklearn\\metrics\\_classification.py:1344: UndefinedMetricWarning: Precision and F-score are ill-defined and being set to 0.0 in labels with no predicted samples. Use `zero_division` parameter to control this behavior.\n",
      "  _warn_prf(average, modifier, msg_start, len(result))\n",
      "c:\\ProgramData\\Anaconda3\\lib\\site-packages\\sklearn\\metrics\\_classification.py:1344: UndefinedMetricWarning: Precision and F-score are ill-defined and being set to 0.0 in labels with no predicted samples. Use `zero_division` parameter to control this behavior.\n",
      "  _warn_prf(average, modifier, msg_start, len(result))\n",
      "[Parallel(n_jobs=-1)]: Using backend LokyBackend with 12 concurrent workers.\n",
      "[Parallel(n_jobs=-1)]: Done   3 out of   3 | elapsed:  2.5min finished\n"
     ]
    },
    {
     "name": "stdout",
     "output_type": "stream",
     "text": [
      "K-Fold #2\n",
      "Mean negativities for all classes: [0.3899457002175588, 0.39498470670270136, 0.39689675338225994]\n",
      "Mean entropies for all classes: [3.922100498948251e-15, 7.231093476461203e-15, 6.543135063368636e-15]\n",
      "              precision    recall  f1-score   support\n",
      "\n",
      "           0       0.33      0.17      0.22         6\n",
      "           1       0.71      0.71      0.71         7\n",
      "           2       0.25      0.40      0.31         5\n",
      "\n",
      "    accuracy                           0.44        18\n",
      "   macro avg       0.43      0.43      0.41        18\n",
      "weighted avg       0.46      0.44      0.44        18\n",
      "\n",
      "-------------------------------------------------------------------------------------------------------------------\n"
     ]
    },
    {
     "name": "stderr",
     "output_type": "stream",
     "text": [
      "[Parallel(n_jobs=-1)]: Using backend LokyBackend with 12 concurrent workers.\n",
      "[Parallel(n_jobs=-1)]: Done   3 out of   3 | elapsed:  2.5min finished\n"
     ]
    },
    {
     "name": "stdout",
     "output_type": "stream",
     "text": [
      "K-Fold #3\n",
      "Mean negativities for all classes: [0.39362350605146296, 0.3934246841492039, 0.3919425479116309]\n",
      "Mean entropies for all classes: [6.6174449395524725e-15, 6.5791341112043446e-15, 5.547321626231779e-15]\n",
      "              precision    recall  f1-score   support\n",
      "\n",
      "           0       0.67      0.33      0.44         6\n",
      "           1       0.25      0.14      0.18         7\n",
      "           2       0.27      0.60      0.37         5\n",
      "\n",
      "    accuracy                           0.33        18\n",
      "   macro avg       0.40      0.36      0.33        18\n",
      "weighted avg       0.40      0.33      0.32        18\n",
      "\n",
      "-------------------------------------------------------------------------------------------------------------------\n"
     ]
    },
    {
     "name": "stderr",
     "output_type": "stream",
     "text": [
      "[Parallel(n_jobs=-1)]: Using backend LokyBackend with 12 concurrent workers.\n",
      "[Parallel(n_jobs=-1)]: Done   3 out of   3 | elapsed:  2.5min finished\n"
     ]
    },
    {
     "name": "stdout",
     "output_type": "stream",
     "text": [
      "K-Fold #4\n",
      "Mean negativities for all classes: [0.3961562777891966, 0.39783761862183603, 0.393465866121242]\n",
      "Mean entropies for all classes: [8.637037883070679e-15, 7.893086914979277e-15, 1.0055033164778776e-14]\n",
      "              precision    recall  f1-score   support\n",
      "\n",
      "           0       0.40      0.33      0.36         6\n",
      "           1       0.25      0.29      0.27         7\n",
      "           2       0.20      0.20      0.20         5\n",
      "\n",
      "    accuracy                           0.28        18\n",
      "   macro avg       0.28      0.27      0.28        18\n",
      "weighted avg       0.29      0.28      0.28        18\n",
      "\n",
      "-------------------------------------------------------------------------------------------------------------------\n"
     ]
    },
    {
     "name": "stderr",
     "output_type": "stream",
     "text": [
      "[Parallel(n_jobs=-1)]: Using backend LokyBackend with 12 concurrent workers.\n",
      "[Parallel(n_jobs=-1)]: Done   3 out of   3 | elapsed:  2.5min finished\n"
     ]
    },
    {
     "name": "stdout",
     "output_type": "stream",
     "text": [
      "K-Fold #5\n",
      "Mean negativities for all classes: [0.38954964658269, 0.3955107591525671, 0.3954958656964614]\n",
      "Mean entropies for all classes: [3.882386983918308e-15, 5.685252508451952e-15, 7.308438568805693e-15]\n",
      "              precision    recall  f1-score   support\n",
      "\n",
      "           0       0.20      0.17      0.18         6\n",
      "           1       0.45      0.71      0.56         7\n",
      "           2       1.00      0.40      0.57         5\n",
      "\n",
      "    accuracy                           0.44        18\n",
      "   macro avg       0.55      0.43      0.44        18\n",
      "weighted avg       0.52      0.44      0.44        18\n",
      "\n",
      "-------------------------------------------------------------------------------------------------------------------\n"
     ]
    },
    {
     "name": "stderr",
     "output_type": "stream",
     "text": [
      "[Parallel(n_jobs=-1)]: Using backend LokyBackend with 12 concurrent workers.\n",
      "[Parallel(n_jobs=-1)]: Done   3 out of   3 | elapsed:  2.5min finished\n"
     ]
    },
    {
     "name": "stdout",
     "output_type": "stream",
     "text": [
      "K-Fold #6\n",
      "Mean negativities for all classes: [0.394292826096418, 0.39101557580052104, 0.3887762521877562]\n",
      "Mean entropies for all classes: [8.944689689523197e-15, 6.698364676883522e-15, 7.809374434266716e-15]\n",
      "              precision    recall  f1-score   support\n",
      "\n",
      "           0       0.50      0.67      0.57         6\n",
      "           1       0.40      0.29      0.33         7\n",
      "           2       0.00      0.00      0.00         5\n",
      "\n",
      "    accuracy                           0.33        18\n",
      "   macro avg       0.30      0.32      0.30        18\n",
      "weighted avg       0.32      0.33      0.32        18\n",
      "\n",
      "-------------------------------------------------------------------------------------------------------------------\n"
     ]
    },
    {
     "name": "stderr",
     "output_type": "stream",
     "text": [
      "[Parallel(n_jobs=-1)]: Using backend LokyBackend with 12 concurrent workers.\n",
      "[Parallel(n_jobs=-1)]: Done   3 out of   3 | elapsed:  2.5min finished\n"
     ]
    },
    {
     "name": "stdout",
     "output_type": "stream",
     "text": [
      "K-Fold #7\n",
      "Mean negativities for all classes: [0.38900929788913763, 0.3852319075114653, 0.39679417072159356]\n",
      "Mean entropies for all classes: [8.335688125677008e-15, 6.5536143677969564e-15, 6.983619546336943e-15]\n",
      "              precision    recall  f1-score   support\n",
      "\n",
      "           0       0.14      0.17      0.15         6\n",
      "           1       0.00      0.00      0.00         7\n",
      "           2       0.27      0.60      0.37         5\n",
      "\n",
      "    accuracy                           0.22        18\n",
      "   macro avg       0.14      0.26      0.18        18\n",
      "weighted avg       0.12      0.22      0.16        18\n",
      "\n",
      "-------------------------------------------------------------------------------------------------------------------\n"
     ]
    },
    {
     "name": "stderr",
     "output_type": "stream",
     "text": [
      "c:\\ProgramData\\Anaconda3\\lib\\site-packages\\sklearn\\metrics\\_classification.py:1344: UndefinedMetricWarning: Precision and F-score are ill-defined and being set to 0.0 in labels with no predicted samples. Use `zero_division` parameter to control this behavior.\n",
      "  _warn_prf(average, modifier, msg_start, len(result))\n",
      "c:\\ProgramData\\Anaconda3\\lib\\site-packages\\sklearn\\metrics\\_classification.py:1344: UndefinedMetricWarning: Precision and F-score are ill-defined and being set to 0.0 in labels with no predicted samples. Use `zero_division` parameter to control this behavior.\n",
      "  _warn_prf(average, modifier, msg_start, len(result))\n",
      "c:\\ProgramData\\Anaconda3\\lib\\site-packages\\sklearn\\metrics\\_classification.py:1344: UndefinedMetricWarning: Precision and F-score are ill-defined and being set to 0.0 in labels with no predicted samples. Use `zero_division` parameter to control this behavior.\n",
      "  _warn_prf(average, modifier, msg_start, len(result))\n",
      "[Parallel(n_jobs=-1)]: Using backend LokyBackend with 12 concurrent workers.\n",
      "[Parallel(n_jobs=-1)]: Done   3 out of   3 | elapsed:  2.5min finished\n"
     ]
    },
    {
     "name": "stdout",
     "output_type": "stream",
     "text": [
      "K-Fold #8\n",
      "Mean negativities for all classes: [0.3933456070373596, 0.3870463533188745, 0.3950698439123346]\n",
      "Mean entropies for all classes: [4.906704952718074e-15, 7.90452201171489e-15, 6.835843277625139e-15]\n",
      "              precision    recall  f1-score   support\n",
      "\n",
      "           0       0.33      0.50      0.40         6\n",
      "           1       0.33      0.14      0.20         7\n",
      "           2       0.00      0.00      0.00         4\n",
      "\n",
      "    accuracy                           0.24        17\n",
      "   macro avg       0.22      0.21      0.20        17\n",
      "weighted avg       0.25      0.24      0.22        17\n",
      "\n",
      "-------------------------------------------------------------------------------------------------------------------\n"
     ]
    },
    {
     "name": "stderr",
     "output_type": "stream",
     "text": [
      "[Parallel(n_jobs=-1)]: Using backend LokyBackend with 12 concurrent workers.\n",
      "[Parallel(n_jobs=-1)]: Done   3 out of   3 | elapsed:  2.5min finished\n"
     ]
    },
    {
     "name": "stdout",
     "output_type": "stream",
     "text": [
      "K-Fold #9\n",
      "Mean negativities for all classes: [0.3961797620424963, 0.4002513604250377, 0.39075021120120396]\n",
      "Mean entropies for all classes: [8.522494394253488e-15, 6.871292334151261e-15, 7.054506741543158e-15]\n",
      "              precision    recall  f1-score   support\n",
      "\n",
      "           0       0.00      0.00      0.00         5\n",
      "           1       0.33      0.12      0.18         8\n",
      "           2       0.17      0.50      0.25         4\n",
      "\n",
      "    accuracy                           0.18        17\n",
      "   macro avg       0.17      0.21      0.14        17\n",
      "weighted avg       0.20      0.18      0.14        17\n",
      "\n",
      "-------------------------------------------------------------------------------------------------------------------\n",
      "AVG: Scores = 0.31895424836601305 F1-Scores = 0.27948160771690184 Negativity = [0.39338241694407916, 0.39402957909965863, 0.3939423867675067] Entropy = [7.347188472843083e-15, 8.366975671905186e-15, 5.8987763462593634e-15]\n"
     ]
    },
    {
     "name": "stderr",
     "output_type": "stream",
     "text": [
      "[Parallel(n_jobs=-1)]: Using backend LokyBackend with 12 concurrent workers.\n",
      "[Parallel(n_jobs=-1)]: Done   3 out of   3 | elapsed:  2.5min finished\n"
     ]
    },
    {
     "name": "stdout",
     "output_type": "stream",
     "text": [
      "K-Fold #0\n",
      "Mean negativities for all classes: [0.38903924699148923, 0.390734850918164, 0.3889236303017652]\n",
      "Mean entropies for all classes: [5.269545333821172e-15, 6.881150447136732e-15, 7.27864307808362e-15]\n",
      "              precision    recall  f1-score   support\n",
      "\n",
      "           0       0.36      0.67      0.47         6\n",
      "           1       0.00      0.00      0.00         7\n",
      "           2       0.29      0.40      0.33         5\n",
      "\n",
      "    accuracy                           0.33        18\n",
      "   macro avg       0.22      0.36      0.27        18\n",
      "weighted avg       0.20      0.33      0.25        18\n",
      "\n",
      "-------------------------------------------------------------------------------------------------------------------\n"
     ]
    },
    {
     "name": "stderr",
     "output_type": "stream",
     "text": [
      "c:\\ProgramData\\Anaconda3\\lib\\site-packages\\sklearn\\metrics\\_classification.py:1344: UndefinedMetricWarning: Precision and F-score are ill-defined and being set to 0.0 in labels with no predicted samples. Use `zero_division` parameter to control this behavior.\n",
      "  _warn_prf(average, modifier, msg_start, len(result))\n",
      "c:\\ProgramData\\Anaconda3\\lib\\site-packages\\sklearn\\metrics\\_classification.py:1344: UndefinedMetricWarning: Precision and F-score are ill-defined and being set to 0.0 in labels with no predicted samples. Use `zero_division` parameter to control this behavior.\n",
      "  _warn_prf(average, modifier, msg_start, len(result))\n",
      "c:\\ProgramData\\Anaconda3\\lib\\site-packages\\sklearn\\metrics\\_classification.py:1344: UndefinedMetricWarning: Precision and F-score are ill-defined and being set to 0.0 in labels with no predicted samples. Use `zero_division` parameter to control this behavior.\n",
      "  _warn_prf(average, modifier, msg_start, len(result))\n",
      "[Parallel(n_jobs=-1)]: Using backend LokyBackend with 12 concurrent workers.\n",
      "[Parallel(n_jobs=-1)]: Done   3 out of   3 | elapsed:  2.5min finished\n"
     ]
    },
    {
     "name": "stdout",
     "output_type": "stream",
     "text": [
      "K-Fold #1\n",
      "Mean negativities for all classes: [0.39695243512306494, 0.3910107201174353, 0.391960418172898]\n",
      "Mean entropies for all classes: [6.840303279166121e-15, 7.109393410015338e-15, 6.354736255439709e-15]\n",
      "              precision    recall  f1-score   support\n",
      "\n",
      "           0       0.33      0.67      0.44         6\n",
      "           1       0.00      0.00      0.00         7\n",
      "           2       0.00      0.00      0.00         5\n",
      "\n",
      "    accuracy                           0.22        18\n",
      "   macro avg       0.11      0.22      0.15        18\n",
      "weighted avg       0.11      0.22      0.15        18\n",
      "\n",
      "-------------------------------------------------------------------------------------------------------------------\n"
     ]
    },
    {
     "name": "stderr",
     "output_type": "stream",
     "text": [
      "[Parallel(n_jobs=-1)]: Using backend LokyBackend with 12 concurrent workers.\n",
      "[Parallel(n_jobs=-1)]: Done   3 out of   3 | elapsed:  2.5min finished\n"
     ]
    },
    {
     "name": "stdout",
     "output_type": "stream",
     "text": [
      "K-Fold #2\n",
      "Mean negativities for all classes: [0.39175099781125206, 0.3857411061546838, 0.398881103665772]\n",
      "Mean entropies for all classes: [6.062768864228153e-15, 7.273154180978017e-15, 8.804941473630337e-15]\n",
      "              precision    recall  f1-score   support\n",
      "\n",
      "           0       0.40      0.33      0.36         6\n",
      "           1       0.40      0.57      0.47         7\n",
      "           2       0.00      0.00      0.00         5\n",
      "\n",
      "    accuracy                           0.33        18\n",
      "   macro avg       0.27      0.30      0.28        18\n",
      "weighted avg       0.29      0.33      0.30        18\n",
      "\n",
      "-------------------------------------------------------------------------------------------------------------------\n"
     ]
    },
    {
     "name": "stderr",
     "output_type": "stream",
     "text": [
      "[Parallel(n_jobs=-1)]: Using backend LokyBackend with 12 concurrent workers.\n",
      "[Parallel(n_jobs=-1)]: Done   3 out of   3 | elapsed:  2.5min finished\n"
     ]
    },
    {
     "name": "stdout",
     "output_type": "stream",
     "text": [
      "K-Fold #3\n",
      "Mean negativities for all classes: [0.3956107401848385, 0.3941356238873214, 0.39076796205769326]\n",
      "Mean entropies for all classes: [7.556030396527735e-15, 7.546094685506305e-15, 6.254722390993305e-15]\n",
      "              precision    recall  f1-score   support\n",
      "\n",
      "           0       0.38      0.50      0.43         6\n",
      "           1       0.38      0.43      0.40         7\n",
      "           2       0.00      0.00      0.00         5\n",
      "\n",
      "    accuracy                           0.33        18\n",
      "   macro avg       0.25      0.31      0.28        18\n",
      "weighted avg       0.27      0.33      0.30        18\n",
      "\n",
      "-------------------------------------------------------------------------------------------------------------------\n"
     ]
    },
    {
     "name": "stderr",
     "output_type": "stream",
     "text": [
      "[Parallel(n_jobs=-1)]: Using backend LokyBackend with 12 concurrent workers.\n",
      "[Parallel(n_jobs=-1)]: Done   3 out of   3 | elapsed:  2.5min finished\n"
     ]
    },
    {
     "name": "stdout",
     "output_type": "stream",
     "text": [
      "K-Fold #4\n",
      "Mean negativities for all classes: [0.3927104291213945, 0.3929095720439669, 0.39818110963781117]\n",
      "Mean entropies for all classes: [9.160117576636597e-15, 8.087631715104618e-15, 7.560198203916528e-15]\n",
      "              precision    recall  f1-score   support\n",
      "\n",
      "           0       0.36      0.67      0.47         6\n",
      "           1       0.00      0.00      0.00         7\n",
      "           2       0.33      0.40      0.36         5\n",
      "\n",
      "    accuracy                           0.33        18\n",
      "   macro avg       0.23      0.36      0.28        18\n",
      "weighted avg       0.21      0.33      0.26        18\n",
      "\n",
      "-------------------------------------------------------------------------------------------------------------------\n"
     ]
    },
    {
     "name": "stderr",
     "output_type": "stream",
     "text": [
      "[Parallel(n_jobs=-1)]: Using backend LokyBackend with 12 concurrent workers.\n",
      "[Parallel(n_jobs=-1)]: Done   3 out of   3 | elapsed:  2.5min finished\n"
     ]
    },
    {
     "name": "stdout",
     "output_type": "stream",
     "text": [
      "K-Fold #5\n",
      "Mean negativities for all classes: [0.39323096253966044, 0.39013497175677186, 0.38277543066300407]\n",
      "Mean entropies for all classes: [6.446919944406963e-15, 6.035244667042642e-15, 6.770659811575717e-15]\n",
      "              precision    recall  f1-score   support\n",
      "\n",
      "           0       0.40      1.00      0.57         6\n",
      "           1       0.33      0.14      0.20         7\n",
      "           2       0.00      0.00      0.00         5\n",
      "\n",
      "    accuracy                           0.39        18\n",
      "   macro avg       0.24      0.38      0.26        18\n",
      "weighted avg       0.26      0.39      0.27        18\n",
      "\n",
      "-------------------------------------------------------------------------------------------------------------------\n"
     ]
    },
    {
     "name": "stderr",
     "output_type": "stream",
     "text": [
      "c:\\ProgramData\\Anaconda3\\lib\\site-packages\\sklearn\\metrics\\_classification.py:1344: UndefinedMetricWarning: Precision and F-score are ill-defined and being set to 0.0 in labels with no predicted samples. Use `zero_division` parameter to control this behavior.\n",
      "  _warn_prf(average, modifier, msg_start, len(result))\n",
      "c:\\ProgramData\\Anaconda3\\lib\\site-packages\\sklearn\\metrics\\_classification.py:1344: UndefinedMetricWarning: Precision and F-score are ill-defined and being set to 0.0 in labels with no predicted samples. Use `zero_division` parameter to control this behavior.\n",
      "  _warn_prf(average, modifier, msg_start, len(result))\n",
      "c:\\ProgramData\\Anaconda3\\lib\\site-packages\\sklearn\\metrics\\_classification.py:1344: UndefinedMetricWarning: Precision and F-score are ill-defined and being set to 0.0 in labels with no predicted samples. Use `zero_division` parameter to control this behavior.\n",
      "  _warn_prf(average, modifier, msg_start, len(result))\n",
      "[Parallel(n_jobs=-1)]: Using backend LokyBackend with 12 concurrent workers.\n",
      "[Parallel(n_jobs=-1)]: Done   3 out of   3 | elapsed:  2.5min finished\n"
     ]
    },
    {
     "name": "stdout",
     "output_type": "stream",
     "text": [
      "K-Fold #6\n",
      "Mean negativities for all classes: [0.39320997541539904, 0.39361586543953453, 0.3934590986412585]\n",
      "Mean entropies for all classes: [6.913054011126962e-15, 7.183298944057743e-15, 7.210406751739941e-15]\n",
      "              precision    recall  f1-score   support\n",
      "\n",
      "           0       0.38      0.50      0.43         6\n",
      "           1       0.33      0.29      0.31         7\n",
      "           2       0.75      0.60      0.67         5\n",
      "\n",
      "    accuracy                           0.44        18\n",
      "   macro avg       0.49      0.46      0.47        18\n",
      "weighted avg       0.46      0.44      0.45        18\n",
      "\n",
      "-------------------------------------------------------------------------------------------------------------------\n"
     ]
    },
    {
     "name": "stderr",
     "output_type": "stream",
     "text": [
      "[Parallel(n_jobs=-1)]: Using backend LokyBackend with 12 concurrent workers.\n",
      "[Parallel(n_jobs=-1)]: Done   3 out of   3 | elapsed:  2.5min finished\n"
     ]
    },
    {
     "name": "stdout",
     "output_type": "stream",
     "text": [
      "K-Fold #7\n",
      "Mean negativities for all classes: [0.387577099190003, 0.3947543332849194, 0.39233949820446656]\n",
      "Mean entropies for all classes: [5.459022057396329e-15, 5.111560055716766e-15, 6.092740106506026e-15]\n",
      "              precision    recall  f1-score   support\n",
      "\n",
      "           0       0.33      0.50      0.40         6\n",
      "           1       0.57      0.57      0.57         7\n",
      "           2       0.50      0.20      0.29         5\n",
      "\n",
      "    accuracy                           0.44        18\n",
      "   macro avg       0.47      0.42      0.42        18\n",
      "weighted avg       0.47      0.44      0.43        18\n",
      "\n",
      "-------------------------------------------------------------------------------------------------------------------\n"
     ]
    },
    {
     "name": "stderr",
     "output_type": "stream",
     "text": [
      "[Parallel(n_jobs=-1)]: Using backend LokyBackend with 12 concurrent workers.\n",
      "[Parallel(n_jobs=-1)]: Done   3 out of   3 | elapsed:  2.5min finished\n"
     ]
    },
    {
     "name": "stdout",
     "output_type": "stream",
     "text": [
      "K-Fold #8\n",
      "Mean negativities for all classes: [0.39483878303417663, 0.39071967944313607, 0.39289763777028974]\n",
      "Mean entropies for all classes: [6.659913838262038e-15, 6.0154646852261215e-15, 7.687623517646823e-15]\n",
      "              precision    recall  f1-score   support\n",
      "\n",
      "           0       0.33      0.50      0.40         6\n",
      "           1       0.40      0.29      0.33         7\n",
      "           2       0.67      0.50      0.57         4\n",
      "\n",
      "    accuracy                           0.41        17\n",
      "   macro avg       0.47      0.43      0.43        17\n",
      "weighted avg       0.44      0.41      0.41        17\n",
      "\n",
      "-------------------------------------------------------------------------------------------------------------------\n"
     ]
    },
    {
     "name": "stderr",
     "output_type": "stream",
     "text": [
      "[Parallel(n_jobs=-1)]: Using backend LokyBackend with 12 concurrent workers.\n",
      "[Parallel(n_jobs=-1)]: Done   3 out of   3 | elapsed:  2.5min finished\n"
     ]
    },
    {
     "name": "stdout",
     "output_type": "stream",
     "text": [
      "K-Fold #9\n",
      "Mean negativities for all classes: [0.3930501261392018, 0.39548751903565044, 0.3892061602173312]\n",
      "Mean entropies for all classes: [6.614239117533996e-15, 6.1469806962783264e-15, 6.7520367219861346e-15]\n",
      "              precision    recall  f1-score   support\n",
      "\n",
      "           0       0.00      0.00      0.00         5\n",
      "           1       0.00      0.00      0.00         8\n",
      "           2       0.10      0.25      0.14         4\n",
      "\n",
      "    accuracy                           0.06        17\n",
      "   macro avg       0.03      0.08      0.05        17\n",
      "weighted avg       0.02      0.06      0.03        17\n",
      "\n",
      "-------------------------------------------------------------------------------------------------------------------\n",
      "AVG: Scores = 0.3303921568627451 F1-Scores = 0.2874835839541722 Negativity = [0.38956590940380614, 0.39330785780446603, 0.39212440254390263] Entropy = [6.4764462863471745e-15, 6.768144314873722e-15, 7.380288172945503e-15]\n"
     ]
    },
    {
     "name": "stderr",
     "output_type": "stream",
     "text": [
      "[Parallel(n_jobs=-1)]: Using backend LokyBackend with 12 concurrent workers.\n",
      "[Parallel(n_jobs=-1)]: Done   3 out of   3 | elapsed:  2.5min finished\n"
     ]
    },
    {
     "name": "stdout",
     "output_type": "stream",
     "text": [
      "K-Fold #0\n",
      "Mean negativities for all classes: [0.3986206657009066, 0.3854572627033997, 0.3901453767647723]\n",
      "Mean entropies for all classes: [6.3646097053032925e-15, 7.439296350607055e-15, 7.381961497209694e-15]\n",
      "              precision    recall  f1-score   support\n",
      "\n",
      "           0       0.43      0.50      0.46         6\n",
      "           1       0.50      0.14      0.22         7\n",
      "           2       0.11      0.20      0.14         5\n",
      "\n",
      "    accuracy                           0.28        18\n",
      "   macro avg       0.35      0.28      0.28        18\n",
      "weighted avg       0.37      0.28      0.28        18\n",
      "\n",
      "-------------------------------------------------------------------------------------------------------------------\n"
     ]
    },
    {
     "name": "stderr",
     "output_type": "stream",
     "text": [
      "[Parallel(n_jobs=-1)]: Using backend LokyBackend with 12 concurrent workers.\n",
      "[Parallel(n_jobs=-1)]: Done   3 out of   3 | elapsed:  2.5min finished\n"
     ]
    },
    {
     "name": "stdout",
     "output_type": "stream",
     "text": [
      "K-Fold #1\n",
      "Mean negativities for all classes: [0.39172142524698217, 0.39276182529923076, 0.39586075135211746]\n",
      "Mean entropies for all classes: [7.02487184809244e-15, 6.175322582588547e-15, 6.53542616048212e-15]\n",
      "              precision    recall  f1-score   support\n",
      "\n",
      "           0       0.44      0.67      0.53         6\n",
      "           1       0.67      0.29      0.40         7\n",
      "           2       0.33      0.40      0.36         5\n",
      "\n",
      "    accuracy                           0.44        18\n",
      "   macro avg       0.48      0.45      0.43        18\n",
      "weighted avg       0.50      0.44      0.43        18\n",
      "\n",
      "-------------------------------------------------------------------------------------------------------------------\n"
     ]
    },
    {
     "name": "stderr",
     "output_type": "stream",
     "text": [
      "[Parallel(n_jobs=-1)]: Using backend LokyBackend with 12 concurrent workers.\n",
      "[Parallel(n_jobs=-1)]: Done   3 out of   3 | elapsed:  2.5min finished\n"
     ]
    },
    {
     "name": "stdout",
     "output_type": "stream",
     "text": [
      "K-Fold #2\n",
      "Mean negativities for all classes: [0.38960719045287895, 0.39576319999218346, 0.3904492087341978]\n",
      "Mean entropies for all classes: [7.283936076939227e-15, 6.34588416891366e-15, 6.0298771972450585e-15]\n",
      "              precision    recall  f1-score   support\n",
      "\n",
      "           0       0.38      0.83      0.53         6\n",
      "           1       0.25      0.14      0.18         7\n",
      "           2       0.00      0.00      0.00         5\n",
      "\n",
      "    accuracy                           0.33        18\n",
      "   macro avg       0.21      0.33      0.24        18\n",
      "weighted avg       0.23      0.33      0.25        18\n",
      "\n",
      "-------------------------------------------------------------------------------------------------------------------\n"
     ]
    },
    {
     "name": "stderr",
     "output_type": "stream",
     "text": [
      "[Parallel(n_jobs=-1)]: Using backend LokyBackend with 12 concurrent workers.\n",
      "[Parallel(n_jobs=-1)]: Done   3 out of   3 | elapsed:  2.5min finished\n"
     ]
    },
    {
     "name": "stdout",
     "output_type": "stream",
     "text": [
      "K-Fold #3\n",
      "Mean negativities for all classes: [0.3967871042306509, 0.3972723263244885, 0.3879110468603975]\n",
      "Mean entropies for all classes: [4.495029406650925e-15, 6.523641027296482e-15, 6.653219430474076e-15]\n",
      "              precision    recall  f1-score   support\n",
      "\n",
      "           0       0.00      0.00      0.00         6\n",
      "           1       0.33      0.14      0.20         7\n",
      "           2       0.09      0.20      0.13         5\n",
      "\n",
      "    accuracy                           0.11        18\n",
      "   macro avg       0.14      0.11      0.11        18\n",
      "weighted avg       0.15      0.11      0.11        18\n",
      "\n",
      "-------------------------------------------------------------------------------------------------------------------\n"
     ]
    },
    {
     "name": "stderr",
     "output_type": "stream",
     "text": [
      "[Parallel(n_jobs=-1)]: Using backend LokyBackend with 12 concurrent workers.\n",
      "[Parallel(n_jobs=-1)]: Done   3 out of   3 | elapsed:  2.5min finished\n"
     ]
    },
    {
     "name": "stdout",
     "output_type": "stream",
     "text": [
      "K-Fold #4\n",
      "Mean negativities for all classes: [0.39944916992113044, 0.3944960159260325, 0.3893403964844302]\n",
      "Mean entropies for all classes: [6.752030203014433e-15, 7.26490535169245e-15, 5.669139247984667e-15]\n",
      "              precision    recall  f1-score   support\n",
      "\n",
      "           0       0.33      0.67      0.44         6\n",
      "           1       0.75      0.43      0.55         7\n",
      "           2       0.00      0.00      0.00         5\n",
      "\n",
      "    accuracy                           0.39        18\n",
      "   macro avg       0.36      0.37      0.33        18\n",
      "weighted avg       0.40      0.39      0.36        18\n",
      "\n",
      "-------------------------------------------------------------------------------------------------------------------\n"
     ]
    },
    {
     "name": "stderr",
     "output_type": "stream",
     "text": [
      "[Parallel(n_jobs=-1)]: Using backend LokyBackend with 12 concurrent workers.\n",
      "[Parallel(n_jobs=-1)]: Done   3 out of   3 | elapsed:  2.5min finished\n"
     ]
    },
    {
     "name": "stdout",
     "output_type": "stream",
     "text": [
      "K-Fold #5\n",
      "Mean negativities for all classes: [0.39308346228674446, 0.39832862445447975, 0.39463022716842694]\n",
      "Mean entropies for all classes: [7.115815735876024e-15, 6.574575146953162e-15, 7.174229007661308e-15]\n",
      "              precision    recall  f1-score   support\n",
      "\n",
      "           0       0.29      0.33      0.31         6\n",
      "           1       0.25      0.29      0.27         7\n",
      "           2       0.33      0.20      0.25         5\n",
      "\n",
      "    accuracy                           0.28        18\n",
      "   macro avg       0.29      0.27      0.27        18\n",
      "weighted avg       0.29      0.28      0.28        18\n",
      "\n",
      "-------------------------------------------------------------------------------------------------------------------\n"
     ]
    },
    {
     "name": "stderr",
     "output_type": "stream",
     "text": [
      "[Parallel(n_jobs=-1)]: Using backend LokyBackend with 12 concurrent workers.\n",
      "[Parallel(n_jobs=-1)]: Done   3 out of   3 | elapsed:  2.5min finished\n"
     ]
    },
    {
     "name": "stdout",
     "output_type": "stream",
     "text": [
      "K-Fold #6\n",
      "Mean negativities for all classes: [0.39626196339809217, 0.39497056112750717, 0.3891321745484285]\n",
      "Mean entropies for all classes: [8.421916633901205e-15, 6.572692695439969e-15, 6.4318516223126565e-15]\n",
      "              precision    recall  f1-score   support\n",
      "\n",
      "           0       0.42      0.83      0.56         6\n",
      "           1       0.40      0.29      0.33         7\n",
      "           2       0.00      0.00      0.00         5\n",
      "\n",
      "    accuracy                           0.39        18\n",
      "   macro avg       0.27      0.37      0.30        18\n",
      "weighted avg       0.29      0.39      0.31        18\n",
      "\n",
      "-------------------------------------------------------------------------------------------------------------------\n"
     ]
    },
    {
     "name": "stderr",
     "output_type": "stream",
     "text": [
      "[Parallel(n_jobs=-1)]: Using backend LokyBackend with 12 concurrent workers.\n",
      "[Parallel(n_jobs=-1)]: Done   3 out of   3 | elapsed:  2.5min finished\n"
     ]
    },
    {
     "name": "stdout",
     "output_type": "stream",
     "text": [
      "K-Fold #7\n",
      "Mean negativities for all classes: [0.3893928850789556, 0.39442588487912594, 0.3942549688263256]\n",
      "Mean entropies for all classes: [6.2751490289815904e-15, 6.7403121616870166e-15, 1.0459693598595178e-14]\n",
      "              precision    recall  f1-score   support\n",
      "\n",
      "           0       0.22      0.33      0.27         6\n",
      "           1       0.17      0.14      0.15         7\n",
      "           2       0.67      0.40      0.50         5\n",
      "\n",
      "    accuracy                           0.28        18\n",
      "   macro avg       0.35      0.29      0.31        18\n",
      "weighted avg       0.32      0.28      0.29        18\n",
      "\n",
      "-------------------------------------------------------------------------------------------------------------------\n"
     ]
    },
    {
     "name": "stderr",
     "output_type": "stream",
     "text": [
      "[Parallel(n_jobs=-1)]: Using backend LokyBackend with 12 concurrent workers.\n",
      "[Parallel(n_jobs=-1)]: Done   3 out of   3 | elapsed:  2.5min finished\n"
     ]
    },
    {
     "name": "stdout",
     "output_type": "stream",
     "text": [
      "K-Fold #8\n",
      "Mean negativities for all classes: [0.3938385648012026, 0.39300113822896837, 0.39306684401791103]\n",
      "Mean entropies for all classes: [1.0743166341189338e-14, 6.9960231499873205e-15, 8.862266493809034e-15]\n",
      "              precision    recall  f1-score   support\n",
      "\n",
      "           0       0.50      0.33      0.40         6\n",
      "           1       1.00      0.14      0.25         7\n",
      "           2       0.25      0.75      0.38         4\n",
      "\n",
      "    accuracy                           0.35        17\n",
      "   macro avg       0.58      0.41      0.34        17\n",
      "weighted avg       0.65      0.35      0.33        17\n",
      "\n",
      "-------------------------------------------------------------------------------------------------------------------\n"
     ]
    },
    {
     "name": "stderr",
     "output_type": "stream",
     "text": [
      "[Parallel(n_jobs=-1)]: Using backend LokyBackend with 12 concurrent workers.\n",
      "[Parallel(n_jobs=-1)]: Done   3 out of   3 | elapsed:  2.5min finished\n"
     ]
    },
    {
     "name": "stdout",
     "output_type": "stream",
     "text": [
      "K-Fold #9\n",
      "Mean negativities for all classes: [0.3964878249545334, 0.3920571590829784, 0.39795836629208226]\n",
      "Mean entropies for all classes: [8.30238864232202e-15, 6.2373314318848976e-15, 7.813539201261487e-15]\n",
      "              precision    recall  f1-score   support\n",
      "\n",
      "           0       0.14      0.20      0.17         5\n",
      "           1       0.00      0.00      0.00         8\n",
      "           2       0.14      0.25      0.18         4\n",
      "\n",
      "    accuracy                           0.12        17\n",
      "   macro avg       0.10      0.15      0.12        17\n",
      "weighted avg       0.08      0.12      0.09        17\n",
      "\n",
      "-------------------------------------------------------------------------------------------------------------------\n",
      "AVG: Scores = 0.29705882352941176 F1-Scores = 0.271795533900797 Negativity = [0.3914077683896928, 0.3934480006327768, 0.3919398663930867] Entropy = [7.0619558510400145e-15, 6.578540197054369e-15, 6.553232481032648e-15]\n"
     ]
    },
    {
     "name": "stderr",
     "output_type": "stream",
     "text": [
      "[Parallel(n_jobs=-1)]: Using backend LokyBackend with 12 concurrent workers.\n",
      "[Parallel(n_jobs=-1)]: Done   3 out of   3 | elapsed:  2.5min finished\n"
     ]
    },
    {
     "name": "stdout",
     "output_type": "stream",
     "text": [
      "K-Fold #0\n",
      "Mean negativities for all classes: [0.3964533467991146, 0.3904411432792505, 0.3828686359326918]\n",
      "Mean entropies for all classes: [8.02503383968732e-15, 6.500302969624638e-15, 6.23608244673448e-15]\n",
      "              precision    recall  f1-score   support\n",
      "\n",
      "           0       0.35      1.00      0.52         6\n",
      "           1       0.00      0.00      0.00         7\n",
      "           2       0.00      0.00      0.00         5\n",
      "\n",
      "    accuracy                           0.33        18\n",
      "   macro avg       0.12      0.33      0.17        18\n",
      "weighted avg       0.12      0.33      0.17        18\n",
      "\n",
      "-------------------------------------------------------------------------------------------------------------------\n"
     ]
    },
    {
     "name": "stderr",
     "output_type": "stream",
     "text": [
      "c:\\ProgramData\\Anaconda3\\lib\\site-packages\\sklearn\\metrics\\_classification.py:1344: UndefinedMetricWarning: Precision and F-score are ill-defined and being set to 0.0 in labels with no predicted samples. Use `zero_division` parameter to control this behavior.\n",
      "  _warn_prf(average, modifier, msg_start, len(result))\n",
      "c:\\ProgramData\\Anaconda3\\lib\\site-packages\\sklearn\\metrics\\_classification.py:1344: UndefinedMetricWarning: Precision and F-score are ill-defined and being set to 0.0 in labels with no predicted samples. Use `zero_division` parameter to control this behavior.\n",
      "  _warn_prf(average, modifier, msg_start, len(result))\n",
      "c:\\ProgramData\\Anaconda3\\lib\\site-packages\\sklearn\\metrics\\_classification.py:1344: UndefinedMetricWarning: Precision and F-score are ill-defined and being set to 0.0 in labels with no predicted samples. Use `zero_division` parameter to control this behavior.\n",
      "  _warn_prf(average, modifier, msg_start, len(result))\n",
      "[Parallel(n_jobs=-1)]: Using backend LokyBackend with 12 concurrent workers.\n",
      "[Parallel(n_jobs=-1)]: Done   3 out of   3 | elapsed:  2.5min finished\n"
     ]
    },
    {
     "name": "stdout",
     "output_type": "stream",
     "text": [
      "K-Fold #1\n",
      "Mean negativities for all classes: [0.39181081572468507, 0.39667611429960564, 0.39525552964235766]\n",
      "Mean entropies for all classes: [4.866237288273532e-15, 7.173206503932932e-15, 7.788108744781066e-15]\n",
      "              precision    recall  f1-score   support\n",
      "\n",
      "           0       0.00      0.00      0.00         6\n",
      "           1       0.10      0.14      0.12         7\n",
      "           2       0.00      0.00      0.00         5\n",
      "\n",
      "    accuracy                           0.06        18\n",
      "   macro avg       0.03      0.05      0.04        18\n",
      "weighted avg       0.04      0.06      0.05        18\n",
      "\n",
      "-------------------------------------------------------------------------------------------------------------------\n"
     ]
    },
    {
     "name": "stderr",
     "output_type": "stream",
     "text": [
      "[Parallel(n_jobs=-1)]: Using backend LokyBackend with 12 concurrent workers.\n",
      "[Parallel(n_jobs=-1)]: Done   3 out of   3 | elapsed:  2.5min finished\n"
     ]
    },
    {
     "name": "stdout",
     "output_type": "stream",
     "text": [
      "K-Fold #2\n",
      "Mean negativities for all classes: [0.39648295170916625, 0.3920895461305328, 0.3794451018140241]\n",
      "Mean entropies for all classes: [6.78165368176096e-15, 6.5518052595588646e-15, 6.697287555328472e-15]\n",
      "              precision    recall  f1-score   support\n",
      "\n",
      "           0       0.36      0.83      0.50         6\n",
      "           1       1.00      0.43      0.60         7\n",
      "           2       0.00      0.00      0.00         5\n",
      "\n",
      "    accuracy                           0.44        18\n",
      "   macro avg       0.45      0.42      0.37        18\n",
      "weighted avg       0.51      0.44      0.40        18\n",
      "\n",
      "-------------------------------------------------------------------------------------------------------------------\n"
     ]
    },
    {
     "name": "stderr",
     "output_type": "stream",
     "text": [
      "[Parallel(n_jobs=-1)]: Using backend LokyBackend with 12 concurrent workers.\n",
      "[Parallel(n_jobs=-1)]: Done   3 out of   3 | elapsed:  2.5min finished\n"
     ]
    },
    {
     "name": "stdout",
     "output_type": "stream",
     "text": [
      "K-Fold #3\n",
      "Mean negativities for all classes: [0.3934132383141187, 0.3934784970409514, 0.38939746707815515]\n",
      "Mean entropies for all classes: [6.2492417725830906e-15, 6.2793588116680745e-15, 7.490247922056833e-15]\n",
      "              precision    recall  f1-score   support\n",
      "\n",
      "           0       0.00      0.00      0.00       6.0\n",
      "           1       0.00      0.00      0.00       7.0\n",
      "           2       0.00      0.00      0.00       5.0\n",
      "\n",
      "    accuracy                           0.00      18.0\n",
      "   macro avg       0.00      0.00      0.00      18.0\n",
      "weighted avg       0.00      0.00      0.00      18.0\n",
      "\n",
      "-------------------------------------------------------------------------------------------------------------------\n"
     ]
    },
    {
     "name": "stderr",
     "output_type": "stream",
     "text": [
      "[Parallel(n_jobs=-1)]: Using backend LokyBackend with 12 concurrent workers.\n",
      "[Parallel(n_jobs=-1)]: Done   3 out of   3 | elapsed:  2.5min finished\n"
     ]
    },
    {
     "name": "stdout",
     "output_type": "stream",
     "text": [
      "K-Fold #4\n",
      "Mean negativities for all classes: [0.3935555391413958, 0.39122356995315477, 0.393103042245284]\n",
      "Mean entropies for all classes: [6.941308631497311e-15, 6.591375422183442e-15, 5.948149984720255e-15]\n",
      "              precision    recall  f1-score   support\n",
      "\n",
      "           0       0.00      0.00      0.00       6.0\n",
      "           1       0.00      0.00      0.00       7.0\n",
      "           2       0.00      0.00      0.00       5.0\n",
      "\n",
      "    accuracy                           0.00      18.0\n",
      "   macro avg       0.00      0.00      0.00      18.0\n",
      "weighted avg       0.00      0.00      0.00      18.0\n",
      "\n",
      "-------------------------------------------------------------------------------------------------------------------\n"
     ]
    },
    {
     "name": "stderr",
     "output_type": "stream",
     "text": [
      "[Parallel(n_jobs=-1)]: Using backend LokyBackend with 12 concurrent workers.\n",
      "[Parallel(n_jobs=-1)]: Done   3 out of   3 | elapsed:  2.5min finished\n"
     ]
    },
    {
     "name": "stdout",
     "output_type": "stream",
     "text": [
      "K-Fold #5\n",
      "Mean negativities for all classes: [0.394264655340607, 0.39551089205404977, 0.3867247477862821]\n",
      "Mean entropies for all classes: [5.668356675234087e-15, 7.063287408176264e-15, 4.7409361297040864e-15]\n",
      "              precision    recall  f1-score   support\n",
      "\n",
      "           0       0.33      0.50      0.40         6\n",
      "           1       0.50      0.14      0.22         7\n",
      "           2       0.14      0.20      0.17         5\n",
      "\n",
      "    accuracy                           0.28        18\n",
      "   macro avg       0.33      0.28      0.26        18\n",
      "weighted avg       0.35      0.28      0.27        18\n",
      "\n",
      "-------------------------------------------------------------------------------------------------------------------\n"
     ]
    },
    {
     "name": "stderr",
     "output_type": "stream",
     "text": [
      "[Parallel(n_jobs=-1)]: Using backend LokyBackend with 12 concurrent workers.\n",
      "[Parallel(n_jobs=-1)]: Done   3 out of   3 | elapsed:  2.5min finished\n"
     ]
    },
    {
     "name": "stdout",
     "output_type": "stream",
     "text": [
      "K-Fold #6\n",
      "Mean negativities for all classes: [0.3925193843269193, 0.3890562484967291, 0.3934496477379964]\n",
      "Mean entropies for all classes: [7.520150544003203e-15, 6.072705549370808e-15, 8.486356823014083e-15]\n",
      "              precision    recall  f1-score   support\n",
      "\n",
      "           0       0.62      0.83      0.71         6\n",
      "           1       1.00      0.29      0.44         7\n",
      "           2       0.38      0.60      0.46         5\n",
      "\n",
      "    accuracy                           0.56        18\n",
      "   macro avg       0.67      0.57      0.54        18\n",
      "weighted avg       0.70      0.56      0.54        18\n",
      "\n",
      "-------------------------------------------------------------------------------------------------------------------\n"
     ]
    },
    {
     "name": "stderr",
     "output_type": "stream",
     "text": [
      "[Parallel(n_jobs=-1)]: Using backend LokyBackend with 12 concurrent workers.\n",
      "[Parallel(n_jobs=-1)]: Done   3 out of   3 | elapsed:  2.5min finished\n"
     ]
    },
    {
     "name": "stdout",
     "output_type": "stream",
     "text": [
      "K-Fold #7\n",
      "Mean negativities for all classes: [0.39421089236878853, 0.38931002564026207, 0.39276116539826034]\n",
      "Mean entropies for all classes: [6.665538172713311e-15, 7.338230738729372e-15, 1.2426744733986609e-14]\n",
      "              precision    recall  f1-score   support\n",
      "\n",
      "           0       0.43      0.50      0.46         6\n",
      "           1       0.57      0.57      0.57         7\n",
      "           2       0.50      0.40      0.44         5\n",
      "\n",
      "    accuracy                           0.50        18\n",
      "   macro avg       0.50      0.49      0.49        18\n",
      "weighted avg       0.50      0.50      0.50        18\n",
      "\n",
      "-------------------------------------------------------------------------------------------------------------------\n"
     ]
    },
    {
     "name": "stderr",
     "output_type": "stream",
     "text": [
      "[Parallel(n_jobs=-1)]: Using backend LokyBackend with 12 concurrent workers.\n",
      "[Parallel(n_jobs=-1)]: Done   3 out of   3 | elapsed:  2.5min finished\n"
     ]
    },
    {
     "name": "stdout",
     "output_type": "stream",
     "text": [
      "K-Fold #8\n",
      "Mean negativities for all classes: [0.39278488274104145, 0.3931720885474032, 0.38531566080260166]\n",
      "Mean entropies for all classes: [8.561567605981117e-15, 7.85159615116221e-15, 7.74826583899161e-15]\n",
      "              precision    recall  f1-score   support\n",
      "\n",
      "           0       0.42      0.83      0.56         6\n",
      "           1       0.25      0.14      0.18         7\n",
      "           2       0.00      0.00      0.00         4\n",
      "\n",
      "    accuracy                           0.35        17\n",
      "   macro avg       0.22      0.33      0.25        17\n",
      "weighted avg       0.25      0.35      0.27        17\n",
      "\n",
      "-------------------------------------------------------------------------------------------------------------------\n"
     ]
    },
    {
     "name": "stderr",
     "output_type": "stream",
     "text": [
      "[Parallel(n_jobs=-1)]: Using backend LokyBackend with 12 concurrent workers.\n",
      "[Parallel(n_jobs=-1)]: Done   3 out of   3 | elapsed:  2.5min finished\n"
     ]
    },
    {
     "name": "stdout",
     "output_type": "stream",
     "text": [
      "K-Fold #9\n",
      "Mean negativities for all classes: [0.3899270896952331, 0.392844161679469, 0.39611911476261996]\n",
      "Mean entropies for all classes: [7.695320606031925e-15, 7.080362669838924e-15, 6.337168189931569e-15]\n",
      "              precision    recall  f1-score   support\n",
      "\n",
      "           0       0.33      0.40      0.36         5\n",
      "           1       0.40      0.50      0.44         8\n",
      "           2       0.00      0.00      0.00         4\n",
      "\n",
      "    accuracy                           0.35        17\n",
      "   macro avg       0.24      0.30      0.27        17\n",
      "weighted avg       0.29      0.35      0.32        17\n",
      "\n",
      "-------------------------------------------------------------------------------------------------------------------\n",
      "AVG: Scores = 0.28725490196078435 F1-Scores = 0.23904699070939484 Negativity = [0.3899210420036856, 0.3945808198888828, 0.3893391998845744] Entropy = [6.920473085348812e-15, 6.609184178995842e-15, 6.676915498882765e-15]\n"
     ]
    },
    {
     "name": "stderr",
     "output_type": "stream",
     "text": [
      "[Parallel(n_jobs=-1)]: Using backend LokyBackend with 12 concurrent workers.\n",
      "[Parallel(n_jobs=-1)]: Done   3 out of   3 | elapsed:  2.5min finished\n"
     ]
    },
    {
     "name": "stdout",
     "output_type": "stream",
     "text": [
      "K-Fold #0\n",
      "Mean negativities for all classes: [0.3968127094946824, 0.39068351832818426, 0.38901853916103923]\n",
      "Mean entropies for all classes: [7.348167475992035e-15, 7.619869524480528e-15, 7.9758142753635e-15]\n",
      "              precision    recall  f1-score   support\n",
      "\n",
      "           0       0.17      0.17      0.17         6\n",
      "           1       0.29      0.29      0.29         7\n",
      "           2       0.00      0.00      0.00         5\n",
      "\n",
      "    accuracy                           0.17        18\n",
      "   macro avg       0.15      0.15      0.15        18\n",
      "weighted avg       0.17      0.17      0.17        18\n",
      "\n",
      "-------------------------------------------------------------------------------------------------------------------\n"
     ]
    },
    {
     "name": "stderr",
     "output_type": "stream",
     "text": [
      "[Parallel(n_jobs=-1)]: Using backend LokyBackend with 12 concurrent workers.\n",
      "[Parallel(n_jobs=-1)]: Done   3 out of   3 | elapsed:  2.5min finished\n"
     ]
    },
    {
     "name": "stdout",
     "output_type": "stream",
     "text": [
      "K-Fold #1\n",
      "Mean negativities for all classes: [0.3896906617317603, 0.3906933459973627, 0.3970235771121423]\n",
      "Mean entropies for all classes: [7.325620975351441e-15, 4.790822862686477e-15, 5.16633225657094e-15]\n",
      "              precision    recall  f1-score   support\n",
      "\n",
      "           0       0.20      0.17      0.18         6\n",
      "           1       0.33      0.43      0.38         7\n",
      "           2       0.25      0.20      0.22         5\n",
      "\n",
      "    accuracy                           0.28        18\n",
      "   macro avg       0.26      0.27      0.26        18\n",
      "weighted avg       0.27      0.28      0.27        18\n",
      "\n",
      "-------------------------------------------------------------------------------------------------------------------\n"
     ]
    },
    {
     "name": "stderr",
     "output_type": "stream",
     "text": [
      "[Parallel(n_jobs=-1)]: Using backend LokyBackend with 12 concurrent workers.\n",
      "[Parallel(n_jobs=-1)]: Done   3 out of   3 | elapsed:  2.5min finished\n"
     ]
    },
    {
     "name": "stdout",
     "output_type": "stream",
     "text": [
      "K-Fold #2\n",
      "Mean negativities for all classes: [0.3954796389049795, 0.39597400584335685, 0.39453462917247134]\n",
      "Mean entropies for all classes: [7.411355495401188e-15, 6.059335322832759e-15, 8.304779003551112e-15]\n",
      "              precision    recall  f1-score   support\n",
      "\n",
      "           0       0.25      0.17      0.20         6\n",
      "           1       0.30      0.43      0.35         7\n",
      "           2       0.50      0.40      0.44         5\n",
      "\n",
      "    accuracy                           0.33        18\n",
      "   macro avg       0.35      0.33      0.33        18\n",
      "weighted avg       0.34      0.33      0.33        18\n",
      "\n",
      "-------------------------------------------------------------------------------------------------------------------\n"
     ]
    },
    {
     "name": "stderr",
     "output_type": "stream",
     "text": [
      "[Parallel(n_jobs=-1)]: Using backend LokyBackend with 12 concurrent workers.\n",
      "[Parallel(n_jobs=-1)]: Done   3 out of   3 | elapsed:  2.6min finished\n"
     ]
    },
    {
     "name": "stdout",
     "output_type": "stream",
     "text": [
      "K-Fold #3\n",
      "Mean negativities for all classes: [0.39740014697940235, 0.390951130562004, 0.3944482003879375]\n",
      "Mean entropies for all classes: [7.305305345438583e-15, 6.4145083329302e-15, 7.021136935055408e-15]\n",
      "              precision    recall  f1-score   support\n",
      "\n",
      "           0       0.25      0.33      0.29         6\n",
      "           1       0.00      0.00      0.00         7\n",
      "           2       0.00      0.00      0.00         5\n",
      "\n",
      "    accuracy                           0.11        18\n",
      "   macro avg       0.08      0.11      0.10        18\n",
      "weighted avg       0.08      0.11      0.10        18\n",
      "\n",
      "-------------------------------------------------------------------------------------------------------------------\n"
     ]
    },
    {
     "name": "stderr",
     "output_type": "stream",
     "text": [
      "[Parallel(n_jobs=-1)]: Using backend LokyBackend with 12 concurrent workers.\n",
      "[Parallel(n_jobs=-1)]: Done   3 out of   3 | elapsed:  2.5min finished\n"
     ]
    },
    {
     "name": "stdout",
     "output_type": "stream",
     "text": [
      "K-Fold #4\n",
      "Mean negativities for all classes: [0.3950411263790279, 0.3878615730801205, 0.39791623024222783]\n",
      "Mean entropies for all classes: [6.792632264363855e-15, 6.405620968061229e-15, 8.108642575710587e-15]\n",
      "              precision    recall  f1-score   support\n",
      "\n",
      "           0       0.60      0.50      0.55         6\n",
      "           1       0.25      0.14      0.18         7\n",
      "           2       0.22      0.40      0.29         5\n",
      "\n",
      "    accuracy                           0.33        18\n",
      "   macro avg       0.36      0.35      0.34        18\n",
      "weighted avg       0.36      0.33      0.33        18\n",
      "\n",
      "-------------------------------------------------------------------------------------------------------------------\n"
     ]
    },
    {
     "name": "stderr",
     "output_type": "stream",
     "text": [
      "[Parallel(n_jobs=-1)]: Using backend LokyBackend with 12 concurrent workers.\n",
      "[Parallel(n_jobs=-1)]: Done   3 out of   3 | elapsed:  2.5min finished\n"
     ]
    },
    {
     "name": "stdout",
     "output_type": "stream",
     "text": [
      "K-Fold #5\n",
      "Mean negativities for all classes: [0.3904844823835021, 0.3889528598017424, 0.3935051731874311]\n",
      "Mean entropies for all classes: [5.076679152724851e-15, 7.227169378051128e-15, 4.26616560508133e-15]\n",
      "              precision    recall  f1-score   support\n",
      "\n",
      "           0       0.29      0.33      0.31         6\n",
      "           1       0.50      0.14      0.22         7\n",
      "           2       0.11      0.20      0.14         5\n",
      "\n",
      "    accuracy                           0.22        18\n",
      "   macro avg       0.30      0.23      0.22        18\n",
      "weighted avg       0.32      0.22      0.23        18\n",
      "\n",
      "-------------------------------------------------------------------------------------------------------------------\n"
     ]
    },
    {
     "name": "stderr",
     "output_type": "stream",
     "text": [
      "[Parallel(n_jobs=-1)]: Using backend LokyBackend with 12 concurrent workers.\n",
      "[Parallel(n_jobs=-1)]: Done   3 out of   3 | elapsed:  2.5min finished\n"
     ]
    },
    {
     "name": "stdout",
     "output_type": "stream",
     "text": [
      "K-Fold #6\n",
      "Mean negativities for all classes: [0.3932213357530942, 0.3947067265212316, 0.39521274670871265]\n",
      "Mean entropies for all classes: [6.301540560099043e-15, 6.048612650915731e-15, 6.336193392217838e-15]\n",
      "              precision    recall  f1-score   support\n",
      "\n",
      "           0       0.40      1.00      0.57         6\n",
      "           1       1.00      0.29      0.44         7\n",
      "           2       1.00      0.20      0.33         5\n",
      "\n",
      "    accuracy                           0.50        18\n",
      "   macro avg       0.80      0.50      0.45        18\n",
      "weighted avg       0.80      0.50      0.46        18\n",
      "\n",
      "-------------------------------------------------------------------------------------------------------------------\n"
     ]
    },
    {
     "name": "stderr",
     "output_type": "stream",
     "text": [
      "[Parallel(n_jobs=-1)]: Using backend LokyBackend with 12 concurrent workers.\n",
      "[Parallel(n_jobs=-1)]: Done   3 out of   3 | elapsed:  2.5min finished\n"
     ]
    },
    {
     "name": "stdout",
     "output_type": "stream",
     "text": [
      "K-Fold #7\n",
      "Mean negativities for all classes: [0.3998864757824719, 0.38761930949170637, 0.3957505868997365]\n",
      "Mean entropies for all classes: [7.86640439070668e-15, 6.9049824016815935e-15, 6.720756676367661e-15]\n",
      "              precision    recall  f1-score   support\n",
      "\n",
      "           0       0.25      0.33      0.29         6\n",
      "           1       0.00      0.00      0.00         7\n",
      "           2       0.00      0.00      0.00         5\n",
      "\n",
      "    accuracy                           0.11        18\n",
      "   macro avg       0.08      0.11      0.10        18\n",
      "weighted avg       0.08      0.11      0.10        18\n",
      "\n",
      "-------------------------------------------------------------------------------------------------------------------\n"
     ]
    },
    {
     "name": "stderr",
     "output_type": "stream",
     "text": [
      "[Parallel(n_jobs=-1)]: Using backend LokyBackend with 12 concurrent workers.\n",
      "[Parallel(n_jobs=-1)]: Done   3 out of   3 | elapsed:  2.5min finished\n"
     ]
    },
    {
     "name": "stdout",
     "output_type": "stream",
     "text": [
      "K-Fold #8\n",
      "Mean negativities for all classes: [0.3952649005186779, 0.3983506080339267, 0.3958826270889816]\n",
      "Mean entropies for all classes: [8.747517602648436e-15, 6.553415145276939e-15, 8.812876679209172e-15]\n",
      "              precision    recall  f1-score   support\n",
      "\n",
      "           0       0.00      0.00      0.00         6\n",
      "           1       0.20      0.14      0.17         7\n",
      "           2       0.00      0.00      0.00         4\n",
      "\n",
      "    accuracy                           0.06        17\n",
      "   macro avg       0.07      0.05      0.06        17\n",
      "weighted avg       0.08      0.06      0.07        17\n",
      "\n",
      "-------------------------------------------------------------------------------------------------------------------\n"
     ]
    },
    {
     "name": "stderr",
     "output_type": "stream",
     "text": [
      "[Parallel(n_jobs=-1)]: Using backend LokyBackend with 12 concurrent workers.\n",
      "[Parallel(n_jobs=-1)]: Done   3 out of   3 | elapsed:  2.5min finished\n"
     ]
    },
    {
     "name": "stdout",
     "output_type": "stream",
     "text": [
      "K-Fold #9\n",
      "Mean negativities for all classes: [0.39644891017907435, 0.39238379661863115, 0.3946348282908879]\n",
      "Mean entropies for all classes: [4.5105553012282964e-15, 6.707109980114052e-15, 7.82063816858713e-15]\n",
      "              precision    recall  f1-score   support\n",
      "\n",
      "           0       0.38      1.00      0.56         5\n",
      "           1       1.00      0.25      0.40         8\n",
      "           2       0.00      0.00      0.00         4\n",
      "\n",
      "    accuracy                           0.41        17\n",
      "   macro avg       0.46      0.42      0.32        17\n",
      "weighted avg       0.58      0.41      0.35        17\n",
      "\n",
      "-------------------------------------------------------------------------------------------------------------------\n",
      "AVG: Scores = 0.25261437908496726 F1-Scores = 0.23191409353174058 Negativity = [0.3921715889946353, 0.39246919494708843, 0.3953294246402692] Entropy = [7.647950425278689e-15, 5.76092536486962e-15, 7.25848994059502e-15]\n"
     ]
    },
    {
     "name": "stderr",
     "output_type": "stream",
     "text": [
      "[Parallel(n_jobs=-1)]: Using backend LokyBackend with 12 concurrent workers.\n",
      "[Parallel(n_jobs=-1)]: Done   3 out of   3 | elapsed:  2.5min finished\n"
     ]
    },
    {
     "name": "stdout",
     "output_type": "stream",
     "text": [
      "K-Fold #0\n",
      "Mean negativities for all classes: [0.3891094490562217, 0.388076057663803, 0.3871506518059795]\n",
      "Mean entropies for all classes: [6.475793748467545e-15, 6.849151079750719e-15, 6.8972223574794845e-15]\n",
      "              precision    recall  f1-score   support\n",
      "\n",
      "           0       0.00      0.00      0.00         6\n",
      "           1       0.00      0.00      0.00         7\n",
      "           2       0.07      0.20      0.11         5\n",
      "\n",
      "    accuracy                           0.06        18\n",
      "   macro avg       0.02      0.07      0.04        18\n",
      "weighted avg       0.02      0.06      0.03        18\n",
      "\n",
      "-------------------------------------------------------------------------------------------------------------------\n"
     ]
    },
    {
     "name": "stderr",
     "output_type": "stream",
     "text": [
      "[Parallel(n_jobs=-1)]: Using backend LokyBackend with 12 concurrent workers.\n",
      "[Parallel(n_jobs=-1)]: Done   3 out of   3 | elapsed:  2.5min finished\n"
     ]
    },
    {
     "name": "stdout",
     "output_type": "stream",
     "text": [
      "K-Fold #1\n",
      "Mean negativities for all classes: [0.3935904801439468, 0.3892687372444502, 0.3955818287611077]\n",
      "Mean entropies for all classes: [6.419833085171143e-15, 6.287672052602e-15, 5.342061576309904e-15]\n",
      "              precision    recall  f1-score   support\n",
      "\n",
      "           0       0.44      0.67      0.53         6\n",
      "           1       0.00      0.00      0.00         7\n",
      "           2       0.29      0.40      0.33         5\n",
      "\n",
      "    accuracy                           0.33        18\n",
      "   macro avg       0.24      0.36      0.29        18\n",
      "weighted avg       0.23      0.33      0.27        18\n",
      "\n",
      "-------------------------------------------------------------------------------------------------------------------\n"
     ]
    },
    {
     "name": "stderr",
     "output_type": "stream",
     "text": [
      "[Parallel(n_jobs=-1)]: Using backend LokyBackend with 12 concurrent workers.\n",
      "[Parallel(n_jobs=-1)]: Done   3 out of   3 | elapsed:  2.5min finished\n"
     ]
    },
    {
     "name": "stdout",
     "output_type": "stream",
     "text": [
      "K-Fold #2\n",
      "Mean negativities for all classes: [0.3966289533488849, 0.3915825248066461, 0.3878423923192966]\n",
      "Mean entropies for all classes: [6.067479509932272e-15, 7.098663881839763e-15, 6.1238175687255635e-15]\n",
      "              precision    recall  f1-score   support\n",
      "\n",
      "           0       0.00      0.00      0.00         6\n",
      "           1       0.00      0.00      0.00         7\n",
      "           2       0.17      0.40      0.24         5\n",
      "\n",
      "    accuracy                           0.11        18\n",
      "   macro avg       0.06      0.13      0.08        18\n",
      "weighted avg       0.05      0.11      0.07        18\n",
      "\n",
      "-------------------------------------------------------------------------------------------------------------------\n"
     ]
    },
    {
     "name": "stderr",
     "output_type": "stream",
     "text": [
      "[Parallel(n_jobs=-1)]: Using backend LokyBackend with 12 concurrent workers.\n",
      "[Parallel(n_jobs=-1)]: Done   3 out of   3 | elapsed:  2.5min finished\n"
     ]
    },
    {
     "name": "stdout",
     "output_type": "stream",
     "text": [
      "K-Fold #3\n",
      "Mean negativities for all classes: [0.3938650219394403, 0.38994366720092843, 0.3963652216981728]\n",
      "Mean entropies for all classes: [8.528207425556765e-15, 7.35402280168338e-15, 6.420899667751579e-15]\n",
      "              precision    recall  f1-score   support\n",
      "\n",
      "           0       0.27      0.50      0.35         6\n",
      "           1       0.50      0.14      0.22         7\n",
      "           2       0.00      0.00      0.00         5\n",
      "\n",
      "    accuracy                           0.22        18\n",
      "   macro avg       0.26      0.21      0.19        18\n",
      "weighted avg       0.29      0.22      0.20        18\n",
      "\n",
      "-------------------------------------------------------------------------------------------------------------------\n"
     ]
    },
    {
     "name": "stderr",
     "output_type": "stream",
     "text": [
      "[Parallel(n_jobs=-1)]: Using backend LokyBackend with 12 concurrent workers.\n",
      "[Parallel(n_jobs=-1)]: Done   3 out of   3 | elapsed:  2.5min finished\n"
     ]
    },
    {
     "name": "stdout",
     "output_type": "stream",
     "text": [
      "K-Fold #4\n",
      "Mean negativities for all classes: [0.3983169484197426, 0.3927653807294798, 0.39295875965474947]\n",
      "Mean entropies for all classes: [1.0132919194415452e-14, 6.0234161751709314e-15, 5.3863922850487294e-15]\n",
      "              precision    recall  f1-score   support\n",
      "\n",
      "           0       0.31      0.67      0.42         6\n",
      "           1       0.00      0.00      0.00         7\n",
      "           2       0.00      0.00      0.00         5\n",
      "\n",
      "    accuracy                           0.22        18\n",
      "   macro avg       0.10      0.22      0.14        18\n",
      "weighted avg       0.10      0.22      0.14        18\n",
      "\n",
      "-------------------------------------------------------------------------------------------------------------------\n"
     ]
    },
    {
     "name": "stderr",
     "output_type": "stream",
     "text": [
      "[Parallel(n_jobs=-1)]: Using backend LokyBackend with 12 concurrent workers.\n",
      "[Parallel(n_jobs=-1)]: Done   3 out of   3 | elapsed:  2.5min finished\n"
     ]
    },
    {
     "name": "stdout",
     "output_type": "stream",
     "text": [
      "K-Fold #5\n",
      "Mean negativities for all classes: [0.3905713750248079, 0.39713717442045965, 0.3908203052660284]\n",
      "Mean entropies for all classes: [9.346184327378202e-15, 8.234678135219838e-15, 6.91751680353739e-15]\n",
      "              precision    recall  f1-score   support\n",
      "\n",
      "           0       0.33      0.33      0.33         6\n",
      "           1       0.33      0.57      0.42         7\n",
      "           2       0.00      0.00      0.00         5\n",
      "\n",
      "    accuracy                           0.33        18\n",
      "   macro avg       0.22      0.30      0.25        18\n",
      "weighted avg       0.24      0.33      0.27        18\n",
      "\n",
      "-------------------------------------------------------------------------------------------------------------------\n"
     ]
    },
    {
     "name": "stderr",
     "output_type": "stream",
     "text": [
      "c:\\ProgramData\\Anaconda3\\lib\\site-packages\\sklearn\\metrics\\_classification.py:1344: UndefinedMetricWarning: Precision and F-score are ill-defined and being set to 0.0 in labels with no predicted samples. Use `zero_division` parameter to control this behavior.\n",
      "  _warn_prf(average, modifier, msg_start, len(result))\n",
      "c:\\ProgramData\\Anaconda3\\lib\\site-packages\\sklearn\\metrics\\_classification.py:1344: UndefinedMetricWarning: Precision and F-score are ill-defined and being set to 0.0 in labels with no predicted samples. Use `zero_division` parameter to control this behavior.\n",
      "  _warn_prf(average, modifier, msg_start, len(result))\n",
      "c:\\ProgramData\\Anaconda3\\lib\\site-packages\\sklearn\\metrics\\_classification.py:1344: UndefinedMetricWarning: Precision and F-score are ill-defined and being set to 0.0 in labels with no predicted samples. Use `zero_division` parameter to control this behavior.\n",
      "  _warn_prf(average, modifier, msg_start, len(result))\n",
      "[Parallel(n_jobs=-1)]: Using backend LokyBackend with 12 concurrent workers.\n",
      "[Parallel(n_jobs=-1)]: Done   3 out of   3 | elapsed:  2.5min finished\n"
     ]
    },
    {
     "name": "stdout",
     "output_type": "stream",
     "text": [
      "K-Fold #6\n",
      "Mean negativities for all classes: [0.39879532877570123, 0.38618290962081986, 0.3951788514168935]\n",
      "Mean entropies for all classes: [5.848907400411612e-15, 6.800094542330708e-15, 7.792136369109674e-15]\n",
      "              precision    recall  f1-score   support\n",
      "\n",
      "           0       0.25      0.50      0.33         6\n",
      "           1       0.50      0.14      0.22         7\n",
      "           2       0.00      0.00      0.00         5\n",
      "\n",
      "    accuracy                           0.22        18\n",
      "   macro avg       0.25      0.21      0.19        18\n",
      "weighted avg       0.28      0.22      0.20        18\n",
      "\n",
      "-------------------------------------------------------------------------------------------------------------------\n"
     ]
    },
    {
     "name": "stderr",
     "output_type": "stream",
     "text": [
      "[Parallel(n_jobs=-1)]: Using backend LokyBackend with 12 concurrent workers.\n",
      "[Parallel(n_jobs=-1)]: Done   3 out of   3 | elapsed:  2.5min finished\n"
     ]
    },
    {
     "name": "stdout",
     "output_type": "stream",
     "text": [
      "K-Fold #7\n",
      "Mean negativities for all classes: [0.3912452545019178, 0.3961826935568873, 0.3902444880645996]\n",
      "Mean entropies for all classes: [8.568589788456068e-15, 5.965255424136621e-15, 6.506467157301164e-15]\n",
      "              precision    recall  f1-score   support\n",
      "\n",
      "           0       0.27      0.50      0.35         6\n",
      "           1       0.00      0.00      0.00         7\n",
      "           2       0.00      0.00      0.00         5\n",
      "\n",
      "    accuracy                           0.17        18\n",
      "   macro avg       0.09      0.17      0.12        18\n",
      "weighted avg       0.09      0.17      0.12        18\n",
      "\n",
      "-------------------------------------------------------------------------------------------------------------------\n"
     ]
    },
    {
     "name": "stderr",
     "output_type": "stream",
     "text": [
      "[Parallel(n_jobs=-1)]: Using backend LokyBackend with 12 concurrent workers.\n",
      "C:\\Users\\Eduardo Barreto\\AppData\\Roaming\\Python\\Python39\\site-packages\\joblib\\externals\\loky\\process_executor.py:700: UserWarning: A worker stopped while some jobs were given to the executor. This can be caused by a too short worker timeout or by a memory leak.\n",
      "  warnings.warn(\n",
      "[Parallel(n_jobs=-1)]: Done   3 out of   3 | elapsed:  2.5min finished\n"
     ]
    },
    {
     "name": "stdout",
     "output_type": "stream",
     "text": [
      "K-Fold #8\n",
      "Mean negativities for all classes: [0.3983769476288715, 0.39458599538296496, 0.39236569793018083]\n",
      "Mean entropies for all classes: [9.448269430766346e-15, 6.1636287803577095e-15, 6.500438925400271e-15]\n",
      "              precision    recall  f1-score   support\n",
      "\n",
      "           0       0.20      0.33      0.25         6\n",
      "           1       0.50      0.14      0.22         7\n",
      "           2       0.00      0.00      0.00         4\n",
      "\n",
      "    accuracy                           0.18        17\n",
      "   macro avg       0.23      0.16      0.16        17\n",
      "weighted avg       0.28      0.18      0.18        17\n",
      "\n",
      "-------------------------------------------------------------------------------------------------------------------\n"
     ]
    },
    {
     "name": "stderr",
     "output_type": "stream",
     "text": [
      "[Parallel(n_jobs=-1)]: Using backend LokyBackend with 12 concurrent workers.\n",
      "[Parallel(n_jobs=-1)]: Done   3 out of   3 | elapsed:  2.5min finished\n"
     ]
    },
    {
     "name": "stdout",
     "output_type": "stream",
     "text": [
      "K-Fold #9\n",
      "Mean negativities for all classes: [0.39821914701264427, 0.3946140262246841, 0.3985544300590419]\n",
      "Mean entropies for all classes: [7.638493835001999e-15, 6.272410874649265e-15, 6.1940281032222575e-15]\n",
      "              precision    recall  f1-score   support\n",
      "\n",
      "           0       0.38      1.00      0.56         5\n",
      "           1       0.00      0.00      0.00         8\n",
      "           2       0.50      0.25      0.33         4\n",
      "\n",
      "    accuracy                           0.35        17\n",
      "   macro avg       0.29      0.42      0.30        17\n",
      "weighted avg       0.23      0.35      0.24        17\n",
      "\n",
      "-------------------------------------------------------------------------------------------------------------------\n",
      "AVG: Scores = 0.21960784313725487 F1-Scores = 0.1742477926843252 Negativity = [0.3881120528420014, 0.3928136820498349, 0.3920179568249426] Entropy = [6.740722395232583e-15, 6.016522238027682e-15, 6.4299869868325325e-15]\n"
     ]
    },
    {
     "name": "stderr",
     "output_type": "stream",
     "text": [
      "[Parallel(n_jobs=-1)]: Using backend LokyBackend with 12 concurrent workers.\n",
      "[Parallel(n_jobs=-1)]: Done   3 out of   3 | elapsed:  2.5min finished\n"
     ]
    },
    {
     "name": "stdout",
     "output_type": "stream",
     "text": [
      "K-Fold #0\n",
      "Mean negativities for all classes: [0.3940785163676762, 0.3943722899479868, 0.39209588135143475]\n",
      "Mean entropies for all classes: [6.6889635835580134e-15, 6.175887628895187e-15, 7.146332455733917e-15]\n",
      "              precision    recall  f1-score   support\n",
      "\n",
      "           0       0.25      0.17      0.20         6\n",
      "           1       0.33      0.14      0.20         7\n",
      "           2       0.09      0.20      0.13         5\n",
      "\n",
      "    accuracy                           0.17        18\n",
      "   macro avg       0.22      0.17      0.18        18\n",
      "weighted avg       0.24      0.17      0.18        18\n",
      "\n",
      "-------------------------------------------------------------------------------------------------------------------\n"
     ]
    },
    {
     "name": "stderr",
     "output_type": "stream",
     "text": [
      "[Parallel(n_jobs=-1)]: Using backend LokyBackend with 12 concurrent workers.\n",
      "[Parallel(n_jobs=-1)]: Done   3 out of   3 | elapsed:  2.5min finished\n"
     ]
    },
    {
     "name": "stdout",
     "output_type": "stream",
     "text": [
      "K-Fold #1\n",
      "Mean negativities for all classes: [0.3888892927601024, 0.39516533292869954, 0.3919101095998865]\n",
      "Mean entropies for all classes: [6.813894093282604e-15, 9.033229145173955e-15, 7.350136274305029e-15]\n",
      "              precision    recall  f1-score   support\n",
      "\n",
      "           0       0.09      0.17      0.12         6\n",
      "           1       0.00      0.00      0.00         7\n",
      "           2       0.29      0.40      0.33         5\n",
      "\n",
      "    accuracy                           0.17        18\n",
      "   macro avg       0.13      0.19      0.15        18\n",
      "weighted avg       0.11      0.17      0.13        18\n",
      "\n",
      "-------------------------------------------------------------------------------------------------------------------\n"
     ]
    },
    {
     "name": "stderr",
     "output_type": "stream",
     "text": [
      "c:\\ProgramData\\Anaconda3\\lib\\site-packages\\sklearn\\metrics\\_classification.py:1344: UndefinedMetricWarning: Precision and F-score are ill-defined and being set to 0.0 in labels with no predicted samples. Use `zero_division` parameter to control this behavior.\n",
      "  _warn_prf(average, modifier, msg_start, len(result))\n",
      "c:\\ProgramData\\Anaconda3\\lib\\site-packages\\sklearn\\metrics\\_classification.py:1344: UndefinedMetricWarning: Precision and F-score are ill-defined and being set to 0.0 in labels with no predicted samples. Use `zero_division` parameter to control this behavior.\n",
      "  _warn_prf(average, modifier, msg_start, len(result))\n",
      "c:\\ProgramData\\Anaconda3\\lib\\site-packages\\sklearn\\metrics\\_classification.py:1344: UndefinedMetricWarning: Precision and F-score are ill-defined and being set to 0.0 in labels with no predicted samples. Use `zero_division` parameter to control this behavior.\n",
      "  _warn_prf(average, modifier, msg_start, len(result))\n",
      "[Parallel(n_jobs=-1)]: Using backend LokyBackend with 12 concurrent workers.\n",
      "[Parallel(n_jobs=-1)]: Done   3 out of   3 | elapsed:  2.5min finished\n"
     ]
    },
    {
     "name": "stdout",
     "output_type": "stream",
     "text": [
      "K-Fold #2\n",
      "Mean negativities for all classes: [0.3910684578110081, 0.3961144535581253, 0.3922512026350902]\n",
      "Mean entropies for all classes: [7.254117188733322e-15, 5.004386050216244e-15, 8.184839131218398e-15]\n",
      "              precision    recall  f1-score   support\n",
      "\n",
      "           0       0.22      0.33      0.27         6\n",
      "           1       0.00      0.00      0.00         7\n",
      "           2       0.11      0.20      0.14         5\n",
      "\n",
      "    accuracy                           0.17        18\n",
      "   macro avg       0.11      0.18      0.14        18\n",
      "weighted avg       0.10      0.17      0.13        18\n",
      "\n",
      "-------------------------------------------------------------------------------------------------------------------\n"
     ]
    },
    {
     "name": "stderr",
     "output_type": "stream",
     "text": [
      "c:\\ProgramData\\Anaconda3\\lib\\site-packages\\sklearn\\metrics\\_classification.py:1344: UndefinedMetricWarning: Precision and F-score are ill-defined and being set to 0.0 in labels with no predicted samples. Use `zero_division` parameter to control this behavior.\n",
      "  _warn_prf(average, modifier, msg_start, len(result))\n",
      "c:\\ProgramData\\Anaconda3\\lib\\site-packages\\sklearn\\metrics\\_classification.py:1344: UndefinedMetricWarning: Precision and F-score are ill-defined and being set to 0.0 in labels with no predicted samples. Use `zero_division` parameter to control this behavior.\n",
      "  _warn_prf(average, modifier, msg_start, len(result))\n",
      "c:\\ProgramData\\Anaconda3\\lib\\site-packages\\sklearn\\metrics\\_classification.py:1344: UndefinedMetricWarning: Precision and F-score are ill-defined and being set to 0.0 in labels with no predicted samples. Use `zero_division` parameter to control this behavior.\n",
      "  _warn_prf(average, modifier, msg_start, len(result))\n",
      "[Parallel(n_jobs=-1)]: Using backend LokyBackend with 12 concurrent workers.\n",
      "[Parallel(n_jobs=-1)]: Done   3 out of   3 | elapsed:  2.5min finished\n"
     ]
    },
    {
     "name": "stdout",
     "output_type": "stream",
     "text": [
      "K-Fold #3\n",
      "Mean negativities for all classes: [0.392942577717777, 0.38995244836244053, 0.3931554055356294]\n",
      "Mean entropies for all classes: [7.00975693930522e-15, 7.08556483320331e-15, 7.204884422063745e-15]\n",
      "              precision    recall  f1-score   support\n",
      "\n",
      "           0       0.45      0.83      0.59         6\n",
      "           1       0.67      0.29      0.40         7\n",
      "           2       0.25      0.20      0.22         5\n",
      "\n",
      "    accuracy                           0.44        18\n",
      "   macro avg       0.46      0.44      0.40        18\n",
      "weighted avg       0.48      0.44      0.41        18\n",
      "\n",
      "-------------------------------------------------------------------------------------------------------------------\n"
     ]
    },
    {
     "name": "stderr",
     "output_type": "stream",
     "text": [
      "[Parallel(n_jobs=-1)]: Using backend LokyBackend with 12 concurrent workers.\n",
      "[Parallel(n_jobs=-1)]: Done   3 out of   3 | elapsed:  2.5min finished\n"
     ]
    },
    {
     "name": "stdout",
     "output_type": "stream",
     "text": [
      "K-Fold #4\n",
      "Mean negativities for all classes: [0.3890569936751449, 0.3945293276572486, 0.38802057984749705]\n",
      "Mean entropies for all classes: [7.48033264439009e-15, 9.026179015074556e-15, 6.3946725366038976e-15]\n",
      "              precision    recall  f1-score   support\n",
      "\n",
      "           0       0.33      0.33      0.33         6\n",
      "           1       0.33      0.57      0.42         7\n",
      "           2       0.00      0.00      0.00         5\n",
      "\n",
      "    accuracy                           0.33        18\n",
      "   macro avg       0.22      0.30      0.25        18\n",
      "weighted avg       0.24      0.33      0.27        18\n",
      "\n",
      "-------------------------------------------------------------------------------------------------------------------\n"
     ]
    },
    {
     "name": "stderr",
     "output_type": "stream",
     "text": [
      "c:\\ProgramData\\Anaconda3\\lib\\site-packages\\sklearn\\metrics\\_classification.py:1344: UndefinedMetricWarning: Precision and F-score are ill-defined and being set to 0.0 in labels with no predicted samples. Use `zero_division` parameter to control this behavior.\n",
      "  _warn_prf(average, modifier, msg_start, len(result))\n",
      "c:\\ProgramData\\Anaconda3\\lib\\site-packages\\sklearn\\metrics\\_classification.py:1344: UndefinedMetricWarning: Precision and F-score are ill-defined and being set to 0.0 in labels with no predicted samples. Use `zero_division` parameter to control this behavior.\n",
      "  _warn_prf(average, modifier, msg_start, len(result))\n",
      "c:\\ProgramData\\Anaconda3\\lib\\site-packages\\sklearn\\metrics\\_classification.py:1344: UndefinedMetricWarning: Precision and F-score are ill-defined and being set to 0.0 in labels with no predicted samples. Use `zero_division` parameter to control this behavior.\n",
      "  _warn_prf(average, modifier, msg_start, len(result))\n",
      "[Parallel(n_jobs=-1)]: Using backend LokyBackend with 12 concurrent workers.\n",
      "[Parallel(n_jobs=-1)]: Done   3 out of   3 | elapsed:  2.5min finished\n"
     ]
    },
    {
     "name": "stdout",
     "output_type": "stream",
     "text": [
      "K-Fold #5\n",
      "Mean negativities for all classes: [0.39063253210479565, 0.3896229606639989, 0.3899831128738424]\n",
      "Mean entropies for all classes: [7.953350084746552e-15, 7.308317563928899e-15, 6.915363775931249e-15]\n",
      "              precision    recall  f1-score   support\n",
      "\n",
      "           0       0.14      0.17      0.15         6\n",
      "           1       0.50      0.14      0.22         7\n",
      "           2       0.11      0.20      0.14         5\n",
      "\n",
      "    accuracy                           0.17        18\n",
      "   macro avg       0.25      0.17      0.17        18\n",
      "weighted avg       0.27      0.17      0.18        18\n",
      "\n",
      "-------------------------------------------------------------------------------------------------------------------\n"
     ]
    },
    {
     "name": "stderr",
     "output_type": "stream",
     "text": [
      "[Parallel(n_jobs=-1)]: Using backend LokyBackend with 12 concurrent workers.\n",
      "[Parallel(n_jobs=-1)]: Done   3 out of   3 | elapsed:  2.5min finished\n"
     ]
    },
    {
     "name": "stdout",
     "output_type": "stream",
     "text": [
      "K-Fold #6\n",
      "Mean negativities for all classes: [0.39210537251852184, 0.3940764935011083, 0.3885869928580263]\n",
      "Mean entropies for all classes: [9.132730013651131e-15, 6.9300345659263155e-15, 8.16761253556151e-15]\n",
      "              precision    recall  f1-score   support\n",
      "\n",
      "           0       0.50      0.17      0.25         6\n",
      "           1       0.43      0.43      0.43         7\n",
      "           2       0.33      0.60      0.43         5\n",
      "\n",
      "    accuracy                           0.39        18\n",
      "   macro avg       0.42      0.40      0.37        18\n",
      "weighted avg       0.43      0.39      0.37        18\n",
      "\n",
      "-------------------------------------------------------------------------------------------------------------------\n"
     ]
    },
    {
     "name": "stderr",
     "output_type": "stream",
     "text": [
      "[Parallel(n_jobs=-1)]: Using backend LokyBackend with 12 concurrent workers.\n",
      "[Parallel(n_jobs=-1)]: Done   3 out of   3 | elapsed:  2.5min finished\n"
     ]
    },
    {
     "name": "stdout",
     "output_type": "stream",
     "text": [
      "K-Fold #7\n",
      "Mean negativities for all classes: [0.3942144911496778, 0.39385058210561247, 0.3971532818364995]\n",
      "Mean entropies for all classes: [7.293871312833524e-15, 6.85361019817635e-15, 1.2871968323382678e-14]\n",
      "              precision    recall  f1-score   support\n",
      "\n",
      "           0       0.38      0.50      0.43         6\n",
      "           1       0.44      0.57      0.50         7\n",
      "           2       1.00      0.20      0.33         5\n",
      "\n",
      "    accuracy                           0.44        18\n",
      "   macro avg       0.61      0.42      0.42        18\n",
      "weighted avg       0.58      0.44      0.43        18\n",
      "\n",
      "-------------------------------------------------------------------------------------------------------------------\n"
     ]
    },
    {
     "name": "stderr",
     "output_type": "stream",
     "text": [
      "[Parallel(n_jobs=-1)]: Using backend LokyBackend with 12 concurrent workers.\n",
      "[Parallel(n_jobs=-1)]: Done   3 out of   3 | elapsed:  2.5min finished\n"
     ]
    },
    {
     "name": "stdout",
     "output_type": "stream",
     "text": [
      "K-Fold #8\n",
      "Mean negativities for all classes: [0.3932313040946199, 0.39265457016622696, 0.3977013331089771]\n",
      "Mean entropies for all classes: [1.0216803783412982e-14, 7.140424677697742e-15, 7.0887496394836565e-15]\n",
      "              precision    recall  f1-score   support\n",
      "\n",
      "           0       0.42      0.83      0.56         6\n",
      "           1       0.00      0.00      0.00         7\n",
      "           2       0.00      0.00      0.00         4\n",
      "\n",
      "    accuracy                           0.29        17\n",
      "   macro avg       0.14      0.28      0.19        17\n",
      "weighted avg       0.15      0.29      0.20        17\n",
      "\n",
      "-------------------------------------------------------------------------------------------------------------------\n"
     ]
    },
    {
     "name": "stderr",
     "output_type": "stream",
     "text": [
      "[Parallel(n_jobs=-1)]: Using backend LokyBackend with 12 concurrent workers.\n",
      "[Parallel(n_jobs=-1)]: Done   3 out of   3 | elapsed:  2.5min finished\n"
     ]
    },
    {
     "name": "stdout",
     "output_type": "stream",
     "text": [
      "K-Fold #9\n",
      "Mean negativities for all classes: [0.39611102295881434, 0.39279654431598604, 0.3902234566591435]\n",
      "Mean entropies for all classes: [6.728196079294615e-15, 6.680770146062094e-15, 8.834877533690379e-15]\n",
      "              precision    recall  f1-score   support\n",
      "\n",
      "           0       0.50      0.20      0.29         5\n",
      "           1       0.00      0.00      0.00         8\n",
      "           2       0.15      0.50      0.24         4\n",
      "\n",
      "    accuracy                           0.18        17\n",
      "   macro avg       0.22      0.23      0.17        17\n",
      "weighted avg       0.18      0.18      0.14        17\n",
      "\n",
      "-------------------------------------------------------------------------------------------------------------------\n",
      "AVG: Scores = 0.2748366013071895 F1-Scores = 0.24382949266076198 Negativity = [0.39351556255569925, 0.3919882450962295, 0.3931447046680745] Entropy = [6.670394556062372e-15, 7.732419837587197e-15, 6.814447456722655e-15]\n"
     ]
    },
    {
     "name": "stderr",
     "output_type": "stream",
     "text": [
      "[Parallel(n_jobs=-1)]: Using backend LokyBackend with 12 concurrent workers.\n",
      "[Parallel(n_jobs=-1)]: Done   3 out of   3 | elapsed:  2.5min finished\n"
     ]
    },
    {
     "name": "stdout",
     "output_type": "stream",
     "text": [
      "K-Fold #0\n",
      "Mean negativities for all classes: [0.3874684128552647, 0.39396680039511167, 0.37638439941992846]\n",
      "Mean entropies for all classes: [8.825004396940771e-15, 6.603532307029089e-15, 6.4307811106800404e-15]\n",
      "              precision    recall  f1-score   support\n",
      "\n",
      "           0       0.38      1.00      0.55         6\n",
      "           1       0.50      0.14      0.22         7\n",
      "           2       0.00      0.00      0.00         5\n",
      "\n",
      "    accuracy                           0.39        18\n",
      "   macro avg       0.29      0.38      0.26        18\n",
      "weighted avg       0.32      0.39      0.27        18\n",
      "\n",
      "-------------------------------------------------------------------------------------------------------------------\n"
     ]
    },
    {
     "name": "stderr",
     "output_type": "stream",
     "text": [
      "c:\\ProgramData\\Anaconda3\\lib\\site-packages\\sklearn\\metrics\\_classification.py:1344: UndefinedMetricWarning: Precision and F-score are ill-defined and being set to 0.0 in labels with no predicted samples. Use `zero_division` parameter to control this behavior.\n",
      "  _warn_prf(average, modifier, msg_start, len(result))\n",
      "c:\\ProgramData\\Anaconda3\\lib\\site-packages\\sklearn\\metrics\\_classification.py:1344: UndefinedMetricWarning: Precision and F-score are ill-defined and being set to 0.0 in labels with no predicted samples. Use `zero_division` parameter to control this behavior.\n",
      "  _warn_prf(average, modifier, msg_start, len(result))\n",
      "c:\\ProgramData\\Anaconda3\\lib\\site-packages\\sklearn\\metrics\\_classification.py:1344: UndefinedMetricWarning: Precision and F-score are ill-defined and being set to 0.0 in labels with no predicted samples. Use `zero_division` parameter to control this behavior.\n",
      "  _warn_prf(average, modifier, msg_start, len(result))\n",
      "[Parallel(n_jobs=-1)]: Using backend LokyBackend with 12 concurrent workers.\n",
      "C:\\Users\\Eduardo Barreto\\AppData\\Roaming\\Python\\Python39\\site-packages\\joblib\\externals\\loky\\process_executor.py:700: UserWarning: A worker stopped while some jobs were given to the executor. This can be caused by a too short worker timeout or by a memory leak.\n",
      "  warnings.warn(\n",
      "[Parallel(n_jobs=-1)]: Done   3 out of   3 | elapsed:  2.5min finished\n"
     ]
    },
    {
     "name": "stdout",
     "output_type": "stream",
     "text": [
      "K-Fold #1\n",
      "Mean negativities for all classes: [0.3926161333592275, 0.3875219050336188, 0.39699018299011]\n",
      "Mean entropies for all classes: [4.288508059200862e-15, 6.3353568021448294e-15, 8.06638767747569e-15]\n",
      "              precision    recall  f1-score   support\n",
      "\n",
      "           0       0.45      0.83      0.59         6\n",
      "           1       0.00      0.00      0.00         7\n",
      "           2       0.20      0.20      0.20         5\n",
      "\n",
      "    accuracy                           0.33        18\n",
      "   macro avg       0.22      0.34      0.26        18\n",
      "weighted avg       0.21      0.33      0.25        18\n",
      "\n",
      "-------------------------------------------------------------------------------------------------------------------\n"
     ]
    },
    {
     "name": "stderr",
     "output_type": "stream",
     "text": [
      "[Parallel(n_jobs=-1)]: Using backend LokyBackend with 12 concurrent workers.\n",
      "[Parallel(n_jobs=-1)]: Done   3 out of   3 | elapsed:  2.5min finished\n"
     ]
    },
    {
     "name": "stdout",
     "output_type": "stream",
     "text": [
      "K-Fold #2\n",
      "Mean negativities for all classes: [0.3917243885678656, 0.3934223160816803, 0.3928742871839085]\n",
      "Mean entropies for all classes: [7.424613460926564e-15, 6.916120056530519e-15, 7.221784729189042e-15]\n",
      "              precision    recall  f1-score   support\n",
      "\n",
      "           0       0.50      0.67      0.57         6\n",
      "           1       0.40      0.29      0.33         7\n",
      "           2       0.20      0.20      0.20         5\n",
      "\n",
      "    accuracy                           0.39        18\n",
      "   macro avg       0.37      0.38      0.37        18\n",
      "weighted avg       0.38      0.39      0.38        18\n",
      "\n",
      "-------------------------------------------------------------------------------------------------------------------\n"
     ]
    },
    {
     "name": "stderr",
     "output_type": "stream",
     "text": [
      "[Parallel(n_jobs=-1)]: Using backend LokyBackend with 12 concurrent workers.\n",
      "[Parallel(n_jobs=-1)]: Done   3 out of   3 | elapsed:  2.5min finished\n"
     ]
    },
    {
     "name": "stdout",
     "output_type": "stream",
     "text": [
      "K-Fold #3\n",
      "Mean negativities for all classes: [0.3928144822809268, 0.39480053985699204, 0.39091822873744153]\n",
      "Mean entropies for all classes: [5.877500470929202e-15, 9.717551386188675e-15, 6.378768965384861e-15]\n",
      "              precision    recall  f1-score   support\n",
      "\n",
      "           0       0.21      0.50      0.30         6\n",
      "           1       0.00      0.00      0.00         7\n",
      "           2       0.00      0.00      0.00         5\n",
      "\n",
      "    accuracy                           0.17        18\n",
      "   macro avg       0.07      0.17      0.10        18\n",
      "weighted avg       0.07      0.17      0.10        18\n",
      "\n",
      "-------------------------------------------------------------------------------------------------------------------\n"
     ]
    },
    {
     "name": "stderr",
     "output_type": "stream",
     "text": [
      "[Parallel(n_jobs=-1)]: Using backend LokyBackend with 12 concurrent workers.\n",
      "[Parallel(n_jobs=-1)]: Done   3 out of   3 | elapsed:  2.5min finished\n"
     ]
    },
    {
     "name": "stdout",
     "output_type": "stream",
     "text": [
      "K-Fold #4\n",
      "Mean negativities for all classes: [0.39655265051263694, 0.39511240833776834, 0.3963426049673908]\n",
      "Mean entropies for all classes: [6.976501496019085e-15, 7.068377681955589e-15, 4.0371841548123165e-15]\n",
      "              precision    recall  f1-score   support\n",
      "\n",
      "           0       0.40      0.33      0.36         6\n",
      "           1       0.00      0.00      0.00         7\n",
      "           2       0.18      0.40      0.25         5\n",
      "\n",
      "    accuracy                           0.22        18\n",
      "   macro avg       0.19      0.24      0.20        18\n",
      "weighted avg       0.18      0.22      0.19        18\n",
      "\n",
      "-------------------------------------------------------------------------------------------------------------------\n"
     ]
    },
    {
     "name": "stderr",
     "output_type": "stream",
     "text": [
      "[Parallel(n_jobs=-1)]: Using backend LokyBackend with 12 concurrent workers.\n",
      "[Parallel(n_jobs=-1)]: Done   3 out of   3 | elapsed:  2.5min finished\n"
     ]
    },
    {
     "name": "stdout",
     "output_type": "stream",
     "text": [
      "K-Fold #5\n",
      "Mean negativities for all classes: [0.39682545386759266, 0.39394985608436034, 0.3939761071206528]\n",
      "Mean entropies for all classes: [6.2479171504350454e-15, 7.291473434470269e-15, 7.762680578820052e-15]\n",
      "              precision    recall  f1-score   support\n",
      "\n",
      "           0       0.57      0.67      0.62         6\n",
      "           1       0.00      0.00      0.00         7\n",
      "           2       0.22      0.40      0.29         5\n",
      "\n",
      "    accuracy                           0.33        18\n",
      "   macro avg       0.26      0.36      0.30        18\n",
      "weighted avg       0.25      0.33      0.28        18\n",
      "\n",
      "-------------------------------------------------------------------------------------------------------------------\n"
     ]
    },
    {
     "name": "stderr",
     "output_type": "stream",
     "text": [
      "[Parallel(n_jobs=-1)]: Using backend LokyBackend with 12 concurrent workers.\n",
      "[Parallel(n_jobs=-1)]: Done   3 out of   3 | elapsed:  2.5min finished\n"
     ]
    },
    {
     "name": "stdout",
     "output_type": "stream",
     "text": [
      "K-Fold #6\n",
      "Mean negativities for all classes: [0.393814573898814, 0.3946117482542602, 0.3863153021761892]\n",
      "Mean entropies for all classes: [7.979744070849335e-15, 7.224260144352677e-15, 7.185941574398151e-15]\n",
      "              precision    recall  f1-score   support\n",
      "\n",
      "           0       0.30      0.50      0.37         6\n",
      "           1       1.00      0.14      0.25         7\n",
      "           2       0.14      0.20      0.17         5\n",
      "\n",
      "    accuracy                           0.28        18\n",
      "   macro avg       0.48      0.28      0.26        18\n",
      "weighted avg       0.53      0.28      0.27        18\n",
      "\n",
      "-------------------------------------------------------------------------------------------------------------------\n"
     ]
    },
    {
     "name": "stderr",
     "output_type": "stream",
     "text": [
      "[Parallel(n_jobs=-1)]: Using backend LokyBackend with 12 concurrent workers.\n",
      "[Parallel(n_jobs=-1)]: Done   3 out of   3 | elapsed:  2.5min finished\n"
     ]
    },
    {
     "name": "stdout",
     "output_type": "stream",
     "text": [
      "K-Fold #7\n",
      "Mean negativities for all classes: [0.3924386889947952, 0.38937599413045, 0.3957070441944912]\n",
      "Mean entropies for all classes: [7.44300357892177e-15, 6.72752454669442e-15, 7.236985699162575e-15]\n",
      "              precision    recall  f1-score   support\n",
      "\n",
      "           0       0.25      0.33      0.29         6\n",
      "           1       0.33      0.14      0.20         7\n",
      "           2       0.14      0.20      0.17         5\n",
      "\n",
      "    accuracy                           0.22        18\n",
      "   macro avg       0.24      0.23      0.22        18\n",
      "weighted avg       0.25      0.22      0.22        18\n",
      "\n",
      "-------------------------------------------------------------------------------------------------------------------\n"
     ]
    },
    {
     "name": "stderr",
     "output_type": "stream",
     "text": [
      "[Parallel(n_jobs=-1)]: Using backend LokyBackend with 12 concurrent workers.\n",
      "[Parallel(n_jobs=-1)]: Done   3 out of   3 | elapsed:  2.5min finished\n"
     ]
    },
    {
     "name": "stdout",
     "output_type": "stream",
     "text": [
      "K-Fold #8\n",
      "Mean negativities for all classes: [0.39066561877963274, 0.3922429791499169, 0.38967859572657576]\n",
      "Mean entropies for all classes: [6.088313424111685e-15, 6.70883614775105e-15, 7.204590609198942e-15]\n",
      "              precision    recall  f1-score   support\n",
      "\n",
      "           0       0.50      0.17      0.25         6\n",
      "           1       0.00      0.00      0.00         7\n",
      "           2       0.15      0.50      0.24         4\n",
      "\n",
      "    accuracy                           0.18        17\n",
      "   macro avg       0.22      0.22      0.16        17\n",
      "weighted avg       0.21      0.18      0.14        17\n",
      "\n",
      "-------------------------------------------------------------------------------------------------------------------\n"
     ]
    },
    {
     "name": "stderr",
     "output_type": "stream",
     "text": [
      "[Parallel(n_jobs=-1)]: Using backend LokyBackend with 12 concurrent workers.\n",
      "[Parallel(n_jobs=-1)]: Done   3 out of   3 | elapsed:  2.5min finished\n"
     ]
    },
    {
     "name": "stdout",
     "output_type": "stream",
     "text": [
      "K-Fold #9\n",
      "Mean negativities for all classes: [0.39297153166266396, 0.39633443204604335, 0.3895345435113147]\n",
      "Mean entropies for all classes: [5.5680580490074185e-15, 7.119064958705831e-15, 9.271399438830063e-15]\n",
      "              precision    recall  f1-score   support\n",
      "\n",
      "           0       0.44      0.80      0.57         5\n",
      "           1       0.00      0.00      0.00         8\n",
      "           2       0.38      0.75      0.50         4\n",
      "\n",
      "    accuracy                           0.41        17\n",
      "   macro avg       0.27      0.52      0.36        17\n",
      "weighted avg       0.22      0.41      0.29        17\n",
      "\n",
      "-------------------------------------------------------------------------------------------------------------------\n",
      "AVG: Scores = 0.292156862745098 F1-Scores = 0.24920598464716112 Negativity = [0.3859398708901016, 0.3923760737943187, 0.39267366394448483] Entropy = [7.286439271549967e-15, 6.230084179607127e-15, 7.187506082215375e-15]\n",
      "CPU times: total: 5min 44s\n",
      "Wall time: 8h 23min 58s\n"
     ]
    },
    {
     "name": "stderr",
     "output_type": "stream",
     "text": [
      "c:\\ProgramData\\Anaconda3\\lib\\site-packages\\sklearn\\metrics\\_classification.py:1344: UndefinedMetricWarning: Precision and F-score are ill-defined and being set to 0.0 in labels with no predicted samples. Use `zero_division` parameter to control this behavior.\n",
      "  _warn_prf(average, modifier, msg_start, len(result))\n",
      "c:\\ProgramData\\Anaconda3\\lib\\site-packages\\sklearn\\metrics\\_classification.py:1344: UndefinedMetricWarning: Precision and F-score are ill-defined and being set to 0.0 in labels with no predicted samples. Use `zero_division` parameter to control this behavior.\n",
      "  _warn_prf(average, modifier, msg_start, len(result))\n",
      "c:\\ProgramData\\Anaconda3\\lib\\site-packages\\sklearn\\metrics\\_classification.py:1344: UndefinedMetricWarning: Precision and F-score are ill-defined and being set to 0.0 in labels with no predicted samples. Use `zero_division` parameter to control this behavior.\n",
      "  _warn_prf(average, modifier, msg_start, len(result))\n"
     ]
    }
   ],
   "source": [
    "%%time\n",
    "scores_list = []\n",
    "f1scores_list = []\n",
    "negativities_list = []\n",
    "for SEED in range(n_times_kfold):\n",
    "    scores, f1scores, output_dict = execute_training_test_k_fold(\n",
    "                    X, \n",
    "                    y, \n",
    "                    k_folds=k_times_fold,\n",
    "                    random_seed = SEED, \n",
    "                    classifier_function=classifier_function, \n",
    "                    dic_classifier_params=dic_classifier_params,\n",
    "                    one_vs_classifier=OneVsRestClassifier, \n",
    "                    dic_training_params=dic_training_params,\n",
    "                    print_each_fold_metric=True,\n",
    "                    print_avg_metric=True)\n",
    "    scores_list.append(scores)\n",
    "    f1scores_list.append(f1scores)\n",
    "    negativities_list.append(output_dict[\"negativities\"])"
   ]
  },
  {
   "cell_type": "code",
   "execution_count": 4,
   "id": "edf6b067",
   "metadata": {},
   "outputs": [
    {
     "name": "stdout",
     "output_type": "stream",
     "text": [
      "[[0.5, 0.4444444444444444, 0.3888888888888889, 0.4444444444444444, 0.3333333333333333, 0.3888888888888889, 0.4444444444444444, 0.16666666666666666, 0.29411764705882354, 0.23529411764705882], [0.16666666666666666, 0.4444444444444444, 0.3888888888888889, 0.3888888888888889, 0.2777777777777778, 0.3888888888888889, 0.3333333333333333, 0.2777777777777778, 0.35294117647058826, 0.11764705882352941], [0.3888888888888889, 0.3888888888888889, 0.1111111111111111, 0.3333333333333333, 0.2777777777777778, 0.05555555555555555, 0.16666666666666666, 0.3333333333333333, 0.11764705882352941, 0.4117647058823529], [0.2222222222222222, 0.2222222222222222, 0.4444444444444444, 0.05555555555555555, 0.0, 0.3333333333333333, 0.2777777777777778, 0.5, 0.29411764705882354, 0.4117647058823529], [0.2777777777777778, 0.2777777777777778, 0.2222222222222222, 0.2777777777777778, 0.3888888888888889, 0.1111111111111111, 0.3333333333333333, 0.1111111111111111, 0.29411764705882354, 0.29411764705882354], [0.2777777777777778, 0.3333333333333333, 0.2777777777777778, 0.4444444444444444, 0.3888888888888889, 0.5, 0.3333333333333333, 0.1111111111111111, 0.23529411764705882, 0.29411764705882354], [0.3333333333333333, 0.4444444444444444, 0.3333333333333333, 0.2777777777777778, 0.2222222222222222, 0.5, 0.3333333333333333, 0.5, 0.23529411764705882, 0.35294117647058826], [0.3333333333333333, 0.3888888888888889, 0.3333333333333333, 0.4444444444444444, 0.2777777777777778, 0.2777777777777778, 0.05555555555555555, 0.2777777777777778, 0.29411764705882354, 0.11764705882352941], [0.2222222222222222, 0.5, 0.16666666666666666, 0.5, 0.2777777777777778, 0.16666666666666666, 0.2777777777777778, 0.1111111111111111, 0.4117647058823529, 0.23529411764705882], [0.2222222222222222, 0.1111111111111111, 0.3888888888888889, 0.2777777777777778, 0.5555555555555556, 0.3888888888888889, 0.3333333333333333, 0.2777777777777778, 0.35294117647058826, 0.35294117647058826], [0.2777777777777778, 0.2777777777777778, 0.3333333333333333, 0.3333333333333333, 0.2222222222222222, 0.3333333333333333, 0.3333333333333333, 0.2777777777777778, 0.4117647058823529, 0.29411764705882354], [0.2222222222222222, 0.5, 0.3333333333333333, 0.2777777777777778, 0.2777777777777778, 0.3888888888888889, 0.05555555555555555, 0.16666666666666666, 0.058823529411764705, 0.29411764705882354], [0.5, 0.2222222222222222, 0.4444444444444444, 0.3333333333333333, 0.2777777777777778, 0.4444444444444444, 0.3333333333333333, 0.2222222222222222, 0.23529411764705882, 0.17647058823529413], [0.3333333333333333, 0.2222222222222222, 0.3333333333333333, 0.3333333333333333, 0.3333333333333333, 0.3888888888888889, 0.4444444444444444, 0.4444444444444444, 0.4117647058823529, 0.058823529411764705], [0.2777777777777778, 0.4444444444444444, 0.3333333333333333, 0.1111111111111111, 0.3888888888888889, 0.2777777777777778, 0.3888888888888889, 0.2777777777777778, 0.35294117647058826, 0.11764705882352941], [0.3333333333333333, 0.05555555555555555, 0.4444444444444444, 0.0, 0.0, 0.2777777777777778, 0.5555555555555556, 0.5, 0.35294117647058826, 0.35294117647058826], [0.16666666666666666, 0.2777777777777778, 0.3333333333333333, 0.1111111111111111, 0.3333333333333333, 0.2222222222222222, 0.5, 0.1111111111111111, 0.058823529411764705, 0.4117647058823529], [0.05555555555555555, 0.3333333333333333, 0.1111111111111111, 0.2222222222222222, 0.2222222222222222, 0.3333333333333333, 0.2222222222222222, 0.16666666666666666, 0.17647058823529413, 0.35294117647058826], [0.16666666666666666, 0.16666666666666666, 0.16666666666666666, 0.4444444444444444, 0.3333333333333333, 0.16666666666666666, 0.3888888888888889, 0.4444444444444444, 0.29411764705882354, 0.17647058823529413], [0.3888888888888889, 0.3333333333333333, 0.3888888888888889, 0.16666666666666666, 0.2222222222222222, 0.3333333333333333, 0.2777777777777778, 0.2222222222222222, 0.17647058823529413, 0.4117647058823529]]\n"
     ]
    }
   ],
   "source": [
    "print(scores_list)"
   ]
  },
  {
   "cell_type": "code",
   "execution_count": 5,
   "id": "113e5328",
   "metadata": {},
   "outputs": [
    {
     "data": {
      "text/plain": [
       "0.2938562091503268"
      ]
     },
     "execution_count": 5,
     "metadata": {},
     "output_type": "execute_result"
    }
   ],
   "source": [
    "import numpy as np\n",
    "np.mean([np.mean(i) for i in scores_list])"
   ]
  },
  {
   "cell_type": "code",
   "execution_count": 6,
   "id": "5d5fcbfa",
   "metadata": {},
   "outputs": [
    {
     "data": {
      "text/plain": [
       "[0.3640522875816993,\n",
       " 0.3137254901960785,\n",
       " 0.2584967320261438,\n",
       " 0.27614379084967317,\n",
       " 0.2588235294117647,\n",
       " 0.31960784313725493,\n",
       " 0.3532679738562091,\n",
       " 0.2800653594771242,\n",
       " 0.2869281045751634,\n",
       " 0.3261437908496732,\n",
       " 0.30947712418300655,\n",
       " 0.257516339869281,\n",
       " 0.31895424836601305,\n",
       " 0.3303921568627451,\n",
       " 0.29705882352941176,\n",
       " 0.28725490196078435,\n",
       " 0.25261437908496726,\n",
       " 0.21960784313725487,\n",
       " 0.2748366013071895,\n",
       " 0.292156862745098]"
      ]
     },
     "execution_count": 6,
     "metadata": {},
     "output_type": "execute_result"
    }
   ],
   "source": [
    "[np.mean(i) for i in scores_list]"
   ]
  },
  {
   "cell_type": "code",
   "execution_count": 7,
   "id": "168e8aff",
   "metadata": {},
   "outputs": [
    {
     "name": "stdout",
     "output_type": "stream",
     "text": [
      "Media Score dos N K-Fold 0.2938562091503268\n",
      "Maior Score dos K-Fold 0.3640522875816993\n",
      "Menor Score dos K-Fold 0.21960784313725487\n",
      "\n",
      "\n",
      "[[0.5, 0.4444444444444444, 0.3888888888888889, 0.4444444444444444, 0.3333333333333333, 0.3888888888888889, 0.4444444444444444, 0.16666666666666666, 0.29411764705882354, 0.23529411764705882], [0.16666666666666666, 0.4444444444444444, 0.3888888888888889, 0.3888888888888889, 0.2777777777777778, 0.3888888888888889, 0.3333333333333333, 0.2777777777777778, 0.35294117647058826, 0.11764705882352941], [0.3888888888888889, 0.3888888888888889, 0.1111111111111111, 0.3333333333333333, 0.2777777777777778, 0.05555555555555555, 0.16666666666666666, 0.3333333333333333, 0.11764705882352941, 0.4117647058823529], [0.2222222222222222, 0.2222222222222222, 0.4444444444444444, 0.05555555555555555, 0.0, 0.3333333333333333, 0.2777777777777778, 0.5, 0.29411764705882354, 0.4117647058823529], [0.2777777777777778, 0.2777777777777778, 0.2222222222222222, 0.2777777777777778, 0.3888888888888889, 0.1111111111111111, 0.3333333333333333, 0.1111111111111111, 0.29411764705882354, 0.29411764705882354], [0.2777777777777778, 0.3333333333333333, 0.2777777777777778, 0.4444444444444444, 0.3888888888888889, 0.5, 0.3333333333333333, 0.1111111111111111, 0.23529411764705882, 0.29411764705882354], [0.3333333333333333, 0.4444444444444444, 0.3333333333333333, 0.2777777777777778, 0.2222222222222222, 0.5, 0.3333333333333333, 0.5, 0.23529411764705882, 0.35294117647058826], [0.3333333333333333, 0.3888888888888889, 0.3333333333333333, 0.4444444444444444, 0.2777777777777778, 0.2777777777777778, 0.05555555555555555, 0.2777777777777778, 0.29411764705882354, 0.11764705882352941], [0.2222222222222222, 0.5, 0.16666666666666666, 0.5, 0.2777777777777778, 0.16666666666666666, 0.2777777777777778, 0.1111111111111111, 0.4117647058823529, 0.23529411764705882], [0.2222222222222222, 0.1111111111111111, 0.3888888888888889, 0.2777777777777778, 0.5555555555555556, 0.3888888888888889, 0.3333333333333333, 0.2777777777777778, 0.35294117647058826, 0.35294117647058826], [0.2777777777777778, 0.2777777777777778, 0.3333333333333333, 0.3333333333333333, 0.2222222222222222, 0.3333333333333333, 0.3333333333333333, 0.2777777777777778, 0.4117647058823529, 0.29411764705882354], [0.2222222222222222, 0.5, 0.3333333333333333, 0.2777777777777778, 0.2777777777777778, 0.3888888888888889, 0.05555555555555555, 0.16666666666666666, 0.058823529411764705, 0.29411764705882354], [0.5, 0.2222222222222222, 0.4444444444444444, 0.3333333333333333, 0.2777777777777778, 0.4444444444444444, 0.3333333333333333, 0.2222222222222222, 0.23529411764705882, 0.17647058823529413], [0.3333333333333333, 0.2222222222222222, 0.3333333333333333, 0.3333333333333333, 0.3333333333333333, 0.3888888888888889, 0.4444444444444444, 0.4444444444444444, 0.4117647058823529, 0.058823529411764705], [0.2777777777777778, 0.4444444444444444, 0.3333333333333333, 0.1111111111111111, 0.3888888888888889, 0.2777777777777778, 0.3888888888888889, 0.2777777777777778, 0.35294117647058826, 0.11764705882352941], [0.3333333333333333, 0.05555555555555555, 0.4444444444444444, 0.0, 0.0, 0.2777777777777778, 0.5555555555555556, 0.5, 0.35294117647058826, 0.35294117647058826], [0.16666666666666666, 0.2777777777777778, 0.3333333333333333, 0.1111111111111111, 0.3333333333333333, 0.2222222222222222, 0.5, 0.1111111111111111, 0.058823529411764705, 0.4117647058823529], [0.05555555555555555, 0.3333333333333333, 0.1111111111111111, 0.2222222222222222, 0.2222222222222222, 0.3333333333333333, 0.2222222222222222, 0.16666666666666666, 0.17647058823529413, 0.35294117647058826], [0.16666666666666666, 0.16666666666666666, 0.16666666666666666, 0.4444444444444444, 0.3333333333333333, 0.16666666666666666, 0.3888888888888889, 0.4444444444444444, 0.29411764705882354, 0.17647058823529413], [0.3888888888888889, 0.3333333333333333, 0.3888888888888889, 0.16666666666666666, 0.2222222222222222, 0.3333333333333333, 0.2777777777777778, 0.2222222222222222, 0.17647058823529413, 0.4117647058823529]]\n"
     ]
    }
   ],
   "source": [
    "print(\"Media Score dos N K-Fold\", np.mean([np.mean(i) for i in scores_list]))\n",
    "print(\"Maior Score dos K-Fold\", max([np.mean(i) for i in scores_list]))\n",
    "print(\"Menor Score dos K-Fold\", min([np.mean(i) for i in scores_list]))\n",
    "\n",
    "print()\n",
    "print()\n",
    "print(scores_list)"
   ]
  },
  {
   "cell_type": "code",
   "execution_count": 8,
   "id": "fcd239e5",
   "metadata": {},
   "outputs": [
    {
     "name": "stdout",
     "output_type": "stream",
     "text": [
      "Media F1Score dos N K-Fold 0.24920598464716112\n",
      "Maior F1Score dos K-Fold 0.3682539682539683\n",
      "Menor F1Score dos K-Fold 0.09999999999999999\n",
      "\n",
      "\n",
      "[0.2558922558922559, 0.2627450980392157, 0.3682539682539683, 0.09999999999999999, 0.20454545454545456, 0.30036630036630035, 0.2638888888888889, 0.21746031746031746, 0.16176470588235295, 0.35714285714285715]\n"
     ]
    }
   ],
   "source": [
    "print(\"Media F1Score dos N K-Fold\", np.mean([np.mean(i) for i in f1scores]))\n",
    "print(\"Maior F1Score dos K-Fold\", max([np.mean(i) for i in f1scores]))\n",
    "print(\"Menor F1Score dos K-Fold\", min([np.mean(i) for i in f1scores]))\n",
    "\n",
    "print()\n",
    "print()\n",
    "print(f1scores)"
   ]
  },
  {
   "cell_type": "code",
   "execution_count": 9,
   "id": "35ede4ea",
   "metadata": {},
   "outputs": [
    {
     "name": "stdout",
     "output_type": "stream",
     "text": [
      "Media Negativity dos N K-Fold [0.3937673022385597, 0.3931165117947074, 0.3916556542613452]\n",
      "\n",
      "\n",
      "[[[0.3943021959560993, 0.3951601031435526, 0.39413459157343944, 0.3921979826718515, 0.3982554540659578, 0.39691361232493383, 0.391659483340074, 0.3946943484240154, 0.3974894095687727, 0.3971818014913443], [0.39497965429557946, 0.3963448050729238, 0.3943868437989123, 0.39126060937365326, 0.39220880250811985, 0.39330159536879666, 0.3920733393976571, 0.3946070521036292, 0.3905727990862981, 0.39792742026931677], [0.3922257233450998, 0.39447871123341277, 0.3775206594632366, 0.3762182057202301, 0.39874909228761857, 0.39488819296423494, 0.3933251606378285, 0.3938952725825052, 0.39384555583202285, 0.39848634823734036]], [[0.3945462026898955, 0.39116877486656176, 0.39163081898164365, 0.39867428761324986, 0.39161457164070207, 0.3860073909489837, 0.3929223020807895, 0.39976289290810774, 0.3926683254581983, 0.38763806263878386], [0.39701880782229737, 0.38488291407376085, 0.40205162853851667, 0.3903689280210232, 0.39615038466125985, 0.39515404584458474, 0.3962645512190277, 0.3947329430582856, 0.3951949117252786, 0.39542845918490466], [0.3854952626730109, 0.37393371861368846, 0.39383599581612233, 0.39910724105860074, 0.3933231696327189, 0.3854965131780534, 0.3834558084192645, 0.3916138693467954, 0.3751022123281589, 0.3909382106651659]], [[0.3928556474442467, 0.3952275634465164, 0.3938810359050658, 0.3942790330126995, 0.3932863844031956, 0.3967674869269595, 0.3900846274842026, 0.38799401171768305, 0.3855684369872118, 0.3945099681246862], [0.3872231486307219, 0.3920045519779347, 0.39483106944569296, 0.3924348627690847, 0.388430918041412, 0.3903575204359481, 0.39546320315390765, 0.39648147576063913, 0.3907307685086365, 0.3933873188849407], [0.38445771342563995, 0.3915906233861747, 0.38205209241933485, 0.392315930225841, 0.396791857026754, 0.3870628615113566, 0.3906261544911187, 0.38991245547461434, 0.3914974958937299, 0.39589219170099504]], [[0.39441325568541785, 0.3951691735500006, 0.395625001654387, 0.3957589323192063, 0.3988244138756569, 0.3921644219281552, 0.3969704530651129, 0.38954730319052705, 0.3874150144090874, 0.39289263918798906], [0.3932449555530264, 0.3921347900549741, 0.39289042242181776, 0.38890352663251904, 0.39140491766457797, 0.3949601487542551, 0.3919076993253835, 0.3898114770049807, 0.3924358301220152, 0.3934798204647194], [0.39086231137555544, 0.3887998686291432, 0.39911142139232164, 0.3909491723851611, 0.389810590982911, 0.3919231143864453, 0.3898241036570844, 0.3849024939992974, 0.384194510335553, 0.3924358319585863]], [[0.3946479694792571, 0.3938502107766324, 0.3879376920759219, 0.3911278248983567, 0.39979380357226096, 0.39266263259050915, 0.39304836749553423, 0.3948261739704687, 0.39380628660209577, 0.3975730599335855], [0.39038766274221387, 0.39345531698057873, 0.3897863286468245, 0.3932977533864167, 0.3961263436998111, 0.39712471058116133, 0.39316102134752445, 0.3926105089843339, 0.3970887842264952, 0.39560720289568907], [0.3875874578649347, 0.38208442371466134, 0.3887580582863828, 0.3950417948384801, 0.394612614918582, 0.3987520215640091, 0.38137469410698815, 0.3836245559571305, 0.39570490223748395, 0.3984505318675025]], [[0.39240263114588303, 0.3921912911096339, 0.3917939778947579, 0.3993830010096535, 0.39456319210071533, 0.39049772851976094, 0.39325724370607285, 0.3990286832590876, 0.39559827472294434, 0.3975648082641179], [0.3942879125502776, 0.4020604937344147, 0.39442167676251794, 0.3905840329772325, 0.3943381002955858, 0.3921707800273534, 0.39419553397783685, 0.39308873389878574, 0.39091713468354733, 0.39270372810409443], [0.3942240460874967, 0.38883448532457315, 0.38773734922067227, 0.3940341725012623, 0.39235135792589354, 0.3941669411617328, 0.37960007919808686, 0.39654471026100857, 0.39273157583365426, 0.39255070086533395]], [[0.3947392610078484, 0.3883245918798651, 0.39706731975554566, 0.3974482920578755, 0.3948702415114777, 0.3933470527480677, 0.3903706422099876, 0.39704942093809925, 0.39549052317792505, 0.38483085593735256], [0.40155982236846843, 0.387396814611271, 0.3930607598162816, 0.39261645537063633, 0.3934673809806413, 0.39710184316540303, 0.3882881012950441, 0.39362909080493963, 0.3938358991426215, 0.3938196430145357], [0.3870576499421742, 0.39214427498806326, 0.39167988198719356, 0.3862635140185292, 0.39642258688174575, 0.3831223545808247, 0.38435910522556327, 0.3849524984740931, 0.3885261349790835, 0.39661441135025055]], [[0.38790112841147445, 0.3934656858018119, 0.39446386770603703, 0.39243658067873877, 0.3967772549840187, 0.39860864689525044, 0.39846592711397233, 0.3969789700361648, 0.39413065863657737, 0.3944986393203591], [0.39968902744025486, 0.3976225979297205, 0.3884156892893389, 0.38800587503575396, 0.3945131680328282, 0.39542202351667927, 0.3917432897102156, 0.3923949832920333, 0.39409116168475083, 0.3922730762126257], [0.39943236161147383, 0.3963613523391088, 0.3928895940432899, 0.38693394096658323, 0.389394941517759, 0.3962733963719478, 0.38850582915454157, 0.398604752588375, 0.3969149302401856, 0.3914426880651025]], [[0.39389195456910503, 0.3903991135531615, 0.3955761875955426, 0.3929138136878055, 0.39405024149358847, 0.3949169971332156, 0.3899419981691608, 0.3943255505090297, 0.39370654941356376, 0.3939226727883145], [0.3958649225002323, 0.3939764900221266, 0.3976756448129343, 0.3980735137212226, 0.39186185013745767, 0.3900804013285518, 0.39430792657635866, 0.3950295001060412, 0.3940198637590937, 0.394210972270169], [0.39169187844977027, 0.39757189678913024, 0.3837028719598025, 0.39192572841510803, 0.391113397504254, 0.3954681421318351, 0.39048250832398734, 0.3878086039622608, 0.3918233876271826, 0.39495413183458444]], [[0.3919236848343126, 0.3932758949203511, 0.39228303232578615, 0.3992692901973156, 0.3923442423226306, 0.39010961272922, 0.3923451698804011, 0.3931558601504357, 0.3948297952367122, 0.39376815348485666], [0.3929012087940804, 0.39124666998351343, 0.3929327076127904, 0.395402978458517, 0.3849876311563425, 0.39461373601909927, 0.3962666943549543, 0.3940135756998222, 0.39148278931084446, 0.38899755501633293], [0.3937146959892961, 0.3880321057906066, 0.4019103191669874, 0.38769929491376287, 0.39662568834464906, 0.392976381282985, 0.3970684910047082, 0.3986393486317894, 0.3982364331658514, 0.39781492474484975]], [[0.39032144869061897, 0.3940784928456955, 0.3908314614426916, 0.39815444968905084, 0.3929713534063832, 0.40179897587361213, 0.39870445622429584, 0.3904639585553761, 0.3895457116731963, 0.39769141766372196], [0.39113914312169074, 0.3910499266699477, 0.3974689533884482, 0.39614492238927435, 0.39773288557949205, 0.3987556966153954, 0.395624981432782, 0.39370360911556523, 0.3933781380997254, 0.3922991903846833], [0.39179530182831385, 0.3962275375419419, 0.39752969535953997, 0.3867814771873277, 0.39459302443408895, 0.3872251395537843, 0.3971661346631127, 0.400494967598616, 0.38288453781239434, 0.4001214210115224]], [[0.39249435332958715, 0.3979818787487461, 0.39557820445490455, 0.3968117238958262, 0.39339580860491263, 0.391769455364597, 0.3952018264336746, 0.3958031886956599, 0.3904363206222072, 0.39052813415992393], [0.39581387750064934, 0.3879387800267631, 0.39047756280649, 0.39484616224219965, 0.3936748119763249, 0.3896214796421892, 0.39276285950095907, 0.394934282916257, 0.39328286171697846, 0.38726211876206146], [0.39264730581364243, 0.3969994081401984, 0.39637945267869473, 0.38805734270767467, 0.38523956469106263, 0.3887824747687321, 0.3890960580320512, 0.39063713420133483, 0.393565753723149, 0.3928675611954831]], [[0.3984171320502367, 0.3954347882655108, 0.3899457002175588, 0.39362350605146296, 0.3961562777891966, 0.38954964658269, 0.394292826096418, 0.38900929788913763, 0.3933456070373596, 0.3961797620424963], [0.39213171584523426, 0.3916488667095257, 0.39498470670270136, 0.3934246841492039, 0.39783761862183603, 0.3955107591525671, 0.39101557580052104, 0.3852319075114653, 0.3870463533188745, 0.4002513604250377], [0.38959840293676645, 0.39500508232393927, 0.39689675338225994, 0.3919425479116309, 0.393465866121242, 0.3954958656964614, 0.3887762521877562, 0.39679417072159356, 0.3950698439123346, 0.39075021120120396]], [[0.38903924699148923, 0.39695243512306494, 0.39175099781125206, 0.3956107401848385, 0.3927104291213945, 0.39323096253966044, 0.39320997541539904, 0.387577099190003, 0.39483878303417663, 0.3930501261392018], [0.390734850918164, 0.3910107201174353, 0.3857411061546838, 0.3941356238873214, 0.3929095720439669, 0.39013497175677186, 0.39361586543953453, 0.3947543332849194, 0.39071967944313607, 0.39548751903565044], [0.3889236303017652, 0.391960418172898, 0.398881103665772, 0.39076796205769326, 0.39818110963781117, 0.38277543066300407, 0.3934590986412585, 0.39233949820446656, 0.39289763777028974, 0.3892061602173312]], [[0.3986206657009066, 0.39172142524698217, 0.38960719045287895, 0.3967871042306509, 0.39944916992113044, 0.39308346228674446, 0.39626196339809217, 0.3893928850789556, 0.3938385648012026, 0.3964878249545334], [0.3854572627033997, 0.39276182529923076, 0.39576319999218346, 0.3972723263244885, 0.3944960159260325, 0.39832862445447975, 0.39497056112750717, 0.39442588487912594, 0.39300113822896837, 0.3920571590829784], [0.3901453767647723, 0.39586075135211746, 0.3904492087341978, 0.3879110468603975, 0.3893403964844302, 0.39463022716842694, 0.3891321745484285, 0.3942549688263256, 0.39306684401791103, 0.39795836629208226]], [[0.3964533467991146, 0.39181081572468507, 0.39648295170916625, 0.3934132383141187, 0.3935555391413958, 0.394264655340607, 0.3925193843269193, 0.39421089236878853, 0.39278488274104145, 0.3899270896952331], [0.3904411432792505, 0.39667611429960564, 0.3920895461305328, 0.3934784970409514, 0.39122356995315477, 0.39551089205404977, 0.3890562484967291, 0.38931002564026207, 0.3931720885474032, 0.392844161679469], [0.3828686359326918, 0.39525552964235766, 0.3794451018140241, 0.38939746707815515, 0.393103042245284, 0.3867247477862821, 0.3934496477379964, 0.39276116539826034, 0.38531566080260166, 0.39611911476261996]], [[0.3968127094946824, 0.3896906617317603, 0.3954796389049795, 0.39740014697940235, 0.3950411263790279, 0.3904844823835021, 0.3932213357530942, 0.3998864757824719, 0.3952649005186779, 0.39644891017907435], [0.39068351832818426, 0.3906933459973627, 0.39597400584335685, 0.390951130562004, 0.3878615730801205, 0.3889528598017424, 0.3947067265212316, 0.38761930949170637, 0.3983506080339267, 0.39238379661863115], [0.38901853916103923, 0.3970235771121423, 0.39453462917247134, 0.3944482003879375, 0.39791623024222783, 0.3935051731874311, 0.39521274670871265, 0.3957505868997365, 0.3958826270889816, 0.3946348282908879]], [[0.3891094490562217, 0.3935904801439468, 0.3966289533488849, 0.3938650219394403, 0.3983169484197426, 0.3905713750248079, 0.39879532877570123, 0.3912452545019178, 0.3983769476288715, 0.39821914701264427], [0.388076057663803, 0.3892687372444502, 0.3915825248066461, 0.38994366720092843, 0.3927653807294798, 0.39713717442045965, 0.38618290962081986, 0.3961826935568873, 0.39458599538296496, 0.3946140262246841], [0.3871506518059795, 0.3955818287611077, 0.3878423923192966, 0.3963652216981728, 0.39295875965474947, 0.3908203052660284, 0.3951788514168935, 0.3902444880645996, 0.39236569793018083, 0.3985544300590419]], [[0.3940785163676762, 0.3888892927601024, 0.3910684578110081, 0.392942577717777, 0.3890569936751449, 0.39063253210479565, 0.39210537251852184, 0.3942144911496778, 0.3932313040946199, 0.39611102295881434], [0.3943722899479868, 0.39516533292869954, 0.3961144535581253, 0.38995244836244053, 0.3945293276572486, 0.3896229606639989, 0.3940764935011083, 0.39385058210561247, 0.39265457016622696, 0.39279654431598604], [0.39209588135143475, 0.3919101095998865, 0.3922512026350902, 0.3931554055356294, 0.38802057984749705, 0.3899831128738424, 0.3885869928580263, 0.3971532818364995, 0.3977013331089771, 0.3902234566591435]], [[0.3874684128552647, 0.3926161333592275, 0.3917243885678656, 0.3928144822809268, 0.39655265051263694, 0.39682545386759266, 0.393814573898814, 0.3924386889947952, 0.39066561877963274, 0.39297153166266396], [0.39396680039511167, 0.3875219050336188, 0.3934223160816803, 0.39480053985699204, 0.39511240833776834, 0.39394985608436034, 0.3946117482542602, 0.38937599413045, 0.3922429791499169, 0.39633443204604335], [0.37638439941992846, 0.39699018299011, 0.3928742871839085, 0.39091822873744153, 0.3963426049673908, 0.3939761071206528, 0.3863153021761892, 0.3957070441944912, 0.38967859572657576, 0.3895345435113147]]]\n"
     ]
    }
   ],
   "source": [
    "print(\"Media Negativity dos N K-Fold\", [np.mean([neg[i] for neg in negativities_list]) for i in range(len(set(y)))])\n",
    "\n",
    "print()\n",
    "print()\n",
    "print(negativities_list)"
   ]
  }
 ],
 "metadata": {
  "kernelspec": {
   "display_name": "Python 3",
   "language": "python",
   "name": "python3"
  },
  "language_info": {
   "codemirror_mode": {
    "name": "ipython",
    "version": 3
   },
   "file_extension": ".py",
   "mimetype": "text/x-python",
   "name": "python",
   "nbconvert_exporter": "python",
   "pygments_lexer": "ipython3",
   "version": "3.9.16"
  }
 },
 "nbformat": 4,
 "nbformat_minor": 5
}
