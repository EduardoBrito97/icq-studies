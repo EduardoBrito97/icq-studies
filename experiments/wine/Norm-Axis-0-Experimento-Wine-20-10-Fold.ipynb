{
 "cells": [
  {
   "cell_type": "code",
   "execution_count": 10,
   "id": "0db239e0",
   "metadata": {},
   "outputs": [],
   "source": [
    "import sys, os\n",
    "sys.path.append(os.path.abspath('../../classifiers'))\n",
    "sys.path.append(os.path.abspath('../../training'))\n",
    "sys.path.append(os.path.abspath('../../validation'))\n",
    "from validation_functions import execute_training_test_k_fold\n",
    "from classifiers_ICQ import iqc_classifier\n",
    "\n",
    "from sklearn.multiclass import OneVsRestClassifier\n",
    "import numpy as np\n",
    "from sklearn import datasets\n",
    "\n",
    "wine = datasets.load_wine()\n",
    "\n",
    "X = wine.data[:, [0,1,2,3,4,5,6,7,8,9,10,11,12]]\n",
    "y = wine.target\n",
    "\n",
    "X = np.c_[X, np.ones((178,3))] #padding = 16 attributes"
   ]
  },
  {
   "cell_type": "code",
   "execution_count": 11,
   "id": "1ad66125",
   "metadata": {},
   "outputs": [],
   "source": [
    "classifier_function = iqc_classifier\n",
    "dic_classifier_params = {}\n",
    "dic_classifier_params[\"sigma_q_params\"] = [1,1,1,0]\n",
    "dic_classifier_params[\"use_polar_coordinates_on_sigma_q\"] = False\n",
    "dic_classifier_params[\"load_inputvector_env_state\"] = False\n",
    "dic_classifier_params[\"normalize_axis\"] = 1\n",
    "\n",
    "dic_training_params = {\"max_iter\": 1000,\n",
    "    \"accuracy_succ\": 0.99,\n",
    "    \"plot_graphs_and_metrics\": False,\n",
    "    \"plot_graphs_in_classifier\": False,\n",
    "    \"random_seed\": 1,\n",
    "    \"learning_rate\": 0.009,\n",
    "    \"refit_db\":True,\n",
    "    \"reset_weights_epoch\":0,\n",
    "    \"do_classes_refit\":True,\n",
    "    \"batch\":False}\n",
    "\n",
    "n_times_kfold = 20\n",
    "k_times_fold = 10"
   ]
  },
  {
   "cell_type": "code",
   "execution_count": 12,
   "id": "8522d868",
   "metadata": {},
   "outputs": [
    {
     "name": "stderr",
     "output_type": "stream",
     "text": [
      "[Parallel(n_jobs=-1)]: Using backend LokyBackend with 12 concurrent workers.\n",
      "[Parallel(n_jobs=-1)]: Done   3 out of   3 | elapsed:  2.2min finished\n"
     ]
    },
    {
     "name": "stdout",
     "output_type": "stream",
     "text": [
      "K-Fold #0\n",
      "Mean negativities for all classes: [0.2287500234074185, 0.18768501726288073, 0.20778832507482584]\n",
      "Mean entropies for all classes: [5.9473366235931225e-15, 5.687311931343776e-15, 5.536412630621071e-15]\n",
      "              precision    recall  f1-score   support\n",
      "\n",
      "           0       0.60      1.00      0.75         6\n",
      "           1       0.67      0.57      0.62         7\n",
      "           2       0.00      0.00      0.00         5\n",
      "\n",
      "    accuracy                           0.56        18\n",
      "   macro avg       0.42      0.52      0.46        18\n",
      "weighted avg       0.46      0.56      0.49        18\n",
      "\n",
      "-------------------------------------------------------------------------------------------------------------------\n"
     ]
    },
    {
     "name": "stderr",
     "output_type": "stream",
     "text": [
      "[Parallel(n_jobs=-1)]: Using backend LokyBackend with 12 concurrent workers.\n",
      "[Parallel(n_jobs=-1)]: Done   3 out of   3 | elapsed:  2.2min finished\n"
     ]
    },
    {
     "name": "stdout",
     "output_type": "stream",
     "text": [
      "K-Fold #1\n",
      "Mean negativities for all classes: [0.2344097172841239, 0.18711142828969615, 0.20879406456207994]\n",
      "Mean entropies for all classes: [6.1907560639812054e-15, 5.688933533998231e-15, 5.575534873142621e-15]\n",
      "              precision    recall  f1-score   support\n",
      "\n",
      "           0       0.71      0.83      0.77         6\n",
      "           1       0.50      0.43      0.46         7\n",
      "           2       0.20      0.20      0.20         5\n",
      "\n",
      "    accuracy                           0.50        18\n",
      "   macro avg       0.47      0.49      0.48        18\n",
      "weighted avg       0.49      0.50      0.49        18\n",
      "\n",
      "-------------------------------------------------------------------------------------------------------------------\n"
     ]
    },
    {
     "name": "stderr",
     "output_type": "stream",
     "text": [
      "[Parallel(n_jobs=-1)]: Using backend LokyBackend with 12 concurrent workers.\n",
      "[Parallel(n_jobs=-1)]: Done   3 out of   3 | elapsed:  2.4min finished\n"
     ]
    },
    {
     "name": "stdout",
     "output_type": "stream",
     "text": [
      "K-Fold #2\n",
      "Mean negativities for all classes: [0.23214613555407482, 0.18896368843068465, 0.21060162219387057]\n",
      "Mean entropies for all classes: [5.6850082693630855e-15, 5.748575495796847e-15, 5.9153403312808296e-15]\n",
      "              precision    recall  f1-score   support\n",
      "\n",
      "           0       0.62      0.83      0.71         6\n",
      "           1       0.80      0.57      0.67         7\n",
      "           2       0.60      0.60      0.60         5\n",
      "\n",
      "    accuracy                           0.67        18\n",
      "   macro avg       0.67      0.67      0.66        18\n",
      "weighted avg       0.69      0.67      0.66        18\n",
      "\n",
      "-------------------------------------------------------------------------------------------------------------------\n"
     ]
    },
    {
     "name": "stderr",
     "output_type": "stream",
     "text": [
      "[Parallel(n_jobs=-1)]: Using backend LokyBackend with 12 concurrent workers.\n",
      "[Parallel(n_jobs=-1)]: Done   3 out of   3 | elapsed:  2.3min finished\n"
     ]
    },
    {
     "name": "stdout",
     "output_type": "stream",
     "text": [
      "K-Fold #3\n",
      "Mean negativities for all classes: [0.23071043202582914, 0.18772390572348646, 0.20900123590329944]\n",
      "Mean entropies for all classes: [5.485000095634698e-15, 5.695069798285036e-15, 5.9150586924776375e-15]\n",
      "              precision    recall  f1-score   support\n",
      "\n",
      "           0       0.75      1.00      0.86         6\n",
      "           1       0.80      0.57      0.67         7\n",
      "           2       0.60      0.60      0.60         5\n",
      "\n",
      "    accuracy                           0.72        18\n",
      "   macro avg       0.72      0.72      0.71        18\n",
      "weighted avg       0.73      0.72      0.71        18\n",
      "\n",
      "-------------------------------------------------------------------------------------------------------------------\n"
     ]
    },
    {
     "name": "stderr",
     "output_type": "stream",
     "text": [
      "[Parallel(n_jobs=-1)]: Using backend LokyBackend with 12 concurrent workers.\n",
      "[Parallel(n_jobs=-1)]: Done   3 out of   3 | elapsed:  2.3min finished\n"
     ]
    },
    {
     "name": "stdout",
     "output_type": "stream",
     "text": [
      "K-Fold #4\n",
      "Mean negativities for all classes: [0.23444955475274995, 0.1887866955578964, 0.21201794606917163]\n",
      "Mean entropies for all classes: [5.965593540615105e-15, 5.334193207850783e-15, 5.9452035421841174e-15]\n",
      "              precision    recall  f1-score   support\n",
      "\n",
      "           0       0.86      1.00      0.92         6\n",
      "           1       1.00      0.71      0.83         7\n",
      "           2       0.67      0.80      0.73         5\n",
      "\n",
      "    accuracy                           0.83        18\n",
      "   macro avg       0.84      0.84      0.83        18\n",
      "weighted avg       0.86      0.83      0.83        18\n",
      "\n",
      "-------------------------------------------------------------------------------------------------------------------\n"
     ]
    },
    {
     "name": "stderr",
     "output_type": "stream",
     "text": [
      "[Parallel(n_jobs=-1)]: Using backend LokyBackend with 12 concurrent workers.\n",
      "[Parallel(n_jobs=-1)]: Done   3 out of   3 | elapsed:  2.3min finished\n"
     ]
    },
    {
     "name": "stdout",
     "output_type": "stream",
     "text": [
      "K-Fold #5\n",
      "Mean negativities for all classes: [0.23045531084469273, 0.18811978741937016, 0.2101411682482891]\n",
      "Mean entropies for all classes: [6.083147952608954e-15, 5.609873257303429e-15, 5.96597731675474e-15]\n",
      "              precision    recall  f1-score   support\n",
      "\n",
      "           0       0.67      1.00      0.80         6\n",
      "           1       0.60      0.43      0.50         7\n",
      "           2       0.25      0.20      0.22         5\n",
      "\n",
      "    accuracy                           0.56        18\n",
      "   macro avg       0.51      0.54      0.51        18\n",
      "weighted avg       0.52      0.56      0.52        18\n",
      "\n",
      "-------------------------------------------------------------------------------------------------------------------\n"
     ]
    },
    {
     "name": "stderr",
     "output_type": "stream",
     "text": [
      "[Parallel(n_jobs=-1)]: Using backend LokyBackend with 12 concurrent workers.\n",
      "[Parallel(n_jobs=-1)]: Done   3 out of   3 | elapsed:  2.3min finished\n"
     ]
    },
    {
     "name": "stdout",
     "output_type": "stream",
     "text": [
      "K-Fold #6\n",
      "Mean negativities for all classes: [0.227438112478225, 0.18625389864396402, 0.2072457346899316]\n",
      "Mean entropies for all classes: [5.77450737200032e-15, 5.88204789838086e-15, 6.246014812225903e-15]\n",
      "              precision    recall  f1-score   support\n",
      "\n",
      "           0       0.60      1.00      0.75         6\n",
      "           1       0.50      0.43      0.46         7\n",
      "           2       0.50      0.20      0.29         5\n",
      "\n",
      "    accuracy                           0.56        18\n",
      "   macro avg       0.53      0.54      0.50        18\n",
      "weighted avg       0.53      0.56      0.51        18\n",
      "\n",
      "-------------------------------------------------------------------------------------------------------------------\n"
     ]
    },
    {
     "name": "stderr",
     "output_type": "stream",
     "text": [
      "[Parallel(n_jobs=-1)]: Using backend LokyBackend with 12 concurrent workers.\n",
      "[Parallel(n_jobs=-1)]: Done   3 out of   3 | elapsed:  2.2min finished\n"
     ]
    },
    {
     "name": "stdout",
     "output_type": "stream",
     "text": [
      "K-Fold #7\n",
      "Mean negativities for all classes: [0.22902873368658946, 0.1875640228410468, 0.20801987438623745]\n",
      "Mean entropies for all classes: [5.50137268554939e-15, 5.768876293479912e-15, 5.8121112118465485e-15]\n",
      "              precision    recall  f1-score   support\n",
      "\n",
      "           0       0.75      1.00      0.86         6\n",
      "           1       1.00      0.57      0.73         7\n",
      "           2       0.67      0.80      0.73         5\n",
      "\n",
      "    accuracy                           0.78        18\n",
      "   macro avg       0.81      0.79      0.77        18\n",
      "weighted avg       0.82      0.78      0.77        18\n",
      "\n",
      "-------------------------------------------------------------------------------------------------------------------\n"
     ]
    },
    {
     "name": "stderr",
     "output_type": "stream",
     "text": [
      "[Parallel(n_jobs=-1)]: Using backend LokyBackend with 12 concurrent workers.\n",
      "[Parallel(n_jobs=-1)]: Done   3 out of   3 | elapsed:  2.2min finished\n"
     ]
    },
    {
     "name": "stdout",
     "output_type": "stream",
     "text": [
      "K-Fold #8\n",
      "Mean negativities for all classes: [0.2320890805053367, 0.19340986512469482, 0.207829946498617]\n",
      "Mean entropies for all classes: [5.685670330338286e-15, 5.7605896068680424e-15, 6.31883609745811e-15]\n",
      "              precision    recall  f1-score   support\n",
      "\n",
      "           0       0.57      0.67      0.62         6\n",
      "           1       1.00      0.43      0.60         7\n",
      "           2       0.29      0.50      0.36         4\n",
      "\n",
      "    accuracy                           0.53        17\n",
      "   macro avg       0.62      0.53      0.53        17\n",
      "weighted avg       0.68      0.53      0.55        17\n",
      "\n",
      "-------------------------------------------------------------------------------------------------------------------\n"
     ]
    },
    {
     "name": "stderr",
     "output_type": "stream",
     "text": [
      "[Parallel(n_jobs=-1)]: Using backend LokyBackend with 12 concurrent workers.\n",
      "[Parallel(n_jobs=-1)]: Done   3 out of   3 | elapsed:  2.2min finished\n"
     ]
    },
    {
     "name": "stdout",
     "output_type": "stream",
     "text": [
      "K-Fold #9\n",
      "Mean negativities for all classes: [0.23701841012413136, 0.20802124978078118, 0.20989449796319049]\n",
      "Mean entropies for all classes: [5.5766705502522555e-15, 5.830382150688862e-15, 5.807362229303767e-15]\n",
      "              precision    recall  f1-score   support\n",
      "\n",
      "           0       0.75      0.60      0.67         5\n",
      "           1       1.00      0.62      0.77         8\n",
      "           2       0.38      0.75      0.50         4\n",
      "\n",
      "    accuracy                           0.65        17\n",
      "   macro avg       0.71      0.66      0.65        17\n",
      "weighted avg       0.78      0.65      0.68        17\n",
      "\n",
      "-------------------------------------------------------------------------------------------------------------------\n",
      "AVG: Scores = 0.6343137254901962 F1-Scores = 0.6076893476893476 Negativity = [0.208074455248375, 0.2101050700453, 0.21057048205954335] Entropy = [5.723687061852657e-15, 5.8184081570406855e-15, 5.782974698813587e-15]\n"
     ]
    },
    {
     "name": "stderr",
     "output_type": "stream",
     "text": [
      "[Parallel(n_jobs=-1)]: Using backend LokyBackend with 12 concurrent workers.\n",
      "[Parallel(n_jobs=-1)]: Done   3 out of   3 | elapsed:  2.2min finished\n"
     ]
    },
    {
     "name": "stdout",
     "output_type": "stream",
     "text": [
      "K-Fold #0\n",
      "Mean negativities for all classes: [0.2299340726376911, 0.18773463902914533, 0.208986013380995]\n",
      "Mean entropies for all classes: [5.819696019708025e-15, 5.801021786461409e-15, 6.093477713281623e-15]\n",
      "              precision    recall  f1-score   support\n",
      "\n",
      "           0       0.75      1.00      0.86         6\n",
      "           1       0.83      0.71      0.77         7\n",
      "           2       0.50      0.40      0.44         5\n",
      "\n",
      "    accuracy                           0.72        18\n",
      "   macro avg       0.69      0.70      0.69        18\n",
      "weighted avg       0.71      0.72      0.71        18\n",
      "\n",
      "-------------------------------------------------------------------------------------------------------------------\n"
     ]
    },
    {
     "name": "stderr",
     "output_type": "stream",
     "text": [
      "[Parallel(n_jobs=-1)]: Using backend LokyBackend with 12 concurrent workers.\n",
      "[Parallel(n_jobs=-1)]: Done   3 out of   3 | elapsed:  2.2min finished\n"
     ]
    },
    {
     "name": "stdout",
     "output_type": "stream",
     "text": [
      "K-Fold #1\n",
      "Mean negativities for all classes: [0.22999036897826974, 0.18890340880251402, 0.2078723039374609]\n",
      "Mean entropies for all classes: [5.804593371938604e-15, 5.520216175647644e-15, 6.045881195483833e-15]\n",
      "              precision    recall  f1-score   support\n",
      "\n",
      "           0       0.86      1.00      0.92         6\n",
      "           1       0.71      0.71      0.71         7\n",
      "           2       0.50      0.40      0.44         5\n",
      "\n",
      "    accuracy                           0.72        18\n",
      "   macro avg       0.69      0.70      0.69        18\n",
      "weighted avg       0.70      0.72      0.71        18\n",
      "\n",
      "-------------------------------------------------------------------------------------------------------------------\n"
     ]
    },
    {
     "name": "stderr",
     "output_type": "stream",
     "text": [
      "[Parallel(n_jobs=-1)]: Using backend LokyBackend with 12 concurrent workers.\n",
      "[Parallel(n_jobs=-1)]: Done   3 out of   3 | elapsed:  2.2min finished\n"
     ]
    },
    {
     "name": "stdout",
     "output_type": "stream",
     "text": [
      "K-Fold #2\n",
      "Mean negativities for all classes: [0.2280263911479788, 0.18803352633586753, 0.20675551045990603]\n",
      "Mean entropies for all classes: [5.5420931178817045e-15, 5.494240797409155e-15, 5.784323078558294e-15]\n",
      "              precision    recall  f1-score   support\n",
      "\n",
      "           0       0.75      1.00      0.86         6\n",
      "           1       0.75      0.43      0.55         7\n",
      "           2       0.33      0.40      0.36         5\n",
      "\n",
      "    accuracy                           0.61        18\n",
      "   macro avg       0.61      0.61      0.59        18\n",
      "weighted avg       0.63      0.61      0.60        18\n",
      "\n",
      "-------------------------------------------------------------------------------------------------------------------\n"
     ]
    },
    {
     "name": "stderr",
     "output_type": "stream",
     "text": [
      "[Parallel(n_jobs=-1)]: Using backend LokyBackend with 12 concurrent workers.\n",
      "[Parallel(n_jobs=-1)]: Done   3 out of   3 | elapsed:  2.2min finished\n"
     ]
    },
    {
     "name": "stdout",
     "output_type": "stream",
     "text": [
      "K-Fold #3\n",
      "Mean negativities for all classes: [0.22661226255487982, 0.18825254870093186, 0.20662745835322513]\n",
      "Mean entropies for all classes: [6.118179989815756e-15, 6.341250196910679e-15, 6.314158815495998e-15]\n",
      "              precision    recall  f1-score   support\n",
      "\n",
      "           0       0.45      0.83      0.59         6\n",
      "           1       1.00      0.43      0.60         7\n",
      "           2       0.25      0.20      0.22         5\n",
      "\n",
      "    accuracy                           0.50        18\n",
      "   macro avg       0.57      0.49      0.47        18\n",
      "weighted avg       0.61      0.50      0.49        18\n",
      "\n",
      "-------------------------------------------------------------------------------------------------------------------\n"
     ]
    },
    {
     "name": "stderr",
     "output_type": "stream",
     "text": [
      "[Parallel(n_jobs=-1)]: Using backend LokyBackend with 12 concurrent workers.\n",
      "[Parallel(n_jobs=-1)]: Done   3 out of   3 | elapsed:  2.2min finished\n"
     ]
    },
    {
     "name": "stdout",
     "output_type": "stream",
     "text": [
      "K-Fold #4\n",
      "Mean negativities for all classes: [0.2288477434772965, 0.18624670201885715, 0.20781873582444607]\n",
      "Mean entropies for all classes: [5.823766955221076e-15, 6.033552301177402e-15, 6.218651942175073e-15]\n",
      "              precision    recall  f1-score   support\n",
      "\n",
      "           0       0.56      0.83      0.67         6\n",
      "           1       1.00      0.57      0.73         7\n",
      "           2       0.60      0.60      0.60         5\n",
      "\n",
      "    accuracy                           0.67        18\n",
      "   macro avg       0.72      0.67      0.66        18\n",
      "weighted avg       0.74      0.67      0.67        18\n",
      "\n",
      "-------------------------------------------------------------------------------------------------------------------\n"
     ]
    },
    {
     "name": "stderr",
     "output_type": "stream",
     "text": [
      "[Parallel(n_jobs=-1)]: Using backend LokyBackend with 12 concurrent workers.\n",
      "[Parallel(n_jobs=-1)]: Done   3 out of   3 | elapsed:  2.2min finished\n"
     ]
    },
    {
     "name": "stdout",
     "output_type": "stream",
     "text": [
      "K-Fold #5\n",
      "Mean negativities for all classes: [0.23935913637878167, 0.18907139022482372, 0.21544097175297094]\n",
      "Mean entropies for all classes: [5.878926138305956e-15, 5.668283218574264e-15, 5.947910999697735e-15]\n",
      "              precision    recall  f1-score   support\n",
      "\n",
      "           0       0.83      0.83      0.83         6\n",
      "           1       0.78      1.00      0.88         7\n",
      "           2       0.67      0.40      0.50         5\n",
      "\n",
      "    accuracy                           0.78        18\n",
      "   macro avg       0.76      0.74      0.74        18\n",
      "weighted avg       0.77      0.78      0.76        18\n",
      "\n",
      "-------------------------------------------------------------------------------------------------------------------\n"
     ]
    },
    {
     "name": "stderr",
     "output_type": "stream",
     "text": [
      "[Parallel(n_jobs=-1)]: Using backend LokyBackend with 12 concurrent workers.\n",
      "[Parallel(n_jobs=-1)]: Done   3 out of   3 | elapsed:  2.2min finished\n"
     ]
    },
    {
     "name": "stdout",
     "output_type": "stream",
     "text": [
      "K-Fold #6\n",
      "Mean negativities for all classes: [0.23188856544464537, 0.18751285841665336, 0.20752796503311072]\n",
      "Mean entropies for all classes: [6.090986119297133e-15, 5.863608839878218e-15, 6.179996166532258e-15]\n",
      "              precision    recall  f1-score   support\n",
      "\n",
      "           0       0.67      0.67      0.67         6\n",
      "           1       0.67      0.29      0.40         7\n",
      "           2       0.44      0.80      0.57         5\n",
      "\n",
      "    accuracy                           0.56        18\n",
      "   macro avg       0.59      0.58      0.55        18\n",
      "weighted avg       0.60      0.56      0.54        18\n",
      "\n",
      "-------------------------------------------------------------------------------------------------------------------\n"
     ]
    },
    {
     "name": "stderr",
     "output_type": "stream",
     "text": [
      "[Parallel(n_jobs=-1)]: Using backend LokyBackend with 12 concurrent workers.\n",
      "[Parallel(n_jobs=-1)]: Done   3 out of   3 | elapsed:  2.2min finished\n"
     ]
    },
    {
     "name": "stdout",
     "output_type": "stream",
     "text": [
      "K-Fold #7\n",
      "Mean negativities for all classes: [0.2341054414707785, 0.18750727544799872, 0.21085506045641117]\n",
      "Mean entropies for all classes: [5.957202350030271e-15, 5.714070243013791e-15, 6.3297228812809075e-15]\n",
      "              precision    recall  f1-score   support\n",
      "\n",
      "           0       0.71      0.83      0.77         6\n",
      "           1       0.57      0.57      0.57         7\n",
      "           2       0.50      0.40      0.44         5\n",
      "\n",
      "    accuracy                           0.61        18\n",
      "   macro avg       0.60      0.60      0.60        18\n",
      "weighted avg       0.60      0.61      0.60        18\n",
      "\n",
      "-------------------------------------------------------------------------------------------------------------------\n"
     ]
    },
    {
     "name": "stderr",
     "output_type": "stream",
     "text": [
      "[Parallel(n_jobs=-1)]: Using backend LokyBackend with 12 concurrent workers.\n",
      "[Parallel(n_jobs=-1)]: Done   3 out of   3 | elapsed:  2.2min finished\n"
     ]
    },
    {
     "name": "stdout",
     "output_type": "stream",
     "text": [
      "K-Fold #8\n",
      "Mean negativities for all classes: [0.23070200981481964, 0.18738552909692444, 0.20890126502075648]\n",
      "Mean entropies for all classes: [6.428371964883074e-15, 5.96629841541875e-15, 6.051758038456996e-15]\n",
      "              precision    recall  f1-score   support\n",
      "\n",
      "           0       0.75      1.00      0.86         6\n",
      "           1       0.50      0.29      0.36         7\n",
      "           2       0.20      0.25      0.22         4\n",
      "\n",
      "    accuracy                           0.53        17\n",
      "   macro avg       0.48      0.51      0.48        17\n",
      "weighted avg       0.52      0.53      0.50        17\n",
      "\n",
      "-------------------------------------------------------------------------------------------------------------------\n"
     ]
    },
    {
     "name": "stderr",
     "output_type": "stream",
     "text": [
      "[Parallel(n_jobs=-1)]: Using backend LokyBackend with 12 concurrent workers.\n",
      "[Parallel(n_jobs=-1)]: Done   3 out of   3 | elapsed:  2.2min finished\n"
     ]
    },
    {
     "name": "stdout",
     "output_type": "stream",
     "text": [
      "K-Fold #9\n",
      "Mean negativities for all classes: [0.23606088309786669, 0.21212518519268825, 0.21206765430197766]\n",
      "Mean entropies for all classes: [5.9233195107896406e-15, 5.47499121518709e-15, 6.202690583084881e-15]\n",
      "              precision    recall  f1-score   support\n",
      "\n",
      "           0       0.62      1.00      0.77         5\n",
      "           1       1.00      0.50      0.67         8\n",
      "           2       0.40      0.50      0.44         4\n",
      "\n",
      "    accuracy                           0.65        17\n",
      "   macro avg       0.67      0.67      0.63        17\n",
      "weighted avg       0.75      0.65      0.64        17\n",
      "\n",
      "-------------------------------------------------------------------------------------------------------------------\n",
      "AVG: Scores = 0.634313725490196 F1-Scores = 0.609271050300462 Negativity = [0.20888490834927717, 0.2089220272394149, 0.20760514264791743] Entropy = [5.904731839817019e-15, 5.790230247690027e-15, 5.606885664616385e-15]\n"
     ]
    },
    {
     "name": "stderr",
     "output_type": "stream",
     "text": [
      "[Parallel(n_jobs=-1)]: Using backend LokyBackend with 12 concurrent workers.\n",
      "[Parallel(n_jobs=-1)]: Done   3 out of   3 | elapsed:  2.2min finished\n"
     ]
    },
    {
     "name": "stdout",
     "output_type": "stream",
     "text": [
      "K-Fold #0\n",
      "Mean negativities for all classes: [0.23255779998551557, 0.20278050087543986, 0.21033566636732853]\n",
      "Mean entropies for all classes: [5.766233704295295e-15, 5.7517048596138414e-15, 6.1668777586337996e-15]\n",
      "              precision    recall  f1-score   support\n",
      "\n",
      "           0       0.62      0.83      0.71         6\n",
      "           1       0.80      0.57      0.67         7\n",
      "           2       0.20      0.20      0.20         5\n",
      "\n",
      "    accuracy                           0.56        18\n",
      "   macro avg       0.54      0.53      0.53        18\n",
      "weighted avg       0.58      0.56      0.55        18\n",
      "\n",
      "-------------------------------------------------------------------------------------------------------------------\n"
     ]
    },
    {
     "name": "stderr",
     "output_type": "stream",
     "text": [
      "[Parallel(n_jobs=-1)]: Using backend LokyBackend with 12 concurrent workers.\n",
      "[Parallel(n_jobs=-1)]: Done   3 out of   3 | elapsed:  2.2min finished\n"
     ]
    },
    {
     "name": "stdout",
     "output_type": "stream",
     "text": [
      "K-Fold #1\n",
      "Mean negativities for all classes: [0.22682520550955715, 0.1887676349522466, 0.20683726788539905]\n",
      "Mean entropies for all classes: [5.679249446489673e-15, 5.808992426753555e-15, 6.240427457648582e-15]\n",
      "              precision    recall  f1-score   support\n",
      "\n",
      "           0       0.67      1.00      0.80         6\n",
      "           1       0.75      0.43      0.55         7\n",
      "           2       0.60      0.60      0.60         5\n",
      "\n",
      "    accuracy                           0.67        18\n",
      "   macro avg       0.67      0.68      0.65        18\n",
      "weighted avg       0.68      0.67      0.65        18\n",
      "\n",
      "-------------------------------------------------------------------------------------------------------------------\n"
     ]
    },
    {
     "name": "stderr",
     "output_type": "stream",
     "text": [
      "[Parallel(n_jobs=-1)]: Using backend LokyBackend with 12 concurrent workers.\n",
      "[Parallel(n_jobs=-1)]: Done   3 out of   3 | elapsed:  2.2min finished\n"
     ]
    },
    {
     "name": "stdout",
     "output_type": "stream",
     "text": [
      "K-Fold #2\n",
      "Mean negativities for all classes: [0.22616409986162248, 0.18841359048145573, 0.20679473248665065]\n",
      "Mean entropies for all classes: [5.96226746424887e-15, 5.87006864991843e-15, 5.590555376732314e-15]\n",
      "              precision    recall  f1-score   support\n",
      "\n",
      "           0       0.50      1.00      0.67         6\n",
      "           1       0.75      0.43      0.55         7\n",
      "           2       0.50      0.20      0.29         5\n",
      "\n",
      "    accuracy                           0.56        18\n",
      "   macro avg       0.58      0.54      0.50        18\n",
      "weighted avg       0.60      0.56      0.51        18\n",
      "\n",
      "-------------------------------------------------------------------------------------------------------------------\n"
     ]
    },
    {
     "name": "stderr",
     "output_type": "stream",
     "text": [
      "[Parallel(n_jobs=-1)]: Using backend LokyBackend with 12 concurrent workers.\n",
      "[Parallel(n_jobs=-1)]: Done   3 out of   3 | elapsed:  2.2min finished\n"
     ]
    },
    {
     "name": "stdout",
     "output_type": "stream",
     "text": [
      "K-Fold #3\n",
      "Mean negativities for all classes: [0.23624808972767644, 0.18861757810243654, 0.21171902264594583]\n",
      "Mean entropies for all classes: [5.738857711106627e-15, 6.149925883018499e-15, 5.5173697074077116e-15]\n",
      "              precision    recall  f1-score   support\n",
      "\n",
      "           0       0.71      0.83      0.77         6\n",
      "           1       0.64      1.00      0.78         7\n",
      "           2       0.00      0.00      0.00         5\n",
      "\n",
      "    accuracy                           0.67        18\n",
      "   macro avg       0.45      0.61      0.52        18\n",
      "weighted avg       0.49      0.67      0.56        18\n",
      "\n",
      "-------------------------------------------------------------------------------------------------------------------\n"
     ]
    },
    {
     "name": "stderr",
     "output_type": "stream",
     "text": [
      "c:\\ProgramData\\Anaconda3\\lib\\site-packages\\sklearn\\metrics\\_classification.py:1344: UndefinedMetricWarning: Precision and F-score are ill-defined and being set to 0.0 in labels with no predicted samples. Use `zero_division` parameter to control this behavior.\n",
      "  _warn_prf(average, modifier, msg_start, len(result))\n",
      "c:\\ProgramData\\Anaconda3\\lib\\site-packages\\sklearn\\metrics\\_classification.py:1344: UndefinedMetricWarning: Precision and F-score are ill-defined and being set to 0.0 in labels with no predicted samples. Use `zero_division` parameter to control this behavior.\n",
      "  _warn_prf(average, modifier, msg_start, len(result))\n",
      "c:\\ProgramData\\Anaconda3\\lib\\site-packages\\sklearn\\metrics\\_classification.py:1344: UndefinedMetricWarning: Precision and F-score are ill-defined and being set to 0.0 in labels with no predicted samples. Use `zero_division` parameter to control this behavior.\n",
      "  _warn_prf(average, modifier, msg_start, len(result))\n",
      "[Parallel(n_jobs=-1)]: Using backend LokyBackend with 12 concurrent workers.\n",
      "[Parallel(n_jobs=-1)]: Done   3 out of   3 | elapsed:  2.2min finished\n"
     ]
    },
    {
     "name": "stdout",
     "output_type": "stream",
     "text": [
      "K-Fold #4\n",
      "Mean negativities for all classes: [0.2314341462528101, 0.18761827784743715, 0.20879940133507502]\n",
      "Mean entropies for all classes: [6.175280236347705e-15, 5.729016818774917e-15, 6.311444847958038e-15]\n",
      "              precision    recall  f1-score   support\n",
      "\n",
      "           0       0.83      0.83      0.83         6\n",
      "           1       0.67      0.57      0.62         7\n",
      "           2       0.33      0.40      0.36         5\n",
      "\n",
      "    accuracy                           0.61        18\n",
      "   macro avg       0.61      0.60      0.60        18\n",
      "weighted avg       0.63      0.61      0.62        18\n",
      "\n",
      "-------------------------------------------------------------------------------------------------------------------\n"
     ]
    },
    {
     "name": "stderr",
     "output_type": "stream",
     "text": [
      "[Parallel(n_jobs=-1)]: Using backend LokyBackend with 12 concurrent workers.\n",
      "[Parallel(n_jobs=-1)]: Done   3 out of   3 | elapsed:  2.2min finished\n"
     ]
    },
    {
     "name": "stdout",
     "output_type": "stream",
     "text": [
      "K-Fold #5\n",
      "Mean negativities for all classes: [0.23329902412233508, 0.18745088676551125, 0.20927356472489983]\n",
      "Mean entropies for all classes: [5.913149050848367e-15, 5.973426062504439e-15, 6.147126990220473e-15]\n",
      "              precision    recall  f1-score   support\n",
      "\n",
      "           0       0.67      1.00      0.80         6\n",
      "           1       1.00      0.86      0.92         7\n",
      "           2       1.00      0.60      0.75         5\n",
      "\n",
      "    accuracy                           0.83        18\n",
      "   macro avg       0.89      0.82      0.82        18\n",
      "weighted avg       0.89      0.83      0.83        18\n",
      "\n",
      "-------------------------------------------------------------------------------------------------------------------\n"
     ]
    },
    {
     "name": "stderr",
     "output_type": "stream",
     "text": [
      "[Parallel(n_jobs=-1)]: Using backend LokyBackend with 12 concurrent workers.\n",
      "[Parallel(n_jobs=-1)]: Done   3 out of   3 | elapsed:  2.2min finished\n"
     ]
    },
    {
     "name": "stdout",
     "output_type": "stream",
     "text": [
      "K-Fold #6\n",
      "Mean negativities for all classes: [0.23527146517496414, 0.18848918028672804, 0.20953067060037378]\n",
      "Mean entropies for all classes: [5.493352601997036e-15, 6.101576295314341e-15, 5.8234581306647586e-15]\n",
      "              precision    recall  f1-score   support\n",
      "\n",
      "           0       0.71      0.83      0.77         6\n",
      "           1       0.60      0.43      0.50         7\n",
      "           2       0.50      0.60      0.55         5\n",
      "\n",
      "    accuracy                           0.61        18\n",
      "   macro avg       0.60      0.62      0.60        18\n",
      "weighted avg       0.61      0.61      0.60        18\n",
      "\n",
      "-------------------------------------------------------------------------------------------------------------------\n"
     ]
    },
    {
     "name": "stderr",
     "output_type": "stream",
     "text": [
      "[Parallel(n_jobs=-1)]: Using backend LokyBackend with 12 concurrent workers.\n",
      "[Parallel(n_jobs=-1)]: Done   3 out of   3 | elapsed:  2.2min finished\n"
     ]
    },
    {
     "name": "stdout",
     "output_type": "stream",
     "text": [
      "K-Fold #7\n",
      "Mean negativities for all classes: [0.23142306042277122, 0.18791893675163768, 0.21044009558502752]\n",
      "Mean entropies for all classes: [5.990573058362244e-15, 5.6899892180495565e-15, 6.214419202295823e-15]\n",
      "              precision    recall  f1-score   support\n",
      "\n",
      "           0       0.62      0.83      0.71         6\n",
      "           1       0.75      0.43      0.55         7\n",
      "           2       0.33      0.40      0.36         5\n",
      "\n",
      "    accuracy                           0.56        18\n",
      "   macro avg       0.57      0.55      0.54        18\n",
      "weighted avg       0.59      0.56      0.55        18\n",
      "\n",
      "-------------------------------------------------------------------------------------------------------------------\n"
     ]
    },
    {
     "name": "stderr",
     "output_type": "stream",
     "text": [
      "[Parallel(n_jobs=-1)]: Using backend LokyBackend with 12 concurrent workers.\n",
      "[Parallel(n_jobs=-1)]: Done   3 out of   3 | elapsed:  2.2min finished\n"
     ]
    },
    {
     "name": "stdout",
     "output_type": "stream",
     "text": [
      "K-Fold #8\n",
      "Mean negativities for all classes: [0.22805126058191355, 0.18737643795444459, 0.20828679313832865]\n",
      "Mean entropies for all classes: [5.807229481409331e-15, 5.657828961472861e-15, 5.559046220249659e-15]\n",
      "              precision    recall  f1-score   support\n",
      "\n",
      "           0       0.75      1.00      0.86         6\n",
      "           1       0.75      0.43      0.55         7\n",
      "           2       0.40      0.50      0.44         4\n",
      "\n",
      "    accuracy                           0.65        17\n",
      "   macro avg       0.63      0.64      0.62        17\n",
      "weighted avg       0.67      0.65      0.63        17\n",
      "\n",
      "-------------------------------------------------------------------------------------------------------------------\n"
     ]
    },
    {
     "name": "stderr",
     "output_type": "stream",
     "text": [
      "[Parallel(n_jobs=-1)]: Using backend LokyBackend with 12 concurrent workers.\n",
      "[Parallel(n_jobs=-1)]: Done   3 out of   3 | elapsed:  2.2min finished\n"
     ]
    },
    {
     "name": "stdout",
     "output_type": "stream",
     "text": [
      "K-Fold #9\n",
      "Mean negativities for all classes: [0.2372515781560917, 0.1875036861008984, 0.21024566930161595]\n",
      "Mean entropies for all classes: [6.087148891722688e-15, 5.554697417388914e-15, 6.0645499198106816e-15]\n",
      "              precision    recall  f1-score   support\n",
      "\n",
      "           0       0.80      0.80      0.80         5\n",
      "           1       0.83      0.62      0.71         8\n",
      "           2       0.33      0.50      0.40         4\n",
      "\n",
      "    accuracy                           0.65        17\n",
      "   macro avg       0.66      0.64      0.64        17\n",
      "weighted avg       0.71      0.65      0.67        17\n",
      "\n",
      "-------------------------------------------------------------------------------------------------------------------\n",
      "AVG: Scores = 0.6349673202614381 F1-Scores = 0.601869056869057 Negativity = [0.2152246557427613, 0.20747670278240093, 0.20712414094324294] Entropy = [5.894938774180979e-15, 5.909556443630603e-15, 5.807630496966537e-15]\n"
     ]
    },
    {
     "name": "stderr",
     "output_type": "stream",
     "text": [
      "[Parallel(n_jobs=-1)]: Using backend LokyBackend with 12 concurrent workers.\n",
      "[Parallel(n_jobs=-1)]: Done   3 out of   3 | elapsed:  2.2min finished\n"
     ]
    },
    {
     "name": "stdout",
     "output_type": "stream",
     "text": [
      "K-Fold #0\n",
      "Mean negativities for all classes: [0.23218255765283727, 0.1880400451833761, 0.2091495634907574]\n",
      "Mean entropies for all classes: [5.8341149357864426e-15, 5.514397127984966e-15, 5.623882581843035e-15]\n",
      "              precision    recall  f1-score   support\n",
      "\n",
      "           0       0.75      1.00      0.86         6\n",
      "           1       0.71      0.71      0.71         7\n",
      "           2       0.67      0.40      0.50         5\n",
      "\n",
      "    accuracy                           0.72        18\n",
      "   macro avg       0.71      0.70      0.69        18\n",
      "weighted avg       0.71      0.72      0.70        18\n",
      "\n",
      "-------------------------------------------------------------------------------------------------------------------\n"
     ]
    },
    {
     "name": "stderr",
     "output_type": "stream",
     "text": [
      "[Parallel(n_jobs=-1)]: Using backend LokyBackend with 12 concurrent workers.\n",
      "[Parallel(n_jobs=-1)]: Done   3 out of   3 | elapsed:  2.2min finished\n"
     ]
    },
    {
     "name": "stdout",
     "output_type": "stream",
     "text": [
      "K-Fold #1\n",
      "Mean negativities for all classes: [0.2294470601513115, 0.18763798234395432, 0.20841338501701617]\n",
      "Mean entropies for all classes: [5.586845325720062e-15, 5.947150038734291e-15, 6.180194299729604e-15]\n",
      "              precision    recall  f1-score   support\n",
      "\n",
      "           0       0.86      1.00      0.92         6\n",
      "           1       1.00      0.57      0.73         7\n",
      "           2       0.57      0.80      0.67         5\n",
      "\n",
      "    accuracy                           0.78        18\n",
      "   macro avg       0.81      0.79      0.77        18\n",
      "weighted avg       0.83      0.78      0.78        18\n",
      "\n",
      "-------------------------------------------------------------------------------------------------------------------\n"
     ]
    },
    {
     "name": "stderr",
     "output_type": "stream",
     "text": [
      "[Parallel(n_jobs=-1)]: Using backend LokyBackend with 12 concurrent workers.\n",
      "[Parallel(n_jobs=-1)]: Done   3 out of   3 | elapsed:  2.2min finished\n"
     ]
    },
    {
     "name": "stdout",
     "output_type": "stream",
     "text": [
      "K-Fold #2\n",
      "Mean negativities for all classes: [0.23168623879952965, 0.18693764357866727, 0.2090257330103983]\n",
      "Mean entropies for all classes: [6.092083795277988e-15, 5.551872666617763e-15, 5.851056475552223e-15]\n",
      "              precision    recall  f1-score   support\n",
      "\n",
      "           0       0.56      0.83      0.67         6\n",
      "           1       0.50      0.43      0.46         7\n",
      "           2       0.33      0.20      0.25         5\n",
      "\n",
      "    accuracy                           0.50        18\n",
      "   macro avg       0.46      0.49      0.46        18\n",
      "weighted avg       0.47      0.50      0.47        18\n",
      "\n",
      "-------------------------------------------------------------------------------------------------------------------\n"
     ]
    },
    {
     "name": "stderr",
     "output_type": "stream",
     "text": [
      "[Parallel(n_jobs=-1)]: Using backend LokyBackend with 12 concurrent workers.\n",
      "[Parallel(n_jobs=-1)]: Done   3 out of   3 | elapsed:  2.2min finished\n"
     ]
    },
    {
     "name": "stdout",
     "output_type": "stream",
     "text": [
      "K-Fold #3\n",
      "Mean negativities for all classes: [0.23168282291171327, 0.18668157213134556, 0.20906867814803842]\n",
      "Mean entropies for all classes: [5.685648679454163e-15, 5.896390238445052e-15, 5.49671479135252e-15]\n",
      "              precision    recall  f1-score   support\n",
      "\n",
      "           0       0.86      1.00      0.92         6\n",
      "           1       0.71      0.71      0.71         7\n",
      "           2       0.75      0.60      0.67         5\n",
      "\n",
      "    accuracy                           0.78        18\n",
      "   macro avg       0.77      0.77      0.77        18\n",
      "weighted avg       0.77      0.78      0.77        18\n",
      "\n",
      "-------------------------------------------------------------------------------------------------------------------\n"
     ]
    },
    {
     "name": "stderr",
     "output_type": "stream",
     "text": [
      "[Parallel(n_jobs=-1)]: Using backend LokyBackend with 12 concurrent workers.\n",
      "[Parallel(n_jobs=-1)]: Done   3 out of   3 | elapsed:  2.2min finished\n"
     ]
    },
    {
     "name": "stdout",
     "output_type": "stream",
     "text": [
      "K-Fold #4\n",
      "Mean negativities for all classes: [0.23631937949930204, 0.18735737331671964, 0.21032878273750566]\n",
      "Mean entropies for all classes: [5.991473633852081e-15, 5.779964459405072e-15, 6.282788540466434e-15]\n",
      "              precision    recall  f1-score   support\n",
      "\n",
      "           0       0.50      0.50      0.50         6\n",
      "           1       0.67      0.57      0.62         7\n",
      "           2       0.17      0.20      0.18         5\n",
      "\n",
      "    accuracy                           0.44        18\n",
      "   macro avg       0.44      0.42      0.43        18\n",
      "weighted avg       0.47      0.44      0.46        18\n",
      "\n",
      "-------------------------------------------------------------------------------------------------------------------\n"
     ]
    },
    {
     "name": "stderr",
     "output_type": "stream",
     "text": [
      "[Parallel(n_jobs=-1)]: Using backend LokyBackend with 12 concurrent workers.\n",
      "[Parallel(n_jobs=-1)]: Done   3 out of   3 | elapsed:  2.2min finished\n"
     ]
    },
    {
     "name": "stdout",
     "output_type": "stream",
     "text": [
      "K-Fold #5\n",
      "Mean negativities for all classes: [0.22984364086469278, 0.18784080251539584, 0.2103105010796167]\n",
      "Mean entropies for all classes: [6.177275725359001e-15, 5.908424158993984e-15, 5.963751347647476e-15]\n",
      "              precision    recall  f1-score   support\n",
      "\n",
      "           0       0.55      1.00      0.71         6\n",
      "           1       0.86      0.86      0.86         7\n",
      "           2       0.00      0.00      0.00         5\n",
      "\n",
      "    accuracy                           0.67        18\n",
      "   macro avg       0.47      0.62      0.52        18\n",
      "weighted avg       0.52      0.67      0.57        18\n",
      "\n",
      "-------------------------------------------------------------------------------------------------------------------\n"
     ]
    },
    {
     "name": "stderr",
     "output_type": "stream",
     "text": [
      "c:\\ProgramData\\Anaconda3\\lib\\site-packages\\sklearn\\metrics\\_classification.py:1344: UndefinedMetricWarning: Precision and F-score are ill-defined and being set to 0.0 in labels with no predicted samples. Use `zero_division` parameter to control this behavior.\n",
      "  _warn_prf(average, modifier, msg_start, len(result))\n",
      "c:\\ProgramData\\Anaconda3\\lib\\site-packages\\sklearn\\metrics\\_classification.py:1344: UndefinedMetricWarning: Precision and F-score are ill-defined and being set to 0.0 in labels with no predicted samples. Use `zero_division` parameter to control this behavior.\n",
      "  _warn_prf(average, modifier, msg_start, len(result))\n",
      "c:\\ProgramData\\Anaconda3\\lib\\site-packages\\sklearn\\metrics\\_classification.py:1344: UndefinedMetricWarning: Precision and F-score are ill-defined and being set to 0.0 in labels with no predicted samples. Use `zero_division` parameter to control this behavior.\n",
      "  _warn_prf(average, modifier, msg_start, len(result))\n",
      "[Parallel(n_jobs=-1)]: Using backend LokyBackend with 12 concurrent workers.\n",
      "[Parallel(n_jobs=-1)]: Done   3 out of   3 | elapsed:  2.2min finished\n"
     ]
    },
    {
     "name": "stdout",
     "output_type": "stream",
     "text": [
      "K-Fold #6\n",
      "Mean negativities for all classes: [0.23331842237303568, 0.18751849420547928, 0.21008525074839043]\n",
      "Mean entropies for all classes: [5.919796820182398e-15, 5.936227386996008e-15, 5.989961006486999e-15]\n",
      "              precision    recall  f1-score   support\n",
      "\n",
      "           0       0.83      0.83      0.83         6\n",
      "           1       0.50      0.43      0.46         7\n",
      "           2       0.33      0.40      0.36         5\n",
      "\n",
      "    accuracy                           0.56        18\n",
      "   macro avg       0.56      0.55      0.55        18\n",
      "weighted avg       0.56      0.56      0.56        18\n",
      "\n",
      "-------------------------------------------------------------------------------------------------------------------\n"
     ]
    },
    {
     "name": "stderr",
     "output_type": "stream",
     "text": [
      "[Parallel(n_jobs=-1)]: Using backend LokyBackend with 12 concurrent workers.\n",
      "[Parallel(n_jobs=-1)]: Done   3 out of   3 | elapsed:  2.2min finished\n"
     ]
    },
    {
     "name": "stdout",
     "output_type": "stream",
     "text": [
      "K-Fold #7\n",
      "Mean negativities for all classes: [0.23631370239366703, 0.18898658542094035, 0.21047577320586733]\n",
      "Mean entropies for all classes: [5.829769899594961e-15, 6.125190207684826e-15, 5.7860394159902135e-15]\n",
      "              precision    recall  f1-score   support\n",
      "\n",
      "           0       0.83      0.83      0.83         6\n",
      "           1       0.56      0.71      0.63         7\n",
      "           2       0.33      0.20      0.25         5\n",
      "\n",
      "    accuracy                           0.61        18\n",
      "   macro avg       0.57      0.58      0.57        18\n",
      "weighted avg       0.59      0.61      0.59        18\n",
      "\n",
      "-------------------------------------------------------------------------------------------------------------------\n"
     ]
    },
    {
     "name": "stderr",
     "output_type": "stream",
     "text": [
      "[Parallel(n_jobs=-1)]: Using backend LokyBackend with 12 concurrent workers.\n",
      "[Parallel(n_jobs=-1)]: Done   3 out of   3 | elapsed:  2.2min finished\n"
     ]
    },
    {
     "name": "stdout",
     "output_type": "stream",
     "text": [
      "K-Fold #8\n",
      "Mean negativities for all classes: [0.2269463276388759, 0.18665774420164571, 0.20687747982275925]\n",
      "Mean entropies for all classes: [6.187279098277205e-15, 6.001536866207199e-15, 6.0353261153286545e-15]\n",
      "              precision    recall  f1-score   support\n",
      "\n",
      "           0       0.55      1.00      0.71         6\n",
      "           1       1.00      0.43      0.60         7\n",
      "           2       0.33      0.25      0.29         4\n",
      "\n",
      "    accuracy                           0.59        17\n",
      "   macro avg       0.63      0.56      0.53        17\n",
      "weighted avg       0.68      0.59      0.56        17\n",
      "\n",
      "-------------------------------------------------------------------------------------------------------------------\n"
     ]
    },
    {
     "name": "stderr",
     "output_type": "stream",
     "text": [
      "[Parallel(n_jobs=-1)]: Using backend LokyBackend with 12 concurrent workers.\n",
      "[Parallel(n_jobs=-1)]: Done   3 out of   3 | elapsed:  2.3min finished\n"
     ]
    },
    {
     "name": "stdout",
     "output_type": "stream",
     "text": [
      "K-Fold #9\n",
      "Mean negativities for all classes: [0.23096274447429166, 0.1891307770019861, 0.20771747488751174]\n",
      "Mean entropies for all classes: [5.8429580794213415e-15, 5.497825940143764e-15, 5.9954176822380965e-15]\n",
      "              precision    recall  f1-score   support\n",
      "\n",
      "           0       0.50      0.80      0.62         5\n",
      "           1       1.00      0.38      0.55         8\n",
      "           2       0.33      0.50      0.40         4\n",
      "\n",
      "    accuracy                           0.53        17\n",
      "   macro avg       0.61      0.56      0.52        17\n",
      "weighted avg       0.70      0.53      0.53        17\n",
      "\n",
      "-------------------------------------------------------------------------------------------------------------------\n",
      "AVG: Scores = 0.6173202614379084 F1-Scores = 0.5816728206434089 Negativity = [0.20979072210899027, 0.2084994758374273, 0.20921653846286506] Entropy = [5.657464881871481e-15, 5.904729888061318e-15, 5.831670979149325e-15]\n"
     ]
    },
    {
     "name": "stderr",
     "output_type": "stream",
     "text": [
      "[Parallel(n_jobs=-1)]: Using backend LokyBackend with 12 concurrent workers.\n",
      "[Parallel(n_jobs=-1)]: Done   3 out of   3 | elapsed:  2.2min finished\n"
     ]
    },
    {
     "name": "stdout",
     "output_type": "stream",
     "text": [
      "K-Fold #0\n",
      "Mean negativities for all classes: [0.22916648442023663, 0.18813182847527343, 0.20692982414933034]\n",
      "Mean entropies for all classes: [5.677033688374816e-15, 6.0479155630983284e-15, 5.7558191586007255e-15]\n",
      "              precision    recall  f1-score   support\n",
      "\n",
      "           0       0.62      0.83      0.71         6\n",
      "           1       0.67      0.29      0.40         7\n",
      "           2       0.29      0.40      0.33         5\n",
      "\n",
      "    accuracy                           0.50        18\n",
      "   macro avg       0.53      0.51      0.48        18\n",
      "weighted avg       0.55      0.50      0.49        18\n",
      "\n",
      "-------------------------------------------------------------------------------------------------------------------\n"
     ]
    },
    {
     "name": "stderr",
     "output_type": "stream",
     "text": [
      "[Parallel(n_jobs=-1)]: Using backend LokyBackend with 12 concurrent workers.\n",
      "[Parallel(n_jobs=-1)]: Done   3 out of   3 | elapsed:  2.2min finished\n"
     ]
    },
    {
     "name": "stdout",
     "output_type": "stream",
     "text": [
      "K-Fold #1\n",
      "Mean negativities for all classes: [0.22824368807697537, 0.18981730687924697, 0.20743060832815605]\n",
      "Mean entropies for all classes: [5.9265498577382325e-15, 5.912724910875742e-15, 6.32519970994715e-15]\n",
      "              precision    recall  f1-score   support\n",
      "\n",
      "           0       0.67      1.00      0.80         6\n",
      "           1       0.71      0.71      0.71         7\n",
      "           2       0.50      0.20      0.29         5\n",
      "\n",
      "    accuracy                           0.67        18\n",
      "   macro avg       0.63      0.64      0.60        18\n",
      "weighted avg       0.64      0.67      0.62        18\n",
      "\n",
      "-------------------------------------------------------------------------------------------------------------------\n"
     ]
    },
    {
     "name": "stderr",
     "output_type": "stream",
     "text": [
      "[Parallel(n_jobs=-1)]: Using backend LokyBackend with 12 concurrent workers.\n",
      "[Parallel(n_jobs=-1)]: Done   3 out of   3 | elapsed:  2.2min finished\n"
     ]
    },
    {
     "name": "stdout",
     "output_type": "stream",
     "text": [
      "K-Fold #2\n",
      "Mean negativities for all classes: [0.23436310462600968, 0.1876962752880058, 0.20876319373212465]\n",
      "Mean entropies for all classes: [5.7565970399752805e-15, 5.8723559799612225e-15, 5.592770529832581e-15]\n",
      "              precision    recall  f1-score   support\n",
      "\n",
      "           0       0.57      0.67      0.62         6\n",
      "           1       0.50      0.14      0.22         7\n",
      "           2       0.22      0.40      0.29         5\n",
      "\n",
      "    accuracy                           0.39        18\n",
      "   macro avg       0.43      0.40      0.37        18\n",
      "weighted avg       0.45      0.39      0.37        18\n",
      "\n",
      "-------------------------------------------------------------------------------------------------------------------\n"
     ]
    },
    {
     "name": "stderr",
     "output_type": "stream",
     "text": [
      "[Parallel(n_jobs=-1)]: Using backend LokyBackend with 12 concurrent workers.\n",
      "[Parallel(n_jobs=-1)]: Done   3 out of   3 | elapsed:  2.2min finished\n"
     ]
    },
    {
     "name": "stdout",
     "output_type": "stream",
     "text": [
      "K-Fold #3\n",
      "Mean negativities for all classes: [0.22703754902623427, 0.18769944587434104, 0.2058674079033983]\n",
      "Mean entropies for all classes: [5.767549853752263e-15, 5.50928953709996e-15, 6.1200662751897675e-15]\n",
      "              precision    recall  f1-score   support\n",
      "\n",
      "           0       0.62      0.83      0.71         6\n",
      "           1       1.00      0.14      0.25         7\n",
      "           2       0.33      0.60      0.43         5\n",
      "\n",
      "    accuracy                           0.50        18\n",
      "   macro avg       0.65      0.53      0.46        18\n",
      "weighted avg       0.69      0.50      0.45        18\n",
      "\n",
      "-------------------------------------------------------------------------------------------------------------------\n"
     ]
    },
    {
     "name": "stderr",
     "output_type": "stream",
     "text": [
      "[Parallel(n_jobs=-1)]: Using backend LokyBackend with 12 concurrent workers.\n",
      "[Parallel(n_jobs=-1)]: Done   3 out of   3 | elapsed:  2.2min finished\n"
     ]
    },
    {
     "name": "stdout",
     "output_type": "stream",
     "text": [
      "K-Fold #4\n",
      "Mean negativities for all classes: [0.23048853643191844, 0.19009941680920928, 0.2103430726480503]\n",
      "Mean entropies for all classes: [6.032287522950307e-15, 6.04012297203078e-15, 5.912765005568893e-15]\n",
      "              precision    recall  f1-score   support\n",
      "\n",
      "           0       0.60      1.00      0.75         6\n",
      "           1       0.71      0.71      0.71         7\n",
      "           2       1.00      0.20      0.33         5\n",
      "\n",
      "    accuracy                           0.67        18\n",
      "   macro avg       0.77      0.64      0.60        18\n",
      "weighted avg       0.76      0.67      0.62        18\n",
      "\n",
      "-------------------------------------------------------------------------------------------------------------------\n"
     ]
    },
    {
     "name": "stderr",
     "output_type": "stream",
     "text": [
      "[Parallel(n_jobs=-1)]: Using backend LokyBackend with 12 concurrent workers.\n",
      "[Parallel(n_jobs=-1)]: Done   3 out of   3 | elapsed:  2.2min finished\n"
     ]
    },
    {
     "name": "stdout",
     "output_type": "stream",
     "text": [
      "K-Fold #5\n",
      "Mean negativities for all classes: [0.23739577303345985, 0.19467723092093525, 0.21134598018659367]\n",
      "Mean entropies for all classes: [5.48358580316442e-15, 5.4598372325743755e-15, 6.111314109253237e-15]\n",
      "              precision    recall  f1-score   support\n",
      "\n",
      "           0       0.67      0.67      0.67         6\n",
      "           1       0.71      0.71      0.71         7\n",
      "           2       0.40      0.40      0.40         5\n",
      "\n",
      "    accuracy                           0.61        18\n",
      "   macro avg       0.59      0.59      0.59        18\n",
      "weighted avg       0.61      0.61      0.61        18\n",
      "\n",
      "-------------------------------------------------------------------------------------------------------------------\n"
     ]
    },
    {
     "name": "stderr",
     "output_type": "stream",
     "text": [
      "[Parallel(n_jobs=-1)]: Using backend LokyBackend with 12 concurrent workers.\n",
      "[Parallel(n_jobs=-1)]: Done   3 out of   3 | elapsed:  2.2min finished\n"
     ]
    },
    {
     "name": "stdout",
     "output_type": "stream",
     "text": [
      "K-Fold #6\n",
      "Mean negativities for all classes: [0.23035258201685954, 0.18791676878512087, 0.20886416008974748]\n",
      "Mean entropies for all classes: [5.865208075852386e-15, 6.086293691933232e-15, 5.995090561629896e-15]\n",
      "              precision    recall  f1-score   support\n",
      "\n",
      "           0       0.62      0.83      0.71         6\n",
      "           1       0.67      0.57      0.62         7\n",
      "           2       0.50      0.40      0.44         5\n",
      "\n",
      "    accuracy                           0.61        18\n",
      "   macro avg       0.60      0.60      0.59        18\n",
      "weighted avg       0.61      0.61      0.60        18\n",
      "\n",
      "-------------------------------------------------------------------------------------------------------------------\n"
     ]
    },
    {
     "name": "stderr",
     "output_type": "stream",
     "text": [
      "[Parallel(n_jobs=-1)]: Using backend LokyBackend with 12 concurrent workers.\n",
      "[Parallel(n_jobs=-1)]: Done   3 out of   3 | elapsed:  2.2min finished\n"
     ]
    },
    {
     "name": "stdout",
     "output_type": "stream",
     "text": [
      "K-Fold #7\n",
      "Mean negativities for all classes: [0.22802990152738342, 0.18793503513850632, 0.2074762293310658]\n",
      "Mean entropies for all classes: [6.023327230950496e-15, 6.247187861800938e-15, 5.94749748067155e-15]\n",
      "              precision    recall  f1-score   support\n",
      "\n",
      "           0       0.55      1.00      0.71         6\n",
      "           1       0.67      0.57      0.62         7\n",
      "           2       0.00      0.00      0.00         5\n",
      "\n",
      "    accuracy                           0.56        18\n",
      "   macro avg       0.40      0.52      0.44        18\n",
      "weighted avg       0.44      0.56      0.47        18\n",
      "\n",
      "-------------------------------------------------------------------------------------------------------------------\n"
     ]
    },
    {
     "name": "stderr",
     "output_type": "stream",
     "text": [
      "[Parallel(n_jobs=-1)]: Using backend LokyBackend with 12 concurrent workers.\n",
      "[Parallel(n_jobs=-1)]: Done   3 out of   3 | elapsed:  2.3min finished\n"
     ]
    },
    {
     "name": "stdout",
     "output_type": "stream",
     "text": [
      "K-Fold #8\n",
      "Mean negativities for all classes: [0.23397343672904936, 0.18857342384634848, 0.2105663845186727]\n",
      "Mean entropies for all classes: [6.088924040696753e-15, 5.517607343940521e-15, 5.966843109745094e-15]\n",
      "              precision    recall  f1-score   support\n",
      "\n",
      "           0       1.00      1.00      1.00         6\n",
      "           1       0.67      0.86      0.75         7\n",
      "           2       0.50      0.25      0.33         4\n",
      "\n",
      "    accuracy                           0.76        17\n",
      "   macro avg       0.72      0.70      0.69        17\n",
      "weighted avg       0.75      0.76      0.74        17\n",
      "\n",
      "-------------------------------------------------------------------------------------------------------------------\n"
     ]
    },
    {
     "name": "stderr",
     "output_type": "stream",
     "text": [
      "[Parallel(n_jobs=-1)]: Using backend LokyBackend with 12 concurrent workers.\n",
      "[Parallel(n_jobs=-1)]: Done   3 out of   3 | elapsed:  2.2min finished\n"
     ]
    },
    {
     "name": "stdout",
     "output_type": "stream",
     "text": [
      "K-Fold #9\n",
      "Mean negativities for all classes: [0.23760118487617402, 0.20963953621683526, 0.2128672358061162]\n",
      "Mean entropies for all classes: [6.11733753663017e-15, 5.667080597461089e-15, 5.919625605079322e-15]\n",
      "              precision    recall  f1-score   support\n",
      "\n",
      "           0       0.71      1.00      0.83         5\n",
      "           1       0.83      0.62      0.71         8\n",
      "           2       0.50      0.50      0.50         4\n",
      "\n",
      "    accuracy                           0.71        17\n",
      "   macro avg       0.68      0.71      0.68        17\n",
      "weighted avg       0.72      0.71      0.70        17\n",
      "\n",
      "-------------------------------------------------------------------------------------------------------------------\n",
      "AVG: Scores = 0.5970588235294118 F1-Scores = 0.5522900955253897 Negativity = [0.20807604568161345, 0.20849720109479278, 0.21027419121538005] Entropy = [5.826922803357957e-15, 6.0548248261870416e-15, 5.7405745165896944e-15]\n"
     ]
    },
    {
     "name": "stderr",
     "output_type": "stream",
     "text": [
      "[Parallel(n_jobs=-1)]: Using backend LokyBackend with 12 concurrent workers.\n",
      "[Parallel(n_jobs=-1)]: Done   3 out of   3 | elapsed:  2.2min finished\n"
     ]
    },
    {
     "name": "stdout",
     "output_type": "stream",
     "text": [
      "K-Fold #0\n",
      "Mean negativities for all classes: [0.2336005326165153, 0.1879364509632229, 0.2109175940561657]\n",
      "Mean entropies for all classes: [5.696906477913961e-15, 6.006016996269078e-15, 5.9746347996232145e-15]\n",
      "              precision    recall  f1-score   support\n",
      "\n",
      "           0       0.71      0.83      0.77         6\n",
      "           1       0.83      0.71      0.77         7\n",
      "           2       0.80      0.80      0.80         5\n",
      "\n",
      "    accuracy                           0.78        18\n",
      "   macro avg       0.78      0.78      0.78        18\n",
      "weighted avg       0.78      0.78      0.78        18\n",
      "\n",
      "-------------------------------------------------------------------------------------------------------------------\n"
     ]
    },
    {
     "name": "stderr",
     "output_type": "stream",
     "text": [
      "[Parallel(n_jobs=-1)]: Using backend LokyBackend with 12 concurrent workers.\n",
      "[Parallel(n_jobs=-1)]: Done   3 out of   3 | elapsed:  2.2min finished\n"
     ]
    },
    {
     "name": "stdout",
     "output_type": "stream",
     "text": [
      "K-Fold #1\n",
      "Mean negativities for all classes: [0.2300583226335079, 0.18721135285709287, 0.2098979891367202]\n",
      "Mean entropies for all classes: [6.0764049977713044e-15, 6.143496140140929e-15, 6.064745404566699e-15]\n",
      "              precision    recall  f1-score   support\n",
      "\n",
      "           0       0.60      1.00      0.75         6\n",
      "           1       1.00      0.86      0.92         7\n",
      "           2       0.50      0.20      0.29         5\n",
      "\n",
      "    accuracy                           0.72        18\n",
      "   macro avg       0.70      0.69      0.65        18\n",
      "weighted avg       0.73      0.72      0.69        18\n",
      "\n",
      "-------------------------------------------------------------------------------------------------------------------\n"
     ]
    },
    {
     "name": "stderr",
     "output_type": "stream",
     "text": [
      "[Parallel(n_jobs=-1)]: Using backend LokyBackend with 12 concurrent workers.\n",
      "[Parallel(n_jobs=-1)]: Done   3 out of   3 | elapsed:  2.2min finished\n"
     ]
    },
    {
     "name": "stdout",
     "output_type": "stream",
     "text": [
      "K-Fold #2\n",
      "Mean negativities for all classes: [0.23514945810715215, 0.18689788827026424, 0.20906307483438374]\n",
      "Mean entropies for all classes: [5.863909846306444e-15, 5.698579482341286e-15, 6.299690457078906e-15]\n",
      "              precision    recall  f1-score   support\n",
      "\n",
      "           0       0.57      0.67      0.62         6\n",
      "           1       0.57      0.57      0.57         7\n",
      "           2       0.50      0.40      0.44         5\n",
      "\n",
      "    accuracy                           0.56        18\n",
      "   macro avg       0.55      0.55      0.54        18\n",
      "weighted avg       0.55      0.56      0.55        18\n",
      "\n",
      "-------------------------------------------------------------------------------------------------------------------\n"
     ]
    },
    {
     "name": "stderr",
     "output_type": "stream",
     "text": [
      "[Parallel(n_jobs=-1)]: Using backend LokyBackend with 12 concurrent workers.\n",
      "[Parallel(n_jobs=-1)]: Done   3 out of   3 | elapsed:  2.2min finished\n"
     ]
    },
    {
     "name": "stdout",
     "output_type": "stream",
     "text": [
      "K-Fold #3\n",
      "Mean negativities for all classes: [0.23074267206024845, 0.1870990788367825, 0.20872899099112965]\n",
      "Mean entropies for all classes: [5.974405301682497e-15, 5.9126454353422595e-15, 6.237998839258761e-15]\n",
      "              precision    recall  f1-score   support\n",
      "\n",
      "           0       0.86      1.00      0.92         6\n",
      "           1       0.67      0.57      0.62         7\n",
      "           2       0.40      0.40      0.40         5\n",
      "\n",
      "    accuracy                           0.67        18\n",
      "   macro avg       0.64      0.66      0.65        18\n",
      "weighted avg       0.66      0.67      0.66        18\n",
      "\n",
      "-------------------------------------------------------------------------------------------------------------------\n"
     ]
    },
    {
     "name": "stderr",
     "output_type": "stream",
     "text": [
      "[Parallel(n_jobs=-1)]: Using backend LokyBackend with 12 concurrent workers.\n",
      "[Parallel(n_jobs=-1)]: Done   3 out of   3 | elapsed:  2.2min finished\n"
     ]
    },
    {
     "name": "stdout",
     "output_type": "stream",
     "text": [
      "K-Fold #4\n",
      "Mean negativities for all classes: [0.23401514951164268, 0.18791793744251728, 0.21094564232450322]\n",
      "Mean entropies for all classes: [5.79776095886618e-15, 5.572789976165036e-15, 5.836102010191357e-15]\n",
      "              precision    recall  f1-score   support\n",
      "\n",
      "           0       0.75      1.00      0.86         6\n",
      "           1       0.71      0.71      0.71         7\n",
      "           2       0.33      0.20      0.25         5\n",
      "\n",
      "    accuracy                           0.67        18\n",
      "   macro avg       0.60      0.64      0.61        18\n",
      "weighted avg       0.62      0.67      0.63        18\n",
      "\n",
      "-------------------------------------------------------------------------------------------------------------------\n"
     ]
    },
    {
     "name": "stderr",
     "output_type": "stream",
     "text": [
      "[Parallel(n_jobs=-1)]: Using backend LokyBackend with 12 concurrent workers.\n",
      "[Parallel(n_jobs=-1)]: Done   3 out of   3 | elapsed:  2.2min finished\n"
     ]
    },
    {
     "name": "stdout",
     "output_type": "stream",
     "text": [
      "K-Fold #5\n",
      "Mean negativities for all classes: [0.2293596775816843, 0.18927506057223706, 0.20928014728606434]\n",
      "Mean entropies for all classes: [5.4855613986752174e-15, 5.859237578550664e-15, 5.503380681579371e-15]\n",
      "              precision    recall  f1-score   support\n",
      "\n",
      "           0       0.67      1.00      0.80         6\n",
      "           1       0.80      0.57      0.67         7\n",
      "           2       0.50      0.40      0.44         5\n",
      "\n",
      "    accuracy                           0.67        18\n",
      "   macro avg       0.66      0.66      0.64        18\n",
      "weighted avg       0.67      0.67      0.65        18\n",
      "\n",
      "-------------------------------------------------------------------------------------------------------------------\n"
     ]
    },
    {
     "name": "stderr",
     "output_type": "stream",
     "text": [
      "[Parallel(n_jobs=-1)]: Using backend LokyBackend with 12 concurrent workers.\n",
      "[Parallel(n_jobs=-1)]: Done   3 out of   3 | elapsed:  2.2min finished\n"
     ]
    },
    {
     "name": "stdout",
     "output_type": "stream",
     "text": [
      "K-Fold #6\n",
      "Mean negativities for all classes: [0.22880385813041343, 0.18802196382638695, 0.2070514503853086]\n",
      "Mean entropies for all classes: [5.84933664626605e-15, 5.522167568843143e-15, 5.889126799256418e-15]\n",
      "              precision    recall  f1-score   support\n",
      "\n",
      "           0       0.62      0.83      0.71         6\n",
      "           1       0.62      0.71      0.67         7\n",
      "           2       0.50      0.20      0.29         5\n",
      "\n",
      "    accuracy                           0.61        18\n",
      "   macro avg       0.58      0.58      0.56        18\n",
      "weighted avg       0.59      0.61      0.58        18\n",
      "\n",
      "-------------------------------------------------------------------------------------------------------------------\n"
     ]
    },
    {
     "name": "stderr",
     "output_type": "stream",
     "text": [
      "[Parallel(n_jobs=-1)]: Using backend LokyBackend with 12 concurrent workers.\n",
      "[Parallel(n_jobs=-1)]: Done   3 out of   3 | elapsed:  2.2min finished\n"
     ]
    },
    {
     "name": "stdout",
     "output_type": "stream",
     "text": [
      "K-Fold #7\n",
      "Mean negativities for all classes: [0.2270363300307848, 0.1872873229138083, 0.2088954264764157]\n",
      "Mean entropies for all classes: [6.112940602479357e-15, 5.970532869301467e-15, 5.8366265001464e-15]\n",
      "              precision    recall  f1-score   support\n",
      "\n",
      "           0       0.55      1.00      0.71         6\n",
      "           1       0.67      0.29      0.40         7\n",
      "           2       0.50      0.40      0.44         5\n",
      "\n",
      "    accuracy                           0.56        18\n",
      "   macro avg       0.57      0.56      0.52        18\n",
      "weighted avg       0.58      0.56      0.51        18\n",
      "\n",
      "-------------------------------------------------------------------------------------------------------------------\n"
     ]
    },
    {
     "name": "stderr",
     "output_type": "stream",
     "text": [
      "[Parallel(n_jobs=-1)]: Using backend LokyBackend with 12 concurrent workers.\n",
      "[Parallel(n_jobs=-1)]: Done   3 out of   3 | elapsed:  2.2min finished\n"
     ]
    },
    {
     "name": "stdout",
     "output_type": "stream",
     "text": [
      "K-Fold #8\n",
      "Mean negativities for all classes: [0.23403744016798864, 0.18769028278519342, 0.2088145483811352]\n",
      "Mean entropies for all classes: [5.8079289213205885e-15, 5.8218010538520156e-15, 5.8401609864929126e-15]\n",
      "              precision    recall  f1-score   support\n",
      "\n",
      "           0       0.83      0.83      0.83         6\n",
      "           1       0.50      0.29      0.36         7\n",
      "           2       0.29      0.50      0.36         4\n",
      "\n",
      "    accuracy                           0.53        17\n",
      "   macro avg       0.54      0.54      0.52        17\n",
      "weighted avg       0.57      0.53      0.53        17\n",
      "\n",
      "-------------------------------------------------------------------------------------------------------------------\n"
     ]
    },
    {
     "name": "stderr",
     "output_type": "stream",
     "text": [
      "[Parallel(n_jobs=-1)]: Using backend LokyBackend with 12 concurrent workers.\n",
      "[Parallel(n_jobs=-1)]: Done   3 out of   3 | elapsed:  2.2min finished\n"
     ]
    },
    {
     "name": "stdout",
     "output_type": "stream",
     "text": [
      "K-Fold #9\n",
      "Mean negativities for all classes: [0.23511355659199967, 0.18891741666701095, 0.2094509938287336]\n",
      "Mean entropies for all classes: [5.9514578038300864e-15, 6.255852584295935e-15, 5.6795259219797965e-15]\n",
      "              precision    recall  f1-score   support\n",
      "\n",
      "           0       0.67      0.80      0.73         5\n",
      "           1       1.00      0.62      0.77         8\n",
      "           2       0.33      0.50      0.40         4\n",
      "\n",
      "    accuracy                           0.65        17\n",
      "   macro avg       0.67      0.64      0.63        17\n",
      "weighted avg       0.75      0.65      0.67        17\n",
      "\n",
      "-------------------------------------------------------------------------------------------------------------------\n",
      "AVG: Scores = 0.6398692810457517 F1-Scores = 0.6091204873557815 Negativity = [0.21081819254530132, 0.209055888209107, 0.2103701404039334] Entropy = [5.892519424602084e-15, 6.094882180826311e-15, 5.9540599285755456e-15]\n"
     ]
    },
    {
     "name": "stderr",
     "output_type": "stream",
     "text": [
      "[Parallel(n_jobs=-1)]: Using backend LokyBackend with 12 concurrent workers.\n",
      "[Parallel(n_jobs=-1)]: Done   3 out of   3 | elapsed:  2.2min finished\n"
     ]
    },
    {
     "name": "stdout",
     "output_type": "stream",
     "text": [
      "K-Fold #0\n",
      "Mean negativities for all classes: [0.23758091045902466, 0.19041128737671928, 0.21041472116082557]\n",
      "Mean entropies for all classes: [5.8219102849315315e-15, 5.8237703244848576e-15, 6.486415749186745e-15]\n",
      "              precision    recall  f1-score   support\n",
      "\n",
      "           0       1.00      0.67      0.80         6\n",
      "           1       0.62      0.71      0.67         7\n",
      "           2       0.33      0.40      0.36         5\n",
      "\n",
      "    accuracy                           0.61        18\n",
      "   macro avg       0.65      0.59      0.61        18\n",
      "weighted avg       0.67      0.61      0.63        18\n",
      "\n",
      "-------------------------------------------------------------------------------------------------------------------\n"
     ]
    },
    {
     "name": "stderr",
     "output_type": "stream",
     "text": [
      "[Parallel(n_jobs=-1)]: Using backend LokyBackend with 12 concurrent workers.\n",
      "[Parallel(n_jobs=-1)]: Done   3 out of   3 | elapsed:  2.2min finished\n"
     ]
    },
    {
     "name": "stdout",
     "output_type": "stream",
     "text": [
      "K-Fold #1\n",
      "Mean negativities for all classes: [0.2281548697857922, 0.1876985577566369, 0.20772803950289098]\n",
      "Mean entropies for all classes: [6.111616602971837e-15, 5.783910771420793e-15, 5.879122064706235e-15]\n",
      "              precision    recall  f1-score   support\n",
      "\n",
      "           0       0.67      1.00      0.80         6\n",
      "           1       0.71      0.71      0.71         7\n",
      "           2       0.00      0.00      0.00         5\n",
      "\n",
      "    accuracy                           0.61        18\n",
      "   macro avg       0.46      0.57      0.50        18\n",
      "weighted avg       0.50      0.61      0.54        18\n",
      "\n",
      "-------------------------------------------------------------------------------------------------------------------\n"
     ]
    },
    {
     "name": "stderr",
     "output_type": "stream",
     "text": [
      "[Parallel(n_jobs=-1)]: Using backend LokyBackend with 12 concurrent workers.\n",
      "[Parallel(n_jobs=-1)]: Done   3 out of   3 | elapsed:  2.2min finished\n"
     ]
    },
    {
     "name": "stdout",
     "output_type": "stream",
     "text": [
      "K-Fold #2\n",
      "Mean negativities for all classes: [0.23757131364444714, 0.18851589357751183, 0.21111394033406408]\n",
      "Mean entropies for all classes: [5.73837743643035e-15, 5.81418504057516e-15, 6.095072662254633e-15]\n",
      "              precision    recall  f1-score   support\n",
      "\n",
      "           0       0.67      0.67      0.67         6\n",
      "           1       0.62      0.71      0.67         7\n",
      "           2       0.25      0.20      0.22         5\n",
      "\n",
      "    accuracy                           0.56        18\n",
      "   macro avg       0.51      0.53      0.52        18\n",
      "weighted avg       0.53      0.56      0.54        18\n",
      "\n",
      "-------------------------------------------------------------------------------------------------------------------\n"
     ]
    },
    {
     "name": "stderr",
     "output_type": "stream",
     "text": [
      "[Parallel(n_jobs=-1)]: Using backend LokyBackend with 12 concurrent workers.\n",
      "[Parallel(n_jobs=-1)]: Done   3 out of   3 | elapsed:  2.2min finished\n"
     ]
    },
    {
     "name": "stdout",
     "output_type": "stream",
     "text": [
      "K-Fold #3\n",
      "Mean negativities for all classes: [0.23119195515518992, 0.1883003231399284, 0.2071833257502034]\n",
      "Mean entropies for all classes: [6.379297841546595e-15, 5.8157524441235766e-15, 6.01165162625113e-15]\n",
      "              precision    recall  f1-score   support\n",
      "\n",
      "           0       0.50      0.67      0.57         6\n",
      "           1       0.75      0.43      0.55         7\n",
      "           2       0.33      0.40      0.36         5\n",
      "\n",
      "    accuracy                           0.50        18\n",
      "   macro avg       0.53      0.50      0.49        18\n",
      "weighted avg       0.55      0.50      0.50        18\n",
      "\n",
      "-------------------------------------------------------------------------------------------------------------------\n"
     ]
    },
    {
     "name": "stderr",
     "output_type": "stream",
     "text": [
      "[Parallel(n_jobs=-1)]: Using backend LokyBackend with 12 concurrent workers.\n",
      "[Parallel(n_jobs=-1)]: Done   3 out of   3 | elapsed:  2.2min finished\n"
     ]
    },
    {
     "name": "stdout",
     "output_type": "stream",
     "text": [
      "K-Fold #4\n",
      "Mean negativities for all classes: [0.23129630716915528, 0.18715131130100043, 0.21032118484506002]\n",
      "Mean entropies for all classes: [6.414281444968181e-15, 6.180320837817439e-15, 5.679020602231286e-15]\n",
      "              precision    recall  f1-score   support\n",
      "\n",
      "           0       0.75      1.00      0.86         6\n",
      "           1       0.62      0.71      0.67         7\n",
      "           2       0.50      0.20      0.29         5\n",
      "\n",
      "    accuracy                           0.67        18\n",
      "   macro avg       0.62      0.64      0.60        18\n",
      "weighted avg       0.63      0.67      0.62        18\n",
      "\n",
      "-------------------------------------------------------------------------------------------------------------------\n"
     ]
    },
    {
     "name": "stderr",
     "output_type": "stream",
     "text": [
      "[Parallel(n_jobs=-1)]: Using backend LokyBackend with 12 concurrent workers.\n",
      "[Parallel(n_jobs=-1)]: Done   3 out of   3 | elapsed:  2.2min finished\n"
     ]
    },
    {
     "name": "stdout",
     "output_type": "stream",
     "text": [
      "K-Fold #5\n",
      "Mean negativities for all classes: [0.22900407860963615, 0.18776269661965792, 0.2061851335682393]\n",
      "Mean entropies for all classes: [5.831363423592227e-15, 5.2970058975167475e-15, 5.965927502836771e-15]\n",
      "              precision    recall  f1-score   support\n",
      "\n",
      "           0       0.56      0.83      0.67         6\n",
      "           1       1.00      0.14      0.25         7\n",
      "           2       0.38      0.60      0.46         5\n",
      "\n",
      "    accuracy                           0.50        18\n",
      "   macro avg       0.64      0.53      0.46        18\n",
      "weighted avg       0.68      0.50      0.45        18\n",
      "\n",
      "-------------------------------------------------------------------------------------------------------------------\n"
     ]
    },
    {
     "name": "stderr",
     "output_type": "stream",
     "text": [
      "[Parallel(n_jobs=-1)]: Using backend LokyBackend with 12 concurrent workers.\n",
      "[Parallel(n_jobs=-1)]: Done   3 out of   3 | elapsed:  2.2min finished\n"
     ]
    },
    {
     "name": "stdout",
     "output_type": "stream",
     "text": [
      "K-Fold #6\n",
      "Mean negativities for all classes: [0.2311146044131896, 0.18755295679829423, 0.20931053459488078]\n",
      "Mean entropies for all classes: [5.680557705309895e-15, 6.119978886288781e-15, 5.948305850431136e-15]\n",
      "              precision    recall  f1-score   support\n",
      "\n",
      "           0       0.67      1.00      0.80         6\n",
      "           1       0.88      1.00      0.93         7\n",
      "           2       1.00      0.20      0.33         5\n",
      "\n",
      "    accuracy                           0.78        18\n",
      "   macro avg       0.85      0.73      0.69        18\n",
      "weighted avg       0.84      0.78      0.72        18\n",
      "\n",
      "-------------------------------------------------------------------------------------------------------------------\n"
     ]
    },
    {
     "name": "stderr",
     "output_type": "stream",
     "text": [
      "[Parallel(n_jobs=-1)]: Using backend LokyBackend with 12 concurrent workers.\n",
      "[Parallel(n_jobs=-1)]: Done   3 out of   3 | elapsed:  2.2min finished\n"
     ]
    },
    {
     "name": "stdout",
     "output_type": "stream",
     "text": [
      "K-Fold #7\n",
      "Mean negativities for all classes: [0.23123345666468614, 0.1869129685350768, 0.21165180286525398]\n",
      "Mean entropies for all classes: [6.057530247310087e-15, 5.993648317354244e-15, 5.842216712870718e-15]\n",
      "              precision    recall  f1-score   support\n",
      "\n",
      "           0       0.67      1.00      0.80         6\n",
      "           1       0.57      0.57      0.57         7\n",
      "           2       0.50      0.20      0.29         5\n",
      "\n",
      "    accuracy                           0.61        18\n",
      "   macro avg       0.58      0.59      0.55        18\n",
      "weighted avg       0.58      0.61      0.57        18\n",
      "\n",
      "-------------------------------------------------------------------------------------------------------------------\n"
     ]
    },
    {
     "name": "stderr",
     "output_type": "stream",
     "text": [
      "[Parallel(n_jobs=-1)]: Using backend LokyBackend with 12 concurrent workers.\n",
      "[Parallel(n_jobs=-1)]: Done   3 out of   3 | elapsed:  2.2min finished\n"
     ]
    },
    {
     "name": "stdout",
     "output_type": "stream",
     "text": [
      "K-Fold #8\n",
      "Mean negativities for all classes: [0.2307602476009185, 0.18779014435471258, 0.20956731809030896]\n",
      "Mean entropies for all classes: [5.67973919329216e-15, 5.6545497173544055e-15, 5.775219507939261e-15]\n",
      "              precision    recall  f1-score   support\n",
      "\n",
      "           0       0.67      1.00      0.80         6\n",
      "           1       0.62      0.71      0.67         7\n",
      "           2       0.00      0.00      0.00         4\n",
      "\n",
      "    accuracy                           0.65        17\n",
      "   macro avg       0.43      0.57      0.49        17\n",
      "weighted avg       0.49      0.65      0.56        17\n",
      "\n",
      "-------------------------------------------------------------------------------------------------------------------\n"
     ]
    },
    {
     "name": "stderr",
     "output_type": "stream",
     "text": [
      "c:\\ProgramData\\Anaconda3\\lib\\site-packages\\sklearn\\metrics\\_classification.py:1344: UndefinedMetricWarning: Precision and F-score are ill-defined and being set to 0.0 in labels with no predicted samples. Use `zero_division` parameter to control this behavior.\n",
      "  _warn_prf(average, modifier, msg_start, len(result))\n",
      "c:\\ProgramData\\Anaconda3\\lib\\site-packages\\sklearn\\metrics\\_classification.py:1344: UndefinedMetricWarning: Precision and F-score are ill-defined and being set to 0.0 in labels with no predicted samples. Use `zero_division` parameter to control this behavior.\n",
      "  _warn_prf(average, modifier, msg_start, len(result))\n",
      "c:\\ProgramData\\Anaconda3\\lib\\site-packages\\sklearn\\metrics\\_classification.py:1344: UndefinedMetricWarning: Precision and F-score are ill-defined and being set to 0.0 in labels with no predicted samples. Use `zero_division` parameter to control this behavior.\n",
      "  _warn_prf(average, modifier, msg_start, len(result))\n",
      "[Parallel(n_jobs=-1)]: Using backend LokyBackend with 12 concurrent workers.\n",
      "[Parallel(n_jobs=-1)]: Done   3 out of   3 | elapsed:  2.2min finished\n"
     ]
    },
    {
     "name": "stdout",
     "output_type": "stream",
     "text": [
      "K-Fold #9\n",
      "Mean negativities for all classes: [0.23490259049394768, 0.18750530460538173, 0.2096841733132004]\n",
      "Mean entropies for all classes: [6.036688193325151e-15, 5.5018260762921735e-15, 5.7860039575316004e-15]\n",
      "              precision    recall  f1-score   support\n",
      "\n",
      "           0       0.71      1.00      0.83         5\n",
      "           1       1.00      0.62      0.77         8\n",
      "           2       0.80      1.00      0.89         4\n",
      "\n",
      "    accuracy                           0.82        17\n",
      "   macro avg       0.84      0.88      0.83        17\n",
      "weighted avg       0.87      0.82      0.82        17\n",
      "\n",
      "-------------------------------------------------------------------------------------------------------------------\n",
      "AVG: Scores = 0.6303921568627451 F1-Scores = 0.57501073001073 Negativity = [0.21280230633218986, 0.2078604890151067, 0.21240038251867435] Entropy = [6.044032119534378e-15, 5.924883146366289e-15, 5.882545046420048e-15]\n"
     ]
    },
    {
     "name": "stderr",
     "output_type": "stream",
     "text": [
      "[Parallel(n_jobs=-1)]: Using backend LokyBackend with 12 concurrent workers.\n",
      "[Parallel(n_jobs=-1)]: Done   3 out of   3 | elapsed:  2.2min finished\n"
     ]
    },
    {
     "name": "stdout",
     "output_type": "stream",
     "text": [
      "K-Fold #0\n",
      "Mean negativities for all classes: [0.23085686180484385, 0.18796245750469798, 0.20932302092956878]\n",
      "Mean entropies for all classes: [6.024898232013669e-15, 5.670444392841579e-15, 5.973812513785718e-15]\n",
      "              precision    recall  f1-score   support\n",
      "\n",
      "           0       0.75      1.00      0.86         6\n",
      "           1       0.86      0.86      0.86         7\n",
      "           2       0.67      0.40      0.50         5\n",
      "\n",
      "    accuracy                           0.78        18\n",
      "   macro avg       0.76      0.75      0.74        18\n",
      "weighted avg       0.77      0.78      0.76        18\n",
      "\n",
      "-------------------------------------------------------------------------------------------------------------------\n"
     ]
    },
    {
     "name": "stderr",
     "output_type": "stream",
     "text": [
      "[Parallel(n_jobs=-1)]: Using backend LokyBackend with 12 concurrent workers.\n",
      "[Parallel(n_jobs=-1)]: Done   3 out of   3 | elapsed:  2.2min finished\n"
     ]
    },
    {
     "name": "stdout",
     "output_type": "stream",
     "text": [
      "K-Fold #1\n",
      "Mean negativities for all classes: [0.23552469720463057, 0.1862231250783976, 0.20813980712488075]\n",
      "Mean entropies for all classes: [5.9059181196820605e-15, 6.0419133492696645e-15, 5.384013283623871e-15]\n",
      "              precision    recall  f1-score   support\n",
      "\n",
      "           0       0.57      0.67      0.62         6\n",
      "           1       0.83      0.71      0.77         7\n",
      "           2       0.40      0.40      0.40         5\n",
      "\n",
      "    accuracy                           0.61        18\n",
      "   macro avg       0.60      0.59      0.59        18\n",
      "weighted avg       0.63      0.61      0.62        18\n",
      "\n",
      "-------------------------------------------------------------------------------------------------------------------\n"
     ]
    },
    {
     "name": "stderr",
     "output_type": "stream",
     "text": [
      "[Parallel(n_jobs=-1)]: Using backend LokyBackend with 12 concurrent workers.\n",
      "[Parallel(n_jobs=-1)]: Done   3 out of   3 | elapsed:  2.2min finished\n"
     ]
    },
    {
     "name": "stdout",
     "output_type": "stream",
     "text": [
      "K-Fold #2\n",
      "Mean negativities for all classes: [0.23160941057038759, 0.1874340307406015, 0.21072335127891603]\n",
      "Mean entropies for all classes: [6.1691167153766986e-15, 6.153267472377446e-15, 6.294423445863938e-15]\n",
      "              precision    recall  f1-score   support\n",
      "\n",
      "           0       0.75      1.00      0.86         6\n",
      "           1       0.62      0.71      0.67         7\n",
      "           2       1.00      0.40      0.57         5\n",
      "\n",
      "    accuracy                           0.72        18\n",
      "   macro avg       0.79      0.70      0.70        18\n",
      "weighted avg       0.77      0.72      0.70        18\n",
      "\n",
      "-------------------------------------------------------------------------------------------------------------------\n"
     ]
    },
    {
     "name": "stderr",
     "output_type": "stream",
     "text": [
      "[Parallel(n_jobs=-1)]: Using backend LokyBackend with 12 concurrent workers.\n",
      "[Parallel(n_jobs=-1)]: Done   3 out of   3 | elapsed:  2.2min finished\n"
     ]
    },
    {
     "name": "stdout",
     "output_type": "stream",
     "text": [
      "K-Fold #3\n",
      "Mean negativities for all classes: [0.2297141967683983, 0.18871309708078624, 0.20876200258398223]\n",
      "Mean entropies for all classes: [5.873543123633084e-15, 5.9123799909872855e-15, 5.9414542012102684e-15]\n",
      "              precision    recall  f1-score   support\n",
      "\n",
      "           0       0.55      1.00      0.71         6\n",
      "           1       0.80      0.57      0.67         7\n",
      "           2       0.50      0.20      0.29         5\n",
      "\n",
      "    accuracy                           0.61        18\n",
      "   macro avg       0.62      0.59      0.55        18\n",
      "weighted avg       0.63      0.61      0.57        18\n",
      "\n",
      "-------------------------------------------------------------------------------------------------------------------\n"
     ]
    },
    {
     "name": "stderr",
     "output_type": "stream",
     "text": [
      "[Parallel(n_jobs=-1)]: Using backend LokyBackend with 12 concurrent workers.\n",
      "[Parallel(n_jobs=-1)]: Done   3 out of   3 | elapsed:  2.2min finished\n"
     ]
    },
    {
     "name": "stdout",
     "output_type": "stream",
     "text": [
      "K-Fold #4\n",
      "Mean negativities for all classes: [0.2327782435153023, 0.1889279835101497, 0.21038943168699772]\n",
      "Mean entropies for all classes: [5.930449914532365e-15, 5.769149172610691e-15, 6.245759478945054e-15]\n",
      "              precision    recall  f1-score   support\n",
      "\n",
      "           0       1.00      1.00      1.00         6\n",
      "           1       0.80      0.57      0.67         7\n",
      "           2       0.57      0.80      0.67         5\n",
      "\n",
      "    accuracy                           0.78        18\n",
      "   macro avg       0.79      0.79      0.78        18\n",
      "weighted avg       0.80      0.78      0.78        18\n",
      "\n",
      "-------------------------------------------------------------------------------------------------------------------\n"
     ]
    },
    {
     "name": "stderr",
     "output_type": "stream",
     "text": [
      "[Parallel(n_jobs=-1)]: Using backend LokyBackend with 12 concurrent workers.\n",
      "[Parallel(n_jobs=-1)]: Done   3 out of   3 | elapsed:  2.2min finished\n"
     ]
    },
    {
     "name": "stdout",
     "output_type": "stream",
     "text": [
      "K-Fold #5\n",
      "Mean negativities for all classes: [0.23001344482071173, 0.18701091922615812, 0.20830742242694303]\n",
      "Mean entropies for all classes: [6.309071504182562e-15, 5.805626812441052e-15, 5.5125737456495485e-15]\n",
      "              precision    recall  f1-score   support\n",
      "\n",
      "           0       0.75      1.00      0.86         6\n",
      "           1       0.57      0.57      0.57         7\n",
      "           2       0.33      0.20      0.25         5\n",
      "\n",
      "    accuracy                           0.61        18\n",
      "   macro avg       0.55      0.59      0.56        18\n",
      "weighted avg       0.56      0.61      0.58        18\n",
      "\n",
      "-------------------------------------------------------------------------------------------------------------------\n"
     ]
    },
    {
     "name": "stderr",
     "output_type": "stream",
     "text": [
      "[Parallel(n_jobs=-1)]: Using backend LokyBackend with 12 concurrent workers.\n",
      "[Parallel(n_jobs=-1)]: Done   3 out of   3 | elapsed:  2.2min finished\n"
     ]
    },
    {
     "name": "stdout",
     "output_type": "stream",
     "text": [
      "K-Fold #6\n",
      "Mean negativities for all classes: [0.2281179472217014, 0.18690553486695283, 0.20960748271351756]\n",
      "Mean entropies for all classes: [5.2900071373629814e-15, 5.6225086372879335e-15, 5.870281931190346e-15]\n",
      "              precision    recall  f1-score   support\n",
      "\n",
      "           0       0.60      1.00      0.75         6\n",
      "           1       0.67      0.57      0.62         7\n",
      "           2       0.50      0.20      0.29         5\n",
      "\n",
      "    accuracy                           0.61        18\n",
      "   macro avg       0.59      0.59      0.55        18\n",
      "weighted avg       0.60      0.61      0.57        18\n",
      "\n",
      "-------------------------------------------------------------------------------------------------------------------\n"
     ]
    },
    {
     "name": "stderr",
     "output_type": "stream",
     "text": [
      "[Parallel(n_jobs=-1)]: Using backend LokyBackend with 12 concurrent workers.\n",
      "[Parallel(n_jobs=-1)]: Done   3 out of   3 | elapsed:  2.2min finished\n"
     ]
    },
    {
     "name": "stdout",
     "output_type": "stream",
     "text": [
      "K-Fold #7\n",
      "Mean negativities for all classes: [0.2315214175543627, 0.18751201340015775, 0.20754409629575443]\n",
      "Mean entropies for all classes: [5.931579582046572e-15, 6.025249480060289e-15, 6.1368893319473816e-15]\n",
      "              precision    recall  f1-score   support\n",
      "\n",
      "           0       0.62      0.83      0.71         6\n",
      "           1       0.67      0.29      0.40         7\n",
      "           2       0.29      0.40      0.33         5\n",
      "\n",
      "    accuracy                           0.50        18\n",
      "   macro avg       0.53      0.51      0.48        18\n",
      "weighted avg       0.55      0.50      0.49        18\n",
      "\n",
      "-------------------------------------------------------------------------------------------------------------------\n"
     ]
    },
    {
     "name": "stderr",
     "output_type": "stream",
     "text": [
      "[Parallel(n_jobs=-1)]: Using backend LokyBackend with 12 concurrent workers.\n",
      "[Parallel(n_jobs=-1)]: Done   3 out of   3 | elapsed:  2.2min finished\n"
     ]
    },
    {
     "name": "stdout",
     "output_type": "stream",
     "text": [
      "K-Fold #8\n",
      "Mean negativities for all classes: [0.23205901197706758, 0.1928211915565061, 0.21000729900193107]\n",
      "Mean entropies for all classes: [5.960733350565258e-15, 5.746360364530066e-15, 5.712498620258015e-15]\n",
      "              precision    recall  f1-score   support\n",
      "\n",
      "           0       0.83      0.83      0.83         6\n",
      "           1       0.67      0.57      0.62         7\n",
      "           2       0.40      0.50      0.44         4\n",
      "\n",
      "    accuracy                           0.65        17\n",
      "   macro avg       0.63      0.63      0.63        17\n",
      "weighted avg       0.66      0.65      0.65        17\n",
      "\n",
      "-------------------------------------------------------------------------------------------------------------------\n"
     ]
    },
    {
     "name": "stderr",
     "output_type": "stream",
     "text": [
      "[Parallel(n_jobs=-1)]: Using backend LokyBackend with 12 concurrent workers.\n",
      "[Parallel(n_jobs=-1)]: Done   3 out of   3 | elapsed:  2.2min finished\n"
     ]
    },
    {
     "name": "stdout",
     "output_type": "stream",
     "text": [
      "K-Fold #9\n",
      "Mean negativities for all classes: [0.2358401990490177, 0.1875217776698912, 0.21003325463723346]\n",
      "Mean entropies for all classes: [5.979532531677917e-15, 5.823171940837934e-15, 6.379208990723291e-15]\n",
      "              precision    recall  f1-score   support\n",
      "\n",
      "           0       0.50      0.60      0.55         5\n",
      "           1       0.71      0.62      0.67         8\n",
      "           2       0.25      0.25      0.25         4\n",
      "\n",
      "    accuracy                           0.53        17\n",
      "   macro avg       0.49      0.49      0.49        17\n",
      "weighted avg       0.54      0.53      0.53        17\n",
      "\n",
      "-------------------------------------------------------------------------------------------------------------------\n",
      "AVG: Scores = 0.6398692810457517 F1-Scores = 0.6072769605122545 Negativity = [0.20938078007970354, 0.20996254313596965, 0.20992226419663504] Entropy = [5.889718379546989e-15, 5.777281584191866e-15, 6.2056025445393605e-15]\n"
     ]
    },
    {
     "name": "stderr",
     "output_type": "stream",
     "text": [
      "[Parallel(n_jobs=-1)]: Using backend LokyBackend with 12 concurrent workers.\n",
      "[Parallel(n_jobs=-1)]: Done   3 out of   3 | elapsed:  2.2min finished\n"
     ]
    },
    {
     "name": "stdout",
     "output_type": "stream",
     "text": [
      "K-Fold #0\n",
      "Mean negativities for all classes: [0.2293486634463496, 0.1875302095839686, 0.20755646155748794]\n",
      "Mean entropies for all classes: [5.854545154963182e-15, 6.095634615753796e-15, 5.68092284105931e-15]\n",
      "              precision    recall  f1-score   support\n",
      "\n",
      "           0       0.60      1.00      0.75         6\n",
      "           1       0.60      0.43      0.50         7\n",
      "           2       0.33      0.20      0.25         5\n",
      "\n",
      "    accuracy                           0.56        18\n",
      "   macro avg       0.51      0.54      0.50        18\n",
      "weighted avg       0.53      0.56      0.51        18\n",
      "\n",
      "-------------------------------------------------------------------------------------------------------------------\n"
     ]
    },
    {
     "name": "stderr",
     "output_type": "stream",
     "text": [
      "[Parallel(n_jobs=-1)]: Using backend LokyBackend with 12 concurrent workers.\n",
      "[Parallel(n_jobs=-1)]: Done   3 out of   3 | elapsed:  2.2min finished\n"
     ]
    },
    {
     "name": "stdout",
     "output_type": "stream",
     "text": [
      "K-Fold #1\n",
      "Mean negativities for all classes: [0.2333968261712663, 0.1891664176672957, 0.21179650702609576]\n",
      "Mean entropies for all classes: [5.437001220751738e-15, 5.510813447807767e-15, 5.945528457797474e-15]\n",
      "              precision    recall  f1-score   support\n",
      "\n",
      "           0       0.71      0.83      0.77         6\n",
      "           1       0.83      0.71      0.77         7\n",
      "           2       0.60      0.60      0.60         5\n",
      "\n",
      "    accuracy                           0.72        18\n",
      "   macro avg       0.72      0.72      0.71        18\n",
      "weighted avg       0.73      0.72      0.72        18\n",
      "\n",
      "-------------------------------------------------------------------------------------------------------------------\n"
     ]
    },
    {
     "name": "stderr",
     "output_type": "stream",
     "text": [
      "[Parallel(n_jobs=-1)]: Using backend LokyBackend with 12 concurrent workers.\n",
      "[Parallel(n_jobs=-1)]: Done   3 out of   3 | elapsed:  2.2min finished\n"
     ]
    },
    {
     "name": "stdout",
     "output_type": "stream",
     "text": [
      "K-Fold #2\n",
      "Mean negativities for all classes: [0.23120135621327742, 0.20062353961090396, 0.2080757523903326]\n",
      "Mean entropies for all classes: [5.716382952639276e-15, 5.645446946394263e-15, 5.8599251939056904e-15]\n",
      "              precision    recall  f1-score   support\n",
      "\n",
      "           0       0.62      0.83      0.71         6\n",
      "           1       1.00      0.71      0.83         7\n",
      "           2       0.40      0.40      0.40         5\n",
      "\n",
      "    accuracy                           0.67        18\n",
      "   macro avg       0.67      0.65      0.65        18\n",
      "weighted avg       0.71      0.67      0.67        18\n",
      "\n",
      "-------------------------------------------------------------------------------------------------------------------\n"
     ]
    },
    {
     "name": "stderr",
     "output_type": "stream",
     "text": [
      "[Parallel(n_jobs=-1)]: Using backend LokyBackend with 12 concurrent workers.\n",
      "[Parallel(n_jobs=-1)]: Done   3 out of   3 | elapsed:  2.2min finished\n"
     ]
    },
    {
     "name": "stdout",
     "output_type": "stream",
     "text": [
      "K-Fold #3\n",
      "Mean negativities for all classes: [0.22702988999037224, 0.18749254870602403, 0.20729704564216944]\n",
      "Mean entropies for all classes: [6.03638366728415e-15, 5.74621766047376e-15, 6.141397812460155e-15]\n",
      "              precision    recall  f1-score   support\n",
      "\n",
      "           0       0.56      0.83      0.67         6\n",
      "           1       0.75      0.43      0.55         7\n",
      "           2       0.20      0.20      0.20         5\n",
      "\n",
      "    accuracy                           0.50        18\n",
      "   macro avg       0.50      0.49      0.47        18\n",
      "weighted avg       0.53      0.50      0.49        18\n",
      "\n",
      "-------------------------------------------------------------------------------------------------------------------\n"
     ]
    },
    {
     "name": "stderr",
     "output_type": "stream",
     "text": [
      "[Parallel(n_jobs=-1)]: Using backend LokyBackend with 12 concurrent workers.\n",
      "[Parallel(n_jobs=-1)]: Done   3 out of   3 | elapsed:  2.2min finished\n"
     ]
    },
    {
     "name": "stdout",
     "output_type": "stream",
     "text": [
      "K-Fold #4\n",
      "Mean negativities for all classes: [0.23319307050388108, 0.18720815089400375, 0.2110561438031298]\n",
      "Mean entropies for all classes: [5.826387971536448e-15, 6.0046876358646166e-15, 5.578837958780727e-15]\n",
      "              precision    recall  f1-score   support\n",
      "\n",
      "           0       0.71      0.83      0.77         6\n",
      "           1       0.71      0.71      0.71         7\n",
      "           2       0.50      0.40      0.44         5\n",
      "\n",
      "    accuracy                           0.67        18\n",
      "   macro avg       0.64      0.65      0.64        18\n",
      "weighted avg       0.65      0.67      0.66        18\n",
      "\n",
      "-------------------------------------------------------------------------------------------------------------------\n"
     ]
    },
    {
     "name": "stderr",
     "output_type": "stream",
     "text": [
      "[Parallel(n_jobs=-1)]: Using backend LokyBackend with 12 concurrent workers.\n",
      "[Parallel(n_jobs=-1)]: Done   3 out of   3 | elapsed:  2.2min finished\n"
     ]
    },
    {
     "name": "stdout",
     "output_type": "stream",
     "text": [
      "K-Fold #5\n",
      "Mean negativities for all classes: [0.2302552697826853, 0.1866895920690266, 0.20885319352025938]\n",
      "Mean entropies for all classes: [5.4797876069511815e-15, 5.515225700746777e-15, 6.070432583330263e-15]\n",
      "              precision    recall  f1-score   support\n",
      "\n",
      "           0       0.50      0.83      0.62         6\n",
      "           1       0.50      0.57      0.53         7\n",
      "           2       0.00      0.00      0.00         5\n",
      "\n",
      "    accuracy                           0.50        18\n",
      "   macro avg       0.33      0.47      0.39        18\n",
      "weighted avg       0.36      0.50      0.42        18\n",
      "\n",
      "-------------------------------------------------------------------------------------------------------------------\n"
     ]
    },
    {
     "name": "stderr",
     "output_type": "stream",
     "text": [
      "c:\\ProgramData\\Anaconda3\\lib\\site-packages\\sklearn\\metrics\\_classification.py:1344: UndefinedMetricWarning: Precision and F-score are ill-defined and being set to 0.0 in labels with no predicted samples. Use `zero_division` parameter to control this behavior.\n",
      "  _warn_prf(average, modifier, msg_start, len(result))\n",
      "c:\\ProgramData\\Anaconda3\\lib\\site-packages\\sklearn\\metrics\\_classification.py:1344: UndefinedMetricWarning: Precision and F-score are ill-defined and being set to 0.0 in labels with no predicted samples. Use `zero_division` parameter to control this behavior.\n",
      "  _warn_prf(average, modifier, msg_start, len(result))\n",
      "c:\\ProgramData\\Anaconda3\\lib\\site-packages\\sklearn\\metrics\\_classification.py:1344: UndefinedMetricWarning: Precision and F-score are ill-defined and being set to 0.0 in labels with no predicted samples. Use `zero_division` parameter to control this behavior.\n",
      "  _warn_prf(average, modifier, msg_start, len(result))\n",
      "[Parallel(n_jobs=-1)]: Using backend LokyBackend with 12 concurrent workers.\n",
      "[Parallel(n_jobs=-1)]: Done   3 out of   3 | elapsed:  2.2min finished\n"
     ]
    },
    {
     "name": "stdout",
     "output_type": "stream",
     "text": [
      "K-Fold #6\n",
      "Mean negativities for all classes: [0.2290173979562643, 0.18633607223217966, 0.20865864692503136]\n",
      "Mean entropies for all classes: [6.083776158301427e-15, 5.747762670587221e-15, 5.761867115746279e-15]\n",
      "              precision    recall  f1-score   support\n",
      "\n",
      "           0       0.67      1.00      0.80         6\n",
      "           1       0.67      0.86      0.75         7\n",
      "           2       0.00      0.00      0.00         5\n",
      "\n",
      "    accuracy                           0.67        18\n",
      "   macro avg       0.44      0.62      0.52        18\n",
      "weighted avg       0.48      0.67      0.56        18\n",
      "\n",
      "-------------------------------------------------------------------------------------------------------------------\n"
     ]
    },
    {
     "name": "stderr",
     "output_type": "stream",
     "text": [
      "c:\\ProgramData\\Anaconda3\\lib\\site-packages\\sklearn\\metrics\\_classification.py:1344: UndefinedMetricWarning: Precision and F-score are ill-defined and being set to 0.0 in labels with no predicted samples. Use `zero_division` parameter to control this behavior.\n",
      "  _warn_prf(average, modifier, msg_start, len(result))\n",
      "c:\\ProgramData\\Anaconda3\\lib\\site-packages\\sklearn\\metrics\\_classification.py:1344: UndefinedMetricWarning: Precision and F-score are ill-defined and being set to 0.0 in labels with no predicted samples. Use `zero_division` parameter to control this behavior.\n",
      "  _warn_prf(average, modifier, msg_start, len(result))\n",
      "c:\\ProgramData\\Anaconda3\\lib\\site-packages\\sklearn\\metrics\\_classification.py:1344: UndefinedMetricWarning: Precision and F-score are ill-defined and being set to 0.0 in labels with no predicted samples. Use `zero_division` parameter to control this behavior.\n",
      "  _warn_prf(average, modifier, msg_start, len(result))\n",
      "[Parallel(n_jobs=-1)]: Using backend LokyBackend with 12 concurrent workers.\n",
      "[Parallel(n_jobs=-1)]: Done   3 out of   3 | elapsed:  2.2min finished\n"
     ]
    },
    {
     "name": "stdout",
     "output_type": "stream",
     "text": [
      "K-Fold #7\n",
      "Mean negativities for all classes: [0.23391631332557708, 0.18731381802637775, 0.20828461539795173]\n",
      "Mean entropies for all classes: [5.863722617778749e-15, 5.586272922433249e-15, 5.771336249608548e-15]\n",
      "              precision    recall  f1-score   support\n",
      "\n",
      "           0       0.71      0.83      0.77         6\n",
      "           1       0.67      0.29      0.40         7\n",
      "           2       0.38      0.60      0.46         5\n",
      "\n",
      "    accuracy                           0.56        18\n",
      "   macro avg       0.59      0.57      0.54        18\n",
      "weighted avg       0.60      0.56      0.54        18\n",
      "\n",
      "-------------------------------------------------------------------------------------------------------------------\n"
     ]
    },
    {
     "name": "stderr",
     "output_type": "stream",
     "text": [
      "[Parallel(n_jobs=-1)]: Using backend LokyBackend with 12 concurrent workers.\n",
      "[Parallel(n_jobs=-1)]: Done   3 out of   3 | elapsed:  2.2min finished\n"
     ]
    },
    {
     "name": "stdout",
     "output_type": "stream",
     "text": [
      "K-Fold #8\n",
      "Mean negativities for all classes: [0.23058009540220523, 0.1889549904794225, 0.20836413951119367]\n",
      "Mean entropies for all classes: [5.799500832964132e-15, 6.029545089869911e-15, 6.571259786108897e-15]\n",
      "              precision    recall  f1-score   support\n",
      "\n",
      "           0       1.00      1.00      1.00         6\n",
      "           1       0.75      0.43      0.55         7\n",
      "           2       0.43      0.75      0.55         4\n",
      "\n",
      "    accuracy                           0.71        17\n",
      "   macro avg       0.73      0.73      0.70        17\n",
      "weighted avg       0.76      0.71      0.71        17\n",
      "\n",
      "-------------------------------------------------------------------------------------------------------------------\n"
     ]
    },
    {
     "name": "stderr",
     "output_type": "stream",
     "text": [
      "[Parallel(n_jobs=-1)]: Using backend LokyBackend with 12 concurrent workers.\n",
      "[Parallel(n_jobs=-1)]: Done   3 out of   3 | elapsed:  2.2min finished\n"
     ]
    },
    {
     "name": "stdout",
     "output_type": "stream",
     "text": [
      "K-Fold #9\n",
      "Mean negativities for all classes: [0.24010320558250953, 0.18833829068958952, 0.21264430929487954]\n",
      "Mean entropies for all classes: [5.5583749327544076e-15, 6.45565321826539e-15, 6.0000831179571095e-15]\n",
      "              precision    recall  f1-score   support\n",
      "\n",
      "           0       0.80      0.80      0.80         5\n",
      "           1       1.00      0.62      0.77         8\n",
      "           2       0.57      1.00      0.73         4\n",
      "\n",
      "    accuracy                           0.76        17\n",
      "   macro avg       0.79      0.81      0.77        17\n",
      "weighted avg       0.84      0.76      0.77        17\n",
      "\n",
      "-------------------------------------------------------------------------------------------------------------------\n",
      "AVG: Scores = 0.6303921568627451 F1-Scores = 0.5884225959225959 Negativity = [0.20814511152926873, 0.21145325028821926, 0.21330021607150465] Entropy = [5.8770342039254295e-15, 5.631114375452327e-15, 5.740585030979743e-15]\n"
     ]
    },
    {
     "name": "stderr",
     "output_type": "stream",
     "text": [
      "[Parallel(n_jobs=-1)]: Using backend LokyBackend with 12 concurrent workers.\n",
      "[Parallel(n_jobs=-1)]: Done   3 out of   3 | elapsed:  2.2min finished\n"
     ]
    },
    {
     "name": "stdout",
     "output_type": "stream",
     "text": [
      "K-Fold #0\n",
      "Mean negativities for all classes: [0.2325075378589567, 0.18917673437188867, 0.20904679781741348]\n",
      "Mean entropies for all classes: [6.04991072111336e-15, 6.255520806235078e-15, 5.4968988782759524e-15]\n",
      "              precision    recall  f1-score   support\n",
      "\n",
      "           0       0.56      0.83      0.67         6\n",
      "           1       1.00      0.57      0.73         7\n",
      "           2       0.80      0.80      0.80         5\n",
      "\n",
      "    accuracy                           0.72        18\n",
      "   macro avg       0.79      0.73      0.73        18\n",
      "weighted avg       0.80      0.72      0.73        18\n",
      "\n",
      "-------------------------------------------------------------------------------------------------------------------\n"
     ]
    },
    {
     "name": "stderr",
     "output_type": "stream",
     "text": [
      "[Parallel(n_jobs=-1)]: Using backend LokyBackend with 12 concurrent workers.\n",
      "[Parallel(n_jobs=-1)]: Done   3 out of   3 | elapsed:  2.2min finished\n"
     ]
    },
    {
     "name": "stdout",
     "output_type": "stream",
     "text": [
      "K-Fold #1\n",
      "Mean negativities for all classes: [0.23220691515785136, 0.18764450261144133, 0.20940003144945657]\n",
      "Mean entropies for all classes: [5.848962818486552e-15, 5.775436108803874e-15, 6.2626720008712015e-15]\n",
      "              precision    recall  f1-score   support\n",
      "\n",
      "           0       0.71      0.83      0.77         6\n",
      "           1       0.80      0.57      0.67         7\n",
      "           2       0.50      0.60      0.55         5\n",
      "\n",
      "    accuracy                           0.67        18\n",
      "   macro avg       0.67      0.67      0.66        18\n",
      "weighted avg       0.69      0.67      0.67        18\n",
      "\n",
      "-------------------------------------------------------------------------------------------------------------------\n"
     ]
    },
    {
     "name": "stderr",
     "output_type": "stream",
     "text": [
      "[Parallel(n_jobs=-1)]: Using backend LokyBackend with 12 concurrent workers.\n",
      "[Parallel(n_jobs=-1)]: Done   3 out of   3 | elapsed:  2.2min finished\n"
     ]
    },
    {
     "name": "stdout",
     "output_type": "stream",
     "text": [
      "K-Fold #2\n",
      "Mean negativities for all classes: [0.22808708538715644, 0.19269114387656883, 0.20719980894888687]\n",
      "Mean entropies for all classes: [6.036449248088613e-15, 5.837104302189324e-15, 5.827905829774142e-15]\n",
      "              precision    recall  f1-score   support\n",
      "\n",
      "           0       0.60      1.00      0.75         6\n",
      "           1       1.00      0.57      0.73         7\n",
      "           2       0.75      0.60      0.67         5\n",
      "\n",
      "    accuracy                           0.72        18\n",
      "   macro avg       0.78      0.72      0.71        18\n",
      "weighted avg       0.80      0.72      0.72        18\n",
      "\n",
      "-------------------------------------------------------------------------------------------------------------------\n"
     ]
    },
    {
     "name": "stderr",
     "output_type": "stream",
     "text": [
      "[Parallel(n_jobs=-1)]: Using backend LokyBackend with 12 concurrent workers.\n",
      "[Parallel(n_jobs=-1)]: Done   3 out of   3 | elapsed:  2.2min finished\n"
     ]
    },
    {
     "name": "stdout",
     "output_type": "stream",
     "text": [
      "K-Fold #3\n",
      "Mean negativities for all classes: [0.23657059626222882, 0.19439257674824809, 0.21033499810393605]\n",
      "Mean entropies for all classes: [6.001173237743436e-15, 5.88282000769257e-15, 6.362828872425185e-15]\n",
      "              precision    recall  f1-score   support\n",
      "\n",
      "           0       1.00      0.83      0.91         6\n",
      "           1       0.62      0.71      0.67         7\n",
      "           2       0.40      0.40      0.40         5\n",
      "\n",
      "    accuracy                           0.67        18\n",
      "   macro avg       0.67      0.65      0.66        18\n",
      "weighted avg       0.69      0.67      0.67        18\n",
      "\n",
      "-------------------------------------------------------------------------------------------------------------------\n"
     ]
    },
    {
     "name": "stderr",
     "output_type": "stream",
     "text": [
      "[Parallel(n_jobs=-1)]: Using backend LokyBackend with 12 concurrent workers.\n",
      "[Parallel(n_jobs=-1)]: Done   3 out of   3 | elapsed:  2.2min finished\n"
     ]
    },
    {
     "name": "stdout",
     "output_type": "stream",
     "text": [
      "K-Fold #4\n",
      "Mean negativities for all classes: [0.2303275934094694, 0.18652470978270405, 0.20857437790184033]\n",
      "Mean entropies for all classes: [6.44932816082644e-15, 5.7316318773914855e-15, 5.870234849149877e-15]\n",
      "              precision    recall  f1-score   support\n",
      "\n",
      "           0       0.60      1.00      0.75         6\n",
      "           1       0.75      0.86      0.80         7\n",
      "           2       0.00      0.00      0.00         5\n",
      "\n",
      "    accuracy                           0.67        18\n",
      "   macro avg       0.45      0.62      0.52        18\n",
      "weighted avg       0.49      0.67      0.56        18\n",
      "\n",
      "-------------------------------------------------------------------------------------------------------------------\n"
     ]
    },
    {
     "name": "stderr",
     "output_type": "stream",
     "text": [
      "c:\\ProgramData\\Anaconda3\\lib\\site-packages\\sklearn\\metrics\\_classification.py:1344: UndefinedMetricWarning: Precision and F-score are ill-defined and being set to 0.0 in labels with no predicted samples. Use `zero_division` parameter to control this behavior.\n",
      "  _warn_prf(average, modifier, msg_start, len(result))\n",
      "c:\\ProgramData\\Anaconda3\\lib\\site-packages\\sklearn\\metrics\\_classification.py:1344: UndefinedMetricWarning: Precision and F-score are ill-defined and being set to 0.0 in labels with no predicted samples. Use `zero_division` parameter to control this behavior.\n",
      "  _warn_prf(average, modifier, msg_start, len(result))\n",
      "c:\\ProgramData\\Anaconda3\\lib\\site-packages\\sklearn\\metrics\\_classification.py:1344: UndefinedMetricWarning: Precision and F-score are ill-defined and being set to 0.0 in labels with no predicted samples. Use `zero_division` parameter to control this behavior.\n",
      "  _warn_prf(average, modifier, msg_start, len(result))\n",
      "[Parallel(n_jobs=-1)]: Using backend LokyBackend with 12 concurrent workers.\n",
      "[Parallel(n_jobs=-1)]: Done   3 out of   3 | elapsed:  2.2min finished\n"
     ]
    },
    {
     "name": "stdout",
     "output_type": "stream",
     "text": [
      "K-Fold #5\n",
      "Mean negativities for all classes: [0.23070805806919015, 0.18682136784276301, 0.2083242995642798]\n",
      "Mean entropies for all classes: [5.85470070733269e-15, 5.806240956058133e-15, 6.133585387887047e-15]\n",
      "              precision    recall  f1-score   support\n",
      "\n",
      "           0       0.75      1.00      0.86         6\n",
      "           1       0.57      0.57      0.57         7\n",
      "           2       0.33      0.20      0.25         5\n",
      "\n",
      "    accuracy                           0.61        18\n",
      "   macro avg       0.55      0.59      0.56        18\n",
      "weighted avg       0.56      0.61      0.58        18\n",
      "\n",
      "-------------------------------------------------------------------------------------------------------------------\n"
     ]
    },
    {
     "name": "stderr",
     "output_type": "stream",
     "text": [
      "[Parallel(n_jobs=-1)]: Using backend LokyBackend with 12 concurrent workers.\n",
      "[Parallel(n_jobs=-1)]: Done   3 out of   3 | elapsed:  2.2min finished\n"
     ]
    },
    {
     "name": "stdout",
     "output_type": "stream",
     "text": [
      "K-Fold #6\n",
      "Mean negativities for all classes: [0.23563777242737435, 0.18801446847512193, 0.2112116793961392]\n",
      "Mean entropies for all classes: [5.430028565861494e-15, 5.998002611110154e-15, 6.518425315376834e-15]\n",
      "              precision    recall  f1-score   support\n",
      "\n",
      "           0       0.50      0.67      0.57         6\n",
      "           1       1.00      0.57      0.73         7\n",
      "           2       0.33      0.40      0.36         5\n",
      "\n",
      "    accuracy                           0.56        18\n",
      "   macro avg       0.61      0.55      0.55        18\n",
      "weighted avg       0.65      0.56      0.57        18\n",
      "\n",
      "-------------------------------------------------------------------------------------------------------------------\n"
     ]
    },
    {
     "name": "stderr",
     "output_type": "stream",
     "text": [
      "[Parallel(n_jobs=-1)]: Using backend LokyBackend with 12 concurrent workers.\n",
      "[Parallel(n_jobs=-1)]: Done   3 out of   3 | elapsed:  2.2min finished\n"
     ]
    },
    {
     "name": "stdout",
     "output_type": "stream",
     "text": [
      "K-Fold #7\n",
      "Mean negativities for all classes: [0.23021661714281727, 0.19050723157299207, 0.20942203116197153]\n",
      "Mean entropies for all classes: [5.807841619579524e-15, 5.883392932701222e-15, 5.602288239251388e-15]\n",
      "              precision    recall  f1-score   support\n",
      "\n",
      "           0       0.62      0.83      0.71         6\n",
      "           1       0.57      0.57      0.57         7\n",
      "           2       0.00      0.00      0.00         5\n",
      "\n",
      "    accuracy                           0.50        18\n",
      "   macro avg       0.40      0.47      0.43        18\n",
      "weighted avg       0.43      0.50      0.46        18\n",
      "\n",
      "-------------------------------------------------------------------------------------------------------------------\n"
     ]
    },
    {
     "name": "stderr",
     "output_type": "stream",
     "text": [
      "[Parallel(n_jobs=-1)]: Using backend LokyBackend with 12 concurrent workers.\n",
      "[Parallel(n_jobs=-1)]: Done   3 out of   3 | elapsed:  2.2min finished\n"
     ]
    },
    {
     "name": "stdout",
     "output_type": "stream",
     "text": [
      "K-Fold #8\n",
      "Mean negativities for all classes: [0.2244711228951905, 0.20071067088277658, 0.20560537478890498]\n",
      "Mean entropies for all classes: [5.946391830368414e-15, 5.974441587424512e-15, 6.100400101568657e-15]\n",
      "              precision    recall  f1-score   support\n",
      "\n",
      "           0       0.55      1.00      0.71         6\n",
      "           1       1.00      0.29      0.44         7\n",
      "           2       0.25      0.25      0.25         4\n",
      "\n",
      "    accuracy                           0.53        17\n",
      "   macro avg       0.60      0.51      0.47        17\n",
      "weighted avg       0.66      0.53      0.49        17\n",
      "\n",
      "-------------------------------------------------------------------------------------------------------------------\n"
     ]
    },
    {
     "name": "stderr",
     "output_type": "stream",
     "text": [
      "[Parallel(n_jobs=-1)]: Using backend LokyBackend with 12 concurrent workers.\n",
      "[Parallel(n_jobs=-1)]: Done   3 out of   3 | elapsed:  2.2min finished\n"
     ]
    },
    {
     "name": "stdout",
     "output_type": "stream",
     "text": [
      "K-Fold #9\n",
      "Mean negativities for all classes: [0.23529883982579533, 0.1873176522439189, 0.21378473119957664]\n",
      "Mean entropies for all classes: [5.709043431796738e-15, 5.5456893536437995e-15, 5.6410728582870756e-15]\n",
      "              precision    recall  f1-score   support\n",
      "\n",
      "           0       1.00      0.80      0.89         5\n",
      "           1       0.44      0.50      0.47         8\n",
      "           2       0.00      0.00      0.00         4\n",
      "\n",
      "    accuracy                           0.47        17\n",
      "   macro avg       0.48      0.43      0.45        17\n",
      "weighted avg       0.50      0.47      0.48        17\n",
      "\n",
      "-------------------------------------------------------------------------------------------------------------------\n",
      "AVG: Scores = 0.611111111111111 F1-Scores = 0.5743805214393449 Negativity = [0.2102436900160863, 0.20975048307291644, 0.20932601273753737] Entropy = [5.9341101352081296e-15, 5.962356976053876e-15, 5.90048646001736e-15]\n"
     ]
    },
    {
     "name": "stderr",
     "output_type": "stream",
     "text": [
      "[Parallel(n_jobs=-1)]: Using backend LokyBackend with 12 concurrent workers.\n",
      "[Parallel(n_jobs=-1)]: Done   3 out of   3 | elapsed:  2.2min finished\n"
     ]
    },
    {
     "name": "stdout",
     "output_type": "stream",
     "text": [
      "K-Fold #0\n",
      "Mean negativities for all classes: [0.2323539611703329, 0.18795978358202048, 0.20951194513561422]\n",
      "Mean entropies for all classes: [5.701489943851769e-15, 5.972231085801221e-15, 5.814716714801932e-15]\n",
      "              precision    recall  f1-score   support\n",
      "\n",
      "           0       0.75      1.00      0.86         6\n",
      "           1       0.67      0.86      0.75         7\n",
      "           2       0.00      0.00      0.00         5\n",
      "\n",
      "    accuracy                           0.67        18\n",
      "   macro avg       0.47      0.62      0.54        18\n",
      "weighted avg       0.51      0.67      0.58        18\n",
      "\n",
      "-------------------------------------------------------------------------------------------------------------------\n"
     ]
    },
    {
     "name": "stderr",
     "output_type": "stream",
     "text": [
      "[Parallel(n_jobs=-1)]: Using backend LokyBackend with 12 concurrent workers.\n",
      "[Parallel(n_jobs=-1)]: Done   3 out of   3 | elapsed:  2.2min finished\n"
     ]
    },
    {
     "name": "stdout",
     "output_type": "stream",
     "text": [
      "K-Fold #1\n",
      "Mean negativities for all classes: [0.2336981338980455, 0.20144995972857688, 0.20985020458733722]\n",
      "Mean entropies for all classes: [5.9924475877699535e-15, 6.2518688670157074e-15, 5.78058323899214e-15]\n",
      "              precision    recall  f1-score   support\n",
      "\n",
      "           0       0.67      0.67      0.67         6\n",
      "           1       0.60      0.43      0.50         7\n",
      "           2       0.43      0.60      0.50         5\n",
      "\n",
      "    accuracy                           0.56        18\n",
      "   macro avg       0.57      0.57      0.56        18\n",
      "weighted avg       0.57      0.56      0.56        18\n",
      "\n",
      "-------------------------------------------------------------------------------------------------------------------\n"
     ]
    },
    {
     "name": "stderr",
     "output_type": "stream",
     "text": [
      "[Parallel(n_jobs=-1)]: Using backend LokyBackend with 12 concurrent workers.\n",
      "[Parallel(n_jobs=-1)]: Done   3 out of   3 | elapsed:  2.2min finished\n"
     ]
    },
    {
     "name": "stdout",
     "output_type": "stream",
     "text": [
      "K-Fold #2\n",
      "Mean negativities for all classes: [0.23096627377080747, 0.18695894267954427, 0.2094973562089485]\n",
      "Mean entropies for all classes: [6.23588743223131e-15, 5.596561917788678e-15, 5.804195266607745e-15]\n",
      "              precision    recall  f1-score   support\n",
      "\n",
      "           0       0.62      0.83      0.71         6\n",
      "           1       1.00      0.57      0.73         7\n",
      "           2       0.50      0.60      0.55         5\n",
      "\n",
      "    accuracy                           0.67        18\n",
      "   macro avg       0.71      0.67      0.66        18\n",
      "weighted avg       0.74      0.67      0.67        18\n",
      "\n",
      "-------------------------------------------------------------------------------------------------------------------\n"
     ]
    },
    {
     "name": "stderr",
     "output_type": "stream",
     "text": [
      "[Parallel(n_jobs=-1)]: Using backend LokyBackend with 12 concurrent workers.\n",
      "[Parallel(n_jobs=-1)]: Done   3 out of   3 | elapsed:  2.2min finished\n"
     ]
    },
    {
     "name": "stdout",
     "output_type": "stream",
     "text": [
      "K-Fold #3\n",
      "Mean negativities for all classes: [0.2339919180692658, 0.18790721958586604, 0.2098215718693051]\n",
      "Mean entropies for all classes: [5.476361935723727e-15, 6.295988664526476e-15, 5.422658910504709e-15]\n",
      "              precision    recall  f1-score   support\n",
      "\n",
      "           0       0.71      0.83      0.77         6\n",
      "           1       0.86      0.86      0.86         7\n",
      "           2       0.75      0.60      0.67         5\n",
      "\n",
      "    accuracy                           0.78        18\n",
      "   macro avg       0.77      0.76      0.76        18\n",
      "weighted avg       0.78      0.78      0.77        18\n",
      "\n",
      "-------------------------------------------------------------------------------------------------------------------\n"
     ]
    },
    {
     "name": "stderr",
     "output_type": "stream",
     "text": [
      "[Parallel(n_jobs=-1)]: Using backend LokyBackend with 12 concurrent workers.\n",
      "[Parallel(n_jobs=-1)]: Done   3 out of   3 | elapsed:  2.2min finished\n"
     ]
    },
    {
     "name": "stdout",
     "output_type": "stream",
     "text": [
      "K-Fold #4\n",
      "Mean negativities for all classes: [0.22894073771804915, 0.19062252691846823, 0.2078222326503407]\n",
      "Mean entropies for all classes: [5.831345195260208e-15, 5.726197984413564e-15, 6.045912932344614e-15]\n",
      "              precision    recall  f1-score   support\n",
      "\n",
      "           0       0.56      0.83      0.67         6\n",
      "           1       0.60      0.43      0.50         7\n",
      "           2       0.00      0.00      0.00         5\n",
      "\n",
      "    accuracy                           0.44        18\n",
      "   macro avg       0.39      0.42      0.39        18\n",
      "weighted avg       0.42      0.44      0.42        18\n",
      "\n",
      "-------------------------------------------------------------------------------------------------------------------\n"
     ]
    },
    {
     "name": "stderr",
     "output_type": "stream",
     "text": [
      "[Parallel(n_jobs=-1)]: Using backend LokyBackend with 12 concurrent workers.\n",
      "[Parallel(n_jobs=-1)]: Done   3 out of   3 | elapsed:  2.2min finished\n"
     ]
    },
    {
     "name": "stdout",
     "output_type": "stream",
     "text": [
      "K-Fold #5\n",
      "Mean negativities for all classes: [0.22588962502932153, 0.18915466424846247, 0.20653284853713016]\n",
      "Mean entropies for all classes: [5.6345790109796354e-15, 6.1689252789750235e-15, 5.939806789540425e-15]\n",
      "              precision    recall  f1-score   support\n",
      "\n",
      "           0       0.60      1.00      0.75         6\n",
      "           1       1.00      0.29      0.44         7\n",
      "           2       0.50      0.60      0.55         5\n",
      "\n",
      "    accuracy                           0.61        18\n",
      "   macro avg       0.70      0.63      0.58        18\n",
      "weighted avg       0.73      0.61      0.57        18\n",
      "\n",
      "-------------------------------------------------------------------------------------------------------------------\n"
     ]
    },
    {
     "name": "stderr",
     "output_type": "stream",
     "text": [
      "[Parallel(n_jobs=-1)]: Using backend LokyBackend with 12 concurrent workers.\n",
      "[Parallel(n_jobs=-1)]: Done   3 out of   3 | elapsed:  2.2min finished\n"
     ]
    },
    {
     "name": "stdout",
     "output_type": "stream",
     "text": [
      "K-Fold #6\n",
      "Mean negativities for all classes: [0.22960561408648392, 0.1878187073640134, 0.20851220811605195]\n",
      "Mean entropies for all classes: [6.0508054470177084e-15, 6.110470556487205e-15, 5.980792926538443e-15]\n",
      "              precision    recall  f1-score   support\n",
      "\n",
      "           0       0.60      1.00      0.75         6\n",
      "           1       0.83      0.71      0.77         7\n",
      "           2       0.50      0.20      0.29         5\n",
      "\n",
      "    accuracy                           0.67        18\n",
      "   macro avg       0.64      0.64      0.60        18\n",
      "weighted avg       0.66      0.67      0.63        18\n",
      "\n",
      "-------------------------------------------------------------------------------------------------------------------\n"
     ]
    },
    {
     "name": "stderr",
     "output_type": "stream",
     "text": [
      "[Parallel(n_jobs=-1)]: Using backend LokyBackend with 12 concurrent workers.\n",
      "[Parallel(n_jobs=-1)]: Done   3 out of   3 | elapsed:  2.2min finished\n"
     ]
    },
    {
     "name": "stdout",
     "output_type": "stream",
     "text": [
      "K-Fold #7\n",
      "Mean negativities for all classes: [0.23527797893523944, 0.1872679340664939, 0.21417707122178745]\n",
      "Mean entropies for all classes: [5.900352466240173e-15, 5.398916523666377e-15, 5.741620826298103e-15]\n",
      "              precision    recall  f1-score   support\n",
      "\n",
      "           0       0.62      0.83      0.71         6\n",
      "           1       0.56      0.71      0.63         7\n",
      "           2       0.00      0.00      0.00         5\n",
      "\n",
      "    accuracy                           0.56        18\n",
      "   macro avg       0.39      0.52      0.45        18\n",
      "weighted avg       0.42      0.56      0.48        18\n",
      "\n",
      "-------------------------------------------------------------------------------------------------------------------\n"
     ]
    },
    {
     "name": "stderr",
     "output_type": "stream",
     "text": [
      "[Parallel(n_jobs=-1)]: Using backend LokyBackend with 12 concurrent workers.\n",
      "[Parallel(n_jobs=-1)]: Done   3 out of   3 | elapsed:  2.1min finished\n"
     ]
    },
    {
     "name": "stdout",
     "output_type": "stream",
     "text": [
      "K-Fold #8\n",
      "Mean negativities for all classes: [0.22537921694228505, 0.18773110536225157, 0.20555797431515732]\n",
      "Mean entropies for all classes: [6.098914607308211e-15, 6.0657411457409735e-15, 5.807032927055348e-15]\n",
      "              precision    recall  f1-score   support\n",
      "\n",
      "           0       0.67      1.00      0.80         6\n",
      "           1       1.00      0.29      0.44         7\n",
      "           2       0.50      0.75      0.60         4\n",
      "\n",
      "    accuracy                           0.65        17\n",
      "   macro avg       0.72      0.68      0.61        17\n",
      "weighted avg       0.76      0.65      0.61        17\n",
      "\n",
      "-------------------------------------------------------------------------------------------------------------------\n"
     ]
    },
    {
     "name": "stderr",
     "output_type": "stream",
     "text": [
      "[Parallel(n_jobs=-1)]: Using backend LokyBackend with 12 concurrent workers.\n",
      "[Parallel(n_jobs=-1)]: Done   3 out of   3 | elapsed:  2.2min finished\n"
     ]
    },
    {
     "name": "stdout",
     "output_type": "stream",
     "text": [
      "K-Fold #9\n",
      "Mean negativities for all classes: [0.2385029813123258, 0.1879340012346016, 0.21269315886095916]\n",
      "Mean entropies for all classes: [6.1753220705681904e-15, 5.954176085033138e-15, 5.656306722404058e-15]\n",
      "              precision    recall  f1-score   support\n",
      "\n",
      "           0       0.80      0.80      0.80         5\n",
      "           1       0.67      0.75      0.71         8\n",
      "           2       0.33      0.25      0.29         4\n",
      "\n",
      "    accuracy                           0.65        17\n",
      "   macro avg       0.60      0.60      0.60        17\n",
      "weighted avg       0.63      0.65      0.63        17\n",
      "\n",
      "-------------------------------------------------------------------------------------------------------------------\n",
      "AVG: Scores = 0.6238562091503269 F1-Scores = 0.5746900104253045 Negativity = [0.20994189662932253, 0.21499943273798652, 0.20914085755310008] Entropy = [5.829479248151641e-15, 6.0082998979259335e-15, 5.8788815388759106e-15]\n"
     ]
    },
    {
     "name": "stderr",
     "output_type": "stream",
     "text": [
      "[Parallel(n_jobs=-1)]: Using backend LokyBackend with 12 concurrent workers.\n",
      "[Parallel(n_jobs=-1)]: Done   3 out of   3 | elapsed:  2.2min finished\n"
     ]
    },
    {
     "name": "stdout",
     "output_type": "stream",
     "text": [
      "K-Fold #0\n",
      "Mean negativities for all classes: [0.23419154366055636, 0.1883099441016861, 0.2094993197156022]\n",
      "Mean entropies for all classes: [5.956590236440041e-15, 5.260686372168904e-15, 5.783632716704916e-15]\n",
      "              precision    recall  f1-score   support\n",
      "\n",
      "           0       0.67      0.67      0.67         6\n",
      "           1       0.75      0.43      0.55         7\n",
      "           2       0.38      0.60      0.46         5\n",
      "\n",
      "    accuracy                           0.56        18\n",
      "   macro avg       0.60      0.57      0.56        18\n",
      "weighted avg       0.62      0.56      0.56        18\n",
      "\n",
      "-------------------------------------------------------------------------------------------------------------------\n"
     ]
    },
    {
     "name": "stderr",
     "output_type": "stream",
     "text": [
      "[Parallel(n_jobs=-1)]: Using backend LokyBackend with 12 concurrent workers.\n",
      "[Parallel(n_jobs=-1)]: Done   3 out of   3 | elapsed:  2.2min finished\n"
     ]
    },
    {
     "name": "stdout",
     "output_type": "stream",
     "text": [
      "K-Fold #1\n",
      "Mean negativities for all classes: [0.23107537294924108, 0.1871450912867381, 0.20658810970370964]\n",
      "Mean entropies for all classes: [6.045595658375016e-15, 6.3729005825553135e-15, 5.7003975142611234e-15]\n",
      "              precision    recall  f1-score   support\n",
      "\n",
      "           0       0.71      0.83      0.77         6\n",
      "           1       0.67      0.29      0.40         7\n",
      "           2       0.25      0.40      0.31         5\n",
      "\n",
      "    accuracy                           0.50        18\n",
      "   macro avg       0.54      0.51      0.49        18\n",
      "weighted avg       0.57      0.50      0.50        18\n",
      "\n",
      "-------------------------------------------------------------------------------------------------------------------\n"
     ]
    },
    {
     "name": "stderr",
     "output_type": "stream",
     "text": [
      "[Parallel(n_jobs=-1)]: Using backend LokyBackend with 12 concurrent workers.\n",
      "[Parallel(n_jobs=-1)]: Done   3 out of   3 | elapsed:  2.2min finished\n"
     ]
    },
    {
     "name": "stdout",
     "output_type": "stream",
     "text": [
      "K-Fold #2\n",
      "Mean negativities for all classes: [0.23180341404781993, 0.18828641525025405, 0.2086546106869265]\n",
      "Mean entropies for all classes: [6.160811666520454e-15, 5.7795325933576766e-15, 6.286369679544793e-15]\n",
      "              precision    recall  f1-score   support\n",
      "\n",
      "           0       0.75      1.00      0.86         6\n",
      "           1       0.71      0.71      0.71         7\n",
      "           2       0.33      0.20      0.25         5\n",
      "\n",
      "    accuracy                           0.67        18\n",
      "   macro avg       0.60      0.64      0.61        18\n",
      "weighted avg       0.62      0.67      0.63        18\n",
      "\n",
      "-------------------------------------------------------------------------------------------------------------------\n"
     ]
    },
    {
     "name": "stderr",
     "output_type": "stream",
     "text": [
      "[Parallel(n_jobs=-1)]: Using backend LokyBackend with 12 concurrent workers.\n",
      "[Parallel(n_jobs=-1)]: Done   3 out of   3 | elapsed:  2.2min finished\n"
     ]
    },
    {
     "name": "stdout",
     "output_type": "stream",
     "text": [
      "K-Fold #3\n",
      "Mean negativities for all classes: [0.23082904016937894, 0.18741617391392296, 0.20665164598633806]\n",
      "Mean entropies for all classes: [5.8100772160472464e-15, 6.507191008931593e-15, 6.039666533783928e-15]\n",
      "              precision    recall  f1-score   support\n",
      "\n",
      "           0       0.56      0.83      0.67         6\n",
      "           1       1.00      0.43      0.60         7\n",
      "           2       0.67      0.80      0.73         5\n",
      "\n",
      "    accuracy                           0.67        18\n",
      "   macro avg       0.74      0.69      0.66        18\n",
      "weighted avg       0.76      0.67      0.66        18\n",
      "\n",
      "-------------------------------------------------------------------------------------------------------------------\n"
     ]
    },
    {
     "name": "stderr",
     "output_type": "stream",
     "text": [
      "[Parallel(n_jobs=-1)]: Using backend LokyBackend with 12 concurrent workers.\n",
      "[Parallel(n_jobs=-1)]: Done   3 out of   3 | elapsed:  2.2min finished\n"
     ]
    },
    {
     "name": "stdout",
     "output_type": "stream",
     "text": [
      "K-Fold #4\n",
      "Mean negativities for all classes: [0.2376301927378862, 0.1884835483203418, 0.21431068125824046]\n",
      "Mean entropies for all classes: [5.547801818374921e-15, 5.7826816521202286e-15, 5.8783154927416155e-15]\n",
      "              precision    recall  f1-score   support\n",
      "\n",
      "           0       1.00      1.00      1.00         6\n",
      "           1       0.58      1.00      0.74         7\n",
      "           2       0.00      0.00      0.00         5\n",
      "\n",
      "    accuracy                           0.72        18\n",
      "   macro avg       0.53      0.67      0.58        18\n",
      "weighted avg       0.56      0.72      0.62        18\n",
      "\n",
      "-------------------------------------------------------------------------------------------------------------------\n"
     ]
    },
    {
     "name": "stderr",
     "output_type": "stream",
     "text": [
      "c:\\ProgramData\\Anaconda3\\lib\\site-packages\\sklearn\\metrics\\_classification.py:1344: UndefinedMetricWarning: Precision and F-score are ill-defined and being set to 0.0 in labels with no predicted samples. Use `zero_division` parameter to control this behavior.\n",
      "  _warn_prf(average, modifier, msg_start, len(result))\n",
      "c:\\ProgramData\\Anaconda3\\lib\\site-packages\\sklearn\\metrics\\_classification.py:1344: UndefinedMetricWarning: Precision and F-score are ill-defined and being set to 0.0 in labels with no predicted samples. Use `zero_division` parameter to control this behavior.\n",
      "  _warn_prf(average, modifier, msg_start, len(result))\n",
      "c:\\ProgramData\\Anaconda3\\lib\\site-packages\\sklearn\\metrics\\_classification.py:1344: UndefinedMetricWarning: Precision and F-score are ill-defined and being set to 0.0 in labels with no predicted samples. Use `zero_division` parameter to control this behavior.\n",
      "  _warn_prf(average, modifier, msg_start, len(result))\n",
      "[Parallel(n_jobs=-1)]: Using backend LokyBackend with 12 concurrent workers.\n",
      "[Parallel(n_jobs=-1)]: Done   3 out of   3 | elapsed:  2.2min finished\n"
     ]
    },
    {
     "name": "stdout",
     "output_type": "stream",
     "text": [
      "K-Fold #5\n",
      "Mean negativities for all classes: [0.2280147620167528, 0.18820950127959762, 0.20690135828123318]\n",
      "Mean entropies for all classes: [5.898426084926279e-15, 5.879789192095159e-15, 5.578345871567839e-15]\n",
      "              precision    recall  f1-score   support\n",
      "\n",
      "           0       0.62      0.83      0.71         6\n",
      "           1       1.00      0.43      0.60         7\n",
      "           2       0.43      0.60      0.50         5\n",
      "\n",
      "    accuracy                           0.61        18\n",
      "   macro avg       0.68      0.62      0.60        18\n",
      "weighted avg       0.72      0.61      0.61        18\n",
      "\n",
      "-------------------------------------------------------------------------------------------------------------------\n"
     ]
    },
    {
     "name": "stderr",
     "output_type": "stream",
     "text": [
      "[Parallel(n_jobs=-1)]: Using backend LokyBackend with 12 concurrent workers.\n",
      "[Parallel(n_jobs=-1)]: Done   3 out of   3 | elapsed:  2.2min finished\n"
     ]
    },
    {
     "name": "stdout",
     "output_type": "stream",
     "text": [
      "K-Fold #6\n",
      "Mean negativities for all classes: [0.23483886317831074, 0.18914898703259533, 0.2116851763583226]\n",
      "Mean entropies for all classes: [5.8188150275218844e-15, 6.237486753699619e-15, 5.7293460355029665e-15]\n",
      "              precision    recall  f1-score   support\n",
      "\n",
      "           0       0.62      0.83      0.71         6\n",
      "           1       0.75      0.86      0.80         7\n",
      "           2       0.00      0.00      0.00         5\n",
      "\n",
      "    accuracy                           0.61        18\n",
      "   macro avg       0.46      0.56      0.50        18\n",
      "weighted avg       0.50      0.61      0.55        18\n",
      "\n",
      "-------------------------------------------------------------------------------------------------------------------\n"
     ]
    },
    {
     "name": "stderr",
     "output_type": "stream",
     "text": [
      "[Parallel(n_jobs=-1)]: Using backend LokyBackend with 12 concurrent workers.\n",
      "[Parallel(n_jobs=-1)]: Done   3 out of   3 | elapsed:  2.2min finished\n"
     ]
    },
    {
     "name": "stdout",
     "output_type": "stream",
     "text": [
      "K-Fold #7\n",
      "Mean negativities for all classes: [0.23044239587698323, 0.18747572104541002, 0.20907100086446484]\n",
      "Mean entropies for all classes: [6.274936569821507e-15, 6.031449260072739e-15, 5.9300020800203875e-15]\n",
      "              precision    recall  f1-score   support\n",
      "\n",
      "           0       0.67      1.00      0.80         6\n",
      "           1       0.67      0.57      0.62         7\n",
      "           2       0.33      0.20      0.25         5\n",
      "\n",
      "    accuracy                           0.61        18\n",
      "   macro avg       0.56      0.59      0.56        18\n",
      "weighted avg       0.57      0.61      0.58        18\n",
      "\n",
      "-------------------------------------------------------------------------------------------------------------------\n"
     ]
    },
    {
     "name": "stderr",
     "output_type": "stream",
     "text": [
      "[Parallel(n_jobs=-1)]: Using backend LokyBackend with 12 concurrent workers.\n",
      "[Parallel(n_jobs=-1)]: Done   3 out of   3 | elapsed:  2.2min finished\n"
     ]
    },
    {
     "name": "stdout",
     "output_type": "stream",
     "text": [
      "K-Fold #8\n",
      "Mean negativities for all classes: [0.22902772802605045, 0.18711826447137114, 0.2096081599196256]\n",
      "Mean entropies for all classes: [5.590657136222231e-15, 5.637191414424257e-15, 6.060458344762523e-15]\n",
      "              precision    recall  f1-score   support\n",
      "\n",
      "           0       0.75      1.00      0.86         6\n",
      "           1       0.67      0.57      0.62         7\n",
      "           2       0.33      0.25      0.29         4\n",
      "\n",
      "    accuracy                           0.65        17\n",
      "   macro avg       0.58      0.61      0.59        17\n",
      "weighted avg       0.62      0.65      0.62        17\n",
      "\n",
      "-------------------------------------------------------------------------------------------------------------------\n"
     ]
    },
    {
     "name": "stderr",
     "output_type": "stream",
     "text": [
      "[Parallel(n_jobs=-1)]: Using backend LokyBackend with 12 concurrent workers.\n",
      "[Parallel(n_jobs=-1)]: Done   3 out of   3 | elapsed:  2.2min finished\n"
     ]
    },
    {
     "name": "stdout",
     "output_type": "stream",
     "text": [
      "K-Fold #9\n",
      "Mean negativities for all classes: [0.23159372144408336, 0.18784947078903522, 0.20778633525018458]\n",
      "Mean entropies for all classes: [5.5523829994446206e-15, 6.2348635818043464e-15, 6.403232386267381e-15]\n",
      "              precision    recall  f1-score   support\n",
      "\n",
      "           0       0.56      1.00      0.71         5\n",
      "           1       1.00      0.38      0.55         8\n",
      "           2       0.80      1.00      0.89         4\n",
      "\n",
      "    accuracy                           0.71        17\n",
      "   macro avg       0.79      0.79      0.72        17\n",
      "weighted avg       0.82      0.71      0.68        17\n",
      "\n",
      "-------------------------------------------------------------------------------------------------------------------\n",
      "AVG: Scores = 0.6297385620915034 F1-Scores = 0.5867873257346942 Negativity = [0.21066693582594823, 0.20826952464656293, 0.20958147999500018] Entropy = [5.666969775104621e-15, 6.039631251730484e-15, 6.075571313140974e-15]\n"
     ]
    },
    {
     "name": "stderr",
     "output_type": "stream",
     "text": [
      "[Parallel(n_jobs=-1)]: Using backend LokyBackend with 12 concurrent workers.\n",
      "[Parallel(n_jobs=-1)]: Done   3 out of   3 | elapsed:  2.2min finished\n"
     ]
    },
    {
     "name": "stdout",
     "output_type": "stream",
     "text": [
      "K-Fold #0\n",
      "Mean negativities for all classes: [0.2318219577540199, 0.1896903166232501, 0.2103145818505735]\n",
      "Mean entropies for all classes: [5.522313018515422e-15, 6.051862490350859e-15, 5.647470886159043e-15]\n",
      "              precision    recall  f1-score   support\n",
      "\n",
      "           0       0.86      1.00      0.92         6\n",
      "           1       0.71      0.71      0.71         7\n",
      "           2       0.50      0.40      0.44         5\n",
      "\n",
      "    accuracy                           0.72        18\n",
      "   macro avg       0.69      0.70      0.69        18\n",
      "weighted avg       0.70      0.72      0.71        18\n",
      "\n",
      "-------------------------------------------------------------------------------------------------------------------\n"
     ]
    },
    {
     "name": "stderr",
     "output_type": "stream",
     "text": [
      "[Parallel(n_jobs=-1)]: Using backend LokyBackend with 12 concurrent workers.\n",
      "[Parallel(n_jobs=-1)]: Done   3 out of   3 | elapsed:  2.3min finished\n"
     ]
    },
    {
     "name": "stdout",
     "output_type": "stream",
     "text": [
      "K-Fold #1\n",
      "Mean negativities for all classes: [0.22816989427330517, 0.18733290260448868, 0.20699379155719416]\n",
      "Mean entropies for all classes: [6.149162222113797e-15, 5.383429540814725e-15, 5.572523695450492e-15]\n",
      "              precision    recall  f1-score   support\n",
      "\n",
      "           0       0.56      0.83      0.67         6\n",
      "           1       0.50      0.29      0.36         7\n",
      "           2       0.20      0.20      0.20         5\n",
      "\n",
      "    accuracy                           0.44        18\n",
      "   macro avg       0.42      0.44      0.41        18\n",
      "weighted avg       0.44      0.44      0.42        18\n",
      "\n",
      "-------------------------------------------------------------------------------------------------------------------\n"
     ]
    },
    {
     "name": "stderr",
     "output_type": "stream",
     "text": [
      "[Parallel(n_jobs=-1)]: Using backend LokyBackend with 12 concurrent workers.\n",
      "[Parallel(n_jobs=-1)]: Done   3 out of   3 | elapsed:  2.4min finished\n"
     ]
    },
    {
     "name": "stdout",
     "output_type": "stream",
     "text": [
      "K-Fold #2\n",
      "Mean negativities for all classes: [0.23892024374520174, 0.18730246805326334, 0.2121638965544107]\n",
      "Mean entropies for all classes: [6.383436608063853e-15, 5.864612800971472e-15, 5.692503673751503e-15]\n",
      "              precision    recall  f1-score   support\n",
      "\n",
      "           0       0.67      0.67      0.67         6\n",
      "           1       0.56      0.71      0.63         7\n",
      "           2       0.33      0.20      0.25         5\n",
      "\n",
      "    accuracy                           0.56        18\n",
      "   macro avg       0.52      0.53      0.51        18\n",
      "weighted avg       0.53      0.56      0.53        18\n",
      "\n",
      "-------------------------------------------------------------------------------------------------------------------\n"
     ]
    },
    {
     "name": "stderr",
     "output_type": "stream",
     "text": [
      "[Parallel(n_jobs=-1)]: Using backend LokyBackend with 12 concurrent workers.\n",
      "[Parallel(n_jobs=-1)]: Done   3 out of   3 | elapsed:  2.4min finished\n"
     ]
    },
    {
     "name": "stdout",
     "output_type": "stream",
     "text": [
      "K-Fold #3\n",
      "Mean negativities for all classes: [0.23116477916650174, 0.18725812356273638, 0.21040674465020123]\n",
      "Mean entropies for all classes: [5.6828401825336625e-15, 5.767285692930449e-15, 5.660645431395701e-15]\n",
      "              precision    recall  f1-score   support\n",
      "\n",
      "           0       0.67      1.00      0.80         6\n",
      "           1       0.83      0.71      0.77         7\n",
      "           2       0.33      0.20      0.25         5\n",
      "\n",
      "    accuracy                           0.67        18\n",
      "   macro avg       0.61      0.64      0.61        18\n",
      "weighted avg       0.64      0.67      0.64        18\n",
      "\n",
      "-------------------------------------------------------------------------------------------------------------------\n"
     ]
    },
    {
     "name": "stderr",
     "output_type": "stream",
     "text": [
      "[Parallel(n_jobs=-1)]: Using backend LokyBackend with 12 concurrent workers.\n",
      "[Parallel(n_jobs=-1)]: Done   3 out of   3 | elapsed:  2.5min finished\n"
     ]
    },
    {
     "name": "stdout",
     "output_type": "stream",
     "text": [
      "K-Fold #4\n",
      "Mean negativities for all classes: [0.22681668158420928, 0.1924476662462947, 0.20678113484712743]\n",
      "Mean entropies for all classes: [5.4227655542453216e-15, 6.341517193401043e-15, 5.922815480526509e-15]\n",
      "              precision    recall  f1-score   support\n",
      "\n",
      "           0       0.56      0.83      0.67         6\n",
      "           1       0.75      0.43      0.55         7\n",
      "           2       0.40      0.40      0.40         5\n",
      "\n",
      "    accuracy                           0.56        18\n",
      "   macro avg       0.57      0.55      0.54        18\n",
      "weighted avg       0.59      0.56      0.55        18\n",
      "\n",
      "-------------------------------------------------------------------------------------------------------------------\n"
     ]
    },
    {
     "name": "stderr",
     "output_type": "stream",
     "text": [
      "[Parallel(n_jobs=-1)]: Using backend LokyBackend with 12 concurrent workers.\n",
      "[Parallel(n_jobs=-1)]: Done   3 out of   3 | elapsed:  2.4min finished\n"
     ]
    },
    {
     "name": "stdout",
     "output_type": "stream",
     "text": [
      "K-Fold #5\n",
      "Mean negativities for all classes: [0.23101243795497334, 0.18768290177780333, 0.20882074377779883]\n",
      "Mean entropies for all classes: [6.030307616699007e-15, 5.92570941085848e-15, 5.855906540748537e-15]\n",
      "              precision    recall  f1-score   support\n",
      "\n",
      "           0       0.60      1.00      0.75         6\n",
      "           1       0.67      0.57      0.62         7\n",
      "           2       0.50      0.20      0.29         5\n",
      "\n",
      "    accuracy                           0.61        18\n",
      "   macro avg       0.59      0.59      0.55        18\n",
      "weighted avg       0.60      0.61      0.57        18\n",
      "\n",
      "-------------------------------------------------------------------------------------------------------------------\n"
     ]
    },
    {
     "name": "stderr",
     "output_type": "stream",
     "text": [
      "[Parallel(n_jobs=-1)]: Using backend LokyBackend with 12 concurrent workers.\n",
      "[Parallel(n_jobs=-1)]: Done   3 out of   3 | elapsed:  2.4min finished\n"
     ]
    },
    {
     "name": "stdout",
     "output_type": "stream",
     "text": [
      "K-Fold #6\n",
      "Mean negativities for all classes: [0.22532595285452672, 0.18763853929943908, 0.20557734695473545]\n",
      "Mean entropies for all classes: [5.7684506065721935e-15, 5.711952761516051e-15, 5.8441634683786195e-15]\n",
      "              precision    recall  f1-score   support\n",
      "\n",
      "           0       0.50      0.83      0.62         6\n",
      "           1       1.00      0.29      0.44         7\n",
      "           2       0.33      0.40      0.36         5\n",
      "\n",
      "    accuracy                           0.50        18\n",
      "   macro avg       0.61      0.51      0.48        18\n",
      "weighted avg       0.65      0.50      0.48        18\n",
      "\n",
      "-------------------------------------------------------------------------------------------------------------------\n"
     ]
    },
    {
     "name": "stderr",
     "output_type": "stream",
     "text": [
      "[Parallel(n_jobs=-1)]: Using backend LokyBackend with 12 concurrent workers.\n",
      "[Parallel(n_jobs=-1)]: Done   3 out of   3 | elapsed:  2.4min finished\n"
     ]
    },
    {
     "name": "stdout",
     "output_type": "stream",
     "text": [
      "K-Fold #7\n",
      "Mean negativities for all classes: [0.23190916658998775, 0.18716218760164197, 0.20904220687394623]\n",
      "Mean entropies for all classes: [5.567025967345643e-15, 6.136587549010952e-15, 6.258881897981358e-15]\n",
      "              precision    recall  f1-score   support\n",
      "\n",
      "           0       0.71      0.83      0.77         6\n",
      "           1       0.71      0.71      0.71         7\n",
      "           2       0.75      0.60      0.67         5\n",
      "\n",
      "    accuracy                           0.72        18\n",
      "   macro avg       0.73      0.72      0.72        18\n",
      "weighted avg       0.72      0.72      0.72        18\n",
      "\n",
      "-------------------------------------------------------------------------------------------------------------------\n"
     ]
    },
    {
     "name": "stderr",
     "output_type": "stream",
     "text": [
      "[Parallel(n_jobs=-1)]: Using backend LokyBackend with 12 concurrent workers.\n",
      "[Parallel(n_jobs=-1)]: Done   3 out of   3 | elapsed:  2.5min finished\n"
     ]
    },
    {
     "name": "stdout",
     "output_type": "stream",
     "text": [
      "K-Fold #8\n",
      "Mean negativities for all classes: [0.23221412494591362, 0.18633127972947994, 0.21062578337761406]\n",
      "Mean entropies for all classes: [5.794658401615005e-15, 6.261582519728489e-15, 6.220829240139431e-15]\n",
      "              precision    recall  f1-score   support\n",
      "\n",
      "           0       0.71      0.83      0.77         6\n",
      "           1       0.56      0.71      0.63         7\n",
      "           2       0.00      0.00      0.00         4\n",
      "\n",
      "    accuracy                           0.59        17\n",
      "   macro avg       0.42      0.52      0.46        17\n",
      "weighted avg       0.48      0.59      0.53        17\n",
      "\n",
      "-------------------------------------------------------------------------------------------------------------------\n"
     ]
    },
    {
     "name": "stderr",
     "output_type": "stream",
     "text": [
      "[Parallel(n_jobs=-1)]: Using backend LokyBackend with 12 concurrent workers.\n",
      "[Parallel(n_jobs=-1)]: Done   3 out of   3 | elapsed:  2.3min finished\n"
     ]
    },
    {
     "name": "stdout",
     "output_type": "stream",
     "text": [
      "K-Fold #9\n",
      "Mean negativities for all classes: [0.23685318764917848, 0.1876409343108605, 0.21236225412797707]\n",
      "Mean entropies for all classes: [6.1927705313387464e-15, 5.8123256028767205e-15, 5.829413150559374e-15]\n",
      "              precision    recall  f1-score   support\n",
      "\n",
      "           0       0.83      1.00      0.91         5\n",
      "           1       0.86      0.75      0.80         8\n",
      "           2       0.50      0.50      0.50         4\n",
      "\n",
      "    accuracy                           0.76        17\n",
      "   macro avg       0.73      0.75      0.74        17\n",
      "weighted avg       0.77      0.76      0.76        17\n",
      "\n",
      "-------------------------------------------------------------------------------------------------------------------\n",
      "AVG: Scores = 0.6130718954248366 F1-Scores = 0.5707604432604432 Negativity = [0.21060895207594785, 0.20749886281166266, 0.21279553611762525] Entropy = [5.740548798341775e-15, 5.701705152793005e-15, 5.980184360928943e-15]\n"
     ]
    },
    {
     "name": "stderr",
     "output_type": "stream",
     "text": [
      "[Parallel(n_jobs=-1)]: Using backend LokyBackend with 12 concurrent workers.\n",
      "[Parallel(n_jobs=-1)]: Done   3 out of   3 | elapsed:  2.2min finished\n"
     ]
    },
    {
     "name": "stdout",
     "output_type": "stream",
     "text": [
      "K-Fold #0\n",
      "Mean negativities for all classes: [0.2399371546802295, 0.1889329618607716, 0.21113477326087937]\n",
      "Mean entropies for all classes: [5.858761078084852e-15, 5.6431976450469265e-15, 6.049825900938794e-15]\n",
      "              precision    recall  f1-score   support\n",
      "\n",
      "           0       0.75      0.50      0.60         6\n",
      "           1       0.83      0.71      0.77         7\n",
      "           2       0.38      0.60      0.46         5\n",
      "\n",
      "    accuracy                           0.61        18\n",
      "   macro avg       0.65      0.60      0.61        18\n",
      "weighted avg       0.68      0.61      0.63        18\n",
      "\n",
      "-------------------------------------------------------------------------------------------------------------------\n"
     ]
    },
    {
     "name": "stderr",
     "output_type": "stream",
     "text": [
      "[Parallel(n_jobs=-1)]: Using backend LokyBackend with 12 concurrent workers.\n",
      "[Parallel(n_jobs=-1)]: Done   3 out of   3 | elapsed:  2.3min finished\n"
     ]
    },
    {
     "name": "stdout",
     "output_type": "stream",
     "text": [
      "K-Fold #1\n",
      "Mean negativities for all classes: [0.22933918721561725, 0.18560782394995687, 0.2073721853638339]\n",
      "Mean entropies for all classes: [5.9068930622022814e-15, 5.587522925297646e-15, 5.41491792928833e-15]\n",
      "              precision    recall  f1-score   support\n",
      "\n",
      "           0       0.75      1.00      0.86         6\n",
      "           1       0.70      1.00      0.82         7\n",
      "           2       0.00      0.00      0.00         5\n",
      "\n",
      "    accuracy                           0.72        18\n",
      "   macro avg       0.48      0.67      0.56        18\n",
      "weighted avg       0.52      0.72      0.61        18\n",
      "\n",
      "-------------------------------------------------------------------------------------------------------------------\n"
     ]
    },
    {
     "name": "stderr",
     "output_type": "stream",
     "text": [
      "c:\\ProgramData\\Anaconda3\\lib\\site-packages\\sklearn\\metrics\\_classification.py:1344: UndefinedMetricWarning: Precision and F-score are ill-defined and being set to 0.0 in labels with no predicted samples. Use `zero_division` parameter to control this behavior.\n",
      "  _warn_prf(average, modifier, msg_start, len(result))\n",
      "c:\\ProgramData\\Anaconda3\\lib\\site-packages\\sklearn\\metrics\\_classification.py:1344: UndefinedMetricWarning: Precision and F-score are ill-defined and being set to 0.0 in labels with no predicted samples. Use `zero_division` parameter to control this behavior.\n",
      "  _warn_prf(average, modifier, msg_start, len(result))\n",
      "c:\\ProgramData\\Anaconda3\\lib\\site-packages\\sklearn\\metrics\\_classification.py:1344: UndefinedMetricWarning: Precision and F-score are ill-defined and being set to 0.0 in labels with no predicted samples. Use `zero_division` parameter to control this behavior.\n",
      "  _warn_prf(average, modifier, msg_start, len(result))\n",
      "[Parallel(n_jobs=-1)]: Using backend LokyBackend with 12 concurrent workers.\n",
      "[Parallel(n_jobs=-1)]: Done   3 out of   3 | elapsed:  2.2min finished\n"
     ]
    },
    {
     "name": "stdout",
     "output_type": "stream",
     "text": [
      "K-Fold #2\n",
      "Mean negativities for all classes: [0.22681132621658262, 0.190315041634825, 0.2069297687811115]\n",
      "Mean entropies for all classes: [6.134584937053837e-15, 5.804689714962195e-15, 5.715009479059852e-15]\n",
      "              precision    recall  f1-score   support\n",
      "\n",
      "           0       0.60      1.00      0.75         6\n",
      "           1       1.00      0.57      0.73         7\n",
      "           2       0.25      0.20      0.22         5\n",
      "\n",
      "    accuracy                           0.61        18\n",
      "   macro avg       0.62      0.59      0.57        18\n",
      "weighted avg       0.66      0.61      0.59        18\n",
      "\n",
      "-------------------------------------------------------------------------------------------------------------------\n"
     ]
    },
    {
     "name": "stderr",
     "output_type": "stream",
     "text": [
      "[Parallel(n_jobs=-1)]: Using backend LokyBackend with 12 concurrent workers.\n",
      "[Parallel(n_jobs=-1)]: Done   3 out of   3 | elapsed:  2.2min finished\n"
     ]
    },
    {
     "name": "stdout",
     "output_type": "stream",
     "text": [
      "K-Fold #3\n",
      "Mean negativities for all classes: [0.23169674365907567, 0.18672903881938774, 0.21111833571263372]\n",
      "Mean entropies for all classes: [6.096383963824522e-15, 6.0407435692501875e-15, 5.530332182521685e-15]\n",
      "              precision    recall  f1-score   support\n",
      "\n",
      "           0       0.60      1.00      0.75         6\n",
      "           1       0.62      0.71      0.67         7\n",
      "           2       0.00      0.00      0.00         5\n",
      "\n",
      "    accuracy                           0.61        18\n",
      "   macro avg       0.41      0.57      0.47        18\n",
      "weighted avg       0.44      0.61      0.51        18\n",
      "\n",
      "-------------------------------------------------------------------------------------------------------------------\n"
     ]
    },
    {
     "name": "stderr",
     "output_type": "stream",
     "text": [
      "c:\\ProgramData\\Anaconda3\\lib\\site-packages\\sklearn\\metrics\\_classification.py:1344: UndefinedMetricWarning: Precision and F-score are ill-defined and being set to 0.0 in labels with no predicted samples. Use `zero_division` parameter to control this behavior.\n",
      "  _warn_prf(average, modifier, msg_start, len(result))\n",
      "c:\\ProgramData\\Anaconda3\\lib\\site-packages\\sklearn\\metrics\\_classification.py:1344: UndefinedMetricWarning: Precision and F-score are ill-defined and being set to 0.0 in labels with no predicted samples. Use `zero_division` parameter to control this behavior.\n",
      "  _warn_prf(average, modifier, msg_start, len(result))\n",
      "c:\\ProgramData\\Anaconda3\\lib\\site-packages\\sklearn\\metrics\\_classification.py:1344: UndefinedMetricWarning: Precision and F-score are ill-defined and being set to 0.0 in labels with no predicted samples. Use `zero_division` parameter to control this behavior.\n",
      "  _warn_prf(average, modifier, msg_start, len(result))\n",
      "[Parallel(n_jobs=-1)]: Using backend LokyBackend with 12 concurrent workers.\n",
      "[Parallel(n_jobs=-1)]: Done   3 out of   3 | elapsed:  2.2min finished\n"
     ]
    },
    {
     "name": "stdout",
     "output_type": "stream",
     "text": [
      "K-Fold #4\n",
      "Mean negativities for all classes: [0.22996969239929932, 0.1887159725202348, 0.20931564912447664]\n",
      "Mean entropies for all classes: [5.693030276538825e-15, 6.174360859998046e-15, 5.9975239432247606e-15]\n",
      "              precision    recall  f1-score   support\n",
      "\n",
      "           0       0.67      1.00      0.80         6\n",
      "           1       0.71      0.71      0.71         7\n",
      "           2       0.50      0.20      0.29         5\n",
      "\n",
      "    accuracy                           0.67        18\n",
      "   macro avg       0.63      0.64      0.60        18\n",
      "weighted avg       0.64      0.67      0.62        18\n",
      "\n",
      "-------------------------------------------------------------------------------------------------------------------\n"
     ]
    },
    {
     "name": "stderr",
     "output_type": "stream",
     "text": [
      "[Parallel(n_jobs=-1)]: Using backend LokyBackend with 12 concurrent workers.\n",
      "[Parallel(n_jobs=-1)]: Done   3 out of   3 | elapsed:  2.3min finished\n"
     ]
    },
    {
     "name": "stdout",
     "output_type": "stream",
     "text": [
      "K-Fold #5\n",
      "Mean negativities for all classes: [0.23556473736816427, 0.18755697275668598, 0.21020722491159907]\n",
      "Mean entropies for all classes: [5.8379259873928326e-15, 5.9594185251208886e-15, 5.624081947640127e-15]\n",
      "              precision    recall  f1-score   support\n",
      "\n",
      "           0       0.83      0.83      0.83         6\n",
      "           1       0.57      0.57      0.57         7\n",
      "           2       0.60      0.60      0.60         5\n",
      "\n",
      "    accuracy                           0.67        18\n",
      "   macro avg       0.67      0.67      0.67        18\n",
      "weighted avg       0.67      0.67      0.67        18\n",
      "\n",
      "-------------------------------------------------------------------------------------------------------------------\n"
     ]
    },
    {
     "name": "stderr",
     "output_type": "stream",
     "text": [
      "[Parallel(n_jobs=-1)]: Using backend LokyBackend with 12 concurrent workers.\n",
      "[Parallel(n_jobs=-1)]: Done   3 out of   3 | elapsed:  2.3min finished\n"
     ]
    },
    {
     "name": "stdout",
     "output_type": "stream",
     "text": [
      "K-Fold #6\n",
      "Mean negativities for all classes: [0.233604159426091, 0.18663689183786275, 0.20974806117926814]\n",
      "Mean entropies for all classes: [6.34448067484407e-15, 5.7297446332339746e-15, 6.140718390448782e-15]\n",
      "              precision    recall  f1-score   support\n",
      "\n",
      "           0       0.86      1.00      0.92         6\n",
      "           1       0.80      0.57      0.67         7\n",
      "           2       0.67      0.80      0.73         5\n",
      "\n",
      "    accuracy                           0.78        18\n",
      "   macro avg       0.77      0.79      0.77        18\n",
      "weighted avg       0.78      0.78      0.77        18\n",
      "\n",
      "-------------------------------------------------------------------------------------------------------------------\n"
     ]
    },
    {
     "name": "stderr",
     "output_type": "stream",
     "text": [
      "[Parallel(n_jobs=-1)]: Using backend LokyBackend with 12 concurrent workers.\n",
      "[Parallel(n_jobs=-1)]: Done   3 out of   3 | elapsed:  2.3min finished\n"
     ]
    },
    {
     "name": "stdout",
     "output_type": "stream",
     "text": [
      "K-Fold #7\n",
      "Mean negativities for all classes: [0.2281484857974421, 0.19446483690360894, 0.20842404914778512]\n",
      "Mean entropies for all classes: [6.0428813428360976e-15, 5.898751729388372e-15, 5.5634579437182496e-15]\n",
      "              precision    recall  f1-score   support\n",
      "\n",
      "           0       0.56      0.83      0.67         6\n",
      "           1       1.00      0.29      0.44         7\n",
      "           2       0.43      0.60      0.50         5\n",
      "\n",
      "    accuracy                           0.56        18\n",
      "   macro avg       0.66      0.57      0.54        18\n",
      "weighted avg       0.69      0.56      0.53        18\n",
      "\n",
      "-------------------------------------------------------------------------------------------------------------------\n"
     ]
    },
    {
     "name": "stderr",
     "output_type": "stream",
     "text": [
      "[Parallel(n_jobs=-1)]: Using backend LokyBackend with 12 concurrent workers.\n",
      "[Parallel(n_jobs=-1)]: Done   3 out of   3 | elapsed:  2.3min finished\n"
     ]
    },
    {
     "name": "stdout",
     "output_type": "stream",
     "text": [
      "K-Fold #8\n",
      "Mean negativities for all classes: [0.2349527836483255, 0.18952413009848335, 0.2093605530057825]\n",
      "Mean entropies for all classes: [5.241208204122961e-15, 6.216098235509345e-15, 5.6891225873349336e-15]\n",
      "              precision    recall  f1-score   support\n",
      "\n",
      "           0       0.71      0.83      0.77         6\n",
      "           1       0.71      0.71      0.71         7\n",
      "           2       0.67      0.50      0.57         4\n",
      "\n",
      "    accuracy                           0.71        17\n",
      "   macro avg       0.70      0.68      0.68        17\n",
      "weighted avg       0.70      0.71      0.70        17\n",
      "\n",
      "-------------------------------------------------------------------------------------------------------------------\n"
     ]
    },
    {
     "name": "stderr",
     "output_type": "stream",
     "text": [
      "[Parallel(n_jobs=-1)]: Using backend LokyBackend with 12 concurrent workers.\n",
      "[Parallel(n_jobs=-1)]: Done   3 out of   3 | elapsed:  2.2min finished\n"
     ]
    },
    {
     "name": "stdout",
     "output_type": "stream",
     "text": [
      "K-Fold #9\n",
      "Mean negativities for all classes: [0.23338369460679806, 0.18631480873251463, 0.20835171670395958]\n",
      "Mean entropies for all classes: [5.996867939184775e-15, 5.754538053694988e-15, 5.9747034004292145e-15]\n",
      "              precision    recall  f1-score   support\n",
      "\n",
      "           0       0.80      0.80      0.80         5\n",
      "           1       0.80      0.50      0.62         8\n",
      "           2       0.43      0.75      0.55         4\n",
      "\n",
      "    accuracy                           0.65        17\n",
      "   macro avg       0.68      0.68      0.65        17\n",
      "weighted avg       0.71      0.65      0.65        17\n",
      "\n",
      "-------------------------------------------------------------------------------------------------------------------\n",
      "AVG: Scores = 0.6575163398692812 F1-Scores = 0.6125425554837319 Negativity = [0.21333496326729348, 0.2074397321764693, 0.2080187122108397] Entropy = [5.850594874690191e-15, 5.636444638929419e-15, 5.884761377025294e-15]\n"
     ]
    },
    {
     "name": "stderr",
     "output_type": "stream",
     "text": [
      "[Parallel(n_jobs=-1)]: Using backend LokyBackend with 12 concurrent workers.\n",
      "[Parallel(n_jobs=-1)]: Done   3 out of   3 | elapsed:  2.3min finished\n"
     ]
    },
    {
     "name": "stdout",
     "output_type": "stream",
     "text": [
      "K-Fold #0\n",
      "Mean negativities for all classes: [0.23372663331473534, 0.18746142552320644, 0.21256661127148999]\n",
      "Mean entropies for all classes: [6.020202843578878e-15, 5.26566383392758e-15, 5.867791472606582e-15]\n",
      "              precision    recall  f1-score   support\n",
      "\n",
      "           0       0.75      1.00      0.86         6\n",
      "           1       0.75      0.86      0.80         7\n",
      "           2       0.50      0.20      0.29         5\n",
      "\n",
      "    accuracy                           0.72        18\n",
      "   macro avg       0.67      0.69      0.65        18\n",
      "weighted avg       0.68      0.72      0.68        18\n",
      "\n",
      "-------------------------------------------------------------------------------------------------------------------\n"
     ]
    },
    {
     "name": "stderr",
     "output_type": "stream",
     "text": [
      "[Parallel(n_jobs=-1)]: Using backend LokyBackend with 12 concurrent workers.\n",
      "[Parallel(n_jobs=-1)]: Done   3 out of   3 | elapsed:  2.3min finished\n"
     ]
    },
    {
     "name": "stdout",
     "output_type": "stream",
     "text": [
      "K-Fold #1\n",
      "Mean negativities for all classes: [0.2285123177208534, 0.1882737460635796, 0.20765766468633384]\n",
      "Mean entropies for all classes: [5.944323082384977e-15, 5.777101811537789e-15, 5.8700895937678166e-15]\n",
      "              precision    recall  f1-score   support\n",
      "\n",
      "           0       0.75      1.00      0.86         6\n",
      "           1       0.80      0.57      0.67         7\n",
      "           2       0.40      0.40      0.40         5\n",
      "\n",
      "    accuracy                           0.67        18\n",
      "   macro avg       0.65      0.66      0.64        18\n",
      "weighted avg       0.67      0.67      0.66        18\n",
      "\n",
      "-------------------------------------------------------------------------------------------------------------------\n"
     ]
    },
    {
     "name": "stderr",
     "output_type": "stream",
     "text": [
      "[Parallel(n_jobs=-1)]: Using backend LokyBackend with 12 concurrent workers.\n",
      "[Parallel(n_jobs=-1)]: Done   3 out of   3 | elapsed:  2.3min finished\n"
     ]
    },
    {
     "name": "stdout",
     "output_type": "stream",
     "text": [
      "K-Fold #2\n",
      "Mean negativities for all classes: [0.22990756710533608, 0.18759687110496218, 0.20859329230580798]\n",
      "Mean entropies for all classes: [6.346527230306402e-15, 6.066583255453496e-15, 6.6307480055925666e-15]\n",
      "              precision    recall  f1-score   support\n",
      "\n",
      "           0       0.56      0.83      0.67         6\n",
      "           1       1.00      0.57      0.73         7\n",
      "           2       0.40      0.40      0.40         5\n",
      "\n",
      "    accuracy                           0.61        18\n",
      "   macro avg       0.65      0.60      0.60        18\n",
      "weighted avg       0.69      0.61      0.62        18\n",
      "\n",
      "-------------------------------------------------------------------------------------------------------------------\n"
     ]
    },
    {
     "name": "stderr",
     "output_type": "stream",
     "text": [
      "[Parallel(n_jobs=-1)]: Using backend LokyBackend with 12 concurrent workers.\n",
      "[Parallel(n_jobs=-1)]: Done   3 out of   3 | elapsed:  2.3min finished\n"
     ]
    },
    {
     "name": "stdout",
     "output_type": "stream",
     "text": [
      "K-Fold #3\n",
      "Mean negativities for all classes: [0.23270176183035504, 0.18770571609265152, 0.20901757901538398]\n",
      "Mean entropies for all classes: [5.9601380787771625e-15, 5.752040415557196e-15, 6.358683109786111e-15]\n",
      "              precision    recall  f1-score   support\n",
      "\n",
      "           0       0.50      0.83      0.62         6\n",
      "           1       0.67      0.57      0.62         7\n",
      "           2       0.00      0.00      0.00         5\n",
      "\n",
      "    accuracy                           0.50        18\n",
      "   macro avg       0.39      0.47      0.41        18\n",
      "weighted avg       0.43      0.50      0.45        18\n",
      "\n",
      "-------------------------------------------------------------------------------------------------------------------\n"
     ]
    },
    {
     "name": "stderr",
     "output_type": "stream",
     "text": [
      "[Parallel(n_jobs=-1)]: Using backend LokyBackend with 12 concurrent workers.\n",
      "[Parallel(n_jobs=-1)]: Done   3 out of   3 | elapsed:  2.3min finished\n"
     ]
    },
    {
     "name": "stdout",
     "output_type": "stream",
     "text": [
      "K-Fold #4\n",
      "Mean negativities for all classes: [0.23293245120733574, 0.1878738619254243, 0.21186783859684002]\n",
      "Mean entropies for all classes: [5.5158275174328155e-15, 6.1425383133618366e-15, 5.847022606191173e-15]\n",
      "              precision    recall  f1-score   support\n",
      "\n",
      "           0       0.86      1.00      0.92         6\n",
      "           1       0.62      0.71      0.67         7\n",
      "           2       0.67      0.40      0.50         5\n",
      "\n",
      "    accuracy                           0.72        18\n",
      "   macro avg       0.72      0.70      0.70        18\n",
      "weighted avg       0.71      0.72      0.71        18\n",
      "\n",
      "-------------------------------------------------------------------------------------------------------------------\n"
     ]
    },
    {
     "name": "stderr",
     "output_type": "stream",
     "text": [
      "[Parallel(n_jobs=-1)]: Using backend LokyBackend with 12 concurrent workers.\n",
      "[Parallel(n_jobs=-1)]: Done   3 out of   3 | elapsed:  2.2min finished\n"
     ]
    },
    {
     "name": "stdout",
     "output_type": "stream",
     "text": [
      "K-Fold #5\n",
      "Mean negativities for all classes: [0.2311085899139013, 0.18967355620144988, 0.20791857402232686]\n",
      "Mean entropies for all classes: [5.6780130849860825e-15, 6.140407184353475e-15, 5.780309780082159e-15]\n",
      "              precision    recall  f1-score   support\n",
      "\n",
      "           0       0.75      1.00      0.86         6\n",
      "           1       0.57      0.57      0.57         7\n",
      "           2       0.33      0.20      0.25         5\n",
      "\n",
      "    accuracy                           0.61        18\n",
      "   macro avg       0.55      0.59      0.56        18\n",
      "weighted avg       0.56      0.61      0.58        18\n",
      "\n",
      "-------------------------------------------------------------------------------------------------------------------\n"
     ]
    },
    {
     "name": "stderr",
     "output_type": "stream",
     "text": [
      "[Parallel(n_jobs=-1)]: Using backend LokyBackend with 12 concurrent workers.\n",
      "[Parallel(n_jobs=-1)]: Done   3 out of   3 | elapsed:  2.3min finished\n"
     ]
    },
    {
     "name": "stdout",
     "output_type": "stream",
     "text": [
      "K-Fold #6\n",
      "Mean negativities for all classes: [0.23247982972281556, 0.18774460266550366, 0.2095913629042188]\n",
      "Mean entropies for all classes: [5.64892456627892e-15, 5.8967735344878336e-15, 5.959250612220431e-15]\n",
      "              precision    recall  f1-score   support\n",
      "\n",
      "           0       0.71      0.83      0.77         6\n",
      "           1       0.71      0.71      0.71         7\n",
      "           2       0.25      0.20      0.22         5\n",
      "\n",
      "    accuracy                           0.61        18\n",
      "   macro avg       0.56      0.58      0.57        18\n",
      "weighted avg       0.59      0.61      0.60        18\n",
      "\n",
      "-------------------------------------------------------------------------------------------------------------------\n"
     ]
    },
    {
     "name": "stderr",
     "output_type": "stream",
     "text": [
      "[Parallel(n_jobs=-1)]: Using backend LokyBackend with 12 concurrent workers.\n",
      "[Parallel(n_jobs=-1)]: Done   3 out of   3 | elapsed:  2.3min finished\n"
     ]
    },
    {
     "name": "stdout",
     "output_type": "stream",
     "text": [
      "K-Fold #7\n",
      "Mean negativities for all classes: [0.22628685402744997, 0.1865932779004036, 0.20627336359050308]\n",
      "Mean entropies for all classes: [5.854455326575371e-15, 6.176777944458963e-15, 5.930533567877535e-15]\n",
      "              precision    recall  f1-score   support\n",
      "\n",
      "           0       0.60      1.00      0.75         6\n",
      "           1       0.60      0.43      0.50         7\n",
      "           2       0.33      0.20      0.25         5\n",
      "\n",
      "    accuracy                           0.56        18\n",
      "   macro avg       0.51      0.54      0.50        18\n",
      "weighted avg       0.53      0.56      0.51        18\n",
      "\n",
      "-------------------------------------------------------------------------------------------------------------------\n"
     ]
    },
    {
     "name": "stderr",
     "output_type": "stream",
     "text": [
      "[Parallel(n_jobs=-1)]: Using backend LokyBackend with 12 concurrent workers.\n",
      "[Parallel(n_jobs=-1)]: Done   3 out of   3 | elapsed:  2.2min finished\n"
     ]
    },
    {
     "name": "stdout",
     "output_type": "stream",
     "text": [
      "K-Fold #8\n",
      "Mean negativities for all classes: [0.23537969902359562, 0.1857687377562093, 0.20867124552167557]\n",
      "Mean entropies for all classes: [5.802689048796834e-15, 5.683044444929676e-15, 6.305777226402227e-15]\n",
      "              precision    recall  f1-score   support\n",
      "\n",
      "           0       0.67      0.67      0.67         6\n",
      "           1       0.56      0.71      0.63         7\n",
      "           2       0.50      0.25      0.33         4\n",
      "\n",
      "    accuracy                           0.59        17\n",
      "   macro avg       0.57      0.54      0.54        17\n",
      "weighted avg       0.58      0.59      0.57        17\n",
      "\n",
      "-------------------------------------------------------------------------------------------------------------------\n"
     ]
    },
    {
     "name": "stderr",
     "output_type": "stream",
     "text": [
      "[Parallel(n_jobs=-1)]: Using backend LokyBackend with 12 concurrent workers.\n",
      "[Parallel(n_jobs=-1)]: Done   3 out of   3 | elapsed:  2.4min finished\n"
     ]
    },
    {
     "name": "stdout",
     "output_type": "stream",
     "text": [
      "K-Fold #9\n",
      "Mean negativities for all classes: [0.23305940272225367, 0.1877559463492305, 0.21120409974885754]\n",
      "Mean entropies for all classes: [6.049814655022239e-15, 6.298632137042636e-15, 5.888848982757202e-15]\n",
      "              precision    recall  f1-score   support\n",
      "\n",
      "           0       0.67      0.80      0.73         5\n",
      "           1       0.67      0.50      0.57         8\n",
      "           2       0.40      0.50      0.44         4\n",
      "\n",
      "    accuracy                           0.59        17\n",
      "   macro avg       0.58      0.60      0.58        17\n",
      "weighted avg       0.60      0.59      0.59        17\n",
      "\n",
      "-------------------------------------------------------------------------------------------------------------------\n",
      "AVG: Scores = 0.6176470588235293 F1-Scores = 0.5747730047730047 Negativity = [0.2112515567031439, 0.20814790949025563, 0.20869924350536873] Entropy = [5.71788605003768e-15, 5.863838162563527e-15, 6.347952830450822e-15]\n"
     ]
    },
    {
     "name": "stderr",
     "output_type": "stream",
     "text": [
      "[Parallel(n_jobs=-1)]: Using backend LokyBackend with 12 concurrent workers.\n",
      "[Parallel(n_jobs=-1)]: Done   3 out of   3 | elapsed:  2.5min finished\n"
     ]
    },
    {
     "name": "stdout",
     "output_type": "stream",
     "text": [
      "K-Fold #0\n",
      "Mean negativities for all classes: [0.23408864918918137, 0.18738645245577198, 0.20875518961540568]\n",
      "Mean entropies for all classes: [5.6773173806126895e-15, 5.8777369002622044e-15, 6.646557071923607e-15]\n",
      "              precision    recall  f1-score   support\n",
      "\n",
      "           0       0.62      0.83      0.71         6\n",
      "           1       0.62      0.71      0.67         7\n",
      "           2       0.50      0.20      0.29         5\n",
      "\n",
      "    accuracy                           0.61        18\n",
      "   macro avg       0.58      0.58      0.56        18\n",
      "weighted avg       0.59      0.61      0.58        18\n",
      "\n",
      "-------------------------------------------------------------------------------------------------------------------\n"
     ]
    },
    {
     "name": "stderr",
     "output_type": "stream",
     "text": [
      "[Parallel(n_jobs=-1)]: Using backend LokyBackend with 12 concurrent workers.\n",
      "[Parallel(n_jobs=-1)]: Done   3 out of   3 | elapsed:  2.3min finished\n"
     ]
    },
    {
     "name": "stdout",
     "output_type": "stream",
     "text": [
      "K-Fold #1\n",
      "Mean negativities for all classes: [0.22964304631995983, 0.18759300540976606, 0.20824700840184143]\n",
      "Mean entropies for all classes: [6.0026707868877205e-15, 6.18717538703921e-15, 6.034965797451594e-15]\n",
      "              precision    recall  f1-score   support\n",
      "\n",
      "           0       0.83      0.83      0.83         6\n",
      "           1       0.75      0.43      0.55         7\n",
      "           2       0.38      0.60      0.46         5\n",
      "\n",
      "    accuracy                           0.61        18\n",
      "   macro avg       0.65      0.62      0.61        18\n",
      "weighted avg       0.67      0.61      0.62        18\n",
      "\n",
      "-------------------------------------------------------------------------------------------------------------------\n"
     ]
    },
    {
     "name": "stderr",
     "output_type": "stream",
     "text": [
      "[Parallel(n_jobs=-1)]: Using backend LokyBackend with 12 concurrent workers.\n",
      "[Parallel(n_jobs=-1)]: Done   3 out of   3 | elapsed:  2.3min finished\n"
     ]
    },
    {
     "name": "stdout",
     "output_type": "stream",
     "text": [
      "K-Fold #2\n",
      "Mean negativities for all classes: [0.24043965906858322, 0.18666075491927747, 0.21183393033738382]\n",
      "Mean entropies for all classes: [5.8621849446507745e-15, 5.878961319035958e-15, 6.392198577483618e-15]\n",
      "              precision    recall  f1-score   support\n",
      "\n",
      "           0       0.67      0.67      0.67         6\n",
      "           1       0.64      1.00      0.78         7\n",
      "           2       0.00      0.00      0.00         5\n",
      "\n",
      "    accuracy                           0.61        18\n",
      "   macro avg       0.43      0.56      0.48        18\n",
      "weighted avg       0.47      0.61      0.52        18\n",
      "\n",
      "-------------------------------------------------------------------------------------------------------------------\n"
     ]
    },
    {
     "name": "stderr",
     "output_type": "stream",
     "text": [
      "[Parallel(n_jobs=-1)]: Using backend LokyBackend with 12 concurrent workers.\n",
      "[Parallel(n_jobs=-1)]: Done   3 out of   3 | elapsed:  2.3min finished\n"
     ]
    },
    {
     "name": "stdout",
     "output_type": "stream",
     "text": [
      "K-Fold #3\n",
      "Mean negativities for all classes: [0.23453000699527848, 0.18752947763445474, 0.2109703292852637]\n",
      "Mean entropies for all classes: [6.090394934022367e-15, 5.927165255283859e-15, 5.8144618753230116e-15]\n",
      "              precision    recall  f1-score   support\n",
      "\n",
      "           0       0.57      0.67      0.62         6\n",
      "           1       0.60      0.43      0.50         7\n",
      "           2       0.33      0.40      0.36         5\n",
      "\n",
      "    accuracy                           0.50        18\n",
      "   macro avg       0.50      0.50      0.49        18\n",
      "weighted avg       0.52      0.50      0.50        18\n",
      "\n",
      "-------------------------------------------------------------------------------------------------------------------\n"
     ]
    },
    {
     "name": "stderr",
     "output_type": "stream",
     "text": [
      "[Parallel(n_jobs=-1)]: Using backend LokyBackend with 12 concurrent workers.\n",
      "[Parallel(n_jobs=-1)]: Done   3 out of   3 | elapsed:  2.3min finished\n"
     ]
    },
    {
     "name": "stdout",
     "output_type": "stream",
     "text": [
      "K-Fold #4\n",
      "Mean negativities for all classes: [0.2327905258486848, 0.18774520062365788, 0.21091377150549112]\n",
      "Mean entropies for all classes: [5.568040039988248e-15, 5.964583449843475e-15, 5.923165778320083e-15]\n",
      "              precision    recall  f1-score   support\n",
      "\n",
      "           0       0.75      1.00      0.86         6\n",
      "           1       0.62      0.71      0.67         7\n",
      "           2       0.50      0.20      0.29         5\n",
      "\n",
      "    accuracy                           0.67        18\n",
      "   macro avg       0.62      0.64      0.60        18\n",
      "weighted avg       0.63      0.67      0.62        18\n",
      "\n",
      "-------------------------------------------------------------------------------------------------------------------\n"
     ]
    },
    {
     "name": "stderr",
     "output_type": "stream",
     "text": [
      "[Parallel(n_jobs=-1)]: Using backend LokyBackend with 12 concurrent workers.\n",
      "[Parallel(n_jobs=-1)]: Done   3 out of   3 | elapsed:  2.2min finished\n"
     ]
    },
    {
     "name": "stdout",
     "output_type": "stream",
     "text": [
      "K-Fold #5\n",
      "Mean negativities for all classes: [0.2326597613728569, 0.18739258782515997, 0.21019010191415147]\n",
      "Mean entropies for all classes: [6.064041721965143e-15, 6.3726188630233055e-15, 6.015008521200484e-15]\n",
      "              precision    recall  f1-score   support\n",
      "\n",
      "           0       0.75      1.00      0.86         6\n",
      "           1       0.80      0.57      0.67         7\n",
      "           2       0.40      0.40      0.40         5\n",
      "\n",
      "    accuracy                           0.67        18\n",
      "   macro avg       0.65      0.66      0.64        18\n",
      "weighted avg       0.67      0.67      0.66        18\n",
      "\n",
      "-------------------------------------------------------------------------------------------------------------------\n"
     ]
    },
    {
     "name": "stderr",
     "output_type": "stream",
     "text": [
      "[Parallel(n_jobs=-1)]: Using backend LokyBackend with 12 concurrent workers.\n",
      "[Parallel(n_jobs=-1)]: Done   3 out of   3 | elapsed:  2.1min finished\n"
     ]
    },
    {
     "name": "stdout",
     "output_type": "stream",
     "text": [
      "K-Fold #6\n",
      "Mean negativities for all classes: [0.22613869972285347, 0.18738088653839197, 0.2064783909839437]\n",
      "Mean entropies for all classes: [6.1164737194946075e-15, 6.299077344524929e-15, 6.260300841580531e-15]\n",
      "              precision    recall  f1-score   support\n",
      "\n",
      "           0       0.60      1.00      0.75         6\n",
      "           1       0.50      0.14      0.22         7\n",
      "           2       0.50      0.60      0.55         5\n",
      "\n",
      "    accuracy                           0.56        18\n",
      "   macro avg       0.53      0.58      0.51        18\n",
      "weighted avg       0.53      0.56      0.49        18\n",
      "\n",
      "-------------------------------------------------------------------------------------------------------------------\n"
     ]
    },
    {
     "name": "stderr",
     "output_type": "stream",
     "text": [
      "[Parallel(n_jobs=-1)]: Using backend LokyBackend with 12 concurrent workers.\n",
      "[Parallel(n_jobs=-1)]: Done   3 out of   3 | elapsed:  2.2min finished\n"
     ]
    },
    {
     "name": "stdout",
     "output_type": "stream",
     "text": [
      "K-Fold #7\n",
      "Mean negativities for all classes: [0.2249912349403541, 0.18710309719736448, 0.2061914063185286]\n",
      "Mean entropies for all classes: [6.202724782693318e-15, 6.2577692692225035e-15, 5.664724564278046e-15]\n",
      "              precision    recall  f1-score   support\n",
      "\n",
      "           0       0.55      1.00      0.71         6\n",
      "           1       1.00      0.29      0.44         7\n",
      "           2       0.60      0.60      0.60         5\n",
      "\n",
      "    accuracy                           0.61        18\n",
      "   macro avg       0.72      0.63      0.58        18\n",
      "weighted avg       0.74      0.61      0.57        18\n",
      "\n",
      "-------------------------------------------------------------------------------------------------------------------\n"
     ]
    },
    {
     "name": "stderr",
     "output_type": "stream",
     "text": [
      "[Parallel(n_jobs=-1)]: Using backend LokyBackend with 12 concurrent workers.\n",
      "[Parallel(n_jobs=-1)]: Done   3 out of   3 | elapsed:  2.2min finished\n"
     ]
    },
    {
     "name": "stdout",
     "output_type": "stream",
     "text": [
      "K-Fold #8\n",
      "Mean negativities for all classes: [0.22881826828306429, 0.18678945353209347, 0.2079203233712687]\n",
      "Mean entropies for all classes: [6.202980287239178e-15, 5.833589944090535e-15, 5.83815884742226e-15]\n",
      "              precision    recall  f1-score   support\n",
      "\n",
      "           0       0.75      1.00      0.86         6\n",
      "           1       0.80      0.57      0.67         7\n",
      "           2       0.50      0.50      0.50         4\n",
      "\n",
      "    accuracy                           0.71        17\n",
      "   macro avg       0.68      0.69      0.67        17\n",
      "weighted avg       0.71      0.71      0.69        17\n",
      "\n",
      "-------------------------------------------------------------------------------------------------------------------\n"
     ]
    },
    {
     "name": "stderr",
     "output_type": "stream",
     "text": [
      "[Parallel(n_jobs=-1)]: Using backend LokyBackend with 12 concurrent workers.\n",
      "[Parallel(n_jobs=-1)]: Done   3 out of   3 | elapsed:  2.1min finished\n"
     ]
    },
    {
     "name": "stdout",
     "output_type": "stream",
     "text": [
      "K-Fold #9\n",
      "Mean negativities for all classes: [0.23465708983538971, 0.19581676826399463, 0.21133354852495587]\n",
      "Mean entropies for all classes: [5.842998141463275e-15, 5.879295405589894e-15, 5.744901561807054e-15]\n",
      "              precision    recall  f1-score   support\n",
      "\n",
      "           0       0.83      1.00      0.91         5\n",
      "           1       1.00      0.75      0.86         8\n",
      "           2       0.60      0.75      0.67         4\n",
      "\n",
      "    accuracy                           0.82        17\n",
      "   macro avg       0.81      0.83      0.81        17\n",
      "weighted avg       0.86      0.82      0.83        17\n",
      "\n",
      "-------------------------------------------------------------------------------------------------------------------\n",
      "AVG: Scores = 0.6362745098039216 F1-Scores = 0.5962835095188036 Negativity = [0.210076763753453, 0.2084943533771891, 0.21297811477508152] Entropy = [6.0672037842661674e-15, 6.0749373237928414e-15, 6.044448280390117e-15]\n"
     ]
    },
    {
     "name": "stderr",
     "output_type": "stream",
     "text": [
      "[Parallel(n_jobs=-1)]: Using backend LokyBackend with 12 concurrent workers.\n",
      "[Parallel(n_jobs=-1)]: Done   3 out of   3 | elapsed:  2.1min finished\n"
     ]
    },
    {
     "name": "stdout",
     "output_type": "stream",
     "text": [
      "K-Fold #0\n",
      "Mean negativities for all classes: [0.23364664334163399, 0.18765750704692188, 0.21086675074404565]\n",
      "Mean entropies for all classes: [5.468480949792735e-15, 5.949472749389789e-15, 6.129019511922735e-15]\n",
      "              precision    recall  f1-score   support\n",
      "\n",
      "           0       1.00      1.00      1.00         6\n",
      "           1       0.57      0.57      0.57         7\n",
      "           2       0.40      0.40      0.40         5\n",
      "\n",
      "    accuracy                           0.67        18\n",
      "   macro avg       0.66      0.66      0.66        18\n",
      "weighted avg       0.67      0.67      0.67        18\n",
      "\n",
      "-------------------------------------------------------------------------------------------------------------------\n"
     ]
    },
    {
     "name": "stderr",
     "output_type": "stream",
     "text": [
      "[Parallel(n_jobs=-1)]: Using backend LokyBackend with 12 concurrent workers.\n",
      "[Parallel(n_jobs=-1)]: Done   3 out of   3 | elapsed:  2.1min finished\n"
     ]
    },
    {
     "name": "stdout",
     "output_type": "stream",
     "text": [
      "K-Fold #1\n",
      "Mean negativities for all classes: [0.2251577383474856, 0.1880392543950586, 0.2068929802473567]\n",
      "Mean entropies for all classes: [6.0335367895808265e-15, 5.78196051554761e-15, 5.357396634225456e-15]\n",
      "              precision    recall  f1-score   support\n",
      "\n",
      "           0       0.55      1.00      0.71         6\n",
      "           1       1.00      0.57      0.73         7\n",
      "           2       0.33      0.20      0.25         5\n",
      "\n",
      "    accuracy                           0.61        18\n",
      "   macro avg       0.63      0.59      0.56        18\n",
      "weighted avg       0.66      0.61      0.59        18\n",
      "\n",
      "-------------------------------------------------------------------------------------------------------------------\n"
     ]
    },
    {
     "name": "stderr",
     "output_type": "stream",
     "text": [
      "[Parallel(n_jobs=-1)]: Using backend LokyBackend with 12 concurrent workers.\n",
      "[Parallel(n_jobs=-1)]: Done   3 out of   3 | elapsed:  2.1min finished\n"
     ]
    },
    {
     "name": "stdout",
     "output_type": "stream",
     "text": [
      "K-Fold #2\n",
      "Mean negativities for all classes: [0.23021658168517042, 0.18761036741191708, 0.2084769911098941]\n",
      "Mean entropies for all classes: [5.917366597205362e-15, 5.7595091278315876e-15, 6.4486593216046735e-15]\n",
      "              precision    recall  f1-score   support\n",
      "\n",
      "           0       0.56      0.83      0.67         6\n",
      "           1       0.50      0.29      0.36         7\n",
      "           2       0.40      0.40      0.40         5\n",
      "\n",
      "    accuracy                           0.50        18\n",
      "   macro avg       0.49      0.51      0.48        18\n",
      "weighted avg       0.49      0.50      0.47        18\n",
      "\n",
      "-------------------------------------------------------------------------------------------------------------------\n"
     ]
    },
    {
     "name": "stderr",
     "output_type": "stream",
     "text": [
      "[Parallel(n_jobs=-1)]: Using backend LokyBackend with 12 concurrent workers.\n",
      "[Parallel(n_jobs=-1)]: Done   3 out of   3 | elapsed:  2.1min finished\n"
     ]
    },
    {
     "name": "stdout",
     "output_type": "stream",
     "text": [
      "K-Fold #3\n",
      "Mean negativities for all classes: [0.2313894436207985, 0.18730581455460077, 0.2096122216528016]\n",
      "Mean entropies for all classes: [6.461923160417866e-15, 5.726718147471578e-15, 6.069491809758152e-15]\n",
      "              precision    recall  f1-score   support\n",
      "\n",
      "           0       0.67      1.00      0.80         6\n",
      "           1       0.71      0.71      0.71         7\n",
      "           2       0.00      0.00      0.00         5\n",
      "\n",
      "    accuracy                           0.61        18\n",
      "   macro avg       0.46      0.57      0.50        18\n",
      "weighted avg       0.50      0.61      0.54        18\n",
      "\n",
      "-------------------------------------------------------------------------------------------------------------------\n"
     ]
    },
    {
     "name": "stderr",
     "output_type": "stream",
     "text": [
      "[Parallel(n_jobs=-1)]: Using backend LokyBackend with 12 concurrent workers.\n",
      "[Parallel(n_jobs=-1)]: Done   3 out of   3 | elapsed:  2.2min finished\n"
     ]
    },
    {
     "name": "stdout",
     "output_type": "stream",
     "text": [
      "K-Fold #4\n",
      "Mean negativities for all classes: [0.23583026921557457, 0.1873997718199094, 0.2091675906602564]\n",
      "Mean entropies for all classes: [5.7126478977791876e-15, 6.172511938227308e-15, 5.853451790426787e-15]\n",
      "              precision    recall  f1-score   support\n",
      "\n",
      "           0       0.57      0.67      0.62         6\n",
      "           1       0.71      0.71      0.71         7\n",
      "           2       0.50      0.40      0.44         5\n",
      "\n",
      "    accuracy                           0.61        18\n",
      "   macro avg       0.60      0.59      0.59        18\n",
      "weighted avg       0.61      0.61      0.61        18\n",
      "\n",
      "-------------------------------------------------------------------------------------------------------------------\n"
     ]
    },
    {
     "name": "stderr",
     "output_type": "stream",
     "text": [
      "[Parallel(n_jobs=-1)]: Using backend LokyBackend with 12 concurrent workers.\n",
      "[Parallel(n_jobs=-1)]: Done   3 out of   3 | elapsed:  2.2min finished\n"
     ]
    },
    {
     "name": "stdout",
     "output_type": "stream",
     "text": [
      "K-Fold #5\n",
      "Mean negativities for all classes: [0.23266090179199045, 0.18732322401290277, 0.21140473260977474]\n",
      "Mean entropies for all classes: [5.802767250402093e-15, 6.176243546391056e-15, 5.6949942084072866e-15]\n",
      "              precision    recall  f1-score   support\n",
      "\n",
      "           0       0.71      0.83      0.77         6\n",
      "           1       0.75      0.86      0.80         7\n",
      "           2       0.33      0.20      0.25         5\n",
      "\n",
      "    accuracy                           0.67        18\n",
      "   macro avg       0.60      0.63      0.61        18\n",
      "weighted avg       0.62      0.67      0.64        18\n",
      "\n",
      "-------------------------------------------------------------------------------------------------------------------\n"
     ]
    },
    {
     "name": "stderr",
     "output_type": "stream",
     "text": [
      "[Parallel(n_jobs=-1)]: Using backend LokyBackend with 12 concurrent workers.\n",
      "[Parallel(n_jobs=-1)]: Done   3 out of   3 | elapsed:  2.1min finished\n"
     ]
    },
    {
     "name": "stdout",
     "output_type": "stream",
     "text": [
      "K-Fold #6\n",
      "Mean negativities for all classes: [0.22869947433020432, 0.18649742888834936, 0.20938375437339973]\n",
      "Mean entropies for all classes: [5.875355946131954e-15, 6.417753179972879e-15, 5.796179208634021e-15]\n",
      "              precision    recall  f1-score   support\n",
      "\n",
      "           0       0.67      1.00      0.80         6\n",
      "           1       0.67      0.57      0.62         7\n",
      "           2       0.33      0.20      0.25         5\n",
      "\n",
      "    accuracy                           0.61        18\n",
      "   macro avg       0.56      0.59      0.56        18\n",
      "weighted avg       0.57      0.61      0.58        18\n",
      "\n",
      "-------------------------------------------------------------------------------------------------------------------\n"
     ]
    },
    {
     "name": "stderr",
     "output_type": "stream",
     "text": [
      "[Parallel(n_jobs=-1)]: Using backend LokyBackend with 12 concurrent workers.\n",
      "[Parallel(n_jobs=-1)]: Done   3 out of   3 | elapsed:  2.1min finished\n"
     ]
    },
    {
     "name": "stdout",
     "output_type": "stream",
     "text": [
      "K-Fold #7\n",
      "Mean negativities for all classes: [0.22865133889419503, 0.18729024472144207, 0.2075336420650582]\n",
      "Mean entropies for all classes: [5.8301882174345885e-15, 5.9319031344838036e-15, 6.397856807871884e-15]\n",
      "              precision    recall  f1-score   support\n",
      "\n",
      "           0       0.75      1.00      0.86         6\n",
      "           1       0.67      0.29      0.40         7\n",
      "           2       0.43      0.60      0.50         5\n",
      "\n",
      "    accuracy                           0.61        18\n",
      "   macro avg       0.62      0.63      0.59        18\n",
      "weighted avg       0.63      0.61      0.58        18\n",
      "\n",
      "-------------------------------------------------------------------------------------------------------------------\n"
     ]
    },
    {
     "name": "stderr",
     "output_type": "stream",
     "text": [
      "[Parallel(n_jobs=-1)]: Using backend LokyBackend with 12 concurrent workers.\n",
      "[Parallel(n_jobs=-1)]: Done   3 out of   3 | elapsed:  2.1min finished\n"
     ]
    },
    {
     "name": "stdout",
     "output_type": "stream",
     "text": [
      "K-Fold #8\n",
      "Mean negativities for all classes: [0.236929346561666, 0.1896820920588851, 0.20970069316376622]\n",
      "Mean entropies for all classes: [6.0825979474834385e-15, 6.234445658068542e-15, 5.759334859866983e-15]\n",
      "              precision    recall  f1-score   support\n",
      "\n",
      "           0       0.75      0.50      0.60         6\n",
      "           1       0.80      0.57      0.67         7\n",
      "           2       0.38      0.75      0.50         4\n",
      "\n",
      "    accuracy                           0.59        17\n",
      "   macro avg       0.64      0.61      0.59        17\n",
      "weighted avg       0.68      0.59      0.60        17\n",
      "\n",
      "-------------------------------------------------------------------------------------------------------------------\n"
     ]
    },
    {
     "name": "stderr",
     "output_type": "stream",
     "text": [
      "[Parallel(n_jobs=-1)]: Using backend LokyBackend with 12 concurrent workers.\n",
      "[Parallel(n_jobs=-1)]: Done   3 out of   3 | elapsed:  2.1min finished\n"
     ]
    },
    {
     "name": "stdout",
     "output_type": "stream",
     "text": [
      "K-Fold #9\n",
      "Mean negativities for all classes: [0.23150336105317515, 0.18867347662149622, 0.20922017916032196]\n",
      "Mean entropies for all classes: [6.359480419720467e-15, 5.814471970168446e-15, 5.922990618780582e-15]\n",
      "              precision    recall  f1-score   support\n",
      "\n",
      "           0       0.62      1.00      0.77         5\n",
      "           1       1.00      0.50      0.67         8\n",
      "           2       0.60      0.75      0.67         4\n",
      "\n",
      "    accuracy                           0.71        17\n",
      "   macro avg       0.74      0.75      0.70        17\n",
      "weighted avg       0.80      0.71      0.70        17\n",
      "\n",
      "-------------------------------------------------------------------------------------------------------------------\n",
      "AVG: Scores = 0.6183006535947713 F1-Scores = 0.5828092060445 Negativity = [0.2107236337108672, 0.20669665766330028, 0.20876798006899389] Entropy = [5.8489910703684196e-15, 5.724297979784631e-15, 6.041845015547207e-15]\n"
     ]
    },
    {
     "name": "stderr",
     "output_type": "stream",
     "text": [
      "[Parallel(n_jobs=-1)]: Using backend LokyBackend with 12 concurrent workers.\n",
      "[Parallel(n_jobs=-1)]: Done   3 out of   3 | elapsed:  2.1min finished\n"
     ]
    },
    {
     "name": "stdout",
     "output_type": "stream",
     "text": [
      "K-Fold #0\n",
      "Mean negativities for all classes: [0.2371907306634355, 0.18657284332323087, 0.21041039742510448]\n",
      "Mean entropies for all classes: [5.920653526416616e-15, 5.979963172750802e-15, 5.7303222981074635e-15]\n",
      "              precision    recall  f1-score   support\n",
      "\n",
      "           0       1.00      0.83      0.91         6\n",
      "           1       0.64      1.00      0.78         7\n",
      "           2       1.00      0.40      0.57         5\n",
      "\n",
      "    accuracy                           0.78        18\n",
      "   macro avg       0.88      0.74      0.75        18\n",
      "weighted avg       0.86      0.78      0.76        18\n",
      "\n",
      "-------------------------------------------------------------------------------------------------------------------\n"
     ]
    },
    {
     "name": "stderr",
     "output_type": "stream",
     "text": [
      "[Parallel(n_jobs=-1)]: Using backend LokyBackend with 12 concurrent workers.\n",
      "[Parallel(n_jobs=-1)]: Done   3 out of   3 | elapsed:  2.2min finished\n"
     ]
    },
    {
     "name": "stdout",
     "output_type": "stream",
     "text": [
      "K-Fold #1\n",
      "Mean negativities for all classes: [0.232206410550512, 0.18695068038950355, 0.20951094849425533]\n",
      "Mean entropies for all classes: [5.8259013904078206e-15, 5.840428665285888e-15, 5.512203266447019e-15]\n",
      "              precision    recall  f1-score   support\n",
      "\n",
      "           0       0.75      1.00      0.86         6\n",
      "           1       0.71      0.71      0.71         7\n",
      "           2       0.67      0.40      0.50         5\n",
      "\n",
      "    accuracy                           0.72        18\n",
      "   macro avg       0.71      0.70      0.69        18\n",
      "weighted avg       0.71      0.72      0.70        18\n",
      "\n",
      "-------------------------------------------------------------------------------------------------------------------\n"
     ]
    },
    {
     "name": "stderr",
     "output_type": "stream",
     "text": [
      "[Parallel(n_jobs=-1)]: Using backend LokyBackend with 12 concurrent workers.\n",
      "[Parallel(n_jobs=-1)]: Done   3 out of   3 | elapsed:  2.2min finished\n"
     ]
    },
    {
     "name": "stdout",
     "output_type": "stream",
     "text": [
      "K-Fold #2\n",
      "Mean negativities for all classes: [0.2405833214680223, 0.1898015788895474, 0.21379854026535547]\n",
      "Mean entropies for all classes: [5.732247567581039e-15, 5.9148228292685504e-15, 5.997579394295054e-15]\n",
      "              precision    recall  f1-score   support\n",
      "\n",
      "           0       1.00      0.67      0.80         6\n",
      "           1       0.50      0.71      0.59         7\n",
      "           2       0.00      0.00      0.00         5\n",
      "\n",
      "    accuracy                           0.50        18\n",
      "   macro avg       0.50      0.46      0.46        18\n",
      "weighted avg       0.53      0.50      0.50        18\n",
      "\n",
      "-------------------------------------------------------------------------------------------------------------------\n"
     ]
    },
    {
     "name": "stderr",
     "output_type": "stream",
     "text": [
      "[Parallel(n_jobs=-1)]: Using backend LokyBackend with 12 concurrent workers.\n",
      "[Parallel(n_jobs=-1)]: Done   3 out of   3 | elapsed:  2.1min finished\n"
     ]
    },
    {
     "name": "stdout",
     "output_type": "stream",
     "text": [
      "K-Fold #3\n",
      "Mean negativities for all classes: [0.2288204377055714, 0.20216224538288882, 0.20772030624068452]\n",
      "Mean entropies for all classes: [6.192729626582419e-15, 5.511907083945975e-15, 5.880384019194023e-15]\n",
      "              precision    recall  f1-score   support\n",
      "\n",
      "           0       0.67      1.00      0.80         6\n",
      "           1       0.67      0.57      0.62         7\n",
      "           2       0.33      0.20      0.25         5\n",
      "\n",
      "    accuracy                           0.61        18\n",
      "   macro avg       0.56      0.59      0.56        18\n",
      "weighted avg       0.57      0.61      0.58        18\n",
      "\n",
      "-------------------------------------------------------------------------------------------------------------------\n"
     ]
    },
    {
     "name": "stderr",
     "output_type": "stream",
     "text": [
      "[Parallel(n_jobs=-1)]: Using backend LokyBackend with 12 concurrent workers.\n",
      "[Parallel(n_jobs=-1)]: Done   3 out of   3 | elapsed:  2.2min finished\n"
     ]
    },
    {
     "name": "stdout",
     "output_type": "stream",
     "text": [
      "K-Fold #4\n",
      "Mean negativities for all classes: [0.22831024175797632, 0.18751525585075515, 0.20723415646514706]\n",
      "Mean entropies for all classes: [6.421333684501964e-15, 5.674531394252315e-15, 5.972786634693652e-15]\n",
      "              precision    recall  f1-score   support\n",
      "\n",
      "           0       0.50      0.83      0.62         6\n",
      "           1       0.75      0.43      0.55         7\n",
      "           2       0.25      0.20      0.22         5\n",
      "\n",
      "    accuracy                           0.50        18\n",
      "   macro avg       0.50      0.49      0.46        18\n",
      "weighted avg       0.53      0.50      0.48        18\n",
      "\n",
      "-------------------------------------------------------------------------------------------------------------------\n"
     ]
    },
    {
     "name": "stderr",
     "output_type": "stream",
     "text": [
      "[Parallel(n_jobs=-1)]: Using backend LokyBackend with 12 concurrent workers.\n",
      "[Parallel(n_jobs=-1)]: Done   3 out of   3 | elapsed:  2.2min finished\n"
     ]
    },
    {
     "name": "stdout",
     "output_type": "stream",
     "text": [
      "K-Fold #5\n",
      "Mean negativities for all classes: [0.23283205900323323, 0.18868092309518325, 0.21183650281047933]\n",
      "Mean entropies for all classes: [6.491736473971138e-15, 5.790548154391646e-15, 5.7723945496224566e-15]\n",
      "              precision    recall  f1-score   support\n",
      "\n",
      "           0       0.62      0.83      0.71         6\n",
      "           1       0.83      0.71      0.77         7\n",
      "           2       0.50      0.40      0.44         5\n",
      "\n",
      "    accuracy                           0.67        18\n",
      "   macro avg       0.65      0.65      0.64        18\n",
      "weighted avg       0.67      0.67      0.66        18\n",
      "\n",
      "-------------------------------------------------------------------------------------------------------------------\n"
     ]
    },
    {
     "name": "stderr",
     "output_type": "stream",
     "text": [
      "[Parallel(n_jobs=-1)]: Using backend LokyBackend with 12 concurrent workers.\n",
      "[Parallel(n_jobs=-1)]: Done   3 out of   3 | elapsed:  2.2min finished\n"
     ]
    },
    {
     "name": "stdout",
     "output_type": "stream",
     "text": [
      "K-Fold #6\n",
      "Mean negativities for all classes: [0.2327592765507698, 0.18694431127220348, 0.20878463160421717]\n",
      "Mean entropies for all classes: [5.690078416601764e-15, 5.674810427332714e-15, 6.0660915989868924e-15]\n",
      "              precision    recall  f1-score   support\n",
      "\n",
      "           0       0.56      0.83      0.67         6\n",
      "           1       0.50      0.29      0.36         7\n",
      "           2       0.20      0.20      0.20         5\n",
      "\n",
      "    accuracy                           0.44        18\n",
      "   macro avg       0.42      0.44      0.41        18\n",
      "weighted avg       0.44      0.44      0.42        18\n",
      "\n",
      "-------------------------------------------------------------------------------------------------------------------\n"
     ]
    },
    {
     "name": "stderr",
     "output_type": "stream",
     "text": [
      "[Parallel(n_jobs=-1)]: Using backend LokyBackend with 12 concurrent workers.\n",
      "[Parallel(n_jobs=-1)]: Done   3 out of   3 | elapsed:  2.2min finished\n"
     ]
    },
    {
     "name": "stdout",
     "output_type": "stream",
     "text": [
      "K-Fold #7\n",
      "Mean negativities for all classes: [0.2298019992243112, 0.18581210862188874, 0.20879942079490388]\n",
      "Mean entropies for all classes: [5.6765161264373094e-15, 6.210695542153076e-15, 6.161208576372151e-15]\n",
      "              precision    recall  f1-score   support\n",
      "\n",
      "           0       0.75      1.00      0.86         6\n",
      "           1       0.70      1.00      0.82         7\n",
      "           2       0.00      0.00      0.00         5\n",
      "\n",
      "    accuracy                           0.72        18\n",
      "   macro avg       0.48      0.67      0.56        18\n",
      "weighted avg       0.52      0.72      0.61        18\n",
      "\n",
      "-------------------------------------------------------------------------------------------------------------------\n"
     ]
    },
    {
     "name": "stderr",
     "output_type": "stream",
     "text": [
      "c:\\ProgramData\\Anaconda3\\lib\\site-packages\\sklearn\\metrics\\_classification.py:1344: UndefinedMetricWarning: Precision and F-score are ill-defined and being set to 0.0 in labels with no predicted samples. Use `zero_division` parameter to control this behavior.\n",
      "  _warn_prf(average, modifier, msg_start, len(result))\n",
      "c:\\ProgramData\\Anaconda3\\lib\\site-packages\\sklearn\\metrics\\_classification.py:1344: UndefinedMetricWarning: Precision and F-score are ill-defined and being set to 0.0 in labels with no predicted samples. Use `zero_division` parameter to control this behavior.\n",
      "  _warn_prf(average, modifier, msg_start, len(result))\n",
      "c:\\ProgramData\\Anaconda3\\lib\\site-packages\\sklearn\\metrics\\_classification.py:1344: UndefinedMetricWarning: Precision and F-score are ill-defined and being set to 0.0 in labels with no predicted samples. Use `zero_division` parameter to control this behavior.\n",
      "  _warn_prf(average, modifier, msg_start, len(result))\n",
      "[Parallel(n_jobs=-1)]: Using backend LokyBackend with 12 concurrent workers.\n",
      "[Parallel(n_jobs=-1)]: Done   3 out of   3 | elapsed:  2.2min finished\n"
     ]
    },
    {
     "name": "stdout",
     "output_type": "stream",
     "text": [
      "K-Fold #8\n",
      "Mean negativities for all classes: [0.22411849697780248, 0.18944651357437192, 0.20573855976312488]\n",
      "Mean entropies for all classes: [5.4809413059855445e-15, 5.737262639435417e-15, 5.893950198504747e-15]\n",
      "              precision    recall  f1-score   support\n",
      "\n",
      "           0       0.60      1.00      0.75         6\n",
      "           1       1.00      0.43      0.60         7\n",
      "           2       0.75      0.75      0.75         4\n",
      "\n",
      "    accuracy                           0.71        17\n",
      "   macro avg       0.78      0.73      0.70        17\n",
      "weighted avg       0.80      0.71      0.69        17\n",
      "\n",
      "-------------------------------------------------------------------------------------------------------------------\n"
     ]
    },
    {
     "name": "stderr",
     "output_type": "stream",
     "text": [
      "[Parallel(n_jobs=-1)]: Using backend LokyBackend with 12 concurrent workers.\n",
      "[Parallel(n_jobs=-1)]: Done   3 out of   3 | elapsed:  2.2min finished\n"
     ]
    },
    {
     "name": "stdout",
     "output_type": "stream",
     "text": [
      "K-Fold #9\n",
      "Mean negativities for all classes: [0.23307642888980942, 0.18911736700805706, 0.20867979353486485]\n",
      "Mean entropies for all classes: [6.204304990077671e-15, 6.532326728660591e-15, 5.8717929414795735e-15]\n",
      "              precision    recall  f1-score   support\n",
      "\n",
      "           0       0.56      1.00      0.71         5\n",
      "           1       1.00      0.62      0.77         8\n",
      "           2       0.33      0.25      0.29         4\n",
      "\n",
      "    accuracy                           0.65        17\n",
      "   macro avg       0.63      0.62      0.59        17\n",
      "weighted avg       0.71      0.65      0.64        17\n",
      "\n",
      "-------------------------------------------------------------------------------------------------------------------\n",
      "AVG: Scores = 0.6297385620915034 F1-Scores = 0.582806316776905 Negativity = [0.21139132380392364, 0.20955601314475694, 0.21472781354097506] Entropy = [5.876979665758294e-15, 5.72617777404691e-15, 5.881549930381547e-15]\n"
     ]
    },
    {
     "name": "stderr",
     "output_type": "stream",
     "text": [
      "[Parallel(n_jobs=-1)]: Using backend LokyBackend with 12 concurrent workers.\n",
      "[Parallel(n_jobs=-1)]: Done   3 out of   3 | elapsed:  2.2min finished\n"
     ]
    },
    {
     "name": "stdout",
     "output_type": "stream",
     "text": [
      "K-Fold #0\n",
      "Mean negativities for all classes: [0.23798908774095157, 0.18777115121764562, 0.2116193548472988]\n",
      "Mean entropies for all classes: [6.0362570353620096e-15, 5.881933367550444e-15, 5.916471276867621e-15]\n",
      "              precision    recall  f1-score   support\n",
      "\n",
      "           0       0.80      0.67      0.73         6\n",
      "           1       1.00      0.71      0.83         7\n",
      "           2       0.62      1.00      0.77         5\n",
      "\n",
      "    accuracy                           0.78        18\n",
      "   macro avg       0.81      0.79      0.78        18\n",
      "weighted avg       0.83      0.78      0.78        18\n",
      "\n",
      "-------------------------------------------------------------------------------------------------------------------\n"
     ]
    },
    {
     "name": "stderr",
     "output_type": "stream",
     "text": [
      "[Parallel(n_jobs=-1)]: Using backend LokyBackend with 12 concurrent workers.\n",
      "[Parallel(n_jobs=-1)]: Done   3 out of   3 | elapsed:  2.2min finished\n"
     ]
    },
    {
     "name": "stdout",
     "output_type": "stream",
     "text": [
      "K-Fold #1\n",
      "Mean negativities for all classes: [0.23231276631891212, 0.18780241965476513, 0.20976047234426615]\n",
      "Mean entropies for all classes: [5.94009351964169e-15, 5.655403092502182e-15, 5.855135519493142e-15]\n",
      "              precision    recall  f1-score   support\n",
      "\n",
      "           0       0.71      0.83      0.77         6\n",
      "           1       1.00      0.86      0.92         7\n",
      "           2       0.80      0.80      0.80         5\n",
      "\n",
      "    accuracy                           0.83        18\n",
      "   macro avg       0.84      0.83      0.83        18\n",
      "weighted avg       0.85      0.83      0.84        18\n",
      "\n",
      "-------------------------------------------------------------------------------------------------------------------\n"
     ]
    },
    {
     "name": "stderr",
     "output_type": "stream",
     "text": [
      "[Parallel(n_jobs=-1)]: Using backend LokyBackend with 12 concurrent workers.\n",
      "[Parallel(n_jobs=-1)]: Done   3 out of   3 | elapsed:  2.2min finished\n"
     ]
    },
    {
     "name": "stdout",
     "output_type": "stream",
     "text": [
      "K-Fold #2\n",
      "Mean negativities for all classes: [0.23106464691158335, 0.1859054452596999, 0.20888052472584753]\n",
      "Mean entropies for all classes: [6.2608452353600085e-15, 5.510589943105304e-15, 5.884824226421004e-15]\n",
      "              precision    recall  f1-score   support\n",
      "\n",
      "           0       0.75      1.00      0.86         6\n",
      "           1       0.60      0.86      0.71         7\n",
      "           2       0.00      0.00      0.00         5\n",
      "\n",
      "    accuracy                           0.67        18\n",
      "   macro avg       0.45      0.62      0.52        18\n",
      "weighted avg       0.48      0.67      0.56        18\n",
      "\n",
      "-------------------------------------------------------------------------------------------------------------------\n"
     ]
    },
    {
     "name": "stderr",
     "output_type": "stream",
     "text": [
      "c:\\ProgramData\\Anaconda3\\lib\\site-packages\\sklearn\\metrics\\_classification.py:1344: UndefinedMetricWarning: Precision and F-score are ill-defined and being set to 0.0 in labels with no predicted samples. Use `zero_division` parameter to control this behavior.\n",
      "  _warn_prf(average, modifier, msg_start, len(result))\n",
      "c:\\ProgramData\\Anaconda3\\lib\\site-packages\\sklearn\\metrics\\_classification.py:1344: UndefinedMetricWarning: Precision and F-score are ill-defined and being set to 0.0 in labels with no predicted samples. Use `zero_division` parameter to control this behavior.\n",
      "  _warn_prf(average, modifier, msg_start, len(result))\n",
      "c:\\ProgramData\\Anaconda3\\lib\\site-packages\\sklearn\\metrics\\_classification.py:1344: UndefinedMetricWarning: Precision and F-score are ill-defined and being set to 0.0 in labels with no predicted samples. Use `zero_division` parameter to control this behavior.\n",
      "  _warn_prf(average, modifier, msg_start, len(result))\n",
      "[Parallel(n_jobs=-1)]: Using backend LokyBackend with 12 concurrent workers.\n",
      "[Parallel(n_jobs=-1)]: Done   3 out of   3 | elapsed:  2.1min finished\n"
     ]
    },
    {
     "name": "stdout",
     "output_type": "stream",
     "text": [
      "K-Fold #3\n",
      "Mean negativities for all classes: [0.23869094127259569, 0.18727049684103095, 0.21023507397147234]\n",
      "Mean entropies for all classes: [5.993912604437115e-15, 5.700362341111933e-15, 6.197682306328603e-15]\n",
      "              precision    recall  f1-score   support\n",
      "\n",
      "           0       0.83      0.83      0.83         6\n",
      "           1       0.62      0.71      0.67         7\n",
      "           2       0.25      0.20      0.22         5\n",
      "\n",
      "    accuracy                           0.61        18\n",
      "   macro avg       0.57      0.58      0.57        18\n",
      "weighted avg       0.59      0.61      0.60        18\n",
      "\n",
      "-------------------------------------------------------------------------------------------------------------------\n"
     ]
    },
    {
     "name": "stderr",
     "output_type": "stream",
     "text": [
      "[Parallel(n_jobs=-1)]: Using backend LokyBackend with 12 concurrent workers.\n",
      "[Parallel(n_jobs=-1)]: Done   3 out of   3 | elapsed:  2.1min finished\n"
     ]
    },
    {
     "name": "stdout",
     "output_type": "stream",
     "text": [
      "K-Fold #4\n",
      "Mean negativities for all classes: [0.22887580435947294, 0.18716787839535703, 0.20656260662098924]\n",
      "Mean entropies for all classes: [5.283085267130424e-15, 6.044414127961129e-15, 5.857748164648213e-15]\n",
      "              precision    recall  f1-score   support\n",
      "\n",
      "           0       0.36      0.67      0.47         6\n",
      "           1       0.67      0.29      0.40         7\n",
      "           2       0.00      0.00      0.00         5\n",
      "\n",
      "    accuracy                           0.33        18\n",
      "   macro avg       0.34      0.32      0.29        18\n",
      "weighted avg       0.38      0.33      0.31        18\n",
      "\n",
      "-------------------------------------------------------------------------------------------------------------------\n"
     ]
    },
    {
     "name": "stderr",
     "output_type": "stream",
     "text": [
      "[Parallel(n_jobs=-1)]: Using backend LokyBackend with 12 concurrent workers.\n",
      "[Parallel(n_jobs=-1)]: Done   3 out of   3 | elapsed:  2.1min finished\n"
     ]
    },
    {
     "name": "stdout",
     "output_type": "stream",
     "text": [
      "K-Fold #5\n",
      "Mean negativities for all classes: [0.227172895046504, 0.1884554510802667, 0.2065991024789301]\n",
      "Mean entropies for all classes: [5.733809947602179e-15, 5.853947028766846e-15, 6.073966278198915e-15]\n",
      "              precision    recall  f1-score   support\n",
      "\n",
      "           0       0.60      1.00      0.75         6\n",
      "           1       0.71      0.71      0.71         7\n",
      "           2       0.00      0.00      0.00         5\n",
      "\n",
      "    accuracy                           0.61        18\n",
      "   macro avg       0.44      0.57      0.49        18\n",
      "weighted avg       0.48      0.61      0.53        18\n",
      "\n",
      "-------------------------------------------------------------------------------------------------------------------\n"
     ]
    },
    {
     "name": "stderr",
     "output_type": "stream",
     "text": [
      "[Parallel(n_jobs=-1)]: Using backend LokyBackend with 12 concurrent workers.\n",
      "[Parallel(n_jobs=-1)]: Done   3 out of   3 | elapsed:  2.1min finished\n"
     ]
    },
    {
     "name": "stdout",
     "output_type": "stream",
     "text": [
      "K-Fold #6\n",
      "Mean negativities for all classes: [0.22949622426424543, 0.18747195659645774, 0.20775020213792056]\n",
      "Mean entropies for all classes: [5.823787253868086e-15, 5.6492247549736835e-15, 5.976290429985495e-15]\n",
      "              precision    recall  f1-score   support\n",
      "\n",
      "           0       0.86      1.00      0.92         6\n",
      "           1       0.80      0.57      0.67         7\n",
      "           2       0.50      0.60      0.55         5\n",
      "\n",
      "    accuracy                           0.72        18\n",
      "   macro avg       0.72      0.72      0.71        18\n",
      "weighted avg       0.74      0.72      0.72        18\n",
      "\n",
      "-------------------------------------------------------------------------------------------------------------------\n"
     ]
    },
    {
     "name": "stderr",
     "output_type": "stream",
     "text": [
      "[Parallel(n_jobs=-1)]: Using backend LokyBackend with 12 concurrent workers.\n",
      "[Parallel(n_jobs=-1)]: Done   3 out of   3 | elapsed:  2.1min finished\n"
     ]
    },
    {
     "name": "stdout",
     "output_type": "stream",
     "text": [
      "K-Fold #7\n",
      "Mean negativities for all classes: [0.23395819727388434, 0.19450714379017622, 0.20996094090327863]\n",
      "Mean entropies for all classes: [5.9204029141628245e-15, 5.721246409641301e-15, 5.934965936248259e-15]\n",
      "              precision    recall  f1-score   support\n",
      "\n",
      "           0       0.56      0.83      0.67         6\n",
      "           1       0.62      0.71      0.67         7\n",
      "           2       0.00      0.00      0.00         5\n",
      "\n",
      "    accuracy                           0.56        18\n",
      "   macro avg       0.39      0.52      0.44        18\n",
      "weighted avg       0.43      0.56      0.48        18\n",
      "\n",
      "-------------------------------------------------------------------------------------------------------------------\n"
     ]
    },
    {
     "name": "stderr",
     "output_type": "stream",
     "text": [
      "[Parallel(n_jobs=-1)]: Using backend LokyBackend with 12 concurrent workers.\n",
      "[Parallel(n_jobs=-1)]: Done   3 out of   3 | elapsed:  2.1min finished\n"
     ]
    },
    {
     "name": "stdout",
     "output_type": "stream",
     "text": [
      "K-Fold #8\n",
      "Mean negativities for all classes: [0.22990978229509906, 0.18748196696362676, 0.2116112381606613]\n",
      "Mean entropies for all classes: [5.829526185490059e-15, 5.642227273291722e-15, 5.90494105011885e-15]\n",
      "              precision    recall  f1-score   support\n",
      "\n",
      "           0       0.75      1.00      0.86         6\n",
      "           1       0.57      0.57      0.57         7\n",
      "           2       0.50      0.25      0.33         4\n",
      "\n",
      "    accuracy                           0.65        17\n",
      "   macro avg       0.61      0.61      0.59        17\n",
      "weighted avg       0.62      0.65      0.62        17\n",
      "\n",
      "-------------------------------------------------------------------------------------------------------------------\n"
     ]
    },
    {
     "name": "stderr",
     "output_type": "stream",
     "text": [
      "[Parallel(n_jobs=-1)]: Using backend LokyBackend with 12 concurrent workers.\n",
      "[Parallel(n_jobs=-1)]: Done   3 out of   3 | elapsed:  2.1min finished\n"
     ]
    },
    {
     "name": "stdout",
     "output_type": "stream",
     "text": [
      "K-Fold #9\n",
      "Mean negativities for all classes: [0.23071844167577638, 0.1868483064255729, 0.2099387016442048]\n",
      "Mean entropies for all classes: [6.247550840577593e-15, 5.68810235903067e-15, 5.9064014401803064e-15]\n",
      "              precision    recall  f1-score   support\n",
      "\n",
      "           0       0.62      1.00      0.77         5\n",
      "           1       0.71      0.62      0.67         8\n",
      "           2       0.00      0.00      0.00         4\n",
      "\n",
      "    accuracy                           0.59        17\n",
      "   macro avg       0.45      0.54      0.48        17\n",
      "weighted avg       0.52      0.59      0.54        17\n",
      "\n",
      "-------------------------------------------------------------------------------------------------------------------\n",
      "AVG: Scores = 0.634640522875817 F1-Scores = 0.5702866523454759 Negativity = [0.2124598646019653, 0.20995855277264783, 0.20861687229904358] Entropy = [5.9448872265933586e-15, 5.816877377212338e-15, 5.885419801628772e-15]\n"
     ]
    },
    {
     "name": "stderr",
     "output_type": "stream",
     "text": [
      "[Parallel(n_jobs=-1)]: Using backend LokyBackend with 12 concurrent workers.\n",
      "[Parallel(n_jobs=-1)]: Done   3 out of   3 | elapsed:  2.1min finished\n"
     ]
    },
    {
     "name": "stdout",
     "output_type": "stream",
     "text": [
      "K-Fold #0\n",
      "Mean negativities for all classes: [0.22762221407734337, 0.18892441719491812, 0.20695309226786035]\n",
      "Mean entropies for all classes: [5.594213188172041e-15, 5.917565570806831e-15, 6.170167225873283e-15]\n",
      "              precision    recall  f1-score   support\n",
      "\n",
      "           0       0.67      1.00      0.80         6\n",
      "           1       0.40      0.29      0.33         7\n",
      "           2       0.25      0.20      0.22         5\n",
      "\n",
      "    accuracy                           0.50        18\n",
      "   macro avg       0.44      0.50      0.45        18\n",
      "weighted avg       0.45      0.50      0.46        18\n",
      "\n",
      "-------------------------------------------------------------------------------------------------------------------\n"
     ]
    },
    {
     "name": "stderr",
     "output_type": "stream",
     "text": [
      "[Parallel(n_jobs=-1)]: Using backend LokyBackend with 12 concurrent workers.\n",
      "[Parallel(n_jobs=-1)]: Done   3 out of   3 | elapsed:  2.1min finished\n"
     ]
    },
    {
     "name": "stdout",
     "output_type": "stream",
     "text": [
      "K-Fold #1\n",
      "Mean negativities for all classes: [0.23304095392618926, 0.18726789690994433, 0.21124284184198375]\n",
      "Mean entropies for all classes: [5.846928665714603e-15, 6.109091995413754e-15, 5.685132530924629e-15]\n",
      "              precision    recall  f1-score   support\n",
      "\n",
      "           0       0.75      1.00      0.86         6\n",
      "           1       0.75      0.86      0.80         7\n",
      "           2       1.00      0.40      0.57         5\n",
      "\n",
      "    accuracy                           0.78        18\n",
      "   macro avg       0.83      0.75      0.74        18\n",
      "weighted avg       0.82      0.78      0.76        18\n",
      "\n",
      "-------------------------------------------------------------------------------------------------------------------\n"
     ]
    },
    {
     "name": "stderr",
     "output_type": "stream",
     "text": [
      "[Parallel(n_jobs=-1)]: Using backend LokyBackend with 12 concurrent workers.\n",
      "[Parallel(n_jobs=-1)]: Done   3 out of   3 | elapsed:  2.1min finished\n"
     ]
    },
    {
     "name": "stdout",
     "output_type": "stream",
     "text": [
      "K-Fold #2\n",
      "Mean negativities for all classes: [0.2320347415438383, 0.1877048548766323, 0.2094158184578508]\n",
      "Mean entropies for all classes: [6.269764449693692e-15, 5.866284143969538e-15, 5.819067672885257e-15]\n",
      "              precision    recall  f1-score   support\n",
      "\n",
      "           0       0.83      0.83      0.83         6\n",
      "           1       0.57      0.57      0.57         7\n",
      "           2       0.40      0.40      0.40         5\n",
      "\n",
      "    accuracy                           0.61        18\n",
      "   macro avg       0.60      0.60      0.60        18\n",
      "weighted avg       0.61      0.61      0.61        18\n",
      "\n",
      "-------------------------------------------------------------------------------------------------------------------\n"
     ]
    },
    {
     "name": "stderr",
     "output_type": "stream",
     "text": [
      "[Parallel(n_jobs=-1)]: Using backend LokyBackend with 12 concurrent workers.\n",
      "[Parallel(n_jobs=-1)]: Done   3 out of   3 | elapsed:  2.1min finished\n"
     ]
    },
    {
     "name": "stdout",
     "output_type": "stream",
     "text": [
      "K-Fold #3\n",
      "Mean negativities for all classes: [0.2343292457667251, 0.20309017980640423, 0.21047163446880232]\n",
      "Mean entropies for all classes: [6.102464109372613e-15, 5.9120806175116135e-15, 5.740972989068393e-15]\n",
      "              precision    recall  f1-score   support\n",
      "\n",
      "           0       0.56      0.83      0.67         6\n",
      "           1       0.86      0.86      0.86         7\n",
      "           2       0.00      0.00      0.00         5\n",
      "\n",
      "    accuracy                           0.61        18\n",
      "   macro avg       0.47      0.56      0.51        18\n",
      "weighted avg       0.52      0.61      0.56        18\n",
      "\n",
      "-------------------------------------------------------------------------------------------------------------------\n"
     ]
    },
    {
     "name": "stderr",
     "output_type": "stream",
     "text": [
      "[Parallel(n_jobs=-1)]: Using backend LokyBackend with 12 concurrent workers.\n",
      "[Parallel(n_jobs=-1)]: Done   3 out of   3 | elapsed:  2.1min finished\n"
     ]
    },
    {
     "name": "stdout",
     "output_type": "stream",
     "text": [
      "K-Fold #4\n",
      "Mean negativities for all classes: [0.22684353096351625, 0.18664343039934467, 0.20680504115384984]\n",
      "Mean entropies for all classes: [6.637715937427091e-15, 6.104014528963287e-15, 5.858828637121496e-15]\n",
      "              precision    recall  f1-score   support\n",
      "\n",
      "           0       0.60      1.00      0.75         6\n",
      "           1       0.57      0.57      0.57         7\n",
      "           2       1.00      0.20      0.33         5\n",
      "\n",
      "    accuracy                           0.61        18\n",
      "   macro avg       0.72      0.59      0.55        18\n",
      "weighted avg       0.70      0.61      0.56        18\n",
      "\n",
      "-------------------------------------------------------------------------------------------------------------------\n"
     ]
    },
    {
     "name": "stderr",
     "output_type": "stream",
     "text": [
      "[Parallel(n_jobs=-1)]: Using backend LokyBackend with 12 concurrent workers.\n",
      "[Parallel(n_jobs=-1)]: Done   3 out of   3 | elapsed:  2.1min finished\n"
     ]
    },
    {
     "name": "stdout",
     "output_type": "stream",
     "text": [
      "K-Fold #5\n",
      "Mean negativities for all classes: [0.23917841238905885, 0.18718642759090492, 0.21159142122275643]\n",
      "Mean entropies for all classes: [6.3245728110065846e-15, 5.768228422174948e-15, 5.4162113519265595e-15]\n",
      "              precision    recall  f1-score   support\n",
      "\n",
      "           0       0.80      0.67      0.73         6\n",
      "           1       0.58      1.00      0.74         7\n",
      "           2       1.00      0.20      0.33         5\n",
      "\n",
      "    accuracy                           0.67        18\n",
      "   macro avg       0.79      0.62      0.60        18\n",
      "weighted avg       0.77      0.67      0.62        18\n",
      "\n",
      "-------------------------------------------------------------------------------------------------------------------\n"
     ]
    },
    {
     "name": "stderr",
     "output_type": "stream",
     "text": [
      "[Parallel(n_jobs=-1)]: Using backend LokyBackend with 12 concurrent workers.\n",
      "[Parallel(n_jobs=-1)]: Done   3 out of   3 | elapsed:  2.1min finished\n"
     ]
    },
    {
     "name": "stdout",
     "output_type": "stream",
     "text": [
      "K-Fold #6\n",
      "Mean negativities for all classes: [0.23283934793059968, 0.18683169460638682, 0.21002515629098928]\n",
      "Mean entropies for all classes: [6.150161214332505e-15, 5.752807133601387e-15, 5.916989065008657e-15]\n",
      "              precision    recall  f1-score   support\n",
      "\n",
      "           0       0.86      1.00      0.92         6\n",
      "           1       0.75      0.86      0.80         7\n",
      "           2       0.67      0.40      0.50         5\n",
      "\n",
      "    accuracy                           0.78        18\n",
      "   macro avg       0.76      0.75      0.74        18\n",
      "weighted avg       0.76      0.78      0.76        18\n",
      "\n",
      "-------------------------------------------------------------------------------------------------------------------\n"
     ]
    },
    {
     "name": "stderr",
     "output_type": "stream",
     "text": [
      "[Parallel(n_jobs=-1)]: Using backend LokyBackend with 12 concurrent workers.\n",
      "[Parallel(n_jobs=-1)]: Done   3 out of   3 | elapsed:  2.2min finished\n"
     ]
    },
    {
     "name": "stdout",
     "output_type": "stream",
     "text": [
      "K-Fold #7\n",
      "Mean negativities for all classes: [0.22582549892777207, 0.18812739157258807, 0.20631876444703723]\n",
      "Mean entropies for all classes: [6.133201058121096e-15, 5.641650610767501e-15, 6.003408931937693e-15]\n",
      "              precision    recall  f1-score   support\n",
      "\n",
      "           0       0.42      0.83      0.56         6\n",
      "           1       0.33      0.14      0.20         7\n",
      "           2       0.00      0.00      0.00         5\n",
      "\n",
      "    accuracy                           0.33        18\n",
      "   macro avg       0.25      0.33      0.25        18\n",
      "weighted avg       0.27      0.33      0.26        18\n",
      "\n",
      "-------------------------------------------------------------------------------------------------------------------\n"
     ]
    },
    {
     "name": "stderr",
     "output_type": "stream",
     "text": [
      "[Parallel(n_jobs=-1)]: Using backend LokyBackend with 12 concurrent workers.\n",
      "[Parallel(n_jobs=-1)]: Done   3 out of   3 | elapsed:  2.1min finished\n"
     ]
    },
    {
     "name": "stdout",
     "output_type": "stream",
     "text": [
      "K-Fold #8\n",
      "Mean negativities for all classes: [0.231003467604767, 0.19005322830031113, 0.21177754477518926]\n",
      "Mean entropies for all classes: [5.674572847277698e-15, 5.628426373714155e-15, 6.2858043764951136e-15]\n",
      "              precision    recall  f1-score   support\n",
      "\n",
      "           0       0.62      0.83      0.71         6\n",
      "           1       0.60      0.43      0.50         7\n",
      "           2       0.25      0.25      0.25         4\n",
      "\n",
      "    accuracy                           0.53        17\n",
      "   macro avg       0.49      0.50      0.49        17\n",
      "weighted avg       0.53      0.53      0.52        17\n",
      "\n",
      "-------------------------------------------------------------------------------------------------------------------\n"
     ]
    },
    {
     "name": "stderr",
     "output_type": "stream",
     "text": [
      "[Parallel(n_jobs=-1)]: Using backend LokyBackend with 12 concurrent workers.\n",
      "[Parallel(n_jobs=-1)]: Done   3 out of   3 | elapsed:  2.1min finished\n"
     ]
    },
    {
     "name": "stdout",
     "output_type": "stream",
     "text": [
      "K-Fold #9\n",
      "Mean negativities for all classes: [0.23550444887775052, 0.19079205604673793, 0.2088817082961747]\n",
      "Mean entropies for all classes: [5.875158396209903e-15, 6.139360117843771e-15, 5.9491756987596544e-15]\n",
      "              precision    recall  f1-score   support\n",
      "\n",
      "           0       0.83      1.00      0.91         5\n",
      "           1       1.00      0.88      0.93         8\n",
      "           2       1.00      1.00      1.00         4\n",
      "\n",
      "    accuracy                           0.94        17\n",
      "   macro avg       0.94      0.96      0.95        17\n",
      "weighted avg       0.95      0.94      0.94        17\n",
      "\n",
      "-------------------------------------------------------------------------------------------------------------------\n",
      "AVG: Scores = 0.6359477124183007 F1-Scores = 0.5883416972890657 Negativity = [0.20783324118004062, 0.21051723089270577, 0.20971847162610713] Entropy = [5.893981994950718e-15, 5.880384397350995e-15, 5.985038755516161e-15]\n",
      "CPU times: total: 5min 16s\n",
      "Wall time: 7h 22min 26s\n"
     ]
    }
   ],
   "source": [
    "%%time\n",
    "scores_list = []\n",
    "f1scores_list = []\n",
    "negativities_list = []\n",
    "for SEED in range(n_times_kfold):\n",
    "    scores, f1scores, output_dict = execute_training_test_k_fold(\n",
    "                    X, \n",
    "                    y, \n",
    "                    k_folds=k_times_fold,\n",
    "                    random_seed = SEED, \n",
    "                    classifier_function=classifier_function, \n",
    "                    dic_classifier_params=dic_classifier_params,\n",
    "                    one_vs_classifier=OneVsRestClassifier, \n",
    "                    dic_training_params=dic_training_params,\n",
    "                    print_each_fold_metric=True,\n",
    "                    print_avg_metric=True)\n",
    "    scores_list.append(scores)\n",
    "    f1scores_list.append(f1scores)\n",
    "    negativities_list.append(output_dict[\"negativities\"])"
   ]
  },
  {
   "cell_type": "code",
   "execution_count": 13,
   "id": "edf6b067",
   "metadata": {},
   "outputs": [
    {
     "name": "stdout",
     "output_type": "stream",
     "text": [
      "[[0.5555555555555556, 0.5, 0.6666666666666666, 0.7222222222222222, 0.8333333333333334, 0.5555555555555556, 0.5555555555555556, 0.7777777777777778, 0.5294117647058824, 0.6470588235294118], [0.7222222222222222, 0.7222222222222222, 0.6111111111111112, 0.5, 0.6666666666666666, 0.7777777777777778, 0.5555555555555556, 0.6111111111111112, 0.5294117647058824, 0.6470588235294118], [0.5555555555555556, 0.6666666666666666, 0.5555555555555556, 0.6666666666666666, 0.6111111111111112, 0.8333333333333334, 0.6111111111111112, 0.5555555555555556, 0.6470588235294118, 0.6470588235294118], [0.7222222222222222, 0.7777777777777778, 0.5, 0.7777777777777778, 0.4444444444444444, 0.6666666666666666, 0.5555555555555556, 0.6111111111111112, 0.5882352941176471, 0.5294117647058824], [0.5, 0.6666666666666666, 0.3888888888888889, 0.5, 0.6666666666666666, 0.6111111111111112, 0.6111111111111112, 0.5555555555555556, 0.7647058823529411, 0.7058823529411765], [0.7777777777777778, 0.7222222222222222, 0.5555555555555556, 0.6666666666666666, 0.6666666666666666, 0.6666666666666666, 0.6111111111111112, 0.5555555555555556, 0.5294117647058824, 0.6470588235294118], [0.6111111111111112, 0.6111111111111112, 0.5555555555555556, 0.5, 0.6666666666666666, 0.5, 0.7777777777777778, 0.6111111111111112, 0.6470588235294118, 0.8235294117647058], [0.7777777777777778, 0.6111111111111112, 0.7222222222222222, 0.6111111111111112, 0.7777777777777778, 0.6111111111111112, 0.6111111111111112, 0.5, 0.6470588235294118, 0.5294117647058824], [0.5555555555555556, 0.7222222222222222, 0.6666666666666666, 0.5, 0.6666666666666666, 0.5, 0.6666666666666666, 0.5555555555555556, 0.7058823529411765, 0.7647058823529411], [0.7222222222222222, 0.6666666666666666, 0.7222222222222222, 0.6666666666666666, 0.6666666666666666, 0.6111111111111112, 0.5555555555555556, 0.5, 0.5294117647058824, 0.47058823529411764], [0.6666666666666666, 0.5555555555555556, 0.6666666666666666, 0.7777777777777778, 0.4444444444444444, 0.6111111111111112, 0.6666666666666666, 0.5555555555555556, 0.6470588235294118, 0.6470588235294118], [0.5555555555555556, 0.5, 0.6666666666666666, 0.6666666666666666, 0.7222222222222222, 0.6111111111111112, 0.6111111111111112, 0.6111111111111112, 0.6470588235294118, 0.7058823529411765], [0.7222222222222222, 0.4444444444444444, 0.5555555555555556, 0.6666666666666666, 0.5555555555555556, 0.6111111111111112, 0.5, 0.7222222222222222, 0.5882352941176471, 0.7647058823529411], [0.6111111111111112, 0.7222222222222222, 0.6111111111111112, 0.6111111111111112, 0.6666666666666666, 0.6666666666666666, 0.7777777777777778, 0.5555555555555556, 0.7058823529411765, 0.6470588235294118], [0.7222222222222222, 0.6666666666666666, 0.6111111111111112, 0.5, 0.7222222222222222, 0.6111111111111112, 0.6111111111111112, 0.5555555555555556, 0.5882352941176471, 0.5882352941176471], [0.6111111111111112, 0.6111111111111112, 0.6111111111111112, 0.5, 0.6666666666666666, 0.6666666666666666, 0.5555555555555556, 0.6111111111111112, 0.7058823529411765, 0.8235294117647058], [0.6666666666666666, 0.6111111111111112, 0.5, 0.6111111111111112, 0.6111111111111112, 0.6666666666666666, 0.6111111111111112, 0.6111111111111112, 0.5882352941176471, 0.7058823529411765], [0.7777777777777778, 0.7222222222222222, 0.5, 0.6111111111111112, 0.5, 0.6666666666666666, 0.4444444444444444, 0.7222222222222222, 0.7058823529411765, 0.6470588235294118], [0.7777777777777778, 0.8333333333333334, 0.6666666666666666, 0.6111111111111112, 0.3333333333333333, 0.6111111111111112, 0.7222222222222222, 0.5555555555555556, 0.6470588235294118, 0.5882352941176471], [0.5, 0.7777777777777778, 0.6111111111111112, 0.6111111111111112, 0.6111111111111112, 0.6666666666666666, 0.7777777777777778, 0.3333333333333333, 0.5294117647058824, 0.9411764705882353]]\n"
     ]
    }
   ],
   "source": [
    "print(scores_list)"
   ]
  },
  {
   "cell_type": "code",
   "execution_count": 14,
   "id": "113e5328",
   "metadata": {},
   "outputs": [
    {
     "data": {
      "text/plain": [
       "0.6283169934640523"
      ]
     },
     "execution_count": 14,
     "metadata": {},
     "output_type": "execute_result"
    }
   ],
   "source": [
    "import numpy as np\n",
    "np.mean([np.mean(i) for i in scores_list])"
   ]
  },
  {
   "cell_type": "code",
   "execution_count": 15,
   "id": "5d5fcbfa",
   "metadata": {},
   "outputs": [
    {
     "data": {
      "text/plain": [
       "[0.6343137254901962,\n",
       " 0.634313725490196,\n",
       " 0.6349673202614381,\n",
       " 0.6173202614379084,\n",
       " 0.5970588235294118,\n",
       " 0.6398692810457517,\n",
       " 0.6303921568627451,\n",
       " 0.6398692810457517,\n",
       " 0.6303921568627451,\n",
       " 0.611111111111111,\n",
       " 0.6238562091503269,\n",
       " 0.6297385620915034,\n",
       " 0.6130718954248366,\n",
       " 0.6575163398692812,\n",
       " 0.6176470588235293,\n",
       " 0.6362745098039216,\n",
       " 0.6183006535947713,\n",
       " 0.6297385620915034,\n",
       " 0.634640522875817,\n",
       " 0.6359477124183007]"
      ]
     },
     "execution_count": 15,
     "metadata": {},
     "output_type": "execute_result"
    }
   ],
   "source": [
    "[np.mean(i) for i in scores_list]"
   ]
  },
  {
   "cell_type": "code",
   "execution_count": 16,
   "id": "168e8aff",
   "metadata": {},
   "outputs": [
    {
     "name": "stdout",
     "output_type": "stream",
     "text": [
      "Media Score dos N K-Fold 0.6283169934640523\n",
      "Maior Score dos K-Fold 0.6575163398692812\n",
      "Menor Score dos K-Fold 0.5970588235294118\n",
      "\n",
      "\n",
      "[[0.5555555555555556, 0.5, 0.6666666666666666, 0.7222222222222222, 0.8333333333333334, 0.5555555555555556, 0.5555555555555556, 0.7777777777777778, 0.5294117647058824, 0.6470588235294118], [0.7222222222222222, 0.7222222222222222, 0.6111111111111112, 0.5, 0.6666666666666666, 0.7777777777777778, 0.5555555555555556, 0.6111111111111112, 0.5294117647058824, 0.6470588235294118], [0.5555555555555556, 0.6666666666666666, 0.5555555555555556, 0.6666666666666666, 0.6111111111111112, 0.8333333333333334, 0.6111111111111112, 0.5555555555555556, 0.6470588235294118, 0.6470588235294118], [0.7222222222222222, 0.7777777777777778, 0.5, 0.7777777777777778, 0.4444444444444444, 0.6666666666666666, 0.5555555555555556, 0.6111111111111112, 0.5882352941176471, 0.5294117647058824], [0.5, 0.6666666666666666, 0.3888888888888889, 0.5, 0.6666666666666666, 0.6111111111111112, 0.6111111111111112, 0.5555555555555556, 0.7647058823529411, 0.7058823529411765], [0.7777777777777778, 0.7222222222222222, 0.5555555555555556, 0.6666666666666666, 0.6666666666666666, 0.6666666666666666, 0.6111111111111112, 0.5555555555555556, 0.5294117647058824, 0.6470588235294118], [0.6111111111111112, 0.6111111111111112, 0.5555555555555556, 0.5, 0.6666666666666666, 0.5, 0.7777777777777778, 0.6111111111111112, 0.6470588235294118, 0.8235294117647058], [0.7777777777777778, 0.6111111111111112, 0.7222222222222222, 0.6111111111111112, 0.7777777777777778, 0.6111111111111112, 0.6111111111111112, 0.5, 0.6470588235294118, 0.5294117647058824], [0.5555555555555556, 0.7222222222222222, 0.6666666666666666, 0.5, 0.6666666666666666, 0.5, 0.6666666666666666, 0.5555555555555556, 0.7058823529411765, 0.7647058823529411], [0.7222222222222222, 0.6666666666666666, 0.7222222222222222, 0.6666666666666666, 0.6666666666666666, 0.6111111111111112, 0.5555555555555556, 0.5, 0.5294117647058824, 0.47058823529411764], [0.6666666666666666, 0.5555555555555556, 0.6666666666666666, 0.7777777777777778, 0.4444444444444444, 0.6111111111111112, 0.6666666666666666, 0.5555555555555556, 0.6470588235294118, 0.6470588235294118], [0.5555555555555556, 0.5, 0.6666666666666666, 0.6666666666666666, 0.7222222222222222, 0.6111111111111112, 0.6111111111111112, 0.6111111111111112, 0.6470588235294118, 0.7058823529411765], [0.7222222222222222, 0.4444444444444444, 0.5555555555555556, 0.6666666666666666, 0.5555555555555556, 0.6111111111111112, 0.5, 0.7222222222222222, 0.5882352941176471, 0.7647058823529411], [0.6111111111111112, 0.7222222222222222, 0.6111111111111112, 0.6111111111111112, 0.6666666666666666, 0.6666666666666666, 0.7777777777777778, 0.5555555555555556, 0.7058823529411765, 0.6470588235294118], [0.7222222222222222, 0.6666666666666666, 0.6111111111111112, 0.5, 0.7222222222222222, 0.6111111111111112, 0.6111111111111112, 0.5555555555555556, 0.5882352941176471, 0.5882352941176471], [0.6111111111111112, 0.6111111111111112, 0.6111111111111112, 0.5, 0.6666666666666666, 0.6666666666666666, 0.5555555555555556, 0.6111111111111112, 0.7058823529411765, 0.8235294117647058], [0.6666666666666666, 0.6111111111111112, 0.5, 0.6111111111111112, 0.6111111111111112, 0.6666666666666666, 0.6111111111111112, 0.6111111111111112, 0.5882352941176471, 0.7058823529411765], [0.7777777777777778, 0.7222222222222222, 0.5, 0.6111111111111112, 0.5, 0.6666666666666666, 0.4444444444444444, 0.7222222222222222, 0.7058823529411765, 0.6470588235294118], [0.7777777777777778, 0.8333333333333334, 0.6666666666666666, 0.6111111111111112, 0.3333333333333333, 0.6111111111111112, 0.7222222222222222, 0.5555555555555556, 0.6470588235294118, 0.5882352941176471], [0.5, 0.7777777777777778, 0.6111111111111112, 0.6111111111111112, 0.6111111111111112, 0.6666666666666666, 0.7777777777777778, 0.3333333333333333, 0.5294117647058824, 0.9411764705882353]]\n"
     ]
    }
   ],
   "source": [
    "print(\"Media Score dos N K-Fold\", np.mean([np.mean(i) for i in scores_list]))\n",
    "print(\"Maior Score dos K-Fold\", max([np.mean(i) for i in scores_list]))\n",
    "print(\"Menor Score dos K-Fold\", min([np.mean(i) for i in scores_list]))\n",
    "\n",
    "print()\n",
    "print()\n",
    "print(scores_list)"
   ]
  },
  {
   "cell_type": "code",
   "execution_count": 17,
   "id": "fcd239e5",
   "metadata": {},
   "outputs": [
    {
     "name": "stdout",
     "output_type": "stream",
     "text": [
      "Media F1Score dos N K-Fold 0.5883416972890657\n",
      "Maior F1Score dos K-Fold 0.9474747474747475\n",
      "Menor F1Score dos K-Fold 0.2518518518518518\n",
      "\n",
      "\n",
      "[0.4518518518518519, 0.7428571428571429, 0.6015873015873016, 0.5079365079365079, 0.5515873015873015, 0.5991493886230729, 0.7410256410256411, 0.2518518518518518, 0.48809523809523814, 0.9474747474747475]\n"
     ]
    }
   ],
   "source": [
    "print(\"Media F1Score dos N K-Fold\", np.mean([np.mean(i) for i in f1scores]))\n",
    "print(\"Maior F1Score dos K-Fold\", max([np.mean(i) for i in f1scores]))\n",
    "print(\"Menor F1Score dos K-Fold\", min([np.mean(i) for i in f1scores]))\n",
    "\n",
    "print()\n",
    "print()\n",
    "print(f1scores)"
   ]
  },
  {
   "cell_type": "code",
   "execution_count": 18,
   "id": "35ede4ea",
   "metadata": {},
   "outputs": [
    {
     "name": "stdout",
     "output_type": "stream",
     "text": [
      "Media Negativity dos N K-Fold [0.23179028653624595, 0.18883916814214352, 0.2092502227014136]\n",
      "\n",
      "\n",
      "[[[0.2287500234074185, 0.2344097172841239, 0.23214613555407482, 0.23071043202582914, 0.23444955475274995, 0.23045531084469273, 0.227438112478225, 0.22902873368658946, 0.2320890805053367, 0.23701841012413136], [0.18768501726288073, 0.18711142828969615, 0.18896368843068465, 0.18772390572348646, 0.1887866955578964, 0.18811978741937016, 0.18625389864396402, 0.1875640228410468, 0.19340986512469482, 0.20802124978078118], [0.20778832507482584, 0.20879406456207994, 0.21060162219387057, 0.20900123590329944, 0.21201794606917163, 0.2101411682482891, 0.2072457346899316, 0.20801987438623745, 0.207829946498617, 0.20989449796319049]], [[0.2299340726376911, 0.22999036897826974, 0.2280263911479788, 0.22661226255487982, 0.2288477434772965, 0.23935913637878167, 0.23188856544464537, 0.2341054414707785, 0.23070200981481964, 0.23606088309786669], [0.18773463902914533, 0.18890340880251402, 0.18803352633586753, 0.18825254870093186, 0.18624670201885715, 0.18907139022482372, 0.18751285841665336, 0.18750727544799872, 0.18738552909692444, 0.21212518519268825], [0.208986013380995, 0.2078723039374609, 0.20675551045990603, 0.20662745835322513, 0.20781873582444607, 0.21544097175297094, 0.20752796503311072, 0.21085506045641117, 0.20890126502075648, 0.21206765430197766]], [[0.23255779998551557, 0.22682520550955715, 0.22616409986162248, 0.23624808972767644, 0.2314341462528101, 0.23329902412233508, 0.23527146517496414, 0.23142306042277122, 0.22805126058191355, 0.2372515781560917], [0.20278050087543986, 0.1887676349522466, 0.18841359048145573, 0.18861757810243654, 0.18761827784743715, 0.18745088676551125, 0.18848918028672804, 0.18791893675163768, 0.18737643795444459, 0.1875036861008984], [0.21033566636732853, 0.20683726788539905, 0.20679473248665065, 0.21171902264594583, 0.20879940133507502, 0.20927356472489983, 0.20953067060037378, 0.21044009558502752, 0.20828679313832865, 0.21024566930161595]], [[0.23218255765283727, 0.2294470601513115, 0.23168623879952965, 0.23168282291171327, 0.23631937949930204, 0.22984364086469278, 0.23331842237303568, 0.23631370239366703, 0.2269463276388759, 0.23096274447429166], [0.1880400451833761, 0.18763798234395432, 0.18693764357866727, 0.18668157213134556, 0.18735737331671964, 0.18784080251539584, 0.18751849420547928, 0.18898658542094035, 0.18665774420164571, 0.1891307770019861], [0.2091495634907574, 0.20841338501701617, 0.2090257330103983, 0.20906867814803842, 0.21032878273750566, 0.2103105010796167, 0.21008525074839043, 0.21047577320586733, 0.20687747982275925, 0.20771747488751174]], [[0.22916648442023663, 0.22824368807697537, 0.23436310462600968, 0.22703754902623427, 0.23048853643191844, 0.23739577303345985, 0.23035258201685954, 0.22802990152738342, 0.23397343672904936, 0.23760118487617402], [0.18813182847527343, 0.18981730687924697, 0.1876962752880058, 0.18769944587434104, 0.19009941680920928, 0.19467723092093525, 0.18791676878512087, 0.18793503513850632, 0.18857342384634848, 0.20963953621683526], [0.20692982414933034, 0.20743060832815605, 0.20876319373212465, 0.2058674079033983, 0.2103430726480503, 0.21134598018659367, 0.20886416008974748, 0.2074762293310658, 0.2105663845186727, 0.2128672358061162]], [[0.2336005326165153, 0.2300583226335079, 0.23514945810715215, 0.23074267206024845, 0.23401514951164268, 0.2293596775816843, 0.22880385813041343, 0.2270363300307848, 0.23403744016798864, 0.23511355659199967], [0.1879364509632229, 0.18721135285709287, 0.18689788827026424, 0.1870990788367825, 0.18791793744251728, 0.18927506057223706, 0.18802196382638695, 0.1872873229138083, 0.18769028278519342, 0.18891741666701095], [0.2109175940561657, 0.2098979891367202, 0.20906307483438374, 0.20872899099112965, 0.21094564232450322, 0.20928014728606434, 0.2070514503853086, 0.2088954264764157, 0.2088145483811352, 0.2094509938287336]], [[0.23758091045902466, 0.2281548697857922, 0.23757131364444714, 0.23119195515518992, 0.23129630716915528, 0.22900407860963615, 0.2311146044131896, 0.23123345666468614, 0.2307602476009185, 0.23490259049394768], [0.19041128737671928, 0.1876985577566369, 0.18851589357751183, 0.1883003231399284, 0.18715131130100043, 0.18776269661965792, 0.18755295679829423, 0.1869129685350768, 0.18779014435471258, 0.18750530460538173], [0.21041472116082557, 0.20772803950289098, 0.21111394033406408, 0.2071833257502034, 0.21032118484506002, 0.2061851335682393, 0.20931053459488078, 0.21165180286525398, 0.20956731809030896, 0.2096841733132004]], [[0.23085686180484385, 0.23552469720463057, 0.23160941057038759, 0.2297141967683983, 0.2327782435153023, 0.23001344482071173, 0.2281179472217014, 0.2315214175543627, 0.23205901197706758, 0.2358401990490177], [0.18796245750469798, 0.1862231250783976, 0.1874340307406015, 0.18871309708078624, 0.1889279835101497, 0.18701091922615812, 0.18690553486695283, 0.18751201340015775, 0.1928211915565061, 0.1875217776698912], [0.20932302092956878, 0.20813980712488075, 0.21072335127891603, 0.20876200258398223, 0.21038943168699772, 0.20830742242694303, 0.20960748271351756, 0.20754409629575443, 0.21000729900193107, 0.21003325463723346]], [[0.2293486634463496, 0.2333968261712663, 0.23120135621327742, 0.22702988999037224, 0.23319307050388108, 0.2302552697826853, 0.2290173979562643, 0.23391631332557708, 0.23058009540220523, 0.24010320558250953], [0.1875302095839686, 0.1891664176672957, 0.20062353961090396, 0.18749254870602403, 0.18720815089400375, 0.1866895920690266, 0.18633607223217966, 0.18731381802637775, 0.1889549904794225, 0.18833829068958952], [0.20755646155748794, 0.21179650702609576, 0.2080757523903326, 0.20729704564216944, 0.2110561438031298, 0.20885319352025938, 0.20865864692503136, 0.20828461539795173, 0.20836413951119367, 0.21264430929487954]], [[0.2325075378589567, 0.23220691515785136, 0.22808708538715644, 0.23657059626222882, 0.2303275934094694, 0.23070805806919015, 0.23563777242737435, 0.23021661714281727, 0.2244711228951905, 0.23529883982579533], [0.18917673437188867, 0.18764450261144133, 0.19269114387656883, 0.19439257674824809, 0.18652470978270405, 0.18682136784276301, 0.18801446847512193, 0.19050723157299207, 0.20071067088277658, 0.1873176522439189], [0.20904679781741348, 0.20940003144945657, 0.20719980894888687, 0.21033499810393605, 0.20857437790184033, 0.2083242995642798, 0.2112116793961392, 0.20942203116197153, 0.20560537478890498, 0.21378473119957664]], [[0.2323539611703329, 0.2336981338980455, 0.23096627377080747, 0.2339919180692658, 0.22894073771804915, 0.22588962502932153, 0.22960561408648392, 0.23527797893523944, 0.22537921694228505, 0.2385029813123258], [0.18795978358202048, 0.20144995972857688, 0.18695894267954427, 0.18790721958586604, 0.19062252691846823, 0.18915466424846247, 0.1878187073640134, 0.1872679340664939, 0.18773110536225157, 0.1879340012346016], [0.20951194513561422, 0.20985020458733722, 0.2094973562089485, 0.2098215718693051, 0.2078222326503407, 0.20653284853713016, 0.20851220811605195, 0.21417707122178745, 0.20555797431515732, 0.21269315886095916]], [[0.23419154366055636, 0.23107537294924108, 0.23180341404781993, 0.23082904016937894, 0.2376301927378862, 0.2280147620167528, 0.23483886317831074, 0.23044239587698323, 0.22902772802605045, 0.23159372144408336], [0.1883099441016861, 0.1871450912867381, 0.18828641525025405, 0.18741617391392296, 0.1884835483203418, 0.18820950127959762, 0.18914898703259533, 0.18747572104541002, 0.18711826447137114, 0.18784947078903522], [0.2094993197156022, 0.20658810970370964, 0.2086546106869265, 0.20665164598633806, 0.21431068125824046, 0.20690135828123318, 0.2116851763583226, 0.20907100086446484, 0.2096081599196256, 0.20778633525018458]], [[0.2318219577540199, 0.22816989427330517, 0.23892024374520174, 0.23116477916650174, 0.22681668158420928, 0.23101243795497334, 0.22532595285452672, 0.23190916658998775, 0.23221412494591362, 0.23685318764917848], [0.1896903166232501, 0.18733290260448868, 0.18730246805326334, 0.18725812356273638, 0.1924476662462947, 0.18768290177780333, 0.18763853929943908, 0.18716218760164197, 0.18633127972947994, 0.1876409343108605], [0.2103145818505735, 0.20699379155719416, 0.2121638965544107, 0.21040674465020123, 0.20678113484712743, 0.20882074377779883, 0.20557734695473545, 0.20904220687394623, 0.21062578337761406, 0.21236225412797707]], [[0.2399371546802295, 0.22933918721561725, 0.22681132621658262, 0.23169674365907567, 0.22996969239929932, 0.23556473736816427, 0.233604159426091, 0.2281484857974421, 0.2349527836483255, 0.23338369460679806], [0.1889329618607716, 0.18560782394995687, 0.190315041634825, 0.18672903881938774, 0.1887159725202348, 0.18755697275668598, 0.18663689183786275, 0.19446483690360894, 0.18952413009848335, 0.18631480873251463], [0.21113477326087937, 0.2073721853638339, 0.2069297687811115, 0.21111833571263372, 0.20931564912447664, 0.21020722491159907, 0.20974806117926814, 0.20842404914778512, 0.2093605530057825, 0.20835171670395958]], [[0.23372663331473534, 0.2285123177208534, 0.22990756710533608, 0.23270176183035504, 0.23293245120733574, 0.2311085899139013, 0.23247982972281556, 0.22628685402744997, 0.23537969902359562, 0.23305940272225367], [0.18746142552320644, 0.1882737460635796, 0.18759687110496218, 0.18770571609265152, 0.1878738619254243, 0.18967355620144988, 0.18774460266550366, 0.1865932779004036, 0.1857687377562093, 0.1877559463492305], [0.21256661127148999, 0.20765766468633384, 0.20859329230580798, 0.20901757901538398, 0.21186783859684002, 0.20791857402232686, 0.2095913629042188, 0.20627336359050308, 0.20867124552167557, 0.21120409974885754]], [[0.23408864918918137, 0.22964304631995983, 0.24043965906858322, 0.23453000699527848, 0.2327905258486848, 0.2326597613728569, 0.22613869972285347, 0.2249912349403541, 0.22881826828306429, 0.23465708983538971], [0.18738645245577198, 0.18759300540976606, 0.18666075491927747, 0.18752947763445474, 0.18774520062365788, 0.18739258782515997, 0.18738088653839197, 0.18710309719736448, 0.18678945353209347, 0.19581676826399463], [0.20875518961540568, 0.20824700840184143, 0.21183393033738382, 0.2109703292852637, 0.21091377150549112, 0.21019010191415147, 0.2064783909839437, 0.2061914063185286, 0.2079203233712687, 0.21133354852495587]], [[0.23364664334163399, 0.2251577383474856, 0.23021658168517042, 0.2313894436207985, 0.23583026921557457, 0.23266090179199045, 0.22869947433020432, 0.22865133889419503, 0.236929346561666, 0.23150336105317515], [0.18765750704692188, 0.1880392543950586, 0.18761036741191708, 0.18730581455460077, 0.1873997718199094, 0.18732322401290277, 0.18649742888834936, 0.18729024472144207, 0.1896820920588851, 0.18867347662149622], [0.21086675074404565, 0.2068929802473567, 0.2084769911098941, 0.2096122216528016, 0.2091675906602564, 0.21140473260977474, 0.20938375437339973, 0.2075336420650582, 0.20970069316376622, 0.20922017916032196]], [[0.2371907306634355, 0.232206410550512, 0.2405833214680223, 0.2288204377055714, 0.22831024175797632, 0.23283205900323323, 0.2327592765507698, 0.2298019992243112, 0.22411849697780248, 0.23307642888980942], [0.18657284332323087, 0.18695068038950355, 0.1898015788895474, 0.20216224538288882, 0.18751525585075515, 0.18868092309518325, 0.18694431127220348, 0.18581210862188874, 0.18944651357437192, 0.18911736700805706], [0.21041039742510448, 0.20951094849425533, 0.21379854026535547, 0.20772030624068452, 0.20723415646514706, 0.21183650281047933, 0.20878463160421717, 0.20879942079490388, 0.20573855976312488, 0.20867979353486485]], [[0.23798908774095157, 0.23231276631891212, 0.23106464691158335, 0.23869094127259569, 0.22887580435947294, 0.227172895046504, 0.22949622426424543, 0.23395819727388434, 0.22990978229509906, 0.23071844167577638], [0.18777115121764562, 0.18780241965476513, 0.1859054452596999, 0.18727049684103095, 0.18716787839535703, 0.1884554510802667, 0.18747195659645774, 0.19450714379017622, 0.18748196696362676, 0.1868483064255729], [0.2116193548472988, 0.20976047234426615, 0.20888052472584753, 0.21023507397147234, 0.20656260662098924, 0.2065991024789301, 0.20775020213792056, 0.20996094090327863, 0.2116112381606613, 0.2099387016442048]], [[0.22762221407734337, 0.23304095392618926, 0.2320347415438383, 0.2343292457667251, 0.22684353096351625, 0.23917841238905885, 0.23283934793059968, 0.22582549892777207, 0.231003467604767, 0.23550444887775052], [0.18892441719491812, 0.18726789690994433, 0.1877048548766323, 0.20309017980640423, 0.18664343039934467, 0.18718642759090492, 0.18683169460638682, 0.18812739157258807, 0.19005322830031113, 0.19079205604673793], [0.20695309226786035, 0.21124284184198375, 0.2094158184578508, 0.21047163446880232, 0.20680504115384984, 0.21159142122275643, 0.21002515629098928, 0.20631876444703723, 0.21177754477518926, 0.2088817082961747]]]\n"
     ]
    }
   ],
   "source": [
    "print(\"Media Negativity dos N K-Fold\", [np.mean([neg[i] for neg in negativities_list]) for i in range(len(set(y)))])\n",
    "\n",
    "print()\n",
    "print()\n",
    "print(negativities_list)"
   ]
  }
 ],
 "metadata": {
  "kernelspec": {
   "display_name": "Python 3",
   "language": "python",
   "name": "python3"
  },
  "language_info": {
   "codemirror_mode": {
    "name": "ipython",
    "version": 3
   },
   "file_extension": ".py",
   "mimetype": "text/x-python",
   "name": "python",
   "nbconvert_exporter": "python",
   "pygments_lexer": "ipython3",
   "version": "3.9.16"
  }
 },
 "nbformat": 4,
 "nbformat_minor": 5
}
