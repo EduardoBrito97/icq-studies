{
 "cells": [
  {
   "cell_type": "code",
   "execution_count": 1,
   "id": "0db239e0",
   "metadata": {},
   "outputs": [
    {
     "name": "stderr",
     "output_type": "stream",
     "text": [
      "Intel(R) Extension for Scikit-learn* enabled (https://github.com/intel/scikit-learn-intelex)\n"
     ]
    }
   ],
   "source": [
    "import sys, os\n",
    "sys.path.append(os.path.abspath('../../classifiers'))\n",
    "sys.path.append(os.path.abspath('../../training'))\n",
    "sys.path.append(os.path.abspath('../../validation'))\n",
    "from validation_functions import execute_training_test_k_fold\n",
    "from classifiers_ICQ import iqc_classifier\n",
    "\n",
    "from sklearn.multiclass import OneVsRestClassifier\n",
    "import numpy as np\n",
    "from sklearn import datasets\n",
    "\n",
    "wine = datasets.load_wine()\n",
    "\n",
    "X = wine.data[:, [0,1,2,3,4,5,6,7,8,9,10,11,12]]\n",
    "y = wine.target\n",
    "\n",
    "X = np.c_[X, np.ones((178,3))] #padding = 16 attributes"
   ]
  },
  {
   "cell_type": "code",
   "execution_count": 2,
   "id": "1ad66125",
   "metadata": {},
   "outputs": [],
   "source": [
    "classifier_function = iqc_classifier\n",
    "dic_classifier_params = {}\n",
    "dic_classifier_params[\"sigma_q_params\"] = [1,1,1,0]\n",
    "dic_classifier_params[\"use_polar_coordinates_on_sigma_q\"] = False\n",
    "dic_classifier_params[\"load_inputvector_env_state\"] = False\n",
    "dic_classifier_params[\"normalize_axis\"] = 0\n",
    "\n",
    "dic_training_params = {\"max_iter\": 1000,\n",
    "    \"accuracy_succ\": 0.99,\n",
    "    \"plot_graphs_and_metrics\": False,\n",
    "    \"plot_graphs_in_classifier\": False,\n",
    "    \"random_seed\": 1,\n",
    "    \"learning_rate\": 0.009,\n",
    "    \"refit_db\":True,\n",
    "    \"reset_weights_epoch\":0,\n",
    "    \"do_classes_refit\":True,\n",
    "    \"batch\":False}\n",
    "\n",
    "n_times_kfold = 20\n",
    "k_times_fold = 10"
   ]
  },
  {
   "cell_type": "code",
   "execution_count": 3,
   "id": "8522d868",
   "metadata": {},
   "outputs": [
    {
     "name": "stderr",
     "output_type": "stream",
     "text": [
      "[Parallel(n_jobs=-1)]: Using backend LokyBackend with 12 concurrent workers.\n",
      "[Parallel(n_jobs=-1)]: Done   3 out of   3 | elapsed:  2.1min finished\n"
     ]
    },
    {
     "name": "stdout",
     "output_type": "stream",
     "text": [
      "K-Fold #0\n",
      "Mean negativities for all classes: [0.3844550296336685, 0.37947269992273314, 0.3802419205420075]\n",
      "Mean entropies for all classes: [5.829896468489783e-15, 6.369956158194471e-15, 6.648218963602303e-15]\n",
      "              precision    recall  f1-score   support\n",
      "\n",
      "           0       0.22      0.33      0.27         6\n",
      "           1       0.50      0.14      0.22         7\n",
      "           2       0.29      0.40      0.33         5\n",
      "\n",
      "    accuracy                           0.28        18\n",
      "   macro avg       0.34      0.29      0.27        18\n",
      "weighted avg       0.35      0.28      0.27        18\n",
      "\n",
      "-------------------------------------------------------------------------------------------------------------------\n"
     ]
    },
    {
     "name": "stderr",
     "output_type": "stream",
     "text": [
      "[Parallel(n_jobs=-1)]: Using backend LokyBackend with 12 concurrent workers.\n",
      "[Parallel(n_jobs=-1)]: Done   3 out of   3 | elapsed:  2.1min finished\n"
     ]
    },
    {
     "name": "stdout",
     "output_type": "stream",
     "text": [
      "K-Fold #1\n",
      "Mean negativities for all classes: [0.38381824744316667, 0.379231782757562, 0.3838417610583084]\n",
      "Mean entropies for all classes: [6.487240462311617e-15, 7.0425249946513745e-15, 6.79559253683788e-15]\n",
      "              precision    recall  f1-score   support\n",
      "\n",
      "           0       0.22      0.33      0.27         6\n",
      "           1       0.00      0.00      0.00         7\n",
      "           2       0.14      0.20      0.17         5\n",
      "\n",
      "    accuracy                           0.17        18\n",
      "   macro avg       0.12      0.18      0.14        18\n",
      "weighted avg       0.11      0.17      0.14        18\n",
      "\n",
      "-------------------------------------------------------------------------------------------------------------------\n"
     ]
    },
    {
     "name": "stderr",
     "output_type": "stream",
     "text": [
      "[Parallel(n_jobs=-1)]: Using backend LokyBackend with 12 concurrent workers.\n",
      "[Parallel(n_jobs=-1)]: Done   3 out of   3 | elapsed:  2.1min finished\n"
     ]
    },
    {
     "name": "stdout",
     "output_type": "stream",
     "text": [
      "K-Fold #2\n",
      "Mean negativities for all classes: [0.3877596115502166, 0.37935795338053985, 0.38194855478078515]\n",
      "Mean entropies for all classes: [6.1593718356159254e-15, 6.650689314833858e-15, 5.900736385076169e-15]\n",
      "              precision    recall  f1-score   support\n",
      "\n",
      "           0       0.29      0.33      0.31         6\n",
      "           1       0.00      0.00      0.00         7\n",
      "           2       0.20      0.40      0.27         5\n",
      "\n",
      "    accuracy                           0.22        18\n",
      "   macro avg       0.16      0.24      0.19        18\n",
      "weighted avg       0.15      0.22      0.18        18\n",
      "\n",
      "-------------------------------------------------------------------------------------------------------------------\n"
     ]
    },
    {
     "name": "stderr",
     "output_type": "stream",
     "text": [
      "[Parallel(n_jobs=-1)]: Using backend LokyBackend with 12 concurrent workers.\n",
      "[Parallel(n_jobs=-1)]: Done   3 out of   3 | elapsed:  2.0min finished\n"
     ]
    },
    {
     "name": "stdout",
     "output_type": "stream",
     "text": [
      "K-Fold #3\n",
      "Mean negativities for all classes: [0.38507339361586745, 0.3726884507001393, 0.3763688797271016]\n",
      "Mean entropies for all classes: [6.6476182114208695e-15, 6.5203029548851325e-15, 6.671594591411491e-15]\n",
      "              precision    recall  f1-score   support\n",
      "\n",
      "           0       0.33      0.17      0.22         6\n",
      "           1       0.00      0.00      0.00         7\n",
      "           2       0.09      0.20      0.13         5\n",
      "\n",
      "    accuracy                           0.11        18\n",
      "   macro avg       0.14      0.12      0.12        18\n",
      "weighted avg       0.14      0.11      0.11        18\n",
      "\n",
      "-------------------------------------------------------------------------------------------------------------------\n"
     ]
    },
    {
     "name": "stderr",
     "output_type": "stream",
     "text": [
      "[Parallel(n_jobs=-1)]: Using backend LokyBackend with 12 concurrent workers.\n",
      "[Parallel(n_jobs=-1)]: Done   3 out of   3 | elapsed:  2.0min finished\n"
     ]
    },
    {
     "name": "stdout",
     "output_type": "stream",
     "text": [
      "K-Fold #4\n",
      "Mean negativities for all classes: [0.3881015124251099, 0.3879759284786773, 0.3806908427840876]\n",
      "Mean entropies for all classes: [6.515100642668214e-15, 6.510217928722728e-15, 6.1382667081224724e-15]\n",
      "              precision    recall  f1-score   support\n",
      "\n",
      "           0       0.43      0.50      0.46         6\n",
      "           1       0.00      0.00      0.00         7\n",
      "           2       0.22      0.40      0.29         5\n",
      "\n",
      "    accuracy                           0.28        18\n",
      "   macro avg       0.22      0.30      0.25        18\n",
      "weighted avg       0.20      0.28      0.23        18\n",
      "\n",
      "-------------------------------------------------------------------------------------------------------------------\n"
     ]
    },
    {
     "name": "stderr",
     "output_type": "stream",
     "text": [
      "[Parallel(n_jobs=-1)]: Using backend LokyBackend with 12 concurrent workers.\n",
      "[Parallel(n_jobs=-1)]: Done   3 out of   3 | elapsed:  2.0min finished\n"
     ]
    },
    {
     "name": "stdout",
     "output_type": "stream",
     "text": [
      "K-Fold #5\n",
      "Mean negativities for all classes: [0.38647947711122854, 0.3837202991928884, 0.3745555934109635]\n",
      "Mean entropies for all classes: [5.943025697652239e-15, 6.332371755201667e-15, 6.527281654314225e-15]\n",
      "              precision    recall  f1-score   support\n",
      "\n",
      "           0       0.50      0.83      0.62         6\n",
      "           1       0.00      0.00      0.00         7\n",
      "           2       0.00      0.00      0.00         5\n",
      "\n",
      "    accuracy                           0.28        18\n",
      "   macro avg       0.17      0.28      0.21        18\n",
      "weighted avg       0.17      0.28      0.21        18\n",
      "\n",
      "-------------------------------------------------------------------------------------------------------------------\n"
     ]
    },
    {
     "name": "stderr",
     "output_type": "stream",
     "text": [
      "[Parallel(n_jobs=-1)]: Using backend LokyBackend with 12 concurrent workers.\n",
      "[Parallel(n_jobs=-1)]: Done   3 out of   3 | elapsed:  2.0min finished\n"
     ]
    },
    {
     "name": "stdout",
     "output_type": "stream",
     "text": [
      "K-Fold #6\n",
      "Mean negativities for all classes: [0.3812516673989166, 0.37433219684776464, 0.3779093082541954]\n",
      "Mean entropies for all classes: [6.297828607269543e-15, 6.418935327140456e-15, 6.595406252179528e-15]\n",
      "              precision    recall  f1-score   support\n",
      "\n",
      "           0       0.40      0.33      0.36         6\n",
      "           1       0.00      0.00      0.00         7\n",
      "           2       0.11      0.20      0.14         5\n",
      "\n",
      "    accuracy                           0.17        18\n",
      "   macro avg       0.17      0.18      0.17        18\n",
      "weighted avg       0.16      0.17      0.16        18\n",
      "\n",
      "-------------------------------------------------------------------------------------------------------------------\n"
     ]
    },
    {
     "name": "stderr",
     "output_type": "stream",
     "text": [
      "[Parallel(n_jobs=-1)]: Using backend LokyBackend with 12 concurrent workers.\n",
      "[Parallel(n_jobs=-1)]: Done   3 out of   3 | elapsed:  2.0min finished\n"
     ]
    },
    {
     "name": "stdout",
     "output_type": "stream",
     "text": [
      "K-Fold #7\n",
      "Mean negativities for all classes: [0.38536569598998843, 0.38390468557396545, 0.3792650549437966]\n",
      "Mean entropies for all classes: [6.306550889879617e-15, 7.093508332861715e-15, 5.794279192674505e-15]\n",
      "              precision    recall  f1-score   support\n",
      "\n",
      "           0       0.50      0.67      0.57         6\n",
      "           1       0.00      0.00      0.00         7\n",
      "           2       0.12      0.20      0.15         5\n",
      "\n",
      "    accuracy                           0.28        18\n",
      "   macro avg       0.21      0.29      0.24        18\n",
      "weighted avg       0.20      0.28      0.23        18\n",
      "\n",
      "-------------------------------------------------------------------------------------------------------------------\n"
     ]
    },
    {
     "name": "stderr",
     "output_type": "stream",
     "text": [
      "[Parallel(n_jobs=-1)]: Using backend LokyBackend with 12 concurrent workers.\n",
      "[Parallel(n_jobs=-1)]: Done   3 out of   3 | elapsed:  2.0min finished\n"
     ]
    },
    {
     "name": "stdout",
     "output_type": "stream",
     "text": [
      "K-Fold #8\n",
      "Mean negativities for all classes: [0.38289647410478306, 0.38416573702632384, 0.376107044466615]\n",
      "Mean entropies for all classes: [6.117170614184042e-15, 6.894511161916099e-15, 5.9584918818630875e-15]\n",
      "              precision    recall  f1-score   support\n",
      "\n",
      "           0       0.38      0.50      0.43         6\n",
      "           1       0.00      0.00      0.00         7\n",
      "           2       0.17      0.25      0.20         4\n",
      "\n",
      "    accuracy                           0.24        17\n",
      "   macro avg       0.18      0.25      0.21        17\n",
      "weighted avg       0.17      0.24      0.20        17\n",
      "\n",
      "-------------------------------------------------------------------------------------------------------------------\n"
     ]
    },
    {
     "name": "stderr",
     "output_type": "stream",
     "text": [
      "[Parallel(n_jobs=-1)]: Using backend LokyBackend with 12 concurrent workers.\n",
      "[Parallel(n_jobs=-1)]: Done   3 out of   3 | elapsed:  2.0min finished\n"
     ]
    },
    {
     "name": "stdout",
     "output_type": "stream",
     "text": [
      "K-Fold #9\n",
      "Mean negativities for all classes: [0.3910009902659771, 0.3796218068589258, 0.3750266720132406]\n",
      "Mean entropies for all classes: [6.795322968625008e-15, 6.842762286056795e-15, 6.3675636173916754e-15]\n",
      "              precision    recall  f1-score   support\n",
      "\n",
      "           0       0.40      0.40      0.40         5\n",
      "           1       0.00      0.00      0.00         8\n",
      "           2       0.10      0.25      0.14         4\n",
      "\n",
      "    accuracy                           0.18        17\n",
      "   macro avg       0.17      0.22      0.18        17\n",
      "weighted avg       0.14      0.18      0.15        17\n",
      "\n",
      "-------------------------------------------------------------------------------------------------------------------\n",
      "AVG: Scores = 0.21895424836601304 F1-Scores = 0.1984195434195434 Negativity = [0.3813898833661364, 0.3822972637530124, 0.38302203990384714] Entropy = [6.282690530095519e-15, 6.775119331266958e-15, 6.236932511841985e-15]\n"
     ]
    },
    {
     "name": "stderr",
     "output_type": "stream",
     "text": [
      "[Parallel(n_jobs=-1)]: Using backend LokyBackend with 12 concurrent workers.\n",
      "[Parallel(n_jobs=-1)]: Done   3 out of   3 | elapsed:  2.0min finished\n"
     ]
    },
    {
     "name": "stdout",
     "output_type": "stream",
     "text": [
      "K-Fold #0\n",
      "Mean negativities for all classes: [0.38495431565935667, 0.3823903635694959, 0.3801120512341407]\n",
      "Mean entropies for all classes: [6.728208455893523e-15, 6.644467055207014e-15, 6.597637454410344e-15]\n",
      "              precision    recall  f1-score   support\n",
      "\n",
      "           0       0.30      0.50      0.37         6\n",
      "           1       0.00      0.00      0.00         7\n",
      "           2       0.17      0.20      0.18         5\n",
      "\n",
      "    accuracy                           0.22        18\n",
      "   macro avg       0.16      0.23      0.19        18\n",
      "weighted avg       0.15      0.22      0.18        18\n",
      "\n",
      "-------------------------------------------------------------------------------------------------------------------\n"
     ]
    },
    {
     "name": "stderr",
     "output_type": "stream",
     "text": [
      "[Parallel(n_jobs=-1)]: Using backend LokyBackend with 12 concurrent workers.\n",
      "[Parallel(n_jobs=-1)]: Done   3 out of   3 | elapsed:  2.0min finished\n"
     ]
    },
    {
     "name": "stdout",
     "output_type": "stream",
     "text": [
      "K-Fold #1\n",
      "Mean negativities for all classes: [0.38459925328536015, 0.381096659041878, 0.3773826596812545]\n",
      "Mean entropies for all classes: [6.094122784281061e-15, 6.769200824786542e-15, 5.70956807592436e-15]\n",
      "              precision    recall  f1-score   support\n",
      "\n",
      "           0       0.33      0.50      0.40         6\n",
      "           1       0.00      0.00      0.00         7\n",
      "           2       0.22      0.40      0.29         5\n",
      "\n",
      "    accuracy                           0.28        18\n",
      "   macro avg       0.19      0.30      0.23        18\n",
      "weighted avg       0.17      0.28      0.21        18\n",
      "\n",
      "-------------------------------------------------------------------------------------------------------------------\n"
     ]
    },
    {
     "name": "stderr",
     "output_type": "stream",
     "text": [
      "c:\\ProgramData\\Anaconda3\\lib\\site-packages\\sklearn\\metrics\\_classification.py:1344: UndefinedMetricWarning: Precision and F-score are ill-defined and being set to 0.0 in labels with no predicted samples. Use `zero_division` parameter to control this behavior.\n",
      "  _warn_prf(average, modifier, msg_start, len(result))\n",
      "c:\\ProgramData\\Anaconda3\\lib\\site-packages\\sklearn\\metrics\\_classification.py:1344: UndefinedMetricWarning: Precision and F-score are ill-defined and being set to 0.0 in labels with no predicted samples. Use `zero_division` parameter to control this behavior.\n",
      "  _warn_prf(average, modifier, msg_start, len(result))\n",
      "c:\\ProgramData\\Anaconda3\\lib\\site-packages\\sklearn\\metrics\\_classification.py:1344: UndefinedMetricWarning: Precision and F-score are ill-defined and being set to 0.0 in labels with no predicted samples. Use `zero_division` parameter to control this behavior.\n",
      "  _warn_prf(average, modifier, msg_start, len(result))\n",
      "[Parallel(n_jobs=-1)]: Using backend LokyBackend with 12 concurrent workers.\n",
      "[Parallel(n_jobs=-1)]: Done   3 out of   3 | elapsed:  2.0min finished\n"
     ]
    },
    {
     "name": "stdout",
     "output_type": "stream",
     "text": [
      "K-Fold #2\n",
      "Mean negativities for all classes: [0.38309610606279687, 0.3787094157379407, 0.37778197282536213]\n",
      "Mean entropies for all classes: [5.841540908388517e-15, 6.2618374895983275e-15, 6.488008575544838e-15]\n",
      "              precision    recall  f1-score   support\n",
      "\n",
      "           0       0.40      0.67      0.50         6\n",
      "           1       0.00      0.00      0.00         7\n",
      "           2       0.00      0.00      0.00         5\n",
      "\n",
      "    accuracy                           0.22        18\n",
      "   macro avg       0.13      0.22      0.17        18\n",
      "weighted avg       0.13      0.22      0.17        18\n",
      "\n",
      "-------------------------------------------------------------------------------------------------------------------\n"
     ]
    },
    {
     "name": "stderr",
     "output_type": "stream",
     "text": [
      "[Parallel(n_jobs=-1)]: Using backend LokyBackend with 12 concurrent workers.\n",
      "[Parallel(n_jobs=-1)]: Done   3 out of   3 | elapsed:  2.0min finished\n"
     ]
    },
    {
     "name": "stdout",
     "output_type": "stream",
     "text": [
      "K-Fold #3\n",
      "Mean negativities for all classes: [0.3893809070748586, 0.3803330800187029, 0.3776475956205003]\n",
      "Mean entropies for all classes: [6.137935318430067e-15, 6.374083754189067e-15, 6.582087518868386e-15]\n",
      "              precision    recall  f1-score   support\n",
      "\n",
      "           0       0.40      0.33      0.36         6\n",
      "           1       0.00      0.00      0.00         7\n",
      "           2       0.18      0.40      0.25         5\n",
      "\n",
      "    accuracy                           0.22        18\n",
      "   macro avg       0.19      0.24      0.20        18\n",
      "weighted avg       0.18      0.22      0.19        18\n",
      "\n",
      "-------------------------------------------------------------------------------------------------------------------\n"
     ]
    },
    {
     "name": "stderr",
     "output_type": "stream",
     "text": [
      "[Parallel(n_jobs=-1)]: Using backend LokyBackend with 12 concurrent workers.\n",
      "[Parallel(n_jobs=-1)]: Done   3 out of   3 | elapsed:  2.0min finished\n"
     ]
    },
    {
     "name": "stdout",
     "output_type": "stream",
     "text": [
      "K-Fold #4\n",
      "Mean negativities for all classes: [0.38803156355293134, 0.3816482761351548, 0.3775321111957997]\n",
      "Mean entropies for all classes: [6.26709557011392e-15, 7.123220647493522e-15, 6.0118723795195584e-15]\n",
      "              precision    recall  f1-score   support\n",
      "\n",
      "           0       0.29      0.33      0.31         6\n",
      "           1       0.00      0.00      0.00         7\n",
      "           2       0.22      0.40      0.29         5\n",
      "\n",
      "    accuracy                           0.22        18\n",
      "   macro avg       0.17      0.24      0.20        18\n",
      "weighted avg       0.16      0.22      0.18        18\n",
      "\n",
      "-------------------------------------------------------------------------------------------------------------------\n"
     ]
    },
    {
     "name": "stderr",
     "output_type": "stream",
     "text": [
      "[Parallel(n_jobs=-1)]: Using backend LokyBackend with 12 concurrent workers.\n",
      "[Parallel(n_jobs=-1)]: Done   3 out of   3 | elapsed:  2.1min finished\n"
     ]
    },
    {
     "name": "stdout",
     "output_type": "stream",
     "text": [
      "K-Fold #5\n",
      "Mean negativities for all classes: [0.38577200372281883, 0.38352319820872194, 0.3773031169234496]\n",
      "Mean entropies for all classes: [6.255036659250689e-15, 5.9094070308490964e-15, 6.52297439840908e-15]\n",
      "              precision    recall  f1-score   support\n",
      "\n",
      "           0       0.20      0.17      0.18         6\n",
      "           1       0.00      0.00      0.00         7\n",
      "           2       0.00      0.00      0.00         5\n",
      "\n",
      "    accuracy                           0.06        18\n",
      "   macro avg       0.07      0.06      0.06        18\n",
      "weighted avg       0.07      0.06      0.06        18\n",
      "\n",
      "-------------------------------------------------------------------------------------------------------------------\n"
     ]
    },
    {
     "name": "stderr",
     "output_type": "stream",
     "text": [
      "[Parallel(n_jobs=-1)]: Using backend LokyBackend with 12 concurrent workers.\n",
      "[Parallel(n_jobs=-1)]: Done   3 out of   3 | elapsed:  2.0min finished\n"
     ]
    },
    {
     "name": "stdout",
     "output_type": "stream",
     "text": [
      "K-Fold #6\n",
      "Mean negativities for all classes: [0.38849915948002245, 0.3738950175166848, 0.384492261222658]\n",
      "Mean entropies for all classes: [6.005305102359344e-15, 6.0459092592070005e-15, 6.238316039380777e-15]\n",
      "              precision    recall  f1-score   support\n",
      "\n",
      "           0       0.33      0.50      0.40         6\n",
      "           1       0.00      0.00      0.00         7\n",
      "           2       0.00      0.00      0.00         5\n",
      "\n",
      "    accuracy                           0.17        18\n",
      "   macro avg       0.11      0.17      0.13        18\n",
      "weighted avg       0.11      0.17      0.13        18\n",
      "\n",
      "-------------------------------------------------------------------------------------------------------------------\n"
     ]
    },
    {
     "name": "stderr",
     "output_type": "stream",
     "text": [
      "[Parallel(n_jobs=-1)]: Using backend LokyBackend with 12 concurrent workers.\n",
      "[Parallel(n_jobs=-1)]: Done   3 out of   3 | elapsed:  2.1min finished\n"
     ]
    },
    {
     "name": "stdout",
     "output_type": "stream",
     "text": [
      "K-Fold #7\n",
      "Mean negativities for all classes: [0.38802074508332396, 0.3853067725015083, 0.38504066696442346]\n",
      "Mean entropies for all classes: [6.373613730349303e-15, 6.350003070119162e-15, 6.390903480334595e-15]\n",
      "              precision    recall  f1-score   support\n",
      "\n",
      "           0       0.38      0.50      0.43         6\n",
      "           1       0.00      0.00      0.00         7\n",
      "           2       0.11      0.20      0.14         5\n",
      "\n",
      "    accuracy                           0.22        18\n",
      "   macro avg       0.16      0.23      0.19        18\n",
      "weighted avg       0.16      0.22      0.18        18\n",
      "\n",
      "-------------------------------------------------------------------------------------------------------------------\n"
     ]
    },
    {
     "name": "stderr",
     "output_type": "stream",
     "text": [
      "[Parallel(n_jobs=-1)]: Using backend LokyBackend with 12 concurrent workers.\n",
      "[Parallel(n_jobs=-1)]: Done   3 out of   3 | elapsed:  2.0min finished\n"
     ]
    },
    {
     "name": "stdout",
     "output_type": "stream",
     "text": [
      "K-Fold #8\n",
      "Mean negativities for all classes: [0.38868923035534303, 0.3845847749690961, 0.37844731253467134]\n",
      "Mean entropies for all classes: [6.1975909361113374e-15, 6.721820968844277e-15, 6.478283614649614e-15]\n",
      "              precision    recall  f1-score   support\n",
      "\n",
      "           0       0.67      0.67      0.67         6\n",
      "           1       0.00      0.00      0.00         7\n",
      "           2       0.22      0.50      0.31         4\n",
      "\n",
      "    accuracy                           0.35        17\n",
      "   macro avg       0.30      0.39      0.32        17\n",
      "weighted avg       0.29      0.35      0.31        17\n",
      "\n",
      "-------------------------------------------------------------------------------------------------------------------\n"
     ]
    },
    {
     "name": "stderr",
     "output_type": "stream",
     "text": [
      "[Parallel(n_jobs=-1)]: Using backend LokyBackend with 12 concurrent workers.\n",
      "[Parallel(n_jobs=-1)]: Done   3 out of   3 | elapsed:  2.0min finished\n"
     ]
    },
    {
     "name": "stdout",
     "output_type": "stream",
     "text": [
      "K-Fold #9\n",
      "Mean negativities for all classes: [0.38397976051584487, 0.38958289201684576, 0.36965892013391677]\n",
      "Mean entropies for all classes: [6.448980881875835e-15, 6.45130845251783e-15, 6.258457648367736e-15]\n",
      "              precision    recall  f1-score   support\n",
      "\n",
      "           0       0.33      0.40      0.36         5\n",
      "           1       0.00      0.00      0.00         8\n",
      "           2       0.00      0.00      0.00         4\n",
      "\n",
      "    accuracy                           0.12        17\n",
      "   macro avg       0.11      0.13      0.12        17\n",
      "weighted avg       0.10      0.12      0.11        17\n",
      "\n",
      "-------------------------------------------------------------------------------------------------------------------\n",
      "AVG: Scores = 0.20816993464052289 F1-Scores = 0.18136058386058382 Negativity = [0.38248557682099776, 0.38102619066949756, 0.37986249820869994] Entropy = [6.656770988503627e-15, 6.190963894997321e-15, 6.1971289911772266e-15]\n"
     ]
    },
    {
     "name": "stderr",
     "output_type": "stream",
     "text": [
      "[Parallel(n_jobs=-1)]: Using backend LokyBackend with 12 concurrent workers.\n",
      "[Parallel(n_jobs=-1)]: Done   3 out of   3 | elapsed:  2.0min finished\n"
     ]
    },
    {
     "name": "stdout",
     "output_type": "stream",
     "text": [
      "K-Fold #0\n",
      "Mean negativities for all classes: [0.3891792390479072, 0.38204288200413816, 0.37634156122155354]\n",
      "Mean entropies for all classes: [6.522467533545562e-15, 6.4243269623823794e-15, 6.415067488144802e-15]\n",
      "              precision    recall  f1-score   support\n",
      "\n",
      "           0       0.33      0.50      0.40         6\n",
      "           1       0.00      0.00      0.00         7\n",
      "           2       0.14      0.20      0.17         5\n",
      "\n",
      "    accuracy                           0.22        18\n",
      "   macro avg       0.16      0.23      0.19        18\n",
      "weighted avg       0.15      0.22      0.18        18\n",
      "\n",
      "-------------------------------------------------------------------------------------------------------------------\n"
     ]
    },
    {
     "name": "stderr",
     "output_type": "stream",
     "text": [
      "[Parallel(n_jobs=-1)]: Using backend LokyBackend with 12 concurrent workers.\n",
      "[Parallel(n_jobs=-1)]: Done   3 out of   3 | elapsed:  2.0min finished\n"
     ]
    },
    {
     "name": "stdout",
     "output_type": "stream",
     "text": [
      "K-Fold #1\n",
      "Mean negativities for all classes: [0.38948317700309953, 0.37256035141180527, 0.378742490680201]\n",
      "Mean entropies for all classes: [6.546880325372587e-15, 6.3663814236461755e-15, 6.083953469536317e-15]\n",
      "              precision    recall  f1-score   support\n",
      "\n",
      "           0       0.11      0.17      0.13         6\n",
      "           1       0.00      0.00      0.00         7\n",
      "           2       0.25      0.40      0.31         5\n",
      "\n",
      "    accuracy                           0.17        18\n",
      "   macro avg       0.12      0.19      0.15        18\n",
      "weighted avg       0.11      0.17      0.13        18\n",
      "\n",
      "-------------------------------------------------------------------------------------------------------------------\n"
     ]
    },
    {
     "name": "stderr",
     "output_type": "stream",
     "text": [
      "[Parallel(n_jobs=-1)]: Using backend LokyBackend with 12 concurrent workers.\n",
      "[Parallel(n_jobs=-1)]: Done   3 out of   3 | elapsed:  2.0min finished\n"
     ]
    },
    {
     "name": "stdout",
     "output_type": "stream",
     "text": [
      "K-Fold #2\n",
      "Mean negativities for all classes: [0.3841566292495846, 0.3745620167305972, 0.37884980394456935]\n",
      "Mean entropies for all classes: [6.1063969290528594e-15, 6.219205699190958e-15, 6.596125137470136e-15]\n",
      "              precision    recall  f1-score   support\n",
      "\n",
      "           0       0.14      0.17      0.15         6\n",
      "           1       0.00      0.00      0.00         7\n",
      "           2       0.00      0.00      0.00         5\n",
      "\n",
      "    accuracy                           0.06        18\n",
      "   macro avg       0.05      0.06      0.05        18\n",
      "weighted avg       0.05      0.06      0.05        18\n",
      "\n",
      "-------------------------------------------------------------------------------------------------------------------\n"
     ]
    },
    {
     "name": "stderr",
     "output_type": "stream",
     "text": [
      "[Parallel(n_jobs=-1)]: Using backend LokyBackend with 12 concurrent workers.\n",
      "[Parallel(n_jobs=-1)]: Done   3 out of   3 | elapsed:  2.0min finished\n"
     ]
    },
    {
     "name": "stdout",
     "output_type": "stream",
     "text": [
      "K-Fold #3\n",
      "Mean negativities for all classes: [0.3857051874863298, 0.37786987364144786, 0.3761040541201422]\n",
      "Mean entropies for all classes: [5.858721653679219e-15, 6.727262727478061e-15, 6.068587701264359e-15]\n",
      "              precision    recall  f1-score   support\n",
      "\n",
      "           0       0.50      0.50      0.50         6\n",
      "           1       0.00      0.00      0.00         7\n",
      "           2       0.00      0.00      0.00         5\n",
      "\n",
      "    accuracy                           0.17        18\n",
      "   macro avg       0.17      0.17      0.17        18\n",
      "weighted avg       0.17      0.17      0.17        18\n",
      "\n",
      "-------------------------------------------------------------------------------------------------------------------\n"
     ]
    },
    {
     "name": "stderr",
     "output_type": "stream",
     "text": [
      "[Parallel(n_jobs=-1)]: Using backend LokyBackend with 12 concurrent workers.\n",
      "[Parallel(n_jobs=-1)]: Done   3 out of   3 | elapsed:  2.0min finished\n"
     ]
    },
    {
     "name": "stdout",
     "output_type": "stream",
     "text": [
      "K-Fold #4\n",
      "Mean negativities for all classes: [0.3862407927824675, 0.37608815958177316, 0.37946831586765356]\n",
      "Mean entropies for all classes: [6.338967059468692e-15, 6.33550693190443e-15, 6.0414622680422316e-15]\n",
      "              precision    recall  f1-score   support\n",
      "\n",
      "           0       0.40      0.67      0.50         6\n",
      "           1       0.00      0.00      0.00         7\n",
      "           2       0.17      0.20      0.18         5\n",
      "\n",
      "    accuracy                           0.28        18\n",
      "   macro avg       0.19      0.29      0.23        18\n",
      "weighted avg       0.18      0.28      0.22        18\n",
      "\n",
      "-------------------------------------------------------------------------------------------------------------------\n"
     ]
    },
    {
     "name": "stderr",
     "output_type": "stream",
     "text": [
      "[Parallel(n_jobs=-1)]: Using backend LokyBackend with 12 concurrent workers.\n",
      "[Parallel(n_jobs=-1)]: Done   3 out of   3 | elapsed:  2.0min finished\n"
     ]
    },
    {
     "name": "stdout",
     "output_type": "stream",
     "text": [
      "K-Fold #5\n",
      "Mean negativities for all classes: [0.3858449505705728, 0.37841700196107675, 0.38003298123323287]\n",
      "Mean entropies for all classes: [6.2838570361121425e-15, 6.78205578062975e-15, 5.858578904206673e-15]\n",
      "              precision    recall  f1-score   support\n",
      "\n",
      "           0       0.67      0.67      0.67         6\n",
      "           1       0.00      0.00      0.00         7\n",
      "           2       0.22      0.40      0.29         5\n",
      "\n",
      "    accuracy                           0.33        18\n",
      "   macro avg       0.30      0.36      0.32        18\n",
      "weighted avg       0.28      0.33      0.30        18\n",
      "\n",
      "-------------------------------------------------------------------------------------------------------------------\n"
     ]
    },
    {
     "name": "stderr",
     "output_type": "stream",
     "text": [
      "[Parallel(n_jobs=-1)]: Using backend LokyBackend with 12 concurrent workers.\n",
      "[Parallel(n_jobs=-1)]: Done   3 out of   3 | elapsed:  2.0min finished\n"
     ]
    },
    {
     "name": "stdout",
     "output_type": "stream",
     "text": [
      "K-Fold #6\n",
      "Mean negativities for all classes: [0.3861651497450104, 0.3791030368741024, 0.38386203690578385]\n",
      "Mean entropies for all classes: [6.1982016748470116e-15, 6.4564837628759104e-15, 5.849329911206948e-15]\n",
      "              precision    recall  f1-score   support\n",
      "\n",
      "           0       0.33      0.50      0.40         6\n",
      "           1       0.00      0.00      0.00         7\n",
      "           2       0.14      0.20      0.17         5\n",
      "\n",
      "    accuracy                           0.22        18\n",
      "   macro avg       0.16      0.23      0.19        18\n",
      "weighted avg       0.15      0.22      0.18        18\n",
      "\n",
      "-------------------------------------------------------------------------------------------------------------------\n"
     ]
    },
    {
     "name": "stderr",
     "output_type": "stream",
     "text": [
      "[Parallel(n_jobs=-1)]: Using backend LokyBackend with 12 concurrent workers.\n",
      "[Parallel(n_jobs=-1)]: Done   3 out of   3 | elapsed:  2.1min finished\n"
     ]
    },
    {
     "name": "stdout",
     "output_type": "stream",
     "text": [
      "K-Fold #7\n",
      "Mean negativities for all classes: [0.3914332001632401, 0.38650870512034374, 0.3776405796762182]\n",
      "Mean entropies for all classes: [6.455620568910243e-15, 6.384753099766659e-15, 6.306158510396991e-15]\n",
      "              precision    recall  f1-score   support\n",
      "\n",
      "           0       0.17      0.17      0.17         6\n",
      "           1       0.00      0.00      0.00         7\n",
      "           2       0.30      0.60      0.40         5\n",
      "\n",
      "    accuracy                           0.22        18\n",
      "   macro avg       0.16      0.26      0.19        18\n",
      "weighted avg       0.14      0.22      0.17        18\n",
      "\n",
      "-------------------------------------------------------------------------------------------------------------------\n"
     ]
    },
    {
     "name": "stderr",
     "output_type": "stream",
     "text": [
      "[Parallel(n_jobs=-1)]: Using backend LokyBackend with 12 concurrent workers.\n",
      "[Parallel(n_jobs=-1)]: Done   3 out of   3 | elapsed:  2.1min finished\n"
     ]
    },
    {
     "name": "stdout",
     "output_type": "stream",
     "text": [
      "K-Fold #8\n",
      "Mean negativities for all classes: [0.3827191388552556, 0.3888029452261005, 0.37184421065495454]\n",
      "Mean entropies for all classes: [6.367135704441025e-15, 6.723826311867551e-15, 6.616444180940123e-15]\n",
      "              precision    recall  f1-score   support\n",
      "\n",
      "           0       0.50      0.67      0.57         6\n",
      "           1       0.00      0.00      0.00         7\n",
      "           2       0.00      0.00      0.00         4\n",
      "\n",
      "    accuracy                           0.24        17\n",
      "   macro avg       0.17      0.22      0.19        17\n",
      "weighted avg       0.18      0.24      0.20        17\n",
      "\n",
      "-------------------------------------------------------------------------------------------------------------------\n"
     ]
    },
    {
     "name": "stderr",
     "output_type": "stream",
     "text": [
      "[Parallel(n_jobs=-1)]: Using backend LokyBackend with 12 concurrent workers.\n",
      "[Parallel(n_jobs=-1)]: Done   3 out of   3 | elapsed:  2.1min finished\n"
     ]
    },
    {
     "name": "stdout",
     "output_type": "stream",
     "text": [
      "K-Fold #9\n",
      "Mean negativities for all classes: [0.3879126624406729, 0.38551678256806843, 0.3859416383767948]\n",
      "Mean entropies for all classes: [6.436995898342019e-15, 6.666479426407141e-15, 6.134474918218023e-15]\n",
      "              precision    recall  f1-score   support\n",
      "\n",
      "           0       0.22      0.40      0.29         5\n",
      "           1       0.00      0.00      0.00         8\n",
      "           2       0.14      0.25      0.18         4\n",
      "\n",
      "    accuracy                           0.18        17\n",
      "   macro avg       0.12      0.22      0.16        17\n",
      "weighted avg       0.10      0.18      0.13        17\n",
      "\n",
      "-------------------------------------------------------------------------------------------------------------------\n",
      "AVG: Scores = 0.20784313725490194 F1-Scores = 0.18226773226773227 Negativity = [0.38252122742453293, 0.38026200636503527, 0.37918948330825036] Entropy = [6.453953994690915e-15, 6.332405072851693e-15, 6.307242588571318e-15]\n"
     ]
    },
    {
     "name": "stderr",
     "output_type": "stream",
     "text": [
      "[Parallel(n_jobs=-1)]: Using backend LokyBackend with 12 concurrent workers.\n",
      "[Parallel(n_jobs=-1)]: Done   3 out of   3 | elapsed:  2.1min finished\n"
     ]
    },
    {
     "name": "stdout",
     "output_type": "stream",
     "text": [
      "K-Fold #0\n",
      "Mean negativities for all classes: [0.39031516757036316, 0.3817938617632674, 0.3790761771142632]\n",
      "Mean entropies for all classes: [5.970599364780864e-15, 6.864800954949866e-15, 6.251496121369316e-15]\n",
      "              precision    recall  f1-score   support\n",
      "\n",
      "           0       0.20      0.17      0.18         6\n",
      "           1       0.00      0.00      0.00         7\n",
      "           2       0.17      0.40      0.24         5\n",
      "\n",
      "    accuracy                           0.17        18\n",
      "   macro avg       0.12      0.19      0.14        18\n",
      "weighted avg       0.11      0.17      0.13        18\n",
      "\n",
      "-------------------------------------------------------------------------------------------------------------------\n"
     ]
    },
    {
     "name": "stderr",
     "output_type": "stream",
     "text": [
      "[Parallel(n_jobs=-1)]: Using backend LokyBackend with 12 concurrent workers.\n",
      "[Parallel(n_jobs=-1)]: Done   3 out of   3 | elapsed:  2.1min finished\n"
     ]
    },
    {
     "name": "stdout",
     "output_type": "stream",
     "text": [
      "K-Fold #1\n",
      "Mean negativities for all classes: [0.3878315214132223, 0.3752865020200926, 0.3780158285206773]\n",
      "Mean entropies for all classes: [6.283565761262753e-15, 6.468263604991224e-15, 6.551195680159425e-15]\n",
      "              precision    recall  f1-score   support\n",
      "\n",
      "           0       0.57      0.67      0.62         6\n",
      "           1       0.40      0.29      0.33         7\n",
      "           2       0.17      0.20      0.18         5\n",
      "\n",
      "    accuracy                           0.39        18\n",
      "   macro avg       0.38      0.38      0.38        18\n",
      "weighted avg       0.39      0.39      0.39        18\n",
      "\n",
      "-------------------------------------------------------------------------------------------------------------------\n"
     ]
    },
    {
     "name": "stderr",
     "output_type": "stream",
     "text": [
      "[Parallel(n_jobs=-1)]: Using backend LokyBackend with 12 concurrent workers.\n",
      "[Parallel(n_jobs=-1)]: Done   3 out of   3 | elapsed:  2.1min finished\n"
     ]
    },
    {
     "name": "stdout",
     "output_type": "stream",
     "text": [
      "K-Fold #2\n",
      "Mean negativities for all classes: [0.38890188761790856, 0.38533059515837176, 0.3740975743369821]\n",
      "Mean entropies for all classes: [6.302953290527479e-15, 6.487238052883026e-15, 6.176113734023515e-15]\n",
      "              precision    recall  f1-score   support\n",
      "\n",
      "           0       0.67      0.67      0.67         6\n",
      "           1       0.00      0.00      0.00         7\n",
      "           2       0.12      0.20      0.15         5\n",
      "\n",
      "    accuracy                           0.28        18\n",
      "   macro avg       0.26      0.29      0.27        18\n",
      "weighted avg       0.26      0.28      0.26        18\n",
      "\n",
      "-------------------------------------------------------------------------------------------------------------------\n"
     ]
    },
    {
     "name": "stderr",
     "output_type": "stream",
     "text": [
      "[Parallel(n_jobs=-1)]: Using backend LokyBackend with 12 concurrent workers.\n",
      "[Parallel(n_jobs=-1)]: Done   3 out of   3 | elapsed:  2.0min finished\n"
     ]
    },
    {
     "name": "stdout",
     "output_type": "stream",
     "text": [
      "K-Fold #3\n",
      "Mean negativities for all classes: [0.3823909821480826, 0.37687896974833407, 0.38477047320325125]\n",
      "Mean entropies for all classes: [6.360038324180471e-15, 6.36702446785982e-15, 5.682266658149407e-15]\n",
      "              precision    recall  f1-score   support\n",
      "\n",
      "           0       0.30      0.50      0.37         6\n",
      "           1       0.00      0.00      0.00         7\n",
      "           2       0.14      0.20      0.17         5\n",
      "\n",
      "    accuracy                           0.22        18\n",
      "   macro avg       0.15      0.23      0.18        18\n",
      "weighted avg       0.14      0.22      0.17        18\n",
      "\n",
      "-------------------------------------------------------------------------------------------------------------------\n"
     ]
    },
    {
     "name": "stderr",
     "output_type": "stream",
     "text": [
      "[Parallel(n_jobs=-1)]: Using backend LokyBackend with 12 concurrent workers.\n",
      "[Parallel(n_jobs=-1)]: Done   3 out of   3 | elapsed:  2.0min finished\n"
     ]
    },
    {
     "name": "stdout",
     "output_type": "stream",
     "text": [
      "K-Fold #4\n",
      "Mean negativities for all classes: [0.3826665462434052, 0.38477142561875016, 0.37462050739153907]\n",
      "Mean entropies for all classes: [6.13452999681206e-15, 6.366050919384195e-15, 6.313453195149598e-15]\n",
      "              precision    recall  f1-score   support\n",
      "\n",
      "           0       0.50      0.83      0.62         6\n",
      "           1       0.00      0.00      0.00         7\n",
      "           2       0.00      0.00      0.00         5\n",
      "\n",
      "    accuracy                           0.28        18\n",
      "   macro avg       0.17      0.28      0.21        18\n",
      "weighted avg       0.17      0.28      0.21        18\n",
      "\n",
      "-------------------------------------------------------------------------------------------------------------------\n"
     ]
    },
    {
     "name": "stderr",
     "output_type": "stream",
     "text": [
      "[Parallel(n_jobs=-1)]: Using backend LokyBackend with 12 concurrent workers.\n",
      "[Parallel(n_jobs=-1)]: Done   3 out of   3 | elapsed:  2.0min finished\n"
     ]
    },
    {
     "name": "stdout",
     "output_type": "stream",
     "text": [
      "K-Fold #5\n",
      "Mean negativities for all classes: [0.38379411205089586, 0.3887648762946179, 0.3761403236393319]\n",
      "Mean entropies for all classes: [5.993356066490422e-15, 6.827234748587277e-15, 6.247896381431034e-15]\n",
      "              precision    recall  f1-score   support\n",
      "\n",
      "           0       0.50      0.50      0.50         6\n",
      "           1       0.00      0.00      0.00         7\n",
      "           2       0.20      0.40      0.27         5\n",
      "\n",
      "    accuracy                           0.28        18\n",
      "   macro avg       0.23      0.30      0.26        18\n",
      "weighted avg       0.22      0.28      0.24        18\n",
      "\n",
      "-------------------------------------------------------------------------------------------------------------------\n"
     ]
    },
    {
     "name": "stderr",
     "output_type": "stream",
     "text": [
      "[Parallel(n_jobs=-1)]: Using backend LokyBackend with 12 concurrent workers.\n",
      "[Parallel(n_jobs=-1)]: Done   3 out of   3 | elapsed:  2.0min finished\n"
     ]
    },
    {
     "name": "stdout",
     "output_type": "stream",
     "text": [
      "K-Fold #6\n",
      "Mean negativities for all classes: [0.3821461671189119, 0.3708545277622118, 0.38425368997147824]\n",
      "Mean entropies for all classes: [5.928212791585219e-15, 6.625440984396423e-15, 6.327279376079194e-15]\n",
      "              precision    recall  f1-score   support\n",
      "\n",
      "           0       0.30      0.50      0.37         6\n",
      "           1       0.00      0.00      0.00         7\n",
      "           2       0.29      0.40      0.33         5\n",
      "\n",
      "    accuracy                           0.28        18\n",
      "   macro avg       0.20      0.30      0.24        18\n",
      "weighted avg       0.18      0.28      0.22        18\n",
      "\n",
      "-------------------------------------------------------------------------------------------------------------------\n"
     ]
    },
    {
     "name": "stderr",
     "output_type": "stream",
     "text": [
      "[Parallel(n_jobs=-1)]: Using backend LokyBackend with 12 concurrent workers.\n",
      "[Parallel(n_jobs=-1)]: Done   3 out of   3 | elapsed:  2.0min finished\n"
     ]
    },
    {
     "name": "stdout",
     "output_type": "stream",
     "text": [
      "K-Fold #7\n",
      "Mean negativities for all classes: [0.3853974439025023, 0.3861379936278392, 0.3816015953916075]\n",
      "Mean entropies for all classes: [5.909956550013565e-15, 7.138009739758915e-15, 6.437495861627641e-15]\n",
      "              precision    recall  f1-score   support\n",
      "\n",
      "           0       0.25      0.33      0.29         6\n",
      "           1       0.00      0.00      0.00         7\n",
      "           2       0.12      0.20      0.15         5\n",
      "\n",
      "    accuracy                           0.17        18\n",
      "   macro avg       0.12      0.18      0.15        18\n",
      "weighted avg       0.12      0.17      0.14        18\n",
      "\n",
      "-------------------------------------------------------------------------------------------------------------------\n"
     ]
    },
    {
     "name": "stderr",
     "output_type": "stream",
     "text": [
      "[Parallel(n_jobs=-1)]: Using backend LokyBackend with 12 concurrent workers.\n",
      "[Parallel(n_jobs=-1)]: Done   3 out of   3 | elapsed:  2.0min finished\n"
     ]
    },
    {
     "name": "stdout",
     "output_type": "stream",
     "text": [
      "K-Fold #8\n",
      "Mean negativities for all classes: [0.3885415207027736, 0.378852351624948, 0.3771943417584981]\n",
      "Mean entropies for all classes: [6.2804647390911425e-15, 6.489992210223666e-15, 5.991628036266589e-15]\n",
      "              precision    recall  f1-score   support\n",
      "\n",
      "           0       0.50      0.50      0.50         6\n",
      "           1       0.00      0.00      0.00         7\n",
      "           2       0.20      0.50      0.29         4\n",
      "\n",
      "    accuracy                           0.29        17\n",
      "   macro avg       0.23      0.33      0.26        17\n",
      "weighted avg       0.22      0.29      0.24        17\n",
      "\n",
      "-------------------------------------------------------------------------------------------------------------------\n"
     ]
    },
    {
     "name": "stderr",
     "output_type": "stream",
     "text": [
      "[Parallel(n_jobs=-1)]: Using backend LokyBackend with 12 concurrent workers.\n",
      "[Parallel(n_jobs=-1)]: Done   3 out of   3 | elapsed:  2.0min finished\n"
     ]
    },
    {
     "name": "stdout",
     "output_type": "stream",
     "text": [
      "K-Fold #9\n",
      "Mean negativities for all classes: [0.3871773900891422, 0.3760557634627246, 0.3755745120902539]\n",
      "Mean entropies for all classes: [6.026848061220837e-15, 6.776123876963513e-15, 6.484091238785258e-15]\n",
      "              precision    recall  f1-score   support\n",
      "\n",
      "           0       0.14      0.20      0.17         5\n",
      "           1       0.00      0.00      0.00         8\n",
      "           2       0.25      0.50      0.33         4\n",
      "\n",
      "    accuracy                           0.18        17\n",
      "   macro avg       0.13      0.23      0.17        17\n",
      "weighted avg       0.10      0.18      0.13        17\n",
      "\n",
      "-------------------------------------------------------------------------------------------------------------------\n",
      "AVG: Scores = 0.25261437908496726 F1-Scores = 0.22450342141518612 Negativity = [0.38372840214929793, 0.38037795065133073, 0.3827766857044208] Entropy = [6.362298813700015e-15, 6.434341682137801e-15, 6.322101692478007e-15]\n"
     ]
    },
    {
     "name": "stderr",
     "output_type": "stream",
     "text": [
      "[Parallel(n_jobs=-1)]: Using backend LokyBackend with 12 concurrent workers.\n",
      "[Parallel(n_jobs=-1)]: Done   3 out of   3 | elapsed:  2.0min finished\n"
     ]
    },
    {
     "name": "stdout",
     "output_type": "stream",
     "text": [
      "K-Fold #0\n",
      "Mean negativities for all classes: [0.38988064180397364, 0.3875963747627266, 0.37305843104062136]\n",
      "Mean entropies for all classes: [6.407983406063531e-15, 6.893448888389096e-15, 6.450862813400805e-15]\n",
      "              precision    recall  f1-score   support\n",
      "\n",
      "           0       0.33      0.33      0.33         6\n",
      "           1       0.00      0.00      0.00         7\n",
      "           2       0.11      0.20      0.14         5\n",
      "\n",
      "    accuracy                           0.17        18\n",
      "   macro avg       0.15      0.18      0.16        18\n",
      "weighted avg       0.14      0.17      0.15        18\n",
      "\n",
      "-------------------------------------------------------------------------------------------------------------------\n"
     ]
    },
    {
     "name": "stderr",
     "output_type": "stream",
     "text": [
      "[Parallel(n_jobs=-1)]: Using backend LokyBackend with 12 concurrent workers.\n",
      "[Parallel(n_jobs=-1)]: Done   3 out of   3 | elapsed:  2.0min finished\n"
     ]
    },
    {
     "name": "stdout",
     "output_type": "stream",
     "text": [
      "K-Fold #1\n",
      "Mean negativities for all classes: [0.38482702923488116, 0.3800329854057446, 0.3825565472571198]\n",
      "Mean entropies for all classes: [5.770015201263746e-15, 6.598942694739113e-15, 6.2052746121603965e-15]\n",
      "              precision    recall  f1-score   support\n",
      "\n",
      "           0       0.43      0.50      0.46         6\n",
      "           1       0.00      0.00      0.00         7\n",
      "           2       0.00      0.00      0.00         5\n",
      "\n",
      "    accuracy                           0.17        18\n",
      "   macro avg       0.14      0.17      0.15        18\n",
      "weighted avg       0.14      0.17      0.15        18\n",
      "\n",
      "-------------------------------------------------------------------------------------------------------------------\n"
     ]
    },
    {
     "name": "stderr",
     "output_type": "stream",
     "text": [
      "[Parallel(n_jobs=-1)]: Using backend LokyBackend with 12 concurrent workers.\n",
      "[Parallel(n_jobs=-1)]: Done   3 out of   3 | elapsed:  2.0min finished\n"
     ]
    },
    {
     "name": "stdout",
     "output_type": "stream",
     "text": [
      "K-Fold #2\n",
      "Mean negativities for all classes: [0.3869656780085539, 0.37616629979038274, 0.3806693146667194]\n",
      "Mean entropies for all classes: [6.142387905462937e-15, 6.3247822138893105e-15, 6.196022567762154e-15]\n",
      "              precision    recall  f1-score   support\n",
      "\n",
      "           0       0.33      0.50      0.40         6\n",
      "           1       0.00      0.00      0.00         7\n",
      "           2       0.14      0.20      0.17         5\n",
      "\n",
      "    accuracy                           0.22        18\n",
      "   macro avg       0.16      0.23      0.19        18\n",
      "weighted avg       0.15      0.22      0.18        18\n",
      "\n",
      "-------------------------------------------------------------------------------------------------------------------\n"
     ]
    },
    {
     "name": "stderr",
     "output_type": "stream",
     "text": [
      "[Parallel(n_jobs=-1)]: Using backend LokyBackend with 12 concurrent workers.\n",
      "[Parallel(n_jobs=-1)]: Done   3 out of   3 | elapsed:  2.0min finished\n"
     ]
    },
    {
     "name": "stdout",
     "output_type": "stream",
     "text": [
      "K-Fold #3\n",
      "Mean negativities for all classes: [0.389034986998888, 0.38545469712758096, 0.3847955616022015]\n",
      "Mean entropies for all classes: [6.2838347670001625e-15, 6.090581438271761e-15, 6.073212648138418e-15]\n",
      "              precision    recall  f1-score   support\n",
      "\n",
      "           0       0.20      0.17      0.18         6\n",
      "           1       0.00      0.00      0.00         7\n",
      "           2       0.00      0.00      0.00         5\n",
      "\n",
      "    accuracy                           0.06        18\n",
      "   macro avg       0.07      0.06      0.06        18\n",
      "weighted avg       0.07      0.06      0.06        18\n",
      "\n",
      "-------------------------------------------------------------------------------------------------------------------\n"
     ]
    },
    {
     "name": "stderr",
     "output_type": "stream",
     "text": [
      "[Parallel(n_jobs=-1)]: Using backend LokyBackend with 12 concurrent workers.\n",
      "[Parallel(n_jobs=-1)]: Done   3 out of   3 | elapsed:  2.0min finished\n"
     ]
    },
    {
     "name": "stdout",
     "output_type": "stream",
     "text": [
      "K-Fold #4\n",
      "Mean negativities for all classes: [0.38507373887647467, 0.3773994590526945, 0.3812088049911887]\n",
      "Mean entropies for all classes: [6.361160863575057e-15, 6.563354423066015e-15, 6.587982186970936e-15]\n",
      "              precision    recall  f1-score   support\n",
      "\n",
      "           0       0.57      0.67      0.62         6\n",
      "           1       0.00      0.00      0.00         7\n",
      "           2       0.11      0.20      0.14         5\n",
      "\n",
      "    accuracy                           0.28        18\n",
      "   macro avg       0.23      0.29      0.25        18\n",
      "weighted avg       0.22      0.28      0.24        18\n",
      "\n",
      "-------------------------------------------------------------------------------------------------------------------\n"
     ]
    },
    {
     "name": "stderr",
     "output_type": "stream",
     "text": [
      "[Parallel(n_jobs=-1)]: Using backend LokyBackend with 12 concurrent workers.\n",
      "[Parallel(n_jobs=-1)]: Done   3 out of   3 | elapsed:  2.0min finished\n"
     ]
    },
    {
     "name": "stdout",
     "output_type": "stream",
     "text": [
      "K-Fold #5\n",
      "Mean negativities for all classes: [0.38347202015803056, 0.38308965362982694, 0.38482734481016373]\n",
      "Mean entropies for all classes: [6.315696542023594e-15, 6.605117270909444e-15, 6.581282240792888e-15]\n",
      "              precision    recall  f1-score   support\n",
      "\n",
      "           0       0.30      0.50      0.37         6\n",
      "           1       0.00      0.00      0.00         7\n",
      "           2       0.14      0.20      0.17         5\n",
      "\n",
      "    accuracy                           0.22        18\n",
      "   macro avg       0.15      0.23      0.18        18\n",
      "weighted avg       0.14      0.22      0.17        18\n",
      "\n",
      "-------------------------------------------------------------------------------------------------------------------\n"
     ]
    },
    {
     "name": "stderr",
     "output_type": "stream",
     "text": [
      "[Parallel(n_jobs=-1)]: Using backend LokyBackend with 12 concurrent workers.\n",
      "[Parallel(n_jobs=-1)]: Done   3 out of   3 | elapsed:  2.0min finished\n"
     ]
    },
    {
     "name": "stdout",
     "output_type": "stream",
     "text": [
      "K-Fold #6\n",
      "Mean negativities for all classes: [0.38251648772732405, 0.3787154634083973, 0.3778630734218058]\n",
      "Mean entropies for all classes: [6.223948879702506e-15, 6.15257504960884e-15, 6.319119259237415e-15]\n",
      "              precision    recall  f1-score   support\n",
      "\n",
      "           0       0.50      0.50      0.50         6\n",
      "           1       0.00      0.00      0.00         7\n",
      "           2       0.10      0.20      0.13         5\n",
      "\n",
      "    accuracy                           0.22        18\n",
      "   macro avg       0.20      0.23      0.21        18\n",
      "weighted avg       0.19      0.22      0.20        18\n",
      "\n",
      "-------------------------------------------------------------------------------------------------------------------\n"
     ]
    },
    {
     "name": "stderr",
     "output_type": "stream",
     "text": [
      "[Parallel(n_jobs=-1)]: Using backend LokyBackend with 12 concurrent workers.\n",
      "[Parallel(n_jobs=-1)]: Done   3 out of   3 | elapsed:  2.0min finished\n"
     ]
    },
    {
     "name": "stdout",
     "output_type": "stream",
     "text": [
      "K-Fold #7\n",
      "Mean negativities for all classes: [0.3879696647309323, 0.380651297806167, 0.37177894482091395]\n",
      "Mean entropies for all classes: [5.8693600872756534e-15, 6.745912698618574e-15, 6.196271208324901e-15]\n",
      "              precision    recall  f1-score   support\n",
      "\n",
      "           0       0.00      0.00      0.00         6\n",
      "           1       0.00      0.00      0.00         7\n",
      "           2       0.14      0.40      0.21         5\n",
      "\n",
      "    accuracy                           0.11        18\n",
      "   macro avg       0.05      0.13      0.07        18\n",
      "weighted avg       0.04      0.11      0.06        18\n",
      "\n",
      "-------------------------------------------------------------------------------------------------------------------\n"
     ]
    },
    {
     "name": "stderr",
     "output_type": "stream",
     "text": [
      "[Parallel(n_jobs=-1)]: Using backend LokyBackend with 12 concurrent workers.\n",
      "[Parallel(n_jobs=-1)]: Done   3 out of   3 | elapsed:  2.0min finished\n"
     ]
    },
    {
     "name": "stdout",
     "output_type": "stream",
     "text": [
      "K-Fold #8\n",
      "Mean negativities for all classes: [0.3853506357232191, 0.37620286530213776, 0.37920751043425277]\n",
      "Mean entropies for all classes: [6.2079836802559835e-15, 6.493873924933377e-15, 6.224757907209553e-15]\n",
      "              precision    recall  f1-score   support\n",
      "\n",
      "           0       0.40      0.33      0.36         6\n",
      "           1       0.00      0.00      0.00         7\n",
      "           2       0.11      0.25      0.15         4\n",
      "\n",
      "    accuracy                           0.18        17\n",
      "   macro avg       0.17      0.19      0.17        17\n",
      "weighted avg       0.17      0.18      0.16        17\n",
      "\n",
      "-------------------------------------------------------------------------------------------------------------------\n"
     ]
    },
    {
     "name": "stderr",
     "output_type": "stream",
     "text": [
      "[Parallel(n_jobs=-1)]: Using backend LokyBackend with 12 concurrent workers.\n",
      "[Parallel(n_jobs=-1)]: Done   3 out of   3 | elapsed:  2.0min finished\n"
     ]
    },
    {
     "name": "stdout",
     "output_type": "stream",
     "text": [
      "K-Fold #9\n",
      "Mean negativities for all classes: [0.3808142386901395, 0.3840531925230474, 0.3792536865256566]\n",
      "Mean entropies for all classes: [6.799128692415409e-15, 7.046328617057101e-15, 6.5728623991061374e-15]\n",
      "              precision    recall  f1-score   support\n",
      "\n",
      "           0       0.33      0.60      0.43         5\n",
      "           1       0.00      0.00      0.00         8\n",
      "           2       0.25      0.50      0.33         4\n",
      "\n",
      "    accuracy                           0.29        17\n",
      "   macro avg       0.19      0.37      0.25        17\n",
      "weighted avg       0.16      0.29      0.20        17\n",
      "\n",
      "-------------------------------------------------------------------------------------------------------------------\n",
      "AVG: Scores = 0.19150326797385622 F1-Scores = 0.17031230465440989 Negativity = [0.38351181586910715, 0.3824721872992485, 0.381267097488552] Entropy = [6.584098369284478e-15, 6.191410836054418e-15, 6.2210642290381334e-15]\n"
     ]
    },
    {
     "name": "stderr",
     "output_type": "stream",
     "text": [
      "c:\\ProgramData\\Anaconda3\\lib\\site-packages\\sklearn\\metrics\\_classification.py:1344: UndefinedMetricWarning: Precision and F-score are ill-defined and being set to 0.0 in labels with no predicted samples. Use `zero_division` parameter to control this behavior.\n",
      "  _warn_prf(average, modifier, msg_start, len(result))\n",
      "c:\\ProgramData\\Anaconda3\\lib\\site-packages\\sklearn\\metrics\\_classification.py:1344: UndefinedMetricWarning: Precision and F-score are ill-defined and being set to 0.0 in labels with no predicted samples. Use `zero_division` parameter to control this behavior.\n",
      "  _warn_prf(average, modifier, msg_start, len(result))\n",
      "c:\\ProgramData\\Anaconda3\\lib\\site-packages\\sklearn\\metrics\\_classification.py:1344: UndefinedMetricWarning: Precision and F-score are ill-defined and being set to 0.0 in labels with no predicted samples. Use `zero_division` parameter to control this behavior.\n",
      "  _warn_prf(average, modifier, msg_start, len(result))\n",
      "[Parallel(n_jobs=-1)]: Using backend LokyBackend with 12 concurrent workers.\n",
      "[Parallel(n_jobs=-1)]: Done   3 out of   3 | elapsed:  2.0min finished\n"
     ]
    },
    {
     "name": "stdout",
     "output_type": "stream",
     "text": [
      "K-Fold #0\n",
      "Mean negativities for all classes: [0.392015056662205, 0.37966114625777136, 0.37550351854739594]\n",
      "Mean entropies for all classes: [6.561908412462484e-15, 6.268766589461632e-15, 6.446782915223978e-15]\n",
      "              precision    recall  f1-score   support\n",
      "\n",
      "           0       0.00      0.00      0.00         6\n",
      "           1       0.00      0.00      0.00         7\n",
      "           2       0.17      0.40      0.24         5\n",
      "\n",
      "    accuracy                           0.11        18\n",
      "   macro avg       0.06      0.13      0.08        18\n",
      "weighted avg       0.05      0.11      0.07        18\n",
      "\n",
      "-------------------------------------------------------------------------------------------------------------------\n"
     ]
    },
    {
     "name": "stderr",
     "output_type": "stream",
     "text": [
      "[Parallel(n_jobs=-1)]: Using backend LokyBackend with 12 concurrent workers.\n",
      "[Parallel(n_jobs=-1)]: Done   3 out of   3 | elapsed:  2.0min finished\n"
     ]
    },
    {
     "name": "stdout",
     "output_type": "stream",
     "text": [
      "K-Fold #1\n",
      "Mean negativities for all classes: [0.3814124091577431, 0.38953160741713433, 0.38329784814957313]\n",
      "Mean entropies for all classes: [6.080065447310075e-15, 6.469378162906525e-15, 6.554721821051319e-15]\n",
      "              precision    recall  f1-score   support\n",
      "\n",
      "           0       0.44      0.67      0.53         6\n",
      "           1       0.00      0.00      0.00         7\n",
      "           2       0.14      0.20      0.17         5\n",
      "\n",
      "    accuracy                           0.28        18\n",
      "   macro avg       0.20      0.29      0.23        18\n",
      "weighted avg       0.19      0.28      0.22        18\n",
      "\n",
      "-------------------------------------------------------------------------------------------------------------------\n"
     ]
    },
    {
     "name": "stderr",
     "output_type": "stream",
     "text": [
      "[Parallel(n_jobs=-1)]: Using backend LokyBackend with 12 concurrent workers.\n",
      "[Parallel(n_jobs=-1)]: Done   3 out of   3 | elapsed:  2.0min finished\n"
     ]
    },
    {
     "name": "stdout",
     "output_type": "stream",
     "text": [
      "K-Fold #2\n",
      "Mean negativities for all classes: [0.38602938600513875, 0.3819443474569417, 0.38278932867836535]\n",
      "Mean entropies for all classes: [5.959915414030371e-15, 6.768599747346383e-15, 5.946857429195432e-15]\n",
      "              precision    recall  f1-score   support\n",
      "\n",
      "           0       0.50      0.67      0.57         6\n",
      "           1       0.00      0.00      0.00         7\n",
      "           2       0.14      0.20      0.17         5\n",
      "\n",
      "    accuracy                           0.28        18\n",
      "   macro avg       0.21      0.29      0.25        18\n",
      "weighted avg       0.21      0.28      0.24        18\n",
      "\n",
      "-------------------------------------------------------------------------------------------------------------------\n"
     ]
    },
    {
     "name": "stderr",
     "output_type": "stream",
     "text": [
      "[Parallel(n_jobs=-1)]: Using backend LokyBackend with 12 concurrent workers.\n",
      "[Parallel(n_jobs=-1)]: Done   3 out of   3 | elapsed:  2.0min finished\n"
     ]
    },
    {
     "name": "stdout",
     "output_type": "stream",
     "text": [
      "K-Fold #3\n",
      "Mean negativities for all classes: [0.3837290075210252, 0.37991705118338553, 0.38271507877094973]\n",
      "Mean entropies for all classes: [6.556717911847872e-15, 6.5594709647514645e-15, 6.932614430555361e-15]\n",
      "              precision    recall  f1-score   support\n",
      "\n",
      "           0       0.14      0.17      0.15         6\n",
      "           1       0.00      0.00      0.00         7\n",
      "           2       0.20      0.40      0.27         5\n",
      "\n",
      "    accuracy                           0.17        18\n",
      "   macro avg       0.11      0.19      0.14        18\n",
      "weighted avg       0.10      0.17      0.13        18\n",
      "\n",
      "-------------------------------------------------------------------------------------------------------------------\n"
     ]
    },
    {
     "name": "stderr",
     "output_type": "stream",
     "text": [
      "[Parallel(n_jobs=-1)]: Using backend LokyBackend with 12 concurrent workers.\n",
      "[Parallel(n_jobs=-1)]: Done   3 out of   3 | elapsed:  2.0min finished\n"
     ]
    },
    {
     "name": "stdout",
     "output_type": "stream",
     "text": [
      "K-Fold #4\n",
      "Mean negativities for all classes: [0.3833365476950521, 0.37559072462025106, 0.37558597832180607]\n",
      "Mean entropies for all classes: [6.468176341331239e-15, 6.878990979553842e-15, 5.833582612916498e-15]\n",
      "              precision    recall  f1-score   support\n",
      "\n",
      "           0       0.44      0.67      0.53         6\n",
      "           1       0.00      0.00      0.00         7\n",
      "           2       0.29      0.40      0.33         5\n",
      "\n",
      "    accuracy                           0.33        18\n",
      "   macro avg       0.24      0.36      0.29        18\n",
      "weighted avg       0.23      0.33      0.27        18\n",
      "\n",
      "-------------------------------------------------------------------------------------------------------------------\n"
     ]
    },
    {
     "name": "stderr",
     "output_type": "stream",
     "text": [
      "[Parallel(n_jobs=-1)]: Using backend LokyBackend with 12 concurrent workers.\n",
      "[Parallel(n_jobs=-1)]: Done   3 out of   3 | elapsed:  2.0min finished\n"
     ]
    },
    {
     "name": "stdout",
     "output_type": "stream",
     "text": [
      "K-Fold #5\n",
      "Mean negativities for all classes: [0.38018199964240473, 0.3734972844830708, 0.38126610942233463]\n",
      "Mean entropies for all classes: [6.633830785324462e-15, 5.8700832714779754e-15, 6.464415897128013e-15]\n",
      "              precision    recall  f1-score   support\n",
      "\n",
      "           0       0.38      0.50      0.43         6\n",
      "           1       0.00      0.00      0.00         7\n",
      "           2       0.00      0.00      0.00         5\n",
      "\n",
      "    accuracy                           0.17        18\n",
      "   macro avg       0.12      0.17      0.14        18\n",
      "weighted avg       0.12      0.17      0.14        18\n",
      "\n",
      "-------------------------------------------------------------------------------------------------------------------\n"
     ]
    },
    {
     "name": "stderr",
     "output_type": "stream",
     "text": [
      "[Parallel(n_jobs=-1)]: Using backend LokyBackend with 12 concurrent workers.\n",
      "[Parallel(n_jobs=-1)]: Done   3 out of   3 | elapsed:  2.0min finished\n"
     ]
    },
    {
     "name": "stdout",
     "output_type": "stream",
     "text": [
      "K-Fold #6\n",
      "Mean negativities for all classes: [0.38844713564250366, 0.37933855917851234, 0.37889483325933526]\n",
      "Mean entropies for all classes: [6.223272141050404e-15, 6.708598846326469e-15, 5.886633468167799e-15]\n",
      "              precision    recall  f1-score   support\n",
      "\n",
      "           0       0.43      0.50      0.46         6\n",
      "           1       0.00      0.00      0.00         7\n",
      "           2       0.11      0.20      0.14         5\n",
      "\n",
      "    accuracy                           0.22        18\n",
      "   macro avg       0.18      0.23      0.20        18\n",
      "weighted avg       0.17      0.22      0.19        18\n",
      "\n",
      "-------------------------------------------------------------------------------------------------------------------\n"
     ]
    },
    {
     "name": "stderr",
     "output_type": "stream",
     "text": [
      "[Parallel(n_jobs=-1)]: Using backend LokyBackend with 12 concurrent workers.\n",
      "[Parallel(n_jobs=-1)]: Done   3 out of   3 | elapsed:  2.0min finished\n"
     ]
    },
    {
     "name": "stdout",
     "output_type": "stream",
     "text": [
      "K-Fold #7\n",
      "Mean negativities for all classes: [0.39035271385852877, 0.38396009676102577, 0.3801454194222342]\n",
      "Mean entropies for all classes: [6.135711309630155e-15, 6.733975675318488e-15, 6.076328760800308e-15]\n",
      "              precision    recall  f1-score   support\n",
      "\n",
      "           0       0.29      0.33      0.31         6\n",
      "           1       0.00      0.00      0.00         7\n",
      "           2       0.20      0.40      0.27         5\n",
      "\n",
      "    accuracy                           0.22        18\n",
      "   macro avg       0.16      0.24      0.19        18\n",
      "weighted avg       0.15      0.22      0.18        18\n",
      "\n",
      "-------------------------------------------------------------------------------------------------------------------\n"
     ]
    },
    {
     "name": "stderr",
     "output_type": "stream",
     "text": [
      "[Parallel(n_jobs=-1)]: Using backend LokyBackend with 12 concurrent workers.\n",
      "[Parallel(n_jobs=-1)]: Done   3 out of   3 | elapsed:  2.0min finished\n"
     ]
    },
    {
     "name": "stdout",
     "output_type": "stream",
     "text": [
      "K-Fold #8\n",
      "Mean negativities for all classes: [0.3819864782618521, 0.38660968194514933, 0.3810554246564224]\n",
      "Mean entropies for all classes: [6.761091217866025e-15, 6.3029463978846784e-15, 6.5596422480599755e-15]\n",
      "              precision    recall  f1-score   support\n",
      "\n",
      "           0       0.36      0.67      0.47         6\n",
      "           1       0.00      0.00      0.00         7\n",
      "           2       0.00      0.00      0.00         4\n",
      "\n",
      "    accuracy                           0.24        17\n",
      "   macro avg       0.12      0.22      0.16        17\n",
      "weighted avg       0.13      0.24      0.17        17\n",
      "\n",
      "-------------------------------------------------------------------------------------------------------------------\n"
     ]
    },
    {
     "name": "stderr",
     "output_type": "stream",
     "text": [
      "[Parallel(n_jobs=-1)]: Using backend LokyBackend with 12 concurrent workers.\n",
      "[Parallel(n_jobs=-1)]: Done   3 out of   3 | elapsed:  2.0min finished\n"
     ]
    },
    {
     "name": "stdout",
     "output_type": "stream",
     "text": [
      "K-Fold #9\n",
      "Mean negativities for all classes: [0.3951172653537741, 0.3801458500254413, 0.37631414296192855]\n",
      "Mean entropies for all classes: [6.374848513017521e-15, 6.6766899906463295e-15, 6.5077218046865844e-15]\n",
      "              precision    recall  f1-score   support\n",
      "\n",
      "           0       0.33      0.20      0.25         5\n",
      "           1       0.00      0.00      0.00         8\n",
      "           2       0.00      0.00      0.00         4\n",
      "\n",
      "    accuracy                           0.06        17\n",
      "   macro avg       0.11      0.07      0.08        17\n",
      "weighted avg       0.10      0.06      0.07        17\n",
      "\n",
      "-------------------------------------------------------------------------------------------------------------------\n",
      "AVG: Scores = 0.20718954248366012 F1-Scores = 0.17628276951806363 Negativity = [0.38239324048912415, 0.3847472882414835, 0.38358768738014853] Entropy = [6.425819305716032e-15, 6.368055143755973e-15, 6.2251241968573956e-15]\n"
     ]
    },
    {
     "name": "stderr",
     "output_type": "stream",
     "text": [
      "[Parallel(n_jobs=-1)]: Using backend LokyBackend with 12 concurrent workers.\n",
      "[Parallel(n_jobs=-1)]: Done   3 out of   3 | elapsed:  2.0min finished\n"
     ]
    },
    {
     "name": "stdout",
     "output_type": "stream",
     "text": [
      "K-Fold #0\n",
      "Mean negativities for all classes: [0.38331559343786775, 0.3675053121454581, 0.37696996280942424]\n",
      "Mean entropies for all classes: [5.784773143767818e-15, 6.749545044998168e-15, 6.6093840271996276e-15]\n",
      "              precision    recall  f1-score   support\n",
      "\n",
      "           0       0.50      0.50      0.50         6\n",
      "           1       0.00      0.00      0.00         7\n",
      "           2       0.11      0.20      0.14         5\n",
      "\n",
      "    accuracy                           0.22        18\n",
      "   macro avg       0.20      0.23      0.21        18\n",
      "weighted avg       0.20      0.22      0.21        18\n",
      "\n",
      "-------------------------------------------------------------------------------------------------------------------\n"
     ]
    },
    {
     "name": "stderr",
     "output_type": "stream",
     "text": [
      "[Parallel(n_jobs=-1)]: Using backend LokyBackend with 12 concurrent workers.\n",
      "[Parallel(n_jobs=-1)]: Done   3 out of   3 | elapsed:  2.0min finished\n"
     ]
    },
    {
     "name": "stdout",
     "output_type": "stream",
     "text": [
      "K-Fold #1\n",
      "Mean negativities for all classes: [0.38893550098264706, 0.3832321272803506, 0.3778497234656667]\n",
      "Mean entropies for all classes: [6.010486508580772e-15, 6.266123307220726e-15, 6.196048738932361e-15]\n",
      "              precision    recall  f1-score   support\n",
      "\n",
      "           0       0.40      0.33      0.36         6\n",
      "           1       0.00      0.00      0.00         7\n",
      "           2       0.27      0.60      0.37         5\n",
      "\n",
      "    accuracy                           0.28        18\n",
      "   macro avg       0.22      0.31      0.25        18\n",
      "weighted avg       0.21      0.28      0.23        18\n",
      "\n",
      "-------------------------------------------------------------------------------------------------------------------\n"
     ]
    },
    {
     "name": "stderr",
     "output_type": "stream",
     "text": [
      "[Parallel(n_jobs=-1)]: Using backend LokyBackend with 12 concurrent workers.\n",
      "[Parallel(n_jobs=-1)]: Done   3 out of   3 | elapsed:  2.0min finished\n"
     ]
    },
    {
     "name": "stdout",
     "output_type": "stream",
     "text": [
      "K-Fold #2\n",
      "Mean negativities for all classes: [0.3875568801974212, 0.38752740294813337, 0.3833972543065904]\n",
      "Mean entropies for all classes: [6.475117845371461e-15, 6.809809471654217e-15, 6.74204283298319e-15]\n",
      "              precision    recall  f1-score   support\n",
      "\n",
      "           0       0.29      0.33      0.31         6\n",
      "           1       0.00      0.00      0.00         7\n",
      "           2       0.00      0.00      0.00         5\n",
      "\n",
      "    accuracy                           0.11        18\n",
      "   macro avg       0.10      0.11      0.10        18\n",
      "weighted avg       0.10      0.11      0.10        18\n",
      "\n",
      "-------------------------------------------------------------------------------------------------------------------\n"
     ]
    },
    {
     "name": "stderr",
     "output_type": "stream",
     "text": [
      "[Parallel(n_jobs=-1)]: Using backend LokyBackend with 12 concurrent workers.\n",
      "[Parallel(n_jobs=-1)]: Done   3 out of   3 | elapsed:  2.0min finished\n"
     ]
    },
    {
     "name": "stdout",
     "output_type": "stream",
     "text": [
      "K-Fold #3\n",
      "Mean negativities for all classes: [0.3893360039337942, 0.38425390147446015, 0.3764037778289913]\n",
      "Mean entropies for all classes: [6.172671611248229e-15, 5.850694595281724e-15, 6.74346045961063e-15]\n",
      "              precision    recall  f1-score   support\n",
      "\n",
      "           0       0.20      0.17      0.18         6\n",
      "           1       0.00      0.00      0.00         7\n",
      "           2       0.10      0.20      0.13         5\n",
      "\n",
      "    accuracy                           0.11        18\n",
      "   macro avg       0.10      0.12      0.11        18\n",
      "weighted avg       0.09      0.11      0.10        18\n",
      "\n",
      "-------------------------------------------------------------------------------------------------------------------\n"
     ]
    },
    {
     "name": "stderr",
     "output_type": "stream",
     "text": [
      "[Parallel(n_jobs=-1)]: Using backend LokyBackend with 12 concurrent workers.\n",
      "[Parallel(n_jobs=-1)]: Done   3 out of   3 | elapsed:  2.0min finished\n"
     ]
    },
    {
     "name": "stdout",
     "output_type": "stream",
     "text": [
      "K-Fold #4\n",
      "Mean negativities for all classes: [0.38246362936241757, 0.384456324145226, 0.38081541658268636]\n",
      "Mean entropies for all classes: [6.008421490071824e-15, 6.970937401130092e-15, 6.4005866163113416e-15]\n",
      "              precision    recall  f1-score   support\n",
      "\n",
      "           0       0.43      0.50      0.46         6\n",
      "           1       0.00      0.00      0.00         7\n",
      "           2       0.14      0.20      0.17         5\n",
      "\n",
      "    accuracy                           0.22        18\n",
      "   macro avg       0.19      0.23      0.21        18\n",
      "weighted avg       0.18      0.22      0.20        18\n",
      "\n",
      "-------------------------------------------------------------------------------------------------------------------\n"
     ]
    },
    {
     "name": "stderr",
     "output_type": "stream",
     "text": [
      "[Parallel(n_jobs=-1)]: Using backend LokyBackend with 12 concurrent workers.\n",
      "[Parallel(n_jobs=-1)]: Done   3 out of   3 | elapsed:  2.0min finished\n"
     ]
    },
    {
     "name": "stdout",
     "output_type": "stream",
     "text": [
      "K-Fold #5\n",
      "Mean negativities for all classes: [0.3828015043585182, 0.3815055982278076, 0.3761914731676762]\n",
      "Mean entropies for all classes: [6.573102398125748e-15, 6.188100622214395e-15, 6.0008634882987524e-15]\n",
      "              precision    recall  f1-score   support\n",
      "\n",
      "           0       0.30      0.50      0.37         6\n",
      "           1       0.00      0.00      0.00         7\n",
      "           2       0.14      0.20      0.17         5\n",
      "\n",
      "    accuracy                           0.22        18\n",
      "   macro avg       0.15      0.23      0.18        18\n",
      "weighted avg       0.14      0.22      0.17        18\n",
      "\n",
      "-------------------------------------------------------------------------------------------------------------------\n"
     ]
    },
    {
     "name": "stderr",
     "output_type": "stream",
     "text": [
      "[Parallel(n_jobs=-1)]: Using backend LokyBackend with 12 concurrent workers.\n",
      "[Parallel(n_jobs=-1)]: Done   3 out of   3 | elapsed:  2.0min finished\n"
     ]
    },
    {
     "name": "stdout",
     "output_type": "stream",
     "text": [
      "K-Fold #6\n",
      "Mean negativities for all classes: [0.38583556709624833, 0.3851620861632583, 0.37434078691974765]\n",
      "Mean entropies for all classes: [6.216948841701891e-15, 7.13680187469733e-15, 6.371518333844793e-15]\n",
      "              precision    recall  f1-score   support\n",
      "\n",
      "           0       0.50      0.67      0.57         6\n",
      "           1       0.00      0.00      0.00         7\n",
      "           2       0.12      0.20      0.15         5\n",
      "\n",
      "    accuracy                           0.28        18\n",
      "   macro avg       0.21      0.29      0.24        18\n",
      "weighted avg       0.20      0.28      0.23        18\n",
      "\n",
      "-------------------------------------------------------------------------------------------------------------------\n"
     ]
    },
    {
     "name": "stderr",
     "output_type": "stream",
     "text": [
      "[Parallel(n_jobs=-1)]: Using backend LokyBackend with 12 concurrent workers.\n",
      "[Parallel(n_jobs=-1)]: Done   3 out of   3 | elapsed:  2.0min finished\n"
     ]
    },
    {
     "name": "stdout",
     "output_type": "stream",
     "text": [
      "K-Fold #7\n",
      "Mean negativities for all classes: [0.3913193308667197, 0.37851011443640825, 0.3752517701083486]\n",
      "Mean entropies for all classes: [6.447161201711797e-15, 6.948196769387361e-15, 6.3845587459202504e-15]\n",
      "              precision    recall  f1-score   support\n",
      "\n",
      "           0       0.33      0.17      0.22         6\n",
      "           1       0.00      0.00      0.00         7\n",
      "           2       0.15      0.40      0.22         5\n",
      "\n",
      "    accuracy                           0.17        18\n",
      "   macro avg       0.16      0.19      0.15        18\n",
      "weighted avg       0.15      0.17      0.14        18\n",
      "\n",
      "-------------------------------------------------------------------------------------------------------------------\n"
     ]
    },
    {
     "name": "stderr",
     "output_type": "stream",
     "text": [
      "[Parallel(n_jobs=-1)]: Using backend LokyBackend with 12 concurrent workers.\n",
      "[Parallel(n_jobs=-1)]: Done   3 out of   3 | elapsed:  2.0min finished\n"
     ]
    },
    {
     "name": "stdout",
     "output_type": "stream",
     "text": [
      "K-Fold #8\n",
      "Mean negativities for all classes: [0.3821229399132521, 0.38531776986074107, 0.3775144173795601]\n",
      "Mean entropies for all classes: [6.287281607784026e-15, 6.5844342163913554e-15, 6.76992700811327e-15]\n",
      "              precision    recall  f1-score   support\n",
      "\n",
      "           0       0.29      0.33      0.31         6\n",
      "           1       0.00      0.00      0.00         7\n",
      "           2       0.10      0.25      0.14         4\n",
      "\n",
      "    accuracy                           0.18        17\n",
      "   macro avg       0.13      0.19      0.15        17\n",
      "weighted avg       0.12      0.18      0.14        17\n",
      "\n",
      "-------------------------------------------------------------------------------------------------------------------\n"
     ]
    },
    {
     "name": "stderr",
     "output_type": "stream",
     "text": [
      "c:\\ProgramData\\Anaconda3\\lib\\site-packages\\sklearn\\metrics\\_classification.py:1344: UndefinedMetricWarning: Precision and F-score are ill-defined and being set to 0.0 in labels with no predicted samples. Use `zero_division` parameter to control this behavior.\n",
      "  _warn_prf(average, modifier, msg_start, len(result))\n",
      "c:\\ProgramData\\Anaconda3\\lib\\site-packages\\sklearn\\metrics\\_classification.py:1344: UndefinedMetricWarning: Precision and F-score are ill-defined and being set to 0.0 in labels with no predicted samples. Use `zero_division` parameter to control this behavior.\n",
      "  _warn_prf(average, modifier, msg_start, len(result))\n",
      "c:\\ProgramData\\Anaconda3\\lib\\site-packages\\sklearn\\metrics\\_classification.py:1344: UndefinedMetricWarning: Precision and F-score are ill-defined and being set to 0.0 in labels with no predicted samples. Use `zero_division` parameter to control this behavior.\n",
      "  _warn_prf(average, modifier, msg_start, len(result))\n",
      "[Parallel(n_jobs=-1)]: Using backend LokyBackend with 12 concurrent workers.\n",
      "[Parallel(n_jobs=-1)]: Done   3 out of   3 | elapsed:  2.0min finished\n"
     ]
    },
    {
     "name": "stdout",
     "output_type": "stream",
     "text": [
      "K-Fold #9\n",
      "Mean negativities for all classes: [0.3931010480249205, 0.3856534310170343, 0.3781175577597614]\n",
      "Mean entropies for all classes: [5.889434084885271e-15, 6.827937387409379e-15, 6.437999175622289e-15]\n",
      "              precision    recall  f1-score   support\n",
      "\n",
      "           0       0.17      0.20      0.18         5\n",
      "           1       0.00      0.00      0.00         8\n",
      "           2       0.22      0.50      0.31         4\n",
      "\n",
      "    accuracy                           0.18        17\n",
      "   macro avg       0.13      0.23      0.16        17\n",
      "weighted avg       0.10      0.18      0.13        17\n",
      "\n",
      "-------------------------------------------------------------------------------------------------------------------\n",
      "AVG: Scores = 0.19640522875816996 F1-Scores = 0.17613294113294112 Negativity = [0.37593028946425006, 0.38333911724288816, 0.3861605124840483] Entropy = [6.381234071988538e-15, 6.1575528515779525e-15, 6.675656716669623e-15]\n"
     ]
    },
    {
     "name": "stderr",
     "output_type": "stream",
     "text": [
      "[Parallel(n_jobs=-1)]: Using backend LokyBackend with 12 concurrent workers.\n",
      "[Parallel(n_jobs=-1)]: Done   3 out of   3 | elapsed:  2.0min finished\n"
     ]
    },
    {
     "name": "stdout",
     "output_type": "stream",
     "text": [
      "K-Fold #0\n",
      "Mean negativities for all classes: [0.389975686654867, 0.3786579610725269, 0.37947459837904884]\n",
      "Mean entropies for all classes: [6.344859434898128e-15, 6.1844190074618824e-15, 6.182738459997214e-15]\n",
      "              precision    recall  f1-score   support\n",
      "\n",
      "           0       0.17      0.17      0.17         6\n",
      "           1       0.00      0.00      0.00         7\n",
      "           2       0.18      0.40      0.25         5\n",
      "\n",
      "    accuracy                           0.17        18\n",
      "   macro avg       0.12      0.19      0.14        18\n",
      "weighted avg       0.11      0.17      0.12        18\n",
      "\n",
      "-------------------------------------------------------------------------------------------------------------------\n"
     ]
    },
    {
     "name": "stderr",
     "output_type": "stream",
     "text": [
      "[Parallel(n_jobs=-1)]: Using backend LokyBackend with 12 concurrent workers.\n",
      "[Parallel(n_jobs=-1)]: Done   3 out of   3 | elapsed:  2.0min finished\n"
     ]
    },
    {
     "name": "stdout",
     "output_type": "stream",
     "text": [
      "K-Fold #1\n",
      "Mean negativities for all classes: [0.3862451158074552, 0.37493844039236557, 0.38070118112182844]\n",
      "Mean entropies for all classes: [5.874626779827425e-15, 6.6715599863408536e-15, 6.35660640638397e-15]\n",
      "              precision    recall  f1-score   support\n",
      "\n",
      "           0       0.38      0.50      0.43         6\n",
      "           1       0.00      0.00      0.00         7\n",
      "           2       0.33      0.40      0.36         5\n",
      "\n",
      "    accuracy                           0.28        18\n",
      "   macro avg       0.24      0.30      0.26        18\n",
      "weighted avg       0.22      0.28      0.24        18\n",
      "\n",
      "-------------------------------------------------------------------------------------------------------------------\n"
     ]
    },
    {
     "name": "stderr",
     "output_type": "stream",
     "text": [
      "[Parallel(n_jobs=-1)]: Using backend LokyBackend with 12 concurrent workers.\n",
      "[Parallel(n_jobs=-1)]: Done   3 out of   3 | elapsed:  2.0min finished\n"
     ]
    },
    {
     "name": "stdout",
     "output_type": "stream",
     "text": [
      "K-Fold #2\n",
      "Mean negativities for all classes: [0.3887387024678013, 0.3759767717995744, 0.37641964274648615]\n",
      "Mean entropies for all classes: [6.258808340370633e-15, 6.548298588642858e-15, 6.561700086350049e-15]\n",
      "              precision    recall  f1-score   support\n",
      "\n",
      "           0       0.57      0.67      0.62         6\n",
      "           1       0.25      0.14      0.18         7\n",
      "           2       0.29      0.40      0.33         5\n",
      "\n",
      "    accuracy                           0.39        18\n",
      "   macro avg       0.37      0.40      0.38        18\n",
      "weighted avg       0.37      0.39      0.37        18\n",
      "\n",
      "-------------------------------------------------------------------------------------------------------------------\n"
     ]
    },
    {
     "name": "stderr",
     "output_type": "stream",
     "text": [
      "[Parallel(n_jobs=-1)]: Using backend LokyBackend with 12 concurrent workers.\n",
      "[Parallel(n_jobs=-1)]: Done   3 out of   3 | elapsed:  2.0min finished\n"
     ]
    },
    {
     "name": "stdout",
     "output_type": "stream",
     "text": [
      "K-Fold #3\n",
      "Mean negativities for all classes: [0.3802981304844414, 0.3782335756462763, 0.38234002846035964]\n",
      "Mean entropies for all classes: [6.648400303384516e-15, 6.6029552490192065e-15, 6.867731329249306e-15]\n",
      "              precision    recall  f1-score   support\n",
      "\n",
      "           0       0.33      0.50      0.40         6\n",
      "           1       0.00      0.00      0.00         7\n",
      "           2       0.00      0.00      0.00         5\n",
      "\n",
      "    accuracy                           0.17        18\n",
      "   macro avg       0.11      0.17      0.13        18\n",
      "weighted avg       0.11      0.17      0.13        18\n",
      "\n",
      "-------------------------------------------------------------------------------------------------------------------\n"
     ]
    },
    {
     "name": "stderr",
     "output_type": "stream",
     "text": [
      "[Parallel(n_jobs=-1)]: Using backend LokyBackend with 12 concurrent workers.\n",
      "[Parallel(n_jobs=-1)]: Done   3 out of   3 | elapsed:  2.0min finished\n"
     ]
    },
    {
     "name": "stdout",
     "output_type": "stream",
     "text": [
      "K-Fold #4\n",
      "Mean negativities for all classes: [0.38030635046773725, 0.3858110280213212, 0.38187041193312543]\n",
      "Mean entropies for all classes: [6.162815579066356e-15, 6.9390539696288424e-15, 6.163116228580689e-15]\n",
      "              precision    recall  f1-score   support\n",
      "\n",
      "           0       0.22      0.33      0.27         6\n",
      "           1       0.00      0.00      0.00         7\n",
      "           2       0.00      0.00      0.00         5\n",
      "\n",
      "    accuracy                           0.11        18\n",
      "   macro avg       0.07      0.11      0.09        18\n",
      "weighted avg       0.07      0.11      0.09        18\n",
      "\n",
      "-------------------------------------------------------------------------------------------------------------------\n"
     ]
    },
    {
     "name": "stderr",
     "output_type": "stream",
     "text": [
      "[Parallel(n_jobs=-1)]: Using backend LokyBackend with 12 concurrent workers.\n",
      "[Parallel(n_jobs=-1)]: Done   3 out of   3 | elapsed:  2.0min finished\n"
     ]
    },
    {
     "name": "stdout",
     "output_type": "stream",
     "text": [
      "K-Fold #5\n",
      "Mean negativities for all classes: [0.38845754215672396, 0.3799701588318523, 0.38091439785425396]\n",
      "Mean entropies for all classes: [6.24719410697045e-15, 6.196155618239528e-15, 6.393612443683098e-15]\n",
      "              precision    recall  f1-score   support\n",
      "\n",
      "           0       0.25      0.17      0.20         6\n",
      "           1       0.00      0.00      0.00         7\n",
      "           2       0.18      0.40      0.25         5\n",
      "\n",
      "    accuracy                           0.17        18\n",
      "   macro avg       0.14      0.19      0.15        18\n",
      "weighted avg       0.13      0.17      0.14        18\n",
      "\n",
      "-------------------------------------------------------------------------------------------------------------------\n"
     ]
    },
    {
     "name": "stderr",
     "output_type": "stream",
     "text": [
      "[Parallel(n_jobs=-1)]: Using backend LokyBackend with 12 concurrent workers.\n",
      "[Parallel(n_jobs=-1)]: Done   3 out of   3 | elapsed:  2.0min finished\n"
     ]
    },
    {
     "name": "stdout",
     "output_type": "stream",
     "text": [
      "K-Fold #6\n",
      "Mean negativities for all classes: [0.386646824639901, 0.38327152108819024, 0.3823974379003524]\n",
      "Mean entropies for all classes: [6.10694909300924e-15, 6.9564071024807446e-15, 6.144451026375387e-15]\n",
      "              precision    recall  f1-score   support\n",
      "\n",
      "           0       0.33      0.33      0.33         6\n",
      "           1       0.00      0.00      0.00         7\n",
      "           2       0.11      0.20      0.14         5\n",
      "\n",
      "    accuracy                           0.17        18\n",
      "   macro avg       0.15      0.18      0.16        18\n",
      "weighted avg       0.14      0.17      0.15        18\n",
      "\n",
      "-------------------------------------------------------------------------------------------------------------------\n"
     ]
    },
    {
     "name": "stderr",
     "output_type": "stream",
     "text": [
      "[Parallel(n_jobs=-1)]: Using backend LokyBackend with 12 concurrent workers.\n",
      "[Parallel(n_jobs=-1)]: Done   3 out of   3 | elapsed:  2.1min finished\n"
     ]
    },
    {
     "name": "stdout",
     "output_type": "stream",
     "text": [
      "K-Fold #7\n",
      "Mean negativities for all classes: [0.38528910189589505, 0.3877743141907249, 0.37361408257299833]\n",
      "Mean entropies for all classes: [6.260952607896792e-15, 6.700229670998141e-15, 6.576722626499664e-15]\n",
      "              precision    recall  f1-score   support\n",
      "\n",
      "           0       0.50      0.67      0.57         6\n",
      "           1       0.00      0.00      0.00         7\n",
      "           2       0.00      0.00      0.00         5\n",
      "\n",
      "    accuracy                           0.22        18\n",
      "   macro avg       0.17      0.22      0.19        18\n",
      "weighted avg       0.17      0.22      0.19        18\n",
      "\n",
      "-------------------------------------------------------------------------------------------------------------------\n"
     ]
    },
    {
     "name": "stderr",
     "output_type": "stream",
     "text": [
      "[Parallel(n_jobs=-1)]: Using backend LokyBackend with 12 concurrent workers.\n",
      "[Parallel(n_jobs=-1)]: Done   3 out of   3 | elapsed:  2.0min finished\n"
     ]
    },
    {
     "name": "stdout",
     "output_type": "stream",
     "text": [
      "K-Fold #8\n",
      "Mean negativities for all classes: [0.3901837588794875, 0.3849216321889904, 0.37329212233382264]\n",
      "Mean entropies for all classes: [6.080985440188738e-15, 6.953266143956881e-15, 6.256964012825733e-15]\n",
      "              precision    recall  f1-score   support\n",
      "\n",
      "           0       0.14      0.17      0.15         6\n",
      "           1       0.00      0.00      0.00         7\n",
      "           2       0.10      0.25      0.14         4\n",
      "\n",
      "    accuracy                           0.12        17\n",
      "   macro avg       0.08      0.14      0.10        17\n",
      "weighted avg       0.07      0.12      0.09        17\n",
      "\n",
      "-------------------------------------------------------------------------------------------------------------------\n"
     ]
    },
    {
     "name": "stderr",
     "output_type": "stream",
     "text": [
      "c:\\ProgramData\\Anaconda3\\lib\\site-packages\\sklearn\\metrics\\_classification.py:1344: UndefinedMetricWarning: Precision and F-score are ill-defined and being set to 0.0 in labels with no predicted samples. Use `zero_division` parameter to control this behavior.\n",
      "  _warn_prf(average, modifier, msg_start, len(result))\n",
      "c:\\ProgramData\\Anaconda3\\lib\\site-packages\\sklearn\\metrics\\_classification.py:1344: UndefinedMetricWarning: Precision and F-score are ill-defined and being set to 0.0 in labels with no predicted samples. Use `zero_division` parameter to control this behavior.\n",
      "  _warn_prf(average, modifier, msg_start, len(result))\n",
      "c:\\ProgramData\\Anaconda3\\lib\\site-packages\\sklearn\\metrics\\_classification.py:1344: UndefinedMetricWarning: Precision and F-score are ill-defined and being set to 0.0 in labels with no predicted samples. Use `zero_division` parameter to control this behavior.\n",
      "  _warn_prf(average, modifier, msg_start, len(result))\n",
      "[Parallel(n_jobs=-1)]: Using backend LokyBackend with 12 concurrent workers.\n",
      "[Parallel(n_jobs=-1)]: Done   3 out of   3 | elapsed:  2.0min finished\n"
     ]
    },
    {
     "name": "stdout",
     "output_type": "stream",
     "text": [
      "K-Fold #9\n",
      "Mean negativities for all classes: [0.3866322952007899, 0.3831847271520199, 0.37279131025711804]\n",
      "Mean entropies for all classes: [5.929855923540441e-15, 6.893932745971295e-15, 6.073965579277302e-15]\n",
      "              precision    recall  f1-score   support\n",
      "\n",
      "           0       0.50      0.60      0.55         5\n",
      "           1       0.00      0.00      0.00         8\n",
      "           2       0.00      0.00      0.00         4\n",
      "\n",
      "    accuracy                           0.18        17\n",
      "   macro avg       0.17      0.20      0.18        17\n",
      "weighted avg       0.15      0.18      0.16        17\n",
      "\n",
      "-------------------------------------------------------------------------------------------------------------------\n",
      "AVG: Scores = 0.19607843137254902 F1-Scores = 0.17819513819513821 Negativity = [0.38270274870214754, 0.38062824577388304, 0.3803783723379539] Entropy = [6.2373389674524075e-15, 6.300931057517416e-15, 6.45626900512118e-15]\n"
     ]
    },
    {
     "name": "stderr",
     "output_type": "stream",
     "text": [
      "[Parallel(n_jobs=-1)]: Using backend LokyBackend with 12 concurrent workers.\n",
      "[Parallel(n_jobs=-1)]: Done   3 out of   3 | elapsed:  2.0min finished\n"
     ]
    },
    {
     "name": "stdout",
     "output_type": "stream",
     "text": [
      "K-Fold #0\n",
      "Mean negativities for all classes: [0.3881762957791427, 0.3803674475009482, 0.37832954921746914]\n",
      "Mean entropies for all classes: [6.696590317169208e-15, 6.663174773224904e-15, 6.1350285624790176e-15]\n",
      "              precision    recall  f1-score   support\n",
      "\n",
      "           0       0.20      0.17      0.18         6\n",
      "           1       0.00      0.00      0.00         7\n",
      "           2       0.17      0.40      0.24         5\n",
      "\n",
      "    accuracy                           0.17        18\n",
      "   macro avg       0.12      0.19      0.14        18\n",
      "weighted avg       0.11      0.17      0.13        18\n",
      "\n",
      "-------------------------------------------------------------------------------------------------------------------\n"
     ]
    },
    {
     "name": "stderr",
     "output_type": "stream",
     "text": [
      "[Parallel(n_jobs=-1)]: Using backend LokyBackend with 12 concurrent workers.\n",
      "[Parallel(n_jobs=-1)]: Done   3 out of   3 | elapsed:  2.0min finished\n"
     ]
    },
    {
     "name": "stdout",
     "output_type": "stream",
     "text": [
      "K-Fold #1\n",
      "Mean negativities for all classes: [0.38765528827543627, 0.38125068870468193, 0.38229690815962786]\n",
      "Mean entropies for all classes: [6.392360173466202e-15, 6.670008865454393e-15, 6.608625281089663e-15]\n",
      "              precision    recall  f1-score   support\n",
      "\n",
      "           0       0.38      0.50      0.43         6\n",
      "           1       0.50      0.14      0.22         7\n",
      "           2       0.50      0.80      0.62         5\n",
      "\n",
      "    accuracy                           0.44        18\n",
      "   macro avg       0.46      0.48      0.42        18\n",
      "weighted avg       0.46      0.44      0.40        18\n",
      "\n",
      "-------------------------------------------------------------------------------------------------------------------\n"
     ]
    },
    {
     "name": "stderr",
     "output_type": "stream",
     "text": [
      "[Parallel(n_jobs=-1)]: Using backend LokyBackend with 12 concurrent workers.\n",
      "[Parallel(n_jobs=-1)]: Done   3 out of   3 | elapsed:  2.0min finished\n"
     ]
    },
    {
     "name": "stdout",
     "output_type": "stream",
     "text": [
      "K-Fold #2\n",
      "Mean negativities for all classes: [0.38667040561079447, 0.3846152568222148, 0.38030409842270824]\n",
      "Mean entropies for all classes: [6.417698259013751e-15, 6.522651574949562e-15, 6.0467757398530676e-15]\n",
      "              precision    recall  f1-score   support\n",
      "\n",
      "           0       0.12      0.17      0.14         6\n",
      "           1       0.00      0.00      0.00         7\n",
      "           2       0.00      0.00      0.00         5\n",
      "\n",
      "    accuracy                           0.06        18\n",
      "   macro avg       0.04      0.06      0.05        18\n",
      "weighted avg       0.04      0.06      0.05        18\n",
      "\n",
      "-------------------------------------------------------------------------------------------------------------------\n"
     ]
    },
    {
     "name": "stderr",
     "output_type": "stream",
     "text": [
      "[Parallel(n_jobs=-1)]: Using backend LokyBackend with 12 concurrent workers.\n",
      "[Parallel(n_jobs=-1)]: Done   3 out of   3 | elapsed:  2.0min finished\n"
     ]
    },
    {
     "name": "stdout",
     "output_type": "stream",
     "text": [
      "K-Fold #3\n",
      "Mean negativities for all classes: [0.38748116521652354, 0.3782624633839118, 0.3728233209531526]\n",
      "Mean entropies for all classes: [6.256274890295097e-15, 6.026145155041639e-15, 6.3107953108251745e-15]\n",
      "              precision    recall  f1-score   support\n",
      "\n",
      "           0       0.00      0.00      0.00         6\n",
      "           1       0.00      0.00      0.00         7\n",
      "           2       0.09      0.20      0.13         5\n",
      "\n",
      "    accuracy                           0.06        18\n",
      "   macro avg       0.03      0.07      0.04        18\n",
      "weighted avg       0.03      0.06      0.03        18\n",
      "\n",
      "-------------------------------------------------------------------------------------------------------------------\n"
     ]
    },
    {
     "name": "stderr",
     "output_type": "stream",
     "text": [
      "[Parallel(n_jobs=-1)]: Using backend LokyBackend with 12 concurrent workers.\n",
      "[Parallel(n_jobs=-1)]: Done   3 out of   3 | elapsed:  2.0min finished\n"
     ]
    },
    {
     "name": "stdout",
     "output_type": "stream",
     "text": [
      "K-Fold #4\n",
      "Mean negativities for all classes: [0.3829493144119904, 0.38192121267688733, 0.38401569074690445]\n",
      "Mean entropies for all classes: [6.137486668760418e-15, 6.622303607847133e-15, 6.121051369781011e-15]\n",
      "              precision    recall  f1-score   support\n",
      "\n",
      "           0       0.42      0.83      0.56         6\n",
      "           1       0.00      0.00      0.00         7\n",
      "           2       0.00      0.00      0.00         5\n",
      "\n",
      "    accuracy                           0.28        18\n",
      "   macro avg       0.14      0.28      0.19        18\n",
      "weighted avg       0.14      0.28      0.19        18\n",
      "\n",
      "-------------------------------------------------------------------------------------------------------------------\n"
     ]
    },
    {
     "name": "stderr",
     "output_type": "stream",
     "text": [
      "[Parallel(n_jobs=-1)]: Using backend LokyBackend with 12 concurrent workers.\n",
      "[Parallel(n_jobs=-1)]: Done   3 out of   3 | elapsed:  2.0min finished\n"
     ]
    },
    {
     "name": "stdout",
     "output_type": "stream",
     "text": [
      "K-Fold #5\n",
      "Mean negativities for all classes: [0.38774709122426637, 0.3835412781464538, 0.3793876716165777]\n",
      "Mean entropies for all classes: [6.163991065735558e-15, 6.4716139550778025e-15, 6.609628288399617e-15]\n",
      "              precision    recall  f1-score   support\n",
      "\n",
      "           0       0.43      0.50      0.46         6\n",
      "           1       0.00      0.00      0.00         7\n",
      "           2       0.25      0.40      0.31         5\n",
      "\n",
      "    accuracy                           0.28        18\n",
      "   macro avg       0.23      0.30      0.26        18\n",
      "weighted avg       0.21      0.28      0.24        18\n",
      "\n",
      "-------------------------------------------------------------------------------------------------------------------\n"
     ]
    },
    {
     "name": "stderr",
     "output_type": "stream",
     "text": [
      "[Parallel(n_jobs=-1)]: Using backend LokyBackend with 12 concurrent workers.\n",
      "[Parallel(n_jobs=-1)]: Done   3 out of   3 | elapsed:  2.0min finished\n"
     ]
    },
    {
     "name": "stdout",
     "output_type": "stream",
     "text": [
      "K-Fold #6\n",
      "Mean negativities for all classes: [0.38271733901865435, 0.37709609367294455, 0.37832428687891534]\n",
      "Mean entropies for all classes: [6.136039468109971e-15, 6.391105511276033e-15, 6.57372725112284e-15]\n",
      "              precision    recall  f1-score   support\n",
      "\n",
      "           0       0.33      0.50      0.40         6\n",
      "           1       0.00      0.00      0.00         7\n",
      "           2       0.12      0.20      0.15         5\n",
      "\n",
      "    accuracy                           0.22        18\n",
      "   macro avg       0.15      0.23      0.18        18\n",
      "weighted avg       0.15      0.22      0.18        18\n",
      "\n",
      "-------------------------------------------------------------------------------------------------------------------\n"
     ]
    },
    {
     "name": "stderr",
     "output_type": "stream",
     "text": [
      "[Parallel(n_jobs=-1)]: Using backend LokyBackend with 12 concurrent workers.\n",
      "[Parallel(n_jobs=-1)]: Done   3 out of   3 | elapsed:  2.0min finished\n"
     ]
    },
    {
     "name": "stdout",
     "output_type": "stream",
     "text": [
      "K-Fold #7\n",
      "Mean negativities for all classes: [0.38365856451508606, 0.3839490522784902, 0.37661620959042197]\n",
      "Mean entropies for all classes: [6.0251368282374604e-15, 6.2668122839070515e-15, 6.89011152133336e-15]\n",
      "              precision    recall  f1-score   support\n",
      "\n",
      "           0       0.50      0.67      0.57         6\n",
      "           1       0.00      0.00      0.00         7\n",
      "           2       0.14      0.20      0.17         5\n",
      "\n",
      "    accuracy                           0.28        18\n",
      "   macro avg       0.21      0.29      0.25        18\n",
      "weighted avg       0.21      0.28      0.24        18\n",
      "\n",
      "-------------------------------------------------------------------------------------------------------------------\n"
     ]
    },
    {
     "name": "stderr",
     "output_type": "stream",
     "text": [
      "[Parallel(n_jobs=-1)]: Using backend LokyBackend with 12 concurrent workers.\n",
      "[Parallel(n_jobs=-1)]: Done   3 out of   3 | elapsed:  2.0min finished\n"
     ]
    },
    {
     "name": "stdout",
     "output_type": "stream",
     "text": [
      "K-Fold #8\n",
      "Mean negativities for all classes: [0.38859971859802533, 0.3866332377574433, 0.37056954256920893]\n",
      "Mean entropies for all classes: [5.986772572324111e-15, 6.231994688432084e-15, 6.194587045964834e-15]\n",
      "              precision    recall  f1-score   support\n",
      "\n",
      "           0       0.57      0.67      0.62         6\n",
      "           1       0.00      0.00      0.00         7\n",
      "           2       0.30      0.75      0.43         4\n",
      "\n",
      "    accuracy                           0.41        17\n",
      "   macro avg       0.29      0.47      0.35        17\n",
      "weighted avg       0.27      0.41      0.32        17\n",
      "\n",
      "-------------------------------------------------------------------------------------------------------------------\n"
     ]
    },
    {
     "name": "stderr",
     "output_type": "stream",
     "text": [
      "c:\\ProgramData\\Anaconda3\\lib\\site-packages\\sklearn\\metrics\\_classification.py:1344: UndefinedMetricWarning: Precision and F-score are ill-defined and being set to 0.0 in labels with no predicted samples. Use `zero_division` parameter to control this behavior.\n",
      "  _warn_prf(average, modifier, msg_start, len(result))\n",
      "c:\\ProgramData\\Anaconda3\\lib\\site-packages\\sklearn\\metrics\\_classification.py:1344: UndefinedMetricWarning: Precision and F-score are ill-defined and being set to 0.0 in labels with no predicted samples. Use `zero_division` parameter to control this behavior.\n",
      "  _warn_prf(average, modifier, msg_start, len(result))\n",
      "c:\\ProgramData\\Anaconda3\\lib\\site-packages\\sklearn\\metrics\\_classification.py:1344: UndefinedMetricWarning: Precision and F-score are ill-defined and being set to 0.0 in labels with no predicted samples. Use `zero_division` parameter to control this behavior.\n",
      "  _warn_prf(average, modifier, msg_start, len(result))\n",
      "[Parallel(n_jobs=-1)]: Using backend LokyBackend with 12 concurrent workers.\n",
      "[Parallel(n_jobs=-1)]: Done   3 out of   3 | elapsed:  2.0min finished\n"
     ]
    },
    {
     "name": "stdout",
     "output_type": "stream",
     "text": [
      "K-Fold #9\n",
      "Mean negativities for all classes: [0.3840879946984207, 0.3880800561622294, 0.37948638467228996]\n",
      "Mean entropies for all classes: [6.490681430691435e-15, 6.951023952933177e-15, 6.149887084840561e-15]\n",
      "              precision    recall  f1-score   support\n",
      "\n",
      "           0       0.40      0.40      0.40         5\n",
      "           1       0.00      0.00      0.00         8\n",
      "           2       0.08      0.25      0.12         4\n",
      "\n",
      "    accuracy                           0.18        17\n",
      "   macro avg       0.16      0.22      0.18        17\n",
      "weighted avg       0.14      0.18      0.15        17\n",
      "\n",
      "-------------------------------------------------------------------------------------------------------------------\n",
      "AVG: Scores = 0.23660130718954245 F1-Scores = 0.20456104897281366 Negativity = [0.38229109749918666, 0.383734295046582, 0.3838632536185725] Entropy = [6.49826455095771e-15, 6.5569981066700866e-15, 6.329041857938794e-15]\n"
     ]
    },
    {
     "name": "stderr",
     "output_type": "stream",
     "text": [
      "c:\\ProgramData\\Anaconda3\\lib\\site-packages\\sklearn\\metrics\\_classification.py:1344: UndefinedMetricWarning: Precision and F-score are ill-defined and being set to 0.0 in labels with no predicted samples. Use `zero_division` parameter to control this behavior.\n",
      "  _warn_prf(average, modifier, msg_start, len(result))\n",
      "c:\\ProgramData\\Anaconda3\\lib\\site-packages\\sklearn\\metrics\\_classification.py:1344: UndefinedMetricWarning: Precision and F-score are ill-defined and being set to 0.0 in labels with no predicted samples. Use `zero_division` parameter to control this behavior.\n",
      "  _warn_prf(average, modifier, msg_start, len(result))\n",
      "c:\\ProgramData\\Anaconda3\\lib\\site-packages\\sklearn\\metrics\\_classification.py:1344: UndefinedMetricWarning: Precision and F-score are ill-defined and being set to 0.0 in labels with no predicted samples. Use `zero_division` parameter to control this behavior.\n",
      "  _warn_prf(average, modifier, msg_start, len(result))\n",
      "[Parallel(n_jobs=-1)]: Using backend LokyBackend with 12 concurrent workers.\n",
      "[Parallel(n_jobs=-1)]: Done   3 out of   3 | elapsed:  2.0min finished\n"
     ]
    },
    {
     "name": "stdout",
     "output_type": "stream",
     "text": [
      "K-Fold #0\n",
      "Mean negativities for all classes: [0.3862468809401662, 0.3783816264411317, 0.3787185402091787]\n",
      "Mean entropies for all classes: [6.3375849312547896e-15, 6.422192767180553e-15, 6.2557070738114885e-15]\n",
      "              precision    recall  f1-score   support\n",
      "\n",
      "           0       0.25      0.33      0.29         6\n",
      "           1       0.00      0.00      0.00         7\n",
      "           2       0.29      0.40      0.33         5\n",
      "\n",
      "    accuracy                           0.22        18\n",
      "   macro avg       0.18      0.24      0.21        18\n",
      "weighted avg       0.16      0.22      0.19        18\n",
      "\n",
      "-------------------------------------------------------------------------------------------------------------------\n"
     ]
    },
    {
     "name": "stderr",
     "output_type": "stream",
     "text": [
      "[Parallel(n_jobs=-1)]: Using backend LokyBackend with 12 concurrent workers.\n",
      "[Parallel(n_jobs=-1)]: Done   3 out of   3 | elapsed:  2.0min finished\n"
     ]
    },
    {
     "name": "stdout",
     "output_type": "stream",
     "text": [
      "K-Fold #1\n",
      "Mean negativities for all classes: [0.38300122126383584, 0.37695000030249554, 0.37622507941093886]\n",
      "Mean entropies for all classes: [6.426968536155223e-15, 6.80255103005715e-15, 6.3718649079846056e-15]\n",
      "              precision    recall  f1-score   support\n",
      "\n",
      "           0       0.50      0.50      0.50         6\n",
      "           1       0.00      0.00      0.00         7\n",
      "           2       0.18      0.40      0.25         5\n",
      "\n",
      "    accuracy                           0.28        18\n",
      "   macro avg       0.23      0.30      0.25        18\n",
      "weighted avg       0.22      0.28      0.24        18\n",
      "\n",
      "-------------------------------------------------------------------------------------------------------------------\n"
     ]
    },
    {
     "name": "stderr",
     "output_type": "stream",
     "text": [
      "[Parallel(n_jobs=-1)]: Using backend LokyBackend with 12 concurrent workers.\n",
      "[Parallel(n_jobs=-1)]: Done   3 out of   3 | elapsed:  2.0min finished\n"
     ]
    },
    {
     "name": "stdout",
     "output_type": "stream",
     "text": [
      "K-Fold #2\n",
      "Mean negativities for all classes: [0.39362208097344853, 0.37944707029095937, 0.37882320542311165]\n",
      "Mean entropies for all classes: [6.317721516644863e-15, 6.5057562434681024e-15, 6.159677977791049e-15]\n",
      "              precision    recall  f1-score   support\n",
      "\n",
      "           0       0.33      0.17      0.22         6\n",
      "           1       0.00      0.00      0.00         7\n",
      "           2       0.00      0.00      0.00         5\n",
      "\n",
      "    accuracy                           0.06        18\n",
      "   macro avg       0.11      0.06      0.07        18\n",
      "weighted avg       0.11      0.06      0.07        18\n",
      "\n",
      "-------------------------------------------------------------------------------------------------------------------\n"
     ]
    },
    {
     "name": "stderr",
     "output_type": "stream",
     "text": [
      "[Parallel(n_jobs=-1)]: Using backend LokyBackend with 12 concurrent workers.\n",
      "[Parallel(n_jobs=-1)]: Done   3 out of   3 | elapsed:  2.0min finished\n"
     ]
    },
    {
     "name": "stdout",
     "output_type": "stream",
     "text": [
      "K-Fold #3\n",
      "Mean negativities for all classes: [0.3879721224046058, 0.3812464358243961, 0.3783149904725573]\n",
      "Mean entropies for all classes: [6.01439565881983e-15, 6.5162088053486486e-15, 6.2083698407607794e-15]\n",
      "              precision    recall  f1-score   support\n",
      "\n",
      "           0       0.17      0.17      0.17         6\n",
      "           1       0.00      0.00      0.00         7\n",
      "           2       0.00      0.00      0.00         5\n",
      "\n",
      "    accuracy                           0.06        18\n",
      "   macro avg       0.06      0.06      0.06        18\n",
      "weighted avg       0.06      0.06      0.06        18\n",
      "\n",
      "-------------------------------------------------------------------------------------------------------------------\n"
     ]
    },
    {
     "name": "stderr",
     "output_type": "stream",
     "text": [
      "[Parallel(n_jobs=-1)]: Using backend LokyBackend with 12 concurrent workers.\n",
      "[Parallel(n_jobs=-1)]: Done   3 out of   3 | elapsed:  2.0min finished\n"
     ]
    },
    {
     "name": "stdout",
     "output_type": "stream",
     "text": [
      "K-Fold #4\n",
      "Mean negativities for all classes: [0.38903142627043397, 0.38055353847098433, 0.37916014570789974]\n",
      "Mean entropies for all classes: [6.674544808192992e-15, 6.636495292945146e-15, 6.222682729264578e-15]\n",
      "              precision    recall  f1-score   support\n",
      "\n",
      "           0       0.40      0.33      0.36         6\n",
      "           1       0.00      0.00      0.00         7\n",
      "           2       0.10      0.20      0.13         5\n",
      "\n",
      "    accuracy                           0.17        18\n",
      "   macro avg       0.17      0.18      0.17        18\n",
      "weighted avg       0.16      0.17      0.16        18\n",
      "\n",
      "-------------------------------------------------------------------------------------------------------------------\n"
     ]
    },
    {
     "name": "stderr",
     "output_type": "stream",
     "text": [
      "[Parallel(n_jobs=-1)]: Using backend LokyBackend with 12 concurrent workers.\n",
      "[Parallel(n_jobs=-1)]: Done   3 out of   3 | elapsed:  2.0min finished\n"
     ]
    },
    {
     "name": "stdout",
     "output_type": "stream",
     "text": [
      "K-Fold #5\n",
      "Mean negativities for all classes: [0.3830580206469079, 0.3804786764518802, 0.3803310416172263]\n",
      "Mean entropies for all classes: [6.141438014514784e-15, 6.853612921092286e-15, 5.810286453394088e-15]\n",
      "              precision    recall  f1-score   support\n",
      "\n",
      "           0       0.36      0.67      0.47         6\n",
      "           1       0.00      0.00      0.00         7\n",
      "           2       0.20      0.20      0.20         5\n",
      "\n",
      "    accuracy                           0.28        18\n",
      "   macro avg       0.19      0.29      0.22        18\n",
      "weighted avg       0.18      0.28      0.21        18\n",
      "\n",
      "-------------------------------------------------------------------------------------------------------------------\n"
     ]
    },
    {
     "name": "stderr",
     "output_type": "stream",
     "text": [
      "[Parallel(n_jobs=-1)]: Using backend LokyBackend with 12 concurrent workers.\n",
      "[Parallel(n_jobs=-1)]: Done   3 out of   3 | elapsed:  2.0min finished\n"
     ]
    },
    {
     "name": "stdout",
     "output_type": "stream",
     "text": [
      "K-Fold #6\n",
      "Mean negativities for all classes: [0.38790652112580504, 0.38257823301713567, 0.3735044535416338]\n",
      "Mean entropies for all classes: [6.472609130531909e-15, 6.262538106468361e-15, 6.3161931941108765e-15]\n",
      "              precision    recall  f1-score   support\n",
      "\n",
      "           0       0.50      0.50      0.50         6\n",
      "           1       0.00      0.00      0.00         7\n",
      "           2       0.20      0.40      0.27         5\n",
      "\n",
      "    accuracy                           0.28        18\n",
      "   macro avg       0.23      0.30      0.26        18\n",
      "weighted avg       0.22      0.28      0.24        18\n",
      "\n",
      "-------------------------------------------------------------------------------------------------------------------\n"
     ]
    },
    {
     "name": "stderr",
     "output_type": "stream",
     "text": [
      "[Parallel(n_jobs=-1)]: Using backend LokyBackend with 12 concurrent workers.\n",
      "[Parallel(n_jobs=-1)]: Done   3 out of   3 | elapsed:  2.0min finished\n"
     ]
    },
    {
     "name": "stdout",
     "output_type": "stream",
     "text": [
      "K-Fold #7\n",
      "Mean negativities for all classes: [0.3864646261524708, 0.37748924984810417, 0.38307229458569814]\n",
      "Mean entropies for all classes: [6.5760257211206066e-15, 6.722636416920048e-15, 6.009319124357146e-15]\n",
      "              precision    recall  f1-score   support\n",
      "\n",
      "           0       0.38      0.50      0.43         6\n",
      "           1       0.00      0.00      0.00         7\n",
      "           2       0.22      0.40      0.29         5\n",
      "\n",
      "    accuracy                           0.28        18\n",
      "   macro avg       0.20      0.30      0.24        18\n",
      "weighted avg       0.19      0.28      0.22        18\n",
      "\n",
      "-------------------------------------------------------------------------------------------------------------------\n"
     ]
    },
    {
     "name": "stderr",
     "output_type": "stream",
     "text": [
      "[Parallel(n_jobs=-1)]: Using backend LokyBackend with 12 concurrent workers.\n",
      "[Parallel(n_jobs=-1)]: Done   3 out of   3 | elapsed:  2.0min finished\n"
     ]
    },
    {
     "name": "stdout",
     "output_type": "stream",
     "text": [
      "K-Fold #8\n",
      "Mean negativities for all classes: [0.3852438602664566, 0.3892023150289581, 0.3820412256437036]\n",
      "Mean entropies for all classes: [6.606439953601319e-15, 6.41697031056595e-15, 6.818672800548369e-15]\n",
      "              precision    recall  f1-score   support\n",
      "\n",
      "           0       0.43      0.50      0.46         6\n",
      "           1       0.00      0.00      0.00         7\n",
      "           2       0.00      0.00      0.00         4\n",
      "\n",
      "    accuracy                           0.18        17\n",
      "   macro avg       0.14      0.17      0.15        17\n",
      "weighted avg       0.15      0.18      0.16        17\n",
      "\n",
      "-------------------------------------------------------------------------------------------------------------------\n"
     ]
    },
    {
     "name": "stderr",
     "output_type": "stream",
     "text": [
      "[Parallel(n_jobs=-1)]: Using backend LokyBackend with 12 concurrent workers.\n",
      "[Parallel(n_jobs=-1)]: Done   3 out of   3 | elapsed:  2.0min finished\n"
     ]
    },
    {
     "name": "stdout",
     "output_type": "stream",
     "text": [
      "K-Fold #9\n",
      "Mean negativities for all classes: [0.3815224610072786, 0.38181174480729557, 0.3825212480964801]\n",
      "Mean entropies for all classes: [6.4511357681272396e-15, 7.081354291608366e-15, 6.538880080900058e-15]\n",
      "              precision    recall  f1-score   support\n",
      "\n",
      "           0       0.71      1.00      0.83         5\n",
      "           1       0.33      0.12      0.18         8\n",
      "           2       0.29      0.50      0.36         4\n",
      "\n",
      "    accuracy                           0.47        17\n",
      "   macro avg       0.44      0.54      0.46        17\n",
      "weighted avg       0.43      0.47      0.42        17\n",
      "\n",
      "-------------------------------------------------------------------------------------------------------------------\n",
      "AVG: Scores = 0.2258169934640523 F1-Scores = 0.20822577204930143 Negativity = [0.38111568253015893, 0.37872543365909, 0.38396411889583987] Entropy = [6.338494924082277e-15, 6.533794824732326e-15, 6.327718579301339e-15]\n"
     ]
    },
    {
     "name": "stderr",
     "output_type": "stream",
     "text": [
      "[Parallel(n_jobs=-1)]: Using backend LokyBackend with 12 concurrent workers.\n",
      "[Parallel(n_jobs=-1)]: Done   3 out of   3 | elapsed:  2.0min finished\n"
     ]
    },
    {
     "name": "stdout",
     "output_type": "stream",
     "text": [
      "K-Fold #0\n",
      "Mean negativities for all classes: [0.38713378628523093, 0.3837804342293255, 0.3837244811730766]\n",
      "Mean entropies for all classes: [6.22408731863044e-15, 6.626401370911626e-15, 6.230109138865994e-15]\n",
      "              precision    recall  f1-score   support\n",
      "\n",
      "           0       0.17      0.17      0.17         6\n",
      "           1       0.00      0.00      0.00         7\n",
      "           2       0.20      0.40      0.27         5\n",
      "\n",
      "    accuracy                           0.17        18\n",
      "   macro avg       0.12      0.19      0.14        18\n",
      "weighted avg       0.11      0.17      0.13        18\n",
      "\n",
      "-------------------------------------------------------------------------------------------------------------------\n"
     ]
    },
    {
     "name": "stderr",
     "output_type": "stream",
     "text": [
      "[Parallel(n_jobs=-1)]: Using backend LokyBackend with 12 concurrent workers.\n",
      "[Parallel(n_jobs=-1)]: Done   3 out of   3 | elapsed:  2.0min finished\n"
     ]
    },
    {
     "name": "stdout",
     "output_type": "stream",
     "text": [
      "K-Fold #1\n",
      "Mean negativities for all classes: [0.38284898723289784, 0.37836479244479865, 0.3752065987796674]\n",
      "Mean entropies for all classes: [5.7973531615488665e-15, 6.620475883607493e-15, 6.555506680174867e-15]\n",
      "              precision    recall  f1-score   support\n",
      "\n",
      "           0       0.50      0.50      0.50         6\n",
      "           1       0.00      0.00      0.00         7\n",
      "           2       0.25      0.60      0.35         5\n",
      "\n",
      "    accuracy                           0.33        18\n",
      "   macro avg       0.25      0.37      0.28        18\n",
      "weighted avg       0.24      0.33      0.26        18\n",
      "\n",
      "-------------------------------------------------------------------------------------------------------------------\n"
     ]
    },
    {
     "name": "stderr",
     "output_type": "stream",
     "text": [
      "c:\\ProgramData\\Anaconda3\\lib\\site-packages\\sklearn\\metrics\\_classification.py:1344: UndefinedMetricWarning: Precision and F-score are ill-defined and being set to 0.0 in labels with no predicted samples. Use `zero_division` parameter to control this behavior.\n",
      "  _warn_prf(average, modifier, msg_start, len(result))\n",
      "c:\\ProgramData\\Anaconda3\\lib\\site-packages\\sklearn\\metrics\\_classification.py:1344: UndefinedMetricWarning: Precision and F-score are ill-defined and being set to 0.0 in labels with no predicted samples. Use `zero_division` parameter to control this behavior.\n",
      "  _warn_prf(average, modifier, msg_start, len(result))\n",
      "c:\\ProgramData\\Anaconda3\\lib\\site-packages\\sklearn\\metrics\\_classification.py:1344: UndefinedMetricWarning: Precision and F-score are ill-defined and being set to 0.0 in labels with no predicted samples. Use `zero_division` parameter to control this behavior.\n",
      "  _warn_prf(average, modifier, msg_start, len(result))\n",
      "[Parallel(n_jobs=-1)]: Using backend LokyBackend with 12 concurrent workers.\n",
      "[Parallel(n_jobs=-1)]: Done   3 out of   3 | elapsed:  2.0min finished\n"
     ]
    },
    {
     "name": "stdout",
     "output_type": "stream",
     "text": [
      "K-Fold #2\n",
      "Mean negativities for all classes: [0.3904310369463805, 0.3859164592457052, 0.38106206514428775]\n",
      "Mean entropies for all classes: [6.107544103837296e-15, 6.709594082192504e-15, 6.603583745003312e-15]\n",
      "              precision    recall  f1-score   support\n",
      "\n",
      "           0       0.12      0.17      0.14         6\n",
      "           1       0.00      0.00      0.00         7\n",
      "           2       0.12      0.20      0.15         5\n",
      "\n",
      "    accuracy                           0.11        18\n",
      "   macro avg       0.08      0.12      0.10        18\n",
      "weighted avg       0.08      0.11      0.09        18\n",
      "\n",
      "-------------------------------------------------------------------------------------------------------------------\n"
     ]
    },
    {
     "name": "stderr",
     "output_type": "stream",
     "text": [
      "[Parallel(n_jobs=-1)]: Using backend LokyBackend with 12 concurrent workers.\n",
      "[Parallel(n_jobs=-1)]: Done   3 out of   3 | elapsed:  2.0min finished\n"
     ]
    },
    {
     "name": "stdout",
     "output_type": "stream",
     "text": [
      "K-Fold #3\n",
      "Mean negativities for all classes: [0.3865245567471312, 0.37938900228267997, 0.38274740377776506]\n",
      "Mean entropies for all classes: [6.151211226345165e-15, 6.8641136131689296e-15, 6.210333812844213e-15]\n",
      "              precision    recall  f1-score   support\n",
      "\n",
      "           0       0.29      0.33      0.31         6\n",
      "           1       0.00      0.00      0.00         7\n",
      "           2       0.18      0.40      0.25         5\n",
      "\n",
      "    accuracy                           0.22        18\n",
      "   macro avg       0.16      0.24      0.19        18\n",
      "weighted avg       0.15      0.22      0.17        18\n",
      "\n",
      "-------------------------------------------------------------------------------------------------------------------\n"
     ]
    },
    {
     "name": "stderr",
     "output_type": "stream",
     "text": [
      "c:\\ProgramData\\Anaconda3\\lib\\site-packages\\sklearn\\metrics\\_classification.py:1344: UndefinedMetricWarning: Precision and F-score are ill-defined and being set to 0.0 in labels with no predicted samples. Use `zero_division` parameter to control this behavior.\n",
      "  _warn_prf(average, modifier, msg_start, len(result))\n",
      "c:\\ProgramData\\Anaconda3\\lib\\site-packages\\sklearn\\metrics\\_classification.py:1344: UndefinedMetricWarning: Precision and F-score are ill-defined and being set to 0.0 in labels with no predicted samples. Use `zero_division` parameter to control this behavior.\n",
      "  _warn_prf(average, modifier, msg_start, len(result))\n",
      "c:\\ProgramData\\Anaconda3\\lib\\site-packages\\sklearn\\metrics\\_classification.py:1344: UndefinedMetricWarning: Precision and F-score are ill-defined and being set to 0.0 in labels with no predicted samples. Use `zero_division` parameter to control this behavior.\n",
      "  _warn_prf(average, modifier, msg_start, len(result))\n",
      "[Parallel(n_jobs=-1)]: Using backend LokyBackend with 12 concurrent workers.\n",
      "[Parallel(n_jobs=-1)]: Done   3 out of   3 | elapsed:  2.0min finished\n"
     ]
    },
    {
     "name": "stdout",
     "output_type": "stream",
     "text": [
      "K-Fold #4\n",
      "Mean negativities for all classes: [0.3779423013362114, 0.37965485745990724, 0.37992187924692034]\n",
      "Mean entropies for all classes: [6.3667728282472365e-15, 6.835884165971651e-15, 6.606921603919794e-15]\n",
      "              precision    recall  f1-score   support\n",
      "\n",
      "           0       0.44      0.67      0.53         6\n",
      "           1       0.00      0.00      0.00         7\n",
      "           2       0.00      0.00      0.00         5\n",
      "\n",
      "    accuracy                           0.22        18\n",
      "   macro avg       0.15      0.22      0.18        18\n",
      "weighted avg       0.15      0.22      0.18        18\n",
      "\n",
      "-------------------------------------------------------------------------------------------------------------------\n"
     ]
    },
    {
     "name": "stderr",
     "output_type": "stream",
     "text": [
      "[Parallel(n_jobs=-1)]: Using backend LokyBackend with 12 concurrent workers.\n",
      "[Parallel(n_jobs=-1)]: Done   3 out of   3 | elapsed:  2.0min finished\n"
     ]
    },
    {
     "name": "stdout",
     "output_type": "stream",
     "text": [
      "K-Fold #5\n",
      "Mean negativities for all classes: [0.3858249900720232, 0.37855071195942225, 0.3750879073668956]\n",
      "Mean entropies for all classes: [6.621163074507761e-15, 6.3675270972530704e-15, 6.3332610564657175e-15]\n",
      "              precision    recall  f1-score   support\n",
      "\n",
      "           0       0.25      0.17      0.20         6\n",
      "           1       0.00      0.00      0.00         7\n",
      "           2       0.11      0.20      0.14         5\n",
      "\n",
      "    accuracy                           0.11        18\n",
      "   macro avg       0.12      0.12      0.11        18\n",
      "weighted avg       0.11      0.11      0.11        18\n",
      "\n",
      "-------------------------------------------------------------------------------------------------------------------\n"
     ]
    },
    {
     "name": "stderr",
     "output_type": "stream",
     "text": [
      "[Parallel(n_jobs=-1)]: Using backend LokyBackend with 12 concurrent workers.\n",
      "[Parallel(n_jobs=-1)]: Done   3 out of   3 | elapsed:  2.0min finished\n"
     ]
    },
    {
     "name": "stdout",
     "output_type": "stream",
     "text": [
      "K-Fold #6\n",
      "Mean negativities for all classes: [0.3861727817021014, 0.3827200525693652, 0.3866948659017907]\n",
      "Mean entropies for all classes: [6.133173098525949e-15, 6.902505361640415e-15, 6.360231818746356e-15]\n",
      "              precision    recall  f1-score   support\n",
      "\n",
      "           0       0.57      0.67      0.62         6\n",
      "           1       0.00      0.00      0.00         7\n",
      "           2       0.25      0.40      0.31         5\n",
      "\n",
      "    accuracy                           0.33        18\n",
      "   macro avg       0.27      0.36      0.31        18\n",
      "weighted avg       0.26      0.33      0.29        18\n",
      "\n",
      "-------------------------------------------------------------------------------------------------------------------\n"
     ]
    },
    {
     "name": "stderr",
     "output_type": "stream",
     "text": [
      "[Parallel(n_jobs=-1)]: Using backend LokyBackend with 12 concurrent workers.\n",
      "[Parallel(n_jobs=-1)]: Done   3 out of   3 | elapsed:  2.0min finished\n"
     ]
    },
    {
     "name": "stdout",
     "output_type": "stream",
     "text": [
      "K-Fold #7\n",
      "Mean negativities for all classes: [0.3880586514527904, 0.3881940659192686, 0.3770558009957496]\n",
      "Mean entropies for all classes: [6.3589162644653735e-15, 6.989035047300498e-15, 6.4707714410039365e-15]\n",
      "              precision    recall  f1-score   support\n",
      "\n",
      "           0       0.56      0.83      0.67         6\n",
      "           1       0.00      0.00      0.00         7\n",
      "           2       0.17      0.20      0.18         5\n",
      "\n",
      "    accuracy                           0.33        18\n",
      "   macro avg       0.24      0.34      0.28        18\n",
      "weighted avg       0.23      0.33      0.27        18\n",
      "\n",
      "-------------------------------------------------------------------------------------------------------------------\n"
     ]
    },
    {
     "name": "stderr",
     "output_type": "stream",
     "text": [
      "[Parallel(n_jobs=-1)]: Using backend LokyBackend with 12 concurrent workers.\n",
      "[Parallel(n_jobs=-1)]: Done   3 out of   3 | elapsed:  2.0min finished\n"
     ]
    },
    {
     "name": "stdout",
     "output_type": "stream",
     "text": [
      "K-Fold #8\n",
      "Mean negativities for all classes: [0.3824961245215363, 0.37512562547249345, 0.38138601540696176]\n",
      "Mean entropies for all classes: [6.500741778484734e-15, 6.7503826302874224e-15, 6.87696303665488e-15]\n",
      "              precision    recall  f1-score   support\n",
      "\n",
      "           0       0.20      0.17      0.18         6\n",
      "           1       0.00      0.00      0.00         7\n",
      "           2       0.10      0.25      0.14         4\n",
      "\n",
      "    accuracy                           0.12        17\n",
      "   macro avg       0.10      0.14      0.11        17\n",
      "weighted avg       0.09      0.12      0.10        17\n",
      "\n",
      "-------------------------------------------------------------------------------------------------------------------\n"
     ]
    },
    {
     "name": "stderr",
     "output_type": "stream",
     "text": [
      "[Parallel(n_jobs=-1)]: Using backend LokyBackend with 12 concurrent workers.\n",
      "[Parallel(n_jobs=-1)]: Done   3 out of   3 | elapsed:  2.0min finished\n"
     ]
    },
    {
     "name": "stdout",
     "output_type": "stream",
     "text": [
      "K-Fold #9\n",
      "Mean negativities for all classes: [0.3835904628464063, 0.38594736059456053, 0.3786558568271275]\n",
      "Mean entropies for all classes: [6.615541894463427e-15, 6.658848681893807e-15, 6.128309513855475e-15]\n",
      "              precision    recall  f1-score   support\n",
      "\n",
      "           0       0.29      0.40      0.33         5\n",
      "           1       0.00      0.00      0.00         8\n",
      "           2       0.12      0.25      0.17         4\n",
      "\n",
      "    accuracy                           0.18        17\n",
      "   macro avg       0.14      0.22      0.17        17\n",
      "weighted avg       0.11      0.18      0.14        17\n",
      "\n",
      "-------------------------------------------------------------------------------------------------------------------\n",
      "AVG: Scores = 0.21274509803921568 F1-Scores = 0.1871032562209033 Negativity = [0.3848795672292111, 0.3788067928191213, 0.3858031871121245] Entropy = [6.36019927613602e-15, 6.324445241777076e-15, 6.473573977011038e-15]\n"
     ]
    },
    {
     "name": "stderr",
     "output_type": "stream",
     "text": [
      "[Parallel(n_jobs=-1)]: Using backend LokyBackend with 12 concurrent workers.\n",
      "[Parallel(n_jobs=-1)]: Done   3 out of   3 | elapsed:  2.0min finished\n"
     ]
    },
    {
     "name": "stdout",
     "output_type": "stream",
     "text": [
      "K-Fold #0\n",
      "Mean negativities for all classes: [0.38223032668296947, 0.38062906861633067, 0.3792752621314804]\n",
      "Mean entropies for all classes: [6.2109789203329735e-15, 6.980368061313306e-15, 6.915442808864998e-15]\n",
      "              precision    recall  f1-score   support\n",
      "\n",
      "           0       0.29      0.33      0.31         6\n",
      "           1       0.00      0.00      0.00         7\n",
      "           2       0.00      0.00      0.00         5\n",
      "\n",
      "    accuracy                           0.11        18\n",
      "   macro avg       0.10      0.11      0.10        18\n",
      "weighted avg       0.10      0.11      0.10        18\n",
      "\n",
      "-------------------------------------------------------------------------------------------------------------------\n"
     ]
    },
    {
     "name": "stderr",
     "output_type": "stream",
     "text": [
      "[Parallel(n_jobs=-1)]: Using backend LokyBackend with 12 concurrent workers.\n",
      "[Parallel(n_jobs=-1)]: Done   3 out of   3 | elapsed:  2.0min finished\n"
     ]
    },
    {
     "name": "stdout",
     "output_type": "stream",
     "text": [
      "K-Fold #1\n",
      "Mean negativities for all classes: [0.3901353762788646, 0.3822982979941308, 0.3819791674980193]\n",
      "Mean entropies for all classes: [5.790148511820826e-15, 6.441707890548354e-15, 6.069584238653106e-15]\n",
      "              precision    recall  f1-score   support\n",
      "\n",
      "           0       0.44      0.67      0.53         6\n",
      "           1       0.00      0.00      0.00         7\n",
      "           2       0.38      0.60      0.46         5\n",
      "\n",
      "    accuracy                           0.39        18\n",
      "   macro avg       0.27      0.42      0.33        18\n",
      "weighted avg       0.25      0.39      0.31        18\n",
      "\n",
      "-------------------------------------------------------------------------------------------------------------------\n"
     ]
    },
    {
     "name": "stderr",
     "output_type": "stream",
     "text": [
      "[Parallel(n_jobs=-1)]: Using backend LokyBackend with 12 concurrent workers.\n",
      "[Parallel(n_jobs=-1)]: Done   3 out of   3 | elapsed:  2.0min finished\n"
     ]
    },
    {
     "name": "stdout",
     "output_type": "stream",
     "text": [
      "K-Fold #2\n",
      "Mean negativities for all classes: [0.38682924511696676, 0.37862252392861956, 0.3797932776425817]\n",
      "Mean entropies for all classes: [5.87990481359324e-15, 6.6163296849971065e-15, 6.053092280333875e-15]\n",
      "              precision    recall  f1-score   support\n",
      "\n",
      "           0       0.38      0.50      0.43         6\n",
      "           1       0.00      0.00      0.00         7\n",
      "           2       0.22      0.40      0.29         5\n",
      "\n",
      "    accuracy                           0.28        18\n",
      "   macro avg       0.20      0.30      0.24        18\n",
      "weighted avg       0.19      0.28      0.22        18\n",
      "\n",
      "-------------------------------------------------------------------------------------------------------------------\n"
     ]
    },
    {
     "name": "stderr",
     "output_type": "stream",
     "text": [
      "[Parallel(n_jobs=-1)]: Using backend LokyBackend with 12 concurrent workers.\n",
      "[Parallel(n_jobs=-1)]: Done   3 out of   3 | elapsed:  2.0min finished\n"
     ]
    },
    {
     "name": "stdout",
     "output_type": "stream",
     "text": [
      "K-Fold #3\n",
      "Mean negativities for all classes: [0.3861461891114846, 0.3791110064531963, 0.3802048904548496]\n",
      "Mean entropies for all classes: [6.138176780840804e-15, 6.546039261679267e-15, 6.537278064414433e-15]\n",
      "              precision    recall  f1-score   support\n",
      "\n",
      "           0       0.29      0.33      0.31         6\n",
      "           1       0.00      0.00      0.00         7\n",
      "           2       0.00      0.00      0.00         5\n",
      "\n",
      "    accuracy                           0.11        18\n",
      "   macro avg       0.10      0.11      0.10        18\n",
      "weighted avg       0.10      0.11      0.10        18\n",
      "\n",
      "-------------------------------------------------------------------------------------------------------------------\n"
     ]
    },
    {
     "name": "stderr",
     "output_type": "stream",
     "text": [
      "[Parallel(n_jobs=-1)]: Using backend LokyBackend with 12 concurrent workers.\n",
      "[Parallel(n_jobs=-1)]: Done   3 out of   3 | elapsed:  2.0min finished\n"
     ]
    },
    {
     "name": "stdout",
     "output_type": "stream",
     "text": [
      "K-Fold #4\n",
      "Mean negativities for all classes: [0.388677859564982, 0.3828866001565363, 0.37758411889825294]\n",
      "Mean entropies for all classes: [6.283031516343148e-15, 6.419281394437813e-15, 6.17659563958459e-15]\n",
      "              precision    recall  f1-score   support\n",
      "\n",
      "           0       0.14      0.17      0.15         6\n",
      "           1       0.00      0.00      0.00         7\n",
      "           2       0.11      0.20      0.14         5\n",
      "\n",
      "    accuracy                           0.11        18\n",
      "   macro avg       0.08      0.12      0.10        18\n",
      "weighted avg       0.08      0.11      0.09        18\n",
      "\n",
      "-------------------------------------------------------------------------------------------------------------------\n"
     ]
    },
    {
     "name": "stderr",
     "output_type": "stream",
     "text": [
      "[Parallel(n_jobs=-1)]: Using backend LokyBackend with 12 concurrent workers.\n",
      "[Parallel(n_jobs=-1)]: Done   3 out of   3 | elapsed:  2.0min finished\n"
     ]
    },
    {
     "name": "stdout",
     "output_type": "stream",
     "text": [
      "K-Fold #5\n",
      "Mean negativities for all classes: [0.38974841886300254, 0.3799469089093976, 0.3767750695999182]\n",
      "Mean entropies for all classes: [5.6754001382607596e-15, 6.205018734008066e-15, 6.003216729833497e-15]\n",
      "              precision    recall  f1-score   support\n",
      "\n",
      "           0       0.60      0.50      0.55         6\n",
      "           1       0.00      0.00      0.00         7\n",
      "           2       0.11      0.20      0.14         5\n",
      "\n",
      "    accuracy                           0.22        18\n",
      "   macro avg       0.24      0.23      0.23        18\n",
      "weighted avg       0.23      0.22      0.22        18\n",
      "\n",
      "-------------------------------------------------------------------------------------------------------------------\n"
     ]
    },
    {
     "name": "stderr",
     "output_type": "stream",
     "text": [
      "[Parallel(n_jobs=-1)]: Using backend LokyBackend with 12 concurrent workers.\n",
      "[Parallel(n_jobs=-1)]: Done   3 out of   3 | elapsed:  2.0min finished\n"
     ]
    },
    {
     "name": "stdout",
     "output_type": "stream",
     "text": [
      "K-Fold #6\n",
      "Mean negativities for all classes: [0.381889442381095, 0.38282136536531497, 0.37678210676710094]\n",
      "Mean entropies for all classes: [5.98469409178698e-15, 6.811610797116792e-15, 6.5772958319615174e-15]\n",
      "              precision    recall  f1-score   support\n",
      "\n",
      "           0       0.45      0.83      0.59         6\n",
      "           1       0.00      0.00      0.00         7\n",
      "           2       0.00      0.00      0.00         5\n",
      "\n",
      "    accuracy                           0.28        18\n",
      "   macro avg       0.15      0.28      0.20        18\n",
      "weighted avg       0.15      0.28      0.20        18\n",
      "\n",
      "-------------------------------------------------------------------------------------------------------------------\n"
     ]
    },
    {
     "name": "stderr",
     "output_type": "stream",
     "text": [
      "[Parallel(n_jobs=-1)]: Using backend LokyBackend with 12 concurrent workers.\n",
      "[Parallel(n_jobs=-1)]: Done   3 out of   3 | elapsed:  2.0min finished\n"
     ]
    },
    {
     "name": "stdout",
     "output_type": "stream",
     "text": [
      "K-Fold #7\n",
      "Mean negativities for all classes: [0.3817838160724662, 0.3768950909975762, 0.3862230252248389]\n",
      "Mean entropies for all classes: [6.219852049797281e-15, 6.738305661650583e-15, 6.397353343583834e-15]\n",
      "              precision    recall  f1-score   support\n",
      "\n",
      "           0       0.33      0.50      0.40         6\n",
      "           1       0.00      0.00      0.00         7\n",
      "           2       0.14      0.20      0.17         5\n",
      "\n",
      "    accuracy                           0.22        18\n",
      "   macro avg       0.16      0.23      0.19        18\n",
      "weighted avg       0.15      0.22      0.18        18\n",
      "\n",
      "-------------------------------------------------------------------------------------------------------------------\n"
     ]
    },
    {
     "name": "stderr",
     "output_type": "stream",
     "text": [
      "[Parallel(n_jobs=-1)]: Using backend LokyBackend with 12 concurrent workers.\n",
      "[Parallel(n_jobs=-1)]: Done   3 out of   3 | elapsed:  2.0min finished\n"
     ]
    },
    {
     "name": "stdout",
     "output_type": "stream",
     "text": [
      "K-Fold #8\n",
      "Mean negativities for all classes: [0.3835401776222794, 0.3808619899997569, 0.38121489252234786]\n",
      "Mean entropies for all classes: [6.139183377814322e-15, 6.103488059082933e-15, 6.541434451611462e-15]\n",
      "              precision    recall  f1-score   support\n",
      "\n",
      "           0       0.50      0.67      0.57         6\n",
      "           1       0.00      0.00      0.00         7\n",
      "           2       0.14      0.25      0.18         4\n",
      "\n",
      "    accuracy                           0.29        17\n",
      "   macro avg       0.21      0.31      0.25        17\n",
      "weighted avg       0.21      0.29      0.24        17\n",
      "\n",
      "-------------------------------------------------------------------------------------------------------------------\n"
     ]
    },
    {
     "name": "stderr",
     "output_type": "stream",
     "text": [
      "[Parallel(n_jobs=-1)]: Using backend LokyBackend with 12 concurrent workers.\n",
      "[Parallel(n_jobs=-1)]: Done   3 out of   3 | elapsed:  2.0min finished\n"
     ]
    },
    {
     "name": "stdout",
     "output_type": "stream",
     "text": [
      "K-Fold #9\n",
      "Mean negativities for all classes: [0.38873654846090255, 0.3869691320601576, 0.36682678878624914]\n",
      "Mean entropies for all classes: [5.9882444613290946e-15, 6.869989612962735e-15, 6.165204351258336e-15]\n",
      "              precision    recall  f1-score   support\n",
      "\n",
      "           0       0.60      0.60      0.60         5\n",
      "           1       0.00      0.00      0.00         8\n",
      "           2       0.25      0.75      0.38         4\n",
      "\n",
      "    accuracy                           0.35        17\n",
      "   macro avg       0.28      0.45      0.33        17\n",
      "weighted avg       0.24      0.35      0.26        17\n",
      "\n",
      "-------------------------------------------------------------------------------------------------------------------\n",
      "AVG: Scores = 0.2369281045751634 F1-Scores = 0.2064235274529392 Negativity = [0.38071155247692684, 0.3848042805903382, 0.381748348896056] Entropy = [6.702263263503759e-15, 6.100480213674095e-15, 6.183108926308073e-15]\n"
     ]
    },
    {
     "name": "stderr",
     "output_type": "stream",
     "text": [
      "c:\\ProgramData\\Anaconda3\\lib\\site-packages\\sklearn\\metrics\\_classification.py:1344: UndefinedMetricWarning: Precision and F-score are ill-defined and being set to 0.0 in labels with no predicted samples. Use `zero_division` parameter to control this behavior.\n",
      "  _warn_prf(average, modifier, msg_start, len(result))\n",
      "c:\\ProgramData\\Anaconda3\\lib\\site-packages\\sklearn\\metrics\\_classification.py:1344: UndefinedMetricWarning: Precision and F-score are ill-defined and being set to 0.0 in labels with no predicted samples. Use `zero_division` parameter to control this behavior.\n",
      "  _warn_prf(average, modifier, msg_start, len(result))\n",
      "c:\\ProgramData\\Anaconda3\\lib\\site-packages\\sklearn\\metrics\\_classification.py:1344: UndefinedMetricWarning: Precision and F-score are ill-defined and being set to 0.0 in labels with no predicted samples. Use `zero_division` parameter to control this behavior.\n",
      "  _warn_prf(average, modifier, msg_start, len(result))\n",
      "[Parallel(n_jobs=-1)]: Using backend LokyBackend with 12 concurrent workers.\n",
      "[Parallel(n_jobs=-1)]: Done   3 out of   3 | elapsed:  2.0min finished\n"
     ]
    },
    {
     "name": "stdout",
     "output_type": "stream",
     "text": [
      "K-Fold #0\n",
      "Mean negativities for all classes: [0.38968380406786624, 0.38479189229226907, 0.37521827137343716]\n",
      "Mean entropies for all classes: [6.4570826656882424e-15, 6.42453933069107e-15, 6.673095834499093e-15]\n",
      "              precision    recall  f1-score   support\n",
      "\n",
      "           0       0.50      0.50      0.50         6\n",
      "           1       0.00      0.00      0.00         7\n",
      "           2       0.11      0.20      0.14         5\n",
      "\n",
      "    accuracy                           0.22        18\n",
      "   macro avg       0.20      0.23      0.21        18\n",
      "weighted avg       0.20      0.22      0.21        18\n",
      "\n",
      "-------------------------------------------------------------------------------------------------------------------\n"
     ]
    },
    {
     "name": "stderr",
     "output_type": "stream",
     "text": [
      "[Parallel(n_jobs=-1)]: Using backend LokyBackend with 12 concurrent workers.\n",
      "[Parallel(n_jobs=-1)]: Done   3 out of   3 | elapsed:  2.0min finished\n"
     ]
    },
    {
     "name": "stdout",
     "output_type": "stream",
     "text": [
      "K-Fold #1\n",
      "Mean negativities for all classes: [0.3847384263726877, 0.3835809481111964, 0.38048167899646335]\n",
      "Mean entropies for all classes: [7.059245501770728e-15, 6.139644880139705e-15, 6.3520256838059896e-15]\n",
      "              precision    recall  f1-score   support\n",
      "\n",
      "           0       0.44      0.67      0.53         6\n",
      "           1       0.00      0.00      0.00         7\n",
      "           2       0.14      0.20      0.17         5\n",
      "\n",
      "    accuracy                           0.28        18\n",
      "   macro avg       0.20      0.29      0.23        18\n",
      "weighted avg       0.19      0.28      0.22        18\n",
      "\n",
      "-------------------------------------------------------------------------------------------------------------------\n"
     ]
    },
    {
     "name": "stderr",
     "output_type": "stream",
     "text": [
      "[Parallel(n_jobs=-1)]: Using backend LokyBackend with 12 concurrent workers.\n",
      "[Parallel(n_jobs=-1)]: Done   3 out of   3 | elapsed:  2.0min finished\n"
     ]
    },
    {
     "name": "stdout",
     "output_type": "stream",
     "text": [
      "K-Fold #2\n",
      "Mean negativities for all classes: [0.3846125957157835, 0.388103148331423, 0.3808990229084652]\n",
      "Mean entropies for all classes: [6.299213955241877e-15, 6.707841873348808e-15, 6.644408861674928e-15]\n",
      "              precision    recall  f1-score   support\n",
      "\n",
      "           0       0.50      0.67      0.57         6\n",
      "           1       0.00      0.00      0.00         7\n",
      "           2       0.33      0.60      0.43         5\n",
      "\n",
      "    accuracy                           0.39        18\n",
      "   macro avg       0.28      0.42      0.33        18\n",
      "weighted avg       0.26      0.39      0.31        18\n",
      "\n",
      "-------------------------------------------------------------------------------------------------------------------\n"
     ]
    },
    {
     "name": "stderr",
     "output_type": "stream",
     "text": [
      "[Parallel(n_jobs=-1)]: Using backend LokyBackend with 12 concurrent workers.\n",
      "[Parallel(n_jobs=-1)]: Done   3 out of   3 | elapsed:  2.0min finished\n"
     ]
    },
    {
     "name": "stdout",
     "output_type": "stream",
     "text": [
      "K-Fold #3\n",
      "Mean negativities for all classes: [0.39165868424822636, 0.3841465928468848, 0.3735214836888799]\n",
      "Mean entropies for all classes: [6.170940531211982e-15, 6.9302546956756255e-15, 6.48605241705229e-15]\n",
      "              precision    recall  f1-score   support\n",
      "\n",
      "           0       0.50      0.33      0.40         6\n",
      "           1       0.00      0.00      0.00         7\n",
      "           2       0.11      0.20      0.14         5\n",
      "\n",
      "    accuracy                           0.17        18\n",
      "   macro avg       0.20      0.18      0.18        18\n",
      "weighted avg       0.20      0.17      0.17        18\n",
      "\n",
      "-------------------------------------------------------------------------------------------------------------------\n"
     ]
    },
    {
     "name": "stderr",
     "output_type": "stream",
     "text": [
      "[Parallel(n_jobs=-1)]: Using backend LokyBackend with 12 concurrent workers.\n",
      "[Parallel(n_jobs=-1)]: Done   3 out of   3 | elapsed:  2.0min finished\n"
     ]
    },
    {
     "name": "stdout",
     "output_type": "stream",
     "text": [
      "K-Fold #4\n",
      "Mean negativities for all classes: [0.38599318133492794, 0.3798430648614393, 0.3835928008863839]\n",
      "Mean entropies for all classes: [6.271196204788572e-15, 6.24134231230627e-15, 6.588772568605657e-15]\n",
      "              precision    recall  f1-score   support\n",
      "\n",
      "           0       0.38      0.50      0.43         6\n",
      "           1       0.00      0.00      0.00         7\n",
      "           2       0.17      0.20      0.18         5\n",
      "\n",
      "    accuracy                           0.22        18\n",
      "   macro avg       0.18      0.23      0.20        18\n",
      "weighted avg       0.17      0.22      0.19        18\n",
      "\n",
      "-------------------------------------------------------------------------------------------------------------------\n"
     ]
    },
    {
     "name": "stderr",
     "output_type": "stream",
     "text": [
      "[Parallel(n_jobs=-1)]: Using backend LokyBackend with 12 concurrent workers.\n",
      "[Parallel(n_jobs=-1)]: Done   3 out of   3 | elapsed:  2.0min finished\n"
     ]
    },
    {
     "name": "stdout",
     "output_type": "stream",
     "text": [
      "K-Fold #5\n",
      "Mean negativities for all classes: [0.38889461686513926, 0.3738874140632731, 0.38067216826637273]\n",
      "Mean entropies for all classes: [6.649029052953835e-15, 6.547851288052071e-15, 6.610084259771007e-15]\n",
      "              precision    recall  f1-score   support\n",
      "\n",
      "           0       0.17      0.17      0.17         6\n",
      "           1       0.00      0.00      0.00         7\n",
      "           2       0.10      0.20      0.13         5\n",
      "\n",
      "    accuracy                           0.11        18\n",
      "   macro avg       0.09      0.12      0.10        18\n",
      "weighted avg       0.08      0.11      0.09        18\n",
      "\n",
      "-------------------------------------------------------------------------------------------------------------------\n"
     ]
    },
    {
     "name": "stderr",
     "output_type": "stream",
     "text": [
      "[Parallel(n_jobs=-1)]: Using backend LokyBackend with 12 concurrent workers.\n",
      "[Parallel(n_jobs=-1)]: Done   3 out of   3 | elapsed:  2.0min finished\n"
     ]
    },
    {
     "name": "stdout",
     "output_type": "stream",
     "text": [
      "K-Fold #6\n",
      "Mean negativities for all classes: [0.3879445294243472, 0.3789117020074785, 0.3737339073941645]\n",
      "Mean entropies for all classes: [6.280871704139908e-15, 6.435003171298414e-15, 6.3925246360686146e-15]\n",
      "              precision    recall  f1-score   support\n",
      "\n",
      "           0       0.14      0.17      0.15         6\n",
      "           1       0.00      0.00      0.00         7\n",
      "           2       0.20      0.40      0.27         5\n",
      "\n",
      "    accuracy                           0.17        18\n",
      "   macro avg       0.11      0.19      0.14        18\n",
      "weighted avg       0.10      0.17      0.13        18\n",
      "\n",
      "-------------------------------------------------------------------------------------------------------------------\n"
     ]
    },
    {
     "name": "stderr",
     "output_type": "stream",
     "text": [
      "[Parallel(n_jobs=-1)]: Using backend LokyBackend with 12 concurrent workers.\n",
      "[Parallel(n_jobs=-1)]: Done   3 out of   3 | elapsed:  2.0min finished\n"
     ]
    },
    {
     "name": "stdout",
     "output_type": "stream",
     "text": [
      "K-Fold #7\n",
      "Mean negativities for all classes: [0.3804237136120014, 0.3770735539764908, 0.3812232609457895]\n",
      "Mean entropies for all classes: [6.11617800379078e-15, 6.913969945373697e-15, 6.433654849127024e-15]\n",
      "              precision    recall  f1-score   support\n",
      "\n",
      "           0       0.40      0.67      0.50         6\n",
      "           1       0.00      0.00      0.00         7\n",
      "           2       0.17      0.20      0.18         5\n",
      "\n",
      "    accuracy                           0.28        18\n",
      "   macro avg       0.19      0.29      0.23        18\n",
      "weighted avg       0.18      0.28      0.22        18\n",
      "\n",
      "-------------------------------------------------------------------------------------------------------------------\n"
     ]
    },
    {
     "name": "stderr",
     "output_type": "stream",
     "text": [
      "[Parallel(n_jobs=-1)]: Using backend LokyBackend with 12 concurrent workers.\n",
      "[Parallel(n_jobs=-1)]: Done   3 out of   3 | elapsed:  2.0min finished\n"
     ]
    },
    {
     "name": "stdout",
     "output_type": "stream",
     "text": [
      "K-Fold #8\n",
      "Mean negativities for all classes: [0.38461420176374145, 0.38828577729213704, 0.3818047815293603]\n",
      "Mean entropies for all classes: [6.438990614995158e-15, 6.964909895368049e-15, 6.5474922389094146e-15]\n",
      "              precision    recall  f1-score   support\n",
      "\n",
      "           0       0.50      0.67      0.57         6\n",
      "           1       0.00      0.00      0.00         7\n",
      "           2       0.12      0.25      0.17         4\n",
      "\n",
      "    accuracy                           0.29        17\n",
      "   macro avg       0.21      0.31      0.25        17\n",
      "weighted avg       0.21      0.29      0.24        17\n",
      "\n",
      "-------------------------------------------------------------------------------------------------------------------\n"
     ]
    },
    {
     "name": "stderr",
     "output_type": "stream",
     "text": [
      "[Parallel(n_jobs=-1)]: Using backend LokyBackend with 12 concurrent workers.\n",
      "[Parallel(n_jobs=-1)]: Done   3 out of   3 | elapsed:  2.0min finished\n"
     ]
    },
    {
     "name": "stdout",
     "output_type": "stream",
     "text": [
      "K-Fold #9\n",
      "Mean negativities for all classes: [0.38795412087321784, 0.38086757041309394, 0.37765836768532834]\n",
      "Mean entropies for all classes: [6.759283553404738e-15, 6.894771942478053e-15, 5.836735792375309e-15]\n",
      "              precision    recall  f1-score   support\n",
      "\n",
      "           0       0.20      0.20      0.20         5\n",
      "           1       0.00      0.00      0.00         8\n",
      "           2       0.11      0.25      0.15         4\n",
      "\n",
      "    accuracy                           0.12        17\n",
      "   macro avg       0.10      0.15      0.12        17\n",
      "weighted avg       0.08      0.12      0.10        17\n",
      "\n",
      "-------------------------------------------------------------------------------------------------------------------\n",
      "AVG: Scores = 0.22450980392156863 F1-Scores = 0.19967920967920966 Negativity = [0.38323132257785747, 0.38293368449344917, 0.3845382556518906] Entropy = [6.518239276959469e-15, 6.516972021905474e-15, 6.550488230088538e-15]\n"
     ]
    },
    {
     "name": "stderr",
     "output_type": "stream",
     "text": [
      "[Parallel(n_jobs=-1)]: Using backend LokyBackend with 12 concurrent workers.\n",
      "[Parallel(n_jobs=-1)]: Done   3 out of   3 | elapsed:  2.0min finished\n"
     ]
    },
    {
     "name": "stdout",
     "output_type": "stream",
     "text": [
      "K-Fold #0\n",
      "Mean negativities for all classes: [0.3885412214686001, 0.38402827657262933, 0.3790166907708876]\n",
      "Mean entropies for all classes: [6.11230800330277e-15, 6.631930315237252e-15, 6.337692724109834e-15]\n",
      "              precision    recall  f1-score   support\n",
      "\n",
      "           0       0.25      0.33      0.29         6\n",
      "           1       0.00      0.00      0.00         7\n",
      "           2       0.00      0.00      0.00         5\n",
      "\n",
      "    accuracy                           0.11        18\n",
      "   macro avg       0.08      0.11      0.10        18\n",
      "weighted avg       0.08      0.11      0.10        18\n",
      "\n",
      "-------------------------------------------------------------------------------------------------------------------\n"
     ]
    },
    {
     "name": "stderr",
     "output_type": "stream",
     "text": [
      "[Parallel(n_jobs=-1)]: Using backend LokyBackend with 12 concurrent workers.\n",
      "[Parallel(n_jobs=-1)]: Done   3 out of   3 | elapsed:  2.0min finished\n"
     ]
    },
    {
     "name": "stdout",
     "output_type": "stream",
     "text": [
      "K-Fold #1\n",
      "Mean negativities for all classes: [0.38392316799085624, 0.3765819431120873, 0.38235522310167025]\n",
      "Mean entropies for all classes: [6.1337293730787865e-15, 6.848612125668964e-15, 6.34865873456468e-15]\n",
      "              precision    recall  f1-score   support\n",
      "\n",
      "           0       0.42      0.83      0.56         6\n",
      "           1       0.00      0.00      0.00         7\n",
      "           2       0.00      0.00      0.00         5\n",
      "\n",
      "    accuracy                           0.28        18\n",
      "   macro avg       0.14      0.28      0.19        18\n",
      "weighted avg       0.14      0.28      0.19        18\n",
      "\n",
      "-------------------------------------------------------------------------------------------------------------------\n"
     ]
    },
    {
     "name": "stderr",
     "output_type": "stream",
     "text": [
      "[Parallel(n_jobs=-1)]: Using backend LokyBackend with 12 concurrent workers.\n",
      "[Parallel(n_jobs=-1)]: Done   3 out of   3 | elapsed:  2.0min finished\n"
     ]
    },
    {
     "name": "stdout",
     "output_type": "stream",
     "text": [
      "K-Fold #2\n",
      "Mean negativities for all classes: [0.38974011612266535, 0.3842610163931158, 0.3791027664142596]\n",
      "Mean entropies for all classes: [6.756900636450757e-15, 5.974123512017109e-15, 6.669856957513086e-15]\n",
      "              precision    recall  f1-score   support\n",
      "\n",
      "           0       0.00      0.00      0.00         6\n",
      "           1       0.00      0.00      0.00         7\n",
      "           2       0.18      0.40      0.25         5\n",
      "\n",
      "    accuracy                           0.11        18\n",
      "   macro avg       0.06      0.13      0.08        18\n",
      "weighted avg       0.05      0.11      0.07        18\n",
      "\n",
      "-------------------------------------------------------------------------------------------------------------------\n"
     ]
    },
    {
     "name": "stderr",
     "output_type": "stream",
     "text": [
      "[Parallel(n_jobs=-1)]: Using backend LokyBackend with 12 concurrent workers.\n",
      "[Parallel(n_jobs=-1)]: Done   3 out of   3 | elapsed:  2.0min finished\n"
     ]
    },
    {
     "name": "stdout",
     "output_type": "stream",
     "text": [
      "K-Fold #3\n",
      "Mean negativities for all classes: [0.38432407147392034, 0.38026879780449296, 0.37016504455999916]\n",
      "Mean entropies for all classes: [6.604974957120109e-15, 6.7295726711741955e-15, 5.840064655829644e-15]\n",
      "              precision    recall  f1-score   support\n",
      "\n",
      "           0       0.33      0.33      0.33         6\n",
      "           1       0.00      0.00      0.00         7\n",
      "           2       0.09      0.20      0.13         5\n",
      "\n",
      "    accuracy                           0.17        18\n",
      "   macro avg       0.14      0.18      0.15        18\n",
      "weighted avg       0.14      0.17      0.15        18\n",
      "\n",
      "-------------------------------------------------------------------------------------------------------------------\n"
     ]
    },
    {
     "name": "stderr",
     "output_type": "stream",
     "text": [
      "[Parallel(n_jobs=-1)]: Using backend LokyBackend with 12 concurrent workers.\n",
      "[Parallel(n_jobs=-1)]: Done   3 out of   3 | elapsed:  2.0min finished\n"
     ]
    },
    {
     "name": "stdout",
     "output_type": "stream",
     "text": [
      "K-Fold #4\n",
      "Mean negativities for all classes: [0.38403592565306216, 0.3840536167934822, 0.38386291907812375]\n",
      "Mean entropies for all classes: [5.9365755742125795e-15, 6.420784150231267e-15, 6.348582482702817e-15]\n",
      "              precision    recall  f1-score   support\n",
      "\n",
      "           0       0.33      0.33      0.33         6\n",
      "           1       0.00      0.00      0.00         7\n",
      "           2       0.00      0.00      0.00         5\n",
      "\n",
      "    accuracy                           0.11        18\n",
      "   macro avg       0.11      0.11      0.11        18\n",
      "weighted avg       0.11      0.11      0.11        18\n",
      "\n",
      "-------------------------------------------------------------------------------------------------------------------\n"
     ]
    },
    {
     "name": "stderr",
     "output_type": "stream",
     "text": [
      "[Parallel(n_jobs=-1)]: Using backend LokyBackend with 12 concurrent workers.\n",
      "[Parallel(n_jobs=-1)]: Done   3 out of   3 | elapsed:  2.0min finished\n"
     ]
    },
    {
     "name": "stdout",
     "output_type": "stream",
     "text": [
      "K-Fold #5\n",
      "Mean negativities for all classes: [0.3861516590520279, 0.37849231263988964, 0.3824494386700764]\n",
      "Mean entropies for all classes: [6.498730786608902e-15, 7.117194701435324e-15, 6.029264464780155e-15]\n",
      "              precision    recall  f1-score   support\n",
      "\n",
      "           0       0.50      0.67      0.57         6\n",
      "           1       0.00      0.00      0.00         7\n",
      "           2       0.12      0.20      0.15         5\n",
      "\n",
      "    accuracy                           0.28        18\n",
      "   macro avg       0.21      0.29      0.24        18\n",
      "weighted avg       0.20      0.28      0.23        18\n",
      "\n",
      "-------------------------------------------------------------------------------------------------------------------\n"
     ]
    },
    {
     "name": "stderr",
     "output_type": "stream",
     "text": [
      "[Parallel(n_jobs=-1)]: Using backend LokyBackend with 12 concurrent workers.\n",
      "[Parallel(n_jobs=-1)]: Done   3 out of   3 | elapsed:  2.0min finished\n"
     ]
    },
    {
     "name": "stdout",
     "output_type": "stream",
     "text": [
      "K-Fold #6\n",
      "Mean negativities for all classes: [0.38694367577947947, 0.379016638519331, 0.37773385074779076]\n",
      "Mean entropies for all classes: [6.494087071799407e-15, 7.172918232618136e-15, 6.0395049346409684e-15]\n",
      "              precision    recall  f1-score   support\n",
      "\n",
      "           0       0.25      0.33      0.29         6\n",
      "           1       0.00      0.00      0.00         7\n",
      "           2       0.00      0.00      0.00         5\n",
      "\n",
      "    accuracy                           0.11        18\n",
      "   macro avg       0.08      0.11      0.10        18\n",
      "weighted avg       0.08      0.11      0.10        18\n",
      "\n",
      "-------------------------------------------------------------------------------------------------------------------\n"
     ]
    },
    {
     "name": "stderr",
     "output_type": "stream",
     "text": [
      "[Parallel(n_jobs=-1)]: Using backend LokyBackend with 12 concurrent workers.\n",
      "[Parallel(n_jobs=-1)]: Done   3 out of   3 | elapsed:  2.0min finished\n"
     ]
    },
    {
     "name": "stdout",
     "output_type": "stream",
     "text": [
      "K-Fold #7\n",
      "Mean negativities for all classes: [0.38239609303678346, 0.37938459737565144, 0.37701440140044634]\n",
      "Mean entropies for all classes: [6.41984987787088e-15, 7.074738012491219e-15, 6.471377305264718e-15]\n",
      "              precision    recall  f1-score   support\n",
      "\n",
      "           0       0.50      0.50      0.50         6\n",
      "           1       0.00      0.00      0.00         7\n",
      "           2       0.00      0.00      0.00         5\n",
      "\n",
      "    accuracy                           0.17        18\n",
      "   macro avg       0.17      0.17      0.17        18\n",
      "weighted avg       0.17      0.17      0.17        18\n",
      "\n",
      "-------------------------------------------------------------------------------------------------------------------\n"
     ]
    },
    {
     "name": "stderr",
     "output_type": "stream",
     "text": [
      "[Parallel(n_jobs=-1)]: Using backend LokyBackend with 12 concurrent workers.\n",
      "[Parallel(n_jobs=-1)]: Done   3 out of   3 | elapsed:  2.0min finished\n"
     ]
    },
    {
     "name": "stdout",
     "output_type": "stream",
     "text": [
      "K-Fold #8\n",
      "Mean negativities for all classes: [0.3874634178102012, 0.38032604713160323, 0.379196754671246]\n",
      "Mean entropies for all classes: [6.5375757510445765e-15, 7.0178622341965124e-15, 6.267768904218425e-15]\n",
      "              precision    recall  f1-score   support\n",
      "\n",
      "           0       0.44      0.67      0.53         6\n",
      "           1       0.00      0.00      0.00         7\n",
      "           2       0.00      0.00      0.00         4\n",
      "\n",
      "    accuracy                           0.24        17\n",
      "   macro avg       0.15      0.22      0.18        17\n",
      "weighted avg       0.16      0.24      0.19        17\n",
      "\n",
      "-------------------------------------------------------------------------------------------------------------------\n"
     ]
    },
    {
     "name": "stderr",
     "output_type": "stream",
     "text": [
      "[Parallel(n_jobs=-1)]: Using backend LokyBackend with 12 concurrent workers.\n",
      "[Parallel(n_jobs=-1)]: Done   3 out of   3 | elapsed:  2.0min finished\n"
     ]
    },
    {
     "name": "stdout",
     "output_type": "stream",
     "text": [
      "K-Fold #9\n",
      "Mean negativities for all classes: [0.3884541525251841, 0.3804061251492973, 0.3811565416704435]\n",
      "Mean entropies for all classes: [6.015418017191428e-15, 6.518573138071554e-15, 6.419112741056939e-15]\n",
      "              precision    recall  f1-score   support\n",
      "\n",
      "           0       0.29      0.40      0.33         5\n",
      "           1       0.00      0.00      0.00         8\n",
      "           2       0.17      0.25      0.20         4\n",
      "\n",
      "    accuracy                           0.18        17\n",
      "   macro avg       0.15      0.22      0.18        17\n",
      "weighted avg       0.12      0.18      0.15        17\n",
      "\n",
      "-------------------------------------------------------------------------------------------------------------------\n",
      "AVG: Scores = 0.17450980392156865 F1-Scores = 0.14868640618640622 Negativity = [0.38386206293737235, 0.38095344473487125, 0.38436796631001363] Entropy = [6.360643680883285e-15, 6.4436667444374765e-15, 6.466960368660317e-15]\n"
     ]
    },
    {
     "name": "stderr",
     "output_type": "stream",
     "text": [
      "[Parallel(n_jobs=-1)]: Using backend LokyBackend with 12 concurrent workers.\n",
      "[Parallel(n_jobs=-1)]: Done   3 out of   3 | elapsed:  2.0min finished\n"
     ]
    },
    {
     "name": "stdout",
     "output_type": "stream",
     "text": [
      "K-Fold #0\n",
      "Mean negativities for all classes: [0.3895055082742272, 0.3781590621857605, 0.3758862305767304]\n",
      "Mean entropies for all classes: [6.351312396515118e-15, 6.7355468229089216e-15, 5.965794766048174e-15]\n",
      "              precision    recall  f1-score   support\n",
      "\n",
      "           0       0.00      0.00      0.00         6\n",
      "           1       0.17      0.14      0.15         7\n",
      "           2       0.18      0.40      0.25         5\n",
      "\n",
      "    accuracy                           0.17        18\n",
      "   macro avg       0.12      0.18      0.13        18\n",
      "weighted avg       0.12      0.17      0.13        18\n",
      "\n",
      "-------------------------------------------------------------------------------------------------------------------\n"
     ]
    },
    {
     "name": "stderr",
     "output_type": "stream",
     "text": [
      "[Parallel(n_jobs=-1)]: Using backend LokyBackend with 12 concurrent workers.\n",
      "[Parallel(n_jobs=-1)]: Done   3 out of   3 | elapsed:  2.0min finished\n"
     ]
    },
    {
     "name": "stdout",
     "output_type": "stream",
     "text": [
      "K-Fold #1\n",
      "Mean negativities for all classes: [0.3860384882900594, 0.3898939118897602, 0.3779716747147393]\n",
      "Mean entropies for all classes: [6.3131420048146645e-15, 6.1386765609731455e-15, 6.442053448078388e-15]\n",
      "              precision    recall  f1-score   support\n",
      "\n",
      "           0       0.29      0.33      0.31         6\n",
      "           1       0.00      0.00      0.00         7\n",
      "           2       0.11      0.20      0.14         5\n",
      "\n",
      "    accuracy                           0.17        18\n",
      "   macro avg       0.13      0.18      0.15        18\n",
      "weighted avg       0.13      0.17      0.14        18\n",
      "\n",
      "-------------------------------------------------------------------------------------------------------------------\n"
     ]
    },
    {
     "name": "stderr",
     "output_type": "stream",
     "text": [
      "[Parallel(n_jobs=-1)]: Using backend LokyBackend with 12 concurrent workers.\n",
      "[Parallel(n_jobs=-1)]: Done   3 out of   3 | elapsed:  2.0min finished\n"
     ]
    },
    {
     "name": "stdout",
     "output_type": "stream",
     "text": [
      "K-Fold #2\n",
      "Mean negativities for all classes: [0.38442440569185354, 0.3793929741943087, 0.38471900699925393]\n",
      "Mean entropies for all classes: [6.677785134439515e-15, 6.613799211909462e-15, 6.308527040931455e-15]\n",
      "              precision    recall  f1-score   support\n",
      "\n",
      "           0       0.57      0.67      0.62         6\n",
      "           1       0.00      0.00      0.00         7\n",
      "           2       0.33      0.60      0.43         5\n",
      "\n",
      "    accuracy                           0.39        18\n",
      "   macro avg       0.30      0.42      0.35        18\n",
      "weighted avg       0.28      0.39      0.32        18\n",
      "\n",
      "-------------------------------------------------------------------------------------------------------------------\n"
     ]
    },
    {
     "name": "stderr",
     "output_type": "stream",
     "text": [
      "[Parallel(n_jobs=-1)]: Using backend LokyBackend with 12 concurrent workers.\n",
      "[Parallel(n_jobs=-1)]: Done   3 out of   3 | elapsed:  2.0min finished\n"
     ]
    },
    {
     "name": "stdout",
     "output_type": "stream",
     "text": [
      "K-Fold #3\n",
      "Mean negativities for all classes: [0.384986550688586, 0.3815300806947655, 0.37836288641178917]\n",
      "Mean entropies for all classes: [5.766463917210323e-15, 6.831251710063116e-15, 6.4354844728053205e-15]\n",
      "              precision    recall  f1-score   support\n",
      "\n",
      "           0       0.43      0.50      0.46         6\n",
      "           1       0.00      0.00      0.00         7\n",
      "           2       0.00      0.00      0.00         5\n",
      "\n",
      "    accuracy                           0.17        18\n",
      "   macro avg       0.14      0.17      0.15        18\n",
      "weighted avg       0.14      0.17      0.15        18\n",
      "\n",
      "-------------------------------------------------------------------------------------------------------------------\n"
     ]
    },
    {
     "name": "stderr",
     "output_type": "stream",
     "text": [
      "[Parallel(n_jobs=-1)]: Using backend LokyBackend with 12 concurrent workers.\n",
      "[Parallel(n_jobs=-1)]: Done   3 out of   3 | elapsed:  2.0min finished\n"
     ]
    },
    {
     "name": "stdout",
     "output_type": "stream",
     "text": [
      "K-Fold #4\n",
      "Mean negativities for all classes: [0.3831988626670512, 0.3847683136635403, 0.37575398853966147]\n",
      "Mean entropies for all classes: [5.9173796879560235e-15, 6.568748257087568e-15, 5.943180776492877e-15]\n",
      "              precision    recall  f1-score   support\n",
      "\n",
      "           0       0.62      0.83      0.71         6\n",
      "           1       0.00      0.00      0.00         7\n",
      "           2       0.11      0.20      0.14         5\n",
      "\n",
      "    accuracy                           0.33        18\n",
      "   macro avg       0.25      0.34      0.29        18\n",
      "weighted avg       0.24      0.33      0.28        18\n",
      "\n",
      "-------------------------------------------------------------------------------------------------------------------\n"
     ]
    },
    {
     "name": "stderr",
     "output_type": "stream",
     "text": [
      "[Parallel(n_jobs=-1)]: Using backend LokyBackend with 12 concurrent workers.\n",
      "[Parallel(n_jobs=-1)]: Done   3 out of   3 | elapsed:  2.0min finished\n"
     ]
    },
    {
     "name": "stdout",
     "output_type": "stream",
     "text": [
      "K-Fold #5\n",
      "Mean negativities for all classes: [0.38262183297314734, 0.3747581844109973, 0.3837928531159418]\n",
      "Mean entropies for all classes: [6.437849184235848e-15, 6.9443609601705964e-15, 6.081553834389248e-15]\n",
      "              precision    recall  f1-score   support\n",
      "\n",
      "           0       0.33      0.33      0.33         6\n",
      "           1       0.00      0.00      0.00         7\n",
      "           2       0.12      0.20      0.15         5\n",
      "\n",
      "    accuracy                           0.17        18\n",
      "   macro avg       0.15      0.18      0.16        18\n",
      "weighted avg       0.15      0.17      0.15        18\n",
      "\n",
      "-------------------------------------------------------------------------------------------------------------------\n"
     ]
    },
    {
     "name": "stderr",
     "output_type": "stream",
     "text": [
      "[Parallel(n_jobs=-1)]: Using backend LokyBackend with 12 concurrent workers.\n",
      "[Parallel(n_jobs=-1)]: Done   3 out of   3 | elapsed:  2.0min finished\n"
     ]
    },
    {
     "name": "stdout",
     "output_type": "stream",
     "text": [
      "K-Fold #6\n",
      "Mean negativities for all classes: [0.38987100136980163, 0.3805198906493988, 0.3814301097950662]\n",
      "Mean entropies for all classes: [6.0896965858591825e-15, 6.216658790881326e-15, 6.3494098570248955e-15]\n",
      "              precision    recall  f1-score   support\n",
      "\n",
      "           0       0.27      0.50      0.35         6\n",
      "           1       0.00      0.00      0.00         7\n",
      "           2       0.17      0.20      0.18         5\n",
      "\n",
      "    accuracy                           0.22        18\n",
      "   macro avg       0.15      0.23      0.18        18\n",
      "weighted avg       0.14      0.22      0.17        18\n",
      "\n",
      "-------------------------------------------------------------------------------------------------------------------\n"
     ]
    },
    {
     "name": "stderr",
     "output_type": "stream",
     "text": [
      "[Parallel(n_jobs=-1)]: Using backend LokyBackend with 12 concurrent workers.\n",
      "[Parallel(n_jobs=-1)]: Done   3 out of   3 | elapsed:  2.0min finished\n"
     ]
    },
    {
     "name": "stdout",
     "output_type": "stream",
     "text": [
      "K-Fold #7\n",
      "Mean negativities for all classes: [0.3861811389791379, 0.3751804111452197, 0.378872422975709]\n",
      "Mean entropies for all classes: [6.698265380676096e-15, 6.898256485525731e-15, 6.208082723546479e-15]\n",
      "              precision    recall  f1-score   support\n",
      "\n",
      "           0       0.25      0.33      0.29         6\n",
      "           1       0.00      0.00      0.00         7\n",
      "           2       0.00      0.00      0.00         5\n",
      "\n",
      "    accuracy                           0.11        18\n",
      "   macro avg       0.08      0.11      0.10        18\n",
      "weighted avg       0.08      0.11      0.10        18\n",
      "\n",
      "-------------------------------------------------------------------------------------------------------------------\n"
     ]
    },
    {
     "name": "stderr",
     "output_type": "stream",
     "text": [
      "[Parallel(n_jobs=-1)]: Using backend LokyBackend with 12 concurrent workers.\n",
      "[Parallel(n_jobs=-1)]: Done   3 out of   3 | elapsed:  2.0min finished\n"
     ]
    },
    {
     "name": "stdout",
     "output_type": "stream",
     "text": [
      "K-Fold #8\n",
      "Mean negativities for all classes: [0.3876858351547493, 0.38821572495222423, 0.3806756787952585]\n",
      "Mean entropies for all classes: [6.067079788470082e-15, 6.7920654735232334e-15, 6.047748401907301e-15]\n",
      "              precision    recall  f1-score   support\n",
      "\n",
      "           0       0.29      0.33      0.31         6\n",
      "           1       0.00      0.00      0.00         7\n",
      "           2       0.00      0.00      0.00         4\n",
      "\n",
      "    accuracy                           0.12        17\n",
      "   macro avg       0.10      0.11      0.10        17\n",
      "weighted avg       0.10      0.12      0.11        17\n",
      "\n",
      "-------------------------------------------------------------------------------------------------------------------\n"
     ]
    },
    {
     "name": "stderr",
     "output_type": "stream",
     "text": [
      "[Parallel(n_jobs=-1)]: Using backend LokyBackend with 12 concurrent workers.\n",
      "[Parallel(n_jobs=-1)]: Done   3 out of   3 | elapsed:  2.0min finished\n"
     ]
    },
    {
     "name": "stdout",
     "output_type": "stream",
     "text": [
      "K-Fold #9\n",
      "Mean negativities for all classes: [0.3880814512792661, 0.38554110909648376, 0.3793510447686885]\n",
      "Mean entropies for all classes: [6.14704955994636e-15, 6.953051150482185e-15, 6.649877055242139e-15]\n",
      "              precision    recall  f1-score   support\n",
      "\n",
      "           0       0.25      0.20      0.22         5\n",
      "           1       0.00      0.00      0.00         8\n",
      "           2       0.25      0.75      0.38         4\n",
      "\n",
      "    accuracy                           0.24        17\n",
      "   macro avg       0.17      0.32      0.20        17\n",
      "weighted avg       0.13      0.24      0.15        17\n",
      "\n",
      "-------------------------------------------------------------------------------------------------------------------\n",
      "AVG: Scores = 0.20751633986928103 F1-Scores = 0.18098668760433467 Negativity = [0.3811836003455727, 0.3846346916315196, 0.3828454622951387] Entropy = [6.350884661824071e-15, 6.2979573379553995e-15, 6.533370462426811e-15]\n"
     ]
    },
    {
     "name": "stderr",
     "output_type": "stream",
     "text": [
      "[Parallel(n_jobs=-1)]: Using backend LokyBackend with 12 concurrent workers.\n",
      "[Parallel(n_jobs=-1)]: Done   3 out of   3 | elapsed:  2.0min finished\n"
     ]
    },
    {
     "name": "stdout",
     "output_type": "stream",
     "text": [
      "K-Fold #0\n",
      "Mean negativities for all classes: [0.3882075316384015, 0.3825642624021687, 0.37947528698646027]\n",
      "Mean entropies for all classes: [6.082951521234712e-15, 6.550234498656178e-15, 6.166513192448544e-15]\n",
      "              precision    recall  f1-score   support\n",
      "\n",
      "           0       0.20      0.33      0.25         6\n",
      "           1       0.00      0.00      0.00         7\n",
      "           2       0.14      0.20      0.17         5\n",
      "\n",
      "    accuracy                           0.17        18\n",
      "   macro avg       0.11      0.18      0.14        18\n",
      "weighted avg       0.11      0.17      0.13        18\n",
      "\n",
      "-------------------------------------------------------------------------------------------------------------------\n"
     ]
    },
    {
     "name": "stderr",
     "output_type": "stream",
     "text": [
      "[Parallel(n_jobs=-1)]: Using backend LokyBackend with 12 concurrent workers.\n",
      "[Parallel(n_jobs=-1)]: Done   3 out of   3 | elapsed:  2.0min finished\n"
     ]
    },
    {
     "name": "stdout",
     "output_type": "stream",
     "text": [
      "K-Fold #1\n",
      "Mean negativities for all classes: [0.3838465476824879, 0.3848486084839372, 0.38123371057687927]\n",
      "Mean entropies for all classes: [5.929110166283471e-15, 6.6614772511355724e-15, 6.023066819710784e-15]\n",
      "              precision    recall  f1-score   support\n",
      "\n",
      "           0       0.11      0.17      0.13         6\n",
      "           1       0.00      0.00      0.00         7\n",
      "           2       0.00      0.00      0.00         5\n",
      "\n",
      "    accuracy                           0.06        18\n",
      "   macro avg       0.04      0.06      0.04        18\n",
      "weighted avg       0.04      0.06      0.04        18\n",
      "\n",
      "-------------------------------------------------------------------------------------------------------------------\n"
     ]
    },
    {
     "name": "stderr",
     "output_type": "stream",
     "text": [
      "[Parallel(n_jobs=-1)]: Using backend LokyBackend with 12 concurrent workers.\n",
      "[Parallel(n_jobs=-1)]: Done   3 out of   3 | elapsed:  2.0min finished\n"
     ]
    },
    {
     "name": "stdout",
     "output_type": "stream",
     "text": [
      "K-Fold #2\n",
      "Mean negativities for all classes: [0.38308573862000134, 0.37654144957116387, 0.38134832149512055]\n",
      "Mean entropies for all classes: [6.325357860357888e-15, 5.9740096438932395e-15, 6.013089239946504e-15]\n",
      "              precision    recall  f1-score   support\n",
      "\n",
      "           0       0.67      1.00      0.80         6\n",
      "           1       0.00      0.00      0.00         7\n",
      "           2       0.00      0.00      0.00         5\n",
      "\n",
      "    accuracy                           0.33        18\n",
      "   macro avg       0.22      0.33      0.27        18\n",
      "weighted avg       0.22      0.33      0.27        18\n",
      "\n",
      "-------------------------------------------------------------------------------------------------------------------\n"
     ]
    },
    {
     "name": "stderr",
     "output_type": "stream",
     "text": [
      "[Parallel(n_jobs=-1)]: Using backend LokyBackend with 12 concurrent workers.\n",
      "[Parallel(n_jobs=-1)]: Done   3 out of   3 | elapsed:  2.0min finished\n"
     ]
    },
    {
     "name": "stdout",
     "output_type": "stream",
     "text": [
      "K-Fold #3\n",
      "Mean negativities for all classes: [0.3859490125862383, 0.37669630628390377, 0.379328036402638]\n",
      "Mean entropies for all classes: [5.919445187286984e-15, 6.795114440341803e-15, 6.176102785327797e-15]\n",
      "              precision    recall  f1-score   support\n",
      "\n",
      "           0       0.50      0.67      0.57         6\n",
      "           1       0.00      0.00      0.00         7\n",
      "           2       0.14      0.20      0.17         5\n",
      "\n",
      "    accuracy                           0.28        18\n",
      "   macro avg       0.21      0.29      0.25        18\n",
      "weighted avg       0.21      0.28      0.24        18\n",
      "\n",
      "-------------------------------------------------------------------------------------------------------------------\n"
     ]
    },
    {
     "name": "stderr",
     "output_type": "stream",
     "text": [
      "[Parallel(n_jobs=-1)]: Using backend LokyBackend with 12 concurrent workers.\n",
      "[Parallel(n_jobs=-1)]: Done   3 out of   3 | elapsed:  2.0min finished\n"
     ]
    },
    {
     "name": "stdout",
     "output_type": "stream",
     "text": [
      "K-Fold #4\n",
      "Mean negativities for all classes: [0.3833597596170724, 0.38601119852678445, 0.37656983564200036]\n",
      "Mean entropies for all classes: [6.127035220812408e-15, 6.781263384374977e-15, 6.864206919517089e-15]\n",
      "              precision    recall  f1-score   support\n",
      "\n",
      "           0       0.33      0.50      0.40         6\n",
      "           1       0.00      0.00      0.00         7\n",
      "           2       0.00      0.00      0.00         5\n",
      "\n",
      "    accuracy                           0.17        18\n",
      "   macro avg       0.11      0.17      0.13        18\n",
      "weighted avg       0.11      0.17      0.13        18\n",
      "\n",
      "-------------------------------------------------------------------------------------------------------------------\n"
     ]
    },
    {
     "name": "stderr",
     "output_type": "stream",
     "text": [
      "[Parallel(n_jobs=-1)]: Using backend LokyBackend with 12 concurrent workers.\n",
      "[Parallel(n_jobs=-1)]: Done   3 out of   3 | elapsed:  2.0min finished\n"
     ]
    },
    {
     "name": "stdout",
     "output_type": "stream",
     "text": [
      "K-Fold #5\n",
      "Mean negativities for all classes: [0.3794391969704748, 0.37641289306291736, 0.3775576840670861]\n",
      "Mean entropies for all classes: [6.399249396052807e-15, 6.555164379710367e-15, 6.2275114264421725e-15]\n",
      "              precision    recall  f1-score   support\n",
      "\n",
      "           0       0.14      0.17      0.15         6\n",
      "           1       0.00      0.00      0.00         7\n",
      "           2       0.00      0.00      0.00         5\n",
      "\n",
      "    accuracy                           0.06        18\n",
      "   macro avg       0.05      0.06      0.05        18\n",
      "weighted avg       0.05      0.06      0.05        18\n",
      "\n",
      "-------------------------------------------------------------------------------------------------------------------\n"
     ]
    },
    {
     "name": "stderr",
     "output_type": "stream",
     "text": [
      "[Parallel(n_jobs=-1)]: Using backend LokyBackend with 12 concurrent workers.\n",
      "[Parallel(n_jobs=-1)]: Done   3 out of   3 | elapsed:  2.0min finished\n"
     ]
    },
    {
     "name": "stdout",
     "output_type": "stream",
     "text": [
      "K-Fold #6\n",
      "Mean negativities for all classes: [0.38869312316233934, 0.3838486493785107, 0.3832334215473895]\n",
      "Mean entropies for all classes: [6.0682069615118415e-15, 6.5002067674459206e-15, 6.3903697944474895e-15]\n",
      "              precision    recall  f1-score   support\n",
      "\n",
      "           0       0.00      0.00      0.00         6\n",
      "           1       0.00      0.00      0.00         7\n",
      "           2       0.29      0.80      0.42         5\n",
      "\n",
      "    accuracy                           0.22        18\n",
      "   macro avg       0.10      0.27      0.14        18\n",
      "weighted avg       0.08      0.22      0.12        18\n",
      "\n",
      "-------------------------------------------------------------------------------------------------------------------\n"
     ]
    },
    {
     "name": "stderr",
     "output_type": "stream",
     "text": [
      "c:\\ProgramData\\Anaconda3\\lib\\site-packages\\sklearn\\metrics\\_classification.py:1344: UndefinedMetricWarning: Precision and F-score are ill-defined and being set to 0.0 in labels with no predicted samples. Use `zero_division` parameter to control this behavior.\n",
      "  _warn_prf(average, modifier, msg_start, len(result))\n",
      "c:\\ProgramData\\Anaconda3\\lib\\site-packages\\sklearn\\metrics\\_classification.py:1344: UndefinedMetricWarning: Precision and F-score are ill-defined and being set to 0.0 in labels with no predicted samples. Use `zero_division` parameter to control this behavior.\n",
      "  _warn_prf(average, modifier, msg_start, len(result))\n",
      "c:\\ProgramData\\Anaconda3\\lib\\site-packages\\sklearn\\metrics\\_classification.py:1344: UndefinedMetricWarning: Precision and F-score are ill-defined and being set to 0.0 in labels with no predicted samples. Use `zero_division` parameter to control this behavior.\n",
      "  _warn_prf(average, modifier, msg_start, len(result))\n",
      "[Parallel(n_jobs=-1)]: Using backend LokyBackend with 12 concurrent workers.\n",
      "[Parallel(n_jobs=-1)]: Done   3 out of   3 | elapsed:  2.0min finished\n"
     ]
    },
    {
     "name": "stdout",
     "output_type": "stream",
     "text": [
      "K-Fold #7\n",
      "Mean negativities for all classes: [0.38937698712124746, 0.38386037058783207, 0.38187191608442544]\n",
      "Mean entropies for all classes: [6.6689592825174306e-15, 6.6912919101484435e-15, 6.5220712070703785e-15]\n",
      "              precision    recall  f1-score   support\n",
      "\n",
      "           0       0.50      0.67      0.57         6\n",
      "           1       0.00      0.00      0.00         7\n",
      "           2       0.14      0.20      0.17         5\n",
      "\n",
      "    accuracy                           0.28        18\n",
      "   macro avg       0.21      0.29      0.25        18\n",
      "weighted avg       0.21      0.28      0.24        18\n",
      "\n",
      "-------------------------------------------------------------------------------------------------------------------\n"
     ]
    },
    {
     "name": "stderr",
     "output_type": "stream",
     "text": [
      "[Parallel(n_jobs=-1)]: Using backend LokyBackend with 12 concurrent workers.\n",
      "[Parallel(n_jobs=-1)]: Done   3 out of   3 | elapsed:  2.0min finished\n"
     ]
    },
    {
     "name": "stdout",
     "output_type": "stream",
     "text": [
      "K-Fold #8\n",
      "Mean negativities for all classes: [0.3878758949759878, 0.3861365515694845, 0.3751449256961865]\n",
      "Mean entropies for all classes: [6.258414535450377e-15, 6.878835231455404e-15, 6.268777259623051e-15]\n",
      "              precision    recall  f1-score   support\n",
      "\n",
      "           0       0.43      0.50      0.46         6\n",
      "           1       0.00      0.00      0.00         7\n",
      "           2       0.20      0.50      0.29         4\n",
      "\n",
      "    accuracy                           0.29        17\n",
      "   macro avg       0.21      0.33      0.25        17\n",
      "weighted avg       0.20      0.29      0.23        17\n",
      "\n",
      "-------------------------------------------------------------------------------------------------------------------\n"
     ]
    },
    {
     "name": "stderr",
     "output_type": "stream",
     "text": [
      "c:\\ProgramData\\Anaconda3\\lib\\site-packages\\sklearn\\metrics\\_classification.py:1344: UndefinedMetricWarning: Precision and F-score are ill-defined and being set to 0.0 in labels with no predicted samples. Use `zero_division` parameter to control this behavior.\n",
      "  _warn_prf(average, modifier, msg_start, len(result))\n",
      "c:\\ProgramData\\Anaconda3\\lib\\site-packages\\sklearn\\metrics\\_classification.py:1344: UndefinedMetricWarning: Precision and F-score are ill-defined and being set to 0.0 in labels with no predicted samples. Use `zero_division` parameter to control this behavior.\n",
      "  _warn_prf(average, modifier, msg_start, len(result))\n",
      "c:\\ProgramData\\Anaconda3\\lib\\site-packages\\sklearn\\metrics\\_classification.py:1344: UndefinedMetricWarning: Precision and F-score are ill-defined and being set to 0.0 in labels with no predicted samples. Use `zero_division` parameter to control this behavior.\n",
      "  _warn_prf(average, modifier, msg_start, len(result))\n",
      "[Parallel(n_jobs=-1)]: Using backend LokyBackend with 12 concurrent workers.\n",
      "[Parallel(n_jobs=-1)]: Done   3 out of   3 | elapsed:  2.0min finished\n"
     ]
    },
    {
     "name": "stdout",
     "output_type": "stream",
     "text": [
      "K-Fold #9\n",
      "Mean negativities for all classes: [0.3875202457066859, 0.386367796464614, 0.3794699806773964]\n",
      "Mean entropies for all classes: [6.008627595490528e-15, 6.848578416191394e-15, 6.009891793031726e-15]\n",
      "              precision    recall  f1-score   support\n",
      "\n",
      "           0       0.40      0.40      0.40         5\n",
      "           1       0.00      0.00      0.00         8\n",
      "           2       0.00      0.00      0.00         4\n",
      "\n",
      "    accuracy                           0.12        17\n",
      "   macro avg       0.13      0.13      0.13        17\n",
      "weighted avg       0.12      0.12      0.12        17\n",
      "\n",
      "-------------------------------------------------------------------------------------------------------------------\n",
      "AVG: Scores = 0.19673202614379087 F1-Scores = 0.16494473362894416 Negativity = [0.3834156936756768, 0.3833096222477681, 0.3803251698954286] Entropy = [6.266566404113145e-15, 6.204551412376609e-15, 6.104152248065877e-15]\n"
     ]
    },
    {
     "name": "stderr",
     "output_type": "stream",
     "text": [
      "[Parallel(n_jobs=-1)]: Using backend LokyBackend with 12 concurrent workers.\n",
      "[Parallel(n_jobs=-1)]: Done   3 out of   3 | elapsed:  2.0min finished\n"
     ]
    },
    {
     "name": "stdout",
     "output_type": "stream",
     "text": [
      "K-Fold #0\n",
      "Mean negativities for all classes: [0.3803133713745591, 0.37921681703205684, 0.3810114485830718]\n",
      "Mean entropies for all classes: [6.3368007125344206e-15, 6.1951973164716625e-15, 6.584118025998247e-15]\n",
      "              precision    recall  f1-score   support\n",
      "\n",
      "           0       0.50      0.67      0.57         6\n",
      "           1       0.00      0.00      0.00         7\n",
      "           2       0.00      0.00      0.00         5\n",
      "\n",
      "    accuracy                           0.22        18\n",
      "   macro avg       0.17      0.22      0.19        18\n",
      "weighted avg       0.17      0.22      0.19        18\n",
      "\n",
      "-------------------------------------------------------------------------------------------------------------------\n"
     ]
    },
    {
     "name": "stderr",
     "output_type": "stream",
     "text": [
      "[Parallel(n_jobs=-1)]: Using backend LokyBackend with 12 concurrent workers.\n",
      "[Parallel(n_jobs=-1)]: Done   3 out of   3 | elapsed:  2.0min finished\n"
     ]
    },
    {
     "name": "stdout",
     "output_type": "stream",
     "text": [
      "K-Fold #1\n",
      "Mean negativities for all classes: [0.387668022025668, 0.3806719368170456, 0.38160733441335803]\n",
      "Mean entropies for all classes: [6.687850828854925e-15, 6.4373674472422476e-15, 6.3356621920729605e-15]\n",
      "              precision    recall  f1-score   support\n",
      "\n",
      "           0       0.00      0.00      0.00       6.0\n",
      "           1       0.00      0.00      0.00       7.0\n",
      "           2       0.00      0.00      0.00       5.0\n",
      "\n",
      "    accuracy                           0.00      18.0\n",
      "   macro avg       0.00      0.00      0.00      18.0\n",
      "weighted avg       0.00      0.00      0.00      18.0\n",
      "\n",
      "-------------------------------------------------------------------------------------------------------------------\n"
     ]
    },
    {
     "name": "stderr",
     "output_type": "stream",
     "text": [
      "[Parallel(n_jobs=-1)]: Using backend LokyBackend with 12 concurrent workers.\n",
      "[Parallel(n_jobs=-1)]: Done   3 out of   3 | elapsed:  2.0min finished\n"
     ]
    },
    {
     "name": "stdout",
     "output_type": "stream",
     "text": [
      "K-Fold #2\n",
      "Mean negativities for all classes: [0.3828272384518158, 0.37793640188943295, 0.3833519267605244]\n",
      "Mean entropies for all classes: [6.1207770216194594e-15, 5.876800883466965e-15, 6.495042865352959e-15]\n",
      "              precision    recall  f1-score   support\n",
      "\n",
      "           0       0.50      0.67      0.57         6\n",
      "           1       0.00      0.00      0.00         7\n",
      "           2       0.00      0.00      0.00         5\n",
      "\n",
      "    accuracy                           0.22        18\n",
      "   macro avg       0.17      0.22      0.19        18\n",
      "weighted avg       0.17      0.22      0.19        18\n",
      "\n",
      "-------------------------------------------------------------------------------------------------------------------\n"
     ]
    },
    {
     "name": "stderr",
     "output_type": "stream",
     "text": [
      "[Parallel(n_jobs=-1)]: Using backend LokyBackend with 12 concurrent workers.\n",
      "[Parallel(n_jobs=-1)]: Done   3 out of   3 | elapsed:  2.0min finished\n"
     ]
    },
    {
     "name": "stdout",
     "output_type": "stream",
     "text": [
      "K-Fold #3\n",
      "Mean negativities for all classes: [0.3848040150192022, 0.3777163983499475, 0.3834866170409962]\n",
      "Mean entropies for all classes: [5.998186630426968e-15, 6.412478724785128e-15, 6.456709692111383e-15]\n",
      "              precision    recall  f1-score   support\n",
      "\n",
      "           0       0.38      0.50      0.43         6\n",
      "           1       0.00      0.00      0.00         7\n",
      "           2       0.00      0.00      0.00         5\n",
      "\n",
      "    accuracy                           0.17        18\n",
      "   macro avg       0.12      0.17      0.14        18\n",
      "weighted avg       0.12      0.17      0.14        18\n",
      "\n",
      "-------------------------------------------------------------------------------------------------------------------\n"
     ]
    },
    {
     "name": "stderr",
     "output_type": "stream",
     "text": [
      "[Parallel(n_jobs=-1)]: Using backend LokyBackend with 12 concurrent workers.\n",
      "[Parallel(n_jobs=-1)]: Done   3 out of   3 | elapsed:  2.0min finished\n"
     ]
    },
    {
     "name": "stdout",
     "output_type": "stream",
     "text": [
      "K-Fold #4\n",
      "Mean negativities for all classes: [0.3895059929400172, 0.37793021294112844, 0.38496944125443994]\n",
      "Mean entropies for all classes: [6.034504477991832e-15, 6.462773842568216e-15, 6.131261539966557e-15]\n",
      "              precision    recall  f1-score   support\n",
      "\n",
      "           0       0.29      0.33      0.31         6\n",
      "           1       0.00      0.00      0.00         7\n",
      "           2       0.25      0.40      0.31         5\n",
      "\n",
      "    accuracy                           0.22        18\n",
      "   macro avg       0.18      0.24      0.21        18\n",
      "weighted avg       0.16      0.22      0.19        18\n",
      "\n",
      "-------------------------------------------------------------------------------------------------------------------\n"
     ]
    },
    {
     "name": "stderr",
     "output_type": "stream",
     "text": [
      "[Parallel(n_jobs=-1)]: Using backend LokyBackend with 12 concurrent workers.\n",
      "[Parallel(n_jobs=-1)]: Done   3 out of   3 | elapsed:  2.0min finished\n"
     ]
    },
    {
     "name": "stdout",
     "output_type": "stream",
     "text": [
      "K-Fold #5\n",
      "Mean negativities for all classes: [0.39392070883693947, 0.3766034865836083, 0.378829222316671]\n",
      "Mean entropies for all classes: [5.973987279588297e-15, 6.155040054999093e-15, 6.511525893883238e-15]\n",
      "              precision    recall  f1-score   support\n",
      "\n",
      "           0       0.25      0.17      0.20         6\n",
      "           1       0.00      0.00      0.00         7\n",
      "           2       0.17      0.40      0.24         5\n",
      "\n",
      "    accuracy                           0.17        18\n",
      "   macro avg       0.14      0.19      0.15        18\n",
      "weighted avg       0.13      0.17      0.13        18\n",
      "\n",
      "-------------------------------------------------------------------------------------------------------------------\n"
     ]
    },
    {
     "name": "stderr",
     "output_type": "stream",
     "text": [
      "[Parallel(n_jobs=-1)]: Using backend LokyBackend with 12 concurrent workers.\n",
      "[Parallel(n_jobs=-1)]: Done   3 out of   3 | elapsed:  2.0min finished\n"
     ]
    },
    {
     "name": "stdout",
     "output_type": "stream",
     "text": [
      "K-Fold #6\n",
      "Mean negativities for all classes: [0.3862864313452948, 0.37952424247115985, 0.3750737128975138]\n",
      "Mean entropies for all classes: [6.210420680456652e-15, 6.807524102723589e-15, 6.41057842931937e-15]\n",
      "              precision    recall  f1-score   support\n",
      "\n",
      "           0       0.33      0.33      0.33         6\n",
      "           1       0.00      0.00      0.00         7\n",
      "           2       0.12      0.20      0.15         5\n",
      "\n",
      "    accuracy                           0.17        18\n",
      "   macro avg       0.15      0.18      0.16        18\n",
      "weighted avg       0.15      0.17      0.15        18\n",
      "\n",
      "-------------------------------------------------------------------------------------------------------------------\n"
     ]
    },
    {
     "name": "stderr",
     "output_type": "stream",
     "text": [
      "[Parallel(n_jobs=-1)]: Using backend LokyBackend with 12 concurrent workers.\n",
      "[Parallel(n_jobs=-1)]: Done   3 out of   3 | elapsed:  2.0min finished\n"
     ]
    },
    {
     "name": "stdout",
     "output_type": "stream",
     "text": [
      "K-Fold #7\n",
      "Mean negativities for all classes: [0.3866101982756317, 0.3819825300160991, 0.37910731681382753]\n",
      "Mean entropies for all classes: [6.329565366061875e-15, 7.049041637932139e-15, 6.313929352384734e-15]\n",
      "              precision    recall  f1-score   support\n",
      "\n",
      "           0       0.40      0.33      0.36         6\n",
      "           1       0.00      0.00      0.00         7\n",
      "           2       0.17      0.40      0.24         5\n",
      "\n",
      "    accuracy                           0.22        18\n",
      "   macro avg       0.19      0.24      0.20        18\n",
      "weighted avg       0.18      0.22      0.19        18\n",
      "\n",
      "-------------------------------------------------------------------------------------------------------------------\n"
     ]
    },
    {
     "name": "stderr",
     "output_type": "stream",
     "text": [
      "[Parallel(n_jobs=-1)]: Using backend LokyBackend with 12 concurrent workers.\n",
      "[Parallel(n_jobs=-1)]: Done   3 out of   3 | elapsed:  2.0min finished\n"
     ]
    },
    {
     "name": "stdout",
     "output_type": "stream",
     "text": [
      "K-Fold #8\n",
      "Mean negativities for all classes: [0.38242728728118186, 0.38043382320788127, 0.37614539927238216]\n",
      "Mean entropies for all classes: [6.1947164549591185e-15, 6.481864951563871e-15, 6.0965076908046166e-15]\n",
      "              precision    recall  f1-score   support\n",
      "\n",
      "           0       0.50      0.67      0.57         6\n",
      "           1       0.00      0.00      0.00         7\n",
      "           2       0.14      0.25      0.18         4\n",
      "\n",
      "    accuracy                           0.29        17\n",
      "   macro avg       0.21      0.31      0.25        17\n",
      "weighted avg       0.21      0.29      0.24        17\n",
      "\n",
      "-------------------------------------------------------------------------------------------------------------------\n"
     ]
    },
    {
     "name": "stderr",
     "output_type": "stream",
     "text": [
      "[Parallel(n_jobs=-1)]: Using backend LokyBackend with 12 concurrent workers.\n",
      "[Parallel(n_jobs=-1)]: Done   3 out of   3 | elapsed:  2.0min finished\n"
     ]
    },
    {
     "name": "stdout",
     "output_type": "stream",
     "text": [
      "K-Fold #9\n",
      "Mean negativities for all classes: [0.38770135200481537, 0.3865529607894671, 0.3752128079748755]\n",
      "Mean entropies for all classes: [6.3169045078103175e-15, 6.348585913781814e-15, 6.396033159549295e-15]\n",
      "              precision    recall  f1-score   support\n",
      "\n",
      "           0       0.50      0.40      0.44         5\n",
      "           1       0.00      0.00      0.00         8\n",
      "           2       0.25      0.75      0.38         4\n",
      "\n",
      "    accuracy                           0.29        17\n",
      "   macro avg       0.25      0.38      0.27        17\n",
      "weighted avg       0.21      0.29      0.22        17\n",
      "\n",
      "-------------------------------------------------------------------------------------------------------------------\n",
      "AVG: Scores = 0.19771241830065361 F1-Scores = 0.17603028235381174 Negativity = [0.38018054566322923, 0.3833157644186905, 0.381371855700591] Entropy = [6.372038685001443e-15, 6.4869601560567115e-15, 6.164206923479794e-15]\n"
     ]
    },
    {
     "name": "stderr",
     "output_type": "stream",
     "text": [
      "[Parallel(n_jobs=-1)]: Using backend LokyBackend with 12 concurrent workers.\n",
      "[Parallel(n_jobs=-1)]: Done   3 out of   3 | elapsed:  2.0min finished\n"
     ]
    },
    {
     "name": "stdout",
     "output_type": "stream",
     "text": [
      "K-Fold #0\n",
      "Mean negativities for all classes: [0.387533578013404, 0.3790505828173613, 0.38797174993257866]\n",
      "Mean entropies for all classes: [5.765590589852922e-15, 6.715249734176738e-15, 6.5889417619117995e-15]\n",
      "              precision    recall  f1-score   support\n",
      "\n",
      "           0       0.22      0.33      0.27         6\n",
      "           1       0.00      0.00      0.00         7\n",
      "           2       0.20      0.20      0.20         5\n",
      "\n",
      "    accuracy                           0.17        18\n",
      "   macro avg       0.14      0.18      0.16        18\n",
      "weighted avg       0.13      0.17      0.14        18\n",
      "\n",
      "-------------------------------------------------------------------------------------------------------------------\n"
     ]
    },
    {
     "name": "stderr",
     "output_type": "stream",
     "text": [
      "[Parallel(n_jobs=-1)]: Using backend LokyBackend with 12 concurrent workers.\n",
      "[Parallel(n_jobs=-1)]: Done   3 out of   3 | elapsed:  2.0min finished\n"
     ]
    },
    {
     "name": "stdout",
     "output_type": "stream",
     "text": [
      "K-Fold #1\n",
      "Mean negativities for all classes: [0.38769402942087255, 0.38299087718367675, 0.37881600450834096]\n",
      "Mean entropies for all classes: [6.683581295143724e-15, 6.581666872393897e-15, 6.6213752401148546e-15]\n",
      "              precision    recall  f1-score   support\n",
      "\n",
      "           0       0.40      0.33      0.36         6\n",
      "           1       0.00      0.00      0.00         7\n",
      "           2       0.10      0.20      0.13         5\n",
      "\n",
      "    accuracy                           0.17        18\n",
      "   macro avg       0.17      0.18      0.17        18\n",
      "weighted avg       0.16      0.17      0.16        18\n",
      "\n",
      "-------------------------------------------------------------------------------------------------------------------\n"
     ]
    },
    {
     "name": "stderr",
     "output_type": "stream",
     "text": [
      "[Parallel(n_jobs=-1)]: Using backend LokyBackend with 12 concurrent workers.\n",
      "[Parallel(n_jobs=-1)]: Done   3 out of   3 | elapsed:  2.0min finished\n"
     ]
    },
    {
     "name": "stdout",
     "output_type": "stream",
     "text": [
      "K-Fold #2\n",
      "Mean negativities for all classes: [0.38588202685660794, 0.3825926918313227, 0.3746551541257316]\n",
      "Mean entropies for all classes: [6.010956071234693e-15, 6.8526250626026284e-15, 6.337411149451315e-15]\n",
      "              precision    recall  f1-score   support\n",
      "\n",
      "           0       0.36      0.67      0.47         6\n",
      "           1       0.00      0.00      0.00         7\n",
      "           2       0.29      0.40      0.33         5\n",
      "\n",
      "    accuracy                           0.33        18\n",
      "   macro avg       0.22      0.36      0.27        18\n",
      "weighted avg       0.20      0.33      0.25        18\n",
      "\n",
      "-------------------------------------------------------------------------------------------------------------------\n"
     ]
    },
    {
     "name": "stderr",
     "output_type": "stream",
     "text": [
      "c:\\ProgramData\\Anaconda3\\lib\\site-packages\\sklearn\\metrics\\_classification.py:1344: UndefinedMetricWarning: Precision and F-score are ill-defined and being set to 0.0 in labels with no predicted samples. Use `zero_division` parameter to control this behavior.\n",
      "  _warn_prf(average, modifier, msg_start, len(result))\n",
      "c:\\ProgramData\\Anaconda3\\lib\\site-packages\\sklearn\\metrics\\_classification.py:1344: UndefinedMetricWarning: Precision and F-score are ill-defined and being set to 0.0 in labels with no predicted samples. Use `zero_division` parameter to control this behavior.\n",
      "  _warn_prf(average, modifier, msg_start, len(result))\n",
      "c:\\ProgramData\\Anaconda3\\lib\\site-packages\\sklearn\\metrics\\_classification.py:1344: UndefinedMetricWarning: Precision and F-score are ill-defined and being set to 0.0 in labels with no predicted samples. Use `zero_division` parameter to control this behavior.\n",
      "  _warn_prf(average, modifier, msg_start, len(result))\n",
      "[Parallel(n_jobs=-1)]: Using backend LokyBackend with 12 concurrent workers.\n",
      "[Parallel(n_jobs=-1)]: Done   3 out of   3 | elapsed:  2.0min finished\n"
     ]
    },
    {
     "name": "stdout",
     "output_type": "stream",
     "text": [
      "K-Fold #3\n",
      "Mean negativities for all classes: [0.3835450577762808, 0.38668948058550856, 0.376408531448381]\n",
      "Mean entropies for all classes: [5.778445460295638e-15, 6.8763826914796706e-15, 6.3435294543928935e-15]\n",
      "              precision    recall  f1-score   support\n",
      "\n",
      "           0       0.43      0.50      0.46         6\n",
      "           1       0.00      0.00      0.00         7\n",
      "           2       0.27      0.60      0.37         5\n",
      "\n",
      "    accuracy                           0.33        18\n",
      "   macro avg       0.23      0.37      0.28        18\n",
      "weighted avg       0.22      0.33      0.26        18\n",
      "\n",
      "-------------------------------------------------------------------------------------------------------------------\n"
     ]
    },
    {
     "name": "stderr",
     "output_type": "stream",
     "text": [
      "c:\\ProgramData\\Anaconda3\\lib\\site-packages\\sklearn\\metrics\\_classification.py:1344: UndefinedMetricWarning: Precision and F-score are ill-defined and being set to 0.0 in labels with no predicted samples. Use `zero_division` parameter to control this behavior.\n",
      "  _warn_prf(average, modifier, msg_start, len(result))\n",
      "c:\\ProgramData\\Anaconda3\\lib\\site-packages\\sklearn\\metrics\\_classification.py:1344: UndefinedMetricWarning: Precision and F-score are ill-defined and being set to 0.0 in labels with no predicted samples. Use `zero_division` parameter to control this behavior.\n",
      "  _warn_prf(average, modifier, msg_start, len(result))\n",
      "c:\\ProgramData\\Anaconda3\\lib\\site-packages\\sklearn\\metrics\\_classification.py:1344: UndefinedMetricWarning: Precision and F-score are ill-defined and being set to 0.0 in labels with no predicted samples. Use `zero_division` parameter to control this behavior.\n",
      "  _warn_prf(average, modifier, msg_start, len(result))\n",
      "[Parallel(n_jobs=-1)]: Using backend LokyBackend with 12 concurrent workers.\n",
      "[Parallel(n_jobs=-1)]: Done   3 out of   3 | elapsed:  2.0min finished\n"
     ]
    },
    {
     "name": "stdout",
     "output_type": "stream",
     "text": [
      "K-Fold #4\n",
      "Mean negativities for all classes: [0.3887341178251606, 0.37062964229851914, 0.38025189609039267]\n",
      "Mean entropies for all classes: [5.917608196598293e-15, 6.598465923247957e-15, 6.559429253684193e-15]\n",
      "              precision    recall  f1-score   support\n",
      "\n",
      "           0       0.33      0.17      0.22         6\n",
      "           1       0.00      0.00      0.00         7\n",
      "           2       0.00      0.00      0.00         5\n",
      "\n",
      "    accuracy                           0.06        18\n",
      "   macro avg       0.11      0.06      0.07        18\n",
      "weighted avg       0.11      0.06      0.07        18\n",
      "\n",
      "-------------------------------------------------------------------------------------------------------------------\n"
     ]
    },
    {
     "name": "stderr",
     "output_type": "stream",
     "text": [
      "[Parallel(n_jobs=-1)]: Using backend LokyBackend with 12 concurrent workers.\n",
      "[Parallel(n_jobs=-1)]: Done   3 out of   3 | elapsed:  2.0min finished\n"
     ]
    },
    {
     "name": "stdout",
     "output_type": "stream",
     "text": [
      "K-Fold #5\n",
      "Mean negativities for all classes: [0.38133141048210056, 0.38571347048252036, 0.3841984073728171]\n",
      "Mean entropies for all classes: [6.341240129548876e-15, 6.525370974011389e-15, 6.301118732215001e-15]\n",
      "              precision    recall  f1-score   support\n",
      "\n",
      "           0       0.30      0.50      0.37         6\n",
      "           1       0.00      0.00      0.00         7\n",
      "           2       0.17      0.20      0.18         5\n",
      "\n",
      "    accuracy                           0.22        18\n",
      "   macro avg       0.16      0.23      0.19        18\n",
      "weighted avg       0.15      0.22      0.18        18\n",
      "\n",
      "-------------------------------------------------------------------------------------------------------------------\n"
     ]
    },
    {
     "name": "stderr",
     "output_type": "stream",
     "text": [
      "[Parallel(n_jobs=-1)]: Using backend LokyBackend with 12 concurrent workers.\n",
      "[Parallel(n_jobs=-1)]: Done   3 out of   3 | elapsed:  2.0min finished\n"
     ]
    },
    {
     "name": "stdout",
     "output_type": "stream",
     "text": [
      "K-Fold #6\n",
      "Mean negativities for all classes: [0.39187409890397945, 0.3847460734181041, 0.3756372954758135]\n",
      "Mean entropies for all classes: [6.4276057203308935e-15, 7.011472702187553e-15, 6.510182524863653e-15]\n",
      "              precision    recall  f1-score   support\n",
      "\n",
      "           0       0.50      0.33      0.40         6\n",
      "           1       0.00      0.00      0.00         7\n",
      "           2       0.17      0.40      0.24         5\n",
      "\n",
      "    accuracy                           0.22        18\n",
      "   macro avg       0.22      0.24      0.21        18\n",
      "weighted avg       0.21      0.22      0.20        18\n",
      "\n",
      "-------------------------------------------------------------------------------------------------------------------\n"
     ]
    },
    {
     "name": "stderr",
     "output_type": "stream",
     "text": [
      "[Parallel(n_jobs=-1)]: Using backend LokyBackend with 12 concurrent workers.\n",
      "[Parallel(n_jobs=-1)]: Done   3 out of   3 | elapsed:  2.0min finished\n"
     ]
    },
    {
     "name": "stdout",
     "output_type": "stream",
     "text": [
      "K-Fold #7\n",
      "Mean negativities for all classes: [0.38461324898805316, 0.37794638222027255, 0.37866274134033445]\n",
      "Mean entropies for all classes: [5.948283046327522e-15, 6.951002384373686e-15, 6.053472179540977e-15]\n",
      "              precision    recall  f1-score   support\n",
      "\n",
      "           0       0.43      0.50      0.46         6\n",
      "           1       0.00      0.00      0.00         7\n",
      "           2       0.10      0.20      0.13         5\n",
      "\n",
      "    accuracy                           0.22        18\n",
      "   macro avg       0.18      0.23      0.20        18\n",
      "weighted avg       0.17      0.22      0.19        18\n",
      "\n",
      "-------------------------------------------------------------------------------------------------------------------\n"
     ]
    },
    {
     "name": "stderr",
     "output_type": "stream",
     "text": [
      "[Parallel(n_jobs=-1)]: Using backend LokyBackend with 12 concurrent workers.\n",
      "[Parallel(n_jobs=-1)]: Done   3 out of   3 | elapsed:  2.0min finished\n"
     ]
    },
    {
     "name": "stdout",
     "output_type": "stream",
     "text": [
      "K-Fold #8\n",
      "Mean negativities for all classes: [0.3876122687880659, 0.3790143708356514, 0.38009021666480125]\n",
      "Mean entropies for all classes: [6.6783581233649874e-15, 6.5240067908202685e-15, 6.392970792159556e-15]\n",
      "              precision    recall  f1-score   support\n",
      "\n",
      "           0       0.33      0.50      0.40         6\n",
      "           1       0.00      0.00      0.00         7\n",
      "           2       0.17      0.25      0.20         4\n",
      "\n",
      "    accuracy                           0.24        17\n",
      "   macro avg       0.17      0.25      0.20        17\n",
      "weighted avg       0.16      0.24      0.19        17\n",
      "\n",
      "-------------------------------------------------------------------------------------------------------------------\n"
     ]
    },
    {
     "name": "stderr",
     "output_type": "stream",
     "text": [
      "[Parallel(n_jobs=-1)]: Using backend LokyBackend with 12 concurrent workers.\n",
      "[Parallel(n_jobs=-1)]: Done   3 out of   3 | elapsed:  2.0min finished\n"
     ]
    },
    {
     "name": "stdout",
     "output_type": "stream",
     "text": [
      "K-Fold #9\n",
      "Mean negativities for all classes: [0.38807122922362947, 0.38471613320519976, 0.37663842437468475]\n",
      "Mean entropies for all classes: [5.959472908905628e-15, 7.179284651747742e-15, 5.734722633366122e-15]\n",
      "              precision    recall  f1-score   support\n",
      "\n",
      "           0       0.40      0.40      0.40         5\n",
      "           1       0.00      0.00      0.00         8\n",
      "           2       0.10      0.25      0.14         4\n",
      "\n",
      "    accuracy                           0.18        17\n",
      "   macro avg       0.17      0.22      0.18        17\n",
      "weighted avg       0.14      0.18      0.15        17\n",
      "\n",
      "-------------------------------------------------------------------------------------------------------------------\n",
      "AVG: Scores = 0.2133986928104575 F1-Scores = 0.1918719951072892 Negativity = [0.384851970254448, 0.3831669703709634, 0.3810432909378874] Entropy = [6.3565940286471535e-15, 6.628874469217492e-15, 6.400330761096212e-15]\n"
     ]
    },
    {
     "name": "stderr",
     "output_type": "stream",
     "text": [
      "[Parallel(n_jobs=-1)]: Using backend LokyBackend with 12 concurrent workers.\n",
      "[Parallel(n_jobs=-1)]: Done   3 out of   3 | elapsed:  2.0min finished\n"
     ]
    },
    {
     "name": "stdout",
     "output_type": "stream",
     "text": [
      "K-Fold #0\n",
      "Mean negativities for all classes: [0.38354721121290436, 0.37343559566408846, 0.37844605995229513]\n",
      "Mean entropies for all classes: [5.740806243878138e-15, 6.7541952998019865e-15, 6.8286299266409915e-15]\n",
      "              precision    recall  f1-score   support\n",
      "\n",
      "           0       0.12      0.17      0.14         6\n",
      "           1       0.00      0.00      0.00         7\n",
      "           2       0.12      0.20      0.15         5\n",
      "\n",
      "    accuracy                           0.11        18\n",
      "   macro avg       0.08      0.12      0.10        18\n",
      "weighted avg       0.08      0.11      0.09        18\n",
      "\n",
      "-------------------------------------------------------------------------------------------------------------------\n"
     ]
    },
    {
     "name": "stderr",
     "output_type": "stream",
     "text": [
      "[Parallel(n_jobs=-1)]: Using backend LokyBackend with 12 concurrent workers.\n",
      "[Parallel(n_jobs=-1)]: Done   3 out of   3 | elapsed:  2.0min finished\n"
     ]
    },
    {
     "name": "stdout",
     "output_type": "stream",
     "text": [
      "K-Fold #1\n",
      "Mean negativities for all classes: [0.38568973470731965, 0.3864299926703569, 0.3808119523705619]\n",
      "Mean entropies for all classes: [5.689844361061198e-15, 6.5364687509805475e-15, 6.7570103265506454e-15]\n",
      "              precision    recall  f1-score   support\n",
      "\n",
      "           0       0.17      0.17      0.17         6\n",
      "           1       0.00      0.00      0.00         7\n",
      "           2       0.10      0.20      0.13         5\n",
      "\n",
      "    accuracy                           0.11        18\n",
      "   macro avg       0.09      0.12      0.10        18\n",
      "weighted avg       0.08      0.11      0.09        18\n",
      "\n",
      "-------------------------------------------------------------------------------------------------------------------\n"
     ]
    },
    {
     "name": "stderr",
     "output_type": "stream",
     "text": [
      "[Parallel(n_jobs=-1)]: Using backend LokyBackend with 12 concurrent workers.\n",
      "[Parallel(n_jobs=-1)]: Done   3 out of   3 | elapsed:  2.0min finished\n"
     ]
    },
    {
     "name": "stdout",
     "output_type": "stream",
     "text": [
      "K-Fold #2\n",
      "Mean negativities for all classes: [0.38736795997053647, 0.3817035545529741, 0.3730501959781159]\n",
      "Mean entropies for all classes: [6.206340078115515e-15, 6.7022514706431135e-15, 6.534268054825509e-15]\n",
      "              precision    recall  f1-score   support\n",
      "\n",
      "           0       0.33      0.33      0.33         6\n",
      "           1       0.00      0.00      0.00         7\n",
      "           2       0.10      0.20      0.13         5\n",
      "\n",
      "    accuracy                           0.17        18\n",
      "   macro avg       0.14      0.18      0.16        18\n",
      "weighted avg       0.14      0.17      0.15        18\n",
      "\n",
      "-------------------------------------------------------------------------------------------------------------------\n"
     ]
    },
    {
     "name": "stderr",
     "output_type": "stream",
     "text": [
      "[Parallel(n_jobs=-1)]: Using backend LokyBackend with 12 concurrent workers.\n",
      "[Parallel(n_jobs=-1)]: Done   3 out of   3 | elapsed:  2.0min finished\n"
     ]
    },
    {
     "name": "stdout",
     "output_type": "stream",
     "text": [
      "K-Fold #3\n",
      "Mean negativities for all classes: [0.3880233757087522, 0.38233115390454586, 0.3785695469812]\n",
      "Mean entropies for all classes: [6.8758767585997796e-15, 6.69277643322526e-15, 5.897382062037691e-15]\n",
      "              precision    recall  f1-score   support\n",
      "\n",
      "           0       0.57      0.67      0.62         6\n",
      "           1       0.00      0.00      0.00         7\n",
      "           2       0.25      0.40      0.31         5\n",
      "\n",
      "    accuracy                           0.33        18\n",
      "   macro avg       0.27      0.36      0.31        18\n",
      "weighted avg       0.26      0.33      0.29        18\n",
      "\n",
      "-------------------------------------------------------------------------------------------------------------------\n"
     ]
    },
    {
     "name": "stderr",
     "output_type": "stream",
     "text": [
      "[Parallel(n_jobs=-1)]: Using backend LokyBackend with 12 concurrent workers.\n",
      "[Parallel(n_jobs=-1)]: Done   3 out of   3 | elapsed:  2.0min finished\n"
     ]
    },
    {
     "name": "stdout",
     "output_type": "stream",
     "text": [
      "K-Fold #4\n",
      "Mean negativities for all classes: [0.38593094724261756, 0.37318141923233417, 0.37643679292149634]\n",
      "Mean entropies for all classes: [6.46342129095304e-15, 6.478512139445603e-15, 6.171192297634805e-15]\n",
      "              precision    recall  f1-score   support\n",
      "\n",
      "           0       0.20      0.17      0.18         6\n",
      "           1       0.00      0.00      0.00         7\n",
      "           2       0.11      0.20      0.14         5\n",
      "\n",
      "    accuracy                           0.11        18\n",
      "   macro avg       0.10      0.12      0.11        18\n",
      "weighted avg       0.10      0.11      0.10        18\n",
      "\n",
      "-------------------------------------------------------------------------------------------------------------------\n"
     ]
    },
    {
     "name": "stderr",
     "output_type": "stream",
     "text": [
      "[Parallel(n_jobs=-1)]: Using backend LokyBackend with 12 concurrent workers.\n",
      "[Parallel(n_jobs=-1)]: Done   3 out of   3 | elapsed:  2.0min finished\n"
     ]
    },
    {
     "name": "stdout",
     "output_type": "stream",
     "text": [
      "K-Fold #5\n",
      "Mean negativities for all classes: [0.3887418052404711, 0.3755930624184083, 0.38263627796897004]\n",
      "Mean entropies for all classes: [6.398874493907606e-15, 6.372219371606368e-15, 6.208305096354495e-15]\n",
      "              precision    recall  f1-score   support\n",
      "\n",
      "           0       0.14      0.17      0.15         6\n",
      "           1       0.00      0.00      0.00         7\n",
      "           2       0.00      0.00      0.00         5\n",
      "\n",
      "    accuracy                           0.06        18\n",
      "   macro avg       0.05      0.06      0.05        18\n",
      "weighted avg       0.05      0.06      0.05        18\n",
      "\n",
      "-------------------------------------------------------------------------------------------------------------------\n"
     ]
    },
    {
     "name": "stderr",
     "output_type": "stream",
     "text": [
      "[Parallel(n_jobs=-1)]: Using backend LokyBackend with 12 concurrent workers.\n",
      "[Parallel(n_jobs=-1)]: Done   3 out of   3 | elapsed:  2.0min finished\n"
     ]
    },
    {
     "name": "stdout",
     "output_type": "stream",
     "text": [
      "K-Fold #6\n",
      "Mean negativities for all classes: [0.38796980851288865, 0.38277235395008924, 0.3792427855090308]\n",
      "Mean entropies for all classes: [6.0918468388562396e-15, 6.350613718773045e-15, 5.981430964256804e-15]\n",
      "              precision    recall  f1-score   support\n",
      "\n",
      "           0       0.60      0.50      0.55         6\n",
      "           1       0.00      0.00      0.00         7\n",
      "           2       0.00      0.00      0.00         5\n",
      "\n",
      "    accuracy                           0.17        18\n",
      "   macro avg       0.20      0.17      0.18        18\n",
      "weighted avg       0.20      0.17      0.18        18\n",
      "\n",
      "-------------------------------------------------------------------------------------------------------------------\n"
     ]
    },
    {
     "name": "stderr",
     "output_type": "stream",
     "text": [
      "[Parallel(n_jobs=-1)]: Using backend LokyBackend with 12 concurrent workers.\n",
      "[Parallel(n_jobs=-1)]: Done   3 out of   3 | elapsed:  2.0min finished\n"
     ]
    },
    {
     "name": "stdout",
     "output_type": "stream",
     "text": [
      "K-Fold #7\n",
      "Mean negativities for all classes: [0.38936041584863285, 0.3814921593768799, 0.3762749643934527]\n",
      "Mean entropies for all classes: [5.833489927369956e-15, 6.274356476107959e-15, 6.44949892336916e-15]\n",
      "              precision    recall  f1-score   support\n",
      "\n",
      "           0       0.40      0.33      0.36         6\n",
      "           1       0.00      0.00      0.00         7\n",
      "           2       0.10      0.20      0.13         5\n",
      "\n",
      "    accuracy                           0.17        18\n",
      "   macro avg       0.17      0.18      0.17        18\n",
      "weighted avg       0.16      0.17      0.16        18\n",
      "\n",
      "-------------------------------------------------------------------------------------------------------------------\n"
     ]
    },
    {
     "name": "stderr",
     "output_type": "stream",
     "text": [
      "[Parallel(n_jobs=-1)]: Using backend LokyBackend with 12 concurrent workers.\n",
      "[Parallel(n_jobs=-1)]: Done   3 out of   3 | elapsed:  2.0min finished\n"
     ]
    },
    {
     "name": "stdout",
     "output_type": "stream",
     "text": [
      "K-Fold #8\n",
      "Mean negativities for all classes: [0.38621764306835205, 0.38353243297447515, 0.38303521211870156]\n",
      "Mean entropies for all classes: [6.736663893078774e-15, 6.3820367526219856e-15, 6.196676236246903e-15]\n",
      "              precision    recall  f1-score   support\n",
      "\n",
      "           0       0.33      0.33      0.33         6\n",
      "           1       0.00      0.00      0.00         7\n",
      "           2       0.12      0.25      0.17         4\n",
      "\n",
      "    accuracy                           0.18        17\n",
      "   macro avg       0.15      0.19      0.17        17\n",
      "weighted avg       0.15      0.18      0.16        17\n",
      "\n",
      "-------------------------------------------------------------------------------------------------------------------\n"
     ]
    },
    {
     "name": "stderr",
     "output_type": "stream",
     "text": [
      "[Parallel(n_jobs=-1)]: Using backend LokyBackend with 12 concurrent workers.\n",
      "[Parallel(n_jobs=-1)]: Done   3 out of   3 | elapsed:  2.0min finished\n"
     ]
    },
    {
     "name": "stdout",
     "output_type": "stream",
     "text": [
      "K-Fold #9\n",
      "Mean negativities for all classes: [0.38352548646450113, 0.3821041924910855, 0.3780321801494469]\n",
      "Mean entropies for all classes: [5.9090788059383055e-15, 6.512105671067769e-15, 6.365579572355799e-15]\n",
      "              precision    recall  f1-score   support\n",
      "\n",
      "           0       0.50      0.80      0.62         5\n",
      "           1       0.00      0.00      0.00         8\n",
      "           2       0.14      0.25      0.18         4\n",
      "\n",
      "    accuracy                           0.29        17\n",
      "   macro avg       0.21      0.35      0.27        17\n",
      "weighted avg       0.18      0.29      0.22        17\n",
      "\n",
      "-------------------------------------------------------------------------------------------------------------------\n",
      "AVG: Scores = 0.169281045751634 F1-Scores = 0.16015318015318017 Negativity = [0.378476288943096, 0.3843105599160795, 0.3807072368338755] Entropy = [6.441210490107039e-15, 6.327774479530797e-15, 6.480953201194712e-15]\n"
     ]
    },
    {
     "name": "stderr",
     "output_type": "stream",
     "text": [
      "[Parallel(n_jobs=-1)]: Using backend LokyBackend with 12 concurrent workers.\n",
      "[Parallel(n_jobs=-1)]: Done   3 out of   3 | elapsed:  2.0min finished\n"
     ]
    },
    {
     "name": "stdout",
     "output_type": "stream",
     "text": [
      "K-Fold #0\n",
      "Mean negativities for all classes: [0.3785142890310259, 0.37934106939208845, 0.38088876925511533]\n",
      "Mean entropies for all classes: [6.426019369431521e-15, 7.072218945163402e-15, 6.547946354571932e-15]\n",
      "              precision    recall  f1-score   support\n",
      "\n",
      "           0       0.33      0.50      0.40         6\n",
      "           1       0.00      0.00      0.00         7\n",
      "           2       0.12      0.20      0.15         5\n",
      "\n",
      "    accuracy                           0.22        18\n",
      "   macro avg       0.15      0.23      0.18        18\n",
      "weighted avg       0.15      0.22      0.18        18\n",
      "\n",
      "-------------------------------------------------------------------------------------------------------------------\n"
     ]
    },
    {
     "name": "stderr",
     "output_type": "stream",
     "text": [
      "[Parallel(n_jobs=-1)]: Using backend LokyBackend with 12 concurrent workers.\n",
      "[Parallel(n_jobs=-1)]: Done   3 out of   3 | elapsed:  2.0min finished\n"
     ]
    },
    {
     "name": "stdout",
     "output_type": "stream",
     "text": [
      "K-Fold #1\n",
      "Mean negativities for all classes: [0.38720290588364203, 0.37905280293461246, 0.3749658525401942]\n",
      "Mean entropies for all classes: [6.498389654670211e-15, 6.289554253830627e-15, 6.3372386260459616e-15]\n",
      "              precision    recall  f1-score   support\n",
      "\n",
      "           0       0.33      0.33      0.33         6\n",
      "           1       0.00      0.00      0.00         7\n",
      "           2       0.00      0.00      0.00         5\n",
      "\n",
      "    accuracy                           0.11        18\n",
      "   macro avg       0.11      0.11      0.11        18\n",
      "weighted avg       0.11      0.11      0.11        18\n",
      "\n",
      "-------------------------------------------------------------------------------------------------------------------\n"
     ]
    },
    {
     "name": "stderr",
     "output_type": "stream",
     "text": [
      "[Parallel(n_jobs=-1)]: Using backend LokyBackend with 12 concurrent workers.\n",
      "[Parallel(n_jobs=-1)]: Done   3 out of   3 | elapsed:  2.0min finished\n"
     ]
    },
    {
     "name": "stdout",
     "output_type": "stream",
     "text": [
      "K-Fold #2\n",
      "Mean negativities for all classes: [0.39212335655372077, 0.3799485868301675, 0.3820107346368559]\n",
      "Mean entropies for all classes: [6.269911953549902e-15, 6.404806431920921e-15, 5.804698097708802e-15]\n",
      "              precision    recall  f1-score   support\n",
      "\n",
      "           0       0.00      0.00      0.00         6\n",
      "           1       0.20      0.14      0.17         7\n",
      "           2       0.20      0.40      0.27         5\n",
      "\n",
      "    accuracy                           0.17        18\n",
      "   macro avg       0.13      0.18      0.14        18\n",
      "weighted avg       0.13      0.17      0.14        18\n",
      "\n",
      "-------------------------------------------------------------------------------------------------------------------\n"
     ]
    },
    {
     "name": "stderr",
     "output_type": "stream",
     "text": [
      "[Parallel(n_jobs=-1)]: Using backend LokyBackend with 12 concurrent workers.\n",
      "[Parallel(n_jobs=-1)]: Done   3 out of   3 | elapsed:  2.0min finished\n"
     ]
    },
    {
     "name": "stdout",
     "output_type": "stream",
     "text": [
      "K-Fold #3\n",
      "Mean negativities for all classes: [0.3883856894738327, 0.3838720212408163, 0.3851025383192885]\n",
      "Mean entropies for all classes: [6.5011571040182064e-15, 6.62791777377253e-15, 5.824376467563506e-15]\n",
      "              precision    recall  f1-score   support\n",
      "\n",
      "           0       0.33      0.50      0.40         6\n",
      "           1       0.00      0.00      0.00         7\n",
      "           2       0.14      0.20      0.17         5\n",
      "\n",
      "    accuracy                           0.22        18\n",
      "   macro avg       0.16      0.23      0.19        18\n",
      "weighted avg       0.15      0.22      0.18        18\n",
      "\n",
      "-------------------------------------------------------------------------------------------------------------------\n"
     ]
    },
    {
     "name": "stderr",
     "output_type": "stream",
     "text": [
      "[Parallel(n_jobs=-1)]: Using backend LokyBackend with 12 concurrent workers.\n",
      "[Parallel(n_jobs=-1)]: Done   3 out of   3 | elapsed:  2.0min finished\n"
     ]
    },
    {
     "name": "stdout",
     "output_type": "stream",
     "text": [
      "K-Fold #4\n",
      "Mean negativities for all classes: [0.3881017717540273, 0.3840969320872372, 0.3747116270626992]\n",
      "Mean entropies for all classes: [6.180675575172569e-15, 6.692698661461302e-15, 6.097084484972414e-15]\n",
      "              precision    recall  f1-score   support\n",
      "\n",
      "           0       0.43      0.50      0.46         6\n",
      "           1       0.00      0.00      0.00         7\n",
      "           2       0.00      0.00      0.00         5\n",
      "\n",
      "    accuracy                           0.17        18\n",
      "   macro avg       0.14      0.17      0.15        18\n",
      "weighted avg       0.14      0.17      0.15        18\n",
      "\n",
      "-------------------------------------------------------------------------------------------------------------------\n"
     ]
    },
    {
     "name": "stderr",
     "output_type": "stream",
     "text": [
      "[Parallel(n_jobs=-1)]: Using backend LokyBackend with 12 concurrent workers.\n",
      "[Parallel(n_jobs=-1)]: Done   3 out of   3 | elapsed:  2.0min finished\n"
     ]
    },
    {
     "name": "stdout",
     "output_type": "stream",
     "text": [
      "K-Fold #5\n",
      "Mean negativities for all classes: [0.392564912957129, 0.38214780142819627, 0.37765121809268365]\n",
      "Mean entropies for all classes: [6.267999382322964e-15, 6.452154332125117e-15, 6.047605066229845e-15]\n",
      "              precision    recall  f1-score   support\n",
      "\n",
      "           0       0.20      0.17      0.18         6\n",
      "           1       0.00      0.00      0.00         7\n",
      "           2       0.10      0.20      0.13         5\n",
      "\n",
      "    accuracy                           0.11        18\n",
      "   macro avg       0.10      0.12      0.11        18\n",
      "weighted avg       0.09      0.11      0.10        18\n",
      "\n",
      "-------------------------------------------------------------------------------------------------------------------\n"
     ]
    },
    {
     "name": "stderr",
     "output_type": "stream",
     "text": [
      "[Parallel(n_jobs=-1)]: Using backend LokyBackend with 12 concurrent workers.\n",
      "[Parallel(n_jobs=-1)]: Done   3 out of   3 | elapsed:  2.0min finished\n"
     ]
    },
    {
     "name": "stdout",
     "output_type": "stream",
     "text": [
      "K-Fold #6\n",
      "Mean negativities for all classes: [0.3849053793417549, 0.3801019484177346, 0.3786754379481453]\n",
      "Mean entropies for all classes: [6.319918968784102e-15, 6.6400267853941036e-15, 6.0342300171133476e-15]\n",
      "              precision    recall  f1-score   support\n",
      "\n",
      "           0       0.17      0.17      0.17         6\n",
      "           1       0.00      0.00      0.00         7\n",
      "           2       0.17      0.40      0.24         5\n",
      "\n",
      "    accuracy                           0.17        18\n",
      "   macro avg       0.11      0.19      0.13        18\n",
      "weighted avg       0.10      0.17      0.12        18\n",
      "\n",
      "-------------------------------------------------------------------------------------------------------------------\n"
     ]
    },
    {
     "name": "stderr",
     "output_type": "stream",
     "text": [
      "c:\\ProgramData\\Anaconda3\\lib\\site-packages\\sklearn\\metrics\\_classification.py:1344: UndefinedMetricWarning: Precision and F-score are ill-defined and being set to 0.0 in labels with no predicted samples. Use `zero_division` parameter to control this behavior.\n",
      "  _warn_prf(average, modifier, msg_start, len(result))\n",
      "c:\\ProgramData\\Anaconda3\\lib\\site-packages\\sklearn\\metrics\\_classification.py:1344: UndefinedMetricWarning: Precision and F-score are ill-defined and being set to 0.0 in labels with no predicted samples. Use `zero_division` parameter to control this behavior.\n",
      "  _warn_prf(average, modifier, msg_start, len(result))\n",
      "c:\\ProgramData\\Anaconda3\\lib\\site-packages\\sklearn\\metrics\\_classification.py:1344: UndefinedMetricWarning: Precision and F-score are ill-defined and being set to 0.0 in labels with no predicted samples. Use `zero_division` parameter to control this behavior.\n",
      "  _warn_prf(average, modifier, msg_start, len(result))\n",
      "[Parallel(n_jobs=-1)]: Using backend LokyBackend with 12 concurrent workers.\n",
      "[Parallel(n_jobs=-1)]: Done   3 out of   3 | elapsed:  2.0min finished\n"
     ]
    },
    {
     "name": "stdout",
     "output_type": "stream",
     "text": [
      "K-Fold #7\n",
      "Mean negativities for all classes: [0.37752946219721484, 0.37670741699563476, 0.3870418056014369]\n",
      "Mean entropies for all classes: [6.214139948275833e-15, 6.394765200440704e-15, 5.985648240330803e-15]\n",
      "              precision    recall  f1-score   support\n",
      "\n",
      "           0       0.45      0.83      0.59         6\n",
      "           1       0.00      0.00      0.00         7\n",
      "           2       0.00      0.00      0.00         5\n",
      "\n",
      "    accuracy                           0.28        18\n",
      "   macro avg       0.15      0.28      0.20        18\n",
      "weighted avg       0.15      0.28      0.20        18\n",
      "\n",
      "-------------------------------------------------------------------------------------------------------------------\n"
     ]
    },
    {
     "name": "stderr",
     "output_type": "stream",
     "text": [
      "[Parallel(n_jobs=-1)]: Using backend LokyBackend with 12 concurrent workers.\n",
      "[Parallel(n_jobs=-1)]: Done   3 out of   3 | elapsed:  2.0min finished\n"
     ]
    },
    {
     "name": "stdout",
     "output_type": "stream",
     "text": [
      "K-Fold #8\n",
      "Mean negativities for all classes: [0.3775396643404493, 0.3831050466369297, 0.3774947344223764]\n",
      "Mean entropies for all classes: [6.856224134511671e-15, 6.702724469731417e-15, 6.0909104340236175e-15]\n",
      "              precision    recall  f1-score   support\n",
      "\n",
      "           0       0.56      0.83      0.67         6\n",
      "           1       0.00      0.00      0.00         7\n",
      "           2       0.29      0.50      0.36         4\n",
      "\n",
      "    accuracy                           0.41        17\n",
      "   macro avg       0.28      0.44      0.34        17\n",
      "weighted avg       0.26      0.41      0.32        17\n",
      "\n",
      "-------------------------------------------------------------------------------------------------------------------\n"
     ]
    },
    {
     "name": "stderr",
     "output_type": "stream",
     "text": [
      "[Parallel(n_jobs=-1)]: Using backend LokyBackend with 12 concurrent workers.\n",
      "[Parallel(n_jobs=-1)]: Done   3 out of   3 | elapsed:  2.0min finished\n"
     ]
    },
    {
     "name": "stdout",
     "output_type": "stream",
     "text": [
      "K-Fold #9\n",
      "Mean negativities for all classes: [0.38569655718627477, 0.3852344482389683, 0.3801733509479209]\n",
      "Mean entropies for all classes: [6.713134179207401e-15, 6.339785681731741e-15, 6.775818055737373e-15]\n",
      "              precision    recall  f1-score   support\n",
      "\n",
      "           0       0.33      0.60      0.43         5\n",
      "           1       0.00      0.00      0.00         8\n",
      "           2       0.17      0.25      0.20         4\n",
      "\n",
      "    accuracy                           0.24        17\n",
      "   macro avg       0.17      0.28      0.21        17\n",
      "weighted avg       0.14      0.24      0.17        17\n",
      "\n",
      "-------------------------------------------------------------------------------------------------------------------\n",
      "AVG: Scores = 0.2091503267973856 F1-Scores = 0.17709800003917647 Negativity = [0.37958137589274327, 0.3804071871194829, 0.3846942260069148] Entropy = [6.682061556388952e-15, 6.375060844848933e-15, 6.1598054943932084e-15]\n",
      "CPU times: total: 5min 23s\n",
      "Wall time: 6h 42min 31s\n"
     ]
    }
   ],
   "source": [
    "%%time\n",
    "scores_list = []\n",
    "f1scores_list = []\n",
    "negativities_list = []\n",
    "for SEED in range(n_times_kfold):\n",
    "    scores, f1scores, output_dict = execute_training_test_k_fold(\n",
    "                    X, \n",
    "                    y, \n",
    "                    k_folds=k_times_fold,\n",
    "                    random_seed = SEED, \n",
    "                    classifier_function=classifier_function, \n",
    "                    dic_classifier_params=dic_classifier_params,\n",
    "                    one_vs_classifier=OneVsRestClassifier, \n",
    "                    dic_training_params=dic_training_params,\n",
    "                    print_each_fold_metric=True,\n",
    "                    print_avg_metric=True)\n",
    "    scores_list.append(scores)\n",
    "    f1scores_list.append(f1scores)\n",
    "    negativities_list.append(output_dict[\"negativities\"])"
   ]
  },
  {
   "cell_type": "code",
   "execution_count": 4,
   "id": "edf6b067",
   "metadata": {},
   "outputs": [
    {
     "name": "stdout",
     "output_type": "stream",
     "text": [
      "[[0.2777777777777778, 0.16666666666666666, 0.2222222222222222, 0.1111111111111111, 0.2777777777777778, 0.2777777777777778, 0.16666666666666666, 0.2777777777777778, 0.23529411764705882, 0.17647058823529413], [0.2222222222222222, 0.2777777777777778, 0.2222222222222222, 0.2222222222222222, 0.2222222222222222, 0.05555555555555555, 0.16666666666666666, 0.2222222222222222, 0.35294117647058826, 0.11764705882352941], [0.2222222222222222, 0.16666666666666666, 0.05555555555555555, 0.16666666666666666, 0.2777777777777778, 0.3333333333333333, 0.2222222222222222, 0.2222222222222222, 0.23529411764705882, 0.17647058823529413], [0.16666666666666666, 0.3888888888888889, 0.2777777777777778, 0.2222222222222222, 0.2777777777777778, 0.2777777777777778, 0.2777777777777778, 0.16666666666666666, 0.29411764705882354, 0.17647058823529413], [0.16666666666666666, 0.16666666666666666, 0.2222222222222222, 0.05555555555555555, 0.2777777777777778, 0.2222222222222222, 0.2222222222222222, 0.1111111111111111, 0.17647058823529413, 0.29411764705882354], [0.1111111111111111, 0.2777777777777778, 0.2777777777777778, 0.16666666666666666, 0.3333333333333333, 0.16666666666666666, 0.2222222222222222, 0.2222222222222222, 0.23529411764705882, 0.058823529411764705], [0.2222222222222222, 0.2777777777777778, 0.1111111111111111, 0.1111111111111111, 0.2222222222222222, 0.2222222222222222, 0.2777777777777778, 0.16666666666666666, 0.17647058823529413, 0.17647058823529413], [0.16666666666666666, 0.2777777777777778, 0.3888888888888889, 0.16666666666666666, 0.1111111111111111, 0.16666666666666666, 0.16666666666666666, 0.2222222222222222, 0.11764705882352941, 0.17647058823529413], [0.16666666666666666, 0.4444444444444444, 0.05555555555555555, 0.05555555555555555, 0.2777777777777778, 0.2777777777777778, 0.2222222222222222, 0.2777777777777778, 0.4117647058823529, 0.17647058823529413], [0.2222222222222222, 0.2777777777777778, 0.05555555555555555, 0.05555555555555555, 0.16666666666666666, 0.2777777777777778, 0.2777777777777778, 0.2777777777777778, 0.17647058823529413, 0.47058823529411764], [0.16666666666666666, 0.3333333333333333, 0.1111111111111111, 0.2222222222222222, 0.2222222222222222, 0.1111111111111111, 0.3333333333333333, 0.3333333333333333, 0.11764705882352941, 0.17647058823529413], [0.1111111111111111, 0.3888888888888889, 0.2777777777777778, 0.1111111111111111, 0.1111111111111111, 0.2222222222222222, 0.2777777777777778, 0.2222222222222222, 0.29411764705882354, 0.35294117647058826], [0.2222222222222222, 0.2777777777777778, 0.3888888888888889, 0.16666666666666666, 0.2222222222222222, 0.1111111111111111, 0.16666666666666666, 0.2777777777777778, 0.29411764705882354, 0.11764705882352941], [0.1111111111111111, 0.2777777777777778, 0.1111111111111111, 0.16666666666666666, 0.1111111111111111, 0.2777777777777778, 0.1111111111111111, 0.16666666666666666, 0.23529411764705882, 0.17647058823529413], [0.16666666666666666, 0.16666666666666666, 0.3888888888888889, 0.16666666666666666, 0.3333333333333333, 0.16666666666666666, 0.2222222222222222, 0.1111111111111111, 0.11764705882352941, 0.23529411764705882], [0.16666666666666666, 0.05555555555555555, 0.3333333333333333, 0.2777777777777778, 0.16666666666666666, 0.05555555555555555, 0.2222222222222222, 0.2777777777777778, 0.29411764705882354, 0.11764705882352941], [0.2222222222222222, 0.0, 0.2222222222222222, 0.16666666666666666, 0.2222222222222222, 0.16666666666666666, 0.16666666666666666, 0.2222222222222222, 0.29411764705882354, 0.29411764705882354], [0.16666666666666666, 0.16666666666666666, 0.3333333333333333, 0.3333333333333333, 0.05555555555555555, 0.2222222222222222, 0.2222222222222222, 0.2222222222222222, 0.23529411764705882, 0.17647058823529413], [0.1111111111111111, 0.1111111111111111, 0.16666666666666666, 0.3333333333333333, 0.1111111111111111, 0.05555555555555555, 0.16666666666666666, 0.16666666666666666, 0.17647058823529413, 0.29411764705882354], [0.2222222222222222, 0.1111111111111111, 0.16666666666666666, 0.2222222222222222, 0.16666666666666666, 0.1111111111111111, 0.16666666666666666, 0.2777777777777778, 0.4117647058823529, 0.23529411764705882]]\n"
     ]
    }
   ],
   "source": [
    "print(scores_list)"
   ]
  },
  {
   "cell_type": "code",
   "execution_count": 5,
   "id": "113e5328",
   "metadata": {},
   "outputs": [
    {
     "data": {
      "text/plain": [
       "0.20918300653594774"
      ]
     },
     "execution_count": 5,
     "metadata": {},
     "output_type": "execute_result"
    }
   ],
   "source": [
    "import numpy as np\n",
    "np.mean([np.mean(i) for i in scores_list])"
   ]
  },
  {
   "cell_type": "code",
   "execution_count": 6,
   "id": "5d5fcbfa",
   "metadata": {},
   "outputs": [
    {
     "data": {
      "text/plain": [
       "[0.21895424836601304,\n",
       " 0.20816993464052289,\n",
       " 0.20784313725490194,\n",
       " 0.25261437908496726,\n",
       " 0.19150326797385622,\n",
       " 0.20718954248366012,\n",
       " 0.19640522875816996,\n",
       " 0.19607843137254902,\n",
       " 0.23660130718954245,\n",
       " 0.2258169934640523,\n",
       " 0.21274509803921568,\n",
       " 0.2369281045751634,\n",
       " 0.22450980392156863,\n",
       " 0.17450980392156865,\n",
       " 0.20751633986928103,\n",
       " 0.19673202614379087,\n",
       " 0.19771241830065361,\n",
       " 0.2133986928104575,\n",
       " 0.169281045751634,\n",
       " 0.2091503267973856]"
      ]
     },
     "execution_count": 6,
     "metadata": {},
     "output_type": "execute_result"
    }
   ],
   "source": [
    "[np.mean(i) for i in scores_list]"
   ]
  },
  {
   "cell_type": "code",
   "execution_count": 7,
   "id": "168e8aff",
   "metadata": {},
   "outputs": [
    {
     "name": "stdout",
     "output_type": "stream",
     "text": [
      "Media Score dos N K-Fold 0.20918300653594774\n",
      "Maior Score dos K-Fold 0.25261437908496726\n",
      "Menor Score dos K-Fold 0.169281045751634\n",
      "\n",
      "\n",
      "[[0.2777777777777778, 0.16666666666666666, 0.2222222222222222, 0.1111111111111111, 0.2777777777777778, 0.2777777777777778, 0.16666666666666666, 0.2777777777777778, 0.23529411764705882, 0.17647058823529413], [0.2222222222222222, 0.2777777777777778, 0.2222222222222222, 0.2222222222222222, 0.2222222222222222, 0.05555555555555555, 0.16666666666666666, 0.2222222222222222, 0.35294117647058826, 0.11764705882352941], [0.2222222222222222, 0.16666666666666666, 0.05555555555555555, 0.16666666666666666, 0.2777777777777778, 0.3333333333333333, 0.2222222222222222, 0.2222222222222222, 0.23529411764705882, 0.17647058823529413], [0.16666666666666666, 0.3888888888888889, 0.2777777777777778, 0.2222222222222222, 0.2777777777777778, 0.2777777777777778, 0.2777777777777778, 0.16666666666666666, 0.29411764705882354, 0.17647058823529413], [0.16666666666666666, 0.16666666666666666, 0.2222222222222222, 0.05555555555555555, 0.2777777777777778, 0.2222222222222222, 0.2222222222222222, 0.1111111111111111, 0.17647058823529413, 0.29411764705882354], [0.1111111111111111, 0.2777777777777778, 0.2777777777777778, 0.16666666666666666, 0.3333333333333333, 0.16666666666666666, 0.2222222222222222, 0.2222222222222222, 0.23529411764705882, 0.058823529411764705], [0.2222222222222222, 0.2777777777777778, 0.1111111111111111, 0.1111111111111111, 0.2222222222222222, 0.2222222222222222, 0.2777777777777778, 0.16666666666666666, 0.17647058823529413, 0.17647058823529413], [0.16666666666666666, 0.2777777777777778, 0.3888888888888889, 0.16666666666666666, 0.1111111111111111, 0.16666666666666666, 0.16666666666666666, 0.2222222222222222, 0.11764705882352941, 0.17647058823529413], [0.16666666666666666, 0.4444444444444444, 0.05555555555555555, 0.05555555555555555, 0.2777777777777778, 0.2777777777777778, 0.2222222222222222, 0.2777777777777778, 0.4117647058823529, 0.17647058823529413], [0.2222222222222222, 0.2777777777777778, 0.05555555555555555, 0.05555555555555555, 0.16666666666666666, 0.2777777777777778, 0.2777777777777778, 0.2777777777777778, 0.17647058823529413, 0.47058823529411764], [0.16666666666666666, 0.3333333333333333, 0.1111111111111111, 0.2222222222222222, 0.2222222222222222, 0.1111111111111111, 0.3333333333333333, 0.3333333333333333, 0.11764705882352941, 0.17647058823529413], [0.1111111111111111, 0.3888888888888889, 0.2777777777777778, 0.1111111111111111, 0.1111111111111111, 0.2222222222222222, 0.2777777777777778, 0.2222222222222222, 0.29411764705882354, 0.35294117647058826], [0.2222222222222222, 0.2777777777777778, 0.3888888888888889, 0.16666666666666666, 0.2222222222222222, 0.1111111111111111, 0.16666666666666666, 0.2777777777777778, 0.29411764705882354, 0.11764705882352941], [0.1111111111111111, 0.2777777777777778, 0.1111111111111111, 0.16666666666666666, 0.1111111111111111, 0.2777777777777778, 0.1111111111111111, 0.16666666666666666, 0.23529411764705882, 0.17647058823529413], [0.16666666666666666, 0.16666666666666666, 0.3888888888888889, 0.16666666666666666, 0.3333333333333333, 0.16666666666666666, 0.2222222222222222, 0.1111111111111111, 0.11764705882352941, 0.23529411764705882], [0.16666666666666666, 0.05555555555555555, 0.3333333333333333, 0.2777777777777778, 0.16666666666666666, 0.05555555555555555, 0.2222222222222222, 0.2777777777777778, 0.29411764705882354, 0.11764705882352941], [0.2222222222222222, 0.0, 0.2222222222222222, 0.16666666666666666, 0.2222222222222222, 0.16666666666666666, 0.16666666666666666, 0.2222222222222222, 0.29411764705882354, 0.29411764705882354], [0.16666666666666666, 0.16666666666666666, 0.3333333333333333, 0.3333333333333333, 0.05555555555555555, 0.2222222222222222, 0.2222222222222222, 0.2222222222222222, 0.23529411764705882, 0.17647058823529413], [0.1111111111111111, 0.1111111111111111, 0.16666666666666666, 0.3333333333333333, 0.1111111111111111, 0.05555555555555555, 0.16666666666666666, 0.16666666666666666, 0.17647058823529413, 0.29411764705882354], [0.2222222222222222, 0.1111111111111111, 0.16666666666666666, 0.2222222222222222, 0.16666666666666666, 0.1111111111111111, 0.16666666666666666, 0.2777777777777778, 0.4117647058823529, 0.23529411764705882]]\n"
     ]
    }
   ],
   "source": [
    "print(\"Media Score dos N K-Fold\", np.mean([np.mean(i) for i in scores_list]))\n",
    "print(\"Maior Score dos K-Fold\", max([np.mean(i) for i in scores_list]))\n",
    "print(\"Menor Score dos K-Fold\", min([np.mean(i) for i in scores_list]))\n",
    "\n",
    "print()\n",
    "print()\n",
    "print(scores_list)"
   ]
  },
  {
   "cell_type": "code",
   "execution_count": 8,
   "id": "fcd239e5",
   "metadata": {},
   "outputs": [
    {
     "name": "stdout",
     "output_type": "stream",
     "text": [
      "Media F1Score dos N K-Fold 0.17709800003917647\n",
      "Maior F1Score dos K-Fold 0.3434343434343434\n",
      "Menor F1Score dos K-Fold 0.10505050505050505\n",
      "\n",
      "\n",
      "[0.18461538461538463, 0.1111111111111111, 0.14444444444444446, 0.18888888888888888, 0.15384615384615383, 0.10505050505050505, 0.13398692810457516, 0.19607843137254902, 0.3434343434343434, 0.20952380952380953]\n"
     ]
    }
   ],
   "source": [
    "print(\"Media F1Score dos N K-Fold\", np.mean([np.mean(i) for i in f1scores]))\n",
    "print(\"Maior F1Score dos K-Fold\", max([np.mean(i) for i in f1scores]))\n",
    "print(\"Menor F1Score dos K-Fold\", min([np.mean(i) for i in f1scores]))\n",
    "\n",
    "print()\n",
    "print()\n",
    "print(f1scores)"
   ]
  },
  {
   "cell_type": "code",
   "execution_count": 9,
   "id": "35ede4ea",
   "metadata": {},
   "outputs": [
    {
     "name": "stdout",
     "output_type": "stream",
     "text": [
      "Media Negativity dos N K-Fold [0.386140953329904, 0.381230528822195, 0.3790616734510311]\n",
      "\n",
      "\n",
      "[[[0.3844550296336685, 0.38381824744316667, 0.3877596115502166, 0.38507339361586745, 0.3881015124251099, 0.38647947711122854, 0.3812516673989166, 0.38536569598998843, 0.38289647410478306, 0.3910009902659771], [0.37947269992273314, 0.379231782757562, 0.37935795338053985, 0.3726884507001393, 0.3879759284786773, 0.3837202991928884, 0.37433219684776464, 0.38390468557396545, 0.38416573702632384, 0.3796218068589258], [0.3802419205420075, 0.3838417610583084, 0.38194855478078515, 0.3763688797271016, 0.3806908427840876, 0.3745555934109635, 0.3779093082541954, 0.3792650549437966, 0.376107044466615, 0.3750266720132406]], [[0.38495431565935667, 0.38459925328536015, 0.38309610606279687, 0.3893809070748586, 0.38803156355293134, 0.38577200372281883, 0.38849915948002245, 0.38802074508332396, 0.38868923035534303, 0.38397976051584487], [0.3823903635694959, 0.381096659041878, 0.3787094157379407, 0.3803330800187029, 0.3816482761351548, 0.38352319820872194, 0.3738950175166848, 0.3853067725015083, 0.3845847749690961, 0.38958289201684576], [0.3801120512341407, 0.3773826596812545, 0.37778197282536213, 0.3776475956205003, 0.3775321111957997, 0.3773031169234496, 0.384492261222658, 0.38504066696442346, 0.37844731253467134, 0.36965892013391677]], [[0.3891792390479072, 0.38948317700309953, 0.3841566292495846, 0.3857051874863298, 0.3862407927824675, 0.3858449505705728, 0.3861651497450104, 0.3914332001632401, 0.3827191388552556, 0.3879126624406729], [0.38204288200413816, 0.37256035141180527, 0.3745620167305972, 0.37786987364144786, 0.37608815958177316, 0.37841700196107675, 0.3791030368741024, 0.38650870512034374, 0.3888029452261005, 0.38551678256806843], [0.37634156122155354, 0.378742490680201, 0.37884980394456935, 0.3761040541201422, 0.37946831586765356, 0.38003298123323287, 0.38386203690578385, 0.3776405796762182, 0.37184421065495454, 0.3859416383767948]], [[0.39031516757036316, 0.3878315214132223, 0.38890188761790856, 0.3823909821480826, 0.3826665462434052, 0.38379411205089586, 0.3821461671189119, 0.3853974439025023, 0.3885415207027736, 0.3871773900891422], [0.3817938617632674, 0.3752865020200926, 0.38533059515837176, 0.37687896974833407, 0.38477142561875016, 0.3887648762946179, 0.3708545277622118, 0.3861379936278392, 0.378852351624948, 0.3760557634627246], [0.3790761771142632, 0.3780158285206773, 0.3740975743369821, 0.38477047320325125, 0.37462050739153907, 0.3761403236393319, 0.38425368997147824, 0.3816015953916075, 0.3771943417584981, 0.3755745120902539]], [[0.38988064180397364, 0.38482702923488116, 0.3869656780085539, 0.389034986998888, 0.38507373887647467, 0.38347202015803056, 0.38251648772732405, 0.3879696647309323, 0.3853506357232191, 0.3808142386901395], [0.3875963747627266, 0.3800329854057446, 0.37616629979038274, 0.38545469712758096, 0.3773994590526945, 0.38308965362982694, 0.3787154634083973, 0.380651297806167, 0.37620286530213776, 0.3840531925230474], [0.37305843104062136, 0.3825565472571198, 0.3806693146667194, 0.3847955616022015, 0.3812088049911887, 0.38482734481016373, 0.3778630734218058, 0.37177894482091395, 0.37920751043425277, 0.3792536865256566]], [[0.392015056662205, 0.3814124091577431, 0.38602938600513875, 0.3837290075210252, 0.3833365476950521, 0.38018199964240473, 0.38844713564250366, 0.39035271385852877, 0.3819864782618521, 0.3951172653537741], [0.37966114625777136, 0.38953160741713433, 0.3819443474569417, 0.37991705118338553, 0.37559072462025106, 0.3734972844830708, 0.37933855917851234, 0.38396009676102577, 0.38660968194514933, 0.3801458500254413], [0.37550351854739594, 0.38329784814957313, 0.38278932867836535, 0.38271507877094973, 0.37558597832180607, 0.38126610942233463, 0.37889483325933526, 0.3801454194222342, 0.3810554246564224, 0.37631414296192855]], [[0.38331559343786775, 0.38893550098264706, 0.3875568801974212, 0.3893360039337942, 0.38246362936241757, 0.3828015043585182, 0.38583556709624833, 0.3913193308667197, 0.3821229399132521, 0.3931010480249205], [0.3675053121454581, 0.3832321272803506, 0.38752740294813337, 0.38425390147446015, 0.384456324145226, 0.3815055982278076, 0.3851620861632583, 0.37851011443640825, 0.38531776986074107, 0.3856534310170343], [0.37696996280942424, 0.3778497234656667, 0.3833972543065904, 0.3764037778289913, 0.38081541658268636, 0.3761914731676762, 0.37434078691974765, 0.3752517701083486, 0.3775144173795601, 0.3781175577597614]], [[0.389975686654867, 0.3862451158074552, 0.3887387024678013, 0.3802981304844414, 0.38030635046773725, 0.38845754215672396, 0.386646824639901, 0.38528910189589505, 0.3901837588794875, 0.3866322952007899], [0.3786579610725269, 0.37493844039236557, 0.3759767717995744, 0.3782335756462763, 0.3858110280213212, 0.3799701588318523, 0.38327152108819024, 0.3877743141907249, 0.3849216321889904, 0.3831847271520199], [0.37947459837904884, 0.38070118112182844, 0.37641964274648615, 0.38234002846035964, 0.38187041193312543, 0.38091439785425396, 0.3823974379003524, 0.37361408257299833, 0.37329212233382264, 0.37279131025711804]], [[0.3881762957791427, 0.38765528827543627, 0.38667040561079447, 0.38748116521652354, 0.3829493144119904, 0.38774709122426637, 0.38271733901865435, 0.38365856451508606, 0.38859971859802533, 0.3840879946984207], [0.3803674475009482, 0.38125068870468193, 0.3846152568222148, 0.3782624633839118, 0.38192121267688733, 0.3835412781464538, 0.37709609367294455, 0.3839490522784902, 0.3866332377574433, 0.3880800561622294], [0.37832954921746914, 0.38229690815962786, 0.38030409842270824, 0.3728233209531526, 0.38401569074690445, 0.3793876716165777, 0.37832428687891534, 0.37661620959042197, 0.37056954256920893, 0.37948638467228996]], [[0.3862468809401662, 0.38300122126383584, 0.39362208097344853, 0.3879721224046058, 0.38903142627043397, 0.3830580206469079, 0.38790652112580504, 0.3864646261524708, 0.3852438602664566, 0.3815224610072786], [0.3783816264411317, 0.37695000030249554, 0.37944707029095937, 0.3812464358243961, 0.38055353847098433, 0.3804786764518802, 0.38257823301713567, 0.37748924984810417, 0.3892023150289581, 0.38181174480729557], [0.3787185402091787, 0.37622507941093886, 0.37882320542311165, 0.3783149904725573, 0.37916014570789974, 0.3803310416172263, 0.3735044535416338, 0.38307229458569814, 0.3820412256437036, 0.3825212480964801]], [[0.38713378628523093, 0.38284898723289784, 0.3904310369463805, 0.3865245567471312, 0.3779423013362114, 0.3858249900720232, 0.3861727817021014, 0.3880586514527904, 0.3824961245215363, 0.3835904628464063], [0.3837804342293255, 0.37836479244479865, 0.3859164592457052, 0.37938900228267997, 0.37965485745990724, 0.37855071195942225, 0.3827200525693652, 0.3881940659192686, 0.37512562547249345, 0.38594736059456053], [0.3837244811730766, 0.3752065987796674, 0.38106206514428775, 0.38274740377776506, 0.37992187924692034, 0.3750879073668956, 0.3866948659017907, 0.3770558009957496, 0.38138601540696176, 0.3786558568271275]], [[0.38223032668296947, 0.3901353762788646, 0.38682924511696676, 0.3861461891114846, 0.388677859564982, 0.38974841886300254, 0.381889442381095, 0.3817838160724662, 0.3835401776222794, 0.38873654846090255], [0.38062906861633067, 0.3822982979941308, 0.37862252392861956, 0.3791110064531963, 0.3828866001565363, 0.3799469089093976, 0.38282136536531497, 0.3768950909975762, 0.3808619899997569, 0.3869691320601576], [0.3792752621314804, 0.3819791674980193, 0.3797932776425817, 0.3802048904548496, 0.37758411889825294, 0.3767750695999182, 0.37678210676710094, 0.3862230252248389, 0.38121489252234786, 0.36682678878624914]], [[0.38968380406786624, 0.3847384263726877, 0.3846125957157835, 0.39165868424822636, 0.38599318133492794, 0.38889461686513926, 0.3879445294243472, 0.3804237136120014, 0.38461420176374145, 0.38795412087321784], [0.38479189229226907, 0.3835809481111964, 0.388103148331423, 0.3841465928468848, 0.3798430648614393, 0.3738874140632731, 0.3789117020074785, 0.3770735539764908, 0.38828577729213704, 0.38086757041309394], [0.37521827137343716, 0.38048167899646335, 0.3808990229084652, 0.3735214836888799, 0.3835928008863839, 0.38067216826637273, 0.3737339073941645, 0.3812232609457895, 0.3818047815293603, 0.37765836768532834]], [[0.3885412214686001, 0.38392316799085624, 0.38974011612266535, 0.38432407147392034, 0.38403592565306216, 0.3861516590520279, 0.38694367577947947, 0.38239609303678346, 0.3874634178102012, 0.3884541525251841], [0.38402827657262933, 0.3765819431120873, 0.3842610163931158, 0.38026879780449296, 0.3840536167934822, 0.37849231263988964, 0.379016638519331, 0.37938459737565144, 0.38032604713160323, 0.3804061251492973], [0.3790166907708876, 0.38235522310167025, 0.3791027664142596, 0.37016504455999916, 0.38386291907812375, 0.3824494386700764, 0.37773385074779076, 0.37701440140044634, 0.379196754671246, 0.3811565416704435]], [[0.3895055082742272, 0.3860384882900594, 0.38442440569185354, 0.384986550688586, 0.3831988626670512, 0.38262183297314734, 0.38987100136980163, 0.3861811389791379, 0.3876858351547493, 0.3880814512792661], [0.3781590621857605, 0.3898939118897602, 0.3793929741943087, 0.3815300806947655, 0.3847683136635403, 0.3747581844109973, 0.3805198906493988, 0.3751804111452197, 0.38821572495222423, 0.38554110909648376], [0.3758862305767304, 0.3779716747147393, 0.38471900699925393, 0.37836288641178917, 0.37575398853966147, 0.3837928531159418, 0.3814301097950662, 0.378872422975709, 0.3806756787952585, 0.3793510447686885]], [[0.3882075316384015, 0.3838465476824879, 0.38308573862000134, 0.3859490125862383, 0.3833597596170724, 0.3794391969704748, 0.38869312316233934, 0.38937698712124746, 0.3878758949759878, 0.3875202457066859], [0.3825642624021687, 0.3848486084839372, 0.37654144957116387, 0.37669630628390377, 0.38601119852678445, 0.37641289306291736, 0.3838486493785107, 0.38386037058783207, 0.3861365515694845, 0.386367796464614], [0.37947528698646027, 0.38123371057687927, 0.38134832149512055, 0.379328036402638, 0.37656983564200036, 0.3775576840670861, 0.3832334215473895, 0.38187191608442544, 0.3751449256961865, 0.3794699806773964]], [[0.3803133713745591, 0.387668022025668, 0.3828272384518158, 0.3848040150192022, 0.3895059929400172, 0.39392070883693947, 0.3862864313452948, 0.3866101982756317, 0.38242728728118186, 0.38770135200481537], [0.37921681703205684, 0.3806719368170456, 0.37793640188943295, 0.3777163983499475, 0.37793021294112844, 0.3766034865836083, 0.37952424247115985, 0.3819825300160991, 0.38043382320788127, 0.3865529607894671], [0.3810114485830718, 0.38160733441335803, 0.3833519267605244, 0.3834866170409962, 0.38496944125443994, 0.378829222316671, 0.3750737128975138, 0.37910731681382753, 0.37614539927238216, 0.3752128079748755]], [[0.387533578013404, 0.38769402942087255, 0.38588202685660794, 0.3835450577762808, 0.3887341178251606, 0.38133141048210056, 0.39187409890397945, 0.38461324898805316, 0.3876122687880659, 0.38807122922362947], [0.3790505828173613, 0.38299087718367675, 0.3825926918313227, 0.38668948058550856, 0.37062964229851914, 0.38571347048252036, 0.3847460734181041, 0.37794638222027255, 0.3790143708356514, 0.38471613320519976], [0.38797174993257866, 0.37881600450834096, 0.3746551541257316, 0.376408531448381, 0.38025189609039267, 0.3841984073728171, 0.3756372954758135, 0.37866274134033445, 0.38009021666480125, 0.37663842437468475]], [[0.38354721121290436, 0.38568973470731965, 0.38736795997053647, 0.3880233757087522, 0.38593094724261756, 0.3887418052404711, 0.38796980851288865, 0.38936041584863285, 0.38621764306835205, 0.38352548646450113], [0.37343559566408846, 0.3864299926703569, 0.3817035545529741, 0.38233115390454586, 0.37318141923233417, 0.3755930624184083, 0.38277235395008924, 0.3814921593768799, 0.38353243297447515, 0.3821041924910855], [0.37844605995229513, 0.3808119523705619, 0.3730501959781159, 0.3785695469812, 0.37643679292149634, 0.38263627796897004, 0.3792427855090308, 0.3762749643934527, 0.38303521211870156, 0.3780321801494469]], [[0.3785142890310259, 0.38720290588364203, 0.39212335655372077, 0.3883856894738327, 0.3881017717540273, 0.392564912957129, 0.3849053793417549, 0.37752946219721484, 0.3775396643404493, 0.38569655718627477], [0.37934106939208845, 0.37905280293461246, 0.3799485868301675, 0.3838720212408163, 0.3840969320872372, 0.38214780142819627, 0.3801019484177346, 0.37670741699563476, 0.3831050466369297, 0.3852344482389683], [0.38088876925511533, 0.3749658525401942, 0.3820107346368559, 0.3851025383192885, 0.3747116270626992, 0.37765121809268365, 0.3786754379481453, 0.3870418056014369, 0.3774947344223764, 0.3801733509479209]]]\n"
     ]
    }
   ],
   "source": [
    "print(\"Media Negativity dos N K-Fold\", [np.mean([neg[i] for neg in negativities_list]) for i in range(len(set(y)))])\n",
    "\n",
    "print()\n",
    "print()\n",
    "print(negativities_list)"
   ]
  }
 ],
 "metadata": {
  "kernelspec": {
   "display_name": "Python 3",
   "language": "python",
   "name": "python3"
  },
  "language_info": {
   "codemirror_mode": {
    "name": "ipython",
    "version": 3
   },
   "file_extension": ".py",
   "mimetype": "text/x-python",
   "name": "python",
   "nbconvert_exporter": "python",
   "pygments_lexer": "ipython3",
   "version": "3.9.16"
  }
 },
 "nbformat": 4,
 "nbformat_minor": 5
}
