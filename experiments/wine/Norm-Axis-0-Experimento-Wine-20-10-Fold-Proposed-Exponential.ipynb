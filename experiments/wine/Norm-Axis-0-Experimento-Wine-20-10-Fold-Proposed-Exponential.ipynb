{
 "cells": [
  {
   "cell_type": "code",
   "execution_count": 1,
   "id": "0db239e0",
   "metadata": {},
   "outputs": [
    {
     "name": "stderr",
     "output_type": "stream",
     "text": [
      "Intel(R) Extension for Scikit-learn* enabled (https://github.com/intel/scikit-learn-intelex)\n"
     ]
    }
   ],
   "source": [
    "import sys, os\n",
    "sys.path.append(os.path.abspath('../../classifiers'))\n",
    "sys.path.append(os.path.abspath('../../training'))\n",
    "sys.path.append(os.path.abspath('../../validation'))\n",
    "from validation_functions import execute_training_test_k_fold\n",
    "from classifiers_ICQ import iqc_classifier\n",
    "\n",
    "from sklearn.multiclass import OneVsRestClassifier\n",
    "import numpy as np\n",
    "from sklearn import datasets\n",
    "\n",
    "wine = datasets.load_wine()\n",
    "\n",
    "X = wine.data[:, [0,1,2,3,4,5,6,7,8,9,10,11,12]]\n",
    "y = wine.target\n",
    "\n",
    "X = np.c_[X, np.ones((178,3))] #padding = 16 attributes"
   ]
  },
  {
   "cell_type": "code",
   "execution_count": 2,
   "id": "1ad66125",
   "metadata": {},
   "outputs": [],
   "source": [
    "classifier_function = iqc_classifier\n",
    "dic_classifier_params = {}\n",
    "dic_classifier_params[\"sigma_q_params\"] = [1,1,1,1]\n",
    "dic_classifier_params[\"use_polar_coordinates_on_sigma_q\"] = False\n",
    "dic_classifier_params[\"load_inputvector_env_state\"] = True\n",
    "dic_classifier_params[\"normalize_axis\"] = 0\n",
    "dic_classifier_params[\"use_exponential_on_input\"] = True\n",
    "\n",
    "dic_training_params = {\"max_iter\": 1000,\n",
    "    \"accuracy_succ\": 0.99,\n",
    "    \"plot_graphs_and_metrics\": False,\n",
    "    \"plot_graphs_in_classifier\": False,\n",
    "    \"random_seed\": 1,\n",
    "    \"learning_rate\": 0.009,\n",
    "    \"refit_db\":True,\n",
    "    \"reset_weights_epoch\":0,\n",
    "    \"do_classes_refit\":True,\n",
    "    \"batch\":False}\n",
    "\n",
    "n_times_kfold = 20\n",
    "k_times_fold = 10"
   ]
  },
  {
   "cell_type": "code",
   "execution_count": 3,
   "id": "8522d868",
   "metadata": {},
   "outputs": [
    {
     "name": "stderr",
     "output_type": "stream",
     "text": [
      "[Parallel(n_jobs=-1)]: Using backend LokyBackend with 12 concurrent workers.\n",
      "[Parallel(n_jobs=-1)]: Done   3 out of   3 | elapsed:  2.6min finished\n"
     ]
    },
    {
     "name": "stdout",
     "output_type": "stream",
     "text": [
      "K-Fold #0\n",
      "Mean negativities for all classes: [0.2453244912183574, 0.31499408154293196, 0.34079651515147735]\n",
      "Mean entropies for all classes: [9.898388205437333e-15, 9.723304721499208e-15, 8.396867237714121e-15]\n",
      "              precision    recall  f1-score   support\n",
      "\n",
      "           0       1.00      0.83      0.91         6\n",
      "           1       0.88      1.00      0.93         7\n",
      "           2       1.00      1.00      1.00         5\n",
      "\n",
      "    accuracy                           0.94        18\n",
      "   macro avg       0.96      0.94      0.95        18\n",
      "weighted avg       0.95      0.94      0.94        18\n",
      "\n",
      "-------------------------------------------------------------------------------------------------------------------\n"
     ]
    },
    {
     "name": "stderr",
     "output_type": "stream",
     "text": [
      "[Parallel(n_jobs=-1)]: Using backend LokyBackend with 12 concurrent workers.\n",
      "[Parallel(n_jobs=-1)]: Done   3 out of   3 | elapsed:  2.5min finished\n"
     ]
    },
    {
     "name": "stdout",
     "output_type": "stream",
     "text": [
      "K-Fold #1\n",
      "Mean negativities for all classes: [0.2586154171567064, 0.30708962611229507, 0.320016909328785]\n",
      "Mean entropies for all classes: [9.82608493455293e-15, 9.171200173771672e-15, 9.156483887828183e-15]\n",
      "              precision    recall  f1-score   support\n",
      "\n",
      "           0       1.00      0.83      0.91         6\n",
      "           1       0.80      0.57      0.67         7\n",
      "           2       0.62      1.00      0.77         5\n",
      "\n",
      "    accuracy                           0.78        18\n",
      "   macro avg       0.81      0.80      0.78        18\n",
      "weighted avg       0.82      0.78      0.78        18\n",
      "\n",
      "-------------------------------------------------------------------------------------------------------------------\n"
     ]
    },
    {
     "name": "stderr",
     "output_type": "stream",
     "text": [
      "[Parallel(n_jobs=-1)]: Using backend LokyBackend with 12 concurrent workers.\n",
      "[Parallel(n_jobs=-1)]: Done   3 out of   3 | elapsed:  2.4min finished\n"
     ]
    },
    {
     "name": "stdout",
     "output_type": "stream",
     "text": [
      "K-Fold #2\n",
      "Mean negativities for all classes: [0.2480643472805263, 0.31694426353840993, 0.31936135397463267]\n",
      "Mean entropies for all classes: [9.383722414304862e-15, 9.20893072011799e-15, 9.324638222666326e-15]\n",
      "              precision    recall  f1-score   support\n",
      "\n",
      "           0       1.00      1.00      1.00         6\n",
      "           1       1.00      0.86      0.92         7\n",
      "           2       0.83      1.00      0.91         5\n",
      "\n",
      "    accuracy                           0.94        18\n",
      "   macro avg       0.94      0.95      0.94        18\n",
      "weighted avg       0.95      0.94      0.94        18\n",
      "\n",
      "-------------------------------------------------------------------------------------------------------------------\n"
     ]
    },
    {
     "name": "stderr",
     "output_type": "stream",
     "text": [
      "[Parallel(n_jobs=-1)]: Using backend LokyBackend with 12 concurrent workers.\n",
      "[Parallel(n_jobs=-1)]: Done   3 out of   3 | elapsed:  2.5min finished\n"
     ]
    },
    {
     "name": "stdout",
     "output_type": "stream",
     "text": [
      "K-Fold #3\n",
      "Mean negativities for all classes: [0.2504705136385186, 0.3129865521448348, 0.318436656489147]\n",
      "Mean entropies for all classes: [9.590260710669123e-15, 9.391423756849276e-15, 9.381313455330081e-15]\n",
      "              precision    recall  f1-score   support\n",
      "\n",
      "           0       1.00      1.00      1.00         6\n",
      "           1       1.00      1.00      1.00         7\n",
      "           2       1.00      1.00      1.00         5\n",
      "\n",
      "    accuracy                           1.00        18\n",
      "   macro avg       1.00      1.00      1.00        18\n",
      "weighted avg       1.00      1.00      1.00        18\n",
      "\n",
      "-------------------------------------------------------------------------------------------------------------------\n"
     ]
    },
    {
     "name": "stderr",
     "output_type": "stream",
     "text": [
      "[Parallel(n_jobs=-1)]: Using backend LokyBackend with 12 concurrent workers.\n",
      "[Parallel(n_jobs=-1)]: Done   3 out of   3 | elapsed:  2.6min finished\n"
     ]
    },
    {
     "name": "stdout",
     "output_type": "stream",
     "text": [
      "K-Fold #4\n",
      "Mean negativities for all classes: [0.26852559871687975, 0.3148598359957664, 0.319201620826099]\n",
      "Mean entropies for all classes: [8.92450053357496e-15, 9.226878949049766e-15, 9.08494009981967e-15]\n",
      "              precision    recall  f1-score   support\n",
      "\n",
      "           0       1.00      1.00      1.00         6\n",
      "           1       1.00      1.00      1.00         7\n",
      "           2       1.00      1.00      1.00         5\n",
      "\n",
      "    accuracy                           1.00        18\n",
      "   macro avg       1.00      1.00      1.00        18\n",
      "weighted avg       1.00      1.00      1.00        18\n",
      "\n",
      "-------------------------------------------------------------------------------------------------------------------\n"
     ]
    },
    {
     "name": "stderr",
     "output_type": "stream",
     "text": [
      "[Parallel(n_jobs=-1)]: Using backend LokyBackend with 12 concurrent workers.\n",
      "[Parallel(n_jobs=-1)]: Done   3 out of   3 | elapsed:  2.5min finished\n"
     ]
    },
    {
     "name": "stdout",
     "output_type": "stream",
     "text": [
      "K-Fold #5\n",
      "Mean negativities for all classes: [0.2434021271262395, 0.30956445206390887, 0.3193538580899258]\n",
      "Mean entropies for all classes: [8.99255747708032e-15, 8.977196821263916e-15, 9.28026382664966e-15]\n",
      "              precision    recall  f1-score   support\n",
      "\n",
      "           0       1.00      1.00      1.00         6\n",
      "           1       0.75      0.86      0.80         7\n",
      "           2       0.75      0.60      0.67         5\n",
      "\n",
      "    accuracy                           0.83        18\n",
      "   macro avg       0.83      0.82      0.82        18\n",
      "weighted avg       0.83      0.83      0.83        18\n",
      "\n",
      "-------------------------------------------------------------------------------------------------------------------\n"
     ]
    },
    {
     "name": "stderr",
     "output_type": "stream",
     "text": [
      "[Parallel(n_jobs=-1)]: Using backend LokyBackend with 12 concurrent workers.\n",
      "[Parallel(n_jobs=-1)]: Done   3 out of   3 | elapsed:  2.5min finished\n"
     ]
    },
    {
     "name": "stdout",
     "output_type": "stream",
     "text": [
      "K-Fold #6\n",
      "Mean negativities for all classes: [0.25068918342335444, 0.30937243887926785, 0.35383975059909056]\n",
      "Mean entropies for all classes: [9.535378020700056e-15, 9.788965531011438e-15, 9.019418021635992e-15]\n",
      "              precision    recall  f1-score   support\n",
      "\n",
      "           0       1.00      1.00      1.00         6\n",
      "           1       1.00      0.86      0.92         7\n",
      "           2       0.83      1.00      0.91         5\n",
      "\n",
      "    accuracy                           0.94        18\n",
      "   macro avg       0.94      0.95      0.94        18\n",
      "weighted avg       0.95      0.94      0.94        18\n",
      "\n",
      "-------------------------------------------------------------------------------------------------------------------\n"
     ]
    },
    {
     "name": "stderr",
     "output_type": "stream",
     "text": [
      "[Parallel(n_jobs=-1)]: Using backend LokyBackend with 12 concurrent workers.\n",
      "[Parallel(n_jobs=-1)]: Done   3 out of   3 | elapsed:  2.5min finished\n"
     ]
    },
    {
     "name": "stdout",
     "output_type": "stream",
     "text": [
      "K-Fold #7\n",
      "Mean negativities for all classes: [0.24652384096419913, 0.32039217528981084, 0.3186865715978711]\n",
      "Mean entropies for all classes: [9.799158331450277e-15, 9.510642303053253e-15, 9.257929777605107e-15]\n",
      "              precision    recall  f1-score   support\n",
      "\n",
      "           0       1.00      1.00      1.00         6\n",
      "           1       1.00      0.71      0.83         7\n",
      "           2       0.71      1.00      0.83         5\n",
      "\n",
      "    accuracy                           0.89        18\n",
      "   macro avg       0.90      0.90      0.89        18\n",
      "weighted avg       0.92      0.89      0.89        18\n",
      "\n",
      "-------------------------------------------------------------------------------------------------------------------\n"
     ]
    },
    {
     "name": "stderr",
     "output_type": "stream",
     "text": [
      "[Parallel(n_jobs=-1)]: Using backend LokyBackend with 12 concurrent workers.\n",
      "[Parallel(n_jobs=-1)]: Done   3 out of   3 | elapsed:  2.5min finished\n"
     ]
    },
    {
     "name": "stdout",
     "output_type": "stream",
     "text": [
      "K-Fold #8\n",
      "Mean negativities for all classes: [0.24517447575574108, 0.31617733854944385, 0.34226703916224926]\n",
      "Mean entropies for all classes: [9.246664351716878e-15, 9.632499349402705e-15, 1.0141984063152447e-14]\n",
      "              precision    recall  f1-score   support\n",
      "\n",
      "           0       1.00      0.83      0.91         6\n",
      "           1       0.86      0.86      0.86         7\n",
      "           2       0.80      1.00      0.89         4\n",
      "\n",
      "    accuracy                           0.88        17\n",
      "   macro avg       0.89      0.90      0.89        17\n",
      "weighted avg       0.89      0.88      0.88        17\n",
      "\n",
      "-------------------------------------------------------------------------------------------------------------------\n"
     ]
    },
    {
     "name": "stderr",
     "output_type": "stream",
     "text": [
      "[Parallel(n_jobs=-1)]: Using backend LokyBackend with 12 concurrent workers.\n",
      "[Parallel(n_jobs=-1)]: Done   3 out of   3 | elapsed:  2.5min finished\n"
     ]
    },
    {
     "name": "stdout",
     "output_type": "stream",
     "text": [
      "K-Fold #9\n",
      "Mean negativities for all classes: [0.275533035166454, 0.30778011243873293, 0.31971408532520906]\n",
      "Mean entropies for all classes: [9.289681289479049e-15, 9.423268330575077e-15, 9.210382245007366e-15]\n",
      "              precision    recall  f1-score   support\n",
      "\n",
      "           0       1.00      0.80      0.89         5\n",
      "           1       0.89      1.00      0.94         8\n",
      "           2       1.00      1.00      1.00         4\n",
      "\n",
      "    accuracy                           0.94        17\n",
      "   macro avg       0.96      0.93      0.94        17\n",
      "weighted avg       0.95      0.94      0.94        17\n",
      "\n",
      "-------------------------------------------------------------------------------------------------------------------\n",
      "AVG: Scores = 0.915686274509804 F1-Scores = 0.9156756533227123 Negativity = [0.3003716959709222, 0.2952406508659288, 0.294789988264523] Entropy = [9.339520054883555e-15, 9.384589665384262e-15, 9.305763785696392e-15]\n"
     ]
    },
    {
     "name": "stderr",
     "output_type": "stream",
     "text": [
      "[Parallel(n_jobs=-1)]: Using backend LokyBackend with 12 concurrent workers.\n",
      "[Parallel(n_jobs=-1)]: Done   3 out of   3 | elapsed:  2.5min finished\n"
     ]
    },
    {
     "name": "stdout",
     "output_type": "stream",
     "text": [
      "K-Fold #0\n",
      "Mean negativities for all classes: [0.2443612463290722, 0.31838143262504004, 0.31910196120533446]\n",
      "Mean entropies for all classes: [9.62308056323974e-15, 9.688116161189414e-15, 9.205325400226406e-15]\n",
      "              precision    recall  f1-score   support\n",
      "\n",
      "           0       1.00      1.00      1.00         6\n",
      "           1       1.00      0.71      0.83         7\n",
      "           2       0.71      1.00      0.83         5\n",
      "\n",
      "    accuracy                           0.89        18\n",
      "   macro avg       0.90      0.90      0.89        18\n",
      "weighted avg       0.92      0.89      0.89        18\n",
      "\n",
      "-------------------------------------------------------------------------------------------------------------------\n"
     ]
    },
    {
     "name": "stderr",
     "output_type": "stream",
     "text": [
      "[Parallel(n_jobs=-1)]: Using backend LokyBackend with 12 concurrent workers.\n",
      "[Parallel(n_jobs=-1)]: Done   3 out of   3 | elapsed:  2.5min finished\n"
     ]
    },
    {
     "name": "stdout",
     "output_type": "stream",
     "text": [
      "K-Fold #1\n",
      "Mean negativities for all classes: [0.24864434058035398, 0.3148000367628589, 0.32029508660335576]\n",
      "Mean entropies for all classes: [1.0041711890947958e-14, 9.4076602623043e-15, 9.562744023372179e-15]\n",
      "              precision    recall  f1-score   support\n",
      "\n",
      "           0       1.00      1.00      1.00         6\n",
      "           1       1.00      0.86      0.92         7\n",
      "           2       0.83      1.00      0.91         5\n",
      "\n",
      "    accuracy                           0.94        18\n",
      "   macro avg       0.94      0.95      0.94        18\n",
      "weighted avg       0.95      0.94      0.94        18\n",
      "\n",
      "-------------------------------------------------------------------------------------------------------------------\n"
     ]
    },
    {
     "name": "stderr",
     "output_type": "stream",
     "text": [
      "[Parallel(n_jobs=-1)]: Using backend LokyBackend with 12 concurrent workers.\n",
      "[Parallel(n_jobs=-1)]: Done   3 out of   3 | elapsed:  2.5min finished\n"
     ]
    },
    {
     "name": "stdout",
     "output_type": "stream",
     "text": [
      "K-Fold #2\n",
      "Mean negativities for all classes: [0.2457766103648271, 0.32011326206652996, 0.31866352666038805]\n",
      "Mean entropies for all classes: [9.892895516326922e-15, 1.0377602832277945e-14, 9.144755738366163e-15]\n",
      "              precision    recall  f1-score   support\n",
      "\n",
      "           0       0.86      1.00      0.92         6\n",
      "           1       1.00      0.86      0.92         7\n",
      "           2       1.00      1.00      1.00         5\n",
      "\n",
      "    accuracy                           0.94        18\n",
      "   macro avg       0.95      0.95      0.95        18\n",
      "weighted avg       0.95      0.94      0.94        18\n",
      "\n",
      "-------------------------------------------------------------------------------------------------------------------\n"
     ]
    },
    {
     "name": "stderr",
     "output_type": "stream",
     "text": [
      "[Parallel(n_jobs=-1)]: Using backend LokyBackend with 12 concurrent workers.\n",
      "[Parallel(n_jobs=-1)]: Done   3 out of   3 | elapsed:  2.5min finished\n"
     ]
    },
    {
     "name": "stdout",
     "output_type": "stream",
     "text": [
      "K-Fold #3\n",
      "Mean negativities for all classes: [0.25005676688375256, 0.3111960284652924, 0.33031478415382964]\n",
      "Mean entropies for all classes: [9.905443961275467e-15, 9.929864619864154e-15, 1.168588085535597e-14]\n",
      "              precision    recall  f1-score   support\n",
      "\n",
      "           0       0.83      0.83      0.83         6\n",
      "           1       0.86      0.86      0.86         7\n",
      "           2       1.00      1.00      1.00         5\n",
      "\n",
      "    accuracy                           0.89        18\n",
      "   macro avg       0.90      0.90      0.90        18\n",
      "weighted avg       0.89      0.89      0.89        18\n",
      "\n",
      "-------------------------------------------------------------------------------------------------------------------\n"
     ]
    },
    {
     "name": "stderr",
     "output_type": "stream",
     "text": [
      "[Parallel(n_jobs=-1)]: Using backend LokyBackend with 12 concurrent workers.\n",
      "[Parallel(n_jobs=-1)]: Done   3 out of   3 | elapsed:  2.5min finished\n"
     ]
    },
    {
     "name": "stdout",
     "output_type": "stream",
     "text": [
      "K-Fold #4\n",
      "Mean negativities for all classes: [0.2654855230949264, 0.30233326774668146, 0.318815119159855]\n",
      "Mean entropies for all classes: [9.51875778279566e-15, 9.567086865544524e-15, 9.03202610354654e-15]\n",
      "              precision    recall  f1-score   support\n",
      "\n",
      "           0       1.00      1.00      1.00         6\n",
      "           1       1.00      1.00      1.00         7\n",
      "           2       1.00      1.00      1.00         5\n",
      "\n",
      "    accuracy                           1.00        18\n",
      "   macro avg       1.00      1.00      1.00        18\n",
      "weighted avg       1.00      1.00      1.00        18\n",
      "\n",
      "-------------------------------------------------------------------------------------------------------------------\n"
     ]
    },
    {
     "name": "stderr",
     "output_type": "stream",
     "text": [
      "[Parallel(n_jobs=-1)]: Using backend LokyBackend with 12 concurrent workers.\n",
      "[Parallel(n_jobs=-1)]: Done   3 out of   3 | elapsed:  2.5min finished\n"
     ]
    },
    {
     "name": "stdout",
     "output_type": "stream",
     "text": [
      "K-Fold #5\n",
      "Mean negativities for all classes: [0.257886383997692, 0.3181685769025073, 0.3185893616842296]\n",
      "Mean entropies for all classes: [9.452990626151838e-15, 9.566610963667567e-15, 9.478037174204727e-15]\n",
      "              precision    recall  f1-score   support\n",
      "\n",
      "           0       1.00      0.83      0.91         6\n",
      "           1       0.86      0.86      0.86         7\n",
      "           2       0.83      1.00      0.91         5\n",
      "\n",
      "    accuracy                           0.89        18\n",
      "   macro avg       0.90      0.90      0.89        18\n",
      "weighted avg       0.90      0.89      0.89        18\n",
      "\n",
      "-------------------------------------------------------------------------------------------------------------------\n"
     ]
    },
    {
     "name": "stderr",
     "output_type": "stream",
     "text": [
      "[Parallel(n_jobs=-1)]: Using backend LokyBackend with 12 concurrent workers.\n",
      "[Parallel(n_jobs=-1)]: Done   3 out of   3 | elapsed:  2.5min finished\n"
     ]
    },
    {
     "name": "stdout",
     "output_type": "stream",
     "text": [
      "K-Fold #6\n",
      "Mean negativities for all classes: [0.2654848165926484, 0.30561377018284946, 0.3185971742053522]\n",
      "Mean entropies for all classes: [9.482262324535941e-15, 9.88072487592412e-15, 9.2553106201827e-15]\n",
      "              precision    recall  f1-score   support\n",
      "\n",
      "           0       1.00      0.67      0.80         6\n",
      "           1       0.71      0.71      0.71         7\n",
      "           2       0.71      1.00      0.83         5\n",
      "\n",
      "    accuracy                           0.78        18\n",
      "   macro avg       0.81      0.79      0.78        18\n",
      "weighted avg       0.81      0.78      0.78        18\n",
      "\n",
      "-------------------------------------------------------------------------------------------------------------------\n"
     ]
    },
    {
     "name": "stderr",
     "output_type": "stream",
     "text": [
      "[Parallel(n_jobs=-1)]: Using backend LokyBackend with 12 concurrent workers.\n",
      "[Parallel(n_jobs=-1)]: Done   3 out of   3 | elapsed:  2.5min finished\n"
     ]
    },
    {
     "name": "stdout",
     "output_type": "stream",
     "text": [
      "K-Fold #7\n",
      "Mean negativities for all classes: [0.25502432030125444, 0.30711506158763996, 0.318848316016026]\n",
      "Mean entropies for all classes: [9.774785844338327e-15, 9.44295399435081e-15, 9.232635626318221e-15]\n",
      "              precision    recall  f1-score   support\n",
      "\n",
      "           0       1.00      1.00      1.00         6\n",
      "           1       0.86      0.86      0.86         7\n",
      "           2       0.80      0.80      0.80         5\n",
      "\n",
      "    accuracy                           0.89        18\n",
      "   macro avg       0.89      0.89      0.89        18\n",
      "weighted avg       0.89      0.89      0.89        18\n",
      "\n",
      "-------------------------------------------------------------------------------------------------------------------\n"
     ]
    },
    {
     "name": "stderr",
     "output_type": "stream",
     "text": [
      "[Parallel(n_jobs=-1)]: Using backend LokyBackend with 12 concurrent workers.\n",
      "[Parallel(n_jobs=-1)]: Done   3 out of   3 | elapsed:  2.5min finished\n"
     ]
    },
    {
     "name": "stdout",
     "output_type": "stream",
     "text": [
      "K-Fold #8\n",
      "Mean negativities for all classes: [0.2531251346975858, 0.30954015139616187, 0.31872050872220625]\n",
      "Mean entropies for all classes: [9.587285518051436e-15, 9.867948703449665e-15, 9.174892363890917e-15]\n",
      "              precision    recall  f1-score   support\n",
      "\n",
      "           0       1.00      1.00      1.00         6\n",
      "           1       1.00      0.71      0.83         7\n",
      "           2       0.67      1.00      0.80         4\n",
      "\n",
      "    accuracy                           0.88        17\n",
      "   macro avg       0.89      0.90      0.88        17\n",
      "weighted avg       0.92      0.88      0.88        17\n",
      "\n",
      "-------------------------------------------------------------------------------------------------------------------\n"
     ]
    },
    {
     "name": "stderr",
     "output_type": "stream",
     "text": [
      "[Parallel(n_jobs=-1)]: Using backend LokyBackend with 12 concurrent workers.\n",
      "[Parallel(n_jobs=-1)]: Done   3 out of   3 | elapsed:  2.5min finished\n"
     ]
    },
    {
     "name": "stdout",
     "output_type": "stream",
     "text": [
      "K-Fold #9\n",
      "Mean negativities for all classes: [0.24331554119648863, 0.31336213409536007, 0.31918808032147467]\n",
      "Mean entropies for all classes: [9.588727108345906e-15, 9.702270820191088e-15, 9.306039812751918e-15]\n",
      "              precision    recall  f1-score   support\n",
      "\n",
      "           0       1.00      1.00      1.00         5\n",
      "           1       0.88      0.88      0.88         8\n",
      "           2       0.75      0.75      0.75         4\n",
      "\n",
      "    accuracy                           0.88        17\n",
      "   macro avg       0.88      0.88      0.88        17\n",
      "weighted avg       0.88      0.88      0.88        17\n",
      "\n",
      "-------------------------------------------------------------------------------------------------------------------\n",
      "AVG: Scores = 0.8986928104575164 F1-Scores = 0.8991294816294817 Negativity = [0.2939482133864822, 0.29457982131552285, 0.2948511330305817] Entropy = [9.505507374885185e-15, 9.670705392208145e-15, 9.80508469565701e-15]\n"
     ]
    },
    {
     "name": "stderr",
     "output_type": "stream",
     "text": [
      "[Parallel(n_jobs=-1)]: Using backend LokyBackend with 12 concurrent workers.\n",
      "[Parallel(n_jobs=-1)]: Done   3 out of   3 | elapsed:  2.5min finished\n"
     ]
    },
    {
     "name": "stdout",
     "output_type": "stream",
     "text": [
      "K-Fold #0\n",
      "Mean negativities for all classes: [0.25144806765226146, 0.30986245242678634, 0.31897966693770485]\n",
      "Mean entropies for all classes: [9.465773667954599e-15, 9.598897964343232e-15, 9.382582032176294e-15]\n",
      "              precision    recall  f1-score   support\n",
      "\n",
      "           0       1.00      1.00      1.00         6\n",
      "           1       1.00      1.00      1.00         7\n",
      "           2       1.00      1.00      1.00         5\n",
      "\n",
      "    accuracy                           1.00        18\n",
      "   macro avg       1.00      1.00      1.00        18\n",
      "weighted avg       1.00      1.00      1.00        18\n",
      "\n",
      "-------------------------------------------------------------------------------------------------------------------\n"
     ]
    },
    {
     "name": "stderr",
     "output_type": "stream",
     "text": [
      "[Parallel(n_jobs=-1)]: Using backend LokyBackend with 12 concurrent workers.\n",
      "[Parallel(n_jobs=-1)]: Done   3 out of   3 | elapsed:  2.5min finished\n"
     ]
    },
    {
     "name": "stdout",
     "output_type": "stream",
     "text": [
      "K-Fold #1\n",
      "Mean negativities for all classes: [0.25626160161846684, 0.310936249693641, 0.31937471693157676]\n",
      "Mean entropies for all classes: [9.68566783499034e-15, 9.21806439853907e-15, 9.12077253857533e-15]\n",
      "              precision    recall  f1-score   support\n",
      "\n",
      "           0       1.00      1.00      1.00         6\n",
      "           1       1.00      0.86      0.92         7\n",
      "           2       0.83      1.00      0.91         5\n",
      "\n",
      "    accuracy                           0.94        18\n",
      "   macro avg       0.94      0.95      0.94        18\n",
      "weighted avg       0.95      0.94      0.94        18\n",
      "\n",
      "-------------------------------------------------------------------------------------------------------------------\n"
     ]
    },
    {
     "name": "stderr",
     "output_type": "stream",
     "text": [
      "[Parallel(n_jobs=-1)]: Using backend LokyBackend with 12 concurrent workers.\n",
      "[Parallel(n_jobs=-1)]: Done   3 out of   3 | elapsed:  2.5min finished\n"
     ]
    },
    {
     "name": "stdout",
     "output_type": "stream",
     "text": [
      "K-Fold #2\n",
      "Mean negativities for all classes: [0.24513686135834004, 0.3130067202697357, 0.3197513266755694]\n",
      "Mean entropies for all classes: [9.435481756599504e-15, 1.0018722599539211e-14, 9.241018911065805e-15]\n",
      "              precision    recall  f1-score   support\n",
      "\n",
      "           0       1.00      1.00      1.00         6\n",
      "           1       0.88      1.00      0.93         7\n",
      "           2       1.00      0.80      0.89         5\n",
      "\n",
      "    accuracy                           0.94        18\n",
      "   macro avg       0.96      0.93      0.94        18\n",
      "weighted avg       0.95      0.94      0.94        18\n",
      "\n",
      "-------------------------------------------------------------------------------------------------------------------\n"
     ]
    },
    {
     "name": "stderr",
     "output_type": "stream",
     "text": [
      "[Parallel(n_jobs=-1)]: Using backend LokyBackend with 12 concurrent workers.\n",
      "[Parallel(n_jobs=-1)]: Done   3 out of   3 | elapsed:  2.5min finished\n"
     ]
    },
    {
     "name": "stdout",
     "output_type": "stream",
     "text": [
      "K-Fold #3\n",
      "Mean negativities for all classes: [0.25850938727623246, 0.3166686418906655, 0.318906394711265]\n",
      "Mean entropies for all classes: [9.39210296992967e-15, 9.506542475272839e-15, 9.164432903976295e-15]\n",
      "              precision    recall  f1-score   support\n",
      "\n",
      "           0       1.00      0.83      0.91         6\n",
      "           1       0.86      0.86      0.86         7\n",
      "           2       0.83      1.00      0.91         5\n",
      "\n",
      "    accuracy                           0.89        18\n",
      "   macro avg       0.90      0.90      0.89        18\n",
      "weighted avg       0.90      0.89      0.89        18\n",
      "\n",
      "-------------------------------------------------------------------------------------------------------------------\n"
     ]
    },
    {
     "name": "stderr",
     "output_type": "stream",
     "text": [
      "[Parallel(n_jobs=-1)]: Using backend LokyBackend with 12 concurrent workers.\n",
      "[Parallel(n_jobs=-1)]: Done   3 out of   3 | elapsed:  2.5min finished\n"
     ]
    },
    {
     "name": "stdout",
     "output_type": "stream",
     "text": [
      "K-Fold #4\n",
      "Mean negativities for all classes: [0.24210437288075567, 0.3131246283771303, 0.31946985607035383]\n",
      "Mean entropies for all classes: [9.512394555985651e-15, 9.613305612909473e-15, 9.223912617813868e-15]\n",
      "              precision    recall  f1-score   support\n",
      "\n",
      "           0       1.00      1.00      1.00         6\n",
      "           1       1.00      0.71      0.83         7\n",
      "           2       0.71      1.00      0.83         5\n",
      "\n",
      "    accuracy                           0.89        18\n",
      "   macro avg       0.90      0.90      0.89        18\n",
      "weighted avg       0.92      0.89      0.89        18\n",
      "\n",
      "-------------------------------------------------------------------------------------------------------------------\n"
     ]
    },
    {
     "name": "stderr",
     "output_type": "stream",
     "text": [
      "[Parallel(n_jobs=-1)]: Using backend LokyBackend with 12 concurrent workers.\n",
      "[Parallel(n_jobs=-1)]: Done   3 out of   3 | elapsed:  2.5min finished\n"
     ]
    },
    {
     "name": "stdout",
     "output_type": "stream",
     "text": [
      "K-Fold #5\n",
      "Mean negativities for all classes: [0.2645251627374922, 0.30819822170018646, 0.31986166778717273]\n",
      "Mean entropies for all classes: [9.634451197992676e-15, 9.038919330532374e-15, 9.547077580374214e-15]\n",
      "              precision    recall  f1-score   support\n",
      "\n",
      "           0       1.00      1.00      1.00         6\n",
      "           1       1.00      0.86      0.92         7\n",
      "           2       0.83      1.00      0.91         5\n",
      "\n",
      "    accuracy                           0.94        18\n",
      "   macro avg       0.94      0.95      0.94        18\n",
      "weighted avg       0.95      0.94      0.94        18\n",
      "\n",
      "-------------------------------------------------------------------------------------------------------------------\n"
     ]
    },
    {
     "name": "stderr",
     "output_type": "stream",
     "text": [
      "[Parallel(n_jobs=-1)]: Using backend LokyBackend with 12 concurrent workers.\n",
      "[Parallel(n_jobs=-1)]: Done   3 out of   3 | elapsed:  2.5min finished\n"
     ]
    },
    {
     "name": "stdout",
     "output_type": "stream",
     "text": [
      "K-Fold #6\n",
      "Mean negativities for all classes: [0.2557919518785259, 0.3056272894809098, 0.3186277496844006]\n",
      "Mean entropies for all classes: [9.43705935707315e-15, 9.317085306666133e-15, 9.37785712609996e-15]\n",
      "              precision    recall  f1-score   support\n",
      "\n",
      "           0       1.00      1.00      1.00         6\n",
      "           1       1.00      0.86      0.92         7\n",
      "           2       0.83      1.00      0.91         5\n",
      "\n",
      "    accuracy                           0.94        18\n",
      "   macro avg       0.94      0.95      0.94        18\n",
      "weighted avg       0.95      0.94      0.94        18\n",
      "\n",
      "-------------------------------------------------------------------------------------------------------------------\n"
     ]
    },
    {
     "name": "stderr",
     "output_type": "stream",
     "text": [
      "[Parallel(n_jobs=-1)]: Using backend LokyBackend with 12 concurrent workers.\n",
      "[Parallel(n_jobs=-1)]: Done   3 out of   3 | elapsed:  2.5min finished\n"
     ]
    },
    {
     "name": "stdout",
     "output_type": "stream",
     "text": [
      "K-Fold #7\n",
      "Mean negativities for all classes: [0.2601048020555925, 0.3212068600409259, 0.3194904858119915]\n",
      "Mean entropies for all classes: [9.607239725025963e-15, 9.196075916645491e-15, 9.436648322496254e-15]\n",
      "              precision    recall  f1-score   support\n",
      "\n",
      "           0       0.83      0.83      0.83         6\n",
      "           1       0.75      0.86      0.80         7\n",
      "           2       1.00      0.80      0.89         5\n",
      "\n",
      "    accuracy                           0.83        18\n",
      "   macro avg       0.86      0.83      0.84        18\n",
      "weighted avg       0.85      0.83      0.84        18\n",
      "\n",
      "-------------------------------------------------------------------------------------------------------------------\n"
     ]
    },
    {
     "name": "stderr",
     "output_type": "stream",
     "text": [
      "[Parallel(n_jobs=-1)]: Using backend LokyBackend with 12 concurrent workers.\n",
      "[Parallel(n_jobs=-1)]: Done   3 out of   3 | elapsed:  2.5min finished\n"
     ]
    },
    {
     "name": "stdout",
     "output_type": "stream",
     "text": [
      "K-Fold #8\n",
      "Mean negativities for all classes: [0.2589794545190369, 0.31521223977782453, 0.3187882833541385]\n",
      "Mean entropies for all classes: [9.607491204101984e-15, 9.342398517167524e-15, 9.135034681501747e-15]\n",
      "              precision    recall  f1-score   support\n",
      "\n",
      "           0       1.00      1.00      1.00         6\n",
      "           1       1.00      0.71      0.83         7\n",
      "           2       0.67      1.00      0.80         4\n",
      "\n",
      "    accuracy                           0.88        17\n",
      "   macro avg       0.89      0.90      0.88        17\n",
      "weighted avg       0.92      0.88      0.88        17\n",
      "\n",
      "-------------------------------------------------------------------------------------------------------------------\n"
     ]
    },
    {
     "name": "stderr",
     "output_type": "stream",
     "text": [
      "[Parallel(n_jobs=-1)]: Using backend LokyBackend with 12 concurrent workers.\n",
      "[Parallel(n_jobs=-1)]: Done   3 out of   3 | elapsed:  2.5min finished\n"
     ]
    },
    {
     "name": "stdout",
     "output_type": "stream",
     "text": [
      "K-Fold #9\n",
      "Mean negativities for all classes: [0.2530593176877709, 0.3157388596491342, 0.3201968116963813]\n",
      "Mean entropies for all classes: [9.268146809572171e-15, 9.7127025531622e-15, 9.310378637155454e-15]\n",
      "              precision    recall  f1-score   support\n",
      "\n",
      "           0       1.00      1.00      1.00         5\n",
      "           1       1.00      0.62      0.77         8\n",
      "           2       0.57      1.00      0.73         4\n",
      "\n",
      "    accuracy                           0.82        17\n",
      "   macro avg       0.86      0.88      0.83        17\n",
      "weighted avg       0.90      0.82      0.83        17\n",
      "\n",
      "-------------------------------------------------------------------------------------------------------------------\n",
      "AVG: Scores = 0.9094771241830065 F1-Scores = 0.9104258704258704 Negativity = [0.29343006233891755, 0.29552418941456154, 0.29263163610121506] Entropy = [9.482417888158042e-15, 9.34150159070158e-15, 9.565074422401506e-15]\n"
     ]
    },
    {
     "name": "stderr",
     "output_type": "stream",
     "text": [
      "[Parallel(n_jobs=-1)]: Using backend LokyBackend with 12 concurrent workers.\n",
      "[Parallel(n_jobs=-1)]: Done   3 out of   3 | elapsed:  2.5min finished\n"
     ]
    },
    {
     "name": "stdout",
     "output_type": "stream",
     "text": [
      "K-Fold #0\n",
      "Mean negativities for all classes: [0.27240634859905766, 0.3094855910162429, 0.3197591562554379]\n",
      "Mean entropies for all classes: [9.743457581012273e-15, 9.874466055527855e-15, 9.091683405048007e-15]\n",
      "              precision    recall  f1-score   support\n",
      "\n",
      "           0       0.86      1.00      0.92         6\n",
      "           1       0.83      0.71      0.77         7\n",
      "           2       0.80      0.80      0.80         5\n",
      "\n",
      "    accuracy                           0.83        18\n",
      "   macro avg       0.83      0.84      0.83        18\n",
      "weighted avg       0.83      0.83      0.83        18\n",
      "\n",
      "-------------------------------------------------------------------------------------------------------------------\n"
     ]
    },
    {
     "name": "stderr",
     "output_type": "stream",
     "text": [
      "[Parallel(n_jobs=-1)]: Using backend LokyBackend with 12 concurrent workers.\n",
      "[Parallel(n_jobs=-1)]: Done   3 out of   3 | elapsed:  2.5min finished\n"
     ]
    },
    {
     "name": "stdout",
     "output_type": "stream",
     "text": [
      "K-Fold #1\n",
      "Mean negativities for all classes: [0.24301817460597894, 0.32060779201973694, 0.3192624988167155]\n",
      "Mean entropies for all classes: [9.516002073850972e-15, 9.600413761817873e-15, 9.123527952247219e-15]\n",
      "              precision    recall  f1-score   support\n",
      "\n",
      "           0       1.00      1.00      1.00         6\n",
      "           1       1.00      0.86      0.92         7\n",
      "           2       0.83      1.00      0.91         5\n",
      "\n",
      "    accuracy                           0.94        18\n",
      "   macro avg       0.94      0.95      0.94        18\n",
      "weighted avg       0.95      0.94      0.94        18\n",
      "\n",
      "-------------------------------------------------------------------------------------------------------------------\n"
     ]
    },
    {
     "name": "stderr",
     "output_type": "stream",
     "text": [
      "[Parallel(n_jobs=-1)]: Using backend LokyBackend with 12 concurrent workers.\n",
      "[Parallel(n_jobs=-1)]: Done   3 out of   3 | elapsed:  2.5min finished\n"
     ]
    },
    {
     "name": "stdout",
     "output_type": "stream",
     "text": [
      "K-Fold #2\n",
      "Mean negativities for all classes: [0.24695620824667022, 0.3122105536813058, 0.318799307620097]\n",
      "Mean entropies for all classes: [1.0007042970095707e-14, 9.822608528308823e-15, 9.79245796817588e-15]\n",
      "              precision    recall  f1-score   support\n",
      "\n",
      "           0       1.00      1.00      1.00         6\n",
      "           1       1.00      0.86      0.92         7\n",
      "           2       0.83      1.00      0.91         5\n",
      "\n",
      "    accuracy                           0.94        18\n",
      "   macro avg       0.94      0.95      0.94        18\n",
      "weighted avg       0.95      0.94      0.94        18\n",
      "\n",
      "-------------------------------------------------------------------------------------------------------------------\n"
     ]
    },
    {
     "name": "stderr",
     "output_type": "stream",
     "text": [
      "[Parallel(n_jobs=-1)]: Using backend LokyBackend with 12 concurrent workers.\n",
      "[Parallel(n_jobs=-1)]: Done   3 out of   3 | elapsed:  2.5min finished\n"
     ]
    },
    {
     "name": "stdout",
     "output_type": "stream",
     "text": [
      "K-Fold #3\n",
      "Mean negativities for all classes: [0.2458905516292566, 0.31498448828352354, 0.31909908971629974]\n",
      "Mean entropies for all classes: [9.800759797790366e-15, 9.089199541577892e-15, 9.088868457283243e-15]\n",
      "              precision    recall  f1-score   support\n",
      "\n",
      "           0       1.00      1.00      1.00         6\n",
      "           1       1.00      0.86      0.92         7\n",
      "           2       0.83      1.00      0.91         5\n",
      "\n",
      "    accuracy                           0.94        18\n",
      "   macro avg       0.94      0.95      0.94        18\n",
      "weighted avg       0.95      0.94      0.94        18\n",
      "\n",
      "-------------------------------------------------------------------------------------------------------------------\n"
     ]
    },
    {
     "name": "stderr",
     "output_type": "stream",
     "text": [
      "[Parallel(n_jobs=-1)]: Using backend LokyBackend with 12 concurrent workers.\n",
      "[Parallel(n_jobs=-1)]: Done   3 out of   3 | elapsed:  2.5min finished\n"
     ]
    },
    {
     "name": "stdout",
     "output_type": "stream",
     "text": [
      "K-Fold #4\n",
      "Mean negativities for all classes: [0.25692444188274904, 0.3068813782779827, 0.319064526247538]\n",
      "Mean entropies for all classes: [9.467065961193134e-15, 9.608703004802056e-15, 9.053234956157256e-15]\n",
      "              precision    recall  f1-score   support\n",
      "\n",
      "           0       1.00      0.83      0.91         6\n",
      "           1       0.88      1.00      0.93         7\n",
      "           2       1.00      1.00      1.00         5\n",
      "\n",
      "    accuracy                           0.94        18\n",
      "   macro avg       0.96      0.94      0.95        18\n",
      "weighted avg       0.95      0.94      0.94        18\n",
      "\n",
      "-------------------------------------------------------------------------------------------------------------------\n"
     ]
    },
    {
     "name": "stderr",
     "output_type": "stream",
     "text": [
      "[Parallel(n_jobs=-1)]: Using backend LokyBackend with 12 concurrent workers.\n",
      "[Parallel(n_jobs=-1)]: Done   3 out of   3 | elapsed:  2.5min finished\n"
     ]
    },
    {
     "name": "stdout",
     "output_type": "stream",
     "text": [
      "K-Fold #5\n",
      "Mean negativities for all classes: [0.24705821743139117, 0.3087076292650053, 0.3184712825805095]\n",
      "Mean entropies for all classes: [9.67291917668235e-15, 9.694668841899297e-15, 8.861600290360704e-15]\n",
      "              precision    recall  f1-score   support\n",
      "\n",
      "           0       1.00      1.00      1.00         6\n",
      "           1       0.88      1.00      0.93         7\n",
      "           2       1.00      0.80      0.89         5\n",
      "\n",
      "    accuracy                           0.94        18\n",
      "   macro avg       0.96      0.93      0.94        18\n",
      "weighted avg       0.95      0.94      0.94        18\n",
      "\n",
      "-------------------------------------------------------------------------------------------------------------------\n"
     ]
    },
    {
     "name": "stderr",
     "output_type": "stream",
     "text": [
      "[Parallel(n_jobs=-1)]: Using backend LokyBackend with 12 concurrent workers.\n",
      "[Parallel(n_jobs=-1)]: Done   3 out of   3 | elapsed:  2.5min finished\n"
     ]
    },
    {
     "name": "stdout",
     "output_type": "stream",
     "text": [
      "K-Fold #6\n",
      "Mean negativities for all classes: [0.26625558256101023, 0.3088595937371041, 0.32041113272192157]\n",
      "Mean entropies for all classes: [9.644583095037491e-15, 9.809809153230279e-15, 8.94674726607316e-15]\n",
      "              precision    recall  f1-score   support\n",
      "\n",
      "           0       1.00      0.83      0.91         6\n",
      "           1       0.86      0.86      0.86         7\n",
      "           2       0.83      1.00      0.91         5\n",
      "\n",
      "    accuracy                           0.89        18\n",
      "   macro avg       0.90      0.90      0.89        18\n",
      "weighted avg       0.90      0.89      0.89        18\n",
      "\n",
      "-------------------------------------------------------------------------------------------------------------------\n"
     ]
    },
    {
     "name": "stderr",
     "output_type": "stream",
     "text": [
      "[Parallel(n_jobs=-1)]: Using backend LokyBackend with 12 concurrent workers.\n",
      "[Parallel(n_jobs=-1)]: Done   3 out of   3 | elapsed:  2.5min finished\n"
     ]
    },
    {
     "name": "stdout",
     "output_type": "stream",
     "text": [
      "K-Fold #7\n",
      "Mean negativities for all classes: [0.24905985606589848, 0.312931986562563, 0.31912719647996407]\n",
      "Mean entropies for all classes: [9.684569584892195e-15, 9.716334711617012e-15, 9.54451739096703e-15]\n",
      "              precision    recall  f1-score   support\n",
      "\n",
      "           0       1.00      0.83      0.91         6\n",
      "           1       0.86      0.86      0.86         7\n",
      "           2       0.83      1.00      0.91         5\n",
      "\n",
      "    accuracy                           0.89        18\n",
      "   macro avg       0.90      0.90      0.89        18\n",
      "weighted avg       0.90      0.89      0.89        18\n",
      "\n",
      "-------------------------------------------------------------------------------------------------------------------\n"
     ]
    },
    {
     "name": "stderr",
     "output_type": "stream",
     "text": [
      "[Parallel(n_jobs=-1)]: Using backend LokyBackend with 12 concurrent workers.\n",
      "[Parallel(n_jobs=-1)]: Done   3 out of   3 | elapsed:  2.5min finished\n"
     ]
    },
    {
     "name": "stdout",
     "output_type": "stream",
     "text": [
      "K-Fold #8\n",
      "Mean negativities for all classes: [0.24422676043666566, 0.31026273464802484, 0.3338988888952798]\n",
      "Mean entropies for all classes: [9.369379552486693e-15, 9.655288764554884e-15, 8.480658406344487e-15]\n",
      "              precision    recall  f1-score   support\n",
      "\n",
      "           0       1.00      0.83      0.91         6\n",
      "           1       0.88      1.00      0.93         7\n",
      "           2       1.00      1.00      1.00         4\n",
      "\n",
      "    accuracy                           0.94        17\n",
      "   macro avg       0.96      0.94      0.95        17\n",
      "weighted avg       0.95      0.94      0.94        17\n",
      "\n",
      "-------------------------------------------------------------------------------------------------------------------\n"
     ]
    },
    {
     "name": "stderr",
     "output_type": "stream",
     "text": [
      "[Parallel(n_jobs=-1)]: Using backend LokyBackend with 12 concurrent workers.\n",
      "[Parallel(n_jobs=-1)]: Done   3 out of   3 | elapsed:  2.5min finished\n"
     ]
    },
    {
     "name": "stdout",
     "output_type": "stream",
     "text": [
      "K-Fold #9\n",
      "Mean negativities for all classes: [0.26075183564348114, 0.3061708342918444, 0.3470510455571464]\n",
      "Mean entropies for all classes: [9.678678578219318e-15, 1.0309120107109632e-14, 9.629280860620542e-15]\n",
      "              precision    recall  f1-score   support\n",
      "\n",
      "           0       1.00      1.00      1.00         5\n",
      "           1       1.00      0.88      0.93         8\n",
      "           2       0.80      1.00      0.89         4\n",
      "\n",
      "    accuracy                           0.94        17\n",
      "   macro avg       0.93      0.96      0.94        17\n",
      "weighted avg       0.95      0.94      0.94        17\n",
      "\n",
      "-------------------------------------------------------------------------------------------------------------------\n",
      "AVG: Scores = 0.9215686274509803 F1-Scores = 0.9222917822917823 Negativity = [0.30055036529024615, 0.29429615514747715, 0.2926553565160243] Entropy = [9.569869013862711e-15, 9.413314595972022e-15, 9.874036488860137e-15]\n"
     ]
    },
    {
     "name": "stderr",
     "output_type": "stream",
     "text": [
      "[Parallel(n_jobs=-1)]: Using backend LokyBackend with 12 concurrent workers.\n",
      "[Parallel(n_jobs=-1)]: Done   3 out of   3 | elapsed:  2.5min finished\n"
     ]
    },
    {
     "name": "stdout",
     "output_type": "stream",
     "text": [
      "K-Fold #0\n",
      "Mean negativities for all classes: [0.2657220411486268, 0.30783178161949687, 0.31841588870505294]\n",
      "Mean entropies for all classes: [9.713906008630166e-15, 9.629403570251515e-15, 9.51868049475424e-15]\n",
      "              precision    recall  f1-score   support\n",
      "\n",
      "           0       1.00      1.00      1.00         6\n",
      "           1       1.00      1.00      1.00         7\n",
      "           2       1.00      1.00      1.00         5\n",
      "\n",
      "    accuracy                           1.00        18\n",
      "   macro avg       1.00      1.00      1.00        18\n",
      "weighted avg       1.00      1.00      1.00        18\n",
      "\n",
      "-------------------------------------------------------------------------------------------------------------------\n"
     ]
    },
    {
     "name": "stderr",
     "output_type": "stream",
     "text": [
      "[Parallel(n_jobs=-1)]: Using backend LokyBackend with 12 concurrent workers.\n",
      "[Parallel(n_jobs=-1)]: Done   3 out of   3 | elapsed:  2.5min finished\n"
     ]
    },
    {
     "name": "stdout",
     "output_type": "stream",
     "text": [
      "K-Fold #1\n",
      "Mean negativities for all classes: [0.2575155630695379, 0.32076726996815175, 0.32052508631415605]\n",
      "Mean entropies for all classes: [9.504151690129387e-15, 9.220965418554165e-15, 8.984792074024265e-15]\n",
      "              precision    recall  f1-score   support\n",
      "\n",
      "           0       1.00      0.83      0.91         6\n",
      "           1       0.83      0.71      0.77         7\n",
      "           2       0.71      1.00      0.83         5\n",
      "\n",
      "    accuracy                           0.83        18\n",
      "   macro avg       0.85      0.85      0.84        18\n",
      "weighted avg       0.86      0.83      0.83        18\n",
      "\n",
      "-------------------------------------------------------------------------------------------------------------------\n"
     ]
    },
    {
     "name": "stderr",
     "output_type": "stream",
     "text": [
      "[Parallel(n_jobs=-1)]: Using backend LokyBackend with 12 concurrent workers.\n",
      "[Parallel(n_jobs=-1)]: Done   3 out of   3 | elapsed:  2.5min finished\n"
     ]
    },
    {
     "name": "stdout",
     "output_type": "stream",
     "text": [
      "K-Fold #2\n",
      "Mean negativities for all classes: [0.26327536654810857, 0.30626539336400366, 0.3194464381198813]\n",
      "Mean entropies for all classes: [1.0428543736575889e-14, 9.93561514288195e-15, 9.491837887095893e-15]\n",
      "              precision    recall  f1-score   support\n",
      "\n",
      "           0       1.00      0.67      0.80         6\n",
      "           1       0.78      1.00      0.88         7\n",
      "           2       1.00      1.00      1.00         5\n",
      "\n",
      "    accuracy                           0.89        18\n",
      "   macro avg       0.93      0.89      0.89        18\n",
      "weighted avg       0.91      0.89      0.88        18\n",
      "\n",
      "-------------------------------------------------------------------------------------------------------------------\n"
     ]
    },
    {
     "name": "stderr",
     "output_type": "stream",
     "text": [
      "[Parallel(n_jobs=-1)]: Using backend LokyBackend with 12 concurrent workers.\n",
      "[Parallel(n_jobs=-1)]: Done   3 out of   3 | elapsed:  2.5min finished\n"
     ]
    },
    {
     "name": "stdout",
     "output_type": "stream",
     "text": [
      "K-Fold #3\n",
      "Mean negativities for all classes: [0.2639630660926643, 0.3133530239508588, 0.3187225008665746]\n",
      "Mean entropies for all classes: [1.0387600366458837e-14, 9.985841474816951e-15, 9.55690911704049e-15]\n",
      "              precision    recall  f1-score   support\n",
      "\n",
      "           0       1.00      1.00      1.00         6\n",
      "           1       1.00      1.00      1.00         7\n",
      "           2       1.00      1.00      1.00         5\n",
      "\n",
      "    accuracy                           1.00        18\n",
      "   macro avg       1.00      1.00      1.00        18\n",
      "weighted avg       1.00      1.00      1.00        18\n",
      "\n",
      "-------------------------------------------------------------------------------------------------------------------\n"
     ]
    },
    {
     "name": "stderr",
     "output_type": "stream",
     "text": [
      "[Parallel(n_jobs=-1)]: Using backend LokyBackend with 12 concurrent workers.\n",
      "[Parallel(n_jobs=-1)]: Done   3 out of   3 | elapsed:  2.5min finished\n"
     ]
    },
    {
     "name": "stdout",
     "output_type": "stream",
     "text": [
      "K-Fold #4\n",
      "Mean negativities for all classes: [0.24455652497755778, 0.3114633958221181, 0.3204743872547089]\n",
      "Mean entropies for all classes: [9.123841189841817e-15, 9.990533353080567e-15, 9.209235423314176e-15]\n",
      "              precision    recall  f1-score   support\n",
      "\n",
      "           0       1.00      1.00      1.00         6\n",
      "           1       0.88      1.00      0.93         7\n",
      "           2       1.00      0.80      0.89         5\n",
      "\n",
      "    accuracy                           0.94        18\n",
      "   macro avg       0.96      0.93      0.94        18\n",
      "weighted avg       0.95      0.94      0.94        18\n",
      "\n",
      "-------------------------------------------------------------------------------------------------------------------\n"
     ]
    },
    {
     "name": "stderr",
     "output_type": "stream",
     "text": [
      "[Parallel(n_jobs=-1)]: Using backend LokyBackend with 12 concurrent workers.\n",
      "[Parallel(n_jobs=-1)]: Done   3 out of   3 | elapsed:  2.5min finished\n"
     ]
    },
    {
     "name": "stdout",
     "output_type": "stream",
     "text": [
      "K-Fold #5\n",
      "Mean negativities for all classes: [0.26042074178796804, 0.31544632949071766, 0.3187431920101892]\n",
      "Mean entropies for all classes: [9.688724757354426e-15, 9.4666296299635e-15, 9.022359725612602e-15]\n",
      "              precision    recall  f1-score   support\n",
      "\n",
      "           0       1.00      0.83      0.91         6\n",
      "           1       0.83      0.71      0.77         7\n",
      "           2       0.71      1.00      0.83         5\n",
      "\n",
      "    accuracy                           0.83        18\n",
      "   macro avg       0.85      0.85      0.84        18\n",
      "weighted avg       0.86      0.83      0.83        18\n",
      "\n",
      "-------------------------------------------------------------------------------------------------------------------\n"
     ]
    },
    {
     "name": "stderr",
     "output_type": "stream",
     "text": [
      "[Parallel(n_jobs=-1)]: Using backend LokyBackend with 12 concurrent workers.\n",
      "[Parallel(n_jobs=-1)]: Done   3 out of   3 | elapsed:  2.5min finished\n"
     ]
    },
    {
     "name": "stdout",
     "output_type": "stream",
     "text": [
      "K-Fold #6\n",
      "Mean negativities for all classes: [0.24437546893069484, 0.30772351622295485, 0.3188955009997885]\n",
      "Mean entropies for all classes: [9.620086896994858e-15, 9.714079286976924e-15, 9.435831909791857e-15]\n",
      "              precision    recall  f1-score   support\n",
      "\n",
      "           0       1.00      1.00      1.00         6\n",
      "           1       0.86      0.86      0.86         7\n",
      "           2       0.80      0.80      0.80         5\n",
      "\n",
      "    accuracy                           0.89        18\n",
      "   macro avg       0.89      0.89      0.89        18\n",
      "weighted avg       0.89      0.89      0.89        18\n",
      "\n",
      "-------------------------------------------------------------------------------------------------------------------\n"
     ]
    },
    {
     "name": "stderr",
     "output_type": "stream",
     "text": [
      "[Parallel(n_jobs=-1)]: Using backend LokyBackend with 12 concurrent workers.\n",
      "[Parallel(n_jobs=-1)]: Done   3 out of   3 | elapsed:  2.5min finished\n"
     ]
    },
    {
     "name": "stdout",
     "output_type": "stream",
     "text": [
      "K-Fold #7\n",
      "Mean negativities for all classes: [0.25870048765901793, 0.30836084287939763, 0.3194602634613728]\n",
      "Mean entropies for all classes: [1.004197683755203e-14, 8.871835502594359e-15, 9.089385058635412e-15]\n",
      "              precision    recall  f1-score   support\n",
      "\n",
      "           0       1.00      1.00      1.00         6\n",
      "           1       1.00      1.00      1.00         7\n",
      "           2       1.00      1.00      1.00         5\n",
      "\n",
      "    accuracy                           1.00        18\n",
      "   macro avg       1.00      1.00      1.00        18\n",
      "weighted avg       1.00      1.00      1.00        18\n",
      "\n",
      "-------------------------------------------------------------------------------------------------------------------\n"
     ]
    },
    {
     "name": "stderr",
     "output_type": "stream",
     "text": [
      "[Parallel(n_jobs=-1)]: Using backend LokyBackend with 12 concurrent workers.\n",
      "[Parallel(n_jobs=-1)]: Done   3 out of   3 | elapsed:  2.5min finished\n"
     ]
    },
    {
     "name": "stdout",
     "output_type": "stream",
     "text": [
      "K-Fold #8\n",
      "Mean negativities for all classes: [0.24954036024120518, 0.3153329161794419, 0.31864360759357657]\n",
      "Mean entropies for all classes: [9.738791191854533e-15, 9.085414035571625e-15, 8.969618232081598e-15]\n",
      "              precision    recall  f1-score   support\n",
      "\n",
      "           0       1.00      1.00      1.00         6\n",
      "           1       1.00      1.00      1.00         7\n",
      "           2       1.00      1.00      1.00         4\n",
      "\n",
      "    accuracy                           1.00        17\n",
      "   macro avg       1.00      1.00      1.00        17\n",
      "weighted avg       1.00      1.00      1.00        17\n",
      "\n",
      "-------------------------------------------------------------------------------------------------------------------\n"
     ]
    },
    {
     "name": "stderr",
     "output_type": "stream",
     "text": [
      "[Parallel(n_jobs=-1)]: Using backend LokyBackend with 12 concurrent workers.\n",
      "[Parallel(n_jobs=-1)]: Done   3 out of   3 | elapsed:  2.5min finished\n"
     ]
    },
    {
     "name": "stdout",
     "output_type": "stream",
     "text": [
      "K-Fold #9\n",
      "Mean negativities for all classes: [0.2644890385331435, 0.3146624947620762, 0.3193878933945476]\n",
      "Mean entropies for all classes: [9.631342907019324e-15, 9.340953312273783e-15, 8.956397627154295e-15]\n",
      "              precision    recall  f1-score   support\n",
      "\n",
      "           0       1.00      1.00      1.00         5\n",
      "           1       1.00      0.62      0.77         8\n",
      "           2       0.57      1.00      0.73         4\n",
      "\n",
      "    accuracy                           0.82        17\n",
      "   macro avg       0.86      0.88      0.83        17\n",
      "weighted avg       0.90      0.82      0.83        17\n",
      "\n",
      "-------------------------------------------------------------------------------------------------------------------\n",
      "AVG: Scores = 0.9212418300653595 F1-Scores = 0.9224726199726199 Negativity = [0.2973232371577255, 0.2996026397839486, 0.29632906601066455] Entropy = [9.620663357878641e-15, 9.236636394235939e-15, 9.95199892218458e-15]\n"
     ]
    },
    {
     "name": "stderr",
     "output_type": "stream",
     "text": [
      "[Parallel(n_jobs=-1)]: Using backend LokyBackend with 12 concurrent workers.\n",
      "[Parallel(n_jobs=-1)]: Done   3 out of   3 | elapsed:  2.5min finished\n"
     ]
    },
    {
     "name": "stdout",
     "output_type": "stream",
     "text": [
      "K-Fold #0\n",
      "Mean negativities for all classes: [0.24111034654626273, 0.3159473550516398, 0.31828463434278886]\n",
      "Mean entropies for all classes: [9.482906281870883e-15, 9.757796064543291e-15, 9.342181119049367e-15]\n",
      "              precision    recall  f1-score   support\n",
      "\n",
      "           0       1.00      1.00      1.00         6\n",
      "           1       1.00      1.00      1.00         7\n",
      "           2       1.00      1.00      1.00         5\n",
      "\n",
      "    accuracy                           1.00        18\n",
      "   macro avg       1.00      1.00      1.00        18\n",
      "weighted avg       1.00      1.00      1.00        18\n",
      "\n",
      "-------------------------------------------------------------------------------------------------------------------\n"
     ]
    },
    {
     "name": "stderr",
     "output_type": "stream",
     "text": [
      "[Parallel(n_jobs=-1)]: Using backend LokyBackend with 12 concurrent workers.\n",
      "[Parallel(n_jobs=-1)]: Done   3 out of   3 | elapsed:  2.5min finished\n"
     ]
    },
    {
     "name": "stdout",
     "output_type": "stream",
     "text": [
      "K-Fold #1\n",
      "Mean negativities for all classes: [0.2496141857486397, 0.32009515302475244, 0.31985103322073827]\n",
      "Mean entropies for all classes: [9.315963533620133e-15, 9.303295867630556e-15, 8.834209684878192e-15]\n",
      "              precision    recall  f1-score   support\n",
      "\n",
      "           0       1.00      1.00      1.00         6\n",
      "           1       1.00      0.71      0.83         7\n",
      "           2       0.71      1.00      0.83         5\n",
      "\n",
      "    accuracy                           0.89        18\n",
      "   macro avg       0.90      0.90      0.89        18\n",
      "weighted avg       0.92      0.89      0.89        18\n",
      "\n",
      "-------------------------------------------------------------------------------------------------------------------\n"
     ]
    },
    {
     "name": "stderr",
     "output_type": "stream",
     "text": [
      "[Parallel(n_jobs=-1)]: Using backend LokyBackend with 12 concurrent workers.\n",
      "[Parallel(n_jobs=-1)]: Done   3 out of   3 | elapsed:  2.5min finished\n"
     ]
    },
    {
     "name": "stdout",
     "output_type": "stream",
     "text": [
      "K-Fold #2\n",
      "Mean negativities for all classes: [0.26125321831589365, 0.3176527943451762, 0.3195153251780574]\n",
      "Mean entropies for all classes: [9.234846072769235e-15, 1.0042634673224273e-14, 8.848019098861221e-15]\n",
      "              precision    recall  f1-score   support\n",
      "\n",
      "           0       1.00      1.00      1.00         6\n",
      "           1       1.00      0.86      0.92         7\n",
      "           2       0.83      1.00      0.91         5\n",
      "\n",
      "    accuracy                           0.94        18\n",
      "   macro avg       0.94      0.95      0.94        18\n",
      "weighted avg       0.95      0.94      0.94        18\n",
      "\n",
      "-------------------------------------------------------------------------------------------------------------------\n"
     ]
    },
    {
     "name": "stderr",
     "output_type": "stream",
     "text": [
      "[Parallel(n_jobs=-1)]: Using backend LokyBackend with 12 concurrent workers.\n",
      "[Parallel(n_jobs=-1)]: Done   3 out of   3 | elapsed:  2.5min finished\n"
     ]
    },
    {
     "name": "stdout",
     "output_type": "stream",
     "text": [
      "K-Fold #3\n",
      "Mean negativities for all classes: [0.2505579141726796, 0.31714356182691905, 0.320139948368895]\n",
      "Mean entropies for all classes: [9.431004973351147e-15, 9.46349397224455e-15, 9.38178362313001e-15]\n",
      "              precision    recall  f1-score   support\n",
      "\n",
      "           0       1.00      1.00      1.00         6\n",
      "           1       1.00      0.86      0.92         7\n",
      "           2       0.83      1.00      0.91         5\n",
      "\n",
      "    accuracy                           0.94        18\n",
      "   macro avg       0.94      0.95      0.94        18\n",
      "weighted avg       0.95      0.94      0.94        18\n",
      "\n",
      "-------------------------------------------------------------------------------------------------------------------\n"
     ]
    },
    {
     "name": "stderr",
     "output_type": "stream",
     "text": [
      "[Parallel(n_jobs=-1)]: Using backend LokyBackend with 12 concurrent workers.\n",
      "[Parallel(n_jobs=-1)]: Done   3 out of   3 | elapsed:  2.5min finished\n"
     ]
    },
    {
     "name": "stdout",
     "output_type": "stream",
     "text": [
      "K-Fold #4\n",
      "Mean negativities for all classes: [0.2469114451177156, 0.3216095912145275, 0.31896453829042]\n",
      "Mean entropies for all classes: [9.210850604837416e-15, 9.452080306938782e-15, 9.372592567801275e-15]\n",
      "              precision    recall  f1-score   support\n",
      "\n",
      "           0       1.00      1.00      1.00         6\n",
      "           1       0.86      0.86      0.86         7\n",
      "           2       0.80      0.80      0.80         5\n",
      "\n",
      "    accuracy                           0.89        18\n",
      "   macro avg       0.89      0.89      0.89        18\n",
      "weighted avg       0.89      0.89      0.89        18\n",
      "\n",
      "-------------------------------------------------------------------------------------------------------------------\n"
     ]
    },
    {
     "name": "stderr",
     "output_type": "stream",
     "text": [
      "[Parallel(n_jobs=-1)]: Using backend LokyBackend with 12 concurrent workers.\n",
      "[Parallel(n_jobs=-1)]: Done   3 out of   3 | elapsed:  2.5min finished\n"
     ]
    },
    {
     "name": "stdout",
     "output_type": "stream",
     "text": [
      "K-Fold #5\n",
      "Mean negativities for all classes: [0.24892711616565177, 0.3124424449904007, 0.3190003624980803]\n",
      "Mean entropies for all classes: [9.986238713710274e-15, 1.0024539717534279e-14, 9.568418772271954e-15]\n",
      "              precision    recall  f1-score   support\n",
      "\n",
      "           0       1.00      1.00      1.00         6\n",
      "           1       0.88      1.00      0.93         7\n",
      "           2       1.00      0.80      0.89         5\n",
      "\n",
      "    accuracy                           0.94        18\n",
      "   macro avg       0.96      0.93      0.94        18\n",
      "weighted avg       0.95      0.94      0.94        18\n",
      "\n",
      "-------------------------------------------------------------------------------------------------------------------\n"
     ]
    },
    {
     "name": "stderr",
     "output_type": "stream",
     "text": [
      "[Parallel(n_jobs=-1)]: Using backend LokyBackend with 12 concurrent workers.\n",
      "[Parallel(n_jobs=-1)]: Done   3 out of   3 | elapsed:  2.5min finished\n"
     ]
    },
    {
     "name": "stdout",
     "output_type": "stream",
     "text": [
      "K-Fold #6\n",
      "Mean negativities for all classes: [0.2570850617318588, 0.31142277161997556, 0.3184654767331426]\n",
      "Mean entropies for all classes: [8.988912958563247e-15, 9.248989780238808e-15, 9.171999434546578e-15]\n",
      "              precision    recall  f1-score   support\n",
      "\n",
      "           0       1.00      0.83      0.91         6\n",
      "           1       0.88      1.00      0.93         7\n",
      "           2       1.00      1.00      1.00         5\n",
      "\n",
      "    accuracy                           0.94        18\n",
      "   macro avg       0.96      0.94      0.95        18\n",
      "weighted avg       0.95      0.94      0.94        18\n",
      "\n",
      "-------------------------------------------------------------------------------------------------------------------\n"
     ]
    },
    {
     "name": "stderr",
     "output_type": "stream",
     "text": [
      "[Parallel(n_jobs=-1)]: Using backend LokyBackend with 12 concurrent workers.\n",
      "[Parallel(n_jobs=-1)]: Done   3 out of   3 | elapsed:  2.5min finished\n"
     ]
    },
    {
     "name": "stdout",
     "output_type": "stream",
     "text": [
      "K-Fold #7\n",
      "Mean negativities for all classes: [0.2577434226570705, 0.31054860585128385, 0.31897852544346406]\n",
      "Mean entropies for all classes: [9.64524824634434e-15, 9.935037590833623e-15, 9.466110154007855e-15]\n",
      "              precision    recall  f1-score   support\n",
      "\n",
      "           0       1.00      1.00      1.00         6\n",
      "           1       1.00      0.71      0.83         7\n",
      "           2       0.71      1.00      0.83         5\n",
      "\n",
      "    accuracy                           0.89        18\n",
      "   macro avg       0.90      0.90      0.89        18\n",
      "weighted avg       0.92      0.89      0.89        18\n",
      "\n",
      "-------------------------------------------------------------------------------------------------------------------\n"
     ]
    },
    {
     "name": "stderr",
     "output_type": "stream",
     "text": [
      "[Parallel(n_jobs=-1)]: Using backend LokyBackend with 12 concurrent workers.\n",
      "[Parallel(n_jobs=-1)]: Done   3 out of   3 | elapsed:  2.5min finished\n"
     ]
    },
    {
     "name": "stdout",
     "output_type": "stream",
     "text": [
      "K-Fold #8\n",
      "Mean negativities for all classes: [0.24691523321692777, 0.30469840596025694, 0.31855710115348584]\n",
      "Mean entropies for all classes: [9.355504046687552e-15, 9.862753774832928e-15, 9.126468651001686e-15]\n",
      "              precision    recall  f1-score   support\n",
      "\n",
      "           0       1.00      0.83      0.91         6\n",
      "           1       0.88      1.00      0.93         7\n",
      "           2       1.00      1.00      1.00         4\n",
      "\n",
      "    accuracy                           0.94        17\n",
      "   macro avg       0.96      0.94      0.95        17\n",
      "weighted avg       0.95      0.94      0.94        17\n",
      "\n",
      "-------------------------------------------------------------------------------------------------------------------\n"
     ]
    },
    {
     "name": "stderr",
     "output_type": "stream",
     "text": [
      "[Parallel(n_jobs=-1)]: Using backend LokyBackend with 12 concurrent workers.\n",
      "[Parallel(n_jobs=-1)]: Done   3 out of   3 | elapsed:  2.5min finished\n"
     ]
    },
    {
     "name": "stdout",
     "output_type": "stream",
     "text": [
      "K-Fold #9\n",
      "Mean negativities for all classes: [0.27367884164942174, 0.3140573813137685, 0.3184563483957796]\n",
      "Mean entropies for all classes: [9.229929617715308e-15, 9.997668331417924e-15, 9.198092197882474e-15]\n",
      "              precision    recall  f1-score   support\n",
      "\n",
      "           0       1.00      0.80      0.89         5\n",
      "           1       0.88      0.88      0.88         8\n",
      "           2       0.80      1.00      0.89         4\n",
      "\n",
      "    accuracy                           0.88        17\n",
      "   macro avg       0.89      0.89      0.88        17\n",
      "weighted avg       0.89      0.88      0.88        17\n",
      "\n",
      "-------------------------------------------------------------------------------------------------------------------\n",
      "AVG: Scores = 0.9267973856209151 F1-Scores = 0.9271553446553445 Negativity = [0.29178077864689717, 0.29652012399804345, 0.2994737792797091] Entropy = [9.527627821821181e-15, 9.15115636204296e-15, 9.375166614951577e-15]\n"
     ]
    },
    {
     "name": "stderr",
     "output_type": "stream",
     "text": [
      "[Parallel(n_jobs=-1)]: Using backend LokyBackend with 12 concurrent workers.\n",
      "[Parallel(n_jobs=-1)]: Done   3 out of   3 | elapsed:  2.5min finished\n"
     ]
    },
    {
     "name": "stdout",
     "output_type": "stream",
     "text": [
      "K-Fold #0\n",
      "Mean negativities for all classes: [0.24675393067153845, 0.3152895644498091, 0.3191467316627737]\n",
      "Mean entropies for all classes: [9.539502870229697e-15, 9.12278469940247e-15, 9.14426704183374e-15]\n",
      "              precision    recall  f1-score   support\n",
      "\n",
      "           0       1.00      1.00      1.00         6\n",
      "           1       1.00      1.00      1.00         7\n",
      "           2       1.00      1.00      1.00         5\n",
      "\n",
      "    accuracy                           1.00        18\n",
      "   macro avg       1.00      1.00      1.00        18\n",
      "weighted avg       1.00      1.00      1.00        18\n",
      "\n",
      "-------------------------------------------------------------------------------------------------------------------\n"
     ]
    },
    {
     "name": "stderr",
     "output_type": "stream",
     "text": [
      "[Parallel(n_jobs=-1)]: Using backend LokyBackend with 12 concurrent workers.\n",
      "[Parallel(n_jobs=-1)]: Done   3 out of   3 | elapsed:  2.5min finished\n"
     ]
    },
    {
     "name": "stdout",
     "output_type": "stream",
     "text": [
      "K-Fold #1\n",
      "Mean negativities for all classes: [0.2513623330140233, 0.3006044544704582, 0.3196194463605291]\n",
      "Mean entropies for all classes: [9.618169554289195e-15, 9.386118793315194e-15, 9.000754402480606e-15]\n",
      "              precision    recall  f1-score   support\n",
      "\n",
      "           0       1.00      1.00      1.00         6\n",
      "           1       1.00      1.00      1.00         7\n",
      "           2       1.00      1.00      1.00         5\n",
      "\n",
      "    accuracy                           1.00        18\n",
      "   macro avg       1.00      1.00      1.00        18\n",
      "weighted avg       1.00      1.00      1.00        18\n",
      "\n",
      "-------------------------------------------------------------------------------------------------------------------\n"
     ]
    },
    {
     "name": "stderr",
     "output_type": "stream",
     "text": [
      "[Parallel(n_jobs=-1)]: Using backend LokyBackend with 12 concurrent workers.\n",
      "[Parallel(n_jobs=-1)]: Done   3 out of   3 | elapsed:  2.5min finished\n"
     ]
    },
    {
     "name": "stdout",
     "output_type": "stream",
     "text": [
      "K-Fold #2\n",
      "Mean negativities for all classes: [0.26048603938272896, 0.31223893441980427, 0.319854938081675]\n",
      "Mean entropies for all classes: [9.294022967977109e-15, 9.252713132033504e-15, 9.259614179018122e-15]\n",
      "              precision    recall  f1-score   support\n",
      "\n",
      "           0       1.00      0.83      0.91         6\n",
      "           1       0.78      1.00      0.88         7\n",
      "           2       1.00      0.80      0.89         5\n",
      "\n",
      "    accuracy                           0.89        18\n",
      "   macro avg       0.93      0.88      0.89        18\n",
      "weighted avg       0.91      0.89      0.89        18\n",
      "\n",
      "-------------------------------------------------------------------------------------------------------------------\n"
     ]
    },
    {
     "name": "stderr",
     "output_type": "stream",
     "text": [
      "[Parallel(n_jobs=-1)]: Using backend LokyBackend with 12 concurrent workers.\n",
      "[Parallel(n_jobs=-1)]: Done   3 out of   3 | elapsed:  2.5min finished\n"
     ]
    },
    {
     "name": "stdout",
     "output_type": "stream",
     "text": [
      "K-Fold #3\n",
      "Mean negativities for all classes: [0.2456407024279643, 0.3134719013516777, 0.3202122304037098]\n",
      "Mean entropies for all classes: [9.59671585031901e-15, 9.53597402820732e-15, 9.532595650092658e-15]\n",
      "              precision    recall  f1-score   support\n",
      "\n",
      "           0       1.00      0.83      0.91         6\n",
      "           1       0.86      0.86      0.86         7\n",
      "           2       0.83      1.00      0.91         5\n",
      "\n",
      "    accuracy                           0.89        18\n",
      "   macro avg       0.90      0.90      0.89        18\n",
      "weighted avg       0.90      0.89      0.89        18\n",
      "\n",
      "-------------------------------------------------------------------------------------------------------------------\n"
     ]
    },
    {
     "name": "stderr",
     "output_type": "stream",
     "text": [
      "[Parallel(n_jobs=-1)]: Using backend LokyBackend with 12 concurrent workers.\n",
      "[Parallel(n_jobs=-1)]: Done   3 out of   3 | elapsed:  2.5min finished\n"
     ]
    },
    {
     "name": "stdout",
     "output_type": "stream",
     "text": [
      "K-Fold #4\n",
      "Mean negativities for all classes: [0.25088614065387477, 0.3126493849511266, 0.31877722807538134]\n",
      "Mean entropies for all classes: [9.498323794387207e-15, 9.950892455610847e-15, 9.099284168178159e-15]\n",
      "              precision    recall  f1-score   support\n",
      "\n",
      "           0       1.00      1.00      1.00         6\n",
      "           1       1.00      0.86      0.92         7\n",
      "           2       0.83      1.00      0.91         5\n",
      "\n",
      "    accuracy                           0.94        18\n",
      "   macro avg       0.94      0.95      0.94        18\n",
      "weighted avg       0.95      0.94      0.94        18\n",
      "\n",
      "-------------------------------------------------------------------------------------------------------------------\n"
     ]
    },
    {
     "name": "stderr",
     "output_type": "stream",
     "text": [
      "[Parallel(n_jobs=-1)]: Using backend LokyBackend with 12 concurrent workers.\n",
      "[Parallel(n_jobs=-1)]: Done   3 out of   3 | elapsed:  2.5min finished\n"
     ]
    },
    {
     "name": "stdout",
     "output_type": "stream",
     "text": [
      "K-Fold #5\n",
      "Mean negativities for all classes: [0.27727476100465737, 0.31338141632649513, 0.31922074140800066]\n",
      "Mean entropies for all classes: [9.317416511925164e-15, 1.0074164479801497e-14, 9.161350846237165e-15]\n",
      "              precision    recall  f1-score   support\n",
      "\n",
      "           0       1.00      0.83      0.91         6\n",
      "           1       0.88      1.00      0.93         7\n",
      "           2       1.00      1.00      1.00         5\n",
      "\n",
      "    accuracy                           0.94        18\n",
      "   macro avg       0.96      0.94      0.95        18\n",
      "weighted avg       0.95      0.94      0.94        18\n",
      "\n",
      "-------------------------------------------------------------------------------------------------------------------\n"
     ]
    },
    {
     "name": "stderr",
     "output_type": "stream",
     "text": [
      "[Parallel(n_jobs=-1)]: Using backend LokyBackend with 12 concurrent workers.\n",
      "[Parallel(n_jobs=-1)]: Done   3 out of   3 | elapsed:  2.5min finished\n"
     ]
    },
    {
     "name": "stdout",
     "output_type": "stream",
     "text": [
      "K-Fold #6\n",
      "Mean negativities for all classes: [0.24410629131388717, 0.30268329612227884, 0.3193878616202375]\n",
      "Mean entropies for all classes: [9.836953692494192e-15, 9.535034242386254e-15, 9.301736042918352e-15]\n",
      "              precision    recall  f1-score   support\n",
      "\n",
      "           0       1.00      1.00      1.00         6\n",
      "           1       1.00      1.00      1.00         7\n",
      "           2       1.00      1.00      1.00         5\n",
      "\n",
      "    accuracy                           1.00        18\n",
      "   macro avg       1.00      1.00      1.00        18\n",
      "weighted avg       1.00      1.00      1.00        18\n",
      "\n",
      "-------------------------------------------------------------------------------------------------------------------\n"
     ]
    },
    {
     "name": "stderr",
     "output_type": "stream",
     "text": [
      "[Parallel(n_jobs=-1)]: Using backend LokyBackend with 12 concurrent workers.\n",
      "[Parallel(n_jobs=-1)]: Done   3 out of   3 | elapsed:  2.5min finished\n"
     ]
    },
    {
     "name": "stdout",
     "output_type": "stream",
     "text": [
      "K-Fold #7\n",
      "Mean negativities for all classes: [0.26030405731639195, 0.3210188850914594, 0.3517832508427714]\n",
      "Mean entropies for all classes: [9.80868133797398e-15, 9.366154120741653e-15, 9.24148326553258e-15]\n",
      "              precision    recall  f1-score   support\n",
      "\n",
      "           0       1.00      1.00      1.00         6\n",
      "           1       1.00      1.00      1.00         7\n",
      "           2       1.00      1.00      1.00         5\n",
      "\n",
      "    accuracy                           1.00        18\n",
      "   macro avg       1.00      1.00      1.00        18\n",
      "weighted avg       1.00      1.00      1.00        18\n",
      "\n",
      "-------------------------------------------------------------------------------------------------------------------\n"
     ]
    },
    {
     "name": "stderr",
     "output_type": "stream",
     "text": [
      "[Parallel(n_jobs=-1)]: Using backend LokyBackend with 12 concurrent workers.\n",
      "[Parallel(n_jobs=-1)]: Done   3 out of   3 | elapsed:  2.5min finished\n"
     ]
    },
    {
     "name": "stdout",
     "output_type": "stream",
     "text": [
      "K-Fold #8\n",
      "Mean negativities for all classes: [0.2506614267074716, 0.3120306553263048, 0.31991920363805]\n",
      "Mean entropies for all classes: [9.629107161927685e-15, 9.353382062743459e-15, 9.356534791720275e-15]\n",
      "              precision    recall  f1-score   support\n",
      "\n",
      "           0       0.83      0.83      0.83         6\n",
      "           1       0.83      0.71      0.77         7\n",
      "           2       0.80      1.00      0.89         4\n",
      "\n",
      "    accuracy                           0.82        17\n",
      "   macro avg       0.82      0.85      0.83        17\n",
      "weighted avg       0.83      0.82      0.82        17\n",
      "\n",
      "-------------------------------------------------------------------------------------------------------------------\n"
     ]
    },
    {
     "name": "stderr",
     "output_type": "stream",
     "text": [
      "[Parallel(n_jobs=-1)]: Using backend LokyBackend with 12 concurrent workers.\n",
      "[Parallel(n_jobs=-1)]: Done   3 out of   3 | elapsed:  2.5min finished\n"
     ]
    },
    {
     "name": "stdout",
     "output_type": "stream",
     "text": [
      "K-Fold #9\n",
      "Mean negativities for all classes: [0.2464034468163381, 0.3093710441243294, 0.3189872206157389]\n",
      "Mean entropies for all classes: [9.778135170325956e-15, 9.776182768447865e-15, 9.071566251122716e-15]\n",
      "              precision    recall  f1-score   support\n",
      "\n",
      "           0       1.00      1.00      1.00         5\n",
      "           1       1.00      0.75      0.86         8\n",
      "           2       0.67      1.00      0.80         4\n",
      "\n",
      "    accuracy                           0.88        17\n",
      "   macro avg       0.89      0.92      0.89        17\n",
      "weighted avg       0.92      0.88      0.89        17\n",
      "\n",
      "-------------------------------------------------------------------------------------------------------------------\n",
      "AVG: Scores = 0.9372549019607843 F1-Scores = 0.9390497465497466 Negativity = [0.29373007559470704, 0.2905287446150035, 0.2975266372947361] Entropy = [9.268851537155303e-15, 9.33501425002833e-15, 9.268783426342911e-15]\n"
     ]
    },
    {
     "name": "stderr",
     "output_type": "stream",
     "text": [
      "[Parallel(n_jobs=-1)]: Using backend LokyBackend with 12 concurrent workers.\n",
      "[Parallel(n_jobs=-1)]: Done   3 out of   3 | elapsed:  2.5min finished\n"
     ]
    },
    {
     "name": "stdout",
     "output_type": "stream",
     "text": [
      "K-Fold #0\n",
      "Mean negativities for all classes: [0.2599370847620352, 0.30436268551535106, 0.3188382022139814]\n",
      "Mean entropies for all classes: [9.87975858931657e-15, 9.624593752391814e-15, 9.432055900411623e-15]\n",
      "              precision    recall  f1-score   support\n",
      "\n",
      "           0       1.00      1.00      1.00         6\n",
      "           1       1.00      1.00      1.00         7\n",
      "           2       1.00      1.00      1.00         5\n",
      "\n",
      "    accuracy                           1.00        18\n",
      "   macro avg       1.00      1.00      1.00        18\n",
      "weighted avg       1.00      1.00      1.00        18\n",
      "\n",
      "-------------------------------------------------------------------------------------------------------------------\n"
     ]
    },
    {
     "name": "stderr",
     "output_type": "stream",
     "text": [
      "[Parallel(n_jobs=-1)]: Using backend LokyBackend with 12 concurrent workers.\n",
      "[Parallel(n_jobs=-1)]: Done   3 out of   3 | elapsed:  2.5min finished\n"
     ]
    },
    {
     "name": "stdout",
     "output_type": "stream",
     "text": [
      "K-Fold #1\n",
      "Mean negativities for all classes: [0.2687943882245889, 0.31173342324850467, 0.31884427539645666]\n",
      "Mean entropies for all classes: [9.52720146159127e-15, 9.927699866628588e-15, 9.727486433417045e-15]\n",
      "              precision    recall  f1-score   support\n",
      "\n",
      "           0       1.00      0.83      0.91         6\n",
      "           1       0.88      1.00      0.93         7\n",
      "           2       1.00      1.00      1.00         5\n",
      "\n",
      "    accuracy                           0.94        18\n",
      "   macro avg       0.96      0.94      0.95        18\n",
      "weighted avg       0.95      0.94      0.94        18\n",
      "\n",
      "-------------------------------------------------------------------------------------------------------------------\n"
     ]
    },
    {
     "name": "stderr",
     "output_type": "stream",
     "text": [
      "[Parallel(n_jobs=-1)]: Using backend LokyBackend with 12 concurrent workers.\n",
      "[Parallel(n_jobs=-1)]: Done   3 out of   3 | elapsed:  2.5min finished\n"
     ]
    },
    {
     "name": "stdout",
     "output_type": "stream",
     "text": [
      "K-Fold #2\n",
      "Mean negativities for all classes: [0.250055533488047, 0.309273221832816, 0.31837157994927595]\n",
      "Mean entropies for all classes: [9.505596150184257e-15, 9.618681385235993e-15, 8.979429341655396e-15]\n",
      "              precision    recall  f1-score   support\n",
      "\n",
      "           0       1.00      1.00      1.00         6\n",
      "           1       1.00      0.86      0.92         7\n",
      "           2       0.83      1.00      0.91         5\n",
      "\n",
      "    accuracy                           0.94        18\n",
      "   macro avg       0.94      0.95      0.94        18\n",
      "weighted avg       0.95      0.94      0.94        18\n",
      "\n",
      "-------------------------------------------------------------------------------------------------------------------\n"
     ]
    },
    {
     "name": "stderr",
     "output_type": "stream",
     "text": [
      "[Parallel(n_jobs=-1)]: Using backend LokyBackend with 12 concurrent workers.\n",
      "[Parallel(n_jobs=-1)]: Done   3 out of   3 | elapsed:  2.5min finished\n"
     ]
    },
    {
     "name": "stdout",
     "output_type": "stream",
     "text": [
      "K-Fold #3\n",
      "Mean negativities for all classes: [0.24968815057827826, 0.31503239651617027, 0.31961060226210847]\n",
      "Mean entropies for all classes: [9.417162379945224e-15, 9.466581812018897e-15, 9.214453970669117e-15]\n",
      "              precision    recall  f1-score   support\n",
      "\n",
      "           0       1.00      1.00      1.00         6\n",
      "           1       1.00      1.00      1.00         7\n",
      "           2       1.00      1.00      1.00         5\n",
      "\n",
      "    accuracy                           1.00        18\n",
      "   macro avg       1.00      1.00      1.00        18\n",
      "weighted avg       1.00      1.00      1.00        18\n",
      "\n",
      "-------------------------------------------------------------------------------------------------------------------\n"
     ]
    },
    {
     "name": "stderr",
     "output_type": "stream",
     "text": [
      "[Parallel(n_jobs=-1)]: Using backend LokyBackend with 12 concurrent workers.\n",
      "[Parallel(n_jobs=-1)]: Done   3 out of   3 | elapsed:  2.5min finished\n"
     ]
    },
    {
     "name": "stdout",
     "output_type": "stream",
     "text": [
      "K-Fold #4\n",
      "Mean negativities for all classes: [0.24929263359626835, 0.30927042160152785, 0.31862418920149443]\n",
      "Mean entropies for all classes: [9.450164357440748e-15, 9.716437295435371e-15, 9.459891705153525e-15]\n",
      "              precision    recall  f1-score   support\n",
      "\n",
      "           0       0.86      1.00      0.92         6\n",
      "           1       1.00      0.86      0.92         7\n",
      "           2       1.00      1.00      1.00         5\n",
      "\n",
      "    accuracy                           0.94        18\n",
      "   macro avg       0.95      0.95      0.95        18\n",
      "weighted avg       0.95      0.94      0.94        18\n",
      "\n",
      "-------------------------------------------------------------------------------------------------------------------\n"
     ]
    },
    {
     "name": "stderr",
     "output_type": "stream",
     "text": [
      "[Parallel(n_jobs=-1)]: Using backend LokyBackend with 12 concurrent workers.\n",
      "[Parallel(n_jobs=-1)]: Done   3 out of   3 | elapsed:  2.5min finished\n"
     ]
    },
    {
     "name": "stdout",
     "output_type": "stream",
     "text": [
      "K-Fold #5\n",
      "Mean negativities for all classes: [0.2533415938517572, 0.31108509116050015, 0.3184659878562599]\n",
      "Mean entropies for all classes: [9.667229520621611e-15, 9.332601015523705e-15, 9.064004466222484e-15]\n",
      "              precision    recall  f1-score   support\n",
      "\n",
      "           0       1.00      1.00      1.00         6\n",
      "           1       1.00      0.86      0.92         7\n",
      "           2       0.83      1.00      0.91         5\n",
      "\n",
      "    accuracy                           0.94        18\n",
      "   macro avg       0.94      0.95      0.94        18\n",
      "weighted avg       0.95      0.94      0.94        18\n",
      "\n",
      "-------------------------------------------------------------------------------------------------------------------\n"
     ]
    },
    {
     "name": "stderr",
     "output_type": "stream",
     "text": [
      "[Parallel(n_jobs=-1)]: Using backend LokyBackend with 12 concurrent workers.\n",
      "[Parallel(n_jobs=-1)]: Done   3 out of   3 | elapsed:  2.5min finished\n"
     ]
    },
    {
     "name": "stdout",
     "output_type": "stream",
     "text": [
      "K-Fold #6\n",
      "Mean negativities for all classes: [0.24976305986106467, 0.3105044354612996, 0.32017594557292]\n",
      "Mean entropies for all classes: [9.81957161616974e-15, 9.580597499654697e-15, 9.06362382511569e-15]\n",
      "              precision    recall  f1-score   support\n",
      "\n",
      "           0       1.00      0.83      0.91         6\n",
      "           1       0.86      0.86      0.86         7\n",
      "           2       0.83      1.00      0.91         5\n",
      "\n",
      "    accuracy                           0.89        18\n",
      "   macro avg       0.90      0.90      0.89        18\n",
      "weighted avg       0.90      0.89      0.89        18\n",
      "\n",
      "-------------------------------------------------------------------------------------------------------------------\n"
     ]
    },
    {
     "name": "stderr",
     "output_type": "stream",
     "text": [
      "[Parallel(n_jobs=-1)]: Using backend LokyBackend with 12 concurrent workers.\n",
      "[Parallel(n_jobs=-1)]: Done   3 out of   3 | elapsed:  2.5min finished\n"
     ]
    },
    {
     "name": "stdout",
     "output_type": "stream",
     "text": [
      "K-Fold #7\n",
      "Mean negativities for all classes: [0.25074341849977916, 0.31976111427802434, 0.319168763705797]\n",
      "Mean entropies for all classes: [9.899824346101286e-15, 9.259215416974984e-15, 9.078340056947258e-15]\n",
      "              precision    recall  f1-score   support\n",
      "\n",
      "           0       1.00      0.83      0.91         6\n",
      "           1       0.71      0.71      0.71         7\n",
      "           2       0.67      0.80      0.73         5\n",
      "\n",
      "    accuracy                           0.78        18\n",
      "   macro avg       0.79      0.78      0.78        18\n",
      "weighted avg       0.80      0.78      0.78        18\n",
      "\n",
      "-------------------------------------------------------------------------------------------------------------------\n"
     ]
    },
    {
     "name": "stderr",
     "output_type": "stream",
     "text": [
      "[Parallel(n_jobs=-1)]: Using backend LokyBackend with 12 concurrent workers.\n",
      "[Parallel(n_jobs=-1)]: Done   3 out of   3 | elapsed:  2.5min finished\n"
     ]
    },
    {
     "name": "stdout",
     "output_type": "stream",
     "text": [
      "K-Fold #8\n",
      "Mean negativities for all classes: [0.2550410964225241, 0.3126252161631825, 0.31879720055834865]\n",
      "Mean entropies for all classes: [9.602334377391648e-15, 9.468934331554891e-15, 9.211133845906281e-15]\n",
      "              precision    recall  f1-score   support\n",
      "\n",
      "           0       1.00      0.83      0.91         6\n",
      "           1       0.86      0.86      0.86         7\n",
      "           2       0.80      1.00      0.89         4\n",
      "\n",
      "    accuracy                           0.88        17\n",
      "   macro avg       0.89      0.90      0.89        17\n",
      "weighted avg       0.89      0.88      0.88        17\n",
      "\n",
      "-------------------------------------------------------------------------------------------------------------------\n"
     ]
    },
    {
     "name": "stderr",
     "output_type": "stream",
     "text": [
      "[Parallel(n_jobs=-1)]: Using backend LokyBackend with 12 concurrent workers.\n",
      "[Parallel(n_jobs=-1)]: Done   3 out of   3 | elapsed:  2.5min finished\n"
     ]
    },
    {
     "name": "stdout",
     "output_type": "stream",
     "text": [
      "K-Fold #9\n",
      "Mean negativities for all classes: [0.2740807493009547, 0.3165748679466591, 0.3201170931245768]\n",
      "Mean entropies for all classes: [9.650946605926051e-15, 9.487621725171325e-15, 8.97739357520276e-15]\n",
      "              precision    recall  f1-score   support\n",
      "\n",
      "           0       1.00      1.00      1.00         5\n",
      "           1       0.83      0.62      0.71         8\n",
      "           2       0.50      0.75      0.60         4\n",
      "\n",
      "    accuracy                           0.76        17\n",
      "   macro avg       0.78      0.79      0.77        17\n",
      "weighted avg       0.80      0.76      0.77        17\n",
      "\n",
      "-------------------------------------------------------------------------------------------------------------------\n",
      "AVG: Scores = 0.9091503267973856 F1-Scores = 0.9116098716098717 Negativity = [0.2943793241637892, 0.29979069562318345, 0.29256677842337964] Entropy = [9.645469414040003e-15, 9.7274625872123e-15, 9.367902292358548e-15]\n"
     ]
    },
    {
     "name": "stderr",
     "output_type": "stream",
     "text": [
      "[Parallel(n_jobs=-1)]: Using backend LokyBackend with 12 concurrent workers.\n",
      "[Parallel(n_jobs=-1)]: Done   3 out of   3 | elapsed:  2.5min finished\n"
     ]
    },
    {
     "name": "stdout",
     "output_type": "stream",
     "text": [
      "K-Fold #0\n",
      "Mean negativities for all classes: [0.24967479575872298, 0.317086240090903, 0.3194821708779596]\n",
      "Mean entropies for all classes: [9.415142817043436e-15, 9.119097163149024e-15, 9.300569017894611e-15]\n",
      "              precision    recall  f1-score   support\n",
      "\n",
      "           0       1.00      1.00      1.00         6\n",
      "           1       0.88      1.00      0.93         7\n",
      "           2       1.00      0.80      0.89         5\n",
      "\n",
      "    accuracy                           0.94        18\n",
      "   macro avg       0.96      0.93      0.94        18\n",
      "weighted avg       0.95      0.94      0.94        18\n",
      "\n",
      "-------------------------------------------------------------------------------------------------------------------\n"
     ]
    },
    {
     "name": "stderr",
     "output_type": "stream",
     "text": [
      "[Parallel(n_jobs=-1)]: Using backend LokyBackend with 12 concurrent workers.\n",
      "[Parallel(n_jobs=-1)]: Done   3 out of   3 | elapsed:  2.6min finished\n"
     ]
    },
    {
     "name": "stdout",
     "output_type": "stream",
     "text": [
      "K-Fold #1\n",
      "Mean negativities for all classes: [0.2601143109442712, 0.32167226555719286, 0.3199693136594429]\n",
      "Mean entropies for all classes: [9.086790428652825e-15, 9.282847253783954e-15, 9.516809900017794e-15]\n",
      "              precision    recall  f1-score   support\n",
      "\n",
      "           0       0.71      0.83      0.77         6\n",
      "           1       0.67      0.57      0.62         7\n",
      "           2       0.80      0.80      0.80         5\n",
      "\n",
      "    accuracy                           0.72        18\n",
      "   macro avg       0.73      0.73      0.73        18\n",
      "weighted avg       0.72      0.72      0.72        18\n",
      "\n",
      "-------------------------------------------------------------------------------------------------------------------\n"
     ]
    },
    {
     "name": "stderr",
     "output_type": "stream",
     "text": [
      "[Parallel(n_jobs=-1)]: Using backend LokyBackend with 12 concurrent workers.\n",
      "[Parallel(n_jobs=-1)]: Done   3 out of   3 | elapsed:  2.5min finished\n"
     ]
    },
    {
     "name": "stdout",
     "output_type": "stream",
     "text": [
      "K-Fold #2\n",
      "Mean negativities for all classes: [0.25031760384986607, 0.30230253898662396, 0.3184095820966114]\n",
      "Mean entropies for all classes: [9.523008934802995e-15, 9.949101900183617e-15, 9.059469575982412e-15]\n",
      "              precision    recall  f1-score   support\n",
      "\n",
      "           0       1.00      1.00      1.00         6\n",
      "           1       1.00      1.00      1.00         7\n",
      "           2       1.00      1.00      1.00         5\n",
      "\n",
      "    accuracy                           1.00        18\n",
      "   macro avg       1.00      1.00      1.00        18\n",
      "weighted avg       1.00      1.00      1.00        18\n",
      "\n",
      "-------------------------------------------------------------------------------------------------------------------\n"
     ]
    },
    {
     "name": "stderr",
     "output_type": "stream",
     "text": [
      "[Parallel(n_jobs=-1)]: Using backend LokyBackend with 12 concurrent workers.\n",
      "[Parallel(n_jobs=-1)]: Done   3 out of   3 | elapsed:  2.5min finished\n"
     ]
    },
    {
     "name": "stdout",
     "output_type": "stream",
     "text": [
      "K-Fold #3\n",
      "Mean negativities for all classes: [0.259168807312522, 0.31902726338396536, 0.3190949864188177]\n",
      "Mean entropies for all classes: [9.025864503205707e-15, 9.525810453027418e-15, 9.329308016833411e-15]\n",
      "              precision    recall  f1-score   support\n",
      "\n",
      "           0       1.00      0.83      0.91         6\n",
      "           1       0.83      0.71      0.77         7\n",
      "           2       0.71      1.00      0.83         5\n",
      "\n",
      "    accuracy                           0.83        18\n",
      "   macro avg       0.85      0.85      0.84        18\n",
      "weighted avg       0.86      0.83      0.83        18\n",
      "\n",
      "-------------------------------------------------------------------------------------------------------------------\n"
     ]
    },
    {
     "name": "stderr",
     "output_type": "stream",
     "text": [
      "[Parallel(n_jobs=-1)]: Using backend LokyBackend with 12 concurrent workers.\n",
      "[Parallel(n_jobs=-1)]: Done   3 out of   3 | elapsed:  2.5min finished\n"
     ]
    },
    {
     "name": "stdout",
     "output_type": "stream",
     "text": [
      "K-Fold #4\n",
      "Mean negativities for all classes: [0.2555554122763902, 0.30942173440773585, 0.3184813034514343]\n",
      "Mean entropies for all classes: [9.724786042819244e-15, 1.0008176069999667e-14, 9.338619156185192e-15]\n",
      "              precision    recall  f1-score   support\n",
      "\n",
      "           0       1.00      0.83      0.91         6\n",
      "           1       0.88      1.00      0.93         7\n",
      "           2       1.00      1.00      1.00         5\n",
      "\n",
      "    accuracy                           0.94        18\n",
      "   macro avg       0.96      0.94      0.95        18\n",
      "weighted avg       0.95      0.94      0.94        18\n",
      "\n",
      "-------------------------------------------------------------------------------------------------------------------\n"
     ]
    },
    {
     "name": "stderr",
     "output_type": "stream",
     "text": [
      "[Parallel(n_jobs=-1)]: Using backend LokyBackend with 12 concurrent workers.\n",
      "[Parallel(n_jobs=-1)]: Done   3 out of   3 | elapsed:  2.5min finished\n"
     ]
    },
    {
     "name": "stdout",
     "output_type": "stream",
     "text": [
      "K-Fold #5\n",
      "Mean negativities for all classes: [0.25965670680815145, 0.32327981009166024, 0.3192431364218247]\n",
      "Mean entropies for all classes: [9.4333329656256e-15, 9.857572673912498e-15, 9.081305459417036e-15]\n",
      "              precision    recall  f1-score   support\n",
      "\n",
      "           0       1.00      1.00      1.00         6\n",
      "           1       0.86      0.86      0.86         7\n",
      "           2       0.80      0.80      0.80         5\n",
      "\n",
      "    accuracy                           0.89        18\n",
      "   macro avg       0.89      0.89      0.89        18\n",
      "weighted avg       0.89      0.89      0.89        18\n",
      "\n",
      "-------------------------------------------------------------------------------------------------------------------\n"
     ]
    },
    {
     "name": "stderr",
     "output_type": "stream",
     "text": [
      "[Parallel(n_jobs=-1)]: Using backend LokyBackend with 12 concurrent workers.\n",
      "[Parallel(n_jobs=-1)]: Done   3 out of   3 | elapsed:  2.5min finished\n"
     ]
    },
    {
     "name": "stdout",
     "output_type": "stream",
     "text": [
      "K-Fold #6\n",
      "Mean negativities for all classes: [0.2456736881908389, 0.31184552128771653, 0.31894468897148215]\n",
      "Mean entropies for all classes: [9.607549386311115e-15, 9.330401677521412e-15, 9.264557008111008e-15]\n",
      "              precision    recall  f1-score   support\n",
      "\n",
      "           0       1.00      1.00      1.00         6\n",
      "           1       1.00      1.00      1.00         7\n",
      "           2       1.00      1.00      1.00         5\n",
      "\n",
      "    accuracy                           1.00        18\n",
      "   macro avg       1.00      1.00      1.00        18\n",
      "weighted avg       1.00      1.00      1.00        18\n",
      "\n",
      "-------------------------------------------------------------------------------------------------------------------\n"
     ]
    },
    {
     "name": "stderr",
     "output_type": "stream",
     "text": [
      "[Parallel(n_jobs=-1)]: Using backend LokyBackend with 12 concurrent workers.\n",
      "[Parallel(n_jobs=-1)]: Done   3 out of   3 | elapsed:  2.5min finished\n"
     ]
    },
    {
     "name": "stdout",
     "output_type": "stream",
     "text": [
      "K-Fold #7\n",
      "Mean negativities for all classes: [0.24697723038795796, 0.31068126768706905, 0.3185642608550637]\n",
      "Mean entropies for all classes: [9.784555426708395e-15, 9.470931979448863e-15, 9.425199767339482e-15]\n",
      "              precision    recall  f1-score   support\n",
      "\n",
      "           0       1.00      0.83      0.91         6\n",
      "           1       0.75      0.86      0.80         7\n",
      "           2       0.80      0.80      0.80         5\n",
      "\n",
      "    accuracy                           0.83        18\n",
      "   macro avg       0.85      0.83      0.84        18\n",
      "weighted avg       0.85      0.83      0.84        18\n",
      "\n",
      "-------------------------------------------------------------------------------------------------------------------\n"
     ]
    },
    {
     "name": "stderr",
     "output_type": "stream",
     "text": [
      "[Parallel(n_jobs=-1)]: Using backend LokyBackend with 12 concurrent workers.\n",
      "[Parallel(n_jobs=-1)]: Done   3 out of   3 | elapsed:  2.5min finished\n"
     ]
    },
    {
     "name": "stdout",
     "output_type": "stream",
     "text": [
      "K-Fold #8\n",
      "Mean negativities for all classes: [0.2573207733043667, 0.3131729525267676, 0.3202378487522848]\n",
      "Mean entropies for all classes: [9.666026627610416e-15, 9.95315805927978e-15, 9.290093500233698e-15]\n",
      "              precision    recall  f1-score   support\n",
      "\n",
      "           0       1.00      1.00      1.00         6\n",
      "           1       1.00      0.86      0.92         7\n",
      "           2       0.80      1.00      0.89         4\n",
      "\n",
      "    accuracy                           0.94        17\n",
      "   macro avg       0.93      0.95      0.94        17\n",
      "weighted avg       0.95      0.94      0.94        17\n",
      "\n",
      "-------------------------------------------------------------------------------------------------------------------\n"
     ]
    },
    {
     "name": "stderr",
     "output_type": "stream",
     "text": [
      "[Parallel(n_jobs=-1)]: Using backend LokyBackend with 12 concurrent workers.\n",
      "[Parallel(n_jobs=-1)]: Done   3 out of   3 | elapsed:  2.5min finished\n"
     ]
    },
    {
     "name": "stdout",
     "output_type": "stream",
     "text": [
      "K-Fold #9\n",
      "Mean negativities for all classes: [0.2537951943288718, 0.31597553817691726, 0.31914522805076573]\n",
      "Mean entropies for all classes: [9.754808686011746e-15, 9.424980110873367e-15, 9.693032023944043e-15]\n",
      "              precision    recall  f1-score   support\n",
      "\n",
      "           0       0.83      1.00      0.91         5\n",
      "           1       1.00      0.75      0.86         8\n",
      "           2       0.80      1.00      0.89         4\n",
      "\n",
      "    accuracy                           0.88        17\n",
      "   macro avg       0.88      0.92      0.89        17\n",
      "weighted avg       0.90      0.88      0.88        17\n",
      "\n",
      "-------------------------------------------------------------------------------------------------------------------\n",
      "AVG: Scores = 0.8990196078431373 F1-Scores = 0.8998079698079697 Negativity = [0.2954144022425285, 0.3005852967203023, 0.29034324164436714] Entropy = [9.278269666029023e-15, 9.295482527484857e-15, 9.510526803656342e-15]\n"
     ]
    },
    {
     "name": "stderr",
     "output_type": "stream",
     "text": [
      "[Parallel(n_jobs=-1)]: Using backend LokyBackend with 12 concurrent workers.\n",
      "[Parallel(n_jobs=-1)]: Done   3 out of   3 | elapsed:  2.5min finished\n"
     ]
    },
    {
     "name": "stdout",
     "output_type": "stream",
     "text": [
      "K-Fold #0\n",
      "Mean negativities for all classes: [0.25254457752742127, 0.3090710430467814, 0.33801106424748684]\n",
      "Mean entropies for all classes: [1.0365008586042762e-14, 9.946707529429553e-15, 7.772348519296192e-15]\n",
      "              precision    recall  f1-score   support\n",
      "\n",
      "           0       1.00      1.00      1.00         6\n",
      "           1       1.00      0.86      0.92         7\n",
      "           2       0.83      1.00      0.91         5\n",
      "\n",
      "    accuracy                           0.94        18\n",
      "   macro avg       0.94      0.95      0.94        18\n",
      "weighted avg       0.95      0.94      0.94        18\n",
      "\n",
      "-------------------------------------------------------------------------------------------------------------------\n"
     ]
    },
    {
     "name": "stderr",
     "output_type": "stream",
     "text": [
      "[Parallel(n_jobs=-1)]: Using backend LokyBackend with 12 concurrent workers.\n",
      "[Parallel(n_jobs=-1)]: Done   3 out of   3 | elapsed:  2.5min finished\n"
     ]
    },
    {
     "name": "stdout",
     "output_type": "stream",
     "text": [
      "K-Fold #1\n",
      "Mean negativities for all classes: [0.26281672741787926, 0.3148637507638186, 0.318628135853793]\n",
      "Mean entropies for all classes: [9.747264970927198e-15, 9.715518897257052e-15, 9.242938776250552e-15]\n",
      "              precision    recall  f1-score   support\n",
      "\n",
      "           0       1.00      1.00      1.00         6\n",
      "           1       1.00      0.86      0.92         7\n",
      "           2       0.83      1.00      0.91         5\n",
      "\n",
      "    accuracy                           0.94        18\n",
      "   macro avg       0.94      0.95      0.94        18\n",
      "weighted avg       0.95      0.94      0.94        18\n",
      "\n",
      "-------------------------------------------------------------------------------------------------------------------\n"
     ]
    },
    {
     "name": "stderr",
     "output_type": "stream",
     "text": [
      "[Parallel(n_jobs=-1)]: Using backend LokyBackend with 12 concurrent workers.\n",
      "[Parallel(n_jobs=-1)]: Done   3 out of   3 | elapsed:  2.5min finished\n"
     ]
    },
    {
     "name": "stdout",
     "output_type": "stream",
     "text": [
      "K-Fold #2\n",
      "Mean negativities for all classes: [0.2457558833754946, 0.3139183976472235, 0.32409567144718854]\n",
      "Mean entropies for all classes: [9.669857127768584e-15, 9.7461852046649e-15, 5.46551945567145e-15]\n",
      "              precision    recall  f1-score   support\n",
      "\n",
      "           0       0.86      1.00      0.92         6\n",
      "           1       1.00      0.71      0.83         7\n",
      "           2       0.83      1.00      0.91         5\n",
      "\n",
      "    accuracy                           0.89        18\n",
      "   macro avg       0.90      0.90      0.89        18\n",
      "weighted avg       0.91      0.89      0.88        18\n",
      "\n",
      "-------------------------------------------------------------------------------------------------------------------\n"
     ]
    },
    {
     "name": "stderr",
     "output_type": "stream",
     "text": [
      "[Parallel(n_jobs=-1)]: Using backend LokyBackend with 12 concurrent workers.\n",
      "[Parallel(n_jobs=-1)]: Done   3 out of   3 | elapsed:  2.5min finished\n"
     ]
    },
    {
     "name": "stdout",
     "output_type": "stream",
     "text": [
      "K-Fold #3\n",
      "Mean negativities for all classes: [0.24760806692392767, 0.31391454704638055, 0.31909504446597076]\n",
      "Mean entropies for all classes: [9.395933249221549e-15, 9.484985106870664e-15, 9.244546385608104e-15]\n",
      "              precision    recall  f1-score   support\n",
      "\n",
      "           0       1.00      1.00      1.00         6\n",
      "           1       1.00      0.86      0.92         7\n",
      "           2       0.83      1.00      0.91         5\n",
      "\n",
      "    accuracy                           0.94        18\n",
      "   macro avg       0.94      0.95      0.94        18\n",
      "weighted avg       0.95      0.94      0.94        18\n",
      "\n",
      "-------------------------------------------------------------------------------------------------------------------\n"
     ]
    },
    {
     "name": "stderr",
     "output_type": "stream",
     "text": [
      "[Parallel(n_jobs=-1)]: Using backend LokyBackend with 12 concurrent workers.\n",
      "[Parallel(n_jobs=-1)]: Done   3 out of   3 | elapsed:  2.5min finished\n"
     ]
    },
    {
     "name": "stdout",
     "output_type": "stream",
     "text": [
      "K-Fold #4\n",
      "Mean negativities for all classes: [0.24468532224183098, 0.3123084768624393, 0.3410136371039832]\n",
      "Mean entropies for all classes: [9.747472471330532e-15, 9.577548911685357e-15, 1.2982432775400666e-14]\n",
      "              precision    recall  f1-score   support\n",
      "\n",
      "           0       1.00      1.00      1.00         6\n",
      "           1       1.00      1.00      1.00         7\n",
      "           2       1.00      1.00      1.00         5\n",
      "\n",
      "    accuracy                           1.00        18\n",
      "   macro avg       1.00      1.00      1.00        18\n",
      "weighted avg       1.00      1.00      1.00        18\n",
      "\n",
      "-------------------------------------------------------------------------------------------------------------------\n"
     ]
    },
    {
     "name": "stderr",
     "output_type": "stream",
     "text": [
      "[Parallel(n_jobs=-1)]: Using backend LokyBackend with 12 concurrent workers.\n",
      "[Parallel(n_jobs=-1)]: Done   3 out of   3 | elapsed:  2.5min finished\n"
     ]
    },
    {
     "name": "stdout",
     "output_type": "stream",
     "text": [
      "K-Fold #5\n",
      "Mean negativities for all classes: [0.2469289873525362, 0.31847529309661493, 0.3189838994170941]\n",
      "Mean entropies for all classes: [9.967982633684504e-15, 9.690585920547917e-15, 9.23858675403752e-15]\n",
      "              precision    recall  f1-score   support\n",
      "\n",
      "           0       1.00      1.00      1.00         6\n",
      "           1       0.86      0.86      0.86         7\n",
      "           2       0.80      0.80      0.80         5\n",
      "\n",
      "    accuracy                           0.89        18\n",
      "   macro avg       0.89      0.89      0.89        18\n",
      "weighted avg       0.89      0.89      0.89        18\n",
      "\n",
      "-------------------------------------------------------------------------------------------------------------------\n"
     ]
    },
    {
     "name": "stderr",
     "output_type": "stream",
     "text": [
      "[Parallel(n_jobs=-1)]: Using backend LokyBackend with 12 concurrent workers.\n",
      "[Parallel(n_jobs=-1)]: Done   3 out of   3 | elapsed:  2.5min finished\n"
     ]
    },
    {
     "name": "stdout",
     "output_type": "stream",
     "text": [
      "K-Fold #6\n",
      "Mean negativities for all classes: [0.2741330027551111, 0.3125808444160919, 0.31888549013783496]\n",
      "Mean entropies for all classes: [9.847720088157018e-15, 9.932883281669779e-15, 9.746109912198219e-15]\n",
      "              precision    recall  f1-score   support\n",
      "\n",
      "           0       1.00      0.67      0.80         6\n",
      "           1       0.75      0.86      0.80         7\n",
      "           2       0.83      1.00      0.91         5\n",
      "\n",
      "    accuracy                           0.83        18\n",
      "   macro avg       0.86      0.84      0.84        18\n",
      "weighted avg       0.86      0.83      0.83        18\n",
      "\n",
      "-------------------------------------------------------------------------------------------------------------------\n"
     ]
    },
    {
     "name": "stderr",
     "output_type": "stream",
     "text": [
      "[Parallel(n_jobs=-1)]: Using backend LokyBackend with 12 concurrent workers.\n",
      "[Parallel(n_jobs=-1)]: Done   3 out of   3 | elapsed:  2.5min finished\n"
     ]
    },
    {
     "name": "stdout",
     "output_type": "stream",
     "text": [
      "K-Fold #7\n",
      "Mean negativities for all classes: [0.2611847180744131, 0.321147938580819, 0.3184083582529618]\n",
      "Mean entropies for all classes: [9.827093800287311e-15, 9.750327353185967e-15, 9.293149594062135e-15]\n",
      "              precision    recall  f1-score   support\n",
      "\n",
      "           0       1.00      1.00      1.00         6\n",
      "           1       1.00      0.86      0.92         7\n",
      "           2       0.83      1.00      0.91         5\n",
      "\n",
      "    accuracy                           0.94        18\n",
      "   macro avg       0.94      0.95      0.94        18\n",
      "weighted avg       0.95      0.94      0.94        18\n",
      "\n",
      "-------------------------------------------------------------------------------------------------------------------\n"
     ]
    },
    {
     "name": "stderr",
     "output_type": "stream",
     "text": [
      "[Parallel(n_jobs=-1)]: Using backend LokyBackend with 12 concurrent workers.\n",
      "C:\\Users\\Eduardo Barreto\\AppData\\Roaming\\Python\\Python39\\site-packages\\joblib\\externals\\loky\\process_executor.py:700: UserWarning: A worker stopped while some jobs were given to the executor. This can be caused by a too short worker timeout or by a memory leak.\n",
      "  warnings.warn(\n",
      "[Parallel(n_jobs=-1)]: Done   3 out of   3 | elapsed:  2.5min finished\n"
     ]
    },
    {
     "name": "stdout",
     "output_type": "stream",
     "text": [
      "K-Fold #8\n",
      "Mean negativities for all classes: [0.25220840641520265, 0.30765199812106697, 0.3202748614067365]\n",
      "Mean entropies for all classes: [9.507023036222388e-15, 9.415946847987684e-15, 9.727088428411924e-15]\n",
      "              precision    recall  f1-score   support\n",
      "\n",
      "           0       1.00      1.00      1.00         6\n",
      "           1       1.00      0.86      0.92         7\n",
      "           2       0.80      1.00      0.89         4\n",
      "\n",
      "    accuracy                           0.94        17\n",
      "   macro avg       0.93      0.95      0.94        17\n",
      "weighted avg       0.95      0.94      0.94        17\n",
      "\n",
      "-------------------------------------------------------------------------------------------------------------------\n"
     ]
    },
    {
     "name": "stderr",
     "output_type": "stream",
     "text": [
      "[Parallel(n_jobs=-1)]: Using backend LokyBackend with 12 concurrent workers.\n",
      "[Parallel(n_jobs=-1)]: Done   3 out of   3 | elapsed:  2.5min finished\n"
     ]
    },
    {
     "name": "stdout",
     "output_type": "stream",
     "text": [
      "K-Fold #9\n",
      "Mean negativities for all classes: [0.24494239903714252, 0.3068034667499808, 0.3192016050498147]\n",
      "Mean entropies for all classes: [9.222216078959836e-15, 9.642758300283558e-15, 9.343736200989018e-15]\n",
      "              precision    recall  f1-score   support\n",
      "\n",
      "           0       0.83      1.00      0.91         5\n",
      "           1       1.00      0.62      0.77         8\n",
      "           2       0.67      1.00      0.80         4\n",
      "\n",
      "    accuracy                           0.82        17\n",
      "   macro avg       0.83      0.88      0.83        17\n",
      "weighted avg       0.87      0.82      0.82        17\n",
      "\n",
      "-------------------------------------------------------------------------------------------------------------------\n",
      "AVG: Scores = 0.9153594771241831 F1-Scores = 0.9150231250231251 Negativity = [0.29987556160722983, 0.2987695380118303, 0.29458998415663556] Entropy = [9.361354878256169e-15, 9.568574214811599e-15, 8.29385392936831e-15]\n"
     ]
    },
    {
     "name": "stderr",
     "output_type": "stream",
     "text": [
      "[Parallel(n_jobs=-1)]: Using backend LokyBackend with 12 concurrent workers.\n",
      "[Parallel(n_jobs=-1)]: Done   3 out of   3 | elapsed:  2.5min finished\n"
     ]
    },
    {
     "name": "stdout",
     "output_type": "stream",
     "text": [
      "K-Fold #0\n",
      "Mean negativities for all classes: [0.24089414045554042, 0.3076474977762296, 0.3198474561725945]\n",
      "Mean entropies for all classes: [9.640651836559274e-15, 9.657425320295829e-15, 9.436931477489099e-15]\n",
      "              precision    recall  f1-score   support\n",
      "\n",
      "           0       1.00      0.83      0.91         6\n",
      "           1       0.88      1.00      0.93         7\n",
      "           2       1.00      1.00      1.00         5\n",
      "\n",
      "    accuracy                           0.94        18\n",
      "   macro avg       0.96      0.94      0.95        18\n",
      "weighted avg       0.95      0.94      0.94        18\n",
      "\n",
      "-------------------------------------------------------------------------------------------------------------------\n"
     ]
    },
    {
     "name": "stderr",
     "output_type": "stream",
     "text": [
      "[Parallel(n_jobs=-1)]: Using backend LokyBackend with 12 concurrent workers.\n",
      "[Parallel(n_jobs=-1)]: Done   3 out of   3 | elapsed:  2.5min finished\n"
     ]
    },
    {
     "name": "stdout",
     "output_type": "stream",
     "text": [
      "K-Fold #1\n",
      "Mean negativities for all classes: [0.25398757172292874, 0.3119291304909513, 0.3203694626392626]\n",
      "Mean entropies for all classes: [9.452399428090047e-15, 9.162168713802371e-15, 9.244309830731245e-15]\n",
      "              precision    recall  f1-score   support\n",
      "\n",
      "           0       1.00      1.00      1.00         6\n",
      "           1       0.86      0.86      0.86         7\n",
      "           2       0.80      0.80      0.80         5\n",
      "\n",
      "    accuracy                           0.89        18\n",
      "   macro avg       0.89      0.89      0.89        18\n",
      "weighted avg       0.89      0.89      0.89        18\n",
      "\n",
      "-------------------------------------------------------------------------------------------------------------------\n"
     ]
    },
    {
     "name": "stderr",
     "output_type": "stream",
     "text": [
      "[Parallel(n_jobs=-1)]: Using backend LokyBackend with 12 concurrent workers.\n",
      "[Parallel(n_jobs=-1)]: Done   3 out of   3 | elapsed:  2.5min finished\n"
     ]
    },
    {
     "name": "stdout",
     "output_type": "stream",
     "text": [
      "K-Fold #2\n",
      "Mean negativities for all classes: [0.25722860173042267, 0.31206480581883617, 0.3191318414261455]\n",
      "Mean entropies for all classes: [9.928842528768601e-15, 9.774291885200462e-15, 9.552520188577887e-15]\n",
      "              precision    recall  f1-score   support\n",
      "\n",
      "           0       1.00      0.83      0.91         6\n",
      "           1       0.83      0.71      0.77         7\n",
      "           2       0.71      1.00      0.83         5\n",
      "\n",
      "    accuracy                           0.83        18\n",
      "   macro avg       0.85      0.85      0.84        18\n",
      "weighted avg       0.86      0.83      0.83        18\n",
      "\n",
      "-------------------------------------------------------------------------------------------------------------------\n"
     ]
    },
    {
     "name": "stderr",
     "output_type": "stream",
     "text": [
      "[Parallel(n_jobs=-1)]: Using backend LokyBackend with 12 concurrent workers.\n",
      "[Parallel(n_jobs=-1)]: Done   3 out of   3 | elapsed:  2.6min finished\n"
     ]
    },
    {
     "name": "stdout",
     "output_type": "stream",
     "text": [
      "K-Fold #3\n",
      "Mean negativities for all classes: [0.26137085406755795, 0.31254991088016465, 0.32914458602196006]\n",
      "Mean entropies for all classes: [9.192182926091658e-15, 9.216607306288134e-15, 1.0128771086478322e-14]\n",
      "              precision    recall  f1-score   support\n",
      "\n",
      "           0       1.00      0.83      0.91         6\n",
      "           1       0.86      0.86      0.86         7\n",
      "           2       0.83      1.00      0.91         5\n",
      "\n",
      "    accuracy                           0.89        18\n",
      "   macro avg       0.90      0.90      0.89        18\n",
      "weighted avg       0.90      0.89      0.89        18\n",
      "\n",
      "-------------------------------------------------------------------------------------------------------------------\n"
     ]
    },
    {
     "name": "stderr",
     "output_type": "stream",
     "text": [
      "[Parallel(n_jobs=-1)]: Using backend LokyBackend with 12 concurrent workers.\n",
      "[Parallel(n_jobs=-1)]: Done   3 out of   3 | elapsed:  2.5min finished\n"
     ]
    },
    {
     "name": "stdout",
     "output_type": "stream",
     "text": [
      "K-Fold #4\n",
      "Mean negativities for all classes: [0.24572693252341787, 0.3151902869603788, 0.31843509223762845]\n",
      "Mean entropies for all classes: [9.382554903610406e-15, 9.332249776783502e-15, 9.007032042821874e-15]\n",
      "              precision    recall  f1-score   support\n",
      "\n",
      "           0       1.00      1.00      1.00         6\n",
      "           1       1.00      0.71      0.83         7\n",
      "           2       0.71      1.00      0.83         5\n",
      "\n",
      "    accuracy                           0.89        18\n",
      "   macro avg       0.90      0.90      0.89        18\n",
      "weighted avg       0.92      0.89      0.89        18\n",
      "\n",
      "-------------------------------------------------------------------------------------------------------------------\n"
     ]
    },
    {
     "name": "stderr",
     "output_type": "stream",
     "text": [
      "[Parallel(n_jobs=-1)]: Using backend LokyBackend with 12 concurrent workers.\n",
      "[Parallel(n_jobs=-1)]: Done   3 out of   3 | elapsed:  2.5min finished\n"
     ]
    },
    {
     "name": "stdout",
     "output_type": "stream",
     "text": [
      "K-Fold #5\n",
      "Mean negativities for all classes: [0.24558760707378133, 0.31940685157989573, 0.3184590304212322]\n",
      "Mean entropies for all classes: [1.003887399117279e-14, 9.893617325220994e-15, 8.963170200503943e-15]\n",
      "              precision    recall  f1-score   support\n",
      "\n",
      "           0       1.00      1.00      1.00         6\n",
      "           1       1.00      1.00      1.00         7\n",
      "           2       1.00      1.00      1.00         5\n",
      "\n",
      "    accuracy                           1.00        18\n",
      "   macro avg       1.00      1.00      1.00        18\n",
      "weighted avg       1.00      1.00      1.00        18\n",
      "\n",
      "-------------------------------------------------------------------------------------------------------------------\n"
     ]
    },
    {
     "name": "stderr",
     "output_type": "stream",
     "text": [
      "[Parallel(n_jobs=-1)]: Using backend LokyBackend with 12 concurrent workers.\n",
      "[Parallel(n_jobs=-1)]: Done   3 out of   3 | elapsed:  2.5min finished\n"
     ]
    },
    {
     "name": "stdout",
     "output_type": "stream",
     "text": [
      "K-Fold #6\n",
      "Mean negativities for all classes: [0.26492982575826907, 0.3105548551022214, 0.3190063250611101]\n",
      "Mean entropies for all classes: [9.231562205056715e-15, 9.226783865847965e-15, 8.97348292105689e-15]\n",
      "              precision    recall  f1-score   support\n",
      "\n",
      "           0       1.00      1.00      1.00         6\n",
      "           1       1.00      1.00      1.00         7\n",
      "           2       1.00      1.00      1.00         5\n",
      "\n",
      "    accuracy                           1.00        18\n",
      "   macro avg       1.00      1.00      1.00        18\n",
      "weighted avg       1.00      1.00      1.00        18\n",
      "\n",
      "-------------------------------------------------------------------------------------------------------------------\n"
     ]
    },
    {
     "name": "stderr",
     "output_type": "stream",
     "text": [
      "[Parallel(n_jobs=-1)]: Using backend LokyBackend with 12 concurrent workers.\n",
      "[Parallel(n_jobs=-1)]: Done   3 out of   3 | elapsed:  2.5min finished\n"
     ]
    },
    {
     "name": "stdout",
     "output_type": "stream",
     "text": [
      "K-Fold #7\n",
      "Mean negativities for all classes: [0.2534734070132064, 0.30901591023166536, 0.31889366096962546]\n",
      "Mean entropies for all classes: [9.889737398928018e-15, 9.477717962644095e-15, 9.193254764527676e-15]\n",
      "              precision    recall  f1-score   support\n",
      "\n",
      "           0       1.00      0.83      0.91         6\n",
      "           1       0.78      1.00      0.88         7\n",
      "           2       1.00      0.80      0.89         5\n",
      "\n",
      "    accuracy                           0.89        18\n",
      "   macro avg       0.93      0.88      0.89        18\n",
      "weighted avg       0.91      0.89      0.89        18\n",
      "\n",
      "-------------------------------------------------------------------------------------------------------------------\n"
     ]
    },
    {
     "name": "stderr",
     "output_type": "stream",
     "text": [
      "[Parallel(n_jobs=-1)]: Using backend LokyBackend with 12 concurrent workers.\n",
      "[Parallel(n_jobs=-1)]: Done   3 out of   3 | elapsed:  2.5min finished\n"
     ]
    },
    {
     "name": "stdout",
     "output_type": "stream",
     "text": [
      "K-Fold #8\n",
      "Mean negativities for all classes: [0.26158342302331766, 0.31194677319354647, 0.31917998560347577]\n",
      "Mean entropies for all classes: [9.75735074368185e-15, 1.0002213528247543e-14, 9.181315219993591e-15]\n",
      "              precision    recall  f1-score   support\n",
      "\n",
      "           0       1.00      0.83      0.91         6\n",
      "           1       0.88      1.00      0.93         7\n",
      "           2       1.00      1.00      1.00         4\n",
      "\n",
      "    accuracy                           0.94        17\n",
      "   macro avg       0.96      0.94      0.95        17\n",
      "weighted avg       0.95      0.94      0.94        17\n",
      "\n",
      "-------------------------------------------------------------------------------------------------------------------\n"
     ]
    },
    {
     "name": "stderr",
     "output_type": "stream",
     "text": [
      "[Parallel(n_jobs=-1)]: Using backend LokyBackend with 12 concurrent workers.\n",
      "[Parallel(n_jobs=-1)]: Done   3 out of   3 | elapsed:  2.5min finished\n"
     ]
    },
    {
     "name": "stdout",
     "output_type": "stream",
     "text": [
      "K-Fold #9\n",
      "Mean negativities for all classes: [0.2391359966164952, 0.3128109116505846, 0.31889207390386154]\n",
      "Mean entropies for all classes: [9.161185242574432e-15, 9.025954873386048e-15, 8.984106469628177e-15]\n",
      "              precision    recall  f1-score   support\n",
      "\n",
      "           0       0.83      1.00      0.91         5\n",
      "           1       1.00      0.88      0.93         8\n",
      "           2       1.00      1.00      1.00         4\n",
      "\n",
      "    accuracy                           0.94        17\n",
      "   macro avg       0.94      0.96      0.95        17\n",
      "weighted avg       0.95      0.94      0.94        17\n",
      "\n",
      "-------------------------------------------------------------------------------------------------------------------\n",
      "AVG: Scores = 0.9215686274509803 F1-Scores = 0.923701391201391 Negativity = [0.2894630314681215, 0.2954287216177142, 0.2961417496584681] Entropy = [9.578336211448068e-15, 9.28629265754122e-15, 9.75188486751565e-15]\n"
     ]
    },
    {
     "name": "stderr",
     "output_type": "stream",
     "text": [
      "[Parallel(n_jobs=-1)]: Using backend LokyBackend with 12 concurrent workers.\n",
      "[Parallel(n_jobs=-1)]: Done   3 out of   3 | elapsed:  2.5min finished\n"
     ]
    },
    {
     "name": "stdout",
     "output_type": "stream",
     "text": [
      "K-Fold #0\n",
      "Mean negativities for all classes: [0.24696695411714012, 0.3178116759883372, 0.318081908200458]\n",
      "Mean entropies for all classes: [9.38191965805019e-15, 9.701229504541267e-15, 9.042915332685867e-15]\n",
      "              precision    recall  f1-score   support\n",
      "\n",
      "           0       1.00      1.00      1.00         6\n",
      "           1       1.00      1.00      1.00         7\n",
      "           2       1.00      1.00      1.00         5\n",
      "\n",
      "    accuracy                           1.00        18\n",
      "   macro avg       1.00      1.00      1.00        18\n",
      "weighted avg       1.00      1.00      1.00        18\n",
      "\n",
      "-------------------------------------------------------------------------------------------------------------------\n"
     ]
    },
    {
     "name": "stderr",
     "output_type": "stream",
     "text": [
      "[Parallel(n_jobs=-1)]: Using backend LokyBackend with 12 concurrent workers.\n",
      "[Parallel(n_jobs=-1)]: Done   3 out of   3 | elapsed:  2.5min finished\n"
     ]
    },
    {
     "name": "stdout",
     "output_type": "stream",
     "text": [
      "K-Fold #1\n",
      "Mean negativities for all classes: [0.25166920678821136, 0.3170523862866598, 0.3200239829931884]\n",
      "Mean entropies for all classes: [9.259459812987158e-15, 9.665522136443758e-15, 9.556813089936623e-15]\n",
      "              precision    recall  f1-score   support\n",
      "\n",
      "           0       1.00      1.00      1.00         6\n",
      "           1       1.00      0.71      0.83         7\n",
      "           2       0.71      1.00      0.83         5\n",
      "\n",
      "    accuracy                           0.89        18\n",
      "   macro avg       0.90      0.90      0.89        18\n",
      "weighted avg       0.92      0.89      0.89        18\n",
      "\n",
      "-------------------------------------------------------------------------------------------------------------------\n"
     ]
    },
    {
     "name": "stderr",
     "output_type": "stream",
     "text": [
      "[Parallel(n_jobs=-1)]: Using backend LokyBackend with 12 concurrent workers.\n",
      "[Parallel(n_jobs=-1)]: Done   3 out of   3 | elapsed:  2.5min finished\n"
     ]
    },
    {
     "name": "stdout",
     "output_type": "stream",
     "text": [
      "K-Fold #2\n",
      "Mean negativities for all classes: [0.2505597467676053, 0.31738056304966455, 0.31881978234883834]\n",
      "Mean entropies for all classes: [9.583772622482786e-15, 9.54282974812417e-15, 9.047777536315867e-15]\n",
      "              precision    recall  f1-score   support\n",
      "\n",
      "           0       1.00      1.00      1.00         6\n",
      "           1       1.00      0.57      0.73         7\n",
      "           2       0.62      1.00      0.77         5\n",
      "\n",
      "    accuracy                           0.83        18\n",
      "   macro avg       0.88      0.86      0.83        18\n",
      "weighted avg       0.90      0.83      0.83        18\n",
      "\n",
      "-------------------------------------------------------------------------------------------------------------------\n"
     ]
    },
    {
     "name": "stderr",
     "output_type": "stream",
     "text": [
      "[Parallel(n_jobs=-1)]: Using backend LokyBackend with 12 concurrent workers.\n",
      "[Parallel(n_jobs=-1)]: Done   3 out of   3 | elapsed:  2.5min finished\n"
     ]
    },
    {
     "name": "stdout",
     "output_type": "stream",
     "text": [
      "K-Fold #3\n",
      "Mean negativities for all classes: [0.25495657955575507, 0.3093726751348432, 0.31867581331957695]\n",
      "Mean entropies for all classes: [9.563575187022038e-15, 9.626981684181641e-15, 9.334928609484141e-15]\n",
      "              precision    recall  f1-score   support\n",
      "\n",
      "           0       1.00      0.83      0.91         6\n",
      "           1       0.86      0.86      0.86         7\n",
      "           2       0.83      1.00      0.91         5\n",
      "\n",
      "    accuracy                           0.89        18\n",
      "   macro avg       0.90      0.90      0.89        18\n",
      "weighted avg       0.90      0.89      0.89        18\n",
      "\n",
      "-------------------------------------------------------------------------------------------------------------------\n"
     ]
    },
    {
     "name": "stderr",
     "output_type": "stream",
     "text": [
      "[Parallel(n_jobs=-1)]: Using backend LokyBackend with 12 concurrent workers.\n",
      "[Parallel(n_jobs=-1)]: Done   3 out of   3 | elapsed:  2.5min finished\n"
     ]
    },
    {
     "name": "stdout",
     "output_type": "stream",
     "text": [
      "K-Fold #4\n",
      "Mean negativities for all classes: [0.25626378370002345, 0.31413469417940354, 0.318491241531774]\n",
      "Mean entropies for all classes: [9.279765986732502e-15, 9.54249782487375e-15, 9.26796244490945e-15]\n",
      "              precision    recall  f1-score   support\n",
      "\n",
      "           0       1.00      1.00      1.00         6\n",
      "           1       1.00      1.00      1.00         7\n",
      "           2       1.00      1.00      1.00         5\n",
      "\n",
      "    accuracy                           1.00        18\n",
      "   macro avg       1.00      1.00      1.00        18\n",
      "weighted avg       1.00      1.00      1.00        18\n",
      "\n",
      "-------------------------------------------------------------------------------------------------------------------\n"
     ]
    },
    {
     "name": "stderr",
     "output_type": "stream",
     "text": [
      "[Parallel(n_jobs=-1)]: Using backend LokyBackend with 12 concurrent workers.\n",
      "[Parallel(n_jobs=-1)]: Done   3 out of   3 | elapsed:  2.5min finished\n"
     ]
    },
    {
     "name": "stdout",
     "output_type": "stream",
     "text": [
      "K-Fold #5\n",
      "Mean negativities for all classes: [0.2654248237251118, 0.31604806499741783, 0.3181298598239152]\n",
      "Mean entropies for all classes: [9.9089775557149e-15, 9.644497997856883e-15, 8.98775576083923e-15]\n",
      "              precision    recall  f1-score   support\n",
      "\n",
      "           0       1.00      0.83      0.91         6\n",
      "           1       0.86      0.86      0.86         7\n",
      "           2       0.83      1.00      0.91         5\n",
      "\n",
      "    accuracy                           0.89        18\n",
      "   macro avg       0.90      0.90      0.89        18\n",
      "weighted avg       0.90      0.89      0.89        18\n",
      "\n",
      "-------------------------------------------------------------------------------------------------------------------\n"
     ]
    },
    {
     "name": "stderr",
     "output_type": "stream",
     "text": [
      "[Parallel(n_jobs=-1)]: Using backend LokyBackend with 12 concurrent workers.\n",
      "[Parallel(n_jobs=-1)]: Done   3 out of   3 | elapsed:  2.5min finished\n"
     ]
    },
    {
     "name": "stdout",
     "output_type": "stream",
     "text": [
      "K-Fold #6\n",
      "Mean negativities for all classes: [0.2416311932116728, 0.3174959829979323, 0.3200106938081555]\n",
      "Mean entropies for all classes: [9.354938826272181e-15, 9.522428052833808e-15, 8.993265864430388e-15]\n",
      "              precision    recall  f1-score   support\n",
      "\n",
      "           0       1.00      1.00      1.00         6\n",
      "           1       0.88      1.00      0.93         7\n",
      "           2       1.00      0.80      0.89         5\n",
      "\n",
      "    accuracy                           0.94        18\n",
      "   macro avg       0.96      0.93      0.94        18\n",
      "weighted avg       0.95      0.94      0.94        18\n",
      "\n",
      "-------------------------------------------------------------------------------------------------------------------\n"
     ]
    },
    {
     "name": "stderr",
     "output_type": "stream",
     "text": [
      "[Parallel(n_jobs=-1)]: Using backend LokyBackend with 12 concurrent workers.\n",
      "[Parallel(n_jobs=-1)]: Done   3 out of   3 | elapsed:  2.5min finished\n"
     ]
    },
    {
     "name": "stdout",
     "output_type": "stream",
     "text": [
      "K-Fold #7\n",
      "Mean negativities for all classes: [0.25415017918322624, 0.3076327413191882, 0.32040210089154003]\n",
      "Mean entropies for all classes: [8.950310339947593e-15, 9.739763998338524e-15, 9.266263074610804e-15]\n",
      "              precision    recall  f1-score   support\n",
      "\n",
      "           0       1.00      1.00      1.00         6\n",
      "           1       1.00      1.00      1.00         7\n",
      "           2       1.00      1.00      1.00         5\n",
      "\n",
      "    accuracy                           1.00        18\n",
      "   macro avg       1.00      1.00      1.00        18\n",
      "weighted avg       1.00      1.00      1.00        18\n",
      "\n",
      "-------------------------------------------------------------------------------------------------------------------\n"
     ]
    },
    {
     "name": "stderr",
     "output_type": "stream",
     "text": [
      "[Parallel(n_jobs=-1)]: Using backend LokyBackend with 12 concurrent workers.\n",
      "[Parallel(n_jobs=-1)]: Done   3 out of   3 | elapsed:  2.5min finished\n"
     ]
    },
    {
     "name": "stdout",
     "output_type": "stream",
     "text": [
      "K-Fold #8\n",
      "Mean negativities for all classes: [0.2593743563687968, 0.3174871653941138, 0.31878319434696295]\n",
      "Mean entropies for all classes: [9.948078734049452e-15, 9.511883113178173e-15, 9.43614387670927e-15]\n",
      "              precision    recall  f1-score   support\n",
      "\n",
      "           0       1.00      1.00      1.00         6\n",
      "           1       0.88      1.00      0.93         7\n",
      "           2       1.00      0.75      0.86         4\n",
      "\n",
      "    accuracy                           0.94        17\n",
      "   macro avg       0.96      0.92      0.93        17\n",
      "weighted avg       0.95      0.94      0.94        17\n",
      "\n",
      "-------------------------------------------------------------------------------------------------------------------\n"
     ]
    },
    {
     "name": "stderr",
     "output_type": "stream",
     "text": [
      "[Parallel(n_jobs=-1)]: Using backend LokyBackend with 12 concurrent workers.\n",
      "[Parallel(n_jobs=-1)]: Done   3 out of   3 | elapsed:  2.5min finished\n"
     ]
    },
    {
     "name": "stdout",
     "output_type": "stream",
     "text": [
      "K-Fold #9\n",
      "Mean negativities for all classes: [0.24750036442973702, 0.31387830870033967, 0.31859841483222284]\n",
      "Mean entropies for all classes: [9.856251471182758e-15, 9.628631113162696e-15, 9.412599106692316e-15]\n",
      "              precision    recall  f1-score   support\n",
      "\n",
      "           0       1.00      1.00      1.00         5\n",
      "           1       1.00      0.88      0.93         8\n",
      "           2       0.80      1.00      0.89         4\n",
      "\n",
      "    accuracy                           0.94        17\n",
      "   macro avg       0.93      0.96      0.94        17\n",
      "weighted avg       0.95      0.94      0.94        17\n",
      "\n",
      "-------------------------------------------------------------------------------------------------------------------\n",
      "AVG: Scores = 0.9326797385620915 F1-Scores = 0.9316246716246717 Negativity = [0.29428684610197847, 0.29624852535601987, 0.29558669738870275] Entropy = [9.375354831759108e-15, 9.493931679789178e-15, 9.391459968974275e-15]\n"
     ]
    },
    {
     "name": "stderr",
     "output_type": "stream",
     "text": [
      "[Parallel(n_jobs=-1)]: Using backend LokyBackend with 12 concurrent workers.\n",
      "[Parallel(n_jobs=-1)]: Done   3 out of   3 | elapsed:  2.5min finished\n"
     ]
    },
    {
     "name": "stdout",
     "output_type": "stream",
     "text": [
      "K-Fold #0\n",
      "Mean negativities for all classes: [0.2586962473527577, 0.3184488644008121, 0.31887997865449075]\n",
      "Mean entropies for all classes: [9.46777679630237e-15, 9.292046431531977e-15, 9.175143409590791e-15]\n",
      "              precision    recall  f1-score   support\n",
      "\n",
      "           0       1.00      1.00      1.00         6\n",
      "           1       1.00      0.71      0.83         7\n",
      "           2       0.71      1.00      0.83         5\n",
      "\n",
      "    accuracy                           0.89        18\n",
      "   macro avg       0.90      0.90      0.89        18\n",
      "weighted avg       0.92      0.89      0.89        18\n",
      "\n",
      "-------------------------------------------------------------------------------------------------------------------\n"
     ]
    },
    {
     "name": "stderr",
     "output_type": "stream",
     "text": [
      "[Parallel(n_jobs=-1)]: Using backend LokyBackend with 12 concurrent workers.\n",
      "[Parallel(n_jobs=-1)]: Done   3 out of   3 | elapsed:  2.5min finished\n"
     ]
    },
    {
     "name": "stdout",
     "output_type": "stream",
     "text": [
      "K-Fold #1\n",
      "Mean negativities for all classes: [0.2486107286179434, 0.304263975743814, 0.32005710166561285]\n",
      "Mean entropies for all classes: [9.617812841204725e-15, 9.375964532283466e-15, 9.17928377879784e-15]\n",
      "              precision    recall  f1-score   support\n",
      "\n",
      "           0       1.00      1.00      1.00         6\n",
      "           1       0.88      1.00      0.93         7\n",
      "           2       1.00      0.80      0.89         5\n",
      "\n",
      "    accuracy                           0.94        18\n",
      "   macro avg       0.96      0.93      0.94        18\n",
      "weighted avg       0.95      0.94      0.94        18\n",
      "\n",
      "-------------------------------------------------------------------------------------------------------------------\n"
     ]
    },
    {
     "name": "stderr",
     "output_type": "stream",
     "text": [
      "[Parallel(n_jobs=-1)]: Using backend LokyBackend with 12 concurrent workers.\n",
      "[Parallel(n_jobs=-1)]: Done   3 out of   3 | elapsed:  2.5min finished\n"
     ]
    },
    {
     "name": "stdout",
     "output_type": "stream",
     "text": [
      "K-Fold #2\n",
      "Mean negativities for all classes: [0.2425386448557782, 0.3081375446472722, 0.3202359130350475]\n",
      "Mean entropies for all classes: [9.60453339765637e-15, 9.717843380767526e-15, 9.392222052487153e-15]\n",
      "              precision    recall  f1-score   support\n",
      "\n",
      "           0       1.00      1.00      1.00         6\n",
      "           1       1.00      0.57      0.73         7\n",
      "           2       0.62      1.00      0.77         5\n",
      "\n",
      "    accuracy                           0.83        18\n",
      "   macro avg       0.88      0.86      0.83        18\n",
      "weighted avg       0.90      0.83      0.83        18\n",
      "\n",
      "-------------------------------------------------------------------------------------------------------------------\n"
     ]
    },
    {
     "name": "stderr",
     "output_type": "stream",
     "text": [
      "[Parallel(n_jobs=-1)]: Using backend LokyBackend with 12 concurrent workers.\n",
      "[Parallel(n_jobs=-1)]: Done   3 out of   3 | elapsed:  2.5min finished\n"
     ]
    },
    {
     "name": "stdout",
     "output_type": "stream",
     "text": [
      "K-Fold #3\n",
      "Mean negativities for all classes: [0.24666484261568927, 0.3173669800534186, 0.35308357678578683]\n",
      "Mean entropies for all classes: [9.018834369802273e-15, 1.0479028921859173e-14, 1.1889201487353983e-14]\n",
      "              precision    recall  f1-score   support\n",
      "\n",
      "           0       1.00      1.00      1.00         6\n",
      "           1       1.00      0.86      0.92         7\n",
      "           2       0.83      1.00      0.91         5\n",
      "\n",
      "    accuracy                           0.94        18\n",
      "   macro avg       0.94      0.95      0.94        18\n",
      "weighted avg       0.95      0.94      0.94        18\n",
      "\n",
      "-------------------------------------------------------------------------------------------------------------------\n"
     ]
    },
    {
     "name": "stderr",
     "output_type": "stream",
     "text": [
      "[Parallel(n_jobs=-1)]: Using backend LokyBackend with 12 concurrent workers.\n",
      "[Parallel(n_jobs=-1)]: Done   3 out of   3 | elapsed:  2.5min finished\n"
     ]
    },
    {
     "name": "stdout",
     "output_type": "stream",
     "text": [
      "K-Fold #4\n",
      "Mean negativities for all classes: [0.2625081284984556, 0.32186994313060646, 0.3425339809444376]\n",
      "Mean entropies for all classes: [9.479069823286688e-15, 9.79731511090676e-15, 8.598194448279148e-15]\n",
      "              precision    recall  f1-score   support\n",
      "\n",
      "           0       1.00      0.83      0.91         6\n",
      "           1       0.86      0.86      0.86         7\n",
      "           2       0.83      1.00      0.91         5\n",
      "\n",
      "    accuracy                           0.89        18\n",
      "   macro avg       0.90      0.90      0.89        18\n",
      "weighted avg       0.90      0.89      0.89        18\n",
      "\n",
      "-------------------------------------------------------------------------------------------------------------------\n"
     ]
    },
    {
     "name": "stderr",
     "output_type": "stream",
     "text": [
      "[Parallel(n_jobs=-1)]: Using backend LokyBackend with 12 concurrent workers.\n",
      "[Parallel(n_jobs=-1)]: Done   3 out of   3 | elapsed:  2.5min finished\n"
     ]
    },
    {
     "name": "stdout",
     "output_type": "stream",
     "text": [
      "K-Fold #5\n",
      "Mean negativities for all classes: [0.27477165334269504, 0.30980024483174345, 0.31863683042487406]\n",
      "Mean entropies for all classes: [1.0055873275678459e-14, 1.0013305444232342e-14, 9.445776989120799e-15]\n",
      "              precision    recall  f1-score   support\n",
      "\n",
      "           0       0.86      1.00      0.92         6\n",
      "           1       1.00      0.86      0.92         7\n",
      "           2       1.00      1.00      1.00         5\n",
      "\n",
      "    accuracy                           0.94        18\n",
      "   macro avg       0.95      0.95      0.95        18\n",
      "weighted avg       0.95      0.94      0.94        18\n",
      "\n",
      "-------------------------------------------------------------------------------------------------------------------\n"
     ]
    },
    {
     "name": "stderr",
     "output_type": "stream",
     "text": [
      "[Parallel(n_jobs=-1)]: Using backend LokyBackend with 12 concurrent workers.\n",
      "[Parallel(n_jobs=-1)]: Done   3 out of   3 | elapsed:  2.5min finished\n"
     ]
    },
    {
     "name": "stdout",
     "output_type": "stream",
     "text": [
      "K-Fold #6\n",
      "Mean negativities for all classes: [0.2551477355993003, 0.31487492682995805, 0.31921880174132733]\n",
      "Mean entropies for all classes: [9.845458544250722e-15, 9.533059714833702e-15, 8.999220456550379e-15]\n",
      "              precision    recall  f1-score   support\n",
      "\n",
      "           0       1.00      0.83      0.91         6\n",
      "           1       0.88      1.00      0.93         7\n",
      "           2       1.00      1.00      1.00         5\n",
      "\n",
      "    accuracy                           0.94        18\n",
      "   macro avg       0.96      0.94      0.95        18\n",
      "weighted avg       0.95      0.94      0.94        18\n",
      "\n",
      "-------------------------------------------------------------------------------------------------------------------\n"
     ]
    },
    {
     "name": "stderr",
     "output_type": "stream",
     "text": [
      "[Parallel(n_jobs=-1)]: Using backend LokyBackend with 12 concurrent workers.\n",
      "[Parallel(n_jobs=-1)]: Done   3 out of   3 | elapsed:  2.5min finished\n"
     ]
    },
    {
     "name": "stdout",
     "output_type": "stream",
     "text": [
      "K-Fold #7\n",
      "Mean negativities for all classes: [0.24981270109818196, 0.3060837957237819, 0.339314547770296]\n",
      "Mean entropies for all classes: [9.653305227005705e-15, 9.605063409452367e-15, 1.072610024534428e-14]\n",
      "              precision    recall  f1-score   support\n",
      "\n",
      "           0       1.00      1.00      1.00         6\n",
      "           1       1.00      1.00      1.00         7\n",
      "           2       1.00      1.00      1.00         5\n",
      "\n",
      "    accuracy                           1.00        18\n",
      "   macro avg       1.00      1.00      1.00        18\n",
      "weighted avg       1.00      1.00      1.00        18\n",
      "\n",
      "-------------------------------------------------------------------------------------------------------------------\n"
     ]
    },
    {
     "name": "stderr",
     "output_type": "stream",
     "text": [
      "[Parallel(n_jobs=-1)]: Using backend LokyBackend with 12 concurrent workers.\n",
      "[Parallel(n_jobs=-1)]: Done   3 out of   3 | elapsed:  2.5min finished\n"
     ]
    },
    {
     "name": "stdout",
     "output_type": "stream",
     "text": [
      "K-Fold #8\n",
      "Mean negativities for all classes: [0.2603204037346758, 0.3151857197586198, 0.3184917534656707]\n",
      "Mean entropies for all classes: [9.232220127769362e-15, 9.81608629979884e-15, 9.047121305843052e-15]\n",
      "              precision    recall  f1-score   support\n",
      "\n",
      "           0       1.00      1.00      1.00         6\n",
      "           1       1.00      1.00      1.00         7\n",
      "           2       1.00      1.00      1.00         4\n",
      "\n",
      "    accuracy                           1.00        17\n",
      "   macro avg       1.00      1.00      1.00        17\n",
      "weighted avg       1.00      1.00      1.00        17\n",
      "\n",
      "-------------------------------------------------------------------------------------------------------------------\n"
     ]
    },
    {
     "name": "stderr",
     "output_type": "stream",
     "text": [
      "[Parallel(n_jobs=-1)]: Using backend LokyBackend with 12 concurrent workers.\n",
      "[Parallel(n_jobs=-1)]: Done   3 out of   3 | elapsed:  2.5min finished\n"
     ]
    },
    {
     "name": "stdout",
     "output_type": "stream",
     "text": [
      "K-Fold #9\n",
      "Mean negativities for all classes: [0.2513044039095645, 0.31388016441026645, 0.31898916529332666]\n",
      "Mean entropies for all classes: [9.250959486767099e-15, 9.968196958511346e-15, 9.43654051125228e-15]\n",
      "              precision    recall  f1-score   support\n",
      "\n",
      "           0       1.00      1.00      1.00         5\n",
      "           1       0.86      0.75      0.80         8\n",
      "           2       0.60      0.75      0.67         4\n",
      "\n",
      "    accuracy                           0.82        17\n",
      "   macro avg       0.82      0.83      0.82        17\n",
      "weighted avg       0.84      0.82      0.83        17\n",
      "\n",
      "-------------------------------------------------------------------------------------------------------------------\n",
      "AVG: Scores = 0.9212418300653595 F1-Scores = 0.9216043216043216 Negativity = [0.29867503013602015, 0.29097726867579005, 0.29030403417936596] Entropy = [9.311655545808378e-15, 9.391020384095344e-15, 9.571532943637015e-15]\n"
     ]
    },
    {
     "name": "stderr",
     "output_type": "stream",
     "text": [
      "[Parallel(n_jobs=-1)]: Using backend LokyBackend with 12 concurrent workers.\n",
      "[Parallel(n_jobs=-1)]: Done   3 out of   3 | elapsed:  2.5min finished\n"
     ]
    },
    {
     "name": "stdout",
     "output_type": "stream",
     "text": [
      "K-Fold #0\n",
      "Mean negativities for all classes: [0.2617988887185609, 0.31231729837346267, 0.31848450003486645]\n",
      "Mean entropies for all classes: [9.145692860328337e-15, 9.232300822891342e-15, 9.387378488722997e-15]\n",
      "              precision    recall  f1-score   support\n",
      "\n",
      "           0       1.00      0.83      0.91         6\n",
      "           1       0.88      1.00      0.93         7\n",
      "           2       1.00      1.00      1.00         5\n",
      "\n",
      "    accuracy                           0.94        18\n",
      "   macro avg       0.96      0.94      0.95        18\n",
      "weighted avg       0.95      0.94      0.94        18\n",
      "\n",
      "-------------------------------------------------------------------------------------------------------------------\n"
     ]
    },
    {
     "name": "stderr",
     "output_type": "stream",
     "text": [
      "[Parallel(n_jobs=-1)]: Using backend LokyBackend with 12 concurrent workers.\n",
      "[Parallel(n_jobs=-1)]: Done   3 out of   3 | elapsed:  2.5min finished\n"
     ]
    },
    {
     "name": "stdout",
     "output_type": "stream",
     "text": [
      "K-Fold #1\n",
      "Mean negativities for all classes: [0.259503678893253, 0.31778862450259054, 0.31989267760923273]\n",
      "Mean entropies for all classes: [9.195897741637757e-15, 9.111208143295743e-15, 9.1538580285814e-15]\n",
      "              precision    recall  f1-score   support\n",
      "\n",
      "           0       1.00      1.00      1.00         6\n",
      "           1       0.88      1.00      0.93         7\n",
      "           2       1.00      0.80      0.89         5\n",
      "\n",
      "    accuracy                           0.94        18\n",
      "   macro avg       0.96      0.93      0.94        18\n",
      "weighted avg       0.95      0.94      0.94        18\n",
      "\n",
      "-------------------------------------------------------------------------------------------------------------------\n"
     ]
    },
    {
     "name": "stderr",
     "output_type": "stream",
     "text": [
      "[Parallel(n_jobs=-1)]: Using backend LokyBackend with 12 concurrent workers.\n",
      "[Parallel(n_jobs=-1)]: Done   3 out of   3 | elapsed:  2.5min finished\n"
     ]
    },
    {
     "name": "stdout",
     "output_type": "stream",
     "text": [
      "K-Fold #2\n",
      "Mean negativities for all classes: [0.24699016944225693, 0.3109882493373443, 0.3205939942963954]\n",
      "Mean entropies for all classes: [9.484350932873682e-15, 9.702971867212726e-15, 8.860075329962504e-15]\n",
      "              precision    recall  f1-score   support\n",
      "\n",
      "           0       1.00      0.67      0.80         6\n",
      "           1       0.67      0.57      0.62         7\n",
      "           2       0.62      1.00      0.77         5\n",
      "\n",
      "    accuracy                           0.72        18\n",
      "   macro avg       0.76      0.75      0.73        18\n",
      "weighted avg       0.77      0.72      0.72        18\n",
      "\n",
      "-------------------------------------------------------------------------------------------------------------------\n"
     ]
    },
    {
     "name": "stderr",
     "output_type": "stream",
     "text": [
      "[Parallel(n_jobs=-1)]: Using backend LokyBackend with 12 concurrent workers.\n",
      "[Parallel(n_jobs=-1)]: Done   3 out of   3 | elapsed:  2.5min finished\n"
     ]
    },
    {
     "name": "stdout",
     "output_type": "stream",
     "text": [
      "K-Fold #3\n",
      "Mean negativities for all classes: [0.24835803393620884, 0.31058420077539417, 0.31812591782913935]\n",
      "Mean entropies for all classes: [9.965717971729953e-15, 9.49723881989183e-15, 9.458118532922537e-15]\n",
      "              precision    recall  f1-score   support\n",
      "\n",
      "           0       1.00      1.00      1.00         6\n",
      "           1       1.00      1.00      1.00         7\n",
      "           2       1.00      1.00      1.00         5\n",
      "\n",
      "    accuracy                           1.00        18\n",
      "   macro avg       1.00      1.00      1.00        18\n",
      "weighted avg       1.00      1.00      1.00        18\n",
      "\n",
      "-------------------------------------------------------------------------------------------------------------------\n"
     ]
    },
    {
     "name": "stderr",
     "output_type": "stream",
     "text": [
      "[Parallel(n_jobs=-1)]: Using backend LokyBackend with 12 concurrent workers.\n",
      "[Parallel(n_jobs=-1)]: Done   3 out of   3 | elapsed:  2.5min finished\n"
     ]
    },
    {
     "name": "stdout",
     "output_type": "stream",
     "text": [
      "K-Fold #4\n",
      "Mean negativities for all classes: [0.2414798339170955, 0.31583301842507455, 0.3182456315155638]\n",
      "Mean entropies for all classes: [9.676101146217069e-15, 9.164972966367978e-15, 9.59004188088506e-15]\n",
      "              precision    recall  f1-score   support\n",
      "\n",
      "           0       1.00      1.00      1.00         6\n",
      "           1       0.88      1.00      0.93         7\n",
      "           2       1.00      0.80      0.89         5\n",
      "\n",
      "    accuracy                           0.94        18\n",
      "   macro avg       0.96      0.93      0.94        18\n",
      "weighted avg       0.95      0.94      0.94        18\n",
      "\n",
      "-------------------------------------------------------------------------------------------------------------------\n"
     ]
    },
    {
     "name": "stderr",
     "output_type": "stream",
     "text": [
      "[Parallel(n_jobs=-1)]: Using backend LokyBackend with 12 concurrent workers.\n",
      "[Parallel(n_jobs=-1)]: Done   3 out of   3 | elapsed:  2.5min finished\n"
     ]
    },
    {
     "name": "stdout",
     "output_type": "stream",
     "text": [
      "K-Fold #5\n",
      "Mean negativities for all classes: [0.246554963268029, 0.3092152860368736, 0.3201497919945991]\n",
      "Mean entropies for all classes: [9.317694183345417e-15, 9.515811214039924e-15, 9.320527272949746e-15]\n",
      "              precision    recall  f1-score   support\n",
      "\n",
      "           0       1.00      1.00      1.00         6\n",
      "           1       1.00      0.86      0.92         7\n",
      "           2       0.83      1.00      0.91         5\n",
      "\n",
      "    accuracy                           0.94        18\n",
      "   macro avg       0.94      0.95      0.94        18\n",
      "weighted avg       0.95      0.94      0.94        18\n",
      "\n",
      "-------------------------------------------------------------------------------------------------------------------\n"
     ]
    },
    {
     "name": "stderr",
     "output_type": "stream",
     "text": [
      "[Parallel(n_jobs=-1)]: Using backend LokyBackend with 12 concurrent workers.\n",
      "[Parallel(n_jobs=-1)]: Done   3 out of   3 | elapsed:  2.5min finished\n"
     ]
    },
    {
     "name": "stdout",
     "output_type": "stream",
     "text": [
      "K-Fold #6\n",
      "Mean negativities for all classes: [0.24344262011895243, 0.31221090641631516, 0.33491496807851323]\n",
      "Mean entropies for all classes: [9.459813320016036e-15, 9.675798201604878e-15, 1.1279355661638115e-14]\n",
      "              precision    recall  f1-score   support\n",
      "\n",
      "           0       0.86      1.00      0.92         6\n",
      "           1       1.00      0.71      0.83         7\n",
      "           2       0.83      1.00      0.91         5\n",
      "\n",
      "    accuracy                           0.89        18\n",
      "   macro avg       0.90      0.90      0.89        18\n",
      "weighted avg       0.91      0.89      0.88        18\n",
      "\n",
      "-------------------------------------------------------------------------------------------------------------------\n"
     ]
    },
    {
     "name": "stderr",
     "output_type": "stream",
     "text": [
      "[Parallel(n_jobs=-1)]: Using backend LokyBackend with 12 concurrent workers.\n",
      "[Parallel(n_jobs=-1)]: Done   3 out of   3 | elapsed:  2.5min finished\n"
     ]
    },
    {
     "name": "stdout",
     "output_type": "stream",
     "text": [
      "K-Fold #7\n",
      "Mean negativities for all classes: [0.24305254984278435, 0.3102277648203045, 0.3190405618125728]\n",
      "Mean entropies for all classes: [9.480724031238135e-15, 9.573595835456627e-15, 9.00762069900441e-15]\n",
      "              precision    recall  f1-score   support\n",
      "\n",
      "           0       1.00      1.00      1.00         6\n",
      "           1       0.88      1.00      0.93         7\n",
      "           2       1.00      0.80      0.89         5\n",
      "\n",
      "    accuracy                           0.94        18\n",
      "   macro avg       0.96      0.93      0.94        18\n",
      "weighted avg       0.95      0.94      0.94        18\n",
      "\n",
      "-------------------------------------------------------------------------------------------------------------------\n"
     ]
    },
    {
     "name": "stderr",
     "output_type": "stream",
     "text": [
      "[Parallel(n_jobs=-1)]: Using backend LokyBackend with 12 concurrent workers.\n",
      "[Parallel(n_jobs=-1)]: Done   3 out of   3 | elapsed:  2.5min finished\n"
     ]
    },
    {
     "name": "stdout",
     "output_type": "stream",
     "text": [
      "K-Fold #8\n",
      "Mean negativities for all classes: [0.2684169963292135, 0.31872697057599675, 0.31872387935312063]\n",
      "Mean entropies for all classes: [9.872170572347294e-15, 9.167494469015394e-15, 9.284879847856139e-15]\n",
      "              precision    recall  f1-score   support\n",
      "\n",
      "           0       0.71      0.83      0.77         6\n",
      "           1       0.83      0.71      0.77         7\n",
      "           2       1.00      1.00      1.00         4\n",
      "\n",
      "    accuracy                           0.82        17\n",
      "   macro avg       0.85      0.85      0.85        17\n",
      "weighted avg       0.83      0.82      0.82        17\n",
      "\n",
      "-------------------------------------------------------------------------------------------------------------------\n"
     ]
    },
    {
     "name": "stderr",
     "output_type": "stream",
     "text": [
      "[Parallel(n_jobs=-1)]: Using backend LokyBackend with 12 concurrent workers.\n",
      "[Parallel(n_jobs=-1)]: Done   3 out of   3 | elapsed:  2.5min finished\n"
     ]
    },
    {
     "name": "stdout",
     "output_type": "stream",
     "text": [
      "K-Fold #9\n",
      "Mean negativities for all classes: [0.27392424836910906, 0.30847486703087074, 0.31919485746027443]\n",
      "Mean entropies for all classes: [9.47196305244429e-15, 9.345964211389102e-15, 9.331435317152266e-15]\n",
      "              precision    recall  f1-score   support\n",
      "\n",
      "           0       1.00      0.80      0.89         5\n",
      "           1       0.86      0.75      0.80         8\n",
      "           2       0.67      1.00      0.80         4\n",
      "\n",
      "    accuracy                           0.82        17\n",
      "   macro avg       0.84      0.85      0.83        17\n",
      "weighted avg       0.85      0.82      0.83        17\n",
      "\n",
      "-------------------------------------------------------------------------------------------------------------------\n",
      "AVG: Scores = 0.8980392156862746 F1-Scores = 0.9006241906241905 Negativity = [0.29753356237562995, 0.2990616603350254, 0.2928574710253322] Entropy = [9.255124057314224e-15, 9.153654637838301e-15, 9.349132710016305e-15]\n"
     ]
    },
    {
     "name": "stderr",
     "output_type": "stream",
     "text": [
      "[Parallel(n_jobs=-1)]: Using backend LokyBackend with 12 concurrent workers.\n",
      "[Parallel(n_jobs=-1)]: Done   3 out of   3 | elapsed:  2.5min finished\n"
     ]
    },
    {
     "name": "stdout",
     "output_type": "stream",
     "text": [
      "K-Fold #0\n",
      "Mean negativities for all classes: [0.24337238026380761, 0.309705922696243, 0.3197285203564018]\n",
      "Mean entropies for all classes: [9.746243270405702e-15, 9.828479114444021e-15, 9.531262599007244e-15]\n",
      "              precision    recall  f1-score   support\n",
      "\n",
      "           0       1.00      1.00      1.00         6\n",
      "           1       0.83      0.71      0.77         7\n",
      "           2       0.67      0.80      0.73         5\n",
      "\n",
      "    accuracy                           0.83        18\n",
      "   macro avg       0.83      0.84      0.83        18\n",
      "weighted avg       0.84      0.83      0.83        18\n",
      "\n",
      "-------------------------------------------------------------------------------------------------------------------\n"
     ]
    },
    {
     "name": "stderr",
     "output_type": "stream",
     "text": [
      "[Parallel(n_jobs=-1)]: Using backend LokyBackend with 12 concurrent workers.\n",
      "[Parallel(n_jobs=-1)]: Done   3 out of   3 | elapsed:  2.5min finished\n"
     ]
    },
    {
     "name": "stdout",
     "output_type": "stream",
     "text": [
      "K-Fold #1\n",
      "Mean negativities for all classes: [0.25047314022953043, 0.3093525240755989, 0.31854981881546474]\n",
      "Mean entropies for all classes: [9.542751653749657e-15, 9.081361970849064e-15, 9.25478051660898e-15]\n",
      "              precision    recall  f1-score   support\n",
      "\n",
      "           0       1.00      1.00      1.00         6\n",
      "           1       1.00      1.00      1.00         7\n",
      "           2       1.00      1.00      1.00         5\n",
      "\n",
      "    accuracy                           1.00        18\n",
      "   macro avg       1.00      1.00      1.00        18\n",
      "weighted avg       1.00      1.00      1.00        18\n",
      "\n",
      "-------------------------------------------------------------------------------------------------------------------\n"
     ]
    },
    {
     "name": "stderr",
     "output_type": "stream",
     "text": [
      "[Parallel(n_jobs=-1)]: Using backend LokyBackend with 12 concurrent workers.\n",
      "[Parallel(n_jobs=-1)]: Done   3 out of   3 | elapsed:  2.5min finished\n"
     ]
    },
    {
     "name": "stdout",
     "output_type": "stream",
     "text": [
      "K-Fold #2\n",
      "Mean negativities for all classes: [0.2489608320901674, 0.30095697511426056, 0.3193596206459592]\n",
      "Mean entropies for all classes: [1.0136820130409502e-14, 9.666964686138078e-15, 9.248930924767665e-15]\n",
      "              precision    recall  f1-score   support\n",
      "\n",
      "           0       1.00      0.67      0.80         6\n",
      "           1       0.78      1.00      0.88         7\n",
      "           2       1.00      1.00      1.00         5\n",
      "\n",
      "    accuracy                           0.89        18\n",
      "   macro avg       0.93      0.89      0.89        18\n",
      "weighted avg       0.91      0.89      0.88        18\n",
      "\n",
      "-------------------------------------------------------------------------------------------------------------------\n"
     ]
    },
    {
     "name": "stderr",
     "output_type": "stream",
     "text": [
      "[Parallel(n_jobs=-1)]: Using backend LokyBackend with 12 concurrent workers.\n",
      "[Parallel(n_jobs=-1)]: Done   3 out of   3 | elapsed:  2.5min finished\n"
     ]
    },
    {
     "name": "stdout",
     "output_type": "stream",
     "text": [
      "K-Fold #3\n",
      "Mean negativities for all classes: [0.2430220605641484, 0.31894597284475545, 0.32008680208373097]\n",
      "Mean entropies for all classes: [9.354939175428256e-15, 9.404578742104145e-15, 9.808890313115842e-15]\n",
      "              precision    recall  f1-score   support\n",
      "\n",
      "           0       1.00      1.00      1.00         6\n",
      "           1       0.83      0.71      0.77         7\n",
      "           2       0.67      0.80      0.73         5\n",
      "\n",
      "    accuracy                           0.83        18\n",
      "   macro avg       0.83      0.84      0.83        18\n",
      "weighted avg       0.84      0.83      0.83        18\n",
      "\n",
      "-------------------------------------------------------------------------------------------------------------------\n"
     ]
    },
    {
     "name": "stderr",
     "output_type": "stream",
     "text": [
      "[Parallel(n_jobs=-1)]: Using backend LokyBackend with 12 concurrent workers.\n",
      "[Parallel(n_jobs=-1)]: Done   3 out of   3 | elapsed:  2.5min finished\n"
     ]
    },
    {
     "name": "stdout",
     "output_type": "stream",
     "text": [
      "K-Fold #4\n",
      "Mean negativities for all classes: [0.24486625279534996, 0.3224297085021596, 0.31996051791048064]\n",
      "Mean entropies for all classes: [9.417227099529359e-15, 9.965027357144631e-15, 9.360316810094577e-15]\n",
      "              precision    recall  f1-score   support\n",
      "\n",
      "           0       1.00      1.00      1.00         6\n",
      "           1       1.00      0.71      0.83         7\n",
      "           2       0.71      1.00      0.83         5\n",
      "\n",
      "    accuracy                           0.89        18\n",
      "   macro avg       0.90      0.90      0.89        18\n",
      "weighted avg       0.92      0.89      0.89        18\n",
      "\n",
      "-------------------------------------------------------------------------------------------------------------------\n"
     ]
    },
    {
     "name": "stderr",
     "output_type": "stream",
     "text": [
      "[Parallel(n_jobs=-1)]: Using backend LokyBackend with 12 concurrent workers.\n",
      "[Parallel(n_jobs=-1)]: Done   3 out of   3 | elapsed:  2.5min finished\n"
     ]
    },
    {
     "name": "stdout",
     "output_type": "stream",
     "text": [
      "K-Fold #5\n",
      "Mean negativities for all classes: [0.2459732893943067, 0.3104085789032493, 0.31902533428520363]\n",
      "Mean entropies for all classes: [9.458554037268596e-15, 9.308734982249242e-15, 9.031348049540019e-15]\n",
      "              precision    recall  f1-score   support\n",
      "\n",
      "           0       1.00      1.00      1.00         6\n",
      "           1       1.00      0.86      0.92         7\n",
      "           2       0.83      1.00      0.91         5\n",
      "\n",
      "    accuracy                           0.94        18\n",
      "   macro avg       0.94      0.95      0.94        18\n",
      "weighted avg       0.95      0.94      0.94        18\n",
      "\n",
      "-------------------------------------------------------------------------------------------------------------------\n"
     ]
    },
    {
     "name": "stderr",
     "output_type": "stream",
     "text": [
      "[Parallel(n_jobs=-1)]: Using backend LokyBackend with 12 concurrent workers.\n",
      "[Parallel(n_jobs=-1)]: Done   3 out of   3 | elapsed:  2.5min finished\n"
     ]
    },
    {
     "name": "stdout",
     "output_type": "stream",
     "text": [
      "K-Fold #6\n",
      "Mean negativities for all classes: [0.26212014054508864, 0.3098001919973845, 0.3486071952294185]\n",
      "Mean entropies for all classes: [9.67758345600014e-15, 9.688784019785607e-15, 9.341990358416094e-15]\n",
      "              precision    recall  f1-score   support\n",
      "\n",
      "           0       1.00      0.67      0.80         6\n",
      "           1       0.83      0.71      0.77         7\n",
      "           2       0.62      1.00      0.77         5\n",
      "\n",
      "    accuracy                           0.78        18\n",
      "   macro avg       0.82      0.79      0.78        18\n",
      "weighted avg       0.83      0.78      0.78        18\n",
      "\n",
      "-------------------------------------------------------------------------------------------------------------------\n"
     ]
    },
    {
     "name": "stderr",
     "output_type": "stream",
     "text": [
      "[Parallel(n_jobs=-1)]: Using backend LokyBackend with 12 concurrent workers.\n",
      "[Parallel(n_jobs=-1)]: Done   3 out of   3 | elapsed:  2.5min finished\n"
     ]
    },
    {
     "name": "stdout",
     "output_type": "stream",
     "text": [
      "K-Fold #7\n",
      "Mean negativities for all classes: [0.25292052631241874, 0.31511872728555074, 0.31881289660228773]\n",
      "Mean entropies for all classes: [9.950511107254356e-15, 1.0024701385884101e-14, 9.102079229511949e-15]\n",
      "              precision    recall  f1-score   support\n",
      "\n",
      "           0       0.86      1.00      0.92         6\n",
      "           1       1.00      0.71      0.83         7\n",
      "           2       0.83      1.00      0.91         5\n",
      "\n",
      "    accuracy                           0.89        18\n",
      "   macro avg       0.90      0.90      0.89        18\n",
      "weighted avg       0.91      0.89      0.88        18\n",
      "\n",
      "-------------------------------------------------------------------------------------------------------------------\n"
     ]
    },
    {
     "name": "stderr",
     "output_type": "stream",
     "text": [
      "[Parallel(n_jobs=-1)]: Using backend LokyBackend with 12 concurrent workers.\n",
      "[Parallel(n_jobs=-1)]: Done   3 out of   3 | elapsed:  2.5min finished\n"
     ]
    },
    {
     "name": "stdout",
     "output_type": "stream",
     "text": [
      "K-Fold #8\n",
      "Mean negativities for all classes: [0.25798330760146504, 0.3216429181921842, 0.3525342021211355]\n",
      "Mean entropies for all classes: [1.0320917382029855e-14, 9.50989739718771e-15, 8.539083053940051e-15]\n",
      "              precision    recall  f1-score   support\n",
      "\n",
      "           0       1.00      0.83      0.91         6\n",
      "           1       0.86      0.86      0.86         7\n",
      "           2       0.80      1.00      0.89         4\n",
      "\n",
      "    accuracy                           0.88        17\n",
      "   macro avg       0.89      0.90      0.89        17\n",
      "weighted avg       0.89      0.88      0.88        17\n",
      "\n",
      "-------------------------------------------------------------------------------------------------------------------\n"
     ]
    },
    {
     "name": "stderr",
     "output_type": "stream",
     "text": [
      "[Parallel(n_jobs=-1)]: Using backend LokyBackend with 12 concurrent workers.\n",
      "[Parallel(n_jobs=-1)]: Done   3 out of   3 | elapsed:  2.5min finished\n"
     ]
    },
    {
     "name": "stdout",
     "output_type": "stream",
     "text": [
      "K-Fold #9\n",
      "Mean negativities for all classes: [0.247450855237129, 0.3117351413971032, 0.3183645009557204]\n",
      "Mean entropies for all classes: [9.879758095899762e-15, 9.4838601326819e-15, 9.458612875805267e-15]\n",
      "              precision    recall  f1-score   support\n",
      "\n",
      "           0       1.00      1.00      1.00         5\n",
      "           1       1.00      0.88      0.93         8\n",
      "           2       0.80      1.00      0.89         4\n",
      "\n",
      "    accuracy                           0.94        17\n",
      "   macro avg       0.93      0.96      0.94        17\n",
      "weighted avg       0.95      0.94      0.94        17\n",
      "\n",
      "-------------------------------------------------------------------------------------------------------------------\n",
      "AVG: Scores = 0.8879084967320262 F1-Scores = 0.8882716357716358 Negativity = [0.2909356077721508, 0.2927918277068647, 0.28975914261679575] Entropy = [9.70199499461899e-15, 9.2929647137359e-15, 9.684238580438416e-15]\n"
     ]
    },
    {
     "name": "stderr",
     "output_type": "stream",
     "text": [
      "[Parallel(n_jobs=-1)]: Using backend LokyBackend with 12 concurrent workers.\n",
      "[Parallel(n_jobs=-1)]: Done   3 out of   3 | elapsed:  2.5min finished\n"
     ]
    },
    {
     "name": "stdout",
     "output_type": "stream",
     "text": [
      "K-Fold #0\n",
      "Mean negativities for all classes: [0.2578890214541454, 0.30802427641969055, 0.3188523514897012]\n",
      "Mean entropies for all classes: [9.860730132064106e-15, 9.58582711236617e-15, 9.000758989082747e-15]\n",
      "              precision    recall  f1-score   support\n",
      "\n",
      "           0       1.00      0.83      0.91         6\n",
      "           1       0.88      1.00      0.93         7\n",
      "           2       1.00      1.00      1.00         5\n",
      "\n",
      "    accuracy                           0.94        18\n",
      "   macro avg       0.96      0.94      0.95        18\n",
      "weighted avg       0.95      0.94      0.94        18\n",
      "\n",
      "-------------------------------------------------------------------------------------------------------------------\n"
     ]
    },
    {
     "name": "stderr",
     "output_type": "stream",
     "text": [
      "[Parallel(n_jobs=-1)]: Using backend LokyBackend with 12 concurrent workers.\n",
      "[Parallel(n_jobs=-1)]: Done   3 out of   3 | elapsed:  2.5min finished\n"
     ]
    },
    {
     "name": "stdout",
     "output_type": "stream",
     "text": [
      "K-Fold #1\n",
      "Mean negativities for all classes: [0.24688801846413705, 0.3209032392551968, 0.3189438177740627]\n",
      "Mean entropies for all classes: [1.0207709785636396e-14, 1.0003075043319577e-14, 9.62232881916497e-15]\n",
      "              precision    recall  f1-score   support\n",
      "\n",
      "           0       1.00      1.00      1.00         6\n",
      "           1       0.86      0.86      0.86         7\n",
      "           2       0.80      0.80      0.80         5\n",
      "\n",
      "    accuracy                           0.89        18\n",
      "   macro avg       0.89      0.89      0.89        18\n",
      "weighted avg       0.89      0.89      0.89        18\n",
      "\n",
      "-------------------------------------------------------------------------------------------------------------------\n"
     ]
    },
    {
     "name": "stderr",
     "output_type": "stream",
     "text": [
      "[Parallel(n_jobs=-1)]: Using backend LokyBackend with 12 concurrent workers.\n",
      "[Parallel(n_jobs=-1)]: Done   3 out of   3 | elapsed:  2.5min finished\n"
     ]
    },
    {
     "name": "stdout",
     "output_type": "stream",
     "text": [
      "K-Fold #2\n",
      "Mean negativities for all classes: [0.2595437733600932, 0.31697171383862105, 0.3199906842563987]\n",
      "Mean entropies for all classes: [9.813984962899985e-15, 9.57360378805919e-15, 8.954958996089934e-15]\n",
      "              precision    recall  f1-score   support\n",
      "\n",
      "           0       1.00      0.83      0.91         6\n",
      "           1       0.83      0.71      0.77         7\n",
      "           2       0.71      1.00      0.83         5\n",
      "\n",
      "    accuracy                           0.83        18\n",
      "   macro avg       0.85      0.85      0.84        18\n",
      "weighted avg       0.86      0.83      0.83        18\n",
      "\n",
      "-------------------------------------------------------------------------------------------------------------------\n"
     ]
    },
    {
     "name": "stderr",
     "output_type": "stream",
     "text": [
      "[Parallel(n_jobs=-1)]: Using backend LokyBackend with 12 concurrent workers.\n",
      "[Parallel(n_jobs=-1)]: Done   3 out of   3 | elapsed:  2.5min finished\n"
     ]
    },
    {
     "name": "stdout",
     "output_type": "stream",
     "text": [
      "K-Fold #3\n",
      "Mean negativities for all classes: [0.271696311559557, 0.3120262028198364, 0.31901653195506346]\n",
      "Mean entropies for all classes: [9.935187090441324e-15, 9.176083641229801e-15, 9.074417755697744e-15]\n",
      "              precision    recall  f1-score   support\n",
      "\n",
      "           0       1.00      0.83      0.91         6\n",
      "           1       0.86      0.86      0.86         7\n",
      "           2       0.83      1.00      0.91         5\n",
      "\n",
      "    accuracy                           0.89        18\n",
      "   macro avg       0.90      0.90      0.89        18\n",
      "weighted avg       0.90      0.89      0.89        18\n",
      "\n",
      "-------------------------------------------------------------------------------------------------------------------\n"
     ]
    },
    {
     "name": "stderr",
     "output_type": "stream",
     "text": [
      "[Parallel(n_jobs=-1)]: Using backend LokyBackend with 12 concurrent workers.\n",
      "[Parallel(n_jobs=-1)]: Done   3 out of   3 | elapsed:  2.5min finished\n"
     ]
    },
    {
     "name": "stdout",
     "output_type": "stream",
     "text": [
      "K-Fold #4\n",
      "Mean negativities for all classes: [0.25683781260701377, 0.3040046389098925, 0.31849109744575876]\n",
      "Mean entropies for all classes: [9.730435498264702e-15, 9.568633344124741e-15, 9.396247038427212e-15]\n",
      "              precision    recall  f1-score   support\n",
      "\n",
      "           0       1.00      0.83      0.91         6\n",
      "           1       0.88      1.00      0.93         7\n",
      "           2       1.00      1.00      1.00         5\n",
      "\n",
      "    accuracy                           0.94        18\n",
      "   macro avg       0.96      0.94      0.95        18\n",
      "weighted avg       0.95      0.94      0.94        18\n",
      "\n",
      "-------------------------------------------------------------------------------------------------------------------\n"
     ]
    },
    {
     "name": "stderr",
     "output_type": "stream",
     "text": [
      "[Parallel(n_jobs=-1)]: Using backend LokyBackend with 12 concurrent workers.\n",
      "[Parallel(n_jobs=-1)]: Done   3 out of   3 | elapsed:  2.5min finished\n"
     ]
    },
    {
     "name": "stdout",
     "output_type": "stream",
     "text": [
      "K-Fold #5\n",
      "Mean negativities for all classes: [0.2424309217247693, 0.31272834103185754, 0.3190801749171887]\n",
      "Mean entropies for all classes: [9.356674342152724e-15, 9.428748800047059e-15, 9.653095613975119e-15]\n",
      "              precision    recall  f1-score   support\n",
      "\n",
      "           0       1.00      1.00      1.00         6\n",
      "           1       1.00      1.00      1.00         7\n",
      "           2       1.00      1.00      1.00         5\n",
      "\n",
      "    accuracy                           1.00        18\n",
      "   macro avg       1.00      1.00      1.00        18\n",
      "weighted avg       1.00      1.00      1.00        18\n",
      "\n",
      "-------------------------------------------------------------------------------------------------------------------\n"
     ]
    },
    {
     "name": "stderr",
     "output_type": "stream",
     "text": [
      "[Parallel(n_jobs=-1)]: Using backend LokyBackend with 12 concurrent workers.\n",
      "[Parallel(n_jobs=-1)]: Done   3 out of   3 | elapsed:  2.5min finished\n"
     ]
    },
    {
     "name": "stdout",
     "output_type": "stream",
     "text": [
      "K-Fold #6\n",
      "Mean negativities for all classes: [0.2553208847378262, 0.30743497419065124, 0.3197209482935128]\n",
      "Mean entropies for all classes: [9.383615940396648e-15, 9.734359972746115e-15, 9.270020350984914e-15]\n",
      "              precision    recall  f1-score   support\n",
      "\n",
      "           0       1.00      1.00      1.00         6\n",
      "           1       1.00      0.86      0.92         7\n",
      "           2       0.83      1.00      0.91         5\n",
      "\n",
      "    accuracy                           0.94        18\n",
      "   macro avg       0.94      0.95      0.94        18\n",
      "weighted avg       0.95      0.94      0.94        18\n",
      "\n",
      "-------------------------------------------------------------------------------------------------------------------\n"
     ]
    },
    {
     "name": "stderr",
     "output_type": "stream",
     "text": [
      "[Parallel(n_jobs=-1)]: Using backend LokyBackend with 12 concurrent workers.\n",
      "[Parallel(n_jobs=-1)]: Done   3 out of   3 | elapsed:  2.5min finished\n"
     ]
    },
    {
     "name": "stdout",
     "output_type": "stream",
     "text": [
      "K-Fold #7\n",
      "Mean negativities for all classes: [0.2533981469256468, 0.31514170700079136, 0.31854541654596047]\n",
      "Mean entropies for all classes: [1.0183659744884765e-14, 9.411741794077925e-15, 8.756345488055149e-15]\n",
      "              precision    recall  f1-score   support\n",
      "\n",
      "           0       1.00      1.00      1.00         6\n",
      "           1       1.00      0.86      0.92         7\n",
      "           2       0.83      1.00      0.91         5\n",
      "\n",
      "    accuracy                           0.94        18\n",
      "   macro avg       0.94      0.95      0.94        18\n",
      "weighted avg       0.95      0.94      0.94        18\n",
      "\n",
      "-------------------------------------------------------------------------------------------------------------------\n"
     ]
    },
    {
     "name": "stderr",
     "output_type": "stream",
     "text": [
      "[Parallel(n_jobs=-1)]: Using backend LokyBackend with 12 concurrent workers.\n",
      "[Parallel(n_jobs=-1)]: Done   3 out of   3 | elapsed:  2.5min finished\n"
     ]
    },
    {
     "name": "stdout",
     "output_type": "stream",
     "text": [
      "K-Fold #8\n",
      "Mean negativities for all classes: [0.24571125215638887, 0.31870971364958356, 0.3468165749720262]\n",
      "Mean entropies for all classes: [9.317579284850083e-15, 9.56928482556234e-15, 9.449244565949758e-15]\n",
      "              precision    recall  f1-score   support\n",
      "\n",
      "           0       1.00      1.00      1.00         6\n",
      "           1       1.00      0.71      0.83         7\n",
      "           2       0.67      1.00      0.80         4\n",
      "\n",
      "    accuracy                           0.88        17\n",
      "   macro avg       0.89      0.90      0.88        17\n",
      "weighted avg       0.92      0.88      0.88        17\n",
      "\n",
      "-------------------------------------------------------------------------------------------------------------------\n"
     ]
    },
    {
     "name": "stderr",
     "output_type": "stream",
     "text": [
      "[Parallel(n_jobs=-1)]: Using backend LokyBackend with 12 concurrent workers.\n",
      "[Parallel(n_jobs=-1)]: Done   3 out of   3 | elapsed:  2.5min finished\n"
     ]
    },
    {
     "name": "stdout",
     "output_type": "stream",
     "text": [
      "K-Fold #9\n",
      "Mean negativities for all classes: [0.2693739753059903, 0.3145803664021932, 0.3191018240605514]\n",
      "Mean entropies for all classes: [9.976472326879387e-15, 9.564474916074768e-15, 9.167760585299286e-15]\n",
      "              precision    recall  f1-score   support\n",
      "\n",
      "           0       1.00      1.00      1.00         5\n",
      "           1       1.00      0.62      0.77         8\n",
      "           2       0.57      1.00      0.73         4\n",
      "\n",
      "    accuracy                           0.82        17\n",
      "   macro avg       0.86      0.88      0.83        17\n",
      "weighted avg       0.90      0.82      0.83        17\n",
      "\n",
      "-------------------------------------------------------------------------------------------------------------------\n",
      "AVG: Scores = 0.9094771241830065 F1-Scores = 0.9107714507714508 Negativity = [0.29492188312117906, 0.29557835849779884, 0.29883539048503766] Entropy = [9.482438744504341e-15, 9.944371216040314e-15, 9.447515915683035e-15]\n"
     ]
    },
    {
     "name": "stderr",
     "output_type": "stream",
     "text": [
      "[Parallel(n_jobs=-1)]: Using backend LokyBackend with 12 concurrent workers.\n",
      "[Parallel(n_jobs=-1)]: Done   3 out of   3 | elapsed:  2.5min finished\n"
     ]
    },
    {
     "name": "stdout",
     "output_type": "stream",
     "text": [
      "K-Fold #0\n",
      "Mean negativities for all classes: [0.24987428313602825, 0.3213348625943558, 0.32055330751052735]\n",
      "Mean entropies for all classes: [9.637506017525742e-15, 9.585978978185702e-15, 9.551711028566612e-15]\n",
      "              precision    recall  f1-score   support\n",
      "\n",
      "           0       0.86      1.00      0.92         6\n",
      "           1       0.80      0.57      0.67         7\n",
      "           2       0.67      0.80      0.73         5\n",
      "\n",
      "    accuracy                           0.78        18\n",
      "   macro avg       0.77      0.79      0.77        18\n",
      "weighted avg       0.78      0.78      0.77        18\n",
      "\n",
      "-------------------------------------------------------------------------------------------------------------------\n"
     ]
    },
    {
     "name": "stderr",
     "output_type": "stream",
     "text": [
      "[Parallel(n_jobs=-1)]: Using backend LokyBackend with 12 concurrent workers.\n",
      "[Parallel(n_jobs=-1)]: Done   3 out of   3 | elapsed:  2.5min finished\n"
     ]
    },
    {
     "name": "stdout",
     "output_type": "stream",
     "text": [
      "K-Fold #1\n",
      "Mean negativities for all classes: [0.25596258926535287, 0.3120386654718221, 0.32046790346755816]\n",
      "Mean entropies for all classes: [9.874505682969346e-15, 9.24623235959803e-15, 9.574822597487486e-15]\n",
      "              precision    recall  f1-score   support\n",
      "\n",
      "           0       1.00      1.00      1.00         6\n",
      "           1       1.00      1.00      1.00         7\n",
      "           2       1.00      1.00      1.00         5\n",
      "\n",
      "    accuracy                           1.00        18\n",
      "   macro avg       1.00      1.00      1.00        18\n",
      "weighted avg       1.00      1.00      1.00        18\n",
      "\n",
      "-------------------------------------------------------------------------------------------------------------------\n"
     ]
    },
    {
     "name": "stderr",
     "output_type": "stream",
     "text": [
      "[Parallel(n_jobs=-1)]: Using backend LokyBackend with 12 concurrent workers.\n",
      "[Parallel(n_jobs=-1)]: Done   3 out of   3 | elapsed:  2.5min finished\n"
     ]
    },
    {
     "name": "stdout",
     "output_type": "stream",
     "text": [
      "K-Fold #2\n",
      "Mean negativities for all classes: [0.26136695165777507, 0.3193580174992219, 0.31870717402890275]\n",
      "Mean entropies for all classes: [9.489273197495028e-15, 8.831711382874448e-15, 8.975688570842508e-15]\n",
      "              precision    recall  f1-score   support\n",
      "\n",
      "           0       1.00      1.00      1.00         6\n",
      "           1       1.00      0.71      0.83         7\n",
      "           2       0.71      1.00      0.83         5\n",
      "\n",
      "    accuracy                           0.89        18\n",
      "   macro avg       0.90      0.90      0.89        18\n",
      "weighted avg       0.92      0.89      0.89        18\n",
      "\n",
      "-------------------------------------------------------------------------------------------------------------------\n"
     ]
    },
    {
     "name": "stderr",
     "output_type": "stream",
     "text": [
      "[Parallel(n_jobs=-1)]: Using backend LokyBackend with 12 concurrent workers.\n",
      "[Parallel(n_jobs=-1)]: Done   3 out of   3 | elapsed:  2.5min finished\n"
     ]
    },
    {
     "name": "stdout",
     "output_type": "stream",
     "text": [
      "K-Fold #3\n",
      "Mean negativities for all classes: [0.24357083083686504, 0.3117488802883714, 0.31846255732466167]\n",
      "Mean entropies for all classes: [1.0101832457975886e-14, 9.277660477543594e-15, 9.421863888771563e-15]\n",
      "              precision    recall  f1-score   support\n",
      "\n",
      "           0       1.00      1.00      1.00         6\n",
      "           1       1.00      1.00      1.00         7\n",
      "           2       1.00      1.00      1.00         5\n",
      "\n",
      "    accuracy                           1.00        18\n",
      "   macro avg       1.00      1.00      1.00        18\n",
      "weighted avg       1.00      1.00      1.00        18\n",
      "\n",
      "-------------------------------------------------------------------------------------------------------------------\n"
     ]
    },
    {
     "name": "stderr",
     "output_type": "stream",
     "text": [
      "[Parallel(n_jobs=-1)]: Using backend LokyBackend with 12 concurrent workers.\n",
      "[Parallel(n_jobs=-1)]: Done   3 out of   3 | elapsed:  2.5min finished\n"
     ]
    },
    {
     "name": "stdout",
     "output_type": "stream",
     "text": [
      "K-Fold #4\n",
      "Mean negativities for all classes: [0.27556637882697516, 0.3059024568804741, 0.3196544914007861]\n",
      "Mean entropies for all classes: [9.64182873913126e-15, 9.408668404767398e-15, 9.256178584555758e-15]\n",
      "              precision    recall  f1-score   support\n",
      "\n",
      "           0       1.00      0.83      0.91         6\n",
      "           1       0.86      0.86      0.86         7\n",
      "           2       0.83      1.00      0.91         5\n",
      "\n",
      "    accuracy                           0.89        18\n",
      "   macro avg       0.90      0.90      0.89        18\n",
      "weighted avg       0.90      0.89      0.89        18\n",
      "\n",
      "-------------------------------------------------------------------------------------------------------------------\n"
     ]
    },
    {
     "name": "stderr",
     "output_type": "stream",
     "text": [
      "[Parallel(n_jobs=-1)]: Using backend LokyBackend with 12 concurrent workers.\n",
      "[Parallel(n_jobs=-1)]: Done   3 out of   3 | elapsed:  2.5min finished\n"
     ]
    },
    {
     "name": "stdout",
     "output_type": "stream",
     "text": [
      "K-Fold #5\n",
      "Mean negativities for all classes: [0.2616772738496517, 0.3074691967090943, 0.3183348074358772]\n",
      "Mean entropies for all classes: [9.113674746599892e-15, 9.410839922358268e-15, 9.150972853968965e-15]\n",
      "              precision    recall  f1-score   support\n",
      "\n",
      "           0       1.00      0.83      0.91         6\n",
      "           1       0.78      1.00      0.88         7\n",
      "           2       1.00      0.80      0.89         5\n",
      "\n",
      "    accuracy                           0.89        18\n",
      "   macro avg       0.93      0.88      0.89        18\n",
      "weighted avg       0.91      0.89      0.89        18\n",
      "\n",
      "-------------------------------------------------------------------------------------------------------------------\n"
     ]
    },
    {
     "name": "stderr",
     "output_type": "stream",
     "text": [
      "[Parallel(n_jobs=-1)]: Using backend LokyBackend with 12 concurrent workers.\n",
      "[Parallel(n_jobs=-1)]: Done   3 out of   3 | elapsed:  2.5min finished\n"
     ]
    },
    {
     "name": "stdout",
     "output_type": "stream",
     "text": [
      "K-Fold #6\n",
      "Mean negativities for all classes: [0.24810087567503913, 0.30734588780154576, 0.3200901518356688]\n",
      "Mean entropies for all classes: [9.138977345063407e-15, 9.495495689529245e-15, 9.127038117235063e-15]\n",
      "              precision    recall  f1-score   support\n",
      "\n",
      "           0       1.00      0.83      0.91         6\n",
      "           1       0.88      1.00      0.93         7\n",
      "           2       1.00      1.00      1.00         5\n",
      "\n",
      "    accuracy                           0.94        18\n",
      "   macro avg       0.96      0.94      0.95        18\n",
      "weighted avg       0.95      0.94      0.94        18\n",
      "\n",
      "-------------------------------------------------------------------------------------------------------------------\n"
     ]
    },
    {
     "name": "stderr",
     "output_type": "stream",
     "text": [
      "[Parallel(n_jobs=-1)]: Using backend LokyBackend with 12 concurrent workers.\n",
      "[Parallel(n_jobs=-1)]: Done   3 out of   3 | elapsed:  2.5min finished\n"
     ]
    },
    {
     "name": "stdout",
     "output_type": "stream",
     "text": [
      "K-Fold #7\n",
      "Mean negativities for all classes: [0.24497052991211385, 0.3101093574549622, 0.31893347249134685]\n",
      "Mean entropies for all classes: [9.518623547615375e-15, 9.231425533719024e-15, 9.36445007553434e-15]\n",
      "              precision    recall  f1-score   support\n",
      "\n",
      "           0       1.00      0.83      0.91         6\n",
      "           1       0.88      1.00      0.93         7\n",
      "           2       1.00      1.00      1.00         5\n",
      "\n",
      "    accuracy                           0.94        18\n",
      "   macro avg       0.96      0.94      0.95        18\n",
      "weighted avg       0.95      0.94      0.94        18\n",
      "\n",
      "-------------------------------------------------------------------------------------------------------------------\n"
     ]
    },
    {
     "name": "stderr",
     "output_type": "stream",
     "text": [
      "[Parallel(n_jobs=-1)]: Using backend LokyBackend with 12 concurrent workers.\n",
      "[Parallel(n_jobs=-1)]: Done   3 out of   3 | elapsed:  2.5min finished\n"
     ]
    },
    {
     "name": "stdout",
     "output_type": "stream",
     "text": [
      "K-Fold #8\n",
      "Mean negativities for all classes: [0.2490037767021318, 0.3205805749423113, 0.3186773474017328]\n",
      "Mean entropies for all classes: [9.818482057699531e-15, 9.408135764924122e-15, 9.440937934171055e-15]\n",
      "              precision    recall  f1-score   support\n",
      "\n",
      "           0       1.00      1.00      1.00         6\n",
      "           1       1.00      1.00      1.00         7\n",
      "           2       1.00      1.00      1.00         4\n",
      "\n",
      "    accuracy                           1.00        17\n",
      "   macro avg       1.00      1.00      1.00        17\n",
      "weighted avg       1.00      1.00      1.00        17\n",
      "\n",
      "-------------------------------------------------------------------------------------------------------------------\n"
     ]
    },
    {
     "name": "stderr",
     "output_type": "stream",
     "text": [
      "[Parallel(n_jobs=-1)]: Using backend LokyBackend with 12 concurrent workers.\n",
      "[Parallel(n_jobs=-1)]: Done   3 out of   3 | elapsed:  2.5min finished\n"
     ]
    },
    {
     "name": "stdout",
     "output_type": "stream",
     "text": [
      "K-Fold #9\n",
      "Mean negativities for all classes: [0.252046230753542, 0.31135598357264666, 0.3203162389599447]\n",
      "Mean entropies for all classes: [9.635409663854275e-15, 9.117363119242894e-15, 9.614409240010128e-15]\n",
      "              precision    recall  f1-score   support\n",
      "\n",
      "           0       1.00      1.00      1.00         5\n",
      "           1       1.00      0.88      0.93         8\n",
      "           2       0.80      1.00      0.89         4\n",
      "\n",
      "    accuracy                           0.94        17\n",
      "   macro avg       0.93      0.96      0.94        17\n",
      "weighted avg       0.95      0.94      0.94        17\n",
      "\n",
      "-------------------------------------------------------------------------------------------------------------------\n",
      "AVG: Scores = 0.9274509803921568 F1-Scores = 0.9279686054686055 Negativity = [0.2972541510803038, 0.29615638606824435, 0.2998107143952999] Entropy = [9.591732008092686e-15, 9.565186880018287e-15, 9.098891050403996e-15]\n"
     ]
    },
    {
     "name": "stderr",
     "output_type": "stream",
     "text": [
      "[Parallel(n_jobs=-1)]: Using backend LokyBackend with 12 concurrent workers.\n",
      "[Parallel(n_jobs=-1)]: Done   3 out of   3 | elapsed:  2.5min finished\n"
     ]
    },
    {
     "name": "stdout",
     "output_type": "stream",
     "text": [
      "K-Fold #0\n",
      "Mean negativities for all classes: [0.24691114468451816, 0.3126069460815658, 0.3183130848332422]\n",
      "Mean entropies for all classes: [9.81068989849909e-15, 9.479628063447762e-15, 9.44341500698467e-15]\n",
      "              precision    recall  f1-score   support\n",
      "\n",
      "           0       1.00      1.00      1.00         6\n",
      "           1       1.00      1.00      1.00         7\n",
      "           2       1.00      1.00      1.00         5\n",
      "\n",
      "    accuracy                           1.00        18\n",
      "   macro avg       1.00      1.00      1.00        18\n",
      "weighted avg       1.00      1.00      1.00        18\n",
      "\n",
      "-------------------------------------------------------------------------------------------------------------------\n"
     ]
    },
    {
     "name": "stderr",
     "output_type": "stream",
     "text": [
      "[Parallel(n_jobs=-1)]: Using backend LokyBackend with 12 concurrent workers.\n",
      "[Parallel(n_jobs=-1)]: Done   3 out of   3 | elapsed:  2.5min finished\n"
     ]
    },
    {
     "name": "stdout",
     "output_type": "stream",
     "text": [
      "K-Fold #1\n",
      "Mean negativities for all classes: [0.2539565870411819, 0.31529716766661714, 0.31282157239713393]\n",
      "Mean entropies for all classes: [9.286129425730743e-15, 8.969391482916096e-15, 1.1801788606302523e-14]\n",
      "              precision    recall  f1-score   support\n",
      "\n",
      "           0       1.00      1.00      1.00         6\n",
      "           1       1.00      1.00      1.00         7\n",
      "           2       1.00      1.00      1.00         5\n",
      "\n",
      "    accuracy                           1.00        18\n",
      "   macro avg       1.00      1.00      1.00        18\n",
      "weighted avg       1.00      1.00      1.00        18\n",
      "\n",
      "-------------------------------------------------------------------------------------------------------------------\n"
     ]
    },
    {
     "name": "stderr",
     "output_type": "stream",
     "text": [
      "[Parallel(n_jobs=-1)]: Using backend LokyBackend with 12 concurrent workers.\n",
      "[Parallel(n_jobs=-1)]: Done   3 out of   3 | elapsed:  2.5min finished\n"
     ]
    },
    {
     "name": "stdout",
     "output_type": "stream",
     "text": [
      "K-Fold #2\n",
      "Mean negativities for all classes: [0.261157646730149, 0.30180293560788185, 0.31865710893544485]\n",
      "Mean entropies for all classes: [9.611431810176174e-15, 9.824781279089082e-15, 9.213754121605337e-15]\n",
      "              precision    recall  f1-score   support\n",
      "\n",
      "           0       1.00      0.83      0.91         6\n",
      "           1       0.78      1.00      0.88         7\n",
      "           2       1.00      0.80      0.89         5\n",
      "\n",
      "    accuracy                           0.89        18\n",
      "   macro avg       0.93      0.88      0.89        18\n",
      "weighted avg       0.91      0.89      0.89        18\n",
      "\n",
      "-------------------------------------------------------------------------------------------------------------------\n"
     ]
    },
    {
     "name": "stderr",
     "output_type": "stream",
     "text": [
      "[Parallel(n_jobs=-1)]: Using backend LokyBackend with 12 concurrent workers.\n",
      "[Parallel(n_jobs=-1)]: Done   3 out of   3 | elapsed:  2.5min finished\n"
     ]
    },
    {
     "name": "stdout",
     "output_type": "stream",
     "text": [
      "K-Fold #3\n",
      "Mean negativities for all classes: [0.2615662144855527, 0.31134260284166193, 0.3206575440055672]\n",
      "Mean entropies for all classes: [9.311151314416993e-15, 9.71899911671459e-15, 9.099681557525431e-15]\n",
      "              precision    recall  f1-score   support\n",
      "\n",
      "           0       1.00      1.00      1.00         6\n",
      "           1       1.00      0.86      0.92         7\n",
      "           2       0.83      1.00      0.91         5\n",
      "\n",
      "    accuracy                           0.94        18\n",
      "   macro avg       0.94      0.95      0.94        18\n",
      "weighted avg       0.95      0.94      0.94        18\n",
      "\n",
      "-------------------------------------------------------------------------------------------------------------------\n"
     ]
    },
    {
     "name": "stderr",
     "output_type": "stream",
     "text": [
      "[Parallel(n_jobs=-1)]: Using backend LokyBackend with 12 concurrent workers.\n",
      "[Parallel(n_jobs=-1)]: Done   3 out of   3 | elapsed:  2.5min finished\n"
     ]
    },
    {
     "name": "stdout",
     "output_type": "stream",
     "text": [
      "K-Fold #4\n",
      "Mean negativities for all classes: [0.2570905035484393, 0.3076828500958132, 0.33200776217336486]\n",
      "Mean entropies for all classes: [9.454122277319551e-15, 9.393255176863054e-15, 6.9400621193616536e-15]\n",
      "              precision    recall  f1-score   support\n",
      "\n",
      "           0       1.00      0.83      0.91         6\n",
      "           1       1.00      0.86      0.92         7\n",
      "           2       0.71      1.00      0.83         5\n",
      "\n",
      "    accuracy                           0.89        18\n",
      "   macro avg       0.90      0.90      0.89        18\n",
      "weighted avg       0.92      0.89      0.89        18\n",
      "\n",
      "-------------------------------------------------------------------------------------------------------------------\n"
     ]
    },
    {
     "name": "stderr",
     "output_type": "stream",
     "text": [
      "[Parallel(n_jobs=-1)]: Using backend LokyBackend with 12 concurrent workers.\n",
      "[Parallel(n_jobs=-1)]: Done   3 out of   3 | elapsed:  2.5min finished\n"
     ]
    },
    {
     "name": "stdout",
     "output_type": "stream",
     "text": [
      "K-Fold #5\n",
      "Mean negativities for all classes: [0.24424098800535743, 0.3088244770524843, 0.3188957633358352]\n",
      "Mean entropies for all classes: [9.947873195885023e-15, 9.40765970901215e-15, 9.383464668870786e-15]\n",
      "              precision    recall  f1-score   support\n",
      "\n",
      "           0       1.00      1.00      1.00         6\n",
      "           1       1.00      0.86      0.92         7\n",
      "           2       0.83      1.00      0.91         5\n",
      "\n",
      "    accuracy                           0.94        18\n",
      "   macro avg       0.94      0.95      0.94        18\n",
      "weighted avg       0.95      0.94      0.94        18\n",
      "\n",
      "-------------------------------------------------------------------------------------------------------------------\n"
     ]
    },
    {
     "name": "stderr",
     "output_type": "stream",
     "text": [
      "[Parallel(n_jobs=-1)]: Using backend LokyBackend with 12 concurrent workers.\n",
      "[Parallel(n_jobs=-1)]: Done   3 out of   3 | elapsed:  2.5min finished\n"
     ]
    },
    {
     "name": "stdout",
     "output_type": "stream",
     "text": [
      "K-Fold #6\n",
      "Mean negativities for all classes: [0.24821936655186366, 0.31682440754382246, 0.3182971482199541]\n",
      "Mean entropies for all classes: [9.806282492836346e-15, 9.202319707254805e-15, 9.388782547212959e-15]\n",
      "              precision    recall  f1-score   support\n",
      "\n",
      "           0       1.00      0.83      0.91         6\n",
      "           1       0.88      1.00      0.93         7\n",
      "           2       1.00      1.00      1.00         5\n",
      "\n",
      "    accuracy                           0.94        18\n",
      "   macro avg       0.96      0.94      0.95        18\n",
      "weighted avg       0.95      0.94      0.94        18\n",
      "\n",
      "-------------------------------------------------------------------------------------------------------------------\n"
     ]
    },
    {
     "name": "stderr",
     "output_type": "stream",
     "text": [
      "[Parallel(n_jobs=-1)]: Using backend LokyBackend with 12 concurrent workers.\n",
      "[Parallel(n_jobs=-1)]: Done   3 out of   3 | elapsed:  2.5min finished\n"
     ]
    },
    {
     "name": "stdout",
     "output_type": "stream",
     "text": [
      "K-Fold #7\n",
      "Mean negativities for all classes: [0.24483385251669226, 0.3077160211775849, 0.3198646576190192]\n",
      "Mean entropies for all classes: [9.415522804792572e-15, 8.920658235199467e-15, 8.91690099040227e-15]\n",
      "              precision    recall  f1-score   support\n",
      "\n",
      "           0       1.00      1.00      1.00         6\n",
      "           1       1.00      0.71      0.83         7\n",
      "           2       0.71      1.00      0.83         5\n",
      "\n",
      "    accuracy                           0.89        18\n",
      "   macro avg       0.90      0.90      0.89        18\n",
      "weighted avg       0.92      0.89      0.89        18\n",
      "\n",
      "-------------------------------------------------------------------------------------------------------------------\n"
     ]
    },
    {
     "name": "stderr",
     "output_type": "stream",
     "text": [
      "[Parallel(n_jobs=-1)]: Using backend LokyBackend with 12 concurrent workers.\n",
      "[Parallel(n_jobs=-1)]: Done   3 out of   3 | elapsed:  2.5min finished\n"
     ]
    },
    {
     "name": "stdout",
     "output_type": "stream",
     "text": [
      "K-Fold #8\n",
      "Mean negativities for all classes: [0.263183229104343, 0.30718064182649973, 0.3190709833177142]\n",
      "Mean entropies for all classes: [9.799492069677689e-15, 9.497348265640152e-15, 9.17871503931352e-15]\n",
      "              precision    recall  f1-score   support\n",
      "\n",
      "           0       1.00      1.00      1.00         6\n",
      "           1       1.00      0.86      0.92         7\n",
      "           2       0.80      1.00      0.89         4\n",
      "\n",
      "    accuracy                           0.94        17\n",
      "   macro avg       0.93      0.95      0.94        17\n",
      "weighted avg       0.95      0.94      0.94        17\n",
      "\n",
      "-------------------------------------------------------------------------------------------------------------------\n"
     ]
    },
    {
     "name": "stderr",
     "output_type": "stream",
     "text": [
      "[Parallel(n_jobs=-1)]: Using backend LokyBackend with 12 concurrent workers.\n",
      "[Parallel(n_jobs=-1)]: Done   3 out of   3 | elapsed:  2.5min finished\n"
     ]
    },
    {
     "name": "stdout",
     "output_type": "stream",
     "text": [
      "K-Fold #9\n",
      "Mean negativities for all classes: [0.24861149399599078, 0.3133589227723167, 0.31865274666685167]\n",
      "Mean entropies for all classes: [9.125730184672388e-15, 9.549963365749235e-15, 9.033773614559922e-15]\n",
      "              precision    recall  f1-score   support\n",
      "\n",
      "           0       1.00      1.00      1.00         5\n",
      "           1       1.00      1.00      1.00         8\n",
      "           2       1.00      1.00      1.00         4\n",
      "\n",
      "    accuracy                           1.00        17\n",
      "   macro avg       1.00      1.00      1.00        17\n",
      "weighted avg       1.00      1.00      1.00        17\n",
      "\n",
      "-------------------------------------------------------------------------------------------------------------------\n",
      "AVG: Scores = 0.9441176470588235 F1-Scores = 0.9441291116291115 Negativity = [0.29261039186644205, 0.29402510903497764, 0.2938725637578252] Entropy = [9.57791098964384e-15, 1.0019103171649787e-14, 9.549989070290198e-15]\n"
     ]
    },
    {
     "name": "stderr",
     "output_type": "stream",
     "text": [
      "[Parallel(n_jobs=-1)]: Using backend LokyBackend with 12 concurrent workers.\n",
      "[Parallel(n_jobs=-1)]: Done   3 out of   3 | elapsed:  2.5min finished\n"
     ]
    },
    {
     "name": "stdout",
     "output_type": "stream",
     "text": [
      "K-Fold #0\n",
      "Mean negativities for all classes: [0.25259231538358906, 0.3183519572032899, 0.31950421259347284]\n",
      "Mean entropies for all classes: [9.785061560883255e-15, 9.798465117013382e-15, 9.49445653731299e-15]\n",
      "              precision    recall  f1-score   support\n",
      "\n",
      "           0       1.00      1.00      1.00         6\n",
      "           1       1.00      1.00      1.00         7\n",
      "           2       1.00      1.00      1.00         5\n",
      "\n",
      "    accuracy                           1.00        18\n",
      "   macro avg       1.00      1.00      1.00        18\n",
      "weighted avg       1.00      1.00      1.00        18\n",
      "\n",
      "-------------------------------------------------------------------------------------------------------------------\n"
     ]
    },
    {
     "name": "stderr",
     "output_type": "stream",
     "text": [
      "[Parallel(n_jobs=-1)]: Using backend LokyBackend with 12 concurrent workers.\n",
      "[Parallel(n_jobs=-1)]: Done   3 out of   3 | elapsed:  2.5min finished\n"
     ]
    },
    {
     "name": "stdout",
     "output_type": "stream",
     "text": [
      "K-Fold #1\n",
      "Mean negativities for all classes: [0.25404652819415235, 0.31397874948822213, 0.30751830887243015]\n",
      "Mean entropies for all classes: [9.559205880116245e-15, 9.731388091461168e-15, 8.731600457298876e-15]\n",
      "              precision    recall  f1-score   support\n",
      "\n",
      "           0       1.00      1.00      1.00         6\n",
      "           1       1.00      0.86      0.92         7\n",
      "           2       0.83      1.00      0.91         5\n",
      "\n",
      "    accuracy                           0.94        18\n",
      "   macro avg       0.94      0.95      0.94        18\n",
      "weighted avg       0.95      0.94      0.94        18\n",
      "\n",
      "-------------------------------------------------------------------------------------------------------------------\n"
     ]
    },
    {
     "name": "stderr",
     "output_type": "stream",
     "text": [
      "[Parallel(n_jobs=-1)]: Using backend LokyBackend with 12 concurrent workers.\n",
      "[Parallel(n_jobs=-1)]: Done   3 out of   3 | elapsed:  2.5min finished\n"
     ]
    },
    {
     "name": "stdout",
     "output_type": "stream",
     "text": [
      "K-Fold #2\n",
      "Mean negativities for all classes: [0.2447715353408464, 0.31324379002409436, 0.31855456465230536]\n",
      "Mean entropies for all classes: [9.579199658381067e-15, 9.616752664555618e-15, 9.38727648528722e-15]\n",
      "              precision    recall  f1-score   support\n",
      "\n",
      "           0       1.00      0.83      0.91         6\n",
      "           1       0.86      0.86      0.86         7\n",
      "           2       0.83      1.00      0.91         5\n",
      "\n",
      "    accuracy                           0.89        18\n",
      "   macro avg       0.90      0.90      0.89        18\n",
      "weighted avg       0.90      0.89      0.89        18\n",
      "\n",
      "-------------------------------------------------------------------------------------------------------------------\n"
     ]
    },
    {
     "name": "stderr",
     "output_type": "stream",
     "text": [
      "[Parallel(n_jobs=-1)]: Using backend LokyBackend with 12 concurrent workers.\n",
      "[Parallel(n_jobs=-1)]: Done   3 out of   3 | elapsed:  2.5min finished\n"
     ]
    },
    {
     "name": "stdout",
     "output_type": "stream",
     "text": [
      "K-Fold #3\n",
      "Mean negativities for all classes: [0.2592322166314262, 0.3106581334643487, 0.3189781307245685]\n",
      "Mean entropies for all classes: [9.20344198366549e-15, 9.666479545345717e-15, 9.168521049018e-15]\n",
      "              precision    recall  f1-score   support\n",
      "\n",
      "           0       1.00      0.83      0.91         6\n",
      "           1       0.67      0.57      0.62         7\n",
      "           2       0.57      0.80      0.67         5\n",
      "\n",
      "    accuracy                           0.72        18\n",
      "   macro avg       0.75      0.73      0.73        18\n",
      "weighted avg       0.75      0.72      0.73        18\n",
      "\n",
      "-------------------------------------------------------------------------------------------------------------------\n"
     ]
    },
    {
     "name": "stderr",
     "output_type": "stream",
     "text": [
      "[Parallel(n_jobs=-1)]: Using backend LokyBackend with 12 concurrent workers.\n",
      "[Parallel(n_jobs=-1)]: Done   3 out of   3 | elapsed:  2.5min finished\n"
     ]
    },
    {
     "name": "stdout",
     "output_type": "stream",
     "text": [
      "K-Fold #4\n",
      "Mean negativities for all classes: [0.2645269083348949, 0.31313050010166305, 0.318284685656282]\n",
      "Mean entropies for all classes: [9.679015826857663e-15, 9.58115891847957e-15, 9.241392489173891e-15]\n",
      "              precision    recall  f1-score   support\n",
      "\n",
      "           0       1.00      0.83      0.91         6\n",
      "           1       0.88      1.00      0.93         7\n",
      "           2       1.00      1.00      1.00         5\n",
      "\n",
      "    accuracy                           0.94        18\n",
      "   macro avg       0.96      0.94      0.95        18\n",
      "weighted avg       0.95      0.94      0.94        18\n",
      "\n",
      "-------------------------------------------------------------------------------------------------------------------\n"
     ]
    },
    {
     "name": "stderr",
     "output_type": "stream",
     "text": [
      "[Parallel(n_jobs=-1)]: Using backend LokyBackend with 12 concurrent workers.\n",
      "[Parallel(n_jobs=-1)]: Done   3 out of   3 | elapsed:  2.5min finished\n"
     ]
    },
    {
     "name": "stdout",
     "output_type": "stream",
     "text": [
      "K-Fold #5\n",
      "Mean negativities for all classes: [0.2479586548762867, 0.3146894428993223, 0.32010769997951766]\n",
      "Mean entropies for all classes: [9.630433116059454e-15, 9.448902324293635e-15, 9.179944889393998e-15]\n",
      "              precision    recall  f1-score   support\n",
      "\n",
      "           0       1.00      1.00      1.00         6\n",
      "           1       1.00      0.86      0.92         7\n",
      "           2       0.83      1.00      0.91         5\n",
      "\n",
      "    accuracy                           0.94        18\n",
      "   macro avg       0.94      0.95      0.94        18\n",
      "weighted avg       0.95      0.94      0.94        18\n",
      "\n",
      "-------------------------------------------------------------------------------------------------------------------\n"
     ]
    },
    {
     "name": "stderr",
     "output_type": "stream",
     "text": [
      "[Parallel(n_jobs=-1)]: Using backend LokyBackend with 12 concurrent workers.\n",
      "[Parallel(n_jobs=-1)]: Done   3 out of   3 | elapsed:  2.5min finished\n"
     ]
    },
    {
     "name": "stdout",
     "output_type": "stream",
     "text": [
      "K-Fold #6\n",
      "Mean negativities for all classes: [0.24318652035503924, 0.3103771781075743, 0.31828362654722864]\n",
      "Mean entropies for all classes: [9.5939711177496e-15, 9.8143928626068e-15, 9.293595559896325e-15]\n",
      "              precision    recall  f1-score   support\n",
      "\n",
      "           0       1.00      1.00      1.00         6\n",
      "           1       1.00      1.00      1.00         7\n",
      "           2       1.00      1.00      1.00         5\n",
      "\n",
      "    accuracy                           1.00        18\n",
      "   macro avg       1.00      1.00      1.00        18\n",
      "weighted avg       1.00      1.00      1.00        18\n",
      "\n",
      "-------------------------------------------------------------------------------------------------------------------\n"
     ]
    },
    {
     "name": "stderr",
     "output_type": "stream",
     "text": [
      "[Parallel(n_jobs=-1)]: Using backend LokyBackend with 12 concurrent workers.\n",
      "[Parallel(n_jobs=-1)]: Done   3 out of   3 | elapsed:  2.5min finished\n"
     ]
    },
    {
     "name": "stdout",
     "output_type": "stream",
     "text": [
      "K-Fold #7\n",
      "Mean negativities for all classes: [0.251445683738345, 0.31574481623861295, 0.3195701377577031]\n",
      "Mean entropies for all classes: [9.336625121365363e-15, 8.968983860891915e-15, 9.122401086162102e-15]\n",
      "              precision    recall  f1-score   support\n",
      "\n",
      "           0       1.00      0.83      0.91         6\n",
      "           1       0.88      1.00      0.93         7\n",
      "           2       1.00      1.00      1.00         5\n",
      "\n",
      "    accuracy                           0.94        18\n",
      "   macro avg       0.96      0.94      0.95        18\n",
      "weighted avg       0.95      0.94      0.94        18\n",
      "\n",
      "-------------------------------------------------------------------------------------------------------------------\n"
     ]
    },
    {
     "name": "stderr",
     "output_type": "stream",
     "text": [
      "[Parallel(n_jobs=-1)]: Using backend LokyBackend with 12 concurrent workers.\n",
      "[Parallel(n_jobs=-1)]: Done   3 out of   3 | elapsed:  2.5min finished\n"
     ]
    },
    {
     "name": "stdout",
     "output_type": "stream",
     "text": [
      "K-Fold #8\n",
      "Mean negativities for all classes: [0.2545947151938592, 0.309317471324496, 0.31944718316320864]\n",
      "Mean entropies for all classes: [9.899109280860674e-15, 9.484556335823063e-15, 8.996161978479344e-15]\n",
      "              precision    recall  f1-score   support\n",
      "\n",
      "           0       1.00      1.00      1.00         6\n",
      "           1       0.88      1.00      0.93         7\n",
      "           2       1.00      0.75      0.86         4\n",
      "\n",
      "    accuracy                           0.94        17\n",
      "   macro avg       0.96      0.92      0.93        17\n",
      "weighted avg       0.95      0.94      0.94        17\n",
      "\n",
      "-------------------------------------------------------------------------------------------------------------------\n"
     ]
    },
    {
     "name": "stderr",
     "output_type": "stream",
     "text": [
      "[Parallel(n_jobs=-1)]: Using backend LokyBackend with 12 concurrent workers.\n",
      "[Parallel(n_jobs=-1)]: Done   3 out of   3 | elapsed:  2.5min finished\n"
     ]
    },
    {
     "name": "stdout",
     "output_type": "stream",
     "text": [
      "K-Fold #9\n",
      "Mean negativities for all classes: [0.2762085484898274, 0.3121577895992971, 0.3193376572097171]\n",
      "Mean entropies for all classes: [9.7573726915032e-15, 8.904416416707506e-15, 9.576052156815614e-15]\n",
      "              precision    recall  f1-score   support\n",
      "\n",
      "           0       1.00      1.00      1.00         5\n",
      "           1       1.00      0.75      0.86         8\n",
      "           2       0.67      1.00      0.80         4\n",
      "\n",
      "    accuracy                           0.88        17\n",
      "   macro avg       0.89      0.92      0.89        17\n",
      "weighted avg       0.92      0.88      0.89        17\n",
      "\n",
      "-------------------------------------------------------------------------------------------------------------------\n",
      "AVG: Scores = 0.9212418300653594 F1-Scores = 0.9221090021090023 Negativity = [0.29681616172678393, 0.29184786218493486, 0.29218996333908204] Entropy = [9.692661071736543e-15, 9.340731476292097e-15, 9.527742936074637e-15]\n"
     ]
    },
    {
     "name": "stderr",
     "output_type": "stream",
     "text": [
      "[Parallel(n_jobs=-1)]: Using backend LokyBackend with 12 concurrent workers.\n",
      "[Parallel(n_jobs=-1)]: Done   3 out of   3 | elapsed:  2.5min finished\n"
     ]
    },
    {
     "name": "stdout",
     "output_type": "stream",
     "text": [
      "K-Fold #0\n",
      "Mean negativities for all classes: [0.25664743359929937, 0.31402715359547795, 0.32054832708948655]\n",
      "Mean entropies for all classes: [9.864759173282138e-15, 1.0314273571135964e-14, 9.635832832020197e-15]\n",
      "              precision    recall  f1-score   support\n",
      "\n",
      "           0       1.00      1.00      1.00         6\n",
      "           1       0.83      0.71      0.77         7\n",
      "           2       0.67      0.80      0.73         5\n",
      "\n",
      "    accuracy                           0.83        18\n",
      "   macro avg       0.83      0.84      0.83        18\n",
      "weighted avg       0.84      0.83      0.83        18\n",
      "\n",
      "-------------------------------------------------------------------------------------------------------------------\n"
     ]
    },
    {
     "name": "stderr",
     "output_type": "stream",
     "text": [
      "[Parallel(n_jobs=-1)]: Using backend LokyBackend with 12 concurrent workers.\n",
      "[Parallel(n_jobs=-1)]: Done   3 out of   3 | elapsed:  2.5min finished\n"
     ]
    },
    {
     "name": "stdout",
     "output_type": "stream",
     "text": [
      "K-Fold #1\n",
      "Mean negativities for all classes: [0.24082817089398512, 0.311710293935619, 0.3200000484028828]\n",
      "Mean entropies for all classes: [9.40409182555634e-15, 9.20762046502678e-15, 9.278523917226504e-15]\n",
      "              precision    recall  f1-score   support\n",
      "\n",
      "           0       1.00      1.00      1.00         6\n",
      "           1       1.00      1.00      1.00         7\n",
      "           2       1.00      1.00      1.00         5\n",
      "\n",
      "    accuracy                           1.00        18\n",
      "   macro avg       1.00      1.00      1.00        18\n",
      "weighted avg       1.00      1.00      1.00        18\n",
      "\n",
      "-------------------------------------------------------------------------------------------------------------------\n"
     ]
    },
    {
     "name": "stderr",
     "output_type": "stream",
     "text": [
      "[Parallel(n_jobs=-1)]: Using backend LokyBackend with 12 concurrent workers.\n",
      "[Parallel(n_jobs=-1)]: Done   3 out of   3 | elapsed:  2.6min finished\n"
     ]
    },
    {
     "name": "stdout",
     "output_type": "stream",
     "text": [
      "K-Fold #2\n",
      "Mean negativities for all classes: [0.26075364283852176, 0.31004175627979164, 0.31974377487701827]\n",
      "Mean entropies for all classes: [9.541973884468008e-15, 8.989693316293619e-15, 9.105538608207178e-15]\n",
      "              precision    recall  f1-score   support\n",
      "\n",
      "           0       1.00      1.00      1.00         6\n",
      "           1       1.00      0.86      0.92         7\n",
      "           2       0.83      1.00      0.91         5\n",
      "\n",
      "    accuracy                           0.94        18\n",
      "   macro avg       0.94      0.95      0.94        18\n",
      "weighted avg       0.95      0.94      0.94        18\n",
      "\n",
      "-------------------------------------------------------------------------------------------------------------------\n"
     ]
    },
    {
     "name": "stderr",
     "output_type": "stream",
     "text": [
      "[Parallel(n_jobs=-1)]: Using backend LokyBackend with 12 concurrent workers.\n",
      "[Parallel(n_jobs=-1)]: Done   3 out of   3 | elapsed:  2.5min finished\n"
     ]
    },
    {
     "name": "stdout",
     "output_type": "stream",
     "text": [
      "K-Fold #3\n",
      "Mean negativities for all classes: [0.2627936573825751, 0.31252923381719255, 0.3186319502620551]\n",
      "Mean entropies for all classes: [9.10821775733006e-15, 9.967639650591874e-15, 8.892994129736805e-15]\n",
      "              precision    recall  f1-score   support\n",
      "\n",
      "           0       1.00      0.83      0.91         6\n",
      "           1       0.88      1.00      0.93         7\n",
      "           2       1.00      1.00      1.00         5\n",
      "\n",
      "    accuracy                           0.94        18\n",
      "   macro avg       0.96      0.94      0.95        18\n",
      "weighted avg       0.95      0.94      0.94        18\n",
      "\n",
      "-------------------------------------------------------------------------------------------------------------------\n"
     ]
    },
    {
     "name": "stderr",
     "output_type": "stream",
     "text": [
      "[Parallel(n_jobs=-1)]: Using backend LokyBackend with 12 concurrent workers.\n",
      "[Parallel(n_jobs=-1)]: Done   3 out of   3 | elapsed:  4.2min finished\n"
     ]
    },
    {
     "name": "stdout",
     "output_type": "stream",
     "text": [
      "K-Fold #4\n",
      "Mean negativities for all classes: [0.24729844955694036, 0.308348171108452, 0.34461239714241254]\n",
      "Mean entropies for all classes: [1.032296221296929e-14, 9.602412532017457e-15, 1.2705928957243123e-14]\n",
      "              precision    recall  f1-score   support\n",
      "\n",
      "           0       1.00      0.83      0.91         6\n",
      "           1       0.86      0.86      0.86         7\n",
      "           2       0.83      1.00      0.91         5\n",
      "\n",
      "    accuracy                           0.89        18\n",
      "   macro avg       0.90      0.90      0.89        18\n",
      "weighted avg       0.90      0.89      0.89        18\n",
      "\n",
      "-------------------------------------------------------------------------------------------------------------------\n"
     ]
    },
    {
     "name": "stderr",
     "output_type": "stream",
     "text": [
      "[Parallel(n_jobs=-1)]: Using backend LokyBackend with 12 concurrent workers.\n",
      "[Parallel(n_jobs=-1)]: Done   3 out of   3 | elapsed:  3.9min finished\n"
     ]
    },
    {
     "name": "stdout",
     "output_type": "stream",
     "text": [
      "K-Fold #5\n",
      "Mean negativities for all classes: [0.2570752222176728, 0.320710004969462, 0.3184649615180646]\n",
      "Mean entropies for all classes: [1.0148860840139554e-14, 9.853674354532195e-15, 9.371835754030178e-15]\n",
      "              precision    recall  f1-score   support\n",
      "\n",
      "           0       1.00      0.83      0.91         6\n",
      "           1       0.83      0.71      0.77         7\n",
      "           2       0.71      1.00      0.83         5\n",
      "\n",
      "    accuracy                           0.83        18\n",
      "   macro avg       0.85      0.85      0.84        18\n",
      "weighted avg       0.86      0.83      0.83        18\n",
      "\n",
      "-------------------------------------------------------------------------------------------------------------------\n"
     ]
    },
    {
     "name": "stderr",
     "output_type": "stream",
     "text": [
      "[Parallel(n_jobs=-1)]: Using backend LokyBackend with 12 concurrent workers.\n",
      "[Parallel(n_jobs=-1)]: Done   3 out of   3 | elapsed:  3.8min finished\n"
     ]
    },
    {
     "name": "stdout",
     "output_type": "stream",
     "text": [
      "K-Fold #6\n",
      "Mean negativities for all classes: [0.24510866970707557, 0.3103846146072141, 0.3196644348172652]\n",
      "Mean entropies for all classes: [9.491609864710116e-15, 8.933679451365447e-15, 9.281078758064526e-15]\n",
      "              precision    recall  f1-score   support\n",
      "\n",
      "           0       1.00      1.00      1.00         6\n",
      "           1       1.00      0.86      0.92         7\n",
      "           2       0.83      1.00      0.91         5\n",
      "\n",
      "    accuracy                           0.94        18\n",
      "   macro avg       0.94      0.95      0.94        18\n",
      "weighted avg       0.95      0.94      0.94        18\n",
      "\n",
      "-------------------------------------------------------------------------------------------------------------------\n"
     ]
    },
    {
     "name": "stderr",
     "output_type": "stream",
     "text": [
      "[Parallel(n_jobs=-1)]: Using backend LokyBackend with 12 concurrent workers.\n",
      "[Parallel(n_jobs=-1)]: Done   3 out of   3 | elapsed:  3.8min finished\n"
     ]
    },
    {
     "name": "stdout",
     "output_type": "stream",
     "text": [
      "K-Fold #7\n",
      "Mean negativities for all classes: [0.2443838991348978, 0.3173208247602672, 0.31907659805872435]\n",
      "Mean entropies for all classes: [9.732281053982073e-15, 9.505619016704638e-15, 9.245820699183434e-15]\n",
      "              precision    recall  f1-score   support\n",
      "\n",
      "           0       1.00      0.83      0.91         6\n",
      "           1       0.83      0.71      0.77         7\n",
      "           2       0.71      1.00      0.83         5\n",
      "\n",
      "    accuracy                           0.83        18\n",
      "   macro avg       0.85      0.85      0.84        18\n",
      "weighted avg       0.86      0.83      0.83        18\n",
      "\n",
      "-------------------------------------------------------------------------------------------------------------------\n"
     ]
    },
    {
     "name": "stderr",
     "output_type": "stream",
     "text": [
      "[Parallel(n_jobs=-1)]: Using backend LokyBackend with 12 concurrent workers.\n",
      "[Parallel(n_jobs=-1)]: Done   3 out of   3 | elapsed:  3.8min finished\n"
     ]
    },
    {
     "name": "stdout",
     "output_type": "stream",
     "text": [
      "K-Fold #8\n",
      "Mean negativities for all classes: [0.2524397625161693, 0.31218178664656254, 0.31872602748817674]\n",
      "Mean entropies for all classes: [9.426659624239221e-15, 9.129457926127139e-15, 9.201002820111134e-15]\n",
      "              precision    recall  f1-score   support\n",
      "\n",
      "           0       1.00      1.00      1.00         6\n",
      "           1       0.88      1.00      0.93         7\n",
      "           2       1.00      0.75      0.86         4\n",
      "\n",
      "    accuracy                           0.94        17\n",
      "   macro avg       0.96      0.92      0.93        17\n",
      "weighted avg       0.95      0.94      0.94        17\n",
      "\n",
      "-------------------------------------------------------------------------------------------------------------------\n"
     ]
    },
    {
     "name": "stderr",
     "output_type": "stream",
     "text": [
      "[Parallel(n_jobs=-1)]: Using backend LokyBackend with 12 concurrent workers.\n",
      "[Parallel(n_jobs=-1)]: Done   3 out of   3 | elapsed:  3.9min finished\n"
     ]
    },
    {
     "name": "stdout",
     "output_type": "stream",
     "text": [
      "K-Fold #9\n",
      "Mean negativities for all classes: [0.25947946513798953, 0.315998593713932, 0.3438088548872804]\n",
      "Mean entropies for all classes: [9.229902170520485e-15, 9.218072778565449e-15, 7.16196461601939e-15]\n",
      "              precision    recall  f1-score   support\n",
      "\n",
      "           0       1.00      1.00      1.00         5\n",
      "           1       1.00      0.88      0.93         8\n",
      "           2       0.80      1.00      0.89         4\n",
      "\n",
      "    accuracy                           0.94        17\n",
      "   macro avg       0.93      0.96      0.94        17\n",
      "weighted avg       0.95      0.94      0.94        17\n",
      "\n",
      "-------------------------------------------------------------------------------------------------------------------\n",
      "AVG: Scores = 0.9104575163398693 F1-Scores = 0.9104865504865505 Negativity = [0.2970743047614213, 0.29084617107749566, 0.2968463913317772] Entropy = [9.938288525479433e-15, 9.296745402603209e-15, 9.212401936322936e-15]\n",
      "CPU times: total: 5min 57s\n",
      "Wall time: 8h 30min 52s\n"
     ]
    }
   ],
   "source": [
    "%%time\n",
    "scores_list = []\n",
    "f1scores_list = []\n",
    "negativities_list = []\n",
    "for SEED in range(n_times_kfold):\n",
    "    scores, f1scores, output_dict = execute_training_test_k_fold(\n",
    "                    X, \n",
    "                    y, \n",
    "                    k_folds=k_times_fold,\n",
    "                    random_seed = SEED, \n",
    "                    classifier_function=classifier_function, \n",
    "                    dic_classifier_params=dic_classifier_params,\n",
    "                    one_vs_classifier=OneVsRestClassifier, \n",
    "                    dic_training_params=dic_training_params,\n",
    "                    print_each_fold_metric=True,\n",
    "                    print_avg_metric=True)\n",
    "    scores_list.append(scores)\n",
    "    f1scores_list.append(f1scores)\n",
    "    negativities_list.append(output_dict[\"negativities\"])"
   ]
  },
  {
   "cell_type": "code",
   "execution_count": 4,
   "id": "edf6b067",
   "metadata": {},
   "outputs": [
    {
     "name": "stdout",
     "output_type": "stream",
     "text": [
      "[[0.9444444444444444, 0.7777777777777778, 0.9444444444444444, 1.0, 1.0, 0.8333333333333334, 0.9444444444444444, 0.8888888888888888, 0.8823529411764706, 0.9411764705882353], [0.8888888888888888, 0.9444444444444444, 0.9444444444444444, 0.8888888888888888, 1.0, 0.8888888888888888, 0.7777777777777778, 0.8888888888888888, 0.8823529411764706, 0.8823529411764706], [1.0, 0.9444444444444444, 0.9444444444444444, 0.8888888888888888, 0.8888888888888888, 0.9444444444444444, 0.9444444444444444, 0.8333333333333334, 0.8823529411764706, 0.8235294117647058], [0.8333333333333334, 0.9444444444444444, 0.9444444444444444, 0.9444444444444444, 0.9444444444444444, 0.9444444444444444, 0.8888888888888888, 0.8888888888888888, 0.9411764705882353, 0.9411764705882353], [1.0, 0.8333333333333334, 0.8888888888888888, 1.0, 0.9444444444444444, 0.8333333333333334, 0.8888888888888888, 1.0, 1.0, 0.8235294117647058], [1.0, 0.8888888888888888, 0.9444444444444444, 0.9444444444444444, 0.8888888888888888, 0.9444444444444444, 0.9444444444444444, 0.8888888888888888, 0.9411764705882353, 0.8823529411764706], [1.0, 1.0, 0.8888888888888888, 0.8888888888888888, 0.9444444444444444, 0.9444444444444444, 1.0, 1.0, 0.8235294117647058, 0.8823529411764706], [1.0, 0.9444444444444444, 0.9444444444444444, 1.0, 0.9444444444444444, 0.9444444444444444, 0.8888888888888888, 0.7777777777777778, 0.8823529411764706, 0.7647058823529411], [0.9444444444444444, 0.7222222222222222, 1.0, 0.8333333333333334, 0.9444444444444444, 0.8888888888888888, 1.0, 0.8333333333333334, 0.9411764705882353, 0.8823529411764706], [0.9444444444444444, 0.9444444444444444, 0.8888888888888888, 0.9444444444444444, 1.0, 0.8888888888888888, 0.8333333333333334, 0.9444444444444444, 0.9411764705882353, 0.8235294117647058], [0.9444444444444444, 0.8888888888888888, 0.8333333333333334, 0.8888888888888888, 0.8888888888888888, 1.0, 1.0, 0.8888888888888888, 0.9411764705882353, 0.9411764705882353], [1.0, 0.8888888888888888, 0.8333333333333334, 0.8888888888888888, 1.0, 0.8888888888888888, 0.9444444444444444, 1.0, 0.9411764705882353, 0.9411764705882353], [0.8888888888888888, 0.9444444444444444, 0.8333333333333334, 0.9444444444444444, 0.8888888888888888, 0.9444444444444444, 0.9444444444444444, 1.0, 1.0, 0.8235294117647058], [0.9444444444444444, 0.9444444444444444, 0.7222222222222222, 1.0, 0.9444444444444444, 0.9444444444444444, 0.8888888888888888, 0.9444444444444444, 0.8235294117647058, 0.8235294117647058], [0.8333333333333334, 1.0, 0.8888888888888888, 0.8333333333333334, 0.8888888888888888, 0.9444444444444444, 0.7777777777777778, 0.8888888888888888, 0.8823529411764706, 0.9411764705882353], [0.9444444444444444, 0.8888888888888888, 0.8333333333333334, 0.8888888888888888, 0.9444444444444444, 1.0, 0.9444444444444444, 0.9444444444444444, 0.8823529411764706, 0.8235294117647058], [0.7777777777777778, 1.0, 0.8888888888888888, 1.0, 0.8888888888888888, 0.8888888888888888, 0.9444444444444444, 0.9444444444444444, 1.0, 0.9411764705882353], [1.0, 1.0, 0.8888888888888888, 0.9444444444444444, 0.8888888888888888, 0.9444444444444444, 0.9444444444444444, 0.8888888888888888, 0.9411764705882353, 1.0], [1.0, 0.9444444444444444, 0.8888888888888888, 0.7222222222222222, 0.9444444444444444, 0.9444444444444444, 1.0, 0.9444444444444444, 0.9411764705882353, 0.8823529411764706], [0.8333333333333334, 1.0, 0.9444444444444444, 0.9444444444444444, 0.8888888888888888, 0.8333333333333334, 0.9444444444444444, 0.8333333333333334, 0.9411764705882353, 0.9411764705882353]]\n"
     ]
    }
   ],
   "source": [
    "print(scores_list)"
   ]
  },
  {
   "cell_type": "code",
   "execution_count": 5,
   "id": "113e5328",
   "metadata": {},
   "outputs": [
    {
     "data": {
      "text/plain": [
       "0.9164215686274509"
      ]
     },
     "execution_count": 5,
     "metadata": {},
     "output_type": "execute_result"
    }
   ],
   "source": [
    "import numpy as np\n",
    "np.mean([np.mean(i) for i in scores_list])"
   ]
  },
  {
   "cell_type": "code",
   "execution_count": 6,
   "id": "5d5fcbfa",
   "metadata": {},
   "outputs": [
    {
     "data": {
      "text/plain": [
       "[0.915686274509804,\n",
       " 0.8986928104575164,\n",
       " 0.9094771241830065,\n",
       " 0.9215686274509803,\n",
       " 0.9212418300653595,\n",
       " 0.9267973856209151,\n",
       " 0.9372549019607843,\n",
       " 0.9091503267973856,\n",
       " 0.8990196078431373,\n",
       " 0.9153594771241831,\n",
       " 0.9215686274509803,\n",
       " 0.9326797385620915,\n",
       " 0.9212418300653595,\n",
       " 0.8980392156862746,\n",
       " 0.8879084967320262,\n",
       " 0.9094771241830065,\n",
       " 0.9274509803921568,\n",
       " 0.9441176470588235,\n",
       " 0.9212418300653594,\n",
       " 0.9104575163398693]"
      ]
     },
     "execution_count": 6,
     "metadata": {},
     "output_type": "execute_result"
    }
   ],
   "source": [
    "[np.mean(i) for i in scores_list]"
   ]
  },
  {
   "cell_type": "code",
   "execution_count": 7,
   "id": "168e8aff",
   "metadata": {},
   "outputs": [
    {
     "name": "stdout",
     "output_type": "stream",
     "text": [
      "Media Score dos N K-Fold 0.9164215686274509\n",
      "Maior Score dos K-Fold 0.9441176470588235\n",
      "Menor Score dos K-Fold 0.8879084967320262\n",
      "\n",
      "\n",
      "[[0.9444444444444444, 0.7777777777777778, 0.9444444444444444, 1.0, 1.0, 0.8333333333333334, 0.9444444444444444, 0.8888888888888888, 0.8823529411764706, 0.9411764705882353], [0.8888888888888888, 0.9444444444444444, 0.9444444444444444, 0.8888888888888888, 1.0, 0.8888888888888888, 0.7777777777777778, 0.8888888888888888, 0.8823529411764706, 0.8823529411764706], [1.0, 0.9444444444444444, 0.9444444444444444, 0.8888888888888888, 0.8888888888888888, 0.9444444444444444, 0.9444444444444444, 0.8333333333333334, 0.8823529411764706, 0.8235294117647058], [0.8333333333333334, 0.9444444444444444, 0.9444444444444444, 0.9444444444444444, 0.9444444444444444, 0.9444444444444444, 0.8888888888888888, 0.8888888888888888, 0.9411764705882353, 0.9411764705882353], [1.0, 0.8333333333333334, 0.8888888888888888, 1.0, 0.9444444444444444, 0.8333333333333334, 0.8888888888888888, 1.0, 1.0, 0.8235294117647058], [1.0, 0.8888888888888888, 0.9444444444444444, 0.9444444444444444, 0.8888888888888888, 0.9444444444444444, 0.9444444444444444, 0.8888888888888888, 0.9411764705882353, 0.8823529411764706], [1.0, 1.0, 0.8888888888888888, 0.8888888888888888, 0.9444444444444444, 0.9444444444444444, 1.0, 1.0, 0.8235294117647058, 0.8823529411764706], [1.0, 0.9444444444444444, 0.9444444444444444, 1.0, 0.9444444444444444, 0.9444444444444444, 0.8888888888888888, 0.7777777777777778, 0.8823529411764706, 0.7647058823529411], [0.9444444444444444, 0.7222222222222222, 1.0, 0.8333333333333334, 0.9444444444444444, 0.8888888888888888, 1.0, 0.8333333333333334, 0.9411764705882353, 0.8823529411764706], [0.9444444444444444, 0.9444444444444444, 0.8888888888888888, 0.9444444444444444, 1.0, 0.8888888888888888, 0.8333333333333334, 0.9444444444444444, 0.9411764705882353, 0.8235294117647058], [0.9444444444444444, 0.8888888888888888, 0.8333333333333334, 0.8888888888888888, 0.8888888888888888, 1.0, 1.0, 0.8888888888888888, 0.9411764705882353, 0.9411764705882353], [1.0, 0.8888888888888888, 0.8333333333333334, 0.8888888888888888, 1.0, 0.8888888888888888, 0.9444444444444444, 1.0, 0.9411764705882353, 0.9411764705882353], [0.8888888888888888, 0.9444444444444444, 0.8333333333333334, 0.9444444444444444, 0.8888888888888888, 0.9444444444444444, 0.9444444444444444, 1.0, 1.0, 0.8235294117647058], [0.9444444444444444, 0.9444444444444444, 0.7222222222222222, 1.0, 0.9444444444444444, 0.9444444444444444, 0.8888888888888888, 0.9444444444444444, 0.8235294117647058, 0.8235294117647058], [0.8333333333333334, 1.0, 0.8888888888888888, 0.8333333333333334, 0.8888888888888888, 0.9444444444444444, 0.7777777777777778, 0.8888888888888888, 0.8823529411764706, 0.9411764705882353], [0.9444444444444444, 0.8888888888888888, 0.8333333333333334, 0.8888888888888888, 0.9444444444444444, 1.0, 0.9444444444444444, 0.9444444444444444, 0.8823529411764706, 0.8235294117647058], [0.7777777777777778, 1.0, 0.8888888888888888, 1.0, 0.8888888888888888, 0.8888888888888888, 0.9444444444444444, 0.9444444444444444, 1.0, 0.9411764705882353], [1.0, 1.0, 0.8888888888888888, 0.9444444444444444, 0.8888888888888888, 0.9444444444444444, 0.9444444444444444, 0.8888888888888888, 0.9411764705882353, 1.0], [1.0, 0.9444444444444444, 0.8888888888888888, 0.7222222222222222, 0.9444444444444444, 0.9444444444444444, 1.0, 0.9444444444444444, 0.9411764705882353, 0.8823529411764706], [0.8333333333333334, 1.0, 0.9444444444444444, 0.9444444444444444, 0.8888888888888888, 0.8333333333333334, 0.9444444444444444, 0.8333333333333334, 0.9411764705882353, 0.9411764705882353]]\n"
     ]
    }
   ],
   "source": [
    "print(\"Media Score dos N K-Fold\", np.mean([np.mean(i) for i in scores_list]))\n",
    "print(\"Maior Score dos K-Fold\", max([np.mean(i) for i in scores_list]))\n",
    "print(\"Menor Score dos K-Fold\", min([np.mean(i) for i in scores_list]))\n",
    "\n",
    "print()\n",
    "print()\n",
    "print(scores_list)"
   ]
  },
  {
   "cell_type": "code",
   "execution_count": 8,
   "id": "fcd239e5",
   "metadata": {},
   "outputs": [
    {
     "name": "stdout",
     "output_type": "stream",
     "text": [
      "Media F1Score dos N K-Fold 0.9104865504865505\n",
      "Maior F1Score dos K-Fold 1.0\n",
      "Menor F1Score dos K-Fold 0.8321678321678321\n",
      "\n",
      "\n",
      "[0.8321678321678321, 1.0, 0.9440559440559441, 0.9474747474747475, 0.8917748917748917, 0.8372183372183372, 0.9440559440559441, 0.8372183372183372, 0.9301587301587301, 0.9407407407407408]\n"
     ]
    }
   ],
   "source": [
    "print(\"Media F1Score dos N K-Fold\", np.mean([np.mean(i) for i in f1scores]))\n",
    "print(\"Maior F1Score dos K-Fold\", max([np.mean(i) for i in f1scores]))\n",
    "print(\"Menor F1Score dos K-Fold\", min([np.mean(i) for i in f1scores]))\n",
    "\n",
    "print()\n",
    "print()\n",
    "print(f1scores)"
   ]
  },
  {
   "cell_type": "code",
   "execution_count": 9,
   "id": "3dcbc812",
   "metadata": {},
   "outputs": [
    {
     "name": "stdout",
     "output_type": "stream",
     "text": [
      "Media Negativity dos N K-Fold [0.253759081190823, 0.3127477658083485, 0.3214314678387849]\n",
      "\n",
      "\n",
      "[[[0.2453244912183574, 0.2586154171567064, 0.2480643472805263, 0.2504705136385186, 0.26852559871687975, 0.2434021271262395, 0.25068918342335444, 0.24652384096419913, 0.24517447575574108, 0.275533035166454], [0.31499408154293196, 0.30708962611229507, 0.31694426353840993, 0.3129865521448348, 0.3148598359957664, 0.30956445206390887, 0.30937243887926785, 0.32039217528981084, 0.31617733854944385, 0.30778011243873293], [0.34079651515147735, 0.320016909328785, 0.31936135397463267, 0.318436656489147, 0.319201620826099, 0.3193538580899258, 0.35383975059909056, 0.3186865715978711, 0.34226703916224926, 0.31971408532520906]], [[0.2443612463290722, 0.24864434058035398, 0.2457766103648271, 0.25005676688375256, 0.2654855230949264, 0.257886383997692, 0.2654848165926484, 0.25502432030125444, 0.2531251346975858, 0.24331554119648863], [0.31838143262504004, 0.3148000367628589, 0.32011326206652996, 0.3111960284652924, 0.30233326774668146, 0.3181685769025073, 0.30561377018284946, 0.30711506158763996, 0.30954015139616187, 0.31336213409536007], [0.31910196120533446, 0.32029508660335576, 0.31866352666038805, 0.33031478415382964, 0.318815119159855, 0.3185893616842296, 0.3185971742053522, 0.318848316016026, 0.31872050872220625, 0.31918808032147467]], [[0.25144806765226146, 0.25626160161846684, 0.24513686135834004, 0.25850938727623246, 0.24210437288075567, 0.2645251627374922, 0.2557919518785259, 0.2601048020555925, 0.2589794545190369, 0.2530593176877709], [0.30986245242678634, 0.310936249693641, 0.3130067202697357, 0.3166686418906655, 0.3131246283771303, 0.30819822170018646, 0.3056272894809098, 0.3212068600409259, 0.31521223977782453, 0.3157388596491342], [0.31897966693770485, 0.31937471693157676, 0.3197513266755694, 0.318906394711265, 0.31946985607035383, 0.31986166778717273, 0.3186277496844006, 0.3194904858119915, 0.3187882833541385, 0.3201968116963813]], [[0.27240634859905766, 0.24301817460597894, 0.24695620824667022, 0.2458905516292566, 0.25692444188274904, 0.24705821743139117, 0.26625558256101023, 0.24905985606589848, 0.24422676043666566, 0.26075183564348114], [0.3094855910162429, 0.32060779201973694, 0.3122105536813058, 0.31498448828352354, 0.3068813782779827, 0.3087076292650053, 0.3088595937371041, 0.312931986562563, 0.31026273464802484, 0.3061708342918444], [0.3197591562554379, 0.3192624988167155, 0.318799307620097, 0.31909908971629974, 0.319064526247538, 0.3184712825805095, 0.32041113272192157, 0.31912719647996407, 0.3338988888952798, 0.3470510455571464]], [[0.2657220411486268, 0.2575155630695379, 0.26327536654810857, 0.2639630660926643, 0.24455652497755778, 0.26042074178796804, 0.24437546893069484, 0.25870048765901793, 0.24954036024120518, 0.2644890385331435], [0.30783178161949687, 0.32076726996815175, 0.30626539336400366, 0.3133530239508588, 0.3114633958221181, 0.31544632949071766, 0.30772351622295485, 0.30836084287939763, 0.3153329161794419, 0.3146624947620762], [0.31841588870505294, 0.32052508631415605, 0.3194464381198813, 0.3187225008665746, 0.3204743872547089, 0.3187431920101892, 0.3188955009997885, 0.3194602634613728, 0.31864360759357657, 0.3193878933945476]], [[0.24111034654626273, 0.2496141857486397, 0.26125321831589365, 0.2505579141726796, 0.2469114451177156, 0.24892711616565177, 0.2570850617318588, 0.2577434226570705, 0.24691523321692777, 0.27367884164942174], [0.3159473550516398, 0.32009515302475244, 0.3176527943451762, 0.31714356182691905, 0.3216095912145275, 0.3124424449904007, 0.31142277161997556, 0.31054860585128385, 0.30469840596025694, 0.3140573813137685], [0.31828463434278886, 0.31985103322073827, 0.3195153251780574, 0.320139948368895, 0.31896453829042, 0.3190003624980803, 0.3184654767331426, 0.31897852544346406, 0.31855710115348584, 0.3184563483957796]], [[0.24675393067153845, 0.2513623330140233, 0.26048603938272896, 0.2456407024279643, 0.25088614065387477, 0.27727476100465737, 0.24410629131388717, 0.26030405731639195, 0.2506614267074716, 0.2464034468163381], [0.3152895644498091, 0.3006044544704582, 0.31223893441980427, 0.3134719013516777, 0.3126493849511266, 0.31338141632649513, 0.30268329612227884, 0.3210188850914594, 0.3120306553263048, 0.3093710441243294], [0.3191467316627737, 0.3196194463605291, 0.319854938081675, 0.3202122304037098, 0.31877722807538134, 0.31922074140800066, 0.3193878616202375, 0.3517832508427714, 0.31991920363805, 0.3189872206157389]], [[0.2599370847620352, 0.2687943882245889, 0.250055533488047, 0.24968815057827826, 0.24929263359626835, 0.2533415938517572, 0.24976305986106467, 0.25074341849977916, 0.2550410964225241, 0.2740807493009547], [0.30436268551535106, 0.31173342324850467, 0.309273221832816, 0.31503239651617027, 0.30927042160152785, 0.31108509116050015, 0.3105044354612996, 0.31976111427802434, 0.3126252161631825, 0.3165748679466591], [0.3188382022139814, 0.31884427539645666, 0.31837157994927595, 0.31961060226210847, 0.31862418920149443, 0.3184659878562599, 0.32017594557292, 0.319168763705797, 0.31879720055834865, 0.3201170931245768]], [[0.24967479575872298, 0.2601143109442712, 0.25031760384986607, 0.259168807312522, 0.2555554122763902, 0.25965670680815145, 0.2456736881908389, 0.24697723038795796, 0.2573207733043667, 0.2537951943288718], [0.317086240090903, 0.32167226555719286, 0.30230253898662396, 0.31902726338396536, 0.30942173440773585, 0.32327981009166024, 0.31184552128771653, 0.31068126768706905, 0.3131729525267676, 0.31597553817691726], [0.3194821708779596, 0.3199693136594429, 0.3184095820966114, 0.3190949864188177, 0.3184813034514343, 0.3192431364218247, 0.31894468897148215, 0.3185642608550637, 0.3202378487522848, 0.31914522805076573]], [[0.25254457752742127, 0.26281672741787926, 0.2457558833754946, 0.24760806692392767, 0.24468532224183098, 0.2469289873525362, 0.2741330027551111, 0.2611847180744131, 0.25220840641520265, 0.24494239903714252], [0.3090710430467814, 0.3148637507638186, 0.3139183976472235, 0.31391454704638055, 0.3123084768624393, 0.31847529309661493, 0.3125808444160919, 0.321147938580819, 0.30765199812106697, 0.3068034667499808], [0.33801106424748684, 0.318628135853793, 0.32409567144718854, 0.31909504446597076, 0.3410136371039832, 0.3189838994170941, 0.31888549013783496, 0.3184083582529618, 0.3202748614067365, 0.3192016050498147]], [[0.24089414045554042, 0.25398757172292874, 0.25722860173042267, 0.26137085406755795, 0.24572693252341787, 0.24558760707378133, 0.26492982575826907, 0.2534734070132064, 0.26158342302331766, 0.2391359966164952], [0.3076474977762296, 0.3119291304909513, 0.31206480581883617, 0.31254991088016465, 0.3151902869603788, 0.31940685157989573, 0.3105548551022214, 0.30901591023166536, 0.31194677319354647, 0.3128109116505846], [0.3198474561725945, 0.3203694626392626, 0.3191318414261455, 0.32914458602196006, 0.31843509223762845, 0.3184590304212322, 0.3190063250611101, 0.31889366096962546, 0.31917998560347577, 0.31889207390386154]], [[0.24696695411714012, 0.25166920678821136, 0.2505597467676053, 0.25495657955575507, 0.25626378370002345, 0.2654248237251118, 0.2416311932116728, 0.25415017918322624, 0.2593743563687968, 0.24750036442973702], [0.3178116759883372, 0.3170523862866598, 0.31738056304966455, 0.3093726751348432, 0.31413469417940354, 0.31604806499741783, 0.3174959829979323, 0.3076327413191882, 0.3174871653941138, 0.31387830870033967], [0.318081908200458, 0.3200239829931884, 0.31881978234883834, 0.31867581331957695, 0.318491241531774, 0.3181298598239152, 0.3200106938081555, 0.32040210089154003, 0.31878319434696295, 0.31859841483222284]], [[0.2586962473527577, 0.2486107286179434, 0.2425386448557782, 0.24666484261568927, 0.2625081284984556, 0.27477165334269504, 0.2551477355993003, 0.24981270109818196, 0.2603204037346758, 0.2513044039095645], [0.3184488644008121, 0.304263975743814, 0.3081375446472722, 0.3173669800534186, 0.32186994313060646, 0.30980024483174345, 0.31487492682995805, 0.3060837957237819, 0.3151857197586198, 0.31388016441026645], [0.31887997865449075, 0.32005710166561285, 0.3202359130350475, 0.35308357678578683, 0.3425339809444376, 0.31863683042487406, 0.31921880174132733, 0.339314547770296, 0.3184917534656707, 0.31898916529332666]], [[0.2617988887185609, 0.259503678893253, 0.24699016944225693, 0.24835803393620884, 0.2414798339170955, 0.246554963268029, 0.24344262011895243, 0.24305254984278435, 0.2684169963292135, 0.27392424836910906], [0.31231729837346267, 0.31778862450259054, 0.3109882493373443, 0.31058420077539417, 0.31583301842507455, 0.3092152860368736, 0.31221090641631516, 0.3102277648203045, 0.31872697057599675, 0.30847486703087074], [0.31848450003486645, 0.31989267760923273, 0.3205939942963954, 0.31812591782913935, 0.3182456315155638, 0.3201497919945991, 0.33491496807851323, 0.3190405618125728, 0.31872387935312063, 0.31919485746027443]], [[0.24337238026380761, 0.25047314022953043, 0.2489608320901674, 0.2430220605641484, 0.24486625279534996, 0.2459732893943067, 0.26212014054508864, 0.25292052631241874, 0.25798330760146504, 0.247450855237129], [0.309705922696243, 0.3093525240755989, 0.30095697511426056, 0.31894597284475545, 0.3224297085021596, 0.3104085789032493, 0.3098001919973845, 0.31511872728555074, 0.3216429181921842, 0.3117351413971032], [0.3197285203564018, 0.31854981881546474, 0.3193596206459592, 0.32008680208373097, 0.31996051791048064, 0.31902533428520363, 0.3486071952294185, 0.31881289660228773, 0.3525342021211355, 0.3183645009557204]], [[0.2578890214541454, 0.24688801846413705, 0.2595437733600932, 0.271696311559557, 0.25683781260701377, 0.2424309217247693, 0.2553208847378262, 0.2533981469256468, 0.24571125215638887, 0.2693739753059903], [0.30802427641969055, 0.3209032392551968, 0.31697171383862105, 0.3120262028198364, 0.3040046389098925, 0.31272834103185754, 0.30743497419065124, 0.31514170700079136, 0.31870971364958356, 0.3145803664021932], [0.3188523514897012, 0.3189438177740627, 0.3199906842563987, 0.31901653195506346, 0.31849109744575876, 0.3190801749171887, 0.3197209482935128, 0.31854541654596047, 0.3468165749720262, 0.3191018240605514]], [[0.24987428313602825, 0.25596258926535287, 0.26136695165777507, 0.24357083083686504, 0.27556637882697516, 0.2616772738496517, 0.24810087567503913, 0.24497052991211385, 0.2490037767021318, 0.252046230753542], [0.3213348625943558, 0.3120386654718221, 0.3193580174992219, 0.3117488802883714, 0.3059024568804741, 0.3074691967090943, 0.30734588780154576, 0.3101093574549622, 0.3205805749423113, 0.31135598357264666], [0.32055330751052735, 0.32046790346755816, 0.31870717402890275, 0.31846255732466167, 0.3196544914007861, 0.3183348074358772, 0.3200901518356688, 0.31893347249134685, 0.3186773474017328, 0.3203162389599447]], [[0.24691114468451816, 0.2539565870411819, 0.261157646730149, 0.2615662144855527, 0.2570905035484393, 0.24424098800535743, 0.24821936655186366, 0.24483385251669226, 0.263183229104343, 0.24861149399599078], [0.3126069460815658, 0.31529716766661714, 0.30180293560788185, 0.31134260284166193, 0.3076828500958132, 0.3088244770524843, 0.31682440754382246, 0.3077160211775849, 0.30718064182649973, 0.3133589227723167], [0.3183130848332422, 0.31282157239713393, 0.31865710893544485, 0.3206575440055672, 0.33200776217336486, 0.3188957633358352, 0.3182971482199541, 0.3198646576190192, 0.3190709833177142, 0.31865274666685167]], [[0.25259231538358906, 0.25404652819415235, 0.2447715353408464, 0.2592322166314262, 0.2645269083348949, 0.2479586548762867, 0.24318652035503924, 0.251445683738345, 0.2545947151938592, 0.2762085484898274], [0.3183519572032899, 0.31397874948822213, 0.31324379002409436, 0.3106581334643487, 0.31313050010166305, 0.3146894428993223, 0.3103771781075743, 0.31574481623861295, 0.309317471324496, 0.3121577895992971], [0.31950421259347284, 0.30751830887243015, 0.31855456465230536, 0.3189781307245685, 0.318284685656282, 0.32010769997951766, 0.31828362654722864, 0.3195701377577031, 0.31944718316320864, 0.3193376572097171]], [[0.25664743359929937, 0.24082817089398512, 0.26075364283852176, 0.2627936573825751, 0.24729844955694036, 0.2570752222176728, 0.24510866970707557, 0.2443838991348978, 0.2524397625161693, 0.25947946513798953], [0.31402715359547795, 0.311710293935619, 0.31004175627979164, 0.31252923381719255, 0.308348171108452, 0.320710004969462, 0.3103846146072141, 0.3173208247602672, 0.31218178664656254, 0.315998593713932], [0.32054832708948655, 0.3200000484028828, 0.31974377487701827, 0.3186319502620551, 0.34461239714241254, 0.3184649615180646, 0.3196644348172652, 0.31907659805872435, 0.31872602748817674, 0.3438088548872804]]]\n"
     ]
    }
   ],
   "source": [
    "print(\"Media Negativity dos N K-Fold\", [np.mean([neg[i] for neg in negativities_list]) for i in range(len(set(y)))])\n",
    "\n",
    "print()\n",
    "print()\n",
    "print(negativities_list)"
   ]
  }
 ],
 "metadata": {
  "kernelspec": {
   "display_name": "Python 3",
   "language": "python",
   "name": "python3"
  },
  "language_info": {
   "codemirror_mode": {
    "name": "ipython",
    "version": 3
   },
   "file_extension": ".py",
   "mimetype": "text/x-python",
   "name": "python",
   "nbconvert_exporter": "python",
   "pygments_lexer": "ipython3",
   "version": "3.9.16"
  }
 },
 "nbformat": 4,
 "nbformat_minor": 5
}
