{
 "cells": [
  {
   "attachments": {},
   "cell_type": "markdown",
   "metadata": {},
   "source": [
    "# Researching best params for new approach\n",
    "On this notebook, we try to find the best params for our suggested approach on ICQ classifier."
   ]
  },
  {
   "attachments": {},
   "cell_type": "markdown",
   "metadata": {},
   "source": [
    "## Setup"
   ]
  },
  {
   "attachments": {},
   "cell_type": "markdown",
   "metadata": {},
   "source": [
    "### Importing libraries and helper methods"
   ]
  },
  {
   "cell_type": "code",
   "execution_count": 1,
   "metadata": {},
   "outputs": [],
   "source": [
    "import sys, os\n",
    "sys.path.append(os.path.abspath('../../../classifiers'))\n",
    "sys.path.append(os.path.abspath('../../../training'))\n",
    "sys.path.append(os.path.abspath('../../../validation'))"
   ]
  },
  {
   "cell_type": "code",
   "execution_count": 2,
   "metadata": {},
   "outputs": [
    {
     "name": "stderr",
     "output_type": "stream",
     "text": [
      "Intel(R) Extension for Scikit-learn* enabled (https://github.com/intel/scikit-learn-intelex)\n"
     ]
    }
   ],
   "source": [
    "import warnings\n",
    "from sklearn.exceptions import UndefinedMetricWarning\n",
    "\n",
    "# We're ignoring some warning from sklearn.metrics.classification_report\n",
    "warnings.simplefilter(action='ignore', category=UndefinedMetricWarning)"
   ]
  },
  {
   "cell_type": "code",
   "execution_count": 3,
   "metadata": {},
   "outputs": [],
   "source": [
    "from sklearn import datasets\n",
    "from sklearn.model_selection import train_test_split\n",
    "from sklearn.model_selection import StratifiedKFold"
   ]
  },
  {
   "attachments": {},
   "cell_type": "markdown",
   "metadata": {},
   "source": [
    "### Setting up database, k-fold and random seed"
   ]
  },
  {
   "cell_type": "code",
   "execution_count": 4,
   "metadata": {},
   "outputs": [],
   "source": [
    "seed = 40\n",
    "\n",
    "# This decides whether we're trying our proposed approach (True) or the original one (False)\n",
    "load_inputvector_env_state = False\n",
    "\n",
    "# This decides whether we normalize per feature (0) or per instance (1)\n",
    "normalize_axis = 0"
   ]
  },
  {
   "cell_type": "code",
   "execution_count": 5,
   "metadata": {},
   "outputs": [],
   "source": [
    "iris = datasets.load_iris()\n",
    "\n",
    "X = iris.data[:, [0,1,2,3]]\n",
    "y = iris.target\n",
    "X_train, X_test, y_train, y_test = train_test_split(X, y, test_size=0.2, random_state=seed)\n",
    "cv = StratifiedKFold(n_splits=10, random_state=seed, shuffle=True)"
   ]
  },
  {
   "attachments": {},
   "cell_type": "markdown",
   "metadata": {},
   "source": [
    "## Search for best params on sigmaQ = sigmaX + sigmaY + sigmaZ"
   ]
  },
  {
   "attachments": {},
   "cell_type": "markdown",
   "metadata": {},
   "source": [
    "### Model"
   ]
  },
  {
   "cell_type": "code",
   "execution_count": 6,
   "metadata": {},
   "outputs": [],
   "source": [
    "from iqc_classifier_training import IQCClassifier\n",
    "from sklearn.multiclass import OneVsRestClassifier\n",
    "from classifiers_ICQ import iqc_classifier"
   ]
  },
  {
   "cell_type": "code",
   "execution_count": 7,
   "metadata": {},
   "outputs": [],
   "source": [
    "dic_training_params = {\"max_iter\": 1000,\n",
    "    \"accuracy_succ\": 0.99,\n",
    "    \"plot_graphs_and_metrics\": False,\n",
    "    \"plot_graphs_in_classifier\": False,\n",
    "    \"random_seed\": 1,\n",
    "    \"learning_rate\": 0.01,\n",
    "    \"do_classes_refit\":True,\n",
    "    \"reset_weights_epoch\":0,\n",
    "    \"batch\":1}"
   ]
  },
  {
   "cell_type": "code",
   "execution_count": 8,
   "metadata": {},
   "outputs": [],
   "source": [
    "dic_classifier_params = {}\n",
    "dic_classifier_params[\"sigma_q_params\"] = [1,1,1,0]\n",
    "dic_classifier_params[\"use_polar_coordinates_on_sigma_q\"] = False\n",
    "dic_classifier_params[\"load_inputvector_env_state\"] = load_inputvector_env_state\n",
    "dic_classifier_params[\"normalize_axis\"] = normalize_axis"
   ]
  },
  {
   "cell_type": "code",
   "execution_count": 9,
   "metadata": {},
   "outputs": [],
   "source": [
    "icq = OneVsRestClassifier(IQCClassifier(\n",
    "                        classifier_function=iqc_classifier, \n",
    "                        dic_classifier_params=dic_classifier_params,\n",
    "                        dic_training_params=dic_training_params), n_jobs=-1, verbose=1)"
   ]
  },
  {
   "attachments": {},
   "cell_type": "markdown",
   "metadata": {},
   "source": [
    "### Search for Sigma Q Params\n",
    "First research on the new approach (having weights on U operator and inputs on rho env) - varying SigmaQ params"
   ]
  },
  {
   "cell_type": "code",
   "execution_count": 10,
   "metadata": {},
   "outputs": [],
   "source": [
    "from sklearn.model_selection import RandomizedSearchCV, GridSearchCV"
   ]
  },
  {
   "attachments": {},
   "cell_type": "markdown",
   "metadata": {},
   "source": [
    "#### Integer params\n",
    "On this phase, we're dealing only with integer params, i.e. [1, 1, 1, 1], [2, 2, 2, 2], etc."
   ]
  },
  {
   "cell_type": "code",
   "execution_count": 11,
   "metadata": {},
   "outputs": [],
   "source": [
    "params = dict()\n",
    "params[\"estimator__dic_training_params\"] = [dic_training_params]\n",
    "params[\"estimator__classifier_function\"] = [iqc_classifier]\n",
    "params[\"estimator__dic_classifier_params\"] = []\n",
    "for i in range(0, 15, 1):\n",
    "    for j in range(0, 15, 1):\n",
    "        for k in range(0, 15, 1):\n",
    "            for l in range(0, 15, 1):\n",
    "                    dic_classifier_params = {}\n",
    "                    dic_classifier_params[\"sigma_q_params\"] = [i, j, k, l]\n",
    "                    dic_classifier_params[\"use_polar_coordinates_on_sigma_q\"] = False\n",
    "                    dic_classifier_params[\"load_inputvector_env_state\"] = load_inputvector_env_state\n",
    "                    dic_classifier_params[\"normalize_axis\"] = normalize_axis\n",
    "                    params[\"estimator__dic_classifier_params\"].append(dic_classifier_params)"
   ]
  },
  {
   "cell_type": "code",
   "execution_count": 12,
   "metadata": {},
   "outputs": [
    {
     "name": "stderr",
     "output_type": "stream",
     "text": [
      "[Parallel(n_jobs=-1)]: Using backend LokyBackend with 12 concurrent workers.\n"
     ]
    },
    {
     "name": "stdout",
     "output_type": "stream",
     "text": [
      "Resultados busca - IQC Alterado\n",
      "Melhor acurácia: 0.875\n",
      "Melhor hiperparâmetro: {'estimator__dic_training_params': {'max_iter': 1000, 'accuracy_succ': 0.99, 'plot_graphs_and_metrics': False, 'plot_graphs_in_classifier': False, 'random_seed': 1, 'learning_rate': 0.01, 'do_classes_refit': True, 'reset_weights_epoch': 0, 'batch': 1, 'coupling_constants': [1]}, 'estimator__dic_classifier_params': {'sigma_q_params': [1, 6, 5, 13], 'use_polar_coordinates_on_sigma_q': False, 'load_inputvector_env_state': False, 'normalize_axis': 0}, 'estimator__classifier_function': <function iqc_classifier at 0x000002123EE24EE0>}\n",
      "CPU times: total: 2.2 s\n",
      "Wall time: 10h 38min 4s\n"
     ]
    },
    {
     "name": "stderr",
     "output_type": "stream",
     "text": [
      "[Parallel(n_jobs=-1)]: Done   3 out of   3 | elapsed:  1.3min finished\n"
     ]
    }
   ],
   "source": [
    "%%time\n",
    "busca = RandomizedSearchCV(icq, params, n_iter=100, scoring='accuracy', n_jobs=-1, cv=cv, random_state=seed)\n",
    "\n",
    "# Executa busca\n",
    "resultado = busca.fit(X_train, y_train)\n",
    "\n",
    "# Resume resultados\n",
    "print('Resultados busca - IQC Alterado')\n",
    "print('Melhor acurácia: %s' % resultado.best_score_)\n",
    "print('Melhor hiperparâmetro: %s' % resultado.best_params_)"
   ]
  },
  {
   "attachments": {},
   "cell_type": "markdown",
   "metadata": {},
   "source": [
    "#### Float params\n",
    "On this phase, we'll deal with Sigma Q params as floats [0,1]."
   ]
  },
  {
   "cell_type": "code",
   "execution_count": 13,
   "metadata": {},
   "outputs": [],
   "source": [
    "import numpy as np"
   ]
  },
  {
   "cell_type": "code",
   "execution_count": 14,
   "metadata": {},
   "outputs": [],
   "source": [
    "params = dict()\n",
    "params[\"estimator__dic_training_params\"] = [dic_training_params]\n",
    "params[\"estimator__classifier_function\"] = [iqc_classifier]\n",
    "params[\"estimator__dic_classifier_params\"] = []\n",
    "for i in np.arange(0, 1, 0.1):\n",
    "    for j in np.arange(0, 1, 0.1):\n",
    "        for k in np.arange(0, 1, 0.1):\n",
    "            for l in np.arange(0, 1, 0.1):\n",
    "                    dic_classifier_params = {}\n",
    "                    dic_classifier_params[\"sigma_q_params\"] = [i, j, k, l]\n",
    "                    dic_classifier_params[\"use_polar_coordinates_on_sigma_q\"] = False\n",
    "                    dic_classifier_params[\"load_inputvector_env_state\"] = load_inputvector_env_state\n",
    "                    dic_classifier_params[\"normalize_axis\"] = 0\n",
    "                    params[\"estimator__dic_classifier_params\"].append(dic_classifier_params)"
   ]
  },
  {
   "cell_type": "code",
   "execution_count": 15,
   "metadata": {},
   "outputs": [
    {
     "name": "stderr",
     "output_type": "stream",
     "text": [
      "[Parallel(n_jobs=-1)]: Using backend LokyBackend with 12 concurrent workers.\n"
     ]
    },
    {
     "name": "stdout",
     "output_type": "stream",
     "text": [
      "Resultados busca - IQC Alterado\n",
      "Melhor acurácia: 0.875\n",
      "Melhor hiperparâmetro: {'estimator__dic_training_params': {'max_iter': 1000, 'accuracy_succ': 0.99, 'plot_graphs_and_metrics': False, 'plot_graphs_in_classifier': False, 'random_seed': 1, 'learning_rate': 0.01, 'do_classes_refit': True, 'reset_weights_epoch': 0, 'batch': 1, 'coupling_constants': [1]}, 'estimator__dic_classifier_params': {'sigma_q_params': [0.2, 0.9, 0.8, 0.7000000000000001], 'use_polar_coordinates_on_sigma_q': False, 'load_inputvector_env_state': False, 'normalize_axis': 0}, 'estimator__classifier_function': <function iqc_classifier at 0x000002123EE24EE0>}\n",
      "CPU times: total: 2.03 s\n",
      "Wall time: 10h 51min 57s\n"
     ]
    },
    {
     "name": "stderr",
     "output_type": "stream",
     "text": [
      "[Parallel(n_jobs=-1)]: Done   3 out of   3 | elapsed:  1.3min finished\n"
     ]
    }
   ],
   "source": [
    "%%time\n",
    "busca = RandomizedSearchCV(icq, params, n_iter=100, scoring='accuracy', n_jobs=-1, cv=cv, random_state=seed)\n",
    "\n",
    "# Executa busca\n",
    "resultado = busca.fit(X_train, y_train)\n",
    "\n",
    "# Resume resultados\n",
    "print('Resultados busca - IQC Alterado')\n",
    "print('Melhor acurácia: %s' % resultado.best_score_)\n",
    "print('Melhor hiperparâmetro: %s' % resultado.best_params_)"
   ]
  },
  {
   "attachments": {},
   "cell_type": "markdown",
   "metadata": {},
   "source": [
    "## Search for best params on sigmaQ = rx\\*sigmaX + ry\\*sigmaY + rz\\*sigmaZ"
   ]
  },
  {
   "cell_type": "code",
   "execution_count": 16,
   "metadata": {},
   "outputs": [],
   "source": [
    "dic_training_params = {\"max_iter\": 1000,\n",
    "    \"accuracy_succ\": 0.99,\n",
    "    \"plot_graphs_and_metrics\": False,\n",
    "    \"plot_graphs_in_classifier\": False,\n",
    "    \"random_seed\": 1,\n",
    "    \"learning_rate\": 0.01,\n",
    "    \"do_classes_refit\":True,\n",
    "    \"reset_weights_epoch\":0,\n",
    "    \"batch\":1}"
   ]
  },
  {
   "cell_type": "code",
   "execution_count": 17,
   "metadata": {},
   "outputs": [],
   "source": [
    "dic_classifier_params = {}\n",
    "dic_classifier_params[\"sigma_q_params\"] = [1,1,1,0]\n",
    "dic_classifier_params[\"use_polar_coordinates_on_sigma_q\"] = True\n",
    "dic_classifier_params[\"load_inputvector_env_state\"] = load_inputvector_env_state\n",
    "dic_classifier_params[\"normalize_axis\"] = 0"
   ]
  },
  {
   "cell_type": "code",
   "execution_count": 18,
   "metadata": {},
   "outputs": [],
   "source": [
    "icq = OneVsRestClassifier(IQCClassifier(\n",
    "                        classifier_function=iqc_classifier, \n",
    "                        dic_classifier_params=dic_classifier_params,\n",
    "                        dic_training_params=dic_training_params), n_jobs=-1, verbose=1)"
   ]
  },
  {
   "cell_type": "code",
   "execution_count": 22,
   "metadata": {},
   "outputs": [],
   "source": [
    "params = dict()\n",
    "params[\"estimator__dic_training_params\"] = [dic_training_params]\n",
    "params[\"estimator__classifier_function\"] = [iqc_classifier]\n",
    "params[\"estimator__dic_classifier_params\"] = []\n",
    "for i in np.arange(0, np.pi, 0.1):\n",
    "    for j in np.arange(0, np.pi, 0.1):\n",
    "        for k in np.arange(0, np.pi, 0.1):\n",
    "                    dic_classifier_params = {}\n",
    "                    dic_classifier_params[\"sigma_q_params\"] = [i, j, k]\n",
    "                    dic_classifier_params[\"use_polar_coordinates_on_sigma_q\"] = True\n",
    "                    dic_classifier_params[\"load_inputvector_env_state\"] = load_inputvector_env_state\n",
    "                    dic_classifier_params[\"normalize_axis\"] = normalize_axis\n",
    "                    params[\"estimator__dic_classifier_params\"].append(dic_classifier_params)"
   ]
  },
  {
   "cell_type": "code",
   "execution_count": 23,
   "metadata": {},
   "outputs": [
    {
     "name": "stdout",
     "output_type": "stream",
     "text": [
      "Fitting 10 folds for each of 100 candidates, totalling 1000 fits\n"
     ]
    },
    {
     "name": "stderr",
     "output_type": "stream",
     "text": [
      "[Parallel(n_jobs=-1)]: Using backend LokyBackend with 12 concurrent workers.\n"
     ]
    },
    {
     "name": "stdout",
     "output_type": "stream",
     "text": [
      "Resultados busca - ICQ Alterado\n",
      "Melhor acurácia: 0.9083333333333334\n",
      "Melhor hiperparâmetro: {'estimator__dic_training_params': {'max_iter': 1000, 'accuracy_succ': 0.99, 'plot_graphs_and_metrics': False, 'plot_graphs_in_classifier': False, 'random_seed': 1, 'learning_rate': 0.01, 'do_classes_refit': True, 'reset_weights_epoch': 0, 'batch': 1, 'coupling_constants': [1]}, 'estimator__dic_classifier_params': {'sigma_q_params': [0.6000000000000001, 2.9000000000000004, 1.8], 'use_polar_coordinates_on_sigma_q': True, 'load_inputvector_env_state': False, 'normalize_axis': 0}, 'estimator__classifier_function': <function iqc_classifier at 0x000002123EE24EE0>}\n",
      "CPU times: total: 2.19 s\n",
      "Wall time: 10h 27min 34s\n"
     ]
    },
    {
     "name": "stderr",
     "output_type": "stream",
     "text": [
      "[Parallel(n_jobs=-1)]: Done   3 out of   3 | elapsed:  1.3min finished\n"
     ]
    }
   ],
   "source": [
    "%%time\n",
    "busca = RandomizedSearchCV(icq, params, n_iter=100, scoring='accuracy', n_jobs=-1, cv=cv, random_state=seed, verbose=60)\n",
    "\n",
    "# Executa busca\n",
    "resultado = busca.fit(X_train, y_train)\n",
    "\n",
    "# Resume resultados\n",
    "print('Resultados busca - ICQ Alterado')\n",
    "print('Melhor acurácia: %s' % resultado.best_score_)\n",
    "print('Melhor hiperparâmetro: %s' % resultado.best_params_)"
   ]
  }
 ],
 "metadata": {
  "kernelspec": {
   "display_name": "base",
   "language": "python",
   "name": "python3"
  },
  "language_info": {
   "codemirror_mode": {
    "name": "ipython",
    "version": 3
   },
   "file_extension": ".py",
   "mimetype": "text/x-python",
   "name": "python",
   "nbconvert_exporter": "python",
   "pygments_lexer": "ipython3",
   "version": "3.9.16"
  },
  "orig_nbformat": 4
 },
 "nbformat": 4,
 "nbformat_minor": 2
}
