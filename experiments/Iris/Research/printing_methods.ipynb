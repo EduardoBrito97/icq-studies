{
 "cells": [
  {
   "cell_type": "code",
   "execution_count": null,
   "metadata": {},
   "outputs": [],
   "source": [
    "import sys, os\n",
    "import numpy as np\n",
    "\n",
    "sys.path.append(os.path.abspath('../../../training'))\n",
    "from plot_graphs import plot_graph_mult_lines"
   ]
  },
  {
   "cell_type": "code",
   "execution_count": null,
   "metadata": {},
   "outputs": [],
   "source": [
    "if not('range_step' in locals() or 'range_step' in globals()):\n",
    "    range_step = 20"
   ]
  },
  {
   "cell_type": "code",
   "execution_count": null,
   "metadata": {},
   "outputs": [],
   "source": [
    "def print_score(scores_list):\n",
    "    print(\"Media Score dos N K-Fold\", np.mean([np.mean(i) for i in scores_list]))\n",
    "    print(\"Maior Score dos K-Fold\", max([np.mean(i) for i in scores_list]))\n",
    "    print(\"Min Score dos K-Fold\", min([np.mean(i) for i in scores_list]))\n",
    "\n",
    "    print(\"Media Score dos K-Fold\", [np.mean(i) for i in scores_list])\n",
    "    print()\n",
    "    print()\n",
    "    print(scores_list)"
   ]
  },
  {
   "cell_type": "code",
   "execution_count": null,
   "metadata": {},
   "outputs": [],
   "source": [
    "def print_f1score(f1scores_list):\n",
    "    print(\"Media F1Score dos N K-Fold\", np.mean([np.mean(i) for i in f1scores_list]))\n",
    "    print(\"Maior F1Score dos K-Fold\", max([np.mean(i) for i in f1scores_list]))\n",
    "    print(\"Maior F1Score dos K-Fold\", min([np.mean(i) for i in f1scores_list]))\n",
    "\n",
    "    print(\"Media F1Score dos K-Fold\", [np.mean(i) for i in f1scores_list])\n",
    "    print()\n",
    "    print()\n",
    "    print(f1scores_list)"
   ]
  },
  {
   "cell_type": "code",
   "execution_count": null,
   "metadata": {},
   "outputs": [],
   "source": [
    "def print_negativities(negativities_per_class, scores_list):\n",
    "    print(\"Negativities ao longo do treinamento\")\n",
    "    for clazz in range(len(negativities_per_class)):\n",
    "        print(\"Classe\", clazz, negativities_per_class[clazz])\n",
    "    print()\n",
    "    print()\n",
    "    plot_graph_mult_lines(negativities_per_class, scores_list, \"negativity\", \"accuracy\")"
   ]
  },
  {
   "cell_type": "code",
   "execution_count": null,
   "metadata": {},
   "outputs": [],
   "source": [
    "def print_entropies(entropies_per_class, scores_list):\n",
    "    print(\"Entropies ao longo do treinamento\")\n",
    "    for clazz in range(len(entropies_per_class)):\n",
    "        print(\"Classe\", clazz, entropies_per_class[clazz])\n",
    "    print()\n",
    "    print()\n",
    "    plot_graph_mult_lines(entropies_per_class, scores_list, \"entropy\", \"accuracy\")"
   ]
  }
 ],
 "metadata": {
  "language_info": {
   "name": "python"
  },
  "orig_nbformat": 4
 },
 "nbformat": 4,
 "nbformat_minor": 2
}
