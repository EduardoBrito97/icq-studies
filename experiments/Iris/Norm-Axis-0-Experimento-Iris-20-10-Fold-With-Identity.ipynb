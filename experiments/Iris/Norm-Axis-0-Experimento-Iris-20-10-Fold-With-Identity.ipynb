{
 "cells": [
  {
   "cell_type": "code",
   "execution_count": 1,
   "id": "0db239e0",
   "metadata": {},
   "outputs": [
    {
     "name": "stderr",
     "output_type": "stream",
     "text": [
      "Intel(R) Extension for Scikit-learn* enabled (https://github.com/intel/scikit-learn-intelex)\n"
     ]
    }
   ],
   "source": [
    "import sys, os\n",
    "sys.path.append(os.path.abspath('../../classifiers'))\n",
    "sys.path.append(os.path.abspath('../../training'))\n",
    "sys.path.append(os.path.abspath('../../validation'))\n",
    "from validation_functions import execute_training_test_k_fold\n",
    "from classifiers_ICQ import iqc_classifier\n",
    "\n",
    "from sklearn.multiclass import OneVsRestClassifier\n",
    "import numpy as np\n",
    "from sklearn import datasets\n",
    "\n",
    "iris = datasets.load_iris()\n",
    "\n",
    "X = iris.data[:, [0,1,2,3]]\n",
    "y = iris.target\n",
    "\n",
    "classifier_function = iqc_classifier\n",
    "dic_classifier_params = {}\n",
    "dic_classifier_params[\"sigma_q_params\"] = [1,1,1,1]\n",
    "dic_classifier_params[\"use_polar_coordinates_on_sigma_q\"] = False\n",
    "dic_classifier_params[\"load_inputvector_env_state\"] = False\n",
    "\n",
    "dic_training_params = {\"max_iter\": 1000,\n",
    "    \"accuracy_succ\": 0.99,\n",
    "    \"plot_graphs_and_metrics\": False,\n",
    "    \"plot_graphs_in_classifier\": False,\n",
    "    \"random_seed\": 1,\n",
    "    \"learning_rate\": 0.009,\n",
    "    \"refit_db\":True,\n",
    "    \"reset_weights_epoch\":0,\n",
    "    \"do_classes_refit\":True,\n",
    "    \"batch\":False}\n",
    "\n",
    "n_times_kfold = 20\n",
    "k_times_fold = 10"
   ]
  },
  {
   "cell_type": "code",
   "execution_count": 2,
   "id": "ca21ba5e",
   "metadata": {},
   "outputs": [
    {
     "name": "stderr",
     "output_type": "stream",
     "text": [
      "[Parallel(n_jobs=-1)]: Using backend LokyBackend with 12 concurrent workers.\n",
      "[Parallel(n_jobs=-1)]: Done   3 out of   3 | elapsed:  1.3min finished\n",
      "c:\\ProgramData\\Anaconda3\\lib\\site-packages\\sklearn\\metrics\\_classification.py:1344: UndefinedMetricWarning: Precision and F-score are ill-defined and being set to 0.0 in labels with no predicted samples. Use `zero_division` parameter to control this behavior.\n",
      "  _warn_prf(average, modifier, msg_start, len(result))\n",
      "c:\\ProgramData\\Anaconda3\\lib\\site-packages\\sklearn\\metrics\\_classification.py:1344: UndefinedMetricWarning: Precision and F-score are ill-defined and being set to 0.0 in labels with no predicted samples. Use `zero_division` parameter to control this behavior.\n",
      "  _warn_prf(average, modifier, msg_start, len(result))\n",
      "c:\\ProgramData\\Anaconda3\\lib\\site-packages\\sklearn\\metrics\\_classification.py:1344: UndefinedMetricWarning: Precision and F-score are ill-defined and being set to 0.0 in labels with no predicted samples. Use `zero_division` parameter to control this behavior.\n",
      "  _warn_prf(average, modifier, msg_start, len(result))\n",
      "[Parallel(n_jobs=-1)]: Using backend LokyBackend with 12 concurrent workers.\n"
     ]
    },
    {
     "name": "stdout",
     "output_type": "stream",
     "text": [
      "K-Fold #0\n",
      "Mean negativities for all classes: [0.36375531414256546, 0.3298923339257261, 0.08697159996041443]\n",
      "Mean entropies for all classes: [3.3841997240615037e-15, 3.768800828553701e-15, 2.7308917989549263e-15]\n",
      "              precision    recall  f1-score   support\n",
      "\n",
      "           0       0.00      0.00      0.00         5\n",
      "           1       0.00      0.00      0.00         5\n",
      "           2       0.27      0.60      0.37         5\n",
      "\n",
      "    accuracy                           0.20        15\n",
      "   macro avg       0.09      0.20      0.12        15\n",
      "weighted avg       0.09      0.20      0.12        15\n",
      "\n",
      "-------------------------------------------------------------------------------------------------------------------\n"
     ]
    },
    {
     "name": "stderr",
     "output_type": "stream",
     "text": [
      "[Parallel(n_jobs=-1)]: Done   3 out of   3 | elapsed:  1.2min finished\n",
      "[Parallel(n_jobs=-1)]: Using backend LokyBackend with 12 concurrent workers.\n"
     ]
    },
    {
     "name": "stdout",
     "output_type": "stream",
     "text": [
      "K-Fold #1\n",
      "Mean negativities for all classes: [0.3574836364996249, 0.33142518563866247, 0.08732719462799819]\n",
      "Mean entropies for all classes: [3.244124564857095e-15, 4.01732270075473e-15, 3.3394541047092337e-15]\n",
      "              precision    recall  f1-score   support\n",
      "\n",
      "           0       0.33      0.20      0.25         5\n",
      "           1       0.00      0.00      0.00         5\n",
      "           2       0.50      0.80      0.62         5\n",
      "\n",
      "    accuracy                           0.33        15\n",
      "   macro avg       0.28      0.33      0.29        15\n",
      "weighted avg       0.28      0.33      0.29        15\n",
      "\n",
      "-------------------------------------------------------------------------------------------------------------------\n"
     ]
    },
    {
     "name": "stderr",
     "output_type": "stream",
     "text": [
      "[Parallel(n_jobs=-1)]: Done   3 out of   3 | elapsed:  1.2min finished\n",
      "[Parallel(n_jobs=-1)]: Using backend LokyBackend with 12 concurrent workers.\n"
     ]
    },
    {
     "name": "stdout",
     "output_type": "stream",
     "text": [
      "K-Fold #2\n",
      "Mean negativities for all classes: [0.3587259874029089, 0.2981876254410621, 0.08677822873064225]\n",
      "Mean entropies for all classes: [3.782929364941442e-15, 3.4402266879511654e-15, 3.759495279802043e-15]\n",
      "              precision    recall  f1-score   support\n",
      "\n",
      "           0       1.00      0.20      0.33         5\n",
      "           1       0.00      0.00      0.00         5\n",
      "           2       0.29      0.40      0.33         5\n",
      "\n",
      "    accuracy                           0.20        15\n",
      "   macro avg       0.43      0.20      0.22        15\n",
      "weighted avg       0.43      0.20      0.22        15\n",
      "\n",
      "-------------------------------------------------------------------------------------------------------------------\n"
     ]
    },
    {
     "name": "stderr",
     "output_type": "stream",
     "text": [
      "[Parallel(n_jobs=-1)]: Done   3 out of   3 | elapsed:  1.2min finished\n",
      "[Parallel(n_jobs=-1)]: Using backend LokyBackend with 12 concurrent workers.\n"
     ]
    },
    {
     "name": "stdout",
     "output_type": "stream",
     "text": [
      "K-Fold #3\n",
      "Mean negativities for all classes: [0.36170680817604484, 0.30216346004582834, 0.08703426484471496]\n",
      "Mean entropies for all classes: [3.8126436783337945e-15, 4.295134271060784e-15, 3.0327145327779965e-15]\n",
      "              precision    recall  f1-score   support\n",
      "\n",
      "           0       1.00      0.20      0.33         5\n",
      "           1       0.00      0.00      0.00         5\n",
      "           2       0.40      0.80      0.53         5\n",
      "\n",
      "    accuracy                           0.33        15\n",
      "   macro avg       0.47      0.33      0.29        15\n",
      "weighted avg       0.47      0.33      0.29        15\n",
      "\n",
      "-------------------------------------------------------------------------------------------------------------------\n"
     ]
    },
    {
     "name": "stderr",
     "output_type": "stream",
     "text": [
      "[Parallel(n_jobs=-1)]: Done   3 out of   3 | elapsed:  1.2min finished\n",
      "c:\\ProgramData\\Anaconda3\\lib\\site-packages\\sklearn\\metrics\\_classification.py:1344: UndefinedMetricWarning: Precision and F-score are ill-defined and being set to 0.0 in labels with no predicted samples. Use `zero_division` parameter to control this behavior.\n",
      "  _warn_prf(average, modifier, msg_start, len(result))\n",
      "c:\\ProgramData\\Anaconda3\\lib\\site-packages\\sklearn\\metrics\\_classification.py:1344: UndefinedMetricWarning: Precision and F-score are ill-defined and being set to 0.0 in labels with no predicted samples. Use `zero_division` parameter to control this behavior.\n",
      "  _warn_prf(average, modifier, msg_start, len(result))\n",
      "c:\\ProgramData\\Anaconda3\\lib\\site-packages\\sklearn\\metrics\\_classification.py:1344: UndefinedMetricWarning: Precision and F-score are ill-defined and being set to 0.0 in labels with no predicted samples. Use `zero_division` parameter to control this behavior.\n",
      "  _warn_prf(average, modifier, msg_start, len(result))\n",
      "[Parallel(n_jobs=-1)]: Using backend LokyBackend with 12 concurrent workers.\n"
     ]
    },
    {
     "name": "stdout",
     "output_type": "stream",
     "text": [
      "K-Fold #4\n",
      "Mean negativities for all classes: [0.3729067877439023, 0.3321558989924957, 0.08694381438548286]\n",
      "Mean entropies for all classes: [3.932206285519658e-15, 3.867173579944274e-15, 2.8932858711196615e-15]\n",
      "              precision    recall  f1-score   support\n",
      "\n",
      "           0       0.00      0.00      0.00         5\n",
      "           1       0.00      0.00      0.00         5\n",
      "           2       0.20      0.40      0.27         5\n",
      "\n",
      "    accuracy                           0.13        15\n",
      "   macro avg       0.07      0.13      0.09        15\n",
      "weighted avg       0.07      0.13      0.09        15\n",
      "\n",
      "-------------------------------------------------------------------------------------------------------------------\n"
     ]
    },
    {
     "name": "stderr",
     "output_type": "stream",
     "text": [
      "[Parallel(n_jobs=-1)]: Done   3 out of   3 | elapsed:  1.2min finished\n",
      "c:\\ProgramData\\Anaconda3\\lib\\site-packages\\sklearn\\metrics\\_classification.py:1344: UndefinedMetricWarning: Precision and F-score are ill-defined and being set to 0.0 in labels with no predicted samples. Use `zero_division` parameter to control this behavior.\n",
      "  _warn_prf(average, modifier, msg_start, len(result))\n",
      "c:\\ProgramData\\Anaconda3\\lib\\site-packages\\sklearn\\metrics\\_classification.py:1344: UndefinedMetricWarning: Precision and F-score are ill-defined and being set to 0.0 in labels with no predicted samples. Use `zero_division` parameter to control this behavior.\n",
      "  _warn_prf(average, modifier, msg_start, len(result))\n",
      "c:\\ProgramData\\Anaconda3\\lib\\site-packages\\sklearn\\metrics\\_classification.py:1344: UndefinedMetricWarning: Precision and F-score are ill-defined and being set to 0.0 in labels with no predicted samples. Use `zero_division` parameter to control this behavior.\n",
      "  _warn_prf(average, modifier, msg_start, len(result))\n",
      "[Parallel(n_jobs=-1)]: Using backend LokyBackend with 12 concurrent workers.\n"
     ]
    },
    {
     "name": "stdout",
     "output_type": "stream",
     "text": [
      "K-Fold #5\n",
      "Mean negativities for all classes: [0.36468493288053094, 0.3386703823006945, 0.08704210074885556]\n",
      "Mean entropies for all classes: [3.3708220139431743e-15, 3.9108339970129424e-15, 3.2408493598592928e-15]\n",
      "              precision    recall  f1-score   support\n",
      "\n",
      "           0       0.00      0.00      0.00         5\n",
      "           1       0.00      0.00      0.00         5\n",
      "           2       0.27      0.60      0.37         5\n",
      "\n",
      "    accuracy                           0.20        15\n",
      "   macro avg       0.09      0.20      0.12        15\n",
      "weighted avg       0.09      0.20      0.12        15\n",
      "\n",
      "-------------------------------------------------------------------------------------------------------------------\n"
     ]
    },
    {
     "name": "stderr",
     "output_type": "stream",
     "text": [
      "[Parallel(n_jobs=-1)]: Done   3 out of   3 | elapsed:  1.2min finished\n",
      "[Parallel(n_jobs=-1)]: Using backend LokyBackend with 12 concurrent workers.\n"
     ]
    },
    {
     "name": "stdout",
     "output_type": "stream",
     "text": [
      "K-Fold #6\n",
      "Mean negativities for all classes: [0.37599689428089805, 0.324817613859795, 0.08705435563112823]\n",
      "Mean entropies for all classes: [3.672410698495021e-15, 3.4035802245836127e-15, 3.2049164893633903e-15]\n",
      "              precision    recall  f1-score   support\n",
      "\n",
      "           0       1.00      0.40      0.57         5\n",
      "           1       0.00      0.00      0.00         5\n",
      "           2       0.30      0.60      0.40         5\n",
      "\n",
      "    accuracy                           0.33        15\n",
      "   macro avg       0.43      0.33      0.32        15\n",
      "weighted avg       0.43      0.33      0.32        15\n",
      "\n",
      "-------------------------------------------------------------------------------------------------------------------\n"
     ]
    },
    {
     "name": "stderr",
     "output_type": "stream",
     "text": [
      "[Parallel(n_jobs=-1)]: Done   3 out of   3 | elapsed:  1.2min finished\n",
      "c:\\ProgramData\\Anaconda3\\lib\\site-packages\\sklearn\\metrics\\_classification.py:1344: UndefinedMetricWarning: Precision and F-score are ill-defined and being set to 0.0 in labels with no predicted samples. Use `zero_division` parameter to control this behavior.\n",
      "  _warn_prf(average, modifier, msg_start, len(result))\n",
      "c:\\ProgramData\\Anaconda3\\lib\\site-packages\\sklearn\\metrics\\_classification.py:1344: UndefinedMetricWarning: Precision and F-score are ill-defined and being set to 0.0 in labels with no predicted samples. Use `zero_division` parameter to control this behavior.\n",
      "  _warn_prf(average, modifier, msg_start, len(result))\n",
      "c:\\ProgramData\\Anaconda3\\lib\\site-packages\\sklearn\\metrics\\_classification.py:1344: UndefinedMetricWarning: Precision and F-score are ill-defined and being set to 0.0 in labels with no predicted samples. Use `zero_division` parameter to control this behavior.\n",
      "  _warn_prf(average, modifier, msg_start, len(result))\n",
      "[Parallel(n_jobs=-1)]: Using backend LokyBackend with 12 concurrent workers.\n"
     ]
    },
    {
     "name": "stdout",
     "output_type": "stream",
     "text": [
      "K-Fold #7\n",
      "Mean negativities for all classes: [0.3693445935860248, 0.31722554329174274, 0.08725074112500006]\n",
      "Mean entropies for all classes: [3.733783870737376e-15, 3.936174001548329e-15, 3.590105563054035e-15]\n",
      "              precision    recall  f1-score   support\n",
      "\n",
      "           0       0.00      0.00      0.00         5\n",
      "           1       0.00      0.00      0.00         5\n",
      "           2       0.25      0.40      0.31         5\n",
      "\n",
      "    accuracy                           0.13        15\n",
      "   macro avg       0.08      0.13      0.10        15\n",
      "weighted avg       0.08      0.13      0.10        15\n",
      "\n",
      "-------------------------------------------------------------------------------------------------------------------\n"
     ]
    },
    {
     "name": "stderr",
     "output_type": "stream",
     "text": [
      "[Parallel(n_jobs=-1)]: Done   3 out of   3 | elapsed:  1.2min finished\n",
      "[Parallel(n_jobs=-1)]: Using backend LokyBackend with 12 concurrent workers.\n"
     ]
    },
    {
     "name": "stdout",
     "output_type": "stream",
     "text": [
      "K-Fold #8\n",
      "Mean negativities for all classes: [0.36201574165904404, 0.29606560737452614, 0.08759017248618159]\n",
      "Mean entropies for all classes: [4.078335134518381e-15, 3.948969118334202e-15, 3.2393970239600087e-15]\n",
      "              precision    recall  f1-score   support\n",
      "\n",
      "           0       0.00      0.00      0.00         5\n",
      "           1       0.00      0.00      0.00         5\n",
      "           2       0.25      0.40      0.31         5\n",
      "\n",
      "    accuracy                           0.13        15\n",
      "   macro avg       0.08      0.13      0.10        15\n",
      "weighted avg       0.08      0.13      0.10        15\n",
      "\n",
      "-------------------------------------------------------------------------------------------------------------------\n"
     ]
    },
    {
     "name": "stderr",
     "output_type": "stream",
     "text": [
      "[Parallel(n_jobs=-1)]: Done   3 out of   3 | elapsed:  1.2min finished\n",
      "[Parallel(n_jobs=-1)]: Using backend LokyBackend with 12 concurrent workers.\n"
     ]
    },
    {
     "name": "stdout",
     "output_type": "stream",
     "text": [
      "K-Fold #9\n",
      "Mean negativities for all classes: [0.349911422899028, 0.306005711283483, 0.08692252396061301]\n",
      "Mean entropies for all classes: [3.668294755861756e-15, 3.890650462772887e-15, 3.978998578608044e-15]\n",
      "              precision    recall  f1-score   support\n",
      "\n",
      "           0       1.00      0.40      0.57         5\n",
      "           1       0.00      0.00      0.00         5\n",
      "           2       0.25      0.40      0.31         5\n",
      "\n",
      "    accuracy                           0.27        15\n",
      "   macro avg       0.42      0.27      0.29        15\n",
      "weighted avg       0.42      0.27      0.29        15\n",
      "\n",
      "-------------------------------------------------------------------------------------------------------------------\n",
      "AVG: Scores = 0.22666666666666666 F1-Scores = 0.19604395604395608 Negativity = [0.2602064160095687, 0.25874533892209517, 0.24789728052487106] Entropy = [3.29463078385671e-15, 3.533633790107019e-15, 3.660883777564883e-15]\n"
     ]
    },
    {
     "name": "stderr",
     "output_type": "stream",
     "text": [
      "[Parallel(n_jobs=-1)]: Done   3 out of   3 | elapsed:  1.2min finished\n",
      "c:\\ProgramData\\Anaconda3\\lib\\site-packages\\sklearn\\metrics\\_classification.py:1344: UndefinedMetricWarning: Precision and F-score are ill-defined and being set to 0.0 in labels with no predicted samples. Use `zero_division` parameter to control this behavior.\n",
      "  _warn_prf(average, modifier, msg_start, len(result))\n",
      "c:\\ProgramData\\Anaconda3\\lib\\site-packages\\sklearn\\metrics\\_classification.py:1344: UndefinedMetricWarning: Precision and F-score are ill-defined and being set to 0.0 in labels with no predicted samples. Use `zero_division` parameter to control this behavior.\n",
      "  _warn_prf(average, modifier, msg_start, len(result))\n",
      "c:\\ProgramData\\Anaconda3\\lib\\site-packages\\sklearn\\metrics\\_classification.py:1344: UndefinedMetricWarning: Precision and F-score are ill-defined and being set to 0.0 in labels with no predicted samples. Use `zero_division` parameter to control this behavior.\n",
      "  _warn_prf(average, modifier, msg_start, len(result))\n",
      "[Parallel(n_jobs=-1)]: Using backend LokyBackend with 12 concurrent workers.\n"
     ]
    },
    {
     "name": "stdout",
     "output_type": "stream",
     "text": [
      "K-Fold #0\n",
      "Mean negativities for all classes: [0.36147897430659126, 0.30877802998998904, 0.08679299318416825]\n",
      "Mean entropies for all classes: [3.5318770599486927e-15, 3.761953452747097e-15, 3.7197023240153506e-15]\n",
      "              precision    recall  f1-score   support\n",
      "\n",
      "           0       0.00      0.00      0.00         5\n",
      "           1       0.00      0.00      0.00         5\n",
      "           2       0.27      0.60      0.37         5\n",
      "\n",
      "    accuracy                           0.20        15\n",
      "   macro avg       0.09      0.20      0.12        15\n",
      "weighted avg       0.09      0.20      0.12        15\n",
      "\n",
      "-------------------------------------------------------------------------------------------------------------------\n"
     ]
    },
    {
     "name": "stderr",
     "output_type": "stream",
     "text": [
      "[Parallel(n_jobs=-1)]: Done   3 out of   3 | elapsed:  1.2min finished\n",
      "c:\\ProgramData\\Anaconda3\\lib\\site-packages\\sklearn\\metrics\\_classification.py:1344: UndefinedMetricWarning: Precision and F-score are ill-defined and being set to 0.0 in labels with no predicted samples. Use `zero_division` parameter to control this behavior.\n",
      "  _warn_prf(average, modifier, msg_start, len(result))\n",
      "c:\\ProgramData\\Anaconda3\\lib\\site-packages\\sklearn\\metrics\\_classification.py:1344: UndefinedMetricWarning: Precision and F-score are ill-defined and being set to 0.0 in labels with no predicted samples. Use `zero_division` parameter to control this behavior.\n",
      "  _warn_prf(average, modifier, msg_start, len(result))\n",
      "c:\\ProgramData\\Anaconda3\\lib\\site-packages\\sklearn\\metrics\\_classification.py:1344: UndefinedMetricWarning: Precision and F-score are ill-defined and being set to 0.0 in labels with no predicted samples. Use `zero_division` parameter to control this behavior.\n",
      "  _warn_prf(average, modifier, msg_start, len(result))\n",
      "[Parallel(n_jobs=-1)]: Using backend LokyBackend with 12 concurrent workers.\n"
     ]
    },
    {
     "name": "stdout",
     "output_type": "stream",
     "text": [
      "K-Fold #1\n",
      "Mean negativities for all classes: [0.3676449604257454, 0.31310828337289914, 0.08736647180667972]\n",
      "Mean entropies for all classes: [3.405361159466537e-15, 4.027069856311899e-15, 3.621624977325728e-15]\n",
      "              precision    recall  f1-score   support\n",
      "\n",
      "           0       0.00      0.00      0.00         5\n",
      "           1       0.00      0.00      0.00         5\n",
      "           2       0.20      0.40      0.27         5\n",
      "\n",
      "    accuracy                           0.13        15\n",
      "   macro avg       0.07      0.13      0.09        15\n",
      "weighted avg       0.07      0.13      0.09        15\n",
      "\n",
      "-------------------------------------------------------------------------------------------------------------------\n"
     ]
    },
    {
     "name": "stderr",
     "output_type": "stream",
     "text": [
      "[Parallel(n_jobs=-1)]: Done   3 out of   3 | elapsed:  1.2min finished\n",
      "c:\\ProgramData\\Anaconda3\\lib\\site-packages\\sklearn\\metrics\\_classification.py:1344: UndefinedMetricWarning: Precision and F-score are ill-defined and being set to 0.0 in labels with no predicted samples. Use `zero_division` parameter to control this behavior.\n",
      "  _warn_prf(average, modifier, msg_start, len(result))\n",
      "c:\\ProgramData\\Anaconda3\\lib\\site-packages\\sklearn\\metrics\\_classification.py:1344: UndefinedMetricWarning: Precision and F-score are ill-defined and being set to 0.0 in labels with no predicted samples. Use `zero_division` parameter to control this behavior.\n",
      "  _warn_prf(average, modifier, msg_start, len(result))\n",
      "c:\\ProgramData\\Anaconda3\\lib\\site-packages\\sklearn\\metrics\\_classification.py:1344: UndefinedMetricWarning: Precision and F-score are ill-defined and being set to 0.0 in labels with no predicted samples. Use `zero_division` parameter to control this behavior.\n",
      "  _warn_prf(average, modifier, msg_start, len(result))\n",
      "[Parallel(n_jobs=-1)]: Using backend LokyBackend with 12 concurrent workers.\n"
     ]
    },
    {
     "name": "stdout",
     "output_type": "stream",
     "text": [
      "K-Fold #2\n",
      "Mean negativities for all classes: [0.37866598969066073, 0.33947769053578336, 0.0876199184237966]\n",
      "Mean entropies for all classes: [3.4286085322841e-15, 3.457786931638349e-15, 3.283044357855302e-15]\n",
      "              precision    recall  f1-score   support\n",
      "\n",
      "           0       0.00      0.00      0.00         5\n",
      "           1       0.00      0.00      0.00         5\n",
      "           2       0.27      0.60      0.37         5\n",
      "\n",
      "    accuracy                           0.20        15\n",
      "   macro avg       0.09      0.20      0.12        15\n",
      "weighted avg       0.09      0.20      0.12        15\n",
      "\n",
      "-------------------------------------------------------------------------------------------------------------------\n"
     ]
    },
    {
     "name": "stderr",
     "output_type": "stream",
     "text": [
      "[Parallel(n_jobs=-1)]: Done   3 out of   3 | elapsed:  1.2min finished\n",
      "[Parallel(n_jobs=-1)]: Using backend LokyBackend with 12 concurrent workers.\n"
     ]
    },
    {
     "name": "stdout",
     "output_type": "stream",
     "text": [
      "K-Fold #3\n",
      "Mean negativities for all classes: [0.3458510497028911, 0.31555607898056626, 0.08674121998512603]\n",
      "Mean entropies for all classes: [3.6524330603260626e-15, 3.4516271303116318e-15, 4.284352350483474e-15]\n",
      "              precision    recall  f1-score   support\n",
      "\n",
      "           0       1.00      0.40      0.57         5\n",
      "           1       0.00      0.00      0.00         5\n",
      "           2       0.30      0.60      0.40         5\n",
      "\n",
      "    accuracy                           0.33        15\n",
      "   macro avg       0.43      0.33      0.32        15\n",
      "weighted avg       0.43      0.33      0.32        15\n",
      "\n",
      "-------------------------------------------------------------------------------------------------------------------\n"
     ]
    },
    {
     "name": "stderr",
     "output_type": "stream",
     "text": [
      "[Parallel(n_jobs=-1)]: Done   3 out of   3 | elapsed:  1.2min finished\n",
      "[Parallel(n_jobs=-1)]: Using backend LokyBackend with 12 concurrent workers.\n"
     ]
    },
    {
     "name": "stdout",
     "output_type": "stream",
     "text": [
      "K-Fold #4\n",
      "Mean negativities for all classes: [0.36665465262772506, 0.31402984384239246, 0.08756732692356942]\n",
      "Mean entropies for all classes: [3.711818793201022e-15, 3.694666379587085e-15, 3.094818975423379e-15]\n",
      "              precision    recall  f1-score   support\n",
      "\n",
      "           0       1.00      0.20      0.33         5\n",
      "           1       0.00      0.00      0.00         5\n",
      "           2       0.00      0.00      0.00         5\n",
      "\n",
      "    accuracy                           0.07        15\n",
      "   macro avg       0.33      0.07      0.11        15\n",
      "weighted avg       0.33      0.07      0.11        15\n",
      "\n",
      "-------------------------------------------------------------------------------------------------------------------\n"
     ]
    },
    {
     "name": "stderr",
     "output_type": "stream",
     "text": [
      "[Parallel(n_jobs=-1)]: Done   3 out of   3 | elapsed:  1.2min finished\n",
      "[Parallel(n_jobs=-1)]: Using backend LokyBackend with 12 concurrent workers.\n"
     ]
    },
    {
     "name": "stdout",
     "output_type": "stream",
     "text": [
      "K-Fold #5\n",
      "Mean negativities for all classes: [0.3674272739743079, 0.31142697361123317, 0.08695969115533056]\n",
      "Mean entropies for all classes: [3.8292442100224485e-15, 3.2478508993258126e-15, 3.502799041432754e-15]\n",
      "              precision    recall  f1-score   support\n",
      "\n",
      "           0       0.00      0.00      0.00         5\n",
      "           1       0.00      0.00      0.00         5\n",
      "           2       0.50      0.80      0.62         5\n",
      "\n",
      "    accuracy                           0.27        15\n",
      "   macro avg       0.17      0.27      0.21        15\n",
      "weighted avg       0.17      0.27      0.21        15\n",
      "\n",
      "-------------------------------------------------------------------------------------------------------------------\n"
     ]
    },
    {
     "name": "stderr",
     "output_type": "stream",
     "text": [
      "[Parallel(n_jobs=-1)]: Done   3 out of   3 | elapsed:  1.2min finished\n",
      "[Parallel(n_jobs=-1)]: Using backend LokyBackend with 12 concurrent workers.\n"
     ]
    },
    {
     "name": "stdout",
     "output_type": "stream",
     "text": [
      "K-Fold #6\n",
      "Mean negativities for all classes: [0.3588032811121249, 0.33228934152963824, 0.08714605872872733]\n",
      "Mean entropies for all classes: [3.1509739272283775e-15, 3.3605296562349237e-15, 3.3305595028593186e-15]\n",
      "              precision    recall  f1-score   support\n",
      "\n",
      "           0       0.33      0.20      0.25         5\n",
      "           1       0.00      0.00      0.00         5\n",
      "           2       0.50      0.80      0.62         5\n",
      "\n",
      "    accuracy                           0.33        15\n",
      "   macro avg       0.28      0.33      0.29        15\n",
      "weighted avg       0.28      0.33      0.29        15\n",
      "\n",
      "-------------------------------------------------------------------------------------------------------------------\n"
     ]
    },
    {
     "name": "stderr",
     "output_type": "stream",
     "text": [
      "[Parallel(n_jobs=-1)]: Done   3 out of   3 | elapsed:  1.2min finished\n",
      "c:\\ProgramData\\Anaconda3\\lib\\site-packages\\sklearn\\metrics\\_classification.py:1344: UndefinedMetricWarning: Precision and F-score are ill-defined and being set to 0.0 in labels with no predicted samples. Use `zero_division` parameter to control this behavior.\n",
      "  _warn_prf(average, modifier, msg_start, len(result))\n",
      "c:\\ProgramData\\Anaconda3\\lib\\site-packages\\sklearn\\metrics\\_classification.py:1344: UndefinedMetricWarning: Precision and F-score are ill-defined and being set to 0.0 in labels with no predicted samples. Use `zero_division` parameter to control this behavior.\n",
      "  _warn_prf(average, modifier, msg_start, len(result))\n",
      "c:\\ProgramData\\Anaconda3\\lib\\site-packages\\sklearn\\metrics\\_classification.py:1344: UndefinedMetricWarning: Precision and F-score are ill-defined and being set to 0.0 in labels with no predicted samples. Use `zero_division` parameter to control this behavior.\n",
      "  _warn_prf(average, modifier, msg_start, len(result))\n",
      "[Parallel(n_jobs=-1)]: Using backend LokyBackend with 12 concurrent workers.\n"
     ]
    },
    {
     "name": "stdout",
     "output_type": "stream",
     "text": [
      "K-Fold #7\n",
      "Mean negativities for all classes: [0.3564074067512765, 0.3573929906011352, 0.08632088345492868]\n",
      "Mean entropies for all classes: [4.03165959051953e-15, 4.132266112615588e-15, 3.73644663144484e-15]\n",
      "              precision    recall  f1-score   support\n",
      "\n",
      "           0       0.00      0.00      0.00         5\n",
      "           1       0.00      0.00      0.00         5\n",
      "           2       0.38      1.00      0.56         5\n",
      "\n",
      "    accuracy                           0.33        15\n",
      "   macro avg       0.13      0.33      0.19        15\n",
      "weighted avg       0.13      0.33      0.19        15\n",
      "\n",
      "-------------------------------------------------------------------------------------------------------------------\n"
     ]
    },
    {
     "name": "stderr",
     "output_type": "stream",
     "text": [
      "[Parallel(n_jobs=-1)]: Done   3 out of   3 | elapsed:  1.2min finished\n",
      "[Parallel(n_jobs=-1)]: Using backend LokyBackend with 12 concurrent workers.\n"
     ]
    },
    {
     "name": "stdout",
     "output_type": "stream",
     "text": [
      "K-Fold #8\n",
      "Mean negativities for all classes: [0.35815474636072026, 0.3144999343790334, 0.08710101943763773]\n",
      "Mean entropies for all classes: [3.1875927455207343e-15, 3.322257033717112e-15, 3.47037914299327e-15]\n",
      "              precision    recall  f1-score   support\n",
      "\n",
      "           0       1.00      0.20      0.33         5\n",
      "           1       0.00      0.00      0.00         5\n",
      "           2       0.25      0.40      0.31         5\n",
      "\n",
      "    accuracy                           0.20        15\n",
      "   macro avg       0.42      0.20      0.21        15\n",
      "weighted avg       0.42      0.20      0.21        15\n",
      "\n",
      "-------------------------------------------------------------------------------------------------------------------\n"
     ]
    },
    {
     "name": "stderr",
     "output_type": "stream",
     "text": [
      "[Parallel(n_jobs=-1)]: Done   3 out of   3 | elapsed:  1.2min finished\n",
      "[Parallel(n_jobs=-1)]: Using backend LokyBackend with 12 concurrent workers.\n"
     ]
    },
    {
     "name": "stdout",
     "output_type": "stream",
     "text": [
      "K-Fold #9\n",
      "Mean negativities for all classes: [0.3678537814338317, 0.32739725235030004, 0.08715812677308525]\n",
      "Mean entropies for all classes: [3.719759839259102e-15, 3.244525871055982e-15, 3.547662672973908e-15]\n",
      "              precision    recall  f1-score   support\n",
      "\n",
      "           0       1.00      0.40      0.57         5\n",
      "           1       0.00      0.00      0.00         5\n",
      "           2       0.33      0.60      0.43         5\n",
      "\n",
      "    accuracy                           0.33        15\n",
      "   macro avg       0.44      0.33      0.33        15\n",
      "weighted avg       0.44      0.33      0.33        15\n",
      "\n",
      "-------------------------------------------------------------------------------------------------------------------\n",
      "AVG: Scores = 0.24000000000000005 F1-Scores = 0.19995929995929995 Negativity = [0.2523499991602495, 0.2560399052017748, 0.26858786621674685] Entropy = [3.671177612237047e-15, 3.684685331034722e-15, 3.389813273925917e-15]\n"
     ]
    },
    {
     "name": "stderr",
     "output_type": "stream",
     "text": [
      "[Parallel(n_jobs=-1)]: Done   3 out of   3 | elapsed:  1.2min finished\n",
      "c:\\ProgramData\\Anaconda3\\lib\\site-packages\\sklearn\\metrics\\_classification.py:1344: UndefinedMetricWarning: Precision and F-score are ill-defined and being set to 0.0 in labels with no predicted samples. Use `zero_division` parameter to control this behavior.\n",
      "  _warn_prf(average, modifier, msg_start, len(result))\n",
      "c:\\ProgramData\\Anaconda3\\lib\\site-packages\\sklearn\\metrics\\_classification.py:1344: UndefinedMetricWarning: Precision and F-score are ill-defined and being set to 0.0 in labels with no predicted samples. Use `zero_division` parameter to control this behavior.\n",
      "  _warn_prf(average, modifier, msg_start, len(result))\n",
      "c:\\ProgramData\\Anaconda3\\lib\\site-packages\\sklearn\\metrics\\_classification.py:1344: UndefinedMetricWarning: Precision and F-score are ill-defined and being set to 0.0 in labels with no predicted samples. Use `zero_division` parameter to control this behavior.\n",
      "  _warn_prf(average, modifier, msg_start, len(result))\n",
      "[Parallel(n_jobs=-1)]: Using backend LokyBackend with 12 concurrent workers.\n"
     ]
    },
    {
     "name": "stdout",
     "output_type": "stream",
     "text": [
      "K-Fold #0\n",
      "Mean negativities for all classes: [0.37849615450893664, 0.3145481455632925, 0.08759701638390087]\n",
      "Mean entropies for all classes: [3.794701587533398e-15, 3.5397625820998244e-15, 3.0592314930503598e-15]\n",
      "              precision    recall  f1-score   support\n",
      "\n",
      "           0       0.00      0.00      0.00         5\n",
      "           1       0.00      0.00      0.00         5\n",
      "           2       0.36      0.80      0.50         5\n",
      "\n",
      "    accuracy                           0.27        15\n",
      "   macro avg       0.12      0.27      0.17        15\n",
      "weighted avg       0.12      0.27      0.17        15\n",
      "\n",
      "-------------------------------------------------------------------------------------------------------------------\n"
     ]
    },
    {
     "name": "stderr",
     "output_type": "stream",
     "text": [
      "[Parallel(n_jobs=-1)]: Done   3 out of   3 | elapsed:  1.2min finished\n",
      "c:\\ProgramData\\Anaconda3\\lib\\site-packages\\sklearn\\metrics\\_classification.py:1344: UndefinedMetricWarning: Precision and F-score are ill-defined and being set to 0.0 in labels with no predicted samples. Use `zero_division` parameter to control this behavior.\n",
      "  _warn_prf(average, modifier, msg_start, len(result))\n",
      "c:\\ProgramData\\Anaconda3\\lib\\site-packages\\sklearn\\metrics\\_classification.py:1344: UndefinedMetricWarning: Precision and F-score are ill-defined and being set to 0.0 in labels with no predicted samples. Use `zero_division` parameter to control this behavior.\n",
      "  _warn_prf(average, modifier, msg_start, len(result))\n",
      "c:\\ProgramData\\Anaconda3\\lib\\site-packages\\sklearn\\metrics\\_classification.py:1344: UndefinedMetricWarning: Precision and F-score are ill-defined and being set to 0.0 in labels with no predicted samples. Use `zero_division` parameter to control this behavior.\n",
      "  _warn_prf(average, modifier, msg_start, len(result))\n",
      "[Parallel(n_jobs=-1)]: Using backend LokyBackend with 12 concurrent workers.\n"
     ]
    },
    {
     "name": "stdout",
     "output_type": "stream",
     "text": [
      "K-Fold #1\n",
      "Mean negativities for all classes: [0.3627262873550595, 0.30403649914205444, 0.0874742238541864]\n",
      "Mean entropies for all classes: [3.9406501926319364e-15, 3.9971273484308855e-15, 3.53694984705183e-15]\n",
      "              precision    recall  f1-score   support\n",
      "\n",
      "           0       0.00      0.00      0.00         5\n",
      "           1       0.00      0.00      0.00         5\n",
      "           2       0.22      0.40      0.29         5\n",
      "\n",
      "    accuracy                           0.13        15\n",
      "   macro avg       0.07      0.13      0.10        15\n",
      "weighted avg       0.07      0.13      0.10        15\n",
      "\n",
      "-------------------------------------------------------------------------------------------------------------------\n"
     ]
    },
    {
     "name": "stderr",
     "output_type": "stream",
     "text": [
      "[Parallel(n_jobs=-1)]: Done   3 out of   3 | elapsed:  1.2min finished\n",
      "[Parallel(n_jobs=-1)]: Using backend LokyBackend with 12 concurrent workers.\n"
     ]
    },
    {
     "name": "stdout",
     "output_type": "stream",
     "text": [
      "K-Fold #2\n",
      "Mean negativities for all classes: [0.35934333450639594, 0.32622233924489674, 0.086950751979642]\n",
      "Mean entropies for all classes: [4.091669104183823e-15, 3.692049647506371e-15, 3.2131786749551585e-15]\n",
      "              precision    recall  f1-score   support\n",
      "\n",
      "           0       0.00      0.00      0.00         5\n",
      "           1       0.00      0.00      0.00         5\n",
      "           2       0.25      0.60      0.35         5\n",
      "\n",
      "    accuracy                           0.20        15\n",
      "   macro avg       0.08      0.20      0.12        15\n",
      "weighted avg       0.08      0.20      0.12        15\n",
      "\n",
      "-------------------------------------------------------------------------------------------------------------------\n"
     ]
    },
    {
     "name": "stderr",
     "output_type": "stream",
     "text": [
      "[Parallel(n_jobs=-1)]: Done   3 out of   3 | elapsed:  1.2min finished\n",
      "[Parallel(n_jobs=-1)]: Using backend LokyBackend with 12 concurrent workers.\n"
     ]
    },
    {
     "name": "stdout",
     "output_type": "stream",
     "text": [
      "K-Fold #3\n",
      "Mean negativities for all classes: [0.35522190319104063, 0.326517596392402, 0.08713687165615237]\n",
      "Mean entropies for all classes: [2.9316094140946287e-15, 3.627194342025687e-15, 3.4917186202766457e-15]\n",
      "              precision    recall  f1-score   support\n",
      "\n",
      "           0       1.00      0.40      0.57         5\n",
      "           1       0.00      0.00      0.00         5\n",
      "           2       0.33      0.60      0.43         5\n",
      "\n",
      "    accuracy                           0.33        15\n",
      "   macro avg       0.44      0.33      0.33        15\n",
      "weighted avg       0.44      0.33      0.33        15\n",
      "\n",
      "-------------------------------------------------------------------------------------------------------------------\n"
     ]
    },
    {
     "name": "stderr",
     "output_type": "stream",
     "text": [
      "[Parallel(n_jobs=-1)]: Done   3 out of   3 | elapsed:  1.2min finished\n",
      "[Parallel(n_jobs=-1)]: Using backend LokyBackend with 12 concurrent workers.\n"
     ]
    },
    {
     "name": "stdout",
     "output_type": "stream",
     "text": [
      "K-Fold #4\n",
      "Mean negativities for all classes: [0.35797563980944047, 0.32418594962272507, 0.08698256627285096]\n",
      "Mean entropies for all classes: [3.857609935907449e-15, 3.3478909497052247e-15, 3.1829514908367317e-15]\n",
      "              precision    recall  f1-score   support\n",
      "\n",
      "           0       1.00      0.20      0.33         5\n",
      "           1       0.00      0.00      0.00         5\n",
      "           2       0.25      0.40      0.31         5\n",
      "\n",
      "    accuracy                           0.20        15\n",
      "   macro avg       0.42      0.20      0.21        15\n",
      "weighted avg       0.42      0.20      0.21        15\n",
      "\n",
      "-------------------------------------------------------------------------------------------------------------------\n"
     ]
    },
    {
     "name": "stderr",
     "output_type": "stream",
     "text": [
      "[Parallel(n_jobs=-1)]: Done   3 out of   3 | elapsed:  1.2min finished\n",
      "[Parallel(n_jobs=-1)]: Using backend LokyBackend with 12 concurrent workers.\n"
     ]
    },
    {
     "name": "stdout",
     "output_type": "stream",
     "text": [
      "K-Fold #5\n",
      "Mean negativities for all classes: [0.3630410689299701, 0.31574784178729043, 0.08684298786314845]\n",
      "Mean entropies for all classes: [3.4931742427582994e-15, 3.773559091085657e-15, 4.18836551655325e-15]\n",
      "              precision    recall  f1-score   support\n",
      "\n",
      "           0       0.50      0.20      0.29         5\n",
      "           1       0.00      0.00      0.00         5\n",
      "           2       0.33      0.60      0.43         5\n",
      "\n",
      "    accuracy                           0.27        15\n",
      "   macro avg       0.28      0.27      0.24        15\n",
      "weighted avg       0.28      0.27      0.24        15\n",
      "\n",
      "-------------------------------------------------------------------------------------------------------------------\n"
     ]
    },
    {
     "name": "stderr",
     "output_type": "stream",
     "text": [
      "[Parallel(n_jobs=-1)]: Done   3 out of   3 | elapsed:  1.2min finished\n",
      "[Parallel(n_jobs=-1)]: Using backend LokyBackend with 12 concurrent workers.\n"
     ]
    },
    {
     "name": "stdout",
     "output_type": "stream",
     "text": [
      "K-Fold #6\n",
      "Mean negativities for all classes: [0.3651365520975294, 0.33634510390594574, 0.08716058030890175]\n",
      "Mean entropies for all classes: [3.6028134199108595e-15, 3.609004779594549e-15, 2.686957668903742e-15]\n",
      "              precision    recall  f1-score   support\n",
      "\n",
      "           0       0.50      0.20      0.29         5\n",
      "           1       0.00      0.00      0.00         5\n",
      "           2       0.44      0.80      0.57         5\n",
      "\n",
      "    accuracy                           0.33        15\n",
      "   macro avg       0.31      0.33      0.29        15\n",
      "weighted avg       0.31      0.33      0.29        15\n",
      "\n",
      "-------------------------------------------------------------------------------------------------------------------\n"
     ]
    },
    {
     "name": "stderr",
     "output_type": "stream",
     "text": [
      "[Parallel(n_jobs=-1)]: Done   3 out of   3 | elapsed:  1.2min finished\n",
      "[Parallel(n_jobs=-1)]: Using backend LokyBackend with 12 concurrent workers.\n"
     ]
    },
    {
     "name": "stdout",
     "output_type": "stream",
     "text": [
      "K-Fold #7\n",
      "Mean negativities for all classes: [0.3682235051270412, 0.314443884998843, 0.08695909525310054]\n",
      "Mean entropies for all classes: [3.75375470611246e-15, 3.5012870571742335e-15, 3.5345609736327713e-15]\n",
      "              precision    recall  f1-score   support\n",
      "\n",
      "           0       1.00      0.20      0.33         5\n",
      "           1       0.00      0.00      0.00         5\n",
      "           2       0.29      0.40      0.33         5\n",
      "\n",
      "    accuracy                           0.20        15\n",
      "   macro avg       0.43      0.20      0.22        15\n",
      "weighted avg       0.43      0.20      0.22        15\n",
      "\n",
      "-------------------------------------------------------------------------------------------------------------------\n"
     ]
    },
    {
     "name": "stderr",
     "output_type": "stream",
     "text": [
      "[Parallel(n_jobs=-1)]: Done   3 out of   3 | elapsed:  1.2min finished\n",
      "[Parallel(n_jobs=-1)]: Using backend LokyBackend with 12 concurrent workers.\n"
     ]
    },
    {
     "name": "stdout",
     "output_type": "stream",
     "text": [
      "K-Fold #8\n",
      "Mean negativities for all classes: [0.3646074740466324, 0.30753528273993325, 0.08765711022170068]\n",
      "Mean entropies for all classes: [4.5743126598761925e-15, 3.746656718888508e-15, 3.4419563874782892e-15]\n",
      "              precision    recall  f1-score   support\n",
      "\n",
      "           0       0.00      0.00      0.00         5\n",
      "           1       0.00      0.00      0.00         5\n",
      "           2       0.33      0.60      0.43         5\n",
      "\n",
      "    accuracy                           0.20        15\n",
      "   macro avg       0.11      0.20      0.14        15\n",
      "weighted avg       0.11      0.20      0.14        15\n",
      "\n",
      "-------------------------------------------------------------------------------------------------------------------\n"
     ]
    },
    {
     "name": "stderr",
     "output_type": "stream",
     "text": [
      "[Parallel(n_jobs=-1)]: Done   3 out of   3 | elapsed:  1.2min finished\n",
      "c:\\ProgramData\\Anaconda3\\lib\\site-packages\\sklearn\\metrics\\_classification.py:1344: UndefinedMetricWarning: Precision and F-score are ill-defined and being set to 0.0 in labels with no predicted samples. Use `zero_division` parameter to control this behavior.\n",
      "  _warn_prf(average, modifier, msg_start, len(result))\n",
      "c:\\ProgramData\\Anaconda3\\lib\\site-packages\\sklearn\\metrics\\_classification.py:1344: UndefinedMetricWarning: Precision and F-score are ill-defined and being set to 0.0 in labels with no predicted samples. Use `zero_division` parameter to control this behavior.\n",
      "  _warn_prf(average, modifier, msg_start, len(result))\n",
      "c:\\ProgramData\\Anaconda3\\lib\\site-packages\\sklearn\\metrics\\_classification.py:1344: UndefinedMetricWarning: Precision and F-score are ill-defined and being set to 0.0 in labels with no predicted samples. Use `zero_division` parameter to control this behavior.\n",
      "  _warn_prf(average, modifier, msg_start, len(result))\n",
      "[Parallel(n_jobs=-1)]: Using backend LokyBackend with 12 concurrent workers.\n"
     ]
    },
    {
     "name": "stdout",
     "output_type": "stream",
     "text": [
      "K-Fold #9\n",
      "Mean negativities for all classes: [0.35052193370048956, 0.34800367216084804, 0.08605670799550218]\n",
      "Mean entropies for all classes: [4.7652467620008e-15, 2.945181615769351e-15, 3.900797020700534e-15]\n",
      "              precision    recall  f1-score   support\n",
      "\n",
      "           0       0.00      0.00      0.00         5\n",
      "           1       0.00      0.00      0.00         5\n",
      "           2       0.25      0.60      0.35         5\n",
      "\n",
      "    accuracy                           0.20        15\n",
      "   macro avg       0.08      0.20      0.12        15\n",
      "weighted avg       0.08      0.20      0.12        15\n",
      "\n",
      "-------------------------------------------------------------------------------------------------------------------\n",
      "AVG: Scores = 0.23333333333333334 F1-Scores = 0.1933096315449257 Negativity = [0.26021377215204333, 0.2514123367837668, 0.2575054752436449] Entropy = [3.4645652208945275e-15, 3.82490912937155e-15, 3.6656324755484515e-15]\n"
     ]
    },
    {
     "name": "stderr",
     "output_type": "stream",
     "text": [
      "[Parallel(n_jobs=-1)]: Done   3 out of   3 | elapsed:  1.2min finished\n",
      "[Parallel(n_jobs=-1)]: Using backend LokyBackend with 12 concurrent workers.\n"
     ]
    },
    {
     "name": "stdout",
     "output_type": "stream",
     "text": [
      "K-Fold #0\n",
      "Mean negativities for all classes: [0.3679510450237652, 0.3197945972173572, 0.08776990903791539]\n",
      "Mean entropies for all classes: [3.601152145557716e-15, 4.4482842275825024e-15, 3.0832789583069736e-15]\n",
      "              precision    recall  f1-score   support\n",
      "\n",
      "           0       1.00      0.20      0.33         5\n",
      "           1       0.00      0.00      0.00         5\n",
      "           2       0.44      0.80      0.57         5\n",
      "\n",
      "    accuracy                           0.33        15\n",
      "   macro avg       0.48      0.33      0.30        15\n",
      "weighted avg       0.48      0.33      0.30        15\n",
      "\n",
      "-------------------------------------------------------------------------------------------------------------------\n"
     ]
    },
    {
     "name": "stderr",
     "output_type": "stream",
     "text": [
      "[Parallel(n_jobs=-1)]: Done   3 out of   3 | elapsed:  1.2min finished\n",
      "[Parallel(n_jobs=-1)]: Using backend LokyBackend with 12 concurrent workers.\n"
     ]
    },
    {
     "name": "stdout",
     "output_type": "stream",
     "text": [
      "K-Fold #1\n",
      "Mean negativities for all classes: [0.3591456904927233, 0.3207859278870967, 0.08698809804658546]\n",
      "Mean entropies for all classes: [4.164461068740962e-15, 2.988038259304861e-15, 3.3823402502614076e-15]\n",
      "              precision    recall  f1-score   support\n",
      "\n",
      "           0       0.00      0.00      0.00         5\n",
      "           1       0.00      0.00      0.00         5\n",
      "           2       0.29      0.40      0.33         5\n",
      "\n",
      "    accuracy                           0.13        15\n",
      "   macro avg       0.10      0.13      0.11        15\n",
      "weighted avg       0.10      0.13      0.11        15\n",
      "\n",
      "-------------------------------------------------------------------------------------------------------------------\n"
     ]
    },
    {
     "name": "stderr",
     "output_type": "stream",
     "text": [
      "[Parallel(n_jobs=-1)]: Done   3 out of   3 | elapsed:  1.2min finished\n",
      "[Parallel(n_jobs=-1)]: Using backend LokyBackend with 12 concurrent workers.\n"
     ]
    },
    {
     "name": "stdout",
     "output_type": "stream",
     "text": [
      "K-Fold #2\n",
      "Mean negativities for all classes: [0.3564651294942377, 0.33510100463538317, 0.08585000881334395]\n",
      "Mean entropies for all classes: [3.646305938188827e-15, 3.586977291142655e-15, 3.587579053905223e-15]\n",
      "              precision    recall  f1-score   support\n",
      "\n",
      "           0       0.00      0.00      0.00         5\n",
      "           1       0.00      0.00      0.00         5\n",
      "           2       0.30      0.60      0.40         5\n",
      "\n",
      "    accuracy                           0.20        15\n",
      "   macro avg       0.10      0.20      0.13        15\n",
      "weighted avg       0.10      0.20      0.13        15\n",
      "\n",
      "-------------------------------------------------------------------------------------------------------------------\n"
     ]
    },
    {
     "name": "stderr",
     "output_type": "stream",
     "text": [
      "[Parallel(n_jobs=-1)]: Done   3 out of   3 | elapsed:  1.2min finished\n",
      "[Parallel(n_jobs=-1)]: Using backend LokyBackend with 12 concurrent workers.\n"
     ]
    },
    {
     "name": "stdout",
     "output_type": "stream",
     "text": [
      "K-Fold #3\n",
      "Mean negativities for all classes: [0.3614868128108648, 0.3240025136765015, 0.08725146777865035]\n",
      "Mean entropies for all classes: [3.909480278143162e-15, 3.953961539404826e-15, 3.3180709595388194e-15]\n",
      "              precision    recall  f1-score   support\n",
      "\n",
      "           0       0.50      0.20      0.29         5\n",
      "           1       0.00      0.00      0.00         5\n",
      "           2       0.22      0.40      0.29         5\n",
      "\n",
      "    accuracy                           0.20        15\n",
      "   macro avg       0.24      0.20      0.19        15\n",
      "weighted avg       0.24      0.20      0.19        15\n",
      "\n",
      "-------------------------------------------------------------------------------------------------------------------\n"
     ]
    },
    {
     "name": "stderr",
     "output_type": "stream",
     "text": [
      "[Parallel(n_jobs=-1)]: Done   3 out of   3 | elapsed:  1.2min finished\n",
      "c:\\ProgramData\\Anaconda3\\lib\\site-packages\\sklearn\\metrics\\_classification.py:1344: UndefinedMetricWarning: Precision and F-score are ill-defined and being set to 0.0 in labels with no predicted samples. Use `zero_division` parameter to control this behavior.\n",
      "  _warn_prf(average, modifier, msg_start, len(result))\n",
      "c:\\ProgramData\\Anaconda3\\lib\\site-packages\\sklearn\\metrics\\_classification.py:1344: UndefinedMetricWarning: Precision and F-score are ill-defined and being set to 0.0 in labels with no predicted samples. Use `zero_division` parameter to control this behavior.\n",
      "  _warn_prf(average, modifier, msg_start, len(result))\n",
      "c:\\ProgramData\\Anaconda3\\lib\\site-packages\\sklearn\\metrics\\_classification.py:1344: UndefinedMetricWarning: Precision and F-score are ill-defined and being set to 0.0 in labels with no predicted samples. Use `zero_division` parameter to control this behavior.\n",
      "  _warn_prf(average, modifier, msg_start, len(result))\n",
      "[Parallel(n_jobs=-1)]: Using backend LokyBackend with 12 concurrent workers.\n"
     ]
    },
    {
     "name": "stdout",
     "output_type": "stream",
     "text": [
      "K-Fold #4\n",
      "Mean negativities for all classes: [0.3725248976953904, 0.32300764803025744, 0.08746945170296397]\n",
      "Mean entropies for all classes: [3.519488388876766e-15, 3.7099959773451855e-15, 2.9065137925455915e-15]\n",
      "              precision    recall  f1-score   support\n",
      "\n",
      "           0       0.00      0.00      0.00         5\n",
      "           1       0.00      0.00      0.00         5\n",
      "           2       0.27      0.60      0.37         5\n",
      "\n",
      "    accuracy                           0.20        15\n",
      "   macro avg       0.09      0.20      0.12        15\n",
      "weighted avg       0.09      0.20      0.12        15\n",
      "\n",
      "-------------------------------------------------------------------------------------------------------------------\n"
     ]
    },
    {
     "name": "stderr",
     "output_type": "stream",
     "text": [
      "[Parallel(n_jobs=-1)]: Done   3 out of   3 | elapsed:  1.2min finished\n",
      "[Parallel(n_jobs=-1)]: Using backend LokyBackend with 12 concurrent workers.\n"
     ]
    },
    {
     "name": "stdout",
     "output_type": "stream",
     "text": [
      "K-Fold #5\n",
      "Mean negativities for all classes: [0.36582730073427194, 0.3168351862627957, 0.08696537330857654]\n",
      "Mean entropies for all classes: [3.4009459836588955e-15, 2.6453418410745538e-15, 4.034239413818846e-15]\n",
      "              precision    recall  f1-score   support\n",
      "\n",
      "           0       1.00      0.20      0.33         5\n",
      "           1       0.00      0.00      0.00         5\n",
      "           2       0.27      0.60      0.37         5\n",
      "\n",
      "    accuracy                           0.27        15\n",
      "   macro avg       0.42      0.27      0.24        15\n",
      "weighted avg       0.42      0.27      0.24        15\n",
      "\n",
      "-------------------------------------------------------------------------------------------------------------------\n"
     ]
    },
    {
     "name": "stderr",
     "output_type": "stream",
     "text": [
      "[Parallel(n_jobs=-1)]: Done   3 out of   3 | elapsed:  1.2min finished\n",
      "c:\\ProgramData\\Anaconda3\\lib\\site-packages\\sklearn\\metrics\\_classification.py:1344: UndefinedMetricWarning: Precision and F-score are ill-defined and being set to 0.0 in labels with no predicted samples. Use `zero_division` parameter to control this behavior.\n",
      "  _warn_prf(average, modifier, msg_start, len(result))\n",
      "c:\\ProgramData\\Anaconda3\\lib\\site-packages\\sklearn\\metrics\\_classification.py:1344: UndefinedMetricWarning: Precision and F-score are ill-defined and being set to 0.0 in labels with no predicted samples. Use `zero_division` parameter to control this behavior.\n",
      "  _warn_prf(average, modifier, msg_start, len(result))\n",
      "c:\\ProgramData\\Anaconda3\\lib\\site-packages\\sklearn\\metrics\\_classification.py:1344: UndefinedMetricWarning: Precision and F-score are ill-defined and being set to 0.0 in labels with no predicted samples. Use `zero_division` parameter to control this behavior.\n",
      "  _warn_prf(average, modifier, msg_start, len(result))\n",
      "[Parallel(n_jobs=-1)]: Using backend LokyBackend with 12 concurrent workers.\n"
     ]
    },
    {
     "name": "stdout",
     "output_type": "stream",
     "text": [
      "K-Fold #6\n",
      "Mean negativities for all classes: [0.3612534034550704, 0.31355320580532303, 0.08744585591286039]\n",
      "Mean entropies for all classes: [3.657191118642299e-15, 3.5078999449892526e-15, 3.829685609216529e-15]\n",
      "              precision    recall  f1-score   support\n",
      "\n",
      "           0       0.00      0.00      0.00         5\n",
      "           1       0.00      0.00      0.00         5\n",
      "           2       0.20      0.40      0.27         5\n",
      "\n",
      "    accuracy                           0.13        15\n",
      "   macro avg       0.07      0.13      0.09        15\n",
      "weighted avg       0.07      0.13      0.09        15\n",
      "\n",
      "-------------------------------------------------------------------------------------------------------------------\n"
     ]
    },
    {
     "name": "stderr",
     "output_type": "stream",
     "text": [
      "[Parallel(n_jobs=-1)]: Done   3 out of   3 | elapsed:  1.2min finished\n",
      "[Parallel(n_jobs=-1)]: Using backend LokyBackend with 12 concurrent workers.\n"
     ]
    },
    {
     "name": "stdout",
     "output_type": "stream",
     "text": [
      "K-Fold #7\n",
      "Mean negativities for all classes: [0.3531814146149771, 0.3063703573403238, 0.08701984821758764]\n",
      "Mean entropies for all classes: [4.0600523151521434e-15, 3.5400554329192163e-15, 2.6909050602221743e-15]\n",
      "              precision    recall  f1-score   support\n",
      "\n",
      "           0       1.00      0.20      0.33         5\n",
      "           1       0.00      0.00      0.00         5\n",
      "           2       0.17      0.20      0.18         5\n",
      "\n",
      "    accuracy                           0.13        15\n",
      "   macro avg       0.39      0.13      0.17        15\n",
      "weighted avg       0.39      0.13      0.17        15\n",
      "\n",
      "-------------------------------------------------------------------------------------------------------------------\n"
     ]
    },
    {
     "name": "stderr",
     "output_type": "stream",
     "text": [
      "[Parallel(n_jobs=-1)]: Done   3 out of   3 | elapsed:  1.2min finished\n",
      "c:\\ProgramData\\Anaconda3\\lib\\site-packages\\sklearn\\metrics\\_classification.py:1344: UndefinedMetricWarning: Precision and F-score are ill-defined and being set to 0.0 in labels with no predicted samples. Use `zero_division` parameter to control this behavior.\n",
      "  _warn_prf(average, modifier, msg_start, len(result))\n",
      "c:\\ProgramData\\Anaconda3\\lib\\site-packages\\sklearn\\metrics\\_classification.py:1344: UndefinedMetricWarning: Precision and F-score are ill-defined and being set to 0.0 in labels with no predicted samples. Use `zero_division` parameter to control this behavior.\n",
      "  _warn_prf(average, modifier, msg_start, len(result))\n",
      "c:\\ProgramData\\Anaconda3\\lib\\site-packages\\sklearn\\metrics\\_classification.py:1344: UndefinedMetricWarning: Precision and F-score are ill-defined and being set to 0.0 in labels with no predicted samples. Use `zero_division` parameter to control this behavior.\n",
      "  _warn_prf(average, modifier, msg_start, len(result))\n",
      "[Parallel(n_jobs=-1)]: Using backend LokyBackend with 12 concurrent workers.\n"
     ]
    },
    {
     "name": "stdout",
     "output_type": "stream",
     "text": [
      "K-Fold #8\n",
      "Mean negativities for all classes: [0.3679228830386319, 0.3332928610418976, 0.08711637436077004]\n",
      "Mean entropies for all classes: [3.0729355166925013e-15, 3.946426133638269e-15, 3.2634500559275243e-15]\n",
      "              precision    recall  f1-score   support\n",
      "\n",
      "           0       0.00      0.00      0.00         5\n",
      "           1       0.00      0.00      0.00         5\n",
      "           2       0.18      0.40      0.25         5\n",
      "\n",
      "    accuracy                           0.13        15\n",
      "   macro avg       0.06      0.13      0.08        15\n",
      "weighted avg       0.06      0.13      0.08        15\n",
      "\n",
      "-------------------------------------------------------------------------------------------------------------------\n"
     ]
    },
    {
     "name": "stderr",
     "output_type": "stream",
     "text": [
      "[Parallel(n_jobs=-1)]: Done   3 out of   3 | elapsed:  1.2min finished\n",
      "[Parallel(n_jobs=-1)]: Using backend LokyBackend with 12 concurrent workers.\n"
     ]
    },
    {
     "name": "stdout",
     "output_type": "stream",
     "text": [
      "K-Fold #9\n",
      "Mean negativities for all classes: [0.3644959474853244, 0.31347513458810694, 0.08701313958813266]\n",
      "Mean entropies for all classes: [4.237675513167437e-15, 3.917738147679537e-15, 3.925680449506917e-15]\n",
      "              precision    recall  f1-score   support\n",
      "\n",
      "           0       0.00      0.00      0.00         5\n",
      "           1       0.00      0.00      0.00         5\n",
      "           2       0.40      0.80      0.53         5\n",
      "\n",
      "    accuracy                           0.27        15\n",
      "   macro avg       0.13      0.27      0.18        15\n",
      "weighted avg       0.13      0.27      0.18        15\n",
      "\n",
      "-------------------------------------------------------------------------------------------------------------------\n",
      "AVG: Scores = 0.2 F1-Scores = 0.1619336219336219 Negativity = [0.25850518375967924, 0.2556399054754685, 0.2591387143143216] Entropy = [3.7109051104823974e-15, 3.511613192769077e-15, 3.6069540944122355e-15]\n"
     ]
    },
    {
     "name": "stderr",
     "output_type": "stream",
     "text": [
      "[Parallel(n_jobs=-1)]: Done   3 out of   3 | elapsed:  1.2min finished\n",
      "[Parallel(n_jobs=-1)]: Using backend LokyBackend with 12 concurrent workers.\n"
     ]
    },
    {
     "name": "stdout",
     "output_type": "stream",
     "text": [
      "K-Fold #0\n",
      "Mean negativities for all classes: [0.3552616242897017, 0.33519276530434017, 0.08662245622705189]\n",
      "Mean entropies for all classes: [3.654191503469696e-15, 3.5427692033080905e-15, 4.076704560882992e-15]\n",
      "              precision    recall  f1-score   support\n",
      "\n",
      "           0       0.00      0.00      0.00         5\n",
      "           1       0.00      0.00      0.00         5\n",
      "           2       0.33      0.60      0.43         5\n",
      "\n",
      "    accuracy                           0.20        15\n",
      "   macro avg       0.11      0.20      0.14        15\n",
      "weighted avg       0.11      0.20      0.14        15\n",
      "\n",
      "-------------------------------------------------------------------------------------------------------------------\n"
     ]
    },
    {
     "name": "stderr",
     "output_type": "stream",
     "text": [
      "[Parallel(n_jobs=-1)]: Done   3 out of   3 | elapsed:  1.2min finished\n",
      "[Parallel(n_jobs=-1)]: Using backend LokyBackend with 12 concurrent workers.\n"
     ]
    },
    {
     "name": "stdout",
     "output_type": "stream",
     "text": [
      "K-Fold #1\n",
      "Mean negativities for all classes: [0.3566226625506078, 0.34113655995496595, 0.08713469660990489]\n",
      "Mean entropies for all classes: [4.02070186638853e-15, 3.949506284789464e-15, 3.5373229916347473e-15]\n",
      "              precision    recall  f1-score   support\n",
      "\n",
      "           0       1.00      0.20      0.33         5\n",
      "           1       0.00      0.00      0.00         5\n",
      "           2       0.38      1.00      0.56         5\n",
      "\n",
      "    accuracy                           0.40        15\n",
      "   macro avg       0.46      0.40      0.30        15\n",
      "weighted avg       0.46      0.40      0.30        15\n",
      "\n",
      "-------------------------------------------------------------------------------------------------------------------\n"
     ]
    },
    {
     "name": "stderr",
     "output_type": "stream",
     "text": [
      "[Parallel(n_jobs=-1)]: Done   3 out of   3 | elapsed:  1.2min finished\n",
      "c:\\ProgramData\\Anaconda3\\lib\\site-packages\\sklearn\\metrics\\_classification.py:1344: UndefinedMetricWarning: Precision and F-score are ill-defined and being set to 0.0 in labels with no predicted samples. Use `zero_division` parameter to control this behavior.\n",
      "  _warn_prf(average, modifier, msg_start, len(result))\n",
      "c:\\ProgramData\\Anaconda3\\lib\\site-packages\\sklearn\\metrics\\_classification.py:1344: UndefinedMetricWarning: Precision and F-score are ill-defined and being set to 0.0 in labels with no predicted samples. Use `zero_division` parameter to control this behavior.\n",
      "  _warn_prf(average, modifier, msg_start, len(result))\n",
      "c:\\ProgramData\\Anaconda3\\lib\\site-packages\\sklearn\\metrics\\_classification.py:1344: UndefinedMetricWarning: Precision and F-score are ill-defined and being set to 0.0 in labels with no predicted samples. Use `zero_division` parameter to control this behavior.\n",
      "  _warn_prf(average, modifier, msg_start, len(result))\n",
      "[Parallel(n_jobs=-1)]: Using backend LokyBackend with 12 concurrent workers.\n"
     ]
    },
    {
     "name": "stdout",
     "output_type": "stream",
     "text": [
      "K-Fold #2\n",
      "Mean negativities for all classes: [0.3704849775811475, 0.3312064555399028, 0.0873602608964001]\n",
      "Mean entropies for all classes: [4.244154204376635e-15, 3.7101460709038465e-15, 4.42033721157439e-15]\n",
      "              precision    recall  f1-score   support\n",
      "\n",
      "           0       0.00      0.00      0.00         5\n",
      "           1       0.00      0.00      0.00         5\n",
      "           2       0.30      0.60      0.40         5\n",
      "\n",
      "    accuracy                           0.20        15\n",
      "   macro avg       0.10      0.20      0.13        15\n",
      "weighted avg       0.10      0.20      0.13        15\n",
      "\n",
      "-------------------------------------------------------------------------------------------------------------------\n"
     ]
    },
    {
     "name": "stderr",
     "output_type": "stream",
     "text": [
      "[Parallel(n_jobs=-1)]: Done   3 out of   3 | elapsed:  1.2min finished\n",
      "[Parallel(n_jobs=-1)]: Using backend LokyBackend with 12 concurrent workers.\n"
     ]
    },
    {
     "name": "stdout",
     "output_type": "stream",
     "text": [
      "K-Fold #3\n",
      "Mean negativities for all classes: [0.3606508918980126, 0.30758187560648875, 0.08669719381477119]\n",
      "Mean entropies for all classes: [4.207790660271394e-15, 3.770784393914417e-15, 3.4126021908006692e-15]\n",
      "              precision    recall  f1-score   support\n",
      "\n",
      "           0       1.00      0.40      0.57         5\n",
      "           1       0.00      0.00      0.00         5\n",
      "           2       0.25      0.40      0.31         5\n",
      "\n",
      "    accuracy                           0.27        15\n",
      "   macro avg       0.42      0.27      0.29        15\n",
      "weighted avg       0.42      0.27      0.29        15\n",
      "\n",
      "-------------------------------------------------------------------------------------------------------------------\n"
     ]
    },
    {
     "name": "stderr",
     "output_type": "stream",
     "text": [
      "[Parallel(n_jobs=-1)]: Done   3 out of   3 | elapsed:  1.2min finished\n",
      "[Parallel(n_jobs=-1)]: Using backend LokyBackend with 12 concurrent workers.\n"
     ]
    },
    {
     "name": "stdout",
     "output_type": "stream",
     "text": [
      "K-Fold #4\n",
      "Mean negativities for all classes: [0.3507613151059116, 0.31776030117623194, 0.08666976604508188]\n",
      "Mean entropies for all classes: [2.8602292791082693e-15, 3.3665886092903462e-15, 2.953550580078064e-15]\n",
      "              precision    recall  f1-score   support\n",
      "\n",
      "           0       1.00      0.40      0.57         5\n",
      "           1       0.00      0.00      0.00         5\n",
      "           2       0.29      0.40      0.33         5\n",
      "\n",
      "    accuracy                           0.27        15\n",
      "   macro avg       0.43      0.27      0.30        15\n",
      "weighted avg       0.43      0.27      0.30        15\n",
      "\n",
      "-------------------------------------------------------------------------------------------------------------------\n"
     ]
    },
    {
     "name": "stderr",
     "output_type": "stream",
     "text": [
      "[Parallel(n_jobs=-1)]: Done   3 out of   3 | elapsed:  1.2min finished\n",
      "[Parallel(n_jobs=-1)]: Using backend LokyBackend with 12 concurrent workers.\n"
     ]
    },
    {
     "name": "stdout",
     "output_type": "stream",
     "text": [
      "K-Fold #5\n",
      "Mean negativities for all classes: [0.37302437052795157, 0.3129176736056518, 0.08796572375212709]\n",
      "Mean entropies for all classes: [3.5302119289994647e-15, 3.5034411959383624e-15, 3.644684444662594e-15]\n",
      "              precision    recall  f1-score   support\n",
      "\n",
      "           0       0.50      0.20      0.29         5\n",
      "           1       0.00      0.00      0.00         5\n",
      "           2       0.29      0.40      0.33         5\n",
      "\n",
      "    accuracy                           0.20        15\n",
      "   macro avg       0.26      0.20      0.21        15\n",
      "weighted avg       0.26      0.20      0.21        15\n",
      "\n",
      "-------------------------------------------------------------------------------------------------------------------\n"
     ]
    },
    {
     "name": "stderr",
     "output_type": "stream",
     "text": [
      "[Parallel(n_jobs=-1)]: Done   3 out of   3 | elapsed:  1.2min finished\n",
      "[Parallel(n_jobs=-1)]: Using backend LokyBackend with 12 concurrent workers.\n"
     ]
    },
    {
     "name": "stdout",
     "output_type": "stream",
     "text": [
      "K-Fold #6\n",
      "Mean negativities for all classes: [0.3665873880840712, 0.33604996928020564, 0.0874656404501537]\n",
      "Mean entropies for all classes: [4.2520344935865385e-15, 3.545401049889446e-15, 3.643959077821233e-15]\n",
      "              precision    recall  f1-score   support\n",
      "\n",
      "           0       0.00      0.00      0.00         5\n",
      "           1       0.00      0.00      0.00         5\n",
      "           2       0.30      0.60      0.40         5\n",
      "\n",
      "    accuracy                           0.20        15\n",
      "   macro avg       0.10      0.20      0.13        15\n",
      "weighted avg       0.10      0.20      0.13        15\n",
      "\n",
      "-------------------------------------------------------------------------------------------------------------------\n"
     ]
    },
    {
     "name": "stderr",
     "output_type": "stream",
     "text": [
      "[Parallel(n_jobs=-1)]: Done   3 out of   3 | elapsed:  1.2min finished\n",
      "[Parallel(n_jobs=-1)]: Using backend LokyBackend with 12 concurrent workers.\n"
     ]
    },
    {
     "name": "stdout",
     "output_type": "stream",
     "text": [
      "K-Fold #7\n",
      "Mean negativities for all classes: [0.35890515463570705, 0.32320470165056087, 0.08669664665476935]\n",
      "Mean entropies for all classes: [4.022961216055709e-15, 3.7244742883023465e-15, 4.196098269486227e-15]\n",
      "              precision    recall  f1-score   support\n",
      "\n",
      "           0       1.00      0.20      0.33         5\n",
      "           1       0.00      0.00      0.00         5\n",
      "           2       0.12      0.20      0.15         5\n",
      "\n",
      "    accuracy                           0.13        15\n",
      "   macro avg       0.38      0.13      0.16        15\n",
      "weighted avg       0.38      0.13      0.16        15\n",
      "\n",
      "-------------------------------------------------------------------------------------------------------------------\n"
     ]
    },
    {
     "name": "stderr",
     "output_type": "stream",
     "text": [
      "[Parallel(n_jobs=-1)]: Done   3 out of   3 | elapsed:  1.2min finished\n",
      "[Parallel(n_jobs=-1)]: Using backend LokyBackend with 12 concurrent workers.\n"
     ]
    },
    {
     "name": "stdout",
     "output_type": "stream",
     "text": [
      "K-Fold #8\n",
      "Mean negativities for all classes: [0.3617555694816309, 0.31504462469313804, 0.08719490780938181]\n",
      "Mean entropies for all classes: [4.3053304423614165e-15, 4.4490902734499016e-15, 3.592673194857029e-15]\n",
      "              precision    recall  f1-score   support\n",
      "\n",
      "           0       0.50      0.20      0.29         5\n",
      "           1       0.00      0.00      0.00         5\n",
      "           2       0.36      0.80      0.50         5\n",
      "\n",
      "    accuracy                           0.33        15\n",
      "   macro avg       0.29      0.33      0.26        15\n",
      "weighted avg       0.29      0.33      0.26        15\n",
      "\n",
      "-------------------------------------------------------------------------------------------------------------------\n"
     ]
    },
    {
     "name": "stderr",
     "output_type": "stream",
     "text": [
      "[Parallel(n_jobs=-1)]: Done   3 out of   3 | elapsed:  1.2min finished\n",
      "[Parallel(n_jobs=-1)]: Using backend LokyBackend with 12 concurrent workers.\n"
     ]
    },
    {
     "name": "stdout",
     "output_type": "stream",
     "text": [
      "K-Fold #9\n",
      "Mean negativities for all classes: [0.3644553066279723, 0.327705952311424, 0.08685610413583508]\n",
      "Mean entropies for all classes: [3.61214038275097e-15, 3.1629876011649872e-15, 3.3679955215522896e-15]\n",
      "              precision    recall  f1-score   support\n",
      "\n",
      "           0       0.00      0.00      0.00         5\n",
      "           1       0.00      0.00      0.00         5\n",
      "           2       0.38      0.60      0.46         5\n",
      "\n",
      "    accuracy                           0.20        15\n",
      "   macro avg       0.12      0.20      0.15        15\n",
      "weighted avg       0.12      0.20      0.15        15\n",
      "\n",
      "-------------------------------------------------------------------------------------------------------------------\n",
      "AVG: Scores = 0.24000000000000005 F1-Scores = 0.20849409849409847 Negativity = [0.2590256152736979, 0.26163130637182624, 0.26301723133915017] Entropy = [3.757888422553593e-15, 3.835843714270914e-15, 4.124879162284956e-15]\n"
     ]
    },
    {
     "name": "stderr",
     "output_type": "stream",
     "text": [
      "[Parallel(n_jobs=-1)]: Done   3 out of   3 | elapsed:  1.2min finished\n",
      "[Parallel(n_jobs=-1)]: Using backend LokyBackend with 12 concurrent workers.\n"
     ]
    },
    {
     "name": "stdout",
     "output_type": "stream",
     "text": [
      "K-Fold #0\n",
      "Mean negativities for all classes: [0.361059777747148, 0.35546900322288255, 0.0866064679462206]\n",
      "Mean entropies for all classes: [3.727161985054587e-15, 3.652750993393827e-15, 3.2505081896336656e-15]\n",
      "              precision    recall  f1-score   support\n",
      "\n",
      "           0       0.00      0.00      0.00         5\n",
      "           1       0.00      0.00      0.00         5\n",
      "           2       0.33      0.80      0.47         5\n",
      "\n",
      "    accuracy                           0.27        15\n",
      "   macro avg       0.11      0.27      0.16        15\n",
      "weighted avg       0.11      0.27      0.16        15\n",
      "\n",
      "-------------------------------------------------------------------------------------------------------------------\n"
     ]
    },
    {
     "name": "stderr",
     "output_type": "stream",
     "text": [
      "[Parallel(n_jobs=-1)]: Done   3 out of   3 | elapsed:  1.2min finished\n",
      "c:\\ProgramData\\Anaconda3\\lib\\site-packages\\sklearn\\metrics\\_classification.py:1344: UndefinedMetricWarning: Precision and F-score are ill-defined and being set to 0.0 in labels with no predicted samples. Use `zero_division` parameter to control this behavior.\n",
      "  _warn_prf(average, modifier, msg_start, len(result))\n",
      "c:\\ProgramData\\Anaconda3\\lib\\site-packages\\sklearn\\metrics\\_classification.py:1344: UndefinedMetricWarning: Precision and F-score are ill-defined and being set to 0.0 in labels with no predicted samples. Use `zero_division` parameter to control this behavior.\n",
      "  _warn_prf(average, modifier, msg_start, len(result))\n",
      "c:\\ProgramData\\Anaconda3\\lib\\site-packages\\sklearn\\metrics\\_classification.py:1344: UndefinedMetricWarning: Precision and F-score are ill-defined and being set to 0.0 in labels with no predicted samples. Use `zero_division` parameter to control this behavior.\n",
      "  _warn_prf(average, modifier, msg_start, len(result))\n",
      "[Parallel(n_jobs=-1)]: Using backend LokyBackend with 12 concurrent workers.\n"
     ]
    },
    {
     "name": "stdout",
     "output_type": "stream",
     "text": [
      "K-Fold #1\n",
      "Mean negativities for all classes: [0.370645053796956, 0.3389705115909577, 0.08763876649884551]\n",
      "Mean entropies for all classes: [3.403984521369294e-15, 3.476213275108867e-15, 3.6651914046984615e-15]\n",
      "              precision    recall  f1-score   support\n",
      "\n",
      "           0       0.00      0.00      0.00         5\n",
      "           1       0.00      0.00      0.00         5\n",
      "           2       0.25      0.60      0.35         5\n",
      "\n",
      "    accuracy                           0.20        15\n",
      "   macro avg       0.08      0.20      0.12        15\n",
      "weighted avg       0.08      0.20      0.12        15\n",
      "\n",
      "-------------------------------------------------------------------------------------------------------------------\n"
     ]
    },
    {
     "name": "stderr",
     "output_type": "stream",
     "text": [
      "[Parallel(n_jobs=-1)]: Done   3 out of   3 | elapsed:  1.2min finished\n",
      "c:\\ProgramData\\Anaconda3\\lib\\site-packages\\sklearn\\metrics\\_classification.py:1344: UndefinedMetricWarning: Precision and F-score are ill-defined and being set to 0.0 in labels with no predicted samples. Use `zero_division` parameter to control this behavior.\n",
      "  _warn_prf(average, modifier, msg_start, len(result))\n",
      "c:\\ProgramData\\Anaconda3\\lib\\site-packages\\sklearn\\metrics\\_classification.py:1344: UndefinedMetricWarning: Precision and F-score are ill-defined and being set to 0.0 in labels with no predicted samples. Use `zero_division` parameter to control this behavior.\n",
      "  _warn_prf(average, modifier, msg_start, len(result))\n",
      "c:\\ProgramData\\Anaconda3\\lib\\site-packages\\sklearn\\metrics\\_classification.py:1344: UndefinedMetricWarning: Precision and F-score are ill-defined and being set to 0.0 in labels with no predicted samples. Use `zero_division` parameter to control this behavior.\n",
      "  _warn_prf(average, modifier, msg_start, len(result))\n",
      "[Parallel(n_jobs=-1)]: Using backend LokyBackend with 12 concurrent workers.\n"
     ]
    },
    {
     "name": "stdout",
     "output_type": "stream",
     "text": [
      "K-Fold #2\n",
      "Mean negativities for all classes: [0.3615721980842146, 0.29779491583643536, 0.08735401069165098]\n",
      "Mean entropies for all classes: [3.8313015584546675e-15, 3.3449580160867188e-15, 3.2261535147122554e-15]\n",
      "              precision    recall  f1-score   support\n",
      "\n",
      "           0       0.00      0.00      0.00         5\n",
      "           1       0.00      0.00      0.00         5\n",
      "           2       0.33      0.60      0.43         5\n",
      "\n",
      "    accuracy                           0.20        15\n",
      "   macro avg       0.11      0.20      0.14        15\n",
      "weighted avg       0.11      0.20      0.14        15\n",
      "\n",
      "-------------------------------------------------------------------------------------------------------------------\n"
     ]
    },
    {
     "name": "stderr",
     "output_type": "stream",
     "text": [
      "[Parallel(n_jobs=-1)]: Done   3 out of   3 | elapsed:  1.2min finished\n",
      "c:\\ProgramData\\Anaconda3\\lib\\site-packages\\sklearn\\metrics\\_classification.py:1344: UndefinedMetricWarning: Precision and F-score are ill-defined and being set to 0.0 in labels with no predicted samples. Use `zero_division` parameter to control this behavior.\n",
      "  _warn_prf(average, modifier, msg_start, len(result))\n",
      "c:\\ProgramData\\Anaconda3\\lib\\site-packages\\sklearn\\metrics\\_classification.py:1344: UndefinedMetricWarning: Precision and F-score are ill-defined and being set to 0.0 in labels with no predicted samples. Use `zero_division` parameter to control this behavior.\n",
      "  _warn_prf(average, modifier, msg_start, len(result))\n",
      "c:\\ProgramData\\Anaconda3\\lib\\site-packages\\sklearn\\metrics\\_classification.py:1344: UndefinedMetricWarning: Precision and F-score are ill-defined and being set to 0.0 in labels with no predicted samples. Use `zero_division` parameter to control this behavior.\n",
      "  _warn_prf(average, modifier, msg_start, len(result))\n",
      "[Parallel(n_jobs=-1)]: Using backend LokyBackend with 12 concurrent workers.\n"
     ]
    },
    {
     "name": "stdout",
     "output_type": "stream",
     "text": [
      "K-Fold #3\n",
      "Mean negativities for all classes: [0.3667211775851117, 0.33566875827942855, 0.08667366544919158]\n",
      "Mean entropies for all classes: [3.5523620956011566e-15, 3.354103397527246e-15, 3.6542426066376046e-15]\n",
      "              precision    recall  f1-score   support\n",
      "\n",
      "           0       0.00      0.00      0.00         5\n",
      "           1       0.00      0.00      0.00         5\n",
      "           2       0.33      0.80      0.47         5\n",
      "\n",
      "    accuracy                           0.27        15\n",
      "   macro avg       0.11      0.27      0.16        15\n",
      "weighted avg       0.11      0.27      0.16        15\n",
      "\n",
      "-------------------------------------------------------------------------------------------------------------------\n"
     ]
    },
    {
     "name": "stderr",
     "output_type": "stream",
     "text": [
      "[Parallel(n_jobs=-1)]: Done   3 out of   3 | elapsed:  1.2min finished\n",
      "[Parallel(n_jobs=-1)]: Using backend LokyBackend with 12 concurrent workers.\n"
     ]
    },
    {
     "name": "stdout",
     "output_type": "stream",
     "text": [
      "K-Fold #4\n",
      "Mean negativities for all classes: [0.35425144359667526, 0.3162054795286975, 0.08703222513028817]\n",
      "Mean entropies for all classes: [3.591105760276043e-15, 3.338571840909001e-15, 3.857666421768928e-15]\n",
      "              precision    recall  f1-score   support\n",
      "\n",
      "           0       1.00      0.20      0.33         5\n",
      "           1       0.00      0.00      0.00         5\n",
      "           2       0.25      0.40      0.31         5\n",
      "\n",
      "    accuracy                           0.20        15\n",
      "   macro avg       0.42      0.20      0.21        15\n",
      "weighted avg       0.42      0.20      0.21        15\n",
      "\n",
      "-------------------------------------------------------------------------------------------------------------------\n"
     ]
    },
    {
     "name": "stderr",
     "output_type": "stream",
     "text": [
      "[Parallel(n_jobs=-1)]: Done   3 out of   3 | elapsed:  1.2min finished\n",
      "c:\\ProgramData\\Anaconda3\\lib\\site-packages\\sklearn\\metrics\\_classification.py:1344: UndefinedMetricWarning: Precision and F-score are ill-defined and being set to 0.0 in labels with no predicted samples. Use `zero_division` parameter to control this behavior.\n",
      "  _warn_prf(average, modifier, msg_start, len(result))\n",
      "c:\\ProgramData\\Anaconda3\\lib\\site-packages\\sklearn\\metrics\\_classification.py:1344: UndefinedMetricWarning: Precision and F-score are ill-defined and being set to 0.0 in labels with no predicted samples. Use `zero_division` parameter to control this behavior.\n",
      "  _warn_prf(average, modifier, msg_start, len(result))\n",
      "c:\\ProgramData\\Anaconda3\\lib\\site-packages\\sklearn\\metrics\\_classification.py:1344: UndefinedMetricWarning: Precision and F-score are ill-defined and being set to 0.0 in labels with no predicted samples. Use `zero_division` parameter to control this behavior.\n",
      "  _warn_prf(average, modifier, msg_start, len(result))\n",
      "[Parallel(n_jobs=-1)]: Using backend LokyBackend with 12 concurrent workers.\n"
     ]
    },
    {
     "name": "stdout",
     "output_type": "stream",
     "text": [
      "K-Fold #5\n",
      "Mean negativities for all classes: [0.36179877809257255, 0.33827320793707494, 0.08705944063874708]\n",
      "Mean entropies for all classes: [4.536818892315182e-15, 3.9364282112898825e-15, 3.35510722890497e-15]\n",
      "              precision    recall  f1-score   support\n",
      "\n",
      "           0       0.00      0.00      0.00         5\n",
      "           1       0.00      0.00      0.00         5\n",
      "           2       0.33      0.80      0.47         5\n",
      "\n",
      "    accuracy                           0.27        15\n",
      "   macro avg       0.11      0.27      0.16        15\n",
      "weighted avg       0.11      0.27      0.16        15\n",
      "\n",
      "-------------------------------------------------------------------------------------------------------------------\n"
     ]
    },
    {
     "name": "stderr",
     "output_type": "stream",
     "text": [
      "[Parallel(n_jobs=-1)]: Done   3 out of   3 | elapsed:  1.2min finished\n",
      "[Parallel(n_jobs=-1)]: Using backend LokyBackend with 12 concurrent workers.\n"
     ]
    },
    {
     "name": "stdout",
     "output_type": "stream",
     "text": [
      "K-Fold #6\n",
      "Mean negativities for all classes: [0.3649725458750151, 0.33270552547257404, 0.08747805526311445]\n",
      "Mean entropies for all classes: [3.164122554147967e-15, 3.1753655055840527e-15, 3.0189549024426946e-15]\n",
      "              precision    recall  f1-score   support\n",
      "\n",
      "           0       1.00      0.20      0.33         5\n",
      "           1       0.00      0.00      0.00         5\n",
      "           2       0.40      0.80      0.53         5\n",
      "\n",
      "    accuracy                           0.33        15\n",
      "   macro avg       0.47      0.33      0.29        15\n",
      "weighted avg       0.47      0.33      0.29        15\n",
      "\n",
      "-------------------------------------------------------------------------------------------------------------------\n"
     ]
    },
    {
     "name": "stderr",
     "output_type": "stream",
     "text": [
      "[Parallel(n_jobs=-1)]: Done   3 out of   3 | elapsed:  1.2min finished\n",
      "[Parallel(n_jobs=-1)]: Using backend LokyBackend with 12 concurrent workers.\n"
     ]
    },
    {
     "name": "stdout",
     "output_type": "stream",
     "text": [
      "K-Fold #7\n",
      "Mean negativities for all classes: [0.3551747429929127, 0.33468183382441186, 0.08680202959552427]\n",
      "Mean entropies for all classes: [4.44153682720773e-15, 3.633205104839748e-15, 2.9920235642082974e-15]\n",
      "              precision    recall  f1-score   support\n",
      "\n",
      "           0       0.50      0.20      0.29         5\n",
      "           1       0.00      0.00      0.00         5\n",
      "           2       0.30      0.60      0.40         5\n",
      "\n",
      "    accuracy                           0.27        15\n",
      "   macro avg       0.27      0.27      0.23        15\n",
      "weighted avg       0.27      0.27      0.23        15\n",
      "\n",
      "-------------------------------------------------------------------------------------------------------------------\n"
     ]
    },
    {
     "name": "stderr",
     "output_type": "stream",
     "text": [
      "[Parallel(n_jobs=-1)]: Done   3 out of   3 | elapsed:  1.2min finished\n",
      "[Parallel(n_jobs=-1)]: Using backend LokyBackend with 12 concurrent workers.\n"
     ]
    },
    {
     "name": "stdout",
     "output_type": "stream",
     "text": [
      "K-Fold #8\n",
      "Mean negativities for all classes: [0.3622532185428484, 0.31753699118764195, 0.08714497395960961]\n",
      "Mean entropies for all classes: [4.0608349640794546e-15, 3.506649664726814e-15, 3.4359417086159582e-15]\n",
      "              precision    recall  f1-score   support\n",
      "\n",
      "           0       1.00      0.20      0.33         5\n",
      "           1       0.00      0.00      0.00         5\n",
      "           2       0.33      0.60      0.43         5\n",
      "\n",
      "    accuracy                           0.27        15\n",
      "   macro avg       0.44      0.27      0.25        15\n",
      "weighted avg       0.44      0.27      0.25        15\n",
      "\n",
      "-------------------------------------------------------------------------------------------------------------------\n"
     ]
    },
    {
     "name": "stderr",
     "output_type": "stream",
     "text": [
      "[Parallel(n_jobs=-1)]: Done   3 out of   3 | elapsed:  1.2min finished\n",
      "[Parallel(n_jobs=-1)]: Using backend LokyBackend with 12 concurrent workers.\n"
     ]
    },
    {
     "name": "stdout",
     "output_type": "stream",
     "text": [
      "K-Fold #9\n",
      "Mean negativities for all classes: [0.36714201669837954, 0.33848047284703225, 0.08712658978552441]\n",
      "Mean entropies for all classes: [4.076530798420359e-15, 4.328417326524793e-15, 3.270886395331681e-15]\n",
      "              precision    recall  f1-score   support\n",
      "\n",
      "           0       1.00      0.20      0.33         5\n",
      "           1       0.00      0.00      0.00         5\n",
      "           2       0.33      0.60      0.43         5\n",
      "\n",
      "    accuracy                           0.27        15\n",
      "   macro avg       0.44      0.27      0.25        15\n",
      "weighted avg       0.44      0.27      0.25        15\n",
      "\n",
      "-------------------------------------------------------------------------------------------------------------------\n",
      "AVG: Scores = 0.2533333333333333 F1-Scores = 0.1970164476046829 Negativity = [0.2677117496387504, 0.2657514439622531, 0.24890704153743362] Entropy = [3.5434737226940267e-15, 3.515129733725541e-15, 3.4674710297512135e-15]\n"
     ]
    },
    {
     "name": "stderr",
     "output_type": "stream",
     "text": [
      "[Parallel(n_jobs=-1)]: Done   3 out of   3 | elapsed:  1.2min finished\n",
      "c:\\ProgramData\\Anaconda3\\lib\\site-packages\\sklearn\\metrics\\_classification.py:1344: UndefinedMetricWarning: Precision and F-score are ill-defined and being set to 0.0 in labels with no predicted samples. Use `zero_division` parameter to control this behavior.\n",
      "  _warn_prf(average, modifier, msg_start, len(result))\n",
      "c:\\ProgramData\\Anaconda3\\lib\\site-packages\\sklearn\\metrics\\_classification.py:1344: UndefinedMetricWarning: Precision and F-score are ill-defined and being set to 0.0 in labels with no predicted samples. Use `zero_division` parameter to control this behavior.\n",
      "  _warn_prf(average, modifier, msg_start, len(result))\n",
      "c:\\ProgramData\\Anaconda3\\lib\\site-packages\\sklearn\\metrics\\_classification.py:1344: UndefinedMetricWarning: Precision and F-score are ill-defined and being set to 0.0 in labels with no predicted samples. Use `zero_division` parameter to control this behavior.\n",
      "  _warn_prf(average, modifier, msg_start, len(result))\n",
      "[Parallel(n_jobs=-1)]: Using backend LokyBackend with 12 concurrent workers.\n"
     ]
    },
    {
     "name": "stdout",
     "output_type": "stream",
     "text": [
      "K-Fold #0\n",
      "Mean negativities for all classes: [0.36855794913997275, 0.30834203952051537, 0.08646186288260396]\n",
      "Mean entropies for all classes: [3.165036475055732e-15, 3.5827673772097455e-15, 2.9607727768310322e-15]\n",
      "              precision    recall  f1-score   support\n",
      "\n",
      "           0       0.00      0.00      0.00         5\n",
      "           1       0.00      0.00      0.00         5\n",
      "           2       0.27      0.60      0.37         5\n",
      "\n",
      "    accuracy                           0.20        15\n",
      "   macro avg       0.09      0.20      0.12        15\n",
      "weighted avg       0.09      0.20      0.12        15\n",
      "\n",
      "-------------------------------------------------------------------------------------------------------------------\n"
     ]
    },
    {
     "name": "stderr",
     "output_type": "stream",
     "text": [
      "[Parallel(n_jobs=-1)]: Done   3 out of   3 | elapsed:  1.2min finished\n",
      "[Parallel(n_jobs=-1)]: Using backend LokyBackend with 12 concurrent workers.\n"
     ]
    },
    {
     "name": "stdout",
     "output_type": "stream",
     "text": [
      "K-Fold #1\n",
      "Mean negativities for all classes: [0.36712708321780496, 0.3247347142352936, 0.0875338142768598]\n",
      "Mean entropies for all classes: [3.3014218112921494e-15, 4.219873103091711e-15, 3.0273242598736025e-15]\n",
      "              precision    recall  f1-score   support\n",
      "\n",
      "           0       1.00      0.40      0.57         5\n",
      "           1       0.00      0.00      0.00         5\n",
      "           2       0.30      0.60      0.40         5\n",
      "\n",
      "    accuracy                           0.33        15\n",
      "   macro avg       0.43      0.33      0.32        15\n",
      "weighted avg       0.43      0.33      0.32        15\n",
      "\n",
      "-------------------------------------------------------------------------------------------------------------------\n"
     ]
    },
    {
     "name": "stderr",
     "output_type": "stream",
     "text": [
      "[Parallel(n_jobs=-1)]: Done   3 out of   3 | elapsed:  1.2min finished\n",
      "c:\\ProgramData\\Anaconda3\\lib\\site-packages\\sklearn\\metrics\\_classification.py:1344: UndefinedMetricWarning: Precision and F-score are ill-defined and being set to 0.0 in labels with no predicted samples. Use `zero_division` parameter to control this behavior.\n",
      "  _warn_prf(average, modifier, msg_start, len(result))\n",
      "c:\\ProgramData\\Anaconda3\\lib\\site-packages\\sklearn\\metrics\\_classification.py:1344: UndefinedMetricWarning: Precision and F-score are ill-defined and being set to 0.0 in labels with no predicted samples. Use `zero_division` parameter to control this behavior.\n",
      "  _warn_prf(average, modifier, msg_start, len(result))\n",
      "c:\\ProgramData\\Anaconda3\\lib\\site-packages\\sklearn\\metrics\\_classification.py:1344: UndefinedMetricWarning: Precision and F-score are ill-defined and being set to 0.0 in labels with no predicted samples. Use `zero_division` parameter to control this behavior.\n",
      "  _warn_prf(average, modifier, msg_start, len(result))\n",
      "[Parallel(n_jobs=-1)]: Using backend LokyBackend with 12 concurrent workers.\n"
     ]
    },
    {
     "name": "stdout",
     "output_type": "stream",
     "text": [
      "K-Fold #2\n",
      "Mean negativities for all classes: [0.363771907200685, 0.32157629830275025, 0.0869841233581507]\n",
      "Mean entropies for all classes: [4.6423249822959244e-15, 3.3258078805376327e-15, 3.3380875497509087e-15]\n",
      "              precision    recall  f1-score   support\n",
      "\n",
      "           0       0.00      0.00      0.00         5\n",
      "           1       0.00      0.00      0.00         5\n",
      "           2       0.40      0.80      0.53         5\n",
      "\n",
      "    accuracy                           0.27        15\n",
      "   macro avg       0.13      0.27      0.18        15\n",
      "weighted avg       0.13      0.27      0.18        15\n",
      "\n",
      "-------------------------------------------------------------------------------------------------------------------\n"
     ]
    },
    {
     "name": "stderr",
     "output_type": "stream",
     "text": [
      "[Parallel(n_jobs=-1)]: Done   3 out of   3 | elapsed:  1.2min finished\n",
      "c:\\ProgramData\\Anaconda3\\lib\\site-packages\\sklearn\\metrics\\_classification.py:1344: UndefinedMetricWarning: Precision and F-score are ill-defined and being set to 0.0 in labels with no predicted samples. Use `zero_division` parameter to control this behavior.\n",
      "  _warn_prf(average, modifier, msg_start, len(result))\n",
      "c:\\ProgramData\\Anaconda3\\lib\\site-packages\\sklearn\\metrics\\_classification.py:1344: UndefinedMetricWarning: Precision and F-score are ill-defined and being set to 0.0 in labels with no predicted samples. Use `zero_division` parameter to control this behavior.\n",
      "  _warn_prf(average, modifier, msg_start, len(result))\n",
      "c:\\ProgramData\\Anaconda3\\lib\\site-packages\\sklearn\\metrics\\_classification.py:1344: UndefinedMetricWarning: Precision and F-score are ill-defined and being set to 0.0 in labels with no predicted samples. Use `zero_division` parameter to control this behavior.\n",
      "  _warn_prf(average, modifier, msg_start, len(result))\n",
      "[Parallel(n_jobs=-1)]: Using backend LokyBackend with 12 concurrent workers.\n"
     ]
    },
    {
     "name": "stdout",
     "output_type": "stream",
     "text": [
      "K-Fold #3\n",
      "Mean negativities for all classes: [0.3614719550781446, 0.31675035802094553, 0.08726812375337283]\n",
      "Mean entropies for all classes: [3.941928823650237e-15, 4.0529886075782695e-15, 3.970302103977602e-15]\n",
      "              precision    recall  f1-score   support\n",
      "\n",
      "           0       0.00      0.00      0.00         5\n",
      "           1       0.00      0.00      0.00         5\n",
      "           2       0.11      0.20      0.14         5\n",
      "\n",
      "    accuracy                           0.07        15\n",
      "   macro avg       0.04      0.07      0.05        15\n",
      "weighted avg       0.04      0.07      0.05        15\n",
      "\n",
      "-------------------------------------------------------------------------------------------------------------------\n"
     ]
    },
    {
     "name": "stderr",
     "output_type": "stream",
     "text": [
      "[Parallel(n_jobs=-1)]: Done   3 out of   3 | elapsed:  1.2min finished\n",
      "[Parallel(n_jobs=-1)]: Using backend LokyBackend with 12 concurrent workers.\n"
     ]
    },
    {
     "name": "stdout",
     "output_type": "stream",
     "text": [
      "K-Fold #4\n",
      "Mean negativities for all classes: [0.36514946787819375, 0.3231511300847329, 0.0877903078496748]\n",
      "Mean entropies for all classes: [3.828899256579147e-15, 3.49465095042816e-15, 3.4077471758614605e-15]\n",
      "              precision    recall  f1-score   support\n",
      "\n",
      "           0       0.00      0.00      0.00         5\n",
      "           1       0.00      0.00      0.00         5\n",
      "           2       0.30      0.60      0.40         5\n",
      "\n",
      "    accuracy                           0.20        15\n",
      "   macro avg       0.10      0.20      0.13        15\n",
      "weighted avg       0.10      0.20      0.13        15\n",
      "\n",
      "-------------------------------------------------------------------------------------------------------------------\n"
     ]
    },
    {
     "name": "stderr",
     "output_type": "stream",
     "text": [
      "[Parallel(n_jobs=-1)]: Done   3 out of   3 | elapsed:  1.2min finished\n",
      "c:\\ProgramData\\Anaconda3\\lib\\site-packages\\sklearn\\metrics\\_classification.py:1344: UndefinedMetricWarning: Precision and F-score are ill-defined and being set to 0.0 in labels with no predicted samples. Use `zero_division` parameter to control this behavior.\n",
      "  _warn_prf(average, modifier, msg_start, len(result))\n",
      "c:\\ProgramData\\Anaconda3\\lib\\site-packages\\sklearn\\metrics\\_classification.py:1344: UndefinedMetricWarning: Precision and F-score are ill-defined and being set to 0.0 in labels with no predicted samples. Use `zero_division` parameter to control this behavior.\n",
      "  _warn_prf(average, modifier, msg_start, len(result))\n",
      "c:\\ProgramData\\Anaconda3\\lib\\site-packages\\sklearn\\metrics\\_classification.py:1344: UndefinedMetricWarning: Precision and F-score are ill-defined and being set to 0.0 in labels with no predicted samples. Use `zero_division` parameter to control this behavior.\n",
      "  _warn_prf(average, modifier, msg_start, len(result))\n",
      "[Parallel(n_jobs=-1)]: Using backend LokyBackend with 12 concurrent workers.\n"
     ]
    },
    {
     "name": "stdout",
     "output_type": "stream",
     "text": [
      "K-Fold #5\n",
      "Mean negativities for all classes: [0.3704619689294075, 0.32177720130643933, 0.08725076919883458]\n",
      "Mean entropies for all classes: [3.820537807615875e-15, 4.029527715294133e-15, 3.6688150530078845e-15]\n",
      "              precision    recall  f1-score   support\n",
      "\n",
      "           0       0.00      0.00      0.00         5\n",
      "           1       0.00      0.00      0.00         5\n",
      "           2       0.29      0.80      0.42         5\n",
      "\n",
      "    accuracy                           0.27        15\n",
      "   macro avg       0.10      0.27      0.14        15\n",
      "weighted avg       0.10      0.27      0.14        15\n",
      "\n",
      "-------------------------------------------------------------------------------------------------------------------\n"
     ]
    },
    {
     "name": "stderr",
     "output_type": "stream",
     "text": [
      "[Parallel(n_jobs=-1)]: Done   3 out of   3 | elapsed:  1.2min finished\n",
      "[Parallel(n_jobs=-1)]: Using backend LokyBackend with 12 concurrent workers.\n"
     ]
    },
    {
     "name": "stdout",
     "output_type": "stream",
     "text": [
      "K-Fold #6\n",
      "Mean negativities for all classes: [0.35777377817535516, 0.31828725328165414, 0.08676220855950838]\n",
      "Mean entropies for all classes: [3.4024646115901953e-15, 3.4288308832545103e-15, 3.202333637489461e-15]\n",
      "              precision    recall  f1-score   support\n",
      "\n",
      "           0       0.50      0.20      0.29         5\n",
      "           1       0.00      0.00      0.00         5\n",
      "           2       0.33      0.60      0.43         5\n",
      "\n",
      "    accuracy                           0.27        15\n",
      "   macro avg       0.28      0.27      0.24        15\n",
      "weighted avg       0.28      0.27      0.24        15\n",
      "\n",
      "-------------------------------------------------------------------------------------------------------------------\n"
     ]
    },
    {
     "name": "stderr",
     "output_type": "stream",
     "text": [
      "[Parallel(n_jobs=-1)]: Done   3 out of   3 | elapsed:  1.2min finished\n",
      "[Parallel(n_jobs=-1)]: Using backend LokyBackend with 12 concurrent workers.\n"
     ]
    },
    {
     "name": "stdout",
     "output_type": "stream",
     "text": [
      "K-Fold #7\n",
      "Mean negativities for all classes: [0.35421381504601507, 0.3420262459965394, 0.08688229295593014]\n",
      "Mean entropies for all classes: [3.2518968619724146e-15, 3.3760395079804696e-15, 3.666271638680799e-15]\n",
      "              precision    recall  f1-score   support\n",
      "\n",
      "           0       0.50      0.20      0.29         5\n",
      "           1       0.00      0.00      0.00         5\n",
      "           2       0.50      0.80      0.62         5\n",
      "\n",
      "    accuracy                           0.33        15\n",
      "   macro avg       0.33      0.33      0.30        15\n",
      "weighted avg       0.33      0.33      0.30        15\n",
      "\n",
      "-------------------------------------------------------------------------------------------------------------------\n"
     ]
    },
    {
     "name": "stderr",
     "output_type": "stream",
     "text": [
      "[Parallel(n_jobs=-1)]: Done   3 out of   3 | elapsed:  1.2min finished\n",
      "[Parallel(n_jobs=-1)]: Using backend LokyBackend with 12 concurrent workers.\n"
     ]
    },
    {
     "name": "stdout",
     "output_type": "stream",
     "text": [
      "K-Fold #8\n",
      "Mean negativities for all classes: [0.34455832709663536, 0.33917636299636994, 0.08646404424481859]\n",
      "Mean entropies for all classes: [3.322977674867722e-15, 3.8859812924828875e-15, 3.234095518519267e-15]\n",
      "              precision    recall  f1-score   support\n",
      "\n",
      "           0       1.00      0.40      0.57         5\n",
      "           1       0.00      0.00      0.00         5\n",
      "           2       0.44      0.80      0.57         5\n",
      "\n",
      "    accuracy                           0.40        15\n",
      "   macro avg       0.48      0.40      0.38        15\n",
      "weighted avg       0.48      0.40      0.38        15\n",
      "\n",
      "-------------------------------------------------------------------------------------------------------------------\n"
     ]
    },
    {
     "name": "stderr",
     "output_type": "stream",
     "text": [
      "[Parallel(n_jobs=-1)]: Done   3 out of   3 | elapsed:  1.2min finished\n",
      "[Parallel(n_jobs=-1)]: Using backend LokyBackend with 12 concurrent workers.\n"
     ]
    },
    {
     "name": "stdout",
     "output_type": "stream",
     "text": [
      "K-Fold #9\n",
      "Mean negativities for all classes: [0.3730167963698223, 0.3425038910407182, 0.08781412763945233]\n",
      "Mean entropies for all classes: [4.049629428346637e-15, 3.2031732952323173e-15, 3.240951417488676e-15]\n",
      "              precision    recall  f1-score   support\n",
      "\n",
      "           0       0.00      0.00      0.00         5\n",
      "           1       0.00      0.00      0.00         5\n",
      "           2       0.20      0.40      0.27         5\n",
      "\n",
      "    accuracy                           0.13        15\n",
      "   macro avg       0.07      0.13      0.09        15\n",
      "weighted avg       0.07      0.13      0.09        15\n",
      "\n",
      "-------------------------------------------------------------------------------------------------------------------\n",
      "AVG: Scores = 0.24666666666666667 F1-Scores = 0.19561933680354732 Negativity = [0.254453950514364, 0.2597985372433194, 0.25744410962052866] Entropy = [3.2361922096988364e-15, 3.5162063914191543e-15, 3.7687401375281546e-15]\n"
     ]
    },
    {
     "name": "stderr",
     "output_type": "stream",
     "text": [
      "[Parallel(n_jobs=-1)]: Done   3 out of   3 | elapsed:  1.2min finished\n",
      "[Parallel(n_jobs=-1)]: Using backend LokyBackend with 12 concurrent workers.\n"
     ]
    },
    {
     "name": "stdout",
     "output_type": "stream",
     "text": [
      "K-Fold #0\n",
      "Mean negativities for all classes: [0.3578760452505588, 0.33270190620000434, 0.08684889304405718]\n",
      "Mean entropies for all classes: [3.6552017727972286e-15, 3.0286597967630625e-15, 3.771087554257564e-15]\n",
      "              precision    recall  f1-score   support\n",
      "\n",
      "           0       1.00      0.40      0.57         5\n",
      "           1       0.00      0.00      0.00         5\n",
      "           2       0.36      0.80      0.50         5\n",
      "\n",
      "    accuracy                           0.40        15\n",
      "   macro avg       0.45      0.40      0.36        15\n",
      "weighted avg       0.45      0.40      0.36        15\n",
      "\n",
      "-------------------------------------------------------------------------------------------------------------------\n"
     ]
    },
    {
     "name": "stderr",
     "output_type": "stream",
     "text": [
      "[Parallel(n_jobs=-1)]: Done   3 out of   3 | elapsed:  1.2min finished\n",
      "c:\\ProgramData\\Anaconda3\\lib\\site-packages\\sklearn\\metrics\\_classification.py:1344: UndefinedMetricWarning: Precision and F-score are ill-defined and being set to 0.0 in labels with no predicted samples. Use `zero_division` parameter to control this behavior.\n",
      "  _warn_prf(average, modifier, msg_start, len(result))\n",
      "c:\\ProgramData\\Anaconda3\\lib\\site-packages\\sklearn\\metrics\\_classification.py:1344: UndefinedMetricWarning: Precision and F-score are ill-defined and being set to 0.0 in labels with no predicted samples. Use `zero_division` parameter to control this behavior.\n",
      "  _warn_prf(average, modifier, msg_start, len(result))\n",
      "c:\\ProgramData\\Anaconda3\\lib\\site-packages\\sklearn\\metrics\\_classification.py:1344: UndefinedMetricWarning: Precision and F-score are ill-defined and being set to 0.0 in labels with no predicted samples. Use `zero_division` parameter to control this behavior.\n",
      "  _warn_prf(average, modifier, msg_start, len(result))\n",
      "[Parallel(n_jobs=-1)]: Using backend LokyBackend with 12 concurrent workers.\n"
     ]
    },
    {
     "name": "stdout",
     "output_type": "stream",
     "text": [
      "K-Fold #1\n",
      "Mean negativities for all classes: [0.3677825737193219, 0.32578399154814963, 0.08767335383136977]\n",
      "Mean entropies for all classes: [3.694708402784881e-15, 4.045112076783058e-15, 2.969977235269242e-15]\n",
      "              precision    recall  f1-score   support\n",
      "\n",
      "           0       0.00      0.00      0.00         5\n",
      "           1       0.00      0.00      0.00         5\n",
      "           2       0.36      0.80      0.50         5\n",
      "\n",
      "    accuracy                           0.27        15\n",
      "   macro avg       0.12      0.27      0.17        15\n",
      "weighted avg       0.12      0.27      0.17        15\n",
      "\n",
      "-------------------------------------------------------------------------------------------------------------------\n"
     ]
    },
    {
     "name": "stderr",
     "output_type": "stream",
     "text": [
      "[Parallel(n_jobs=-1)]: Done   3 out of   3 | elapsed:  1.2min finished\n",
      "c:\\ProgramData\\Anaconda3\\lib\\site-packages\\sklearn\\metrics\\_classification.py:1344: UndefinedMetricWarning: Precision and F-score are ill-defined and being set to 0.0 in labels with no predicted samples. Use `zero_division` parameter to control this behavior.\n",
      "  _warn_prf(average, modifier, msg_start, len(result))\n",
      "c:\\ProgramData\\Anaconda3\\lib\\site-packages\\sklearn\\metrics\\_classification.py:1344: UndefinedMetricWarning: Precision and F-score are ill-defined and being set to 0.0 in labels with no predicted samples. Use `zero_division` parameter to control this behavior.\n",
      "  _warn_prf(average, modifier, msg_start, len(result))\n",
      "c:\\ProgramData\\Anaconda3\\lib\\site-packages\\sklearn\\metrics\\_classification.py:1344: UndefinedMetricWarning: Precision and F-score are ill-defined and being set to 0.0 in labels with no predicted samples. Use `zero_division` parameter to control this behavior.\n",
      "  _warn_prf(average, modifier, msg_start, len(result))\n",
      "[Parallel(n_jobs=-1)]: Using backend LokyBackend with 12 concurrent workers.\n"
     ]
    },
    {
     "name": "stdout",
     "output_type": "stream",
     "text": [
      "K-Fold #2\n",
      "Mean negativities for all classes: [0.3657420309609248, 0.3459018942939741, 0.08654356848404594]\n",
      "Mean entropies for all classes: [3.486542756008508e-15, 3.621023452377214e-15, 3.613539161352043e-15]\n",
      "              precision    recall  f1-score   support\n",
      "\n",
      "           0       0.00      0.00      0.00         5\n",
      "           1       0.00      0.00      0.00         5\n",
      "           2       0.23      0.60      0.33         5\n",
      "\n",
      "    accuracy                           0.20        15\n",
      "   macro avg       0.08      0.20      0.11        15\n",
      "weighted avg       0.08      0.20      0.11        15\n",
      "\n",
      "-------------------------------------------------------------------------------------------------------------------\n"
     ]
    },
    {
     "name": "stderr",
     "output_type": "stream",
     "text": [
      "[Parallel(n_jobs=-1)]: Done   3 out of   3 | elapsed:  1.2min finished\n",
      "[Parallel(n_jobs=-1)]: Using backend LokyBackend with 12 concurrent workers.\n"
     ]
    },
    {
     "name": "stdout",
     "output_type": "stream",
     "text": [
      "K-Fold #3\n",
      "Mean negativities for all classes: [0.36356341820960136, 0.3206904939347278, 0.08663151790357464]\n",
      "Mean entropies for all classes: [3.451280076861747e-15, 3.8536760707278826e-15, 2.674762723598135e-15]\n",
      "              precision    recall  f1-score   support\n",
      "\n",
      "           0       1.00      0.20      0.33         5\n",
      "           1       0.00      0.00      0.00         5\n",
      "           2       0.22      0.40      0.29         5\n",
      "\n",
      "    accuracy                           0.20        15\n",
      "   macro avg       0.41      0.20      0.21        15\n",
      "weighted avg       0.41      0.20      0.21        15\n",
      "\n",
      "-------------------------------------------------------------------------------------------------------------------\n"
     ]
    },
    {
     "name": "stderr",
     "output_type": "stream",
     "text": [
      "[Parallel(n_jobs=-1)]: Done   3 out of   3 | elapsed:  1.2min finished\n",
      "[Parallel(n_jobs=-1)]: Using backend LokyBackend with 12 concurrent workers.\n"
     ]
    },
    {
     "name": "stdout",
     "output_type": "stream",
     "text": [
      "K-Fold #4\n",
      "Mean negativities for all classes: [0.36011362976560474, 0.3349013817226651, 0.08732565125428422]\n",
      "Mean entropies for all classes: [4.064145923098713e-15, 3.2350846897780008e-15, 3.4174689523297568e-15]\n",
      "              precision    recall  f1-score   support\n",
      "\n",
      "           0       1.00      0.20      0.33         5\n",
      "           1       0.00      0.00      0.00         5\n",
      "           2       0.30      0.60      0.40         5\n",
      "\n",
      "    accuracy                           0.27        15\n",
      "   macro avg       0.43      0.27      0.24        15\n",
      "weighted avg       0.43      0.27      0.24        15\n",
      "\n",
      "-------------------------------------------------------------------------------------------------------------------\n"
     ]
    },
    {
     "name": "stderr",
     "output_type": "stream",
     "text": [
      "[Parallel(n_jobs=-1)]: Done   3 out of   3 | elapsed:  1.2min finished\n",
      "[Parallel(n_jobs=-1)]: Using backend LokyBackend with 12 concurrent workers.\n"
     ]
    },
    {
     "name": "stdout",
     "output_type": "stream",
     "text": [
      "K-Fold #5\n",
      "Mean negativities for all classes: [0.3610703283266172, 0.32296847913315846, 0.0873947484991823]\n",
      "Mean entropies for all classes: [2.742538155562614e-15, 4.364522730864395e-15, 4.351480760117721e-15]\n",
      "              precision    recall  f1-score   support\n",
      "\n",
      "           0       1.00      0.20      0.33         5\n",
      "           1       0.00      0.00      0.00         5\n",
      "           2       0.30      0.60      0.40         5\n",
      "\n",
      "    accuracy                           0.27        15\n",
      "   macro avg       0.43      0.27      0.24        15\n",
      "weighted avg       0.43      0.27      0.24        15\n",
      "\n",
      "-------------------------------------------------------------------------------------------------------------------\n"
     ]
    },
    {
     "name": "stderr",
     "output_type": "stream",
     "text": [
      "[Parallel(n_jobs=-1)]: Done   3 out of   3 | elapsed:  1.2min finished\n",
      "[Parallel(n_jobs=-1)]: Using backend LokyBackend with 12 concurrent workers.\n"
     ]
    },
    {
     "name": "stdout",
     "output_type": "stream",
     "text": [
      "K-Fold #6\n",
      "Mean negativities for all classes: [0.3703986711774524, 0.323422069610147, 0.08728298903328664]\n",
      "Mean entropies for all classes: [3.915061028144153e-15, 3.289616096816851e-15, 3.587169820787728e-15]\n",
      "              precision    recall  f1-score   support\n",
      "\n",
      "           0       0.50      0.20      0.29         5\n",
      "           1       0.00      0.00      0.00         5\n",
      "           2       0.44      0.80      0.57         5\n",
      "\n",
      "    accuracy                           0.33        15\n",
      "   macro avg       0.31      0.33      0.29        15\n",
      "weighted avg       0.31      0.33      0.29        15\n",
      "\n",
      "-------------------------------------------------------------------------------------------------------------------\n"
     ]
    },
    {
     "name": "stderr",
     "output_type": "stream",
     "text": [
      "[Parallel(n_jobs=-1)]: Done   3 out of   3 | elapsed:  1.2min finished\n",
      "c:\\ProgramData\\Anaconda3\\lib\\site-packages\\sklearn\\metrics\\_classification.py:1344: UndefinedMetricWarning: Precision and F-score are ill-defined and being set to 0.0 in labels with no predicted samples. Use `zero_division` parameter to control this behavior.\n",
      "  _warn_prf(average, modifier, msg_start, len(result))\n",
      "c:\\ProgramData\\Anaconda3\\lib\\site-packages\\sklearn\\metrics\\_classification.py:1344: UndefinedMetricWarning: Precision and F-score are ill-defined and being set to 0.0 in labels with no predicted samples. Use `zero_division` parameter to control this behavior.\n",
      "  _warn_prf(average, modifier, msg_start, len(result))\n",
      "c:\\ProgramData\\Anaconda3\\lib\\site-packages\\sklearn\\metrics\\_classification.py:1344: UndefinedMetricWarning: Precision and F-score are ill-defined and being set to 0.0 in labels with no predicted samples. Use `zero_division` parameter to control this behavior.\n",
      "  _warn_prf(average, modifier, msg_start, len(result))\n",
      "[Parallel(n_jobs=-1)]: Using backend LokyBackend with 12 concurrent workers.\n"
     ]
    },
    {
     "name": "stdout",
     "output_type": "stream",
     "text": [
      "K-Fold #7\n",
      "Mean negativities for all classes: [0.3621766554697656, 0.31348403121036905, 0.08705412281625942]\n",
      "Mean entropies for all classes: [3.492025157089083e-15, 3.2662845070447853e-15, 3.913860075278242e-15]\n",
      "              precision    recall  f1-score   support\n",
      "\n",
      "           0       0.00      0.00      0.00         5\n",
      "           1       0.00      0.00      0.00         5\n",
      "           2       0.20      0.40      0.27         5\n",
      "\n",
      "    accuracy                           0.13        15\n",
      "   macro avg       0.07      0.13      0.09        15\n",
      "weighted avg       0.07      0.13      0.09        15\n",
      "\n",
      "-------------------------------------------------------------------------------------------------------------------\n"
     ]
    },
    {
     "name": "stderr",
     "output_type": "stream",
     "text": [
      "[Parallel(n_jobs=-1)]: Done   3 out of   3 | elapsed:  1.2min finished\n",
      "[Parallel(n_jobs=-1)]: Using backend LokyBackend with 12 concurrent workers.\n"
     ]
    },
    {
     "name": "stdout",
     "output_type": "stream",
     "text": [
      "K-Fold #8\n",
      "Mean negativities for all classes: [0.36641402884620816, 0.30305342169559935, 0.08750282070581626]\n",
      "Mean entropies for all classes: [3.922820971354673e-15, 4.3990563316571775e-15, 2.815453853012276e-15]\n",
      "              precision    recall  f1-score   support\n",
      "\n",
      "           0       0.00      0.00      0.00         5\n",
      "           1       0.00      0.00      0.00         5\n",
      "           2       0.38      0.60      0.46         5\n",
      "\n",
      "    accuracy                           0.20        15\n",
      "   macro avg       0.12      0.20      0.15        15\n",
      "weighted avg       0.12      0.20      0.15        15\n",
      "\n",
      "-------------------------------------------------------------------------------------------------------------------\n"
     ]
    },
    {
     "name": "stderr",
     "output_type": "stream",
     "text": [
      "[Parallel(n_jobs=-1)]: Done   3 out of   3 | elapsed:  1.2min finished\n",
      "[Parallel(n_jobs=-1)]: Using backend LokyBackend with 12 concurrent workers.\n"
     ]
    },
    {
     "name": "stdout",
     "output_type": "stream",
     "text": [
      "K-Fold #9\n",
      "Mean negativities for all classes: [0.35725491830927075, 0.3156291408938471, 0.08657928904118031]\n",
      "Mean entropies for all classes: [5.1389931421442586e-15, 3.944670606907841e-15, 3.1336681661526223e-15]\n",
      "              precision    recall  f1-score   support\n",
      "\n",
      "           0       0.00      0.00      0.00         5\n",
      "           1       0.00      0.00      0.00         5\n",
      "           2       0.44      0.80      0.57         5\n",
      "\n",
      "    accuracy                           0.27        15\n",
      "   macro avg       0.15      0.27      0.19        15\n",
      "weighted avg       0.15      0.27      0.19        15\n",
      "\n",
      "-------------------------------------------------------------------------------------------------------------------\n",
      "AVG: Scores = 0.25333333333333335 F1-Scores = 0.2049084249084249 Negativity = [0.2591422814982068, 0.2604133063662804, 0.26606249791298164] Entropy = [3.484983041272618e-15, 3.569932571612393e-15, 3.573701789912589e-15]\n"
     ]
    },
    {
     "name": "stderr",
     "output_type": "stream",
     "text": [
      "[Parallel(n_jobs=-1)]: Done   3 out of   3 | elapsed:  1.2min finished\n",
      "c:\\ProgramData\\Anaconda3\\lib\\site-packages\\sklearn\\metrics\\_classification.py:1344: UndefinedMetricWarning: Precision and F-score are ill-defined and being set to 0.0 in labels with no predicted samples. Use `zero_division` parameter to control this behavior.\n",
      "  _warn_prf(average, modifier, msg_start, len(result))\n",
      "c:\\ProgramData\\Anaconda3\\lib\\site-packages\\sklearn\\metrics\\_classification.py:1344: UndefinedMetricWarning: Precision and F-score are ill-defined and being set to 0.0 in labels with no predicted samples. Use `zero_division` parameter to control this behavior.\n",
      "  _warn_prf(average, modifier, msg_start, len(result))\n",
      "c:\\ProgramData\\Anaconda3\\lib\\site-packages\\sklearn\\metrics\\_classification.py:1344: UndefinedMetricWarning: Precision and F-score are ill-defined and being set to 0.0 in labels with no predicted samples. Use `zero_division` parameter to control this behavior.\n",
      "  _warn_prf(average, modifier, msg_start, len(result))\n",
      "[Parallel(n_jobs=-1)]: Using backend LokyBackend with 12 concurrent workers.\n"
     ]
    },
    {
     "name": "stdout",
     "output_type": "stream",
     "text": [
      "K-Fold #0\n",
      "Mean negativities for all classes: [0.3606747951437216, 0.32540649754304357, 0.087021185789418]\n",
      "Mean entropies for all classes: [3.22746121304931e-15, 3.091456304811618e-15, 3.8930846402006126e-15]\n",
      "              precision    recall  f1-score   support\n",
      "\n",
      "           0       0.00      0.00      0.00         5\n",
      "           1       0.00      0.00      0.00         5\n",
      "           2       0.33      0.60      0.43         5\n",
      "\n",
      "    accuracy                           0.20        15\n",
      "   macro avg       0.11      0.20      0.14        15\n",
      "weighted avg       0.11      0.20      0.14        15\n",
      "\n",
      "-------------------------------------------------------------------------------------------------------------------\n"
     ]
    },
    {
     "name": "stderr",
     "output_type": "stream",
     "text": [
      "[Parallel(n_jobs=-1)]: Done   3 out of   3 | elapsed:  1.2min finished\n",
      "c:\\ProgramData\\Anaconda3\\lib\\site-packages\\sklearn\\metrics\\_classification.py:1344: UndefinedMetricWarning: Precision and F-score are ill-defined and being set to 0.0 in labels with no predicted samples. Use `zero_division` parameter to control this behavior.\n",
      "  _warn_prf(average, modifier, msg_start, len(result))\n",
      "c:\\ProgramData\\Anaconda3\\lib\\site-packages\\sklearn\\metrics\\_classification.py:1344: UndefinedMetricWarning: Precision and F-score are ill-defined and being set to 0.0 in labels with no predicted samples. Use `zero_division` parameter to control this behavior.\n",
      "  _warn_prf(average, modifier, msg_start, len(result))\n",
      "c:\\ProgramData\\Anaconda3\\lib\\site-packages\\sklearn\\metrics\\_classification.py:1344: UndefinedMetricWarning: Precision and F-score are ill-defined and being set to 0.0 in labels with no predicted samples. Use `zero_division` parameter to control this behavior.\n",
      "  _warn_prf(average, modifier, msg_start, len(result))\n",
      "[Parallel(n_jobs=-1)]: Using backend LokyBackend with 12 concurrent workers.\n"
     ]
    },
    {
     "name": "stdout",
     "output_type": "stream",
     "text": [
      "K-Fold #1\n",
      "Mean negativities for all classes: [0.36807561371982295, 0.3248715861483814, 0.0879079878674305]\n",
      "Mean entropies for all classes: [2.9390411655578015e-15, 3.348563792896484e-15, 3.3293804835373746e-15]\n",
      "              precision    recall  f1-score   support\n",
      "\n",
      "           0       0.00      0.00      0.00         5\n",
      "           1       0.00      0.00      0.00         5\n",
      "           2       0.27      0.60      0.37         5\n",
      "\n",
      "    accuracy                           0.20        15\n",
      "   macro avg       0.09      0.20      0.12        15\n",
      "weighted avg       0.09      0.20      0.12        15\n",
      "\n",
      "-------------------------------------------------------------------------------------------------------------------\n"
     ]
    },
    {
     "name": "stderr",
     "output_type": "stream",
     "text": [
      "[Parallel(n_jobs=-1)]: Done   3 out of   3 | elapsed:  1.2min finished\n",
      "[Parallel(n_jobs=-1)]: Using backend LokyBackend with 12 concurrent workers.\n"
     ]
    },
    {
     "name": "stdout",
     "output_type": "stream",
     "text": [
      "K-Fold #2\n",
      "Mean negativities for all classes: [0.34741032091151397, 0.3401458990612857, 0.08548734611585032]\n",
      "Mean entropies for all classes: [4.4962780341004376e-15, 3.2005884540063753e-15, 3.4586141297720902e-15]\n",
      "              precision    recall  f1-score   support\n",
      "\n",
      "           0       1.00      0.20      0.33         5\n",
      "           1       0.00      0.00      0.00         5\n",
      "           2       0.33      0.80      0.47         5\n",
      "\n",
      "    accuracy                           0.33        15\n",
      "   macro avg       0.44      0.33      0.27        15\n",
      "weighted avg       0.44      0.33      0.27        15\n",
      "\n",
      "-------------------------------------------------------------------------------------------------------------------\n"
     ]
    },
    {
     "name": "stderr",
     "output_type": "stream",
     "text": [
      "[Parallel(n_jobs=-1)]: Done   3 out of   3 | elapsed:  1.2min finished\n",
      "[Parallel(n_jobs=-1)]: Using backend LokyBackend with 12 concurrent workers.\n"
     ]
    },
    {
     "name": "stdout",
     "output_type": "stream",
     "text": [
      "K-Fold #3\n",
      "Mean negativities for all classes: [0.3639302994217519, 0.33279123478331746, 0.0870523749971595]\n",
      "Mean entropies for all classes: [3.8913261228289885e-15, 3.6036887288788175e-15, 3.067641755748971e-15]\n",
      "              precision    recall  f1-score   support\n",
      "\n",
      "           0       0.33      0.20      0.25         5\n",
      "           1       0.00      0.00      0.00         5\n",
      "           2       0.38      0.60      0.46         5\n",
      "\n",
      "    accuracy                           0.27        15\n",
      "   macro avg       0.24      0.27      0.24        15\n",
      "weighted avg       0.24      0.27      0.24        15\n",
      "\n",
      "-------------------------------------------------------------------------------------------------------------------\n"
     ]
    },
    {
     "name": "stderr",
     "output_type": "stream",
     "text": [
      "[Parallel(n_jobs=-1)]: Done   3 out of   3 | elapsed:  1.2min finished\n",
      "c:\\ProgramData\\Anaconda3\\lib\\site-packages\\sklearn\\metrics\\_classification.py:1344: UndefinedMetricWarning: Precision and F-score are ill-defined and being set to 0.0 in labels with no predicted samples. Use `zero_division` parameter to control this behavior.\n",
      "  _warn_prf(average, modifier, msg_start, len(result))\n",
      "c:\\ProgramData\\Anaconda3\\lib\\site-packages\\sklearn\\metrics\\_classification.py:1344: UndefinedMetricWarning: Precision and F-score are ill-defined and being set to 0.0 in labels with no predicted samples. Use `zero_division` parameter to control this behavior.\n",
      "  _warn_prf(average, modifier, msg_start, len(result))\n",
      "c:\\ProgramData\\Anaconda3\\lib\\site-packages\\sklearn\\metrics\\_classification.py:1344: UndefinedMetricWarning: Precision and F-score are ill-defined and being set to 0.0 in labels with no predicted samples. Use `zero_division` parameter to control this behavior.\n",
      "  _warn_prf(average, modifier, msg_start, len(result))\n",
      "[Parallel(n_jobs=-1)]: Using backend LokyBackend with 12 concurrent workers.\n"
     ]
    },
    {
     "name": "stdout",
     "output_type": "stream",
     "text": [
      "K-Fold #4\n",
      "Mean negativities for all classes: [0.38096056022455194, 0.3447019334271598, 0.0870884005336756]\n",
      "Mean entropies for all classes: [2.8420473689625183e-15, 4.272513751163393e-15, 3.030498416470578e-15]\n",
      "              precision    recall  f1-score   support\n",
      "\n",
      "           0       1.00      0.20      0.33         5\n",
      "           1       0.00      0.00      0.00         5\n",
      "           2       0.36      1.00      0.53         5\n",
      "\n",
      "    accuracy                           0.40        15\n",
      "   macro avg       0.45      0.40      0.29        15\n",
      "weighted avg       0.45      0.40      0.29        15\n",
      "\n",
      "-------------------------------------------------------------------------------------------------------------------\n"
     ]
    },
    {
     "name": "stderr",
     "output_type": "stream",
     "text": [
      "[Parallel(n_jobs=-1)]: Done   3 out of   3 | elapsed:  1.2min finished\n",
      "[Parallel(n_jobs=-1)]: Using backend LokyBackend with 12 concurrent workers.\n"
     ]
    },
    {
     "name": "stdout",
     "output_type": "stream",
     "text": [
      "K-Fold #5\n",
      "Mean negativities for all classes: [0.35618857338645105, 0.3296819805829712, 0.0869315247207861]\n",
      "Mean entropies for all classes: [3.5495372235136103e-15, 3.4780757286846035e-15, 3.4699060725561617e-15]\n",
      "              precision    recall  f1-score   support\n",
      "\n",
      "           0       0.00      0.00      0.00         5\n",
      "           1       0.00      0.00      0.00         5\n",
      "           2       0.40      0.80      0.53         5\n",
      "\n",
      "    accuracy                           0.27        15\n",
      "   macro avg       0.13      0.27      0.18        15\n",
      "weighted avg       0.13      0.27      0.18        15\n",
      "\n",
      "-------------------------------------------------------------------------------------------------------------------\n"
     ]
    },
    {
     "name": "stderr",
     "output_type": "stream",
     "text": [
      "[Parallel(n_jobs=-1)]: Done   3 out of   3 | elapsed:  1.2min finished\n",
      "[Parallel(n_jobs=-1)]: Using backend LokyBackend with 12 concurrent workers.\n"
     ]
    },
    {
     "name": "stdout",
     "output_type": "stream",
     "text": [
      "K-Fold #6\n",
      "Mean negativities for all classes: [0.3670871011102924, 0.3269850277781796, 0.08742311109785313]\n",
      "Mean entropies for all classes: [3.669909284002175e-15, 4.7352924976373624e-15, 4.290797727408166e-15]\n",
      "              precision    recall  f1-score   support\n",
      "\n",
      "           0       1.00      0.20      0.33         5\n",
      "           1       0.00      0.00      0.00         5\n",
      "           2       0.11      0.20      0.14         5\n",
      "\n",
      "    accuracy                           0.13        15\n",
      "   macro avg       0.37      0.13      0.16        15\n",
      "weighted avg       0.37      0.13      0.16        15\n",
      "\n",
      "-------------------------------------------------------------------------------------------------------------------\n"
     ]
    },
    {
     "name": "stderr",
     "output_type": "stream",
     "text": [
      "[Parallel(n_jobs=-1)]: Done   3 out of   3 | elapsed:  1.2min finished\n",
      "[Parallel(n_jobs=-1)]: Using backend LokyBackend with 12 concurrent workers.\n"
     ]
    },
    {
     "name": "stdout",
     "output_type": "stream",
     "text": [
      "K-Fold #7\n",
      "Mean negativities for all classes: [0.35973551317818464, 0.338055952876801, 0.08742673558922293]\n",
      "Mean entropies for all classes: [3.599152386976944e-15, 4.089434989801724e-15, 2.9456941414059517e-15]\n",
      "              precision    recall  f1-score   support\n",
      "\n",
      "           0       1.00      0.20      0.33         5\n",
      "           1       0.00      0.00      0.00         5\n",
      "           2       0.33      0.60      0.43         5\n",
      "\n",
      "    accuracy                           0.27        15\n",
      "   macro avg       0.44      0.27      0.25        15\n",
      "weighted avg       0.44      0.27      0.25        15\n",
      "\n",
      "-------------------------------------------------------------------------------------------------------------------\n"
     ]
    },
    {
     "name": "stderr",
     "output_type": "stream",
     "text": [
      "[Parallel(n_jobs=-1)]: Done   3 out of   3 | elapsed:  1.2min finished\n",
      "[Parallel(n_jobs=-1)]: Using backend LokyBackend with 12 concurrent workers.\n"
     ]
    },
    {
     "name": "stdout",
     "output_type": "stream",
     "text": [
      "K-Fold #8\n",
      "Mean negativities for all classes: [0.3642692610337871, 0.3186246389452328, 0.08698306279607768]\n",
      "Mean entropies for all classes: [3.658389428986062e-15, 4.1420883727815824e-15, 3.30112750146185e-15]\n",
      "              precision    recall  f1-score   support\n",
      "\n",
      "           0       1.00      0.20      0.33         5\n",
      "           1       0.00      0.00      0.00         5\n",
      "           2       0.29      0.40      0.33         5\n",
      "\n",
      "    accuracy                           0.20        15\n",
      "   macro avg       0.43      0.20      0.22        15\n",
      "weighted avg       0.43      0.20      0.22        15\n",
      "\n",
      "-------------------------------------------------------------------------------------------------------------------\n"
     ]
    },
    {
     "name": "stderr",
     "output_type": "stream",
     "text": [
      "[Parallel(n_jobs=-1)]: Done   3 out of   3 | elapsed:  1.2min finished\n",
      "[Parallel(n_jobs=-1)]: Using backend LokyBackend with 12 concurrent workers.\n"
     ]
    },
    {
     "name": "stdout",
     "output_type": "stream",
     "text": [
      "K-Fold #9\n",
      "Mean negativities for all classes: [0.3623311468228767, 0.30820804750588354, 0.08753104650617496]\n",
      "Mean entropies for all classes: [3.247445194252284e-15, 3.4511541095054123e-15, 3.372890550084991e-15]\n",
      "              precision    recall  f1-score   support\n",
      "\n",
      "           0       0.00      0.00      0.00         5\n",
      "           1       0.00      0.00      0.00         5\n",
      "           2       0.29      0.40      0.33         5\n",
      "\n",
      "    accuracy                           0.13        15\n",
      "   macro avg       0.10      0.13      0.11        15\n",
      "weighted avg       0.10      0.13      0.11        15\n",
      "\n",
      "-------------------------------------------------------------------------------------------------------------------\n",
      "AVG: Scores = 0.24000000000000005 F1-Scores = 0.1983369717657643 Negativity = [0.25770082615872775, 0.26028506257854495, 0.25768118869621665] Entropy = [3.4040007193538464e-15, 3.20566181399722e-15, 3.718493539292968e-15]\n"
     ]
    },
    {
     "name": "stderr",
     "output_type": "stream",
     "text": [
      "[Parallel(n_jobs=-1)]: Done   3 out of   3 | elapsed:  1.2min finished\n",
      "[Parallel(n_jobs=-1)]: Using backend LokyBackend with 12 concurrent workers.\n"
     ]
    },
    {
     "name": "stdout",
     "output_type": "stream",
     "text": [
      "K-Fold #0\n",
      "Mean negativities for all classes: [0.36020444307843674, 0.30002218742322845, 0.08708513997821218]\n",
      "Mean entropies for all classes: [3.410665025637539e-15, 3.1992780577007996e-15, 2.453033998054199e-15]\n",
      "              precision    recall  f1-score   support\n",
      "\n",
      "           0       1.00      0.40      0.57         5\n",
      "           1       0.00      0.00      0.00         5\n",
      "           2       0.44      0.80      0.57         5\n",
      "\n",
      "    accuracy                           0.40        15\n",
      "   macro avg       0.48      0.40      0.38        15\n",
      "weighted avg       0.48      0.40      0.38        15\n",
      "\n",
      "-------------------------------------------------------------------------------------------------------------------\n"
     ]
    },
    {
     "name": "stderr",
     "output_type": "stream",
     "text": [
      "[Parallel(n_jobs=-1)]: Done   3 out of   3 | elapsed:  1.2min finished\n",
      "c:\\ProgramData\\Anaconda3\\lib\\site-packages\\sklearn\\metrics\\_classification.py:1344: UndefinedMetricWarning: Precision and F-score are ill-defined and being set to 0.0 in labels with no predicted samples. Use `zero_division` parameter to control this behavior.\n",
      "  _warn_prf(average, modifier, msg_start, len(result))\n",
      "c:\\ProgramData\\Anaconda3\\lib\\site-packages\\sklearn\\metrics\\_classification.py:1344: UndefinedMetricWarning: Precision and F-score are ill-defined and being set to 0.0 in labels with no predicted samples. Use `zero_division` parameter to control this behavior.\n",
      "  _warn_prf(average, modifier, msg_start, len(result))\n",
      "c:\\ProgramData\\Anaconda3\\lib\\site-packages\\sklearn\\metrics\\_classification.py:1344: UndefinedMetricWarning: Precision and F-score are ill-defined and being set to 0.0 in labels with no predicted samples. Use `zero_division` parameter to control this behavior.\n",
      "  _warn_prf(average, modifier, msg_start, len(result))\n",
      "[Parallel(n_jobs=-1)]: Using backend LokyBackend with 12 concurrent workers.\n"
     ]
    },
    {
     "name": "stdout",
     "output_type": "stream",
     "text": [
      "K-Fold #1\n",
      "Mean negativities for all classes: [0.36005107806132525, 0.3037843449756036, 0.08748007743900352]\n",
      "Mean entropies for all classes: [3.62547563651677e-15, 3.870289924168756e-15, 3.55459961936214e-15]\n",
      "              precision    recall  f1-score   support\n",
      "\n",
      "           0       0.00      0.00      0.00         5\n",
      "           1       0.00      0.00      0.00         5\n",
      "           2       0.18      0.40      0.25         5\n",
      "\n",
      "    accuracy                           0.13        15\n",
      "   macro avg       0.06      0.13      0.08        15\n",
      "weighted avg       0.06      0.13      0.08        15\n",
      "\n",
      "-------------------------------------------------------------------------------------------------------------------\n"
     ]
    },
    {
     "name": "stderr",
     "output_type": "stream",
     "text": [
      "[Parallel(n_jobs=-1)]: Done   3 out of   3 | elapsed:  1.2min finished\n",
      "[Parallel(n_jobs=-1)]: Using backend LokyBackend with 12 concurrent workers.\n"
     ]
    },
    {
     "name": "stdout",
     "output_type": "stream",
     "text": [
      "K-Fold #2\n",
      "Mean negativities for all classes: [0.3569533460323761, 0.3389288987789378, 0.08617966472041255]\n",
      "Mean entropies for all classes: [3.468755962080065e-15, 4.114947185696537e-15, 3.4490864632384756e-15]\n",
      "              precision    recall  f1-score   support\n",
      "\n",
      "           0       1.00      0.40      0.57         5\n",
      "           1       0.00      0.00      0.00         5\n",
      "           2       0.40      0.80      0.53         5\n",
      "\n",
      "    accuracy                           0.40        15\n",
      "   macro avg       0.47      0.40      0.37        15\n",
      "weighted avg       0.47      0.40      0.37        15\n",
      "\n",
      "-------------------------------------------------------------------------------------------------------------------\n"
     ]
    },
    {
     "name": "stderr",
     "output_type": "stream",
     "text": [
      "[Parallel(n_jobs=-1)]: Done   3 out of   3 | elapsed:  1.2min finished\n",
      "c:\\ProgramData\\Anaconda3\\lib\\site-packages\\sklearn\\metrics\\_classification.py:1344: UndefinedMetricWarning: Precision and F-score are ill-defined and being set to 0.0 in labels with no predicted samples. Use `zero_division` parameter to control this behavior.\n",
      "  _warn_prf(average, modifier, msg_start, len(result))\n",
      "c:\\ProgramData\\Anaconda3\\lib\\site-packages\\sklearn\\metrics\\_classification.py:1344: UndefinedMetricWarning: Precision and F-score are ill-defined and being set to 0.0 in labels with no predicted samples. Use `zero_division` parameter to control this behavior.\n",
      "  _warn_prf(average, modifier, msg_start, len(result))\n",
      "c:\\ProgramData\\Anaconda3\\lib\\site-packages\\sklearn\\metrics\\_classification.py:1344: UndefinedMetricWarning: Precision and F-score are ill-defined and being set to 0.0 in labels with no predicted samples. Use `zero_division` parameter to control this behavior.\n",
      "  _warn_prf(average, modifier, msg_start, len(result))\n",
      "[Parallel(n_jobs=-1)]: Using backend LokyBackend with 12 concurrent workers.\n"
     ]
    },
    {
     "name": "stdout",
     "output_type": "stream",
     "text": [
      "K-Fold #3\n",
      "Mean negativities for all classes: [0.3678640463907857, 0.34087997599966874, 0.08748068358263887]\n",
      "Mean entropies for all classes: [3.3506524802523768e-15, 4.33746142693555e-15, 3.2314647126895694e-15]\n",
      "              precision    recall  f1-score   support\n",
      "\n",
      "           0       0.00      0.00      0.00         5\n",
      "           1       0.00      0.00      0.00         5\n",
      "           2       0.30      0.60      0.40         5\n",
      "\n",
      "    accuracy                           0.20        15\n",
      "   macro avg       0.10      0.20      0.13        15\n",
      "weighted avg       0.10      0.20      0.13        15\n",
      "\n",
      "-------------------------------------------------------------------------------------------------------------------\n"
     ]
    },
    {
     "name": "stderr",
     "output_type": "stream",
     "text": [
      "[Parallel(n_jobs=-1)]: Done   3 out of   3 | elapsed:  1.2min finished\n",
      "c:\\ProgramData\\Anaconda3\\lib\\site-packages\\sklearn\\metrics\\_classification.py:1344: UndefinedMetricWarning: Precision and F-score are ill-defined and being set to 0.0 in labels with no predicted samples. Use `zero_division` parameter to control this behavior.\n",
      "  _warn_prf(average, modifier, msg_start, len(result))\n",
      "c:\\ProgramData\\Anaconda3\\lib\\site-packages\\sklearn\\metrics\\_classification.py:1344: UndefinedMetricWarning: Precision and F-score are ill-defined and being set to 0.0 in labels with no predicted samples. Use `zero_division` parameter to control this behavior.\n",
      "  _warn_prf(average, modifier, msg_start, len(result))\n",
      "c:\\ProgramData\\Anaconda3\\lib\\site-packages\\sklearn\\metrics\\_classification.py:1344: UndefinedMetricWarning: Precision and F-score are ill-defined and being set to 0.0 in labels with no predicted samples. Use `zero_division` parameter to control this behavior.\n",
      "  _warn_prf(average, modifier, msg_start, len(result))\n",
      "[Parallel(n_jobs=-1)]: Using backend LokyBackend with 12 concurrent workers.\n"
     ]
    },
    {
     "name": "stdout",
     "output_type": "stream",
     "text": [
      "K-Fold #4\n",
      "Mean negativities for all classes: [0.36503231468536207, 0.305662044953551, 0.08716178116376512]\n",
      "Mean entropies for all classes: [3.1651180554702424e-15, 3.841315731360845e-15, 3.958885381575553e-15]\n",
      "              precision    recall  f1-score   support\n",
      "\n",
      "           0       0.00      0.00      0.00         5\n",
      "           1       0.00      0.00      0.00         5\n",
      "           2       0.11      0.20      0.14         5\n",
      "\n",
      "    accuracy                           0.07        15\n",
      "   macro avg       0.04      0.07      0.05        15\n",
      "weighted avg       0.04      0.07      0.05        15\n",
      "\n",
      "-------------------------------------------------------------------------------------------------------------------\n"
     ]
    },
    {
     "name": "stderr",
     "output_type": "stream",
     "text": [
      "[Parallel(n_jobs=-1)]: Done   3 out of   3 | elapsed:  1.2min finished\n",
      "[Parallel(n_jobs=-1)]: Using backend LokyBackend with 12 concurrent workers.\n"
     ]
    },
    {
     "name": "stdout",
     "output_type": "stream",
     "text": [
      "K-Fold #5\n",
      "Mean negativities for all classes: [0.3537771664404737, 0.3112779159812415, 0.08662340660095628]\n",
      "Mean entropies for all classes: [3.967020072517977e-15, 3.200872802380528e-15, 3.3913911556104398e-15]\n",
      "              precision    recall  f1-score   support\n",
      "\n",
      "           0       0.00      0.00      0.00         5\n",
      "           1       0.00      0.00      0.00         5\n",
      "           2       0.40      0.80      0.53         5\n",
      "\n",
      "    accuracy                           0.27        15\n",
      "   macro avg       0.13      0.27      0.18        15\n",
      "weighted avg       0.13      0.27      0.18        15\n",
      "\n",
      "-------------------------------------------------------------------------------------------------------------------\n"
     ]
    },
    {
     "name": "stderr",
     "output_type": "stream",
     "text": [
      "[Parallel(n_jobs=-1)]: Done   3 out of   3 | elapsed:  1.2min finished\n",
      "[Parallel(n_jobs=-1)]: Using backend LokyBackend with 12 concurrent workers.\n"
     ]
    },
    {
     "name": "stdout",
     "output_type": "stream",
     "text": [
      "K-Fold #6\n",
      "Mean negativities for all classes: [0.36774540404562206, 0.3216044132923864, 0.08777637372345]\n",
      "Mean entropies for all classes: [3.760178829171151e-15, 3.3548258305792528e-15, 3.661419084780077e-15]\n",
      "              precision    recall  f1-score   support\n",
      "\n",
      "           0       1.00      0.20      0.33         5\n",
      "           1       0.00      0.00      0.00         5\n",
      "           2       0.27      0.60      0.37         5\n",
      "\n",
      "    accuracy                           0.27        15\n",
      "   macro avg       0.42      0.27      0.24        15\n",
      "weighted avg       0.42      0.27      0.24        15\n",
      "\n",
      "-------------------------------------------------------------------------------------------------------------------\n"
     ]
    },
    {
     "name": "stderr",
     "output_type": "stream",
     "text": [
      "[Parallel(n_jobs=-1)]: Done   3 out of   3 | elapsed:  1.2min finished\n",
      "[Parallel(n_jobs=-1)]: Using backend LokyBackend with 12 concurrent workers.\n"
     ]
    },
    {
     "name": "stdout",
     "output_type": "stream",
     "text": [
      "K-Fold #7\n",
      "Mean negativities for all classes: [0.3586682215837257, 0.332081895558732, 0.08710136186692602]\n",
      "Mean entropies for all classes: [3.1560977007287246e-15, 3.660826140121526e-15, 3.2044011912167765e-15]\n",
      "              precision    recall  f1-score   support\n",
      "\n",
      "           0       0.00      0.00      0.00         5\n",
      "           1       0.00      0.00      0.00         5\n",
      "           2       0.33      0.40      0.36         5\n",
      "\n",
      "    accuracy                           0.13        15\n",
      "   macro avg       0.11      0.13      0.12        15\n",
      "weighted avg       0.11      0.13      0.12        15\n",
      "\n",
      "-------------------------------------------------------------------------------------------------------------------\n"
     ]
    },
    {
     "name": "stderr",
     "output_type": "stream",
     "text": [
      "[Parallel(n_jobs=-1)]: Done   3 out of   3 | elapsed:  1.2min finished\n",
      "c:\\ProgramData\\Anaconda3\\lib\\site-packages\\sklearn\\metrics\\_classification.py:1344: UndefinedMetricWarning: Precision and F-score are ill-defined and being set to 0.0 in labels with no predicted samples. Use `zero_division` parameter to control this behavior.\n",
      "  _warn_prf(average, modifier, msg_start, len(result))\n",
      "c:\\ProgramData\\Anaconda3\\lib\\site-packages\\sklearn\\metrics\\_classification.py:1344: UndefinedMetricWarning: Precision and F-score are ill-defined and being set to 0.0 in labels with no predicted samples. Use `zero_division` parameter to control this behavior.\n",
      "  _warn_prf(average, modifier, msg_start, len(result))\n",
      "c:\\ProgramData\\Anaconda3\\lib\\site-packages\\sklearn\\metrics\\_classification.py:1344: UndefinedMetricWarning: Precision and F-score are ill-defined and being set to 0.0 in labels with no predicted samples. Use `zero_division` parameter to control this behavior.\n",
      "  _warn_prf(average, modifier, msg_start, len(result))\n",
      "[Parallel(n_jobs=-1)]: Using backend LokyBackend with 12 concurrent workers.\n"
     ]
    },
    {
     "name": "stdout",
     "output_type": "stream",
     "text": [
      "K-Fold #8\n",
      "Mean negativities for all classes: [0.36976524985019615, 0.3207417935093408, 0.08682668517763166]\n",
      "Mean entropies for all classes: [4.38778836851496e-15, 4.06660966284937e-15, 3.3372807327266117e-15]\n",
      "              precision    recall  f1-score   support\n",
      "\n",
      "           0       0.00      0.00      0.00         5\n",
      "           1       0.00      0.00      0.00         5\n",
      "           2       0.27      0.60      0.37         5\n",
      "\n",
      "    accuracy                           0.20        15\n",
      "   macro avg       0.09      0.20      0.12        15\n",
      "weighted avg       0.09      0.20      0.12        15\n",
      "\n",
      "-------------------------------------------------------------------------------------------------------------------\n"
     ]
    },
    {
     "name": "stderr",
     "output_type": "stream",
     "text": [
      "[Parallel(n_jobs=-1)]: Done   3 out of   3 | elapsed:  1.2min finished\n",
      "[Parallel(n_jobs=-1)]: Using backend LokyBackend with 12 concurrent workers.\n"
     ]
    },
    {
     "name": "stdout",
     "output_type": "stream",
     "text": [
      "K-Fold #9\n",
      "Mean negativities for all classes: [0.3730967732683052, 0.32788806837050277, 0.0871430635023319]\n",
      "Mean entropies for all classes: [3.8812911739522714e-15, 3.0934408221199606e-15, 3.4265335918470747e-15]\n",
      "              precision    recall  f1-score   support\n",
      "\n",
      "           0       1.00      0.20      0.33         5\n",
      "           1       0.00      0.00      0.00         5\n",
      "           2       0.20      0.40      0.27         5\n",
      "\n",
      "    accuracy                           0.20        15\n",
      "   macro avg       0.40      0.20      0.20        15\n",
      "weighted avg       0.40      0.20      0.20        15\n",
      "\n",
      "-------------------------------------------------------------------------------------------------------------------\n",
      "AVG: Scores = 0.2266666666666667 F1-Scores = 0.18735930735930734 Negativity = [0.24910392349329247, 0.2504385001586441, 0.26068730317724215] Entropy = [3.020992360464179e-15, 3.6834550600158894e-15, 3.677596537005026e-15]\n"
     ]
    },
    {
     "name": "stderr",
     "output_type": "stream",
     "text": [
      "[Parallel(n_jobs=-1)]: Done   3 out of   3 | elapsed:  1.2min finished\n",
      "[Parallel(n_jobs=-1)]: Using backend LokyBackend with 12 concurrent workers.\n"
     ]
    },
    {
     "name": "stdout",
     "output_type": "stream",
     "text": [
      "K-Fold #0\n",
      "Mean negativities for all classes: [0.3590719715233943, 0.2972214093630471, 0.08751497675916423]\n",
      "Mean entropies for all classes: [4.18805424478159e-15, 4.751962950523988e-15, 3.9846156803329084e-15]\n",
      "              precision    recall  f1-score   support\n",
      "\n",
      "           0       0.00      0.00      0.00         5\n",
      "           1       0.00      0.00      0.00         5\n",
      "           2       0.33      0.60      0.43         5\n",
      "\n",
      "    accuracy                           0.20        15\n",
      "   macro avg       0.11      0.20      0.14        15\n",
      "weighted avg       0.11      0.20      0.14        15\n",
      "\n",
      "-------------------------------------------------------------------------------------------------------------------\n"
     ]
    },
    {
     "name": "stderr",
     "output_type": "stream",
     "text": [
      "[Parallel(n_jobs=-1)]: Done   3 out of   3 | elapsed:  1.2min finished\n",
      "[Parallel(n_jobs=-1)]: Using backend LokyBackend with 12 concurrent workers.\n"
     ]
    },
    {
     "name": "stdout",
     "output_type": "stream",
     "text": [
      "K-Fold #1\n",
      "Mean negativities for all classes: [0.3582248625287619, 0.3225432239073954, 0.08721756650660151]\n",
      "Mean entropies for all classes: [3.5942898952307595e-15, 3.5260745102706938e-15, 3.326965414717203e-15]\n",
      "              precision    recall  f1-score   support\n",
      "\n",
      "           0       0.00      0.00      0.00         5\n",
      "           1       0.00      0.00      0.00         5\n",
      "           2       0.50      0.60      0.55         5\n",
      "\n",
      "    accuracy                           0.20        15\n",
      "   macro avg       0.17      0.20      0.18        15\n",
      "weighted avg       0.17      0.20      0.18        15\n",
      "\n",
      "-------------------------------------------------------------------------------------------------------------------\n"
     ]
    },
    {
     "name": "stderr",
     "output_type": "stream",
     "text": [
      "[Parallel(n_jobs=-1)]: Done   3 out of   3 | elapsed:  1.2min finished\n",
      "[Parallel(n_jobs=-1)]: Using backend LokyBackend with 12 concurrent workers.\n"
     ]
    },
    {
     "name": "stdout",
     "output_type": "stream",
     "text": [
      "K-Fold #2\n",
      "Mean negativities for all classes: [0.3548115694816024, 0.3028728179843565, 0.08694100425179868]\n",
      "Mean entropies for all classes: [4.422506250651382e-15, 4.136302493921811e-15, 2.491267253598727e-15]\n",
      "              precision    recall  f1-score   support\n",
      "\n",
      "           0       1.00      0.20      0.33         5\n",
      "           1       0.00      0.00      0.00         5\n",
      "           2       0.14      0.20      0.17         5\n",
      "\n",
      "    accuracy                           0.13        15\n",
      "   macro avg       0.38      0.13      0.17        15\n",
      "weighted avg       0.38      0.13      0.17        15\n",
      "\n",
      "-------------------------------------------------------------------------------------------------------------------\n"
     ]
    },
    {
     "name": "stderr",
     "output_type": "stream",
     "text": [
      "[Parallel(n_jobs=-1)]: Done   3 out of   3 | elapsed:  1.2min finished\n",
      "[Parallel(n_jobs=-1)]: Using backend LokyBackend with 12 concurrent workers.\n"
     ]
    },
    {
     "name": "stdout",
     "output_type": "stream",
     "text": [
      "K-Fold #3\n",
      "Mean negativities for all classes: [0.36280595859370296, 0.3351568482428539, 0.08727933016627559]\n",
      "Mean entropies for all classes: [3.4924512968238767e-15, 4.6151812515885315e-15, 2.9370644469559515e-15]\n",
      "              precision    recall  f1-score   support\n",
      "\n",
      "           0       0.50      0.20      0.29         5\n",
      "           1       0.00      0.00      0.00         5\n",
      "           2       0.30      0.60      0.40         5\n",
      "\n",
      "    accuracy                           0.27        15\n",
      "   macro avg       0.27      0.27      0.23        15\n",
      "weighted avg       0.27      0.27      0.23        15\n",
      "\n",
      "-------------------------------------------------------------------------------------------------------------------\n"
     ]
    },
    {
     "name": "stderr",
     "output_type": "stream",
     "text": [
      "[Parallel(n_jobs=-1)]: Done   3 out of   3 | elapsed:  1.2min finished\n",
      "c:\\ProgramData\\Anaconda3\\lib\\site-packages\\sklearn\\metrics\\_classification.py:1344: UndefinedMetricWarning: Precision and F-score are ill-defined and being set to 0.0 in labels with no predicted samples. Use `zero_division` parameter to control this behavior.\n",
      "  _warn_prf(average, modifier, msg_start, len(result))\n",
      "c:\\ProgramData\\Anaconda3\\lib\\site-packages\\sklearn\\metrics\\_classification.py:1344: UndefinedMetricWarning: Precision and F-score are ill-defined and being set to 0.0 in labels with no predicted samples. Use `zero_division` parameter to control this behavior.\n",
      "  _warn_prf(average, modifier, msg_start, len(result))\n",
      "c:\\ProgramData\\Anaconda3\\lib\\site-packages\\sklearn\\metrics\\_classification.py:1344: UndefinedMetricWarning: Precision and F-score are ill-defined and being set to 0.0 in labels with no predicted samples. Use `zero_division` parameter to control this behavior.\n",
      "  _warn_prf(average, modifier, msg_start, len(result))\n",
      "[Parallel(n_jobs=-1)]: Using backend LokyBackend with 12 concurrent workers.\n"
     ]
    },
    {
     "name": "stdout",
     "output_type": "stream",
     "text": [
      "K-Fold #4\n",
      "Mean negativities for all classes: [0.3642402862279012, 0.3401526499816009, 0.08696047914674428]\n",
      "Mean entropies for all classes: [4.360049741597209e-15, 3.708104076153134e-15, 3.621478588975652e-15]\n",
      "              precision    recall  f1-score   support\n",
      "\n",
      "           0       0.00      0.00      0.00         5\n",
      "           1       0.00      0.00      0.00         5\n",
      "           2       0.38      1.00      0.56         5\n",
      "\n",
      "    accuracy                           0.33        15\n",
      "   macro avg       0.13      0.33      0.19        15\n",
      "weighted avg       0.13      0.33      0.19        15\n",
      "\n",
      "-------------------------------------------------------------------------------------------------------------------\n"
     ]
    },
    {
     "name": "stderr",
     "output_type": "stream",
     "text": [
      "[Parallel(n_jobs=-1)]: Done   3 out of   3 | elapsed:  1.2min finished\n",
      "[Parallel(n_jobs=-1)]: Using backend LokyBackend with 12 concurrent workers.\n"
     ]
    },
    {
     "name": "stdout",
     "output_type": "stream",
     "text": [
      "K-Fold #5\n",
      "Mean negativities for all classes: [0.37453805718215594, 0.3229281933396501, 0.08751844104386831]\n",
      "Mean entropies for all classes: [3.423772086469609e-15, 4.280656315650772e-15, 3.054794061356261e-15]\n",
      "              precision    recall  f1-score   support\n",
      "\n",
      "           0       0.00      0.00      0.00         5\n",
      "           1       0.00      0.00      0.00         5\n",
      "           2       0.36      0.80      0.50         5\n",
      "\n",
      "    accuracy                           0.27        15\n",
      "   macro avg       0.12      0.27      0.17        15\n",
      "weighted avg       0.12      0.27      0.17        15\n",
      "\n",
      "-------------------------------------------------------------------------------------------------------------------\n"
     ]
    },
    {
     "name": "stderr",
     "output_type": "stream",
     "text": [
      "[Parallel(n_jobs=-1)]: Done   3 out of   3 | elapsed:  1.2min finished\n",
      "[Parallel(n_jobs=-1)]: Using backend LokyBackend with 12 concurrent workers.\n"
     ]
    },
    {
     "name": "stdout",
     "output_type": "stream",
     "text": [
      "K-Fold #6\n",
      "Mean negativities for all classes: [0.3759056428008099, 0.3153026778681688, 0.08696127671981552]\n",
      "Mean entropies for all classes: [3.572565399093372e-15, 4.849794946094355e-15, 3.2005842907309298e-15]\n",
      "              precision    recall  f1-score   support\n",
      "\n",
      "           0       1.00      0.20      0.33         5\n",
      "           1       0.00      0.00      0.00         5\n",
      "           2       0.33      0.80      0.47         5\n",
      "\n",
      "    accuracy                           0.33        15\n",
      "   macro avg       0.44      0.33      0.27        15\n",
      "weighted avg       0.44      0.33      0.27        15\n",
      "\n",
      "-------------------------------------------------------------------------------------------------------------------\n"
     ]
    },
    {
     "name": "stderr",
     "output_type": "stream",
     "text": [
      "[Parallel(n_jobs=-1)]: Done   3 out of   3 | elapsed:  1.2min finished\n",
      "c:\\ProgramData\\Anaconda3\\lib\\site-packages\\sklearn\\metrics\\_classification.py:1344: UndefinedMetricWarning: Precision and F-score are ill-defined and being set to 0.0 in labels with no predicted samples. Use `zero_division` parameter to control this behavior.\n",
      "  _warn_prf(average, modifier, msg_start, len(result))\n",
      "c:\\ProgramData\\Anaconda3\\lib\\site-packages\\sklearn\\metrics\\_classification.py:1344: UndefinedMetricWarning: Precision and F-score are ill-defined and being set to 0.0 in labels with no predicted samples. Use `zero_division` parameter to control this behavior.\n",
      "  _warn_prf(average, modifier, msg_start, len(result))\n",
      "c:\\ProgramData\\Anaconda3\\lib\\site-packages\\sklearn\\metrics\\_classification.py:1344: UndefinedMetricWarning: Precision and F-score are ill-defined and being set to 0.0 in labels with no predicted samples. Use `zero_division` parameter to control this behavior.\n",
      "  _warn_prf(average, modifier, msg_start, len(result))\n",
      "[Parallel(n_jobs=-1)]: Using backend LokyBackend with 12 concurrent workers.\n"
     ]
    },
    {
     "name": "stdout",
     "output_type": "stream",
     "text": [
      "K-Fold #7\n",
      "Mean negativities for all classes: [0.3577745411194731, 0.33207484322406405, 0.08699554812615223]\n",
      "Mean entropies for all classes: [3.653029563991556e-15, 3.3926193871187045e-15, 3.630765057470642e-15]\n",
      "              precision    recall  f1-score   support\n",
      "\n",
      "           0       0.00      0.00      0.00         5\n",
      "           1       0.00      0.00      0.00         5\n",
      "           2       0.30      0.60      0.40         5\n",
      "\n",
      "    accuracy                           0.20        15\n",
      "   macro avg       0.10      0.20      0.13        15\n",
      "weighted avg       0.10      0.20      0.13        15\n",
      "\n",
      "-------------------------------------------------------------------------------------------------------------------\n"
     ]
    },
    {
     "name": "stderr",
     "output_type": "stream",
     "text": [
      "[Parallel(n_jobs=-1)]: Done   3 out of   3 | elapsed:  1.2min finished\n",
      "c:\\ProgramData\\Anaconda3\\lib\\site-packages\\sklearn\\metrics\\_classification.py:1344: UndefinedMetricWarning: Precision and F-score are ill-defined and being set to 0.0 in labels with no predicted samples. Use `zero_division` parameter to control this behavior.\n",
      "  _warn_prf(average, modifier, msg_start, len(result))\n",
      "c:\\ProgramData\\Anaconda3\\lib\\site-packages\\sklearn\\metrics\\_classification.py:1344: UndefinedMetricWarning: Precision and F-score are ill-defined and being set to 0.0 in labels with no predicted samples. Use `zero_division` parameter to control this behavior.\n",
      "  _warn_prf(average, modifier, msg_start, len(result))\n",
      "c:\\ProgramData\\Anaconda3\\lib\\site-packages\\sklearn\\metrics\\_classification.py:1344: UndefinedMetricWarning: Precision and F-score are ill-defined and being set to 0.0 in labels with no predicted samples. Use `zero_division` parameter to control this behavior.\n",
      "  _warn_prf(average, modifier, msg_start, len(result))\n",
      "[Parallel(n_jobs=-1)]: Using backend LokyBackend with 12 concurrent workers.\n"
     ]
    },
    {
     "name": "stdout",
     "output_type": "stream",
     "text": [
      "K-Fold #8\n",
      "Mean negativities for all classes: [0.37617100871272235, 0.33446925775128694, 0.0871380597536897]\n",
      "Mean entropies for all classes: [3.4635290838874804e-15, 3.603457764490047e-15, 3.574507077574848e-15]\n",
      "              precision    recall  f1-score   support\n",
      "\n",
      "           0       0.00      0.00      0.00         5\n",
      "           1       0.00      0.00      0.00         5\n",
      "           2       0.22      0.40      0.29         5\n",
      "\n",
      "    accuracy                           0.13        15\n",
      "   macro avg       0.07      0.13      0.10        15\n",
      "weighted avg       0.07      0.13      0.10        15\n",
      "\n",
      "-------------------------------------------------------------------------------------------------------------------\n"
     ]
    },
    {
     "name": "stderr",
     "output_type": "stream",
     "text": [
      "[Parallel(n_jobs=-1)]: Done   3 out of   3 | elapsed:  1.2min finished\n",
      "c:\\ProgramData\\Anaconda3\\lib\\site-packages\\sklearn\\metrics\\_classification.py:1344: UndefinedMetricWarning: Precision and F-score are ill-defined and being set to 0.0 in labels with no predicted samples. Use `zero_division` parameter to control this behavior.\n",
      "  _warn_prf(average, modifier, msg_start, len(result))\n",
      "c:\\ProgramData\\Anaconda3\\lib\\site-packages\\sklearn\\metrics\\_classification.py:1344: UndefinedMetricWarning: Precision and F-score are ill-defined and being set to 0.0 in labels with no predicted samples. Use `zero_division` parameter to control this behavior.\n",
      "  _warn_prf(average, modifier, msg_start, len(result))\n",
      "c:\\ProgramData\\Anaconda3\\lib\\site-packages\\sklearn\\metrics\\_classification.py:1344: UndefinedMetricWarning: Precision and F-score are ill-defined and being set to 0.0 in labels with no predicted samples. Use `zero_division` parameter to control this behavior.\n",
      "  _warn_prf(average, modifier, msg_start, len(result))\n",
      "[Parallel(n_jobs=-1)]: Using backend LokyBackend with 12 concurrent workers.\n"
     ]
    },
    {
     "name": "stdout",
     "output_type": "stream",
     "text": [
      "K-Fold #9\n",
      "Mean negativities for all classes: [0.3527352636788306, 0.33432168577383586, 0.08623205890049478]\n",
      "Mean entropies for all classes: [3.3135080956655363e-15, 3.4934884336107325e-15, 3.653397531939981e-15]\n",
      "              precision    recall  f1-score   support\n",
      "\n",
      "           0       0.00      0.00      0.00         5\n",
      "           1       0.00      0.00      0.00         5\n",
      "           2       0.25      0.40      0.31         5\n",
      "\n",
      "    accuracy                           0.13        15\n",
      "   macro avg       0.08      0.13      0.10        15\n",
      "weighted avg       0.08      0.13      0.10        15\n",
      "\n",
      "-------------------------------------------------------------------------------------------------------------------\n",
      "AVG: Scores = 0.22000000000000003 F1-Scores = 0.16708746591099533 Negativity = [0.24793611921520187, 0.2559952176475863, 0.24820846390591922] Entropy = [4.308210958546162e-15, 3.4824432734062182e-15, 3.683358666057307e-15]\n"
     ]
    },
    {
     "name": "stderr",
     "output_type": "stream",
     "text": [
      "[Parallel(n_jobs=-1)]: Done   3 out of   3 | elapsed:  1.2min finished\n",
      "c:\\ProgramData\\Anaconda3\\lib\\site-packages\\sklearn\\metrics\\_classification.py:1344: UndefinedMetricWarning: Precision and F-score are ill-defined and being set to 0.0 in labels with no predicted samples. Use `zero_division` parameter to control this behavior.\n",
      "  _warn_prf(average, modifier, msg_start, len(result))\n",
      "c:\\ProgramData\\Anaconda3\\lib\\site-packages\\sklearn\\metrics\\_classification.py:1344: UndefinedMetricWarning: Precision and F-score are ill-defined and being set to 0.0 in labels with no predicted samples. Use `zero_division` parameter to control this behavior.\n",
      "  _warn_prf(average, modifier, msg_start, len(result))\n",
      "c:\\ProgramData\\Anaconda3\\lib\\site-packages\\sklearn\\metrics\\_classification.py:1344: UndefinedMetricWarning: Precision and F-score are ill-defined and being set to 0.0 in labels with no predicted samples. Use `zero_division` parameter to control this behavior.\n",
      "  _warn_prf(average, modifier, msg_start, len(result))\n",
      "[Parallel(n_jobs=-1)]: Using backend LokyBackend with 12 concurrent workers.\n"
     ]
    },
    {
     "name": "stdout",
     "output_type": "stream",
     "text": [
      "K-Fold #0\n",
      "Mean negativities for all classes: [0.37028918430014496, 0.3235986854142485, 0.08774555138496568]\n",
      "Mean entropies for all classes: [3.496945956446131e-15, 3.5421280157412545e-15, 3.617896493549789e-15]\n",
      "              precision    recall  f1-score   support\n",
      "\n",
      "           0       0.00      0.00      0.00         5\n",
      "           1       0.00      0.00      0.00         5\n",
      "           2       0.33      0.80      0.47         5\n",
      "\n",
      "    accuracy                           0.27        15\n",
      "   macro avg       0.11      0.27      0.16        15\n",
      "weighted avg       0.11      0.27      0.16        15\n",
      "\n",
      "-------------------------------------------------------------------------------------------------------------------\n"
     ]
    },
    {
     "name": "stderr",
     "output_type": "stream",
     "text": [
      "[Parallel(n_jobs=-1)]: Done   3 out of   3 | elapsed:  1.2min finished\n",
      "c:\\ProgramData\\Anaconda3\\lib\\site-packages\\sklearn\\metrics\\_classification.py:1344: UndefinedMetricWarning: Precision and F-score are ill-defined and being set to 0.0 in labels with no predicted samples. Use `zero_division` parameter to control this behavior.\n",
      "  _warn_prf(average, modifier, msg_start, len(result))\n",
      "c:\\ProgramData\\Anaconda3\\lib\\site-packages\\sklearn\\metrics\\_classification.py:1344: UndefinedMetricWarning: Precision and F-score are ill-defined and being set to 0.0 in labels with no predicted samples. Use `zero_division` parameter to control this behavior.\n",
      "  _warn_prf(average, modifier, msg_start, len(result))\n",
      "c:\\ProgramData\\Anaconda3\\lib\\site-packages\\sklearn\\metrics\\_classification.py:1344: UndefinedMetricWarning: Precision and F-score are ill-defined and being set to 0.0 in labels with no predicted samples. Use `zero_division` parameter to control this behavior.\n",
      "  _warn_prf(average, modifier, msg_start, len(result))\n",
      "[Parallel(n_jobs=-1)]: Using backend LokyBackend with 12 concurrent workers.\n"
     ]
    },
    {
     "name": "stdout",
     "output_type": "stream",
     "text": [
      "K-Fold #1\n",
      "Mean negativities for all classes: [0.3484241174451828, 0.3223322077469478, 0.08617217777513678]\n",
      "Mean entropies for all classes: [2.786197224685566e-15, 3.836568268525296e-15, 3.755581698816708e-15]\n",
      "              precision    recall  f1-score   support\n",
      "\n",
      "           0       0.00      0.00      0.00         5\n",
      "           1       0.00      0.00      0.00         5\n",
      "           2       0.11      0.20      0.14         5\n",
      "\n",
      "    accuracy                           0.07        15\n",
      "   macro avg       0.04      0.07      0.05        15\n",
      "weighted avg       0.04      0.07      0.05        15\n",
      "\n",
      "-------------------------------------------------------------------------------------------------------------------\n"
     ]
    },
    {
     "name": "stderr",
     "output_type": "stream",
     "text": [
      "[Parallel(n_jobs=-1)]: Done   3 out of   3 | elapsed:  1.2min finished\n",
      "[Parallel(n_jobs=-1)]: Using backend LokyBackend with 12 concurrent workers.\n"
     ]
    },
    {
     "name": "stdout",
     "output_type": "stream",
     "text": [
      "K-Fold #2\n",
      "Mean negativities for all classes: [0.366566954047484, 0.32816201747527185, 0.08777225358754047]\n",
      "Mean entropies for all classes: [3.093352569031384e-15, 4.2316993576530085e-15, 4.2475248977115665e-15]\n",
      "              precision    recall  f1-score   support\n",
      "\n",
      "           0       1.00      0.40      0.57         5\n",
      "           1       0.00      0.00      0.00         5\n",
      "           2       0.30      0.60      0.40         5\n",
      "\n",
      "    accuracy                           0.33        15\n",
      "   macro avg       0.43      0.33      0.32        15\n",
      "weighted avg       0.43      0.33      0.32        15\n",
      "\n",
      "-------------------------------------------------------------------------------------------------------------------\n"
     ]
    },
    {
     "name": "stderr",
     "output_type": "stream",
     "text": [
      "[Parallel(n_jobs=-1)]: Done   3 out of   3 | elapsed:  1.2min finished\n",
      "[Parallel(n_jobs=-1)]: Using backend LokyBackend with 12 concurrent workers.\n"
     ]
    },
    {
     "name": "stdout",
     "output_type": "stream",
     "text": [
      "K-Fold #3\n",
      "Mean negativities for all classes: [0.36387862995060566, 0.33327198561322346, 0.0873671202895585]\n",
      "Mean entropies for all classes: [3.0927775745254428e-15, 3.895605925029531e-15, 3.8885351070045326e-15]\n",
      "              precision    recall  f1-score   support\n",
      "\n",
      "           0       1.00      0.20      0.33         5\n",
      "           1       0.00      0.00      0.00         5\n",
      "           2       0.30      0.60      0.40         5\n",
      "\n",
      "    accuracy                           0.27        15\n",
      "   macro avg       0.43      0.27      0.24        15\n",
      "weighted avg       0.43      0.27      0.24        15\n",
      "\n",
      "-------------------------------------------------------------------------------------------------------------------\n"
     ]
    },
    {
     "name": "stderr",
     "output_type": "stream",
     "text": [
      "[Parallel(n_jobs=-1)]: Done   3 out of   3 | elapsed:  1.2min finished\n",
      "c:\\ProgramData\\Anaconda3\\lib\\site-packages\\sklearn\\metrics\\_classification.py:1344: UndefinedMetricWarning: Precision and F-score are ill-defined and being set to 0.0 in labels with no predicted samples. Use `zero_division` parameter to control this behavior.\n",
      "  _warn_prf(average, modifier, msg_start, len(result))\n",
      "c:\\ProgramData\\Anaconda3\\lib\\site-packages\\sklearn\\metrics\\_classification.py:1344: UndefinedMetricWarning: Precision and F-score are ill-defined and being set to 0.0 in labels with no predicted samples. Use `zero_division` parameter to control this behavior.\n",
      "  _warn_prf(average, modifier, msg_start, len(result))\n",
      "c:\\ProgramData\\Anaconda3\\lib\\site-packages\\sklearn\\metrics\\_classification.py:1344: UndefinedMetricWarning: Precision and F-score are ill-defined and being set to 0.0 in labels with no predicted samples. Use `zero_division` parameter to control this behavior.\n",
      "  _warn_prf(average, modifier, msg_start, len(result))\n",
      "[Parallel(n_jobs=-1)]: Using backend LokyBackend with 12 concurrent workers.\n"
     ]
    },
    {
     "name": "stdout",
     "output_type": "stream",
     "text": [
      "K-Fold #4\n",
      "Mean negativities for all classes: [0.3739131718579074, 0.3243723130227553, 0.08683696629023589]\n",
      "Mean entropies for all classes: [3.06622019443882e-15, 3.843122261819825e-15, 3.2484818060854055e-15]\n",
      "              precision    recall  f1-score   support\n",
      "\n",
      "           0       0.00      0.00      0.00         5\n",
      "           1       0.00      0.00      0.00         5\n",
      "           2       0.25      0.60      0.35         5\n",
      "\n",
      "    accuracy                           0.20        15\n",
      "   macro avg       0.08      0.20      0.12        15\n",
      "weighted avg       0.08      0.20      0.12        15\n",
      "\n",
      "-------------------------------------------------------------------------------------------------------------------\n"
     ]
    },
    {
     "name": "stderr",
     "output_type": "stream",
     "text": [
      "[Parallel(n_jobs=-1)]: Done   3 out of   3 | elapsed:  1.2min finished\n",
      "[Parallel(n_jobs=-1)]: Using backend LokyBackend with 12 concurrent workers.\n"
     ]
    },
    {
     "name": "stdout",
     "output_type": "stream",
     "text": [
      "K-Fold #5\n",
      "Mean negativities for all classes: [0.3547239952397081, 0.350440467047484, 0.08624954051834291]\n",
      "Mean entropies for all classes: [4.138654473211133e-15, 3.627498523590448e-15, 3.118385895892211e-15]\n",
      "              precision    recall  f1-score   support\n",
      "\n",
      "           0       1.00      0.20      0.33         5\n",
      "           1       0.00      0.00      0.00         5\n",
      "           2       0.38      1.00      0.56         5\n",
      "\n",
      "    accuracy                           0.40        15\n",
      "   macro avg       0.46      0.40      0.30        15\n",
      "weighted avg       0.46      0.40      0.30        15\n",
      "\n",
      "-------------------------------------------------------------------------------------------------------------------\n"
     ]
    },
    {
     "name": "stderr",
     "output_type": "stream",
     "text": [
      "[Parallel(n_jobs=-1)]: Done   3 out of   3 | elapsed:  1.2min finished\n",
      "[Parallel(n_jobs=-1)]: Using backend LokyBackend with 12 concurrent workers.\n"
     ]
    },
    {
     "name": "stdout",
     "output_type": "stream",
     "text": [
      "K-Fold #6\n",
      "Mean negativities for all classes: [0.3562088188242709, 0.33497560814614114, 0.08677470176198566]\n",
      "Mean entropies for all classes: [3.9767177799933815e-15, 4.236869409284423e-15, 3.937501176437943e-15]\n",
      "              precision    recall  f1-score   support\n",
      "\n",
      "           0       1.00      0.40      0.57         5\n",
      "           1       0.00      0.00      0.00         5\n",
      "           2       0.42      1.00      0.59         5\n",
      "\n",
      "    accuracy                           0.47        15\n",
      "   macro avg       0.47      0.47      0.39        15\n",
      "weighted avg       0.47      0.47      0.39        15\n",
      "\n",
      "-------------------------------------------------------------------------------------------------------------------\n"
     ]
    },
    {
     "name": "stderr",
     "output_type": "stream",
     "text": [
      "[Parallel(n_jobs=-1)]: Done   3 out of   3 | elapsed:  1.2min finished\n",
      "c:\\ProgramData\\Anaconda3\\lib\\site-packages\\sklearn\\metrics\\_classification.py:1344: UndefinedMetricWarning: Precision and F-score are ill-defined and being set to 0.0 in labels with no predicted samples. Use `zero_division` parameter to control this behavior.\n",
      "  _warn_prf(average, modifier, msg_start, len(result))\n",
      "c:\\ProgramData\\Anaconda3\\lib\\site-packages\\sklearn\\metrics\\_classification.py:1344: UndefinedMetricWarning: Precision and F-score are ill-defined and being set to 0.0 in labels with no predicted samples. Use `zero_division` parameter to control this behavior.\n",
      "  _warn_prf(average, modifier, msg_start, len(result))\n",
      "c:\\ProgramData\\Anaconda3\\lib\\site-packages\\sklearn\\metrics\\_classification.py:1344: UndefinedMetricWarning: Precision and F-score are ill-defined and being set to 0.0 in labels with no predicted samples. Use `zero_division` parameter to control this behavior.\n",
      "  _warn_prf(average, modifier, msg_start, len(result))\n",
      "[Parallel(n_jobs=-1)]: Using backend LokyBackend with 12 concurrent workers.\n"
     ]
    },
    {
     "name": "stdout",
     "output_type": "stream",
     "text": [
      "K-Fold #7\n",
      "Mean negativities for all classes: [0.3622190943539935, 0.306651269930546, 0.08695623768246465]\n",
      "Mean entropies for all classes: [3.616484640114365e-15, 4.313718896538046e-15, 3.076088230588939e-15]\n",
      "              precision    recall  f1-score   support\n",
      "\n",
      "           0       0.00      0.00      0.00         5\n",
      "           1       0.00      0.00      0.00         5\n",
      "           2       0.14      0.20      0.17         5\n",
      "\n",
      "    accuracy                           0.07        15\n",
      "   macro avg       0.05      0.07      0.06        15\n",
      "weighted avg       0.05      0.07      0.06        15\n",
      "\n",
      "-------------------------------------------------------------------------------------------------------------------\n"
     ]
    },
    {
     "name": "stderr",
     "output_type": "stream",
     "text": [
      "[Parallel(n_jobs=-1)]: Done   3 out of   3 | elapsed:  1.2min finished\n",
      "[Parallel(n_jobs=-1)]: Using backend LokyBackend with 12 concurrent workers.\n"
     ]
    },
    {
     "name": "stdout",
     "output_type": "stream",
     "text": [
      "K-Fold #8\n",
      "Mean negativities for all classes: [0.37225784857129185, 0.3313895203161414, 0.0878143625165137]\n",
      "Mean entropies for all classes: [3.2261460398668463e-15, 3.783053088684311e-15, 3.2863906380896526e-15]\n",
      "              precision    recall  f1-score   support\n",
      "\n",
      "           0       1.00      0.20      0.33         5\n",
      "           1       0.00      0.00      0.00         5\n",
      "           2       0.36      0.80      0.50         5\n",
      "\n",
      "    accuracy                           0.33        15\n",
      "   macro avg       0.45      0.33      0.28        15\n",
      "weighted avg       0.45      0.33      0.28        15\n",
      "\n",
      "-------------------------------------------------------------------------------------------------------------------\n"
     ]
    },
    {
     "name": "stderr",
     "output_type": "stream",
     "text": [
      "[Parallel(n_jobs=-1)]: Done   3 out of   3 | elapsed:  1.2min finished\n",
      "[Parallel(n_jobs=-1)]: Using backend LokyBackend with 12 concurrent workers.\n"
     ]
    },
    {
     "name": "stdout",
     "output_type": "stream",
     "text": [
      "K-Fold #9\n",
      "Mean negativities for all classes: [0.3566277606662662, 0.3392574202704719, 0.08725708127958877]\n",
      "Mean entropies for all classes: [3.6209942858953355e-15, 3.779319454458863e-15, 3.3380592913214246e-15]\n",
      "              precision    recall  f1-score   support\n",
      "\n",
      "           0       0.00      0.00      0.00         5\n",
      "           1       0.00      0.00      0.00         5\n",
      "           2       0.33      0.60      0.43         5\n",
      "\n",
      "    accuracy                           0.20        15\n",
      "   macro avg       0.11      0.20      0.14        15\n",
      "weighted avg       0.11      0.20      0.14        15\n",
      "\n",
      "-------------------------------------------------------------------------------------------------------------------\n",
      "AVG: Scores = 0.26 F1-Scores = 0.20494242141300964 Negativity = [0.2605444736997864, 0.25230950098908916, 0.2608337417034321] Entropy = [3.5523234885790586e-15, 3.45944906400919e-15, 3.857525608131986e-15]\n"
     ]
    },
    {
     "name": "stderr",
     "output_type": "stream",
     "text": [
      "[Parallel(n_jobs=-1)]: Done   3 out of   3 | elapsed:  1.2min finished\n",
      "[Parallel(n_jobs=-1)]: Using backend LokyBackend with 12 concurrent workers.\n"
     ]
    },
    {
     "name": "stdout",
     "output_type": "stream",
     "text": [
      "K-Fold #0\n",
      "Mean negativities for all classes: [0.3503993573398293, 0.31925829602484773, 0.08698167033241244]\n",
      "Mean entropies for all classes: [3.5979032548202294e-15, 3.5939432262463635e-15, 3.835461977522902e-15]\n",
      "              precision    recall  f1-score   support\n",
      "\n",
      "           0       0.00      0.00      0.00         5\n",
      "           1       0.00      0.00      0.00         5\n",
      "           2       0.29      0.40      0.33         5\n",
      "\n",
      "    accuracy                           0.13        15\n",
      "   macro avg       0.10      0.13      0.11        15\n",
      "weighted avg       0.10      0.13      0.11        15\n",
      "\n",
      "-------------------------------------------------------------------------------------------------------------------\n"
     ]
    },
    {
     "name": "stderr",
     "output_type": "stream",
     "text": [
      "[Parallel(n_jobs=-1)]: Done   3 out of   3 | elapsed:  1.2min finished\n",
      "c:\\ProgramData\\Anaconda3\\lib\\site-packages\\sklearn\\metrics\\_classification.py:1344: UndefinedMetricWarning: Precision and F-score are ill-defined and being set to 0.0 in labels with no predicted samples. Use `zero_division` parameter to control this behavior.\n",
      "  _warn_prf(average, modifier, msg_start, len(result))\n",
      "c:\\ProgramData\\Anaconda3\\lib\\site-packages\\sklearn\\metrics\\_classification.py:1344: UndefinedMetricWarning: Precision and F-score are ill-defined and being set to 0.0 in labels with no predicted samples. Use `zero_division` parameter to control this behavior.\n",
      "  _warn_prf(average, modifier, msg_start, len(result))\n",
      "c:\\ProgramData\\Anaconda3\\lib\\site-packages\\sklearn\\metrics\\_classification.py:1344: UndefinedMetricWarning: Precision and F-score are ill-defined and being set to 0.0 in labels with no predicted samples. Use `zero_division` parameter to control this behavior.\n",
      "  _warn_prf(average, modifier, msg_start, len(result))\n",
      "[Parallel(n_jobs=-1)]: Using backend LokyBackend with 12 concurrent workers.\n"
     ]
    },
    {
     "name": "stdout",
     "output_type": "stream",
     "text": [
      "K-Fold #1\n",
      "Mean negativities for all classes: [0.36363819813976395, 0.3430668633252137, 0.08710379297068006]\n",
      "Mean entropies for all classes: [3.4355532256977457e-15, 3.942198970051595e-15, 3.662617422050773e-15]\n",
      "              precision    recall  f1-score   support\n",
      "\n",
      "           0       0.00      0.00      0.00         5\n",
      "           1       0.00      0.00      0.00         5\n",
      "           2       0.18      0.40      0.25         5\n",
      "\n",
      "    accuracy                           0.13        15\n",
      "   macro avg       0.06      0.13      0.08        15\n",
      "weighted avg       0.06      0.13      0.08        15\n",
      "\n",
      "-------------------------------------------------------------------------------------------------------------------\n"
     ]
    },
    {
     "name": "stderr",
     "output_type": "stream",
     "text": [
      "[Parallel(n_jobs=-1)]: Done   3 out of   3 | elapsed:  1.2min finished\n",
      "c:\\ProgramData\\Anaconda3\\lib\\site-packages\\sklearn\\metrics\\_classification.py:1344: UndefinedMetricWarning: Precision and F-score are ill-defined and being set to 0.0 in labels with no predicted samples. Use `zero_division` parameter to control this behavior.\n",
      "  _warn_prf(average, modifier, msg_start, len(result))\n",
      "c:\\ProgramData\\Anaconda3\\lib\\site-packages\\sklearn\\metrics\\_classification.py:1344: UndefinedMetricWarning: Precision and F-score are ill-defined and being set to 0.0 in labels with no predicted samples. Use `zero_division` parameter to control this behavior.\n",
      "  _warn_prf(average, modifier, msg_start, len(result))\n",
      "c:\\ProgramData\\Anaconda3\\lib\\site-packages\\sklearn\\metrics\\_classification.py:1344: UndefinedMetricWarning: Precision and F-score are ill-defined and being set to 0.0 in labels with no predicted samples. Use `zero_division` parameter to control this behavior.\n",
      "  _warn_prf(average, modifier, msg_start, len(result))\n",
      "[Parallel(n_jobs=-1)]: Using backend LokyBackend with 12 concurrent workers.\n"
     ]
    },
    {
     "name": "stdout",
     "output_type": "stream",
     "text": [
      "K-Fold #2\n",
      "Mean negativities for all classes: [0.36562158930004024, 0.315732797022615, 0.08741845172219902]\n",
      "Mean entropies for all classes: [3.4488168412928808e-15, 4.113879963029051e-15, 3.896139534004982e-15]\n",
      "              precision    recall  f1-score   support\n",
      "\n",
      "           0       0.00      0.00      0.00         5\n",
      "           1       0.00      0.00      0.00         5\n",
      "           2       0.22      0.40      0.29         5\n",
      "\n",
      "    accuracy                           0.13        15\n",
      "   macro avg       0.07      0.13      0.10        15\n",
      "weighted avg       0.07      0.13      0.10        15\n",
      "\n",
      "-------------------------------------------------------------------------------------------------------------------\n"
     ]
    },
    {
     "name": "stderr",
     "output_type": "stream",
     "text": [
      "[Parallel(n_jobs=-1)]: Done   3 out of   3 | elapsed:  1.2min finished\n",
      "[Parallel(n_jobs=-1)]: Using backend LokyBackend with 12 concurrent workers.\n"
     ]
    },
    {
     "name": "stdout",
     "output_type": "stream",
     "text": [
      "K-Fold #3\n",
      "Mean negativities for all classes: [0.3680874791799098, 0.3488578715764233, 0.0867432618639282]\n",
      "Mean entropies for all classes: [4.080664303129048e-15, 4.133719949712219e-15, 3.048302366879936e-15]\n",
      "              precision    recall  f1-score   support\n",
      "\n",
      "           0       0.50      0.20      0.29         5\n",
      "           1       0.00      0.00      0.00         5\n",
      "           2       0.33      0.80      0.47         5\n",
      "\n",
      "    accuracy                           0.33        15\n",
      "   macro avg       0.28      0.33      0.25        15\n",
      "weighted avg       0.28      0.33      0.25        15\n",
      "\n",
      "-------------------------------------------------------------------------------------------------------------------\n"
     ]
    },
    {
     "name": "stderr",
     "output_type": "stream",
     "text": [
      "[Parallel(n_jobs=-1)]: Done   3 out of   3 | elapsed:  1.2min finished\n",
      "[Parallel(n_jobs=-1)]: Using backend LokyBackend with 12 concurrent workers.\n"
     ]
    },
    {
     "name": "stdout",
     "output_type": "stream",
     "text": [
      "K-Fold #4\n",
      "Mean negativities for all classes: [0.3619332782275981, 0.31810999616671726, 0.08662495083082543]\n",
      "Mean entropies for all classes: [4.167873256279759e-15, 3.2933843622368288e-15, 3.5021535197146076e-15]\n",
      "              precision    recall  f1-score   support\n",
      "\n",
      "           0       0.50      0.20      0.29         5\n",
      "           1       0.00      0.00      0.00         5\n",
      "           2       0.33      0.60      0.43         5\n",
      "\n",
      "    accuracy                           0.27        15\n",
      "   macro avg       0.28      0.27      0.24        15\n",
      "weighted avg       0.28      0.27      0.24        15\n",
      "\n",
      "-------------------------------------------------------------------------------------------------------------------\n"
     ]
    },
    {
     "name": "stderr",
     "output_type": "stream",
     "text": [
      "[Parallel(n_jobs=-1)]: Done   3 out of   3 | elapsed:  1.2min finished\n",
      "c:\\ProgramData\\Anaconda3\\lib\\site-packages\\sklearn\\metrics\\_classification.py:1344: UndefinedMetricWarning: Precision and F-score are ill-defined and being set to 0.0 in labels with no predicted samples. Use `zero_division` parameter to control this behavior.\n",
      "  _warn_prf(average, modifier, msg_start, len(result))\n",
      "c:\\ProgramData\\Anaconda3\\lib\\site-packages\\sklearn\\metrics\\_classification.py:1344: UndefinedMetricWarning: Precision and F-score are ill-defined and being set to 0.0 in labels with no predicted samples. Use `zero_division` parameter to control this behavior.\n",
      "  _warn_prf(average, modifier, msg_start, len(result))\n",
      "c:\\ProgramData\\Anaconda3\\lib\\site-packages\\sklearn\\metrics\\_classification.py:1344: UndefinedMetricWarning: Precision and F-score are ill-defined and being set to 0.0 in labels with no predicted samples. Use `zero_division` parameter to control this behavior.\n",
      "  _warn_prf(average, modifier, msg_start, len(result))\n",
      "[Parallel(n_jobs=-1)]: Using backend LokyBackend with 12 concurrent workers.\n"
     ]
    },
    {
     "name": "stdout",
     "output_type": "stream",
     "text": [
      "K-Fold #5\n",
      "Mean negativities for all classes: [0.367157560099273, 0.3014515213634884, 0.08729576188652947]\n",
      "Mean entropies for all classes: [3.284335834032243e-15, 3.67198740003473e-15, 3.527828537682981e-15]\n",
      "              precision    recall  f1-score   support\n",
      "\n",
      "           0       0.00      0.00      0.00         5\n",
      "           1       0.00      0.00      0.00         5\n",
      "           2       0.11      0.20      0.14         5\n",
      "\n",
      "    accuracy                           0.07        15\n",
      "   macro avg       0.04      0.07      0.05        15\n",
      "weighted avg       0.04      0.07      0.05        15\n",
      "\n",
      "-------------------------------------------------------------------------------------------------------------------\n"
     ]
    },
    {
     "name": "stderr",
     "output_type": "stream",
     "text": [
      "[Parallel(n_jobs=-1)]: Done   3 out of   3 | elapsed:  1.2min finished\n",
      "[Parallel(n_jobs=-1)]: Using backend LokyBackend with 12 concurrent workers.\n"
     ]
    },
    {
     "name": "stdout",
     "output_type": "stream",
     "text": [
      "K-Fold #6\n",
      "Mean negativities for all classes: [0.35718278405398446, 0.31698878354811694, 0.08646449241961476]\n",
      "Mean entropies for all classes: [3.4608172120930075e-15, 3.943043785695255e-15, 3.749885964996052e-15]\n",
      "              precision    recall  f1-score   support\n",
      "\n",
      "           0       0.50      0.20      0.29         5\n",
      "           1       0.00      0.00      0.00         5\n",
      "           2       0.45      1.00      0.62         5\n",
      "\n",
      "    accuracy                           0.40        15\n",
      "   macro avg       0.32      0.40      0.30        15\n",
      "weighted avg       0.32      0.40      0.30        15\n",
      "\n",
      "-------------------------------------------------------------------------------------------------------------------\n"
     ]
    },
    {
     "name": "stderr",
     "output_type": "stream",
     "text": [
      "[Parallel(n_jobs=-1)]: Done   3 out of   3 | elapsed:  1.2min finished\n",
      "[Parallel(n_jobs=-1)]: Using backend LokyBackend with 12 concurrent workers.\n"
     ]
    },
    {
     "name": "stdout",
     "output_type": "stream",
     "text": [
      "K-Fold #7\n",
      "Mean negativities for all classes: [0.3528058517548571, 0.3246701992346338, 0.08756809407011637]\n",
      "Mean entropies for all classes: [3.609550622019873e-15, 4.322534748164566e-15, 2.9310338316791527e-15]\n",
      "              precision    recall  f1-score   support\n",
      "\n",
      "           0       0.50      0.20      0.29         5\n",
      "           1       0.00      0.00      0.00         5\n",
      "           2       0.44      0.80      0.57         5\n",
      "\n",
      "    accuracy                           0.33        15\n",
      "   macro avg       0.31      0.33      0.29        15\n",
      "weighted avg       0.31      0.33      0.29        15\n",
      "\n",
      "-------------------------------------------------------------------------------------------------------------------\n"
     ]
    },
    {
     "name": "stderr",
     "output_type": "stream",
     "text": [
      "[Parallel(n_jobs=-1)]: Done   3 out of   3 | elapsed:  1.2min finished\n",
      "[Parallel(n_jobs=-1)]: Using backend LokyBackend with 12 concurrent workers.\n"
     ]
    },
    {
     "name": "stdout",
     "output_type": "stream",
     "text": [
      "K-Fold #8\n",
      "Mean negativities for all classes: [0.3686720196084359, 0.3154798200793741, 0.08761198101256147]\n",
      "Mean entropies for all classes: [3.7089544367280665e-15, 3.467277139989397e-15, 3.902058067499468e-15]\n",
      "              precision    recall  f1-score   support\n",
      "\n",
      "           0       1.00      0.20      0.33         5\n",
      "           1       0.00      0.00      0.00         5\n",
      "           2       0.29      0.40      0.33         5\n",
      "\n",
      "    accuracy                           0.20        15\n",
      "   macro avg       0.43      0.20      0.22        15\n",
      "weighted avg       0.43      0.20      0.22        15\n",
      "\n",
      "-------------------------------------------------------------------------------------------------------------------\n"
     ]
    },
    {
     "name": "stderr",
     "output_type": "stream",
     "text": [
      "[Parallel(n_jobs=-1)]: Done   3 out of   3 | elapsed:  1.2min finished\n",
      "c:\\ProgramData\\Anaconda3\\lib\\site-packages\\sklearn\\metrics\\_classification.py:1344: UndefinedMetricWarning: Precision and F-score are ill-defined and being set to 0.0 in labels with no predicted samples. Use `zero_division` parameter to control this behavior.\n",
      "  _warn_prf(average, modifier, msg_start, len(result))\n",
      "c:\\ProgramData\\Anaconda3\\lib\\site-packages\\sklearn\\metrics\\_classification.py:1344: UndefinedMetricWarning: Precision and F-score are ill-defined and being set to 0.0 in labels with no predicted samples. Use `zero_division` parameter to control this behavior.\n",
      "  _warn_prf(average, modifier, msg_start, len(result))\n",
      "c:\\ProgramData\\Anaconda3\\lib\\site-packages\\sklearn\\metrics\\_classification.py:1344: UndefinedMetricWarning: Precision and F-score are ill-defined and being set to 0.0 in labels with no predicted samples. Use `zero_division` parameter to control this behavior.\n",
      "  _warn_prf(average, modifier, msg_start, len(result))\n",
      "[Parallel(n_jobs=-1)]: Using backend LokyBackend with 12 concurrent workers.\n"
     ]
    },
    {
     "name": "stdout",
     "output_type": "stream",
     "text": [
      "K-Fold #9\n",
      "Mean negativities for all classes: [0.3684167568991806, 0.34095757826532913, 0.08726659050934155]\n",
      "Mean entropies for all classes: [3.5729361854793694e-15, 3.682854847516846e-15, 2.903518447036825e-15]\n",
      "              precision    recall  f1-score   support\n",
      "\n",
      "           0       0.00      0.00      0.00         5\n",
      "           1       0.00      0.00      0.00         5\n",
      "           2       0.27      0.60      0.37         5\n",
      "\n",
      "    accuracy                           0.20        15\n",
      "   macro avg       0.09      0.20      0.12        15\n",
      "weighted avg       0.09      0.20      0.12        15\n",
      "\n",
      "-------------------------------------------------------------------------------------------------------------------\n",
      "AVG: Scores = 0.22000000000000003 F1-Scores = 0.17640056022408968 Negativity = [0.2522131078990298, 0.26460295147855256, 0.25625761268161806] Entropy = [3.675769486196498e-15, 3.6801232059333705e-15, 3.819612112775638e-15]\n"
     ]
    },
    {
     "name": "stderr",
     "output_type": "stream",
     "text": [
      "[Parallel(n_jobs=-1)]: Done   3 out of   3 | elapsed:  1.2min finished\n",
      "[Parallel(n_jobs=-1)]: Using backend LokyBackend with 12 concurrent workers.\n"
     ]
    },
    {
     "name": "stdout",
     "output_type": "stream",
     "text": [
      "K-Fold #0\n",
      "Mean negativities for all classes: [0.3601933467095204, 0.32242780461189446, 0.08705384455575879]\n",
      "Mean entropies for all classes: [3.2751423587316487e-15, 2.9172406211835737e-15, 3.18426279565883e-15]\n",
      "              precision    recall  f1-score   support\n",
      "\n",
      "           0       1.00      0.20      0.33         5\n",
      "           1       0.00      0.00      0.00         5\n",
      "           2       0.22      0.40      0.29         5\n",
      "\n",
      "    accuracy                           0.20        15\n",
      "   macro avg       0.41      0.20      0.21        15\n",
      "weighted avg       0.41      0.20      0.21        15\n",
      "\n",
      "-------------------------------------------------------------------------------------------------------------------\n"
     ]
    },
    {
     "name": "stderr",
     "output_type": "stream",
     "text": [
      "[Parallel(n_jobs=-1)]: Done   3 out of   3 | elapsed:  1.2min finished\n",
      "[Parallel(n_jobs=-1)]: Using backend LokyBackend with 12 concurrent workers.\n"
     ]
    },
    {
     "name": "stdout",
     "output_type": "stream",
     "text": [
      "K-Fold #1\n",
      "Mean negativities for all classes: [0.3463810501671728, 0.3111075633516174, 0.08634360655276531]\n",
      "Mean entropies for all classes: [2.7277214635949904e-15, 3.1338462670638807e-15, 3.584681285483684e-15]\n",
      "              precision    recall  f1-score   support\n",
      "\n",
      "           0       1.00      0.40      0.57         5\n",
      "           1       0.00      0.00      0.00         5\n",
      "           2       0.33      0.60      0.43         5\n",
      "\n",
      "    accuracy                           0.33        15\n",
      "   macro avg       0.44      0.33      0.33        15\n",
      "weighted avg       0.44      0.33      0.33        15\n",
      "\n",
      "-------------------------------------------------------------------------------------------------------------------\n"
     ]
    },
    {
     "name": "stderr",
     "output_type": "stream",
     "text": [
      "[Parallel(n_jobs=-1)]: Done   3 out of   3 | elapsed:  1.2min finished\n",
      "[Parallel(n_jobs=-1)]: Using backend LokyBackend with 12 concurrent workers.\n"
     ]
    },
    {
     "name": "stdout",
     "output_type": "stream",
     "text": [
      "K-Fold #2\n",
      "Mean negativities for all classes: [0.3634905160228142, 0.3292384913311395, 0.08727855663815462]\n",
      "Mean entropies for all classes: [3.4369123825305353e-15, 3.7029448749413546e-15, 3.718110866937879e-15]\n",
      "              precision    recall  f1-score   support\n",
      "\n",
      "           0       0.00      0.00      0.00         5\n",
      "           1       0.00      0.00      0.00         5\n",
      "           2       0.33      0.60      0.43         5\n",
      "\n",
      "    accuracy                           0.20        15\n",
      "   macro avg       0.11      0.20      0.14        15\n",
      "weighted avg       0.11      0.20      0.14        15\n",
      "\n",
      "-------------------------------------------------------------------------------------------------------------------\n"
     ]
    },
    {
     "name": "stderr",
     "output_type": "stream",
     "text": [
      "[Parallel(n_jobs=-1)]: Done   3 out of   3 | elapsed:  1.2min finished\n",
      "[Parallel(n_jobs=-1)]: Using backend LokyBackend with 12 concurrent workers.\n"
     ]
    },
    {
     "name": "stdout",
     "output_type": "stream",
     "text": [
      "K-Fold #3\n",
      "Mean negativities for all classes: [0.3469426588569048, 0.3427031202461304, 0.08583045520506107]\n",
      "Mean entropies for all classes: [3.826318734480219e-15, 3.3398742069756603e-15, 3.891380616504184e-15]\n",
      "              precision    recall  f1-score   support\n",
      "\n",
      "           0       1.00      0.20      0.33         5\n",
      "           1       0.00      0.00      0.00         5\n",
      "           2       0.27      0.60      0.37         5\n",
      "\n",
      "    accuracy                           0.27        15\n",
      "   macro avg       0.42      0.27      0.24        15\n",
      "weighted avg       0.42      0.27      0.24        15\n",
      "\n",
      "-------------------------------------------------------------------------------------------------------------------\n"
     ]
    },
    {
     "name": "stderr",
     "output_type": "stream",
     "text": [
      "[Parallel(n_jobs=-1)]: Done   3 out of   3 | elapsed:  1.2min finished\n",
      "c:\\ProgramData\\Anaconda3\\lib\\site-packages\\sklearn\\metrics\\_classification.py:1344: UndefinedMetricWarning: Precision and F-score are ill-defined and being set to 0.0 in labels with no predicted samples. Use `zero_division` parameter to control this behavior.\n",
      "  _warn_prf(average, modifier, msg_start, len(result))\n",
      "c:\\ProgramData\\Anaconda3\\lib\\site-packages\\sklearn\\metrics\\_classification.py:1344: UndefinedMetricWarning: Precision and F-score are ill-defined and being set to 0.0 in labels with no predicted samples. Use `zero_division` parameter to control this behavior.\n",
      "  _warn_prf(average, modifier, msg_start, len(result))\n",
      "c:\\ProgramData\\Anaconda3\\lib\\site-packages\\sklearn\\metrics\\_classification.py:1344: UndefinedMetricWarning: Precision and F-score are ill-defined and being set to 0.0 in labels with no predicted samples. Use `zero_division` parameter to control this behavior.\n",
      "  _warn_prf(average, modifier, msg_start, len(result))\n",
      "[Parallel(n_jobs=-1)]: Using backend LokyBackend with 12 concurrent workers.\n"
     ]
    },
    {
     "name": "stdout",
     "output_type": "stream",
     "text": [
      "K-Fold #4\n",
      "Mean negativities for all classes: [0.3645692551174518, 0.33206741616868274, 0.08713345077264119]\n",
      "Mean entropies for all classes: [3.146208116000924e-15, 4.259857375240232e-15, 3.9653991126813124e-15]\n",
      "              precision    recall  f1-score   support\n",
      "\n",
      "           0       0.00      0.00      0.00         5\n",
      "           1       0.00      0.00      0.00         5\n",
      "           2       0.30      0.60      0.40         5\n",
      "\n",
      "    accuracy                           0.20        15\n",
      "   macro avg       0.10      0.20      0.13        15\n",
      "weighted avg       0.10      0.20      0.13        15\n",
      "\n",
      "-------------------------------------------------------------------------------------------------------------------\n"
     ]
    },
    {
     "name": "stderr",
     "output_type": "stream",
     "text": [
      "[Parallel(n_jobs=-1)]: Done   3 out of   3 | elapsed:  1.2min finished\n",
      "[Parallel(n_jobs=-1)]: Using backend LokyBackend with 12 concurrent workers.\n"
     ]
    },
    {
     "name": "stdout",
     "output_type": "stream",
     "text": [
      "K-Fold #5\n",
      "Mean negativities for all classes: [0.3679650479740148, 0.34884581435952705, 0.08713207086622186]\n",
      "Mean entropies for all classes: [3.728648029558822e-15, 3.669487830071499e-15, 3.493956755522726e-15]\n",
      "              precision    recall  f1-score   support\n",
      "\n",
      "           0       1.00      0.20      0.33         5\n",
      "           1       0.00      0.00      0.00         5\n",
      "           2       0.31      0.80      0.44         5\n",
      "\n",
      "    accuracy                           0.33        15\n",
      "   macro avg       0.44      0.33      0.26        15\n",
      "weighted avg       0.44      0.33      0.26        15\n",
      "\n",
      "-------------------------------------------------------------------------------------------------------------------\n"
     ]
    },
    {
     "name": "stderr",
     "output_type": "stream",
     "text": [
      "[Parallel(n_jobs=-1)]: Done   3 out of   3 | elapsed:  1.2min finished\n",
      "[Parallel(n_jobs=-1)]: Using backend LokyBackend with 12 concurrent workers.\n"
     ]
    },
    {
     "name": "stdout",
     "output_type": "stream",
     "text": [
      "K-Fold #6\n",
      "Mean negativities for all classes: [0.3664995613707214, 0.31664841833990426, 0.08749190097806278]\n",
      "Mean entropies for all classes: [3.875460923053594e-15, 4.327088647624324e-15, 3.354290815738841e-15]\n",
      "              precision    recall  f1-score   support\n",
      "\n",
      "           0       1.00      0.20      0.33         5\n",
      "           1       0.00      0.00      0.00         5\n",
      "           2       0.30      0.60      0.40         5\n",
      "\n",
      "    accuracy                           0.27        15\n",
      "   macro avg       0.43      0.27      0.24        15\n",
      "weighted avg       0.43      0.27      0.24        15\n",
      "\n",
      "-------------------------------------------------------------------------------------------------------------------\n"
     ]
    },
    {
     "name": "stderr",
     "output_type": "stream",
     "text": [
      "[Parallel(n_jobs=-1)]: Done   3 out of   3 | elapsed:  1.2min finished\n",
      "[Parallel(n_jobs=-1)]: Using backend LokyBackend with 12 concurrent workers.\n"
     ]
    },
    {
     "name": "stdout",
     "output_type": "stream",
     "text": [
      "K-Fold #7\n",
      "Mean negativities for all classes: [0.36460167937215304, 0.3223488501611494, 0.08727123997720344]\n",
      "Mean entropies for all classes: [4.215070720689889e-15, 4.087834321653701e-15, 3.226125214453911e-15]\n",
      "              precision    recall  f1-score   support\n",
      "\n",
      "           0       0.00      0.00      0.00         5\n",
      "           1       0.00      0.00      0.00         5\n",
      "           2       0.33      0.60      0.43         5\n",
      "\n",
      "    accuracy                           0.20        15\n",
      "   macro avg       0.11      0.20      0.14        15\n",
      "weighted avg       0.11      0.20      0.14        15\n",
      "\n",
      "-------------------------------------------------------------------------------------------------------------------\n"
     ]
    },
    {
     "name": "stderr",
     "output_type": "stream",
     "text": [
      "[Parallel(n_jobs=-1)]: Done   3 out of   3 | elapsed:  1.2min finished\n",
      "[Parallel(n_jobs=-1)]: Using backend LokyBackend with 12 concurrent workers.\n"
     ]
    },
    {
     "name": "stdout",
     "output_type": "stream",
     "text": [
      "K-Fold #8\n",
      "Mean negativities for all classes: [0.3760598345532007, 0.3113333689340474, 0.08791650689264555]\n",
      "Mean entropies for all classes: [3.760265040434739e-15, 2.819013330511606e-15, 3.4322810968130067e-15]\n",
      "              precision    recall  f1-score   support\n",
      "\n",
      "           0       0.00      0.00      0.00         5\n",
      "           1       0.00      0.00      0.00         5\n",
      "           2       0.29      0.40      0.33         5\n",
      "\n",
      "    accuracy                           0.13        15\n",
      "   macro avg       0.10      0.13      0.11        15\n",
      "weighted avg       0.10      0.13      0.11        15\n",
      "\n",
      "-------------------------------------------------------------------------------------------------------------------\n"
     ]
    },
    {
     "name": "stderr",
     "output_type": "stream",
     "text": [
      "[Parallel(n_jobs=-1)]: Done   3 out of   3 | elapsed:  1.2min finished\n",
      "[Parallel(n_jobs=-1)]: Using backend LokyBackend with 12 concurrent workers.\n"
     ]
    },
    {
     "name": "stdout",
     "output_type": "stream",
     "text": [
      "K-Fold #9\n",
      "Mean negativities for all classes: [0.36858741589207134, 0.3248340373922228, 0.08745466460363312]\n",
      "Mean entropies for all classes: [3.3090363530493013e-15, 4.0977121101701736e-15, 3.08503869237818e-15]\n",
      "              precision    recall  f1-score   support\n",
      "\n",
      "           0       1.00      0.20      0.33         5\n",
      "           1       0.00      0.00      0.00         5\n",
      "           2       0.11      0.20      0.14         5\n",
      "\n",
      "    accuracy                           0.13        15\n",
      "   macro avg       0.37      0.13      0.16        15\n",
      "weighted avg       0.37      0.13      0.16        15\n",
      "\n",
      "-------------------------------------------------------------------------------------------------------------------\n",
      "AVG: Scores = 0.22666666666666666 F1-Scores = 0.19683862433862437 Negativity = [0.2565583319590579, 0.24794407335718516, 0.2600025213307028] Entropy = [3.125548591858018e-15, 3.1487496720475187e-15, 3.619322708136589e-15]\n"
     ]
    },
    {
     "name": "stderr",
     "output_type": "stream",
     "text": [
      "[Parallel(n_jobs=-1)]: Done   3 out of   3 | elapsed:  1.2min finished\n",
      "c:\\ProgramData\\Anaconda3\\lib\\site-packages\\sklearn\\metrics\\_classification.py:1344: UndefinedMetricWarning: Precision and F-score are ill-defined and being set to 0.0 in labels with no predicted samples. Use `zero_division` parameter to control this behavior.\n",
      "  _warn_prf(average, modifier, msg_start, len(result))\n",
      "c:\\ProgramData\\Anaconda3\\lib\\site-packages\\sklearn\\metrics\\_classification.py:1344: UndefinedMetricWarning: Precision and F-score are ill-defined and being set to 0.0 in labels with no predicted samples. Use `zero_division` parameter to control this behavior.\n",
      "  _warn_prf(average, modifier, msg_start, len(result))\n",
      "c:\\ProgramData\\Anaconda3\\lib\\site-packages\\sklearn\\metrics\\_classification.py:1344: UndefinedMetricWarning: Precision and F-score are ill-defined and being set to 0.0 in labels with no predicted samples. Use `zero_division` parameter to control this behavior.\n",
      "  _warn_prf(average, modifier, msg_start, len(result))\n",
      "[Parallel(n_jobs=-1)]: Using backend LokyBackend with 12 concurrent workers.\n"
     ]
    },
    {
     "name": "stdout",
     "output_type": "stream",
     "text": [
      "K-Fold #0\n",
      "Mean negativities for all classes: [0.36886363310930814, 0.2964725631002503, 0.08757715009623841]\n",
      "Mean entropies for all classes: [3.734981998267111e-15, 3.978653885626291e-15, 3.941405575985467e-15]\n",
      "              precision    recall  f1-score   support\n",
      "\n",
      "           0       0.00      0.00      0.00         5\n",
      "           1       0.00      0.00      0.00         5\n",
      "           2       0.33      0.60      0.43         5\n",
      "\n",
      "    accuracy                           0.20        15\n",
      "   macro avg       0.11      0.20      0.14        15\n",
      "weighted avg       0.11      0.20      0.14        15\n",
      "\n",
      "-------------------------------------------------------------------------------------------------------------------\n"
     ]
    },
    {
     "name": "stderr",
     "output_type": "stream",
     "text": [
      "[Parallel(n_jobs=-1)]: Done   3 out of   3 | elapsed:  1.2min finished\n",
      "[Parallel(n_jobs=-1)]: Using backend LokyBackend with 12 concurrent workers.\n"
     ]
    },
    {
     "name": "stdout",
     "output_type": "stream",
     "text": [
      "K-Fold #1\n",
      "Mean negativities for all classes: [0.3568365777428376, 0.3296500057833403, 0.08696689044514967]\n",
      "Mean entropies for all classes: [4.1304137382472356e-15, 3.3905569931105095e-15, 3.5542345992234376e-15]\n",
      "              precision    recall  f1-score   support\n",
      "\n",
      "           0       0.00      0.00      0.00         5\n",
      "           1       0.00      0.00      0.00         5\n",
      "           2       0.14      0.20      0.17         5\n",
      "\n",
      "    accuracy                           0.07        15\n",
      "   macro avg       0.05      0.07      0.06        15\n",
      "weighted avg       0.05      0.07      0.06        15\n",
      "\n",
      "-------------------------------------------------------------------------------------------------------------------\n"
     ]
    },
    {
     "name": "stderr",
     "output_type": "stream",
     "text": [
      "[Parallel(n_jobs=-1)]: Done   3 out of   3 | elapsed:  1.2min finished\n",
      "[Parallel(n_jobs=-1)]: Using backend LokyBackend with 12 concurrent workers.\n"
     ]
    },
    {
     "name": "stdout",
     "output_type": "stream",
     "text": [
      "K-Fold #2\n",
      "Mean negativities for all classes: [0.3627684858335853, 0.3425400744640122, 0.08720094799477192]\n",
      "Mean entropies for all classes: [3.589309845218425e-15, 3.592208151546088e-15, 3.426411385328648e-15]\n",
      "              precision    recall  f1-score   support\n",
      "\n",
      "           0       0.00      0.00      0.00         5\n",
      "           1       0.00      0.00      0.00         5\n",
      "           2       0.27      0.60      0.37         5\n",
      "\n",
      "    accuracy                           0.20        15\n",
      "   macro avg       0.09      0.20      0.12        15\n",
      "weighted avg       0.09      0.20      0.12        15\n",
      "\n",
      "-------------------------------------------------------------------------------------------------------------------\n"
     ]
    },
    {
     "name": "stderr",
     "output_type": "stream",
     "text": [
      "[Parallel(n_jobs=-1)]: Done   3 out of   3 | elapsed:  1.2min finished\n",
      "c:\\ProgramData\\Anaconda3\\lib\\site-packages\\sklearn\\metrics\\_classification.py:1344: UndefinedMetricWarning: Precision and F-score are ill-defined and being set to 0.0 in labels with no predicted samples. Use `zero_division` parameter to control this behavior.\n",
      "  _warn_prf(average, modifier, msg_start, len(result))\n",
      "c:\\ProgramData\\Anaconda3\\lib\\site-packages\\sklearn\\metrics\\_classification.py:1344: UndefinedMetricWarning: Precision and F-score are ill-defined and being set to 0.0 in labels with no predicted samples. Use `zero_division` parameter to control this behavior.\n",
      "  _warn_prf(average, modifier, msg_start, len(result))\n",
      "c:\\ProgramData\\Anaconda3\\lib\\site-packages\\sklearn\\metrics\\_classification.py:1344: UndefinedMetricWarning: Precision and F-score are ill-defined and being set to 0.0 in labels with no predicted samples. Use `zero_division` parameter to control this behavior.\n",
      "  _warn_prf(average, modifier, msg_start, len(result))\n",
      "[Parallel(n_jobs=-1)]: Using backend LokyBackend with 12 concurrent workers.\n"
     ]
    },
    {
     "name": "stdout",
     "output_type": "stream",
     "text": [
      "K-Fold #3\n",
      "Mean negativities for all classes: [0.3524851107230557, 0.31551409384497275, 0.08671385573490485]\n",
      "Mean entropies for all classes: [3.923315045174879e-15, 3.833449734888788e-15, 3.219384981419354e-15]\n",
      "              precision    recall  f1-score   support\n",
      "\n",
      "           0       0.00      0.00      0.00         5\n",
      "           1       0.00      0.00      0.00         5\n",
      "           2       0.33      0.60      0.43         5\n",
      "\n",
      "    accuracy                           0.20        15\n",
      "   macro avg       0.11      0.20      0.14        15\n",
      "weighted avg       0.11      0.20      0.14        15\n",
      "\n",
      "-------------------------------------------------------------------------------------------------------------------\n"
     ]
    },
    {
     "name": "stderr",
     "output_type": "stream",
     "text": [
      "[Parallel(n_jobs=-1)]: Done   3 out of   3 | elapsed:  1.2min finished\n",
      "[Parallel(n_jobs=-1)]: Using backend LokyBackend with 12 concurrent workers.\n"
     ]
    },
    {
     "name": "stdout",
     "output_type": "stream",
     "text": [
      "K-Fold #4\n",
      "Mean negativities for all classes: [0.3566674272729599, 0.34082741569313746, 0.08626979707052755]\n",
      "Mean entropies for all classes: [3.70205401718912e-15, 3.422815531212331e-15, 3.728525836126586e-15]\n",
      "              precision    recall  f1-score   support\n",
      "\n",
      "           0       1.00      0.20      0.33         5\n",
      "           1       0.00      0.00      0.00         5\n",
      "           2       0.36      0.80      0.50         5\n",
      "\n",
      "    accuracy                           0.33        15\n",
      "   macro avg       0.45      0.33      0.28        15\n",
      "weighted avg       0.45      0.33      0.28        15\n",
      "\n",
      "-------------------------------------------------------------------------------------------------------------------\n"
     ]
    },
    {
     "name": "stderr",
     "output_type": "stream",
     "text": [
      "[Parallel(n_jobs=-1)]: Done   3 out of   3 | elapsed:  1.2min finished\n",
      "c:\\ProgramData\\Anaconda3\\lib\\site-packages\\sklearn\\metrics\\_classification.py:1344: UndefinedMetricWarning: Precision and F-score are ill-defined and being set to 0.0 in labels with no predicted samples. Use `zero_division` parameter to control this behavior.\n",
      "  _warn_prf(average, modifier, msg_start, len(result))\n",
      "c:\\ProgramData\\Anaconda3\\lib\\site-packages\\sklearn\\metrics\\_classification.py:1344: UndefinedMetricWarning: Precision and F-score are ill-defined and being set to 0.0 in labels with no predicted samples. Use `zero_division` parameter to control this behavior.\n",
      "  _warn_prf(average, modifier, msg_start, len(result))\n",
      "c:\\ProgramData\\Anaconda3\\lib\\site-packages\\sklearn\\metrics\\_classification.py:1344: UndefinedMetricWarning: Precision and F-score are ill-defined and being set to 0.0 in labels with no predicted samples. Use `zero_division` parameter to control this behavior.\n",
      "  _warn_prf(average, modifier, msg_start, len(result))\n",
      "[Parallel(n_jobs=-1)]: Using backend LokyBackend with 12 concurrent workers.\n"
     ]
    },
    {
     "name": "stdout",
     "output_type": "stream",
     "text": [
      "K-Fold #5\n",
      "Mean negativities for all classes: [0.3746290835483864, 0.32244255126563603, 0.0871044078639323]\n",
      "Mean entropies for all classes: [3.845249131027633e-15, 3.718420427890423e-15, 4.402536942574534e-15]\n",
      "              precision    recall  f1-score   support\n",
      "\n",
      "           0       0.00      0.00      0.00         5\n",
      "           1       0.00      0.00      0.00         5\n",
      "           2       0.22      0.40      0.29         5\n",
      "\n",
      "    accuracy                           0.13        15\n",
      "   macro avg       0.07      0.13      0.10        15\n",
      "weighted avg       0.07      0.13      0.10        15\n",
      "\n",
      "-------------------------------------------------------------------------------------------------------------------\n"
     ]
    },
    {
     "name": "stderr",
     "output_type": "stream",
     "text": [
      "[Parallel(n_jobs=-1)]: Done   3 out of   3 | elapsed:  1.2min finished\n",
      "[Parallel(n_jobs=-1)]: Using backend LokyBackend with 12 concurrent workers.\n"
     ]
    },
    {
     "name": "stdout",
     "output_type": "stream",
     "text": [
      "K-Fold #6\n",
      "Mean negativities for all classes: [0.3605860373223193, 0.32278174371466667, 0.08724760986724363]\n",
      "Mean entropies for all classes: [4.375792959059829e-15, 3.1976438832759963e-15, 3.349153478446322e-15]\n",
      "              precision    recall  f1-score   support\n",
      "\n",
      "           0       1.00      0.20      0.33         5\n",
      "           1       0.00      0.00      0.00         5\n",
      "           2       0.12      0.20      0.15         5\n",
      "\n",
      "    accuracy                           0.13        15\n",
      "   macro avg       0.38      0.13      0.16        15\n",
      "weighted avg       0.38      0.13      0.16        15\n",
      "\n",
      "-------------------------------------------------------------------------------------------------------------------\n"
     ]
    },
    {
     "name": "stderr",
     "output_type": "stream",
     "text": [
      "[Parallel(n_jobs=-1)]: Done   3 out of   3 | elapsed:  1.2min finished\n",
      "[Parallel(n_jobs=-1)]: Using backend LokyBackend with 12 concurrent workers.\n"
     ]
    },
    {
     "name": "stdout",
     "output_type": "stream",
     "text": [
      "K-Fold #7\n",
      "Mean negativities for all classes: [0.36370625898131037, 0.32289848425531303, 0.08732067893701713]\n",
      "Mean entropies for all classes: [3.472277447388454e-15, 3.9842476980962045e-15, 3.365333983951248e-15]\n",
      "              precision    recall  f1-score   support\n",
      "\n",
      "           0       1.00      0.20      0.33         5\n",
      "           1       0.00      0.00      0.00         5\n",
      "           2       0.36      0.80      0.50         5\n",
      "\n",
      "    accuracy                           0.33        15\n",
      "   macro avg       0.45      0.33      0.28        15\n",
      "weighted avg       0.45      0.33      0.28        15\n",
      "\n",
      "-------------------------------------------------------------------------------------------------------------------\n"
     ]
    },
    {
     "name": "stderr",
     "output_type": "stream",
     "text": [
      "[Parallel(n_jobs=-1)]: Done   3 out of   3 | elapsed:  1.2min finished\n",
      "[Parallel(n_jobs=-1)]: Using backend LokyBackend with 12 concurrent workers.\n"
     ]
    },
    {
     "name": "stdout",
     "output_type": "stream",
     "text": [
      "K-Fold #8\n",
      "Mean negativities for all classes: [0.3684797269127664, 0.2995047775964204, 0.08766078633513605]\n",
      "Mean entropies for all classes: [3.31171695129052e-15, 2.962568752701121e-15, 3.5317123446523375e-15]\n",
      "              precision    recall  f1-score   support\n",
      "\n",
      "           0       1.00      0.20      0.33         5\n",
      "           1       0.00      0.00      0.00         5\n",
      "           2       0.20      0.40      0.27         5\n",
      "\n",
      "    accuracy                           0.20        15\n",
      "   macro avg       0.40      0.20      0.20        15\n",
      "weighted avg       0.40      0.20      0.20        15\n",
      "\n",
      "-------------------------------------------------------------------------------------------------------------------\n"
     ]
    },
    {
     "name": "stderr",
     "output_type": "stream",
     "text": [
      "[Parallel(n_jobs=-1)]: Done   3 out of   3 | elapsed:  1.2min finished\n",
      "[Parallel(n_jobs=-1)]: Using backend LokyBackend with 12 concurrent workers.\n"
     ]
    },
    {
     "name": "stdout",
     "output_type": "stream",
     "text": [
      "K-Fold #9\n",
      "Mean negativities for all classes: [0.3638804210617716, 0.3429129230030483, 0.08701377879193331]\n",
      "Mean entropies for all classes: [4.161741064404135e-15, 3.635142371115274e-15, 3.520378124735006e-15]\n",
      "              precision    recall  f1-score   support\n",
      "\n",
      "           0       1.00      0.20      0.33         5\n",
      "           1       0.00      0.00      0.00         5\n",
      "           2       0.44      0.80      0.57         5\n",
      "\n",
      "    accuracy                           0.33        15\n",
      "   macro avg       0.48      0.33      0.30        15\n",
      "weighted avg       0.48      0.33      0.30        15\n",
      "\n",
      "-------------------------------------------------------------------------------------------------------------------\n",
      "AVG: Scores = 0.21333333333333332 F1-Scores = 0.17810439560439564 Negativity = [0.2509711154352656, 0.25781782465710923, 0.2641698360974565] Entropy = [3.8850138199596234e-15, 3.691735110193728e-15, 3.535976460697721e-15]\n"
     ]
    },
    {
     "name": "stderr",
     "output_type": "stream",
     "text": [
      "[Parallel(n_jobs=-1)]: Done   3 out of   3 | elapsed:  1.2min finished\n",
      "[Parallel(n_jobs=-1)]: Using backend LokyBackend with 12 concurrent workers.\n"
     ]
    },
    {
     "name": "stdout",
     "output_type": "stream",
     "text": [
      "K-Fold #0\n",
      "Mean negativities for all classes: [0.3588301472683474, 0.3118740284835107, 0.08724973360792175]\n",
      "Mean entropies for all classes: [3.3939272336475725e-15, 3.556474471103233e-15, 4.474610533377188e-15]\n",
      "              precision    recall  f1-score   support\n",
      "\n",
      "           0       1.00      0.40      0.57         5\n",
      "           1       0.00      0.00      0.00         5\n",
      "           2       0.36      0.80      0.50         5\n",
      "\n",
      "    accuracy                           0.40        15\n",
      "   macro avg       0.45      0.40      0.36        15\n",
      "weighted avg       0.45      0.40      0.36        15\n",
      "\n",
      "-------------------------------------------------------------------------------------------------------------------\n"
     ]
    },
    {
     "name": "stderr",
     "output_type": "stream",
     "text": [
      "[Parallel(n_jobs=-1)]: Done   3 out of   3 | elapsed:  1.2min finished\n",
      "c:\\ProgramData\\Anaconda3\\lib\\site-packages\\sklearn\\metrics\\_classification.py:1344: UndefinedMetricWarning: Precision and F-score are ill-defined and being set to 0.0 in labels with no predicted samples. Use `zero_division` parameter to control this behavior.\n",
      "  _warn_prf(average, modifier, msg_start, len(result))\n",
      "c:\\ProgramData\\Anaconda3\\lib\\site-packages\\sklearn\\metrics\\_classification.py:1344: UndefinedMetricWarning: Precision and F-score are ill-defined and being set to 0.0 in labels with no predicted samples. Use `zero_division` parameter to control this behavior.\n",
      "  _warn_prf(average, modifier, msg_start, len(result))\n",
      "c:\\ProgramData\\Anaconda3\\lib\\site-packages\\sklearn\\metrics\\_classification.py:1344: UndefinedMetricWarning: Precision and F-score are ill-defined and being set to 0.0 in labels with no predicted samples. Use `zero_division` parameter to control this behavior.\n",
      "  _warn_prf(average, modifier, msg_start, len(result))\n",
      "[Parallel(n_jobs=-1)]: Using backend LokyBackend with 12 concurrent workers.\n"
     ]
    },
    {
     "name": "stdout",
     "output_type": "stream",
     "text": [
      "K-Fold #1\n",
      "Mean negativities for all classes: [0.36004619903822976, 0.3266033767927484, 0.08644062396999894]\n",
      "Mean entropies for all classes: [3.755316079950642e-15, 3.727069667402847e-15, 3.615381198976936e-15]\n",
      "              precision    recall  f1-score   support\n",
      "\n",
      "           0       0.00      0.00      0.00         5\n",
      "           1       0.00      0.00      0.00         5\n",
      "           2       0.30      0.60      0.40         5\n",
      "\n",
      "    accuracy                           0.20        15\n",
      "   macro avg       0.10      0.20      0.13        15\n",
      "weighted avg       0.10      0.20      0.13        15\n",
      "\n",
      "-------------------------------------------------------------------------------------------------------------------\n"
     ]
    },
    {
     "name": "stderr",
     "output_type": "stream",
     "text": [
      "[Parallel(n_jobs=-1)]: Done   3 out of   3 | elapsed:  1.2min finished\n",
      "c:\\ProgramData\\Anaconda3\\lib\\site-packages\\sklearn\\metrics\\_classification.py:1344: UndefinedMetricWarning: Precision and F-score are ill-defined and being set to 0.0 in labels with no predicted samples. Use `zero_division` parameter to control this behavior.\n",
      "  _warn_prf(average, modifier, msg_start, len(result))\n",
      "c:\\ProgramData\\Anaconda3\\lib\\site-packages\\sklearn\\metrics\\_classification.py:1344: UndefinedMetricWarning: Precision and F-score are ill-defined and being set to 0.0 in labels with no predicted samples. Use `zero_division` parameter to control this behavior.\n",
      "  _warn_prf(average, modifier, msg_start, len(result))\n",
      "c:\\ProgramData\\Anaconda3\\lib\\site-packages\\sklearn\\metrics\\_classification.py:1344: UndefinedMetricWarning: Precision and F-score are ill-defined and being set to 0.0 in labels with no predicted samples. Use `zero_division` parameter to control this behavior.\n",
      "  _warn_prf(average, modifier, msg_start, len(result))\n",
      "[Parallel(n_jobs=-1)]: Using backend LokyBackend with 12 concurrent workers.\n"
     ]
    },
    {
     "name": "stdout",
     "output_type": "stream",
     "text": [
      "K-Fold #2\n",
      "Mean negativities for all classes: [0.35908643703190257, 0.34572490198890543, 0.08640868558280936]\n",
      "Mean entropies for all classes: [3.1772517871666777e-15, 4.4069340750310875e-15, 4.407134083082834e-15]\n",
      "              precision    recall  f1-score   support\n",
      "\n",
      "           0       0.00      0.00      0.00         5\n",
      "           1       0.00      0.00      0.00         5\n",
      "           2       0.20      0.40      0.27         5\n",
      "\n",
      "    accuracy                           0.13        15\n",
      "   macro avg       0.07      0.13      0.09        15\n",
      "weighted avg       0.07      0.13      0.09        15\n",
      "\n",
      "-------------------------------------------------------------------------------------------------------------------\n"
     ]
    },
    {
     "name": "stderr",
     "output_type": "stream",
     "text": [
      "[Parallel(n_jobs=-1)]: Done   3 out of   3 | elapsed:  1.2min finished\n",
      "c:\\ProgramData\\Anaconda3\\lib\\site-packages\\sklearn\\metrics\\_classification.py:1344: UndefinedMetricWarning: Precision and F-score are ill-defined and being set to 0.0 in labels with no predicted samples. Use `zero_division` parameter to control this behavior.\n",
      "  _warn_prf(average, modifier, msg_start, len(result))\n",
      "c:\\ProgramData\\Anaconda3\\lib\\site-packages\\sklearn\\metrics\\_classification.py:1344: UndefinedMetricWarning: Precision and F-score are ill-defined and being set to 0.0 in labels with no predicted samples. Use `zero_division` parameter to control this behavior.\n",
      "  _warn_prf(average, modifier, msg_start, len(result))\n",
      "c:\\ProgramData\\Anaconda3\\lib\\site-packages\\sklearn\\metrics\\_classification.py:1344: UndefinedMetricWarning: Precision and F-score are ill-defined and being set to 0.0 in labels with no predicted samples. Use `zero_division` parameter to control this behavior.\n",
      "  _warn_prf(average, modifier, msg_start, len(result))\n",
      "[Parallel(n_jobs=-1)]: Using backend LokyBackend with 12 concurrent workers.\n"
     ]
    },
    {
     "name": "stdout",
     "output_type": "stream",
     "text": [
      "K-Fold #3\n",
      "Mean negativities for all classes: [0.364099701578663, 0.3085833763672388, 0.08772144672846933]\n",
      "Mean entropies for all classes: [3.145262301253536e-15, 3.425101062550733e-15, 3.675631234198768e-15]\n",
      "              precision    recall  f1-score   support\n",
      "\n",
      "           0       0.00      0.00      0.00         5\n",
      "           1       0.00      0.00      0.00         5\n",
      "           2       0.20      0.40      0.27         5\n",
      "\n",
      "    accuracy                           0.13        15\n",
      "   macro avg       0.07      0.13      0.09        15\n",
      "weighted avg       0.07      0.13      0.09        15\n",
      "\n",
      "-------------------------------------------------------------------------------------------------------------------\n"
     ]
    },
    {
     "name": "stderr",
     "output_type": "stream",
     "text": [
      "[Parallel(n_jobs=-1)]: Done   3 out of   3 | elapsed:  1.2min finished\n",
      "c:\\ProgramData\\Anaconda3\\lib\\site-packages\\sklearn\\metrics\\_classification.py:1344: UndefinedMetricWarning: Precision and F-score are ill-defined and being set to 0.0 in labels with no predicted samples. Use `zero_division` parameter to control this behavior.\n",
      "  _warn_prf(average, modifier, msg_start, len(result))\n",
      "c:\\ProgramData\\Anaconda3\\lib\\site-packages\\sklearn\\metrics\\_classification.py:1344: UndefinedMetricWarning: Precision and F-score are ill-defined and being set to 0.0 in labels with no predicted samples. Use `zero_division` parameter to control this behavior.\n",
      "  _warn_prf(average, modifier, msg_start, len(result))\n",
      "c:\\ProgramData\\Anaconda3\\lib\\site-packages\\sklearn\\metrics\\_classification.py:1344: UndefinedMetricWarning: Precision and F-score are ill-defined and being set to 0.0 in labels with no predicted samples. Use `zero_division` parameter to control this behavior.\n",
      "  _warn_prf(average, modifier, msg_start, len(result))\n",
      "[Parallel(n_jobs=-1)]: Using backend LokyBackend with 12 concurrent workers.\n"
     ]
    },
    {
     "name": "stdout",
     "output_type": "stream",
     "text": [
      "K-Fold #4\n",
      "Mean negativities for all classes: [0.3588342185800492, 0.3234792323003035, 0.0867193687871639]\n",
      "Mean entropies for all classes: [3.902170025352911e-15, 3.8921247582217006e-15, 3.936458540709476e-15]\n",
      "              precision    recall  f1-score   support\n",
      "\n",
      "           0       0.00      0.00      0.00         5\n",
      "           1       0.00      0.00      0.00         5\n",
      "           2       0.11      0.20      0.14         5\n",
      "\n",
      "    accuracy                           0.07        15\n",
      "   macro avg       0.04      0.07      0.05        15\n",
      "weighted avg       0.04      0.07      0.05        15\n",
      "\n",
      "-------------------------------------------------------------------------------------------------------------------\n"
     ]
    },
    {
     "name": "stderr",
     "output_type": "stream",
     "text": [
      "[Parallel(n_jobs=-1)]: Done   3 out of   3 | elapsed:  1.2min finished\n",
      "c:\\ProgramData\\Anaconda3\\lib\\site-packages\\sklearn\\metrics\\_classification.py:1344: UndefinedMetricWarning: Precision and F-score are ill-defined and being set to 0.0 in labels with no predicted samples. Use `zero_division` parameter to control this behavior.\n",
      "  _warn_prf(average, modifier, msg_start, len(result))\n",
      "c:\\ProgramData\\Anaconda3\\lib\\site-packages\\sklearn\\metrics\\_classification.py:1344: UndefinedMetricWarning: Precision and F-score are ill-defined and being set to 0.0 in labels with no predicted samples. Use `zero_division` parameter to control this behavior.\n",
      "  _warn_prf(average, modifier, msg_start, len(result))\n",
      "c:\\ProgramData\\Anaconda3\\lib\\site-packages\\sklearn\\metrics\\_classification.py:1344: UndefinedMetricWarning: Precision and F-score are ill-defined and being set to 0.0 in labels with no predicted samples. Use `zero_division` parameter to control this behavior.\n",
      "  _warn_prf(average, modifier, msg_start, len(result))\n",
      "[Parallel(n_jobs=-1)]: Using backend LokyBackend with 12 concurrent workers.\n"
     ]
    },
    {
     "name": "stdout",
     "output_type": "stream",
     "text": [
      "K-Fold #5\n",
      "Mean negativities for all classes: [0.366919804999636, 0.3106996655104689, 0.08768407722477312]\n",
      "Mean entropies for all classes: [3.3586668378722674e-15, 2.7566525356313024e-15, 3.1795515414942953e-15]\n",
      "              precision    recall  f1-score   support\n",
      "\n",
      "           0       0.00      0.00      0.00         5\n",
      "           1       0.00      0.00      0.00         5\n",
      "           2       0.25      0.60      0.35         5\n",
      "\n",
      "    accuracy                           0.20        15\n",
      "   macro avg       0.08      0.20      0.12        15\n",
      "weighted avg       0.08      0.20      0.12        15\n",
      "\n",
      "-------------------------------------------------------------------------------------------------------------------\n"
     ]
    },
    {
     "name": "stderr",
     "output_type": "stream",
     "text": [
      "[Parallel(n_jobs=-1)]: Done   3 out of   3 | elapsed:  1.2min finished\n",
      "[Parallel(n_jobs=-1)]: Using backend LokyBackend with 12 concurrent workers.\n"
     ]
    },
    {
     "name": "stdout",
     "output_type": "stream",
     "text": [
      "K-Fold #6\n",
      "Mean negativities for all classes: [0.36486877785196836, 0.32111760351646695, 0.08687254731249583]\n",
      "Mean entropies for all classes: [4.1533326211677046e-15, 3.1387765355589083e-15, 3.560316826285706e-15]\n",
      "              precision    recall  f1-score   support\n",
      "\n",
      "           0       1.00      0.20      0.33         5\n",
      "           1       0.00      0.00      0.00         5\n",
      "           2       0.12      0.20      0.15         5\n",
      "\n",
      "    accuracy                           0.13        15\n",
      "   macro avg       0.38      0.13      0.16        15\n",
      "weighted avg       0.38      0.13      0.16        15\n",
      "\n",
      "-------------------------------------------------------------------------------------------------------------------\n"
     ]
    },
    {
     "name": "stderr",
     "output_type": "stream",
     "text": [
      "[Parallel(n_jobs=-1)]: Done   3 out of   3 | elapsed:  1.2min finished\n",
      "[Parallel(n_jobs=-1)]: Using backend LokyBackend with 12 concurrent workers.\n"
     ]
    },
    {
     "name": "stdout",
     "output_type": "stream",
     "text": [
      "K-Fold #7\n",
      "Mean negativities for all classes: [0.34861482169772573, 0.35517360074330817, 0.08667378228542869]\n",
      "Mean entropies for all classes: [3.0590156362350783e-15, 3.3064228827039585e-15, 3.3516995920693593e-15]\n",
      "              precision    recall  f1-score   support\n",
      "\n",
      "           0       0.00      0.00      0.00         5\n",
      "           1       0.00      0.00      0.00         5\n",
      "           2       0.44      0.80      0.57         5\n",
      "\n",
      "    accuracy                           0.27        15\n",
      "   macro avg       0.15      0.27      0.19        15\n",
      "weighted avg       0.15      0.27      0.19        15\n",
      "\n",
      "-------------------------------------------------------------------------------------------------------------------\n"
     ]
    },
    {
     "name": "stderr",
     "output_type": "stream",
     "text": [
      "[Parallel(n_jobs=-1)]: Done   3 out of   3 | elapsed:  1.2min finished\n",
      "[Parallel(n_jobs=-1)]: Using backend LokyBackend with 12 concurrent workers.\n"
     ]
    },
    {
     "name": "stdout",
     "output_type": "stream",
     "text": [
      "K-Fold #8\n",
      "Mean negativities for all classes: [0.361926664777381, 0.32793465559791446, 0.08784808989766087]\n",
      "Mean entropies for all classes: [3.908479988583748e-15, 3.6076890517156165e-15, 3.182909880545152e-15]\n",
      "              precision    recall  f1-score   support\n",
      "\n",
      "           0       1.00      0.20      0.33         5\n",
      "           1       0.00      0.00      0.00         5\n",
      "           2       0.30      0.60      0.40         5\n",
      "\n",
      "    accuracy                           0.27        15\n",
      "   macro avg       0.43      0.27      0.24        15\n",
      "weighted avg       0.43      0.27      0.24        15\n",
      "\n",
      "-------------------------------------------------------------------------------------------------------------------\n"
     ]
    },
    {
     "name": "stderr",
     "output_type": "stream",
     "text": [
      "[Parallel(n_jobs=-1)]: Done   3 out of   3 | elapsed:  1.2min finished\n",
      "[Parallel(n_jobs=-1)]: Using backend LokyBackend with 12 concurrent workers.\n"
     ]
    },
    {
     "name": "stdout",
     "output_type": "stream",
     "text": [
      "K-Fold #9\n",
      "Mean negativities for all classes: [0.3752532825143635, 0.3233526544149834, 0.08776287942620999]\n",
      "Mean entropies for all classes: [3.777263638407649e-15, 3.2924021059075482e-15, 3.752745993463075e-15]\n",
      "              precision    recall  f1-score   support\n",
      "\n",
      "           0       1.00      0.20      0.33         5\n",
      "           1       0.00      0.00      0.00         5\n",
      "           2       0.36      0.80      0.50         5\n",
      "\n",
      "    accuracy                           0.33        15\n",
      "   macro avg       0.45      0.33      0.28        15\n",
      "weighted avg       0.45      0.33      0.28        15\n",
      "\n",
      "-------------------------------------------------------------------------------------------------------------------\n",
      "AVG: Scores = 0.21333333333333332 F1-Scores = 0.17086116497881204 Negativity = [0.2526513031199266, 0.2576967332669924, 0.26374000820120574] Entropy = [3.808337412709331e-15, 3.699255648776808e-15, 3.997106648426866e-15]\n"
     ]
    },
    {
     "name": "stderr",
     "output_type": "stream",
     "text": [
      "[Parallel(n_jobs=-1)]: Done   3 out of   3 | elapsed:  1.2min finished\n",
      "[Parallel(n_jobs=-1)]: Using backend LokyBackend with 12 concurrent workers.\n"
     ]
    },
    {
     "name": "stdout",
     "output_type": "stream",
     "text": [
      "K-Fold #0\n",
      "Mean negativities for all classes: [0.36553514501038786, 0.30155872228503433, 0.08753732005572987]\n",
      "Mean entropies for all classes: [3.0720687467861543e-15, 4.137153602502427e-15, 3.592489064449125e-15]\n",
      "              precision    recall  f1-score   support\n",
      "\n",
      "           0       1.00      0.20      0.33         5\n",
      "           1       0.00      0.00      0.00         5\n",
      "           2       0.25      0.40      0.31         5\n",
      "\n",
      "    accuracy                           0.20        15\n",
      "   macro avg       0.42      0.20      0.21        15\n",
      "weighted avg       0.42      0.20      0.21        15\n",
      "\n",
      "-------------------------------------------------------------------------------------------------------------------\n"
     ]
    },
    {
     "name": "stderr",
     "output_type": "stream",
     "text": [
      "[Parallel(n_jobs=-1)]: Done   3 out of   3 | elapsed:  1.2min finished\n",
      "[Parallel(n_jobs=-1)]: Using backend LokyBackend with 12 concurrent workers.\n"
     ]
    },
    {
     "name": "stdout",
     "output_type": "stream",
     "text": [
      "K-Fold #1\n",
      "Mean negativities for all classes: [0.3501916758563291, 0.3293962639693272, 0.08695665516148682]\n",
      "Mean entropies for all classes: [3.576507975526628e-15, 4.058241803392039e-15, 3.802958884767392e-15]\n",
      "              precision    recall  f1-score   support\n",
      "\n",
      "           0       1.00      0.20      0.33         5\n",
      "           1       0.00      0.00      0.00         5\n",
      "           2       0.36      0.80      0.50         5\n",
      "\n",
      "    accuracy                           0.33        15\n",
      "   macro avg       0.45      0.33      0.28        15\n",
      "weighted avg       0.45      0.33      0.28        15\n",
      "\n",
      "-------------------------------------------------------------------------------------------------------------------\n"
     ]
    },
    {
     "name": "stderr",
     "output_type": "stream",
     "text": [
      "[Parallel(n_jobs=-1)]: Done   3 out of   3 | elapsed:  1.2min finished\n",
      "[Parallel(n_jobs=-1)]: Using backend LokyBackend with 12 concurrent workers.\n"
     ]
    },
    {
     "name": "stdout",
     "output_type": "stream",
     "text": [
      "K-Fold #2\n",
      "Mean negativities for all classes: [0.368248715363718, 0.3317190601662511, 0.08678435924437705]\n",
      "Mean entropies for all classes: [4.002899280457541e-15, 4.229507938080041e-15, 4.1576400938928466e-15]\n",
      "              precision    recall  f1-score   support\n",
      "\n",
      "           0       1.00      0.20      0.33         5\n",
      "           1       0.00      0.00      0.00         5\n",
      "           2       0.40      0.80      0.53         5\n",
      "\n",
      "    accuracy                           0.33        15\n",
      "   macro avg       0.47      0.33      0.29        15\n",
      "weighted avg       0.47      0.33      0.29        15\n",
      "\n",
      "-------------------------------------------------------------------------------------------------------------------\n"
     ]
    },
    {
     "name": "stderr",
     "output_type": "stream",
     "text": [
      "[Parallel(n_jobs=-1)]: Done   3 out of   3 | elapsed:  1.2min finished\n",
      "c:\\ProgramData\\Anaconda3\\lib\\site-packages\\sklearn\\metrics\\_classification.py:1344: UndefinedMetricWarning: Precision and F-score are ill-defined and being set to 0.0 in labels with no predicted samples. Use `zero_division` parameter to control this behavior.\n",
      "  _warn_prf(average, modifier, msg_start, len(result))\n",
      "c:\\ProgramData\\Anaconda3\\lib\\site-packages\\sklearn\\metrics\\_classification.py:1344: UndefinedMetricWarning: Precision and F-score are ill-defined and being set to 0.0 in labels with no predicted samples. Use `zero_division` parameter to control this behavior.\n",
      "  _warn_prf(average, modifier, msg_start, len(result))\n",
      "c:\\ProgramData\\Anaconda3\\lib\\site-packages\\sklearn\\metrics\\_classification.py:1344: UndefinedMetricWarning: Precision and F-score are ill-defined and being set to 0.0 in labels with no predicted samples. Use `zero_division` parameter to control this behavior.\n",
      "  _warn_prf(average, modifier, msg_start, len(result))\n",
      "[Parallel(n_jobs=-1)]: Using backend LokyBackend with 12 concurrent workers.\n"
     ]
    },
    {
     "name": "stdout",
     "output_type": "stream",
     "text": [
      "K-Fold #3\n",
      "Mean negativities for all classes: [0.3647879480844354, 0.3165337054248814, 0.08680131814913156]\n",
      "Mean entropies for all classes: [4.461098436381868e-15, 3.559019509276644e-15, 3.666082839399162e-15]\n",
      "              precision    recall  f1-score   support\n",
      "\n",
      "           0       0.00      0.00      0.00         5\n",
      "           1       0.00      0.00      0.00         5\n",
      "           2       0.22      0.40      0.29         5\n",
      "\n",
      "    accuracy                           0.13        15\n",
      "   macro avg       0.07      0.13      0.10        15\n",
      "weighted avg       0.07      0.13      0.10        15\n",
      "\n",
      "-------------------------------------------------------------------------------------------------------------------\n"
     ]
    },
    {
     "name": "stderr",
     "output_type": "stream",
     "text": [
      "[Parallel(n_jobs=-1)]: Done   3 out of   3 | elapsed:  1.2min finished\n",
      "c:\\ProgramData\\Anaconda3\\lib\\site-packages\\sklearn\\metrics\\_classification.py:1344: UndefinedMetricWarning: Precision and F-score are ill-defined and being set to 0.0 in labels with no predicted samples. Use `zero_division` parameter to control this behavior.\n",
      "  _warn_prf(average, modifier, msg_start, len(result))\n",
      "c:\\ProgramData\\Anaconda3\\lib\\site-packages\\sklearn\\metrics\\_classification.py:1344: UndefinedMetricWarning: Precision and F-score are ill-defined and being set to 0.0 in labels with no predicted samples. Use `zero_division` parameter to control this behavior.\n",
      "  _warn_prf(average, modifier, msg_start, len(result))\n",
      "c:\\ProgramData\\Anaconda3\\lib\\site-packages\\sklearn\\metrics\\_classification.py:1344: UndefinedMetricWarning: Precision and F-score are ill-defined and being set to 0.0 in labels with no predicted samples. Use `zero_division` parameter to control this behavior.\n",
      "  _warn_prf(average, modifier, msg_start, len(result))\n",
      "[Parallel(n_jobs=-1)]: Using backend LokyBackend with 12 concurrent workers.\n"
     ]
    },
    {
     "name": "stdout",
     "output_type": "stream",
     "text": [
      "K-Fold #4\n",
      "Mean negativities for all classes: [0.3487039959909954, 0.30943009909715263, 0.08690908434598549]\n",
      "Mean entropies for all classes: [3.138615639606092e-15, 3.369869744601175e-15, 3.980559220885601e-15]\n",
      "              precision    recall  f1-score   support\n",
      "\n",
      "           0       0.00      0.00      0.00         5\n",
      "           1       0.00      0.00      0.00         5\n",
      "           2       0.25      0.60      0.35         5\n",
      "\n",
      "    accuracy                           0.20        15\n",
      "   macro avg       0.08      0.20      0.12        15\n",
      "weighted avg       0.08      0.20      0.12        15\n",
      "\n",
      "-------------------------------------------------------------------------------------------------------------------\n"
     ]
    },
    {
     "name": "stderr",
     "output_type": "stream",
     "text": [
      "[Parallel(n_jobs=-1)]: Done   3 out of   3 | elapsed:  1.2min finished\n",
      "[Parallel(n_jobs=-1)]: Using backend LokyBackend with 12 concurrent workers.\n"
     ]
    },
    {
     "name": "stdout",
     "output_type": "stream",
     "text": [
      "K-Fold #5\n",
      "Mean negativities for all classes: [0.36329640610932185, 0.3276102855359502, 0.0868257978188129]\n",
      "Mean entropies for all classes: [3.595398611787705e-15, 3.7863575626159305e-15, 3.029797917756532e-15]\n",
      "              precision    recall  f1-score   support\n",
      "\n",
      "           0       0.00      0.00      0.00         5\n",
      "           1       0.00      0.00      0.00         5\n",
      "           2       0.29      0.40      0.33         5\n",
      "\n",
      "    accuracy                           0.13        15\n",
      "   macro avg       0.10      0.13      0.11        15\n",
      "weighted avg       0.10      0.13      0.11        15\n",
      "\n",
      "-------------------------------------------------------------------------------------------------------------------\n"
     ]
    },
    {
     "name": "stderr",
     "output_type": "stream",
     "text": [
      "[Parallel(n_jobs=-1)]: Done   3 out of   3 | elapsed:  1.2min finished\n",
      "[Parallel(n_jobs=-1)]: Using backend LokyBackend with 12 concurrent workers.\n"
     ]
    },
    {
     "name": "stdout",
     "output_type": "stream",
     "text": [
      "K-Fold #6\n",
      "Mean negativities for all classes: [0.3768096419840078, 0.32442257538222385, 0.08770592108072735]\n",
      "Mean entropies for all classes: [3.2174822535789605e-15, 4.122448399249318e-15, 3.1709516783137184e-15]\n",
      "              precision    recall  f1-score   support\n",
      "\n",
      "           0       1.00      0.20      0.33         5\n",
      "           1       0.00      0.00      0.00         5\n",
      "           2       0.22      0.40      0.29         5\n",
      "\n",
      "    accuracy                           0.20        15\n",
      "   macro avg       0.41      0.20      0.21        15\n",
      "weighted avg       0.41      0.20      0.21        15\n",
      "\n",
      "-------------------------------------------------------------------------------------------------------------------\n"
     ]
    },
    {
     "name": "stderr",
     "output_type": "stream",
     "text": [
      "[Parallel(n_jobs=-1)]: Done   3 out of   3 | elapsed:  1.2min finished\n",
      "[Parallel(n_jobs=-1)]: Using backend LokyBackend with 12 concurrent workers.\n"
     ]
    },
    {
     "name": "stdout",
     "output_type": "stream",
     "text": [
      "K-Fold #7\n",
      "Mean negativities for all classes: [0.3590928483175191, 0.3475497375749484, 0.08658079022072702]\n",
      "Mean entropies for all classes: [3.875003925742704e-15, 3.7547184914862225e-15, 2.8048387101154923e-15]\n",
      "              precision    recall  f1-score   support\n",
      "\n",
      "           0       0.50      0.20      0.29         5\n",
      "           1       0.00      0.00      0.00         5\n",
      "           2       0.30      0.60      0.40         5\n",
      "\n",
      "    accuracy                           0.27        15\n",
      "   macro avg       0.27      0.27      0.23        15\n",
      "weighted avg       0.27      0.27      0.23        15\n",
      "\n",
      "-------------------------------------------------------------------------------------------------------------------\n"
     ]
    },
    {
     "name": "stderr",
     "output_type": "stream",
     "text": [
      "[Parallel(n_jobs=-1)]: Done   3 out of   3 | elapsed:  1.2min finished\n",
      "[Parallel(n_jobs=-1)]: Using backend LokyBackend with 12 concurrent workers.\n"
     ]
    },
    {
     "name": "stdout",
     "output_type": "stream",
     "text": [
      "K-Fold #8\n",
      "Mean negativities for all classes: [0.3623860780752168, 0.31664577425870494, 0.08702086865654203]\n",
      "Mean entropies for all classes: [3.47457163939221e-15, 3.090432067761616e-15, 2.4741138448267385e-15]\n",
      "              precision    recall  f1-score   support\n",
      "\n",
      "           0       0.00      0.00      0.00         5\n",
      "           1       0.00      0.00      0.00         5\n",
      "           2       0.38      0.60      0.46         5\n",
      "\n",
      "    accuracy                           0.20        15\n",
      "   macro avg       0.12      0.20      0.15        15\n",
      "weighted avg       0.12      0.20      0.15        15\n",
      "\n",
      "-------------------------------------------------------------------------------------------------------------------\n"
     ]
    },
    {
     "name": "stderr",
     "output_type": "stream",
     "text": [
      "[Parallel(n_jobs=-1)]: Done   3 out of   3 | elapsed:  1.2min finished\n",
      "[Parallel(n_jobs=-1)]: Using backend LokyBackend with 12 concurrent workers.\n"
     ]
    },
    {
     "name": "stdout",
     "output_type": "stream",
     "text": [
      "K-Fold #9\n",
      "Mean negativities for all classes: [0.3620175979323991, 0.32304203979923074, 0.08768252852065918]\n",
      "Mean entropies for all classes: [3.192667939535144e-15, 4.603475455672307e-15, 3.0021043992614483e-15]\n",
      "              precision    recall  f1-score   support\n",
      "\n",
      "           0       0.50      0.20      0.29         5\n",
      "           1       0.00      0.00      0.00         5\n",
      "           2       0.44      0.80      0.57         5\n",
      "\n",
      "    accuracy                           0.33        15\n",
      "   macro avg       0.31      0.33      0.29        15\n",
      "weighted avg       0.31      0.33      0.29        15\n",
      "\n",
      "-------------------------------------------------------------------------------------------------------------------\n",
      "AVG: Scores = 0.23333333333333334 F1-Scores = 0.19788192199956908 Negativity = [0.2515437291170507, 0.2555148649957144, 0.26225071159144875] Entropy = [3.6005704712459024e-15, 3.812569554562019e-15, 4.130015770810143e-15]\n"
     ]
    },
    {
     "name": "stderr",
     "output_type": "stream",
     "text": [
      "[Parallel(n_jobs=-1)]: Done   3 out of   3 | elapsed:  1.2min finished\n",
      "[Parallel(n_jobs=-1)]: Using backend LokyBackend with 12 concurrent workers.\n"
     ]
    },
    {
     "name": "stdout",
     "output_type": "stream",
     "text": [
      "K-Fold #0\n",
      "Mean negativities for all classes: [0.36512102854839906, 0.33257556740630745, 0.08651698802202414]\n",
      "Mean entropies for all classes: [3.741106822559731e-15, 3.6608202929333084e-15, 2.730846264446464e-15]\n",
      "              precision    recall  f1-score   support\n",
      "\n",
      "           0       1.00      0.40      0.57         5\n",
      "           1       0.00      0.00      0.00         5\n",
      "           2       0.33      0.60      0.43         5\n",
      "\n",
      "    accuracy                           0.33        15\n",
      "   macro avg       0.44      0.33      0.33        15\n",
      "weighted avg       0.44      0.33      0.33        15\n",
      "\n",
      "-------------------------------------------------------------------------------------------------------------------\n"
     ]
    },
    {
     "name": "stderr",
     "output_type": "stream",
     "text": [
      "[Parallel(n_jobs=-1)]: Done   3 out of   3 | elapsed:  1.2min finished\n",
      "c:\\ProgramData\\Anaconda3\\lib\\site-packages\\sklearn\\metrics\\_classification.py:1344: UndefinedMetricWarning: Precision and F-score are ill-defined and being set to 0.0 in labels with no predicted samples. Use `zero_division` parameter to control this behavior.\n",
      "  _warn_prf(average, modifier, msg_start, len(result))\n",
      "c:\\ProgramData\\Anaconda3\\lib\\site-packages\\sklearn\\metrics\\_classification.py:1344: UndefinedMetricWarning: Precision and F-score are ill-defined and being set to 0.0 in labels with no predicted samples. Use `zero_division` parameter to control this behavior.\n",
      "  _warn_prf(average, modifier, msg_start, len(result))\n",
      "c:\\ProgramData\\Anaconda3\\lib\\site-packages\\sklearn\\metrics\\_classification.py:1344: UndefinedMetricWarning: Precision and F-score are ill-defined and being set to 0.0 in labels with no predicted samples. Use `zero_division` parameter to control this behavior.\n",
      "  _warn_prf(average, modifier, msg_start, len(result))\n",
      "[Parallel(n_jobs=-1)]: Using backend LokyBackend with 12 concurrent workers.\n"
     ]
    },
    {
     "name": "stdout",
     "output_type": "stream",
     "text": [
      "K-Fold #1\n",
      "Mean negativities for all classes: [0.36266925148070095, 0.3339827217688105, 0.08694347849783547]\n",
      "Mean entropies for all classes: [4.430759238573168e-15, 3.9532792084617255e-15, 3.3234409474113317e-15]\n",
      "              precision    recall  f1-score   support\n",
      "\n",
      "           0       0.00      0.00      0.00         5\n",
      "           1       0.00      0.00      0.00         5\n",
      "           2       0.20      0.40      0.27         5\n",
      "\n",
      "    accuracy                           0.13        15\n",
      "   macro avg       0.07      0.13      0.09        15\n",
      "weighted avg       0.07      0.13      0.09        15\n",
      "\n",
      "-------------------------------------------------------------------------------------------------------------------\n"
     ]
    },
    {
     "name": "stderr",
     "output_type": "stream",
     "text": [
      "[Parallel(n_jobs=-1)]: Done   3 out of   3 | elapsed:  1.2min finished\n",
      "[Parallel(n_jobs=-1)]: Using backend LokyBackend with 12 concurrent workers.\n"
     ]
    },
    {
     "name": "stdout",
     "output_type": "stream",
     "text": [
      "K-Fold #2\n",
      "Mean negativities for all classes: [0.34589580750670806, 0.32672584582148806, 0.08666332747196975]\n",
      "Mean entropies for all classes: [3.2260569661060106e-15, 3.0858594095280294e-15, 3.066161106240711e-15]\n",
      "              precision    recall  f1-score   support\n",
      "\n",
      "           0       1.00      0.40      0.57         5\n",
      "           1       0.00      0.00      0.00         5\n",
      "           2       0.36      0.80      0.50         5\n",
      "\n",
      "    accuracy                           0.40        15\n",
      "   macro avg       0.45      0.40      0.36        15\n",
      "weighted avg       0.45      0.40      0.36        15\n",
      "\n",
      "-------------------------------------------------------------------------------------------------------------------\n"
     ]
    },
    {
     "name": "stderr",
     "output_type": "stream",
     "text": [
      "[Parallel(n_jobs=-1)]: Done   3 out of   3 | elapsed:  1.2min finished\n",
      "[Parallel(n_jobs=-1)]: Using backend LokyBackend with 12 concurrent workers.\n"
     ]
    },
    {
     "name": "stdout",
     "output_type": "stream",
     "text": [
      "K-Fold #3\n",
      "Mean negativities for all classes: [0.36315776002562644, 0.3186918451375591, 0.08740568785946111]\n",
      "Mean entropies for all classes: [3.5722155673206295e-15, 3.780550541618557e-15, 3.933497982604771e-15]\n",
      "              precision    recall  f1-score   support\n",
      "\n",
      "           0       0.50      0.20      0.29         5\n",
      "           1       0.00      0.00      0.00         5\n",
      "           2       0.36      0.80      0.50         5\n",
      "\n",
      "    accuracy                           0.33        15\n",
      "   macro avg       0.29      0.33      0.26        15\n",
      "weighted avg       0.29      0.33      0.26        15\n",
      "\n",
      "-------------------------------------------------------------------------------------------------------------------\n"
     ]
    },
    {
     "name": "stderr",
     "output_type": "stream",
     "text": [
      "[Parallel(n_jobs=-1)]: Done   3 out of   3 | elapsed:  1.2min finished\n",
      "c:\\ProgramData\\Anaconda3\\lib\\site-packages\\sklearn\\metrics\\_classification.py:1344: UndefinedMetricWarning: Precision and F-score are ill-defined and being set to 0.0 in labels with no predicted samples. Use `zero_division` parameter to control this behavior.\n",
      "  _warn_prf(average, modifier, msg_start, len(result))\n",
      "c:\\ProgramData\\Anaconda3\\lib\\site-packages\\sklearn\\metrics\\_classification.py:1344: UndefinedMetricWarning: Precision and F-score are ill-defined and being set to 0.0 in labels with no predicted samples. Use `zero_division` parameter to control this behavior.\n",
      "  _warn_prf(average, modifier, msg_start, len(result))\n",
      "c:\\ProgramData\\Anaconda3\\lib\\site-packages\\sklearn\\metrics\\_classification.py:1344: UndefinedMetricWarning: Precision and F-score are ill-defined and being set to 0.0 in labels with no predicted samples. Use `zero_division` parameter to control this behavior.\n",
      "  _warn_prf(average, modifier, msg_start, len(result))\n",
      "[Parallel(n_jobs=-1)]: Using backend LokyBackend with 12 concurrent workers.\n"
     ]
    },
    {
     "name": "stdout",
     "output_type": "stream",
     "text": [
      "K-Fold #4\n",
      "Mean negativities for all classes: [0.36885436314312714, 0.3076383578093995, 0.08736440734588238]\n",
      "Mean entropies for all classes: [4.019742400317691e-15, 2.7994721292524392e-15, 3.7778224802927746e-15]\n",
      "              precision    recall  f1-score   support\n",
      "\n",
      "           0       0.00      0.00      0.00         5\n",
      "           1       0.00      0.00      0.00         5\n",
      "           2       0.22      0.40      0.29         5\n",
      "\n",
      "    accuracy                           0.13        15\n",
      "   macro avg       0.07      0.13      0.10        15\n",
      "weighted avg       0.07      0.13      0.10        15\n",
      "\n",
      "-------------------------------------------------------------------------------------------------------------------\n"
     ]
    },
    {
     "name": "stderr",
     "output_type": "stream",
     "text": [
      "[Parallel(n_jobs=-1)]: Done   3 out of   3 | elapsed:  1.2min finished\n",
      "[Parallel(n_jobs=-1)]: Using backend LokyBackend with 12 concurrent workers.\n"
     ]
    },
    {
     "name": "stdout",
     "output_type": "stream",
     "text": [
      "K-Fold #5\n",
      "Mean negativities for all classes: [0.35940086528877224, 0.3232931234196291, 0.08734272758995255]\n",
      "Mean entropies for all classes: [3.503614207700607e-15, 3.586663771749626e-15, 4.399979040646392e-15]\n",
      "              precision    recall  f1-score   support\n",
      "\n",
      "           0       0.33      0.20      0.25         5\n",
      "           1       0.00      0.00      0.00         5\n",
      "           2       0.44      0.80      0.57         5\n",
      "\n",
      "    accuracy                           0.33        15\n",
      "   macro avg       0.26      0.33      0.27        15\n",
      "weighted avg       0.26      0.33      0.27        15\n",
      "\n",
      "-------------------------------------------------------------------------------------------------------------------\n"
     ]
    },
    {
     "name": "stderr",
     "output_type": "stream",
     "text": [
      "[Parallel(n_jobs=-1)]: Done   3 out of   3 | elapsed:  1.2min finished\n",
      "[Parallel(n_jobs=-1)]: Using backend LokyBackend with 12 concurrent workers.\n"
     ]
    },
    {
     "name": "stdout",
     "output_type": "stream",
     "text": [
      "K-Fold #6\n",
      "Mean negativities for all classes: [0.36944085620140094, 0.3293747930416071, 0.08763493666549128]\n",
      "Mean entropies for all classes: [3.2577713864308413e-15, 3.5206148996554805e-15, 3.0671720467542694e-15]\n",
      "              precision    recall  f1-score   support\n",
      "\n",
      "           0       0.00      0.00      0.00         5\n",
      "           1       0.00      0.00      0.00         5\n",
      "           2       0.33      0.60      0.43         5\n",
      "\n",
      "    accuracy                           0.20        15\n",
      "   macro avg       0.11      0.20      0.14        15\n",
      "weighted avg       0.11      0.20      0.14        15\n",
      "\n",
      "-------------------------------------------------------------------------------------------------------------------\n"
     ]
    },
    {
     "name": "stderr",
     "output_type": "stream",
     "text": [
      "[Parallel(n_jobs=-1)]: Done   3 out of   3 | elapsed:  1.2min finished\n",
      "[Parallel(n_jobs=-1)]: Using backend LokyBackend with 12 concurrent workers.\n"
     ]
    },
    {
     "name": "stdout",
     "output_type": "stream",
     "text": [
      "K-Fold #7\n",
      "Mean negativities for all classes: [0.36735169694654096, 0.3401560986388374, 0.08722298648970135]\n",
      "Mean entropies for all classes: [3.5699253821400085e-15, 3.905503022071969e-15, 3.403713782613247e-15]\n",
      "              precision    recall  f1-score   support\n",
      "\n",
      "           0       0.67      0.40      0.50         5\n",
      "           1       0.00      0.00      0.00         5\n",
      "           2       0.33      0.60      0.43         5\n",
      "\n",
      "    accuracy                           0.33        15\n",
      "   macro avg       0.33      0.33      0.31        15\n",
      "weighted avg       0.33      0.33      0.31        15\n",
      "\n",
      "-------------------------------------------------------------------------------------------------------------------\n"
     ]
    },
    {
     "name": "stderr",
     "output_type": "stream",
     "text": [
      "[Parallel(n_jobs=-1)]: Done   3 out of   3 | elapsed:  1.2min finished\n",
      "c:\\ProgramData\\Anaconda3\\lib\\site-packages\\sklearn\\metrics\\_classification.py:1344: UndefinedMetricWarning: Precision and F-score are ill-defined and being set to 0.0 in labels with no predicted samples. Use `zero_division` parameter to control this behavior.\n",
      "  _warn_prf(average, modifier, msg_start, len(result))\n",
      "c:\\ProgramData\\Anaconda3\\lib\\site-packages\\sklearn\\metrics\\_classification.py:1344: UndefinedMetricWarning: Precision and F-score are ill-defined and being set to 0.0 in labels with no predicted samples. Use `zero_division` parameter to control this behavior.\n",
      "  _warn_prf(average, modifier, msg_start, len(result))\n",
      "c:\\ProgramData\\Anaconda3\\lib\\site-packages\\sklearn\\metrics\\_classification.py:1344: UndefinedMetricWarning: Precision and F-score are ill-defined and being set to 0.0 in labels with no predicted samples. Use `zero_division` parameter to control this behavior.\n",
      "  _warn_prf(average, modifier, msg_start, len(result))\n",
      "[Parallel(n_jobs=-1)]: Using backend LokyBackend with 12 concurrent workers.\n"
     ]
    },
    {
     "name": "stdout",
     "output_type": "stream",
     "text": [
      "K-Fold #8\n",
      "Mean negativities for all classes: [0.35673405274607395, 0.3162697994126933, 0.08671463559458109]\n",
      "Mean entropies for all classes: [3.937686017718402e-15, 3.766389239185822e-15, 4.228037853422235e-15]\n",
      "              precision    recall  f1-score   support\n",
      "\n",
      "           0       0.00      0.00      0.00         5\n",
      "           1       0.00      0.00      0.00         5\n",
      "           2       0.30      0.60      0.40         5\n",
      "\n",
      "    accuracy                           0.20        15\n",
      "   macro avg       0.10      0.20      0.13        15\n",
      "weighted avg       0.10      0.20      0.13        15\n",
      "\n",
      "-------------------------------------------------------------------------------------------------------------------\n"
     ]
    },
    {
     "name": "stderr",
     "output_type": "stream",
     "text": [
      "[Parallel(n_jobs=-1)]: Done   3 out of   3 | elapsed:  1.2min finished\n",
      "[Parallel(n_jobs=-1)]: Using backend LokyBackend with 12 concurrent workers.\n"
     ]
    },
    {
     "name": "stdout",
     "output_type": "stream",
     "text": [
      "K-Fold #9\n",
      "Mean negativities for all classes: [0.36349501803497924, 0.3081128952616314, 0.08730473811063548]\n",
      "Mean entropies for all classes: [3.824588248257423e-15, 3.632402994308343e-15, 3.906481142817033e-15]\n",
      "              precision    recall  f1-score   support\n",
      "\n",
      "           0       0.50      0.20      0.29         5\n",
      "           1       0.00      0.00      0.00         5\n",
      "           2       0.25      0.40      0.31         5\n",
      "\n",
      "    accuracy                           0.20        15\n",
      "   macro avg       0.25      0.20      0.20        15\n",
      "weighted avg       0.25      0.20      0.20        15\n",
      "\n",
      "-------------------------------------------------------------------------------------------------------------------\n",
      "AVG: Scores = 0.26000000000000006 F1-Scores = 0.2193833943833944 Negativity = [0.26140452799224356, 0.2611984839157823, 0.2530949936000553] Entropy = [3.377591126646501e-15, 3.902493131482075e-15, 3.1260258272915837e-15]\n"
     ]
    },
    {
     "name": "stderr",
     "output_type": "stream",
     "text": [
      "[Parallel(n_jobs=-1)]: Done   3 out of   3 | elapsed:  1.2min finished\n",
      "[Parallel(n_jobs=-1)]: Using backend LokyBackend with 12 concurrent workers.\n"
     ]
    },
    {
     "name": "stdout",
     "output_type": "stream",
     "text": [
      "K-Fold #0\n",
      "Mean negativities for all classes: [0.34688138477507485, 0.33338251400372726, 0.08650307116923912]\n",
      "Mean entropies for all classes: [3.8050698207315124e-15, 3.0527412873327845e-15, 3.457132769414575e-15]\n",
      "              precision    recall  f1-score   support\n",
      "\n",
      "           0       0.50      0.20      0.29         5\n",
      "           1       0.00      0.00      0.00         5\n",
      "           2       0.38      0.60      0.46         5\n",
      "\n",
      "    accuracy                           0.27        15\n",
      "   macro avg       0.29      0.27      0.25        15\n",
      "weighted avg       0.29      0.27      0.25        15\n",
      "\n",
      "-------------------------------------------------------------------------------------------------------------------\n"
     ]
    },
    {
     "name": "stderr",
     "output_type": "stream",
     "text": [
      "[Parallel(n_jobs=-1)]: Done   3 out of   3 | elapsed:  1.2min finished\n",
      "[Parallel(n_jobs=-1)]: Using backend LokyBackend with 12 concurrent workers.\n"
     ]
    },
    {
     "name": "stdout",
     "output_type": "stream",
     "text": [
      "K-Fold #1\n",
      "Mean negativities for all classes: [0.3605999123639419, 0.3234078619860339, 0.08717677479306477]\n",
      "Mean entropies for all classes: [2.9844240999432317e-15, 3.140118979256306e-15, 3.2896333183631846e-15]\n",
      "              precision    recall  f1-score   support\n",
      "\n",
      "           0       1.00      0.20      0.33         5\n",
      "           1       0.00      0.00      0.00         5\n",
      "           2       0.33      0.80      0.47         5\n",
      "\n",
      "    accuracy                           0.33        15\n",
      "   macro avg       0.44      0.33      0.27        15\n",
      "weighted avg       0.44      0.33      0.27        15\n",
      "\n",
      "-------------------------------------------------------------------------------------------------------------------\n"
     ]
    },
    {
     "name": "stderr",
     "output_type": "stream",
     "text": [
      "[Parallel(n_jobs=-1)]: Done   3 out of   3 | elapsed:  1.2min finished\n",
      "[Parallel(n_jobs=-1)]: Using backend LokyBackend with 12 concurrent workers.\n"
     ]
    },
    {
     "name": "stdout",
     "output_type": "stream",
     "text": [
      "K-Fold #2\n",
      "Mean negativities for all classes: [0.35977711513951083, 0.33611401072184066, 0.08722080393511493]\n",
      "Mean entropies for all classes: [4.212960994941548e-15, 3.625981828368108e-15, 4.463756798847928e-15]\n",
      "              precision    recall  f1-score   support\n",
      "\n",
      "           0       1.00      0.20      0.33         5\n",
      "           1       0.00      0.00      0.00         5\n",
      "           2       0.30      0.60      0.40         5\n",
      "\n",
      "    accuracy                           0.27        15\n",
      "   macro avg       0.43      0.27      0.24        15\n",
      "weighted avg       0.43      0.27      0.24        15\n",
      "\n",
      "-------------------------------------------------------------------------------------------------------------------\n"
     ]
    },
    {
     "name": "stderr",
     "output_type": "stream",
     "text": [
      "[Parallel(n_jobs=-1)]: Done   3 out of   3 | elapsed:  1.2min finished\n",
      "[Parallel(n_jobs=-1)]: Using backend LokyBackend with 12 concurrent workers.\n"
     ]
    },
    {
     "name": "stdout",
     "output_type": "stream",
     "text": [
      "K-Fold #3\n",
      "Mean negativities for all classes: [0.3621361824973262, 0.3338326838309549, 0.08716028686717227]\n",
      "Mean entropies for all classes: [3.706817795278445e-15, 3.2511259178070937e-15, 2.87013869909715e-15]\n",
      "              precision    recall  f1-score   support\n",
      "\n",
      "           0       1.00      0.40      0.57         5\n",
      "           1       0.00      0.00      0.00         5\n",
      "           2       0.25      0.40      0.31         5\n",
      "\n",
      "    accuracy                           0.27        15\n",
      "   macro avg       0.42      0.27      0.29        15\n",
      "weighted avg       0.42      0.27      0.29        15\n",
      "\n",
      "-------------------------------------------------------------------------------------------------------------------\n"
     ]
    },
    {
     "name": "stderr",
     "output_type": "stream",
     "text": [
      "[Parallel(n_jobs=-1)]: Done   3 out of   3 | elapsed:  1.2min finished\n",
      "c:\\ProgramData\\Anaconda3\\lib\\site-packages\\sklearn\\metrics\\_classification.py:1344: UndefinedMetricWarning: Precision and F-score are ill-defined and being set to 0.0 in labels with no predicted samples. Use `zero_division` parameter to control this behavior.\n",
      "  _warn_prf(average, modifier, msg_start, len(result))\n",
      "c:\\ProgramData\\Anaconda3\\lib\\site-packages\\sklearn\\metrics\\_classification.py:1344: UndefinedMetricWarning: Precision and F-score are ill-defined and being set to 0.0 in labels with no predicted samples. Use `zero_division` parameter to control this behavior.\n",
      "  _warn_prf(average, modifier, msg_start, len(result))\n",
      "c:\\ProgramData\\Anaconda3\\lib\\site-packages\\sklearn\\metrics\\_classification.py:1344: UndefinedMetricWarning: Precision and F-score are ill-defined and being set to 0.0 in labels with no predicted samples. Use `zero_division` parameter to control this behavior.\n",
      "  _warn_prf(average, modifier, msg_start, len(result))\n",
      "[Parallel(n_jobs=-1)]: Using backend LokyBackend with 12 concurrent workers.\n"
     ]
    },
    {
     "name": "stdout",
     "output_type": "stream",
     "text": [
      "K-Fold #4\n",
      "Mean negativities for all classes: [0.363829264013034, 0.3315703034217055, 0.08703744944472555]\n",
      "Mean entropies for all classes: [3.54707913778804e-15, 3.790611175269561e-15, 2.9144232850110038e-15]\n",
      "              precision    recall  f1-score   support\n",
      "\n",
      "           0       0.00      0.00      0.00         5\n",
      "           1       0.00      0.00      0.00         5\n",
      "           2       0.12      0.20      0.15         5\n",
      "\n",
      "    accuracy                           0.07        15\n",
      "   macro avg       0.04      0.07      0.05        15\n",
      "weighted avg       0.04      0.07      0.05        15\n",
      "\n",
      "-------------------------------------------------------------------------------------------------------------------\n"
     ]
    },
    {
     "name": "stderr",
     "output_type": "stream",
     "text": [
      "[Parallel(n_jobs=-1)]: Done   3 out of   3 | elapsed:  1.2min finished\n",
      "[Parallel(n_jobs=-1)]: Using backend LokyBackend with 12 concurrent workers.\n"
     ]
    },
    {
     "name": "stdout",
     "output_type": "stream",
     "text": [
      "K-Fold #5\n",
      "Mean negativities for all classes: [0.36253571611036806, 0.3187838664265826, 0.08699694894293468]\n",
      "Mean entropies for all classes: [3.48039754291852e-15, 3.94329140938316e-15, 4.34134173395129e-15]\n",
      "              precision    recall  f1-score   support\n",
      "\n",
      "           0       0.00      0.00      0.00         5\n",
      "           1       0.00      0.00      0.00         5\n",
      "           2       0.30      0.60      0.40         5\n",
      "\n",
      "    accuracy                           0.20        15\n",
      "   macro avg       0.10      0.20      0.13        15\n",
      "weighted avg       0.10      0.20      0.13        15\n",
      "\n",
      "-------------------------------------------------------------------------------------------------------------------\n"
     ]
    },
    {
     "name": "stderr",
     "output_type": "stream",
     "text": [
      "[Parallel(n_jobs=-1)]: Done   3 out of   3 | elapsed:  1.2min finished\n",
      "[Parallel(n_jobs=-1)]: Using backend LokyBackend with 12 concurrent workers.\n"
     ]
    },
    {
     "name": "stdout",
     "output_type": "stream",
     "text": [
      "K-Fold #6\n",
      "Mean negativities for all classes: [0.3662149752635163, 0.34260984788183113, 0.08677952960062614]\n",
      "Mean entropies for all classes: [4.2661963671093135e-15, 3.423870714431371e-15, 3.658883576131213e-15]\n",
      "              precision    recall  f1-score   support\n",
      "\n",
      "           0       0.00      0.00      0.00         5\n",
      "           1       0.00      0.00      0.00         5\n",
      "           2       0.36      0.80      0.50         5\n",
      "\n",
      "    accuracy                           0.27        15\n",
      "   macro avg       0.12      0.27      0.17        15\n",
      "weighted avg       0.12      0.27      0.17        15\n",
      "\n",
      "-------------------------------------------------------------------------------------------------------------------\n"
     ]
    },
    {
     "name": "stderr",
     "output_type": "stream",
     "text": [
      "[Parallel(n_jobs=-1)]: Done   3 out of   3 | elapsed:  1.2min finished\n",
      "[Parallel(n_jobs=-1)]: Using backend LokyBackend with 12 concurrent workers.\n"
     ]
    },
    {
     "name": "stdout",
     "output_type": "stream",
     "text": [
      "K-Fold #7\n",
      "Mean negativities for all classes: [0.37161254049717035, 0.3091996476911738, 0.08692487775503513]\n",
      "Mean entropies for all classes: [3.422609557221459e-15, 4.518936441463208e-15, 3.1325320852302066e-15]\n",
      "              precision    recall  f1-score   support\n",
      "\n",
      "           0       1.00      0.20      0.33         5\n",
      "           1       0.00      0.00      0.00         5\n",
      "           2       0.30      0.60      0.40         5\n",
      "\n",
      "    accuracy                           0.27        15\n",
      "   macro avg       0.43      0.27      0.24        15\n",
      "weighted avg       0.43      0.27      0.24        15\n",
      "\n",
      "-------------------------------------------------------------------------------------------------------------------\n"
     ]
    },
    {
     "name": "stderr",
     "output_type": "stream",
     "text": [
      "[Parallel(n_jobs=-1)]: Done   3 out of   3 | elapsed:  1.2min finished\n",
      "c:\\ProgramData\\Anaconda3\\lib\\site-packages\\sklearn\\metrics\\_classification.py:1344: UndefinedMetricWarning: Precision and F-score are ill-defined and being set to 0.0 in labels with no predicted samples. Use `zero_division` parameter to control this behavior.\n",
      "  _warn_prf(average, modifier, msg_start, len(result))\n",
      "c:\\ProgramData\\Anaconda3\\lib\\site-packages\\sklearn\\metrics\\_classification.py:1344: UndefinedMetricWarning: Precision and F-score are ill-defined and being set to 0.0 in labels with no predicted samples. Use `zero_division` parameter to control this behavior.\n",
      "  _warn_prf(average, modifier, msg_start, len(result))\n",
      "c:\\ProgramData\\Anaconda3\\lib\\site-packages\\sklearn\\metrics\\_classification.py:1344: UndefinedMetricWarning: Precision and F-score are ill-defined and being set to 0.0 in labels with no predicted samples. Use `zero_division` parameter to control this behavior.\n",
      "  _warn_prf(average, modifier, msg_start, len(result))\n",
      "[Parallel(n_jobs=-1)]: Using backend LokyBackend with 12 concurrent workers.\n"
     ]
    },
    {
     "name": "stdout",
     "output_type": "stream",
     "text": [
      "K-Fold #8\n",
      "Mean negativities for all classes: [0.36437912672325834, 0.3317136926182599, 0.08720886077228375]\n",
      "Mean entropies for all classes: [4.101104841333639e-15, 3.5731795766452375e-15, 3.820207614804553e-15]\n",
      "              precision    recall  f1-score   support\n",
      "\n",
      "           0       0.00      0.00      0.00         5\n",
      "           1       0.00      0.00      0.00         5\n",
      "           2       0.38      0.60      0.46         5\n",
      "\n",
      "    accuracy                           0.20        15\n",
      "   macro avg       0.12      0.20      0.15        15\n",
      "weighted avg       0.12      0.20      0.15        15\n",
      "\n",
      "-------------------------------------------------------------------------------------------------------------------\n"
     ]
    },
    {
     "name": "stderr",
     "output_type": "stream",
     "text": [
      "[Parallel(n_jobs=-1)]: Done   3 out of   3 | elapsed:  1.2min finished\n",
      "[Parallel(n_jobs=-1)]: Using backend LokyBackend with 12 concurrent workers.\n"
     ]
    },
    {
     "name": "stdout",
     "output_type": "stream",
     "text": [
      "K-Fold #9\n",
      "Mean negativities for all classes: [0.3708699039930518, 0.3116236186569419, 0.08773721388905571]\n",
      "Mean entropies for all classes: [3.418936583084421e-15, 4.269753600980765e-15, 3.1974283089474492e-15]\n",
      "              precision    recall  f1-score   support\n",
      "\n",
      "           0       0.00      0.00      0.00         5\n",
      "           1       0.00      0.00      0.00         5\n",
      "           2       0.30      0.60      0.40         5\n",
      "\n",
      "    accuracy                           0.20        15\n",
      "   macro avg       0.10      0.20      0.13        15\n",
      "weighted avg       0.10      0.20      0.13        15\n",
      "\n",
      "-------------------------------------------------------------------------------------------------------------------\n",
      "AVG: Scores = 0.23333333333333334 F1-Scores = 0.193744882568412 Negativity = [0.2555889899826804, 0.2570615163810135, 0.26103730993215546] Entropy = [3.4383146258262908e-15, 3.1380587991875744e-15, 4.100899874052528e-15]\n"
     ]
    },
    {
     "name": "stderr",
     "output_type": "stream",
     "text": [
      "[Parallel(n_jobs=-1)]: Done   3 out of   3 | elapsed:  1.2min finished\n",
      "[Parallel(n_jobs=-1)]: Using backend LokyBackend with 12 concurrent workers.\n"
     ]
    },
    {
     "name": "stdout",
     "output_type": "stream",
     "text": [
      "K-Fold #0\n",
      "Mean negativities for all classes: [0.3638142883342445, 0.31748511964273146, 0.08696452091091174]\n",
      "Mean entropies for all classes: [2.918767141335909e-15, 4.9190304467389805e-15, 3.0167533990974593e-15]\n",
      "              precision    recall  f1-score   support\n",
      "\n",
      "           0       0.00      0.00      0.00         5\n",
      "           1       0.00      0.00      0.00         5\n",
      "           2       0.33      0.60      0.43         5\n",
      "\n",
      "    accuracy                           0.20        15\n",
      "   macro avg       0.11      0.20      0.14        15\n",
      "weighted avg       0.11      0.20      0.14        15\n",
      "\n",
      "-------------------------------------------------------------------------------------------------------------------\n"
     ]
    },
    {
     "name": "stderr",
     "output_type": "stream",
     "text": [
      "[Parallel(n_jobs=-1)]: Done   3 out of   3 | elapsed:  1.2min finished\n",
      "[Parallel(n_jobs=-1)]: Using backend LokyBackend with 12 concurrent workers.\n"
     ]
    },
    {
     "name": "stdout",
     "output_type": "stream",
     "text": [
      "K-Fold #1\n",
      "Mean negativities for all classes: [0.3564727430898671, 0.31019599366060974, 0.08750159484241743]\n",
      "Mean entropies for all classes: [3.3650843653626802e-15, 4.23572021931533e-15, 3.3443503970936774e-15]\n",
      "              precision    recall  f1-score   support\n",
      "\n",
      "           0       0.67      0.40      0.50         5\n",
      "           1       0.00      0.00      0.00         5\n",
      "           2       0.38      0.60      0.46         5\n",
      "\n",
      "    accuracy                           0.33        15\n",
      "   macro avg       0.35      0.33      0.32        15\n",
      "weighted avg       0.35      0.33      0.32        15\n",
      "\n",
      "-------------------------------------------------------------------------------------------------------------------\n"
     ]
    },
    {
     "name": "stderr",
     "output_type": "stream",
     "text": [
      "[Parallel(n_jobs=-1)]: Done   3 out of   3 | elapsed:  1.2min finished\n",
      "[Parallel(n_jobs=-1)]: Using backend LokyBackend with 12 concurrent workers.\n"
     ]
    },
    {
     "name": "stdout",
     "output_type": "stream",
     "text": [
      "K-Fold #2\n",
      "Mean negativities for all classes: [0.3628955824493245, 0.32292712792920064, 0.08705301746788288]\n",
      "Mean entropies for all classes: [3.7017749684167176e-15, 4.28659557877086e-15, 3.084111639603561e-15]\n",
      "              precision    recall  f1-score   support\n",
      "\n",
      "           0       1.00      0.20      0.33         5\n",
      "           1       0.00      0.00      0.00         5\n",
      "           2       0.30      0.60      0.40         5\n",
      "\n",
      "    accuracy                           0.27        15\n",
      "   macro avg       0.43      0.27      0.24        15\n",
      "weighted avg       0.43      0.27      0.24        15\n",
      "\n",
      "-------------------------------------------------------------------------------------------------------------------\n"
     ]
    },
    {
     "name": "stderr",
     "output_type": "stream",
     "text": [
      "[Parallel(n_jobs=-1)]: Done   3 out of   3 | elapsed:  1.2min finished\n",
      "[Parallel(n_jobs=-1)]: Using backend LokyBackend with 12 concurrent workers.\n"
     ]
    },
    {
     "name": "stdout",
     "output_type": "stream",
     "text": [
      "K-Fold #3\n",
      "Mean negativities for all classes: [0.3650336005857573, 0.31729566722619185, 0.08683761179176182]\n",
      "Mean entropies for all classes: [4.16029313547811e-15, 4.729915252072772e-15, 3.886242782691545e-15]\n",
      "              precision    recall  f1-score   support\n",
      "\n",
      "           0       0.00      0.00      0.00         5\n",
      "           1       0.00      0.00      0.00         5\n",
      "           2       0.29      0.40      0.33         5\n",
      "\n",
      "    accuracy                           0.13        15\n",
      "   macro avg       0.10      0.13      0.11        15\n",
      "weighted avg       0.10      0.13      0.11        15\n",
      "\n",
      "-------------------------------------------------------------------------------------------------------------------\n"
     ]
    },
    {
     "name": "stderr",
     "output_type": "stream",
     "text": [
      "[Parallel(n_jobs=-1)]: Done   3 out of   3 | elapsed:  1.2min finished\n",
      "[Parallel(n_jobs=-1)]: Using backend LokyBackend with 12 concurrent workers.\n"
     ]
    },
    {
     "name": "stdout",
     "output_type": "stream",
     "text": [
      "K-Fold #4\n",
      "Mean negativities for all classes: [0.36546997077420773, 0.34425915184454264, 0.08683828821739553]\n",
      "Mean entropies for all classes: [3.2131097186607508e-15, 4.180833916261625e-15, 3.870922820982984e-15]\n",
      "              precision    recall  f1-score   support\n",
      "\n",
      "           0       0.00      0.00      0.00         5\n",
      "           1       0.00      0.00      0.00         5\n",
      "           2       0.22      0.40      0.29         5\n",
      "\n",
      "    accuracy                           0.13        15\n",
      "   macro avg       0.07      0.13      0.10        15\n",
      "weighted avg       0.07      0.13      0.10        15\n",
      "\n",
      "-------------------------------------------------------------------------------------------------------------------\n"
     ]
    },
    {
     "name": "stderr",
     "output_type": "stream",
     "text": [
      "[Parallel(n_jobs=-1)]: Done   3 out of   3 | elapsed:  1.2min finished\n",
      "[Parallel(n_jobs=-1)]: Using backend LokyBackend with 12 concurrent workers.\n"
     ]
    },
    {
     "name": "stdout",
     "output_type": "stream",
     "text": [
      "K-Fold #5\n",
      "Mean negativities for all classes: [0.36686819240550267, 0.3324525520139898, 0.08747001225213064]\n",
      "Mean entropies for all classes: [3.8487936283694065e-15, 4.615633108918926e-15, 3.2500786390757863e-15]\n",
      "              precision    recall  f1-score   support\n",
      "\n",
      "           0       1.00      0.20      0.33         5\n",
      "           1       0.00      0.00      0.00         5\n",
      "           2       0.27      0.60      0.37         5\n",
      "\n",
      "    accuracy                           0.27        15\n",
      "   macro avg       0.42      0.27      0.24        15\n",
      "weighted avg       0.42      0.27      0.24        15\n",
      "\n",
      "-------------------------------------------------------------------------------------------------------------------\n"
     ]
    },
    {
     "name": "stderr",
     "output_type": "stream",
     "text": [
      "[Parallel(n_jobs=-1)]: Done   3 out of   3 | elapsed:  1.2min finished\n",
      "[Parallel(n_jobs=-1)]: Using backend LokyBackend with 12 concurrent workers.\n"
     ]
    },
    {
     "name": "stdout",
     "output_type": "stream",
     "text": [
      "K-Fold #6\n",
      "Mean negativities for all classes: [0.35625918363275044, 0.35144018864810117, 0.08617224217288075]\n",
      "Mean entropies for all classes: [3.496410562532384e-15, 3.791655442207907e-15, 2.977146751815299e-15]\n",
      "              precision    recall  f1-score   support\n",
      "\n",
      "           0       0.00      0.00      0.00         5\n",
      "           1       0.00      0.00      0.00         5\n",
      "           2       0.31      0.80      0.44         5\n",
      "\n",
      "    accuracy                           0.27        15\n",
      "   macro avg       0.10      0.27      0.15        15\n",
      "weighted avg       0.10      0.27      0.15        15\n",
      "\n",
      "-------------------------------------------------------------------------------------------------------------------\n"
     ]
    },
    {
     "name": "stderr",
     "output_type": "stream",
     "text": [
      "[Parallel(n_jobs=-1)]: Done   3 out of   3 | elapsed:  1.2min finished\n",
      "c:\\ProgramData\\Anaconda3\\lib\\site-packages\\sklearn\\metrics\\_classification.py:1344: UndefinedMetricWarning: Precision and F-score are ill-defined and being set to 0.0 in labels with no predicted samples. Use `zero_division` parameter to control this behavior.\n",
      "  _warn_prf(average, modifier, msg_start, len(result))\n",
      "c:\\ProgramData\\Anaconda3\\lib\\site-packages\\sklearn\\metrics\\_classification.py:1344: UndefinedMetricWarning: Precision and F-score are ill-defined and being set to 0.0 in labels with no predicted samples. Use `zero_division` parameter to control this behavior.\n",
      "  _warn_prf(average, modifier, msg_start, len(result))\n",
      "c:\\ProgramData\\Anaconda3\\lib\\site-packages\\sklearn\\metrics\\_classification.py:1344: UndefinedMetricWarning: Precision and F-score are ill-defined and being set to 0.0 in labels with no predicted samples. Use `zero_division` parameter to control this behavior.\n",
      "  _warn_prf(average, modifier, msg_start, len(result))\n",
      "[Parallel(n_jobs=-1)]: Using backend LokyBackend with 12 concurrent workers.\n"
     ]
    },
    {
     "name": "stdout",
     "output_type": "stream",
     "text": [
      "K-Fold #7\n",
      "Mean negativities for all classes: [0.36925864813804116, 0.3196678465473171, 0.08734371373067695]\n",
      "Mean entropies for all classes: [2.6125445243732942e-15, 3.46664864556503e-15, 4.531365223787599e-15]\n",
      "              precision    recall  f1-score   support\n",
      "\n",
      "           0       0.00      0.00      0.00         5\n",
      "           1       0.00      0.00      0.00         5\n",
      "           2       0.22      0.40      0.29         5\n",
      "\n",
      "    accuracy                           0.13        15\n",
      "   macro avg       0.07      0.13      0.10        15\n",
      "weighted avg       0.07      0.13      0.10        15\n",
      "\n",
      "-------------------------------------------------------------------------------------------------------------------\n"
     ]
    },
    {
     "name": "stderr",
     "output_type": "stream",
     "text": [
      "[Parallel(n_jobs=-1)]: Done   3 out of   3 | elapsed:  1.2min finished\n",
      "c:\\ProgramData\\Anaconda3\\lib\\site-packages\\sklearn\\metrics\\_classification.py:1344: UndefinedMetricWarning: Precision and F-score are ill-defined and being set to 0.0 in labels with no predicted samples. Use `zero_division` parameter to control this behavior.\n",
      "  _warn_prf(average, modifier, msg_start, len(result))\n",
      "c:\\ProgramData\\Anaconda3\\lib\\site-packages\\sklearn\\metrics\\_classification.py:1344: UndefinedMetricWarning: Precision and F-score are ill-defined and being set to 0.0 in labels with no predicted samples. Use `zero_division` parameter to control this behavior.\n",
      "  _warn_prf(average, modifier, msg_start, len(result))\n",
      "c:\\ProgramData\\Anaconda3\\lib\\site-packages\\sklearn\\metrics\\_classification.py:1344: UndefinedMetricWarning: Precision and F-score are ill-defined and being set to 0.0 in labels with no predicted samples. Use `zero_division` parameter to control this behavior.\n",
      "  _warn_prf(average, modifier, msg_start, len(result))\n",
      "[Parallel(n_jobs=-1)]: Using backend LokyBackend with 12 concurrent workers.\n"
     ]
    },
    {
     "name": "stdout",
     "output_type": "stream",
     "text": [
      "K-Fold #8\n",
      "Mean negativities for all classes: [0.3556317898983264, 0.33253073486100654, 0.08717496817055169]\n",
      "Mean entropies for all classes: [3.498996733228204e-15, 3.696545754439936e-15, 3.9392140135136966e-15]\n",
      "              precision    recall  f1-score   support\n",
      "\n",
      "           0       0.00      0.00      0.00         5\n",
      "           1       0.00      0.00      0.00         5\n",
      "           2       0.30      0.60      0.40         5\n",
      "\n",
      "    accuracy                           0.20        15\n",
      "   macro avg       0.10      0.20      0.13        15\n",
      "weighted avg       0.10      0.20      0.13        15\n",
      "\n",
      "-------------------------------------------------------------------------------------------------------------------\n",
      "K-Fold #9\n",
      "Mean negativities for all classes: [0.36064690643552605, 0.2993610585484407, 0.0879296491225085]\n",
      "Mean entropies for all classes: [3.4251631515046386e-15, 3.953868986847617e-15, 3.2348036166427316e-15]\n",
      "              precision    recall  f1-score   support\n",
      "\n",
      "           0       1.00      0.40      0.57         5\n",
      "           1       0.00      0.00      0.00         5\n",
      "           2       0.25      0.40      0.31         5\n",
      "\n",
      "    accuracy                           0.27        15\n",
      "   macro avg       0.42      0.27      0.29        15\n",
      "weighted avg       0.42      0.27      0.29        15\n",
      "\n",
      "-------------------------------------------------------------------------------------------------------------------\n",
      "AVG: Scores = 0.22000000000000003 F1-Scores = 0.18200345950345947 Negativity = [0.2560879762959626, 0.25139011053096477, 0.2576252426154693] Entropy = [3.618183662390783e-15, 3.648384993923896e-15, 3.690827395597046e-15]\n",
      "CPU times: total: 17.7 s\n",
      "Wall time: 3h 54min 34s\n"
     ]
    },
    {
     "name": "stderr",
     "output_type": "stream",
     "text": [
      "[Parallel(n_jobs=-1)]: Done   3 out of   3 | elapsed:  1.2min finished\n"
     ]
    }
   ],
   "source": [
    "%%time\n",
    "scores_list = []\n",
    "f1scores_list = []\n",
    "negativities_list = []\n",
    "for SEED in range(n_times_kfold):\n",
    "    scores, f1scores, output_dict = execute_training_test_k_fold(\n",
    "                    X, \n",
    "                    y, \n",
    "                    k_folds=k_times_fold,\n",
    "                    random_seed = SEED, \n",
    "                    classifier_function=classifier_function, \n",
    "                    dic_classifier_params=dic_classifier_params,\n",
    "                    one_vs_classifier=OneVsRestClassifier, \n",
    "                    dic_training_params=dic_training_params,\n",
    "                    print_each_fold_metric=True,\n",
    "                    print_avg_metric=True)\n",
    "    scores_list.append(scores)\n",
    "    f1scores_list.append(f1scores)\n",
    "    negativities_list.append(output_dict[\"negativities\"])"
   ]
  },
  {
   "cell_type": "code",
   "execution_count": 3,
   "id": "7f7363b8",
   "metadata": {},
   "outputs": [
    {
     "name": "stdout",
     "output_type": "stream",
     "text": [
      "Media Score dos N K-Fold 0.233\n",
      "Maior Score dos K-Fold 0.26000000000000006\n",
      "Min Score dos K-Fold 0.2\n",
      "Media Score dos K-Fold [0.22666666666666666, 0.24000000000000005, 0.23333333333333334, 0.2, 0.24000000000000005, 0.2533333333333333, 0.24666666666666667, 0.25333333333333335, 0.24000000000000005, 0.2266666666666667, 0.22000000000000003, 0.26, 0.22000000000000003, 0.22666666666666666, 0.21333333333333332, 0.21333333333333332, 0.23333333333333334, 0.26000000000000006, 0.23333333333333334, 0.22000000000000003]\n",
      "\n",
      "\n",
      "[[0.2, 0.3333333333333333, 0.2, 0.3333333333333333, 0.13333333333333333, 0.2, 0.3333333333333333, 0.13333333333333333, 0.13333333333333333, 0.26666666666666666], [0.2, 0.13333333333333333, 0.2, 0.3333333333333333, 0.06666666666666667, 0.26666666666666666, 0.3333333333333333, 0.3333333333333333, 0.2, 0.3333333333333333], [0.26666666666666666, 0.13333333333333333, 0.2, 0.3333333333333333, 0.2, 0.26666666666666666, 0.3333333333333333, 0.2, 0.2, 0.2], [0.3333333333333333, 0.13333333333333333, 0.2, 0.2, 0.2, 0.26666666666666666, 0.13333333333333333, 0.13333333333333333, 0.13333333333333333, 0.26666666666666666], [0.2, 0.4, 0.2, 0.26666666666666666, 0.26666666666666666, 0.2, 0.2, 0.13333333333333333, 0.3333333333333333, 0.2], [0.26666666666666666, 0.2, 0.2, 0.26666666666666666, 0.2, 0.26666666666666666, 0.3333333333333333, 0.26666666666666666, 0.26666666666666666, 0.26666666666666666], [0.2, 0.3333333333333333, 0.26666666666666666, 0.06666666666666667, 0.2, 0.26666666666666666, 0.26666666666666666, 0.3333333333333333, 0.4, 0.13333333333333333], [0.4, 0.26666666666666666, 0.2, 0.2, 0.26666666666666666, 0.26666666666666666, 0.3333333333333333, 0.13333333333333333, 0.2, 0.26666666666666666], [0.2, 0.2, 0.3333333333333333, 0.26666666666666666, 0.4, 0.26666666666666666, 0.13333333333333333, 0.26666666666666666, 0.2, 0.13333333333333333], [0.4, 0.13333333333333333, 0.4, 0.2, 0.06666666666666667, 0.26666666666666666, 0.26666666666666666, 0.13333333333333333, 0.2, 0.2], [0.2, 0.2, 0.13333333333333333, 0.26666666666666666, 0.3333333333333333, 0.26666666666666666, 0.3333333333333333, 0.2, 0.13333333333333333, 0.13333333333333333], [0.26666666666666666, 0.06666666666666667, 0.3333333333333333, 0.26666666666666666, 0.2, 0.4, 0.4666666666666667, 0.06666666666666667, 0.3333333333333333, 0.2], [0.13333333333333333, 0.13333333333333333, 0.13333333333333333, 0.3333333333333333, 0.26666666666666666, 0.06666666666666667, 0.4, 0.3333333333333333, 0.2, 0.2], [0.2, 0.3333333333333333, 0.2, 0.26666666666666666, 0.2, 0.3333333333333333, 0.26666666666666666, 0.2, 0.13333333333333333, 0.13333333333333333], [0.2, 0.06666666666666667, 0.2, 0.2, 0.3333333333333333, 0.13333333333333333, 0.13333333333333333, 0.3333333333333333, 0.2, 0.3333333333333333], [0.4, 0.2, 0.13333333333333333, 0.13333333333333333, 0.06666666666666667, 0.2, 0.13333333333333333, 0.26666666666666666, 0.26666666666666666, 0.3333333333333333], [0.2, 0.3333333333333333, 0.3333333333333333, 0.13333333333333333, 0.2, 0.13333333333333333, 0.2, 0.26666666666666666, 0.2, 0.3333333333333333], [0.3333333333333333, 0.13333333333333333, 0.4, 0.3333333333333333, 0.13333333333333333, 0.3333333333333333, 0.2, 0.3333333333333333, 0.2, 0.2], [0.26666666666666666, 0.3333333333333333, 0.26666666666666666, 0.26666666666666666, 0.06666666666666667, 0.2, 0.26666666666666666, 0.26666666666666666, 0.2, 0.2], [0.2, 0.3333333333333333, 0.26666666666666666, 0.13333333333333333, 0.13333333333333333, 0.26666666666666666, 0.26666666666666666, 0.13333333333333333, 0.2, 0.26666666666666666]]\n"
     ]
    }
   ],
   "source": [
    "print(\"Media Score dos N K-Fold\", np.mean([np.mean(i) for i in scores_list]))\n",
    "print(\"Maior Score dos K-Fold\", max([np.mean(i) for i in scores_list]))\n",
    "print(\"Min Score dos K-Fold\", min([np.mean(i) for i in scores_list]))\n",
    "\n",
    "print(\"Media Score dos K-Fold\", [np.mean(i) for i in scores_list])\n",
    "print()\n",
    "print()\n",
    "print(scores_list)"
   ]
  },
  {
   "cell_type": "code",
   "execution_count": 4,
   "id": "49ad1fc9",
   "metadata": {},
   "outputs": [
    {
     "name": "stdout",
     "output_type": "stream",
     "text": [
      "Media F1Score dos N K-Fold 0.19151146936711952\n",
      "Maior F1Score dos K-Fold 0.2193833943833944\n",
      "Maior F1Score dos K-Fold 0.1619336219336219\n",
      "Media F1Score dos K-Fold [0.19604395604395608, 0.19995929995929995, 0.1933096315449257, 0.1619336219336219, 0.20849409849409847, 0.1970164476046829, 0.19561933680354732, 0.2049084249084249, 0.1983369717657643, 0.18735930735930734, 0.16708746591099533, 0.20494242141300964, 0.17640056022408968, 0.19683862433862437, 0.17810439560439564, 0.17086116497881204, 0.19788192199956908, 0.2193833943833944, 0.193744882568412, 0.18200345950345947]\n",
      "\n",
      "\n",
      "[[0.12499999999999999, 0.2884615384615385, 0.22222222222222224, 0.2888888888888889, 0.08888888888888889, 0.12499999999999999, 0.3238095238095238, 0.10256410256410257, 0.10256410256410257, 0.29304029304029305], [0.12499999999999999, 0.08888888888888889, 0.12499999999999999, 0.3238095238095238, 0.11111111111111112, 0.20512820512820515, 0.2884615384615385, 0.1851851851851852, 0.2136752136752137, 0.3333333333333333], [0.1666666666666667, 0.09523809523809523, 0.11764705882352942, 0.3333333333333333, 0.2136752136752137, 0.2380952380952381, 0.28571428571428575, 0.22222222222222224, 0.14285714285714285, 0.11764705882352942], [0.30158730158730157, 0.1111111111111111, 0.13333333333333333, 0.19047619047619047, 0.12499999999999999, 0.23611111111111108, 0.08888888888888889, 0.1717171717171717, 0.08333333333333336, 0.17777777777777778], [0.14285714285714285, 0.29629629629629634, 0.13333333333333333, 0.29304029304029305, 0.3015873015873016, 0.20634920634920637, 0.13333333333333333, 0.1623931623931624, 0.2619047619047619, 0.15384615384615383], [0.1568627450980392, 0.11764705882352942, 0.14285714285714285, 0.1568627450980392, 0.2136752136752137, 0.1568627450980392, 0.2888888888888889, 0.22857142857142856, 0.25396825396825395, 0.25396825396825395], [0.12499999999999999, 0.3238095238095238, 0.17777777777777778, 0.047619047619047616, 0.13333333333333333, 0.14035087719298242, 0.2380952380952381, 0.3003663003663004, 0.38095238095238093, 0.08888888888888889], [0.3571428571428572, 0.1666666666666667, 0.11111111111111112, 0.20634920634920637, 0.24444444444444446, 0.24444444444444446, 0.28571428571428575, 0.08888888888888889, 0.15384615384615383, 0.19047619047619047], [0.14285714285714285, 0.12499999999999999, 0.2679738562091503, 0.23717948717948714, 0.28654970760233917, 0.17777777777777778, 0.15873015873015875, 0.25396825396825395, 0.22222222222222224, 0.1111111111111111], [0.38095238095238093, 0.08333333333333336, 0.3682539682539683, 0.13333333333333333, 0.047619047619047616, 0.17777777777777778, 0.23611111111111108, 0.1212121212121212, 0.12499999999999999, 0.20000000000000004], [0.14285714285714285, 0.1818181818181818, 0.16666666666666666, 0.22857142857142856, 0.1851851851851852, 0.1666666666666667, 0.2679738562091503, 0.13333333333333333, 0.09523809523809523, 0.10256410256410257], [0.1568627450980392, 0.047619047619047616, 0.3238095238095238, 0.24444444444444446, 0.11764705882352942, 0.29629629629629634, 0.3865546218487395, 0.05555555555555555, 0.27777777777777785, 0.14285714285714285], [0.1111111111111111, 0.08333333333333336, 0.09523809523809523, 0.25210084033613445, 0.2380952380952381, 0.047619047619047616, 0.3035714285714286, 0.28571428571428575, 0.22222222222222224, 0.12499999999999999], [0.20634920634920637, 0.3333333333333333, 0.14285714285714285, 0.23611111111111108, 0.13333333333333333, 0.25925925925925924, 0.24444444444444446, 0.14285714285714285, 0.1111111111111111, 0.15873015873015875], [0.14285714285714285, 0.05555555555555555, 0.12499999999999999, 0.14285714285714285, 0.27777777777777785, 0.09523809523809523, 0.1623931623931624, 0.27777777777777785, 0.20000000000000004, 0.30158730158730157], [0.3571428571428572, 0.13333333333333333, 0.08888888888888889, 0.08888888888888889, 0.047619047619047616, 0.11764705882352942, 0.1623931623931624, 0.19047619047619047, 0.24444444444444446, 0.27777777777777785], [0.2136752136752137, 0.27777777777777785, 0.2888888888888889, 0.09523809523809523, 0.11764705882352942, 0.1111111111111111, 0.20634920634920637, 0.22857142857142856, 0.15384615384615383, 0.28571428571428575], [0.3333333333333333, 0.08888888888888889, 0.3571428571428572, 0.2619047619047619, 0.09523809523809523, 0.2738095238095238, 0.14285714285714285, 0.30952380952380953, 0.13333333333333333, 0.19780219780219785], [0.2490842490842491, 0.2679738562091503, 0.24444444444444446, 0.29304029304029305, 0.05128205128205129, 0.13333333333333333, 0.1666666666666667, 0.24444444444444446, 0.15384615384615383, 0.13333333333333333], [0.14285714285714285, 0.3205128205128205, 0.24444444444444446, 0.1111111111111111, 0.09523809523809523, 0.23611111111111108, 0.14814814814814814, 0.09523809523809523, 0.13333333333333333, 0.29304029304029305]]\n"
     ]
    }
   ],
   "source": [
    "print(\"Media F1Score dos N K-Fold\", np.mean([np.mean(i) for i in f1scores_list]))\n",
    "print(\"Maior F1Score dos K-Fold\", max([np.mean(i) for i in f1scores_list]))\n",
    "print(\"Maior F1Score dos K-Fold\", min([np.mean(i) for i in f1scores_list]))\n",
    "\n",
    "print(\"Media F1Score dos K-Fold\", [np.mean(i) for i in f1scores_list])\n",
    "print()\n",
    "print()\n",
    "print(f1scores_list)"
   ]
  },
  {
   "cell_type": "code",
   "execution_count": 5,
   "id": "9fa72621",
   "metadata": {},
   "outputs": [
    {
     "name": "stdout",
     "output_type": "stream",
     "text": [
      "Media Negativity dos N K-Fold [0.36269896989741923, 0.3244472949824821, 0.08709416309608574]\n",
      "\n",
      "\n",
      "[[[0.36375531414256546, 0.3574836364996249, 0.3587259874029089, 0.36170680817604484, 0.3729067877439023, 0.36468493288053094, 0.37599689428089805, 0.3693445935860248, 0.36201574165904404, 0.349911422899028], [0.3298923339257261, 0.33142518563866247, 0.2981876254410621, 0.30216346004582834, 0.3321558989924957, 0.3386703823006945, 0.324817613859795, 0.31722554329174274, 0.29606560737452614, 0.306005711283483], [0.08697159996041443, 0.08732719462799819, 0.08677822873064225, 0.08703426484471496, 0.08694381438548286, 0.08704210074885556, 0.08705435563112823, 0.08725074112500006, 0.08759017248618159, 0.08692252396061301]], [[0.36147897430659126, 0.3676449604257454, 0.37866598969066073, 0.3458510497028911, 0.36665465262772506, 0.3674272739743079, 0.3588032811121249, 0.3564074067512765, 0.35815474636072026, 0.3678537814338317], [0.30877802998998904, 0.31310828337289914, 0.33947769053578336, 0.31555607898056626, 0.31402984384239246, 0.31142697361123317, 0.33228934152963824, 0.3573929906011352, 0.3144999343790334, 0.32739725235030004], [0.08679299318416825, 0.08736647180667972, 0.0876199184237966, 0.08674121998512603, 0.08756732692356942, 0.08695969115533056, 0.08714605872872733, 0.08632088345492868, 0.08710101943763773, 0.08715812677308525]], [[0.37849615450893664, 0.3627262873550595, 0.35934333450639594, 0.35522190319104063, 0.35797563980944047, 0.3630410689299701, 0.3651365520975294, 0.3682235051270412, 0.3646074740466324, 0.35052193370048956], [0.3145481455632925, 0.30403649914205444, 0.32622233924489674, 0.326517596392402, 0.32418594962272507, 0.31574784178729043, 0.33634510390594574, 0.314443884998843, 0.30753528273993325, 0.34800367216084804], [0.08759701638390087, 0.0874742238541864, 0.086950751979642, 0.08713687165615237, 0.08698256627285096, 0.08684298786314845, 0.08716058030890175, 0.08695909525310054, 0.08765711022170068, 0.08605670799550218]], [[0.3679510450237652, 0.3591456904927233, 0.3564651294942377, 0.3614868128108648, 0.3725248976953904, 0.36582730073427194, 0.3612534034550704, 0.3531814146149771, 0.3679228830386319, 0.3644959474853244], [0.3197945972173572, 0.3207859278870967, 0.33510100463538317, 0.3240025136765015, 0.32300764803025744, 0.3168351862627957, 0.31355320580532303, 0.3063703573403238, 0.3332928610418976, 0.31347513458810694], [0.08776990903791539, 0.08698809804658546, 0.08585000881334395, 0.08725146777865035, 0.08746945170296397, 0.08696537330857654, 0.08744585591286039, 0.08701984821758764, 0.08711637436077004, 0.08701313958813266]], [[0.3552616242897017, 0.3566226625506078, 0.3704849775811475, 0.3606508918980126, 0.3507613151059116, 0.37302437052795157, 0.3665873880840712, 0.35890515463570705, 0.3617555694816309, 0.3644553066279723], [0.33519276530434017, 0.34113655995496595, 0.3312064555399028, 0.30758187560648875, 0.31776030117623194, 0.3129176736056518, 0.33604996928020564, 0.32320470165056087, 0.31504462469313804, 0.327705952311424], [0.08662245622705189, 0.08713469660990489, 0.0873602608964001, 0.08669719381477119, 0.08666976604508188, 0.08796572375212709, 0.0874656404501537, 0.08669664665476935, 0.08719490780938181, 0.08685610413583508]], [[0.361059777747148, 0.370645053796956, 0.3615721980842146, 0.3667211775851117, 0.35425144359667526, 0.36179877809257255, 0.3649725458750151, 0.3551747429929127, 0.3622532185428484, 0.36714201669837954], [0.35546900322288255, 0.3389705115909577, 0.29779491583643536, 0.33566875827942855, 0.3162054795286975, 0.33827320793707494, 0.33270552547257404, 0.33468183382441186, 0.31753699118764195, 0.33848047284703225], [0.0866064679462206, 0.08763876649884551, 0.08735401069165098, 0.08667366544919158, 0.08703222513028817, 0.08705944063874708, 0.08747805526311445, 0.08680202959552427, 0.08714497395960961, 0.08712658978552441]], [[0.36855794913997275, 0.36712708321780496, 0.363771907200685, 0.3614719550781446, 0.36514946787819375, 0.3704619689294075, 0.35777377817535516, 0.35421381504601507, 0.34455832709663536, 0.3730167963698223], [0.30834203952051537, 0.3247347142352936, 0.32157629830275025, 0.31675035802094553, 0.3231511300847329, 0.32177720130643933, 0.31828725328165414, 0.3420262459965394, 0.33917636299636994, 0.3425038910407182], [0.08646186288260396, 0.0875338142768598, 0.0869841233581507, 0.08726812375337283, 0.0877903078496748, 0.08725076919883458, 0.08676220855950838, 0.08688229295593014, 0.08646404424481859, 0.08781412763945233]], [[0.3578760452505588, 0.3677825737193219, 0.3657420309609248, 0.36356341820960136, 0.36011362976560474, 0.3610703283266172, 0.3703986711774524, 0.3621766554697656, 0.36641402884620816, 0.35725491830927075], [0.33270190620000434, 0.32578399154814963, 0.3459018942939741, 0.3206904939347278, 0.3349013817226651, 0.32296847913315846, 0.323422069610147, 0.31348403121036905, 0.30305342169559935, 0.3156291408938471], [0.08684889304405718, 0.08767335383136977, 0.08654356848404594, 0.08663151790357464, 0.08732565125428422, 0.0873947484991823, 0.08728298903328664, 0.08705412281625942, 0.08750282070581626, 0.08657928904118031]], [[0.3606747951437216, 0.36807561371982295, 0.34741032091151397, 0.3639302994217519, 0.38096056022455194, 0.35618857338645105, 0.3670871011102924, 0.35973551317818464, 0.3642692610337871, 0.3623311468228767], [0.32540649754304357, 0.3248715861483814, 0.3401458990612857, 0.33279123478331746, 0.3447019334271598, 0.3296819805829712, 0.3269850277781796, 0.338055952876801, 0.3186246389452328, 0.30820804750588354], [0.087021185789418, 0.0879079878674305, 0.08548734611585032, 0.0870523749971595, 0.0870884005336756, 0.0869315247207861, 0.08742311109785313, 0.08742673558922293, 0.08698306279607768, 0.08753104650617496]], [[0.36020444307843674, 0.36005107806132525, 0.3569533460323761, 0.3678640463907857, 0.36503231468536207, 0.3537771664404737, 0.36774540404562206, 0.3586682215837257, 0.36976524985019615, 0.3730967732683052], [0.30002218742322845, 0.3037843449756036, 0.3389288987789378, 0.34087997599966874, 0.305662044953551, 0.3112779159812415, 0.3216044132923864, 0.332081895558732, 0.3207417935093408, 0.32788806837050277], [0.08708513997821218, 0.08748007743900352, 0.08617966472041255, 0.08748068358263887, 0.08716178116376512, 0.08662340660095628, 0.08777637372345, 0.08710136186692602, 0.08682668517763166, 0.0871430635023319]], [[0.3590719715233943, 0.3582248625287619, 0.3548115694816024, 0.36280595859370296, 0.3642402862279012, 0.37453805718215594, 0.3759056428008099, 0.3577745411194731, 0.37617100871272235, 0.3527352636788306], [0.2972214093630471, 0.3225432239073954, 0.3028728179843565, 0.3351568482428539, 0.3401526499816009, 0.3229281933396501, 0.3153026778681688, 0.33207484322406405, 0.33446925775128694, 0.33432168577383586], [0.08751497675916423, 0.08721756650660151, 0.08694100425179868, 0.08727933016627559, 0.08696047914674428, 0.08751844104386831, 0.08696127671981552, 0.08699554812615223, 0.0871380597536897, 0.08623205890049478]], [[0.37028918430014496, 0.3484241174451828, 0.366566954047484, 0.36387862995060566, 0.3739131718579074, 0.3547239952397081, 0.3562088188242709, 0.3622190943539935, 0.37225784857129185, 0.3566277606662662], [0.3235986854142485, 0.3223322077469478, 0.32816201747527185, 0.33327198561322346, 0.3243723130227553, 0.350440467047484, 0.33497560814614114, 0.306651269930546, 0.3313895203161414, 0.3392574202704719], [0.08774555138496568, 0.08617217777513678, 0.08777225358754047, 0.0873671202895585, 0.08683696629023589, 0.08624954051834291, 0.08677470176198566, 0.08695623768246465, 0.0878143625165137, 0.08725708127958877]], [[0.3503993573398293, 0.36363819813976395, 0.36562158930004024, 0.3680874791799098, 0.3619332782275981, 0.367157560099273, 0.35718278405398446, 0.3528058517548571, 0.3686720196084359, 0.3684167568991806], [0.31925829602484773, 0.3430668633252137, 0.315732797022615, 0.3488578715764233, 0.31810999616671726, 0.3014515213634884, 0.31698878354811694, 0.3246701992346338, 0.3154798200793741, 0.34095757826532913], [0.08698167033241244, 0.08710379297068006, 0.08741845172219902, 0.0867432618639282, 0.08662495083082543, 0.08729576188652947, 0.08646449241961476, 0.08756809407011637, 0.08761198101256147, 0.08726659050934155]], [[0.3601933467095204, 0.3463810501671728, 0.3634905160228142, 0.3469426588569048, 0.3645692551174518, 0.3679650479740148, 0.3664995613707214, 0.36460167937215304, 0.3760598345532007, 0.36858741589207134], [0.32242780461189446, 0.3111075633516174, 0.3292384913311395, 0.3427031202461304, 0.33206741616868274, 0.34884581435952705, 0.31664841833990426, 0.3223488501611494, 0.3113333689340474, 0.3248340373922228], [0.08705384455575879, 0.08634360655276531, 0.08727855663815462, 0.08583045520506107, 0.08713345077264119, 0.08713207086622186, 0.08749190097806278, 0.08727123997720344, 0.08791650689264555, 0.08745466460363312]], [[0.36886363310930814, 0.3568365777428376, 0.3627684858335853, 0.3524851107230557, 0.3566674272729599, 0.3746290835483864, 0.3605860373223193, 0.36370625898131037, 0.3684797269127664, 0.3638804210617716], [0.2964725631002503, 0.3296500057833403, 0.3425400744640122, 0.31551409384497275, 0.34082741569313746, 0.32244255126563603, 0.32278174371466667, 0.32289848425531303, 0.2995047775964204, 0.3429129230030483], [0.08757715009623841, 0.08696689044514967, 0.08720094799477192, 0.08671385573490485, 0.08626979707052755, 0.0871044078639323, 0.08724760986724363, 0.08732067893701713, 0.08766078633513605, 0.08701377879193331]], [[0.3588301472683474, 0.36004619903822976, 0.35908643703190257, 0.364099701578663, 0.3588342185800492, 0.366919804999636, 0.36486877785196836, 0.34861482169772573, 0.361926664777381, 0.3752532825143635], [0.3118740284835107, 0.3266033767927484, 0.34572490198890543, 0.3085833763672388, 0.3234792323003035, 0.3106996655104689, 0.32111760351646695, 0.35517360074330817, 0.32793465559791446, 0.3233526544149834], [0.08724973360792175, 0.08644062396999894, 0.08640868558280936, 0.08772144672846933, 0.0867193687871639, 0.08768407722477312, 0.08687254731249583, 0.08667378228542869, 0.08784808989766087, 0.08776287942620999]], [[0.36553514501038786, 0.3501916758563291, 0.368248715363718, 0.3647879480844354, 0.3487039959909954, 0.36329640610932185, 0.3768096419840078, 0.3590928483175191, 0.3623860780752168, 0.3620175979323991], [0.30155872228503433, 0.3293962639693272, 0.3317190601662511, 0.3165337054248814, 0.30943009909715263, 0.3276102855359502, 0.32442257538222385, 0.3475497375749484, 0.31664577425870494, 0.32304203979923074], [0.08753732005572987, 0.08695665516148682, 0.08678435924437705, 0.08680131814913156, 0.08690908434598549, 0.0868257978188129, 0.08770592108072735, 0.08658079022072702, 0.08702086865654203, 0.08768252852065918]], [[0.36512102854839906, 0.36266925148070095, 0.34589580750670806, 0.36315776002562644, 0.36885436314312714, 0.35940086528877224, 0.36944085620140094, 0.36735169694654096, 0.35673405274607395, 0.36349501803497924], [0.33257556740630745, 0.3339827217688105, 0.32672584582148806, 0.3186918451375591, 0.3076383578093995, 0.3232931234196291, 0.3293747930416071, 0.3401560986388374, 0.3162697994126933, 0.3081128952616314], [0.08651698802202414, 0.08694347849783547, 0.08666332747196975, 0.08740568785946111, 0.08736440734588238, 0.08734272758995255, 0.08763493666549128, 0.08722298648970135, 0.08671463559458109, 0.08730473811063548]], [[0.34688138477507485, 0.3605999123639419, 0.35977711513951083, 0.3621361824973262, 0.363829264013034, 0.36253571611036806, 0.3662149752635163, 0.37161254049717035, 0.36437912672325834, 0.3708699039930518], [0.33338251400372726, 0.3234078619860339, 0.33611401072184066, 0.3338326838309549, 0.3315703034217055, 0.3187838664265826, 0.34260984788183113, 0.3091996476911738, 0.3317136926182599, 0.3116236186569419], [0.08650307116923912, 0.08717677479306477, 0.08722080393511493, 0.08716028686717227, 0.08703744944472555, 0.08699694894293468, 0.08677952960062614, 0.08692487775503513, 0.08720886077228375, 0.08773721388905571]], [[0.3638142883342445, 0.3564727430898671, 0.3628955824493245, 0.3650336005857573, 0.36546997077420773, 0.36686819240550267, 0.35625918363275044, 0.36925864813804116, 0.3556317898983264, 0.36064690643552605], [0.31748511964273146, 0.31019599366060974, 0.32292712792920064, 0.31729566722619185, 0.34425915184454264, 0.3324525520139898, 0.35144018864810117, 0.3196678465473171, 0.33253073486100654, 0.2993610585484407], [0.08696452091091174, 0.08750159484241743, 0.08705301746788288, 0.08683761179176182, 0.08683828821739553, 0.08747001225213064, 0.08617224217288075, 0.08734371373067695, 0.08717496817055169, 0.0879296491225085]]]\n"
     ]
    }
   ],
   "source": [
    "print(\"Media Negativity dos N K-Fold\", [np.mean([neg[i] for neg in negativities_list]) for i in range(len(set(y)))])\n",
    "\n",
    "print()\n",
    "print()\n",
    "print(negativities_list)"
   ]
  }
 ],
 "metadata": {
  "kernelspec": {
   "display_name": "Python 3",
   "language": "python",
   "name": "python3"
  },
  "language_info": {
   "codemirror_mode": {
    "name": "ipython",
    "version": 3
   },
   "file_extension": ".py",
   "mimetype": "text/x-python",
   "name": "python",
   "nbconvert_exporter": "python",
   "pygments_lexer": "ipython3",
   "version": "3.9.16"
  }
 },
 "nbformat": 4,
 "nbformat_minor": 5
}
