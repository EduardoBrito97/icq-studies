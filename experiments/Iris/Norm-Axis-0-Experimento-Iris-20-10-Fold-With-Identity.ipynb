{
 "cells": [
  {
   "cell_type": "code",
   "execution_count": 1,
   "id": "0db239e0",
   "metadata": {},
   "outputs": [
    {
     "name": "stderr",
     "output_type": "stream",
     "text": [
      "Intel(R) Extension for Scikit-learn* enabled (https://github.com/intel/scikit-learn-intelex)\n"
     ]
    }
   ],
   "source": [
    "import sys, os\n",
    "sys.path.append(os.path.abspath('../../classifiers'))\n",
    "sys.path.append(os.path.abspath('../../training'))\n",
    "sys.path.append(os.path.abspath('../../validation'))\n",
    "from validation_functions import execute_training_test_k_fold\n",
    "from classifiers_ICQ import iqc_classifier\n",
    "\n",
    "from sklearn.multiclass import OneVsRestClassifier\n",
    "import numpy as np\n",
    "from sklearn import datasets\n",
    "\n",
    "iris = datasets.load_iris()\n",
    "\n",
    "X = iris.data[:, [0,1,2,3]]\n",
    "y = iris.target\n",
    "\n",
    "classifier_function = iqc_classifier\n",
    "dic_classifier_params = {}\n",
    "dic_classifier_params[\"sigma_q_params\"] = [1,1,1,1]\n",
    "dic_classifier_params[\"use_polar_coordinates_on_sigma_q\"] = False\n",
    "dic_classifier_params[\"load_inputvector_env_state\"] = False\n",
    "\n",
    "dic_training_params = {\"max_iter\": 1000,\n",
    "    \"accuracy_succ\": 0.99,\n",
    "    \"plot_graphs_and_metrics\": False,\n",
    "    \"plot_graphs_in_classifier\": False,\n",
    "    \"random_seed\": 1,\n",
    "    \"learning_rate\": 0.01,\n",
    "    \"refit_db\":True,\n",
    "    \"reset_weights_epoch\":0,\n",
    "    \"do_classes_refit\":True,\n",
    "    \"batch\":False}\n",
    "\n",
    "n_times_kfold = 20\n",
    "k_times_fold = 10"
   ]
  },
  {
   "cell_type": "code",
   "execution_count": 2,
   "id": "ca21ba5e",
   "metadata": {},
   "outputs": [
    {
     "name": "stderr",
     "output_type": "stream",
     "text": [
      "[Parallel(n_jobs=-1)]: Using backend LokyBackend with 12 concurrent workers.\n",
      "[Parallel(n_jobs=-1)]: Done   3 out of   3 | elapsed:  1.1min finished\n",
      "c:\\ProgramData\\Anaconda3\\lib\\site-packages\\sklearn\\metrics\\_classification.py:1344: UndefinedMetricWarning: Precision and F-score are ill-defined and being set to 0.0 in labels with no predicted samples. Use `zero_division` parameter to control this behavior.\n",
      "  _warn_prf(average, modifier, msg_start, len(result))\n",
      "c:\\ProgramData\\Anaconda3\\lib\\site-packages\\sklearn\\metrics\\_classification.py:1344: UndefinedMetricWarning: Precision and F-score are ill-defined and being set to 0.0 in labels with no predicted samples. Use `zero_division` parameter to control this behavior.\n",
      "  _warn_prf(average, modifier, msg_start, len(result))\n",
      "c:\\ProgramData\\Anaconda3\\lib\\site-packages\\sklearn\\metrics\\_classification.py:1344: UndefinedMetricWarning: Precision and F-score are ill-defined and being set to 0.0 in labels with no predicted samples. Use `zero_division` parameter to control this behavior.\n",
      "  _warn_prf(average, modifier, msg_start, len(result))\n",
      "[Parallel(n_jobs=-1)]: Using backend LokyBackend with 12 concurrent workers.\n"
     ]
    },
    {
     "name": "stdout",
     "output_type": "stream",
     "text": [
      "K-Fold #0\n",
      "Mean negativities for all classes: [0.3628874093456033, 0.3299397882482587, 0.08689446552255028]\n",
      "Mean entropies for all classes: [3.4109878045658435e-15, 3.574345956264377e-15, 4.2072415992774616e-15]\n",
      "              precision    recall  f1-score   support\n",
      "\n",
      "           0       0.00      0.00      0.00         5\n",
      "           1       0.00      0.00      0.00         5\n",
      "           2       0.27      0.60      0.37         5\n",
      "\n",
      "    accuracy                           0.20        15\n",
      "   macro avg       0.09      0.20      0.12        15\n",
      "weighted avg       0.09      0.20      0.12        15\n",
      "\n",
      "-------------------------------------------------------------------------------------------------------------------\n"
     ]
    },
    {
     "name": "stderr",
     "output_type": "stream",
     "text": [
      "[Parallel(n_jobs=-1)]: Done   3 out of   3 | elapsed:  1.1min finished\n",
      "[Parallel(n_jobs=-1)]: Using backend LokyBackend with 12 concurrent workers.\n"
     ]
    },
    {
     "name": "stdout",
     "output_type": "stream",
     "text": [
      "K-Fold #1\n",
      "Mean negativities for all classes: [0.3559671363268025, 0.3314419010634532, 0.08724854330465887]\n",
      "Mean entropies for all classes: [4.5312287697221974e-15, 3.7784980993972705e-15, 3.853876252982364e-15]\n",
      "              precision    recall  f1-score   support\n",
      "\n",
      "           0       0.00      0.00      0.00         5\n",
      "           1       0.00      0.00      0.00         5\n",
      "           2       0.40      0.80      0.53         5\n",
      "\n",
      "    accuracy                           0.27        15\n",
      "   macro avg       0.13      0.27      0.18        15\n",
      "weighted avg       0.13      0.27      0.18        15\n",
      "\n",
      "-------------------------------------------------------------------------------------------------------------------\n"
     ]
    },
    {
     "name": "stderr",
     "output_type": "stream",
     "text": [
      "[Parallel(n_jobs=-1)]: Done   3 out of   3 | elapsed:  1.1min finished\n",
      "[Parallel(n_jobs=-1)]: Using backend LokyBackend with 12 concurrent workers.\n"
     ]
    },
    {
     "name": "stdout",
     "output_type": "stream",
     "text": [
      "K-Fold #2\n",
      "Mean negativities for all classes: [0.3564019021011771, 0.3372315412635066, 0.08670043355083576]\n",
      "Mean entropies for all classes: [3.5988231102610276e-15, 3.619688163827671e-15, 3.4731090974284656e-15]\n",
      "              precision    recall  f1-score   support\n",
      "\n",
      "           0       1.00      0.20      0.33         5\n",
      "           1       0.00      0.00      0.00         5\n",
      "           2       0.38      0.60      0.46         5\n",
      "\n",
      "    accuracy                           0.27        15\n",
      "   macro avg       0.46      0.27      0.26        15\n",
      "weighted avg       0.46      0.27      0.26        15\n",
      "\n",
      "-------------------------------------------------------------------------------------------------------------------\n"
     ]
    },
    {
     "name": "stderr",
     "output_type": "stream",
     "text": [
      "[Parallel(n_jobs=-1)]: Done   3 out of   3 | elapsed:  1.1min finished\n",
      "[Parallel(n_jobs=-1)]: Using backend LokyBackend with 12 concurrent workers.\n"
     ]
    },
    {
     "name": "stdout",
     "output_type": "stream",
     "text": [
      "K-Fold #3\n",
      "Mean negativities for all classes: [0.3602858815709108, 0.3022679522026778, 0.08695540705686439]\n",
      "Mean entropies for all classes: [3.3045067529355143e-15, 4.028552765329546e-15, 3.2227892007379985e-15]\n",
      "              precision    recall  f1-score   support\n",
      "\n",
      "           0       1.00      0.20      0.33         5\n",
      "           1       0.00      0.00      0.00         5\n",
      "           2       0.40      0.80      0.53         5\n",
      "\n",
      "    accuracy                           0.33        15\n",
      "   macro avg       0.47      0.33      0.29        15\n",
      "weighted avg       0.47      0.33      0.29        15\n",
      "\n",
      "-------------------------------------------------------------------------------------------------------------------\n"
     ]
    },
    {
     "name": "stderr",
     "output_type": "stream",
     "text": [
      "[Parallel(n_jobs=-1)]: Done   3 out of   3 | elapsed:  1.0min finished\n",
      "c:\\ProgramData\\Anaconda3\\lib\\site-packages\\sklearn\\metrics\\_classification.py:1344: UndefinedMetricWarning: Precision and F-score are ill-defined and being set to 0.0 in labels with no predicted samples. Use `zero_division` parameter to control this behavior.\n",
      "  _warn_prf(average, modifier, msg_start, len(result))\n",
      "c:\\ProgramData\\Anaconda3\\lib\\site-packages\\sklearn\\metrics\\_classification.py:1344: UndefinedMetricWarning: Precision and F-score are ill-defined and being set to 0.0 in labels with no predicted samples. Use `zero_division` parameter to control this behavior.\n",
      "  _warn_prf(average, modifier, msg_start, len(result))\n",
      "c:\\ProgramData\\Anaconda3\\lib\\site-packages\\sklearn\\metrics\\_classification.py:1344: UndefinedMetricWarning: Precision and F-score are ill-defined and being set to 0.0 in labels with no predicted samples. Use `zero_division` parameter to control this behavior.\n",
      "  _warn_prf(average, modifier, msg_start, len(result))\n",
      "[Parallel(n_jobs=-1)]: Using backend LokyBackend with 12 concurrent workers.\n"
     ]
    },
    {
     "name": "stdout",
     "output_type": "stream",
     "text": [
      "K-Fold #4\n",
      "Mean negativities for all classes: [0.37216301159045706, 0.34989551976529104, 0.08683499084288285]\n",
      "Mean entropies for all classes: [3.948386417617729e-15, 3.477157352204205e-15, 4.545459457618266e-15]\n",
      "              precision    recall  f1-score   support\n",
      "\n",
      "           0       0.00      0.00      0.00         5\n",
      "           1       0.00      0.00      0.00         5\n",
      "           2       0.27      0.60      0.37         5\n",
      "\n",
      "    accuracy                           0.20        15\n",
      "   macro avg       0.09      0.20      0.12        15\n",
      "weighted avg       0.09      0.20      0.12        15\n",
      "\n",
      "-------------------------------------------------------------------------------------------------------------------\n"
     ]
    },
    {
     "name": "stderr",
     "output_type": "stream",
     "text": [
      "[Parallel(n_jobs=-1)]: Done   3 out of   3 | elapsed:  1.0min finished\n",
      "c:\\ProgramData\\Anaconda3\\lib\\site-packages\\sklearn\\metrics\\_classification.py:1344: UndefinedMetricWarning: Precision and F-score are ill-defined and being set to 0.0 in labels with no predicted samples. Use `zero_division` parameter to control this behavior.\n",
      "  _warn_prf(average, modifier, msg_start, len(result))\n",
      "c:\\ProgramData\\Anaconda3\\lib\\site-packages\\sklearn\\metrics\\_classification.py:1344: UndefinedMetricWarning: Precision and F-score are ill-defined and being set to 0.0 in labels with no predicted samples. Use `zero_division` parameter to control this behavior.\n",
      "  _warn_prf(average, modifier, msg_start, len(result))\n",
      "c:\\ProgramData\\Anaconda3\\lib\\site-packages\\sklearn\\metrics\\_classification.py:1344: UndefinedMetricWarning: Precision and F-score are ill-defined and being set to 0.0 in labels with no predicted samples. Use `zero_division` parameter to control this behavior.\n",
      "  _warn_prf(average, modifier, msg_start, len(result))\n",
      "[Parallel(n_jobs=-1)]: Using backend LokyBackend with 12 concurrent workers.\n"
     ]
    },
    {
     "name": "stdout",
     "output_type": "stream",
     "text": [
      "K-Fold #5\n",
      "Mean negativities for all classes: [0.3626527538521345, 0.3581123170706754, 0.0869647892799318]\n",
      "Mean entropies for all classes: [3.6727833106612886e-15, 3.1389774615746066e-15, 3.232813768229226e-15]\n",
      "              precision    recall  f1-score   support\n",
      "\n",
      "           0       0.00      0.00      0.00         5\n",
      "           1       0.00      0.00      0.00         5\n",
      "           2       0.36      1.00      0.53         5\n",
      "\n",
      "    accuracy                           0.33        15\n",
      "   macro avg       0.12      0.33      0.18        15\n",
      "weighted avg       0.12      0.33      0.18        15\n",
      "\n",
      "-------------------------------------------------------------------------------------------------------------------\n"
     ]
    },
    {
     "name": "stderr",
     "output_type": "stream",
     "text": [
      "[Parallel(n_jobs=-1)]: Done   3 out of   3 | elapsed:  1.0min finished\n",
      "[Parallel(n_jobs=-1)]: Using backend LokyBackend with 12 concurrent workers.\n"
     ]
    },
    {
     "name": "stdout",
     "output_type": "stream",
     "text": [
      "K-Fold #6\n",
      "Mean negativities for all classes: [0.3739681726726917, 0.32480507917285606, 0.08697102602154493]\n",
      "Mean entropies for all classes: [3.4782482412357565e-15, 4.042124064430182e-15, 3.5603659129531724e-15]\n",
      "              precision    recall  f1-score   support\n",
      "\n",
      "           0       1.00      0.40      0.57         5\n",
      "           1       0.00      0.00      0.00         5\n",
      "           2       0.30      0.60      0.40         5\n",
      "\n",
      "    accuracy                           0.33        15\n",
      "   macro avg       0.43      0.33      0.32        15\n",
      "weighted avg       0.43      0.33      0.32        15\n",
      "\n",
      "-------------------------------------------------------------------------------------------------------------------\n"
     ]
    },
    {
     "name": "stderr",
     "output_type": "stream",
     "text": [
      "[Parallel(n_jobs=-1)]: Done   3 out of   3 | elapsed:  1.0min finished\n",
      "c:\\ProgramData\\Anaconda3\\lib\\site-packages\\sklearn\\metrics\\_classification.py:1344: UndefinedMetricWarning: Precision and F-score are ill-defined and being set to 0.0 in labels with no predicted samples. Use `zero_division` parameter to control this behavior.\n",
      "  _warn_prf(average, modifier, msg_start, len(result))\n",
      "c:\\ProgramData\\Anaconda3\\lib\\site-packages\\sklearn\\metrics\\_classification.py:1344: UndefinedMetricWarning: Precision and F-score are ill-defined and being set to 0.0 in labels with no predicted samples. Use `zero_division` parameter to control this behavior.\n",
      "  _warn_prf(average, modifier, msg_start, len(result))\n",
      "c:\\ProgramData\\Anaconda3\\lib\\site-packages\\sklearn\\metrics\\_classification.py:1344: UndefinedMetricWarning: Precision and F-score are ill-defined and being set to 0.0 in labels with no predicted samples. Use `zero_division` parameter to control this behavior.\n",
      "  _warn_prf(average, modifier, msg_start, len(result))\n",
      "[Parallel(n_jobs=-1)]: Using backend LokyBackend with 12 concurrent workers.\n"
     ]
    },
    {
     "name": "stdout",
     "output_type": "stream",
     "text": [
      "K-Fold #7\n",
      "Mean negativities for all classes: [0.36760064860725544, 0.3371457387505464, 0.08717471727646796]\n",
      "Mean entropies for all classes: [3.1336128001831644e-15, 3.8219358133326706e-15, 2.877248148101894e-15]\n",
      "              precision    recall  f1-score   support\n",
      "\n",
      "           0       0.00      0.00      0.00         5\n",
      "           1       0.00      0.00      0.00         5\n",
      "           2       0.30      0.60      0.40         5\n",
      "\n",
      "    accuracy                           0.20        15\n",
      "   macro avg       0.10      0.20      0.13        15\n",
      "weighted avg       0.10      0.20      0.13        15\n",
      "\n",
      "-------------------------------------------------------------------------------------------------------------------\n"
     ]
    },
    {
     "name": "stderr",
     "output_type": "stream",
     "text": [
      "[Parallel(n_jobs=-1)]: Done   3 out of   3 | elapsed:  1.0min finished\n",
      "[Parallel(n_jobs=-1)]: Using backend LokyBackend with 12 concurrent workers.\n"
     ]
    },
    {
     "name": "stdout",
     "output_type": "stream",
     "text": [
      "K-Fold #8\n",
      "Mean negativities for all classes: [0.36201904551728903, 0.3425817181635765, 0.08751274250862255]\n",
      "Mean entropies for all classes: [2.801347198228985e-15, 3.372275999152955e-15, 3.345723761902921e-15]\n",
      "              precision    recall  f1-score   support\n",
      "\n",
      "           0       0.00      0.00      0.00         5\n",
      "           1       0.00      0.00      0.00         5\n",
      "           2       0.33      0.60      0.43         5\n",
      "\n",
      "    accuracy                           0.20        15\n",
      "   macro avg       0.11      0.20      0.14        15\n",
      "weighted avg       0.11      0.20      0.14        15\n",
      "\n",
      "-------------------------------------------------------------------------------------------------------------------\n"
     ]
    },
    {
     "name": "stderr",
     "output_type": "stream",
     "text": [
      "[Parallel(n_jobs=-1)]: Done   3 out of   3 | elapsed:  1.0min finished\n",
      "[Parallel(n_jobs=-1)]: Using backend LokyBackend with 12 concurrent workers.\n"
     ]
    },
    {
     "name": "stdout",
     "output_type": "stream",
     "text": [
      "K-Fold #9\n",
      "Mean negativities for all classes: [0.34991396547140075, 0.3060640472754334, 0.08684543094406179]\n",
      "Mean entropies for all classes: [3.0707380221931767e-15, 3.1115335551514527e-15, 3.3879303069463886e-15]\n",
      "              precision    recall  f1-score   support\n",
      "\n",
      "           0       1.00      0.40      0.57         5\n",
      "           1       0.00      0.00      0.00         5\n",
      "           2       0.25      0.40      0.31         5\n",
      "\n",
      "    accuracy                           0.27        15\n",
      "   macro avg       0.42      0.27      0.29        15\n",
      "weighted avg       0.42      0.27      0.29        15\n",
      "\n",
      "-------------------------------------------------------------------------------------------------------------------\n",
      "AVG: Scores = 0.26 F1-Scores = 0.20501028211554528 Negativity = [0.2599072210388041, 0.2582191935649715, 0.26011129230517316] Entropy = [3.730858453369228e-15, 4.054534374033944e-15, 3.563873457172388e-15]\n"
     ]
    },
    {
     "name": "stderr",
     "output_type": "stream",
     "text": [
      "[Parallel(n_jobs=-1)]: Done   3 out of   3 | elapsed:  1.0min finished\n",
      "c:\\ProgramData\\Anaconda3\\lib\\site-packages\\sklearn\\metrics\\_classification.py:1344: UndefinedMetricWarning: Precision and F-score are ill-defined and being set to 0.0 in labels with no predicted samples. Use `zero_division` parameter to control this behavior.\n",
      "  _warn_prf(average, modifier, msg_start, len(result))\n",
      "c:\\ProgramData\\Anaconda3\\lib\\site-packages\\sklearn\\metrics\\_classification.py:1344: UndefinedMetricWarning: Precision and F-score are ill-defined and being set to 0.0 in labels with no predicted samples. Use `zero_division` parameter to control this behavior.\n",
      "  _warn_prf(average, modifier, msg_start, len(result))\n",
      "c:\\ProgramData\\Anaconda3\\lib\\site-packages\\sklearn\\metrics\\_classification.py:1344: UndefinedMetricWarning: Precision and F-score are ill-defined and being set to 0.0 in labels with no predicted samples. Use `zero_division` parameter to control this behavior.\n",
      "  _warn_prf(average, modifier, msg_start, len(result))\n",
      "[Parallel(n_jobs=-1)]: Using backend LokyBackend with 12 concurrent workers.\n"
     ]
    },
    {
     "name": "stdout",
     "output_type": "stream",
     "text": [
      "K-Fold #0\n",
      "Mean negativities for all classes: [0.36148163810765166, 0.3088843887656952, 0.08671781346755107]\n",
      "Mean entropies for all classes: [3.5710100478473804e-15, 3.877658360604646e-15, 3.374756040366757e-15]\n",
      "              precision    recall  f1-score   support\n",
      "\n",
      "           0       0.00      0.00      0.00         5\n",
      "           1       0.00      0.00      0.00         5\n",
      "           2       0.27      0.60      0.37         5\n",
      "\n",
      "    accuracy                           0.20        15\n",
      "   macro avg       0.09      0.20      0.12        15\n",
      "weighted avg       0.09      0.20      0.12        15\n",
      "\n",
      "-------------------------------------------------------------------------------------------------------------------\n"
     ]
    },
    {
     "name": "stderr",
     "output_type": "stream",
     "text": [
      "[Parallel(n_jobs=-1)]: Done   3 out of   3 | elapsed:  1.0min finished\n",
      "c:\\ProgramData\\Anaconda3\\lib\\site-packages\\sklearn\\metrics\\_classification.py:1344: UndefinedMetricWarning: Precision and F-score are ill-defined and being set to 0.0 in labels with no predicted samples. Use `zero_division` parameter to control this behavior.\n",
      "  _warn_prf(average, modifier, msg_start, len(result))\n",
      "c:\\ProgramData\\Anaconda3\\lib\\site-packages\\sklearn\\metrics\\_classification.py:1344: UndefinedMetricWarning: Precision and F-score are ill-defined and being set to 0.0 in labels with no predicted samples. Use `zero_division` parameter to control this behavior.\n",
      "  _warn_prf(average, modifier, msg_start, len(result))\n",
      "c:\\ProgramData\\Anaconda3\\lib\\site-packages\\sklearn\\metrics\\_classification.py:1344: UndefinedMetricWarning: Precision and F-score are ill-defined and being set to 0.0 in labels with no predicted samples. Use `zero_division` parameter to control this behavior.\n",
      "  _warn_prf(average, modifier, msg_start, len(result))\n",
      "[Parallel(n_jobs=-1)]: Using backend LokyBackend with 12 concurrent workers.\n"
     ]
    },
    {
     "name": "stdout",
     "output_type": "stream",
     "text": [
      "K-Fold #1\n",
      "Mean negativities for all classes: [0.3665509041680294, 0.3130625570221502, 0.0872875612432111]\n",
      "Mean entropies for all classes: [3.142431773528339e-15, 3.55484685036418e-15, 3.667855970576147e-15]\n",
      "              precision    recall  f1-score   support\n",
      "\n",
      "           0       0.00      0.00      0.00         5\n",
      "           1       0.00      0.00      0.00         5\n",
      "           2       0.20      0.40      0.27         5\n",
      "\n",
      "    accuracy                           0.13        15\n",
      "   macro avg       0.07      0.13      0.09        15\n",
      "weighted avg       0.07      0.13      0.09        15\n",
      "\n",
      "-------------------------------------------------------------------------------------------------------------------\n"
     ]
    },
    {
     "name": "stderr",
     "output_type": "stream",
     "text": [
      "[Parallel(n_jobs=-1)]: Done   3 out of   3 | elapsed:  1.0min finished\n",
      "c:\\ProgramData\\Anaconda3\\lib\\site-packages\\sklearn\\metrics\\_classification.py:1344: UndefinedMetricWarning: Precision and F-score are ill-defined and being set to 0.0 in labels with no predicted samples. Use `zero_division` parameter to control this behavior.\n",
      "  _warn_prf(average, modifier, msg_start, len(result))\n",
      "c:\\ProgramData\\Anaconda3\\lib\\site-packages\\sklearn\\metrics\\_classification.py:1344: UndefinedMetricWarning: Precision and F-score are ill-defined and being set to 0.0 in labels with no predicted samples. Use `zero_division` parameter to control this behavior.\n",
      "  _warn_prf(average, modifier, msg_start, len(result))\n",
      "c:\\ProgramData\\Anaconda3\\lib\\site-packages\\sklearn\\metrics\\_classification.py:1344: UndefinedMetricWarning: Precision and F-score are ill-defined and being set to 0.0 in labels with no predicted samples. Use `zero_division` parameter to control this behavior.\n",
      "  _warn_prf(average, modifier, msg_start, len(result))\n",
      "[Parallel(n_jobs=-1)]: Using backend LokyBackend with 12 concurrent workers.\n"
     ]
    },
    {
     "name": "stdout",
     "output_type": "stream",
     "text": [
      "K-Fold #2\n",
      "Mean negativities for all classes: [0.3786742438644543, 0.3394769567949116, 0.08754387875315398]\n",
      "Mean entropies for all classes: [3.586307257047026e-15, 3.124783398075426e-15, 3.6496549394152824e-15]\n",
      "              precision    recall  f1-score   support\n",
      "\n",
      "           0       0.00      0.00      0.00         5\n",
      "           1       0.00      0.00      0.00         5\n",
      "           2       0.27      0.60      0.37         5\n",
      "\n",
      "    accuracy                           0.20        15\n",
      "   macro avg       0.09      0.20      0.12        15\n",
      "weighted avg       0.09      0.20      0.12        15\n",
      "\n",
      "-------------------------------------------------------------------------------------------------------------------\n"
     ]
    },
    {
     "name": "stderr",
     "output_type": "stream",
     "text": [
      "[Parallel(n_jobs=-1)]: Done   3 out of   3 | elapsed:  1.0min finished\n",
      "[Parallel(n_jobs=-1)]: Using backend LokyBackend with 12 concurrent workers.\n"
     ]
    },
    {
     "name": "stdout",
     "output_type": "stream",
     "text": [
      "K-Fold #3\n",
      "Mean negativities for all classes: [0.3436907558687958, 0.31551790645847544, 0.08665872128026943]\n",
      "Mean entropies for all classes: [3.222194106848839e-15, 3.512245879245088e-15, 3.602814400399411e-15]\n",
      "              precision    recall  f1-score   support\n",
      "\n",
      "           0       1.00      0.40      0.57         5\n",
      "           1       0.00      0.00      0.00         5\n",
      "           2       0.30      0.60      0.40         5\n",
      "\n",
      "    accuracy                           0.33        15\n",
      "   macro avg       0.43      0.33      0.32        15\n",
      "weighted avg       0.43      0.33      0.32        15\n",
      "\n",
      "-------------------------------------------------------------------------------------------------------------------\n"
     ]
    },
    {
     "name": "stderr",
     "output_type": "stream",
     "text": [
      "[Parallel(n_jobs=-1)]: Done   3 out of   3 | elapsed:  1.0min finished\n",
      "[Parallel(n_jobs=-1)]: Using backend LokyBackend with 12 concurrent workers.\n"
     ]
    },
    {
     "name": "stdout",
     "output_type": "stream",
     "text": [
      "K-Fold #4\n",
      "Mean negativities for all classes: [0.3654707390564672, 0.3498970510350638, 0.08749076955216552]\n",
      "Mean entropies for all classes: [3.522260045355352e-15, 3.1387791334745208e-15, 3.3051633050367124e-15]\n",
      "              precision    recall  f1-score   support\n",
      "\n",
      "           0       1.00      0.20      0.33         5\n",
      "           1       0.00      0.00      0.00         5\n",
      "           2       0.45      1.00      0.62         5\n",
      "\n",
      "    accuracy                           0.40        15\n",
      "   macro avg       0.48      0.40      0.32        15\n",
      "weighted avg       0.48      0.40      0.32        15\n",
      "\n",
      "-------------------------------------------------------------------------------------------------------------------\n"
     ]
    },
    {
     "name": "stderr",
     "output_type": "stream",
     "text": [
      "[Parallel(n_jobs=-1)]: Done   3 out of   3 | elapsed:  1.0min finished\n",
      "c:\\ProgramData\\Anaconda3\\lib\\site-packages\\sklearn\\metrics\\_classification.py:1344: UndefinedMetricWarning: Precision and F-score are ill-defined and being set to 0.0 in labels with no predicted samples. Use `zero_division` parameter to control this behavior.\n",
      "  _warn_prf(average, modifier, msg_start, len(result))\n",
      "c:\\ProgramData\\Anaconda3\\lib\\site-packages\\sklearn\\metrics\\_classification.py:1344: UndefinedMetricWarning: Precision and F-score are ill-defined and being set to 0.0 in labels with no predicted samples. Use `zero_division` parameter to control this behavior.\n",
      "  _warn_prf(average, modifier, msg_start, len(result))\n",
      "c:\\ProgramData\\Anaconda3\\lib\\site-packages\\sklearn\\metrics\\_classification.py:1344: UndefinedMetricWarning: Precision and F-score are ill-defined and being set to 0.0 in labels with no predicted samples. Use `zero_division` parameter to control this behavior.\n",
      "  _warn_prf(average, modifier, msg_start, len(result))\n",
      "[Parallel(n_jobs=-1)]: Using backend LokyBackend with 12 concurrent workers.\n"
     ]
    },
    {
     "name": "stdout",
     "output_type": "stream",
     "text": [
      "K-Fold #5\n",
      "Mean negativities for all classes: [0.36543303260558085, 0.3116276486202563, 0.0868830533330685]\n",
      "Mean entropies for all classes: [3.649861862690276e-15, 3.328360056101334e-15, 3.264399576921651e-15]\n",
      "              precision    recall  f1-score   support\n",
      "\n",
      "           0       0.00      0.00      0.00         5\n",
      "           1       0.00      0.00      0.00         5\n",
      "           2       0.44      0.80      0.57         5\n",
      "\n",
      "    accuracy                           0.27        15\n",
      "   macro avg       0.15      0.27      0.19        15\n",
      "weighted avg       0.15      0.27      0.19        15\n",
      "\n",
      "-------------------------------------------------------------------------------------------------------------------\n"
     ]
    },
    {
     "name": "stderr",
     "output_type": "stream",
     "text": [
      "[Parallel(n_jobs=-1)]: Done   3 out of   3 | elapsed:  1.0min finished\n",
      "[Parallel(n_jobs=-1)]: Using backend LokyBackend with 12 concurrent workers.\n"
     ]
    },
    {
     "name": "stdout",
     "output_type": "stream",
     "text": [
      "K-Fold #6\n",
      "Mean negativities for all classes: [0.3575189034746218, 0.3322523091350239, 0.08706740830021878]\n",
      "Mean entropies for all classes: [3.894924894449209e-15, 3.0982736219023084e-15, 3.390359687773186e-15]\n",
      "              precision    recall  f1-score   support\n",
      "\n",
      "           0       0.20      0.20      0.20         5\n",
      "           1       0.00      0.00      0.00         5\n",
      "           2       0.67      0.80      0.73         5\n",
      "\n",
      "    accuracy                           0.33        15\n",
      "   macro avg       0.29      0.33      0.31        15\n",
      "weighted avg       0.29      0.33      0.31        15\n",
      "\n",
      "-------------------------------------------------------------------------------------------------------------------\n"
     ]
    },
    {
     "name": "stderr",
     "output_type": "stream",
     "text": [
      "[Parallel(n_jobs=-1)]: Done   3 out of   3 | elapsed:  1.0min finished\n",
      "c:\\ProgramData\\Anaconda3\\lib\\site-packages\\sklearn\\metrics\\_classification.py:1344: UndefinedMetricWarning: Precision and F-score are ill-defined and being set to 0.0 in labels with no predicted samples. Use `zero_division` parameter to control this behavior.\n",
      "  _warn_prf(average, modifier, msg_start, len(result))\n",
      "c:\\ProgramData\\Anaconda3\\lib\\site-packages\\sklearn\\metrics\\_classification.py:1344: UndefinedMetricWarning: Precision and F-score are ill-defined and being set to 0.0 in labels with no predicted samples. Use `zero_division` parameter to control this behavior.\n",
      "  _warn_prf(average, modifier, msg_start, len(result))\n",
      "c:\\ProgramData\\Anaconda3\\lib\\site-packages\\sklearn\\metrics\\_classification.py:1344: UndefinedMetricWarning: Precision and F-score are ill-defined and being set to 0.0 in labels with no predicted samples. Use `zero_division` parameter to control this behavior.\n",
      "  _warn_prf(average, modifier, msg_start, len(result))\n",
      "[Parallel(n_jobs=-1)]: Using backend LokyBackend with 12 concurrent workers.\n"
     ]
    },
    {
     "name": "stdout",
     "output_type": "stream",
     "text": [
      "K-Fold #7\n",
      "Mean negativities for all classes: [0.35640751915377245, 0.3647627351595276, 0.08621598482826463]\n",
      "Mean entropies for all classes: [3.901655644774155e-15, 3.454674687331019e-15, 3.2044634563264583e-15]\n",
      "              precision    recall  f1-score   support\n",
      "\n",
      "           0       0.00      0.00      0.00         5\n",
      "           1       0.00      0.00      0.00         5\n",
      "           2       0.38      1.00      0.56         5\n",
      "\n",
      "    accuracy                           0.33        15\n",
      "   macro avg       0.13      0.33      0.19        15\n",
      "weighted avg       0.13      0.33      0.19        15\n",
      "\n",
      "-------------------------------------------------------------------------------------------------------------------\n"
     ]
    },
    {
     "name": "stderr",
     "output_type": "stream",
     "text": [
      "[Parallel(n_jobs=-1)]: Done   3 out of   3 | elapsed:  1.1min finished\n",
      "[Parallel(n_jobs=-1)]: Using backend LokyBackend with 12 concurrent workers.\n"
     ]
    },
    {
     "name": "stdout",
     "output_type": "stream",
     "text": [
      "K-Fold #8\n",
      "Mean negativities for all classes: [0.3581602896654271, 0.3144121780625794, 0.08702383918399915]\n",
      "Mean entropies for all classes: [3.1745109030192186e-15, 3.664953550624833e-15, 3.8987085940949115e-15]\n",
      "              precision    recall  f1-score   support\n",
      "\n",
      "           0       1.00      0.20      0.33         5\n",
      "           1       0.00      0.00      0.00         5\n",
      "           2       0.25      0.40      0.31         5\n",
      "\n",
      "    accuracy                           0.20        15\n",
      "   macro avg       0.42      0.20      0.21        15\n",
      "weighted avg       0.42      0.20      0.21        15\n",
      "\n",
      "-------------------------------------------------------------------------------------------------------------------\n"
     ]
    },
    {
     "name": "stderr",
     "output_type": "stream",
     "text": [
      "[Parallel(n_jobs=-1)]: Done   3 out of   3 | elapsed:  1.0min finished\n",
      "[Parallel(n_jobs=-1)]: Using backend LokyBackend with 12 concurrent workers.\n"
     ]
    },
    {
     "name": "stdout",
     "output_type": "stream",
     "text": [
      "K-Fold #9\n",
      "Mean negativities for all classes: [0.36592851713587243, 0.3274343814343212, 0.08707783914885166]\n",
      "Mean entropies for all classes: [3.4110139028791603e-15, 3.4399714859321637e-15, 3.261788232274759e-15]\n",
      "              precision    recall  f1-score   support\n",
      "\n",
      "           0       1.00      0.40      0.57         5\n",
      "           1       0.00      0.00      0.00         5\n",
      "           2       0.33      0.60      0.43         5\n",
      "\n",
      "    accuracy                           0.33        15\n",
      "   macro avg       0.44      0.33      0.33        15\n",
      "weighted avg       0.44      0.33      0.33        15\n",
      "\n",
      "-------------------------------------------------------------------------------------------------------------------\n",
      "AVG: Scores = 0.2733333333333334 F1-Scores = 0.2213903688903689 Negativity = [0.2523612801136326, 0.2556336741444636, 0.26856502647083996] Entropy = [3.6078081496062615e-15, 3.4550448648228886e-15, 3.4535818648459115e-15]\n"
     ]
    },
    {
     "name": "stderr",
     "output_type": "stream",
     "text": [
      "[Parallel(n_jobs=-1)]: Done   3 out of   3 | elapsed:  1.0min finished\n",
      "c:\\ProgramData\\Anaconda3\\lib\\site-packages\\sklearn\\metrics\\_classification.py:1344: UndefinedMetricWarning: Precision and F-score are ill-defined and being set to 0.0 in labels with no predicted samples. Use `zero_division` parameter to control this behavior.\n",
      "  _warn_prf(average, modifier, msg_start, len(result))\n",
      "c:\\ProgramData\\Anaconda3\\lib\\site-packages\\sklearn\\metrics\\_classification.py:1344: UndefinedMetricWarning: Precision and F-score are ill-defined and being set to 0.0 in labels with no predicted samples. Use `zero_division` parameter to control this behavior.\n",
      "  _warn_prf(average, modifier, msg_start, len(result))\n",
      "c:\\ProgramData\\Anaconda3\\lib\\site-packages\\sklearn\\metrics\\_classification.py:1344: UndefinedMetricWarning: Precision and F-score are ill-defined and being set to 0.0 in labels with no predicted samples. Use `zero_division` parameter to control this behavior.\n",
      "  _warn_prf(average, modifier, msg_start, len(result))\n",
      "[Parallel(n_jobs=-1)]: Using backend LokyBackend with 12 concurrent workers.\n"
     ]
    },
    {
     "name": "stdout",
     "output_type": "stream",
     "text": [
      "K-Fold #0\n",
      "Mean negativities for all classes: [0.3775446754177565, 0.34785368498484837, 0.08751666149948555]\n",
      "Mean entropies for all classes: [2.8448706040248858e-15, 3.609621387887205e-15, 3.0606597074362707e-15]\n",
      "              precision    recall  f1-score   support\n",
      "\n",
      "           0       0.00      0.00      0.00         5\n",
      "           1       0.00      0.00      0.00         5\n",
      "           2       0.36      0.80      0.50         5\n",
      "\n",
      "    accuracy                           0.27        15\n",
      "   macro avg       0.12      0.27      0.17        15\n",
      "weighted avg       0.12      0.27      0.17        15\n",
      "\n",
      "-------------------------------------------------------------------------------------------------------------------\n"
     ]
    },
    {
     "name": "stderr",
     "output_type": "stream",
     "text": [
      "[Parallel(n_jobs=-1)]: Done   3 out of   3 | elapsed:  1.0min finished\n",
      "[Parallel(n_jobs=-1)]: Using backend LokyBackend with 12 concurrent workers.\n"
     ]
    },
    {
     "name": "stdout",
     "output_type": "stream",
     "text": [
      "K-Fold #1\n",
      "Mean negativities for all classes: [0.36129324540804836, 0.3040954873292986, 0.08739787589935162]\n",
      "Mean entropies for all classes: [4.383630810549452e-15, 3.586297418278544e-15, 3.9112898773629655e-15]\n",
      "              precision    recall  f1-score   support\n",
      "\n",
      "           0       0.00      0.00      0.00         5\n",
      "           1       0.00      0.00      0.00         5\n",
      "           2       0.25      0.40      0.31         5\n",
      "\n",
      "    accuracy                           0.13        15\n",
      "   macro avg       0.08      0.13      0.10        15\n",
      "weighted avg       0.08      0.13      0.10        15\n",
      "\n",
      "-------------------------------------------------------------------------------------------------------------------\n"
     ]
    },
    {
     "name": "stderr",
     "output_type": "stream",
     "text": [
      "[Parallel(n_jobs=-1)]: Done   3 out of   3 | elapsed:  1.0min finished\n",
      "[Parallel(n_jobs=-1)]: Using backend LokyBackend with 12 concurrent workers.\n"
     ]
    },
    {
     "name": "stdout",
     "output_type": "stream",
     "text": [
      "K-Fold #2\n",
      "Mean negativities for all classes: [0.35747835540358774, 0.32622324563266647, 0.0868708436092318]\n",
      "Mean entropies for all classes: [3.621124253301157e-15, 3.458560286523448e-15, 4.359140259954955e-15]\n",
      "              precision    recall  f1-score   support\n",
      "\n",
      "           0       0.50      0.20      0.29         5\n",
      "           1       0.00      0.00      0.00         5\n",
      "           2       0.27      0.60      0.37         5\n",
      "\n",
      "    accuracy                           0.27        15\n",
      "   macro avg       0.26      0.27      0.22        15\n",
      "weighted avg       0.26      0.27      0.22        15\n",
      "\n",
      "-------------------------------------------------------------------------------------------------------------------\n"
     ]
    },
    {
     "name": "stderr",
     "output_type": "stream",
     "text": [
      "[Parallel(n_jobs=-1)]: Done   3 out of   3 | elapsed:  1.0min finished\n",
      "[Parallel(n_jobs=-1)]: Using backend LokyBackend with 12 concurrent workers.\n"
     ]
    },
    {
     "name": "stdout",
     "output_type": "stream",
     "text": [
      "K-Fold #3\n",
      "Mean negativities for all classes: [0.35352435791007186, 0.32669246303246335, 0.08705956032179477]\n",
      "Mean entropies for all classes: [3.0097184326591655e-15, 3.4573595297800754e-15, 3.49438560364356e-15]\n",
      "              precision    recall  f1-score   support\n",
      "\n",
      "           0       1.00      0.40      0.57         5\n",
      "           1       0.00      0.00      0.00         5\n",
      "           2       0.33      0.60      0.43         5\n",
      "\n",
      "    accuracy                           0.33        15\n",
      "   macro avg       0.44      0.33      0.33        15\n",
      "weighted avg       0.44      0.33      0.33        15\n",
      "\n",
      "-------------------------------------------------------------------------------------------------------------------\n"
     ]
    },
    {
     "name": "stderr",
     "output_type": "stream",
     "text": [
      "[Parallel(n_jobs=-1)]: Done   3 out of   3 | elapsed:  1.0min finished\n",
      "[Parallel(n_jobs=-1)]: Using backend LokyBackend with 12 concurrent workers.\n"
     ]
    },
    {
     "name": "stdout",
     "output_type": "stream",
     "text": [
      "K-Fold #4\n",
      "Mean negativities for all classes: [0.35536421833262577, 0.32427209534952117, 0.08690499371471287]\n",
      "Mean entropies for all classes: [4.336882678791003e-15, 2.7635477388418557e-15, 3.0816397197766886e-15]\n",
      "              precision    recall  f1-score   support\n",
      "\n",
      "           0       1.00      0.40      0.57         5\n",
      "           1       0.00      0.00      0.00         5\n",
      "           2       0.29      0.40      0.33         5\n",
      "\n",
      "    accuracy                           0.27        15\n",
      "   macro avg       0.43      0.27      0.30        15\n",
      "weighted avg       0.43      0.27      0.30        15\n",
      "\n",
      "-------------------------------------------------------------------------------------------------------------------\n"
     ]
    },
    {
     "name": "stderr",
     "output_type": "stream",
     "text": [
      "[Parallel(n_jobs=-1)]: Done   3 out of   3 | elapsed:  1.0min finished\n",
      "[Parallel(n_jobs=-1)]: Using backend LokyBackend with 12 concurrent workers.\n"
     ]
    },
    {
     "name": "stdout",
     "output_type": "stream",
     "text": [
      "K-Fold #5\n",
      "Mean negativities for all classes: [0.36202351541429906, 0.31570983888431403, 0.08676554385127394]\n",
      "Mean entropies for all classes: [3.5484203682910825e-15, 3.881853157806902e-15, 3.162720109133767e-15]\n",
      "              precision    recall  f1-score   support\n",
      "\n",
      "           0       0.50      0.20      0.29         5\n",
      "           1       0.00      0.00      0.00         5\n",
      "           2       0.33      0.60      0.43         5\n",
      "\n",
      "    accuracy                           0.27        15\n",
      "   macro avg       0.28      0.27      0.24        15\n",
      "weighted avg       0.28      0.27      0.24        15\n",
      "\n",
      "-------------------------------------------------------------------------------------------------------------------\n"
     ]
    },
    {
     "name": "stderr",
     "output_type": "stream",
     "text": [
      "[Parallel(n_jobs=-1)]: Done   3 out of   3 | elapsed:  1.0min finished\n",
      "[Parallel(n_jobs=-1)]: Using backend LokyBackend with 12 concurrent workers.\n"
     ]
    },
    {
     "name": "stdout",
     "output_type": "stream",
     "text": [
      "K-Fold #6\n",
      "Mean negativities for all classes: [0.36268523787568135, 0.33650352841682013, 0.08707902101339227]\n",
      "Mean entropies for all classes: [2.8427420391840446e-15, 3.554852443816146e-15, 2.7586840248880075e-15]\n",
      "              precision    recall  f1-score   support\n",
      "\n",
      "           0       0.50      0.20      0.29         5\n",
      "           1       0.00      0.00      0.00         5\n",
      "           2       0.44      0.80      0.57         5\n",
      "\n",
      "    accuracy                           0.33        15\n",
      "   macro avg       0.31      0.33      0.29        15\n",
      "weighted avg       0.31      0.33      0.29        15\n",
      "\n",
      "-------------------------------------------------------------------------------------------------------------------\n"
     ]
    },
    {
     "name": "stderr",
     "output_type": "stream",
     "text": [
      "[Parallel(n_jobs=-1)]: Done   3 out of   3 | elapsed:  1.0min finished\n",
      "[Parallel(n_jobs=-1)]: Using backend LokyBackend with 12 concurrent workers.\n"
     ]
    },
    {
     "name": "stdout",
     "output_type": "stream",
     "text": [
      "K-Fold #7\n",
      "Mean negativities for all classes: [0.3682323099133299, 0.3144877335175398, 0.08688421547239536]\n",
      "Mean entropies for all classes: [3.3784652596530553e-15, 3.951737194221224e-15, 3.247068102090482e-15]\n",
      "              precision    recall  f1-score   support\n",
      "\n",
      "           0       1.00      0.20      0.33         5\n",
      "           1       0.00      0.00      0.00         5\n",
      "           2       0.29      0.40      0.33         5\n",
      "\n",
      "    accuracy                           0.20        15\n",
      "   macro avg       0.43      0.20      0.22        15\n",
      "weighted avg       0.43      0.20      0.22        15\n",
      "\n",
      "-------------------------------------------------------------------------------------------------------------------\n"
     ]
    },
    {
     "name": "stderr",
     "output_type": "stream",
     "text": [
      "[Parallel(n_jobs=-1)]: Done   3 out of   3 | elapsed:  1.0min finished\n",
      "[Parallel(n_jobs=-1)]: Using backend LokyBackend with 12 concurrent workers.\n"
     ]
    },
    {
     "name": "stdout",
     "output_type": "stream",
     "text": [
      "K-Fold #8\n",
      "Mean negativities for all classes: [0.36460911711132354, 0.3386632798540085, 0.08757967328522162]\n",
      "Mean entropies for all classes: [3.3370662882354305e-15, 3.9808982511332176e-15, 3.195506655706478e-15]\n",
      "              precision    recall  f1-score   support\n",
      "\n",
      "           0       0.00      0.00      0.00         5\n",
      "           1       0.00      0.00      0.00         5\n",
      "           2       0.30      0.60      0.40         5\n",
      "\n",
      "    accuracy                           0.20        15\n",
      "   macro avg       0.10      0.20      0.13        15\n",
      "weighted avg       0.10      0.20      0.13        15\n",
      "\n",
      "-------------------------------------------------------------------------------------------------------------------\n"
     ]
    },
    {
     "name": "stderr",
     "output_type": "stream",
     "text": [
      "[Parallel(n_jobs=-1)]: Done   3 out of   3 | elapsed:  1.0min finished\n",
      "c:\\ProgramData\\Anaconda3\\lib\\site-packages\\sklearn\\metrics\\_classification.py:1344: UndefinedMetricWarning: Precision and F-score are ill-defined and being set to 0.0 in labels with no predicted samples. Use `zero_division` parameter to control this behavior.\n",
      "  _warn_prf(average, modifier, msg_start, len(result))\n",
      "c:\\ProgramData\\Anaconda3\\lib\\site-packages\\sklearn\\metrics\\_classification.py:1344: UndefinedMetricWarning: Precision and F-score are ill-defined and being set to 0.0 in labels with no predicted samples. Use `zero_division` parameter to control this behavior.\n",
      "  _warn_prf(average, modifier, msg_start, len(result))\n",
      "c:\\ProgramData\\Anaconda3\\lib\\site-packages\\sklearn\\metrics\\_classification.py:1344: UndefinedMetricWarning: Precision and F-score are ill-defined and being set to 0.0 in labels with no predicted samples. Use `zero_division` parameter to control this behavior.\n",
      "  _warn_prf(average, modifier, msg_start, len(result))\n",
      "[Parallel(n_jobs=-1)]: Using backend LokyBackend with 12 concurrent workers.\n"
     ]
    },
    {
     "name": "stdout",
     "output_type": "stream",
     "text": [
      "K-Fold #9\n",
      "Mean negativities for all classes: [0.3505191049956485, 0.36299885343791, 0.08595171336835751]\n",
      "Mean entropies for all classes: [4.1920248245372784e-15, 3.916344866526924e-15, 3.126669557169234e-15]\n",
      "              precision    recall  f1-score   support\n",
      "\n",
      "           0       0.00      0.00      0.00         5\n",
      "           1       0.00      0.00      0.00         5\n",
      "           2       0.36      1.00      0.53         5\n",
      "\n",
      "    accuracy                           0.33        15\n",
      "   macro avg       0.12      0.33      0.18        15\n",
      "weighted avg       0.12      0.33      0.18        15\n",
      "\n",
      "-------------------------------------------------------------------------------------------------------------------\n",
      "AVG: Scores = 0.26 F1-Scores = 0.21791931752458074 Negativity = [0.2709716739673635, 0.2509288695455662, 0.25685748154849536] Entropy = [3.1717172331161208e-15, 3.960406035396987e-15, 3.8129415999265205e-15]\n"
     ]
    },
    {
     "name": "stderr",
     "output_type": "stream",
     "text": [
      "[Parallel(n_jobs=-1)]: Done   3 out of   3 | elapsed:  1.0min finished\n",
      "[Parallel(n_jobs=-1)]: Using backend LokyBackend with 12 concurrent workers.\n"
     ]
    },
    {
     "name": "stdout",
     "output_type": "stream",
     "text": [
      "K-Fold #0\n",
      "Mean negativities for all classes: [0.3659802145217096, 0.3296971687697267, 0.087692083691576]\n",
      "Mean entropies for all classes: [4.124388594361525e-15, 3.7639196778398e-15, 3.5467335640374734e-15]\n",
      "              precision    recall  f1-score   support\n",
      "\n",
      "           0       1.00      0.20      0.33         5\n",
      "           1       0.00      0.00      0.00         5\n",
      "           2       0.44      0.80      0.57         5\n",
      "\n",
      "    accuracy                           0.33        15\n",
      "   macro avg       0.48      0.33      0.30        15\n",
      "weighted avg       0.48      0.33      0.30        15\n",
      "\n",
      "-------------------------------------------------------------------------------------------------------------------\n"
     ]
    },
    {
     "name": "stderr",
     "output_type": "stream",
     "text": [
      "[Parallel(n_jobs=-1)]: Done   3 out of   3 | elapsed:  1.0min finished\n",
      "[Parallel(n_jobs=-1)]: Using backend LokyBackend with 12 concurrent workers.\n"
     ]
    },
    {
     "name": "stdout",
     "output_type": "stream",
     "text": [
      "K-Fold #1\n",
      "Mean negativities for all classes: [0.3575337521275658, 0.32100418580654433, 0.08688524178082864]\n",
      "Mean entropies for all classes: [3.9049545312792836e-15, 2.6836246504899496e-15, 3.542530793178069e-15]\n",
      "              precision    recall  f1-score   support\n",
      "\n",
      "           0       0.00      0.00      0.00         5\n",
      "           1       0.00      0.00      0.00         5\n",
      "           2       0.29      0.40      0.33         5\n",
      "\n",
      "    accuracy                           0.13        15\n",
      "   macro avg       0.10      0.13      0.11        15\n",
      "weighted avg       0.10      0.13      0.11        15\n",
      "\n",
      "-------------------------------------------------------------------------------------------------------------------\n"
     ]
    },
    {
     "name": "stderr",
     "output_type": "stream",
     "text": [
      "[Parallel(n_jobs=-1)]: Done   3 out of   3 | elapsed:  1.0min finished\n",
      "[Parallel(n_jobs=-1)]: Using backend LokyBackend with 12 concurrent workers.\n"
     ]
    },
    {
     "name": "stdout",
     "output_type": "stream",
     "text": [
      "K-Fold #2\n",
      "Mean negativities for all classes: [0.3564705728204477, 0.3630495220844077, 0.08577083795118898]\n",
      "Mean entropies for all classes: [3.50268186112456e-15, 4.568582085936632e-15, 3.757078054784764e-15]\n",
      "              precision    recall  f1-score   support\n",
      "\n",
      "           0       0.00      0.00      0.00         5\n",
      "           1       0.00      0.00      0.00         5\n",
      "           2       0.33      0.80      0.47         5\n",
      "\n",
      "    accuracy                           0.27        15\n",
      "   macro avg       0.11      0.27      0.16        15\n",
      "weighted avg       0.11      0.27      0.16        15\n",
      "\n",
      "-------------------------------------------------------------------------------------------------------------------\n"
     ]
    },
    {
     "name": "stderr",
     "output_type": "stream",
     "text": [
      "[Parallel(n_jobs=-1)]: Done   3 out of   3 | elapsed:  1.0min finished\n",
      "[Parallel(n_jobs=-1)]: Using backend LokyBackend with 12 concurrent workers.\n"
     ]
    },
    {
     "name": "stdout",
     "output_type": "stream",
     "text": [
      "K-Fold #3\n",
      "Mean negativities for all classes: [0.35956021918203007, 0.34770316686870456, 0.08717044921403903]\n",
      "Mean entropies for all classes: [3.398167723330588e-15, 3.488002183765486e-15, 3.661638811306709e-15]\n",
      "              precision    recall  f1-score   support\n",
      "\n",
      "           0       0.50      0.20      0.29         5\n",
      "           1       0.00      0.00      0.00         5\n",
      "           2       0.36      0.80      0.50         5\n",
      "\n",
      "    accuracy                           0.33        15\n",
      "   macro avg       0.29      0.33      0.26        15\n",
      "weighted avg       0.29      0.33      0.26        15\n",
      "\n",
      "-------------------------------------------------------------------------------------------------------------------\n"
     ]
    },
    {
     "name": "stderr",
     "output_type": "stream",
     "text": [
      "[Parallel(n_jobs=-1)]: Done   3 out of   3 | elapsed:  1.0min finished\n",
      "[Parallel(n_jobs=-1)]: Using backend LokyBackend with 12 concurrent workers.\n"
     ]
    },
    {
     "name": "stdout",
     "output_type": "stream",
     "text": [
      "K-Fold #4\n",
      "Mean negativities for all classes: [0.3698796931120761, 0.32296388533989634, 0.08739211919872238]\n",
      "Mean entropies for all classes: [3.968139533340704e-15, 4.021108991021001e-15, 3.2740720393996548e-15]\n",
      "              precision    recall  f1-score   support\n",
      "\n",
      "           0       1.00      0.20      0.33         5\n",
      "           1       0.00      0.00      0.00         5\n",
      "           2       0.30      0.60      0.40         5\n",
      "\n",
      "    accuracy                           0.27        15\n",
      "   macro avg       0.43      0.27      0.24        15\n",
      "weighted avg       0.43      0.27      0.24        15\n",
      "\n",
      "-------------------------------------------------------------------------------------------------------------------\n"
     ]
    },
    {
     "name": "stderr",
     "output_type": "stream",
     "text": [
      "[Parallel(n_jobs=-1)]: Done   3 out of   3 | elapsed:  1.0min finished\n",
      "[Parallel(n_jobs=-1)]: Using backend LokyBackend with 12 concurrent workers.\n"
     ]
    },
    {
     "name": "stdout",
     "output_type": "stream",
     "text": [
      "K-Fold #5\n",
      "Mean negativities for all classes: [0.36308834005905183, 0.3348854970534148, 0.08688276428070286]\n",
      "Mean entropies for all classes: [3.620296064834334e-15, 3.873629220320796e-15, 3.4227633122534816e-15]\n",
      "              precision    recall  f1-score   support\n",
      "\n",
      "           0       1.00      0.40      0.57         5\n",
      "           1       0.00      0.00      0.00         5\n",
      "           2       0.36      0.80      0.50         5\n",
      "\n",
      "    accuracy                           0.40        15\n",
      "   macro avg       0.45      0.40      0.36        15\n",
      "weighted avg       0.45      0.40      0.36        15\n",
      "\n",
      "-------------------------------------------------------------------------------------------------------------------\n"
     ]
    },
    {
     "name": "stderr",
     "output_type": "stream",
     "text": [
      "[Parallel(n_jobs=-1)]: Done   3 out of   3 | elapsed:  1.0min finished\n",
      "c:\\ProgramData\\Anaconda3\\lib\\site-packages\\sklearn\\metrics\\_classification.py:1344: UndefinedMetricWarning: Precision and F-score are ill-defined and being set to 0.0 in labels with no predicted samples. Use `zero_division` parameter to control this behavior.\n",
      "  _warn_prf(average, modifier, msg_start, len(result))\n",
      "c:\\ProgramData\\Anaconda3\\lib\\site-packages\\sklearn\\metrics\\_classification.py:1344: UndefinedMetricWarning: Precision and F-score are ill-defined and being set to 0.0 in labels with no predicted samples. Use `zero_division` parameter to control this behavior.\n",
      "  _warn_prf(average, modifier, msg_start, len(result))\n",
      "c:\\ProgramData\\Anaconda3\\lib\\site-packages\\sklearn\\metrics\\_classification.py:1344: UndefinedMetricWarning: Precision and F-score are ill-defined and being set to 0.0 in labels with no predicted samples. Use `zero_division` parameter to control this behavior.\n",
      "  _warn_prf(average, modifier, msg_start, len(result))\n",
      "[Parallel(n_jobs=-1)]: Using backend LokyBackend with 12 concurrent workers.\n"
     ]
    },
    {
     "name": "stdout",
     "output_type": "stream",
     "text": [
      "K-Fold #6\n",
      "Mean negativities for all classes: [0.3601543510756653, 0.3138307889415507, 0.08736757027145936]\n",
      "Mean entropies for all classes: [3.2536592239110716e-15, 3.388018543226026e-15, 3.3128048379042577e-15]\n",
      "              precision    recall  f1-score   support\n",
      "\n",
      "           0       0.00      0.00      0.00         5\n",
      "           1       0.00      0.00      0.00         5\n",
      "           2       0.20      0.40      0.27         5\n",
      "\n",
      "    accuracy                           0.13        15\n",
      "   macro avg       0.07      0.13      0.09        15\n",
      "weighted avg       0.07      0.13      0.09        15\n",
      "\n",
      "-------------------------------------------------------------------------------------------------------------------\n"
     ]
    },
    {
     "name": "stderr",
     "output_type": "stream",
     "text": [
      "[Parallel(n_jobs=-1)]: Done   3 out of   3 | elapsed:  1.0min finished\n",
      "[Parallel(n_jobs=-1)]: Using backend LokyBackend with 12 concurrent workers.\n"
     ]
    },
    {
     "name": "stdout",
     "output_type": "stream",
     "text": [
      "K-Fold #7\n",
      "Mean negativities for all classes: [0.3519044210711521, 0.30626063635342765, 0.08694568226804608]\n",
      "Mean entropies for all classes: [2.719955536944668e-15, 4.712016857248251e-15, 3.67125997343894e-15]\n",
      "              precision    recall  f1-score   support\n",
      "\n",
      "           0       1.00      0.20      0.33         5\n",
      "           1       0.00      0.00      0.00         5\n",
      "           2       0.17      0.20      0.18         5\n",
      "\n",
      "    accuracy                           0.13        15\n",
      "   macro avg       0.39      0.13      0.17        15\n",
      "weighted avg       0.39      0.13      0.17        15\n",
      "\n",
      "-------------------------------------------------------------------------------------------------------------------\n"
     ]
    },
    {
     "name": "stderr",
     "output_type": "stream",
     "text": [
      "[Parallel(n_jobs=-1)]: Done   3 out of   3 | elapsed:  1.0min finished\n",
      "c:\\ProgramData\\Anaconda3\\lib\\site-packages\\sklearn\\metrics\\_classification.py:1344: UndefinedMetricWarning: Precision and F-score are ill-defined and being set to 0.0 in labels with no predicted samples. Use `zero_division` parameter to control this behavior.\n",
      "  _warn_prf(average, modifier, msg_start, len(result))\n",
      "c:\\ProgramData\\Anaconda3\\lib\\site-packages\\sklearn\\metrics\\_classification.py:1344: UndefinedMetricWarning: Precision and F-score are ill-defined and being set to 0.0 in labels with no predicted samples. Use `zero_division` parameter to control this behavior.\n",
      "  _warn_prf(average, modifier, msg_start, len(result))\n",
      "c:\\ProgramData\\Anaconda3\\lib\\site-packages\\sklearn\\metrics\\_classification.py:1344: UndefinedMetricWarning: Precision and F-score are ill-defined and being set to 0.0 in labels with no predicted samples. Use `zero_division` parameter to control this behavior.\n",
      "  _warn_prf(average, modifier, msg_start, len(result))\n",
      "[Parallel(n_jobs=-1)]: Using backend LokyBackend with 12 concurrent workers.\n"
     ]
    },
    {
     "name": "stdout",
     "output_type": "stream",
     "text": [
      "K-Fold #8\n",
      "Mean negativities for all classes: [0.3679192409379543, 0.3332902897325311, 0.08701673172580837]\n",
      "Mean entropies for all classes: [3.4417976255443626e-15, 3.924464029187496e-15, 3.5713517988827225e-15]\n",
      "              precision    recall  f1-score   support\n",
      "\n",
      "           0       0.00      0.00      0.00         5\n",
      "           1       0.00      0.00      0.00         5\n",
      "           2       0.18      0.40      0.25         5\n",
      "\n",
      "    accuracy                           0.13        15\n",
      "   macro avg       0.06      0.13      0.08        15\n",
      "weighted avg       0.06      0.13      0.08        15\n",
      "\n",
      "-------------------------------------------------------------------------------------------------------------------\n"
     ]
    },
    {
     "name": "stderr",
     "output_type": "stream",
     "text": [
      "[Parallel(n_jobs=-1)]: Done   3 out of   3 | elapsed:  1.0min finished\n",
      "[Parallel(n_jobs=-1)]: Using backend LokyBackend with 12 concurrent workers.\n"
     ]
    },
    {
     "name": "stdout",
     "output_type": "stream",
     "text": [
      "K-Fold #9\n",
      "Mean negativities for all classes: [0.36292248619524603, 0.31356487215674345, 0.08693457830041673]\n",
      "Mean entropies for all classes: [4.088460320646317e-15, 3.927843460242657e-15, 3.72554035657614e-15]\n",
      "              precision    recall  f1-score   support\n",
      "\n",
      "           0       0.00      0.00      0.00         5\n",
      "           1       0.00      0.00      0.00         5\n",
      "           2       0.40      0.80      0.53         5\n",
      "\n",
      "    accuracy                           0.27        15\n",
      "   macro avg       0.13      0.27      0.18        15\n",
      "weighted avg       0.13      0.27      0.18        15\n",
      "\n",
      "-------------------------------------------------------------------------------------------------------------------\n",
      "AVG: Scores = 0.24 F1-Scores = 0.1954770393005687 Negativity = [0.2611231556610041, 0.2551410599049796, 0.2684303109520148] Entropy = [3.811680612079599e-15, 3.3770366583157673e-15, 3.942780667281986e-15]\n"
     ]
    },
    {
     "name": "stderr",
     "output_type": "stream",
     "text": [
      "[Parallel(n_jobs=-1)]: Done   3 out of   3 | elapsed:  1.0min finished\n",
      "c:\\ProgramData\\Anaconda3\\lib\\site-packages\\sklearn\\metrics\\_classification.py:1344: UndefinedMetricWarning: Precision and F-score are ill-defined and being set to 0.0 in labels with no predicted samples. Use `zero_division` parameter to control this behavior.\n",
      "  _warn_prf(average, modifier, msg_start, len(result))\n",
      "c:\\ProgramData\\Anaconda3\\lib\\site-packages\\sklearn\\metrics\\_classification.py:1344: UndefinedMetricWarning: Precision and F-score are ill-defined and being set to 0.0 in labels with no predicted samples. Use `zero_division` parameter to control this behavior.\n",
      "  _warn_prf(average, modifier, msg_start, len(result))\n",
      "c:\\ProgramData\\Anaconda3\\lib\\site-packages\\sklearn\\metrics\\_classification.py:1344: UndefinedMetricWarning: Precision and F-score are ill-defined and being set to 0.0 in labels with no predicted samples. Use `zero_division` parameter to control this behavior.\n",
      "  _warn_prf(average, modifier, msg_start, len(result))\n",
      "[Parallel(n_jobs=-1)]: Using backend LokyBackend with 12 concurrent workers.\n"
     ]
    },
    {
     "name": "stdout",
     "output_type": "stream",
     "text": [
      "K-Fold #0\n",
      "Mean negativities for all classes: [0.35526407501504487, 0.33635589291642337, 0.08654254591397821]\n",
      "Mean entropies for all classes: [3.064619104044357e-15, 4.255720776984592e-15, 3.4842223644189712e-15]\n",
      "              precision    recall  f1-score   support\n",
      "\n",
      "           0       0.00      0.00      0.00         5\n",
      "           1       0.00      0.00      0.00         5\n",
      "           2       0.30      0.60      0.40         5\n",
      "\n",
      "    accuracy                           0.20        15\n",
      "   macro avg       0.10      0.20      0.13        15\n",
      "weighted avg       0.10      0.20      0.13        15\n",
      "\n",
      "-------------------------------------------------------------------------------------------------------------------\n"
     ]
    },
    {
     "name": "stderr",
     "output_type": "stream",
     "text": [
      "[Parallel(n_jobs=-1)]: Done   3 out of   3 | elapsed:  1.0min finished\n",
      "c:\\ProgramData\\Anaconda3\\lib\\site-packages\\sklearn\\metrics\\_classification.py:1344: UndefinedMetricWarning: Precision and F-score are ill-defined and being set to 0.0 in labels with no predicted samples. Use `zero_division` parameter to control this behavior.\n",
      "  _warn_prf(average, modifier, msg_start, len(result))\n",
      "c:\\ProgramData\\Anaconda3\\lib\\site-packages\\sklearn\\metrics\\_classification.py:1344: UndefinedMetricWarning: Precision and F-score are ill-defined and being set to 0.0 in labels with no predicted samples. Use `zero_division` parameter to control this behavior.\n",
      "  _warn_prf(average, modifier, msg_start, len(result))\n",
      "c:\\ProgramData\\Anaconda3\\lib\\site-packages\\sklearn\\metrics\\_classification.py:1344: UndefinedMetricWarning: Precision and F-score are ill-defined and being set to 0.0 in labels with no predicted samples. Use `zero_division` parameter to control this behavior.\n",
      "  _warn_prf(average, modifier, msg_start, len(result))\n",
      "[Parallel(n_jobs=-1)]: Using backend LokyBackend with 12 concurrent workers.\n"
     ]
    },
    {
     "name": "stdout",
     "output_type": "stream",
     "text": [
      "K-Fold #1\n",
      "Mean negativities for all classes: [0.355066985465005, 0.3521401078354465, 0.08702986297160388]\n",
      "Mean entropies for all classes: [3.193924750638478e-15, 3.196262619744359e-15, 3.4518418180049828e-15]\n",
      "              precision    recall  f1-score   support\n",
      "\n",
      "           0       0.67      0.40      0.50         5\n",
      "           1       0.00      0.00      0.00         5\n",
      "           2       0.42      1.00      0.59         5\n",
      "\n",
      "    accuracy                           0.47        15\n",
      "   macro avg       0.36      0.47      0.36        15\n",
      "weighted avg       0.36      0.47      0.36        15\n",
      "\n",
      "-------------------------------------------------------------------------------------------------------------------\n"
     ]
    },
    {
     "name": "stderr",
     "output_type": "stream",
     "text": [
      "[Parallel(n_jobs=-1)]: Done   3 out of   3 | elapsed:  1.0min finished\n",
      "[Parallel(n_jobs=-1)]: Using backend LokyBackend with 12 concurrent workers.\n"
     ]
    },
    {
     "name": "stdout",
     "output_type": "stream",
     "text": [
      "K-Fold #2\n",
      "Mean negativities for all classes: [0.3685302142609945, 0.33128066145349316, 0.08728396326203519]\n",
      "Mean entropies for all classes: [2.73169720088566e-15, 4.039008462340736e-15, 3.279094848864799e-15]\n",
      "              precision    recall  f1-score   support\n",
      "\n",
      "           0       0.00      0.00      0.00         5\n",
      "           1       0.00      0.00      0.00         5\n",
      "           2       0.33      0.60      0.43         5\n",
      "\n",
      "    accuracy                           0.20        15\n",
      "   macro avg       0.11      0.20      0.14        15\n",
      "weighted avg       0.11      0.20      0.14        15\n",
      "\n",
      "-------------------------------------------------------------------------------------------------------------------\n"
     ]
    },
    {
     "name": "stderr",
     "output_type": "stream",
     "text": [
      "[Parallel(n_jobs=-1)]: Done   3 out of   3 | elapsed:  1.0min finished\n",
      "[Parallel(n_jobs=-1)]: Using backend LokyBackend with 12 concurrent workers.\n"
     ]
    },
    {
     "name": "stdout",
     "output_type": "stream",
     "text": [
      "K-Fold #3\n",
      "Mean negativities for all classes: [0.35824788279673625, 0.3077750815473336, 0.08661402405368937]\n",
      "Mean entropies for all classes: [3.2620647516972645e-15, 4.0248354734582465e-15, 3.0270477067624105e-15]\n",
      "              precision    recall  f1-score   support\n",
      "\n",
      "           0       1.00      0.40      0.57         5\n",
      "           1       0.00      0.00      0.00         5\n",
      "           2       0.25      0.40      0.31         5\n",
      "\n",
      "    accuracy                           0.27        15\n",
      "   macro avg       0.42      0.27      0.29        15\n",
      "weighted avg       0.42      0.27      0.29        15\n",
      "\n",
      "-------------------------------------------------------------------------------------------------------------------\n"
     ]
    },
    {
     "name": "stderr",
     "output_type": "stream",
     "text": [
      "[Parallel(n_jobs=-1)]: Done   3 out of   3 | elapsed:  1.0min finished\n",
      "[Parallel(n_jobs=-1)]: Using backend LokyBackend with 12 concurrent workers.\n"
     ]
    },
    {
     "name": "stdout",
     "output_type": "stream",
     "text": [
      "K-Fold #4\n",
      "Mean negativities for all classes: [0.3507821149884798, 0.31796714067469617, 0.08659342447135081]\n",
      "Mean entropies for all classes: [3.814113485413366e-15, 4.064865809081466e-15, 2.8204885959770532e-15]\n",
      "              precision    recall  f1-score   support\n",
      "\n",
      "           0       1.00      0.40      0.57         5\n",
      "           1       0.00      0.00      0.00         5\n",
      "           2       0.29      0.40      0.33         5\n",
      "\n",
      "    accuracy                           0.27        15\n",
      "   macro avg       0.43      0.27      0.30        15\n",
      "weighted avg       0.43      0.27      0.30        15\n",
      "\n",
      "-------------------------------------------------------------------------------------------------------------------\n"
     ]
    },
    {
     "name": "stderr",
     "output_type": "stream",
     "text": [
      "[Parallel(n_jobs=-1)]: Done   3 out of   3 | elapsed:  1.0min finished\n",
      "[Parallel(n_jobs=-1)]: Using backend LokyBackend with 12 concurrent workers.\n"
     ]
    },
    {
     "name": "stdout",
     "output_type": "stream",
     "text": [
      "K-Fold #5\n",
      "Mean negativities for all classes: [0.37178796199905434, 0.31307898931677464, 0.08788655990608189]\n",
      "Mean entropies for all classes: [3.951391890657897e-15, 4.0169530220135684e-15, 3.3703017995787026e-15]\n",
      "              precision    recall  f1-score   support\n",
      "\n",
      "           0       0.50      0.20      0.29         5\n",
      "           1       0.00      0.00      0.00         5\n",
      "           2       0.29      0.40      0.33         5\n",
      "\n",
      "    accuracy                           0.20        15\n",
      "   macro avg       0.26      0.20      0.21        15\n",
      "weighted avg       0.26      0.20      0.21        15\n",
      "\n",
      "-------------------------------------------------------------------------------------------------------------------\n"
     ]
    },
    {
     "name": "stderr",
     "output_type": "stream",
     "text": [
      "[Parallel(n_jobs=-1)]: Done   3 out of   3 | elapsed:  1.0min finished\n",
      "[Parallel(n_jobs=-1)]: Using backend LokyBackend with 12 concurrent workers.\n"
     ]
    },
    {
     "name": "stdout",
     "output_type": "stream",
     "text": [
      "K-Fold #6\n",
      "Mean negativities for all classes: [0.36518626123319947, 0.33619082266714495, 0.08739084227441621]\n",
      "Mean entropies for all classes: [3.901967612763524e-15, 3.984113050689202e-15, 3.1835892912800994e-15]\n",
      "              precision    recall  f1-score   support\n",
      "\n",
      "           0       0.50      0.20      0.29         5\n",
      "           1       0.00      0.00      0.00         5\n",
      "           2       0.33      0.60      0.43         5\n",
      "\n",
      "    accuracy                           0.27        15\n",
      "   macro avg       0.28      0.27      0.24        15\n",
      "weighted avg       0.28      0.27      0.24        15\n",
      "\n",
      "-------------------------------------------------------------------------------------------------------------------\n"
     ]
    },
    {
     "name": "stderr",
     "output_type": "stream",
     "text": [
      "[Parallel(n_jobs=-1)]: Done   3 out of   3 | elapsed:  1.0min finished\n",
      "[Parallel(n_jobs=-1)]: Using backend LokyBackend with 12 concurrent workers.\n"
     ]
    },
    {
     "name": "stdout",
     "output_type": "stream",
     "text": [
      "K-Fold #7\n",
      "Mean negativities for all classes: [0.35731482935615294, 0.3233283546236939, 0.08661917883757417]\n",
      "Mean entropies for all classes: [3.1353785141562154e-15, 3.5902803589973195e-15, 3.551590298647224e-15]\n",
      "              precision    recall  f1-score   support\n",
      "\n",
      "           0       1.00      0.20      0.33         5\n",
      "           1       0.00      0.00      0.00         5\n",
      "           2       0.12      0.20      0.15         5\n",
      "\n",
      "    accuracy                           0.13        15\n",
      "   macro avg       0.38      0.13      0.16        15\n",
      "weighted avg       0.38      0.13      0.16        15\n",
      "\n",
      "-------------------------------------------------------------------------------------------------------------------\n"
     ]
    },
    {
     "name": "stderr",
     "output_type": "stream",
     "text": [
      "[Parallel(n_jobs=-1)]: Done   3 out of   3 | elapsed:  1.0min finished\n",
      "[Parallel(n_jobs=-1)]: Using backend LokyBackend with 12 concurrent workers.\n"
     ]
    },
    {
     "name": "stdout",
     "output_type": "stream",
     "text": [
      "K-Fold #8\n",
      "Mean negativities for all classes: [0.3617534852889837, 0.34783131227303077, 0.08711553201205374]\n",
      "Mean entropies for all classes: [3.676246004864942e-15, 4.3803057552552316e-15, 3.2020396096837614e-15]\n",
      "              precision    recall  f1-score   support\n",
      "\n",
      "           0       0.50      0.20      0.29         5\n",
      "           1       0.00      0.00      0.00         5\n",
      "           2       0.36      0.80      0.50         5\n",
      "\n",
      "    accuracy                           0.33        15\n",
      "   macro avg       0.29      0.33      0.26        15\n",
      "weighted avg       0.29      0.33      0.26        15\n",
      "\n",
      "-------------------------------------------------------------------------------------------------------------------\n"
     ]
    },
    {
     "name": "stderr",
     "output_type": "stream",
     "text": [
      "[Parallel(n_jobs=-1)]: Done   3 out of   3 | elapsed:  1.0min finished\n",
      "[Parallel(n_jobs=-1)]: Using backend LokyBackend with 12 concurrent workers.\n"
     ]
    },
    {
     "name": "stdout",
     "output_type": "stream",
     "text": [
      "K-Fold #9\n",
      "Mean negativities for all classes: [0.3627359931846636, 0.3358097719501522, 0.08677966240804559]\n",
      "Mean entropies for all classes: [3.595090768079377e-15, 3.354484903962052e-15, 3.673586062418217e-15]\n",
      "              precision    recall  f1-score   support\n",
      "\n",
      "           0       0.00      0.00      0.00         5\n",
      "           1       0.00      0.00      0.00         5\n",
      "           2       0.38      0.60      0.46         5\n",
      "\n",
      "    accuracy                           0.20        15\n",
      "   macro avg       0.12      0.20      0.15        15\n",
      "weighted avg       0.12      0.20      0.15        15\n",
      "\n",
      "-------------------------------------------------------------------------------------------------------------------\n",
      "AVG: Scores = 0.25333333333333335 F1-Scores = 0.2256151691445809 Negativity = [0.25938750461514887, 0.2647456520906851, 0.2623649463255076] Entropy = [3.60152074848264e-15, 3.280676396129273e-15, 3.349933504030398e-15]\n"
     ]
    },
    {
     "name": "stderr",
     "output_type": "stream",
     "text": [
      "[Parallel(n_jobs=-1)]: Done   3 out of   3 | elapsed:  1.0min finished\n",
      "[Parallel(n_jobs=-1)]: Using backend LokyBackend with 12 concurrent workers.\n"
     ]
    },
    {
     "name": "stdout",
     "output_type": "stream",
     "text": [
      "K-Fold #0\n",
      "Mean negativities for all classes: [0.3597730162937926, 0.36100817242061256, 0.08652251643129813]\n",
      "Mean entropies for all classes: [4.255768720986632e-15, 3.74522161501147e-15, 3.555131895920093e-15]\n",
      "              precision    recall  f1-score   support\n",
      "\n",
      "           0       0.00      0.00      0.00         5\n",
      "           1       0.00      0.00      0.00         5\n",
      "           2       0.38      1.00      0.56         5\n",
      "\n",
      "    accuracy                           0.33        15\n",
      "   macro avg       0.13      0.33      0.19        15\n",
      "weighted avg       0.13      0.33      0.19        15\n",
      "\n",
      "-------------------------------------------------------------------------------------------------------------------\n"
     ]
    },
    {
     "name": "stderr",
     "output_type": "stream",
     "text": [
      "[Parallel(n_jobs=-1)]: Done   3 out of   3 | elapsed:  1.0min finished\n",
      "c:\\ProgramData\\Anaconda3\\lib\\site-packages\\sklearn\\metrics\\_classification.py:1344: UndefinedMetricWarning: Precision and F-score are ill-defined and being set to 0.0 in labels with no predicted samples. Use `zero_division` parameter to control this behavior.\n",
      "  _warn_prf(average, modifier, msg_start, len(result))\n",
      "c:\\ProgramData\\Anaconda3\\lib\\site-packages\\sklearn\\metrics\\_classification.py:1344: UndefinedMetricWarning: Precision and F-score are ill-defined and being set to 0.0 in labels with no predicted samples. Use `zero_division` parameter to control this behavior.\n",
      "  _warn_prf(average, modifier, msg_start, len(result))\n",
      "c:\\ProgramData\\Anaconda3\\lib\\site-packages\\sklearn\\metrics\\_classification.py:1344: UndefinedMetricWarning: Precision and F-score are ill-defined and being set to 0.0 in labels with no predicted samples. Use `zero_division` parameter to control this behavior.\n",
      "  _warn_prf(average, modifier, msg_start, len(result))\n",
      "[Parallel(n_jobs=-1)]: Using backend LokyBackend with 12 concurrent workers.\n"
     ]
    },
    {
     "name": "stdout",
     "output_type": "stream",
     "text": [
      "K-Fold #1\n",
      "Mean negativities for all classes: [0.3688821539702905, 0.33911221699663774, 0.0875567751144437]\n",
      "Mean entropies for all classes: [3.5411785905725595e-15, 3.3983651218071345e-15, 2.919651901630056e-15]\n",
      "              precision    recall  f1-score   support\n",
      "\n",
      "           0       0.00      0.00      0.00         5\n",
      "           1       0.00      0.00      0.00         5\n",
      "           2       0.25      0.60      0.35         5\n",
      "\n",
      "    accuracy                           0.20        15\n",
      "   macro avg       0.08      0.20      0.12        15\n",
      "weighted avg       0.08      0.20      0.12        15\n",
      "\n",
      "-------------------------------------------------------------------------------------------------------------------\n"
     ]
    },
    {
     "name": "stderr",
     "output_type": "stream",
     "text": [
      "[Parallel(n_jobs=-1)]: Done   3 out of   3 | elapsed:  1.0min finished\n",
      "c:\\ProgramData\\Anaconda3\\lib\\site-packages\\sklearn\\metrics\\_classification.py:1344: UndefinedMetricWarning: Precision and F-score are ill-defined and being set to 0.0 in labels with no predicted samples. Use `zero_division` parameter to control this behavior.\n",
      "  _warn_prf(average, modifier, msg_start, len(result))\n",
      "c:\\ProgramData\\Anaconda3\\lib\\site-packages\\sklearn\\metrics\\_classification.py:1344: UndefinedMetricWarning: Precision and F-score are ill-defined and being set to 0.0 in labels with no predicted samples. Use `zero_division` parameter to control this behavior.\n",
      "  _warn_prf(average, modifier, msg_start, len(result))\n",
      "c:\\ProgramData\\Anaconda3\\lib\\site-packages\\sklearn\\metrics\\_classification.py:1344: UndefinedMetricWarning: Precision and F-score are ill-defined and being set to 0.0 in labels with no predicted samples. Use `zero_division` parameter to control this behavior.\n",
      "  _warn_prf(average, modifier, msg_start, len(result))\n",
      "[Parallel(n_jobs=-1)]: Using backend LokyBackend with 12 concurrent workers.\n"
     ]
    },
    {
     "name": "stdout",
     "output_type": "stream",
     "text": [
      "K-Fold #2\n",
      "Mean negativities for all classes: [0.36004400988323493, 0.297807629834193, 0.0872760985077084]\n",
      "Mean entropies for all classes: [4.187543292320214e-15, 4.40908024093376e-15, 3.5650694112440245e-15]\n",
      "              precision    recall  f1-score   support\n",
      "\n",
      "           0       0.00      0.00      0.00         5\n",
      "           1       0.00      0.00      0.00         5\n",
      "           2       0.33      0.60      0.43         5\n",
      "\n",
      "    accuracy                           0.20        15\n",
      "   macro avg       0.11      0.20      0.14        15\n",
      "weighted avg       0.11      0.20      0.14        15\n",
      "\n",
      "-------------------------------------------------------------------------------------------------------------------\n"
     ]
    },
    {
     "name": "stderr",
     "output_type": "stream",
     "text": [
      "[Parallel(n_jobs=-1)]: Done   3 out of   3 | elapsed:  1.0min finished\n",
      "c:\\ProgramData\\Anaconda3\\lib\\site-packages\\sklearn\\metrics\\_classification.py:1344: UndefinedMetricWarning: Precision and F-score are ill-defined and being set to 0.0 in labels with no predicted samples. Use `zero_division` parameter to control this behavior.\n",
      "  _warn_prf(average, modifier, msg_start, len(result))\n",
      "c:\\ProgramData\\Anaconda3\\lib\\site-packages\\sklearn\\metrics\\_classification.py:1344: UndefinedMetricWarning: Precision and F-score are ill-defined and being set to 0.0 in labels with no predicted samples. Use `zero_division` parameter to control this behavior.\n",
      "  _warn_prf(average, modifier, msg_start, len(result))\n",
      "c:\\ProgramData\\Anaconda3\\lib\\site-packages\\sklearn\\metrics\\_classification.py:1344: UndefinedMetricWarning: Precision and F-score are ill-defined and being set to 0.0 in labels with no predicted samples. Use `zero_division` parameter to control this behavior.\n",
      "  _warn_prf(average, modifier, msg_start, len(result))\n",
      "[Parallel(n_jobs=-1)]: Using backend LokyBackend with 12 concurrent workers.\n"
     ]
    },
    {
     "name": "stdout",
     "output_type": "stream",
     "text": [
      "K-Fold #3\n",
      "Mean negativities for all classes: [0.36592407878073385, 0.3356040602617962, 0.08659730996140232]\n",
      "Mean entropies for all classes: [3.474635241641663e-15, 4.345565944381507e-15, 3.260860057547705e-15]\n",
      "              precision    recall  f1-score   support\n",
      "\n",
      "           0       0.00      0.00      0.00         5\n",
      "           1       0.00      0.00      0.00         5\n",
      "           2       0.33      0.80      0.47         5\n",
      "\n",
      "    accuracy                           0.27        15\n",
      "   macro avg       0.11      0.27      0.16        15\n",
      "weighted avg       0.11      0.27      0.16        15\n",
      "\n",
      "-------------------------------------------------------------------------------------------------------------------\n"
     ]
    },
    {
     "name": "stderr",
     "output_type": "stream",
     "text": [
      "[Parallel(n_jobs=-1)]: Done   3 out of   3 | elapsed:  1.0min finished\n",
      "[Parallel(n_jobs=-1)]: Using backend LokyBackend with 12 concurrent workers.\n"
     ]
    },
    {
     "name": "stdout",
     "output_type": "stream",
     "text": [
      "K-Fold #4\n",
      "Mean negativities for all classes: [0.3519259482064693, 0.3161395634063764, 0.08695087752221546]\n",
      "Mean entropies for all classes: [4.37208353119729e-15, 4.9661209655955775e-15, 3.657765388243398e-15]\n",
      "              precision    recall  f1-score   support\n",
      "\n",
      "           0       1.00      0.40      0.57         5\n",
      "           1       0.00      0.00      0.00         5\n",
      "           2       0.29      0.40      0.33         5\n",
      "\n",
      "    accuracy                           0.27        15\n",
      "   macro avg       0.43      0.27      0.30        15\n",
      "weighted avg       0.43      0.27      0.30        15\n",
      "\n",
      "-------------------------------------------------------------------------------------------------------------------\n"
     ]
    },
    {
     "name": "stderr",
     "output_type": "stream",
     "text": [
      "[Parallel(n_jobs=-1)]: Done   3 out of   3 | elapsed:  1.0min finished\n",
      "[Parallel(n_jobs=-1)]: Using backend LokyBackend with 12 concurrent workers.\n"
     ]
    },
    {
     "name": "stdout",
     "output_type": "stream",
     "text": [
      "K-Fold #5\n",
      "Mean negativities for all classes: [0.35953102443240603, 0.3382127668765901, 0.08698239143952881]\n",
      "Mean entropies for all classes: [3.334331837815852e-15, 3.3875577709178316e-15, 3.8312669311814685e-15]\n",
      "              precision    recall  f1-score   support\n",
      "\n",
      "           0       1.00      0.40      0.57         5\n",
      "           1       0.00      0.00      0.00         5\n",
      "           2       0.40      0.80      0.53         5\n",
      "\n",
      "    accuracy                           0.40        15\n",
      "   macro avg       0.47      0.40      0.37        15\n",
      "weighted avg       0.47      0.40      0.37        15\n",
      "\n",
      "-------------------------------------------------------------------------------------------------------------------\n"
     ]
    },
    {
     "name": "stderr",
     "output_type": "stream",
     "text": [
      "[Parallel(n_jobs=-1)]: Done   3 out of   3 | elapsed:  1.0min finished\n",
      "[Parallel(n_jobs=-1)]: Using backend LokyBackend with 12 concurrent workers.\n"
     ]
    },
    {
     "name": "stdout",
     "output_type": "stream",
     "text": [
      "K-Fold #6\n",
      "Mean negativities for all classes: [0.36315473912014623, 0.33286463378733716, 0.08740225010966816]\n",
      "Mean entropies for all classes: [3.1411173500956724e-15, 4.045441318640783e-15, 3.818679366090391e-15]\n",
      "              precision    recall  f1-score   support\n",
      "\n",
      "           0       1.00      0.20      0.33         5\n",
      "           1       0.00      0.00      0.00         5\n",
      "           2       0.40      0.80      0.53         5\n",
      "\n",
      "    accuracy                           0.33        15\n",
      "   macro avg       0.47      0.33      0.29        15\n",
      "weighted avg       0.47      0.33      0.29        15\n",
      "\n",
      "-------------------------------------------------------------------------------------------------------------------\n"
     ]
    },
    {
     "name": "stderr",
     "output_type": "stream",
     "text": [
      "[Parallel(n_jobs=-1)]: Done   3 out of   3 | elapsed:  1.0min finished\n",
      "[Parallel(n_jobs=-1)]: Using backend LokyBackend with 12 concurrent workers.\n"
     ]
    },
    {
     "name": "stdout",
     "output_type": "stream",
     "text": [
      "K-Fold #7\n",
      "Mean negativities for all classes: [0.35517851597880096, 0.33473083046355606, 0.08670110528631625]\n",
      "Mean entropies for all classes: [3.781688116510385e-15, 3.541790707742771e-15, 2.9319836035662277e-15]\n",
      "              precision    recall  f1-score   support\n",
      "\n",
      "           0       0.50      0.20      0.29         5\n",
      "           1       0.00      0.00      0.00         5\n",
      "           2       0.30      0.60      0.40         5\n",
      "\n",
      "    accuracy                           0.27        15\n",
      "   macro avg       0.27      0.27      0.23        15\n",
      "weighted avg       0.27      0.27      0.23        15\n",
      "\n",
      "-------------------------------------------------------------------------------------------------------------------\n"
     ]
    },
    {
     "name": "stderr",
     "output_type": "stream",
     "text": [
      "[Parallel(n_jobs=-1)]: Done   3 out of   3 | elapsed:  1.0min finished\n",
      "[Parallel(n_jobs=-1)]: Using backend LokyBackend with 12 concurrent workers.\n"
     ]
    },
    {
     "name": "stdout",
     "output_type": "stream",
     "text": [
      "K-Fold #8\n",
      "Mean negativities for all classes: [0.3609970123510033, 0.3460698443561489, 0.08706648519917737]\n",
      "Mean entropies for all classes: [3.4008959627034236e-15, 3.62431751631177e-15, 3.806844756386655e-15]\n",
      "              precision    recall  f1-score   support\n",
      "\n",
      "           0       1.00      0.20      0.33         5\n",
      "           1       0.00      0.00      0.00         5\n",
      "           2       0.40      0.80      0.53         5\n",
      "\n",
      "    accuracy                           0.33        15\n",
      "   macro avg       0.47      0.33      0.29        15\n",
      "weighted avg       0.47      0.33      0.29        15\n",
      "\n",
      "-------------------------------------------------------------------------------------------------------------------\n"
     ]
    },
    {
     "name": "stderr",
     "output_type": "stream",
     "text": [
      "[Parallel(n_jobs=-1)]: Done   3 out of   3 | elapsed:  1.0min finished\n",
      "[Parallel(n_jobs=-1)]: Using backend LokyBackend with 12 concurrent workers.\n"
     ]
    },
    {
     "name": "stdout",
     "output_type": "stream",
     "text": [
      "K-Fold #9\n",
      "Mean negativities for all classes: [0.3660582203870436, 0.3469500440113704, 0.08705051615386056]\n",
      "Mean entropies for all classes: [3.576160898685251e-15, 4.772706784637859e-15, 3.9402502735185445e-15]\n",
      "              precision    recall  f1-score   support\n",
      "\n",
      "           0       1.00      0.20      0.33         5\n",
      "           1       0.00      0.00      0.00         5\n",
      "           2       0.30      0.60      0.40         5\n",
      "\n",
      "    accuracy                           0.27        15\n",
      "   macro avg       0.43      0.27      0.24        15\n",
      "weighted avg       0.43      0.27      0.24        15\n",
      "\n",
      "-------------------------------------------------------------------------------------------------------------------\n",
      "AVG: Scores = 0.2866666666666667 F1-Scores = 0.23231870525988177 Negativity = [0.26910123504856776, 0.2651837153604573, 0.24837591274171208] Entropy = [3.852040743972731e-15, 3.28639853800325e-15, 4.053897648166e-15]\n"
     ]
    },
    {
     "name": "stderr",
     "output_type": "stream",
     "text": [
      "[Parallel(n_jobs=-1)]: Done   3 out of   3 | elapsed:  1.0min finished\n",
      "[Parallel(n_jobs=-1)]: Using backend LokyBackend with 12 concurrent workers.\n"
     ]
    },
    {
     "name": "stdout",
     "output_type": "stream",
     "text": [
      "K-Fold #0\n",
      "Mean negativities for all classes: [0.36671110657444655, 0.30841116280131803, 0.08638006964436501]\n",
      "Mean entropies for all classes: [3.014321546297456e-15, 3.555779603260509e-15, 3.890697509114323e-15]\n",
      "              precision    recall  f1-score   support\n",
      "\n",
      "           0       1.00      0.20      0.33         5\n",
      "           1       0.00      0.00      0.00         5\n",
      "           2       0.30      0.60      0.40         5\n",
      "\n",
      "    accuracy                           0.27        15\n",
      "   macro avg       0.43      0.27      0.24        15\n",
      "weighted avg       0.43      0.27      0.24        15\n",
      "\n",
      "-------------------------------------------------------------------------------------------------------------------\n"
     ]
    },
    {
     "name": "stderr",
     "output_type": "stream",
     "text": [
      "[Parallel(n_jobs=-1)]: Done   3 out of   3 | elapsed:  1.0min finished\n",
      "[Parallel(n_jobs=-1)]: Using backend LokyBackend with 12 concurrent workers.\n"
     ]
    },
    {
     "name": "stdout",
     "output_type": "stream",
     "text": [
      "K-Fold #1\n",
      "Mean negativities for all classes: [0.36547999082902316, 0.3247746847444729, 0.08745721668078224]\n",
      "Mean entropies for all classes: [3.784444388832045e-15, 3.690502710537679e-15, 3.684376687305745e-15]\n",
      "              precision    recall  f1-score   support\n",
      "\n",
      "           0       1.00      0.60      0.75         5\n",
      "           1       0.00      0.00      0.00         5\n",
      "           2       0.33      0.60      0.43         5\n",
      "\n",
      "    accuracy                           0.40        15\n",
      "   macro avg       0.44      0.40      0.39        15\n",
      "weighted avg       0.44      0.40      0.39        15\n",
      "\n",
      "-------------------------------------------------------------------------------------------------------------------\n"
     ]
    },
    {
     "name": "stderr",
     "output_type": "stream",
     "text": [
      "[Parallel(n_jobs=-1)]: Done   3 out of   3 | elapsed:  1.0min finished\n",
      "c:\\ProgramData\\Anaconda3\\lib\\site-packages\\sklearn\\metrics\\_classification.py:1344: UndefinedMetricWarning: Precision and F-score are ill-defined and being set to 0.0 in labels with no predicted samples. Use `zero_division` parameter to control this behavior.\n",
      "  _warn_prf(average, modifier, msg_start, len(result))\n",
      "c:\\ProgramData\\Anaconda3\\lib\\site-packages\\sklearn\\metrics\\_classification.py:1344: UndefinedMetricWarning: Precision and F-score are ill-defined and being set to 0.0 in labels with no predicted samples. Use `zero_division` parameter to control this behavior.\n",
      "  _warn_prf(average, modifier, msg_start, len(result))\n",
      "c:\\ProgramData\\Anaconda3\\lib\\site-packages\\sklearn\\metrics\\_classification.py:1344: UndefinedMetricWarning: Precision and F-score are ill-defined and being set to 0.0 in labels with no predicted samples. Use `zero_division` parameter to control this behavior.\n",
      "  _warn_prf(average, modifier, msg_start, len(result))\n",
      "[Parallel(n_jobs=-1)]: Using backend LokyBackend with 12 concurrent workers.\n"
     ]
    },
    {
     "name": "stdout",
     "output_type": "stream",
     "text": [
      "K-Fold #2\n",
      "Mean negativities for all classes: [0.3637806394316449, 0.3217954110195257, 0.08690646521233857]\n",
      "Mean entropies for all classes: [3.665964023640222e-15, 3.628030127060533e-15, 3.580113293916965e-15]\n",
      "              precision    recall  f1-score   support\n",
      "\n",
      "           0       0.00      0.00      0.00         5\n",
      "           1       0.00      0.00      0.00         5\n",
      "           2       0.40      0.80      0.53         5\n",
      "\n",
      "    accuracy                           0.27        15\n",
      "   macro avg       0.13      0.27      0.18        15\n",
      "weighted avg       0.13      0.27      0.18        15\n",
      "\n",
      "-------------------------------------------------------------------------------------------------------------------\n"
     ]
    },
    {
     "name": "stderr",
     "output_type": "stream",
     "text": [
      "[Parallel(n_jobs=-1)]: Done   3 out of   3 | elapsed:  1.0min finished\n",
      "c:\\ProgramData\\Anaconda3\\lib\\site-packages\\sklearn\\metrics\\_classification.py:1344: UndefinedMetricWarning: Precision and F-score are ill-defined and being set to 0.0 in labels with no predicted samples. Use `zero_division` parameter to control this behavior.\n",
      "  _warn_prf(average, modifier, msg_start, len(result))\n",
      "c:\\ProgramData\\Anaconda3\\lib\\site-packages\\sklearn\\metrics\\_classification.py:1344: UndefinedMetricWarning: Precision and F-score are ill-defined and being set to 0.0 in labels with no predicted samples. Use `zero_division` parameter to control this behavior.\n",
      "  _warn_prf(average, modifier, msg_start, len(result))\n",
      "c:\\ProgramData\\Anaconda3\\lib\\site-packages\\sklearn\\metrics\\_classification.py:1344: UndefinedMetricWarning: Precision and F-score are ill-defined and being set to 0.0 in labels with no predicted samples. Use `zero_division` parameter to control this behavior.\n",
      "  _warn_prf(average, modifier, msg_start, len(result))\n",
      "[Parallel(n_jobs=-1)]: Using backend LokyBackend with 12 concurrent workers.\n"
     ]
    },
    {
     "name": "stdout",
     "output_type": "stream",
     "text": [
      "K-Fold #3\n",
      "Mean negativities for all classes: [0.36147751286176294, 0.34440621799417037, 0.08719242567703675]\n",
      "Mean entropies for all classes: [2.5599032352205953e-15, 4.067306963326045e-15, 3.360607451227683e-15]\n",
      "              precision    recall  f1-score   support\n",
      "\n",
      "           0       0.00      0.00      0.00         5\n",
      "           1       0.00      0.00      0.00         5\n",
      "           2       0.33      0.80      0.47         5\n",
      "\n",
      "    accuracy                           0.27        15\n",
      "   macro avg       0.11      0.27      0.16        15\n",
      "weighted avg       0.11      0.27      0.16        15\n",
      "\n",
      "-------------------------------------------------------------------------------------------------------------------\n"
     ]
    },
    {
     "name": "stderr",
     "output_type": "stream",
     "text": [
      "[Parallel(n_jobs=-1)]: Done   3 out of   3 | elapsed:  1.0min finished\n",
      "[Parallel(n_jobs=-1)]: Using backend LokyBackend with 12 concurrent workers.\n"
     ]
    },
    {
     "name": "stdout",
     "output_type": "stream",
     "text": [
      "K-Fold #4\n",
      "Mean negativities for all classes: [0.3642119729589285, 0.3229942362920089, 0.08771475042272187]\n",
      "Mean entropies for all classes: [4.268122441753993e-15, 3.610071315235497e-15, 3.7877438589093355e-15]\n",
      "              precision    recall  f1-score   support\n",
      "\n",
      "           0       0.00      0.00      0.00         5\n",
      "           1       0.00      0.00      0.00         5\n",
      "           2       0.30      0.60      0.40         5\n",
      "\n",
      "    accuracy                           0.20        15\n",
      "   macro avg       0.10      0.20      0.13        15\n",
      "weighted avg       0.10      0.20      0.13        15\n",
      "\n",
      "-------------------------------------------------------------------------------------------------------------------\n"
     ]
    },
    {
     "name": "stderr",
     "output_type": "stream",
     "text": [
      "[Parallel(n_jobs=-1)]: Done   3 out of   3 | elapsed:  1.0min finished\n",
      "c:\\ProgramData\\Anaconda3\\lib\\site-packages\\sklearn\\metrics\\_classification.py:1344: UndefinedMetricWarning: Precision and F-score are ill-defined and being set to 0.0 in labels with no predicted samples. Use `zero_division` parameter to control this behavior.\n",
      "  _warn_prf(average, modifier, msg_start, len(result))\n",
      "c:\\ProgramData\\Anaconda3\\lib\\site-packages\\sklearn\\metrics\\_classification.py:1344: UndefinedMetricWarning: Precision and F-score are ill-defined and being set to 0.0 in labels with no predicted samples. Use `zero_division` parameter to control this behavior.\n",
      "  _warn_prf(average, modifier, msg_start, len(result))\n",
      "c:\\ProgramData\\Anaconda3\\lib\\site-packages\\sklearn\\metrics\\_classification.py:1344: UndefinedMetricWarning: Precision and F-score are ill-defined and being set to 0.0 in labels with no predicted samples. Use `zero_division` parameter to control this behavior.\n",
      "  _warn_prf(average, modifier, msg_start, len(result))\n",
      "[Parallel(n_jobs=-1)]: Using backend LokyBackend with 12 concurrent workers.\n"
     ]
    },
    {
     "name": "stdout",
     "output_type": "stream",
     "text": [
      "K-Fold #5\n",
      "Mean negativities for all classes: [0.37046194603296756, 0.3444401737902325, 0.08717143075533008]\n",
      "Mean entropies for all classes: [3.9570395663101136e-15, 3.6536154753699454e-15, 4.0223682202102214e-15]\n",
      "              precision    recall  f1-score   support\n",
      "\n",
      "           0       0.00      0.00      0.00         5\n",
      "           1       0.00      0.00      0.00         5\n",
      "           2       0.29      0.80      0.42         5\n",
      "\n",
      "    accuracy                           0.27        15\n",
      "   macro avg       0.10      0.27      0.14        15\n",
      "weighted avg       0.10      0.27      0.14        15\n",
      "\n",
      "-------------------------------------------------------------------------------------------------------------------\n"
     ]
    },
    {
     "name": "stderr",
     "output_type": "stream",
     "text": [
      "[Parallel(n_jobs=-1)]: Done   3 out of   3 | elapsed:  1.0min finished\n",
      "[Parallel(n_jobs=-1)]: Using backend LokyBackend with 12 concurrent workers.\n"
     ]
    },
    {
     "name": "stdout",
     "output_type": "stream",
     "text": [
      "K-Fold #6\n",
      "Mean negativities for all classes: [0.35577989560164264, 0.31835537567055266, 0.08668485240177866]\n",
      "Mean entropies for all classes: [4.41043903647439e-15, 3.216491752006445e-15, 3.570416332261952e-15]\n",
      "              precision    recall  f1-score   support\n",
      "\n",
      "           0       0.50      0.20      0.29         5\n",
      "           1       0.00      0.00      0.00         5\n",
      "           2       0.33      0.60      0.43         5\n",
      "\n",
      "    accuracy                           0.27        15\n",
      "   macro avg       0.28      0.27      0.24        15\n",
      "weighted avg       0.28      0.27      0.24        15\n",
      "\n",
      "-------------------------------------------------------------------------------------------------------------------\n"
     ]
    },
    {
     "name": "stderr",
     "output_type": "stream",
     "text": [
      "[Parallel(n_jobs=-1)]: Done   3 out of   3 | elapsed:  1.0min finished\n",
      "[Parallel(n_jobs=-1)]: Using backend LokyBackend with 12 concurrent workers.\n"
     ]
    },
    {
     "name": "stdout",
     "output_type": "stream",
     "text": [
      "K-Fold #7\n",
      "Mean negativities for all classes: [0.35206807621178543, 0.3420737790089632, 0.08677608166954816]\n",
      "Mean entropies for all classes: [2.8729968526648227e-15, 3.8461375404063646e-15, 3.572227206927764e-15]\n",
      "              precision    recall  f1-score   support\n",
      "\n",
      "           0       0.50      0.20      0.29         5\n",
      "           1       0.00      0.00      0.00         5\n",
      "           2       0.50      0.80      0.62         5\n",
      "\n",
      "    accuracy                           0.33        15\n",
      "   macro avg       0.33      0.33      0.30        15\n",
      "weighted avg       0.33      0.33      0.30        15\n",
      "\n",
      "-------------------------------------------------------------------------------------------------------------------\n"
     ]
    },
    {
     "name": "stderr",
     "output_type": "stream",
     "text": [
      "[Parallel(n_jobs=-1)]: Done   3 out of   3 | elapsed:  1.0min finished\n",
      "[Parallel(n_jobs=-1)]: Using backend LokyBackend with 12 concurrent workers.\n"
     ]
    },
    {
     "name": "stdout",
     "output_type": "stream",
     "text": [
      "K-Fold #8\n",
      "Mean negativities for all classes: [0.3425871140414365, 0.3463240160127841, 0.08638501834631747]\n",
      "Mean entropies for all classes: [3.5772216498817275e-15, 3.2612408353531414e-15, 3.870019884991459e-15]\n",
      "              precision    recall  f1-score   support\n",
      "\n",
      "           0       0.67      0.40      0.50         5\n",
      "           1       0.00      0.00      0.00         5\n",
      "           2       0.56      1.00      0.71         5\n",
      "\n",
      "    accuracy                           0.47        15\n",
      "   macro avg       0.41      0.47      0.40        15\n",
      "weighted avg       0.41      0.47      0.40        15\n",
      "\n",
      "-------------------------------------------------------------------------------------------------------------------\n"
     ]
    },
    {
     "name": "stderr",
     "output_type": "stream",
     "text": [
      "[Parallel(n_jobs=-1)]: Done   3 out of   3 | elapsed:  1.0min finished\n",
      "[Parallel(n_jobs=-1)]: Using backend LokyBackend with 12 concurrent workers.\n"
     ]
    },
    {
     "name": "stdout",
     "output_type": "stream",
     "text": [
      "K-Fold #9\n",
      "Mean negativities for all classes: [0.37186673514883417, 0.35922289674392366, 0.08773723314296519]\n",
      "Mean entropies for all classes: [3.914048666536698e-15, 3.9755512933715626e-15, 3.31756790226605e-15]\n",
      "              precision    recall  f1-score   support\n",
      "\n",
      "           0       0.50      0.20      0.29         5\n",
      "           1       0.00      0.00      0.00         5\n",
      "           2       0.42      1.00      0.59         5\n",
      "\n",
      "    accuracy                           0.40        15\n",
      "   macro avg       0.31      0.40      0.29        15\n",
      "weighted avg       0.31      0.40      0.29        15\n",
      "\n",
      "-------------------------------------------------------------------------------------------------------------------\n",
      "AVG: Scores = 0.31333333333333335 F1-Scores = 0.24801662905378072 Negativity = [0.2538341130067099, 0.25923729741809276, 0.25749417188783635] Entropy = [3.4869328862240963e-15, 3.71977459555849e-15, 3.62470248153924e-15]\n"
     ]
    },
    {
     "name": "stderr",
     "output_type": "stream",
     "text": [
      "[Parallel(n_jobs=-1)]: Done   3 out of   3 | elapsed:  1.0min finished\n",
      "[Parallel(n_jobs=-1)]: Using backend LokyBackend with 12 concurrent workers.\n"
     ]
    },
    {
     "name": "stdout",
     "output_type": "stream",
     "text": [
      "K-Fold #0\n",
      "Mean negativities for all classes: [0.3578741222722754, 0.33267429859726233, 0.0867702617565809]\n",
      "Mean entropies for all classes: [3.659984232205245e-15, 4.48456922869675e-15, 3.979850890089415e-15]\n",
      "              precision    recall  f1-score   support\n",
      "\n",
      "           0       1.00      0.40      0.57         5\n",
      "           1       0.00      0.00      0.00         5\n",
      "           2       0.36      0.80      0.50         5\n",
      "\n",
      "    accuracy                           0.40        15\n",
      "   macro avg       0.45      0.40      0.36        15\n",
      "weighted avg       0.45      0.40      0.36        15\n",
      "\n",
      "-------------------------------------------------------------------------------------------------------------------\n"
     ]
    },
    {
     "name": "stderr",
     "output_type": "stream",
     "text": [
      "[Parallel(n_jobs=-1)]: Done   3 out of   3 | elapsed:  1.0min finished\n",
      "c:\\ProgramData\\Anaconda3\\lib\\site-packages\\sklearn\\metrics\\_classification.py:1344: UndefinedMetricWarning: Precision and F-score are ill-defined and being set to 0.0 in labels with no predicted samples. Use `zero_division` parameter to control this behavior.\n",
      "  _warn_prf(average, modifier, msg_start, len(result))\n",
      "c:\\ProgramData\\Anaconda3\\lib\\site-packages\\sklearn\\metrics\\_classification.py:1344: UndefinedMetricWarning: Precision and F-score are ill-defined and being set to 0.0 in labels with no predicted samples. Use `zero_division` parameter to control this behavior.\n",
      "  _warn_prf(average, modifier, msg_start, len(result))\n",
      "c:\\ProgramData\\Anaconda3\\lib\\site-packages\\sklearn\\metrics\\_classification.py:1344: UndefinedMetricWarning: Precision and F-score are ill-defined and being set to 0.0 in labels with no predicted samples. Use `zero_division` parameter to control this behavior.\n",
      "  _warn_prf(average, modifier, msg_start, len(result))\n",
      "[Parallel(n_jobs=-1)]: Using backend LokyBackend with 12 concurrent workers.\n"
     ]
    },
    {
     "name": "stdout",
     "output_type": "stream",
     "text": [
      "K-Fold #1\n",
      "Mean negativities for all classes: [0.36653119554692093, 0.32592498815057797, 0.08759692721472104]\n",
      "Mean entropies for all classes: [3.5300284031088766e-15, 3.187538839139546e-15, 3.101222086893718e-15]\n",
      "              precision    recall  f1-score   support\n",
      "\n",
      "           0       0.00      0.00      0.00         5\n",
      "           1       0.00      0.00      0.00         5\n",
      "           2       0.36      0.80      0.50         5\n",
      "\n",
      "    accuracy                           0.27        15\n",
      "   macro avg       0.12      0.27      0.17        15\n",
      "weighted avg       0.12      0.27      0.17        15\n",
      "\n",
      "-------------------------------------------------------------------------------------------------------------------\n"
     ]
    },
    {
     "name": "stderr",
     "output_type": "stream",
     "text": [
      "[Parallel(n_jobs=-1)]: Done   3 out of   3 | elapsed:  1.0min finished\n",
      "c:\\ProgramData\\Anaconda3\\lib\\site-packages\\sklearn\\metrics\\_classification.py:1344: UndefinedMetricWarning: Precision and F-score are ill-defined and being set to 0.0 in labels with no predicted samples. Use `zero_division` parameter to control this behavior.\n",
      "  _warn_prf(average, modifier, msg_start, len(result))\n",
      "c:\\ProgramData\\Anaconda3\\lib\\site-packages\\sklearn\\metrics\\_classification.py:1344: UndefinedMetricWarning: Precision and F-score are ill-defined and being set to 0.0 in labels with no predicted samples. Use `zero_division` parameter to control this behavior.\n",
      "  _warn_prf(average, modifier, msg_start, len(result))\n",
      "c:\\ProgramData\\Anaconda3\\lib\\site-packages\\sklearn\\metrics\\_classification.py:1344: UndefinedMetricWarning: Precision and F-score are ill-defined and being set to 0.0 in labels with no predicted samples. Use `zero_division` parameter to control this behavior.\n",
      "  _warn_prf(average, modifier, msg_start, len(result))\n",
      "[Parallel(n_jobs=-1)]: Using backend LokyBackend with 12 concurrent workers.\n"
     ]
    },
    {
     "name": "stdout",
     "output_type": "stream",
     "text": [
      "K-Fold #2\n",
      "Mean negativities for all classes: [0.36574737837860505, 0.34585011715336267, 0.08646565708269037]\n",
      "Mean entropies for all classes: [3.6718914877161786e-15, 3.872404220770794e-15, 4.306084926175274e-15]\n",
      "              precision    recall  f1-score   support\n",
      "\n",
      "           0       0.00      0.00      0.00         5\n",
      "           1       0.00      0.00      0.00         5\n",
      "           2       0.23      0.60      0.33         5\n",
      "\n",
      "    accuracy                           0.20        15\n",
      "   macro avg       0.08      0.20      0.11        15\n",
      "weighted avg       0.08      0.20      0.11        15\n",
      "\n",
      "-------------------------------------------------------------------------------------------------------------------\n"
     ]
    },
    {
     "name": "stderr",
     "output_type": "stream",
     "text": [
      "[Parallel(n_jobs=-1)]: Done   3 out of   3 | elapsed:  1.0min finished\n",
      "[Parallel(n_jobs=-1)]: Using backend LokyBackend with 12 concurrent workers.\n"
     ]
    },
    {
     "name": "stdout",
     "output_type": "stream",
     "text": [
      "K-Fold #3\n",
      "Mean negativities for all classes: [0.36177866278033444, 0.3208203631336672, 0.0865242055249225]\n",
      "Mean entropies for all classes: [4.053577264671127e-15, 3.1698602723828476e-15, 3.2487538530262324e-15]\n",
      "              precision    recall  f1-score   support\n",
      "\n",
      "           0       1.00      0.20      0.33         5\n",
      "           1       0.00      0.00      0.00         5\n",
      "           2       0.22      0.40      0.29         5\n",
      "\n",
      "    accuracy                           0.20        15\n",
      "   macro avg       0.41      0.20      0.21        15\n",
      "weighted avg       0.41      0.20      0.21        15\n",
      "\n",
      "-------------------------------------------------------------------------------------------------------------------\n"
     ]
    },
    {
     "name": "stderr",
     "output_type": "stream",
     "text": [
      "[Parallel(n_jobs=-1)]: Done   3 out of   3 | elapsed:  1.0min finished\n",
      "[Parallel(n_jobs=-1)]: Using backend LokyBackend with 12 concurrent workers.\n"
     ]
    },
    {
     "name": "stdout",
     "output_type": "stream",
     "text": [
      "K-Fold #4\n",
      "Mean negativities for all classes: [0.35868577981851807, 0.33504316983942595, 0.08724567218344002]\n",
      "Mean entropies for all classes: [3.8053472226199056e-15, 3.6743928052394875e-15, 4.113080100761959e-15]\n",
      "              precision    recall  f1-score   support\n",
      "\n",
      "           0       0.50      0.20      0.29         5\n",
      "           1       0.00      0.00      0.00         5\n",
      "           2       0.33      0.60      0.43         5\n",
      "\n",
      "    accuracy                           0.27        15\n",
      "   macro avg       0.28      0.27      0.24        15\n",
      "weighted avg       0.28      0.27      0.24        15\n",
      "\n",
      "-------------------------------------------------------------------------------------------------------------------\n"
     ]
    },
    {
     "name": "stderr",
     "output_type": "stream",
     "text": [
      "[Parallel(n_jobs=-1)]: Done   3 out of   3 | elapsed:  1.0min finished\n",
      "[Parallel(n_jobs=-1)]: Using backend LokyBackend with 12 concurrent workers.\n"
     ]
    },
    {
     "name": "stdout",
     "output_type": "stream",
     "text": [
      "K-Fold #5\n",
      "Mean negativities for all classes: [0.35865983475419555, 0.3529506080328892, 0.0873168950305793]\n",
      "Mean entropies for all classes: [3.3730837333543723e-15, 3.3272071802730433e-15, 3.171376209057836e-15]\n",
      "              precision    recall  f1-score   support\n",
      "\n",
      "           0       1.00      0.20      0.33         5\n",
      "           1       0.00      0.00      0.00         5\n",
      "           2       0.36      0.80      0.50         5\n",
      "\n",
      "    accuracy                           0.33        15\n",
      "   macro avg       0.45      0.33      0.28        15\n",
      "weighted avg       0.45      0.33      0.28        15\n",
      "\n",
      "-------------------------------------------------------------------------------------------------------------------\n"
     ]
    },
    {
     "name": "stderr",
     "output_type": "stream",
     "text": [
      "[Parallel(n_jobs=-1)]: Done   3 out of   3 | elapsed:  1.1min finished\n",
      "[Parallel(n_jobs=-1)]: Using backend LokyBackend with 12 concurrent workers.\n"
     ]
    },
    {
     "name": "stdout",
     "output_type": "stream",
     "text": [
      "K-Fold #6\n",
      "Mean negativities for all classes: [0.3684611260027284, 0.32348750425086686, 0.08720713124958532]\n",
      "Mean entropies for all classes: [3.6448758250925824e-15, 3.2073898659819092e-15, 3.7949318311889246e-15]\n",
      "              precision    recall  f1-score   support\n",
      "\n",
      "           0       0.67      0.40      0.50         5\n",
      "           1       0.00      0.00      0.00         5\n",
      "           2       0.50      0.80      0.62         5\n",
      "\n",
      "    accuracy                           0.40        15\n",
      "   macro avg       0.39      0.40      0.37        15\n",
      "weighted avg       0.39      0.40      0.37        15\n",
      "\n",
      "-------------------------------------------------------------------------------------------------------------------\n"
     ]
    },
    {
     "name": "stderr",
     "output_type": "stream",
     "text": [
      "[Parallel(n_jobs=-1)]: Done   3 out of   3 | elapsed:  1.0min finished\n",
      "c:\\ProgramData\\Anaconda3\\lib\\site-packages\\sklearn\\metrics\\_classification.py:1344: UndefinedMetricWarning: Precision and F-score are ill-defined and being set to 0.0 in labels with no predicted samples. Use `zero_division` parameter to control this behavior.\n",
      "  _warn_prf(average, modifier, msg_start, len(result))\n",
      "c:\\ProgramData\\Anaconda3\\lib\\site-packages\\sklearn\\metrics\\_classification.py:1344: UndefinedMetricWarning: Precision and F-score are ill-defined and being set to 0.0 in labels with no predicted samples. Use `zero_division` parameter to control this behavior.\n",
      "  _warn_prf(average, modifier, msg_start, len(result))\n",
      "c:\\ProgramData\\Anaconda3\\lib\\site-packages\\sklearn\\metrics\\_classification.py:1344: UndefinedMetricWarning: Precision and F-score are ill-defined and being set to 0.0 in labels with no predicted samples. Use `zero_division` parameter to control this behavior.\n",
      "  _warn_prf(average, modifier, msg_start, len(result))\n",
      "[Parallel(n_jobs=-1)]: Using backend LokyBackend with 12 concurrent workers.\n"
     ]
    },
    {
     "name": "stdout",
     "output_type": "stream",
     "text": [
      "K-Fold #7\n",
      "Mean negativities for all classes: [0.362176269125845, 0.34978805697730286, 0.08697628364634774]\n",
      "Mean entropies for all classes: [3.784084749258339e-15, 3.842590503578497e-15, 3.625846580170467e-15]\n",
      "              precision    recall  f1-score   support\n",
      "\n",
      "           0       0.00      0.00      0.00         5\n",
      "           1       0.00      0.00      0.00         5\n",
      "           2       0.27      0.60      0.37         5\n",
      "\n",
      "    accuracy                           0.20        15\n",
      "   macro avg       0.09      0.20      0.12        15\n",
      "weighted avg       0.09      0.20      0.12        15\n",
      "\n",
      "-------------------------------------------------------------------------------------------------------------------\n"
     ]
    },
    {
     "name": "stderr",
     "output_type": "stream",
     "text": [
      "[Parallel(n_jobs=-1)]: Done   3 out of   3 | elapsed:  1.0min finished\n",
      "c:\\ProgramData\\Anaconda3\\lib\\site-packages\\sklearn\\metrics\\_classification.py:1344: UndefinedMetricWarning: Precision and F-score are ill-defined and being set to 0.0 in labels with no predicted samples. Use `zero_division` parameter to control this behavior.\n",
      "  _warn_prf(average, modifier, msg_start, len(result))\n",
      "c:\\ProgramData\\Anaconda3\\lib\\site-packages\\sklearn\\metrics\\_classification.py:1344: UndefinedMetricWarning: Precision and F-score are ill-defined and being set to 0.0 in labels with no predicted samples. Use `zero_division` parameter to control this behavior.\n",
      "  _warn_prf(average, modifier, msg_start, len(result))\n",
      "c:\\ProgramData\\Anaconda3\\lib\\site-packages\\sklearn\\metrics\\_classification.py:1344: UndefinedMetricWarning: Precision and F-score are ill-defined and being set to 0.0 in labels with no predicted samples. Use `zero_division` parameter to control this behavior.\n",
      "  _warn_prf(average, modifier, msg_start, len(result))\n",
      "[Parallel(n_jobs=-1)]: Using backend LokyBackend with 12 concurrent workers.\n"
     ]
    },
    {
     "name": "stdout",
     "output_type": "stream",
     "text": [
      "K-Fold #8\n",
      "Mean negativities for all classes: [0.3644311714373141, 0.3033457729970926, 0.08742556042880392]\n",
      "Mean entropies for all classes: [3.1684356421326447e-15, 3.648752335362338e-15, 3.2949561424284725e-15]\n",
      "              precision    recall  f1-score   support\n",
      "\n",
      "           0       0.00      0.00      0.00         5\n",
      "           1       0.00      0.00      0.00         5\n",
      "           2       0.33      0.60      0.43         5\n",
      "\n",
      "    accuracy                           0.20        15\n",
      "   macro avg       0.11      0.20      0.14        15\n",
      "weighted avg       0.11      0.20      0.14        15\n",
      "\n",
      "-------------------------------------------------------------------------------------------------------------------\n"
     ]
    },
    {
     "name": "stderr",
     "output_type": "stream",
     "text": [
      "[Parallel(n_jobs=-1)]: Done   3 out of   3 | elapsed:  1.0min finished\n",
      "[Parallel(n_jobs=-1)]: Using backend LokyBackend with 12 concurrent workers.\n"
     ]
    },
    {
     "name": "stdout",
     "output_type": "stream",
     "text": [
      "K-Fold #9\n",
      "Mean negativities for all classes: [0.3572601571265079, 0.3515370192097123, 0.08647784558613732]\n",
      "Mean entropies for all classes: [3.460228238649047e-15, 3.66250886931408e-15, 3.58833195596764e-15]\n",
      "              precision    recall  f1-score   support\n",
      "\n",
      "           0       0.50      0.20      0.29         5\n",
      "           1       0.00      0.00      0.00         5\n",
      "           2       0.44      0.80      0.57         5\n",
      "\n",
      "    accuracy                           0.33        15\n",
      "   macro avg       0.31      0.33      0.29        15\n",
      "weighted avg       0.31      0.33      0.29        15\n",
      "\n",
      "-------------------------------------------------------------------------------------------------------------------\n",
      "AVG: Scores = 0.2800000000000001 F1-Scores = 0.22825091575091574 Negativity = [0.25910622754203955, 0.26001770363740667, 0.2660210508715527] Entropy = [4.0414681169971364e-15, 3.2729297763807134e-15, 3.9501268782207494e-15]\n"
     ]
    },
    {
     "name": "stderr",
     "output_type": "stream",
     "text": [
      "[Parallel(n_jobs=-1)]: Done   3 out of   3 | elapsed:  1.0min finished\n",
      "c:\\ProgramData\\Anaconda3\\lib\\site-packages\\sklearn\\metrics\\_classification.py:1344: UndefinedMetricWarning: Precision and F-score are ill-defined and being set to 0.0 in labels with no predicted samples. Use `zero_division` parameter to control this behavior.\n",
      "  _warn_prf(average, modifier, msg_start, len(result))\n",
      "c:\\ProgramData\\Anaconda3\\lib\\site-packages\\sklearn\\metrics\\_classification.py:1344: UndefinedMetricWarning: Precision and F-score are ill-defined and being set to 0.0 in labels with no predicted samples. Use `zero_division` parameter to control this behavior.\n",
      "  _warn_prf(average, modifier, msg_start, len(result))\n",
      "c:\\ProgramData\\Anaconda3\\lib\\site-packages\\sklearn\\metrics\\_classification.py:1344: UndefinedMetricWarning: Precision and F-score are ill-defined and being set to 0.0 in labels with no predicted samples. Use `zero_division` parameter to control this behavior.\n",
      "  _warn_prf(average, modifier, msg_start, len(result))\n",
      "[Parallel(n_jobs=-1)]: Using backend LokyBackend with 12 concurrent workers.\n"
     ]
    },
    {
     "name": "stdout",
     "output_type": "stream",
     "text": [
      "K-Fold #0\n",
      "Mean negativities for all classes: [0.36067598323751837, 0.3255550793936541, 0.08694175629823532]\n",
      "Mean entropies for all classes: [3.378125732857532e-15, 3.571354231476684e-15, 4.762013664161754e-15]\n",
      "              precision    recall  f1-score   support\n",
      "\n",
      "           0       0.00      0.00      0.00         5\n",
      "           1       0.00      0.00      0.00         5\n",
      "           2       0.33      0.60      0.43         5\n",
      "\n",
      "    accuracy                           0.20        15\n",
      "   macro avg       0.11      0.20      0.14        15\n",
      "weighted avg       0.11      0.20      0.14        15\n",
      "\n",
      "-------------------------------------------------------------------------------------------------------------------\n"
     ]
    },
    {
     "name": "stderr",
     "output_type": "stream",
     "text": [
      "[Parallel(n_jobs=-1)]: Done   3 out of   3 | elapsed:  1.0min finished\n",
      "c:\\ProgramData\\Anaconda3\\lib\\site-packages\\sklearn\\metrics\\_classification.py:1344: UndefinedMetricWarning: Precision and F-score are ill-defined and being set to 0.0 in labels with no predicted samples. Use `zero_division` parameter to control this behavior.\n",
      "  _warn_prf(average, modifier, msg_start, len(result))\n",
      "c:\\ProgramData\\Anaconda3\\lib\\site-packages\\sklearn\\metrics\\_classification.py:1344: UndefinedMetricWarning: Precision and F-score are ill-defined and being set to 0.0 in labels with no predicted samples. Use `zero_division` parameter to control this behavior.\n",
      "  _warn_prf(average, modifier, msg_start, len(result))\n",
      "c:\\ProgramData\\Anaconda3\\lib\\site-packages\\sklearn\\metrics\\_classification.py:1344: UndefinedMetricWarning: Precision and F-score are ill-defined and being set to 0.0 in labels with no predicted samples. Use `zero_division` parameter to control this behavior.\n",
      "  _warn_prf(average, modifier, msg_start, len(result))\n",
      "[Parallel(n_jobs=-1)]: Using backend LokyBackend with 12 concurrent workers.\n"
     ]
    },
    {
     "name": "stdout",
     "output_type": "stream",
     "text": [
      "K-Fold #1\n",
      "Mean negativities for all classes: [0.3666581513782879, 0.3248709603265022, 0.08783027136797732]\n",
      "Mean entropies for all classes: [3.965938584976267e-15, 4.234314598979618e-15, 3.195853020558579e-15]\n",
      "              precision    recall  f1-score   support\n",
      "\n",
      "           0       0.00      0.00      0.00         5\n",
      "           1       0.00      0.00      0.00         5\n",
      "           2       0.27      0.60      0.37         5\n",
      "\n",
      "    accuracy                           0.20        15\n",
      "   macro avg       0.09      0.20      0.12        15\n",
      "weighted avg       0.09      0.20      0.12        15\n",
      "\n",
      "-------------------------------------------------------------------------------------------------------------------\n"
     ]
    },
    {
     "name": "stderr",
     "output_type": "stream",
     "text": [
      "[Parallel(n_jobs=-1)]: Done   3 out of   3 | elapsed:  1.0min finished\n",
      "[Parallel(n_jobs=-1)]: Using backend LokyBackend with 12 concurrent workers.\n"
     ]
    },
    {
     "name": "stdout",
     "output_type": "stream",
     "text": [
      "K-Fold #2\n",
      "Mean negativities for all classes: [0.34598687432889186, 0.3402389164192266, 0.08539839971140248]\n",
      "Mean entropies for all classes: [3.1563128522082083e-15, 4.5081180390558265e-15, 2.8096806092319435e-15]\n",
      "              precision    recall  f1-score   support\n",
      "\n",
      "           0       1.00      0.20      0.33         5\n",
      "           1       0.00      0.00      0.00         5\n",
      "           2       0.33      0.80      0.47         5\n",
      "\n",
      "    accuracy                           0.33        15\n",
      "   macro avg       0.44      0.33      0.27        15\n",
      "weighted avg       0.44      0.33      0.27        15\n",
      "\n",
      "-------------------------------------------------------------------------------------------------------------------\n"
     ]
    },
    {
     "name": "stderr",
     "output_type": "stream",
     "text": [
      "[Parallel(n_jobs=-1)]: Done   3 out of   3 | elapsed:  1.0min finished\n",
      "[Parallel(n_jobs=-1)]: Using backend LokyBackend with 12 concurrent workers.\n"
     ]
    },
    {
     "name": "stdout",
     "output_type": "stream",
     "text": [
      "K-Fold #3\n",
      "Mean negativities for all classes: [0.36274266490785395, 0.3328946936765615, 0.08697312873812889]\n",
      "Mean entropies for all classes: [3.891095434499998e-15, 3.162701617517088e-15, 3.674755337096831e-15]\n",
      "              precision    recall  f1-score   support\n",
      "\n",
      "           0       0.50      0.40      0.44         5\n",
      "           1       0.00      0.00      0.00         5\n",
      "           2       0.38      0.60      0.46         5\n",
      "\n",
      "    accuracy                           0.33        15\n",
      "   macro avg       0.29      0.33      0.30        15\n",
      "weighted avg       0.29      0.33      0.30        15\n",
      "\n",
      "-------------------------------------------------------------------------------------------------------------------\n"
     ]
    },
    {
     "name": "stderr",
     "output_type": "stream",
     "text": [
      "[Parallel(n_jobs=-1)]: Done   3 out of   3 | elapsed:  1.0min finished\n",
      "c:\\ProgramData\\Anaconda3\\lib\\site-packages\\sklearn\\metrics\\_classification.py:1344: UndefinedMetricWarning: Precision and F-score are ill-defined and being set to 0.0 in labels with no predicted samples. Use `zero_division` parameter to control this behavior.\n",
      "  _warn_prf(average, modifier, msg_start, len(result))\n",
      "c:\\ProgramData\\Anaconda3\\lib\\site-packages\\sklearn\\metrics\\_classification.py:1344: UndefinedMetricWarning: Precision and F-score are ill-defined and being set to 0.0 in labels with no predicted samples. Use `zero_division` parameter to control this behavior.\n",
      "  _warn_prf(average, modifier, msg_start, len(result))\n",
      "c:\\ProgramData\\Anaconda3\\lib\\site-packages\\sklearn\\metrics\\_classification.py:1344: UndefinedMetricWarning: Precision and F-score are ill-defined and being set to 0.0 in labels with no predicted samples. Use `zero_division` parameter to control this behavior.\n",
      "  _warn_prf(average, modifier, msg_start, len(result))\n",
      "[Parallel(n_jobs=-1)]: Using backend LokyBackend with 12 concurrent workers.\n"
     ]
    },
    {
     "name": "stdout",
     "output_type": "stream",
     "text": [
      "K-Fold #4\n",
      "Mean negativities for all classes: [0.3799117335702863, 0.3447316916207732, 0.08698673415030238]\n",
      "Mean entropies for all classes: [3.809912805639589e-15, 4.135467703547959e-15, 3.0421343477624465e-15]\n",
      "              precision    recall  f1-score   support\n",
      "\n",
      "           0       1.00      0.20      0.33         5\n",
      "           1       0.00      0.00      0.00         5\n",
      "           2       0.36      1.00      0.53         5\n",
      "\n",
      "    accuracy                           0.40        15\n",
      "   macro avg       0.45      0.40      0.29        15\n",
      "weighted avg       0.45      0.40      0.29        15\n",
      "\n",
      "-------------------------------------------------------------------------------------------------------------------\n"
     ]
    },
    {
     "name": "stderr",
     "output_type": "stream",
     "text": [
      "[Parallel(n_jobs=-1)]: Done   3 out of   3 | elapsed:  1.0min finished\n",
      "[Parallel(n_jobs=-1)]: Using backend LokyBackend with 12 concurrent workers.\n"
     ]
    },
    {
     "name": "stdout",
     "output_type": "stream",
     "text": [
      "K-Fold #5\n",
      "Mean negativities for all classes: [0.354246372164795, 0.3296687360931703, 0.08685537264247722]\n",
      "Mean entropies for all classes: [3.0345228279537813e-15, 3.784925449386894e-15, 3.1069100427335105e-15]\n",
      "              precision    recall  f1-score   support\n",
      "\n",
      "           0       0.00      0.00      0.00         5\n",
      "           1       0.00      0.00      0.00         5\n",
      "           2       0.40      0.80      0.53         5\n",
      "\n",
      "    accuracy                           0.27        15\n",
      "   macro avg       0.13      0.27      0.18        15\n",
      "weighted avg       0.13      0.27      0.18        15\n",
      "\n",
      "-------------------------------------------------------------------------------------------------------------------\n"
     ]
    },
    {
     "name": "stderr",
     "output_type": "stream",
     "text": [
      "[Parallel(n_jobs=-1)]: Done   3 out of   3 | elapsed:  1.0min finished\n",
      "[Parallel(n_jobs=-1)]: Using backend LokyBackend with 12 concurrent workers.\n"
     ]
    },
    {
     "name": "stdout",
     "output_type": "stream",
     "text": [
      "K-Fold #6\n",
      "Mean negativities for all classes: [0.3670901701681949, 0.32711824167836273, 0.0873477158486474]\n",
      "Mean entropies for all classes: [3.211366169168584e-15, 3.3632151917423925e-15, 3.43405124772956e-15]\n",
      "              precision    recall  f1-score   support\n",
      "\n",
      "           0       1.00      0.20      0.33         5\n",
      "           1       0.00      0.00      0.00         5\n",
      "           2       0.11      0.20      0.14         5\n",
      "\n",
      "    accuracy                           0.13        15\n",
      "   macro avg       0.37      0.13      0.16        15\n",
      "weighted avg       0.37      0.13      0.16        15\n",
      "\n",
      "-------------------------------------------------------------------------------------------------------------------\n"
     ]
    },
    {
     "name": "stderr",
     "output_type": "stream",
     "text": [
      "[Parallel(n_jobs=-1)]: Done   3 out of   3 | elapsed:  1.0min finished\n",
      "[Parallel(n_jobs=-1)]: Using backend LokyBackend with 12 concurrent workers.\n"
     ]
    },
    {
     "name": "stdout",
     "output_type": "stream",
     "text": [
      "K-Fold #7\n",
      "Mean negativities for all classes: [0.3567388943477369, 0.3466471963699696, 0.0873506514522175]\n",
      "Mean entropies for all classes: [3.5500310756364538e-15, 3.311927477425604e-15, 3.798719003404422e-15]\n",
      "              precision    recall  f1-score   support\n",
      "\n",
      "           0       0.50      0.20      0.29         5\n",
      "           1       0.00      0.00      0.00         5\n",
      "           2       0.38      0.60      0.46         5\n",
      "\n",
      "    accuracy                           0.27        15\n",
      "   macro avg       0.29      0.27      0.25        15\n",
      "weighted avg       0.29      0.27      0.25        15\n",
      "\n",
      "-------------------------------------------------------------------------------------------------------------------\n"
     ]
    },
    {
     "name": "stderr",
     "output_type": "stream",
     "text": [
      "[Parallel(n_jobs=-1)]: Done   3 out of   3 | elapsed:  1.0min finished\n",
      "[Parallel(n_jobs=-1)]: Using backend LokyBackend with 12 concurrent workers.\n"
     ]
    },
    {
     "name": "stdout",
     "output_type": "stream",
     "text": [
      "K-Fold #8\n",
      "Mean negativities for all classes: [0.362706618161159, 0.34713428365851434, 0.08690396692243073]\n",
      "Mean entropies for all classes: [3.812219561607582e-15, 2.8292159800139922e-15, 3.3760222111680095e-15]\n",
      "              precision    recall  f1-score   support\n",
      "\n",
      "           0       1.00      0.20      0.33         5\n",
      "           1       0.00      0.00      0.00         5\n",
      "           2       0.38      0.60      0.46         5\n",
      "\n",
      "    accuracy                           0.27        15\n",
      "   macro avg       0.46      0.27      0.26        15\n",
      "weighted avg       0.46      0.27      0.26        15\n",
      "\n",
      "-------------------------------------------------------------------------------------------------------------------\n"
     ]
    },
    {
     "name": "stderr",
     "output_type": "stream",
     "text": [
      "[Parallel(n_jobs=-1)]: Done   3 out of   3 | elapsed:  1.0min finished\n",
      "[Parallel(n_jobs=-1)]: Using backend LokyBackend with 12 concurrent workers.\n"
     ]
    },
    {
     "name": "stdout",
     "output_type": "stream",
     "text": [
      "K-Fold #9\n",
      "Mean negativities for all classes: [0.3604447156773504, 0.3341627684300386, 0.08745621084116827]\n",
      "Mean entropies for all classes: [3.6396491271739074e-15, 3.31799754872836e-15, 2.769081195869765e-15]\n",
      "              precision    recall  f1-score   support\n",
      "\n",
      "           0       0.67      0.40      0.50         5\n",
      "           1       0.00      0.00      0.00         5\n",
      "           2       0.33      0.40      0.36         5\n",
      "\n",
      "    accuracy                           0.27        15\n",
      "   macro avg       0.33      0.27      0.29        15\n",
      "weighted avg       0.33      0.27      0.29        15\n",
      "\n",
      "-------------------------------------------------------------------------------------------------------------------\n",
      "AVG: Scores = 0.2666666666666667 F1-Scores = 0.22628032470911724 Negativity = [0.25772427297646927, 0.2597864610242558, 0.257208063486507] Entropy = [3.903831209498657e-15, 3.798702068171488e-15, 3.4913705001653256e-15]\n"
     ]
    },
    {
     "name": "stderr",
     "output_type": "stream",
     "text": [
      "[Parallel(n_jobs=-1)]: Done   3 out of   3 | elapsed:  1.0min finished\n",
      "[Parallel(n_jobs=-1)]: Using backend LokyBackend with 12 concurrent workers.\n"
     ]
    },
    {
     "name": "stdout",
     "output_type": "stream",
     "text": [
      "K-Fold #0\n",
      "Mean negativities for all classes: [0.35747011497769104, 0.3000303933062482, 0.0870051558146159]\n",
      "Mean entropies for all classes: [3.4703480166188436e-15, 3.27084598845858e-15, 3.814192511574858e-15]\n",
      "              precision    recall  f1-score   support\n",
      "\n",
      "           0       1.00      0.40      0.57         5\n",
      "           1       0.00      0.00      0.00         5\n",
      "           2       0.44      0.80      0.57         5\n",
      "\n",
      "    accuracy                           0.40        15\n",
      "   macro avg       0.48      0.40      0.38        15\n",
      "weighted avg       0.48      0.40      0.38        15\n",
      "\n",
      "-------------------------------------------------------------------------------------------------------------------\n"
     ]
    },
    {
     "name": "stderr",
     "output_type": "stream",
     "text": [
      "[Parallel(n_jobs=-1)]: Done   3 out of   3 | elapsed:  1.0min finished\n",
      "c:\\ProgramData\\Anaconda3\\lib\\site-packages\\sklearn\\metrics\\_classification.py:1344: UndefinedMetricWarning: Precision and F-score are ill-defined and being set to 0.0 in labels with no predicted samples. Use `zero_division` parameter to control this behavior.\n",
      "  _warn_prf(average, modifier, msg_start, len(result))\n",
      "c:\\ProgramData\\Anaconda3\\lib\\site-packages\\sklearn\\metrics\\_classification.py:1344: UndefinedMetricWarning: Precision and F-score are ill-defined and being set to 0.0 in labels with no predicted samples. Use `zero_division` parameter to control this behavior.\n",
      "  _warn_prf(average, modifier, msg_start, len(result))\n",
      "c:\\ProgramData\\Anaconda3\\lib\\site-packages\\sklearn\\metrics\\_classification.py:1344: UndefinedMetricWarning: Precision and F-score are ill-defined and being set to 0.0 in labels with no predicted samples. Use `zero_division` parameter to control this behavior.\n",
      "  _warn_prf(average, modifier, msg_start, len(result))\n",
      "[Parallel(n_jobs=-1)]: Using backend LokyBackend with 12 concurrent workers.\n"
     ]
    },
    {
     "name": "stdout",
     "output_type": "stream",
     "text": [
      "K-Fold #1\n",
      "Mean negativities for all classes: [0.35923657025115313, 0.33898518773091424, 0.08740385767105675]\n",
      "Mean entropies for all classes: [3.975768708274014e-15, 3.874596714402748e-15, 3.9608747358249765e-15]\n",
      "              precision    recall  f1-score   support\n",
      "\n",
      "           0       0.00      0.00      0.00         5\n",
      "           1       0.00      0.00      0.00         5\n",
      "           2       0.31      0.80      0.44         5\n",
      "\n",
      "    accuracy                           0.27        15\n",
      "   macro avg       0.10      0.27      0.15        15\n",
      "weighted avg       0.10      0.27      0.15        15\n",
      "\n",
      "-------------------------------------------------------------------------------------------------------------------\n"
     ]
    },
    {
     "name": "stderr",
     "output_type": "stream",
     "text": [
      "[Parallel(n_jobs=-1)]: Done   3 out of   3 | elapsed:  1.0min finished\n",
      "[Parallel(n_jobs=-1)]: Using backend LokyBackend with 12 concurrent workers.\n"
     ]
    },
    {
     "name": "stdout",
     "output_type": "stream",
     "text": [
      "K-Fold #2\n",
      "Mean negativities for all classes: [0.35574606418475485, 0.34934736830967333, 0.08607172478224703]\n",
      "Mean entropies for all classes: [2.5966058455657377e-15, 3.599107259407023e-15, 2.985280567423388e-15]\n",
      "              precision    recall  f1-score   support\n",
      "\n",
      "           0       1.00      0.40      0.57         5\n",
      "           1       0.00      0.00      0.00         5\n",
      "           2       0.36      0.80      0.50         5\n",
      "\n",
      "    accuracy                           0.40        15\n",
      "   macro avg       0.45      0.40      0.36        15\n",
      "weighted avg       0.45      0.40      0.36        15\n",
      "\n",
      "-------------------------------------------------------------------------------------------------------------------\n"
     ]
    },
    {
     "name": "stderr",
     "output_type": "stream",
     "text": [
      "[Parallel(n_jobs=-1)]: Done   3 out of   3 | elapsed:  1.0min finished\n",
      "c:\\ProgramData\\Anaconda3\\lib\\site-packages\\sklearn\\metrics\\_classification.py:1344: UndefinedMetricWarning: Precision and F-score are ill-defined and being set to 0.0 in labels with no predicted samples. Use `zero_division` parameter to control this behavior.\n",
      "  _warn_prf(average, modifier, msg_start, len(result))\n",
      "c:\\ProgramData\\Anaconda3\\lib\\site-packages\\sklearn\\metrics\\_classification.py:1344: UndefinedMetricWarning: Precision and F-score are ill-defined and being set to 0.0 in labels with no predicted samples. Use `zero_division` parameter to control this behavior.\n",
      "  _warn_prf(average, modifier, msg_start, len(result))\n",
      "c:\\ProgramData\\Anaconda3\\lib\\site-packages\\sklearn\\metrics\\_classification.py:1344: UndefinedMetricWarning: Precision and F-score are ill-defined and being set to 0.0 in labels with no predicted samples. Use `zero_division` parameter to control this behavior.\n",
      "  _warn_prf(average, modifier, msg_start, len(result))\n",
      "[Parallel(n_jobs=-1)]: Using backend LokyBackend with 12 concurrent workers.\n"
     ]
    },
    {
     "name": "stdout",
     "output_type": "stream",
     "text": [
      "K-Fold #3\n",
      "Mean negativities for all classes: [0.366911378409762, 0.34094530832281555, 0.08740326386701795]\n",
      "Mean entropies for all classes: [3.344693348860086e-15, 3.3373678644335683e-15, 3.0712971265578095e-15]\n",
      "              precision    recall  f1-score   support\n",
      "\n",
      "           0       0.00      0.00      0.00         5\n",
      "           1       0.00      0.00      0.00         5\n",
      "           2       0.30      0.60      0.40         5\n",
      "\n",
      "    accuracy                           0.20        15\n",
      "   macro avg       0.10      0.20      0.13        15\n",
      "weighted avg       0.10      0.20      0.13        15\n",
      "\n",
      "-------------------------------------------------------------------------------------------------------------------\n"
     ]
    },
    {
     "name": "stderr",
     "output_type": "stream",
     "text": [
      "[Parallel(n_jobs=-1)]: Done   3 out of   3 | elapsed:  1.0min finished\n",
      "c:\\ProgramData\\Anaconda3\\lib\\site-packages\\sklearn\\metrics\\_classification.py:1344: UndefinedMetricWarning: Precision and F-score are ill-defined and being set to 0.0 in labels with no predicted samples. Use `zero_division` parameter to control this behavior.\n",
      "  _warn_prf(average, modifier, msg_start, len(result))\n",
      "c:\\ProgramData\\Anaconda3\\lib\\site-packages\\sklearn\\metrics\\_classification.py:1344: UndefinedMetricWarning: Precision and F-score are ill-defined and being set to 0.0 in labels with no predicted samples. Use `zero_division` parameter to control this behavior.\n",
      "  _warn_prf(average, modifier, msg_start, len(result))\n",
      "c:\\ProgramData\\Anaconda3\\lib\\site-packages\\sklearn\\metrics\\_classification.py:1344: UndefinedMetricWarning: Precision and F-score are ill-defined and being set to 0.0 in labels with no predicted samples. Use `zero_division` parameter to control this behavior.\n",
      "  _warn_prf(average, modifier, msg_start, len(result))\n",
      "[Parallel(n_jobs=-1)]: Using backend LokyBackend with 12 concurrent workers.\n"
     ]
    },
    {
     "name": "stdout",
     "output_type": "stream",
     "text": [
      "K-Fold #4\n",
      "Mean negativities for all classes: [0.36502536207802927, 0.30566393758704263, 0.08708680754016324]\n",
      "Mean entropies for all classes: [3.31367271494529e-15, 2.8876017989434323e-15, 3.666846499889638e-15]\n",
      "              precision    recall  f1-score   support\n",
      "\n",
      "           0       0.00      0.00      0.00         5\n",
      "           1       0.00      0.00      0.00         5\n",
      "           2       0.11      0.20      0.14         5\n",
      "\n",
      "    accuracy                           0.07        15\n",
      "   macro avg       0.04      0.07      0.05        15\n",
      "weighted avg       0.04      0.07      0.05        15\n",
      "\n",
      "-------------------------------------------------------------------------------------------------------------------\n"
     ]
    },
    {
     "name": "stderr",
     "output_type": "stream",
     "text": [
      "[Parallel(n_jobs=-1)]: Done   3 out of   3 | elapsed:  1.0min finished\n",
      "[Parallel(n_jobs=-1)]: Using backend LokyBackend with 12 concurrent workers.\n"
     ]
    },
    {
     "name": "stdout",
     "output_type": "stream",
     "text": [
      "K-Fold #5\n",
      "Mean negativities for all classes: [0.3524273072262354, 0.3560660350284736, 0.08651990959103517]\n",
      "Mean entropies for all classes: [3.837978118231257e-15, 3.0839047079513955e-15, 4.292235138787958e-15]\n",
      "              precision    recall  f1-score   support\n",
      "\n",
      "           0       0.00      0.00      0.00         5\n",
      "           1       0.00      0.00      0.00         5\n",
      "           2       0.40      0.80      0.53         5\n",
      "\n",
      "    accuracy                           0.27        15\n",
      "   macro avg       0.13      0.27      0.18        15\n",
      "weighted avg       0.13      0.27      0.18        15\n",
      "\n",
      "-------------------------------------------------------------------------------------------------------------------\n"
     ]
    },
    {
     "name": "stderr",
     "output_type": "stream",
     "text": [
      "[Parallel(n_jobs=-1)]: Done   3 out of   3 | elapsed:  1.0min finished\n",
      "[Parallel(n_jobs=-1)]: Using backend LokyBackend with 12 concurrent workers.\n"
     ]
    },
    {
     "name": "stdout",
     "output_type": "stream",
     "text": [
      "K-Fold #6\n",
      "Mean negativities for all classes: [0.3658242465351552, 0.32174922991368965, 0.08769818444670298]\n",
      "Mean entropies for all classes: [3.694590402450804e-15, 3.891058373605245e-15, 3.1870050760058846e-15]\n",
      "              precision    recall  f1-score   support\n",
      "\n",
      "           0       1.00      0.20      0.33         5\n",
      "           1       0.00      0.00      0.00         5\n",
      "           2       0.27      0.60      0.37         5\n",
      "\n",
      "    accuracy                           0.27        15\n",
      "   macro avg       0.42      0.27      0.24        15\n",
      "weighted avg       0.42      0.27      0.24        15\n",
      "\n",
      "-------------------------------------------------------------------------------------------------------------------\n"
     ]
    },
    {
     "name": "stderr",
     "output_type": "stream",
     "text": [
      "[Parallel(n_jobs=-1)]: Done   3 out of   3 | elapsed:  1.0min finished\n",
      "[Parallel(n_jobs=-1)]: Using backend LokyBackend with 12 concurrent workers.\n"
     ]
    },
    {
     "name": "stdout",
     "output_type": "stream",
     "text": [
      "K-Fold #7\n",
      "Mean negativities for all classes: [0.35687262226790395, 0.3321762533706539, 0.08702629284459291]\n",
      "Mean entropies for all classes: [4.253822728069428e-15, 3.772410281559962e-15, 3.181698271908016e-15]\n",
      "              precision    recall  f1-score   support\n",
      "\n",
      "           0       0.00      0.00      0.00         5\n",
      "           1       0.00      0.00      0.00         5\n",
      "           2       0.29      0.40      0.33         5\n",
      "\n",
      "    accuracy                           0.13        15\n",
      "   macro avg       0.10      0.13      0.11        15\n",
      "weighted avg       0.10      0.13      0.11        15\n",
      "\n",
      "-------------------------------------------------------------------------------------------------------------------\n"
     ]
    },
    {
     "name": "stderr",
     "output_type": "stream",
     "text": [
      "[Parallel(n_jobs=-1)]: Done   3 out of   3 | elapsed:  1.0min finished\n",
      "c:\\ProgramData\\Anaconda3\\lib\\site-packages\\sklearn\\metrics\\_classification.py:1344: UndefinedMetricWarning: Precision and F-score are ill-defined and being set to 0.0 in labels with no predicted samples. Use `zero_division` parameter to control this behavior.\n",
      "  _warn_prf(average, modifier, msg_start, len(result))\n",
      "c:\\ProgramData\\Anaconda3\\lib\\site-packages\\sklearn\\metrics\\_classification.py:1344: UndefinedMetricWarning: Precision and F-score are ill-defined and being set to 0.0 in labels with no predicted samples. Use `zero_division` parameter to control this behavior.\n",
      "  _warn_prf(average, modifier, msg_start, len(result))\n",
      "c:\\ProgramData\\Anaconda3\\lib\\site-packages\\sklearn\\metrics\\_classification.py:1344: UndefinedMetricWarning: Precision and F-score are ill-defined and being set to 0.0 in labels with no predicted samples. Use `zero_division` parameter to control this behavior.\n",
      "  _warn_prf(average, modifier, msg_start, len(result))\n",
      "[Parallel(n_jobs=-1)]: Using backend LokyBackend with 12 concurrent workers.\n"
     ]
    },
    {
     "name": "stdout",
     "output_type": "stream",
     "text": [
      "K-Fold #8\n",
      "Mean negativities for all classes: [0.36852492760758987, 0.35248519009749923, 0.08674608740685]\n",
      "Mean entropies for all classes: [4.108561182522491e-15, 3.976751157740423e-15, 3.926167522016525e-15]\n",
      "              precision    recall  f1-score   support\n",
      "\n",
      "           0       0.00      0.00      0.00         5\n",
      "           1       0.00      0.00      0.00         5\n",
      "           2       0.27      0.60      0.37         5\n",
      "\n",
      "    accuracy                           0.20        15\n",
      "   macro avg       0.09      0.20      0.12        15\n",
      "weighted avg       0.09      0.20      0.12        15\n",
      "\n",
      "-------------------------------------------------------------------------------------------------------------------\n"
     ]
    },
    {
     "name": "stderr",
     "output_type": "stream",
     "text": [
      "[Parallel(n_jobs=-1)]: Done   3 out of   3 | elapsed:  1.0min finished\n",
      "[Parallel(n_jobs=-1)]: Using backend LokyBackend with 12 concurrent workers.\n"
     ]
    },
    {
     "name": "stdout",
     "output_type": "stream",
     "text": [
      "K-Fold #9\n",
      "Mean negativities for all classes: [0.37256828937750525, 0.32807807153477353, 0.0870653378345532]\n",
      "Mean entropies for all classes: [3.9408886152892574e-15, 3.3214219135240352e-15, 4.274885872379098e-15]\n",
      "              precision    recall  f1-score   support\n",
      "\n",
      "           0       1.00      0.20      0.33         5\n",
      "           1       0.00      0.00      0.00         5\n",
      "           2       0.20      0.40      0.27         5\n",
      "\n",
      "    accuracy                           0.20        15\n",
      "   macro avg       0.40      0.20      0.20        15\n",
      "weighted avg       0.40      0.20      0.20        15\n",
      "\n",
      "-------------------------------------------------------------------------------------------------------------------\n",
      "AVG: Scores = 0.24000000000000005 F1-Scores = 0.1917195767195767 Negativity = [0.24816855469951837, 0.261875205217708, 0.2637217190922251] Entropy = [3.5184621722174273e-15, 3.937080052833913e-15, 3.060331224132049e-15]\n"
     ]
    },
    {
     "name": "stderr",
     "output_type": "stream",
     "text": [
      "[Parallel(n_jobs=-1)]: Done   3 out of   3 | elapsed:  1.0min finished\n",
      "[Parallel(n_jobs=-1)]: Using backend LokyBackend with 12 concurrent workers.\n"
     ]
    },
    {
     "name": "stdout",
     "output_type": "stream",
     "text": [
      "K-Fold #0\n",
      "Mean negativities for all classes: [0.35694439907209635, 0.3371559321777614, 0.08743952018889246]\n",
      "Mean entropies for all classes: [3.108438784944089e-15, 3.4822302799515278e-15, 3.835136210067003e-15]\n",
      "              precision    recall  f1-score   support\n",
      "\n",
      "           0       0.00      0.00      0.00         5\n",
      "           1       0.00      0.00      0.00         5\n",
      "           2       0.36      0.80      0.50         5\n",
      "\n",
      "    accuracy                           0.27        15\n",
      "   macro avg       0.12      0.27      0.17        15\n",
      "weighted avg       0.12      0.27      0.17        15\n",
      "\n",
      "-------------------------------------------------------------------------------------------------------------------\n"
     ]
    },
    {
     "name": "stderr",
     "output_type": "stream",
     "text": [
      "[Parallel(n_jobs=-1)]: Done   3 out of   3 | elapsed:  1.0min finished\n",
      "[Parallel(n_jobs=-1)]: Using backend LokyBackend with 12 concurrent workers.\n"
     ]
    },
    {
     "name": "stdout",
     "output_type": "stream",
     "text": [
      "K-Fold #1\n",
      "Mean negativities for all classes: [0.3569130016683378, 0.3225960038765484, 0.08711672348491319]\n",
      "Mean entropies for all classes: [2.9481747889264852e-15, 4.71497779457281e-15, 3.639128238070057e-15]\n",
      "              precision    recall  f1-score   support\n",
      "\n",
      "           0       0.25      0.20      0.22         5\n",
      "           1       0.00      0.00      0.00         5\n",
      "           2       0.50      0.60      0.55         5\n",
      "\n",
      "    accuracy                           0.27        15\n",
      "   macro avg       0.25      0.27      0.26        15\n",
      "weighted avg       0.25      0.27      0.26        15\n",
      "\n",
      "-------------------------------------------------------------------------------------------------------------------\n"
     ]
    },
    {
     "name": "stderr",
     "output_type": "stream",
     "text": [
      "[Parallel(n_jobs=-1)]: Done   3 out of   3 | elapsed:  1.0min finished\n",
      "[Parallel(n_jobs=-1)]: Using backend LokyBackend with 12 concurrent workers.\n"
     ]
    },
    {
     "name": "stdout",
     "output_type": "stream",
     "text": [
      "K-Fold #2\n",
      "Mean negativities for all classes: [0.3530836002141748, 0.3407238901139565, 0.08686169779585275]\n",
      "Mean entropies for all classes: [3.246877807353713e-15, 3.869177867025802e-15, 3.2620118244075335e-15]\n",
      "              precision    recall  f1-score   support\n",
      "\n",
      "           0       1.00      0.20      0.33         5\n",
      "           1       0.00      0.00      0.00         5\n",
      "           2       0.40      0.80      0.53         5\n",
      "\n",
      "    accuracy                           0.33        15\n",
      "   macro avg       0.47      0.33      0.29        15\n",
      "weighted avg       0.47      0.33      0.29        15\n",
      "\n",
      "-------------------------------------------------------------------------------------------------------------------\n"
     ]
    },
    {
     "name": "stderr",
     "output_type": "stream",
     "text": [
      "[Parallel(n_jobs=-1)]: Done   3 out of   3 | elapsed:  1.0min finished\n",
      "[Parallel(n_jobs=-1)]: Using backend LokyBackend with 12 concurrent workers.\n"
     ]
    },
    {
     "name": "stdout",
     "output_type": "stream",
     "text": [
      "K-Fold #3\n",
      "Mean negativities for all classes: [0.36140098356861194, 0.350233411290723, 0.0872015788240263]\n",
      "Mean entropies for all classes: [4.782895831741048e-15, 3.663343795641185e-15, 3.3256593025714986e-15]\n",
      "              precision    recall  f1-score   support\n",
      "\n",
      "           0       1.00      0.20      0.33         5\n",
      "           1       0.00      0.00      0.00         5\n",
      "           2       0.33      0.80      0.47         5\n",
      "\n",
      "    accuracy                           0.33        15\n",
      "   macro avg       0.44      0.33      0.27        15\n",
      "weighted avg       0.44      0.33      0.27        15\n",
      "\n",
      "-------------------------------------------------------------------------------------------------------------------\n"
     ]
    },
    {
     "name": "stderr",
     "output_type": "stream",
     "text": [
      "[Parallel(n_jobs=-1)]: Done   3 out of   3 | elapsed:  1.0min finished\n",
      "c:\\ProgramData\\Anaconda3\\lib\\site-packages\\sklearn\\metrics\\_classification.py:1344: UndefinedMetricWarning: Precision and F-score are ill-defined and being set to 0.0 in labels with no predicted samples. Use `zero_division` parameter to control this behavior.\n",
      "  _warn_prf(average, modifier, msg_start, len(result))\n",
      "c:\\ProgramData\\Anaconda3\\lib\\site-packages\\sklearn\\metrics\\_classification.py:1344: UndefinedMetricWarning: Precision and F-score are ill-defined and being set to 0.0 in labels with no predicted samples. Use `zero_division` parameter to control this behavior.\n",
      "  _warn_prf(average, modifier, msg_start, len(result))\n",
      "c:\\ProgramData\\Anaconda3\\lib\\site-packages\\sklearn\\metrics\\_classification.py:1344: UndefinedMetricWarning: Precision and F-score are ill-defined and being set to 0.0 in labels with no predicted samples. Use `zero_division` parameter to control this behavior.\n",
      "  _warn_prf(average, modifier, msg_start, len(result))\n",
      "[Parallel(n_jobs=-1)]: Using backend LokyBackend with 12 concurrent workers.\n"
     ]
    },
    {
     "name": "stdout",
     "output_type": "stream",
     "text": [
      "K-Fold #4\n",
      "Mean negativities for all classes: [0.3616944146902951, 0.3401538536120103, 0.08688095129086669]\n",
      "Mean entropies for all classes: [3.90594590698312e-15, 4.0499647629356875e-15, 3.802764688762129e-15]\n",
      "              precision    recall  f1-score   support\n",
      "\n",
      "           0       0.00      0.00      0.00         5\n",
      "           1       0.00      0.00      0.00         5\n",
      "           2       0.38      1.00      0.56         5\n",
      "\n",
      "    accuracy                           0.33        15\n",
      "   macro avg       0.13      0.33      0.19        15\n",
      "weighted avg       0.13      0.33      0.19        15\n",
      "\n",
      "-------------------------------------------------------------------------------------------------------------------\n"
     ]
    },
    {
     "name": "stderr",
     "output_type": "stream",
     "text": [
      "[Parallel(n_jobs=-1)]: Done   3 out of   3 | elapsed:  1.0min finished\n",
      "[Parallel(n_jobs=-1)]: Using backend LokyBackend with 12 concurrent workers.\n"
     ]
    },
    {
     "name": "stdout",
     "output_type": "stream",
     "text": [
      "K-Fold #5\n",
      "Mean negativities for all classes: [0.374542408597818, 0.3230022582502355, 0.08741496820728341]\n",
      "Mean entropies for all classes: [3.780805891674937e-15, 3.5495681517397465e-15, 3.57996308121197e-15]\n",
      "              precision    recall  f1-score   support\n",
      "\n",
      "           0       0.00      0.00      0.00         5\n",
      "           1       0.00      0.00      0.00         5\n",
      "           2       0.36      0.80      0.50         5\n",
      "\n",
      "    accuracy                           0.27        15\n",
      "   macro avg       0.12      0.27      0.17        15\n",
      "weighted avg       0.12      0.27      0.17        15\n",
      "\n",
      "-------------------------------------------------------------------------------------------------------------------\n"
     ]
    },
    {
     "name": "stderr",
     "output_type": "stream",
     "text": [
      "[Parallel(n_jobs=-1)]: Done   3 out of   3 | elapsed:  1.0min finished\n",
      "[Parallel(n_jobs=-1)]: Using backend LokyBackend with 12 concurrent workers.\n"
     ]
    },
    {
     "name": "stdout",
     "output_type": "stream",
     "text": [
      "K-Fold #6\n",
      "Mean negativities for all classes: [0.373870177640379, 0.31517167187364353, 0.08687627368373126]\n",
      "Mean entropies for all classes: [4.351728895351985e-15, 3.2061082684370597e-15, 4.127139178157074e-15]\n",
      "              precision    recall  f1-score   support\n",
      "\n",
      "           0       1.00      0.40      0.57         5\n",
      "           1       0.00      0.00      0.00         5\n",
      "           2       0.36      0.80      0.50         5\n",
      "\n",
      "    accuracy                           0.40        15\n",
      "   macro avg       0.45      0.40      0.36        15\n",
      "weighted avg       0.45      0.40      0.36        15\n",
      "\n",
      "-------------------------------------------------------------------------------------------------------------------\n"
     ]
    },
    {
     "name": "stderr",
     "output_type": "stream",
     "text": [
      "[Parallel(n_jobs=-1)]: Done   3 out of   3 | elapsed:  1.0min finished\n",
      "[Parallel(n_jobs=-1)]: Using backend LokyBackend with 12 concurrent workers.\n"
     ]
    },
    {
     "name": "stdout",
     "output_type": "stream",
     "text": [
      "K-Fold #7\n",
      "Mean negativities for all classes: [0.35520178977268907, 0.332242195692059, 0.08692072227218126]\n",
      "Mean entropies for all classes: [3.174074084066307e-15, 3.6574027513723404e-15, 3.954218046887196e-15]\n",
      "              precision    recall  f1-score   support\n",
      "\n",
      "           0       1.00      0.20      0.33         5\n",
      "           1       0.00      0.00      0.00         5\n",
      "           2       0.33      0.60      0.43         5\n",
      "\n",
      "    accuracy                           0.27        15\n",
      "   macro avg       0.44      0.27      0.25        15\n",
      "weighted avg       0.44      0.27      0.25        15\n",
      "\n",
      "-------------------------------------------------------------------------------------------------------------------\n"
     ]
    },
    {
     "name": "stderr",
     "output_type": "stream",
     "text": [
      "[Parallel(n_jobs=-1)]: Done   3 out of   3 | elapsed:  1.0min finished\n",
      "[Parallel(n_jobs=-1)]: Using backend LokyBackend with 12 concurrent workers.\n"
     ]
    },
    {
     "name": "stdout",
     "output_type": "stream",
     "text": [
      "K-Fold #8\n",
      "Mean negativities for all classes: [0.37532408448464843, 0.3486621674719637, 0.3562826133982668]\n",
      "Mean entropies for all classes: [3.628213873891913e-15, 3.443042359559424e-15, 3.4535507347115307e-15]\n",
      "              precision    recall  f1-score   support\n",
      "\n",
      "           0       0.33      0.20      0.25         5\n",
      "           1       0.00      0.00      0.00         5\n",
      "           2       0.00      0.00      0.00         5\n",
      "\n",
      "    accuracy                           0.07        15\n",
      "   macro avg       0.11      0.07      0.08        15\n",
      "weighted avg       0.11      0.07      0.08        15\n",
      "\n",
      "-------------------------------------------------------------------------------------------------------------------\n"
     ]
    },
    {
     "name": "stderr",
     "output_type": "stream",
     "text": [
      "[Parallel(n_jobs=-1)]: Done   3 out of   3 | elapsed:  1.0min finished\n",
      "[Parallel(n_jobs=-1)]: Using backend LokyBackend with 12 concurrent workers.\n"
     ]
    },
    {
     "name": "stdout",
     "output_type": "stream",
     "text": [
      "K-Fold #9\n",
      "Mean negativities for all classes: [0.3518533221446335, 0.33424597876145, 0.0861299228361308]\n",
      "Mean entropies for all classes: [4.675721763342752e-15, 3.714710665671685e-15, 3.1675613106908184e-15]\n",
      "              precision    recall  f1-score   support\n",
      "\n",
      "           0       1.00      0.40      0.57         5\n",
      "           1       0.00      0.00      0.00         5\n",
      "           2       0.29      0.40      0.33         5\n",
      "\n",
      "    accuracy                           0.27        15\n",
      "   macro avg       0.43      0.27      0.30        15\n",
      "weighted avg       0.43      0.27      0.30        15\n",
      "\n",
      "-------------------------------------------------------------------------------------------------------------------\n",
      "AVG: Scores = 0.28 F1-Scores = 0.23273052655405602 Negativity = [0.2605132838129167, 0.2555419096765998, 0.26022306270799467] Entropy = [3.4752684249875396e-15, 3.767426940523118e-15, 3.4593558329290163e-15]\n"
     ]
    },
    {
     "name": "stderr",
     "output_type": "stream",
     "text": [
      "[Parallel(n_jobs=-1)]: Done   3 out of   3 | elapsed:  1.0min finished\n",
      "[Parallel(n_jobs=-1)]: Using backend LokyBackend with 12 concurrent workers.\n"
     ]
    },
    {
     "name": "stdout",
     "output_type": "stream",
     "text": [
      "K-Fold #0\n",
      "Mean negativities for all classes: [0.3686635191359376, 0.3235470039453132, 0.087667764886157]\n",
      "Mean entropies for all classes: [4.0024370023617274e-15, 3.3705295210154893e-15, 3.892481045848594e-15]\n",
      "              precision    recall  f1-score   support\n",
      "\n",
      "           0       1.00      0.20      0.33         5\n",
      "           1       0.00      0.00      0.00         5\n",
      "           2       0.36      0.80      0.50         5\n",
      "\n",
      "    accuracy                           0.33        15\n",
      "   macro avg       0.45      0.33      0.28        15\n",
      "weighted avg       0.45      0.33      0.28        15\n",
      "\n",
      "-------------------------------------------------------------------------------------------------------------------\n"
     ]
    },
    {
     "name": "stderr",
     "output_type": "stream",
     "text": [
      "[Parallel(n_jobs=-1)]: Done   3 out of   3 | elapsed:  1.0min finished\n",
      "[Parallel(n_jobs=-1)]: Using backend LokyBackend with 12 concurrent workers.\n"
     ]
    },
    {
     "name": "stdout",
     "output_type": "stream",
     "text": [
      "K-Fold #1\n",
      "Mean negativities for all classes: [0.34842767332029306, 0.3493975324344232, 0.35168015928939356]\n",
      "Mean entropies for all classes: [3.3997109293946735e-15, 3.115292811776363e-15, 3.2270006235891685e-15]\n",
      "              precision    recall  f1-score   support\n",
      "\n",
      "           0       0.50      0.20      0.29         5\n",
      "           1       0.00      0.00      0.00         5\n",
      "           2       0.00      0.00      0.00         5\n",
      "\n",
      "    accuracy                           0.07        15\n",
      "   macro avg       0.17      0.07      0.10        15\n",
      "weighted avg       0.17      0.07      0.10        15\n",
      "\n",
      "-------------------------------------------------------------------------------------------------------------------\n"
     ]
    },
    {
     "name": "stderr",
     "output_type": "stream",
     "text": [
      "[Parallel(n_jobs=-1)]: Done   3 out of   3 | elapsed:  1.0min finished\n",
      "[Parallel(n_jobs=-1)]: Using backend LokyBackend with 12 concurrent workers.\n"
     ]
    },
    {
     "name": "stdout",
     "output_type": "stream",
     "text": [
      "K-Fold #2\n",
      "Mean negativities for all classes: [0.3665635755663911, 0.3281853900888901, 0.08769567475567862]\n",
      "Mean entropies for all classes: [3.4115140066905583e-15, 3.294100956017207e-15, 3.9208488959998615e-15]\n",
      "              precision    recall  f1-score   support\n",
      "\n",
      "           0       1.00      0.40      0.57         5\n",
      "           1       0.00      0.00      0.00         5\n",
      "           2       0.30      0.60      0.40         5\n",
      "\n",
      "    accuracy                           0.33        15\n",
      "   macro avg       0.43      0.33      0.32        15\n",
      "weighted avg       0.43      0.33      0.32        15\n",
      "\n",
      "-------------------------------------------------------------------------------------------------------------------\n"
     ]
    },
    {
     "name": "stderr",
     "output_type": "stream",
     "text": [
      "[Parallel(n_jobs=-1)]: Done   3 out of   3 | elapsed:  1.0min finished\n",
      "[Parallel(n_jobs=-1)]: Using backend LokyBackend with 12 concurrent workers.\n"
     ]
    },
    {
     "name": "stdout",
     "output_type": "stream",
     "text": [
      "K-Fold #3\n",
      "Mean negativities for all classes: [0.36268221465872313, 0.3601594632651887, 0.08729156614690667]\n",
      "Mean entropies for all classes: [3.5210825448611462e-15, 3.810511938074138e-15, 3.0486059689136553e-15]\n",
      "              precision    recall  f1-score   support\n",
      "\n",
      "           0       0.50      0.20      0.29         5\n",
      "           1       0.00      0.00      0.00         5\n",
      "           2       0.40      0.80      0.53         5\n",
      "\n",
      "    accuracy                           0.33        15\n",
      "   macro avg       0.30      0.33      0.27        15\n",
      "weighted avg       0.30      0.33      0.27        15\n",
      "\n",
      "-------------------------------------------------------------------------------------------------------------------\n"
     ]
    },
    {
     "name": "stderr",
     "output_type": "stream",
     "text": [
      "[Parallel(n_jobs=-1)]: Done   3 out of   3 | elapsed:  1.0min finished\n",
      "[Parallel(n_jobs=-1)]: Using backend LokyBackend with 12 concurrent workers.\n"
     ]
    },
    {
     "name": "stdout",
     "output_type": "stream",
     "text": [
      "K-Fold #4\n",
      "Mean negativities for all classes: [0.3721948630180692, 0.3550156199001776, 0.08675281471487935]\n",
      "Mean entropies for all classes: [3.390131527560334e-15, 3.542039058750282e-15, 3.334653952912929e-15]\n",
      "              precision    recall  f1-score   support\n",
      "\n",
      "           0       0.00      0.00      0.00         5\n",
      "           1       0.00      0.00      0.00         5\n",
      "           2       0.30      0.60      0.40         5\n",
      "\n",
      "    accuracy                           0.20        15\n",
      "   macro avg       0.10      0.20      0.13        15\n",
      "weighted avg       0.10      0.20      0.13        15\n",
      "\n",
      "-------------------------------------------------------------------------------------------------------------------\n"
     ]
    },
    {
     "name": "stderr",
     "output_type": "stream",
     "text": [
      "[Parallel(n_jobs=-1)]: Done   3 out of   3 | elapsed:  1.0min finished\n",
      "[Parallel(n_jobs=-1)]: Using backend LokyBackend with 12 concurrent workers.\n"
     ]
    },
    {
     "name": "stdout",
     "output_type": "stream",
     "text": [
      "K-Fold #5\n",
      "Mean negativities for all classes: [0.35473160897485856, 0.3609072163289698, 0.08614613784723026]\n",
      "Mean entropies for all classes: [3.6023042625926965e-15, 3.5197585419950344e-15, 3.3039754752293784e-15]\n",
      "              precision    recall  f1-score   support\n",
      "\n",
      "           0       1.00      0.20      0.33         5\n",
      "           1       0.00      0.00      0.00         5\n",
      "           2       0.38      1.00      0.56         5\n",
      "\n",
      "    accuracy                           0.40        15\n",
      "   macro avg       0.46      0.40      0.30        15\n",
      "weighted avg       0.46      0.40      0.30        15\n",
      "\n",
      "-------------------------------------------------------------------------------------------------------------------\n"
     ]
    },
    {
     "name": "stderr",
     "output_type": "stream",
     "text": [
      "[Parallel(n_jobs=-1)]: Done   3 out of   3 | elapsed:  1.0min finished\n",
      "[Parallel(n_jobs=-1)]: Using backend LokyBackend with 12 concurrent workers.\n"
     ]
    },
    {
     "name": "stdout",
     "output_type": "stream",
     "text": [
      "K-Fold #6\n",
      "Mean negativities for all classes: [0.35621352060414846, 0.3526202356032239, 0.08669639563991995]\n",
      "Mean entropies for all classes: [3.433826509475159e-15, 3.3230139348357777e-15, 3.834475983041348e-15]\n",
      "              precision    recall  f1-score   support\n",
      "\n",
      "           0       1.00      0.40      0.57         5\n",
      "           1       0.00      0.00      0.00         5\n",
      "           2       0.42      1.00      0.59         5\n",
      "\n",
      "    accuracy                           0.47        15\n",
      "   macro avg       0.47      0.47      0.39        15\n",
      "weighted avg       0.47      0.47      0.39        15\n",
      "\n",
      "-------------------------------------------------------------------------------------------------------------------\n"
     ]
    },
    {
     "name": "stderr",
     "output_type": "stream",
     "text": [
      "[Parallel(n_jobs=-1)]: Done   3 out of   3 | elapsed:  1.0min finished\n",
      "c:\\ProgramData\\Anaconda3\\lib\\site-packages\\sklearn\\metrics\\_classification.py:1344: UndefinedMetricWarning: Precision and F-score are ill-defined and being set to 0.0 in labels with no predicted samples. Use `zero_division` parameter to control this behavior.\n",
      "  _warn_prf(average, modifier, msg_start, len(result))\n",
      "c:\\ProgramData\\Anaconda3\\lib\\site-packages\\sklearn\\metrics\\_classification.py:1344: UndefinedMetricWarning: Precision and F-score are ill-defined and being set to 0.0 in labels with no predicted samples. Use `zero_division` parameter to control this behavior.\n",
      "  _warn_prf(average, modifier, msg_start, len(result))\n",
      "c:\\ProgramData\\Anaconda3\\lib\\site-packages\\sklearn\\metrics\\_classification.py:1344: UndefinedMetricWarning: Precision and F-score are ill-defined and being set to 0.0 in labels with no predicted samples. Use `zero_division` parameter to control this behavior.\n",
      "  _warn_prf(average, modifier, msg_start, len(result))\n",
      "[Parallel(n_jobs=-1)]: Using backend LokyBackend with 12 concurrent workers.\n"
     ]
    },
    {
     "name": "stdout",
     "output_type": "stream",
     "text": [
      "K-Fold #7\n",
      "Mean negativities for all classes: [0.3605173343001863, 0.30660014218017684, 0.08687738776151581]\n",
      "Mean entropies for all classes: [3.4598198860563233e-15, 3.582291152082843e-15, 3.6754203361423566e-15]\n",
      "              precision    recall  f1-score   support\n",
      "\n",
      "           0       0.00      0.00      0.00         5\n",
      "           1       0.00      0.00      0.00         5\n",
      "           2       0.14      0.20      0.17         5\n",
      "\n",
      "    accuracy                           0.07        15\n",
      "   macro avg       0.05      0.07      0.06        15\n",
      "weighted avg       0.05      0.07      0.06        15\n",
      "\n",
      "-------------------------------------------------------------------------------------------------------------------\n"
     ]
    },
    {
     "name": "stderr",
     "output_type": "stream",
     "text": [
      "[Parallel(n_jobs=-1)]: Done   3 out of   3 | elapsed:  1.0min finished\n",
      "[Parallel(n_jobs=-1)]: Using backend LokyBackend with 12 concurrent workers.\n"
     ]
    },
    {
     "name": "stdout",
     "output_type": "stream",
     "text": [
      "K-Fold #8\n",
      "Mean negativities for all classes: [0.3701845490950539, 0.34012407698285746, 0.08773813474365243]\n",
      "Mean entropies for all classes: [3.31522557134107e-15, 3.898661986360257e-15, 4.338636300375643e-15]\n",
      "              precision    recall  f1-score   support\n",
      "\n",
      "           0       1.00      0.20      0.33         5\n",
      "           1       0.00      0.00      0.00         5\n",
      "           2       0.42      1.00      0.59         5\n",
      "\n",
      "    accuracy                           0.40        15\n",
      "   macro avg       0.47      0.40      0.31        15\n",
      "weighted avg       0.47      0.40      0.31        15\n",
      "\n",
      "-------------------------------------------------------------------------------------------------------------------\n"
     ]
    },
    {
     "name": "stderr",
     "output_type": "stream",
     "text": [
      "[Parallel(n_jobs=-1)]: Done   3 out of   3 | elapsed:  1.0min finished\n",
      "[Parallel(n_jobs=-1)]: Using backend LokyBackend with 12 concurrent workers.\n"
     ]
    },
    {
     "name": "stdout",
     "output_type": "stream",
     "text": [
      "K-Fold #9\n",
      "Mean negativities for all classes: [0.3549434243228886, 0.3393459263218298, 0.08717986988289729]\n",
      "Mean entropies for all classes: [3.2581048861846807e-15, 3.6107270547497464e-15, 3.4183005919689375e-15]\n",
      "              precision    recall  f1-score   support\n",
      "\n",
      "           0       0.00      0.00      0.00         5\n",
      "           1       0.00      0.00      0.00         5\n",
      "           2       0.33      0.60      0.43         5\n",
      "\n",
      "    accuracy                           0.20        15\n",
      "   macro avg       0.11      0.20      0.14        15\n",
      "weighted avg       0.11      0.20      0.14        15\n",
      "\n",
      "-------------------------------------------------------------------------------------------------------------------\n",
      "AVG: Scores = 0.28 F1-Scores = 0.22916277622159975 Negativity = [0.25995942932246924, 0.34983512168137, 0.2608148801369866] Entropy = [3.7551491897419364e-15, 3.2473347882534014e-15, 3.542154619569209e-15]\n"
     ]
    },
    {
     "name": "stderr",
     "output_type": "stream",
     "text": [
      "[Parallel(n_jobs=-1)]: Done   3 out of   3 | elapsed:  1.0min finished\n",
      "[Parallel(n_jobs=-1)]: Using backend LokyBackend with 12 concurrent workers.\n"
     ]
    },
    {
     "name": "stdout",
     "output_type": "stream",
     "text": [
      "K-Fold #0\n",
      "Mean negativities for all classes: [0.3488023861401189, 0.31928633118145094, 0.0869062171534191]\n",
      "Mean entropies for all classes: [3.585283125603865e-15, 3.567844743441687e-15, 3.6291802643615704e-15]\n",
      "              precision    recall  f1-score   support\n",
      "\n",
      "           0       0.00      0.00      0.00         5\n",
      "           1       0.00      0.00      0.00         5\n",
      "           2       0.29      0.40      0.33         5\n",
      "\n",
      "    accuracy                           0.13        15\n",
      "   macro avg       0.10      0.13      0.11        15\n",
      "weighted avg       0.10      0.13      0.11        15\n",
      "\n",
      "-------------------------------------------------------------------------------------------------------------------\n"
     ]
    },
    {
     "name": "stderr",
     "output_type": "stream",
     "text": [
      "[Parallel(n_jobs=-1)]: Done   3 out of   3 | elapsed:  1.0min finished\n",
      "c:\\ProgramData\\Anaconda3\\lib\\site-packages\\sklearn\\metrics\\_classification.py:1344: UndefinedMetricWarning: Precision and F-score are ill-defined and being set to 0.0 in labels with no predicted samples. Use `zero_division` parameter to control this behavior.\n",
      "  _warn_prf(average, modifier, msg_start, len(result))\n",
      "c:\\ProgramData\\Anaconda3\\lib\\site-packages\\sklearn\\metrics\\_classification.py:1344: UndefinedMetricWarning: Precision and F-score are ill-defined and being set to 0.0 in labels with no predicted samples. Use `zero_division` parameter to control this behavior.\n",
      "  _warn_prf(average, modifier, msg_start, len(result))\n",
      "c:\\ProgramData\\Anaconda3\\lib\\site-packages\\sklearn\\metrics\\_classification.py:1344: UndefinedMetricWarning: Precision and F-score are ill-defined and being set to 0.0 in labels with no predicted samples. Use `zero_division` parameter to control this behavior.\n",
      "  _warn_prf(average, modifier, msg_start, len(result))\n",
      "[Parallel(n_jobs=-1)]: Using backend LokyBackend with 12 concurrent workers.\n"
     ]
    },
    {
     "name": "stdout",
     "output_type": "stream",
     "text": [
      "K-Fold #1\n",
      "Mean negativities for all classes: [0.3636401668955399, 0.34309166354221265, 0.08702782199642506]\n",
      "Mean entropies for all classes: [4.49481376404253e-15, 4.37214949587231e-15, 4.336357066160356e-15]\n",
      "              precision    recall  f1-score   support\n",
      "\n",
      "           0       0.00      0.00      0.00         5\n",
      "           1       0.00      0.00      0.00         5\n",
      "           2       0.18      0.40      0.25         5\n",
      "\n",
      "    accuracy                           0.13        15\n",
      "   macro avg       0.06      0.13      0.08        15\n",
      "weighted avg       0.06      0.13      0.08        15\n",
      "\n",
      "-------------------------------------------------------------------------------------------------------------------\n"
     ]
    },
    {
     "name": "stderr",
     "output_type": "stream",
     "text": [
      "[Parallel(n_jobs=-1)]: Done   3 out of   3 | elapsed:  1.0min finished\n",
      "c:\\ProgramData\\Anaconda3\\lib\\site-packages\\sklearn\\metrics\\_classification.py:1344: UndefinedMetricWarning: Precision and F-score are ill-defined and being set to 0.0 in labels with no predicted samples. Use `zero_division` parameter to control this behavior.\n",
      "  _warn_prf(average, modifier, msg_start, len(result))\n",
      "c:\\ProgramData\\Anaconda3\\lib\\site-packages\\sklearn\\metrics\\_classification.py:1344: UndefinedMetricWarning: Precision and F-score are ill-defined and being set to 0.0 in labels with no predicted samples. Use `zero_division` parameter to control this behavior.\n",
      "  _warn_prf(average, modifier, msg_start, len(result))\n",
      "c:\\ProgramData\\Anaconda3\\lib\\site-packages\\sklearn\\metrics\\_classification.py:1344: UndefinedMetricWarning: Precision and F-score are ill-defined and being set to 0.0 in labels with no predicted samples. Use `zero_division` parameter to control this behavior.\n",
      "  _warn_prf(average, modifier, msg_start, len(result))\n",
      "[Parallel(n_jobs=-1)]: Using backend LokyBackend with 12 concurrent workers.\n"
     ]
    },
    {
     "name": "stdout",
     "output_type": "stream",
     "text": [
      "K-Fold #2\n",
      "Mean negativities for all classes: [0.3635756617680424, 0.3153588378569957, 0.08733886969279595]\n",
      "Mean entropies for all classes: [4.102427598867817e-15, 3.074638558343754e-15, 3.189665599695162e-15]\n",
      "              precision    recall  f1-score   support\n",
      "\n",
      "           0       0.00      0.00      0.00         5\n",
      "           1       0.00      0.00      0.00         5\n",
      "           2       0.22      0.40      0.29         5\n",
      "\n",
      "    accuracy                           0.13        15\n",
      "   macro avg       0.07      0.13      0.10        15\n",
      "weighted avg       0.07      0.13      0.10        15\n",
      "\n",
      "-------------------------------------------------------------------------------------------------------------------\n"
     ]
    },
    {
     "name": "stderr",
     "output_type": "stream",
     "text": [
      "[Parallel(n_jobs=-1)]: Done   3 out of   3 | elapsed:  1.0min finished\n",
      "[Parallel(n_jobs=-1)]: Using backend LokyBackend with 12 concurrent workers.\n"
     ]
    },
    {
     "name": "stdout",
     "output_type": "stream",
     "text": [
      "K-Fold #3\n",
      "Mean negativities for all classes: [0.36660549271835274, 0.3627672981948671, 0.08666256276900226]\n",
      "Mean entropies for all classes: [3.777881217880542e-15, 3.8857896350945336e-15, 2.827367762284273e-15]\n",
      "              precision    recall  f1-score   support\n",
      "\n",
      "           0       0.50      0.20      0.29         5\n",
      "           1       0.00      0.00      0.00         5\n",
      "           2       0.42      1.00      0.59         5\n",
      "\n",
      "    accuracy                           0.40        15\n",
      "   macro avg       0.31      0.40      0.29        15\n",
      "weighted avg       0.31      0.40      0.29        15\n",
      "\n",
      "-------------------------------------------------------------------------------------------------------------------\n"
     ]
    },
    {
     "name": "stderr",
     "output_type": "stream",
     "text": [
      "[Parallel(n_jobs=-1)]: Done   3 out of   3 | elapsed:  1.0min finished\n",
      "[Parallel(n_jobs=-1)]: Using backend LokyBackend with 12 concurrent workers.\n"
     ]
    },
    {
     "name": "stdout",
     "output_type": "stream",
     "text": [
      "K-Fold #4\n",
      "Mean negativities for all classes: [0.36193834003913855, 0.3499938209902361, 0.08654362887129746]\n",
      "Mean entropies for all classes: [3.654991004745463e-15, 4.05410479318588e-15, 3.558236344920005e-15]\n",
      "              precision    recall  f1-score   support\n",
      "\n",
      "           0       0.50      0.20      0.29         5\n",
      "           1       0.00      0.00      0.00         5\n",
      "           2       0.36      0.80      0.50         5\n",
      "\n",
      "    accuracy                           0.33        15\n",
      "   macro avg       0.29      0.33      0.26        15\n",
      "weighted avg       0.29      0.33      0.26        15\n",
      "\n",
      "-------------------------------------------------------------------------------------------------------------------\n"
     ]
    },
    {
     "name": "stderr",
     "output_type": "stream",
     "text": [
      "[Parallel(n_jobs=-1)]: Done   3 out of   3 | elapsed:  1.0min finished\n",
      "[Parallel(n_jobs=-1)]: Using backend LokyBackend with 12 concurrent workers.\n"
     ]
    },
    {
     "name": "stdout",
     "output_type": "stream",
     "text": [
      "K-Fold #5\n",
      "Mean negativities for all classes: [0.3640699146069198, 0.3016458040886196, 0.08722040008177222]\n",
      "Mean entropies for all classes: [3.577658029224776e-15, 4.140411292726071e-15, 3.2325877458879205e-15]\n",
      "              precision    recall  f1-score   support\n",
      "\n",
      "           0       1.00      0.40      0.57         5\n",
      "           1       0.00      0.00      0.00         5\n",
      "           2       0.14      0.20      0.17         5\n",
      "\n",
      "    accuracy                           0.20        15\n",
      "   macro avg       0.38      0.20      0.25        15\n",
      "weighted avg       0.38      0.20      0.25        15\n",
      "\n",
      "-------------------------------------------------------------------------------------------------------------------\n"
     ]
    },
    {
     "name": "stderr",
     "output_type": "stream",
     "text": [
      "[Parallel(n_jobs=-1)]: Done   3 out of   3 | elapsed:  1.0min finished\n",
      "[Parallel(n_jobs=-1)]: Using backend LokyBackend with 12 concurrent workers.\n"
     ]
    },
    {
     "name": "stdout",
     "output_type": "stream",
     "text": [
      "K-Fold #6\n",
      "Mean negativities for all classes: [0.3550924341387388, 0.3169375620414567, 0.08638446883417794]\n",
      "Mean entropies for all classes: [4.2916071152017915e-15, 3.491662570757825e-15, 3.579123059005874e-15]\n",
      "              precision    recall  f1-score   support\n",
      "\n",
      "           0       0.50      0.20      0.29         5\n",
      "           1       0.00      0.00      0.00         5\n",
      "           2       0.45      1.00      0.62         5\n",
      "\n",
      "    accuracy                           0.40        15\n",
      "   macro avg       0.32      0.40      0.30        15\n",
      "weighted avg       0.32      0.40      0.30        15\n",
      "\n",
      "-------------------------------------------------------------------------------------------------------------------\n"
     ]
    },
    {
     "name": "stderr",
     "output_type": "stream",
     "text": [
      "[Parallel(n_jobs=-1)]: Done   3 out of   3 | elapsed:  1.0min finished\n",
      "[Parallel(n_jobs=-1)]: Using backend LokyBackend with 12 concurrent workers.\n"
     ]
    },
    {
     "name": "stdout",
     "output_type": "stream",
     "text": [
      "K-Fold #7\n",
      "Mean negativities for all classes: [0.35089171225708876, 0.332447464531917, 0.08749413015582802]\n",
      "Mean entropies for all classes: [3.436326246824716e-15, 3.684965522169971e-15, 3.2920415971335475e-15]\n",
      "              precision    recall  f1-score   support\n",
      "\n",
      "           0       0.50      0.20      0.29         5\n",
      "           1       0.00      0.00      0.00         5\n",
      "           2       0.44      0.80      0.57         5\n",
      "\n",
      "    accuracy                           0.33        15\n",
      "   macro avg       0.31      0.33      0.29        15\n",
      "weighted avg       0.31      0.33      0.29        15\n",
      "\n",
      "-------------------------------------------------------------------------------------------------------------------\n"
     ]
    },
    {
     "name": "stderr",
     "output_type": "stream",
     "text": [
      "[Parallel(n_jobs=-1)]: Done   3 out of   3 | elapsed:  1.0min finished\n",
      "[Parallel(n_jobs=-1)]: Using backend LokyBackend with 12 concurrent workers.\n"
     ]
    },
    {
     "name": "stdout",
     "output_type": "stream",
     "text": [
      "K-Fold #8\n",
      "Mean negativities for all classes: [0.36776115612863375, 0.3401370233630476, 0.08753300750336039]\n",
      "Mean entropies for all classes: [4.030396499396061e-15, 4.3021589551453514e-15, 3.7609007621987974e-15]\n",
      "              precision    recall  f1-score   support\n",
      "\n",
      "           0       0.50      0.20      0.29         5\n",
      "           1       0.00      0.00      0.00         5\n",
      "           2       0.50      0.80      0.62         5\n",
      "\n",
      "    accuracy                           0.33        15\n",
      "   macro avg       0.33      0.33      0.30        15\n",
      "weighted avg       0.33      0.33      0.30        15\n",
      "\n",
      "-------------------------------------------------------------------------------------------------------------------\n"
     ]
    },
    {
     "name": "stderr",
     "output_type": "stream",
     "text": [
      "[Parallel(n_jobs=-1)]: Done   3 out of   3 | elapsed:  1.0min finished\n",
      "c:\\ProgramData\\Anaconda3\\lib\\site-packages\\sklearn\\metrics\\_classification.py:1344: UndefinedMetricWarning: Precision and F-score are ill-defined and being set to 0.0 in labels with no predicted samples. Use `zero_division` parameter to control this behavior.\n",
      "  _warn_prf(average, modifier, msg_start, len(result))\n",
      "c:\\ProgramData\\Anaconda3\\lib\\site-packages\\sklearn\\metrics\\_classification.py:1344: UndefinedMetricWarning: Precision and F-score are ill-defined and being set to 0.0 in labels with no predicted samples. Use `zero_division` parameter to control this behavior.\n",
      "  _warn_prf(average, modifier, msg_start, len(result))\n",
      "c:\\ProgramData\\Anaconda3\\lib\\site-packages\\sklearn\\metrics\\_classification.py:1344: UndefinedMetricWarning: Precision and F-score are ill-defined and being set to 0.0 in labels with no predicted samples. Use `zero_division` parameter to control this behavior.\n",
      "  _warn_prf(average, modifier, msg_start, len(result))\n",
      "[Parallel(n_jobs=-1)]: Using backend LokyBackend with 12 concurrent workers.\n"
     ]
    },
    {
     "name": "stdout",
     "output_type": "stream",
     "text": [
      "K-Fold #9\n",
      "Mean negativities for all classes: [0.3675261223474192, 0.36497026535605614, 0.08718561907483459]\n",
      "Mean entropies for all classes: [4.0069108981140246e-15, 3.719467985730315e-15, 3.211200462444627e-15]\n",
      "              precision    recall  f1-score   support\n",
      "\n",
      "           0       0.00      0.00      0.00         5\n",
      "           1       0.00      0.00      0.00         5\n",
      "           2       0.36      1.00      0.53         5\n",
      "\n",
      "    accuracy                           0.33        15\n",
      "   macro avg       0.12      0.33      0.18        15\n",
      "weighted avg       0.12      0.33      0.18        15\n",
      "\n",
      "-------------------------------------------------------------------------------------------------------------------\n",
      "AVG: Scores = 0.2733333333333333 F1-Scores = 0.21540261853729348 Negativity = [0.2516649781583296, 0.26458655081139254, 0.255424456439278] Entropy = [3.594102711135708e-15, 4.4011067753583985e-15, 3.4555772523022445e-15]\n"
     ]
    },
    {
     "name": "stderr",
     "output_type": "stream",
     "text": [
      "[Parallel(n_jobs=-1)]: Done   3 out of   3 | elapsed:  1.0min finished\n",
      "[Parallel(n_jobs=-1)]: Using backend LokyBackend with 12 concurrent workers.\n"
     ]
    },
    {
     "name": "stdout",
     "output_type": "stream",
     "text": [
      "K-Fold #0\n",
      "Mean negativities for all classes: [0.3583318927388366, 0.34077926854600815, 0.08697818947619686]\n",
      "Mean entropies for all classes: [3.28622182103614e-15, 4.008334853792986e-15, 3.1969269988770465e-15]\n",
      "              precision    recall  f1-score   support\n",
      "\n",
      "           0       1.00      0.60      0.75         5\n",
      "           1       0.00      0.00      0.00         5\n",
      "           2       0.44      0.80      0.57         5\n",
      "\n",
      "    accuracy                           0.47        15\n",
      "   macro avg       0.48      0.47      0.44        15\n",
      "weighted avg       0.48      0.47      0.44        15\n",
      "\n",
      "-------------------------------------------------------------------------------------------------------------------\n"
     ]
    },
    {
     "name": "stderr",
     "output_type": "stream",
     "text": [
      "[Parallel(n_jobs=-1)]: Done   3 out of   3 | elapsed:  1.0min finished\n",
      "[Parallel(n_jobs=-1)]: Using backend LokyBackend with 12 concurrent workers.\n"
     ]
    },
    {
     "name": "stdout",
     "output_type": "stream",
     "text": [
      "K-Fold #1\n",
      "Mean negativities for all classes: [0.34638360733062423, 0.3111775153569451, 0.08626490527292188]\n",
      "Mean entropies for all classes: [2.8980205024578535e-15, 3.1900553523806774e-15, 3.528614283406454e-15]\n",
      "              precision    recall  f1-score   support\n",
      "\n",
      "           0       1.00      0.40      0.57         5\n",
      "           1       0.00      0.00      0.00         5\n",
      "           2       0.33      0.60      0.43         5\n",
      "\n",
      "    accuracy                           0.33        15\n",
      "   macro avg       0.44      0.33      0.33        15\n",
      "weighted avg       0.44      0.33      0.33        15\n",
      "\n",
      "-------------------------------------------------------------------------------------------------------------------\n"
     ]
    },
    {
     "name": "stderr",
     "output_type": "stream",
     "text": [
      "[Parallel(n_jobs=-1)]: Done   3 out of   3 | elapsed:  1.0min finished\n",
      "[Parallel(n_jobs=-1)]: Using backend LokyBackend with 12 concurrent workers.\n"
     ]
    },
    {
     "name": "stdout",
     "output_type": "stream",
     "text": [
      "K-Fold #2\n",
      "Mean negativities for all classes: [0.361483723345939, 0.3292063754948041, 0.08720182945854595]\n",
      "Mean entropies for all classes: [2.9186658752122092e-15, 3.8873518612435146e-15, 3.5165311504277765e-15]\n",
      "              precision    recall  f1-score   support\n",
      "\n",
      "           0       0.00      0.00      0.00         5\n",
      "           1       0.00      0.00      0.00         5\n",
      "           2       0.33      0.60      0.43         5\n",
      "\n",
      "    accuracy                           0.20        15\n",
      "   macro avg       0.11      0.20      0.14        15\n",
      "weighted avg       0.11      0.20      0.14        15\n",
      "\n",
      "-------------------------------------------------------------------------------------------------------------------\n"
     ]
    },
    {
     "name": "stderr",
     "output_type": "stream",
     "text": [
      "[Parallel(n_jobs=-1)]: Done   3 out of   3 | elapsed:  1.0min finished\n",
      "[Parallel(n_jobs=-1)]: Using backend LokyBackend with 12 concurrent workers.\n"
     ]
    },
    {
     "name": "stdout",
     "output_type": "stream",
     "text": [
      "K-Fold #3\n",
      "Mean negativities for all classes: [0.34694064333962077, 0.3427844338805513, 0.0857223301071846]\n",
      "Mean entropies for all classes: [3.420927266426605e-15, 4.704986105255028e-15, 3.4624097779079186e-15]\n",
      "              precision    recall  f1-score   support\n",
      "\n",
      "           0       1.00      0.20      0.33         5\n",
      "           1       0.00      0.00      0.00         5\n",
      "           2       0.27      0.60      0.37         5\n",
      "\n",
      "    accuracy                           0.27        15\n",
      "   macro avg       0.42      0.27      0.24        15\n",
      "weighted avg       0.42      0.27      0.24        15\n",
      "\n",
      "-------------------------------------------------------------------------------------------------------------------\n"
     ]
    },
    {
     "name": "stderr",
     "output_type": "stream",
     "text": [
      "[Parallel(n_jobs=-1)]: Done   3 out of   3 | elapsed:  1.0min finished\n",
      "c:\\ProgramData\\Anaconda3\\lib\\site-packages\\sklearn\\metrics\\_classification.py:1344: UndefinedMetricWarning: Precision and F-score are ill-defined and being set to 0.0 in labels with no predicted samples. Use `zero_division` parameter to control this behavior.\n",
      "  _warn_prf(average, modifier, msg_start, len(result))\n",
      "c:\\ProgramData\\Anaconda3\\lib\\site-packages\\sklearn\\metrics\\_classification.py:1344: UndefinedMetricWarning: Precision and F-score are ill-defined and being set to 0.0 in labels with no predicted samples. Use `zero_division` parameter to control this behavior.\n",
      "  _warn_prf(average, modifier, msg_start, len(result))\n",
      "c:\\ProgramData\\Anaconda3\\lib\\site-packages\\sklearn\\metrics\\_classification.py:1344: UndefinedMetricWarning: Precision and F-score are ill-defined and being set to 0.0 in labels with no predicted samples. Use `zero_division` parameter to control this behavior.\n",
      "  _warn_prf(average, modifier, msg_start, len(result))\n",
      "[Parallel(n_jobs=-1)]: Using backend LokyBackend with 12 concurrent workers.\n"
     ]
    },
    {
     "name": "stdout",
     "output_type": "stream",
     "text": [
      "K-Fold #4\n",
      "Mean negativities for all classes: [0.3645759365561412, 0.33214720848869644, 0.08705547432086673]\n",
      "Mean entropies for all classes: [3.6380121831897825e-15, 3.951803336775593e-15, 3.518709603924204e-15]\n",
      "              precision    recall  f1-score   support\n",
      "\n",
      "           0       0.00      0.00      0.00         5\n",
      "           1       0.00      0.00      0.00         5\n",
      "           2       0.30      0.60      0.40         5\n",
      "\n",
      "    accuracy                           0.20        15\n",
      "   macro avg       0.10      0.20      0.13        15\n",
      "weighted avg       0.10      0.20      0.13        15\n",
      "\n",
      "-------------------------------------------------------------------------------------------------------------------\n"
     ]
    },
    {
     "name": "stderr",
     "output_type": "stream",
     "text": [
      "[Parallel(n_jobs=-1)]: Done   3 out of   3 | elapsed:  1.0min finished\n",
      "[Parallel(n_jobs=-1)]: Using backend LokyBackend with 12 concurrent workers.\n"
     ]
    },
    {
     "name": "stdout",
     "output_type": "stream",
     "text": [
      "K-Fold #5\n",
      "Mean negativities for all classes: [0.3670467428389688, 0.3488891673017766, 0.08702822354113747]\n",
      "Mean entropies for all classes: [3.901603551146683e-15, 3.2006447019383494e-15, 3.2888138858531112e-15]\n",
      "              precision    recall  f1-score   support\n",
      "\n",
      "           0       1.00      0.20      0.33         5\n",
      "           1       0.00      0.00      0.00         5\n",
      "           2       0.31      0.80      0.44         5\n",
      "\n",
      "    accuracy                           0.33        15\n",
      "   macro avg       0.44      0.33      0.26        15\n",
      "weighted avg       0.44      0.33      0.26        15\n",
      "\n",
      "-------------------------------------------------------------------------------------------------------------------\n"
     ]
    },
    {
     "name": "stderr",
     "output_type": "stream",
     "text": [
      "[Parallel(n_jobs=-1)]: Done   3 out of   3 | elapsed:  1.0min finished\n",
      "[Parallel(n_jobs=-1)]: Using backend LokyBackend with 12 concurrent workers.\n"
     ]
    },
    {
     "name": "stdout",
     "output_type": "stream",
     "text": [
      "K-Fold #6\n",
      "Mean negativities for all classes: [0.3647040802074908, 0.33577583453537563, 0.08741070106559169]\n",
      "Mean entropies for all classes: [3.5184564939141813e-15, 4.07102068498066e-15, 4.050909766149676e-15]\n",
      "              precision    recall  f1-score   support\n",
      "\n",
      "           0       1.00      0.20      0.33         5\n",
      "           1       0.00      0.00      0.00         5\n",
      "           2       0.30      0.60      0.40         5\n",
      "\n",
      "    accuracy                           0.27        15\n",
      "   macro avg       0.43      0.27      0.24        15\n",
      "weighted avg       0.43      0.27      0.24        15\n",
      "\n",
      "-------------------------------------------------------------------------------------------------------------------\n"
     ]
    },
    {
     "name": "stderr",
     "output_type": "stream",
     "text": [
      "[Parallel(n_jobs=-1)]: Done   3 out of   3 | elapsed:  1.0min finished\n",
      "c:\\ProgramData\\Anaconda3\\lib\\site-packages\\sklearn\\metrics\\_classification.py:1344: UndefinedMetricWarning: Precision and F-score are ill-defined and being set to 0.0 in labels with no predicted samples. Use `zero_division` parameter to control this behavior.\n",
      "  _warn_prf(average, modifier, msg_start, len(result))\n",
      "c:\\ProgramData\\Anaconda3\\lib\\site-packages\\sklearn\\metrics\\_classification.py:1344: UndefinedMetricWarning: Precision and F-score are ill-defined and being set to 0.0 in labels with no predicted samples. Use `zero_division` parameter to control this behavior.\n",
      "  _warn_prf(average, modifier, msg_start, len(result))\n",
      "c:\\ProgramData\\Anaconda3\\lib\\site-packages\\sklearn\\metrics\\_classification.py:1344: UndefinedMetricWarning: Precision and F-score are ill-defined and being set to 0.0 in labels with no predicted samples. Use `zero_division` parameter to control this behavior.\n",
      "  _warn_prf(average, modifier, msg_start, len(result))\n",
      "[Parallel(n_jobs=-1)]: Using backend LokyBackend with 12 concurrent workers.\n"
     ]
    },
    {
     "name": "stdout",
     "output_type": "stream",
     "text": [
      "K-Fold #7\n",
      "Mean negativities for all classes: [0.3614612220334805, 0.3223525619150668, 0.0871705001822645]\n",
      "Mean entropies for all classes: [3.494899415136049e-15, 3.93762185746718e-15, 3.4949245011395825e-15]\n",
      "              precision    recall  f1-score   support\n",
      "\n",
      "           0       0.00      0.00      0.00         5\n",
      "           1       0.00      0.00      0.00         5\n",
      "           2       0.30      0.60      0.40         5\n",
      "\n",
      "    accuracy                           0.20        15\n",
      "   macro avg       0.10      0.20      0.13        15\n",
      "weighted avg       0.10      0.20      0.13        15\n",
      "\n",
      "-------------------------------------------------------------------------------------------------------------------\n"
     ]
    },
    {
     "name": "stderr",
     "output_type": "stream",
     "text": [
      "[Parallel(n_jobs=-1)]: Done   3 out of   3 | elapsed:  1.0min finished\n",
      "[Parallel(n_jobs=-1)]: Using backend LokyBackend with 12 concurrent workers.\n"
     ]
    },
    {
     "name": "stdout",
     "output_type": "stream",
     "text": [
      "K-Fold #8\n",
      "Mean negativities for all classes: [0.37498371770068456, 0.31158182625097663, 0.08783979228248677]\n",
      "Mean entropies for all classes: [3.215086817142198e-15, 3.762248468857857e-15, 4.019514151369902e-15]\n",
      "              precision    recall  f1-score   support\n",
      "\n",
      "           0       0.00      0.00      0.00         5\n",
      "           1       0.00      0.00      0.00         5\n",
      "           2       0.29      0.40      0.33         5\n",
      "\n",
      "    accuracy                           0.13        15\n",
      "   macro avg       0.10      0.13      0.11        15\n",
      "weighted avg       0.10      0.13      0.11        15\n",
      "\n",
      "-------------------------------------------------------------------------------------------------------------------\n"
     ]
    },
    {
     "name": "stderr",
     "output_type": "stream",
     "text": [
      "[Parallel(n_jobs=-1)]: Done   3 out of   3 | elapsed:  1.0min finished\n",
      "[Parallel(n_jobs=-1)]: Using backend LokyBackend with 12 concurrent workers.\n"
     ]
    },
    {
     "name": "stdout",
     "output_type": "stream",
     "text": [
      "K-Fold #9\n",
      "Mean negativities for all classes: [0.36689940724402725, 0.32505658315684854, 0.08737685166637635]\n",
      "Mean entropies for all classes: [4.244798564063481e-15, 3.594671487010696e-15, 3.6752893382958056e-15]\n",
      "              precision    recall  f1-score   support\n",
      "\n",
      "           0       1.00      0.40      0.57         5\n",
      "           1       0.00      0.00      0.00         5\n",
      "           2       0.12      0.20      0.15         5\n",
      "\n",
      "    accuracy                           0.20        15\n",
      "   macro avg       0.38      0.20      0.24        15\n",
      "weighted avg       0.38      0.20      0.24        15\n",
      "\n",
      "-------------------------------------------------------------------------------------------------------------------\n",
      "AVG: Scores = 0.26 F1-Scores = 0.22760175010175007 Negativity = [0.26202978358701384, 0.24794200932016372, 0.2592973094330963] Entropy = [3.4971612245687246e-15, 3.2055633794149947e-15, 3.440849628961167e-15]\n"
     ]
    },
    {
     "name": "stderr",
     "output_type": "stream",
     "text": [
      "[Parallel(n_jobs=-1)]: Done   3 out of   3 | elapsed:  1.0min finished\n",
      "[Parallel(n_jobs=-1)]: Using backend LokyBackend with 12 concurrent workers.\n"
     ]
    },
    {
     "name": "stdout",
     "output_type": "stream",
     "text": [
      "K-Fold #0\n",
      "Mean negativities for all classes: [0.3664132549116116, 0.29655135877154454, 0.0875002204474809]\n",
      "Mean entropies for all classes: [4.783063062154702e-15, 3.381582931330478e-15, 3.988423316164085e-15]\n",
      "              precision    recall  f1-score   support\n",
      "\n",
      "           0       0.00      0.00      0.00         5\n",
      "           1       0.00      0.00      0.00         5\n",
      "           2       0.38      0.60      0.46         5\n",
      "\n",
      "    accuracy                           0.20        15\n",
      "   macro avg       0.12      0.20      0.15        15\n",
      "weighted avg       0.12      0.20      0.15        15\n",
      "\n",
      "-------------------------------------------------------------------------------------------------------------------\n"
     ]
    },
    {
     "name": "stderr",
     "output_type": "stream",
     "text": [
      "[Parallel(n_jobs=-1)]: Done   3 out of   3 | elapsed:  1.0min finished\n",
      "[Parallel(n_jobs=-1)]: Using backend LokyBackend with 12 concurrent workers.\n"
     ]
    },
    {
     "name": "stdout",
     "output_type": "stream",
     "text": [
      "K-Fold #1\n",
      "Mean negativities for all classes: [0.3568355529392344, 0.3296566430682363, 0.08688895285763852]\n",
      "Mean entropies for all classes: [3.2657601764809286e-15, 3.7891796503590964e-15, 3.715720759751804e-15]\n",
      "              precision    recall  f1-score   support\n",
      "\n",
      "           0       0.00      0.00      0.00         5\n",
      "           1       0.00      0.00      0.00         5\n",
      "           2       0.14      0.20      0.17         5\n",
      "\n",
      "    accuracy                           0.07        15\n",
      "   macro avg       0.05      0.07      0.06        15\n",
      "weighted avg       0.05      0.07      0.06        15\n",
      "\n",
      "-------------------------------------------------------------------------------------------------------------------\n"
     ]
    },
    {
     "name": "stderr",
     "output_type": "stream",
     "text": [
      "[Parallel(n_jobs=-1)]: Done   3 out of   3 | elapsed:  1.0min finished\n",
      "[Parallel(n_jobs=-1)]: Using backend LokyBackend with 12 concurrent workers.\n"
     ]
    },
    {
     "name": "stdout",
     "output_type": "stream",
     "text": [
      "K-Fold #2\n",
      "Mean negativities for all classes: [0.3613318575966088, 0.3515587518622247, 0.08712274961576559]\n",
      "Mean entropies for all classes: [4.182418814576019e-15, 3.3181818606998623e-15, 3.658949767512491e-15]\n",
      "              precision    recall  f1-score   support\n",
      "\n",
      "           0       0.00      0.00      0.00         5\n",
      "           1       0.00      0.00      0.00         5\n",
      "           2       0.38      1.00      0.56         5\n",
      "\n",
      "    accuracy                           0.33        15\n",
      "   macro avg       0.13      0.33      0.19        15\n",
      "weighted avg       0.13      0.33      0.19        15\n",
      "\n",
      "-------------------------------------------------------------------------------------------------------------------\n"
     ]
    },
    {
     "name": "stderr",
     "output_type": "stream",
     "text": [
      "[Parallel(n_jobs=-1)]: Done   3 out of   3 | elapsed:  1.0min finished\n",
      "c:\\ProgramData\\Anaconda3\\lib\\site-packages\\sklearn\\metrics\\_classification.py:1344: UndefinedMetricWarning: Precision and F-score are ill-defined and being set to 0.0 in labels with no predicted samples. Use `zero_division` parameter to control this behavior.\n",
      "  _warn_prf(average, modifier, msg_start, len(result))\n",
      "c:\\ProgramData\\Anaconda3\\lib\\site-packages\\sklearn\\metrics\\_classification.py:1344: UndefinedMetricWarning: Precision and F-score are ill-defined and being set to 0.0 in labels with no predicted samples. Use `zero_division` parameter to control this behavior.\n",
      "  _warn_prf(average, modifier, msg_start, len(result))\n",
      "c:\\ProgramData\\Anaconda3\\lib\\site-packages\\sklearn\\metrics\\_classification.py:1344: UndefinedMetricWarning: Precision and F-score are ill-defined and being set to 0.0 in labels with no predicted samples. Use `zero_division` parameter to control this behavior.\n",
      "  _warn_prf(average, modifier, msg_start, len(result))\n",
      "[Parallel(n_jobs=-1)]: Using backend LokyBackend with 12 concurrent workers.\n"
     ]
    },
    {
     "name": "stdout",
     "output_type": "stream",
     "text": [
      "K-Fold #3\n",
      "Mean negativities for all classes: [0.3524909735814138, 0.34432186146328997, 0.08663708308547804]\n",
      "Mean entropies for all classes: [3.031348120834295e-15, 4.405400577356853e-15, 3.1311948937681915e-15]\n",
      "              precision    recall  f1-score   support\n",
      "\n",
      "           0       0.00      0.00      0.00         5\n",
      "           1       0.00      0.00      0.00         5\n",
      "           2       0.27      0.60      0.37         5\n",
      "\n",
      "    accuracy                           0.20        15\n",
      "   macro avg       0.09      0.20      0.12        15\n",
      "weighted avg       0.09      0.20      0.12        15\n",
      "\n",
      "-------------------------------------------------------------------------------------------------------------------\n"
     ]
    },
    {
     "name": "stderr",
     "output_type": "stream",
     "text": [
      "[Parallel(n_jobs=-1)]: Done   3 out of   3 | elapsed:  1.0min finished\n",
      "[Parallel(n_jobs=-1)]: Using backend LokyBackend with 12 concurrent workers.\n"
     ]
    },
    {
     "name": "stdout",
     "output_type": "stream",
     "text": [
      "K-Fold #4\n",
      "Mean negativities for all classes: [0.356670871250613, 0.3636202469902116, 0.08619099596640131]\n",
      "Mean entropies for all classes: [3.408716313117434e-15, 4.108068236961817e-15, 3.704267346062873e-15]\n",
      "              precision    recall  f1-score   support\n",
      "\n",
      "           0       1.00      0.20      0.33         5\n",
      "           1       0.00      0.00      0.00         5\n",
      "           2       0.38      1.00      0.56         5\n",
      "\n",
      "    accuracy                           0.40        15\n",
      "   macro avg       0.46      0.40      0.30        15\n",
      "weighted avg       0.46      0.40      0.30        15\n",
      "\n",
      "-------------------------------------------------------------------------------------------------------------------\n"
     ]
    },
    {
     "name": "stderr",
     "output_type": "stream",
     "text": [
      "[Parallel(n_jobs=-1)]: Done   3 out of   3 | elapsed:  1.0min finished\n",
      "c:\\ProgramData\\Anaconda3\\lib\\site-packages\\sklearn\\metrics\\_classification.py:1344: UndefinedMetricWarning: Precision and F-score are ill-defined and being set to 0.0 in labels with no predicted samples. Use `zero_division` parameter to control this behavior.\n",
      "  _warn_prf(average, modifier, msg_start, len(result))\n",
      "c:\\ProgramData\\Anaconda3\\lib\\site-packages\\sklearn\\metrics\\_classification.py:1344: UndefinedMetricWarning: Precision and F-score are ill-defined and being set to 0.0 in labels with no predicted samples. Use `zero_division` parameter to control this behavior.\n",
      "  _warn_prf(average, modifier, msg_start, len(result))\n",
      "c:\\ProgramData\\Anaconda3\\lib\\site-packages\\sklearn\\metrics\\_classification.py:1344: UndefinedMetricWarning: Precision and F-score are ill-defined and being set to 0.0 in labels with no predicted samples. Use `zero_division` parameter to control this behavior.\n",
      "  _warn_prf(average, modifier, msg_start, len(result))\n",
      "[Parallel(n_jobs=-1)]: Using backend LokyBackend with 12 concurrent workers.\n"
     ]
    },
    {
     "name": "stdout",
     "output_type": "stream",
     "text": [
      "K-Fold #5\n",
      "Mean negativities for all classes: [0.37462603281104495, 0.32234608385966573, 0.08702544154242195]\n",
      "Mean entropies for all classes: [2.9986018568984584e-15, 3.957922250038029e-15, 3.652528707665898e-15]\n",
      "              precision    recall  f1-score   support\n",
      "\n",
      "           0       0.00      0.00      0.00         5\n",
      "           1       0.00      0.00      0.00         5\n",
      "           2       0.20      0.40      0.27         5\n",
      "\n",
      "    accuracy                           0.13        15\n",
      "   macro avg       0.07      0.13      0.09        15\n",
      "weighted avg       0.07      0.13      0.09        15\n",
      "\n",
      "-------------------------------------------------------------------------------------------------------------------\n"
     ]
    },
    {
     "name": "stderr",
     "output_type": "stream",
     "text": [
      "[Parallel(n_jobs=-1)]: Done   3 out of   3 | elapsed:  1.0min finished\n",
      "[Parallel(n_jobs=-1)]: Using backend LokyBackend with 12 concurrent workers.\n"
     ]
    },
    {
     "name": "stdout",
     "output_type": "stream",
     "text": [
      "K-Fold #6\n",
      "Mean negativities for all classes: [0.35820468325232446, 0.32276025347940424, 0.08716996928807969]\n",
      "Mean entropies for all classes: [3.3398670374985865e-15, 3.350941004672975e-15, 3.550502545375912e-15]\n",
      "              precision    recall  f1-score   support\n",
      "\n",
      "           0       1.00      0.20      0.33         5\n",
      "           1       0.00      0.00      0.00         5\n",
      "           2       0.12      0.20      0.15         5\n",
      "\n",
      "    accuracy                           0.13        15\n",
      "   macro avg       0.38      0.13      0.16        15\n",
      "weighted avg       0.38      0.13      0.16        15\n",
      "\n",
      "-------------------------------------------------------------------------------------------------------------------\n"
     ]
    },
    {
     "name": "stderr",
     "output_type": "stream",
     "text": [
      "[Parallel(n_jobs=-1)]: Done   3 out of   3 | elapsed:  1.0min finished\n",
      "[Parallel(n_jobs=-1)]: Using backend LokyBackend with 12 concurrent workers.\n"
     ]
    },
    {
     "name": "stdout",
     "output_type": "stream",
     "text": [
      "K-Fold #7\n",
      "Mean negativities for all classes: [0.3614506479440995, 0.35270780169380617, 0.08724099310686666]\n",
      "Mean entropies for all classes: [3.8153724801232625e-15, 3.3310064112139736e-15, 3.281673528025981e-15]\n",
      "              precision    recall  f1-score   support\n",
      "\n",
      "           0       1.00      0.20      0.33         5\n",
      "           1       0.00      0.00      0.00         5\n",
      "           2       0.31      0.80      0.44         5\n",
      "\n",
      "    accuracy                           0.33        15\n",
      "   macro avg       0.44      0.33      0.26        15\n",
      "weighted avg       0.44      0.33      0.26        15\n",
      "\n",
      "-------------------------------------------------------------------------------------------------------------------\n"
     ]
    },
    {
     "name": "stderr",
     "output_type": "stream",
     "text": [
      "[Parallel(n_jobs=-1)]: Done   3 out of   3 | elapsed:  1.0min finished\n",
      "[Parallel(n_jobs=-1)]: Using backend LokyBackend with 12 concurrent workers.\n"
     ]
    },
    {
     "name": "stdout",
     "output_type": "stream",
     "text": [
      "K-Fold #8\n",
      "Mean negativities for all classes: [0.3671002483246254, 0.2996442957877073, 0.08755740705667349]\n",
      "Mean entropies for all classes: [3.4371866003432586e-15, 3.704906359886215e-15, 4.239039984460622e-15]\n",
      "              precision    recall  f1-score   support\n",
      "\n",
      "           0       1.00      0.20      0.33         5\n",
      "           1       0.00      0.00      0.00         5\n",
      "           2       0.20      0.40      0.27         5\n",
      "\n",
      "    accuracy                           0.20        15\n",
      "   macro avg       0.40      0.20      0.20        15\n",
      "weighted avg       0.40      0.20      0.20        15\n",
      "\n",
      "-------------------------------------------------------------------------------------------------------------------\n"
     ]
    },
    {
     "name": "stderr",
     "output_type": "stream",
     "text": [
      "[Parallel(n_jobs=-1)]: Done   3 out of   3 | elapsed:  1.0min finished\n",
      "[Parallel(n_jobs=-1)]: Using backend LokyBackend with 12 concurrent workers.\n"
     ]
    },
    {
     "name": "stdout",
     "output_type": "stream",
     "text": [
      "K-Fold #9\n",
      "Mean negativities for all classes: [0.3620009237283051, 0.3429354257714375, 0.08693406676875484]\n",
      "Mean entropies for all classes: [3.728331875216879e-15, 4.702778773107172e-15, 3.441627683006201e-15]\n",
      "              precision    recall  f1-score   support\n",
      "\n",
      "           0       1.00      0.20      0.33         5\n",
      "           1       0.00      0.00      0.00         5\n",
      "           2       0.44      0.80      0.57         5\n",
      "\n",
      "    accuracy                           0.33        15\n",
      "   macro avg       0.48      0.33      0.30        15\n",
      "weighted avg       0.48      0.33      0.30        15\n",
      "\n",
      "-------------------------------------------------------------------------------------------------------------------\n",
      "AVG: Scores = 0.23333333333333334 F1-Scores = 0.18280118030118028 Negativity = [0.2501549447102123, 0.2577937162883697, 0.266671119691533] Entropy = [4.051023103216421e-15, 3.590220195530609e-15, 3.7198501475961245e-15]\n"
     ]
    },
    {
     "name": "stderr",
     "output_type": "stream",
     "text": [
      "[Parallel(n_jobs=-1)]: Done   3 out of   3 | elapsed:  1.0min finished\n",
      "[Parallel(n_jobs=-1)]: Using backend LokyBackend with 12 concurrent workers.\n"
     ]
    },
    {
     "name": "stdout",
     "output_type": "stream",
     "text": [
      "K-Fold #0\n",
      "Mean negativities for all classes: [0.35691867790731036, 0.31185327952920044, 0.08716825558929935]\n",
      "Mean entropies for all classes: [4.531245372451921e-15, 3.2248216612402845e-15, 3.4050023812490814e-15]\n",
      "              precision    recall  f1-score   support\n",
      "\n",
      "           0       0.50      0.40      0.44         5\n",
      "           1       0.00      0.00      0.00         5\n",
      "           2       0.44      0.80      0.57         5\n",
      "\n",
      "    accuracy                           0.40        15\n",
      "   macro avg       0.31      0.40      0.34        15\n",
      "weighted avg       0.31      0.40      0.34        15\n",
      "\n",
      "-------------------------------------------------------------------------------------------------------------------\n"
     ]
    },
    {
     "name": "stderr",
     "output_type": "stream",
     "text": [
      "[Parallel(n_jobs=-1)]: Done   3 out of   3 | elapsed:  1.0min finished\n",
      "c:\\ProgramData\\Anaconda3\\lib\\site-packages\\sklearn\\metrics\\_classification.py:1344: UndefinedMetricWarning: Precision and F-score are ill-defined and being set to 0.0 in labels with no predicted samples. Use `zero_division` parameter to control this behavior.\n",
      "  _warn_prf(average, modifier, msg_start, len(result))\n",
      "c:\\ProgramData\\Anaconda3\\lib\\site-packages\\sklearn\\metrics\\_classification.py:1344: UndefinedMetricWarning: Precision and F-score are ill-defined and being set to 0.0 in labels with no predicted samples. Use `zero_division` parameter to control this behavior.\n",
      "  _warn_prf(average, modifier, msg_start, len(result))\n",
      "c:\\ProgramData\\Anaconda3\\lib\\site-packages\\sklearn\\metrics\\_classification.py:1344: UndefinedMetricWarning: Precision and F-score are ill-defined and being set to 0.0 in labels with no predicted samples. Use `zero_division` parameter to control this behavior.\n",
      "  _warn_prf(average, modifier, msg_start, len(result))\n",
      "[Parallel(n_jobs=-1)]: Using backend LokyBackend with 12 concurrent workers.\n"
     ]
    },
    {
     "name": "stdout",
     "output_type": "stream",
     "text": [
      "K-Fold #1\n",
      "Mean negativities for all classes: [0.3600470666447764, 0.3437822666483738, 0.08636091050127241]\n",
      "Mean entropies for all classes: [4.332179718460894e-15, 4.2397984183111106e-15, 3.57605846837471e-15]\n",
      "              precision    recall  f1-score   support\n",
      "\n",
      "           0       0.00      0.00      0.00         5\n",
      "           1       0.00      0.00      0.00         5\n",
      "           2       0.30      0.60      0.40         5\n",
      "\n",
      "    accuracy                           0.20        15\n",
      "   macro avg       0.10      0.20      0.13        15\n",
      "weighted avg       0.10      0.20      0.13        15\n",
      "\n",
      "-------------------------------------------------------------------------------------------------------------------\n"
     ]
    },
    {
     "name": "stderr",
     "output_type": "stream",
     "text": [
      "[Parallel(n_jobs=-1)]: Done   3 out of   3 | elapsed:  1.0min finished\n",
      "[Parallel(n_jobs=-1)]: Using backend LokyBackend with 12 concurrent workers.\n"
     ]
    },
    {
     "name": "stdout",
     "output_type": "stream",
     "text": [
      "K-Fold #2\n",
      "Mean negativities for all classes: [0.35776510719719384, 0.34565268824344453, 0.08633160123683119]\n",
      "Mean entropies for all classes: [4.250590780943541e-15, 4.3767258138401524e-15, 3.679299184812852e-15]\n",
      "              precision    recall  f1-score   support\n",
      "\n",
      "           0       1.00      0.20      0.33         5\n",
      "           1       0.00      0.00      0.00         5\n",
      "           2       0.22      0.40      0.29         5\n",
      "\n",
      "    accuracy                           0.20        15\n",
      "   macro avg       0.41      0.20      0.21        15\n",
      "weighted avg       0.41      0.20      0.21        15\n",
      "\n",
      "-------------------------------------------------------------------------------------------------------------------\n"
     ]
    },
    {
     "name": "stderr",
     "output_type": "stream",
     "text": [
      "[Parallel(n_jobs=-1)]: Done   3 out of   3 | elapsed:  1.0min finished\n",
      "c:\\ProgramData\\Anaconda3\\lib\\site-packages\\sklearn\\metrics\\_classification.py:1344: UndefinedMetricWarning: Precision and F-score are ill-defined and being set to 0.0 in labels with no predicted samples. Use `zero_division` parameter to control this behavior.\n",
      "  _warn_prf(average, modifier, msg_start, len(result))\n",
      "c:\\ProgramData\\Anaconda3\\lib\\site-packages\\sklearn\\metrics\\_classification.py:1344: UndefinedMetricWarning: Precision and F-score are ill-defined and being set to 0.0 in labels with no predicted samples. Use `zero_division` parameter to control this behavior.\n",
      "  _warn_prf(average, modifier, msg_start, len(result))\n",
      "c:\\ProgramData\\Anaconda3\\lib\\site-packages\\sklearn\\metrics\\_classification.py:1344: UndefinedMetricWarning: Precision and F-score are ill-defined and being set to 0.0 in labels with no predicted samples. Use `zero_division` parameter to control this behavior.\n",
      "  _warn_prf(average, modifier, msg_start, len(result))\n",
      "[Parallel(n_jobs=-1)]: Using backend LokyBackend with 12 concurrent workers.\n"
     ]
    },
    {
     "name": "stdout",
     "output_type": "stream",
     "text": [
      "K-Fold #3\n",
      "Mean negativities for all classes: [0.36409742496419256, 0.3085141082273784, 0.08764534579791823]\n",
      "Mean entropies for all classes: [3.889955220743124e-15, 4.879645146835666e-15, 3.2583379040634087e-15]\n",
      "              precision    recall  f1-score   support\n",
      "\n",
      "           0       0.00      0.00      0.00         5\n",
      "           1       0.00      0.00      0.00         5\n",
      "           2       0.20      0.40      0.27         5\n",
      "\n",
      "    accuracy                           0.13        15\n",
      "   macro avg       0.07      0.13      0.09        15\n",
      "weighted avg       0.07      0.13      0.09        15\n",
      "\n",
      "-------------------------------------------------------------------------------------------------------------------\n"
     ]
    },
    {
     "name": "stderr",
     "output_type": "stream",
     "text": [
      "[Parallel(n_jobs=-1)]: Done   3 out of   3 | elapsed:  1.0min finished\n",
      "c:\\ProgramData\\Anaconda3\\lib\\site-packages\\sklearn\\metrics\\_classification.py:1344: UndefinedMetricWarning: Precision and F-score are ill-defined and being set to 0.0 in labels with no predicted samples. Use `zero_division` parameter to control this behavior.\n",
      "  _warn_prf(average, modifier, msg_start, len(result))\n",
      "c:\\ProgramData\\Anaconda3\\lib\\site-packages\\sklearn\\metrics\\_classification.py:1344: UndefinedMetricWarning: Precision and F-score are ill-defined and being set to 0.0 in labels with no predicted samples. Use `zero_division` parameter to control this behavior.\n",
      "  _warn_prf(average, modifier, msg_start, len(result))\n",
      "c:\\ProgramData\\Anaconda3\\lib\\site-packages\\sklearn\\metrics\\_classification.py:1344: UndefinedMetricWarning: Precision and F-score are ill-defined and being set to 0.0 in labels with no predicted samples. Use `zero_division` parameter to control this behavior.\n",
      "  _warn_prf(average, modifier, msg_start, len(result))\n",
      "[Parallel(n_jobs=-1)]: Using backend LokyBackend with 12 concurrent workers.\n"
     ]
    },
    {
     "name": "stdout",
     "output_type": "stream",
     "text": [
      "K-Fold #4\n",
      "Mean negativities for all classes: [0.3588412053010181, 0.32347463850202646, 0.08664167090852244]\n",
      "Mean entropies for all classes: [3.0552572160043962e-15, 3.1445241937682273e-15, 2.754689086188683e-15]\n",
      "              precision    recall  f1-score   support\n",
      "\n",
      "           0       0.00      0.00      0.00         5\n",
      "           1       0.00      0.00      0.00         5\n",
      "           2       0.11      0.20      0.14         5\n",
      "\n",
      "    accuracy                           0.07        15\n",
      "   macro avg       0.04      0.07      0.05        15\n",
      "weighted avg       0.04      0.07      0.05        15\n",
      "\n",
      "-------------------------------------------------------------------------------------------------------------------\n"
     ]
    },
    {
     "name": "stderr",
     "output_type": "stream",
     "text": [
      "[Parallel(n_jobs=-1)]: Done   3 out of   3 | elapsed:  1.0min finished\n",
      "c:\\ProgramData\\Anaconda3\\lib\\site-packages\\sklearn\\metrics\\_classification.py:1344: UndefinedMetricWarning: Precision and F-score are ill-defined and being set to 0.0 in labels with no predicted samples. Use `zero_division` parameter to control this behavior.\n",
      "  _warn_prf(average, modifier, msg_start, len(result))\n",
      "c:\\ProgramData\\Anaconda3\\lib\\site-packages\\sklearn\\metrics\\_classification.py:1344: UndefinedMetricWarning: Precision and F-score are ill-defined and being set to 0.0 in labels with no predicted samples. Use `zero_division` parameter to control this behavior.\n",
      "  _warn_prf(average, modifier, msg_start, len(result))\n",
      "c:\\ProgramData\\Anaconda3\\lib\\site-packages\\sklearn\\metrics\\_classification.py:1344: UndefinedMetricWarning: Precision and F-score are ill-defined and being set to 0.0 in labels with no predicted samples. Use `zero_division` parameter to control this behavior.\n",
      "  _warn_prf(average, modifier, msg_start, len(result))\n",
      "[Parallel(n_jobs=-1)]: Using backend LokyBackend with 12 concurrent workers.\n"
     ]
    },
    {
     "name": "stdout",
     "output_type": "stream",
     "text": [
      "K-Fold #5\n",
      "Mean negativities for all classes: [0.36692129548284186, 0.3106357658267219, 0.08760818097665284]\n",
      "Mean entropies for all classes: [3.4645680149675287e-15, 3.9664746951773895e-15, 3.713021444642112e-15]\n",
      "              precision    recall  f1-score   support\n",
      "\n",
      "           0       0.00      0.00      0.00         5\n",
      "           1       0.00      0.00      0.00         5\n",
      "           2       0.25      0.60      0.35         5\n",
      "\n",
      "    accuracy                           0.20        15\n",
      "   macro avg       0.08      0.20      0.12        15\n",
      "weighted avg       0.08      0.20      0.12        15\n",
      "\n",
      "-------------------------------------------------------------------------------------------------------------------\n"
     ]
    },
    {
     "name": "stderr",
     "output_type": "stream",
     "text": [
      "[Parallel(n_jobs=-1)]: Done   3 out of   3 | elapsed:  1.0min finished\n",
      "[Parallel(n_jobs=-1)]: Using backend LokyBackend with 12 concurrent workers.\n"
     ]
    },
    {
     "name": "stdout",
     "output_type": "stream",
     "text": [
      "K-Fold #6\n",
      "Mean negativities for all classes: [0.3631375295649166, 0.3210219370965224, 0.08679609552878054]\n",
      "Mean entropies for all classes: [3.4823934068932326e-15, 3.999125270885891e-15, 3.1397636445945015e-15]\n",
      "              precision    recall  f1-score   support\n",
      "\n",
      "           0       1.00      0.20      0.33         5\n",
      "           1       0.00      0.00      0.00         5\n",
      "           2       0.12      0.20      0.15         5\n",
      "\n",
      "    accuracy                           0.13        15\n",
      "   macro avg       0.38      0.13      0.16        15\n",
      "weighted avg       0.38      0.13      0.16        15\n",
      "\n",
      "-------------------------------------------------------------------------------------------------------------------\n"
     ]
    },
    {
     "name": "stderr",
     "output_type": "stream",
     "text": [
      "[Parallel(n_jobs=-1)]: Done   3 out of   3 | elapsed:  1.0min finished\n",
      "[Parallel(n_jobs=-1)]: Using backend LokyBackend with 12 concurrent workers.\n"
     ]
    },
    {
     "name": "stdout",
     "output_type": "stream",
     "text": [
      "K-Fold #7\n",
      "Mean negativities for all classes: [0.34742521096214535, 0.3556925328431743, 0.08656909170253017]\n",
      "Mean entropies for all classes: [4.7400221157251995e-15, 3.873844542223775e-15, 4.131122476142647e-15]\n",
      "              precision    recall  f1-score   support\n",
      "\n",
      "           0       0.00      0.00      0.00         5\n",
      "           1       0.00      0.00      0.00         5\n",
      "           2       0.44      0.80      0.57         5\n",
      "\n",
      "    accuracy                           0.27        15\n",
      "   macro avg       0.15      0.27      0.19        15\n",
      "weighted avg       0.15      0.27      0.19        15\n",
      "\n",
      "-------------------------------------------------------------------------------------------------------------------\n"
     ]
    },
    {
     "name": "stderr",
     "output_type": "stream",
     "text": [
      "[Parallel(n_jobs=-1)]: Done   3 out of   3 | elapsed:  1.0min finished\n",
      "[Parallel(n_jobs=-1)]: Using backend LokyBackend with 12 concurrent workers.\n"
     ]
    },
    {
     "name": "stdout",
     "output_type": "stream",
     "text": [
      "K-Fold #8\n",
      "Mean negativities for all classes: [0.3595184328212221, 0.32892872824220637, 0.08777154008711671]\n",
      "Mean entropies for all classes: [3.986864902288888e-15, 3.693521882585211e-15, 3.912477144549163e-15]\n",
      "              precision    recall  f1-score   support\n",
      "\n",
      "           0       1.00      0.40      0.57         5\n",
      "           1       0.00      0.00      0.00         5\n",
      "           2       0.33      0.60      0.43         5\n",
      "\n",
      "    accuracy                           0.33        15\n",
      "   macro avg       0.44      0.33      0.33        15\n",
      "weighted avg       0.44      0.33      0.33        15\n",
      "\n",
      "-------------------------------------------------------------------------------------------------------------------\n"
     ]
    },
    {
     "name": "stderr",
     "output_type": "stream",
     "text": [
      "[Parallel(n_jobs=-1)]: Done   3 out of   3 | elapsed:  1.0min finished\n",
      "[Parallel(n_jobs=-1)]: Using backend LokyBackend with 12 concurrent workers.\n"
     ]
    },
    {
     "name": "stdout",
     "output_type": "stream",
     "text": [
      "K-Fold #9\n",
      "Mean negativities for all classes: [0.37258071334251536, 0.3496849538010194, 0.08768272888773672]\n",
      "Mean entropies for all classes: [3.8626481330623305e-15, 3.632351383771958e-15, 3.3399833851698635e-15]\n",
      "              precision    recall  f1-score   support\n",
      "\n",
      "           0       1.00      0.20      0.33         5\n",
      "           1       0.00      0.00      0.00         5\n",
      "           2       0.42      1.00      0.59         5\n",
      "\n",
      "    accuracy                           0.40        15\n",
      "   macro avg       0.47      0.40      0.31        15\n",
      "weighted avg       0.47      0.40      0.31        15\n",
      "\n",
      "-------------------------------------------------------------------------------------------------------------------\n",
      "AVG: Scores = 0.23333333333333334 F1-Scores = 0.19258541023246906 Negativity = [0.25198007100860337, 0.2633967479314742, 0.26324979889248984] Entropy = [3.720356471647096e-15, 4.049345535048905e-15, 4.102205259865515e-15]\n"
     ]
    },
    {
     "name": "stderr",
     "output_type": "stream",
     "text": [
      "[Parallel(n_jobs=-1)]: Done   3 out of   3 | elapsed:  1.0min finished\n",
      "[Parallel(n_jobs=-1)]: Using backend LokyBackend with 12 concurrent workers.\n"
     ]
    },
    {
     "name": "stdout",
     "output_type": "stream",
     "text": [
      "K-Fold #0\n",
      "Mean negativities for all classes: [0.3655360647076766, 0.3015478540183712, 0.08746097353172716]\n",
      "Mean entropies for all classes: [4.186196250408505e-15, 4.411225384860569e-15, 3.114482807821055e-15]\n",
      "              precision    recall  f1-score   support\n",
      "\n",
      "           0       1.00      0.20      0.33         5\n",
      "           1       0.00      0.00      0.00         5\n",
      "           2       0.22      0.40      0.29         5\n",
      "\n",
      "    accuracy                           0.20        15\n",
      "   macro avg       0.41      0.20      0.21        15\n",
      "weighted avg       0.41      0.20      0.21        15\n",
      "\n",
      "-------------------------------------------------------------------------------------------------------------------\n"
     ]
    },
    {
     "name": "stderr",
     "output_type": "stream",
     "text": [
      "[Parallel(n_jobs=-1)]: Done   3 out of   3 | elapsed:  1.0min finished\n",
      "[Parallel(n_jobs=-1)]: Using backend LokyBackend with 12 concurrent workers.\n"
     ]
    },
    {
     "name": "stdout",
     "output_type": "stream",
     "text": [
      "K-Fold #1\n",
      "Mean negativities for all classes: [0.3501924004599616, 0.3291923836974258, 0.08687968487461385]\n",
      "Mean entropies for all classes: [3.806444809645457e-15, 3.995781085109324e-15, 3.265365031636444e-15]\n",
      "              precision    recall  f1-score   support\n",
      "\n",
      "           0       1.00      0.20      0.33         5\n",
      "           1       0.00      0.00      0.00         5\n",
      "           2       0.36      0.80      0.50         5\n",
      "\n",
      "    accuracy                           0.33        15\n",
      "   macro avg       0.45      0.33      0.28        15\n",
      "weighted avg       0.45      0.33      0.28        15\n",
      "\n",
      "-------------------------------------------------------------------------------------------------------------------\n"
     ]
    },
    {
     "name": "stderr",
     "output_type": "stream",
     "text": [
      "[Parallel(n_jobs=-1)]: Done   3 out of   3 | elapsed:  1.0min finished\n",
      "[Parallel(n_jobs=-1)]: Using backend LokyBackend with 12 concurrent workers.\n"
     ]
    },
    {
     "name": "stdout",
     "output_type": "stream",
     "text": [
      "K-Fold #2\n",
      "Mean negativities for all classes: [0.36696439340943043, 0.33174774659151285, 0.0867022096536647]\n",
      "Mean entropies for all classes: [3.9221740204172306e-15, 3.0536136503363877e-15, 2.9615443817329282e-15]\n",
      "              precision    recall  f1-score   support\n",
      "\n",
      "           0       1.00      0.20      0.33         5\n",
      "           1       0.00      0.00      0.00         5\n",
      "           2       0.40      0.80      0.53         5\n",
      "\n",
      "    accuracy                           0.33        15\n",
      "   macro avg       0.47      0.33      0.29        15\n",
      "weighted avg       0.47      0.33      0.29        15\n",
      "\n",
      "-------------------------------------------------------------------------------------------------------------------\n"
     ]
    },
    {
     "name": "stderr",
     "output_type": "stream",
     "text": [
      "[Parallel(n_jobs=-1)]: Done   3 out of   3 | elapsed:  1.0min finished\n",
      "c:\\ProgramData\\Anaconda3\\lib\\site-packages\\sklearn\\metrics\\_classification.py:1344: UndefinedMetricWarning: Precision and F-score are ill-defined and being set to 0.0 in labels with no predicted samples. Use `zero_division` parameter to control this behavior.\n",
      "  _warn_prf(average, modifier, msg_start, len(result))\n",
      "c:\\ProgramData\\Anaconda3\\lib\\site-packages\\sklearn\\metrics\\_classification.py:1344: UndefinedMetricWarning: Precision and F-score are ill-defined and being set to 0.0 in labels with no predicted samples. Use `zero_division` parameter to control this behavior.\n",
      "  _warn_prf(average, modifier, msg_start, len(result))\n",
      "c:\\ProgramData\\Anaconda3\\lib\\site-packages\\sklearn\\metrics\\_classification.py:1344: UndefinedMetricWarning: Precision and F-score are ill-defined and being set to 0.0 in labels with no predicted samples. Use `zero_division` parameter to control this behavior.\n",
      "  _warn_prf(average, modifier, msg_start, len(result))\n",
      "[Parallel(n_jobs=-1)]: Using backend LokyBackend with 12 concurrent workers.\n"
     ]
    },
    {
     "name": "stdout",
     "output_type": "stream",
     "text": [
      "K-Fold #3\n",
      "Mean negativities for all classes: [0.36478612345107453, 0.31653037744147844, 0.08672430514548225]\n",
      "Mean entropies for all classes: [3.5441597333515754e-15, 4.027929746094747e-15, 4.2089426976877245e-15]\n",
      "              precision    recall  f1-score   support\n",
      "\n",
      "           0       0.00      0.00      0.00         5\n",
      "           1       0.00      0.00      0.00         5\n",
      "           2       0.22      0.40      0.29         5\n",
      "\n",
      "    accuracy                           0.13        15\n",
      "   macro avg       0.07      0.13      0.10        15\n",
      "weighted avg       0.07      0.13      0.10        15\n",
      "\n",
      "-------------------------------------------------------------------------------------------------------------------\n"
     ]
    },
    {
     "name": "stderr",
     "output_type": "stream",
     "text": [
      "[Parallel(n_jobs=-1)]: Done   3 out of   3 | elapsed:  1.0min finished\n",
      "c:\\ProgramData\\Anaconda3\\lib\\site-packages\\sklearn\\metrics\\_classification.py:1344: UndefinedMetricWarning: Precision and F-score are ill-defined and being set to 0.0 in labels with no predicted samples. Use `zero_division` parameter to control this behavior.\n",
      "  _warn_prf(average, modifier, msg_start, len(result))\n",
      "c:\\ProgramData\\Anaconda3\\lib\\site-packages\\sklearn\\metrics\\_classification.py:1344: UndefinedMetricWarning: Precision and F-score are ill-defined and being set to 0.0 in labels with no predicted samples. Use `zero_division` parameter to control this behavior.\n",
      "  _warn_prf(average, modifier, msg_start, len(result))\n",
      "c:\\ProgramData\\Anaconda3\\lib\\site-packages\\sklearn\\metrics\\_classification.py:1344: UndefinedMetricWarning: Precision and F-score are ill-defined and being set to 0.0 in labels with no predicted samples. Use `zero_division` parameter to control this behavior.\n",
      "  _warn_prf(average, modifier, msg_start, len(result))\n",
      "[Parallel(n_jobs=-1)]: Using backend LokyBackend with 12 concurrent workers.\n"
     ]
    },
    {
     "name": "stdout",
     "output_type": "stream",
     "text": [
      "K-Fold #4\n",
      "Mean negativities for all classes: [0.34870338575655213, 0.3095135048086382, 0.0868309658389748]\n",
      "Mean entropies for all classes: [3.3892946711951383e-15, 4.36528159105589e-15, 2.93758530544845e-15]\n",
      "              precision    recall  f1-score   support\n",
      "\n",
      "           0       0.00      0.00      0.00         5\n",
      "           1       0.00      0.00      0.00         5\n",
      "           2       0.25      0.60      0.35         5\n",
      "\n",
      "    accuracy                           0.20        15\n",
      "   macro avg       0.08      0.20      0.12        15\n",
      "weighted avg       0.08      0.20      0.12        15\n",
      "\n",
      "-------------------------------------------------------------------------------------------------------------------\n"
     ]
    },
    {
     "name": "stderr",
     "output_type": "stream",
     "text": [
      "[Parallel(n_jobs=-1)]: Done   3 out of   3 | elapsed:  1.0min finished\n",
      "[Parallel(n_jobs=-1)]: Using backend LokyBackend with 12 concurrent workers.\n"
     ]
    },
    {
     "name": "stdout",
     "output_type": "stream",
     "text": [
      "K-Fold #5\n",
      "Mean negativities for all classes: [0.3620114019858862, 0.3275695053886487, 0.08674579548300286]\n",
      "Mean entropies for all classes: [4.242585019816175e-15, 3.4018397442671665e-15, 3.4672626939456584e-15]\n",
      "              precision    recall  f1-score   support\n",
      "\n",
      "           0       0.33      0.20      0.25         5\n",
      "           1       0.00      0.00      0.00         5\n",
      "           2       0.33      0.40      0.36         5\n",
      "\n",
      "    accuracy                           0.20        15\n",
      "   macro avg       0.22      0.20      0.20        15\n",
      "weighted avg       0.22      0.20      0.20        15\n",
      "\n",
      "-------------------------------------------------------------------------------------------------------------------\n"
     ]
    },
    {
     "name": "stderr",
     "output_type": "stream",
     "text": [
      "[Parallel(n_jobs=-1)]: Done   3 out of   3 | elapsed:  1.0min finished\n",
      "[Parallel(n_jobs=-1)]: Using backend LokyBackend with 12 concurrent workers.\n"
     ]
    },
    {
     "name": "stdout",
     "output_type": "stream",
     "text": [
      "K-Fold #6\n",
      "Mean negativities for all classes: [0.37517346595465134, 0.32454880604020386, 0.08763020827377901]\n",
      "Mean entropies for all classes: [3.4679755718628185e-15, 2.9555028100587633e-15, 3.2549923732968016e-15]\n",
      "              precision    recall  f1-score   support\n",
      "\n",
      "           0       1.00      0.20      0.33         5\n",
      "           1       0.00      0.00      0.00         5\n",
      "           2       0.22      0.40      0.29         5\n",
      "\n",
      "    accuracy                           0.20        15\n",
      "   macro avg       0.41      0.20      0.21        15\n",
      "weighted avg       0.41      0.20      0.21        15\n",
      "\n",
      "-------------------------------------------------------------------------------------------------------------------\n"
     ]
    },
    {
     "name": "stderr",
     "output_type": "stream",
     "text": [
      "[Parallel(n_jobs=-1)]: Done   3 out of   3 | elapsed:  1.0min finished\n",
      "[Parallel(n_jobs=-1)]: Using backend LokyBackend with 12 concurrent workers.\n"
     ]
    },
    {
     "name": "stdout",
     "output_type": "stream",
     "text": [
      "K-Fold #7\n",
      "Mean negativities for all classes: [0.357452937830546, 0.3474490886694879, 0.0864985137331543]\n",
      "Mean entropies for all classes: [2.912017940140825e-15, 3.775726827073202e-15, 4.164340355377415e-15]\n",
      "              precision    recall  f1-score   support\n",
      "\n",
      "           0       0.33      0.20      0.25         5\n",
      "           1       0.00      0.00      0.00         5\n",
      "           2       0.33      0.60      0.43         5\n",
      "\n",
      "    accuracy                           0.27        15\n",
      "   macro avg       0.22      0.27      0.23        15\n",
      "weighted avg       0.22      0.27      0.23        15\n",
      "\n",
      "-------------------------------------------------------------------------------------------------------------------\n"
     ]
    },
    {
     "name": "stderr",
     "output_type": "stream",
     "text": [
      "[Parallel(n_jobs=-1)]: Done   3 out of   3 | elapsed:  1.0min finished\n",
      "[Parallel(n_jobs=-1)]: Using backend LokyBackend with 12 concurrent workers.\n"
     ]
    },
    {
     "name": "stdout",
     "output_type": "stream",
     "text": [
      "K-Fold #8\n",
      "Mean negativities for all classes: [0.3610510577049014, 0.31670039369191877, 0.08694319527667237]\n",
      "Mean entropies for all classes: [3.614804098323337e-15, 4.675740283722596e-15, 2.7517069541142205e-15]\n",
      "              precision    recall  f1-score   support\n",
      "\n",
      "           0       0.00      0.00      0.00         5\n",
      "           1       0.00      0.00      0.00         5\n",
      "           2       0.38      0.60      0.46         5\n",
      "\n",
      "    accuracy                           0.20        15\n",
      "   macro avg       0.12      0.20      0.15        15\n",
      "weighted avg       0.12      0.20      0.15        15\n",
      "\n",
      "-------------------------------------------------------------------------------------------------------------------\n"
     ]
    },
    {
     "name": "stderr",
     "output_type": "stream",
     "text": [
      "[Parallel(n_jobs=-1)]: Done   3 out of   3 | elapsed:  1.0min finished\n",
      "[Parallel(n_jobs=-1)]: Using backend LokyBackend with 12 concurrent workers.\n"
     ]
    },
    {
     "name": "stdout",
     "output_type": "stream",
     "text": [
      "K-Fold #9\n",
      "Mean negativities for all classes: [0.36071027363015234, 0.32302189078289606, 0.08760662804816512]\n",
      "Mean entropies for all classes: [3.3030754950771704e-15, 3.526717500699037e-15, 3.618973170500488e-15]\n",
      "              precision    recall  f1-score   support\n",
      "\n",
      "           0       0.50      0.40      0.44         5\n",
      "           1       0.00      0.00      0.00         5\n",
      "           2       0.50      0.80      0.62         5\n",
      "\n",
      "    accuracy                           0.40        15\n",
      "   macro avg       0.33      0.40      0.35        15\n",
      "weighted avg       0.33      0.40      0.35        15\n",
      "\n",
      "-------------------------------------------------------------------------------------------------------------------\n",
      "AVG: Scores = 0.24666666666666667 F1-Scores = 0.21301086712851416 Negativity = [0.25151496408592494, 0.25542148967733375, 0.26180478321820266] Entropy = [3.90396814769671e-15, 3.689196975463742e-15, 3.3124440174955152e-15]\n"
     ]
    },
    {
     "name": "stderr",
     "output_type": "stream",
     "text": [
      "[Parallel(n_jobs=-1)]: Done   3 out of   3 | elapsed:  1.0min finished\n",
      "[Parallel(n_jobs=-1)]: Using backend LokyBackend with 12 concurrent workers.\n"
     ]
    },
    {
     "name": "stdout",
     "output_type": "stream",
     "text": [
      "K-Fold #0\n",
      "Mean negativities for all classes: [0.3631976968927244, 0.3326364745025032, 0.08643775163297522]\n",
      "Mean entropies for all classes: [3.656945670661685e-15, 3.780538541183443e-15, 3.221716501126896e-15]\n",
      "              precision    recall  f1-score   support\n",
      "\n",
      "           0       1.00      0.40      0.57         5\n",
      "           1       0.00      0.00      0.00         5\n",
      "           2       0.33      0.60      0.43         5\n",
      "\n",
      "    accuracy                           0.33        15\n",
      "   macro avg       0.44      0.33      0.33        15\n",
      "weighted avg       0.44      0.33      0.33        15\n",
      "\n",
      "-------------------------------------------------------------------------------------------------------------------\n"
     ]
    },
    {
     "name": "stderr",
     "output_type": "stream",
     "text": [
      "[Parallel(n_jobs=-1)]: Done   3 out of   3 | elapsed:  1.0min finished\n",
      "c:\\ProgramData\\Anaconda3\\lib\\site-packages\\sklearn\\metrics\\_classification.py:1344: UndefinedMetricWarning: Precision and F-score are ill-defined and being set to 0.0 in labels with no predicted samples. Use `zero_division` parameter to control this behavior.\n",
      "  _warn_prf(average, modifier, msg_start, len(result))\n",
      "c:\\ProgramData\\Anaconda3\\lib\\site-packages\\sklearn\\metrics\\_classification.py:1344: UndefinedMetricWarning: Precision and F-score are ill-defined and being set to 0.0 in labels with no predicted samples. Use `zero_division` parameter to control this behavior.\n",
      "  _warn_prf(average, modifier, msg_start, len(result))\n",
      "c:\\ProgramData\\Anaconda3\\lib\\site-packages\\sklearn\\metrics\\_classification.py:1344: UndefinedMetricWarning: Precision and F-score are ill-defined and being set to 0.0 in labels with no predicted samples. Use `zero_division` parameter to control this behavior.\n",
      "  _warn_prf(average, modifier, msg_start, len(result))\n",
      "[Parallel(n_jobs=-1)]: Using backend LokyBackend with 12 concurrent workers.\n"
     ]
    },
    {
     "name": "stdout",
     "output_type": "stream",
     "text": [
      "K-Fold #1\n",
      "Mean negativities for all classes: [0.36141007904407074, 0.3338984788394938, 0.08683746109449195]\n",
      "Mean entropies for all classes: [4.07659688354916e-15, 4.900385439621357e-15, 3.3630576907578404e-15]\n",
      "              precision    recall  f1-score   support\n",
      "\n",
      "           0       0.00      0.00      0.00         5\n",
      "           1       0.00      0.00      0.00         5\n",
      "           2       0.18      0.40      0.25         5\n",
      "\n",
      "    accuracy                           0.13        15\n",
      "   macro avg       0.06      0.13      0.08        15\n",
      "weighted avg       0.06      0.13      0.08        15\n",
      "\n",
      "-------------------------------------------------------------------------------------------------------------------\n"
     ]
    },
    {
     "name": "stderr",
     "output_type": "stream",
     "text": [
      "[Parallel(n_jobs=-1)]: Done   3 out of   3 | elapsed:  1.0min finished\n",
      "[Parallel(n_jobs=-1)]: Using backend LokyBackend with 12 concurrent workers.\n"
     ]
    },
    {
     "name": "stdout",
     "output_type": "stream",
     "text": [
      "K-Fold #2\n",
      "Mean negativities for all classes: [0.3442808624060007, 0.32672588939756514, 0.08655814062923903]\n",
      "Mean entropies for all classes: [3.499478596270727e-15, 3.090203906583377e-15, 3.535726544853192e-15]\n",
      "              precision    recall  f1-score   support\n",
      "\n",
      "           0       0.67      0.40      0.50         5\n",
      "           1       0.00      0.00      0.00         5\n",
      "           2       0.40      0.80      0.53         5\n",
      "\n",
      "    accuracy                           0.40        15\n",
      "   macro avg       0.36      0.40      0.34        15\n",
      "weighted avg       0.36      0.40      0.34        15\n",
      "\n",
      "-------------------------------------------------------------------------------------------------------------------\n"
     ]
    },
    {
     "name": "stderr",
     "output_type": "stream",
     "text": [
      "[Parallel(n_jobs=-1)]: Done   3 out of   3 | elapsed:  1.0min finished\n",
      "[Parallel(n_jobs=-1)]: Using backend LokyBackend with 12 concurrent workers.\n"
     ]
    },
    {
     "name": "stdout",
     "output_type": "stream",
     "text": [
      "K-Fold #3\n",
      "Mean negativities for all classes: [0.361283273097693, 0.3187228430034619, 0.08732739451682124]\n",
      "Mean entropies for all classes: [3.857589256607531e-15, 3.6630833694552944e-15, 3.3905056980364798e-15]\n",
      "              precision    recall  f1-score   support\n",
      "\n",
      "           0       1.00      0.40      0.57         5\n",
      "           1       0.00      0.00      0.00         5\n",
      "           2       0.36      0.80      0.50         5\n",
      "\n",
      "    accuracy                           0.40        15\n",
      "   macro avg       0.45      0.40      0.36        15\n",
      "weighted avg       0.45      0.40      0.36        15\n",
      "\n",
      "-------------------------------------------------------------------------------------------------------------------\n"
     ]
    },
    {
     "name": "stderr",
     "output_type": "stream",
     "text": [
      "[Parallel(n_jobs=-1)]: Done   3 out of   3 | elapsed:  1.0min finished\n",
      "c:\\ProgramData\\Anaconda3\\lib\\site-packages\\sklearn\\metrics\\_classification.py:1344: UndefinedMetricWarning: Precision and F-score are ill-defined and being set to 0.0 in labels with no predicted samples. Use `zero_division` parameter to control this behavior.\n",
      "  _warn_prf(average, modifier, msg_start, len(result))\n",
      "c:\\ProgramData\\Anaconda3\\lib\\site-packages\\sklearn\\metrics\\_classification.py:1344: UndefinedMetricWarning: Precision and F-score are ill-defined and being set to 0.0 in labels with no predicted samples. Use `zero_division` parameter to control this behavior.\n",
      "  _warn_prf(average, modifier, msg_start, len(result))\n",
      "c:\\ProgramData\\Anaconda3\\lib\\site-packages\\sklearn\\metrics\\_classification.py:1344: UndefinedMetricWarning: Precision and F-score are ill-defined and being set to 0.0 in labels with no predicted samples. Use `zero_division` parameter to control this behavior.\n",
      "  _warn_prf(average, modifier, msg_start, len(result))\n",
      "[Parallel(n_jobs=-1)]: Using backend LokyBackend with 12 concurrent workers.\n"
     ]
    },
    {
     "name": "stdout",
     "output_type": "stream",
     "text": [
      "K-Fold #4\n",
      "Mean negativities for all classes: [0.36702508317567256, 0.3075832338248318, 0.08728719673093252]\n",
      "Mean entropies for all classes: [2.8561585383245337e-15, 3.321330667941532e-15, 3.5766517565536875e-15]\n",
      "              precision    recall  f1-score   support\n",
      "\n",
      "           0       0.00      0.00      0.00         5\n",
      "           1       0.00      0.00      0.00         5\n",
      "           2       0.22      0.40      0.29         5\n",
      "\n",
      "    accuracy                           0.13        15\n",
      "   macro avg       0.07      0.13      0.10        15\n",
      "weighted avg       0.07      0.13      0.10        15\n",
      "\n",
      "-------------------------------------------------------------------------------------------------------------------\n"
     ]
    },
    {
     "name": "stderr",
     "output_type": "stream",
     "text": [
      "[Parallel(n_jobs=-1)]: Done   3 out of   3 | elapsed:  1.0min finished\n",
      "[Parallel(n_jobs=-1)]: Using backend LokyBackend with 12 concurrent workers.\n"
     ]
    },
    {
     "name": "stdout",
     "output_type": "stream",
     "text": [
      "K-Fold #5\n",
      "Mean negativities for all classes: [0.357346722538206, 0.3234016243677864, 0.0872650355483947]\n",
      "Mean entropies for all classes: [4.151215795501965e-15, 2.7424447775158865e-15, 3.765888476748291e-15]\n",
      "              precision    recall  f1-score   support\n",
      "\n",
      "           0       0.33      0.20      0.25         5\n",
      "           1       0.00      0.00      0.00         5\n",
      "           2       0.44      0.80      0.57         5\n",
      "\n",
      "    accuracy                           0.33        15\n",
      "   macro avg       0.26      0.33      0.27        15\n",
      "weighted avg       0.26      0.33      0.27        15\n",
      "\n",
      "-------------------------------------------------------------------------------------------------------------------\n"
     ]
    },
    {
     "name": "stderr",
     "output_type": "stream",
     "text": [
      "[Parallel(n_jobs=-1)]: Done   3 out of   3 | elapsed:  1.0min finished\n",
      "[Parallel(n_jobs=-1)]: Using backend LokyBackend with 12 concurrent workers.\n"
     ]
    },
    {
     "name": "stdout",
     "output_type": "stream",
     "text": [
      "K-Fold #6\n",
      "Mean negativities for all classes: [0.3673793169059771, 0.3461810533501145, 0.08755706812645728]\n",
      "Mean entropies for all classes: [3.7290680901397175e-15, 3.4473780384035447e-15, 3.0217346822180444e-15]\n",
      "              precision    recall  f1-score   support\n",
      "\n",
      "           0       0.00      0.00      0.00         5\n",
      "           1       0.00      0.00      0.00         5\n",
      "           2       0.36      0.80      0.50         5\n",
      "\n",
      "    accuracy                           0.27        15\n",
      "   macro avg       0.12      0.27      0.17        15\n",
      "weighted avg       0.12      0.27      0.17        15\n",
      "\n",
      "-------------------------------------------------------------------------------------------------------------------\n"
     ]
    },
    {
     "name": "stderr",
     "output_type": "stream",
     "text": [
      "[Parallel(n_jobs=-1)]: Done   3 out of   3 | elapsed:  1.0min finished\n",
      "[Parallel(n_jobs=-1)]: Using backend LokyBackend with 12 concurrent workers.\n"
     ]
    },
    {
     "name": "stdout",
     "output_type": "stream",
     "text": [
      "K-Fold #7\n",
      "Mean negativities for all classes: [0.36734967220126297, 0.34838398077980554, 0.08714685490330044]\n",
      "Mean entropies for all classes: [3.4677810157456912e-15, 4.0156259042520534e-15, 3.0821549264905283e-15]\n",
      "              precision    recall  f1-score   support\n",
      "\n",
      "           0       0.67      0.40      0.50         5\n",
      "           1       0.00      0.00      0.00         5\n",
      "           2       0.40      0.80      0.53         5\n",
      "\n",
      "    accuracy                           0.40        15\n",
      "   macro avg       0.36      0.40      0.34        15\n",
      "weighted avg       0.36      0.40      0.34        15\n",
      "\n",
      "-------------------------------------------------------------------------------------------------------------------\n"
     ]
    },
    {
     "name": "stderr",
     "output_type": "stream",
     "text": [
      "[Parallel(n_jobs=-1)]: Done   3 out of   3 | elapsed:  1.0min finished\n",
      "c:\\ProgramData\\Anaconda3\\lib\\site-packages\\sklearn\\metrics\\_classification.py:1344: UndefinedMetricWarning: Precision and F-score are ill-defined and being set to 0.0 in labels with no predicted samples. Use `zero_division` parameter to control this behavior.\n",
      "  _warn_prf(average, modifier, msg_start, len(result))\n",
      "c:\\ProgramData\\Anaconda3\\lib\\site-packages\\sklearn\\metrics\\_classification.py:1344: UndefinedMetricWarning: Precision and F-score are ill-defined and being set to 0.0 in labels with no predicted samples. Use `zero_division` parameter to control this behavior.\n",
      "  _warn_prf(average, modifier, msg_start, len(result))\n",
      "c:\\ProgramData\\Anaconda3\\lib\\site-packages\\sklearn\\metrics\\_classification.py:1344: UndefinedMetricWarning: Precision and F-score are ill-defined and being set to 0.0 in labels with no predicted samples. Use `zero_division` parameter to control this behavior.\n",
      "  _warn_prf(average, modifier, msg_start, len(result))\n",
      "[Parallel(n_jobs=-1)]: Using backend LokyBackend with 12 concurrent workers.\n"
     ]
    },
    {
     "name": "stdout",
     "output_type": "stream",
     "text": [
      "K-Fold #8\n",
      "Mean negativities for all classes: [0.3561637521491523, 0.3162480896264706, 0.08663831022224842]\n",
      "Mean entropies for all classes: [3.0374530214652728e-15, 4.165888597046137e-15, 3.854960074829386e-15]\n",
      "              precision    recall  f1-score   support\n",
      "\n",
      "           0       0.00      0.00      0.00         5\n",
      "           1       0.00      0.00      0.00         5\n",
      "           2       0.30      0.60      0.40         5\n",
      "\n",
      "    accuracy                           0.20        15\n",
      "   macro avg       0.10      0.20      0.13        15\n",
      "weighted avg       0.10      0.20      0.13        15\n",
      "\n",
      "-------------------------------------------------------------------------------------------------------------------\n"
     ]
    },
    {
     "name": "stderr",
     "output_type": "stream",
     "text": [
      "[Parallel(n_jobs=-1)]: Done   3 out of   3 | elapsed:  1.0min finished\n",
      "[Parallel(n_jobs=-1)]: Using backend LokyBackend with 12 concurrent workers.\n"
     ]
    },
    {
     "name": "stdout",
     "output_type": "stream",
     "text": [
      "K-Fold #9\n",
      "Mean negativities for all classes: [0.36241829195655656, 0.3413299102968944, 0.0872264648534939]\n",
      "Mean entropies for all classes: [4.28326896436251e-15, 3.975517550744777e-15, 3.5941454442529285e-15]\n",
      "              precision    recall  f1-score   support\n",
      "\n",
      "           0       0.50      0.20      0.29         5\n",
      "           1       0.00      0.00      0.00         5\n",
      "           2       0.38      0.60      0.46         5\n",
      "\n",
      "    accuracy                           0.27        15\n",
      "   macro avg       0.29      0.27      0.25        15\n",
      "weighted avg       0.29      0.27      0.25        15\n",
      "\n",
      "-------------------------------------------------------------------------------------------------------------------\n",
      "AVG: Scores = 0.2866666666666667 F1-Scores = 0.2380830280830281 Negativity = [0.2607573076760676, 0.2607153396593522, 0.252521630810935] Entropy = [3.5530669043240075e-15, 4.1133466713094526e-15, 3.375136349235765e-15]\n"
     ]
    },
    {
     "name": "stderr",
     "output_type": "stream",
     "text": [
      "[Parallel(n_jobs=-1)]: Done   3 out of   3 | elapsed:  1.0min finished\n",
      "[Parallel(n_jobs=-1)]: Using backend LokyBackend with 12 concurrent workers.\n"
     ]
    },
    {
     "name": "stdout",
     "output_type": "stream",
     "text": [
      "K-Fold #0\n",
      "Mean negativities for all classes: [0.3468821319831518, 0.3334398054323848, 0.0863996689038274]\n",
      "Mean entropies for all classes: [3.674230261715889e-15, 3.658723060846784e-15, 4.008444754539658e-15]\n",
      "              precision    recall  f1-score   support\n",
      "\n",
      "           0       0.50      0.20      0.29         5\n",
      "           1       0.00      0.00      0.00         5\n",
      "           2       0.38      0.60      0.46         5\n",
      "\n",
      "    accuracy                           0.27        15\n",
      "   macro avg       0.29      0.27      0.25        15\n",
      "weighted avg       0.29      0.27      0.25        15\n",
      "\n",
      "-------------------------------------------------------------------------------------------------------------------\n"
     ]
    },
    {
     "name": "stderr",
     "output_type": "stream",
     "text": [
      "[Parallel(n_jobs=-1)]: Done   3 out of   3 | elapsed:  1.0min finished\n",
      "[Parallel(n_jobs=-1)]: Using backend LokyBackend with 12 concurrent workers.\n"
     ]
    },
    {
     "name": "stdout",
     "output_type": "stream",
     "text": [
      "K-Fold #1\n",
      "Mean negativities for all classes: [0.35897665431956216, 0.3233753290504772, 0.08706950666069102]\n",
      "Mean entropies for all classes: [2.5992440424613486e-15, 2.907891645643052e-15, 3.2086453997609572e-15]\n",
      "              precision    recall  f1-score   support\n",
      "\n",
      "           0       1.00      0.20      0.33         5\n",
      "           1       0.00      0.00      0.00         5\n",
      "           2       0.33      0.80      0.47         5\n",
      "\n",
      "    accuracy                           0.33        15\n",
      "   macro avg       0.44      0.33      0.27        15\n",
      "weighted avg       0.44      0.33      0.27        15\n",
      "\n",
      "-------------------------------------------------------------------------------------------------------------------\n"
     ]
    },
    {
     "name": "stderr",
     "output_type": "stream",
     "text": [
      "[Parallel(n_jobs=-1)]: Done   3 out of   3 | elapsed:  1.0min finished\n",
      "[Parallel(n_jobs=-1)]: Using backend LokyBackend with 12 concurrent workers.\n"
     ]
    },
    {
     "name": "stdout",
     "output_type": "stream",
     "text": [
      "K-Fold #2\n",
      "Mean negativities for all classes: [0.3585130190122406, 0.34906788718212156, 0.08714308786454276]\n",
      "Mean entropies for all classes: [3.6952288593956325e-15, 3.511421360297449e-15, 3.265393233871406e-15]\n",
      "              precision    recall  f1-score   support\n",
      "\n",
      "           0       1.00      0.40      0.57         5\n",
      "           1       0.00      0.00      0.00         5\n",
      "           2       0.40      0.80      0.53         5\n",
      "\n",
      "    accuracy                           0.40        15\n",
      "   macro avg       0.47      0.40      0.37        15\n",
      "weighted avg       0.47      0.40      0.37        15\n",
      "\n",
      "-------------------------------------------------------------------------------------------------------------------\n"
     ]
    },
    {
     "name": "stderr",
     "output_type": "stream",
     "text": [
      "[Parallel(n_jobs=-1)]: Done   3 out of   3 | elapsed:  1.0min finished\n",
      "[Parallel(n_jobs=-1)]: Using backend LokyBackend with 12 concurrent workers.\n"
     ]
    },
    {
     "name": "stdout",
     "output_type": "stream",
     "text": [
      "K-Fold #3\n",
      "Mean negativities for all classes: [0.36066477898279176, 0.3339115131676427, 0.08708665792963019]\n",
      "Mean entropies for all classes: [3.782707599949839e-15, 4.902715401554581e-15, 3.804989503590285e-15]\n",
      "              precision    recall  f1-score   support\n",
      "\n",
      "           0       1.00      0.40      0.57         5\n",
      "           1       0.00      0.00      0.00         5\n",
      "           2       0.25      0.40      0.31         5\n",
      "\n",
      "    accuracy                           0.27        15\n",
      "   macro avg       0.42      0.27      0.29        15\n",
      "weighted avg       0.42      0.27      0.29        15\n",
      "\n",
      "-------------------------------------------------------------------------------------------------------------------\n"
     ]
    },
    {
     "name": "stderr",
     "output_type": "stream",
     "text": [
      "[Parallel(n_jobs=-1)]: Done   3 out of   3 | elapsed:  1.0min finished\n",
      "[Parallel(n_jobs=-1)]: Using backend LokyBackend with 12 concurrent workers.\n"
     ]
    },
    {
     "name": "stdout",
     "output_type": "stream",
     "text": [
      "K-Fold #4\n",
      "Mean negativities for all classes: [0.36270508811859137, 0.34950883432328583, 0.08696150910917196]\n",
      "Mean entropies for all classes: [3.3142303200515033e-15, 3.5487057838683372e-15, 3.07102747172584e-15]\n",
      "              precision    recall  f1-score   support\n",
      "\n",
      "           0       1.00      0.20      0.33         5\n",
      "           1       0.00      0.00      0.00         5\n",
      "           2       0.33      0.60      0.43         5\n",
      "\n",
      "    accuracy                           0.27        15\n",
      "   macro avg       0.44      0.27      0.25        15\n",
      "weighted avg       0.44      0.27      0.25        15\n",
      "\n",
      "-------------------------------------------------------------------------------------------------------------------\n"
     ]
    },
    {
     "name": "stderr",
     "output_type": "stream",
     "text": [
      "[Parallel(n_jobs=-1)]: Done   3 out of   3 | elapsed:  1.0min finished\n",
      "[Parallel(n_jobs=-1)]: Using backend LokyBackend with 12 concurrent workers.\n"
     ]
    },
    {
     "name": "stdout",
     "output_type": "stream",
     "text": [
      "K-Fold #5\n",
      "Mean negativities for all classes: [0.36057115059869754, 0.3187920366079168, 0.08691338055345489]\n",
      "Mean entropies for all classes: [3.789070293300362e-15, 3.8190229411492754e-15, 3.875242068219866e-15]\n",
      "              precision    recall  f1-score   support\n",
      "\n",
      "           0       1.00      0.20      0.33         5\n",
      "           1       0.00      0.00      0.00         5\n",
      "           2       0.30      0.60      0.40         5\n",
      "\n",
      "    accuracy                           0.27        15\n",
      "   macro avg       0.43      0.27      0.24        15\n",
      "weighted avg       0.43      0.27      0.24        15\n",
      "\n",
      "-------------------------------------------------------------------------------------------------------------------\n"
     ]
    },
    {
     "name": "stderr",
     "output_type": "stream",
     "text": [
      "[Parallel(n_jobs=-1)]: Done   3 out of   3 | elapsed:  1.0min finished\n",
      "[Parallel(n_jobs=-1)]: Using backend LokyBackend with 12 concurrent workers.\n"
     ]
    },
    {
     "name": "stdout",
     "output_type": "stream",
     "text": [
      "K-Fold #6\n",
      "Mean negativities for all classes: [0.3662159876512843, 0.3426153548422378, 0.0866997245388357]\n",
      "Mean entropies for all classes: [4.011933714558061e-15, 3.333668735958048e-15, 3.416962446139571e-15]\n",
      "              precision    recall  f1-score   support\n",
      "\n",
      "           0       0.00      0.00      0.00         5\n",
      "           1       0.00      0.00      0.00         5\n",
      "           2       0.36      0.80      0.50         5\n",
      "\n",
      "    accuracy                           0.27        15\n",
      "   macro avg       0.12      0.27      0.17        15\n",
      "weighted avg       0.12      0.27      0.17        15\n",
      "\n",
      "-------------------------------------------------------------------------------------------------------------------\n"
     ]
    },
    {
     "name": "stderr",
     "output_type": "stream",
     "text": [
      "[Parallel(n_jobs=-1)]: Done   3 out of   3 | elapsed:  1.0min finished\n",
      "[Parallel(n_jobs=-1)]: Using backend LokyBackend with 12 concurrent workers.\n"
     ]
    },
    {
     "name": "stdout",
     "output_type": "stream",
     "text": [
      "K-Fold #7\n",
      "Mean negativities for all classes: [0.37161522331495817, 0.30944557275797663, 0.08684751356398417]\n",
      "Mean entropies for all classes: [3.69689102415035e-15, 3.2492181240915402e-15, 3.0064239621316948e-15]\n",
      "              precision    recall  f1-score   support\n",
      "\n",
      "           0       1.00      0.20      0.33         5\n",
      "           1       0.00      0.00      0.00         5\n",
      "           2       0.30      0.60      0.40         5\n",
      "\n",
      "    accuracy                           0.27        15\n",
      "   macro avg       0.43      0.27      0.24        15\n",
      "weighted avg       0.43      0.27      0.24        15\n",
      "\n",
      "-------------------------------------------------------------------------------------------------------------------\n"
     ]
    },
    {
     "name": "stderr",
     "output_type": "stream",
     "text": [
      "[Parallel(n_jobs=-1)]: Done   3 out of   3 | elapsed:  1.0min finished\n",
      "c:\\ProgramData\\Anaconda3\\lib\\site-packages\\sklearn\\metrics\\_classification.py:1344: UndefinedMetricWarning: Precision and F-score are ill-defined and being set to 0.0 in labels with no predicted samples. Use `zero_division` parameter to control this behavior.\n",
      "  _warn_prf(average, modifier, msg_start, len(result))\n",
      "c:\\ProgramData\\Anaconda3\\lib\\site-packages\\sklearn\\metrics\\_classification.py:1344: UndefinedMetricWarning: Precision and F-score are ill-defined and being set to 0.0 in labels with no predicted samples. Use `zero_division` parameter to control this behavior.\n",
      "  _warn_prf(average, modifier, msg_start, len(result))\n",
      "c:\\ProgramData\\Anaconda3\\lib\\site-packages\\sklearn\\metrics\\_classification.py:1344: UndefinedMetricWarning: Precision and F-score are ill-defined and being set to 0.0 in labels with no predicted samples. Use `zero_division` parameter to control this behavior.\n",
      "  _warn_prf(average, modifier, msg_start, len(result))\n",
      "[Parallel(n_jobs=-1)]: Using backend LokyBackend with 12 concurrent workers.\n"
     ]
    },
    {
     "name": "stdout",
     "output_type": "stream",
     "text": [
      "K-Fold #8\n",
      "Mean negativities for all classes: [0.36275191288799746, 0.33168314030522567, 0.08713220771685853]\n",
      "Mean entropies for all classes: [3.4610628621607387e-15, 3.733092149267522e-15, 3.705933224641543e-15]\n",
      "              precision    recall  f1-score   support\n",
      "\n",
      "           0       0.00      0.00      0.00         5\n",
      "           1       0.00      0.00      0.00         5\n",
      "           2       0.38      0.60      0.46         5\n",
      "\n",
      "    accuracy                           0.20        15\n",
      "   macro avg       0.12      0.20      0.15        15\n",
      "weighted avg       0.12      0.20      0.15        15\n",
      "\n",
      "-------------------------------------------------------------------------------------------------------------------\n"
     ]
    },
    {
     "name": "stderr",
     "output_type": "stream",
     "text": [
      "[Parallel(n_jobs=-1)]: Done   3 out of   3 | elapsed:  1.0min finished\n",
      "[Parallel(n_jobs=-1)]: Using backend LokyBackend with 12 concurrent workers.\n"
     ]
    },
    {
     "name": "stdout",
     "output_type": "stream",
     "text": [
      "K-Fold #9\n",
      "Mean negativities for all classes: [0.3689496899537163, 0.31170327087958644, 0.0876598348616502]\n",
      "Mean entropies for all classes: [3.629321694414938e-15, 3.718280547219387e-15, 4.177997191585757e-15]\n",
      "              precision    recall  f1-score   support\n",
      "\n",
      "           0       0.00      0.00      0.00         5\n",
      "           1       0.00      0.00      0.00         5\n",
      "           2       0.33      0.60      0.43         5\n",
      "\n",
      "    accuracy                           0.20        15\n",
      "   macro avg       0.11      0.20      0.14        15\n",
      "weighted avg       0.11      0.20      0.14        15\n",
      "\n",
      "-------------------------------------------------------------------------------------------------------------------\n",
      "AVG: Scores = 0.2733333333333333 F1-Scores = 0.23845794728147668 Negativity = [0.2555738687731213, 0.25647383001024343, 0.26490799801963494] Entropy = [3.780466025700777e-15, 2.9052603626217857e-15, 3.490681151188163e-15]\n"
     ]
    },
    {
     "name": "stderr",
     "output_type": "stream",
     "text": [
      "[Parallel(n_jobs=-1)]: Done   3 out of   3 | elapsed:  1.0min finished\n",
      "[Parallel(n_jobs=-1)]: Using backend LokyBackend with 12 concurrent workers.\n"
     ]
    },
    {
     "name": "stdout",
     "output_type": "stream",
     "text": [
      "K-Fold #0\n",
      "Mean negativities for all classes: [0.3616135071940055, 0.3557252714798226, 0.08688264559346548]\n",
      "Mean entropies for all classes: [3.802176029689436e-15, 3.2620453318126993e-15, 3.68104611585517e-15]\n",
      "              precision    recall  f1-score   support\n",
      "\n",
      "           0       0.25      0.20      0.22         5\n",
      "           1       0.00      0.00      0.00         5\n",
      "           2       0.40      0.80      0.53         5\n",
      "\n",
      "    accuracy                           0.33        15\n",
      "   macro avg       0.22      0.33      0.25        15\n",
      "weighted avg       0.22      0.33      0.25        15\n",
      "\n",
      "-------------------------------------------------------------------------------------------------------------------\n"
     ]
    },
    {
     "name": "stderr",
     "output_type": "stream",
     "text": [
      "[Parallel(n_jobs=-1)]: Done   3 out of   3 | elapsed:  1.0min finished\n",
      "[Parallel(n_jobs=-1)]: Using backend LokyBackend with 12 concurrent workers.\n"
     ]
    },
    {
     "name": "stdout",
     "output_type": "stream",
     "text": [
      "K-Fold #1\n",
      "Mean negativities for all classes: [0.35453509221581453, 0.34395804763814436, 0.08741932125209122]\n",
      "Mean entropies for all classes: [4.45845689966993e-15, 3.696291475804502e-15, 3.624465881207069e-15]\n",
      "              precision    recall  f1-score   support\n",
      "\n",
      "           0       1.00      0.20      0.33         5\n",
      "           1       0.00      0.00      0.00         5\n",
      "           2       0.36      0.80      0.50         5\n",
      "\n",
      "    accuracy                           0.33        15\n",
      "   macro avg       0.45      0.33      0.28        15\n",
      "weighted avg       0.45      0.33      0.28        15\n",
      "\n",
      "-------------------------------------------------------------------------------------------------------------------\n"
     ]
    },
    {
     "name": "stderr",
     "output_type": "stream",
     "text": [
      "[Parallel(n_jobs=-1)]: Done   3 out of   3 | elapsed:  1.0min finished\n",
      "[Parallel(n_jobs=-1)]: Using backend LokyBackend with 12 concurrent workers.\n"
     ]
    },
    {
     "name": "stdout",
     "output_type": "stream",
     "text": [
      "K-Fold #2\n",
      "Mean negativities for all classes: [0.36289596221438813, 0.3229421580939693, 0.08697702618067828]\n",
      "Mean entropies for all classes: [3.1987594361762398e-15, 3.5201669204975278e-15, 3.883438754316711e-15]\n",
      "              precision    recall  f1-score   support\n",
      "\n",
      "           0       1.00      0.20      0.33         5\n",
      "           1       0.00      0.00      0.00         5\n",
      "           2       0.30      0.60      0.40         5\n",
      "\n",
      "    accuracy                           0.27        15\n",
      "   macro avg       0.43      0.27      0.24        15\n",
      "weighted avg       0.43      0.27      0.24        15\n",
      "\n",
      "-------------------------------------------------------------------------------------------------------------------\n"
     ]
    },
    {
     "name": "stderr",
     "output_type": "stream",
     "text": [
      "[Parallel(n_jobs=-1)]: Done   3 out of   3 | elapsed:  1.0min finished\n",
      "[Parallel(n_jobs=-1)]: Using backend LokyBackend with 12 concurrent workers.\n"
     ]
    },
    {
     "name": "stdout",
     "output_type": "stream",
     "text": [
      "K-Fold #3\n",
      "Mean negativities for all classes: [0.36343112150380347, 0.31722703210133646, 0.08676064334532199]\n",
      "Mean entropies for all classes: [3.455608880146881e-15, 4.708470456452557e-15, 3.702127882318487e-15]\n",
      "              precision    recall  f1-score   support\n",
      "\n",
      "           0       0.00      0.00      0.00         5\n",
      "           1       0.00      0.00      0.00         5\n",
      "           2       0.29      0.40      0.33         5\n",
      "\n",
      "    accuracy                           0.13        15\n",
      "   macro avg       0.10      0.13      0.11        15\n",
      "weighted avg       0.10      0.13      0.11        15\n",
      "\n",
      "-------------------------------------------------------------------------------------------------------------------\n"
     ]
    },
    {
     "name": "stderr",
     "output_type": "stream",
     "text": [
      "[Parallel(n_jobs=-1)]: Done   3 out of   3 | elapsed:  1.0min finished\n",
      "[Parallel(n_jobs=-1)]: Using backend LokyBackend with 12 concurrent workers.\n"
     ]
    },
    {
     "name": "stdout",
     "output_type": "stream",
     "text": [
      "K-Fold #4\n",
      "Mean negativities for all classes: [0.36395954318619517, 0.35755415812192165, 0.08676138356234961]\n",
      "Mean entropies for all classes: [3.2368259445798327e-15, 4.16377123559801e-15, 3.559058014862371e-15]\n",
      "              precision    recall  f1-score   support\n",
      "\n",
      "           0       0.00      0.00      0.00         5\n",
      "           1       0.00      0.00      0.00         5\n",
      "           2       0.36      0.80      0.50         5\n",
      "\n",
      "    accuracy                           0.27        15\n",
      "   macro avg       0.12      0.27      0.17        15\n",
      "weighted avg       0.12      0.27      0.17        15\n",
      "\n",
      "-------------------------------------------------------------------------------------------------------------------\n"
     ]
    },
    {
     "name": "stderr",
     "output_type": "stream",
     "text": [
      "[Parallel(n_jobs=-1)]: Done   3 out of   3 | elapsed:  1.0min finished\n",
      "[Parallel(n_jobs=-1)]: Using backend LokyBackend with 12 concurrent workers.\n"
     ]
    },
    {
     "name": "stdout",
     "output_type": "stream",
     "text": [
      "K-Fold #5\n",
      "Mean negativities for all classes: [0.3645944193513114, 0.3323938301641204, 0.08739024438450685]\n",
      "Mean entropies for all classes: [4.422484560074714e-15, 4.029772725828998e-15, 3.1413026970016315e-15]\n",
      "              precision    recall  f1-score   support\n",
      "\n",
      "           0       1.00      0.40      0.57         5\n",
      "           1       0.00      0.00      0.00         5\n",
      "           2       0.30      0.60      0.40         5\n",
      "\n",
      "    accuracy                           0.33        15\n",
      "   macro avg       0.43      0.33      0.32        15\n",
      "weighted avg       0.43      0.33      0.32        15\n",
      "\n",
      "-------------------------------------------------------------------------------------------------------------------\n"
     ]
    },
    {
     "name": "stderr",
     "output_type": "stream",
     "text": [
      "[Parallel(n_jobs=-1)]: Done   3 out of   3 | elapsed:  1.0min finished\n",
      "[Parallel(n_jobs=-1)]: Using backend LokyBackend with 12 concurrent workers.\n"
     ]
    },
    {
     "name": "stdout",
     "output_type": "stream",
     "text": [
      "K-Fold #6\n",
      "Mean negativities for all classes: [0.35626394907915543, 0.36618389246375116, 0.08608422749706374]\n",
      "Mean entropies for all classes: [3.4467852623111197e-15, 3.3496798613374877e-15, 3.4516980527568377e-15]\n",
      "              precision    recall  f1-score   support\n",
      "\n",
      "           0       0.00      0.00      0.00         5\n",
      "           1       0.00      0.00      0.00         5\n",
      "           2       0.31      0.80      0.44         5\n",
      "\n",
      "    accuracy                           0.27        15\n",
      "   macro avg       0.10      0.27      0.15        15\n",
      "weighted avg       0.10      0.27      0.15        15\n",
      "\n",
      "-------------------------------------------------------------------------------------------------------------------\n"
     ]
    },
    {
     "name": "stderr",
     "output_type": "stream",
     "text": [
      "[Parallel(n_jobs=-1)]: Done   3 out of   3 | elapsed:  1.0min finished\n",
      "c:\\ProgramData\\Anaconda3\\lib\\site-packages\\sklearn\\metrics\\_classification.py:1344: UndefinedMetricWarning: Precision and F-score are ill-defined and being set to 0.0 in labels with no predicted samples. Use `zero_division` parameter to control this behavior.\n",
      "  _warn_prf(average, modifier, msg_start, len(result))\n",
      "c:\\ProgramData\\Anaconda3\\lib\\site-packages\\sklearn\\metrics\\_classification.py:1344: UndefinedMetricWarning: Precision and F-score are ill-defined and being set to 0.0 in labels with no predicted samples. Use `zero_division` parameter to control this behavior.\n",
      "  _warn_prf(average, modifier, msg_start, len(result))\n",
      "c:\\ProgramData\\Anaconda3\\lib\\site-packages\\sklearn\\metrics\\_classification.py:1344: UndefinedMetricWarning: Precision and F-score are ill-defined and being set to 0.0 in labels with no predicted samples. Use `zero_division` parameter to control this behavior.\n",
      "  _warn_prf(average, modifier, msg_start, len(result))\n",
      "[Parallel(n_jobs=-1)]: Using backend LokyBackend with 12 concurrent workers.\n"
     ]
    },
    {
     "name": "stdout",
     "output_type": "stream",
     "text": [
      "K-Fold #7\n",
      "Mean negativities for all classes: [0.3679238642695782, 0.3434684779255806, 0.08726669789417502]\n",
      "Mean entropies for all classes: [3.321349528604254e-15, 4.021734492977452e-15, 3.2603246889431303e-15]\n",
      "              precision    recall  f1-score   support\n",
      "\n",
      "           0       0.00      0.00      0.00         5\n",
      "           1       0.00      0.00      0.00         5\n",
      "           2       0.33      0.80      0.47         5\n",
      "\n",
      "    accuracy                           0.27        15\n",
      "   macro avg       0.11      0.27      0.16        15\n",
      "weighted avg       0.11      0.27      0.16        15\n",
      "\n",
      "-------------------------------------------------------------------------------------------------------------------\n"
     ]
    },
    {
     "name": "stderr",
     "output_type": "stream",
     "text": [
      "[Parallel(n_jobs=-1)]: Done   3 out of   3 | elapsed:  1.0min finished\n",
      "c:\\ProgramData\\Anaconda3\\lib\\site-packages\\sklearn\\metrics\\_classification.py:1344: UndefinedMetricWarning: Precision and F-score are ill-defined and being set to 0.0 in labels with no predicted samples. Use `zero_division` parameter to control this behavior.\n",
      "  _warn_prf(average, modifier, msg_start, len(result))\n",
      "c:\\ProgramData\\Anaconda3\\lib\\site-packages\\sklearn\\metrics\\_classification.py:1344: UndefinedMetricWarning: Precision and F-score are ill-defined and being set to 0.0 in labels with no predicted samples. Use `zero_division` parameter to control this behavior.\n",
      "  _warn_prf(average, modifier, msg_start, len(result))\n",
      "c:\\ProgramData\\Anaconda3\\lib\\site-packages\\sklearn\\metrics\\_classification.py:1344: UndefinedMetricWarning: Precision and F-score are ill-defined and being set to 0.0 in labels with no predicted samples. Use `zero_division` parameter to control this behavior.\n",
      "  _warn_prf(average, modifier, msg_start, len(result))\n",
      "[Parallel(n_jobs=-1)]: Using backend LokyBackend with 12 concurrent workers.\n"
     ]
    },
    {
     "name": "stdout",
     "output_type": "stream",
     "text": [
      "K-Fold #8\n",
      "Mean negativities for all classes: [0.35478440494241464, 0.34798293212777476, 0.08709848806690769]\n",
      "Mean entropies for all classes: [3.698869339048036e-15, 3.8989652858917374e-15, 3.5429308442238118e-15]\n",
      "              precision    recall  f1-score   support\n",
      "\n",
      "           0       0.00      0.00      0.00         5\n",
      "           1       0.00      0.00      0.00         5\n",
      "           2       0.36      0.80      0.50         5\n",
      "\n",
      "    accuracy                           0.27        15\n",
      "   macro avg       0.12      0.27      0.17        15\n",
      "weighted avg       0.12      0.27      0.17        15\n",
      "\n",
      "-------------------------------------------------------------------------------------------------------------------\n",
      "K-Fold #9\n",
      "Mean negativities for all classes: [0.3606516022385187, 0.2993043629850375, 0.08785797555533811]\n",
      "Mean entropies for all classes: [4.0843938313130095e-15, 4.282615215945584e-15, 3.1677886632375447e-15]\n",
      "              precision    recall  f1-score   support\n",
      "\n",
      "           0       1.00      0.40      0.57         5\n",
      "           1       0.00      0.00      0.00         5\n",
      "           2       0.25      0.40      0.31         5\n",
      "\n",
      "    accuracy                           0.27        15\n",
      "   macro avg       0.42      0.27      0.29        15\n",
      "weighted avg       0.42      0.27      0.29        15\n",
      "\n",
      "-------------------------------------------------------------------------------------------------------------------\n",
      "AVG: Scores = 0.2733333333333333 F1-Scores = 0.21403792286145232 Negativity = [0.26807380808909786, 0.26197082036868335, 0.25760504882967855] Entropy = [3.5817558257857686e-15, 3.926404752227167e-15, 3.534121703663493e-15]\n",
      "CPU times: total: 17.7 s\n",
      "Wall time: 3h 27min 53s\n"
     ]
    },
    {
     "name": "stderr",
     "output_type": "stream",
     "text": [
      "[Parallel(n_jobs=-1)]: Done   3 out of   3 | elapsed:  1.0min finished\n"
     ]
    }
   ],
   "source": [
    "%%time\n",
    "scores_list = []\n",
    "f1scores_list = []\n",
    "negativities_list = []\n",
    "for SEED in range(n_times_kfold):\n",
    "    scores, f1scores, output_dict = execute_training_test_k_fold(\n",
    "                    X, \n",
    "                    y, \n",
    "                    k_folds=k_times_fold,\n",
    "                    random_seed = SEED, \n",
    "                    classifier_function=classifier_function, \n",
    "                    dic_classifier_params=dic_classifier_params,\n",
    "                    one_vs_classifier=OneVsRestClassifier, \n",
    "                    dic_training_params=dic_training_params,\n",
    "                    print_each_fold_metric=True,\n",
    "                    print_avg_metric=True)\n",
    "    scores_list.append(scores)\n",
    "    f1scores_list.append(f1scores)\n",
    "    negativities_list.append(output_dict[\"negativities\"])"
   ]
  },
  {
   "cell_type": "code",
   "execution_count": 3,
   "id": "7f7363b8",
   "metadata": {},
   "outputs": [
    {
     "name": "stdout",
     "output_type": "stream",
     "text": [
      "Media Score dos N K-Fold 0.2656666666666667\n",
      "Maior Score dos K-Fold 0.31333333333333335\n",
      "Min Score dos K-Fold 0.23333333333333334\n",
      "Media Score dos K-Fold [0.26, 0.2733333333333334, 0.26, 0.24, 0.25333333333333335, 0.2866666666666667, 0.31333333333333335, 0.2800000000000001, 0.2666666666666667, 0.24000000000000005, 0.28, 0.28, 0.2733333333333333, 0.26, 0.23333333333333334, 0.23333333333333334, 0.24666666666666667, 0.2866666666666667, 0.2733333333333333, 0.2733333333333333]\n",
      "\n",
      "\n",
      "[[0.2, 0.26666666666666666, 0.26666666666666666, 0.3333333333333333, 0.2, 0.3333333333333333, 0.3333333333333333, 0.2, 0.2, 0.26666666666666666], [0.2, 0.13333333333333333, 0.2, 0.3333333333333333, 0.4, 0.26666666666666666, 0.3333333333333333, 0.3333333333333333, 0.2, 0.3333333333333333], [0.26666666666666666, 0.13333333333333333, 0.26666666666666666, 0.3333333333333333, 0.26666666666666666, 0.26666666666666666, 0.3333333333333333, 0.2, 0.2, 0.3333333333333333], [0.3333333333333333, 0.13333333333333333, 0.26666666666666666, 0.3333333333333333, 0.26666666666666666, 0.4, 0.13333333333333333, 0.13333333333333333, 0.13333333333333333, 0.26666666666666666], [0.2, 0.4666666666666667, 0.2, 0.26666666666666666, 0.26666666666666666, 0.2, 0.26666666666666666, 0.13333333333333333, 0.3333333333333333, 0.2], [0.3333333333333333, 0.2, 0.2, 0.26666666666666666, 0.26666666666666666, 0.4, 0.3333333333333333, 0.26666666666666666, 0.3333333333333333, 0.26666666666666666], [0.26666666666666666, 0.4, 0.26666666666666666, 0.26666666666666666, 0.2, 0.26666666666666666, 0.26666666666666666, 0.3333333333333333, 0.4666666666666667, 0.4], [0.4, 0.26666666666666666, 0.2, 0.2, 0.26666666666666666, 0.3333333333333333, 0.4, 0.2, 0.2, 0.3333333333333333], [0.2, 0.2, 0.3333333333333333, 0.3333333333333333, 0.4, 0.26666666666666666, 0.13333333333333333, 0.26666666666666666, 0.26666666666666666, 0.26666666666666666], [0.4, 0.26666666666666666, 0.4, 0.2, 0.06666666666666667, 0.26666666666666666, 0.26666666666666666, 0.13333333333333333, 0.2, 0.2], [0.26666666666666666, 0.26666666666666666, 0.3333333333333333, 0.3333333333333333, 0.3333333333333333, 0.26666666666666666, 0.4, 0.26666666666666666, 0.06666666666666667, 0.26666666666666666], [0.3333333333333333, 0.06666666666666667, 0.3333333333333333, 0.3333333333333333, 0.2, 0.4, 0.4666666666666667, 0.06666666666666667, 0.4, 0.2], [0.13333333333333333, 0.13333333333333333, 0.13333333333333333, 0.4, 0.3333333333333333, 0.2, 0.4, 0.3333333333333333, 0.3333333333333333, 0.3333333333333333], [0.4666666666666667, 0.3333333333333333, 0.2, 0.26666666666666666, 0.2, 0.3333333333333333, 0.26666666666666666, 0.2, 0.13333333333333333, 0.2], [0.2, 0.06666666666666667, 0.3333333333333333, 0.2, 0.4, 0.13333333333333333, 0.13333333333333333, 0.3333333333333333, 0.2, 0.3333333333333333], [0.4, 0.2, 0.2, 0.13333333333333333, 0.06666666666666667, 0.2, 0.13333333333333333, 0.26666666666666666, 0.3333333333333333, 0.4], [0.2, 0.3333333333333333, 0.3333333333333333, 0.13333333333333333, 0.2, 0.2, 0.2, 0.26666666666666666, 0.2, 0.4], [0.3333333333333333, 0.13333333333333333, 0.4, 0.4, 0.13333333333333333, 0.3333333333333333, 0.26666666666666666, 0.4, 0.2, 0.26666666666666666], [0.26666666666666666, 0.3333333333333333, 0.4, 0.26666666666666666, 0.26666666666666666, 0.26666666666666666, 0.26666666666666666, 0.26666666666666666, 0.2, 0.2], [0.3333333333333333, 0.3333333333333333, 0.26666666666666666, 0.13333333333333333, 0.26666666666666666, 0.3333333333333333, 0.26666666666666666, 0.26666666666666666, 0.26666666666666666, 0.26666666666666666]]\n"
     ]
    }
   ],
   "source": [
    "print(\"Media Score dos N K-Fold\", np.mean([np.mean(i) for i in scores_list]))\n",
    "print(\"Maior Score dos K-Fold\", max([np.mean(i) for i in scores_list]))\n",
    "print(\"Min Score dos K-Fold\", min([np.mean(i) for i in scores_list]))\n",
    "\n",
    "print(\"Media Score dos K-Fold\", [np.mean(i) for i in scores_list])\n",
    "print()\n",
    "print()\n",
    "print(scores_list)"
   ]
  },
  {
   "cell_type": "code",
   "execution_count": 4,
   "id": "49ad1fc9",
   "metadata": {},
   "outputs": [
    {
     "name": "stdout",
     "output_type": "stream",
     "text": [
      "Media F1Score dos N K-Fold 0.2187936177885868\n",
      "Maior F1Score dos K-Fold 0.24801662905378072\n",
      "Maior F1Score dos K-Fold 0.18280118030118028\n",
      "Media F1Score dos K-Fold [0.20501028211554528, 0.2213903688903689, 0.21791931752458074, 0.1954770393005687, 0.2256151691445809, 0.23231870525988177, 0.24801662905378072, 0.22825091575091574, 0.22628032470911724, 0.1917195767195767, 0.23273052655405602, 0.22916277622159975, 0.21540261853729348, 0.22760175010175007, 0.18280118030118028, 0.19258541023246906, 0.21301086712851416, 0.2380830280830281, 0.23845794728147668, 0.21403792286145232]\n",
      "\n",
      "\n",
      "[[0.12499999999999999, 0.17777777777777778, 0.26495726495726496, 0.2888888888888889, 0.12499999999999999, 0.17543859649122806, 0.3238095238095238, 0.13333333333333333, 0.14285714285714285, 0.29304029304029305], [0.12499999999999999, 0.08888888888888889, 0.12499999999999999, 0.3238095238095238, 0.3194444444444445, 0.19047619047619047, 0.3090909090909091, 0.1851851851851852, 0.2136752136752137, 0.3333333333333333], [0.1666666666666667, 0.10256410256410257, 0.22023809523809523, 0.3333333333333333, 0.3015873015873016, 0.2380952380952381, 0.28571428571428575, 0.22222222222222224, 0.13333333333333333, 0.17543859649122806], [0.30158730158730157, 0.1111111111111111, 0.1568627450980392, 0.2619047619047619, 0.24444444444444446, 0.3571428571428572, 0.08888888888888889, 0.1717171717171717, 0.08333333333333336, 0.17777777777777778], [0.13333333333333333, 0.36274509803921573, 0.14285714285714285, 0.29304029304029305, 0.3015873015873016, 0.20634920634920637, 0.2380952380952381, 0.1623931623931624, 0.2619047619047619, 0.15384615384615383], [0.1851851851851852, 0.11764705882352942, 0.14285714285714285, 0.1568627450980392, 0.3015873015873016, 0.3682539682539683, 0.2888888888888889, 0.22857142857142856, 0.2888888888888889, 0.24444444444444446], [0.24444444444444446, 0.3928571428571428, 0.17777777777777778, 0.1568627450980392, 0.13333333333333333, 0.14035087719298242, 0.2380952380952381, 0.3003663003663004, 0.4047619047619048, 0.2913165266106443], [0.3571428571428572, 0.1666666666666667, 0.11111111111111112, 0.20634920634920637, 0.2380952380952381, 0.27777777777777785, 0.3717948717948718, 0.12499999999999999, 0.14285714285714285, 0.28571428571428575], [0.14285714285714285, 0.12499999999999999, 0.2679738562091503, 0.301994301994302, 0.28654970760233917, 0.17777777777777778, 0.15873015873015875, 0.2490842490842491, 0.26495726495726496, 0.28787878787878785], [0.38095238095238093, 0.14814814814814814, 0.3571428571428572, 0.13333333333333333, 0.047619047619047616, 0.17777777777777778, 0.23611111111111108, 0.1111111111111111, 0.12499999999999999, 0.20000000000000004], [0.1666666666666667, 0.2558922558922559, 0.2888888888888889, 0.2679738562091503, 0.1851851851851852, 0.1666666666666667, 0.3571428571428572, 0.25396825396825395, 0.08333333333333333, 0.3015873015873016], [0.27777777777777785, 0.09523809523809525, 0.3238095238095238, 0.273015873015873, 0.13333333333333333, 0.29629629629629634, 0.3865546218487395, 0.05555555555555555, 0.30718954248366015, 0.14285714285714285], [0.1111111111111111, 0.08333333333333336, 0.09523809523809523, 0.2913165266106443, 0.2619047619047619, 0.24603174603174605, 0.3035714285714286, 0.28571428571428575, 0.3003663003663004, 0.17543859649122806], [0.4404761904761904, 0.3333333333333333, 0.14285714285714285, 0.23611111111111108, 0.13333333333333333, 0.25925925925925924, 0.24444444444444446, 0.13333333333333333, 0.1111111111111111, 0.2417582417582418], [0.15384615384615383, 0.05555555555555555, 0.1851851851851852, 0.12499999999999999, 0.29629629629629634, 0.08888888888888889, 0.1623931623931624, 0.25925925925925924, 0.20000000000000004, 0.30158730158730157], [0.3386243386243386, 0.13333333333333333, 0.20634920634920637, 0.08888888888888889, 0.047619047619047616, 0.11764705882352942, 0.1623931623931624, 0.19047619047619047, 0.3333333333333333, 0.30718954248366015], [0.20634920634920637, 0.27777777777777785, 0.2888888888888889, 0.09523809523809523, 0.11764705882352942, 0.2045454545454545, 0.20634920634920637, 0.2261904761904762, 0.15384615384615383, 0.35327635327635326], [0.3333333333333333, 0.08333333333333336, 0.3444444444444444, 0.3571428571428572, 0.09523809523809523, 0.2738095238095238, 0.1666666666666667, 0.3444444444444444, 0.13333333333333333, 0.2490842490842491], [0.2490842490842491, 0.2679738562091503, 0.3682539682539683, 0.29304029304029305, 0.25396825396825395, 0.24444444444444446, 0.1666666666666667, 0.24444444444444446, 0.15384615384615383, 0.14285714285714285], [0.2518518518518518, 0.27777777777777785, 0.24444444444444446, 0.1111111111111111, 0.1666666666666667, 0.3238095238095238, 0.14814814814814814, 0.1568627450980392, 0.1666666666666667, 0.29304029304029305]]\n"
     ]
    }
   ],
   "source": [
    "print(\"Media F1Score dos N K-Fold\", np.mean([np.mean(i) for i in f1scores_list]))\n",
    "print(\"Maior F1Score dos K-Fold\", max([np.mean(i) for i in f1scores_list]))\n",
    "print(\"Maior F1Score dos K-Fold\", min([np.mean(i) for i in f1scores_list]))\n",
    "\n",
    "print(\"Media F1Score dos K-Fold\", [np.mean(i) for i in f1scores_list])\n",
    "print()\n",
    "print()\n",
    "print(f1scores_list)"
   ]
  },
  {
   "cell_type": "code",
   "execution_count": 5,
   "id": "9fa72621",
   "metadata": {},
   "outputs": [
    {
     "name": "stdout",
     "output_type": "stream",
     "text": [
      "Media Negativity dos N K-Fold [0.3614791003192892, 0.3321431385334741, 0.08968668958321832]\n",
      "\n",
      "\n",
      "[[[0.3628874093456033, 0.3559671363268025, 0.3564019021011771, 0.3602858815709108, 0.37216301159045706, 0.3626527538521345, 0.3739681726726917, 0.36760064860725544, 0.36201904551728903, 0.34991396547140075], [0.3299397882482587, 0.3314419010634532, 0.3372315412635066, 0.3022679522026778, 0.34989551976529104, 0.3581123170706754, 0.32480507917285606, 0.3371457387505464, 0.3425817181635765, 0.3060640472754334], [0.08689446552255028, 0.08724854330465887, 0.08670043355083576, 0.08695540705686439, 0.08683499084288285, 0.0869647892799318, 0.08697102602154493, 0.08717471727646796, 0.08751274250862255, 0.08684543094406179]], [[0.36148163810765166, 0.3665509041680294, 0.3786742438644543, 0.3436907558687958, 0.3654707390564672, 0.36543303260558085, 0.3575189034746218, 0.35640751915377245, 0.3581602896654271, 0.36592851713587243], [0.3088843887656952, 0.3130625570221502, 0.3394769567949116, 0.31551790645847544, 0.3498970510350638, 0.3116276486202563, 0.3322523091350239, 0.3647627351595276, 0.3144121780625794, 0.3274343814343212], [0.08671781346755107, 0.0872875612432111, 0.08754387875315398, 0.08665872128026943, 0.08749076955216552, 0.0868830533330685, 0.08706740830021878, 0.08621598482826463, 0.08702383918399915, 0.08707783914885166]], [[0.3775446754177565, 0.36129324540804836, 0.35747835540358774, 0.35352435791007186, 0.35536421833262577, 0.36202351541429906, 0.36268523787568135, 0.3682323099133299, 0.36460911711132354, 0.3505191049956485], [0.34785368498484837, 0.3040954873292986, 0.32622324563266647, 0.32669246303246335, 0.32427209534952117, 0.31570983888431403, 0.33650352841682013, 0.3144877335175398, 0.3386632798540085, 0.36299885343791], [0.08751666149948555, 0.08739787589935162, 0.0868708436092318, 0.08705956032179477, 0.08690499371471287, 0.08676554385127394, 0.08707902101339227, 0.08688421547239536, 0.08757967328522162, 0.08595171336835751]], [[0.3659802145217096, 0.3575337521275658, 0.3564705728204477, 0.35956021918203007, 0.3698796931120761, 0.36308834005905183, 0.3601543510756653, 0.3519044210711521, 0.3679192409379543, 0.36292248619524603], [0.3296971687697267, 0.32100418580654433, 0.3630495220844077, 0.34770316686870456, 0.32296388533989634, 0.3348854970534148, 0.3138307889415507, 0.30626063635342765, 0.3332902897325311, 0.31356487215674345], [0.087692083691576, 0.08688524178082864, 0.08577083795118898, 0.08717044921403903, 0.08739211919872238, 0.08688276428070286, 0.08736757027145936, 0.08694568226804608, 0.08701673172580837, 0.08693457830041673]], [[0.35526407501504487, 0.355066985465005, 0.3685302142609945, 0.35824788279673625, 0.3507821149884798, 0.37178796199905434, 0.36518626123319947, 0.35731482935615294, 0.3617534852889837, 0.3627359931846636], [0.33635589291642337, 0.3521401078354465, 0.33128066145349316, 0.3077750815473336, 0.31796714067469617, 0.31307898931677464, 0.33619082266714495, 0.3233283546236939, 0.34783131227303077, 0.3358097719501522], [0.08654254591397821, 0.08702986297160388, 0.08728396326203519, 0.08661402405368937, 0.08659342447135081, 0.08788655990608189, 0.08739084227441621, 0.08661917883757417, 0.08711553201205374, 0.08677966240804559]], [[0.3597730162937926, 0.3688821539702905, 0.36004400988323493, 0.36592407878073385, 0.3519259482064693, 0.35953102443240603, 0.36315473912014623, 0.35517851597880096, 0.3609970123510033, 0.3660582203870436], [0.36100817242061256, 0.33911221699663774, 0.297807629834193, 0.3356040602617962, 0.3161395634063764, 0.3382127668765901, 0.33286463378733716, 0.33473083046355606, 0.3460698443561489, 0.3469500440113704], [0.08652251643129813, 0.0875567751144437, 0.0872760985077084, 0.08659730996140232, 0.08695087752221546, 0.08698239143952881, 0.08740225010966816, 0.08670110528631625, 0.08706648519917737, 0.08705051615386056]], [[0.36671110657444655, 0.36547999082902316, 0.3637806394316449, 0.36147751286176294, 0.3642119729589285, 0.37046194603296756, 0.35577989560164264, 0.35206807621178543, 0.3425871140414365, 0.37186673514883417], [0.30841116280131803, 0.3247746847444729, 0.3217954110195257, 0.34440621799417037, 0.3229942362920089, 0.3444401737902325, 0.31835537567055266, 0.3420737790089632, 0.3463240160127841, 0.35922289674392366], [0.08638006964436501, 0.08745721668078224, 0.08690646521233857, 0.08719242567703675, 0.08771475042272187, 0.08717143075533008, 0.08668485240177866, 0.08677608166954816, 0.08638501834631747, 0.08773723314296519]], [[0.3578741222722754, 0.36653119554692093, 0.36574737837860505, 0.36177866278033444, 0.35868577981851807, 0.35865983475419555, 0.3684611260027284, 0.362176269125845, 0.3644311714373141, 0.3572601571265079], [0.33267429859726233, 0.32592498815057797, 0.34585011715336267, 0.3208203631336672, 0.33504316983942595, 0.3529506080328892, 0.32348750425086686, 0.34978805697730286, 0.3033457729970926, 0.3515370192097123], [0.0867702617565809, 0.08759692721472104, 0.08646565708269037, 0.0865242055249225, 0.08724567218344002, 0.0873168950305793, 0.08720713124958532, 0.08697628364634774, 0.08742556042880392, 0.08647784558613732]], [[0.36067598323751837, 0.3666581513782879, 0.34598687432889186, 0.36274266490785395, 0.3799117335702863, 0.354246372164795, 0.3670901701681949, 0.3567388943477369, 0.362706618161159, 0.3604447156773504], [0.3255550793936541, 0.3248709603265022, 0.3402389164192266, 0.3328946936765615, 0.3447316916207732, 0.3296687360931703, 0.32711824167836273, 0.3466471963699696, 0.34713428365851434, 0.3341627684300386], [0.08694175629823532, 0.08783027136797732, 0.08539839971140248, 0.08697312873812889, 0.08698673415030238, 0.08685537264247722, 0.0873477158486474, 0.0873506514522175, 0.08690396692243073, 0.08745621084116827]], [[0.35747011497769104, 0.35923657025115313, 0.35574606418475485, 0.366911378409762, 0.36502536207802927, 0.3524273072262354, 0.3658242465351552, 0.35687262226790395, 0.36852492760758987, 0.37256828937750525], [0.3000303933062482, 0.33898518773091424, 0.34934736830967333, 0.34094530832281555, 0.30566393758704263, 0.3560660350284736, 0.32174922991368965, 0.3321762533706539, 0.35248519009749923, 0.32807807153477353], [0.0870051558146159, 0.08740385767105675, 0.08607172478224703, 0.08740326386701795, 0.08708680754016324, 0.08651990959103517, 0.08769818444670298, 0.08702629284459291, 0.08674608740685, 0.0870653378345532]], [[0.35694439907209635, 0.3569130016683378, 0.3530836002141748, 0.36140098356861194, 0.3616944146902951, 0.374542408597818, 0.373870177640379, 0.35520178977268907, 0.37532408448464843, 0.3518533221446335], [0.3371559321777614, 0.3225960038765484, 0.3407238901139565, 0.350233411290723, 0.3401538536120103, 0.3230022582502355, 0.31517167187364353, 0.332242195692059, 0.3486621674719637, 0.33424597876145], [0.08743952018889246, 0.08711672348491319, 0.08686169779585275, 0.0872015788240263, 0.08688095129086669, 0.08741496820728341, 0.08687627368373126, 0.08692072227218126, 0.3562826133982668, 0.0861299228361308]], [[0.3686635191359376, 0.34842767332029306, 0.3665635755663911, 0.36268221465872313, 0.3721948630180692, 0.35473160897485856, 0.35621352060414846, 0.3605173343001863, 0.3701845490950539, 0.3549434243228886], [0.3235470039453132, 0.3493975324344232, 0.3281853900888901, 0.3601594632651887, 0.3550156199001776, 0.3609072163289698, 0.3526202356032239, 0.30660014218017684, 0.34012407698285746, 0.3393459263218298], [0.087667764886157, 0.35168015928939356, 0.08769567475567862, 0.08729156614690667, 0.08675281471487935, 0.08614613784723026, 0.08669639563991995, 0.08687738776151581, 0.08773813474365243, 0.08717986988289729]], [[0.3488023861401189, 0.3636401668955399, 0.3635756617680424, 0.36660549271835274, 0.36193834003913855, 0.3640699146069198, 0.3550924341387388, 0.35089171225708876, 0.36776115612863375, 0.3675261223474192], [0.31928633118145094, 0.34309166354221265, 0.3153588378569957, 0.3627672981948671, 0.3499938209902361, 0.3016458040886196, 0.3169375620414567, 0.332447464531917, 0.3401370233630476, 0.36497026535605614], [0.0869062171534191, 0.08702782199642506, 0.08733886969279595, 0.08666256276900226, 0.08654362887129746, 0.08722040008177222, 0.08638446883417794, 0.08749413015582802, 0.08753300750336039, 0.08718561907483459]], [[0.3583318927388366, 0.34638360733062423, 0.361483723345939, 0.34694064333962077, 0.3645759365561412, 0.3670467428389688, 0.3647040802074908, 0.3614612220334805, 0.37498371770068456, 0.36689940724402725], [0.34077926854600815, 0.3111775153569451, 0.3292063754948041, 0.3427844338805513, 0.33214720848869644, 0.3488891673017766, 0.33577583453537563, 0.3223525619150668, 0.31158182625097663, 0.32505658315684854], [0.08697818947619686, 0.08626490527292188, 0.08720182945854595, 0.0857223301071846, 0.08705547432086673, 0.08702822354113747, 0.08741070106559169, 0.0871705001822645, 0.08783979228248677, 0.08737685166637635]], [[0.3664132549116116, 0.3568355529392344, 0.3613318575966088, 0.3524909735814138, 0.356670871250613, 0.37462603281104495, 0.35820468325232446, 0.3614506479440995, 0.3671002483246254, 0.3620009237283051], [0.29655135877154454, 0.3296566430682363, 0.3515587518622247, 0.34432186146328997, 0.3636202469902116, 0.32234608385966573, 0.32276025347940424, 0.35270780169380617, 0.2996442957877073, 0.3429354257714375], [0.0875002204474809, 0.08688895285763852, 0.08712274961576559, 0.08663708308547804, 0.08619099596640131, 0.08702544154242195, 0.08716996928807969, 0.08724099310686666, 0.08755740705667349, 0.08693406676875484]], [[0.35691867790731036, 0.3600470666447764, 0.35776510719719384, 0.36409742496419256, 0.3588412053010181, 0.36692129548284186, 0.3631375295649166, 0.34742521096214535, 0.3595184328212221, 0.37258071334251536], [0.31185327952920044, 0.3437822666483738, 0.34565268824344453, 0.3085141082273784, 0.32347463850202646, 0.3106357658267219, 0.3210219370965224, 0.3556925328431743, 0.32892872824220637, 0.3496849538010194], [0.08716825558929935, 0.08636091050127241, 0.08633160123683119, 0.08764534579791823, 0.08664167090852244, 0.08760818097665284, 0.08679609552878054, 0.08656909170253017, 0.08777154008711671, 0.08768272888773672]], [[0.3655360647076766, 0.3501924004599616, 0.36696439340943043, 0.36478612345107453, 0.34870338575655213, 0.3620114019858862, 0.37517346595465134, 0.357452937830546, 0.3610510577049014, 0.36071027363015234], [0.3015478540183712, 0.3291923836974258, 0.33174774659151285, 0.31653037744147844, 0.3095135048086382, 0.3275695053886487, 0.32454880604020386, 0.3474490886694879, 0.31670039369191877, 0.32302189078289606], [0.08746097353172716, 0.08687968487461385, 0.0867022096536647, 0.08672430514548225, 0.0868309658389748, 0.08674579548300286, 0.08763020827377901, 0.0864985137331543, 0.08694319527667237, 0.08760662804816512]], [[0.3631976968927244, 0.36141007904407074, 0.3442808624060007, 0.361283273097693, 0.36702508317567256, 0.357346722538206, 0.3673793169059771, 0.36734967220126297, 0.3561637521491523, 0.36241829195655656], [0.3326364745025032, 0.3338984788394938, 0.32672588939756514, 0.3187228430034619, 0.3075832338248318, 0.3234016243677864, 0.3461810533501145, 0.34838398077980554, 0.3162480896264706, 0.3413299102968944], [0.08643775163297522, 0.08683746109449195, 0.08655814062923903, 0.08732739451682124, 0.08728719673093252, 0.0872650355483947, 0.08755706812645728, 0.08714685490330044, 0.08663831022224842, 0.0872264648534939]], [[0.3468821319831518, 0.35897665431956216, 0.3585130190122406, 0.36066477898279176, 0.36270508811859137, 0.36057115059869754, 0.3662159876512843, 0.37161522331495817, 0.36275191288799746, 0.3689496899537163], [0.3334398054323848, 0.3233753290504772, 0.34906788718212156, 0.3339115131676427, 0.34950883432328583, 0.3187920366079168, 0.3426153548422378, 0.30944557275797663, 0.33168314030522567, 0.31170327087958644], [0.0863996689038274, 0.08706950666069102, 0.08714308786454276, 0.08708665792963019, 0.08696150910917196, 0.08691338055345489, 0.0866997245388357, 0.08684751356398417, 0.08713220771685853, 0.0876598348616502]], [[0.3616135071940055, 0.35453509221581453, 0.36289596221438813, 0.36343112150380347, 0.36395954318619517, 0.3645944193513114, 0.35626394907915543, 0.3679238642695782, 0.35478440494241464, 0.3606516022385187], [0.3557252714798226, 0.34395804763814436, 0.3229421580939693, 0.31722703210133646, 0.35755415812192165, 0.3323938301641204, 0.36618389246375116, 0.3434684779255806, 0.34798293212777476, 0.2993043629850375], [0.08688264559346548, 0.08741932125209122, 0.08697702618067828, 0.08676064334532199, 0.08676138356234961, 0.08739024438450685, 0.08608422749706374, 0.08726669789417502, 0.08709848806690769, 0.08785797555533811]]]\n"
     ]
    }
   ],
   "source": [
    "print(\"Media Negativity dos N K-Fold\", [np.mean([neg[i] for neg in negativities_list]) for i in range(len(set(y)))])\n",
    "\n",
    "print()\n",
    "print()\n",
    "print(negativities_list)"
   ]
  }
 ],
 "metadata": {
  "kernelspec": {
   "display_name": "Python 3",
   "language": "python",
   "name": "python3"
  },
  "language_info": {
   "codemirror_mode": {
    "name": "ipython",
    "version": 3
   },
   "file_extension": ".py",
   "mimetype": "text/x-python",
   "name": "python",
   "nbconvert_exporter": "python",
   "pygments_lexer": "ipython3",
   "version": "3.9.16"
  }
 },
 "nbformat": 4,
 "nbformat_minor": 5
}
