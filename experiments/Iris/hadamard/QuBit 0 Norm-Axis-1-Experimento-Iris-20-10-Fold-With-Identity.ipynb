{
 "cells": [
  {
   "cell_type": "code",
   "execution_count": 1,
   "id": "0db239e0",
   "metadata": {},
   "outputs": [
    {
     "name": "stderr",
     "output_type": "stream",
     "text": [
      "Intel(R) Extension for Scikit-learn* enabled (https://github.com/intel/scikit-learn-intelex)\n"
     ]
    }
   ],
   "source": [
    "import sys, os\n",
    "sys.path.append(os.path.abspath('../../../classifiers'))\n",
    "sys.path.append(os.path.abspath('../../../training'))\n",
    "sys.path.append(os.path.abspath('../../../validation'))\n",
    "from validation_functions import execute_training_test_k_fold\n",
    "from classifiers_ICQ import iqc_classifier\n",
    "\n",
    "from sklearn.multiclass import OneVsRestClassifier\n",
    "import numpy as np\n",
    "from sklearn import datasets\n",
    "\n",
    "iris = datasets.load_iris()\n",
    "\n",
    "X = iris.data[:, [0,1,2,3]]\n",
    "y = iris.target\n",
    "\n",
    "classifier_function = iqc_classifier\n",
    "dic_classifier_params = {}\n",
    "dic_classifier_params[\"sigma_q_params\"] = [1,1,1,1]\n",
    "dic_classifier_params[\"use_polar_coordinates_on_sigma_q\"] = False\n",
    "dic_classifier_params[\"load_inputvector_env_state\"] = False\n",
    "dic_classifier_params[\"normalize_axis\"] = 1\n",
    "dic_classifier_params[\"ending_hadamard_gate\"] = 0\n",
    "\n",
    "dic_training_params = {\"max_iter\": 1000,\n",
    "    \"accuracy_succ\": 0.99,\n",
    "    \"plot_graphs_and_metrics\": False,\n",
    "    \"plot_graphs_in_classifier\": False,\n",
    "    \"random_seed\": 1,\n",
    "    \"learning_rate\": 0.009,\n",
    "    \"do_classes_refit\":True,\n",
    "    \"reset_weights_epoch\":0,\n",
    "    \"batch\":0}\n",
    "\n",
    "n_times_kfold = 20\n",
    "k_times_fold = 10"
   ]
  },
  {
   "cell_type": "code",
   "execution_count": 2,
   "id": "ca21ba5e",
   "metadata": {},
   "outputs": [
    {
     "name": "stderr",
     "output_type": "stream",
     "text": [
      "[Parallel(n_jobs=-1)]: Using backend LokyBackend with 12 concurrent workers.\n",
      "[Parallel(n_jobs=-1)]: Done   3 out of   3 | elapsed:  1.8min finished\n",
      "c:\\ProgramData\\Anaconda3\\lib\\site-packages\\sklearn\\metrics\\_classification.py:1344: UndefinedMetricWarning: Precision and F-score are ill-defined and being set to 0.0 in labels with no predicted samples. Use `zero_division` parameter to control this behavior.\n",
      "  _warn_prf(average, modifier, msg_start, len(result))\n",
      "c:\\ProgramData\\Anaconda3\\lib\\site-packages\\sklearn\\metrics\\_classification.py:1344: UndefinedMetricWarning: Precision and F-score are ill-defined and being set to 0.0 in labels with no predicted samples. Use `zero_division` parameter to control this behavior.\n",
      "  _warn_prf(average, modifier, msg_start, len(result))\n",
      "c:\\ProgramData\\Anaconda3\\lib\\site-packages\\sklearn\\metrics\\_classification.py:1344: UndefinedMetricWarning: Precision and F-score are ill-defined and being set to 0.0 in labels with no predicted samples. Use `zero_division` parameter to control this behavior.\n",
      "  _warn_prf(average, modifier, msg_start, len(result))\n",
      "[Parallel(n_jobs=-1)]: Using backend LokyBackend with 12 concurrent workers.\n"
     ]
    },
    {
     "name": "stdout",
     "output_type": "stream",
     "text": [
      "K-Fold #0\n",
      "Mean negativities for all classes: [0.35574257503296813, 0.35907130170979096, 0.36498187634168744]\n",
      "Mean entropies for all classes: [3.401098937886313e-15, 3.3439455700942194e-15, 3.4133560899901517e-15]\n",
      "              precision    recall  f1-score   support\n",
      "\n",
      "           0       0.00      0.00      0.00         5\n",
      "           1       0.44      0.80      0.57         5\n",
      "           2       0.83      1.00      0.91         5\n",
      "\n",
      "    accuracy                           0.60        15\n",
      "   macro avg       0.43      0.60      0.49        15\n",
      "weighted avg       0.43      0.60      0.49        15\n",
      "\n",
      "-------------------------------------------------------------------------------------------------------------------\n"
     ]
    },
    {
     "name": "stderr",
     "output_type": "stream",
     "text": [
      "[Parallel(n_jobs=-1)]: Done   3 out of   3 | elapsed:  1.8min finished\n",
      "[Parallel(n_jobs=-1)]: Using backend LokyBackend with 12 concurrent workers.\n"
     ]
    },
    {
     "name": "stdout",
     "output_type": "stream",
     "text": [
      "K-Fold #1\n",
      "Mean negativities for all classes: [0.3231106047483288, 0.3720236266576969, 0.34825230372102284]\n",
      "Mean entropies for all classes: [3.3000844629691164e-15, 4.4207578730161545e-15, 3.976636866178608e-15]\n",
      "              precision    recall  f1-score   support\n",
      "\n",
      "           0       1.00      0.20      0.33         5\n",
      "           1       0.14      0.20      0.17         5\n",
      "           2       0.43      0.60      0.50         5\n",
      "\n",
      "    accuracy                           0.33        15\n",
      "   macro avg       0.52      0.33      0.33        15\n",
      "weighted avg       0.52      0.33      0.33        15\n",
      "\n",
      "-------------------------------------------------------------------------------------------------------------------\n"
     ]
    },
    {
     "name": "stderr",
     "output_type": "stream",
     "text": [
      "[Parallel(n_jobs=-1)]: Done   3 out of   3 | elapsed:  1.8min finished\n",
      "[Parallel(n_jobs=-1)]: Using backend LokyBackend with 12 concurrent workers.\n"
     ]
    },
    {
     "name": "stdout",
     "output_type": "stream",
     "text": [
      "K-Fold #2\n",
      "Mean negativities for all classes: [0.35642897220259717, 0.35931094462945096, 0.3418993183546522]\n",
      "Mean entropies for all classes: [5.609455968615083e-15, 3.7411382894468375e-15, 3.904937206865634e-15]\n",
      "              precision    recall  f1-score   support\n",
      "\n",
      "           0       0.67      0.40      0.50         5\n",
      "           1       0.50      0.20      0.29         5\n",
      "           2       0.50      1.00      0.67         5\n",
      "\n",
      "    accuracy                           0.53        15\n",
      "   macro avg       0.56      0.53      0.48        15\n",
      "weighted avg       0.56      0.53      0.48        15\n",
      "\n",
      "-------------------------------------------------------------------------------------------------------------------\n"
     ]
    },
    {
     "name": "stderr",
     "output_type": "stream",
     "text": [
      "[Parallel(n_jobs=-1)]: Done   3 out of   3 | elapsed:  1.8min finished\n",
      "[Parallel(n_jobs=-1)]: Using backend LokyBackend with 12 concurrent workers.\n"
     ]
    },
    {
     "name": "stdout",
     "output_type": "stream",
     "text": [
      "K-Fold #3\n",
      "Mean negativities for all classes: [0.35614182414407053, 0.3635493148309294, 0.3167072763327658]\n",
      "Mean entropies for all classes: [3.887347719993383e-15, 4.671249319561866e-15, 3.923925334946079e-15]\n",
      "              precision    recall  f1-score   support\n",
      "\n",
      "           0       1.00      0.20      0.33         5\n",
      "           1       0.60      0.60      0.60         5\n",
      "           2       0.56      1.00      0.71         5\n",
      "\n",
      "    accuracy                           0.60        15\n",
      "   macro avg       0.72      0.60      0.55        15\n",
      "weighted avg       0.72      0.60      0.55        15\n",
      "\n",
      "-------------------------------------------------------------------------------------------------------------------\n"
     ]
    },
    {
     "name": "stderr",
     "output_type": "stream",
     "text": [
      "[Parallel(n_jobs=-1)]: Done   3 out of   3 | elapsed:  1.8min finished\n",
      "[Parallel(n_jobs=-1)]: Using backend LokyBackend with 12 concurrent workers.\n"
     ]
    },
    {
     "name": "stdout",
     "output_type": "stream",
     "text": [
      "K-Fold #4\n",
      "Mean negativities for all classes: [0.32244978707597, 0.3501975135446312, 0.33007931445898003]\n",
      "Mean entropies for all classes: [2.8413070704897195e-15, 3.668548303918043e-15, 3.637116620477495e-15]\n",
      "              precision    recall  f1-score   support\n",
      "\n",
      "           0       1.00      0.20      0.33         5\n",
      "           1       0.60      0.60      0.60         5\n",
      "           2       0.56      1.00      0.71         5\n",
      "\n",
      "    accuracy                           0.60        15\n",
      "   macro avg       0.72      0.60      0.55        15\n",
      "weighted avg       0.72      0.60      0.55        15\n",
      "\n",
      "-------------------------------------------------------------------------------------------------------------------\n"
     ]
    },
    {
     "name": "stderr",
     "output_type": "stream",
     "text": [
      "[Parallel(n_jobs=-1)]: Done   3 out of   3 | elapsed:  1.8min finished\n",
      "[Parallel(n_jobs=-1)]: Using backend LokyBackend with 12 concurrent workers.\n"
     ]
    },
    {
     "name": "stdout",
     "output_type": "stream",
     "text": [
      "K-Fold #5\n",
      "Mean negativities for all classes: [0.35714334740695225, 0.3730604841781275, 0.3270292320442281]\n",
      "Mean entropies for all classes: [3.1577741321144838e-15, 3.039190849653458e-15, 3.011501719266538e-15]\n",
      "              precision    recall  f1-score   support\n",
      "\n",
      "           0       1.00      0.20      0.33         5\n",
      "           1       0.25      0.20      0.22         5\n",
      "           2       0.50      1.00      0.67         5\n",
      "\n",
      "    accuracy                           0.47        15\n",
      "   macro avg       0.58      0.47      0.41        15\n",
      "weighted avg       0.58      0.47      0.41        15\n",
      "\n",
      "-------------------------------------------------------------------------------------------------------------------\n"
     ]
    },
    {
     "name": "stderr",
     "output_type": "stream",
     "text": [
      "[Parallel(n_jobs=-1)]: Done   3 out of   3 | elapsed:  1.8min finished\n",
      "c:\\ProgramData\\Anaconda3\\lib\\site-packages\\sklearn\\metrics\\_classification.py:1344: UndefinedMetricWarning: Precision and F-score are ill-defined and being set to 0.0 in labels with no predicted samples. Use `zero_division` parameter to control this behavior.\n",
      "  _warn_prf(average, modifier, msg_start, len(result))\n",
      "c:\\ProgramData\\Anaconda3\\lib\\site-packages\\sklearn\\metrics\\_classification.py:1344: UndefinedMetricWarning: Precision and F-score are ill-defined and being set to 0.0 in labels with no predicted samples. Use `zero_division` parameter to control this behavior.\n",
      "  _warn_prf(average, modifier, msg_start, len(result))\n",
      "c:\\ProgramData\\Anaconda3\\lib\\site-packages\\sklearn\\metrics\\_classification.py:1344: UndefinedMetricWarning: Precision and F-score are ill-defined and being set to 0.0 in labels with no predicted samples. Use `zero_division` parameter to control this behavior.\n",
      "  _warn_prf(average, modifier, msg_start, len(result))\n",
      "[Parallel(n_jobs=-1)]: Using backend LokyBackend with 12 concurrent workers.\n"
     ]
    },
    {
     "name": "stdout",
     "output_type": "stream",
     "text": [
      "K-Fold #6\n",
      "Mean negativities for all classes: [0.35599522456067245, 0.3679996146200138, 0.36469147138228625]\n",
      "Mean entropies for all classes: [4.930919718788775e-15, 4.62558081450993e-15, 3.4939438107555097e-15]\n",
      "              precision    recall  f1-score   support\n",
      "\n",
      "           0       0.00      0.00      0.00         5\n",
      "           1       0.50      0.80      0.62         5\n",
      "           2       0.71      1.00      0.83         5\n",
      "\n",
      "    accuracy                           0.60        15\n",
      "   macro avg       0.40      0.60      0.48        15\n",
      "weighted avg       0.40      0.60      0.48        15\n",
      "\n",
      "-------------------------------------------------------------------------------------------------------------------\n"
     ]
    },
    {
     "name": "stderr",
     "output_type": "stream",
     "text": [
      "[Parallel(n_jobs=-1)]: Done   3 out of   3 | elapsed:  1.8min finished\n",
      "[Parallel(n_jobs=-1)]: Using backend LokyBackend with 12 concurrent workers.\n"
     ]
    },
    {
     "name": "stdout",
     "output_type": "stream",
     "text": [
      "K-Fold #7\n",
      "Mean negativities for all classes: [0.3492840829602027, 0.3651758269351863, 0.3670949933234542]\n",
      "Mean entropies for all classes: [3.403683430375868e-15, 4.426328761086741e-15, 4.221372209396852e-15]\n",
      "              precision    recall  f1-score   support\n",
      "\n",
      "           0       0.40      0.40      0.40         5\n",
      "           1       0.33      0.40      0.36         5\n",
      "           2       1.00      0.80      0.89         5\n",
      "\n",
      "    accuracy                           0.53        15\n",
      "   macro avg       0.58      0.53      0.55        15\n",
      "weighted avg       0.58      0.53      0.55        15\n",
      "\n",
      "-------------------------------------------------------------------------------------------------------------------\n"
     ]
    },
    {
     "name": "stderr",
     "output_type": "stream",
     "text": [
      "[Parallel(n_jobs=-1)]: Done   3 out of   3 | elapsed:  1.8min finished\n",
      "[Parallel(n_jobs=-1)]: Using backend LokyBackend with 12 concurrent workers.\n"
     ]
    },
    {
     "name": "stdout",
     "output_type": "stream",
     "text": [
      "K-Fold #8\n",
      "Mean negativities for all classes: [0.33736390795126103, 0.32934409384951635, 0.3493656025907599]\n",
      "Mean entropies for all classes: [4.0067508956670644e-15, 4.186750392564393e-15, 4.3115183917494535e-15]\n",
      "              precision    recall  f1-score   support\n",
      "\n",
      "           0       0.50      0.20      0.29         5\n",
      "           1       0.44      0.80      0.57         5\n",
      "           2       1.00      0.80      0.89         5\n",
      "\n",
      "    accuracy                           0.60        15\n",
      "   macro avg       0.65      0.60      0.58        15\n",
      "weighted avg       0.65      0.60      0.58        15\n",
      "\n",
      "-------------------------------------------------------------------------------------------------------------------\n"
     ]
    },
    {
     "name": "stderr",
     "output_type": "stream",
     "text": [
      "[Parallel(n_jobs=-1)]: Done   3 out of   3 | elapsed:  1.8min finished\n",
      "[Parallel(n_jobs=-1)]: Using backend LokyBackend with 12 concurrent workers.\n"
     ]
    },
    {
     "name": "stdout",
     "output_type": "stream",
     "text": [
      "K-Fold #9\n",
      "Mean negativities for all classes: [0.3091699091032042, 0.36258697097542236, 0.3297893128156087]\n",
      "Mean entropies for all classes: [3.686561477590328e-15, 4.073492832870461e-15, 4.0075476143681436e-15]\n",
      "              precision    recall  f1-score   support\n",
      "\n",
      "           0       1.00      0.20      0.33         5\n",
      "           1       0.50      0.80      0.62         5\n",
      "           2       0.83      1.00      0.91         5\n",
      "\n",
      "    accuracy                           0.67        15\n",
      "   macro avg       0.78      0.67      0.62        15\n",
      "weighted avg       0.78      0.67      0.62        15\n",
      "\n",
      "-------------------------------------------------------------------------------------------------------------------\n",
      "AVG: Scores = 0.5533333333333333 F1-Scores = 0.5051814851814852 Negativity = [0.35993191769481553, 0.3477955117090162, 0.3525464117289001] Entropy = [3.3861335326568948e-15, 3.899159734054627e-15, 4.418510488309185e-15]\n"
     ]
    },
    {
     "name": "stderr",
     "output_type": "stream",
     "text": [
      "[Parallel(n_jobs=-1)]: Done   3 out of   3 | elapsed:  1.8min finished\n",
      "[Parallel(n_jobs=-1)]: Using backend LokyBackend with 12 concurrent workers.\n"
     ]
    },
    {
     "name": "stdout",
     "output_type": "stream",
     "text": [
      "K-Fold #0\n",
      "Mean negativities for all classes: [0.3429350401184097, 0.3880120591332243, 0.33912090272686085]\n",
      "Mean entropies for all classes: [3.171867612950472e-15, 4.8156836670607196e-15, 3.647470727879546e-15]\n",
      "              precision    recall  f1-score   support\n",
      "\n",
      "           0       1.00      0.40      0.57         5\n",
      "           1       0.50      0.40      0.44         5\n",
      "           2       0.56      1.00      0.71         5\n",
      "\n",
      "    accuracy                           0.60        15\n",
      "   macro avg       0.69      0.60      0.58        15\n",
      "weighted avg       0.69      0.60      0.58        15\n",
      "\n",
      "-------------------------------------------------------------------------------------------------------------------\n"
     ]
    },
    {
     "name": "stderr",
     "output_type": "stream",
     "text": [
      "[Parallel(n_jobs=-1)]: Done   3 out of   3 | elapsed:  1.8min finished\n",
      "[Parallel(n_jobs=-1)]: Using backend LokyBackend with 12 concurrent workers.\n"
     ]
    },
    {
     "name": "stdout",
     "output_type": "stream",
     "text": [
      "K-Fold #1\n",
      "Mean negativities for all classes: [0.33028024321345983, 0.36561402750119637, 0.3412467139008518]\n",
      "Mean entropies for all classes: [3.780901433500543e-15, 4.316853441722068e-15, 5.137511370783002e-15]\n",
      "              precision    recall  f1-score   support\n",
      "\n",
      "           0       1.00      0.20      0.33         5\n",
      "           1       0.50      0.80      0.62         5\n",
      "           2       0.83      1.00      0.91         5\n",
      "\n",
      "    accuracy                           0.67        15\n",
      "   macro avg       0.78      0.67      0.62        15\n",
      "weighted avg       0.78      0.67      0.62        15\n",
      "\n",
      "-------------------------------------------------------------------------------------------------------------------\n"
     ]
    },
    {
     "name": "stderr",
     "output_type": "stream",
     "text": [
      "[Parallel(n_jobs=-1)]: Done   3 out of   3 | elapsed:  1.8min finished\n",
      "[Parallel(n_jobs=-1)]: Using backend LokyBackend with 12 concurrent workers.\n"
     ]
    },
    {
     "name": "stdout",
     "output_type": "stream",
     "text": [
      "K-Fold #2\n",
      "Mean negativities for all classes: [0.34954564928189574, 0.3558820434791773, 0.3538094585062063]\n",
      "Mean entropies for all classes: [2.8220166846865215e-15, 3.3317627632887795e-15, 4.372674469722661e-15]\n",
      "              precision    recall  f1-score   support\n",
      "\n",
      "           0       0.50      0.20      0.29         5\n",
      "           1       0.62      1.00      0.77         5\n",
      "           2       0.80      0.80      0.80         5\n",
      "\n",
      "    accuracy                           0.67        15\n",
      "   macro avg       0.64      0.67      0.62        15\n",
      "weighted avg       0.64      0.67      0.62        15\n",
      "\n",
      "-------------------------------------------------------------------------------------------------------------------\n"
     ]
    },
    {
     "name": "stderr",
     "output_type": "stream",
     "text": [
      "[Parallel(n_jobs=-1)]: Done   3 out of   3 | elapsed:  1.8min finished\n",
      "[Parallel(n_jobs=-1)]: Using backend LokyBackend with 12 concurrent workers.\n"
     ]
    },
    {
     "name": "stdout",
     "output_type": "stream",
     "text": [
      "K-Fold #3\n",
      "Mean negativities for all classes: [0.2959568940367989, 0.3493445285500903, 0.35321258175646686]\n",
      "Mean entropies for all classes: [-1.1800785428351532e-15, 4.46340632946085e-15, 3.262499103990257e-15]\n",
      "              precision    recall  f1-score   support\n",
      "\n",
      "           0       0.00      0.00      0.00         5\n",
      "           1       0.43      0.60      0.50         5\n",
      "           2       0.57      0.80      0.67         5\n",
      "\n",
      "    accuracy                           0.47        15\n",
      "   macro avg       0.33      0.47      0.39        15\n",
      "weighted avg       0.33      0.47      0.39        15\n",
      "\n",
      "-------------------------------------------------------------------------------------------------------------------\n"
     ]
    },
    {
     "name": "stderr",
     "output_type": "stream",
     "text": [
      "[Parallel(n_jobs=-1)]: Done   3 out of   3 | elapsed:  1.8min finished\n",
      "[Parallel(n_jobs=-1)]: Using backend LokyBackend with 12 concurrent workers.\n"
     ]
    },
    {
     "name": "stdout",
     "output_type": "stream",
     "text": [
      "K-Fold #4\n",
      "Mean negativities for all classes: [0.35230523412160925, 0.3909833187665113, 0.30382986889168356]\n",
      "Mean entropies for all classes: [5.607560369194803e-15, 3.5524124052554766e-15, 4.724525564428879e-15]\n",
      "              precision    recall  f1-score   support\n",
      "\n",
      "           0       1.00      0.60      0.75         5\n",
      "           1       0.33      0.20      0.25         5\n",
      "           2       0.56      1.00      0.71         5\n",
      "\n",
      "    accuracy                           0.60        15\n",
      "   macro avg       0.63      0.60      0.57        15\n",
      "weighted avg       0.63      0.60      0.57        15\n",
      "\n",
      "-------------------------------------------------------------------------------------------------------------------\n"
     ]
    },
    {
     "name": "stderr",
     "output_type": "stream",
     "text": [
      "[Parallel(n_jobs=-1)]: Done   3 out of   3 | elapsed:  1.8min finished\n",
      "[Parallel(n_jobs=-1)]: Using backend LokyBackend with 12 concurrent workers.\n"
     ]
    },
    {
     "name": "stdout",
     "output_type": "stream",
     "text": [
      "K-Fold #5\n",
      "Mean negativities for all classes: [0.36648231036613826, 0.3759463173212095, 0.34021391720640903]\n",
      "Mean entropies for all classes: [-5.667490942509206e-16, 3.1226576737900662e-15, 3.864661647289126e-15]\n",
      "              precision    recall  f1-score   support\n",
      "\n",
      "           0       0.67      0.40      0.50         5\n",
      "           1       0.20      0.20      0.20         5\n",
      "           2       0.57      0.80      0.67         5\n",
      "\n",
      "    accuracy                           0.47        15\n",
      "   macro avg       0.48      0.47      0.46        15\n",
      "weighted avg       0.48      0.47      0.46        15\n",
      "\n",
      "-------------------------------------------------------------------------------------------------------------------\n"
     ]
    },
    {
     "name": "stderr",
     "output_type": "stream",
     "text": [
      "[Parallel(n_jobs=-1)]: Done   3 out of   3 | elapsed:  1.8min finished\n",
      "c:\\ProgramData\\Anaconda3\\lib\\site-packages\\sklearn\\metrics\\_classification.py:1344: UndefinedMetricWarning: Precision and F-score are ill-defined and being set to 0.0 in labels with no predicted samples. Use `zero_division` parameter to control this behavior.\n",
      "  _warn_prf(average, modifier, msg_start, len(result))\n",
      "c:\\ProgramData\\Anaconda3\\lib\\site-packages\\sklearn\\metrics\\_classification.py:1344: UndefinedMetricWarning: Precision and F-score are ill-defined and being set to 0.0 in labels with no predicted samples. Use `zero_division` parameter to control this behavior.\n",
      "  _warn_prf(average, modifier, msg_start, len(result))\n",
      "c:\\ProgramData\\Anaconda3\\lib\\site-packages\\sklearn\\metrics\\_classification.py:1344: UndefinedMetricWarning: Precision and F-score are ill-defined and being set to 0.0 in labels with no predicted samples. Use `zero_division` parameter to control this behavior.\n",
      "  _warn_prf(average, modifier, msg_start, len(result))\n",
      "[Parallel(n_jobs=-1)]: Using backend LokyBackend with 12 concurrent workers.\n"
     ]
    },
    {
     "name": "stdout",
     "output_type": "stream",
     "text": [
      "K-Fold #6\n",
      "Mean negativities for all classes: [0.3448510777455744, 0.35146663502838654, 0.368465627719388]\n",
      "Mean entropies for all classes: [1.6670073163878017e-15, 3.668576478165563e-15, 3.3114024839377515e-15]\n",
      "              precision    recall  f1-score   support\n",
      "\n",
      "           0       0.00      0.00      0.00         5\n",
      "           1       0.50      0.80      0.62         5\n",
      "           2       0.57      0.80      0.67         5\n",
      "\n",
      "    accuracy                           0.53        15\n",
      "   macro avg       0.36      0.53      0.43        15\n",
      "weighted avg       0.36      0.53      0.43        15\n",
      "\n",
      "-------------------------------------------------------------------------------------------------------------------\n"
     ]
    },
    {
     "name": "stderr",
     "output_type": "stream",
     "text": [
      "[Parallel(n_jobs=-1)]: Done   3 out of   3 | elapsed:  1.8min finished\n",
      "[Parallel(n_jobs=-1)]: Using backend LokyBackend with 12 concurrent workers.\n"
     ]
    },
    {
     "name": "stdout",
     "output_type": "stream",
     "text": [
      "K-Fold #7\n",
      "Mean negativities for all classes: [0.35414672458852253, 0.3691035756767416, 0.33642719026303375]\n",
      "Mean entropies for all classes: [3.944878232367389e-15, 4.017921658761784e-15, 4.104890968425048e-15]\n",
      "              precision    recall  f1-score   support\n",
      "\n",
      "           0       0.75      0.60      0.67         5\n",
      "           1       0.67      0.40      0.50         5\n",
      "           2       0.62      1.00      0.77         5\n",
      "\n",
      "    accuracy                           0.67        15\n",
      "   macro avg       0.68      0.67      0.65        15\n",
      "weighted avg       0.68      0.67      0.65        15\n",
      "\n",
      "-------------------------------------------------------------------------------------------------------------------\n"
     ]
    },
    {
     "name": "stderr",
     "output_type": "stream",
     "text": [
      "[Parallel(n_jobs=-1)]: Done   3 out of   3 | elapsed:  1.8min finished\n",
      "[Parallel(n_jobs=-1)]: Using backend LokyBackend with 12 concurrent workers.\n"
     ]
    },
    {
     "name": "stdout",
     "output_type": "stream",
     "text": [
      "K-Fold #8\n",
      "Mean negativities for all classes: [0.3132249638128655, 0.34413726422503227, 0.33997560406881977]\n",
      "Mean entropies for all classes: [1.162134543745973e-15, 3.911781440780893e-15, 3.960607264966478e-15]\n",
      "              precision    recall  f1-score   support\n",
      "\n",
      "           0       1.00      0.20      0.33         5\n",
      "           1       0.56      1.00      0.71         5\n",
      "           2       1.00      1.00      1.00         5\n",
      "\n",
      "    accuracy                           0.73        15\n",
      "   macro avg       0.85      0.73      0.68        15\n",
      "weighted avg       0.85      0.73      0.68        15\n",
      "\n",
      "-------------------------------------------------------------------------------------------------------------------\n"
     ]
    },
    {
     "name": "stderr",
     "output_type": "stream",
     "text": [
      "[Parallel(n_jobs=-1)]: Done   3 out of   3 | elapsed:  1.8min finished\n",
      "c:\\ProgramData\\Anaconda3\\lib\\site-packages\\sklearn\\metrics\\_classification.py:1344: UndefinedMetricWarning: Precision and F-score are ill-defined and being set to 0.0 in labels with no predicted samples. Use `zero_division` parameter to control this behavior.\n",
      "  _warn_prf(average, modifier, msg_start, len(result))\n",
      "c:\\ProgramData\\Anaconda3\\lib\\site-packages\\sklearn\\metrics\\_classification.py:1344: UndefinedMetricWarning: Precision and F-score are ill-defined and being set to 0.0 in labels with no predicted samples. Use `zero_division` parameter to control this behavior.\n",
      "  _warn_prf(average, modifier, msg_start, len(result))\n",
      "c:\\ProgramData\\Anaconda3\\lib\\site-packages\\sklearn\\metrics\\_classification.py:1344: UndefinedMetricWarning: Precision and F-score are ill-defined and being set to 0.0 in labels with no predicted samples. Use `zero_division` parameter to control this behavior.\n",
      "  _warn_prf(average, modifier, msg_start, len(result))\n",
      "[Parallel(n_jobs=-1)]: Using backend LokyBackend with 12 concurrent workers.\n"
     ]
    },
    {
     "name": "stdout",
     "output_type": "stream",
     "text": [
      "K-Fold #9\n",
      "Mean negativities for all classes: [0.20472890002466942, 0.3513161096443071, 0.35881637570295266]\n",
      "Mean entropies for all classes: [3.4035741957392205e-15, 4.212504889206337e-15, 4.3661327728871135e-15]\n",
      "              precision    recall  f1-score   support\n",
      "\n",
      "           0       0.00      0.00      0.00         5\n",
      "           1       0.43      0.60      0.50         5\n",
      "           2       0.50      0.80      0.62         5\n",
      "\n",
      "    accuracy                           0.47        15\n",
      "   macro avg       0.31      0.47      0.37        15\n",
      "weighted avg       0.31      0.47      0.37        15\n",
      "\n",
      "-------------------------------------------------------------------------------------------------------------------\n",
      "AVG: Scores = 0.5866666666666667 F1-Scores = 0.5357161357161356 Negativity = [0.35668933399283165, 0.34571366153850275, 0.35307905042242643] Entropy = [3.8783406692969124e-15, 4.411755415335204e-15, 3.508817972565987e-15]\n"
     ]
    },
    {
     "name": "stderr",
     "output_type": "stream",
     "text": [
      "[Parallel(n_jobs=-1)]: Done   3 out of   3 | elapsed:  1.8min finished\n",
      "[Parallel(n_jobs=-1)]: Using backend LokyBackend with 12 concurrent workers.\n"
     ]
    },
    {
     "name": "stdout",
     "output_type": "stream",
     "text": [
      "K-Fold #0\n",
      "Mean negativities for all classes: [0.36431986765977215, 0.3409114448232694, 0.3439015979079377]\n",
      "Mean entropies for all classes: [3.612673947602854e-15, 4.374873240151528e-15, 3.917022801999866e-15]\n",
      "              precision    recall  f1-score   support\n",
      "\n",
      "           0       1.00      0.20      0.33         5\n",
      "           1       0.45      1.00      0.62         5\n",
      "           2       1.00      0.60      0.75         5\n",
      "\n",
      "    accuracy                           0.60        15\n",
      "   macro avg       0.82      0.60      0.57        15\n",
      "weighted avg       0.82      0.60      0.57        15\n",
      "\n",
      "-------------------------------------------------------------------------------------------------------------------\n"
     ]
    },
    {
     "name": "stderr",
     "output_type": "stream",
     "text": [
      "[Parallel(n_jobs=-1)]: Done   3 out of   3 | elapsed:  1.8min finished\n",
      "c:\\ProgramData\\Anaconda3\\lib\\site-packages\\sklearn\\metrics\\_classification.py:1344: UndefinedMetricWarning: Precision and F-score are ill-defined and being set to 0.0 in labels with no predicted samples. Use `zero_division` parameter to control this behavior.\n",
      "  _warn_prf(average, modifier, msg_start, len(result))\n",
      "c:\\ProgramData\\Anaconda3\\lib\\site-packages\\sklearn\\metrics\\_classification.py:1344: UndefinedMetricWarning: Precision and F-score are ill-defined and being set to 0.0 in labels with no predicted samples. Use `zero_division` parameter to control this behavior.\n",
      "  _warn_prf(average, modifier, msg_start, len(result))\n",
      "c:\\ProgramData\\Anaconda3\\lib\\site-packages\\sklearn\\metrics\\_classification.py:1344: UndefinedMetricWarning: Precision and F-score are ill-defined and being set to 0.0 in labels with no predicted samples. Use `zero_division` parameter to control this behavior.\n",
      "  _warn_prf(average, modifier, msg_start, len(result))\n",
      "[Parallel(n_jobs=-1)]: Using backend LokyBackend with 12 concurrent workers.\n"
     ]
    },
    {
     "name": "stdout",
     "output_type": "stream",
     "text": [
      "K-Fold #1\n",
      "Mean negativities for all classes: [0.3499729191899101, 0.3445668512673824, 0.35320515017817755]\n",
      "Mean entropies for all classes: [3.4786433528777096e-15, 3.391020290876857e-15, 4.495718053690879e-15]\n",
      "              precision    recall  f1-score   support\n",
      "\n",
      "           0       0.00      0.00      0.00         5\n",
      "           1       0.45      1.00      0.62         5\n",
      "           2       1.00      0.80      0.89         5\n",
      "\n",
      "    accuracy                           0.60        15\n",
      "   macro avg       0.48      0.60      0.50        15\n",
      "weighted avg       0.48      0.60      0.50        15\n",
      "\n",
      "-------------------------------------------------------------------------------------------------------------------\n"
     ]
    },
    {
     "name": "stderr",
     "output_type": "stream",
     "text": [
      "[Parallel(n_jobs=-1)]: Done   3 out of   3 | elapsed:  1.8min finished\n",
      "[Parallel(n_jobs=-1)]: Using backend LokyBackend with 12 concurrent workers.\n"
     ]
    },
    {
     "name": "stdout",
     "output_type": "stream",
     "text": [
      "K-Fold #2\n",
      "Mean negativities for all classes: [0.34682967292583083, 0.3420753154945543, 0.36476108203081997]\n",
      "Mean entropies for all classes: [4.811351700822102e-15, 4.4720561925608936e-15, 3.213736746401875e-15]\n",
      "              precision    recall  f1-score   support\n",
      "\n",
      "           0       0.50      0.20      0.29         5\n",
      "           1       0.67      0.80      0.73         5\n",
      "           2       0.71      1.00      0.83         5\n",
      "\n",
      "    accuracy                           0.67        15\n",
      "   macro avg       0.63      0.67      0.62        15\n",
      "weighted avg       0.63      0.67      0.62        15\n",
      "\n",
      "-------------------------------------------------------------------------------------------------------------------\n"
     ]
    },
    {
     "name": "stderr",
     "output_type": "stream",
     "text": [
      "[Parallel(n_jobs=-1)]: Done   3 out of   3 | elapsed:  1.8min finished\n",
      "[Parallel(n_jobs=-1)]: Using backend LokyBackend with 12 concurrent workers.\n"
     ]
    },
    {
     "name": "stdout",
     "output_type": "stream",
     "text": [
      "K-Fold #3\n",
      "Mean negativities for all classes: [0.30826536819920736, 0.3848283849366607, 0.34020540533668703]\n",
      "Mean entropies for all classes: [3.2867575583741153e-15, 5.017243362248324e-15, 3.276941181764875e-15]\n",
      "              precision    recall  f1-score   support\n",
      "\n",
      "           0       1.00      0.20      0.33         5\n",
      "           1       0.00      0.00      0.00         5\n",
      "           2       0.50      1.00      0.67         5\n",
      "\n",
      "    accuracy                           0.40        15\n",
      "   macro avg       0.50      0.40      0.33        15\n",
      "weighted avg       0.50      0.40      0.33        15\n",
      "\n",
      "-------------------------------------------------------------------------------------------------------------------\n"
     ]
    },
    {
     "name": "stderr",
     "output_type": "stream",
     "text": [
      "[Parallel(n_jobs=-1)]: Done   3 out of   3 | elapsed:  1.8min finished\n",
      "[Parallel(n_jobs=-1)]: Using backend LokyBackend with 12 concurrent workers.\n"
     ]
    },
    {
     "name": "stdout",
     "output_type": "stream",
     "text": [
      "K-Fold #4\n",
      "Mean negativities for all classes: [0.3660067110496759, 0.3672929420389814, 0.3695003766983089]\n",
      "Mean entropies for all classes: [1.5512202261658434e-14, 4.307955000505081e-15, 4.140451987387143e-15]\n",
      "              precision    recall  f1-score   support\n",
      "\n",
      "           0       0.50      0.40      0.44         5\n",
      "           1       0.50      0.40      0.44         5\n",
      "           2       0.43      0.60      0.50         5\n",
      "\n",
      "    accuracy                           0.47        15\n",
      "   macro avg       0.48      0.47      0.46        15\n",
      "weighted avg       0.48      0.47      0.46        15\n",
      "\n",
      "-------------------------------------------------------------------------------------------------------------------\n"
     ]
    },
    {
     "name": "stderr",
     "output_type": "stream",
     "text": [
      "[Parallel(n_jobs=-1)]: Done   3 out of   3 | elapsed:  1.8min finished\n",
      "[Parallel(n_jobs=-1)]: Using backend LokyBackend with 12 concurrent workers.\n"
     ]
    },
    {
     "name": "stdout",
     "output_type": "stream",
     "text": [
      "K-Fold #5\n",
      "Mean negativities for all classes: [0.34397622634377567, 0.34094773969961956, 0.34750400311733426]\n",
      "Mean entropies for all classes: [5.767204681440597e-15, 2.6892515515776443e-15, 3.5544677332571214e-15]\n",
      "              precision    recall  f1-score   support\n",
      "\n",
      "           0       0.75      0.60      0.67         5\n",
      "           1       0.67      0.80      0.73         5\n",
      "           2       1.00      1.00      1.00         5\n",
      "\n",
      "    accuracy                           0.80        15\n",
      "   macro avg       0.81      0.80      0.80        15\n",
      "weighted avg       0.81      0.80      0.80        15\n",
      "\n",
      "-------------------------------------------------------------------------------------------------------------------\n"
     ]
    },
    {
     "name": "stderr",
     "output_type": "stream",
     "text": [
      "[Parallel(n_jobs=-1)]: Done   3 out of   3 | elapsed:  1.8min finished\n",
      "[Parallel(n_jobs=-1)]: Using backend LokyBackend with 12 concurrent workers.\n"
     ]
    },
    {
     "name": "stdout",
     "output_type": "stream",
     "text": [
      "K-Fold #6\n",
      "Mean negativities for all classes: [0.3365873601170418, 0.36230789142040004, 0.33827695471444064]\n",
      "Mean entropies for all classes: [1.0970337056116144e-15, 3.9789353067450644e-15, 4.077798266497286e-15]\n",
      "              precision    recall  f1-score   support\n",
      "\n",
      "           0       0.00      0.00      0.00         5\n",
      "           1       0.33      0.20      0.25         5\n",
      "           2       0.45      1.00      0.62         5\n",
      "\n",
      "    accuracy                           0.40        15\n",
      "   macro avg       0.26      0.40      0.29        15\n",
      "weighted avg       0.26      0.40      0.29        15\n",
      "\n",
      "-------------------------------------------------------------------------------------------------------------------\n"
     ]
    },
    {
     "name": "stderr",
     "output_type": "stream",
     "text": [
      "[Parallel(n_jobs=-1)]: Done   3 out of   3 | elapsed:  1.8min finished\n",
      "[Parallel(n_jobs=-1)]: Using backend LokyBackend with 12 concurrent workers.\n"
     ]
    },
    {
     "name": "stdout",
     "output_type": "stream",
     "text": [
      "K-Fold #7\n",
      "Mean negativities for all classes: [0.3088198211957278, 0.34911888959340776, 0.33053251615364887]\n",
      "Mean entropies for all classes: [5.683202946050441e-15, 3.689278741242716e-15, 3.837716815336585e-15]\n",
      "              precision    recall  f1-score   support\n",
      "\n",
      "           0       1.00      0.20      0.33         5\n",
      "           1       0.43      0.60      0.50         5\n",
      "           2       0.71      1.00      0.83         5\n",
      "\n",
      "    accuracy                           0.60        15\n",
      "   macro avg       0.71      0.60      0.56        15\n",
      "weighted avg       0.71      0.60      0.56        15\n",
      "\n",
      "-------------------------------------------------------------------------------------------------------------------\n"
     ]
    },
    {
     "name": "stderr",
     "output_type": "stream",
     "text": [
      "[Parallel(n_jobs=-1)]: Done   3 out of   3 | elapsed:  1.8min finished\n",
      "[Parallel(n_jobs=-1)]: Using backend LokyBackend with 12 concurrent workers.\n"
     ]
    },
    {
     "name": "stdout",
     "output_type": "stream",
     "text": [
      "K-Fold #8\n",
      "Mean negativities for all classes: [0.3490421278816804, 0.3726166069814575, 0.35297757659980233]\n",
      "Mean entropies for all classes: [4.548549785313206e-15, 3.5274830054400445e-15, 4.828100657653874e-15]\n",
      "              precision    recall  f1-score   support\n",
      "\n",
      "           0       0.67      0.40      0.50         5\n",
      "           1       0.29      0.40      0.33         5\n",
      "           2       0.60      0.60      0.60         5\n",
      "\n",
      "    accuracy                           0.47        15\n",
      "   macro avg       0.52      0.47      0.48        15\n",
      "weighted avg       0.52      0.47      0.48        15\n",
      "\n",
      "-------------------------------------------------------------------------------------------------------------------\n"
     ]
    },
    {
     "name": "stderr",
     "output_type": "stream",
     "text": [
      "[Parallel(n_jobs=-1)]: Done   3 out of   3 | elapsed:  1.8min finished\n",
      "[Parallel(n_jobs=-1)]: Using backend LokyBackend with 12 concurrent workers.\n"
     ]
    },
    {
     "name": "stdout",
     "output_type": "stream",
     "text": [
      "K-Fold #9\n",
      "Mean negativities for all classes: [0.3559047518789955, 0.339872779286041, 0.3381734796339236]\n",
      "Mean entropies for all classes: [3.2061933052552465e-15, 4.155513586629284e-15, 4.097432724981037e-15]\n",
      "              precision    recall  f1-score   support\n",
      "\n",
      "           0       1.00      0.20      0.33         5\n",
      "           1       0.38      0.60      0.46         5\n",
      "           2       0.67      0.80      0.73         5\n",
      "\n",
      "    accuracy                           0.53        15\n",
      "   macro avg       0.68      0.53      0.51        15\n",
      "weighted avg       0.68      0.53      0.51        15\n",
      "\n",
      "-------------------------------------------------------------------------------------------------------------------\n",
      "AVG: Scores = 0.5533333333333333 F1-Scores = 0.511617179117179 Negativity = [0.3497109701303264, 0.34924830687848996, 0.35122202348373505] Entropy = [3.968189996584749e-15, 3.788460565815149e-15, 4.16571487992829e-15]\n"
     ]
    },
    {
     "name": "stderr",
     "output_type": "stream",
     "text": [
      "[Parallel(n_jobs=-1)]: Done   3 out of   3 | elapsed:  1.8min finished\n",
      "[Parallel(n_jobs=-1)]: Using backend LokyBackend with 12 concurrent workers.\n"
     ]
    },
    {
     "name": "stdout",
     "output_type": "stream",
     "text": [
      "K-Fold #0\n",
      "Mean negativities for all classes: [0.34353644497602864, 0.38177100070634323, 0.34795189237231877]\n",
      "Mean entropies for all classes: [4.223835190609485e-15, 4.0617905006969255e-15, 3.2622604806687432e-15]\n",
      "              precision    recall  f1-score   support\n",
      "\n",
      "           0       0.50      0.40      0.44         5\n",
      "           1       0.50      0.60      0.55         5\n",
      "           2       1.00      1.00      1.00         5\n",
      "\n",
      "    accuracy                           0.67        15\n",
      "   macro avg       0.67      0.67      0.66        15\n",
      "weighted avg       0.67      0.67      0.66        15\n",
      "\n",
      "-------------------------------------------------------------------------------------------------------------------\n"
     ]
    },
    {
     "name": "stderr",
     "output_type": "stream",
     "text": [
      "[Parallel(n_jobs=-1)]: Done   3 out of   3 | elapsed:  1.8min finished\n",
      "[Parallel(n_jobs=-1)]: Using backend LokyBackend with 12 concurrent workers.\n"
     ]
    },
    {
     "name": "stdout",
     "output_type": "stream",
     "text": [
      "K-Fold #1\n",
      "Mean negativities for all classes: [0.36884632236996034, 0.3627458800089784, 0.34077295346015557]\n",
      "Mean entropies for all classes: [5.04680769053129e-16, 3.766788609741612e-15, 4.438942771067795e-15]\n",
      "              precision    recall  f1-score   support\n",
      "\n",
      "           0       0.67      0.40      0.50         5\n",
      "           1       0.60      0.60      0.60         5\n",
      "           2       0.71      1.00      0.83         5\n",
      "\n",
      "    accuracy                           0.67        15\n",
      "   macro avg       0.66      0.67      0.64        15\n",
      "weighted avg       0.66      0.67      0.64        15\n",
      "\n",
      "-------------------------------------------------------------------------------------------------------------------\n"
     ]
    },
    {
     "name": "stderr",
     "output_type": "stream",
     "text": [
      "[Parallel(n_jobs=-1)]: Done   3 out of   3 | elapsed:  1.8min finished\n",
      "[Parallel(n_jobs=-1)]: Using backend LokyBackend with 12 concurrent workers.\n"
     ]
    },
    {
     "name": "stdout",
     "output_type": "stream",
     "text": [
      "K-Fold #2\n",
      "Mean negativities for all classes: [0.37930093216502836, 0.34595506797127407, 0.34982425933051525]\n",
      "Mean entropies for all classes: [3.836846841451773e-15, 3.5076593106212363e-15, 2.7089260514455375e-15]\n",
      "              precision    recall  f1-score   support\n",
      "\n",
      "           0       1.00      0.20      0.33         5\n",
      "           1       0.50      0.80      0.62         5\n",
      "           2       0.83      1.00      0.91         5\n",
      "\n",
      "    accuracy                           0.67        15\n",
      "   macro avg       0.78      0.67      0.62        15\n",
      "weighted avg       0.78      0.67      0.62        15\n",
      "\n",
      "-------------------------------------------------------------------------------------------------------------------\n"
     ]
    },
    {
     "name": "stderr",
     "output_type": "stream",
     "text": [
      "[Parallel(n_jobs=-1)]: Done   3 out of   3 | elapsed:  1.8min finished\n",
      "c:\\ProgramData\\Anaconda3\\lib\\site-packages\\sklearn\\metrics\\_classification.py:1344: UndefinedMetricWarning: Precision and F-score are ill-defined and being set to 0.0 in labels with no predicted samples. Use `zero_division` parameter to control this behavior.\n",
      "  _warn_prf(average, modifier, msg_start, len(result))\n",
      "c:\\ProgramData\\Anaconda3\\lib\\site-packages\\sklearn\\metrics\\_classification.py:1344: UndefinedMetricWarning: Precision and F-score are ill-defined and being set to 0.0 in labels with no predicted samples. Use `zero_division` parameter to control this behavior.\n",
      "  _warn_prf(average, modifier, msg_start, len(result))\n",
      "c:\\ProgramData\\Anaconda3\\lib\\site-packages\\sklearn\\metrics\\_classification.py:1344: UndefinedMetricWarning: Precision and F-score are ill-defined and being set to 0.0 in labels with no predicted samples. Use `zero_division` parameter to control this behavior.\n",
      "  _warn_prf(average, modifier, msg_start, len(result))\n",
      "[Parallel(n_jobs=-1)]: Using backend LokyBackend with 12 concurrent workers.\n"
     ]
    },
    {
     "name": "stdout",
     "output_type": "stream",
     "text": [
      "K-Fold #3\n",
      "Mean negativities for all classes: [0.20497214698927144, 0.36664094943594955, 0.367616397834394]\n",
      "Mean entropies for all classes: [3.558659581449462e-15, 3.502748357348558e-15, 3.566924510260793e-15]\n",
      "              precision    recall  f1-score   support\n",
      "\n",
      "           0       0.00      0.00      0.00         5\n",
      "           1       0.40      0.80      0.53         5\n",
      "           2       0.80      0.80      0.80         5\n",
      "\n",
      "    accuracy                           0.53        15\n",
      "   macro avg       0.40      0.53      0.44        15\n",
      "weighted avg       0.40      0.53      0.44        15\n",
      "\n",
      "-------------------------------------------------------------------------------------------------------------------\n"
     ]
    },
    {
     "name": "stderr",
     "output_type": "stream",
     "text": [
      "[Parallel(n_jobs=-1)]: Done   3 out of   3 | elapsed:  1.8min finished\n",
      "[Parallel(n_jobs=-1)]: Using backend LokyBackend with 12 concurrent workers.\n"
     ]
    },
    {
     "name": "stdout",
     "output_type": "stream",
     "text": [
      "K-Fold #4\n",
      "Mean negativities for all classes: [0.3825049958307688, 0.3630239304372763, 0.353634374987633]\n",
      "Mean entropies for all classes: [3.4340045646783646e-15, 4.2575937263316895e-15, 3.3142994154868017e-15]\n",
      "              precision    recall  f1-score   support\n",
      "\n",
      "           0       0.67      0.40      0.50         5\n",
      "           1       0.50      0.60      0.55         5\n",
      "           2       0.83      1.00      0.91         5\n",
      "\n",
      "    accuracy                           0.67        15\n",
      "   macro avg       0.67      0.67      0.65        15\n",
      "weighted avg       0.67      0.67      0.65        15\n",
      "\n",
      "-------------------------------------------------------------------------------------------------------------------\n"
     ]
    },
    {
     "name": "stderr",
     "output_type": "stream",
     "text": [
      "[Parallel(n_jobs=-1)]: Done   3 out of   3 | elapsed:  1.8min finished\n",
      "[Parallel(n_jobs=-1)]: Using backend LokyBackend with 12 concurrent workers.\n"
     ]
    },
    {
     "name": "stdout",
     "output_type": "stream",
     "text": [
      "K-Fold #5\n",
      "Mean negativities for all classes: [0.33960685192105317, 0.3618408271550017, 0.331614639386708]\n",
      "Mean entropies for all classes: [2.957701180553347e-15, 4.125521225562585e-15, 4.178903403977097e-15]\n",
      "              precision    recall  f1-score   support\n",
      "\n",
      "           0       0.50      0.20      0.29         5\n",
      "           1       0.50      0.20      0.29         5\n",
      "           2       0.36      0.80      0.50         5\n",
      "\n",
      "    accuracy                           0.40        15\n",
      "   macro avg       0.45      0.40      0.36        15\n",
      "weighted avg       0.45      0.40      0.36        15\n",
      "\n",
      "-------------------------------------------------------------------------------------------------------------------\n"
     ]
    },
    {
     "name": "stderr",
     "output_type": "stream",
     "text": [
      "[Parallel(n_jobs=-1)]: Done   3 out of   3 | elapsed:  1.8min finished\n",
      "c:\\ProgramData\\Anaconda3\\lib\\site-packages\\sklearn\\metrics\\_classification.py:1344: UndefinedMetricWarning: Precision and F-score are ill-defined and being set to 0.0 in labels with no predicted samples. Use `zero_division` parameter to control this behavior.\n",
      "  _warn_prf(average, modifier, msg_start, len(result))\n",
      "c:\\ProgramData\\Anaconda3\\lib\\site-packages\\sklearn\\metrics\\_classification.py:1344: UndefinedMetricWarning: Precision and F-score are ill-defined and being set to 0.0 in labels with no predicted samples. Use `zero_division` parameter to control this behavior.\n",
      "  _warn_prf(average, modifier, msg_start, len(result))\n",
      "c:\\ProgramData\\Anaconda3\\lib\\site-packages\\sklearn\\metrics\\_classification.py:1344: UndefinedMetricWarning: Precision and F-score are ill-defined and being set to 0.0 in labels with no predicted samples. Use `zero_division` parameter to control this behavior.\n",
      "  _warn_prf(average, modifier, msg_start, len(result))\n",
      "[Parallel(n_jobs=-1)]: Using backend LokyBackend with 12 concurrent workers.\n"
     ]
    },
    {
     "name": "stdout",
     "output_type": "stream",
     "text": [
      "K-Fold #6\n",
      "Mean negativities for all classes: [0.3523413306306996, 0.3543829131157114, 0.33833005299201047]\n",
      "Mean entropies for all classes: [5.1123401255973615e-15, 3.433751398352189e-15, 3.941992965504185e-15]\n",
      "              precision    recall  f1-score   support\n",
      "\n",
      "           0       0.00      0.00      0.00         5\n",
      "           1       0.42      1.00      0.59         5\n",
      "           2       1.00      0.60      0.75         5\n",
      "\n",
      "    accuracy                           0.53        15\n",
      "   macro avg       0.47      0.53      0.45        15\n",
      "weighted avg       0.47      0.53      0.45        15\n",
      "\n",
      "-------------------------------------------------------------------------------------------------------------------\n"
     ]
    },
    {
     "name": "stderr",
     "output_type": "stream",
     "text": [
      "[Parallel(n_jobs=-1)]: Done   3 out of   3 | elapsed:  1.8min finished\n",
      "[Parallel(n_jobs=-1)]: Using backend LokyBackend with 12 concurrent workers.\n"
     ]
    },
    {
     "name": "stdout",
     "output_type": "stream",
     "text": [
      "K-Fold #7\n",
      "Mean negativities for all classes: [0.364493470707821, 0.36873936427411025, 0.3762293558374821]\n",
      "Mean entropies for all classes: [-2.064905665153839e-15, 3.004813406022059e-15, 4.036764753080294e-15]\n",
      "              precision    recall  f1-score   support\n",
      "\n",
      "           0       0.67      0.40      0.50         5\n",
      "           1       0.29      0.40      0.33         5\n",
      "           2       0.40      0.40      0.40         5\n",
      "\n",
      "    accuracy                           0.40        15\n",
      "   macro avg       0.45      0.40      0.41        15\n",
      "weighted avg       0.45      0.40      0.41        15\n",
      "\n",
      "-------------------------------------------------------------------------------------------------------------------\n"
     ]
    },
    {
     "name": "stderr",
     "output_type": "stream",
     "text": [
      "[Parallel(n_jobs=-1)]: Done   3 out of   3 | elapsed:  1.8min finished\n",
      "c:\\ProgramData\\Anaconda3\\lib\\site-packages\\sklearn\\metrics\\_classification.py:1344: UndefinedMetricWarning: Precision and F-score are ill-defined and being set to 0.0 in labels with no predicted samples. Use `zero_division` parameter to control this behavior.\n",
      "  _warn_prf(average, modifier, msg_start, len(result))\n",
      "c:\\ProgramData\\Anaconda3\\lib\\site-packages\\sklearn\\metrics\\_classification.py:1344: UndefinedMetricWarning: Precision and F-score are ill-defined and being set to 0.0 in labels with no predicted samples. Use `zero_division` parameter to control this behavior.\n",
      "  _warn_prf(average, modifier, msg_start, len(result))\n",
      "c:\\ProgramData\\Anaconda3\\lib\\site-packages\\sklearn\\metrics\\_classification.py:1344: UndefinedMetricWarning: Precision and F-score are ill-defined and being set to 0.0 in labels with no predicted samples. Use `zero_division` parameter to control this behavior.\n",
      "  _warn_prf(average, modifier, msg_start, len(result))\n",
      "[Parallel(n_jobs=-1)]: Using backend LokyBackend with 12 concurrent workers.\n"
     ]
    },
    {
     "name": "stdout",
     "output_type": "stream",
     "text": [
      "K-Fold #8\n",
      "Mean negativities for all classes: [0.31638689714724794, 0.3586555033076984, 0.3390759336686233]\n",
      "Mean entropies for all classes: [2.9676772801546726e-15, 4.2470860509853954e-15, 3.817290261535235e-15]\n",
      "              precision    recall  f1-score   support\n",
      "\n",
      "           0       0.00      0.00      0.00         5\n",
      "           1       0.50      0.60      0.55         5\n",
      "           2       0.56      1.00      0.71         5\n",
      "\n",
      "    accuracy                           0.53        15\n",
      "   macro avg       0.35      0.53      0.42        15\n",
      "weighted avg       0.35      0.53      0.42        15\n",
      "\n",
      "-------------------------------------------------------------------------------------------------------------------\n"
     ]
    },
    {
     "name": "stderr",
     "output_type": "stream",
     "text": [
      "[Parallel(n_jobs=-1)]: Done   3 out of   3 | elapsed:  1.8min finished\n",
      "[Parallel(n_jobs=-1)]: Using backend LokyBackend with 12 concurrent workers.\n"
     ]
    },
    {
     "name": "stdout",
     "output_type": "stream",
     "text": [
      "K-Fold #9\n",
      "Mean negativities for all classes: [0.31586487080584946, 0.35331617434775864, 0.3372811705576783]\n",
      "Mean entropies for all classes: [5.0284077714719896e-15, 3.691077939722185e-15, 3.139676488209647e-15]\n",
      "              precision    recall  f1-score   support\n",
      "\n",
      "           0       0.50      0.20      0.29         5\n",
      "           1       0.50      0.60      0.55         5\n",
      "           2       0.71      1.00      0.83         5\n",
      "\n",
      "    accuracy                           0.60        15\n",
      "   macro avg       0.57      0.60      0.55        15\n",
      "weighted avg       0.57      0.60      0.55        15\n",
      "\n",
      "-------------------------------------------------------------------------------------------------------------------\n",
      "AVG: Scores = 0.5666666666666667 F1-Scores = 0.5212053197347315 Negativity = [0.3577531126848969, 0.3574550519463648, 0.3583600864889392] Entropy = [3.849295390658384e-15, 2.903470716620845e-15, 3.3511440678395154e-15]\n"
     ]
    },
    {
     "name": "stderr",
     "output_type": "stream",
     "text": [
      "[Parallel(n_jobs=-1)]: Done   3 out of   3 | elapsed:  1.8min finished\n",
      "[Parallel(n_jobs=-1)]: Using backend LokyBackend with 12 concurrent workers.\n"
     ]
    },
    {
     "name": "stdout",
     "output_type": "stream",
     "text": [
      "K-Fold #0\n",
      "Mean negativities for all classes: [0.3658484944471713, 0.36551683204281443, 0.33600606822390805]\n",
      "Mean entropies for all classes: [3.59212113346698e-15, 3.134356583351678e-15, 4.025346900091956e-15]\n",
      "              precision    recall  f1-score   support\n",
      "\n",
      "           0       1.00      0.20      0.33         5\n",
      "           1       0.50      0.60      0.55         5\n",
      "           2       0.62      1.00      0.77         5\n",
      "\n",
      "    accuracy                           0.60        15\n",
      "   macro avg       0.71      0.60      0.55        15\n",
      "weighted avg       0.71      0.60      0.55        15\n",
      "\n",
      "-------------------------------------------------------------------------------------------------------------------\n"
     ]
    },
    {
     "name": "stderr",
     "output_type": "stream",
     "text": [
      "[Parallel(n_jobs=-1)]: Done   3 out of   3 | elapsed:  1.8min finished\n",
      "[Parallel(n_jobs=-1)]: Using backend LokyBackend with 12 concurrent workers.\n"
     ]
    },
    {
     "name": "stdout",
     "output_type": "stream",
     "text": [
      "K-Fold #1\n",
      "Mean negativities for all classes: [0.35243302889194783, 0.3641957266422488, 0.35239156661319837]\n",
      "Mean entropies for all classes: [3.599895319903744e-15, 3.717180707757832e-15, 3.5307554576083175e-15]\n",
      "              precision    recall  f1-score   support\n",
      "\n",
      "           0       0.50      0.20      0.29         5\n",
      "           1       0.25      0.20      0.22         5\n",
      "           2       0.56      1.00      0.71         5\n",
      "\n",
      "    accuracy                           0.47        15\n",
      "   macro avg       0.44      0.47      0.41        15\n",
      "weighted avg       0.44      0.47      0.41        15\n",
      "\n",
      "-------------------------------------------------------------------------------------------------------------------\n"
     ]
    },
    {
     "name": "stderr",
     "output_type": "stream",
     "text": [
      "[Parallel(n_jobs=-1)]: Done   3 out of   3 | elapsed:  1.8min finished\n",
      "[Parallel(n_jobs=-1)]: Using backend LokyBackend with 12 concurrent workers.\n"
     ]
    },
    {
     "name": "stdout",
     "output_type": "stream",
     "text": [
      "K-Fold #2\n",
      "Mean negativities for all classes: [0.34773649171042176, 0.3677695527822486, 0.34548383112519926]\n",
      "Mean entropies for all classes: [3.446864704068885e-15, 3.2695769949660718e-15, 3.592049886151614e-15]\n",
      "              precision    recall  f1-score   support\n",
      "\n",
      "           0       0.50      0.20      0.29         5\n",
      "           1       0.50      0.40      0.44         5\n",
      "           2       0.56      1.00      0.71         5\n",
      "\n",
      "    accuracy                           0.53        15\n",
      "   macro avg       0.52      0.53      0.48        15\n",
      "weighted avg       0.52      0.53      0.48        15\n",
      "\n",
      "-------------------------------------------------------------------------------------------------------------------\n"
     ]
    },
    {
     "name": "stderr",
     "output_type": "stream",
     "text": [
      "[Parallel(n_jobs=-1)]: Done   3 out of   3 | elapsed:  1.8min finished\n",
      "[Parallel(n_jobs=-1)]: Using backend LokyBackend with 12 concurrent workers.\n"
     ]
    },
    {
     "name": "stdout",
     "output_type": "stream",
     "text": [
      "K-Fold #3\n",
      "Mean negativities for all classes: [0.3632050838099171, 0.3346888032081836, 0.35804993513967054]\n",
      "Mean entropies for all classes: [-8.237694094271835e-16, 4.124566690134147e-15, 3.618375001992071e-15]\n",
      "              precision    recall  f1-score   support\n",
      "\n",
      "           0       1.00      0.80      0.89         5\n",
      "           1       0.71      1.00      0.83         5\n",
      "           2       1.00      0.80      0.89         5\n",
      "\n",
      "    accuracy                           0.87        15\n",
      "   macro avg       0.90      0.87      0.87        15\n",
      "weighted avg       0.90      0.87      0.87        15\n",
      "\n",
      "-------------------------------------------------------------------------------------------------------------------\n"
     ]
    },
    {
     "name": "stderr",
     "output_type": "stream",
     "text": [
      "[Parallel(n_jobs=-1)]: Done   3 out of   3 | elapsed:  1.8min finished\n",
      "c:\\ProgramData\\Anaconda3\\lib\\site-packages\\sklearn\\metrics\\_classification.py:1344: UndefinedMetricWarning: Precision and F-score are ill-defined and being set to 0.0 in labels with no predicted samples. Use `zero_division` parameter to control this behavior.\n",
      "  _warn_prf(average, modifier, msg_start, len(result))\n",
      "c:\\ProgramData\\Anaconda3\\lib\\site-packages\\sklearn\\metrics\\_classification.py:1344: UndefinedMetricWarning: Precision and F-score are ill-defined and being set to 0.0 in labels with no predicted samples. Use `zero_division` parameter to control this behavior.\n",
      "  _warn_prf(average, modifier, msg_start, len(result))\n",
      "c:\\ProgramData\\Anaconda3\\lib\\site-packages\\sklearn\\metrics\\_classification.py:1344: UndefinedMetricWarning: Precision and F-score are ill-defined and being set to 0.0 in labels with no predicted samples. Use `zero_division` parameter to control this behavior.\n",
      "  _warn_prf(average, modifier, msg_start, len(result))\n",
      "[Parallel(n_jobs=-1)]: Using backend LokyBackend with 12 concurrent workers.\n"
     ]
    },
    {
     "name": "stdout",
     "output_type": "stream",
     "text": [
      "K-Fold #4\n",
      "Mean negativities for all classes: [0.3135215961092579, 0.3472095212270299, 0.3609482972981288]\n",
      "Mean entropies for all classes: [3.3409025806712704e-15, 4.534700379760697e-15, 4.6034497499040165e-15]\n",
      "              precision    recall  f1-score   support\n",
      "\n",
      "           0       0.00      0.00      0.00         5\n",
      "           1       0.62      1.00      0.77         5\n",
      "           2       0.57      0.80      0.67         5\n",
      "\n",
      "    accuracy                           0.60        15\n",
      "   macro avg       0.40      0.60      0.48        15\n",
      "weighted avg       0.40      0.60      0.48        15\n",
      "\n",
      "-------------------------------------------------------------------------------------------------------------------\n"
     ]
    },
    {
     "name": "stderr",
     "output_type": "stream",
     "text": [
      "[Parallel(n_jobs=-1)]: Done   3 out of   3 | elapsed:  1.8min finished\n",
      "c:\\ProgramData\\Anaconda3\\lib\\site-packages\\sklearn\\metrics\\_classification.py:1344: UndefinedMetricWarning: Precision and F-score are ill-defined and being set to 0.0 in labels with no predicted samples. Use `zero_division` parameter to control this behavior.\n",
      "  _warn_prf(average, modifier, msg_start, len(result))\n",
      "c:\\ProgramData\\Anaconda3\\lib\\site-packages\\sklearn\\metrics\\_classification.py:1344: UndefinedMetricWarning: Precision and F-score are ill-defined and being set to 0.0 in labels with no predicted samples. Use `zero_division` parameter to control this behavior.\n",
      "  _warn_prf(average, modifier, msg_start, len(result))\n",
      "c:\\ProgramData\\Anaconda3\\lib\\site-packages\\sklearn\\metrics\\_classification.py:1344: UndefinedMetricWarning: Precision and F-score are ill-defined and being set to 0.0 in labels with no predicted samples. Use `zero_division` parameter to control this behavior.\n",
      "  _warn_prf(average, modifier, msg_start, len(result))\n",
      "[Parallel(n_jobs=-1)]: Using backend LokyBackend with 12 concurrent workers.\n"
     ]
    },
    {
     "name": "stdout",
     "output_type": "stream",
     "text": [
      "K-Fold #5\n",
      "Mean negativities for all classes: [0.3277279570670916, 0.36735043222728586, 0.32998824789184145]\n",
      "Mean entropies for all classes: [3.057769078909596e-15, 3.976502810753222e-15, 3.559861709236407e-15]\n",
      "              precision    recall  f1-score   support\n",
      "\n",
      "           0       0.00      0.00      0.00         5\n",
      "           1       0.25      0.40      0.31         5\n",
      "           2       0.57      0.80      0.67         5\n",
      "\n",
      "    accuracy                           0.40        15\n",
      "   macro avg       0.27      0.40      0.32        15\n",
      "weighted avg       0.27      0.40      0.32        15\n",
      "\n",
      "-------------------------------------------------------------------------------------------------------------------\n"
     ]
    },
    {
     "name": "stderr",
     "output_type": "stream",
     "text": [
      "[Parallel(n_jobs=-1)]: Done   3 out of   3 | elapsed:  1.8min finished\n",
      "[Parallel(n_jobs=-1)]: Using backend LokyBackend with 12 concurrent workers.\n"
     ]
    },
    {
     "name": "stdout",
     "output_type": "stream",
     "text": [
      "K-Fold #6\n",
      "Mean negativities for all classes: [0.3505743385500934, 0.36349843586967995, 0.328527022405076]\n",
      "Mean entropies for all classes: [4.786440579327264e-15, 5.189664477409417e-15, 3.1840458634427958e-15]\n",
      "              precision    recall  f1-score   support\n",
      "\n",
      "           0       1.00      0.20      0.33         5\n",
      "           1       0.50      0.80      0.62         5\n",
      "           2       0.83      1.00      0.91         5\n",
      "\n",
      "    accuracy                           0.67        15\n",
      "   macro avg       0.78      0.67      0.62        15\n",
      "weighted avg       0.78      0.67      0.62        15\n",
      "\n",
      "-------------------------------------------------------------------------------------------------------------------\n"
     ]
    },
    {
     "name": "stderr",
     "output_type": "stream",
     "text": [
      "[Parallel(n_jobs=-1)]: Done   3 out of   3 | elapsed:  1.8min finished\n",
      "[Parallel(n_jobs=-1)]: Using backend LokyBackend with 12 concurrent workers.\n"
     ]
    },
    {
     "name": "stdout",
     "output_type": "stream",
     "text": [
      "K-Fold #7\n",
      "Mean negativities for all classes: [0.34671893105538254, 0.3537511475857214, 0.35609607786842806]\n",
      "Mean entropies for all classes: [2.8859130631622722e-15, 3.2912575484214197e-15, 4.180079872896348e-15]\n",
      "              precision    recall  f1-score   support\n",
      "\n",
      "           0       1.00      0.20      0.33         5\n",
      "           1       0.44      0.80      0.57         5\n",
      "           2       0.60      0.60      0.60         5\n",
      "\n",
      "    accuracy                           0.53        15\n",
      "   macro avg       0.68      0.53      0.50        15\n",
      "weighted avg       0.68      0.53      0.50        15\n",
      "\n",
      "-------------------------------------------------------------------------------------------------------------------\n"
     ]
    },
    {
     "name": "stderr",
     "output_type": "stream",
     "text": [
      "[Parallel(n_jobs=-1)]: Done   3 out of   3 | elapsed:  1.8min finished\n",
      "[Parallel(n_jobs=-1)]: Using backend LokyBackend with 12 concurrent workers.\n"
     ]
    },
    {
     "name": "stdout",
     "output_type": "stream",
     "text": [
      "K-Fold #8\n",
      "Mean negativities for all classes: [0.36618591088856756, 0.3563063214097235, 0.3479704711328194]\n",
      "Mean entropies for all classes: [2.9546463686894625e-15, 4.860445511153016e-15, 3.3466970748203352e-15]\n",
      "              precision    recall  f1-score   support\n",
      "\n",
      "           0       1.00      0.40      0.57         5\n",
      "           1       0.50      0.60      0.55         5\n",
      "           2       0.71      1.00      0.83         5\n",
      "\n",
      "    accuracy                           0.67        15\n",
      "   macro avg       0.74      0.67      0.65        15\n",
      "weighted avg       0.74      0.67      0.65        15\n",
      "\n",
      "-------------------------------------------------------------------------------------------------------------------\n"
     ]
    },
    {
     "name": "stderr",
     "output_type": "stream",
     "text": [
      "[Parallel(n_jobs=-1)]: Done   3 out of   3 | elapsed:  1.8min finished\n",
      "[Parallel(n_jobs=-1)]: Using backend LokyBackend with 12 concurrent workers.\n"
     ]
    },
    {
     "name": "stdout",
     "output_type": "stream",
     "text": [
      "K-Fold #9\n",
      "Mean negativities for all classes: [0.3471765923598605, 0.3664508554991917, 0.3302216881387128]\n",
      "Mean entropies for all classes: [4.212548211368904e-15, 3.782921753269414e-15, 3.995526162610905e-15]\n",
      "              precision    recall  f1-score   support\n",
      "\n",
      "           0       1.00      0.40      0.57         5\n",
      "           1       0.56      1.00      0.71         5\n",
      "           2       1.00      0.80      0.89         5\n",
      "\n",
      "    accuracy                           0.73        15\n",
      "   macro avg       0.85      0.73      0.72        15\n",
      "weighted avg       0.85      0.73      0.72        15\n",
      "\n",
      "-------------------------------------------------------------------------------------------------------------------\n",
      "AVG: Scores = 0.6066666666666667 F1-Scores = 0.5607814407814408 Negativity = [0.3557904649046313, 0.356340107382465, 0.35366329187262324] Entropy = [3.5839415389702045e-15, 3.615943828423298e-15, 3.436163861728857e-15]\n"
     ]
    },
    {
     "name": "stderr",
     "output_type": "stream",
     "text": [
      "[Parallel(n_jobs=-1)]: Done   3 out of   3 | elapsed:  1.8min finished\n",
      "[Parallel(n_jobs=-1)]: Using backend LokyBackend with 12 concurrent workers.\n"
     ]
    },
    {
     "name": "stdout",
     "output_type": "stream",
     "text": [
      "K-Fold #0\n",
      "Mean negativities for all classes: [0.35593281494069656, 0.3279835243452085, 0.36381394808379525]\n",
      "Mean entropies for all classes: [2.691860417336589e-15, 3.3773749981905402e-15, 3.505075696178028e-15]\n",
      "              precision    recall  f1-score   support\n",
      "\n",
      "           0       0.67      0.40      0.50         5\n",
      "           1       0.50      0.60      0.55         5\n",
      "           2       0.67      0.80      0.73         5\n",
      "\n",
      "    accuracy                           0.60        15\n",
      "   macro avg       0.61      0.60      0.59        15\n",
      "weighted avg       0.61      0.60      0.59        15\n",
      "\n",
      "-------------------------------------------------------------------------------------------------------------------\n"
     ]
    },
    {
     "name": "stderr",
     "output_type": "stream",
     "text": [
      "[Parallel(n_jobs=-1)]: Done   3 out of   3 | elapsed:  1.8min finished\n",
      "[Parallel(n_jobs=-1)]: Using backend LokyBackend with 12 concurrent workers.\n"
     ]
    },
    {
     "name": "stdout",
     "output_type": "stream",
     "text": [
      "K-Fold #1\n",
      "Mean negativities for all classes: [0.3384110789185439, 0.3530899847080379, 0.36913382051501437]\n",
      "Mean entropies for all classes: [2.665857723072414e-15, 4.273190173285904e-15, 3.9451032807689914e-15]\n",
      "              precision    recall  f1-score   support\n",
      "\n",
      "           0       0.75      0.60      0.67         5\n",
      "           1       0.50      0.60      0.55         5\n",
      "           2       0.80      0.80      0.80         5\n",
      "\n",
      "    accuracy                           0.67        15\n",
      "   macro avg       0.68      0.67      0.67        15\n",
      "weighted avg       0.68      0.67      0.67        15\n",
      "\n",
      "-------------------------------------------------------------------------------------------------------------------\n"
     ]
    },
    {
     "name": "stderr",
     "output_type": "stream",
     "text": [
      "[Parallel(n_jobs=-1)]: Done   3 out of   3 | elapsed:  1.8min finished\n",
      "[Parallel(n_jobs=-1)]: Using backend LokyBackend with 12 concurrent workers.\n"
     ]
    },
    {
     "name": "stdout",
     "output_type": "stream",
     "text": [
      "K-Fold #2\n",
      "Mean negativities for all classes: [0.3366321541196872, 0.3839361116704825, 0.34152901336332103]\n",
      "Mean entropies for all classes: [3.9318304821385946e-15, 4.280229480958882e-15, 3.504389726847297e-15]\n",
      "              precision    recall  f1-score   support\n",
      "\n",
      "           0       1.00      0.20      0.33         5\n",
      "           1       0.50      0.80      0.62         5\n",
      "           2       0.83      1.00      0.91         5\n",
      "\n",
      "    accuracy                           0.67        15\n",
      "   macro avg       0.78      0.67      0.62        15\n",
      "weighted avg       0.78      0.67      0.62        15\n",
      "\n",
      "-------------------------------------------------------------------------------------------------------------------\n"
     ]
    },
    {
     "name": "stderr",
     "output_type": "stream",
     "text": [
      "[Parallel(n_jobs=-1)]: Done   3 out of   3 | elapsed:  1.8min finished\n",
      "c:\\ProgramData\\Anaconda3\\lib\\site-packages\\sklearn\\metrics\\_classification.py:1344: UndefinedMetricWarning: Precision and F-score are ill-defined and being set to 0.0 in labels with no predicted samples. Use `zero_division` parameter to control this behavior.\n",
      "  _warn_prf(average, modifier, msg_start, len(result))\n",
      "c:\\ProgramData\\Anaconda3\\lib\\site-packages\\sklearn\\metrics\\_classification.py:1344: UndefinedMetricWarning: Precision and F-score are ill-defined and being set to 0.0 in labels with no predicted samples. Use `zero_division` parameter to control this behavior.\n",
      "  _warn_prf(average, modifier, msg_start, len(result))\n",
      "c:\\ProgramData\\Anaconda3\\lib\\site-packages\\sklearn\\metrics\\_classification.py:1344: UndefinedMetricWarning: Precision and F-score are ill-defined and being set to 0.0 in labels with no predicted samples. Use `zero_division` parameter to control this behavior.\n",
      "  _warn_prf(average, modifier, msg_start, len(result))\n",
      "[Parallel(n_jobs=-1)]: Using backend LokyBackend with 12 concurrent workers.\n"
     ]
    },
    {
     "name": "stdout",
     "output_type": "stream",
     "text": [
      "K-Fold #3\n",
      "Mean negativities for all classes: [0.35261905310636327, 0.3397853740829083, 0.3364877160851848]\n",
      "Mean entropies for all classes: [4.184609317565423e-15, 5.383637929116947e-15, 4.81446791897073e-15]\n",
      "              precision    recall  f1-score   support\n",
      "\n",
      "           0       0.00      0.00      0.00         5\n",
      "           1       0.50      1.00      0.67         5\n",
      "           2       0.80      0.80      0.80         5\n",
      "\n",
      "    accuracy                           0.60        15\n",
      "   macro avg       0.43      0.60      0.49        15\n",
      "weighted avg       0.43      0.60      0.49        15\n",
      "\n",
      "-------------------------------------------------------------------------------------------------------------------\n"
     ]
    },
    {
     "name": "stderr",
     "output_type": "stream",
     "text": [
      "[Parallel(n_jobs=-1)]: Done   3 out of   3 | elapsed:  1.8min finished\n",
      "[Parallel(n_jobs=-1)]: Using backend LokyBackend with 12 concurrent workers.\n"
     ]
    },
    {
     "name": "stdout",
     "output_type": "stream",
     "text": [
      "K-Fold #4\n",
      "Mean negativities for all classes: [0.3201587525885821, 0.38061174767568373, 0.31865900806532815]\n",
      "Mean entropies for all classes: [3.3006000278771734e-15, 4.198505997936263e-15, 3.752341849054157e-15]\n",
      "              precision    recall  f1-score   support\n",
      "\n",
      "           0       0.67      0.40      0.50         5\n",
      "           1       0.25      0.20      0.22         5\n",
      "           2       0.50      0.80      0.62         5\n",
      "\n",
      "    accuracy                           0.47        15\n",
      "   macro avg       0.47      0.47      0.45        15\n",
      "weighted avg       0.47      0.47      0.45        15\n",
      "\n",
      "-------------------------------------------------------------------------------------------------------------------\n"
     ]
    },
    {
     "name": "stderr",
     "output_type": "stream",
     "text": [
      "[Parallel(n_jobs=-1)]: Done   3 out of   3 | elapsed:  1.8min finished\n",
      "[Parallel(n_jobs=-1)]: Using backend LokyBackend with 12 concurrent workers.\n"
     ]
    },
    {
     "name": "stdout",
     "output_type": "stream",
     "text": [
      "K-Fold #5\n",
      "Mean negativities for all classes: [0.33001784609110224, 0.3547547868570776, 0.35893518049838324]\n",
      "Mean entropies for all classes: [6.357416910758829e-15, 3.2238005932572583e-15, 3.738073238243844e-15]\n",
      "              precision    recall  f1-score   support\n",
      "\n",
      "           0       1.00      0.40      0.57         5\n",
      "           1       0.67      0.40      0.50         5\n",
      "           2       0.50      1.00      0.67         5\n",
      "\n",
      "    accuracy                           0.60        15\n",
      "   macro avg       0.72      0.60      0.58        15\n",
      "weighted avg       0.72      0.60      0.58        15\n",
      "\n",
      "-------------------------------------------------------------------------------------------------------------------\n"
     ]
    },
    {
     "name": "stderr",
     "output_type": "stream",
     "text": [
      "[Parallel(n_jobs=-1)]: Done   3 out of   3 | elapsed:  1.8min finished\n",
      "[Parallel(n_jobs=-1)]: Using backend LokyBackend with 12 concurrent workers.\n"
     ]
    },
    {
     "name": "stdout",
     "output_type": "stream",
     "text": [
      "K-Fold #6\n",
      "Mean negativities for all classes: [0.35599335146238137, 0.3703040636013626, 0.3427585566104326]\n",
      "Mean entropies for all classes: [-1.334612955680897e-15, 4.8783109908204406e-15, 3.4434439713649643e-15]\n",
      "              precision    recall  f1-score   support\n",
      "\n",
      "           0       1.00      0.20      0.33         5\n",
      "           1       0.50      0.80      0.62         5\n",
      "           2       0.83      1.00      0.91         5\n",
      "\n",
      "    accuracy                           0.67        15\n",
      "   macro avg       0.78      0.67      0.62        15\n",
      "weighted avg       0.78      0.67      0.62        15\n",
      "\n",
      "-------------------------------------------------------------------------------------------------------------------\n"
     ]
    },
    {
     "name": "stderr",
     "output_type": "stream",
     "text": [
      "[Parallel(n_jobs=-1)]: Done   3 out of   3 | elapsed:  1.8min finished\n",
      "[Parallel(n_jobs=-1)]: Using backend LokyBackend with 12 concurrent workers.\n"
     ]
    },
    {
     "name": "stdout",
     "output_type": "stream",
     "text": [
      "K-Fold #7\n",
      "Mean negativities for all classes: [0.36279036213758364, 0.37192536747703436, 0.3461960175535202]\n",
      "Mean entropies for all classes: [4.6758734501053636e-15, 4.650001087326179e-15, 5.1019549794146446e-15]\n",
      "              precision    recall  f1-score   support\n",
      "\n",
      "           0       1.00      0.40      0.57         5\n",
      "           1       0.57      0.80      0.67         5\n",
      "           2       0.83      1.00      0.91         5\n",
      "\n",
      "    accuracy                           0.73        15\n",
      "   macro avg       0.80      0.73      0.72        15\n",
      "weighted avg       0.80      0.73      0.72        15\n",
      "\n",
      "-------------------------------------------------------------------------------------------------------------------\n"
     ]
    },
    {
     "name": "stderr",
     "output_type": "stream",
     "text": [
      "[Parallel(n_jobs=-1)]: Done   3 out of   3 | elapsed:  1.8min finished\n",
      "[Parallel(n_jobs=-1)]: Using backend LokyBackend with 12 concurrent workers.\n"
     ]
    },
    {
     "name": "stdout",
     "output_type": "stream",
     "text": [
      "K-Fold #8\n",
      "Mean negativities for all classes: [0.34521586672588794, 0.34604596257867853, 0.3454080096367056]\n",
      "Mean entropies for all classes: [-1.9102845306276492e-15, 3.870731367768152e-15, 4.019126739856442e-15]\n",
      "              precision    recall  f1-score   support\n",
      "\n",
      "           0       1.00      0.60      0.75         5\n",
      "           1       0.71      1.00      0.83         5\n",
      "           2       0.80      0.80      0.80         5\n",
      "\n",
      "    accuracy                           0.80        15\n",
      "   macro avg       0.84      0.80      0.79        15\n",
      "weighted avg       0.84      0.80      0.79        15\n",
      "\n",
      "-------------------------------------------------------------------------------------------------------------------\n"
     ]
    },
    {
     "name": "stderr",
     "output_type": "stream",
     "text": [
      "[Parallel(n_jobs=-1)]: Done   3 out of   3 | elapsed:  1.8min finished\n",
      "[Parallel(n_jobs=-1)]: Using backend LokyBackend with 12 concurrent workers.\n"
     ]
    },
    {
     "name": "stdout",
     "output_type": "stream",
     "text": [
      "K-Fold #9\n",
      "Mean negativities for all classes: [0.3391505815727666, 0.34578614496566235, 0.34424513706637533]\n",
      "Mean entropies for all classes: [3.0623030594542265e-15, 3.7616614730511446e-15, 3.0860118569258866e-15]\n",
      "              precision    recall  f1-score   support\n",
      "\n",
      "           0       1.00      0.20      0.33         5\n",
      "           1       0.56      1.00      0.71         5\n",
      "           2       1.00      1.00      1.00         5\n",
      "\n",
      "    accuracy                           0.73        15\n",
      "   macro avg       0.85      0.73      0.68        15\n",
      "weighted avg       0.85      0.73      0.68        15\n",
      "\n",
      "-------------------------------------------------------------------------------------------------------------------\n",
      "AVG: Scores = 0.6533333333333333 F1-Scores = 0.6206991156991157 Negativity = [0.3492434291232334, 0.353544961380532, 0.35403242638449695] Entropy = [3.191437037235052e-15, 3.62805039237577e-15, 3.905483229981591e-15]\n"
     ]
    },
    {
     "name": "stderr",
     "output_type": "stream",
     "text": [
      "[Parallel(n_jobs=-1)]: Done   3 out of   3 | elapsed:  1.8min finished\n",
      "[Parallel(n_jobs=-1)]: Using backend LokyBackend with 12 concurrent workers.\n"
     ]
    },
    {
     "name": "stdout",
     "output_type": "stream",
     "text": [
      "K-Fold #0\n",
      "Mean negativities for all classes: [0.35551293698682174, 0.364771661848434, 0.36149716859627923]\n",
      "Mean entropies for all classes: [3.579158320401623e-15, 3.0560839035878903e-15, 3.555247844049549e-15]\n",
      "              precision    recall  f1-score   support\n",
      "\n",
      "           0       1.00      0.20      0.33         5\n",
      "           1       0.33      0.40      0.36         5\n",
      "           2       0.62      1.00      0.77         5\n",
      "\n",
      "    accuracy                           0.53        15\n",
      "   macro avg       0.65      0.53      0.49        15\n",
      "weighted avg       0.65      0.53      0.49        15\n",
      "\n",
      "-------------------------------------------------------------------------------------------------------------------\n"
     ]
    },
    {
     "name": "stderr",
     "output_type": "stream",
     "text": [
      "[Parallel(n_jobs=-1)]: Done   3 out of   3 | elapsed:  1.8min finished\n",
      "[Parallel(n_jobs=-1)]: Using backend LokyBackend with 12 concurrent workers.\n"
     ]
    },
    {
     "name": "stdout",
     "output_type": "stream",
     "text": [
      "K-Fold #1\n",
      "Mean negativities for all classes: [0.35212617412732355, 0.3394650905608529, 0.3449626776889864]\n",
      "Mean entropies for all classes: [2.0228910523268894e-15, 2.743809164245718e-15, 3.710308978568999e-15]\n",
      "              precision    recall  f1-score   support\n",
      "\n",
      "           0       0.50      0.20      0.29         5\n",
      "           1       0.67      0.40      0.50         5\n",
      "           2       0.40      0.80      0.53         5\n",
      "\n",
      "    accuracy                           0.47        15\n",
      "   macro avg       0.52      0.47      0.44        15\n",
      "weighted avg       0.52      0.47      0.44        15\n",
      "\n",
      "-------------------------------------------------------------------------------------------------------------------\n"
     ]
    },
    {
     "name": "stderr",
     "output_type": "stream",
     "text": [
      "[Parallel(n_jobs=-1)]: Done   3 out of   3 | elapsed:  1.8min finished\n",
      "[Parallel(n_jobs=-1)]: Using backend LokyBackend with 12 concurrent workers.\n"
     ]
    },
    {
     "name": "stdout",
     "output_type": "stream",
     "text": [
      "K-Fold #2\n",
      "Mean negativities for all classes: [0.33681823427757723, 0.36071714913130465, 0.32686021926904896]\n",
      "Mean entropies for all classes: [3.4105363206082112e-15, 3.2169829732105384e-15, 3.8496294657139754e-15]\n",
      "              precision    recall  f1-score   support\n",
      "\n",
      "           0       0.00      0.00      0.00         5\n",
      "           1       0.44      0.80      0.57         5\n",
      "           2       1.00      1.00      1.00         5\n",
      "\n",
      "    accuracy                           0.60        15\n",
      "   macro avg       0.48      0.60      0.52        15\n",
      "weighted avg       0.48      0.60      0.52        15\n",
      "\n",
      "-------------------------------------------------------------------------------------------------------------------\n"
     ]
    },
    {
     "name": "stderr",
     "output_type": "stream",
     "text": [
      "[Parallel(n_jobs=-1)]: Done   3 out of   3 | elapsed:  1.8min finished\n",
      "[Parallel(n_jobs=-1)]: Using backend LokyBackend with 12 concurrent workers.\n"
     ]
    },
    {
     "name": "stdout",
     "output_type": "stream",
     "text": [
      "K-Fold #3\n",
      "Mean negativities for all classes: [0.3297697837430553, 0.35930696207031076, 0.34486807935486524]\n",
      "Mean entropies for all classes: [4.726552570509579e-15, 3.882243582565886e-15, 3.3988084038952464e-15]\n",
      "              precision    recall  f1-score   support\n",
      "\n",
      "           0       0.75      0.60      0.67         5\n",
      "           1       0.40      0.40      0.40         5\n",
      "           2       0.67      0.80      0.73         5\n",
      "\n",
      "    accuracy                           0.60        15\n",
      "   macro avg       0.61      0.60      0.60        15\n",
      "weighted avg       0.61      0.60      0.60        15\n",
      "\n",
      "-------------------------------------------------------------------------------------------------------------------\n"
     ]
    },
    {
     "name": "stderr",
     "output_type": "stream",
     "text": [
      "[Parallel(n_jobs=-1)]: Done   3 out of   3 | elapsed:  1.8min finished\n",
      "[Parallel(n_jobs=-1)]: Using backend LokyBackend with 12 concurrent workers.\n"
     ]
    },
    {
     "name": "stdout",
     "output_type": "stream",
     "text": [
      "K-Fold #4\n",
      "Mean negativities for all classes: [0.34052778031585945, 0.3714864918560126, 0.35302605014826105]\n",
      "Mean entropies for all classes: [4.547640278831173e-15, 3.831215205252995e-15, 3.599218365814539e-15]\n",
      "              precision    recall  f1-score   support\n",
      "\n",
      "           0       1.00      0.20      0.33         5\n",
      "           1       0.50      1.00      0.67         5\n",
      "           2       1.00      0.80      0.89         5\n",
      "\n",
      "    accuracy                           0.67        15\n",
      "   macro avg       0.83      0.67      0.63        15\n",
      "weighted avg       0.83      0.67      0.63        15\n",
      "\n",
      "-------------------------------------------------------------------------------------------------------------------\n"
     ]
    },
    {
     "name": "stderr",
     "output_type": "stream",
     "text": [
      "[Parallel(n_jobs=-1)]: Done   3 out of   3 | elapsed:  1.8min finished\n",
      "c:\\ProgramData\\Anaconda3\\lib\\site-packages\\sklearn\\metrics\\_classification.py:1344: UndefinedMetricWarning: Precision and F-score are ill-defined and being set to 0.0 in labels with no predicted samples. Use `zero_division` parameter to control this behavior.\n",
      "  _warn_prf(average, modifier, msg_start, len(result))\n",
      "c:\\ProgramData\\Anaconda3\\lib\\site-packages\\sklearn\\metrics\\_classification.py:1344: UndefinedMetricWarning: Precision and F-score are ill-defined and being set to 0.0 in labels with no predicted samples. Use `zero_division` parameter to control this behavior.\n",
      "  _warn_prf(average, modifier, msg_start, len(result))\n",
      "c:\\ProgramData\\Anaconda3\\lib\\site-packages\\sklearn\\metrics\\_classification.py:1344: UndefinedMetricWarning: Precision and F-score are ill-defined and being set to 0.0 in labels with no predicted samples. Use `zero_division` parameter to control this behavior.\n",
      "  _warn_prf(average, modifier, msg_start, len(result))\n",
      "[Parallel(n_jobs=-1)]: Using backend LokyBackend with 12 concurrent workers.\n"
     ]
    },
    {
     "name": "stdout",
     "output_type": "stream",
     "text": [
      "K-Fold #5\n",
      "Mean negativities for all classes: [0.325863032054457, 0.37748833345190874, 0.3416251767398012]\n",
      "Mean entropies for all classes: [3.5520748709640863e-15, 4.178027303831782e-15, 5.593244005849564e-15]\n",
      "              precision    recall  f1-score   support\n",
      "\n",
      "           0       0.00      0.00      0.00         5\n",
      "           1       0.38      0.60      0.46         5\n",
      "           2       0.71      1.00      0.83         5\n",
      "\n",
      "    accuracy                           0.53        15\n",
      "   macro avg       0.36      0.53      0.43        15\n",
      "weighted avg       0.36      0.53      0.43        15\n",
      "\n",
      "-------------------------------------------------------------------------------------------------------------------\n"
     ]
    },
    {
     "name": "stderr",
     "output_type": "stream",
     "text": [
      "[Parallel(n_jobs=-1)]: Done   3 out of   3 | elapsed:  1.8min finished\n",
      "[Parallel(n_jobs=-1)]: Using backend LokyBackend with 12 concurrent workers.\n"
     ]
    },
    {
     "name": "stdout",
     "output_type": "stream",
     "text": [
      "K-Fold #6\n",
      "Mean negativities for all classes: [0.3609594132073742, 0.3390024825946941, 0.3545853086502706]\n",
      "Mean entropies for all classes: [5.151493699512967e-15, 4.284396204511063e-15, 3.644050358194623e-15]\n",
      "              precision    recall  f1-score   support\n",
      "\n",
      "           0       1.00      0.20      0.33         5\n",
      "           1       0.67      0.80      0.73         5\n",
      "           2       0.50      0.80      0.62         5\n",
      "\n",
      "    accuracy                           0.60        15\n",
      "   macro avg       0.72      0.60      0.56        15\n",
      "weighted avg       0.72      0.60      0.56        15\n",
      "\n",
      "-------------------------------------------------------------------------------------------------------------------\n"
     ]
    },
    {
     "name": "stderr",
     "output_type": "stream",
     "text": [
      "[Parallel(n_jobs=-1)]: Done   3 out of   3 | elapsed:  1.8min finished\n",
      "[Parallel(n_jobs=-1)]: Using backend LokyBackend with 12 concurrent workers.\n"
     ]
    },
    {
     "name": "stdout",
     "output_type": "stream",
     "text": [
      "K-Fold #7\n",
      "Mean negativities for all classes: [0.3092014642500016, 0.38266826255465564, 0.33680364162431914]\n",
      "Mean entropies for all classes: [3.4225705992264775e-15, 4.0978963732691016e-15, 3.2413792791886317e-15]\n",
      "              precision    recall  f1-score   support\n",
      "\n",
      "           0       1.00      0.20      0.33         5\n",
      "           1       0.00      0.00      0.00         5\n",
      "           2       0.42      1.00      0.59         5\n",
      "\n",
      "    accuracy                           0.40        15\n",
      "   macro avg       0.47      0.40      0.31        15\n",
      "weighted avg       0.47      0.40      0.31        15\n",
      "\n",
      "-------------------------------------------------------------------------------------------------------------------\n"
     ]
    },
    {
     "name": "stderr",
     "output_type": "stream",
     "text": [
      "[Parallel(n_jobs=-1)]: Done   3 out of   3 | elapsed:  1.8min finished\n",
      "[Parallel(n_jobs=-1)]: Using backend LokyBackend with 12 concurrent workers.\n"
     ]
    },
    {
     "name": "stdout",
     "output_type": "stream",
     "text": [
      "K-Fold #8\n",
      "Mean negativities for all classes: [0.3726159669115071, 0.34825748073599616, 0.3403167303759395]\n",
      "Mean entropies for all classes: [3.682850980129212e-15, 3.67928657537508e-15, 3.6244462481386904e-15]\n",
      "              precision    recall  f1-score   support\n",
      "\n",
      "           0       1.00      0.60      0.75         5\n",
      "           1       0.75      0.60      0.67         5\n",
      "           2       0.62      1.00      0.77         5\n",
      "\n",
      "    accuracy                           0.73        15\n",
      "   macro avg       0.79      0.73      0.73        15\n",
      "weighted avg       0.79      0.73      0.73        15\n",
      "\n",
      "-------------------------------------------------------------------------------------------------------------------\n"
     ]
    },
    {
     "name": "stderr",
     "output_type": "stream",
     "text": [
      "[Parallel(n_jobs=-1)]: Done   3 out of   3 | elapsed:  1.8min finished\n",
      "[Parallel(n_jobs=-1)]: Using backend LokyBackend with 12 concurrent workers.\n"
     ]
    },
    {
     "name": "stdout",
     "output_type": "stream",
     "text": [
      "K-Fold #9\n",
      "Mean negativities for all classes: [0.36886836936900924, 0.3573729727938034, 0.3302279238804202]\n",
      "Mean entropies for all classes: [3.01361868475405e-15, 4.473670467580929e-15, 4.606498379684292e-15]\n",
      "              precision    recall  f1-score   support\n",
      "\n",
      "           0       0.50      0.20      0.29         5\n",
      "           1       0.50      0.60      0.55         5\n",
      "           2       0.57      0.80      0.67         5\n",
      "\n",
      "    accuracy                           0.53        15\n",
      "   macro avg       0.52      0.53      0.50        15\n",
      "weighted avg       0.52      0.53      0.50        15\n",
      "\n",
      "-------------------------------------------------------------------------------------------------------------------\n",
      "AVG: Scores = 0.5666666666666667 F1-Scores = 0.5205222990517108 Negativity = [0.36059392247717836, 0.3455179807923876, 0.3414652008926436] Entropy = [3.3968300226796875e-15, 2.8256697317138686e-15, 3.492382919844242e-15]\n"
     ]
    },
    {
     "name": "stderr",
     "output_type": "stream",
     "text": [
      "[Parallel(n_jobs=-1)]: Done   3 out of   3 | elapsed:  1.8min finished\n",
      "[Parallel(n_jobs=-1)]: Using backend LokyBackend with 12 concurrent workers.\n"
     ]
    },
    {
     "name": "stdout",
     "output_type": "stream",
     "text": [
      "K-Fold #0\n",
      "Mean negativities for all classes: [0.3306783736636588, 0.3547942448335944, 0.3619430523354349]\n",
      "Mean entropies for all classes: [8.801457480631551e-15, 3.611565539132431e-15, 2.5650290549476484e-15]\n",
      "              precision    recall  f1-score   support\n",
      "\n",
      "           0       1.00      0.20      0.33         5\n",
      "           1       0.40      0.40      0.40         5\n",
      "           2       0.44      0.80      0.57         5\n",
      "\n",
      "    accuracy                           0.47        15\n",
      "   macro avg       0.61      0.47      0.43        15\n",
      "weighted avg       0.61      0.47      0.43        15\n",
      "\n",
      "-------------------------------------------------------------------------------------------------------------------\n"
     ]
    },
    {
     "name": "stderr",
     "output_type": "stream",
     "text": [
      "[Parallel(n_jobs=-1)]: Done   3 out of   3 | elapsed:  1.8min finished\n",
      "[Parallel(n_jobs=-1)]: Using backend LokyBackend with 12 concurrent workers.\n"
     ]
    },
    {
     "name": "stdout",
     "output_type": "stream",
     "text": [
      "K-Fold #1\n",
      "Mean negativities for all classes: [0.3425283711594837, 0.3305917390348116, 0.33030802893449185]\n",
      "Mean entropies for all classes: [3.593246511340733e-15, 3.823485853683137e-15, 3.9886543603434226e-15]\n",
      "              precision    recall  f1-score   support\n",
      "\n",
      "           0       1.00      0.20      0.33         5\n",
      "           1       0.56      1.00      0.71         5\n",
      "           2       1.00      1.00      1.00         5\n",
      "\n",
      "    accuracy                           0.73        15\n",
      "   macro avg       0.85      0.73      0.68        15\n",
      "weighted avg       0.85      0.73      0.68        15\n",
      "\n",
      "-------------------------------------------------------------------------------------------------------------------\n"
     ]
    },
    {
     "name": "stderr",
     "output_type": "stream",
     "text": [
      "[Parallel(n_jobs=-1)]: Done   3 out of   3 | elapsed:  1.8min finished\n",
      "c:\\ProgramData\\Anaconda3\\lib\\site-packages\\sklearn\\metrics\\_classification.py:1344: UndefinedMetricWarning: Precision and F-score are ill-defined and being set to 0.0 in labels with no predicted samples. Use `zero_division` parameter to control this behavior.\n",
      "  _warn_prf(average, modifier, msg_start, len(result))\n",
      "c:\\ProgramData\\Anaconda3\\lib\\site-packages\\sklearn\\metrics\\_classification.py:1344: UndefinedMetricWarning: Precision and F-score are ill-defined and being set to 0.0 in labels with no predicted samples. Use `zero_division` parameter to control this behavior.\n",
      "  _warn_prf(average, modifier, msg_start, len(result))\n",
      "c:\\ProgramData\\Anaconda3\\lib\\site-packages\\sklearn\\metrics\\_classification.py:1344: UndefinedMetricWarning: Precision and F-score are ill-defined and being set to 0.0 in labels with no predicted samples. Use `zero_division` parameter to control this behavior.\n",
      "  _warn_prf(average, modifier, msg_start, len(result))\n",
      "[Parallel(n_jobs=-1)]: Using backend LokyBackend with 12 concurrent workers.\n"
     ]
    },
    {
     "name": "stdout",
     "output_type": "stream",
     "text": [
      "K-Fold #2\n",
      "Mean negativities for all classes: [0.3308301630267314, 0.3724107966474564, 0.3232868154477831]\n",
      "Mean entropies for all classes: [3.61939737814127e-15, 3.6690936738663106e-15, 4.0197406935575765e-15]\n",
      "              precision    recall  f1-score   support\n",
      "\n",
      "           0       0.00      0.00      0.00         5\n",
      "           1       0.33      0.60      0.43         5\n",
      "           2       0.67      0.80      0.73         5\n",
      "\n",
      "    accuracy                           0.47        15\n",
      "   macro avg       0.33      0.47      0.39        15\n",
      "weighted avg       0.33      0.47      0.39        15\n",
      "\n",
      "-------------------------------------------------------------------------------------------------------------------\n"
     ]
    },
    {
     "name": "stderr",
     "output_type": "stream",
     "text": [
      "[Parallel(n_jobs=-1)]: Done   3 out of   3 | elapsed:  1.8min finished\n",
      "[Parallel(n_jobs=-1)]: Using backend LokyBackend with 12 concurrent workers.\n"
     ]
    },
    {
     "name": "stdout",
     "output_type": "stream",
     "text": [
      "K-Fold #3\n",
      "Mean negativities for all classes: [0.32335229410365574, 0.3388534771698202, 0.33666730799567623]\n",
      "Mean entropies for all classes: [2.5914213791205885e-15, 3.84052191288953e-15, 3.3315285961626873e-15]\n",
      "              precision    recall  f1-score   support\n",
      "\n",
      "           0       0.00      0.00      0.00         5\n",
      "           1       0.00      0.00      0.00         5\n",
      "           2       0.50      1.00      0.67         5\n",
      "\n",
      "    accuracy                           0.33        15\n",
      "   macro avg       0.17      0.33      0.22        15\n",
      "weighted avg       0.17      0.33      0.22        15\n",
      "\n",
      "-------------------------------------------------------------------------------------------------------------------\n"
     ]
    },
    {
     "name": "stderr",
     "output_type": "stream",
     "text": [
      "[Parallel(n_jobs=-1)]: Done   3 out of   3 | elapsed:  1.8min finished\n",
      "[Parallel(n_jobs=-1)]: Using backend LokyBackend with 12 concurrent workers.\n"
     ]
    },
    {
     "name": "stdout",
     "output_type": "stream",
     "text": [
      "K-Fold #4\n",
      "Mean negativities for all classes: [0.3441272957643036, 0.3618637493095887, 0.35721761749095754]\n",
      "Mean entropies for all classes: [8.964353646833575e-15, 4.276490174009262e-15, 3.5011762690862385e-15]\n",
      "              precision    recall  f1-score   support\n",
      "\n",
      "           0       1.00      0.20      0.33         5\n",
      "           1       0.67      0.80      0.73         5\n",
      "           2       0.62      1.00      0.77         5\n",
      "\n",
      "    accuracy                           0.67        15\n",
      "   macro avg       0.76      0.67      0.61        15\n",
      "weighted avg       0.76      0.67      0.61        15\n",
      "\n",
      "-------------------------------------------------------------------------------------------------------------------\n"
     ]
    },
    {
     "name": "stderr",
     "output_type": "stream",
     "text": [
      "[Parallel(n_jobs=-1)]: Done   3 out of   3 | elapsed:  1.8min finished\n",
      "c:\\ProgramData\\Anaconda3\\lib\\site-packages\\sklearn\\metrics\\_classification.py:1344: UndefinedMetricWarning: Precision and F-score are ill-defined and being set to 0.0 in labels with no predicted samples. Use `zero_division` parameter to control this behavior.\n",
      "  _warn_prf(average, modifier, msg_start, len(result))\n",
      "c:\\ProgramData\\Anaconda3\\lib\\site-packages\\sklearn\\metrics\\_classification.py:1344: UndefinedMetricWarning: Precision and F-score are ill-defined and being set to 0.0 in labels with no predicted samples. Use `zero_division` parameter to control this behavior.\n",
      "  _warn_prf(average, modifier, msg_start, len(result))\n",
      "c:\\ProgramData\\Anaconda3\\lib\\site-packages\\sklearn\\metrics\\_classification.py:1344: UndefinedMetricWarning: Precision and F-score are ill-defined and being set to 0.0 in labels with no predicted samples. Use `zero_division` parameter to control this behavior.\n",
      "  _warn_prf(average, modifier, msg_start, len(result))\n",
      "[Parallel(n_jobs=-1)]: Using backend LokyBackend with 12 concurrent workers.\n"
     ]
    },
    {
     "name": "stdout",
     "output_type": "stream",
     "text": [
      "K-Fold #5\n",
      "Mean negativities for all classes: [0.20601659390201746, 0.34776054571658893, 0.3575431454529626]\n",
      "Mean entropies for all classes: [3.5221739594585774e-15, 3.760096504987346e-15, 3.3912489485558274e-15]\n",
      "              precision    recall  f1-score   support\n",
      "\n",
      "           0       0.00      0.00      0.00         5\n",
      "           1       0.44      0.80      0.57         5\n",
      "           2       0.83      1.00      0.91         5\n",
      "\n",
      "    accuracy                           0.60        15\n",
      "   macro avg       0.43      0.60      0.49        15\n",
      "weighted avg       0.43      0.60      0.49        15\n",
      "\n",
      "-------------------------------------------------------------------------------------------------------------------\n"
     ]
    },
    {
     "name": "stderr",
     "output_type": "stream",
     "text": [
      "[Parallel(n_jobs=-1)]: Done   3 out of   3 | elapsed:  1.8min finished\n",
      "[Parallel(n_jobs=-1)]: Using backend LokyBackend with 12 concurrent workers.\n"
     ]
    },
    {
     "name": "stdout",
     "output_type": "stream",
     "text": [
      "K-Fold #6\n",
      "Mean negativities for all classes: [0.34854685300585064, 0.37353730265579954, 0.3289889870423911]\n",
      "Mean entropies for all classes: [3.133436692419299e-15, 4.157285185463741e-15, 4.131233816569063e-15]\n",
      "              precision    recall  f1-score   support\n",
      "\n",
      "           0       1.00      0.40      0.57         5\n",
      "           1       0.33      0.40      0.36         5\n",
      "           2       0.57      0.80      0.67         5\n",
      "\n",
      "    accuracy                           0.53        15\n",
      "   macro avg       0.63      0.53      0.53        15\n",
      "weighted avg       0.63      0.53      0.53        15\n",
      "\n",
      "-------------------------------------------------------------------------------------------------------------------\n"
     ]
    },
    {
     "name": "stderr",
     "output_type": "stream",
     "text": [
      "[Parallel(n_jobs=-1)]: Done   3 out of   3 | elapsed:  1.8min finished\n",
      "[Parallel(n_jobs=-1)]: Using backend LokyBackend with 12 concurrent workers.\n"
     ]
    },
    {
     "name": "stdout",
     "output_type": "stream",
     "text": [
      "K-Fold #7\n",
      "Mean negativities for all classes: [0.3649804113130764, 0.35925256938055306, 0.33787647621524786]\n",
      "Mean entropies for all classes: [3.5311313788171177e-15, 3.883951277728984e-15, 3.127780204128558e-15]\n",
      "              precision    recall  f1-score   support\n",
      "\n",
      "           0       1.00      0.40      0.57         5\n",
      "           1       0.40      0.40      0.40         5\n",
      "           2       0.62      1.00      0.77         5\n",
      "\n",
      "    accuracy                           0.60        15\n",
      "   macro avg       0.67      0.60      0.58        15\n",
      "weighted avg       0.68      0.60      0.58        15\n",
      "\n",
      "-------------------------------------------------------------------------------------------------------------------\n"
     ]
    },
    {
     "name": "stderr",
     "output_type": "stream",
     "text": [
      "[Parallel(n_jobs=-1)]: Done   3 out of   3 | elapsed:  1.8min finished\n",
      "c:\\ProgramData\\Anaconda3\\lib\\site-packages\\sklearn\\metrics\\_classification.py:1344: UndefinedMetricWarning: Precision and F-score are ill-defined and being set to 0.0 in labels with no predicted samples. Use `zero_division` parameter to control this behavior.\n",
      "  _warn_prf(average, modifier, msg_start, len(result))\n",
      "c:\\ProgramData\\Anaconda3\\lib\\site-packages\\sklearn\\metrics\\_classification.py:1344: UndefinedMetricWarning: Precision and F-score are ill-defined and being set to 0.0 in labels with no predicted samples. Use `zero_division` parameter to control this behavior.\n",
      "  _warn_prf(average, modifier, msg_start, len(result))\n",
      "c:\\ProgramData\\Anaconda3\\lib\\site-packages\\sklearn\\metrics\\_classification.py:1344: UndefinedMetricWarning: Precision and F-score are ill-defined and being set to 0.0 in labels with no predicted samples. Use `zero_division` parameter to control this behavior.\n",
      "  _warn_prf(average, modifier, msg_start, len(result))\n",
      "[Parallel(n_jobs=-1)]: Using backend LokyBackend with 12 concurrent workers.\n"
     ]
    },
    {
     "name": "stdout",
     "output_type": "stream",
     "text": [
      "K-Fold #8\n",
      "Mean negativities for all classes: [0.3281754991822229, 0.3504736764348786, 0.3451903412410657]\n",
      "Mean entropies for all classes: [3.8634788538772194e-15, 4.397874291427432e-15, 3.837739131887326e-15]\n",
      "              precision    recall  f1-score   support\n",
      "\n",
      "           0       0.00      0.00      0.00         5\n",
      "           1       0.83      1.00      0.91         5\n",
      "           2       0.56      1.00      0.71         5\n",
      "\n",
      "    accuracy                           0.67        15\n",
      "   macro avg       0.46      0.67      0.54        15\n",
      "weighted avg       0.46      0.67      0.54        15\n",
      "\n",
      "-------------------------------------------------------------------------------------------------------------------\n"
     ]
    },
    {
     "name": "stderr",
     "output_type": "stream",
     "text": [
      "[Parallel(n_jobs=-1)]: Done   3 out of   3 | elapsed:  1.8min finished\n",
      "[Parallel(n_jobs=-1)]: Using backend LokyBackend with 12 concurrent workers.\n"
     ]
    },
    {
     "name": "stdout",
     "output_type": "stream",
     "text": [
      "K-Fold #9\n",
      "Mean negativities for all classes: [0.3513608001451266, 0.3740414848911185, 0.313866600840399]\n",
      "Mean entropies for all classes: [4.889812397843727e-15, 3.66934701863732e-15, 4.352977523842776e-15]\n",
      "              precision    recall  f1-score   support\n",
      "\n",
      "           0       0.33      0.20      0.25         5\n",
      "           1       0.33      0.20      0.25         5\n",
      "           2       0.44      0.80      0.57         5\n",
      "\n",
      "    accuracy                           0.40        15\n",
      "   macro avg       0.37      0.40      0.36        15\n",
      "weighted avg       0.37      0.40      0.36        15\n",
      "\n",
      "-------------------------------------------------------------------------------------------------------------------\n",
      "AVG: Scores = 0.5466666666666667 F1-Scores = 0.484081474081474 Negativity = [0.34913855694422935, 0.3344760463762624, 0.3421759250406569] Entropy = [4.992684024903877e-15, 3.801795575122431e-15, 3.769410581855052e-15]\n"
     ]
    },
    {
     "name": "stderr",
     "output_type": "stream",
     "text": [
      "[Parallel(n_jobs=-1)]: Done   3 out of   3 | elapsed:  1.8min finished\n",
      "[Parallel(n_jobs=-1)]: Using backend LokyBackend with 12 concurrent workers.\n"
     ]
    },
    {
     "name": "stdout",
     "output_type": "stream",
     "text": [
      "K-Fold #0\n",
      "Mean negativities for all classes: [0.3083325402155388, 0.3542837751878846, 0.3358321036054787]\n",
      "Mean entropies for all classes: [4.3032807077081814e-15, 3.568282348991165e-15, 4.612284324984746e-15]\n",
      "              precision    recall  f1-score   support\n",
      "\n",
      "           0       1.00      0.20      0.33         5\n",
      "           1       0.33      0.20      0.25         5\n",
      "           2       0.36      0.80      0.50         5\n",
      "\n",
      "    accuracy                           0.40        15\n",
      "   macro avg       0.57      0.40      0.36        15\n",
      "weighted avg       0.57      0.40      0.36        15\n",
      "\n",
      "-------------------------------------------------------------------------------------------------------------------\n"
     ]
    },
    {
     "name": "stderr",
     "output_type": "stream",
     "text": [
      "[Parallel(n_jobs=-1)]: Done   3 out of   3 | elapsed:  1.8min finished\n",
      "c:\\ProgramData\\Anaconda3\\lib\\site-packages\\sklearn\\metrics\\_classification.py:1344: UndefinedMetricWarning: Precision and F-score are ill-defined and being set to 0.0 in labels with no predicted samples. Use `zero_division` parameter to control this behavior.\n",
      "  _warn_prf(average, modifier, msg_start, len(result))\n",
      "c:\\ProgramData\\Anaconda3\\lib\\site-packages\\sklearn\\metrics\\_classification.py:1344: UndefinedMetricWarning: Precision and F-score are ill-defined and being set to 0.0 in labels with no predicted samples. Use `zero_division` parameter to control this behavior.\n",
      "  _warn_prf(average, modifier, msg_start, len(result))\n",
      "c:\\ProgramData\\Anaconda3\\lib\\site-packages\\sklearn\\metrics\\_classification.py:1344: UndefinedMetricWarning: Precision and F-score are ill-defined and being set to 0.0 in labels with no predicted samples. Use `zero_division` parameter to control this behavior.\n",
      "  _warn_prf(average, modifier, msg_start, len(result))\n",
      "[Parallel(n_jobs=-1)]: Using backend LokyBackend with 12 concurrent workers.\n"
     ]
    },
    {
     "name": "stdout",
     "output_type": "stream",
     "text": [
      "K-Fold #1\n",
      "Mean negativities for all classes: [0.20668311281807672, 0.37296187388891827, 0.34304958050861034]\n",
      "Mean entropies for all classes: [3.5776472489537414e-15, 4.800302671748795e-15, 4.6813199999280875e-15]\n",
      "              precision    recall  f1-score   support\n",
      "\n",
      "           0       0.00      0.00      0.00         5\n",
      "           1       0.33      0.60      0.43         5\n",
      "           2       0.67      0.80      0.73         5\n",
      "\n",
      "    accuracy                           0.47        15\n",
      "   macro avg       0.33      0.47      0.39        15\n",
      "weighted avg       0.33      0.47      0.39        15\n",
      "\n",
      "-------------------------------------------------------------------------------------------------------------------\n"
     ]
    },
    {
     "name": "stderr",
     "output_type": "stream",
     "text": [
      "[Parallel(n_jobs=-1)]: Done   3 out of   3 | elapsed:  1.8min finished\n",
      "c:\\ProgramData\\Anaconda3\\lib\\site-packages\\sklearn\\metrics\\_classification.py:1344: UndefinedMetricWarning: Precision and F-score are ill-defined and being set to 0.0 in labels with no predicted samples. Use `zero_division` parameter to control this behavior.\n",
      "  _warn_prf(average, modifier, msg_start, len(result))\n",
      "c:\\ProgramData\\Anaconda3\\lib\\site-packages\\sklearn\\metrics\\_classification.py:1344: UndefinedMetricWarning: Precision and F-score are ill-defined and being set to 0.0 in labels with no predicted samples. Use `zero_division` parameter to control this behavior.\n",
      "  _warn_prf(average, modifier, msg_start, len(result))\n",
      "c:\\ProgramData\\Anaconda3\\lib\\site-packages\\sklearn\\metrics\\_classification.py:1344: UndefinedMetricWarning: Precision and F-score are ill-defined and being set to 0.0 in labels with no predicted samples. Use `zero_division` parameter to control this behavior.\n",
      "  _warn_prf(average, modifier, msg_start, len(result))\n",
      "[Parallel(n_jobs=-1)]: Using backend LokyBackend with 12 concurrent workers.\n"
     ]
    },
    {
     "name": "stdout",
     "output_type": "stream",
     "text": [
      "K-Fold #2\n",
      "Mean negativities for all classes: [0.3422172156010232, 0.33382793148013634, 0.35289156989507325]\n",
      "Mean entropies for all classes: [3.840527597387881e-15, 3.2220319241717722e-15, 3.906248966626391e-15]\n",
      "              precision    recall  f1-score   support\n",
      "\n",
      "           0       0.00      0.00      0.00         5\n",
      "           1       0.33      0.20      0.25         5\n",
      "           2       0.33      0.80      0.47         5\n",
      "\n",
      "    accuracy                           0.33        15\n",
      "   macro avg       0.22      0.33      0.24        15\n",
      "weighted avg       0.22      0.33      0.24        15\n",
      "\n",
      "-------------------------------------------------------------------------------------------------------------------\n"
     ]
    },
    {
     "name": "stderr",
     "output_type": "stream",
     "text": [
      "[Parallel(n_jobs=-1)]: Done   3 out of   3 | elapsed:  1.8min finished\n",
      "[Parallel(n_jobs=-1)]: Using backend LokyBackend with 12 concurrent workers.\n"
     ]
    },
    {
     "name": "stdout",
     "output_type": "stream",
     "text": [
      "K-Fold #3\n",
      "Mean negativities for all classes: [0.3447435020009743, 0.3526971176339019, 0.33774891355888836]\n",
      "Mean entropies for all classes: [7.984539456643723e-16, 3.648255146253942e-15, 4.364789648444457e-15]\n",
      "              precision    recall  f1-score   support\n",
      "\n",
      "           0       0.67      0.40      0.50         5\n",
      "           1       0.57      0.80      0.67         5\n",
      "           2       1.00      1.00      1.00         5\n",
      "\n",
      "    accuracy                           0.73        15\n",
      "   macro avg       0.75      0.73      0.72        15\n",
      "weighted avg       0.75      0.73      0.72        15\n",
      "\n",
      "-------------------------------------------------------------------------------------------------------------------\n"
     ]
    },
    {
     "name": "stderr",
     "output_type": "stream",
     "text": [
      "[Parallel(n_jobs=-1)]: Done   3 out of   3 | elapsed:  1.8min finished\n",
      "c:\\ProgramData\\Anaconda3\\lib\\site-packages\\sklearn\\metrics\\_classification.py:1344: UndefinedMetricWarning: Precision and F-score are ill-defined and being set to 0.0 in labels with no predicted samples. Use `zero_division` parameter to control this behavior.\n",
      "  _warn_prf(average, modifier, msg_start, len(result))\n",
      "c:\\ProgramData\\Anaconda3\\lib\\site-packages\\sklearn\\metrics\\_classification.py:1344: UndefinedMetricWarning: Precision and F-score are ill-defined and being set to 0.0 in labels with no predicted samples. Use `zero_division` parameter to control this behavior.\n",
      "  _warn_prf(average, modifier, msg_start, len(result))\n",
      "c:\\ProgramData\\Anaconda3\\lib\\site-packages\\sklearn\\metrics\\_classification.py:1344: UndefinedMetricWarning: Precision and F-score are ill-defined and being set to 0.0 in labels with no predicted samples. Use `zero_division` parameter to control this behavior.\n",
      "  _warn_prf(average, modifier, msg_start, len(result))\n",
      "[Parallel(n_jobs=-1)]: Using backend LokyBackend with 12 concurrent workers.\n"
     ]
    },
    {
     "name": "stdout",
     "output_type": "stream",
     "text": [
      "K-Fold #4\n",
      "Mean negativities for all classes: [0.32757794633303117, 0.3403215670926328, 0.3444562279302213]\n",
      "Mean entropies for all classes: [3.3430966190166206e-15, 3.743572617863337e-15, 3.6046555990169315e-15]\n",
      "              precision    recall  f1-score   support\n",
      "\n",
      "           0       0.00      0.00      0.00         5\n",
      "           1       0.30      0.60      0.40         5\n",
      "           2       0.60      0.60      0.60         5\n",
      "\n",
      "    accuracy                           0.40        15\n",
      "   macro avg       0.30      0.40      0.33        15\n",
      "weighted avg       0.30      0.40      0.33        15\n",
      "\n",
      "-------------------------------------------------------------------------------------------------------------------\n"
     ]
    },
    {
     "name": "stderr",
     "output_type": "stream",
     "text": [
      "[Parallel(n_jobs=-1)]: Done   3 out of   3 | elapsed:  1.8min finished\n",
      "[Parallel(n_jobs=-1)]: Using backend LokyBackend with 12 concurrent workers.\n"
     ]
    },
    {
     "name": "stdout",
     "output_type": "stream",
     "text": [
      "K-Fold #5\n",
      "Mean negativities for all classes: [0.35379699203262444, 0.36317866317562203, 0.34606934461553895]\n",
      "Mean entropies for all classes: [2.9894164848323673e-15, 3.1247661656069196e-15, 3.886040228844065e-15]\n",
      "              precision    recall  f1-score   support\n",
      "\n",
      "           0       1.00      0.20      0.33         5\n",
      "           1       0.44      0.80      0.57         5\n",
      "           2       0.80      0.80      0.80         5\n",
      "\n",
      "    accuracy                           0.60        15\n",
      "   macro avg       0.75      0.60      0.57        15\n",
      "weighted avg       0.75      0.60      0.57        15\n",
      "\n",
      "-------------------------------------------------------------------------------------------------------------------\n"
     ]
    },
    {
     "name": "stderr",
     "output_type": "stream",
     "text": [
      "[Parallel(n_jobs=-1)]: Done   3 out of   3 | elapsed:  1.8min finished\n",
      "[Parallel(n_jobs=-1)]: Using backend LokyBackend with 12 concurrent workers.\n"
     ]
    },
    {
     "name": "stdout",
     "output_type": "stream",
     "text": [
      "K-Fold #6\n",
      "Mean negativities for all classes: [0.3514435113087631, 0.34332286388428046, 0.37237443515421303]\n",
      "Mean entropies for all classes: [4.244935174077913e-15, 3.5680531896911344e-15, 3.251170289452192e-15]\n",
      "              precision    recall  f1-score   support\n",
      "\n",
      "           0       1.00      0.20      0.33         5\n",
      "           1       0.44      0.80      0.57         5\n",
      "           2       0.60      0.60      0.60         5\n",
      "\n",
      "    accuracy                           0.53        15\n",
      "   macro avg       0.68      0.53      0.50        15\n",
      "weighted avg       0.68      0.53      0.50        15\n",
      "\n",
      "-------------------------------------------------------------------------------------------------------------------\n"
     ]
    },
    {
     "name": "stderr",
     "output_type": "stream",
     "text": [
      "[Parallel(n_jobs=-1)]: Done   3 out of   3 | elapsed:  1.8min finished\n",
      "[Parallel(n_jobs=-1)]: Using backend LokyBackend with 12 concurrent workers.\n"
     ]
    },
    {
     "name": "stdout",
     "output_type": "stream",
     "text": [
      "K-Fold #7\n",
      "Mean negativities for all classes: [0.35330147694023495, 0.37346618078841504, 0.3437964107179054]\n",
      "Mean entropies for all classes: [2.9185833766786696e-15, 4.3847644909569765e-15, 3.97943812362006e-15]\n",
      "              precision    recall  f1-score   support\n",
      "\n",
      "           0       1.00      0.20      0.33         5\n",
      "           1       0.50      0.60      0.55         5\n",
      "           2       0.62      1.00      0.77         5\n",
      "\n",
      "    accuracy                           0.60        15\n",
      "   macro avg       0.71      0.60      0.55        15\n",
      "weighted avg       0.71      0.60      0.55        15\n",
      "\n",
      "-------------------------------------------------------------------------------------------------------------------\n"
     ]
    },
    {
     "name": "stderr",
     "output_type": "stream",
     "text": [
      "[Parallel(n_jobs=-1)]: Done   3 out of   3 | elapsed:  1.8min finished\n",
      "[Parallel(n_jobs=-1)]: Using backend LokyBackend with 12 concurrent workers.\n"
     ]
    },
    {
     "name": "stdout",
     "output_type": "stream",
     "text": [
      "K-Fold #8\n",
      "Mean negativities for all classes: [0.3506031956369525, 0.3822199419934921, 0.3444750646881181]\n",
      "Mean entropies for all classes: [5.453686848372043e-15, 3.9147335036858135e-15, 3.550465011408684e-15]\n",
      "              precision    recall  f1-score   support\n",
      "\n",
      "           0       0.50      0.40      0.44         5\n",
      "           1       0.50      0.40      0.44         5\n",
      "           2       0.71      1.00      0.83         5\n",
      "\n",
      "    accuracy                           0.60        15\n",
      "   macro avg       0.57      0.60      0.57        15\n",
      "weighted avg       0.57      0.60      0.57        15\n",
      "\n",
      "-------------------------------------------------------------------------------------------------------------------\n"
     ]
    },
    {
     "name": "stderr",
     "output_type": "stream",
     "text": [
      "[Parallel(n_jobs=-1)]: Done   3 out of   3 | elapsed:  1.8min finished\n",
      "[Parallel(n_jobs=-1)]: Using backend LokyBackend with 12 concurrent workers.\n"
     ]
    },
    {
     "name": "stdout",
     "output_type": "stream",
     "text": [
      "K-Fold #9\n",
      "Mean negativities for all classes: [0.3379438329933844, 0.38797781810189313, 0.3439999910198353]\n",
      "Mean entropies for all classes: [6.838120190610561e-15, 4.111954258727306e-15, 4.19571184937887e-15]\n",
      "              precision    recall  f1-score   support\n",
      "\n",
      "           0       0.00      0.00      0.00         5\n",
      "           1       0.25      0.20      0.22         5\n",
      "           2       0.50      1.00      0.67         5\n",
      "\n",
      "    accuracy                           0.40        15\n",
      "   macro avg       0.25      0.40      0.30        15\n",
      "weighted avg       0.25      0.40      0.30        15\n",
      "\n",
      "-------------------------------------------------------------------------------------------------------------------\n",
      "AVG: Scores = 0.5066666666666666 F1-Scores = 0.4531695319930614 Negativity = [0.3328161396696341, 0.30756485573853515, 0.3429789056587442] Entropy = [4.1612824605613645e-15, 4.353089973543541e-15, 3.656269496062015e-15]\n"
     ]
    },
    {
     "name": "stderr",
     "output_type": "stream",
     "text": [
      "[Parallel(n_jobs=-1)]: Done   3 out of   3 | elapsed:  1.8min finished\n",
      "c:\\ProgramData\\Anaconda3\\lib\\site-packages\\sklearn\\metrics\\_classification.py:1344: UndefinedMetricWarning: Precision and F-score are ill-defined and being set to 0.0 in labels with no predicted samples. Use `zero_division` parameter to control this behavior.\n",
      "  _warn_prf(average, modifier, msg_start, len(result))\n",
      "c:\\ProgramData\\Anaconda3\\lib\\site-packages\\sklearn\\metrics\\_classification.py:1344: UndefinedMetricWarning: Precision and F-score are ill-defined and being set to 0.0 in labels with no predicted samples. Use `zero_division` parameter to control this behavior.\n",
      "  _warn_prf(average, modifier, msg_start, len(result))\n",
      "c:\\ProgramData\\Anaconda3\\lib\\site-packages\\sklearn\\metrics\\_classification.py:1344: UndefinedMetricWarning: Precision and F-score are ill-defined and being set to 0.0 in labels with no predicted samples. Use `zero_division` parameter to control this behavior.\n",
      "  _warn_prf(average, modifier, msg_start, len(result))\n",
      "[Parallel(n_jobs=-1)]: Using backend LokyBackend with 12 concurrent workers.\n"
     ]
    },
    {
     "name": "stdout",
     "output_type": "stream",
     "text": [
      "K-Fold #0\n",
      "Mean negativities for all classes: [0.3510446850683574, 0.3598070941365094, 0.3656925072962474]\n",
      "Mean entropies for all classes: [1.931866113540832e-15, 4.025745024863118e-15, 3.602419418495031e-15]\n",
      "              precision    recall  f1-score   support\n",
      "\n",
      "           0       0.00      0.00      0.00         5\n",
      "           1       0.56      1.00      0.71         5\n",
      "           2       0.83      1.00      0.91         5\n",
      "\n",
      "    accuracy                           0.67        15\n",
      "   macro avg       0.46      0.67      0.54        15\n",
      "weighted avg       0.46      0.67      0.54        15\n",
      "\n",
      "-------------------------------------------------------------------------------------------------------------------\n"
     ]
    },
    {
     "name": "stderr",
     "output_type": "stream",
     "text": [
      "[Parallel(n_jobs=-1)]: Done   3 out of   3 | elapsed:  1.8min finished\n",
      "c:\\ProgramData\\Anaconda3\\lib\\site-packages\\sklearn\\metrics\\_classification.py:1344: UndefinedMetricWarning: Precision and F-score are ill-defined and being set to 0.0 in labels with no predicted samples. Use `zero_division` parameter to control this behavior.\n",
      "  _warn_prf(average, modifier, msg_start, len(result))\n",
      "c:\\ProgramData\\Anaconda3\\lib\\site-packages\\sklearn\\metrics\\_classification.py:1344: UndefinedMetricWarning: Precision and F-score are ill-defined and being set to 0.0 in labels with no predicted samples. Use `zero_division` parameter to control this behavior.\n",
      "  _warn_prf(average, modifier, msg_start, len(result))\n",
      "c:\\ProgramData\\Anaconda3\\lib\\site-packages\\sklearn\\metrics\\_classification.py:1344: UndefinedMetricWarning: Precision and F-score are ill-defined and being set to 0.0 in labels with no predicted samples. Use `zero_division` parameter to control this behavior.\n",
      "  _warn_prf(average, modifier, msg_start, len(result))\n",
      "[Parallel(n_jobs=-1)]: Using backend LokyBackend with 12 concurrent workers.\n"
     ]
    },
    {
     "name": "stdout",
     "output_type": "stream",
     "text": [
      "K-Fold #1\n",
      "Mean negativities for all classes: [0.35204627855337556, 0.3520225597118346, 0.3351132922176693]\n",
      "Mean entropies for all classes: [4.206982492960923e-15, 4.933804182050044e-15, 4.8556652519801445e-15]\n",
      "              precision    recall  f1-score   support\n",
      "\n",
      "           0       0.00      0.00      0.00         5\n",
      "           1       0.43      0.60      0.50         5\n",
      "           2       0.62      1.00      0.77         5\n",
      "\n",
      "    accuracy                           0.53        15\n",
      "   macro avg       0.35      0.53      0.42        15\n",
      "weighted avg       0.35      0.53      0.42        15\n",
      "\n",
      "-------------------------------------------------------------------------------------------------------------------\n"
     ]
    },
    {
     "name": "stderr",
     "output_type": "stream",
     "text": [
      "[Parallel(n_jobs=-1)]: Done   3 out of   3 | elapsed:  1.8min finished\n",
      "[Parallel(n_jobs=-1)]: Using backend LokyBackend with 12 concurrent workers.\n"
     ]
    },
    {
     "name": "stdout",
     "output_type": "stream",
     "text": [
      "K-Fold #2\n",
      "Mean negativities for all classes: [0.3609323642405335, 0.35046251214854857, 0.34486787778017786]\n",
      "Mean entropies for all classes: [2.868306675221584e-15, 3.408929408549755e-15, 4.1040824905453756e-15]\n",
      "              precision    recall  f1-score   support\n",
      "\n",
      "           0       1.00      0.20      0.33         5\n",
      "           1       0.43      0.60      0.50         5\n",
      "           2       0.57      0.80      0.67         5\n",
      "\n",
      "    accuracy                           0.53        15\n",
      "   macro avg       0.67      0.53      0.50        15\n",
      "weighted avg       0.67      0.53      0.50        15\n",
      "\n",
      "-------------------------------------------------------------------------------------------------------------------\n"
     ]
    },
    {
     "name": "stderr",
     "output_type": "stream",
     "text": [
      "[Parallel(n_jobs=-1)]: Done   3 out of   3 | elapsed:  1.8min finished\n",
      "[Parallel(n_jobs=-1)]: Using backend LokyBackend with 12 concurrent workers.\n"
     ]
    },
    {
     "name": "stdout",
     "output_type": "stream",
     "text": [
      "K-Fold #3\n",
      "Mean negativities for all classes: [0.334838628510041, 0.3583629279833072, 0.32359928262204296]\n",
      "Mean entropies for all classes: [3.904036179169649e-15, 3.1757042930294167e-15, 4.0246981452575186e-15]\n",
      "              precision    recall  f1-score   support\n",
      "\n",
      "           0       1.00      0.40      0.57         5\n",
      "           1       0.40      0.40      0.40         5\n",
      "           2       0.50      0.80      0.62         5\n",
      "\n",
      "    accuracy                           0.53        15\n",
      "   macro avg       0.63      0.53      0.53        15\n",
      "weighted avg       0.63      0.53      0.53        15\n",
      "\n",
      "-------------------------------------------------------------------------------------------------------------------\n"
     ]
    },
    {
     "name": "stderr",
     "output_type": "stream",
     "text": [
      "[Parallel(n_jobs=-1)]: Done   3 out of   3 | elapsed:  1.8min finished\n",
      "[Parallel(n_jobs=-1)]: Using backend LokyBackend with 12 concurrent workers.\n"
     ]
    },
    {
     "name": "stdout",
     "output_type": "stream",
     "text": [
      "K-Fold #4\n",
      "Mean negativities for all classes: [0.3346705303624285, 0.3648859380365767, 0.3545426760073287]\n",
      "Mean entropies for all classes: [4.065035087054705e-15, 3.569181415084085e-15, 3.4047368966365578e-15]\n",
      "              precision    recall  f1-score   support\n",
      "\n",
      "           0       0.50      0.20      0.29         5\n",
      "           1       0.38      0.60      0.46         5\n",
      "           2       0.60      0.60      0.60         5\n",
      "\n",
      "    accuracy                           0.47        15\n",
      "   macro avg       0.49      0.47      0.45        15\n",
      "weighted avg       0.49      0.47      0.45        15\n",
      "\n",
      "-------------------------------------------------------------------------------------------------------------------\n"
     ]
    },
    {
     "name": "stderr",
     "output_type": "stream",
     "text": [
      "[Parallel(n_jobs=-1)]: Done   3 out of   3 | elapsed:  1.8min finished\n",
      "[Parallel(n_jobs=-1)]: Using backend LokyBackend with 12 concurrent workers.\n"
     ]
    },
    {
     "name": "stdout",
     "output_type": "stream",
     "text": [
      "K-Fold #5\n",
      "Mean negativities for all classes: [0.36832021326014286, 0.3820938459229986, 0.3432390245830599]\n",
      "Mean entropies for all classes: [7.431957135029032e-15, 4.025672965636028e-15, 5.002181314293314e-15]\n",
      "              precision    recall  f1-score   support\n",
      "\n",
      "           0       1.00      0.60      0.75         5\n",
      "           1       0.67      0.40      0.50         5\n",
      "           2       0.56      1.00      0.71         5\n",
      "\n",
      "    accuracy                           0.67        15\n",
      "   macro avg       0.74      0.67      0.65        15\n",
      "weighted avg       0.74      0.67      0.65        15\n",
      "\n",
      "-------------------------------------------------------------------------------------------------------------------\n"
     ]
    },
    {
     "name": "stderr",
     "output_type": "stream",
     "text": [
      "[Parallel(n_jobs=-1)]: Done   3 out of   3 | elapsed:  1.8min finished\n",
      "c:\\ProgramData\\Anaconda3\\lib\\site-packages\\sklearn\\metrics\\_classification.py:1344: UndefinedMetricWarning: Precision and F-score are ill-defined and being set to 0.0 in labels with no predicted samples. Use `zero_division` parameter to control this behavior.\n",
      "  _warn_prf(average, modifier, msg_start, len(result))\n",
      "c:\\ProgramData\\Anaconda3\\lib\\site-packages\\sklearn\\metrics\\_classification.py:1344: UndefinedMetricWarning: Precision and F-score are ill-defined and being set to 0.0 in labels with no predicted samples. Use `zero_division` parameter to control this behavior.\n",
      "  _warn_prf(average, modifier, msg_start, len(result))\n",
      "c:\\ProgramData\\Anaconda3\\lib\\site-packages\\sklearn\\metrics\\_classification.py:1344: UndefinedMetricWarning: Precision and F-score are ill-defined and being set to 0.0 in labels with no predicted samples. Use `zero_division` parameter to control this behavior.\n",
      "  _warn_prf(average, modifier, msg_start, len(result))\n",
      "[Parallel(n_jobs=-1)]: Using backend LokyBackend with 12 concurrent workers.\n"
     ]
    },
    {
     "name": "stdout",
     "output_type": "stream",
     "text": [
      "K-Fold #6\n",
      "Mean negativities for all classes: [0.341427255901259, 0.38880280128695444, 0.33647389656047283]\n",
      "Mean entropies for all classes: [4.126140155148008e-15, 4.082397759927471e-15, 3.9191177372775425e-15]\n",
      "              precision    recall  f1-score   support\n",
      "\n",
      "           0       0.00      0.00      0.00         5\n",
      "           1       0.00      0.00      0.00         5\n",
      "           2       0.44      0.80      0.57         5\n",
      "\n",
      "    accuracy                           0.27        15\n",
      "   macro avg       0.15      0.27      0.19        15\n",
      "weighted avg       0.15      0.27      0.19        15\n",
      "\n",
      "-------------------------------------------------------------------------------------------------------------------\n"
     ]
    },
    {
     "name": "stderr",
     "output_type": "stream",
     "text": [
      "[Parallel(n_jobs=-1)]: Done   3 out of   3 | elapsed:  1.8min finished\n",
      "[Parallel(n_jobs=-1)]: Using backend LokyBackend with 12 concurrent workers.\n"
     ]
    },
    {
     "name": "stdout",
     "output_type": "stream",
     "text": [
      "K-Fold #7\n",
      "Mean negativities for all classes: [0.3628802083883592, 0.3655731666386601, 0.321956905779989]\n",
      "Mean entropies for all classes: [4.0521901179723065e-15, 3.708358677966454e-15, 3.3749310543218407e-15]\n",
      "              precision    recall  f1-score   support\n",
      "\n",
      "           0       0.50      0.20      0.29         5\n",
      "           1       0.50      0.80      0.62         5\n",
      "           2       1.00      1.00      1.00         5\n",
      "\n",
      "    accuracy                           0.67        15\n",
      "   macro avg       0.67      0.67      0.63        15\n",
      "weighted avg       0.67      0.67      0.63        15\n",
      "\n",
      "-------------------------------------------------------------------------------------------------------------------\n"
     ]
    },
    {
     "name": "stderr",
     "output_type": "stream",
     "text": [
      "[Parallel(n_jobs=-1)]: Done   3 out of   3 | elapsed:  1.8min finished\n",
      "[Parallel(n_jobs=-1)]: Using backend LokyBackend with 12 concurrent workers.\n"
     ]
    },
    {
     "name": "stdout",
     "output_type": "stream",
     "text": [
      "K-Fold #8\n",
      "Mean negativities for all classes: [0.36083158511180957, 0.33889277991431693, 0.3479211047313538]\n",
      "Mean entropies for all classes: [7.348236168529134e-15, 4.0278128793114914e-15, 3.3548004455664734e-15]\n",
      "              precision    recall  f1-score   support\n",
      "\n",
      "           0       1.00      0.60      0.75         5\n",
      "           1       0.62      1.00      0.77         5\n",
      "           2       1.00      0.80      0.89         5\n",
      "\n",
      "    accuracy                           0.80        15\n",
      "   macro avg       0.88      0.80      0.80        15\n",
      "weighted avg       0.88      0.80      0.80        15\n",
      "\n",
      "-------------------------------------------------------------------------------------------------------------------\n"
     ]
    },
    {
     "name": "stderr",
     "output_type": "stream",
     "text": [
      "[Parallel(n_jobs=-1)]: Done   3 out of   3 | elapsed:  1.8min finished\n",
      "[Parallel(n_jobs=-1)]: Using backend LokyBackend with 12 concurrent workers.\n"
     ]
    },
    {
     "name": "stdout",
     "output_type": "stream",
     "text": [
      "K-Fold #9\n",
      "Mean negativities for all classes: [0.33078396623662826, 0.3452550751445456, 0.3390284664504391]\n",
      "Mean entropies for all classes: [4.483369005580453e-15, 3.544454176109459e-15, 4.0184740437323566e-15]\n",
      "              precision    recall  f1-score   support\n",
      "\n",
      "           0       1.00      0.20      0.33         5\n",
      "           1       0.50      0.80      0.62         5\n",
      "           2       0.83      1.00      0.91         5\n",
      "\n",
      "    accuracy                           0.67        15\n",
      "   macro avg       0.78      0.67      0.62        15\n",
      "weighted avg       0.78      0.67      0.62        15\n",
      "\n",
      "-------------------------------------------------------------------------------------------------------------------\n",
      "AVG: Scores = 0.58 F1-Scores = 0.5343138343138344 Negativity = [0.3588480955003714, 0.34639404349429315, 0.35208758472308666] Entropy = [3.1866768522996606e-15, 4.665483975663704e-15, 3.460439524772238e-15]\n"
     ]
    },
    {
     "name": "stderr",
     "output_type": "stream",
     "text": [
      "[Parallel(n_jobs=-1)]: Done   3 out of   3 | elapsed:  1.8min finished\n",
      "[Parallel(n_jobs=-1)]: Using backend LokyBackend with 12 concurrent workers.\n"
     ]
    },
    {
     "name": "stdout",
     "output_type": "stream",
     "text": [
      "K-Fold #0\n",
      "Mean negativities for all classes: [0.3437991728653084, 0.3725905965752195, 0.3400990107111867]\n",
      "Mean entropies for all classes: [3.655124254900497e-15, 4.365491323731203e-15, 5.073215888206263e-15]\n",
      "              precision    recall  f1-score   support\n",
      "\n",
      "           0       1.00      0.40      0.57         5\n",
      "           1       0.00      0.00      0.00         5\n",
      "           2       0.44      0.80      0.57         5\n",
      "\n",
      "    accuracy                           0.40        15\n",
      "   macro avg       0.48      0.40      0.38        15\n",
      "weighted avg       0.48      0.40      0.38        15\n",
      "\n",
      "-------------------------------------------------------------------------------------------------------------------\n"
     ]
    },
    {
     "name": "stderr",
     "output_type": "stream",
     "text": [
      "[Parallel(n_jobs=-1)]: Done   3 out of   3 | elapsed:  1.8min finished\n",
      "[Parallel(n_jobs=-1)]: Using backend LokyBackend with 12 concurrent workers.\n"
     ]
    },
    {
     "name": "stdout",
     "output_type": "stream",
     "text": [
      "K-Fold #1\n",
      "Mean negativities for all classes: [0.3451763819659102, 0.3889130652616809, 0.32495690633898827]\n",
      "Mean entropies for all classes: [2.8994199554336006e-15, 4.664094462013212e-15, 3.81777301734889e-15]\n",
      "              precision    recall  f1-score   support\n",
      "\n",
      "           0       1.00      0.60      0.75         5\n",
      "           1       0.33      0.20      0.25         5\n",
      "           2       0.56      1.00      0.71         5\n",
      "\n",
      "    accuracy                           0.60        15\n",
      "   macro avg       0.63      0.60      0.57        15\n",
      "weighted avg       0.63      0.60      0.57        15\n",
      "\n",
      "-------------------------------------------------------------------------------------------------------------------\n"
     ]
    },
    {
     "name": "stderr",
     "output_type": "stream",
     "text": [
      "[Parallel(n_jobs=-1)]: Done   3 out of   3 | elapsed:  1.8min finished\n",
      "[Parallel(n_jobs=-1)]: Using backend LokyBackend with 12 concurrent workers.\n"
     ]
    },
    {
     "name": "stdout",
     "output_type": "stream",
     "text": [
      "K-Fold #2\n",
      "Mean negativities for all classes: [0.34706834111062435, 0.3401136884457468, 0.337392670028832]\n",
      "Mean entropies for all classes: [4.569034344562566e-15, 3.638066824569694e-15, 3.5104568768947895e-15]\n",
      "              precision    recall  f1-score   support\n",
      "\n",
      "           0       0.67      0.40      0.50         5\n",
      "           1       0.60      0.60      0.60         5\n",
      "           2       0.71      1.00      0.83         5\n",
      "\n",
      "    accuracy                           0.67        15\n",
      "   macro avg       0.66      0.67      0.64        15\n",
      "weighted avg       0.66      0.67      0.64        15\n",
      "\n",
      "-------------------------------------------------------------------------------------------------------------------\n"
     ]
    },
    {
     "name": "stderr",
     "output_type": "stream",
     "text": [
      "[Parallel(n_jobs=-1)]: Done   3 out of   3 | elapsed:  1.8min finished\n",
      "[Parallel(n_jobs=-1)]: Using backend LokyBackend with 12 concurrent workers.\n"
     ]
    },
    {
     "name": "stdout",
     "output_type": "stream",
     "text": [
      "K-Fold #3\n",
      "Mean negativities for all classes: [0.32849534135751546, 0.35172615781206745, 0.36122085563310946]\n",
      "Mean entropies for all classes: [3.876866508297048e-15, 3.6911266166552474e-15, 3.475591462375939e-15]\n",
      "              precision    recall  f1-score   support\n",
      "\n",
      "           0       0.50      0.20      0.29         5\n",
      "           1       0.38      0.60      0.46         5\n",
      "           2       0.80      0.80      0.80         5\n",
      "\n",
      "    accuracy                           0.53        15\n",
      "   macro avg       0.56      0.53      0.52        15\n",
      "weighted avg       0.56      0.53      0.52        15\n",
      "\n",
      "-------------------------------------------------------------------------------------------------------------------\n"
     ]
    },
    {
     "name": "stderr",
     "output_type": "stream",
     "text": [
      "[Parallel(n_jobs=-1)]: Done   3 out of   3 | elapsed:  1.8min finished\n",
      "c:\\ProgramData\\Anaconda3\\lib\\site-packages\\sklearn\\metrics\\_classification.py:1344: UndefinedMetricWarning: Precision and F-score are ill-defined and being set to 0.0 in labels with no predicted samples. Use `zero_division` parameter to control this behavior.\n",
      "  _warn_prf(average, modifier, msg_start, len(result))\n",
      "c:\\ProgramData\\Anaconda3\\lib\\site-packages\\sklearn\\metrics\\_classification.py:1344: UndefinedMetricWarning: Precision and F-score are ill-defined and being set to 0.0 in labels with no predicted samples. Use `zero_division` parameter to control this behavior.\n",
      "  _warn_prf(average, modifier, msg_start, len(result))\n",
      "c:\\ProgramData\\Anaconda3\\lib\\site-packages\\sklearn\\metrics\\_classification.py:1344: UndefinedMetricWarning: Precision and F-score are ill-defined and being set to 0.0 in labels with no predicted samples. Use `zero_division` parameter to control this behavior.\n",
      "  _warn_prf(average, modifier, msg_start, len(result))\n",
      "[Parallel(n_jobs=-1)]: Using backend LokyBackend with 12 concurrent workers.\n"
     ]
    },
    {
     "name": "stdout",
     "output_type": "stream",
     "text": [
      "K-Fold #4\n",
      "Mean negativities for all classes: [0.33303770935399796, 0.3655943343988998, 0.34919123769006855]\n",
      "Mean entropies for all classes: [-2.9256510828343712e-15, 3.384385746378471e-15, 3.8846123285026176e-15]\n",
      "              precision    recall  f1-score   support\n",
      "\n",
      "           0       0.00      0.00      0.00         5\n",
      "           1       0.25      0.40      0.31         5\n",
      "           2       0.57      0.80      0.67         5\n",
      "\n",
      "    accuracy                           0.40        15\n",
      "   macro avg       0.27      0.40      0.32        15\n",
      "weighted avg       0.27      0.40      0.32        15\n",
      "\n",
      "-------------------------------------------------------------------------------------------------------------------\n"
     ]
    },
    {
     "name": "stderr",
     "output_type": "stream",
     "text": [
      "[Parallel(n_jobs=-1)]: Done   3 out of   3 | elapsed:  2.3min finished\n"
     ]
    },
    {
     "name": "stdout",
     "output_type": "stream",
     "text": [
      "K-Fold #5\n",
      "Mean negativities for all classes: [0.37174623122251155, 0.3679727336511011, 0.3410837104577261]\n",
      "Mean entropies for all classes: [4.8641021618422394e-15, 3.8632988409091966e-15, 4.375320703222586e-15]\n",
      "              precision    recall  f1-score   support\n",
      "\n",
      "           0       1.00      0.20      0.33         5\n",
      "           1       0.71      1.00      0.83         5\n",
      "           2       0.71      1.00      0.83         5\n",
      "\n",
      "    accuracy                           0.73        15\n",
      "   macro avg       0.81      0.73      0.67        15\n",
      "weighted avg       0.81      0.73      0.67        15\n",
      "\n",
      "-------------------------------------------------------------------------------------------------------------------\n"
     ]
    },
    {
     "name": "stderr",
     "output_type": "stream",
     "text": [
      "[Parallel(n_jobs=-1)]: Using backend LokyBackend with 12 concurrent workers.\n",
      "[Parallel(n_jobs=-1)]: Done   3 out of   3 | elapsed:  2.0min finished\n",
      "[Parallel(n_jobs=-1)]: Using backend LokyBackend with 12 concurrent workers.\n"
     ]
    },
    {
     "name": "stdout",
     "output_type": "stream",
     "text": [
      "K-Fold #6\n",
      "Mean negativities for all classes: [0.29610322455822136, 0.3472098715213438, 0.3796844913680353]\n",
      "Mean entropies for all classes: [4.179199193695029e-15, 4.1007722838665025e-15, 3.955358907005151e-15]\n",
      "              precision    recall  f1-score   support\n",
      "\n",
      "           0       0.25      0.20      0.22         5\n",
      "           1       0.38      0.60      0.46         5\n",
      "           2       0.67      0.40      0.50         5\n",
      "\n",
      "    accuracy                           0.40        15\n",
      "   macro avg       0.43      0.40      0.39        15\n",
      "weighted avg       0.43      0.40      0.39        15\n",
      "\n",
      "-------------------------------------------------------------------------------------------------------------------\n"
     ]
    },
    {
     "name": "stderr",
     "output_type": "stream",
     "text": [
      "[Parallel(n_jobs=-1)]: Done   3 out of   3 | elapsed:  1.8min finished\n",
      "[Parallel(n_jobs=-1)]: Using backend LokyBackend with 12 concurrent workers.\n"
     ]
    },
    {
     "name": "stdout",
     "output_type": "stream",
     "text": [
      "K-Fold #7\n",
      "Mean negativities for all classes: [0.3630497504294926, 0.3399459769572367, 0.34819342839745687]\n",
      "Mean entropies for all classes: [4.073119164423022e-15, 4.450280961356291e-15, 4.1529659894710175e-15]\n",
      "              precision    recall  f1-score   support\n",
      "\n",
      "           0       1.00      0.20      0.33         5\n",
      "           1       0.50      0.80      0.62         5\n",
      "           2       0.83      1.00      0.91         5\n",
      "\n",
      "    accuracy                           0.67        15\n",
      "   macro avg       0.78      0.67      0.62        15\n",
      "weighted avg       0.78      0.67      0.62        15\n",
      "\n",
      "-------------------------------------------------------------------------------------------------------------------\n"
     ]
    },
    {
     "name": "stderr",
     "output_type": "stream",
     "text": [
      "[Parallel(n_jobs=-1)]: Done   3 out of   3 | elapsed:  1.8min finished\n",
      "[Parallel(n_jobs=-1)]: Using backend LokyBackend with 12 concurrent workers.\n"
     ]
    },
    {
     "name": "stdout",
     "output_type": "stream",
     "text": [
      "K-Fold #8\n",
      "Mean negativities for all classes: [0.33385739588346175, 0.3358014138503705, 0.3543867022013191]\n",
      "Mean entropies for all classes: [5.173559921479625e-15, 2.3648688538173156e-15, 3.9809573063447124e-15]\n",
      "              precision    recall  f1-score   support\n",
      "\n",
      "           0       1.00      0.80      0.89         5\n",
      "           1       0.62      1.00      0.77         5\n",
      "           2       1.00      0.60      0.75         5\n",
      "\n",
      "    accuracy                           0.80        15\n",
      "   macro avg       0.88      0.80      0.80        15\n",
      "weighted avg       0.88      0.80      0.80        15\n",
      "\n",
      "-------------------------------------------------------------------------------------------------------------------\n"
     ]
    },
    {
     "name": "stderr",
     "output_type": "stream",
     "text": [
      "[Parallel(n_jobs=-1)]: Done   3 out of   3 | elapsed:  1.8min finished\n",
      "c:\\ProgramData\\Anaconda3\\lib\\site-packages\\sklearn\\metrics\\_classification.py:1344: UndefinedMetricWarning: Precision and F-score are ill-defined and being set to 0.0 in labels with no predicted samples. Use `zero_division` parameter to control this behavior.\n",
      "  _warn_prf(average, modifier, msg_start, len(result))\n",
      "c:\\ProgramData\\Anaconda3\\lib\\site-packages\\sklearn\\metrics\\_classification.py:1344: UndefinedMetricWarning: Precision and F-score are ill-defined and being set to 0.0 in labels with no predicted samples. Use `zero_division` parameter to control this behavior.\n",
      "  _warn_prf(average, modifier, msg_start, len(result))\n",
      "c:\\ProgramData\\Anaconda3\\lib\\site-packages\\sklearn\\metrics\\_classification.py:1344: UndefinedMetricWarning: Precision and F-score are ill-defined and being set to 0.0 in labels with no predicted samples. Use `zero_division` parameter to control this behavior.\n",
      "  _warn_prf(average, modifier, msg_start, len(result))\n",
      "[Parallel(n_jobs=-1)]: Using backend LokyBackend with 12 concurrent workers.\n"
     ]
    },
    {
     "name": "stdout",
     "output_type": "stream",
     "text": [
      "K-Fold #9\n",
      "Mean negativities for all classes: [0.33805720353212193, 0.34103550628876056, 0.3415474268531126]\n",
      "Mean entropies for all classes: [4.3743763853737826e-15, 3.3026944194987314e-15, 3.3526900959036824e-15]\n",
      "              precision    recall  f1-score   support\n",
      "\n",
      "           0       0.00      0.00      0.00         5\n",
      "           1       0.67      0.40      0.50         5\n",
      "           2       0.42      1.00      0.59         5\n",
      "\n",
      "    accuracy                           0.47        15\n",
      "   macro avg       0.36      0.47      0.36        15\n",
      "weighted avg       0.36      0.47      0.36        15\n",
      "\n",
      "-------------------------------------------------------------------------------------------------------------------\n",
      "AVG: Scores = 0.5666666666666667 F1-Scores = 0.5283337468631586 Negativity = [0.3521629267172382, 0.35301545118885985, 0.34152489986173434] Entropy = [4.364610488945988e-15, 3.793762478265235e-15, 3.905852682009016e-15]\n"
     ]
    },
    {
     "name": "stderr",
     "output_type": "stream",
     "text": [
      "[Parallel(n_jobs=-1)]: Done   3 out of   3 | elapsed:  1.8min finished\n",
      "[Parallel(n_jobs=-1)]: Using backend LokyBackend with 12 concurrent workers.\n"
     ]
    },
    {
     "name": "stdout",
     "output_type": "stream",
     "text": [
      "K-Fold #0\n",
      "Mean negativities for all classes: [0.3419512757635244, 0.34636761711975694, 0.3493815644888263]\n",
      "Mean entropies for all classes: [3.901182964020213e-15, 4.607976334280648e-15, 4.003026486463691e-15]\n",
      "              precision    recall  f1-score   support\n",
      "\n",
      "           0       1.00      0.20      0.33         5\n",
      "           1       0.50      1.00      0.67         5\n",
      "           2       1.00      0.80      0.89         5\n",
      "\n",
      "    accuracy                           0.67        15\n",
      "   macro avg       0.83      0.67      0.63        15\n",
      "weighted avg       0.83      0.67      0.63        15\n",
      "\n",
      "-------------------------------------------------------------------------------------------------------------------\n"
     ]
    },
    {
     "name": "stderr",
     "output_type": "stream",
     "text": [
      "[Parallel(n_jobs=-1)]: Done   3 out of   3 | elapsed:  1.8min finished\n",
      "[Parallel(n_jobs=-1)]: Using backend LokyBackend with 12 concurrent workers.\n"
     ]
    },
    {
     "name": "stdout",
     "output_type": "stream",
     "text": [
      "K-Fold #1\n",
      "Mean negativities for all classes: [0.35173284704614804, 0.37742950638426287, 0.34417040841447916]\n",
      "Mean entropies for all classes: [7.266415573165434e-15, 4.428032646032389e-15, 4.0206019212851455e-15]\n",
      "              precision    recall  f1-score   support\n",
      "\n",
      "           0       0.50      0.20      0.29         5\n",
      "           1       0.14      0.20      0.17         5\n",
      "           2       0.50      0.60      0.55         5\n",
      "\n",
      "    accuracy                           0.33        15\n",
      "   macro avg       0.38      0.33      0.33        15\n",
      "weighted avg       0.38      0.33      0.33        15\n",
      "\n",
      "-------------------------------------------------------------------------------------------------------------------\n"
     ]
    },
    {
     "name": "stderr",
     "output_type": "stream",
     "text": [
      "[Parallel(n_jobs=-1)]: Done   3 out of   3 | elapsed:  1.8min finished\n",
      "[Parallel(n_jobs=-1)]: Using backend LokyBackend with 12 concurrent workers.\n"
     ]
    },
    {
     "name": "stdout",
     "output_type": "stream",
     "text": [
      "K-Fold #2\n",
      "Mean negativities for all classes: [0.36758807883080297, 0.36574498832541197, 0.3416923382328303]\n",
      "Mean entropies for all classes: [3.61331786250317e-15, 3.2338826334727443e-15, 3.230385346160738e-15]\n",
      "              precision    recall  f1-score   support\n",
      "\n",
      "           0       0.67      0.40      0.50         5\n",
      "           1       0.50      0.60      0.55         5\n",
      "           2       0.83      1.00      0.91         5\n",
      "\n",
      "    accuracy                           0.67        15\n",
      "   macro avg       0.67      0.67      0.65        15\n",
      "weighted avg       0.67      0.67      0.65        15\n",
      "\n",
      "-------------------------------------------------------------------------------------------------------------------\n"
     ]
    },
    {
     "name": "stderr",
     "output_type": "stream",
     "text": [
      "[Parallel(n_jobs=-1)]: Done   3 out of   3 | elapsed:  1.8min finished\n",
      "[Parallel(n_jobs=-1)]: Using backend LokyBackend with 12 concurrent workers.\n"
     ]
    },
    {
     "name": "stdout",
     "output_type": "stream",
     "text": [
      "K-Fold #3\n",
      "Mean negativities for all classes: [0.35116324364816015, 0.37324721425814583, 0.3386720162809118]\n",
      "Mean entropies for all classes: [3.308797003006921e-15, 3.778875538780856e-15, 4.621041418425837e-15]\n",
      "              precision    recall  f1-score   support\n",
      "\n",
      "           0       1.00      0.60      0.75         5\n",
      "           1       0.71      1.00      0.83         5\n",
      "           2       1.00      1.00      1.00         5\n",
      "\n",
      "    accuracy                           0.87        15\n",
      "   macro avg       0.90      0.87      0.86        15\n",
      "weighted avg       0.90      0.87      0.86        15\n",
      "\n",
      "-------------------------------------------------------------------------------------------------------------------\n"
     ]
    },
    {
     "name": "stderr",
     "output_type": "stream",
     "text": [
      "[Parallel(n_jobs=-1)]: Done   3 out of   3 | elapsed:  1.8min finished\n",
      "[Parallel(n_jobs=-1)]: Using backend LokyBackend with 12 concurrent workers.\n"
     ]
    },
    {
     "name": "stdout",
     "output_type": "stream",
     "text": [
      "K-Fold #4\n",
      "Mean negativities for all classes: [0.33831154993305174, 0.332219250193987, 0.36227258776652554]\n",
      "Mean entropies for all classes: [2.6601898160391065e-15, 4.039388286339499e-15, 3.875679278982001e-15]\n",
      "              precision    recall  f1-score   support\n",
      "\n",
      "           0       1.00      0.40      0.57         5\n",
      "           1       0.43      0.60      0.50         5\n",
      "           2       0.50      0.60      0.55         5\n",
      "\n",
      "    accuracy                           0.53        15\n",
      "   macro avg       0.64      0.53      0.54        15\n",
      "weighted avg       0.64      0.53      0.54        15\n",
      "\n",
      "-------------------------------------------------------------------------------------------------------------------\n"
     ]
    },
    {
     "name": "stderr",
     "output_type": "stream",
     "text": [
      "[Parallel(n_jobs=-1)]: Done   3 out of   3 | elapsed:  1.8min finished\n",
      "[Parallel(n_jobs=-1)]: Using backend LokyBackend with 12 concurrent workers.\n"
     ]
    },
    {
     "name": "stdout",
     "output_type": "stream",
     "text": [
      "K-Fold #5\n",
      "Mean negativities for all classes: [0.37194721246271273, 0.3629039876902001, 0.3402397551941761]\n",
      "Mean entropies for all classes: [7.001967004596843e-15, 3.0798481666464222e-15, 4.0315817918760244e-15]\n",
      "              precision    recall  f1-score   support\n",
      "\n",
      "           0       1.00      0.20      0.33         5\n",
      "           1       0.00      0.00      0.00         5\n",
      "           2       0.33      0.80      0.47         5\n",
      "\n",
      "    accuracy                           0.33        15\n",
      "   macro avg       0.44      0.33      0.27        15\n",
      "weighted avg       0.44      0.33      0.27        15\n",
      "\n",
      "-------------------------------------------------------------------------------------------------------------------\n"
     ]
    },
    {
     "name": "stderr",
     "output_type": "stream",
     "text": [
      "[Parallel(n_jobs=-1)]: Done   3 out of   3 | elapsed:  1.8min finished\n",
      "[Parallel(n_jobs=-1)]: Using backend LokyBackend with 12 concurrent workers.\n"
     ]
    },
    {
     "name": "stdout",
     "output_type": "stream",
     "text": [
      "K-Fold #6\n",
      "Mean negativities for all classes: [0.34008743241269335, 0.33770389588264965, 0.35017602873584885]\n",
      "Mean entropies for all classes: [2.0307705075238477e-16, 3.97621824131414e-15, 3.8238755156429344e-15]\n",
      "              precision    recall  f1-score   support\n",
      "\n",
      "           0       0.00      0.00      0.00         5\n",
      "           1       0.44      0.80      0.57         5\n",
      "           2       0.80      0.80      0.80         5\n",
      "\n",
      "    accuracy                           0.53        15\n",
      "   macro avg       0.41      0.53      0.46        15\n",
      "weighted avg       0.41      0.53      0.46        15\n",
      "\n",
      "-------------------------------------------------------------------------------------------------------------------\n"
     ]
    },
    {
     "name": "stderr",
     "output_type": "stream",
     "text": [
      "[Parallel(n_jobs=-1)]: Done   3 out of   3 | elapsed:  1.8min finished\n",
      "[Parallel(n_jobs=-1)]: Using backend LokyBackend with 12 concurrent workers.\n"
     ]
    },
    {
     "name": "stdout",
     "output_type": "stream",
     "text": [
      "K-Fold #7\n",
      "Mean negativities for all classes: [0.35210034688334524, 0.38381505335351324, 0.34896357813810597]\n",
      "Mean entropies for all classes: [2.663006404338108e-15, 4.190713785373772e-15, 3.633129072295114e-15]\n",
      "              precision    recall  f1-score   support\n",
      "\n",
      "           0       0.00      0.00      0.00         5\n",
      "           1       0.44      0.80      0.57         5\n",
      "           2       1.00      1.00      1.00         5\n",
      "\n",
      "    accuracy                           0.60        15\n",
      "   macro avg       0.48      0.60      0.52        15\n",
      "weighted avg       0.48      0.60      0.52        15\n",
      "\n",
      "-------------------------------------------------------------------------------------------------------------------\n"
     ]
    },
    {
     "name": "stderr",
     "output_type": "stream",
     "text": [
      "[Parallel(n_jobs=-1)]: Done   3 out of   3 | elapsed:  1.8min finished\n",
      "c:\\ProgramData\\Anaconda3\\lib\\site-packages\\sklearn\\metrics\\_classification.py:1344: UndefinedMetricWarning: Precision and F-score are ill-defined and being set to 0.0 in labels with no predicted samples. Use `zero_division` parameter to control this behavior.\n",
      "  _warn_prf(average, modifier, msg_start, len(result))\n",
      "c:\\ProgramData\\Anaconda3\\lib\\site-packages\\sklearn\\metrics\\_classification.py:1344: UndefinedMetricWarning: Precision and F-score are ill-defined and being set to 0.0 in labels with no predicted samples. Use `zero_division` parameter to control this behavior.\n",
      "  _warn_prf(average, modifier, msg_start, len(result))\n",
      "c:\\ProgramData\\Anaconda3\\lib\\site-packages\\sklearn\\metrics\\_classification.py:1344: UndefinedMetricWarning: Precision and F-score are ill-defined and being set to 0.0 in labels with no predicted samples. Use `zero_division` parameter to control this behavior.\n",
      "  _warn_prf(average, modifier, msg_start, len(result))\n",
      "[Parallel(n_jobs=-1)]: Using backend LokyBackend with 12 concurrent workers.\n"
     ]
    },
    {
     "name": "stdout",
     "output_type": "stream",
     "text": [
      "K-Fold #8\n",
      "Mean negativities for all classes: [0.3065473863417088, 0.34819210383515947, 0.32935910993186224]\n",
      "Mean entropies for all classes: [2.76303034078595e-15, 4.530611687884754e-15, 3.483891145910722e-15]\n",
      "              precision    recall  f1-score   support\n",
      "\n",
      "           0       0.00      0.00      0.00         5\n",
      "           1       0.50      0.60      0.55         5\n",
      "           2       0.56      1.00      0.71         5\n",
      "\n",
      "    accuracy                           0.53        15\n",
      "   macro avg       0.35      0.53      0.42        15\n",
      "weighted avg       0.35      0.53      0.42        15\n",
      "\n",
      "-------------------------------------------------------------------------------------------------------------------\n"
     ]
    },
    {
     "name": "stderr",
     "output_type": "stream",
     "text": [
      "[Parallel(n_jobs=-1)]: Done   3 out of   3 | elapsed:  1.8min finished\n",
      "[Parallel(n_jobs=-1)]: Using backend LokyBackend with 12 concurrent workers.\n"
     ]
    },
    {
     "name": "stdout",
     "output_type": "stream",
     "text": [
      "K-Fold #9\n",
      "Mean negativities for all classes: [0.3411785966349875, 0.3481052792166159, 0.35927215801555223]\n",
      "Mean entropies for all classes: [4.020259165250322e-15, 3.691657037804098e-15, 4.256007164537346e-15]\n",
      "              precision    recall  f1-score   support\n",
      "\n",
      "           0       1.00      0.20      0.33         5\n",
      "           1       0.62      1.00      0.77         5\n",
      "           2       0.67      0.80      0.73         5\n",
      "\n",
      "    accuracy                           0.67        15\n",
      "   macro avg       0.76      0.67      0.61        15\n",
      "weighted avg       0.76      0.67      0.61        15\n",
      "\n",
      "-------------------------------------------------------------------------------------------------------------------\n",
      "AVG: Scores = 0.5733333333333334 F1-Scores = 0.5292614030849325 Negativity = [0.3459001524573692, 0.35777758728163, 0.3583418017963484] Entropy = [4.170728594921517e-15, 5.238350046827656e-15, 3.3591952807122174e-15]\n"
     ]
    },
    {
     "name": "stderr",
     "output_type": "stream",
     "text": [
      "[Parallel(n_jobs=-1)]: Done   3 out of   3 | elapsed:  1.8min finished\n",
      "[Parallel(n_jobs=-1)]: Using backend LokyBackend with 12 concurrent workers.\n"
     ]
    },
    {
     "name": "stdout",
     "output_type": "stream",
     "text": [
      "K-Fold #0\n",
      "Mean negativities for all classes: [0.30904805577372824, 0.3548581591224901, 0.3643965457545165]\n",
      "Mean entropies for all classes: [2.598000466956645e-15, 4.382635899548125e-15, 3.614627878595595e-15]\n",
      "              precision    recall  f1-score   support\n",
      "\n",
      "           0       0.50      0.20      0.29         5\n",
      "           1       0.50      0.40      0.44         5\n",
      "           2       0.33      0.60      0.43         5\n",
      "\n",
      "    accuracy                           0.40        15\n",
      "   macro avg       0.44      0.40      0.39        15\n",
      "weighted avg       0.44      0.40      0.39        15\n",
      "\n",
      "-------------------------------------------------------------------------------------------------------------------\n"
     ]
    },
    {
     "name": "stderr",
     "output_type": "stream",
     "text": [
      "[Parallel(n_jobs=-1)]: Done   3 out of   3 | elapsed:  1.8min finished\n",
      "[Parallel(n_jobs=-1)]: Using backend LokyBackend with 12 concurrent workers.\n"
     ]
    },
    {
     "name": "stdout",
     "output_type": "stream",
     "text": [
      "K-Fold #1\n",
      "Mean negativities for all classes: [0.3318545148818791, 0.3572944749803006, 0.3412727017328661]\n",
      "Mean entropies for all classes: [4.2778619249640746e-15, 2.834753005167267e-15, 3.9571845394954044e-15]\n",
      "              precision    recall  f1-score   support\n",
      "\n",
      "           0       1.00      0.20      0.33         5\n",
      "           1       0.71      1.00      0.83         5\n",
      "           2       0.71      1.00      0.83         5\n",
      "\n",
      "    accuracy                           0.73        15\n",
      "   macro avg       0.81      0.73      0.67        15\n",
      "weighted avg       0.81      0.73      0.67        15\n",
      "\n",
      "-------------------------------------------------------------------------------------------------------------------\n"
     ]
    },
    {
     "name": "stderr",
     "output_type": "stream",
     "text": [
      "[Parallel(n_jobs=-1)]: Done   3 out of   3 | elapsed:  1.8min finished\n",
      "c:\\ProgramData\\Anaconda3\\lib\\site-packages\\sklearn\\metrics\\_classification.py:1344: UndefinedMetricWarning: Precision and F-score are ill-defined and being set to 0.0 in labels with no predicted samples. Use `zero_division` parameter to control this behavior.\n",
      "  _warn_prf(average, modifier, msg_start, len(result))\n",
      "c:\\ProgramData\\Anaconda3\\lib\\site-packages\\sklearn\\metrics\\_classification.py:1344: UndefinedMetricWarning: Precision and F-score are ill-defined and being set to 0.0 in labels with no predicted samples. Use `zero_division` parameter to control this behavior.\n",
      "  _warn_prf(average, modifier, msg_start, len(result))\n",
      "c:\\ProgramData\\Anaconda3\\lib\\site-packages\\sklearn\\metrics\\_classification.py:1344: UndefinedMetricWarning: Precision and F-score are ill-defined and being set to 0.0 in labels with no predicted samples. Use `zero_division` parameter to control this behavior.\n",
      "  _warn_prf(average, modifier, msg_start, len(result))\n",
      "[Parallel(n_jobs=-1)]: Using backend LokyBackend with 12 concurrent workers.\n"
     ]
    },
    {
     "name": "stdout",
     "output_type": "stream",
     "text": [
      "K-Fold #2\n",
      "Mean negativities for all classes: [0.3536596744862097, 0.3510765071623185, 0.35647676420462165]\n",
      "Mean entropies for all classes: [3.2423995736323227e-15, 3.665237075296162e-15, 3.563457753195236e-15]\n",
      "              precision    recall  f1-score   support\n",
      "\n",
      "           0       0.00      0.00      0.00         5\n",
      "           1       0.50      0.60      0.55         5\n",
      "           2       0.56      1.00      0.71         5\n",
      "\n",
      "    accuracy                           0.53        15\n",
      "   macro avg       0.35      0.53      0.42        15\n",
      "weighted avg       0.35      0.53      0.42        15\n",
      "\n",
      "-------------------------------------------------------------------------------------------------------------------\n"
     ]
    },
    {
     "name": "stderr",
     "output_type": "stream",
     "text": [
      "[Parallel(n_jobs=-1)]: Done   3 out of   3 | elapsed:  1.8min finished\n",
      "[Parallel(n_jobs=-1)]: Using backend LokyBackend with 12 concurrent workers.\n"
     ]
    },
    {
     "name": "stdout",
     "output_type": "stream",
     "text": [
      "K-Fold #3\n",
      "Mean negativities for all classes: [0.37782213922846214, 0.3634315842273388, 0.33853277904316476]\n",
      "Mean entropies for all classes: [3.5427311244934133e-15, 3.624299761859687e-15, 4.1950166602307614e-15]\n",
      "              precision    recall  f1-score   support\n",
      "\n",
      "           0       1.00      0.60      0.75         5\n",
      "           1       0.50      0.40      0.44         5\n",
      "           2       0.62      1.00      0.77         5\n",
      "\n",
      "    accuracy                           0.67        15\n",
      "   macro avg       0.71      0.67      0.65        15\n",
      "weighted avg       0.71      0.67      0.65        15\n",
      "\n",
      "-------------------------------------------------------------------------------------------------------------------\n"
     ]
    },
    {
     "name": "stderr",
     "output_type": "stream",
     "text": [
      "[Parallel(n_jobs=-1)]: Done   3 out of   3 | elapsed:  1.8min finished\n",
      "[Parallel(n_jobs=-1)]: Using backend LokyBackend with 12 concurrent workers.\n"
     ]
    },
    {
     "name": "stdout",
     "output_type": "stream",
     "text": [
      "K-Fold #4\n",
      "Mean negativities for all classes: [0.36646080941081915, 0.36312863970617176, 0.34836908246112874]\n",
      "Mean entropies for all classes: [5.080574832940772e-15, 4.002137391625364e-15, 4.8432523723969266e-15]\n",
      "              precision    recall  f1-score   support\n",
      "\n",
      "           0       1.00      0.40      0.57         5\n",
      "           1       0.60      0.60      0.60         5\n",
      "           2       0.62      1.00      0.77         5\n",
      "\n",
      "    accuracy                           0.67        15\n",
      "   macro avg       0.74      0.67      0.65        15\n",
      "weighted avg       0.74      0.67      0.65        15\n",
      "\n",
      "-------------------------------------------------------------------------------------------------------------------\n"
     ]
    },
    {
     "name": "stderr",
     "output_type": "stream",
     "text": [
      "[Parallel(n_jobs=-1)]: Done   3 out of   3 | elapsed:  1.8min finished\n",
      "[Parallel(n_jobs=-1)]: Using backend LokyBackend with 12 concurrent workers.\n"
     ]
    },
    {
     "name": "stdout",
     "output_type": "stream",
     "text": [
      "K-Fold #5\n",
      "Mean negativities for all classes: [0.3522464307001885, 0.33558305757425083, 0.3403718657267517]\n",
      "Mean entropies for all classes: [9.779471312601819e-15, 2.6942536191405468e-15, 4.030397492315375e-15]\n",
      "              precision    recall  f1-score   support\n",
      "\n",
      "           0       1.00      0.20      0.33         5\n",
      "           1       0.80      0.80      0.80         5\n",
      "           2       0.56      1.00      0.71         5\n",
      "\n",
      "    accuracy                           0.67        15\n",
      "   macro avg       0.79      0.67      0.62        15\n",
      "weighted avg       0.79      0.67      0.62        15\n",
      "\n",
      "-------------------------------------------------------------------------------------------------------------------\n"
     ]
    },
    {
     "name": "stderr",
     "output_type": "stream",
     "text": [
      "[Parallel(n_jobs=-1)]: Done   3 out of   3 | elapsed:  1.8min finished\n",
      "[Parallel(n_jobs=-1)]: Using backend LokyBackend with 12 concurrent workers.\n"
     ]
    },
    {
     "name": "stdout",
     "output_type": "stream",
     "text": [
      "K-Fold #6\n",
      "Mean negativities for all classes: [0.3406679679555851, 0.3682983531095134, 0.34850954422165614]\n",
      "Mean entropies for all classes: [5.439601938014917e-15, 3.168290027102647e-15, 4.492622692438145e-15]\n",
      "              precision    recall  f1-score   support\n",
      "\n",
      "           0       1.00      0.20      0.33         5\n",
      "           1       0.43      0.60      0.50         5\n",
      "           2       0.71      1.00      0.83         5\n",
      "\n",
      "    accuracy                           0.60        15\n",
      "   macro avg       0.71      0.60      0.56        15\n",
      "weighted avg       0.71      0.60      0.56        15\n",
      "\n",
      "-------------------------------------------------------------------------------------------------------------------\n"
     ]
    },
    {
     "name": "stderr",
     "output_type": "stream",
     "text": [
      "[Parallel(n_jobs=-1)]: Done   3 out of   3 | elapsed:  1.8min finished\n",
      "[Parallel(n_jobs=-1)]: Using backend LokyBackend with 12 concurrent workers.\n"
     ]
    },
    {
     "name": "stdout",
     "output_type": "stream",
     "text": [
      "K-Fold #7\n",
      "Mean negativities for all classes: [0.3713479727538852, 0.3664241215552582, 0.31434172822249723]\n",
      "Mean entropies for all classes: [-2.749022209405718e-16, 4.416002387213622e-15, 3.5247117016419774e-15]\n",
      "              precision    recall  f1-score   support\n",
      "\n",
      "           0       0.50      0.20      0.29         5\n",
      "           1       0.38      0.60      0.46         5\n",
      "           2       0.80      0.80      0.80         5\n",
      "\n",
      "    accuracy                           0.53        15\n",
      "   macro avg       0.56      0.53      0.52        15\n",
      "weighted avg       0.56      0.53      0.52        15\n",
      "\n",
      "-------------------------------------------------------------------------------------------------------------------\n"
     ]
    },
    {
     "name": "stderr",
     "output_type": "stream",
     "text": [
      "[Parallel(n_jobs=-1)]: Done   3 out of   3 | elapsed:  1.8min finished\n",
      "[Parallel(n_jobs=-1)]: Using backend LokyBackend with 12 concurrent workers.\n"
     ]
    },
    {
     "name": "stdout",
     "output_type": "stream",
     "text": [
      "K-Fold #8\n",
      "Mean negativities for all classes: [0.33917844137897407, 0.37264569168343453, 0.30887933068268214]\n",
      "Mean entropies for all classes: [3.260730632679356e-15, 4.092705768757898e-15, 4.4298231199963e-15]\n",
      "              precision    recall  f1-score   support\n",
      "\n",
      "           0       1.00      0.60      0.75         5\n",
      "           1       0.67      0.40      0.50         5\n",
      "           2       0.56      1.00      0.71         5\n",
      "\n",
      "    accuracy                           0.67        15\n",
      "   macro avg       0.74      0.67      0.65        15\n",
      "weighted avg       0.74      0.67      0.65        15\n",
      "\n",
      "-------------------------------------------------------------------------------------------------------------------\n"
     ]
    },
    {
     "name": "stderr",
     "output_type": "stream",
     "text": [
      "[Parallel(n_jobs=-1)]: Done   3 out of   3 | elapsed:  1.8min finished\n",
      "[Parallel(n_jobs=-1)]: Using backend LokyBackend with 12 concurrent workers.\n"
     ]
    },
    {
     "name": "stdout",
     "output_type": "stream",
     "text": [
      "K-Fold #9\n",
      "Mean negativities for all classes: [0.3757113431265049, 0.34535956719929817, 0.35260103809802845]\n",
      "Mean entropies for all classes: [5.140174672959226e-15, 3.810278190047201e-15, 3.4597372525782043e-15]\n",
      "              precision    recall  f1-score   support\n",
      "\n",
      "           0       1.00      0.40      0.57         5\n",
      "           1       0.50      0.80      0.62         5\n",
      "           2       0.80      0.80      0.80         5\n",
      "\n",
      "    accuracy                           0.67        15\n",
      "   macro avg       0.77      0.67      0.66        15\n",
      "weighted avg       0.77      0.67      0.66        15\n",
      "\n",
      "-------------------------------------------------------------------------------------------------------------------\n",
      "AVG: Scores = 0.6133333333333334 F1-Scores = 0.5778480778480779 Negativity = [0.3427675868835783, 0.3434738971983486, 0.3537376486177166] Entropy = [3.5317547483667883e-15, 3.689933156542249e-15, 3.490364800707907e-15]\n"
     ]
    },
    {
     "name": "stderr",
     "output_type": "stream",
     "text": [
      "[Parallel(n_jobs=-1)]: Done   3 out of   3 | elapsed:  1.8min finished\n",
      "[Parallel(n_jobs=-1)]: Using backend LokyBackend with 12 concurrent workers.\n"
     ]
    },
    {
     "name": "stdout",
     "output_type": "stream",
     "text": [
      "K-Fold #0\n",
      "Mean negativities for all classes: [0.3493865573864793, 0.35612111664989815, 0.33184765683041306]\n",
      "Mean entropies for all classes: [3.3382868777860822e-15, 4.0087805683118806e-15, 3.0920695796443668e-15]\n",
      "              precision    recall  f1-score   support\n",
      "\n",
      "           0       1.00      0.20      0.33         5\n",
      "           1       0.57      0.80      0.67         5\n",
      "           2       0.71      1.00      0.83         5\n",
      "\n",
      "    accuracy                           0.67        15\n",
      "   macro avg       0.76      0.67      0.61        15\n",
      "weighted avg       0.76      0.67      0.61        15\n",
      "\n",
      "-------------------------------------------------------------------------------------------------------------------\n"
     ]
    },
    {
     "name": "stderr",
     "output_type": "stream",
     "text": [
      "[Parallel(n_jobs=-1)]: Done   3 out of   3 | elapsed:  1.8min finished\n",
      "[Parallel(n_jobs=-1)]: Using backend LokyBackend with 12 concurrent workers.\n"
     ]
    },
    {
     "name": "stdout",
     "output_type": "stream",
     "text": [
      "K-Fold #1\n",
      "Mean negativities for all classes: [0.32812732002559364, 0.3579775481002617, 0.34720409758949417]\n",
      "Mean entropies for all classes: [6.2775661438331066e-15, 4.2742432257496806e-15, 4.287855400827623e-15]\n",
      "              precision    recall  f1-score   support\n",
      "\n",
      "           0       0.75      0.60      0.67         5\n",
      "           1       0.25      0.20      0.22         5\n",
      "           2       0.57      0.80      0.67         5\n",
      "\n",
      "    accuracy                           0.53        15\n",
      "   macro avg       0.52      0.53      0.52        15\n",
      "weighted avg       0.52      0.53      0.52        15\n",
      "\n",
      "-------------------------------------------------------------------------------------------------------------------\n"
     ]
    },
    {
     "name": "stderr",
     "output_type": "stream",
     "text": [
      "[Parallel(n_jobs=-1)]: Done   3 out of   3 | elapsed:  1.8min finished\n",
      "c:\\ProgramData\\Anaconda3\\lib\\site-packages\\sklearn\\metrics\\_classification.py:1344: UndefinedMetricWarning: Precision and F-score are ill-defined and being set to 0.0 in labels with no predicted samples. Use `zero_division` parameter to control this behavior.\n",
      "  _warn_prf(average, modifier, msg_start, len(result))\n",
      "c:\\ProgramData\\Anaconda3\\lib\\site-packages\\sklearn\\metrics\\_classification.py:1344: UndefinedMetricWarning: Precision and F-score are ill-defined and being set to 0.0 in labels with no predicted samples. Use `zero_division` parameter to control this behavior.\n",
      "  _warn_prf(average, modifier, msg_start, len(result))\n",
      "c:\\ProgramData\\Anaconda3\\lib\\site-packages\\sklearn\\metrics\\_classification.py:1344: UndefinedMetricWarning: Precision and F-score are ill-defined and being set to 0.0 in labels with no predicted samples. Use `zero_division` parameter to control this behavior.\n",
      "  _warn_prf(average, modifier, msg_start, len(result))\n",
      "[Parallel(n_jobs=-1)]: Using backend LokyBackend with 12 concurrent workers.\n"
     ]
    },
    {
     "name": "stdout",
     "output_type": "stream",
     "text": [
      "K-Fold #2\n",
      "Mean negativities for all classes: [0.3012314405626597, 0.37195016941441594, 0.34434390827007255]\n",
      "Mean entropies for all classes: [3.300717155175681e-15, 4.0618929973813e-15, 3.740747082677528e-15]\n",
      "              precision    recall  f1-score   support\n",
      "\n",
      "           0       0.00      0.00      0.00         5\n",
      "           1       0.38      0.60      0.46         5\n",
      "           2       0.71      1.00      0.83         5\n",
      "\n",
      "    accuracy                           0.53        15\n",
      "   macro avg       0.36      0.53      0.43        15\n",
      "weighted avg       0.36      0.53      0.43        15\n",
      "\n",
      "-------------------------------------------------------------------------------------------------------------------\n"
     ]
    },
    {
     "name": "stderr",
     "output_type": "stream",
     "text": [
      "[Parallel(n_jobs=-1)]: Done   3 out of   3 | elapsed:  1.8min finished\n",
      "[Parallel(n_jobs=-1)]: Using backend LokyBackend with 12 concurrent workers.\n"
     ]
    },
    {
     "name": "stdout",
     "output_type": "stream",
     "text": [
      "K-Fold #3\n",
      "Mean negativities for all classes: [0.3619361689086607, 0.3637477228479455, 0.35388222687834064]\n",
      "Mean entropies for all classes: [-6.7687195320997515e-15, 3.682853478960363e-15, 3.7076169148142e-15]\n",
      "              precision    recall  f1-score   support\n",
      "\n",
      "           0       1.00      0.20      0.33         5\n",
      "           1       0.60      0.60      0.60         5\n",
      "           2       0.56      1.00      0.71         5\n",
      "\n",
      "    accuracy                           0.60        15\n",
      "   macro avg       0.72      0.60      0.55        15\n",
      "weighted avg       0.72      0.60      0.55        15\n",
      "\n",
      "-------------------------------------------------------------------------------------------------------------------\n"
     ]
    },
    {
     "name": "stderr",
     "output_type": "stream",
     "text": [
      "[Parallel(n_jobs=-1)]: Done   3 out of   3 | elapsed:  1.8min finished\n",
      "c:\\ProgramData\\Anaconda3\\lib\\site-packages\\sklearn\\metrics\\_classification.py:1344: UndefinedMetricWarning: Precision and F-score are ill-defined and being set to 0.0 in labels with no predicted samples. Use `zero_division` parameter to control this behavior.\n",
      "  _warn_prf(average, modifier, msg_start, len(result))\n",
      "c:\\ProgramData\\Anaconda3\\lib\\site-packages\\sklearn\\metrics\\_classification.py:1344: UndefinedMetricWarning: Precision and F-score are ill-defined and being set to 0.0 in labels with no predicted samples. Use `zero_division` parameter to control this behavior.\n",
      "  _warn_prf(average, modifier, msg_start, len(result))\n",
      "c:\\ProgramData\\Anaconda3\\lib\\site-packages\\sklearn\\metrics\\_classification.py:1344: UndefinedMetricWarning: Precision and F-score are ill-defined and being set to 0.0 in labels with no predicted samples. Use `zero_division` parameter to control this behavior.\n",
      "  _warn_prf(average, modifier, msg_start, len(result))\n",
      "[Parallel(n_jobs=-1)]: Using backend LokyBackend with 12 concurrent workers.\n"
     ]
    },
    {
     "name": "stdout",
     "output_type": "stream",
     "text": [
      "K-Fold #4\n",
      "Mean negativities for all classes: [0.3446099113519813, 0.3606602623078994, 0.3392437517689551]\n",
      "Mean entropies for all classes: [3.161428556551817e-15, 4.123919676863719e-15, 3.512659418160307e-15]\n",
      "              precision    recall  f1-score   support\n",
      "\n",
      "           0       0.00      0.00      0.00         5\n",
      "           1       0.45      1.00      0.62         5\n",
      "           2       1.00      0.80      0.89         5\n",
      "\n",
      "    accuracy                           0.60        15\n",
      "   macro avg       0.48      0.60      0.50        15\n",
      "weighted avg       0.48      0.60      0.50        15\n",
      "\n",
      "-------------------------------------------------------------------------------------------------------------------\n"
     ]
    },
    {
     "name": "stderr",
     "output_type": "stream",
     "text": [
      "[Parallel(n_jobs=-1)]: Done   3 out of   3 | elapsed:  1.8min finished\n",
      "c:\\ProgramData\\Anaconda3\\lib\\site-packages\\sklearn\\metrics\\_classification.py:1344: UndefinedMetricWarning: Precision and F-score are ill-defined and being set to 0.0 in labels with no predicted samples. Use `zero_division` parameter to control this behavior.\n",
      "  _warn_prf(average, modifier, msg_start, len(result))\n",
      "c:\\ProgramData\\Anaconda3\\lib\\site-packages\\sklearn\\metrics\\_classification.py:1344: UndefinedMetricWarning: Precision and F-score are ill-defined and being set to 0.0 in labels with no predicted samples. Use `zero_division` parameter to control this behavior.\n",
      "  _warn_prf(average, modifier, msg_start, len(result))\n",
      "c:\\ProgramData\\Anaconda3\\lib\\site-packages\\sklearn\\metrics\\_classification.py:1344: UndefinedMetricWarning: Precision and F-score are ill-defined and being set to 0.0 in labels with no predicted samples. Use `zero_division` parameter to control this behavior.\n",
      "  _warn_prf(average, modifier, msg_start, len(result))\n",
      "[Parallel(n_jobs=-1)]: Using backend LokyBackend with 12 concurrent workers.\n"
     ]
    },
    {
     "name": "stdout",
     "output_type": "stream",
     "text": [
      "K-Fold #5\n",
      "Mean negativities for all classes: [0.3264102412616638, 0.36390145782468636, 0.3335759510224137]\n",
      "Mean entropies for all classes: [3.5508647486335188e-15, 3.691601523118449e-15, 3.5451847365516074e-15]\n",
      "              precision    recall  f1-score   support\n",
      "\n",
      "           0       0.00      0.00      0.00         5\n",
      "           1       0.29      0.40      0.33         5\n",
      "           2       0.62      1.00      0.77         5\n",
      "\n",
      "    accuracy                           0.47        15\n",
      "   macro avg       0.30      0.47      0.37        15\n",
      "weighted avg       0.30      0.47      0.37        15\n",
      "\n",
      "-------------------------------------------------------------------------------------------------------------------\n"
     ]
    },
    {
     "name": "stderr",
     "output_type": "stream",
     "text": [
      "[Parallel(n_jobs=-1)]: Done   3 out of   3 | elapsed:  1.8min finished\n",
      "[Parallel(n_jobs=-1)]: Using backend LokyBackend with 12 concurrent workers.\n"
     ]
    },
    {
     "name": "stdout",
     "output_type": "stream",
     "text": [
      "K-Fold #6\n",
      "Mean negativities for all classes: [0.3257333546772827, 0.3667135115469821, 0.3193911721453767]\n",
      "Mean entropies for all classes: [6.307329496273057e-15, 3.944256836534413e-15, 4.676769174592723e-15]\n",
      "              precision    recall  f1-score   support\n",
      "\n",
      "           0       1.00      0.60      0.75         5\n",
      "           1       0.67      0.40      0.50         5\n",
      "           2       0.56      1.00      0.71         5\n",
      "\n",
      "    accuracy                           0.67        15\n",
      "   macro avg       0.74      0.67      0.65        15\n",
      "weighted avg       0.74      0.67      0.65        15\n",
      "\n",
      "-------------------------------------------------------------------------------------------------------------------\n"
     ]
    },
    {
     "name": "stderr",
     "output_type": "stream",
     "text": [
      "[Parallel(n_jobs=-1)]: Done   3 out of   3 | elapsed:  1.8min finished\n",
      "[Parallel(n_jobs=-1)]: Using backend LokyBackend with 12 concurrent workers.\n"
     ]
    },
    {
     "name": "stdout",
     "output_type": "stream",
     "text": [
      "K-Fold #7\n",
      "Mean negativities for all classes: [0.36820954831521263, 0.3627091477603746, 0.34019738920760784]\n",
      "Mean entropies for all classes: [2.2222871153789268e-15, 4.4822818607917075e-15, 4.126621982082611e-15]\n",
      "              precision    recall  f1-score   support\n",
      "\n",
      "           0       1.00      0.40      0.57         5\n",
      "           1       0.33      0.40      0.36         5\n",
      "           2       0.57      0.80      0.67         5\n",
      "\n",
      "    accuracy                           0.53        15\n",
      "   macro avg       0.63      0.53      0.53        15\n",
      "weighted avg       0.63      0.53      0.53        15\n",
      "\n",
      "-------------------------------------------------------------------------------------------------------------------\n"
     ]
    },
    {
     "name": "stderr",
     "output_type": "stream",
     "text": [
      "[Parallel(n_jobs=-1)]: Done   3 out of   3 | elapsed:  1.8min finished\n",
      "[Parallel(n_jobs=-1)]: Using backend LokyBackend with 12 concurrent workers.\n"
     ]
    },
    {
     "name": "stdout",
     "output_type": "stream",
     "text": [
      "K-Fold #8\n",
      "Mean negativities for all classes: [0.32347854074120264, 0.35227715615394584, 0.32501835169375026]\n",
      "Mean entropies for all classes: [3.669073884510248e-15, 4.870363575733811e-15, 3.6928471422541446e-15]\n",
      "              precision    recall  f1-score   support\n",
      "\n",
      "           0       1.00      0.60      0.75         5\n",
      "           1       0.50      0.60      0.55         5\n",
      "           2       0.67      0.80      0.73         5\n",
      "\n",
      "    accuracy                           0.67        15\n",
      "   macro avg       0.72      0.67      0.67        15\n",
      "weighted avg       0.72      0.67      0.67        15\n",
      "\n",
      "-------------------------------------------------------------------------------------------------------------------\n"
     ]
    },
    {
     "name": "stderr",
     "output_type": "stream",
     "text": [
      "[Parallel(n_jobs=-1)]: Done   3 out of   3 | elapsed:  1.8min finished\n",
      "[Parallel(n_jobs=-1)]: Using backend LokyBackend with 12 concurrent workers.\n"
     ]
    },
    {
     "name": "stdout",
     "output_type": "stream",
     "text": [
      "K-Fold #9\n",
      "Mean negativities for all classes: [0.35573121009838177, 0.35443129215360913, 0.34797763631722134]\n",
      "Mean entropies for all classes: [5.9021364978972675e-15, 3.343536578737201e-15, 3.717325936371742e-15]\n",
      "              precision    recall  f1-score   support\n",
      "\n",
      "           0       1.00      0.20      0.33         5\n",
      "           1       0.43      0.60      0.50         5\n",
      "           2       0.57      0.80      0.67         5\n",
      "\n",
      "    accuracy                           0.53        15\n",
      "   macro avg       0.67      0.53      0.50        15\n",
      "weighted avg       0.67      0.53      0.50        15\n",
      "\n",
      "-------------------------------------------------------------------------------------------------------------------\n",
      "AVG: Scores = 0.58 F1-Scores = 0.534552577052577 Negativity = [0.3457851102889302, 0.3444363219051165, 0.33917517274904946] Entropy = [3.47971234191411e-15, 4.946554923470137e-15, 3.701119078411503e-15]\n"
     ]
    },
    {
     "name": "stderr",
     "output_type": "stream",
     "text": [
      "[Parallel(n_jobs=-1)]: Done   3 out of   3 | elapsed:  1.8min finished\n",
      "c:\\ProgramData\\Anaconda3\\lib\\site-packages\\sklearn\\metrics\\_classification.py:1344: UndefinedMetricWarning: Precision and F-score are ill-defined and being set to 0.0 in labels with no predicted samples. Use `zero_division` parameter to control this behavior.\n",
      "  _warn_prf(average, modifier, msg_start, len(result))\n",
      "c:\\ProgramData\\Anaconda3\\lib\\site-packages\\sklearn\\metrics\\_classification.py:1344: UndefinedMetricWarning: Precision and F-score are ill-defined and being set to 0.0 in labels with no predicted samples. Use `zero_division` parameter to control this behavior.\n",
      "  _warn_prf(average, modifier, msg_start, len(result))\n",
      "c:\\ProgramData\\Anaconda3\\lib\\site-packages\\sklearn\\metrics\\_classification.py:1344: UndefinedMetricWarning: Precision and F-score are ill-defined and being set to 0.0 in labels with no predicted samples. Use `zero_division` parameter to control this behavior.\n",
      "  _warn_prf(average, modifier, msg_start, len(result))\n",
      "[Parallel(n_jobs=-1)]: Using backend LokyBackend with 12 concurrent workers.\n"
     ]
    },
    {
     "name": "stdout",
     "output_type": "stream",
     "text": [
      "K-Fold #0\n",
      "Mean negativities for all classes: [0.30804540304112166, 0.3704838336039459, 0.3383281099878076]\n",
      "Mean entropies for all classes: [2.31528192874356e-15, 4.0928989504569304e-15, 3.896161162034892e-15]\n",
      "              precision    recall  f1-score   support\n",
      "\n",
      "           0       0.00      0.00      0.00         5\n",
      "           1       0.29      0.40      0.33         5\n",
      "           2       0.62      1.00      0.77         5\n",
      "\n",
      "    accuracy                           0.47        15\n",
      "   macro avg       0.30      0.47      0.37        15\n",
      "weighted avg       0.30      0.47      0.37        15\n",
      "\n",
      "-------------------------------------------------------------------------------------------------------------------\n"
     ]
    },
    {
     "name": "stderr",
     "output_type": "stream",
     "text": [
      "[Parallel(n_jobs=-1)]: Done   3 out of   3 | elapsed:  1.8min finished\n",
      "[Parallel(n_jobs=-1)]: Using backend LokyBackend with 12 concurrent workers.\n"
     ]
    },
    {
     "name": "stdout",
     "output_type": "stream",
     "text": [
      "K-Fold #1\n",
      "Mean negativities for all classes: [0.3716024960501735, 0.33614119784422214, 0.3210219624346839]\n",
      "Mean entropies for all classes: [3.726378819975473e-15, 5.031768797240748e-15, 4.0160749354207245e-15]\n",
      "              precision    recall  f1-score   support\n",
      "\n",
      "           0       1.00      0.40      0.57         5\n",
      "           1       0.56      1.00      0.71         5\n",
      "           2       1.00      0.80      0.89         5\n",
      "\n",
      "    accuracy                           0.73        15\n",
      "   macro avg       0.85      0.73      0.72        15\n",
      "weighted avg       0.85      0.73      0.72        15\n",
      "\n",
      "-------------------------------------------------------------------------------------------------------------------\n"
     ]
    },
    {
     "name": "stderr",
     "output_type": "stream",
     "text": [
      "[Parallel(n_jobs=-1)]: Done   3 out of   3 | elapsed:  1.8min finished\n",
      "[Parallel(n_jobs=-1)]: Using backend LokyBackend with 12 concurrent workers.\n"
     ]
    },
    {
     "name": "stdout",
     "output_type": "stream",
     "text": [
      "K-Fold #2\n",
      "Mean negativities for all classes: [0.3519062105411585, 0.3791263824255899, 0.3446856731885177]\n",
      "Mean entropies for all classes: [3.4921229367389132e-15, 3.65009699543678e-15, 3.858880146559346e-15]\n",
      "              precision    recall  f1-score   support\n",
      "\n",
      "           0       1.00      0.20      0.33         5\n",
      "           1       0.45      1.00      0.62         5\n",
      "           2       1.00      0.60      0.75         5\n",
      "\n",
      "    accuracy                           0.60        15\n",
      "   macro avg       0.82      0.60      0.57        15\n",
      "weighted avg       0.82      0.60      0.57        15\n",
      "\n",
      "-------------------------------------------------------------------------------------------------------------------\n"
     ]
    },
    {
     "name": "stderr",
     "output_type": "stream",
     "text": [
      "[Parallel(n_jobs=-1)]: Done   3 out of   3 | elapsed:  1.8min finished\n",
      "[Parallel(n_jobs=-1)]: Using backend LokyBackend with 12 concurrent workers.\n"
     ]
    },
    {
     "name": "stdout",
     "output_type": "stream",
     "text": [
      "K-Fold #3\n",
      "Mean negativities for all classes: [0.3342951097531696, 0.3661933535841987, 0.3381959858089504]\n",
      "Mean entropies for all classes: [4.2707129511152345e-15, 3.719775934026942e-15, 3.731978904593129e-15]\n",
      "              precision    recall  f1-score   support\n",
      "\n",
      "           0       1.00      0.40      0.57         5\n",
      "           1       0.60      0.60      0.60         5\n",
      "           2       0.50      0.80      0.62         5\n",
      "\n",
      "    accuracy                           0.60        15\n",
      "   macro avg       0.70      0.60      0.60        15\n",
      "weighted avg       0.70      0.60      0.60        15\n",
      "\n",
      "-------------------------------------------------------------------------------------------------------------------\n"
     ]
    },
    {
     "name": "stderr",
     "output_type": "stream",
     "text": [
      "[Parallel(n_jobs=-1)]: Done   3 out of   3 | elapsed:  1.8min finished\n",
      "[Parallel(n_jobs=-1)]: Using backend LokyBackend with 12 concurrent workers.\n"
     ]
    },
    {
     "name": "stdout",
     "output_type": "stream",
     "text": [
      "K-Fold #4\n",
      "Mean negativities for all classes: [0.3328261255982588, 0.3514941668316901, 0.34384123545557893]\n",
      "Mean entropies for all classes: [-1.294769932056171e-15, 4.0794211523451274e-15, 3.290244028368426e-15]\n",
      "              precision    recall  f1-score   support\n",
      "\n",
      "           0       1.00      0.20      0.33         5\n",
      "           1       0.43      0.60      0.50         5\n",
      "           2       0.71      1.00      0.83         5\n",
      "\n",
      "    accuracy                           0.60        15\n",
      "   macro avg       0.71      0.60      0.56        15\n",
      "weighted avg       0.71      0.60      0.56        15\n",
      "\n",
      "-------------------------------------------------------------------------------------------------------------------\n"
     ]
    },
    {
     "name": "stderr",
     "output_type": "stream",
     "text": [
      "[Parallel(n_jobs=-1)]: Done   3 out of   3 | elapsed:  1.8min finished\n",
      "[Parallel(n_jobs=-1)]: Using backend LokyBackend with 12 concurrent workers.\n"
     ]
    },
    {
     "name": "stdout",
     "output_type": "stream",
     "text": [
      "K-Fold #5\n",
      "Mean negativities for all classes: [0.3311483309069937, 0.3581610311751168, 0.3444079433911288]\n",
      "Mean entropies for all classes: [4.552744051065528e-15, 4.161973070923471e-15, 4.5722947777418375e-15]\n",
      "              precision    recall  f1-score   support\n",
      "\n",
      "           0       1.00      0.20      0.33         5\n",
      "           1       0.44      0.80      0.57         5\n",
      "           2       0.80      0.80      0.80         5\n",
      "\n",
      "    accuracy                           0.60        15\n",
      "   macro avg       0.75      0.60      0.57        15\n",
      "weighted avg       0.75      0.60      0.57        15\n",
      "\n",
      "-------------------------------------------------------------------------------------------------------------------\n"
     ]
    },
    {
     "name": "stderr",
     "output_type": "stream",
     "text": [
      "[Parallel(n_jobs=-1)]: Done   3 out of   3 | elapsed:  1.8min finished\n",
      "[Parallel(n_jobs=-1)]: Using backend LokyBackend with 12 concurrent workers.\n"
     ]
    },
    {
     "name": "stdout",
     "output_type": "stream",
     "text": [
      "K-Fold #6\n",
      "Mean negativities for all classes: [0.36684936636653664, 0.3659799350651932, 0.33546049255593857]\n",
      "Mean entropies for all classes: [2.690777228202529e-15, 3.871085500415372e-15, 3.3891559099752037e-15]\n",
      "              precision    recall  f1-score   support\n",
      "\n",
      "           0       1.00      0.20      0.33         5\n",
      "           1       0.00      0.00      0.00         5\n",
      "           2       0.50      1.00      0.67         5\n",
      "\n",
      "    accuracy                           0.40        15\n",
      "   macro avg       0.50      0.40      0.33        15\n",
      "weighted avg       0.50      0.40      0.33        15\n",
      "\n",
      "-------------------------------------------------------------------------------------------------------------------\n"
     ]
    },
    {
     "name": "stderr",
     "output_type": "stream",
     "text": [
      "[Parallel(n_jobs=-1)]: Done   3 out of   3 | elapsed:  1.8min finished\n",
      "[Parallel(n_jobs=-1)]: Using backend LokyBackend with 12 concurrent workers.\n"
     ]
    },
    {
     "name": "stdout",
     "output_type": "stream",
     "text": [
      "K-Fold #7\n",
      "Mean negativities for all classes: [0.3468825916332916, 0.36157359616475343, 0.34496960684381556]\n",
      "Mean entropies for all classes: [2.7530114893189577e-15, 3.3184229575264934e-15, 3.367903314045939e-15]\n",
      "              precision    recall  f1-score   support\n",
      "\n",
      "           0       0.33      0.20      0.25         5\n",
      "           1       0.40      0.40      0.40         5\n",
      "           2       0.57      0.80      0.67         5\n",
      "\n",
      "    accuracy                           0.47        15\n",
      "   macro avg       0.43      0.47      0.44        15\n",
      "weighted avg       0.43      0.47      0.44        15\n",
      "\n",
      "-------------------------------------------------------------------------------------------------------------------\n"
     ]
    },
    {
     "name": "stderr",
     "output_type": "stream",
     "text": [
      "[Parallel(n_jobs=-1)]: Done   3 out of   3 | elapsed:  1.8min finished\n",
      "[Parallel(n_jobs=-1)]: Using backend LokyBackend with 12 concurrent workers.\n"
     ]
    },
    {
     "name": "stdout",
     "output_type": "stream",
     "text": [
      "K-Fold #8\n",
      "Mean negativities for all classes: [0.3723582082836605, 0.3555728003276389, 0.35497269533332787]\n",
      "Mean entropies for all classes: [4.429593112440588e-15, 3.5482750282352584e-15, 3.2476928594239178e-15]\n",
      "              precision    recall  f1-score   support\n",
      "\n",
      "           0       1.00      0.40      0.57         5\n",
      "           1       0.60      0.60      0.60         5\n",
      "           2       0.62      1.00      0.77         5\n",
      "\n",
      "    accuracy                           0.67        15\n",
      "   macro avg       0.74      0.67      0.65        15\n",
      "weighted avg       0.74      0.67      0.65        15\n",
      "\n",
      "-------------------------------------------------------------------------------------------------------------------\n"
     ]
    },
    {
     "name": "stderr",
     "output_type": "stream",
     "text": [
      "[Parallel(n_jobs=-1)]: Done   3 out of   3 | elapsed:  1.8min finished\n",
      "[Parallel(n_jobs=-1)]: Using backend LokyBackend with 12 concurrent workers.\n"
     ]
    },
    {
     "name": "stdout",
     "output_type": "stream",
     "text": [
      "K-Fold #9\n",
      "Mean negativities for all classes: [0.334300867341857, 0.3671049062015541, 0.33734779731990305]\n",
      "Mean entropies for all classes: [9.335163267171124e-17, 4.305943276005503e-15, 4.083390352506852e-15]\n",
      "              precision    recall  f1-score   support\n",
      "\n",
      "           0       0.67      0.40      0.50         5\n",
      "           1       0.33      0.20      0.25         5\n",
      "           2       0.56      1.00      0.71         5\n",
      "\n",
      "    accuracy                           0.53        15\n",
      "   macro avg       0.52      0.53      0.49        15\n",
      "weighted avg       0.52      0.53      0.49        15\n",
      "\n",
      "-------------------------------------------------------------------------------------------------------------------\n",
      "AVG: Scores = 0.5666666666666667 F1-Scores = 0.5288451363451363 Negativity = [0.33895244887762505, 0.3429218854430265, 0.35857275538508865] Entropy = [3.4347806804117945e-15, 4.258074184212315e-15, 3.667033359578347e-15]\n"
     ]
    },
    {
     "name": "stderr",
     "output_type": "stream",
     "text": [
      "[Parallel(n_jobs=-1)]: Done   3 out of   3 | elapsed:  1.8min finished\n",
      "[Parallel(n_jobs=-1)]: Using backend LokyBackend with 12 concurrent workers.\n"
     ]
    },
    {
     "name": "stdout",
     "output_type": "stream",
     "text": [
      "K-Fold #0\n",
      "Mean negativities for all classes: [0.3219370589855587, 0.35481672509021706, 0.36102030810364405]\n",
      "Mean entropies for all classes: [4.179840294344973e-15, 4.199522444228578e-15, 3.587324328476265e-15]\n",
      "              precision    recall  f1-score   support\n",
      "\n",
      "           0       1.00      0.20      0.33         5\n",
      "           1       0.40      0.40      0.40         5\n",
      "           2       0.44      0.80      0.57         5\n",
      "\n",
      "    accuracy                           0.47        15\n",
      "   macro avg       0.61      0.47      0.43        15\n",
      "weighted avg       0.61      0.47      0.43        15\n",
      "\n",
      "-------------------------------------------------------------------------------------------------------------------\n"
     ]
    },
    {
     "name": "stderr",
     "output_type": "stream",
     "text": [
      "[Parallel(n_jobs=-1)]: Done   3 out of   3 | elapsed:  1.7min finished\n",
      "[Parallel(n_jobs=-1)]: Using backend LokyBackend with 12 concurrent workers.\n"
     ]
    },
    {
     "name": "stdout",
     "output_type": "stream",
     "text": [
      "K-Fold #1\n",
      "Mean negativities for all classes: [0.36169630469980524, 0.3526653464377959, 0.3502021642394466]\n",
      "Mean entropies for all classes: [4.15748719371687e-15, 4.08093467993066e-15, 4.425454401023507e-15]\n",
      "              precision    recall  f1-score   support\n",
      "\n",
      "           0       0.50      0.20      0.29         5\n",
      "           1       0.44      0.80      0.57         5\n",
      "           2       1.00      0.80      0.89         5\n",
      "\n",
      "    accuracy                           0.60        15\n",
      "   macro avg       0.65      0.60      0.58        15\n",
      "weighted avg       0.65      0.60      0.58        15\n",
      "\n",
      "-------------------------------------------------------------------------------------------------------------------\n"
     ]
    },
    {
     "name": "stderr",
     "output_type": "stream",
     "text": [
      "[Parallel(n_jobs=-1)]: Done   3 out of   3 | elapsed:  1.8min finished\n",
      "[Parallel(n_jobs=-1)]: Using backend LokyBackend with 12 concurrent workers.\n"
     ]
    },
    {
     "name": "stdout",
     "output_type": "stream",
     "text": [
      "K-Fold #2\n",
      "Mean negativities for all classes: [0.3296605294519336, 0.349642992252263, 0.34696471433171827]\n",
      "Mean entropies for all classes: [9.86991119379379e-15, 4.461588581216361e-15, 3.793051938399003e-15]\n",
      "              precision    recall  f1-score   support\n",
      "\n",
      "           0       1.00      0.20      0.33         5\n",
      "           1       0.56      1.00      0.71         5\n",
      "           2       1.00      1.00      1.00         5\n",
      "\n",
      "    accuracy                           0.73        15\n",
      "   macro avg       0.85      0.73      0.68        15\n",
      "weighted avg       0.85      0.73      0.68        15\n",
      "\n",
      "-------------------------------------------------------------------------------------------------------------------\n"
     ]
    },
    {
     "name": "stderr",
     "output_type": "stream",
     "text": [
      "[Parallel(n_jobs=-1)]: Done   3 out of   3 | elapsed:  1.8min finished\n",
      "[Parallel(n_jobs=-1)]: Using backend LokyBackend with 12 concurrent workers.\n"
     ]
    },
    {
     "name": "stdout",
     "output_type": "stream",
     "text": [
      "K-Fold #3\n",
      "Mean negativities for all classes: [0.3313346623160951, 0.37171844237044105, 0.33933010579414624]\n",
      "Mean entropies for all classes: [2.2425011219740213e-15, 3.2797614789990294e-15, 3.5941141105243775e-15]\n",
      "              precision    recall  f1-score   support\n",
      "\n",
      "           0       0.50      0.40      0.44         5\n",
      "           1       0.50      0.60      0.55         5\n",
      "           2       1.00      1.00      1.00         5\n",
      "\n",
      "    accuracy                           0.67        15\n",
      "   macro avg       0.67      0.67      0.66        15\n",
      "weighted avg       0.67      0.67      0.66        15\n",
      "\n",
      "-------------------------------------------------------------------------------------------------------------------\n"
     ]
    },
    {
     "name": "stderr",
     "output_type": "stream",
     "text": [
      "[Parallel(n_jobs=-1)]: Done   3 out of   3 | elapsed:  1.8min finished\n",
      "[Parallel(n_jobs=-1)]: Using backend LokyBackend with 12 concurrent workers.\n"
     ]
    },
    {
     "name": "stdout",
     "output_type": "stream",
     "text": [
      "K-Fold #4\n",
      "Mean negativities for all classes: [0.3128345890711366, 0.3774909160580948, 0.32656513216374017]\n",
      "Mean entropies for all classes: [1.246697732224226e-14, 4.2205974382526175e-15, 3.993838288849973e-15]\n",
      "              precision    recall  f1-score   support\n",
      "\n",
      "           0       1.00      0.40      0.57         5\n",
      "           1       0.50      0.60      0.55         5\n",
      "           2       0.71      1.00      0.83         5\n",
      "\n",
      "    accuracy                           0.67        15\n",
      "   macro avg       0.74      0.67      0.65        15\n",
      "weighted avg       0.74      0.67      0.65        15\n",
      "\n",
      "-------------------------------------------------------------------------------------------------------------------\n"
     ]
    },
    {
     "name": "stderr",
     "output_type": "stream",
     "text": [
      "[Parallel(n_jobs=-1)]: Done   3 out of   3 | elapsed:  1.8min finished\n",
      "[Parallel(n_jobs=-1)]: Using backend LokyBackend with 12 concurrent workers.\n"
     ]
    },
    {
     "name": "stdout",
     "output_type": "stream",
     "text": [
      "K-Fold #5\n",
      "Mean negativities for all classes: [0.34002762429961825, 0.3314912592133735, 0.3573116082492984]\n",
      "Mean entropies for all classes: [5.424758119369627e-15, 4.5775190788245125e-15, 4.879866669921129e-15]\n",
      "              precision    recall  f1-score   support\n",
      "\n",
      "           0       0.33      0.20      0.25         5\n",
      "           1       0.67      0.80      0.73         5\n",
      "           2       0.67      0.80      0.73         5\n",
      "\n",
      "    accuracy                           0.60        15\n",
      "   macro avg       0.56      0.60      0.57        15\n",
      "weighted avg       0.56      0.60      0.57        15\n",
      "\n",
      "-------------------------------------------------------------------------------------------------------------------\n"
     ]
    },
    {
     "name": "stderr",
     "output_type": "stream",
     "text": [
      "[Parallel(n_jobs=-1)]: Done   3 out of   3 | elapsed:  1.8min finished\n",
      "[Parallel(n_jobs=-1)]: Using backend LokyBackend with 12 concurrent workers.\n"
     ]
    },
    {
     "name": "stdout",
     "output_type": "stream",
     "text": [
      "K-Fold #6\n",
      "Mean negativities for all classes: [0.35755513660420163, 0.35810132652125237, 0.34280814755541317]\n",
      "Mean entropies for all classes: [-1.0444113939374672e-15, 2.2841628463458274e-15, 3.7148157539679316e-15]\n",
      "              precision    recall  f1-score   support\n",
      "\n",
      "           0       1.00      0.40      0.57         5\n",
      "           1       0.75      0.60      0.67         5\n",
      "           2       0.56      1.00      0.71         5\n",
      "\n",
      "    accuracy                           0.67        15\n",
      "   macro avg       0.77      0.67      0.65        15\n",
      "weighted avg       0.77      0.67      0.65        15\n",
      "\n",
      "-------------------------------------------------------------------------------------------------------------------\n"
     ]
    },
    {
     "name": "stderr",
     "output_type": "stream",
     "text": [
      "[Parallel(n_jobs=-1)]: Done   3 out of   3 | elapsed:  1.8min finished\n",
      "[Parallel(n_jobs=-1)]: Using backend LokyBackend with 12 concurrent workers.\n"
     ]
    },
    {
     "name": "stdout",
     "output_type": "stream",
     "text": [
      "K-Fold #7\n",
      "Mean negativities for all classes: [0.3092839844379696, 0.3506936638430258, 0.34275000843221287]\n",
      "Mean entropies for all classes: [3.5055110769184145e-15, 4.3303342603777195e-15, 3.5430990378616782e-15]\n",
      "              precision    recall  f1-score   support\n",
      "\n",
      "           0       1.00      0.20      0.33         5\n",
      "           1       0.50      0.80      0.62         5\n",
      "           2       0.50      0.60      0.55         5\n",
      "\n",
      "    accuracy                           0.53        15\n",
      "   macro avg       0.67      0.53      0.50        15\n",
      "weighted avg       0.67      0.53      0.50        15\n",
      "\n",
      "-------------------------------------------------------------------------------------------------------------------\n"
     ]
    },
    {
     "name": "stderr",
     "output_type": "stream",
     "text": [
      "[Parallel(n_jobs=-1)]: Done   3 out of   3 | elapsed:  1.8min finished\n",
      "[Parallel(n_jobs=-1)]: Using backend LokyBackend with 12 concurrent workers.\n"
     ]
    },
    {
     "name": "stdout",
     "output_type": "stream",
     "text": [
      "K-Fold #8\n",
      "Mean negativities for all classes: [0.34302011081757305, 0.3783361686239636, 0.3415728765103168]\n",
      "Mean entropies for all classes: [2.7911377120064486e-15, 3.5328152583354693e-15, 3.35116499614137e-15]\n",
      "              precision    recall  f1-score   support\n",
      "\n",
      "           0       1.00      0.40      0.57         5\n",
      "           1       0.33      0.20      0.25         5\n",
      "           2       0.50      1.00      0.67         5\n",
      "\n",
      "    accuracy                           0.53        15\n",
      "   macro avg       0.61      0.53      0.50        15\n",
      "weighted avg       0.61      0.53      0.50        15\n",
      "\n",
      "-------------------------------------------------------------------------------------------------------------------\n"
     ]
    },
    {
     "name": "stderr",
     "output_type": "stream",
     "text": [
      "[Parallel(n_jobs=-1)]: Done   3 out of   3 | elapsed:  1.8min finished\n",
      "c:\\ProgramData\\Anaconda3\\lib\\site-packages\\sklearn\\metrics\\_classification.py:1344: UndefinedMetricWarning: Precision and F-score are ill-defined and being set to 0.0 in labels with no predicted samples. Use `zero_division` parameter to control this behavior.\n",
      "  _warn_prf(average, modifier, msg_start, len(result))\n",
      "c:\\ProgramData\\Anaconda3\\lib\\site-packages\\sklearn\\metrics\\_classification.py:1344: UndefinedMetricWarning: Precision and F-score are ill-defined and being set to 0.0 in labels with no predicted samples. Use `zero_division` parameter to control this behavior.\n",
      "  _warn_prf(average, modifier, msg_start, len(result))\n",
      "c:\\ProgramData\\Anaconda3\\lib\\site-packages\\sklearn\\metrics\\_classification.py:1344: UndefinedMetricWarning: Precision and F-score are ill-defined and being set to 0.0 in labels with no predicted samples. Use `zero_division` parameter to control this behavior.\n",
      "  _warn_prf(average, modifier, msg_start, len(result))\n",
      "[Parallel(n_jobs=-1)]: Using backend LokyBackend with 12 concurrent workers.\n"
     ]
    },
    {
     "name": "stdout",
     "output_type": "stream",
     "text": [
      "K-Fold #9\n",
      "Mean negativities for all classes: [0.20622942315321605, 0.36865789392071474, 0.343957872538228]\n",
      "Mean entropies for all classes: [4.582123000597391e-15, 4.191011327561908e-15, 3.75218449429343e-15]\n",
      "              precision    recall  f1-score   support\n",
      "\n",
      "           0       0.00      0.00      0.00         5\n",
      "           1       0.20      0.20      0.20         5\n",
      "           2       0.50      1.00      0.67         5\n",
      "\n",
      "    accuracy                           0.40        15\n",
      "   macro avg       0.23      0.40      0.29        15\n",
      "weighted avg       0.23      0.40      0.29        15\n",
      "\n",
      "-------------------------------------------------------------------------------------------------------------------\n",
      "AVG: Scores = 0.5866666666666667 F1-Scores = 0.5514796314796315 Negativity = [0.34592469739313997, 0.3548546051256826, 0.34208941201197157] Entropy = [3.988895689016605e-15, 4.221292091557012e-15, 6.041517237803051e-15]\n"
     ]
    },
    {
     "name": "stderr",
     "output_type": "stream",
     "text": [
      "[Parallel(n_jobs=-1)]: Done   3 out of   3 | elapsed:  1.8min finished\n",
      "[Parallel(n_jobs=-1)]: Using backend LokyBackend with 12 concurrent workers.\n"
     ]
    },
    {
     "name": "stdout",
     "output_type": "stream",
     "text": [
      "K-Fold #0\n",
      "Mean negativities for all classes: [0.367893093836288, 0.3687056411752571, 0.332448221001689]\n",
      "Mean entropies for all classes: [5.089600397675047e-15, 4.206833962646025e-15, 4.002229733238247e-15]\n",
      "              precision    recall  f1-score   support\n",
      "\n",
      "           0       1.00      0.60      0.75         5\n",
      "           1       0.60      0.60      0.60         5\n",
      "           2       0.71      1.00      0.83         5\n",
      "\n",
      "    accuracy                           0.73        15\n",
      "   macro avg       0.77      0.73      0.73        15\n",
      "weighted avg       0.77      0.73      0.73        15\n",
      "\n",
      "-------------------------------------------------------------------------------------------------------------------\n"
     ]
    },
    {
     "name": "stderr",
     "output_type": "stream",
     "text": [
      "[Parallel(n_jobs=-1)]: Done   3 out of   3 | elapsed:  1.8min finished\n",
      "[Parallel(n_jobs=-1)]: Using backend LokyBackend with 12 concurrent workers.\n"
     ]
    },
    {
     "name": "stdout",
     "output_type": "stream",
     "text": [
      "K-Fold #1\n",
      "Mean negativities for all classes: [0.3461987613250539, 0.35518694251534233, 0.3409415687762197]\n",
      "Mean entropies for all classes: [4.6326839460063335e-15, 4.558870012493485e-15, 3.7580006881015516e-15]\n",
      "              precision    recall  f1-score   support\n",
      "\n",
      "           0       1.00      0.60      0.75         5\n",
      "           1       0.57      0.80      0.67         5\n",
      "           2       0.80      0.80      0.80         5\n",
      "\n",
      "    accuracy                           0.73        15\n",
      "   macro avg       0.79      0.73      0.74        15\n",
      "weighted avg       0.79      0.73      0.74        15\n",
      "\n",
      "-------------------------------------------------------------------------------------------------------------------\n"
     ]
    },
    {
     "name": "stderr",
     "output_type": "stream",
     "text": [
      "[Parallel(n_jobs=-1)]: Done   3 out of   3 | elapsed:  1.8min finished\n",
      "[Parallel(n_jobs=-1)]: Using backend LokyBackend with 12 concurrent workers.\n"
     ]
    },
    {
     "name": "stdout",
     "output_type": "stream",
     "text": [
      "K-Fold #2\n",
      "Mean negativities for all classes: [0.34438204336572203, 0.36158831128002367, 0.34240776265629014]\n",
      "Mean entropies for all classes: [-1.810447188162331e-15, 3.857869385150914e-15, 4.630564558273944e-15]\n",
      "              precision    recall  f1-score   support\n",
      "\n",
      "           0       0.67      0.40      0.50         5\n",
      "           1       0.57      0.80      0.67         5\n",
      "           2       1.00      1.00      1.00         5\n",
      "\n",
      "    accuracy                           0.73        15\n",
      "   macro avg       0.75      0.73      0.72        15\n",
      "weighted avg       0.75      0.73      0.72        15\n",
      "\n",
      "-------------------------------------------------------------------------------------------------------------------\n"
     ]
    },
    {
     "name": "stderr",
     "output_type": "stream",
     "text": [
      "[Parallel(n_jobs=-1)]: Done   3 out of   3 | elapsed:  1.8min finished\n",
      "[Parallel(n_jobs=-1)]: Using backend LokyBackend with 12 concurrent workers.\n"
     ]
    },
    {
     "name": "stdout",
     "output_type": "stream",
     "text": [
      "K-Fold #3\n",
      "Mean negativities for all classes: [0.3345231806900305, 0.31379889043930137, 0.3330722564136955]\n",
      "Mean entropies for all classes: [-7.819138345486073e-16, 3.858028371820551e-15, 3.4470269247171315e-15]\n",
      "              precision    recall  f1-score   support\n",
      "\n",
      "           0       0.50      0.40      0.44         5\n",
      "           1       0.50      0.60      0.55         5\n",
      "           2       1.00      1.00      1.00         5\n",
      "\n",
      "    accuracy                           0.67        15\n",
      "   macro avg       0.67      0.67      0.66        15\n",
      "weighted avg       0.67      0.67      0.66        15\n",
      "\n",
      "-------------------------------------------------------------------------------------------------------------------\n"
     ]
    },
    {
     "name": "stderr",
     "output_type": "stream",
     "text": [
      "[Parallel(n_jobs=-1)]: Done   3 out of   3 | elapsed:  1.8min finished\n",
      "c:\\ProgramData\\Anaconda3\\lib\\site-packages\\sklearn\\metrics\\_classification.py:1344: UndefinedMetricWarning: Precision and F-score are ill-defined and being set to 0.0 in labels with no predicted samples. Use `zero_division` parameter to control this behavior.\n",
      "  _warn_prf(average, modifier, msg_start, len(result))\n",
      "c:\\ProgramData\\Anaconda3\\lib\\site-packages\\sklearn\\metrics\\_classification.py:1344: UndefinedMetricWarning: Precision and F-score are ill-defined and being set to 0.0 in labels with no predicted samples. Use `zero_division` parameter to control this behavior.\n",
      "  _warn_prf(average, modifier, msg_start, len(result))\n",
      "c:\\ProgramData\\Anaconda3\\lib\\site-packages\\sklearn\\metrics\\_classification.py:1344: UndefinedMetricWarning: Precision and F-score are ill-defined and being set to 0.0 in labels with no predicted samples. Use `zero_division` parameter to control this behavior.\n",
      "  _warn_prf(average, modifier, msg_start, len(result))\n",
      "[Parallel(n_jobs=-1)]: Using backend LokyBackend with 12 concurrent workers.\n"
     ]
    },
    {
     "name": "stdout",
     "output_type": "stream",
     "text": [
      "K-Fold #4\n",
      "Mean negativities for all classes: [0.35564478689878065, 0.3637043428543819, 0.34423392427453897]\n",
      "Mean entropies for all classes: [3.439084839337084e-15, 5.547490589065995e-15, 3.861153023423415e-15]\n",
      "              precision    recall  f1-score   support\n",
      "\n",
      "           0       0.00      0.00      0.00         5\n",
      "           1       0.38      0.60      0.46         5\n",
      "           2       0.71      1.00      0.83         5\n",
      "\n",
      "    accuracy                           0.53        15\n",
      "   macro avg       0.36      0.53      0.43        15\n",
      "weighted avg       0.36      0.53      0.43        15\n",
      "\n",
      "-------------------------------------------------------------------------------------------------------------------\n"
     ]
    },
    {
     "name": "stderr",
     "output_type": "stream",
     "text": [
      "[Parallel(n_jobs=-1)]: Done   3 out of   3 | elapsed:  1.8min finished\n",
      "[Parallel(n_jobs=-1)]: Using backend LokyBackend with 12 concurrent workers.\n"
     ]
    },
    {
     "name": "stdout",
     "output_type": "stream",
     "text": [
      "K-Fold #5\n",
      "Mean negativities for all classes: [0.3641901880596084, 0.33990874527881076, 0.35840287591157816]\n",
      "Mean entropies for all classes: [3.62848576630224e-15, 4.519370198416175e-15, 3.701648887531971e-15]\n",
      "              precision    recall  f1-score   support\n",
      "\n",
      "           0       0.33      0.20      0.25         5\n",
      "           1       0.75      0.60      0.67         5\n",
      "           2       0.38      0.60      0.46         5\n",
      "\n",
      "    accuracy                           0.47        15\n",
      "   macro avg       0.49      0.47      0.46        15\n",
      "weighted avg       0.49      0.47      0.46        15\n",
      "\n",
      "-------------------------------------------------------------------------------------------------------------------\n"
     ]
    },
    {
     "name": "stderr",
     "output_type": "stream",
     "text": [
      "[Parallel(n_jobs=-1)]: Done   3 out of   3 | elapsed:  1.8min finished\n",
      "[Parallel(n_jobs=-1)]: Using backend LokyBackend with 12 concurrent workers.\n"
     ]
    },
    {
     "name": "stdout",
     "output_type": "stream",
     "text": [
      "K-Fold #6\n",
      "Mean negativities for all classes: [0.361549949327763, 0.38541313691280793, 0.30816979877705464]\n",
      "Mean entropies for all classes: [3.110626030096443e-15, 3.284416552102238e-15, 3.799432467762322e-15]\n",
      "              precision    recall  f1-score   support\n",
      "\n",
      "           0       0.50      0.20      0.29         5\n",
      "           1       0.00      0.00      0.00         5\n",
      "           2       0.40      0.80      0.53         5\n",
      "\n",
      "    accuracy                           0.33        15\n",
      "   macro avg       0.30      0.33      0.27        15\n",
      "weighted avg       0.30      0.33      0.27        15\n",
      "\n",
      "-------------------------------------------------------------------------------------------------------------------\n"
     ]
    },
    {
     "name": "stderr",
     "output_type": "stream",
     "text": [
      "[Parallel(n_jobs=-1)]: Done   3 out of   3 | elapsed:  1.8min finished\n",
      "[Parallel(n_jobs=-1)]: Using backend LokyBackend with 12 concurrent workers.\n"
     ]
    },
    {
     "name": "stdout",
     "output_type": "stream",
     "text": [
      "K-Fold #7\n",
      "Mean negativities for all classes: [0.3717581454854564, 0.3658427171745451, 0.3431749933185978]\n",
      "Mean entropies for all classes: [1.8556818830329078e-15, 4.288036734796694e-15, 4.043824013155506e-15]\n",
      "              precision    recall  f1-score   support\n",
      "\n",
      "           0       0.50      0.40      0.44         5\n",
      "           1       0.25      0.20      0.22         5\n",
      "           2       0.71      1.00      0.83         5\n",
      "\n",
      "    accuracy                           0.53        15\n",
      "   macro avg       0.49      0.53      0.50        15\n",
      "weighted avg       0.49      0.53      0.50        15\n",
      "\n",
      "-------------------------------------------------------------------------------------------------------------------\n"
     ]
    },
    {
     "name": "stderr",
     "output_type": "stream",
     "text": [
      "[Parallel(n_jobs=-1)]: Done   3 out of   3 | elapsed:  1.8min finished\n",
      "[Parallel(n_jobs=-1)]: Using backend LokyBackend with 12 concurrent workers.\n"
     ]
    },
    {
     "name": "stdout",
     "output_type": "stream",
     "text": [
      "K-Fold #8\n",
      "Mean negativities for all classes: [0.35579570467570826, 0.37297302820854633, 0.32244075247719245]\n",
      "Mean entropies for all classes: [-2.358747154610371e-15, 3.616109375260035e-15, 3.695268799079041e-15]\n",
      "              precision    recall  f1-score   support\n",
      "\n",
      "           0       1.00      0.20      0.33         5\n",
      "           1       0.50      0.40      0.44         5\n",
      "           2       0.50      1.00      0.67         5\n",
      "\n",
      "    accuracy                           0.53        15\n",
      "   macro avg       0.67      0.53      0.48        15\n",
      "weighted avg       0.67      0.53      0.48        15\n",
      "\n",
      "-------------------------------------------------------------------------------------------------------------------\n"
     ]
    },
    {
     "name": "stderr",
     "output_type": "stream",
     "text": [
      "[Parallel(n_jobs=-1)]: Done   3 out of   3 | elapsed:  1.8min finished\n",
      "c:\\ProgramData\\Anaconda3\\lib\\site-packages\\sklearn\\metrics\\_classification.py:1344: UndefinedMetricWarning: Precision and F-score are ill-defined and being set to 0.0 in labels with no predicted samples. Use `zero_division` parameter to control this behavior.\n",
      "  _warn_prf(average, modifier, msg_start, len(result))\n",
      "c:\\ProgramData\\Anaconda3\\lib\\site-packages\\sklearn\\metrics\\_classification.py:1344: UndefinedMetricWarning: Precision and F-score are ill-defined and being set to 0.0 in labels with no predicted samples. Use `zero_division` parameter to control this behavior.\n",
      "  _warn_prf(average, modifier, msg_start, len(result))\n",
      "c:\\ProgramData\\Anaconda3\\lib\\site-packages\\sklearn\\metrics\\_classification.py:1344: UndefinedMetricWarning: Precision and F-score are ill-defined and being set to 0.0 in labels with no predicted samples. Use `zero_division` parameter to control this behavior.\n",
      "  _warn_prf(average, modifier, msg_start, len(result))\n",
      "[Parallel(n_jobs=-1)]: Using backend LokyBackend with 12 concurrent workers.\n"
     ]
    },
    {
     "name": "stdout",
     "output_type": "stream",
     "text": [
      "K-Fold #9\n",
      "Mean negativities for all classes: [0.35057965287413606, 0.36951548199372175, 0.3219904960928683]\n",
      "Mean entropies for all classes: [3.897693499250397e-15, 5.338786634183313e-15, 3.636835092371177e-15]\n",
      "              precision    recall  f1-score   support\n",
      "\n",
      "           0       0.00      0.00      0.00         5\n",
      "           1       0.00      0.00      0.00         5\n",
      "           2       0.40      0.80      0.53         5\n",
      "\n",
      "    accuracy                           0.27        15\n",
      "   macro avg       0.13      0.27      0.18        15\n",
      "weighted avg       0.13      0.27      0.18        15\n",
      "\n",
      "-------------------------------------------------------------------------------------------------------------------\n",
      "AVG: Scores = 0.5533333333333332 F1-Scores = 0.5175489325489326 Negativity = [0.3563489853377447, 0.34744242420553867, 0.3494593724340119] Entropy = [4.4328880311864394e-15, 4.31651821553379e-15, 2.225995585087509e-15]\n"
     ]
    },
    {
     "name": "stderr",
     "output_type": "stream",
     "text": [
      "[Parallel(n_jobs=-1)]: Done   3 out of   3 | elapsed:  1.8min finished\n",
      "[Parallel(n_jobs=-1)]: Using backend LokyBackend with 12 concurrent workers.\n"
     ]
    },
    {
     "name": "stdout",
     "output_type": "stream",
     "text": [
      "K-Fold #0\n",
      "Mean negativities for all classes: [0.316187073912382, 0.36390792273434786, 0.3346880413258788]\n",
      "Mean entropies for all classes: [2.562877816213973e-15, 3.984707424028317e-15, 3.986679209196223e-15]\n",
      "              precision    recall  f1-score   support\n",
      "\n",
      "           0       1.00      0.20      0.33         5\n",
      "           1       0.40      0.40      0.40         5\n",
      "           2       0.56      1.00      0.71         5\n",
      "\n",
      "    accuracy                           0.53        15\n",
      "   macro avg       0.65      0.53      0.48        15\n",
      "weighted avg       0.65      0.53      0.48        15\n",
      "\n",
      "-------------------------------------------------------------------------------------------------------------------\n"
     ]
    },
    {
     "name": "stderr",
     "output_type": "stream",
     "text": [
      "[Parallel(n_jobs=-1)]: Done   3 out of   3 | elapsed:  1.8min finished\n",
      "c:\\ProgramData\\Anaconda3\\lib\\site-packages\\sklearn\\metrics\\_classification.py:1344: UndefinedMetricWarning: Precision and F-score are ill-defined and being set to 0.0 in labels with no predicted samples. Use `zero_division` parameter to control this behavior.\n",
      "  _warn_prf(average, modifier, msg_start, len(result))\n",
      "c:\\ProgramData\\Anaconda3\\lib\\site-packages\\sklearn\\metrics\\_classification.py:1344: UndefinedMetricWarning: Precision and F-score are ill-defined and being set to 0.0 in labels with no predicted samples. Use `zero_division` parameter to control this behavior.\n",
      "  _warn_prf(average, modifier, msg_start, len(result))\n",
      "c:\\ProgramData\\Anaconda3\\lib\\site-packages\\sklearn\\metrics\\_classification.py:1344: UndefinedMetricWarning: Precision and F-score are ill-defined and being set to 0.0 in labels with no predicted samples. Use `zero_division` parameter to control this behavior.\n",
      "  _warn_prf(average, modifier, msg_start, len(result))\n",
      "[Parallel(n_jobs=-1)]: Using backend LokyBackend with 12 concurrent workers.\n"
     ]
    },
    {
     "name": "stdout",
     "output_type": "stream",
     "text": [
      "K-Fold #1\n",
      "Mean negativities for all classes: [0.36814689513235155, 0.3572377120088838, 0.33736292246972616]\n",
      "Mean entropies for all classes: [4.239237874503929e-15, 4.3252324455713465e-15, 3.3065660511289265e-15]\n",
      "              precision    recall  f1-score   support\n",
      "\n",
      "           0       0.00      0.00      0.00         5\n",
      "           1       0.44      0.80      0.57         5\n",
      "           2       0.83      1.00      0.91         5\n",
      "\n",
      "    accuracy                           0.60        15\n",
      "   macro avg       0.43      0.60      0.49        15\n",
      "weighted avg       0.43      0.60      0.49        15\n",
      "\n",
      "-------------------------------------------------------------------------------------------------------------------\n"
     ]
    },
    {
     "name": "stderr",
     "output_type": "stream",
     "text": [
      "[Parallel(n_jobs=-1)]: Done   3 out of   3 | elapsed:  1.8min finished\n",
      "[Parallel(n_jobs=-1)]: Using backend LokyBackend with 12 concurrent workers.\n"
     ]
    },
    {
     "name": "stdout",
     "output_type": "stream",
     "text": [
      "K-Fold #2\n",
      "Mean negativities for all classes: [0.3278350455079037, 0.344127875231071, 0.34409602116454985]\n",
      "Mean entropies for all classes: [2.8622773373994515e-15, 3.661428019452056e-15, 3.287201421265555e-15]\n",
      "              precision    recall  f1-score   support\n",
      "\n",
      "           0       0.50      0.20      0.29         5\n",
      "           1       0.60      0.60      0.60         5\n",
      "           2       0.50      0.80      0.62         5\n",
      "\n",
      "    accuracy                           0.53        15\n",
      "   macro avg       0.53      0.53      0.50        15\n",
      "weighted avg       0.53      0.53      0.50        15\n",
      "\n",
      "-------------------------------------------------------------------------------------------------------------------\n"
     ]
    },
    {
     "name": "stderr",
     "output_type": "stream",
     "text": [
      "[Parallel(n_jobs=-1)]: Done   3 out of   3 | elapsed:  1.8min finished\n",
      "[Parallel(n_jobs=-1)]: Using backend LokyBackend with 12 concurrent workers.\n"
     ]
    },
    {
     "name": "stdout",
     "output_type": "stream",
     "text": [
      "K-Fold #3\n",
      "Mean negativities for all classes: [0.3735868832912967, 0.3674504861277751, 0.3302646491319694]\n",
      "Mean entropies for all classes: [3.4948654441763627e-16, 4.0196281239177875e-15, 3.517041139848796e-15]\n",
      "              precision    recall  f1-score   support\n",
      "\n",
      "           0       1.00      0.60      0.75         5\n",
      "           1       0.50      0.40      0.44         5\n",
      "           2       0.62      1.00      0.77         5\n",
      "\n",
      "    accuracy                           0.67        15\n",
      "   macro avg       0.71      0.67      0.65        15\n",
      "weighted avg       0.71      0.67      0.65        15\n",
      "\n",
      "-------------------------------------------------------------------------------------------------------------------\n"
     ]
    },
    {
     "name": "stderr",
     "output_type": "stream",
     "text": [
      "[Parallel(n_jobs=-1)]: Done   3 out of   3 | elapsed:  1.8min finished\n",
      "[Parallel(n_jobs=-1)]: Using backend LokyBackend with 12 concurrent workers.\n"
     ]
    },
    {
     "name": "stdout",
     "output_type": "stream",
     "text": [
      "K-Fold #4\n",
      "Mean negativities for all classes: [0.36249721148766567, 0.36578122594047596, 0.3580144684158481]\n",
      "Mean entropies for all classes: [8.264069120145327e-15, 4.562450703432211e-15, 3.729850517234177e-15]\n",
      "              precision    recall  f1-score   support\n",
      "\n",
      "           0       0.00      0.00      0.00         5\n",
      "           1       0.44      0.80      0.57         5\n",
      "           2       1.00      1.00      1.00         5\n",
      "\n",
      "    accuracy                           0.60        15\n",
      "   macro avg       0.48      0.60      0.52        15\n",
      "weighted avg       0.48      0.60      0.52        15\n",
      "\n",
      "-------------------------------------------------------------------------------------------------------------------\n"
     ]
    },
    {
     "name": "stderr",
     "output_type": "stream",
     "text": [
      "[Parallel(n_jobs=-1)]: Done   3 out of   3 | elapsed:  1.8min finished\n",
      "[Parallel(n_jobs=-1)]: Using backend LokyBackend with 12 concurrent workers.\n"
     ]
    },
    {
     "name": "stdout",
     "output_type": "stream",
     "text": [
      "K-Fold #5\n",
      "Mean negativities for all classes: [0.36733138514818064, 0.37016937398075606, 0.3412124718160784]\n",
      "Mean entropies for all classes: [1.0011113832745953e-14, 3.913725994410239e-15, 3.56593465120376e-15]\n",
      "              precision    recall  f1-score   support\n",
      "\n",
      "           0       0.67      0.40      0.50         5\n",
      "           1       0.20      0.20      0.20         5\n",
      "           2       0.57      0.80      0.67         5\n",
      "\n",
      "    accuracy                           0.47        15\n",
      "   macro avg       0.48      0.47      0.46        15\n",
      "weighted avg       0.48      0.47      0.46        15\n",
      "\n",
      "-------------------------------------------------------------------------------------------------------------------\n"
     ]
    },
    {
     "name": "stderr",
     "output_type": "stream",
     "text": [
      "[Parallel(n_jobs=-1)]: Done   3 out of   3 | elapsed:  1.8min finished\n",
      "[Parallel(n_jobs=-1)]: Using backend LokyBackend with 12 concurrent workers.\n"
     ]
    },
    {
     "name": "stdout",
     "output_type": "stream",
     "text": [
      "K-Fold #6\n",
      "Mean negativities for all classes: [0.3550144351605773, 0.35975528742152374, 0.3261095073086109]\n",
      "Mean entropies for all classes: [2.612549297065469e-15, 4.4806183439742885e-15, 3.823284824294253e-15]\n",
      "              precision    recall  f1-score   support\n",
      "\n",
      "           0       1.00      0.20      0.33         5\n",
      "           1       0.67      0.80      0.73         5\n",
      "           2       0.62      1.00      0.77         5\n",
      "\n",
      "    accuracy                           0.67        15\n",
      "   macro avg       0.76      0.67      0.61        15\n",
      "weighted avg       0.76      0.67      0.61        15\n",
      "\n",
      "-------------------------------------------------------------------------------------------------------------------\n"
     ]
    },
    {
     "name": "stderr",
     "output_type": "stream",
     "text": [
      "[Parallel(n_jobs=-1)]: Done   3 out of   3 | elapsed:  1.8min finished\n",
      "[Parallel(n_jobs=-1)]: Using backend LokyBackend with 12 concurrent workers.\n"
     ]
    },
    {
     "name": "stdout",
     "output_type": "stream",
     "text": [
      "K-Fold #7\n",
      "Mean negativities for all classes: [0.3156142899785011, 0.38904492943445046, 0.32786445434804457]\n",
      "Mean entropies for all classes: [3.680310567242015e-15, 3.832645503277507e-15, 3.7708426464892336e-15]\n",
      "              precision    recall  f1-score   support\n",
      "\n",
      "           0       1.00      0.20      0.33         5\n",
      "           1       0.40      0.40      0.40         5\n",
      "           2       0.44      0.80      0.57         5\n",
      "\n",
      "    accuracy                           0.47        15\n",
      "   macro avg       0.61      0.47      0.43        15\n",
      "weighted avg       0.61      0.47      0.43        15\n",
      "\n",
      "-------------------------------------------------------------------------------------------------------------------\n"
     ]
    },
    {
     "name": "stderr",
     "output_type": "stream",
     "text": [
      "[Parallel(n_jobs=-1)]: Done   3 out of   3 | elapsed:  1.8min finished\n",
      "[Parallel(n_jobs=-1)]: Using backend LokyBackend with 12 concurrent workers.\n"
     ]
    },
    {
     "name": "stdout",
     "output_type": "stream",
     "text": [
      "K-Fold #8\n",
      "Mean negativities for all classes: [0.3561277793161555, 0.3473732233163222, 0.33315591486746376]\n",
      "Mean entropies for all classes: [5.3083511258186524e-15, 3.7208370741795985e-15, 4.074433836702858e-15]\n",
      "              precision    recall  f1-score   support\n",
      "\n",
      "           0       1.00      0.20      0.33         5\n",
      "           1       0.56      1.00      0.71         5\n",
      "           2       1.00      1.00      1.00         5\n",
      "\n",
      "    accuracy                           0.73        15\n",
      "   macro avg       0.85      0.73      0.68        15\n",
      "weighted avg       0.85      0.73      0.68        15\n",
      "\n",
      "-------------------------------------------------------------------------------------------------------------------\n"
     ]
    },
    {
     "name": "stderr",
     "output_type": "stream",
     "text": [
      "[Parallel(n_jobs=-1)]: Done   3 out of   3 | elapsed:  1.8min finished\n",
      "[Parallel(n_jobs=-1)]: Using backend LokyBackend with 12 concurrent workers.\n"
     ]
    },
    {
     "name": "stdout",
     "output_type": "stream",
     "text": [
      "K-Fold #9\n",
      "Mean negativities for all classes: [0.3401128996170662, 0.36713933873356397, 0.3377685755702251]\n",
      "Mean entropies for all classes: [4.3419674556393965e-15, 3.900640784951027e-15, 4.186353488730798e-15]\n",
      "              precision    recall  f1-score   support\n",
      "\n",
      "           0       0.00      0.00      0.00         5\n",
      "           1       0.38      0.60      0.46         5\n",
      "           2       0.80      0.80      0.80         5\n",
      "\n",
      "    accuracy                           0.47        15\n",
      "   macro avg       0.39      0.47      0.42        15\n",
      "weighted avg       0.39      0.47      0.42        15\n",
      "\n",
      "-------------------------------------------------------------------------------------------------------------------\n",
      "AVG: Scores = 0.5733333333333334 F1-Scores = 0.5258254708254709 Negativity = [0.3382610126575362, 0.3542491765369871, 0.33868631396784155] Entropy = [3.5114214831461705e-15, 3.9570121237347345e-15, 3.270302259372354e-15]\n"
     ]
    },
    {
     "name": "stderr",
     "output_type": "stream",
     "text": [
      "[Parallel(n_jobs=-1)]: Done   3 out of   3 | elapsed:  1.8min finished\n",
      "[Parallel(n_jobs=-1)]: Using backend LokyBackend with 12 concurrent workers.\n"
     ]
    },
    {
     "name": "stdout",
     "output_type": "stream",
     "text": [
      "K-Fold #0\n",
      "Mean negativities for all classes: [0.36160345536574373, 0.34112627349453495, 0.3695808508417686]\n",
      "Mean entropies for all classes: [1.6620362341551368e-15, 3.974925715331856e-15, 3.4566672572687075e-15]\n",
      "              precision    recall  f1-score   support\n",
      "\n",
      "           0       0.50      0.20      0.29         5\n",
      "           1       0.57      0.80      0.67         5\n",
      "           2       0.67      0.80      0.73         5\n",
      "\n",
      "    accuracy                           0.60        15\n",
      "   macro avg       0.58      0.60      0.56        15\n",
      "weighted avg       0.58      0.60      0.56        15\n",
      "\n",
      "-------------------------------------------------------------------------------------------------------------------\n"
     ]
    },
    {
     "name": "stderr",
     "output_type": "stream",
     "text": [
      "[Parallel(n_jobs=-1)]: Done   3 out of   3 | elapsed:  1.8min finished\n",
      "[Parallel(n_jobs=-1)]: Using backend LokyBackend with 12 concurrent workers.\n"
     ]
    },
    {
     "name": "stdout",
     "output_type": "stream",
     "text": [
      "K-Fold #1\n",
      "Mean negativities for all classes: [0.35673511124442414, 0.3713298557351011, 0.3575618189724137]\n",
      "Mean entropies for all classes: [7.930727654005383e-15, 4.3590298207935745e-15, 4.377652152596051e-15]\n",
      "              precision    recall  f1-score   support\n",
      "\n",
      "           0       0.40      0.40      0.40         5\n",
      "           1       0.40      0.40      0.40         5\n",
      "           2       0.80      0.80      0.80         5\n",
      "\n",
      "    accuracy                           0.53        15\n",
      "   macro avg       0.53      0.53      0.53        15\n",
      "weighted avg       0.53      0.53      0.53        15\n",
      "\n",
      "-------------------------------------------------------------------------------------------------------------------\n"
     ]
    },
    {
     "name": "stderr",
     "output_type": "stream",
     "text": [
      "[Parallel(n_jobs=-1)]: Done   3 out of   3 | elapsed:  1.8min finished\n",
      "[Parallel(n_jobs=-1)]: Using backend LokyBackend with 12 concurrent workers.\n"
     ]
    },
    {
     "name": "stdout",
     "output_type": "stream",
     "text": [
      "K-Fold #2\n",
      "Mean negativities for all classes: [0.33962574711671667, 0.36539082028270425, 0.3313092610719998]\n",
      "Mean entropies for all classes: [4.63064809393777e-15, 3.026719428643678e-15, 3.2070785095554914e-15]\n",
      "              precision    recall  f1-score   support\n",
      "\n",
      "           0       1.00      0.20      0.33         5\n",
      "           1       0.43      0.60      0.50         5\n",
      "           2       0.71      1.00      0.83         5\n",
      "\n",
      "    accuracy                           0.60        15\n",
      "   macro avg       0.71      0.60      0.56        15\n",
      "weighted avg       0.71      0.60      0.56        15\n",
      "\n",
      "-------------------------------------------------------------------------------------------------------------------\n"
     ]
    },
    {
     "name": "stderr",
     "output_type": "stream",
     "text": [
      "[Parallel(n_jobs=-1)]: Done   3 out of   3 | elapsed:  1.8min finished\n",
      "[Parallel(n_jobs=-1)]: Using backend LokyBackend with 12 concurrent workers.\n"
     ]
    },
    {
     "name": "stdout",
     "output_type": "stream",
     "text": [
      "K-Fold #3\n",
      "Mean negativities for all classes: [0.3421551333362799, 0.34715820072012876, 0.33828414629151965]\n",
      "Mean entropies for all classes: [3.881002477620484e-15, 3.1690652350428104e-15, 3.991084582646077e-15]\n",
      "              precision    recall  f1-score   support\n",
      "\n",
      "           0       1.00      0.20      0.33         5\n",
      "           1       0.33      0.40      0.36         5\n",
      "           2       0.50      0.80      0.62         5\n",
      "\n",
      "    accuracy                           0.47        15\n",
      "   macro avg       0.61      0.47      0.44        15\n",
      "weighted avg       0.61      0.47      0.44        15\n",
      "\n",
      "-------------------------------------------------------------------------------------------------------------------\n"
     ]
    },
    {
     "name": "stderr",
     "output_type": "stream",
     "text": [
      "[Parallel(n_jobs=-1)]: Done   3 out of   3 | elapsed:  1.8min finished\n",
      "[Parallel(n_jobs=-1)]: Using backend LokyBackend with 12 concurrent workers.\n"
     ]
    },
    {
     "name": "stdout",
     "output_type": "stream",
     "text": [
      "K-Fold #4\n",
      "Mean negativities for all classes: [0.3349900599903793, 0.35411131939607154, 0.3331857217717712]\n",
      "Mean entropies for all classes: [3.7452870110501785e-15, 4.008416134681551e-15, 4.30181327127248e-15]\n",
      "              precision    recall  f1-score   support\n",
      "\n",
      "           0       1.00      0.40      0.57         5\n",
      "           1       0.50      0.60      0.55         5\n",
      "           2       0.71      1.00      0.83         5\n",
      "\n",
      "    accuracy                           0.67        15\n",
      "   macro avg       0.74      0.67      0.65        15\n",
      "weighted avg       0.74      0.67      0.65        15\n",
      "\n",
      "-------------------------------------------------------------------------------------------------------------------\n"
     ]
    },
    {
     "name": "stderr",
     "output_type": "stream",
     "text": [
      "[Parallel(n_jobs=-1)]: Done   3 out of   3 | elapsed:  1.8min finished\n",
      "c:\\ProgramData\\Anaconda3\\lib\\site-packages\\sklearn\\metrics\\_classification.py:1344: UndefinedMetricWarning: Precision and F-score are ill-defined and being set to 0.0 in labels with no predicted samples. Use `zero_division` parameter to control this behavior.\n",
      "  _warn_prf(average, modifier, msg_start, len(result))\n",
      "c:\\ProgramData\\Anaconda3\\lib\\site-packages\\sklearn\\metrics\\_classification.py:1344: UndefinedMetricWarning: Precision and F-score are ill-defined and being set to 0.0 in labels with no predicted samples. Use `zero_division` parameter to control this behavior.\n",
      "  _warn_prf(average, modifier, msg_start, len(result))\n",
      "c:\\ProgramData\\Anaconda3\\lib\\site-packages\\sklearn\\metrics\\_classification.py:1344: UndefinedMetricWarning: Precision and F-score are ill-defined and being set to 0.0 in labels with no predicted samples. Use `zero_division` parameter to control this behavior.\n",
      "  _warn_prf(average, modifier, msg_start, len(result))\n",
      "[Parallel(n_jobs=-1)]: Using backend LokyBackend with 12 concurrent workers.\n"
     ]
    },
    {
     "name": "stdout",
     "output_type": "stream",
     "text": [
      "K-Fold #5\n",
      "Mean negativities for all classes: [0.2046881917151667, 0.36441485854177463, 0.35716218313137194]\n",
      "Mean entropies for all classes: [3.803603802091296e-15, 3.781642589656949e-15, 3.739618634887691e-15]\n",
      "              precision    recall  f1-score   support\n",
      "\n",
      "           0       0.00      0.00      0.00         5\n",
      "           1       0.60      0.60      0.60         5\n",
      "           2       0.50      1.00      0.67         5\n",
      "\n",
      "    accuracy                           0.53        15\n",
      "   macro avg       0.37      0.53      0.42        15\n",
      "weighted avg       0.37      0.53      0.42        15\n",
      "\n",
      "-------------------------------------------------------------------------------------------------------------------\n"
     ]
    },
    {
     "name": "stderr",
     "output_type": "stream",
     "text": [
      "[Parallel(n_jobs=-1)]: Done   3 out of   3 | elapsed:  1.8min finished\n",
      "c:\\ProgramData\\Anaconda3\\lib\\site-packages\\sklearn\\metrics\\_classification.py:1344: UndefinedMetricWarning: Precision and F-score are ill-defined and being set to 0.0 in labels with no predicted samples. Use `zero_division` parameter to control this behavior.\n",
      "  _warn_prf(average, modifier, msg_start, len(result))\n",
      "c:\\ProgramData\\Anaconda3\\lib\\site-packages\\sklearn\\metrics\\_classification.py:1344: UndefinedMetricWarning: Precision and F-score are ill-defined and being set to 0.0 in labels with no predicted samples. Use `zero_division` parameter to control this behavior.\n",
      "  _warn_prf(average, modifier, msg_start, len(result))\n",
      "c:\\ProgramData\\Anaconda3\\lib\\site-packages\\sklearn\\metrics\\_classification.py:1344: UndefinedMetricWarning: Precision and F-score are ill-defined and being set to 0.0 in labels with no predicted samples. Use `zero_division` parameter to control this behavior.\n",
      "  _warn_prf(average, modifier, msg_start, len(result))\n",
      "[Parallel(n_jobs=-1)]: Using backend LokyBackend with 12 concurrent workers.\n"
     ]
    },
    {
     "name": "stdout",
     "output_type": "stream",
     "text": [
      "K-Fold #6\n",
      "Mean negativities for all classes: [0.34377790869249064, 0.356315409466562, 0.3401011237080977]\n",
      "Mean entropies for all classes: [3.595857448798275e-15, 3.2798659370689508e-15, 4.075436298111871e-15]\n",
      "              precision    recall  f1-score   support\n",
      "\n",
      "           0       0.00      0.00      0.00         5\n",
      "           1       0.50      1.00      0.67         5\n",
      "           2       1.00      1.00      1.00         5\n",
      "\n",
      "    accuracy                           0.67        15\n",
      "   macro avg       0.50      0.67      0.56        15\n",
      "weighted avg       0.50      0.67      0.56        15\n",
      "\n",
      "-------------------------------------------------------------------------------------------------------------------\n"
     ]
    },
    {
     "name": "stderr",
     "output_type": "stream",
     "text": [
      "[Parallel(n_jobs=-1)]: Done   3 out of   3 | elapsed:  1.8min finished\n",
      "[Parallel(n_jobs=-1)]: Using backend LokyBackend with 12 concurrent workers.\n"
     ]
    },
    {
     "name": "stdout",
     "output_type": "stream",
     "text": [
      "K-Fold #7\n",
      "Mean negativities for all classes: [0.3438166366657705, 0.3603224784844165, 0.34856479286044983]\n",
      "Mean entropies for all classes: [-4.3163684008267423e-16, 3.632513493700184e-15, 3.238365746698776e-15]\n",
      "              precision    recall  f1-score   support\n",
      "\n",
      "           0       0.50      0.60      0.55         5\n",
      "           1       0.33      0.40      0.36         5\n",
      "           2       1.00      0.60      0.75         5\n",
      "\n",
      "    accuracy                           0.53        15\n",
      "   macro avg       0.61      0.53      0.55        15\n",
      "weighted avg       0.61      0.53      0.55        15\n",
      "\n",
      "-------------------------------------------------------------------------------------------------------------------\n"
     ]
    },
    {
     "name": "stderr",
     "output_type": "stream",
     "text": [
      "[Parallel(n_jobs=-1)]: Done   3 out of   3 | elapsed:  1.8min finished\n",
      "[Parallel(n_jobs=-1)]: Using backend LokyBackend with 12 concurrent workers.\n"
     ]
    },
    {
     "name": "stdout",
     "output_type": "stream",
     "text": [
      "K-Fold #8\n",
      "Mean negativities for all classes: [0.36091798872605996, 0.377936615584909, 0.3313805934117787]\n",
      "Mean entropies for all classes: [2.660361023814267e-15, 3.341837246125415e-15, 3.7947202213397124e-15]\n",
      "              precision    recall  f1-score   support\n",
      "\n",
      "           0       0.50      0.20      0.29         5\n",
      "           1       0.33      0.40      0.36         5\n",
      "           2       0.71      1.00      0.83         5\n",
      "\n",
      "    accuracy                           0.53        15\n",
      "   macro avg       0.52      0.53      0.49        15\n",
      "weighted avg       0.52      0.53      0.49        15\n",
      "\n",
      "-------------------------------------------------------------------------------------------------------------------\n"
     ]
    },
    {
     "name": "stderr",
     "output_type": "stream",
     "text": [
      "[Parallel(n_jobs=-1)]: Done   3 out of   3 | elapsed:  1.8min finished\n",
      "[Parallel(n_jobs=-1)]: Using backend LokyBackend with 12 concurrent workers.\n"
     ]
    },
    {
     "name": "stdout",
     "output_type": "stream",
     "text": [
      "K-Fold #9\n",
      "Mean negativities for all classes: [0.347362633151358, 0.37288229395499145, 0.35602928637828873]\n",
      "Mean entropies for all classes: [4.2211523134140164e-15, 3.4882319950951204e-15, 4.214618040121193e-15]\n",
      "              precision    recall  f1-score   support\n",
      "\n",
      "           0       0.00      0.00      0.00         5\n",
      "           1       0.25      0.40      0.31         5\n",
      "           2       0.67      0.80      0.73         5\n",
      "\n",
      "    accuracy                           0.40        15\n",
      "   macro avg       0.31      0.40      0.34        15\n",
      "weighted avg       0.31      0.40      0.34        15\n",
      "\n",
      "-------------------------------------------------------------------------------------------------------------------\n",
      "AVG: Scores = 0.5533333333333333 F1-Scores = 0.5106321456321457 Negativity = [0.35743685990068247, 0.36187559531731295, 0.3454419428238069] Entropy = [3.0312097355852333e-15, 5.5558032091316695e-15, 3.621482010712313e-15]\n"
     ]
    },
    {
     "name": "stderr",
     "output_type": "stream",
     "text": [
      "[Parallel(n_jobs=-1)]: Done   3 out of   3 | elapsed:  1.8min finished\n",
      "[Parallel(n_jobs=-1)]: Using backend LokyBackend with 12 concurrent workers.\n"
     ]
    },
    {
     "name": "stdout",
     "output_type": "stream",
     "text": [
      "K-Fold #0\n",
      "Mean negativities for all classes: [0.36561987064176193, 0.3648217075801938, 0.3390973786554365]\n",
      "Mean entropies for all classes: [3.5158866568313424e-15, 3.910189853300048e-15, 3.889451681866735e-15]\n",
      "              precision    recall  f1-score   support\n",
      "\n",
      "           0       1.00      0.40      0.57         5\n",
      "           1       0.50      0.40      0.44         5\n",
      "           2       0.56      1.00      0.71         5\n",
      "\n",
      "    accuracy                           0.60        15\n",
      "   macro avg       0.69      0.60      0.58        15\n",
      "weighted avg       0.69      0.60      0.58        15\n",
      "\n",
      "-------------------------------------------------------------------------------------------------------------------\n"
     ]
    },
    {
     "name": "stderr",
     "output_type": "stream",
     "text": [
      "[Parallel(n_jobs=-1)]: Done   3 out of   3 | elapsed:  1.8min finished\n",
      "[Parallel(n_jobs=-1)]: Using backend LokyBackend with 12 concurrent workers.\n"
     ]
    },
    {
     "name": "stdout",
     "output_type": "stream",
     "text": [
      "K-Fold #1\n",
      "Mean negativities for all classes: [0.35355581205957204, 0.3730437526769702, 0.3462626736700154]\n",
      "Mean entropies for all classes: [6.994763753219066e-15, 4.155821342615672e-15, 4.328025622684158e-15]\n",
      "              precision    recall  f1-score   support\n",
      "\n",
      "           0       1.00      0.40      0.57         5\n",
      "           1       0.20      0.20      0.20         5\n",
      "           2       0.50      0.80      0.62         5\n",
      "\n",
      "    accuracy                           0.47        15\n",
      "   macro avg       0.57      0.47      0.46        15\n",
      "weighted avg       0.57      0.47      0.46        15\n",
      "\n",
      "-------------------------------------------------------------------------------------------------------------------\n"
     ]
    },
    {
     "name": "stderr",
     "output_type": "stream",
     "text": [
      "[Parallel(n_jobs=-1)]: Done   3 out of   3 | elapsed:  1.8min finished\n",
      "[Parallel(n_jobs=-1)]: Using backend LokyBackend with 12 concurrent workers.\n"
     ]
    },
    {
     "name": "stdout",
     "output_type": "stream",
     "text": [
      "K-Fold #2\n",
      "Mean negativities for all classes: [0.34309796825891614, 0.3479402693761946, 0.3479449331082542]\n",
      "Mean entropies for all classes: [5.543200899056708e-15, 4.121813468900676e-15, 3.338932240823781e-15]\n",
      "              precision    recall  f1-score   support\n",
      "\n",
      "           0       1.00      0.20      0.33         5\n",
      "           1       0.56      1.00      0.71         5\n",
      "           2       1.00      1.00      1.00         5\n",
      "\n",
      "    accuracy                           0.73        15\n",
      "   macro avg       0.85      0.73      0.68        15\n",
      "weighted avg       0.85      0.73      0.68        15\n",
      "\n",
      "-------------------------------------------------------------------------------------------------------------------\n"
     ]
    },
    {
     "name": "stderr",
     "output_type": "stream",
     "text": [
      "[Parallel(n_jobs=-1)]: Done   3 out of   3 | elapsed:  1.8min finished\n",
      "[Parallel(n_jobs=-1)]: Using backend LokyBackend with 12 concurrent workers.\n"
     ]
    },
    {
     "name": "stdout",
     "output_type": "stream",
     "text": [
      "K-Fold #3\n",
      "Mean negativities for all classes: [0.3491282650662809, 0.365913797639047, 0.33622217575559066]\n",
      "Mean entropies for all classes: [4.096108605057691e-15, 2.690075612930404e-15, 4.078252433227762e-15]\n",
      "              precision    recall  f1-score   support\n",
      "\n",
      "           0       1.00      0.60      0.75         5\n",
      "           1       0.50      0.40      0.44         5\n",
      "           2       0.62      1.00      0.77         5\n",
      "\n",
      "    accuracy                           0.67        15\n",
      "   macro avg       0.71      0.67      0.65        15\n",
      "weighted avg       0.71      0.67      0.65        15\n",
      "\n",
      "-------------------------------------------------------------------------------------------------------------------\n"
     ]
    },
    {
     "name": "stderr",
     "output_type": "stream",
     "text": [
      "[Parallel(n_jobs=-1)]: Done   3 out of   3 | elapsed:  1.8min finished\n",
      "[Parallel(n_jobs=-1)]: Using backend LokyBackend with 12 concurrent workers.\n"
     ]
    },
    {
     "name": "stdout",
     "output_type": "stream",
     "text": [
      "K-Fold #4\n",
      "Mean negativities for all classes: [0.3438197118710083, 0.3683899179309647, 0.3444676905267045]\n",
      "Mean entropies for all classes: [3.486411838548733e-15, 3.570392722728909e-15, 3.559792919236446e-15]\n",
      "              precision    recall  f1-score   support\n",
      "\n",
      "           0       0.50      0.20      0.29         5\n",
      "           1       0.50      0.80      0.62         5\n",
      "           2       1.00      1.00      1.00         5\n",
      "\n",
      "    accuracy                           0.67        15\n",
      "   macro avg       0.67      0.67      0.63        15\n",
      "weighted avg       0.67      0.67      0.63        15\n",
      "\n",
      "-------------------------------------------------------------------------------------------------------------------\n"
     ]
    },
    {
     "name": "stderr",
     "output_type": "stream",
     "text": [
      "[Parallel(n_jobs=-1)]: Done   3 out of   3 | elapsed:  1.8min finished\n",
      "[Parallel(n_jobs=-1)]: Using backend LokyBackend with 12 concurrent workers.\n"
     ]
    },
    {
     "name": "stdout",
     "output_type": "stream",
     "text": [
      "K-Fold #5\n",
      "Mean negativities for all classes: [0.33825745130433316, 0.37532164521154454, 0.3344582628520743]\n",
      "Mean entropies for all classes: [3.855736350209614e-15, 4.579609211406142e-15, 3.4313326271492058e-15]\n",
      "              precision    recall  f1-score   support\n",
      "\n",
      "           0       1.00      0.40      0.57         5\n",
      "           1       0.75      0.60      0.67         5\n",
      "           2       0.56      1.00      0.71         5\n",
      "\n",
      "    accuracy                           0.67        15\n",
      "   macro avg       0.77      0.67      0.65        15\n",
      "weighted avg       0.77      0.67      0.65        15\n",
      "\n",
      "-------------------------------------------------------------------------------------------------------------------\n"
     ]
    },
    {
     "name": "stderr",
     "output_type": "stream",
     "text": [
      "[Parallel(n_jobs=-1)]: Done   3 out of   3 | elapsed:  1.8min finished\n",
      "[Parallel(n_jobs=-1)]: Using backend LokyBackend with 12 concurrent workers.\n"
     ]
    },
    {
     "name": "stdout",
     "output_type": "stream",
     "text": [
      "K-Fold #6\n",
      "Mean negativities for all classes: [0.30809380353722593, 0.3525893044796508, 0.33662668338756063]\n",
      "Mean entropies for all classes: [3.004904474733173e-15, 4.0318567042739165e-15, 3.3686362444415923e-15]\n",
      "              precision    recall  f1-score   support\n",
      "\n",
      "           0       1.00      0.20      0.33         5\n",
      "           1       0.50      0.60      0.55         5\n",
      "           2       0.62      1.00      0.77         5\n",
      "\n",
      "    accuracy                           0.60        15\n",
      "   macro avg       0.71      0.60      0.55        15\n",
      "weighted avg       0.71      0.60      0.55        15\n",
      "\n",
      "-------------------------------------------------------------------------------------------------------------------\n"
     ]
    },
    {
     "name": "stderr",
     "output_type": "stream",
     "text": [
      "[Parallel(n_jobs=-1)]: Done   3 out of   3 | elapsed:  1.8min finished\n",
      "[Parallel(n_jobs=-1)]: Using backend LokyBackend with 12 concurrent workers.\n"
     ]
    },
    {
     "name": "stdout",
     "output_type": "stream",
     "text": [
      "K-Fold #7\n",
      "Mean negativities for all classes: [0.317969942877481, 0.38030293145772004, 0.33725305223464086]\n",
      "Mean entropies for all classes: [4.577503272158643e-15, 4.0202655144399144e-15, 3.403553315518452e-15]\n",
      "              precision    recall  f1-score   support\n",
      "\n",
      "           0       1.00      0.20      0.33         5\n",
      "           1       0.50      0.80      0.62         5\n",
      "           2       0.83      1.00      0.91         5\n",
      "\n",
      "    accuracy                           0.67        15\n",
      "   macro avg       0.78      0.67      0.62        15\n",
      "weighted avg       0.78      0.67      0.62        15\n",
      "\n",
      "-------------------------------------------------------------------------------------------------------------------\n"
     ]
    },
    {
     "name": "stderr",
     "output_type": "stream",
     "text": [
      "[Parallel(n_jobs=-1)]: Done   3 out of   3 | elapsed:  1.8min finished\n",
      "c:\\ProgramData\\Anaconda3\\lib\\site-packages\\sklearn\\metrics\\_classification.py:1344: UndefinedMetricWarning: Precision and F-score are ill-defined and being set to 0.0 in labels with no predicted samples. Use `zero_division` parameter to control this behavior.\n",
      "  _warn_prf(average, modifier, msg_start, len(result))\n",
      "c:\\ProgramData\\Anaconda3\\lib\\site-packages\\sklearn\\metrics\\_classification.py:1344: UndefinedMetricWarning: Precision and F-score are ill-defined and being set to 0.0 in labels with no predicted samples. Use `zero_division` parameter to control this behavior.\n",
      "  _warn_prf(average, modifier, msg_start, len(result))\n",
      "c:\\ProgramData\\Anaconda3\\lib\\site-packages\\sklearn\\metrics\\_classification.py:1344: UndefinedMetricWarning: Precision and F-score are ill-defined and being set to 0.0 in labels with no predicted samples. Use `zero_division` parameter to control this behavior.\n",
      "  _warn_prf(average, modifier, msg_start, len(result))\n",
      "[Parallel(n_jobs=-1)]: Using backend LokyBackend with 12 concurrent workers.\n"
     ]
    },
    {
     "name": "stdout",
     "output_type": "stream",
     "text": [
      "K-Fold #8\n",
      "Mean negativities for all classes: [0.33665041039215, 0.35682720658344225, 0.33123765212153256]\n",
      "Mean entropies for all classes: [3.708296722555124e-15, 3.5149631892746878e-15, 3.247050816350347e-15]\n",
      "              precision    recall  f1-score   support\n",
      "\n",
      "           0       0.00      0.00      0.00         5\n",
      "           1       0.50      1.00      0.67         5\n",
      "           2       1.00      1.00      1.00         5\n",
      "\n",
      "    accuracy                           0.67        15\n",
      "   macro avg       0.50      0.67      0.56        15\n",
      "weighted avg       0.50      0.67      0.56        15\n",
      "\n",
      "-------------------------------------------------------------------------------------------------------------------\n",
      "K-Fold #9\n",
      "Mean negativities for all classes: [0.35490223823001676, 0.34795621681841366, 0.3440667665591413]\n",
      "Mean entropies for all classes: [-4.08689724909016e-15, 3.3927636279397056e-15, 3.8726581359766016e-15]\n",
      "              precision    recall  f1-score   support\n",
      "\n",
      "           0       1.00      0.60      0.75         5\n",
      "           1       0.62      1.00      0.77         5\n",
      "           2       1.00      0.80      0.89         5\n",
      "\n",
      "    accuracy                           0.80        15\n",
      "   macro avg       0.88      0.80      0.80        15\n",
      "weighted avg       0.88      0.80      0.80        15\n",
      "\n",
      "-------------------------------------------------------------------------------------------------------------------\n",
      "AVG: Scores = 0.6533333333333333 F1-Scores = 0.6187453287453287 Negativity = [0.3565129856257974, 0.3576207461355192, 0.3463277235811217] Entropy = [3.771842730666042e-15, 5.159536906172965e-15, 4.3346488695937214e-15]\n",
      "CPU times: total: 21.2 s\n",
      "Wall time: 6h 2min 51s\n"
     ]
    },
    {
     "name": "stderr",
     "output_type": "stream",
     "text": [
      "[Parallel(n_jobs=-1)]: Done   3 out of   3 | elapsed:  1.8min finished\n"
     ]
    }
   ],
   "source": [
    "%%time\n",
    "scores_list = []\n",
    "f1scores_list = []\n",
    "negativities_list = []\n",
    "for SEED in range(n_times_kfold):\n",
    "    scores, f1scores, negativities = execute_training_test_k_fold(\n",
    "                    X, \n",
    "                    y, \n",
    "                    k_folds=k_times_fold,\n",
    "                    random_seed = SEED, \n",
    "                    classifier_function=classifier_function, \n",
    "                    dic_classifier_params=dic_classifier_params,\n",
    "                    one_vs_classifier=OneVsRestClassifier, \n",
    "                    dic_training_params=dic_training_params,\n",
    "                    print_each_fold_metric=True,\n",
    "                    print_avg_metric=True)\n",
    "    scores_list.append(scores)\n",
    "    f1scores_list.append(f1scores)\n",
    "    negativities_list.append(negativities)"
   ]
  },
  {
   "cell_type": "code",
   "execution_count": 3,
   "id": "7f7363b8",
   "metadata": {},
   "outputs": [
    {
     "name": "stdout",
     "output_type": "stream",
     "text": [
      "Media Score dos N K-Fold 0.577\n",
      "Maior Score dos K-Fold 0.6533333333333333\n",
      "Min Score dos K-Fold 0.5066666666666666\n",
      "Media Score dos K-Fold [0.5533333333333333, 0.5866666666666667, 0.5533333333333333, 0.5666666666666667, 0.6066666666666667, 0.6533333333333333, 0.5666666666666667, 0.5466666666666667, 0.5066666666666666, 0.58, 0.5666666666666667, 0.5733333333333334, 0.6133333333333334, 0.58, 0.5666666666666667, 0.5866666666666667, 0.5533333333333332, 0.5733333333333334, 0.5533333333333333, 0.6533333333333333]\n",
      "\n",
      "\n",
      "[[0.6, 0.3333333333333333, 0.5333333333333333, 0.6, 0.6, 0.4666666666666667, 0.6, 0.5333333333333333, 0.6, 0.6666666666666666], [0.6, 0.6666666666666666, 0.6666666666666666, 0.4666666666666667, 0.6, 0.4666666666666667, 0.5333333333333333, 0.6666666666666666, 0.7333333333333333, 0.4666666666666667], [0.6, 0.6, 0.6666666666666666, 0.4, 0.4666666666666667, 0.8, 0.4, 0.6, 0.4666666666666667, 0.5333333333333333], [0.6666666666666666, 0.6666666666666666, 0.6666666666666666, 0.5333333333333333, 0.6666666666666666, 0.4, 0.5333333333333333, 0.4, 0.5333333333333333, 0.6], [0.6, 0.4666666666666667, 0.5333333333333333, 0.8666666666666667, 0.6, 0.4, 0.6666666666666666, 0.5333333333333333, 0.6666666666666666, 0.7333333333333333], [0.6, 0.6666666666666666, 0.6666666666666666, 0.6, 0.4666666666666667, 0.6, 0.6666666666666666, 0.7333333333333333, 0.8, 0.7333333333333333], [0.5333333333333333, 0.4666666666666667, 0.6, 0.6, 0.6666666666666666, 0.5333333333333333, 0.6, 0.4, 0.7333333333333333, 0.5333333333333333], [0.4666666666666667, 0.7333333333333333, 0.4666666666666667, 0.3333333333333333, 0.6666666666666666, 0.6, 0.5333333333333333, 0.6, 0.6666666666666666, 0.4], [0.4, 0.4666666666666667, 0.3333333333333333, 0.7333333333333333, 0.4, 0.6, 0.5333333333333333, 0.6, 0.6, 0.4], [0.6666666666666666, 0.5333333333333333, 0.5333333333333333, 0.5333333333333333, 0.4666666666666667, 0.6666666666666666, 0.26666666666666666, 0.6666666666666666, 0.8, 0.6666666666666666], [0.4, 0.6, 0.6666666666666666, 0.5333333333333333, 0.4, 0.7333333333333333, 0.4, 0.6666666666666666, 0.8, 0.4666666666666667], [0.6666666666666666, 0.3333333333333333, 0.6666666666666666, 0.8666666666666667, 0.5333333333333333, 0.3333333333333333, 0.5333333333333333, 0.6, 0.5333333333333333, 0.6666666666666666], [0.4, 0.7333333333333333, 0.5333333333333333, 0.6666666666666666, 0.6666666666666666, 0.6666666666666666, 0.6, 0.5333333333333333, 0.6666666666666666, 0.6666666666666666], [0.6666666666666666, 0.5333333333333333, 0.5333333333333333, 0.6, 0.6, 0.4666666666666667, 0.6666666666666666, 0.5333333333333333, 0.6666666666666666, 0.5333333333333333], [0.4666666666666667, 0.7333333333333333, 0.6, 0.6, 0.6, 0.6, 0.4, 0.4666666666666667, 0.6666666666666666, 0.5333333333333333], [0.4666666666666667, 0.6, 0.7333333333333333, 0.6666666666666666, 0.6666666666666666, 0.6, 0.6666666666666666, 0.5333333333333333, 0.5333333333333333, 0.4], [0.7333333333333333, 0.7333333333333333, 0.7333333333333333, 0.6666666666666666, 0.5333333333333333, 0.4666666666666667, 0.3333333333333333, 0.5333333333333333, 0.5333333333333333, 0.26666666666666666], [0.5333333333333333, 0.6, 0.5333333333333333, 0.6666666666666666, 0.6, 0.4666666666666667, 0.6666666666666666, 0.4666666666666667, 0.7333333333333333, 0.4666666666666667], [0.6, 0.5333333333333333, 0.6, 0.4666666666666667, 0.6666666666666666, 0.5333333333333333, 0.6666666666666666, 0.5333333333333333, 0.5333333333333333, 0.4], [0.6, 0.4666666666666667, 0.7333333333333333, 0.6666666666666666, 0.6666666666666666, 0.6666666666666666, 0.6, 0.6666666666666666, 0.6666666666666666, 0.8]]\n"
     ]
    }
   ],
   "source": [
    "\n",
    "print(\"Media Score dos N K-Fold\", np.mean([np.mean(i) for i in scores_list]))\n",
    "print(\"Maior Score dos K-Fold\", max([np.mean(i) for i in scores_list]))\n",
    "print(\"Min Score dos K-Fold\", min([np.mean(i) for i in scores_list]))\n",
    "\n",
    "print(\"Medias Score dos K-Fold\", [np.mean(i) for i in scores_list])\n",
    "print()\n",
    "print()\n",
    "print(scores_list)\n"
   ]
  },
  {
   "cell_type": "code",
   "execution_count": 4,
   "id": "49ad1fc9",
   "metadata": {},
   "outputs": [
    {
     "name": "stdout",
     "output_type": "stream",
     "text": [
      "Media F1Score dos N K-Fold 0.5335180133047779\n",
      "Maior F1Score dos K-Fold 0.6206991156991157\n",
      "Maior F1Score dos K-Fold 0.4531695319930614\n",
      "Media F1Score dos K-Fold [0.5051814851814852, 0.5357161357161356, 0.511617179117179, 0.5212053197347315, 0.5607814407814408, 0.6206991156991157, 0.5205222990517108, 0.484081474081474, 0.4531695319930614, 0.5343138343138344, 0.5283337468631586, 0.5292614030849325, 0.5778480778480779, 0.534552577052577, 0.5288451363451363, 0.5514796314796315, 0.5175489325489326, 0.5258254708254709, 0.5106321456321457, 0.6187453287453287]\n",
      "\n",
      "\n",
      "[[0.49350649350649345, 0.3333333333333333, 0.4841269841269842, 0.5492063492063491, 0.5492063492063491, 0.40740740740740744, 0.4829059829059829, 0.5508417508417508, 0.582010582010582, 0.6192696192696193], [0.5767195767195767, 0.6192696192696193, 0.6183150183150183, 0.38888888888888884, 0.5714285714285714, 0.45555555555555555, 0.42735042735042733, 0.6452991452991452, 0.6825396825396824, 0.3717948717948718], [0.5694444444444444, 0.5046296296296297, 0.6154401154401153, 0.3333333333333333, 0.46296296296296297, 0.7979797979797979, 0.2916666666666667, 0.5555555555555555, 0.4777777777777777, 0.5073815073815074], [0.6632996632996633, 0.6444444444444445, 0.6192696192696193, 0.4444444444444445, 0.6515151515151515, 0.3571428571428572, 0.446078431372549, 0.41111111111111115, 0.41991341991341996, 0.5548340548340548], [0.5493395493395493, 0.40740740740740744, 0.48148148148148157, 0.8703703703703703, 0.47863247863247865, 0.3247863247863248, 0.6192696192696193, 0.5015873015873016, 0.6500721500721501, 0.724867724867725], [0.5909090909090908, 0.6707070707070707, 0.6192696192696193, 0.48888888888888893, 0.44586894586894593, 0.5793650793650794, 0.6192696192696193, 0.7157287157287158, 0.7944444444444444, 0.6825396825396824], [0.4887334887334888, 0.43968253968253973, 0.5238095238095238, 0.597979797979798, 0.6296296296296297, 0.4316239316239316, 0.5586635586635587, 0.30718954248366015, 0.7286324786324786, 0.4992784992784993], [0.43492063492063493, 0.6825396825396824, 0.3852813852813852, 0.2222222222222222, 0.6099456099456099, 0.49350649350649345, 0.533910533910534, 0.5802197802197803, 0.5411255411255411, 0.35714285714285715], [0.36111111111111116, 0.3852813852813852, 0.24019607843137256, 0.7222222222222222, 0.3333333333333333, 0.5682539682539683, 0.5015873015873016, 0.5493395493395493, 0.5740740740740741, 0.2962962962962963], [0.5411255411255411, 0.4230769230769231, 0.5, 0.528937728937729, 0.4490842490842491, 0.6547619047619048, 0.19047619047619047, 0.6336996336996338, 0.8027065527065527, 0.6192696192696193], [0.38095238095238093, 0.5714285714285714, 0.6444444444444445, 0.5157509157509158, 0.3247863247863248, 0.6666666666666666, 0.3945868945868946, 0.6192696192696193, 0.8027065527065527, 0.36274509803921573], [0.6296296296296297, 0.33261183261183264, 0.6515151515151515, 0.861111111111111, 0.538961038961039, 0.2679738562091503, 0.45714285714285713, 0.5238095238095238, 0.41991341991341996, 0.6099456099456099], [0.3862433862433863, 0.6666666666666666, 0.41991341991341996, 0.6545584045584046, 0.6468864468864469, 0.6158730158730159, 0.5555555555555555, 0.5157509157509158, 0.6547619047619048, 0.6622710622710625], [0.611111111111111, 0.5185185185185185, 0.4316239316239316, 0.5492063492063491, 0.5046296296296297, 0.36752136752136755, 0.6547619047619048, 0.533910533910534, 0.6742424242424242, 0.5], [0.36752136752136755, 0.724867724867725, 0.5694444444444444, 0.5956043956043956, 0.5555555555555555, 0.5682539682539683, 0.3333333333333333, 0.43888888888888894, 0.6468864468864469, 0.48809523809523814], [0.43492063492063493, 0.582010582010582, 0.6825396825396824, 0.6632996632996633, 0.6500721500721501, 0.5681818181818181, 0.6507936507936508, 0.4980574980574981, 0.49603174603174605, 0.2888888888888889], [0.7277777777777777, 0.7388888888888889, 0.7222222222222222, 0.6632996632996633, 0.4316239316239316, 0.4594017094017093, 0.273015873015873, 0.5, 0.48148148148148157, 0.17777777777777778], [0.4825396825396826, 0.49350649350649345, 0.5003663003663004, 0.6545584045584046, 0.5238095238095238, 0.45555555555555555, 0.6099456099456099, 0.43492063492063493, 0.6825396825396824, 0.4205128205128206], [0.5598845598845599, 0.5333333333333334, 0.5555555555555555, 0.4374514374514375, 0.6500721500721501, 0.4222222222222222, 0.5555555555555555, 0.5530303030303029, 0.4942279942279942, 0.344988344988345], [0.5767195767195767, 0.46227106227106235, 0.6825396825396824, 0.6545584045584046, 0.6336996336996338, 0.6507936507936508, 0.5493395493395493, 0.6192696192696193, 0.5555555555555555, 0.8027065527065527]]\n"
     ]
    }
   ],
   "source": [
    "\n",
    "print(\"Media F1Score dos N K-Fold\", np.mean([np.mean(i) for i in f1scores_list]))\n",
    "print(\"Maior F1Score dos K-Fold\", max([np.mean(i) for i in f1scores_list]))\n",
    "print(\"Maior F1Score dos K-Fold\", min([np.mean(i) for i in f1scores_list]))\n",
    "\n",
    "print(\"Media F1Score dos K-Fold\", [np.mean(i) for i in f1scores_list])\n",
    "print()\n",
    "print()\n",
    "print(f1scores_list)\n"
   ]
  },
  {
   "cell_type": "code",
   "execution_count": 5,
   "id": "5e84873d",
   "metadata": {},
   "outputs": [
    {
     "ename": "KeyError",
     "evalue": "0",
     "output_type": "error",
     "traceback": [
      "\u001b[1;31m---------------------------------------------------------------------------\u001b[0m",
      "\u001b[1;31mKeyError\u001b[0m                                  Traceback (most recent call last)",
      "\u001b[1;32mc:\\Users\\Eduardo Barreto\\Desktop\\Mestrado\\icq-studies\\experiments\\Iris\\hadamard\\QuBit 0 Norm-Axis-1-Experimento-Iris-20-10-Fold-With-Identity.ipynb Célula 5\u001b[0m line \u001b[0;36m1\n\u001b[1;32m----> <a href='vscode-notebook-cell:/c%3A/Users/Eduardo%20Barreto/Desktop/Mestrado/icq-studies/experiments/Iris/hadamard/QuBit%200%20Norm-Axis-1-Experimento-Iris-20-10-Fold-With-Identity.ipynb#W4sZmlsZQ%3D%3D?line=0'>1</a>\u001b[0m \u001b[39mprint\u001b[39m(\u001b[39m\"\u001b[39m\u001b[39mMedia Negativity dos N K-Fold\u001b[39m\u001b[39m\"\u001b[39m, [np\u001b[39m.\u001b[39mmean([neg[i] \u001b[39mfor\u001b[39;00m neg \u001b[39min\u001b[39;00m negativities_list]) \u001b[39mfor\u001b[39;00m i \u001b[39min\u001b[39;00m \u001b[39mrange\u001b[39m(\u001b[39mlen\u001b[39m(\u001b[39mset\u001b[39m(y)))])\n\u001b[0;32m      <a href='vscode-notebook-cell:/c%3A/Users/Eduardo%20Barreto/Desktop/Mestrado/icq-studies/experiments/Iris/hadamard/QuBit%200%20Norm-Axis-1-Experimento-Iris-20-10-Fold-With-Identity.ipynb#W4sZmlsZQ%3D%3D?line=2'>3</a>\u001b[0m \u001b[39mprint\u001b[39m()\n\u001b[0;32m      <a href='vscode-notebook-cell:/c%3A/Users/Eduardo%20Barreto/Desktop/Mestrado/icq-studies/experiments/Iris/hadamard/QuBit%200%20Norm-Axis-1-Experimento-Iris-20-10-Fold-With-Identity.ipynb#W4sZmlsZQ%3D%3D?line=3'>4</a>\u001b[0m \u001b[39mprint\u001b[39m()\n",
      "\u001b[1;32mc:\\Users\\Eduardo Barreto\\Desktop\\Mestrado\\icq-studies\\experiments\\Iris\\hadamard\\QuBit 0 Norm-Axis-1-Experimento-Iris-20-10-Fold-With-Identity.ipynb Célula 5\u001b[0m line \u001b[0;36m1\n\u001b[1;32m----> <a href='vscode-notebook-cell:/c%3A/Users/Eduardo%20Barreto/Desktop/Mestrado/icq-studies/experiments/Iris/hadamard/QuBit%200%20Norm-Axis-1-Experimento-Iris-20-10-Fold-With-Identity.ipynb#W4sZmlsZQ%3D%3D?line=0'>1</a>\u001b[0m \u001b[39mprint\u001b[39m(\u001b[39m\"\u001b[39m\u001b[39mMedia Negativity dos N K-Fold\u001b[39m\u001b[39m\"\u001b[39m, [np\u001b[39m.\u001b[39mmean([neg[i] \u001b[39mfor\u001b[39;00m neg \u001b[39min\u001b[39;00m negativities_list]) \u001b[39mfor\u001b[39;00m i \u001b[39min\u001b[39;00m \u001b[39mrange\u001b[39m(\u001b[39mlen\u001b[39m(\u001b[39mset\u001b[39m(y)))])\n\u001b[0;32m      <a href='vscode-notebook-cell:/c%3A/Users/Eduardo%20Barreto/Desktop/Mestrado/icq-studies/experiments/Iris/hadamard/QuBit%200%20Norm-Axis-1-Experimento-Iris-20-10-Fold-With-Identity.ipynb#W4sZmlsZQ%3D%3D?line=2'>3</a>\u001b[0m \u001b[39mprint\u001b[39m()\n\u001b[0;32m      <a href='vscode-notebook-cell:/c%3A/Users/Eduardo%20Barreto/Desktop/Mestrado/icq-studies/experiments/Iris/hadamard/QuBit%200%20Norm-Axis-1-Experimento-Iris-20-10-Fold-With-Identity.ipynb#W4sZmlsZQ%3D%3D?line=3'>4</a>\u001b[0m \u001b[39mprint\u001b[39m()\n",
      "\u001b[1;32mc:\\Users\\Eduardo Barreto\\Desktop\\Mestrado\\icq-studies\\experiments\\Iris\\hadamard\\QuBit 0 Norm-Axis-1-Experimento-Iris-20-10-Fold-With-Identity.ipynb Célula 5\u001b[0m line \u001b[0;36m1\n\u001b[1;32m----> <a href='vscode-notebook-cell:/c%3A/Users/Eduardo%20Barreto/Desktop/Mestrado/icq-studies/experiments/Iris/hadamard/QuBit%200%20Norm-Axis-1-Experimento-Iris-20-10-Fold-With-Identity.ipynb#W4sZmlsZQ%3D%3D?line=0'>1</a>\u001b[0m \u001b[39mprint\u001b[39m(\u001b[39m\"\u001b[39m\u001b[39mMedia Negativity dos N K-Fold\u001b[39m\u001b[39m\"\u001b[39m, [np\u001b[39m.\u001b[39mmean([neg[i] \u001b[39mfor\u001b[39;00m neg \u001b[39min\u001b[39;00m negativities_list]) \u001b[39mfor\u001b[39;00m i \u001b[39min\u001b[39;00m \u001b[39mrange\u001b[39m(\u001b[39mlen\u001b[39m(\u001b[39mset\u001b[39m(y)))])\n\u001b[0;32m      <a href='vscode-notebook-cell:/c%3A/Users/Eduardo%20Barreto/Desktop/Mestrado/icq-studies/experiments/Iris/hadamard/QuBit%200%20Norm-Axis-1-Experimento-Iris-20-10-Fold-With-Identity.ipynb#W4sZmlsZQ%3D%3D?line=2'>3</a>\u001b[0m \u001b[39mprint\u001b[39m()\n\u001b[0;32m      <a href='vscode-notebook-cell:/c%3A/Users/Eduardo%20Barreto/Desktop/Mestrado/icq-studies/experiments/Iris/hadamard/QuBit%200%20Norm-Axis-1-Experimento-Iris-20-10-Fold-With-Identity.ipynb#W4sZmlsZQ%3D%3D?line=3'>4</a>\u001b[0m \u001b[39mprint\u001b[39m()\n",
      "\u001b[1;31mKeyError\u001b[0m: 0"
     ]
    }
   ],
   "source": [
    "print(\"Media Negativity dos N K-Fold\", [np.mean([neg[i] for neg in negativities_list]) for i in range(len(set(y)))])\n",
    "\n",
    "print()\n",
    "print()\n",
    "print(negativities_list)"
   ]
  }
 ],
 "metadata": {
  "kernelspec": {
   "display_name": "Python 3",
   "language": "python",
   "name": "python3"
  },
  "language_info": {
   "codemirror_mode": {
    "name": "ipython",
    "version": 3
   },
   "file_extension": ".py",
   "mimetype": "text/x-python",
   "name": "python",
   "nbconvert_exporter": "python",
   "pygments_lexer": "ipython3",
   "version": "3.9.16"
  }
 },
 "nbformat": 4,
 "nbformat_minor": 5
}
