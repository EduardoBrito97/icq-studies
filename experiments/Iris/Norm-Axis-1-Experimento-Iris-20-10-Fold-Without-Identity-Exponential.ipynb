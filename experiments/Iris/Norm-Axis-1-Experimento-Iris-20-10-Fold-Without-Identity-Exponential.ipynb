{
 "cells": [
  {
   "cell_type": "code",
   "execution_count": 1,
   "id": "0db239e0",
   "metadata": {},
   "outputs": [
    {
     "name": "stderr",
     "output_type": "stream",
     "text": [
      "Intel(R) Extension for Scikit-learn* enabled (https://github.com/intel/scikit-learn-intelex)\n"
     ]
    }
   ],
   "source": [
    "import sys, os\n",
    "sys.path.append(os.path.abspath('../../classifiers'))\n",
    "sys.path.append(os.path.abspath('../../training'))\n",
    "sys.path.append(os.path.abspath('../../validation'))\n",
    "from validation_functions import execute_training_test_k_fold\n",
    "from classifiers_ICQ import iqc_classifier\n",
    "\n",
    "from sklearn.multiclass import OneVsRestClassifier\n",
    "import numpy as np\n",
    "from sklearn import datasets\n",
    "\n",
    "iris = datasets.load_iris()\n",
    "\n",
    "X = iris.data[:, [0,1,2,3]]\n",
    "y = iris.target\n",
    "\n",
    "classifier_function = iqc_classifier\n",
    "dic_classifier_params = {}\n",
    "dic_classifier_params[\"sigma_q_params\"] = [1,1,1,0]\n",
    "dic_classifier_params[\"use_polar_coordinates_on_sigma_q\"] = False\n",
    "dic_classifier_params[\"load_inputvector_env_state\"] = False\n",
    "dic_classifier_params[\"normalize_axis\"] = 1\n",
    "dic_classifier_params[\"use_exponential_on_input\"] = True\n",
    "\n",
    "dic_training_params = {\"max_iter\": 1000,\n",
    "    \"accuracy_succ\": 0.99,\n",
    "    \"plot_graphs_and_metrics\": False,\n",
    "    \"plot_graphs_in_classifier\": False,\n",
    "    \"random_seed\": 1,\n",
    "    \"learning_rate\": 0.01,\n",
    "    \"refit_db\":True,\n",
    "    \"reset_weights_epoch\":0,\n",
    "    \"do_classes_refit\":True,\n",
    "    \"batch\":False}\n",
    "\n",
    "n_times_kfold = 20\n",
    "k_times_fold = 10"
   ]
  },
  {
   "cell_type": "code",
   "execution_count": 2,
   "id": "ca21ba5e",
   "metadata": {},
   "outputs": [
    {
     "name": "stderr",
     "output_type": "stream",
     "text": [
      "[Parallel(n_jobs=-1)]: Using backend LokyBackend with 12 concurrent workers.\n",
      "[Parallel(n_jobs=-1)]: Done   3 out of   3 | elapsed:  1.3min finished\n",
      "[Parallel(n_jobs=-1)]: Using backend LokyBackend with 12 concurrent workers.\n"
     ]
    },
    {
     "name": "stdout",
     "output_type": "stream",
     "text": [
      "K-Fold #0\n",
      "Mean negativities for all classes: [0.29331575965762907, 0.3595120044499505, 0.37438106632603657]\n",
      "Mean entropies for all classes: [4.866549637213819e-15, 4.7670880074411225e-15, 2.053436989051483e-15]\n",
      "              precision    recall  f1-score   support\n",
      "\n",
      "           0       1.00      1.00      1.00         5\n",
      "           1       1.00      1.00      1.00         5\n",
      "           2       1.00      1.00      1.00         5\n",
      "\n",
      "    accuracy                           1.00        15\n",
      "   macro avg       1.00      1.00      1.00        15\n",
      "weighted avg       1.00      1.00      1.00        15\n",
      "\n",
      "-------------------------------------------------------------------------------------------------------------------\n"
     ]
    },
    {
     "name": "stderr",
     "output_type": "stream",
     "text": [
      "[Parallel(n_jobs=-1)]: Done   3 out of   3 | elapsed:  1.3min finished\n",
      "[Parallel(n_jobs=-1)]: Using backend LokyBackend with 12 concurrent workers.\n"
     ]
    },
    {
     "name": "stdout",
     "output_type": "stream",
     "text": [
      "K-Fold #1\n",
      "Mean negativities for all classes: [0.3118613161526282, 0.36341164753334, 0.3549928031048541]\n",
      "Mean entropies for all classes: [4.270115191831392e-15, 3.97722196158105e-15, 3.338056804762481e-15]\n",
      "              precision    recall  f1-score   support\n",
      "\n",
      "           0       1.00      1.00      1.00         5\n",
      "           1       1.00      0.40      0.57         5\n",
      "           2       0.62      1.00      0.77         5\n",
      "\n",
      "    accuracy                           0.80        15\n",
      "   macro avg       0.88      0.80      0.78        15\n",
      "weighted avg       0.88      0.80      0.78        15\n",
      "\n",
      "-------------------------------------------------------------------------------------------------------------------\n"
     ]
    },
    {
     "name": "stderr",
     "output_type": "stream",
     "text": [
      "[Parallel(n_jobs=-1)]: Done   3 out of   3 | elapsed:  1.3min finished\n",
      "[Parallel(n_jobs=-1)]: Using backend LokyBackend with 12 concurrent workers.\n"
     ]
    },
    {
     "name": "stdout",
     "output_type": "stream",
     "text": [
      "K-Fold #2\n",
      "Mean negativities for all classes: [0.2795213260071134, 0.36343263965811873, 0.3532494391518884]\n",
      "Mean entropies for all classes: [3.369002328004519e-15, 4.830878460899706e-15, 3.702358715134536e-15]\n",
      "              precision    recall  f1-score   support\n",
      "\n",
      "           0       1.00      1.00      1.00         5\n",
      "           1       1.00      1.00      1.00         5\n",
      "           2       1.00      1.00      1.00         5\n",
      "\n",
      "    accuracy                           1.00        15\n",
      "   macro avg       1.00      1.00      1.00        15\n",
      "weighted avg       1.00      1.00      1.00        15\n",
      "\n",
      "-------------------------------------------------------------------------------------------------------------------\n"
     ]
    },
    {
     "name": "stderr",
     "output_type": "stream",
     "text": [
      "[Parallel(n_jobs=-1)]: Done   3 out of   3 | elapsed:  1.3min finished\n",
      "[Parallel(n_jobs=-1)]: Using backend LokyBackend with 12 concurrent workers.\n"
     ]
    },
    {
     "name": "stdout",
     "output_type": "stream",
     "text": [
      "K-Fold #3\n",
      "Mean negativities for all classes: [0.2882791683366831, 0.36251785986670604, 0.3357244454972744]\n",
      "Mean entropies for all classes: [3.737883833504969e-15, 3.735858781317962e-15, 3.946651041848983e-15]\n",
      "              precision    recall  f1-score   support\n",
      "\n",
      "           0       1.00      1.00      1.00         5\n",
      "           1       1.00      0.80      0.89         5\n",
      "           2       0.83      1.00      0.91         5\n",
      "\n",
      "    accuracy                           0.93        15\n",
      "   macro avg       0.94      0.93      0.93        15\n",
      "weighted avg       0.94      0.93      0.93        15\n",
      "\n",
      "-------------------------------------------------------------------------------------------------------------------\n"
     ]
    },
    {
     "name": "stderr",
     "output_type": "stream",
     "text": [
      "[Parallel(n_jobs=-1)]: Done   3 out of   3 | elapsed:  1.3min finished\n",
      "[Parallel(n_jobs=-1)]: Using backend LokyBackend with 12 concurrent workers.\n"
     ]
    },
    {
     "name": "stdout",
     "output_type": "stream",
     "text": [
      "K-Fold #4\n",
      "Mean negativities for all classes: [0.3438084927618531, 0.3620438066527449, 0.3529854780486416]\n",
      "Mean entropies for all classes: [2.9831849750746507e-15, 3.7714225853303264e-15, 3.492098119550159e-15]\n",
      "              precision    recall  f1-score   support\n",
      "\n",
      "           0       1.00      0.80      0.89         5\n",
      "           1       0.67      0.40      0.50         5\n",
      "           2       0.62      1.00      0.77         5\n",
      "\n",
      "    accuracy                           0.73        15\n",
      "   macro avg       0.76      0.73      0.72        15\n",
      "weighted avg       0.76      0.73      0.72        15\n",
      "\n",
      "-------------------------------------------------------------------------------------------------------------------\n"
     ]
    },
    {
     "name": "stderr",
     "output_type": "stream",
     "text": [
      "[Parallel(n_jobs=-1)]: Done   3 out of   3 | elapsed:  1.3min finished\n",
      "[Parallel(n_jobs=-1)]: Using backend LokyBackend with 12 concurrent workers.\n"
     ]
    },
    {
     "name": "stdout",
     "output_type": "stream",
     "text": [
      "K-Fold #5\n",
      "Mean negativities for all classes: [0.3108831169585164, 0.38454351673692694, 0.318818182381372]\n",
      "Mean entropies for all classes: [3.5773273166684225e-15, 3.4851383208440204e-15, 3.3998906964636237e-15]\n",
      "              precision    recall  f1-score   support\n",
      "\n",
      "           0       0.83      1.00      0.91         5\n",
      "           1       1.00      0.40      0.57         5\n",
      "           2       0.57      0.80      0.67         5\n",
      "\n",
      "    accuracy                           0.73        15\n",
      "   macro avg       0.80      0.73      0.72        15\n",
      "weighted avg       0.80      0.73      0.72        15\n",
      "\n",
      "-------------------------------------------------------------------------------------------------------------------\n"
     ]
    },
    {
     "name": "stderr",
     "output_type": "stream",
     "text": [
      "[Parallel(n_jobs=-1)]: Done   3 out of   3 | elapsed:  1.3min finished\n",
      "[Parallel(n_jobs=-1)]: Using backend LokyBackend with 12 concurrent workers.\n"
     ]
    },
    {
     "name": "stdout",
     "output_type": "stream",
     "text": [
      "K-Fold #6\n",
      "Mean negativities for all classes: [0.31582748613086903, 0.35788989180643244, 0.3483157856238866]\n",
      "Mean entropies for all classes: [3.977877782232604e-15, 3.942807102568384e-15, 2.9293322701842363e-15]\n",
      "              precision    recall  f1-score   support\n",
      "\n",
      "           0       1.00      1.00      1.00         5\n",
      "           1       1.00      0.60      0.75         5\n",
      "           2       0.71      1.00      0.83         5\n",
      "\n",
      "    accuracy                           0.87        15\n",
      "   macro avg       0.90      0.87      0.86        15\n",
      "weighted avg       0.90      0.87      0.86        15\n",
      "\n",
      "-------------------------------------------------------------------------------------------------------------------\n"
     ]
    },
    {
     "name": "stderr",
     "output_type": "stream",
     "text": [
      "[Parallel(n_jobs=-1)]: Done   3 out of   3 | elapsed:  1.3min finished\n",
      "[Parallel(n_jobs=-1)]: Using backend LokyBackend with 12 concurrent workers.\n"
     ]
    },
    {
     "name": "stdout",
     "output_type": "stream",
     "text": [
      "K-Fold #7\n",
      "Mean negativities for all classes: [0.31074013091572666, 0.3692491556835606, 0.3568064714591684]\n",
      "Mean entropies for all classes: [3.3481020426273254e-15, 3.1035813410726197e-15, 3.57170900700038e-15]\n",
      "              precision    recall  f1-score   support\n",
      "\n",
      "           0       1.00      1.00      1.00         5\n",
      "           1       1.00      0.60      0.75         5\n",
      "           2       0.71      1.00      0.83         5\n",
      "\n",
      "    accuracy                           0.87        15\n",
      "   macro avg       0.90      0.87      0.86        15\n",
      "weighted avg       0.90      0.87      0.86        15\n",
      "\n",
      "-------------------------------------------------------------------------------------------------------------------\n"
     ]
    },
    {
     "name": "stderr",
     "output_type": "stream",
     "text": [
      "[Parallel(n_jobs=-1)]: Done   3 out of   3 | elapsed:  1.3min finished\n",
      "[Parallel(n_jobs=-1)]: Using backend LokyBackend with 12 concurrent workers.\n"
     ]
    },
    {
     "name": "stdout",
     "output_type": "stream",
     "text": [
      "K-Fold #8\n",
      "Mean negativities for all classes: [0.276263154913095, 0.3425348660695697, 0.35268796162130134]\n",
      "Mean entropies for all classes: [4.8008463864756595e-15, 2.6864334754806375e-15, 3.2767699325971835e-15]\n",
      "              precision    recall  f1-score   support\n",
      "\n",
      "           0       1.00      1.00      1.00         5\n",
      "           1       1.00      0.80      0.89         5\n",
      "           2       0.83      1.00      0.91         5\n",
      "\n",
      "    accuracy                           0.93        15\n",
      "   macro avg       0.94      0.93      0.93        15\n",
      "weighted avg       0.94      0.93      0.93        15\n",
      "\n",
      "-------------------------------------------------------------------------------------------------------------------\n"
     ]
    },
    {
     "name": "stderr",
     "output_type": "stream",
     "text": [
      "[Parallel(n_jobs=-1)]: Done   3 out of   3 | elapsed:  1.3min finished\n",
      "[Parallel(n_jobs=-1)]: Using backend LokyBackend with 12 concurrent workers.\n"
     ]
    },
    {
     "name": "stdout",
     "output_type": "stream",
     "text": [
      "K-Fold #9\n",
      "Mean negativities for all classes: [0.29226613136138263, 0.35292109424677437, 0.35485109405948057]\n",
      "Mean entropies for all classes: [3.335419397947016e-15, 4.050182547111435e-15, 4.164540823220446e-15]\n",
      "              precision    recall  f1-score   support\n",
      "\n",
      "           0       1.00      1.00      1.00         5\n",
      "           1       1.00      0.60      0.75         5\n",
      "           2       0.71      1.00      0.83         5\n",
      "\n",
      "    accuracy                           0.87        15\n",
      "   macro avg       0.90      0.87      0.86        15\n",
      "weighted avg       0.90      0.87      0.86        15\n",
      "\n",
      "-------------------------------------------------------------------------------------------------------------------\n",
      "AVG: Scores = 0.8733333333333334 F1-Scores = 0.8663974913974913 Negativity = [0.3424029434778721, 0.34342192226360746, 0.3320678016057068] Entropy = [3.895691544568808e-15, 3.8617979860583075e-15, 3.967413168012921e-15]\n"
     ]
    },
    {
     "name": "stderr",
     "output_type": "stream",
     "text": [
      "[Parallel(n_jobs=-1)]: Done   3 out of   3 | elapsed:  1.3min finished\n",
      "[Parallel(n_jobs=-1)]: Using backend LokyBackend with 12 concurrent workers.\n"
     ]
    },
    {
     "name": "stdout",
     "output_type": "stream",
     "text": [
      "K-Fold #0\n",
      "Mean negativities for all classes: [0.3315347511883697, 0.37277915193794475, 0.3514050470147755]\n",
      "Mean entropies for all classes: [3.744870339027582e-15, 3.6062824392907015e-15, 3.2996821158926234e-15]\n",
      "              precision    recall  f1-score   support\n",
      "\n",
      "           0       1.00      1.00      1.00         5\n",
      "           1       1.00      0.20      0.33         5\n",
      "           2       0.56      1.00      0.71         5\n",
      "\n",
      "    accuracy                           0.73        15\n",
      "   macro avg       0.85      0.73      0.68        15\n",
      "weighted avg       0.85      0.73      0.68        15\n",
      "\n",
      "-------------------------------------------------------------------------------------------------------------------\n"
     ]
    },
    {
     "name": "stderr",
     "output_type": "stream",
     "text": [
      "[Parallel(n_jobs=-1)]: Done   3 out of   3 | elapsed:  1.3min finished\n",
      "[Parallel(n_jobs=-1)]: Using backend LokyBackend with 12 concurrent workers.\n"
     ]
    },
    {
     "name": "stdout",
     "output_type": "stream",
     "text": [
      "K-Fold #1\n",
      "Mean negativities for all classes: [0.29839213857668984, 0.36542815724577565, 0.3550985340564737]\n",
      "Mean entropies for all classes: [3.910320335625679e-15, 3.9663860728622635e-15, 3.507926218803854e-15]\n",
      "              precision    recall  f1-score   support\n",
      "\n",
      "           0       1.00      1.00      1.00         5\n",
      "           1       1.00      0.60      0.75         5\n",
      "           2       0.71      1.00      0.83         5\n",
      "\n",
      "    accuracy                           0.87        15\n",
      "   macro avg       0.90      0.87      0.86        15\n",
      "weighted avg       0.90      0.87      0.86        15\n",
      "\n",
      "-------------------------------------------------------------------------------------------------------------------\n"
     ]
    },
    {
     "name": "stderr",
     "output_type": "stream",
     "text": [
      "[Parallel(n_jobs=-1)]: Done   3 out of   3 | elapsed:  1.3min finished\n",
      "[Parallel(n_jobs=-1)]: Using backend LokyBackend with 12 concurrent workers.\n"
     ]
    },
    {
     "name": "stdout",
     "output_type": "stream",
     "text": [
      "K-Fold #2\n",
      "Mean negativities for all classes: [0.3176937939465628, 0.3709044832388566, 0.3547075415551301]\n",
      "Mean entropies for all classes: [3.813347118829421e-15, 3.98238171067867e-15, 3.964961537065319e-15]\n",
      "              precision    recall  f1-score   support\n",
      "\n",
      "           0       0.83      1.00      0.91         5\n",
      "           1       0.75      0.60      0.67         5\n",
      "           2       0.80      0.80      0.80         5\n",
      "\n",
      "    accuracy                           0.80        15\n",
      "   macro avg       0.79      0.80      0.79        15\n",
      "weighted avg       0.79      0.80      0.79        15\n",
      "\n",
      "-------------------------------------------------------------------------------------------------------------------\n"
     ]
    },
    {
     "name": "stderr",
     "output_type": "stream",
     "text": [
      "[Parallel(n_jobs=-1)]: Done   3 out of   3 | elapsed:  1.3min finished\n",
      "[Parallel(n_jobs=-1)]: Using backend LokyBackend with 12 concurrent workers.\n"
     ]
    },
    {
     "name": "stdout",
     "output_type": "stream",
     "text": [
      "K-Fold #3\n",
      "Mean negativities for all classes: [0.3169354620912027, 0.36057429516255934, 0.34507462854688886]\n",
      "Mean entropies for all classes: [3.894819492404004e-15, 4.213430596326854e-15, 3.558528281705831e-15]\n",
      "              precision    recall  f1-score   support\n",
      "\n",
      "           0       1.00      1.00      1.00         5\n",
      "           1       1.00      0.80      0.89         5\n",
      "           2       0.83      1.00      0.91         5\n",
      "\n",
      "    accuracy                           0.93        15\n",
      "   macro avg       0.94      0.93      0.93        15\n",
      "weighted avg       0.94      0.93      0.93        15\n",
      "\n",
      "-------------------------------------------------------------------------------------------------------------------\n"
     ]
    },
    {
     "name": "stderr",
     "output_type": "stream",
     "text": [
      "[Parallel(n_jobs=-1)]: Done   3 out of   3 | elapsed:  1.3min finished\n",
      "[Parallel(n_jobs=-1)]: Using backend LokyBackend with 12 concurrent workers.\n"
     ]
    },
    {
     "name": "stdout",
     "output_type": "stream",
     "text": [
      "K-Fold #4\n",
      "Mean negativities for all classes: [0.2837761001562434, 0.37124872836954753, 0.3511728315608612]\n",
      "Mean entropies for all classes: [3.678701490409246e-15, 2.8904750717115853e-15, 3.710252695452398e-15]\n",
      "              precision    recall  f1-score   support\n",
      "\n",
      "           0       1.00      1.00      1.00         5\n",
      "           1       1.00      0.40      0.57         5\n",
      "           2       0.62      1.00      0.77         5\n",
      "\n",
      "    accuracy                           0.80        15\n",
      "   macro avg       0.88      0.80      0.78        15\n",
      "weighted avg       0.88      0.80      0.78        15\n",
      "\n",
      "-------------------------------------------------------------------------------------------------------------------\n"
     ]
    },
    {
     "name": "stderr",
     "output_type": "stream",
     "text": [
      "[Parallel(n_jobs=-1)]: Done   3 out of   3 | elapsed:  1.3min finished\n",
      "[Parallel(n_jobs=-1)]: Using backend LokyBackend with 12 concurrent workers.\n"
     ]
    },
    {
     "name": "stdout",
     "output_type": "stream",
     "text": [
      "K-Fold #5\n",
      "Mean negativities for all classes: [0.2959498301811541, 0.3666156637251637, 0.347749077596869]\n",
      "Mean entropies for all classes: [4.4733932129329084e-15, 4.0011408137646336e-15, 3.2472192011801956e-15]\n",
      "              precision    recall  f1-score   support\n",
      "\n",
      "           0       1.00      1.00      1.00         5\n",
      "           1       1.00      0.40      0.57         5\n",
      "           2       0.62      1.00      0.77         5\n",
      "\n",
      "    accuracy                           0.80        15\n",
      "   macro avg       0.88      0.80      0.78        15\n",
      "weighted avg       0.88      0.80      0.78        15\n",
      "\n",
      "-------------------------------------------------------------------------------------------------------------------\n"
     ]
    },
    {
     "name": "stderr",
     "output_type": "stream",
     "text": [
      "[Parallel(n_jobs=-1)]: Done   3 out of   3 | elapsed:  1.3min finished\n",
      "[Parallel(n_jobs=-1)]: Using backend LokyBackend with 12 concurrent workers.\n"
     ]
    },
    {
     "name": "stdout",
     "output_type": "stream",
     "text": [
      "K-Fold #6\n",
      "Mean negativities for all classes: [0.3050412047653967, 0.35191882896788124, 0.35423040358848656]\n",
      "Mean entropies for all classes: [3.4680907289384032e-15, 3.8212340923189056e-15, 5.6793870353989766e-15]\n",
      "              precision    recall  f1-score   support\n",
      "\n",
      "           0       0.71      1.00      0.83         5\n",
      "           1       1.00      0.80      0.89         5\n",
      "           2       1.00      0.80      0.89         5\n",
      "\n",
      "    accuracy                           0.87        15\n",
      "   macro avg       0.90      0.87      0.87        15\n",
      "weighted avg       0.90      0.87      0.87        15\n",
      "\n",
      "-------------------------------------------------------------------------------------------------------------------\n"
     ]
    },
    {
     "name": "stderr",
     "output_type": "stream",
     "text": [
      "[Parallel(n_jobs=-1)]: Done   3 out of   3 | elapsed:  1.3min finished\n",
      "[Parallel(n_jobs=-1)]: Using backend LokyBackend with 12 concurrent workers.\n"
     ]
    },
    {
     "name": "stdout",
     "output_type": "stream",
     "text": [
      "K-Fold #7\n",
      "Mean negativities for all classes: [0.2944103862825479, 0.3553664197849968, 0.35225248151733385]\n",
      "Mean entropies for all classes: [3.7175515428068274e-15, 4.367233926650611e-15, 4.417503457410253e-15]\n",
      "              precision    recall  f1-score   support\n",
      "\n",
      "           0       1.00      1.00      1.00         5\n",
      "           1       1.00      0.40      0.57         5\n",
      "           2       0.62      1.00      0.77         5\n",
      "\n",
      "    accuracy                           0.80        15\n",
      "   macro avg       0.88      0.80      0.78        15\n",
      "weighted avg       0.88      0.80      0.78        15\n",
      "\n",
      "-------------------------------------------------------------------------------------------------------------------\n"
     ]
    },
    {
     "name": "stderr",
     "output_type": "stream",
     "text": [
      "[Parallel(n_jobs=-1)]: Done   3 out of   3 | elapsed:  1.3min finished\n",
      "[Parallel(n_jobs=-1)]: Using backend LokyBackend with 12 concurrent workers.\n"
     ]
    },
    {
     "name": "stdout",
     "output_type": "stream",
     "text": [
      "K-Fold #8\n",
      "Mean negativities for all classes: [0.2922205046545028, 0.3514705153568588, 0.3527538168260068]\n",
      "Mean entropies for all classes: [4.270337256204849e-15, 2.783287198122803e-15, 3.0851391277428106e-15]\n",
      "              precision    recall  f1-score   support\n",
      "\n",
      "           0       1.00      1.00      1.00         5\n",
      "           1       1.00      0.80      0.89         5\n",
      "           2       0.83      1.00      0.91         5\n",
      "\n",
      "    accuracy                           0.93        15\n",
      "   macro avg       0.94      0.93      0.93        15\n",
      "weighted avg       0.94      0.93      0.93        15\n",
      "\n",
      "-------------------------------------------------------------------------------------------------------------------\n"
     ]
    },
    {
     "name": "stderr",
     "output_type": "stream",
     "text": [
      "[Parallel(n_jobs=-1)]: Done   3 out of   3 | elapsed:  1.3min finished\n",
      "[Parallel(n_jobs=-1)]: Using backend LokyBackend with 12 concurrent workers.\n"
     ]
    },
    {
     "name": "stdout",
     "output_type": "stream",
     "text": [
      "K-Fold #9\n",
      "Mean negativities for all classes: [0.3228669213467352, 0.3655272398368574, 0.3545500161344752]\n",
      "Mean entropies for all classes: [5.054520299426956e-15, 2.9979786090807937e-15, 3.6108990674879866e-15]\n",
      "              precision    recall  f1-score   support\n",
      "\n",
      "           0       1.00      1.00      1.00         5\n",
      "           1       1.00      0.60      0.75         5\n",
      "           2       0.71      1.00      0.83         5\n",
      "\n",
      "    accuracy                           0.87        15\n",
      "   macro avg       0.90      0.87      0.86        15\n",
      "weighted avg       0.90      0.87      0.86        15\n",
      "\n",
      "-------------------------------------------------------------------------------------------------------------------\n",
      "AVG: Scores = 0.8400000000000001 F1-Scores = 0.8273030673030674 Negativity = [0.35190631671369665, 0.33963960995964637, 0.34776860624684985] Entropy = [3.5502782980703023e-15, 3.794877542430598e-15, 3.920230122191137e-15]\n"
     ]
    },
    {
     "name": "stderr",
     "output_type": "stream",
     "text": [
      "[Parallel(n_jobs=-1)]: Done   3 out of   3 | elapsed:  1.3min finished\n",
      "[Parallel(n_jobs=-1)]: Using backend LokyBackend with 12 concurrent workers.\n"
     ]
    },
    {
     "name": "stdout",
     "output_type": "stream",
     "text": [
      "K-Fold #0\n",
      "Mean negativities for all classes: [0.2940984501385823, 0.3564476931082549, 0.32372586994587255]\n",
      "Mean entropies for all classes: [4.291357637284451e-15, 3.61762953677547e-15, 4.00828129860815e-15]\n",
      "              precision    recall  f1-score   support\n",
      "\n",
      "           0       1.00      1.00      1.00         5\n",
      "           1       1.00      0.80      0.89         5\n",
      "           2       0.83      1.00      0.91         5\n",
      "\n",
      "    accuracy                           0.93        15\n",
      "   macro avg       0.94      0.93      0.93        15\n",
      "weighted avg       0.94      0.93      0.93        15\n",
      "\n",
      "-------------------------------------------------------------------------------------------------------------------\n"
     ]
    },
    {
     "name": "stderr",
     "output_type": "stream",
     "text": [
      "[Parallel(n_jobs=-1)]: Done   3 out of   3 | elapsed:  1.3min finished\n",
      "[Parallel(n_jobs=-1)]: Using backend LokyBackend with 12 concurrent workers.\n"
     ]
    },
    {
     "name": "stdout",
     "output_type": "stream",
     "text": [
      "K-Fold #1\n",
      "Mean negativities for all classes: [0.30251892410367387, 0.3559300390795183, 0.3552395716991695]\n",
      "Mean entropies for all classes: [2.735129818691658e-15, 3.175519124429957e-15, 3.611755723623779e-15]\n",
      "              precision    recall  f1-score   support\n",
      "\n",
      "           0       1.00      1.00      1.00         5\n",
      "           1       1.00      0.80      0.89         5\n",
      "           2       0.83      1.00      0.91         5\n",
      "\n",
      "    accuracy                           0.93        15\n",
      "   macro avg       0.94      0.93      0.93        15\n",
      "weighted avg       0.94      0.93      0.93        15\n",
      "\n",
      "-------------------------------------------------------------------------------------------------------------------\n"
     ]
    },
    {
     "name": "stderr",
     "output_type": "stream",
     "text": [
      "[Parallel(n_jobs=-1)]: Done   3 out of   3 | elapsed:  1.3min finished\n",
      "[Parallel(n_jobs=-1)]: Using backend LokyBackend with 12 concurrent workers.\n"
     ]
    },
    {
     "name": "stdout",
     "output_type": "stream",
     "text": [
      "K-Fold #2\n",
      "Mean negativities for all classes: [0.3084633621080957, 0.35953496591341094, 0.3549072484429635]\n",
      "Mean entropies for all classes: [3.66374531890568e-15, 3.7974644966906496e-15, 4.855534401192264e-15]\n",
      "              precision    recall  f1-score   support\n",
      "\n",
      "           0       1.00      1.00      1.00         5\n",
      "           1       1.00      1.00      1.00         5\n",
      "           2       1.00      1.00      1.00         5\n",
      "\n",
      "    accuracy                           1.00        15\n",
      "   macro avg       1.00      1.00      1.00        15\n",
      "weighted avg       1.00      1.00      1.00        15\n",
      "\n",
      "-------------------------------------------------------------------------------------------------------------------\n"
     ]
    },
    {
     "name": "stderr",
     "output_type": "stream",
     "text": [
      "[Parallel(n_jobs=-1)]: Done   3 out of   3 | elapsed:  1.3min finished\n",
      "[Parallel(n_jobs=-1)]: Using backend LokyBackend with 12 concurrent workers.\n"
     ]
    },
    {
     "name": "stdout",
     "output_type": "stream",
     "text": [
      "K-Fold #3\n",
      "Mean negativities for all classes: [0.30413363244132835, 0.35773558393548466, 0.3546293228854518]\n",
      "Mean entropies for all classes: [4.0685010254735614e-15, 3.870428089053924e-15, 3.6777102757604464e-15]\n",
      "              precision    recall  f1-score   support\n",
      "\n",
      "           0       1.00      1.00      1.00         5\n",
      "           1       1.00      0.40      0.57         5\n",
      "           2       0.62      1.00      0.77         5\n",
      "\n",
      "    accuracy                           0.80        15\n",
      "   macro avg       0.88      0.80      0.78        15\n",
      "weighted avg       0.88      0.80      0.78        15\n",
      "\n",
      "-------------------------------------------------------------------------------------------------------------------\n"
     ]
    },
    {
     "name": "stderr",
     "output_type": "stream",
     "text": [
      "[Parallel(n_jobs=-1)]: Done   3 out of   3 | elapsed:  1.3min finished\n",
      "[Parallel(n_jobs=-1)]: Using backend LokyBackend with 12 concurrent workers.\n"
     ]
    },
    {
     "name": "stdout",
     "output_type": "stream",
     "text": [
      "K-Fold #4\n",
      "Mean negativities for all classes: [0.2903751630006421, 0.37135149542271934, 0.3710464484255]\n",
      "Mean entropies for all classes: [3.4743486304976545e-15, 4.3975200716182705e-15, 3.722321932356496e-15]\n",
      "              precision    recall  f1-score   support\n",
      "\n",
      "           0       1.00      1.00      1.00         5\n",
      "           1       0.80      0.80      0.80         5\n",
      "           2       0.80      0.80      0.80         5\n",
      "\n",
      "    accuracy                           0.87        15\n",
      "   macro avg       0.87      0.87      0.87        15\n",
      "weighted avg       0.87      0.87      0.87        15\n",
      "\n",
      "-------------------------------------------------------------------------------------------------------------------\n"
     ]
    },
    {
     "name": "stderr",
     "output_type": "stream",
     "text": [
      "[Parallel(n_jobs=-1)]: Done   3 out of   3 | elapsed:  1.3min finished\n",
      "[Parallel(n_jobs=-1)]: Using backend LokyBackend with 12 concurrent workers.\n"
     ]
    },
    {
     "name": "stdout",
     "output_type": "stream",
     "text": [
      "K-Fold #5\n",
      "Mean negativities for all classes: [0.293656048074087, 0.36164320375569387, 0.35327754367893077]\n",
      "Mean entropies for all classes: [3.3149738077244656e-15, 3.4738375653398106e-15, 3.2809726982214705e-15]\n",
      "              precision    recall  f1-score   support\n",
      "\n",
      "           0       1.00      1.00      1.00         5\n",
      "           1       1.00      0.60      0.75         5\n",
      "           2       0.71      1.00      0.83         5\n",
      "\n",
      "    accuracy                           0.87        15\n",
      "   macro avg       0.90      0.87      0.86        15\n",
      "weighted avg       0.90      0.87      0.86        15\n",
      "\n",
      "-------------------------------------------------------------------------------------------------------------------\n"
     ]
    },
    {
     "name": "stderr",
     "output_type": "stream",
     "text": [
      "[Parallel(n_jobs=-1)]: Done   3 out of   3 | elapsed:  1.3min finished\n",
      "[Parallel(n_jobs=-1)]: Using backend LokyBackend with 12 concurrent workers.\n"
     ]
    },
    {
     "name": "stdout",
     "output_type": "stream",
     "text": [
      "K-Fold #6\n",
      "Mean negativities for all classes: [0.33647652960383956, 0.37304556651700077, 0.35251213194995906]\n",
      "Mean entropies for all classes: [3.968709756593984e-15, 3.977905270042786e-15, 3.733335145356725e-15]\n",
      "              precision    recall  f1-score   support\n",
      "\n",
      "           0       1.00      1.00      1.00         5\n",
      "           1       1.00      0.40      0.57         5\n",
      "           2       0.62      1.00      0.77         5\n",
      "\n",
      "    accuracy                           0.80        15\n",
      "   macro avg       0.88      0.80      0.78        15\n",
      "weighted avg       0.88      0.80      0.78        15\n",
      "\n",
      "-------------------------------------------------------------------------------------------------------------------\n"
     ]
    },
    {
     "name": "stderr",
     "output_type": "stream",
     "text": [
      "[Parallel(n_jobs=-1)]: Done   3 out of   3 | elapsed:  1.3min finished\n",
      "[Parallel(n_jobs=-1)]: Using backend LokyBackend with 12 concurrent workers.\n"
     ]
    },
    {
     "name": "stdout",
     "output_type": "stream",
     "text": [
      "K-Fold #7\n",
      "Mean negativities for all classes: [0.2810761834091807, 0.3827302628762922, 0.34953706243195115]\n",
      "Mean entropies for all classes: [4.004665247496724e-15, 2.8313880379380154e-15, 3.8613966317506415e-15]\n",
      "              precision    recall  f1-score   support\n",
      "\n",
      "           0       1.00      1.00      1.00         5\n",
      "           1       1.00      0.40      0.57         5\n",
      "           2       0.62      1.00      0.77         5\n",
      "\n",
      "    accuracy                           0.80        15\n",
      "   macro avg       0.88      0.80      0.78        15\n",
      "weighted avg       0.88      0.80      0.78        15\n",
      "\n",
      "-------------------------------------------------------------------------------------------------------------------\n"
     ]
    },
    {
     "name": "stderr",
     "output_type": "stream",
     "text": [
      "[Parallel(n_jobs=-1)]: Done   3 out of   3 | elapsed:  1.3min finished\n",
      "[Parallel(n_jobs=-1)]: Using backend LokyBackend with 12 concurrent workers.\n"
     ]
    },
    {
     "name": "stdout",
     "output_type": "stream",
     "text": [
      "K-Fold #8\n",
      "Mean negativities for all classes: [0.3017792936315996, 0.3644536679391672, 0.3671481958876362]\n",
      "Mean entropies for all classes: [4.0534411931172955e-15, 3.851520887081306e-15, 3.30255195918462e-15]\n",
      "              precision    recall  f1-score   support\n",
      "\n",
      "           0       1.00      1.00      1.00         5\n",
      "           1       1.00      0.60      0.75         5\n",
      "           2       0.71      1.00      0.83         5\n",
      "\n",
      "    accuracy                           0.87        15\n",
      "   macro avg       0.90      0.87      0.86        15\n",
      "weighted avg       0.90      0.87      0.86        15\n",
      "\n",
      "-------------------------------------------------------------------------------------------------------------------\n"
     ]
    },
    {
     "name": "stderr",
     "output_type": "stream",
     "text": [
      "[Parallel(n_jobs=-1)]: Done   3 out of   3 | elapsed:  1.3min finished\n",
      "[Parallel(n_jobs=-1)]: Using backend LokyBackend with 12 concurrent workers.\n"
     ]
    },
    {
     "name": "stdout",
     "output_type": "stream",
     "text": [
      "K-Fold #9\n",
      "Mean negativities for all classes: [0.33514468096914646, 0.3481482326847659, 0.3366978926379166]\n",
      "Mean entropies for all classes: [2.708156147322047e-15, 3.0090644005157884e-15, 4.396266531905096e-15]\n",
      "              precision    recall  f1-score   support\n",
      "\n",
      "           0       0.67      0.80      0.73         5\n",
      "           1       0.75      0.60      0.67         5\n",
      "           2       0.80      0.80      0.80         5\n",
      "\n",
      "    accuracy                           0.73        15\n",
      "   macro avg       0.74      0.73      0.73        15\n",
      "weighted avg       0.74      0.73      0.73        15\n",
      "\n",
      "-------------------------------------------------------------------------------------------------------------------\n",
      "AVG: Scores = 0.86 F1-Scores = 0.8526181226181226 Negativity = [0.32475733773090326, 0.33789617829412055, 0.3409685254881567] Entropy = [3.972422824222691e-15, 3.1741348889151313e-15, 4.105581405596198e-15]\n"
     ]
    },
    {
     "name": "stderr",
     "output_type": "stream",
     "text": [
      "[Parallel(n_jobs=-1)]: Done   3 out of   3 | elapsed:  1.3min finished\n",
      "[Parallel(n_jobs=-1)]: Using backend LokyBackend with 12 concurrent workers.\n"
     ]
    },
    {
     "name": "stdout",
     "output_type": "stream",
     "text": [
      "K-Fold #0\n",
      "Mean negativities for all classes: [0.29795525061785527, 0.3699612239839697, 0.35564239864969144]\n",
      "Mean entropies for all classes: [3.778801596733282e-15, 5.079761270511302e-15, 3.68976249710262e-15]\n",
      "              precision    recall  f1-score   support\n",
      "\n",
      "           0       1.00      1.00      1.00         5\n",
      "           1       1.00      0.60      0.75         5\n",
      "           2       0.71      1.00      0.83         5\n",
      "\n",
      "    accuracy                           0.87        15\n",
      "   macro avg       0.90      0.87      0.86        15\n",
      "weighted avg       0.90      0.87      0.86        15\n",
      "\n",
      "-------------------------------------------------------------------------------------------------------------------\n"
     ]
    },
    {
     "name": "stderr",
     "output_type": "stream",
     "text": [
      "[Parallel(n_jobs=-1)]: Done   3 out of   3 | elapsed:  1.3min finished\n",
      "[Parallel(n_jobs=-1)]: Using backend LokyBackend with 12 concurrent workers.\n"
     ]
    },
    {
     "name": "stdout",
     "output_type": "stream",
     "text": [
      "K-Fold #1\n",
      "Mean negativities for all classes: [0.28468198665160654, 0.35712436591462865, 0.3373793863633822]\n",
      "Mean entropies for all classes: [3.3734666579581252e-15, 3.536454286880834e-15, 2.93467941706908e-15]\n",
      "              precision    recall  f1-score   support\n",
      "\n",
      "           0       1.00      1.00      1.00         5\n",
      "           1       1.00      0.80      0.89         5\n",
      "           2       0.83      1.00      0.91         5\n",
      "\n",
      "    accuracy                           0.93        15\n",
      "   macro avg       0.94      0.93      0.93        15\n",
      "weighted avg       0.94      0.93      0.93        15\n",
      "\n",
      "-------------------------------------------------------------------------------------------------------------------\n"
     ]
    },
    {
     "name": "stderr",
     "output_type": "stream",
     "text": [
      "[Parallel(n_jobs=-1)]: Done   3 out of   3 | elapsed:  1.3min finished\n",
      "[Parallel(n_jobs=-1)]: Using backend LokyBackend with 12 concurrent workers.\n"
     ]
    },
    {
     "name": "stdout",
     "output_type": "stream",
     "text": [
      "K-Fold #2\n",
      "Mean negativities for all classes: [0.30738812770833523, 0.362835058292683, 0.3638467037943189]\n",
      "Mean entropies for all classes: [3.874749542035543e-15, 3.523358209863427e-15, 3.934752744112648e-15]\n",
      "              precision    recall  f1-score   support\n",
      "\n",
      "           0       0.71      1.00      0.83         5\n",
      "           1       1.00      0.60      0.75         5\n",
      "           2       0.80      0.80      0.80         5\n",
      "\n",
      "    accuracy                           0.80        15\n",
      "   macro avg       0.84      0.80      0.79        15\n",
      "weighted avg       0.84      0.80      0.79        15\n",
      "\n",
      "-------------------------------------------------------------------------------------------------------------------\n"
     ]
    },
    {
     "name": "stderr",
     "output_type": "stream",
     "text": [
      "[Parallel(n_jobs=-1)]: Done   3 out of   3 | elapsed:  1.3min finished\n",
      "[Parallel(n_jobs=-1)]: Using backend LokyBackend with 12 concurrent workers.\n"
     ]
    },
    {
     "name": "stdout",
     "output_type": "stream",
     "text": [
      "K-Fold #3\n",
      "Mean negativities for all classes: [0.31693692178714084, 0.36879972852483306, 0.35539741917850776]\n",
      "Mean entropies for all classes: [3.904896190672889e-15, 3.825296044795849e-15, 4.049857460806258e-15]\n",
      "              precision    recall  f1-score   support\n",
      "\n",
      "           0       1.00      1.00      1.00         5\n",
      "           1       1.00      0.20      0.33         5\n",
      "           2       0.56      1.00      0.71         5\n",
      "\n",
      "    accuracy                           0.73        15\n",
      "   macro avg       0.85      0.73      0.68        15\n",
      "weighted avg       0.85      0.73      0.68        15\n",
      "\n",
      "-------------------------------------------------------------------------------------------------------------------\n"
     ]
    },
    {
     "name": "stderr",
     "output_type": "stream",
     "text": [
      "[Parallel(n_jobs=-1)]: Done   3 out of   3 | elapsed:  1.3min finished\n",
      "[Parallel(n_jobs=-1)]: Using backend LokyBackend with 12 concurrent workers.\n"
     ]
    },
    {
     "name": "stdout",
     "output_type": "stream",
     "text": [
      "K-Fold #4\n",
      "Mean negativities for all classes: [0.29794753057656786, 0.37177844835269797, 0.3584249408625322]\n",
      "Mean entropies for all classes: [4.427434002921215e-15, 3.809526681084463e-15, 3.189669473551455e-15]\n",
      "              precision    recall  f1-score   support\n",
      "\n",
      "           0       1.00      1.00      1.00         5\n",
      "           1       1.00      0.80      0.89         5\n",
      "           2       0.83      1.00      0.91         5\n",
      "\n",
      "    accuracy                           0.93        15\n",
      "   macro avg       0.94      0.93      0.93        15\n",
      "weighted avg       0.94      0.93      0.93        15\n",
      "\n",
      "-------------------------------------------------------------------------------------------------------------------\n"
     ]
    },
    {
     "name": "stderr",
     "output_type": "stream",
     "text": [
      "[Parallel(n_jobs=-1)]: Done   3 out of   3 | elapsed:  1.3min finished\n",
      "[Parallel(n_jobs=-1)]: Using backend LokyBackend with 12 concurrent workers.\n"
     ]
    },
    {
     "name": "stdout",
     "output_type": "stream",
     "text": [
      "K-Fold #5\n",
      "Mean negativities for all classes: [0.3049267029258311, 0.3832879513729794, 0.3408276975387433]\n",
      "Mean entropies for all classes: [4.86653106095644e-15, 3.955685529632137e-15, 3.337395179864763e-15]\n",
      "              precision    recall  f1-score   support\n",
      "\n",
      "           0       1.00      1.00      1.00         5\n",
      "           1       1.00      0.40      0.57         5\n",
      "           2       0.62      1.00      0.77         5\n",
      "\n",
      "    accuracy                           0.80        15\n",
      "   macro avg       0.88      0.80      0.78        15\n",
      "weighted avg       0.88      0.80      0.78        15\n",
      "\n",
      "-------------------------------------------------------------------------------------------------------------------\n"
     ]
    },
    {
     "name": "stderr",
     "output_type": "stream",
     "text": [
      "[Parallel(n_jobs=-1)]: Done   3 out of   3 | elapsed:  1.3min finished\n",
      "[Parallel(n_jobs=-1)]: Using backend LokyBackend with 12 concurrent workers.\n"
     ]
    },
    {
     "name": "stdout",
     "output_type": "stream",
     "text": [
      "K-Fold #6\n",
      "Mean negativities for all classes: [0.2906801062583496, 0.34979723370810145, 0.34903238388507607]\n",
      "Mean entropies for all classes: [3.265547558679516e-15, 3.4912757156815287e-15, 3.726213519558971e-15]\n",
      "              precision    recall  f1-score   support\n",
      "\n",
      "           0       1.00      1.00      1.00         5\n",
      "           1       1.00      1.00      1.00         5\n",
      "           2       1.00      1.00      1.00         5\n",
      "\n",
      "    accuracy                           1.00        15\n",
      "   macro avg       1.00      1.00      1.00        15\n",
      "weighted avg       1.00      1.00      1.00        15\n",
      "\n",
      "-------------------------------------------------------------------------------------------------------------------\n"
     ]
    },
    {
     "name": "stderr",
     "output_type": "stream",
     "text": [
      "[Parallel(n_jobs=-1)]: Done   3 out of   3 | elapsed:  1.3min finished\n",
      "[Parallel(n_jobs=-1)]: Using backend LokyBackend with 12 concurrent workers.\n"
     ]
    },
    {
     "name": "stdout",
     "output_type": "stream",
     "text": [
      "K-Fold #7\n",
      "Mean negativities for all classes: [0.2774726345580326, 0.3725104596298069, 0.3534919638641506]\n",
      "Mean entropies for all classes: [3.13180164086338e-15, 4.482029616286329e-15, 3.3343713472730778e-15]\n",
      "              precision    recall  f1-score   support\n",
      "\n",
      "           0       0.83      1.00      0.91         5\n",
      "           1       1.00      0.20      0.33         5\n",
      "           2       0.62      1.00      0.77         5\n",
      "\n",
      "    accuracy                           0.73        15\n",
      "   macro avg       0.82      0.73      0.67        15\n",
      "weighted avg       0.82      0.73      0.67        15\n",
      "\n",
      "-------------------------------------------------------------------------------------------------------------------\n"
     ]
    },
    {
     "name": "stderr",
     "output_type": "stream",
     "text": [
      "[Parallel(n_jobs=-1)]: Done   3 out of   3 | elapsed:  1.3min finished\n",
      "[Parallel(n_jobs=-1)]: Using backend LokyBackend with 12 concurrent workers.\n"
     ]
    },
    {
     "name": "stdout",
     "output_type": "stream",
     "text": [
      "K-Fold #8\n",
      "Mean negativities for all classes: [0.33641764293662507, 0.36127348162463074, 0.3570989202785468]\n",
      "Mean entropies for all classes: [3.939486178290631e-15, 4.331448150813098e-15, 3.4257845123910475e-15]\n",
      "              precision    recall  f1-score   support\n",
      "\n",
      "           0       1.00      0.80      0.89         5\n",
      "           1       0.75      0.60      0.67         5\n",
      "           2       0.71      1.00      0.83         5\n",
      "\n",
      "    accuracy                           0.80        15\n",
      "   macro avg       0.82      0.80      0.80        15\n",
      "weighted avg       0.82      0.80      0.80        15\n",
      "\n",
      "-------------------------------------------------------------------------------------------------------------------\n"
     ]
    },
    {
     "name": "stderr",
     "output_type": "stream",
     "text": [
      "[Parallel(n_jobs=-1)]: Done   3 out of   3 | elapsed:  1.3min finished\n",
      "[Parallel(n_jobs=-1)]: Using backend LokyBackend with 12 concurrent workers.\n"
     ]
    },
    {
     "name": "stdout",
     "output_type": "stream",
     "text": [
      "K-Fold #9\n",
      "Mean negativities for all classes: [0.29822154490181263, 0.34185939243388813, 0.3523832695385663]\n",
      "Mean entropies for all classes: [4.068500334573138e-15, 3.1451070546958835e-15, 3.6492288369621816e-15]\n",
      "              precision    recall  f1-score   support\n",
      "\n",
      "           0       1.00      1.00      1.00         5\n",
      "           1       1.00      0.60      0.75         5\n",
      "           2       0.71      1.00      0.83         5\n",
      "\n",
      "    accuracy                           0.87        15\n",
      "   macro avg       0.90      0.87      0.86        15\n",
      "weighted avg       0.90      0.87      0.86        15\n",
      "\n",
      "-------------------------------------------------------------------------------------------------------------------\n",
      "AVG: Scores = 0.8466666666666667 F1-Scores = 0.831159396159396 Negativity = [0.3411862910838388, 0.3263952463098725, 0.34468996326511236] Entropy = [4.182775121449068e-15, 3.281533453969346e-15, 3.777620165337206e-15]\n"
     ]
    },
    {
     "name": "stderr",
     "output_type": "stream",
     "text": [
      "[Parallel(n_jobs=-1)]: Done   3 out of   3 | elapsed:  1.3min finished\n",
      "[Parallel(n_jobs=-1)]: Using backend LokyBackend with 12 concurrent workers.\n"
     ]
    },
    {
     "name": "stdout",
     "output_type": "stream",
     "text": [
      "K-Fold #0\n",
      "Mean negativities for all classes: [0.29791027353192207, 0.36098264602803665, 0.35097521287071043]\n",
      "Mean entropies for all classes: [3.593243338098165e-15, 3.2189481073297657e-15, 3.419036833396722e-15]\n",
      "              precision    recall  f1-score   support\n",
      "\n",
      "           0       1.00      1.00      1.00         5\n",
      "           1       1.00      0.80      0.89         5\n",
      "           2       0.83      1.00      0.91         5\n",
      "\n",
      "    accuracy                           0.93        15\n",
      "   macro avg       0.94      0.93      0.93        15\n",
      "weighted avg       0.94      0.93      0.93        15\n",
      "\n",
      "-------------------------------------------------------------------------------------------------------------------\n"
     ]
    },
    {
     "name": "stderr",
     "output_type": "stream",
     "text": [
      "[Parallel(n_jobs=-1)]: Done   3 out of   3 | elapsed:  1.3min finished\n",
      "[Parallel(n_jobs=-1)]: Using backend LokyBackend with 12 concurrent workers.\n"
     ]
    },
    {
     "name": "stdout",
     "output_type": "stream",
     "text": [
      "K-Fold #1\n",
      "Mean negativities for all classes: [0.3205486610074674, 0.3615776953639142, 0.3740813318408423]\n",
      "Mean entropies for all classes: [3.695311012192668e-15, 3.657554541030014e-15, 4.593615038766378e-15]\n",
      "              precision    recall  f1-score   support\n",
      "\n",
      "           0       0.83      1.00      0.91         5\n",
      "           1       1.00      0.80      0.89         5\n",
      "           2       1.00      1.00      1.00         5\n",
      "\n",
      "    accuracy                           0.93        15\n",
      "   macro avg       0.94      0.93      0.93        15\n",
      "weighted avg       0.94      0.93      0.93        15\n",
      "\n",
      "-------------------------------------------------------------------------------------------------------------------\n"
     ]
    },
    {
     "name": "stderr",
     "output_type": "stream",
     "text": [
      "[Parallel(n_jobs=-1)]: Done   3 out of   3 | elapsed:  1.3min finished\n",
      "[Parallel(n_jobs=-1)]: Using backend LokyBackend with 12 concurrent workers.\n"
     ]
    },
    {
     "name": "stdout",
     "output_type": "stream",
     "text": [
      "K-Fold #2\n",
      "Mean negativities for all classes: [0.29588304893578504, 0.3738087004586424, 0.34922877750790027]\n",
      "Mean entropies for all classes: [3.845565341399859e-15, 3.619467021684553e-15, 3.879517928859349e-15]\n",
      "              precision    recall  f1-score   support\n",
      "\n",
      "           0       1.00      1.00      1.00         5\n",
      "           1       1.00      0.40      0.57         5\n",
      "           2       0.62      1.00      0.77         5\n",
      "\n",
      "    accuracy                           0.80        15\n",
      "   macro avg       0.88      0.80      0.78        15\n",
      "weighted avg       0.88      0.80      0.78        15\n",
      "\n",
      "-------------------------------------------------------------------------------------------------------------------\n"
     ]
    },
    {
     "name": "stderr",
     "output_type": "stream",
     "text": [
      "[Parallel(n_jobs=-1)]: Done   3 out of   3 | elapsed:  1.3min finished\n",
      "[Parallel(n_jobs=-1)]: Using backend LokyBackend with 12 concurrent workers.\n"
     ]
    },
    {
     "name": "stdout",
     "output_type": "stream",
     "text": [
      "K-Fold #3\n",
      "Mean negativities for all classes: [0.3140517304014301, 0.3718817098622187, 0.3153119088694069]\n",
      "Mean entropies for all classes: [4.2707688450337546e-15, 3.3435839271435527e-15, 2.3128236542752046e-15]\n",
      "              precision    recall  f1-score   support\n",
      "\n",
      "           0       1.00      1.00      1.00         5\n",
      "           1       1.00      0.80      0.89         5\n",
      "           2       0.83      1.00      0.91         5\n",
      "\n",
      "    accuracy                           0.93        15\n",
      "   macro avg       0.94      0.93      0.93        15\n",
      "weighted avg       0.94      0.93      0.93        15\n",
      "\n",
      "-------------------------------------------------------------------------------------------------------------------\n"
     ]
    },
    {
     "name": "stderr",
     "output_type": "stream",
     "text": [
      "[Parallel(n_jobs=-1)]: Done   3 out of   3 | elapsed:  1.3min finished\n",
      "c:\\ProgramData\\Anaconda3\\lib\\site-packages\\sklearn\\metrics\\_classification.py:1344: UndefinedMetricWarning: Precision and F-score are ill-defined and being set to 0.0 in labels with no predicted samples. Use `zero_division` parameter to control this behavior.\n",
      "  _warn_prf(average, modifier, msg_start, len(result))\n",
      "c:\\ProgramData\\Anaconda3\\lib\\site-packages\\sklearn\\metrics\\_classification.py:1344: UndefinedMetricWarning: Precision and F-score are ill-defined and being set to 0.0 in labels with no predicted samples. Use `zero_division` parameter to control this behavior.\n",
      "  _warn_prf(average, modifier, msg_start, len(result))\n",
      "c:\\ProgramData\\Anaconda3\\lib\\site-packages\\sklearn\\metrics\\_classification.py:1344: UndefinedMetricWarning: Precision and F-score are ill-defined and being set to 0.0 in labels with no predicted samples. Use `zero_division` parameter to control this behavior.\n",
      "  _warn_prf(average, modifier, msg_start, len(result))\n",
      "[Parallel(n_jobs=-1)]: Using backend LokyBackend with 12 concurrent workers.\n"
     ]
    },
    {
     "name": "stdout",
     "output_type": "stream",
     "text": [
      "K-Fold #4\n",
      "Mean negativities for all classes: [0.28320423162292285, 0.37582934856027445, 0.35289919137131204]\n",
      "Mean entropies for all classes: [3.794274773085206e-15, 3.650630277032509e-15, 3.851810905726098e-15]\n",
      "              precision    recall  f1-score   support\n",
      "\n",
      "           0       1.00      1.00      1.00         5\n",
      "           1       0.00      0.00      0.00         5\n",
      "           2       0.50      1.00      0.67         5\n",
      "\n",
      "    accuracy                           0.67        15\n",
      "   macro avg       0.50      0.67      0.56        15\n",
      "weighted avg       0.50      0.67      0.56        15\n",
      "\n",
      "-------------------------------------------------------------------------------------------------------------------\n"
     ]
    },
    {
     "name": "stderr",
     "output_type": "stream",
     "text": [
      "[Parallel(n_jobs=-1)]: Done   3 out of   3 | elapsed:  1.3min finished\n",
      "c:\\ProgramData\\Anaconda3\\lib\\site-packages\\sklearn\\metrics\\_classification.py:1344: UndefinedMetricWarning: Precision and F-score are ill-defined and being set to 0.0 in labels with no predicted samples. Use `zero_division` parameter to control this behavior.\n",
      "  _warn_prf(average, modifier, msg_start, len(result))\n",
      "c:\\ProgramData\\Anaconda3\\lib\\site-packages\\sklearn\\metrics\\_classification.py:1344: UndefinedMetricWarning: Precision and F-score are ill-defined and being set to 0.0 in labels with no predicted samples. Use `zero_division` parameter to control this behavior.\n",
      "  _warn_prf(average, modifier, msg_start, len(result))\n",
      "c:\\ProgramData\\Anaconda3\\lib\\site-packages\\sklearn\\metrics\\_classification.py:1344: UndefinedMetricWarning: Precision and F-score are ill-defined and being set to 0.0 in labels with no predicted samples. Use `zero_division` parameter to control this behavior.\n",
      "  _warn_prf(average, modifier, msg_start, len(result))\n",
      "[Parallel(n_jobs=-1)]: Using backend LokyBackend with 12 concurrent workers.\n"
     ]
    },
    {
     "name": "stdout",
     "output_type": "stream",
     "text": [
      "K-Fold #5\n",
      "Mean negativities for all classes: [0.2993292350109718, 0.38223576974127255, 0.3554334749428317]\n",
      "Mean entropies for all classes: [3.575187169623383e-15, 3.200377898269954e-15, 3.3783283735166722e-15]\n",
      "              precision    recall  f1-score   support\n",
      "\n",
      "           0       1.00      1.00      1.00         5\n",
      "           1       0.00      0.00      0.00         5\n",
      "           2       0.50      1.00      0.67         5\n",
      "\n",
      "    accuracy                           0.67        15\n",
      "   macro avg       0.50      0.67      0.56        15\n",
      "weighted avg       0.50      0.67      0.56        15\n",
      "\n",
      "-------------------------------------------------------------------------------------------------------------------\n"
     ]
    },
    {
     "name": "stderr",
     "output_type": "stream",
     "text": [
      "[Parallel(n_jobs=-1)]: Done   3 out of   3 | elapsed:  1.3min finished\n",
      "[Parallel(n_jobs=-1)]: Using backend LokyBackend with 12 concurrent workers.\n"
     ]
    },
    {
     "name": "stdout",
     "output_type": "stream",
     "text": [
      "K-Fold #6\n",
      "Mean negativities for all classes: [0.33305399386784834, 0.35769680992528924, 0.3544089527065799]\n",
      "Mean entropies for all classes: [4.300548550621086e-15, 3.631693421324184e-15, 3.814514719805918e-15]\n",
      "              precision    recall  f1-score   support\n",
      "\n",
      "           0       1.00      0.80      0.89         5\n",
      "           1       0.67      0.40      0.50         5\n",
      "           2       0.62      1.00      0.77         5\n",
      "\n",
      "    accuracy                           0.73        15\n",
      "   macro avg       0.76      0.73      0.72        15\n",
      "weighted avg       0.76      0.73      0.72        15\n",
      "\n",
      "-------------------------------------------------------------------------------------------------------------------\n"
     ]
    },
    {
     "name": "stderr",
     "output_type": "stream",
     "text": [
      "[Parallel(n_jobs=-1)]: Done   3 out of   3 | elapsed:  1.3min finished\n",
      "[Parallel(n_jobs=-1)]: Using backend LokyBackend with 12 concurrent workers.\n"
     ]
    },
    {
     "name": "stdout",
     "output_type": "stream",
     "text": [
      "K-Fold #7\n",
      "Mean negativities for all classes: [0.2965788955811934, 0.3520173228537438, 0.3669891638216539]\n",
      "Mean entropies for all classes: [4.638625256180225e-15, 3.621608110897029e-15, 4.2792771657732005e-15]\n",
      "              precision    recall  f1-score   support\n",
      "\n",
      "           0       1.00      1.00      1.00         5\n",
      "           1       0.83      1.00      0.91         5\n",
      "           2       1.00      0.80      0.89         5\n",
      "\n",
      "    accuracy                           0.93        15\n",
      "   macro avg       0.94      0.93      0.93        15\n",
      "weighted avg       0.94      0.93      0.93        15\n",
      "\n",
      "-------------------------------------------------------------------------------------------------------------------\n"
     ]
    },
    {
     "name": "stderr",
     "output_type": "stream",
     "text": [
      "[Parallel(n_jobs=-1)]: Done   3 out of   3 | elapsed:  1.3min finished\n",
      "[Parallel(n_jobs=-1)]: Using backend LokyBackend with 12 concurrent workers.\n"
     ]
    },
    {
     "name": "stdout",
     "output_type": "stream",
     "text": [
      "K-Fold #8\n",
      "Mean negativities for all classes: [0.32453243992983416, 0.35725199276320224, 0.35962108868208276]\n",
      "Mean entropies for all classes: [2.9083300389155183e-15, 4.448658287837301e-15, 3.6638385166857234e-15]\n",
      "              precision    recall  f1-score   support\n",
      "\n",
      "           0       1.00      1.00      1.00         5\n",
      "           1       1.00      0.60      0.75         5\n",
      "           2       0.71      1.00      0.83         5\n",
      "\n",
      "    accuracy                           0.87        15\n",
      "   macro avg       0.90      0.87      0.86        15\n",
      "weighted avg       0.90      0.87      0.86        15\n",
      "\n",
      "-------------------------------------------------------------------------------------------------------------------\n"
     ]
    },
    {
     "name": "stderr",
     "output_type": "stream",
     "text": [
      "[Parallel(n_jobs=-1)]: Done   3 out of   3 | elapsed:  1.3min finished\n",
      "[Parallel(n_jobs=-1)]: Using backend LokyBackend with 12 concurrent workers.\n"
     ]
    },
    {
     "name": "stdout",
     "output_type": "stream",
     "text": [
      "K-Fold #9\n",
      "Mean negativities for all classes: [0.28470145805338987, 0.37217697510083875, 0.35453702254439373]\n",
      "Mean entropies for all classes: [3.748000676509395e-15, 3.276228525028682e-15, 3.132852331195523e-15]\n",
      "              precision    recall  f1-score   support\n",
      "\n",
      "           0       1.00      1.00      1.00         5\n",
      "           1       1.00      0.60      0.75         5\n",
      "           2       0.71      1.00      0.83         5\n",
      "\n",
      "    accuracy                           0.87        15\n",
      "   macro avg       0.90      0.87      0.86        15\n",
      "weighted avg       0.90      0.87      0.86        15\n",
      "\n",
      "-------------------------------------------------------------------------------------------------------------------\n",
      "AVG: Scores = 0.8333333333333334 F1-Scores = 0.8063566063566062 Negativity = [0.33662271081022305, 0.3520692294040746, 0.3396401756341092] Entropy = [3.4104094262748843e-15, 3.982160197329686e-15, 3.781516763981254e-15]\n"
     ]
    },
    {
     "name": "stderr",
     "output_type": "stream",
     "text": [
      "[Parallel(n_jobs=-1)]: Done   3 out of   3 | elapsed:  1.3min finished\n",
      "[Parallel(n_jobs=-1)]: Using backend LokyBackend with 12 concurrent workers.\n"
     ]
    },
    {
     "name": "stdout",
     "output_type": "stream",
     "text": [
      "K-Fold #0\n",
      "Mean negativities for all classes: [0.3086379294070347, 0.355167041931506, 0.37196165499863354]\n",
      "Mean entropies for all classes: [3.774248238543917e-15, 3.736239910420693e-15, 2.8114059451103636e-15]\n",
      "              precision    recall  f1-score   support\n",
      "\n",
      "           0       0.83      1.00      0.91         5\n",
      "           1       1.00      0.80      0.89         5\n",
      "           2       0.80      0.80      0.80         5\n",
      "\n",
      "    accuracy                           0.87        15\n",
      "   macro avg       0.88      0.87      0.87        15\n",
      "weighted avg       0.88      0.87      0.87        15\n",
      "\n",
      "-------------------------------------------------------------------------------------------------------------------\n"
     ]
    },
    {
     "name": "stderr",
     "output_type": "stream",
     "text": [
      "[Parallel(n_jobs=-1)]: Done   3 out of   3 | elapsed:  1.3min finished\n",
      "[Parallel(n_jobs=-1)]: Using backend LokyBackend with 12 concurrent workers.\n"
     ]
    },
    {
     "name": "stdout",
     "output_type": "stream",
     "text": [
      "K-Fold #1\n",
      "Mean negativities for all classes: [0.3190551326156449, 0.3686806464402908, 0.35718775782271633]\n",
      "Mean entropies for all classes: [3.889419117741023e-15, 3.867820437823619e-15, 3.260511743256216e-15]\n",
      "              precision    recall  f1-score   support\n",
      "\n",
      "           0       1.00      1.00      1.00         5\n",
      "           1       1.00      0.40      0.57         5\n",
      "           2       0.62      1.00      0.77         5\n",
      "\n",
      "    accuracy                           0.80        15\n",
      "   macro avg       0.88      0.80      0.78        15\n",
      "weighted avg       0.88      0.80      0.78        15\n",
      "\n",
      "-------------------------------------------------------------------------------------------------------------------\n"
     ]
    },
    {
     "name": "stderr",
     "output_type": "stream",
     "text": [
      "[Parallel(n_jobs=-1)]: Done   3 out of   3 | elapsed:  1.3min finished\n",
      "[Parallel(n_jobs=-1)]: Using backend LokyBackend with 12 concurrent workers.\n"
     ]
    },
    {
     "name": "stdout",
     "output_type": "stream",
     "text": [
      "K-Fold #2\n",
      "Mean negativities for all classes: [0.29906044774668145, 0.3828640055712585, 0.3317250475400327]\n",
      "Mean entropies for all classes: [2.5744820452665837e-15, 3.5384006253987557e-15, 4.138793244445281e-15]\n",
      "              precision    recall  f1-score   support\n",
      "\n",
      "           0       0.83      1.00      0.91         5\n",
      "           1       1.00      0.40      0.57         5\n",
      "           2       0.71      1.00      0.83         5\n",
      "\n",
      "    accuracy                           0.80        15\n",
      "   macro avg       0.85      0.80      0.77        15\n",
      "weighted avg       0.85      0.80      0.77        15\n",
      "\n",
      "-------------------------------------------------------------------------------------------------------------------\n"
     ]
    },
    {
     "name": "stderr",
     "output_type": "stream",
     "text": [
      "[Parallel(n_jobs=-1)]: Done   3 out of   3 | elapsed:  1.3min finished\n",
      "[Parallel(n_jobs=-1)]: Using backend LokyBackend with 12 concurrent workers.\n"
     ]
    },
    {
     "name": "stdout",
     "output_type": "stream",
     "text": [
      "K-Fold #3\n",
      "Mean negativities for all classes: [0.2839706501259762, 0.355635809703382, 0.35346492775646726]\n",
      "Mean entropies for all classes: [3.431884073816007e-15, 3.333405594348994e-15, 3.329313483559893e-15]\n",
      "              precision    recall  f1-score   support\n",
      "\n",
      "           0       1.00      1.00      1.00         5\n",
      "           1       1.00      0.60      0.75         5\n",
      "           2       0.71      1.00      0.83         5\n",
      "\n",
      "    accuracy                           0.87        15\n",
      "   macro avg       0.90      0.87      0.86        15\n",
      "weighted avg       0.90      0.87      0.86        15\n",
      "\n",
      "-------------------------------------------------------------------------------------------------------------------\n"
     ]
    },
    {
     "name": "stderr",
     "output_type": "stream",
     "text": [
      "[Parallel(n_jobs=-1)]: Done   3 out of   3 | elapsed:  1.3min finished\n",
      "[Parallel(n_jobs=-1)]: Using backend LokyBackend with 12 concurrent workers.\n"
     ]
    },
    {
     "name": "stdout",
     "output_type": "stream",
     "text": [
      "K-Fold #4\n",
      "Mean negativities for all classes: [0.3082136099408553, 0.35606477507012374, 0.35110087887637004]\n",
      "Mean entropies for all classes: [4.104587093634761e-15, 4.029441540099649e-15, 3.1278616804551313e-15]\n",
      "              precision    recall  f1-score   support\n",
      "\n",
      "           0       1.00      1.00      1.00         5\n",
      "           1       1.00      0.40      0.57         5\n",
      "           2       0.62      1.00      0.77         5\n",
      "\n",
      "    accuracy                           0.80        15\n",
      "   macro avg       0.88      0.80      0.78        15\n",
      "weighted avg       0.88      0.80      0.78        15\n",
      "\n",
      "-------------------------------------------------------------------------------------------------------------------\n"
     ]
    },
    {
     "name": "stderr",
     "output_type": "stream",
     "text": [
      "[Parallel(n_jobs=-1)]: Done   3 out of   3 | elapsed:  1.3min finished\n",
      "[Parallel(n_jobs=-1)]: Using backend LokyBackend with 12 concurrent workers.\n"
     ]
    },
    {
     "name": "stdout",
     "output_type": "stream",
     "text": [
      "K-Fold #5\n",
      "Mean negativities for all classes: [0.2945305854379058, 0.37271319415363796, 0.37099411996585185]\n",
      "Mean entropies for all classes: [3.636036150411878e-15, 3.3327625131324484e-15, 4.172962974334676e-15]\n",
      "              precision    recall  f1-score   support\n",
      "\n",
      "           0       0.83      1.00      0.91         5\n",
      "           1       1.00      0.80      0.89         5\n",
      "           2       1.00      1.00      1.00         5\n",
      "\n",
      "    accuracy                           0.93        15\n",
      "   macro avg       0.94      0.93      0.93        15\n",
      "weighted avg       0.94      0.93      0.93        15\n",
      "\n",
      "-------------------------------------------------------------------------------------------------------------------\n"
     ]
    },
    {
     "name": "stderr",
     "output_type": "stream",
     "text": [
      "[Parallel(n_jobs=-1)]: Done   3 out of   3 | elapsed:  1.3min finished\n",
      "[Parallel(n_jobs=-1)]: Using backend LokyBackend with 12 concurrent workers.\n"
     ]
    },
    {
     "name": "stdout",
     "output_type": "stream",
     "text": [
      "K-Fold #6\n",
      "Mean negativities for all classes: [0.29663088317814756, 0.35793985523449423, 0.3609179012052827]\n",
      "Mean entropies for all classes: [3.6818693157032215e-15, 3.2578703074766917e-15, 3.754225950976484e-15]\n",
      "              precision    recall  f1-score   support\n",
      "\n",
      "           0       1.00      1.00      1.00         5\n",
      "           1       1.00      1.00      1.00         5\n",
      "           2       1.00      1.00      1.00         5\n",
      "\n",
      "    accuracy                           1.00        15\n",
      "   macro avg       1.00      1.00      1.00        15\n",
      "weighted avg       1.00      1.00      1.00        15\n",
      "\n",
      "-------------------------------------------------------------------------------------------------------------------\n"
     ]
    },
    {
     "name": "stderr",
     "output_type": "stream",
     "text": [
      "[Parallel(n_jobs=-1)]: Done   3 out of   3 | elapsed:  1.3min finished\n",
      "[Parallel(n_jobs=-1)]: Using backend LokyBackend with 12 concurrent workers.\n"
     ]
    },
    {
     "name": "stdout",
     "output_type": "stream",
     "text": [
      "K-Fold #7\n",
      "Mean negativities for all classes: [0.3364719740431688, 0.35914172907512826, 0.3560709370724383]\n",
      "Mean entropies for all classes: [3.627383590437364e-15, 5.053767460829841e-15, 4.2533129611863805e-15]\n",
      "              precision    recall  f1-score   support\n",
      "\n",
      "           0       1.00      0.80      0.89         5\n",
      "           1       0.75      0.60      0.67         5\n",
      "           2       0.71      1.00      0.83         5\n",
      "\n",
      "    accuracy                           0.80        15\n",
      "   macro avg       0.82      0.80      0.80        15\n",
      "weighted avg       0.82      0.80      0.80        15\n",
      "\n",
      "-------------------------------------------------------------------------------------------------------------------\n"
     ]
    },
    {
     "name": "stderr",
     "output_type": "stream",
     "text": [
      "[Parallel(n_jobs=-1)]: Done   3 out of   3 | elapsed:  1.3min finished\n",
      "[Parallel(n_jobs=-1)]: Using backend LokyBackend with 12 concurrent workers.\n"
     ]
    },
    {
     "name": "stdout",
     "output_type": "stream",
     "text": [
      "K-Fold #8\n",
      "Mean negativities for all classes: [0.29605533417316565, 0.3550734671871547, 0.3480264750214108]\n",
      "Mean entropies for all classes: [3.6631553939663195e-15, 3.5515087392228567e-15, 3.0460015667316415e-15]\n",
      "              precision    recall  f1-score   support\n",
      "\n",
      "           0       1.00      1.00      1.00         5\n",
      "           1       1.00      0.80      0.89         5\n",
      "           2       0.83      1.00      0.91         5\n",
      "\n",
      "    accuracy                           0.93        15\n",
      "   macro avg       0.94      0.93      0.93        15\n",
      "weighted avg       0.94      0.93      0.93        15\n",
      "\n",
      "-------------------------------------------------------------------------------------------------------------------\n"
     ]
    },
    {
     "name": "stderr",
     "output_type": "stream",
     "text": [
      "[Parallel(n_jobs=-1)]: Done   3 out of   3 | elapsed:  1.3min finished\n",
      "[Parallel(n_jobs=-1)]: Using backend LokyBackend with 12 concurrent workers.\n"
     ]
    },
    {
     "name": "stdout",
     "output_type": "stream",
     "text": [
      "K-Fold #9\n",
      "Mean negativities for all classes: [0.2967398938026262, 0.35906123758220926, 0.3525153203364622]\n",
      "Mean entropies for all classes: [3.9728472501382924e-15, 3.6194358814229665e-15, 3.682454355916052e-15]\n",
      "              precision    recall  f1-score   support\n",
      "\n",
      "           0       1.00      1.00      1.00         5\n",
      "           1       1.00      0.80      0.89         5\n",
      "           2       0.83      1.00      0.91         5\n",
      "\n",
      "    accuracy                           0.93        15\n",
      "   macro avg       0.94      0.93      0.93        15\n",
      "weighted avg       0.94      0.93      0.93        15\n",
      "\n",
      "-------------------------------------------------------------------------------------------------------------------\n",
      "AVG: Scores = 0.8733333333333334 F1-Scores = 0.8653104303104303 Negativity = [0.34525554211239146, 0.34830784562621736, 0.3378831669526576] Entropy = [3.4406313646916578e-15, 3.6725837662736194e-15, 3.417225305036873e-15]\n"
     ]
    },
    {
     "name": "stderr",
     "output_type": "stream",
     "text": [
      "[Parallel(n_jobs=-1)]: Done   3 out of   3 | elapsed:  1.3min finished\n",
      "[Parallel(n_jobs=-1)]: Using backend LokyBackend with 12 concurrent workers.\n"
     ]
    },
    {
     "name": "stdout",
     "output_type": "stream",
     "text": [
      "K-Fold #0\n",
      "Mean negativities for all classes: [0.3212570920983794, 0.3785530952767947, 0.35560108704987836]\n",
      "Mean entropies for all classes: [3.2066378168605477e-15, 3.531082977442523e-15, 3.885376562030915e-15]\n",
      "              precision    recall  f1-score   support\n",
      "\n",
      "           0       1.00      1.00      1.00         5\n",
      "           1       1.00      0.40      0.57         5\n",
      "           2       0.62      1.00      0.77         5\n",
      "\n",
      "    accuracy                           0.80        15\n",
      "   macro avg       0.88      0.80      0.78        15\n",
      "weighted avg       0.88      0.80      0.78        15\n",
      "\n",
      "-------------------------------------------------------------------------------------------------------------------\n"
     ]
    },
    {
     "name": "stderr",
     "output_type": "stream",
     "text": [
      "[Parallel(n_jobs=-1)]: Done   3 out of   3 | elapsed:  1.3min finished\n",
      "[Parallel(n_jobs=-1)]: Using backend LokyBackend with 12 concurrent workers.\n"
     ]
    },
    {
     "name": "stdout",
     "output_type": "stream",
     "text": [
      "K-Fold #1\n",
      "Mean negativities for all classes: [0.3135051928315315, 0.36359856625785386, 0.3559020287508151]\n",
      "Mean entropies for all classes: [3.820526226995035e-15, 3.263481135695981e-15, 3.676087208387996e-15]\n",
      "              precision    recall  f1-score   support\n",
      "\n",
      "           0       0.83      1.00      0.91         5\n",
      "           1       1.00      0.80      0.89         5\n",
      "           2       1.00      1.00      1.00         5\n",
      "\n",
      "    accuracy                           0.93        15\n",
      "   macro avg       0.94      0.93      0.93        15\n",
      "weighted avg       0.94      0.93      0.93        15\n",
      "\n",
      "-------------------------------------------------------------------------------------------------------------------\n"
     ]
    },
    {
     "name": "stderr",
     "output_type": "stream",
     "text": [
      "[Parallel(n_jobs=-1)]: Done   3 out of   3 | elapsed:  1.3min finished\n",
      "[Parallel(n_jobs=-1)]: Using backend LokyBackend with 12 concurrent workers.\n"
     ]
    },
    {
     "name": "stdout",
     "output_type": "stream",
     "text": [
      "K-Fold #2\n",
      "Mean negativities for all classes: [0.2786637772063194, 0.35356909544655696, 0.35311665811570664]\n",
      "Mean entropies for all classes: [3.330900568230644e-15, 4.320026618166992e-15, 4.1540338871347005e-15]\n",
      "              precision    recall  f1-score   support\n",
      "\n",
      "           0       1.00      1.00      1.00         5\n",
      "           1       1.00      0.80      0.89         5\n",
      "           2       0.83      1.00      0.91         5\n",
      "\n",
      "    accuracy                           0.93        15\n",
      "   macro avg       0.94      0.93      0.93        15\n",
      "weighted avg       0.94      0.93      0.93        15\n",
      "\n",
      "-------------------------------------------------------------------------------------------------------------------\n"
     ]
    },
    {
     "name": "stderr",
     "output_type": "stream",
     "text": [
      "[Parallel(n_jobs=-1)]: Done   3 out of   3 | elapsed:  1.3min finished\n",
      "[Parallel(n_jobs=-1)]: Using backend LokyBackend with 12 concurrent workers.\n"
     ]
    },
    {
     "name": "stdout",
     "output_type": "stream",
     "text": [
      "K-Fold #3\n",
      "Mean negativities for all classes: [0.29709269978977504, 0.35747730135895794, 0.3523301173355169]\n",
      "Mean entropies for all classes: [4.380143613058718e-15, 3.3173371377743107e-15, 3.3527145705677905e-15]\n",
      "              precision    recall  f1-score   support\n",
      "\n",
      "           0       1.00      1.00      1.00         5\n",
      "           1       1.00      0.60      0.75         5\n",
      "           2       0.71      1.00      0.83         5\n",
      "\n",
      "    accuracy                           0.87        15\n",
      "   macro avg       0.90      0.87      0.86        15\n",
      "weighted avg       0.90      0.87      0.86        15\n",
      "\n",
      "-------------------------------------------------------------------------------------------------------------------\n"
     ]
    },
    {
     "name": "stderr",
     "output_type": "stream",
     "text": [
      "[Parallel(n_jobs=-1)]: Done   3 out of   3 | elapsed:  1.3min finished\n",
      "[Parallel(n_jobs=-1)]: Using backend LokyBackend with 12 concurrent workers.\n"
     ]
    },
    {
     "name": "stdout",
     "output_type": "stream",
     "text": [
      "K-Fold #4\n",
      "Mean negativities for all classes: [0.3069369306286827, 0.3590366632179567, 0.35428816202309754]\n",
      "Mean entropies for all classes: [3.640811963063357e-15, 4.9671507286719654e-15, 3.7916054455070255e-15]\n",
      "              precision    recall  f1-score   support\n",
      "\n",
      "           0       1.00      1.00      1.00         5\n",
      "           1       1.00      0.60      0.75         5\n",
      "           2       0.71      1.00      0.83         5\n",
      "\n",
      "    accuracy                           0.87        15\n",
      "   macro avg       0.90      0.87      0.86        15\n",
      "weighted avg       0.90      0.87      0.86        15\n",
      "\n",
      "-------------------------------------------------------------------------------------------------------------------\n"
     ]
    },
    {
     "name": "stderr",
     "output_type": "stream",
     "text": [
      "[Parallel(n_jobs=-1)]: Done   3 out of   3 | elapsed:  1.3min finished\n",
      "[Parallel(n_jobs=-1)]: Using backend LokyBackend with 12 concurrent workers.\n"
     ]
    },
    {
     "name": "stdout",
     "output_type": "stream",
     "text": [
      "K-Fold #5\n",
      "Mean negativities for all classes: [0.3389320017473108, 0.36183192747761517, 0.362070033830209]\n",
      "Mean entropies for all classes: [3.4662096919145867e-15, 3.1414111938068456e-15, 4.244085189161692e-15]\n",
      "              precision    recall  f1-score   support\n",
      "\n",
      "           0       0.80      0.80      0.80         5\n",
      "           1       0.80      0.80      0.80         5\n",
      "           2       1.00      1.00      1.00         5\n",
      "\n",
      "    accuracy                           0.87        15\n",
      "   macro avg       0.87      0.87      0.87        15\n",
      "weighted avg       0.87      0.87      0.87        15\n",
      "\n",
      "-------------------------------------------------------------------------------------------------------------------\n"
     ]
    },
    {
     "name": "stderr",
     "output_type": "stream",
     "text": [
      "[Parallel(n_jobs=-1)]: Done   3 out of   3 | elapsed:  1.3min finished\n",
      "[Parallel(n_jobs=-1)]: Using backend LokyBackend with 12 concurrent workers.\n"
     ]
    },
    {
     "name": "stdout",
     "output_type": "stream",
     "text": [
      "K-Fold #6\n",
      "Mean negativities for all classes: [0.2840371516714743, 0.35983925035512765, 0.353041977782344]\n",
      "Mean entropies for all classes: [5.031044199449161e-15, 3.5166447093285506e-15, 4.2060324269499756e-15]\n",
      "              precision    recall  f1-score   support\n",
      "\n",
      "           0       0.83      1.00      0.91         5\n",
      "           1       1.00      0.80      0.89         5\n",
      "           2       0.80      0.80      0.80         5\n",
      "\n",
      "    accuracy                           0.87        15\n",
      "   macro avg       0.88      0.87      0.87        15\n",
      "weighted avg       0.88      0.87      0.87        15\n",
      "\n",
      "-------------------------------------------------------------------------------------------------------------------\n"
     ]
    },
    {
     "name": "stderr",
     "output_type": "stream",
     "text": [
      "[Parallel(n_jobs=-1)]: Done   3 out of   3 | elapsed:  1.3min finished\n",
      "[Parallel(n_jobs=-1)]: Using backend LokyBackend with 12 concurrent workers.\n"
     ]
    },
    {
     "name": "stdout",
     "output_type": "stream",
     "text": [
      "K-Fold #7\n",
      "Mean negativities for all classes: [0.3213265337970103, 0.36290420499159776, 0.3511110422054997]\n",
      "Mean entropies for all classes: [3.259389177209219e-15, 4.5119201756041485e-15, 2.9199220587502617e-15]\n",
      "              precision    recall  f1-score   support\n",
      "\n",
      "           0       1.00      1.00      1.00         5\n",
      "           1       1.00      0.60      0.75         5\n",
      "           2       0.71      1.00      0.83         5\n",
      "\n",
      "    accuracy                           0.87        15\n",
      "   macro avg       0.90      0.87      0.86        15\n",
      "weighted avg       0.90      0.87      0.86        15\n",
      "\n",
      "-------------------------------------------------------------------------------------------------------------------\n"
     ]
    },
    {
     "name": "stderr",
     "output_type": "stream",
     "text": [
      "[Parallel(n_jobs=-1)]: Done   3 out of   3 | elapsed:  1.3min finished\n",
      "[Parallel(n_jobs=-1)]: Using backend LokyBackend with 12 concurrent workers.\n"
     ]
    },
    {
     "name": "stdout",
     "output_type": "stream",
     "text": [
      "K-Fold #8\n",
      "Mean negativities for all classes: [0.32015588349881713, 0.34283550455528167, 0.3346997602129366]\n",
      "Mean entropies for all classes: [3.930741342079918e-15, 3.6275475355071484e-15, 4.78240171778224e-15]\n",
      "              precision    recall  f1-score   support\n",
      "\n",
      "           0       0.62      1.00      0.77         5\n",
      "           1       1.00      0.80      0.89         5\n",
      "           2       1.00      0.60      0.75         5\n",
      "\n",
      "    accuracy                           0.80        15\n",
      "   macro avg       0.88      0.80      0.80        15\n",
      "weighted avg       0.88      0.80      0.80        15\n",
      "\n",
      "-------------------------------------------------------------------------------------------------------------------\n"
     ]
    },
    {
     "name": "stderr",
     "output_type": "stream",
     "text": [
      "[Parallel(n_jobs=-1)]: Done   3 out of   3 | elapsed:  1.3min finished\n",
      "[Parallel(n_jobs=-1)]: Using backend LokyBackend with 12 concurrent workers.\n"
     ]
    },
    {
     "name": "stdout",
     "output_type": "stream",
     "text": [
      "K-Fold #9\n",
      "Mean negativities for all classes: [0.292848232973027, 0.3569039746386728, 0.3508973270668309]\n",
      "Mean entropies for all classes: [3.780398492091196e-15, 3.187669088453085e-15, 3.5269125441903773e-15]\n",
      "              precision    recall  f1-score   support\n",
      "\n",
      "           0       1.00      1.00      1.00         5\n",
      "           1       1.00      0.40      0.57         5\n",
      "           2       0.62      1.00      0.77         5\n",
      "\n",
      "    accuracy                           0.80        15\n",
      "   macro avg       0.88      0.80      0.78        15\n",
      "weighted avg       0.88      0.80      0.78        15\n",
      "\n",
      "-------------------------------------------------------------------------------------------------------------------\n",
      "AVG: Scores = 0.86 F1-Scores = 0.8544459244459246 Negativity = [0.35180375814168413, 0.34433526261340014, 0.3284498435895276] Entropy = [3.5410324521113285e-15, 3.586698190359671e-15, 3.934987024510779e-15]\n"
     ]
    },
    {
     "name": "stderr",
     "output_type": "stream",
     "text": [
      "[Parallel(n_jobs=-1)]: Done   3 out of   3 | elapsed:  1.3min finished\n",
      "[Parallel(n_jobs=-1)]: Using backend LokyBackend with 12 concurrent workers.\n"
     ]
    },
    {
     "name": "stdout",
     "output_type": "stream",
     "text": [
      "K-Fold #0\n",
      "Mean negativities for all classes: [0.3305344772312831, 0.3725824676432408, 0.37465263046756575]\n",
      "Mean entropies for all classes: [5.007756516993779e-15, 4.130139429094429e-15, 4.721266172447507e-15]\n",
      "              precision    recall  f1-score   support\n",
      "\n",
      "           0       1.00      1.00      1.00         5\n",
      "           1       1.00      0.60      0.75         5\n",
      "           2       0.71      1.00      0.83         5\n",
      "\n",
      "    accuracy                           0.87        15\n",
      "   macro avg       0.90      0.87      0.86        15\n",
      "weighted avg       0.90      0.87      0.86        15\n",
      "\n",
      "-------------------------------------------------------------------------------------------------------------------\n"
     ]
    },
    {
     "name": "stderr",
     "output_type": "stream",
     "text": [
      "[Parallel(n_jobs=-1)]: Done   3 out of   3 | elapsed:  1.3min finished\n",
      "[Parallel(n_jobs=-1)]: Using backend LokyBackend with 12 concurrent workers.\n"
     ]
    },
    {
     "name": "stdout",
     "output_type": "stream",
     "text": [
      "K-Fold #1\n",
      "Mean negativities for all classes: [0.2815876540894957, 0.35568865604739075, 0.3494919809232575]\n",
      "Mean entropies for all classes: [4.635410420536974e-15, 4.111820525322146e-15, 4.5329587326467944e-15]\n",
      "              precision    recall  f1-score   support\n",
      "\n",
      "           0       1.00      1.00      1.00         5\n",
      "           1       1.00      1.00      1.00         5\n",
      "           2       1.00      1.00      1.00         5\n",
      "\n",
      "    accuracy                           1.00        15\n",
      "   macro avg       1.00      1.00      1.00        15\n",
      "weighted avg       1.00      1.00      1.00        15\n",
      "\n",
      "-------------------------------------------------------------------------------------------------------------------\n"
     ]
    },
    {
     "name": "stderr",
     "output_type": "stream",
     "text": [
      "[Parallel(n_jobs=-1)]: Done   3 out of   3 | elapsed:  1.3min finished\n",
      "[Parallel(n_jobs=-1)]: Using backend LokyBackend with 12 concurrent workers.\n"
     ]
    },
    {
     "name": "stdout",
     "output_type": "stream",
     "text": [
      "K-Fold #2\n",
      "Mean negativities for all classes: [0.2852479063124278, 0.34308349273113947, 0.34886633917173654]\n",
      "Mean entropies for all classes: [3.220970245233351e-15, 3.345752478368356e-15, 3.625393543205817e-15]\n",
      "              precision    recall  f1-score   support\n",
      "\n",
      "           0       1.00      1.00      1.00         5\n",
      "           1       1.00      0.60      0.75         5\n",
      "           2       0.71      1.00      0.83         5\n",
      "\n",
      "    accuracy                           0.87        15\n",
      "   macro avg       0.90      0.87      0.86        15\n",
      "weighted avg       0.90      0.87      0.86        15\n",
      "\n",
      "-------------------------------------------------------------------------------------------------------------------\n"
     ]
    },
    {
     "name": "stderr",
     "output_type": "stream",
     "text": [
      "[Parallel(n_jobs=-1)]: Done   3 out of   3 | elapsed:  1.3min finished\n",
      "[Parallel(n_jobs=-1)]: Using backend LokyBackend with 12 concurrent workers.\n"
     ]
    },
    {
     "name": "stdout",
     "output_type": "stream",
     "text": [
      "K-Fold #3\n",
      "Mean negativities for all classes: [0.2905388109360023, 0.3780061201599673, 0.32952027523214206]\n",
      "Mean entropies for all classes: [5.050146952973626e-15, 3.6845895891114826e-15, 4.436357414279291e-15]\n",
      "              precision    recall  f1-score   support\n",
      "\n",
      "           0       1.00      1.00      1.00         5\n",
      "           1       1.00      0.60      0.75         5\n",
      "           2       0.71      1.00      0.83         5\n",
      "\n",
      "    accuracy                           0.87        15\n",
      "   macro avg       0.90      0.87      0.86        15\n",
      "weighted avg       0.90      0.87      0.86        15\n",
      "\n",
      "-------------------------------------------------------------------------------------------------------------------\n"
     ]
    },
    {
     "name": "stderr",
     "output_type": "stream",
     "text": [
      "[Parallel(n_jobs=-1)]: Done   3 out of   3 | elapsed:  1.3min finished\n",
      "[Parallel(n_jobs=-1)]: Using backend LokyBackend with 12 concurrent workers.\n"
     ]
    },
    {
     "name": "stdout",
     "output_type": "stream",
     "text": [
      "K-Fold #4\n",
      "Mean negativities for all classes: [0.3110402023242887, 0.3580935392191107, 0.3519213550734023]\n",
      "Mean entropies for all classes: [3.664399903183634e-15, 4.011415365319834e-15, 3.6649474660856534e-15]\n",
      "              precision    recall  f1-score   support\n",
      "\n",
      "           0       1.00      1.00      1.00         5\n",
      "           1       1.00      1.00      1.00         5\n",
      "           2       1.00      1.00      1.00         5\n",
      "\n",
      "    accuracy                           1.00        15\n",
      "   macro avg       1.00      1.00      1.00        15\n",
      "weighted avg       1.00      1.00      1.00        15\n",
      "\n",
      "-------------------------------------------------------------------------------------------------------------------\n"
     ]
    },
    {
     "name": "stderr",
     "output_type": "stream",
     "text": [
      "[Parallel(n_jobs=-1)]: Done   3 out of   3 | elapsed:  1.3min finished\n",
      "[Parallel(n_jobs=-1)]: Using backend LokyBackend with 12 concurrent workers.\n"
     ]
    },
    {
     "name": "stdout",
     "output_type": "stream",
     "text": [
      "K-Fold #5\n",
      "Mean negativities for all classes: [0.3200056573166358, 0.3521491490247964, 0.35684413411976246]\n",
      "Mean entropies for all classes: [3.88191124092699e-15, 4.004379200789018e-15, 3.634792600830845e-15]\n",
      "              precision    recall  f1-score   support\n",
      "\n",
      "           0       1.00      1.00      1.00         5\n",
      "           1       1.00      0.60      0.75         5\n",
      "           2       0.71      1.00      0.83         5\n",
      "\n",
      "    accuracy                           0.87        15\n",
      "   macro avg       0.90      0.87      0.86        15\n",
      "weighted avg       0.90      0.87      0.86        15\n",
      "\n",
      "-------------------------------------------------------------------------------------------------------------------\n"
     ]
    },
    {
     "name": "stderr",
     "output_type": "stream",
     "text": [
      "[Parallel(n_jobs=-1)]: Done   3 out of   3 | elapsed:  1.3min finished\n",
      "[Parallel(n_jobs=-1)]: Using backend LokyBackend with 12 concurrent workers.\n"
     ]
    },
    {
     "name": "stdout",
     "output_type": "stream",
     "text": [
      "K-Fold #6\n",
      "Mean negativities for all classes: [0.31516534570321314, 0.37196617351788047, 0.35380479072324716]\n",
      "Mean entropies for all classes: [4.0057016372357305e-15, 4.3629655165412835e-15, 3.874888322901434e-15]\n",
      "              precision    recall  f1-score   support\n",
      "\n",
      "           0       1.00      1.00      1.00         5\n",
      "           1       1.00      0.40      0.57         5\n",
      "           2       0.62      1.00      0.77         5\n",
      "\n",
      "    accuracy                           0.80        15\n",
      "   macro avg       0.88      0.80      0.78        15\n",
      "weighted avg       0.88      0.80      0.78        15\n",
      "\n",
      "-------------------------------------------------------------------------------------------------------------------\n"
     ]
    },
    {
     "name": "stderr",
     "output_type": "stream",
     "text": [
      "[Parallel(n_jobs=-1)]: Done   3 out of   3 | elapsed:  1.3min finished\n",
      "[Parallel(n_jobs=-1)]: Using backend LokyBackend with 12 concurrent workers.\n"
     ]
    },
    {
     "name": "stdout",
     "output_type": "stream",
     "text": [
      "K-Fold #7\n",
      "Mean negativities for all classes: [0.29827779958667455, 0.36362305470124473, 0.35104261747456367]\n",
      "Mean entropies for all classes: [3.5224838500302415e-15, 3.0998385900343448e-15, 4.140554656114634e-15]\n",
      "              precision    recall  f1-score   support\n",
      "\n",
      "           0       1.00      1.00      1.00         5\n",
      "           1       1.00      1.00      1.00         5\n",
      "           2       1.00      1.00      1.00         5\n",
      "\n",
      "    accuracy                           1.00        15\n",
      "   macro avg       1.00      1.00      1.00        15\n",
      "weighted avg       1.00      1.00      1.00        15\n",
      "\n",
      "-------------------------------------------------------------------------------------------------------------------\n"
     ]
    },
    {
     "name": "stderr",
     "output_type": "stream",
     "text": [
      "[Parallel(n_jobs=-1)]: Done   3 out of   3 | elapsed:  1.3min finished\n",
      "[Parallel(n_jobs=-1)]: Using backend LokyBackend with 12 concurrent workers.\n"
     ]
    },
    {
     "name": "stdout",
     "output_type": "stream",
     "text": [
      "K-Fold #8\n",
      "Mean negativities for all classes: [0.2816769501115063, 0.35762716234428876, 0.33853488491726297]\n",
      "Mean entropies for all classes: [3.0171188113738776e-15, 3.8464108899235325e-15, 3.517297665671517e-15]\n",
      "              precision    recall  f1-score   support\n",
      "\n",
      "           0       1.00      1.00      1.00         5\n",
      "           1       1.00      1.00      1.00         5\n",
      "           2       1.00      1.00      1.00         5\n",
      "\n",
      "    accuracy                           1.00        15\n",
      "   macro avg       1.00      1.00      1.00        15\n",
      "weighted avg       1.00      1.00      1.00        15\n",
      "\n",
      "-------------------------------------------------------------------------------------------------------------------\n"
     ]
    },
    {
     "name": "stderr",
     "output_type": "stream",
     "text": [
      "[Parallel(n_jobs=-1)]: Done   3 out of   3 | elapsed:  1.3min finished\n",
      "[Parallel(n_jobs=-1)]: Using backend LokyBackend with 12 concurrent workers.\n"
     ]
    },
    {
     "name": "stdout",
     "output_type": "stream",
     "text": [
      "K-Fold #9\n",
      "Mean negativities for all classes: [0.3013162636846223, 0.37588871056915046, 0.3507331420771052]\n",
      "Mean entropies for all classes: [4.5595653316821056e-15, 2.9351104754160034e-15, 3.467596683202885e-15]\n",
      "              precision    recall  f1-score   support\n",
      "\n",
      "           0       0.71      1.00      0.83         5\n",
      "           1       1.00      0.40      0.57         5\n",
      "           2       0.67      0.80      0.73         5\n",
      "\n",
      "    accuracy                           0.73        15\n",
      "   macro avg       0.79      0.73      0.71        15\n",
      "weighted avg       0.79      0.73      0.71        15\n",
      "\n",
      "-------------------------------------------------------------------------------------------------------------------\n",
      "AVG: Scores = 0.9 F1-Scores = 0.8935342435342435 Negativity = [0.3592565251140299, 0.32892276368671464, 0.3257325794051013] Entropy = [4.619720706178571e-15, 4.426729892835305e-15, 3.397372088935841e-15]\n"
     ]
    },
    {
     "name": "stderr",
     "output_type": "stream",
     "text": [
      "[Parallel(n_jobs=-1)]: Done   3 out of   3 | elapsed:  1.3min finished\n",
      "[Parallel(n_jobs=-1)]: Using backend LokyBackend with 12 concurrent workers.\n"
     ]
    },
    {
     "name": "stdout",
     "output_type": "stream",
     "text": [
      "K-Fold #0\n",
      "Mean negativities for all classes: [0.2950907141799909, 0.35152957995189527, 0.3489649054926298]\n",
      "Mean entropies for all classes: [4.955514717417361e-15, 4.752505840274996e-15, 3.758908373548164e-15]\n",
      "              precision    recall  f1-score   support\n",
      "\n",
      "           0       1.00      1.00      1.00         5\n",
      "           1       1.00      0.80      0.89         5\n",
      "           2       0.83      1.00      0.91         5\n",
      "\n",
      "    accuracy                           0.93        15\n",
      "   macro avg       0.94      0.93      0.93        15\n",
      "weighted avg       0.94      0.93      0.93        15\n",
      "\n",
      "-------------------------------------------------------------------------------------------------------------------\n"
     ]
    },
    {
     "name": "stderr",
     "output_type": "stream",
     "text": [
      "[Parallel(n_jobs=-1)]: Done   3 out of   3 | elapsed:  1.3min finished\n",
      "[Parallel(n_jobs=-1)]: Using backend LokyBackend with 12 concurrent workers.\n"
     ]
    },
    {
     "name": "stdout",
     "output_type": "stream",
     "text": [
      "K-Fold #1\n",
      "Mean negativities for all classes: [0.3008933979913568, 0.3696481086352475, 0.3568875720270279]\n",
      "Mean entropies for all classes: [3.470045979008994e-15, 3.8063641607074605e-15, 2.9914156148264403e-15]\n",
      "              precision    recall  f1-score   support\n",
      "\n",
      "           0       1.00      1.00      1.00         5\n",
      "           1       1.00      0.40      0.57         5\n",
      "           2       0.62      1.00      0.77         5\n",
      "\n",
      "    accuracy                           0.80        15\n",
      "   macro avg       0.88      0.80      0.78        15\n",
      "weighted avg       0.88      0.80      0.78        15\n",
      "\n",
      "-------------------------------------------------------------------------------------------------------------------\n"
     ]
    },
    {
     "name": "stderr",
     "output_type": "stream",
     "text": [
      "[Parallel(n_jobs=-1)]: Done   3 out of   3 | elapsed:  1.3min finished\n",
      "[Parallel(n_jobs=-1)]: Using backend LokyBackend with 12 concurrent workers.\n"
     ]
    },
    {
     "name": "stdout",
     "output_type": "stream",
     "text": [
      "K-Fold #2\n",
      "Mean negativities for all classes: [0.31345672836834304, 0.3441516286479872, 0.3382023402595555]\n",
      "Mean entropies for all classes: [4.11702032293042e-15, 4.321425844564301e-15, 3.651246740824321e-15]\n",
      "              precision    recall  f1-score   support\n",
      "\n",
      "           0       1.00      1.00      1.00         5\n",
      "           1       1.00      1.00      1.00         5\n",
      "           2       1.00      1.00      1.00         5\n",
      "\n",
      "    accuracy                           1.00        15\n",
      "   macro avg       1.00      1.00      1.00        15\n",
      "weighted avg       1.00      1.00      1.00        15\n",
      "\n",
      "-------------------------------------------------------------------------------------------------------------------\n"
     ]
    },
    {
     "name": "stderr",
     "output_type": "stream",
     "text": [
      "[Parallel(n_jobs=-1)]: Done   3 out of   3 | elapsed:  1.3min finished\n",
      "[Parallel(n_jobs=-1)]: Using backend LokyBackend with 12 concurrent workers.\n"
     ]
    },
    {
     "name": "stdout",
     "output_type": "stream",
     "text": [
      "K-Fold #3\n",
      "Mean negativities for all classes: [0.289504011042372, 0.3596465225865044, 0.3542223941169238]\n",
      "Mean entropies for all classes: [4.5242821758142794e-15, 3.708733347155188e-15, 4.463641410361526e-15]\n",
      "              precision    recall  f1-score   support\n",
      "\n",
      "           0       1.00      1.00      1.00         5\n",
      "           1       1.00      0.60      0.75         5\n",
      "           2       0.71      1.00      0.83         5\n",
      "\n",
      "    accuracy                           0.87        15\n",
      "   macro avg       0.90      0.87      0.86        15\n",
      "weighted avg       0.90      0.87      0.86        15\n",
      "\n",
      "-------------------------------------------------------------------------------------------------------------------\n"
     ]
    },
    {
     "name": "stderr",
     "output_type": "stream",
     "text": [
      "[Parallel(n_jobs=-1)]: Done   3 out of   3 | elapsed:  1.3min finished\n",
      "[Parallel(n_jobs=-1)]: Using backend LokyBackend with 12 concurrent workers.\n"
     ]
    },
    {
     "name": "stdout",
     "output_type": "stream",
     "text": [
      "K-Fold #4\n",
      "Mean negativities for all classes: [0.3361206918456495, 0.3630240554448558, 0.3508243020384342]\n",
      "Mean entropies for all classes: [3.596902994422081e-15, 4.987871147632233e-15, 3.3343544843008726e-15]\n",
      "              precision    recall  f1-score   support\n",
      "\n",
      "           0       1.00      0.80      0.89         5\n",
      "           1       0.67      0.40      0.50         5\n",
      "           2       0.62      1.00      0.77         5\n",
      "\n",
      "    accuracy                           0.73        15\n",
      "   macro avg       0.76      0.73      0.72        15\n",
      "weighted avg       0.76      0.73      0.72        15\n",
      "\n",
      "-------------------------------------------------------------------------------------------------------------------\n"
     ]
    },
    {
     "name": "stderr",
     "output_type": "stream",
     "text": [
      "[Parallel(n_jobs=-1)]: Done   3 out of   3 | elapsed:  1.3min finished\n",
      "[Parallel(n_jobs=-1)]: Using backend LokyBackend with 12 concurrent workers.\n"
     ]
    },
    {
     "name": "stdout",
     "output_type": "stream",
     "text": [
      "K-Fold #5\n",
      "Mean negativities for all classes: [0.29759607403042376, 0.36549831313003395, 0.3548224311830513]\n",
      "Mean entropies for all classes: [4.092493587160482e-15, 3.833722774751042e-15, 4.0291125902431995e-15]\n",
      "              precision    recall  f1-score   support\n",
      "\n",
      "           0       1.00      1.00      1.00         5\n",
      "           1       1.00      0.60      0.75         5\n",
      "           2       0.71      1.00      0.83         5\n",
      "\n",
      "    accuracy                           0.87        15\n",
      "   macro avg       0.90      0.87      0.86        15\n",
      "weighted avg       0.90      0.87      0.86        15\n",
      "\n",
      "-------------------------------------------------------------------------------------------------------------------\n"
     ]
    },
    {
     "name": "stderr",
     "output_type": "stream",
     "text": [
      "[Parallel(n_jobs=-1)]: Done   3 out of   3 | elapsed:  1.3min finished\n",
      "[Parallel(n_jobs=-1)]: Using backend LokyBackend with 12 concurrent workers.\n"
     ]
    },
    {
     "name": "stdout",
     "output_type": "stream",
     "text": [
      "K-Fold #6\n",
      "Mean negativities for all classes: [0.2945441321127486, 0.3679924703001954, 0.3536954533431858]\n",
      "Mean entropies for all classes: [4.1955943513792176e-15, 3.180428394953795e-15, 3.4286534520502148e-15]\n",
      "              precision    recall  f1-score   support\n",
      "\n",
      "           0       1.00      1.00      1.00         5\n",
      "           1       1.00      0.80      0.89         5\n",
      "           2       0.83      1.00      0.91         5\n",
      "\n",
      "    accuracy                           0.93        15\n",
      "   macro avg       0.94      0.93      0.93        15\n",
      "weighted avg       0.94      0.93      0.93        15\n",
      "\n",
      "-------------------------------------------------------------------------------------------------------------------\n"
     ]
    },
    {
     "name": "stderr",
     "output_type": "stream",
     "text": [
      "[Parallel(n_jobs=-1)]: Done   3 out of   3 | elapsed:  1.3min finished\n",
      "[Parallel(n_jobs=-1)]: Using backend LokyBackend with 12 concurrent workers.\n"
     ]
    },
    {
     "name": "stdout",
     "output_type": "stream",
     "text": [
      "K-Fold #7\n",
      "Mean negativities for all classes: [0.292627160513027, 0.3595340355318624, 0.357962516497256]\n",
      "Mean entropies for all classes: [4.081946350642885e-15, 3.4422484150011894e-15, 3.79592991700504e-15]\n",
      "              precision    recall  f1-score   support\n",
      "\n",
      "           0       1.00      1.00      1.00         5\n",
      "           1       1.00      1.00      1.00         5\n",
      "           2       1.00      1.00      1.00         5\n",
      "\n",
      "    accuracy                           1.00        15\n",
      "   macro avg       1.00      1.00      1.00        15\n",
      "weighted avg       1.00      1.00      1.00        15\n",
      "\n",
      "-------------------------------------------------------------------------------------------------------------------\n"
     ]
    },
    {
     "name": "stderr",
     "output_type": "stream",
     "text": [
      "[Parallel(n_jobs=-1)]: Done   3 out of   3 | elapsed:  1.3min finished\n",
      "c:\\ProgramData\\Anaconda3\\lib\\site-packages\\sklearn\\metrics\\_classification.py:1344: UndefinedMetricWarning: Precision and F-score are ill-defined and being set to 0.0 in labels with no predicted samples. Use `zero_division` parameter to control this behavior.\n",
      "  _warn_prf(average, modifier, msg_start, len(result))\n",
      "c:\\ProgramData\\Anaconda3\\lib\\site-packages\\sklearn\\metrics\\_classification.py:1344: UndefinedMetricWarning: Precision and F-score are ill-defined and being set to 0.0 in labels with no predicted samples. Use `zero_division` parameter to control this behavior.\n",
      "  _warn_prf(average, modifier, msg_start, len(result))\n",
      "c:\\ProgramData\\Anaconda3\\lib\\site-packages\\sklearn\\metrics\\_classification.py:1344: UndefinedMetricWarning: Precision and F-score are ill-defined and being set to 0.0 in labels with no predicted samples. Use `zero_division` parameter to control this behavior.\n",
      "  _warn_prf(average, modifier, msg_start, len(result))\n",
      "[Parallel(n_jobs=-1)]: Using backend LokyBackend with 12 concurrent workers.\n"
     ]
    },
    {
     "name": "stdout",
     "output_type": "stream",
     "text": [
      "K-Fold #8\n",
      "Mean negativities for all classes: [0.319543552746827, 0.39024818994960936, 0.3550098978363482]\n",
      "Mean entropies for all classes: [3.3533318289506845e-15, 3.660859936384072e-15, 3.196364736559061e-15]\n",
      "              precision    recall  f1-score   support\n",
      "\n",
      "           0       1.00      1.00      1.00         5\n",
      "           1       0.00      0.00      0.00         5\n",
      "           2       0.50      1.00      0.67         5\n",
      "\n",
      "    accuracy                           0.67        15\n",
      "   macro avg       0.50      0.67      0.56        15\n",
      "weighted avg       0.50      0.67      0.56        15\n",
      "\n",
      "-------------------------------------------------------------------------------------------------------------------\n"
     ]
    },
    {
     "name": "stderr",
     "output_type": "stream",
     "text": [
      "[Parallel(n_jobs=-1)]: Done   3 out of   3 | elapsed:  1.3min finished\n",
      "[Parallel(n_jobs=-1)]: Using backend LokyBackend with 12 concurrent workers.\n"
     ]
    },
    {
     "name": "stdout",
     "output_type": "stream",
     "text": [
      "K-Fold #9\n",
      "Mean negativities for all classes: [0.3264888506429494, 0.3701476744184568, 0.35094393661056633]\n",
      "Mean entropies for all classes: [3.2466577937121646e-15, 4.405932070572619e-15, 3.400293054941627e-15]\n",
      "              precision    recall  f1-score   support\n",
      "\n",
      "           0       1.00      1.00      1.00         5\n",
      "           1       1.00      0.20      0.33         5\n",
      "           2       0.56      1.00      0.71         5\n",
      "\n",
      "    accuracy                           0.73        15\n",
      "   macro avg       0.85      0.73      0.68        15\n",
      "weighted avg       0.85      0.73      0.68        15\n",
      "\n",
      "-------------------------------------------------------------------------------------------------------------------\n",
      "AVG: Scores = 0.8533333333333333 F1-Scores = 0.8325230325230324 Negativity = [0.33186173320817197, 0.34247635955121075, 0.33193689909196195] Entropy = [4.488976310413507e-15, 3.422608584847631e-15, 4.0298976361063466e-15]\n"
     ]
    },
    {
     "name": "stderr",
     "output_type": "stream",
     "text": [
      "[Parallel(n_jobs=-1)]: Done   3 out of   3 | elapsed:  1.3min finished\n",
      "[Parallel(n_jobs=-1)]: Using backend LokyBackend with 12 concurrent workers.\n"
     ]
    },
    {
     "name": "stdout",
     "output_type": "stream",
     "text": [
      "K-Fold #0\n",
      "Mean negativities for all classes: [0.305409581313373, 0.3640914093102324, 0.3520671616787959]\n",
      "Mean entropies for all classes: [3.824185751485969e-15, 4.250063430292592e-15, 3.581650600996651e-15]\n",
      "              precision    recall  f1-score   support\n",
      "\n",
      "           0       1.00      1.00      1.00         5\n",
      "           1       1.00      1.00      1.00         5\n",
      "           2       1.00      1.00      1.00         5\n",
      "\n",
      "    accuracy                           1.00        15\n",
      "   macro avg       1.00      1.00      1.00        15\n",
      "weighted avg       1.00      1.00      1.00        15\n",
      "\n",
      "-------------------------------------------------------------------------------------------------------------------\n"
     ]
    },
    {
     "name": "stderr",
     "output_type": "stream",
     "text": [
      "[Parallel(n_jobs=-1)]: Done   3 out of   3 | elapsed:  1.3min finished\n",
      "[Parallel(n_jobs=-1)]: Using backend LokyBackend with 12 concurrent workers.\n"
     ]
    },
    {
     "name": "stdout",
     "output_type": "stream",
     "text": [
      "K-Fold #1\n",
      "Mean negativities for all classes: [0.2868807656941729, 0.35277003415559083, 0.36877747988978843]\n",
      "Mean entropies for all classes: [4.064897736913765e-15, 2.82000726459419e-15, 3.5400491817661134e-15]\n",
      "              precision    recall  f1-score   support\n",
      "\n",
      "           0       1.00      1.00      1.00         5\n",
      "           1       1.00      0.80      0.89         5\n",
      "           2       0.83      1.00      0.91         5\n",
      "\n",
      "    accuracy                           0.93        15\n",
      "   macro avg       0.94      0.93      0.93        15\n",
      "weighted avg       0.94      0.93      0.93        15\n",
      "\n",
      "-------------------------------------------------------------------------------------------------------------------\n"
     ]
    },
    {
     "name": "stderr",
     "output_type": "stream",
     "text": [
      "[Parallel(n_jobs=-1)]: Done   3 out of   3 | elapsed:  1.3min finished\n",
      "[Parallel(n_jobs=-1)]: Using backend LokyBackend with 12 concurrent workers.\n"
     ]
    },
    {
     "name": "stdout",
     "output_type": "stream",
     "text": [
      "K-Fold #2\n",
      "Mean negativities for all classes: [0.3251960578114775, 0.35192451399744223, 0.3545059128641986]\n",
      "Mean entropies for all classes: [4.2645397080705935e-15, 4.276841116881456e-15, 3.455807640209266e-15]\n",
      "              precision    recall  f1-score   support\n",
      "\n",
      "           0       1.00      0.80      0.89         5\n",
      "           1       0.75      0.60      0.67         5\n",
      "           2       0.71      1.00      0.83         5\n",
      "\n",
      "    accuracy                           0.80        15\n",
      "   macro avg       0.82      0.80      0.80        15\n",
      "weighted avg       0.82      0.80      0.80        15\n",
      "\n",
      "-------------------------------------------------------------------------------------------------------------------\n"
     ]
    },
    {
     "name": "stderr",
     "output_type": "stream",
     "text": [
      "[Parallel(n_jobs=-1)]: Done   3 out of   3 | elapsed:  1.3min finished\n",
      "[Parallel(n_jobs=-1)]: Using backend LokyBackend with 12 concurrent workers.\n"
     ]
    },
    {
     "name": "stdout",
     "output_type": "stream",
     "text": [
      "K-Fold #3\n",
      "Mean negativities for all classes: [0.30164939972998295, 0.3659945903702832, 0.35985707289072516]\n",
      "Mean entropies for all classes: [2.917654970928703e-15, 3.178579716881025e-15, 3.773687284940756e-15]\n",
      "              precision    recall  f1-score   support\n",
      "\n",
      "           0       1.00      1.00      1.00         5\n",
      "           1       1.00      0.80      0.89         5\n",
      "           2       0.83      1.00      0.91         5\n",
      "\n",
      "    accuracy                           0.93        15\n",
      "   macro avg       0.94      0.93      0.93        15\n",
      "weighted avg       0.94      0.93      0.93        15\n",
      "\n",
      "-------------------------------------------------------------------------------------------------------------------\n"
     ]
    },
    {
     "name": "stderr",
     "output_type": "stream",
     "text": [
      "[Parallel(n_jobs=-1)]: Done   3 out of   3 | elapsed:  1.3min finished\n",
      "[Parallel(n_jobs=-1)]: Using backend LokyBackend with 12 concurrent workers.\n"
     ]
    },
    {
     "name": "stdout",
     "output_type": "stream",
     "text": [
      "K-Fold #4\n",
      "Mean negativities for all classes: [0.29350494258909754, 0.37221521840316457, 0.35094968018059713]\n",
      "Mean entropies for all classes: [3.9815827481937655e-15, 3.4687749411778917e-15, 3.836082558405276e-15]\n",
      "              precision    recall  f1-score   support\n",
      "\n",
      "           0       1.00      1.00      1.00         5\n",
      "           1       1.00      0.60      0.75         5\n",
      "           2       0.71      1.00      0.83         5\n",
      "\n",
      "    accuracy                           0.87        15\n",
      "   macro avg       0.90      0.87      0.86        15\n",
      "weighted avg       0.90      0.87      0.86        15\n",
      "\n",
      "-------------------------------------------------------------------------------------------------------------------\n"
     ]
    },
    {
     "name": "stderr",
     "output_type": "stream",
     "text": [
      "[Parallel(n_jobs=-1)]: Done   3 out of   3 | elapsed:  1.3min finished\n",
      "[Parallel(n_jobs=-1)]: Using backend LokyBackend with 12 concurrent workers.\n"
     ]
    },
    {
     "name": "stdout",
     "output_type": "stream",
     "text": [
      "K-Fold #5\n",
      "Mean negativities for all classes: [0.2995896005261475, 0.3602014597303905, 0.3621279783922144]\n",
      "Mean entropies for all classes: [4.3497651671153184e-15, 3.770915002588986e-15, 5.092293748128037e-15]\n",
      "              precision    recall  f1-score   support\n",
      "\n",
      "           0       1.00      1.00      1.00         5\n",
      "           1       1.00      0.80      0.89         5\n",
      "           2       0.83      1.00      0.91         5\n",
      "\n",
      "    accuracy                           0.93        15\n",
      "   macro avg       0.94      0.93      0.93        15\n",
      "weighted avg       0.94      0.93      0.93        15\n",
      "\n",
      "-------------------------------------------------------------------------------------------------------------------\n"
     ]
    },
    {
     "name": "stderr",
     "output_type": "stream",
     "text": [
      "[Parallel(n_jobs=-1)]: Done   3 out of   3 | elapsed:  1.3min finished\n",
      "[Parallel(n_jobs=-1)]: Using backend LokyBackend with 12 concurrent workers.\n"
     ]
    },
    {
     "name": "stdout",
     "output_type": "stream",
     "text": [
      "K-Fold #6\n",
      "Mean negativities for all classes: [0.3099958455441856, 0.37239273568940884, 0.3537716543953457]\n",
      "Mean entropies for all classes: [3.60680243218653e-15, 3.637856356145026e-15, 3.575885042722826e-15]\n",
      "              precision    recall  f1-score   support\n",
      "\n",
      "           0       1.00      1.00      1.00         5\n",
      "           1       1.00      0.60      0.75         5\n",
      "           2       0.71      1.00      0.83         5\n",
      "\n",
      "    accuracy                           0.87        15\n",
      "   macro avg       0.90      0.87      0.86        15\n",
      "weighted avg       0.90      0.87      0.86        15\n",
      "\n",
      "-------------------------------------------------------------------------------------------------------------------\n"
     ]
    },
    {
     "name": "stderr",
     "output_type": "stream",
     "text": [
      "[Parallel(n_jobs=-1)]: Done   3 out of   3 | elapsed:  1.3min finished\n",
      "[Parallel(n_jobs=-1)]: Using backend LokyBackend with 12 concurrent workers.\n"
     ]
    },
    {
     "name": "stdout",
     "output_type": "stream",
     "text": [
      "K-Fold #7\n",
      "Mean negativities for all classes: [0.3360522516747052, 0.3441952449316616, 0.3247998365305563]\n",
      "Mean entropies for all classes: [3.5703018608503906e-15, 3.048865564694803e-15, 3.313923236574746e-15]\n",
      "              precision    recall  f1-score   support\n",
      "\n",
      "           0       0.83      1.00      0.91         5\n",
      "           1       1.00      0.80      0.89         5\n",
      "           2       0.80      0.80      0.80         5\n",
      "\n",
      "    accuracy                           0.87        15\n",
      "   macro avg       0.88      0.87      0.87        15\n",
      "weighted avg       0.88      0.87      0.87        15\n",
      "\n",
      "-------------------------------------------------------------------------------------------------------------------\n"
     ]
    },
    {
     "name": "stderr",
     "output_type": "stream",
     "text": [
      "[Parallel(n_jobs=-1)]: Done   3 out of   3 | elapsed:  1.3min finished\n",
      "[Parallel(n_jobs=-1)]: Using backend LokyBackend with 12 concurrent workers.\n"
     ]
    },
    {
     "name": "stdout",
     "output_type": "stream",
     "text": [
      "K-Fold #8\n",
      "Mean negativities for all classes: [0.2905627782651693, 0.35778389065685373, 0.3416232773979486]\n",
      "Mean entropies for all classes: [4.0288431076737806e-15, 3.1722091299534723e-15, 4.421179517889486e-15]\n",
      "              precision    recall  f1-score   support\n",
      "\n",
      "           0       1.00      1.00      1.00         5\n",
      "           1       1.00      1.00      1.00         5\n",
      "           2       1.00      1.00      1.00         5\n",
      "\n",
      "    accuracy                           1.00        15\n",
      "   macro avg       1.00      1.00      1.00        15\n",
      "weighted avg       1.00      1.00      1.00        15\n",
      "\n",
      "-------------------------------------------------------------------------------------------------------------------\n"
     ]
    },
    {
     "name": "stderr",
     "output_type": "stream",
     "text": [
      "[Parallel(n_jobs=-1)]: Done   3 out of   3 | elapsed:  1.3min finished\n",
      "[Parallel(n_jobs=-1)]: Using backend LokyBackend with 12 concurrent workers.\n"
     ]
    },
    {
     "name": "stdout",
     "output_type": "stream",
     "text": [
      "K-Fold #9\n",
      "Mean negativities for all classes: [0.344633865835934, 0.3610471072963158, 0.3674093328517554]\n",
      "Mean entropies for all classes: [4.4381573778078904e-15, 3.642515622632432e-15, 3.643519400944437e-15]\n",
      "              precision    recall  f1-score   support\n",
      "\n",
      "           0       0.80      0.80      0.80         5\n",
      "           1       0.75      0.60      0.67         5\n",
      "           2       0.83      1.00      0.91         5\n",
      "\n",
      "    accuracy                           0.80        15\n",
      "   macro avg       0.79      0.80      0.79        15\n",
      "weighted avg       0.79      0.80      0.79        15\n",
      "\n",
      "-------------------------------------------------------------------------------------------------------------------\n",
      "AVG: Scores = 0.9 F1-Scores = 0.8974410774410775 Negativity = [0.3405227174341337, 0.3361427599131841, 0.3438754948910394] Entropy = [3.885299927591738e-15, 3.474984727758023e-15, 3.999062821720439e-15]\n"
     ]
    },
    {
     "name": "stderr",
     "output_type": "stream",
     "text": [
      "[Parallel(n_jobs=-1)]: Done   3 out of   3 | elapsed:  1.3min finished\n",
      "[Parallel(n_jobs=-1)]: Using backend LokyBackend with 12 concurrent workers.\n"
     ]
    },
    {
     "name": "stdout",
     "output_type": "stream",
     "text": [
      "K-Fold #0\n",
      "Mean negativities for all classes: [0.3093537585043876, 0.3658152067541029, 0.3555386176130082]\n",
      "Mean entropies for all classes: [4.198214118550393e-15, 4.35354015644617e-15, 3.5076811281513037e-15]\n",
      "              precision    recall  f1-score   support\n",
      "\n",
      "           0       1.00      1.00      1.00         5\n",
      "           1       1.00      0.40      0.57         5\n",
      "           2       0.62      1.00      0.77         5\n",
      "\n",
      "    accuracy                           0.80        15\n",
      "   macro avg       0.88      0.80      0.78        15\n",
      "weighted avg       0.88      0.80      0.78        15\n",
      "\n",
      "-------------------------------------------------------------------------------------------------------------------\n"
     ]
    },
    {
     "name": "stderr",
     "output_type": "stream",
     "text": [
      "[Parallel(n_jobs=-1)]: Done   3 out of   3 | elapsed:  1.4min finished\n",
      "[Parallel(n_jobs=-1)]: Using backend LokyBackend with 12 concurrent workers.\n"
     ]
    },
    {
     "name": "stdout",
     "output_type": "stream",
     "text": [
      "K-Fold #1\n",
      "Mean negativities for all classes: [0.33957088123573176, 0.3594169356441883, 0.3518825117880187]\n",
      "Mean entropies for all classes: [4.994111689730034e-15, 3.3932756439827656e-15, 3.7146196166114634e-15]\n",
      "              precision    recall  f1-score   support\n",
      "\n",
      "           0       1.00      0.80      0.89         5\n",
      "           1       0.67      0.40      0.50         5\n",
      "           2       0.62      1.00      0.77         5\n",
      "\n",
      "    accuracy                           0.73        15\n",
      "   macro avg       0.76      0.73      0.72        15\n",
      "weighted avg       0.76      0.73      0.72        15\n",
      "\n",
      "-------------------------------------------------------------------------------------------------------------------\n"
     ]
    },
    {
     "name": "stderr",
     "output_type": "stream",
     "text": [
      "[Parallel(n_jobs=-1)]: Done   3 out of   3 | elapsed:  1.3min finished\n",
      "[Parallel(n_jobs=-1)]: Using backend LokyBackend with 12 concurrent workers.\n"
     ]
    },
    {
     "name": "stdout",
     "output_type": "stream",
     "text": [
      "K-Fold #2\n",
      "Mean negativities for all classes: [0.2917460647003571, 0.374786669574554, 0.3518989181097514]\n",
      "Mean entropies for all classes: [3.8514818972515026e-15, 3.699840066698491e-15, 3.6711620109753925e-15]\n",
      "              precision    recall  f1-score   support\n",
      "\n",
      "           0       1.00      1.00      1.00         5\n",
      "           1       1.00      0.40      0.57         5\n",
      "           2       0.62      1.00      0.77         5\n",
      "\n",
      "    accuracy                           0.80        15\n",
      "   macro avg       0.88      0.80      0.78        15\n",
      "weighted avg       0.88      0.80      0.78        15\n",
      "\n",
      "-------------------------------------------------------------------------------------------------------------------\n"
     ]
    },
    {
     "name": "stderr",
     "output_type": "stream",
     "text": [
      "[Parallel(n_jobs=-1)]: Done   3 out of   3 | elapsed:  1.3min finished\n",
      "[Parallel(n_jobs=-1)]: Using backend LokyBackend with 12 concurrent workers.\n"
     ]
    },
    {
     "name": "stdout",
     "output_type": "stream",
     "text": [
      "K-Fold #3\n",
      "Mean negativities for all classes: [0.29879715319703476, 0.3540848224259517, 0.358687310803587]\n",
      "Mean entropies for all classes: [3.349388005595361e-15, 3.919919925060831e-15, 3.847293637472127e-15]\n",
      "              precision    recall  f1-score   support\n",
      "\n",
      "           0       1.00      1.00      1.00         5\n",
      "           1       1.00      1.00      1.00         5\n",
      "           2       1.00      1.00      1.00         5\n",
      "\n",
      "    accuracy                           1.00        15\n",
      "   macro avg       1.00      1.00      1.00        15\n",
      "weighted avg       1.00      1.00      1.00        15\n",
      "\n",
      "-------------------------------------------------------------------------------------------------------------------\n"
     ]
    },
    {
     "name": "stderr",
     "output_type": "stream",
     "text": [
      "[Parallel(n_jobs=-1)]: Done   3 out of   3 | elapsed:  1.3min finished\n",
      "[Parallel(n_jobs=-1)]: Using backend LokyBackend with 12 concurrent workers.\n"
     ]
    },
    {
     "name": "stdout",
     "output_type": "stream",
     "text": [
      "K-Fold #4\n",
      "Mean negativities for all classes: [0.2974206614182861, 0.3588116507363509, 0.3450812767537513]\n",
      "Mean entropies for all classes: [4.3046931882946495e-15, 4.009408373226168e-15, 4.136682537975088e-15]\n",
      "              precision    recall  f1-score   support\n",
      "\n",
      "           0       0.71      1.00      0.83         5\n",
      "           1       1.00      0.60      0.75         5\n",
      "           2       0.80      0.80      0.80         5\n",
      "\n",
      "    accuracy                           0.80        15\n",
      "   macro avg       0.84      0.80      0.79        15\n",
      "weighted avg       0.84      0.80      0.79        15\n",
      "\n",
      "-------------------------------------------------------------------------------------------------------------------\n"
     ]
    },
    {
     "name": "stderr",
     "output_type": "stream",
     "text": [
      "[Parallel(n_jobs=-1)]: Done   3 out of   3 | elapsed:  1.3min finished\n",
      "[Parallel(n_jobs=-1)]: Using backend LokyBackend with 12 concurrent workers.\n"
     ]
    },
    {
     "name": "stdout",
     "output_type": "stream",
     "text": [
      "K-Fold #5\n",
      "Mean negativities for all classes: [0.3012837436903966, 0.3686118130972137, 0.3541396186501009]\n",
      "Mean entropies for all classes: [3.709657914699755e-15, 3.2154581704370604e-15, 3.3616891858753462e-15]\n",
      "              precision    recall  f1-score   support\n",
      "\n",
      "           0       0.83      1.00      0.91         5\n",
      "           1       1.00      0.40      0.57         5\n",
      "           2       0.71      1.00      0.83         5\n",
      "\n",
      "    accuracy                           0.80        15\n",
      "   macro avg       0.85      0.80      0.77        15\n",
      "weighted avg       0.85      0.80      0.77        15\n",
      "\n",
      "-------------------------------------------------------------------------------------------------------------------\n"
     ]
    },
    {
     "name": "stderr",
     "output_type": "stream",
     "text": [
      "[Parallel(n_jobs=-1)]: Done   3 out of   3 | elapsed:  1.3min finished\n",
      "[Parallel(n_jobs=-1)]: Using backend LokyBackend with 12 concurrent workers.\n"
     ]
    },
    {
     "name": "stdout",
     "output_type": "stream",
     "text": [
      "K-Fold #6\n",
      "Mean negativities for all classes: [0.3315181494309055, 0.3778157088712514, 0.3516863044997612]\n",
      "Mean entropies for all classes: [2.759988166239848e-15, 4.0859245121492996e-15, 3.227505874286518e-15]\n",
      "              precision    recall  f1-score   support\n",
      "\n",
      "           0       1.00      1.00      1.00         5\n",
      "           1       1.00      0.20      0.33         5\n",
      "           2       0.56      1.00      0.71         5\n",
      "\n",
      "    accuracy                           0.73        15\n",
      "   macro avg       0.85      0.73      0.68        15\n",
      "weighted avg       0.85      0.73      0.68        15\n",
      "\n",
      "-------------------------------------------------------------------------------------------------------------------\n"
     ]
    },
    {
     "name": "stderr",
     "output_type": "stream",
     "text": [
      "[Parallel(n_jobs=-1)]: Done   3 out of   3 | elapsed:  1.3min finished\n",
      "[Parallel(n_jobs=-1)]: Using backend LokyBackend with 12 concurrent workers.\n"
     ]
    },
    {
     "name": "stdout",
     "output_type": "stream",
     "text": [
      "K-Fold #7\n",
      "Mean negativities for all classes: [0.30125691785467673, 0.3393360902569969, 0.3664606182959839]\n",
      "Mean entropies for all classes: [3.660432850818017e-15, 4.582613254992936e-15, 3.0410560940908505e-15]\n",
      "              precision    recall  f1-score   support\n",
      "\n",
      "           0       0.83      1.00      0.91         5\n",
      "           1       1.00      0.80      0.89         5\n",
      "           2       1.00      1.00      1.00         5\n",
      "\n",
      "    accuracy                           0.93        15\n",
      "   macro avg       0.94      0.93      0.93        15\n",
      "weighted avg       0.94      0.93      0.93        15\n",
      "\n",
      "-------------------------------------------------------------------------------------------------------------------\n"
     ]
    },
    {
     "name": "stderr",
     "output_type": "stream",
     "text": [
      "[Parallel(n_jobs=-1)]: Done   3 out of   3 | elapsed:  1.3min finished\n",
      "[Parallel(n_jobs=-1)]: Using backend LokyBackend with 12 concurrent workers.\n"
     ]
    },
    {
     "name": "stdout",
     "output_type": "stream",
     "text": [
      "K-Fold #8\n",
      "Mean negativities for all classes: [0.3032153010545988, 0.3688663900519308, 0.3269609721219273]\n",
      "Mean entropies for all classes: [3.888523815536605e-15, 3.7374969749229214e-15, 3.515205177207551e-15]\n",
      "              precision    recall  f1-score   support\n",
      "\n",
      "           0       1.00      1.00      1.00         5\n",
      "           1       0.80      0.80      0.80         5\n",
      "           2       0.80      0.80      0.80         5\n",
      "\n",
      "    accuracy                           0.87        15\n",
      "   macro avg       0.87      0.87      0.87        15\n",
      "weighted avg       0.87      0.87      0.87        15\n",
      "\n",
      "-------------------------------------------------------------------------------------------------------------------\n"
     ]
    },
    {
     "name": "stderr",
     "output_type": "stream",
     "text": [
      "[Parallel(n_jobs=-1)]: Done   3 out of   3 | elapsed:  1.3min finished\n",
      "[Parallel(n_jobs=-1)]: Using backend LokyBackend with 12 concurrent workers.\n"
     ]
    },
    {
     "name": "stdout",
     "output_type": "stream",
     "text": [
      "K-Fold #9\n",
      "Mean negativities for all classes: [0.2978878898749151, 0.35126437244901226, 0.35390949257230997]\n",
      "Mean entropies for all classes: [5.213394385635209e-15, 2.9676261372361382e-15, 3.789049205591308e-15]\n",
      "              precision    recall  f1-score   support\n",
      "\n",
      "           0       1.00      1.00      1.00         5\n",
      "           1       1.00      0.60      0.75         5\n",
      "           2       0.71      1.00      0.83         5\n",
      "\n",
      "    accuracy                           0.87        15\n",
      "   macro avg       0.90      0.87      0.86        15\n",
      "weighted avg       0.90      0.87      0.86        15\n",
      "\n",
      "-------------------------------------------------------------------------------------------------------------------\n",
      "AVG: Scores = 0.8333333333333334 F1-Scores = 0.8188518888518889 Negativity = [0.34356919429049954, 0.3502901095559796, 0.3394772174615541] Entropy = [4.019811801049289e-15, 4.034002316774754e-15, 3.740827991641795e-15]\n"
     ]
    },
    {
     "name": "stderr",
     "output_type": "stream",
     "text": [
      "[Parallel(n_jobs=-1)]: Done   3 out of   3 | elapsed:  1.3min finished\n",
      "[Parallel(n_jobs=-1)]: Using backend LokyBackend with 12 concurrent workers.\n"
     ]
    },
    {
     "name": "stdout",
     "output_type": "stream",
     "text": [
      "K-Fold #0\n",
      "Mean negativities for all classes: [0.3010747554711714, 0.36738882732374684, 0.35562259217877557]\n",
      "Mean entropies for all classes: [4.036592163811465e-15, 3.0790157315549877e-15, 3.5137542733927594e-15]\n",
      "              precision    recall  f1-score   support\n",
      "\n",
      "           0       1.00      1.00      1.00         5\n",
      "           1       1.00      0.60      0.75         5\n",
      "           2       0.71      1.00      0.83         5\n",
      "\n",
      "    accuracy                           0.87        15\n",
      "   macro avg       0.90      0.87      0.86        15\n",
      "weighted avg       0.90      0.87      0.86        15\n",
      "\n",
      "-------------------------------------------------------------------------------------------------------------------\n"
     ]
    },
    {
     "name": "stderr",
     "output_type": "stream",
     "text": [
      "[Parallel(n_jobs=-1)]: Done   3 out of   3 | elapsed:  1.3min finished\n",
      "[Parallel(n_jobs=-1)]: Using backend LokyBackend with 12 concurrent workers.\n"
     ]
    },
    {
     "name": "stdout",
     "output_type": "stream",
     "text": [
      "K-Fold #1\n",
      "Mean negativities for all classes: [0.2859007648061612, 0.373357080310078, 0.3403542904218746]\n",
      "Mean entropies for all classes: [3.10515846925834e-15, 3.633424666100009e-15, 3.903347295939514e-15]\n",
      "              precision    recall  f1-score   support\n",
      "\n",
      "           0       1.00      1.00      1.00         5\n",
      "           1       1.00      0.40      0.57         5\n",
      "           2       0.62      1.00      0.77         5\n",
      "\n",
      "    accuracy                           0.80        15\n",
      "   macro avg       0.88      0.80      0.78        15\n",
      "weighted avg       0.88      0.80      0.78        15\n",
      "\n",
      "-------------------------------------------------------------------------------------------------------------------\n"
     ]
    },
    {
     "name": "stderr",
     "output_type": "stream",
     "text": [
      "[Parallel(n_jobs=-1)]: Done   3 out of   3 | elapsed:  1.3min finished\n",
      "[Parallel(n_jobs=-1)]: Using backend LokyBackend with 12 concurrent workers.\n"
     ]
    },
    {
     "name": "stdout",
     "output_type": "stream",
     "text": [
      "K-Fold #2\n",
      "Mean negativities for all classes: [0.30299485332481135, 0.3703696223515526, 0.3525828352294471]\n",
      "Mean entropies for all classes: [3.6774002437091326e-15, 3.3500305058618736e-15, 3.479011792856876e-15]\n",
      "              precision    recall  f1-score   support\n",
      "\n",
      "           0       1.00      1.00      1.00         5\n",
      "           1       1.00      0.40      0.57         5\n",
      "           2       0.62      1.00      0.77         5\n",
      "\n",
      "    accuracy                           0.80        15\n",
      "   macro avg       0.88      0.80      0.78        15\n",
      "weighted avg       0.88      0.80      0.78        15\n",
      "\n",
      "-------------------------------------------------------------------------------------------------------------------\n"
     ]
    },
    {
     "name": "stderr",
     "output_type": "stream",
     "text": [
      "[Parallel(n_jobs=-1)]: Done   3 out of   3 | elapsed:  1.3min finished\n",
      "[Parallel(n_jobs=-1)]: Using backend LokyBackend with 12 concurrent workers.\n"
     ]
    },
    {
     "name": "stdout",
     "output_type": "stream",
     "text": [
      "K-Fold #3\n",
      "Mean negativities for all classes: [0.33393613588728766, 0.34456933586796434, 0.3528552340466161]\n",
      "Mean entropies for all classes: [4.373986946870078e-15, 3.2550945648248214e-15, 3.5823835398558725e-15]\n",
      "              precision    recall  f1-score   support\n",
      "\n",
      "           0       1.00      0.80      0.89         5\n",
      "           1       0.80      0.80      0.80         5\n",
      "           2       0.83      1.00      0.91         5\n",
      "\n",
      "    accuracy                           0.87        15\n",
      "   macro avg       0.88      0.87      0.87        15\n",
      "weighted avg       0.88      0.87      0.87        15\n",
      "\n",
      "-------------------------------------------------------------------------------------------------------------------\n"
     ]
    },
    {
     "name": "stderr",
     "output_type": "stream",
     "text": [
      "[Parallel(n_jobs=-1)]: Done   3 out of   3 | elapsed:  1.3min finished\n",
      "[Parallel(n_jobs=-1)]: Using backend LokyBackend with 12 concurrent workers.\n"
     ]
    },
    {
     "name": "stdout",
     "output_type": "stream",
     "text": [
      "K-Fold #4\n",
      "Mean negativities for all classes: [0.33831842512199833, 0.3625766199006665, 0.355207153817155]\n",
      "Mean entropies for all classes: [3.777511121395757e-15, 4.139117407698245e-15, 2.818948329256011e-15]\n",
      "              precision    recall  f1-score   support\n",
      "\n",
      "           0       1.00      1.00      1.00         5\n",
      "           1       1.00      0.60      0.75         5\n",
      "           2       0.71      1.00      0.83         5\n",
      "\n",
      "    accuracy                           0.87        15\n",
      "   macro avg       0.90      0.87      0.86        15\n",
      "weighted avg       0.90      0.87      0.86        15\n",
      "\n",
      "-------------------------------------------------------------------------------------------------------------------\n"
     ]
    },
    {
     "name": "stderr",
     "output_type": "stream",
     "text": [
      "[Parallel(n_jobs=-1)]: Done   3 out of   3 | elapsed:  1.3min finished\n",
      "[Parallel(n_jobs=-1)]: Using backend LokyBackend with 12 concurrent workers.\n"
     ]
    },
    {
     "name": "stdout",
     "output_type": "stream",
     "text": [
      "K-Fold #5\n",
      "Mean negativities for all classes: [0.3054898497942045, 0.3603862831450575, 0.3776982112338364]\n",
      "Mean entropies for all classes: [4.435363126626458e-15, 3.4880888686001798e-15, 3.9414254928470486e-15]\n",
      "              precision    recall  f1-score   support\n",
      "\n",
      "           0       1.00      1.00      1.00         5\n",
      "           1       1.00      1.00      1.00         5\n",
      "           2       1.00      1.00      1.00         5\n",
      "\n",
      "    accuracy                           1.00        15\n",
      "   macro avg       1.00      1.00      1.00        15\n",
      "weighted avg       1.00      1.00      1.00        15\n",
      "\n",
      "-------------------------------------------------------------------------------------------------------------------\n"
     ]
    },
    {
     "name": "stderr",
     "output_type": "stream",
     "text": [
      "[Parallel(n_jobs=-1)]: Done   3 out of   3 | elapsed:  1.3min finished\n",
      "[Parallel(n_jobs=-1)]: Using backend LokyBackend with 12 concurrent workers.\n"
     ]
    },
    {
     "name": "stdout",
     "output_type": "stream",
     "text": [
      "K-Fold #6\n",
      "Mean negativities for all classes: [0.29329939296531915, 0.35598363410367856, 0.35299106934080565]\n",
      "Mean entropies for all classes: [4.701933909952703e-15, 3.77075526759287e-15, 4.015020416182675e-15]\n",
      "              precision    recall  f1-score   support\n",
      "\n",
      "           0       1.00      1.00      1.00         5\n",
      "           1       1.00      0.80      0.89         5\n",
      "           2       0.83      1.00      0.91         5\n",
      "\n",
      "    accuracy                           0.93        15\n",
      "   macro avg       0.94      0.93      0.93        15\n",
      "weighted avg       0.94      0.93      0.93        15\n",
      "\n",
      "-------------------------------------------------------------------------------------------------------------------\n"
     ]
    },
    {
     "name": "stderr",
     "output_type": "stream",
     "text": [
      "[Parallel(n_jobs=-1)]: Done   3 out of   3 | elapsed:  1.3min finished\n",
      "[Parallel(n_jobs=-1)]: Using backend LokyBackend with 12 concurrent workers.\n"
     ]
    },
    {
     "name": "stdout",
     "output_type": "stream",
     "text": [
      "K-Fold #7\n",
      "Mean negativities for all classes: [0.3023752608750497, 0.36540322392008256, 0.35383252754174127]\n",
      "Mean entropies for all classes: [3.561194024693695e-15, 3.817138900591657e-15, 4.955127156017832e-15]\n",
      "              precision    recall  f1-score   support\n",
      "\n",
      "           0       1.00      1.00      1.00         5\n",
      "           1       1.00      0.80      0.89         5\n",
      "           2       0.83      1.00      0.91         5\n",
      "\n",
      "    accuracy                           0.93        15\n",
      "   macro avg       0.94      0.93      0.93        15\n",
      "weighted avg       0.94      0.93      0.93        15\n",
      "\n",
      "-------------------------------------------------------------------------------------------------------------------\n"
     ]
    },
    {
     "name": "stderr",
     "output_type": "stream",
     "text": [
      "[Parallel(n_jobs=-1)]: Done   3 out of   3 | elapsed:  1.3min finished\n",
      "[Parallel(n_jobs=-1)]: Using backend LokyBackend with 12 concurrent workers.\n"
     ]
    },
    {
     "name": "stdout",
     "output_type": "stream",
     "text": [
      "K-Fold #8\n",
      "Mean negativities for all classes: [0.30192877846219646, 0.37032592437074646, 0.3508994225678694]\n",
      "Mean entropies for all classes: [2.8533813902223195e-15, 4.886072420871206e-15, 4.336467583866286e-15]\n",
      "              precision    recall  f1-score   support\n",
      "\n",
      "           0       1.00      1.00      1.00         5\n",
      "           1       0.75      0.60      0.67         5\n",
      "           2       0.67      0.80      0.73         5\n",
      "\n",
      "    accuracy                           0.80        15\n",
      "   macro avg       0.81      0.80      0.80        15\n",
      "weighted avg       0.81      0.80      0.80        15\n",
      "\n",
      "-------------------------------------------------------------------------------------------------------------------\n"
     ]
    },
    {
     "name": "stderr",
     "output_type": "stream",
     "text": [
      "[Parallel(n_jobs=-1)]: Done   3 out of   3 | elapsed:  1.3min finished\n",
      "[Parallel(n_jobs=-1)]: Using backend LokyBackend with 12 concurrent workers.\n"
     ]
    },
    {
     "name": "stdout",
     "output_type": "stream",
     "text": [
      "K-Fold #9\n",
      "Mean negativities for all classes: [0.3184173348005716, 0.3556714173570374, 0.3605851620037142]\n",
      "Mean entropies for all classes: [3.222939237521456e-15, 3.6775775264180885e-15, 4.048866938846306e-15]\n",
      "              precision    recall  f1-score   support\n",
      "\n",
      "           0       0.71      1.00      0.83         5\n",
      "           1       1.00      0.80      0.89         5\n",
      "           2       1.00      0.80      0.89         5\n",
      "\n",
      "    accuracy                           0.87        15\n",
      "   macro avg       0.90      0.87      0.87        15\n",
      "weighted avg       0.90      0.87      0.87        15\n",
      "\n",
      "-------------------------------------------------------------------------------------------------------------------\n",
      "AVG: Scores = 0.8733333333333333 F1-Scores = 0.8682325082325082 Negativity = [0.3413620583245646, 0.33320404517937124, 0.3419824369686037] Entropy = [3.5431207229197376e-15, 3.547310143765954e-15, 3.5021475141426277e-15]\n"
     ]
    },
    {
     "name": "stderr",
     "output_type": "stream",
     "text": [
      "[Parallel(n_jobs=-1)]: Done   3 out of   3 | elapsed:  1.3min finished\n",
      "[Parallel(n_jobs=-1)]: Using backend LokyBackend with 12 concurrent workers.\n"
     ]
    },
    {
     "name": "stdout",
     "output_type": "stream",
     "text": [
      "K-Fold #0\n",
      "Mean negativities for all classes: [0.2995526711048117, 0.3584161831467876, 0.35627408242268804]\n",
      "Mean entropies for all classes: [3.836441212168404e-15, 3.3371825889481e-15, 2.9171995123838065e-15]\n",
      "              precision    recall  f1-score   support\n",
      "\n",
      "           0       1.00      1.00      1.00         5\n",
      "           1       1.00      0.20      0.33         5\n",
      "           2       0.56      1.00      0.71         5\n",
      "\n",
      "    accuracy                           0.73        15\n",
      "   macro avg       0.85      0.73      0.68        15\n",
      "weighted avg       0.85      0.73      0.68        15\n",
      "\n",
      "-------------------------------------------------------------------------------------------------------------------\n"
     ]
    },
    {
     "name": "stderr",
     "output_type": "stream",
     "text": [
      "[Parallel(n_jobs=-1)]: Done   3 out of   3 | elapsed:  1.3min finished\n",
      "[Parallel(n_jobs=-1)]: Using backend LokyBackend with 12 concurrent workers.\n"
     ]
    },
    {
     "name": "stdout",
     "output_type": "stream",
     "text": [
      "K-Fold #1\n",
      "Mean negativities for all classes: [0.33352583576986083, 0.3573925518364144, 0.35255914552593504]\n",
      "Mean entropies for all classes: [3.1944081594332663e-15, 3.2764444041014496e-15, 3.575524303321407e-15]\n",
      "              precision    recall  f1-score   support\n",
      "\n",
      "           0       1.00      0.80      0.89         5\n",
      "           1       0.75      0.60      0.67         5\n",
      "           2       0.71      1.00      0.83         5\n",
      "\n",
      "    accuracy                           0.80        15\n",
      "   macro avg       0.82      0.80      0.80        15\n",
      "weighted avg       0.82      0.80      0.80        15\n",
      "\n",
      "-------------------------------------------------------------------------------------------------------------------\n"
     ]
    },
    {
     "name": "stderr",
     "output_type": "stream",
     "text": [
      "[Parallel(n_jobs=-1)]: Done   3 out of   3 | elapsed:  1.3min finished\n",
      "[Parallel(n_jobs=-1)]: Using backend LokyBackend with 12 concurrent workers.\n"
     ]
    },
    {
     "name": "stdout",
     "output_type": "stream",
     "text": [
      "K-Fold #2\n",
      "Mean negativities for all classes: [0.30105498182223395, 0.3644045636483572, 0.3476175647524847]\n",
      "Mean entropies for all classes: [3.868906243723782e-15, 2.8928794273671356e-15, 4.392519884573615e-15]\n",
      "              precision    recall  f1-score   support\n",
      "\n",
      "           0       1.00      1.00      1.00         5\n",
      "           1       1.00      0.80      0.89         5\n",
      "           2       0.83      1.00      0.91         5\n",
      "\n",
      "    accuracy                           0.93        15\n",
      "   macro avg       0.94      0.93      0.93        15\n",
      "weighted avg       0.94      0.93      0.93        15\n",
      "\n",
      "-------------------------------------------------------------------------------------------------------------------\n"
     ]
    },
    {
     "name": "stderr",
     "output_type": "stream",
     "text": [
      "[Parallel(n_jobs=-1)]: Done   3 out of   3 | elapsed:  1.3min finished\n",
      "[Parallel(n_jobs=-1)]: Using backend LokyBackend with 12 concurrent workers.\n"
     ]
    },
    {
     "name": "stdout",
     "output_type": "stream",
     "text": [
      "K-Fold #3\n",
      "Mean negativities for all classes: [0.3115382705435094, 0.3667837142170683, 0.35284371017993177]\n",
      "Mean entropies for all classes: [3.5110955310266546e-15, 3.8489924828732434e-15, 3.470919328059815e-15]\n",
      "              precision    recall  f1-score   support\n",
      "\n",
      "           0       1.00      1.00      1.00         5\n",
      "           1       1.00      0.40      0.57         5\n",
      "           2       0.62      1.00      0.77         5\n",
      "\n",
      "    accuracy                           0.80        15\n",
      "   macro avg       0.88      0.80      0.78        15\n",
      "weighted avg       0.88      0.80      0.78        15\n",
      "\n",
      "-------------------------------------------------------------------------------------------------------------------\n"
     ]
    },
    {
     "name": "stderr",
     "output_type": "stream",
     "text": [
      "[Parallel(n_jobs=-1)]: Done   3 out of   3 | elapsed:  1.3min finished\n",
      "[Parallel(n_jobs=-1)]: Using backend LokyBackend with 12 concurrent workers.\n"
     ]
    },
    {
     "name": "stdout",
     "output_type": "stream",
     "text": [
      "K-Fold #4\n",
      "Mean negativities for all classes: [0.32329772430213594, 0.35838962613793984, 0.38817990099847954]\n",
      "Mean entropies for all classes: [3.838672378385212e-15, 3.475679847909814e-15, 4.231751191274807e-15]\n",
      "              precision    recall  f1-score   support\n",
      "\n",
      "           0       1.00      1.00      1.00         5\n",
      "           1       1.00      1.00      1.00         5\n",
      "           2       1.00      1.00      1.00         5\n",
      "\n",
      "    accuracy                           1.00        15\n",
      "   macro avg       1.00      1.00      1.00        15\n",
      "weighted avg       1.00      1.00      1.00        15\n",
      "\n",
      "-------------------------------------------------------------------------------------------------------------------\n"
     ]
    },
    {
     "name": "stderr",
     "output_type": "stream",
     "text": [
      "[Parallel(n_jobs=-1)]: Done   3 out of   3 | elapsed:  1.3min finished\n",
      "[Parallel(n_jobs=-1)]: Using backend LokyBackend with 12 concurrent workers.\n"
     ]
    },
    {
     "name": "stdout",
     "output_type": "stream",
     "text": [
      "K-Fold #5\n",
      "Mean negativities for all classes: [0.3054679602152027, 0.36906315290335406, 0.3482293407369498]\n",
      "Mean entropies for all classes: [3.819122318430223e-15, 3.464778106568502e-15, 4.001969304201066e-15]\n",
      "              precision    recall  f1-score   support\n",
      "\n",
      "           0       0.83      1.00      0.91         5\n",
      "           1       1.00      0.60      0.75         5\n",
      "           2       0.83      1.00      0.91         5\n",
      "\n",
      "    accuracy                           0.87        15\n",
      "   macro avg       0.89      0.87      0.86        15\n",
      "weighted avg       0.89      0.87      0.86        15\n",
      "\n",
      "-------------------------------------------------------------------------------------------------------------------\n"
     ]
    },
    {
     "name": "stderr",
     "output_type": "stream",
     "text": [
      "[Parallel(n_jobs=-1)]: Done   3 out of   3 | elapsed:  1.3min finished\n",
      "[Parallel(n_jobs=-1)]: Using backend LokyBackend with 12 concurrent workers.\n"
     ]
    },
    {
     "name": "stdout",
     "output_type": "stream",
     "text": [
      "K-Fold #6\n",
      "Mean negativities for all classes: [0.29693809216068157, 0.35488390769546274, 0.3443265053981779]\n",
      "Mean entropies for all classes: [3.579366968740953e-15, 3.2296327032377422e-15, 3.868326068530581e-15]\n",
      "              precision    recall  f1-score   support\n",
      "\n",
      "           0       1.00      1.00      1.00         5\n",
      "           1       1.00      0.60      0.75         5\n",
      "           2       0.71      1.00      0.83         5\n",
      "\n",
      "    accuracy                           0.87        15\n",
      "   macro avg       0.90      0.87      0.86        15\n",
      "weighted avg       0.90      0.87      0.86        15\n",
      "\n",
      "-------------------------------------------------------------------------------------------------------------------\n"
     ]
    },
    {
     "name": "stderr",
     "output_type": "stream",
     "text": [
      "[Parallel(n_jobs=-1)]: Done   3 out of   3 | elapsed:  1.3min finished\n",
      "[Parallel(n_jobs=-1)]: Using backend LokyBackend with 12 concurrent workers.\n"
     ]
    },
    {
     "name": "stdout",
     "output_type": "stream",
     "text": [
      "K-Fold #7\n",
      "Mean negativities for all classes: [0.27888420064781483, 0.363354955341178, 0.35557715005175916]\n",
      "Mean entropies for all classes: [3.549263346267963e-15, 3.103203677674661e-15, 4.238714881796852e-15]\n",
      "              precision    recall  f1-score   support\n",
      "\n",
      "           0       1.00      1.00      1.00         5\n",
      "           1       1.00      0.60      0.75         5\n",
      "           2       0.71      1.00      0.83         5\n",
      "\n",
      "    accuracy                           0.87        15\n",
      "   macro avg       0.90      0.87      0.86        15\n",
      "weighted avg       0.90      0.87      0.86        15\n",
      "\n",
      "-------------------------------------------------------------------------------------------------------------------\n"
     ]
    },
    {
     "name": "stderr",
     "output_type": "stream",
     "text": [
      "[Parallel(n_jobs=-1)]: Done   3 out of   3 | elapsed:  1.3min finished\n",
      "[Parallel(n_jobs=-1)]: Using backend LokyBackend with 12 concurrent workers.\n"
     ]
    },
    {
     "name": "stdout",
     "output_type": "stream",
     "text": [
      "K-Fold #8\n",
      "Mean negativities for all classes: [0.29274644864924315, 0.36659276770878985, 0.36847940046887123]\n",
      "Mean entropies for all classes: [4.4393497965840626e-15, 2.8337365019456576e-15, 4.281851892154307e-15]\n",
      "              precision    recall  f1-score   support\n",
      "\n",
      "           0       1.00      1.00      1.00         5\n",
      "           1       0.80      0.80      0.80         5\n",
      "           2       0.80      0.80      0.80         5\n",
      "\n",
      "    accuracy                           0.87        15\n",
      "   macro avg       0.87      0.87      0.87        15\n",
      "weighted avg       0.87      0.87      0.87        15\n",
      "\n",
      "-------------------------------------------------------------------------------------------------------------------\n"
     ]
    },
    {
     "name": "stderr",
     "output_type": "stream",
     "text": [
      "[Parallel(n_jobs=-1)]: Done   3 out of   3 | elapsed:  1.3min finished\n",
      "[Parallel(n_jobs=-1)]: Using backend LokyBackend with 12 concurrent workers.\n"
     ]
    },
    {
     "name": "stdout",
     "output_type": "stream",
     "text": [
      "K-Fold #9\n",
      "Mean negativities for all classes: [0.29732998511859327, 0.3586635377347995, 0.348365280714593]\n",
      "Mean entropies for all classes: [3.937139516292166e-15, 3.593324160409547e-15, 3.1790319297496404e-15]\n",
      "              precision    recall  f1-score   support\n",
      "\n",
      "           0       1.00      1.00      1.00         5\n",
      "           1       1.00      0.80      0.89         5\n",
      "           2       0.83      1.00      0.91         5\n",
      "\n",
      "    accuracy                           0.93        15\n",
      "   macro avg       0.94      0.93      0.93        15\n",
      "weighted avg       0.94      0.93      0.93        15\n",
      "\n",
      "-------------------------------------------------------------------------------------------------------------------\n",
      "AVG: Scores = 0.8666666666666668 F1-Scores = 0.856932511932512 Negativity = [0.33808097889142913, 0.3478258443774034, 0.3376923700743586] Entropy = [3.3636077711667697e-15, 3.3487922889520414e-15, 3.718101851888178e-15]\n"
     ]
    },
    {
     "name": "stderr",
     "output_type": "stream",
     "text": [
      "[Parallel(n_jobs=-1)]: Done   3 out of   3 | elapsed:  1.3min finished\n",
      "[Parallel(n_jobs=-1)]: Using backend LokyBackend with 12 concurrent workers.\n"
     ]
    },
    {
     "name": "stdout",
     "output_type": "stream",
     "text": [
      "K-Fold #0\n",
      "Mean negativities for all classes: [0.28212043827023037, 0.36759941991229506, 0.35327788797815624]\n",
      "Mean entropies for all classes: [4.5508659567692695e-15, 3.4274745830597252e-15, 3.3912640532442815e-15]\n",
      "              precision    recall  f1-score   support\n",
      "\n",
      "           0       1.00      1.00      1.00         5\n",
      "           1       1.00      0.60      0.75         5\n",
      "           2       0.71      1.00      0.83         5\n",
      "\n",
      "    accuracy                           0.87        15\n",
      "   macro avg       0.90      0.87      0.86        15\n",
      "weighted avg       0.90      0.87      0.86        15\n",
      "\n",
      "-------------------------------------------------------------------------------------------------------------------\n"
     ]
    },
    {
     "name": "stderr",
     "output_type": "stream",
     "text": [
      "[Parallel(n_jobs=-1)]: Done   3 out of   3 | elapsed:  1.3min finished\n",
      "[Parallel(n_jobs=-1)]: Using backend LokyBackend with 12 concurrent workers.\n"
     ]
    },
    {
     "name": "stdout",
     "output_type": "stream",
     "text": [
      "K-Fold #1\n",
      "Mean negativities for all classes: [0.30845630338068886, 0.3549666203670434, 0.3625000050086016]\n",
      "Mean entropies for all classes: [3.5777972608588545e-15, 4.679892037329853e-15, 2.8855274975089506e-15]\n",
      "              precision    recall  f1-score   support\n",
      "\n",
      "           0       1.00      1.00      1.00         5\n",
      "           1       1.00      1.00      1.00         5\n",
      "           2       1.00      1.00      1.00         5\n",
      "\n",
      "    accuracy                           1.00        15\n",
      "   macro avg       1.00      1.00      1.00        15\n",
      "weighted avg       1.00      1.00      1.00        15\n",
      "\n",
      "-------------------------------------------------------------------------------------------------------------------\n"
     ]
    },
    {
     "name": "stderr",
     "output_type": "stream",
     "text": [
      "[Parallel(n_jobs=-1)]: Done   3 out of   3 | elapsed:  1.3min finished\n",
      "[Parallel(n_jobs=-1)]: Using backend LokyBackend with 12 concurrent workers.\n"
     ]
    },
    {
     "name": "stdout",
     "output_type": "stream",
     "text": [
      "K-Fold #2\n",
      "Mean negativities for all classes: [0.3060306795657441, 0.3527713176672343, 0.3547308336851628]\n",
      "Mean entropies for all classes: [4.216613135142276e-15, 4.6934296089974646e-15, 3.287233986993833e-15]\n",
      "              precision    recall  f1-score   support\n",
      "\n",
      "           0       1.00      1.00      1.00         5\n",
      "           1       1.00      0.40      0.57         5\n",
      "           2       0.62      1.00      0.77         5\n",
      "\n",
      "    accuracy                           0.80        15\n",
      "   macro avg       0.88      0.80      0.78        15\n",
      "weighted avg       0.88      0.80      0.78        15\n",
      "\n",
      "-------------------------------------------------------------------------------------------------------------------\n"
     ]
    },
    {
     "name": "stderr",
     "output_type": "stream",
     "text": [
      "[Parallel(n_jobs=-1)]: Done   3 out of   3 | elapsed:  1.3min finished\n",
      "[Parallel(n_jobs=-1)]: Using backend LokyBackend with 12 concurrent workers.\n"
     ]
    },
    {
     "name": "stdout",
     "output_type": "stream",
     "text": [
      "K-Fold #3\n",
      "Mean negativities for all classes: [0.3153445747537233, 0.3632721846896091, 0.3511005065360776]\n",
      "Mean entropies for all classes: [3.4709436892826924e-15, 4.290951386608676e-15, 3.9510900784671794e-15]\n",
      "              precision    recall  f1-score   support\n",
      "\n",
      "           0       0.83      1.00      0.91         5\n",
      "           1       1.00      1.00      1.00         5\n",
      "           2       1.00      0.80      0.89         5\n",
      "\n",
      "    accuracy                           0.93        15\n",
      "   macro avg       0.94      0.93      0.93        15\n",
      "weighted avg       0.94      0.93      0.93        15\n",
      "\n",
      "-------------------------------------------------------------------------------------------------------------------\n"
     ]
    },
    {
     "name": "stderr",
     "output_type": "stream",
     "text": [
      "[Parallel(n_jobs=-1)]: Done   3 out of   3 | elapsed:  1.3min finished\n",
      "[Parallel(n_jobs=-1)]: Using backend LokyBackend with 12 concurrent workers.\n"
     ]
    },
    {
     "name": "stdout",
     "output_type": "stream",
     "text": [
      "K-Fold #4\n",
      "Mean negativities for all classes: [0.2746423037402563, 0.35091039121191164, 0.36171961082820486]\n",
      "Mean entropies for all classes: [3.672613802686959e-15, 3.0502505630018257e-15, 3.048322910088736e-15]\n",
      "              precision    recall  f1-score   support\n",
      "\n",
      "           0       0.71      1.00      0.83         5\n",
      "           1       0.80      0.80      0.80         5\n",
      "           2       1.00      0.60      0.75         5\n",
      "\n",
      "    accuracy                           0.80        15\n",
      "   macro avg       0.84      0.80      0.79        15\n",
      "weighted avg       0.84      0.80      0.79        15\n",
      "\n",
      "-------------------------------------------------------------------------------------------------------------------\n"
     ]
    },
    {
     "name": "stderr",
     "output_type": "stream",
     "text": [
      "[Parallel(n_jobs=-1)]: Done   3 out of   3 | elapsed:  1.3min finished\n",
      "[Parallel(n_jobs=-1)]: Using backend LokyBackend with 12 concurrent workers.\n"
     ]
    },
    {
     "name": "stdout",
     "output_type": "stream",
     "text": [
      "K-Fold #5\n",
      "Mean negativities for all classes: [0.3228235165890193, 0.35947197842449713, 0.353936919038683]\n",
      "Mean entropies for all classes: [3.942001732629928e-15, 4.46123022161206e-15, 4.5671900924069534e-15]\n",
      "              precision    recall  f1-score   support\n",
      "\n",
      "           0       1.00      0.80      0.89         5\n",
      "           1       0.83      1.00      0.91         5\n",
      "           2       1.00      1.00      1.00         5\n",
      "\n",
      "    accuracy                           0.93        15\n",
      "   macro avg       0.94      0.93      0.93        15\n",
      "weighted avg       0.94      0.93      0.93        15\n",
      "\n",
      "-------------------------------------------------------------------------------------------------------------------\n"
     ]
    },
    {
     "name": "stderr",
     "output_type": "stream",
     "text": [
      "[Parallel(n_jobs=-1)]: Done   3 out of   3 | elapsed:  1.3min finished\n",
      "[Parallel(n_jobs=-1)]: Using backend LokyBackend with 12 concurrent workers.\n"
     ]
    },
    {
     "name": "stdout",
     "output_type": "stream",
     "text": [
      "K-Fold #6\n",
      "Mean negativities for all classes: [0.2988998262562042, 0.36759278079162827, 0.3750221756791999]\n",
      "Mean entropies for all classes: [3.995752891398422e-15, 3.1043170800491678e-15, 4.002370439575611e-15]\n",
      "              precision    recall  f1-score   support\n",
      "\n",
      "           0       0.83      1.00      0.91         5\n",
      "           1       0.80      0.80      0.80         5\n",
      "           2       1.00      0.80      0.89         5\n",
      "\n",
      "    accuracy                           0.87        15\n",
      "   macro avg       0.88      0.87      0.87        15\n",
      "weighted avg       0.88      0.87      0.87        15\n",
      "\n",
      "-------------------------------------------------------------------------------------------------------------------\n"
     ]
    },
    {
     "name": "stderr",
     "output_type": "stream",
     "text": [
      "[Parallel(n_jobs=-1)]: Done   3 out of   3 | elapsed:  1.3min finished\n",
      "[Parallel(n_jobs=-1)]: Using backend LokyBackend with 12 concurrent workers.\n"
     ]
    },
    {
     "name": "stdout",
     "output_type": "stream",
     "text": [
      "K-Fold #7\n",
      "Mean negativities for all classes: [0.3015870471027752, 0.3625781191618131, 0.35408438219569993]\n",
      "Mean entropies for all classes: [4.117444982486733e-15, 2.8691728819834593e-15, 3.3295491861352635e-15]\n",
      "              precision    recall  f1-score   support\n",
      "\n",
      "           0       1.00      1.00      1.00         5\n",
      "           1       1.00      0.60      0.75         5\n",
      "           2       0.71      1.00      0.83         5\n",
      "\n",
      "    accuracy                           0.87        15\n",
      "   macro avg       0.90      0.87      0.86        15\n",
      "weighted avg       0.90      0.87      0.86        15\n",
      "\n",
      "-------------------------------------------------------------------------------------------------------------------\n"
     ]
    },
    {
     "name": "stderr",
     "output_type": "stream",
     "text": [
      "[Parallel(n_jobs=-1)]: Done   3 out of   3 | elapsed:  1.3min finished\n",
      "[Parallel(n_jobs=-1)]: Using backend LokyBackend with 12 concurrent workers.\n"
     ]
    },
    {
     "name": "stdout",
     "output_type": "stream",
     "text": [
      "K-Fold #8\n",
      "Mean negativities for all classes: [0.28453215651421704, 0.3626338866166485, 0.3503890893461298]\n",
      "Mean entropies for all classes: [4.129957270218585e-15, 4.320730716592697e-15, 4.066250267230058e-15]\n",
      "              precision    recall  f1-score   support\n",
      "\n",
      "           0       1.00      1.00      1.00         5\n",
      "           1       1.00      0.60      0.75         5\n",
      "           2       0.71      1.00      0.83         5\n",
      "\n",
      "    accuracy                           0.87        15\n",
      "   macro avg       0.90      0.87      0.86        15\n",
      "weighted avg       0.90      0.87      0.86        15\n",
      "\n",
      "-------------------------------------------------------------------------------------------------------------------\n"
     ]
    },
    {
     "name": "stderr",
     "output_type": "stream",
     "text": [
      "[Parallel(n_jobs=-1)]: Done   3 out of   3 | elapsed:  1.3min finished\n",
      "[Parallel(n_jobs=-1)]: Using backend LokyBackend with 12 concurrent workers.\n"
     ]
    },
    {
     "name": "stdout",
     "output_type": "stream",
     "text": [
      "K-Fold #9\n",
      "Mean negativities for all classes: [0.31876832350757384, 0.3737974169211669, 0.3554403074470595]\n",
      "Mean entropies for all classes: [3.1155144241660482e-15, 3.631614599568119e-15, 3.1582518521247985e-15]\n",
      "              precision    recall  f1-score   support\n",
      "\n",
      "           0       1.00      1.00      1.00         5\n",
      "           1       1.00      0.20      0.33         5\n",
      "           2       0.56      1.00      0.71         5\n",
      "\n",
      "    accuracy                           0.73        15\n",
      "   macro avg       0.85      0.73      0.68        15\n",
      "weighted avg       0.85      0.73      0.68        15\n",
      "\n",
      "-------------------------------------------------------------------------------------------------------------------\n",
      "AVG: Scores = 0.8666666666666666 F1-Scores = 0.8571850371850372 Negativity = [0.33433258205356053, 0.3419743095854446, 0.3378442769727137] Entropy = [3.789868197691092e-15, 3.714405598565886e-15, 4.0657589103778575e-15]\n"
     ]
    },
    {
     "name": "stderr",
     "output_type": "stream",
     "text": [
      "[Parallel(n_jobs=-1)]: Done   3 out of   3 | elapsed:  1.3min finished\n",
      "[Parallel(n_jobs=-1)]: Using backend LokyBackend with 12 concurrent workers.\n"
     ]
    },
    {
     "name": "stdout",
     "output_type": "stream",
     "text": [
      "K-Fold #0\n",
      "Mean negativities for all classes: [0.29625267881202527, 0.36355082205816974, 0.3508137301319325]\n",
      "Mean entropies for all classes: [3.181264226461335e-15, 2.884602014103527e-15, 3.653573479071938e-15]\n",
      "              precision    recall  f1-score   support\n",
      "\n",
      "           0       0.83      1.00      0.91         5\n",
      "           1       1.00      0.60      0.75         5\n",
      "           2       0.67      0.80      0.73         5\n",
      "\n",
      "    accuracy                           0.80        15\n",
      "   macro avg       0.83      0.80      0.80        15\n",
      "weighted avg       0.83      0.80      0.80        15\n",
      "\n",
      "-------------------------------------------------------------------------------------------------------------------\n"
     ]
    },
    {
     "name": "stderr",
     "output_type": "stream",
     "text": [
      "[Parallel(n_jobs=-1)]: Done   3 out of   3 | elapsed:  1.3min finished\n",
      "[Parallel(n_jobs=-1)]: Using backend LokyBackend with 12 concurrent workers.\n"
     ]
    },
    {
     "name": "stdout",
     "output_type": "stream",
     "text": [
      "K-Fold #1\n",
      "Mean negativities for all classes: [0.2751173730406806, 0.34676970975516136, 0.3408611730432127]\n",
      "Mean entropies for all classes: [3.72726936149785e-15, 4.533232846852031e-15, 4.354931842010851e-15]\n",
      "              precision    recall  f1-score   support\n",
      "\n",
      "           0       1.00      1.00      1.00         5\n",
      "           1       1.00      1.00      1.00         5\n",
      "           2       1.00      1.00      1.00         5\n",
      "\n",
      "    accuracy                           1.00        15\n",
      "   macro avg       1.00      1.00      1.00        15\n",
      "weighted avg       1.00      1.00      1.00        15\n",
      "\n",
      "-------------------------------------------------------------------------------------------------------------------\n"
     ]
    },
    {
     "name": "stderr",
     "output_type": "stream",
     "text": [
      "[Parallel(n_jobs=-1)]: Done   3 out of   3 | elapsed:  1.3min finished\n",
      "[Parallel(n_jobs=-1)]: Using backend LokyBackend with 12 concurrent workers.\n"
     ]
    },
    {
     "name": "stdout",
     "output_type": "stream",
     "text": [
      "K-Fold #2\n",
      "Mean negativities for all classes: [0.3385850689560364, 0.3599011799361511, 0.3441131825254089]\n",
      "Mean entropies for all classes: [4.178817226605691e-15, 3.748237961854884e-15, 3.2780167929428943e-15]\n",
      "              precision    recall  f1-score   support\n",
      "\n",
      "           0       0.80      0.80      0.80         5\n",
      "           1       0.75      0.60      0.67         5\n",
      "           2       0.83      1.00      0.91         5\n",
      "\n",
      "    accuracy                           0.80        15\n",
      "   macro avg       0.79      0.80      0.79        15\n",
      "weighted avg       0.79      0.80      0.79        15\n",
      "\n",
      "-------------------------------------------------------------------------------------------------------------------\n"
     ]
    },
    {
     "name": "stderr",
     "output_type": "stream",
     "text": [
      "[Parallel(n_jobs=-1)]: Done   3 out of   3 | elapsed:  1.3min finished\n",
      "[Parallel(n_jobs=-1)]: Using backend LokyBackend with 12 concurrent workers.\n"
     ]
    },
    {
     "name": "stdout",
     "output_type": "stream",
     "text": [
      "K-Fold #3\n",
      "Mean negativities for all classes: [0.2941462564803187, 0.35886692554143473, 0.34571821176724066]\n",
      "Mean entropies for all classes: [4.1000250001631765e-15, 3.801729221452098e-15, 3.658630288856347e-15]\n",
      "              precision    recall  f1-score   support\n",
      "\n",
      "           0       1.00      1.00      1.00         5\n",
      "           1       1.00      0.80      0.89         5\n",
      "           2       0.83      1.00      0.91         5\n",
      "\n",
      "    accuracy                           0.93        15\n",
      "   macro avg       0.94      0.93      0.93        15\n",
      "weighted avg       0.94      0.93      0.93        15\n",
      "\n",
      "-------------------------------------------------------------------------------------------------------------------\n"
     ]
    },
    {
     "name": "stderr",
     "output_type": "stream",
     "text": [
      "[Parallel(n_jobs=-1)]: Done   3 out of   3 | elapsed:  1.3min finished\n",
      "[Parallel(n_jobs=-1)]: Using backend LokyBackend with 12 concurrent workers.\n"
     ]
    },
    {
     "name": "stdout",
     "output_type": "stream",
     "text": [
      "K-Fold #4\n",
      "Mean negativities for all classes: [0.3026962912488333, 0.3518111133177238, 0.35273572166976935]\n",
      "Mean entropies for all classes: [3.267460685370521e-15, 3.2733571386718396e-15, 3.2812588953249667e-15]\n",
      "              precision    recall  f1-score   support\n",
      "\n",
      "           0       1.00      1.00      1.00         5\n",
      "           1       1.00      0.60      0.75         5\n",
      "           2       0.71      1.00      0.83         5\n",
      "\n",
      "    accuracy                           0.87        15\n",
      "   macro avg       0.90      0.87      0.86        15\n",
      "weighted avg       0.90      0.87      0.86        15\n",
      "\n",
      "-------------------------------------------------------------------------------------------------------------------\n"
     ]
    },
    {
     "name": "stderr",
     "output_type": "stream",
     "text": [
      "[Parallel(n_jobs=-1)]: Done   3 out of   3 | elapsed:  1.3min finished\n",
      "[Parallel(n_jobs=-1)]: Using backend LokyBackend with 12 concurrent workers.\n"
     ]
    },
    {
     "name": "stdout",
     "output_type": "stream",
     "text": [
      "K-Fold #5\n",
      "Mean negativities for all classes: [0.29970329205009644, 0.3682899743747291, 0.35505485116303426]\n",
      "Mean entropies for all classes: [3.819499739529504e-15, 2.818546715899247e-15, 3.5292876137300328e-15]\n",
      "              precision    recall  f1-score   support\n",
      "\n",
      "           0       1.00      1.00      1.00         5\n",
      "           1       1.00      0.60      0.75         5\n",
      "           2       0.71      1.00      0.83         5\n",
      "\n",
      "    accuracy                           0.87        15\n",
      "   macro avg       0.90      0.87      0.86        15\n",
      "weighted avg       0.90      0.87      0.86        15\n",
      "\n",
      "-------------------------------------------------------------------------------------------------------------------\n"
     ]
    },
    {
     "name": "stderr",
     "output_type": "stream",
     "text": [
      "[Parallel(n_jobs=-1)]: Done   3 out of   3 | elapsed:  1.3min finished\n",
      "[Parallel(n_jobs=-1)]: Using backend LokyBackend with 12 concurrent workers.\n"
     ]
    },
    {
     "name": "stdout",
     "output_type": "stream",
     "text": [
      "K-Fold #6\n",
      "Mean negativities for all classes: [0.31001660226636857, 0.3697684442292571, 0.3561995249422435]\n",
      "Mean entropies for all classes: [3.720095599118001e-15, 4.206749207600476e-15, 4.160040720399468e-15]\n",
      "              precision    recall  f1-score   support\n",
      "\n",
      "           0       1.00      1.00      1.00         5\n",
      "           1       1.00      0.40      0.57         5\n",
      "           2       0.62      1.00      0.77         5\n",
      "\n",
      "    accuracy                           0.80        15\n",
      "   macro avg       0.88      0.80      0.78        15\n",
      "weighted avg       0.88      0.80      0.78        15\n",
      "\n",
      "-------------------------------------------------------------------------------------------------------------------\n"
     ]
    },
    {
     "name": "stderr",
     "output_type": "stream",
     "text": [
      "[Parallel(n_jobs=-1)]: Done   3 out of   3 | elapsed:  1.3min finished\n",
      "[Parallel(n_jobs=-1)]: Using backend LokyBackend with 12 concurrent workers.\n"
     ]
    },
    {
     "name": "stdout",
     "output_type": "stream",
     "text": [
      "K-Fold #7\n",
      "Mean negativities for all classes: [0.30657126531656426, 0.3627021373777348, 0.34511855563888816]\n",
      "Mean entropies for all classes: [4.2503733886069796e-15, 4.391928256638193e-15, 3.7421016131292506e-15]\n",
      "              precision    recall  f1-score   support\n",
      "\n",
      "           0       1.00      1.00      1.00         5\n",
      "           1       1.00      0.80      0.89         5\n",
      "           2       0.83      1.00      0.91         5\n",
      "\n",
      "    accuracy                           0.93        15\n",
      "   macro avg       0.94      0.93      0.93        15\n",
      "weighted avg       0.94      0.93      0.93        15\n",
      "\n",
      "-------------------------------------------------------------------------------------------------------------------\n"
     ]
    },
    {
     "name": "stderr",
     "output_type": "stream",
     "text": [
      "[Parallel(n_jobs=-1)]: Done   3 out of   3 | elapsed:  1.3min finished\n",
      "[Parallel(n_jobs=-1)]: Using backend LokyBackend with 12 concurrent workers.\n"
     ]
    },
    {
     "name": "stdout",
     "output_type": "stream",
     "text": [
      "K-Fold #8\n",
      "Mean negativities for all classes: [0.31730718786829076, 0.3663978428012066, 0.3640761022772787]\n",
      "Mean entropies for all classes: [3.4858228544422353e-15, 3.006928132437342e-15, 4.17437410940891e-15]\n",
      "              precision    recall  f1-score   support\n",
      "\n",
      "           0       1.00      1.00      1.00         5\n",
      "           1       1.00      0.60      0.75         5\n",
      "           2       0.71      1.00      0.83         5\n",
      "\n",
      "    accuracy                           0.87        15\n",
      "   macro avg       0.90      0.87      0.86        15\n",
      "weighted avg       0.90      0.87      0.86        15\n",
      "\n",
      "-------------------------------------------------------------------------------------------------------------------\n"
     ]
    },
    {
     "name": "stderr",
     "output_type": "stream",
     "text": [
      "[Parallel(n_jobs=-1)]: Done   3 out of   3 | elapsed:  1.3min finished\n",
      "[Parallel(n_jobs=-1)]: Using backend LokyBackend with 12 concurrent workers.\n"
     ]
    },
    {
     "name": "stdout",
     "output_type": "stream",
     "text": [
      "K-Fold #9\n",
      "Mean negativities for all classes: [0.3149389696135189, 0.3734435962430339, 0.342722190788156]\n",
      "Mean entropies for all classes: [3.776228478349531e-15, 3.3468466927297397e-15, 3.8173239587321344e-15]\n",
      "              precision    recall  f1-score   support\n",
      "\n",
      "           0       1.00      1.00      1.00         5\n",
      "           1       1.00      0.80      0.89         5\n",
      "           2       0.83      1.00      0.91         5\n",
      "\n",
      "    accuracy                           0.93        15\n",
      "   macro avg       0.94      0.93      0.93        15\n",
      "weighted avg       0.94      0.93      0.93        15\n",
      "\n",
      "-------------------------------------------------------------------------------------------------------------------\n",
      "AVG: Scores = 0.8800000000000001 F1-Scores = 0.8748906648906649 Negativity = [0.3368724103340425, 0.3209160852796849, 0.3475331438058655] Entropy = [3.2398132398789334e-15, 4.205144683453577e-15, 3.735023993801157e-15]\n"
     ]
    },
    {
     "name": "stderr",
     "output_type": "stream",
     "text": [
      "[Parallel(n_jobs=-1)]: Done   3 out of   3 | elapsed:  1.3min finished\n",
      "[Parallel(n_jobs=-1)]: Using backend LokyBackend with 12 concurrent workers.\n"
     ]
    },
    {
     "name": "stdout",
     "output_type": "stream",
     "text": [
      "K-Fold #0\n",
      "Mean negativities for all classes: [0.3305499269680163, 0.3601405897047298, 0.36032642194030884]\n",
      "Mean entropies for all classes: [3.809610351912976e-15, 3.3089297523941833e-15, 3.104016880778683e-15]\n",
      "              precision    recall  f1-score   support\n",
      "\n",
      "           0       1.00      1.00      1.00         5\n",
      "           1       1.00      0.80      0.89         5\n",
      "           2       0.83      1.00      0.91         5\n",
      "\n",
      "    accuracy                           0.93        15\n",
      "   macro avg       0.94      0.93      0.93        15\n",
      "weighted avg       0.94      0.93      0.93        15\n",
      "\n",
      "-------------------------------------------------------------------------------------------------------------------\n"
     ]
    },
    {
     "name": "stderr",
     "output_type": "stream",
     "text": [
      "[Parallel(n_jobs=-1)]: Done   3 out of   3 | elapsed:  1.3min finished\n",
      "[Parallel(n_jobs=-1)]: Using backend LokyBackend with 12 concurrent workers.\n"
     ]
    },
    {
     "name": "stdout",
     "output_type": "stream",
     "text": [
      "K-Fold #1\n",
      "Mean negativities for all classes: [0.29705193909829003, 0.34314893523100665, 0.3540918579256854]\n",
      "Mean entropies for all classes: [3.6729463436402165e-15, 3.570987725733309e-15, 3.150378414032098e-15]\n",
      "              precision    recall  f1-score   support\n",
      "\n",
      "           0       1.00      1.00      1.00         5\n",
      "           1       1.00      1.00      1.00         5\n",
      "           2       1.00      1.00      1.00         5\n",
      "\n",
      "    accuracy                           1.00        15\n",
      "   macro avg       1.00      1.00      1.00        15\n",
      "weighted avg       1.00      1.00      1.00        15\n",
      "\n",
      "-------------------------------------------------------------------------------------------------------------------\n"
     ]
    },
    {
     "name": "stderr",
     "output_type": "stream",
     "text": [
      "[Parallel(n_jobs=-1)]: Done   3 out of   3 | elapsed:  1.3min finished\n",
      "[Parallel(n_jobs=-1)]: Using backend LokyBackend with 12 concurrent workers.\n"
     ]
    },
    {
     "name": "stdout",
     "output_type": "stream",
     "text": [
      "K-Fold #2\n",
      "Mean negativities for all classes: [0.2946552191767081, 0.35632136726089064, 0.35315912341825634]\n",
      "Mean entropies for all classes: [3.918840240983023e-15, 3.7760107475191416e-15, 3.632641177348487e-15]\n",
      "              precision    recall  f1-score   support\n",
      "\n",
      "           0       1.00      1.00      1.00         5\n",
      "           1       1.00      0.80      0.89         5\n",
      "           2       0.83      1.00      0.91         5\n",
      "\n",
      "    accuracy                           0.93        15\n",
      "   macro avg       0.94      0.93      0.93        15\n",
      "weighted avg       0.94      0.93      0.93        15\n",
      "\n",
      "-------------------------------------------------------------------------------------------------------------------\n"
     ]
    },
    {
     "name": "stderr",
     "output_type": "stream",
     "text": [
      "[Parallel(n_jobs=-1)]: Done   3 out of   3 | elapsed:  1.3min finished\n",
      "[Parallel(n_jobs=-1)]: Using backend LokyBackend with 12 concurrent workers.\n"
     ]
    },
    {
     "name": "stdout",
     "output_type": "stream",
     "text": [
      "K-Fold #3\n",
      "Mean negativities for all classes: [0.30642966472388955, 0.3622860218780526, 0.3560279280474996]\n",
      "Mean entropies for all classes: [3.6127069441093114e-15, 3.083147978913533e-15, 4.354308182133467e-15]\n",
      "              precision    recall  f1-score   support\n",
      "\n",
      "           0       1.00      1.00      1.00         5\n",
      "           1       1.00      0.80      0.89         5\n",
      "           2       0.83      1.00      0.91         5\n",
      "\n",
      "    accuracy                           0.93        15\n",
      "   macro avg       0.94      0.93      0.93        15\n",
      "weighted avg       0.94      0.93      0.93        15\n",
      "\n",
      "-------------------------------------------------------------------------------------------------------------------\n"
     ]
    },
    {
     "name": "stderr",
     "output_type": "stream",
     "text": [
      "[Parallel(n_jobs=-1)]: Done   3 out of   3 | elapsed:  1.3min finished\n",
      "[Parallel(n_jobs=-1)]: Using backend LokyBackend with 12 concurrent workers.\n"
     ]
    },
    {
     "name": "stdout",
     "output_type": "stream",
     "text": [
      "K-Fold #4\n",
      "Mean negativities for all classes: [0.33858954841545236, 0.3740393542854393, 0.3472053304070414]\n",
      "Mean entropies for all classes: [3.332163173625238e-15, 3.700873784602226e-15, 3.1664375277526188e-15]\n",
      "              precision    recall  f1-score   support\n",
      "\n",
      "           0       0.80      0.80      0.80         5\n",
      "           1       0.80      0.80      0.80         5\n",
      "           2       1.00      1.00      1.00         5\n",
      "\n",
      "    accuracy                           0.87        15\n",
      "   macro avg       0.87      0.87      0.87        15\n",
      "weighted avg       0.87      0.87      0.87        15\n",
      "\n",
      "-------------------------------------------------------------------------------------------------------------------\n"
     ]
    },
    {
     "name": "stderr",
     "output_type": "stream",
     "text": [
      "[Parallel(n_jobs=-1)]: Done   3 out of   3 | elapsed:  1.3min finished\n",
      "[Parallel(n_jobs=-1)]: Using backend LokyBackend with 12 concurrent workers.\n"
     ]
    },
    {
     "name": "stdout",
     "output_type": "stream",
     "text": [
      "K-Fold #5\n",
      "Mean negativities for all classes: [0.28555899523644684, 0.3502835967688286, 0.3474013516755132]\n",
      "Mean entropies for all classes: [4.754211085784206e-15, 3.654620134505094e-15, 3.958231567794462e-15]\n",
      "              precision    recall  f1-score   support\n",
      "\n",
      "           0       1.00      1.00      1.00         5\n",
      "           1       0.83      1.00      0.91         5\n",
      "           2       1.00      0.80      0.89         5\n",
      "\n",
      "    accuracy                           0.93        15\n",
      "   macro avg       0.94      0.93      0.93        15\n",
      "weighted avg       0.94      0.93      0.93        15\n",
      "\n",
      "-------------------------------------------------------------------------------------------------------------------\n"
     ]
    },
    {
     "name": "stderr",
     "output_type": "stream",
     "text": [
      "[Parallel(n_jobs=-1)]: Done   3 out of   3 | elapsed:  1.3min finished\n",
      "[Parallel(n_jobs=-1)]: Using backend LokyBackend with 12 concurrent workers.\n"
     ]
    },
    {
     "name": "stdout",
     "output_type": "stream",
     "text": [
      "K-Fold #6\n",
      "Mean negativities for all classes: [0.2909078563419075, 0.3744527738093813, 0.3472779080005683]\n",
      "Mean entropies for all classes: [3.900458082525995e-15, 4.167709511553191e-15, 4.2755034773176066e-15]\n",
      "              precision    recall  f1-score   support\n",
      "\n",
      "           0       1.00      1.00      1.00         5\n",
      "           1       1.00      0.80      0.89         5\n",
      "           2       0.83      1.00      0.91         5\n",
      "\n",
      "    accuracy                           0.93        15\n",
      "   macro avg       0.94      0.93      0.93        15\n",
      "weighted avg       0.94      0.93      0.93        15\n",
      "\n",
      "-------------------------------------------------------------------------------------------------------------------\n"
     ]
    },
    {
     "name": "stderr",
     "output_type": "stream",
     "text": [
      "[Parallel(n_jobs=-1)]: Done   3 out of   3 | elapsed:  1.3min finished\n",
      "[Parallel(n_jobs=-1)]: Using backend LokyBackend with 12 concurrent workers.\n"
     ]
    },
    {
     "name": "stdout",
     "output_type": "stream",
     "text": [
      "K-Fold #7\n",
      "Mean negativities for all classes: [0.32075433388523034, 0.343229149860572, 0.3524527273437646]\n",
      "Mean entropies for all classes: [3.756636148716505e-15, 3.548863862509209e-15, 5.32347599131859e-15]\n",
      "              precision    recall  f1-score   support\n",
      "\n",
      "           0       0.83      1.00      0.91         5\n",
      "           1       1.00      0.80      0.89         5\n",
      "           2       0.80      0.80      0.80         5\n",
      "\n",
      "    accuracy                           0.87        15\n",
      "   macro avg       0.88      0.87      0.87        15\n",
      "weighted avg       0.88      0.87      0.87        15\n",
      "\n",
      "-------------------------------------------------------------------------------------------------------------------\n"
     ]
    },
    {
     "name": "stderr",
     "output_type": "stream",
     "text": [
      "[Parallel(n_jobs=-1)]: Done   3 out of   3 | elapsed:  1.3min finished\n",
      "[Parallel(n_jobs=-1)]: Using backend LokyBackend with 12 concurrent workers.\n"
     ]
    },
    {
     "name": "stdout",
     "output_type": "stream",
     "text": [
      "K-Fold #8\n",
      "Mean negativities for all classes: [0.3193917877691408, 0.3816592419198169, 0.35531274282337205]\n",
      "Mean entropies for all classes: [3.5076188814038866e-15, 3.825977046603041e-15, 3.574666162945845e-15]\n",
      "              precision    recall  f1-score   support\n",
      "\n",
      "           0       1.00      1.00      1.00         5\n",
      "           1       1.00      0.40      0.57         5\n",
      "           2       0.62      1.00      0.77         5\n",
      "\n",
      "    accuracy                           0.80        15\n",
      "   macro avg       0.88      0.80      0.78        15\n",
      "weighted avg       0.88      0.80      0.78        15\n",
      "\n",
      "-------------------------------------------------------------------------------------------------------------------\n"
     ]
    },
    {
     "name": "stderr",
     "output_type": "stream",
     "text": [
      "[Parallel(n_jobs=-1)]: Done   3 out of   3 | elapsed:  1.3min finished\n",
      "[Parallel(n_jobs=-1)]: Using backend LokyBackend with 12 concurrent workers.\n"
     ]
    },
    {
     "name": "stdout",
     "output_type": "stream",
     "text": [
      "K-Fold #9\n",
      "Mean negativities for all classes: [0.31346947689280513, 0.36900743748418063, 0.3451604529484896]\n",
      "Mean entropies for all classes: [3.0657716894763042e-15, 3.1942218692362952e-15, 4.3939935614260384e-15]\n",
      "              precision    recall  f1-score   support\n",
      "\n",
      "           0       0.83      1.00      0.91         5\n",
      "           1       1.00      0.60      0.75         5\n",
      "           2       0.67      0.80      0.73         5\n",
      "\n",
      "    accuracy                           0.80        15\n",
      "   macro avg       0.83      0.80      0.80        15\n",
      "weighted avg       0.83      0.80      0.80        15\n",
      "\n",
      "-------------------------------------------------------------------------------------------------------------------\n",
      "AVG: Scores = 0.9000000000000001 F1-Scores = 0.8971633921633921 Negativity = [0.350338979537685, 0.3314309107516607, 0.334711903285285] Entropy = [3.407518995028614e-15, 3.4647708278018745e-15, 3.775830721950217e-15]\n"
     ]
    },
    {
     "name": "stderr",
     "output_type": "stream",
     "text": [
      "[Parallel(n_jobs=-1)]: Done   3 out of   3 | elapsed:  1.3min finished\n",
      "[Parallel(n_jobs=-1)]: Using backend LokyBackend with 12 concurrent workers.\n"
     ]
    },
    {
     "name": "stdout",
     "output_type": "stream",
     "text": [
      "K-Fold #0\n",
      "Mean negativities for all classes: [0.29147969115513916, 0.3554119651486841, 0.3544832066524967]\n",
      "Mean entropies for all classes: [3.678626081028453e-15, 3.82612741561785e-15, 2.471218263042487e-15]\n",
      "              precision    recall  f1-score   support\n",
      "\n",
      "           0       0.83      1.00      0.91         5\n",
      "           1       1.00      1.00      1.00         5\n",
      "           2       1.00      0.80      0.89         5\n",
      "\n",
      "    accuracy                           0.93        15\n",
      "   macro avg       0.94      0.93      0.93        15\n",
      "weighted avg       0.94      0.93      0.93        15\n",
      "\n",
      "-------------------------------------------------------------------------------------------------------------------\n"
     ]
    },
    {
     "name": "stderr",
     "output_type": "stream",
     "text": [
      "[Parallel(n_jobs=-1)]: Done   3 out of   3 | elapsed:  1.3min finished\n",
      "[Parallel(n_jobs=-1)]: Using backend LokyBackend with 12 concurrent workers.\n"
     ]
    },
    {
     "name": "stdout",
     "output_type": "stream",
     "text": [
      "K-Fold #1\n",
      "Mean negativities for all classes: [0.3005689369190732, 0.36145774079224574, 0.35438081833091795]\n",
      "Mean entropies for all classes: [3.76259501899044e-15, 2.786862349043669e-15, 4.085459787797906e-15]\n",
      "              precision    recall  f1-score   support\n",
      "\n",
      "           0       1.00      1.00      1.00         5\n",
      "           1       1.00      0.60      0.75         5\n",
      "           2       0.71      1.00      0.83         5\n",
      "\n",
      "    accuracy                           0.87        15\n",
      "   macro avg       0.90      0.87      0.86        15\n",
      "weighted avg       0.90      0.87      0.86        15\n",
      "\n",
      "-------------------------------------------------------------------------------------------------------------------\n"
     ]
    },
    {
     "name": "stderr",
     "output_type": "stream",
     "text": [
      "[Parallel(n_jobs=-1)]: Done   3 out of   3 | elapsed:  1.3min finished\n",
      "[Parallel(n_jobs=-1)]: Using backend LokyBackend with 12 concurrent workers.\n"
     ]
    },
    {
     "name": "stdout",
     "output_type": "stream",
     "text": [
      "K-Fold #2\n",
      "Mean negativities for all classes: [0.29530713723907076, 0.36778082683764446, 0.35398021331216784]\n",
      "Mean entropies for all classes: [2.430766438226997e-15, 3.44657575423882e-15, 3.4058291856512837e-15]\n",
      "              precision    recall  f1-score   support\n",
      "\n",
      "           0       1.00      1.00      1.00         5\n",
      "           1       1.00      0.80      0.89         5\n",
      "           2       0.83      1.00      0.91         5\n",
      "\n",
      "    accuracy                           0.93        15\n",
      "   macro avg       0.94      0.93      0.93        15\n",
      "weighted avg       0.94      0.93      0.93        15\n",
      "\n",
      "-------------------------------------------------------------------------------------------------------------------\n"
     ]
    },
    {
     "name": "stderr",
     "output_type": "stream",
     "text": [
      "[Parallel(n_jobs=-1)]: Done   3 out of   3 | elapsed:  1.3min finished\n",
      "[Parallel(n_jobs=-1)]: Using backend LokyBackend with 12 concurrent workers.\n"
     ]
    },
    {
     "name": "stdout",
     "output_type": "stream",
     "text": [
      "K-Fold #3\n",
      "Mean negativities for all classes: [0.2977979771966709, 0.36101902993001045, 0.3567882823089701]\n",
      "Mean entropies for all classes: [3.3248248663996828e-15, 5.341613442756487e-15, 3.375849271853614e-15]\n",
      "              precision    recall  f1-score   support\n",
      "\n",
      "           0       1.00      1.00      1.00         5\n",
      "           1       1.00      0.80      0.89         5\n",
      "           2       0.83      1.00      0.91         5\n",
      "\n",
      "    accuracy                           0.93        15\n",
      "   macro avg       0.94      0.93      0.93        15\n",
      "weighted avg       0.94      0.93      0.93        15\n",
      "\n",
      "-------------------------------------------------------------------------------------------------------------------\n"
     ]
    },
    {
     "name": "stderr",
     "output_type": "stream",
     "text": [
      "[Parallel(n_jobs=-1)]: Done   3 out of   3 | elapsed:  1.3min finished\n",
      "[Parallel(n_jobs=-1)]: Using backend LokyBackend with 12 concurrent workers.\n"
     ]
    },
    {
     "name": "stdout",
     "output_type": "stream",
     "text": [
      "K-Fold #4\n",
      "Mean negativities for all classes: [0.30458658466928507, 0.3513565214386073, 0.3599981387562206]\n",
      "Mean entropies for all classes: [3.741212530742139e-15, 3.994422579996574e-15, 4.0577058677735065e-15]\n",
      "              precision    recall  f1-score   support\n",
      "\n",
      "           0       1.00      1.00      1.00         5\n",
      "           1       1.00      0.80      0.89         5\n",
      "           2       0.83      1.00      0.91         5\n",
      "\n",
      "    accuracy                           0.93        15\n",
      "   macro avg       0.94      0.93      0.93        15\n",
      "weighted avg       0.94      0.93      0.93        15\n",
      "\n",
      "-------------------------------------------------------------------------------------------------------------------\n"
     ]
    },
    {
     "name": "stderr",
     "output_type": "stream",
     "text": [
      "[Parallel(n_jobs=-1)]: Done   3 out of   3 | elapsed:  1.3min finished\n",
      "[Parallel(n_jobs=-1)]: Using backend LokyBackend with 12 concurrent workers.\n"
     ]
    },
    {
     "name": "stdout",
     "output_type": "stream",
     "text": [
      "K-Fold #5\n",
      "Mean negativities for all classes: [0.30450361035302353, 0.3587089074828311, 0.344564636858211]\n",
      "Mean entropies for all classes: [3.3568324189102117e-15, 2.8441985932149437e-15, 4.490239237240112e-15]\n",
      "              precision    recall  f1-score   support\n",
      "\n",
      "           0       0.83      1.00      0.91         5\n",
      "           1       0.80      0.80      0.80         5\n",
      "           2       0.75      0.60      0.67         5\n",
      "\n",
      "    accuracy                           0.80        15\n",
      "   macro avg       0.79      0.80      0.79        15\n",
      "weighted avg       0.79      0.80      0.79        15\n",
      "\n",
      "-------------------------------------------------------------------------------------------------------------------\n"
     ]
    },
    {
     "name": "stderr",
     "output_type": "stream",
     "text": [
      "[Parallel(n_jobs=-1)]: Done   3 out of   3 | elapsed:  1.3min finished\n",
      "[Parallel(n_jobs=-1)]: Using backend LokyBackend with 12 concurrent workers.\n"
     ]
    },
    {
     "name": "stdout",
     "output_type": "stream",
     "text": [
      "K-Fold #6\n",
      "Mean negativities for all classes: [0.33892103384678146, 0.382121404459296, 0.3035488694761405]\n",
      "Mean entropies for all classes: [3.6318934175647194e-15, 3.038896864178154e-15, 3.3064430523146165e-15]\n",
      "              precision    recall  f1-score   support\n",
      "\n",
      "           0       1.00      0.80      0.89         5\n",
      "           1       0.50      0.20      0.29         5\n",
      "           2       0.56      1.00      0.71         5\n",
      "\n",
      "    accuracy                           0.67        15\n",
      "   macro avg       0.69      0.67      0.63        15\n",
      "weighted avg       0.69      0.67      0.63        15\n",
      "\n",
      "-------------------------------------------------------------------------------------------------------------------\n"
     ]
    },
    {
     "name": "stderr",
     "output_type": "stream",
     "text": [
      "[Parallel(n_jobs=-1)]: Done   3 out of   3 | elapsed:  1.3min finished\n",
      "[Parallel(n_jobs=-1)]: Using backend LokyBackend with 12 concurrent workers.\n"
     ]
    },
    {
     "name": "stdout",
     "output_type": "stream",
     "text": [
      "K-Fold #7\n",
      "Mean negativities for all classes: [0.31166222386220055, 0.34034413610345915, 0.36993646945876607]\n",
      "Mean entropies for all classes: [3.364308225315321e-15, 4.992794012519502e-15, 4.037850125570331e-15]\n",
      "              precision    recall  f1-score   support\n",
      "\n",
      "           0       1.00      1.00      1.00         5\n",
      "           1       1.00      1.00      1.00         5\n",
      "           2       1.00      1.00      1.00         5\n",
      "\n",
      "    accuracy                           1.00        15\n",
      "   macro avg       1.00      1.00      1.00        15\n",
      "weighted avg       1.00      1.00      1.00        15\n",
      "\n",
      "-------------------------------------------------------------------------------------------------------------------\n"
     ]
    },
    {
     "name": "stderr",
     "output_type": "stream",
     "text": [
      "[Parallel(n_jobs=-1)]: Done   3 out of   3 | elapsed:  1.3min finished\n",
      "[Parallel(n_jobs=-1)]: Using backend LokyBackend with 12 concurrent workers.\n"
     ]
    },
    {
     "name": "stdout",
     "output_type": "stream",
     "text": [
      "K-Fold #8\n",
      "Mean negativities for all classes: [0.29409545564805645, 0.3667098188505337, 0.33940238593759803]\n",
      "Mean entropies for all classes: [3.163782518786774e-15, 3.465820635273716e-15, 4.325384544027223e-15]\n",
      "              precision    recall  f1-score   support\n",
      "\n",
      "           0       0.83      1.00      0.91         5\n",
      "           1       1.00      0.80      0.89         5\n",
      "           2       1.00      1.00      1.00         5\n",
      "\n",
      "    accuracy                           0.93        15\n",
      "   macro avg       0.94      0.93      0.93        15\n",
      "weighted avg       0.94      0.93      0.93        15\n",
      "\n",
      "-------------------------------------------------------------------------------------------------------------------\n"
     ]
    },
    {
     "name": "stderr",
     "output_type": "stream",
     "text": [
      "[Parallel(n_jobs=-1)]: Done   3 out of   3 | elapsed:  1.3min finished\n",
      "[Parallel(n_jobs=-1)]: Using backend LokyBackend with 12 concurrent workers.\n"
     ]
    },
    {
     "name": "stdout",
     "output_type": "stream",
     "text": [
      "K-Fold #9\n",
      "Mean negativities for all classes: [0.30661812110724057, 0.3687400447870996, 0.3459403906736087]\n",
      "Mean entropies for all classes: [3.798328183305783e-15, 3.381456326757915e-15, 3.5665181183371086e-15]\n",
      "              precision    recall  f1-score   support\n",
      "\n",
      "           0       1.00      1.00      1.00         5\n",
      "           1       1.00      0.60      0.75         5\n",
      "           2       0.71      1.00      0.83         5\n",
      "\n",
      "    accuracy                           0.87        15\n",
      "   macro avg       0.90      0.87      0.86        15\n",
      "weighted avg       0.90      0.87      0.86        15\n",
      "\n",
      "-------------------------------------------------------------------------------------------------------------------\n",
      "AVG: Scores = 0.8866666666666667 F1-Scores = 0.8807070707070708 Negativity = [0.33379162098543996, 0.33880249868074563, 0.33902272579629433] Entropy = [3.325323919896263e-15, 3.5449723852773383e-15, 3.094390459372367e-15]\n"
     ]
    },
    {
     "name": "stderr",
     "output_type": "stream",
     "text": [
      "[Parallel(n_jobs=-1)]: Done   3 out of   3 | elapsed:  1.3min finished\n",
      "[Parallel(n_jobs=-1)]: Using backend LokyBackend with 12 concurrent workers.\n"
     ]
    },
    {
     "name": "stdout",
     "output_type": "stream",
     "text": [
      "K-Fold #0\n",
      "Mean negativities for all classes: [0.31893017164939896, 0.371480097973488, 0.3692932257871577]\n",
      "Mean entropies for all classes: [3.983332062738065e-15, 3.2971078495590532e-15, 3.969662987479324e-15]\n",
      "              precision    recall  f1-score   support\n",
      "\n",
      "           0       1.00      1.00      1.00         5\n",
      "           1       1.00      0.80      0.89         5\n",
      "           2       0.83      1.00      0.91         5\n",
      "\n",
      "    accuracy                           0.93        15\n",
      "   macro avg       0.94      0.93      0.93        15\n",
      "weighted avg       0.94      0.93      0.93        15\n",
      "\n",
      "-------------------------------------------------------------------------------------------------------------------\n"
     ]
    },
    {
     "name": "stderr",
     "output_type": "stream",
     "text": [
      "[Parallel(n_jobs=-1)]: Done   3 out of   3 | elapsed:  1.3min finished\n",
      "[Parallel(n_jobs=-1)]: Using backend LokyBackend with 12 concurrent workers.\n"
     ]
    },
    {
     "name": "stdout",
     "output_type": "stream",
     "text": [
      "K-Fold #1\n",
      "Mean negativities for all classes: [0.3329739575936437, 0.3474632177375899, 0.35149188425851563]\n",
      "Mean entropies for all classes: [3.067969865430102e-15, 4.2669991939941056e-15, 3.5992120936127226e-15]\n",
      "              precision    recall  f1-score   support\n",
      "\n",
      "           0       1.00      1.00      1.00         5\n",
      "           1       1.00      0.80      0.89         5\n",
      "           2       0.83      1.00      0.91         5\n",
      "\n",
      "    accuracy                           0.93        15\n",
      "   macro avg       0.94      0.93      0.93        15\n",
      "weighted avg       0.94      0.93      0.93        15\n",
      "\n",
      "-------------------------------------------------------------------------------------------------------------------\n"
     ]
    },
    {
     "name": "stderr",
     "output_type": "stream",
     "text": [
      "[Parallel(n_jobs=-1)]: Done   3 out of   3 | elapsed:  1.3min finished\n",
      "[Parallel(n_jobs=-1)]: Using backend LokyBackend with 12 concurrent workers.\n"
     ]
    },
    {
     "name": "stdout",
     "output_type": "stream",
     "text": [
      "K-Fold #2\n",
      "Mean negativities for all classes: [0.286603310761635, 0.34137769168278115, 0.3578720040160585]\n",
      "Mean entropies for all classes: [4.37146533520537e-15, 4.0295835860051875e-15, 3.284829327653928e-15]\n",
      "              precision    recall  f1-score   support\n",
      "\n",
      "           0       0.83      1.00      0.91         5\n",
      "           1       1.00      0.80      0.89         5\n",
      "           2       0.80      0.80      0.80         5\n",
      "\n",
      "    accuracy                           0.87        15\n",
      "   macro avg       0.88      0.87      0.87        15\n",
      "weighted avg       0.88      0.87      0.87        15\n",
      "\n",
      "-------------------------------------------------------------------------------------------------------------------\n"
     ]
    },
    {
     "name": "stderr",
     "output_type": "stream",
     "text": [
      "[Parallel(n_jobs=-1)]: Done   3 out of   3 | elapsed:  1.3min finished\n",
      "[Parallel(n_jobs=-1)]: Using backend LokyBackend with 12 concurrent workers.\n"
     ]
    },
    {
     "name": "stdout",
     "output_type": "stream",
     "text": [
      "K-Fold #3\n",
      "Mean negativities for all classes: [0.3082364762067828, 0.3708211903818581, 0.3400205689691881]\n",
      "Mean entropies for all classes: [3.2142206504961023e-15, 3.713988451218444e-15, 3.217024193338379e-15]\n",
      "              precision    recall  f1-score   support\n",
      "\n",
      "           0       1.00      1.00      1.00         5\n",
      "           1       1.00      0.60      0.75         5\n",
      "           2       0.71      1.00      0.83         5\n",
      "\n",
      "    accuracy                           0.87        15\n",
      "   macro avg       0.90      0.87      0.86        15\n",
      "weighted avg       0.90      0.87      0.86        15\n",
      "\n",
      "-------------------------------------------------------------------------------------------------------------------\n"
     ]
    },
    {
     "name": "stderr",
     "output_type": "stream",
     "text": [
      "[Parallel(n_jobs=-1)]: Done   3 out of   3 | elapsed:  1.3min finished\n",
      "[Parallel(n_jobs=-1)]: Using backend LokyBackend with 12 concurrent workers.\n"
     ]
    },
    {
     "name": "stdout",
     "output_type": "stream",
     "text": [
      "K-Fold #4\n",
      "Mean negativities for all classes: [0.3101691955147301, 0.36531705052505503, 0.3492333323690745]\n",
      "Mean entropies for all classes: [3.7227712919100264e-15, 3.4927686809150613e-15, 3.76750300781915e-15]\n",
      "              precision    recall  f1-score   support\n",
      "\n",
      "           0       1.00      1.00      1.00         5\n",
      "           1       1.00      0.80      0.89         5\n",
      "           2       0.83      1.00      0.91         5\n",
      "\n",
      "    accuracy                           0.93        15\n",
      "   macro avg       0.94      0.93      0.93        15\n",
      "weighted avg       0.94      0.93      0.93        15\n",
      "\n",
      "-------------------------------------------------------------------------------------------------------------------\n"
     ]
    },
    {
     "name": "stderr",
     "output_type": "stream",
     "text": [
      "[Parallel(n_jobs=-1)]: Done   3 out of   3 | elapsed:  1.3min finished\n",
      "[Parallel(n_jobs=-1)]: Using backend LokyBackend with 12 concurrent workers.\n"
     ]
    },
    {
     "name": "stdout",
     "output_type": "stream",
     "text": [
      "K-Fold #5\n",
      "Mean negativities for all classes: [0.31174594854240384, 0.3641270596583331, 0.3557044643024668]\n",
      "Mean entropies for all classes: [3.809560805721041e-15, 3.496551795299651e-15, 3.3099491052129986e-15]\n",
      "              precision    recall  f1-score   support\n",
      "\n",
      "           0       1.00      1.00      1.00         5\n",
      "           1       1.00      0.40      0.57         5\n",
      "           2       0.62      1.00      0.77         5\n",
      "\n",
      "    accuracy                           0.80        15\n",
      "   macro avg       0.88      0.80      0.78        15\n",
      "weighted avg       0.88      0.80      0.78        15\n",
      "\n",
      "-------------------------------------------------------------------------------------------------------------------\n"
     ]
    },
    {
     "name": "stderr",
     "output_type": "stream",
     "text": [
      "[Parallel(n_jobs=-1)]: Done   3 out of   3 | elapsed:  1.3min finished\n",
      "[Parallel(n_jobs=-1)]: Using backend LokyBackend with 12 concurrent workers.\n"
     ]
    },
    {
     "name": "stdout",
     "output_type": "stream",
     "text": [
      "K-Fold #6\n",
      "Mean negativities for all classes: [0.27991788275496454, 0.36687395411458196, 0.35260391758563386]\n",
      "Mean entropies for all classes: [4.044185160088888e-15, 4.4432393009737456e-15, 3.8954785126263264e-15]\n",
      "              precision    recall  f1-score   support\n",
      "\n",
      "           0       1.00      1.00      1.00         5\n",
      "           1       1.00      0.60      0.75         5\n",
      "           2       0.71      1.00      0.83         5\n",
      "\n",
      "    accuracy                           0.87        15\n",
      "   macro avg       0.90      0.87      0.86        15\n",
      "weighted avg       0.90      0.87      0.86        15\n",
      "\n",
      "-------------------------------------------------------------------------------------------------------------------\n"
     ]
    },
    {
     "name": "stderr",
     "output_type": "stream",
     "text": [
      "[Parallel(n_jobs=-1)]: Done   3 out of   3 | elapsed:  1.3min finished\n",
      "[Parallel(n_jobs=-1)]: Using backend LokyBackend with 12 concurrent workers.\n"
     ]
    },
    {
     "name": "stdout",
     "output_type": "stream",
     "text": [
      "K-Fold #7\n",
      "Mean negativities for all classes: [0.33196194121292133, 0.373467457064474, 0.33688989316539875]\n",
      "Mean entropies for all classes: [4.235298410448881e-15, 3.3927522211720234e-15, 3.1065560498855292e-15]\n",
      "              precision    recall  f1-score   support\n",
      "\n",
      "           0       0.67      0.80      0.73         5\n",
      "           1       0.50      0.40      0.44         5\n",
      "           2       0.80      0.80      0.80         5\n",
      "\n",
      "    accuracy                           0.67        15\n",
      "   macro avg       0.66      0.67      0.66        15\n",
      "weighted avg       0.66      0.67      0.66        15\n",
      "\n",
      "-------------------------------------------------------------------------------------------------------------------\n"
     ]
    },
    {
     "name": "stderr",
     "output_type": "stream",
     "text": [
      "[Parallel(n_jobs=-1)]: Done   3 out of   3 | elapsed:  1.3min finished\n",
      "[Parallel(n_jobs=-1)]: Using backend LokyBackend with 12 concurrent workers.\n"
     ]
    },
    {
     "name": "stdout",
     "output_type": "stream",
     "text": [
      "K-Fold #8\n",
      "Mean negativities for all classes: [0.2955083502096638, 0.34697106801791183, 0.3552948996450667]\n",
      "Mean entropies for all classes: [4.3791135237697884e-15, 3.2066073212657154e-15, 3.495104026351227e-15]\n",
      "              precision    recall  f1-score   support\n",
      "\n",
      "           0       1.00      1.00      1.00         5\n",
      "           1       1.00      1.00      1.00         5\n",
      "           2       1.00      1.00      1.00         5\n",
      "\n",
      "    accuracy                           1.00        15\n",
      "   macro avg       1.00      1.00      1.00        15\n",
      "weighted avg       1.00      1.00      1.00        15\n",
      "\n",
      "-------------------------------------------------------------------------------------------------------------------\n"
     ]
    },
    {
     "name": "stderr",
     "output_type": "stream",
     "text": [
      "[Parallel(n_jobs=-1)]: Done   3 out of   3 | elapsed:  1.3min finished\n",
      "[Parallel(n_jobs=-1)]: Using backend LokyBackend with 12 concurrent workers.\n"
     ]
    },
    {
     "name": "stdout",
     "output_type": "stream",
     "text": [
      "K-Fold #9\n",
      "Mean negativities for all classes: [0.3004465437195169, 0.3612282460447421, 0.3562868917966905]\n",
      "Mean entropies for all classes: [3.842935967727083e-15, 2.935003382710618e-15, 3.736705644581514e-15]\n",
      "              precision    recall  f1-score   support\n",
      "\n",
      "           0       1.00      1.00      1.00         5\n",
      "           1       1.00      0.60      0.75         5\n",
      "           2       0.71      1.00      0.83         5\n",
      "\n",
      "    accuracy                           0.87        15\n",
      "   macro avg       0.90      0.87      0.86        15\n",
      "weighted avg       0.90      0.87      0.86        15\n",
      "\n",
      "-------------------------------------------------------------------------------------------------------------------\n",
      "AVG: Scores = 0.8733333333333334 F1-Scores = 0.8684765234765235 Negativity = [0.35323449847001487, 0.3439763531965831, 0.32861766882015825] Entropy = [3.750034299925481e-15, 3.64472705101231e-15, 3.8952927496214956e-15]\n"
     ]
    },
    {
     "name": "stderr",
     "output_type": "stream",
     "text": [
      "[Parallel(n_jobs=-1)]: Done   3 out of   3 | elapsed:  1.3min finished\n",
      "[Parallel(n_jobs=-1)]: Using backend LokyBackend with 12 concurrent workers.\n"
     ]
    },
    {
     "name": "stdout",
     "output_type": "stream",
     "text": [
      "K-Fold #0\n",
      "Mean negativities for all classes: [0.2876648006901398, 0.3454359129983277, 0.36716371611865556]\n",
      "Mean entropies for all classes: [4.544136671638105e-15, 3.797147572922343e-15, 3.4554922108305933e-15]\n",
      "              precision    recall  f1-score   support\n",
      "\n",
      "           0       0.83      1.00      0.91         5\n",
      "           1       1.00      1.00      1.00         5\n",
      "           2       1.00      0.80      0.89         5\n",
      "\n",
      "    accuracy                           0.93        15\n",
      "   macro avg       0.94      0.93      0.93        15\n",
      "weighted avg       0.94      0.93      0.93        15\n",
      "\n",
      "-------------------------------------------------------------------------------------------------------------------\n"
     ]
    },
    {
     "name": "stderr",
     "output_type": "stream",
     "text": [
      "[Parallel(n_jobs=-1)]: Done   3 out of   3 | elapsed:  1.3min finished\n",
      "[Parallel(n_jobs=-1)]: Using backend LokyBackend with 12 concurrent workers.\n"
     ]
    },
    {
     "name": "stdout",
     "output_type": "stream",
     "text": [
      "K-Fold #1\n",
      "Mean negativities for all classes: [0.3006657772400775, 0.36235997610633947, 0.35927983889801607]\n",
      "Mean entropies for all classes: [3.624538961935316e-15, 4.083248136480976e-15, 3.943998508471894e-15]\n",
      "              precision    recall  f1-score   support\n",
      "\n",
      "           0       1.00      1.00      1.00         5\n",
      "           1       0.83      1.00      0.91         5\n",
      "           2       1.00      0.80      0.89         5\n",
      "\n",
      "    accuracy                           0.93        15\n",
      "   macro avg       0.94      0.93      0.93        15\n",
      "weighted avg       0.94      0.93      0.93        15\n",
      "\n",
      "-------------------------------------------------------------------------------------------------------------------\n"
     ]
    },
    {
     "name": "stderr",
     "output_type": "stream",
     "text": [
      "[Parallel(n_jobs=-1)]: Done   3 out of   3 | elapsed:  1.3min finished\n",
      "[Parallel(n_jobs=-1)]: Using backend LokyBackend with 12 concurrent workers.\n"
     ]
    },
    {
     "name": "stdout",
     "output_type": "stream",
     "text": [
      "K-Fold #2\n",
      "Mean negativities for all classes: [0.30052825202258476, 0.3648736630201709, 0.34857806253945106]\n",
      "Mean entropies for all classes: [3.676214757764435e-15, 4.257142972020717e-15, 3.574624217626725e-15]\n",
      "              precision    recall  f1-score   support\n",
      "\n",
      "           0       1.00      1.00      1.00         5\n",
      "           1       1.00      0.60      0.75         5\n",
      "           2       0.71      1.00      0.83         5\n",
      "\n",
      "    accuracy                           0.87        15\n",
      "   macro avg       0.90      0.87      0.86        15\n",
      "weighted avg       0.90      0.87      0.86        15\n",
      "\n",
      "-------------------------------------------------------------------------------------------------------------------\n"
     ]
    },
    {
     "name": "stderr",
     "output_type": "stream",
     "text": [
      "[Parallel(n_jobs=-1)]: Done   3 out of   3 | elapsed:  1.3min finished\n",
      "[Parallel(n_jobs=-1)]: Using backend LokyBackend with 12 concurrent workers.\n"
     ]
    },
    {
     "name": "stdout",
     "output_type": "stream",
     "text": [
      "K-Fold #3\n",
      "Mean negativities for all classes: [0.3380619672121999, 0.3732022328775563, 0.3573606506978528]\n",
      "Mean entropies for all classes: [3.731129290616471e-15, 3.6808139509013036e-15, 3.247638996588437e-15]\n",
      "              precision    recall  f1-score   support\n",
      "\n",
      "           0       1.00      0.80      0.89         5\n",
      "           1       0.50      0.20      0.29         5\n",
      "           2       0.56      1.00      0.71         5\n",
      "\n",
      "    accuracy                           0.67        15\n",
      "   macro avg       0.69      0.67      0.63        15\n",
      "weighted avg       0.69      0.67      0.63        15\n",
      "\n",
      "-------------------------------------------------------------------------------------------------------------------\n"
     ]
    },
    {
     "name": "stderr",
     "output_type": "stream",
     "text": [
      "[Parallel(n_jobs=-1)]: Done   3 out of   3 | elapsed:  1.3min finished\n",
      "[Parallel(n_jobs=-1)]: Using backend LokyBackend with 12 concurrent workers.\n"
     ]
    },
    {
     "name": "stdout",
     "output_type": "stream",
     "text": [
      "K-Fold #4\n",
      "Mean negativities for all classes: [0.29438722376185067, 0.3636438874421026, 0.34677710119181543]\n",
      "Mean entropies for all classes: [3.3961074696842497e-15, 3.830337646514188e-15, 4.069000183477653e-15]\n",
      "              precision    recall  f1-score   support\n",
      "\n",
      "           0       1.00      1.00      1.00         5\n",
      "           1       1.00      0.80      0.89         5\n",
      "           2       0.83      1.00      0.91         5\n",
      "\n",
      "    accuracy                           0.93        15\n",
      "   macro avg       0.94      0.93      0.93        15\n",
      "weighted avg       0.94      0.93      0.93        15\n",
      "\n",
      "-------------------------------------------------------------------------------------------------------------------\n"
     ]
    },
    {
     "name": "stderr",
     "output_type": "stream",
     "text": [
      "[Parallel(n_jobs=-1)]: Done   3 out of   3 | elapsed:  1.3min finished\n",
      "[Parallel(n_jobs=-1)]: Using backend LokyBackend with 12 concurrent workers.\n"
     ]
    },
    {
     "name": "stdout",
     "output_type": "stream",
     "text": [
      "K-Fold #5\n",
      "Mean negativities for all classes: [0.3376012797873494, 0.3522765654526236, 0.35662398852454935]\n",
      "Mean entropies for all classes: [3.829068412433112e-15, 3.932105875512967e-15, 4.577237727494186e-15]\n",
      "              precision    recall  f1-score   support\n",
      "\n",
      "           0       1.00      1.00      1.00         5\n",
      "           1       1.00      1.00      1.00         5\n",
      "           2       1.00      1.00      1.00         5\n",
      "\n",
      "    accuracy                           1.00        15\n",
      "   macro avg       1.00      1.00      1.00        15\n",
      "weighted avg       1.00      1.00      1.00        15\n",
      "\n",
      "-------------------------------------------------------------------------------------------------------------------\n"
     ]
    },
    {
     "name": "stderr",
     "output_type": "stream",
     "text": [
      "[Parallel(n_jobs=-1)]: Done   3 out of   3 | elapsed:  1.3min finished\n",
      "[Parallel(n_jobs=-1)]: Using backend LokyBackend with 12 concurrent workers.\n"
     ]
    },
    {
     "name": "stdout",
     "output_type": "stream",
     "text": [
      "K-Fold #6\n",
      "Mean negativities for all classes: [0.29729818086877036, 0.34900823354053256, 0.34738745796509735]\n",
      "Mean entropies for all classes: [3.784495365597516e-15, 4.155338430019394e-15, 3.4403450135646223e-15]\n",
      "              precision    recall  f1-score   support\n",
      "\n",
      "           0       1.00      1.00      1.00         5\n",
      "           1       1.00      0.80      0.89         5\n",
      "           2       0.83      1.00      0.91         5\n",
      "\n",
      "    accuracy                           0.93        15\n",
      "   macro avg       0.94      0.93      0.93        15\n",
      "weighted avg       0.94      0.93      0.93        15\n",
      "\n",
      "-------------------------------------------------------------------------------------------------------------------\n"
     ]
    },
    {
     "name": "stderr",
     "output_type": "stream",
     "text": [
      "[Parallel(n_jobs=-1)]: Done   3 out of   3 | elapsed:  1.3min finished\n",
      "[Parallel(n_jobs=-1)]: Using backend LokyBackend with 12 concurrent workers.\n"
     ]
    },
    {
     "name": "stdout",
     "output_type": "stream",
     "text": [
      "K-Fold #7\n",
      "Mean negativities for all classes: [0.2934788370055693, 0.37830888847018457, 0.35278735258841537]\n",
      "Mean entropies for all classes: [3.753199806213071e-15, 4.087894996265829e-15, 3.707573238315159e-15]\n",
      "              precision    recall  f1-score   support\n",
      "\n",
      "           0       1.00      1.00      1.00         5\n",
      "           1       1.00      0.40      0.57         5\n",
      "           2       0.62      1.00      0.77         5\n",
      "\n",
      "    accuracy                           0.80        15\n",
      "   macro avg       0.88      0.80      0.78        15\n",
      "weighted avg       0.88      0.80      0.78        15\n",
      "\n",
      "-------------------------------------------------------------------------------------------------------------------\n"
     ]
    },
    {
     "name": "stderr",
     "output_type": "stream",
     "text": [
      "[Parallel(n_jobs=-1)]: Done   3 out of   3 | elapsed:  1.3min finished\n",
      "[Parallel(n_jobs=-1)]: Using backend LokyBackend with 12 concurrent workers.\n"
     ]
    },
    {
     "name": "stdout",
     "output_type": "stream",
     "text": [
      "K-Fold #8\n",
      "Mean negativities for all classes: [0.29197056455939346, 0.3712313657173452, 0.3513245991540496]\n",
      "Mean entropies for all classes: [3.5246225164443298e-15, 4.525131758756994e-15, 4.512305336519329e-15]\n",
      "              precision    recall  f1-score   support\n",
      "\n",
      "           0       1.00      1.00      1.00         5\n",
      "           1       1.00      0.60      0.75         5\n",
      "           2       0.71      1.00      0.83         5\n",
      "\n",
      "    accuracy                           0.87        15\n",
      "   macro avg       0.90      0.87      0.86        15\n",
      "weighted avg       0.90      0.87      0.86        15\n",
      "\n",
      "-------------------------------------------------------------------------------------------------------------------\n"
     ]
    },
    {
     "name": "stderr",
     "output_type": "stream",
     "text": [
      "[Parallel(n_jobs=-1)]: Done   3 out of   3 | elapsed:  1.3min finished\n",
      "[Parallel(n_jobs=-1)]: Using backend LokyBackend with 12 concurrent workers.\n"
     ]
    },
    {
     "name": "stdout",
     "output_type": "stream",
     "text": [
      "K-Fold #9\n",
      "Mean negativities for all classes: [0.3156429933893345, 0.3624886314657888, 0.3551529335753455]\n",
      "Mean entropies for all classes: [3.0427997945175797e-15, 4.5906279637761965e-15, 3.715070469566381e-15]\n",
      "              precision    recall  f1-score   support\n",
      "\n",
      "           0       1.00      1.00      1.00         5\n",
      "           1       1.00      0.40      0.57         5\n",
      "           2       0.62      1.00      0.77         5\n",
      "\n",
      "    accuracy                           0.80        15\n",
      "   macro avg       0.88      0.80      0.78        15\n",
      "weighted avg       0.88      0.80      0.78        15\n",
      "\n",
      "-------------------------------------------------------------------------------------------------------------------\n",
      "AVG: Scores = 0.8733333333333334 F1-Scores = 0.8642931142931143 Negativity = [0.33342147660237437, 0.34076853074814434, 0.33799332586073555] Entropy = [3.93225881846368e-15, 3.883928535629395e-15, 3.835993982470626e-15]\n"
     ]
    },
    {
     "name": "stderr",
     "output_type": "stream",
     "text": [
      "[Parallel(n_jobs=-1)]: Done   3 out of   3 | elapsed:  1.3min finished\n",
      "[Parallel(n_jobs=-1)]: Using backend LokyBackend with 12 concurrent workers.\n"
     ]
    },
    {
     "name": "stdout",
     "output_type": "stream",
     "text": [
      "K-Fold #0\n",
      "Mean negativities for all classes: [0.3129882855693522, 0.3562035657057404, 0.3533220021849226]\n",
      "Mean entropies for all classes: [3.4467999616991156e-15, 3.36996253613063e-15, 4.390889494073404e-15]\n",
      "              precision    recall  f1-score   support\n",
      "\n",
      "           0       1.00      1.00      1.00         5\n",
      "           1       1.00      0.80      0.89         5\n",
      "           2       0.83      1.00      0.91         5\n",
      "\n",
      "    accuracy                           0.93        15\n",
      "   macro avg       0.94      0.93      0.93        15\n",
      "weighted avg       0.94      0.93      0.93        15\n",
      "\n",
      "-------------------------------------------------------------------------------------------------------------------\n"
     ]
    },
    {
     "name": "stderr",
     "output_type": "stream",
     "text": [
      "[Parallel(n_jobs=-1)]: Done   3 out of   3 | elapsed:  1.3min finished\n",
      "[Parallel(n_jobs=-1)]: Using backend LokyBackend with 12 concurrent workers.\n"
     ]
    },
    {
     "name": "stdout",
     "output_type": "stream",
     "text": [
      "K-Fold #1\n",
      "Mean negativities for all classes: [0.3187875241532223, 0.3649462124330745, 0.3540539829298107]\n",
      "Mean entropies for all classes: [3.9184013475580965e-15, 3.580677887146255e-15, 3.404414725196693e-15]\n",
      "              precision    recall  f1-score   support\n",
      "\n",
      "           0       1.00      1.00      1.00         5\n",
      "           1       1.00      0.40      0.57         5\n",
      "           2       0.62      1.00      0.77         5\n",
      "\n",
      "    accuracy                           0.80        15\n",
      "   macro avg       0.88      0.80      0.78        15\n",
      "weighted avg       0.88      0.80      0.78        15\n",
      "\n",
      "-------------------------------------------------------------------------------------------------------------------\n"
     ]
    },
    {
     "name": "stderr",
     "output_type": "stream",
     "text": [
      "[Parallel(n_jobs=-1)]: Done   3 out of   3 | elapsed:  1.3min finished\n",
      "[Parallel(n_jobs=-1)]: Using backend LokyBackend with 12 concurrent workers.\n"
     ]
    },
    {
     "name": "stdout",
     "output_type": "stream",
     "text": [
      "K-Fold #2\n",
      "Mean negativities for all classes: [0.2911889198668752, 0.368810608827182, 0.3538399178589557]\n",
      "Mean entropies for all classes: [4.4235209427687586e-15, 3.4487763976748824e-15, 3.973035928868272e-15]\n",
      "              precision    recall  f1-score   support\n",
      "\n",
      "           0       1.00      1.00      1.00         5\n",
      "           1       1.00      0.60      0.75         5\n",
      "           2       0.71      1.00      0.83         5\n",
      "\n",
      "    accuracy                           0.87        15\n",
      "   macro avg       0.90      0.87      0.86        15\n",
      "weighted avg       0.90      0.87      0.86        15\n",
      "\n",
      "-------------------------------------------------------------------------------------------------------------------\n"
     ]
    },
    {
     "name": "stderr",
     "output_type": "stream",
     "text": [
      "[Parallel(n_jobs=-1)]: Done   3 out of   3 | elapsed:  1.3min finished\n",
      "[Parallel(n_jobs=-1)]: Using backend LokyBackend with 12 concurrent workers.\n"
     ]
    },
    {
     "name": "stdout",
     "output_type": "stream",
     "text": [
      "K-Fold #3\n",
      "Mean negativities for all classes: [0.3341707514285831, 0.3710252763398872, 0.35428423822893923]\n",
      "Mean entropies for all classes: [5.110961155912931e-15, 3.657877240511841e-15, 2.9644894704375865e-15]\n",
      "              precision    recall  f1-score   support\n",
      "\n",
      "           0       1.00      1.00      1.00         5\n",
      "           1       1.00      0.40      0.57         5\n",
      "           2       0.62      1.00      0.77         5\n",
      "\n",
      "    accuracy                           0.80        15\n",
      "   macro avg       0.88      0.80      0.78        15\n",
      "weighted avg       0.88      0.80      0.78        15\n",
      "\n",
      "-------------------------------------------------------------------------------------------------------------------\n"
     ]
    },
    {
     "name": "stderr",
     "output_type": "stream",
     "text": [
      "[Parallel(n_jobs=-1)]: Done   3 out of   3 | elapsed:  1.3min finished\n",
      "[Parallel(n_jobs=-1)]: Using backend LokyBackend with 12 concurrent workers.\n"
     ]
    },
    {
     "name": "stdout",
     "output_type": "stream",
     "text": [
      "K-Fold #4\n",
      "Mean negativities for all classes: [0.335870918594065, 0.3663137232465901, 0.34295705498256074]\n",
      "Mean entropies for all classes: [3.737636302134931e-15, 3.612156765004582e-15, 3.4312327844556188e-15]\n",
      "              precision    recall  f1-score   support\n",
      "\n",
      "           0       1.00      0.80      0.89         5\n",
      "           1       0.83      1.00      0.91         5\n",
      "           2       1.00      1.00      1.00         5\n",
      "\n",
      "    accuracy                           0.93        15\n",
      "   macro avg       0.94      0.93      0.93        15\n",
      "weighted avg       0.94      0.93      0.93        15\n",
      "\n",
      "-------------------------------------------------------------------------------------------------------------------\n"
     ]
    },
    {
     "name": "stderr",
     "output_type": "stream",
     "text": [
      "[Parallel(n_jobs=-1)]: Done   3 out of   3 | elapsed:  1.3min finished\n",
      "[Parallel(n_jobs=-1)]: Using backend LokyBackend with 12 concurrent workers.\n"
     ]
    },
    {
     "name": "stdout",
     "output_type": "stream",
     "text": [
      "K-Fold #5\n",
      "Mean negativities for all classes: [0.3228787598520865, 0.3695027583336507, 0.33122610777391587]\n",
      "Mean entropies for all classes: [3.941297665966116e-15, 3.9904818062928765e-15, 3.613520101379183e-15]\n",
      "              precision    recall  f1-score   support\n",
      "\n",
      "           0       1.00      1.00      1.00         5\n",
      "           1       1.00      0.80      0.89         5\n",
      "           2       0.83      1.00      0.91         5\n",
      "\n",
      "    accuracy                           0.93        15\n",
      "   macro avg       0.94      0.93      0.93        15\n",
      "weighted avg       0.94      0.93      0.93        15\n",
      "\n",
      "-------------------------------------------------------------------------------------------------------------------\n"
     ]
    },
    {
     "name": "stderr",
     "output_type": "stream",
     "text": [
      "[Parallel(n_jobs=-1)]: Done   3 out of   3 | elapsed:  1.3min finished\n",
      "[Parallel(n_jobs=-1)]: Using backend LokyBackend with 12 concurrent workers.\n"
     ]
    },
    {
     "name": "stdout",
     "output_type": "stream",
     "text": [
      "K-Fold #6\n",
      "Mean negativities for all classes: [0.2997138577206774, 0.3512522707857889, 0.3593479520988376]\n",
      "Mean entropies for all classes: [4.1979864295523065e-15, 4.329513357709262e-15, 4.2799001449603794e-15]\n",
      "              precision    recall  f1-score   support\n",
      "\n",
      "           0       0.83      1.00      0.91         5\n",
      "           1       1.00      0.80      0.89         5\n",
      "           2       0.80      0.80      0.80         5\n",
      "\n",
      "    accuracy                           0.87        15\n",
      "   macro avg       0.88      0.87      0.87        15\n",
      "weighted avg       0.88      0.87      0.87        15\n",
      "\n",
      "-------------------------------------------------------------------------------------------------------------------\n"
     ]
    },
    {
     "name": "stderr",
     "output_type": "stream",
     "text": [
      "[Parallel(n_jobs=-1)]: Done   3 out of   3 | elapsed:  1.3min finished\n",
      "[Parallel(n_jobs=-1)]: Using backend LokyBackend with 12 concurrent workers.\n"
     ]
    },
    {
     "name": "stdout",
     "output_type": "stream",
     "text": [
      "K-Fold #7\n",
      "Mean negativities for all classes: [0.29610454872406067, 0.3678027428279408, 0.353360268845108]\n",
      "Mean entropies for all classes: [4.1145912536753545e-15, 4.131313272669588e-15, 3.470345382458033e-15]\n",
      "              precision    recall  f1-score   support\n",
      "\n",
      "           0       1.00      1.00      1.00         5\n",
      "           1       1.00      0.60      0.75         5\n",
      "           2       0.71      1.00      0.83         5\n",
      "\n",
      "    accuracy                           0.87        15\n",
      "   macro avg       0.90      0.87      0.86        15\n",
      "weighted avg       0.90      0.87      0.86        15\n",
      "\n",
      "-------------------------------------------------------------------------------------------------------------------\n"
     ]
    },
    {
     "name": "stderr",
     "output_type": "stream",
     "text": [
      "[Parallel(n_jobs=-1)]: Done   3 out of   3 | elapsed:  1.3min finished\n",
      "[Parallel(n_jobs=-1)]: Using backend LokyBackend with 12 concurrent workers.\n"
     ]
    },
    {
     "name": "stdout",
     "output_type": "stream",
     "text": [
      "K-Fold #8\n",
      "Mean negativities for all classes: [0.29154479850894, 0.3463830504265865, 0.3705909062351932]\n",
      "Mean entropies for all classes: [3.913026410027844e-15, 4.03629545171893e-15, 4.497622653747574e-15]\n",
      "              precision    recall  f1-score   support\n",
      "\n",
      "           0       1.00      1.00      1.00         5\n",
      "           1       1.00      0.80      0.89         5\n",
      "           2       0.83      1.00      0.91         5\n",
      "\n",
      "    accuracy                           0.93        15\n",
      "   macro avg       0.94      0.93      0.93        15\n",
      "weighted avg       0.94      0.93      0.93        15\n",
      "\n",
      "-------------------------------------------------------------------------------------------------------------------\n",
      "K-Fold #9\n",
      "Mean negativities for all classes: [0.29325977964573774, 0.34981945989189867, 0.35397329274331923]\n",
      "Mean entropies for all classes: [3.9514850887961895e-15, 3.2429402056894883e-15, 3.2932549853972726e-15]\n",
      "              precision    recall  f1-score   support\n",
      "\n",
      "           0       1.00      1.00      1.00         5\n",
      "           1       1.00      0.80      0.89         5\n",
      "           2       0.83      1.00      0.91         5\n",
      "\n",
      "    accuracy                           0.93        15\n",
      "   macro avg       0.94      0.93      0.93        15\n",
      "weighted avg       0.94      0.93      0.93        15\n",
      "\n",
      "-------------------------------------------------------------------------------------------------------------------\n",
      "AVG: Scores = 0.8866666666666667 F1-Scores = 0.8811954711954713 Negativity = [0.34083795115333837, 0.34592923983870244, 0.33794648218433765] Entropy = [3.73588399730105e-15, 3.634497986633681e-15, 3.948444423103971e-15]\n",
      "CPU times: total: 16.5 s\n",
      "Wall time: 4h 20min 34s\n"
     ]
    },
    {
     "name": "stderr",
     "output_type": "stream",
     "text": [
      "[Parallel(n_jobs=-1)]: Done   3 out of   3 | elapsed:  1.3min finished\n"
     ]
    }
   ],
   "source": [
    "%%time\n",
    "scores_list = []\n",
    "f1scores_list = []\n",
    "negativities_list = []\n",
    "for SEED in range(n_times_kfold):\n",
    "    scores, f1scores, output_dict = execute_training_test_k_fold(\n",
    "                    X, \n",
    "                    y, \n",
    "                    k_folds=k_times_fold,\n",
    "                    random_seed = SEED, \n",
    "                    classifier_function=classifier_function, \n",
    "                    dic_classifier_params=dic_classifier_params,\n",
    "                    one_vs_classifier=OneVsRestClassifier, \n",
    "                    dic_training_params=dic_training_params,\n",
    "                    print_each_fold_metric=True,\n",
    "                    print_avg_metric=True)\n",
    "    scores_list.append(scores)\n",
    "    f1scores_list.append(f1scores)\n",
    "    negativities_list.append(output_dict[\"negativities\"])"
   ]
  },
  {
   "cell_type": "code",
   "execution_count": 3,
   "id": "7f7363b8",
   "metadata": {},
   "outputs": [
    {
     "name": "stdout",
     "output_type": "stream",
     "text": [
      "Media Score dos N K-Fold 0.869\n",
      "Maior Score dos K-Fold 0.9000000000000001\n",
      "Min Score dos K-Fold 0.8333333333333334\n",
      "Media Score dos K-Fold [0.8733333333333334, 0.8400000000000001, 0.86, 0.8466666666666667, 0.8333333333333334, 0.8733333333333334, 0.86, 0.9, 0.8533333333333333, 0.9, 0.8333333333333334, 0.8733333333333333, 0.8666666666666668, 0.8666666666666666, 0.8800000000000001, 0.9000000000000001, 0.8866666666666667, 0.8733333333333334, 0.8733333333333334, 0.8866666666666667]\n",
      "\n",
      "\n",
      "[[1.0, 0.8, 1.0, 0.9333333333333333, 0.7333333333333333, 0.7333333333333333, 0.8666666666666667, 0.8666666666666667, 0.9333333333333333, 0.8666666666666667], [0.7333333333333333, 0.8666666666666667, 0.8, 0.9333333333333333, 0.8, 0.8, 0.8666666666666667, 0.8, 0.9333333333333333, 0.8666666666666667], [0.9333333333333333, 0.9333333333333333, 1.0, 0.8, 0.8666666666666667, 0.8666666666666667, 0.8, 0.8, 0.8666666666666667, 0.7333333333333333], [0.8666666666666667, 0.9333333333333333, 0.8, 0.7333333333333333, 0.9333333333333333, 0.8, 1.0, 0.7333333333333333, 0.8, 0.8666666666666667], [0.9333333333333333, 0.9333333333333333, 0.8, 0.9333333333333333, 0.6666666666666666, 0.6666666666666666, 0.7333333333333333, 0.9333333333333333, 0.8666666666666667, 0.8666666666666667], [0.8666666666666667, 0.8, 0.8, 0.8666666666666667, 0.8, 0.9333333333333333, 1.0, 0.8, 0.9333333333333333, 0.9333333333333333], [0.8, 0.9333333333333333, 0.9333333333333333, 0.8666666666666667, 0.8666666666666667, 0.8666666666666667, 0.8666666666666667, 0.8666666666666667, 0.8, 0.8], [0.8666666666666667, 1.0, 0.8666666666666667, 0.8666666666666667, 1.0, 0.8666666666666667, 0.8, 1.0, 1.0, 0.7333333333333333], [0.9333333333333333, 0.8, 1.0, 0.8666666666666667, 0.7333333333333333, 0.8666666666666667, 0.9333333333333333, 1.0, 0.6666666666666666, 0.7333333333333333], [1.0, 0.9333333333333333, 0.8, 0.9333333333333333, 0.8666666666666667, 0.9333333333333333, 0.8666666666666667, 0.8666666666666667, 1.0, 0.8], [0.8, 0.7333333333333333, 0.8, 1.0, 0.8, 0.8, 0.7333333333333333, 0.9333333333333333, 0.8666666666666667, 0.8666666666666667], [0.8666666666666667, 0.8, 0.8, 0.8666666666666667, 0.8666666666666667, 1.0, 0.9333333333333333, 0.9333333333333333, 0.8, 0.8666666666666667], [0.7333333333333333, 0.8, 0.9333333333333333, 0.8, 1.0, 0.8666666666666667, 0.8666666666666667, 0.8666666666666667, 0.8666666666666667, 0.9333333333333333], [0.8666666666666667, 1.0, 0.8, 0.9333333333333333, 0.8, 0.9333333333333333, 0.8666666666666667, 0.8666666666666667, 0.8666666666666667, 0.7333333333333333], [0.8, 1.0, 0.8, 0.9333333333333333, 0.8666666666666667, 0.8666666666666667, 0.8, 0.9333333333333333, 0.8666666666666667, 0.9333333333333333], [0.9333333333333333, 1.0, 0.9333333333333333, 0.9333333333333333, 0.8666666666666667, 0.9333333333333333, 0.9333333333333333, 0.8666666666666667, 0.8, 0.8], [0.9333333333333333, 0.8666666666666667, 0.9333333333333333, 0.9333333333333333, 0.9333333333333333, 0.8, 0.6666666666666666, 1.0, 0.9333333333333333, 0.8666666666666667], [0.9333333333333333, 0.9333333333333333, 0.8666666666666667, 0.8666666666666667, 0.9333333333333333, 0.8, 0.8666666666666667, 0.6666666666666666, 1.0, 0.8666666666666667], [0.9333333333333333, 0.9333333333333333, 0.8666666666666667, 0.6666666666666666, 0.9333333333333333, 1.0, 0.9333333333333333, 0.8, 0.8666666666666667, 0.8], [0.9333333333333333, 0.8, 0.8666666666666667, 0.8, 0.9333333333333333, 0.9333333333333333, 0.8666666666666667, 0.8666666666666667, 0.9333333333333333, 0.9333333333333333]]\n"
     ]
    }
   ],
   "source": [
    "print(\"Media Score dos N K-Fold\", np.mean([np.mean(i) for i in scores_list]))\n",
    "print(\"Maior Score dos K-Fold\", max([np.mean(i) for i in scores_list]))\n",
    "print(\"Min Score dos K-Fold\", min([np.mean(i) for i in scores_list]))\n",
    "\n",
    "print(\"Media Score dos K-Fold\", [np.mean(i) for i in scores_list])\n",
    "print()\n",
    "print()\n",
    "print(scores_list)"
   ]
  },
  {
   "cell_type": "code",
   "execution_count": 4,
   "id": "49ad1fc9",
   "metadata": {},
   "outputs": [
    {
     "name": "stdout",
     "output_type": "stream",
     "text": [
      "Media F1Score dos N K-Fold 0.8597508787508789\n",
      "Maior F1Score dos K-Fold 0.8974410774410775\n",
      "Maior F1Score dos K-Fold 0.8063566063566062\n",
      "Media F1Score dos K-Fold [0.8663974913974913, 0.8273030673030674, 0.8526181226181226, 0.831159396159396, 0.8063566063566062, 0.8653104303104303, 0.8544459244459246, 0.8935342435342435, 0.8325230325230324, 0.8974410774410775, 0.8188518888518889, 0.8682325082325082, 0.856932511932512, 0.8571850371850372, 0.8748906648906649, 0.8971633921633921, 0.8807070707070708, 0.8684765234765235, 0.8642931142931143, 0.8811954711954713]\n",
      "\n",
      "\n",
      "[[1.0, 0.7802197802197802, 1.0, 0.9326599326599326, 0.7193732193732193, 0.7157287157287158, 0.861111111111111, 0.861111111111111, 0.9326599326599326, 0.861111111111111], [0.6825396825396827, 0.861111111111111, 0.791919191919192, 0.9326599326599326, 0.7802197802197802, 0.7802197802197802, 0.8703703703703703, 0.7802197802197802, 0.9326599326599326, 0.861111111111111], [0.9326599326599326, 0.9326599326599326, 1.0, 0.7802197802197802, 0.8666666666666668, 0.861111111111111, 0.7802197802197802, 0.7802197802197802, 0.861111111111111, 0.7313131313131312], [0.861111111111111, 0.9326599326599326, 0.7944444444444444, 0.6825396825396827, 0.9326599326599326, 0.7802197802197802, 1.0, 0.6705516705516706, 0.7962962962962962, 0.861111111111111], [0.9326599326599326, 0.9326599326599326, 0.7802197802197802, 0.9326599326599326, 0.5555555555555555, 0.5555555555555555, 0.7193732193732193, 0.9326599326599326, 0.861111111111111, 0.861111111111111], [0.8659932659932661, 0.7802197802197802, 0.7712842712842712, 0.861111111111111, 0.7802197802197802, 0.9326599326599326, 1.0, 0.7962962962962962, 0.9326599326599326, 0.9326599326599326], [0.7802197802197802, 0.9326599326599326, 0.9326599326599326, 0.861111111111111, 0.861111111111111, 0.8666666666666668, 0.8659932659932661, 0.861111111111111, 0.8027065527065527, 0.7802197802197802], [0.861111111111111, 1.0, 0.861111111111111, 0.861111111111111, 1.0, 0.861111111111111, 0.7802197802197802, 1.0, 1.0, 0.7106782106782106], [0.9326599326599326, 0.7802197802197802, 1.0, 0.861111111111111, 0.7193732193732193, 0.861111111111111, 0.9326599326599326, 1.0, 0.5555555555555555, 0.6825396825396827], [1.0, 0.9326599326599326, 0.7962962962962962, 0.9326599326599326, 0.861111111111111, 0.9326599326599326, 0.861111111111111, 0.8659932659932661, 1.0, 0.791919191919192], [0.7802197802197802, 0.7193732193732193, 0.7802197802197802, 1.0, 0.7944444444444444, 0.7712842712842712, 0.6825396825396827, 0.9326599326599326, 0.8666666666666668, 0.861111111111111], [0.861111111111111, 0.7802197802197802, 0.7802197802197802, 0.8659932659932661, 0.861111111111111, 1.0, 0.9326599326599326, 0.9326599326599326, 0.7979797979797979, 0.8703703703703703], [0.6825396825396827, 0.7962962962962962, 0.9326599326599326, 0.7802197802197802, 1.0, 0.856060606060606, 0.861111111111111, 0.861111111111111, 0.8666666666666668, 0.9326599326599326], [0.861111111111111, 1.0, 0.7802197802197802, 0.9326599326599326, 0.7944444444444444, 0.9326599326599326, 0.8659932659932661, 0.861111111111111, 0.861111111111111, 0.6825396825396827], [0.7954545454545454, 1.0, 0.791919191919192, 0.9326599326599326, 0.861111111111111, 0.861111111111111, 0.7802197802197802, 0.9326599326599326, 0.861111111111111, 0.9326599326599326], [0.9326599326599326, 1.0, 0.9326599326599326, 0.9326599326599326, 0.8666666666666668, 0.9326599326599326, 0.9326599326599326, 0.8659932659932661, 0.7802197802197802, 0.7954545454545454], [0.9326599326599326, 0.861111111111111, 0.9326599326599326, 0.9326599326599326, 0.9326599326599326, 0.791919191919192, 0.6296296296296297, 1.0, 0.9326599326599326, 0.861111111111111], [0.9326599326599326, 0.9326599326599326, 0.8659932659932661, 0.861111111111111, 0.9326599326599326, 0.7802197802197802, 0.861111111111111, 0.6572390572390573, 1.0, 0.861111111111111], [0.9326599326599326, 0.9326599326599326, 0.861111111111111, 0.6296296296296297, 0.9326599326599326, 1.0, 0.9326599326599326, 0.7802197802197802, 0.861111111111111, 0.7802197802197802], [0.9326599326599326, 0.7802197802197802, 0.861111111111111, 0.7802197802197802, 0.9326599326599326, 0.9326599326599326, 0.8659932659932661, 0.861111111111111, 0.9326599326599326, 0.9326599326599326]]\n"
     ]
    }
   ],
   "source": [
    "print(\"Media F1Score dos N K-Fold\", np.mean([np.mean(i) for i in f1scores_list]))\n",
    "print(\"Maior F1Score dos K-Fold\", max([np.mean(i) for i in f1scores_list]))\n",
    "print(\"Maior F1Score dos K-Fold\", min([np.mean(i) for i in f1scores_list]))\n",
    "\n",
    "print(\"Media F1Score dos K-Fold\", [np.mean(i) for i in f1scores_list])\n",
    "print()\n",
    "print()\n",
    "print(f1scores_list)"
   ]
  },
  {
   "cell_type": "code",
   "execution_count": 5,
   "id": "9fa72621",
   "metadata": {},
   "outputs": [
    {
     "name": "stdout",
     "output_type": "stream",
     "text": [
      "Media Negativity dos N K-Fold [0.30559224492302944, 0.3622467551005226, 0.3526693152512448]\n",
      "\n",
      "\n",
      "[[[0.29331575965762907, 0.3118613161526282, 0.2795213260071134, 0.2882791683366831, 0.3438084927618531, 0.3108831169585164, 0.31582748613086903, 0.31074013091572666, 0.276263154913095, 0.29226613136138263], [0.3595120044499505, 0.36341164753334, 0.36343263965811873, 0.36251785986670604, 0.3620438066527449, 0.38454351673692694, 0.35788989180643244, 0.3692491556835606, 0.3425348660695697, 0.35292109424677437], [0.37438106632603657, 0.3549928031048541, 0.3532494391518884, 0.3357244454972744, 0.3529854780486416, 0.318818182381372, 0.3483157856238866, 0.3568064714591684, 0.35268796162130134, 0.35485109405948057]], [[0.3315347511883697, 0.29839213857668984, 0.3176937939465628, 0.3169354620912027, 0.2837761001562434, 0.2959498301811541, 0.3050412047653967, 0.2944103862825479, 0.2922205046545028, 0.3228669213467352], [0.37277915193794475, 0.36542815724577565, 0.3709044832388566, 0.36057429516255934, 0.37124872836954753, 0.3666156637251637, 0.35191882896788124, 0.3553664197849968, 0.3514705153568588, 0.3655272398368574], [0.3514050470147755, 0.3550985340564737, 0.3547075415551301, 0.34507462854688886, 0.3511728315608612, 0.347749077596869, 0.35423040358848656, 0.35225248151733385, 0.3527538168260068, 0.3545500161344752]], [[0.2940984501385823, 0.30251892410367387, 0.3084633621080957, 0.30413363244132835, 0.2903751630006421, 0.293656048074087, 0.33647652960383956, 0.2810761834091807, 0.3017792936315996, 0.33514468096914646], [0.3564476931082549, 0.3559300390795183, 0.35953496591341094, 0.35773558393548466, 0.37135149542271934, 0.36164320375569387, 0.37304556651700077, 0.3827302628762922, 0.3644536679391672, 0.3481482326847659], [0.32372586994587255, 0.3552395716991695, 0.3549072484429635, 0.3546293228854518, 0.3710464484255, 0.35327754367893077, 0.35251213194995906, 0.34953706243195115, 0.3671481958876362, 0.3366978926379166]], [[0.29795525061785527, 0.28468198665160654, 0.30738812770833523, 0.31693692178714084, 0.29794753057656786, 0.3049267029258311, 0.2906801062583496, 0.2774726345580326, 0.33641764293662507, 0.29822154490181263], [0.3699612239839697, 0.35712436591462865, 0.362835058292683, 0.36879972852483306, 0.37177844835269797, 0.3832879513729794, 0.34979723370810145, 0.3725104596298069, 0.36127348162463074, 0.34185939243388813], [0.35564239864969144, 0.3373793863633822, 0.3638467037943189, 0.35539741917850776, 0.3584249408625322, 0.3408276975387433, 0.34903238388507607, 0.3534919638641506, 0.3570989202785468, 0.3523832695385663]], [[0.29791027353192207, 0.3205486610074674, 0.29588304893578504, 0.3140517304014301, 0.28320423162292285, 0.2993292350109718, 0.33305399386784834, 0.2965788955811934, 0.32453243992983416, 0.28470145805338987], [0.36098264602803665, 0.3615776953639142, 0.3738087004586424, 0.3718817098622187, 0.37582934856027445, 0.38223576974127255, 0.35769680992528924, 0.3520173228537438, 0.35725199276320224, 0.37217697510083875], [0.35097521287071043, 0.3740813318408423, 0.34922877750790027, 0.3153119088694069, 0.35289919137131204, 0.3554334749428317, 0.3544089527065799, 0.3669891638216539, 0.35962108868208276, 0.35453702254439373]], [[0.3086379294070347, 0.3190551326156449, 0.29906044774668145, 0.2839706501259762, 0.3082136099408553, 0.2945305854379058, 0.29663088317814756, 0.3364719740431688, 0.29605533417316565, 0.2967398938026262], [0.355167041931506, 0.3686806464402908, 0.3828640055712585, 0.355635809703382, 0.35606477507012374, 0.37271319415363796, 0.35793985523449423, 0.35914172907512826, 0.3550734671871547, 0.35906123758220926], [0.37196165499863354, 0.35718775782271633, 0.3317250475400327, 0.35346492775646726, 0.35110087887637004, 0.37099411996585185, 0.3609179012052827, 0.3560709370724383, 0.3480264750214108, 0.3525153203364622]], [[0.3212570920983794, 0.3135051928315315, 0.2786637772063194, 0.29709269978977504, 0.3069369306286827, 0.3389320017473108, 0.2840371516714743, 0.3213265337970103, 0.32015588349881713, 0.292848232973027], [0.3785530952767947, 0.36359856625785386, 0.35356909544655696, 0.35747730135895794, 0.3590366632179567, 0.36183192747761517, 0.35983925035512765, 0.36290420499159776, 0.34283550455528167, 0.3569039746386728], [0.35560108704987836, 0.3559020287508151, 0.35311665811570664, 0.3523301173355169, 0.35428816202309754, 0.362070033830209, 0.353041977782344, 0.3511110422054997, 0.3346997602129366, 0.3508973270668309]], [[0.3305344772312831, 0.2815876540894957, 0.2852479063124278, 0.2905388109360023, 0.3110402023242887, 0.3200056573166358, 0.31516534570321314, 0.29827779958667455, 0.2816769501115063, 0.3013162636846223], [0.3725824676432408, 0.35568865604739075, 0.34308349273113947, 0.3780061201599673, 0.3580935392191107, 0.3521491490247964, 0.37196617351788047, 0.36362305470124473, 0.35762716234428876, 0.37588871056915046], [0.37465263046756575, 0.3494919809232575, 0.34886633917173654, 0.32952027523214206, 0.3519213550734023, 0.35684413411976246, 0.35380479072324716, 0.35104261747456367, 0.33853488491726297, 0.3507331420771052]], [[0.2950907141799909, 0.3008933979913568, 0.31345672836834304, 0.289504011042372, 0.3361206918456495, 0.29759607403042376, 0.2945441321127486, 0.292627160513027, 0.319543552746827, 0.3264888506429494], [0.35152957995189527, 0.3696481086352475, 0.3441516286479872, 0.3596465225865044, 0.3630240554448558, 0.36549831313003395, 0.3679924703001954, 0.3595340355318624, 0.39024818994960936, 0.3701476744184568], [0.3489649054926298, 0.3568875720270279, 0.3382023402595555, 0.3542223941169238, 0.3508243020384342, 0.3548224311830513, 0.3536954533431858, 0.357962516497256, 0.3550098978363482, 0.35094393661056633]], [[0.305409581313373, 0.2868807656941729, 0.3251960578114775, 0.30164939972998295, 0.29350494258909754, 0.2995896005261475, 0.3099958455441856, 0.3360522516747052, 0.2905627782651693, 0.344633865835934], [0.3640914093102324, 0.35277003415559083, 0.35192451399744223, 0.3659945903702832, 0.37221521840316457, 0.3602014597303905, 0.37239273568940884, 0.3441952449316616, 0.35778389065685373, 0.3610471072963158], [0.3520671616787959, 0.36877747988978843, 0.3545059128641986, 0.35985707289072516, 0.35094968018059713, 0.3621279783922144, 0.3537716543953457, 0.3247998365305563, 0.3416232773979486, 0.3674093328517554]], [[0.3093537585043876, 0.33957088123573176, 0.2917460647003571, 0.29879715319703476, 0.2974206614182861, 0.3012837436903966, 0.3315181494309055, 0.30125691785467673, 0.3032153010545988, 0.2978878898749151], [0.3658152067541029, 0.3594169356441883, 0.374786669574554, 0.3540848224259517, 0.3588116507363509, 0.3686118130972137, 0.3778157088712514, 0.3393360902569969, 0.3688663900519308, 0.35126437244901226], [0.3555386176130082, 0.3518825117880187, 0.3518989181097514, 0.358687310803587, 0.3450812767537513, 0.3541396186501009, 0.3516863044997612, 0.3664606182959839, 0.3269609721219273, 0.35390949257230997]], [[0.3010747554711714, 0.2859007648061612, 0.30299485332481135, 0.33393613588728766, 0.33831842512199833, 0.3054898497942045, 0.29329939296531915, 0.3023752608750497, 0.30192877846219646, 0.3184173348005716], [0.36738882732374684, 0.373357080310078, 0.3703696223515526, 0.34456933586796434, 0.3625766199006665, 0.3603862831450575, 0.35598363410367856, 0.36540322392008256, 0.37032592437074646, 0.3556714173570374], [0.35562259217877557, 0.3403542904218746, 0.3525828352294471, 0.3528552340466161, 0.355207153817155, 0.3776982112338364, 0.35299106934080565, 0.35383252754174127, 0.3508994225678694, 0.3605851620037142]], [[0.2995526711048117, 0.33352583576986083, 0.30105498182223395, 0.3115382705435094, 0.32329772430213594, 0.3054679602152027, 0.29693809216068157, 0.27888420064781483, 0.29274644864924315, 0.29732998511859327], [0.3584161831467876, 0.3573925518364144, 0.3644045636483572, 0.3667837142170683, 0.35838962613793984, 0.36906315290335406, 0.35488390769546274, 0.363354955341178, 0.36659276770878985, 0.3586635377347995], [0.35627408242268804, 0.35255914552593504, 0.3476175647524847, 0.35284371017993177, 0.38817990099847954, 0.3482293407369498, 0.3443265053981779, 0.35557715005175916, 0.36847940046887123, 0.348365280714593]], [[0.28212043827023037, 0.30845630338068886, 0.3060306795657441, 0.3153445747537233, 0.2746423037402563, 0.3228235165890193, 0.2988998262562042, 0.3015870471027752, 0.28453215651421704, 0.31876832350757384], [0.36759941991229506, 0.3549666203670434, 0.3527713176672343, 0.3632721846896091, 0.35091039121191164, 0.35947197842449713, 0.36759278079162827, 0.3625781191618131, 0.3626338866166485, 0.3737974169211669], [0.35327788797815624, 0.3625000050086016, 0.3547308336851628, 0.3511005065360776, 0.36171961082820486, 0.353936919038683, 0.3750221756791999, 0.35408438219569993, 0.3503890893461298, 0.3554403074470595]], [[0.29625267881202527, 0.2751173730406806, 0.3385850689560364, 0.2941462564803187, 0.3026962912488333, 0.29970329205009644, 0.31001660226636857, 0.30657126531656426, 0.31730718786829076, 0.3149389696135189], [0.36355082205816974, 0.34676970975516136, 0.3599011799361511, 0.35886692554143473, 0.3518111133177238, 0.3682899743747291, 0.3697684442292571, 0.3627021373777348, 0.3663978428012066, 0.3734435962430339], [0.3508137301319325, 0.3408611730432127, 0.3441131825254089, 0.34571821176724066, 0.35273572166976935, 0.35505485116303426, 0.3561995249422435, 0.34511855563888816, 0.3640761022772787, 0.342722190788156]], [[0.3305499269680163, 0.29705193909829003, 0.2946552191767081, 0.30642966472388955, 0.33858954841545236, 0.28555899523644684, 0.2909078563419075, 0.32075433388523034, 0.3193917877691408, 0.31346947689280513], [0.3601405897047298, 0.34314893523100665, 0.35632136726089064, 0.3622860218780526, 0.3740393542854393, 0.3502835967688286, 0.3744527738093813, 0.343229149860572, 0.3816592419198169, 0.36900743748418063], [0.36032642194030884, 0.3540918579256854, 0.35315912341825634, 0.3560279280474996, 0.3472053304070414, 0.3474013516755132, 0.3472779080005683, 0.3524527273437646, 0.35531274282337205, 0.3451604529484896]], [[0.29147969115513916, 0.3005689369190732, 0.29530713723907076, 0.2977979771966709, 0.30458658466928507, 0.30450361035302353, 0.33892103384678146, 0.31166222386220055, 0.29409545564805645, 0.30661812110724057], [0.3554119651486841, 0.36145774079224574, 0.36778082683764446, 0.36101902993001045, 0.3513565214386073, 0.3587089074828311, 0.382121404459296, 0.34034413610345915, 0.3667098188505337, 0.3687400447870996], [0.3544832066524967, 0.35438081833091795, 0.35398021331216784, 0.3567882823089701, 0.3599981387562206, 0.344564636858211, 0.3035488694761405, 0.36993646945876607, 0.33940238593759803, 0.3459403906736087]], [[0.31893017164939896, 0.3329739575936437, 0.286603310761635, 0.3082364762067828, 0.3101691955147301, 0.31174594854240384, 0.27991788275496454, 0.33196194121292133, 0.2955083502096638, 0.3004465437195169], [0.371480097973488, 0.3474632177375899, 0.34137769168278115, 0.3708211903818581, 0.36531705052505503, 0.3641270596583331, 0.36687395411458196, 0.373467457064474, 0.34697106801791183, 0.3612282460447421], [0.3692932257871577, 0.35149188425851563, 0.3578720040160585, 0.3400205689691881, 0.3492333323690745, 0.3557044643024668, 0.35260391758563386, 0.33688989316539875, 0.3552948996450667, 0.3562868917966905]], [[0.2876648006901398, 0.3006657772400775, 0.30052825202258476, 0.3380619672121999, 0.29438722376185067, 0.3376012797873494, 0.29729818086877036, 0.2934788370055693, 0.29197056455939346, 0.3156429933893345], [0.3454359129983277, 0.36235997610633947, 0.3648736630201709, 0.3732022328775563, 0.3636438874421026, 0.3522765654526236, 0.34900823354053256, 0.37830888847018457, 0.3712313657173452, 0.3624886314657888], [0.36716371611865556, 0.35927983889801607, 0.34857806253945106, 0.3573606506978528, 0.34677710119181543, 0.35662398852454935, 0.34738745796509735, 0.35278735258841537, 0.3513245991540496, 0.3551529335753455]], [[0.3129882855693522, 0.3187875241532223, 0.2911889198668752, 0.3341707514285831, 0.335870918594065, 0.3228787598520865, 0.2997138577206774, 0.29610454872406067, 0.29154479850894, 0.29325977964573774], [0.3562035657057404, 0.3649462124330745, 0.368810608827182, 0.3710252763398872, 0.3663137232465901, 0.3695027583336507, 0.3512522707857889, 0.3678027428279408, 0.3463830504265865, 0.34981945989189867], [0.3533220021849226, 0.3540539829298107, 0.3538399178589557, 0.35428423822893923, 0.34295705498256074, 0.33122610777391587, 0.3593479520988376, 0.353360268845108, 0.3705909062351932, 0.35397329274331923]]]\n"
     ]
    }
   ],
   "source": [
    "print(\"Media Negativity dos N K-Fold\", [np.mean([neg[i] for neg in negativities_list]) for i in range(len(set(y)))])\n",
    "\n",
    "print()\n",
    "print()\n",
    "print(negativities_list)"
   ]
  }
 ],
 "metadata": {
  "kernelspec": {
   "display_name": "Python 3",
   "language": "python",
   "name": "python3"
  },
  "language_info": {
   "codemirror_mode": {
    "name": "ipython",
    "version": 3
   },
   "file_extension": ".py",
   "mimetype": "text/x-python",
   "name": "python",
   "nbconvert_exporter": "python",
   "pygments_lexer": "ipython3",
   "version": "3.9.16"
  }
 },
 "nbformat": 4,
 "nbformat_minor": 5
}
