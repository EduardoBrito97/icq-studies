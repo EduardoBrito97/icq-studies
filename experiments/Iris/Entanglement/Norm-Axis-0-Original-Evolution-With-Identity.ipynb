{
 "cells": [
  {
   "cell_type": "code",
   "execution_count": null,
   "id": "0db239e0",
   "metadata": {},
   "outputs": [],
   "source": [
    "dic_classifier_params = {}\n",
    "dic_classifier_params[\"sigma_q_params\"] = [1,1,1,1]\n",
    "dic_classifier_params[\"use_polar_coordinates_on_sigma_q\"] = False\n",
    "dic_classifier_params[\"load_inputvector_env_state\"] = False\n",
    "dic_classifier_params[\"normalize_axis\"] = 0"
   ]
  },
  {
   "cell_type": "code",
   "execution_count": null,
   "id": "665fc570",
   "metadata": {},
   "outputs": [],
   "source": [
    "%run run_eval_for_entanglement.ipynb"
   ]
  }
 ],
 "metadata": {
  "kernelspec": {
   "display_name": "Python 3",
   "language": "python",
   "name": "python3"
  },
  "language_info": {
   "codemirror_mode": {
    "name": "ipython",
    "version": 3
   },
   "file_extension": ".py",
   "mimetype": "text/x-python",
   "name": "python",
   "nbconvert_exporter": "python",
   "pygments_lexer": "ipython3",
   "version": "3.9.16"
  }
 },
 "nbformat": 4,
 "nbformat_minor": 5
}
