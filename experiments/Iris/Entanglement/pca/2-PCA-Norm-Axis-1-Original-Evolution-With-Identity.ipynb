{
 "cells": [
  {
   "cell_type": "code",
   "execution_count": 1,
   "id": "f5ec45b0",
   "metadata": {},
   "outputs": [
    {
     "name": "stderr",
     "output_type": "stream",
     "text": [
      "Intel(R) Extension for Scikit-learn* enabled (https://github.com/intel/scikit-learn-intelex)\n"
     ]
    }
   ],
   "source": [
    "import sys, os\n",
    "sys.path.append(os.path.abspath('../../../../classifiers'))\n",
    "sys.path.append(os.path.abspath('../../../../training'))\n",
    "sys.path.append(os.path.abspath('../../../../validation'))\n",
    "sys.path.append(os.path.abspath('../'))\n",
    "from validation_functions import execute_training_test_k_fold\n",
    "from classifiers_ICQ import iqc_classifier\n",
    "\n",
    "from sklearn.multiclass import OneVsRestClassifier\n",
    "from sklearn.decomposition import PCA\n",
    "from sklearn import datasets\n",
    "\n",
    "import numpy as np\n",
    "import matplotlib.pyplot as plt"
   ]
  },
  {
   "cell_type": "code",
   "execution_count": 2,
   "id": "82dddcd3",
   "metadata": {},
   "outputs": [],
   "source": [
    "range_step = 100\n",
    "k_times_fold = 10"
   ]
  },
  {
   "cell_type": "code",
   "execution_count": 3,
   "id": "ad8dddbb",
   "metadata": {},
   "outputs": [],
   "source": [
    "iris = datasets.load_iris()\n",
    "\n",
    "y = iris.target\n",
    "X = PCA(n_components=2).fit_transform(iris.data)[:, :]"
   ]
  },
  {
   "cell_type": "code",
   "execution_count": 4,
   "id": "0db239e0",
   "metadata": {},
   "outputs": [],
   "source": [
    "dic_classifier_params = {}\n",
    "dic_classifier_params[\"sigma_q_params\"] = [1,1,1,1]\n",
    "dic_classifier_params[\"use_polar_coordinates_on_sigma_q\"] = False\n",
    "dic_classifier_params[\"load_inputvector_env_state\"] = False\n",
    "dic_classifier_params[\"normalize_axis\"] = 1"
   ]
  },
  {
   "cell_type": "code",
   "execution_count": 5,
   "id": "04047b8a",
   "metadata": {},
   "outputs": [],
   "source": [
    "dic_training_params = {\"max_iter\": 1000,\n",
    "    \"accuracy_succ\": 0.99,\n",
    "    \"plot_graphs_and_metrics\": False,\n",
    "    \"plot_graphs_in_classifier\": False,\n",
    "    \"random_seed\": 1,\n",
    "    \"learning_rate\": 0.01,\n",
    "    \"do_classes_refit\":True,\n",
    "    \"reset_weights_epoch\":0,\n",
    "    \"batch\":1}"
   ]
  },
  {
   "cell_type": "code",
   "execution_count": 6,
   "id": "665fc570",
   "metadata": {},
   "outputs": [],
   "source": [
    "%run ../printing_methods.ipynb"
   ]
  },
  {
   "cell_type": "code",
   "execution_count": 7,
   "id": "19471942",
   "metadata": {},
   "outputs": [],
   "source": [
    "negativities_per_class = []\n",
    "entropies_per_class = []\n",
    "for clazz in range(len(set(y))):\n",
    "    negativities_per_class.append([])\n",
    "    entropies_per_class.append([])"
   ]
  },
  {
   "cell_type": "code",
   "execution_count": 8,
   "id": "3f090a41",
   "metadata": {},
   "outputs": [
    {
     "name": "stderr",
     "output_type": "stream",
     "text": [
      "[Parallel(n_jobs=1)]: Using backend SequentialBackend with 1 concurrent workers.\n",
      "[Parallel(n_jobs=1)]: Done   3 out of   3 | elapsed:    0.1s finished\n"
     ]
    },
    {
     "name": "stdout",
     "output_type": "stream",
     "text": [
      "K-Fold #0\n",
      "Mean negativities for all classes: [0.27396794952971276, 0.10418917072566747, 0.0890674985360059]\n",
      "Mean entropies for all classes: [2.9043130701396957e-15, 3.215139539711084e-15, 2.747352011629152e-15]\n",
      "              precision    recall  f1-score   support\n",
      "\n",
      "           0       0.00      0.00      0.00         5\n",
      "           1       0.33      0.40      0.36         5\n",
      "           2       0.00      0.00      0.00         5\n",
      "\n",
      "    accuracy                           0.13        15\n",
      "   macro avg       0.11      0.13      0.12        15\n",
      "weighted avg       0.11      0.13      0.12        15\n",
      "\n",
      "-------------------------------------------------------------------------------------------------------------------\n"
     ]
    },
    {
     "name": "stderr",
     "output_type": "stream",
     "text": [
      "[Parallel(n_jobs=1)]: Using backend SequentialBackend with 1 concurrent workers.\n",
      "[Parallel(n_jobs=1)]: Done   3 out of   3 | elapsed:    0.1s finished\n"
     ]
    },
    {
     "name": "stdout",
     "output_type": "stream",
     "text": [
      "K-Fold #1\n",
      "Mean negativities for all classes: [0.2994520696904562, 0.11091025613316509, 0.08822201710331828]\n",
      "Mean entropies for all classes: [2.424629497469595e-15, 2.4924586296964322e-15, 2.4678569780497067e-15]\n",
      "              precision    recall  f1-score   support\n",
      "\n",
      "           0       0.00      0.00      0.00         5\n",
      "           1       0.38      0.60      0.46         5\n",
      "           2       0.00      0.00      0.00         5\n",
      "\n",
      "    accuracy                           0.20        15\n",
      "   macro avg       0.12      0.20      0.15        15\n",
      "weighted avg       0.12      0.20      0.15        15\n",
      "\n",
      "-------------------------------------------------------------------------------------------------------------------\n"
     ]
    },
    {
     "name": "stderr",
     "output_type": "stream",
     "text": [
      "[Parallel(n_jobs=1)]: Using backend SequentialBackend with 1 concurrent workers.\n",
      "[Parallel(n_jobs=1)]: Done   3 out of   3 | elapsed:    0.1s finished\n"
     ]
    },
    {
     "name": "stdout",
     "output_type": "stream",
     "text": [
      "K-Fold #2\n",
      "Mean negativities for all classes: [0.25629351920280524, 0.10607742369434897, 0.09012598593659513]\n",
      "Mean entropies for all classes: [2.9842045866947515e-15, 3.897986753197961e-15, 2.701589006776978e-15]\n",
      "              precision    recall  f1-score   support\n",
      "\n",
      "           0       0.00      0.00      0.00         5\n",
      "           1       0.17      0.20      0.18         5\n",
      "           2       0.00      0.00      0.00         5\n",
      "\n",
      "    accuracy                           0.07        15\n",
      "   macro avg       0.06      0.07      0.06        15\n",
      "weighted avg       0.06      0.07      0.06        15\n",
      "\n",
      "-------------------------------------------------------------------------------------------------------------------\n"
     ]
    },
    {
     "name": "stderr",
     "output_type": "stream",
     "text": [
      "[Parallel(n_jobs=1)]: Using backend SequentialBackend with 1 concurrent workers.\n",
      "[Parallel(n_jobs=1)]: Done   3 out of   3 | elapsed:    0.1s finished\n"
     ]
    },
    {
     "name": "stdout",
     "output_type": "stream",
     "text": [
      "K-Fold #3\n",
      "Mean negativities for all classes: [0.26189265053635985, 0.10009024459336083, 0.08342298848550403]\n",
      "Mean entropies for all classes: [2.6537593384932036e-15, 3.0897619929814347e-15, 2.7921786020493843e-15]\n",
      "              precision    recall  f1-score   support\n",
      "\n",
      "           0       0.00      0.00      0.00         5\n",
      "           1       0.29      0.40      0.33         5\n",
      "           2       0.00      0.00      0.00         5\n",
      "\n",
      "    accuracy                           0.13        15\n",
      "   macro avg       0.10      0.13      0.11        15\n",
      "weighted avg       0.10      0.13      0.11        15\n",
      "\n",
      "-------------------------------------------------------------------------------------------------------------------\n"
     ]
    },
    {
     "name": "stderr",
     "output_type": "stream",
     "text": [
      "[Parallel(n_jobs=1)]: Using backend SequentialBackend with 1 concurrent workers.\n",
      "[Parallel(n_jobs=1)]: Done   3 out of   3 | elapsed:    0.1s finished\n"
     ]
    },
    {
     "name": "stdout",
     "output_type": "stream",
     "text": [
      "K-Fold #4\n",
      "Mean negativities for all classes: [0.2976022404796481, 0.10501852892118875, 0.08643549745578906]\n",
      "Mean entropies for all classes: [2.8087458108381246e-15, 3.27827639466595e-15, 3.03389429142203e-15]\n",
      "              precision    recall  f1-score   support\n",
      "\n",
      "           0       0.00      0.00      0.00         5\n",
      "           1       0.29      0.40      0.33         5\n",
      "           2       0.00      0.00      0.00         5\n",
      "\n",
      "    accuracy                           0.13        15\n",
      "   macro avg       0.10      0.13      0.11        15\n",
      "weighted avg       0.10      0.13      0.11        15\n",
      "\n",
      "-------------------------------------------------------------------------------------------------------------------\n"
     ]
    },
    {
     "name": "stderr",
     "output_type": "stream",
     "text": [
      "[Parallel(n_jobs=1)]: Using backend SequentialBackend with 1 concurrent workers.\n",
      "[Parallel(n_jobs=1)]: Done   3 out of   3 | elapsed:    0.1s finished\n"
     ]
    },
    {
     "name": "stdout",
     "output_type": "stream",
     "text": [
      "K-Fold #5\n",
      "Mean negativities for all classes: [0.2929943800437998, 0.12566490222493362, 0.10733360179438793]\n",
      "Mean entropies for all classes: [2.3490148346362505e-15, 3.1454359394777713e-15, 3.586405012883309e-15]\n",
      "              precision    recall  f1-score   support\n",
      "\n",
      "           0       0.00      0.00      0.00         5\n",
      "           1       0.50      0.80      0.62         5\n",
      "           2       0.00      0.00      0.00         5\n",
      "\n",
      "    accuracy                           0.27        15\n",
      "   macro avg       0.17      0.27      0.21        15\n",
      "weighted avg       0.17      0.27      0.21        15\n",
      "\n",
      "-------------------------------------------------------------------------------------------------------------------\n"
     ]
    },
    {
     "name": "stderr",
     "output_type": "stream",
     "text": [
      "[Parallel(n_jobs=1)]: Using backend SequentialBackend with 1 concurrent workers.\n",
      "[Parallel(n_jobs=1)]: Done   3 out of   3 | elapsed:    0.1s finished\n"
     ]
    },
    {
     "name": "stdout",
     "output_type": "stream",
     "text": [
      "K-Fold #6\n",
      "Mean negativities for all classes: [0.2927184789026661, 0.10167140248614152, 0.07422559974729522]\n",
      "Mean entropies for all classes: [2.0435868550299786e-15, 3.937681613739391e-15, 2.362058608987385e-15]\n",
      "              precision    recall  f1-score   support\n",
      "\n",
      "           0       0.00      0.00      0.00         5\n",
      "           1       0.50      0.80      0.62         5\n",
      "           2       0.00      0.00      0.00         5\n",
      "\n",
      "    accuracy                           0.27        15\n",
      "   macro avg       0.17      0.27      0.21        15\n",
      "weighted avg       0.17      0.27      0.21        15\n",
      "\n",
      "-------------------------------------------------------------------------------------------------------------------\n"
     ]
    },
    {
     "name": "stderr",
     "output_type": "stream",
     "text": [
      "[Parallel(n_jobs=1)]: Using backend SequentialBackend with 1 concurrent workers.\n",
      "[Parallel(n_jobs=1)]: Done   3 out of   3 | elapsed:    0.1s finished\n"
     ]
    },
    {
     "name": "stdout",
     "output_type": "stream",
     "text": [
      "K-Fold #7\n",
      "Mean negativities for all classes: [0.3023105059829449, 0.12625081062736537, 0.11032982341048363]\n",
      "Mean entropies for all classes: [3.0498188627894722e-15, 3.7490038956074064e-15, 2.2863757354439207e-15]\n",
      "              precision    recall  f1-score   support\n",
      "\n",
      "           0       0.00      0.00      0.00         5\n",
      "           1       0.17      0.20      0.18         5\n",
      "           2       0.00      0.00      0.00         5\n",
      "\n",
      "    accuracy                           0.07        15\n",
      "   macro avg       0.06      0.07      0.06        15\n",
      "weighted avg       0.06      0.07      0.06        15\n",
      "\n",
      "-------------------------------------------------------------------------------------------------------------------\n"
     ]
    },
    {
     "name": "stderr",
     "output_type": "stream",
     "text": [
      "[Parallel(n_jobs=1)]: Using backend SequentialBackend with 1 concurrent workers.\n",
      "[Parallel(n_jobs=1)]: Done   3 out of   3 | elapsed:    0.1s finished\n"
     ]
    },
    {
     "name": "stdout",
     "output_type": "stream",
     "text": [
      "K-Fold #8\n",
      "Mean negativities for all classes: [0.30123044106220215, 0.12234602882041053, 0.1047027907391659]\n",
      "Mean entropies for all classes: [3.2770624930676095e-15, 3.597944896524925e-15, 4.062961241335296e-15]\n",
      "              precision    recall  f1-score   support\n",
      "\n",
      "           0       0.00      0.00      0.00         5\n",
      "           1       0.33      0.40      0.36         5\n",
      "           2       0.00      0.00      0.00         5\n",
      "\n",
      "    accuracy                           0.13        15\n",
      "   macro avg       0.11      0.13      0.12        15\n",
      "weighted avg       0.11      0.13      0.12        15\n",
      "\n",
      "-------------------------------------------------------------------------------------------------------------------\n"
     ]
    },
    {
     "name": "stderr",
     "output_type": "stream",
     "text": [
      "[Parallel(n_jobs=1)]: Using backend SequentialBackend with 1 concurrent workers.\n",
      "[Parallel(n_jobs=1)]: Done   3 out of   3 | elapsed:    0.1s finished\n"
     ]
    },
    {
     "name": "stdout",
     "output_type": "stream",
     "text": [
      "K-Fold #9\n",
      "Mean negativities for all classes: [0.2830856158588751, 0.10205013518261682, 0.07703439213024646]\n",
      "Mean entropies for all classes: [2.9364412933647286e-15, 2.910769674670279e-15, 2.7131063339030703e-15]\n",
      "              precision    recall  f1-score   support\n",
      "\n",
      "           0       0.00      0.00      0.00         5\n",
      "           1       0.38      0.60      0.46         5\n",
      "           2       0.00      0.00      0.00         5\n",
      "\n",
      "    accuracy                           0.20        15\n",
      "   macro avg       0.12      0.20      0.15        15\n",
      "weighted avg       0.12      0.20      0.15        15\n",
      "\n",
      "-------------------------------------------------------------------------------------------------------------------\n",
      "AVG: Scores = 0.16 F1-Scores = 0.13038073038073034 Negativity = [0.1557415395971287, 0.16619478097564652, 0.1508323096112498] Entropy = [2.9556015404933105e-15, 2.4616483684052447e-15, 3.194593448889897e-15]\n"
     ]
    },
    {
     "name": "stderr",
     "output_type": "stream",
     "text": [
      "[Parallel(n_jobs=1)]: Using backend SequentialBackend with 1 concurrent workers.\n",
      "[Parallel(n_jobs=1)]: Done   3 out of   3 | elapsed:   18.5s finished\n",
      "[Parallel(n_jobs=1)]: Using backend SequentialBackend with 1 concurrent workers.\n"
     ]
    },
    {
     "name": "stdout",
     "output_type": "stream",
     "text": [
      "K-Fold #0\n",
      "Mean negativities for all classes: [0.21986224862418968, 0.32736621779414604, 0.23771475663164676]\n",
      "Mean entropies for all classes: [2.4185894599122564e-15, 2.0727794949744506e-15, 3.1270900603175324e-15]\n",
      "              precision    recall  f1-score   support\n",
      "\n",
      "           0       0.83      1.00      0.91         5\n",
      "           1       0.75      0.60      0.67         5\n",
      "           2       0.80      0.80      0.80         5\n",
      "\n",
      "    accuracy                           0.80        15\n",
      "   macro avg       0.79      0.80      0.79        15\n",
      "weighted avg       0.79      0.80      0.79        15\n",
      "\n",
      "-------------------------------------------------------------------------------------------------------------------\n"
     ]
    },
    {
     "name": "stderr",
     "output_type": "stream",
     "text": [
      "[Parallel(n_jobs=1)]: Done   3 out of   3 | elapsed:   18.6s finished\n",
      "[Parallel(n_jobs=1)]: Using backend SequentialBackend with 1 concurrent workers.\n"
     ]
    },
    {
     "name": "stdout",
     "output_type": "stream",
     "text": [
      "K-Fold #1\n",
      "Mean negativities for all classes: [0.18049069817723726, 0.34285567633780395, 0.2213868045794595]\n",
      "Mean entropies for all classes: [2.7582561494856594e-15, 2.347032788542941e-15, 2.8953147163170428e-15]\n",
      "              precision    recall  f1-score   support\n",
      "\n",
      "           0       0.83      1.00      0.91         5\n",
      "           1       1.00      0.40      0.57         5\n",
      "           2       0.71      1.00      0.83         5\n",
      "\n",
      "    accuracy                           0.80        15\n",
      "   macro avg       0.85      0.80      0.77        15\n",
      "weighted avg       0.85      0.80      0.77        15\n",
      "\n",
      "-------------------------------------------------------------------------------------------------------------------\n"
     ]
    },
    {
     "name": "stderr",
     "output_type": "stream",
     "text": [
      "[Parallel(n_jobs=1)]: Done   3 out of   3 | elapsed:   18.5s finished\n",
      "[Parallel(n_jobs=1)]: Using backend SequentialBackend with 1 concurrent workers.\n"
     ]
    },
    {
     "name": "stdout",
     "output_type": "stream",
     "text": [
      "K-Fold #2\n",
      "Mean negativities for all classes: [0.16291645856199613, 0.31330301161008883, 0.26361061526256824]\n",
      "Mean entropies for all classes: [2.4547125368304866e-15, 2.3346431300853688e-15, 2.7281101768088238e-15]\n",
      "              precision    recall  f1-score   support\n",
      "\n",
      "           0       0.83      1.00      0.91         5\n",
      "           1       0.50      0.40      0.44         5\n",
      "           2       0.60      0.60      0.60         5\n",
      "\n",
      "    accuracy                           0.67        15\n",
      "   macro avg       0.64      0.67      0.65        15\n",
      "weighted avg       0.64      0.67      0.65        15\n",
      "\n",
      "-------------------------------------------------------------------------------------------------------------------\n"
     ]
    },
    {
     "name": "stderr",
     "output_type": "stream",
     "text": [
      "[Parallel(n_jobs=1)]: Done   3 out of   3 | elapsed:   18.6s finished\n",
      "[Parallel(n_jobs=1)]: Using backend SequentialBackend with 1 concurrent workers.\n"
     ]
    },
    {
     "name": "stdout",
     "output_type": "stream",
     "text": [
      "K-Fold #3\n",
      "Mean negativities for all classes: [0.22260743517517442, 0.3192900613702481, 0.21934223015234622]\n",
      "Mean entropies for all classes: [3.7463410486672714e-15, 2.4345821864386356e-15, 2.9506200766725518e-15]\n",
      "              precision    recall  f1-score   support\n",
      "\n",
      "           0       0.83      1.00      0.91         5\n",
      "           1       1.00      0.60      0.75         5\n",
      "           2       0.83      1.00      0.91         5\n",
      "\n",
      "    accuracy                           0.87        15\n",
      "   macro avg       0.89      0.87      0.86        15\n",
      "weighted avg       0.89      0.87      0.86        15\n",
      "\n",
      "-------------------------------------------------------------------------------------------------------------------\n"
     ]
    },
    {
     "name": "stderr",
     "output_type": "stream",
     "text": [
      "[Parallel(n_jobs=1)]: Done   3 out of   3 | elapsed:   18.2s finished\n",
      "[Parallel(n_jobs=1)]: Using backend SequentialBackend with 1 concurrent workers.\n"
     ]
    },
    {
     "name": "stdout",
     "output_type": "stream",
     "text": [
      "K-Fold #4\n",
      "Mean negativities for all classes: [0.20657599966499435, 0.3385933058709919, 0.22307417277491112]\n",
      "Mean entropies for all classes: [2.4772655306467907e-15, 2.4397470769064993e-15, 3.2075930683241514e-15]\n",
      "              precision    recall  f1-score   support\n",
      "\n",
      "           0       0.83      1.00      0.91         5\n",
      "           1       0.00      0.00      0.00         5\n",
      "           2       0.50      0.80      0.62         5\n",
      "\n",
      "    accuracy                           0.60        15\n",
      "   macro avg       0.44      0.60      0.51        15\n",
      "weighted avg       0.44      0.60      0.51        15\n",
      "\n",
      "-------------------------------------------------------------------------------------------------------------------\n"
     ]
    },
    {
     "name": "stderr",
     "output_type": "stream",
     "text": [
      "[Parallel(n_jobs=1)]: Done   3 out of   3 | elapsed:   18.5s finished\n",
      "[Parallel(n_jobs=1)]: Using backend SequentialBackend with 1 concurrent workers.\n"
     ]
    },
    {
     "name": "stdout",
     "output_type": "stream",
     "text": [
      "K-Fold #5\n",
      "Mean negativities for all classes: [0.1650482231489481, 0.3178742746793235, 0.25998134794801775]\n",
      "Mean entropies for all classes: [3.032687370783545e-15, 2.6015066483584197e-15, 2.797752310988094e-15]\n",
      "              precision    recall  f1-score   support\n",
      "\n",
      "           0       0.83      1.00      0.91         5\n",
      "           1       0.40      0.40      0.40         5\n",
      "           2       0.50      0.40      0.44         5\n",
      "\n",
      "    accuracy                           0.60        15\n",
      "   macro avg       0.58      0.60      0.58        15\n",
      "weighted avg       0.58      0.60      0.58        15\n",
      "\n",
      "-------------------------------------------------------------------------------------------------------------------\n"
     ]
    },
    {
     "name": "stderr",
     "output_type": "stream",
     "text": [
      "[Parallel(n_jobs=1)]: Done   3 out of   3 | elapsed:   18.6s finished\n",
      "[Parallel(n_jobs=1)]: Using backend SequentialBackend with 1 concurrent workers.\n"
     ]
    },
    {
     "name": "stdout",
     "output_type": "stream",
     "text": [
      "K-Fold #6\n",
      "Mean negativities for all classes: [0.2139358168916999, 0.34447582932926984, 0.1818638426539681]\n",
      "Mean entropies for all classes: [4.171328887200708e-15, 2.3108056375404896e-15, 2.3411981392390023e-15]\n",
      "              precision    recall  f1-score   support\n",
      "\n",
      "           0       1.00      1.00      1.00         5\n",
      "           1       0.75      0.60      0.67         5\n",
      "           2       0.67      0.80      0.73         5\n",
      "\n",
      "    accuracy                           0.80        15\n",
      "   macro avg       0.81      0.80      0.80        15\n",
      "weighted avg       0.81      0.80      0.80        15\n",
      "\n",
      "-------------------------------------------------------------------------------------------------------------------\n"
     ]
    },
    {
     "name": "stderr",
     "output_type": "stream",
     "text": [
      "[Parallel(n_jobs=1)]: Done   3 out of   3 | elapsed:   19.3s finished\n",
      "[Parallel(n_jobs=1)]: Using backend SequentialBackend with 1 concurrent workers.\n"
     ]
    },
    {
     "name": "stdout",
     "output_type": "stream",
     "text": [
      "K-Fold #7\n",
      "Mean negativities for all classes: [0.1871036764131637, 0.30021405911028937, 0.2556124155809666]\n",
      "Mean entropies for all classes: [3.3190629166075524e-15, 2.2129245265841495e-15, 2.775252554069955e-15]\n",
      "              precision    recall  f1-score   support\n",
      "\n",
      "           0       0.83      1.00      0.91         5\n",
      "           1       0.50      0.40      0.44         5\n",
      "           2       0.60      0.60      0.60         5\n",
      "\n",
      "    accuracy                           0.67        15\n",
      "   macro avg       0.64      0.67      0.65        15\n",
      "weighted avg       0.64      0.67      0.65        15\n",
      "\n",
      "-------------------------------------------------------------------------------------------------------------------\n"
     ]
    },
    {
     "name": "stderr",
     "output_type": "stream",
     "text": [
      "[Parallel(n_jobs=1)]: Done   3 out of   3 | elapsed:   18.3s finished\n",
      "[Parallel(n_jobs=1)]: Using backend SequentialBackend with 1 concurrent workers.\n"
     ]
    },
    {
     "name": "stdout",
     "output_type": "stream",
     "text": [
      "K-Fold #8\n",
      "Mean negativities for all classes: [0.21920853643939264, 0.12234602882041053, 0.20300501419410874]\n",
      "Mean entropies for all classes: [3.184020618518732e-15, 3.597944896524925e-15, 3.3269994946299106e-15]\n",
      "              precision    recall  f1-score   support\n",
      "\n",
      "           0       1.00      1.00      1.00         5\n",
      "           1       1.00      1.00      1.00         5\n",
      "           2       1.00      1.00      1.00         5\n",
      "\n",
      "    accuracy                           1.00        15\n",
      "   macro avg       1.00      1.00      1.00        15\n",
      "weighted avg       1.00      1.00      1.00        15\n",
      "\n",
      "-------------------------------------------------------------------------------------------------------------------\n"
     ]
    },
    {
     "name": "stderr",
     "output_type": "stream",
     "text": [
      "[Parallel(n_jobs=1)]: Done   3 out of   3 | elapsed:   18.5s finished\n",
      "[Parallel(n_jobs=1)]: Using backend SequentialBackend with 1 concurrent workers.\n"
     ]
    },
    {
     "name": "stdout",
     "output_type": "stream",
     "text": [
      "K-Fold #9\n",
      "Mean negativities for all classes: [0.19403451434043942, 0.33594588606513237, 0.1949394155670907]\n",
      "Mean entropies for all classes: [3.2986565743398533e-15, 3.1875535678837544e-15, 2.7077025976682945e-15]\n",
      "              precision    recall  f1-score   support\n",
      "\n",
      "           0       1.00      1.00      1.00         5\n",
      "           1       0.75      0.60      0.67         5\n",
      "           2       0.67      0.80      0.73         5\n",
      "\n",
      "    accuracy                           0.80        15\n",
      "   macro avg       0.81      0.80      0.80        15\n",
      "weighted avg       0.81      0.80      0.80        15\n",
      "\n",
      "-------------------------------------------------------------------------------------------------------------------\n",
      "AVG: Scores = 0.76 F1-Scores = 0.741025086025086 Negativity = [0.26164774101666083, 0.24824439303150023, 0.24661002847821775] Entropy = [2.5394863384014133e-15, 2.666867884781881e-15, 2.5058219479082263e-15]\n"
     ]
    },
    {
     "name": "stderr",
     "output_type": "stream",
     "text": [
      "[Parallel(n_jobs=1)]: Done   3 out of   3 | elapsed:   37.8s finished\n",
      "[Parallel(n_jobs=1)]: Using backend SequentialBackend with 1 concurrent workers.\n"
     ]
    },
    {
     "name": "stdout",
     "output_type": "stream",
     "text": [
      "K-Fold #0\n",
      "Mean negativities for all classes: [0.21986224862418968, 0.32736621779414604, 0.23771475663164676]\n",
      "Mean entropies for all classes: [2.4185894599122564e-15, 2.0727794949744506e-15, 3.1270900603175324e-15]\n",
      "              precision    recall  f1-score   support\n",
      "\n",
      "           0       0.83      1.00      0.91         5\n",
      "           1       0.75      0.60      0.67         5\n",
      "           2       0.80      0.80      0.80         5\n",
      "\n",
      "    accuracy                           0.80        15\n",
      "   macro avg       0.79      0.80      0.79        15\n",
      "weighted avg       0.79      0.80      0.79        15\n",
      "\n",
      "-------------------------------------------------------------------------------------------------------------------\n"
     ]
    },
    {
     "name": "stderr",
     "output_type": "stream",
     "text": [
      "[Parallel(n_jobs=1)]: Done   3 out of   3 | elapsed:   37.9s finished\n",
      "[Parallel(n_jobs=1)]: Using backend SequentialBackend with 1 concurrent workers.\n"
     ]
    },
    {
     "name": "stdout",
     "output_type": "stream",
     "text": [
      "K-Fold #1\n",
      "Mean negativities for all classes: [0.18049069817723726, 0.34285567633780395, 0.2213868045794595]\n",
      "Mean entropies for all classes: [2.7582561494856594e-15, 2.347032788542941e-15, 2.8953147163170428e-15]\n",
      "              precision    recall  f1-score   support\n",
      "\n",
      "           0       0.83      1.00      0.91         5\n",
      "           1       1.00      0.40      0.57         5\n",
      "           2       0.71      1.00      0.83         5\n",
      "\n",
      "    accuracy                           0.80        15\n",
      "   macro avg       0.85      0.80      0.77        15\n",
      "weighted avg       0.85      0.80      0.77        15\n",
      "\n",
      "-------------------------------------------------------------------------------------------------------------------\n"
     ]
    },
    {
     "name": "stderr",
     "output_type": "stream",
     "text": [
      "[Parallel(n_jobs=1)]: Done   3 out of   3 | elapsed:   37.8s finished\n",
      "[Parallel(n_jobs=1)]: Using backend SequentialBackend with 1 concurrent workers.\n"
     ]
    },
    {
     "name": "stdout",
     "output_type": "stream",
     "text": [
      "K-Fold #2\n",
      "Mean negativities for all classes: [0.16291645856199613, 0.31330301161008883, 0.26361061526256824]\n",
      "Mean entropies for all classes: [2.4547125368304866e-15, 2.3346431300853688e-15, 2.7281101768088238e-15]\n",
      "              precision    recall  f1-score   support\n",
      "\n",
      "           0       0.83      1.00      0.91         5\n",
      "           1       0.50      0.40      0.44         5\n",
      "           2       0.60      0.60      0.60         5\n",
      "\n",
      "    accuracy                           0.67        15\n",
      "   macro avg       0.64      0.67      0.65        15\n",
      "weighted avg       0.64      0.67      0.65        15\n",
      "\n",
      "-------------------------------------------------------------------------------------------------------------------\n"
     ]
    },
    {
     "name": "stderr",
     "output_type": "stream",
     "text": [
      "[Parallel(n_jobs=1)]: Done   3 out of   3 | elapsed:   37.7s finished\n",
      "[Parallel(n_jobs=1)]: Using backend SequentialBackend with 1 concurrent workers.\n"
     ]
    },
    {
     "name": "stdout",
     "output_type": "stream",
     "text": [
      "K-Fold #3\n",
      "Mean negativities for all classes: [0.22260743517517442, 0.3192900613702481, 0.21934223015234622]\n",
      "Mean entropies for all classes: [3.7463410486672714e-15, 2.4345821864386356e-15, 2.9506200766725518e-15]\n",
      "              precision    recall  f1-score   support\n",
      "\n",
      "           0       0.83      1.00      0.91         5\n",
      "           1       1.00      0.60      0.75         5\n",
      "           2       0.83      1.00      0.91         5\n",
      "\n",
      "    accuracy                           0.87        15\n",
      "   macro avg       0.89      0.87      0.86        15\n",
      "weighted avg       0.89      0.87      0.86        15\n",
      "\n",
      "-------------------------------------------------------------------------------------------------------------------\n"
     ]
    },
    {
     "name": "stderr",
     "output_type": "stream",
     "text": [
      "[Parallel(n_jobs=1)]: Done   3 out of   3 | elapsed:   37.3s finished\n",
      "[Parallel(n_jobs=1)]: Using backend SequentialBackend with 1 concurrent workers.\n"
     ]
    },
    {
     "name": "stdout",
     "output_type": "stream",
     "text": [
      "K-Fold #4\n",
      "Mean negativities for all classes: [0.20657599966499435, 0.3385933058709919, 0.22307417277491112]\n",
      "Mean entropies for all classes: [2.4772655306467907e-15, 2.4397470769064993e-15, 3.2075930683241514e-15]\n",
      "              precision    recall  f1-score   support\n",
      "\n",
      "           0       0.83      1.00      0.91         5\n",
      "           1       0.00      0.00      0.00         5\n",
      "           2       0.50      0.80      0.62         5\n",
      "\n",
      "    accuracy                           0.60        15\n",
      "   macro avg       0.44      0.60      0.51        15\n",
      "weighted avg       0.44      0.60      0.51        15\n",
      "\n",
      "-------------------------------------------------------------------------------------------------------------------\n"
     ]
    },
    {
     "name": "stderr",
     "output_type": "stream",
     "text": [
      "[Parallel(n_jobs=1)]: Done   3 out of   3 | elapsed:   37.8s finished\n",
      "[Parallel(n_jobs=1)]: Using backend SequentialBackend with 1 concurrent workers.\n"
     ]
    },
    {
     "name": "stdout",
     "output_type": "stream",
     "text": [
      "K-Fold #5\n",
      "Mean negativities for all classes: [0.1650482231489481, 0.3178742746793235, 0.25998134794801775]\n",
      "Mean entropies for all classes: [3.032687370783545e-15, 2.6015066483584197e-15, 2.797752310988094e-15]\n",
      "              precision    recall  f1-score   support\n",
      "\n",
      "           0       0.83      1.00      0.91         5\n",
      "           1       0.40      0.40      0.40         5\n",
      "           2       0.50      0.40      0.44         5\n",
      "\n",
      "    accuracy                           0.60        15\n",
      "   macro avg       0.58      0.60      0.58        15\n",
      "weighted avg       0.58      0.60      0.58        15\n",
      "\n",
      "-------------------------------------------------------------------------------------------------------------------\n"
     ]
    },
    {
     "name": "stderr",
     "output_type": "stream",
     "text": [
      "[Parallel(n_jobs=1)]: Done   3 out of   3 | elapsed:   37.7s finished\n",
      "[Parallel(n_jobs=1)]: Using backend SequentialBackend with 1 concurrent workers.\n"
     ]
    },
    {
     "name": "stdout",
     "output_type": "stream",
     "text": [
      "K-Fold #6\n",
      "Mean negativities for all classes: [0.2139358168916999, 0.34447582932926984, 0.1818638426539681]\n",
      "Mean entropies for all classes: [4.171328887200708e-15, 2.3108056375404896e-15, 2.3411981392390023e-15]\n",
      "              precision    recall  f1-score   support\n",
      "\n",
      "           0       1.00      1.00      1.00         5\n",
      "           1       0.75      0.60      0.67         5\n",
      "           2       0.67      0.80      0.73         5\n",
      "\n",
      "    accuracy                           0.80        15\n",
      "   macro avg       0.81      0.80      0.80        15\n",
      "weighted avg       0.81      0.80      0.80        15\n",
      "\n",
      "-------------------------------------------------------------------------------------------------------------------\n"
     ]
    },
    {
     "name": "stderr",
     "output_type": "stream",
     "text": [
      "[Parallel(n_jobs=1)]: Done   3 out of   3 | elapsed:   37.6s finished\n",
      "[Parallel(n_jobs=1)]: Using backend SequentialBackend with 1 concurrent workers.\n"
     ]
    },
    {
     "name": "stdout",
     "output_type": "stream",
     "text": [
      "K-Fold #7\n",
      "Mean negativities for all classes: [0.1871036764131637, 0.30021405911028937, 0.2556124155809666]\n",
      "Mean entropies for all classes: [3.3190629166075524e-15, 2.2129245265841495e-15, 2.775252554069955e-15]\n",
      "              precision    recall  f1-score   support\n",
      "\n",
      "           0       0.83      1.00      0.91         5\n",
      "           1       0.50      0.40      0.44         5\n",
      "           2       0.60      0.60      0.60         5\n",
      "\n",
      "    accuracy                           0.67        15\n",
      "   macro avg       0.64      0.67      0.65        15\n",
      "weighted avg       0.64      0.67      0.65        15\n",
      "\n",
      "-------------------------------------------------------------------------------------------------------------------\n"
     ]
    },
    {
     "name": "stderr",
     "output_type": "stream",
     "text": [
      "[Parallel(n_jobs=1)]: Done   3 out of   3 | elapsed:   36.8s finished\n",
      "[Parallel(n_jobs=1)]: Using backend SequentialBackend with 1 concurrent workers.\n"
     ]
    },
    {
     "name": "stdout",
     "output_type": "stream",
     "text": [
      "K-Fold #8\n",
      "Mean negativities for all classes: [0.21920853643939264, 0.12234602882041053, 0.20300501419410874]\n",
      "Mean entropies for all classes: [3.184020618518732e-15, 3.597944896524925e-15, 3.3269994946299106e-15]\n",
      "              precision    recall  f1-score   support\n",
      "\n",
      "           0       1.00      1.00      1.00         5\n",
      "           1       1.00      1.00      1.00         5\n",
      "           2       1.00      1.00      1.00         5\n",
      "\n",
      "    accuracy                           1.00        15\n",
      "   macro avg       1.00      1.00      1.00        15\n",
      "weighted avg       1.00      1.00      1.00        15\n",
      "\n",
      "-------------------------------------------------------------------------------------------------------------------\n"
     ]
    },
    {
     "name": "stderr",
     "output_type": "stream",
     "text": [
      "[Parallel(n_jobs=1)]: Done   3 out of   3 | elapsed:   37.6s finished\n",
      "[Parallel(n_jobs=1)]: Using backend SequentialBackend with 1 concurrent workers.\n"
     ]
    },
    {
     "name": "stdout",
     "output_type": "stream",
     "text": [
      "K-Fold #9\n",
      "Mean negativities for all classes: [0.19403451434043942, 0.33594588606513237, 0.1949394155670907]\n",
      "Mean entropies for all classes: [3.2986565743398533e-15, 3.1875535678837544e-15, 2.7077025976682945e-15]\n",
      "              precision    recall  f1-score   support\n",
      "\n",
      "           0       1.00      1.00      1.00         5\n",
      "           1       0.75      0.60      0.67         5\n",
      "           2       0.67      0.80      0.73         5\n",
      "\n",
      "    accuracy                           0.80        15\n",
      "   macro avg       0.81      0.80      0.80        15\n",
      "weighted avg       0.81      0.80      0.80        15\n",
      "\n",
      "-------------------------------------------------------------------------------------------------------------------\n",
      "AVG: Scores = 0.76 F1-Scores = 0.741025086025086 Negativity = [0.26164774101666083, 0.24824439303150023, 0.24661002847821775] Entropy = [2.5394863384014133e-15, 2.666867884781881e-15, 2.5058219479082263e-15]\n"
     ]
    },
    {
     "name": "stderr",
     "output_type": "stream",
     "text": [
      "[Parallel(n_jobs=1)]: Done   3 out of   3 | elapsed:   57.0s finished\n",
      "[Parallel(n_jobs=1)]: Using backend SequentialBackend with 1 concurrent workers.\n"
     ]
    },
    {
     "name": "stdout",
     "output_type": "stream",
     "text": [
      "K-Fold #0\n",
      "Mean negativities for all classes: [0.21986224862418968, 0.32736621779414604, 0.23771475663164676]\n",
      "Mean entropies for all classes: [2.4185894599122564e-15, 2.0727794949744506e-15, 3.1270900603175324e-15]\n",
      "              precision    recall  f1-score   support\n",
      "\n",
      "           0       0.83      1.00      0.91         5\n",
      "           1       0.75      0.60      0.67         5\n",
      "           2       0.80      0.80      0.80         5\n",
      "\n",
      "    accuracy                           0.80        15\n",
      "   macro avg       0.79      0.80      0.79        15\n",
      "weighted avg       0.79      0.80      0.79        15\n",
      "\n",
      "-------------------------------------------------------------------------------------------------------------------\n"
     ]
    },
    {
     "name": "stderr",
     "output_type": "stream",
     "text": [
      "[Parallel(n_jobs=1)]: Done   3 out of   3 | elapsed:   57.0s finished\n",
      "[Parallel(n_jobs=1)]: Using backend SequentialBackend with 1 concurrent workers.\n"
     ]
    },
    {
     "name": "stdout",
     "output_type": "stream",
     "text": [
      "K-Fold #1\n",
      "Mean negativities for all classes: [0.18049069817723726, 0.34285567633780395, 0.2213868045794595]\n",
      "Mean entropies for all classes: [2.7582561494856594e-15, 2.347032788542941e-15, 2.8953147163170428e-15]\n",
      "              precision    recall  f1-score   support\n",
      "\n",
      "           0       0.83      1.00      0.91         5\n",
      "           1       1.00      0.40      0.57         5\n",
      "           2       0.71      1.00      0.83         5\n",
      "\n",
      "    accuracy                           0.80        15\n",
      "   macro avg       0.85      0.80      0.77        15\n",
      "weighted avg       0.85      0.80      0.77        15\n",
      "\n",
      "-------------------------------------------------------------------------------------------------------------------\n"
     ]
    },
    {
     "name": "stderr",
     "output_type": "stream",
     "text": [
      "[Parallel(n_jobs=1)]: Done   3 out of   3 | elapsed:   56.9s finished\n",
      "[Parallel(n_jobs=1)]: Using backend SequentialBackend with 1 concurrent workers.\n"
     ]
    },
    {
     "name": "stdout",
     "output_type": "stream",
     "text": [
      "K-Fold #2\n",
      "Mean negativities for all classes: [0.16291645856199613, 0.31330301161008883, 0.26361061526256824]\n",
      "Mean entropies for all classes: [2.4547125368304866e-15, 2.3346431300853688e-15, 2.7281101768088238e-15]\n",
      "              precision    recall  f1-score   support\n",
      "\n",
      "           0       0.83      1.00      0.91         5\n",
      "           1       0.50      0.40      0.44         5\n",
      "           2       0.60      0.60      0.60         5\n",
      "\n",
      "    accuracy                           0.67        15\n",
      "   macro avg       0.64      0.67      0.65        15\n",
      "weighted avg       0.64      0.67      0.65        15\n",
      "\n",
      "-------------------------------------------------------------------------------------------------------------------\n"
     ]
    },
    {
     "name": "stderr",
     "output_type": "stream",
     "text": [
      "[Parallel(n_jobs=1)]: Done   3 out of   3 | elapsed:   57.1s finished\n",
      "[Parallel(n_jobs=1)]: Using backend SequentialBackend with 1 concurrent workers.\n"
     ]
    },
    {
     "name": "stdout",
     "output_type": "stream",
     "text": [
      "K-Fold #3\n",
      "Mean negativities for all classes: [0.22260743517517442, 0.3192900613702481, 0.21934223015234622]\n",
      "Mean entropies for all classes: [3.7463410486672714e-15, 2.4345821864386356e-15, 2.9506200766725518e-15]\n",
      "              precision    recall  f1-score   support\n",
      "\n",
      "           0       0.83      1.00      0.91         5\n",
      "           1       1.00      0.60      0.75         5\n",
      "           2       0.83      1.00      0.91         5\n",
      "\n",
      "    accuracy                           0.87        15\n",
      "   macro avg       0.89      0.87      0.86        15\n",
      "weighted avg       0.89      0.87      0.86        15\n",
      "\n",
      "-------------------------------------------------------------------------------------------------------------------\n"
     ]
    },
    {
     "name": "stderr",
     "output_type": "stream",
     "text": [
      "[Parallel(n_jobs=1)]: Done   3 out of   3 | elapsed:   56.7s finished\n",
      "[Parallel(n_jobs=1)]: Using backend SequentialBackend with 1 concurrent workers.\n"
     ]
    },
    {
     "name": "stdout",
     "output_type": "stream",
     "text": [
      "K-Fold #4\n",
      "Mean negativities for all classes: [0.20657599966499435, 0.3385933058709919, 0.22307417277491112]\n",
      "Mean entropies for all classes: [2.4772655306467907e-15, 2.4397470769064993e-15, 3.2075930683241514e-15]\n",
      "              precision    recall  f1-score   support\n",
      "\n",
      "           0       0.83      1.00      0.91         5\n",
      "           1       0.00      0.00      0.00         5\n",
      "           2       0.50      0.80      0.62         5\n",
      "\n",
      "    accuracy                           0.60        15\n",
      "   macro avg       0.44      0.60      0.51        15\n",
      "weighted avg       0.44      0.60      0.51        15\n",
      "\n",
      "-------------------------------------------------------------------------------------------------------------------\n"
     ]
    },
    {
     "name": "stderr",
     "output_type": "stream",
     "text": [
      "[Parallel(n_jobs=1)]: Done   3 out of   3 | elapsed:   57.3s finished\n",
      "[Parallel(n_jobs=1)]: Using backend SequentialBackend with 1 concurrent workers.\n"
     ]
    },
    {
     "name": "stdout",
     "output_type": "stream",
     "text": [
      "K-Fold #5\n",
      "Mean negativities for all classes: [0.1650482231489481, 0.3178742746793235, 0.25998134794801775]\n",
      "Mean entropies for all classes: [3.032687370783545e-15, 2.6015066483584197e-15, 2.797752310988094e-15]\n",
      "              precision    recall  f1-score   support\n",
      "\n",
      "           0       0.83      1.00      0.91         5\n",
      "           1       0.40      0.40      0.40         5\n",
      "           2       0.50      0.40      0.44         5\n",
      "\n",
      "    accuracy                           0.60        15\n",
      "   macro avg       0.58      0.60      0.58        15\n",
      "weighted avg       0.58      0.60      0.58        15\n",
      "\n",
      "-------------------------------------------------------------------------------------------------------------------\n"
     ]
    },
    {
     "name": "stderr",
     "output_type": "stream",
     "text": [
      "[Parallel(n_jobs=1)]: Done   3 out of   3 | elapsed:   56.9s finished\n",
      "[Parallel(n_jobs=1)]: Using backend SequentialBackend with 1 concurrent workers.\n"
     ]
    },
    {
     "name": "stdout",
     "output_type": "stream",
     "text": [
      "K-Fold #6\n",
      "Mean negativities for all classes: [0.2139358168916999, 0.34447582932926984, 0.1818638426539681]\n",
      "Mean entropies for all classes: [4.171328887200708e-15, 2.3108056375404896e-15, 2.3411981392390023e-15]\n",
      "              precision    recall  f1-score   support\n",
      "\n",
      "           0       1.00      1.00      1.00         5\n",
      "           1       0.75      0.60      0.67         5\n",
      "           2       0.67      0.80      0.73         5\n",
      "\n",
      "    accuracy                           0.80        15\n",
      "   macro avg       0.81      0.80      0.80        15\n",
      "weighted avg       0.81      0.80      0.80        15\n",
      "\n",
      "-------------------------------------------------------------------------------------------------------------------\n"
     ]
    },
    {
     "name": "stderr",
     "output_type": "stream",
     "text": [
      "[Parallel(n_jobs=1)]: Done   3 out of   3 | elapsed:   56.7s finished\n",
      "[Parallel(n_jobs=1)]: Using backend SequentialBackend with 1 concurrent workers.\n"
     ]
    },
    {
     "name": "stdout",
     "output_type": "stream",
     "text": [
      "K-Fold #7\n",
      "Mean negativities for all classes: [0.1871036764131637, 0.30021405911028937, 0.2556124155809666]\n",
      "Mean entropies for all classes: [3.3190629166075524e-15, 2.2129245265841495e-15, 2.775252554069955e-15]\n",
      "              precision    recall  f1-score   support\n",
      "\n",
      "           0       0.83      1.00      0.91         5\n",
      "           1       0.50      0.40      0.44         5\n",
      "           2       0.60      0.60      0.60         5\n",
      "\n",
      "    accuracy                           0.67        15\n",
      "   macro avg       0.64      0.67      0.65        15\n",
      "weighted avg       0.64      0.67      0.65        15\n",
      "\n",
      "-------------------------------------------------------------------------------------------------------------------\n"
     ]
    },
    {
     "name": "stderr",
     "output_type": "stream",
     "text": [
      "[Parallel(n_jobs=1)]: Done   3 out of   3 | elapsed:   58.6s finished\n",
      "[Parallel(n_jobs=1)]: Using backend SequentialBackend with 1 concurrent workers.\n"
     ]
    },
    {
     "name": "stdout",
     "output_type": "stream",
     "text": [
      "K-Fold #8\n",
      "Mean negativities for all classes: [0.21920853643939264, 0.12234602882041053, 0.20300501419410874]\n",
      "Mean entropies for all classes: [3.184020618518732e-15, 3.597944896524925e-15, 3.3269994946299106e-15]\n",
      "              precision    recall  f1-score   support\n",
      "\n",
      "           0       1.00      1.00      1.00         5\n",
      "           1       1.00      1.00      1.00         5\n",
      "           2       1.00      1.00      1.00         5\n",
      "\n",
      "    accuracy                           1.00        15\n",
      "   macro avg       1.00      1.00      1.00        15\n",
      "weighted avg       1.00      1.00      1.00        15\n",
      "\n",
      "-------------------------------------------------------------------------------------------------------------------\n"
     ]
    },
    {
     "name": "stderr",
     "output_type": "stream",
     "text": [
      "[Parallel(n_jobs=1)]: Done   3 out of   3 | elapsed:   57.1s finished\n",
      "[Parallel(n_jobs=1)]: Using backend SequentialBackend with 1 concurrent workers.\n"
     ]
    },
    {
     "name": "stdout",
     "output_type": "stream",
     "text": [
      "K-Fold #9\n",
      "Mean negativities for all classes: [0.19403451434043942, 0.33594588606513237, 0.1949394155670907]\n",
      "Mean entropies for all classes: [3.2986565743398533e-15, 3.1875535678837544e-15, 2.7077025976682945e-15]\n",
      "              precision    recall  f1-score   support\n",
      "\n",
      "           0       1.00      1.00      1.00         5\n",
      "           1       0.75      0.60      0.67         5\n",
      "           2       0.67      0.80      0.73         5\n",
      "\n",
      "    accuracy                           0.80        15\n",
      "   macro avg       0.81      0.80      0.80        15\n",
      "weighted avg       0.81      0.80      0.80        15\n",
      "\n",
      "-------------------------------------------------------------------------------------------------------------------\n",
      "AVG: Scores = 0.76 F1-Scores = 0.741025086025086 Negativity = [0.26164774101666083, 0.24824439303150023, 0.24661002847821775] Entropy = [2.5394863384014133e-15, 2.666867884781881e-15, 2.5058219479082263e-15]\n"
     ]
    },
    {
     "name": "stderr",
     "output_type": "stream",
     "text": [
      "[Parallel(n_jobs=1)]: Done   3 out of   3 | elapsed:  1.3min finished\n",
      "[Parallel(n_jobs=1)]: Using backend SequentialBackend with 1 concurrent workers.\n"
     ]
    },
    {
     "name": "stdout",
     "output_type": "stream",
     "text": [
      "K-Fold #0\n",
      "Mean negativities for all classes: [0.21986224862418968, 0.32736621779414604, 0.23771475663164676]\n",
      "Mean entropies for all classes: [2.4185894599122564e-15, 2.0727794949744506e-15, 3.1270900603175324e-15]\n",
      "              precision    recall  f1-score   support\n",
      "\n",
      "           0       0.83      1.00      0.91         5\n",
      "           1       0.75      0.60      0.67         5\n",
      "           2       0.80      0.80      0.80         5\n",
      "\n",
      "    accuracy                           0.80        15\n",
      "   macro avg       0.79      0.80      0.79        15\n",
      "weighted avg       0.79      0.80      0.79        15\n",
      "\n",
      "-------------------------------------------------------------------------------------------------------------------\n"
     ]
    },
    {
     "name": "stderr",
     "output_type": "stream",
     "text": [
      "[Parallel(n_jobs=1)]: Done   3 out of   3 | elapsed:  1.3min finished\n",
      "[Parallel(n_jobs=1)]: Using backend SequentialBackend with 1 concurrent workers.\n"
     ]
    },
    {
     "name": "stdout",
     "output_type": "stream",
     "text": [
      "K-Fold #1\n",
      "Mean negativities for all classes: [0.18049069817723726, 0.34285567633780395, 0.2213868045794595]\n",
      "Mean entropies for all classes: [2.7582561494856594e-15, 2.347032788542941e-15, 2.8953147163170428e-15]\n",
      "              precision    recall  f1-score   support\n",
      "\n",
      "           0       0.83      1.00      0.91         5\n",
      "           1       1.00      0.40      0.57         5\n",
      "           2       0.71      1.00      0.83         5\n",
      "\n",
      "    accuracy                           0.80        15\n",
      "   macro avg       0.85      0.80      0.77        15\n",
      "weighted avg       0.85      0.80      0.77        15\n",
      "\n",
      "-------------------------------------------------------------------------------------------------------------------\n"
     ]
    },
    {
     "name": "stderr",
     "output_type": "stream",
     "text": [
      "[Parallel(n_jobs=1)]: Done   3 out of   3 | elapsed:  1.3min finished\n",
      "[Parallel(n_jobs=1)]: Using backend SequentialBackend with 1 concurrent workers.\n"
     ]
    },
    {
     "name": "stdout",
     "output_type": "stream",
     "text": [
      "K-Fold #2\n",
      "Mean negativities for all classes: [0.16291645856199613, 0.31330301161008883, 0.26361061526256824]\n",
      "Mean entropies for all classes: [2.4547125368304866e-15, 2.3346431300853688e-15, 2.7281101768088238e-15]\n",
      "              precision    recall  f1-score   support\n",
      "\n",
      "           0       0.83      1.00      0.91         5\n",
      "           1       0.50      0.40      0.44         5\n",
      "           2       0.60      0.60      0.60         5\n",
      "\n",
      "    accuracy                           0.67        15\n",
      "   macro avg       0.64      0.67      0.65        15\n",
      "weighted avg       0.64      0.67      0.65        15\n",
      "\n",
      "-------------------------------------------------------------------------------------------------------------------\n"
     ]
    },
    {
     "name": "stderr",
     "output_type": "stream",
     "text": [
      "[Parallel(n_jobs=1)]: Done   3 out of   3 | elapsed:  1.3min finished\n",
      "[Parallel(n_jobs=1)]: Using backend SequentialBackend with 1 concurrent workers.\n"
     ]
    },
    {
     "name": "stdout",
     "output_type": "stream",
     "text": [
      "K-Fold #3\n",
      "Mean negativities for all classes: [0.22260743517517442, 0.3192900613702481, 0.21934223015234622]\n",
      "Mean entropies for all classes: [3.7463410486672714e-15, 2.4345821864386356e-15, 2.9506200766725518e-15]\n",
      "              precision    recall  f1-score   support\n",
      "\n",
      "           0       0.83      1.00      0.91         5\n",
      "           1       1.00      0.60      0.75         5\n",
      "           2       0.83      1.00      0.91         5\n",
      "\n",
      "    accuracy                           0.87        15\n",
      "   macro avg       0.89      0.87      0.86        15\n",
      "weighted avg       0.89      0.87      0.86        15\n",
      "\n",
      "-------------------------------------------------------------------------------------------------------------------\n"
     ]
    },
    {
     "name": "stderr",
     "output_type": "stream",
     "text": [
      "[Parallel(n_jobs=1)]: Done   3 out of   3 | elapsed:  1.3min finished\n",
      "[Parallel(n_jobs=1)]: Using backend SequentialBackend with 1 concurrent workers.\n"
     ]
    },
    {
     "name": "stdout",
     "output_type": "stream",
     "text": [
      "K-Fold #4\n",
      "Mean negativities for all classes: [0.20657599966499435, 0.3385933058709919, 0.22307417277491112]\n",
      "Mean entropies for all classes: [2.4772655306467907e-15, 2.4397470769064993e-15, 3.2075930683241514e-15]\n",
      "              precision    recall  f1-score   support\n",
      "\n",
      "           0       0.83      1.00      0.91         5\n",
      "           1       0.00      0.00      0.00         5\n",
      "           2       0.50      0.80      0.62         5\n",
      "\n",
      "    accuracy                           0.60        15\n",
      "   macro avg       0.44      0.60      0.51        15\n",
      "weighted avg       0.44      0.60      0.51        15\n",
      "\n",
      "-------------------------------------------------------------------------------------------------------------------\n"
     ]
    },
    {
     "name": "stderr",
     "output_type": "stream",
     "text": [
      "[Parallel(n_jobs=1)]: Done   3 out of   3 | elapsed:  1.3min finished\n",
      "[Parallel(n_jobs=1)]: Using backend SequentialBackend with 1 concurrent workers.\n"
     ]
    },
    {
     "name": "stdout",
     "output_type": "stream",
     "text": [
      "K-Fold #5\n",
      "Mean negativities for all classes: [0.1650482231489481, 0.3178742746793235, 0.25998134794801775]\n",
      "Mean entropies for all classes: [3.032687370783545e-15, 2.6015066483584197e-15, 2.797752310988094e-15]\n",
      "              precision    recall  f1-score   support\n",
      "\n",
      "           0       0.83      1.00      0.91         5\n",
      "           1       0.40      0.40      0.40         5\n",
      "           2       0.50      0.40      0.44         5\n",
      "\n",
      "    accuracy                           0.60        15\n",
      "   macro avg       0.58      0.60      0.58        15\n",
      "weighted avg       0.58      0.60      0.58        15\n",
      "\n",
      "-------------------------------------------------------------------------------------------------------------------\n"
     ]
    },
    {
     "name": "stderr",
     "output_type": "stream",
     "text": [
      "[Parallel(n_jobs=1)]: Done   3 out of   3 | elapsed:  1.3min finished\n",
      "[Parallel(n_jobs=1)]: Using backend SequentialBackend with 1 concurrent workers.\n"
     ]
    },
    {
     "name": "stdout",
     "output_type": "stream",
     "text": [
      "K-Fold #6\n",
      "Mean negativities for all classes: [0.2139358168916999, 0.34447582932926984, 0.1818638426539681]\n",
      "Mean entropies for all classes: [4.171328887200708e-15, 2.3108056375404896e-15, 2.3411981392390023e-15]\n",
      "              precision    recall  f1-score   support\n",
      "\n",
      "           0       1.00      1.00      1.00         5\n",
      "           1       0.75      0.60      0.67         5\n",
      "           2       0.67      0.80      0.73         5\n",
      "\n",
      "    accuracy                           0.80        15\n",
      "   macro avg       0.81      0.80      0.80        15\n",
      "weighted avg       0.81      0.80      0.80        15\n",
      "\n",
      "-------------------------------------------------------------------------------------------------------------------\n"
     ]
    },
    {
     "name": "stderr",
     "output_type": "stream",
     "text": [
      "[Parallel(n_jobs=1)]: Done   3 out of   3 | elapsed:  1.3min finished\n",
      "[Parallel(n_jobs=1)]: Using backend SequentialBackend with 1 concurrent workers.\n"
     ]
    },
    {
     "name": "stdout",
     "output_type": "stream",
     "text": [
      "K-Fold #7\n",
      "Mean negativities for all classes: [0.1871036764131637, 0.30021405911028937, 0.2556124155809666]\n",
      "Mean entropies for all classes: [3.3190629166075524e-15, 2.2129245265841495e-15, 2.775252554069955e-15]\n",
      "              precision    recall  f1-score   support\n",
      "\n",
      "           0       0.83      1.00      0.91         5\n",
      "           1       0.50      0.40      0.44         5\n",
      "           2       0.60      0.60      0.60         5\n",
      "\n",
      "    accuracy                           0.67        15\n",
      "   macro avg       0.64      0.67      0.65        15\n",
      "weighted avg       0.64      0.67      0.65        15\n",
      "\n",
      "-------------------------------------------------------------------------------------------------------------------\n"
     ]
    },
    {
     "name": "stderr",
     "output_type": "stream",
     "text": [
      "[Parallel(n_jobs=1)]: Done   3 out of   3 | elapsed:  1.2min finished\n",
      "[Parallel(n_jobs=1)]: Using backend SequentialBackend with 1 concurrent workers.\n"
     ]
    },
    {
     "name": "stdout",
     "output_type": "stream",
     "text": [
      "K-Fold #8\n",
      "Mean negativities for all classes: [0.21920853643939264, 0.12234602882041053, 0.20300501419410874]\n",
      "Mean entropies for all classes: [3.184020618518732e-15, 3.597944896524925e-15, 3.3269994946299106e-15]\n",
      "              precision    recall  f1-score   support\n",
      "\n",
      "           0       1.00      1.00      1.00         5\n",
      "           1       1.00      1.00      1.00         5\n",
      "           2       1.00      1.00      1.00         5\n",
      "\n",
      "    accuracy                           1.00        15\n",
      "   macro avg       1.00      1.00      1.00        15\n",
      "weighted avg       1.00      1.00      1.00        15\n",
      "\n",
      "-------------------------------------------------------------------------------------------------------------------\n"
     ]
    },
    {
     "name": "stderr",
     "output_type": "stream",
     "text": [
      "[Parallel(n_jobs=1)]: Done   3 out of   3 | elapsed:  1.3min finished\n",
      "[Parallel(n_jobs=1)]: Using backend SequentialBackend with 1 concurrent workers.\n"
     ]
    },
    {
     "name": "stdout",
     "output_type": "stream",
     "text": [
      "K-Fold #9\n",
      "Mean negativities for all classes: [0.19403451434043942, 0.33594588606513237, 0.1949394155670907]\n",
      "Mean entropies for all classes: [3.2986565743398533e-15, 3.1875535678837544e-15, 2.7077025976682945e-15]\n",
      "              precision    recall  f1-score   support\n",
      "\n",
      "           0       1.00      1.00      1.00         5\n",
      "           1       0.75      0.60      0.67         5\n",
      "           2       0.67      0.80      0.73         5\n",
      "\n",
      "    accuracy                           0.80        15\n",
      "   macro avg       0.81      0.80      0.80        15\n",
      "weighted avg       0.81      0.80      0.80        15\n",
      "\n",
      "-------------------------------------------------------------------------------------------------------------------\n",
      "AVG: Scores = 0.76 F1-Scores = 0.741025086025086 Negativity = [0.26164774101666083, 0.24824439303150023, 0.24661002847821775] Entropy = [2.5394863384014133e-15, 2.666867884781881e-15, 2.5058219479082263e-15]\n"
     ]
    },
    {
     "name": "stderr",
     "output_type": "stream",
     "text": [
      "[Parallel(n_jobs=1)]: Done   3 out of   3 | elapsed:  1.6min finished\n",
      "[Parallel(n_jobs=1)]: Using backend SequentialBackend with 1 concurrent workers.\n"
     ]
    },
    {
     "name": "stdout",
     "output_type": "stream",
     "text": [
      "K-Fold #0\n",
      "Mean negativities for all classes: [0.21986224862418968, 0.32736621779414604, 0.23771475663164676]\n",
      "Mean entropies for all classes: [2.4185894599122564e-15, 2.0727794949744506e-15, 3.1270900603175324e-15]\n",
      "              precision    recall  f1-score   support\n",
      "\n",
      "           0       0.83      1.00      0.91         5\n",
      "           1       0.75      0.60      0.67         5\n",
      "           2       0.80      0.80      0.80         5\n",
      "\n",
      "    accuracy                           0.80        15\n",
      "   macro avg       0.79      0.80      0.79        15\n",
      "weighted avg       0.79      0.80      0.79        15\n",
      "\n",
      "-------------------------------------------------------------------------------------------------------------------\n"
     ]
    },
    {
     "name": "stderr",
     "output_type": "stream",
     "text": [
      "[Parallel(n_jobs=1)]: Done   3 out of   3 | elapsed:  1.6min finished\n",
      "[Parallel(n_jobs=1)]: Using backend SequentialBackend with 1 concurrent workers.\n"
     ]
    },
    {
     "name": "stdout",
     "output_type": "stream",
     "text": [
      "K-Fold #1\n",
      "Mean negativities for all classes: [0.18049069817723726, 0.34285567633780395, 0.2213868045794595]\n",
      "Mean entropies for all classes: [2.7582561494856594e-15, 2.347032788542941e-15, 2.8953147163170428e-15]\n",
      "              precision    recall  f1-score   support\n",
      "\n",
      "           0       0.83      1.00      0.91         5\n",
      "           1       1.00      0.40      0.57         5\n",
      "           2       0.71      1.00      0.83         5\n",
      "\n",
      "    accuracy                           0.80        15\n",
      "   macro avg       0.85      0.80      0.77        15\n",
      "weighted avg       0.85      0.80      0.77        15\n",
      "\n",
      "-------------------------------------------------------------------------------------------------------------------\n"
     ]
    },
    {
     "name": "stderr",
     "output_type": "stream",
     "text": [
      "[Parallel(n_jobs=1)]: Done   3 out of   3 | elapsed:  1.6min finished\n",
      "[Parallel(n_jobs=1)]: Using backend SequentialBackend with 1 concurrent workers.\n"
     ]
    },
    {
     "name": "stdout",
     "output_type": "stream",
     "text": [
      "K-Fold #2\n",
      "Mean negativities for all classes: [0.16291645856199613, 0.31330301161008883, 0.26361061526256824]\n",
      "Mean entropies for all classes: [2.4547125368304866e-15, 2.3346431300853688e-15, 2.7281101768088238e-15]\n",
      "              precision    recall  f1-score   support\n",
      "\n",
      "           0       0.83      1.00      0.91         5\n",
      "           1       0.50      0.40      0.44         5\n",
      "           2       0.60      0.60      0.60         5\n",
      "\n",
      "    accuracy                           0.67        15\n",
      "   macro avg       0.64      0.67      0.65        15\n",
      "weighted avg       0.64      0.67      0.65        15\n",
      "\n",
      "-------------------------------------------------------------------------------------------------------------------\n"
     ]
    },
    {
     "name": "stderr",
     "output_type": "stream",
     "text": [
      "[Parallel(n_jobs=1)]: Done   3 out of   3 | elapsed:  1.6min finished\n",
      "[Parallel(n_jobs=1)]: Using backend SequentialBackend with 1 concurrent workers.\n"
     ]
    },
    {
     "name": "stdout",
     "output_type": "stream",
     "text": [
      "K-Fold #3\n",
      "Mean negativities for all classes: [0.22260743517517442, 0.3192900613702481, 0.21934223015234622]\n",
      "Mean entropies for all classes: [3.7463410486672714e-15, 2.4345821864386356e-15, 2.9506200766725518e-15]\n",
      "              precision    recall  f1-score   support\n",
      "\n",
      "           0       0.83      1.00      0.91         5\n",
      "           1       1.00      0.60      0.75         5\n",
      "           2       0.83      1.00      0.91         5\n",
      "\n",
      "    accuracy                           0.87        15\n",
      "   macro avg       0.89      0.87      0.86        15\n",
      "weighted avg       0.89      0.87      0.86        15\n",
      "\n",
      "-------------------------------------------------------------------------------------------------------------------\n"
     ]
    },
    {
     "name": "stderr",
     "output_type": "stream",
     "text": [
      "[Parallel(n_jobs=1)]: Done   3 out of   3 | elapsed:  1.6min finished\n",
      "[Parallel(n_jobs=1)]: Using backend SequentialBackend with 1 concurrent workers.\n"
     ]
    },
    {
     "name": "stdout",
     "output_type": "stream",
     "text": [
      "K-Fold #4\n",
      "Mean negativities for all classes: [0.20657599966499435, 0.3385933058709919, 0.22307417277491112]\n",
      "Mean entropies for all classes: [2.4772655306467907e-15, 2.4397470769064993e-15, 3.2075930683241514e-15]\n",
      "              precision    recall  f1-score   support\n",
      "\n",
      "           0       0.83      1.00      0.91         5\n",
      "           1       0.00      0.00      0.00         5\n",
      "           2       0.50      0.80      0.62         5\n",
      "\n",
      "    accuracy                           0.60        15\n",
      "   macro avg       0.44      0.60      0.51        15\n",
      "weighted avg       0.44      0.60      0.51        15\n",
      "\n",
      "-------------------------------------------------------------------------------------------------------------------\n"
     ]
    },
    {
     "name": "stderr",
     "output_type": "stream",
     "text": [
      "[Parallel(n_jobs=1)]: Done   3 out of   3 | elapsed:  1.6min finished\n",
      "[Parallel(n_jobs=1)]: Using backend SequentialBackend with 1 concurrent workers.\n"
     ]
    },
    {
     "name": "stdout",
     "output_type": "stream",
     "text": [
      "K-Fold #5\n",
      "Mean negativities for all classes: [0.1650482231489481, 0.3178742746793235, 0.25998134794801775]\n",
      "Mean entropies for all classes: [3.032687370783545e-15, 2.6015066483584197e-15, 2.797752310988094e-15]\n",
      "              precision    recall  f1-score   support\n",
      "\n",
      "           0       0.83      1.00      0.91         5\n",
      "           1       0.40      0.40      0.40         5\n",
      "           2       0.50      0.40      0.44         5\n",
      "\n",
      "    accuracy                           0.60        15\n",
      "   macro avg       0.58      0.60      0.58        15\n",
      "weighted avg       0.58      0.60      0.58        15\n",
      "\n",
      "-------------------------------------------------------------------------------------------------------------------\n"
     ]
    },
    {
     "name": "stderr",
     "output_type": "stream",
     "text": [
      "[Parallel(n_jobs=1)]: Done   3 out of   3 | elapsed:  1.6min finished\n",
      "[Parallel(n_jobs=1)]: Using backend SequentialBackend with 1 concurrent workers.\n"
     ]
    },
    {
     "name": "stdout",
     "output_type": "stream",
     "text": [
      "K-Fold #6\n",
      "Mean negativities for all classes: [0.2139358168916999, 0.34447582932926984, 0.1818638426539681]\n",
      "Mean entropies for all classes: [4.171328887200708e-15, 2.3108056375404896e-15, 2.3411981392390023e-15]\n",
      "              precision    recall  f1-score   support\n",
      "\n",
      "           0       1.00      1.00      1.00         5\n",
      "           1       0.75      0.60      0.67         5\n",
      "           2       0.67      0.80      0.73         5\n",
      "\n",
      "    accuracy                           0.80        15\n",
      "   macro avg       0.81      0.80      0.80        15\n",
      "weighted avg       0.81      0.80      0.80        15\n",
      "\n",
      "-------------------------------------------------------------------------------------------------------------------\n"
     ]
    },
    {
     "name": "stderr",
     "output_type": "stream",
     "text": [
      "[Parallel(n_jobs=1)]: Done   3 out of   3 | elapsed:  1.6min finished\n",
      "[Parallel(n_jobs=1)]: Using backend SequentialBackend with 1 concurrent workers.\n"
     ]
    },
    {
     "name": "stdout",
     "output_type": "stream",
     "text": [
      "K-Fold #7\n",
      "Mean negativities for all classes: [0.1871036764131637, 0.30021405911028937, 0.2556124155809666]\n",
      "Mean entropies for all classes: [3.3190629166075524e-15, 2.2129245265841495e-15, 2.775252554069955e-15]\n",
      "              precision    recall  f1-score   support\n",
      "\n",
      "           0       0.83      1.00      0.91         5\n",
      "           1       0.50      0.40      0.44         5\n",
      "           2       0.60      0.60      0.60         5\n",
      "\n",
      "    accuracy                           0.67        15\n",
      "   macro avg       0.64      0.67      0.65        15\n",
      "weighted avg       0.64      0.67      0.65        15\n",
      "\n",
      "-------------------------------------------------------------------------------------------------------------------\n"
     ]
    },
    {
     "name": "stderr",
     "output_type": "stream",
     "text": [
      "[Parallel(n_jobs=1)]: Done   3 out of   3 | elapsed:  1.6min finished\n",
      "[Parallel(n_jobs=1)]: Using backend SequentialBackend with 1 concurrent workers.\n"
     ]
    },
    {
     "name": "stdout",
     "output_type": "stream",
     "text": [
      "K-Fold #8\n",
      "Mean negativities for all classes: [0.21920853643939264, 0.12234602882041053, 0.20300501419410874]\n",
      "Mean entropies for all classes: [3.184020618518732e-15, 3.597944896524925e-15, 3.3269994946299106e-15]\n",
      "              precision    recall  f1-score   support\n",
      "\n",
      "           0       1.00      1.00      1.00         5\n",
      "           1       1.00      1.00      1.00         5\n",
      "           2       1.00      1.00      1.00         5\n",
      "\n",
      "    accuracy                           1.00        15\n",
      "   macro avg       1.00      1.00      1.00        15\n",
      "weighted avg       1.00      1.00      1.00        15\n",
      "\n",
      "-------------------------------------------------------------------------------------------------------------------\n"
     ]
    },
    {
     "name": "stderr",
     "output_type": "stream",
     "text": [
      "[Parallel(n_jobs=1)]: Done   3 out of   3 | elapsed:  1.6min finished\n",
      "[Parallel(n_jobs=1)]: Using backend SequentialBackend with 1 concurrent workers.\n"
     ]
    },
    {
     "name": "stdout",
     "output_type": "stream",
     "text": [
      "K-Fold #9\n",
      "Mean negativities for all classes: [0.19403451434043942, 0.33594588606513237, 0.1949394155670907]\n",
      "Mean entropies for all classes: [3.2986565743398533e-15, 3.1875535678837544e-15, 2.7077025976682945e-15]\n",
      "              precision    recall  f1-score   support\n",
      "\n",
      "           0       1.00      1.00      1.00         5\n",
      "           1       0.75      0.60      0.67         5\n",
      "           2       0.67      0.80      0.73         5\n",
      "\n",
      "    accuracy                           0.80        15\n",
      "   macro avg       0.81      0.80      0.80        15\n",
      "weighted avg       0.81      0.80      0.80        15\n",
      "\n",
      "-------------------------------------------------------------------------------------------------------------------\n",
      "AVG: Scores = 0.76 F1-Scores = 0.741025086025086 Negativity = [0.26164774101666083, 0.24824439303150023, 0.24661002847821775] Entropy = [2.5394863384014133e-15, 2.666867884781881e-15, 2.5058219479082263e-15]\n"
     ]
    },
    {
     "name": "stderr",
     "output_type": "stream",
     "text": [
      "[Parallel(n_jobs=1)]: Done   3 out of   3 | elapsed:  1.9min finished\n",
      "[Parallel(n_jobs=1)]: Using backend SequentialBackend with 1 concurrent workers.\n"
     ]
    },
    {
     "name": "stdout",
     "output_type": "stream",
     "text": [
      "K-Fold #0\n",
      "Mean negativities for all classes: [0.21986224862418968, 0.32736621779414604, 0.23771475663164676]\n",
      "Mean entropies for all classes: [2.4185894599122564e-15, 2.0727794949744506e-15, 3.1270900603175324e-15]\n",
      "              precision    recall  f1-score   support\n",
      "\n",
      "           0       0.83      1.00      0.91         5\n",
      "           1       0.75      0.60      0.67         5\n",
      "           2       0.80      0.80      0.80         5\n",
      "\n",
      "    accuracy                           0.80        15\n",
      "   macro avg       0.79      0.80      0.79        15\n",
      "weighted avg       0.79      0.80      0.79        15\n",
      "\n",
      "-------------------------------------------------------------------------------------------------------------------\n"
     ]
    },
    {
     "name": "stderr",
     "output_type": "stream",
     "text": [
      "[Parallel(n_jobs=1)]: Done   3 out of   3 | elapsed:  1.9min finished\n",
      "[Parallel(n_jobs=1)]: Using backend SequentialBackend with 1 concurrent workers.\n"
     ]
    },
    {
     "name": "stdout",
     "output_type": "stream",
     "text": [
      "K-Fold #1\n",
      "Mean negativities for all classes: [0.18049069817723726, 0.34285567633780395, 0.2213868045794595]\n",
      "Mean entropies for all classes: [2.7582561494856594e-15, 2.347032788542941e-15, 2.8953147163170428e-15]\n",
      "              precision    recall  f1-score   support\n",
      "\n",
      "           0       0.83      1.00      0.91         5\n",
      "           1       1.00      0.40      0.57         5\n",
      "           2       0.71      1.00      0.83         5\n",
      "\n",
      "    accuracy                           0.80        15\n",
      "   macro avg       0.85      0.80      0.77        15\n",
      "weighted avg       0.85      0.80      0.77        15\n",
      "\n",
      "-------------------------------------------------------------------------------------------------------------------\n"
     ]
    },
    {
     "name": "stderr",
     "output_type": "stream",
     "text": [
      "[Parallel(n_jobs=1)]: Done   3 out of   3 | elapsed:  1.9min finished\n",
      "[Parallel(n_jobs=1)]: Using backend SequentialBackend with 1 concurrent workers.\n"
     ]
    },
    {
     "name": "stdout",
     "output_type": "stream",
     "text": [
      "K-Fold #2\n",
      "Mean negativities for all classes: [0.16291645856199613, 0.31330301161008883, 0.26361061526256824]\n",
      "Mean entropies for all classes: [2.4547125368304866e-15, 2.3346431300853688e-15, 2.7281101768088238e-15]\n",
      "              precision    recall  f1-score   support\n",
      "\n",
      "           0       0.83      1.00      0.91         5\n",
      "           1       0.50      0.40      0.44         5\n",
      "           2       0.60      0.60      0.60         5\n",
      "\n",
      "    accuracy                           0.67        15\n",
      "   macro avg       0.64      0.67      0.65        15\n",
      "weighted avg       0.64      0.67      0.65        15\n",
      "\n",
      "-------------------------------------------------------------------------------------------------------------------\n"
     ]
    },
    {
     "name": "stderr",
     "output_type": "stream",
     "text": [
      "[Parallel(n_jobs=1)]: Done   3 out of   3 | elapsed:  1.9min finished\n",
      "[Parallel(n_jobs=1)]: Using backend SequentialBackend with 1 concurrent workers.\n"
     ]
    },
    {
     "name": "stdout",
     "output_type": "stream",
     "text": [
      "K-Fold #3\n",
      "Mean negativities for all classes: [0.22260743517517442, 0.3192900613702481, 0.21934223015234622]\n",
      "Mean entropies for all classes: [3.7463410486672714e-15, 2.4345821864386356e-15, 2.9506200766725518e-15]\n",
      "              precision    recall  f1-score   support\n",
      "\n",
      "           0       0.83      1.00      0.91         5\n",
      "           1       1.00      0.60      0.75         5\n",
      "           2       0.83      1.00      0.91         5\n",
      "\n",
      "    accuracy                           0.87        15\n",
      "   macro avg       0.89      0.87      0.86        15\n",
      "weighted avg       0.89      0.87      0.86        15\n",
      "\n",
      "-------------------------------------------------------------------------------------------------------------------\n"
     ]
    },
    {
     "name": "stderr",
     "output_type": "stream",
     "text": [
      "[Parallel(n_jobs=1)]: Done   3 out of   3 | elapsed:  1.9min finished\n",
      "[Parallel(n_jobs=1)]: Using backend SequentialBackend with 1 concurrent workers.\n"
     ]
    },
    {
     "name": "stdout",
     "output_type": "stream",
     "text": [
      "K-Fold #4\n",
      "Mean negativities for all classes: [0.20657599966499435, 0.3385933058709919, 0.22307417277491112]\n",
      "Mean entropies for all classes: [2.4772655306467907e-15, 2.4397470769064993e-15, 3.2075930683241514e-15]\n",
      "              precision    recall  f1-score   support\n",
      "\n",
      "           0       0.83      1.00      0.91         5\n",
      "           1       0.00      0.00      0.00         5\n",
      "           2       0.50      0.80      0.62         5\n",
      "\n",
      "    accuracy                           0.60        15\n",
      "   macro avg       0.44      0.60      0.51        15\n",
      "weighted avg       0.44      0.60      0.51        15\n",
      "\n",
      "-------------------------------------------------------------------------------------------------------------------\n"
     ]
    },
    {
     "name": "stderr",
     "output_type": "stream",
     "text": [
      "[Parallel(n_jobs=1)]: Done   3 out of   3 | elapsed:  1.9min finished\n",
      "[Parallel(n_jobs=1)]: Using backend SequentialBackend with 1 concurrent workers.\n"
     ]
    },
    {
     "name": "stdout",
     "output_type": "stream",
     "text": [
      "K-Fold #5\n",
      "Mean negativities for all classes: [0.1650482231489481, 0.3178742746793235, 0.25998134794801775]\n",
      "Mean entropies for all classes: [3.032687370783545e-15, 2.6015066483584197e-15, 2.797752310988094e-15]\n",
      "              precision    recall  f1-score   support\n",
      "\n",
      "           0       0.83      1.00      0.91         5\n",
      "           1       0.40      0.40      0.40         5\n",
      "           2       0.50      0.40      0.44         5\n",
      "\n",
      "    accuracy                           0.60        15\n",
      "   macro avg       0.58      0.60      0.58        15\n",
      "weighted avg       0.58      0.60      0.58        15\n",
      "\n",
      "-------------------------------------------------------------------------------------------------------------------\n"
     ]
    },
    {
     "name": "stderr",
     "output_type": "stream",
     "text": [
      "[Parallel(n_jobs=1)]: Done   3 out of   3 | elapsed:  1.9min finished\n",
      "[Parallel(n_jobs=1)]: Using backend SequentialBackend with 1 concurrent workers.\n"
     ]
    },
    {
     "name": "stdout",
     "output_type": "stream",
     "text": [
      "K-Fold #6\n",
      "Mean negativities for all classes: [0.2139358168916999, 0.34447582932926984, 0.1818638426539681]\n",
      "Mean entropies for all classes: [4.171328887200708e-15, 2.3108056375404896e-15, 2.3411981392390023e-15]\n",
      "              precision    recall  f1-score   support\n",
      "\n",
      "           0       1.00      1.00      1.00         5\n",
      "           1       0.75      0.60      0.67         5\n",
      "           2       0.67      0.80      0.73         5\n",
      "\n",
      "    accuracy                           0.80        15\n",
      "   macro avg       0.81      0.80      0.80        15\n",
      "weighted avg       0.81      0.80      0.80        15\n",
      "\n",
      "-------------------------------------------------------------------------------------------------------------------\n"
     ]
    },
    {
     "name": "stderr",
     "output_type": "stream",
     "text": [
      "[Parallel(n_jobs=1)]: Done   3 out of   3 | elapsed:  1.9min finished\n",
      "[Parallel(n_jobs=1)]: Using backend SequentialBackend with 1 concurrent workers.\n"
     ]
    },
    {
     "name": "stdout",
     "output_type": "stream",
     "text": [
      "K-Fold #7\n",
      "Mean negativities for all classes: [0.1871036764131637, 0.30021405911028937, 0.2556124155809666]\n",
      "Mean entropies for all classes: [3.3190629166075524e-15, 2.2129245265841495e-15, 2.775252554069955e-15]\n",
      "              precision    recall  f1-score   support\n",
      "\n",
      "           0       0.83      1.00      0.91         5\n",
      "           1       0.50      0.40      0.44         5\n",
      "           2       0.60      0.60      0.60         5\n",
      "\n",
      "    accuracy                           0.67        15\n",
      "   macro avg       0.64      0.67      0.65        15\n",
      "weighted avg       0.64      0.67      0.65        15\n",
      "\n",
      "-------------------------------------------------------------------------------------------------------------------\n"
     ]
    },
    {
     "name": "stderr",
     "output_type": "stream",
     "text": [
      "[Parallel(n_jobs=1)]: Done   3 out of   3 | elapsed:  1.9min finished\n",
      "[Parallel(n_jobs=1)]: Using backend SequentialBackend with 1 concurrent workers.\n"
     ]
    },
    {
     "name": "stdout",
     "output_type": "stream",
     "text": [
      "K-Fold #8\n",
      "Mean negativities for all classes: [0.21920853643939264, 0.12234602882041053, 0.20300501419410874]\n",
      "Mean entropies for all classes: [3.184020618518732e-15, 3.597944896524925e-15, 3.3269994946299106e-15]\n",
      "              precision    recall  f1-score   support\n",
      "\n",
      "           0       1.00      1.00      1.00         5\n",
      "           1       1.00      1.00      1.00         5\n",
      "           2       1.00      1.00      1.00         5\n",
      "\n",
      "    accuracy                           1.00        15\n",
      "   macro avg       1.00      1.00      1.00        15\n",
      "weighted avg       1.00      1.00      1.00        15\n",
      "\n",
      "-------------------------------------------------------------------------------------------------------------------\n"
     ]
    },
    {
     "name": "stderr",
     "output_type": "stream",
     "text": [
      "[Parallel(n_jobs=1)]: Done   3 out of   3 | elapsed:  1.9min finished\n",
      "[Parallel(n_jobs=1)]: Using backend SequentialBackend with 1 concurrent workers.\n"
     ]
    },
    {
     "name": "stdout",
     "output_type": "stream",
     "text": [
      "K-Fold #9\n",
      "Mean negativities for all classes: [0.19403451434043942, 0.33594588606513237, 0.1949394155670907]\n",
      "Mean entropies for all classes: [3.2986565743398533e-15, 3.1875535678837544e-15, 2.7077025976682945e-15]\n",
      "              precision    recall  f1-score   support\n",
      "\n",
      "           0       1.00      1.00      1.00         5\n",
      "           1       0.75      0.60      0.67         5\n",
      "           2       0.67      0.80      0.73         5\n",
      "\n",
      "    accuracy                           0.80        15\n",
      "   macro avg       0.81      0.80      0.80        15\n",
      "weighted avg       0.81      0.80      0.80        15\n",
      "\n",
      "-------------------------------------------------------------------------------------------------------------------\n",
      "AVG: Scores = 0.76 F1-Scores = 0.741025086025086 Negativity = [0.26164774101666083, 0.24824439303150023, 0.24661002847821775] Entropy = [2.5394863384014133e-15, 2.666867884781881e-15, 2.5058219479082263e-15]\n"
     ]
    },
    {
     "name": "stderr",
     "output_type": "stream",
     "text": [
      "[Parallel(n_jobs=1)]: Done   3 out of   3 | elapsed:  2.3min finished\n",
      "[Parallel(n_jobs=1)]: Using backend SequentialBackend with 1 concurrent workers.\n"
     ]
    },
    {
     "name": "stdout",
     "output_type": "stream",
     "text": [
      "K-Fold #0\n",
      "Mean negativities for all classes: [0.21986224862418968, 0.32736621779414604, 0.23771475663164676]\n",
      "Mean entropies for all classes: [2.4185894599122564e-15, 2.0727794949744506e-15, 3.1270900603175324e-15]\n",
      "              precision    recall  f1-score   support\n",
      "\n",
      "           0       0.83      1.00      0.91         5\n",
      "           1       0.75      0.60      0.67         5\n",
      "           2       0.80      0.80      0.80         5\n",
      "\n",
      "    accuracy                           0.80        15\n",
      "   macro avg       0.79      0.80      0.79        15\n",
      "weighted avg       0.79      0.80      0.79        15\n",
      "\n",
      "-------------------------------------------------------------------------------------------------------------------\n"
     ]
    },
    {
     "name": "stderr",
     "output_type": "stream",
     "text": [
      "[Parallel(n_jobs=1)]: Done   3 out of   3 | elapsed:  2.3min finished\n",
      "[Parallel(n_jobs=1)]: Using backend SequentialBackend with 1 concurrent workers.\n"
     ]
    },
    {
     "name": "stdout",
     "output_type": "stream",
     "text": [
      "K-Fold #1\n",
      "Mean negativities for all classes: [0.18049069817723726, 0.34285567633780395, 0.2213868045794595]\n",
      "Mean entropies for all classes: [2.7582561494856594e-15, 2.347032788542941e-15, 2.8953147163170428e-15]\n",
      "              precision    recall  f1-score   support\n",
      "\n",
      "           0       0.83      1.00      0.91         5\n",
      "           1       1.00      0.40      0.57         5\n",
      "           2       0.71      1.00      0.83         5\n",
      "\n",
      "    accuracy                           0.80        15\n",
      "   macro avg       0.85      0.80      0.77        15\n",
      "weighted avg       0.85      0.80      0.77        15\n",
      "\n",
      "-------------------------------------------------------------------------------------------------------------------\n"
     ]
    },
    {
     "name": "stderr",
     "output_type": "stream",
     "text": [
      "[Parallel(n_jobs=1)]: Done   3 out of   3 | elapsed:  2.3min finished\n",
      "[Parallel(n_jobs=1)]: Using backend SequentialBackend with 1 concurrent workers.\n"
     ]
    },
    {
     "name": "stdout",
     "output_type": "stream",
     "text": [
      "K-Fold #2\n",
      "Mean negativities for all classes: [0.16291645856199613, 0.31330301161008883, 0.26361061526256824]\n",
      "Mean entropies for all classes: [2.4547125368304866e-15, 2.3346431300853688e-15, 2.7281101768088238e-15]\n",
      "              precision    recall  f1-score   support\n",
      "\n",
      "           0       0.83      1.00      0.91         5\n",
      "           1       0.50      0.40      0.44         5\n",
      "           2       0.60      0.60      0.60         5\n",
      "\n",
      "    accuracy                           0.67        15\n",
      "   macro avg       0.64      0.67      0.65        15\n",
      "weighted avg       0.64      0.67      0.65        15\n",
      "\n",
      "-------------------------------------------------------------------------------------------------------------------\n"
     ]
    },
    {
     "name": "stderr",
     "output_type": "stream",
     "text": [
      "[Parallel(n_jobs=1)]: Done   3 out of   3 | elapsed:  2.2min finished\n",
      "[Parallel(n_jobs=1)]: Using backend SequentialBackend with 1 concurrent workers.\n"
     ]
    },
    {
     "name": "stdout",
     "output_type": "stream",
     "text": [
      "K-Fold #3\n",
      "Mean negativities for all classes: [0.22260743517517442, 0.3192900613702481, 0.21934223015234622]\n",
      "Mean entropies for all classes: [3.7463410486672714e-15, 2.4345821864386356e-15, 2.9506200766725518e-15]\n",
      "              precision    recall  f1-score   support\n",
      "\n",
      "           0       0.83      1.00      0.91         5\n",
      "           1       1.00      0.60      0.75         5\n",
      "           2       0.83      1.00      0.91         5\n",
      "\n",
      "    accuracy                           0.87        15\n",
      "   macro avg       0.89      0.87      0.86        15\n",
      "weighted avg       0.89      0.87      0.86        15\n",
      "\n",
      "-------------------------------------------------------------------------------------------------------------------\n"
     ]
    },
    {
     "name": "stderr",
     "output_type": "stream",
     "text": [
      "[Parallel(n_jobs=1)]: Done   3 out of   3 | elapsed:  2.3min finished\n",
      "[Parallel(n_jobs=1)]: Using backend SequentialBackend with 1 concurrent workers.\n"
     ]
    },
    {
     "name": "stdout",
     "output_type": "stream",
     "text": [
      "K-Fold #4\n",
      "Mean negativities for all classes: [0.20657599966499435, 0.3385933058709919, 0.22307417277491112]\n",
      "Mean entropies for all classes: [2.4772655306467907e-15, 2.4397470769064993e-15, 3.2075930683241514e-15]\n",
      "              precision    recall  f1-score   support\n",
      "\n",
      "           0       0.83      1.00      0.91         5\n",
      "           1       0.00      0.00      0.00         5\n",
      "           2       0.50      0.80      0.62         5\n",
      "\n",
      "    accuracy                           0.60        15\n",
      "   macro avg       0.44      0.60      0.51        15\n",
      "weighted avg       0.44      0.60      0.51        15\n",
      "\n",
      "-------------------------------------------------------------------------------------------------------------------\n"
     ]
    },
    {
     "name": "stderr",
     "output_type": "stream",
     "text": [
      "[Parallel(n_jobs=1)]: Done   3 out of   3 | elapsed:  2.3min finished\n",
      "[Parallel(n_jobs=1)]: Using backend SequentialBackend with 1 concurrent workers.\n"
     ]
    },
    {
     "name": "stdout",
     "output_type": "stream",
     "text": [
      "K-Fold #5\n",
      "Mean negativities for all classes: [0.1650482231489481, 0.3178742746793235, 0.25998134794801775]\n",
      "Mean entropies for all classes: [3.032687370783545e-15, 2.6015066483584197e-15, 2.797752310988094e-15]\n",
      "              precision    recall  f1-score   support\n",
      "\n",
      "           0       0.83      1.00      0.91         5\n",
      "           1       0.40      0.40      0.40         5\n",
      "           2       0.50      0.40      0.44         5\n",
      "\n",
      "    accuracy                           0.60        15\n",
      "   macro avg       0.58      0.60      0.58        15\n",
      "weighted avg       0.58      0.60      0.58        15\n",
      "\n",
      "-------------------------------------------------------------------------------------------------------------------\n"
     ]
    },
    {
     "name": "stderr",
     "output_type": "stream",
     "text": [
      "[Parallel(n_jobs=1)]: Done   3 out of   3 | elapsed:  2.3min finished\n",
      "[Parallel(n_jobs=1)]: Using backend SequentialBackend with 1 concurrent workers.\n"
     ]
    },
    {
     "name": "stdout",
     "output_type": "stream",
     "text": [
      "K-Fold #6\n",
      "Mean negativities for all classes: [0.2139358168916999, 0.34447582932926984, 0.1818638426539681]\n",
      "Mean entropies for all classes: [4.171328887200708e-15, 2.3108056375404896e-15, 2.3411981392390023e-15]\n",
      "              precision    recall  f1-score   support\n",
      "\n",
      "           0       1.00      1.00      1.00         5\n",
      "           1       0.75      0.60      0.67         5\n",
      "           2       0.67      0.80      0.73         5\n",
      "\n",
      "    accuracy                           0.80        15\n",
      "   macro avg       0.81      0.80      0.80        15\n",
      "weighted avg       0.81      0.80      0.80        15\n",
      "\n",
      "-------------------------------------------------------------------------------------------------------------------\n"
     ]
    },
    {
     "name": "stderr",
     "output_type": "stream",
     "text": [
      "[Parallel(n_jobs=1)]: Done   3 out of   3 | elapsed:  2.2min finished\n",
      "[Parallel(n_jobs=1)]: Using backend SequentialBackend with 1 concurrent workers.\n"
     ]
    },
    {
     "name": "stdout",
     "output_type": "stream",
     "text": [
      "K-Fold #7\n",
      "Mean negativities for all classes: [0.1871036764131637, 0.30021405911028937, 0.2556124155809666]\n",
      "Mean entropies for all classes: [3.3190629166075524e-15, 2.2129245265841495e-15, 2.775252554069955e-15]\n",
      "              precision    recall  f1-score   support\n",
      "\n",
      "           0       0.83      1.00      0.91         5\n",
      "           1       0.50      0.40      0.44         5\n",
      "           2       0.60      0.60      0.60         5\n",
      "\n",
      "    accuracy                           0.67        15\n",
      "   macro avg       0.64      0.67      0.65        15\n",
      "weighted avg       0.64      0.67      0.65        15\n",
      "\n",
      "-------------------------------------------------------------------------------------------------------------------\n"
     ]
    },
    {
     "name": "stderr",
     "output_type": "stream",
     "text": [
      "[Parallel(n_jobs=1)]: Done   3 out of   3 | elapsed:  2.2min finished\n",
      "[Parallel(n_jobs=1)]: Using backend SequentialBackend with 1 concurrent workers.\n"
     ]
    },
    {
     "name": "stdout",
     "output_type": "stream",
     "text": [
      "K-Fold #8\n",
      "Mean negativities for all classes: [0.21920853643939264, 0.12234602882041053, 0.20300501419410874]\n",
      "Mean entropies for all classes: [3.184020618518732e-15, 3.597944896524925e-15, 3.3269994946299106e-15]\n",
      "              precision    recall  f1-score   support\n",
      "\n",
      "           0       1.00      1.00      1.00         5\n",
      "           1       1.00      1.00      1.00         5\n",
      "           2       1.00      1.00      1.00         5\n",
      "\n",
      "    accuracy                           1.00        15\n",
      "   macro avg       1.00      1.00      1.00        15\n",
      "weighted avg       1.00      1.00      1.00        15\n",
      "\n",
      "-------------------------------------------------------------------------------------------------------------------\n"
     ]
    },
    {
     "name": "stderr",
     "output_type": "stream",
     "text": [
      "[Parallel(n_jobs=1)]: Done   3 out of   3 | elapsed:  2.3min finished\n",
      "[Parallel(n_jobs=1)]: Using backend SequentialBackend with 1 concurrent workers.\n"
     ]
    },
    {
     "name": "stdout",
     "output_type": "stream",
     "text": [
      "K-Fold #9\n",
      "Mean negativities for all classes: [0.19403451434043942, 0.33594588606513237, 0.1949394155670907]\n",
      "Mean entropies for all classes: [3.2986565743398533e-15, 3.1875535678837544e-15, 2.7077025976682945e-15]\n",
      "              precision    recall  f1-score   support\n",
      "\n",
      "           0       1.00      1.00      1.00         5\n",
      "           1       0.75      0.60      0.67         5\n",
      "           2       0.67      0.80      0.73         5\n",
      "\n",
      "    accuracy                           0.80        15\n",
      "   macro avg       0.81      0.80      0.80        15\n",
      "weighted avg       0.81      0.80      0.80        15\n",
      "\n",
      "-------------------------------------------------------------------------------------------------------------------\n",
      "AVG: Scores = 0.76 F1-Scores = 0.741025086025086 Negativity = [0.26164774101666083, 0.24824439303150023, 0.24661002847821775] Entropy = [2.5394863384014133e-15, 2.666867884781881e-15, 2.5058219479082263e-15]\n"
     ]
    },
    {
     "name": "stderr",
     "output_type": "stream",
     "text": [
      "[Parallel(n_jobs=1)]: Done   3 out of   3 | elapsed:  2.6min finished\n",
      "[Parallel(n_jobs=1)]: Using backend SequentialBackend with 1 concurrent workers.\n"
     ]
    },
    {
     "name": "stdout",
     "output_type": "stream",
     "text": [
      "K-Fold #0\n",
      "Mean negativities for all classes: [0.21986224862418968, 0.32736621779414604, 0.23771475663164676]\n",
      "Mean entropies for all classes: [2.4185894599122564e-15, 2.0727794949744506e-15, 3.1270900603175324e-15]\n",
      "              precision    recall  f1-score   support\n",
      "\n",
      "           0       0.83      1.00      0.91         5\n",
      "           1       0.75      0.60      0.67         5\n",
      "           2       0.80      0.80      0.80         5\n",
      "\n",
      "    accuracy                           0.80        15\n",
      "   macro avg       0.79      0.80      0.79        15\n",
      "weighted avg       0.79      0.80      0.79        15\n",
      "\n",
      "-------------------------------------------------------------------------------------------------------------------\n"
     ]
    },
    {
     "name": "stderr",
     "output_type": "stream",
     "text": [
      "[Parallel(n_jobs=1)]: Done   3 out of   3 | elapsed:  2.6min finished\n",
      "[Parallel(n_jobs=1)]: Using backend SequentialBackend with 1 concurrent workers.\n"
     ]
    },
    {
     "name": "stdout",
     "output_type": "stream",
     "text": [
      "K-Fold #1\n",
      "Mean negativities for all classes: [0.18049069817723726, 0.34285567633780395, 0.2213868045794595]\n",
      "Mean entropies for all classes: [2.7582561494856594e-15, 2.347032788542941e-15, 2.8953147163170428e-15]\n",
      "              precision    recall  f1-score   support\n",
      "\n",
      "           0       0.83      1.00      0.91         5\n",
      "           1       1.00      0.40      0.57         5\n",
      "           2       0.71      1.00      0.83         5\n",
      "\n",
      "    accuracy                           0.80        15\n",
      "   macro avg       0.85      0.80      0.77        15\n",
      "weighted avg       0.85      0.80      0.77        15\n",
      "\n",
      "-------------------------------------------------------------------------------------------------------------------\n"
     ]
    },
    {
     "name": "stderr",
     "output_type": "stream",
     "text": [
      "[Parallel(n_jobs=1)]: Done   3 out of   3 | elapsed:  2.6min finished\n",
      "[Parallel(n_jobs=1)]: Using backend SequentialBackend with 1 concurrent workers.\n"
     ]
    },
    {
     "name": "stdout",
     "output_type": "stream",
     "text": [
      "K-Fold #2\n",
      "Mean negativities for all classes: [0.16291645856199613, 0.31330301161008883, 0.26361061526256824]\n",
      "Mean entropies for all classes: [2.4547125368304866e-15, 2.3346431300853688e-15, 2.7281101768088238e-15]\n",
      "              precision    recall  f1-score   support\n",
      "\n",
      "           0       0.83      1.00      0.91         5\n",
      "           1       0.50      0.40      0.44         5\n",
      "           2       0.60      0.60      0.60         5\n",
      "\n",
      "    accuracy                           0.67        15\n",
      "   macro avg       0.64      0.67      0.65        15\n",
      "weighted avg       0.64      0.67      0.65        15\n",
      "\n",
      "-------------------------------------------------------------------------------------------------------------------\n"
     ]
    },
    {
     "name": "stderr",
     "output_type": "stream",
     "text": [
      "[Parallel(n_jobs=1)]: Done   3 out of   3 | elapsed:  2.6min finished\n",
      "[Parallel(n_jobs=1)]: Using backend SequentialBackend with 1 concurrent workers.\n"
     ]
    },
    {
     "name": "stdout",
     "output_type": "stream",
     "text": [
      "K-Fold #3\n",
      "Mean negativities for all classes: [0.22260743517517442, 0.3192900613702481, 0.21934223015234622]\n",
      "Mean entropies for all classes: [3.7463410486672714e-15, 2.4345821864386356e-15, 2.9506200766725518e-15]\n",
      "              precision    recall  f1-score   support\n",
      "\n",
      "           0       0.83      1.00      0.91         5\n",
      "           1       1.00      0.60      0.75         5\n",
      "           2       0.83      1.00      0.91         5\n",
      "\n",
      "    accuracy                           0.87        15\n",
      "   macro avg       0.89      0.87      0.86        15\n",
      "weighted avg       0.89      0.87      0.86        15\n",
      "\n",
      "-------------------------------------------------------------------------------------------------------------------\n"
     ]
    },
    {
     "name": "stderr",
     "output_type": "stream",
     "text": [
      "[Parallel(n_jobs=1)]: Done   3 out of   3 | elapsed:  2.6min finished\n",
      "[Parallel(n_jobs=1)]: Using backend SequentialBackend with 1 concurrent workers.\n"
     ]
    },
    {
     "name": "stdout",
     "output_type": "stream",
     "text": [
      "K-Fold #4\n",
      "Mean negativities for all classes: [0.20657599966499435, 0.3385933058709919, 0.22307417277491112]\n",
      "Mean entropies for all classes: [2.4772655306467907e-15, 2.4397470769064993e-15, 3.2075930683241514e-15]\n",
      "              precision    recall  f1-score   support\n",
      "\n",
      "           0       0.83      1.00      0.91         5\n",
      "           1       0.00      0.00      0.00         5\n",
      "           2       0.50      0.80      0.62         5\n",
      "\n",
      "    accuracy                           0.60        15\n",
      "   macro avg       0.44      0.60      0.51        15\n",
      "weighted avg       0.44      0.60      0.51        15\n",
      "\n",
      "-------------------------------------------------------------------------------------------------------------------\n"
     ]
    },
    {
     "name": "stderr",
     "output_type": "stream",
     "text": [
      "[Parallel(n_jobs=1)]: Done   3 out of   3 | elapsed:  2.6min finished\n",
      "[Parallel(n_jobs=1)]: Using backend SequentialBackend with 1 concurrent workers.\n"
     ]
    },
    {
     "name": "stdout",
     "output_type": "stream",
     "text": [
      "K-Fold #5\n",
      "Mean negativities for all classes: [0.1650482231489481, 0.3178742746793235, 0.25998134794801775]\n",
      "Mean entropies for all classes: [3.032687370783545e-15, 2.6015066483584197e-15, 2.797752310988094e-15]\n",
      "              precision    recall  f1-score   support\n",
      "\n",
      "           0       0.83      1.00      0.91         5\n",
      "           1       0.40      0.40      0.40         5\n",
      "           2       0.50      0.40      0.44         5\n",
      "\n",
      "    accuracy                           0.60        15\n",
      "   macro avg       0.58      0.60      0.58        15\n",
      "weighted avg       0.58      0.60      0.58        15\n",
      "\n",
      "-------------------------------------------------------------------------------------------------------------------\n"
     ]
    },
    {
     "name": "stderr",
     "output_type": "stream",
     "text": [
      "[Parallel(n_jobs=1)]: Done   3 out of   3 | elapsed:  2.6min finished\n",
      "[Parallel(n_jobs=1)]: Using backend SequentialBackend with 1 concurrent workers.\n"
     ]
    },
    {
     "name": "stdout",
     "output_type": "stream",
     "text": [
      "K-Fold #6\n",
      "Mean negativities for all classes: [0.2139358168916999, 0.34447582932926984, 0.1818638426539681]\n",
      "Mean entropies for all classes: [4.171328887200708e-15, 2.3108056375404896e-15, 2.3411981392390023e-15]\n",
      "              precision    recall  f1-score   support\n",
      "\n",
      "           0       1.00      1.00      1.00         5\n",
      "           1       0.75      0.60      0.67         5\n",
      "           2       0.67      0.80      0.73         5\n",
      "\n",
      "    accuracy                           0.80        15\n",
      "   macro avg       0.81      0.80      0.80        15\n",
      "weighted avg       0.81      0.80      0.80        15\n",
      "\n",
      "-------------------------------------------------------------------------------------------------------------------\n"
     ]
    },
    {
     "name": "stderr",
     "output_type": "stream",
     "text": [
      "[Parallel(n_jobs=1)]: Done   3 out of   3 | elapsed:  2.6min finished\n",
      "[Parallel(n_jobs=1)]: Using backend SequentialBackend with 1 concurrent workers.\n"
     ]
    },
    {
     "name": "stdout",
     "output_type": "stream",
     "text": [
      "K-Fold #7\n",
      "Mean negativities for all classes: [0.1871036764131637, 0.30021405911028937, 0.2556124155809666]\n",
      "Mean entropies for all classes: [3.3190629166075524e-15, 2.2129245265841495e-15, 2.775252554069955e-15]\n",
      "              precision    recall  f1-score   support\n",
      "\n",
      "           0       0.83      1.00      0.91         5\n",
      "           1       0.50      0.40      0.44         5\n",
      "           2       0.60      0.60      0.60         5\n",
      "\n",
      "    accuracy                           0.67        15\n",
      "   macro avg       0.64      0.67      0.65        15\n",
      "weighted avg       0.64      0.67      0.65        15\n",
      "\n",
      "-------------------------------------------------------------------------------------------------------------------\n"
     ]
    },
    {
     "name": "stderr",
     "output_type": "stream",
     "text": [
      "[Parallel(n_jobs=1)]: Done   3 out of   3 | elapsed:  2.5min finished\n",
      "[Parallel(n_jobs=1)]: Using backend SequentialBackend with 1 concurrent workers.\n"
     ]
    },
    {
     "name": "stdout",
     "output_type": "stream",
     "text": [
      "K-Fold #8\n",
      "Mean negativities for all classes: [0.21920853643939264, 0.12234602882041053, 0.20300501419410874]\n",
      "Mean entropies for all classes: [3.184020618518732e-15, 3.597944896524925e-15, 3.3269994946299106e-15]\n",
      "              precision    recall  f1-score   support\n",
      "\n",
      "           0       1.00      1.00      1.00         5\n",
      "           1       1.00      1.00      1.00         5\n",
      "           2       1.00      1.00      1.00         5\n",
      "\n",
      "    accuracy                           1.00        15\n",
      "   macro avg       1.00      1.00      1.00        15\n",
      "weighted avg       1.00      1.00      1.00        15\n",
      "\n",
      "-------------------------------------------------------------------------------------------------------------------\n"
     ]
    },
    {
     "name": "stderr",
     "output_type": "stream",
     "text": [
      "[Parallel(n_jobs=1)]: Done   3 out of   3 | elapsed:  2.6min finished\n",
      "[Parallel(n_jobs=1)]: Using backend SequentialBackend with 1 concurrent workers.\n"
     ]
    },
    {
     "name": "stdout",
     "output_type": "stream",
     "text": [
      "K-Fold #9\n",
      "Mean negativities for all classes: [0.19403451434043942, 0.33594588606513237, 0.1949394155670907]\n",
      "Mean entropies for all classes: [3.2986565743398533e-15, 3.1875535678837544e-15, 2.7077025976682945e-15]\n",
      "              precision    recall  f1-score   support\n",
      "\n",
      "           0       1.00      1.00      1.00         5\n",
      "           1       0.75      0.60      0.67         5\n",
      "           2       0.67      0.80      0.73         5\n",
      "\n",
      "    accuracy                           0.80        15\n",
      "   macro avg       0.81      0.80      0.80        15\n",
      "weighted avg       0.81      0.80      0.80        15\n",
      "\n",
      "-------------------------------------------------------------------------------------------------------------------\n",
      "AVG: Scores = 0.76 F1-Scores = 0.741025086025086 Negativity = [0.26164774101666083, 0.24824439303150023, 0.24661002847821775] Entropy = [2.5394863384014133e-15, 2.666867884781881e-15, 2.5058219479082263e-15]\n"
     ]
    },
    {
     "name": "stderr",
     "output_type": "stream",
     "text": [
      "[Parallel(n_jobs=1)]: Done   3 out of   3 | elapsed:  2.9min finished\n",
      "[Parallel(n_jobs=1)]: Using backend SequentialBackend with 1 concurrent workers.\n"
     ]
    },
    {
     "name": "stdout",
     "output_type": "stream",
     "text": [
      "K-Fold #0\n",
      "Mean negativities for all classes: [0.21986224862418968, 0.32736621779414604, 0.23771475663164676]\n",
      "Mean entropies for all classes: [2.4185894599122564e-15, 2.0727794949744506e-15, 3.1270900603175324e-15]\n",
      "              precision    recall  f1-score   support\n",
      "\n",
      "           0       0.83      1.00      0.91         5\n",
      "           1       0.75      0.60      0.67         5\n",
      "           2       0.80      0.80      0.80         5\n",
      "\n",
      "    accuracy                           0.80        15\n",
      "   macro avg       0.79      0.80      0.79        15\n",
      "weighted avg       0.79      0.80      0.79        15\n",
      "\n",
      "-------------------------------------------------------------------------------------------------------------------\n"
     ]
    },
    {
     "name": "stderr",
     "output_type": "stream",
     "text": [
      "[Parallel(n_jobs=1)]: Done   3 out of   3 | elapsed:  2.9min finished\n",
      "[Parallel(n_jobs=1)]: Using backend SequentialBackend with 1 concurrent workers.\n"
     ]
    },
    {
     "name": "stdout",
     "output_type": "stream",
     "text": [
      "K-Fold #1\n",
      "Mean negativities for all classes: [0.18049069817723726, 0.34285567633780395, 0.2213868045794595]\n",
      "Mean entropies for all classes: [2.7582561494856594e-15, 2.347032788542941e-15, 2.8953147163170428e-15]\n",
      "              precision    recall  f1-score   support\n",
      "\n",
      "           0       0.83      1.00      0.91         5\n",
      "           1       1.00      0.40      0.57         5\n",
      "           2       0.71      1.00      0.83         5\n",
      "\n",
      "    accuracy                           0.80        15\n",
      "   macro avg       0.85      0.80      0.77        15\n",
      "weighted avg       0.85      0.80      0.77        15\n",
      "\n",
      "-------------------------------------------------------------------------------------------------------------------\n"
     ]
    },
    {
     "name": "stderr",
     "output_type": "stream",
     "text": [
      "[Parallel(n_jobs=1)]: Done   3 out of   3 | elapsed:  2.9min finished\n",
      "[Parallel(n_jobs=1)]: Using backend SequentialBackend with 1 concurrent workers.\n"
     ]
    },
    {
     "name": "stdout",
     "output_type": "stream",
     "text": [
      "K-Fold #2\n",
      "Mean negativities for all classes: [0.16291645856199613, 0.31330301161008883, 0.26361061526256824]\n",
      "Mean entropies for all classes: [2.4547125368304866e-15, 2.3346431300853688e-15, 2.7281101768088238e-15]\n",
      "              precision    recall  f1-score   support\n",
      "\n",
      "           0       0.83      1.00      0.91         5\n",
      "           1       0.50      0.40      0.44         5\n",
      "           2       0.60      0.60      0.60         5\n",
      "\n",
      "    accuracy                           0.67        15\n",
      "   macro avg       0.64      0.67      0.65        15\n",
      "weighted avg       0.64      0.67      0.65        15\n",
      "\n",
      "-------------------------------------------------------------------------------------------------------------------\n"
     ]
    },
    {
     "name": "stderr",
     "output_type": "stream",
     "text": [
      "[Parallel(n_jobs=1)]: Done   3 out of   3 | elapsed:  2.9min finished\n",
      "[Parallel(n_jobs=1)]: Using backend SequentialBackend with 1 concurrent workers.\n"
     ]
    },
    {
     "name": "stdout",
     "output_type": "stream",
     "text": [
      "K-Fold #3\n",
      "Mean negativities for all classes: [0.22260743517517442, 0.3192900613702481, 0.21934223015234622]\n",
      "Mean entropies for all classes: [3.7463410486672714e-15, 2.4345821864386356e-15, 2.9506200766725518e-15]\n",
      "              precision    recall  f1-score   support\n",
      "\n",
      "           0       0.83      1.00      0.91         5\n",
      "           1       1.00      0.60      0.75         5\n",
      "           2       0.83      1.00      0.91         5\n",
      "\n",
      "    accuracy                           0.87        15\n",
      "   macro avg       0.89      0.87      0.86        15\n",
      "weighted avg       0.89      0.87      0.86        15\n",
      "\n",
      "-------------------------------------------------------------------------------------------------------------------\n"
     ]
    },
    {
     "name": "stderr",
     "output_type": "stream",
     "text": [
      "[Parallel(n_jobs=1)]: Done   3 out of   3 | elapsed:  2.9min finished\n",
      "[Parallel(n_jobs=1)]: Using backend SequentialBackend with 1 concurrent workers.\n"
     ]
    },
    {
     "name": "stdout",
     "output_type": "stream",
     "text": [
      "K-Fold #4\n",
      "Mean negativities for all classes: [0.20657599966499435, 0.3385933058709919, 0.22307417277491112]\n",
      "Mean entropies for all classes: [2.4772655306467907e-15, 2.4397470769064993e-15, 3.2075930683241514e-15]\n",
      "              precision    recall  f1-score   support\n",
      "\n",
      "           0       0.83      1.00      0.91         5\n",
      "           1       0.00      0.00      0.00         5\n",
      "           2       0.50      0.80      0.62         5\n",
      "\n",
      "    accuracy                           0.60        15\n",
      "   macro avg       0.44      0.60      0.51        15\n",
      "weighted avg       0.44      0.60      0.51        15\n",
      "\n",
      "-------------------------------------------------------------------------------------------------------------------\n"
     ]
    },
    {
     "name": "stderr",
     "output_type": "stream",
     "text": [
      "[Parallel(n_jobs=1)]: Done   3 out of   3 | elapsed:  2.9min finished\n",
      "[Parallel(n_jobs=1)]: Using backend SequentialBackend with 1 concurrent workers.\n"
     ]
    },
    {
     "name": "stdout",
     "output_type": "stream",
     "text": [
      "K-Fold #5\n",
      "Mean negativities for all classes: [0.1650482231489481, 0.3178742746793235, 0.25998134794801775]\n",
      "Mean entropies for all classes: [3.032687370783545e-15, 2.6015066483584197e-15, 2.797752310988094e-15]\n",
      "              precision    recall  f1-score   support\n",
      "\n",
      "           0       0.83      1.00      0.91         5\n",
      "           1       0.40      0.40      0.40         5\n",
      "           2       0.50      0.40      0.44         5\n",
      "\n",
      "    accuracy                           0.60        15\n",
      "   macro avg       0.58      0.60      0.58        15\n",
      "weighted avg       0.58      0.60      0.58        15\n",
      "\n",
      "-------------------------------------------------------------------------------------------------------------------\n"
     ]
    },
    {
     "name": "stderr",
     "output_type": "stream",
     "text": [
      "[Parallel(n_jobs=1)]: Done   3 out of   3 | elapsed:  2.9min finished\n",
      "[Parallel(n_jobs=1)]: Using backend SequentialBackend with 1 concurrent workers.\n"
     ]
    },
    {
     "name": "stdout",
     "output_type": "stream",
     "text": [
      "K-Fold #6\n",
      "Mean negativities for all classes: [0.2139358168916999, 0.34447582932926984, 0.1818638426539681]\n",
      "Mean entropies for all classes: [4.171328887200708e-15, 2.3108056375404896e-15, 2.3411981392390023e-15]\n",
      "              precision    recall  f1-score   support\n",
      "\n",
      "           0       1.00      1.00      1.00         5\n",
      "           1       0.75      0.60      0.67         5\n",
      "           2       0.67      0.80      0.73         5\n",
      "\n",
      "    accuracy                           0.80        15\n",
      "   macro avg       0.81      0.80      0.80        15\n",
      "weighted avg       0.81      0.80      0.80        15\n",
      "\n",
      "-------------------------------------------------------------------------------------------------------------------\n"
     ]
    },
    {
     "name": "stderr",
     "output_type": "stream",
     "text": [
      "[Parallel(n_jobs=1)]: Done   3 out of   3 | elapsed:  2.9min finished\n",
      "[Parallel(n_jobs=1)]: Using backend SequentialBackend with 1 concurrent workers.\n"
     ]
    },
    {
     "name": "stdout",
     "output_type": "stream",
     "text": [
      "K-Fold #7\n",
      "Mean negativities for all classes: [0.1871036764131637, 0.30021405911028937, 0.2556124155809666]\n",
      "Mean entropies for all classes: [3.3190629166075524e-15, 2.2129245265841495e-15, 2.775252554069955e-15]\n",
      "              precision    recall  f1-score   support\n",
      "\n",
      "           0       0.83      1.00      0.91         5\n",
      "           1       0.50      0.40      0.44         5\n",
      "           2       0.60      0.60      0.60         5\n",
      "\n",
      "    accuracy                           0.67        15\n",
      "   macro avg       0.64      0.67      0.65        15\n",
      "weighted avg       0.64      0.67      0.65        15\n",
      "\n",
      "-------------------------------------------------------------------------------------------------------------------\n"
     ]
    },
    {
     "name": "stderr",
     "output_type": "stream",
     "text": [
      "[Parallel(n_jobs=1)]: Done   3 out of   3 | elapsed:  2.8min finished\n",
      "[Parallel(n_jobs=1)]: Using backend SequentialBackend with 1 concurrent workers.\n"
     ]
    },
    {
     "name": "stdout",
     "output_type": "stream",
     "text": [
      "K-Fold #8\n",
      "Mean negativities for all classes: [0.21920853643939264, 0.12234602882041053, 0.20300501419410874]\n",
      "Mean entropies for all classes: [3.184020618518732e-15, 3.597944896524925e-15, 3.3269994946299106e-15]\n",
      "              precision    recall  f1-score   support\n",
      "\n",
      "           0       1.00      1.00      1.00         5\n",
      "           1       1.00      1.00      1.00         5\n",
      "           2       1.00      1.00      1.00         5\n",
      "\n",
      "    accuracy                           1.00        15\n",
      "   macro avg       1.00      1.00      1.00        15\n",
      "weighted avg       1.00      1.00      1.00        15\n",
      "\n",
      "-------------------------------------------------------------------------------------------------------------------\n",
      "K-Fold #9\n",
      "Mean negativities for all classes: [0.19403451434043942, 0.33594588606513237, 0.1949394155670907]\n",
      "Mean entropies for all classes: [3.2986565743398533e-15, 3.1875535678837544e-15, 2.7077025976682945e-15]\n",
      "              precision    recall  f1-score   support\n",
      "\n",
      "           0       1.00      1.00      1.00         5\n",
      "           1       0.75      0.60      0.67         5\n",
      "           2       0.67      0.80      0.73         5\n",
      "\n",
      "    accuracy                           0.80        15\n",
      "   macro avg       0.81      0.80      0.80        15\n",
      "weighted avg       0.81      0.80      0.80        15\n",
      "\n",
      "-------------------------------------------------------------------------------------------------------------------\n",
      "AVG: Scores = 0.76 F1-Scores = 0.741025086025086 Negativity = [0.26164774101666083, 0.24824439303150023, 0.24661002847821775] Entropy = [2.5394863384014133e-15, 2.666867884781881e-15, 2.5058219479082263e-15]\n",
      "CPU times: total: 2h 20min 32s\n",
      "Wall time: 2h 24min 7s\n"
     ]
    },
    {
     "name": "stderr",
     "output_type": "stream",
     "text": [
      "[Parallel(n_jobs=1)]: Done   3 out of   3 | elapsed:  2.9min finished\n"
     ]
    }
   ],
   "source": [
    "%%time\n",
    "scores_list = []\n",
    "f1scores_list = []\n",
    "\n",
    "for max_iter in range(1, 1000, range_step):\n",
    "    dic_training_params[\"max_iter\"] = max_iter\n",
    "    scores, f1scores, output_dict = execute_training_test_k_fold(\n",
    "                    X, \n",
    "                    y, \n",
    "                    k_folds=k_times_fold,\n",
    "                    random_seed=1, \n",
    "                    classifier_function=iqc_classifier, \n",
    "                    dic_classifier_params=dic_classifier_params,\n",
    "                    one_vs_classifier=OneVsRestClassifier, \n",
    "                    dic_training_params=dic_training_params,\n",
    "                    print_each_fold_metric=True,\n",
    "                    print_avg_metric=True)\n",
    "    scores_list.append(np.mean(scores))\n",
    "    f1scores_list.append(np.mean(f1scores))\n",
    "\n",
    "    for clazz in range(len(set(y))):\n",
    "        negativities_per_class[clazz].append(np.mean(output_dict[\"negativities\"][clazz]))\n",
    "        entropies_per_class[clazz].append(np.mean(output_dict[\"entropies\"][clazz]))"
   ]
  },
  {
   "cell_type": "code",
   "execution_count": 9,
   "id": "ac8dadda",
   "metadata": {},
   "outputs": [
    {
     "name": "stdout",
     "output_type": "stream",
     "text": [
      "Maior Score atingido com 101 épocas: 0.76\n",
      "\n",
      "[0.16, 0.76, 0.76, 0.76, 0.76, 0.76, 0.76, 0.76, 0.76, 0.76]\n",
      "\n",
      "\n"
     ]
    }
   ],
   "source": [
    "print_score(scores_list)"
   ]
  },
  {
   "cell_type": "code",
   "execution_count": 10,
   "id": "3991226a",
   "metadata": {},
   "outputs": [
    {
     "name": "stdout",
     "output_type": "stream",
     "text": [
      "Maior F1Score atingido com 101 épocas: 0.741025086025086\n",
      "\n",
      "[0.13038073038073034, 0.741025086025086, 0.741025086025086, 0.741025086025086, 0.741025086025086, 0.741025086025086, 0.741025086025086, 0.741025086025086, 0.741025086025086, 0.741025086025086]\n",
      "\n",
      "\n"
     ]
    }
   ],
   "source": [
    "print_f1score(f1scores_list)"
   ]
  },
  {
   "cell_type": "code",
   "execution_count": 11,
   "id": "7dd8724d",
   "metadata": {},
   "outputs": [
    {
     "name": "stdout",
     "output_type": "stream",
     "text": [
      "Negativities ao longo do treinamento\n",
      "Classe 0 [0.28615478512894704, 0.19717836074372355, 0.19717836074372355, 0.19717836074372355, 0.19717836074372355, 0.19717836074372355, 0.19717836074372355, 0.19717836074372355, 0.19717836074372355, 0.19717836074372355]\n",
      "Classe 1 [0.1104268903409199, 0.3062264350987704, 0.3062264350987704, 0.3062264350987704, 0.3062264350987704, 0.3062264350987704, 0.3062264350987704, 0.3062264350987704, 0.3062264350987704, 0.3062264350987704]\n",
      "Classe 2 [0.09109001953387914, 0.22605306153450835, 0.22605306153450835, 0.22605306153450835, 0.22605306153450835, 0.22605306153450835, 0.22605306153450835, 0.22605306153450835, 0.22605306153450835, 0.22605306153450835]\n",
      "\n",
      "\n"
     ]
    },
    {
     "data": {
      "image/png": "[encoded data removed]",
      "text/plain": [
       "<Figure size 640x480 with 1 Axes>"
      ]
     },
     "metadata": {},
     "output_type": "display_data"
    }
   ],
   "source": [
    "print_negativities(negativities_per_class, scores_list)"
   ]
  },
  {
   "cell_type": "code",
   "execution_count": 12,
   "id": "60520bee",
   "metadata": {},
   "outputs": [
    {
     "name": "stdout",
     "output_type": "stream",
     "text": [
      "Entropies ao longo do treinamento\n",
      "Classe 0 [2.743157664252341e-15, 3.0860921092992853e-15, 3.0860921092992853e-15, 3.0860921092992853e-15, 3.0860921092992853e-15, 3.0860921092992853e-15, 3.0860921092992853e-15, 3.0860921092992853e-15, 3.0860921092992853e-15, 3.0860921092992853e-15]\n",
      "Classe 1 [3.3314459330272633e-15, 2.5539519953839635e-15, 2.5539519953839635e-15, 2.5539519953839635e-15, 2.5539519953839635e-15, 2.5539519953839635e-15, 2.5539519953839635e-15, 2.5539519953839635e-15, 2.5539519953839635e-15, 2.5539519953839635e-15]\n",
      "Classe 2 [2.875377782248023e-15, 2.8857633195035363e-15, 2.8857633195035363e-15, 2.8857633195035363e-15, 2.8857633195035363e-15, 2.8857633195035363e-15, 2.8857633195035363e-15, 2.8857633195035363e-15, 2.8857633195035363e-15, 2.8857633195035363e-15]\n",
      "\n",
      "\n"
     ]
    },
    {
     "data": {
      "image/png": "[encoded data removed]",
      "text/plain": [
       "<Figure size 640x480 with 1 Axes>"
      ]
     },
     "metadata": {},
     "output_type": "display_data"
    }
   ],
   "source": [
    "print_entropies(entropies_per_class, scores_list)"
   ]
  }
 ],
 "metadata": {
  "kernelspec": {
   "display_name": "Python 3",
   "language": "python",
   "name": "python3"
  },
  "language_info": {
   "codemirror_mode": {
    "name": "ipython",
    "version": 3
   },
   "file_extension": ".py",
   "mimetype": "text/x-python",
   "name": "python",
   "nbconvert_exporter": "python",
   "pygments_lexer": "ipython3",
   "version": "3.9.16"
  }
 },
 "nbformat": 4,
 "nbformat_minor": 5
}
