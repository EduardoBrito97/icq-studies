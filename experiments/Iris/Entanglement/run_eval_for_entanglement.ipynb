{
 "cells": [
  {
   "cell_type": "code",
   "execution_count": null,
   "metadata": {},
   "outputs": [],
   "source": [
    "import sys, os\n",
    "sys.path.append(os.path.abspath('../../../classifiers'))\n",
    "sys.path.append(os.path.abspath('../../../training'))\n",
    "sys.path.append(os.path.abspath('../../../validation'))\n",
    "from validation_functions import execute_training_test_k_fold\n",
    "from classifiers_ICQ import iqc_classifier\n",
    "\n",
    "from sklearn.multiclass import OneVsRestClassifier\n",
    "import numpy as np\n",
    "from sklearn import datasets\n",
    "import matplotlib.pyplot as plt"
   ]
  },
  {
   "cell_type": "code",
   "execution_count": null,
   "metadata": {},
   "outputs": [],
   "source": [
    "assert('dic_classifier_params' in locals() or 'dic_classifier_params' in globals())"
   ]
  },
  {
   "cell_type": "code",
   "execution_count": null,
   "metadata": {},
   "outputs": [],
   "source": [
    "range_step = 20\n",
    "k_times_fold = 10"
   ]
  },
  {
   "cell_type": "code",
   "execution_count": null,
   "metadata": {},
   "outputs": [],
   "source": [
    "iris = datasets.load_iris()\n",
    "\n",
    "X = iris.data[:, [0,1,2,3]]\n",
    "y = iris.target"
   ]
  },
  {
   "cell_type": "code",
   "execution_count": null,
   "metadata": {},
   "outputs": [],
   "source": [
    "dic_training_params = {\"max_iter\": 1000,\n",
    "    \"accuracy_succ\": 0.99,\n",
    "    \"plot_graphs_and_metrics\": False,\n",
    "    \"plot_graphs_in_classifier\": False,\n",
    "    \"random_seed\": 1,\n",
    "    \"learning_rate\": 0.01,\n",
    "    \"do_classes_refit\":True,\n",
    "    \"reset_weights_epoch\":0,\n",
    "    \"batch\":1}"
   ]
  },
  {
   "cell_type": "code",
   "execution_count": null,
   "metadata": {},
   "outputs": [],
   "source": [
    "negativities_per_class = []\n",
    "entropies_per_class = []\n",
    "for clazz in range(len(set(y))):\n",
    "    negativities_per_class.append([])\n",
    "    entropies_per_class.append([])"
   ]
  },
  {
   "cell_type": "code",
   "execution_count": null,
   "metadata": {},
   "outputs": [],
   "source": [
    "%%time\n",
    "scores_list = []\n",
    "f1scores_list = []\n",
    "\n",
    "for max_iter in range(1, 1000, range_step):\n",
    "    dic_training_params[\"max_iter\"] = max_iter\n",
    "    scores, f1scores, output_dict = execute_training_test_k_fold(\n",
    "                    X, \n",
    "                    y, \n",
    "                    k_folds=k_times_fold,\n",
    "                    random_seed=1, \n",
    "                    classifier_function=iqc_classifier, \n",
    "                    dic_classifier_params=dic_classifier_params,\n",
    "                    one_vs_classifier=OneVsRestClassifier, \n",
    "                    dic_training_params=dic_training_params,\n",
    "                    print_each_fold_metric=True,\n",
    "                    print_avg_metric=True)\n",
    "    scores_list.append(np.mean(scores))\n",
    "    f1scores_list.append(np.mean(f1scores))\n",
    "\n",
    "    for clazz in range(len(set(y))):\n",
    "        negativities_per_class[clazz].append(np.mean(output_dict[\"negativities\"][clazz]))\n",
    "        entropies_per_class[clazz].append(np.mean(output_dict[\"entropies\"][clazz]))"
   ]
  },
  {
   "cell_type": "code",
   "execution_count": null,
   "metadata": {},
   "outputs": [],
   "source": [
    "%run printing_methods.ipynb"
   ]
  }
 ],
 "metadata": {
  "language_info": {
   "name": "python"
  },
  "orig_nbformat": 4
 },
 "nbformat": 4,
 "nbformat_minor": 2
}
