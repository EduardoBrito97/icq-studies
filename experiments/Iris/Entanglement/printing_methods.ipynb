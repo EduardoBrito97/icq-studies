{
 "cells": [
  {
   "cell_type": "code",
   "execution_count": null,
   "metadata": {},
   "outputs": [],
   "source": [
    "import sys, os\n",
    "import numpy as np\n",
    "\n",
    "sys.path.append(os.path.abspath('../../../training'))\n",
    "from plot_graphs import plot_graph_mult_lines"
   ]
  },
  {
   "cell_type": "code",
   "execution_count": null,
   "metadata": {},
   "outputs": [],
   "source": [
    "if not('range_step' in locals() or 'range_step' in globals()):\n",
    "    range_step = 20"
   ]
  },
  {
   "cell_type": "code",
   "execution_count": null,
   "metadata": {},
   "outputs": [],
   "source": [
    "def print_score(scores_list):\n",
    "    max_score_index = np.argmax(scores_list)\n",
    "    max_score = scores_list[max_score_index]\n",
    "    print(\"Maior Score atingido com\", max_score_index * range_step + 1, \"épocas:\", max_score)\n",
    "\n",
    "    print()\n",
    "    print(scores_list)\n",
    "    print()\n",
    "    print()"
   ]
  },
  {
   "cell_type": "code",
   "execution_count": null,
   "metadata": {},
   "outputs": [],
   "source": [
    "def print_f1score(f1scores_list):\n",
    "    max_f1_index = np.argmax(f1scores_list)\n",
    "    max_f1 = f1scores_list[max_f1_index]\n",
    "    print(\"Maior F1Score atingido com\", max_f1_index * range_step + 1, \"épocas:\", max_f1)\n",
    "\n",
    "    print()\n",
    "    print(f1scores_list)\n",
    "    print()\n",
    "    print()"
   ]
  },
  {
   "cell_type": "code",
   "execution_count": null,
   "metadata": {},
   "outputs": [],
   "source": [
    "def print_negativities(negativities_per_class, scores_list):\n",
    "    print(\"Negativities ao longo do treinamento\")\n",
    "    for clazz in range(len(negativities_per_class)):\n",
    "        print(\"Classe\", clazz, negativities_per_class[clazz])\n",
    "    print()\n",
    "    print()\n",
    "    plot_graph_mult_lines(negativities_per_class, scores_list, \"negativity\", \"accuracy\")"
   ]
  },
  {
   "cell_type": "code",
   "execution_count": null,
   "metadata": {},
   "outputs": [],
   "source": [
    "def print_entropies(entropies_per_class, scores_list):\n",
    "    print(\"Entropies ao longo do treinamento\")\n",
    "    for clazz in range(len(entropies_per_class)):\n",
    "        print(\"Classe\", clazz, entropies_per_class[clazz])\n",
    "    print()\n",
    "    print()\n",
    "    plot_graph_mult_lines(entropies_per_class, scores_list, \"entropy\", \"accuracy\")"
   ]
  }
 ],
 "metadata": {
  "language_info": {
   "name": "python"
  },
  "orig_nbformat": 4
 },
 "nbformat": 4,
 "nbformat_minor": 2
}
