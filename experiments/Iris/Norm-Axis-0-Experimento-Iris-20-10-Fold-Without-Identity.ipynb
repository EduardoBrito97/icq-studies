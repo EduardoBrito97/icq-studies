{
 "cells": [
  {
   "cell_type": "code",
   "execution_count": 1,
   "id": "0db239e0",
   "metadata": {},
   "outputs": [
    {
     "name": "stderr",
     "output_type": "stream",
     "text": [
      "Intel(R) Extension for Scikit-learn* enabled (https://github.com/intel/scikit-learn-intelex)\n"
     ]
    }
   ],
   "source": [
    "import sys, os\n",
    "sys.path.append(os.path.abspath('../../classifiers'))\n",
    "sys.path.append(os.path.abspath('../../training'))\n",
    "sys.path.append(os.path.abspath('../../validation'))\n",
    "from validation_functions import execute_training_test_k_fold\n",
    "from classifiers_ICQ import iqc_classifier\n",
    "\n",
    "from sklearn.multiclass import OneVsRestClassifier\n",
    "import numpy as np\n",
    "from sklearn import datasets\n",
    "\n",
    "iris = datasets.load_iris()\n",
    "\n",
    "X = iris.data[:, [0,1,2,3]]\n",
    "y = iris.target\n",
    "\n",
    "classifier_function = iqc_classifier\n",
    "dic_classifier_params = {}\n",
    "dic_classifier_params[\"sigma_q_params\"] = [1,1,1,0]\n",
    "dic_classifier_params[\"use_polar_coordinates_on_sigma_q\"] = False\n",
    "dic_classifier_params[\"load_inputvector_env_state\"] = False\n",
    "\n",
    "dic_training_params = {\"max_iter\": 1000,\n",
    "    \"accuracy_succ\": 0.99,\n",
    "    \"plot_graphs_and_metrics\": False,\n",
    "    \"plot_graphs_in_classifier\": False,\n",
    "    \"random_seed\": 1,\n",
    "    \"learning_rate\": 0.01,\n",
    "    \"refit_db\":True,\n",
    "    \"reset_weights_epoch\":0,\n",
    "    \"do_classes_refit\":True,\n",
    "    \"batch\":False}\n",
    "\n",
    "n_times_kfold = 20\n",
    "k_times_fold = 10"
   ]
  },
  {
   "cell_type": "code",
   "execution_count": 2,
   "id": "ca21ba5e",
   "metadata": {},
   "outputs": [
    {
     "name": "stderr",
     "output_type": "stream",
     "text": [
      "[Parallel(n_jobs=-1)]: Using backend LokyBackend with 12 concurrent workers.\n",
      "[Parallel(n_jobs=-1)]: Done   3 out of   3 | elapsed:  1.1min finished\n",
      "[Parallel(n_jobs=-1)]: Using backend LokyBackend with 12 concurrent workers.\n"
     ]
    },
    {
     "name": "stdout",
     "output_type": "stream",
     "text": [
      "K-Fold #0\n",
      "Mean negativities for all classes: [0.3732796081244299, 0.3880812347191941, 0.38469039236653213]\n",
      "Mean entropies for all classes: [3.6833338251102945e-15, 2.5256378689393755e-15, 4.1525120494055055e-15]\n",
      "              precision    recall  f1-score   support\n",
      "\n",
      "           0       0.33      0.40      0.36         5\n",
      "           1       0.00      0.00      0.00         5\n",
      "           2       0.67      0.40      0.50         5\n",
      "\n",
      "    accuracy                           0.27        15\n",
      "   macro avg       0.33      0.27      0.29        15\n",
      "weighted avg       0.33      0.27      0.29        15\n",
      "\n",
      "-------------------------------------------------------------------------------------------------------------------\n"
     ]
    },
    {
     "name": "stderr",
     "output_type": "stream",
     "text": [
      "[Parallel(n_jobs=-1)]: Done   3 out of   3 | elapsed:  1.1min finished\n",
      "[Parallel(n_jobs=-1)]: Using backend LokyBackend with 12 concurrent workers.\n"
     ]
    },
    {
     "name": "stdout",
     "output_type": "stream",
     "text": [
      "K-Fold #1\n",
      "Mean negativities for all classes: [0.363688238858142, 0.3771247954245537, 0.3869615786271479]\n",
      "Mean entropies for all classes: [4.029933316251332e-15, 3.4404435915954677e-15, 2.9343482304924066e-15]\n",
      "              precision    recall  f1-score   support\n",
      "\n",
      "           0       0.17      0.20      0.18         5\n",
      "           1       0.14      0.20      0.17         5\n",
      "           2       1.00      0.40      0.57         5\n",
      "\n",
      "    accuracy                           0.27        15\n",
      "   macro avg       0.44      0.27      0.31        15\n",
      "weighted avg       0.44      0.27      0.31        15\n",
      "\n",
      "-------------------------------------------------------------------------------------------------------------------\n"
     ]
    },
    {
     "name": "stderr",
     "output_type": "stream",
     "text": [
      "[Parallel(n_jobs=-1)]: Done   3 out of   3 | elapsed:  1.1min finished\n",
      "[Parallel(n_jobs=-1)]: Using backend LokyBackend with 12 concurrent workers.\n"
     ]
    },
    {
     "name": "stdout",
     "output_type": "stream",
     "text": [
      "K-Fold #2\n",
      "Mean negativities for all classes: [0.36129426520994673, 0.380670090451927, 0.3815536979879805]\n",
      "Mean entropies for all classes: [3.1255460634730193e-15, 3.936479223792504e-15, 4.172056959124832e-15]\n",
      "              precision    recall  f1-score   support\n",
      "\n",
      "           0       0.40      0.40      0.40         5\n",
      "           1       0.22      0.40      0.29         5\n",
      "           2       0.00      0.00      0.00         5\n",
      "\n",
      "    accuracy                           0.27        15\n",
      "   macro avg       0.21      0.27      0.23        15\n",
      "weighted avg       0.21      0.27      0.23        15\n",
      "\n",
      "-------------------------------------------------------------------------------------------------------------------\n"
     ]
    },
    {
     "name": "stderr",
     "output_type": "stream",
     "text": [
      "[Parallel(n_jobs=-1)]: Done   3 out of   3 | elapsed:  1.1min finished\n",
      "[Parallel(n_jobs=-1)]: Using backend LokyBackend with 12 concurrent workers.\n"
     ]
    },
    {
     "name": "stdout",
     "output_type": "stream",
     "text": [
      "K-Fold #3\n",
      "Mean negativities for all classes: [0.3680498166089497, 0.38139519756083706, 0.3781620920524971]\n",
      "Mean entropies for all classes: [3.3743932487716787e-15, 3.9582801099450985e-15, 3.008516463656873e-15]\n",
      "              precision    recall  f1-score   support\n",
      "\n",
      "           0       0.25      0.20      0.22         5\n",
      "           1       0.00      0.00      0.00         5\n",
      "           2       0.00      0.00      0.00         5\n",
      "\n",
      "    accuracy                           0.07        15\n",
      "   macro avg       0.08      0.07      0.07        15\n",
      "weighted avg       0.08      0.07      0.07        15\n",
      "\n",
      "-------------------------------------------------------------------------------------------------------------------\n"
     ]
    },
    {
     "name": "stderr",
     "output_type": "stream",
     "text": [
      "[Parallel(n_jobs=-1)]: Done   3 out of   3 | elapsed:  1.0min finished\n",
      "c:\\ProgramData\\Anaconda3\\lib\\site-packages\\sklearn\\metrics\\_classification.py:1344: UndefinedMetricWarning: Precision and F-score are ill-defined and being set to 0.0 in labels with no predicted samples. Use `zero_division` parameter to control this behavior.\n",
      "  _warn_prf(average, modifier, msg_start, len(result))\n",
      "c:\\ProgramData\\Anaconda3\\lib\\site-packages\\sklearn\\metrics\\_classification.py:1344: UndefinedMetricWarning: Precision and F-score are ill-defined and being set to 0.0 in labels with no predicted samples. Use `zero_division` parameter to control this behavior.\n",
      "  _warn_prf(average, modifier, msg_start, len(result))\n",
      "c:\\ProgramData\\Anaconda3\\lib\\site-packages\\sklearn\\metrics\\_classification.py:1344: UndefinedMetricWarning: Precision and F-score are ill-defined and being set to 0.0 in labels with no predicted samples. Use `zero_division` parameter to control this behavior.\n",
      "  _warn_prf(average, modifier, msg_start, len(result))\n",
      "[Parallel(n_jobs=-1)]: Using backend LokyBackend with 12 concurrent workers.\n"
     ]
    },
    {
     "name": "stdout",
     "output_type": "stream",
     "text": [
      "K-Fold #4\n",
      "Mean negativities for all classes: [0.3748391155499356, 0.3766215455262979, 0.3863813548198279]\n",
      "Mean entropies for all classes: [4.1485636984467185e-15, 3.780754304609436e-15, 3.2591629852633953e-15]\n",
      "              precision    recall  f1-score   support\n",
      "\n",
      "           0       0.33      0.40      0.36         5\n",
      "           1       0.33      0.60      0.43         5\n",
      "           2       0.00      0.00      0.00         5\n",
      "\n",
      "    accuracy                           0.33        15\n",
      "   macro avg       0.22      0.33      0.26        15\n",
      "weighted avg       0.22      0.33      0.26        15\n",
      "\n",
      "-------------------------------------------------------------------------------------------------------------------\n"
     ]
    },
    {
     "name": "stderr",
     "output_type": "stream",
     "text": [
      "[Parallel(n_jobs=-1)]: Done   3 out of   3 | elapsed:  1.0min finished\n",
      "[Parallel(n_jobs=-1)]: Using backend LokyBackend with 12 concurrent workers.\n"
     ]
    },
    {
     "name": "stdout",
     "output_type": "stream",
     "text": [
      "K-Fold #5\n",
      "Mean negativities for all classes: [0.36920357189647196, 0.38721187923893674, 0.37650318946010525]\n",
      "Mean entropies for all classes: [2.937059169680079e-15, 2.717663360017881e-15, 3.1837806549332207e-15]\n",
      "              precision    recall  f1-score   support\n",
      "\n",
      "           0       0.43      0.60      0.50         5\n",
      "           1       0.00      0.00      0.00         5\n",
      "           2       0.33      0.20      0.25         5\n",
      "\n",
      "    accuracy                           0.27        15\n",
      "   macro avg       0.25      0.27      0.25        15\n",
      "weighted avg       0.25      0.27      0.25        15\n",
      "\n",
      "-------------------------------------------------------------------------------------------------------------------\n"
     ]
    },
    {
     "name": "stderr",
     "output_type": "stream",
     "text": [
      "[Parallel(n_jobs=-1)]: Done   3 out of   3 | elapsed:  1.0min finished\n",
      "[Parallel(n_jobs=-1)]: Using backend LokyBackend with 12 concurrent workers.\n"
     ]
    },
    {
     "name": "stdout",
     "output_type": "stream",
     "text": [
      "K-Fold #6\n",
      "Mean negativities for all classes: [0.38130776871353983, 0.3842838416608333, 0.3804883132237648]\n",
      "Mean entropies for all classes: [3.4303620798929835e-15, 3.8589999057723435e-15, 3.793355377747331e-15]\n",
      "              precision    recall  f1-score   support\n",
      "\n",
      "           0       0.67      0.40      0.50         5\n",
      "           1       0.00      0.00      0.00         5\n",
      "           2       0.00      0.00      0.00         5\n",
      "\n",
      "    accuracy                           0.13        15\n",
      "   macro avg       0.22      0.13      0.17        15\n",
      "weighted avg       0.22      0.13      0.17        15\n",
      "\n",
      "-------------------------------------------------------------------------------------------------------------------\n"
     ]
    },
    {
     "name": "stderr",
     "output_type": "stream",
     "text": [
      "[Parallel(n_jobs=-1)]: Done   3 out of   3 | elapsed:  1.0min finished\n",
      "c:\\ProgramData\\Anaconda3\\lib\\site-packages\\sklearn\\metrics\\_classification.py:1344: UndefinedMetricWarning: Precision and F-score are ill-defined and being set to 0.0 in labels with no predicted samples. Use `zero_division` parameter to control this behavior.\n",
      "  _warn_prf(average, modifier, msg_start, len(result))\n",
      "c:\\ProgramData\\Anaconda3\\lib\\site-packages\\sklearn\\metrics\\_classification.py:1344: UndefinedMetricWarning: Precision and F-score are ill-defined and being set to 0.0 in labels with no predicted samples. Use `zero_division` parameter to control this behavior.\n",
      "  _warn_prf(average, modifier, msg_start, len(result))\n",
      "c:\\ProgramData\\Anaconda3\\lib\\site-packages\\sklearn\\metrics\\_classification.py:1344: UndefinedMetricWarning: Precision and F-score are ill-defined and being set to 0.0 in labels with no predicted samples. Use `zero_division` parameter to control this behavior.\n",
      "  _warn_prf(average, modifier, msg_start, len(result))\n",
      "[Parallel(n_jobs=-1)]: Using backend LokyBackend with 12 concurrent workers.\n"
     ]
    },
    {
     "name": "stdout",
     "output_type": "stream",
     "text": [
      "K-Fold #7\n",
      "Mean negativities for all classes: [0.3705463798465305, 0.38518276051736805, 0.3837222594581259]\n",
      "Mean entropies for all classes: [3.200601312948312e-15, 4.013365055938172e-15, 3.120640867376402e-15]\n",
      "              precision    recall  f1-score   support\n",
      "\n",
      "           0       0.38      0.60      0.46         5\n",
      "           1       0.29      0.40      0.33         5\n",
      "           2       0.00      0.00      0.00         5\n",
      "\n",
      "    accuracy                           0.33        15\n",
      "   macro avg       0.22      0.33      0.26        15\n",
      "weighted avg       0.22      0.33      0.26        15\n",
      "\n",
      "-------------------------------------------------------------------------------------------------------------------\n"
     ]
    },
    {
     "name": "stderr",
     "output_type": "stream",
     "text": [
      "[Parallel(n_jobs=-1)]: Done   3 out of   3 | elapsed:  1.0min finished\n",
      "[Parallel(n_jobs=-1)]: Using backend LokyBackend with 12 concurrent workers.\n"
     ]
    },
    {
     "name": "stdout",
     "output_type": "stream",
     "text": [
      "K-Fold #8\n",
      "Mean negativities for all classes: [0.36552744607907056, 0.3783836844852365, 0.38254251661841665]\n",
      "Mean entropies for all classes: [3.2627276818215584e-15, 3.1629591384064077e-15, 3.0483612532368125e-15]\n",
      "              precision    recall  f1-score   support\n",
      "\n",
      "           0       0.12      0.20      0.15         5\n",
      "           1       0.00      0.00      0.00         5\n",
      "           2       1.00      0.20      0.33         5\n",
      "\n",
      "    accuracy                           0.13        15\n",
      "   macro avg       0.38      0.13      0.16        15\n",
      "weighted avg       0.38      0.13      0.16        15\n",
      "\n",
      "-------------------------------------------------------------------------------------------------------------------\n"
     ]
    },
    {
     "name": "stderr",
     "output_type": "stream",
     "text": [
      "[Parallel(n_jobs=-1)]: Done   3 out of   3 | elapsed:  1.0min finished\n",
      "[Parallel(n_jobs=-1)]: Using backend LokyBackend with 12 concurrent workers.\n"
     ]
    },
    {
     "name": "stdout",
     "output_type": "stream",
     "text": [
      "K-Fold #9\n",
      "Mean negativities for all classes: [0.35631640467666276, 0.38092522343066515, 0.37695516644912097]\n",
      "Mean entropies for all classes: [3.174283401405186e-15, 3.748423788164123e-15, 4.181802736854237e-15]\n",
      "              precision    recall  f1-score   support\n",
      "\n",
      "           0       0.80      0.80      0.80         5\n",
      "           1       0.38      0.60      0.46         5\n",
      "           2       0.00      0.00      0.00         5\n",
      "\n",
      "    accuracy                           0.47        15\n",
      "   macro avg       0.39      0.47      0.42        15\n",
      "weighted avg       0.39      0.47      0.42        15\n",
      "\n",
      "-------------------------------------------------------------------------------------------------------------------\n",
      "AVG: Scores = 0.25333333333333335 F1-Scores = 0.24257612757612756 Negativity = [0.3820170784033854, 0.37592487096994787, 0.3745060178832848] Entropy = [3.4538279144850584e-15, 3.4682417127797354e-15, 3.744694082130118e-15]\n"
     ]
    },
    {
     "name": "stderr",
     "output_type": "stream",
     "text": [
      "[Parallel(n_jobs=-1)]: Done   3 out of   3 | elapsed:  1.0min finished\n",
      "c:\\ProgramData\\Anaconda3\\lib\\site-packages\\sklearn\\metrics\\_classification.py:1344: UndefinedMetricWarning: Precision and F-score are ill-defined and being set to 0.0 in labels with no predicted samples. Use `zero_division` parameter to control this behavior.\n",
      "  _warn_prf(average, modifier, msg_start, len(result))\n",
      "c:\\ProgramData\\Anaconda3\\lib\\site-packages\\sklearn\\metrics\\_classification.py:1344: UndefinedMetricWarning: Precision and F-score are ill-defined and being set to 0.0 in labels with no predicted samples. Use `zero_division` parameter to control this behavior.\n",
      "  _warn_prf(average, modifier, msg_start, len(result))\n",
      "c:\\ProgramData\\Anaconda3\\lib\\site-packages\\sklearn\\metrics\\_classification.py:1344: UndefinedMetricWarning: Precision and F-score are ill-defined and being set to 0.0 in labels with no predicted samples. Use `zero_division` parameter to control this behavior.\n",
      "  _warn_prf(average, modifier, msg_start, len(result))\n",
      "[Parallel(n_jobs=-1)]: Using backend LokyBackend with 12 concurrent workers.\n"
     ]
    },
    {
     "name": "stdout",
     "output_type": "stream",
     "text": [
      "K-Fold #0\n",
      "Mean negativities for all classes: [0.3657453128889475, 0.38184064056461925, 0.38152102694208984]\n",
      "Mean entropies for all classes: [3.3476676197599735e-15, 3.9069683482277324e-15, 2.9171447002841728e-15]\n",
      "              precision    recall  f1-score   support\n",
      "\n",
      "           0       0.50      0.60      0.55         5\n",
      "           1       0.33      0.60      0.43         5\n",
      "           2       0.00      0.00      0.00         5\n",
      "\n",
      "    accuracy                           0.40        15\n",
      "   macro avg       0.28      0.40      0.32        15\n",
      "weighted avg       0.28      0.40      0.32        15\n",
      "\n",
      "-------------------------------------------------------------------------------------------------------------------\n"
     ]
    },
    {
     "name": "stderr",
     "output_type": "stream",
     "text": [
      "[Parallel(n_jobs=-1)]: Done   3 out of   3 | elapsed:  1.0min finished\n",
      "c:\\ProgramData\\Anaconda3\\lib\\site-packages\\sklearn\\metrics\\_classification.py:1344: UndefinedMetricWarning: Precision and F-score are ill-defined and being set to 0.0 in labels with no predicted samples. Use `zero_division` parameter to control this behavior.\n",
      "  _warn_prf(average, modifier, msg_start, len(result))\n",
      "c:\\ProgramData\\Anaconda3\\lib\\site-packages\\sklearn\\metrics\\_classification.py:1344: UndefinedMetricWarning: Precision and F-score are ill-defined and being set to 0.0 in labels with no predicted samples. Use `zero_division` parameter to control this behavior.\n",
      "  _warn_prf(average, modifier, msg_start, len(result))\n",
      "c:\\ProgramData\\Anaconda3\\lib\\site-packages\\sklearn\\metrics\\_classification.py:1344: UndefinedMetricWarning: Precision and F-score are ill-defined and being set to 0.0 in labels with no predicted samples. Use `zero_division` parameter to control this behavior.\n",
      "  _warn_prf(average, modifier, msg_start, len(result))\n",
      "[Parallel(n_jobs=-1)]: Using backend LokyBackend with 12 concurrent workers.\n"
     ]
    },
    {
     "name": "stdout",
     "output_type": "stream",
     "text": [
      "K-Fold #1\n",
      "Mean negativities for all classes: [0.37006415150154676, 0.3838913896634557, 0.38397161061798724]\n",
      "Mean entropies for all classes: [3.561560637090966e-15, 4.206603412356589e-15, 3.1701570719875567e-15]\n",
      "              precision    recall  f1-score   support\n",
      "\n",
      "           0       0.43      0.60      0.50         5\n",
      "           1       0.38      0.60      0.46         5\n",
      "           2       0.00      0.00      0.00         5\n",
      "\n",
      "    accuracy                           0.40        15\n",
      "   macro avg       0.27      0.40      0.32        15\n",
      "weighted avg       0.27      0.40      0.32        15\n",
      "\n",
      "-------------------------------------------------------------------------------------------------------------------\n"
     ]
    },
    {
     "name": "stderr",
     "output_type": "stream",
     "text": [
      "[Parallel(n_jobs=-1)]: Done   3 out of   3 | elapsed:  1.0min finished\n",
      "[Parallel(n_jobs=-1)]: Using backend LokyBackend with 12 concurrent workers.\n"
     ]
    },
    {
     "name": "stdout",
     "output_type": "stream",
     "text": [
      "K-Fold #2\n",
      "Mean negativities for all classes: [0.38063244453037826, 0.3916010787885988, 0.38432362824035043]\n",
      "Mean entropies for all classes: [3.0473721361856765e-15, 4.114967200773992e-15, 3.2475856902714084e-15]\n",
      "              precision    recall  f1-score   support\n",
      "\n",
      "           0       0.43      0.60      0.50         5\n",
      "           1       0.29      0.40      0.33         5\n",
      "           2       1.00      0.20      0.33         5\n",
      "\n",
      "    accuracy                           0.40        15\n",
      "   macro avg       0.57      0.40      0.39        15\n",
      "weighted avg       0.57      0.40      0.39        15\n",
      "\n",
      "-------------------------------------------------------------------------------------------------------------------\n"
     ]
    },
    {
     "name": "stderr",
     "output_type": "stream",
     "text": [
      "[Parallel(n_jobs=-1)]: Done   3 out of   3 | elapsed:  1.0min finished\n",
      "c:\\ProgramData\\Anaconda3\\lib\\site-packages\\sklearn\\metrics\\_classification.py:1344: UndefinedMetricWarning: Precision and F-score are ill-defined and being set to 0.0 in labels with no predicted samples. Use `zero_division` parameter to control this behavior.\n",
      "  _warn_prf(average, modifier, msg_start, len(result))\n",
      "c:\\ProgramData\\Anaconda3\\lib\\site-packages\\sklearn\\metrics\\_classification.py:1344: UndefinedMetricWarning: Precision and F-score are ill-defined and being set to 0.0 in labels with no predicted samples. Use `zero_division` parameter to control this behavior.\n",
      "  _warn_prf(average, modifier, msg_start, len(result))\n",
      "c:\\ProgramData\\Anaconda3\\lib\\site-packages\\sklearn\\metrics\\_classification.py:1344: UndefinedMetricWarning: Precision and F-score are ill-defined and being set to 0.0 in labels with no predicted samples. Use `zero_division` parameter to control this behavior.\n",
      "  _warn_prf(average, modifier, msg_start, len(result))\n",
      "[Parallel(n_jobs=-1)]: Using backend LokyBackend with 12 concurrent workers.\n"
     ]
    },
    {
     "name": "stdout",
     "output_type": "stream",
     "text": [
      "K-Fold #3\n",
      "Mean negativities for all classes: [0.3522118220890181, 0.380366918027847, 0.38349295117096893]\n",
      "Mean entropies for all classes: [3.4564992532270436e-15, 3.6363411145062654e-15, 3.40862007523091e-15]\n",
      "              precision    recall  f1-score   support\n",
      "\n",
      "           0       0.25      0.40      0.31         5\n",
      "           1       0.00      0.00      0.00         5\n",
      "           2       0.00      0.00      0.00         5\n",
      "\n",
      "    accuracy                           0.13        15\n",
      "   macro avg       0.08      0.13      0.10        15\n",
      "weighted avg       0.08      0.13      0.10        15\n",
      "\n",
      "-------------------------------------------------------------------------------------------------------------------\n"
     ]
    },
    {
     "name": "stderr",
     "output_type": "stream",
     "text": [
      "[Parallel(n_jobs=-1)]: Done   3 out of   3 | elapsed:  1.0min finished\n",
      "[Parallel(n_jobs=-1)]: Using backend LokyBackend with 12 concurrent workers.\n"
     ]
    },
    {
     "name": "stdout",
     "output_type": "stream",
     "text": [
      "K-Fold #4\n",
      "Mean negativities for all classes: [0.37123896340505497, 0.38879644311981626, 0.38116468722354274]\n",
      "Mean entropies for all classes: [3.2950872741116868e-15, 3.416985863164824e-15, 3.775289657003569e-15]\n",
      "              precision    recall  f1-score   support\n",
      "\n",
      "           0       0.25      0.20      0.22         5\n",
      "           1       0.11      0.20      0.14         5\n",
      "           2       0.50      0.20      0.29         5\n",
      "\n",
      "    accuracy                           0.20        15\n",
      "   macro avg       0.29      0.20      0.22        15\n",
      "weighted avg       0.29      0.20      0.22        15\n",
      "\n",
      "-------------------------------------------------------------------------------------------------------------------\n"
     ]
    },
    {
     "name": "stderr",
     "output_type": "stream",
     "text": [
      "[Parallel(n_jobs=-1)]: Done   3 out of   3 | elapsed:  1.0min finished\n",
      "[Parallel(n_jobs=-1)]: Using backend LokyBackend with 12 concurrent workers.\n"
     ]
    },
    {
     "name": "stdout",
     "output_type": "stream",
     "text": [
      "K-Fold #5\n",
      "Mean negativities for all classes: [0.3729306898816306, 0.37928469460119385, 0.3753920201218233]\n",
      "Mean entropies for all classes: [3.873542750859824e-15, 3.922258148598647e-15, 4.322283826186813e-15]\n",
      "              precision    recall  f1-score   support\n",
      "\n",
      "           0       0.29      0.40      0.33         5\n",
      "           1       0.00      0.00      0.00         5\n",
      "           2       0.33      0.20      0.25         5\n",
      "\n",
      "    accuracy                           0.20        15\n",
      "   macro avg       0.21      0.20      0.19        15\n",
      "weighted avg       0.21      0.20      0.19        15\n",
      "\n",
      "-------------------------------------------------------------------------------------------------------------------\n"
     ]
    },
    {
     "name": "stderr",
     "output_type": "stream",
     "text": [
      "[Parallel(n_jobs=-1)]: Done   3 out of   3 | elapsed:  1.0min finished\n",
      "[Parallel(n_jobs=-1)]: Using backend LokyBackend with 12 concurrent workers.\n"
     ]
    },
    {
     "name": "stdout",
     "output_type": "stream",
     "text": [
      "K-Fold #6\n",
      "Mean negativities for all classes: [0.36791364949599564, 0.3767048282431858, 0.3295275850066825]\n",
      "Mean entropies for all classes: [3.414435906960064e-15, 4.0782272238732855e-15, 3.191787122213592e-15]\n",
      "              precision    recall  f1-score   support\n",
      "\n",
      "           0       0.43      0.60      0.50         5\n",
      "           1       0.00      0.00      0.00         5\n",
      "           2       0.00      0.00      0.00         5\n",
      "\n",
      "    accuracy                           0.20        15\n",
      "   macro avg       0.14      0.20      0.17        15\n",
      "weighted avg       0.14      0.20      0.17        15\n",
      "\n",
      "-------------------------------------------------------------------------------------------------------------------\n"
     ]
    },
    {
     "name": "stderr",
     "output_type": "stream",
     "text": [
      "[Parallel(n_jobs=-1)]: Done   3 out of   3 | elapsed:  1.0min finished\n",
      "[Parallel(n_jobs=-1)]: Using backend LokyBackend with 12 concurrent workers.\n"
     ]
    },
    {
     "name": "stdout",
     "output_type": "stream",
     "text": [
      "K-Fold #7\n",
      "Mean negativities for all classes: [0.36080726932500123, 0.38756232828449844, 0.3802567904150116]\n",
      "Mean entropies for all classes: [3.3978741239962043e-15, 3.5508560849746036e-15, 3.744159910994062e-15]\n",
      "              precision    recall  f1-score   support\n",
      "\n",
      "           0       0.29      0.40      0.33         5\n",
      "           1       0.33      0.40      0.36         5\n",
      "           2       0.50      0.20      0.29         5\n",
      "\n",
      "    accuracy                           0.33        15\n",
      "   macro avg       0.37      0.33      0.33        15\n",
      "weighted avg       0.37      0.33      0.33        15\n",
      "\n",
      "-------------------------------------------------------------------------------------------------------------------\n"
     ]
    },
    {
     "name": "stderr",
     "output_type": "stream",
     "text": [
      "[Parallel(n_jobs=-1)]: Done   3 out of   3 | elapsed:  1.0min finished\n",
      "[Parallel(n_jobs=-1)]: Using backend LokyBackend with 12 concurrent workers.\n"
     ]
    },
    {
     "name": "stdout",
     "output_type": "stream",
     "text": [
      "K-Fold #8\n",
      "Mean negativities for all classes: [0.3631071634978172, 0.36585455188291827, 0.37891909693121933]\n",
      "Mean entropies for all classes: [3.2591107829570878e-15, 3.3651148469346564e-15, 3.369802404298348e-15]\n",
      "              precision    recall  f1-score   support\n",
      "\n",
      "           0       0.50      0.20      0.29         5\n",
      "           1       0.20      0.40      0.27         5\n",
      "           2       0.33      0.20      0.25         5\n",
      "\n",
      "    accuracy                           0.27        15\n",
      "   macro avg       0.34      0.27      0.27        15\n",
      "weighted avg       0.34      0.27      0.27        15\n",
      "\n",
      "-------------------------------------------------------------------------------------------------------------------\n"
     ]
    },
    {
     "name": "stderr",
     "output_type": "stream",
     "text": [
      "[Parallel(n_jobs=-1)]: Done   3 out of   3 | elapsed:  1.0min finished\n",
      "c:\\ProgramData\\Anaconda3\\lib\\site-packages\\sklearn\\metrics\\_classification.py:1344: UndefinedMetricWarning: Precision and F-score are ill-defined and being set to 0.0 in labels with no predicted samples. Use `zero_division` parameter to control this behavior.\n",
      "  _warn_prf(average, modifier, msg_start, len(result))\n",
      "c:\\ProgramData\\Anaconda3\\lib\\site-packages\\sklearn\\metrics\\_classification.py:1344: UndefinedMetricWarning: Precision and F-score are ill-defined and being set to 0.0 in labels with no predicted samples. Use `zero_division` parameter to control this behavior.\n",
      "  _warn_prf(average, modifier, msg_start, len(result))\n",
      "c:\\ProgramData\\Anaconda3\\lib\\site-packages\\sklearn\\metrics\\_classification.py:1344: UndefinedMetricWarning: Precision and F-score are ill-defined and being set to 0.0 in labels with no predicted samples. Use `zero_division` parameter to control this behavior.\n",
      "  _warn_prf(average, modifier, msg_start, len(result))\n",
      "[Parallel(n_jobs=-1)]: Using backend LokyBackend with 12 concurrent workers.\n"
     ]
    },
    {
     "name": "stdout",
     "output_type": "stream",
     "text": [
      "K-Fold #9\n",
      "Mean negativities for all classes: [0.369425848678958, 0.3704565820269475, 0.3867877654973392]\n",
      "Mean entropies for all classes: [3.4020398762762704e-15, 3.623131236798055e-15, 3.156562554493331e-15]\n",
      "              precision    recall  f1-score   support\n",
      "\n",
      "           0       0.50      0.40      0.44         5\n",
      "           1       0.27      0.60      0.37         5\n",
      "           2       0.00      0.00      0.00         5\n",
      "\n",
      "    accuracy                           0.33        15\n",
      "   macro avg       0.26      0.33      0.27        15\n",
      "weighted avg       0.26      0.33      0.27        15\n",
      "\n",
      "-------------------------------------------------------------------------------------------------------------------\n",
      "AVG: Scores = 0.2866666666666667 F1-Scores = 0.2582853257853258 Negativity = [0.37636899346521885, 0.3793090505943299, 0.3855190505197758] Entropy = [3.3905935560906265e-15, 3.64610704047837e-15, 3.4699750090770258e-15]\n"
     ]
    },
    {
     "name": "stderr",
     "output_type": "stream",
     "text": [
      "[Parallel(n_jobs=-1)]: Done   3 out of   3 | elapsed:  1.0min finished\n",
      "[Parallel(n_jobs=-1)]: Using backend LokyBackend with 12 concurrent workers.\n"
     ]
    },
    {
     "name": "stdout",
     "output_type": "stream",
     "text": [
      "K-Fold #0\n",
      "Mean negativities for all classes: [0.38223200976840965, 0.37749440204119017, 0.37384257024172834]\n",
      "Mean entropies for all classes: [3.610746790133678e-15, 2.8620418386370554e-15, 3.4912855786811066e-15]\n",
      "              precision    recall  f1-score   support\n",
      "\n",
      "           0       0.50      0.40      0.44         5\n",
      "           1       0.25      0.40      0.31         5\n",
      "           2       0.33      0.20      0.25         5\n",
      "\n",
      "    accuracy                           0.33        15\n",
      "   macro avg       0.36      0.33      0.33        15\n",
      "weighted avg       0.36      0.33      0.33        15\n",
      "\n",
      "-------------------------------------------------------------------------------------------------------------------\n"
     ]
    },
    {
     "name": "stderr",
     "output_type": "stream",
     "text": [
      "[Parallel(n_jobs=-1)]: Done   3 out of   3 | elapsed:  1.0min finished\n",
      "c:\\ProgramData\\Anaconda3\\lib\\site-packages\\sklearn\\metrics\\_classification.py:1344: UndefinedMetricWarning: Precision and F-score are ill-defined and being set to 0.0 in labels with no predicted samples. Use `zero_division` parameter to control this behavior.\n",
      "  _warn_prf(average, modifier, msg_start, len(result))\n",
      "c:\\ProgramData\\Anaconda3\\lib\\site-packages\\sklearn\\metrics\\_classification.py:1344: UndefinedMetricWarning: Precision and F-score are ill-defined and being set to 0.0 in labels with no predicted samples. Use `zero_division` parameter to control this behavior.\n",
      "  _warn_prf(average, modifier, msg_start, len(result))\n",
      "c:\\ProgramData\\Anaconda3\\lib\\site-packages\\sklearn\\metrics\\_classification.py:1344: UndefinedMetricWarning: Precision and F-score are ill-defined and being set to 0.0 in labels with no predicted samples. Use `zero_division` parameter to control this behavior.\n",
      "  _warn_prf(average, modifier, msg_start, len(result))\n",
      "[Parallel(n_jobs=-1)]: Using backend LokyBackend with 12 concurrent workers.\n"
     ]
    },
    {
     "name": "stdout",
     "output_type": "stream",
     "text": [
      "K-Fold #1\n",
      "Mean negativities for all classes: [0.3680246672899187, 0.3817259371678895, 0.3891569914985576]\n",
      "Mean entropies for all classes: [3.4469260388955637e-15, 3.856640045992958e-15, 3.726604927764435e-15]\n",
      "              precision    recall  f1-score   support\n",
      "\n",
      "           0       0.30      0.60      0.40         5\n",
      "           1       0.20      0.20      0.20         5\n",
      "           2       0.00      0.00      0.00         5\n",
      "\n",
      "    accuracy                           0.27        15\n",
      "   macro avg       0.17      0.27      0.20        15\n",
      "weighted avg       0.17      0.27      0.20        15\n",
      "\n",
      "-------------------------------------------------------------------------------------------------------------------\n"
     ]
    },
    {
     "name": "stderr",
     "output_type": "stream",
     "text": [
      "[Parallel(n_jobs=-1)]: Done   3 out of   3 | elapsed:  1.0min finished\n",
      "[Parallel(n_jobs=-1)]: Using backend LokyBackend with 12 concurrent workers.\n"
     ]
    },
    {
     "name": "stdout",
     "output_type": "stream",
     "text": [
      "K-Fold #2\n",
      "Mean negativities for all classes: [0.3636422254719721, 0.3803203239777461, 0.3802531548347749]\n",
      "Mean entropies for all classes: [4.1082716807056744e-15, 3.7388030699593155e-15, 3.998335849719749e-15]\n",
      "              precision    recall  f1-score   support\n",
      "\n",
      "           0       0.50      0.40      0.44         5\n",
      "           1       0.11      0.20      0.14         5\n",
      "           2       0.00      0.00      0.00         5\n",
      "\n",
      "    accuracy                           0.20        15\n",
      "   macro avg       0.20      0.20      0.20        15\n",
      "weighted avg       0.20      0.20      0.20        15\n",
      "\n",
      "-------------------------------------------------------------------------------------------------------------------\n"
     ]
    },
    {
     "name": "stderr",
     "output_type": "stream",
     "text": [
      "[Parallel(n_jobs=-1)]: Done   3 out of   3 | elapsed:  1.0min finished\n",
      "[Parallel(n_jobs=-1)]: Using backend LokyBackend with 12 concurrent workers.\n"
     ]
    },
    {
     "name": "stdout",
     "output_type": "stream",
     "text": [
      "K-Fold #3\n",
      "Mean negativities for all classes: [0.3622001763389425, 0.3856662361434557, 0.3863036649368697]\n",
      "Mean entropies for all classes: [3.5187038964544393e-15, 4.3626354056638125e-15, 2.891779373877174e-15]\n",
      "              precision    recall  f1-score   support\n",
      "\n",
      "           0       0.38      0.60      0.46         5\n",
      "           1       0.17      0.20      0.18         5\n",
      "           2       1.00      0.20      0.33         5\n",
      "\n",
      "    accuracy                           0.33        15\n",
      "   macro avg       0.51      0.33      0.33        15\n",
      "weighted avg       0.51      0.33      0.33        15\n",
      "\n",
      "-------------------------------------------------------------------------------------------------------------------\n"
     ]
    },
    {
     "name": "stderr",
     "output_type": "stream",
     "text": [
      "[Parallel(n_jobs=-1)]: Done   3 out of   3 | elapsed:  1.0min finished\n",
      "[Parallel(n_jobs=-1)]: Using backend LokyBackend with 12 concurrent workers.\n"
     ]
    },
    {
     "name": "stdout",
     "output_type": "stream",
     "text": [
      "K-Fold #4\n",
      "Mean negativities for all classes: [0.3634167567229293, 0.3779306770029593, 0.37989191237062536]\n",
      "Mean entropies for all classes: [4.03969552545324e-15, 3.974652265581815e-15, 3.4797949148764794e-15]\n",
      "              precision    recall  f1-score   support\n",
      "\n",
      "           0       0.60      0.60      0.60         5\n",
      "           1       0.14      0.20      0.17         5\n",
      "           2       0.33      0.20      0.25         5\n",
      "\n",
      "    accuracy                           0.33        15\n",
      "   macro avg       0.36      0.33      0.34        15\n",
      "weighted avg       0.36      0.33      0.34        15\n",
      "\n",
      "-------------------------------------------------------------------------------------------------------------------\n"
     ]
    },
    {
     "name": "stderr",
     "output_type": "stream",
     "text": [
      "[Parallel(n_jobs=-1)]: Done   3 out of   3 | elapsed:  1.0min finished\n",
      "[Parallel(n_jobs=-1)]: Using backend LokyBackend with 12 concurrent workers.\n"
     ]
    },
    {
     "name": "stdout",
     "output_type": "stream",
     "text": [
      "K-Fold #5\n",
      "Mean negativities for all classes: [0.3652499949715544, 0.3858008027629144, 0.37879385643799635]\n",
      "Mean entropies for all classes: [3.482489433768658e-15, 3.8403162220968396e-15, 3.1510418607091087e-15]\n",
      "              precision    recall  f1-score   support\n",
      "\n",
      "           0       0.25      0.40      0.31         5\n",
      "           1       0.00      0.00      0.00         5\n",
      "           2       0.00      0.00      0.00         5\n",
      "\n",
      "    accuracy                           0.13        15\n",
      "   macro avg       0.08      0.13      0.10        15\n",
      "weighted avg       0.08      0.13      0.10        15\n",
      "\n",
      "-------------------------------------------------------------------------------------------------------------------\n"
     ]
    },
    {
     "name": "stderr",
     "output_type": "stream",
     "text": [
      "[Parallel(n_jobs=-1)]: Done   3 out of   3 | elapsed:  1.0min finished\n",
      "[Parallel(n_jobs=-1)]: Using backend LokyBackend with 12 concurrent workers.\n"
     ]
    },
    {
     "name": "stdout",
     "output_type": "stream",
     "text": [
      "K-Fold #6\n",
      "Mean negativities for all classes: [0.3658663189305428, 0.3811527611974182, 0.3819875071359089]\n",
      "Mean entropies for all classes: [2.2945777579740955e-15, 3.0082176540720134e-15, 3.5013158255163937e-15]\n",
      "              precision    recall  f1-score   support\n",
      "\n",
      "           0       0.25      0.20      0.22         5\n",
      "           1       0.11      0.20      0.14         5\n",
      "           2       0.00      0.00      0.00         5\n",
      "\n",
      "    accuracy                           0.13        15\n",
      "   macro avg       0.12      0.13      0.12        15\n",
      "weighted avg       0.12      0.13      0.12        15\n",
      "\n",
      "-------------------------------------------------------------------------------------------------------------------\n"
     ]
    },
    {
     "name": "stderr",
     "output_type": "stream",
     "text": [
      "[Parallel(n_jobs=-1)]: Done   3 out of   3 | elapsed:  1.0min finished\n",
      "[Parallel(n_jobs=-1)]: Using backend LokyBackend with 12 concurrent workers.\n"
     ]
    },
    {
     "name": "stdout",
     "output_type": "stream",
     "text": [
      "K-Fold #7\n",
      "Mean negativities for all classes: [0.3716165123376316, 0.3859047326035855, 0.3758046576538836]\n",
      "Mean entropies for all classes: [3.1411283792595327e-15, 3.251813025780291e-15, 3.1180743185427588e-15]\n",
      "              precision    recall  f1-score   support\n",
      "\n",
      "           0       0.30      0.60      0.40         5\n",
      "           1       0.00      0.00      0.00         5\n",
      "           2       0.00      0.00      0.00         5\n",
      "\n",
      "    accuracy                           0.20        15\n",
      "   macro avg       0.10      0.20      0.13        15\n",
      "weighted avg       0.10      0.20      0.13        15\n",
      "\n",
      "-------------------------------------------------------------------------------------------------------------------\n"
     ]
    },
    {
     "name": "stderr",
     "output_type": "stream",
     "text": [
      "[Parallel(n_jobs=-1)]: Done   3 out of   3 | elapsed:  1.0min finished\n",
      "[Parallel(n_jobs=-1)]: Using backend LokyBackend with 12 concurrent workers.\n"
     ]
    },
    {
     "name": "stdout",
     "output_type": "stream",
     "text": [
      "K-Fold #8\n",
      "Mean negativities for all classes: [0.3701518825762731, 0.3844741409379211, 0.38629468502245606]\n",
      "Mean entropies for all classes: [3.2673416334868193e-15, 2.7978689304057215e-15, 3.4521712420125005e-15]\n",
      "              precision    recall  f1-score   support\n",
      "\n",
      "           0       0.44      0.80      0.57         5\n",
      "           1       0.40      0.40      0.40         5\n",
      "           2       1.00      0.20      0.33         5\n",
      "\n",
      "    accuracy                           0.47        15\n",
      "   macro avg       0.61      0.47      0.43        15\n",
      "weighted avg       0.61      0.47      0.43        15\n",
      "\n",
      "-------------------------------------------------------------------------------------------------------------------\n"
     ]
    },
    {
     "name": "stderr",
     "output_type": "stream",
     "text": [
      "[Parallel(n_jobs=-1)]: Done   3 out of   3 | elapsed:  1.0min finished\n",
      "[Parallel(n_jobs=-1)]: Using backend LokyBackend with 12 concurrent workers.\n"
     ]
    },
    {
     "name": "stdout",
     "output_type": "stream",
     "text": [
      "K-Fold #9\n",
      "Mean negativities for all classes: [0.35971958022610073, 0.38775577308318615, 0.38215254605036153]\n",
      "Mean entropies for all classes: [3.7028979163317785e-15, 3.4138143633107997e-15, 3.494539868625586e-15]\n",
      "              precision    recall  f1-score   support\n",
      "\n",
      "           0       0.38      0.60      0.46         5\n",
      "           1       0.00      0.00      0.00         5\n",
      "           2       0.00      0.00      0.00         5\n",
      "\n",
      "    accuracy                           0.20        15\n",
      "   macro avg       0.12      0.20      0.15        15\n",
      "weighted avg       0.12      0.20      0.15        15\n",
      "\n",
      "-------------------------------------------------------------------------------------------------------------------\n",
      "AVG: Scores = 0.26 F1-Scores = 0.2340622340622341 Negativity = [0.3778563273504427, 0.37963586531878857, 0.374738568094831] Entropy = [3.3213580691506133e-15, 3.676723670884318e-15, 3.948470200128246e-15]\n"
     ]
    },
    {
     "name": "stderr",
     "output_type": "stream",
     "text": [
      "[Parallel(n_jobs=-1)]: Done   3 out of   3 | elapsed:  1.0min finished\n",
      "c:\\ProgramData\\Anaconda3\\lib\\site-packages\\sklearn\\metrics\\_classification.py:1344: UndefinedMetricWarning: Precision and F-score are ill-defined and being set to 0.0 in labels with no predicted samples. Use `zero_division` parameter to control this behavior.\n",
      "  _warn_prf(average, modifier, msg_start, len(result))\n",
      "c:\\ProgramData\\Anaconda3\\lib\\site-packages\\sklearn\\metrics\\_classification.py:1344: UndefinedMetricWarning: Precision and F-score are ill-defined and being set to 0.0 in labels with no predicted samples. Use `zero_division` parameter to control this behavior.\n",
      "  _warn_prf(average, modifier, msg_start, len(result))\n",
      "c:\\ProgramData\\Anaconda3\\lib\\site-packages\\sklearn\\metrics\\_classification.py:1344: UndefinedMetricWarning: Precision and F-score are ill-defined and being set to 0.0 in labels with no predicted samples. Use `zero_division` parameter to control this behavior.\n",
      "  _warn_prf(average, modifier, msg_start, len(result))\n",
      "[Parallel(n_jobs=-1)]: Using backend LokyBackend with 12 concurrent workers.\n"
     ]
    },
    {
     "name": "stdout",
     "output_type": "stream",
     "text": [
      "K-Fold #0\n",
      "Mean negativities for all classes: [0.3685022672247167, 0.3795205999560365, 0.3848120831254134]\n",
      "Mean entropies for all classes: [3.586773063627662e-15, 3.2044948516957134e-15, 4.535791725248746e-15]\n",
      "              precision    recall  f1-score   support\n",
      "\n",
      "           0       0.40      0.40      0.40         5\n",
      "           1       0.20      0.40      0.27         5\n",
      "           2       0.00      0.00      0.00         5\n",
      "\n",
      "    accuracy                           0.27        15\n",
      "   macro avg       0.20      0.27      0.22        15\n",
      "weighted avg       0.20      0.27      0.22        15\n",
      "\n",
      "-------------------------------------------------------------------------------------------------------------------\n"
     ]
    },
    {
     "name": "stderr",
     "output_type": "stream",
     "text": [
      "[Parallel(n_jobs=-1)]: Done   3 out of   3 | elapsed:  1.0min finished\n",
      "[Parallel(n_jobs=-1)]: Using backend LokyBackend with 12 concurrent workers.\n"
     ]
    },
    {
     "name": "stdout",
     "output_type": "stream",
     "text": [
      "K-Fold #1\n",
      "Mean negativities for all classes: [0.3668887474046808, 0.3892296610883614, 0.3801148210564414]\n",
      "Mean entropies for all classes: [3.985059950372536e-15, 3.398751178632475e-15, 3.1765988743190543e-15]\n",
      "              precision    recall  f1-score   support\n",
      "\n",
      "           0       0.40      0.40      0.40         5\n",
      "           1       0.00      0.00      0.00         5\n",
      "           2       0.00      0.00      0.00         5\n",
      "\n",
      "    accuracy                           0.13        15\n",
      "   macro avg       0.13      0.13      0.13        15\n",
      "weighted avg       0.13      0.13      0.13        15\n",
      "\n",
      "-------------------------------------------------------------------------------------------------------------------\n"
     ]
    },
    {
     "name": "stderr",
     "output_type": "stream",
     "text": [
      "[Parallel(n_jobs=-1)]: Done   3 out of   3 | elapsed:  1.0min finished\n",
      "c:\\ProgramData\\Anaconda3\\lib\\site-packages\\sklearn\\metrics\\_classification.py:1344: UndefinedMetricWarning: Precision and F-score are ill-defined and being set to 0.0 in labels with no predicted samples. Use `zero_division` parameter to control this behavior.\n",
      "  _warn_prf(average, modifier, msg_start, len(result))\n",
      "c:\\ProgramData\\Anaconda3\\lib\\site-packages\\sklearn\\metrics\\_classification.py:1344: UndefinedMetricWarning: Precision and F-score are ill-defined and being set to 0.0 in labels with no predicted samples. Use `zero_division` parameter to control this behavior.\n",
      "  _warn_prf(average, modifier, msg_start, len(result))\n",
      "c:\\ProgramData\\Anaconda3\\lib\\site-packages\\sklearn\\metrics\\_classification.py:1344: UndefinedMetricWarning: Precision and F-score are ill-defined and being set to 0.0 in labels with no predicted samples. Use `zero_division` parameter to control this behavior.\n",
      "  _warn_prf(average, modifier, msg_start, len(result))\n",
      "[Parallel(n_jobs=-1)]: Using backend LokyBackend with 12 concurrent workers.\n"
     ]
    },
    {
     "name": "stdout",
     "output_type": "stream",
     "text": [
      "K-Fold #2\n",
      "Mean negativities for all classes: [0.368734893938427, 0.3895843481782389, 0.16537307267275203]\n",
      "Mean entropies for all classes: [3.4363651937510225e-15, 3.1787520248932674e-15, 3.0384440040620505e-15]\n",
      "              precision    recall  f1-score   support\n",
      "\n",
      "           0       1.00      0.20      0.33         5\n",
      "           1       0.00      0.00      0.00         5\n",
      "           2       0.36      1.00      0.53         5\n",
      "\n",
      "    accuracy                           0.40        15\n",
      "   macro avg       0.45      0.40      0.29        15\n",
      "weighted avg       0.45      0.40      0.29        15\n",
      "\n",
      "-------------------------------------------------------------------------------------------------------------------\n"
     ]
    },
    {
     "name": "stderr",
     "output_type": "stream",
     "text": [
      "[Parallel(n_jobs=-1)]: Done   3 out of   3 | elapsed:  1.0min finished\n",
      "c:\\ProgramData\\Anaconda3\\lib\\site-packages\\sklearn\\metrics\\_classification.py:1344: UndefinedMetricWarning: Precision and F-score are ill-defined and being set to 0.0 in labels with no predicted samples. Use `zero_division` parameter to control this behavior.\n",
      "  _warn_prf(average, modifier, msg_start, len(result))\n",
      "c:\\ProgramData\\Anaconda3\\lib\\site-packages\\sklearn\\metrics\\_classification.py:1344: UndefinedMetricWarning: Precision and F-score are ill-defined and being set to 0.0 in labels with no predicted samples. Use `zero_division` parameter to control this behavior.\n",
      "  _warn_prf(average, modifier, msg_start, len(result))\n",
      "c:\\ProgramData\\Anaconda3\\lib\\site-packages\\sklearn\\metrics\\_classification.py:1344: UndefinedMetricWarning: Precision and F-score are ill-defined and being set to 0.0 in labels with no predicted samples. Use `zero_division` parameter to control this behavior.\n",
      "  _warn_prf(average, modifier, msg_start, len(result))\n",
      "[Parallel(n_jobs=-1)]: Using backend LokyBackend with 12 concurrent workers.\n"
     ]
    },
    {
     "name": "stdout",
     "output_type": "stream",
     "text": [
      "K-Fold #3\n",
      "Mean negativities for all classes: [0.36309465379653133, 0.38085109863944583, 0.38553153544865665]\n",
      "Mean entropies for all classes: [2.967914923311221e-15, 4.3427866155570545e-15, 3.0108496833365807e-15]\n",
      "              precision    recall  f1-score   support\n",
      "\n",
      "           0       0.29      0.40      0.33         5\n",
      "           1       0.12      0.20      0.15         5\n",
      "           2       0.00      0.00      0.00         5\n",
      "\n",
      "    accuracy                           0.20        15\n",
      "   macro avg       0.14      0.20      0.16        15\n",
      "weighted avg       0.14      0.20      0.16        15\n",
      "\n",
      "-------------------------------------------------------------------------------------------------------------------\n"
     ]
    },
    {
     "name": "stderr",
     "output_type": "stream",
     "text": [
      "[Parallel(n_jobs=-1)]: Done   3 out of   3 | elapsed:  1.0min finished\n",
      "[Parallel(n_jobs=-1)]: Using backend LokyBackend with 12 concurrent workers.\n"
     ]
    },
    {
     "name": "stdout",
     "output_type": "stream",
     "text": [
      "K-Fold #4\n",
      "Mean negativities for all classes: [0.375719562983639, 0.39262686239469424, 0.37639544424341914]\n",
      "Mean entropies for all classes: [2.751761958485583e-15, 3.132620322311869e-15, 3.3806384350436657e-15]\n",
      "              precision    recall  f1-score   support\n",
      "\n",
      "           0       0.60      0.60      0.60         5\n",
      "           1       0.33      0.40      0.36         5\n",
      "           2       0.50      0.40      0.44         5\n",
      "\n",
      "    accuracy                           0.47        15\n",
      "   macro avg       0.48      0.47      0.47        15\n",
      "weighted avg       0.48      0.47      0.47        15\n",
      "\n",
      "-------------------------------------------------------------------------------------------------------------------\n"
     ]
    },
    {
     "name": "stderr",
     "output_type": "stream",
     "text": [
      "[Parallel(n_jobs=-1)]: Done   3 out of   3 | elapsed:  1.0min finished\n",
      "[Parallel(n_jobs=-1)]: Using backend LokyBackend with 12 concurrent workers.\n"
     ]
    },
    {
     "name": "stdout",
     "output_type": "stream",
     "text": [
      "K-Fold #5\n",
      "Mean negativities for all classes: [0.3638453299139047, 0.37672499648156604, 0.37340957952389675]\n",
      "Mean entropies for all classes: [4.185127121510434e-15, 3.710959655617019e-15, 3.3665077599381205e-15]\n",
      "              precision    recall  f1-score   support\n",
      "\n",
      "           0       0.75      0.60      0.67         5\n",
      "           1       0.44      0.80      0.57         5\n",
      "           2       0.50      0.20      0.29         5\n",
      "\n",
      "    accuracy                           0.53        15\n",
      "   macro avg       0.56      0.53      0.51        15\n",
      "weighted avg       0.56      0.53      0.51        15\n",
      "\n",
      "-------------------------------------------------------------------------------------------------------------------\n"
     ]
    },
    {
     "name": "stderr",
     "output_type": "stream",
     "text": [
      "[Parallel(n_jobs=-1)]: Done   3 out of   3 | elapsed:  1.0min finished\n",
      "[Parallel(n_jobs=-1)]: Using backend LokyBackend with 12 concurrent workers.\n"
     ]
    },
    {
     "name": "stdout",
     "output_type": "stream",
     "text": [
      "K-Fold #6\n",
      "Mean negativities for all classes: [0.3678339258076503, 0.3889060551805522, 0.3832935092410425]\n",
      "Mean entropies for all classes: [3.064709384005385e-15, 2.9582422218587875e-15, 2.9440445084550254e-15]\n",
      "              precision    recall  f1-score   support\n",
      "\n",
      "           0       0.38      0.60      0.46         5\n",
      "           1       0.17      0.20      0.18         5\n",
      "           2       0.00      0.00      0.00         5\n",
      "\n",
      "    accuracy                           0.27        15\n",
      "   macro avg       0.18      0.27      0.21        15\n",
      "weighted avg       0.18      0.27      0.21        15\n",
      "\n",
      "-------------------------------------------------------------------------------------------------------------------\n"
     ]
    },
    {
     "name": "stderr",
     "output_type": "stream",
     "text": [
      "[Parallel(n_jobs=-1)]: Done   3 out of   3 | elapsed:  1.0min finished\n",
      "c:\\ProgramData\\Anaconda3\\lib\\site-packages\\sklearn\\metrics\\_classification.py:1344: UndefinedMetricWarning: Precision and F-score are ill-defined and being set to 0.0 in labels with no predicted samples. Use `zero_division` parameter to control this behavior.\n",
      "  _warn_prf(average, modifier, msg_start, len(result))\n",
      "c:\\ProgramData\\Anaconda3\\lib\\site-packages\\sklearn\\metrics\\_classification.py:1344: UndefinedMetricWarning: Precision and F-score are ill-defined and being set to 0.0 in labels with no predicted samples. Use `zero_division` parameter to control this behavior.\n",
      "  _warn_prf(average, modifier, msg_start, len(result))\n",
      "c:\\ProgramData\\Anaconda3\\lib\\site-packages\\sklearn\\metrics\\_classification.py:1344: UndefinedMetricWarning: Precision and F-score are ill-defined and being set to 0.0 in labels with no predicted samples. Use `zero_division` parameter to control this behavior.\n",
      "  _warn_prf(average, modifier, msg_start, len(result))\n",
      "[Parallel(n_jobs=-1)]: Using backend LokyBackend with 12 concurrent workers.\n"
     ]
    },
    {
     "name": "stdout",
     "output_type": "stream",
     "text": [
      "K-Fold #7\n",
      "Mean negativities for all classes: [0.3581204004867497, 0.3768585052827658, 0.38609844917696673]\n",
      "Mean entropies for all classes: [3.2973932852514048e-15, 3.5306267728528087e-15, 2.41719891538761e-15]\n",
      "              precision    recall  f1-score   support\n",
      "\n",
      "           0       0.40      0.40      0.40         5\n",
      "           1       0.30      0.60      0.40         5\n",
      "           2       0.00      0.00      0.00         5\n",
      "\n",
      "    accuracy                           0.33        15\n",
      "   macro avg       0.23      0.33      0.27        15\n",
      "weighted avg       0.23      0.33      0.27        15\n",
      "\n",
      "-------------------------------------------------------------------------------------------------------------------\n"
     ]
    },
    {
     "name": "stderr",
     "output_type": "stream",
     "text": [
      "[Parallel(n_jobs=-1)]: Done   3 out of   3 | elapsed:  1.0min finished\n",
      "[Parallel(n_jobs=-1)]: Using backend LokyBackend with 12 concurrent workers.\n"
     ]
    },
    {
     "name": "stdout",
     "output_type": "stream",
     "text": [
      "K-Fold #8\n",
      "Mean negativities for all classes: [0.36515902657223176, 0.3806281627576062, 0.3731050008842039]\n",
      "Mean entropies for all classes: [3.656119096449064e-15, 3.869359672036041e-15, 3.957637589121893e-15]\n",
      "              precision    recall  f1-score   support\n",
      "\n",
      "           0       0.38      0.60      0.46         5\n",
      "           1       0.33      0.40      0.36         5\n",
      "           2       0.00      0.00      0.00         5\n",
      "\n",
      "    accuracy                           0.33        15\n",
      "   macro avg       0.24      0.33      0.28        15\n",
      "weighted avg       0.24      0.33      0.28        15\n",
      "\n",
      "-------------------------------------------------------------------------------------------------------------------\n"
     ]
    },
    {
     "name": "stderr",
     "output_type": "stream",
     "text": [
      "[Parallel(n_jobs=-1)]: Done   3 out of   3 | elapsed:  1.0min finished\n",
      "[Parallel(n_jobs=-1)]: Using backend LokyBackend with 12 concurrent workers.\n"
     ]
    },
    {
     "name": "stdout",
     "output_type": "stream",
     "text": [
      "K-Fold #9\n",
      "Mean negativities for all classes: [0.3684610797551624, 0.3807764802973221, 0.38041995210555307]\n",
      "Mean entropies for all classes: [3.3931111952582437e-15, 3.927214205528875e-15, 3.5624080853906335e-15]\n",
      "              precision    recall  f1-score   support\n",
      "\n",
      "           0       0.33      0.40      0.36         5\n",
      "           1       0.00      0.00      0.00         5\n",
      "           2       0.00      0.00      0.00         5\n",
      "\n",
      "    accuracy                           0.13        15\n",
      "   macro avg       0.11      0.13      0.12        15\n",
      "weighted avg       0.11      0.13      0.12        15\n",
      "\n",
      "-------------------------------------------------------------------------------------------------------------------\n",
      "AVG: Scores = 0.3066666666666667 F1-Scores = 0.2659184480237112 Negativity = [0.3776116501020555, 0.3787444098498278, 0.3078974382631393] Entropy = [3.775686546857374e-15, 3.520136667774688e-15, 3.2178537409021135e-15]\n"
     ]
    },
    {
     "name": "stderr",
     "output_type": "stream",
     "text": [
      "[Parallel(n_jobs=-1)]: Done   3 out of   3 | elapsed:  1.0min finished\n",
      "[Parallel(n_jobs=-1)]: Using backend LokyBackend with 12 concurrent workers.\n"
     ]
    },
    {
     "name": "stdout",
     "output_type": "stream",
     "text": [
      "K-Fold #0\n",
      "Mean negativities for all classes: [0.3613733216958138, 0.38194150871687976, 0.38651450335226645]\n",
      "Mean entropies for all classes: [3.493422404609833e-15, 4.421797983008147e-15, 3.606961319522956e-15]\n",
      "              precision    recall  f1-score   support\n",
      "\n",
      "           0       0.50      0.60      0.55         5\n",
      "           1       0.29      0.40      0.33         5\n",
      "           2       0.50      0.20      0.29         5\n",
      "\n",
      "    accuracy                           0.40        15\n",
      "   macro avg       0.43      0.40      0.39        15\n",
      "weighted avg       0.43      0.40      0.39        15\n",
      "\n",
      "-------------------------------------------------------------------------------------------------------------------\n"
     ]
    },
    {
     "name": "stderr",
     "output_type": "stream",
     "text": [
      "[Parallel(n_jobs=-1)]: Done   3 out of   3 | elapsed:  1.0min finished\n",
      "[Parallel(n_jobs=-1)]: Using backend LokyBackend with 12 concurrent workers.\n"
     ]
    },
    {
     "name": "stdout",
     "output_type": "stream",
     "text": [
      "K-Fold #1\n",
      "Mean negativities for all classes: [0.3686125367913902, 0.3915817533235896, 0.3729161047542578]\n",
      "Mean entropies for all classes: [3.3484469030366565e-15, 4.301294903733893e-15, 3.4831570265760764e-15]\n",
      "              precision    recall  f1-score   support\n",
      "\n",
      "           0       0.60      0.60      0.60         5\n",
      "           1       0.00      0.00      0.00         5\n",
      "           2       0.25      0.20      0.22         5\n",
      "\n",
      "    accuracy                           0.27        15\n",
      "   macro avg       0.28      0.27      0.27        15\n",
      "weighted avg       0.28      0.27      0.27        15\n",
      "\n",
      "-------------------------------------------------------------------------------------------------------------------\n"
     ]
    },
    {
     "name": "stderr",
     "output_type": "stream",
     "text": [
      "[Parallel(n_jobs=-1)]: Done   3 out of   3 | elapsed:  1.0min finished\n",
      "c:\\ProgramData\\Anaconda3\\lib\\site-packages\\sklearn\\metrics\\_classification.py:1344: UndefinedMetricWarning: Precision and F-score are ill-defined and being set to 0.0 in labels with no predicted samples. Use `zero_division` parameter to control this behavior.\n",
      "  _warn_prf(average, modifier, msg_start, len(result))\n",
      "c:\\ProgramData\\Anaconda3\\lib\\site-packages\\sklearn\\metrics\\_classification.py:1344: UndefinedMetricWarning: Precision and F-score are ill-defined and being set to 0.0 in labels with no predicted samples. Use `zero_division` parameter to control this behavior.\n",
      "  _warn_prf(average, modifier, msg_start, len(result))\n",
      "c:\\ProgramData\\Anaconda3\\lib\\site-packages\\sklearn\\metrics\\_classification.py:1344: UndefinedMetricWarning: Precision and F-score are ill-defined and being set to 0.0 in labels with no predicted samples. Use `zero_division` parameter to control this behavior.\n",
      "  _warn_prf(average, modifier, msg_start, len(result))\n",
      "[Parallel(n_jobs=-1)]: Using backend LokyBackend with 12 concurrent workers.\n"
     ]
    },
    {
     "name": "stdout",
     "output_type": "stream",
     "text": [
      "K-Fold #2\n",
      "Mean negativities for all classes: [0.3728572514602716, 0.38903932665426455, 0.3825323906329265]\n",
      "Mean entropies for all classes: [3.3961928514463074e-15, 3.824046252862904e-15, 4.929010374953009e-15]\n",
      "              precision    recall  f1-score   support\n",
      "\n",
      "           0       0.43      0.60      0.50         5\n",
      "           1       0.25      0.40      0.31         5\n",
      "           2       0.00      0.00      0.00         5\n",
      "\n",
      "    accuracy                           0.33        15\n",
      "   macro avg       0.23      0.33      0.27        15\n",
      "weighted avg       0.23      0.33      0.27        15\n",
      "\n",
      "-------------------------------------------------------------------------------------------------------------------\n"
     ]
    },
    {
     "name": "stderr",
     "output_type": "stream",
     "text": [
      "[Parallel(n_jobs=-1)]: Done   3 out of   3 | elapsed:  1.0min finished\n",
      "[Parallel(n_jobs=-1)]: Using backend LokyBackend with 12 concurrent workers.\n"
     ]
    },
    {
     "name": "stdout",
     "output_type": "stream",
     "text": [
      "K-Fold #3\n",
      "Mean negativities for all classes: [0.35858138411540247, 0.3834121893108347, 0.38166311462857627]\n",
      "Mean entropies for all classes: [3.583774639510065e-15, 3.3066334128919124e-15, 3.688209058777722e-15]\n",
      "              precision    recall  f1-score   support\n",
      "\n",
      "           0       0.60      0.60      0.60         5\n",
      "           1       0.12      0.20      0.15         5\n",
      "           2       0.00      0.00      0.00         5\n",
      "\n",
      "    accuracy                           0.27        15\n",
      "   macro avg       0.24      0.27      0.25        15\n",
      "weighted avg       0.24      0.27      0.25        15\n",
      "\n",
      "-------------------------------------------------------------------------------------------------------------------\n"
     ]
    },
    {
     "name": "stderr",
     "output_type": "stream",
     "text": [
      "[Parallel(n_jobs=-1)]: Done   3 out of   3 | elapsed:  1.0min finished\n",
      "[Parallel(n_jobs=-1)]: Using backend LokyBackend with 12 concurrent workers.\n"
     ]
    },
    {
     "name": "stdout",
     "output_type": "stream",
     "text": [
      "K-Fold #4\n",
      "Mean negativities for all classes: [0.3585046742858228, 0.3857026093772159, 0.3744883101173416]\n",
      "Mean entropies for all classes: [3.5165063978269575e-15, 3.0871282004164508e-15, 3.4273010995788194e-15]\n",
      "              precision    recall  f1-score   support\n",
      "\n",
      "           0       0.50      0.80      0.62         5\n",
      "           1       0.20      0.20      0.20         5\n",
      "           2       0.50      0.20      0.29         5\n",
      "\n",
      "    accuracy                           0.40        15\n",
      "   macro avg       0.40      0.40      0.37        15\n",
      "weighted avg       0.40      0.40      0.37        15\n",
      "\n",
      "-------------------------------------------------------------------------------------------------------------------\n"
     ]
    },
    {
     "name": "stderr",
     "output_type": "stream",
     "text": [
      "[Parallel(n_jobs=-1)]: Done   3 out of   3 | elapsed:  1.0min finished\n",
      "[Parallel(n_jobs=-1)]: Using backend LokyBackend with 12 concurrent workers.\n"
     ]
    },
    {
     "name": "stdout",
     "output_type": "stream",
     "text": [
      "K-Fold #5\n",
      "Mean negativities for all classes: [0.3767646319915329, 0.3745431389323003, 0.38211852881271297]\n",
      "Mean entropies for all classes: [3.924512155115792e-15, 3.4632420046673585e-15, 3.928739792902152e-15]\n",
      "              precision    recall  f1-score   support\n",
      "\n",
      "           0       0.33      0.20      0.25         5\n",
      "           1       0.20      0.40      0.27         5\n",
      "           2       0.50      0.20      0.29         5\n",
      "\n",
      "    accuracy                           0.27        15\n",
      "   macro avg       0.34      0.27      0.27        15\n",
      "weighted avg       0.34      0.27      0.27        15\n",
      "\n",
      "-------------------------------------------------------------------------------------------------------------------\n"
     ]
    },
    {
     "name": "stderr",
     "output_type": "stream",
     "text": [
      "[Parallel(n_jobs=-1)]: Done   3 out of   3 | elapsed:  1.0min finished\n",
      "[Parallel(n_jobs=-1)]: Using backend LokyBackend with 12 concurrent workers.\n"
     ]
    },
    {
     "name": "stdout",
     "output_type": "stream",
     "text": [
      "K-Fold #6\n",
      "Mean negativities for all classes: [0.37028461259776735, 0.3775824063228849, 0.3895008201181722]\n",
      "Mean entropies for all classes: [3.109776094558336e-15, 3.314543749957464e-15, 3.837038896711786e-15]\n",
      "              precision    recall  f1-score   support\n",
      "\n",
      "           0       0.33      0.40      0.36         5\n",
      "           1       0.38      0.60      0.46         5\n",
      "           2       1.00      0.20      0.33         5\n",
      "\n",
      "    accuracy                           0.40        15\n",
      "   macro avg       0.57      0.40      0.39        15\n",
      "weighted avg       0.57      0.40      0.39        15\n",
      "\n",
      "-------------------------------------------------------------------------------------------------------------------\n"
     ]
    },
    {
     "name": "stderr",
     "output_type": "stream",
     "text": [
      "[Parallel(n_jobs=-1)]: Done   3 out of   3 | elapsed:  1.0min finished\n",
      "[Parallel(n_jobs=-1)]: Using backend LokyBackend with 12 concurrent workers.\n"
     ]
    },
    {
     "name": "stdout",
     "output_type": "stream",
     "text": [
      "K-Fold #7\n",
      "Mean negativities for all classes: [0.36388374951525876, 0.38160989173689175, 0.37889497524659327]\n",
      "Mean entropies for all classes: [3.8635905426826e-15, 3.770693954331103e-15, 3.923470107237293e-15]\n",
      "              precision    recall  f1-score   support\n",
      "\n",
      "           0       0.17      0.20      0.18         5\n",
      "           1       0.00      0.00      0.00         5\n",
      "           2       0.67      0.40      0.50         5\n",
      "\n",
      "    accuracy                           0.20        15\n",
      "   macro avg       0.28      0.20      0.23        15\n",
      "weighted avg       0.28      0.20      0.23        15\n",
      "\n",
      "-------------------------------------------------------------------------------------------------------------------\n"
     ]
    },
    {
     "name": "stderr",
     "output_type": "stream",
     "text": [
      "[Parallel(n_jobs=-1)]: Done   3 out of   3 | elapsed:  1.0min finished\n",
      "[Parallel(n_jobs=-1)]: Using backend LokyBackend with 12 concurrent workers.\n"
     ]
    },
    {
     "name": "stdout",
     "output_type": "stream",
     "text": [
      "K-Fold #8\n",
      "Mean negativities for all classes: [0.366072355069755, 0.38741711637355325, 0.38205033519437237]\n",
      "Mean entropies for all classes: [3.9718035815460756e-15, 3.965134000807326e-15, 3.509323191200642e-15]\n",
      "              precision    recall  f1-score   support\n",
      "\n",
      "           0       0.40      0.40      0.40         5\n",
      "           1       0.00      0.00      0.00         5\n",
      "           2       0.00      0.00      0.00         5\n",
      "\n",
      "    accuracy                           0.13        15\n",
      "   macro avg       0.13      0.13      0.13        15\n",
      "weighted avg       0.13      0.13      0.13        15\n",
      "\n",
      "-------------------------------------------------------------------------------------------------------------------\n"
     ]
    },
    {
     "name": "stderr",
     "output_type": "stream",
     "text": [
      "[Parallel(n_jobs=-1)]: Done   3 out of   3 | elapsed:  1.0min finished\n",
      "[Parallel(n_jobs=-1)]: Using backend LokyBackend with 12 concurrent workers.\n"
     ]
    },
    {
     "name": "stdout",
     "output_type": "stream",
     "text": [
      "K-Fold #9\n",
      "Mean negativities for all classes: [0.36383079175827043, 0.3767423098780512, 0.38053636231044213]\n",
      "Mean entropies for all classes: [2.973161654351899e-15, 4.478109740421227e-15, 4.76909888161015e-15]\n",
      "              precision    recall  f1-score   support\n",
      "\n",
      "           0       0.33      0.40      0.36         5\n",
      "           1       0.14      0.20      0.17         5\n",
      "           2       0.00      0.00      0.00         5\n",
      "\n",
      "    accuracy                           0.20        15\n",
      "   macro avg       0.16      0.20      0.18        15\n",
      "weighted avg       0.16      0.20      0.18        15\n",
      "\n",
      "-------------------------------------------------------------------------------------------------------------------\n",
      "AVG: Scores = 0.2866666666666667 F1-Scores = 0.2740790690790691 Negativity = [0.37660977792165334, 0.37770346495641255, 0.3814763229158209] Entropy = [3.8407272357136455e-15, 3.7109662777822086e-15, 4.04974982642074e-15]\n"
     ]
    },
    {
     "name": "stderr",
     "output_type": "stream",
     "text": [
      "[Parallel(n_jobs=-1)]: Done   3 out of   3 | elapsed:  1.0min finished\n",
      "[Parallel(n_jobs=-1)]: Using backend LokyBackend with 12 concurrent workers.\n"
     ]
    },
    {
     "name": "stdout",
     "output_type": "stream",
     "text": [
      "K-Fold #0\n",
      "Mean negativities for all classes: [0.37336977625946377, 0.3853987498584883, 0.37465157261765275]\n",
      "Mean entropies for all classes: [3.4054502233195895e-15, 3.4767559510287027e-15, 3.006031951098507e-15]\n",
      "              precision    recall  f1-score   support\n",
      "\n",
      "           0       0.40      0.40      0.40         5\n",
      "           1       0.17      0.20      0.18         5\n",
      "           2       0.50      0.40      0.44         5\n",
      "\n",
      "    accuracy                           0.33        15\n",
      "   macro avg       0.36      0.33      0.34        15\n",
      "weighted avg       0.36      0.33      0.34        15\n",
      "\n",
      "-------------------------------------------------------------------------------------------------------------------\n"
     ]
    },
    {
     "name": "stderr",
     "output_type": "stream",
     "text": [
      "[Parallel(n_jobs=-1)]: Done   3 out of   3 | elapsed:  1.0min finished\n",
      "[Parallel(n_jobs=-1)]: Using backend LokyBackend with 12 concurrent workers.\n"
     ]
    },
    {
     "name": "stdout",
     "output_type": "stream",
     "text": [
      "K-Fold #1\n",
      "Mean negativities for all classes: [0.3682107901269591, 0.3827477780137774, 0.38372550935015315]\n",
      "Mean entropies for all classes: [3.332306911185913e-15, 4.1820767608781096e-15, 3.2517673144625503e-15]\n",
      "              precision    recall  f1-score   support\n",
      "\n",
      "           0       0.25      0.20      0.22         5\n",
      "           1       0.30      0.60      0.40         5\n",
      "           2       0.00      0.00      0.00         5\n",
      "\n",
      "    accuracy                           0.27        15\n",
      "   macro avg       0.18      0.27      0.21        15\n",
      "weighted avg       0.18      0.27      0.21        15\n",
      "\n",
      "-------------------------------------------------------------------------------------------------------------------\n"
     ]
    },
    {
     "name": "stderr",
     "output_type": "stream",
     "text": [
      "[Parallel(n_jobs=-1)]: Done   3 out of   3 | elapsed:  1.0min finished\n",
      "[Parallel(n_jobs=-1)]: Using backend LokyBackend with 12 concurrent workers.\n"
     ]
    },
    {
     "name": "stdout",
     "output_type": "stream",
     "text": [
      "K-Fold #2\n",
      "Mean negativities for all classes: [0.36800833133610966, 0.37824384465928307, 0.3823354207627837]\n",
      "Mean entropies for all classes: [4.3089149798402785e-15, 3.279522370631465e-15, 3.0253509682016535e-15]\n",
      "              precision    recall  f1-score   support\n",
      "\n",
      "           0       0.43      0.60      0.50         5\n",
      "           1       0.00      0.00      0.00         5\n",
      "           2       0.00      0.00      0.00         5\n",
      "\n",
      "    accuracy                           0.20        15\n",
      "   macro avg       0.14      0.20      0.17        15\n",
      "weighted avg       0.14      0.20      0.17        15\n",
      "\n",
      "-------------------------------------------------------------------------------------------------------------------\n"
     ]
    },
    {
     "name": "stderr",
     "output_type": "stream",
     "text": [
      "[Parallel(n_jobs=-1)]: Done   3 out of   3 | elapsed:  1.0min finished\n",
      "[Parallel(n_jobs=-1)]: Using backend LokyBackend with 12 concurrent workers.\n"
     ]
    },
    {
     "name": "stdout",
     "output_type": "stream",
     "text": [
      "K-Fold #3\n",
      "Mean negativities for all classes: [0.3697241758286437, 0.38339220235658833, 0.3748003054475095]\n",
      "Mean entropies for all classes: [3.587738507499309e-15, 3.626233293771158e-15, 3.5933704220819485e-15]\n",
      "              precision    recall  f1-score   support\n",
      "\n",
      "           0       0.40      0.40      0.40         5\n",
      "           1       0.25      0.40      0.31         5\n",
      "           2       0.00      0.00      0.00         5\n",
      "\n",
      "    accuracy                           0.27        15\n",
      "   macro avg       0.22      0.27      0.24        15\n",
      "weighted avg       0.22      0.27      0.24        15\n",
      "\n",
      "-------------------------------------------------------------------------------------------------------------------\n"
     ]
    },
    {
     "name": "stderr",
     "output_type": "stream",
     "text": [
      "[Parallel(n_jobs=-1)]: Done   3 out of   3 | elapsed:  1.0min finished\n",
      "c:\\ProgramData\\Anaconda3\\lib\\site-packages\\sklearn\\metrics\\_classification.py:1344: UndefinedMetricWarning: Precision and F-score are ill-defined and being set to 0.0 in labels with no predicted samples. Use `zero_division` parameter to control this behavior.\n",
      "  _warn_prf(average, modifier, msg_start, len(result))\n",
      "c:\\ProgramData\\Anaconda3\\lib\\site-packages\\sklearn\\metrics\\_classification.py:1344: UndefinedMetricWarning: Precision and F-score are ill-defined and being set to 0.0 in labels with no predicted samples. Use `zero_division` parameter to control this behavior.\n",
      "  _warn_prf(average, modifier, msg_start, len(result))\n",
      "c:\\ProgramData\\Anaconda3\\lib\\site-packages\\sklearn\\metrics\\_classification.py:1344: UndefinedMetricWarning: Precision and F-score are ill-defined and being set to 0.0 in labels with no predicted samples. Use `zero_division` parameter to control this behavior.\n",
      "  _warn_prf(average, modifier, msg_start, len(result))\n",
      "[Parallel(n_jobs=-1)]: Using backend LokyBackend with 12 concurrent workers.\n"
     ]
    },
    {
     "name": "stdout",
     "output_type": "stream",
     "text": [
      "K-Fold #4\n",
      "Mean negativities for all classes: [0.35695800316846105, 0.3859897267906479, 0.38616618122507484]\n",
      "Mean entropies for all classes: [3.380616489230148e-15, 3.899439362940317e-15, 3.4857907806052244e-15]\n",
      "              precision    recall  f1-score   support\n",
      "\n",
      "           0       0.67      0.80      0.73         5\n",
      "           1       0.33      0.60      0.43         5\n",
      "           2       0.00      0.00      0.00         5\n",
      "\n",
      "    accuracy                           0.47        15\n",
      "   macro avg       0.33      0.47      0.39        15\n",
      "weighted avg       0.33      0.47      0.39        15\n",
      "\n",
      "-------------------------------------------------------------------------------------------------------------------\n"
     ]
    },
    {
     "name": "stderr",
     "output_type": "stream",
     "text": [
      "[Parallel(n_jobs=-1)]: Done   3 out of   3 | elapsed:  1.0min finished\n",
      "[Parallel(n_jobs=-1)]: Using backend LokyBackend with 12 concurrent workers.\n"
     ]
    },
    {
     "name": "stdout",
     "output_type": "stream",
     "text": [
      "K-Fold #5\n",
      "Mean negativities for all classes: [0.36701394714879376, 0.3854365375276984, 0.3785294525585572]\n",
      "Mean entropies for all classes: [2.9825575254096083e-15, 3.950964294360456e-15, 3.974014925578247e-15]\n",
      "              precision    recall  f1-score   support\n",
      "\n",
      "           0       0.60      0.60      0.60         5\n",
      "           1       0.00      0.00      0.00         5\n",
      "           2       0.20      0.20      0.20         5\n",
      "\n",
      "    accuracy                           0.27        15\n",
      "   macro avg       0.27      0.27      0.27        15\n",
      "weighted avg       0.27      0.27      0.27        15\n",
      "\n",
      "-------------------------------------------------------------------------------------------------------------------\n"
     ]
    },
    {
     "name": "stderr",
     "output_type": "stream",
     "text": [
      "[Parallel(n_jobs=-1)]: Done   3 out of   3 | elapsed:  1.0min finished\n",
      "[Parallel(n_jobs=-1)]: Using backend LokyBackend with 12 concurrent workers.\n"
     ]
    },
    {
     "name": "stdout",
     "output_type": "stream",
     "text": [
      "K-Fold #6\n",
      "Mean negativities for all classes: [0.3727145570715122, 0.368244965640737, 0.38440238115663655]\n",
      "Mean entropies for all classes: [3.2702330774021904e-15, 3.126845458725901e-15, 2.9039384926816083e-15]\n",
      "              precision    recall  f1-score   support\n",
      "\n",
      "           0       0.25      0.20      0.22         5\n",
      "           1       0.10      0.20      0.13         5\n",
      "           2       0.00      0.00      0.00         5\n",
      "\n",
      "    accuracy                           0.13        15\n",
      "   macro avg       0.12      0.13      0.12        15\n",
      "weighted avg       0.12      0.13      0.12        15\n",
      "\n",
      "-------------------------------------------------------------------------------------------------------------------\n"
     ]
    },
    {
     "name": "stderr",
     "output_type": "stream",
     "text": [
      "[Parallel(n_jobs=-1)]: Done   3 out of   3 | elapsed:  1.0min finished\n",
      "[Parallel(n_jobs=-1)]: Using backend LokyBackend with 12 concurrent workers.\n"
     ]
    },
    {
     "name": "stdout",
     "output_type": "stream",
     "text": [
      "K-Fold #7\n",
      "Mean negativities for all classes: [0.35922844746673543, 0.37915592660911585, 0.38187682984247356]\n",
      "Mean entropies for all classes: [3.066090730985288e-15, 3.565109585329445e-15, 4.185273856087007e-15]\n",
      "              precision    recall  f1-score   support\n",
      "\n",
      "           0       0.40      0.40      0.40         5\n",
      "           1       0.12      0.20      0.15         5\n",
      "           2       0.00      0.00      0.00         5\n",
      "\n",
      "    accuracy                           0.20        15\n",
      "   macro avg       0.18      0.20      0.18        15\n",
      "weighted avg       0.17      0.20      0.18        15\n",
      "\n",
      "-------------------------------------------------------------------------------------------------------------------\n"
     ]
    },
    {
     "name": "stderr",
     "output_type": "stream",
     "text": [
      "[Parallel(n_jobs=-1)]: Done   3 out of   3 | elapsed:  1.0min finished\n",
      "[Parallel(n_jobs=-1)]: Using backend LokyBackend with 12 concurrent workers.\n"
     ]
    },
    {
     "name": "stdout",
     "output_type": "stream",
     "text": [
      "K-Fold #8\n",
      "Mean negativities for all classes: [0.36658084423879156, 0.3796839422984569, 0.3840847026962931]\n",
      "Mean entropies for all classes: [3.783440217349923e-15, 4.458342782109134e-15, 3.4216109038015012e-15]\n",
      "              precision    recall  f1-score   support\n",
      "\n",
      "           0       0.25      0.20      0.22         5\n",
      "           1       0.00      0.00      0.00         5\n",
      "           2       0.00      0.00      0.00         5\n",
      "\n",
      "    accuracy                           0.07        15\n",
      "   macro avg       0.08      0.07      0.07        15\n",
      "weighted avg       0.08      0.07      0.07        15\n",
      "\n",
      "-------------------------------------------------------------------------------------------------------------------\n"
     ]
    },
    {
     "name": "stderr",
     "output_type": "stream",
     "text": [
      "[Parallel(n_jobs=-1)]: Done   3 out of   3 | elapsed:  1.0min finished\n",
      "c:\\ProgramData\\Anaconda3\\lib\\site-packages\\sklearn\\metrics\\_classification.py:1344: UndefinedMetricWarning: Precision and F-score are ill-defined and being set to 0.0 in labels with no predicted samples. Use `zero_division` parameter to control this behavior.\n",
      "  _warn_prf(average, modifier, msg_start, len(result))\n",
      "c:\\ProgramData\\Anaconda3\\lib\\site-packages\\sklearn\\metrics\\_classification.py:1344: UndefinedMetricWarning: Precision and F-score are ill-defined and being set to 0.0 in labels with no predicted samples. Use `zero_division` parameter to control this behavior.\n",
      "  _warn_prf(average, modifier, msg_start, len(result))\n",
      "c:\\ProgramData\\Anaconda3\\lib\\site-packages\\sklearn\\metrics\\_classification.py:1344: UndefinedMetricWarning: Precision and F-score are ill-defined and being set to 0.0 in labels with no predicted samples. Use `zero_division` parameter to control this behavior.\n",
      "  _warn_prf(average, modifier, msg_start, len(result))\n",
      "[Parallel(n_jobs=-1)]: Using backend LokyBackend with 12 concurrent workers.\n"
     ]
    },
    {
     "name": "stdout",
     "output_type": "stream",
     "text": [
      "K-Fold #9\n",
      "Mean negativities for all classes: [0.36791221624922843, 0.3844854554455847, 0.38281556670173855]\n",
      "Mean entropies for all classes: [3.9106824616862614e-15, 3.370135039205828e-15, 3.1876166354734914e-15]\n",
      "              precision    recall  f1-score   support\n",
      "\n",
      "           0       0.14      0.20      0.17         5\n",
      "           1       0.12      0.20      0.15         5\n",
      "           2       0.00      0.00      0.00         5\n",
      "\n",
      "    accuracy                           0.13        15\n",
      "   macro avg       0.09      0.13      0.11        15\n",
      "weighted avg       0.09      0.13      0.11        15\n",
      "\n",
      "-------------------------------------------------------------------------------------------------------------------\n",
      "AVG: Scores = 0.2333333333333334 F1-Scores = 0.20880526880526878 Negativity = [0.37780669957853497, 0.3782280258302966, 0.37619586558605883] Entropy = [3.296079375148933e-15, 3.588716995508857e-15, 3.5379294395577985e-15]\n"
     ]
    },
    {
     "name": "stderr",
     "output_type": "stream",
     "text": [
      "[Parallel(n_jobs=-1)]: Done   3 out of   3 | elapsed:  1.0min finished\n",
      "[Parallel(n_jobs=-1)]: Using backend LokyBackend with 12 concurrent workers.\n"
     ]
    },
    {
     "name": "stdout",
     "output_type": "stream",
     "text": [
      "K-Fold #0\n",
      "Mean negativities for all classes: [0.37267693082836434, 0.3810114755688697, 0.37882696116730835]\n",
      "Mean entropies for all classes: [3.3700475055679992e-15, 4.489332106216659e-15, 3.846868401154852e-15]\n",
      "              precision    recall  f1-score   support\n",
      "\n",
      "           0       0.29      0.40      0.33         5\n",
      "           1       0.00      0.00      0.00         5\n",
      "           2       0.00      0.00      0.00         5\n",
      "\n",
      "    accuracy                           0.13        15\n",
      "   macro avg       0.10      0.13      0.11        15\n",
      "weighted avg       0.10      0.13      0.11        15\n",
      "\n",
      "-------------------------------------------------------------------------------------------------------------------\n"
     ]
    },
    {
     "name": "stderr",
     "output_type": "stream",
     "text": [
      "[Parallel(n_jobs=-1)]: Done   3 out of   3 | elapsed:  1.0min finished\n",
      "[Parallel(n_jobs=-1)]: Using backend LokyBackend with 12 concurrent workers.\n"
     ]
    },
    {
     "name": "stdout",
     "output_type": "stream",
     "text": [
      "K-Fold #1\n",
      "Mean negativities for all classes: [0.3703304519996703, 0.385373890141574, 0.37812102537014086]\n",
      "Mean entropies for all classes: [3.319484835002683e-15, 3.297086101567494e-15, 4.078116133164118e-15]\n",
      "              precision    recall  f1-score   support\n",
      "\n",
      "           0       0.57      0.80      0.67         5\n",
      "           1       0.33      0.40      0.36         5\n",
      "           2       0.50      0.20      0.29         5\n",
      "\n",
      "    accuracy                           0.47        15\n",
      "   macro avg       0.47      0.47      0.44        15\n",
      "weighted avg       0.47      0.47      0.44        15\n",
      "\n",
      "-------------------------------------------------------------------------------------------------------------------\n"
     ]
    },
    {
     "name": "stderr",
     "output_type": "stream",
     "text": [
      "[Parallel(n_jobs=-1)]: Done   3 out of   3 | elapsed:  1.0min finished\n",
      "c:\\ProgramData\\Anaconda3\\lib\\site-packages\\sklearn\\metrics\\_classification.py:1344: UndefinedMetricWarning: Precision and F-score are ill-defined and being set to 0.0 in labels with no predicted samples. Use `zero_division` parameter to control this behavior.\n",
      "  _warn_prf(average, modifier, msg_start, len(result))\n",
      "c:\\ProgramData\\Anaconda3\\lib\\site-packages\\sklearn\\metrics\\_classification.py:1344: UndefinedMetricWarning: Precision and F-score are ill-defined and being set to 0.0 in labels with no predicted samples. Use `zero_division` parameter to control this behavior.\n",
      "  _warn_prf(average, modifier, msg_start, len(result))\n",
      "c:\\ProgramData\\Anaconda3\\lib\\site-packages\\sklearn\\metrics\\_classification.py:1344: UndefinedMetricWarning: Precision and F-score are ill-defined and being set to 0.0 in labels with no predicted samples. Use `zero_division` parameter to control this behavior.\n",
      "  _warn_prf(average, modifier, msg_start, len(result))\n",
      "[Parallel(n_jobs=-1)]: Using backend LokyBackend with 12 concurrent workers.\n"
     ]
    },
    {
     "name": "stdout",
     "output_type": "stream",
     "text": [
      "K-Fold #2\n",
      "Mean negativities for all classes: [0.37110238253799854, 0.3819311013339798, 0.3862298006587938]\n",
      "Mean entropies for all classes: [3.1697630277624137e-15, 3.67327393330461e-15, 2.630204929182265e-15]\n",
      "              precision    recall  f1-score   support\n",
      "\n",
      "           0       0.25      0.40      0.31         5\n",
      "           1       0.00      0.00      0.00         5\n",
      "           2       0.00      0.00      0.00         5\n",
      "\n",
      "    accuracy                           0.13        15\n",
      "   macro avg       0.08      0.13      0.10        15\n",
      "weighted avg       0.08      0.13      0.10        15\n",
      "\n",
      "-------------------------------------------------------------------------------------------------------------------\n"
     ]
    },
    {
     "name": "stderr",
     "output_type": "stream",
     "text": [
      "[Parallel(n_jobs=-1)]: Done   3 out of   3 | elapsed:  1.0min finished\n",
      "[Parallel(n_jobs=-1)]: Using backend LokyBackend with 12 concurrent workers.\n"
     ]
    },
    {
     "name": "stdout",
     "output_type": "stream",
     "text": [
      "K-Fold #3\n",
      "Mean negativities for all classes: [0.3692434705255633, 0.3853759848309475, 0.3780571494699275]\n",
      "Mean entropies for all classes: [3.737511741291945e-15, 2.7059956273988126e-15, 3.689068001836887e-15]\n",
      "              precision    recall  f1-score   support\n",
      "\n",
      "           0       0.33      0.40      0.36         5\n",
      "           1       0.20      0.20      0.20         5\n",
      "           2       0.50      0.40      0.44         5\n",
      "\n",
      "    accuracy                           0.33        15\n",
      "   macro avg       0.34      0.33      0.34        15\n",
      "weighted avg       0.34      0.33      0.34        15\n",
      "\n",
      "-------------------------------------------------------------------------------------------------------------------\n"
     ]
    },
    {
     "name": "stderr",
     "output_type": "stream",
     "text": [
      "[Parallel(n_jobs=-1)]: Done   3 out of   3 | elapsed:  1.0min finished\n",
      "[Parallel(n_jobs=-1)]: Using backend LokyBackend with 12 concurrent workers.\n"
     ]
    },
    {
     "name": "stdout",
     "output_type": "stream",
     "text": [
      "K-Fold #4\n",
      "Mean negativities for all classes: [0.37109419369879143, 0.3840853989628012, 0.39199643578627147]\n",
      "Mean entropies for all classes: [4.169163425252196e-15, 3.312533975390589e-15, 3.830928162617983e-15]\n",
      "              precision    recall  f1-score   support\n",
      "\n",
      "           0       0.17      0.20      0.18         5\n",
      "           1       0.00      0.00      0.00         5\n",
      "           2       0.00      0.00      0.00         5\n",
      "\n",
      "    accuracy                           0.07        15\n",
      "   macro avg       0.06      0.07      0.06        15\n",
      "weighted avg       0.06      0.07      0.06        15\n",
      "\n",
      "-------------------------------------------------------------------------------------------------------------------\n"
     ]
    },
    {
     "name": "stderr",
     "output_type": "stream",
     "text": [
      "[Parallel(n_jobs=-1)]: Done   3 out of   3 | elapsed:  1.0min finished\n",
      "[Parallel(n_jobs=-1)]: Using backend LokyBackend with 12 concurrent workers.\n"
     ]
    },
    {
     "name": "stdout",
     "output_type": "stream",
     "text": [
      "K-Fold #5\n",
      "Mean negativities for all classes: [0.36864674926186086, 0.37372730357502076, 0.37718071608914105]\n",
      "Mean entropies for all classes: [3.5115295628392743e-15, 4.159050695763784e-15, 3.575496230920738e-15]\n",
      "              precision    recall  f1-score   support\n",
      "\n",
      "           0       0.67      0.40      0.50         5\n",
      "           1       0.36      0.80      0.50         5\n",
      "           2       0.00      0.00      0.00         5\n",
      "\n",
      "    accuracy                           0.40        15\n",
      "   macro avg       0.34      0.40      0.33        15\n",
      "weighted avg       0.34      0.40      0.33        15\n",
      "\n",
      "-------------------------------------------------------------------------------------------------------------------\n"
     ]
    },
    {
     "name": "stderr",
     "output_type": "stream",
     "text": [
      "[Parallel(n_jobs=-1)]: Done   3 out of   3 | elapsed:  1.0min finished\n",
      "[Parallel(n_jobs=-1)]: Using backend LokyBackend with 12 concurrent workers.\n"
     ]
    },
    {
     "name": "stdout",
     "output_type": "stream",
     "text": [
      "K-Fold #6\n",
      "Mean negativities for all classes: [0.3648116773308377, 0.3904878502584426, 0.3757643214792496]\n",
      "Mean entropies for all classes: [3.878930032145838e-15, 4.224269362339656e-15, 3.779162186008876e-15]\n",
      "              precision    recall  f1-score   support\n",
      "\n",
      "           0       0.44      0.80      0.57         5\n",
      "           1       0.20      0.20      0.20         5\n",
      "           2       1.00      0.20      0.33         5\n",
      "\n",
      "    accuracy                           0.40        15\n",
      "   macro avg       0.55      0.40      0.37        15\n",
      "weighted avg       0.55      0.40      0.37        15\n",
      "\n",
      "-------------------------------------------------------------------------------------------------------------------\n"
     ]
    },
    {
     "name": "stderr",
     "output_type": "stream",
     "text": [
      "[Parallel(n_jobs=-1)]: Done   3 out of   3 | elapsed:  1.0min finished\n",
      "[Parallel(n_jobs=-1)]: Using backend LokyBackend with 12 concurrent workers.\n"
     ]
    },
    {
     "name": "stdout",
     "output_type": "stream",
     "text": [
      "K-Fold #7\n",
      "Mean negativities for all classes: [0.36226868846165455, 0.38540905035013956, 0.3873887477622961]\n",
      "Mean entropies for all classes: [3.310282271043636e-15, 3.108500624023461e-15, 2.9104165970821134e-15]\n",
      "              precision    recall  f1-score   support\n",
      "\n",
      "           0       0.17      0.20      0.18         5\n",
      "           1       0.00      0.00      0.00         5\n",
      "           2       0.00      0.00      0.00         5\n",
      "\n",
      "    accuracy                           0.07        15\n",
      "   macro avg       0.06      0.07      0.06        15\n",
      "weighted avg       0.06      0.07      0.06        15\n",
      "\n",
      "-------------------------------------------------------------------------------------------------------------------\n"
     ]
    },
    {
     "name": "stderr",
     "output_type": "stream",
     "text": [
      "[Parallel(n_jobs=-1)]: Done   3 out of   3 | elapsed:  1.0min finished\n",
      "[Parallel(n_jobs=-1)]: Using backend LokyBackend with 12 concurrent workers.\n"
     ]
    },
    {
     "name": "stdout",
     "output_type": "stream",
     "text": [
      "K-Fold #8\n",
      "Mean negativities for all classes: [0.34657845922170943, 0.3757648222539168, 0.3820888935627799]\n",
      "Mean entropies for all classes: [3.3596357995919083e-15, 3.691442592641532e-15, 3.2794219595729963e-15]\n",
      "              precision    recall  f1-score   support\n",
      "\n",
      "           0       0.40      0.40      0.40         5\n",
      "           1       0.12      0.20      0.15         5\n",
      "           2       0.00      0.00      0.00         5\n",
      "\n",
      "    accuracy                           0.20        15\n",
      "   macro avg       0.18      0.20      0.18        15\n",
      "weighted avg       0.17      0.20      0.18        15\n",
      "\n",
      "-------------------------------------------------------------------------------------------------------------------\n"
     ]
    },
    {
     "name": "stderr",
     "output_type": "stream",
     "text": [
      "[Parallel(n_jobs=-1)]: Done   3 out of   3 | elapsed:  1.0min finished\n",
      "c:\\ProgramData\\Anaconda3\\lib\\site-packages\\sklearn\\metrics\\_classification.py:1344: UndefinedMetricWarning: Precision and F-score are ill-defined and being set to 0.0 in labels with no predicted samples. Use `zero_division` parameter to control this behavior.\n",
      "  _warn_prf(average, modifier, msg_start, len(result))\n",
      "c:\\ProgramData\\Anaconda3\\lib\\site-packages\\sklearn\\metrics\\_classification.py:1344: UndefinedMetricWarning: Precision and F-score are ill-defined and being set to 0.0 in labels with no predicted samples. Use `zero_division` parameter to control this behavior.\n",
      "  _warn_prf(average, modifier, msg_start, len(result))\n",
      "c:\\ProgramData\\Anaconda3\\lib\\site-packages\\sklearn\\metrics\\_classification.py:1344: UndefinedMetricWarning: Precision and F-score are ill-defined and being set to 0.0 in labels with no predicted samples. Use `zero_division` parameter to control this behavior.\n",
      "  _warn_prf(average, modifier, msg_start, len(result))\n",
      "[Parallel(n_jobs=-1)]: Using backend LokyBackend with 12 concurrent workers.\n"
     ]
    },
    {
     "name": "stdout",
     "output_type": "stream",
     "text": [
      "K-Fold #9\n",
      "Mean negativities for all classes: [0.37733656709448804, 0.38750931026168806, 0.39285279456747657]\n",
      "Mean entropies for all classes: [3.4628373739353787e-15, 3.67089653135593e-15, 3.51900283719919e-15]\n",
      "              precision    recall  f1-score   support\n",
      "\n",
      "           0       0.33      0.60      0.43         5\n",
      "           1       0.00      0.00      0.00         5\n",
      "           2       0.00      0.00      0.00         5\n",
      "\n",
      "    accuracy                           0.20        15\n",
      "   macro avg       0.11      0.20      0.14        15\n",
      "weighted avg       0.11      0.20      0.14        15\n",
      "\n",
      "-------------------------------------------------------------------------------------------------------------------\n",
      "AVG: Scores = 0.24000000000000005 F1-Scores = 0.2138646538646539 Negativity = [0.3775051225215141, 0.37794178917046173, 0.37975442817692406] Entropy = [3.902082670979837e-15, 3.5648956899114314e-15, 3.157747296749763e-15]\n"
     ]
    },
    {
     "name": "stderr",
     "output_type": "stream",
     "text": [
      "[Parallel(n_jobs=-1)]: Done   3 out of   3 | elapsed:  1.0min finished\n",
      "[Parallel(n_jobs=-1)]: Using backend LokyBackend with 12 concurrent workers.\n"
     ]
    },
    {
     "name": "stdout",
     "output_type": "stream",
     "text": [
      "K-Fold #0\n",
      "Mean negativities for all classes: [0.3614838715222955, 0.3901603137560576, 0.37856759657010003]\n",
      "Mean entropies for all classes: [3.1313989634135062e-15, 3.5080218999649263e-15, 3.6555186470105676e-15]\n",
      "              precision    recall  f1-score   support\n",
      "\n",
      "           0       0.57      0.80      0.67         5\n",
      "           1       0.17      0.20      0.18         5\n",
      "           2       0.50      0.20      0.29         5\n",
      "\n",
      "    accuracy                           0.40        15\n",
      "   macro avg       0.41      0.40      0.38        15\n",
      "weighted avg       0.41      0.40      0.38        15\n",
      "\n",
      "-------------------------------------------------------------------------------------------------------------------\n"
     ]
    },
    {
     "name": "stderr",
     "output_type": "stream",
     "text": [
      "[Parallel(n_jobs=-1)]: Done   3 out of   3 | elapsed:  1.0min finished\n",
      "[Parallel(n_jobs=-1)]: Using backend LokyBackend with 12 concurrent workers.\n"
     ]
    },
    {
     "name": "stdout",
     "output_type": "stream",
     "text": [
      "K-Fold #1\n",
      "Mean negativities for all classes: [0.37153932580419124, 0.3790791014282527, 0.38582030547010504]\n",
      "Mean entropies for all classes: [2.2020426774975243e-15, 3.709648267775657e-15, 3.1181180889866536e-15]\n",
      "              precision    recall  f1-score   support\n",
      "\n",
      "           0       0.25      0.20      0.22         5\n",
      "           1       0.11      0.20      0.14         5\n",
      "           2       0.00      0.00      0.00         5\n",
      "\n",
      "    accuracy                           0.13        15\n",
      "   macro avg       0.12      0.13      0.12        15\n",
      "weighted avg       0.12      0.13      0.12        15\n",
      "\n",
      "-------------------------------------------------------------------------------------------------------------------\n"
     ]
    },
    {
     "name": "stderr",
     "output_type": "stream",
     "text": [
      "[Parallel(n_jobs=-1)]: Done   3 out of   3 | elapsed:  1.0min finished\n",
      "[Parallel(n_jobs=-1)]: Using backend LokyBackend with 12 concurrent workers.\n"
     ]
    },
    {
     "name": "stdout",
     "output_type": "stream",
     "text": [
      "K-Fold #2\n",
      "Mean negativities for all classes: [0.3751111548966243, 0.38164385942906554, 0.3849283205510529]\n",
      "Mean entropies for all classes: [3.2940036900752865e-15, 4.345324541762009e-15, 3.3317451791071706e-15]\n",
      "              precision    recall  f1-score   support\n",
      "\n",
      "           0       0.38      0.60      0.46         5\n",
      "           1       0.33      0.40      0.36         5\n",
      "           2       0.00      0.00      0.00         5\n",
      "\n",
      "    accuracy                           0.33        15\n",
      "   macro avg       0.24      0.33      0.28        15\n",
      "weighted avg       0.24      0.33      0.28        15\n",
      "\n",
      "-------------------------------------------------------------------------------------------------------------------\n"
     ]
    },
    {
     "name": "stderr",
     "output_type": "stream",
     "text": [
      "[Parallel(n_jobs=-1)]: Done   3 out of   3 | elapsed:  1.0min finished\n",
      "c:\\ProgramData\\Anaconda3\\lib\\site-packages\\sklearn\\metrics\\_classification.py:1344: UndefinedMetricWarning: Precision and F-score are ill-defined and being set to 0.0 in labels with no predicted samples. Use `zero_division` parameter to control this behavior.\n",
      "  _warn_prf(average, modifier, msg_start, len(result))\n",
      "c:\\ProgramData\\Anaconda3\\lib\\site-packages\\sklearn\\metrics\\_classification.py:1344: UndefinedMetricWarning: Precision and F-score are ill-defined and being set to 0.0 in labels with no predicted samples. Use `zero_division` parameter to control this behavior.\n",
      "  _warn_prf(average, modifier, msg_start, len(result))\n",
      "c:\\ProgramData\\Anaconda3\\lib\\site-packages\\sklearn\\metrics\\_classification.py:1344: UndefinedMetricWarning: Precision and F-score are ill-defined and being set to 0.0 in labels with no predicted samples. Use `zero_division` parameter to control this behavior.\n",
      "  _warn_prf(average, modifier, msg_start, len(result))\n",
      "[Parallel(n_jobs=-1)]: Using backend LokyBackend with 12 concurrent workers.\n"
     ]
    },
    {
     "name": "stdout",
     "output_type": "stream",
     "text": [
      "K-Fold #3\n",
      "Mean negativities for all classes: [0.36793329418550846, 0.37594597986349937, 0.3803925170869665]\n",
      "Mean entropies for all classes: [3.071885801832429e-15, 3.3829610078053683e-15, 2.8600477777406294e-15]\n",
      "              precision    recall  f1-score   support\n",
      "\n",
      "           0       0.33      0.40      0.36         5\n",
      "           1       0.11      0.20      0.14         5\n",
      "           2       0.00      0.00      0.00         5\n",
      "\n",
      "    accuracy                           0.20        15\n",
      "   macro avg       0.15      0.20      0.17        15\n",
      "weighted avg       0.15      0.20      0.17        15\n",
      "\n",
      "-------------------------------------------------------------------------------------------------------------------\n"
     ]
    },
    {
     "name": "stderr",
     "output_type": "stream",
     "text": [
      "[Parallel(n_jobs=-1)]: Done   3 out of   3 | elapsed:  1.0min finished\n",
      "[Parallel(n_jobs=-1)]: Using backend LokyBackend with 12 concurrent workers.\n"
     ]
    },
    {
     "name": "stdout",
     "output_type": "stream",
     "text": [
      "K-Fold #4\n",
      "Mean negativities for all classes: [0.3676769291805152, 0.3852699466949471, 0.38094295728993754]\n",
      "Mean entropies for all classes: [3.5018352241902073e-15, 3.2565277621549886e-15, 3.482607996258314e-15]\n",
      "              precision    recall  f1-score   support\n",
      "\n",
      "           0       0.33      0.60      0.43         5\n",
      "           1       0.00      0.00      0.00         5\n",
      "           2       1.00      0.20      0.33         5\n",
      "\n",
      "    accuracy                           0.27        15\n",
      "   macro avg       0.44      0.27      0.25        15\n",
      "weighted avg       0.44      0.27      0.25        15\n",
      "\n",
      "-------------------------------------------------------------------------------------------------------------------\n"
     ]
    },
    {
     "name": "stderr",
     "output_type": "stream",
     "text": [
      "[Parallel(n_jobs=-1)]: Done   3 out of   3 | elapsed:  1.0min finished\n",
      "[Parallel(n_jobs=-1)]: Using backend LokyBackend with 12 concurrent workers.\n"
     ]
    },
    {
     "name": "stdout",
     "output_type": "stream",
     "text": [
      "K-Fold #5\n",
      "Mean negativities for all classes: [0.36014056957607804, 0.38349746581551275, 0.38513195946969]\n",
      "Mean entropies for all classes: [3.451129055255364e-15, 3.614698831288315e-15, 3.422943844206355e-15]\n",
      "              precision    recall  f1-score   support\n",
      "\n",
      "           0       0.43      0.60      0.50         5\n",
      "           1       0.29      0.40      0.33         5\n",
      "           2       0.00      0.00      0.00         5\n",
      "\n",
      "    accuracy                           0.33        15\n",
      "   macro avg       0.24      0.33      0.28        15\n",
      "weighted avg       0.24      0.33      0.28        15\n",
      "\n",
      "-------------------------------------------------------------------------------------------------------------------\n"
     ]
    },
    {
     "name": "stderr",
     "output_type": "stream",
     "text": [
      "[Parallel(n_jobs=-1)]: Done   3 out of   3 | elapsed:  1.0min finished\n",
      "[Parallel(n_jobs=-1)]: Using backend LokyBackend with 12 concurrent workers.\n"
     ]
    },
    {
     "name": "stdout",
     "output_type": "stream",
     "text": [
      "K-Fold #6\n",
      "Mean negativities for all classes: [0.3713973431239278, 0.38345007697159084, 0.37235058548245054]\n",
      "Mean entropies for all classes: [3.3462037212449514e-15, 4.499350181848785e-15, 4.248001669370431e-15]\n",
      "              precision    recall  f1-score   support\n",
      "\n",
      "           0       0.40      0.40      0.40         5\n",
      "           1       0.25      0.40      0.31         5\n",
      "           2       0.50      0.20      0.29         5\n",
      "\n",
      "    accuracy                           0.33        15\n",
      "   macro avg       0.38      0.33      0.33        15\n",
      "weighted avg       0.38      0.33      0.33        15\n",
      "\n",
      "-------------------------------------------------------------------------------------------------------------------\n"
     ]
    },
    {
     "name": "stderr",
     "output_type": "stream",
     "text": [
      "[Parallel(n_jobs=-1)]: Done   3 out of   3 | elapsed:  1.0min finished\n",
      "[Parallel(n_jobs=-1)]: Using backend LokyBackend with 12 concurrent workers.\n"
     ]
    },
    {
     "name": "stdout",
     "output_type": "stream",
     "text": [
      "K-Fold #7\n",
      "Mean negativities for all classes: [0.36635369835421105, 0.3826373728594052, 0.3864940329897797]\n",
      "Mean entropies for all classes: [3.421580435765298e-15, 3.956529898491041e-15, 3.23297414804669e-15]\n",
      "              precision    recall  f1-score   support\n",
      "\n",
      "           0       0.00      0.00      0.00         5\n",
      "           1       0.25      0.40      0.31         5\n",
      "           2       1.00      0.40      0.57         5\n",
      "\n",
      "    accuracy                           0.27        15\n",
      "   macro avg       0.42      0.27      0.29        15\n",
      "weighted avg       0.42      0.27      0.29        15\n",
      "\n",
      "-------------------------------------------------------------------------------------------------------------------\n"
     ]
    },
    {
     "name": "stderr",
     "output_type": "stream",
     "text": [
      "[Parallel(n_jobs=-1)]: Done   3 out of   3 | elapsed:  1.0min finished\n",
      "[Parallel(n_jobs=-1)]: Using backend LokyBackend with 12 concurrent workers.\n"
     ]
    },
    {
     "name": "stdout",
     "output_type": "stream",
     "text": [
      "K-Fold #8\n",
      "Mean negativities for all classes: [0.3711326019727963, 0.37972760093378277, 0.38566644587101884]\n",
      "Mean entropies for all classes: [3.4329496055328515e-15, 3.214993556670186e-15, 3.2143463962130662e-15]\n",
      "              precision    recall  f1-score   support\n",
      "\n",
      "           0       0.43      0.60      0.50         5\n",
      "           1       0.00      0.00      0.00         5\n",
      "           2       0.00      0.00      0.00         5\n",
      "\n",
      "    accuracy                           0.20        15\n",
      "   macro avg       0.14      0.20      0.17        15\n",
      "weighted avg       0.14      0.20      0.17        15\n",
      "\n",
      "-------------------------------------------------------------------------------------------------------------------\n"
     ]
    },
    {
     "name": "stderr",
     "output_type": "stream",
     "text": [
      "[Parallel(n_jobs=-1)]: Done   3 out of   3 | elapsed:  1.0min finished\n",
      "[Parallel(n_jobs=-1)]: Using backend LokyBackend with 12 concurrent workers.\n"
     ]
    },
    {
     "name": "stdout",
     "output_type": "stream",
     "text": [
      "K-Fold #9\n",
      "Mean negativities for all classes: [0.3657745036303217, 0.3858134812489584, 0.3836384920704651]\n",
      "Mean entropies for all classes: [3.687826790628494e-15, 3.4076971907127755e-15, 3.858087314411828e-15]\n",
      "              precision    recall  f1-score   support\n",
      "\n",
      "           0       0.44      0.80      0.57         5\n",
      "           1       0.20      0.20      0.20         5\n",
      "           2       1.00      0.20      0.33         5\n",
      "\n",
      "    accuracy                           0.40        15\n",
      "   macro avg       0.55      0.40      0.37        15\n",
      "weighted avg       0.55      0.40      0.37        15\n",
      "\n",
      "-------------------------------------------------------------------------------------------------------------------\n",
      "AVG: Scores = 0.2866666666666667 F1-Scores = 0.2634491434491434 Negativity = [0.37673726061615104, 0.3788129109008496, 0.38056111162558093] Entropy = [3.431646503463e-15, 3.0099363447532783e-15, 3.657024470314822e-15]\n"
     ]
    },
    {
     "name": "stderr",
     "output_type": "stream",
     "text": [
      "[Parallel(n_jobs=-1)]: Done   3 out of   3 | elapsed:  1.0min finished\n",
      "[Parallel(n_jobs=-1)]: Using backend LokyBackend with 12 concurrent workers.\n"
     ]
    },
    {
     "name": "stdout",
     "output_type": "stream",
     "text": [
      "K-Fold #0\n",
      "Mean negativities for all classes: [0.36838813207177795, 0.3830598414535906, 0.37955544700620153]\n",
      "Mean entropies for all classes: [3.3028377233993766e-15, 3.376921285580806e-15, 3.3927208308003016e-15]\n",
      "              precision    recall  f1-score   support\n",
      "\n",
      "           0       0.20      0.20      0.20         5\n",
      "           1       0.00      0.00      0.00         5\n",
      "           2       0.33      0.20      0.25         5\n",
      "\n",
      "    accuracy                           0.13        15\n",
      "   macro avg       0.18      0.13      0.15        15\n",
      "weighted avg       0.18      0.13      0.15        15\n",
      "\n",
      "-------------------------------------------------------------------------------------------------------------------\n"
     ]
    },
    {
     "name": "stderr",
     "output_type": "stream",
     "text": [
      "[Parallel(n_jobs=-1)]: Done   3 out of   3 | elapsed:  1.0min finished\n",
      "[Parallel(n_jobs=-1)]: Using backend LokyBackend with 12 concurrent workers.\n"
     ]
    },
    {
     "name": "stdout",
     "output_type": "stream",
     "text": [
      "K-Fold #1\n",
      "Mean negativities for all classes: [0.3692208120761836, 0.38384981442344673, 0.3827621282228913]\n",
      "Mean entropies for all classes: [4.073953643987582e-15, 3.7321927037786444e-15, 3.4674544106628924e-15]\n",
      "              precision    recall  f1-score   support\n",
      "\n",
      "           0       0.60      0.60      0.60         5\n",
      "           1       0.50      0.80      0.62         5\n",
      "           2       1.00      0.40      0.57         5\n",
      "\n",
      "    accuracy                           0.60        15\n",
      "   macro avg       0.70      0.60      0.60        15\n",
      "weighted avg       0.70      0.60      0.60        15\n",
      "\n",
      "-------------------------------------------------------------------------------------------------------------------\n"
     ]
    },
    {
     "name": "stderr",
     "output_type": "stream",
     "text": [
      "[Parallel(n_jobs=-1)]: Done   3 out of   3 | elapsed:  1.0min finished\n",
      "[Parallel(n_jobs=-1)]: Using backend LokyBackend with 12 concurrent workers.\n"
     ]
    },
    {
     "name": "stdout",
     "output_type": "stream",
     "text": [
      "K-Fold #2\n",
      "Mean negativities for all classes: [0.35623673640124753, 0.37761937540219914, 0.344046289181234]\n",
      "Mean entropies for all classes: [2.7452358741705147e-15, 3.442689094405985e-15, 3.6261925889290545e-15]\n",
      "              precision    recall  f1-score   support\n",
      "\n",
      "           0       0.33      0.40      0.36         5\n",
      "           1       0.17      0.20      0.18         5\n",
      "           2       0.33      0.20      0.25         5\n",
      "\n",
      "    accuracy                           0.27        15\n",
      "   macro avg       0.28      0.27      0.27        15\n",
      "weighted avg       0.28      0.27      0.27        15\n",
      "\n",
      "-------------------------------------------------------------------------------------------------------------------\n"
     ]
    },
    {
     "name": "stderr",
     "output_type": "stream",
     "text": [
      "[Parallel(n_jobs=-1)]: Done   3 out of   3 | elapsed:  1.0min finished\n",
      "[Parallel(n_jobs=-1)]: Using backend LokyBackend with 12 concurrent workers.\n"
     ]
    },
    {
     "name": "stdout",
     "output_type": "stream",
     "text": [
      "K-Fold #3\n",
      "Mean negativities for all classes: [0.3665192160383104, 0.37621265555527905, 0.38369296189133]\n",
      "Mean entropies for all classes: [3.981302777933622e-15, 3.939459847080871e-15, 3.594987256085017e-15]\n",
      "              precision    recall  f1-score   support\n",
      "\n",
      "           0       0.29      0.40      0.33         5\n",
      "           1       0.14      0.20      0.17         5\n",
      "           2       0.00      0.00      0.00         5\n",
      "\n",
      "    accuracy                           0.20        15\n",
      "   macro avg       0.14      0.20      0.17        15\n",
      "weighted avg       0.14      0.20      0.17        15\n",
      "\n",
      "-------------------------------------------------------------------------------------------------------------------\n"
     ]
    },
    {
     "name": "stderr",
     "output_type": "stream",
     "text": [
      "[Parallel(n_jobs=-1)]: Done   3 out of   3 | elapsed:  1.0min finished\n",
      "[Parallel(n_jobs=-1)]: Using backend LokyBackend with 12 concurrent workers.\n"
     ]
    },
    {
     "name": "stdout",
     "output_type": "stream",
     "text": [
      "K-Fold #4\n",
      "Mean negativities for all classes: [0.38195459928120035, 0.3836040131225787, 0.3784923983376855]\n",
      "Mean entropies for all classes: [2.977986288927595e-15, 4.1589084706532556e-15, 3.0834413862689995e-15]\n",
      "              precision    recall  f1-score   support\n",
      "\n",
      "           0       0.33      0.40      0.36         5\n",
      "           1       0.00      0.00      0.00         5\n",
      "           2       0.00      0.00      0.00         5\n",
      "\n",
      "    accuracy                           0.13        15\n",
      "   macro avg       0.11      0.13      0.12        15\n",
      "weighted avg       0.11      0.13      0.12        15\n",
      "\n",
      "-------------------------------------------------------------------------------------------------------------------\n"
     ]
    },
    {
     "name": "stderr",
     "output_type": "stream",
     "text": [
      "[Parallel(n_jobs=-1)]: Done   3 out of   3 | elapsed:  1.0min finished\n",
      "[Parallel(n_jobs=-1)]: Using backend LokyBackend with 12 concurrent workers.\n"
     ]
    },
    {
     "name": "stdout",
     "output_type": "stream",
     "text": [
      "K-Fold #5\n",
      "Mean negativities for all classes: [0.35791187158001847, 0.38274168411049275, 0.38202914171219227]\n",
      "Mean entropies for all classes: [3.611770216027915e-15, 3.751762074206961e-15, 3.02690398233873e-15]\n",
      "              precision    recall  f1-score   support\n",
      "\n",
      "           0       0.29      0.40      0.33         5\n",
      "           1       0.00      0.00      0.00         5\n",
      "           2       0.00      0.00      0.00         5\n",
      "\n",
      "    accuracy                           0.13        15\n",
      "   macro avg       0.10      0.13      0.11        15\n",
      "weighted avg       0.10      0.13      0.11        15\n",
      "\n",
      "-------------------------------------------------------------------------------------------------------------------\n"
     ]
    },
    {
     "name": "stderr",
     "output_type": "stream",
     "text": [
      "[Parallel(n_jobs=-1)]: Done   3 out of   3 | elapsed:  1.0min finished\n",
      "[Parallel(n_jobs=-1)]: Using backend LokyBackend with 12 concurrent workers.\n"
     ]
    },
    {
     "name": "stdout",
     "output_type": "stream",
     "text": [
      "K-Fold #6\n",
      "Mean negativities for all classes: [0.36946581498202147, 0.38531814341600495, 0.3765302930544136]\n",
      "Mean entropies for all classes: [3.1560351065658183e-15, 3.3533108910828432e-15, 3.2777775959711282e-15]\n",
      "              precision    recall  f1-score   support\n",
      "\n",
      "           0       0.75      0.60      0.67         5\n",
      "           1       0.22      0.40      0.29         5\n",
      "           2       0.00      0.00      0.00         5\n",
      "\n",
      "    accuracy                           0.33        15\n",
      "   macro avg       0.32      0.33      0.32        15\n",
      "weighted avg       0.32      0.33      0.32        15\n",
      "\n",
      "-------------------------------------------------------------------------------------------------------------------\n"
     ]
    },
    {
     "name": "stderr",
     "output_type": "stream",
     "text": [
      "[Parallel(n_jobs=-1)]: Done   3 out of   3 | elapsed:  1.0min finished\n",
      "[Parallel(n_jobs=-1)]: Using backend LokyBackend with 12 concurrent workers.\n"
     ]
    },
    {
     "name": "stdout",
     "output_type": "stream",
     "text": [
      "K-Fold #7\n",
      "Mean negativities for all classes: [0.3646354804597634, 0.38768218296823925, 0.3841708632966018]\n",
      "Mean entropies for all classes: [2.690253142563276e-15, 3.648818490909705e-15, 3.0517556044187848e-15]\n",
      "              precision    recall  f1-score   support\n",
      "\n",
      "           0       0.38      0.60      0.46         5\n",
      "           1       0.17      0.20      0.18         5\n",
      "           2       1.00      0.20      0.33         5\n",
      "\n",
      "    accuracy                           0.33        15\n",
      "   macro avg       0.51      0.33      0.33        15\n",
      "weighted avg       0.51      0.33      0.33        15\n",
      "\n",
      "-------------------------------------------------------------------------------------------------------------------\n"
     ]
    },
    {
     "name": "stderr",
     "output_type": "stream",
     "text": [
      "[Parallel(n_jobs=-1)]: Done   3 out of   3 | elapsed:  1.0min finished\n",
      "[Parallel(n_jobs=-1)]: Using backend LokyBackend with 12 concurrent workers.\n"
     ]
    },
    {
     "name": "stdout",
     "output_type": "stream",
     "text": [
      "K-Fold #8\n",
      "Mean negativities for all classes: [0.3692028043911223, 0.36924971533448697, 0.38754919772648644]\n",
      "Mean entropies for all classes: [3.5538455370555845e-15, 4.3923487844278336e-15, 3.799403958226542e-15]\n",
      "              precision    recall  f1-score   support\n",
      "\n",
      "           0       0.50      0.20      0.29         5\n",
      "           1       0.18      0.40      0.25         5\n",
      "           2       0.00      0.00      0.00         5\n",
      "\n",
      "    accuracy                           0.20        15\n",
      "   macro avg       0.23      0.20      0.18        15\n",
      "weighted avg       0.23      0.20      0.18        15\n",
      "\n",
      "-------------------------------------------------------------------------------------------------------------------\n"
     ]
    },
    {
     "name": "stderr",
     "output_type": "stream",
     "text": [
      "[Parallel(n_jobs=-1)]: Done   3 out of   3 | elapsed:  1.0min finished\n",
      "c:\\ProgramData\\Anaconda3\\lib\\site-packages\\sklearn\\metrics\\_classification.py:1344: UndefinedMetricWarning: Precision and F-score are ill-defined and being set to 0.0 in labels with no predicted samples. Use `zero_division` parameter to control this behavior.\n",
      "  _warn_prf(average, modifier, msg_start, len(result))\n",
      "c:\\ProgramData\\Anaconda3\\lib\\site-packages\\sklearn\\metrics\\_classification.py:1344: UndefinedMetricWarning: Precision and F-score are ill-defined and being set to 0.0 in labels with no predicted samples. Use `zero_division` parameter to control this behavior.\n",
      "  _warn_prf(average, modifier, msg_start, len(result))\n",
      "c:\\ProgramData\\Anaconda3\\lib\\site-packages\\sklearn\\metrics\\_classification.py:1344: UndefinedMetricWarning: Precision and F-score are ill-defined and being set to 0.0 in labels with no predicted samples. Use `zero_division` parameter to control this behavior.\n",
      "  _warn_prf(average, modifier, msg_start, len(result))\n",
      "[Parallel(n_jobs=-1)]: Using backend LokyBackend with 12 concurrent workers.\n"
     ]
    },
    {
     "name": "stdout",
     "output_type": "stream",
     "text": [
      "K-Fold #9\n",
      "Mean negativities for all classes: [0.3660715785712621, 0.38377278046445507, 0.3839173358874725]\n",
      "Mean entropies for all classes: [3.8784671441961805e-15, 3.630203538215233e-15, 3.1657412317465868e-15]\n",
      "              precision    recall  f1-score   support\n",
      "\n",
      "           0       0.29      0.40      0.33         5\n",
      "           1       0.12      0.20      0.15         5\n",
      "           2       0.00      0.00      0.00         5\n",
      "\n",
      "    accuracy                           0.20        15\n",
      "   macro avg       0.14      0.20      0.16        15\n",
      "weighted avg       0.14      0.20      0.16        15\n",
      "\n",
      "-------------------------------------------------------------------------------------------------------------------\n",
      "AVG: Scores = 0.25333333333333335 F1-Scores = 0.23937340437340437 Negativity = [0.37700114017719, 0.37861091824084053, 0.3593008003282269] Entropy = [3.3574932799268283e-15, 3.757866919476373e-15, 3.271372519168518e-15]\n"
     ]
    },
    {
     "name": "stderr",
     "output_type": "stream",
     "text": [
      "[Parallel(n_jobs=-1)]: Done   3 out of   3 | elapsed:  1.0min finished\n",
      "[Parallel(n_jobs=-1)]: Using backend LokyBackend with 12 concurrent workers.\n"
     ]
    },
    {
     "name": "stdout",
     "output_type": "stream",
     "text": [
      "K-Fold #0\n",
      "Mean negativities for all classes: [0.36762151501528795, 0.3832291316132535, 0.38132319154242206]\n",
      "Mean entropies for all classes: [3.3639758368925714e-15, 3.2489989373357457e-15, 3.851235374229863e-15]\n",
      "              precision    recall  f1-score   support\n",
      "\n",
      "           0       0.40      0.40      0.40         5\n",
      "           1       0.11      0.20      0.14         5\n",
      "           2       0.00      0.00      0.00         5\n",
      "\n",
      "    accuracy                           0.20        15\n",
      "   macro avg       0.17      0.20      0.18        15\n",
      "weighted avg       0.17      0.20      0.18        15\n",
      "\n",
      "-------------------------------------------------------------------------------------------------------------------\n"
     ]
    },
    {
     "name": "stderr",
     "output_type": "stream",
     "text": [
      "[Parallel(n_jobs=-1)]: Done   3 out of   3 | elapsed:  1.0min finished\n",
      "[Parallel(n_jobs=-1)]: Using backend LokyBackend with 12 concurrent workers.\n"
     ]
    },
    {
     "name": "stdout",
     "output_type": "stream",
     "text": [
      "K-Fold #1\n",
      "Mean negativities for all classes: [0.36678061550104396, 0.3871441844093325, 0.38349472719419736]\n",
      "Mean entropies for all classes: [4.297328744149103e-15, 3.0615662955348588e-15, 2.8195380982555233e-15]\n",
      "              precision    recall  f1-score   support\n",
      "\n",
      "           0       0.17      0.20      0.18         5\n",
      "           1       0.14      0.20      0.17         5\n",
      "           2       0.50      0.20      0.29         5\n",
      "\n",
      "    accuracy                           0.20        15\n",
      "   macro avg       0.27      0.20      0.21        15\n",
      "weighted avg       0.27      0.20      0.21        15\n",
      "\n",
      "-------------------------------------------------------------------------------------------------------------------\n"
     ]
    },
    {
     "name": "stderr",
     "output_type": "stream",
     "text": [
      "[Parallel(n_jobs=-1)]: Done   3 out of   3 | elapsed:  1.0min finished\n",
      "[Parallel(n_jobs=-1)]: Using backend LokyBackend with 12 concurrent workers.\n"
     ]
    },
    {
     "name": "stdout",
     "output_type": "stream",
     "text": [
      "K-Fold #2\n",
      "Mean negativities for all classes: [0.35924389507074744, 0.38482798927254325, 0.3785003561353111]\n",
      "Mean entropies for all classes: [3.41352927188857e-15, 3.835202791985635e-15, 3.2958382291087274e-15]\n",
      "              precision    recall  f1-score   support\n",
      "\n",
      "           0       0.60      0.60      0.60         5\n",
      "           1       0.29      0.40      0.33         5\n",
      "           2       0.33      0.20      0.25         5\n",
      "\n",
      "    accuracy                           0.40        15\n",
      "   macro avg       0.41      0.40      0.39        15\n",
      "weighted avg       0.41      0.40      0.39        15\n",
      "\n",
      "-------------------------------------------------------------------------------------------------------------------\n"
     ]
    },
    {
     "name": "stderr",
     "output_type": "stream",
     "text": [
      "[Parallel(n_jobs=-1)]: Done   3 out of   3 | elapsed:  1.0min finished\n",
      "[Parallel(n_jobs=-1)]: Using backend LokyBackend with 12 concurrent workers.\n"
     ]
    },
    {
     "name": "stdout",
     "output_type": "stream",
     "text": [
      "K-Fold #3\n",
      "Mean negativities for all classes: [0.3771045339450175, 0.3817050508073689, 0.38732297686303174]\n",
      "Mean entropies for all classes: [3.3449223375892343e-15, 3.932447833774957e-15, 3.41197900966978e-15]\n",
      "              precision    recall  f1-score   support\n",
      "\n",
      "           0       0.25      0.20      0.22         5\n",
      "           1       0.12      0.20      0.15         5\n",
      "           2       0.33      0.20      0.25         5\n",
      "\n",
      "    accuracy                           0.20        15\n",
      "   macro avg       0.24      0.20      0.21        15\n",
      "weighted avg       0.24      0.20      0.21        15\n",
      "\n",
      "-------------------------------------------------------------------------------------------------------------------\n"
     ]
    },
    {
     "name": "stderr",
     "output_type": "stream",
     "text": [
      "[Parallel(n_jobs=-1)]: Done   3 out of   3 | elapsed:  1.0min finished\n",
      "[Parallel(n_jobs=-1)]: Using backend LokyBackend with 12 concurrent workers.\n"
     ]
    },
    {
     "name": "stdout",
     "output_type": "stream",
     "text": [
      "K-Fold #4\n",
      "Mean negativities for all classes: [0.3649422067730078, 0.3913808168514599, 0.3709074649950944]\n",
      "Mean entropies for all classes: [4.3925196458842964e-15, 3.1955678837366116e-15, 3.275765345305515e-15]\n",
      "              precision    recall  f1-score   support\n",
      "\n",
      "           0       0.62      1.00      0.77         5\n",
      "           1       0.67      0.80      0.73         5\n",
      "           2       1.00      0.20      0.33         5\n",
      "\n",
      "    accuracy                           0.67        15\n",
      "   macro avg       0.76      0.67      0.61        15\n",
      "weighted avg       0.76      0.67      0.61        15\n",
      "\n",
      "-------------------------------------------------------------------------------------------------------------------\n"
     ]
    },
    {
     "name": "stderr",
     "output_type": "stream",
     "text": [
      "[Parallel(n_jobs=-1)]: Done   3 out of   3 | elapsed:  1.0min finished\n",
      "[Parallel(n_jobs=-1)]: Using backend LokyBackend with 12 concurrent workers.\n"
     ]
    },
    {
     "name": "stdout",
     "output_type": "stream",
     "text": [
      "K-Fold #5\n",
      "Mean negativities for all classes: [0.36184065818917027, 0.38329560181312927, 0.3842970606996666]\n",
      "Mean entropies for all classes: [3.562412679585661e-15, 3.728876069591756e-15, 4.526284471765062e-15]\n",
      "              precision    recall  f1-score   support\n",
      "\n",
      "           0       0.29      0.40      0.33         5\n",
      "           1       0.14      0.20      0.17         5\n",
      "           2       0.00      0.00      0.00         5\n",
      "\n",
      "    accuracy                           0.20        15\n",
      "   macro avg       0.14      0.20      0.17        15\n",
      "weighted avg       0.14      0.20      0.17        15\n",
      "\n",
      "-------------------------------------------------------------------------------------------------------------------\n"
     ]
    },
    {
     "name": "stderr",
     "output_type": "stream",
     "text": [
      "[Parallel(n_jobs=-1)]: Done   3 out of   3 | elapsed:  1.0min finished\n",
      "[Parallel(n_jobs=-1)]: Using backend LokyBackend with 12 concurrent workers.\n"
     ]
    },
    {
     "name": "stdout",
     "output_type": "stream",
     "text": [
      "K-Fold #6\n",
      "Mean negativities for all classes: [0.3688127172626263, 0.3785728113272199, 0.38118123922863095]\n",
      "Mean entropies for all classes: [3.6907235808880565e-15, 3.4519326401859767e-15, 3.0176129417930773e-15]\n",
      "              precision    recall  f1-score   support\n",
      "\n",
      "           0       0.20      0.20      0.20         5\n",
      "           1       0.22      0.40      0.29         5\n",
      "           2       1.00      0.20      0.33         5\n",
      "\n",
      "    accuracy                           0.27        15\n",
      "   macro avg       0.47      0.27      0.27        15\n",
      "weighted avg       0.47      0.27      0.27        15\n",
      "\n",
      "-------------------------------------------------------------------------------------------------------------------\n"
     ]
    },
    {
     "name": "stderr",
     "output_type": "stream",
     "text": [
      "[Parallel(n_jobs=-1)]: Done   3 out of   3 | elapsed:  1.0min finished\n",
      "c:\\ProgramData\\Anaconda3\\lib\\site-packages\\sklearn\\metrics\\_classification.py:1344: UndefinedMetricWarning: Precision and F-score are ill-defined and being set to 0.0 in labels with no predicted samples. Use `zero_division` parameter to control this behavior.\n",
      "  _warn_prf(average, modifier, msg_start, len(result))\n",
      "c:\\ProgramData\\Anaconda3\\lib\\site-packages\\sklearn\\metrics\\_classification.py:1344: UndefinedMetricWarning: Precision and F-score are ill-defined and being set to 0.0 in labels with no predicted samples. Use `zero_division` parameter to control this behavior.\n",
      "  _warn_prf(average, modifier, msg_start, len(result))\n",
      "c:\\ProgramData\\Anaconda3\\lib\\site-packages\\sklearn\\metrics\\_classification.py:1344: UndefinedMetricWarning: Precision and F-score are ill-defined and being set to 0.0 in labels with no predicted samples. Use `zero_division` parameter to control this behavior.\n",
      "  _warn_prf(average, modifier, msg_start, len(result))\n",
      "[Parallel(n_jobs=-1)]: Using backend LokyBackend with 12 concurrent workers.\n"
     ]
    },
    {
     "name": "stdout",
     "output_type": "stream",
     "text": [
      "K-Fold #7\n",
      "Mean negativities for all classes: [0.36424552067485616, 0.3774904588868386, 0.38296228946861155]\n",
      "Mean entropies for all classes: [3.710489163790152e-15, 3.598707251335434e-15, 3.6669411115764164e-15]\n",
      "              precision    recall  f1-score   support\n",
      "\n",
      "           0       0.22      0.40      0.29         5\n",
      "           1       0.00      0.00      0.00         5\n",
      "           2       0.00      0.00      0.00         5\n",
      "\n",
      "    accuracy                           0.13        15\n",
      "   macro avg       0.07      0.13      0.10        15\n",
      "weighted avg       0.07      0.13      0.10        15\n",
      "\n",
      "-------------------------------------------------------------------------------------------------------------------\n"
     ]
    },
    {
     "name": "stderr",
     "output_type": "stream",
     "text": [
      "[Parallel(n_jobs=-1)]: Done   3 out of   3 | elapsed:  1.0min finished\n",
      "[Parallel(n_jobs=-1)]: Using backend LokyBackend with 12 concurrent workers.\n"
     ]
    },
    {
     "name": "stdout",
     "output_type": "stream",
     "text": [
      "K-Fold #8\n",
      "Mean negativities for all classes: [0.375959934124394, 0.38153199403282784, 0.38622696364323583]\n",
      "Mean entropies for all classes: [3.989644975409179e-15, 4.107660638656362e-15, 4.214511779894524e-15]\n",
      "              precision    recall  f1-score   support\n",
      "\n",
      "           0       0.33      0.60      0.43         5\n",
      "           1       0.00      0.00      0.00         5\n",
      "           2       0.00      0.00      0.00         5\n",
      "\n",
      "    accuracy                           0.20        15\n",
      "   macro avg       0.11      0.20      0.14        15\n",
      "weighted avg       0.11      0.20      0.14        15\n",
      "\n",
      "-------------------------------------------------------------------------------------------------------------------\n"
     ]
    },
    {
     "name": "stderr",
     "output_type": "stream",
     "text": [
      "[Parallel(n_jobs=-1)]: Done   3 out of   3 | elapsed:  1.0min finished\n",
      "[Parallel(n_jobs=-1)]: Using backend LokyBackend with 12 concurrent workers.\n"
     ]
    },
    {
     "name": "stdout",
     "output_type": "stream",
     "text": [
      "K-Fold #9\n",
      "Mean negativities for all classes: [0.37447431866269876, 0.37562862661790397, 0.37914866723795565]\n",
      "Mean entropies for all classes: [2.930874426748557e-15, 3.025328872555877e-15, 2.534601698199343e-15]\n",
      "              precision    recall  f1-score   support\n",
      "\n",
      "           0       0.50      0.40      0.44         5\n",
      "           1       0.20      0.40      0.27         5\n",
      "           2       0.00      0.00      0.00         5\n",
      "\n",
      "    accuracy                           0.27        15\n",
      "   macro avg       0.23      0.27      0.24        15\n",
      "weighted avg       0.23      0.27      0.24        15\n",
      "\n",
      "-------------------------------------------------------------------------------------------------------------------\n",
      "AVG: Scores = 0.2733333333333333 F1-Scores = 0.25202464202464203 Negativity = [0.37739127939032113, 0.37913984236819126, 0.3741907468262006] Entropy = [3.48807004948606e-15, 3.392811045979828e-15, 3.5148567643276443e-15]\n"
     ]
    },
    {
     "name": "stderr",
     "output_type": "stream",
     "text": [
      "[Parallel(n_jobs=-1)]: Done   3 out of   3 | elapsed:  1.0min finished\n",
      "[Parallel(n_jobs=-1)]: Using backend LokyBackend with 12 concurrent workers.\n"
     ]
    },
    {
     "name": "stdout",
     "output_type": "stream",
     "text": [
      "K-Fold #0\n",
      "Mean negativities for all classes: [0.36157221773816567, 0.3825799216902272, 0.3787332140907928]\n",
      "Mean entropies for all classes: [3.4430664669618793e-15, 3.920739867903261e-15, 2.3448948749319994e-15]\n",
      "              precision    recall  f1-score   support\n",
      "\n",
      "           0       0.17      0.20      0.18         5\n",
      "           1       0.00      0.00      0.00         5\n",
      "           2       0.00      0.00      0.00         5\n",
      "\n",
      "    accuracy                           0.07        15\n",
      "   macro avg       0.06      0.07      0.06        15\n",
      "weighted avg       0.06      0.07      0.06        15\n",
      "\n",
      "-------------------------------------------------------------------------------------------------------------------\n"
     ]
    },
    {
     "name": "stderr",
     "output_type": "stream",
     "text": [
      "[Parallel(n_jobs=-1)]: Done   3 out of   3 | elapsed:  1.0min finished\n",
      "c:\\ProgramData\\Anaconda3\\lib\\site-packages\\sklearn\\metrics\\_classification.py:1344: UndefinedMetricWarning: Precision and F-score are ill-defined and being set to 0.0 in labels with no predicted samples. Use `zero_division` parameter to control this behavior.\n",
      "  _warn_prf(average, modifier, msg_start, len(result))\n",
      "c:\\ProgramData\\Anaconda3\\lib\\site-packages\\sklearn\\metrics\\_classification.py:1344: UndefinedMetricWarning: Precision and F-score are ill-defined and being set to 0.0 in labels with no predicted samples. Use `zero_division` parameter to control this behavior.\n",
      "  _warn_prf(average, modifier, msg_start, len(result))\n",
      "c:\\ProgramData\\Anaconda3\\lib\\site-packages\\sklearn\\metrics\\_classification.py:1344: UndefinedMetricWarning: Precision and F-score are ill-defined and being set to 0.0 in labels with no predicted samples. Use `zero_division` parameter to control this behavior.\n",
      "  _warn_prf(average, modifier, msg_start, len(result))\n",
      "[Parallel(n_jobs=-1)]: Using backend LokyBackend with 12 concurrent workers.\n"
     ]
    },
    {
     "name": "stdout",
     "output_type": "stream",
     "text": [
      "K-Fold #1\n",
      "Mean negativities for all classes: [0.36628798122399203, 0.3792918895281262, 0.38841919416214643]\n",
      "Mean entropies for all classes: [3.55949938635086e-15, 3.3497198885822157e-15, 3.8622664448301024e-15]\n",
      "              precision    recall  f1-score   support\n",
      "\n",
      "           0       0.20      0.20      0.20         5\n",
      "           1       0.10      0.20      0.13         5\n",
      "           2       0.00      0.00      0.00         5\n",
      "\n",
      "    accuracy                           0.13        15\n",
      "   macro avg       0.10      0.13      0.11        15\n",
      "weighted avg       0.10      0.13      0.11        15\n",
      "\n",
      "-------------------------------------------------------------------------------------------------------------------\n"
     ]
    },
    {
     "name": "stderr",
     "output_type": "stream",
     "text": [
      "[Parallel(n_jobs=-1)]: Done   3 out of   3 | elapsed:  1.0min finished\n",
      "[Parallel(n_jobs=-1)]: Using backend LokyBackend with 12 concurrent workers.\n"
     ]
    },
    {
     "name": "stdout",
     "output_type": "stream",
     "text": [
      "K-Fold #2\n",
      "Mean negativities for all classes: [0.3578831881883769, 0.3832748928639657, 0.3801687653080031]\n",
      "Mean entropies for all classes: [3.861754380233038e-15, 3.5224262942145957e-15, 3.682865446714957e-15]\n",
      "              precision    recall  f1-score   support\n",
      "\n",
      "           0       0.29      0.40      0.33         5\n",
      "           1       0.14      0.20      0.17         5\n",
      "           2       0.00      0.00      0.00         5\n",
      "\n",
      "    accuracy                           0.20        15\n",
      "   macro avg       0.14      0.20      0.17        15\n",
      "weighted avg       0.14      0.20      0.17        15\n",
      "\n",
      "-------------------------------------------------------------------------------------------------------------------\n"
     ]
    },
    {
     "name": "stderr",
     "output_type": "stream",
     "text": [
      "[Parallel(n_jobs=-1)]: Done   3 out of   3 | elapsed:  1.0min finished\n",
      "[Parallel(n_jobs=-1)]: Using backend LokyBackend with 12 concurrent workers.\n"
     ]
    },
    {
     "name": "stdout",
     "output_type": "stream",
     "text": [
      "K-Fold #3\n",
      "Mean negativities for all classes: [0.36848300814816193, 0.37026286356362587, 0.38154578454207616]\n",
      "Mean entropies for all classes: [3.9607284719469445e-15, 4.142826462431539e-15, 3.363035715061967e-15]\n",
      "              precision    recall  f1-score   support\n",
      "\n",
      "           0       0.60      0.60      0.60         5\n",
      "           1       0.00      0.00      0.00         5\n",
      "           2       0.00      0.00      0.00         5\n",
      "\n",
      "    accuracy                           0.20        15\n",
      "   macro avg       0.20      0.20      0.20        15\n",
      "weighted avg       0.20      0.20      0.20        15\n",
      "\n",
      "-------------------------------------------------------------------------------------------------------------------\n"
     ]
    },
    {
     "name": "stderr",
     "output_type": "stream",
     "text": [
      "[Parallel(n_jobs=-1)]: Done   3 out of   3 | elapsed:  1.0min finished\n",
      "[Parallel(n_jobs=-1)]: Using backend LokyBackend with 12 concurrent workers.\n"
     ]
    },
    {
     "name": "stdout",
     "output_type": "stream",
     "text": [
      "K-Fold #4\n",
      "Mean negativities for all classes: [0.3673155810599341, 0.377508263085906, 0.3716741620568967]\n",
      "Mean entropies for all classes: [3.6348478747602e-15, 3.4680340124596515e-15, 3.4104321322710794e-15]\n",
      "              precision    recall  f1-score   support\n",
      "\n",
      "           0       1.00      0.40      0.57         5\n",
      "           1       0.40      0.80      0.53         5\n",
      "           2       0.67      0.40      0.50         5\n",
      "\n",
      "    accuracy                           0.53        15\n",
      "   macro avg       0.69      0.53      0.53        15\n",
      "weighted avg       0.69      0.53      0.53        15\n",
      "\n",
      "-------------------------------------------------------------------------------------------------------------------\n"
     ]
    },
    {
     "name": "stderr",
     "output_type": "stream",
     "text": [
      "[Parallel(n_jobs=-1)]: Done   3 out of   3 | elapsed:  1.0min finished\n",
      "[Parallel(n_jobs=-1)]: Using backend LokyBackend with 12 concurrent workers.\n"
     ]
    },
    {
     "name": "stdout",
     "output_type": "stream",
     "text": [
      "K-Fold #5\n",
      "Mean negativities for all classes: [0.3810326866206608, 0.3842392599122501, 0.3793072885217423]\n",
      "Mean entropies for all classes: [3.790137010783723e-15, 3.7408855333165416e-15, 3.965585616610684e-15]\n",
      "              precision    recall  f1-score   support\n",
      "\n",
      "           0       0.50      0.40      0.44         5\n",
      "           1       0.33      0.60      0.43         5\n",
      "           2       0.50      0.20      0.29         5\n",
      "\n",
      "    accuracy                           0.40        15\n",
      "   macro avg       0.44      0.40      0.39        15\n",
      "weighted avg       0.44      0.40      0.39        15\n",
      "\n",
      "-------------------------------------------------------------------------------------------------------------------\n"
     ]
    },
    {
     "name": "stderr",
     "output_type": "stream",
     "text": [
      "[Parallel(n_jobs=-1)]: Done   3 out of   3 | elapsed:  1.0min finished\n",
      "[Parallel(n_jobs=-1)]: Using backend LokyBackend with 12 concurrent workers.\n"
     ]
    },
    {
     "name": "stdout",
     "output_type": "stream",
     "text": [
      "K-Fold #6\n",
      "Mean negativities for all classes: [0.3804514553369129, 0.3869462788158033, 0.38002420636642315]\n",
      "Mean entropies for all classes: [3.2462040589401624e-15, 3.513277049248754e-15, 3.4874672025348372e-15]\n",
      "              precision    recall  f1-score   support\n",
      "\n",
      "           0       0.43      0.60      0.50         5\n",
      "           1       0.29      0.40      0.33         5\n",
      "           2       1.00      0.20      0.33         5\n",
      "\n",
      "    accuracy                           0.40        15\n",
      "   macro avg       0.57      0.40      0.39        15\n",
      "weighted avg       0.57      0.40      0.39        15\n",
      "\n",
      "-------------------------------------------------------------------------------------------------------------------\n"
     ]
    },
    {
     "name": "stderr",
     "output_type": "stream",
     "text": [
      "[Parallel(n_jobs=-1)]: Done   3 out of   3 | elapsed:  1.0min finished\n",
      "c:\\ProgramData\\Anaconda3\\lib\\site-packages\\sklearn\\metrics\\_classification.py:1344: UndefinedMetricWarning: Precision and F-score are ill-defined and being set to 0.0 in labels with no predicted samples. Use `zero_division` parameter to control this behavior.\n",
      "  _warn_prf(average, modifier, msg_start, len(result))\n",
      "c:\\ProgramData\\Anaconda3\\lib\\site-packages\\sklearn\\metrics\\_classification.py:1344: UndefinedMetricWarning: Precision and F-score are ill-defined and being set to 0.0 in labels with no predicted samples. Use `zero_division` parameter to control this behavior.\n",
      "  _warn_prf(average, modifier, msg_start, len(result))\n",
      "c:\\ProgramData\\Anaconda3\\lib\\site-packages\\sklearn\\metrics\\_classification.py:1344: UndefinedMetricWarning: Precision and F-score are ill-defined and being set to 0.0 in labels with no predicted samples. Use `zero_division` parameter to control this behavior.\n",
      "  _warn_prf(average, modifier, msg_start, len(result))\n",
      "[Parallel(n_jobs=-1)]: Using backend LokyBackend with 12 concurrent workers.\n"
     ]
    },
    {
     "name": "stdout",
     "output_type": "stream",
     "text": [
      "K-Fold #7\n",
      "Mean negativities for all classes: [0.3614229301250425, 0.3839082632864005, 0.36633453783275105]\n",
      "Mean entropies for all classes: [3.398170087506476e-15, 3.1861015014705227e-15, 3.1810613901936537e-15]\n",
      "              precision    recall  f1-score   support\n",
      "\n",
      "           0       0.36      0.80      0.50         5\n",
      "           1       0.25      0.20      0.22         5\n",
      "           2       0.00      0.00      0.00         5\n",
      "\n",
      "    accuracy                           0.33        15\n",
      "   macro avg       0.20      0.33      0.24        15\n",
      "weighted avg       0.20      0.33      0.24        15\n",
      "\n",
      "-------------------------------------------------------------------------------------------------------------------\n"
     ]
    },
    {
     "name": "stderr",
     "output_type": "stream",
     "text": [
      "[Parallel(n_jobs=-1)]: Done   3 out of   3 | elapsed:  1.0min finished\n",
      "c:\\ProgramData\\Anaconda3\\lib\\site-packages\\sklearn\\metrics\\_classification.py:1344: UndefinedMetricWarning: Precision and F-score are ill-defined and being set to 0.0 in labels with no predicted samples. Use `zero_division` parameter to control this behavior.\n",
      "  _warn_prf(average, modifier, msg_start, len(result))\n",
      "c:\\ProgramData\\Anaconda3\\lib\\site-packages\\sklearn\\metrics\\_classification.py:1344: UndefinedMetricWarning: Precision and F-score are ill-defined and being set to 0.0 in labels with no predicted samples. Use `zero_division` parameter to control this behavior.\n",
      "  _warn_prf(average, modifier, msg_start, len(result))\n",
      "c:\\ProgramData\\Anaconda3\\lib\\site-packages\\sklearn\\metrics\\_classification.py:1344: UndefinedMetricWarning: Precision and F-score are ill-defined and being set to 0.0 in labels with no predicted samples. Use `zero_division` parameter to control this behavior.\n",
      "  _warn_prf(average, modifier, msg_start, len(result))\n",
      "[Parallel(n_jobs=-1)]: Using backend LokyBackend with 12 concurrent workers.\n"
     ]
    },
    {
     "name": "stdout",
     "output_type": "stream",
     "text": [
      "K-Fold #8\n",
      "Mean negativities for all classes: [0.37763574608605904, 0.37928073061706713, 0.3890658866370649]\n",
      "Mean entropies for all classes: [3.432818819335698e-15, 4.2675528093056415e-15, 4.09849498324171e-15]\n",
      "              precision    recall  f1-score   support\n",
      "\n",
      "           0       0.17      0.20      0.18         5\n",
      "           1       0.11      0.20      0.14         5\n",
      "           2       0.00      0.00      0.00         5\n",
      "\n",
      "    accuracy                           0.13        15\n",
      "   macro avg       0.09      0.13      0.11        15\n",
      "weighted avg       0.09      0.13      0.11        15\n",
      "\n",
      "-------------------------------------------------------------------------------------------------------------------\n"
     ]
    },
    {
     "name": "stderr",
     "output_type": "stream",
     "text": [
      "[Parallel(n_jobs=-1)]: Done   3 out of   3 | elapsed:  1.0min finished\n",
      "[Parallel(n_jobs=-1)]: Using backend LokyBackend with 12 concurrent workers.\n"
     ]
    },
    {
     "name": "stdout",
     "output_type": "stream",
     "text": [
      "K-Fold #9\n",
      "Mean negativities for all classes: [0.3572610405952636, 0.38802537590122094, 0.37659912370473253]\n",
      "Mean entropies for all classes: [3.591838362910746e-15, 3.2289852986658446e-15, 3.929452852803943e-15]\n",
      "              precision    recall  f1-score   support\n",
      "\n",
      "           0       0.50      0.60      0.55         5\n",
      "           1       0.20      0.20      0.20         5\n",
      "           2       0.25      0.20      0.22         5\n",
      "\n",
      "    accuracy                           0.33        15\n",
      "   macro avg       0.32      0.33      0.32        15\n",
      "weighted avg       0.32      0.33      0.32        15\n",
      "\n",
      "-------------------------------------------------------------------------------------------------------------------\n",
      "AVG: Scores = 0.2733333333333333 F1-Scores = 0.25199615199615194 Negativity = [0.3742951178397285, 0.3779996883047549, 0.37377561545344856] Entropy = [3.236233736599047e-15, 3.59049523992106e-15, 3.689015373720864e-15]\n"
     ]
    },
    {
     "name": "stderr",
     "output_type": "stream",
     "text": [
      "[Parallel(n_jobs=-1)]: Done   3 out of   3 | elapsed:  1.0min finished\n",
      "c:\\ProgramData\\Anaconda3\\lib\\site-packages\\sklearn\\metrics\\_classification.py:1344: UndefinedMetricWarning: Precision and F-score are ill-defined and being set to 0.0 in labels with no predicted samples. Use `zero_division` parameter to control this behavior.\n",
      "  _warn_prf(average, modifier, msg_start, len(result))\n",
      "c:\\ProgramData\\Anaconda3\\lib\\site-packages\\sklearn\\metrics\\_classification.py:1344: UndefinedMetricWarning: Precision and F-score are ill-defined and being set to 0.0 in labels with no predicted samples. Use `zero_division` parameter to control this behavior.\n",
      "  _warn_prf(average, modifier, msg_start, len(result))\n",
      "c:\\ProgramData\\Anaconda3\\lib\\site-packages\\sklearn\\metrics\\_classification.py:1344: UndefinedMetricWarning: Precision and F-score are ill-defined and being set to 0.0 in labels with no predicted samples. Use `zero_division` parameter to control this behavior.\n",
      "  _warn_prf(average, modifier, msg_start, len(result))\n",
      "[Parallel(n_jobs=-1)]: Using backend LokyBackend with 12 concurrent workers.\n"
     ]
    },
    {
     "name": "stdout",
     "output_type": "stream",
     "text": [
      "K-Fold #0\n",
      "Mean negativities for all classes: [0.37082545092892594, 0.38209350530364306, 0.3874221775869213]\n",
      "Mean entropies for all classes: [3.464444322977905e-15, 3.290947888505731e-15, 4.238272262965773e-15]\n",
      "              precision    recall  f1-score   support\n",
      "\n",
      "           0       0.50      0.60      0.55         5\n",
      "           1       0.33      0.60      0.43         5\n",
      "           2       0.00      0.00      0.00         5\n",
      "\n",
      "    accuracy                           0.40        15\n",
      "   macro avg       0.28      0.40      0.32        15\n",
      "weighted avg       0.28      0.40      0.32        15\n",
      "\n",
      "-------------------------------------------------------------------------------------------------------------------\n"
     ]
    },
    {
     "name": "stderr",
     "output_type": "stream",
     "text": [
      "[Parallel(n_jobs=-1)]: Done   3 out of   3 | elapsed:  1.0min finished\n",
      "[Parallel(n_jobs=-1)]: Using backend LokyBackend with 12 concurrent workers.\n"
     ]
    },
    {
     "name": "stdout",
     "output_type": "stream",
     "text": [
      "K-Fold #1\n",
      "Mean negativities for all classes: [0.3509020637335646, 0.37592309840424815, 0.3786294245262919]\n",
      "Mean entropies for all classes: [3.996021759005549e-15, 3.5137458224255867e-15, 3.3572567849904925e-15]\n",
      "              precision    recall  f1-score   support\n",
      "\n",
      "           0       0.00      0.00      0.00         5\n",
      "           1       0.30      0.60      0.40         5\n",
      "           2       1.00      0.20      0.33         5\n",
      "\n",
      "    accuracy                           0.27        15\n",
      "   macro avg       0.43      0.27      0.24        15\n",
      "weighted avg       0.43      0.27      0.24        15\n",
      "\n",
      "-------------------------------------------------------------------------------------------------------------------\n"
     ]
    },
    {
     "name": "stderr",
     "output_type": "stream",
     "text": [
      "[Parallel(n_jobs=-1)]: Done   3 out of   3 | elapsed:  1.0min finished\n",
      "[Parallel(n_jobs=-1)]: Using backend LokyBackend with 12 concurrent workers.\n"
     ]
    },
    {
     "name": "stdout",
     "output_type": "stream",
     "text": [
      "K-Fold #2\n",
      "Mean negativities for all classes: [0.36677070470137013, 0.38480923721737054, 0.375315370564069]\n",
      "Mean entropies for all classes: [3.894184520831762e-15, 3.5501916506764525e-15, 2.9393208969375324e-15]\n",
      "              precision    recall  f1-score   support\n",
      "\n",
      "           0       0.43      0.60      0.50         5\n",
      "           1       0.14      0.20      0.17         5\n",
      "           2       0.00      0.00      0.00         5\n",
      "\n",
      "    accuracy                           0.27        15\n",
      "   macro avg       0.19      0.27      0.22        15\n",
      "weighted avg       0.19      0.27      0.22        15\n",
      "\n",
      "-------------------------------------------------------------------------------------------------------------------\n"
     ]
    },
    {
     "name": "stderr",
     "output_type": "stream",
     "text": [
      "[Parallel(n_jobs=-1)]: Done   3 out of   3 | elapsed:  1.0min finished\n",
      "[Parallel(n_jobs=-1)]: Using backend LokyBackend with 12 concurrent workers.\n"
     ]
    },
    {
     "name": "stdout",
     "output_type": "stream",
     "text": [
      "K-Fold #3\n",
      "Mean negativities for all classes: [0.370709209168083, 0.3849324339172178, 0.3818417193183308]\n",
      "Mean entropies for all classes: [3.1526586116022638e-15, 3.1818432415641473e-15, 3.6382269320380124e-15]\n",
      "              precision    recall  f1-score   support\n",
      "\n",
      "           0       0.40      0.40      0.40         5\n",
      "           1       0.00      0.00      0.00         5\n",
      "           2       0.00      0.00      0.00         5\n",
      "\n",
      "    accuracy                           0.13        15\n",
      "   macro avg       0.13      0.13      0.13        15\n",
      "weighted avg       0.13      0.13      0.13        15\n",
      "\n",
      "-------------------------------------------------------------------------------------------------------------------\n"
     ]
    },
    {
     "name": "stderr",
     "output_type": "stream",
     "text": [
      "[Parallel(n_jobs=-1)]: Done   3 out of   3 | elapsed:  1.0min finished\n",
      "[Parallel(n_jobs=-1)]: Using backend LokyBackend with 12 concurrent workers.\n"
     ]
    },
    {
     "name": "stdout",
     "output_type": "stream",
     "text": [
      "K-Fold #4\n",
      "Mean negativities for all classes: [0.3755834612557277, 0.3877442243232358, 0.38051471210149584]\n",
      "Mean entropies for all classes: [3.3737323045483358e-15, 3.164218720036797e-15, 3.494086261781511e-15]\n",
      "              precision    recall  f1-score   support\n",
      "\n",
      "           0       0.50      0.60      0.55         5\n",
      "           1       0.14      0.20      0.17         5\n",
      "           2       0.00      0.00      0.00         5\n",
      "\n",
      "    accuracy                           0.27        15\n",
      "   macro avg       0.21      0.27      0.24        15\n",
      "weighted avg       0.21      0.27      0.24        15\n",
      "\n",
      "-------------------------------------------------------------------------------------------------------------------\n"
     ]
    },
    {
     "name": "stderr",
     "output_type": "stream",
     "text": [
      "[Parallel(n_jobs=-1)]: Done   3 out of   3 | elapsed:  1.0min finished\n",
      "[Parallel(n_jobs=-1)]: Using backend LokyBackend with 12 concurrent workers.\n"
     ]
    },
    {
     "name": "stdout",
     "output_type": "stream",
     "text": [
      "K-Fold #5\n",
      "Mean negativities for all classes: [0.36228464520704434, 0.3919798995681983, 0.3736983340091164]\n",
      "Mean entropies for all classes: [3.581712882510414e-15, 3.692190710027919e-15, 3.560658048735023e-15]\n",
      "              precision    recall  f1-score   support\n",
      "\n",
      "           0       0.62      1.00      0.77         5\n",
      "           1       0.00      0.00      0.00         5\n",
      "           2       0.40      0.40      0.40         5\n",
      "\n",
      "    accuracy                           0.47        15\n",
      "   macro avg       0.34      0.47      0.39        15\n",
      "weighted avg       0.34      0.47      0.39        15\n",
      "\n",
      "-------------------------------------------------------------------------------------------------------------------\n"
     ]
    },
    {
     "name": "stderr",
     "output_type": "stream",
     "text": [
      "[Parallel(n_jobs=-1)]: Done   3 out of   3 | elapsed:  1.0min finished\n",
      "[Parallel(n_jobs=-1)]: Using backend LokyBackend with 12 concurrent workers.\n"
     ]
    },
    {
     "name": "stdout",
     "output_type": "stream",
     "text": [
      "K-Fold #6\n",
      "Mean negativities for all classes: [0.36094746187611015, 0.3809633877240708, 0.3803706890557089]\n",
      "Mean entropies for all classes: [3.673585171683815e-15, 4.132218176329066e-15, 3.3686103255380525e-15]\n",
      "              precision    recall  f1-score   support\n",
      "\n",
      "           0       0.60      0.60      0.60         5\n",
      "           1       0.29      0.40      0.33         5\n",
      "           2       0.33      0.20      0.25         5\n",
      "\n",
      "    accuracy                           0.40        15\n",
      "   macro avg       0.41      0.40      0.39        15\n",
      "weighted avg       0.41      0.40      0.39        15\n",
      "\n",
      "-------------------------------------------------------------------------------------------------------------------\n"
     ]
    },
    {
     "name": "stderr",
     "output_type": "stream",
     "text": [
      "[Parallel(n_jobs=-1)]: Done   3 out of   3 | elapsed:  1.0min finished\n",
      "c:\\ProgramData\\Anaconda3\\lib\\site-packages\\sklearn\\metrics\\_classification.py:1344: UndefinedMetricWarning: Precision and F-score are ill-defined and being set to 0.0 in labels with no predicted samples. Use `zero_division` parameter to control this behavior.\n",
      "  _warn_prf(average, modifier, msg_start, len(result))\n",
      "c:\\ProgramData\\Anaconda3\\lib\\site-packages\\sklearn\\metrics\\_classification.py:1344: UndefinedMetricWarning: Precision and F-score are ill-defined and being set to 0.0 in labels with no predicted samples. Use `zero_division` parameter to control this behavior.\n",
      "  _warn_prf(average, modifier, msg_start, len(result))\n",
      "c:\\ProgramData\\Anaconda3\\lib\\site-packages\\sklearn\\metrics\\_classification.py:1344: UndefinedMetricWarning: Precision and F-score are ill-defined and being set to 0.0 in labels with no predicted samples. Use `zero_division` parameter to control this behavior.\n",
      "  _warn_prf(average, modifier, msg_start, len(result))\n",
      "[Parallel(n_jobs=-1)]: Using backend LokyBackend with 12 concurrent workers.\n"
     ]
    },
    {
     "name": "stdout",
     "output_type": "stream",
     "text": [
      "K-Fold #7\n",
      "Mean negativities for all classes: [0.3673716147756195, 0.37583046590080965, 0.3914444912521314]\n",
      "Mean entropies for all classes: [3.778285993975264e-15, 3.981238550489961e-15, 3.198109832966751e-15]\n",
      "              precision    recall  f1-score   support\n",
      "\n",
      "           0       0.17      0.20      0.18         5\n",
      "           1       0.11      0.20      0.14         5\n",
      "           2       0.00      0.00      0.00         5\n",
      "\n",
      "    accuracy                           0.13        15\n",
      "   macro avg       0.09      0.13      0.11        15\n",
      "weighted avg       0.09      0.13      0.11        15\n",
      "\n",
      "-------------------------------------------------------------------------------------------------------------------\n"
     ]
    },
    {
     "name": "stderr",
     "output_type": "stream",
     "text": [
      "[Parallel(n_jobs=-1)]: Done   3 out of   3 | elapsed:  1.0min finished\n",
      "[Parallel(n_jobs=-1)]: Using backend LokyBackend with 12 concurrent workers.\n"
     ]
    },
    {
     "name": "stdout",
     "output_type": "stream",
     "text": [
      "K-Fold #8\n",
      "Mean negativities for all classes: [0.3710635235228659, 0.3824206966288679, 0.3883539080456941]\n",
      "Mean entropies for all classes: [3.6195857765210864e-15, 3.535977592814604e-15, 3.4871371147740602e-15]\n",
      "              precision    recall  f1-score   support\n",
      "\n",
      "           0       0.60      0.60      0.60         5\n",
      "           1       0.22      0.40      0.29         5\n",
      "           2       0.00      0.00      0.00         5\n",
      "\n",
      "    accuracy                           0.33        15\n",
      "   macro avg       0.27      0.33      0.30        15\n",
      "weighted avg       0.27      0.33      0.30        15\n",
      "\n",
      "-------------------------------------------------------------------------------------------------------------------\n"
     ]
    },
    {
     "name": "stderr",
     "output_type": "stream",
     "text": [
      "[Parallel(n_jobs=-1)]: Done   3 out of   3 | elapsed:  1.0min finished\n",
      "c:\\ProgramData\\Anaconda3\\lib\\site-packages\\sklearn\\metrics\\_classification.py:1344: UndefinedMetricWarning: Precision and F-score are ill-defined and being set to 0.0 in labels with no predicted samples. Use `zero_division` parameter to control this behavior.\n",
      "  _warn_prf(average, modifier, msg_start, len(result))\n",
      "c:\\ProgramData\\Anaconda3\\lib\\site-packages\\sklearn\\metrics\\_classification.py:1344: UndefinedMetricWarning: Precision and F-score are ill-defined and being set to 0.0 in labels with no predicted samples. Use `zero_division` parameter to control this behavior.\n",
      "  _warn_prf(average, modifier, msg_start, len(result))\n",
      "c:\\ProgramData\\Anaconda3\\lib\\site-packages\\sklearn\\metrics\\_classification.py:1344: UndefinedMetricWarning: Precision and F-score are ill-defined and being set to 0.0 in labels with no predicted samples. Use `zero_division` parameter to control this behavior.\n",
      "  _warn_prf(average, modifier, msg_start, len(result))\n",
      "[Parallel(n_jobs=-1)]: Using backend LokyBackend with 12 concurrent workers.\n"
     ]
    },
    {
     "name": "stdout",
     "output_type": "stream",
     "text": [
      "K-Fold #9\n",
      "Mean negativities for all classes: [0.36467699315427893, 0.38267486398796813, 0.38666970992331806]\n",
      "Mean entropies for all classes: [3.82710268679376e-15, 3.0324284610023288e-15, 3.988708905195782e-15]\n",
      "              precision    recall  f1-score   support\n",
      "\n",
      "           0       0.25      0.40      0.31         5\n",
      "           1       0.00      0.00      0.00         5\n",
      "           2       0.00      0.00      0.00         5\n",
      "\n",
      "    accuracy                           0.13        15\n",
      "   macro avg       0.08      0.13      0.10        15\n",
      "weighted avg       0.08      0.13      0.10        15\n",
      "\n",
      "-------------------------------------------------------------------------------------------------------------------\n",
      "AVG: Scores = 0.28 F1-Scores = 0.24522644022644022 Negativity = [0.38011371127316346, 0.3684848622213683, 0.3756317708276032] Entropy = [3.66455482481647e-15, 3.622341455473876e-15, 3.461232356148582e-15]\n"
     ]
    },
    {
     "name": "stderr",
     "output_type": "stream",
     "text": [
      "[Parallel(n_jobs=-1)]: Done   3 out of   3 | elapsed:  1.0min finished\n",
      "c:\\ProgramData\\Anaconda3\\lib\\site-packages\\sklearn\\metrics\\_classification.py:1344: UndefinedMetricWarning: Precision and F-score are ill-defined and being set to 0.0 in labels with no predicted samples. Use `zero_division` parameter to control this behavior.\n",
      "  _warn_prf(average, modifier, msg_start, len(result))\n",
      "c:\\ProgramData\\Anaconda3\\lib\\site-packages\\sklearn\\metrics\\_classification.py:1344: UndefinedMetricWarning: Precision and F-score are ill-defined and being set to 0.0 in labels with no predicted samples. Use `zero_division` parameter to control this behavior.\n",
      "  _warn_prf(average, modifier, msg_start, len(result))\n",
      "c:\\ProgramData\\Anaconda3\\lib\\site-packages\\sklearn\\metrics\\_classification.py:1344: UndefinedMetricWarning: Precision and F-score are ill-defined and being set to 0.0 in labels with no predicted samples. Use `zero_division` parameter to control this behavior.\n",
      "  _warn_prf(average, modifier, msg_start, len(result))\n",
      "[Parallel(n_jobs=-1)]: Using backend LokyBackend with 12 concurrent workers.\n"
     ]
    },
    {
     "name": "stdout",
     "output_type": "stream",
     "text": [
      "K-Fold #0\n",
      "Mean negativities for all classes: [0.35730135643627264, 0.37621873384924537, 0.38919201784376856]\n",
      "Mean entropies for all classes: [2.959520056260261e-15, 3.52244334640747e-15, 4.550511551469443e-15]\n",
      "              precision    recall  f1-score   support\n",
      "\n",
      "           0       0.25      0.40      0.31         5\n",
      "           1       0.00      0.00      0.00         5\n",
      "           2       0.00      0.00      0.00         5\n",
      "\n",
      "    accuracy                           0.13        15\n",
      "   macro avg       0.08      0.13      0.10        15\n",
      "weighted avg       0.08      0.13      0.10        15\n",
      "\n",
      "-------------------------------------------------------------------------------------------------------------------\n"
     ]
    },
    {
     "name": "stderr",
     "output_type": "stream",
     "text": [
      "[Parallel(n_jobs=-1)]: Done   3 out of   3 | elapsed:  1.0min finished\n",
      "c:\\ProgramData\\Anaconda3\\lib\\site-packages\\sklearn\\metrics\\_classification.py:1344: UndefinedMetricWarning: Precision and F-score are ill-defined and being set to 0.0 in labels with no predicted samples. Use `zero_division` parameter to control this behavior.\n",
      "  _warn_prf(average, modifier, msg_start, len(result))\n",
      "c:\\ProgramData\\Anaconda3\\lib\\site-packages\\sklearn\\metrics\\_classification.py:1344: UndefinedMetricWarning: Precision and F-score are ill-defined and being set to 0.0 in labels with no predicted samples. Use `zero_division` parameter to control this behavior.\n",
      "  _warn_prf(average, modifier, msg_start, len(result))\n",
      "c:\\ProgramData\\Anaconda3\\lib\\site-packages\\sklearn\\metrics\\_classification.py:1344: UndefinedMetricWarning: Precision and F-score are ill-defined and being set to 0.0 in labels with no predicted samples. Use `zero_division` parameter to control this behavior.\n",
      "  _warn_prf(average, modifier, msg_start, len(result))\n",
      "[Parallel(n_jobs=-1)]: Using backend LokyBackend with 12 concurrent workers.\n"
     ]
    },
    {
     "name": "stdout",
     "output_type": "stream",
     "text": [
      "K-Fold #1\n",
      "Mean negativities for all classes: [0.36701247064038783, 0.3831019365484066, 0.38656203821940366]\n",
      "Mean entropies for all classes: [4.02988331778162e-15, 3.744165965313434e-15, 3.728917897955241e-15]\n",
      "              precision    recall  f1-score   support\n",
      "\n",
      "           0       0.30      0.60      0.40         5\n",
      "           1       0.00      0.00      0.00         5\n",
      "           2       0.00      0.00      0.00         5\n",
      "\n",
      "    accuracy                           0.20        15\n",
      "   macro avg       0.10      0.20      0.13        15\n",
      "weighted avg       0.10      0.20      0.13        15\n",
      "\n",
      "-------------------------------------------------------------------------------------------------------------------\n"
     ]
    },
    {
     "name": "stderr",
     "output_type": "stream",
     "text": [
      "[Parallel(n_jobs=-1)]: Done   3 out of   3 | elapsed:  1.0min finished\n",
      "[Parallel(n_jobs=-1)]: Using backend LokyBackend with 12 concurrent workers.\n"
     ]
    },
    {
     "name": "stdout",
     "output_type": "stream",
     "text": [
      "K-Fold #2\n",
      "Mean negativities for all classes: [0.3676411686167235, 0.38102581421261067, 0.38505896872452183]\n",
      "Mean entropies for all classes: [3.530270264858934e-15, 2.818404975170175e-15, 3.743297078976698e-15]\n",
      "              precision    recall  f1-score   support\n",
      "\n",
      "           0       0.33      0.40      0.36         5\n",
      "           1       0.25      0.40      0.31         5\n",
      "           2       1.00      0.20      0.33         5\n",
      "\n",
      "    accuracy                           0.33        15\n",
      "   macro avg       0.53      0.33      0.33        15\n",
      "weighted avg       0.53      0.33      0.33        15\n",
      "\n",
      "-------------------------------------------------------------------------------------------------------------------\n"
     ]
    },
    {
     "name": "stderr",
     "output_type": "stream",
     "text": [
      "[Parallel(n_jobs=-1)]: Done   3 out of   3 | elapsed:  1.0min finished\n",
      "[Parallel(n_jobs=-1)]: Using backend LokyBackend with 12 concurrent workers.\n"
     ]
    },
    {
     "name": "stdout",
     "output_type": "stream",
     "text": [
      "K-Fold #3\n",
      "Mean negativities for all classes: [0.36844771525610237, 0.3854931273609441, 0.3780444871513226]\n",
      "Mean entropies for all classes: [3.984209370387556e-15, 3.4839598302660784e-15, 4.59729532760447e-15]\n",
      "              precision    recall  f1-score   support\n",
      "\n",
      "           0       0.43      0.60      0.50         5\n",
      "           1       0.29      0.40      0.33         5\n",
      "           2       0.00      0.00      0.00         5\n",
      "\n",
      "    accuracy                           0.33        15\n",
      "   macro avg       0.24      0.33      0.28        15\n",
      "weighted avg       0.24      0.33      0.28        15\n",
      "\n",
      "-------------------------------------------------------------------------------------------------------------------\n"
     ]
    },
    {
     "name": "stderr",
     "output_type": "stream",
     "text": [
      "[Parallel(n_jobs=-1)]: Done   3 out of   3 | elapsed:  1.0min finished\n",
      "[Parallel(n_jobs=-1)]: Using backend LokyBackend with 12 concurrent workers.\n"
     ]
    },
    {
     "name": "stdout",
     "output_type": "stream",
     "text": [
      "K-Fold #4\n",
      "Mean negativities for all classes: [0.3676513016335862, 0.39008969407500627, 0.37379093750653525]\n",
      "Mean entropies for all classes: [3.198625742401068e-15, 3.250062246980931e-15, 4.150642073201844e-15]\n",
      "              precision    recall  f1-score   support\n",
      "\n",
      "           0       0.60      0.60      0.60         5\n",
      "           1       0.25      0.40      0.31         5\n",
      "           2       0.50      0.20      0.29         5\n",
      "\n",
      "    accuracy                           0.40        15\n",
      "   macro avg       0.45      0.40      0.40        15\n",
      "weighted avg       0.45      0.40      0.40        15\n",
      "\n",
      "-------------------------------------------------------------------------------------------------------------------\n"
     ]
    },
    {
     "name": "stderr",
     "output_type": "stream",
     "text": [
      "[Parallel(n_jobs=-1)]: Done   3 out of   3 | elapsed:  1.0min finished\n",
      "[Parallel(n_jobs=-1)]: Using backend LokyBackend with 12 concurrent workers.\n"
     ]
    },
    {
     "name": "stdout",
     "output_type": "stream",
     "text": [
      "K-Fold #5\n",
      "Mean negativities for all classes: [0.3681692316954402, 0.38947677522250146, 0.3817418463666246]\n",
      "Mean entropies for all classes: [3.2709093550598026e-15, 3.293897563188958e-15, 3.295451085497644e-15]\n",
      "              precision    recall  f1-score   support\n",
      "\n",
      "           0       0.57      0.80      0.67         5\n",
      "           1       0.29      0.40      0.33         5\n",
      "           2       0.00      0.00      0.00         5\n",
      "\n",
      "    accuracy                           0.40        15\n",
      "   macro avg       0.29      0.40      0.33        15\n",
      "weighted avg       0.29      0.40      0.33        15\n",
      "\n",
      "-------------------------------------------------------------------------------------------------------------------\n"
     ]
    },
    {
     "name": "stderr",
     "output_type": "stream",
     "text": [
      "[Parallel(n_jobs=-1)]: Done   3 out of   3 | elapsed:  1.0min finished\n",
      "[Parallel(n_jobs=-1)]: Using backend LokyBackend with 12 concurrent workers.\n"
     ]
    },
    {
     "name": "stdout",
     "output_type": "stream",
     "text": [
      "K-Fold #6\n",
      "Mean negativities for all classes: [0.3611729469571745, 0.3846563864288388, 0.3740260884579903]\n",
      "Mean entropies for all classes: [3.3003747869125376e-15, 3.9715805045864835e-15, 3.565394815980879e-15]\n",
      "              precision    recall  f1-score   support\n",
      "\n",
      "           0       0.33      0.40      0.36         5\n",
      "           1       0.00      0.00      0.00         5\n",
      "           2       0.00      0.00      0.00         5\n",
      "\n",
      "    accuracy                           0.13        15\n",
      "   macro avg       0.11      0.13      0.12        15\n",
      "weighted avg       0.11      0.13      0.12        15\n",
      "\n",
      "-------------------------------------------------------------------------------------------------------------------\n"
     ]
    },
    {
     "name": "stderr",
     "output_type": "stream",
     "text": [
      "[Parallel(n_jobs=-1)]: Done   3 out of   3 | elapsed:  1.0min finished\n",
      "[Parallel(n_jobs=-1)]: Using backend LokyBackend with 12 concurrent workers.\n"
     ]
    },
    {
     "name": "stdout",
     "output_type": "stream",
     "text": [
      "K-Fold #7\n",
      "Mean negativities for all classes: [0.3550911322334786, 0.37895084731254985, 0.3854006792906575]\n",
      "Mean entropies for all classes: [3.2141127335213268e-15, 3.1981151263027905e-15, 3.702067966639807e-15]\n",
      "              precision    recall  f1-score   support\n",
      "\n",
      "           0       0.40      0.40      0.40         5\n",
      "           1       0.25      0.40      0.31         5\n",
      "           2       0.50      0.20      0.29         5\n",
      "\n",
      "    accuracy                           0.33        15\n",
      "   macro avg       0.38      0.33      0.33        15\n",
      "weighted avg       0.38      0.33      0.33        15\n",
      "\n",
      "-------------------------------------------------------------------------------------------------------------------\n"
     ]
    },
    {
     "name": "stderr",
     "output_type": "stream",
     "text": [
      "[Parallel(n_jobs=-1)]: Done   3 out of   3 | elapsed:  1.0min finished\n",
      "c:\\ProgramData\\Anaconda3\\lib\\site-packages\\sklearn\\metrics\\_classification.py:1344: UndefinedMetricWarning: Precision and F-score are ill-defined and being set to 0.0 in labels with no predicted samples. Use `zero_division` parameter to control this behavior.\n",
      "  _warn_prf(average, modifier, msg_start, len(result))\n",
      "c:\\ProgramData\\Anaconda3\\lib\\site-packages\\sklearn\\metrics\\_classification.py:1344: UndefinedMetricWarning: Precision and F-score are ill-defined and being set to 0.0 in labels with no predicted samples. Use `zero_division` parameter to control this behavior.\n",
      "  _warn_prf(average, modifier, msg_start, len(result))\n",
      "c:\\ProgramData\\Anaconda3\\lib\\site-packages\\sklearn\\metrics\\_classification.py:1344: UndefinedMetricWarning: Precision and F-score are ill-defined and being set to 0.0 in labels with no predicted samples. Use `zero_division` parameter to control this behavior.\n",
      "  _warn_prf(average, modifier, msg_start, len(result))\n",
      "[Parallel(n_jobs=-1)]: Using backend LokyBackend with 12 concurrent workers.\n"
     ]
    },
    {
     "name": "stdout",
     "output_type": "stream",
     "text": [
      "K-Fold #8\n",
      "Mean negativities for all classes: [0.3735708968048976, 0.3826504620494796, 0.3849728548041461]\n",
      "Mean entropies for all classes: [3.521564673363436e-15, 3.9199846619721225e-15, 3.1133452997469354e-15]\n",
      "              precision    recall  f1-score   support\n",
      "\n",
      "           0       0.14      0.20      0.17         5\n",
      "           1       0.00      0.00      0.00         5\n",
      "           2       0.00      0.00      0.00         5\n",
      "\n",
      "    accuracy                           0.07        15\n",
      "   macro avg       0.05      0.07      0.06        15\n",
      "weighted avg       0.05      0.07      0.06        15\n",
      "\n",
      "-------------------------------------------------------------------------------------------------------------------\n"
     ]
    },
    {
     "name": "stderr",
     "output_type": "stream",
     "text": [
      "[Parallel(n_jobs=-1)]: Done   3 out of   3 | elapsed:  1.0min finished\n",
      "[Parallel(n_jobs=-1)]: Using backend LokyBackend with 12 concurrent workers.\n"
     ]
    },
    {
     "name": "stdout",
     "output_type": "stream",
     "text": [
      "K-Fold #9\n",
      "Mean negativities for all classes: [0.37932561827038963, 0.38687843813491996, 0.3842193137285011]\n",
      "Mean entropies for all classes: [2.9847370063499716e-15, 4.2594708055689206e-15, 3.1591396126450462e-15]\n",
      "              precision    recall  f1-score   support\n",
      "\n",
      "           0       0.40      0.40      0.40         5\n",
      "           1       0.00      0.00      0.00         5\n",
      "           2       0.33      0.20      0.25         5\n",
      "\n",
      "    accuracy                           0.20        15\n",
      "   macro avg       0.24      0.20      0.22        15\n",
      "weighted avg       0.24      0.20      0.22        15\n",
      "\n",
      "-------------------------------------------------------------------------------------------------------------------\n",
      "AVG: Scores = 0.25333333333333335 F1-Scores = 0.23042679542679542 Negativity = [0.3742373693764289, 0.3788921484693994, 0.377908650517952] Entropy = [3.677491651379058e-15, 3.834322393683432e-15, 3.363990773001936e-15]\n"
     ]
    },
    {
     "name": "stderr",
     "output_type": "stream",
     "text": [
      "[Parallel(n_jobs=-1)]: Done   3 out of   3 | elapsed:  1.0min finished\n",
      "[Parallel(n_jobs=-1)]: Using backend LokyBackend with 12 concurrent workers.\n"
     ]
    },
    {
     "name": "stdout",
     "output_type": "stream",
     "text": [
      "K-Fold #0\n",
      "Mean negativities for all classes: [0.36259647278575424, 0.3838110205054429, 0.379602147216696]\n",
      "Mean entropies for all classes: [4.555037176803488e-15, 4.386431897011162e-15, 4.147606991911487e-15]\n",
      "              precision    recall  f1-score   support\n",
      "\n",
      "           0       0.50      0.60      0.55         5\n",
      "           1       0.33      0.40      0.36         5\n",
      "           2       0.67      0.40      0.50         5\n",
      "\n",
      "    accuracy                           0.47        15\n",
      "   macro avg       0.50      0.47      0.47        15\n",
      "weighted avg       0.50      0.47      0.47        15\n",
      "\n",
      "-------------------------------------------------------------------------------------------------------------------\n"
     ]
    },
    {
     "name": "stderr",
     "output_type": "stream",
     "text": [
      "[Parallel(n_jobs=-1)]: Done   3 out of   3 | elapsed:  1.0min finished\n",
      "[Parallel(n_jobs=-1)]: Using backend LokyBackend with 12 concurrent workers.\n"
     ]
    },
    {
     "name": "stdout",
     "output_type": "stream",
     "text": [
      "K-Fold #1\n",
      "Mean negativities for all classes: [0.35114874390478445, 0.3846888045502741, 0.3784863294930622]\n",
      "Mean entropies for all classes: [3.755982547205322e-15, 3.6810744938772e-15, 2.878725594440897e-15]\n",
      "              precision    recall  f1-score   support\n",
      "\n",
      "           0       0.67      0.80      0.73         5\n",
      "           1       0.17      0.20      0.18         5\n",
      "           2       0.00      0.00      0.00         5\n",
      "\n",
      "    accuracy                           0.33        15\n",
      "   macro avg       0.28      0.33      0.30        15\n",
      "weighted avg       0.28      0.33      0.30        15\n",
      "\n",
      "-------------------------------------------------------------------------------------------------------------------\n"
     ]
    },
    {
     "name": "stderr",
     "output_type": "stream",
     "text": [
      "[Parallel(n_jobs=-1)]: Done   3 out of   3 | elapsed:  1.0min finished\n",
      "c:\\ProgramData\\Anaconda3\\lib\\site-packages\\sklearn\\metrics\\_classification.py:1344: UndefinedMetricWarning: Precision and F-score are ill-defined and being set to 0.0 in labels with no predicted samples. Use `zero_division` parameter to control this behavior.\n",
      "  _warn_prf(average, modifier, msg_start, len(result))\n",
      "c:\\ProgramData\\Anaconda3\\lib\\site-packages\\sklearn\\metrics\\_classification.py:1344: UndefinedMetricWarning: Precision and F-score are ill-defined and being set to 0.0 in labels with no predicted samples. Use `zero_division` parameter to control this behavior.\n",
      "  _warn_prf(average, modifier, msg_start, len(result))\n",
      "c:\\ProgramData\\Anaconda3\\lib\\site-packages\\sklearn\\metrics\\_classification.py:1344: UndefinedMetricWarning: Precision and F-score are ill-defined and being set to 0.0 in labels with no predicted samples. Use `zero_division` parameter to control this behavior.\n",
      "  _warn_prf(average, modifier, msg_start, len(result))\n",
      "[Parallel(n_jobs=-1)]: Using backend LokyBackend with 12 concurrent workers.\n"
     ]
    },
    {
     "name": "stdout",
     "output_type": "stream",
     "text": [
      "K-Fold #2\n",
      "Mean negativities for all classes: [0.3687715075089158, 0.3788704929383854, 0.386922846780766]\n",
      "Mean entropies for all classes: [3.56036913668859e-15, 3.080648473808561e-15, 3.1643181914974923e-15]\n",
      "              precision    recall  f1-score   support\n",
      "\n",
      "           0       0.29      0.40      0.33         5\n",
      "           1       0.12      0.20      0.15         5\n",
      "           2       0.00      0.00      0.00         5\n",
      "\n",
      "    accuracy                           0.20        15\n",
      "   macro avg       0.14      0.20      0.16        15\n",
      "weighted avg       0.14      0.20      0.16        15\n",
      "\n",
      "-------------------------------------------------------------------------------------------------------------------\n"
     ]
    },
    {
     "name": "stderr",
     "output_type": "stream",
     "text": [
      "[Parallel(n_jobs=-1)]: Done   3 out of   3 | elapsed:  1.0min finished\n",
      "[Parallel(n_jobs=-1)]: Using backend LokyBackend with 12 concurrent workers.\n"
     ]
    },
    {
     "name": "stdout",
     "output_type": "stream",
     "text": [
      "K-Fold #3\n",
      "Mean negativities for all classes: [0.3552175372313448, 0.38649675308162135, 0.3759424145969397]\n",
      "Mean entropies for all classes: [2.987187216487505e-15, 4.313861951285747e-15, 3.909032301700125e-15]\n",
      "              precision    recall  f1-score   support\n",
      "\n",
      "           0       0.33      0.60      0.43         5\n",
      "           1       0.00      0.00      0.00         5\n",
      "           2       0.50      0.20      0.29         5\n",
      "\n",
      "    accuracy                           0.27        15\n",
      "   macro avg       0.28      0.27      0.24        15\n",
      "weighted avg       0.28      0.27      0.24        15\n",
      "\n",
      "-------------------------------------------------------------------------------------------------------------------\n"
     ]
    },
    {
     "name": "stderr",
     "output_type": "stream",
     "text": [
      "[Parallel(n_jobs=-1)]: Done   3 out of   3 | elapsed:  1.0min finished\n",
      "[Parallel(n_jobs=-1)]: Using backend LokyBackend with 12 concurrent workers.\n"
     ]
    },
    {
     "name": "stdout",
     "output_type": "stream",
     "text": [
      "K-Fold #4\n",
      "Mean negativities for all classes: [0.3715603928743422, 0.38613443565590866, 0.38439616168145285]\n",
      "Mean entropies for all classes: [4.445107258126868e-15, 3.682667615523866e-15, 3.2550196349523542e-15]\n",
      "              precision    recall  f1-score   support\n",
      "\n",
      "           0       0.50      0.60      0.55         5\n",
      "           1       0.25      0.40      0.31         5\n",
      "           2       0.00      0.00      0.00         5\n",
      "\n",
      "    accuracy                           0.33        15\n",
      "   macro avg       0.25      0.33      0.28        15\n",
      "weighted avg       0.25      0.33      0.28        15\n",
      "\n",
      "-------------------------------------------------------------------------------------------------------------------\n"
     ]
    },
    {
     "name": "stderr",
     "output_type": "stream",
     "text": [
      "[Parallel(n_jobs=-1)]: Done   3 out of   3 | elapsed:  1.2min finished\n",
      "[Parallel(n_jobs=-1)]: Using backend LokyBackend with 12 concurrent workers.\n"
     ]
    },
    {
     "name": "stdout",
     "output_type": "stream",
     "text": [
      "K-Fold #5\n",
      "Mean negativities for all classes: [0.37562936415917453, 0.38793483678466983, 0.38371556551359626]\n",
      "Mean entropies for all classes: [3.1529227612812993e-15, 3.9508665629371856e-15, 3.711021796735316e-15]\n",
      "              precision    recall  f1-score   support\n",
      "\n",
      "           0       0.29      0.40      0.33         5\n",
      "           1       0.00      0.00      0.00         5\n",
      "           2       0.00      0.00      0.00         5\n",
      "\n",
      "    accuracy                           0.13        15\n",
      "   macro avg       0.10      0.13      0.11        15\n",
      "weighted avg       0.10      0.13      0.11        15\n",
      "\n",
      "-------------------------------------------------------------------------------------------------------------------\n"
     ]
    },
    {
     "name": "stderr",
     "output_type": "stream",
     "text": [
      "[Parallel(n_jobs=-1)]: Done   3 out of   3 | elapsed:  1.1min finished\n",
      "[Parallel(n_jobs=-1)]: Using backend LokyBackend with 12 concurrent workers.\n"
     ]
    },
    {
     "name": "stdout",
     "output_type": "stream",
     "text": [
      "K-Fold #6\n",
      "Mean negativities for all classes: [0.37064458998453775, 0.38457762964110553, 0.37759580823615224]\n",
      "Mean entropies for all classes: [3.802955602015687e-15, 3.6548609763287836e-15, 3.4780878024912698e-15]\n",
      "              precision    recall  f1-score   support\n",
      "\n",
      "           0       0.29      0.40      0.33         5\n",
      "           1       0.00      0.00      0.00         5\n",
      "           2       0.33      0.20      0.25         5\n",
      "\n",
      "    accuracy                           0.20        15\n",
      "   macro avg       0.21      0.20      0.19        15\n",
      "weighted avg       0.21      0.20      0.19        15\n",
      "\n",
      "-------------------------------------------------------------------------------------------------------------------\n"
     ]
    },
    {
     "name": "stderr",
     "output_type": "stream",
     "text": [
      "[Parallel(n_jobs=-1)]: Done   3 out of   3 | elapsed:  1.0min finished\n",
      "[Parallel(n_jobs=-1)]: Using backend LokyBackend with 12 concurrent workers.\n"
     ]
    },
    {
     "name": "stdout",
     "output_type": "stream",
     "text": [
      "K-Fold #7\n",
      "Mean negativities for all classes: [0.36394511719604605, 0.3805207249264349, 0.37968904870874726]\n",
      "Mean entropies for all classes: [3.911616501278183e-15, 3.74117644562227e-15, 3.73559052178158e-15]\n",
      "              precision    recall  f1-score   support\n",
      "\n",
      "           0       0.43      0.60      0.50         5\n",
      "           1       0.29      0.40      0.33         5\n",
      "           2       0.00      0.00      0.00         5\n",
      "\n",
      "    accuracy                           0.33        15\n",
      "   macro avg       0.24      0.33      0.28        15\n",
      "weighted avg       0.24      0.33      0.28        15\n",
      "\n",
      "-------------------------------------------------------------------------------------------------------------------\n"
     ]
    },
    {
     "name": "stderr",
     "output_type": "stream",
     "text": [
      "[Parallel(n_jobs=-1)]: Done   3 out of   3 | elapsed:  1.0min finished\n",
      "[Parallel(n_jobs=-1)]: Using backend LokyBackend with 12 concurrent workers.\n"
     ]
    },
    {
     "name": "stdout",
     "output_type": "stream",
     "text": [
      "K-Fold #8\n",
      "Mean negativities for all classes: [0.38031575458632094, 0.3767792737204901, 0.3888002385860536]\n",
      "Mean entropies for all classes: [4.142701335480516e-15, 3.980319818001863e-15, 3.592431767615773e-15]\n",
      "              precision    recall  f1-score   support\n",
      "\n",
      "           0       0.20      0.20      0.20         5\n",
      "           1       0.11      0.20      0.14         5\n",
      "           2       0.00      0.00      0.00         5\n",
      "\n",
      "    accuracy                           0.13        15\n",
      "   macro avg       0.10      0.13      0.11        15\n",
      "weighted avg       0.10      0.13      0.11        15\n",
      "\n",
      "-------------------------------------------------------------------------------------------------------------------\n"
     ]
    },
    {
     "name": "stderr",
     "output_type": "stream",
     "text": [
      "[Parallel(n_jobs=-1)]: Done   3 out of   3 | elapsed:  1.0min finished\n",
      "[Parallel(n_jobs=-1)]: Using backend LokyBackend with 12 concurrent workers.\n"
     ]
    },
    {
     "name": "stdout",
     "output_type": "stream",
     "text": [
      "K-Fold #9\n",
      "Mean negativities for all classes: [0.36932713491443303, 0.38340139761896874, 0.3904401483609012]\n",
      "Mean entropies for all classes: [2.871096056470823e-15, 3.754727289426376e-15, 3.373572421237268e-15]\n",
      "              precision    recall  f1-score   support\n",
      "\n",
      "           0       0.60      0.60      0.60         5\n",
      "           1       0.22      0.40      0.29         5\n",
      "           2       0.00      0.00      0.00         5\n",
      "\n",
      "    accuracy                           0.33        15\n",
      "   macro avg       0.27      0.33      0.30        15\n",
      "weighted avg       0.27      0.33      0.30        15\n",
      "\n",
      "-------------------------------------------------------------------------------------------------------------------\n",
      "AVG: Scores = 0.2733333333333333 F1-Scores = 0.24504551004551006 Negativity = [0.3753365468359644, 0.3714412926493736, 0.3781882824093557] Entropy = [4.363025355242046e-15, 3.4385942118411396e-15, 3.2684452673315476e-15]\n"
     ]
    },
    {
     "name": "stderr",
     "output_type": "stream",
     "text": [
      "[Parallel(n_jobs=-1)]: Done   3 out of   3 | elapsed:  1.0min finished\n",
      "[Parallel(n_jobs=-1)]: Using backend LokyBackend with 12 concurrent workers.\n"
     ]
    },
    {
     "name": "stdout",
     "output_type": "stream",
     "text": [
      "K-Fold #0\n",
      "Mean negativities for all classes: [0.3715441229648734, 0.37994968410171037, 0.38238472279924457]\n",
      "Mean entropies for all classes: [3.2065563724822286e-15, 3.626882832215031e-15, 4.1722713930159e-15]\n",
      "              precision    recall  f1-score   support\n",
      "\n",
      "           0       0.43      0.60      0.50         5\n",
      "           1       0.14      0.20      0.17         5\n",
      "           2       1.00      0.20      0.33         5\n",
      "\n",
      "    accuracy                           0.33        15\n",
      "   macro avg       0.52      0.33      0.33        15\n",
      "weighted avg       0.52      0.33      0.33        15\n",
      "\n",
      "-------------------------------------------------------------------------------------------------------------------\n"
     ]
    },
    {
     "name": "stderr",
     "output_type": "stream",
     "text": [
      "[Parallel(n_jobs=-1)]: Done   3 out of   3 | elapsed:  1.0min finished\n",
      "[Parallel(n_jobs=-1)]: Using backend LokyBackend with 12 concurrent workers.\n"
     ]
    },
    {
     "name": "stdout",
     "output_type": "stream",
     "text": [
      "K-Fold #1\n",
      "Mean negativities for all classes: [0.3666801046134174, 0.3853021809786708, 0.3812434611058942]\n",
      "Mean entropies for all classes: [3.24726731502912e-15, 3.1910898669183267e-15, 4.323934371428777e-15]\n",
      "              precision    recall  f1-score   support\n",
      "\n",
      "           0       0.50      0.40      0.44         5\n",
      "           1       0.00      0.00      0.00         5\n",
      "           2       0.00      0.00      0.00         5\n",
      "\n",
      "    accuracy                           0.13        15\n",
      "   macro avg       0.17      0.13      0.15        15\n",
      "weighted avg       0.17      0.13      0.15        15\n",
      "\n",
      "-------------------------------------------------------------------------------------------------------------------\n"
     ]
    },
    {
     "name": "stderr",
     "output_type": "stream",
     "text": [
      "[Parallel(n_jobs=-1)]: Done   3 out of   3 | elapsed:  1.0min finished\n",
      "c:\\ProgramData\\Anaconda3\\lib\\site-packages\\sklearn\\metrics\\_classification.py:1344: UndefinedMetricWarning: Precision and F-score are ill-defined and being set to 0.0 in labels with no predicted samples. Use `zero_division` parameter to control this behavior.\n",
      "  _warn_prf(average, modifier, msg_start, len(result))\n",
      "c:\\ProgramData\\Anaconda3\\lib\\site-packages\\sklearn\\metrics\\_classification.py:1344: UndefinedMetricWarning: Precision and F-score are ill-defined and being set to 0.0 in labels with no predicted samples. Use `zero_division` parameter to control this behavior.\n",
      "  _warn_prf(average, modifier, msg_start, len(result))\n",
      "c:\\ProgramData\\Anaconda3\\lib\\site-packages\\sklearn\\metrics\\_classification.py:1344: UndefinedMetricWarning: Precision and F-score are ill-defined and being set to 0.0 in labels with no predicted samples. Use `zero_division` parameter to control this behavior.\n",
      "  _warn_prf(average, modifier, msg_start, len(result))\n",
      "[Parallel(n_jobs=-1)]: Using backend LokyBackend with 12 concurrent workers.\n"
     ]
    },
    {
     "name": "stdout",
     "output_type": "stream",
     "text": [
      "K-Fold #2\n",
      "Mean negativities for all classes: [0.36274322751338084, 0.3793964884368252, 0.38719847066981095]\n",
      "Mean entropies for all classes: [3.2728988556739126e-15, 3.805282250875981e-15, 3.641627250162449e-15]\n",
      "              precision    recall  f1-score   support\n",
      "\n",
      "           0       0.33      0.40      0.36         5\n",
      "           1       0.22      0.40      0.29         5\n",
      "           2       0.00      0.00      0.00         5\n",
      "\n",
      "    accuracy                           0.27        15\n",
      "   macro avg       0.19      0.27      0.22        15\n",
      "weighted avg       0.19      0.27      0.22        15\n",
      "\n",
      "-------------------------------------------------------------------------------------------------------------------\n"
     ]
    },
    {
     "name": "stderr",
     "output_type": "stream",
     "text": [
      "[Parallel(n_jobs=-1)]: Done   3 out of   3 | elapsed:  1.0min finished\n",
      "[Parallel(n_jobs=-1)]: Using backend LokyBackend with 12 concurrent workers.\n"
     ]
    },
    {
     "name": "stdout",
     "output_type": "stream",
     "text": [
      "K-Fold #3\n",
      "Mean negativities for all classes: [0.3649816073266374, 0.38429252449535506, 0.3851977079706848]\n",
      "Mean entropies for all classes: [3.3949308881323122e-15, 3.6787319469023296e-15, 3.2921178966610038e-15]\n",
      "              precision    recall  f1-score   support\n",
      "\n",
      "           0       0.40      0.80      0.53         5\n",
      "           1       0.00      0.00      0.00         5\n",
      "           2       0.50      0.20      0.29         5\n",
      "\n",
      "    accuracy                           0.33        15\n",
      "   macro avg       0.30      0.33      0.27        15\n",
      "weighted avg       0.30      0.33      0.27        15\n",
      "\n",
      "-------------------------------------------------------------------------------------------------------------------\n"
     ]
    },
    {
     "name": "stderr",
     "output_type": "stream",
     "text": [
      "[Parallel(n_jobs=-1)]: Done   3 out of   3 | elapsed:  1.0min finished\n",
      "[Parallel(n_jobs=-1)]: Using backend LokyBackend with 12 concurrent workers.\n"
     ]
    },
    {
     "name": "stdout",
     "output_type": "stream",
     "text": [
      "K-Fold #4\n",
      "Mean negativities for all classes: [0.3645156558829251, 0.38578942595836546, 0.3780566975926277]\n",
      "Mean entropies for all classes: [3.3733560461678533e-15, 3.5042782962101483e-15, 4.267258935256396e-15]\n",
      "              precision    recall  f1-score   support\n",
      "\n",
      "           0       0.38      0.60      0.46         5\n",
      "           1       0.20      0.20      0.20         5\n",
      "           2       0.50      0.20      0.29         5\n",
      "\n",
      "    accuracy                           0.33        15\n",
      "   macro avg       0.36      0.33      0.32        15\n",
      "weighted avg       0.36      0.33      0.32        15\n",
      "\n",
      "-------------------------------------------------------------------------------------------------------------------\n"
     ]
    },
    {
     "name": "stderr",
     "output_type": "stream",
     "text": [
      "[Parallel(n_jobs=-1)]: Done   3 out of   3 | elapsed:  1.0min finished\n",
      "[Parallel(n_jobs=-1)]: Using backend LokyBackend with 12 concurrent workers.\n"
     ]
    },
    {
     "name": "stdout",
     "output_type": "stream",
     "text": [
      "K-Fold #5\n",
      "Mean negativities for all classes: [0.37329167828220505, 0.3701483938023911, 0.37485405768408386]\n",
      "Mean entropies for all classes: [4.0340685574503195e-15, 3.4730638765202716e-15, 2.9427519134111245e-15]\n",
      "              precision    recall  f1-score   support\n",
      "\n",
      "           0       0.00      0.00      0.00         5\n",
      "           1       0.18      0.40      0.25         5\n",
      "           2       0.00      0.00      0.00         5\n",
      "\n",
      "    accuracy                           0.13        15\n",
      "   macro avg       0.06      0.13      0.08        15\n",
      "weighted avg       0.06      0.13      0.08        15\n",
      "\n",
      "-------------------------------------------------------------------------------------------------------------------\n"
     ]
    },
    {
     "name": "stderr",
     "output_type": "stream",
     "text": [
      "[Parallel(n_jobs=-1)]: Done   3 out of   3 | elapsed:  1.0min finished\n",
      "c:\\ProgramData\\Anaconda3\\lib\\site-packages\\sklearn\\metrics\\_classification.py:1344: UndefinedMetricWarning: Precision and F-score are ill-defined and being set to 0.0 in labels with no predicted samples. Use `zero_division` parameter to control this behavior.\n",
      "  _warn_prf(average, modifier, msg_start, len(result))\n",
      "c:\\ProgramData\\Anaconda3\\lib\\site-packages\\sklearn\\metrics\\_classification.py:1344: UndefinedMetricWarning: Precision and F-score are ill-defined and being set to 0.0 in labels with no predicted samples. Use `zero_division` parameter to control this behavior.\n",
      "  _warn_prf(average, modifier, msg_start, len(result))\n",
      "c:\\ProgramData\\Anaconda3\\lib\\site-packages\\sklearn\\metrics\\_classification.py:1344: UndefinedMetricWarning: Precision and F-score are ill-defined and being set to 0.0 in labels with no predicted samples. Use `zero_division` parameter to control this behavior.\n",
      "  _warn_prf(average, modifier, msg_start, len(result))\n",
      "[Parallel(n_jobs=-1)]: Using backend LokyBackend with 12 concurrent workers.\n"
     ]
    },
    {
     "name": "stdout",
     "output_type": "stream",
     "text": [
      "K-Fold #6\n",
      "Mean negativities for all classes: [0.36043094955716437, 0.38577896722299293, 0.38543974362653]\n",
      "Mean entropies for all classes: [4.4948972989178716e-15, 3.7388727804424826e-15, 3.404595616869299e-15]\n",
      "              precision    recall  f1-score   support\n",
      "\n",
      "           0       0.50      0.80      0.62         5\n",
      "           1       0.14      0.20      0.17         5\n",
      "           2       0.00      0.00      0.00         5\n",
      "\n",
      "    accuracy                           0.33        15\n",
      "   macro avg       0.21      0.33      0.26        15\n",
      "weighted avg       0.21      0.33      0.26        15\n",
      "\n",
      "-------------------------------------------------------------------------------------------------------------------\n"
     ]
    },
    {
     "name": "stderr",
     "output_type": "stream",
     "text": [
      "[Parallel(n_jobs=-1)]: Done   3 out of   3 | elapsed:  1.0min finished\n",
      "[Parallel(n_jobs=-1)]: Using backend LokyBackend with 12 concurrent workers.\n"
     ]
    },
    {
     "name": "stdout",
     "output_type": "stream",
     "text": [
      "K-Fold #7\n",
      "Mean negativities for all classes: [0.37184880035127893, 0.3893029840482099, 0.3710361070247074]\n",
      "Mean entropies for all classes: [3.595015879235331e-15, 3.612678699834092e-15, 4.365831918035079e-15]\n",
      "              precision    recall  f1-score   support\n",
      "\n",
      "           0       0.50      0.60      0.55         5\n",
      "           1       0.00      0.00      0.00         5\n",
      "           2       0.25      0.20      0.22         5\n",
      "\n",
      "    accuracy                           0.27        15\n",
      "   macro avg       0.25      0.27      0.26        15\n",
      "weighted avg       0.25      0.27      0.26        15\n",
      "\n",
      "-------------------------------------------------------------------------------------------------------------------\n"
     ]
    },
    {
     "name": "stderr",
     "output_type": "stream",
     "text": [
      "[Parallel(n_jobs=-1)]: Done   3 out of   3 | elapsed:  1.0min finished\n",
      "c:\\ProgramData\\Anaconda3\\lib\\site-packages\\sklearn\\metrics\\_classification.py:1344: UndefinedMetricWarning: Precision and F-score are ill-defined and being set to 0.0 in labels with no predicted samples. Use `zero_division` parameter to control this behavior.\n",
      "  _warn_prf(average, modifier, msg_start, len(result))\n",
      "c:\\ProgramData\\Anaconda3\\lib\\site-packages\\sklearn\\metrics\\_classification.py:1344: UndefinedMetricWarning: Precision and F-score are ill-defined and being set to 0.0 in labels with no predicted samples. Use `zero_division` parameter to control this behavior.\n",
      "  _warn_prf(average, modifier, msg_start, len(result))\n",
      "c:\\ProgramData\\Anaconda3\\lib\\site-packages\\sklearn\\metrics\\_classification.py:1344: UndefinedMetricWarning: Precision and F-score are ill-defined and being set to 0.0 in labels with no predicted samples. Use `zero_division` parameter to control this behavior.\n",
      "  _warn_prf(average, modifier, msg_start, len(result))\n",
      "[Parallel(n_jobs=-1)]: Using backend LokyBackend with 12 concurrent workers.\n"
     ]
    },
    {
     "name": "stdout",
     "output_type": "stream",
     "text": [
      "K-Fold #8\n",
      "Mean negativities for all classes: [0.3696845983855101, 0.38364621638708024, 0.38635796174540277]\n",
      "Mean entropies for all classes: [3.9423322699041714e-15, 3.57093210855593e-15, 3.5491072443332665e-15]\n",
      "              precision    recall  f1-score   support\n",
      "\n",
      "           0       0.67      0.80      0.73         5\n",
      "           1       0.33      0.60      0.43         5\n",
      "           2       0.00      0.00      0.00         5\n",
      "\n",
      "    accuracy                           0.47        15\n",
      "   macro avg       0.33      0.47      0.39        15\n",
      "weighted avg       0.33      0.47      0.39        15\n",
      "\n",
      "-------------------------------------------------------------------------------------------------------------------\n"
     ]
    },
    {
     "name": "stderr",
     "output_type": "stream",
     "text": [
      "[Parallel(n_jobs=-1)]: Done   3 out of   3 | elapsed:  1.0min finished\n",
      "c:\\ProgramData\\Anaconda3\\lib\\site-packages\\sklearn\\metrics\\_classification.py:1344: UndefinedMetricWarning: Precision and F-score are ill-defined and being set to 0.0 in labels with no predicted samples. Use `zero_division` parameter to control this behavior.\n",
      "  _warn_prf(average, modifier, msg_start, len(result))\n",
      "c:\\ProgramData\\Anaconda3\\lib\\site-packages\\sklearn\\metrics\\_classification.py:1344: UndefinedMetricWarning: Precision and F-score are ill-defined and being set to 0.0 in labels with no predicted samples. Use `zero_division` parameter to control this behavior.\n",
      "  _warn_prf(average, modifier, msg_start, len(result))\n",
      "c:\\ProgramData\\Anaconda3\\lib\\site-packages\\sklearn\\metrics\\_classification.py:1344: UndefinedMetricWarning: Precision and F-score are ill-defined and being set to 0.0 in labels with no predicted samples. Use `zero_division` parameter to control this behavior.\n",
      "  _warn_prf(average, modifier, msg_start, len(result))\n",
      "[Parallel(n_jobs=-1)]: Using backend LokyBackend with 12 concurrent workers.\n"
     ]
    },
    {
     "name": "stdout",
     "output_type": "stream",
     "text": [
      "K-Fold #9\n",
      "Mean negativities for all classes: [0.36547270129947407, 0.38700670636360596, 0.38569868589755224]\n",
      "Mean entropies for all classes: [3.5994799146599606e-15, 4.621474128946922e-15, 3.1320772541990777e-15]\n",
      "              precision    recall  f1-score   support\n",
      "\n",
      "           0       0.38      0.60      0.46         5\n",
      "           1       0.29      0.40      0.33         5\n",
      "           2       0.00      0.00      0.00         5\n",
      "\n",
      "    accuracy                           0.33        15\n",
      "   macro avg       0.22      0.33      0.26        15\n",
      "weighted avg       0.22      0.33      0.26        15\n",
      "\n",
      "-------------------------------------------------------------------------------------------------------------------\n",
      "AVG: Scores = 0.29333333333333333 F1-Scores = 0.2536846486846487 Negativity = [0.3779595099552761, 0.37774191556599407, 0.3764460622066723] Entropy = [3.66857019923772e-15, 3.5874305177920745e-15, 3.573269452237448e-15]\n"
     ]
    },
    {
     "name": "stderr",
     "output_type": "stream",
     "text": [
      "[Parallel(n_jobs=-1)]: Done   3 out of   3 | elapsed:  1.0min finished\n",
      "[Parallel(n_jobs=-1)]: Using backend LokyBackend with 12 concurrent workers.\n"
     ]
    },
    {
     "name": "stdout",
     "output_type": "stream",
     "text": [
      "K-Fold #0\n",
      "Mean negativities for all classes: [0.36724928316426264, 0.38426546605698986, 0.38026650286849045]\n",
      "Mean entropies for all classes: [3.964240838440348e-15, 4.344617945675395e-15, 3.842568823998006e-15]\n",
      "              precision    recall  f1-score   support\n",
      "\n",
      "           0       0.43      0.60      0.50         5\n",
      "           1       0.33      0.40      0.36         5\n",
      "           2       1.00      0.40      0.57         5\n",
      "\n",
      "    accuracy                           0.47        15\n",
      "   macro avg       0.59      0.47      0.48        15\n",
      "weighted avg       0.59      0.47      0.48        15\n",
      "\n",
      "-------------------------------------------------------------------------------------------------------------------\n"
     ]
    },
    {
     "name": "stderr",
     "output_type": "stream",
     "text": [
      "[Parallel(n_jobs=-1)]: Done   3 out of   3 | elapsed:  1.0min finished\n",
      "[Parallel(n_jobs=-1)]: Using backend LokyBackend with 12 concurrent workers.\n"
     ]
    },
    {
     "name": "stdout",
     "output_type": "stream",
     "text": [
      "K-Fold #1\n",
      "Mean negativities for all classes: [0.36697405692487384, 0.3784185319613408, 0.1664756321247115]\n",
      "Mean entropies for all classes: [4.149257659979993e-15, 3.656197959694287e-15, 3.1457000617292744e-15]\n",
      "              precision    recall  f1-score   support\n",
      "\n",
      "           0       0.00      0.00      0.00         5\n",
      "           1       0.00      0.00      0.00         5\n",
      "           2       0.38      1.00      0.56         5\n",
      "\n",
      "    accuracy                           0.33        15\n",
      "   macro avg       0.13      0.33      0.19        15\n",
      "weighted avg       0.13      0.33      0.19        15\n",
      "\n",
      "-------------------------------------------------------------------------------------------------------------------\n"
     ]
    },
    {
     "name": "stderr",
     "output_type": "stream",
     "text": [
      "[Parallel(n_jobs=-1)]: Done   3 out of   3 | elapsed:  1.0min finished\n",
      "[Parallel(n_jobs=-1)]: Using backend LokyBackend with 12 concurrent workers.\n"
     ]
    },
    {
     "name": "stdout",
     "output_type": "stream",
     "text": [
      "K-Fold #2\n",
      "Mean negativities for all classes: [0.36435369369667087, 0.374533859673606, 0.38528725801010477]\n",
      "Mean entropies for all classes: [3.3793443940308952e-15, 3.923845606613247e-15, 3.0235996051073262e-15]\n",
      "              precision    recall  f1-score   support\n",
      "\n",
      "           0       0.29      0.40      0.33         5\n",
      "           1       0.14      0.20      0.17         5\n",
      "           2       0.00      0.00      0.00         5\n",
      "\n",
      "    accuracy                           0.20        15\n",
      "   macro avg       0.14      0.20      0.17        15\n",
      "weighted avg       0.14      0.20      0.17        15\n",
      "\n",
      "-------------------------------------------------------------------------------------------------------------------\n"
     ]
    },
    {
     "name": "stderr",
     "output_type": "stream",
     "text": [
      "[Parallel(n_jobs=-1)]: Done   3 out of   3 | elapsed:  1.0min finished\n",
      "[Parallel(n_jobs=-1)]: Using backend LokyBackend with 12 concurrent workers.\n"
     ]
    },
    {
     "name": "stdout",
     "output_type": "stream",
     "text": [
      "K-Fold #3\n",
      "Mean negativities for all classes: [0.3663550669395662, 0.382583413802645, 0.3852452126709826]\n",
      "Mean entropies for all classes: [3.3532562936813727e-15, 3.564440266911621e-15, 3.0543891409913115e-15]\n",
      "              precision    recall  f1-score   support\n",
      "\n",
      "           0       0.25      0.20      0.22         5\n",
      "           1       0.11      0.20      0.14         5\n",
      "           2       0.00      0.00      0.00         5\n",
      "\n",
      "    accuracy                           0.13        15\n",
      "   macro avg       0.12      0.13      0.12        15\n",
      "weighted avg       0.12      0.13      0.12        15\n",
      "\n",
      "-------------------------------------------------------------------------------------------------------------------\n"
     ]
    },
    {
     "name": "stderr",
     "output_type": "stream",
     "text": [
      "[Parallel(n_jobs=-1)]: Done   3 out of   3 | elapsed:  1.0min finished\n",
      "[Parallel(n_jobs=-1)]: Using backend LokyBackend with 12 concurrent workers.\n"
     ]
    },
    {
     "name": "stdout",
     "output_type": "stream",
     "text": [
      "K-Fold #4\n",
      "Mean negativities for all classes: [0.36089222665250004, 0.3844337024414024, 0.37482580031947743]\n",
      "Mean entropies for all classes: [3.670047825995985e-15, 4.071262512360857e-15, 3.4832422860675285e-15]\n",
      "              precision    recall  f1-score   support\n",
      "\n",
      "           0       0.29      0.40      0.33         5\n",
      "           1       0.29      0.40      0.33         5\n",
      "           2       0.00      0.00      0.00         5\n",
      "\n",
      "    accuracy                           0.27        15\n",
      "   macro avg       0.19      0.27      0.22        15\n",
      "weighted avg       0.19      0.27      0.22        15\n",
      "\n",
      "-------------------------------------------------------------------------------------------------------------------\n"
     ]
    },
    {
     "name": "stderr",
     "output_type": "stream",
     "text": [
      "[Parallel(n_jobs=-1)]: Done   3 out of   3 | elapsed:  1.0min finished\n",
      "[Parallel(n_jobs=-1)]: Using backend LokyBackend with 12 concurrent workers.\n"
     ]
    },
    {
     "name": "stdout",
     "output_type": "stream",
     "text": [
      "K-Fold #5\n",
      "Mean negativities for all classes: [0.3691151475508749, 0.38357600277567083, 0.3753980104237472]\n",
      "Mean entropies for all classes: [2.9093871618411306e-15, 3.74906486953373e-15, 3.3985185074893477e-15]\n",
      "              precision    recall  f1-score   support\n",
      "\n",
      "           0       0.50      0.60      0.55         5\n",
      "           1       0.29      0.40      0.33         5\n",
      "           2       0.00      0.00      0.00         5\n",
      "\n",
      "    accuracy                           0.33        15\n",
      "   macro avg       0.26      0.33      0.29        15\n",
      "weighted avg       0.26      0.33      0.29        15\n",
      "\n",
      "-------------------------------------------------------------------------------------------------------------------\n"
     ]
    },
    {
     "name": "stderr",
     "output_type": "stream",
     "text": [
      "[Parallel(n_jobs=-1)]: Done   3 out of   3 | elapsed:  1.0min finished\n",
      "c:\\ProgramData\\Anaconda3\\lib\\site-packages\\sklearn\\metrics\\_classification.py:1344: UndefinedMetricWarning: Precision and F-score are ill-defined and being set to 0.0 in labels with no predicted samples. Use `zero_division` parameter to control this behavior.\n",
      "  _warn_prf(average, modifier, msg_start, len(result))\n",
      "c:\\ProgramData\\Anaconda3\\lib\\site-packages\\sklearn\\metrics\\_classification.py:1344: UndefinedMetricWarning: Precision and F-score are ill-defined and being set to 0.0 in labels with no predicted samples. Use `zero_division` parameter to control this behavior.\n",
      "  _warn_prf(average, modifier, msg_start, len(result))\n",
      "c:\\ProgramData\\Anaconda3\\lib\\site-packages\\sklearn\\metrics\\_classification.py:1344: UndefinedMetricWarning: Precision and F-score are ill-defined and being set to 0.0 in labels with no predicted samples. Use `zero_division` parameter to control this behavior.\n",
      "  _warn_prf(average, modifier, msg_start, len(result))\n",
      "[Parallel(n_jobs=-1)]: Using backend LokyBackend with 12 concurrent workers.\n"
     ]
    },
    {
     "name": "stdout",
     "output_type": "stream",
     "text": [
      "K-Fold #6\n",
      "Mean negativities for all classes: [0.36707206152282884, 0.3806097920365123, 0.3854980447004647]\n",
      "Mean entropies for all classes: [4.23057306704918e-15, 3.5363893513896408e-15, 3.930838455329855e-15]\n",
      "              precision    recall  f1-score   support\n",
      "\n",
      "           0       0.38      0.60      0.46         5\n",
      "           1       0.14      0.20      0.17         5\n",
      "           2       0.00      0.00      0.00         5\n",
      "\n",
      "    accuracy                           0.27        15\n",
      "   macro avg       0.17      0.27      0.21        15\n",
      "weighted avg       0.17      0.27      0.21        15\n",
      "\n",
      "-------------------------------------------------------------------------------------------------------------------\n"
     ]
    },
    {
     "name": "stderr",
     "output_type": "stream",
     "text": [
      "[Parallel(n_jobs=-1)]: Done   3 out of   3 | elapsed:  1.0min finished\n",
      "[Parallel(n_jobs=-1)]: Using backend LokyBackend with 12 concurrent workers.\n"
     ]
    },
    {
     "name": "stdout",
     "output_type": "stream",
     "text": [
      "K-Fold #7\n",
      "Mean negativities for all classes: [0.36372006795000106, 0.3836228990742035, 0.3517805269314376]\n",
      "Mean entropies for all classes: [3.722785109038547e-15, 3.5452822724712065e-15, 3.1715421446735992e-15]\n",
      "              precision    recall  f1-score   support\n",
      "\n",
      "           0       0.29      0.40      0.33         5\n",
      "           1       0.00      0.00      0.00         5\n",
      "           2       0.00      0.00      0.00         5\n",
      "\n",
      "    accuracy                           0.13        15\n",
      "   macro avg       0.10      0.13      0.11        15\n",
      "weighted avg       0.10      0.13      0.11        15\n",
      "\n",
      "-------------------------------------------------------------------------------------------------------------------\n"
     ]
    },
    {
     "name": "stderr",
     "output_type": "stream",
     "text": [
      "[Parallel(n_jobs=-1)]: Done   3 out of   3 | elapsed:  1.0min finished\n",
      "c:\\ProgramData\\Anaconda3\\lib\\site-packages\\sklearn\\metrics\\_classification.py:1344: UndefinedMetricWarning: Precision and F-score are ill-defined and being set to 0.0 in labels with no predicted samples. Use `zero_division` parameter to control this behavior.\n",
      "  _warn_prf(average, modifier, msg_start, len(result))\n",
      "c:\\ProgramData\\Anaconda3\\lib\\site-packages\\sklearn\\metrics\\_classification.py:1344: UndefinedMetricWarning: Precision and F-score are ill-defined and being set to 0.0 in labels with no predicted samples. Use `zero_division` parameter to control this behavior.\n",
      "  _warn_prf(average, modifier, msg_start, len(result))\n",
      "c:\\ProgramData\\Anaconda3\\lib\\site-packages\\sklearn\\metrics\\_classification.py:1344: UndefinedMetricWarning: Precision and F-score are ill-defined and being set to 0.0 in labels with no predicted samples. Use `zero_division` parameter to control this behavior.\n",
      "  _warn_prf(average, modifier, msg_start, len(result))\n",
      "[Parallel(n_jobs=-1)]: Using backend LokyBackend with 12 concurrent workers.\n"
     ]
    },
    {
     "name": "stdout",
     "output_type": "stream",
     "text": [
      "K-Fold #8\n",
      "Mean negativities for all classes: [0.363511377023993, 0.3854083099186238, 0.38380505539294335]\n",
      "Mean entropies for all classes: [3.5323082157968725e-15, 3.587806884961808e-15, 3.7226901913308e-15]\n",
      "              precision    recall  f1-score   support\n",
      "\n",
      "           0       0.50      0.60      0.55         5\n",
      "           1       0.33      0.60      0.43         5\n",
      "           2       0.00      0.00      0.00         5\n",
      "\n",
      "    accuracy                           0.40        15\n",
      "   macro avg       0.28      0.40      0.32        15\n",
      "weighted avg       0.28      0.40      0.32        15\n",
      "\n",
      "-------------------------------------------------------------------------------------------------------------------\n"
     ]
    },
    {
     "name": "stderr",
     "output_type": "stream",
     "text": [
      "[Parallel(n_jobs=-1)]: Done   3 out of   3 | elapsed:  1.0min finished\n",
      "[Parallel(n_jobs=-1)]: Using backend LokyBackend with 12 concurrent workers.\n"
     ]
    },
    {
     "name": "stdout",
     "output_type": "stream",
     "text": [
      "K-Fold #9\n",
      "Mean negativities for all classes: [0.3755524433258924, 0.38317884878681263, 0.3820091297513575]\n",
      "Mean entropies for all classes: [3.2712350290611e-15, 3.3665777729867796e-15, 3.2310025075150367e-15]\n",
      "              precision    recall  f1-score   support\n",
      "\n",
      "           0       0.50      0.20      0.29         5\n",
      "           1       0.10      0.20      0.13         5\n",
      "           2       0.00      0.00      0.00         5\n",
      "\n",
      "    accuracy                           0.13        15\n",
      "   macro avg       0.20      0.13      0.14        15\n",
      "weighted avg       0.20      0.13      0.14        15\n",
      "\n",
      "-------------------------------------------------------------------------------------------------------------------\n",
      "AVG: Scores = 0.26666666666666666 F1-Scores = 0.22519221519221522 Negativity = [0.37726041736324767, 0.3039560736703087, 0.37472493712679383] Entropy = [4.05047586937125e-15, 3.650385227134518e-15, 3.4422632019171563e-15]\n"
     ]
    },
    {
     "name": "stderr",
     "output_type": "stream",
     "text": [
      "[Parallel(n_jobs=-1)]: Done   3 out of   3 | elapsed:  1.0min finished\n",
      "[Parallel(n_jobs=-1)]: Using backend LokyBackend with 12 concurrent workers.\n"
     ]
    },
    {
     "name": "stdout",
     "output_type": "stream",
     "text": [
      "K-Fold #0\n",
      "Mean negativities for all classes: [0.36907758330701385, 0.38161188942287955, 0.3820131672874403]\n",
      "Mean entropies for all classes: [4.001976804520662e-15, 3.0581620231475487e-15, 3.3356405125922847e-15]\n",
      "              precision    recall  f1-score   support\n",
      "\n",
      "           0       0.40      0.40      0.40         5\n",
      "           1       0.22      0.40      0.29         5\n",
      "           2       1.00      0.20      0.33         5\n",
      "\n",
      "    accuracy                           0.33        15\n",
      "   macro avg       0.54      0.33      0.34        15\n",
      "weighted avg       0.54      0.33      0.34        15\n",
      "\n",
      "-------------------------------------------------------------------------------------------------------------------\n"
     ]
    },
    {
     "name": "stderr",
     "output_type": "stream",
     "text": [
      "[Parallel(n_jobs=-1)]: Done   3 out of   3 | elapsed:  1.0min finished\n",
      "[Parallel(n_jobs=-1)]: Using backend LokyBackend with 12 concurrent workers.\n"
     ]
    },
    {
     "name": "stdout",
     "output_type": "stream",
     "text": [
      "K-Fold #1\n",
      "Mean negativities for all classes: [0.352928960358376, 0.3752982190315305, 0.3736286338257824]\n",
      "Mean entropies for all classes: [3.59107845760801e-15, 3.122420070791279e-15, 3.1708997795961146e-15]\n",
      "              precision    recall  f1-score   support\n",
      "\n",
      "           0       0.40      0.40      0.40         5\n",
      "           1       0.12      0.20      0.15         5\n",
      "           2       0.00      0.00      0.00         5\n",
      "\n",
      "    accuracy                           0.20        15\n",
      "   macro avg       0.18      0.20      0.18        15\n",
      "weighted avg       0.17      0.20      0.18        15\n",
      "\n",
      "-------------------------------------------------------------------------------------------------------------------\n"
     ]
    },
    {
     "name": "stderr",
     "output_type": "stream",
     "text": [
      "[Parallel(n_jobs=-1)]: Done   3 out of   3 | elapsed:  1.0min finished\n",
      "[Parallel(n_jobs=-1)]: Using backend LokyBackend with 12 concurrent workers.\n"
     ]
    },
    {
     "name": "stdout",
     "output_type": "stream",
     "text": [
      "K-Fold #2\n",
      "Mean negativities for all classes: [0.3705250250249932, 0.37367037917840323, 0.3798742679160442]\n",
      "Mean entropies for all classes: [3.964731842471643e-15, 3.703912977274812e-15, 3.720835916279973e-15]\n",
      "              precision    recall  f1-score   support\n",
      "\n",
      "           0       0.14      0.20      0.17         5\n",
      "           1       0.00      0.00      0.00         5\n",
      "           2       0.00      0.00      0.00         5\n",
      "\n",
      "    accuracy                           0.07        15\n",
      "   macro avg       0.05      0.07      0.06        15\n",
      "weighted avg       0.05      0.07      0.06        15\n",
      "\n",
      "-------------------------------------------------------------------------------------------------------------------\n"
     ]
    },
    {
     "name": "stderr",
     "output_type": "stream",
     "text": [
      "[Parallel(n_jobs=-1)]: Done   3 out of   3 | elapsed:  1.0min finished\n",
      "[Parallel(n_jobs=-1)]: Using backend LokyBackend with 12 concurrent workers.\n"
     ]
    },
    {
     "name": "stdout",
     "output_type": "stream",
     "text": [
      "K-Fold #3\n",
      "Mean negativities for all classes: [0.37161030483786495, 0.3823107186958813, 0.37783505661003397]\n",
      "Mean entropies for all classes: [3.532318822556451e-15, 3.3829243140685097e-15, 2.9527828132627706e-15]\n",
      "              precision    recall  f1-score   support\n",
      "\n",
      "           0       0.29      0.40      0.33         5\n",
      "           1       0.29      0.40      0.33         5\n",
      "           2       1.00      0.20      0.33         5\n",
      "\n",
      "    accuracy                           0.33        15\n",
      "   macro avg       0.52      0.33      0.33        15\n",
      "weighted avg       0.52      0.33      0.33        15\n",
      "\n",
      "-------------------------------------------------------------------------------------------------------------------\n"
     ]
    },
    {
     "name": "stderr",
     "output_type": "stream",
     "text": [
      "[Parallel(n_jobs=-1)]: Done   3 out of   3 | elapsed:  1.1min finished\n",
      "[Parallel(n_jobs=-1)]: Using backend LokyBackend with 12 concurrent workers.\n"
     ]
    },
    {
     "name": "stdout",
     "output_type": "stream",
     "text": [
      "K-Fold #4\n",
      "Mean negativities for all classes: [0.3515787118769094, 0.3857822755304387, 0.37955793849151476]\n",
      "Mean entropies for all classes: [3.422324416373702e-15, 4.18627698108205e-15, 2.5076491003096514e-15]\n",
      "              precision    recall  f1-score   support\n",
      "\n",
      "           0       0.60      0.60      0.60         5\n",
      "           1       0.29      0.40      0.33         5\n",
      "           2       0.33      0.20      0.25         5\n",
      "\n",
      "    accuracy                           0.40        15\n",
      "   macro avg       0.41      0.40      0.39        15\n",
      "weighted avg       0.41      0.40      0.39        15\n",
      "\n",
      "-------------------------------------------------------------------------------------------------------------------\n"
     ]
    },
    {
     "name": "stderr",
     "output_type": "stream",
     "text": [
      "[Parallel(n_jobs=-1)]: Done   3 out of   3 | elapsed:   59.6s finished\n",
      "[Parallel(n_jobs=-1)]: Using backend LokyBackend with 12 concurrent workers.\n"
     ]
    },
    {
     "name": "stdout",
     "output_type": "stream",
     "text": [
      "K-Fold #5\n",
      "Mean negativities for all classes: [0.368655194023284, 0.38863548226064826, 0.38285268699394476]\n",
      "Mean entropies for all classes: [3.5426697546313457e-15, 3.604001933719972e-15, 3.4514433101923047e-15]\n",
      "              precision    recall  f1-score   support\n",
      "\n",
      "           0       0.50      0.80      0.62         5\n",
      "           1       0.17      0.20      0.18         5\n",
      "           2       1.00      0.20      0.33         5\n",
      "\n",
      "    accuracy                           0.40        15\n",
      "   macro avg       0.56      0.40      0.38        15\n",
      "weighted avg       0.56      0.40      0.38        15\n",
      "\n",
      "-------------------------------------------------------------------------------------------------------------------\n"
     ]
    },
    {
     "name": "stderr",
     "output_type": "stream",
     "text": [
      "[Parallel(n_jobs=-1)]: Done   3 out of   3 | elapsed:   59.7s finished\n",
      "c:\\ProgramData\\Anaconda3\\lib\\site-packages\\sklearn\\metrics\\_classification.py:1344: UndefinedMetricWarning: Precision and F-score are ill-defined and being set to 0.0 in labels with no predicted samples. Use `zero_division` parameter to control this behavior.\n",
      "  _warn_prf(average, modifier, msg_start, len(result))\n",
      "c:\\ProgramData\\Anaconda3\\lib\\site-packages\\sklearn\\metrics\\_classification.py:1344: UndefinedMetricWarning: Precision and F-score are ill-defined and being set to 0.0 in labels with no predicted samples. Use `zero_division` parameter to control this behavior.\n",
      "  _warn_prf(average, modifier, msg_start, len(result))\n",
      "c:\\ProgramData\\Anaconda3\\lib\\site-packages\\sklearn\\metrics\\_classification.py:1344: UndefinedMetricWarning: Precision and F-score are ill-defined and being set to 0.0 in labels with no predicted samples. Use `zero_division` parameter to control this behavior.\n",
      "  _warn_prf(average, modifier, msg_start, len(result))\n",
      "[Parallel(n_jobs=-1)]: Using backend LokyBackend with 12 concurrent workers.\n"
     ]
    },
    {
     "name": "stdout",
     "output_type": "stream",
     "text": [
      "K-Fold #6\n",
      "Mean negativities for all classes: [0.37801402471304907, 0.38733484528523393, 0.38516861595102686]\n",
      "Mean entropies for all classes: [3.490265439803526e-15, 3.6784103319524005e-15, 3.0608227963547923e-15]\n",
      "              precision    recall  f1-score   support\n",
      "\n",
      "           0       0.50      0.60      0.55         5\n",
      "           1       0.22      0.40      0.29         5\n",
      "           2       0.00      0.00      0.00         5\n",
      "\n",
      "    accuracy                           0.33        15\n",
      "   macro avg       0.24      0.33      0.28        15\n",
      "weighted avg       0.24      0.33      0.28        15\n",
      "\n",
      "-------------------------------------------------------------------------------------------------------------------\n"
     ]
    },
    {
     "name": "stderr",
     "output_type": "stream",
     "text": [
      "[Parallel(n_jobs=-1)]: Done   3 out of   3 | elapsed:  1.0min finished\n",
      "[Parallel(n_jobs=-1)]: Using backend LokyBackend with 12 concurrent workers.\n"
     ]
    },
    {
     "name": "stdout",
     "output_type": "stream",
     "text": [
      "K-Fold #7\n",
      "Mean negativities for all classes: [0.36428435702276923, 0.38720563033375427, 0.3776966186197434]\n",
      "Mean entropies for all classes: [3.4570970801529852e-15, 3.5448099370039052e-15, 2.8686505205344108e-15]\n",
      "              precision    recall  f1-score   support\n",
      "\n",
      "           0       0.60      0.60      0.60         5\n",
      "           1       0.00      0.00      0.00         5\n",
      "           2       0.00      0.00      0.00         5\n",
      "\n",
      "    accuracy                           0.20        15\n",
      "   macro avg       0.20      0.20      0.20        15\n",
      "weighted avg       0.20      0.20      0.20        15\n",
      "\n",
      "-------------------------------------------------------------------------------------------------------------------\n"
     ]
    },
    {
     "name": "stderr",
     "output_type": "stream",
     "text": [
      "[Parallel(n_jobs=-1)]: Done   3 out of   3 | elapsed:  1.0min finished\n",
      "[Parallel(n_jobs=-1)]: Using backend LokyBackend with 12 concurrent workers.\n"
     ]
    },
    {
     "name": "stdout",
     "output_type": "stream",
     "text": [
      "K-Fold #8\n",
      "Mean negativities for all classes: [0.37141682728271613, 0.3814014060576299, 0.39064139161808525]\n",
      "Mean entropies for all classes: [3.1829442689273563e-15, 3.7586159418013705e-15, 4.373594992054969e-15]\n",
      "              precision    recall  f1-score   support\n",
      "\n",
      "           0       0.14      0.20      0.17         5\n",
      "           1       0.00      0.00      0.00         5\n",
      "           2       0.00      0.00      0.00         5\n",
      "\n",
      "    accuracy                           0.07        15\n",
      "   macro avg       0.05      0.07      0.06        15\n",
      "weighted avg       0.05      0.07      0.06        15\n",
      "\n",
      "-------------------------------------------------------------------------------------------------------------------\n"
     ]
    },
    {
     "name": "stderr",
     "output_type": "stream",
     "text": [
      "[Parallel(n_jobs=-1)]: Done   3 out of   3 | elapsed:  1.0min finished\n",
      "c:\\ProgramData\\Anaconda3\\lib\\site-packages\\sklearn\\metrics\\_classification.py:1344: UndefinedMetricWarning: Precision and F-score are ill-defined and being set to 0.0 in labels with no predicted samples. Use `zero_division` parameter to control this behavior.\n",
      "  _warn_prf(average, modifier, msg_start, len(result))\n",
      "c:\\ProgramData\\Anaconda3\\lib\\site-packages\\sklearn\\metrics\\_classification.py:1344: UndefinedMetricWarning: Precision and F-score are ill-defined and being set to 0.0 in labels with no predicted samples. Use `zero_division` parameter to control this behavior.\n",
      "  _warn_prf(average, modifier, msg_start, len(result))\n",
      "c:\\ProgramData\\Anaconda3\\lib\\site-packages\\sklearn\\metrics\\_classification.py:1344: UndefinedMetricWarning: Precision and F-score are ill-defined and being set to 0.0 in labels with no predicted samples. Use `zero_division` parameter to control this behavior.\n",
      "  _warn_prf(average, modifier, msg_start, len(result))\n",
      "[Parallel(n_jobs=-1)]: Using backend LokyBackend with 12 concurrent workers.\n"
     ]
    },
    {
     "name": "stdout",
     "output_type": "stream",
     "text": [
      "K-Fold #9\n",
      "Mean negativities for all classes: [0.37283168269399286, 0.38438162332710873, 0.3900124035329871]\n",
      "Mean entropies for all classes: [2.783007801008514e-15, 4.047467956139474e-15, 2.6365946563132795e-15]\n",
      "              precision    recall  f1-score   support\n",
      "\n",
      "           0       0.33      0.40      0.36         5\n",
      "           1       0.22      0.40      0.29         5\n",
      "           2       0.00      0.00      0.00         5\n",
      "\n",
      "    accuracy                           0.27        15\n",
      "   macro avg       0.19      0.27      0.22        15\n",
      "weighted avg       0.19      0.27      0.22        15\n",
      "\n",
      "-------------------------------------------------------------------------------------------------------------------\n",
      "AVG: Scores = 0.26 F1-Scores = 0.24335386835386835 Negativity = [0.3775675466724446, 0.3672852710718963, 0.3746898907064802] Entropy = [3.4652597800868318e-15, 3.294799435998468e-15, 3.796493578675476e-15]\n"
     ]
    },
    {
     "name": "stderr",
     "output_type": "stream",
     "text": [
      "[Parallel(n_jobs=-1)]: Done   3 out of   3 | elapsed:  1.0min finished\n",
      "[Parallel(n_jobs=-1)]: Using backend LokyBackend with 12 concurrent workers.\n"
     ]
    },
    {
     "name": "stdout",
     "output_type": "stream",
     "text": [
      "K-Fold #0\n",
      "Mean negativities for all classes: [0.366707743568546, 0.38672772807323486, 0.37728274437387604]\n",
      "Mean entropies for all classes: [3.003625321333457e-15, 3.868189414541612e-15, 3.243252012471312e-15]\n",
      "              precision    recall  f1-score   support\n",
      "\n",
      "           0       0.40      0.40      0.40         5\n",
      "           1       0.12      0.20      0.15         5\n",
      "           2       0.00      0.00      0.00         5\n",
      "\n",
      "    accuracy                           0.20        15\n",
      "   macro avg       0.18      0.20      0.18        15\n",
      "weighted avg       0.17      0.20      0.18        15\n",
      "\n",
      "-------------------------------------------------------------------------------------------------------------------\n"
     ]
    },
    {
     "name": "stderr",
     "output_type": "stream",
     "text": [
      "[Parallel(n_jobs=-1)]: Done   3 out of   3 | elapsed:  1.0min finished\n",
      "[Parallel(n_jobs=-1)]: Using backend LokyBackend with 12 concurrent workers.\n"
     ]
    },
    {
     "name": "stdout",
     "output_type": "stream",
     "text": [
      "K-Fold #1\n",
      "Mean negativities for all classes: [0.37065639529243366, 0.3785848326608144, 0.3838320894395931]\n",
      "Mean entropies for all classes: [3.698330124674416e-15, 4.491065971944178e-15, 2.81637972382941e-15]\n",
      "              precision    recall  f1-score   support\n",
      "\n",
      "           0       0.20      0.20      0.20         5\n",
      "           1       0.00      0.00      0.00         5\n",
      "           2       0.00      0.00      0.00         5\n",
      "\n",
      "    accuracy                           0.07        15\n",
      "   macro avg       0.07      0.07      0.07        15\n",
      "weighted avg       0.07      0.07      0.07        15\n",
      "\n",
      "-------------------------------------------------------------------------------------------------------------------\n"
     ]
    },
    {
     "name": "stderr",
     "output_type": "stream",
     "text": [
      "[Parallel(n_jobs=-1)]: Done   3 out of   3 | elapsed:  1.0min finished\n",
      "[Parallel(n_jobs=-1)]: Using backend LokyBackend with 12 concurrent workers.\n"
     ]
    },
    {
     "name": "stdout",
     "output_type": "stream",
     "text": [
      "K-Fold #2\n",
      "Mean negativities for all classes: [0.35648541464140315, 0.38263096995566726, 0.37847838476469864]\n",
      "Mean entropies for all classes: [3.691768579091326e-15, 3.739086836466763e-15, 3.1396604879066055e-15]\n",
      "              precision    recall  f1-score   support\n",
      "\n",
      "           0       0.43      0.60      0.50         5\n",
      "           1       0.20      0.20      0.20         5\n",
      "           2       0.67      0.40      0.50         5\n",
      "\n",
      "    accuracy                           0.40        15\n",
      "   macro avg       0.43      0.40      0.40        15\n",
      "weighted avg       0.43      0.40      0.40        15\n",
      "\n",
      "-------------------------------------------------------------------------------------------------------------------\n"
     ]
    },
    {
     "name": "stderr",
     "output_type": "stream",
     "text": [
      "[Parallel(n_jobs=-1)]: Done   3 out of   3 | elapsed:  1.0min finished\n",
      "[Parallel(n_jobs=-1)]: Using backend LokyBackend with 12 concurrent workers.\n"
     ]
    },
    {
     "name": "stdout",
     "output_type": "stream",
     "text": [
      "K-Fold #3\n",
      "Mean negativities for all classes: [0.36873747600580153, 0.3866333152462751, 0.3847341023727277]\n",
      "Mean entropies for all classes: [3.155079035579714e-15, 3.4809247114009413e-15, 3.902343792065697e-15]\n",
      "              precision    recall  f1-score   support\n",
      "\n",
      "           0       0.50      0.60      0.55         5\n",
      "           1       0.00      0.00      0.00         5\n",
      "           2       0.00      0.00      0.00         5\n",
      "\n",
      "    accuracy                           0.20        15\n",
      "   macro avg       0.17      0.20      0.18        15\n",
      "weighted avg       0.17      0.20      0.18        15\n",
      "\n",
      "-------------------------------------------------------------------------------------------------------------------\n"
     ]
    },
    {
     "name": "stderr",
     "output_type": "stream",
     "text": [
      "[Parallel(n_jobs=-1)]: Done   3 out of   3 | elapsed:  1.0min finished\n",
      "c:\\ProgramData\\Anaconda3\\lib\\site-packages\\sklearn\\metrics\\_classification.py:1344: UndefinedMetricWarning: Precision and F-score are ill-defined and being set to 0.0 in labels with no predicted samples. Use `zero_division` parameter to control this behavior.\n",
      "  _warn_prf(average, modifier, msg_start, len(result))\n",
      "c:\\ProgramData\\Anaconda3\\lib\\site-packages\\sklearn\\metrics\\_classification.py:1344: UndefinedMetricWarning: Precision and F-score are ill-defined and being set to 0.0 in labels with no predicted samples. Use `zero_division` parameter to control this behavior.\n",
      "  _warn_prf(average, modifier, msg_start, len(result))\n",
      "c:\\ProgramData\\Anaconda3\\lib\\site-packages\\sklearn\\metrics\\_classification.py:1344: UndefinedMetricWarning: Precision and F-score are ill-defined and being set to 0.0 in labels with no predicted samples. Use `zero_division` parameter to control this behavior.\n",
      "  _warn_prf(average, modifier, msg_start, len(result))\n",
      "[Parallel(n_jobs=-1)]: Using backend LokyBackend with 12 concurrent workers.\n"
     ]
    },
    {
     "name": "stdout",
     "output_type": "stream",
     "text": [
      "K-Fold #4\n",
      "Mean negativities for all classes: [0.37314535452582287, 0.3868048115254972, 0.38782195946970094]\n",
      "Mean entropies for all classes: [3.144548976080231e-15, 3.732899851843496e-15, 3.6563777239013196e-15]\n",
      "              precision    recall  f1-score   support\n",
      "\n",
      "           0       0.33      0.60      0.43         5\n",
      "           1       0.00      0.00      0.00         5\n",
      "           2       0.00      0.00      0.00         5\n",
      "\n",
      "    accuracy                           0.20        15\n",
      "   macro avg       0.11      0.20      0.14        15\n",
      "weighted avg       0.11      0.20      0.14        15\n",
      "\n",
      "-------------------------------------------------------------------------------------------------------------------\n"
     ]
    },
    {
     "name": "stderr",
     "output_type": "stream",
     "text": [
      "[Parallel(n_jobs=-1)]: Done   3 out of   3 | elapsed:  1.0min finished\n",
      "[Parallel(n_jobs=-1)]: Using backend LokyBackend with 12 concurrent workers.\n"
     ]
    },
    {
     "name": "stdout",
     "output_type": "stream",
     "text": [
      "K-Fold #5\n",
      "Mean negativities for all classes: [0.3625612960870576, 0.38045530263671956, 0.38600103335542546]\n",
      "Mean entropies for all classes: [3.887426517095636e-15, 4.204216057503924e-15, 3.2045380245605293e-15]\n",
      "              precision    recall  f1-score   support\n",
      "\n",
      "           0       0.38      0.60      0.46         5\n",
      "           1       0.00      0.00      0.00         5\n",
      "           2       0.50      0.20      0.29         5\n",
      "\n",
      "    accuracy                           0.27        15\n",
      "   macro avg       0.29      0.27      0.25        15\n",
      "weighted avg       0.29      0.27      0.25        15\n",
      "\n",
      "-------------------------------------------------------------------------------------------------------------------\n"
     ]
    },
    {
     "name": "stderr",
     "output_type": "stream",
     "text": [
      "[Parallel(n_jobs=-1)]: Done   3 out of   3 | elapsed:  1.0min finished\n",
      "[Parallel(n_jobs=-1)]: Using backend LokyBackend with 12 concurrent workers.\n"
     ]
    },
    {
     "name": "stdout",
     "output_type": "stream",
     "text": [
      "K-Fold #6\n",
      "Mean negativities for all classes: [0.37120714297713586, 0.38674358628542277, 0.37277633738879856]\n",
      "Mean entropies for all classes: [3.965558887181299e-15, 3.9235909252345135e-15, 3.3407708694011077e-15]\n",
      "              precision    recall  f1-score   support\n",
      "\n",
      "           0       0.33      0.20      0.25         5\n",
      "           1       0.00      0.00      0.00         5\n",
      "           2       0.25      0.20      0.22         5\n",
      "\n",
      "    accuracy                           0.13        15\n",
      "   macro avg       0.19      0.13      0.16        15\n",
      "weighted avg       0.19      0.13      0.16        15\n",
      "\n",
      "-------------------------------------------------------------------------------------------------------------------\n"
     ]
    },
    {
     "name": "stderr",
     "output_type": "stream",
     "text": [
      "[Parallel(n_jobs=-1)]: Done   3 out of   3 | elapsed:  1.0min finished\n",
      "c:\\ProgramData\\Anaconda3\\lib\\site-packages\\sklearn\\metrics\\_classification.py:1344: UndefinedMetricWarning: Precision and F-score are ill-defined and being set to 0.0 in labels with no predicted samples. Use `zero_division` parameter to control this behavior.\n",
      "  _warn_prf(average, modifier, msg_start, len(result))\n",
      "c:\\ProgramData\\Anaconda3\\lib\\site-packages\\sklearn\\metrics\\_classification.py:1344: UndefinedMetricWarning: Precision and F-score are ill-defined and being set to 0.0 in labels with no predicted samples. Use `zero_division` parameter to control this behavior.\n",
      "  _warn_prf(average, modifier, msg_start, len(result))\n",
      "c:\\ProgramData\\Anaconda3\\lib\\site-packages\\sklearn\\metrics\\_classification.py:1344: UndefinedMetricWarning: Precision and F-score are ill-defined and being set to 0.0 in labels with no predicted samples. Use `zero_division` parameter to control this behavior.\n",
      "  _warn_prf(average, modifier, msg_start, len(result))\n",
      "[Parallel(n_jobs=-1)]: Using backend LokyBackend with 12 concurrent workers.\n"
     ]
    },
    {
     "name": "stdout",
     "output_type": "stream",
     "text": [
      "K-Fold #7\n",
      "Mean negativities for all classes: [0.369158098445839, 0.3832272854040532, 0.38643235393326836]\n",
      "Mean entropies for all classes: [3.809290879619143e-15, 3.659451404694728e-15, 4.066151362818681e-15]\n",
      "              precision    recall  f1-score   support\n",
      "\n",
      "           0       0.29      0.40      0.33         5\n",
      "           1       0.25      0.40      0.31         5\n",
      "           2       0.00      0.00      0.00         5\n",
      "\n",
      "    accuracy                           0.27        15\n",
      "   macro avg       0.18      0.27      0.21        15\n",
      "weighted avg       0.18      0.27      0.21        15\n",
      "\n",
      "-------------------------------------------------------------------------------------------------------------------\n"
     ]
    },
    {
     "name": "stderr",
     "output_type": "stream",
     "text": [
      "[Parallel(n_jobs=-1)]: Done   3 out of   3 | elapsed:  1.0min finished\n",
      "[Parallel(n_jobs=-1)]: Using backend LokyBackend with 12 concurrent workers.\n"
     ]
    },
    {
     "name": "stdout",
     "output_type": "stream",
     "text": [
      "K-Fold #8\n",
      "Mean negativities for all classes: [0.36589832480139867, 0.3848895269323068, 0.38047842102406537]\n",
      "Mean entropies for all classes: [3.417257613272537e-15, 3.9756123889672686e-15, 3.2215851140995303e-15]\n",
      "              precision    recall  f1-score   support\n",
      "\n",
      "           0       0.33      0.40      0.36         5\n",
      "           1       0.25      0.40      0.31         5\n",
      "           2       0.00      0.00      0.00         5\n",
      "\n",
      "    accuracy                           0.27        15\n",
      "   macro avg       0.19      0.27      0.22        15\n",
      "weighted avg       0.19      0.27      0.22        15\n",
      "\n",
      "-------------------------------------------------------------------------------------------------------------------\n"
     ]
    },
    {
     "name": "stderr",
     "output_type": "stream",
     "text": [
      "[Parallel(n_jobs=-1)]: Done   3 out of   3 | elapsed:  1.0min finished\n",
      "c:\\ProgramData\\Anaconda3\\lib\\site-packages\\sklearn\\metrics\\_classification.py:1344: UndefinedMetricWarning: Precision and F-score are ill-defined and being set to 0.0 in labels with no predicted samples. Use `zero_division` parameter to control this behavior.\n",
      "  _warn_prf(average, modifier, msg_start, len(result))\n",
      "c:\\ProgramData\\Anaconda3\\lib\\site-packages\\sklearn\\metrics\\_classification.py:1344: UndefinedMetricWarning: Precision and F-score are ill-defined and being set to 0.0 in labels with no predicted samples. Use `zero_division` parameter to control this behavior.\n",
      "  _warn_prf(average, modifier, msg_start, len(result))\n",
      "c:\\ProgramData\\Anaconda3\\lib\\site-packages\\sklearn\\metrics\\_classification.py:1344: UndefinedMetricWarning: Precision and F-score are ill-defined and being set to 0.0 in labels with no predicted samples. Use `zero_division` parameter to control this behavior.\n",
      "  _warn_prf(average, modifier, msg_start, len(result))\n",
      "[Parallel(n_jobs=-1)]: Using backend LokyBackend with 12 concurrent workers.\n"
     ]
    },
    {
     "name": "stdout",
     "output_type": "stream",
     "text": [
      "K-Fold #9\n",
      "Mean negativities for all classes: [0.3654750702946663, 0.37627400322250043, 0.3866800248507574]\n",
      "Mean entropies for all classes: [3.713607108984121e-15, 3.2872477581135866e-15, 3.6353353188388745e-15]\n",
      "              precision    recall  f1-score   support\n",
      "\n",
      "           0       0.40      0.40      0.40         5\n",
      "           1       0.40      0.80      0.53         5\n",
      "           2       0.00      0.00      0.00         5\n",
      "\n",
      "    accuracy                           0.40        15\n",
      "   macro avg       0.27      0.40      0.31        15\n",
      "weighted avg       0.27      0.40      0.31        15\n",
      "\n",
      "-------------------------------------------------------------------------------------------------------------------\n",
      "AVG: Scores = 0.24 F1-Scores = 0.2131011581011581 Negativity = [0.3769060720052189, 0.3776911057976138, 0.3725315897872563] Entropy = [3.3716889161154603e-15, 3.668591940149335e-15, 3.523505301154898e-15]\n"
     ]
    },
    {
     "name": "stderr",
     "output_type": "stream",
     "text": [
      "[Parallel(n_jobs=-1)]: Done   3 out of   3 | elapsed:  1.0min finished\n",
      "[Parallel(n_jobs=-1)]: Using backend LokyBackend with 12 concurrent workers.\n"
     ]
    },
    {
     "name": "stdout",
     "output_type": "stream",
     "text": [
      "K-Fold #0\n",
      "Mean negativities for all classes: [0.3549266343730066, 0.37691451386619584, 0.37499500169031363]\n",
      "Mean entropies for all classes: [3.393199834920521e-15, 3.3379281746809426e-15, 3.6593356906827015e-15]\n",
      "              precision    recall  f1-score   support\n",
      "\n",
      "           0       0.43      0.60      0.50         5\n",
      "           1       0.25      0.20      0.22         5\n",
      "           2       0.75      0.60      0.67         5\n",
      "\n",
      "    accuracy                           0.47        15\n",
      "   macro avg       0.48      0.47      0.46        15\n",
      "weighted avg       0.48      0.47      0.46        15\n",
      "\n",
      "-------------------------------------------------------------------------------------------------------------------\n"
     ]
    },
    {
     "name": "stderr",
     "output_type": "stream",
     "text": [
      "[Parallel(n_jobs=-1)]: Done   3 out of   3 | elapsed:  1.0min finished\n",
      "[Parallel(n_jobs=-1)]: Using backend LokyBackend with 12 concurrent workers.\n"
     ]
    },
    {
     "name": "stdout",
     "output_type": "stream",
     "text": [
      "K-Fold #1\n",
      "Mean negativities for all classes: [0.362952695801255, 0.3871252380934818, 0.37595894552844344]\n",
      "Mean entropies for all classes: [2.737383806028539e-15, 3.343532580422169e-15, 3.365330959692406e-15]\n",
      "              precision    recall  f1-score   support\n",
      "\n",
      "           0       0.75      0.60      0.67         5\n",
      "           1       0.17      0.20      0.18         5\n",
      "           2       0.20      0.20      0.20         5\n",
      "\n",
      "    accuracy                           0.33        15\n",
      "   macro avg       0.37      0.33      0.35        15\n",
      "weighted avg       0.37      0.33      0.35        15\n",
      "\n",
      "-------------------------------------------------------------------------------------------------------------------\n"
     ]
    },
    {
     "name": "stderr",
     "output_type": "stream",
     "text": [
      "[Parallel(n_jobs=-1)]: Done   3 out of   3 | elapsed:  1.0min finished\n",
      "[Parallel(n_jobs=-1)]: Using backend LokyBackend with 12 concurrent workers.\n"
     ]
    },
    {
     "name": "stdout",
     "output_type": "stream",
     "text": [
      "K-Fold #2\n",
      "Mean negativities for all classes: [0.36588672892603025, 0.39040061072365473, 0.3871570268863466]\n",
      "Mean entropies for all classes: [4.0205638332766956e-15, 3.6617994921472776e-15, 3.7817474183735645e-15]\n",
      "              precision    recall  f1-score   support\n",
      "\n",
      "           0       0.38      0.60      0.46         5\n",
      "           1       0.17      0.20      0.18         5\n",
      "           2       0.00      0.00      0.00         5\n",
      "\n",
      "    accuracy                           0.27        15\n",
      "   macro avg       0.18      0.27      0.21        15\n",
      "weighted avg       0.18      0.27      0.21        15\n",
      "\n",
      "-------------------------------------------------------------------------------------------------------------------\n"
     ]
    },
    {
     "name": "stderr",
     "output_type": "stream",
     "text": [
      "[Parallel(n_jobs=-1)]: Done   3 out of   3 | elapsed:  1.0min finished\n",
      "[Parallel(n_jobs=-1)]: Using backend LokyBackend with 12 concurrent workers.\n"
     ]
    },
    {
     "name": "stdout",
     "output_type": "stream",
     "text": [
      "K-Fold #3\n",
      "Mean negativities for all classes: [0.36100429540972495, 0.3765214129199462, 0.3807364607591646]\n",
      "Mean entropies for all classes: [3.58102471611461e-15, 2.774079768112016e-15, 3.647799012888697e-15]\n",
      "              precision    recall  f1-score   support\n",
      "\n",
      "           0       0.25      0.40      0.31         5\n",
      "           1       0.33      0.40      0.36         5\n",
      "           2       1.00      0.20      0.33         5\n",
      "\n",
      "    accuracy                           0.33        15\n",
      "   macro avg       0.53      0.33      0.33        15\n",
      "weighted avg       0.53      0.33      0.33        15\n",
      "\n",
      "-------------------------------------------------------------------------------------------------------------------\n"
     ]
    },
    {
     "name": "stderr",
     "output_type": "stream",
     "text": [
      "[Parallel(n_jobs=-1)]: Done   3 out of   3 | elapsed:  1.0min finished\n",
      "[Parallel(n_jobs=-1)]: Using backend LokyBackend with 12 concurrent workers.\n"
     ]
    },
    {
     "name": "stdout",
     "output_type": "stream",
     "text": [
      "K-Fold #4\n",
      "Mean negativities for all classes: [0.36744667698701966, 0.38698846378446533, 0.38643931441552853]\n",
      "Mean entropies for all classes: [3.4970590710011156e-15, 3.423283021439108e-15, 2.9907975244513067e-15]\n",
      "              precision    recall  f1-score   support\n",
      "\n",
      "           0       0.25      0.40      0.31         5\n",
      "           1       0.00      0.00      0.00         5\n",
      "           2       0.00      0.00      0.00         5\n",
      "\n",
      "    accuracy                           0.13        15\n",
      "   macro avg       0.08      0.13      0.10        15\n",
      "weighted avg       0.08      0.13      0.10        15\n",
      "\n",
      "-------------------------------------------------------------------------------------------------------------------\n"
     ]
    },
    {
     "name": "stderr",
     "output_type": "stream",
     "text": [
      "[Parallel(n_jobs=-1)]: Done   3 out of   3 | elapsed:  1.0min finished\n",
      "c:\\ProgramData\\Anaconda3\\lib\\site-packages\\sklearn\\metrics\\_classification.py:1344: UndefinedMetricWarning: Precision and F-score are ill-defined and being set to 0.0 in labels with no predicted samples. Use `zero_division` parameter to control this behavior.\n",
      "  _warn_prf(average, modifier, msg_start, len(result))\n",
      "c:\\ProgramData\\Anaconda3\\lib\\site-packages\\sklearn\\metrics\\_classification.py:1344: UndefinedMetricWarning: Precision and F-score are ill-defined and being set to 0.0 in labels with no predicted samples. Use `zero_division` parameter to control this behavior.\n",
      "  _warn_prf(average, modifier, msg_start, len(result))\n",
      "c:\\ProgramData\\Anaconda3\\lib\\site-packages\\sklearn\\metrics\\_classification.py:1344: UndefinedMetricWarning: Precision and F-score are ill-defined and being set to 0.0 in labels with no predicted samples. Use `zero_division` parameter to control this behavior.\n",
      "  _warn_prf(average, modifier, msg_start, len(result))\n",
      "[Parallel(n_jobs=-1)]: Using backend LokyBackend with 12 concurrent workers.\n"
     ]
    },
    {
     "name": "stdout",
     "output_type": "stream",
     "text": [
      "K-Fold #5\n",
      "Mean negativities for all classes: [0.3687268437269642, 0.3761368607263098, 0.3858058266246337]\n",
      "Mean entropies for all classes: [4.018533839975998e-15, 3.348067458161255e-15, 4.1299336702840394e-15]\n",
      "              precision    recall  f1-score   support\n",
      "\n",
      "           0       0.20      0.20      0.20         5\n",
      "           1       0.10      0.20      0.13         5\n",
      "           2       0.00      0.00      0.00         5\n",
      "\n",
      "    accuracy                           0.13        15\n",
      "   macro avg       0.10      0.13      0.11        15\n",
      "weighted avg       0.10      0.13      0.11        15\n",
      "\n",
      "-------------------------------------------------------------------------------------------------------------------\n"
     ]
    },
    {
     "name": "stderr",
     "output_type": "stream",
     "text": [
      "[Parallel(n_jobs=-1)]: Done   3 out of   3 | elapsed:  1.0min finished\n",
      "[Parallel(n_jobs=-1)]: Using backend LokyBackend with 12 concurrent workers.\n"
     ]
    },
    {
     "name": "stdout",
     "output_type": "stream",
     "text": [
      "K-Fold #6\n",
      "Mean negativities for all classes: [0.37078523808349584, 0.38606782148940955, 0.38270805286780024]\n",
      "Mean entropies for all classes: [4.103717294466989e-15, 4.518440026662729e-15, 3.4615837271504327e-15]\n",
      "              precision    recall  f1-score   support\n",
      "\n",
      "           0       0.25      0.20      0.22         5\n",
      "           1       0.11      0.20      0.14         5\n",
      "           2       0.00      0.00      0.00         5\n",
      "\n",
      "    accuracy                           0.13        15\n",
      "   macro avg       0.12      0.13      0.12        15\n",
      "weighted avg       0.12      0.13      0.12        15\n",
      "\n",
      "-------------------------------------------------------------------------------------------------------------------\n"
     ]
    },
    {
     "name": "stderr",
     "output_type": "stream",
     "text": [
      "[Parallel(n_jobs=-1)]: Done   3 out of   3 | elapsed:  1.0min finished\n",
      "[Parallel(n_jobs=-1)]: Using backend LokyBackend with 12 concurrent workers.\n"
     ]
    },
    {
     "name": "stdout",
     "output_type": "stream",
     "text": [
      "K-Fold #7\n",
      "Mean negativities for all classes: [0.37122995409687576, 0.3856493934845764, 0.3730193089585884]\n",
      "Mean entropies for all classes: [3.3607002273872303e-15, 3.032096724040906e-15, 4.163929513191537e-15]\n",
      "              precision    recall  f1-score   support\n",
      "\n",
      "           0       0.80      0.80      0.80         5\n",
      "           1       0.38      0.60      0.46         5\n",
      "           2       0.00      0.00      0.00         5\n",
      "\n",
      "    accuracy                           0.47        15\n",
      "   macro avg       0.39      0.47      0.42        15\n",
      "weighted avg       0.39      0.47      0.42        15\n",
      "\n",
      "-------------------------------------------------------------------------------------------------------------------\n"
     ]
    },
    {
     "name": "stderr",
     "output_type": "stream",
     "text": [
      "[Parallel(n_jobs=-1)]: Done   3 out of   3 | elapsed:  1.0min finished\n",
      "[Parallel(n_jobs=-1)]: Using backend LokyBackend with 12 concurrent workers.\n"
     ]
    },
    {
     "name": "stdout",
     "output_type": "stream",
     "text": [
      "K-Fold #8\n",
      "Mean negativities for all classes: [0.36998981670595277, 0.37615253774484436, 0.38566924080073234]\n",
      "Mean entropies for all classes: [3.40907726753862e-15, 3.430899308484621e-15, 3.5125555746984864e-15]\n",
      "              precision    recall  f1-score   support\n",
      "\n",
      "           0       0.17      0.20      0.18         5\n",
      "           1       0.00      0.00      0.00         5\n",
      "           2       0.00      0.00      0.00         5\n",
      "\n",
      "    accuracy                           0.07        15\n",
      "   macro avg       0.06      0.07      0.06        15\n",
      "weighted avg       0.06      0.07      0.06        15\n",
      "\n",
      "-------------------------------------------------------------------------------------------------------------------\n"
     ]
    },
    {
     "name": "stderr",
     "output_type": "stream",
     "text": [
      "[Parallel(n_jobs=-1)]: Done   3 out of   3 | elapsed:  1.0min finished\n",
      "[Parallel(n_jobs=-1)]: Using backend LokyBackend with 12 concurrent workers.\n"
     ]
    },
    {
     "name": "stdout",
     "output_type": "stream",
     "text": [
      "K-Fold #9\n",
      "Mean negativities for all classes: [0.37557228508535256, 0.38134228785747787, 0.38795184765809776]\n",
      "Mean entropies for all classes: [4.0573690188923195e-15, 3.0466921245212906e-15, 4.153906423981484e-15]\n",
      "              precision    recall  f1-score   support\n",
      "\n",
      "           0       0.43      0.60      0.50         5\n",
      "           1       0.14      0.20      0.17         5\n",
      "           2       1.00      0.20      0.33         5\n",
      "\n",
      "    accuracy                           0.33        15\n",
      "   macro avg       0.52      0.33      0.33        15\n",
      "weighted avg       0.52      0.33      0.33        15\n",
      "\n",
      "-------------------------------------------------------------------------------------------------------------------\n",
      "AVG: Scores = 0.2666666666666667 F1-Scores = 0.2511618011618012 Negativity = [0.36894538330983867, 0.37534562647439335, 0.3811481221786772] Entropy = [3.463487900094722e-15, 3.1487491153810383e-15, 3.821370247932512e-15]\n"
     ]
    },
    {
     "name": "stderr",
     "output_type": "stream",
     "text": [
      "[Parallel(n_jobs=-1)]: Done   3 out of   3 | elapsed:  1.0min finished\n",
      "[Parallel(n_jobs=-1)]: Using backend LokyBackend with 12 concurrent workers.\n"
     ]
    },
    {
     "name": "stdout",
     "output_type": "stream",
     "text": [
      "K-Fold #0\n",
      "Mean negativities for all classes: [0.3716666082396769, 0.3884231367854068, 0.37648600735893994]\n",
      "Mean entropies for all classes: [3.1402375894379243e-15, 3.0615255776700905e-15, 3.3317071857401034e-15]\n",
      "              precision    recall  f1-score   support\n",
      "\n",
      "           0       0.50      0.40      0.44         5\n",
      "           1       0.14      0.20      0.17         5\n",
      "           2       0.50      0.40      0.44         5\n",
      "\n",
      "    accuracy                           0.33        15\n",
      "   macro avg       0.38      0.33      0.35        15\n",
      "weighted avg       0.38      0.33      0.35        15\n",
      "\n",
      "-------------------------------------------------------------------------------------------------------------------\n"
     ]
    },
    {
     "name": "stderr",
     "output_type": "stream",
     "text": [
      "[Parallel(n_jobs=-1)]: Done   3 out of   3 | elapsed:  1.0min finished\n",
      "[Parallel(n_jobs=-1)]: Using backend LokyBackend with 12 concurrent workers.\n"
     ]
    },
    {
     "name": "stdout",
     "output_type": "stream",
     "text": [
      "K-Fold #1\n",
      "Mean negativities for all classes: [0.3602702444833027, 0.3798236699598186, 0.3827853723732708]\n",
      "Mean entropies for all classes: [3.0732037624292274e-15, 3.6467538834411056e-15, 3.688246545293944e-15]\n",
      "              precision    recall  f1-score   support\n",
      "\n",
      "           0       0.43      0.60      0.50         5\n",
      "           1       0.00      0.00      0.00         5\n",
      "           2       0.00      0.00      0.00         5\n",
      "\n",
      "    accuracy                           0.20        15\n",
      "   macro avg       0.14      0.20      0.17        15\n",
      "weighted avg       0.14      0.20      0.17        15\n",
      "\n",
      "-------------------------------------------------------------------------------------------------------------------\n"
     ]
    },
    {
     "name": "stderr",
     "output_type": "stream",
     "text": [
      "[Parallel(n_jobs=-1)]: Done   3 out of   3 | elapsed:  1.0min finished\n",
      "[Parallel(n_jobs=-1)]: Using backend LokyBackend with 12 concurrent workers.\n"
     ]
    },
    {
     "name": "stdout",
     "output_type": "stream",
     "text": [
      "K-Fold #2\n",
      "Mean negativities for all classes: [0.36446202727090987, 0.3816547000249704, 0.3763927739931476]\n",
      "Mean entropies for all classes: [3.358769908034285e-15, 3.792631768906282e-15, 4.106301209246859e-15]\n",
      "              precision    recall  f1-score   support\n",
      "\n",
      "           0       0.43      0.60      0.50         5\n",
      "           1       0.33      0.40      0.36         5\n",
      "           2       0.00      0.00      0.00         5\n",
      "\n",
      "    accuracy                           0.33        15\n",
      "   macro avg       0.25      0.33      0.29        15\n",
      "weighted avg       0.25      0.33      0.29        15\n",
      "\n",
      "-------------------------------------------------------------------------------------------------------------------\n"
     ]
    },
    {
     "name": "stderr",
     "output_type": "stream",
     "text": [
      "[Parallel(n_jobs=-1)]: Done   3 out of   3 | elapsed:  1.0min finished\n",
      "[Parallel(n_jobs=-1)]: Using backend LokyBackend with 12 concurrent workers.\n"
     ]
    },
    {
     "name": "stdout",
     "output_type": "stream",
     "text": [
      "K-Fold #3\n",
      "Mean negativities for all classes: [0.3703633359956232, 0.37724548553964904, 0.3859191559421131]\n",
      "Mean entropies for all classes: [3.6272695802249756e-15, 3.5159049276983485e-15, 3.2737552585574316e-15]\n",
      "              precision    recall  f1-score   support\n",
      "\n",
      "           0       0.14      0.20      0.17         5\n",
      "           1       0.00      0.00      0.00         5\n",
      "           2       0.00      0.00      0.00         5\n",
      "\n",
      "    accuracy                           0.07        15\n",
      "   macro avg       0.05      0.07      0.06        15\n",
      "weighted avg       0.05      0.07      0.06        15\n",
      "\n",
      "-------------------------------------------------------------------------------------------------------------------\n"
     ]
    },
    {
     "name": "stderr",
     "output_type": "stream",
     "text": [
      "[Parallel(n_jobs=-1)]: Done   3 out of   3 | elapsed:  1.0min finished\n",
      "[Parallel(n_jobs=-1)]: Using backend LokyBackend with 12 concurrent workers.\n"
     ]
    },
    {
     "name": "stdout",
     "output_type": "stream",
     "text": [
      "K-Fold #4\n",
      "Mean negativities for all classes: [0.3704403162109616, 0.37750960236207187, 0.37823925251611523]\n",
      "Mean entropies for all classes: [3.5488941003806577e-15, 4.5203135097267146e-15, 3.0353972183491615e-15]\n",
      "              precision    recall  f1-score   support\n",
      "\n",
      "           0       0.50      0.60      0.55         5\n",
      "           1       0.12      0.20      0.15         5\n",
      "           2       0.00      0.00      0.00         5\n",
      "\n",
      "    accuracy                           0.27        15\n",
      "   macro avg       0.21      0.27      0.23        15\n",
      "weighted avg       0.21      0.27      0.23        15\n",
      "\n",
      "-------------------------------------------------------------------------------------------------------------------\n"
     ]
    },
    {
     "name": "stderr",
     "output_type": "stream",
     "text": [
      "[Parallel(n_jobs=-1)]: Done   3 out of   3 | elapsed:  1.0min finished\n",
      "[Parallel(n_jobs=-1)]: Using backend LokyBackend with 12 concurrent workers.\n"
     ]
    },
    {
     "name": "stdout",
     "output_type": "stream",
     "text": [
      "K-Fold #5\n",
      "Mean negativities for all classes: [0.3658127448918494, 0.3885851828560836, 0.38403624671545183]\n",
      "Mean entropies for all classes: [4.056635030170753e-15, 3.9011280165034016e-15, 3.0633817663688955e-15]\n",
      "              precision    recall  f1-score   support\n",
      "\n",
      "           0       0.43      0.60      0.50         5\n",
      "           1       0.14      0.20      0.17         5\n",
      "           2       0.00      0.00      0.00         5\n",
      "\n",
      "    accuracy                           0.27        15\n",
      "   macro avg       0.19      0.27      0.22        15\n",
      "weighted avg       0.19      0.27      0.22        15\n",
      "\n",
      "-------------------------------------------------------------------------------------------------------------------\n"
     ]
    },
    {
     "name": "stderr",
     "output_type": "stream",
     "text": [
      "[Parallel(n_jobs=-1)]: Done   3 out of   3 | elapsed:  1.0min finished\n",
      "[Parallel(n_jobs=-1)]: Using backend LokyBackend with 12 concurrent workers.\n"
     ]
    },
    {
     "name": "stdout",
     "output_type": "stream",
     "text": [
      "K-Fold #6\n",
      "Mean negativities for all classes: [0.3689187937791138, 0.3924367240415811, 0.3771331893384234]\n",
      "Mean entropies for all classes: [3.4860584210749638e-15, 3.642298800337453e-15, 3.5290686886943502e-15]\n",
      "              precision    recall  f1-score   support\n",
      "\n",
      "           0       0.25      0.20      0.22         5\n",
      "           1       0.00      0.00      0.00         5\n",
      "           2       0.25      0.20      0.22         5\n",
      "\n",
      "    accuracy                           0.13        15\n",
      "   macro avg       0.17      0.13      0.15        15\n",
      "weighted avg       0.17      0.13      0.15        15\n",
      "\n",
      "-------------------------------------------------------------------------------------------------------------------\n"
     ]
    },
    {
     "name": "stderr",
     "output_type": "stream",
     "text": [
      "[Parallel(n_jobs=-1)]: Done   3 out of   3 | elapsed:  1.0min finished\n",
      "c:\\ProgramData\\Anaconda3\\lib\\site-packages\\sklearn\\metrics\\_classification.py:1344: UndefinedMetricWarning: Precision and F-score are ill-defined and being set to 0.0 in labels with no predicted samples. Use `zero_division` parameter to control this behavior.\n",
      "  _warn_prf(average, modifier, msg_start, len(result))\n",
      "c:\\ProgramData\\Anaconda3\\lib\\site-packages\\sklearn\\metrics\\_classification.py:1344: UndefinedMetricWarning: Precision and F-score are ill-defined and being set to 0.0 in labels with no predicted samples. Use `zero_division` parameter to control this behavior.\n",
      "  _warn_prf(average, modifier, msg_start, len(result))\n",
      "c:\\ProgramData\\Anaconda3\\lib\\site-packages\\sklearn\\metrics\\_classification.py:1344: UndefinedMetricWarning: Precision and F-score are ill-defined and being set to 0.0 in labels with no predicted samples. Use `zero_division` parameter to control this behavior.\n",
      "  _warn_prf(average, modifier, msg_start, len(result))\n",
      "[Parallel(n_jobs=-1)]: Using backend LokyBackend with 12 concurrent workers.\n"
     ]
    },
    {
     "name": "stdout",
     "output_type": "stream",
     "text": [
      "K-Fold #7\n",
      "Mean negativities for all classes: [0.36979970315501254, 0.38700423523042876, 0.38427277086542994]\n",
      "Mean entropies for all classes: [4.107211815140042e-15, 3.511217744369583e-15, 3.114766019827619e-15]\n",
      "              precision    recall  f1-score   support\n",
      "\n",
      "           0       0.50      0.40      0.44         5\n",
      "           1       0.36      0.80      0.50         5\n",
      "           2       0.00      0.00      0.00         5\n",
      "\n",
      "    accuracy                           0.40        15\n",
      "   macro avg       0.29      0.40      0.31        15\n",
      "weighted avg       0.29      0.40      0.31        15\n",
      "\n",
      "-------------------------------------------------------------------------------------------------------------------\n"
     ]
    },
    {
     "name": "stderr",
     "output_type": "stream",
     "text": [
      "[Parallel(n_jobs=-1)]: Done   3 out of   3 | elapsed:  1.0min finished\n",
      "c:\\ProgramData\\Anaconda3\\lib\\site-packages\\sklearn\\metrics\\_classification.py:1344: UndefinedMetricWarning: Precision and F-score are ill-defined and being set to 0.0 in labels with no predicted samples. Use `zero_division` parameter to control this behavior.\n",
      "  _warn_prf(average, modifier, msg_start, len(result))\n",
      "c:\\ProgramData\\Anaconda3\\lib\\site-packages\\sklearn\\metrics\\_classification.py:1344: UndefinedMetricWarning: Precision and F-score are ill-defined and being set to 0.0 in labels with no predicted samples. Use `zero_division` parameter to control this behavior.\n",
      "  _warn_prf(average, modifier, msg_start, len(result))\n",
      "c:\\ProgramData\\Anaconda3\\lib\\site-packages\\sklearn\\metrics\\_classification.py:1344: UndefinedMetricWarning: Precision and F-score are ill-defined and being set to 0.0 in labels with no predicted samples. Use `zero_division` parameter to control this behavior.\n",
      "  _warn_prf(average, modifier, msg_start, len(result))\n",
      "[Parallel(n_jobs=-1)]: Using backend LokyBackend with 12 concurrent workers.\n"
     ]
    },
    {
     "name": "stdout",
     "output_type": "stream",
     "text": [
      "K-Fold #8\n",
      "Mean negativities for all classes: [0.35974392202829153, 0.3822581346658573, 0.3827126595168263]\n",
      "Mean entropies for all classes: [2.285827118412538e-15, 3.201322886986101e-15, 3.7928566323554e-15]\n",
      "              precision    recall  f1-score   support\n",
      "\n",
      "           0       0.43      0.60      0.50         5\n",
      "           1       0.38      0.60      0.46         5\n",
      "           2       0.00      0.00      0.00         5\n",
      "\n",
      "    accuracy                           0.40        15\n",
      "   macro avg       0.27      0.40      0.32        15\n",
      "weighted avg       0.27      0.40      0.32        15\n",
      "\n",
      "-------------------------------------------------------------------------------------------------------------------\n",
      "K-Fold #9\n",
      "Mean negativities for all classes: [0.36312927029462816, 0.38059903964698194, 0.3827001613417114]\n",
      "Mean entropies for all classes: [3.798658472770947e-15, 2.8501295967536134e-15, 4.4295106480083246e-15]\n",
      "              precision    recall  f1-score   support\n",
      "\n",
      "           0       0.57      0.80      0.67         5\n",
      "           1       0.50      0.60      0.55         5\n",
      "           2       0.50      0.20      0.29         5\n",
      "\n",
      "    accuracy                           0.53        15\n",
      "   macro avg       0.52      0.53      0.50        15\n",
      "weighted avg       0.52      0.53      0.50        15\n",
      "\n",
      "-------------------------------------------------------------------------------------------------------------------\n",
      "AVG: Scores = 0.29333333333333333 F1-Scores = 0.26000296000295997 Negativity = [0.3788585841280079, 0.37429309560546403, 0.3741698337630093] Entropy = [3.177823450949373e-15, 3.4694013970547587e-15, 3.752567628729142e-15]\n",
      "CPU times: total: 18 s\n",
      "Wall time: 3h 27min 40s\n"
     ]
    },
    {
     "name": "stderr",
     "output_type": "stream",
     "text": [
      "[Parallel(n_jobs=-1)]: Done   3 out of   3 | elapsed:  1.0min finished\n"
     ]
    }
   ],
   "source": [
    "%%time\n",
    "scores_list = []\n",
    "f1scores_list = []\n",
    "negativities_list = []\n",
    "for SEED in range(n_times_kfold):\n",
    "    scores, f1scores, output_dict = execute_training_test_k_fold(\n",
    "                    X, \n",
    "                    y, \n",
    "                    k_folds=k_times_fold,\n",
    "                    random_seed = SEED, \n",
    "                    classifier_function=classifier_function, \n",
    "                    dic_classifier_params=dic_classifier_params,\n",
    "                    one_vs_classifier=OneVsRestClassifier, \n",
    "                    dic_training_params=dic_training_params,\n",
    "                    print_each_fold_metric=True,\n",
    "                    print_avg_metric=True)\n",
    "    scores_list.append(scores)\n",
    "    f1scores_list.append(f1scores)\n",
    "    negativities_list.append(output_dict[\"negativities\"])"
   ]
  },
  {
   "cell_type": "code",
   "execution_count": 3,
   "id": "7f7363b8",
   "metadata": {},
   "outputs": [
    {
     "name": "stdout",
     "output_type": "stream",
     "text": [
      "Media Score dos N K-Fold 0.269\n",
      "Maior Score dos K-Fold 0.3066666666666667\n",
      "Min Score dos K-Fold 0.2333333333333334\n",
      "Media Score dos K-Fold [0.25333333333333335, 0.2866666666666667, 0.26, 0.3066666666666667, 0.2866666666666667, 0.2333333333333334, 0.24000000000000005, 0.2866666666666667, 0.25333333333333335, 0.2733333333333333, 0.2733333333333333, 0.28, 0.25333333333333335, 0.2733333333333333, 0.29333333333333333, 0.26666666666666666, 0.26, 0.24, 0.2666666666666667, 0.29333333333333333]\n",
      "\n",
      "\n",
      "[[0.26666666666666666, 0.26666666666666666, 0.26666666666666666, 0.06666666666666667, 0.3333333333333333, 0.26666666666666666, 0.13333333333333333, 0.3333333333333333, 0.13333333333333333, 0.4666666666666667], [0.4, 0.4, 0.4, 0.13333333333333333, 0.2, 0.2, 0.2, 0.3333333333333333, 0.26666666666666666, 0.3333333333333333], [0.3333333333333333, 0.26666666666666666, 0.2, 0.3333333333333333, 0.3333333333333333, 0.13333333333333333, 0.13333333333333333, 0.2, 0.4666666666666667, 0.2], [0.26666666666666666, 0.13333333333333333, 0.4, 0.2, 0.4666666666666667, 0.5333333333333333, 0.26666666666666666, 0.3333333333333333, 0.3333333333333333, 0.13333333333333333], [0.4, 0.26666666666666666, 0.3333333333333333, 0.26666666666666666, 0.4, 0.26666666666666666, 0.4, 0.2, 0.13333333333333333, 0.2], [0.3333333333333333, 0.26666666666666666, 0.2, 0.26666666666666666, 0.4666666666666667, 0.26666666666666666, 0.13333333333333333, 0.2, 0.06666666666666667, 0.13333333333333333], [0.13333333333333333, 0.4666666666666667, 0.13333333333333333, 0.3333333333333333, 0.06666666666666667, 0.4, 0.4, 0.06666666666666667, 0.2, 0.2], [0.4, 0.13333333333333333, 0.3333333333333333, 0.2, 0.26666666666666666, 0.3333333333333333, 0.3333333333333333, 0.26666666666666666, 0.2, 0.4], [0.13333333333333333, 0.6, 0.26666666666666666, 0.2, 0.13333333333333333, 0.13333333333333333, 0.3333333333333333, 0.3333333333333333, 0.2, 0.2], [0.2, 0.2, 0.4, 0.2, 0.6666666666666666, 0.2, 0.26666666666666666, 0.13333333333333333, 0.2, 0.26666666666666666], [0.06666666666666667, 0.13333333333333333, 0.2, 0.2, 0.5333333333333333, 0.4, 0.4, 0.3333333333333333, 0.13333333333333333, 0.3333333333333333], [0.4, 0.26666666666666666, 0.26666666666666666, 0.13333333333333333, 0.26666666666666666, 0.4666666666666667, 0.4, 0.13333333333333333, 0.3333333333333333, 0.13333333333333333], [0.13333333333333333, 0.2, 0.3333333333333333, 0.3333333333333333, 0.4, 0.4, 0.13333333333333333, 0.3333333333333333, 0.06666666666666667, 0.2], [0.4666666666666667, 0.3333333333333333, 0.2, 0.26666666666666666, 0.3333333333333333, 0.13333333333333333, 0.2, 0.3333333333333333, 0.13333333333333333, 0.3333333333333333], [0.3333333333333333, 0.13333333333333333, 0.26666666666666666, 0.3333333333333333, 0.3333333333333333, 0.13333333333333333, 0.3333333333333333, 0.26666666666666666, 0.4666666666666667, 0.3333333333333333], [0.4666666666666667, 0.3333333333333333, 0.2, 0.13333333333333333, 0.26666666666666666, 0.3333333333333333, 0.26666666666666666, 0.13333333333333333, 0.4, 0.13333333333333333], [0.3333333333333333, 0.2, 0.06666666666666667, 0.3333333333333333, 0.4, 0.4, 0.3333333333333333, 0.2, 0.06666666666666667, 0.26666666666666666], [0.2, 0.06666666666666667, 0.4, 0.2, 0.2, 0.26666666666666666, 0.13333333333333333, 0.26666666666666666, 0.26666666666666666, 0.4], [0.4666666666666667, 0.3333333333333333, 0.26666666666666666, 0.3333333333333333, 0.13333333333333333, 0.13333333333333333, 0.13333333333333333, 0.4666666666666667, 0.06666666666666667, 0.3333333333333333], [0.3333333333333333, 0.2, 0.3333333333333333, 0.06666666666666667, 0.26666666666666666, 0.26666666666666666, 0.13333333333333333, 0.4, 0.4, 0.5333333333333333]]\n"
     ]
    }
   ],
   "source": [
    "print(\"Media Score dos N K-Fold\", np.mean([np.mean(i) for i in scores_list]))\n",
    "print(\"Maior Score dos K-Fold\", max([np.mean(i) for i in scores_list]))\n",
    "print(\"Min Score dos K-Fold\", min([np.mean(i) for i in scores_list]))\n",
    "\n",
    "print(\"Media Score dos K-Fold\", [np.mean(i) for i in scores_list])\n",
    "print()\n",
    "print()\n",
    "print(scores_list)"
   ]
  },
  {
   "cell_type": "code",
   "execution_count": 4,
   "id": "49ad1fc9",
   "metadata": {},
   "outputs": [
    {
     "name": "stdout",
     "output_type": "stream",
     "text": [
      "Media F1Score dos N K-Fold 0.24358149331175646\n",
      "Maior F1Score dos K-Fold 0.2740790690790691\n",
      "Maior F1Score dos K-Fold 0.20880526880526878\n",
      "Media F1Score dos K-Fold [0.24257612757612756, 0.2582853257853258, 0.2340622340622341, 0.2659184480237112, 0.2740790690790691, 0.20880526880526878, 0.2138646538646539, 0.2634491434491434, 0.23937340437340437, 0.25202464202464203, 0.25199615199615194, 0.24522644022644022, 0.23042679542679542, 0.24504551004551006, 0.2536846486846487, 0.22519221519221522, 0.24335386835386835, 0.2131011581011581, 0.2511618011618012, 0.26000296000295997]\n",
      "\n",
      "\n",
      "[[0.28787878787878785, 0.30663780663780665, 0.22857142857142856, 0.07407407407407408, 0.26406926406926406, 0.25, 0.16666666666666666, 0.26495726495726496, 0.1623931623931624, 0.4205128205128206], [0.3246753246753247, 0.3205128205128205, 0.38888888888888884, 0.10256410256410257, 0.21693121693121697, 0.19444444444444442, 0.16666666666666666, 0.32756132756132755, 0.26746031746031745, 0.27314814814814814], [0.33404558404558404, 0.20000000000000004, 0.19576719576719578, 0.32556332556332557, 0.33888888888888885, 0.10256410256410257, 0.1216931216931217, 0.13333333333333333, 0.434920634920635, 0.15384615384615383], [0.22222222222222224, 0.13333333333333336, 0.28654970760233917, 0.1623931623931624, 0.46936026936026937, 0.5079365079365079, 0.21445221445221443, 0.26666666666666666, 0.275058275058275, 0.1212121212121212], [0.38816738816738816, 0.2740740740740741, 0.2692307692307692, 0.2512820512820513, 0.36703296703296706, 0.26746031746031745, 0.3861693861693862, 0.22727272727272727, 0.13333333333333336, 0.17676767676767677], [0.34208754208754216, 0.2074074074074074, 0.16666666666666666, 0.23589743589743595, 0.3852813852813852, 0.26666666666666666, 0.11851851851851852, 0.18461538461538463, 0.07407407407407408, 0.10683760683760683], [0.1111111111111111, 0.4386724386724387, 0.10256410256410257, 0.33602693602693606, 0.0606060606060606, 0.3333333333333333, 0.3682539682539683, 0.0606060606060606, 0.18461538461538463, 0.14285714285714285], [0.37806637806637805, 0.1216931216931217, 0.275058275058275, 0.1688311688311688, 0.25396825396825395, 0.27777777777777773, 0.33113553113553124, 0.29304029304029305, 0.16666666666666666, 0.3682539682539683], [0.15000000000000002, 0.5956043956043957, 0.26515151515151514, 0.16666666666666666, 0.1212121212121212, 0.1111111111111111, 0.3174603174603174, 0.32556332556332557, 0.1785714285714286, 0.1623931623931624], [0.18095238095238098, 0.2113997113997114, 0.39444444444444443, 0.20868945868945868, 0.6099456099456099, 0.16666666666666666, 0.27301587301587305, 0.09523809523809523, 0.14285714285714285, 0.23703703703703705], [0.0606060606060606, 0.11111111111111112, 0.16666666666666666, 0.19999999999999998, 0.5349206349206349, 0.3862433862433863, 0.38888888888888884, 0.24074074074074078, 0.10822510822510822, 0.32255892255892255], [0.3246753246753247, 0.24444444444444446, 0.2222222222222222, 0.13333333333333336, 0.23737373737373735, 0.38974358974358975, 0.39444444444444443, 0.10822510822510822, 0.29523809523809524, 0.10256410256410257], [0.10256410256410257, 0.13333333333333333, 0.3348873348873349, 0.27777777777777773, 0.3978021978021978, 0.3333333333333333, 0.1212121212121212, 0.33113553113553124, 0.05555555555555555, 0.2166666666666667], [0.46969696969696967, 0.303030303030303, 0.1623931623931624, 0.2380952380952381, 0.28438228438228436, 0.1111111111111111, 0.19444444444444442, 0.27777777777777773, 0.11428571428571428, 0.29523809523809524], [0.3333333333333333, 0.14814814814814817, 0.21645021645021645, 0.273015873015873, 0.31575091575091574, 0.08333333333333336, 0.2606837606837607, 0.2558922558922559, 0.3852813852813852, 0.26495726495726496], [0.4783549783549783, 0.1851851851851852, 0.16666666666666666, 0.1216931216931217, 0.2222222222222222, 0.2929292929292929, 0.2094017094017094, 0.1111111111111111, 0.3246753246753247, 0.1396825396825397], [0.33968253968253964, 0.18461538461538463, 0.05555555555555555, 0.3333333333333333, 0.39444444444444443, 0.37684537684537683, 0.27705627705627706, 0.19999999999999998, 0.05555555555555555, 0.21645021645021645], [0.18461538461538463, 0.06666666666666668, 0.4000000000000001, 0.1818181818181818, 0.14285714285714285, 0.2490842490842491, 0.1574074074074074, 0.21367521367521367, 0.22377622377622375, 0.3111111111111111], [0.46296296296296297, 0.34949494949494947, 0.21445221445221443, 0.3348873348873349, 0.10256410256410257, 0.11111111111111112, 0.1216931216931217, 0.4205128205128206, 0.0606060606060606, 0.3333333333333333], [0.35185185185185186, 0.16666666666666666, 0.28787878787878785, 0.05555555555555555, 0.2331002331002331, 0.2222222222222222, 0.14814814814814817, 0.3148148148148149, 0.3205128205128205, 0.49927849927849927]]\n"
     ]
    }
   ],
   "source": [
    "print(\"Media F1Score dos N K-Fold\", np.mean([np.mean(i) for i in f1scores_list]))\n",
    "print(\"Maior F1Score dos K-Fold\", max([np.mean(i) for i in f1scores_list]))\n",
    "print(\"Maior F1Score dos K-Fold\", min([np.mean(i) for i in f1scores_list]))\n",
    "\n",
    "print(\"Media F1Score dos K-Fold\", [np.mean(i) for i in f1scores_list])\n",
    "print()\n",
    "print()\n",
    "print(f1scores_list)"
   ]
  },
  {
   "cell_type": "code",
   "execution_count": 5,
   "id": "9fa72621",
   "metadata": {},
   "outputs": [
    {
     "name": "stdout",
     "output_type": "stream",
     "text": [
      "Media Negativity dos N K-Fold [0.36707727788610933, 0.3825773816084599, 0.3789460770733129]\n",
      "\n",
      "\n",
      "[[[0.3732796081244299, 0.363688238858142, 0.36129426520994673, 0.3680498166089497, 0.3748391155499356, 0.36920357189647196, 0.38130776871353983, 0.3705463798465305, 0.36552744607907056, 0.35631640467666276], [0.3880812347191941, 0.3771247954245537, 0.380670090451927, 0.38139519756083706, 0.3766215455262979, 0.38721187923893674, 0.3842838416608333, 0.38518276051736805, 0.3783836844852365, 0.38092522343066515], [0.38469039236653213, 0.3869615786271479, 0.3815536979879805, 0.3781620920524971, 0.3863813548198279, 0.37650318946010525, 0.3804883132237648, 0.3837222594581259, 0.38254251661841665, 0.37695516644912097]], [[0.3657453128889475, 0.37006415150154676, 0.38063244453037826, 0.3522118220890181, 0.37123896340505497, 0.3729306898816306, 0.36791364949599564, 0.36080726932500123, 0.3631071634978172, 0.369425848678958], [0.38184064056461925, 0.3838913896634557, 0.3916010787885988, 0.380366918027847, 0.38879644311981626, 0.37928469460119385, 0.3767048282431858, 0.38756232828449844, 0.36585455188291827, 0.3704565820269475], [0.38152102694208984, 0.38397161061798724, 0.38432362824035043, 0.38349295117096893, 0.38116468722354274, 0.3753920201218233, 0.3295275850066825, 0.3802567904150116, 0.37891909693121933, 0.3867877654973392]], [[0.38223200976840965, 0.3680246672899187, 0.3636422254719721, 0.3622001763389425, 0.3634167567229293, 0.3652499949715544, 0.3658663189305428, 0.3716165123376316, 0.3701518825762731, 0.35971958022610073], [0.37749440204119017, 0.3817259371678895, 0.3803203239777461, 0.3856662361434557, 0.3779306770029593, 0.3858008027629144, 0.3811527611974182, 0.3859047326035855, 0.3844741409379211, 0.38775577308318615], [0.37384257024172834, 0.3891569914985576, 0.3802531548347749, 0.3863036649368697, 0.37989191237062536, 0.37879385643799635, 0.3819875071359089, 0.3758046576538836, 0.38629468502245606, 0.38215254605036153]], [[0.3685022672247167, 0.3668887474046808, 0.368734893938427, 0.36309465379653133, 0.375719562983639, 0.3638453299139047, 0.3678339258076503, 0.3581204004867497, 0.36515902657223176, 0.3684610797551624], [0.3795205999560365, 0.3892296610883614, 0.3895843481782389, 0.38085109863944583, 0.39262686239469424, 0.37672499648156604, 0.3889060551805522, 0.3768585052827658, 0.3806281627576062, 0.3807764802973221], [0.3848120831254134, 0.3801148210564414, 0.16537307267275203, 0.38553153544865665, 0.37639544424341914, 0.37340957952389675, 0.3832935092410425, 0.38609844917696673, 0.3731050008842039, 0.38041995210555307]], [[0.3613733216958138, 0.3686125367913902, 0.3728572514602716, 0.35858138411540247, 0.3585046742858228, 0.3767646319915329, 0.37028461259776735, 0.36388374951525876, 0.366072355069755, 0.36383079175827043], [0.38194150871687976, 0.3915817533235896, 0.38903932665426455, 0.3834121893108347, 0.3857026093772159, 0.3745431389323003, 0.3775824063228849, 0.38160989173689175, 0.38741711637355325, 0.3767423098780512], [0.38651450335226645, 0.3729161047542578, 0.3825323906329265, 0.38166311462857627, 0.3744883101173416, 0.38211852881271297, 0.3895008201181722, 0.37889497524659327, 0.38205033519437237, 0.38053636231044213]], [[0.37336977625946377, 0.3682107901269591, 0.36800833133610966, 0.3697241758286437, 0.35695800316846105, 0.36701394714879376, 0.3727145570715122, 0.35922844746673543, 0.36658084423879156, 0.36791221624922843], [0.3853987498584883, 0.3827477780137774, 0.37824384465928307, 0.38339220235658833, 0.3859897267906479, 0.3854365375276984, 0.368244965640737, 0.37915592660911585, 0.3796839422984569, 0.3844854554455847], [0.37465157261765275, 0.38372550935015315, 0.3823354207627837, 0.3748003054475095, 0.38616618122507484, 0.3785294525585572, 0.38440238115663655, 0.38187682984247356, 0.3840847026962931, 0.38281556670173855]], [[0.37267693082836434, 0.3703304519996703, 0.37110238253799854, 0.3692434705255633, 0.37109419369879143, 0.36864674926186086, 0.3648116773308377, 0.36226868846165455, 0.34657845922170943, 0.37733656709448804], [0.3810114755688697, 0.385373890141574, 0.3819311013339798, 0.3853759848309475, 0.3840853989628012, 0.37372730357502076, 0.3904878502584426, 0.38540905035013956, 0.3757648222539168, 0.38750931026168806], [0.37882696116730835, 0.37812102537014086, 0.3862298006587938, 0.3780571494699275, 0.39199643578627147, 0.37718071608914105, 0.3757643214792496, 0.3873887477622961, 0.3820888935627799, 0.39285279456747657]], [[0.3614838715222955, 0.37153932580419124, 0.3751111548966243, 0.36793329418550846, 0.3676769291805152, 0.36014056957607804, 0.3713973431239278, 0.36635369835421105, 0.3711326019727963, 0.3657745036303217], [0.3901603137560576, 0.3790791014282527, 0.38164385942906554, 0.37594597986349937, 0.3852699466949471, 0.38349746581551275, 0.38345007697159084, 0.3826373728594052, 0.37972760093378277, 0.3858134812489584], [0.37856759657010003, 0.38582030547010504, 0.3849283205510529, 0.3803925170869665, 0.38094295728993754, 0.38513195946969, 0.37235058548245054, 0.3864940329897797, 0.38566644587101884, 0.3836384920704651]], [[0.36838813207177795, 0.3692208120761836, 0.35623673640124753, 0.3665192160383104, 0.38195459928120035, 0.35791187158001847, 0.36946581498202147, 0.3646354804597634, 0.3692028043911223, 0.3660715785712621], [0.3830598414535906, 0.38384981442344673, 0.37761937540219914, 0.37621265555527905, 0.3836040131225787, 0.38274168411049275, 0.38531814341600495, 0.38768218296823925, 0.36924971533448697, 0.38377278046445507], [0.37955544700620153, 0.3827621282228913, 0.344046289181234, 0.38369296189133, 0.3784923983376855, 0.38202914171219227, 0.3765302930544136, 0.3841708632966018, 0.38754919772648644, 0.3839173358874725]], [[0.36762151501528795, 0.36678061550104396, 0.35924389507074744, 0.3771045339450175, 0.3649422067730078, 0.36184065818917027, 0.3688127172626263, 0.36424552067485616, 0.375959934124394, 0.37447431866269876], [0.3832291316132535, 0.3871441844093325, 0.38482798927254325, 0.3817050508073689, 0.3913808168514599, 0.38329560181312927, 0.3785728113272199, 0.3774904588868386, 0.38153199403282784, 0.37562862661790397], [0.38132319154242206, 0.38349472719419736, 0.3785003561353111, 0.38732297686303174, 0.3709074649950944, 0.3842970606996666, 0.38118123922863095, 0.38296228946861155, 0.38622696364323583, 0.37914866723795565]], [[0.36157221773816567, 0.36628798122399203, 0.3578831881883769, 0.36848300814816193, 0.3673155810599341, 0.3810326866206608, 0.3804514553369129, 0.3614229301250425, 0.37763574608605904, 0.3572610405952636], [0.3825799216902272, 0.3792918895281262, 0.3832748928639657, 0.37026286356362587, 0.377508263085906, 0.3842392599122501, 0.3869462788158033, 0.3839082632864005, 0.37928073061706713, 0.38802537590122094], [0.3787332140907928, 0.38841919416214643, 0.3801687653080031, 0.38154578454207616, 0.3716741620568967, 0.3793072885217423, 0.38002420636642315, 0.36633453783275105, 0.3890658866370649, 0.37659912370473253]], [[0.37082545092892594, 0.3509020637335646, 0.36677070470137013, 0.370709209168083, 0.3755834612557277, 0.36228464520704434, 0.36094746187611015, 0.3673716147756195, 0.3710635235228659, 0.36467699315427893], [0.38209350530364306, 0.37592309840424815, 0.38480923721737054, 0.3849324339172178, 0.3877442243232358, 0.3919798995681983, 0.3809633877240708, 0.37583046590080965, 0.3824206966288679, 0.38267486398796813], [0.3874221775869213, 0.3786294245262919, 0.375315370564069, 0.3818417193183308, 0.38051471210149584, 0.3736983340091164, 0.3803706890557089, 0.3914444912521314, 0.3883539080456941, 0.38666970992331806]], [[0.35730135643627264, 0.36701247064038783, 0.3676411686167235, 0.36844771525610237, 0.3676513016335862, 0.3681692316954402, 0.3611729469571745, 0.3550911322334786, 0.3735708968048976, 0.37932561827038963], [0.37621873384924537, 0.3831019365484066, 0.38102581421261067, 0.3854931273609441, 0.39008969407500627, 0.38947677522250146, 0.3846563864288388, 0.37895084731254985, 0.3826504620494796, 0.38687843813491996], [0.38919201784376856, 0.38656203821940366, 0.38505896872452183, 0.3780444871513226, 0.37379093750653525, 0.3817418463666246, 0.3740260884579903, 0.3854006792906575, 0.3849728548041461, 0.3842193137285011]], [[0.36259647278575424, 0.35114874390478445, 0.3687715075089158, 0.3552175372313448, 0.3715603928743422, 0.37562936415917453, 0.37064458998453775, 0.36394511719604605, 0.38031575458632094, 0.36932713491443303], [0.3838110205054429, 0.3846888045502741, 0.3788704929383854, 0.38649675308162135, 0.38613443565590866, 0.38793483678466983, 0.38457762964110553, 0.3805207249264349, 0.3767792737204901, 0.38340139761896874], [0.379602147216696, 0.3784863294930622, 0.386922846780766, 0.3759424145969397, 0.38439616168145285, 0.38371556551359626, 0.37759580823615224, 0.37968904870874726, 0.3888002385860536, 0.3904401483609012]], [[0.3715441229648734, 0.3666801046134174, 0.36274322751338084, 0.3649816073266374, 0.3645156558829251, 0.37329167828220505, 0.36043094955716437, 0.37184880035127893, 0.3696845983855101, 0.36547270129947407], [0.37994968410171037, 0.3853021809786708, 0.3793964884368252, 0.38429252449535506, 0.38578942595836546, 0.3701483938023911, 0.38577896722299293, 0.3893029840482099, 0.38364621638708024, 0.38700670636360596], [0.38238472279924457, 0.3812434611058942, 0.38719847066981095, 0.3851977079706848, 0.3780566975926277, 0.37485405768408386, 0.38543974362653, 0.3710361070247074, 0.38635796174540277, 0.38569868589755224]], [[0.36724928316426264, 0.36697405692487384, 0.36435369369667087, 0.3663550669395662, 0.36089222665250004, 0.3691151475508749, 0.36707206152282884, 0.36372006795000106, 0.363511377023993, 0.3755524433258924], [0.38426546605698986, 0.3784185319613408, 0.374533859673606, 0.382583413802645, 0.3844337024414024, 0.38357600277567083, 0.3806097920365123, 0.3836228990742035, 0.3854083099186238, 0.38317884878681263], [0.38026650286849045, 0.1664756321247115, 0.38528725801010477, 0.3852452126709826, 0.37482580031947743, 0.3753980104237472, 0.3854980447004647, 0.3517805269314376, 0.38380505539294335, 0.3820091297513575]], [[0.36907758330701385, 0.352928960358376, 0.3705250250249932, 0.37161030483786495, 0.3515787118769094, 0.368655194023284, 0.37801402471304907, 0.36428435702276923, 0.37141682728271613, 0.37283168269399286], [0.38161188942287955, 0.3752982190315305, 0.37367037917840323, 0.3823107186958813, 0.3857822755304387, 0.38863548226064826, 0.38733484528523393, 0.38720563033375427, 0.3814014060576299, 0.38438162332710873], [0.3820131672874403, 0.3736286338257824, 0.3798742679160442, 0.37783505661003397, 0.37955793849151476, 0.38285268699394476, 0.38516861595102686, 0.3776966186197434, 0.39064139161808525, 0.3900124035329871]], [[0.366707743568546, 0.37065639529243366, 0.35648541464140315, 0.36873747600580153, 0.37314535452582287, 0.3625612960870576, 0.37120714297713586, 0.369158098445839, 0.36589832480139867, 0.3654750702946663], [0.38672772807323486, 0.3785848326608144, 0.38263096995566726, 0.3866333152462751, 0.3868048115254972, 0.38045530263671956, 0.38674358628542277, 0.3832272854040532, 0.3848895269323068, 0.37627400322250043], [0.37728274437387604, 0.3838320894395931, 0.37847838476469864, 0.3847341023727277, 0.38782195946970094, 0.38600103335542546, 0.37277633738879856, 0.38643235393326836, 0.38047842102406537, 0.3866800248507574]], [[0.3549266343730066, 0.362952695801255, 0.36588672892603025, 0.36100429540972495, 0.36744667698701966, 0.3687268437269642, 0.37078523808349584, 0.37122995409687576, 0.36998981670595277, 0.37557228508535256], [0.37691451386619584, 0.3871252380934818, 0.39040061072365473, 0.3765214129199462, 0.38698846378446533, 0.3761368607263098, 0.38606782148940955, 0.3856493934845764, 0.37615253774484436, 0.38134228785747787], [0.37499500169031363, 0.37595894552844344, 0.3871570268863466, 0.3807364607591646, 0.38643931441552853, 0.3858058266246337, 0.38270805286780024, 0.3730193089585884, 0.38566924080073234, 0.38795184765809776]], [[0.3716666082396769, 0.3602702444833027, 0.36446202727090987, 0.3703633359956232, 0.3704403162109616, 0.3658127448918494, 0.3689187937791138, 0.36979970315501254, 0.35974392202829153, 0.36312927029462816], [0.3884231367854068, 0.3798236699598186, 0.3816547000249704, 0.37724548553964904, 0.37750960236207187, 0.3885851828560836, 0.3924367240415811, 0.38700423523042876, 0.3822581346658573, 0.38059903964698194], [0.37648600735893994, 0.3827853723732708, 0.3763927739931476, 0.3859191559421131, 0.37823925251611523, 0.38403624671545183, 0.3771331893384234, 0.38427277086542994, 0.3827126595168263, 0.3827001613417114]]]\n"
     ]
    }
   ],
   "source": [
    "print(\"Media Negativity dos N K-Fold\", [np.mean([neg[i] for neg in negativities_list]) for i in range(len(set(y)))])\n",
    "\n",
    "print()\n",
    "print()\n",
    "print(negativities_list)"
   ]
  }
 ],
 "metadata": {
  "kernelspec": {
   "display_name": "Python 3",
   "language": "python",
   "name": "python3"
  },
  "language_info": {
   "codemirror_mode": {
    "name": "ipython",
    "version": 3
   },
   "file_extension": ".py",
   "mimetype": "text/x-python",
   "name": "python",
   "nbconvert_exporter": "python",
   "pygments_lexer": "ipython3",
   "version": "3.9.16"
  }
 },
 "nbformat": 4,
 "nbformat_minor": 5
}
