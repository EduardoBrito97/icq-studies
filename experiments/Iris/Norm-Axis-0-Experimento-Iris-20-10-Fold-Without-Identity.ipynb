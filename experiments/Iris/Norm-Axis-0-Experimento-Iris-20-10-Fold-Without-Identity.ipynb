{
 "cells": [
  {
   "cell_type": "code",
   "execution_count": 1,
   "id": "0db239e0",
   "metadata": {},
   "outputs": [
    {
     "name": "stderr",
     "output_type": "stream",
     "text": [
      "Intel(R) Extension for Scikit-learn* enabled (https://github.com/intel/scikit-learn-intelex)\n"
     ]
    }
   ],
   "source": [
    "import sys, os\n",
    "sys.path.append(os.path.abspath('../../classifiers'))\n",
    "sys.path.append(os.path.abspath('../../training'))\n",
    "sys.path.append(os.path.abspath('../../validation'))\n",
    "from validation_functions import execute_training_test_k_fold\n",
    "from classifiers_ICQ import iqc_classifier\n",
    "\n",
    "from sklearn.multiclass import OneVsRestClassifier\n",
    "import numpy as np\n",
    "from sklearn import datasets\n",
    "\n",
    "iris = datasets.load_iris()\n",
    "\n",
    "X = iris.data[:, [0,1,2,3]]\n",
    "y = iris.target\n",
    "\n",
    "classifier_function = iqc_classifier\n",
    "dic_classifier_params = {}\n",
    "dic_classifier_params[\"sigma_q_params\"] = [1,1,1,0]\n",
    "dic_classifier_params[\"use_polar_coordinates_on_sigma_q\"] = False\n",
    "dic_classifier_params[\"load_inputvector_env_state\"] = False\n",
    "\n",
    "dic_training_params = {\"max_iter\": 1000,\n",
    "    \"accuracy_succ\": 0.99,\n",
    "    \"plot_graphs_and_metrics\": False,\n",
    "    \"plot_graphs_in_classifier\": False,\n",
    "    \"random_seed\": 1,\n",
    "    \"learning_rate\": 0.009,\n",
    "    \"refit_db\":True,\n",
    "    \"reset_weights_epoch\":0,\n",
    "    \"do_classes_refit\":True,\n",
    "    \"batch\":False}\n",
    "\n",
    "n_times_kfold = 20\n",
    "k_times_fold = 10"
   ]
  },
  {
   "cell_type": "code",
   "execution_count": 2,
   "id": "ca21ba5e",
   "metadata": {},
   "outputs": [
    {
     "name": "stderr",
     "output_type": "stream",
     "text": [
      "[Parallel(n_jobs=-1)]: Using backend LokyBackend with 12 concurrent workers.\n",
      "[Parallel(n_jobs=-1)]: Done   3 out of   3 | elapsed:  1.3min finished\n",
      "[Parallel(n_jobs=-1)]: Using backend LokyBackend with 12 concurrent workers.\n"
     ]
    },
    {
     "name": "stdout",
     "output_type": "stream",
     "text": [
      "K-Fold #0\n",
      "Mean negativities for all classes: [0.3732661061381127, 0.3814778960333282, 0.3846406045918686]\n",
      "Mean entropies for all classes: [3.857944757783802e-15, 3.712219210414886e-15, 2.876275264299449e-15]\n",
      "              precision    recall  f1-score   support\n",
      "\n",
      "           0       0.33      0.40      0.36         5\n",
      "           1       0.00      0.00      0.00         5\n",
      "           2       0.00      0.00      0.00         5\n",
      "\n",
      "    accuracy                           0.13        15\n",
      "   macro avg       0.11      0.13      0.12        15\n",
      "weighted avg       0.11      0.13      0.12        15\n",
      "\n",
      "-------------------------------------------------------------------------------------------------------------------\n"
     ]
    },
    {
     "name": "stderr",
     "output_type": "stream",
     "text": [
      "[Parallel(n_jobs=-1)]: Done   3 out of   3 | elapsed:  1.2min finished\n",
      "[Parallel(n_jobs=-1)]: Using backend LokyBackend with 12 concurrent workers.\n"
     ]
    },
    {
     "name": "stdout",
     "output_type": "stream",
     "text": [
      "K-Fold #1\n",
      "Mean negativities for all classes: [0.363668307046334, 0.37693281417196534, 0.38694714391548846]\n",
      "Mean entropies for all classes: [3.3057616431862632e-15, 4.47831199624953e-15, 4.275101461264402e-15]\n",
      "              precision    recall  f1-score   support\n",
      "\n",
      "           0       0.17      0.20      0.18         5\n",
      "           1       0.14      0.20      0.17         5\n",
      "           2       1.00      0.40      0.57         5\n",
      "\n",
      "    accuracy                           0.27        15\n",
      "   macro avg       0.44      0.27      0.31        15\n",
      "weighted avg       0.44      0.27      0.31        15\n",
      "\n",
      "-------------------------------------------------------------------------------------------------------------------\n"
     ]
    },
    {
     "name": "stderr",
     "output_type": "stream",
     "text": [
      "[Parallel(n_jobs=-1)]: Done   3 out of   3 | elapsed:  1.2min finished\n",
      "[Parallel(n_jobs=-1)]: Using backend LokyBackend with 12 concurrent workers.\n"
     ]
    },
    {
     "name": "stdout",
     "output_type": "stream",
     "text": [
      "K-Fold #2\n",
      "Mean negativities for all classes: [0.3612966442179494, 0.38066303536242974, 0.3815247966069803]\n",
      "Mean entropies for all classes: [3.610707492285451e-15, 4.32746596054572e-15, 3.336089207526016e-15]\n",
      "              precision    recall  f1-score   support\n",
      "\n",
      "           0       0.40      0.40      0.40         5\n",
      "           1       0.22      0.40      0.29         5\n",
      "           2       0.00      0.00      0.00         5\n",
      "\n",
      "    accuracy                           0.27        15\n",
      "   macro avg       0.21      0.27      0.23        15\n",
      "weighted avg       0.21      0.27      0.23        15\n",
      "\n",
      "-------------------------------------------------------------------------------------------------------------------\n"
     ]
    },
    {
     "name": "stderr",
     "output_type": "stream",
     "text": [
      "[Parallel(n_jobs=-1)]: Done   3 out of   3 | elapsed:  1.2min finished\n",
      "[Parallel(n_jobs=-1)]: Using backend LokyBackend with 12 concurrent workers.\n"
     ]
    },
    {
     "name": "stdout",
     "output_type": "stream",
     "text": [
      "K-Fold #3\n",
      "Mean negativities for all classes: [0.3680479848581223, 0.3798316361930472, 0.37820099258802276]\n",
      "Mean entropies for all classes: [3.456405395484441e-15, 3.4575212266680436e-15, 3.759603212230623e-15]\n",
      "              precision    recall  f1-score   support\n",
      "\n",
      "           0       0.25      0.20      0.22         5\n",
      "           1       0.00      0.00      0.00         5\n",
      "           2       0.00      0.00      0.00         5\n",
      "\n",
      "    accuracy                           0.07        15\n",
      "   macro avg       0.08      0.07      0.07        15\n",
      "weighted avg       0.08      0.07      0.07        15\n",
      "\n",
      "-------------------------------------------------------------------------------------------------------------------\n"
     ]
    },
    {
     "name": "stderr",
     "output_type": "stream",
     "text": [
      "[Parallel(n_jobs=-1)]: Done   3 out of   3 | elapsed:  1.2min finished\n",
      "c:\\ProgramData\\Anaconda3\\lib\\site-packages\\sklearn\\metrics\\_classification.py:1344: UndefinedMetricWarning: Precision and F-score are ill-defined and being set to 0.0 in labels with no predicted samples. Use `zero_division` parameter to control this behavior.\n",
      "  _warn_prf(average, modifier, msg_start, len(result))\n",
      "c:\\ProgramData\\Anaconda3\\lib\\site-packages\\sklearn\\metrics\\_classification.py:1344: UndefinedMetricWarning: Precision and F-score are ill-defined and being set to 0.0 in labels with no predicted samples. Use `zero_division` parameter to control this behavior.\n",
      "  _warn_prf(average, modifier, msg_start, len(result))\n",
      "c:\\ProgramData\\Anaconda3\\lib\\site-packages\\sklearn\\metrics\\_classification.py:1344: UndefinedMetricWarning: Precision and F-score are ill-defined and being set to 0.0 in labels with no predicted samples. Use `zero_division` parameter to control this behavior.\n",
      "  _warn_prf(average, modifier, msg_start, len(result))\n",
      "[Parallel(n_jobs=-1)]: Using backend LokyBackend with 12 concurrent workers.\n"
     ]
    },
    {
     "name": "stdout",
     "output_type": "stream",
     "text": [
      "K-Fold #4\n",
      "Mean negativities for all classes: [0.3748367499337261, 0.37450189393767375, 0.3863399952485115]\n",
      "Mean entropies for all classes: [3.931399001002091e-15, 4.229842950978051e-15, 4.212951962116043e-15]\n",
      "              precision    recall  f1-score   support\n",
      "\n",
      "           0       0.40      0.40      0.40         5\n",
      "           1       0.30      0.60      0.40         5\n",
      "           2       0.00      0.00      0.00         5\n",
      "\n",
      "    accuracy                           0.33        15\n",
      "   macro avg       0.23      0.33      0.27        15\n",
      "weighted avg       0.23      0.33      0.27        15\n",
      "\n",
      "-------------------------------------------------------------------------------------------------------------------\n"
     ]
    },
    {
     "name": "stderr",
     "output_type": "stream",
     "text": [
      "[Parallel(n_jobs=-1)]: Done   3 out of   3 | elapsed:  1.2min finished\n",
      "[Parallel(n_jobs=-1)]: Using backend LokyBackend with 12 concurrent workers.\n"
     ]
    },
    {
     "name": "stdout",
     "output_type": "stream",
     "text": [
      "K-Fold #5\n",
      "Mean negativities for all classes: [0.36918979392485013, 0.38720671181295446, 0.37648170054398733]\n",
      "Mean entropies for all classes: [3.688783263093838e-15, 3.48533595111564e-15, 3.5365622767495976e-15]\n",
      "              precision    recall  f1-score   support\n",
      "\n",
      "           0       0.43      0.60      0.50         5\n",
      "           1       0.00      0.00      0.00         5\n",
      "           2       0.33      0.20      0.25         5\n",
      "\n",
      "    accuracy                           0.27        15\n",
      "   macro avg       0.25      0.27      0.25        15\n",
      "weighted avg       0.25      0.27      0.25        15\n",
      "\n",
      "-------------------------------------------------------------------------------------------------------------------\n"
     ]
    },
    {
     "name": "stderr",
     "output_type": "stream",
     "text": [
      "[Parallel(n_jobs=-1)]: Done   3 out of   3 | elapsed:  1.2min finished\n",
      "[Parallel(n_jobs=-1)]: Using backend LokyBackend with 12 concurrent workers.\n"
     ]
    },
    {
     "name": "stdout",
     "output_type": "stream",
     "text": [
      "K-Fold #6\n",
      "Mean negativities for all classes: [0.3812794583464378, 0.3842860018253988, 0.38041265127897095]\n",
      "Mean entropies for all classes: [2.8988400373633736e-15, 3.9043902225104255e-15, 3.149513533872455e-15]\n",
      "              precision    recall  f1-score   support\n",
      "\n",
      "           0       0.67      0.40      0.50         5\n",
      "           1       0.00      0.00      0.00         5\n",
      "           2       0.00      0.00      0.00         5\n",
      "\n",
      "    accuracy                           0.13        15\n",
      "   macro avg       0.22      0.13      0.17        15\n",
      "weighted avg       0.22      0.13      0.17        15\n",
      "\n",
      "-------------------------------------------------------------------------------------------------------------------\n"
     ]
    },
    {
     "name": "stderr",
     "output_type": "stream",
     "text": [
      "[Parallel(n_jobs=-1)]: Done   3 out of   3 | elapsed:  1.2min finished\n",
      "c:\\ProgramData\\Anaconda3\\lib\\site-packages\\sklearn\\metrics\\_classification.py:1344: UndefinedMetricWarning: Precision and F-score are ill-defined and being set to 0.0 in labels with no predicted samples. Use `zero_division` parameter to control this behavior.\n",
      "  _warn_prf(average, modifier, msg_start, len(result))\n",
      "c:\\ProgramData\\Anaconda3\\lib\\site-packages\\sklearn\\metrics\\_classification.py:1344: UndefinedMetricWarning: Precision and F-score are ill-defined and being set to 0.0 in labels with no predicted samples. Use `zero_division` parameter to control this behavior.\n",
      "  _warn_prf(average, modifier, msg_start, len(result))\n",
      "c:\\ProgramData\\Anaconda3\\lib\\site-packages\\sklearn\\metrics\\_classification.py:1344: UndefinedMetricWarning: Precision and F-score are ill-defined and being set to 0.0 in labels with no predicted samples. Use `zero_division` parameter to control this behavior.\n",
      "  _warn_prf(average, modifier, msg_start, len(result))\n",
      "[Parallel(n_jobs=-1)]: Using backend LokyBackend with 12 concurrent workers.\n"
     ]
    },
    {
     "name": "stdout",
     "output_type": "stream",
     "text": [
      "K-Fold #7\n",
      "Mean negativities for all classes: [0.3705543088712212, 0.384584299125084, 0.38370732839134764]\n",
      "Mean entropies for all classes: [3.571813886860581e-15, 3.4199805755304197e-15, 3.3848731772392818e-15]\n",
      "              precision    recall  f1-score   support\n",
      "\n",
      "           0       0.29      0.40      0.33         5\n",
      "           1       0.25      0.40      0.31         5\n",
      "           2       0.00      0.00      0.00         5\n",
      "\n",
      "    accuracy                           0.27        15\n",
      "   macro avg       0.18      0.27      0.21        15\n",
      "weighted avg       0.18      0.27      0.21        15\n",
      "\n",
      "-------------------------------------------------------------------------------------------------------------------\n"
     ]
    },
    {
     "name": "stderr",
     "output_type": "stream",
     "text": [
      "[Parallel(n_jobs=-1)]: Done   3 out of   3 | elapsed:  1.2min finished\n",
      "[Parallel(n_jobs=-1)]: Using backend LokyBackend with 12 concurrent workers.\n"
     ]
    },
    {
     "name": "stdout",
     "output_type": "stream",
     "text": [
      "K-Fold #8\n",
      "Mean negativities for all classes: [0.3655244360013958, 0.3789980822802007, 0.3825085742599545]\n",
      "Mean entropies for all classes: [2.7786254138518563e-15, 2.9627682212690012e-15, 3.696446385686559e-15]\n",
      "              precision    recall  f1-score   support\n",
      "\n",
      "           0       0.12      0.20      0.15         5\n",
      "           1       0.00      0.00      0.00         5\n",
      "           2       1.00      0.20      0.33         5\n",
      "\n",
      "    accuracy                           0.13        15\n",
      "   macro avg       0.38      0.13      0.16        15\n",
      "weighted avg       0.38      0.13      0.16        15\n",
      "\n",
      "-------------------------------------------------------------------------------------------------------------------\n"
     ]
    },
    {
     "name": "stderr",
     "output_type": "stream",
     "text": [
      "[Parallel(n_jobs=-1)]: Done   3 out of   3 | elapsed:  1.2min finished\n",
      "[Parallel(n_jobs=-1)]: Using backend LokyBackend with 12 concurrent workers.\n"
     ]
    },
    {
     "name": "stdout",
     "output_type": "stream",
     "text": [
      "K-Fold #9\n",
      "Mean negativities for all classes: [0.35611801431939477, 0.3805936127117044, 0.3771211460516414]\n",
      "Mean entropies for all classes: [3.990619562185603e-15, 3.5286749756044407e-15, 3.1107123800296008e-15]\n",
      "              precision    recall  f1-score   support\n",
      "\n",
      "           0       0.67      0.80      0.73         5\n",
      "           1       0.29      0.40      0.33         5\n",
      "           2       0.00      0.00      0.00         5\n",
      "\n",
      "    accuracy                           0.40        15\n",
      "   macro avg       0.32      0.40      0.35        15\n",
      "weighted avg       0.32      0.40      0.35        15\n",
      "\n",
      "-------------------------------------------------------------------------------------------------------------------\n",
      "AVG: Scores = 0.22666666666666666 F1-Scores = 0.21434324934324933 Negativity = [0.3797948689211032, 0.3758494217112626, 0.3744948253957865] Entropy = [3.4821464108327123e-15, 4.019725033566732e-15, 3.758087553452395e-15]\n"
     ]
    },
    {
     "name": "stderr",
     "output_type": "stream",
     "text": [
      "[Parallel(n_jobs=-1)]: Done   3 out of   3 | elapsed:  1.2min finished\n",
      "c:\\ProgramData\\Anaconda3\\lib\\site-packages\\sklearn\\metrics\\_classification.py:1344: UndefinedMetricWarning: Precision and F-score are ill-defined and being set to 0.0 in labels with no predicted samples. Use `zero_division` parameter to control this behavior.\n",
      "  _warn_prf(average, modifier, msg_start, len(result))\n",
      "c:\\ProgramData\\Anaconda3\\lib\\site-packages\\sklearn\\metrics\\_classification.py:1344: UndefinedMetricWarning: Precision and F-score are ill-defined and being set to 0.0 in labels with no predicted samples. Use `zero_division` parameter to control this behavior.\n",
      "  _warn_prf(average, modifier, msg_start, len(result))\n",
      "c:\\ProgramData\\Anaconda3\\lib\\site-packages\\sklearn\\metrics\\_classification.py:1344: UndefinedMetricWarning: Precision and F-score are ill-defined and being set to 0.0 in labels with no predicted samples. Use `zero_division` parameter to control this behavior.\n",
      "  _warn_prf(average, modifier, msg_start, len(result))\n",
      "[Parallel(n_jobs=-1)]: Using backend LokyBackend with 12 concurrent workers.\n"
     ]
    },
    {
     "name": "stdout",
     "output_type": "stream",
     "text": [
      "K-Fold #0\n",
      "Mean negativities for all classes: [0.3657285123037583, 0.3813731464892834, 0.3815206410790311]\n",
      "Mean entropies for all classes: [3.2434481243872935e-15, 3.990786421208099e-15, 2.937929942737478e-15]\n",
      "              precision    recall  f1-score   support\n",
      "\n",
      "           0       0.50      0.60      0.55         5\n",
      "           1       0.33      0.60      0.43         5\n",
      "           2       0.00      0.00      0.00         5\n",
      "\n",
      "    accuracy                           0.40        15\n",
      "   macro avg       0.28      0.40      0.32        15\n",
      "weighted avg       0.28      0.40      0.32        15\n",
      "\n",
      "-------------------------------------------------------------------------------------------------------------------\n"
     ]
    },
    {
     "name": "stderr",
     "output_type": "stream",
     "text": [
      "[Parallel(n_jobs=-1)]: Done   3 out of   3 | elapsed:  1.2min finished\n",
      "[Parallel(n_jobs=-1)]: Using backend LokyBackend with 12 concurrent workers.\n"
     ]
    },
    {
     "name": "stdout",
     "output_type": "stream",
     "text": [
      "K-Fold #1\n",
      "Mean negativities for all classes: [0.3700589064974989, 0.371320654923014, 0.383945726718488]\n",
      "Mean entropies for all classes: [3.7673890215738485e-15, 3.056675466012796e-15, 2.962789134885608e-15]\n",
      "              precision    recall  f1-score   support\n",
      "\n",
      "           0       0.60      0.60      0.60         5\n",
      "           1       0.22      0.40      0.29         5\n",
      "           2       0.00      0.00      0.00         5\n",
      "\n",
      "    accuracy                           0.33        15\n",
      "   macro avg       0.27      0.33      0.30        15\n",
      "weighted avg       0.27      0.33      0.30        15\n",
      "\n",
      "-------------------------------------------------------------------------------------------------------------------\n"
     ]
    },
    {
     "name": "stderr",
     "output_type": "stream",
     "text": [
      "[Parallel(n_jobs=-1)]: Done   3 out of   3 | elapsed:  1.2min finished\n",
      "[Parallel(n_jobs=-1)]: Using backend LokyBackend with 12 concurrent workers.\n"
     ]
    },
    {
     "name": "stdout",
     "output_type": "stream",
     "text": [
      "K-Fold #2\n",
      "Mean negativities for all classes: [0.3806230543823255, 0.39149493555246045, 0.38430703113172515]\n",
      "Mean entropies for all classes: [3.578660145333791e-15, 4.1187427129416456e-15, 3.0323879994201047e-15]\n",
      "              precision    recall  f1-score   support\n",
      "\n",
      "           0       0.43      0.60      0.50         5\n",
      "           1       0.29      0.40      0.33         5\n",
      "           2       1.00      0.20      0.33         5\n",
      "\n",
      "    accuracy                           0.40        15\n",
      "   macro avg       0.57      0.40      0.39        15\n",
      "weighted avg       0.57      0.40      0.39        15\n",
      "\n",
      "-------------------------------------------------------------------------------------------------------------------\n"
     ]
    },
    {
     "name": "stderr",
     "output_type": "stream",
     "text": [
      "[Parallel(n_jobs=-1)]: Done   3 out of   3 | elapsed:  1.2min finished\n",
      "c:\\ProgramData\\Anaconda3\\lib\\site-packages\\sklearn\\metrics\\_classification.py:1344: UndefinedMetricWarning: Precision and F-score are ill-defined and being set to 0.0 in labels with no predicted samples. Use `zero_division` parameter to control this behavior.\n",
      "  _warn_prf(average, modifier, msg_start, len(result))\n",
      "c:\\ProgramData\\Anaconda3\\lib\\site-packages\\sklearn\\metrics\\_classification.py:1344: UndefinedMetricWarning: Precision and F-score are ill-defined and being set to 0.0 in labels with no predicted samples. Use `zero_division` parameter to control this behavior.\n",
      "  _warn_prf(average, modifier, msg_start, len(result))\n",
      "c:\\ProgramData\\Anaconda3\\lib\\site-packages\\sklearn\\metrics\\_classification.py:1344: UndefinedMetricWarning: Precision and F-score are ill-defined and being set to 0.0 in labels with no predicted samples. Use `zero_division` parameter to control this behavior.\n",
      "  _warn_prf(average, modifier, msg_start, len(result))\n",
      "[Parallel(n_jobs=-1)]: Using backend LokyBackend with 12 concurrent workers.\n"
     ]
    },
    {
     "name": "stdout",
     "output_type": "stream",
     "text": [
      "K-Fold #3\n",
      "Mean negativities for all classes: [0.35220380167556353, 0.37337892804513656, 0.38343764249287104]\n",
      "Mean entropies for all classes: [3.599622103981133e-15, 3.805924292650329e-15, 3.622272495578668e-15]\n",
      "              precision    recall  f1-score   support\n",
      "\n",
      "           0       0.25      0.40      0.31         5\n",
      "           1       0.00      0.00      0.00         5\n",
      "           2       0.00      0.00      0.00         5\n",
      "\n",
      "    accuracy                           0.13        15\n",
      "   macro avg       0.08      0.13      0.10        15\n",
      "weighted avg       0.08      0.13      0.10        15\n",
      "\n",
      "-------------------------------------------------------------------------------------------------------------------\n"
     ]
    },
    {
     "name": "stderr",
     "output_type": "stream",
     "text": [
      "[Parallel(n_jobs=-1)]: Done   3 out of   3 | elapsed:  1.2min finished\n",
      "[Parallel(n_jobs=-1)]: Using backend LokyBackend with 12 concurrent workers.\n"
     ]
    },
    {
     "name": "stdout",
     "output_type": "stream",
     "text": [
      "K-Fold #4\n",
      "Mean negativities for all classes: [0.37122457038806456, 0.3781029451145594, 0.3811522578101592]\n",
      "Mean entropies for all classes: [3.705057731327724e-15, 3.511864037573926e-15, 3.612425450133783e-15]\n",
      "              precision    recall  f1-score   support\n",
      "\n",
      "           0       0.25      0.20      0.22         5\n",
      "           1       0.10      0.20      0.13         5\n",
      "           2       0.00      0.00      0.00         5\n",
      "\n",
      "    accuracy                           0.13        15\n",
      "   macro avg       0.12      0.13      0.12        15\n",
      "weighted avg       0.12      0.13      0.12        15\n",
      "\n",
      "-------------------------------------------------------------------------------------------------------------------\n"
     ]
    },
    {
     "name": "stderr",
     "output_type": "stream",
     "text": [
      "[Parallel(n_jobs=-1)]: Done   3 out of   3 | elapsed:  1.2min finished\n",
      "[Parallel(n_jobs=-1)]: Using backend LokyBackend with 12 concurrent workers.\n"
     ]
    },
    {
     "name": "stdout",
     "output_type": "stream",
     "text": [
      "K-Fold #5\n",
      "Mean negativities for all classes: [0.37290828529968567, 0.3777048078905498, 0.37523614444305287]\n",
      "Mean entropies for all classes: [3.398056809402329e-15, 3.603858323624819e-15, 3.7796847407074905e-15]\n",
      "              precision    recall  f1-score   support\n",
      "\n",
      "           0       0.29      0.40      0.33         5\n",
      "           1       0.00      0.00      0.00         5\n",
      "           2       0.33      0.20      0.25         5\n",
      "\n",
      "    accuracy                           0.20        15\n",
      "   macro avg       0.21      0.20      0.19        15\n",
      "weighted avg       0.21      0.20      0.19        15\n",
      "\n",
      "-------------------------------------------------------------------------------------------------------------------\n"
     ]
    },
    {
     "name": "stderr",
     "output_type": "stream",
     "text": [
      "[Parallel(n_jobs=-1)]: Done   3 out of   3 | elapsed:  1.2min finished\n",
      "[Parallel(n_jobs=-1)]: Using backend LokyBackend with 12 concurrent workers.\n"
     ]
    },
    {
     "name": "stdout",
     "output_type": "stream",
     "text": [
      "K-Fold #6\n",
      "Mean negativities for all classes: [0.367900638930519, 0.3772982105446302, 0.3725604941123298]\n",
      "Mean entropies for all classes: [3.242669820208656e-15, 3.598335189606478e-15, 3.322274071308398e-15]\n",
      "              precision    recall  f1-score   support\n",
      "\n",
      "           0       0.50      0.40      0.44         5\n",
      "           1       0.00      0.00      0.00         5\n",
      "           2       0.40      0.40      0.40         5\n",
      "\n",
      "    accuracy                           0.27        15\n",
      "   macro avg       0.30      0.27      0.28        15\n",
      "weighted avg       0.30      0.27      0.28        15\n",
      "\n",
      "-------------------------------------------------------------------------------------------------------------------\n"
     ]
    },
    {
     "name": "stderr",
     "output_type": "stream",
     "text": [
      "[Parallel(n_jobs=-1)]: Done   3 out of   3 | elapsed:  1.2min finished\n",
      "[Parallel(n_jobs=-1)]: Using backend LokyBackend with 12 concurrent workers.\n"
     ]
    },
    {
     "name": "stdout",
     "output_type": "stream",
     "text": [
      "K-Fold #7\n",
      "Mean negativities for all classes: [0.36079324648144784, 0.3877301024469891, 0.3802593920395506]\n",
      "Mean entropies for all classes: [3.2243863208029924e-15, 3.0818435299873918e-15, 2.755746807535352e-15]\n",
      "              precision    recall  f1-score   support\n",
      "\n",
      "           0       0.29      0.40      0.33         5\n",
      "           1       0.33      0.40      0.36         5\n",
      "           2       0.50      0.20      0.29         5\n",
      "\n",
      "    accuracy                           0.33        15\n",
      "   macro avg       0.37      0.33      0.33        15\n",
      "weighted avg       0.37      0.33      0.33        15\n",
      "\n",
      "-------------------------------------------------------------------------------------------------------------------\n"
     ]
    },
    {
     "name": "stderr",
     "output_type": "stream",
     "text": [
      "[Parallel(n_jobs=-1)]: Done   3 out of   3 | elapsed:  1.2min finished\n",
      "[Parallel(n_jobs=-1)]: Using backend LokyBackend with 12 concurrent workers.\n"
     ]
    },
    {
     "name": "stdout",
     "output_type": "stream",
     "text": [
      "K-Fold #8\n",
      "Mean negativities for all classes: [0.36309194056177907, 0.36577000622522976, 0.37881953190914286]\n",
      "Mean entropies for all classes: [3.5594943539511335e-15, 4.791473541698073e-15, 3.223361731297204e-15]\n",
      "              precision    recall  f1-score   support\n",
      "\n",
      "           0       0.50      0.20      0.29         5\n",
      "           1       0.20      0.40      0.27         5\n",
      "           2       0.33      0.20      0.25         5\n",
      "\n",
      "    accuracy                           0.27        15\n",
      "   macro avg       0.34      0.27      0.27        15\n",
      "weighted avg       0.34      0.27      0.27        15\n",
      "\n",
      "-------------------------------------------------------------------------------------------------------------------\n"
     ]
    },
    {
     "name": "stderr",
     "output_type": "stream",
     "text": [
      "[Parallel(n_jobs=-1)]: Done   3 out of   3 | elapsed:  1.2min finished\n",
      "c:\\ProgramData\\Anaconda3\\lib\\site-packages\\sklearn\\metrics\\_classification.py:1344: UndefinedMetricWarning: Precision and F-score are ill-defined and being set to 0.0 in labels with no predicted samples. Use `zero_division` parameter to control this behavior.\n",
      "  _warn_prf(average, modifier, msg_start, len(result))\n",
      "c:\\ProgramData\\Anaconda3\\lib\\site-packages\\sklearn\\metrics\\_classification.py:1344: UndefinedMetricWarning: Precision and F-score are ill-defined and being set to 0.0 in labels with no predicted samples. Use `zero_division` parameter to control this behavior.\n",
      "  _warn_prf(average, modifier, msg_start, len(result))\n",
      "c:\\ProgramData\\Anaconda3\\lib\\site-packages\\sklearn\\metrics\\_classification.py:1344: UndefinedMetricWarning: Precision and F-score are ill-defined and being set to 0.0 in labels with no predicted samples. Use `zero_division` parameter to control this behavior.\n",
      "  _warn_prf(average, modifier, msg_start, len(result))\n",
      "[Parallel(n_jobs=-1)]: Using backend LokyBackend with 12 concurrent workers.\n"
     ]
    },
    {
     "name": "stdout",
     "output_type": "stream",
     "text": [
      "K-Fold #9\n",
      "Mean negativities for all classes: [0.3694184665046948, 0.37048179963603717, 0.3867553520840586]\n",
      "Mean entropies for all classes: [3.757782656059706e-15, 3.1927380473539923e-15, 3.68740272668071e-15]\n",
      "              precision    recall  f1-score   support\n",
      "\n",
      "           0       0.50      0.40      0.44         5\n",
      "           1       0.27      0.60      0.37         5\n",
      "           2       0.00      0.00      0.00         5\n",
      "\n",
      "    accuracy                           0.33        15\n",
      "   macro avg       0.26      0.33      0.27        15\n",
      "weighted avg       0.26      0.33      0.27        15\n",
      "\n",
      "-------------------------------------------------------------------------------------------------------------------\n",
      "AVG: Scores = 0.28 F1-Scores = 0.2573980648980648 Negativity = [0.3762074332906909, 0.375108429379667, 0.3854750070221704] Entropy = [3.390721496110957e-15, 3.262284540824084e-15, 3.57659695256518e-15]\n"
     ]
    },
    {
     "name": "stderr",
     "output_type": "stream",
     "text": [
      "[Parallel(n_jobs=-1)]: Done   3 out of   3 | elapsed:  1.2min finished\n",
      "[Parallel(n_jobs=-1)]: Using backend LokyBackend with 12 concurrent workers.\n"
     ]
    },
    {
     "name": "stdout",
     "output_type": "stream",
     "text": [
      "K-Fold #0\n",
      "Mean negativities for all classes: [0.38223357317362633, 0.3774911331454488, 0.37354796139453345]\n",
      "Mean entropies for all classes: [3.5314486252735407e-15, 3.860399494165896e-15, 3.879801499947252e-15]\n",
      "              precision    recall  f1-score   support\n",
      "\n",
      "           0       0.50      0.40      0.44         5\n",
      "           1       0.25      0.40      0.31         5\n",
      "           2       0.33      0.20      0.25         5\n",
      "\n",
      "    accuracy                           0.33        15\n",
      "   macro avg       0.36      0.33      0.33        15\n",
      "weighted avg       0.36      0.33      0.33        15\n",
      "\n",
      "-------------------------------------------------------------------------------------------------------------------\n"
     ]
    },
    {
     "name": "stderr",
     "output_type": "stream",
     "text": [
      "[Parallel(n_jobs=-1)]: Done   3 out of   3 | elapsed:  1.2min finished\n",
      "c:\\ProgramData\\Anaconda3\\lib\\site-packages\\sklearn\\metrics\\_classification.py:1344: UndefinedMetricWarning: Precision and F-score are ill-defined and being set to 0.0 in labels with no predicted samples. Use `zero_division` parameter to control this behavior.\n",
      "  _warn_prf(average, modifier, msg_start, len(result))\n",
      "c:\\ProgramData\\Anaconda3\\lib\\site-packages\\sklearn\\metrics\\_classification.py:1344: UndefinedMetricWarning: Precision and F-score are ill-defined and being set to 0.0 in labels with no predicted samples. Use `zero_division` parameter to control this behavior.\n",
      "  _warn_prf(average, modifier, msg_start, len(result))\n",
      "c:\\ProgramData\\Anaconda3\\lib\\site-packages\\sklearn\\metrics\\_classification.py:1344: UndefinedMetricWarning: Precision and F-score are ill-defined and being set to 0.0 in labels with no predicted samples. Use `zero_division` parameter to control this behavior.\n",
      "  _warn_prf(average, modifier, msg_start, len(result))\n",
      "[Parallel(n_jobs=-1)]: Using backend LokyBackend with 12 concurrent workers.\n"
     ]
    },
    {
     "name": "stdout",
     "output_type": "stream",
     "text": [
      "K-Fold #1\n",
      "Mean negativities for all classes: [0.3680037058324823, 0.37997398322658754, 0.38920809623455604]\n",
      "Mean entropies for all classes: [3.4046304145409025e-15, 3.309934444913489e-15, 3.823460791498595e-15]\n",
      "              precision    recall  f1-score   support\n",
      "\n",
      "           0       0.25      0.40      0.31         5\n",
      "           1       0.14      0.20      0.17         5\n",
      "           2       0.00      0.00      0.00         5\n",
      "\n",
      "    accuracy                           0.20        15\n",
      "   macro avg       0.13      0.20      0.16        15\n",
      "weighted avg       0.13      0.20      0.16        15\n",
      "\n",
      "-------------------------------------------------------------------------------------------------------------------\n"
     ]
    },
    {
     "name": "stderr",
     "output_type": "stream",
     "text": [
      "[Parallel(n_jobs=-1)]: Done   3 out of   3 | elapsed:  1.2min finished\n",
      "[Parallel(n_jobs=-1)]: Using backend LokyBackend with 12 concurrent workers.\n"
     ]
    },
    {
     "name": "stdout",
     "output_type": "stream",
     "text": [
      "K-Fold #2\n",
      "Mean negativities for all classes: [0.36364055896150277, 0.3803026480488659, 0.3801602292537307]\n",
      "Mean entropies for all classes: [3.25704458164552e-15, 4.0440499105251565e-15, 3.964674959928807e-15]\n",
      "              precision    recall  f1-score   support\n",
      "\n",
      "           0       0.50      0.40      0.44         5\n",
      "           1       0.11      0.20      0.14         5\n",
      "           2       0.00      0.00      0.00         5\n",
      "\n",
      "    accuracy                           0.20        15\n",
      "   macro avg       0.20      0.20      0.20        15\n",
      "weighted avg       0.20      0.20      0.20        15\n",
      "\n",
      "-------------------------------------------------------------------------------------------------------------------\n"
     ]
    },
    {
     "name": "stderr",
     "output_type": "stream",
     "text": [
      "[Parallel(n_jobs=-1)]: Done   3 out of   3 | elapsed:  1.2min finished\n",
      "[Parallel(n_jobs=-1)]: Using backend LokyBackend with 12 concurrent workers.\n"
     ]
    },
    {
     "name": "stdout",
     "output_type": "stream",
     "text": [
      "K-Fold #3\n",
      "Mean negativities for all classes: [0.3621793194378821, 0.3856533478047965, 0.3863148484326913]\n",
      "Mean entropies for all classes: [3.6131963501564795e-15, 2.924654063988771e-15, 3.0025188619451207e-15]\n",
      "              precision    recall  f1-score   support\n",
      "\n",
      "           0       0.38      0.60      0.46         5\n",
      "           1       0.17      0.20      0.18         5\n",
      "           2       1.00      0.20      0.33         5\n",
      "\n",
      "    accuracy                           0.33        15\n",
      "   macro avg       0.51      0.33      0.33        15\n",
      "weighted avg       0.51      0.33      0.33        15\n",
      "\n",
      "-------------------------------------------------------------------------------------------------------------------\n"
     ]
    },
    {
     "name": "stderr",
     "output_type": "stream",
     "text": [
      "[Parallel(n_jobs=-1)]: Done   3 out of   3 | elapsed:  1.2min finished\n",
      "[Parallel(n_jobs=-1)]: Using backend LokyBackend with 12 concurrent workers.\n"
     ]
    },
    {
     "name": "stdout",
     "output_type": "stream",
     "text": [
      "K-Fold #4\n",
      "Mean negativities for all classes: [0.3634045996068604, 0.3779295461732154, 0.3799076988945246]\n",
      "Mean entropies for all classes: [3.744562787341775e-15, 4.068110604212225e-15, 3.287267056574495e-15]\n",
      "              precision    recall  f1-score   support\n",
      "\n",
      "           0       0.60      0.60      0.60         5\n",
      "           1       0.14      0.20      0.17         5\n",
      "           2       0.33      0.20      0.25         5\n",
      "\n",
      "    accuracy                           0.33        15\n",
      "   macro avg       0.36      0.33      0.34        15\n",
      "weighted avg       0.36      0.33      0.34        15\n",
      "\n",
      "-------------------------------------------------------------------------------------------------------------------\n"
     ]
    },
    {
     "name": "stderr",
     "output_type": "stream",
     "text": [
      "[Parallel(n_jobs=-1)]: Done   3 out of   3 | elapsed:  1.2min finished\n",
      "[Parallel(n_jobs=-1)]: Using backend LokyBackend with 12 concurrent workers.\n"
     ]
    },
    {
     "name": "stdout",
     "output_type": "stream",
     "text": [
      "K-Fold #5\n",
      "Mean negativities for all classes: [0.3652376172461922, 0.38577953315077557, 0.3786810672377234]\n",
      "Mean entropies for all classes: [3.3899286927450988e-15, 3.626860670610241e-15, 3.027246436035129e-15]\n",
      "              precision    recall  f1-score   support\n",
      "\n",
      "           0       0.25      0.40      0.31         5\n",
      "           1       0.00      0.00      0.00         5\n",
      "           2       0.00      0.00      0.00         5\n",
      "\n",
      "    accuracy                           0.13        15\n",
      "   macro avg       0.08      0.13      0.10        15\n",
      "weighted avg       0.08      0.13      0.10        15\n",
      "\n",
      "-------------------------------------------------------------------------------------------------------------------\n"
     ]
    },
    {
     "name": "stderr",
     "output_type": "stream",
     "text": [
      "[Parallel(n_jobs=-1)]: Done   3 out of   3 | elapsed:  1.2min finished\n",
      "[Parallel(n_jobs=-1)]: Using backend LokyBackend with 12 concurrent workers.\n"
     ]
    },
    {
     "name": "stdout",
     "output_type": "stream",
     "text": [
      "K-Fold #6\n",
      "Mean negativities for all classes: [0.36584736224912023, 0.37237005846060833, 0.38198296134767507]\n",
      "Mean entropies for all classes: [3.21938543580869e-15, 4.048352808802653e-15, 2.7049339766779727e-15]\n",
      "              precision    recall  f1-score   support\n",
      "\n",
      "           0       0.20      0.20      0.20         5\n",
      "           1       0.00      0.00      0.00         5\n",
      "           2       0.00      0.00      0.00         5\n",
      "\n",
      "    accuracy                           0.07        15\n",
      "   macro avg       0.07      0.07      0.07        15\n",
      "weighted avg       0.07      0.07      0.07        15\n",
      "\n",
      "-------------------------------------------------------------------------------------------------------------------\n"
     ]
    },
    {
     "name": "stderr",
     "output_type": "stream",
     "text": [
      "[Parallel(n_jobs=-1)]: Done   3 out of   3 | elapsed:  1.2min finished\n",
      "[Parallel(n_jobs=-1)]: Using backend LokyBackend with 12 concurrent workers.\n"
     ]
    },
    {
     "name": "stdout",
     "output_type": "stream",
     "text": [
      "K-Fold #7\n",
      "Mean negativities for all classes: [0.37160473173503905, 0.376771781392646, 0.3757469915362735]\n",
      "Mean entropies for all classes: [2.9858976539099338e-15, 3.919000802569236e-15, 3.6462364863559e-15]\n",
      "              precision    recall  f1-score   support\n",
      "\n",
      "           0       0.40      0.40      0.40         5\n",
      "           1       0.11      0.20      0.14         5\n",
      "           2       0.00      0.00      0.00         5\n",
      "\n",
      "    accuracy                           0.20        15\n",
      "   macro avg       0.17      0.20      0.18        15\n",
      "weighted avg       0.17      0.20      0.18        15\n",
      "\n",
      "-------------------------------------------------------------------------------------------------------------------\n"
     ]
    },
    {
     "name": "stderr",
     "output_type": "stream",
     "text": [
      "[Parallel(n_jobs=-1)]: Done   3 out of   3 | elapsed:  1.2min finished\n",
      "[Parallel(n_jobs=-1)]: Using backend LokyBackend with 12 concurrent workers.\n"
     ]
    },
    {
     "name": "stdout",
     "output_type": "stream",
     "text": [
      "K-Fold #8\n",
      "Mean negativities for all classes: [0.37014722962926616, 0.38418859855479265, 0.3860638451940297]\n",
      "Mean entropies for all classes: [3.336053236751458e-15, 3.952174439435817e-15, 3.6506325170181376e-15]\n",
      "              precision    recall  f1-score   support\n",
      "\n",
      "           0       0.38      0.60      0.46         5\n",
      "           1       0.33      0.40      0.36         5\n",
      "           2       1.00      0.20      0.33         5\n",
      "\n",
      "    accuracy                           0.40        15\n",
      "   macro avg       0.57      0.40      0.39        15\n",
      "weighted avg       0.57      0.40      0.39        15\n",
      "\n",
      "-------------------------------------------------------------------------------------------------------------------\n"
     ]
    },
    {
     "name": "stderr",
     "output_type": "stream",
     "text": [
      "[Parallel(n_jobs=-1)]: Done   3 out of   3 | elapsed:  1.2min finished\n",
      "[Parallel(n_jobs=-1)]: Using backend LokyBackend with 12 concurrent workers.\n"
     ]
    },
    {
     "name": "stdout",
     "output_type": "stream",
     "text": [
      "K-Fold #9\n",
      "Mean negativities for all classes: [0.36115502296377416, 0.387985753777453, 0.38215176155180836]\n",
      "Mean entropies for all classes: [3.01186245913996e-15, 4.3420502371498025e-15, 3.4688966691158457e-15]\n",
      "              precision    recall  f1-score   support\n",
      "\n",
      "           0       0.43      0.60      0.50         5\n",
      "           1       0.17      0.20      0.18         5\n",
      "           2       0.00      0.00      0.00         5\n",
      "\n",
      "    accuracy                           0.27        15\n",
      "   macro avg       0.20      0.27      0.23        15\n",
      "weighted avg       0.20      0.27      0.23        15\n",
      "\n",
      "-------------------------------------------------------------------------------------------------------------------\n",
      "AVG: Scores = 0.24666666666666667 F1-Scores = 0.23160099160099157 Negativity = [0.37775755590453614, 0.3790619284312087, 0.37470114542136645] Entropy = [3.7572165397955625e-15, 3.512675216984329e-15, 3.755256484033161e-15]\n"
     ]
    },
    {
     "name": "stderr",
     "output_type": "stream",
     "text": [
      "[Parallel(n_jobs=-1)]: Done   3 out of   3 | elapsed:  1.2min finished\n",
      "c:\\ProgramData\\Anaconda3\\lib\\site-packages\\sklearn\\metrics\\_classification.py:1344: UndefinedMetricWarning: Precision and F-score are ill-defined and being set to 0.0 in labels with no predicted samples. Use `zero_division` parameter to control this behavior.\n",
      "  _warn_prf(average, modifier, msg_start, len(result))\n",
      "c:\\ProgramData\\Anaconda3\\lib\\site-packages\\sklearn\\metrics\\_classification.py:1344: UndefinedMetricWarning: Precision and F-score are ill-defined and being set to 0.0 in labels with no predicted samples. Use `zero_division` parameter to control this behavior.\n",
      "  _warn_prf(average, modifier, msg_start, len(result))\n",
      "c:\\ProgramData\\Anaconda3\\lib\\site-packages\\sklearn\\metrics\\_classification.py:1344: UndefinedMetricWarning: Precision and F-score are ill-defined and being set to 0.0 in labels with no predicted samples. Use `zero_division` parameter to control this behavior.\n",
      "  _warn_prf(average, modifier, msg_start, len(result))\n",
      "[Parallel(n_jobs=-1)]: Using backend LokyBackend with 12 concurrent workers.\n"
     ]
    },
    {
     "name": "stdout",
     "output_type": "stream",
     "text": [
      "K-Fold #0\n",
      "Mean negativities for all classes: [0.3685006929542655, 0.378874835977267, 0.38481126362219853]\n",
      "Mean entropies for all classes: [3.7145239504196846e-15, 3.7023267623336645e-15, 3.572526608130718e-15]\n",
      "              precision    recall  f1-score   support\n",
      "\n",
      "           0       0.50      0.40      0.44         5\n",
      "           1       0.27      0.60      0.37         5\n",
      "           2       0.00      0.00      0.00         5\n",
      "\n",
      "    accuracy                           0.33        15\n",
      "   macro avg       0.26      0.33      0.27        15\n",
      "weighted avg       0.26      0.33      0.27        15\n",
      "\n",
      "-------------------------------------------------------------------------------------------------------------------\n"
     ]
    },
    {
     "name": "stderr",
     "output_type": "stream",
     "text": [
      "[Parallel(n_jobs=-1)]: Done   3 out of   3 | elapsed:  1.2min finished\n",
      "[Parallel(n_jobs=-1)]: Using backend LokyBackend with 12 concurrent workers.\n"
     ]
    },
    {
     "name": "stdout",
     "output_type": "stream",
     "text": [
      "K-Fold #1\n",
      "Mean negativities for all classes: [0.36687132166843234, 0.3820134063940144, 0.38013016834958807]\n",
      "Mean entropies for all classes: [3.5191221328059876e-15, 4.3900666947013804e-15, 3.211675151552862e-15]\n",
      "              precision    recall  f1-score   support\n",
      "\n",
      "           0       0.25      0.20      0.22         5\n",
      "           1       0.00      0.00      0.00         5\n",
      "           2       0.00      0.00      0.00         5\n",
      "\n",
      "    accuracy                           0.07        15\n",
      "   macro avg       0.08      0.07      0.07        15\n",
      "weighted avg       0.08      0.07      0.07        15\n",
      "\n",
      "-------------------------------------------------------------------------------------------------------------------\n"
     ]
    },
    {
     "name": "stderr",
     "output_type": "stream",
     "text": [
      "[Parallel(n_jobs=-1)]: Done   3 out of   3 | elapsed:  1.2min finished\n",
      "c:\\ProgramData\\Anaconda3\\lib\\site-packages\\sklearn\\metrics\\_classification.py:1344: UndefinedMetricWarning: Precision and F-score are ill-defined and being set to 0.0 in labels with no predicted samples. Use `zero_division` parameter to control this behavior.\n",
      "  _warn_prf(average, modifier, msg_start, len(result))\n",
      "c:\\ProgramData\\Anaconda3\\lib\\site-packages\\sklearn\\metrics\\_classification.py:1344: UndefinedMetricWarning: Precision and F-score are ill-defined and being set to 0.0 in labels with no predicted samples. Use `zero_division` parameter to control this behavior.\n",
      "  _warn_prf(average, modifier, msg_start, len(result))\n",
      "c:\\ProgramData\\Anaconda3\\lib\\site-packages\\sklearn\\metrics\\_classification.py:1344: UndefinedMetricWarning: Precision and F-score are ill-defined and being set to 0.0 in labels with no predicted samples. Use `zero_division` parameter to control this behavior.\n",
      "  _warn_prf(average, modifier, msg_start, len(result))\n",
      "[Parallel(n_jobs=-1)]: Using backend LokyBackend with 12 concurrent workers.\n"
     ]
    },
    {
     "name": "stdout",
     "output_type": "stream",
     "text": [
      "K-Fold #2\n",
      "Mean negativities for all classes: [0.36871163281718194, 0.3897652352596866, 0.16551566628822922]\n",
      "Mean entropies for all classes: [3.243711241002901e-15, 3.632117687945263e-15, 4.3846453597647885e-15]\n",
      "              precision    recall  f1-score   support\n",
      "\n",
      "           0       1.00      0.20      0.33         5\n",
      "           1       0.00      0.00      0.00         5\n",
      "           2       0.36      1.00      0.53         5\n",
      "\n",
      "    accuracy                           0.40        15\n",
      "   macro avg       0.45      0.40      0.29        15\n",
      "weighted avg       0.45      0.40      0.29        15\n",
      "\n",
      "-------------------------------------------------------------------------------------------------------------------\n"
     ]
    },
    {
     "name": "stderr",
     "output_type": "stream",
     "text": [
      "[Parallel(n_jobs=-1)]: Done   3 out of   3 | elapsed:  1.2min finished\n",
      "c:\\ProgramData\\Anaconda3\\lib\\site-packages\\sklearn\\metrics\\_classification.py:1344: UndefinedMetricWarning: Precision and F-score are ill-defined and being set to 0.0 in labels with no predicted samples. Use `zero_division` parameter to control this behavior.\n",
      "  _warn_prf(average, modifier, msg_start, len(result))\n",
      "c:\\ProgramData\\Anaconda3\\lib\\site-packages\\sklearn\\metrics\\_classification.py:1344: UndefinedMetricWarning: Precision and F-score are ill-defined and being set to 0.0 in labels with no predicted samples. Use `zero_division` parameter to control this behavior.\n",
      "  _warn_prf(average, modifier, msg_start, len(result))\n",
      "c:\\ProgramData\\Anaconda3\\lib\\site-packages\\sklearn\\metrics\\_classification.py:1344: UndefinedMetricWarning: Precision and F-score are ill-defined and being set to 0.0 in labels with no predicted samples. Use `zero_division` parameter to control this behavior.\n",
      "  _warn_prf(average, modifier, msg_start, len(result))\n",
      "[Parallel(n_jobs=-1)]: Using backend LokyBackend with 12 concurrent workers.\n"
     ]
    },
    {
     "name": "stdout",
     "output_type": "stream",
     "text": [
      "K-Fold #3\n",
      "Mean negativities for all classes: [0.3630809301733601, 0.38082574426989996, 0.38551366702466655]\n",
      "Mean entropies for all classes: [2.9356554043604737e-15, 3.3091635669738713e-15, 3.0697431433207596e-15]\n",
      "              precision    recall  f1-score   support\n",
      "\n",
      "           0       0.29      0.40      0.33         5\n",
      "           1       0.12      0.20      0.15         5\n",
      "           2       0.00      0.00      0.00         5\n",
      "\n",
      "    accuracy                           0.20        15\n",
      "   macro avg       0.14      0.20      0.16        15\n",
      "weighted avg       0.14      0.20      0.16        15\n",
      "\n",
      "-------------------------------------------------------------------------------------------------------------------\n"
     ]
    },
    {
     "name": "stderr",
     "output_type": "stream",
     "text": [
      "[Parallel(n_jobs=-1)]: Done   3 out of   3 | elapsed:  1.2min finished\n",
      "[Parallel(n_jobs=-1)]: Using backend LokyBackend with 12 concurrent workers.\n"
     ]
    },
    {
     "name": "stdout",
     "output_type": "stream",
     "text": [
      "K-Fold #4\n",
      "Mean negativities for all classes: [0.37570509547089326, 0.38270953420959003, 0.3763268090645068]\n",
      "Mean entropies for all classes: [3.5186022984511544e-15, 4.5641746842587115e-15, 3.926776212013713e-15]\n",
      "              precision    recall  f1-score   support\n",
      "\n",
      "           0       0.67      0.40      0.50         5\n",
      "           1       0.22      0.40      0.29         5\n",
      "           2       0.33      0.20      0.25         5\n",
      "\n",
      "    accuracy                           0.33        15\n",
      "   macro avg       0.41      0.33      0.35        15\n",
      "weighted avg       0.41      0.33      0.35        15\n",
      "\n",
      "-------------------------------------------------------------------------------------------------------------------\n"
     ]
    },
    {
     "name": "stderr",
     "output_type": "stream",
     "text": [
      "[Parallel(n_jobs=-1)]: Done   3 out of   3 | elapsed:  1.2min finished\n",
      "[Parallel(n_jobs=-1)]: Using backend LokyBackend with 12 concurrent workers.\n"
     ]
    },
    {
     "name": "stdout",
     "output_type": "stream",
     "text": [
      "K-Fold #5\n",
      "Mean negativities for all classes: [0.36384885626658686, 0.3767115993852011, 0.3734024119917217]\n",
      "Mean entropies for all classes: [3.420925523270478e-15, 3.816824809973132e-15, 2.74575195501183e-15]\n",
      "              precision    recall  f1-score   support\n",
      "\n",
      "           0       0.75      0.60      0.67         5\n",
      "           1       0.44      0.80      0.57         5\n",
      "           2       0.50      0.20      0.29         5\n",
      "\n",
      "    accuracy                           0.53        15\n",
      "   macro avg       0.56      0.53      0.51        15\n",
      "weighted avg       0.56      0.53      0.51        15\n",
      "\n",
      "-------------------------------------------------------------------------------------------------------------------\n"
     ]
    },
    {
     "name": "stderr",
     "output_type": "stream",
     "text": [
      "[Parallel(n_jobs=-1)]: Done   3 out of   3 | elapsed:  1.2min finished\n",
      "[Parallel(n_jobs=-1)]: Using backend LokyBackend with 12 concurrent workers.\n"
     ]
    },
    {
     "name": "stdout",
     "output_type": "stream",
     "text": [
      "K-Fold #6\n",
      "Mean negativities for all classes: [0.36782320577618777, 0.3879463923090635, 0.3851839901327469]\n",
      "Mean entropies for all classes: [3.016160638152463e-15, 3.2094161977696345e-15, 3.6009212649065925e-15]\n",
      "              precision    recall  f1-score   support\n",
      "\n",
      "           0       0.38      0.60      0.46         5\n",
      "           1       0.17      0.20      0.18         5\n",
      "           2       0.00      0.00      0.00         5\n",
      "\n",
      "    accuracy                           0.27        15\n",
      "   macro avg       0.18      0.27      0.21        15\n",
      "weighted avg       0.18      0.27      0.21        15\n",
      "\n",
      "-------------------------------------------------------------------------------------------------------------------\n"
     ]
    },
    {
     "name": "stderr",
     "output_type": "stream",
     "text": [
      "[Parallel(n_jobs=-1)]: Done   3 out of   3 | elapsed:  1.2min finished\n",
      "[Parallel(n_jobs=-1)]: Using backend LokyBackend with 12 concurrent workers.\n"
     ]
    },
    {
     "name": "stdout",
     "output_type": "stream",
     "text": [
      "K-Fold #7\n",
      "Mean negativities for all classes: [0.35811704691619956, 0.3760293783772143, 0.3861025457891094]\n",
      "Mean entropies for all classes: [4.2052986317621356e-15, 3.5131673656764825e-15, 3.876231161902546e-15]\n",
      "              precision    recall  f1-score   support\n",
      "\n",
      "           0       0.40      0.40      0.40         5\n",
      "           1       0.22      0.40      0.29         5\n",
      "           2       0.00      0.00      0.00         5\n",
      "\n",
      "    accuracy                           0.27        15\n",
      "   macro avg       0.21      0.27      0.23        15\n",
      "weighted avg       0.21      0.27      0.23        15\n",
      "\n",
      "-------------------------------------------------------------------------------------------------------------------\n"
     ]
    },
    {
     "name": "stderr",
     "output_type": "stream",
     "text": [
      "[Parallel(n_jobs=-1)]: Done   3 out of   3 | elapsed:  1.2min finished\n",
      "[Parallel(n_jobs=-1)]: Using backend LokyBackend with 12 concurrent workers.\n"
     ]
    },
    {
     "name": "stdout",
     "output_type": "stream",
     "text": [
      "K-Fold #8\n",
      "Mean negativities for all classes: [0.3651611912759616, 0.38062906088597187, 0.3731555601477229]\n",
      "Mean entropies for all classes: [3.329597935062422e-15, 3.975286659339767e-15, 3.921963447493905e-15]\n",
      "              precision    recall  f1-score   support\n",
      "\n",
      "           0       0.38      0.60      0.46         5\n",
      "           1       0.33      0.40      0.36         5\n",
      "           2       0.00      0.00      0.00         5\n",
      "\n",
      "    accuracy                           0.33        15\n",
      "   macro avg       0.24      0.33      0.28        15\n",
      "weighted avg       0.24      0.33      0.28        15\n",
      "\n",
      "-------------------------------------------------------------------------------------------------------------------\n"
     ]
    },
    {
     "name": "stderr",
     "output_type": "stream",
     "text": [
      "[Parallel(n_jobs=-1)]: Done   3 out of   3 | elapsed:  1.2min finished\n",
      "[Parallel(n_jobs=-1)]: Using backend LokyBackend with 12 concurrent workers.\n"
     ]
    },
    {
     "name": "stdout",
     "output_type": "stream",
     "text": [
      "K-Fold #9\n",
      "Mean negativities for all classes: [0.36845552870018744, 0.3815451627854323, 0.3802883728208492]\n",
      "Mean entropies for all classes: [3.978679545912727e-15, 4.04314644381894e-15, 3.7227023967713216e-15]\n",
      "              precision    recall  f1-score   support\n",
      "\n",
      "           0       0.20      0.20      0.20         5\n",
      "           1       0.00      0.00      0.00         5\n",
      "           2       0.00      0.00      0.00         5\n",
      "\n",
      "    accuracy                           0.07        15\n",
      "   macro avg       0.07      0.07      0.07        15\n",
      "weighted avg       0.07      0.07      0.07        15\n",
      "\n",
      "-------------------------------------------------------------------------------------------------------------------\n",
      "AVG: Scores = 0.28 F1-Scores = 0.24340882801409114 Negativity = [0.37739559751791035, 0.3763382988040116, 0.30799751145503257] Entropy = [3.6631257736280226e-15, 3.706954659686743e-15, 3.753491429570984e-15]\n"
     ]
    },
    {
     "name": "stderr",
     "output_type": "stream",
     "text": [
      "[Parallel(n_jobs=-1)]: Done   3 out of   3 | elapsed:  1.2min finished\n",
      "[Parallel(n_jobs=-1)]: Using backend LokyBackend with 12 concurrent workers.\n"
     ]
    },
    {
     "name": "stdout",
     "output_type": "stream",
     "text": [
      "K-Fold #0\n",
      "Mean negativities for all classes: [0.36135634838840625, 0.38108906046989854, 0.38638045381309705]\n",
      "Mean entropies for all classes: [3.1761378499969483e-15, 3.994701008267149e-15, 3.4545557561858755e-15]\n",
      "              precision    recall  f1-score   support\n",
      "\n",
      "           0       0.50      0.60      0.55         5\n",
      "           1       0.25      0.40      0.31         5\n",
      "           2       0.00      0.00      0.00         5\n",
      "\n",
      "    accuracy                           0.33        15\n",
      "   macro avg       0.25      0.33      0.28        15\n",
      "weighted avg       0.25      0.33      0.28        15\n",
      "\n",
      "-------------------------------------------------------------------------------------------------------------------\n"
     ]
    },
    {
     "name": "stderr",
     "output_type": "stream",
     "text": [
      "[Parallel(n_jobs=-1)]: Done   3 out of   3 | elapsed:  1.2min finished\n",
      "[Parallel(n_jobs=-1)]: Using backend LokyBackend with 12 concurrent workers.\n"
     ]
    },
    {
     "name": "stdout",
     "output_type": "stream",
     "text": [
      "K-Fold #1\n",
      "Mean negativities for all classes: [0.36858721868348193, 0.39184286581847355, 0.3729200533479217]\n",
      "Mean entropies for all classes: [3.666034199412231e-15, 3.876429897398166e-15, 3.732078560935418e-15]\n",
      "              precision    recall  f1-score   support\n",
      "\n",
      "           0       0.60      0.60      0.60         5\n",
      "           1       0.00      0.00      0.00         5\n",
      "           2       0.00      0.00      0.00         5\n",
      "\n",
      "    accuracy                           0.20        15\n",
      "   macro avg       0.20      0.20      0.20        15\n",
      "weighted avg       0.20      0.20      0.20        15\n",
      "\n",
      "-------------------------------------------------------------------------------------------------------------------\n"
     ]
    },
    {
     "name": "stderr",
     "output_type": "stream",
     "text": [
      "[Parallel(n_jobs=-1)]: Done   3 out of   3 | elapsed:  1.2min finished\n",
      "c:\\ProgramData\\Anaconda3\\lib\\site-packages\\sklearn\\metrics\\_classification.py:1344: UndefinedMetricWarning: Precision and F-score are ill-defined and being set to 0.0 in labels with no predicted samples. Use `zero_division` parameter to control this behavior.\n",
      "  _warn_prf(average, modifier, msg_start, len(result))\n",
      "c:\\ProgramData\\Anaconda3\\lib\\site-packages\\sklearn\\metrics\\_classification.py:1344: UndefinedMetricWarning: Precision and F-score are ill-defined and being set to 0.0 in labels with no predicted samples. Use `zero_division` parameter to control this behavior.\n",
      "  _warn_prf(average, modifier, msg_start, len(result))\n",
      "c:\\ProgramData\\Anaconda3\\lib\\site-packages\\sklearn\\metrics\\_classification.py:1344: UndefinedMetricWarning: Precision and F-score are ill-defined and being set to 0.0 in labels with no predicted samples. Use `zero_division` parameter to control this behavior.\n",
      "  _warn_prf(average, modifier, msg_start, len(result))\n",
      "[Parallel(n_jobs=-1)]: Using backend LokyBackend with 12 concurrent workers.\n"
     ]
    },
    {
     "name": "stdout",
     "output_type": "stream",
     "text": [
      "K-Fold #2\n",
      "Mean negativities for all classes: [0.3728446108313411, 0.38787747725155747, 0.3824329857004504]\n",
      "Mean entropies for all classes: [3.1425939612913343e-15, 3.4466545326831834e-15, 3.4754358028499847e-15]\n",
      "              precision    recall  f1-score   support\n",
      "\n",
      "           0       0.43      0.60      0.50         5\n",
      "           1       0.25      0.40      0.31         5\n",
      "           2       0.00      0.00      0.00         5\n",
      "\n",
      "    accuracy                           0.33        15\n",
      "   macro avg       0.23      0.33      0.27        15\n",
      "weighted avg       0.23      0.33      0.27        15\n",
      "\n",
      "-------------------------------------------------------------------------------------------------------------------\n"
     ]
    },
    {
     "name": "stderr",
     "output_type": "stream",
     "text": [
      "[Parallel(n_jobs=-1)]: Done   3 out of   3 | elapsed:  1.2min finished\n",
      "[Parallel(n_jobs=-1)]: Using backend LokyBackend with 12 concurrent workers.\n"
     ]
    },
    {
     "name": "stdout",
     "output_type": "stream",
     "text": [
      "K-Fold #3\n",
      "Mean negativities for all classes: [0.3585740786158654, 0.38221208096454695, 0.38166703613614605]\n",
      "Mean entropies for all classes: [3.933702023472489e-15, 3.8672066829887784e-15, 3.6284609266087466e-15]\n",
      "              precision    recall  f1-score   support\n",
      "\n",
      "           0       0.60      0.60      0.60         5\n",
      "           1       0.12      0.20      0.15         5\n",
      "           2       0.00      0.00      0.00         5\n",
      "\n",
      "    accuracy                           0.27        15\n",
      "   macro avg       0.24      0.27      0.25        15\n",
      "weighted avg       0.24      0.27      0.25        15\n",
      "\n",
      "-------------------------------------------------------------------------------------------------------------------\n"
     ]
    },
    {
     "name": "stderr",
     "output_type": "stream",
     "text": [
      "[Parallel(n_jobs=-1)]: Done   3 out of   3 | elapsed:  1.2min finished\n",
      "[Parallel(n_jobs=-1)]: Using backend LokyBackend with 12 concurrent workers.\n"
     ]
    },
    {
     "name": "stdout",
     "output_type": "stream",
     "text": [
      "K-Fold #4\n",
      "Mean negativities for all classes: [0.35847567490487187, 0.38585116489452836, 0.3745276371834855]\n",
      "Mean entropies for all classes: [3.7428422503000396e-15, 3.956143347465915e-15, 2.7563107133767127e-15]\n",
      "              precision    recall  f1-score   support\n",
      "\n",
      "           0       0.43      0.60      0.50         5\n",
      "           1       0.17      0.20      0.18         5\n",
      "           2       0.50      0.20      0.29         5\n",
      "\n",
      "    accuracy                           0.33        15\n",
      "   macro avg       0.37      0.33      0.32        15\n",
      "weighted avg       0.37      0.33      0.32        15\n",
      "\n",
      "-------------------------------------------------------------------------------------------------------------------\n"
     ]
    },
    {
     "name": "stderr",
     "output_type": "stream",
     "text": [
      "[Parallel(n_jobs=-1)]: Done   3 out of   3 | elapsed:  1.2min finished\n",
      "[Parallel(n_jobs=-1)]: Using backend LokyBackend with 12 concurrent workers.\n"
     ]
    },
    {
     "name": "stdout",
     "output_type": "stream",
     "text": [
      "K-Fold #5\n",
      "Mean negativities for all classes: [0.3767633935657779, 0.3745358908722101, 0.3821258176524449]\n",
      "Mean entropies for all classes: [4.1513356515603615e-15, 4.580789915909175e-15, 3.957917658734072e-15]\n",
      "              precision    recall  f1-score   support\n",
      "\n",
      "           0       0.33      0.20      0.25         5\n",
      "           1       0.20      0.40      0.27         5\n",
      "           2       0.50      0.20      0.29         5\n",
      "\n",
      "    accuracy                           0.27        15\n",
      "   macro avg       0.34      0.27      0.27        15\n",
      "weighted avg       0.34      0.27      0.27        15\n",
      "\n",
      "-------------------------------------------------------------------------------------------------------------------\n"
     ]
    },
    {
     "name": "stderr",
     "output_type": "stream",
     "text": [
      "[Parallel(n_jobs=-1)]: Done   3 out of   3 | elapsed:  1.2min finished\n",
      "[Parallel(n_jobs=-1)]: Using backend LokyBackend with 12 concurrent workers.\n"
     ]
    },
    {
     "name": "stdout",
     "output_type": "stream",
     "text": [
      "K-Fold #6\n",
      "Mean negativities for all classes: [0.3702712376101449, 0.377601431754156, 0.3895101203238322]\n",
      "Mean entropies for all classes: [3.1190938352110227e-15, 4.434183916686248e-15, 3.471708348400625e-15]\n",
      "              precision    recall  f1-score   support\n",
      "\n",
      "           0       0.33      0.40      0.36         5\n",
      "           1       0.38      0.60      0.46         5\n",
      "           2       1.00      0.20      0.33         5\n",
      "\n",
      "    accuracy                           0.40        15\n",
      "   macro avg       0.57      0.40      0.39        15\n",
      "weighted avg       0.57      0.40      0.39        15\n",
      "\n",
      "-------------------------------------------------------------------------------------------------------------------\n"
     ]
    },
    {
     "name": "stderr",
     "output_type": "stream",
     "text": [
      "[Parallel(n_jobs=-1)]: Done   3 out of   3 | elapsed:  1.2min finished\n",
      "[Parallel(n_jobs=-1)]: Using backend LokyBackend with 12 concurrent workers.\n"
     ]
    },
    {
     "name": "stdout",
     "output_type": "stream",
     "text": [
      "K-Fold #7\n",
      "Mean negativities for all classes: [0.36387451327238624, 0.3765826118112143, 0.37888625130280057]\n",
      "Mean entropies for all classes: [3.40569992579688e-15, 4.153970907885895e-15, 3.0733674564563774e-15]\n",
      "              precision    recall  f1-score   support\n",
      "\n",
      "           0       0.20      0.20      0.20         5\n",
      "           1       0.12      0.20      0.15         5\n",
      "           2       0.50      0.20      0.29         5\n",
      "\n",
      "    accuracy                           0.20        15\n",
      "   macro avg       0.27      0.20      0.21        15\n",
      "weighted avg       0.28      0.20      0.21        15\n",
      "\n",
      "-------------------------------------------------------------------------------------------------------------------\n"
     ]
    },
    {
     "name": "stderr",
     "output_type": "stream",
     "text": [
      "[Parallel(n_jobs=-1)]: Done   3 out of   3 | elapsed:  1.2min finished\n",
      "[Parallel(n_jobs=-1)]: Using backend LokyBackend with 12 concurrent workers.\n"
     ]
    },
    {
     "name": "stdout",
     "output_type": "stream",
     "text": [
      "K-Fold #8\n",
      "Mean negativities for all classes: [0.36607200811342405, 0.38806112696961714, 0.3821168787581661]\n",
      "Mean entropies for all classes: [2.9509354395077376e-15, 3.87795487231681e-15, 2.8703456212532682e-15]\n",
      "              precision    recall  f1-score   support\n",
      "\n",
      "           0       0.40      0.40      0.40         5\n",
      "           1       0.00      0.00      0.00         5\n",
      "           2       0.00      0.00      0.00         5\n",
      "\n",
      "    accuracy                           0.13        15\n",
      "   macro avg       0.13      0.13      0.13        15\n",
      "weighted avg       0.13      0.13      0.13        15\n",
      "\n",
      "-------------------------------------------------------------------------------------------------------------------\n"
     ]
    },
    {
     "name": "stderr",
     "output_type": "stream",
     "text": [
      "[Parallel(n_jobs=-1)]: Done   3 out of   3 | elapsed:  1.2min finished\n",
      "[Parallel(n_jobs=-1)]: Using backend LokyBackend with 12 concurrent workers.\n"
     ]
    },
    {
     "name": "stdout",
     "output_type": "stream",
     "text": [
      "K-Fold #9\n",
      "Mean negativities for all classes: [0.3638247007948557, 0.3767298455481342, 0.38044549561367647]\n",
      "Mean entropies for all classes: [2.869984916725141e-15, 3.5096287149345782e-15, 3.122472102442983e-15]\n",
      "              precision    recall  f1-score   support\n",
      "\n",
      "           0       0.33      0.40      0.36         5\n",
      "           1       0.14      0.20      0.17         5\n",
      "           2       0.00      0.00      0.00         5\n",
      "\n",
      "    accuracy                           0.20        15\n",
      "   macro avg       0.16      0.20      0.18        15\n",
      "weighted avg       0.16      0.20      0.18        15\n",
      "\n",
      "-------------------------------------------------------------------------------------------------------------------\n",
      "AVG: Scores = 0.2666666666666667 F1-Scores = 0.2504323454323455 Negativity = [0.37627528755713396, 0.37778337928329236, 0.3810516912611163] Entropy = [3.5417982048166577e-15, 3.758180885915272e-15, 3.3548947656081675e-15]\n"
     ]
    },
    {
     "name": "stderr",
     "output_type": "stream",
     "text": [
      "[Parallel(n_jobs=-1)]: Done   3 out of   3 | elapsed:  1.2min finished\n",
      "[Parallel(n_jobs=-1)]: Using backend LokyBackend with 12 concurrent workers.\n"
     ]
    },
    {
     "name": "stdout",
     "output_type": "stream",
     "text": [
      "K-Fold #0\n",
      "Mean negativities for all classes: [0.37337346841436114, 0.3854971956743858, 0.3747103226474829]\n",
      "Mean entropies for all classes: [3.5138787791525804e-15, 4.1014734833934194e-15, 3.2116374845419317e-15]\n",
      "              precision    recall  f1-score   support\n",
      "\n",
      "           0       0.40      0.40      0.40         5\n",
      "           1       0.17      0.20      0.18         5\n",
      "           2       0.50      0.40      0.44         5\n",
      "\n",
      "    accuracy                           0.33        15\n",
      "   macro avg       0.36      0.33      0.34        15\n",
      "weighted avg       0.36      0.33      0.34        15\n",
      "\n",
      "-------------------------------------------------------------------------------------------------------------------\n"
     ]
    },
    {
     "name": "stderr",
     "output_type": "stream",
     "text": [
      "[Parallel(n_jobs=-1)]: Done   3 out of   3 | elapsed:  1.2min finished\n",
      "[Parallel(n_jobs=-1)]: Using backend LokyBackend with 12 concurrent workers.\n"
     ]
    },
    {
     "name": "stdout",
     "output_type": "stream",
     "text": [
      "K-Fold #1\n",
      "Mean negativities for all classes: [0.3682116140036663, 0.38272581049142046, 0.38374335625406464]\n",
      "Mean entropies for all classes: [2.788062020374119e-15, 3.0807620133226668e-15, 3.265846269926054e-15]\n",
      "              precision    recall  f1-score   support\n",
      "\n",
      "           0       0.25      0.20      0.22         5\n",
      "           1       0.30      0.60      0.40         5\n",
      "           2       0.00      0.00      0.00         5\n",
      "\n",
      "    accuracy                           0.27        15\n",
      "   macro avg       0.18      0.27      0.21        15\n",
      "weighted avg       0.18      0.27      0.21        15\n",
      "\n",
      "-------------------------------------------------------------------------------------------------------------------\n"
     ]
    },
    {
     "name": "stderr",
     "output_type": "stream",
     "text": [
      "[Parallel(n_jobs=-1)]: Done   3 out of   3 | elapsed:  1.2min finished\n",
      "[Parallel(n_jobs=-1)]: Using backend LokyBackend with 12 concurrent workers.\n"
     ]
    },
    {
     "name": "stdout",
     "output_type": "stream",
     "text": [
      "K-Fold #2\n",
      "Mean negativities for all classes: [0.36799798418031743, 0.3624649682045637, 0.38220765262130996]\n",
      "Mean entropies for all classes: [3.279755489819064e-15, 3.607825038852488e-15, 3.2414950418610176e-15]\n",
      "              precision    recall  f1-score   support\n",
      "\n",
      "           0       0.33      0.40      0.36         5\n",
      "           1       0.00      0.00      0.00         5\n",
      "           2       0.00      0.00      0.00         5\n",
      "\n",
      "    accuracy                           0.13        15\n",
      "   macro avg       0.11      0.13      0.12        15\n",
      "weighted avg       0.11      0.13      0.12        15\n",
      "\n",
      "-------------------------------------------------------------------------------------------------------------------\n"
     ]
    },
    {
     "name": "stderr",
     "output_type": "stream",
     "text": [
      "[Parallel(n_jobs=-1)]: Done   3 out of   3 | elapsed:  1.2min finished\n",
      "[Parallel(n_jobs=-1)]: Using backend LokyBackend with 12 concurrent workers.\n"
     ]
    },
    {
     "name": "stdout",
     "output_type": "stream",
     "text": [
      "K-Fold #3\n",
      "Mean negativities for all classes: [0.37173829513232376, 0.38311520497821483, 0.3747746206411466]\n",
      "Mean entropies for all classes: [3.3034431968509005e-15, 4.736161407101947e-15, 3.4624368067589978e-15]\n",
      "              precision    recall  f1-score   support\n",
      "\n",
      "           0       0.25      0.20      0.22         5\n",
      "           1       0.22      0.40      0.29         5\n",
      "           2       0.00      0.00      0.00         5\n",
      "\n",
      "    accuracy                           0.20        15\n",
      "   macro avg       0.16      0.20      0.17        15\n",
      "weighted avg       0.16      0.20      0.17        15\n",
      "\n",
      "-------------------------------------------------------------------------------------------------------------------\n"
     ]
    },
    {
     "name": "stderr",
     "output_type": "stream",
     "text": [
      "[Parallel(n_jobs=-1)]: Done   3 out of   3 | elapsed:  1.2min finished\n",
      "c:\\ProgramData\\Anaconda3\\lib\\site-packages\\sklearn\\metrics\\_classification.py:1344: UndefinedMetricWarning: Precision and F-score are ill-defined and being set to 0.0 in labels with no predicted samples. Use `zero_division` parameter to control this behavior.\n",
      "  _warn_prf(average, modifier, msg_start, len(result))\n",
      "c:\\ProgramData\\Anaconda3\\lib\\site-packages\\sklearn\\metrics\\_classification.py:1344: UndefinedMetricWarning: Precision and F-score are ill-defined and being set to 0.0 in labels with no predicted samples. Use `zero_division` parameter to control this behavior.\n",
      "  _warn_prf(average, modifier, msg_start, len(result))\n",
      "c:\\ProgramData\\Anaconda3\\lib\\site-packages\\sklearn\\metrics\\_classification.py:1344: UndefinedMetricWarning: Precision and F-score are ill-defined and being set to 0.0 in labels with no predicted samples. Use `zero_division` parameter to control this behavior.\n",
      "  _warn_prf(average, modifier, msg_start, len(result))\n",
      "[Parallel(n_jobs=-1)]: Using backend LokyBackend with 12 concurrent workers.\n"
     ]
    },
    {
     "name": "stdout",
     "output_type": "stream",
     "text": [
      "K-Fold #4\n",
      "Mean negativities for all classes: [0.35694313831817825, 0.3856217073986034, 0.38618443331232555]\n",
      "Mean entropies for all classes: [3.622925807184746e-15, 4.729841859041356e-15, 3.2087473134236698e-15]\n",
      "              precision    recall  f1-score   support\n",
      "\n",
      "           0       0.60      0.60      0.60         5\n",
      "           1       0.30      0.60      0.40         5\n",
      "           2       0.00      0.00      0.00         5\n",
      "\n",
      "    accuracy                           0.40        15\n",
      "   macro avg       0.30      0.40      0.33        15\n",
      "weighted avg       0.30      0.40      0.33        15\n",
      "\n",
      "-------------------------------------------------------------------------------------------------------------------\n"
     ]
    },
    {
     "name": "stderr",
     "output_type": "stream",
     "text": [
      "[Parallel(n_jobs=-1)]: Done   3 out of   3 | elapsed:  1.2min finished\n",
      "[Parallel(n_jobs=-1)]: Using backend LokyBackend with 12 concurrent workers.\n"
     ]
    },
    {
     "name": "stdout",
     "output_type": "stream",
     "text": [
      "K-Fold #5\n",
      "Mean negativities for all classes: [0.3669901992733446, 0.3854652437595979, 0.3784743318165395]\n",
      "Mean entropies for all classes: [3.269333322074853e-15, 3.680971012507802e-15, 3.688834012121161e-15]\n",
      "              precision    recall  f1-score   support\n",
      "\n",
      "           0       0.60      0.60      0.60         5\n",
      "           1       0.00      0.00      0.00         5\n",
      "           2       0.20      0.20      0.20         5\n",
      "\n",
      "    accuracy                           0.27        15\n",
      "   macro avg       0.27      0.27      0.27        15\n",
      "weighted avg       0.27      0.27      0.27        15\n",
      "\n",
      "-------------------------------------------------------------------------------------------------------------------\n"
     ]
    },
    {
     "name": "stderr",
     "output_type": "stream",
     "text": [
      "[Parallel(n_jobs=-1)]: Done   3 out of   3 | elapsed:  1.2min finished\n",
      "[Parallel(n_jobs=-1)]: Using backend LokyBackend with 12 concurrent workers.\n"
     ]
    },
    {
     "name": "stdout",
     "output_type": "stream",
     "text": [
      "K-Fold #6\n",
      "Mean negativities for all classes: [0.37269673324068875, 0.36822178933478883, 0.38426005497538424]\n",
      "Mean entropies for all classes: [3.570928677015343e-15, 3.747931774674477e-15, 3.4222503915773896e-15]\n",
      "              precision    recall  f1-score   support\n",
      "\n",
      "           0       0.25      0.20      0.22         5\n",
      "           1       0.10      0.20      0.13         5\n",
      "           2       0.00      0.00      0.00         5\n",
      "\n",
      "    accuracy                           0.13        15\n",
      "   macro avg       0.12      0.13      0.12        15\n",
      "weighted avg       0.12      0.13      0.12        15\n",
      "\n",
      "-------------------------------------------------------------------------------------------------------------------\n"
     ]
    },
    {
     "name": "stderr",
     "output_type": "stream",
     "text": [
      "[Parallel(n_jobs=-1)]: Done   3 out of   3 | elapsed:  1.2min finished\n",
      "[Parallel(n_jobs=-1)]: Using backend LokyBackend with 12 concurrent workers.\n"
     ]
    },
    {
     "name": "stdout",
     "output_type": "stream",
     "text": [
      "K-Fold #7\n",
      "Mean negativities for all classes: [0.3592213316277929, 0.3790649250304037, 0.3818448586052638]\n",
      "Mean entropies for all classes: [3.883765122029775e-15, 3.2128336467744984e-15, 3.801383513976934e-15]\n",
      "              precision    recall  f1-score   support\n",
      "\n",
      "           0       0.40      0.40      0.40         5\n",
      "           1       0.12      0.20      0.15         5\n",
      "           2       0.00      0.00      0.00         5\n",
      "\n",
      "    accuracy                           0.20        15\n",
      "   macro avg       0.18      0.20      0.18        15\n",
      "weighted avg       0.17      0.20      0.18        15\n",
      "\n",
      "-------------------------------------------------------------------------------------------------------------------\n"
     ]
    },
    {
     "name": "stderr",
     "output_type": "stream",
     "text": [
      "[Parallel(n_jobs=-1)]: Done   3 out of   3 | elapsed:  1.2min finished\n",
      "[Parallel(n_jobs=-1)]: Using backend LokyBackend with 12 concurrent workers.\n"
     ]
    },
    {
     "name": "stdout",
     "output_type": "stream",
     "text": [
      "K-Fold #8\n",
      "Mean negativities for all classes: [0.36658197417191746, 0.3763780861586843, 0.38425651730507904]\n",
      "Mean entropies for all classes: [3.743038090463101e-15, 4.046204324836862e-15, 4.133063404319108e-15]\n",
      "              precision    recall  f1-score   support\n",
      "\n",
      "           0       0.25      0.20      0.22         5\n",
      "           1       0.00      0.00      0.00         5\n",
      "           2       0.00      0.00      0.00         5\n",
      "\n",
      "    accuracy                           0.07        15\n",
      "   macro avg       0.08      0.07      0.07        15\n",
      "weighted avg       0.08      0.07      0.07        15\n",
      "\n",
      "-------------------------------------------------------------------------------------------------------------------\n"
     ]
    },
    {
     "name": "stderr",
     "output_type": "stream",
     "text": [
      "[Parallel(n_jobs=-1)]: Done   3 out of   3 | elapsed:  1.2min finished\n",
      "c:\\ProgramData\\Anaconda3\\lib\\site-packages\\sklearn\\metrics\\_classification.py:1344: UndefinedMetricWarning: Precision and F-score are ill-defined and being set to 0.0 in labels with no predicted samples. Use `zero_division` parameter to control this behavior.\n",
      "  _warn_prf(average, modifier, msg_start, len(result))\n",
      "c:\\ProgramData\\Anaconda3\\lib\\site-packages\\sklearn\\metrics\\_classification.py:1344: UndefinedMetricWarning: Precision and F-score are ill-defined and being set to 0.0 in labels with no predicted samples. Use `zero_division` parameter to control this behavior.\n",
      "  _warn_prf(average, modifier, msg_start, len(result))\n",
      "c:\\ProgramData\\Anaconda3\\lib\\site-packages\\sklearn\\metrics\\_classification.py:1344: UndefinedMetricWarning: Precision and F-score are ill-defined and being set to 0.0 in labels with no predicted samples. Use `zero_division` parameter to control this behavior.\n",
      "  _warn_prf(average, modifier, msg_start, len(result))\n",
      "[Parallel(n_jobs=-1)]: Using backend LokyBackend with 12 concurrent workers.\n"
     ]
    },
    {
     "name": "stdout",
     "output_type": "stream",
     "text": [
      "K-Fold #9\n",
      "Mean negativities for all classes: [0.3678997715571529, 0.37926456771654554, 0.38281619873519196]\n",
      "Mean entropies for all classes: [2.784416282940474e-15, 3.32380802142877e-15, 2.892168995684854e-15]\n",
      "              precision    recall  f1-score   support\n",
      "\n",
      "           0       0.17      0.20      0.18         5\n",
      "           1       0.11      0.20      0.14         5\n",
      "           2       0.00      0.00      0.00         5\n",
      "\n",
      "    accuracy                           0.13        15\n",
      "   macro avg       0.09      0.13      0.11        15\n",
      "weighted avg       0.09      0.13      0.11        15\n",
      "\n",
      "-------------------------------------------------------------------------------------------------------------------\n",
      "AVG: Scores = 0.21333333333333332 F1-Scores = 0.19254523254523256 Negativity = [0.3778603289120766, 0.3782269269163838, 0.3708902016687303] Entropy = [3.608996582362644e-15, 3.0448901012076136e-15, 3.3763585235108564e-15]\n"
     ]
    },
    {
     "name": "stderr",
     "output_type": "stream",
     "text": [
      "[Parallel(n_jobs=-1)]: Done   3 out of   3 | elapsed:  1.2min finished\n",
      "[Parallel(n_jobs=-1)]: Using backend LokyBackend with 12 concurrent workers.\n"
     ]
    },
    {
     "name": "stdout",
     "output_type": "stream",
     "text": [
      "K-Fold #0\n",
      "Mean negativities for all classes: [0.3726771046869119, 0.3808209854100759, 0.37879518669796625]\n",
      "Mean entropies for all classes: [3.93138857542313e-15, 3.496632340387405e-15, 3.0043039073521292e-15]\n",
      "              precision    recall  f1-score   support\n",
      "\n",
      "           0       0.29      0.40      0.33         5\n",
      "           1       0.00      0.00      0.00         5\n",
      "           2       0.00      0.00      0.00         5\n",
      "\n",
      "    accuracy                           0.13        15\n",
      "   macro avg       0.10      0.13      0.11        15\n",
      "weighted avg       0.10      0.13      0.11        15\n",
      "\n",
      "-------------------------------------------------------------------------------------------------------------------\n"
     ]
    },
    {
     "name": "stderr",
     "output_type": "stream",
     "text": [
      "[Parallel(n_jobs=-1)]: Done   3 out of   3 | elapsed:  1.2min finished\n",
      "[Parallel(n_jobs=-1)]: Using backend LokyBackend with 12 concurrent workers.\n"
     ]
    },
    {
     "name": "stdout",
     "output_type": "stream",
     "text": [
      "K-Fold #1\n",
      "Mean negativities for all classes: [0.370325713210158, 0.3832965723974389, 0.3781679739334985]\n",
      "Mean entropies for all classes: [3.642328716710308e-15, 3.536276219452402e-15, 3.906065986311758e-15]\n",
      "              precision    recall  f1-score   support\n",
      "\n",
      "           0       0.57      0.80      0.67         5\n",
      "           1       0.33      0.40      0.36         5\n",
      "           2       0.50      0.20      0.29         5\n",
      "\n",
      "    accuracy                           0.47        15\n",
      "   macro avg       0.47      0.47      0.44        15\n",
      "weighted avg       0.47      0.47      0.44        15\n",
      "\n",
      "-------------------------------------------------------------------------------------------------------------------\n"
     ]
    },
    {
     "name": "stderr",
     "output_type": "stream",
     "text": [
      "[Parallel(n_jobs=-1)]: Done   3 out of   3 | elapsed:  1.2min finished\n",
      "c:\\ProgramData\\Anaconda3\\lib\\site-packages\\sklearn\\metrics\\_classification.py:1344: UndefinedMetricWarning: Precision and F-score are ill-defined and being set to 0.0 in labels with no predicted samples. Use `zero_division` parameter to control this behavior.\n",
      "  _warn_prf(average, modifier, msg_start, len(result))\n",
      "c:\\ProgramData\\Anaconda3\\lib\\site-packages\\sklearn\\metrics\\_classification.py:1344: UndefinedMetricWarning: Precision and F-score are ill-defined and being set to 0.0 in labels with no predicted samples. Use `zero_division` parameter to control this behavior.\n",
      "  _warn_prf(average, modifier, msg_start, len(result))\n",
      "c:\\ProgramData\\Anaconda3\\lib\\site-packages\\sklearn\\metrics\\_classification.py:1344: UndefinedMetricWarning: Precision and F-score are ill-defined and being set to 0.0 in labels with no predicted samples. Use `zero_division` parameter to control this behavior.\n",
      "  _warn_prf(average, modifier, msg_start, len(result))\n",
      "[Parallel(n_jobs=-1)]: Using backend LokyBackend with 12 concurrent workers.\n"
     ]
    },
    {
     "name": "stdout",
     "output_type": "stream",
     "text": [
      "K-Fold #2\n",
      "Mean negativities for all classes: [0.3710883782384808, 0.37210285056508086, 0.3862169442462603]\n",
      "Mean entropies for all classes: [4.5618508269760244e-15, 3.1708563451399608e-15, 3.2474558817427015e-15]\n",
      "              precision    recall  f1-score   support\n",
      "\n",
      "           0       0.17      0.20      0.18         5\n",
      "           1       0.00      0.00      0.00         5\n",
      "           2       0.00      0.00      0.00         5\n",
      "\n",
      "    accuracy                           0.07        15\n",
      "   macro avg       0.06      0.07      0.06        15\n",
      "weighted avg       0.06      0.07      0.06        15\n",
      "\n",
      "-------------------------------------------------------------------------------------------------------------------\n"
     ]
    },
    {
     "name": "stderr",
     "output_type": "stream",
     "text": [
      "[Parallel(n_jobs=-1)]: Done   3 out of   3 | elapsed:  1.2min finished\n",
      "[Parallel(n_jobs=-1)]: Using backend LokyBackend with 12 concurrent workers.\n"
     ]
    },
    {
     "name": "stdout",
     "output_type": "stream",
     "text": [
      "K-Fold #3\n",
      "Mean negativities for all classes: [0.3692377530928333, 0.3848963125481838, 0.37806904613763237]\n",
      "Mean entropies for all classes: [3.2886431136437725e-15, 3.5892081595165325e-15, 3.873196857496956e-15]\n",
      "              precision    recall  f1-score   support\n",
      "\n",
      "           0       0.33      0.40      0.36         5\n",
      "           1       0.20      0.20      0.20         5\n",
      "           2       0.50      0.40      0.44         5\n",
      "\n",
      "    accuracy                           0.33        15\n",
      "   macro avg       0.34      0.33      0.34        15\n",
      "weighted avg       0.34      0.33      0.34        15\n",
      "\n",
      "-------------------------------------------------------------------------------------------------------------------\n"
     ]
    },
    {
     "name": "stderr",
     "output_type": "stream",
     "text": [
      "[Parallel(n_jobs=-1)]: Done   3 out of   3 | elapsed:  1.2min finished\n",
      "[Parallel(n_jobs=-1)]: Using backend LokyBackend with 12 concurrent workers.\n"
     ]
    },
    {
     "name": "stdout",
     "output_type": "stream",
     "text": [
      "K-Fold #4\n",
      "Mean negativities for all classes: [0.3710818131542101, 0.3840681257768971, 0.39194432190482764]\n",
      "Mean entropies for all classes: [3.4575708763775698e-15, 4.633747240862102e-15, 4.4392045650069254e-15]\n",
      "              precision    recall  f1-score   support\n",
      "\n",
      "           0       0.17      0.20      0.18         5\n",
      "           1       0.00      0.00      0.00         5\n",
      "           2       0.00      0.00      0.00         5\n",
      "\n",
      "    accuracy                           0.07        15\n",
      "   macro avg       0.06      0.07      0.06        15\n",
      "weighted avg       0.06      0.07      0.06        15\n",
      "\n",
      "-------------------------------------------------------------------------------------------------------------------\n"
     ]
    },
    {
     "name": "stderr",
     "output_type": "stream",
     "text": [
      "[Parallel(n_jobs=-1)]: Done   3 out of   3 | elapsed:  1.2min finished\n",
      "[Parallel(n_jobs=-1)]: Using backend LokyBackend with 12 concurrent workers.\n"
     ]
    },
    {
     "name": "stdout",
     "output_type": "stream",
     "text": [
      "K-Fold #5\n",
      "Mean negativities for all classes: [0.36864828377965303, 0.37427224412153187, 0.37711516024059644]\n",
      "Mean entropies for all classes: [3.557636509564173e-15, 3.670237569214021e-15, 3.2964700171119898e-15]\n",
      "              precision    recall  f1-score   support\n",
      "\n",
      "           0       0.67      0.40      0.50         5\n",
      "           1       0.36      0.80      0.50         5\n",
      "           2       0.00      0.00      0.00         5\n",
      "\n",
      "    accuracy                           0.40        15\n",
      "   macro avg       0.34      0.40      0.33        15\n",
      "weighted avg       0.34      0.40      0.33        15\n",
      "\n",
      "-------------------------------------------------------------------------------------------------------------------\n"
     ]
    },
    {
     "name": "stderr",
     "output_type": "stream",
     "text": [
      "[Parallel(n_jobs=-1)]: Done   3 out of   3 | elapsed:  1.2min finished\n",
      "[Parallel(n_jobs=-1)]: Using backend LokyBackend with 12 concurrent workers.\n"
     ]
    },
    {
     "name": "stdout",
     "output_type": "stream",
     "text": [
      "K-Fold #6\n",
      "Mean negativities for all classes: [0.3647892318578422, 0.39048741070914533, 0.3757317268188656]\n",
      "Mean entropies for all classes: [3.479953773918215e-15, 4.0885261886042606e-15, 3.9501476354700516e-15]\n",
      "              precision    recall  f1-score   support\n",
      "\n",
      "           0       0.44      0.80      0.57         5\n",
      "           1       0.20      0.20      0.20         5\n",
      "           2       1.00      0.20      0.33         5\n",
      "\n",
      "    accuracy                           0.40        15\n",
      "   macro avg       0.55      0.40      0.37        15\n",
      "weighted avg       0.55      0.40      0.37        15\n",
      "\n",
      "-------------------------------------------------------------------------------------------------------------------\n"
     ]
    },
    {
     "name": "stderr",
     "output_type": "stream",
     "text": [
      "[Parallel(n_jobs=-1)]: Done   3 out of   3 | elapsed:  1.2min finished\n",
      "[Parallel(n_jobs=-1)]: Using backend LokyBackend with 12 concurrent workers.\n"
     ]
    },
    {
     "name": "stdout",
     "output_type": "stream",
     "text": [
      "K-Fold #7\n",
      "Mean negativities for all classes: [0.3622572528011316, 0.37843817199898766, 0.38738447437058116]\n",
      "Mean entropies for all classes: [3.918944984265718e-15, 4.548088132303144e-15, 3.510945167486814e-15]\n",
      "              precision    recall  f1-score   support\n",
      "\n",
      "           0       0.17      0.20      0.18         5\n",
      "           1       0.00      0.00      0.00         5\n",
      "           2       0.00      0.00      0.00         5\n",
      "\n",
      "    accuracy                           0.07        15\n",
      "   macro avg       0.06      0.07      0.06        15\n",
      "weighted avg       0.06      0.07      0.06        15\n",
      "\n",
      "-------------------------------------------------------------------------------------------------------------------\n"
     ]
    },
    {
     "name": "stderr",
     "output_type": "stream",
     "text": [
      "[Parallel(n_jobs=-1)]: Done   3 out of   3 | elapsed:  1.2min finished\n",
      "[Parallel(n_jobs=-1)]: Using backend LokyBackend with 12 concurrent workers.\n"
     ]
    },
    {
     "name": "stdout",
     "output_type": "stream",
     "text": [
      "K-Fold #8\n",
      "Mean negativities for all classes: [0.3465633743592757, 0.37623770688329744, 0.3820290983985544]\n",
      "Mean entropies for all classes: [2.9356963697226844e-15, 2.9557031424212217e-15, 3.6835570178351e-15]\n",
      "              precision    recall  f1-score   support\n",
      "\n",
      "           0       0.40      0.40      0.40         5\n",
      "           1       0.12      0.20      0.15         5\n",
      "           2       0.00      0.00      0.00         5\n",
      "\n",
      "    accuracy                           0.20        15\n",
      "   macro avg       0.18      0.20      0.18        15\n",
      "weighted avg       0.17      0.20      0.18        15\n",
      "\n",
      "-------------------------------------------------------------------------------------------------------------------\n"
     ]
    },
    {
     "name": "stderr",
     "output_type": "stream",
     "text": [
      "[Parallel(n_jobs=-1)]: Done   3 out of   3 | elapsed:  1.2min finished\n",
      "c:\\ProgramData\\Anaconda3\\lib\\site-packages\\sklearn\\metrics\\_classification.py:1344: UndefinedMetricWarning: Precision and F-score are ill-defined and being set to 0.0 in labels with no predicted samples. Use `zero_division` parameter to control this behavior.\n",
      "  _warn_prf(average, modifier, msg_start, len(result))\n",
      "c:\\ProgramData\\Anaconda3\\lib\\site-packages\\sklearn\\metrics\\_classification.py:1344: UndefinedMetricWarning: Precision and F-score are ill-defined and being set to 0.0 in labels with no predicted samples. Use `zero_division` parameter to control this behavior.\n",
      "  _warn_prf(average, modifier, msg_start, len(result))\n",
      "c:\\ProgramData\\Anaconda3\\lib\\site-packages\\sklearn\\metrics\\_classification.py:1344: UndefinedMetricWarning: Precision and F-score are ill-defined and being set to 0.0 in labels with no predicted samples. Use `zero_division` parameter to control this behavior.\n",
      "  _warn_prf(average, modifier, msg_start, len(result))\n",
      "[Parallel(n_jobs=-1)]: Using backend LokyBackend with 12 concurrent workers.\n"
     ]
    },
    {
     "name": "stdout",
     "output_type": "stream",
     "text": [
      "K-Fold #9\n",
      "Mean negativities for all classes: [0.37733255563355594, 0.3875080011764505, 0.39281510447987994]\n",
      "Mean entropies for all classes: [3.8968790773803504e-15, 3.4986159629170873e-15, 3.2879463998695717e-15]\n",
      "              precision    recall  f1-score   support\n",
      "\n",
      "           0       0.33      0.60      0.43         5\n",
      "           1       0.00      0.00      0.00         5\n",
      "           2       0.00      0.00      0.00         5\n",
      "\n",
      "    accuracy                           0.20        15\n",
      "   macro avg       0.11      0.20      0.14        15\n",
      "weighted avg       0.11      0.20      0.14        15\n",
      "\n",
      "-------------------------------------------------------------------------------------------------------------------\n",
      "AVG: Scores = 0.23333333333333334 F1-Scores = 0.2096688496688497 Negativity = [0.37743109226498467, 0.37726341984703177, 0.37646939101660726] Entropy = [3.477441607720888e-15, 3.694890307491489e-15, 3.660054351286229e-15]\n"
     ]
    },
    {
     "name": "stderr",
     "output_type": "stream",
     "text": [
      "[Parallel(n_jobs=-1)]: Done   3 out of   3 | elapsed:  1.2min finished\n",
      "[Parallel(n_jobs=-1)]: Using backend LokyBackend with 12 concurrent workers.\n"
     ]
    },
    {
     "name": "stdout",
     "output_type": "stream",
     "text": [
      "K-Fold #0\n",
      "Mean negativities for all classes: [0.36147377251447976, 0.39030179376354207, 0.3785768647092275]\n",
      "Mean entropies for all classes: [3.750099045319671e-15, 3.157283275574937e-15, 3.3159745028079284e-15]\n",
      "              precision    recall  f1-score   support\n",
      "\n",
      "           0       0.57      0.80      0.67         5\n",
      "           1       0.00      0.00      0.00         5\n",
      "           2       0.33      0.20      0.25         5\n",
      "\n",
      "    accuracy                           0.33        15\n",
      "   macro avg       0.30      0.33      0.31        15\n",
      "weighted avg       0.30      0.33      0.31        15\n",
      "\n",
      "-------------------------------------------------------------------------------------------------------------------\n"
     ]
    },
    {
     "name": "stderr",
     "output_type": "stream",
     "text": [
      "[Parallel(n_jobs=-1)]: Done   3 out of   3 | elapsed:  1.2min finished\n",
      "[Parallel(n_jobs=-1)]: Using backend LokyBackend with 12 concurrent workers.\n"
     ]
    },
    {
     "name": "stdout",
     "output_type": "stream",
     "text": [
      "K-Fold #1\n",
      "Mean negativities for all classes: [0.37153287074414915, 0.3790441040306364, 0.38585630633152007]\n",
      "Mean entropies for all classes: [3.924567526967371e-15, 3.3602506561958275e-15, 2.8680072528736983e-15]\n",
      "              precision    recall  f1-score   support\n",
      "\n",
      "           0       0.25      0.20      0.22         5\n",
      "           1       0.11      0.20      0.14         5\n",
      "           2       0.00      0.00      0.00         5\n",
      "\n",
      "    accuracy                           0.13        15\n",
      "   macro avg       0.12      0.13      0.12        15\n",
      "weighted avg       0.12      0.13      0.12        15\n",
      "\n",
      "-------------------------------------------------------------------------------------------------------------------\n"
     ]
    },
    {
     "name": "stderr",
     "output_type": "stream",
     "text": [
      "[Parallel(n_jobs=-1)]: Done   3 out of   3 | elapsed:  1.2min finished\n",
      "[Parallel(n_jobs=-1)]: Using backend LokyBackend with 12 concurrent workers.\n"
     ]
    },
    {
     "name": "stdout",
     "output_type": "stream",
     "text": [
      "K-Fold #2\n",
      "Mean negativities for all classes: [0.3750987708195113, 0.3818261870870391, 0.3848477085074687]\n",
      "Mean entropies for all classes: [3.164098779987965e-15, 2.927283671305127e-15, 3.601130657902196e-15]\n",
      "              precision    recall  f1-score   support\n",
      "\n",
      "           0       0.38      0.60      0.46         5\n",
      "           1       0.33      0.40      0.36         5\n",
      "           2       0.00      0.00      0.00         5\n",
      "\n",
      "    accuracy                           0.33        15\n",
      "   macro avg       0.24      0.33      0.28        15\n",
      "weighted avg       0.24      0.33      0.28        15\n",
      "\n",
      "-------------------------------------------------------------------------------------------------------------------\n"
     ]
    },
    {
     "name": "stderr",
     "output_type": "stream",
     "text": [
      "[Parallel(n_jobs=-1)]: Done   3 out of   3 | elapsed:  1.2min finished\n",
      "c:\\ProgramData\\Anaconda3\\lib\\site-packages\\sklearn\\metrics\\_classification.py:1344: UndefinedMetricWarning: Precision and F-score are ill-defined and being set to 0.0 in labels with no predicted samples. Use `zero_division` parameter to control this behavior.\n",
      "  _warn_prf(average, modifier, msg_start, len(result))\n",
      "c:\\ProgramData\\Anaconda3\\lib\\site-packages\\sklearn\\metrics\\_classification.py:1344: UndefinedMetricWarning: Precision and F-score are ill-defined and being set to 0.0 in labels with no predicted samples. Use `zero_division` parameter to control this behavior.\n",
      "  _warn_prf(average, modifier, msg_start, len(result))\n",
      "c:\\ProgramData\\Anaconda3\\lib\\site-packages\\sklearn\\metrics\\_classification.py:1344: UndefinedMetricWarning: Precision and F-score are ill-defined and being set to 0.0 in labels with no predicted samples. Use `zero_division` parameter to control this behavior.\n",
      "  _warn_prf(average, modifier, msg_start, len(result))\n",
      "[Parallel(n_jobs=-1)]: Using backend LokyBackend with 12 concurrent workers.\n"
     ]
    },
    {
     "name": "stdout",
     "output_type": "stream",
     "text": [
      "K-Fold #3\n",
      "Mean negativities for all classes: [0.3679259972400319, 0.37595116694530756, 0.3804574058264709]\n",
      "Mean entropies for all classes: [3.947364710333813e-15, 3.048787105520507e-15, 4.003849996633859e-15]\n",
      "              precision    recall  f1-score   support\n",
      "\n",
      "           0       0.33      0.40      0.36         5\n",
      "           1       0.11      0.20      0.14         5\n",
      "           2       0.00      0.00      0.00         5\n",
      "\n",
      "    accuracy                           0.20        15\n",
      "   macro avg       0.15      0.20      0.17        15\n",
      "weighted avg       0.15      0.20      0.17        15\n",
      "\n",
      "-------------------------------------------------------------------------------------------------------------------\n"
     ]
    },
    {
     "name": "stderr",
     "output_type": "stream",
     "text": [
      "[Parallel(n_jobs=-1)]: Done   3 out of   3 | elapsed:  1.2min finished\n",
      "[Parallel(n_jobs=-1)]: Using backend LokyBackend with 12 concurrent workers.\n"
     ]
    },
    {
     "name": "stdout",
     "output_type": "stream",
     "text": [
      "K-Fold #4\n",
      "Mean negativities for all classes: [0.36766493476301226, 0.3855908885761713, 0.38094298790712866]\n",
      "Mean entropies for all classes: [2.657799147633875e-15, 4.026045656112588e-15, 3.594409795269066e-15]\n",
      "              precision    recall  f1-score   support\n",
      "\n",
      "           0       0.33      0.60      0.43         5\n",
      "           1       0.00      0.00      0.00         5\n",
      "           2       1.00      0.20      0.33         5\n",
      "\n",
      "    accuracy                           0.27        15\n",
      "   macro avg       0.44      0.27      0.25        15\n",
      "weighted avg       0.44      0.27      0.25        15\n",
      "\n",
      "-------------------------------------------------------------------------------------------------------------------\n"
     ]
    },
    {
     "name": "stderr",
     "output_type": "stream",
     "text": [
      "[Parallel(n_jobs=-1)]: Done   3 out of   3 | elapsed:  1.2min finished\n",
      "[Parallel(n_jobs=-1)]: Using backend LokyBackend with 12 concurrent workers.\n"
     ]
    },
    {
     "name": "stdout",
     "output_type": "stream",
     "text": [
      "K-Fold #5\n",
      "Mean negativities for all classes: [0.3601359047297768, 0.3830800322984069, 0.38507855044889455]\n",
      "Mean entropies for all classes: [3.526729593863373e-15, 3.3617607684041465e-15, 2.9234667093157854e-15]\n",
      "              precision    recall  f1-score   support\n",
      "\n",
      "           0       0.43      0.60      0.50         5\n",
      "           1       0.29      0.40      0.33         5\n",
      "           2       0.00      0.00      0.00         5\n",
      "\n",
      "    accuracy                           0.33        15\n",
      "   macro avg       0.24      0.33      0.28        15\n",
      "weighted avg       0.24      0.33      0.28        15\n",
      "\n",
      "-------------------------------------------------------------------------------------------------------------------\n"
     ]
    },
    {
     "name": "stderr",
     "output_type": "stream",
     "text": [
      "[Parallel(n_jobs=-1)]: Done   3 out of   3 | elapsed:  1.2min finished\n",
      "[Parallel(n_jobs=-1)]: Using backend LokyBackend with 12 concurrent workers.\n"
     ]
    },
    {
     "name": "stdout",
     "output_type": "stream",
     "text": [
      "K-Fold #6\n",
      "Mean negativities for all classes: [0.3713932203344254, 0.3783570595580264, 0.3724714506812161]\n",
      "Mean entropies for all classes: [3.350301289652619e-15, 4.408745311815019e-15, 3.213204963580384e-15]\n",
      "              precision    recall  f1-score   support\n",
      "\n",
      "           0       0.33      0.40      0.36         5\n",
      "           1       0.14      0.20      0.17         5\n",
      "           2       0.50      0.20      0.29         5\n",
      "\n",
      "    accuracy                           0.27        15\n",
      "   macro avg       0.33      0.27      0.27        15\n",
      "weighted avg       0.33      0.27      0.27        15\n",
      "\n",
      "-------------------------------------------------------------------------------------------------------------------\n"
     ]
    },
    {
     "name": "stderr",
     "output_type": "stream",
     "text": [
      "[Parallel(n_jobs=-1)]: Done   3 out of   3 | elapsed:  1.2min finished\n",
      "[Parallel(n_jobs=-1)]: Using backend LokyBackend with 12 concurrent workers.\n"
     ]
    },
    {
     "name": "stdout",
     "output_type": "stream",
     "text": [
      "K-Fold #7\n",
      "Mean negativities for all classes: [0.36634871741597286, 0.3707408407533743, 0.38651858782347726]\n",
      "Mean entropies for all classes: [4.080027124460277e-15, 3.619602079842311e-15, 2.9135790035815244e-15]\n",
      "              precision    recall  f1-score   support\n",
      "\n",
      "           0       0.00      0.00      0.00         5\n",
      "           1       0.00      0.00      0.00         5\n",
      "           2       0.33      0.20      0.25         5\n",
      "\n",
      "    accuracy                           0.07        15\n",
      "   macro avg       0.11      0.07      0.08        15\n",
      "weighted avg       0.11      0.07      0.08        15\n",
      "\n",
      "-------------------------------------------------------------------------------------------------------------------\n"
     ]
    },
    {
     "name": "stderr",
     "output_type": "stream",
     "text": [
      "[Parallel(n_jobs=-1)]: Done   3 out of   3 | elapsed:  1.2min finished\n",
      "[Parallel(n_jobs=-1)]: Using backend LokyBackend with 12 concurrent workers.\n"
     ]
    },
    {
     "name": "stdout",
     "output_type": "stream",
     "text": [
      "K-Fold #8\n",
      "Mean negativities for all classes: [0.3711158438048287, 0.3741086385221931, 0.38563864562463496]\n",
      "Mean entropies for all classes: [3.3917020343307883e-15, 2.9469267322312553e-15, 3.453312707817494e-15]\n",
      "              precision    recall  f1-score   support\n",
      "\n",
      "           0       0.40      0.40      0.40         5\n",
      "           1       0.00      0.00      0.00         5\n",
      "           2       0.00      0.00      0.00         5\n",
      "\n",
      "    accuracy                           0.13        15\n",
      "   macro avg       0.13      0.13      0.13        15\n",
      "weighted avg       0.13      0.13      0.13        15\n",
      "\n",
      "-------------------------------------------------------------------------------------------------------------------\n"
     ]
    },
    {
     "name": "stderr",
     "output_type": "stream",
     "text": [
      "[Parallel(n_jobs=-1)]: Done   3 out of   3 | elapsed:  1.2min finished\n",
      "[Parallel(n_jobs=-1)]: Using backend LokyBackend with 12 concurrent workers.\n"
     ]
    },
    {
     "name": "stdout",
     "output_type": "stream",
     "text": [
      "K-Fold #9\n",
      "Mean negativities for all classes: [0.3657663337367177, 0.38527656556427736, 0.3836247511246234]\n",
      "Mean entropies for all classes: [3.3226680918598204e-15, 3.0733092525465025e-15, 3.988678321391697e-15]\n",
      "              precision    recall  f1-score   support\n",
      "\n",
      "           0       0.44      0.80      0.57         5\n",
      "           1       0.20      0.20      0.20         5\n",
      "           2       1.00      0.20      0.33         5\n",
      "\n",
      "    accuracy                           0.40        15\n",
      "   macro avg       0.55      0.40      0.37        15\n",
      "weighted avg       0.55      0.40      0.37        15\n",
      "\n",
      "-------------------------------------------------------------------------------------------------------------------\n",
      "AVG: Scores = 0.24666666666666667 F1-Scores = 0.22598105598105594 Negativity = [0.37678414366241647, 0.37881109370210186, 0.380590888804673] Entropy = [3.407785607900845e-15, 3.3842751453456326e-15, 3.2308377030650957e-15]\n"
     ]
    },
    {
     "name": "stderr",
     "output_type": "stream",
     "text": [
      "[Parallel(n_jobs=-1)]: Done   3 out of   3 | elapsed:  1.2min finished\n",
      "[Parallel(n_jobs=-1)]: Using backend LokyBackend with 12 concurrent workers.\n"
     ]
    },
    {
     "name": "stdout",
     "output_type": "stream",
     "text": [
      "K-Fold #0\n",
      "Mean negativities for all classes: [0.3683685985353085, 0.3830644746748682, 0.37815889813528086]\n",
      "Mean entropies for all classes: [4.006684510914894e-15, 3.709254141816076e-15, 4.063295398060335e-15]\n",
      "              precision    recall  f1-score   support\n",
      "\n",
      "           0       0.25      0.20      0.22         5\n",
      "           1       0.00      0.00      0.00         5\n",
      "           2       0.00      0.00      0.00         5\n",
      "\n",
      "    accuracy                           0.07        15\n",
      "   macro avg       0.08      0.07      0.07        15\n",
      "weighted avg       0.08      0.07      0.07        15\n",
      "\n",
      "-------------------------------------------------------------------------------------------------------------------\n"
     ]
    },
    {
     "name": "stderr",
     "output_type": "stream",
     "text": [
      "[Parallel(n_jobs=-1)]: Done   3 out of   3 | elapsed:  1.2min finished\n",
      "[Parallel(n_jobs=-1)]: Using backend LokyBackend with 12 concurrent workers.\n"
     ]
    },
    {
     "name": "stdout",
     "output_type": "stream",
     "text": [
      "K-Fold #1\n",
      "Mean negativities for all classes: [0.3692174740578097, 0.3838180247682231, 0.3827648894205428]\n",
      "Mean entropies for all classes: [4.331490775393453e-15, 3.746066797514918e-15, 3.5735789042401804e-15]\n",
      "              precision    recall  f1-score   support\n",
      "\n",
      "           0       0.60      0.60      0.60         5\n",
      "           1       0.50      0.80      0.62         5\n",
      "           2       1.00      0.40      0.57         5\n",
      "\n",
      "    accuracy                           0.60        15\n",
      "   macro avg       0.70      0.60      0.60        15\n",
      "weighted avg       0.70      0.60      0.60        15\n",
      "\n",
      "-------------------------------------------------------------------------------------------------------------------\n"
     ]
    },
    {
     "name": "stderr",
     "output_type": "stream",
     "text": [
      "[Parallel(n_jobs=-1)]: Done   3 out of   3 | elapsed:  1.2min finished\n",
      "[Parallel(n_jobs=-1)]: Using backend LokyBackend with 12 concurrent workers.\n"
     ]
    },
    {
     "name": "stdout",
     "output_type": "stream",
     "text": [
      "K-Fold #2\n",
      "Mean negativities for all classes: [0.3562407126426754, 0.3775843480256127, 0.3696002502013264]\n",
      "Mean entropies for all classes: [4.517747555635413e-15, 2.8931857703476174e-15, 3.881531753318618e-15]\n",
      "              precision    recall  f1-score   support\n",
      "\n",
      "           0       0.43      0.60      0.50         5\n",
      "           1       0.17      0.20      0.18         5\n",
      "           2       0.50      0.20      0.29         5\n",
      "\n",
      "    accuracy                           0.33        15\n",
      "   macro avg       0.37      0.33      0.32        15\n",
      "weighted avg       0.37      0.33      0.32        15\n",
      "\n",
      "-------------------------------------------------------------------------------------------------------------------\n"
     ]
    },
    {
     "name": "stderr",
     "output_type": "stream",
     "text": [
      "[Parallel(n_jobs=-1)]: Done   3 out of   3 | elapsed:  1.2min finished\n",
      "[Parallel(n_jobs=-1)]: Using backend LokyBackend with 12 concurrent workers.\n"
     ]
    },
    {
     "name": "stdout",
     "output_type": "stream",
     "text": [
      "K-Fold #3\n",
      "Mean negativities for all classes: [0.36651499013988204, 0.3761974285712173, 0.3837218676161413]\n",
      "Mean entropies for all classes: [3.799128813940688e-15, 3.713616785098398e-15, 3.7209854111571814e-15]\n",
      "              precision    recall  f1-score   support\n",
      "\n",
      "           0       0.29      0.40      0.33         5\n",
      "           1       0.14      0.20      0.17         5\n",
      "           2       0.00      0.00      0.00         5\n",
      "\n",
      "    accuracy                           0.20        15\n",
      "   macro avg       0.14      0.20      0.17        15\n",
      "weighted avg       0.14      0.20      0.17        15\n",
      "\n",
      "-------------------------------------------------------------------------------------------------------------------\n"
     ]
    },
    {
     "name": "stderr",
     "output_type": "stream",
     "text": [
      "[Parallel(n_jobs=-1)]: Done   3 out of   3 | elapsed:  1.2min finished\n",
      "[Parallel(n_jobs=-1)]: Using backend LokyBackend with 12 concurrent workers.\n"
     ]
    },
    {
     "name": "stdout",
     "output_type": "stream",
     "text": [
      "K-Fold #4\n",
      "Mean negativities for all classes: [0.3819479375069417, 0.3773298211913531, 0.37839778530439266]\n",
      "Mean entropies for all classes: [3.835189392361491e-15, 3.3502768495207834e-15, 3.1824263512511793e-15]\n",
      "              precision    recall  f1-score   support\n",
      "\n",
      "           0       0.40      0.40      0.40         5\n",
      "           1       0.00      0.00      0.00         5\n",
      "           2       0.00      0.00      0.00         5\n",
      "\n",
      "    accuracy                           0.13        15\n",
      "   macro avg       0.13      0.13      0.13        15\n",
      "weighted avg       0.13      0.13      0.13        15\n",
      "\n",
      "-------------------------------------------------------------------------------------------------------------------\n"
     ]
    },
    {
     "name": "stderr",
     "output_type": "stream",
     "text": [
      "[Parallel(n_jobs=-1)]: Done   3 out of   3 | elapsed:  1.2min finished\n",
      "[Parallel(n_jobs=-1)]: Using backend LokyBackend with 12 concurrent workers.\n"
     ]
    },
    {
     "name": "stdout",
     "output_type": "stream",
     "text": [
      "K-Fold #5\n",
      "Mean negativities for all classes: [0.3578984427258831, 0.3744548774827654, 0.3818601910694955]\n",
      "Mean entropies for all classes: [3.350384871473069e-15, 3.9751764714899925e-15, 3.010742181547607e-15]\n",
      "              precision    recall  f1-score   support\n",
      "\n",
      "           0       0.17      0.20      0.18         5\n",
      "           1       0.00      0.00      0.00         5\n",
      "           2       0.00      0.00      0.00         5\n",
      "\n",
      "    accuracy                           0.07        15\n",
      "   macro avg       0.06      0.07      0.06        15\n",
      "weighted avg       0.06      0.07      0.06        15\n",
      "\n",
      "-------------------------------------------------------------------------------------------------------------------\n"
     ]
    },
    {
     "name": "stderr",
     "output_type": "stream",
     "text": [
      "[Parallel(n_jobs=-1)]: Done   3 out of   3 | elapsed:  1.2min finished\n",
      "[Parallel(n_jobs=-1)]: Using backend LokyBackend with 12 concurrent workers.\n"
     ]
    },
    {
     "name": "stdout",
     "output_type": "stream",
     "text": [
      "K-Fold #6\n",
      "Mean negativities for all classes: [0.3694527147621927, 0.3728588845868953, 0.3765300665230558]\n",
      "Mean entropies for all classes: [3.5380328286170116e-15, 3.4972270524070457e-15, 3.4517345236538784e-15]\n",
      "              precision    recall  f1-score   support\n",
      "\n",
      "           0       0.60      0.60      0.60         5\n",
      "           1       0.12      0.20      0.15         5\n",
      "           2       0.00      0.00      0.00         5\n",
      "\n",
      "    accuracy                           0.27        15\n",
      "   macro avg       0.24      0.27      0.25        15\n",
      "weighted avg       0.24      0.27      0.25        15\n",
      "\n",
      "-------------------------------------------------------------------------------------------------------------------\n"
     ]
    },
    {
     "name": "stderr",
     "output_type": "stream",
     "text": [
      "[Parallel(n_jobs=-1)]: Done   3 out of   3 | elapsed:  1.2min finished\n",
      "[Parallel(n_jobs=-1)]: Using backend LokyBackend with 12 concurrent workers.\n"
     ]
    },
    {
     "name": "stdout",
     "output_type": "stream",
     "text": [
      "K-Fold #7\n",
      "Mean negativities for all classes: [0.36462976938945046, 0.387582399138975, 0.38418410375178996]\n",
      "Mean entropies for all classes: [4.0095034017109655e-15, 3.99998909505002e-15, 3.3854888921557568e-15]\n",
      "              precision    recall  f1-score   support\n",
      "\n",
      "           0       0.38      0.60      0.46         5\n",
      "           1       0.17      0.20      0.18         5\n",
      "           2       1.00      0.20      0.33         5\n",
      "\n",
      "    accuracy                           0.33        15\n",
      "   macro avg       0.51      0.33      0.33        15\n",
      "weighted avg       0.51      0.33      0.33        15\n",
      "\n",
      "-------------------------------------------------------------------------------------------------------------------\n"
     ]
    },
    {
     "name": "stderr",
     "output_type": "stream",
     "text": [
      "[Parallel(n_jobs=-1)]: Done   3 out of   3 | elapsed:  1.2min finished\n",
      "[Parallel(n_jobs=-1)]: Using backend LokyBackend with 12 concurrent workers.\n"
     ]
    },
    {
     "name": "stdout",
     "output_type": "stream",
     "text": [
      "K-Fold #8\n",
      "Mean negativities for all classes: [0.36919090138429045, 0.3692383702622223, 0.38760387509927174]\n",
      "Mean entropies for all classes: [3.724616437286726e-15, 3.9649113008336214e-15, 3.830383508713384e-15]\n",
      "              precision    recall  f1-score   support\n",
      "\n",
      "           0       0.50      0.20      0.29         5\n",
      "           1       0.18      0.40      0.25         5\n",
      "           2       0.00      0.00      0.00         5\n",
      "\n",
      "    accuracy                           0.20        15\n",
      "   macro avg       0.23      0.20      0.18        15\n",
      "weighted avg       0.23      0.20      0.18        15\n",
      "\n",
      "-------------------------------------------------------------------------------------------------------------------\n"
     ]
    },
    {
     "name": "stderr",
     "output_type": "stream",
     "text": [
      "[Parallel(n_jobs=-1)]: Done   3 out of   3 | elapsed:  1.2min finished\n",
      "c:\\ProgramData\\Anaconda3\\lib\\site-packages\\sklearn\\metrics\\_classification.py:1344: UndefinedMetricWarning: Precision and F-score are ill-defined and being set to 0.0 in labels with no predicted samples. Use `zero_division` parameter to control this behavior.\n",
      "  _warn_prf(average, modifier, msg_start, len(result))\n",
      "c:\\ProgramData\\Anaconda3\\lib\\site-packages\\sklearn\\metrics\\_classification.py:1344: UndefinedMetricWarning: Precision and F-score are ill-defined and being set to 0.0 in labels with no predicted samples. Use `zero_division` parameter to control this behavior.\n",
      "  _warn_prf(average, modifier, msg_start, len(result))\n",
      "c:\\ProgramData\\Anaconda3\\lib\\site-packages\\sklearn\\metrics\\_classification.py:1344: UndefinedMetricWarning: Precision and F-score are ill-defined and being set to 0.0 in labels with no predicted samples. Use `zero_division` parameter to control this behavior.\n",
      "  _warn_prf(average, modifier, msg_start, len(result))\n",
      "[Parallel(n_jobs=-1)]: Using backend LokyBackend with 12 concurrent workers.\n"
     ]
    },
    {
     "name": "stdout",
     "output_type": "stream",
     "text": [
      "K-Fold #9\n",
      "Mean negativities for all classes: [0.36604642914636754, 0.370189395249916, 0.3839179900836387]\n",
      "Mean entropies for all classes: [3.4786347574896906e-15, 4.412347808393459e-15, 4.139927528951256e-15]\n",
      "              precision    recall  f1-score   support\n",
      "\n",
      "           0       0.33      0.40      0.36         5\n",
      "           1       0.11      0.20      0.14         5\n",
      "           2       0.00      0.00      0.00         5\n",
      "\n",
      "    accuracy                           0.20        15\n",
      "   macro avg       0.15      0.20      0.17        15\n",
      "weighted avg       0.15      0.20      0.17        15\n",
      "\n",
      "-------------------------------------------------------------------------------------------------------------------\n",
      "AVG: Scores = 0.24000000000000005 F1-Scores = 0.22770433270433274 Negativity = [0.37653065711515254, 0.37860012941552523, 0.3678084369565382] Entropy = [3.926411350263769e-15, 3.883712159049517e-15, 3.764155026433883e-15]\n"
     ]
    },
    {
     "name": "stderr",
     "output_type": "stream",
     "text": [
      "[Parallel(n_jobs=-1)]: Done   3 out of   3 | elapsed:  1.2min finished\n",
      "[Parallel(n_jobs=-1)]: Using backend LokyBackend with 12 concurrent workers.\n"
     ]
    },
    {
     "name": "stdout",
     "output_type": "stream",
     "text": [
      "K-Fold #0\n",
      "Mean negativities for all classes: [0.3675940387974228, 0.3828277631311769, 0.3813301024655217]\n",
      "Mean entropies for all classes: [3.6140730128679845e-15, 3.484210050794737e-15, 3.41061273703179e-15]\n",
      "              precision    recall  f1-score   support\n",
      "\n",
      "           0       0.40      0.40      0.40         5\n",
      "           1       0.11      0.20      0.14         5\n",
      "           2       0.00      0.00      0.00         5\n",
      "\n",
      "    accuracy                           0.20        15\n",
      "   macro avg       0.17      0.20      0.18        15\n",
      "weighted avg       0.17      0.20      0.18        15\n",
      "\n",
      "-------------------------------------------------------------------------------------------------------------------\n"
     ]
    },
    {
     "name": "stderr",
     "output_type": "stream",
     "text": [
      "[Parallel(n_jobs=-1)]: Done   3 out of   3 | elapsed:  1.2min finished\n",
      "[Parallel(n_jobs=-1)]: Using backend LokyBackend with 12 concurrent workers.\n"
     ]
    },
    {
     "name": "stdout",
     "output_type": "stream",
     "text": [
      "K-Fold #1\n",
      "Mean negativities for all classes: [0.366787125632746, 0.38539870949871624, 0.3834691523254572]\n",
      "Mean entropies for all classes: [3.038857479705387e-15, 3.2118066033124568e-15, 3.402836153444916e-15]\n",
      "              precision    recall  f1-score   support\n",
      "\n",
      "           0       0.17      0.20      0.18         5\n",
      "           1       0.14      0.20      0.17         5\n",
      "           2       0.50      0.20      0.29         5\n",
      "\n",
      "    accuracy                           0.20        15\n",
      "   macro avg       0.27      0.20      0.21        15\n",
      "weighted avg       0.27      0.20      0.21        15\n",
      "\n",
      "-------------------------------------------------------------------------------------------------------------------\n"
     ]
    },
    {
     "name": "stderr",
     "output_type": "stream",
     "text": [
      "[Parallel(n_jobs=-1)]: Done   3 out of   3 | elapsed:  1.2min finished\n",
      "[Parallel(n_jobs=-1)]: Using backend LokyBackend with 12 concurrent workers.\n"
     ]
    },
    {
     "name": "stdout",
     "output_type": "stream",
     "text": [
      "K-Fold #2\n",
      "Mean negativities for all classes: [0.3592427591557693, 0.3848238170977264, 0.37856483401548935]\n",
      "Mean entropies for all classes: [3.202409830055693e-15, 3.770931890273815e-15, 3.379748144059481e-15]\n",
      "              precision    recall  f1-score   support\n",
      "\n",
      "           0       0.60      0.60      0.60         5\n",
      "           1       0.29      0.40      0.33         5\n",
      "           2       0.33      0.20      0.25         5\n",
      "\n",
      "    accuracy                           0.40        15\n",
      "   macro avg       0.41      0.40      0.39        15\n",
      "weighted avg       0.41      0.40      0.39        15\n",
      "\n",
      "-------------------------------------------------------------------------------------------------------------------\n"
     ]
    },
    {
     "name": "stderr",
     "output_type": "stream",
     "text": [
      "[Parallel(n_jobs=-1)]: Done   3 out of   3 | elapsed:  1.2min finished\n",
      "[Parallel(n_jobs=-1)]: Using backend LokyBackend with 12 concurrent workers.\n"
     ]
    },
    {
     "name": "stdout",
     "output_type": "stream",
     "text": [
      "K-Fold #3\n",
      "Mean negativities for all classes: [0.3770961274288765, 0.38149605720659846, 0.38735854361813093]\n",
      "Mean entropies for all classes: [4.029415939631352e-15, 3.855280032446188e-15, 2.890808887445473e-15]\n",
      "              precision    recall  f1-score   support\n",
      "\n",
      "           0       0.25      0.20      0.22         5\n",
      "           1       0.12      0.20      0.15         5\n",
      "           2       0.33      0.20      0.25         5\n",
      "\n",
      "    accuracy                           0.20        15\n",
      "   macro avg       0.24      0.20      0.21        15\n",
      "weighted avg       0.24      0.20      0.21        15\n",
      "\n",
      "-------------------------------------------------------------------------------------------------------------------\n"
     ]
    },
    {
     "name": "stderr",
     "output_type": "stream",
     "text": [
      "[Parallel(n_jobs=-1)]: Done   3 out of   3 | elapsed:  1.2min finished\n",
      "[Parallel(n_jobs=-1)]: Using backend LokyBackend with 12 concurrent workers.\n"
     ]
    },
    {
     "name": "stdout",
     "output_type": "stream",
     "text": [
      "K-Fold #4\n",
      "Mean negativities for all classes: [0.36494192324540065, 0.39153277249413565, 0.3708343880662269]\n",
      "Mean entropies for all classes: [4.17559982692435e-15, 3.936191020441457e-15, 3.59067036429829e-15]\n",
      "              precision    recall  f1-score   support\n",
      "\n",
      "           0       0.71      1.00      0.83         5\n",
      "           1       0.57      0.80      0.67         5\n",
      "           2       1.00      0.20      0.33         5\n",
      "\n",
      "    accuracy                           0.67        15\n",
      "   macro avg       0.76      0.67      0.61        15\n",
      "weighted avg       0.76      0.67      0.61        15\n",
      "\n",
      "-------------------------------------------------------------------------------------------------------------------\n"
     ]
    },
    {
     "name": "stderr",
     "output_type": "stream",
     "text": [
      "[Parallel(n_jobs=-1)]: Done   3 out of   3 | elapsed:  1.2min finished\n",
      "[Parallel(n_jobs=-1)]: Using backend LokyBackend with 12 concurrent workers.\n"
     ]
    },
    {
     "name": "stdout",
     "output_type": "stream",
     "text": [
      "K-Fold #5\n",
      "Mean negativities for all classes: [0.3618187977639717, 0.38360203363690737, 0.3842952668608541]\n",
      "Mean entropies for all classes: [2.9398527592646646e-15, 3.6751758297392734e-15, 3.626102554239498e-15]\n",
      "              precision    recall  f1-score   support\n",
      "\n",
      "           0       0.17      0.20      0.18         5\n",
      "           1       0.12      0.20      0.15         5\n",
      "           2       0.00      0.00      0.00         5\n",
      "\n",
      "    accuracy                           0.13        15\n",
      "   macro avg       0.10      0.13      0.11        15\n",
      "weighted avg       0.10      0.13      0.11        15\n",
      "\n",
      "-------------------------------------------------------------------------------------------------------------------\n"
     ]
    },
    {
     "name": "stderr",
     "output_type": "stream",
     "text": [
      "[Parallel(n_jobs=-1)]: Done   3 out of   3 | elapsed:  1.2min finished\n",
      "[Parallel(n_jobs=-1)]: Using backend LokyBackend with 12 concurrent workers.\n"
     ]
    },
    {
     "name": "stdout",
     "output_type": "stream",
     "text": [
      "K-Fold #6\n",
      "Mean negativities for all classes: [0.3688088758997583, 0.36491821277973846, 0.3810653422757391]\n",
      "Mean entropies for all classes: [3.3606650175137052e-15, 2.982934651437437e-15, 3.756403160840507e-15]\n",
      "              precision    recall  f1-score   support\n",
      "\n",
      "           0       0.25      0.20      0.22         5\n",
      "           1       0.11      0.20      0.14         5\n",
      "           2       0.50      0.20      0.29         5\n",
      "\n",
      "    accuracy                           0.20        15\n",
      "   macro avg       0.29      0.20      0.22        15\n",
      "weighted avg       0.29      0.20      0.22        15\n",
      "\n",
      "-------------------------------------------------------------------------------------------------------------------\n"
     ]
    },
    {
     "name": "stderr",
     "output_type": "stream",
     "text": [
      "[Parallel(n_jobs=-1)]: Done   3 out of   3 | elapsed:  1.2min finished\n",
      "c:\\ProgramData\\Anaconda3\\lib\\site-packages\\sklearn\\metrics\\_classification.py:1344: UndefinedMetricWarning: Precision and F-score are ill-defined and being set to 0.0 in labels with no predicted samples. Use `zero_division` parameter to control this behavior.\n",
      "  _warn_prf(average, modifier, msg_start, len(result))\n",
      "c:\\ProgramData\\Anaconda3\\lib\\site-packages\\sklearn\\metrics\\_classification.py:1344: UndefinedMetricWarning: Precision and F-score are ill-defined and being set to 0.0 in labels with no predicted samples. Use `zero_division` parameter to control this behavior.\n",
      "  _warn_prf(average, modifier, msg_start, len(result))\n",
      "c:\\ProgramData\\Anaconda3\\lib\\site-packages\\sklearn\\metrics\\_classification.py:1344: UndefinedMetricWarning: Precision and F-score are ill-defined and being set to 0.0 in labels with no predicted samples. Use `zero_division` parameter to control this behavior.\n",
      "  _warn_prf(average, modifier, msg_start, len(result))\n",
      "[Parallel(n_jobs=-1)]: Using backend LokyBackend with 12 concurrent workers.\n"
     ]
    },
    {
     "name": "stdout",
     "output_type": "stream",
     "text": [
      "K-Fold #7\n",
      "Mean negativities for all classes: [0.36423002637598717, 0.36772846151607125, 0.3829631593202226]\n",
      "Mean entropies for all classes: [2.916075130494784e-15, 4.014329044127218e-15, 3.78490963446047e-15]\n",
      "              precision    recall  f1-score   support\n",
      "\n",
      "           0       0.25      0.40      0.31         5\n",
      "           1       0.00      0.00      0.00         5\n",
      "           2       0.00      0.00      0.00         5\n",
      "\n",
      "    accuracy                           0.13        15\n",
      "   macro avg       0.08      0.13      0.10        15\n",
      "weighted avg       0.08      0.13      0.10        15\n",
      "\n",
      "-------------------------------------------------------------------------------------------------------------------\n"
     ]
    },
    {
     "name": "stderr",
     "output_type": "stream",
     "text": [
      "[Parallel(n_jobs=-1)]: Done   3 out of   3 | elapsed:  1.2min finished\n",
      "[Parallel(n_jobs=-1)]: Using backend LokyBackend with 12 concurrent workers.\n"
     ]
    },
    {
     "name": "stdout",
     "output_type": "stream",
     "text": [
      "K-Fold #8\n",
      "Mean negativities for all classes: [0.3759382716591132, 0.38152039236490115, 0.3861368705288593]\n",
      "Mean entropies for all classes: [4.398691318080769e-15, 3.3546212138999254e-15, 4.176293341854944e-15]\n",
      "              precision    recall  f1-score   support\n",
      "\n",
      "           0       0.33      0.60      0.43         5\n",
      "           1       0.00      0.00      0.00         5\n",
      "           2       0.00      0.00      0.00         5\n",
      "\n",
      "    accuracy                           0.20        15\n",
      "   macro avg       0.11      0.20      0.14        15\n",
      "weighted avg       0.11      0.20      0.14        15\n",
      "\n",
      "-------------------------------------------------------------------------------------------------------------------\n"
     ]
    },
    {
     "name": "stderr",
     "output_type": "stream",
     "text": [
      "[Parallel(n_jobs=-1)]: Done   3 out of   3 | elapsed:  1.2min finished\n",
      "[Parallel(n_jobs=-1)]: Using backend LokyBackend with 12 concurrent workers.\n"
     ]
    },
    {
     "name": "stdout",
     "output_type": "stream",
     "text": [
      "K-Fold #9\n",
      "Mean negativities for all classes: [0.3744776858086757, 0.3755981891740637, 0.3791446164350457]\n",
      "Mean entropies for all classes: [3.764306135693577e-15, 4.056898906323873e-15, 3.3696631870082567e-15]\n",
      "              precision    recall  f1-score   support\n",
      "\n",
      "           0       0.50      0.40      0.44         5\n",
      "           1       0.20      0.40      0.27         5\n",
      "           2       0.00      0.00      0.00         5\n",
      "\n",
      "    accuracy                           0.27        15\n",
      "   macro avg       0.23      0.27      0.24        15\n",
      "weighted avg       0.23      0.27      0.24        15\n",
      "\n",
      "-------------------------------------------------------------------------------------------------------------------\n",
      "AVG: Scores = 0.26 F1-Scores = 0.24178747178747179 Negativity = [0.37725063479804044, 0.3785516624856398, 0.37421047008966174] Entropy = [3.5029652668981704e-15, 3.217833412154253e-15, 3.4510299547963295e-15]\n"
     ]
    },
    {
     "name": "stderr",
     "output_type": "stream",
     "text": [
      "[Parallel(n_jobs=-1)]: Done   3 out of   3 | elapsed:  1.2min finished\n",
      "[Parallel(n_jobs=-1)]: Using backend LokyBackend with 12 concurrent workers.\n"
     ]
    },
    {
     "name": "stdout",
     "output_type": "stream",
     "text": [
      "K-Fold #0\n",
      "Mean negativities for all classes: [0.3615565473800059, 0.3824306474123656, 0.3787562366024895]\n",
      "Mean entropies for all classes: [3.6699474605416335e-15, 3.1021989312552934e-15, 2.787162156430745e-15]\n",
      "              precision    recall  f1-score   support\n",
      "\n",
      "           0       0.20      0.20      0.20         5\n",
      "           1       0.00      0.00      0.00         5\n",
      "           2       0.00      0.00      0.00         5\n",
      "\n",
      "    accuracy                           0.07        15\n",
      "   macro avg       0.07      0.07      0.07        15\n",
      "weighted avg       0.07      0.07      0.07        15\n",
      "\n",
      "-------------------------------------------------------------------------------------------------------------------\n"
     ]
    },
    {
     "name": "stderr",
     "output_type": "stream",
     "text": [
      "[Parallel(n_jobs=-1)]: Done   3 out of   3 | elapsed:  1.2min finished\n",
      "c:\\ProgramData\\Anaconda3\\lib\\site-packages\\sklearn\\metrics\\_classification.py:1344: UndefinedMetricWarning: Precision and F-score are ill-defined and being set to 0.0 in labels with no predicted samples. Use `zero_division` parameter to control this behavior.\n",
      "  _warn_prf(average, modifier, msg_start, len(result))\n",
      "c:\\ProgramData\\Anaconda3\\lib\\site-packages\\sklearn\\metrics\\_classification.py:1344: UndefinedMetricWarning: Precision and F-score are ill-defined and being set to 0.0 in labels with no predicted samples. Use `zero_division` parameter to control this behavior.\n",
      "  _warn_prf(average, modifier, msg_start, len(result))\n",
      "c:\\ProgramData\\Anaconda3\\lib\\site-packages\\sklearn\\metrics\\_classification.py:1344: UndefinedMetricWarning: Precision and F-score are ill-defined and being set to 0.0 in labels with no predicted samples. Use `zero_division` parameter to control this behavior.\n",
      "  _warn_prf(average, modifier, msg_start, len(result))\n",
      "[Parallel(n_jobs=-1)]: Using backend LokyBackend with 12 concurrent workers.\n"
     ]
    },
    {
     "name": "stdout",
     "output_type": "stream",
     "text": [
      "K-Fold #1\n",
      "Mean negativities for all classes: [0.36626358706133977, 0.37030632187112106, 0.38843047530937713]\n",
      "Mean entropies for all classes: [3.2230624679798865e-15, 3.574044983093235e-15, 3.4959772800700053e-15]\n",
      "              precision    recall  f1-score   support\n",
      "\n",
      "           0       0.20      0.20      0.20         5\n",
      "           1       0.10      0.20      0.13         5\n",
      "           2       0.00      0.00      0.00         5\n",
      "\n",
      "    accuracy                           0.13        15\n",
      "   macro avg       0.10      0.13      0.11        15\n",
      "weighted avg       0.10      0.13      0.11        15\n",
      "\n",
      "-------------------------------------------------------------------------------------------------------------------\n"
     ]
    },
    {
     "name": "stderr",
     "output_type": "stream",
     "text": [
      "[Parallel(n_jobs=-1)]: Done   3 out of   3 | elapsed:  1.2min finished\n",
      "[Parallel(n_jobs=-1)]: Using backend LokyBackend with 12 concurrent workers.\n"
     ]
    },
    {
     "name": "stdout",
     "output_type": "stream",
     "text": [
      "K-Fold #2\n",
      "Mean negativities for all classes: [0.35787964311446013, 0.3830258195682011, 0.3801583874519209]\n",
      "Mean entropies for all classes: [3.422220523775601e-15, 3.696554415182408e-15, 4.279895876436873e-15]\n",
      "              precision    recall  f1-score   support\n",
      "\n",
      "           0       0.33      0.40      0.36         5\n",
      "           1       0.12      0.20      0.15         5\n",
      "           2       0.00      0.00      0.00         5\n",
      "\n",
      "    accuracy                           0.20        15\n",
      "   macro avg       0.15      0.20      0.17        15\n",
      "weighted avg       0.15      0.20      0.17        15\n",
      "\n",
      "-------------------------------------------------------------------------------------------------------------------\n"
     ]
    },
    {
     "name": "stderr",
     "output_type": "stream",
     "text": [
      "[Parallel(n_jobs=-1)]: Done   3 out of   3 | elapsed:  1.2min finished\n",
      "[Parallel(n_jobs=-1)]: Using backend LokyBackend with 12 concurrent workers.\n"
     ]
    },
    {
     "name": "stdout",
     "output_type": "stream",
     "text": [
      "K-Fold #3\n",
      "Mean negativities for all classes: [0.3684756996253953, 0.3702130095114549, 0.38142111898373243]\n",
      "Mean entropies for all classes: [3.110676323613171e-15, 3.585414857231027e-15, 3.917619856523952e-15]\n",
      "              precision    recall  f1-score   support\n",
      "\n",
      "           0       0.60      0.60      0.60         5\n",
      "           1       0.00      0.00      0.00         5\n",
      "           2       0.00      0.00      0.00         5\n",
      "\n",
      "    accuracy                           0.20        15\n",
      "   macro avg       0.20      0.20      0.20        15\n",
      "weighted avg       0.20      0.20      0.20        15\n",
      "\n",
      "-------------------------------------------------------------------------------------------------------------------\n"
     ]
    },
    {
     "name": "stderr",
     "output_type": "stream",
     "text": [
      "[Parallel(n_jobs=-1)]: Done   3 out of   3 | elapsed:  1.2min finished\n",
      "[Parallel(n_jobs=-1)]: Using backend LokyBackend with 12 concurrent workers.\n"
     ]
    },
    {
     "name": "stdout",
     "output_type": "stream",
     "text": [
      "K-Fold #4\n",
      "Mean negativities for all classes: [0.36729483210391023, 0.3777539873865891, 0.3716563757074398]\n",
      "Mean entropies for all classes: [4.311813970842929e-15, 3.9148507229139725e-15, 3.968158071597265e-15]\n",
      "              precision    recall  f1-score   support\n",
      "\n",
      "           0       1.00      0.40      0.57         5\n",
      "           1       0.33      0.60      0.43         5\n",
      "           2       0.50      0.40      0.44         5\n",
      "\n",
      "    accuracy                           0.47        15\n",
      "   macro avg       0.61      0.47      0.48        15\n",
      "weighted avg       0.61      0.47      0.48        15\n",
      "\n",
      "-------------------------------------------------------------------------------------------------------------------\n"
     ]
    },
    {
     "name": "stderr",
     "output_type": "stream",
     "text": [
      "[Parallel(n_jobs=-1)]: Done   3 out of   3 | elapsed:  1.2min finished\n",
      "[Parallel(n_jobs=-1)]: Using backend LokyBackend with 12 concurrent workers.\n"
     ]
    },
    {
     "name": "stdout",
     "output_type": "stream",
     "text": [
      "K-Fold #5\n",
      "Mean negativities for all classes: [0.3810235934575118, 0.3842281795406019, 0.3793177153338193]\n",
      "Mean entropies for all classes: [3.1161331781818593e-15, 4.384523019165399e-15, 4.034625619798664e-15]\n",
      "              precision    recall  f1-score   support\n",
      "\n",
      "           0       0.50      0.40      0.44         5\n",
      "           1       0.33      0.60      0.43         5\n",
      "           2       0.50      0.20      0.29         5\n",
      "\n",
      "    accuracy                           0.40        15\n",
      "   macro avg       0.44      0.40      0.39        15\n",
      "weighted avg       0.44      0.40      0.39        15\n",
      "\n",
      "-------------------------------------------------------------------------------------------------------------------\n"
     ]
    },
    {
     "name": "stderr",
     "output_type": "stream",
     "text": [
      "[Parallel(n_jobs=-1)]: Done   3 out of   3 | elapsed:  1.2min finished\n",
      "[Parallel(n_jobs=-1)]: Using backend LokyBackend with 12 concurrent workers.\n"
     ]
    },
    {
     "name": "stdout",
     "output_type": "stream",
     "text": [
      "K-Fold #6\n",
      "Mean negativities for all classes: [0.38044512516839674, 0.38668595036401576, 0.3801265668624561]\n",
      "Mean entropies for all classes: [4.33495673294709e-15, 3.5983607082515034e-15, 3.700545935301687e-15]\n",
      "              precision    recall  f1-score   support\n",
      "\n",
      "           0       0.43      0.60      0.50         5\n",
      "           1       0.29      0.40      0.33         5\n",
      "           2       1.00      0.20      0.33         5\n",
      "\n",
      "    accuracy                           0.40        15\n",
      "   macro avg       0.57      0.40      0.39        15\n",
      "weighted avg       0.57      0.40      0.39        15\n",
      "\n",
      "-------------------------------------------------------------------------------------------------------------------\n"
     ]
    },
    {
     "name": "stderr",
     "output_type": "stream",
     "text": [
      "[Parallel(n_jobs=-1)]: Done   3 out of   3 | elapsed:  1.2min finished\n",
      "[Parallel(n_jobs=-1)]: Using backend LokyBackend with 12 concurrent workers.\n"
     ]
    },
    {
     "name": "stdout",
     "output_type": "stream",
     "text": [
      "K-Fold #7\n",
      "Mean negativities for all classes: [0.3614180202525057, 0.3778509934171795, 0.16788162904972026]\n",
      "Mean entropies for all classes: [3.43525645562002e-15, 3.1478202846428597e-15, 3.234711535245443e-15]\n",
      "              precision    recall  f1-score   support\n",
      "\n",
      "           0       1.00      0.20      0.33         5\n",
      "           1       0.00      0.00      0.00         5\n",
      "           2       0.38      1.00      0.56         5\n",
      "\n",
      "    accuracy                           0.40        15\n",
      "   macro avg       0.46      0.40      0.30        15\n",
      "weighted avg       0.46      0.40      0.30        15\n",
      "\n",
      "-------------------------------------------------------------------------------------------------------------------\n"
     ]
    },
    {
     "name": "stderr",
     "output_type": "stream",
     "text": [
      "[Parallel(n_jobs=-1)]: Done   3 out of   3 | elapsed:  1.2min finished\n",
      "c:\\ProgramData\\Anaconda3\\lib\\site-packages\\sklearn\\metrics\\_classification.py:1344: UndefinedMetricWarning: Precision and F-score are ill-defined and being set to 0.0 in labels with no predicted samples. Use `zero_division` parameter to control this behavior.\n",
      "  _warn_prf(average, modifier, msg_start, len(result))\n",
      "c:\\ProgramData\\Anaconda3\\lib\\site-packages\\sklearn\\metrics\\_classification.py:1344: UndefinedMetricWarning: Precision and F-score are ill-defined and being set to 0.0 in labels with no predicted samples. Use `zero_division` parameter to control this behavior.\n",
      "  _warn_prf(average, modifier, msg_start, len(result))\n",
      "c:\\ProgramData\\Anaconda3\\lib\\site-packages\\sklearn\\metrics\\_classification.py:1344: UndefinedMetricWarning: Precision and F-score are ill-defined and being set to 0.0 in labels with no predicted samples. Use `zero_division` parameter to control this behavior.\n",
      "  _warn_prf(average, modifier, msg_start, len(result))\n",
      "[Parallel(n_jobs=-1)]: Using backend LokyBackend with 12 concurrent workers.\n"
     ]
    },
    {
     "name": "stdout",
     "output_type": "stream",
     "text": [
      "K-Fold #8\n",
      "Mean negativities for all classes: [0.377633594500704, 0.37926339730138625, 0.3890469958344224]\n",
      "Mean entropies for all classes: [3.3459920641482643e-15, 2.699769705261431e-15, 3.676814976844447e-15]\n",
      "              precision    recall  f1-score   support\n",
      "\n",
      "           0       0.17      0.20      0.18         5\n",
      "           1       0.11      0.20      0.14         5\n",
      "           2       0.00      0.00      0.00         5\n",
      "\n",
      "    accuracy                           0.13        15\n",
      "   macro avg       0.09      0.13      0.11        15\n",
      "weighted avg       0.09      0.13      0.11        15\n",
      "\n",
      "-------------------------------------------------------------------------------------------------------------------\n"
     ]
    },
    {
     "name": "stderr",
     "output_type": "stream",
     "text": [
      "[Parallel(n_jobs=-1)]: Done   3 out of   3 | elapsed:  1.2min finished\n",
      "[Parallel(n_jobs=-1)]: Using backend LokyBackend with 12 concurrent workers.\n"
     ]
    },
    {
     "name": "stdout",
     "output_type": "stream",
     "text": [
      "K-Fold #9\n",
      "Mean negativities for all classes: [0.3595565049464647, 0.3799907469650118, 0.3751192941152101]\n",
      "Mean entropies for all classes: [2.9676163364434034e-15, 3.659652738792532e-15, 3.570944732249854e-15]\n",
      "              precision    recall  f1-score   support\n",
      "\n",
      "           0       0.33      0.40      0.36         5\n",
      "           1       0.00      0.00      0.00         5\n",
      "           2       0.00      0.00      0.00         5\n",
      "\n",
      "    accuracy                           0.13        15\n",
      "   macro avg       0.11      0.13      0.12        15\n",
      "weighted avg       0.11      0.13      0.12        15\n",
      "\n",
      "-------------------------------------------------------------------------------------------------------------------\n",
      "AVG: Scores = 0.2533333333333333 F1-Scores = 0.23326192326192324 Negativity = [0.37424781046495365, 0.3750001280806126, 0.3736879500448607] Entropy = [3.186436182742557e-15, 3.4310282437143756e-15, 3.799556938464961e-15]\n"
     ]
    },
    {
     "name": "stderr",
     "output_type": "stream",
     "text": [
      "[Parallel(n_jobs=-1)]: Done   3 out of   3 | elapsed:  1.2min finished\n",
      "c:\\ProgramData\\Anaconda3\\lib\\site-packages\\sklearn\\metrics\\_classification.py:1344: UndefinedMetricWarning: Precision and F-score are ill-defined and being set to 0.0 in labels with no predicted samples. Use `zero_division` parameter to control this behavior.\n",
      "  _warn_prf(average, modifier, msg_start, len(result))\n",
      "c:\\ProgramData\\Anaconda3\\lib\\site-packages\\sklearn\\metrics\\_classification.py:1344: UndefinedMetricWarning: Precision and F-score are ill-defined and being set to 0.0 in labels with no predicted samples. Use `zero_division` parameter to control this behavior.\n",
      "  _warn_prf(average, modifier, msg_start, len(result))\n",
      "c:\\ProgramData\\Anaconda3\\lib\\site-packages\\sklearn\\metrics\\_classification.py:1344: UndefinedMetricWarning: Precision and F-score are ill-defined and being set to 0.0 in labels with no predicted samples. Use `zero_division` parameter to control this behavior.\n",
      "  _warn_prf(average, modifier, msg_start, len(result))\n",
      "[Parallel(n_jobs=-1)]: Using backend LokyBackend with 12 concurrent workers.\n"
     ]
    },
    {
     "name": "stdout",
     "output_type": "stream",
     "text": [
      "K-Fold #0\n",
      "Mean negativities for all classes: [0.37081698300065324, 0.3816891630622068, 0.38748817657810347]\n",
      "Mean entropies for all classes: [3.3752053865100355e-15, 4.008964997321931e-15, 3.2415466548926362e-15]\n",
      "              precision    recall  f1-score   support\n",
      "\n",
      "           0       0.33      0.40      0.36         5\n",
      "           1       0.22      0.40      0.29         5\n",
      "           2       0.00      0.00      0.00         5\n",
      "\n",
      "    accuracy                           0.27        15\n",
      "   macro avg       0.19      0.27      0.22        15\n",
      "weighted avg       0.19      0.27      0.22        15\n",
      "\n",
      "-------------------------------------------------------------------------------------------------------------------\n"
     ]
    },
    {
     "name": "stderr",
     "output_type": "stream",
     "text": [
      "[Parallel(n_jobs=-1)]: Done   3 out of   3 | elapsed:  1.2min finished\n",
      "[Parallel(n_jobs=-1)]: Using backend LokyBackend with 12 concurrent workers.\n"
     ]
    },
    {
     "name": "stdout",
     "output_type": "stream",
     "text": [
      "K-Fold #1\n",
      "Mean negativities for all classes: [0.3508908194217794, 0.3716464675902574, 0.37864100798841854]\n",
      "Mean entropies for all classes: [4.110615900664281e-15, 3.6998507635388e-15, 2.752985051695129e-15]\n",
      "              precision    recall  f1-score   support\n",
      "\n",
      "           0       0.00      0.00      0.00         5\n",
      "           1       0.11      0.20      0.14         5\n",
      "           2       0.00      0.00      0.00         5\n",
      "\n",
      "    accuracy                           0.07        15\n",
      "   macro avg       0.04      0.07      0.05        15\n",
      "weighted avg       0.04      0.07      0.05        15\n",
      "\n",
      "-------------------------------------------------------------------------------------------------------------------\n"
     ]
    },
    {
     "name": "stderr",
     "output_type": "stream",
     "text": [
      "[Parallel(n_jobs=-1)]: Done   3 out of   3 | elapsed:  1.2min finished\n",
      "[Parallel(n_jobs=-1)]: Using backend LokyBackend with 12 concurrent workers.\n"
     ]
    },
    {
     "name": "stdout",
     "output_type": "stream",
     "text": [
      "K-Fold #2\n",
      "Mean negativities for all classes: [0.3667684284971421, 0.3810145209503257, 0.37703174706247167]\n",
      "Mean entropies for all classes: [3.711521754394596e-15, 4.5900946189825504e-15, 3.146450930454096e-15]\n",
      "              precision    recall  f1-score   support\n",
      "\n",
      "           0       0.43      0.60      0.50         5\n",
      "           1       0.14      0.20      0.17         5\n",
      "           2       0.00      0.00      0.00         5\n",
      "\n",
      "    accuracy                           0.27        15\n",
      "   macro avg       0.19      0.27      0.22        15\n",
      "weighted avg       0.19      0.27      0.22        15\n",
      "\n",
      "-------------------------------------------------------------------------------------------------------------------\n"
     ]
    },
    {
     "name": "stderr",
     "output_type": "stream",
     "text": [
      "[Parallel(n_jobs=-1)]: Done   3 out of   3 | elapsed:  1.2min finished\n",
      "[Parallel(n_jobs=-1)]: Using backend LokyBackend with 12 concurrent workers.\n"
     ]
    },
    {
     "name": "stdout",
     "output_type": "stream",
     "text": [
      "K-Fold #3\n",
      "Mean negativities for all classes: [0.370698039154489, 0.3773696205116731, 0.381889291708233]\n",
      "Mean entropies for all classes: [3.2865958288897356e-15, 3.8120540342748516e-15, 2.776235164794397e-15]\n",
      "              precision    recall  f1-score   support\n",
      "\n",
      "           0       0.40      0.40      0.40         5\n",
      "           1       0.00      0.00      0.00         5\n",
      "           2       0.00      0.00      0.00         5\n",
      "\n",
      "    accuracy                           0.13        15\n",
      "   macro avg       0.13      0.13      0.13        15\n",
      "weighted avg       0.13      0.13      0.13        15\n",
      "\n",
      "-------------------------------------------------------------------------------------------------------------------\n"
     ]
    },
    {
     "name": "stderr",
     "output_type": "stream",
     "text": [
      "[Parallel(n_jobs=-1)]: Done   3 out of   3 | elapsed:  1.2min finished\n",
      "[Parallel(n_jobs=-1)]: Using backend LokyBackend with 12 concurrent workers.\n"
     ]
    },
    {
     "name": "stdout",
     "output_type": "stream",
     "text": [
      "K-Fold #4\n",
      "Mean negativities for all classes: [0.37557529824774255, 0.38774608137063143, 0.3804966890004764]\n",
      "Mean entropies for all classes: [3.4116198736009367e-15, 4.330053264388048e-15, 3.1288140225838714e-15]\n",
      "              precision    recall  f1-score   support\n",
      "\n",
      "           0       0.50      0.60      0.55         5\n",
      "           1       0.14      0.20      0.17         5\n",
      "           2       0.00      0.00      0.00         5\n",
      "\n",
      "    accuracy                           0.27        15\n",
      "   macro avg       0.21      0.27      0.24        15\n",
      "weighted avg       0.21      0.27      0.24        15\n",
      "\n",
      "-------------------------------------------------------------------------------------------------------------------\n"
     ]
    },
    {
     "name": "stderr",
     "output_type": "stream",
     "text": [
      "[Parallel(n_jobs=-1)]: Done   3 out of   3 | elapsed:  1.2min finished\n",
      "[Parallel(n_jobs=-1)]: Using backend LokyBackend with 12 concurrent workers.\n"
     ]
    },
    {
     "name": "stdout",
     "output_type": "stream",
     "text": [
      "K-Fold #5\n",
      "Mean negativities for all classes: [0.36226294558218564, 0.39196136260089876, 0.3736956940250756]\n",
      "Mean entropies for all classes: [2.7517149781739063e-15, 3.368598047406961e-15, 4.5984563164245756e-15]\n",
      "              precision    recall  f1-score   support\n",
      "\n",
      "           0       0.62      1.00      0.77         5\n",
      "           1       0.00      0.00      0.00         5\n",
      "           2       0.25      0.20      0.22         5\n",
      "\n",
      "    accuracy                           0.40        15\n",
      "   macro avg       0.29      0.40      0.33        15\n",
      "weighted avg       0.29      0.40      0.33        15\n",
      "\n",
      "-------------------------------------------------------------------------------------------------------------------\n"
     ]
    },
    {
     "name": "stderr",
     "output_type": "stream",
     "text": [
      "[Parallel(n_jobs=-1)]: Done   3 out of   3 | elapsed:  1.2min finished\n",
      "[Parallel(n_jobs=-1)]: Using backend LokyBackend with 12 concurrent workers.\n"
     ]
    },
    {
     "name": "stdout",
     "output_type": "stream",
     "text": [
      "K-Fold #6\n",
      "Mean negativities for all classes: [0.36093471026777124, 0.38097165647430487, 0.38041279927696914]\n",
      "Mean entropies for all classes: [3.884784306108841e-15, 4.048660298120327e-15, 3.5320335587922805e-15]\n",
      "              precision    recall  f1-score   support\n",
      "\n",
      "           0       0.60      0.60      0.60         5\n",
      "           1       0.29      0.40      0.33         5\n",
      "           2       0.33      0.20      0.25         5\n",
      "\n",
      "    accuracy                           0.40        15\n",
      "   macro avg       0.41      0.40      0.39        15\n",
      "weighted avg       0.41      0.40      0.39        15\n",
      "\n",
      "-------------------------------------------------------------------------------------------------------------------\n"
     ]
    },
    {
     "name": "stderr",
     "output_type": "stream",
     "text": [
      "[Parallel(n_jobs=-1)]: Done   3 out of   3 | elapsed:  1.2min finished\n",
      "c:\\ProgramData\\Anaconda3\\lib\\site-packages\\sklearn\\metrics\\_classification.py:1344: UndefinedMetricWarning: Precision and F-score are ill-defined and being set to 0.0 in labels with no predicted samples. Use `zero_division` parameter to control this behavior.\n",
      "  _warn_prf(average, modifier, msg_start, len(result))\n",
      "c:\\ProgramData\\Anaconda3\\lib\\site-packages\\sklearn\\metrics\\_classification.py:1344: UndefinedMetricWarning: Precision and F-score are ill-defined and being set to 0.0 in labels with no predicted samples. Use `zero_division` parameter to control this behavior.\n",
      "  _warn_prf(average, modifier, msg_start, len(result))\n",
      "c:\\ProgramData\\Anaconda3\\lib\\site-packages\\sklearn\\metrics\\_classification.py:1344: UndefinedMetricWarning: Precision and F-score are ill-defined and being set to 0.0 in labels with no predicted samples. Use `zero_division` parameter to control this behavior.\n",
      "  _warn_prf(average, modifier, msg_start, len(result))\n",
      "[Parallel(n_jobs=-1)]: Using backend LokyBackend with 12 concurrent workers.\n"
     ]
    },
    {
     "name": "stdout",
     "output_type": "stream",
     "text": [
      "K-Fold #7\n",
      "Mean negativities for all classes: [0.3673518645629225, 0.3757538834524797, 0.3914454699670787]\n",
      "Mean entropies for all classes: [4.419006204182324e-15, 4.160107709197912e-15, 3.92862688902037e-15]\n",
      "              precision    recall  f1-score   support\n",
      "\n",
      "           0       0.17      0.20      0.18         5\n",
      "           1       0.11      0.20      0.14         5\n",
      "           2       0.00      0.00      0.00         5\n",
      "\n",
      "    accuracy                           0.13        15\n",
      "   macro avg       0.09      0.13      0.11        15\n",
      "weighted avg       0.09      0.13      0.11        15\n",
      "\n",
      "-------------------------------------------------------------------------------------------------------------------\n"
     ]
    },
    {
     "name": "stderr",
     "output_type": "stream",
     "text": [
      "[Parallel(n_jobs=-1)]: Done   3 out of   3 | elapsed:  1.2min finished\n",
      "[Parallel(n_jobs=-1)]: Using backend LokyBackend with 12 concurrent workers.\n"
     ]
    },
    {
     "name": "stdout",
     "output_type": "stream",
     "text": [
      "K-Fold #8\n",
      "Mean negativities for all classes: [0.37105779839935216, 0.3821389905616442, 0.3883233836931293]\n",
      "Mean entropies for all classes: [3.485873819036065e-15, 3.8494597579703414e-15, 3.2079179032989116e-15]\n",
      "              precision    recall  f1-score   support\n",
      "\n",
      "           0       0.60      0.60      0.60         5\n",
      "           1       0.22      0.40      0.29         5\n",
      "           2       0.00      0.00      0.00         5\n",
      "\n",
      "    accuracy                           0.33        15\n",
      "   macro avg       0.27      0.33      0.30        15\n",
      "weighted avg       0.27      0.33      0.30        15\n",
      "\n",
      "-------------------------------------------------------------------------------------------------------------------\n"
     ]
    },
    {
     "name": "stderr",
     "output_type": "stream",
     "text": [
      "[Parallel(n_jobs=-1)]: Done   3 out of   3 | elapsed:  1.2min finished\n",
      "c:\\ProgramData\\Anaconda3\\lib\\site-packages\\sklearn\\metrics\\_classification.py:1344: UndefinedMetricWarning: Precision and F-score are ill-defined and being set to 0.0 in labels with no predicted samples. Use `zero_division` parameter to control this behavior.\n",
      "  _warn_prf(average, modifier, msg_start, len(result))\n",
      "c:\\ProgramData\\Anaconda3\\lib\\site-packages\\sklearn\\metrics\\_classification.py:1344: UndefinedMetricWarning: Precision and F-score are ill-defined and being set to 0.0 in labels with no predicted samples. Use `zero_division` parameter to control this behavior.\n",
      "  _warn_prf(average, modifier, msg_start, len(result))\n",
      "c:\\ProgramData\\Anaconda3\\lib\\site-packages\\sklearn\\metrics\\_classification.py:1344: UndefinedMetricWarning: Precision and F-score are ill-defined and being set to 0.0 in labels with no predicted samples. Use `zero_division` parameter to control this behavior.\n",
      "  _warn_prf(average, modifier, msg_start, len(result))\n",
      "[Parallel(n_jobs=-1)]: Using backend LokyBackend with 12 concurrent workers.\n"
     ]
    },
    {
     "name": "stdout",
     "output_type": "stream",
     "text": [
      "K-Fold #9\n",
      "Mean negativities for all classes: [0.3646505503735528, 0.38266138545940775, 0.38668045728985095]\n",
      "Mean entropies for all classes: [3.832348226721071e-15, 3.474406908376008e-15, 3.0949012934462028e-15]\n",
      "              precision    recall  f1-score   support\n",
      "\n",
      "           0       0.25      0.40      0.31         5\n",
      "           1       0.00      0.00      0.00         5\n",
      "           2       0.00      0.00      0.00         5\n",
      "\n",
      "    accuracy                           0.13        15\n",
      "   macro avg       0.08      0.13      0.10        15\n",
      "weighted avg       0.08      0.13      0.10        15\n",
      "\n",
      "-------------------------------------------------------------------------------------------------------------------\n",
      "AVG: Scores = 0.24000000000000005 F1-Scores = 0.2087954637954638 Negativity = [0.3799981075469878, 0.3670594316668185, 0.37493823216997973] Entropy = [3.541905679574868e-15, 3.52115057196607e-15, 3.816022434610414e-15]\n"
     ]
    },
    {
     "name": "stderr",
     "output_type": "stream",
     "text": [
      "[Parallel(n_jobs=-1)]: Done   3 out of   3 | elapsed:  1.2min finished\n",
      "c:\\ProgramData\\Anaconda3\\lib\\site-packages\\sklearn\\metrics\\_classification.py:1344: UndefinedMetricWarning: Precision and F-score are ill-defined and being set to 0.0 in labels with no predicted samples. Use `zero_division` parameter to control this behavior.\n",
      "  _warn_prf(average, modifier, msg_start, len(result))\n",
      "c:\\ProgramData\\Anaconda3\\lib\\site-packages\\sklearn\\metrics\\_classification.py:1344: UndefinedMetricWarning: Precision and F-score are ill-defined and being set to 0.0 in labels with no predicted samples. Use `zero_division` parameter to control this behavior.\n",
      "  _warn_prf(average, modifier, msg_start, len(result))\n",
      "c:\\ProgramData\\Anaconda3\\lib\\site-packages\\sklearn\\metrics\\_classification.py:1344: UndefinedMetricWarning: Precision and F-score are ill-defined and being set to 0.0 in labels with no predicted samples. Use `zero_division` parameter to control this behavior.\n",
      "  _warn_prf(average, modifier, msg_start, len(result))\n",
      "[Parallel(n_jobs=-1)]: Using backend LokyBackend with 12 concurrent workers.\n"
     ]
    },
    {
     "name": "stdout",
     "output_type": "stream",
     "text": [
      "K-Fold #0\n",
      "Mean negativities for all classes: [0.35728227912306926, 0.3761922121990056, 0.3892555658687364]\n",
      "Mean entropies for all classes: [3.892074640473727e-15, 3.1856394713930585e-15, 3.886377217112856e-15]\n",
      "              precision    recall  f1-score   support\n",
      "\n",
      "           0       0.25      0.40      0.31         5\n",
      "           1       0.00      0.00      0.00         5\n",
      "           2       0.00      0.00      0.00         5\n",
      "\n",
      "    accuracy                           0.13        15\n",
      "   macro avg       0.08      0.13      0.10        15\n",
      "weighted avg       0.08      0.13      0.10        15\n",
      "\n",
      "-------------------------------------------------------------------------------------------------------------------\n"
     ]
    },
    {
     "name": "stderr",
     "output_type": "stream",
     "text": [
      "[Parallel(n_jobs=-1)]: Done   3 out of   3 | elapsed:  1.2min finished\n",
      "c:\\ProgramData\\Anaconda3\\lib\\site-packages\\sklearn\\metrics\\_classification.py:1344: UndefinedMetricWarning: Precision and F-score are ill-defined and being set to 0.0 in labels with no predicted samples. Use `zero_division` parameter to control this behavior.\n",
      "  _warn_prf(average, modifier, msg_start, len(result))\n",
      "c:\\ProgramData\\Anaconda3\\lib\\site-packages\\sklearn\\metrics\\_classification.py:1344: UndefinedMetricWarning: Precision and F-score are ill-defined and being set to 0.0 in labels with no predicted samples. Use `zero_division` parameter to control this behavior.\n",
      "  _warn_prf(average, modifier, msg_start, len(result))\n",
      "c:\\ProgramData\\Anaconda3\\lib\\site-packages\\sklearn\\metrics\\_classification.py:1344: UndefinedMetricWarning: Precision and F-score are ill-defined and being set to 0.0 in labels with no predicted samples. Use `zero_division` parameter to control this behavior.\n",
      "  _warn_prf(average, modifier, msg_start, len(result))\n",
      "[Parallel(n_jobs=-1)]: Using backend LokyBackend with 12 concurrent workers.\n"
     ]
    },
    {
     "name": "stdout",
     "output_type": "stream",
     "text": [
      "K-Fold #1\n",
      "Mean negativities for all classes: [0.3670064970442486, 0.37579646874546385, 0.386524583798381]\n",
      "Mean entropies for all classes: [3.227835356965625e-15, 3.3897990085419225e-15, 3.61675467646625e-15]\n",
      "              precision    recall  f1-score   support\n",
      "\n",
      "           0       0.14      0.20      0.17         5\n",
      "           1       0.00      0.00      0.00         5\n",
      "           2       0.00      0.00      0.00         5\n",
      "\n",
      "    accuracy                           0.07        15\n",
      "   macro avg       0.05      0.07      0.06        15\n",
      "weighted avg       0.05      0.07      0.06        15\n",
      "\n",
      "-------------------------------------------------------------------------------------------------------------------\n"
     ]
    },
    {
     "name": "stderr",
     "output_type": "stream",
     "text": [
      "[Parallel(n_jobs=-1)]: Done   3 out of   3 | elapsed:  1.2min finished\n",
      "[Parallel(n_jobs=-1)]: Using backend LokyBackend with 12 concurrent workers.\n"
     ]
    },
    {
     "name": "stdout",
     "output_type": "stream",
     "text": [
      "K-Fold #2\n",
      "Mean negativities for all classes: [0.36761876701783763, 0.3806124457876983, 0.3850556642266269]\n",
      "Mean entropies for all classes: [3.540982731394257e-15, 3.631492576042097e-15, 3.909466850434909e-15]\n",
      "              precision    recall  f1-score   support\n",
      "\n",
      "           0       0.33      0.40      0.36         5\n",
      "           1       0.25      0.40      0.31         5\n",
      "           2       1.00      0.20      0.33         5\n",
      "\n",
      "    accuracy                           0.33        15\n",
      "   macro avg       0.53      0.33      0.33        15\n",
      "weighted avg       0.53      0.33      0.33        15\n",
      "\n",
      "-------------------------------------------------------------------------------------------------------------------\n"
     ]
    },
    {
     "name": "stderr",
     "output_type": "stream",
     "text": [
      "[Parallel(n_jobs=-1)]: Done   3 out of   3 | elapsed:  1.2min finished\n",
      "[Parallel(n_jobs=-1)]: Using backend LokyBackend with 12 concurrent workers.\n"
     ]
    },
    {
     "name": "stdout",
     "output_type": "stream",
     "text": [
      "K-Fold #3\n",
      "Mean negativities for all classes: [0.3684427851580753, 0.3858084375827791, 0.37805633897642527]\n",
      "Mean entropies for all classes: [4.068819786668509e-15, 4.081771086047992e-15, 4.059953982125679e-15]\n",
      "              precision    recall  f1-score   support\n",
      "\n",
      "           0       0.50      0.60      0.55         5\n",
      "           1       0.14      0.20      0.17         5\n",
      "           2       0.00      0.00      0.00         5\n",
      "\n",
      "    accuracy                           0.27        15\n",
      "   macro avg       0.21      0.27      0.24        15\n",
      "weighted avg       0.21      0.27      0.24        15\n",
      "\n",
      "-------------------------------------------------------------------------------------------------------------------\n"
     ]
    },
    {
     "name": "stderr",
     "output_type": "stream",
     "text": [
      "[Parallel(n_jobs=-1)]: Done   3 out of   3 | elapsed:  1.2min finished\n",
      "[Parallel(n_jobs=-1)]: Using backend LokyBackend with 12 concurrent workers.\n"
     ]
    },
    {
     "name": "stdout",
     "output_type": "stream",
     "text": [
      "K-Fold #4\n",
      "Mean negativities for all classes: [0.3676479968414093, 0.3900852751011926, 0.37378771807915034]\n",
      "Mean entropies for all classes: [3.367867236632685e-15, 3.931615183310721e-15, 3.261796744200418e-15]\n",
      "              precision    recall  f1-score   support\n",
      "\n",
      "           0       0.60      0.60      0.60         5\n",
      "           1       0.25      0.40      0.31         5\n",
      "           2       0.50      0.20      0.29         5\n",
      "\n",
      "    accuracy                           0.40        15\n",
      "   macro avg       0.45      0.40      0.40        15\n",
      "weighted avg       0.45      0.40      0.40        15\n",
      "\n",
      "-------------------------------------------------------------------------------------------------------------------\n"
     ]
    },
    {
     "name": "stderr",
     "output_type": "stream",
     "text": [
      "[Parallel(n_jobs=-1)]: Done   3 out of   3 | elapsed:  1.2min finished\n",
      "[Parallel(n_jobs=-1)]: Using backend LokyBackend with 12 concurrent workers.\n"
     ]
    },
    {
     "name": "stdout",
     "output_type": "stream",
     "text": [
      "K-Fold #5\n",
      "Mean negativities for all classes: [0.36815596883516793, 0.3884505868991663, 0.3817075410436378]\n",
      "Mean entropies for all classes: [3.885134157904637e-15, 3.534806957519422e-15, 3.183152899978329e-15]\n",
      "              precision    recall  f1-score   support\n",
      "\n",
      "           0       0.50      0.80      0.62         5\n",
      "           1       0.17      0.20      0.18         5\n",
      "           2       0.00      0.00      0.00         5\n",
      "\n",
      "    accuracy                           0.33        15\n",
      "   macro avg       0.22      0.33      0.27        15\n",
      "weighted avg       0.22      0.33      0.27        15\n",
      "\n",
      "-------------------------------------------------------------------------------------------------------------------\n"
     ]
    },
    {
     "name": "stderr",
     "output_type": "stream",
     "text": [
      "[Parallel(n_jobs=-1)]: Done   3 out of   3 | elapsed:  1.2min finished\n",
      "[Parallel(n_jobs=-1)]: Using backend LokyBackend with 12 concurrent workers.\n"
     ]
    },
    {
     "name": "stdout",
     "output_type": "stream",
     "text": [
      "K-Fold #6\n",
      "Mean negativities for all classes: [0.36116330804397345, 0.3850335054007364, 0.3741561328511721]\n",
      "Mean entropies for all classes: [4.106718486907425e-15, 3.584735006339732e-15, 3.1444388464794795e-15]\n",
      "              precision    recall  f1-score   support\n",
      "\n",
      "           0       0.33      0.40      0.36         5\n",
      "           1       0.00      0.00      0.00         5\n",
      "           2       0.00      0.00      0.00         5\n",
      "\n",
      "    accuracy                           0.13        15\n",
      "   macro avg       0.11      0.13      0.12        15\n",
      "weighted avg       0.11      0.13      0.12        15\n",
      "\n",
      "-------------------------------------------------------------------------------------------------------------------\n"
     ]
    },
    {
     "name": "stderr",
     "output_type": "stream",
     "text": [
      "[Parallel(n_jobs=-1)]: Done   3 out of   3 | elapsed:  1.2min finished\n",
      "[Parallel(n_jobs=-1)]: Using backend LokyBackend with 12 concurrent workers.\n"
     ]
    },
    {
     "name": "stdout",
     "output_type": "stream",
     "text": [
      "K-Fold #7\n",
      "Mean negativities for all classes: [0.35507735231763643, 0.3781325592649869, 0.3853543308690858]\n",
      "Mean entropies for all classes: [3.9769168928999526e-15, 3.9224174778694666e-15, 3.686660389196877e-15]\n",
      "              precision    recall  f1-score   support\n",
      "\n",
      "           0       0.33      0.40      0.36         5\n",
      "           1       0.14      0.20      0.17         5\n",
      "           2       0.50      0.20      0.29         5\n",
      "\n",
      "    accuracy                           0.27        15\n",
      "   macro avg       0.33      0.27      0.27        15\n",
      "weighted avg       0.33      0.27      0.27        15\n",
      "\n",
      "-------------------------------------------------------------------------------------------------------------------\n"
     ]
    },
    {
     "name": "stderr",
     "output_type": "stream",
     "text": [
      "[Parallel(n_jobs=-1)]: Done   3 out of   3 | elapsed:  1.2min finished\n",
      "c:\\ProgramData\\Anaconda3\\lib\\site-packages\\sklearn\\metrics\\_classification.py:1344: UndefinedMetricWarning: Precision and F-score are ill-defined and being set to 0.0 in labels with no predicted samples. Use `zero_division` parameter to control this behavior.\n",
      "  _warn_prf(average, modifier, msg_start, len(result))\n",
      "c:\\ProgramData\\Anaconda3\\lib\\site-packages\\sklearn\\metrics\\_classification.py:1344: UndefinedMetricWarning: Precision and F-score are ill-defined and being set to 0.0 in labels with no predicted samples. Use `zero_division` parameter to control this behavior.\n",
      "  _warn_prf(average, modifier, msg_start, len(result))\n",
      "c:\\ProgramData\\Anaconda3\\lib\\site-packages\\sklearn\\metrics\\_classification.py:1344: UndefinedMetricWarning: Precision and F-score are ill-defined and being set to 0.0 in labels with no predicted samples. Use `zero_division` parameter to control this behavior.\n",
      "  _warn_prf(average, modifier, msg_start, len(result))\n",
      "[Parallel(n_jobs=-1)]: Using backend LokyBackend with 12 concurrent workers.\n"
     ]
    },
    {
     "name": "stdout",
     "output_type": "stream",
     "text": [
      "K-Fold #8\n",
      "Mean negativities for all classes: [0.3735651798459435, 0.37306648456024855, 0.38490208037688445]\n",
      "Mean entropies for all classes: [3.1684173950959724e-15, 2.7941321660315424e-15, 3.1842900527851455e-15]\n",
      "              precision    recall  f1-score   support\n",
      "\n",
      "           0       0.20      0.20      0.20         5\n",
      "           1       0.10      0.20      0.13         5\n",
      "           2       0.00      0.00      0.00         5\n",
      "\n",
      "    accuracy                           0.13        15\n",
      "   macro avg       0.10      0.13      0.11        15\n",
      "weighted avg       0.10      0.13      0.11        15\n",
      "\n",
      "-------------------------------------------------------------------------------------------------------------------\n"
     ]
    },
    {
     "name": "stderr",
     "output_type": "stream",
     "text": [
      "[Parallel(n_jobs=-1)]: Done   3 out of   3 | elapsed:  1.2min finished\n",
      "[Parallel(n_jobs=-1)]: Using backend LokyBackend with 12 concurrent workers.\n"
     ]
    },
    {
     "name": "stdout",
     "output_type": "stream",
     "text": [
      "K-Fold #9\n",
      "Mean negativities for all classes: [0.3793030953667413, 0.3868776198159721, 0.38421905841957077]\n",
      "Mean entropies for all classes: [3.100195144709272e-15, 3.952951108142046e-15, 3.5322021757719443e-15]\n",
      "              precision    recall  f1-score   support\n",
      "\n",
      "           0       0.40      0.40      0.40         5\n",
      "           1       0.00      0.00      0.00         5\n",
      "           2       0.33      0.20      0.25         5\n",
      "\n",
      "    accuracy                           0.20        15\n",
      "   macro avg       0.24      0.20      0.22        15\n",
      "weighted avg       0.24      0.20      0.22        15\n",
      "\n",
      "-------------------------------------------------------------------------------------------------------------------\n",
      "AVG: Scores = 0.2266666666666667 F1-Scores = 0.2114912864912865 Negativity = [0.37424335239693707, 0.3764425165293645, 0.3777622923440543] Entropy = [3.654697109659881e-15, 3.4114630139912653e-15, 3.693980719290421e-15]\n"
     ]
    },
    {
     "name": "stderr",
     "output_type": "stream",
     "text": [
      "[Parallel(n_jobs=-1)]: Done   3 out of   3 | elapsed:  1.2min finished\n",
      "[Parallel(n_jobs=-1)]: Using backend LokyBackend with 12 concurrent workers.\n"
     ]
    },
    {
     "name": "stdout",
     "output_type": "stream",
     "text": [
      "K-Fold #0\n",
      "Mean negativities for all classes: [0.3625921181484269, 0.3827084523431746, 0.3795055343903368]\n",
      "Mean entropies for all classes: [3.504866025266979e-15, 5.277119607446015e-15, 3.329614598614323e-15]\n",
      "              precision    recall  f1-score   support\n",
      "\n",
      "           0       0.50      0.60      0.55         5\n",
      "           1       0.20      0.20      0.20         5\n",
      "           2       0.50      0.40      0.44         5\n",
      "\n",
      "    accuracy                           0.40        15\n",
      "   macro avg       0.40      0.40      0.40        15\n",
      "weighted avg       0.40      0.40      0.40        15\n",
      "\n",
      "-------------------------------------------------------------------------------------------------------------------\n"
     ]
    },
    {
     "name": "stderr",
     "output_type": "stream",
     "text": [
      "[Parallel(n_jobs=-1)]: Done   3 out of   3 | elapsed:  1.2min finished\n",
      "[Parallel(n_jobs=-1)]: Using backend LokyBackend with 12 concurrent workers.\n"
     ]
    },
    {
     "name": "stdout",
     "output_type": "stream",
     "text": [
      "K-Fold #1\n",
      "Mean negativities for all classes: [0.35469902204141335, 0.37525794928697115, 0.37860906417220563]\n",
      "Mean entropies for all classes: [2.882627295980794e-15, 3.439986530933176e-15, 3.030782419447945e-15]\n",
      "              precision    recall  f1-score   support\n",
      "\n",
      "           0       0.80      0.80      0.80         5\n",
      "           1       0.14      0.20      0.17         5\n",
      "           2       0.00      0.00      0.00         5\n",
      "\n",
      "    accuracy                           0.33        15\n",
      "   macro avg       0.31      0.33      0.32        15\n",
      "weighted avg       0.31      0.33      0.32        15\n",
      "\n",
      "-------------------------------------------------------------------------------------------------------------------\n"
     ]
    },
    {
     "name": "stderr",
     "output_type": "stream",
     "text": [
      "[Parallel(n_jobs=-1)]: Done   3 out of   3 | elapsed:  1.2min finished\n",
      "c:\\ProgramData\\Anaconda3\\lib\\site-packages\\sklearn\\metrics\\_classification.py:1344: UndefinedMetricWarning: Precision and F-score are ill-defined and being set to 0.0 in labels with no predicted samples. Use `zero_division` parameter to control this behavior.\n",
      "  _warn_prf(average, modifier, msg_start, len(result))\n",
      "c:\\ProgramData\\Anaconda3\\lib\\site-packages\\sklearn\\metrics\\_classification.py:1344: UndefinedMetricWarning: Precision and F-score are ill-defined and being set to 0.0 in labels with no predicted samples. Use `zero_division` parameter to control this behavior.\n",
      "  _warn_prf(average, modifier, msg_start, len(result))\n",
      "c:\\ProgramData\\Anaconda3\\lib\\site-packages\\sklearn\\metrics\\_classification.py:1344: UndefinedMetricWarning: Precision and F-score are ill-defined and being set to 0.0 in labels with no predicted samples. Use `zero_division` parameter to control this behavior.\n",
      "  _warn_prf(average, modifier, msg_start, len(result))\n",
      "[Parallel(n_jobs=-1)]: Using backend LokyBackend with 12 concurrent workers.\n"
     ]
    },
    {
     "name": "stdout",
     "output_type": "stream",
     "text": [
      "K-Fold #2\n",
      "Mean negativities for all classes: [0.36874891878550714, 0.3660878725344213, 0.386896973275209]\n",
      "Mean entropies for all classes: [4.1601799605130914e-15, 3.8540759622951266e-15, 3.5085133857209953e-15]\n",
      "              precision    recall  f1-score   support\n",
      "\n",
      "           0       0.33      0.40      0.36         5\n",
      "           1       0.11      0.20      0.14         5\n",
      "           2       0.00      0.00      0.00         5\n",
      "\n",
      "    accuracy                           0.20        15\n",
      "   macro avg       0.15      0.20      0.17        15\n",
      "weighted avg       0.15      0.20      0.17        15\n",
      "\n",
      "-------------------------------------------------------------------------------------------------------------------\n"
     ]
    },
    {
     "name": "stderr",
     "output_type": "stream",
     "text": [
      "[Parallel(n_jobs=-1)]: Done   3 out of   3 | elapsed:  1.2min finished\n",
      "[Parallel(n_jobs=-1)]: Using backend LokyBackend with 12 concurrent workers.\n"
     ]
    },
    {
     "name": "stdout",
     "output_type": "stream",
     "text": [
      "K-Fold #3\n",
      "Mean negativities for all classes: [0.3552066355847777, 0.3872337836946684, 0.37600785926302915]\n",
      "Mean entropies for all classes: [4.196795767590198e-15, 3.555728569623392e-15, 3.7473462020818145e-15]\n",
      "              precision    recall  f1-score   support\n",
      "\n",
      "           0       0.33      0.60      0.43         5\n",
      "           1       0.00      0.00      0.00         5\n",
      "           2       0.50      0.20      0.29         5\n",
      "\n",
      "    accuracy                           0.27        15\n",
      "   macro avg       0.28      0.27      0.24        15\n",
      "weighted avg       0.28      0.27      0.24        15\n",
      "\n",
      "-------------------------------------------------------------------------------------------------------------------\n"
     ]
    },
    {
     "name": "stderr",
     "output_type": "stream",
     "text": [
      "[Parallel(n_jobs=-1)]: Done   3 out of   3 | elapsed:  1.2min finished\n",
      "[Parallel(n_jobs=-1)]: Using backend LokyBackend with 12 concurrent workers.\n"
     ]
    },
    {
     "name": "stdout",
     "output_type": "stream",
     "text": [
      "K-Fold #4\n",
      "Mean negativities for all classes: [0.37153405870032014, 0.3802823453396472, 0.3843726202598207]\n",
      "Mean entropies for all classes: [2.1857496900796885e-15, 3.4367662777310265e-15, 3.0895138960747883e-15]\n",
      "              precision    recall  f1-score   support\n",
      "\n",
      "           0       0.40      0.40      0.40         5\n",
      "           1       0.11      0.20      0.14         5\n",
      "           2       0.00      0.00      0.00         5\n",
      "\n",
      "    accuracy                           0.20        15\n",
      "   macro avg       0.17      0.20      0.18        15\n",
      "weighted avg       0.17      0.20      0.18        15\n",
      "\n",
      "-------------------------------------------------------------------------------------------------------------------\n"
     ]
    },
    {
     "name": "stderr",
     "output_type": "stream",
     "text": [
      "[Parallel(n_jobs=-1)]: Done   3 out of   3 | elapsed:  1.2min finished\n",
      "[Parallel(n_jobs=-1)]: Using backend LokyBackend with 12 concurrent workers.\n"
     ]
    },
    {
     "name": "stdout",
     "output_type": "stream",
     "text": [
      "K-Fold #5\n",
      "Mean negativities for all classes: [0.37562001835894926, 0.388421335533039, 0.3837281024171315]\n",
      "Mean entropies for all classes: [3.376238368502015e-15, 3.795320853036962e-15, 2.6890748877895546e-15]\n",
      "              precision    recall  f1-score   support\n",
      "\n",
      "           0       0.29      0.40      0.33         5\n",
      "           1       0.00      0.00      0.00         5\n",
      "           2       0.00      0.00      0.00         5\n",
      "\n",
      "    accuracy                           0.13        15\n",
      "   macro avg       0.10      0.13      0.11        15\n",
      "weighted avg       0.10      0.13      0.11        15\n",
      "\n",
      "-------------------------------------------------------------------------------------------------------------------\n"
     ]
    },
    {
     "name": "stderr",
     "output_type": "stream",
     "text": [
      "[Parallel(n_jobs=-1)]: Done   3 out of   3 | elapsed:  1.2min finished\n",
      "[Parallel(n_jobs=-1)]: Using backend LokyBackend with 12 concurrent workers.\n"
     ]
    },
    {
     "name": "stdout",
     "output_type": "stream",
     "text": [
      "K-Fold #6\n",
      "Mean negativities for all classes: [0.3706394195662714, 0.3843121572989432, 0.3776587553088299]\n",
      "Mean entropies for all classes: [4.431369241636624e-15, 3.295563835895735e-15, 4.430232768208985e-15]\n",
      "              precision    recall  f1-score   support\n",
      "\n",
      "           0       0.29      0.40      0.33         5\n",
      "           1       0.00      0.00      0.00         5\n",
      "           2       0.33      0.20      0.25         5\n",
      "\n",
      "    accuracy                           0.20        15\n",
      "   macro avg       0.21      0.20      0.19        15\n",
      "weighted avg       0.21      0.20      0.19        15\n",
      "\n",
      "-------------------------------------------------------------------------------------------------------------------\n"
     ]
    },
    {
     "name": "stderr",
     "output_type": "stream",
     "text": [
      "[Parallel(n_jobs=-1)]: Done   3 out of   3 | elapsed:  1.2min finished\n",
      "[Parallel(n_jobs=-1)]: Using backend LokyBackend with 12 concurrent workers.\n"
     ]
    },
    {
     "name": "stdout",
     "output_type": "stream",
     "text": [
      "K-Fold #7\n",
      "Mean negativities for all classes: [0.36392934817995487, 0.37975781057242713, 0.37966222822525747]\n",
      "Mean entropies for all classes: [3.52927410752301e-15, 3.0880083940612924e-15, 3.763532922815888e-15]\n",
      "              precision    recall  f1-score   support\n",
      "\n",
      "           0       0.40      0.40      0.40         5\n",
      "           1       0.22      0.40      0.29         5\n",
      "           2       0.00      0.00      0.00         5\n",
      "\n",
      "    accuracy                           0.27        15\n",
      "   macro avg       0.21      0.27      0.23        15\n",
      "weighted avg       0.21      0.27      0.23        15\n",
      "\n",
      "-------------------------------------------------------------------------------------------------------------------\n"
     ]
    },
    {
     "name": "stderr",
     "output_type": "stream",
     "text": [
      "[Parallel(n_jobs=-1)]: Done   3 out of   3 | elapsed:  1.2min finished\n",
      "[Parallel(n_jobs=-1)]: Using backend LokyBackend with 12 concurrent workers.\n"
     ]
    },
    {
     "name": "stdout",
     "output_type": "stream",
     "text": [
      "K-Fold #8\n",
      "Mean negativities for all classes: [0.38031282562813457, 0.3767563292580539, 0.38871126680231466]\n",
      "Mean entropies for all classes: [3.296538642713491e-15, 3.7249626288102455e-15, 3.8125590747521225e-15]\n",
      "              precision    recall  f1-score   support\n",
      "\n",
      "           0       0.20      0.20      0.20         5\n",
      "           1       0.11      0.20      0.14         5\n",
      "           2       0.00      0.00      0.00         5\n",
      "\n",
      "    accuracy                           0.13        15\n",
      "   macro avg       0.10      0.13      0.11        15\n",
      "weighted avg       0.10      0.13      0.11        15\n",
      "\n",
      "-------------------------------------------------------------------------------------------------------------------\n"
     ]
    },
    {
     "name": "stderr",
     "output_type": "stream",
     "text": [
      "[Parallel(n_jobs=-1)]: Done   3 out of   3 | elapsed:  1.2min finished\n",
      "[Parallel(n_jobs=-1)]: Using backend LokyBackend with 12 concurrent workers.\n"
     ]
    },
    {
     "name": "stdout",
     "output_type": "stream",
     "text": [
      "K-Fold #9\n",
      "Mean negativities for all classes: [0.3693077231329396, 0.3833890077438337, 0.39043079470672065]\n",
      "Mean entropies for all classes: [3.708203852011525e-15, 4.466903194321186e-15, 3.476699724480612e-15]\n",
      "              precision    recall  f1-score   support\n",
      "\n",
      "           0       0.60      0.60      0.60         5\n",
      "           1       0.22      0.40      0.29         5\n",
      "           2       0.00      0.00      0.00         5\n",
      "\n",
      "    accuracy                           0.33        15\n",
      "   macro avg       0.27      0.33      0.30        15\n",
      "weighted avg       0.27      0.33      0.30        15\n",
      "\n",
      "-------------------------------------------------------------------------------------------------------------------\n",
      "AVG: Scores = 0.24666666666666667 F1-Scores = 0.22503848003848 Negativity = [0.3749353682939794, 0.36952201183353006, 0.37391125486504584] Entropy = [4.037200077109106e-15, 3.1177987487873048e-15, 3.840923102843071e-15]\n"
     ]
    },
    {
     "name": "stderr",
     "output_type": "stream",
     "text": [
      "[Parallel(n_jobs=-1)]: Done   3 out of   3 | elapsed:  1.2min finished\n",
      "c:\\ProgramData\\Anaconda3\\lib\\site-packages\\sklearn\\metrics\\_classification.py:1344: UndefinedMetricWarning: Precision and F-score are ill-defined and being set to 0.0 in labels with no predicted samples. Use `zero_division` parameter to control this behavior.\n",
      "  _warn_prf(average, modifier, msg_start, len(result))\n",
      "c:\\ProgramData\\Anaconda3\\lib\\site-packages\\sklearn\\metrics\\_classification.py:1344: UndefinedMetricWarning: Precision and F-score are ill-defined and being set to 0.0 in labels with no predicted samples. Use `zero_division` parameter to control this behavior.\n",
      "  _warn_prf(average, modifier, msg_start, len(result))\n",
      "c:\\ProgramData\\Anaconda3\\lib\\site-packages\\sklearn\\metrics\\_classification.py:1344: UndefinedMetricWarning: Precision and F-score are ill-defined and being set to 0.0 in labels with no predicted samples. Use `zero_division` parameter to control this behavior.\n",
      "  _warn_prf(average, modifier, msg_start, len(result))\n",
      "[Parallel(n_jobs=-1)]: Using backend LokyBackend with 12 concurrent workers.\n"
     ]
    },
    {
     "name": "stdout",
     "output_type": "stream",
     "text": [
      "K-Fold #0\n",
      "Mean negativities for all classes: [0.3715228072137491, 0.37974315981972784, 0.3823808117576017]\n",
      "Mean entropies for all classes: [3.711613892532712e-15, 3.6544306257573715e-15, 4.063282816617322e-15]\n",
      "              precision    recall  f1-score   support\n",
      "\n",
      "           0       0.43      0.60      0.50         5\n",
      "           1       0.12      0.20      0.15         5\n",
      "           2       0.00      0.00      0.00         5\n",
      "\n",
      "    accuracy                           0.27        15\n",
      "   macro avg       0.18      0.27      0.22        15\n",
      "weighted avg       0.18      0.27      0.22        15\n",
      "\n",
      "-------------------------------------------------------------------------------------------------------------------\n"
     ]
    },
    {
     "name": "stderr",
     "output_type": "stream",
     "text": [
      "[Parallel(n_jobs=-1)]: Done   3 out of   3 | elapsed:  1.2min finished\n",
      "[Parallel(n_jobs=-1)]: Using backend LokyBackend with 12 concurrent workers.\n"
     ]
    },
    {
     "name": "stdout",
     "output_type": "stream",
     "text": [
      "K-Fold #1\n",
      "Mean negativities for all classes: [0.3666605384673934, 0.3788877582090836, 0.3814975074559367]\n",
      "Mean entropies for all classes: [3.3026102435203224e-15, 3.4570089772028912e-15, 3.660372185467284e-15]\n",
      "              precision    recall  f1-score   support\n",
      "\n",
      "           0       0.25      0.20      0.22         5\n",
      "           1       0.00      0.00      0.00         5\n",
      "           2       0.00      0.00      0.00         5\n",
      "\n",
      "    accuracy                           0.07        15\n",
      "   macro avg       0.08      0.07      0.07        15\n",
      "weighted avg       0.08      0.07      0.07        15\n",
      "\n",
      "-------------------------------------------------------------------------------------------------------------------\n"
     ]
    },
    {
     "name": "stderr",
     "output_type": "stream",
     "text": [
      "[Parallel(n_jobs=-1)]: Done   3 out of   3 | elapsed:  1.2min finished\n",
      "c:\\ProgramData\\Anaconda3\\lib\\site-packages\\sklearn\\metrics\\_classification.py:1344: UndefinedMetricWarning: Precision and F-score are ill-defined and being set to 0.0 in labels with no predicted samples. Use `zero_division` parameter to control this behavior.\n",
      "  _warn_prf(average, modifier, msg_start, len(result))\n",
      "c:\\ProgramData\\Anaconda3\\lib\\site-packages\\sklearn\\metrics\\_classification.py:1344: UndefinedMetricWarning: Precision and F-score are ill-defined and being set to 0.0 in labels with no predicted samples. Use `zero_division` parameter to control this behavior.\n",
      "  _warn_prf(average, modifier, msg_start, len(result))\n",
      "c:\\ProgramData\\Anaconda3\\lib\\site-packages\\sklearn\\metrics\\_classification.py:1344: UndefinedMetricWarning: Precision and F-score are ill-defined and being set to 0.0 in labels with no predicted samples. Use `zero_division` parameter to control this behavior.\n",
      "  _warn_prf(average, modifier, msg_start, len(result))\n",
      "[Parallel(n_jobs=-1)]: Using backend LokyBackend with 12 concurrent workers.\n"
     ]
    },
    {
     "name": "stdout",
     "output_type": "stream",
     "text": [
      "K-Fold #2\n",
      "Mean negativities for all classes: [0.3627420801369145, 0.3772685719791954, 0.3872125892073637]\n",
      "Mean entropies for all classes: [3.3939630655790995e-15, 2.9984380739852734e-15, 4.3501674977561994e-15]\n",
      "              precision    recall  f1-score   support\n",
      "\n",
      "           0       0.33      0.40      0.36         5\n",
      "           1       0.22      0.40      0.29         5\n",
      "           2       0.00      0.00      0.00         5\n",
      "\n",
      "    accuracy                           0.27        15\n",
      "   macro avg       0.19      0.27      0.22        15\n",
      "weighted avg       0.19      0.27      0.22        15\n",
      "\n",
      "-------------------------------------------------------------------------------------------------------------------\n"
     ]
    },
    {
     "name": "stderr",
     "output_type": "stream",
     "text": [
      "[Parallel(n_jobs=-1)]: Done   3 out of   3 | elapsed:  1.2min finished\n",
      "[Parallel(n_jobs=-1)]: Using backend LokyBackend with 12 concurrent workers.\n"
     ]
    },
    {
     "name": "stdout",
     "output_type": "stream",
     "text": [
      "K-Fold #3\n",
      "Mean negativities for all classes: [0.36494297796303155, 0.3830632988579282, 0.38517019823086873]\n",
      "Mean entropies for all classes: [2.9374441220487525e-15, 4.159632516282354e-15, 3.87354856730309e-15]\n",
      "              precision    recall  f1-score   support\n",
      "\n",
      "           0       0.40      0.80      0.53         5\n",
      "           1       0.00      0.00      0.00         5\n",
      "           2       0.00      0.00      0.00         5\n",
      "\n",
      "    accuracy                           0.27        15\n",
      "   macro avg       0.13      0.27      0.18        15\n",
      "weighted avg       0.13      0.27      0.18        15\n",
      "\n",
      "-------------------------------------------------------------------------------------------------------------------\n"
     ]
    },
    {
     "name": "stderr",
     "output_type": "stream",
     "text": [
      "[Parallel(n_jobs=-1)]: Done   3 out of   3 | elapsed:  1.2min finished\n",
      "[Parallel(n_jobs=-1)]: Using backend LokyBackend with 12 concurrent workers.\n"
     ]
    },
    {
     "name": "stdout",
     "output_type": "stream",
     "text": [
      "K-Fold #4\n",
      "Mean negativities for all classes: [0.3644993787883505, 0.3860399005410198, 0.3778625584845711]\n",
      "Mean entropies for all classes: [4.067678954320271e-15, 3.4369639446545604e-15, 4.1525254849014426e-15]\n",
      "              precision    recall  f1-score   support\n",
      "\n",
      "           0       0.38      0.60      0.46         5\n",
      "           1       0.20      0.20      0.20         5\n",
      "           2       0.50      0.20      0.29         5\n",
      "\n",
      "    accuracy                           0.33        15\n",
      "   macro avg       0.36      0.33      0.32        15\n",
      "weighted avg       0.36      0.33      0.32        15\n",
      "\n",
      "-------------------------------------------------------------------------------------------------------------------\n"
     ]
    },
    {
     "name": "stderr",
     "output_type": "stream",
     "text": [
      "[Parallel(n_jobs=-1)]: Done   3 out of   3 | elapsed:  1.2min finished\n",
      "[Parallel(n_jobs=-1)]: Using backend LokyBackend with 12 concurrent workers.\n"
     ]
    },
    {
     "name": "stdout",
     "output_type": "stream",
     "text": [
      "K-Fold #5\n",
      "Mean negativities for all classes: [0.3732859361101213, 0.3701171049511896, 0.3749435003541325]\n",
      "Mean entropies for all classes: [3.3089022591424673e-15, 3.3233864329620544e-15, 4.117342484382754e-15]\n",
      "              precision    recall  f1-score   support\n",
      "\n",
      "           0       0.00      0.00      0.00         5\n",
      "           1       0.18      0.40      0.25         5\n",
      "           2       0.00      0.00      0.00         5\n",
      "\n",
      "    accuracy                           0.13        15\n",
      "   macro avg       0.06      0.13      0.08        15\n",
      "weighted avg       0.06      0.13      0.08        15\n",
      "\n",
      "-------------------------------------------------------------------------------------------------------------------\n"
     ]
    },
    {
     "name": "stderr",
     "output_type": "stream",
     "text": [
      "[Parallel(n_jobs=-1)]: Done   3 out of   3 | elapsed:  1.2min finished\n",
      "c:\\ProgramData\\Anaconda3\\lib\\site-packages\\sklearn\\metrics\\_classification.py:1344: UndefinedMetricWarning: Precision and F-score are ill-defined and being set to 0.0 in labels with no predicted samples. Use `zero_division` parameter to control this behavior.\n",
      "  _warn_prf(average, modifier, msg_start, len(result))\n",
      "c:\\ProgramData\\Anaconda3\\lib\\site-packages\\sklearn\\metrics\\_classification.py:1344: UndefinedMetricWarning: Precision and F-score are ill-defined and being set to 0.0 in labels with no predicted samples. Use `zero_division` parameter to control this behavior.\n",
      "  _warn_prf(average, modifier, msg_start, len(result))\n",
      "c:\\ProgramData\\Anaconda3\\lib\\site-packages\\sklearn\\metrics\\_classification.py:1344: UndefinedMetricWarning: Precision and F-score are ill-defined and being set to 0.0 in labels with no predicted samples. Use `zero_division` parameter to control this behavior.\n",
      "  _warn_prf(average, modifier, msg_start, len(result))\n",
      "[Parallel(n_jobs=-1)]: Using backend LokyBackend with 12 concurrent workers.\n"
     ]
    },
    {
     "name": "stdout",
     "output_type": "stream",
     "text": [
      "K-Fold #6\n",
      "Mean negativities for all classes: [0.360415200669215, 0.38576800629591196, 0.3854259570265205]\n",
      "Mean entropies for all classes: [3.2287968161034205e-15, 3.3419819748713466e-15, 3.85130420294356e-15]\n",
      "              precision    recall  f1-score   support\n",
      "\n",
      "           0       0.50      0.80      0.62         5\n",
      "           1       0.14      0.20      0.17         5\n",
      "           2       0.00      0.00      0.00         5\n",
      "\n",
      "    accuracy                           0.33        15\n",
      "   macro avg       0.21      0.33      0.26        15\n",
      "weighted avg       0.21      0.33      0.26        15\n",
      "\n",
      "-------------------------------------------------------------------------------------------------------------------\n"
     ]
    },
    {
     "name": "stderr",
     "output_type": "stream",
     "text": [
      "[Parallel(n_jobs=-1)]: Done   3 out of   3 | elapsed:  1.2min finished\n",
      "[Parallel(n_jobs=-1)]: Using backend LokyBackend with 12 concurrent workers.\n"
     ]
    },
    {
     "name": "stdout",
     "output_type": "stream",
     "text": [
      "K-Fold #7\n",
      "Mean negativities for all classes: [0.37184333797282876, 0.3892778067339674, 0.37096024575706105]\n",
      "Mean entropies for all classes: [3.448911829617956e-15, 3.979700048419633e-15, 2.92894310143743e-15]\n",
      "              precision    recall  f1-score   support\n",
      "\n",
      "           0       0.50      0.60      0.55         5\n",
      "           1       0.00      0.00      0.00         5\n",
      "           2       0.25      0.20      0.22         5\n",
      "\n",
      "    accuracy                           0.27        15\n",
      "   macro avg       0.25      0.27      0.26        15\n",
      "weighted avg       0.25      0.27      0.26        15\n",
      "\n",
      "-------------------------------------------------------------------------------------------------------------------\n"
     ]
    },
    {
     "name": "stderr",
     "output_type": "stream",
     "text": [
      "[Parallel(n_jobs=-1)]: Done   3 out of   3 | elapsed:  1.2min finished\n",
      "c:\\ProgramData\\Anaconda3\\lib\\site-packages\\sklearn\\metrics\\_classification.py:1344: UndefinedMetricWarning: Precision and F-score are ill-defined and being set to 0.0 in labels with no predicted samples. Use `zero_division` parameter to control this behavior.\n",
      "  _warn_prf(average, modifier, msg_start, len(result))\n",
      "c:\\ProgramData\\Anaconda3\\lib\\site-packages\\sklearn\\metrics\\_classification.py:1344: UndefinedMetricWarning: Precision and F-score are ill-defined and being set to 0.0 in labels with no predicted samples. Use `zero_division` parameter to control this behavior.\n",
      "  _warn_prf(average, modifier, msg_start, len(result))\n",
      "c:\\ProgramData\\Anaconda3\\lib\\site-packages\\sklearn\\metrics\\_classification.py:1344: UndefinedMetricWarning: Precision and F-score are ill-defined and being set to 0.0 in labels with no predicted samples. Use `zero_division` parameter to control this behavior.\n",
      "  _warn_prf(average, modifier, msg_start, len(result))\n",
      "[Parallel(n_jobs=-1)]: Using backend LokyBackend with 12 concurrent workers.\n"
     ]
    },
    {
     "name": "stdout",
     "output_type": "stream",
     "text": [
      "K-Fold #8\n",
      "Mean negativities for all classes: [0.3696885533889456, 0.3827050869184552, 0.3864696004477831]\n",
      "Mean entropies for all classes: [3.340153154737774e-15, 3.1564913517999703e-15, 3.822962482792862e-15]\n",
      "              precision    recall  f1-score   support\n",
      "\n",
      "           0       0.60      0.60      0.60         5\n",
      "           1       0.30      0.60      0.40         5\n",
      "           2       0.00      0.00      0.00         5\n",
      "\n",
      "    accuracy                           0.40        15\n",
      "   macro avg       0.30      0.40      0.33        15\n",
      "weighted avg       0.30      0.40      0.33        15\n",
      "\n",
      "-------------------------------------------------------------------------------------------------------------------\n"
     ]
    },
    {
     "name": "stderr",
     "output_type": "stream",
     "text": [
      "[Parallel(n_jobs=-1)]: Done   3 out of   3 | elapsed:  1.2min finished\n",
      "c:\\ProgramData\\Anaconda3\\lib\\site-packages\\sklearn\\metrics\\_classification.py:1344: UndefinedMetricWarning: Precision and F-score are ill-defined and being set to 0.0 in labels with no predicted samples. Use `zero_division` parameter to control this behavior.\n",
      "  _warn_prf(average, modifier, msg_start, len(result))\n",
      "c:\\ProgramData\\Anaconda3\\lib\\site-packages\\sklearn\\metrics\\_classification.py:1344: UndefinedMetricWarning: Precision and F-score are ill-defined and being set to 0.0 in labels with no predicted samples. Use `zero_division` parameter to control this behavior.\n",
      "  _warn_prf(average, modifier, msg_start, len(result))\n",
      "c:\\ProgramData\\Anaconda3\\lib\\site-packages\\sklearn\\metrics\\_classification.py:1344: UndefinedMetricWarning: Precision and F-score are ill-defined and being set to 0.0 in labels with no predicted samples. Use `zero_division` parameter to control this behavior.\n",
      "  _warn_prf(average, modifier, msg_start, len(result))\n",
      "[Parallel(n_jobs=-1)]: Using backend LokyBackend with 12 concurrent workers.\n"
     ]
    },
    {
     "name": "stdout",
     "output_type": "stream",
     "text": [
      "K-Fold #9\n",
      "Mean negativities for all classes: [0.3654636354071044, 0.3869304012251445, 0.385723561273769]\n",
      "Mean entropies for all classes: [3.425318361070446e-15, 3.4237530241223417e-15, 2.8490713989349077e-15]\n",
      "              precision    recall  f1-score   support\n",
      "\n",
      "           0       0.38      0.60      0.46         5\n",
      "           1       0.29      0.40      0.33         5\n",
      "           2       0.00      0.00      0.00         5\n",
      "\n",
      "    accuracy                           0.33        15\n",
      "   macro avg       0.22      0.33      0.26        15\n",
      "weighted avg       0.22      0.33      0.26        15\n",
      "\n",
      "-------------------------------------------------------------------------------------------------------------------\n",
      "AVG: Scores = 0.2666666666666667 F1-Scores = 0.22002016502016503 Negativity = [0.3778822595970262, 0.37568193471080463, 0.37574108044115784] Entropy = [3.809775778302469e-15, 3.4733304687301658e-15, 3.580856212440191e-15]\n"
     ]
    },
    {
     "name": "stderr",
     "output_type": "stream",
     "text": [
      "[Parallel(n_jobs=-1)]: Done   3 out of   3 | elapsed:  1.2min finished\n",
      "[Parallel(n_jobs=-1)]: Using backend LokyBackend with 12 concurrent workers.\n"
     ]
    },
    {
     "name": "stdout",
     "output_type": "stream",
     "text": [
      "K-Fold #0\n",
      "Mean negativities for all classes: [0.3672433989213667, 0.38350938597745265, 0.3801857581986855]\n",
      "Mean entropies for all classes: [3.947015959484842e-15, 4.463840644233043e-15, 3.8079312111465944e-15]\n",
      "              precision    recall  f1-score   support\n",
      "\n",
      "           0       0.43      0.60      0.50         5\n",
      "           1       0.33      0.40      0.36         5\n",
      "           2       1.00      0.40      0.57         5\n",
      "\n",
      "    accuracy                           0.47        15\n",
      "   macro avg       0.59      0.47      0.48        15\n",
      "weighted avg       0.59      0.47      0.48        15\n",
      "\n",
      "-------------------------------------------------------------------------------------------------------------------\n"
     ]
    },
    {
     "name": "stderr",
     "output_type": "stream",
     "text": [
      "[Parallel(n_jobs=-1)]: Done   3 out of   3 | elapsed:  1.2min finished\n",
      "[Parallel(n_jobs=-1)]: Using backend LokyBackend with 12 concurrent workers.\n"
     ]
    },
    {
     "name": "stdout",
     "output_type": "stream",
     "text": [
      "K-Fold #1\n",
      "Mean negativities for all classes: [0.36696696150422276, 0.37841355071926247, 0.16661807392312794]\n",
      "Mean entropies for all classes: [3.1215940983167293e-15, 3.715379042895823e-15, 3.192959327446963e-15]\n",
      "              precision    recall  f1-score   support\n",
      "\n",
      "           0       0.00      0.00      0.00         5\n",
      "           1       0.00      0.00      0.00         5\n",
      "           2       0.38      1.00      0.56         5\n",
      "\n",
      "    accuracy                           0.33        15\n",
      "   macro avg       0.13      0.33      0.19        15\n",
      "weighted avg       0.13      0.33      0.19        15\n",
      "\n",
      "-------------------------------------------------------------------------------------------------------------------\n"
     ]
    },
    {
     "name": "stderr",
     "output_type": "stream",
     "text": [
      "[Parallel(n_jobs=-1)]: Done   3 out of   3 | elapsed:  1.2min finished\n",
      "[Parallel(n_jobs=-1)]: Using backend LokyBackend with 12 concurrent workers.\n"
     ]
    },
    {
     "name": "stdout",
     "output_type": "stream",
     "text": [
      "K-Fold #2\n",
      "Mean negativities for all classes: [0.36434185324373103, 0.3745091505060811, 0.385337848103705]\n",
      "Mean entropies for all classes: [3.855618398533165e-15, 3.826202534290003e-15, 3.5351860467042946e-15]\n",
      "              precision    recall  f1-score   support\n",
      "\n",
      "           0       0.29      0.40      0.33         5\n",
      "           1       0.14      0.20      0.17         5\n",
      "           2       0.00      0.00      0.00         5\n",
      "\n",
      "    accuracy                           0.20        15\n",
      "   macro avg       0.14      0.20      0.17        15\n",
      "weighted avg       0.14      0.20      0.17        15\n",
      "\n",
      "-------------------------------------------------------------------------------------------------------------------\n"
     ]
    },
    {
     "name": "stderr",
     "output_type": "stream",
     "text": [
      "[Parallel(n_jobs=-1)]: Done   3 out of   3 | elapsed:  1.2min finished\n",
      "[Parallel(n_jobs=-1)]: Using backend LokyBackend with 12 concurrent workers.\n"
     ]
    },
    {
     "name": "stdout",
     "output_type": "stream",
     "text": [
      "K-Fold #3\n",
      "Mean negativities for all classes: [0.36635072416071857, 0.3743164044927792, 0.38524470992853355]\n",
      "Mean entropies for all classes: [3.1934767214866306e-15, 4.1215522749843605e-15, 4.423187929852273e-15]\n",
      "              precision    recall  f1-score   support\n",
      "\n",
      "           0       0.20      0.20      0.20         5\n",
      "           1       0.11      0.20      0.14         5\n",
      "           2       0.00      0.00      0.00         5\n",
      "\n",
      "    accuracy                           0.13        15\n",
      "   macro avg       0.10      0.13      0.11        15\n",
      "weighted avg       0.10      0.13      0.11        15\n",
      "\n",
      "-------------------------------------------------------------------------------------------------------------------\n"
     ]
    },
    {
     "name": "stderr",
     "output_type": "stream",
     "text": [
      "[Parallel(n_jobs=-1)]: Done   3 out of   3 | elapsed:  1.2min finished\n",
      "[Parallel(n_jobs=-1)]: Using backend LokyBackend with 12 concurrent workers.\n"
     ]
    },
    {
     "name": "stdout",
     "output_type": "stream",
     "text": [
      "K-Fold #4\n",
      "Mean negativities for all classes: [0.36089131681455994, 0.3788664735791959, 0.37479250082995125]\n",
      "Mean entropies for all classes: [3.896730749214697e-15, 4.137576926191467e-15, 3.0282173301654094e-15]\n",
      "              precision    recall  f1-score   support\n",
      "\n",
      "           0       0.40      0.40      0.40         5\n",
      "           1       0.22      0.40      0.29         5\n",
      "           2       0.00      0.00      0.00         5\n",
      "\n",
      "    accuracy                           0.27        15\n",
      "   macro avg       0.21      0.27      0.23        15\n",
      "weighted avg       0.21      0.27      0.23        15\n",
      "\n",
      "-------------------------------------------------------------------------------------------------------------------\n"
     ]
    },
    {
     "name": "stderr",
     "output_type": "stream",
     "text": [
      "[Parallel(n_jobs=-1)]: Done   3 out of   3 | elapsed:  1.2min finished\n",
      "[Parallel(n_jobs=-1)]: Using backend LokyBackend with 12 concurrent workers.\n"
     ]
    },
    {
     "name": "stdout",
     "output_type": "stream",
     "text": [
      "K-Fold #5\n",
      "Mean negativities for all classes: [0.3691093616318934, 0.3736964613009379, 0.37734852365750965]\n",
      "Mean entropies for all classes: [3.694512001827277e-15, 3.4128510251470007e-15, 2.6370341884345057e-15]\n",
      "              precision    recall  f1-score   support\n",
      "\n",
      "           0       0.60      0.60      0.60         5\n",
      "           1       0.12      0.20      0.15         5\n",
      "           2       0.00      0.00      0.00         5\n",
      "\n",
      "    accuracy                           0.27        15\n",
      "   macro avg       0.24      0.27      0.25        15\n",
      "weighted avg       0.24      0.27      0.25        15\n",
      "\n",
      "-------------------------------------------------------------------------------------------------------------------\n"
     ]
    },
    {
     "name": "stderr",
     "output_type": "stream",
     "text": [
      "[Parallel(n_jobs=-1)]: Done   3 out of   3 | elapsed:  1.2min finished\n",
      "c:\\ProgramData\\Anaconda3\\lib\\site-packages\\sklearn\\metrics\\_classification.py:1344: UndefinedMetricWarning: Precision and F-score are ill-defined and being set to 0.0 in labels with no predicted samples. Use `zero_division` parameter to control this behavior.\n",
      "  _warn_prf(average, modifier, msg_start, len(result))\n",
      "c:\\ProgramData\\Anaconda3\\lib\\site-packages\\sklearn\\metrics\\_classification.py:1344: UndefinedMetricWarning: Precision and F-score are ill-defined and being set to 0.0 in labels with no predicted samples. Use `zero_division` parameter to control this behavior.\n",
      "  _warn_prf(average, modifier, msg_start, len(result))\n",
      "c:\\ProgramData\\Anaconda3\\lib\\site-packages\\sklearn\\metrics\\_classification.py:1344: UndefinedMetricWarning: Precision and F-score are ill-defined and being set to 0.0 in labels with no predicted samples. Use `zero_division` parameter to control this behavior.\n",
      "  _warn_prf(average, modifier, msg_start, len(result))\n",
      "[Parallel(n_jobs=-1)]: Using backend LokyBackend with 12 concurrent workers.\n"
     ]
    },
    {
     "name": "stdout",
     "output_type": "stream",
     "text": [
      "K-Fold #6\n",
      "Mean negativities for all classes: [0.3670669977531983, 0.38062036820078, 0.3854809875154738]\n",
      "Mean entropies for all classes: [2.4088393573304687e-15, 4.097940117650589e-15, 2.8606482287143938e-15]\n",
      "              precision    recall  f1-score   support\n",
      "\n",
      "           0       0.38      0.60      0.46         5\n",
      "           1       0.14      0.20      0.17         5\n",
      "           2       0.00      0.00      0.00         5\n",
      "\n",
      "    accuracy                           0.27        15\n",
      "   macro avg       0.17      0.27      0.21        15\n",
      "weighted avg       0.17      0.27      0.21        15\n",
      "\n",
      "-------------------------------------------------------------------------------------------------------------------\n"
     ]
    },
    {
     "name": "stderr",
     "output_type": "stream",
     "text": [
      "[Parallel(n_jobs=-1)]: Done   3 out of   3 | elapsed:  1.2min finished\n",
      "[Parallel(n_jobs=-1)]: Using backend LokyBackend with 12 concurrent workers.\n"
     ]
    },
    {
     "name": "stdout",
     "output_type": "stream",
     "text": [
      "K-Fold #7\n",
      "Mean negativities for all classes: [0.3637141272270175, 0.37725503983396513, 0.1672317134454135]\n",
      "Mean entropies for all classes: [3.594117769145443e-15, 3.571360992472687e-15, 3.2643465454581835e-15]\n",
      "              precision    recall  f1-score   support\n",
      "\n",
      "           0       0.00      0.00      0.00         5\n",
      "           1       0.00      0.00      0.00         5\n",
      "           2       0.42      1.00      0.59         5\n",
      "\n",
      "    accuracy                           0.33        15\n",
      "   macro avg       0.14      0.33      0.20        15\n",
      "weighted avg       0.14      0.33      0.20        15\n",
      "\n",
      "-------------------------------------------------------------------------------------------------------------------\n"
     ]
    },
    {
     "name": "stderr",
     "output_type": "stream",
     "text": [
      "[Parallel(n_jobs=-1)]: Done   3 out of   3 | elapsed:  1.2min finished\n",
      "c:\\ProgramData\\Anaconda3\\lib\\site-packages\\sklearn\\metrics\\_classification.py:1344: UndefinedMetricWarning: Precision and F-score are ill-defined and being set to 0.0 in labels with no predicted samples. Use `zero_division` parameter to control this behavior.\n",
      "  _warn_prf(average, modifier, msg_start, len(result))\n",
      "c:\\ProgramData\\Anaconda3\\lib\\site-packages\\sklearn\\metrics\\_classification.py:1344: UndefinedMetricWarning: Precision and F-score are ill-defined and being set to 0.0 in labels with no predicted samples. Use `zero_division` parameter to control this behavior.\n",
      "  _warn_prf(average, modifier, msg_start, len(result))\n",
      "c:\\ProgramData\\Anaconda3\\lib\\site-packages\\sklearn\\metrics\\_classification.py:1344: UndefinedMetricWarning: Precision and F-score are ill-defined and being set to 0.0 in labels with no predicted samples. Use `zero_division` parameter to control this behavior.\n",
      "  _warn_prf(average, modifier, msg_start, len(result))\n",
      "[Parallel(n_jobs=-1)]: Using backend LokyBackend with 12 concurrent workers.\n"
     ]
    },
    {
     "name": "stdout",
     "output_type": "stream",
     "text": [
      "K-Fold #8\n",
      "Mean negativities for all classes: [0.363500520008148, 0.38501766678722527, 0.3837753635585396]\n",
      "Mean entropies for all classes: [4.26930652942765e-15, 3.2097437555397407e-15, 3.921514433991363e-15]\n",
      "              precision    recall  f1-score   support\n",
      "\n",
      "           0       0.50      0.60      0.55         5\n",
      "           1       0.33      0.60      0.43         5\n",
      "           2       0.00      0.00      0.00         5\n",
      "\n",
      "    accuracy                           0.40        15\n",
      "   macro avg       0.28      0.40      0.32        15\n",
      "weighted avg       0.28      0.40      0.32        15\n",
      "\n",
      "-------------------------------------------------------------------------------------------------------------------\n"
     ]
    },
    {
     "name": "stderr",
     "output_type": "stream",
     "text": [
      "[Parallel(n_jobs=-1)]: Done   3 out of   3 | elapsed:  1.2min finished\n",
      "[Parallel(n_jobs=-1)]: Using backend LokyBackend with 12 concurrent workers.\n"
     ]
    },
    {
     "name": "stdout",
     "output_type": "stream",
     "text": [
      "K-Fold #9\n",
      "Mean negativities for all classes: [0.375556810299418, 0.382065255030145, 0.38189423708211423]\n",
      "Mean entropies for all classes: [3.8293894956960165e-15, 3.625109228230271e-15, 3.109218286584181e-15]\n",
      "              precision    recall  f1-score   support\n",
      "\n",
      "           0       0.50      0.20      0.29         5\n",
      "           1       0.10      0.20      0.13         5\n",
      "           2       0.00      0.00      0.00         5\n",
      "\n",
      "    accuracy                           0.13        15\n",
      "   macro avg       0.20      0.13      0.14        15\n",
      "weighted avg       0.20      0.13      0.14        15\n",
      "\n",
      "-------------------------------------------------------------------------------------------------------------------\n",
      "AVG: Scores = 0.27999999999999997 F1-Scores = 0.2294184029478147 Negativity = [0.37697951436583493, 0.3039995287155377, 0.37472961728450577] Entropy = [4.072929271621493e-15, 3.343310822886505e-15, 3.739002326509154e-15]\n"
     ]
    },
    {
     "name": "stderr",
     "output_type": "stream",
     "text": [
      "[Parallel(n_jobs=-1)]: Done   3 out of   3 | elapsed:  1.2min finished\n",
      "c:\\ProgramData\\Anaconda3\\lib\\site-packages\\sklearn\\metrics\\_classification.py:1344: UndefinedMetricWarning: Precision and F-score are ill-defined and being set to 0.0 in labels with no predicted samples. Use `zero_division` parameter to control this behavior.\n",
      "  _warn_prf(average, modifier, msg_start, len(result))\n",
      "c:\\ProgramData\\Anaconda3\\lib\\site-packages\\sklearn\\metrics\\_classification.py:1344: UndefinedMetricWarning: Precision and F-score are ill-defined and being set to 0.0 in labels with no predicted samples. Use `zero_division` parameter to control this behavior.\n",
      "  _warn_prf(average, modifier, msg_start, len(result))\n",
      "c:\\ProgramData\\Anaconda3\\lib\\site-packages\\sklearn\\metrics\\_classification.py:1344: UndefinedMetricWarning: Precision and F-score are ill-defined and being set to 0.0 in labels with no predicted samples. Use `zero_division` parameter to control this behavior.\n",
      "  _warn_prf(average, modifier, msg_start, len(result))\n",
      "[Parallel(n_jobs=-1)]: Using backend LokyBackend with 12 concurrent workers.\n"
     ]
    },
    {
     "name": "stdout",
     "output_type": "stream",
     "text": [
      "K-Fold #0\n",
      "Mean negativities for all classes: [0.36906556507353, 0.3707456655299945, 0.3820147045039847]\n",
      "Mean entropies for all classes: [3.581401310117155e-15, 4.017448014266554e-15, 2.854102502670763e-15]\n",
      "              precision    recall  f1-score   support\n",
      "\n",
      "           0       0.40      0.40      0.40         5\n",
      "           1       0.20      0.40      0.27         5\n",
      "           2       0.00      0.00      0.00         5\n",
      "\n",
      "    accuracy                           0.27        15\n",
      "   macro avg       0.20      0.27      0.22        15\n",
      "weighted avg       0.20      0.27      0.22        15\n",
      "\n",
      "-------------------------------------------------------------------------------------------------------------------\n"
     ]
    },
    {
     "name": "stderr",
     "output_type": "stream",
     "text": [
      "[Parallel(n_jobs=-1)]: Done   3 out of   3 | elapsed:  1.2min finished\n",
      "[Parallel(n_jobs=-1)]: Using backend LokyBackend with 12 concurrent workers.\n"
     ]
    },
    {
     "name": "stdout",
     "output_type": "stream",
     "text": [
      "K-Fold #1\n",
      "Mean negativities for all classes: [0.35292384588774944, 0.3752048367466163, 0.37377961535473136]\n",
      "Mean entropies for all classes: [3.538667355648889e-15, 3.878218069400802e-15, 3.38105956749251e-15]\n",
      "              precision    recall  f1-score   support\n",
      "\n",
      "           0       0.40      0.40      0.40         5\n",
      "           1       0.12      0.20      0.15         5\n",
      "           2       0.00      0.00      0.00         5\n",
      "\n",
      "    accuracy                           0.20        15\n",
      "   macro avg       0.18      0.20      0.18        15\n",
      "weighted avg       0.17      0.20      0.18        15\n",
      "\n",
      "-------------------------------------------------------------------------------------------------------------------\n"
     ]
    },
    {
     "name": "stderr",
     "output_type": "stream",
     "text": [
      "[Parallel(n_jobs=-1)]: Done   3 out of   3 | elapsed:  1.2min finished\n",
      "[Parallel(n_jobs=-1)]: Using backend LokyBackend with 12 concurrent workers.\n"
     ]
    },
    {
     "name": "stdout",
     "output_type": "stream",
     "text": [
      "K-Fold #2\n",
      "Mean negativities for all classes: [0.3705190800037205, 0.37366315453821053, 0.38005725371864535]\n",
      "Mean entropies for all classes: [3.4151972627134698e-15, 3.906677087156033e-15, 3.7192270061840945e-15]\n",
      "              precision    recall  f1-score   support\n",
      "\n",
      "           0       0.14      0.20      0.17         5\n",
      "           1       0.00      0.00      0.00         5\n",
      "           2       0.00      0.00      0.00         5\n",
      "\n",
      "    accuracy                           0.07        15\n",
      "   macro avg       0.05      0.07      0.06        15\n",
      "weighted avg       0.05      0.07      0.06        15\n",
      "\n",
      "-------------------------------------------------------------------------------------------------------------------\n"
     ]
    },
    {
     "name": "stderr",
     "output_type": "stream",
     "text": [
      "[Parallel(n_jobs=-1)]: Done   3 out of   3 | elapsed:  1.2min finished\n",
      "[Parallel(n_jobs=-1)]: Using backend LokyBackend with 12 concurrent workers.\n"
     ]
    },
    {
     "name": "stdout",
     "output_type": "stream",
     "text": [
      "K-Fold #3\n",
      "Mean negativities for all classes: [0.3716063356509627, 0.37644911884112625, 0.3777907596127999]\n",
      "Mean entropies for all classes: [3.24571284217762e-15, 3.85433309019769e-15, 3.2910667044213073e-15]\n",
      "              precision    recall  f1-score   support\n",
      "\n",
      "           0       0.17      0.20      0.18         5\n",
      "           1       0.00      0.00      0.00         5\n",
      "           2       0.50      0.20      0.29         5\n",
      "\n",
      "    accuracy                           0.13        15\n",
      "   macro avg       0.22      0.13      0.16        15\n",
      "weighted avg       0.22      0.13      0.16        15\n",
      "\n",
      "-------------------------------------------------------------------------------------------------------------------\n"
     ]
    },
    {
     "name": "stderr",
     "output_type": "stream",
     "text": [
      "[Parallel(n_jobs=-1)]: Done   3 out of   3 | elapsed:  1.2min finished\n",
      "[Parallel(n_jobs=-1)]: Using backend LokyBackend with 12 concurrent workers.\n"
     ]
    },
    {
     "name": "stdout",
     "output_type": "stream",
     "text": [
      "K-Fold #4\n",
      "Mean negativities for all classes: [0.3515642763821726, 0.3844529167789605, 0.3795280477090151]\n",
      "Mean entropies for all classes: [4.647788768669218e-15, 3.5035584131632403e-15, 3.2924272395970812e-15]\n",
      "              precision    recall  f1-score   support\n",
      "\n",
      "           0       0.60      0.60      0.60         5\n",
      "           1       0.17      0.20      0.18         5\n",
      "           2       0.25      0.20      0.22         5\n",
      "\n",
      "    accuracy                           0.33        15\n",
      "   macro avg       0.34      0.33      0.33        15\n",
      "weighted avg       0.34      0.33      0.33        15\n",
      "\n",
      "-------------------------------------------------------------------------------------------------------------------\n"
     ]
    },
    {
     "name": "stderr",
     "output_type": "stream",
     "text": [
      "[Parallel(n_jobs=-1)]: Done   3 out of   3 | elapsed:  1.2min finished\n",
      "[Parallel(n_jobs=-1)]: Using backend LokyBackend with 12 concurrent workers.\n"
     ]
    },
    {
     "name": "stdout",
     "output_type": "stream",
     "text": [
      "K-Fold #5\n",
      "Mean negativities for all classes: [0.3686385880998163, 0.38863645564458993, 0.38286094684188726]\n",
      "Mean entropies for all classes: [4.44904857414015e-15, 4.144947565564947e-15, 3.5036869923656602e-15]\n",
      "              precision    recall  f1-score   support\n",
      "\n",
      "           0       0.50      0.80      0.62         5\n",
      "           1       0.17      0.20      0.18         5\n",
      "           2       1.00      0.20      0.33         5\n",
      "\n",
      "    accuracy                           0.40        15\n",
      "   macro avg       0.56      0.40      0.38        15\n",
      "weighted avg       0.56      0.40      0.38        15\n",
      "\n",
      "-------------------------------------------------------------------------------------------------------------------\n"
     ]
    },
    {
     "name": "stderr",
     "output_type": "stream",
     "text": [
      "[Parallel(n_jobs=-1)]: Done   3 out of   3 | elapsed:  1.2min finished\n",
      "c:\\ProgramData\\Anaconda3\\lib\\site-packages\\sklearn\\metrics\\_classification.py:1344: UndefinedMetricWarning: Precision and F-score are ill-defined and being set to 0.0 in labels with no predicted samples. Use `zero_division` parameter to control this behavior.\n",
      "  _warn_prf(average, modifier, msg_start, len(result))\n",
      "c:\\ProgramData\\Anaconda3\\lib\\site-packages\\sklearn\\metrics\\_classification.py:1344: UndefinedMetricWarning: Precision and F-score are ill-defined and being set to 0.0 in labels with no predicted samples. Use `zero_division` parameter to control this behavior.\n",
      "  _warn_prf(average, modifier, msg_start, len(result))\n",
      "c:\\ProgramData\\Anaconda3\\lib\\site-packages\\sklearn\\metrics\\_classification.py:1344: UndefinedMetricWarning: Precision and F-score are ill-defined and being set to 0.0 in labels with no predicted samples. Use `zero_division` parameter to control this behavior.\n",
      "  _warn_prf(average, modifier, msg_start, len(result))\n",
      "[Parallel(n_jobs=-1)]: Using backend LokyBackend with 12 concurrent workers.\n"
     ]
    },
    {
     "name": "stdout",
     "output_type": "stream",
     "text": [
      "K-Fold #6\n",
      "Mean negativities for all classes: [0.37800830702509214, 0.3797419286786749, 0.3851881333833455]\n",
      "Mean entropies for all classes: [3.872538341872213e-15, 3.169082997175594e-15, 3.930089847223068e-15]\n",
      "              precision    recall  f1-score   support\n",
      "\n",
      "           0       0.50      0.40      0.44         5\n",
      "           1       0.27      0.60      0.37         5\n",
      "           2       0.00      0.00      0.00         5\n",
      "\n",
      "    accuracy                           0.33        15\n",
      "   macro avg       0.26      0.33      0.27        15\n",
      "weighted avg       0.26      0.33      0.27        15\n",
      "\n",
      "-------------------------------------------------------------------------------------------------------------------\n"
     ]
    },
    {
     "name": "stderr",
     "output_type": "stream",
     "text": [
      "[Parallel(n_jobs=-1)]: Done   3 out of   3 | elapsed:  1.2min finished\n",
      "[Parallel(n_jobs=-1)]: Using backend LokyBackend with 12 concurrent workers.\n"
     ]
    },
    {
     "name": "stdout",
     "output_type": "stream",
     "text": [
      "K-Fold #7\n",
      "Mean negativities for all classes: [0.36426868398710466, 0.38174098376922605, 0.3776600256077289]\n",
      "Mean entropies for all classes: [2.9979918112184206e-15, 3.6595601183966006e-15, 4.0966047298322064e-15]\n",
      "              precision    recall  f1-score   support\n",
      "\n",
      "           0       0.50      0.40      0.44         5\n",
      "           1       0.00      0.00      0.00         5\n",
      "           2       0.00      0.00      0.00         5\n",
      "\n",
      "    accuracy                           0.13        15\n",
      "   macro avg       0.17      0.13      0.15        15\n",
      "weighted avg       0.17      0.13      0.15        15\n",
      "\n",
      "-------------------------------------------------------------------------------------------------------------------\n"
     ]
    },
    {
     "name": "stderr",
     "output_type": "stream",
     "text": [
      "[Parallel(n_jobs=-1)]: Done   3 out of   3 | elapsed:  1.2min finished\n",
      "[Parallel(n_jobs=-1)]: Using backend LokyBackend with 12 concurrent workers.\n"
     ]
    },
    {
     "name": "stdout",
     "output_type": "stream",
     "text": [
      "K-Fold #8\n",
      "Mean negativities for all classes: [0.3714014075158368, 0.37924570430580457, 0.3906431416113211]\n",
      "Mean entropies for all classes: [3.478827636521917e-15, 4.203691794587201e-15, 4.19882095537451e-15]\n",
      "              precision    recall  f1-score   support\n",
      "\n",
      "           0       0.14      0.20      0.17         5\n",
      "           1       0.00      0.00      0.00         5\n",
      "           2       0.00      0.00      0.00         5\n",
      "\n",
      "    accuracy                           0.07        15\n",
      "   macro avg       0.05      0.07      0.06        15\n",
      "weighted avg       0.05      0.07      0.06        15\n",
      "\n",
      "-------------------------------------------------------------------------------------------------------------------\n"
     ]
    },
    {
     "name": "stderr",
     "output_type": "stream",
     "text": [
      "[Parallel(n_jobs=-1)]: Done   3 out of   3 | elapsed:  1.2min finished\n",
      "c:\\ProgramData\\Anaconda3\\lib\\site-packages\\sklearn\\metrics\\_classification.py:1344: UndefinedMetricWarning: Precision and F-score are ill-defined and being set to 0.0 in labels with no predicted samples. Use `zero_division` parameter to control this behavior.\n",
      "  _warn_prf(average, modifier, msg_start, len(result))\n",
      "c:\\ProgramData\\Anaconda3\\lib\\site-packages\\sklearn\\metrics\\_classification.py:1344: UndefinedMetricWarning: Precision and F-score are ill-defined and being set to 0.0 in labels with no predicted samples. Use `zero_division` parameter to control this behavior.\n",
      "  _warn_prf(average, modifier, msg_start, len(result))\n",
      "c:\\ProgramData\\Anaconda3\\lib\\site-packages\\sklearn\\metrics\\_classification.py:1344: UndefinedMetricWarning: Precision and F-score are ill-defined and being set to 0.0 in labels with no predicted samples. Use `zero_division` parameter to control this behavior.\n",
      "  _warn_prf(average, modifier, msg_start, len(result))\n",
      "[Parallel(n_jobs=-1)]: Using backend LokyBackend with 12 concurrent workers.\n"
     ]
    },
    {
     "name": "stdout",
     "output_type": "stream",
     "text": [
      "K-Fold #9\n",
      "Mean negativities for all classes: [0.3728234699700958, 0.3836616893801455, 0.39000052446795236]\n",
      "Mean entropies for all classes: [2.988304803880489e-15, 4.814191716666836e-15, 3.3846004536491736e-15]\n",
      "              precision    recall  f1-score   support\n",
      "\n",
      "           0       0.33      0.40      0.36         5\n",
      "           1       0.22      0.40      0.29         5\n",
      "           2       0.00      0.00      0.00         5\n",
      "\n",
      "    accuracy                           0.27        15\n",
      "   macro avg       0.19      0.27      0.22        15\n",
      "weighted avg       0.19      0.27      0.22        15\n",
      "\n",
      "-------------------------------------------------------------------------------------------------------------------\n",
      "AVG: Scores = 0.22000000000000003 F1-Scores = 0.20230648980648977 Negativity = [0.37394197836916976, 0.36730276599636574, 0.3747464960868588] Entropy = [3.484317275684824e-15, 3.599314997514067e-15, 3.680367118684533e-15]\n"
     ]
    },
    {
     "name": "stderr",
     "output_type": "stream",
     "text": [
      "[Parallel(n_jobs=-1)]: Done   3 out of   3 | elapsed:  1.2min finished\n",
      "[Parallel(n_jobs=-1)]: Using backend LokyBackend with 12 concurrent workers.\n"
     ]
    },
    {
     "name": "stdout",
     "output_type": "stream",
     "text": [
      "K-Fold #0\n",
      "Mean negativities for all classes: [0.36669885586109763, 0.3761401735605522, 0.3773247355045635]\n",
      "Mean entropies for all classes: [3.806641252537242e-15, 2.9413638134099726e-15, 3.903341156078133e-15]\n",
      "              precision    recall  f1-score   support\n",
      "\n",
      "           0       0.40      0.40      0.40         5\n",
      "           1       0.22      0.40      0.29         5\n",
      "           2       0.00      0.00      0.00         5\n",
      "\n",
      "    accuracy                           0.27        15\n",
      "   macro avg       0.21      0.27      0.23        15\n",
      "weighted avg       0.21      0.27      0.23        15\n",
      "\n",
      "-------------------------------------------------------------------------------------------------------------------\n"
     ]
    },
    {
     "name": "stderr",
     "output_type": "stream",
     "text": [
      "[Parallel(n_jobs=-1)]: Done   3 out of   3 | elapsed:  1.2min finished\n",
      "[Parallel(n_jobs=-1)]: Using backend LokyBackend with 12 concurrent workers.\n"
     ]
    },
    {
     "name": "stdout",
     "output_type": "stream",
     "text": [
      "K-Fold #1\n",
      "Mean negativities for all classes: [0.37064080801423693, 0.3786199794073598, 0.38375877345993303]\n",
      "Mean entropies for all classes: [3.257855983542111e-15, 3.17053925263082e-15, 4.084080183526505e-15]\n",
      "              precision    recall  f1-score   support\n",
      "\n",
      "           0       0.20      0.20      0.20         5\n",
      "           1       0.00      0.00      0.00         5\n",
      "           2       0.00      0.00      0.00         5\n",
      "\n",
      "    accuracy                           0.07        15\n",
      "   macro avg       0.07      0.07      0.07        15\n",
      "weighted avg       0.07      0.07      0.07        15\n",
      "\n",
      "-------------------------------------------------------------------------------------------------------------------\n"
     ]
    },
    {
     "name": "stderr",
     "output_type": "stream",
     "text": [
      "[Parallel(n_jobs=-1)]: Done   3 out of   3 | elapsed:  1.2min finished\n",
      "[Parallel(n_jobs=-1)]: Using backend LokyBackend with 12 concurrent workers.\n"
     ]
    },
    {
     "name": "stdout",
     "output_type": "stream",
     "text": [
      "K-Fold #2\n",
      "Mean negativities for all classes: [0.3565057628369076, 0.37630911658176347, 0.3783683114625041]\n",
      "Mean entropies for all classes: [3.7951802886451545e-15, 4.241396993644142e-15, 3.716168074034663e-15]\n",
      "              precision    recall  f1-score   support\n",
      "\n",
      "           0       0.43      0.60      0.50         5\n",
      "           1       0.20      0.20      0.20         5\n",
      "           2       0.67      0.40      0.50         5\n",
      "\n",
      "    accuracy                           0.40        15\n",
      "   macro avg       0.43      0.40      0.40        15\n",
      "weighted avg       0.43      0.40      0.40        15\n",
      "\n",
      "-------------------------------------------------------------------------------------------------------------------\n"
     ]
    },
    {
     "name": "stderr",
     "output_type": "stream",
     "text": [
      "[Parallel(n_jobs=-1)]: Done   3 out of   3 | elapsed:  1.2min finished\n",
      "[Parallel(n_jobs=-1)]: Using backend LokyBackend with 12 concurrent workers.\n"
     ]
    },
    {
     "name": "stdout",
     "output_type": "stream",
     "text": [
      "K-Fold #3\n",
      "Mean negativities for all classes: [0.3687284640582451, 0.38703827758504616, 0.38470243662037223]\n",
      "Mean entropies for all classes: [3.17006921186433e-15, 4.1301363408313375e-15, 3.058968463927679e-15]\n",
      "              precision    recall  f1-score   support\n",
      "\n",
      "           0       0.50      0.60      0.55         5\n",
      "           1       0.00      0.00      0.00         5\n",
      "           2       0.00      0.00      0.00         5\n",
      "\n",
      "    accuracy                           0.20        15\n",
      "   macro avg       0.17      0.20      0.18        15\n",
      "weighted avg       0.17      0.20      0.18        15\n",
      "\n",
      "-------------------------------------------------------------------------------------------------------------------\n"
     ]
    },
    {
     "name": "stderr",
     "output_type": "stream",
     "text": [
      "[Parallel(n_jobs=-1)]: Done   3 out of   3 | elapsed:  1.2min finished\n",
      "c:\\ProgramData\\Anaconda3\\lib\\site-packages\\sklearn\\metrics\\_classification.py:1344: UndefinedMetricWarning: Precision and F-score are ill-defined and being set to 0.0 in labels with no predicted samples. Use `zero_division` parameter to control this behavior.\n",
      "  _warn_prf(average, modifier, msg_start, len(result))\n",
      "c:\\ProgramData\\Anaconda3\\lib\\site-packages\\sklearn\\metrics\\_classification.py:1344: UndefinedMetricWarning: Precision and F-score are ill-defined and being set to 0.0 in labels with no predicted samples. Use `zero_division` parameter to control this behavior.\n",
      "  _warn_prf(average, modifier, msg_start, len(result))\n",
      "c:\\ProgramData\\Anaconda3\\lib\\site-packages\\sklearn\\metrics\\_classification.py:1344: UndefinedMetricWarning: Precision and F-score are ill-defined and being set to 0.0 in labels with no predicted samples. Use `zero_division` parameter to control this behavior.\n",
      "  _warn_prf(average, modifier, msg_start, len(result))\n",
      "[Parallel(n_jobs=-1)]: Using backend LokyBackend with 12 concurrent workers.\n"
     ]
    },
    {
     "name": "stdout",
     "output_type": "stream",
     "text": [
      "K-Fold #4\n",
      "Mean negativities for all classes: [0.3731370041926389, 0.3745975812592643, 0.3878833283678164]\n",
      "Mean entropies for all classes: [3.6392557008053535e-15, 4.095820828898353e-15, 2.792479228951991e-15]\n",
      "              precision    recall  f1-score   support\n",
      "\n",
      "           0       0.17      0.20      0.18         5\n",
      "           1       0.00      0.00      0.00         5\n",
      "           2       0.00      0.00      0.00         5\n",
      "\n",
      "    accuracy                           0.07        15\n",
      "   macro avg       0.06      0.07      0.06        15\n",
      "weighted avg       0.06      0.07      0.06        15\n",
      "\n",
      "-------------------------------------------------------------------------------------------------------------------\n"
     ]
    },
    {
     "name": "stderr",
     "output_type": "stream",
     "text": [
      "[Parallel(n_jobs=-1)]: Done   3 out of   3 | elapsed:  1.2min finished\n",
      "[Parallel(n_jobs=-1)]: Using backend LokyBackend with 12 concurrent workers.\n"
     ]
    },
    {
     "name": "stdout",
     "output_type": "stream",
     "text": [
      "K-Fold #5\n",
      "Mean negativities for all classes: [0.36254674388207103, 0.3773104342899526, 0.3859828248823579]\n",
      "Mean entropies for all classes: [3.2846730504517412e-15, 3.797869384782639e-15, 3.8340962288661335e-15]\n",
      "              precision    recall  f1-score   support\n",
      "\n",
      "           0       0.43      0.60      0.50         5\n",
      "           1       0.00      0.00      0.00         5\n",
      "           2       0.00      0.00      0.00         5\n",
      "\n",
      "    accuracy                           0.20        15\n",
      "   macro avg       0.14      0.20      0.17        15\n",
      "weighted avg       0.14      0.20      0.17        15\n",
      "\n",
      "-------------------------------------------------------------------------------------------------------------------\n"
     ]
    },
    {
     "name": "stderr",
     "output_type": "stream",
     "text": [
      "[Parallel(n_jobs=-1)]: Done   3 out of   3 | elapsed:  1.2min finished\n",
      "[Parallel(n_jobs=-1)]: Using backend LokyBackend with 12 concurrent workers.\n"
     ]
    },
    {
     "name": "stdout",
     "output_type": "stream",
     "text": [
      "K-Fold #6\n",
      "Mean negativities for all classes: [0.3712033974842137, 0.3858516686098451, 0.37276046753766257]\n",
      "Mean entropies for all classes: [3.57442608298823e-15, 3.915308432986298e-15, 4.124887095761189e-15]\n",
      "              precision    recall  f1-score   support\n",
      "\n",
      "           0       0.33      0.20      0.25         5\n",
      "           1       0.00      0.00      0.00         5\n",
      "           2       0.25      0.20      0.22         5\n",
      "\n",
      "    accuracy                           0.13        15\n",
      "   macro avg       0.19      0.13      0.16        15\n",
      "weighted avg       0.19      0.13      0.16        15\n",
      "\n",
      "-------------------------------------------------------------------------------------------------------------------\n"
     ]
    },
    {
     "name": "stderr",
     "output_type": "stream",
     "text": [
      "[Parallel(n_jobs=-1)]: Done   3 out of   3 | elapsed:  1.2min finished\n",
      "c:\\ProgramData\\Anaconda3\\lib\\site-packages\\sklearn\\metrics\\_classification.py:1344: UndefinedMetricWarning: Precision and F-score are ill-defined and being set to 0.0 in labels with no predicted samples. Use `zero_division` parameter to control this behavior.\n",
      "  _warn_prf(average, modifier, msg_start, len(result))\n",
      "c:\\ProgramData\\Anaconda3\\lib\\site-packages\\sklearn\\metrics\\_classification.py:1344: UndefinedMetricWarning: Precision and F-score are ill-defined and being set to 0.0 in labels with no predicted samples. Use `zero_division` parameter to control this behavior.\n",
      "  _warn_prf(average, modifier, msg_start, len(result))\n",
      "c:\\ProgramData\\Anaconda3\\lib\\site-packages\\sklearn\\metrics\\_classification.py:1344: UndefinedMetricWarning: Precision and F-score are ill-defined and being set to 0.0 in labels with no predicted samples. Use `zero_division` parameter to control this behavior.\n",
      "  _warn_prf(average, modifier, msg_start, len(result))\n",
      "[Parallel(n_jobs=-1)]: Using backend LokyBackend with 12 concurrent workers.\n"
     ]
    },
    {
     "name": "stdout",
     "output_type": "stream",
     "text": [
      "K-Fold #7\n",
      "Mean negativities for all classes: [0.3691499177535794, 0.3836630239401145, 0.3864262414505765]\n",
      "Mean entropies for all classes: [3.389657957669954e-15, 4.353653354642364e-15, 3.7431379507570665e-15]\n",
      "              precision    recall  f1-score   support\n",
      "\n",
      "           0       0.29      0.40      0.33         5\n",
      "           1       0.25      0.40      0.31         5\n",
      "           2       0.00      0.00      0.00         5\n",
      "\n",
      "    accuracy                           0.27        15\n",
      "   macro avg       0.18      0.27      0.21        15\n",
      "weighted avg       0.18      0.27      0.21        15\n",
      "\n",
      "-------------------------------------------------------------------------------------------------------------------\n"
     ]
    },
    {
     "name": "stderr",
     "output_type": "stream",
     "text": [
      "[Parallel(n_jobs=-1)]: Done   3 out of   3 | elapsed:  1.2min finished\n",
      "[Parallel(n_jobs=-1)]: Using backend LokyBackend with 12 concurrent workers.\n"
     ]
    },
    {
     "name": "stdout",
     "output_type": "stream",
     "text": [
      "K-Fold #8\n",
      "Mean negativities for all classes: [0.3658811242488767, 0.3759552624187626, 0.3804267655362003]\n",
      "Mean entropies for all classes: [3.00915647691618e-15, 4.3790379919541156e-15, 2.9102675292291925e-15]\n",
      "              precision    recall  f1-score   support\n",
      "\n",
      "           0       0.14      0.20      0.17         5\n",
      "           1       0.00      0.00      0.00         5\n",
      "           2       0.00      0.00      0.00         5\n",
      "\n",
      "    accuracy                           0.07        15\n",
      "   macro avg       0.05      0.07      0.06        15\n",
      "weighted avg       0.05      0.07      0.06        15\n",
      "\n",
      "-------------------------------------------------------------------------------------------------------------------\n"
     ]
    },
    {
     "name": "stderr",
     "output_type": "stream",
     "text": [
      "[Parallel(n_jobs=-1)]: Done   3 out of   3 | elapsed:  1.2min finished\n",
      "c:\\ProgramData\\Anaconda3\\lib\\site-packages\\sklearn\\metrics\\_classification.py:1344: UndefinedMetricWarning: Precision and F-score are ill-defined and being set to 0.0 in labels with no predicted samples. Use `zero_division` parameter to control this behavior.\n",
      "  _warn_prf(average, modifier, msg_start, len(result))\n",
      "c:\\ProgramData\\Anaconda3\\lib\\site-packages\\sklearn\\metrics\\_classification.py:1344: UndefinedMetricWarning: Precision and F-score are ill-defined and being set to 0.0 in labels with no predicted samples. Use `zero_division` parameter to control this behavior.\n",
      "  _warn_prf(average, modifier, msg_start, len(result))\n",
      "c:\\ProgramData\\Anaconda3\\lib\\site-packages\\sklearn\\metrics\\_classification.py:1344: UndefinedMetricWarning: Precision and F-score are ill-defined and being set to 0.0 in labels with no predicted samples. Use `zero_division` parameter to control this behavior.\n",
      "  _warn_prf(average, modifier, msg_start, len(result))\n",
      "[Parallel(n_jobs=-1)]: Using backend LokyBackend with 12 concurrent workers.\n"
     ]
    },
    {
     "name": "stdout",
     "output_type": "stream",
     "text": [
      "K-Fold #9\n",
      "Mean negativities for all classes: [0.3654788670002646, 0.37683011636065733, 0.38674202256392376]\n",
      "Mean entropies for all classes: [3.692780013396413e-15, 3.3632974134337854e-15, 3.682487441204926e-15]\n",
      "              precision    recall  f1-score   support\n",
      "\n",
      "           0       0.40      0.40      0.40         5\n",
      "           1       0.40      0.80      0.53         5\n",
      "           2       0.00      0.00      0.00         5\n",
      "\n",
      "    accuracy                           0.40        15\n",
      "   macro avg       0.27      0.40      0.31        15\n",
      "weighted avg       0.27      0.40      0.31        15\n",
      "\n",
      "-------------------------------------------------------------------------------------------------------------------\n",
      "AVG: Scores = 0.2066666666666667 F1-Scores = 0.18420782920782922 Negativity = [0.3733879216420711, 0.3776731869605099, 0.3703943969603917] Entropy = [3.550448740675116e-15, 3.504158473233145e-15, 3.91758178544132e-15]\n"
     ]
    },
    {
     "name": "stderr",
     "output_type": "stream",
     "text": [
      "[Parallel(n_jobs=-1)]: Done   3 out of   3 | elapsed:  1.2min finished\n",
      "[Parallel(n_jobs=-1)]: Using backend LokyBackend with 12 concurrent workers.\n"
     ]
    },
    {
     "name": "stdout",
     "output_type": "stream",
     "text": [
      "K-Fold #0\n",
      "Mean negativities for all classes: [0.35491566719747, 0.37686367853832803, 0.37506951585752446]\n",
      "Mean entropies for all classes: [3.0954062734180316e-15, 4.259050700942585e-15, 2.86025953895122e-15]\n",
      "              precision    recall  f1-score   support\n",
      "\n",
      "           0       0.43      0.60      0.50         5\n",
      "           1       0.25      0.20      0.22         5\n",
      "           2       0.75      0.60      0.67         5\n",
      "\n",
      "    accuracy                           0.47        15\n",
      "   macro avg       0.48      0.47      0.46        15\n",
      "weighted avg       0.48      0.47      0.46        15\n",
      "\n",
      "-------------------------------------------------------------------------------------------------------------------\n"
     ]
    },
    {
     "name": "stderr",
     "output_type": "stream",
     "text": [
      "[Parallel(n_jobs=-1)]: Done   3 out of   3 | elapsed:  1.2min finished\n",
      "[Parallel(n_jobs=-1)]: Using backend LokyBackend with 12 concurrent workers.\n"
     ]
    },
    {
     "name": "stdout",
     "output_type": "stream",
     "text": [
      "K-Fold #1\n",
      "Mean negativities for all classes: [0.3629473704476248, 0.386317458499231, 0.37615288076489367]\n",
      "Mean entropies for all classes: [2.867317173864974e-15, 2.5299809632136536e-15, 2.9441982849986853e-15]\n",
      "              precision    recall  f1-score   support\n",
      "\n",
      "           0       0.67      0.40      0.50         5\n",
      "           1       0.00      0.00      0.00         5\n",
      "           2       0.17      0.20      0.18         5\n",
      "\n",
      "    accuracy                           0.20        15\n",
      "   macro avg       0.28      0.20      0.23        15\n",
      "weighted avg       0.28      0.20      0.23        15\n",
      "\n",
      "-------------------------------------------------------------------------------------------------------------------\n"
     ]
    },
    {
     "name": "stderr",
     "output_type": "stream",
     "text": [
      "[Parallel(n_jobs=-1)]: Done   3 out of   3 | elapsed:  1.2min finished\n",
      "[Parallel(n_jobs=-1)]: Using backend LokyBackend with 12 concurrent workers.\n"
     ]
    },
    {
     "name": "stdout",
     "output_type": "stream",
     "text": [
      "K-Fold #2\n",
      "Mean negativities for all classes: [0.36587870922143145, 0.3904743648737972, 0.3871454550580395]\n",
      "Mean entropies for all classes: [4.285096944332478e-15, 3.0661938218274546e-15, 3.859423882213022e-15]\n",
      "              precision    recall  f1-score   support\n",
      "\n",
      "           0       0.38      0.60      0.46         5\n",
      "           1       0.17      0.20      0.18         5\n",
      "           2       0.00      0.00      0.00         5\n",
      "\n",
      "    accuracy                           0.27        15\n",
      "   macro avg       0.18      0.27      0.21        15\n",
      "weighted avg       0.18      0.27      0.21        15\n",
      "\n",
      "-------------------------------------------------------------------------------------------------------------------\n"
     ]
    },
    {
     "name": "stderr",
     "output_type": "stream",
     "text": [
      "[Parallel(n_jobs=-1)]: Done   3 out of   3 | elapsed:  1.2min finished\n",
      "[Parallel(n_jobs=-1)]: Using backend LokyBackend with 12 concurrent workers.\n"
     ]
    },
    {
     "name": "stdout",
     "output_type": "stream",
     "text": [
      "K-Fold #3\n",
      "Mean negativities for all classes: [0.3610090470287077, 0.3771114393113697, 0.3807678410695763]\n",
      "Mean entropies for all classes: [3.4772186938264116e-15, 3.7763373730352195e-15, 2.8820812048935447e-15]\n",
      "              precision    recall  f1-score   support\n",
      "\n",
      "           0       0.25      0.40      0.31         5\n",
      "           1       0.33      0.40      0.36         5\n",
      "           2       1.00      0.20      0.33         5\n",
      "\n",
      "    accuracy                           0.33        15\n",
      "   macro avg       0.53      0.33      0.33        15\n",
      "weighted avg       0.53      0.33      0.33        15\n",
      "\n",
      "-------------------------------------------------------------------------------------------------------------------\n"
     ]
    },
    {
     "name": "stderr",
     "output_type": "stream",
     "text": [
      "[Parallel(n_jobs=-1)]: Done   3 out of   3 | elapsed:  1.2min finished\n",
      "[Parallel(n_jobs=-1)]: Using backend LokyBackend with 12 concurrent workers.\n"
     ]
    },
    {
     "name": "stdout",
     "output_type": "stream",
     "text": [
      "K-Fold #4\n",
      "Mean negativities for all classes: [0.36744140514244095, 0.3776677762137836, 0.3864423352309475]\n",
      "Mean entropies for all classes: [4.412976034052141e-15, 4.237875309249229e-15, 3.540901750619932e-15]\n",
      "              precision    recall  f1-score   support\n",
      "\n",
      "           0       0.20      0.20      0.20         5\n",
      "           1       0.00      0.00      0.00         5\n",
      "           2       0.00      0.00      0.00         5\n",
      "\n",
      "    accuracy                           0.07        15\n",
      "   macro avg       0.07      0.07      0.07        15\n",
      "weighted avg       0.07      0.07      0.07        15\n",
      "\n",
      "-------------------------------------------------------------------------------------------------------------------\n"
     ]
    },
    {
     "name": "stderr",
     "output_type": "stream",
     "text": [
      "[Parallel(n_jobs=-1)]: Done   3 out of   3 | elapsed:  1.2min finished\n",
      "[Parallel(n_jobs=-1)]: Using backend LokyBackend with 12 concurrent workers.\n"
     ]
    },
    {
     "name": "stdout",
     "output_type": "stream",
     "text": [
      "K-Fold #5\n",
      "Mean negativities for all classes: [0.3687123206174504, 0.3761188090950542, 0.3858350392709262]\n",
      "Mean entropies for all classes: [3.8497230599969455e-15, 3.5288948949439565e-15, 3.097410974965076e-15]\n",
      "              precision    recall  f1-score   support\n",
      "\n",
      "           0       0.20      0.20      0.20         5\n",
      "           1       0.11      0.20      0.14         5\n",
      "           2       1.00      0.20      0.33         5\n",
      "\n",
      "    accuracy                           0.20        15\n",
      "   macro avg       0.44      0.20      0.23        15\n",
      "weighted avg       0.44      0.20      0.23        15\n",
      "\n",
      "-------------------------------------------------------------------------------------------------------------------\n"
     ]
    },
    {
     "name": "stderr",
     "output_type": "stream",
     "text": [
      "[Parallel(n_jobs=-1)]: Done   3 out of   3 | elapsed:  1.2min finished\n",
      "[Parallel(n_jobs=-1)]: Using backend LokyBackend with 12 concurrent workers.\n"
     ]
    },
    {
     "name": "stdout",
     "output_type": "stream",
     "text": [
      "K-Fold #6\n",
      "Mean negativities for all classes: [0.37076775515360416, 0.37852455736884305, 0.38269086852046]\n",
      "Mean entropies for all classes: [3.4554807841198937e-15, 4.178813618008626e-15, 3.3663969822515133e-15]\n",
      "              precision    recall  f1-score   support\n",
      "\n",
      "           0       0.20      0.20      0.20         5\n",
      "           1       0.00      0.00      0.00         5\n",
      "           2       0.00      0.00      0.00         5\n",
      "\n",
      "    accuracy                           0.07        15\n",
      "   macro avg       0.07      0.07      0.07        15\n",
      "weighted avg       0.07      0.07      0.07        15\n",
      "\n",
      "-------------------------------------------------------------------------------------------------------------------\n"
     ]
    },
    {
     "name": "stderr",
     "output_type": "stream",
     "text": [
      "[Parallel(n_jobs=-1)]: Done   3 out of   3 | elapsed:  1.2min finished\n",
      "[Parallel(n_jobs=-1)]: Using backend LokyBackend with 12 concurrent workers.\n"
     ]
    },
    {
     "name": "stdout",
     "output_type": "stream",
     "text": [
      "K-Fold #7\n",
      "Mean negativities for all classes: [0.3712283084608751, 0.38271113179375893, 0.37293726872766864]\n",
      "Mean entropies for all classes: [4.012765094748149e-15, 3.882169914562798e-15, 2.983208190660158e-15]\n",
      "              precision    recall  f1-score   support\n",
      "\n",
      "           0       0.60      0.60      0.60         5\n",
      "           1       0.25      0.40      0.31         5\n",
      "           2       0.00      0.00      0.00         5\n",
      "\n",
      "    accuracy                           0.33        15\n",
      "   macro avg       0.28      0.33      0.30        15\n",
      "weighted avg       0.28      0.33      0.30        15\n",
      "\n",
      "-------------------------------------------------------------------------------------------------------------------\n"
     ]
    },
    {
     "name": "stderr",
     "output_type": "stream",
     "text": [
      "[Parallel(n_jobs=-1)]: Done   3 out of   3 | elapsed:  1.2min finished\n",
      "[Parallel(n_jobs=-1)]: Using backend LokyBackend with 12 concurrent workers.\n"
     ]
    },
    {
     "name": "stdout",
     "output_type": "stream",
     "text": [
      "K-Fold #8\n",
      "Mean negativities for all classes: [0.3699836719640635, 0.37615016912260707, 0.38566176442399336]\n",
      "Mean entropies for all classes: [3.617731530097883e-15, 4.324014222587978e-15, 4.661338643417701e-15]\n",
      "              precision    recall  f1-score   support\n",
      "\n",
      "           0       0.17      0.20      0.18         5\n",
      "           1       0.00      0.00      0.00         5\n",
      "           2       0.00      0.00      0.00         5\n",
      "\n",
      "    accuracy                           0.07        15\n",
      "   macro avg       0.06      0.07      0.06        15\n",
      "weighted avg       0.06      0.07      0.06        15\n",
      "\n",
      "-------------------------------------------------------------------------------------------------------------------\n"
     ]
    },
    {
     "name": "stderr",
     "output_type": "stream",
     "text": [
      "[Parallel(n_jobs=-1)]: Done   3 out of   3 | elapsed:  1.2min finished\n",
      "c:\\ProgramData\\Anaconda3\\lib\\site-packages\\sklearn\\metrics\\_classification.py:1344: UndefinedMetricWarning: Precision and F-score are ill-defined and being set to 0.0 in labels with no predicted samples. Use `zero_division` parameter to control this behavior.\n",
      "  _warn_prf(average, modifier, msg_start, len(result))\n",
      "c:\\ProgramData\\Anaconda3\\lib\\site-packages\\sklearn\\metrics\\_classification.py:1344: UndefinedMetricWarning: Precision and F-score are ill-defined and being set to 0.0 in labels with no predicted samples. Use `zero_division` parameter to control this behavior.\n",
      "  _warn_prf(average, modifier, msg_start, len(result))\n",
      "c:\\ProgramData\\Anaconda3\\lib\\site-packages\\sklearn\\metrics\\_classification.py:1344: UndefinedMetricWarning: Precision and F-score are ill-defined and being set to 0.0 in labels with no predicted samples. Use `zero_division` parameter to control this behavior.\n",
      "  _warn_prf(average, modifier, msg_start, len(result))\n",
      "[Parallel(n_jobs=-1)]: Using backend LokyBackend with 12 concurrent workers.\n"
     ]
    },
    {
     "name": "stdout",
     "output_type": "stream",
     "text": [
      "K-Fold #9\n",
      "Mean negativities for all classes: [0.3755673418514785, 0.38134674330757434, 0.38781854783880804]\n",
      "Mean entropies for all classes: [3.9651372816671724e-15, 4.0238565783238075e-15, 3.820232922347755e-15]\n",
      "              precision    recall  f1-score   support\n",
      "\n",
      "           0       0.43      0.60      0.50         5\n",
      "           1       0.12      0.20      0.15         5\n",
      "           2       0.00      0.00      0.00         5\n",
      "\n",
      "    accuracy                           0.27        15\n",
      "   macro avg       0.18      0.27      0.22        15\n",
      "weighted avg       0.18      0.27      0.22        15\n",
      "\n",
      "-------------------------------------------------------------------------------------------------------------------\n",
      "AVG: Scores = 0.22666666666666666 F1-Scores = 0.21794242794242794 Negativity = [0.3689496205311074, 0.3751392365705832, 0.38116617638442274] Entropy = [3.4049055044372787e-15, 2.780498807359104e-15, 3.736904882790985e-15]\n"
     ]
    },
    {
     "name": "stderr",
     "output_type": "stream",
     "text": [
      "[Parallel(n_jobs=-1)]: Done   3 out of   3 | elapsed:  1.2min finished\n",
      "[Parallel(n_jobs=-1)]: Using backend LokyBackend with 12 concurrent workers.\n"
     ]
    },
    {
     "name": "stdout",
     "output_type": "stream",
     "text": [
      "K-Fold #0\n",
      "Mean negativities for all classes: [0.37167240551923764, 0.3888474825474628, 0.3764827483676029]\n",
      "Mean entropies for all classes: [4.12600716925566e-15, 3.4702772293930817e-15, 3.4280293715008015e-15]\n",
      "              precision    recall  f1-score   support\n",
      "\n",
      "           0       0.50      0.40      0.44         5\n",
      "           1       0.14      0.20      0.17         5\n",
      "           2       0.50      0.40      0.44         5\n",
      "\n",
      "    accuracy                           0.33        15\n",
      "   macro avg       0.38      0.33      0.35        15\n",
      "weighted avg       0.38      0.33      0.35        15\n",
      "\n",
      "-------------------------------------------------------------------------------------------------------------------\n"
     ]
    },
    {
     "name": "stderr",
     "output_type": "stream",
     "text": [
      "[Parallel(n_jobs=-1)]: Done   3 out of   3 | elapsed:  1.2min finished\n",
      "[Parallel(n_jobs=-1)]: Using backend LokyBackend with 12 concurrent workers.\n"
     ]
    },
    {
     "name": "stdout",
     "output_type": "stream",
     "text": [
      "K-Fold #1\n",
      "Mean negativities for all classes: [0.36025928957072734, 0.37980119686668823, 0.3827938470515008]\n",
      "Mean entropies for all classes: [4.0705780174968855e-15, 3.556012208474556e-15, 2.6856336310715803e-15]\n",
      "              precision    recall  f1-score   support\n",
      "\n",
      "           0       0.43      0.60      0.50         5\n",
      "           1       0.00      0.00      0.00         5\n",
      "           2       0.00      0.00      0.00         5\n",
      "\n",
      "    accuracy                           0.20        15\n",
      "   macro avg       0.14      0.20      0.17        15\n",
      "weighted avg       0.14      0.20      0.17        15\n",
      "\n",
      "-------------------------------------------------------------------------------------------------------------------\n"
     ]
    },
    {
     "name": "stderr",
     "output_type": "stream",
     "text": [
      "[Parallel(n_jobs=-1)]: Done   3 out of   3 | elapsed:  1.2min finished\n",
      "[Parallel(n_jobs=-1)]: Using backend LokyBackend with 12 concurrent workers.\n"
     ]
    },
    {
     "name": "stdout",
     "output_type": "stream",
     "text": [
      "K-Fold #2\n",
      "Mean negativities for all classes: [0.3644671407919738, 0.37993006657976325, 0.3763057354742815]\n",
      "Mean entropies for all classes: [4.074000266692302e-15, 4.0875692356971886e-15, 3.645460286670673e-15]\n",
      "              precision    recall  f1-score   support\n",
      "\n",
      "           0       0.43      0.60      0.50         5\n",
      "           1       0.20      0.20      0.20         5\n",
      "           2       0.00      0.00      0.00         5\n",
      "\n",
      "    accuracy                           0.27        15\n",
      "   macro avg       0.21      0.27      0.23        15\n",
      "weighted avg       0.21      0.27      0.23        15\n",
      "\n",
      "-------------------------------------------------------------------------------------------------------------------\n"
     ]
    },
    {
     "name": "stderr",
     "output_type": "stream",
     "text": [
      "[Parallel(n_jobs=-1)]: Done   3 out of   3 | elapsed:  1.2min finished\n",
      "[Parallel(n_jobs=-1)]: Using backend LokyBackend with 12 concurrent workers.\n"
     ]
    },
    {
     "name": "stdout",
     "output_type": "stream",
     "text": [
      "K-Fold #3\n",
      "Mean negativities for all classes: [0.3703517191751992, 0.3695529342246205, 0.3859227340823458]\n",
      "Mean entropies for all classes: [3.62814199972692e-15, 2.500995557834413e-15, 3.4165201148324074e-15]\n",
      "              precision    recall  f1-score   support\n",
      "\n",
      "           0       0.00      0.00      0.00       5.0\n",
      "           1       0.00      0.00      0.00       5.0\n",
      "           2       0.00      0.00      0.00       5.0\n",
      "\n",
      "    accuracy                           0.00      15.0\n",
      "   macro avg       0.00      0.00      0.00      15.0\n",
      "weighted avg       0.00      0.00      0.00      15.0\n",
      "\n",
      "-------------------------------------------------------------------------------------------------------------------\n"
     ]
    },
    {
     "name": "stderr",
     "output_type": "stream",
     "text": [
      "[Parallel(n_jobs=-1)]: Done   3 out of   3 | elapsed:  1.2min finished\n",
      "[Parallel(n_jobs=-1)]: Using backend LokyBackend with 12 concurrent workers.\n"
     ]
    },
    {
     "name": "stdout",
     "output_type": "stream",
     "text": [
      "K-Fold #4\n",
      "Mean negativities for all classes: [0.37041979655873725, 0.37753179188874947, 0.37825543376914983]\n",
      "Mean entropies for all classes: [3.1851484713118047e-15, 3.991943903990685e-15, 3.4715763879146467e-15]\n",
      "              precision    recall  f1-score   support\n",
      "\n",
      "           0       0.50      0.60      0.55         5\n",
      "           1       0.12      0.20      0.15         5\n",
      "           2       0.00      0.00      0.00         5\n",
      "\n",
      "    accuracy                           0.27        15\n",
      "   macro avg       0.21      0.27      0.23        15\n",
      "weighted avg       0.21      0.27      0.23        15\n",
      "\n",
      "-------------------------------------------------------------------------------------------------------------------\n"
     ]
    },
    {
     "name": "stderr",
     "output_type": "stream",
     "text": [
      "[Parallel(n_jobs=-1)]: Done   3 out of   3 | elapsed:  1.2min finished\n",
      "[Parallel(n_jobs=-1)]: Using backend LokyBackend with 12 concurrent workers.\n"
     ]
    },
    {
     "name": "stdout",
     "output_type": "stream",
     "text": [
      "K-Fold #5\n",
      "Mean negativities for all classes: [0.36580258652337183, 0.3882586229722972, 0.3839320437046266]\n",
      "Mean entropies for all classes: [4.043627290858186e-15, 2.7302824428187024e-15, 3.5971963480062196e-15]\n",
      "              precision    recall  f1-score   support\n",
      "\n",
      "           0       0.43      0.60      0.50         5\n",
      "           1       0.14      0.20      0.17         5\n",
      "           2       0.00      0.00      0.00         5\n",
      "\n",
      "    accuracy                           0.27        15\n",
      "   macro avg       0.19      0.27      0.22        15\n",
      "weighted avg       0.19      0.27      0.22        15\n",
      "\n",
      "-------------------------------------------------------------------------------------------------------------------\n"
     ]
    },
    {
     "name": "stderr",
     "output_type": "stream",
     "text": [
      "[Parallel(n_jobs=-1)]: Done   3 out of   3 | elapsed:  1.2min finished\n",
      "c:\\ProgramData\\Anaconda3\\lib\\site-packages\\sklearn\\metrics\\_classification.py:1344: UndefinedMetricWarning: Precision and F-score are ill-defined and being set to 0.0 in labels with no predicted samples. Use `zero_division` parameter to control this behavior.\n",
      "  _warn_prf(average, modifier, msg_start, len(result))\n",
      "c:\\ProgramData\\Anaconda3\\lib\\site-packages\\sklearn\\metrics\\_classification.py:1344: UndefinedMetricWarning: Precision and F-score are ill-defined and being set to 0.0 in labels with no predicted samples. Use `zero_division` parameter to control this behavior.\n",
      "  _warn_prf(average, modifier, msg_start, len(result))\n",
      "c:\\ProgramData\\Anaconda3\\lib\\site-packages\\sklearn\\metrics\\_classification.py:1344: UndefinedMetricWarning: Precision and F-score are ill-defined and being set to 0.0 in labels with no predicted samples. Use `zero_division` parameter to control this behavior.\n",
      "  _warn_prf(average, modifier, msg_start, len(result))\n",
      "[Parallel(n_jobs=-1)]: Using backend LokyBackend with 12 concurrent workers.\n"
     ]
    },
    {
     "name": "stdout",
     "output_type": "stream",
     "text": [
      "K-Fold #6\n",
      "Mean negativities for all classes: [0.36892893640202173, 0.3908055859520211, 0.1662784228544155]\n",
      "Mean entropies for all classes: [3.1684415389573653e-15, 4.534638460093086e-15, 3.1449067802700786e-15]\n",
      "              precision    recall  f1-score   support\n",
      "\n",
      "           0       0.00      0.00      0.00         5\n",
      "           1       0.00      0.00      0.00         5\n",
      "           2       0.33      1.00      0.50         5\n",
      "\n",
      "    accuracy                           0.33        15\n",
      "   macro avg       0.11      0.33      0.17        15\n",
      "weighted avg       0.11      0.33      0.17        15\n",
      "\n",
      "-------------------------------------------------------------------------------------------------------------------\n"
     ]
    },
    {
     "name": "stderr",
     "output_type": "stream",
     "text": [
      "[Parallel(n_jobs=-1)]: Done   3 out of   3 | elapsed:  1.2min finished\n",
      "c:\\ProgramData\\Anaconda3\\lib\\site-packages\\sklearn\\metrics\\_classification.py:1344: UndefinedMetricWarning: Precision and F-score are ill-defined and being set to 0.0 in labels with no predicted samples. Use `zero_division` parameter to control this behavior.\n",
      "  _warn_prf(average, modifier, msg_start, len(result))\n",
      "c:\\ProgramData\\Anaconda3\\lib\\site-packages\\sklearn\\metrics\\_classification.py:1344: UndefinedMetricWarning: Precision and F-score are ill-defined and being set to 0.0 in labels with no predicted samples. Use `zero_division` parameter to control this behavior.\n",
      "  _warn_prf(average, modifier, msg_start, len(result))\n",
      "c:\\ProgramData\\Anaconda3\\lib\\site-packages\\sklearn\\metrics\\_classification.py:1344: UndefinedMetricWarning: Precision and F-score are ill-defined and being set to 0.0 in labels with no predicted samples. Use `zero_division` parameter to control this behavior.\n",
      "  _warn_prf(average, modifier, msg_start, len(result))\n",
      "[Parallel(n_jobs=-1)]: Using backend LokyBackend with 12 concurrent workers.\n"
     ]
    },
    {
     "name": "stdout",
     "output_type": "stream",
     "text": [
      "K-Fold #7\n",
      "Mean negativities for all classes: [0.369798090788904, 0.3869928174162661, 0.38427453985436]\n",
      "Mean entropies for all classes: [3.630847618554383e-15, 3.2051050422196888e-15, 3.2766396331604777e-15]\n",
      "              precision    recall  f1-score   support\n",
      "\n",
      "           0       0.50      0.40      0.44         5\n",
      "           1       0.36      0.80      0.50         5\n",
      "           2       0.00      0.00      0.00         5\n",
      "\n",
      "    accuracy                           0.40        15\n",
      "   macro avg       0.29      0.40      0.31        15\n",
      "weighted avg       0.29      0.40      0.31        15\n",
      "\n",
      "-------------------------------------------------------------------------------------------------------------------\n"
     ]
    },
    {
     "name": "stderr",
     "output_type": "stream",
     "text": [
      "[Parallel(n_jobs=-1)]: Done   3 out of   3 | elapsed:  1.2min finished\n",
      "c:\\ProgramData\\Anaconda3\\lib\\site-packages\\sklearn\\metrics\\_classification.py:1344: UndefinedMetricWarning: Precision and F-score are ill-defined and being set to 0.0 in labels with no predicted samples. Use `zero_division` parameter to control this behavior.\n",
      "  _warn_prf(average, modifier, msg_start, len(result))\n",
      "c:\\ProgramData\\Anaconda3\\lib\\site-packages\\sklearn\\metrics\\_classification.py:1344: UndefinedMetricWarning: Precision and F-score are ill-defined and being set to 0.0 in labels with no predicted samples. Use `zero_division` parameter to control this behavior.\n",
      "  _warn_prf(average, modifier, msg_start, len(result))\n",
      "c:\\ProgramData\\Anaconda3\\lib\\site-packages\\sklearn\\metrics\\_classification.py:1344: UndefinedMetricWarning: Precision and F-score are ill-defined and being set to 0.0 in labels with no predicted samples. Use `zero_division` parameter to control this behavior.\n",
      "  _warn_prf(average, modifier, msg_start, len(result))\n",
      "[Parallel(n_jobs=-1)]: Using backend LokyBackend with 12 concurrent workers.\n"
     ]
    },
    {
     "name": "stdout",
     "output_type": "stream",
     "text": [
      "K-Fold #8\n",
      "Mean negativities for all classes: [0.35973574935754243, 0.382083942271696, 0.3826852024677689]\n",
      "Mean entropies for all classes: [3.4245991572252763e-15, 3.4140542897013656e-15, 3.770530123493254e-15]\n",
      "              precision    recall  f1-score   support\n",
      "\n",
      "           0       0.43      0.60      0.50         5\n",
      "           1       0.38      0.60      0.46         5\n",
      "           2       0.00      0.00      0.00         5\n",
      "\n",
      "    accuracy                           0.40        15\n",
      "   macro avg       0.27      0.40      0.32        15\n",
      "weighted avg       0.27      0.40      0.32        15\n",
      "\n",
      "-------------------------------------------------------------------------------------------------------------------\n",
      "K-Fold #9\n",
      "Mean negativities for all classes: [0.36313438358576167, 0.37999935448742367, 0.3825904930352878]\n",
      "Mean entropies for all classes: [3.3975927048114145e-15, 4.409779648383164e-15, 2.951090295186228e-15]\n",
      "              precision    recall  f1-score   support\n",
      "\n",
      "           0       0.57      0.80      0.67         5\n",
      "           1       0.50      0.60      0.55         5\n",
      "           2       0.50      0.20      0.29         5\n",
      "\n",
      "    accuracy                           0.53        15\n",
      "   macro avg       0.52      0.53      0.50        15\n",
      "weighted avg       0.52      0.53      0.50        15\n",
      "\n",
      "-------------------------------------------------------------------------------------------------------------------\n",
      "AVG: Scores = 0.29999999999999993 F1-Scores = 0.2508447108447108 Negativity = [0.37900087881143446, 0.3742847778296388, 0.37356764761533956] Entropy = [3.674771256716515e-15, 3.437407952347674e-15, 3.935676596353388e-15]\n",
      "CPU times: total: 18.1 s\n",
      "Wall time: 3h 57min 12s\n"
     ]
    },
    {
     "name": "stderr",
     "output_type": "stream",
     "text": [
      "[Parallel(n_jobs=-1)]: Done   3 out of   3 | elapsed:  1.2min finished\n"
     ]
    }
   ],
   "source": [
    "%%time\n",
    "scores_list = []\n",
    "f1scores_list = []\n",
    "negativities_list = []\n",
    "for SEED in range(n_times_kfold):\n",
    "    scores, f1scores, output_dict = execute_training_test_k_fold(\n",
    "                    X, \n",
    "                    y, \n",
    "                    k_folds=k_times_fold,\n",
    "                    random_seed = SEED, \n",
    "                    classifier_function=classifier_function, \n",
    "                    dic_classifier_params=dic_classifier_params,\n",
    "                    one_vs_classifier=OneVsRestClassifier, \n",
    "                    dic_training_params=dic_training_params,\n",
    "                    print_each_fold_metric=True,\n",
    "                    print_avg_metric=True)\n",
    "    scores_list.append(scores)\n",
    "    f1scores_list.append(f1scores)\n",
    "    negativities_list.append(output_dict[\"negativities\"])"
   ]
  },
  {
   "cell_type": "code",
   "execution_count": 3,
   "id": "7f7363b8",
   "metadata": {},
   "outputs": [
    {
     "name": "stdout",
     "output_type": "stream",
     "text": [
      "Media Score dos N K-Fold 0.248\n",
      "Maior Score dos K-Fold 0.29999999999999993\n",
      "Min Score dos K-Fold 0.2066666666666667\n",
      "Media Score dos K-Fold [0.22666666666666666, 0.28, 0.24666666666666667, 0.28, 0.2666666666666667, 0.21333333333333332, 0.23333333333333334, 0.24666666666666667, 0.24000000000000005, 0.26, 0.2533333333333333, 0.24000000000000005, 0.2266666666666667, 0.24666666666666667, 0.2666666666666667, 0.27999999999999997, 0.22000000000000003, 0.2066666666666667, 0.22666666666666666, 0.29999999999999993]\n",
      "\n",
      "\n",
      "[[0.13333333333333333, 0.26666666666666666, 0.26666666666666666, 0.06666666666666667, 0.3333333333333333, 0.26666666666666666, 0.13333333333333333, 0.26666666666666666, 0.13333333333333333, 0.4], [0.4, 0.3333333333333333, 0.4, 0.13333333333333333, 0.13333333333333333, 0.2, 0.26666666666666666, 0.3333333333333333, 0.26666666666666666, 0.3333333333333333], [0.3333333333333333, 0.2, 0.2, 0.3333333333333333, 0.3333333333333333, 0.13333333333333333, 0.06666666666666667, 0.2, 0.4, 0.26666666666666666], [0.3333333333333333, 0.06666666666666667, 0.4, 0.2, 0.3333333333333333, 0.5333333333333333, 0.26666666666666666, 0.26666666666666666, 0.3333333333333333, 0.06666666666666667], [0.3333333333333333, 0.2, 0.3333333333333333, 0.26666666666666666, 0.3333333333333333, 0.26666666666666666, 0.4, 0.2, 0.13333333333333333, 0.2], [0.3333333333333333, 0.26666666666666666, 0.13333333333333333, 0.2, 0.4, 0.26666666666666666, 0.13333333333333333, 0.2, 0.06666666666666667, 0.13333333333333333], [0.13333333333333333, 0.4666666666666667, 0.06666666666666667, 0.3333333333333333, 0.06666666666666667, 0.4, 0.4, 0.06666666666666667, 0.2, 0.2], [0.3333333333333333, 0.13333333333333333, 0.3333333333333333, 0.2, 0.26666666666666666, 0.3333333333333333, 0.26666666666666666, 0.06666666666666667, 0.13333333333333333, 0.4], [0.06666666666666667, 0.6, 0.3333333333333333, 0.2, 0.13333333333333333, 0.06666666666666667, 0.26666666666666666, 0.3333333333333333, 0.2, 0.2], [0.2, 0.2, 0.4, 0.2, 0.6666666666666666, 0.13333333333333333, 0.2, 0.13333333333333333, 0.2, 0.26666666666666666], [0.06666666666666667, 0.13333333333333333, 0.2, 0.2, 0.4666666666666667, 0.4, 0.4, 0.4, 0.13333333333333333, 0.13333333333333333], [0.26666666666666666, 0.06666666666666667, 0.26666666666666666, 0.13333333333333333, 0.26666666666666666, 0.4, 0.4, 0.13333333333333333, 0.3333333333333333, 0.13333333333333333], [0.13333333333333333, 0.06666666666666667, 0.3333333333333333, 0.26666666666666666, 0.4, 0.3333333333333333, 0.13333333333333333, 0.26666666666666666, 0.13333333333333333, 0.2], [0.4, 0.3333333333333333, 0.2, 0.26666666666666666, 0.2, 0.13333333333333333, 0.2, 0.26666666666666666, 0.13333333333333333, 0.3333333333333333], [0.26666666666666666, 0.06666666666666667, 0.26666666666666666, 0.26666666666666666, 0.3333333333333333, 0.13333333333333333, 0.3333333333333333, 0.26666666666666666, 0.4, 0.3333333333333333], [0.4666666666666667, 0.3333333333333333, 0.2, 0.13333333333333333, 0.26666666666666666, 0.26666666666666666, 0.26666666666666666, 0.3333333333333333, 0.4, 0.13333333333333333], [0.26666666666666666, 0.2, 0.06666666666666667, 0.13333333333333333, 0.3333333333333333, 0.4, 0.3333333333333333, 0.13333333333333333, 0.06666666666666667, 0.26666666666666666], [0.26666666666666666, 0.06666666666666667, 0.4, 0.2, 0.06666666666666667, 0.2, 0.13333333333333333, 0.26666666666666666, 0.06666666666666667, 0.4], [0.4666666666666667, 0.2, 0.26666666666666666, 0.3333333333333333, 0.06666666666666667, 0.2, 0.06666666666666667, 0.3333333333333333, 0.06666666666666667, 0.26666666666666666], [0.3333333333333333, 0.2, 0.26666666666666666, 0.0, 0.26666666666666666, 0.26666666666666666, 0.3333333333333333, 0.4, 0.4, 0.5333333333333333]]\n"
     ]
    }
   ],
   "source": [
    "print(\"Media Score dos N K-Fold\", np.mean([np.mean(i) for i in scores_list]))\n",
    "print(\"Maior Score dos K-Fold\", max([np.mean(i) for i in scores_list]))\n",
    "print(\"Min Score dos K-Fold\", min([np.mean(i) for i in scores_list]))\n",
    "\n",
    "print(\"Media Score dos K-Fold\", [np.mean(i) for i in scores_list])\n",
    "print()\n",
    "print()\n",
    "print(scores_list)"
   ]
  },
  {
   "cell_type": "code",
   "execution_count": 4,
   "id": "49ad1fc9",
   "metadata": {},
   "outputs": [
    {
     "name": "stdout",
     "output_type": "stream",
     "text": [
      "Media F1Score dos N K-Fold 0.2239098800666138\n",
      "Maior F1Score dos K-Fold 0.2573980648980648\n",
      "Maior F1Score dos K-Fold 0.18420782920782922\n",
      "Media F1Score dos K-Fold [0.21434324934324933, 0.2573980648980648, 0.23160099160099157, 0.24340882801409114, 0.2504323454323455, 0.19254523254523256, 0.2096688496688497, 0.22598105598105594, 0.22770433270433274, 0.24178747178747179, 0.23326192326192324, 0.2087954637954638, 0.2114912864912865, 0.22503848003848, 0.22002016502016503, 0.2294184029478147, 0.20230648980648977, 0.18420782920782922, 0.21794242794242794, 0.2508447108447108]\n",
      "\n",
      "\n",
      "[[0.1212121212121212, 0.30663780663780665, 0.22857142857142856, 0.07407407407407408, 0.26666666666666666, 0.25, 0.16666666666666666, 0.21367521367521367, 0.1623931623931624, 0.35353535353535354], [0.3246753246753247, 0.29523809523809524, 0.38888888888888884, 0.10256410256410257, 0.11851851851851852, 0.19444444444444442, 0.2814814814814815, 0.32756132756132755, 0.26746031746031745, 0.27314814814814814], [0.33404558404558404, 0.1581196581196581, 0.19576719576719578, 0.32556332556332557, 0.33888888888888885, 0.10256410256410257, 0.06666666666666668, 0.18095238095238098, 0.3861693861693862, 0.22727272727272727], [0.27314814814814814, 0.07407407407407408, 0.28654970760233917, 0.1623931623931624, 0.3452380952380952, 0.5079365079365079, 0.21445221445221443, 0.22857142857142856, 0.275058275058275, 0.06666666666666668], [0.28438228438228436, 0.19999999999999998, 0.2692307692307692, 0.2512820512820513, 0.32251082251082247, 0.26746031746031745, 0.3861693861693862, 0.21318681318681323, 0.13333333333333336, 0.17676767676767677], [0.34208754208754216, 0.2074074074074074, 0.1212121212121212, 0.1693121693121693, 0.3333333333333333, 0.26666666666666666, 0.11851851851851852, 0.18461538461538463, 0.07407407407407408, 0.10822510822510822], [0.1111111111111111, 0.4386724386724387, 0.0606060606060606, 0.33602693602693606, 0.0606060606060606, 0.3333333333333333, 0.3682539682539683, 0.0606060606060606, 0.18461538461538463, 0.14285714285714285], [0.3055555555555555, 0.1216931216931217, 0.275058275058275, 0.1688311688311688, 0.25396825396825395, 0.27777777777777773, 0.27200577200577203, 0.08333333333333333, 0.13333333333333336, 0.3682539682539683], [0.07407407407407408, 0.5956043956043957, 0.32251082251082247, 0.16666666666666666, 0.13333333333333336, 0.0606060606060606, 0.2512820512820513, 0.32556332556332557, 0.1785714285714286, 0.1688311688311688], [0.18095238095238098, 0.2113997113997114, 0.39444444444444443, 0.20868945868945868, 0.6111111111111112, 0.11188811188811187, 0.21693121693121697, 0.10256410256410257, 0.14285714285714285, 0.23703703703703705], [0.06666666666666668, 0.11111111111111112, 0.1724941724941725, 0.19999999999999998, 0.48148148148148145, 0.3862433862433863, 0.38888888888888884, 0.29629629629629634, 0.10822510822510822, 0.1212121212121212], [0.21645021645021645, 0.047619047619047616, 0.2222222222222222, 0.13333333333333336, 0.23737373737373735, 0.3304843304843305, 0.39444444444444443, 0.10822510822510822, 0.29523809523809524, 0.10256410256410257], [0.10256410256410257, 0.05555555555555555, 0.3348873348873349, 0.23737373737373735, 0.3978021978021978, 0.26573426573426573, 0.1212121212121212, 0.27200577200577203, 0.11111111111111112, 0.2166666666666667], [0.39663299663299667, 0.32222222222222224, 0.1688311688311688, 0.2380952380952381, 0.18095238095238098, 0.1111111111111111, 0.19444444444444442, 0.22857142857142856, 0.11428571428571428, 0.29523809523809524], [0.21794871794871795, 0.07407407407407408, 0.21645021645021645, 0.17777777777777778, 0.31575091575091574, 0.08333333333333336, 0.2606837606837607, 0.2558922558922559, 0.3333333333333333, 0.26495726495726496], [0.4783549783549783, 0.1851851851851852, 0.16666666666666666, 0.11428571428571428, 0.22857142857142856, 0.2512820512820513, 0.2094017094017094, 0.19607843137254902, 0.3246753246753247, 0.1396825396825397], [0.22222222222222224, 0.18461538461538463, 0.05555555555555555, 0.15584415584415587, 0.3346801346801347, 0.37684537684537683, 0.27314814814814814, 0.14814814814814817, 0.05555555555555555, 0.21645021645021645], [0.22857142857142856, 0.06666666666666668, 0.4000000000000001, 0.1818181818181818, 0.0606060606060606, 0.16666666666666666, 0.1574074074074074, 0.21367521367521367, 0.05555555555555555, 0.3111111111111111], [0.46296296296296297, 0.22727272727272727, 0.21445221445221443, 0.3348873348873349, 0.06666666666666668, 0.2253968253968254, 0.06666666666666668, 0.30256410256410254, 0.0606060606060606, 0.21794871794871795], [0.35185185185185186, 0.16666666666666666, 0.23333333333333336, 0.0, 0.2331002331002331, 0.2222222222222222, 0.16666666666666666, 0.3148148148148149, 0.3205128205128205, 0.49927849927849927]]\n"
     ]
    }
   ],
   "source": [
    "print(\"Media F1Score dos N K-Fold\", np.mean([np.mean(i) for i in f1scores_list]))\n",
    "print(\"Maior F1Score dos K-Fold\", max([np.mean(i) for i in f1scores_list]))\n",
    "print(\"Maior F1Score dos K-Fold\", min([np.mean(i) for i in f1scores_list]))\n",
    "\n",
    "print(\"Media F1Score dos K-Fold\", [np.mean(i) for i in f1scores_list])\n",
    "print()\n",
    "print()\n",
    "print(f1scores_list)"
   ]
  },
  {
   "cell_type": "code",
   "execution_count": 5,
   "id": "9fa72621",
   "metadata": {},
   "outputs": [
    {
     "name": "stdout",
     "output_type": "stream",
     "text": [
      "Media Negativity dos N K-Fold [0.36711344397010764, 0.3802879254420077, 0.37632332189356377]\n",
      "\n",
      "\n",
      "[[[0.3732661061381127, 0.363668307046334, 0.3612966442179494, 0.3680479848581223, 0.3748367499337261, 0.36918979392485013, 0.3812794583464378, 0.3705543088712212, 0.3655244360013958, 0.35611801431939477], [0.3814778960333282, 0.37693281417196534, 0.38066303536242974, 0.3798316361930472, 0.37450189393767375, 0.38720671181295446, 0.3842860018253988, 0.384584299125084, 0.3789980822802007, 0.3805936127117044], [0.3846406045918686, 0.38694714391548846, 0.3815247966069803, 0.37820099258802276, 0.3863399952485115, 0.37648170054398733, 0.38041265127897095, 0.38370732839134764, 0.3825085742599545, 0.3771211460516414]], [[0.3657285123037583, 0.3700589064974989, 0.3806230543823255, 0.35220380167556353, 0.37122457038806456, 0.37290828529968567, 0.367900638930519, 0.36079324648144784, 0.36309194056177907, 0.3694184665046948], [0.3813731464892834, 0.371320654923014, 0.39149493555246045, 0.37337892804513656, 0.3781029451145594, 0.3777048078905498, 0.3772982105446302, 0.3877301024469891, 0.36577000622522976, 0.37048179963603717], [0.3815206410790311, 0.383945726718488, 0.38430703113172515, 0.38343764249287104, 0.3811522578101592, 0.37523614444305287, 0.3725604941123298, 0.3802593920395506, 0.37881953190914286, 0.3867553520840586]], [[0.38223357317362633, 0.3680037058324823, 0.36364055896150277, 0.3621793194378821, 0.3634045996068604, 0.3652376172461922, 0.36584736224912023, 0.37160473173503905, 0.37014722962926616, 0.36115502296377416], [0.3774911331454488, 0.37997398322658754, 0.3803026480488659, 0.3856533478047965, 0.3779295461732154, 0.38577953315077557, 0.37237005846060833, 0.376771781392646, 0.38418859855479265, 0.387985753777453], [0.37354796139453345, 0.38920809623455604, 0.3801602292537307, 0.3863148484326913, 0.3799076988945246, 0.3786810672377234, 0.38198296134767507, 0.3757469915362735, 0.3860638451940297, 0.38215176155180836]], [[0.3685006929542655, 0.36687132166843234, 0.36871163281718194, 0.3630809301733601, 0.37570509547089326, 0.36384885626658686, 0.36782320577618777, 0.35811704691619956, 0.3651611912759616, 0.36845552870018744], [0.378874835977267, 0.3820134063940144, 0.3897652352596866, 0.38082574426989996, 0.38270953420959003, 0.3767115993852011, 0.3879463923090635, 0.3760293783772143, 0.38062906088597187, 0.3815451627854323], [0.38481126362219853, 0.38013016834958807, 0.16551566628822922, 0.38551366702466655, 0.3763268090645068, 0.3734024119917217, 0.3851839901327469, 0.3861025457891094, 0.3731555601477229, 0.3802883728208492]], [[0.36135634838840625, 0.36858721868348193, 0.3728446108313411, 0.3585740786158654, 0.35847567490487187, 0.3767633935657779, 0.3702712376101449, 0.36387451327238624, 0.36607200811342405, 0.3638247007948557], [0.38108906046989854, 0.39184286581847355, 0.38787747725155747, 0.38221208096454695, 0.38585116489452836, 0.3745358908722101, 0.377601431754156, 0.3765826118112143, 0.38806112696961714, 0.3767298455481342], [0.38638045381309705, 0.3729200533479217, 0.3824329857004504, 0.38166703613614605, 0.3745276371834855, 0.3821258176524449, 0.3895101203238322, 0.37888625130280057, 0.3821168787581661, 0.38044549561367647]], [[0.37337346841436114, 0.3682116140036663, 0.36799798418031743, 0.37173829513232376, 0.35694313831817825, 0.3669901992733446, 0.37269673324068875, 0.3592213316277929, 0.36658197417191746, 0.3678997715571529], [0.3854971956743858, 0.38272581049142046, 0.3624649682045637, 0.38311520497821483, 0.3856217073986034, 0.3854652437595979, 0.36822178933478883, 0.3790649250304037, 0.3763780861586843, 0.37926456771654554], [0.3747103226474829, 0.38374335625406464, 0.38220765262130996, 0.3747746206411466, 0.38618443331232555, 0.3784743318165395, 0.38426005497538424, 0.3818448586052638, 0.38425651730507904, 0.38281619873519196]], [[0.3726771046869119, 0.370325713210158, 0.3710883782384808, 0.3692377530928333, 0.3710818131542101, 0.36864828377965303, 0.3647892318578422, 0.3622572528011316, 0.3465633743592757, 0.37733255563355594], [0.3808209854100759, 0.3832965723974389, 0.37210285056508086, 0.3848963125481838, 0.3840681257768971, 0.37427224412153187, 0.39048741070914533, 0.37843817199898766, 0.37623770688329744, 0.3875080011764505], [0.37879518669796625, 0.3781679739334985, 0.3862169442462603, 0.37806904613763237, 0.39194432190482764, 0.37711516024059644, 0.3757317268188656, 0.38738447437058116, 0.3820290983985544, 0.39281510447987994]], [[0.36147377251447976, 0.37153287074414915, 0.3750987708195113, 0.3679259972400319, 0.36766493476301226, 0.3601359047297768, 0.3713932203344254, 0.36634871741597286, 0.3711158438048287, 0.3657663337367177], [0.39030179376354207, 0.3790441040306364, 0.3818261870870391, 0.37595116694530756, 0.3855908885761713, 0.3830800322984069, 0.3783570595580264, 0.3707408407533743, 0.3741086385221931, 0.38527656556427736], [0.3785768647092275, 0.38585630633152007, 0.3848477085074687, 0.3804574058264709, 0.38094298790712866, 0.38507855044889455, 0.3724714506812161, 0.38651858782347726, 0.38563864562463496, 0.3836247511246234]], [[0.3683685985353085, 0.3692174740578097, 0.3562407126426754, 0.36651499013988204, 0.3819479375069417, 0.3578984427258831, 0.3694527147621927, 0.36462976938945046, 0.36919090138429045, 0.36604642914636754], [0.3830644746748682, 0.3838180247682231, 0.3775843480256127, 0.3761974285712173, 0.3773298211913531, 0.3744548774827654, 0.3728588845868953, 0.387582399138975, 0.3692383702622223, 0.370189395249916], [0.37815889813528086, 0.3827648894205428, 0.3696002502013264, 0.3837218676161413, 0.37839778530439266, 0.3818601910694955, 0.3765300665230558, 0.38418410375178996, 0.38760387509927174, 0.3839179900836387]], [[0.3675940387974228, 0.366787125632746, 0.3592427591557693, 0.3770961274288765, 0.36494192324540065, 0.3618187977639717, 0.3688088758997583, 0.36423002637598717, 0.3759382716591132, 0.3744776858086757], [0.3828277631311769, 0.38539870949871624, 0.3848238170977264, 0.38149605720659846, 0.39153277249413565, 0.38360203363690737, 0.36491821277973846, 0.36772846151607125, 0.38152039236490115, 0.3755981891740637], [0.3813301024655217, 0.3834691523254572, 0.37856483401548935, 0.38735854361813093, 0.3708343880662269, 0.3842952668608541, 0.3810653422757391, 0.3829631593202226, 0.3861368705288593, 0.3791446164350457]], [[0.3615565473800059, 0.36626358706133977, 0.35787964311446013, 0.3684756996253953, 0.36729483210391023, 0.3810235934575118, 0.38044512516839674, 0.3614180202525057, 0.377633594500704, 0.3595565049464647], [0.3824306474123656, 0.37030632187112106, 0.3830258195682011, 0.3702130095114549, 0.3777539873865891, 0.3842281795406019, 0.38668595036401576, 0.3778509934171795, 0.37926339730138625, 0.3799907469650118], [0.3787562366024895, 0.38843047530937713, 0.3801583874519209, 0.38142111898373243, 0.3716563757074398, 0.3793177153338193, 0.3801265668624561, 0.16788162904972026, 0.3890469958344224, 0.3751192941152101]], [[0.37081698300065324, 0.3508908194217794, 0.3667684284971421, 0.370698039154489, 0.37557529824774255, 0.36226294558218564, 0.36093471026777124, 0.3673518645629225, 0.37105779839935216, 0.3646505503735528], [0.3816891630622068, 0.3716464675902574, 0.3810145209503257, 0.3773696205116731, 0.38774608137063143, 0.39196136260089876, 0.38097165647430487, 0.3757538834524797, 0.3821389905616442, 0.38266138545940775], [0.38748817657810347, 0.37864100798841854, 0.37703174706247167, 0.381889291708233, 0.3804966890004764, 0.3736956940250756, 0.38041279927696914, 0.3914454699670787, 0.3883233836931293, 0.38668045728985095]], [[0.35728227912306926, 0.3670064970442486, 0.36761876701783763, 0.3684427851580753, 0.3676479968414093, 0.36815596883516793, 0.36116330804397345, 0.35507735231763643, 0.3735651798459435, 0.3793030953667413], [0.3761922121990056, 0.37579646874546385, 0.3806124457876983, 0.3858084375827791, 0.3900852751011926, 0.3884505868991663, 0.3850335054007364, 0.3781325592649869, 0.37306648456024855, 0.3868776198159721], [0.3892555658687364, 0.386524583798381, 0.3850556642266269, 0.37805633897642527, 0.37378771807915034, 0.3817075410436378, 0.3741561328511721, 0.3853543308690858, 0.38490208037688445, 0.38421905841957077]], [[0.3625921181484269, 0.35469902204141335, 0.36874891878550714, 0.3552066355847777, 0.37153405870032014, 0.37562001835894926, 0.3706394195662714, 0.36392934817995487, 0.38031282562813457, 0.3693077231329396], [0.3827084523431746, 0.37525794928697115, 0.3660878725344213, 0.3872337836946684, 0.3802823453396472, 0.388421335533039, 0.3843121572989432, 0.37975781057242713, 0.3767563292580539, 0.3833890077438337], [0.3795055343903368, 0.37860906417220563, 0.386896973275209, 0.37600785926302915, 0.3843726202598207, 0.3837281024171315, 0.3776587553088299, 0.37966222822525747, 0.38871126680231466, 0.39043079470672065]], [[0.3715228072137491, 0.3666605384673934, 0.3627420801369145, 0.36494297796303155, 0.3644993787883505, 0.3732859361101213, 0.360415200669215, 0.37184333797282876, 0.3696885533889456, 0.3654636354071044], [0.37974315981972784, 0.3788877582090836, 0.3772685719791954, 0.3830632988579282, 0.3860399005410198, 0.3701171049511896, 0.38576800629591196, 0.3892778067339674, 0.3827050869184552, 0.3869304012251445], [0.3823808117576017, 0.3814975074559367, 0.3872125892073637, 0.38517019823086873, 0.3778625584845711, 0.3749435003541325, 0.3854259570265205, 0.37096024575706105, 0.3864696004477831, 0.385723561273769]], [[0.3672433989213667, 0.36696696150422276, 0.36434185324373103, 0.36635072416071857, 0.36089131681455994, 0.3691093616318934, 0.3670669977531983, 0.3637141272270175, 0.363500520008148, 0.375556810299418], [0.38350938597745265, 0.37841355071926247, 0.3745091505060811, 0.3743164044927792, 0.3788664735791959, 0.3736964613009379, 0.38062036820078, 0.37725503983396513, 0.38501766678722527, 0.382065255030145], [0.3801857581986855, 0.16661807392312794, 0.385337848103705, 0.38524470992853355, 0.37479250082995125, 0.37734852365750965, 0.3854809875154738, 0.1672317134454135, 0.3837753635585396, 0.38189423708211423]], [[0.36906556507353, 0.35292384588774944, 0.3705190800037205, 0.3716063356509627, 0.3515642763821726, 0.3686385880998163, 0.37800830702509214, 0.36426868398710466, 0.3714014075158368, 0.3728234699700958], [0.3707456655299945, 0.3752048367466163, 0.37366315453821053, 0.37644911884112625, 0.3844529167789605, 0.38863645564458993, 0.3797419286786749, 0.38174098376922605, 0.37924570430580457, 0.3836616893801455], [0.3820147045039847, 0.37377961535473136, 0.38005725371864535, 0.3777907596127999, 0.3795280477090151, 0.38286094684188726, 0.3851881333833455, 0.3776600256077289, 0.3906431416113211, 0.39000052446795236]], [[0.36669885586109763, 0.37064080801423693, 0.3565057628369076, 0.3687284640582451, 0.3731370041926389, 0.36254674388207103, 0.3712033974842137, 0.3691499177535794, 0.3658811242488767, 0.3654788670002646], [0.3761401735605522, 0.3786199794073598, 0.37630911658176347, 0.38703827758504616, 0.3745975812592643, 0.3773104342899526, 0.3858516686098451, 0.3836630239401145, 0.3759552624187626, 0.37683011636065733], [0.3773247355045635, 0.38375877345993303, 0.3783683114625041, 0.38470243662037223, 0.3878833283678164, 0.3859828248823579, 0.37276046753766257, 0.3864262414505765, 0.3804267655362003, 0.38674202256392376]], [[0.35491566719747, 0.3629473704476248, 0.36587870922143145, 0.3610090470287077, 0.36744140514244095, 0.3687123206174504, 0.37076775515360416, 0.3712283084608751, 0.3699836719640635, 0.3755673418514785], [0.37686367853832803, 0.386317458499231, 0.3904743648737972, 0.3771114393113697, 0.3776677762137836, 0.3761188090950542, 0.37852455736884305, 0.38271113179375893, 0.37615016912260707, 0.38134674330757434], [0.37506951585752446, 0.37615288076489367, 0.3871454550580395, 0.3807678410695763, 0.3864423352309475, 0.3858350392709262, 0.38269086852046, 0.37293726872766864, 0.38566176442399336, 0.38781854783880804]], [[0.37167240551923764, 0.36025928957072734, 0.3644671407919738, 0.3703517191751992, 0.37041979655873725, 0.36580258652337183, 0.36892893640202173, 0.369798090788904, 0.35973574935754243, 0.36313438358576167], [0.3888474825474628, 0.37980119686668823, 0.37993006657976325, 0.3695529342246205, 0.37753179188874947, 0.3882586229722972, 0.3908055859520211, 0.3869928174162661, 0.382083942271696, 0.37999935448742367], [0.3764827483676029, 0.3827938470515008, 0.3763057354742815, 0.3859227340823458, 0.37825543376914983, 0.3839320437046266, 0.1662784228544155, 0.38427453985436, 0.3826852024677689, 0.3825904930352878]]]\n"
     ]
    }
   ],
   "source": [
    "print(\"Media Negativity dos N K-Fold\", [np.mean([neg[i] for neg in negativities_list]) for i in range(len(set(y)))])\n",
    "\n",
    "print()\n",
    "print()\n",
    "print(negativities_list)"
   ]
  }
 ],
 "metadata": {
  "kernelspec": {
   "display_name": "Python 3",
   "language": "python",
   "name": "python3"
  },
  "language_info": {
   "codemirror_mode": {
    "name": "ipython",
    "version": 3
   },
   "file_extension": ".py",
   "mimetype": "text/x-python",
   "name": "python",
   "nbconvert_exporter": "python",
   "pygments_lexer": "ipython3",
   "version": "3.9.16"
  }
 },
 "nbformat": 4,
 "nbformat_minor": 5
}
