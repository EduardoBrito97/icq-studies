{
 "cells": [
  {
   "attachments": {},
   "cell_type": "markdown",
   "id": "7cafd549",
   "metadata": {},
   "source": [
    "## Proposed - 1 -  Sigma_q with Identity and Load input state in env state"
   ]
  },
  {
   "cell_type": "code",
   "execution_count": 1,
   "id": "f6a490ca",
   "metadata": {},
   "outputs": [
    {
     "name": "stderr",
     "output_type": "stream",
     "text": [
      "Intel(R) Extension for Scikit-learn* enabled (https://github.com/intel/scikit-learn-intelex)\n"
     ]
    }
   ],
   "source": [
    "import sys, os\n",
    "sys.path.append(os.path.abspath('../classifiers'))\n",
    "sys.path.append(os.path.abspath('../training'))\n",
    "sys.path.append(os.path.abspath('../validation'))\n",
    "from validation_functions import execute_training_test_k_fold\n",
    "from classifiers_ICQ import iqc_classifier\n",
    "\n",
    "from sklearn.multiclass import OneVsRestClassifier\n",
    "import numpy as np\n",
    "from sklearn import datasets"
   ]
  },
  {
   "cell_type": "code",
   "execution_count": 2,
   "id": "ba271fd2",
   "metadata": {},
   "outputs": [],
   "source": [
    "def get_dataset():\n",
    "    # Dá pra usar caminhos relativos, não tem pra quê colocar tudo de uma vez não\n",
    "    path_to_datasets = \"../datasets/Datasets_template_exp/\" \n",
    "    dataset_name = \"linear_sep.npy\"\n",
    "    dataset = np.load(path_to_datasets + dataset_name)\n",
    "\n",
    "    X, y = dataset[:,:-1],dataset[:,-1]\n",
    "    return X, y"
   ]
  },
  {
   "cell_type": "code",
   "execution_count": 3,
   "id": "0db239e0",
   "metadata": {},
   "outputs": [],
   "source": [
    "X, y = get_dataset()\n",
    "classifier_function = iqc_classifier\n",
    "dic_classifier_params = {}\n",
    "dic_classifier_params[\"sigma_q_params\"] = [1,1,1,1]\n",
    "dic_classifier_params[\"use_polar_coordinates_on_sigma_q\"] = False\n",
    "dic_classifier_params[\"load_inputvector_env_state\"] = True\n",
    "dic_classifier_params[\"normalize_axis\"] = 1\n",
    "\n",
    "dic_training_params = {\"max_iter\": 1000,\n",
    "    \"accuracy_succ\": 0.99,\n",
    "    \"plot_graphs_and_metrics\": True,\n",
    "    \"plot_graphs_in_classifier\": True,\n",
    "    \"random_seed\": 1,\n",
    "    \"learning_rate\": 0.01,\n",
    "    \"refit_db\":True,\n",
    "    \"reset_weights_epoch\":0,\n",
    "    \"do_classes_refit\":True,\n",
    "    \"batch\":False}\n",
    "\n",
    "\n",
    "print_each_fold_metric=True\n",
    "print_avg_metric=True\n",
    "\n",
    "\n",
    "n_times_kfold = 20\n",
    "k_times_fold = 10"
   ]
  },
  {
   "cell_type": "code",
   "execution_count": 4,
   "id": "cf776e03",
   "metadata": {},
   "outputs": [
    {
     "name": "stderr",
     "output_type": "stream",
     "text": [
      "[Parallel(n_jobs=-1)]: Using backend LokyBackend with 12 concurrent workers.\n",
      "[Parallel(n_jobs=-1)]: Done   1 out of   1 | elapsed:  2.1min finished\n",
      "[Parallel(n_jobs=-1)]: Using backend LokyBackend with 12 concurrent workers.\n"
     ]
    },
    {
     "name": "stdout",
     "output_type": "stream",
     "text": [
      "K-Fold #0:\n",
      "              precision    recall  f1-score   support\n",
      "\n",
      "         0.0       0.48      0.55      0.51        20\n",
      "         1.0       0.47      0.40      0.43        20\n",
      "\n",
      "    accuracy                           0.48        40\n",
      "   macro avg       0.47      0.48      0.47        40\n",
      "weighted avg       0.47      0.47      0.47        40\n",
      "\n",
      "-------------------------------------------------------------------------------------------------------------------\n"
     ]
    },
    {
     "name": "stderr",
     "output_type": "stream",
     "text": [
      "[Parallel(n_jobs=-1)]: Done   1 out of   1 | elapsed:  2.1min finished\n",
      "[Parallel(n_jobs=-1)]: Using backend LokyBackend with 12 concurrent workers.\n"
     ]
    },
    {
     "name": "stdout",
     "output_type": "stream",
     "text": [
      "K-Fold #1:\n",
      "              precision    recall  f1-score   support\n",
      "\n",
      "         0.0       0.47      0.85      0.61        20\n",
      "         1.0       0.25      0.05      0.08        20\n",
      "\n",
      "    accuracy                           0.45        40\n",
      "   macro avg       0.36      0.45      0.35        40\n",
      "weighted avg       0.36      0.45      0.35        40\n",
      "\n",
      "-------------------------------------------------------------------------------------------------------------------\n"
     ]
    },
    {
     "name": "stderr",
     "output_type": "stream",
     "text": [
      "[Parallel(n_jobs=-1)]: Done   1 out of   1 | elapsed:  2.1min finished\n",
      "[Parallel(n_jobs=-1)]: Using backend LokyBackend with 12 concurrent workers.\n"
     ]
    },
    {
     "name": "stdout",
     "output_type": "stream",
     "text": [
      "K-Fold #2:\n",
      "              precision    recall  f1-score   support\n",
      "\n",
      "         0.0       0.38      0.25      0.30        20\n",
      "         1.0       0.44      0.60      0.51        20\n",
      "\n",
      "    accuracy                           0.42        40\n",
      "   macro avg       0.41      0.42      0.41        40\n",
      "weighted avg       0.41      0.42      0.41        40\n",
      "\n",
      "-------------------------------------------------------------------------------------------------------------------\n"
     ]
    },
    {
     "name": "stderr",
     "output_type": "stream",
     "text": [
      "[Parallel(n_jobs=-1)]: Done   1 out of   1 | elapsed:  2.3min finished\n",
      "[Parallel(n_jobs=-1)]: Using backend LokyBackend with 12 concurrent workers.\n"
     ]
    },
    {
     "name": "stdout",
     "output_type": "stream",
     "text": [
      "K-Fold #3:\n",
      "              precision    recall  f1-score   support\n",
      "\n",
      "         0.0       0.48      0.80      0.60        20\n",
      "         1.0       0.43      0.15      0.22        20\n",
      "\n",
      "    accuracy                           0.48        40\n",
      "   macro avg       0.46      0.48      0.41        40\n",
      "weighted avg       0.46      0.47      0.41        40\n",
      "\n",
      "-------------------------------------------------------------------------------------------------------------------\n"
     ]
    },
    {
     "name": "stderr",
     "output_type": "stream",
     "text": [
      "[Parallel(n_jobs=-1)]: Done   1 out of   1 | elapsed:  2.2min finished\n",
      "[Parallel(n_jobs=-1)]: Using backend LokyBackend with 12 concurrent workers.\n"
     ]
    },
    {
     "name": "stdout",
     "output_type": "stream",
     "text": [
      "K-Fold #4:\n",
      "              precision    recall  f1-score   support\n",
      "\n",
      "         0.0       0.46      0.65      0.54        20\n",
      "         1.0       0.42      0.25      0.31        20\n",
      "\n",
      "    accuracy                           0.45        40\n",
      "   macro avg       0.44      0.45      0.43        40\n",
      "weighted avg       0.44      0.45      0.43        40\n",
      "\n",
      "-------------------------------------------------------------------------------------------------------------------\n"
     ]
    },
    {
     "name": "stderr",
     "output_type": "stream",
     "text": [
      "[Parallel(n_jobs=-1)]: Done   1 out of   1 | elapsed:  2.1min finished\n",
      "[Parallel(n_jobs=-1)]: Using backend LokyBackend with 12 concurrent workers.\n"
     ]
    },
    {
     "name": "stdout",
     "output_type": "stream",
     "text": [
      "K-Fold #5:\n",
      "              precision    recall  f1-score   support\n",
      "\n",
      "         0.0       0.48      0.60      0.53        20\n",
      "         1.0       0.47      0.35      0.40        20\n",
      "\n",
      "    accuracy                           0.48        40\n",
      "   macro avg       0.47      0.47      0.47        40\n",
      "weighted avg       0.47      0.47      0.47        40\n",
      "\n",
      "-------------------------------------------------------------------------------------------------------------------\n"
     ]
    },
    {
     "name": "stderr",
     "output_type": "stream",
     "text": [
      "[Parallel(n_jobs=-1)]: Done   1 out of   1 | elapsed:  2.2min finished\n",
      "[Parallel(n_jobs=-1)]: Using backend LokyBackend with 12 concurrent workers.\n"
     ]
    },
    {
     "name": "stdout",
     "output_type": "stream",
     "text": [
      "K-Fold #6:\n",
      "              precision    recall  f1-score   support\n",
      "\n",
      "         0.0       0.50      0.60      0.55        20\n",
      "         1.0       0.50      0.40      0.44        20\n",
      "\n",
      "    accuracy                           0.50        40\n",
      "   macro avg       0.50      0.50      0.49        40\n",
      "weighted avg       0.50      0.50      0.49        40\n",
      "\n",
      "-------------------------------------------------------------------------------------------------------------------\n"
     ]
    },
    {
     "name": "stderr",
     "output_type": "stream",
     "text": [
      "[Parallel(n_jobs=-1)]: Done   1 out of   1 | elapsed:  2.1min finished\n",
      "[Parallel(n_jobs=-1)]: Using backend LokyBackend with 12 concurrent workers.\n"
     ]
    },
    {
     "name": "stdout",
     "output_type": "stream",
     "text": [
      "K-Fold #7:\n",
      "              precision    recall  f1-score   support\n",
      "\n",
      "         0.0       0.47      0.40      0.43        20\n",
      "         1.0       0.48      0.55      0.51        20\n",
      "\n",
      "    accuracy                           0.48        40\n",
      "   macro avg       0.47      0.48      0.47        40\n",
      "weighted avg       0.47      0.47      0.47        40\n",
      "\n",
      "-------------------------------------------------------------------------------------------------------------------\n"
     ]
    },
    {
     "name": "stderr",
     "output_type": "stream",
     "text": [
      "[Parallel(n_jobs=-1)]: Done   1 out of   1 | elapsed:  2.1min finished\n",
      "[Parallel(n_jobs=-1)]: Using backend LokyBackend with 12 concurrent workers.\n"
     ]
    },
    {
     "name": "stdout",
     "output_type": "stream",
     "text": [
      "K-Fold #8:\n",
      "              precision    recall  f1-score   support\n",
      "\n",
      "         0.0       0.45      0.65      0.53        20\n",
      "         1.0       0.36      0.20      0.26        20\n",
      "\n",
      "    accuracy                           0.42        40\n",
      "   macro avg       0.41      0.43      0.39        40\n",
      "weighted avg       0.41      0.42      0.39        40\n",
      "\n",
      "-------------------------------------------------------------------------------------------------------------------\n"
     ]
    },
    {
     "name": "stderr",
     "output_type": "stream",
     "text": [
      "[Parallel(n_jobs=-1)]: Done   1 out of   1 | elapsed:  2.3min finished\n",
      "[Parallel(n_jobs=-1)]: Using backend LokyBackend with 12 concurrent workers.\n"
     ]
    },
    {
     "name": "stdout",
     "output_type": "stream",
     "text": [
      "K-Fold #9:\n",
      "              precision    recall  f1-score   support\n",
      "\n",
      "         0.0       0.47      0.45      0.46        20\n",
      "         1.0       0.48      0.50      0.49        20\n",
      "\n",
      "    accuracy                           0.48        40\n",
      "   macro avg       0.47      0.47      0.47        40\n",
      "weighted avg       0.47      0.47      0.47        40\n",
      "\n",
      "-------------------------------------------------------------------------------------------------------------------\n",
      "AVG: Scores = 0.4624999999999999 F1-Scores = 0.4366840183919146\n"
     ]
    },
    {
     "name": "stderr",
     "output_type": "stream",
     "text": [
      "[Parallel(n_jobs=-1)]: Done   1 out of   1 | elapsed:  2.3min finished\n",
      "[Parallel(n_jobs=-1)]: Using backend LokyBackend with 12 concurrent workers.\n"
     ]
    },
    {
     "name": "stdout",
     "output_type": "stream",
     "text": [
      "K-Fold #0:\n",
      "              precision    recall  f1-score   support\n",
      "\n",
      "         0.0       0.47      0.45      0.46        20\n",
      "         1.0       0.48      0.50      0.49        20\n",
      "\n",
      "    accuracy                           0.48        40\n",
      "   macro avg       0.47      0.47      0.47        40\n",
      "weighted avg       0.47      0.47      0.47        40\n",
      "\n",
      "-------------------------------------------------------------------------------------------------------------------\n"
     ]
    },
    {
     "name": "stderr",
     "output_type": "stream",
     "text": [
      "[Parallel(n_jobs=-1)]: Done   1 out of   1 | elapsed:  2.2min finished\n",
      "[Parallel(n_jobs=-1)]: Using backend LokyBackend with 12 concurrent workers.\n"
     ]
    },
    {
     "name": "stdout",
     "output_type": "stream",
     "text": [
      "K-Fold #1:\n",
      "              precision    recall  f1-score   support\n",
      "\n",
      "         0.0       0.50      0.55      0.52        20\n",
      "         1.0       0.50      0.45      0.47        20\n",
      "\n",
      "    accuracy                           0.50        40\n",
      "   macro avg       0.50      0.50      0.50        40\n",
      "weighted avg       0.50      0.50      0.50        40\n",
      "\n",
      "-------------------------------------------------------------------------------------------------------------------\n"
     ]
    },
    {
     "name": "stderr",
     "output_type": "stream",
     "text": [
      "[Parallel(n_jobs=-1)]: Done   1 out of   1 | elapsed:  2.3min finished\n",
      "[Parallel(n_jobs=-1)]: Using backend LokyBackend with 12 concurrent workers.\n"
     ]
    },
    {
     "name": "stdout",
     "output_type": "stream",
     "text": [
      "K-Fold #2:\n",
      "              precision    recall  f1-score   support\n",
      "\n",
      "         0.0       0.20      0.05      0.08        20\n",
      "         1.0       0.46      0.80      0.58        20\n",
      "\n",
      "    accuracy                           0.42        40\n",
      "   macro avg       0.33      0.43      0.33        40\n",
      "weighted avg       0.33      0.42      0.33        40\n",
      "\n",
      "-------------------------------------------------------------------------------------------------------------------\n"
     ]
    },
    {
     "name": "stderr",
     "output_type": "stream",
     "text": [
      "[Parallel(n_jobs=-1)]: Done   1 out of   1 | elapsed:  2.1min finished\n",
      "[Parallel(n_jobs=-1)]: Using backend LokyBackend with 12 concurrent workers.\n"
     ]
    },
    {
     "name": "stdout",
     "output_type": "stream",
     "text": [
      "K-Fold #3:\n",
      "              precision    recall  f1-score   support\n",
      "\n",
      "         0.0       0.45      0.50      0.48        20\n",
      "         1.0       0.44      0.40      0.42        20\n",
      "\n",
      "    accuracy                           0.45        40\n",
      "   macro avg       0.45      0.45      0.45        40\n",
      "weighted avg       0.45      0.45      0.45        40\n",
      "\n",
      "-------------------------------------------------------------------------------------------------------------------\n"
     ]
    },
    {
     "name": "stderr",
     "output_type": "stream",
     "text": [
      "[Parallel(n_jobs=-1)]: Done   1 out of   1 | elapsed:  2.1min finished\n",
      "[Parallel(n_jobs=-1)]: Using backend LokyBackend with 12 concurrent workers.\n"
     ]
    },
    {
     "name": "stdout",
     "output_type": "stream",
     "text": [
      "K-Fold #4:\n",
      "              precision    recall  f1-score   support\n",
      "\n",
      "         0.0       0.50      0.60      0.55        20\n",
      "         1.0       0.50      0.40      0.44        20\n",
      "\n",
      "    accuracy                           0.50        40\n",
      "   macro avg       0.50      0.50      0.49        40\n",
      "weighted avg       0.50      0.50      0.49        40\n",
      "\n",
      "-------------------------------------------------------------------------------------------------------------------\n"
     ]
    },
    {
     "name": "stderr",
     "output_type": "stream",
     "text": [
      "[Parallel(n_jobs=-1)]: Done   1 out of   1 | elapsed:  2.1min finished\n",
      "[Parallel(n_jobs=-1)]: Using backend LokyBackend with 12 concurrent workers.\n"
     ]
    },
    {
     "name": "stdout",
     "output_type": "stream",
     "text": [
      "K-Fold #5:\n",
      "              precision    recall  f1-score   support\n",
      "\n",
      "         0.0       0.48      0.50      0.49        20\n",
      "         1.0       0.47      0.45      0.46        20\n",
      "\n",
      "    accuracy                           0.48        40\n",
      "   macro avg       0.47      0.47      0.47        40\n",
      "weighted avg       0.47      0.47      0.47        40\n",
      "\n",
      "-------------------------------------------------------------------------------------------------------------------\n"
     ]
    },
    {
     "name": "stderr",
     "output_type": "stream",
     "text": [
      "[Parallel(n_jobs=-1)]: Done   1 out of   1 | elapsed:  2.1min finished\n",
      "[Parallel(n_jobs=-1)]: Using backend LokyBackend with 12 concurrent workers.\n"
     ]
    },
    {
     "name": "stdout",
     "output_type": "stream",
     "text": [
      "K-Fold #6:\n",
      "              precision    recall  f1-score   support\n",
      "\n",
      "         0.0       0.42      0.40      0.41        20\n",
      "         1.0       0.43      0.45      0.44        20\n",
      "\n",
      "    accuracy                           0.42        40\n",
      "   macro avg       0.42      0.43      0.42        40\n",
      "weighted avg       0.42      0.42      0.42        40\n",
      "\n",
      "-------------------------------------------------------------------------------------------------------------------\n"
     ]
    },
    {
     "name": "stderr",
     "output_type": "stream",
     "text": [
      "[Parallel(n_jobs=-1)]: Done   1 out of   1 | elapsed:  2.1min finished\n",
      "[Parallel(n_jobs=-1)]: Using backend LokyBackend with 12 concurrent workers.\n"
     ]
    },
    {
     "name": "stdout",
     "output_type": "stream",
     "text": [
      "K-Fold #7:\n",
      "              precision    recall  f1-score   support\n",
      "\n",
      "         0.0       0.53      0.40      0.46        20\n",
      "         1.0       0.52      0.65      0.58        20\n",
      "\n",
      "    accuracy                           0.53        40\n",
      "   macro avg       0.53      0.53      0.52        40\n",
      "weighted avg       0.53      0.53      0.52        40\n",
      "\n",
      "-------------------------------------------------------------------------------------------------------------------\n"
     ]
    },
    {
     "name": "stderr",
     "output_type": "stream",
     "text": [
      "[Parallel(n_jobs=-1)]: Done   1 out of   1 | elapsed:  2.2min finished\n",
      "[Parallel(n_jobs=-1)]: Using backend LokyBackend with 12 concurrent workers.\n"
     ]
    },
    {
     "name": "stdout",
     "output_type": "stream",
     "text": [
      "K-Fold #8:\n",
      "              precision    recall  f1-score   support\n",
      "\n",
      "         0.0       0.45      0.50      0.48        20\n",
      "         1.0       0.44      0.40      0.42        20\n",
      "\n",
      "    accuracy                           0.45        40\n",
      "   macro avg       0.45      0.45      0.45        40\n",
      "weighted avg       0.45      0.45      0.45        40\n",
      "\n",
      "-------------------------------------------------------------------------------------------------------------------\n"
     ]
    },
    {
     "name": "stderr",
     "output_type": "stream",
     "text": [
      "[Parallel(n_jobs=-1)]: Done   1 out of   1 | elapsed:  2.1min finished\n",
      "[Parallel(n_jobs=-1)]: Using backend LokyBackend with 12 concurrent workers.\n"
     ]
    },
    {
     "name": "stdout",
     "output_type": "stream",
     "text": [
      "K-Fold #9:\n",
      "              precision    recall  f1-score   support\n",
      "\n",
      "         0.0       0.48      0.80      0.60        20\n",
      "         1.0       0.43      0.15      0.22        20\n",
      "\n",
      "    accuracy                           0.48        40\n",
      "   macro avg       0.46      0.48      0.41        40\n",
      "weighted avg       0.46      0.47      0.41        40\n",
      "\n",
      "-------------------------------------------------------------------------------------------------------------------\n",
      "AVG: Scores = 0.4699999999999999 F1-Scores = 0.45262905216575866\n"
     ]
    },
    {
     "name": "stderr",
     "output_type": "stream",
     "text": [
      "[Parallel(n_jobs=-1)]: Done   1 out of   1 | elapsed:  2.1min finished\n",
      "[Parallel(n_jobs=-1)]: Using backend LokyBackend with 12 concurrent workers.\n"
     ]
    },
    {
     "name": "stdout",
     "output_type": "stream",
     "text": [
      "K-Fold #0:\n",
      "              precision    recall  f1-score   support\n",
      "\n",
      "         0.0       0.50      0.55      0.52        20\n",
      "         1.0       0.50      0.45      0.47        20\n",
      "\n",
      "    accuracy                           0.50        40\n",
      "   macro avg       0.50      0.50      0.50        40\n",
      "weighted avg       0.50      0.50      0.50        40\n",
      "\n",
      "-------------------------------------------------------------------------------------------------------------------\n"
     ]
    },
    {
     "name": "stderr",
     "output_type": "stream",
     "text": [
      "[Parallel(n_jobs=-1)]: Done   1 out of   1 | elapsed:  2.2min finished\n",
      "[Parallel(n_jobs=-1)]: Using backend LokyBackend with 12 concurrent workers.\n"
     ]
    },
    {
     "name": "stdout",
     "output_type": "stream",
     "text": [
      "K-Fold #1:\n",
      "              precision    recall  f1-score   support\n",
      "\n",
      "         0.0       0.47      0.45      0.46        20\n",
      "         1.0       0.48      0.50      0.49        20\n",
      "\n",
      "    accuracy                           0.48        40\n",
      "   macro avg       0.47      0.47      0.47        40\n",
      "weighted avg       0.47      0.47      0.47        40\n",
      "\n",
      "-------------------------------------------------------------------------------------------------------------------\n"
     ]
    },
    {
     "name": "stderr",
     "output_type": "stream",
     "text": [
      "[Parallel(n_jobs=-1)]: Done   1 out of   1 | elapsed:  2.2min finished\n",
      "[Parallel(n_jobs=-1)]: Using backend LokyBackend with 12 concurrent workers.\n"
     ]
    },
    {
     "name": "stdout",
     "output_type": "stream",
     "text": [
      "K-Fold #2:\n",
      "              precision    recall  f1-score   support\n",
      "\n",
      "         0.0       0.43      0.65      0.52        20\n",
      "         1.0       0.30      0.15      0.20        20\n",
      "\n",
      "    accuracy                           0.40        40\n",
      "   macro avg       0.37      0.40      0.36        40\n",
      "weighted avg       0.37      0.40      0.36        40\n",
      "\n",
      "-------------------------------------------------------------------------------------------------------------------\n"
     ]
    },
    {
     "name": "stderr",
     "output_type": "stream",
     "text": [
      "[Parallel(n_jobs=-1)]: Done   1 out of   1 | elapsed:  2.1min finished\n",
      "[Parallel(n_jobs=-1)]: Using backend LokyBackend with 12 concurrent workers.\n"
     ]
    },
    {
     "name": "stdout",
     "output_type": "stream",
     "text": [
      "K-Fold #3:\n",
      "              precision    recall  f1-score   support\n",
      "\n",
      "         0.0       0.35      0.30      0.32        20\n",
      "         1.0       0.39      0.45      0.42        20\n",
      "\n",
      "    accuracy                           0.38        40\n",
      "   macro avg       0.37      0.38      0.37        40\n",
      "weighted avg       0.37      0.38      0.37        40\n",
      "\n",
      "-------------------------------------------------------------------------------------------------------------------\n"
     ]
    },
    {
     "name": "stderr",
     "output_type": "stream",
     "text": [
      "[Parallel(n_jobs=-1)]: Done   1 out of   1 | elapsed:  2.2min finished\n",
      "[Parallel(n_jobs=-1)]: Using backend LokyBackend with 12 concurrent workers.\n"
     ]
    },
    {
     "name": "stdout",
     "output_type": "stream",
     "text": [
      "K-Fold #4:\n",
      "              precision    recall  f1-score   support\n",
      "\n",
      "         0.0       0.40      0.10      0.16        20\n",
      "         1.0       0.49      0.85      0.62        20\n",
      "\n",
      "    accuracy                           0.48        40\n",
      "   macro avg       0.44      0.47      0.39        40\n",
      "weighted avg       0.44      0.47      0.39        40\n",
      "\n",
      "-------------------------------------------------------------------------------------------------------------------\n"
     ]
    },
    {
     "name": "stderr",
     "output_type": "stream",
     "text": [
      "[Parallel(n_jobs=-1)]: Done   1 out of   1 | elapsed:  2.1min finished\n",
      "[Parallel(n_jobs=-1)]: Using backend LokyBackend with 12 concurrent workers.\n"
     ]
    },
    {
     "name": "stdout",
     "output_type": "stream",
     "text": [
      "K-Fold #5:\n",
      "              precision    recall  f1-score   support\n",
      "\n",
      "         0.0       0.46      0.80      0.58        20\n",
      "         1.0       0.20      0.05      0.08        20\n",
      "\n",
      "    accuracy                           0.42        40\n",
      "   macro avg       0.33      0.43      0.33        40\n",
      "weighted avg       0.33      0.42      0.33        40\n",
      "\n",
      "-------------------------------------------------------------------------------------------------------------------\n"
     ]
    },
    {
     "name": "stderr",
     "output_type": "stream",
     "text": [
      "[Parallel(n_jobs=-1)]: Done   1 out of   1 | elapsed:  2.1min finished\n",
      "[Parallel(n_jobs=-1)]: Using backend LokyBackend with 12 concurrent workers.\n"
     ]
    },
    {
     "name": "stdout",
     "output_type": "stream",
     "text": [
      "K-Fold #6:\n",
      "              precision    recall  f1-score   support\n",
      "\n",
      "         0.0       0.50      0.50      0.50        20\n",
      "         1.0       0.50      0.50      0.50        20\n",
      "\n",
      "    accuracy                           0.50        40\n",
      "   macro avg       0.50      0.50      0.50        40\n",
      "weighted avg       0.50      0.50      0.50        40\n",
      "\n",
      "-------------------------------------------------------------------------------------------------------------------\n"
     ]
    },
    {
     "name": "stderr",
     "output_type": "stream",
     "text": [
      "[Parallel(n_jobs=-1)]: Done   1 out of   1 | elapsed:  2.2min finished\n",
      "[Parallel(n_jobs=-1)]: Using backend LokyBackend with 12 concurrent workers.\n"
     ]
    },
    {
     "name": "stdout",
     "output_type": "stream",
     "text": [
      "K-Fold #7:\n",
      "              precision    recall  f1-score   support\n",
      "\n",
      "         0.0       0.46      0.65      0.54        20\n",
      "         1.0       0.42      0.25      0.31        20\n",
      "\n",
      "    accuracy                           0.45        40\n",
      "   macro avg       0.44      0.45      0.43        40\n",
      "weighted avg       0.44      0.45      0.43        40\n",
      "\n",
      "-------------------------------------------------------------------------------------------------------------------\n"
     ]
    },
    {
     "name": "stderr",
     "output_type": "stream",
     "text": [
      "[Parallel(n_jobs=-1)]: Done   1 out of   1 | elapsed:  2.1min finished\n",
      "[Parallel(n_jobs=-1)]: Using backend LokyBackend with 12 concurrent workers.\n"
     ]
    },
    {
     "name": "stdout",
     "output_type": "stream",
     "text": [
      "K-Fold #8:\n",
      "              precision    recall  f1-score   support\n",
      "\n",
      "         0.0       0.45      0.65      0.53        20\n",
      "         1.0       0.36      0.20      0.26        20\n",
      "\n",
      "    accuracy                           0.42        40\n",
      "   macro avg       0.41      0.43      0.39        40\n",
      "weighted avg       0.41      0.42      0.39        40\n",
      "\n",
      "-------------------------------------------------------------------------------------------------------------------\n"
     ]
    },
    {
     "name": "stderr",
     "output_type": "stream",
     "text": [
      "[Parallel(n_jobs=-1)]: Done   1 out of   1 | elapsed:  2.1min finished\n",
      "[Parallel(n_jobs=-1)]: Using backend LokyBackend with 12 concurrent workers.\n"
     ]
    },
    {
     "name": "stdout",
     "output_type": "stream",
     "text": [
      "K-Fold #9:\n",
      "              precision    recall  f1-score   support\n",
      "\n",
      "         0.0       0.47      0.80      0.59        20\n",
      "         1.0       0.33      0.10      0.15        20\n",
      "\n",
      "    accuracy                           0.45        40\n",
      "   macro avg       0.40      0.45      0.37        40\n",
      "weighted avg       0.40      0.45      0.37        40\n",
      "\n",
      "-------------------------------------------------------------------------------------------------------------------\n",
      "AVG: Scores = 0.44749999999999995 F1-Scores = 0.4119524111771301\n"
     ]
    },
    {
     "name": "stderr",
     "output_type": "stream",
     "text": [
      "[Parallel(n_jobs=-1)]: Done   1 out of   1 | elapsed:  2.1min finished\n",
      "[Parallel(n_jobs=-1)]: Using backend LokyBackend with 12 concurrent workers.\n"
     ]
    },
    {
     "name": "stdout",
     "output_type": "stream",
     "text": [
      "K-Fold #0:\n",
      "              precision    recall  f1-score   support\n",
      "\n",
      "         0.0       0.48      0.60      0.53        20\n",
      "         1.0       0.47      0.35      0.40        20\n",
      "\n",
      "    accuracy                           0.48        40\n",
      "   macro avg       0.47      0.47      0.47        40\n",
      "weighted avg       0.47      0.47      0.47        40\n",
      "\n",
      "-------------------------------------------------------------------------------------------------------------------\n"
     ]
    },
    {
     "name": "stderr",
     "output_type": "stream",
     "text": [
      "[Parallel(n_jobs=-1)]: Done   1 out of   1 | elapsed:  2.1min finished\n",
      "[Parallel(n_jobs=-1)]: Using backend LokyBackend with 12 concurrent workers.\n"
     ]
    },
    {
     "name": "stdout",
     "output_type": "stream",
     "text": [
      "K-Fold #1:\n",
      "              precision    recall  f1-score   support\n",
      "\n",
      "         0.0       0.50      0.50      0.50        20\n",
      "         1.0       0.50      0.50      0.50        20\n",
      "\n",
      "    accuracy                           0.50        40\n",
      "   macro avg       0.50      0.50      0.50        40\n",
      "weighted avg       0.50      0.50      0.50        40\n",
      "\n",
      "-------------------------------------------------------------------------------------------------------------------\n"
     ]
    },
    {
     "name": "stderr",
     "output_type": "stream",
     "text": [
      "[Parallel(n_jobs=-1)]: Done   1 out of   1 | elapsed:  2.1min finished\n",
      "[Parallel(n_jobs=-1)]: Using backend LokyBackend with 12 concurrent workers.\n"
     ]
    },
    {
     "name": "stdout",
     "output_type": "stream",
     "text": [
      "K-Fold #2:\n",
      "              precision    recall  f1-score   support\n",
      "\n",
      "         0.0       0.45      0.65      0.53        20\n",
      "         1.0       0.36      0.20      0.26        20\n",
      "\n",
      "    accuracy                           0.42        40\n",
      "   macro avg       0.41      0.43      0.39        40\n",
      "weighted avg       0.41      0.42      0.39        40\n",
      "\n",
      "-------------------------------------------------------------------------------------------------------------------\n"
     ]
    },
    {
     "name": "stderr",
     "output_type": "stream",
     "text": [
      "[Parallel(n_jobs=-1)]: Done   1 out of   1 | elapsed:  2.2min finished\n",
      "[Parallel(n_jobs=-1)]: Using backend LokyBackend with 12 concurrent workers.\n"
     ]
    },
    {
     "name": "stdout",
     "output_type": "stream",
     "text": [
      "K-Fold #3:\n",
      "              precision    recall  f1-score   support\n",
      "\n",
      "         0.0       0.50      0.90      0.64        20\n",
      "         1.0       0.50      0.10      0.17        20\n",
      "\n",
      "    accuracy                           0.50        40\n",
      "   macro avg       0.50      0.50      0.40        40\n",
      "weighted avg       0.50      0.50      0.40        40\n",
      "\n",
      "-------------------------------------------------------------------------------------------------------------------\n"
     ]
    },
    {
     "name": "stderr",
     "output_type": "stream",
     "text": [
      "[Parallel(n_jobs=-1)]: Done   1 out of   1 | elapsed:  2.1min finished\n",
      "[Parallel(n_jobs=-1)]: Using backend LokyBackend with 12 concurrent workers.\n"
     ]
    },
    {
     "name": "stdout",
     "output_type": "stream",
     "text": [
      "K-Fold #4:\n",
      "              precision    recall  f1-score   support\n",
      "\n",
      "         0.0       0.43      0.15      0.22        20\n",
      "         1.0       0.48      0.80      0.60        20\n",
      "\n",
      "    accuracy                           0.48        40\n",
      "   macro avg       0.46      0.48      0.41        40\n",
      "weighted avg       0.46      0.47      0.41        40\n",
      "\n",
      "-------------------------------------------------------------------------------------------------------------------\n"
     ]
    },
    {
     "name": "stderr",
     "output_type": "stream",
     "text": [
      "[Parallel(n_jobs=-1)]: Done   1 out of   1 | elapsed:  2.1min finished\n",
      "[Parallel(n_jobs=-1)]: Using backend LokyBackend with 12 concurrent workers.\n"
     ]
    },
    {
     "name": "stdout",
     "output_type": "stream",
     "text": [
      "K-Fold #5:\n",
      "              precision    recall  f1-score   support\n",
      "\n",
      "         0.0       0.00      0.00      0.00        20\n",
      "         1.0       0.46      0.85      0.60        20\n",
      "\n",
      "    accuracy                           0.42        40\n",
      "   macro avg       0.23      0.42      0.30        40\n",
      "weighted avg       0.23      0.42      0.30        40\n",
      "\n",
      "-------------------------------------------------------------------------------------------------------------------\n"
     ]
    },
    {
     "name": "stderr",
     "output_type": "stream",
     "text": [
      "[Parallel(n_jobs=-1)]: Done   1 out of   1 | elapsed:  2.2min finished\n",
      "[Parallel(n_jobs=-1)]: Using backend LokyBackend with 12 concurrent workers.\n"
     ]
    },
    {
     "name": "stdout",
     "output_type": "stream",
     "text": [
      "K-Fold #6:\n",
      "              precision    recall  f1-score   support\n",
      "\n",
      "         0.0       0.48      0.65      0.55        20\n",
      "         1.0       0.46      0.30      0.36        20\n",
      "\n",
      "    accuracy                           0.48        40\n",
      "   macro avg       0.47      0.47      0.46        40\n",
      "weighted avg       0.47      0.47      0.46        40\n",
      "\n",
      "-------------------------------------------------------------------------------------------------------------------\n"
     ]
    },
    {
     "name": "stderr",
     "output_type": "stream",
     "text": [
      "[Parallel(n_jobs=-1)]: Done   1 out of   1 | elapsed:  2.1min finished\n",
      "[Parallel(n_jobs=-1)]: Using backend LokyBackend with 12 concurrent workers.\n"
     ]
    },
    {
     "name": "stdout",
     "output_type": "stream",
     "text": [
      "K-Fold #7:\n",
      "              precision    recall  f1-score   support\n",
      "\n",
      "         0.0       0.50      0.45      0.47        20\n",
      "         1.0       0.50      0.55      0.52        20\n",
      "\n",
      "    accuracy                           0.50        40\n",
      "   macro avg       0.50      0.50      0.50        40\n",
      "weighted avg       0.50      0.50      0.50        40\n",
      "\n",
      "-------------------------------------------------------------------------------------------------------------------\n"
     ]
    },
    {
     "name": "stderr",
     "output_type": "stream",
     "text": [
      "[Parallel(n_jobs=-1)]: Done   1 out of   1 | elapsed:  2.1min finished\n",
      "[Parallel(n_jobs=-1)]: Using backend LokyBackend with 12 concurrent workers.\n"
     ]
    },
    {
     "name": "stdout",
     "output_type": "stream",
     "text": [
      "K-Fold #8:\n",
      "              precision    recall  f1-score   support\n",
      "\n",
      "         0.0       0.41      0.45      0.43        20\n",
      "         1.0       0.39      0.35      0.37        20\n",
      "\n",
      "    accuracy                           0.40        40\n",
      "   macro avg       0.40      0.40      0.40        40\n",
      "weighted avg       0.40      0.40      0.40        40\n",
      "\n",
      "-------------------------------------------------------------------------------------------------------------------\n"
     ]
    },
    {
     "name": "stderr",
     "output_type": "stream",
     "text": [
      "[Parallel(n_jobs=-1)]: Done   1 out of   1 | elapsed:  2.1min finished\n",
      "[Parallel(n_jobs=-1)]: Using backend LokyBackend with 12 concurrent workers.\n"
     ]
    },
    {
     "name": "stdout",
     "output_type": "stream",
     "text": [
      "K-Fold #9:\n",
      "              precision    recall  f1-score   support\n",
      "\n",
      "         0.0       0.43      0.50      0.47        20\n",
      "         1.0       0.41      0.35      0.38        20\n",
      "\n",
      "    accuracy                           0.42        40\n",
      "   macro avg       0.42      0.42      0.42        40\n",
      "weighted avg       0.42      0.42      0.42        40\n",
      "\n",
      "-------------------------------------------------------------------------------------------------------------------\n",
      "AVG: Scores = 0.45999999999999996 F1-Scores = 0.42544148325336256\n"
     ]
    },
    {
     "name": "stderr",
     "output_type": "stream",
     "text": [
      "[Parallel(n_jobs=-1)]: Done   1 out of   1 | elapsed:  2.1min finished\n",
      "[Parallel(n_jobs=-1)]: Using backend LokyBackend with 12 concurrent workers.\n"
     ]
    },
    {
     "name": "stdout",
     "output_type": "stream",
     "text": [
      "K-Fold #0:\n",
      "              precision    recall  f1-score   support\n",
      "\n",
      "         0.0       0.42      0.40      0.41        20\n",
      "         1.0       0.43      0.45      0.44        20\n",
      "\n",
      "    accuracy                           0.42        40\n",
      "   macro avg       0.42      0.43      0.42        40\n",
      "weighted avg       0.42      0.42      0.42        40\n",
      "\n",
      "-------------------------------------------------------------------------------------------------------------------\n"
     ]
    },
    {
     "name": "stderr",
     "output_type": "stream",
     "text": [
      "[Parallel(n_jobs=-1)]: Done   1 out of   1 | elapsed:  2.1min finished\n",
      "[Parallel(n_jobs=-1)]: Using backend LokyBackend with 12 concurrent workers.\n"
     ]
    },
    {
     "name": "stdout",
     "output_type": "stream",
     "text": [
      "K-Fold #1:\n",
      "              precision    recall  f1-score   support\n",
      "\n",
      "         0.0       0.54      0.65      0.59        20\n",
      "         1.0       0.56      0.45      0.50        20\n",
      "\n",
      "    accuracy                           0.55        40\n",
      "   macro avg       0.55      0.55      0.55        40\n",
      "weighted avg       0.55      0.55      0.55        40\n",
      "\n",
      "-------------------------------------------------------------------------------------------------------------------\n"
     ]
    },
    {
     "name": "stderr",
     "output_type": "stream",
     "text": [
      "[Parallel(n_jobs=-1)]: Done   1 out of   1 | elapsed:  2.2min finished\n",
      "[Parallel(n_jobs=-1)]: Using backend LokyBackend with 12 concurrent workers.\n"
     ]
    },
    {
     "name": "stdout",
     "output_type": "stream",
     "text": [
      "K-Fold #2:\n",
      "              precision    recall  f1-score   support\n",
      "\n",
      "         0.0       0.47      0.70      0.56        20\n",
      "         1.0       0.40      0.20      0.27        20\n",
      "\n",
      "    accuracy                           0.45        40\n",
      "   macro avg       0.43      0.45      0.41        40\n",
      "weighted avg       0.43      0.45      0.41        40\n",
      "\n",
      "-------------------------------------------------------------------------------------------------------------------\n"
     ]
    },
    {
     "name": "stderr",
     "output_type": "stream",
     "text": [
      "[Parallel(n_jobs=-1)]: Done   1 out of   1 | elapsed:  2.1min finished\n",
      "[Parallel(n_jobs=-1)]: Using backend LokyBackend with 12 concurrent workers.\n"
     ]
    },
    {
     "name": "stdout",
     "output_type": "stream",
     "text": [
      "K-Fold #3:\n",
      "              precision    recall  f1-score   support\n",
      "\n",
      "         0.0       0.42      0.55      0.48        20\n",
      "         1.0       0.36      0.25      0.29        20\n",
      "\n",
      "    accuracy                           0.40        40\n",
      "   macro avg       0.39      0.40      0.39        40\n",
      "weighted avg       0.39      0.40      0.39        40\n",
      "\n",
      "-------------------------------------------------------------------------------------------------------------------\n"
     ]
    },
    {
     "name": "stderr",
     "output_type": "stream",
     "text": [
      "[Parallel(n_jobs=-1)]: Done   1 out of   1 | elapsed:  2.1min finished\n",
      "[Parallel(n_jobs=-1)]: Using backend LokyBackend with 12 concurrent workers.\n"
     ]
    },
    {
     "name": "stdout",
     "output_type": "stream",
     "text": [
      "K-Fold #4:\n",
      "              precision    recall  f1-score   support\n",
      "\n",
      "         0.0       0.43      0.60      0.50        20\n",
      "         1.0       0.33      0.20      0.25        20\n",
      "\n",
      "    accuracy                           0.40        40\n",
      "   macro avg       0.38      0.40      0.38        40\n",
      "weighted avg       0.38      0.40      0.38        40\n",
      "\n",
      "-------------------------------------------------------------------------------------------------------------------\n"
     ]
    },
    {
     "name": "stderr",
     "output_type": "stream",
     "text": [
      "[Parallel(n_jobs=-1)]: Done   1 out of   1 | elapsed:  2.1min finished\n",
      "[Parallel(n_jobs=-1)]: Using backend LokyBackend with 12 concurrent workers.\n"
     ]
    },
    {
     "name": "stdout",
     "output_type": "stream",
     "text": [
      "K-Fold #5:\n",
      "              precision    recall  f1-score   support\n",
      "\n",
      "         0.0       0.48      0.70      0.57        20\n",
      "         1.0       0.45      0.25      0.32        20\n",
      "\n",
      "    accuracy                           0.48        40\n",
      "   macro avg       0.47      0.47      0.45        40\n",
      "weighted avg       0.47      0.47      0.45        40\n",
      "\n",
      "-------------------------------------------------------------------------------------------------------------------\n"
     ]
    },
    {
     "name": "stderr",
     "output_type": "stream",
     "text": [
      "[Parallel(n_jobs=-1)]: Done   1 out of   1 | elapsed:  2.1min finished\n",
      "[Parallel(n_jobs=-1)]: Using backend LokyBackend with 12 concurrent workers.\n"
     ]
    },
    {
     "name": "stdout",
     "output_type": "stream",
     "text": [
      "K-Fold #6:\n",
      "              precision    recall  f1-score   support\n",
      "\n",
      "         0.0       0.39      0.45      0.42        20\n",
      "         1.0       0.35      0.30      0.32        20\n",
      "\n",
      "    accuracy                           0.38        40\n",
      "   macro avg       0.37      0.38      0.37        40\n",
      "weighted avg       0.37      0.38      0.37        40\n",
      "\n",
      "-------------------------------------------------------------------------------------------------------------------\n"
     ]
    },
    {
     "name": "stderr",
     "output_type": "stream",
     "text": [
      "[Parallel(n_jobs=-1)]: Done   1 out of   1 | elapsed:  2.1min finished\n",
      "[Parallel(n_jobs=-1)]: Using backend LokyBackend with 12 concurrent workers.\n"
     ]
    },
    {
     "name": "stdout",
     "output_type": "stream",
     "text": [
      "K-Fold #7:\n",
      "              precision    recall  f1-score   support\n",
      "\n",
      "         0.0       0.33      0.10      0.15        20\n",
      "         1.0       0.47      0.80      0.59        20\n",
      "\n",
      "    accuracy                           0.45        40\n",
      "   macro avg       0.40      0.45      0.37        40\n",
      "weighted avg       0.40      0.45      0.37        40\n",
      "\n",
      "-------------------------------------------------------------------------------------------------------------------\n"
     ]
    },
    {
     "name": "stderr",
     "output_type": "stream",
     "text": [
      "[Parallel(n_jobs=-1)]: Done   1 out of   1 | elapsed:  2.2min finished\n",
      "[Parallel(n_jobs=-1)]: Using backend LokyBackend with 12 concurrent workers.\n"
     ]
    },
    {
     "name": "stdout",
     "output_type": "stream",
     "text": [
      "K-Fold #8:\n",
      "              precision    recall  f1-score   support\n",
      "\n",
      "         0.0       0.43      0.65      0.52        20\n",
      "         1.0       0.30      0.15      0.20        20\n",
      "\n",
      "    accuracy                           0.40        40\n",
      "   macro avg       0.37      0.40      0.36        40\n",
      "weighted avg       0.37      0.40      0.36        40\n",
      "\n",
      "-------------------------------------------------------------------------------------------------------------------\n"
     ]
    },
    {
     "name": "stderr",
     "output_type": "stream",
     "text": [
      "[Parallel(n_jobs=-1)]: Done   1 out of   1 | elapsed:  2.1min finished\n",
      "[Parallel(n_jobs=-1)]: Using backend LokyBackend with 12 concurrent workers.\n"
     ]
    },
    {
     "name": "stdout",
     "output_type": "stream",
     "text": [
      "K-Fold #9:\n",
      "              precision    recall  f1-score   support\n",
      "\n",
      "         0.0       0.29      0.10      0.15        20\n",
      "         1.0       0.45      0.75      0.57        20\n",
      "\n",
      "    accuracy                           0.42        40\n",
      "   macro avg       0.37      0.42      0.36        40\n",
      "weighted avg       0.37      0.42      0.36        40\n",
      "\n",
      "-------------------------------------------------------------------------------------------------------------------\n",
      "AVG: Scores = 0.43500000000000005 F1-Scores = 0.4053398948606519\n"
     ]
    },
    {
     "name": "stderr",
     "output_type": "stream",
     "text": [
      "[Parallel(n_jobs=-1)]: Done   1 out of   1 | elapsed:  2.1min finished\n",
      "[Parallel(n_jobs=-1)]: Using backend LokyBackend with 12 concurrent workers.\n"
     ]
    },
    {
     "name": "stdout",
     "output_type": "stream",
     "text": [
      "K-Fold #0:\n",
      "              precision    recall  f1-score   support\n",
      "\n",
      "         0.0       0.52      0.60      0.56        20\n",
      "         1.0       0.53      0.45      0.49        20\n",
      "\n",
      "    accuracy                           0.53        40\n",
      "   macro avg       0.53      0.53      0.52        40\n",
      "weighted avg       0.53      0.53      0.52        40\n",
      "\n",
      "-------------------------------------------------------------------------------------------------------------------\n"
     ]
    },
    {
     "name": "stderr",
     "output_type": "stream",
     "text": [
      "[Parallel(n_jobs=-1)]: Done   1 out of   1 | elapsed:  2.2min finished\n",
      "[Parallel(n_jobs=-1)]: Using backend LokyBackend with 12 concurrent workers.\n"
     ]
    },
    {
     "name": "stdout",
     "output_type": "stream",
     "text": [
      "K-Fold #1:\n",
      "              precision    recall  f1-score   support\n",
      "\n",
      "         0.0       0.42      0.65      0.51        20\n",
      "         1.0       0.22      0.10      0.14        20\n",
      "\n",
      "    accuracy                           0.38        40\n",
      "   macro avg       0.32      0.38      0.32        40\n",
      "weighted avg       0.32      0.38      0.32        40\n",
      "\n",
      "-------------------------------------------------------------------------------------------------------------------\n"
     ]
    },
    {
     "name": "stderr",
     "output_type": "stream",
     "text": [
      "[Parallel(n_jobs=-1)]: Done   1 out of   1 | elapsed:  2.1min finished\n",
      "[Parallel(n_jobs=-1)]: Using backend LokyBackend with 12 concurrent workers.\n"
     ]
    },
    {
     "name": "stdout",
     "output_type": "stream",
     "text": [
      "K-Fold #2:\n",
      "              precision    recall  f1-score   support\n",
      "\n",
      "         0.0       0.43      0.45      0.44        20\n",
      "         1.0       0.42      0.40      0.41        20\n",
      "\n",
      "    accuracy                           0.42        40\n",
      "   macro avg       0.42      0.43      0.42        40\n",
      "weighted avg       0.42      0.42      0.42        40\n",
      "\n",
      "-------------------------------------------------------------------------------------------------------------------\n"
     ]
    },
    {
     "name": "stderr",
     "output_type": "stream",
     "text": [
      "[Parallel(n_jobs=-1)]: Done   1 out of   1 | elapsed:  2.1min finished\n",
      "[Parallel(n_jobs=-1)]: Using backend LokyBackend with 12 concurrent workers.\n"
     ]
    },
    {
     "name": "stdout",
     "output_type": "stream",
     "text": [
      "K-Fold #3:\n",
      "              precision    recall  f1-score   support\n",
      "\n",
      "         0.0       0.25      0.10      0.14        20\n",
      "         1.0       0.44      0.70      0.54        20\n",
      "\n",
      "    accuracy                           0.40        40\n",
      "   macro avg       0.34      0.40      0.34        40\n",
      "weighted avg       0.34      0.40      0.34        40\n",
      "\n",
      "-------------------------------------------------------------------------------------------------------------------\n"
     ]
    },
    {
     "name": "stderr",
     "output_type": "stream",
     "text": [
      "[Parallel(n_jobs=-1)]: Done   1 out of   1 | elapsed:  2.2min finished\n",
      "[Parallel(n_jobs=-1)]: Using backend LokyBackend with 12 concurrent workers.\n"
     ]
    },
    {
     "name": "stdout",
     "output_type": "stream",
     "text": [
      "K-Fold #4:\n",
      "              precision    recall  f1-score   support\n",
      "\n",
      "         0.0       0.50      0.70      0.58        20\n",
      "         1.0       0.50      0.30      0.37        20\n",
      "\n",
      "    accuracy                           0.50        40\n",
      "   macro avg       0.50      0.50      0.48        40\n",
      "weighted avg       0.50      0.50      0.48        40\n",
      "\n",
      "-------------------------------------------------------------------------------------------------------------------\n"
     ]
    },
    {
     "name": "stderr",
     "output_type": "stream",
     "text": [
      "[Parallel(n_jobs=-1)]: Done   1 out of   1 | elapsed:  2.1min finished\n",
      "[Parallel(n_jobs=-1)]: Using backend LokyBackend with 12 concurrent workers.\n"
     ]
    },
    {
     "name": "stdout",
     "output_type": "stream",
     "text": [
      "K-Fold #5:\n",
      "              precision    recall  f1-score   support\n",
      "\n",
      "         0.0       0.49      0.85      0.62        20\n",
      "         1.0       0.40      0.10      0.16        20\n",
      "\n",
      "    accuracy                           0.48        40\n",
      "   macro avg       0.44      0.47      0.39        40\n",
      "weighted avg       0.44      0.47      0.39        40\n",
      "\n",
      "-------------------------------------------------------------------------------------------------------------------\n"
     ]
    },
    {
     "name": "stderr",
     "output_type": "stream",
     "text": [
      "[Parallel(n_jobs=-1)]: Done   1 out of   1 | elapsed:  2.1min finished\n",
      "[Parallel(n_jobs=-1)]: Using backend LokyBackend with 12 concurrent workers.\n"
     ]
    },
    {
     "name": "stdout",
     "output_type": "stream",
     "text": [
      "K-Fold #6:\n",
      "              precision    recall  f1-score   support\n",
      "\n",
      "         0.0       0.48      0.80      0.60        20\n",
      "         1.0       0.43      0.15      0.22        20\n",
      "\n",
      "    accuracy                           0.48        40\n",
      "   macro avg       0.46      0.48      0.41        40\n",
      "weighted avg       0.46      0.47      0.41        40\n",
      "\n",
      "-------------------------------------------------------------------------------------------------------------------\n"
     ]
    },
    {
     "name": "stderr",
     "output_type": "stream",
     "text": [
      "[Parallel(n_jobs=-1)]: Done   1 out of   1 | elapsed:  2.2min finished\n",
      "[Parallel(n_jobs=-1)]: Using backend LokyBackend with 12 concurrent workers.\n"
     ]
    },
    {
     "name": "stdout",
     "output_type": "stream",
     "text": [
      "K-Fold #7:\n",
      "              precision    recall  f1-score   support\n",
      "\n",
      "         0.0       0.45      0.70      0.55        20\n",
      "         1.0       0.33      0.15      0.21        20\n",
      "\n",
      "    accuracy                           0.42        40\n",
      "   macro avg       0.39      0.42      0.38        40\n",
      "weighted avg       0.39      0.42      0.38        40\n",
      "\n",
      "-------------------------------------------------------------------------------------------------------------------\n"
     ]
    },
    {
     "name": "stderr",
     "output_type": "stream",
     "text": [
      "[Parallel(n_jobs=-1)]: Done   1 out of   1 | elapsed:  2.1min finished\n",
      "[Parallel(n_jobs=-1)]: Using backend LokyBackend with 12 concurrent workers.\n"
     ]
    },
    {
     "name": "stdout",
     "output_type": "stream",
     "text": [
      "K-Fold #8:\n",
      "              precision    recall  f1-score   support\n",
      "\n",
      "         0.0       0.47      0.70      0.56        20\n",
      "         1.0       0.40      0.20      0.27        20\n",
      "\n",
      "    accuracy                           0.45        40\n",
      "   macro avg       0.43      0.45      0.41        40\n",
      "weighted avg       0.43      0.45      0.41        40\n",
      "\n",
      "-------------------------------------------------------------------------------------------------------------------\n"
     ]
    },
    {
     "name": "stderr",
     "output_type": "stream",
     "text": [
      "[Parallel(n_jobs=-1)]: Done   1 out of   1 | elapsed:  2.1min finished\n",
      "[Parallel(n_jobs=-1)]: Using backend LokyBackend with 12 concurrent workers.\n"
     ]
    },
    {
     "name": "stdout",
     "output_type": "stream",
     "text": [
      "K-Fold #9:\n",
      "              precision    recall  f1-score   support\n",
      "\n",
      "         0.0       0.48      0.60      0.53        20\n",
      "         1.0       0.47      0.35      0.40        20\n",
      "\n",
      "    accuracy                           0.48        40\n",
      "   macro avg       0.47      0.47      0.47        40\n",
      "weighted avg       0.47      0.47      0.47        40\n",
      "\n",
      "-------------------------------------------------------------------------------------------------------------------\n",
      "AVG: Scores = 0.45249999999999996 F1-Scores = 0.4150693788725448\n"
     ]
    },
    {
     "name": "stderr",
     "output_type": "stream",
     "text": [
      "[Parallel(n_jobs=-1)]: Done   1 out of   1 | elapsed:  2.1min finished\n",
      "[Parallel(n_jobs=-1)]: Using backend LokyBackend with 12 concurrent workers.\n"
     ]
    },
    {
     "name": "stdout",
     "output_type": "stream",
     "text": [
      "K-Fold #0:\n",
      "              precision    recall  f1-score   support\n",
      "\n",
      "         0.0       0.48      0.75      0.59        20\n",
      "         1.0       0.44      0.20      0.28        20\n",
      "\n",
      "    accuracy                           0.48        40\n",
      "   macro avg       0.46      0.47      0.43        40\n",
      "weighted avg       0.46      0.47      0.43        40\n",
      "\n",
      "-------------------------------------------------------------------------------------------------------------------\n"
     ]
    },
    {
     "name": "stderr",
     "output_type": "stream",
     "text": [
      "[Parallel(n_jobs=-1)]: Done   1 out of   1 | elapsed:  2.1min finished\n",
      "[Parallel(n_jobs=-1)]: Using backend LokyBackend with 12 concurrent workers.\n"
     ]
    },
    {
     "name": "stdout",
     "output_type": "stream",
     "text": [
      "K-Fold #1:\n",
      "              precision    recall  f1-score   support\n",
      "\n",
      "         0.0       0.47      0.70      0.56        20\n",
      "         1.0       0.40      0.20      0.27        20\n",
      "\n",
      "    accuracy                           0.45        40\n",
      "   macro avg       0.43      0.45      0.41        40\n",
      "weighted avg       0.43      0.45      0.41        40\n",
      "\n",
      "-------------------------------------------------------------------------------------------------------------------\n"
     ]
    },
    {
     "name": "stderr",
     "output_type": "stream",
     "text": [
      "[Parallel(n_jobs=-1)]: Done   1 out of   1 | elapsed:  2.1min finished\n",
      "[Parallel(n_jobs=-1)]: Using backend LokyBackend with 12 concurrent workers.\n"
     ]
    },
    {
     "name": "stdout",
     "output_type": "stream",
     "text": [
      "K-Fold #2:\n",
      "              precision    recall  f1-score   support\n",
      "\n",
      "         0.0       0.48      0.50      0.49        20\n",
      "         1.0       0.47      0.45      0.46        20\n",
      "\n",
      "    accuracy                           0.48        40\n",
      "   macro avg       0.47      0.47      0.47        40\n",
      "weighted avg       0.47      0.47      0.47        40\n",
      "\n",
      "-------------------------------------------------------------------------------------------------------------------\n"
     ]
    },
    {
     "name": "stderr",
     "output_type": "stream",
     "text": [
      "[Parallel(n_jobs=-1)]: Done   1 out of   1 | elapsed:  2.2min finished\n",
      "[Parallel(n_jobs=-1)]: Using backend LokyBackend with 12 concurrent workers.\n"
     ]
    },
    {
     "name": "stdout",
     "output_type": "stream",
     "text": [
      "K-Fold #3:\n",
      "              precision    recall  f1-score   support\n",
      "\n",
      "         0.0       0.45      0.75      0.57        20\n",
      "         1.0       0.29      0.10      0.15        20\n",
      "\n",
      "    accuracy                           0.42        40\n",
      "   macro avg       0.37      0.42      0.36        40\n",
      "weighted avg       0.37      0.42      0.36        40\n",
      "\n",
      "-------------------------------------------------------------------------------------------------------------------\n"
     ]
    },
    {
     "name": "stderr",
     "output_type": "stream",
     "text": [
      "[Parallel(n_jobs=-1)]: Done   1 out of   1 | elapsed:  2.1min finished\n",
      "[Parallel(n_jobs=-1)]: Using backend LokyBackend with 12 concurrent workers.\n"
     ]
    },
    {
     "name": "stdout",
     "output_type": "stream",
     "text": [
      "K-Fold #4:\n",
      "              precision    recall  f1-score   support\n",
      "\n",
      "         0.0       0.50      0.55      0.52        20\n",
      "         1.0       0.50      0.45      0.47        20\n",
      "\n",
      "    accuracy                           0.50        40\n",
      "   macro avg       0.50      0.50      0.50        40\n",
      "weighted avg       0.50      0.50      0.50        40\n",
      "\n",
      "-------------------------------------------------------------------------------------------------------------------\n"
     ]
    },
    {
     "name": "stderr",
     "output_type": "stream",
     "text": [
      "[Parallel(n_jobs=-1)]: Done   1 out of   1 | elapsed:  2.1min finished\n",
      "[Parallel(n_jobs=-1)]: Using backend LokyBackend with 12 concurrent workers.\n"
     ]
    },
    {
     "name": "stdout",
     "output_type": "stream",
     "text": [
      "K-Fold #5:\n",
      "              precision    recall  f1-score   support\n",
      "\n",
      "         0.0       0.43      0.45      0.44        20\n",
      "         1.0       0.42      0.40      0.41        20\n",
      "\n",
      "    accuracy                           0.42        40\n",
      "   macro avg       0.42      0.43      0.42        40\n",
      "weighted avg       0.42      0.42      0.42        40\n",
      "\n",
      "-------------------------------------------------------------------------------------------------------------------\n"
     ]
    },
    {
     "name": "stderr",
     "output_type": "stream",
     "text": [
      "[Parallel(n_jobs=-1)]: Done   1 out of   1 | elapsed:  2.1min finished\n",
      "[Parallel(n_jobs=-1)]: Using backend LokyBackend with 12 concurrent workers.\n"
     ]
    },
    {
     "name": "stdout",
     "output_type": "stream",
     "text": [
      "K-Fold #6:\n",
      "              precision    recall  f1-score   support\n",
      "\n",
      "         0.0       0.50      0.20      0.29        20\n",
      "         1.0       0.50      0.80      0.62        20\n",
      "\n",
      "    accuracy                           0.50        40\n",
      "   macro avg       0.50      0.50      0.45        40\n",
      "weighted avg       0.50      0.50      0.45        40\n",
      "\n",
      "-------------------------------------------------------------------------------------------------------------------\n"
     ]
    },
    {
     "name": "stderr",
     "output_type": "stream",
     "text": [
      "[Parallel(n_jobs=-1)]: Done   1 out of   1 | elapsed:  2.1min finished\n",
      "[Parallel(n_jobs=-1)]: Using backend LokyBackend with 12 concurrent workers.\n"
     ]
    },
    {
     "name": "stdout",
     "output_type": "stream",
     "text": [
      "K-Fold #7:\n",
      "              precision    recall  f1-score   support\n",
      "\n",
      "         0.0       0.50      0.55      0.52        20\n",
      "         1.0       0.50      0.45      0.47        20\n",
      "\n",
      "    accuracy                           0.50        40\n",
      "   macro avg       0.50      0.50      0.50        40\n",
      "weighted avg       0.50      0.50      0.50        40\n",
      "\n",
      "-------------------------------------------------------------------------------------------------------------------\n"
     ]
    },
    {
     "name": "stderr",
     "output_type": "stream",
     "text": [
      "[Parallel(n_jobs=-1)]: Done   1 out of   1 | elapsed:  2.1min finished\n",
      "[Parallel(n_jobs=-1)]: Using backend LokyBackend with 12 concurrent workers.\n"
     ]
    },
    {
     "name": "stdout",
     "output_type": "stream",
     "text": [
      "K-Fold #8:\n",
      "              precision    recall  f1-score   support\n",
      "\n",
      "         0.0       0.47      0.40      0.43        20\n",
      "         1.0       0.48      0.55      0.51        20\n",
      "\n",
      "    accuracy                           0.48        40\n",
      "   macro avg       0.47      0.48      0.47        40\n",
      "weighted avg       0.47      0.47      0.47        40\n",
      "\n",
      "-------------------------------------------------------------------------------------------------------------------\n"
     ]
    },
    {
     "name": "stderr",
     "output_type": "stream",
     "text": [
      "[Parallel(n_jobs=-1)]: Done   1 out of   1 | elapsed:  2.1min finished\n",
      "[Parallel(n_jobs=-1)]: Using backend LokyBackend with 12 concurrent workers.\n"
     ]
    },
    {
     "name": "stdout",
     "output_type": "stream",
     "text": [
      "K-Fold #9:\n",
      "              precision    recall  f1-score   support\n",
      "\n",
      "         0.0       0.20      0.05      0.08        20\n",
      "         1.0       0.46      0.80      0.58        20\n",
      "\n",
      "    accuracy                           0.42        40\n",
      "   macro avg       0.33      0.43      0.33        40\n",
      "weighted avg       0.33      0.42      0.33        40\n",
      "\n",
      "-------------------------------------------------------------------------------------------------------------------\n",
      "AVG: Scores = 0.46499999999999997 F1-Scores = 0.43527694724162647\n"
     ]
    },
    {
     "name": "stderr",
     "output_type": "stream",
     "text": [
      "[Parallel(n_jobs=-1)]: Done   1 out of   1 | elapsed:  2.1min finished\n",
      "[Parallel(n_jobs=-1)]: Using backend LokyBackend with 12 concurrent workers.\n"
     ]
    },
    {
     "name": "stdout",
     "output_type": "stream",
     "text": [
      "K-Fold #0:\n",
      "              precision    recall  f1-score   support\n",
      "\n",
      "         0.0       0.37      0.55      0.44        20\n",
      "         1.0       0.10      0.05      0.07        20\n",
      "\n",
      "    accuracy                           0.30        40\n",
      "   macro avg       0.23      0.30      0.25        40\n",
      "weighted avg       0.23      0.30      0.25        40\n",
      "\n",
      "-------------------------------------------------------------------------------------------------------------------\n"
     ]
    },
    {
     "name": "stderr",
     "output_type": "stream",
     "text": [
      "[Parallel(n_jobs=-1)]: Done   1 out of   1 | elapsed:  2.1min finished\n",
      "[Parallel(n_jobs=-1)]: Using backend LokyBackend with 12 concurrent workers.\n"
     ]
    },
    {
     "name": "stdout",
     "output_type": "stream",
     "text": [
      "K-Fold #1:\n",
      "              precision    recall  f1-score   support\n",
      "\n",
      "         0.0       0.50      0.55      0.52        20\n",
      "         1.0       0.50      0.45      0.47        20\n",
      "\n",
      "    accuracy                           0.50        40\n",
      "   macro avg       0.50      0.50      0.50        40\n",
      "weighted avg       0.50      0.50      0.50        40\n",
      "\n",
      "-------------------------------------------------------------------------------------------------------------------\n"
     ]
    },
    {
     "name": "stderr",
     "output_type": "stream",
     "text": [
      "[Parallel(n_jobs=-1)]: Done   1 out of   1 | elapsed:  2.2min finished\n",
      "[Parallel(n_jobs=-1)]: Using backend LokyBackend with 12 concurrent workers.\n"
     ]
    },
    {
     "name": "stdout",
     "output_type": "stream",
     "text": [
      "K-Fold #2:\n",
      "              precision    recall  f1-score   support\n",
      "\n",
      "         0.0       0.47      0.40      0.43        20\n",
      "         1.0       0.48      0.55      0.51        20\n",
      "\n",
      "    accuracy                           0.48        40\n",
      "   macro avg       0.47      0.48      0.47        40\n",
      "weighted avg       0.47      0.47      0.47        40\n",
      "\n",
      "-------------------------------------------------------------------------------------------------------------------\n"
     ]
    },
    {
     "name": "stderr",
     "output_type": "stream",
     "text": [
      "[Parallel(n_jobs=-1)]: Done   1 out of   1 | elapsed:  2.1min finished\n",
      "[Parallel(n_jobs=-1)]: Using backend LokyBackend with 12 concurrent workers.\n"
     ]
    },
    {
     "name": "stdout",
     "output_type": "stream",
     "text": [
      "K-Fold #3:\n",
      "              precision    recall  f1-score   support\n",
      "\n",
      "         0.0       0.47      0.85      0.61        20\n",
      "         1.0       0.25      0.05      0.08        20\n",
      "\n",
      "    accuracy                           0.45        40\n",
      "   macro avg       0.36      0.45      0.35        40\n",
      "weighted avg       0.36      0.45      0.35        40\n",
      "\n",
      "-------------------------------------------------------------------------------------------------------------------\n"
     ]
    },
    {
     "name": "stderr",
     "output_type": "stream",
     "text": [
      "[Parallel(n_jobs=-1)]: Done   1 out of   1 | elapsed:  2.1min finished\n",
      "[Parallel(n_jobs=-1)]: Using backend LokyBackend with 12 concurrent workers.\n"
     ]
    },
    {
     "name": "stdout",
     "output_type": "stream",
     "text": [
      "K-Fold #4:\n",
      "              precision    recall  f1-score   support\n",
      "\n",
      "         0.0       0.45      0.75      0.57        20\n",
      "         1.0       0.29      0.10      0.15        20\n",
      "\n",
      "    accuracy                           0.42        40\n",
      "   macro avg       0.37      0.42      0.36        40\n",
      "weighted avg       0.37      0.42      0.36        40\n",
      "\n",
      "-------------------------------------------------------------------------------------------------------------------\n"
     ]
    },
    {
     "name": "stderr",
     "output_type": "stream",
     "text": [
      "[Parallel(n_jobs=-1)]: Done   1 out of   1 | elapsed:  2.1min finished\n",
      "[Parallel(n_jobs=-1)]: Using backend LokyBackend with 12 concurrent workers.\n"
     ]
    },
    {
     "name": "stdout",
     "output_type": "stream",
     "text": [
      "K-Fold #5:\n",
      "              precision    recall  f1-score   support\n",
      "\n",
      "         0.0       0.50      0.40      0.44        20\n",
      "         1.0       0.50      0.60      0.55        20\n",
      "\n",
      "    accuracy                           0.50        40\n",
      "   macro avg       0.50      0.50      0.49        40\n",
      "weighted avg       0.50      0.50      0.49        40\n",
      "\n",
      "-------------------------------------------------------------------------------------------------------------------\n"
     ]
    },
    {
     "name": "stderr",
     "output_type": "stream",
     "text": [
      "[Parallel(n_jobs=-1)]: Done   1 out of   1 | elapsed:  2.1min finished\n",
      "[Parallel(n_jobs=-1)]: Using backend LokyBackend with 12 concurrent workers.\n"
     ]
    },
    {
     "name": "stdout",
     "output_type": "stream",
     "text": [
      "K-Fold #6:\n",
      "              precision    recall  f1-score   support\n",
      "\n",
      "         0.0       0.41      0.55      0.47        20\n",
      "         1.0       0.31      0.20      0.24        20\n",
      "\n",
      "    accuracy                           0.38        40\n",
      "   macro avg       0.36      0.38      0.36        40\n",
      "weighted avg       0.36      0.38      0.36        40\n",
      "\n",
      "-------------------------------------------------------------------------------------------------------------------\n"
     ]
    },
    {
     "name": "stderr",
     "output_type": "stream",
     "text": [
      "[Parallel(n_jobs=-1)]: Done   1 out of   1 | elapsed:  2.1min finished\n",
      "[Parallel(n_jobs=-1)]: Using backend LokyBackend with 12 concurrent workers.\n"
     ]
    },
    {
     "name": "stdout",
     "output_type": "stream",
     "text": [
      "K-Fold #7:\n",
      "              precision    recall  f1-score   support\n",
      "\n",
      "         0.0       0.29      0.10      0.15        20\n",
      "         1.0       0.45      0.75      0.57        20\n",
      "\n",
      "    accuracy                           0.42        40\n",
      "   macro avg       0.37      0.42      0.36        40\n",
      "weighted avg       0.37      0.42      0.36        40\n",
      "\n",
      "-------------------------------------------------------------------------------------------------------------------\n"
     ]
    },
    {
     "name": "stderr",
     "output_type": "stream",
     "text": [
      "[Parallel(n_jobs=-1)]: Done   1 out of   1 | elapsed:  2.2min finished\n",
      "[Parallel(n_jobs=-1)]: Using backend LokyBackend with 12 concurrent workers.\n"
     ]
    },
    {
     "name": "stdout",
     "output_type": "stream",
     "text": [
      "K-Fold #8:\n",
      "              precision    recall  f1-score   support\n",
      "\n",
      "         0.0       0.40      0.40      0.40        20\n",
      "         1.0       0.40      0.40      0.40        20\n",
      "\n",
      "    accuracy                           0.40        40\n",
      "   macro avg       0.40      0.40      0.40        40\n",
      "weighted avg       0.40      0.40      0.40        40\n",
      "\n",
      "-------------------------------------------------------------------------------------------------------------------\n"
     ]
    },
    {
     "name": "stderr",
     "output_type": "stream",
     "text": [
      "[Parallel(n_jobs=-1)]: Done   1 out of   1 | elapsed:  2.1min finished\n",
      "[Parallel(n_jobs=-1)]: Using backend LokyBackend with 12 concurrent workers.\n"
     ]
    },
    {
     "name": "stdout",
     "output_type": "stream",
     "text": [
      "K-Fold #9:\n",
      "              precision    recall  f1-score   support\n",
      "\n",
      "         0.0       0.50      0.80      0.62        20\n",
      "         1.0       0.50      0.20      0.29        20\n",
      "\n",
      "    accuracy                           0.50        40\n",
      "   macro avg       0.50      0.50      0.45        40\n",
      "weighted avg       0.50      0.50      0.45        40\n",
      "\n",
      "-------------------------------------------------------------------------------------------------------------------\n",
      "AVG: Scores = 0.43499999999999994 F1-Scores = 0.3984287969343697\n"
     ]
    },
    {
     "name": "stderr",
     "output_type": "stream",
     "text": [
      "[Parallel(n_jobs=-1)]: Done   1 out of   1 | elapsed:  2.1min finished\n",
      "[Parallel(n_jobs=-1)]: Using backend LokyBackend with 12 concurrent workers.\n"
     ]
    },
    {
     "name": "stdout",
     "output_type": "stream",
     "text": [
      "K-Fold #0:\n",
      "              precision    recall  f1-score   support\n",
      "\n",
      "         0.0       0.50      0.45      0.47        20\n",
      "         1.0       0.50      0.55      0.52        20\n",
      "\n",
      "    accuracy                           0.50        40\n",
      "   macro avg       0.50      0.50      0.50        40\n",
      "weighted avg       0.50      0.50      0.50        40\n",
      "\n",
      "-------------------------------------------------------------------------------------------------------------------\n"
     ]
    },
    {
     "name": "stderr",
     "output_type": "stream",
     "text": [
      "[Parallel(n_jobs=-1)]: Done   1 out of   1 | elapsed:  2.2min finished\n",
      "[Parallel(n_jobs=-1)]: Using backend LokyBackend with 12 concurrent workers.\n"
     ]
    },
    {
     "name": "stdout",
     "output_type": "stream",
     "text": [
      "K-Fold #1:\n",
      "              precision    recall  f1-score   support\n",
      "\n",
      "         0.0       0.50      0.90      0.64        20\n",
      "         1.0       0.50      0.10      0.17        20\n",
      "\n",
      "    accuracy                           0.50        40\n",
      "   macro avg       0.50      0.50      0.40        40\n",
      "weighted avg       0.50      0.50      0.40        40\n",
      "\n",
      "-------------------------------------------------------------------------------------------------------------------\n"
     ]
    },
    {
     "name": "stderr",
     "output_type": "stream",
     "text": [
      "[Parallel(n_jobs=-1)]: Done   1 out of   1 | elapsed:  2.1min finished\n",
      "[Parallel(n_jobs=-1)]: Using backend LokyBackend with 12 concurrent workers.\n"
     ]
    },
    {
     "name": "stdout",
     "output_type": "stream",
     "text": [
      "K-Fold #2:\n",
      "              precision    recall  f1-score   support\n",
      "\n",
      "         0.0       0.48      0.75      0.59        20\n",
      "         1.0       0.44      0.20      0.28        20\n",
      "\n",
      "    accuracy                           0.48        40\n",
      "   macro avg       0.46      0.47      0.43        40\n",
      "weighted avg       0.46      0.47      0.43        40\n",
      "\n",
      "-------------------------------------------------------------------------------------------------------------------\n"
     ]
    },
    {
     "name": "stderr",
     "output_type": "stream",
     "text": [
      "[Parallel(n_jobs=-1)]: Done   1 out of   1 | elapsed:  2.1min finished\n",
      "[Parallel(n_jobs=-1)]: Using backend LokyBackend with 12 concurrent workers.\n"
     ]
    },
    {
     "name": "stdout",
     "output_type": "stream",
     "text": [
      "K-Fold #3:\n",
      "              precision    recall  f1-score   support\n",
      "\n",
      "         0.0       0.55      0.55      0.55        20\n",
      "         1.0       0.55      0.55      0.55        20\n",
      "\n",
      "    accuracy                           0.55        40\n",
      "   macro avg       0.55      0.55      0.55        40\n",
      "weighted avg       0.55      0.55      0.55        40\n",
      "\n",
      "-------------------------------------------------------------------------------------------------------------------\n"
     ]
    },
    {
     "name": "stderr",
     "output_type": "stream",
     "text": [
      "[Parallel(n_jobs=-1)]: Done   1 out of   1 | elapsed:  2.2min finished\n",
      "[Parallel(n_jobs=-1)]: Using backend LokyBackend with 12 concurrent workers.\n"
     ]
    },
    {
     "name": "stdout",
     "output_type": "stream",
     "text": [
      "K-Fold #4:\n",
      "              precision    recall  f1-score   support\n",
      "\n",
      "         0.0       0.39      0.35      0.37        20\n",
      "         1.0       0.41      0.45      0.43        20\n",
      "\n",
      "    accuracy                           0.40        40\n",
      "   macro avg       0.40      0.40      0.40        40\n",
      "weighted avg       0.40      0.40      0.40        40\n",
      "\n",
      "-------------------------------------------------------------------------------------------------------------------\n"
     ]
    },
    {
     "name": "stderr",
     "output_type": "stream",
     "text": [
      "[Parallel(n_jobs=-1)]: Done   1 out of   1 | elapsed:  2.1min finished\n",
      "[Parallel(n_jobs=-1)]: Using backend LokyBackend with 12 concurrent workers.\n"
     ]
    },
    {
     "name": "stdout",
     "output_type": "stream",
     "text": [
      "K-Fold #5:\n",
      "              precision    recall  f1-score   support\n",
      "\n",
      "         0.0       0.52      0.55      0.54        20\n",
      "         1.0       0.53      0.50      0.51        20\n",
      "\n",
      "    accuracy                           0.53        40\n",
      "   macro avg       0.53      0.53      0.52        40\n",
      "weighted avg       0.53      0.53      0.52        40\n",
      "\n",
      "-------------------------------------------------------------------------------------------------------------------\n"
     ]
    },
    {
     "name": "stderr",
     "output_type": "stream",
     "text": [
      "[Parallel(n_jobs=-1)]: Done   1 out of   1 | elapsed:  2.1min finished\n",
      "[Parallel(n_jobs=-1)]: Using backend LokyBackend with 12 concurrent workers.\n"
     ]
    },
    {
     "name": "stdout",
     "output_type": "stream",
     "text": [
      "K-Fold #6:\n",
      "              precision    recall  f1-score   support\n",
      "\n",
      "         0.0       0.33      0.20      0.25        20\n",
      "         1.0       0.43      0.60      0.50        20\n",
      "\n",
      "    accuracy                           0.40        40\n",
      "   macro avg       0.38      0.40      0.38        40\n",
      "weighted avg       0.38      0.40      0.38        40\n",
      "\n",
      "-------------------------------------------------------------------------------------------------------------------\n"
     ]
    },
    {
     "name": "stderr",
     "output_type": "stream",
     "text": [
      "[Parallel(n_jobs=-1)]: Done   1 out of   1 | elapsed:  2.2min finished\n",
      "[Parallel(n_jobs=-1)]: Using backend LokyBackend with 12 concurrent workers.\n"
     ]
    },
    {
     "name": "stdout",
     "output_type": "stream",
     "text": [
      "K-Fold #7:\n",
      "              precision    recall  f1-score   support\n",
      "\n",
      "         0.0       0.50      0.90      0.64        20\n",
      "         1.0       0.50      0.10      0.17        20\n",
      "\n",
      "    accuracy                           0.50        40\n",
      "   macro avg       0.50      0.50      0.40        40\n",
      "weighted avg       0.50      0.50      0.40        40\n",
      "\n",
      "-------------------------------------------------------------------------------------------------------------------\n"
     ]
    },
    {
     "name": "stderr",
     "output_type": "stream",
     "text": [
      "[Parallel(n_jobs=-1)]: Done   1 out of   1 | elapsed:  2.2min finished\n",
      "[Parallel(n_jobs=-1)]: Using backend LokyBackend with 12 concurrent workers.\n"
     ]
    },
    {
     "name": "stdout",
     "output_type": "stream",
     "text": [
      "K-Fold #8:\n",
      "              precision    recall  f1-score   support\n",
      "\n",
      "         0.0       0.41      0.65      0.50        20\n",
      "         1.0       0.12      0.05      0.07        20\n",
      "\n",
      "    accuracy                           0.35        40\n",
      "   macro avg       0.27      0.35      0.29        40\n",
      "weighted avg       0.27      0.35      0.29        40\n",
      "\n",
      "-------------------------------------------------------------------------------------------------------------------\n"
     ]
    },
    {
     "name": "stderr",
     "output_type": "stream",
     "text": [
      "[Parallel(n_jobs=-1)]: Done   1 out of   1 | elapsed:  2.1min finished\n",
      "[Parallel(n_jobs=-1)]: Using backend LokyBackend with 12 concurrent workers.\n"
     ]
    },
    {
     "name": "stdout",
     "output_type": "stream",
     "text": [
      "K-Fold #9:\n",
      "              precision    recall  f1-score   support\n",
      "\n",
      "         0.0       0.46      0.65      0.54        20\n",
      "         1.0       0.42      0.25      0.31        20\n",
      "\n",
      "    accuracy                           0.45        40\n",
      "   macro avg       0.44      0.45      0.43        40\n",
      "weighted avg       0.44      0.45      0.43        40\n",
      "\n",
      "-------------------------------------------------------------------------------------------------------------------\n",
      "AVG: Scores = 0.465 F1-Scores = 0.430131615721952\n"
     ]
    },
    {
     "name": "stderr",
     "output_type": "stream",
     "text": [
      "[Parallel(n_jobs=-1)]: Done   1 out of   1 | elapsed:  2.1min finished\n",
      "[Parallel(n_jobs=-1)]: Using backend LokyBackend with 12 concurrent workers.\n"
     ]
    },
    {
     "name": "stdout",
     "output_type": "stream",
     "text": [
      "K-Fold #0:\n",
      "              precision    recall  f1-score   support\n",
      "\n",
      "         0.0       0.43      0.30      0.35        20\n",
      "         1.0       0.46      0.60      0.52        20\n",
      "\n",
      "    accuracy                           0.45        40\n",
      "   macro avg       0.45      0.45      0.44        40\n",
      "weighted avg       0.45      0.45      0.44        40\n",
      "\n",
      "-------------------------------------------------------------------------------------------------------------------\n"
     ]
    },
    {
     "name": "stderr",
     "output_type": "stream",
     "text": [
      "[Parallel(n_jobs=-1)]: Done   1 out of   1 | elapsed:  2.1min finished\n",
      "[Parallel(n_jobs=-1)]: Using backend LokyBackend with 12 concurrent workers.\n"
     ]
    },
    {
     "name": "stdout",
     "output_type": "stream",
     "text": [
      "K-Fold #1:\n",
      "              precision    recall  f1-score   support\n",
      "\n",
      "         0.0       0.50      0.60      0.55        20\n",
      "         1.0       0.50      0.40      0.44        20\n",
      "\n",
      "    accuracy                           0.50        40\n",
      "   macro avg       0.50      0.50      0.49        40\n",
      "weighted avg       0.50      0.50      0.49        40\n",
      "\n",
      "-------------------------------------------------------------------------------------------------------------------\n"
     ]
    },
    {
     "name": "stderr",
     "output_type": "stream",
     "text": [
      "[Parallel(n_jobs=-1)]: Done   1 out of   1 | elapsed:  2.1min finished\n",
      "[Parallel(n_jobs=-1)]: Using backend LokyBackend with 12 concurrent workers.\n"
     ]
    },
    {
     "name": "stdout",
     "output_type": "stream",
     "text": [
      "K-Fold #2:\n",
      "              precision    recall  f1-score   support\n",
      "\n",
      "         0.0       0.29      0.10      0.15        20\n",
      "         1.0       0.45      0.75      0.57        20\n",
      "\n",
      "    accuracy                           0.42        40\n",
      "   macro avg       0.37      0.42      0.36        40\n",
      "weighted avg       0.37      0.42      0.36        40\n",
      "\n",
      "-------------------------------------------------------------------------------------------------------------------\n"
     ]
    },
    {
     "name": "stderr",
     "output_type": "stream",
     "text": [
      "[Parallel(n_jobs=-1)]: Done   1 out of   1 | elapsed:  2.2min finished\n",
      "[Parallel(n_jobs=-1)]: Using backend LokyBackend with 12 concurrent workers.\n"
     ]
    },
    {
     "name": "stdout",
     "output_type": "stream",
     "text": [
      "K-Fold #3:\n",
      "              precision    recall  f1-score   support\n",
      "\n",
      "         0.0       0.45      0.65      0.53        20\n",
      "         1.0       0.36      0.20      0.26        20\n",
      "\n",
      "    accuracy                           0.42        40\n",
      "   macro avg       0.41      0.43      0.39        40\n",
      "weighted avg       0.41      0.42      0.39        40\n",
      "\n",
      "-------------------------------------------------------------------------------------------------------------------\n"
     ]
    },
    {
     "name": "stderr",
     "output_type": "stream",
     "text": [
      "[Parallel(n_jobs=-1)]: Done   1 out of   1 | elapsed:  2.1min finished\n",
      "[Parallel(n_jobs=-1)]: Using backend LokyBackend with 12 concurrent workers.\n"
     ]
    },
    {
     "name": "stdout",
     "output_type": "stream",
     "text": [
      "K-Fold #4:\n",
      "              precision    recall  f1-score   support\n",
      "\n",
      "         0.0       0.41      0.55      0.47        20\n",
      "         1.0       0.31      0.20      0.24        20\n",
      "\n",
      "    accuracy                           0.38        40\n",
      "   macro avg       0.36      0.38      0.36        40\n",
      "weighted avg       0.36      0.38      0.36        40\n",
      "\n",
      "-------------------------------------------------------------------------------------------------------------------\n"
     ]
    },
    {
     "name": "stderr",
     "output_type": "stream",
     "text": [
      "[Parallel(n_jobs=-1)]: Done   1 out of   1 | elapsed:  2.1min finished\n",
      "[Parallel(n_jobs=-1)]: Using backend LokyBackend with 12 concurrent workers.\n"
     ]
    },
    {
     "name": "stdout",
     "output_type": "stream",
     "text": [
      "K-Fold #5:\n",
      "              precision    recall  f1-score   support\n",
      "\n",
      "         0.0       0.33      0.15      0.21        20\n",
      "         1.0       0.45      0.70      0.55        20\n",
      "\n",
      "    accuracy                           0.42        40\n",
      "   macro avg       0.39      0.42      0.38        40\n",
      "weighted avg       0.39      0.42      0.38        40\n",
      "\n",
      "-------------------------------------------------------------------------------------------------------------------\n"
     ]
    },
    {
     "name": "stderr",
     "output_type": "stream",
     "text": [
      "[Parallel(n_jobs=-1)]: Done   1 out of   1 | elapsed:  2.1min finished\n",
      "[Parallel(n_jobs=-1)]: Using backend LokyBackend with 12 concurrent workers.\n"
     ]
    },
    {
     "name": "stdout",
     "output_type": "stream",
     "text": [
      "K-Fold #6:\n",
      "              precision    recall  f1-score   support\n",
      "\n",
      "         0.0       0.53      0.50      0.51        20\n",
      "         1.0       0.52      0.55      0.54        20\n",
      "\n",
      "    accuracy                           0.53        40\n",
      "   macro avg       0.53      0.53      0.52        40\n",
      "weighted avg       0.53      0.53      0.52        40\n",
      "\n",
      "-------------------------------------------------------------------------------------------------------------------\n"
     ]
    },
    {
     "name": "stderr",
     "output_type": "stream",
     "text": [
      "[Parallel(n_jobs=-1)]: Done   1 out of   1 | elapsed:  2.1min finished\n",
      "[Parallel(n_jobs=-1)]: Using backend LokyBackend with 12 concurrent workers.\n"
     ]
    },
    {
     "name": "stdout",
     "output_type": "stream",
     "text": [
      "K-Fold #7:\n",
      "              precision    recall  f1-score   support\n",
      "\n",
      "         0.0       0.46      0.55      0.50        20\n",
      "         1.0       0.44      0.35      0.39        20\n",
      "\n",
      "    accuracy                           0.45        40\n",
      "   macro avg       0.45      0.45      0.44        40\n",
      "weighted avg       0.45      0.45      0.44        40\n",
      "\n",
      "-------------------------------------------------------------------------------------------------------------------\n"
     ]
    },
    {
     "name": "stderr",
     "output_type": "stream",
     "text": [
      "[Parallel(n_jobs=-1)]: Done   1 out of   1 | elapsed:  2.1min finished\n",
      "[Parallel(n_jobs=-1)]: Using backend LokyBackend with 12 concurrent workers.\n"
     ]
    },
    {
     "name": "stdout",
     "output_type": "stream",
     "text": [
      "K-Fold #8:\n",
      "              precision    recall  f1-score   support\n",
      "\n",
      "         0.0       0.49      0.85      0.62        20\n",
      "         1.0       0.40      0.10      0.16        20\n",
      "\n",
      "    accuracy                           0.48        40\n",
      "   macro avg       0.44      0.47      0.39        40\n",
      "weighted avg       0.44      0.47      0.39        40\n",
      "\n",
      "-------------------------------------------------------------------------------------------------------------------\n"
     ]
    },
    {
     "name": "stderr",
     "output_type": "stream",
     "text": [
      "[Parallel(n_jobs=-1)]: Done   1 out of   1 | elapsed:  2.2min finished\n",
      "[Parallel(n_jobs=-1)]: Using backend LokyBackend with 12 concurrent workers.\n"
     ]
    },
    {
     "name": "stdout",
     "output_type": "stream",
     "text": [
      "K-Fold #9:\n",
      "              precision    recall  f1-score   support\n",
      "\n",
      "         0.0       0.53      0.45      0.49        20\n",
      "         1.0       0.52      0.60      0.56        20\n",
      "\n",
      "    accuracy                           0.53        40\n",
      "   macro avg       0.53      0.53      0.52        40\n",
      "weighted avg       0.53      0.53      0.52        40\n",
      "\n",
      "-------------------------------------------------------------------------------------------------------------------\n",
      "AVG: Scores = 0.4575 F1-Scores = 0.429748502865907\n"
     ]
    },
    {
     "name": "stderr",
     "output_type": "stream",
     "text": [
      "[Parallel(n_jobs=-1)]: Done   1 out of   1 | elapsed:  2.1min finished\n",
      "[Parallel(n_jobs=-1)]: Using backend LokyBackend with 12 concurrent workers.\n"
     ]
    },
    {
     "name": "stdout",
     "output_type": "stream",
     "text": [
      "K-Fold #0:\n",
      "              precision    recall  f1-score   support\n",
      "\n",
      "         0.0       0.46      0.60      0.52        20\n",
      "         1.0       0.43      0.30      0.35        20\n",
      "\n",
      "    accuracy                           0.45        40\n",
      "   macro avg       0.45      0.45      0.44        40\n",
      "weighted avg       0.45      0.45      0.44        40\n",
      "\n",
      "-------------------------------------------------------------------------------------------------------------------\n"
     ]
    },
    {
     "name": "stderr",
     "output_type": "stream",
     "text": [
      "[Parallel(n_jobs=-1)]: Done   1 out of   1 | elapsed:  2.1min finished\n",
      "[Parallel(n_jobs=-1)]: Using backend LokyBackend with 12 concurrent workers.\n"
     ]
    },
    {
     "name": "stdout",
     "output_type": "stream",
     "text": [
      "K-Fold #1:\n",
      "              precision    recall  f1-score   support\n",
      "\n",
      "         0.0       0.52      0.80      0.63        20\n",
      "         1.0       0.56      0.25      0.34        20\n",
      "\n",
      "    accuracy                           0.53        40\n",
      "   macro avg       0.54      0.53      0.49        40\n",
      "weighted avg       0.54      0.53      0.49        40\n",
      "\n",
      "-------------------------------------------------------------------------------------------------------------------\n"
     ]
    },
    {
     "name": "stderr",
     "output_type": "stream",
     "text": [
      "[Parallel(n_jobs=-1)]: Done   1 out of   1 | elapsed:  2.2min finished\n",
      "[Parallel(n_jobs=-1)]: Using backend LokyBackend with 12 concurrent workers.\n"
     ]
    },
    {
     "name": "stdout",
     "output_type": "stream",
     "text": [
      "K-Fold #2:\n",
      "              precision    recall  f1-score   support\n",
      "\n",
      "         0.0       0.44      0.40      0.42        20\n",
      "         1.0       0.45      0.50      0.48        20\n",
      "\n",
      "    accuracy                           0.45        40\n",
      "   macro avg       0.45      0.45      0.45        40\n",
      "weighted avg       0.45      0.45      0.45        40\n",
      "\n",
      "-------------------------------------------------------------------------------------------------------------------\n"
     ]
    },
    {
     "name": "stderr",
     "output_type": "stream",
     "text": [
      "[Parallel(n_jobs=-1)]: Done   1 out of   1 | elapsed:  2.1min finished\n",
      "[Parallel(n_jobs=-1)]: Using backend LokyBackend with 12 concurrent workers.\n"
     ]
    },
    {
     "name": "stdout",
     "output_type": "stream",
     "text": [
      "K-Fold #3:\n",
      "              precision    recall  f1-score   support\n",
      "\n",
      "         0.0       0.48      0.60      0.53        20\n",
      "         1.0       0.47      0.35      0.40        20\n",
      "\n",
      "    accuracy                           0.48        40\n",
      "   macro avg       0.47      0.47      0.47        40\n",
      "weighted avg       0.47      0.47      0.47        40\n",
      "\n",
      "-------------------------------------------------------------------------------------------------------------------\n"
     ]
    },
    {
     "name": "stderr",
     "output_type": "stream",
     "text": [
      "[Parallel(n_jobs=-1)]: Done   1 out of   1 | elapsed:  2.3min finished\n",
      "[Parallel(n_jobs=-1)]: Using backend LokyBackend with 12 concurrent workers.\n"
     ]
    },
    {
     "name": "stdout",
     "output_type": "stream",
     "text": [
      "K-Fold #4:\n",
      "              precision    recall  f1-score   support\n",
      "\n",
      "         0.0       0.47      0.75      0.58        20\n",
      "         1.0       0.38      0.15      0.21        20\n",
      "\n",
      "    accuracy                           0.45        40\n",
      "   macro avg       0.42      0.45      0.40        40\n",
      "weighted avg       0.42      0.45      0.40        40\n",
      "\n",
      "-------------------------------------------------------------------------------------------------------------------\n"
     ]
    },
    {
     "name": "stderr",
     "output_type": "stream",
     "text": [
      "[Parallel(n_jobs=-1)]: Done   1 out of   1 | elapsed:  2.4min finished\n",
      "[Parallel(n_jobs=-1)]: Using backend LokyBackend with 12 concurrent workers.\n"
     ]
    },
    {
     "name": "stdout",
     "output_type": "stream",
     "text": [
      "K-Fold #5:\n",
      "              precision    recall  f1-score   support\n",
      "\n",
      "         0.0       0.42      0.40      0.41        20\n",
      "         1.0       0.43      0.45      0.44        20\n",
      "\n",
      "    accuracy                           0.42        40\n",
      "   macro avg       0.42      0.43      0.42        40\n",
      "weighted avg       0.42      0.42      0.42        40\n",
      "\n",
      "-------------------------------------------------------------------------------------------------------------------\n"
     ]
    },
    {
     "name": "stderr",
     "output_type": "stream",
     "text": [
      "[Parallel(n_jobs=-1)]: Done   1 out of   1 | elapsed:  2.4min finished\n",
      "[Parallel(n_jobs=-1)]: Using backend LokyBackend with 12 concurrent workers.\n"
     ]
    },
    {
     "name": "stdout",
     "output_type": "stream",
     "text": [
      "K-Fold #6:\n",
      "              precision    recall  f1-score   support\n",
      "\n",
      "         0.0       0.42      0.40      0.41        20\n",
      "         1.0       0.43      0.45      0.44        20\n",
      "\n",
      "    accuracy                           0.42        40\n",
      "   macro avg       0.42      0.43      0.42        40\n",
      "weighted avg       0.42      0.42      0.42        40\n",
      "\n",
      "-------------------------------------------------------------------------------------------------------------------\n"
     ]
    },
    {
     "name": "stderr",
     "output_type": "stream",
     "text": [
      "[Parallel(n_jobs=-1)]: Done   1 out of   1 | elapsed:  2.2min finished\n",
      "[Parallel(n_jobs=-1)]: Using backend LokyBackend with 12 concurrent workers.\n"
     ]
    },
    {
     "name": "stdout",
     "output_type": "stream",
     "text": [
      "K-Fold #7:\n",
      "              precision    recall  f1-score   support\n",
      "\n",
      "         0.0       0.50      0.10      0.17        20\n",
      "         1.0       0.50      0.90      0.64        20\n",
      "\n",
      "    accuracy                           0.50        40\n",
      "   macro avg       0.50      0.50      0.40        40\n",
      "weighted avg       0.50      0.50      0.40        40\n",
      "\n",
      "-------------------------------------------------------------------------------------------------------------------\n"
     ]
    },
    {
     "name": "stderr",
     "output_type": "stream",
     "text": [
      "[Parallel(n_jobs=-1)]: Done   1 out of   1 | elapsed:  2.1min finished\n",
      "[Parallel(n_jobs=-1)]: Using backend LokyBackend with 12 concurrent workers.\n"
     ]
    },
    {
     "name": "stdout",
     "output_type": "stream",
     "text": [
      "K-Fold #8:\n",
      "              precision    recall  f1-score   support\n",
      "\n",
      "         0.0       0.40      0.10      0.16        20\n",
      "         1.0       0.49      0.85      0.62        20\n",
      "\n",
      "    accuracy                           0.48        40\n",
      "   macro avg       0.44      0.47      0.39        40\n",
      "weighted avg       0.44      0.47      0.39        40\n",
      "\n",
      "-------------------------------------------------------------------------------------------------------------------\n"
     ]
    },
    {
     "name": "stderr",
     "output_type": "stream",
     "text": [
      "[Parallel(n_jobs=-1)]: Done   1 out of   1 | elapsed:  2.1min finished\n",
      "[Parallel(n_jobs=-1)]: Using backend LokyBackend with 12 concurrent workers.\n"
     ]
    },
    {
     "name": "stdout",
     "output_type": "stream",
     "text": [
      "K-Fold #9:\n",
      "              precision    recall  f1-score   support\n",
      "\n",
      "         0.0       0.44      0.60      0.51        20\n",
      "         1.0       0.38      0.25      0.30        20\n",
      "\n",
      "    accuracy                           0.42        40\n",
      "   macro avg       0.41      0.42      0.41        40\n",
      "weighted avg       0.41      0.42      0.41        40\n",
      "\n",
      "-------------------------------------------------------------------------------------------------------------------\n",
      "AVG: Scores = 0.45999999999999996 F1-Scores = 0.4284339967712435\n"
     ]
    },
    {
     "name": "stderr",
     "output_type": "stream",
     "text": [
      "[Parallel(n_jobs=-1)]: Done   1 out of   1 | elapsed:  2.1min finished\n",
      "[Parallel(n_jobs=-1)]: Using backend LokyBackend with 12 concurrent workers.\n"
     ]
    },
    {
     "name": "stdout",
     "output_type": "stream",
     "text": [
      "K-Fold #0:\n",
      "              precision    recall  f1-score   support\n",
      "\n",
      "         0.0       0.33      0.35      0.34        20\n",
      "         1.0       0.32      0.30      0.31        20\n",
      "\n",
      "    accuracy                           0.33        40\n",
      "   macro avg       0.32      0.32      0.32        40\n",
      "weighted avg       0.32      0.33      0.32        40\n",
      "\n",
      "-------------------------------------------------------------------------------------------------------------------\n"
     ]
    },
    {
     "name": "stderr",
     "output_type": "stream",
     "text": [
      "[Parallel(n_jobs=-1)]: Done   1 out of   1 | elapsed:  2.1min finished\n",
      "[Parallel(n_jobs=-1)]: Using backend LokyBackend with 12 concurrent workers.\n"
     ]
    },
    {
     "name": "stdout",
     "output_type": "stream",
     "text": [
      "K-Fold #1:\n",
      "              precision    recall  f1-score   support\n",
      "\n",
      "         0.0       0.41      0.55      0.47        20\n",
      "         1.0       0.31      0.20      0.24        20\n",
      "\n",
      "    accuracy                           0.38        40\n",
      "   macro avg       0.36      0.38      0.36        40\n",
      "weighted avg       0.36      0.38      0.36        40\n",
      "\n",
      "-------------------------------------------------------------------------------------------------------------------\n"
     ]
    },
    {
     "name": "stderr",
     "output_type": "stream",
     "text": [
      "[Parallel(n_jobs=-1)]: Done   1 out of   1 | elapsed:  2.1min finished\n",
      "[Parallel(n_jobs=-1)]: Using backend LokyBackend with 12 concurrent workers.\n"
     ]
    },
    {
     "name": "stdout",
     "output_type": "stream",
     "text": [
      "K-Fold #2:\n",
      "              precision    recall  f1-score   support\n",
      "\n",
      "         0.0       0.41      0.60      0.49        20\n",
      "         1.0       0.27      0.15      0.19        20\n",
      "\n",
      "    accuracy                           0.38        40\n",
      "   macro avg       0.34      0.38      0.34        40\n",
      "weighted avg       0.34      0.38      0.34        40\n",
      "\n",
      "-------------------------------------------------------------------------------------------------------------------\n"
     ]
    },
    {
     "name": "stderr",
     "output_type": "stream",
     "text": [
      "[Parallel(n_jobs=-1)]: Done   1 out of   1 | elapsed:  2.1min finished\n",
      "[Parallel(n_jobs=-1)]: Using backend LokyBackend with 12 concurrent workers.\n"
     ]
    },
    {
     "name": "stdout",
     "output_type": "stream",
     "text": [
      "K-Fold #3:\n",
      "              precision    recall  f1-score   support\n",
      "\n",
      "         0.0       0.46      0.60      0.52        20\n",
      "         1.0       0.43      0.30      0.35        20\n",
      "\n",
      "    accuracy                           0.45        40\n",
      "   macro avg       0.45      0.45      0.44        40\n",
      "weighted avg       0.45      0.45      0.44        40\n",
      "\n",
      "-------------------------------------------------------------------------------------------------------------------\n"
     ]
    },
    {
     "name": "stderr",
     "output_type": "stream",
     "text": [
      "[Parallel(n_jobs=-1)]: Done   1 out of   1 | elapsed:  2.1min finished\n",
      "[Parallel(n_jobs=-1)]: Using backend LokyBackend with 12 concurrent workers.\n"
     ]
    },
    {
     "name": "stdout",
     "output_type": "stream",
     "text": [
      "K-Fold #4:\n",
      "              precision    recall  f1-score   support\n",
      "\n",
      "         0.0       0.43      0.50      0.47        20\n",
      "         1.0       0.41      0.35      0.38        20\n",
      "\n",
      "    accuracy                           0.42        40\n",
      "   macro avg       0.42      0.42      0.42        40\n",
      "weighted avg       0.42      0.42      0.42        40\n",
      "\n",
      "-------------------------------------------------------------------------------------------------------------------\n"
     ]
    },
    {
     "name": "stderr",
     "output_type": "stream",
     "text": [
      "[Parallel(n_jobs=-1)]: Done   1 out of   1 | elapsed:  2.1min finished\n",
      "[Parallel(n_jobs=-1)]: Using backend LokyBackend with 12 concurrent workers.\n"
     ]
    },
    {
     "name": "stdout",
     "output_type": "stream",
     "text": [
      "K-Fold #5:\n",
      "              precision    recall  f1-score   support\n",
      "\n",
      "         0.0       0.55      0.60      0.57        20\n",
      "         1.0       0.56      0.50      0.53        20\n",
      "\n",
      "    accuracy                           0.55        40\n",
      "   macro avg       0.55      0.55      0.55        40\n",
      "weighted avg       0.55      0.55      0.55        40\n",
      "\n",
      "-------------------------------------------------------------------------------------------------------------------\n"
     ]
    },
    {
     "name": "stderr",
     "output_type": "stream",
     "text": [
      "[Parallel(n_jobs=-1)]: Done   1 out of   1 | elapsed:  2.1min finished\n",
      "[Parallel(n_jobs=-1)]: Using backend LokyBackend with 12 concurrent workers.\n"
     ]
    },
    {
     "name": "stdout",
     "output_type": "stream",
     "text": [
      "K-Fold #6:\n",
      "              precision    recall  f1-score   support\n",
      "\n",
      "         0.0       0.50      0.75      0.60        20\n",
      "         1.0       0.50      0.25      0.33        20\n",
      "\n",
      "    accuracy                           0.50        40\n",
      "   macro avg       0.50      0.50      0.47        40\n",
      "weighted avg       0.50      0.50      0.47        40\n",
      "\n",
      "-------------------------------------------------------------------------------------------------------------------\n"
     ]
    },
    {
     "name": "stderr",
     "output_type": "stream",
     "text": [
      "[Parallel(n_jobs=-1)]: Done   1 out of   1 | elapsed:  2.1min finished\n",
      "[Parallel(n_jobs=-1)]: Using backend LokyBackend with 12 concurrent workers.\n"
     ]
    },
    {
     "name": "stdout",
     "output_type": "stream",
     "text": [
      "K-Fold #7:\n",
      "              precision    recall  f1-score   support\n",
      "\n",
      "         0.0       0.50      0.15      0.23        20\n",
      "         1.0       0.50      0.85      0.63        20\n",
      "\n",
      "    accuracy                           0.50        40\n",
      "   macro avg       0.50      0.50      0.43        40\n",
      "weighted avg       0.50      0.50      0.43        40\n",
      "\n",
      "-------------------------------------------------------------------------------------------------------------------\n"
     ]
    },
    {
     "name": "stderr",
     "output_type": "stream",
     "text": [
      "[Parallel(n_jobs=-1)]: Done   1 out of   1 | elapsed:  2.1min finished\n",
      "[Parallel(n_jobs=-1)]: Using backend LokyBackend with 12 concurrent workers.\n"
     ]
    },
    {
     "name": "stdout",
     "output_type": "stream",
     "text": [
      "K-Fold #8:\n",
      "              precision    recall  f1-score   support\n",
      "\n",
      "         0.0       0.42      0.70      0.53        20\n",
      "         1.0       0.14      0.05      0.07        20\n",
      "\n",
      "    accuracy                           0.38        40\n",
      "   macro avg       0.28      0.38      0.30        40\n",
      "weighted avg       0.28      0.38      0.30        40\n",
      "\n",
      "-------------------------------------------------------------------------------------------------------------------\n"
     ]
    },
    {
     "name": "stderr",
     "output_type": "stream",
     "text": [
      "[Parallel(n_jobs=-1)]: Done   1 out of   1 | elapsed:  2.1min finished\n",
      "[Parallel(n_jobs=-1)]: Using backend LokyBackend with 12 concurrent workers.\n"
     ]
    },
    {
     "name": "stdout",
     "output_type": "stream",
     "text": [
      "K-Fold #9:\n",
      "              precision    recall  f1-score   support\n",
      "\n",
      "         0.0       0.45      0.70      0.55        20\n",
      "         1.0       0.33      0.15      0.21        20\n",
      "\n",
      "    accuracy                           0.42        40\n",
      "   macro avg       0.39      0.42      0.38        40\n",
      "weighted avg       0.39      0.42      0.38        40\n",
      "\n",
      "-------------------------------------------------------------------------------------------------------------------\n",
      "AVG: Scores = 0.43 F1-Scores = 0.40054765080097826\n"
     ]
    },
    {
     "name": "stderr",
     "output_type": "stream",
     "text": [
      "[Parallel(n_jobs=-1)]: Done   1 out of   1 | elapsed:  2.1min finished\n",
      "[Parallel(n_jobs=-1)]: Using backend LokyBackend with 12 concurrent workers.\n"
     ]
    },
    {
     "name": "stdout",
     "output_type": "stream",
     "text": [
      "K-Fold #0:\n",
      "              precision    recall  f1-score   support\n",
      "\n",
      "         0.0       0.46      0.55      0.50        20\n",
      "         1.0       0.44      0.35      0.39        20\n",
      "\n",
      "    accuracy                           0.45        40\n",
      "   macro avg       0.45      0.45      0.44        40\n",
      "weighted avg       0.45      0.45      0.44        40\n",
      "\n",
      "-------------------------------------------------------------------------------------------------------------------\n"
     ]
    },
    {
     "name": "stderr",
     "output_type": "stream",
     "text": [
      "[Parallel(n_jobs=-1)]: Done   1 out of   1 | elapsed:  2.1min finished\n",
      "[Parallel(n_jobs=-1)]: Using backend LokyBackend with 12 concurrent workers.\n"
     ]
    },
    {
     "name": "stdout",
     "output_type": "stream",
     "text": [
      "K-Fold #1:\n",
      "              precision    recall  f1-score   support\n",
      "\n",
      "         0.0       0.50      0.65      0.57        20\n",
      "         1.0       0.50      0.35      0.41        20\n",
      "\n",
      "    accuracy                           0.50        40\n",
      "   macro avg       0.50      0.50      0.49        40\n",
      "weighted avg       0.50      0.50      0.49        40\n",
      "\n",
      "-------------------------------------------------------------------------------------------------------------------\n"
     ]
    },
    {
     "name": "stderr",
     "output_type": "stream",
     "text": [
      "[Parallel(n_jobs=-1)]: Done   1 out of   1 | elapsed:  2.1min finished\n",
      "[Parallel(n_jobs=-1)]: Using backend LokyBackend with 12 concurrent workers.\n"
     ]
    },
    {
     "name": "stdout",
     "output_type": "stream",
     "text": [
      "K-Fold #2:\n",
      "              precision    recall  f1-score   support\n",
      "\n",
      "         0.0       0.55      0.60      0.57        20\n",
      "         1.0       0.56      0.50      0.53        20\n",
      "\n",
      "    accuracy                           0.55        40\n",
      "   macro avg       0.55      0.55      0.55        40\n",
      "weighted avg       0.55      0.55      0.55        40\n",
      "\n",
      "-------------------------------------------------------------------------------------------------------------------\n"
     ]
    },
    {
     "name": "stderr",
     "output_type": "stream",
     "text": [
      "[Parallel(n_jobs=-1)]: Done   1 out of   1 | elapsed:  2.1min finished\n",
      "[Parallel(n_jobs=-1)]: Using backend LokyBackend with 12 concurrent workers.\n"
     ]
    },
    {
     "name": "stdout",
     "output_type": "stream",
     "text": [
      "K-Fold #3:\n",
      "              precision    recall  f1-score   support\n",
      "\n",
      "         0.0       0.44      0.75      0.56        20\n",
      "         1.0       0.17      0.05      0.08        20\n",
      "\n",
      "    accuracy                           0.40        40\n",
      "   macro avg       0.30      0.40      0.32        40\n",
      "weighted avg       0.30      0.40      0.32        40\n",
      "\n",
      "-------------------------------------------------------------------------------------------------------------------\n"
     ]
    },
    {
     "name": "stderr",
     "output_type": "stream",
     "text": [
      "[Parallel(n_jobs=-1)]: Done   1 out of   1 | elapsed:  2.1min finished\n",
      "[Parallel(n_jobs=-1)]: Using backend LokyBackend with 12 concurrent workers.\n"
     ]
    },
    {
     "name": "stdout",
     "output_type": "stream",
     "text": [
      "K-Fold #4:\n",
      "              precision    recall  f1-score   support\n",
      "\n",
      "         0.0       0.44      0.40      0.42        20\n",
      "         1.0       0.45      0.50      0.48        20\n",
      "\n",
      "    accuracy                           0.45        40\n",
      "   macro avg       0.45      0.45      0.45        40\n",
      "weighted avg       0.45      0.45      0.45        40\n",
      "\n",
      "-------------------------------------------------------------------------------------------------------------------\n"
     ]
    },
    {
     "name": "stderr",
     "output_type": "stream",
     "text": [
      "[Parallel(n_jobs=-1)]: Done   1 out of   1 | elapsed:  2.1min finished\n",
      "[Parallel(n_jobs=-1)]: Using backend LokyBackend with 12 concurrent workers.\n"
     ]
    },
    {
     "name": "stdout",
     "output_type": "stream",
     "text": [
      "K-Fold #5:\n",
      "              precision    recall  f1-score   support\n",
      "\n",
      "         0.0       0.47      0.80      0.59        20\n",
      "         1.0       0.33      0.10      0.15        20\n",
      "\n",
      "    accuracy                           0.45        40\n",
      "   macro avg       0.40      0.45      0.37        40\n",
      "weighted avg       0.40      0.45      0.37        40\n",
      "\n",
      "-------------------------------------------------------------------------------------------------------------------\n"
     ]
    },
    {
     "name": "stderr",
     "output_type": "stream",
     "text": [
      "[Parallel(n_jobs=-1)]: Done   1 out of   1 | elapsed:  2.1min finished\n",
      "[Parallel(n_jobs=-1)]: Using backend LokyBackend with 12 concurrent workers.\n"
     ]
    },
    {
     "name": "stdout",
     "output_type": "stream",
     "text": [
      "K-Fold #6:\n",
      "              precision    recall  f1-score   support\n",
      "\n",
      "         0.0       0.45      0.50      0.48        20\n",
      "         1.0       0.44      0.40      0.42        20\n",
      "\n",
      "    accuracy                           0.45        40\n",
      "   macro avg       0.45      0.45      0.45        40\n",
      "weighted avg       0.45      0.45      0.45        40\n",
      "\n",
      "-------------------------------------------------------------------------------------------------------------------\n"
     ]
    },
    {
     "name": "stderr",
     "output_type": "stream",
     "text": [
      "[Parallel(n_jobs=-1)]: Done   1 out of   1 | elapsed:  2.1min finished\n",
      "[Parallel(n_jobs=-1)]: Using backend LokyBackend with 12 concurrent workers.\n"
     ]
    },
    {
     "name": "stdout",
     "output_type": "stream",
     "text": [
      "K-Fold #7:\n",
      "              precision    recall  f1-score   support\n",
      "\n",
      "         0.0       0.41      0.45      0.43        20\n",
      "         1.0       0.39      0.35      0.37        20\n",
      "\n",
      "    accuracy                           0.40        40\n",
      "   macro avg       0.40      0.40      0.40        40\n",
      "weighted avg       0.40      0.40      0.40        40\n",
      "\n",
      "-------------------------------------------------------------------------------------------------------------------\n"
     ]
    },
    {
     "name": "stderr",
     "output_type": "stream",
     "text": [
      "[Parallel(n_jobs=-1)]: Done   1 out of   1 | elapsed:  2.1min finished\n",
      "[Parallel(n_jobs=-1)]: Using backend LokyBackend with 12 concurrent workers.\n"
     ]
    },
    {
     "name": "stdout",
     "output_type": "stream",
     "text": [
      "K-Fold #8:\n",
      "              precision    recall  f1-score   support\n",
      "\n",
      "         0.0       0.53      0.45      0.49        20\n",
      "         1.0       0.52      0.60      0.56        20\n",
      "\n",
      "    accuracy                           0.53        40\n",
      "   macro avg       0.53      0.53      0.52        40\n",
      "weighted avg       0.53      0.53      0.52        40\n",
      "\n",
      "-------------------------------------------------------------------------------------------------------------------\n"
     ]
    },
    {
     "name": "stderr",
     "output_type": "stream",
     "text": [
      "[Parallel(n_jobs=-1)]: Done   1 out of   1 | elapsed:  2.1min finished\n",
      "[Parallel(n_jobs=-1)]: Using backend LokyBackend with 12 concurrent workers.\n"
     ]
    },
    {
     "name": "stdout",
     "output_type": "stream",
     "text": [
      "K-Fold #9:\n",
      "              precision    recall  f1-score   support\n",
      "\n",
      "         0.0       0.45      0.45      0.45        20\n",
      "         1.0       0.45      0.45      0.45        20\n",
      "\n",
      "    accuracy                           0.45        40\n",
      "   macro avg       0.45      0.45      0.45        40\n",
      "weighted avg       0.45      0.45      0.45        40\n",
      "\n",
      "-------------------------------------------------------------------------------------------------------------------\n",
      "AVG: Scores = 0.4625 F1-Scores = 0.44393187220036434\n"
     ]
    },
    {
     "name": "stderr",
     "output_type": "stream",
     "text": [
      "[Parallel(n_jobs=-1)]: Done   1 out of   1 | elapsed:  2.1min finished\n",
      "[Parallel(n_jobs=-1)]: Using backend LokyBackend with 12 concurrent workers.\n"
     ]
    },
    {
     "name": "stdout",
     "output_type": "stream",
     "text": [
      "K-Fold #0:\n",
      "              precision    recall  f1-score   support\n",
      "\n",
      "         0.0       0.47      0.45      0.46        20\n",
      "         1.0       0.48      0.50      0.49        20\n",
      "\n",
      "    accuracy                           0.48        40\n",
      "   macro avg       0.47      0.47      0.47        40\n",
      "weighted avg       0.47      0.47      0.47        40\n",
      "\n",
      "-------------------------------------------------------------------------------------------------------------------\n"
     ]
    },
    {
     "name": "stderr",
     "output_type": "stream",
     "text": [
      "[Parallel(n_jobs=-1)]: Done   1 out of   1 | elapsed:  2.1min finished\n",
      "[Parallel(n_jobs=-1)]: Using backend LokyBackend with 12 concurrent workers.\n"
     ]
    },
    {
     "name": "stdout",
     "output_type": "stream",
     "text": [
      "K-Fold #1:\n",
      "              precision    recall  f1-score   support\n",
      "\n",
      "         0.0       0.50      0.45      0.47        20\n",
      "         1.0       0.50      0.55      0.52        20\n",
      "\n",
      "    accuracy                           0.50        40\n",
      "   macro avg       0.50      0.50      0.50        40\n",
      "weighted avg       0.50      0.50      0.50        40\n",
      "\n",
      "-------------------------------------------------------------------------------------------------------------------\n"
     ]
    },
    {
     "name": "stderr",
     "output_type": "stream",
     "text": [
      "[Parallel(n_jobs=-1)]: Done   1 out of   1 | elapsed:  2.1min finished\n",
      "[Parallel(n_jobs=-1)]: Using backend LokyBackend with 12 concurrent workers.\n"
     ]
    },
    {
     "name": "stdout",
     "output_type": "stream",
     "text": [
      "K-Fold #2:\n",
      "              precision    recall  f1-score   support\n",
      "\n",
      "         0.0       0.48      0.60      0.53        20\n",
      "         1.0       0.47      0.35      0.40        20\n",
      "\n",
      "    accuracy                           0.48        40\n",
      "   macro avg       0.47      0.47      0.47        40\n",
      "weighted avg       0.47      0.47      0.47        40\n",
      "\n",
      "-------------------------------------------------------------------------------------------------------------------\n"
     ]
    },
    {
     "name": "stderr",
     "output_type": "stream",
     "text": [
      "[Parallel(n_jobs=-1)]: Done   1 out of   1 | elapsed:  2.1min finished\n",
      "[Parallel(n_jobs=-1)]: Using backend LokyBackend with 12 concurrent workers.\n"
     ]
    },
    {
     "name": "stdout",
     "output_type": "stream",
     "text": [
      "K-Fold #3:\n",
      "              precision    recall  f1-score   support\n",
      "\n",
      "         0.0       0.43      0.15      0.22        20\n",
      "         1.0       0.48      0.80      0.60        20\n",
      "\n",
      "    accuracy                           0.48        40\n",
      "   macro avg       0.46      0.48      0.41        40\n",
      "weighted avg       0.46      0.47      0.41        40\n",
      "\n",
      "-------------------------------------------------------------------------------------------------------------------\n"
     ]
    },
    {
     "name": "stderr",
     "output_type": "stream",
     "text": [
      "[Parallel(n_jobs=-1)]: Done   1 out of   1 | elapsed:  2.1min finished\n",
      "[Parallel(n_jobs=-1)]: Using backend LokyBackend with 12 concurrent workers.\n"
     ]
    },
    {
     "name": "stdout",
     "output_type": "stream",
     "text": [
      "K-Fold #4:\n",
      "              precision    recall  f1-score   support\n",
      "\n",
      "         0.0       0.39      0.35      0.37        20\n",
      "         1.0       0.41      0.45      0.43        20\n",
      "\n",
      "    accuracy                           0.40        40\n",
      "   macro avg       0.40      0.40      0.40        40\n",
      "weighted avg       0.40      0.40      0.40        40\n",
      "\n",
      "-------------------------------------------------------------------------------------------------------------------\n"
     ]
    },
    {
     "name": "stderr",
     "output_type": "stream",
     "text": [
      "[Parallel(n_jobs=-1)]: Done   1 out of   1 | elapsed:  2.2min finished\n",
      "[Parallel(n_jobs=-1)]: Using backend LokyBackend with 12 concurrent workers.\n"
     ]
    },
    {
     "name": "stdout",
     "output_type": "stream",
     "text": [
      "K-Fold #5:\n",
      "              precision    recall  f1-score   support\n",
      "\n",
      "         0.0       0.50      0.85      0.63        20\n",
      "         1.0       0.50      0.15      0.23        20\n",
      "\n",
      "    accuracy                           0.50        40\n",
      "   macro avg       0.50      0.50      0.43        40\n",
      "weighted avg       0.50      0.50      0.43        40\n",
      "\n",
      "-------------------------------------------------------------------------------------------------------------------\n"
     ]
    },
    {
     "name": "stderr",
     "output_type": "stream",
     "text": [
      "[Parallel(n_jobs=-1)]: Done   1 out of   1 | elapsed:  2.1min finished\n",
      "[Parallel(n_jobs=-1)]: Using backend LokyBackend with 12 concurrent workers.\n"
     ]
    },
    {
     "name": "stdout",
     "output_type": "stream",
     "text": [
      "K-Fold #6:\n",
      "              precision    recall  f1-score   support\n",
      "\n",
      "         0.0       0.42      0.55      0.48        20\n",
      "         1.0       0.36      0.25      0.29        20\n",
      "\n",
      "    accuracy                           0.40        40\n",
      "   macro avg       0.39      0.40      0.39        40\n",
      "weighted avg       0.39      0.40      0.39        40\n",
      "\n",
      "-------------------------------------------------------------------------------------------------------------------\n"
     ]
    },
    {
     "name": "stderr",
     "output_type": "stream",
     "text": [
      "[Parallel(n_jobs=-1)]: Done   1 out of   1 | elapsed:  2.1min finished\n",
      "[Parallel(n_jobs=-1)]: Using backend LokyBackend with 12 concurrent workers.\n"
     ]
    },
    {
     "name": "stdout",
     "output_type": "stream",
     "text": [
      "K-Fold #7:\n",
      "              precision    recall  f1-score   support\n",
      "\n",
      "         0.0       0.50      0.60      0.55        20\n",
      "         1.0       0.50      0.40      0.44        20\n",
      "\n",
      "    accuracy                           0.50        40\n",
      "   macro avg       0.50      0.50      0.49        40\n",
      "weighted avg       0.50      0.50      0.49        40\n",
      "\n",
      "-------------------------------------------------------------------------------------------------------------------\n"
     ]
    },
    {
     "name": "stderr",
     "output_type": "stream",
     "text": [
      "[Parallel(n_jobs=-1)]: Done   1 out of   1 | elapsed:  2.1min finished\n",
      "[Parallel(n_jobs=-1)]: Using backend LokyBackend with 12 concurrent workers.\n"
     ]
    },
    {
     "name": "stdout",
     "output_type": "stream",
     "text": [
      "K-Fold #8:\n",
      "              precision    recall  f1-score   support\n",
      "\n",
      "         0.0       0.50      0.50      0.50        20\n",
      "         1.0       0.50      0.50      0.50        20\n",
      "\n",
      "    accuracy                           0.50        40\n",
      "   macro avg       0.50      0.50      0.50        40\n",
      "weighted avg       0.50      0.50      0.50        40\n",
      "\n",
      "-------------------------------------------------------------------------------------------------------------------\n"
     ]
    },
    {
     "name": "stderr",
     "output_type": "stream",
     "text": [
      "[Parallel(n_jobs=-1)]: Done   1 out of   1 | elapsed:  2.1min finished\n",
      "[Parallel(n_jobs=-1)]: Using backend LokyBackend with 12 concurrent workers.\n"
     ]
    },
    {
     "name": "stdout",
     "output_type": "stream",
     "text": [
      "K-Fold #9:\n",
      "              precision    recall  f1-score   support\n",
      "\n",
      "         0.0       0.42      0.40      0.41        20\n",
      "         1.0       0.43      0.45      0.44        20\n",
      "\n",
      "    accuracy                           0.42        40\n",
      "   macro avg       0.42      0.43      0.42        40\n",
      "weighted avg       0.42      0.42      0.42        40\n",
      "\n",
      "-------------------------------------------------------------------------------------------------------------------\n",
      "AVG: Scores = 0.46499999999999997 F1-Scores = 0.4487557931504755\n"
     ]
    },
    {
     "name": "stderr",
     "output_type": "stream",
     "text": [
      "[Parallel(n_jobs=-1)]: Done   1 out of   1 | elapsed:  2.1min finished\n",
      "[Parallel(n_jobs=-1)]: Using backend LokyBackend with 12 concurrent workers.\n"
     ]
    },
    {
     "name": "stdout",
     "output_type": "stream",
     "text": [
      "K-Fold #0:\n",
      "              precision    recall  f1-score   support\n",
      "\n",
      "         0.0       0.45      0.45      0.45        20\n",
      "         1.0       0.45      0.45      0.45        20\n",
      "\n",
      "    accuracy                           0.45        40\n",
      "   macro avg       0.45      0.45      0.45        40\n",
      "weighted avg       0.45      0.45      0.45        40\n",
      "\n",
      "-------------------------------------------------------------------------------------------------------------------\n"
     ]
    },
    {
     "name": "stderr",
     "output_type": "stream",
     "text": [
      "[Parallel(n_jobs=-1)]: Done   1 out of   1 | elapsed:  2.1min finished\n",
      "[Parallel(n_jobs=-1)]: Using backend LokyBackend with 12 concurrent workers.\n"
     ]
    },
    {
     "name": "stdout",
     "output_type": "stream",
     "text": [
      "K-Fold #1:\n",
      "              precision    recall  f1-score   support\n",
      "\n",
      "         0.0       0.48      0.65      0.55        20\n",
      "         1.0       0.46      0.30      0.36        20\n",
      "\n",
      "    accuracy                           0.48        40\n",
      "   macro avg       0.47      0.47      0.46        40\n",
      "weighted avg       0.47      0.47      0.46        40\n",
      "\n",
      "-------------------------------------------------------------------------------------------------------------------\n"
     ]
    },
    {
     "name": "stderr",
     "output_type": "stream",
     "text": [
      "[Parallel(n_jobs=-1)]: Done   1 out of   1 | elapsed:  2.1min finished\n",
      "[Parallel(n_jobs=-1)]: Using backend LokyBackend with 12 concurrent workers.\n"
     ]
    },
    {
     "name": "stdout",
     "output_type": "stream",
     "text": [
      "K-Fold #2:\n",
      "              precision    recall  f1-score   support\n",
      "\n",
      "         0.0       0.43      0.50      0.47        20\n",
      "         1.0       0.41      0.35      0.38        20\n",
      "\n",
      "    accuracy                           0.42        40\n",
      "   macro avg       0.42      0.42      0.42        40\n",
      "weighted avg       0.42      0.42      0.42        40\n",
      "\n",
      "-------------------------------------------------------------------------------------------------------------------\n"
     ]
    },
    {
     "name": "stderr",
     "output_type": "stream",
     "text": [
      "[Parallel(n_jobs=-1)]: Done   1 out of   1 | elapsed:  2.1min finished\n",
      "[Parallel(n_jobs=-1)]: Using backend LokyBackend with 12 concurrent workers.\n"
     ]
    },
    {
     "name": "stdout",
     "output_type": "stream",
     "text": [
      "K-Fold #3:\n",
      "              precision    recall  f1-score   support\n",
      "\n",
      "         0.0       0.42      0.50      0.45        20\n",
      "         1.0       0.38      0.30      0.33        20\n",
      "\n",
      "    accuracy                           0.40        40\n",
      "   macro avg       0.40      0.40      0.39        40\n",
      "weighted avg       0.40      0.40      0.39        40\n",
      "\n",
      "-------------------------------------------------------------------------------------------------------------------\n"
     ]
    },
    {
     "name": "stderr",
     "output_type": "stream",
     "text": [
      "[Parallel(n_jobs=-1)]: Done   1 out of   1 | elapsed:  2.1min finished\n",
      "[Parallel(n_jobs=-1)]: Using backend LokyBackend with 12 concurrent workers.\n"
     ]
    },
    {
     "name": "stdout",
     "output_type": "stream",
     "text": [
      "K-Fold #4:\n",
      "              precision    recall  f1-score   support\n",
      "\n",
      "         0.0       0.45      0.50      0.48        20\n",
      "         1.0       0.44      0.40      0.42        20\n",
      "\n",
      "    accuracy                           0.45        40\n",
      "   macro avg       0.45      0.45      0.45        40\n",
      "weighted avg       0.45      0.45      0.45        40\n",
      "\n",
      "-------------------------------------------------------------------------------------------------------------------\n"
     ]
    },
    {
     "name": "stderr",
     "output_type": "stream",
     "text": [
      "[Parallel(n_jobs=-1)]: Done   1 out of   1 | elapsed:  2.1min finished\n",
      "[Parallel(n_jobs=-1)]: Using backend LokyBackend with 12 concurrent workers.\n"
     ]
    },
    {
     "name": "stdout",
     "output_type": "stream",
     "text": [
      "K-Fold #5:\n",
      "              precision    recall  f1-score   support\n",
      "\n",
      "         0.0       0.25      0.05      0.08        20\n",
      "         1.0       0.47      0.85      0.61        20\n",
      "\n",
      "    accuracy                           0.45        40\n",
      "   macro avg       0.36      0.45      0.35        40\n",
      "weighted avg       0.36      0.45      0.35        40\n",
      "\n",
      "-------------------------------------------------------------------------------------------------------------------\n"
     ]
    },
    {
     "name": "stderr",
     "output_type": "stream",
     "text": [
      "[Parallel(n_jobs=-1)]: Done   1 out of   1 | elapsed:  2.1min finished\n",
      "[Parallel(n_jobs=-1)]: Using backend LokyBackend with 12 concurrent workers.\n"
     ]
    },
    {
     "name": "stdout",
     "output_type": "stream",
     "text": [
      "K-Fold #6:\n",
      "              precision    recall  f1-score   support\n",
      "\n",
      "         0.0       0.44      0.55      0.49        20\n",
      "         1.0       0.40      0.30      0.34        20\n",
      "\n",
      "    accuracy                           0.42        40\n",
      "   macro avg       0.42      0.43      0.42        40\n",
      "weighted avg       0.42      0.42      0.42        40\n",
      "\n",
      "-------------------------------------------------------------------------------------------------------------------\n"
     ]
    },
    {
     "name": "stderr",
     "output_type": "stream",
     "text": [
      "[Parallel(n_jobs=-1)]: Done   1 out of   1 | elapsed:  2.1min finished\n",
      "[Parallel(n_jobs=-1)]: Using backend LokyBackend with 12 concurrent workers.\n"
     ]
    },
    {
     "name": "stdout",
     "output_type": "stream",
     "text": [
      "K-Fold #7:\n",
      "              precision    recall  f1-score   support\n",
      "\n",
      "         0.0       0.52      0.60      0.56        20\n",
      "         1.0       0.53      0.45      0.49        20\n",
      "\n",
      "    accuracy                           0.53        40\n",
      "   macro avg       0.53      0.53      0.52        40\n",
      "weighted avg       0.53      0.53      0.52        40\n",
      "\n",
      "-------------------------------------------------------------------------------------------------------------------\n"
     ]
    },
    {
     "name": "stderr",
     "output_type": "stream",
     "text": [
      "[Parallel(n_jobs=-1)]: Done   1 out of   1 | elapsed:  2.1min finished\n",
      "[Parallel(n_jobs=-1)]: Using backend LokyBackend with 12 concurrent workers.\n"
     ]
    },
    {
     "name": "stdout",
     "output_type": "stream",
     "text": [
      "K-Fold #8:\n",
      "              precision    recall  f1-score   support\n",
      "\n",
      "         0.0       0.38      0.15      0.21        20\n",
      "         1.0       0.47      0.75      0.58        20\n",
      "\n",
      "    accuracy                           0.45        40\n",
      "   macro avg       0.42      0.45      0.40        40\n",
      "weighted avg       0.42      0.45      0.40        40\n",
      "\n",
      "-------------------------------------------------------------------------------------------------------------------\n"
     ]
    },
    {
     "name": "stderr",
     "output_type": "stream",
     "text": [
      "[Parallel(n_jobs=-1)]: Done   1 out of   1 | elapsed:  2.1min finished\n",
      "[Parallel(n_jobs=-1)]: Using backend LokyBackend with 12 concurrent workers.\n"
     ]
    },
    {
     "name": "stdout",
     "output_type": "stream",
     "text": [
      "K-Fold #9:\n",
      "              precision    recall  f1-score   support\n",
      "\n",
      "         0.0       0.50      0.45      0.47        20\n",
      "         1.0       0.50      0.55      0.52        20\n",
      "\n",
      "    accuracy                           0.50        40\n",
      "   macro avg       0.50      0.50      0.50        40\n",
      "weighted avg       0.50      0.50      0.50        40\n",
      "\n",
      "-------------------------------------------------------------------------------------------------------------------\n",
      "AVG: Scores = 0.45499999999999996 F1-Scores = 0.43504975876157415\n"
     ]
    },
    {
     "name": "stderr",
     "output_type": "stream",
     "text": [
      "[Parallel(n_jobs=-1)]: Done   1 out of   1 | elapsed:  2.1min finished\n",
      "[Parallel(n_jobs=-1)]: Using backend LokyBackend with 12 concurrent workers.\n"
     ]
    },
    {
     "name": "stdout",
     "output_type": "stream",
     "text": [
      "K-Fold #0:\n",
      "              precision    recall  f1-score   support\n",
      "\n",
      "         0.0       0.44      0.75      0.56        20\n",
      "         1.0       0.17      0.05      0.08        20\n",
      "\n",
      "    accuracy                           0.40        40\n",
      "   macro avg       0.30      0.40      0.32        40\n",
      "weighted avg       0.30      0.40      0.32        40\n",
      "\n",
      "-------------------------------------------------------------------------------------------------------------------\n"
     ]
    },
    {
     "name": "stderr",
     "output_type": "stream",
     "text": [
      "[Parallel(n_jobs=-1)]: Done   1 out of   1 | elapsed:  2.1min finished\n",
      "[Parallel(n_jobs=-1)]: Using backend LokyBackend with 12 concurrent workers.\n"
     ]
    },
    {
     "name": "stdout",
     "output_type": "stream",
     "text": [
      "K-Fold #1:\n",
      "              precision    recall  f1-score   support\n",
      "\n",
      "         0.0       0.44      0.60      0.51        20\n",
      "         1.0       0.38      0.25      0.30        20\n",
      "\n",
      "    accuracy                           0.42        40\n",
      "   macro avg       0.41      0.42      0.41        40\n",
      "weighted avg       0.41      0.42      0.41        40\n",
      "\n",
      "-------------------------------------------------------------------------------------------------------------------\n"
     ]
    },
    {
     "name": "stderr",
     "output_type": "stream",
     "text": [
      "[Parallel(n_jobs=-1)]: Done   1 out of   1 | elapsed:  2.1min finished\n",
      "[Parallel(n_jobs=-1)]: Using backend LokyBackend with 12 concurrent workers.\n"
     ]
    },
    {
     "name": "stdout",
     "output_type": "stream",
     "text": [
      "K-Fold #2:\n",
      "              precision    recall  f1-score   support\n",
      "\n",
      "         0.0       0.48      0.70      0.57        20\n",
      "         1.0       0.45      0.25      0.32        20\n",
      "\n",
      "    accuracy                           0.48        40\n",
      "   macro avg       0.47      0.47      0.45        40\n",
      "weighted avg       0.47      0.47      0.45        40\n",
      "\n",
      "-------------------------------------------------------------------------------------------------------------------\n"
     ]
    },
    {
     "name": "stderr",
     "output_type": "stream",
     "text": [
      "[Parallel(n_jobs=-1)]: Done   1 out of   1 | elapsed:  2.1min finished\n",
      "[Parallel(n_jobs=-1)]: Using backend LokyBackend with 12 concurrent workers.\n"
     ]
    },
    {
     "name": "stdout",
     "output_type": "stream",
     "text": [
      "K-Fold #3:\n",
      "              precision    recall  f1-score   support\n",
      "\n",
      "         0.0       0.43      0.65      0.52        20\n",
      "         1.0       0.30      0.15      0.20        20\n",
      "\n",
      "    accuracy                           0.40        40\n",
      "   macro avg       0.37      0.40      0.36        40\n",
      "weighted avg       0.37      0.40      0.36        40\n",
      "\n",
      "-------------------------------------------------------------------------------------------------------------------\n"
     ]
    },
    {
     "name": "stderr",
     "output_type": "stream",
     "text": [
      "[Parallel(n_jobs=-1)]: Done   1 out of   1 | elapsed:  2.1min finished\n",
      "[Parallel(n_jobs=-1)]: Using backend LokyBackend with 12 concurrent workers.\n"
     ]
    },
    {
     "name": "stdout",
     "output_type": "stream",
     "text": [
      "K-Fold #4:\n",
      "              precision    recall  f1-score   support\n",
      "\n",
      "         0.0       0.50      0.55      0.52        20\n",
      "         1.0       0.50      0.45      0.47        20\n",
      "\n",
      "    accuracy                           0.50        40\n",
      "   macro avg       0.50      0.50      0.50        40\n",
      "weighted avg       0.50      0.50      0.50        40\n",
      "\n",
      "-------------------------------------------------------------------------------------------------------------------\n"
     ]
    },
    {
     "name": "stderr",
     "output_type": "stream",
     "text": [
      "[Parallel(n_jobs=-1)]: Done   1 out of   1 | elapsed:  2.1min finished\n",
      "[Parallel(n_jobs=-1)]: Using backend LokyBackend with 12 concurrent workers.\n"
     ]
    },
    {
     "name": "stdout",
     "output_type": "stream",
     "text": [
      "K-Fold #5:\n",
      "              precision    recall  f1-score   support\n",
      "\n",
      "         0.0       0.52      0.55      0.54        20\n",
      "         1.0       0.53      0.50      0.51        20\n",
      "\n",
      "    accuracy                           0.53        40\n",
      "   macro avg       0.53      0.53      0.52        40\n",
      "weighted avg       0.53      0.53      0.52        40\n",
      "\n",
      "-------------------------------------------------------------------------------------------------------------------\n"
     ]
    },
    {
     "name": "stderr",
     "output_type": "stream",
     "text": [
      "[Parallel(n_jobs=-1)]: Done   1 out of   1 | elapsed:  2.1min finished\n",
      "[Parallel(n_jobs=-1)]: Using backend LokyBackend with 12 concurrent workers.\n"
     ]
    },
    {
     "name": "stdout",
     "output_type": "stream",
     "text": [
      "K-Fold #6:\n",
      "              precision    recall  f1-score   support\n",
      "\n",
      "         0.0       0.52      0.70      0.60        20\n",
      "         1.0       0.54      0.35      0.42        20\n",
      "\n",
      "    accuracy                           0.53        40\n",
      "   macro avg       0.53      0.52      0.51        40\n",
      "weighted avg       0.53      0.53      0.51        40\n",
      "\n",
      "-------------------------------------------------------------------------------------------------------------------\n"
     ]
    },
    {
     "name": "stderr",
     "output_type": "stream",
     "text": [
      "[Parallel(n_jobs=-1)]: Done   1 out of   1 | elapsed:  2.1min finished\n",
      "[Parallel(n_jobs=-1)]: Using backend LokyBackend with 12 concurrent workers.\n"
     ]
    },
    {
     "name": "stdout",
     "output_type": "stream",
     "text": [
      "K-Fold #7:\n",
      "              precision    recall  f1-score   support\n",
      "\n",
      "         0.0       0.50      0.20      0.29        20\n",
      "         1.0       0.50      0.80      0.62        20\n",
      "\n",
      "    accuracy                           0.50        40\n",
      "   macro avg       0.50      0.50      0.45        40\n",
      "weighted avg       0.50      0.50      0.45        40\n",
      "\n",
      "-------------------------------------------------------------------------------------------------------------------\n"
     ]
    },
    {
     "name": "stderr",
     "output_type": "stream",
     "text": [
      "[Parallel(n_jobs=-1)]: Done   1 out of   1 | elapsed:  2.1min finished\n",
      "[Parallel(n_jobs=-1)]: Using backend LokyBackend with 12 concurrent workers.\n"
     ]
    },
    {
     "name": "stdout",
     "output_type": "stream",
     "text": [
      "K-Fold #8:\n",
      "              precision    recall  f1-score   support\n",
      "\n",
      "         0.0       0.46      0.55      0.50        20\n",
      "         1.0       0.44      0.35      0.39        20\n",
      "\n",
      "    accuracy                           0.45        40\n",
      "   macro avg       0.45      0.45      0.44        40\n",
      "weighted avg       0.45      0.45      0.44        40\n",
      "\n",
      "-------------------------------------------------------------------------------------------------------------------\n"
     ]
    },
    {
     "name": "stderr",
     "output_type": "stream",
     "text": [
      "[Parallel(n_jobs=-1)]: Done   1 out of   1 | elapsed:  2.1min finished\n",
      "[Parallel(n_jobs=-1)]: Using backend LokyBackend with 12 concurrent workers.\n"
     ]
    },
    {
     "name": "stdout",
     "output_type": "stream",
     "text": [
      "K-Fold #9:\n",
      "              precision    recall  f1-score   support\n",
      "\n",
      "         0.0       0.50      0.45      0.47        20\n",
      "         1.0       0.50      0.55      0.52        20\n",
      "\n",
      "    accuracy                           0.50        40\n",
      "   macro avg       0.50      0.50      0.50        40\n",
      "weighted avg       0.50      0.50      0.50        40\n",
      "\n",
      "-------------------------------------------------------------------------------------------------------------------\n",
      "AVG: Scores = 0.47000000000000003 F1-Scores = 0.44572623461991334\n"
     ]
    },
    {
     "name": "stderr",
     "output_type": "stream",
     "text": [
      "[Parallel(n_jobs=-1)]: Done   1 out of   1 | elapsed:  2.1min finished\n",
      "[Parallel(n_jobs=-1)]: Using backend LokyBackend with 12 concurrent workers.\n"
     ]
    },
    {
     "name": "stdout",
     "output_type": "stream",
     "text": [
      "K-Fold #0:\n",
      "              precision    recall  f1-score   support\n",
      "\n",
      "         0.0       0.46      0.55      0.50        20\n",
      "         1.0       0.44      0.35      0.39        20\n",
      "\n",
      "    accuracy                           0.45        40\n",
      "   macro avg       0.45      0.45      0.44        40\n",
      "weighted avg       0.45      0.45      0.44        40\n",
      "\n",
      "-------------------------------------------------------------------------------------------------------------------\n"
     ]
    },
    {
     "name": "stderr",
     "output_type": "stream",
     "text": [
      "[Parallel(n_jobs=-1)]: Done   1 out of   1 | elapsed:  2.1min finished\n",
      "[Parallel(n_jobs=-1)]: Using backend LokyBackend with 12 concurrent workers.\n"
     ]
    },
    {
     "name": "stdout",
     "output_type": "stream",
     "text": [
      "K-Fold #1:\n",
      "              precision    recall  f1-score   support\n",
      "\n",
      "         0.0       0.45      0.45      0.45        20\n",
      "         1.0       0.45      0.45      0.45        20\n",
      "\n",
      "    accuracy                           0.45        40\n",
      "   macro avg       0.45      0.45      0.45        40\n",
      "weighted avg       0.45      0.45      0.45        40\n",
      "\n",
      "-------------------------------------------------------------------------------------------------------------------\n"
     ]
    },
    {
     "name": "stderr",
     "output_type": "stream",
     "text": [
      "[Parallel(n_jobs=-1)]: Done   1 out of   1 | elapsed:  2.1min finished\n",
      "[Parallel(n_jobs=-1)]: Using backend LokyBackend with 12 concurrent workers.\n"
     ]
    },
    {
     "name": "stdout",
     "output_type": "stream",
     "text": [
      "K-Fold #2:\n",
      "              precision    recall  f1-score   support\n",
      "\n",
      "         0.0       0.42      0.65      0.51        20\n",
      "         1.0       0.22      0.10      0.14        20\n",
      "\n",
      "    accuracy                           0.38        40\n",
      "   macro avg       0.32      0.38      0.32        40\n",
      "weighted avg       0.32      0.38      0.32        40\n",
      "\n",
      "-------------------------------------------------------------------------------------------------------------------\n"
     ]
    },
    {
     "name": "stderr",
     "output_type": "stream",
     "text": [
      "[Parallel(n_jobs=-1)]: Done   1 out of   1 | elapsed:  2.1min finished\n",
      "[Parallel(n_jobs=-1)]: Using backend LokyBackend with 12 concurrent workers.\n"
     ]
    },
    {
     "name": "stdout",
     "output_type": "stream",
     "text": [
      "K-Fold #3:\n",
      "              precision    recall  f1-score   support\n",
      "\n",
      "         0.0       0.44      0.20      0.28        20\n",
      "         1.0       0.48      0.75      0.59        20\n",
      "\n",
      "    accuracy                           0.48        40\n",
      "   macro avg       0.46      0.47      0.43        40\n",
      "weighted avg       0.46      0.47      0.43        40\n",
      "\n",
      "-------------------------------------------------------------------------------------------------------------------\n"
     ]
    },
    {
     "name": "stderr",
     "output_type": "stream",
     "text": [
      "[Parallel(n_jobs=-1)]: Done   1 out of   1 | elapsed:  2.1min finished\n",
      "[Parallel(n_jobs=-1)]: Using backend LokyBackend with 12 concurrent workers.\n"
     ]
    },
    {
     "name": "stdout",
     "output_type": "stream",
     "text": [
      "K-Fold #4:\n",
      "              precision    recall  f1-score   support\n",
      "\n",
      "         0.0       0.40      0.10      0.16        20\n",
      "         1.0       0.49      0.85      0.62        20\n",
      "\n",
      "    accuracy                           0.48        40\n",
      "   macro avg       0.44      0.47      0.39        40\n",
      "weighted avg       0.44      0.47      0.39        40\n",
      "\n",
      "-------------------------------------------------------------------------------------------------------------------\n"
     ]
    },
    {
     "name": "stderr",
     "output_type": "stream",
     "text": [
      "[Parallel(n_jobs=-1)]: Done   1 out of   1 | elapsed:  2.1min finished\n",
      "[Parallel(n_jobs=-1)]: Using backend LokyBackend with 12 concurrent workers.\n"
     ]
    },
    {
     "name": "stdout",
     "output_type": "stream",
     "text": [
      "K-Fold #5:\n",
      "              precision    recall  f1-score   support\n",
      "\n",
      "         0.0       0.48      0.55      0.51        20\n",
      "         1.0       0.47      0.40      0.43        20\n",
      "\n",
      "    accuracy                           0.48        40\n",
      "   macro avg       0.47      0.48      0.47        40\n",
      "weighted avg       0.47      0.47      0.47        40\n",
      "\n",
      "-------------------------------------------------------------------------------------------------------------------\n"
     ]
    },
    {
     "name": "stderr",
     "output_type": "stream",
     "text": [
      "[Parallel(n_jobs=-1)]: Done   1 out of   1 | elapsed:  2.1min finished\n",
      "[Parallel(n_jobs=-1)]: Using backend LokyBackend with 12 concurrent workers.\n"
     ]
    },
    {
     "name": "stdout",
     "output_type": "stream",
     "text": [
      "K-Fold #6:\n",
      "              precision    recall  f1-score   support\n",
      "\n",
      "         0.0       0.50      0.45      0.47        20\n",
      "         1.0       0.50      0.55      0.52        20\n",
      "\n",
      "    accuracy                           0.50        40\n",
      "   macro avg       0.50      0.50      0.50        40\n",
      "weighted avg       0.50      0.50      0.50        40\n",
      "\n",
      "-------------------------------------------------------------------------------------------------------------------\n"
     ]
    },
    {
     "name": "stderr",
     "output_type": "stream",
     "text": [
      "[Parallel(n_jobs=-1)]: Done   1 out of   1 | elapsed:  2.1min finished\n",
      "[Parallel(n_jobs=-1)]: Using backend LokyBackend with 12 concurrent workers.\n"
     ]
    },
    {
     "name": "stdout",
     "output_type": "stream",
     "text": [
      "K-Fold #7:\n",
      "              precision    recall  f1-score   support\n",
      "\n",
      "         0.0       0.41      0.35      0.38        20\n",
      "         1.0       0.43      0.50      0.47        20\n",
      "\n",
      "    accuracy                           0.42        40\n",
      "   macro avg       0.42      0.42      0.42        40\n",
      "weighted avg       0.42      0.42      0.42        40\n",
      "\n",
      "-------------------------------------------------------------------------------------------------------------------\n"
     ]
    },
    {
     "name": "stderr",
     "output_type": "stream",
     "text": [
      "[Parallel(n_jobs=-1)]: Done   1 out of   1 | elapsed:  2.1min finished\n",
      "[Parallel(n_jobs=-1)]: Using backend LokyBackend with 12 concurrent workers.\n"
     ]
    },
    {
     "name": "stdout",
     "output_type": "stream",
     "text": [
      "K-Fold #8:\n",
      "              precision    recall  f1-score   support\n",
      "\n",
      "         0.0       0.47      0.35      0.40        20\n",
      "         1.0       0.48      0.60      0.53        20\n",
      "\n",
      "    accuracy                           0.48        40\n",
      "   macro avg       0.47      0.47      0.47        40\n",
      "weighted avg       0.47      0.47      0.47        40\n",
      "\n",
      "-------------------------------------------------------------------------------------------------------------------\n"
     ]
    },
    {
     "name": "stderr",
     "output_type": "stream",
     "text": [
      "[Parallel(n_jobs=-1)]: Done   1 out of   1 | elapsed:  2.1min finished\n",
      "[Parallel(n_jobs=-1)]: Using backend LokyBackend with 12 concurrent workers.\n"
     ]
    },
    {
     "name": "stdout",
     "output_type": "stream",
     "text": [
      "K-Fold #9:\n",
      "              precision    recall  f1-score   support\n",
      "\n",
      "         0.0       0.45      0.45      0.45        20\n",
      "         1.0       0.45      0.45      0.45        20\n",
      "\n",
      "    accuracy                           0.45        40\n",
      "   macro avg       0.45      0.45      0.45        40\n",
      "weighted avg       0.45      0.45      0.45        40\n",
      "\n",
      "-------------------------------------------------------------------------------------------------------------------\n",
      "AVG: Scores = 0.45499999999999996 F1-Scores = 0.43486425453658767\n"
     ]
    },
    {
     "name": "stderr",
     "output_type": "stream",
     "text": [
      "[Parallel(n_jobs=-1)]: Done   1 out of   1 | elapsed:  2.1min finished\n",
      "[Parallel(n_jobs=-1)]: Using backend LokyBackend with 12 concurrent workers.\n"
     ]
    },
    {
     "name": "stdout",
     "output_type": "stream",
     "text": [
      "K-Fold #0:\n",
      "              precision    recall  f1-score   support\n",
      "\n",
      "         0.0       0.53      0.40      0.46        20\n",
      "         1.0       0.52      0.65      0.58        20\n",
      "\n",
      "    accuracy                           0.53        40\n",
      "   macro avg       0.53      0.53      0.52        40\n",
      "weighted avg       0.53      0.53      0.52        40\n",
      "\n",
      "-------------------------------------------------------------------------------------------------------------------\n"
     ]
    },
    {
     "name": "stderr",
     "output_type": "stream",
     "text": [
      "[Parallel(n_jobs=-1)]: Done   1 out of   1 | elapsed:  2.1min finished\n",
      "[Parallel(n_jobs=-1)]: Using backend LokyBackend with 12 concurrent workers.\n"
     ]
    },
    {
     "name": "stdout",
     "output_type": "stream",
     "text": [
      "K-Fold #1:\n",
      "              precision    recall  f1-score   support\n",
      "\n",
      "         0.0       0.45      0.70      0.55        20\n",
      "         1.0       0.33      0.15      0.21        20\n",
      "\n",
      "    accuracy                           0.42        40\n",
      "   macro avg       0.39      0.42      0.38        40\n",
      "weighted avg       0.39      0.42      0.38        40\n",
      "\n",
      "-------------------------------------------------------------------------------------------------------------------\n"
     ]
    },
    {
     "name": "stderr",
     "output_type": "stream",
     "text": [
      "[Parallel(n_jobs=-1)]: Done   1 out of   1 | elapsed:  2.1min finished\n",
      "[Parallel(n_jobs=-1)]: Using backend LokyBackend with 12 concurrent workers.\n"
     ]
    },
    {
     "name": "stdout",
     "output_type": "stream",
     "text": [
      "K-Fold #2:\n",
      "              precision    recall  f1-score   support\n",
      "\n",
      "         0.0       0.38      0.45      0.41        20\n",
      "         1.0       0.31      0.25      0.28        20\n",
      "\n",
      "    accuracy                           0.35        40\n",
      "   macro avg       0.34      0.35      0.34        40\n",
      "weighted avg       0.34      0.35      0.34        40\n",
      "\n",
      "-------------------------------------------------------------------------------------------------------------------\n"
     ]
    },
    {
     "name": "stderr",
     "output_type": "stream",
     "text": [
      "[Parallel(n_jobs=-1)]: Done   1 out of   1 | elapsed:  2.1min finished\n",
      "[Parallel(n_jobs=-1)]: Using backend LokyBackend with 12 concurrent workers.\n"
     ]
    },
    {
     "name": "stdout",
     "output_type": "stream",
     "text": [
      "K-Fold #3:\n",
      "              precision    recall  f1-score   support\n",
      "\n",
      "         0.0       0.45      0.70      0.55        20\n",
      "         1.0       0.33      0.15      0.21        20\n",
      "\n",
      "    accuracy                           0.42        40\n",
      "   macro avg       0.39      0.42      0.38        40\n",
      "weighted avg       0.39      0.42      0.38        40\n",
      "\n",
      "-------------------------------------------------------------------------------------------------------------------\n"
     ]
    },
    {
     "name": "stderr",
     "output_type": "stream",
     "text": [
      "[Parallel(n_jobs=-1)]: Done   1 out of   1 | elapsed:  2.2min finished\n",
      "[Parallel(n_jobs=-1)]: Using backend LokyBackend with 12 concurrent workers.\n"
     ]
    },
    {
     "name": "stdout",
     "output_type": "stream",
     "text": [
      "K-Fold #4:\n",
      "              precision    recall  f1-score   support\n",
      "\n",
      "         0.0       0.36      0.40      0.38        20\n",
      "         1.0       0.33      0.30      0.32        20\n",
      "\n",
      "    accuracy                           0.35        40\n",
      "   macro avg       0.35      0.35      0.35        40\n",
      "weighted avg       0.35      0.35      0.35        40\n",
      "\n",
      "-------------------------------------------------------------------------------------------------------------------\n"
     ]
    },
    {
     "name": "stderr",
     "output_type": "stream",
     "text": [
      "[Parallel(n_jobs=-1)]: Done   1 out of   1 | elapsed:  2.1min finished\n",
      "[Parallel(n_jobs=-1)]: Using backend LokyBackend with 12 concurrent workers.\n"
     ]
    },
    {
     "name": "stdout",
     "output_type": "stream",
     "text": [
      "K-Fold #5:\n",
      "              precision    recall  f1-score   support\n",
      "\n",
      "         0.0       0.36      0.20      0.26        20\n",
      "         1.0       0.45      0.65      0.53        20\n",
      "\n",
      "    accuracy                           0.42        40\n",
      "   macro avg       0.41      0.43      0.39        40\n",
      "weighted avg       0.41      0.42      0.39        40\n",
      "\n",
      "-------------------------------------------------------------------------------------------------------------------\n"
     ]
    },
    {
     "name": "stderr",
     "output_type": "stream",
     "text": [
      "[Parallel(n_jobs=-1)]: Done   1 out of   1 | elapsed:  2.1min finished\n",
      "[Parallel(n_jobs=-1)]: Using backend LokyBackend with 12 concurrent workers.\n"
     ]
    },
    {
     "name": "stdout",
     "output_type": "stream",
     "text": [
      "K-Fold #6:\n",
      "              precision    recall  f1-score   support\n",
      "\n",
      "         0.0       0.48      0.80      0.60        20\n",
      "         1.0       0.43      0.15      0.22        20\n",
      "\n",
      "    accuracy                           0.48        40\n",
      "   macro avg       0.46      0.48      0.41        40\n",
      "weighted avg       0.46      0.47      0.41        40\n",
      "\n",
      "-------------------------------------------------------------------------------------------------------------------\n"
     ]
    },
    {
     "name": "stderr",
     "output_type": "stream",
     "text": [
      "[Parallel(n_jobs=-1)]: Done   1 out of   1 | elapsed:  2.1min finished\n",
      "[Parallel(n_jobs=-1)]: Using backend LokyBackend with 12 concurrent workers.\n"
     ]
    },
    {
     "name": "stdout",
     "output_type": "stream",
     "text": [
      "K-Fold #7:\n",
      "              precision    recall  f1-score   support\n",
      "\n",
      "         0.0       0.42      0.40      0.41        20\n",
      "         1.0       0.43      0.45      0.44        20\n",
      "\n",
      "    accuracy                           0.42        40\n",
      "   macro avg       0.42      0.43      0.42        40\n",
      "weighted avg       0.42      0.42      0.42        40\n",
      "\n",
      "-------------------------------------------------------------------------------------------------------------------\n"
     ]
    },
    {
     "name": "stderr",
     "output_type": "stream",
     "text": [
      "[Parallel(n_jobs=-1)]: Done   1 out of   1 | elapsed:  2.1min finished\n",
      "[Parallel(n_jobs=-1)]: Using backend LokyBackend with 12 concurrent workers.\n"
     ]
    },
    {
     "name": "stdout",
     "output_type": "stream",
     "text": [
      "K-Fold #8:\n",
      "              precision    recall  f1-score   support\n",
      "\n",
      "         0.0       0.53      0.50      0.51        20\n",
      "         1.0       0.52      0.55      0.54        20\n",
      "\n",
      "    accuracy                           0.53        40\n",
      "   macro avg       0.53      0.53      0.52        40\n",
      "weighted avg       0.53      0.53      0.52        40\n",
      "\n",
      "-------------------------------------------------------------------------------------------------------------------\n"
     ]
    },
    {
     "name": "stderr",
     "output_type": "stream",
     "text": [
      "[Parallel(n_jobs=-1)]: Done   1 out of   1 | elapsed:  2.1min finished\n",
      "[Parallel(n_jobs=-1)]: Using backend LokyBackend with 12 concurrent workers.\n"
     ]
    },
    {
     "name": "stdout",
     "output_type": "stream",
     "text": [
      "K-Fold #9:\n",
      "              precision    recall  f1-score   support\n",
      "\n",
      "         0.0       0.50      0.60      0.55        20\n",
      "         1.0       0.50      0.40      0.44        20\n",
      "\n",
      "    accuracy                           0.50        40\n",
      "   macro avg       0.50      0.50      0.49        40\n",
      "weighted avg       0.50      0.50      0.49        40\n",
      "\n",
      "-------------------------------------------------------------------------------------------------------------------\n",
      "AVG: Scores = 0.4424999999999999 F1-Scores = 0.4216810866394406\n"
     ]
    },
    {
     "name": "stderr",
     "output_type": "stream",
     "text": [
      "[Parallel(n_jobs=-1)]: Done   1 out of   1 | elapsed:  2.1min finished\n",
      "[Parallel(n_jobs=-1)]: Using backend LokyBackend with 12 concurrent workers.\n"
     ]
    },
    {
     "name": "stdout",
     "output_type": "stream",
     "text": [
      "K-Fold #0:\n",
      "              precision    recall  f1-score   support\n",
      "\n",
      "         0.0       0.47      0.40      0.43        20\n",
      "         1.0       0.48      0.55      0.51        20\n",
      "\n",
      "    accuracy                           0.48        40\n",
      "   macro avg       0.47      0.48      0.47        40\n",
      "weighted avg       0.47      0.47      0.47        40\n",
      "\n",
      "-------------------------------------------------------------------------------------------------------------------\n"
     ]
    },
    {
     "name": "stderr",
     "output_type": "stream",
     "text": [
      "[Parallel(n_jobs=-1)]: Done   1 out of   1 | elapsed:  2.2min finished\n",
      "[Parallel(n_jobs=-1)]: Using backend LokyBackend with 12 concurrent workers.\n"
     ]
    },
    {
     "name": "stdout",
     "output_type": "stream",
     "text": [
      "K-Fold #1:\n",
      "              precision    recall  f1-score   support\n",
      "\n",
      "         0.0       0.41      0.45      0.43        20\n",
      "         1.0       0.39      0.35      0.37        20\n",
      "\n",
      "    accuracy                           0.40        40\n",
      "   macro avg       0.40      0.40      0.40        40\n",
      "weighted avg       0.40      0.40      0.40        40\n",
      "\n",
      "-------------------------------------------------------------------------------------------------------------------\n"
     ]
    },
    {
     "name": "stderr",
     "output_type": "stream",
     "text": [
      "[Parallel(n_jobs=-1)]: Done   1 out of   1 | elapsed:  2.1min finished\n",
      "[Parallel(n_jobs=-1)]: Using backend LokyBackend with 12 concurrent workers.\n"
     ]
    },
    {
     "name": "stdout",
     "output_type": "stream",
     "text": [
      "K-Fold #2:\n",
      "              precision    recall  f1-score   support\n",
      "\n",
      "         0.0       0.45      0.50      0.48        20\n",
      "         1.0       0.44      0.40      0.42        20\n",
      "\n",
      "    accuracy                           0.45        40\n",
      "   macro avg       0.45      0.45      0.45        40\n",
      "weighted avg       0.45      0.45      0.45        40\n",
      "\n",
      "-------------------------------------------------------------------------------------------------------------------\n"
     ]
    },
    {
     "name": "stderr",
     "output_type": "stream",
     "text": [
      "[Parallel(n_jobs=-1)]: Done   1 out of   1 | elapsed:  2.3min finished\n",
      "[Parallel(n_jobs=-1)]: Using backend LokyBackend with 12 concurrent workers.\n"
     ]
    },
    {
     "name": "stdout",
     "output_type": "stream",
     "text": [
      "K-Fold #3:\n",
      "              precision    recall  f1-score   support\n",
      "\n",
      "         0.0       0.42      0.55      0.48        20\n",
      "         1.0       0.36      0.25      0.29        20\n",
      "\n",
      "    accuracy                           0.40        40\n",
      "   macro avg       0.39      0.40      0.39        40\n",
      "weighted avg       0.39      0.40      0.39        40\n",
      "\n",
      "-------------------------------------------------------------------------------------------------------------------\n"
     ]
    },
    {
     "name": "stderr",
     "output_type": "stream",
     "text": [
      "[Parallel(n_jobs=-1)]: Done   1 out of   1 | elapsed:  2.3min finished\n",
      "[Parallel(n_jobs=-1)]: Using backend LokyBackend with 12 concurrent workers.\n"
     ]
    },
    {
     "name": "stdout",
     "output_type": "stream",
     "text": [
      "K-Fold #4:\n",
      "              precision    recall  f1-score   support\n",
      "\n",
      "         0.0       0.50      0.45      0.47        20\n",
      "         1.0       0.50      0.55      0.52        20\n",
      "\n",
      "    accuracy                           0.50        40\n",
      "   macro avg       0.50      0.50      0.50        40\n",
      "weighted avg       0.50      0.50      0.50        40\n",
      "\n",
      "-------------------------------------------------------------------------------------------------------------------\n"
     ]
    },
    {
     "name": "stderr",
     "output_type": "stream",
     "text": [
      "[Parallel(n_jobs=-1)]: Done   1 out of   1 | elapsed:  2.3min finished\n",
      "[Parallel(n_jobs=-1)]: Using backend LokyBackend with 12 concurrent workers.\n"
     ]
    },
    {
     "name": "stdout",
     "output_type": "stream",
     "text": [
      "K-Fold #5:\n",
      "              precision    recall  f1-score   support\n",
      "\n",
      "         0.0       0.44      0.70      0.54        20\n",
      "         1.0       0.25      0.10      0.14        20\n",
      "\n",
      "    accuracy                           0.40        40\n",
      "   macro avg       0.34      0.40      0.34        40\n",
      "weighted avg       0.34      0.40      0.34        40\n",
      "\n",
      "-------------------------------------------------------------------------------------------------------------------\n"
     ]
    },
    {
     "name": "stderr",
     "output_type": "stream",
     "text": [
      "[Parallel(n_jobs=-1)]: Done   1 out of   1 | elapsed:  2.3min finished\n",
      "[Parallel(n_jobs=-1)]: Using backend LokyBackend with 12 concurrent workers.\n"
     ]
    },
    {
     "name": "stdout",
     "output_type": "stream",
     "text": [
      "K-Fold #6:\n",
      "              precision    recall  f1-score   support\n",
      "\n",
      "         0.0       0.33      0.15      0.21        20\n",
      "         1.0       0.45      0.70      0.55        20\n",
      "\n",
      "    accuracy                           0.42        40\n",
      "   macro avg       0.39      0.42      0.38        40\n",
      "weighted avg       0.39      0.42      0.38        40\n",
      "\n",
      "-------------------------------------------------------------------------------------------------------------------\n"
     ]
    },
    {
     "name": "stderr",
     "output_type": "stream",
     "text": [
      "[Parallel(n_jobs=-1)]: Done   1 out of   1 | elapsed:  2.2min finished\n",
      "[Parallel(n_jobs=-1)]: Using backend LokyBackend with 12 concurrent workers.\n"
     ]
    },
    {
     "name": "stdout",
     "output_type": "stream",
     "text": [
      "K-Fold #7:\n",
      "              precision    recall  f1-score   support\n",
      "\n",
      "         0.0       0.45      0.70      0.55        20\n",
      "         1.0       0.33      0.15      0.21        20\n",
      "\n",
      "    accuracy                           0.42        40\n",
      "   macro avg       0.39      0.42      0.38        40\n",
      "weighted avg       0.39      0.42      0.38        40\n",
      "\n",
      "-------------------------------------------------------------------------------------------------------------------\n"
     ]
    },
    {
     "name": "stderr",
     "output_type": "stream",
     "text": [
      "[Parallel(n_jobs=-1)]: Done   1 out of   1 | elapsed:  2.1min finished\n",
      "[Parallel(n_jobs=-1)]: Using backend LokyBackend with 12 concurrent workers.\n"
     ]
    },
    {
     "name": "stdout",
     "output_type": "stream",
     "text": [
      "K-Fold #8:\n",
      "              precision    recall  f1-score   support\n",
      "\n",
      "         0.0       0.46      0.55      0.50        20\n",
      "         1.0       0.44      0.35      0.39        20\n",
      "\n",
      "    accuracy                           0.45        40\n",
      "   macro avg       0.45      0.45      0.44        40\n",
      "weighted avg       0.45      0.45      0.44        40\n",
      "\n",
      "-------------------------------------------------------------------------------------------------------------------\n"
     ]
    },
    {
     "name": "stderr",
     "output_type": "stream",
     "text": [
      "[Parallel(n_jobs=-1)]: Done   1 out of   1 | elapsed:  2.1min finished\n",
      "[Parallel(n_jobs=-1)]: Using backend LokyBackend with 12 concurrent workers.\n"
     ]
    },
    {
     "name": "stdout",
     "output_type": "stream",
     "text": [
      "K-Fold #9:\n",
      "              precision    recall  f1-score   support\n",
      "\n",
      "         0.0       0.33      0.10      0.15        20\n",
      "         1.0       0.47      0.80      0.59        20\n",
      "\n",
      "    accuracy                           0.45        40\n",
      "   macro avg       0.40      0.45      0.37        40\n",
      "weighted avg       0.40      0.45      0.37        40\n",
      "\n",
      "-------------------------------------------------------------------------------------------------------------------\n",
      "AVG: Scores = 0.4375 F1-Scores = 0.4118323407561178\n"
     ]
    },
    {
     "name": "stderr",
     "output_type": "stream",
     "text": [
      "[Parallel(n_jobs=-1)]: Done   1 out of   1 | elapsed:  2.1min finished\n",
      "[Parallel(n_jobs=-1)]: Using backend LokyBackend with 12 concurrent workers.\n"
     ]
    },
    {
     "name": "stdout",
     "output_type": "stream",
     "text": [
      "K-Fold #0:\n",
      "              precision    recall  f1-score   support\n",
      "\n",
      "         0.0       0.48      0.55      0.51        20\n",
      "         1.0       0.47      0.40      0.43        20\n",
      "\n",
      "    accuracy                           0.48        40\n",
      "   macro avg       0.47      0.48      0.47        40\n",
      "weighted avg       0.47      0.47      0.47        40\n",
      "\n",
      "-------------------------------------------------------------------------------------------------------------------\n"
     ]
    },
    {
     "name": "stderr",
     "output_type": "stream",
     "text": [
      "[Parallel(n_jobs=-1)]: Done   1 out of   1 | elapsed:  2.1min finished\n",
      "[Parallel(n_jobs=-1)]: Using backend LokyBackend with 12 concurrent workers.\n"
     ]
    },
    {
     "name": "stdout",
     "output_type": "stream",
     "text": [
      "K-Fold #1:\n",
      "              precision    recall  f1-score   support\n",
      "\n",
      "         0.0       0.47      0.70      0.56        20\n",
      "         1.0       0.40      0.20      0.27        20\n",
      "\n",
      "    accuracy                           0.45        40\n",
      "   macro avg       0.43      0.45      0.41        40\n",
      "weighted avg       0.43      0.45      0.41        40\n",
      "\n",
      "-------------------------------------------------------------------------------------------------------------------\n"
     ]
    },
    {
     "name": "stderr",
     "output_type": "stream",
     "text": [
      "[Parallel(n_jobs=-1)]: Done   1 out of   1 | elapsed:  2.2min finished\n",
      "[Parallel(n_jobs=-1)]: Using backend LokyBackend with 12 concurrent workers.\n"
     ]
    },
    {
     "name": "stdout",
     "output_type": "stream",
     "text": [
      "K-Fold #2:\n",
      "              precision    recall  f1-score   support\n",
      "\n",
      "         0.0       0.41      0.35      0.38        20\n",
      "         1.0       0.43      0.50      0.47        20\n",
      "\n",
      "    accuracy                           0.42        40\n",
      "   macro avg       0.42      0.42      0.42        40\n",
      "weighted avg       0.42      0.42      0.42        40\n",
      "\n",
      "-------------------------------------------------------------------------------------------------------------------\n"
     ]
    },
    {
     "name": "stderr",
     "output_type": "stream",
     "text": [
      "[Parallel(n_jobs=-1)]: Done   1 out of   1 | elapsed:  2.2min finished\n",
      "[Parallel(n_jobs=-1)]: Using backend LokyBackend with 12 concurrent workers.\n"
     ]
    },
    {
     "name": "stdout",
     "output_type": "stream",
     "text": [
      "K-Fold #3:\n",
      "              precision    recall  f1-score   support\n",
      "\n",
      "         0.0       0.52      0.60      0.56        20\n",
      "         1.0       0.53      0.45      0.49        20\n",
      "\n",
      "    accuracy                           0.53        40\n",
      "   macro avg       0.53      0.53      0.52        40\n",
      "weighted avg       0.53      0.53      0.52        40\n",
      "\n",
      "-------------------------------------------------------------------------------------------------------------------\n"
     ]
    },
    {
     "name": "stderr",
     "output_type": "stream",
     "text": [
      "[Parallel(n_jobs=-1)]: Done   1 out of   1 | elapsed:  2.1min finished\n",
      "[Parallel(n_jobs=-1)]: Using backend LokyBackend with 12 concurrent workers.\n"
     ]
    },
    {
     "name": "stdout",
     "output_type": "stream",
     "text": [
      "K-Fold #4:\n",
      "              precision    recall  f1-score   support\n",
      "\n",
      "         0.0       0.41      0.55      0.47        20\n",
      "         1.0       0.31      0.20      0.24        20\n",
      "\n",
      "    accuracy                           0.38        40\n",
      "   macro avg       0.36      0.38      0.36        40\n",
      "weighted avg       0.36      0.38      0.36        40\n",
      "\n",
      "-------------------------------------------------------------------------------------------------------------------\n"
     ]
    },
    {
     "name": "stderr",
     "output_type": "stream",
     "text": [
      "[Parallel(n_jobs=-1)]: Done   1 out of   1 | elapsed:  2.5min finished\n",
      "[Parallel(n_jobs=-1)]: Using backend LokyBackend with 12 concurrent workers.\n"
     ]
    },
    {
     "name": "stdout",
     "output_type": "stream",
     "text": [
      "K-Fold #5:\n",
      "              precision    recall  f1-score   support\n",
      "\n",
      "         0.0       0.33      0.10      0.15        20\n",
      "         1.0       0.47      0.80      0.59        20\n",
      "\n",
      "    accuracy                           0.45        40\n",
      "   macro avg       0.40      0.45      0.37        40\n",
      "weighted avg       0.40      0.45      0.37        40\n",
      "\n",
      "-------------------------------------------------------------------------------------------------------------------\n"
     ]
    },
    {
     "name": "stderr",
     "output_type": "stream",
     "text": [
      "[Parallel(n_jobs=-1)]: Done   1 out of   1 | elapsed:  2.3min finished\n",
      "[Parallel(n_jobs=-1)]: Using backend LokyBackend with 12 concurrent workers.\n"
     ]
    },
    {
     "name": "stdout",
     "output_type": "stream",
     "text": [
      "K-Fold #6:\n",
      "              precision    recall  f1-score   support\n",
      "\n",
      "         0.0       0.48      0.70      0.57        20\n",
      "         1.0       0.45      0.25      0.32        20\n",
      "\n",
      "    accuracy                           0.48        40\n",
      "   macro avg       0.47      0.47      0.45        40\n",
      "weighted avg       0.47      0.47      0.45        40\n",
      "\n",
      "-------------------------------------------------------------------------------------------------------------------\n"
     ]
    },
    {
     "name": "stderr",
     "output_type": "stream",
     "text": [
      "[Parallel(n_jobs=-1)]: Done   1 out of   1 | elapsed:  2.4min finished\n",
      "[Parallel(n_jobs=-1)]: Using backend LokyBackend with 12 concurrent workers.\n"
     ]
    },
    {
     "name": "stdout",
     "output_type": "stream",
     "text": [
      "K-Fold #7:\n",
      "              precision    recall  f1-score   support\n",
      "\n",
      "         0.0       0.44      0.55      0.49        20\n",
      "         1.0       0.40      0.30      0.34        20\n",
      "\n",
      "    accuracy                           0.42        40\n",
      "   macro avg       0.42      0.43      0.42        40\n",
      "weighted avg       0.42      0.42      0.42        40\n",
      "\n",
      "-------------------------------------------------------------------------------------------------------------------\n"
     ]
    },
    {
     "name": "stderr",
     "output_type": "stream",
     "text": [
      "[Parallel(n_jobs=-1)]: Done   1 out of   1 | elapsed:  2.3min finished\n",
      "[Parallel(n_jobs=-1)]: Using backend LokyBackend with 12 concurrent workers.\n"
     ]
    },
    {
     "name": "stdout",
     "output_type": "stream",
     "text": [
      "K-Fold #8:\n",
      "              precision    recall  f1-score   support\n",
      "\n",
      "         0.0       0.38      0.15      0.21        20\n",
      "         1.0       0.47      0.75      0.58        20\n",
      "\n",
      "    accuracy                           0.45        40\n",
      "   macro avg       0.42      0.45      0.40        40\n",
      "weighted avg       0.42      0.45      0.40        40\n",
      "\n",
      "-------------------------------------------------------------------------------------------------------------------\n",
      "K-Fold #9:\n",
      "              precision    recall  f1-score   support\n",
      "\n",
      "         0.0       0.44      0.40      0.42        20\n",
      "         1.0       0.45      0.50      0.48        20\n",
      "\n",
      "    accuracy                           0.45        40\n",
      "   macro avg       0.45      0.45      0.45        40\n",
      "weighted avg       0.45      0.45      0.45        40\n",
      "\n",
      "-------------------------------------------------------------------------------------------------------------------\n",
      "AVG: Scores = 0.45 F1-Scores = 0.42650014637271366\n",
      "CPU times: total: 3.89 s\n",
      "Wall time: 7h 8min 53s\n"
     ]
    },
    {
     "name": "stderr",
     "output_type": "stream",
     "text": [
      "[Parallel(n_jobs=-1)]: Done   1 out of   1 | elapsed:  2.2min finished\n"
     ]
    }
   ],
   "source": [
    "%%time\n",
    "scores_list = []\n",
    "f1scores_list = []\n",
    "for SEED in range(n_times_kfold):\n",
    "    scores, f1scores = execute_training_test_k_fold(\n",
    "                    X, \n",
    "                    y, \n",
    "                    k_folds=k_times_fold,\n",
    "                    random_seed = SEED, \n",
    "                    classifier_function=classifier_function, \n",
    "                    dic_classifier_params=dic_classifier_params,\n",
    "                    one_vs_classifier=OneVsRestClassifier, \n",
    "                    dic_training_params=dic_training_params,\n",
    "                    print_each_fold_metric=True,\n",
    "                    print_avg_metric=True)\n",
    "    scores_list.append(scores)\n",
    "    f1scores_list.append(f1scores)"
   ]
  },
  {
   "cell_type": "code",
   "execution_count": 5,
   "id": "f8272521",
   "metadata": {},
   "outputs": [
    {
     "name": "stdout",
     "output_type": "stream",
     "text": [
      "Media Score dos N K-Fold 0.4538749999999999\n",
      "Maior Score dos K-Fold 0.47000000000000003\n",
      "Menor Score dos K-Fold 0.43\n",
      "\n",
      "\n",
      "[[0.475, 0.45, 0.425, 0.475, 0.45, 0.475, 0.5, 0.475, 0.425, 0.475], [0.475, 0.5, 0.425, 0.45, 0.5, 0.475, 0.425, 0.525, 0.45, 0.475], [0.5, 0.475, 0.4, 0.375, 0.475, 0.425, 0.5, 0.45, 0.425, 0.45], [0.475, 0.5, 0.425, 0.5, 0.475, 0.425, 0.475, 0.5, 0.4, 0.425], [0.425, 0.55, 0.45, 0.4, 0.4, 0.475, 0.375, 0.45, 0.4, 0.425], [0.525, 0.375, 0.425, 0.4, 0.5, 0.475, 0.475, 0.425, 0.45, 0.475], [0.475, 0.45, 0.475, 0.425, 0.5, 0.425, 0.5, 0.5, 0.475, 0.425], [0.3, 0.5, 0.475, 0.45, 0.425, 0.5, 0.375, 0.425, 0.4, 0.5], [0.5, 0.5, 0.475, 0.55, 0.4, 0.525, 0.4, 0.5, 0.35, 0.45], [0.45, 0.5, 0.425, 0.425, 0.375, 0.425, 0.525, 0.45, 0.475, 0.525], [0.45, 0.525, 0.45, 0.475, 0.45, 0.425, 0.425, 0.5, 0.475, 0.425], [0.325, 0.375, 0.375, 0.45, 0.425, 0.55, 0.5, 0.5, 0.375, 0.425], [0.45, 0.5, 0.55, 0.4, 0.45, 0.45, 0.45, 0.4, 0.525, 0.45], [0.475, 0.5, 0.475, 0.475, 0.4, 0.5, 0.4, 0.5, 0.5, 0.425], [0.45, 0.475, 0.425, 0.4, 0.45, 0.45, 0.425, 0.525, 0.45, 0.5], [0.4, 0.425, 0.475, 0.4, 0.5, 0.525, 0.525, 0.5, 0.45, 0.5], [0.45, 0.45, 0.375, 0.475, 0.475, 0.475, 0.5, 0.425, 0.475, 0.45], [0.525, 0.425, 0.35, 0.425, 0.35, 0.425, 0.475, 0.425, 0.525, 0.5], [0.475, 0.4, 0.45, 0.4, 0.5, 0.4, 0.425, 0.425, 0.45, 0.45], [0.475, 0.45, 0.425, 0.525, 0.375, 0.45, 0.475, 0.425, 0.45, 0.45]]\n"
     ]
    }
   ],
   "source": [
    "print(\"Media Score dos N K-Fold\", np.mean([np.mean(i) for i in scores_list]))\n",
    "print(\"Maior Score dos K-Fold\", max([np.mean(i) for i in scores_list]))\n",
    "print(\"Menor Score dos K-Fold\", min([np.mean(i) for i in scores_list]))\n",
    "\n",
    "print()\n",
    "print()\n",
    "print(scores_list)"
   ]
  },
  {
   "cell_type": "code",
   "execution_count": 6,
   "id": "94e6481f",
   "metadata": {},
   "outputs": [
    {
     "name": "stdout",
     "output_type": "stream",
     "text": [
      "Media F1Score dos N K-Fold 0.42650014637271366\n",
      "Maior F1Score dos K-Fold 0.5223130106851037\n",
      "Menor F1Score dos K-Fold 0.3552546744036106\n",
      "\n",
      "\n",
      "[0.47203016970458833, 0.41333333333333333, 0.4217473287240729, 0.5223130106851037, 0.3552546744036106, 0.37321937321937326, 0.4470046082949308, 0.4158730158730159, 0.39560439560439553, 0.4486215538847118]\n"
     ]
    }
   ],
   "source": [
    "print(\"Media F1Score dos N K-Fold\", np.mean([np.mean(i) for i in f1scores]))\n",
    "print(\"Maior F1Score dos K-Fold\", max([np.mean(i) for i in f1scores]))\n",
    "print(\"Menor F1Score dos K-Fold\", min([np.mean(i) for i in f1scores]))\n",
    "\n",
    "print()\n",
    "print()\n",
    "print(f1scores)"
   ]
  }
 ],
 "metadata": {
  "kernelspec": {
   "display_name": "Python 3",
   "language": "python",
   "name": "python3"
  },
  "language_info": {
   "codemirror_mode": {
    "name": "ipython",
    "version": 3
   },
   "file_extension": ".py",
   "mimetype": "text/x-python",
   "name": "python",
   "nbconvert_exporter": "python",
   "pygments_lexer": "ipython3",
   "version": "3.9.16"
  }
 },
 "nbformat": 4,
 "nbformat_minor": 5
}
