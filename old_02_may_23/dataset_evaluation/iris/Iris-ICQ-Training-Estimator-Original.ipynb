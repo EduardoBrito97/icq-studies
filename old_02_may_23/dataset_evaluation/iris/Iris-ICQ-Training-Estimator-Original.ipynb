{
 "cells": [
  {
   "attachments": {},
   "cell_type": "markdown",
   "id": "aca6976c",
   "metadata": {},
   "source": [
    "## Experimenting against Iris dataset - Original ICQ Method\n",
    "\n",
    "Runs the original ICQ classifier against Iris dataset, using Stratified 10-Fold cross validation throughout many different random seeds to validate the classifier. At the end of each 10-Fold cross validation, it prints the AVG score and F1-Score for the classifier - and after executing with all different random seeds, the average score/f1-score is also printed."
   ]
  },
  {
   "cell_type": "code",
   "execution_count": 1,
   "id": "86a48482",
   "metadata": {},
   "outputs": [],
   "source": [
    "import sys\n",
    "import os\n",
    "sys.path.append(os.path.abspath('../../'))\n",
    "sys.path.append(os.path.abspath('../../models'))\n",
    "sys.path.append(os.path.abspath('../../helpers'))"
   ]
  },
  {
   "cell_type": "code",
   "execution_count": 2,
   "id": "8db20f4f",
   "metadata": {},
   "outputs": [],
   "source": [
    "import numpy as np\n",
    "from tqdm.notebook import tqdm\n",
    "from helpers.utils import print_metrics, executeIrisOneVsRest"
   ]
  },
  {
   "cell_type": "code",
   "execution_count": 3,
   "id": "bccade9c",
   "metadata": {},
   "outputs": [],
   "source": [
    "import warnings\n",
    "from sklearn.exceptions import UndefinedMetricWarning\n",
    "\n",
    "# We're ignoring some warning from sklearn.metrics.classification_report\n",
    "warnings.simplefilter(action='ignore', category=UndefinedMetricWarning)"
   ]
  },
  {
   "attachments": {},
   "cell_type": "markdown",
   "id": "bb93bba8",
   "metadata": {},
   "source": [
    "## Original execution"
   ]
  },
  {
   "cell_type": "code",
   "execution_count": 4,
   "id": "8d70da53",
   "metadata": {},
   "outputs": [],
   "source": [
    "from helpers.icq_executions import execute_classifier_original_normal_sigma_q"
   ]
  },
  {
   "cell_type": "code",
   "execution_count": 5,
   "id": "61a535f5",
   "metadata": {},
   "outputs": [
    {
     "data": {
      "application/vnd.jupyter.widget-view+json": {
       "model_id": "f095bce26d264f6fb94eb486a36256fc",
       "version_major": 2,
       "version_minor": 0
      },
      "text/plain": [
       "  0%|          | 0/12 [00:00<?, ?it/s]"
      ]
     },
     "metadata": {},
     "output_type": "display_data"
    },
    {
     "name": "stdout",
     "output_type": "stream",
     "text": [
      "AVG: Scores = 0.62 F1-Scores = 0.5871106671106672\n",
      "AVG: Scores = 0.68 F1-Scores = 0.6456212306212306\n",
      "AVG: Scores = 0.7666666666666666 F1-Scores = 0.7546126096126097\n",
      "AVG: Scores = 0.8533333333333335 F1-Scores = 0.845884115884116\n",
      "AVG: Scores = 0.6266666666666666 F1-Scores = 0.6174751174751176\n",
      "AVG: Scores = 0.96 F1-Scores = 0.9595959595959596\n",
      "AVG: Scores = 0.9666666666666666 F1-Scores = 0.9663299663299663\n",
      "AVG: Scores = 0.7733333333333332 F1-Scores = 0.758964368964369\n",
      "AVG: Scores = 0.96 F1-Scores = 0.9595959595959596\n",
      "AVG: Scores = 0.7666666666666666 F1-Scores = 0.7411749361749362\n",
      "AVG: Scores = 0.9200000000000002 F1-Scores = 0.9162879712879712\n",
      "AVG: Scores = 0.9533333333333334 F1-Scores = 0.9531313131313132\n",
      "Wall time: 4h 28min 49s\n"
     ]
    }
   ],
   "source": [
    "%%time\n",
    "scores = []\n",
    "f1scores = []\n",
    "for i_random_state in tqdm(range(10, 70, 5)):\n",
    "    curr_scores, curr_f1scores = executeIrisOneVsRest(random_seed=i_random_state,\n",
    "                                                classifier_function=execute_classifier_original_normal_sigma_q,\n",
    "                                                sigma_q_weights=[1, 1, 1],\n",
    "                                                max_iter=2000,\n",
    "                                                print_each_fold_metric=False,\n",
    "                                                print_avg_metric=True)\n",
    "    scores.append(np.mean(curr_scores))\n",
    "    f1scores.append(np.mean(curr_f1scores))"
   ]
  },
  {
   "cell_type": "code",
   "execution_count": 6,
   "id": "269541b9",
   "metadata": {},
   "outputs": [
    {
     "name": "stdout",
     "output_type": "stream",
     "text": [
      "Scores: [0.62, 0.68, 0.7666666666666666, 0.8533333333333335, 0.6266666666666666, 0.96, 0.9666666666666666, 0.7733333333333332, 0.96, 0.7666666666666666, 0.9200000000000002, 0.9533333333333334]\n",
      "Best score: 0.9666666666666666\n",
      "F1-Scores: [0.5871106671106672, 0.6456212306212306, 0.7546126096126097, 0.845884115884116, 0.6174751174751176, 0.9595959595959596, 0.9663299663299663, 0.758964368964369, 0.9595959595959596, 0.7411749361749362, 0.9162879712879712, 0.9531313131313132]\n",
      "Max F1-Score: 0.9663299663299663\n",
      "Avg score: 0.8205555555555555\n",
      "Avg F1-Score: 0.8088153513153514\n"
     ]
    }
   ],
   "source": [
    "print_metrics(scores, f1scores)"
   ]
  },
  {
   "attachments": {},
   "cell_type": "markdown",
   "id": "6c731f45",
   "metadata": {},
   "source": [
    "### Usinga sigmaQ = rx\\*sigmaX + ry\\*sigmaY + rz\\*sigmaZ"
   ]
  },
  {
   "cell_type": "code",
   "execution_count": 8,
   "id": "b1964580",
   "metadata": {},
   "outputs": [],
   "source": [
    "from helpers.icq_executions import execute_classifier_original_polar_sigma_q"
   ]
  },
  {
   "cell_type": "code",
   "execution_count": 9,
   "id": "dfd0ecf5",
   "metadata": {},
   "outputs": [
    {
     "data": {
      "application/vnd.jupyter.widget-view+json": {
       "model_id": "57cb179922c04bf2b291f74a4bf31781",
       "version_major": 2,
       "version_minor": 0
      },
      "text/plain": [
       "  0%|          | 0/12 [00:00<?, ?it/s]"
      ]
     },
     "metadata": {},
     "output_type": "display_data"
    },
    {
     "name": "stdout",
     "output_type": "stream",
     "text": [
      "AVG: Scores = 0.68 F1-Scores = 0.6548618048618049\n",
      "AVG: Scores = 0.8266666666666665 F1-Scores = 0.8187138787138787\n",
      "AVG: Scores = 0.6666666666666666 F1-Scores = 0.6518400118400118\n",
      "AVG: Scores = 0.8 F1-Scores = 0.7948682798682798\n",
      "AVG: Scores = 0.7066666666666667 F1-Scores = 0.6949200799200799\n",
      "AVG: Scores = 0.9666666666666668 F1-Scores = 0.9663299663299663\n",
      "AVG: Scores = 0.9666666666666666 F1-Scores = 0.9663299663299663\n",
      "AVG: Scores = 0.8266666666666665 F1-Scores = 0.8142363192363191\n",
      "AVG: Scores = 0.9733333333333334 F1-Scores = 0.973063973063973\n",
      "AVG: Scores = 0.8 F1-Scores = 0.7751840751840751\n",
      "AVG: Scores = 0.9666666666666666 F1-Scores = 0.9663299663299663\n",
      "AVG: Scores = 0.9666666666666668 F1-Scores = 0.9664646464646465\n",
      "Wall time: 4h 42min 31s\n"
     ]
    }
   ],
   "source": [
    "%%time\n",
    "scores = []\n",
    "f1scores = []\n",
    "for i_random_state in tqdm(range(10, 70, 5)):\n",
    "    curr_scores, curr_f1scores = executeIrisOneVsRest(random_seed=i_random_state,\n",
    "                                                classifier_function=execute_classifier_original_polar_sigma_q,\n",
    "                                                sigma_q_weights=[1, np.pi/4, np.pi/4],\n",
    "                                                max_iter=2000,\n",
    "                                                print_each_fold_metric=False,\n",
    "                                                print_avg_metric=True)\n",
    "    scores.append(np.mean(curr_scores))\n",
    "    f1scores.append(np.mean(curr_f1scores))"
   ]
  },
  {
   "cell_type": "code",
   "execution_count": 10,
   "id": "4fa72eb8",
   "metadata": {},
   "outputs": [
    {
     "name": "stdout",
     "output_type": "stream",
     "text": [
      "Scores: [0.68, 0.8266666666666665, 0.6666666666666666, 0.8, 0.7066666666666667, 0.9666666666666668, 0.9666666666666666, 0.8266666666666665, 0.9733333333333334, 0.8, 0.9666666666666666, 0.9666666666666668]\n",
      "Best score: 0.9733333333333334\n",
      "F1-Scores: [0.6548618048618049, 0.8187138787138787, 0.6518400118400118, 0.7948682798682798, 0.6949200799200799, 0.9663299663299663, 0.9663299663299663, 0.8142363192363191, 0.973063973063973, 0.7751840751840751, 0.9663299663299663, 0.9664646464646465]\n",
      "Max F1-Score: 0.973063973063973\n",
      "Avg score: 0.8455555555555555\n",
      "Avg F1-Score: 0.8369285806785806\n"
     ]
    }
   ],
   "source": [
    "print_metrics(scores, f1scores)"
   ]
  }
 ],
 "metadata": {
  "kernelspec": {
   "display_name": "base",
   "language": "python",
   "name": "python3"
  },
  "language_info": {
   "codemirror_mode": {
    "name": "ipython",
    "version": 3
   },
   "file_extension": ".py",
   "mimetype": "text/x-python",
   "name": "python",
   "nbconvert_exporter": "python",
   "pygments_lexer": "ipython3",
   "version": "3.9.13"
  },
  "vscode": {
   "interpreter": {
    "hash": "ad2bdc8ecc057115af97d19610ffacc2b4e99fae6737bb82f5d7fb13d2f2c186"
   }
  }
 },
 "nbformat": 4,
 "nbformat_minor": 5
}
