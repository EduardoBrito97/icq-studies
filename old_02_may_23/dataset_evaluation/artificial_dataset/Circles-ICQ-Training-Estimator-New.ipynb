{
 "cells": [
  {
   "cell_type": "code",
   "execution_count": 7,
   "metadata": {},
   "outputs": [],
   "source": [
    "import sys\n",
    "import os\n",
    "sys.path.append(os.path.abspath('../../'))\n",
    "sys.path.append(os.path.abspath('../../models'))\n",
    "sys.path.append(os.path.abspath('../../helpers'))"
   ]
  },
  {
   "cell_type": "code",
   "execution_count": 8,
   "metadata": {},
   "outputs": [],
   "source": [
    "import numpy as np\n",
    "from tqdm.notebook import tqdm\n",
    "from helpers.utils import print_metrics, execute_model"
   ]
  },
  {
   "cell_type": "code",
   "execution_count": 9,
   "metadata": {},
   "outputs": [],
   "source": [
    "import warnings\n",
    "from sklearn.exceptions import UndefinedMetricWarning\n",
    "\n",
    "# We're ignoring some warning from sklearn.metrics.classification_report\n",
    "warnings.simplefilter(action='ignore', category=UndefinedMetricWarning)"
   ]
  },
  {
   "cell_type": "code",
   "execution_count": 10,
   "metadata": {},
   "outputs": [],
   "source": [
    "from helpers.icq_executions import execute_classifier_split_input_weight_normal_sigma_q"
   ]
  },
  {
   "cell_type": "code",
   "execution_count": 11,
   "metadata": {},
   "outputs": [],
   "source": [
    "def get_circles():\n",
    "    # Dá pra usar caminhos relativos, não tem pra quê colocar tudo de uma vez não\n",
    "    path_to_datasets = \"Datasets_template_exp/\" \n",
    "    dataset_name = \"circles.npy\"\n",
    "    dataset = np.load( path_to_datasets + dataset_name)\n",
    "\n",
    "    X, y = dataset[:,:-1],dataset[:,-1]\n",
    "    return X, y"
   ]
  },
  {
   "cell_type": "code",
   "execution_count": 12,
   "metadata": {},
   "outputs": [
    {
     "data": {
      "application/vnd.jupyter.widget-view+json": {
       "model_id": "1141430bd449486a8ff61d4546a58151",
       "version_major": 2,
       "version_minor": 0
      },
      "text/plain": [
       "  0%|          | 0/12 [00:00<?, ?it/s]"
      ]
     },
     "metadata": {},
     "output_type": "display_data"
    },
    {
     "name": "stdout",
     "output_type": "stream",
     "text": [
      "AVG: Scores = 0.4375 F1-Scores = 0.378731185140646\n",
      "AVG: Scores = 0.4175 F1-Scores = 0.3841135972418472\n",
      "AVG: Scores = 0.485 F1-Scores = 0.4459055298008491\n",
      "AVG: Scores = 0.48749999999999993 F1-Scores = 0.43163360874072315\n",
      "AVG: Scores = 0.44000000000000006 F1-Scores = 0.4057588585424015\n",
      "AVG: Scores = 0.4625 F1-Scores = 0.42236051090552984\n",
      "AVG: Scores = 0.4325 F1-Scores = 0.4059777239760229\n",
      "AVG: Scores = 0.46499999999999997 F1-Scores = 0.42543144331896\n",
      "AVG: Scores = 0.44750000000000006 F1-Scores = 0.4039804617700004\n",
      "AVG: Scores = 0.45 F1-Scores = 0.4275758166793972\n",
      "AVG: Scores = 0.4625 F1-Scores = 0.43939020665640377\n",
      "AVG: Scores = 0.43 F1-Scores = 0.3930991823537815\n",
      "Wall time: 7h 1min 18s\n"
     ]
    }
   ],
   "source": [
    "%%time\n",
    "scores = []\n",
    "f1scores = []\n",
    "for i_random_state in tqdm(range(10, 70, 5)):\n",
    "    curr_scores, curr_f1scores = execute_model(random_seed=i_random_state,\n",
    "                                                classifier_function=execute_classifier_split_input_weight_normal_sigma_q,\n",
    "                                                sigma_q_weights=[1, 1, 1],\n",
    "                                                max_iter=2000,\n",
    "                                                print_each_fold_metric=False,\n",
    "                                                print_avg_metric=True,\n",
    "                                                one_vs_classifier=None,\n",
    "                                                accuracy_succ=0.99,\n",
    "                                                dataset_load_method=get_circles,\n",
    "                                                refit_db=False)\n",
    "    scores.append(np.mean(curr_scores))\n",
    "    f1scores.append(np.mean(curr_f1scores))"
   ]
  },
  {
   "cell_type": "code",
   "execution_count": 13,
   "metadata": {},
   "outputs": [
    {
     "name": "stdout",
     "output_type": "stream",
     "text": [
      "Scores: [0.4375, 0.4175, 0.485, 0.48749999999999993, 0.44000000000000006, 0.4625, 0.4325, 0.46499999999999997, 0.44750000000000006, 0.45, 0.4625, 0.43]\n",
      "Best score: 0.48749999999999993\n",
      "F1-Scores: [0.378731185140646, 0.3841135972418472, 0.4459055298008491, 0.43163360874072315, 0.4057588585424015, 0.42236051090552984, 0.4059777239760229, 0.42543144331896, 0.4039804617700004, 0.4275758166793972, 0.43939020665640377, 0.3930991823537815]\n",
      "Max F1-Score: 0.4459055298008491\n",
      "Avg score: 0.45145833333333335\n",
      "Avg F1-Score: 0.4136631770938802\n"
     ]
    }
   ],
   "source": [
    "print_metrics(scores, f1scores)"
   ]
  }
 ],
 "metadata": {
  "kernelspec": {
   "display_name": "base",
   "language": "python",
   "name": "python3"
  },
  "language_info": {
   "codemirror_mode": {
    "name": "ipython",
    "version": 3
   },
   "file_extension": ".py",
   "mimetype": "text/x-python",
   "name": "python",
   "nbconvert_exporter": "python",
   "pygments_lexer": "ipython3",
   "version": "3.9.13"
  },
  "orig_nbformat": 4
 },
 "nbformat": 4,
 "nbformat_minor": 2
}
