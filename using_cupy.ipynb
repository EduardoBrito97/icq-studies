{
 "cells": [
  {
   "attachments": {},
   "cell_type": "markdown",
   "metadata": {},
   "source": [
    "### Installing recommended libraries through PIP"
   ]
  },
  {
   "cell_type": "code",
   "execution_count": null,
   "metadata": {},
   "outputs": [],
   "source": [
    "# Optional requirement as library for CuPY\n",
    "!pip install numpy"
   ]
  },
  {
   "cell_type": "code",
   "execution_count": null,
   "metadata": {},
   "outputs": [],
   "source": [
    "# Optional requirement as library for CuPY\n",
    "!pip install scipy"
   ]
  },
  {
   "cell_type": "code",
   "execution_count": null,
   "metadata": {},
   "outputs": [],
   "source": [
    "# Optional requirement as library for CuPY\n",
    "!pip install optuna"
   ]
  },
  {
   "attachments": {},
   "cell_type": "markdown",
   "metadata": {},
   "source": [
    "### Installing CuPy through Anaconda"
   ]
  },
  {
   "attachments": {},
   "cell_type": "markdown",
   "metadata": {},
   "source": [
    "#### Installing Anaconda\n",
    "\n",
    "##### Windows\n",
    "To install Anaconda for Windows, you just have to download and execute the executable on [Anaconda Website](https://www.anaconda.com/download).\n",
    "\n",
    "#####\n",
    "To install Anaconda for Linux, you just have to follow [this Anaconda Website tutorial](https://docs.anaconda.com/free/anaconda/install/linux/)."
   ]
  },
  {
   "attachments": {},
   "cell_type": "markdown",
   "metadata": {},
   "source": [
    "#### Installing CuPy\n",
    "Technically, we can execute bash commands through Python notebook by adding a '!', but it could be that it has some problems with conda commands, so I recommend to use it directly on terminal."
   ]
  },
  {
   "cell_type": "code",
   "execution_count": null,
   "metadata": {},
   "outputs": [],
   "source": [
    "# See https://docs.cupy.dev/en/stable/install.html#install-cupy-from-conda-forge\n",
    "!conda install -c conda-forge cupy"
   ]
  },
  {
   "attachments": {},
   "cell_type": "markdown",
   "metadata": {},
   "source": [
    "##### Installing extra recommended cuda libraries for CuPy\n",
    "These libraries are not needed, but theoretically it might speed up CuPy execution. If any of them fail to be installed, you might just skip it."
   ]
  },
  {
   "cell_type": "code",
   "execution_count": null,
   "metadata": {},
   "outputs": [],
   "source": [
    "# Adding more cuda libraries through conda\n",
    "# See https://docs.cupy.dev/en/stable/install.html#additional-cuda-libraries"
   ]
  },
  {
   "cell_type": "code",
   "execution_count": null,
   "metadata": {},
   "outputs": [],
   "source": [
    "# cuTENSOR https://anaconda.org/conda-forge/cutensor\n",
    "!conda install -c conda-forge cutensor"
   ]
  },
  {
   "cell_type": "code",
   "execution_count": null,
   "metadata": {},
   "outputs": [],
   "source": [
    "# NCCL https://anaconda.org/conda-forge/nccl\n",
    "!conda install -c conda-forge nccl"
   ]
  },
  {
   "cell_type": "code",
   "execution_count": null,
   "metadata": {},
   "outputs": [],
   "source": [
    "# cuDNN https://anaconda.org/anaconda/cudnn\n",
    "!conda install -c anaconda cudnn"
   ]
  },
  {
   "cell_type": "code",
   "execution_count": null,
   "metadata": {},
   "outputs": [],
   "source": [
    "# cuSPARSELt https://anaconda.org/conda-forge/cusparselt\n",
    "!conda install -c conda-forge cusparselt"
   ]
  },
  {
   "attachments": {},
   "cell_type": "markdown",
   "metadata": {},
   "source": [
    "### Testing CuPy"
   ]
  },
  {
   "cell_type": "code",
   "execution_count": null,
   "metadata": {},
   "outputs": [],
   "source": [
    "# grep command is only available for Linux/Mac OS. This will verify if cupy was correctly installed.\n",
    "!pip freeze | grep cupy"
   ]
  },
  {
   "attachments": {},
   "cell_type": "markdown",
   "metadata": {},
   "source": [
    "The code below should print at least 1 cuda device available for CuPy."
   ]
  },
  {
   "cell_type": "code",
   "execution_count": 1,
   "metadata": {},
   "outputs": [
    {
     "name": "stdout",
     "output_type": "stream",
     "text": [
      "<CUDA Device 0>\n",
      "1\n"
     ]
    }
   ],
   "source": [
    "import cupy as cp\n",
    "x = cp.array([1, 2, 3])\n",
    "print(x.device)\n",
    "print(cp.cuda.runtime.getDeviceCount())"
   ]
  },
  {
   "attachments": {},
   "cell_type": "markdown",
   "metadata": {},
   "source": [
    "#### Analyzing improvement"
   ]
  },
  {
   "cell_type": "code",
   "execution_count": 2,
   "metadata": {},
   "outputs": [],
   "source": [
    "import numpy as np\n",
    "import cupy as cp\n",
    "import time"
   ]
  },
  {
   "cell_type": "code",
   "execution_count": 3,
   "metadata": {},
   "outputs": [],
   "source": [
    "# Matrix multiplication with NumPy\n",
    "start_time = time.time()\n",
    "np_array = np.random.rand(10000, 10000)\n",
    "np_result = np.matmul(np_array, np_array)\n",
    "np_time = time.time() - start_time"
   ]
  },
  {
   "cell_type": "code",
   "execution_count": 4,
   "metadata": {},
   "outputs": [],
   "source": [
    "# Matrix multiplication with CuPy\n",
    "start_time = time.time()\n",
    "cp_array = cp.random.randn(10000, 10000)\n",
    "cp_result = cp.matmul(cp_array, cp_array)\n",
    "cp_time = time.time() - start_time"
   ]
  },
  {
   "cell_type": "code",
   "execution_count": 5,
   "metadata": {},
   "outputs": [
    {
     "name": "stdout",
     "output_type": "stream",
     "text": [
      "NumPy Time: 9.415247201919556\n",
      "CuPy Time: 0.9719512462615967\n"
     ]
    }
   ],
   "source": [
    "print(f\"NumPy Time: {np_time}\")\n",
    "print(f\"CuPy Time: {cp_time}\")"
   ]
  }
 ],
 "metadata": {
  "kernelspec": {
   "display_name": "base",
   "language": "python",
   "name": "python3"
  },
  "language_info": {
   "codemirror_mode": {
    "name": "ipython",
    "version": 3
   },
   "file_extension": ".py",
   "mimetype": "text/x-python",
   "name": "python",
   "nbconvert_exporter": "python",
   "pygments_lexer": "ipython3",
   "version": "3.9.13"
  },
  "orig_nbformat": 4
 },
 "nbformat": 4,
 "nbformat_minor": 2
}
