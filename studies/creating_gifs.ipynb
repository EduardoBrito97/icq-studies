{
 "cells": [
  {
   "cell_type": "code",
   "execution_count": 1,
   "metadata": {},
   "outputs": [
    {
     "name": "stdout",
     "output_type": "stream",
     "text": [
      "Defaulting to user installation because normal site-packages is not writeable\n",
      "Requirement already satisfied: imageio in c:\\programdata\\anaconda3\\lib\\site-packages (2.26.0)\n",
      "Requirement already satisfied: pillow>=8.3.2 in c:\\programdata\\anaconda3\\lib\\site-packages (from imageio) (9.4.0)\n",
      "Requirement already satisfied: numpy in c:\\programdata\\anaconda3\\lib\\site-packages (from imageio) (1.23.5)\n"
     ]
    }
   ],
   "source": [
    "!pip install imageio"
   ]
  },
  {
   "cell_type": "code",
   "execution_count": 5,
   "metadata": {},
   "outputs": [],
   "source": [
    "import imageio\n",
    "import numpy as np"
   ]
  },
  {
   "cell_type": "code",
   "execution_count": 6,
   "metadata": {},
   "outputs": [],
   "source": [
    "sigmas = [\"SigmaX\", \"SigmaY\", \"SigmaZ\", \"SigmaI\"]\n",
    "sigma_range = range(50)\n",
    "sigma_arange = np.round(np.arange(0, 1, 0.02), 3)\n",
    "folders = [\"linear_sep\", \"xor\"]\n",
    "epoch_range = range(1, 50, 2)"
   ]
  },
  {
   "cell_type": "code",
   "execution_count": 9,
   "metadata": {},
   "outputs": [],
   "source": [
    "%%time\n",
    "for folder in folders:\n",
    "    complete_folder = \"results/\" + folder + \"/\"\n",
    "    for sigma in sigmas:\n",
    "        frames = []\n",
    "        for i in sigma_range:\n",
    "            img_name = sigma + \"=\" + str(i) + \"; Others=[1,1,1].png\"\n",
    "            path = complete_folder + img_name\n",
    "            image = imageio.v2.imread(path)\n",
    "            frames.append(image)\n",
    "\n",
    "        imageio.mimsave(uri = complete_folder + \"Gif_\" + sigma + \".gif\", \n",
    "                        ims = frames,\n",
    "                        fps = 5)"
   ]
  },
  {
   "cell_type": "code",
   "execution_count": 10,
   "metadata": {},
   "outputs": [],
   "source": [
    "%%time\n",
    "for sigma in sigmas:\n",
    "    frames = []\n",
    "    complete_folder = \"results/linear_sep_arange/\"\n",
    "    for i in sigma_arange:\n",
    "        img_name = sigma + \"=\" + str(i) + \"; Others=[1,1,1].png\"\n",
    "        path = complete_folder + img_name\n",
    "        image = imageio.v2.imread(path)\n",
    "        frames.append(image)\n",
    "\n",
    "    imageio.mimsave(uri = complete_folder + \"Gif_\" + sigma + \".gif\", \n",
    "                    ims = frames,\n",
    "                    fps = 5)"
   ]
  },
  {
   "cell_type": "code",
   "execution_count": 12,
   "metadata": {},
   "outputs": [],
   "source": [
    "%%time\n",
    "for sigma in sigmas:\n",
    "    complete_folder = \"results/linear_sep_epoch//\"\n",
    "    for i in range(10):\n",
    "        frames = []\n",
    "        for epoch in epoch_range:\n",
    "            img_name = sigma + \"=\" + str(i) + \"; Others=[1,1,1]; Epoch = \" + str(epoch) + \".png\"\n",
    "            path = complete_folder + img_name\n",
    "            image = imageio.v2.imread(path)\n",
    "            frames.append(image)\n",
    "\n",
    "        imageio.mimsave(uri = complete_folder + \"Gif_\" + sigma + \"=\" + str(i) + \".gif\", \n",
    "                            ims = frames,\n",
    "                            fps = 5)"
   ]
  }
 ],
 "metadata": {
  "kernelspec": {
   "display_name": "base",
   "language": "python",
   "name": "python3"
  },
  "language_info": {
   "codemirror_mode": {
    "name": "ipython",
    "version": 3
   },
   "file_extension": ".py",
   "mimetype": "text/x-python",
   "name": "python",
   "nbconvert_exporter": "python",
   "pygments_lexer": "ipython3",
   "version": "3.9.16"
  },
  "orig_nbformat": 4
 },
 "nbformat": 4,
 "nbformat_minor": 2
}
