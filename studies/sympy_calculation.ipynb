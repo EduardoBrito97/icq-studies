{
 "cells": [
  {
   "cell_type": "code",
   "execution_count": 1,
   "metadata": {},
   "outputs": [],
   "source": [
    "from sympy import Matrix, simplify, sqrt, preorder_traversal, Float, latex\n",
    "from sympy.physics.quantum.trace import Tr\n",
    "from sympy.physics.quantum.dagger import Dagger\n",
    "from sympy.physics.quantum import TensorProduct\n",
    "from sympy.abc import *\n",
    "from sympy.functions.elementary.complexes import conjugate\n",
    "import numpy as np"
   ]
  },
  {
   "cell_type": "markdown",
   "metadata": {},
   "source": [
    "# ICQ"
   ]
  },
  {
   "cell_type": "code",
   "execution_count": 2,
   "metadata": {},
   "outputs": [
    {
     "name": "stdout",
     "output_type": "stream",
     "text": [
      "\\left(\\left(\\left(0.269337567297406 - 0.0721687836487032 i\\right) e^{3.46410161513775 i A a} - 0.0193375672974065 + 0.0721687836487032 i\\right) \\left(0.211324865405187 e^{3.46410161513775 i \\overline{A} \\overline{a}} - 0.288675134594813 \\cdot \\left(1 + i\\right) e^{3.46410161513775 i \\overline{A} \\overline{a}} + 1.07735026918963 + 0.288675134594813 i\\right) e^{1.73205080756888 i \\left(B b + \\overline{B} \\overline{b}\\right)} + \\left(\\left(0.269337567297406 - 0.0721687836487032 i\\right) e^{3.46410161513775 i B b} - 0.0193375672974065 + 0.0721687836487032 i\\right) \\left(0.211324865405187 e^{3.46410161513775 i \\overline{B} \\overline{b}} - 0.288675134594813 \\cdot \\left(1 + i\\right) e^{3.46410161513775 i \\overline{B} \\overline{b}} + 1.07735026918963 + 0.288675134594813 i\\right) e^{1.73205080756888 i \\left(A a + \\overline{A} \\overline{a}\\right)}\\right) e^{- 1.73205080756888 i \\left(A a + B b + \\overline{A} \\overline{a} + \\overline{B} \\overline{b}\\right)}\n"
     ]
    }
   ],
   "source": [
    "vector_i = [a, b]\n",
    "vector_w = [A, B]\n",
    "\n",
    "p_cog = Matrix([\n",
    "        [1/2,1/2],\n",
    "        [1/2,1/2]\n",
    "        ])\n",
    "\n",
    "p_env = Matrix([\n",
    "    [1/2, 1/2],\n",
    "    [1/2, 1/2],\n",
    "])\n",
    "\n",
    "sigma_q_sympy = Matrix([\n",
    "    [1, (1 - 1j)],\n",
    "    [(1j + 1), -1]\n",
    "])\n",
    "\n",
    "sigma_e_sympy = Matrix([\n",
    "    [vector_i[0] * vector_w[0], 0],\n",
    "    [0,vector_i[1] * vector_w[1]]\n",
    "    ])\n",
    "\n",
    "u_operator_sympy = Matrix(1j*TensorProduct(sigma_q_sympy, sigma_e_sympy)).exp()\n",
    "\n",
    "quantum_operation_sympy = u_operator_sympy * TensorProduct(p_cog, p_env) * Dagger(u_operator_sympy)\n",
    "\n",
    "op = Tr(quantum_operation_sympy.evalf()[0,0] + quantum_operation_sympy.evalf()[1,1])\n",
    "print(latex(simplify(op)))"
   ]
  },
  {
   "cell_type": "code",
   "execution_count": 3,
   "metadata": {},
   "outputs": [
    {
     "data": {
      "text/latex": [
       "$\\displaystyle \\left(\\left(\\left(0.2694 - 0.0722 i\\right) e^{3.4642 i A a} - 0.0194 + 0.0722 i\\right) \\left(0.2113 e^{3.4642 i \\overline{A} \\overline{a}} - 0.2887 \\cdot \\left(1 + i\\right) e^{3.4642 i \\overline{A} \\overline{a}} + 1.077 + 0.2887 i\\right) e^{1.7321 i \\left(B b + \\overline{B} \\overline{b}\\right)} + \\left(\\left(0.2694 - 0.0722 i\\right) e^{3.4642 i B b} - 0.0194 + 0.0722 i\\right) \\left(0.2113 e^{3.4642 i \\overline{B} \\overline{b}} - 0.2887 \\cdot \\left(1 + i\\right) e^{3.4642 i \\overline{B} \\overline{b}} + 1.077 + 0.2887 i\\right) e^{1.7321 i \\left(A a + \\overline{A} \\overline{a}\\right)}\\right) e^{- 1.7321 i \\left(A a + B b + \\overline{A} \\overline{a} + \\overline{B} \\overline{b}\\right)}$"
      ],
      "text/plain": [
       "(((0.2694 - 0.0722*I)*exp(3.4642*I*A*a) - 0.0194 + 0.0722*I)*(0.2113*exp(3.4642*I*conjugate(A)*conjugate(a)) - 0.2887*(1 + I)*exp(3.4642*I*conjugate(A)*conjugate(a)) + 1.077 + 0.2887*I)*exp(1.7321*I*(B*b + conjugate(B)*conjugate(b))) + ((0.2694 - 0.0722*I)*exp(3.4642*I*B*b) - 0.0194 + 0.0722*I)*(0.2113*exp(3.4642*I*conjugate(B)*conjugate(b)) - 0.2887*(1 + I)*exp(3.4642*I*conjugate(B)*conjugate(b)) + 1.077 + 0.2887*I)*exp(1.7321*I*(A*a + conjugate(A)*conjugate(a))))*exp(-1.7321*I*(A*a + B*b + conjugate(A)*conjugate(a) + conjugate(B)*conjugate(b)))"
      ]
     },
     "execution_count": 3,
     "metadata": {},
     "output_type": "execute_result"
    }
   ],
   "source": [
    "for elemnt in preorder_traversal(op):\n",
    "    if isinstance(elemnt, Float):\n",
    "        op = op.subs(elemnt, round(elemnt, 4))\n",
    "simplify(op)"
   ]
  },
  {
   "cell_type": "code",
   "execution_count": 4,
   "metadata": {},
   "outputs": [
    {
     "name": "stdout",
     "output_type": "stream",
     "text": [
      "\\left(\\left(\\left(0.2694 - 0.0722 i\\right) e^{3.4642 i A a} - 0.0194 + 0.0722 i\\right) \\left(0.2113 e^{3.4642 i \\overline{A} \\overline{a}} - 0.2887 \\cdot \\left(1 + i\\right) e^{3.4642 i \\overline{A} \\overline{a}} + 1.077 + 0.2887 i\\right) e^{1.7321 i \\left(B b + \\overline{B} \\overline{b}\\right)} + \\left(\\left(0.2694 - 0.0722 i\\right) e^{3.4642 i B b} - 0.0194 + 0.0722 i\\right) \\left(0.2113 e^{3.4642 i \\overline{B} \\overline{b}} - 0.2887 \\cdot \\left(1 + i\\right) e^{3.4642 i \\overline{B} \\overline{b}} + 1.077 + 0.2887 i\\right) e^{1.7321 i \\left(A a + \\overline{A} \\overline{a}\\right)}\\right) e^{- 1.7321 i \\left(A a + B b + \\overline{A} \\overline{a} + \\overline{B} \\overline{b}\\right)}\n"
     ]
    }
   ],
   "source": [
    "print(latex(simplify(op)))"
   ]
  },
  {
   "cell_type": "code",
   "execution_count": 5,
   "metadata": {},
   "outputs": [
    {
     "data": {
      "text/latex": [
       "$\\displaystyle \\left(\\left(\\left(0.269337567297406 - 0.0721687836487032 i\\right) e^{3.46410161513775 i A a} - 0.0193375672974065 + 0.0721687836487032 i\\right) \\left(0.211324865405187 e^{3.46410161513775 i \\overline{A} \\overline{a}} - 0.288675134594813 \\cdot \\left(1 + i\\right) e^{3.46410161513775 i \\overline{A} \\overline{a}} + 1.07735026918963 + 0.288675134594813 i\\right) e^{1.73205080756888 i \\left(B b + \\overline{B} \\overline{b}\\right)} + \\left(\\left(0.269337567297406 - 0.0721687836487032 i\\right) e^{3.46410161513775 i B b} - 0.0193375672974065 + 0.0721687836487032 i\\right) \\left(0.211324865405187 e^{3.46410161513775 i \\overline{B} \\overline{b}} - 0.288675134594813 \\cdot \\left(1 + i\\right) e^{3.46410161513775 i \\overline{B} \\overline{b}} + 1.07735026918963 + 0.288675134594813 i\\right) e^{1.73205080756888 i \\left(A a + \\overline{A} \\overline{a}\\right)}\\right) e^{- 1.73205080756888 i \\left(A a + B b + \\overline{A} \\overline{a} + \\overline{B} \\overline{b}\\right)}$"
      ],
      "text/plain": [
       "(((0.269337567297406 - 0.0721687836487032*I)*exp(3.46410161513775*I*A*a) - 0.0193375672974065 + 0.0721687836487032*I)*(0.211324865405187*exp(3.46410161513775*I*conjugate(A)*conjugate(a)) - 0.288675134594813*(1 + I)*exp(3.46410161513775*I*conjugate(A)*conjugate(a)) + 1.07735026918963 + 0.288675134594813*I)*exp(1.73205080756888*I*(B*b + conjugate(B)*conjugate(b))) + ((0.269337567297406 - 0.0721687836487032*I)*exp(3.46410161513775*I*B*b) - 0.0193375672974065 + 0.0721687836487032*I)*(0.211324865405187*exp(3.46410161513775*I*conjugate(B)*conjugate(b)) - 0.288675134594813*(1 + I)*exp(3.46410161513775*I*conjugate(B)*conjugate(b)) + 1.07735026918963 + 0.288675134594813*I)*exp(1.73205080756888*I*(A*a + conjugate(A)*conjugate(a))))*exp(-1.73205080756888*I*(A*a + B*b + conjugate(A)*conjugate(a) + conjugate(B)*conjugate(b)))"
      ]
     },
     "execution_count": 5,
     "metadata": {},
     "output_type": "execute_result"
    }
   ],
   "source": [
    "vector_i = [a, b]\n",
    "vector_w = [A, B]\n",
    "\n",
    "p_cog = Matrix([\n",
    "        [1/2,1/2],\n",
    "        [1/2,1/2]\n",
    "        ])\n",
    "\n",
    "# Now we have phi_env = 1/sqrt(2) * |0> + 1/sqrt(2) * |1>\n",
    "p_env = Matrix([\n",
    "    [1/2, 1/2],\n",
    "    [1/2, 1/2],\n",
    "])\n",
    "\n",
    "sigma_q_sympy = Matrix([\n",
    "    [1, (1 - 1j)],\n",
    "    [(1j + 1), -1]\n",
    "])\n",
    "\n",
    "sigma_e_sympy = Matrix([\n",
    "    [vector_i[0] * vector_w[0], 0],\n",
    "    [0,vector_i[1] * vector_w[1]]\n",
    "    ])\n",
    "\n",
    "u_operator_sympy = Matrix(1j*TensorProduct(sigma_q_sympy, sigma_e_sympy)).exp()\n",
    "\n",
    "quantum_operation_sympy = u_operator_sympy * TensorProduct(p_cog, p_env) * Dagger(u_operator_sympy)\n",
    "\n",
    "op = simplify(quantum_operation_sympy.evalf()[0,0] + quantum_operation_sympy.evalf()[1,1])\n",
    "op"
   ]
  },
  {
   "cell_type": "markdown",
   "metadata": {},
   "source": [
    "# ICQ-AIL"
   ]
  },
  {
   "cell_type": "code",
   "execution_count": 6,
   "metadata": {},
   "outputs": [
    {
     "data": {
      "text/latex": [
       "$\\displaystyle \\frac{\\left(- 3.46944695195361 \\cdot 10^{-18} a e^{1.73205080756888 i \\left(B + \\overline{B}\\right)} \\overline{a} + 1.0 a \\left(0.788675134594813 + 2.08166817117217 \\cdot 10^{-17} i\\right) e^{i \\left(3.46410161513775 A + 1.73205080756888 B + 1.73205080756888 \\overline{B}\\right)} \\overline{a} + 1.0 a \\left(0.211324865405187 + 1.38777878078145 \\cdot 10^{-17} i\\right) e^{i \\left(1.73205080756888 B + 3.46410161513775 \\overline{A} + 1.73205080756888 \\overline{B}\\right)} \\overline{a} + 1.0 a \\left(1.38777878078145 \\cdot 10^{-17} - 2.77555756156289 \\cdot 10^{-17} i\\right) e^{i \\left(3.46410161513775 A + 1.73205080756888 B + 3.46410161513775 \\overline{A} + 1.73205080756888 \\overline{B}\\right)} \\overline{a} - 3.46944695195361 \\cdot 10^{-18} b e^{1.73205080756888 i \\left(A + \\overline{A}\\right)} \\overline{b} + 1.0 b \\left(0.788675134594813 + 2.08166817117217 \\cdot 10^{-17} i\\right) e^{i \\left(1.73205080756888 A + 3.46410161513775 B + 1.73205080756888 \\overline{A}\\right)} \\overline{b} + 1.0 b \\left(0.211324865405187 + 1.38777878078145 \\cdot 10^{-17} i\\right) e^{i \\left(1.73205080756888 A + 1.73205080756888 \\overline{A} + 3.46410161513775 \\overline{B}\\right)} \\overline{b} + 1.0 b \\left(1.38777878078145 \\cdot 10^{-17} - 2.77555756156289 \\cdot 10^{-17} i\\right) e^{i \\left(1.73205080756888 A + 3.46410161513775 B + 1.73205080756888 \\overline{A} + 3.46410161513775 \\overline{B}\\right)} \\overline{b}\\right) e^{- 1.73205080756888 i \\left(A + B + \\overline{A} + \\overline{B}\\right)}}{\\left(a^{2} + b^{2}\\right)^{0.5}}$"
      ],
      "text/plain": [
       "(-3.46944695195361e-18*a*exp(1.73205080756888*I*(B + conjugate(B)))*conjugate(a) + 1.0*a*(0.788675134594813 + 2.08166817117217e-17*I)*exp(I*(3.46410161513775*A + 1.73205080756888*B + 1.73205080756888*conjugate(B)))*conjugate(a) + 1.0*a*(0.211324865405187 + 1.38777878078145e-17*I)*exp(I*(1.73205080756888*B + 3.46410161513775*conjugate(A) + 1.73205080756888*conjugate(B)))*conjugate(a) + 1.0*a*(1.38777878078145e-17 - 2.77555756156289e-17*I)*exp(I*(3.46410161513775*A + 1.73205080756888*B + 3.46410161513775*conjugate(A) + 1.73205080756888*conjugate(B)))*conjugate(a) - 3.46944695195361e-18*b*exp(1.73205080756888*I*(A + conjugate(A)))*conjugate(b) + 1.0*b*(0.788675134594813 + 2.08166817117217e-17*I)*exp(I*(1.73205080756888*A + 3.46410161513775*B + 1.73205080756888*conjugate(A)))*conjugate(b) + 1.0*b*(0.211324865405187 + 1.38777878078145e-17*I)*exp(I*(1.73205080756888*A + 1.73205080756888*conjugate(A) + 3.46410161513775*conjugate(B)))*conjugate(b) + 1.0*b*(1.38777878078145e-17 - 2.77555756156289e-17*I)*exp(I*(1.73205080756888*A + 3.46410161513775*B + 1.73205080756888*conjugate(A) + 3.46410161513775*conjugate(B)))*conjugate(b))*exp(-1.73205080756888*I*(A + B + conjugate(A) + conjugate(B)))/(a**2 + b**2)**0.5"
      ]
     },
     "execution_count": 6,
     "metadata": {},
     "output_type": "execute_result"
    }
   ],
   "source": [
    "vector_i = [a, b]\n",
    "vector_w = [A, B]\n",
    "\n",
    "p_cog = Matrix([\n",
    "        [1/2,1/2],\n",
    "        [1/2,1/2]\n",
    "        ])\n",
    "\n",
    "vector_i_norm = sqrt((vector_i[0]**2) + (vector_i[1]**2))\n",
    "\n",
    "# We need now to consider vector_i in the rho_env\n",
    "p_env = Matrix([\n",
    "    [vector_i[0] * conjugate(vector_i[0]), vector_i[0] * conjugate(vector_i[1])],\n",
    "    [vector_i[1] * conjugate(vector_i[0]), vector_i[1] * conjugate(vector_i[1])],\n",
    "])/vector_i_norm\n",
    "\n",
    "sigma_q_sympy = Matrix([\n",
    "    [1, (1 - 1j)],\n",
    "    [(1j + 1), -1]\n",
    "])\n",
    "\n",
    "# ...and the sigma_e now contains only the weights \n",
    "sigma_e_sympy = Matrix([\n",
    "    [vector_w[0], 0],\n",
    "    [0,vector_w[1]]\n",
    "    ])\n",
    "\n",
    "u_operator_sympy = Matrix(1j*TensorProduct(sigma_q_sympy, sigma_e_sympy)).exp()\n",
    "\n",
    "quantum_operation_sympy = u_operator_sympy * TensorProduct(p_cog, p_env) * Dagger(u_operator_sympy)\n",
    "\n",
    "op = Tr(quantum_operation_sympy.evalf())\n",
    "simplify(op)"
   ]
  },
  {
   "cell_type": "code",
   "execution_count": 7,
   "metadata": {},
   "outputs": [
    {
     "data": {
      "text/latex": [
       "$\\displaystyle \\frac{\\left(- 4.40557778347284 \\cdot 10^{-5} a e^{1.7321 i \\left(B + \\overline{B}\\right)} \\overline{a} + 0.788739243544114 a e^{i \\left(3.4642 A + 1.7321 B + 1.7321 \\overline{B}\\right)} \\overline{a} + 0.211341238631576 a e^{i \\left(1.7321 B + 3.4642 \\overline{A} + 1.7321 \\overline{B}\\right)} \\overline{a} - 4.40557778347284 \\cdot 10^{-5} a e^{i \\left(3.4642 A + 1.7321 B + 3.4642 \\overline{A} + 1.7321 \\overline{B}\\right)} \\overline{a} - 4.40557778347284 \\cdot 10^{-5} b e^{1.7321 i \\left(A + \\overline{A}\\right)} \\overline{b} + 0.788739243544114 b e^{i \\left(1.7321 A + 3.4642 B + 1.7321 \\overline{A}\\right)} \\overline{b} + 0.211341238631576 b e^{i \\left(1.7321 A + 1.7321 \\overline{A} + 3.4642 \\overline{B}\\right)} \\overline{b} - 4.40557778347284 \\cdot 10^{-5} b e^{i \\left(1.7321 A + 3.4642 B + 1.7321 \\overline{A} + 3.4642 \\overline{B}\\right)} \\overline{b}\\right) e^{- 1.7321 i \\left(A + B + \\overline{A} + \\overline{B}\\right)}}{\\left(a^{2} + b^{2}\\right)^{0.5}}$"
      ],
      "text/plain": [
       "(-4.40557778347284e-5*a*exp(1.7321*I*(B + conjugate(B)))*conjugate(a) + 0.788739243544114*a*exp(I*(3.4642*A + 1.7321*B + 1.7321*conjugate(B)))*conjugate(a) + 0.211341238631576*a*exp(I*(1.7321*B + 3.4642*conjugate(A) + 1.7321*conjugate(B)))*conjugate(a) - 4.40557778347284e-5*a*exp(I*(3.4642*A + 1.7321*B + 3.4642*conjugate(A) + 1.7321*conjugate(B)))*conjugate(a) - 4.40557778347284e-5*b*exp(1.7321*I*(A + conjugate(A)))*conjugate(b) + 0.788739243544114*b*exp(I*(1.7321*A + 3.4642*B + 1.7321*conjugate(A)))*conjugate(b) + 0.211341238631576*b*exp(I*(1.7321*A + 1.7321*conjugate(A) + 3.4642*conjugate(B)))*conjugate(b) - 4.40557778347284e-5*b*exp(I*(1.7321*A + 3.4642*B + 1.7321*conjugate(A) + 3.4642*conjugate(B)))*conjugate(b))*exp(-1.7321*I*(A + B + conjugate(A) + conjugate(B)))/(a**2 + b**2)**0.5"
      ]
     },
     "execution_count": 7,
     "metadata": {},
     "output_type": "execute_result"
    }
   ],
   "source": [
    "for elemnt in preorder_traversal(op):\n",
    "    if isinstance(elemnt, Float):\n",
    "        op = op.subs(elemnt, round(elemnt, 4))\n",
    "simplify(op)"
   ]
  },
  {
   "cell_type": "code",
   "execution_count": 8,
   "metadata": {},
   "outputs": [
    {
     "name": "stdout",
     "output_type": "stream",
     "text": [
      "\\frac{\\left(- 4.40557778347284 \\cdot 10^{-5} a e^{1.7321 i \\left(B + \\overline{B}\\right)} \\overline{a} + 0.788739243544114 a e^{i \\left(3.4642 A + 1.7321 B + 1.7321 \\overline{B}\\right)} \\overline{a} + 0.211341238631576 a e^{i \\left(1.7321 B + 3.4642 \\overline{A} + 1.7321 \\overline{B}\\right)} \\overline{a} - 4.40557778347284 \\cdot 10^{-5} a e^{i \\left(3.4642 A + 1.7321 B + 3.4642 \\overline{A} + 1.7321 \\overline{B}\\right)} \\overline{a} - 4.40557778347284 \\cdot 10^{-5} b e^{1.7321 i \\left(A + \\overline{A}\\right)} \\overline{b} + 0.788739243544114 b e^{i \\left(1.7321 A + 3.4642 B + 1.7321 \\overline{A}\\right)} \\overline{b} + 0.211341238631576 b e^{i \\left(1.7321 A + 1.7321 \\overline{A} + 3.4642 \\overline{B}\\right)} \\overline{b} - 4.40557778347284 \\cdot 10^{-5} b e^{i \\left(1.7321 A + 3.4642 B + 1.7321 \\overline{A} + 3.4642 \\overline{B}\\right)} \\overline{b}\\right) e^{- 1.7321 i \\left(A + B + \\overline{A} + \\overline{B}\\right)}}{\\left(a^{2} + b^{2}\\right)^{0.5}}\n"
     ]
    }
   ],
   "source": [
    "print(latex(simplify(op)))"
   ]
  }
 ],
 "metadata": {
  "kernelspec": {
   "display_name": "base",
   "language": "python",
   "name": "python3"
  },
  "language_info": {
   "codemirror_mode": {
    "name": "ipython",
    "version": 3
   },
   "file_extension": ".py",
   "mimetype": "text/x-python",
   "name": "python",
   "nbconvert_exporter": "python",
   "pygments_lexer": "ipython3",
   "version": "3.9.16"
  }
 },
 "nbformat": 4,
 "nbformat_minor": 2
}
