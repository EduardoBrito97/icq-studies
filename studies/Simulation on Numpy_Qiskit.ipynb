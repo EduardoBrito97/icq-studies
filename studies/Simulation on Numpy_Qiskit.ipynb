{
 "cells": [
  {
   "cell_type": "code",
   "execution_count": null,
   "id": "e9260f16",
   "metadata": {},
   "outputs": [],
   "source": [
    "from qiskit import QuantumCircuit, transpile\n",
    "from qiskit.extensions import UnitaryGate\n",
    "from qiskit import Aer"
   ]
  },
  {
   "cell_type": "code",
   "execution_count": null,
   "id": "54915586",
   "metadata": {},
   "outputs": [],
   "source": [
    "import sys, os\n",
    "import numpy as np\n",
    "sys.path.append(os.path.abspath('../classifiers'))\n",
    "from classifiers_ICQ import iqc_classifier"
   ]
  },
  {
   "cell_type": "code",
   "execution_count": null,
   "id": "5c2c04c9",
   "metadata": {},
   "outputs": [],
   "source": [
    "def get_prob_1(hist):\n",
    "    count0 = 0\n",
    "    count1 = 0\n",
    "    if '0' in hist:\n",
    "        count0 = hist['0']\n",
    "    if '1' in hist:\n",
    "        count1 = hist['1']\n",
    "    return count1/(count1+count0)"
   ]
  },
  {
   "cell_type": "code",
   "execution_count": null,
   "id": "1efa4e22",
   "metadata": {},
   "outputs": [],
   "source": [
    "dic_classifier_params = {}\n",
    "dic_classifier_params[\"sigma_q_params\"] = [1,1,1,1]\n",
    "dic_classifier_params[\"use_polar_coordinates_on_sigma_q\"] = False\n",
    "dic_classifier_params[\"load_inputvector_env_state\"] = False"
   ]
  },
  {
   "cell_type": "code",
   "execution_count": null,
   "id": "2641f035",
   "metadata": {},
   "outputs": [],
   "source": [
    "# Simulation in numpy\n",
    "\n",
    "# Since we may have multiple environments, vectorW is now a array of arrays...\n",
    "vectorX = [0.91, 0.90]\n",
    "vectorW = [[0.919, 0.491]]\n",
    "z, p_cog, qo = iqc_classifier(vector_x=vectorX, vector_ws=vectorW, dic_classifier_params=dic_classifier_params)\n",
    "\n",
    "# ... and we need to pick up the first (and only, since on this experiment we have only 1 environment) quantum operator\n",
    "qo = qo[0]\n",
    "\n",
    "print(\"prob 1 in the simulation\", p_cog)\n",
    "\n",
    "# Simulation in qiskit (O AMBIENTE É O PRIMEIRO QUBIT E COG É O SEGUNDO QUBIT)\n",
    "matrix = qo\n",
    "gate = UnitaryGate(matrix)\n",
    "\n",
    "# Creating circuit that will contain our transpiled quantum operator\n",
    "circuit = QuantumCircuit(2,1)\n",
    "circuit.append(gate, [0, 1])\n",
    "trans_circuit = transpile(circuit, basis_gates=['cx', 'u3'])\n",
    "\n",
    "# Creating the circuit which will contain the whole operation\n",
    "circuit_new = QuantumCircuit(2,1)\n",
    "circuit_new.h(0)\n",
    "circuit_new.h(1)\n",
    "circuit_new = circuit_new.compose(trans_circuit, [0,1])\n",
    "\n",
    "# Executing the simulation\n",
    "circuit_new.measure(1,0)\n",
    "aer_sim = Aer.get_backend('aer_simulator')\n",
    "job = aer_sim.run(circuit_new, shots=10000)\n",
    "hist = job.result().get_counts()\n",
    "\n",
    "print(\"prob 1 in the circuit\", get_prob_1(hist))\n",
    "\n",
    "# Drawing circuit\n",
    "print(circuit_new.draw())"
   ]
  },
  {
   "cell_type": "code",
   "execution_count": null,
   "id": "55b95cb5",
   "metadata": {},
   "outputs": [],
   "source": [
    "# Simulation in numpy\n",
    "\n",
    "# Since we may have multiple environments, vectorW is now a array of arrays...\n",
    "vectorX = [0.91, 0.90, 0.3, 0.5]\n",
    "vectorW = [[0.919, 0.491, 0.4, 0.5]]\n",
    "z, p_cog, qo = iqc_classifier(vector_x=vectorX, vector_ws=vectorW, dic_classifier_params=dic_classifier_params)\n",
    "\n",
    "# ... and we need to pick up the first (and only, since on this experiment we have only 1 environment) quantum operator\n",
    "qo = qo[0]\n",
    "\n",
    "print(\"prob 1 in the simulation\", p_cog)\n",
    "\n",
    "# Simulation in qiskit (O AMBIENTE É O PRIMEIRO QUBIT E COG É O SEGUNDO QUBIT)\n",
    "matrix = qo\n",
    "gate = UnitaryGate(matrix)\n",
    "\n",
    "# Creating circuit that will contain our transpiled quantum operator\n",
    "circuit = QuantumCircuit(3,1)\n",
    "circuit.append(gate, [0, 1, 2])\n",
    "trans_circuit = transpile(circuit, basis_gates=['cx', 'u3'])\n",
    "\n",
    "# Creating the circuit which will contain the whole operation\n",
    "circuit_new = QuantumCircuit(3,1)\n",
    "circuit_new.h(0)\n",
    "circuit_new.h(1)\n",
    "circuit_new.h(2)\n",
    "circuit_new = circuit_new.compose(trans_circuit, [0, 1, 2])\n",
    "\n",
    "# Executing the simulation\n",
    "circuit_new.measure(1,0)\n",
    "aer_sim = Aer.get_backend('aer_simulator')\n",
    "job = aer_sim.run(circuit_new, shots=10000)\n",
    "hist = job.result().get_counts()\n",
    "\n",
    "print(\"prob 1 in the circuit\", get_prob_1(hist))\n",
    "\n",
    "# Drawing circuit\n",
    "print(circuit_new.draw())"
   ]
  }
 ],
 "metadata": {
  "kernelspec": {
   "display_name": "Python 3",
   "language": "python",
   "name": "python3"
  },
  "language_info": {
   "codemirror_mode": {
    "name": "ipython",
    "version": 3
   },
   "file_extension": ".py",
   "mimetype": "text/x-python",
   "name": "python",
   "nbconvert_exporter": "python",
   "pygments_lexer": "ipython3",
   "version": "3.9.16"
  }
 },
 "nbformat": 4,
 "nbformat_minor": 5
}
