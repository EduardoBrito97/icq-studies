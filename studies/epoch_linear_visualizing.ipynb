{
 "cells": [
  {
   "cell_type": "code",
   "execution_count": null,
   "metadata": {},
   "outputs": [],
   "source": [
    "import sys, os\n",
    "sys.path.append(os.path.abspath('../classifiers'))\n",
    "sys.path.append(os.path.abspath('../training'))\n",
    "sys.path.append(os.path.abspath('../validation'))\n",
    "from validation_functions import execute_training_test_k_fold\n",
    "from classifiers_ICQ import iqc_classifier\n",
    "from iqc_classifier_training import IQCClassifier\n",
    "from prediction_visualization import decision_visualization\n",
    "\n",
    "from sklearn.multiclass import OneVsRestClassifier\n",
    "from sklearn.preprocessing import normalize\n",
    "from sklearn.model_selection import train_test_split\n",
    "import numpy as np\n",
    "from sklearn import datasets"
   ]
  },
  {
   "cell_type": "code",
   "execution_count": null,
   "metadata": {},
   "outputs": [],
   "source": [
    "def get_dataset():\n",
    "    # Dá pra usar caminhos relativos, não tem pra quê colocar tudo de uma vez não\n",
    "    path_to_datasets = \"../datasets/Datasets_template_exp/\" \n",
    "    dataset_name = \"linear_sep.npy\"\n",
    "    dataset = np.load(path_to_datasets + dataset_name)\n",
    "\n",
    "    X, y = dataset[:,:-1],dataset[:,-1]\n",
    "    return X, y"
   ]
  },
  {
   "cell_type": "code",
   "execution_count": null,
   "metadata": {},
   "outputs": [],
   "source": [
    "def print_for_all_epochs(dic_classifier_params, \n",
    "                         dic_training_params, \n",
    "                         normalized_X_train, \n",
    "                         y_train, \n",
    "                         normalized_X_test, \n",
    "                         y_test, \n",
    "                         epochs, \n",
    "                         title, \n",
    "                         path):\n",
    "    for j in range(1, epochs, 2):\n",
    "        dic_training_params['max_iter'] = j\n",
    "        clf = IQCClassifier(classifier_function=iqc_classifier, \n",
    "                            dic_classifier_params=dic_classifier_params,\n",
    "                            dic_training_params=dic_training_params).fit(normalized_X_train, y_train)\n",
    "        curr_title = title + \"; Epoch = \" + str(j)\n",
    "        curr_path = path + \"; Epoch = \" + str(j) + \".png\"\n",
    "        decision_visualization(clf = clf, X = normalized_X_test, y = y_test, title = curr_title, saveFigPath = curr_path)"
   ]
  },
  {
   "cell_type": "code",
   "execution_count": null,
   "metadata": {},
   "outputs": [],
   "source": [
    "if 'normalize_axis' not in locals() and 'normalize_axis' not in globals():\n",
    "    normalize_axis = 0"
   ]
  },
  {
   "cell_type": "code",
   "execution_count": null,
   "metadata": {},
   "outputs": [],
   "source": [
    "X, y = get_dataset()\n",
    "classifier_function = iqc_classifier\n",
    "dic_classifier_params = {}\n",
    "dic_classifier_params[\"sigma_q_params\"] = [1,1,1,1]\n",
    "dic_classifier_params[\"use_polar_coordinates_on_sigma_q\"] = False\n",
    "dic_classifier_params[\"load_inputvector_env_state\"] = True\n",
    "dic_classifier_params[\"normalize_axis\"] = normalize_axis\n",
    "\n",
    "dic_training_params = {\"max_iter\": 1000,\n",
    "    \"accuracy_succ\": 0.99,\n",
    "    \"plot_graphs_and_metrics\": False,\n",
    "    \"plot_graphs_in_classifier\": False,\n",
    "    \"random_seed\": 1,\n",
    "    \"learning_rate\": 0.0000001,\n",
    "    \"refit_db\":True,\n",
    "    \"reset_weights_epoch\":0,\n",
    "    \"do_classes_refit\":True,\n",
    "    \"batch\":False}\n",
    "\n",
    "n_times_kfold = 20\n",
    "k_times_fold = 10"
   ]
  },
  {
   "cell_type": "code",
   "execution_count": null,
   "metadata": {},
   "outputs": [],
   "source": [
    "if 'operation_for_sigma_e' in locals() or 'operation_for_sigma_e' in globals():\n",
    "    dic_classifier_params[\"operation_for_sigma_e\"] = operation_for_sigma_e\n",
    "    base_path = \"results/linear_sep_epoch/new-approaches/\" + operation_for_sigma_e + \"/norm-\" + str(normalize_axis) + \"/\"\n",
    "else:\n",
    "    base_path = \"results/linear_sep_epoch/proposed/norm-\" + str(normalize_axis) + \"/\""
   ]
  },
  {
   "cell_type": "code",
   "execution_count": null,
   "metadata": {},
   "outputs": [],
   "source": [
    "X_train, X_test, y_train, y_test = train_test_split(X, y, test_size=0.33, random_state=42)\n",
    "normalized_X_train = normalize(X_train,axis=normalize_axis)\n",
    "normalized_X_test  = normalize(X_test, axis=normalize_axis)"
   ]
  },
  {
   "cell_type": "code",
   "execution_count": null,
   "metadata": {},
   "outputs": [],
   "source": [
    "sigmaq_range = range(10)"
   ]
  },
  {
   "cell_type": "code",
   "execution_count": null,
   "metadata": {},
   "outputs": [],
   "source": [
    "%%time\n",
    "for i in sigmaq_range:\n",
    "    dic_classifier_params[\"sigma_q_params\"] = [i, 1, 1, 1]\n",
    "    title = \"sigmaQ = \" + str(dic_classifier_params[\"sigma_q_params\"])\n",
    "    path = base_path + \"SigmaX=\" + str(i) + \"; Others=[1,1,1]\"\n",
    "    print_for_all_epochs(dic_classifier_params, \n",
    "                         dic_training_params, \n",
    "                         normalized_X_train, \n",
    "                         y_train, \n",
    "                         normalized_X_test, \n",
    "                         y_test, \n",
    "                         50, \n",
    "                         title, \n",
    "                         path)"
   ]
  },
  {
   "cell_type": "code",
   "execution_count": null,
   "metadata": {},
   "outputs": [],
   "source": [
    "%%time\n",
    "for i in sigmaq_range:\n",
    "    dic_classifier_params[\"sigma_q_params\"] = [1, i, 1, 1]\n",
    "    title = \"sigmaQ = \" + str(dic_classifier_params[\"sigma_q_params\"])\n",
    "    path = base_path + \"SigmaY=\" + str(i) + \"; Others=[1,1,1]\"\n",
    "    print_for_all_epochs(dic_classifier_params, \n",
    "                         dic_training_params, \n",
    "                         normalized_X_train, \n",
    "                         y_train, \n",
    "                         normalized_X_test, \n",
    "                         y_test, \n",
    "                         50, \n",
    "                         title, \n",
    "                         path)"
   ]
  },
  {
   "cell_type": "code",
   "execution_count": null,
   "metadata": {},
   "outputs": [],
   "source": [
    "%%time\n",
    "for i in sigmaq_range:\n",
    "    dic_classifier_params[\"sigma_q_params\"] = [1, 1, i, 1]\n",
    "    title = \"sigmaQ = \" + str(dic_classifier_params[\"sigma_q_params\"])\n",
    "    path = base_path + \"SigmaZ=\" + str(i) + \"; Others=[1,1,1]\"\n",
    "    print_for_all_epochs(dic_classifier_params, \n",
    "                         dic_training_params, \n",
    "                         normalized_X_train, \n",
    "                         y_train, \n",
    "                         normalized_X_test, \n",
    "                         y_test, \n",
    "                         50, \n",
    "                         title, \n",
    "                         path)"
   ]
  },
  {
   "cell_type": "code",
   "execution_count": null,
   "metadata": {},
   "outputs": [],
   "source": [
    "%%time\n",
    "for i in sigmaq_range:\n",
    "    dic_classifier_params[\"sigma_q_params\"] = [1, 1, 1, i]\n",
    "    title = \"sigmaQ = \" + str(dic_classifier_params[\"sigma_q_params\"])\n",
    "    path = base_path + \"SigmaI=\" + str(i) + \"; Others=[1,1,1]\"\n",
    "    print_for_all_epochs(dic_classifier_params, \n",
    "                         dic_training_params, \n",
    "                         normalized_X_train, \n",
    "                         y_train, \n",
    "                         normalized_X_test, \n",
    "                         y_test, \n",
    "                         50, \n",
    "                         title, \n",
    "                         path)"
   ]
  }
 ],
 "metadata": {
  "kernelspec": {
   "display_name": "base",
   "language": "python",
   "name": "python3"
  },
  "language_info": {
   "codemirror_mode": {
    "name": "ipython",
    "version": 3
   },
   "file_extension": ".py",
   "mimetype": "text/x-python",
   "name": "python",
   "nbconvert_exporter": "python",
   "pygments_lexer": "ipython3",
   "version": "3.9.16"
  },
  "orig_nbformat": 4
 },
 "nbformat": 4,
 "nbformat_minor": 2
}
