{
 "cells": [
  {
   "attachments": {},
   "cell_type": "markdown",
   "id": "7247aa79",
   "metadata": {},
   "source": [
    "## Experimenting agains Iris dataset - Modified ICQ Method\n",
    "\n",
    "Runs the modified ICQ classifier against Iris dataset, using Stratified 10-Fold cross validation throughout many different random seeds to validate the classifier. At the end of each 10-Fold cross validation, it prints the AVG score and F1-Score for the classifier - and after executing with all different random seeds, the average score/f1-score is also printed."
   ]
  },
  {
   "cell_type": "code",
   "execution_count": 1,
   "id": "93e369ff",
   "metadata": {},
   "outputs": [],
   "source": [
    "import numpy as np\n",
    "from helpers.utils import print_metrics, executeIrisOneVsRest\n",
    "from helpers.icq_methods import create_and_execute_classifier_new_approach"
   ]
  },
  {
   "cell_type": "code",
   "execution_count": 2,
   "id": "822d41e7",
   "metadata": {},
   "outputs": [],
   "source": [
    "import warnings\n",
    "from sklearn.exceptions import UndefinedMetricWarning\n",
    "\n",
    "# We're ignoring some warning from sklearn.metrics.classification_report\n",
    "warnings.simplefilter(action='ignore', category=UndefinedMetricWarning)"
   ]
  },
  {
   "cell_type": "code",
   "execution_count": 3,
   "id": "8db20f4f",
   "metadata": {},
   "outputs": [
    {
     "name": "stdout",
     "output_type": "stream",
     "text": [
      "AVG: Scores = 0.5133333333333334 F1-Scores = 0.411965811965812\n",
      "AVG: Scores = 0.6666666666666667 F1-Scores = 0.5555555555555555\n",
      "AVG: Scores = 0.7 F1-Scores = 0.5999999999999999\n",
      "AVG: Scores = 0.6533333333333332 F1-Scores = 0.5461760461760461\n",
      "AVG: Scores = 0.6666666666666667 F1-Scores = 0.5631613756613756\n",
      "AVG: Scores = 0.6666666666666667 F1-Scores = 0.5555555555555555\n",
      "Wall time: 1min 23s\n"
     ]
    }
   ],
   "source": [
    "%%time\n",
    "scores = []\n",
    "f1scores = []\n",
    "for i_random_state in range(10, 70, 5):\n",
    "    curr_scores, curr_f1scores = executeIrisOneVsRest(random_seed=i_random_state,\n",
    "                                                classifier_function=create_and_execute_classifier_new_approach,\n",
    "                                                sigma_q_weights=[1, 1, 1, 0],\n",
    "                                                max_iter=2000,\n",
    "                                                print_each_fold_metric=False,\n",
    "                                                print_avg_metric=True)\n",
    "    scores.append(np.mean(curr_scores))\n",
    "    f1scores.append(np.mean(curr_f1scores))"
   ]
  },
  {
   "cell_type": "code",
   "execution_count": 4,
   "id": "4044424c",
   "metadata": {},
   "outputs": [
    {
     "name": "stdout",
     "output_type": "stream",
     "text": [
      "Scores: [0.5133333333333334, 0.6666666666666667, 0.7, 0.6533333333333332, 0.6666666666666667, 0.6666666666666667]\n",
      "Best score: 0.7\n",
      "F1-Scores: [0.411965811965812, 0.5555555555555555, 0.5999999999999999, 0.5461760461760461, 0.5631613756613756, 0.5555555555555555]\n",
      "Max F1-Score: 0.5999999999999999\n"
     ]
    }
   ],
   "source": [
    "print_metrics(scores, f1scores)"
   ]
  }
 ],
 "metadata": {
  "kernelspec": {
   "display_name": "base",
   "language": "python",
   "name": "python3"
  },
  "language_info": {
   "codemirror_mode": {
    "name": "ipython",
    "version": 3
   },
   "file_extension": ".py",
   "mimetype": "text/x-python",
   "name": "python",
   "nbconvert_exporter": "python",
   "pygments_lexer": "ipython3",
   "version": "3.9.13"
  },
  "vscode": {
   "interpreter": {
    "hash": "ad2bdc8ecc057115af97d19610ffacc2b4e99fae6737bb82f5d7fb13d2f2c186"
   }
  }
 },
 "nbformat": 4,
 "nbformat_minor": 5
}
