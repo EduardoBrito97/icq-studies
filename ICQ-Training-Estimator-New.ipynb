{
 "cells": [
  {
   "attachments": {},
   "cell_type": "markdown",
   "id": "7247aa79",
   "metadata": {},
   "source": [
    "## Experimenting agains Iris dataset - Modified ICQ Method\n",
    "\n",
    "Runs the modified ICQ classifier against Iris dataset, using Stratified 10-Fold cross validation throughout many different random seeds to validate the classifier. At the end of each 10-Fold cross validation, it prints the AVG score and F1-Score for the classifier - and after executing with all different random seeds, the average score/f1-score is also printed."
   ]
  },
  {
   "cell_type": "code",
   "execution_count": 1,
   "id": "93e369ff",
   "metadata": {},
   "outputs": [],
   "source": [
    "import numpy as np\n",
    "from helpers.utils import print_metrics, executeIrisOneVsRest\n",
    "from helpers.icq_methods import create_and_execute_classifier_new_approach"
   ]
  },
  {
   "cell_type": "code",
   "execution_count": 2,
   "id": "822d41e7",
   "metadata": {},
   "outputs": [],
   "source": [
    "import warnings\n",
    "from sklearn.exceptions import UndefinedMetricWarning\n",
    "\n",
    "# We're ignoring some warning from sklearn.metrics.classification_report\n",
    "warnings.simplefilter(action='ignore', category=UndefinedMetricWarning)"
   ]
  },
  {
   "cell_type": "code",
   "execution_count": 3,
   "id": "8db20f4f",
   "metadata": {},
   "outputs": [
    {
     "name": "stdout",
     "output_type": "stream",
     "text": [
      "AVG: Scores = 0.9199999999999999 F1-Scores = 0.9176347726347727\n",
      "AVG: Scores = 0.9533333333333335 F1-Scores = 0.9525757575757575\n",
      "AVG: Scores = 0.9333333333333333 F1-Scores = 0.9305977355977355\n",
      "AVG: Scores = 0.9533333333333334 F1-Scores = 0.9528619528619527\n",
      "AVG: Scores = 0.9133333333333333 F1-Scores = 0.9102009102009101\n",
      "AVG: Scores = 0.9000000000000001 F1-Scores = 0.8968098568098568\n",
      "AVG: Scores = 0.9066666666666666 F1-Scores = 0.9045130795130796\n",
      "AVG: Scores = 0.9266666666666665 F1-Scores = 0.9261279461279461\n",
      "AVG: Scores = 0.9400000000000001 F1-Scores = 0.9377526177526176\n",
      "AVG: Scores = 0.9199999999999999 F1-Scores = 0.9173761423761423\n",
      "AVG: Scores = 0.9400000000000001 F1-Scores = 0.9386868686868688\n",
      "AVG: Scores = 0.9133333333333333 F1-Scores = 0.909040589040589\n",
      "Wall time: 7h 36min 54s\n"
     ]
    }
   ],
   "source": [
    "%%time\n",
    "scores = []\n",
    "f1scores = []\n",
    "for i_random_state in range(10, 70, 5):\n",
    "    curr_scores, curr_f1scores = executeIrisOneVsRest(random_seed=i_random_state,\n",
    "                                                classifier_function=create_and_execute_classifier_new_approach,\n",
    "                                                sigma_q_weights=[1, 1, 1, 0],\n",
    "                                                max_iter=2000,\n",
    "                                                print_each_fold_metric=False,\n",
    "                                                print_avg_metric=True)\n",
    "    scores.append(np.mean(curr_scores))\n",
    "    f1scores.append(np.mean(curr_f1scores))"
   ]
  },
  {
   "cell_type": "code",
   "execution_count": 4,
   "id": "4044424c",
   "metadata": {},
   "outputs": [
    {
     "name": "stdout",
     "output_type": "stream",
     "text": [
      "Scores: [0.9199999999999999, 0.9533333333333335, 0.9333333333333333, 0.9533333333333334, 0.9133333333333333, 0.9000000000000001, 0.9066666666666666, 0.9266666666666665, 0.9400000000000001, 0.9199999999999999, 0.9400000000000001, 0.9133333333333333]\n",
      "Best score: 0.9533333333333335\n",
      "F1-Scores: [0.9176347726347727, 0.9525757575757575, 0.9305977355977355, 0.9528619528619527, 0.9102009102009101, 0.8968098568098568, 0.9045130795130796, 0.9261279461279461, 0.9377526177526176, 0.9173761423761423, 0.9386868686868688, 0.909040589040589]\n",
      "Max F1-Score: 0.9528619528619527\n"
     ]
    }
   ],
   "source": [
    "print_metrics(scores, f1scores)"
   ]
  },
  {
   "cell_type": "code",
   "execution_count": 6,
   "id": "29b05fad",
   "metadata": {},
   "outputs": [
    {
     "name": "stdout",
     "output_type": "stream",
     "text": [
      "Avg score: 0.9266666666666666\n",
      "Avg F1-Score: 0.9245148524315191\n"
     ]
    }
   ],
   "source": [
    "print(\"Avg score:\", np.mean(scores))\n",
    "print(\"Avg F1-Score:\", np.mean(f1scores))"
   ]
  }
 ],
 "metadata": {
  "kernelspec": {
   "display_name": "base",
   "language": "python",
   "name": "python3"
  },
  "language_info": {
   "codemirror_mode": {
    "name": "ipython",
    "version": 3
   },
   "file_extension": ".py",
   "mimetype": "text/x-python",
   "name": "python",
   "nbconvert_exporter": "python",
   "pygments_lexer": "ipython3",
   "version": "3.9.13"
  },
  "vscode": {
   "interpreter": {
    "hash": "ad2bdc8ecc057115af97d19610ffacc2b4e99fae6737bb82f5d7fb13d2f2c186"
   }
  }
 },
 "nbformat": 4,
 "nbformat_minor": 5
}
