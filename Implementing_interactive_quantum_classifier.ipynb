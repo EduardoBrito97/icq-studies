{
  "nbformat": 4,
  "nbformat_minor": 0,
  "metadata": {
    "colab": {
      "provenance": [],
      "collapsed_sections": []
    },
    "kernelspec": {
      "name": "python3",
      "display_name": "Python 3"
    },
    "language_info": {
      "name": "python"
    }
  },
  "cells": [
    {
      "cell_type": "code",
      "source": [
        "#code of Interactive Quantum Classifier Inspired by Quantum Open System Theory\n",
        "#LINK https://ieeexplore.ieee.org/document/9533917\n",
        "\n",
        "#LINK https://ieeexplore.ieee.org/stamp/stamp.jsp?tp=&arnumber=9533917\n",
        "\n",
        "#this code was written by Fernando Maciano de Paula Neto (fernando@cin.ufpe.br)"
      ],
      "metadata": {
        "id": "5J1AkiSErOm8"
      },
      "execution_count": null,
      "outputs": []
    },
    {
      "cell_type": "code",
      "execution_count": null,
      "metadata": {
        "id": "hjrH_WOzje1G"
      },
      "outputs": [],
      "source": [
        "import numpy as np\n",
        "from scipy.linalg import expm as expMatrix\n",
        "# Importing the necessary Python libraries\n",
        "import numpy as np\n",
        "import pandas as pd\n",
        "from sklearn import datasets\n",
        "from sklearn.model_selection import train_test_split, KFold, StratifiedKFold\n",
        "from sklearn.ensemble import RandomForestClassifier\n",
        "from sklearn.metrics import accuracy_score, confusion_matrix, precision_score, recall_score, f1_score # Getting the Iris dataset from Scikit-Learn\n",
        "from sklearn import preprocessing\n",
        "\n",
        "def create_sigmaE(vectorX, vectorW):\n",
        "  #x = x1,x2,x2,...,xn\n",
        "  n = len(vectorX)\n",
        "  sigmaE = np.zeros((n,n))\n",
        "  for i in range(n):\n",
        "    #print(\"VETOR X\", vectorX)\n",
        "    sigmaE[i,i] = vectorX[i]*vectorW[i]\n",
        "  \n",
        "  return sigmaE\n",
        "\n",
        "def create_sigmaQ(n):\n",
        "  sigmaQ = np.zeros((n,n))\n",
        "  sigmaX = np.array([[0,1], [1,0]])\n",
        "  sigmaY = np.array([[0,-1j], [1j,0]])\n",
        "  sigmaZ = np.array([[1,0], [0,-1]])\n",
        "  sigmaQ = sigmaX + sigmaY + sigmaZ\n",
        "\n",
        "  return sigmaQ\n",
        "\n",
        "def create_Uoperator(sigmaQ, sigmaE):\n",
        "  return np.matrix(expMatrix(1j*np.kron(sigmaQ, sigmaE)))\n",
        "\n",
        "def create_p(psi):\n",
        "  #psi_cog is a quantum column vector in the form [[alfa],[beta]]\n",
        "  psi = np.matrix(psi)\n",
        "  return psi * psi.getH()\n",
        "\n",
        "\n",
        "def create_classifier(vectorX, vectorW):\n",
        "  sigmaQ = create_sigmaQ(2)\n",
        "  sigmaE = create_sigmaE(vectorX, vectorW)\n",
        "  U_operator = create_Uoperator(sigmaQ, sigmaE)\n",
        "  p_cog = create_p([[1/np.sqrt(2)],[1/np.sqrt(2)]]) #|psi> = 1/sqrt(2)|0> + 1/sqrt(2)|1>\n",
        "  N = len(vectorX)\n",
        "  p_env = create_p([[1/np.sqrt(N)] for i in range(N)]) #|psi_env> = 1/sqrt(N)|0> + 1/sqrt(N)|1> + ... + 1/sqrt(N)|N-1>\n",
        "\n",
        "  quantum_operation = np.array(U_operator * (np.kron(p_cog, p_env)) * U_operator.getH())\n",
        "  #np.trace(A.reshape(n,m,n,m), axis1=0, axis2=2), and the trace with respect to the second subsystem (of dimension m) is np.trace(A.reshape(n,m,n,m), axis1=1, axis2=3)\n",
        "  #n is the input dimension and m is the env dimension\n",
        "  p_cog_new = np.trace(quantum_operation.reshape([2,N,2,N]), axis1=1, axis2=3)\n",
        "\n",
        "  p_cog_new_00_2 = p_cog_new[0,0]\n",
        "  p_cog_new_11_2 = p_cog_new[1,1]\n",
        "  #print(\"matrix p\", p_cog_new)\n",
        "  if (p_cog_new_00_2 >= p_cog_new_11_2):\n",
        "    z = 0\n",
        "  else: #elif (p_cog_new_00_2 < p_cog_new_11_2):\n",
        "    z = 1\n",
        "  #print(abs(p_cog_new_00_2), abs(p_cog_new_11_2))\n",
        "  return z, p_cog_new_11_2\n",
        "\n",
        "def adjust_weights(w, y,z,x, p, n):\n",
        "  w = w-n*(z-y)*(1-p)*x\n",
        "  return w\n",
        "\n",
        "def create_many_classifiers(vectorX, vectorWs):\n",
        "  list_zi = []\n",
        "  list_p11_i = []\n",
        "\n",
        "  bigger_p11 = 0\n",
        "  index_of_bigger = 0\n",
        "  for vectorWs_i in vectorWs:\n",
        "    zi, p11_i = create_classifier(vectorX, vectorWs_i)  \n",
        "    list_zi.append(zi)\n",
        "    list_p11_i.append(p11_i)\n",
        "  \n",
        "  return np.argmax(list_p11_i)\n",
        "\n",
        "def training_1step_classifier(X, Y, w, n=0.1):\n",
        "  error = 0\n",
        "  for x,y in zip(X,Y):\n",
        "    z, p11 = create_classifier(x,w)\n",
        "    w = adjust_weights(w,y,z,x,p11,n)\n",
        "    if (z != y):\n",
        "      error += 1\n",
        "  return w, error\n",
        "\n",
        "def training_1batch_classifier(X, Y, w, n=0.1):\n",
        "  error = 0\n",
        "  x_avg = 0\n",
        "  y_avg = 0\n",
        "  z_avg = 0\n",
        "  p11_avg = 0\n",
        "  lines = X.shape[0]\n",
        "\n",
        "  for x,y in zip(X,Y):\n",
        "    z, p11 = create_classifier(x,w)\n",
        "    x_avg += x/lines\n",
        "    y_avg += y/lines\n",
        "    z_avg += z/lines\n",
        "    p11_avg += p11/lines\n",
        "    if (z != y):\n",
        "      error += 1\n",
        "  w = adjust_weights(w,y_avg,z_avg,x_avg,p11_avg,n)\n",
        "\n",
        "  return w, error\n",
        "\n",
        "import math\n",
        "def training_nsteps_classifier(X, Y, w, batch_size, Nsteps, n=0.1, stop_error_zero=False):\n",
        "  lines = X.shape[0]\n",
        "  divisions = math.ceil(lines / batch_size)\n",
        "  \n",
        "  min_error =1000000\n",
        "  min_w_error = 100000\n",
        "  for i in range(Nsteps):\n",
        "    errors = 0\n",
        "    for division in range(divisions):\n",
        "      X_batch = X[division*batch_size:(division+1)*batch_size , :]\n",
        "      Y_batch = Y[division*batch_size:(division+1)*batch_size]\n",
        "      w_old = w[:]\n",
        "      w, error = training_1batch_classifier(X_batch,Y_batch,w=w,n=n)\n",
        "      errors += error\n",
        "    if min_error > errors:\n",
        "      min_w_error = w_old\n",
        "      min_error = errors\n",
        "      \n",
        "    if errors==0 and stop_error_zero:\n",
        "      break\n",
        "  return min_w_error, min_error\n",
        "\n",
        "def replicate_classes(data_set, features_names, classes):\n",
        "\n",
        "  iris = data_set #datasets.load_iris()# Loading the predictor value (y) and remainder of the training dataset (X) as Pandas DataFrames\n",
        "\n",
        "  list_x_y = []\n",
        "  n_classes = len(classes)\n",
        "  #iris = datasets.load_iris()\n",
        "  for class_i in classes:\n",
        "    y_class_i = data_set.copy() #pd.DataFrame(data= np.c_[iris['data'], iris['target']],columns= iris['feature_names'] + ['target'])\n",
        "    #CLASSE 0 (0,1,2, ..., n-1) E CLASSE 1 (i)\n",
        "    y_class_i.loc[ y_class_i[\"target\"] == class_i  , \"target\"]  = n_classes+1\n",
        "    y_class_i.loc[ y_class_i[\"target\"] < n_classes  , \"target\"]  = 0\n",
        "    y_class_i.loc[ y_class_i[\"target\"] == (n_classes+1)  , \"target\"]  = 1\n",
        "    y_class_i = pd.concat([y_class_i, y_class_i[y_class_i[\"target\"]==1]], axis=0)\n",
        "  \n",
        "    list_x_y.append([y_class_i[features_names], y_class_i[\"target\"]])\n",
        "\n",
        "  return list_x_y\n",
        "  \n",
        "def training_k_fold_classifier(kfold, X, y, Nsteps, batch_size, n_learning_rate, features_names, classes, random_state=42):\n",
        "    # Instantiating the K-Fold cross validation object with 5 folds\n",
        "    k_folds = StratifiedKFold(n_splits = kfold, shuffle = True, random_state = random_state)# Iterating through each of the folds in K-Fold\n",
        "    metrics = []\n",
        "    for train_index, val_index in k_folds.split(X, y):\n",
        "      print(\"TRAIN INDEX\", train_index, \"VAL_INDEX\", val_index)\n",
        "      # Splitting the training set from the validation set for this specific fold\n",
        "      X_train, X_val = X.iloc[train_index, :], X.iloc[val_index, :]\n",
        "      y_train, y_val = y.iloc[train_index], y.iloc[val_index]\n",
        "      \n",
        "      dataset = pd.concat([X_train, y_train], axis=1)\n",
        "      #print(\"DATASET\", dataset)\n",
        "      #X1, y1, X2, y2, X3, y3 \n",
        "      list_of_x_y = replicate_classes(dataset, features_names, classes)\n",
        "      list_of_trainned_w = []\n",
        "      count=0\n",
        "      for Xi, yi in list_of_x_y:\n",
        "        w = [0.1 for i in range(Xi.shape[1])]\n",
        "        X_train = np.array(Xi)\n",
        "        y_train = np.array(yi)\n",
        "        wi, error = training_nsteps_classifier(X_train,y_train, w, Nsteps=Nsteps, batch_size=batch_size, n=n_learning_rate, stop_error_zero=True)\n",
        "        print(\"error i\", count, error)\n",
        "        list_of_trainned_w.append(wi)\n",
        "        count+=1\n",
        "\n",
        "      #TESTING\n",
        "      precision, recall, f1_measure, accuracy = test_many_classifiers(X_val , y_val, list_of_trainned_w )\n",
        "\n",
        "      metrics.append([precision, recall, f1_measure, accuracy])\n",
        "      print(\"metricas, precision, recall, f1_measure, acc\", metrics)\n",
        "    return list_of_trainned_w, metrics\n",
        "\n",
        "\n",
        "def test_many_classifiers(X, y, list_of_weights_classifiers):\n",
        "  lines = X.shape[0]\n",
        "  y_pred = []\n",
        "  for i in range(lines):\n",
        "    output_class = create_many_classifiers(X.iloc[i, :].values, list_of_weights_classifiers)\n",
        "    #print(X.iloc[i, :].values, output_class, y.iloc[i, :].values)\n",
        "    y_pred.append(output_class)\n",
        "  \n",
        "  y_true = y[\"target\"].tolist()\n",
        "\n",
        "  hit=0\n",
        "  for y, yhat in zip(y_true, y_pred):\n",
        "    if (y == yhat):\n",
        "      hit+=1\n",
        "  print(\"ACERTOS\",hit)\n",
        "  precision = precision_score(y_true, y_pred, labels=[0,1,2], average='micro') #y_true, y_pred, labels=[1,2], average='micro'\n",
        "  recall = recall_score(y_true, y_pred, labels=[0,1,2],average='micro')\n",
        "  f1_measure = f1_score(y_true, y_pred, labels=[0,1,2], average='micro')\n",
        "  accuracy = accuracy_score(y_true, y_pred)\n",
        "  print(\"precision\", precision, \"recall\", recall, \"f1\", f1_measure)\n",
        "  print(\"Y TRUE\",y_true, \"Y_PRED\",y_pred)\n",
        "  return precision, recall, f1_measure, accuracy\n",
        "\n",
        "def avg_metrics(measures):\n",
        "  precisions=0\n",
        "  recalls=0\n",
        "  f1_measures=0\n",
        "  accs=0\n",
        "  count=0\n",
        "  for precision, recall, f1_measure, accuracy in measures:\n",
        "    precisions += precision\n",
        "    recalls += recall\n",
        "    f1_measures += f1_measure\n",
        "    accs += accuracy\n",
        "    count+=1\n",
        "  print(\"acc\", accs/count)\n",
        "  print(\"precision\", precisions/count)\n",
        "  print(\"recall\", recalls/count)\n",
        "  print(\"f1_measure\", f1_measures/count)\n",
        "\n",
        "def maximum_absolute_scaling(df):\n",
        "    # copy the dataframe\n",
        "    df_scaled = df.copy()\n",
        "    # apply maximum absolute scaling\n",
        "    for column in df_scaled.columns:\n",
        "        df_scaled[column] = df_scaled[column]  / df_scaled[column].abs().max()\n",
        "    return df_scaled\n",
        "\n",
        "# apply the min-max scaling in Pandas using the .min() and .max() methods\n",
        "def min_max_scaling(df):\n",
        "    # copy the dataframe\n",
        "    df_norm = df.copy()\n",
        "    # apply min-max scaling\n",
        "    for column in df_norm.columns:\n",
        "        df_norm[column] = (df_norm[column] - df_norm[column].min()) / (df_norm[column].max() - df_norm[column].min())\n",
        "        \n",
        "    return df_norm\n",
        "\n",
        "def min_max_scaling_type_2(df):\n",
        "    # copy the dataframe\n",
        "    a, b= -1, 0\n",
        "    df_norm = df.copy()\n",
        "    # apply min-max scaling\n",
        "    for column in df_norm.columns:\n",
        "        df_norm[column] =(b-a)*(df_norm[column] - df_norm[column].min()) / (df_norm[column].max() - df_norm[column].min())+ a\n",
        "        \n",
        "    return df_norm"
      ]
    },
    {
      "cell_type": "code",
      "source": [
        "#como eh a normalizacao? eh por coluna ou por linha?\n",
        "# tem batch e a atualizacao dos pesos acontece com a media dos valores envolvidos (media de x, media de p00, etc)\n",
        "#\n",
        "iris = datasets.load_iris()\n",
        "\n",
        "X = iris.data\n",
        "# normalize the data attributes\n",
        "iris['data'] = -1*preprocessing.normalize(X)\n",
        "\n",
        "X_iris = pd.DataFrame(data= iris['data'],\n",
        "                      columns= iris['feature_names'])\n",
        "y_iris = pd.DataFrame(data= iris['target'],\n",
        "                      columns= ['target'])\n",
        "\n",
        "#X_iris  = min_max_scaling_type_2(X_iris)\n",
        "\n",
        "list_of_trainned_w, metrics = training_k_fold_classifier(kfold=10, X=X_iris, y=y_iris, Nsteps=2000, batch_size=1, n_learning_rate=0.009,features_names =iris['feature_names'], classes=[0,1,2],random_state=1) "
      ],
      "metadata": {
        "id": "fZCncDOxkbWG",
        "colab": {
          "base_uri": "https://localhost:8080/"
        },
        "outputId": "5606c945-63ee-4286-a341-a2bfac3d2553"
      },
      "execution_count": null,
      "outputs": [
        {
          "metadata": {
            "tags": null
          },
          "name": "stdout",
          "output_type": "stream",
          "text": [
            "TRAIN INDEX [  0   1   2   3   6   7   8   9  10  11  12  13  14  15  16  17  18  19\n",
            "  20  21  22  23  24  26  27  28  29  30  31  32  33  34  35  36  37  38\n",
            "  40  42  43  44  45  46  47  48  49  50  51  52  53  54  55  57  58  59\n",
            "  60  61  62  63  64  65  66  68  69  70  71  72  73  74  75  76  77  78\n",
            "  79  80  81  82  83  84  85  86  88  89  90  91  92  93  95  96  97  99\n",
            " 100 101 102 103 104 105 106 107 108 109 110 111 112 114 115 116 118 119\n",
            " 120 121 122 123 124 125 126 128 129 130 131 133 134 135 136 137 138 139\n",
            " 140 141 142 143 144 146 147 148 149] VAL_INDEX [  4   5  25  39  41  56  67  87  94  98 113 117 127 132 145]\n"
          ]
        },
        {
          "metadata": {
            "tags": null
          },
          "name": "stderr",
          "output_type": "stream",
          "text": [
            "/usr/local/lib/python3.7/dist-packages/ipykernel_launcher.py:18: ComplexWarning: Casting complex values to real discards the imaginary part\n"
          ]
        },
        {
          "metadata": {
            "tags": null
          },
          "name": "stdout",
          "output_type": "stream",
          "text": [
            "error i 0 0\n",
            "error i 1 5\n",
            "error i 2 3\n",
            "ACERTOS 14\n",
            "precision 0.9333333333333333 recall 0.9333333333333333 f1 0.9333333333333333\n",
            "Y TRUE [0, 0, 0, 0, 0, 1, 1, 1, 1, 1, 2, 2, 2, 2, 2] Y_PRED [0, 0, 0, 0, 1, 1, 1, 1, 1, 1, 2, 2, 2, 2, 2]\n",
            "metricas, precision, recall, f1_measure, acc [[0.9333333333333333, 0.9333333333333333, 0.9333333333333333, 0.9333333333333333]]\n",
            "TRAIN INDEX [  0   1   2   3   4   5   6   7   8   9  10  11  12  13  14  15  16  17\n",
            "  18  19  20  21  22  23  24  25  26  27  28  29  30  31  32  33  34  35\n",
            "  38  39  40  41  42  44  47  48  49  50  51  52  53  54  55  56  57  58\n",
            "  59  60  61  62  63  64  65  66  67  68  69  70  71  73  74  75  76  78\n",
            "  80  81  82  83  84  85  86  87  88  89  90  91  92  93  94  95  96  98\n",
            " 100 101 102 103 105 106 107 108 109 110 111 112 113 114 115 117 118 119\n",
            " 120 121 122 123 124 125 126 127 128 129 130 131 132 133 134 135 136 137\n",
            " 139 141 142 143 144 145 146 147 149] VAL_INDEX [ 36  37  43  45  46  72  77  79  97  99 104 116 138 140 148]\n"
          ]
        },
        {
          "metadata": {
            "tags": null
          },
          "name": "stderr",
          "output_type": "stream",
          "text": [
            "/usr/local/lib/python3.7/dist-packages/ipykernel_launcher.py:18: ComplexWarning: Casting complex values to real discards the imaginary part\n"
          ]
        },
        {
          "metadata": {
            "tags": null
          },
          "name": "stdout",
          "output_type": "stream",
          "text": [
            "error i 0 0\n",
            "error i 1 4\n",
            "error i 2 3\n",
            "ACERTOS 15\n",
            "precision 1.0 recall 1.0 f1 1.0\n",
            "Y TRUE [0, 0, 0, 0, 0, 1, 1, 1, 1, 1, 2, 2, 2, 2, 2] Y_PRED [0, 0, 0, 0, 0, 1, 1, 1, 1, 1, 2, 2, 2, 2, 2]\n",
            "metricas, precision, recall, f1_measure, acc [[0.9333333333333333, 0.9333333333333333, 0.9333333333333333, 0.9333333333333333], [1.0, 1.0, 1.0, 1.0]]\n",
            "TRAIN INDEX [  0   1   2   3   4   5   6   7   8   9  10  11  12  13  14  15  16  17\n",
            "  18  20  21  22  23  24  25  26  28  30  31  32  33  34  35  36  37  38\n",
            "  39  40  41  42  43  45  46  48  49  50  51  52  55  56  57  58  59  60\n",
            "  61  63  64  65  67  68  69  70  71  72  73  74  75  76  77  78  79  80\n",
            "  81  82  83  84  85  86  87  88  89  90  91  93  94  95  96  97  98  99\n",
            " 100 101 102 103 104 105 106 107 108 109 110 112 113 114 115 116 117 118\n",
            " 119 120 121 122 123 124 126 127 128 129 130 131 132 133 134 135 136 137\n",
            " 138 139 140 142 143 145 146 147 148] VAL_INDEX [ 19  27  29  44  47  53  54  62  66  92 111 125 141 144 149]\n"
          ]
        },
        {
          "metadata": {
            "tags": null
          },
          "name": "stderr",
          "output_type": "stream",
          "text": [
            "/usr/local/lib/python3.7/dist-packages/ipykernel_launcher.py:18: ComplexWarning: Casting complex values to real discards the imaginary part\n"
          ]
        },
        {
          "metadata": {
            "tags": null
          },
          "name": "stdout",
          "output_type": "stream",
          "text": [
            "error i 0 0\n",
            "error i 1 4\n",
            "error i 2 4\n",
            "ACERTOS 15\n",
            "precision 1.0 recall 1.0 f1 1.0\n",
            "Y TRUE [0, 0, 0, 0, 0, 1, 1, 1, 1, 1, 2, 2, 2, 2, 2] Y_PRED [0, 0, 0, 0, 0, 1, 1, 1, 1, 1, 2, 2, 2, 2, 2]\n",
            "metricas, precision, recall, f1_measure, acc [[0.9333333333333333, 0.9333333333333333, 0.9333333333333333, 0.9333333333333333], [1.0, 1.0, 1.0, 1.0], [1.0, 1.0, 1.0, 1.0]]\n",
            "TRAIN INDEX [  0   1   2   3   4   5   6   7   8   9  10  11  12  13  15  16  17  18\n",
            "  19  20  22  23  24  25  26  27  28  29  30  31  32  34  35  36  37  38\n",
            "  39  41  43  44  45  46  47  48  49  51  52  53  54  55  56  57  58  59\n",
            "  60  61  62  63  64  65  66  67  68  69  70  72  73  74  75  76  77  78\n",
            "  79  80  81  82  83  84  85  86  87  91  92  93  94  95  96  97  98  99\n",
            " 101 102 103 104 105 106 108 109 110 111 112 113 114 115 116 117 118 119\n",
            " 120 121 122 124 125 126 127 129 131 132 133 134 135 136 137 138 139 140\n",
            " 141 142 143 144 145 146 147 148 149] VAL_INDEX [ 14  21  33  40  42  50  71  88  89  90 100 107 123 128 130]\n"
          ]
        },
        {
          "metadata": {
            "tags": null
          },
          "name": "stderr",
          "output_type": "stream",
          "text": [
            "/usr/local/lib/python3.7/dist-packages/ipykernel_launcher.py:18: ComplexWarning: Casting complex values to real discards the imaginary part\n"
          ]
        },
        {
          "metadata": {
            "tags": null
          },
          "name": "stdout",
          "output_type": "stream",
          "text": [
            "error i 0 0\n",
            "error i 1 5\n",
            "error i 2 3\n",
            "ACERTOS 15\n",
            "precision 1.0 recall 1.0 f1 1.0\n",
            "Y TRUE [0, 0, 0, 0, 0, 1, 1, 1, 1, 1, 2, 2, 2, 2, 2] Y_PRED [0, 0, 0, 0, 0, 1, 1, 1, 1, 1, 2, 2, 2, 2, 2]\n",
            "metricas, precision, recall, f1_measure, acc [[0.9333333333333333, 0.9333333333333333, 0.9333333333333333, 0.9333333333333333], [1.0, 1.0, 1.0, 1.0], [1.0, 1.0, 1.0, 1.0], [1.0, 1.0, 1.0, 1.0]]\n",
            "TRAIN INDEX [  0   1   2   3   4   5   6   7   8   9  10  11  13  14  15  16  17  19\n",
            "  20  21  22  25  26  27  28  29  30  31  32  33  35  36  37  38  39  40\n",
            "  41  42  43  44  45  46  47  48  49  50  51  52  53  54  56  57  58  59\n",
            "  60  61  62  63  64  65  66  67  68  69  70  71  72  73  74  75  76  77\n",
            "  79  80  81  82  84  85  86  87  88  89  90  91  92  94  95  97  98  99\n",
            " 100 101 102 103 104 105 106 107 108 109 111 113 114 115 116 117 118 119\n",
            " 120 121 122 123 125 126 127 128 129 130 131 132 133 134 136 137 138 139\n",
            " 140 141 142 143 144 145 146 148 149] VAL_INDEX [ 12  18  23  24  34  55  78  83  93  96 110 112 124 135 147]\n"
          ]
        },
        {
          "metadata": {
            "tags": null
          },
          "name": "stderr",
          "output_type": "stream",
          "text": [
            "/usr/local/lib/python3.7/dist-packages/ipykernel_launcher.py:18: ComplexWarning: Casting complex values to real discards the imaginary part\n"
          ]
        },
        {
          "metadata": {
            "tags": null
          },
          "name": "stdout",
          "output_type": "stream",
          "text": [
            "error i 0 0\n",
            "error i 1 4\n",
            "error i 2 1\n",
            "ACERTOS 14\n",
            "precision 0.9333333333333333 recall 0.9333333333333333 f1 0.9333333333333333\n",
            "Y TRUE [0, 0, 0, 0, 0, 1, 1, 1, 1, 1, 2, 2, 2, 2, 2] Y_PRED [0, 0, 0, 0, 0, 1, 1, 2, 1, 1, 2, 2, 2, 2, 2]\n",
            "metricas, precision, recall, f1_measure, acc [[0.9333333333333333, 0.9333333333333333, 0.9333333333333333, 0.9333333333333333], [1.0, 1.0, 1.0, 1.0], [1.0, 1.0, 1.0, 1.0], [1.0, 1.0, 1.0, 1.0], [0.9333333333333333, 0.9333333333333333, 0.9333333333333333, 0.9333333333333333]]\n",
            "TRAIN INDEX [  1   2   3   4   5   6   8   9  10  11  12  13  14  15  16  18  19  20\n",
            "  21  22  23  24  25  26  27  28  29  31  32  33  34  36  37  38  39  40\n",
            "  41  42  43  44  45  46  47  48  49  50  52  53  54  55  56  57  58  59\n",
            "  60  61  62  64  65  66  67  68  70  71  72  73  74  75  76  77  78  79\n",
            "  80  81  82  83  84  86  87  88  89  90  92  93  94  95  96  97  98  99\n",
            " 100 101 102 104 105 107 108 109 110 111 112 113 114 115 116 117 118 119\n",
            " 120 121 122 123 124 125 126 127 128 130 132 133 134 135 136 137 138 139\n",
            " 140 141 142 144 145 146 147 148 149] VAL_INDEX [  0   7  17  30  35  51  63  69  85  91 103 106 129 131 143]\n"
          ]
        },
        {
          "metadata": {
            "tags": null
          },
          "name": "stderr",
          "output_type": "stream",
          "text": [
            "/usr/local/lib/python3.7/dist-packages/ipykernel_launcher.py:18: ComplexWarning: Casting complex values to real discards the imaginary part\n"
          ]
        },
        {
          "metadata": {
            "tags": null
          },
          "name": "stdout",
          "output_type": "stream",
          "text": [
            "error i 0 0\n",
            "error i 1 4\n",
            "error i 2 3\n",
            "ACERTOS 13\n",
            "precision 0.8666666666666667 recall 0.8666666666666667 f1 0.8666666666666667\n",
            "Y TRUE [0, 0, 0, 0, 0, 1, 1, 1, 1, 1, 2, 2, 2, 2, 2] Y_PRED [0, 0, 0, 0, 0, 1, 1, 1, 1, 1, 2, 2, 1, 1, 2]\n",
            "metricas, precision, recall, f1_measure, acc [[0.9333333333333333, 0.9333333333333333, 0.9333333333333333, 0.9333333333333333], [1.0, 1.0, 1.0, 1.0], [1.0, 1.0, 1.0, 1.0], [1.0, 1.0, 1.0, 1.0], [0.9333333333333333, 0.9333333333333333, 0.9333333333333333, 0.9333333333333333], [0.8666666666666667, 0.8666666666666667, 0.8666666666666667, 0.8666666666666667]]\n",
            "TRAIN INDEX [  0   1   2   3   4   5   6   7   8  11  12  13  14  15  16  17  18  19\n",
            "  20  21  22  23  24  25  27  29  30  31  33  34  35  36  37  38  39  40\n",
            "  41  42  43  44  45  46  47  48  49  50  51  52  53  54  55  56  57  58\n",
            "  59  60  62  63  64  66  67  68  69  70  71  72  73  76  77  78  79  80\n",
            "  81  82  83  85  86  87  88  89  90  91  92  93  94  95  96  97  98  99\n",
            " 100 102 103 104 106 107 108 109 110 111 112 113 114 115 116 117 118 119\n",
            " 120 123 124 125 126 127 128 129 130 131 132 133 135 136 137 138 139 140\n",
            " 141 142 143 144 145 146 147 148 149] VAL_INDEX [  9  10  26  28  32  61  65  74  75  84 101 105 121 122 134]\n"
          ]
        },
        {
          "metadata": {
            "tags": null
          },
          "name": "stderr",
          "output_type": "stream",
          "text": [
            "/usr/local/lib/python3.7/dist-packages/ipykernel_launcher.py:18: ComplexWarning: Casting complex values to real discards the imaginary part\n"
          ]
        },
        {
          "output_type": "stream",
          "name": "stdout",
          "text": [
            "error i 0 0\n",
            "error i 1 5\n",
            "error i 2 3\n",
            "ACERTOS 14\n",
            "precision 0.9333333333333333 recall 0.9333333333333333 f1 0.9333333333333333\n",
            "Y TRUE [0, 0, 0, 0, 0, 1, 1, 1, 1, 1, 2, 2, 2, 2, 2] Y_PRED [0, 0, 0, 0, 0, 1, 1, 1, 1, 2, 2, 2, 2, 2, 2]\n",
            "metricas, precision, recall, f1_measure, acc [[0.9333333333333333, 0.9333333333333333, 0.9333333333333333, 0.9333333333333333], [1.0, 1.0, 1.0, 1.0], [1.0, 1.0, 1.0, 1.0], [1.0, 1.0, 1.0, 1.0], [0.9333333333333333, 0.9333333333333333, 0.9333333333333333, 0.9333333333333333], [0.8666666666666667, 0.8666666666666667, 0.8666666666666667, 0.8666666666666667], [0.9333333333333333, 0.9333333333333333, 0.9333333333333333, 0.9333333333333333]]\n",
            "TRAIN INDEX [  0   2   4   5   6   7   8   9  10  12  14  15  16  17  18  19  20  21\n",
            "  22  23  24  25  26  27  28  29  30  31  32  33  34  35  36  37  38  39\n",
            "  40  41  42  43  44  45  46  47  48  50  51  52  53  54  55  56  57  58\n",
            "  60  61  62  63  65  66  67  69  70  71  72  74  75  76  77  78  79  81\n",
            "  82  83  84  85  86  87  88  89  90  91  92  93  94  95  96  97  98  99\n",
            " 100 101 102 103 104 105 106 107 108 110 111 112 113 114 116 117 119 121\n",
            " 122 123 124 125 127 128 129 130 131 132 133 134 135 136 137 138 139 140\n",
            " 141 142 143 144 145 146 147 148 149] VAL_INDEX [  1   3  11  13  49  59  64  68  73  80 109 115 118 120 126]\n"
          ]
        },
        {
          "output_type": "stream",
          "name": "stderr",
          "text": [
            "/usr/local/lib/python3.7/dist-packages/ipykernel_launcher.py:18: ComplexWarning: Casting complex values to real discards the imaginary part\n"
          ]
        },
        {
          "output_type": "stream",
          "name": "stdout",
          "text": [
            "error i 0 0\n",
            "error i 1 4\n",
            "error i 2 3\n",
            "ACERTOS 15\n",
            "precision 1.0 recall 1.0 f1 1.0\n",
            "Y TRUE [0, 0, 0, 0, 0, 1, 1, 1, 1, 1, 2, 2, 2, 2, 2] Y_PRED [0, 0, 0, 0, 0, 1, 1, 1, 1, 1, 2, 2, 2, 2, 2]\n",
            "metricas, precision, recall, f1_measure, acc [[0.9333333333333333, 0.9333333333333333, 0.9333333333333333, 0.9333333333333333], [1.0, 1.0, 1.0, 1.0], [1.0, 1.0, 1.0, 1.0], [1.0, 1.0, 1.0, 1.0], [0.9333333333333333, 0.9333333333333333, 0.9333333333333333, 0.9333333333333333], [0.8666666666666667, 0.8666666666666667, 0.8666666666666667, 0.8666666666666667], [0.9333333333333333, 0.9333333333333333, 0.9333333333333333, 0.9333333333333333], [1.0, 1.0, 1.0, 1.0]]\n",
            "TRAIN INDEX [  0   1   3   4   5   6   7   8   9  10  11  12  13  14  16  17  18  19\n",
            "  21  22  23  24  25  26  27  28  29  30  32  33  34  35  36  37  38  39\n",
            "  40  41  42  43  44  45  46  47  49  50  51  53  54  55  56  58  59  61\n",
            "  62  63  64  65  66  67  68  69  70  71  72  73  74  75  76  77  78  79\n",
            "  80  82  83  84  85  87  88  89  90  91  92  93  94  95  96  97  98  99\n",
            " 100 101 103 104 105 106 107 108 109 110 111 112 113 114 115 116 117 118\n",
            " 120 121 122 123 124 125 126 127 128 129 130 131 132 134 135 138 139 140\n",
            " 141 142 143 144 145 146 147 148 149] VAL_INDEX [  2  15  20  31  48  52  57  60  81  86 102 119 133 136 137]\n"
          ]
        },
        {
          "output_type": "stream",
          "name": "stderr",
          "text": [
            "/usr/local/lib/python3.7/dist-packages/ipykernel_launcher.py:18: ComplexWarning: Casting complex values to real discards the imaginary part\n"
          ]
        },
        {
          "output_type": "stream",
          "name": "stdout",
          "text": [
            "error i 0 0\n",
            "error i 1 5\n",
            "error i 2 4\n",
            "ACERTOS 14\n",
            "precision 0.9333333333333333 recall 0.9333333333333333 f1 0.9333333333333333\n",
            "Y TRUE [0, 0, 0, 0, 0, 1, 1, 1, 1, 1, 2, 2, 2, 2, 2] Y_PRED [0, 0, 0, 0, 0, 1, 1, 1, 1, 1, 2, 2, 1, 2, 2]\n",
            "metricas, precision, recall, f1_measure, acc [[0.9333333333333333, 0.9333333333333333, 0.9333333333333333, 0.9333333333333333], [1.0, 1.0, 1.0, 1.0], [1.0, 1.0, 1.0, 1.0], [1.0, 1.0, 1.0, 1.0], [0.9333333333333333, 0.9333333333333333, 0.9333333333333333, 0.9333333333333333], [0.8666666666666667, 0.8666666666666667, 0.8666666666666667, 0.8666666666666667], [0.9333333333333333, 0.9333333333333333, 0.9333333333333333, 0.9333333333333333], [1.0, 1.0, 1.0, 1.0], [0.9333333333333333, 0.9333333333333333, 0.9333333333333333, 0.9333333333333333]]\n",
            "TRAIN INDEX [  0   1   2   3   4   5   7   9  10  11  12  13  14  15  17  18  19  20\n",
            "  21  23  24  25  26  27  28  29  30  31  32  33  34  35  36  37  39  40\n",
            "  41  42  43  44  45  46  47  48  49  50  51  52  53  54  55  56  57  59\n",
            "  60  61  62  63  64  65  66  67  68  69  71  72  73  74  75  77  78  79\n",
            "  80  81  83  84  85  86  87  88  89  90  91  92  93  94  96  97  98  99\n",
            " 100 101 102 103 104 105 106 107 109 110 111 112 113 115 116 117 118 119\n",
            " 120 121 122 123 124 125 126 127 128 129 130 131 132 133 134 135 136 137\n",
            " 138 140 141 143 144 145 147 148 149] VAL_INDEX [  6   8  16  22  38  58  70  76  82  95 108 114 139 142 146]\n"
          ]
        },
        {
          "output_type": "stream",
          "name": "stderr",
          "text": [
            "/usr/local/lib/python3.7/dist-packages/ipykernel_launcher.py:18: ComplexWarning: Casting complex values to real discards the imaginary part\n"
          ]
        },
        {
          "output_type": "stream",
          "name": "stdout",
          "text": [
            "error i 0 0\n",
            "error i 1 4\n",
            "error i 2 3\n",
            "ACERTOS 14\n",
            "precision 0.9333333333333333 recall 0.9333333333333333 f1 0.9333333333333333\n",
            "Y TRUE [0, 0, 0, 0, 0, 1, 1, 1, 1, 1, 2, 2, 2, 2, 2] Y_PRED [0, 0, 0, 0, 0, 1, 2, 1, 1, 1, 2, 2, 2, 2, 2]\n",
            "metricas, precision, recall, f1_measure, acc [[0.9333333333333333, 0.9333333333333333, 0.9333333333333333, 0.9333333333333333], [1.0, 1.0, 1.0, 1.0], [1.0, 1.0, 1.0, 1.0], [1.0, 1.0, 1.0, 1.0], [0.9333333333333333, 0.9333333333333333, 0.9333333333333333, 0.9333333333333333], [0.8666666666666667, 0.8666666666666667, 0.8666666666666667, 0.8666666666666667], [0.9333333333333333, 0.9333333333333333, 0.9333333333333333, 0.9333333333333333], [1.0, 1.0, 1.0, 1.0], [0.9333333333333333, 0.9333333333333333, 0.9333333333333333, 0.9333333333333333], [0.9333333333333333, 0.9333333333333333, 0.9333333333333333, 0.9333333333333333]]\n"
          ]
        }
      ]
    },
    {
      "cell_type": "code",
      "source": [
        "measures = metrics\n",
        "\n",
        "avg_metrics(measures)"
      ],
      "metadata": {
        "id": "9rThlHhe9Btu",
        "colab": {
          "base_uri": "https://localhost:8080/"
        },
        "outputId": "16b0e8cd-c8ff-4a1c-8ca2-0b2e5be9391a"
      },
      "execution_count": null,
      "outputs": [
        {
          "output_type": "stream",
          "name": "stdout",
          "text": [
            "acc 0.8133333333333332\n",
            "precision 0.8133333333333332\n",
            "recall 0.8133333333333332\n",
            "f1_measure 0.8133333333333332\n"
          ]
        }
      ]
    },
    {
      "cell_type": "code",
      "source": [
        "iris = datasets.load_iris()\n",
        "\n",
        "X = iris.data\n",
        "# normalize the data attributes\n",
        "#iris['data'] = -1*min_max_scaling(pd.DataFrame(X))#-1*preprocessing.normalize(X)\n",
        "\n",
        "X_iris = pd.DataFrame(data= iris['data'],\n",
        "                      columns= iris['feature_names'])\n",
        "y_iris = pd.DataFrame(data= iris['target'],\n",
        "                      columns= ['target'])\n",
        "\n",
        "X_iris  = min_max_scaling_type_2(X_iris)\n",
        "#X_iris = pd.Pandas(iris['data'])\n",
        "#y_iris = iris['target']\n",
        "\n",
        "list_of_trainned_w, metrics = training_k_fold_classifier(kfold=10, X=X_iris, y=y_iris, Nsteps=2000, batch_size=1, n_learning_rate=0.009,features_names =iris['feature_names'], classes=[0,1,2],random_state=1) "
      ],
      "metadata": {
        "id": "HSjgAHkKxdBG"
      },
      "execution_count": null,
      "outputs": []
    },
    {
      "cell_type": "code",
      "source": [
        "measures = metrics\n",
        "\n",
        "avg_metrics(measures)"
      ],
      "metadata": {
        "id": "Gqf7L4GjxdMZ"
      },
      "execution_count": null,
      "outputs": []
    },
    {
      "cell_type": "code",
      "source": [],
      "metadata": {
        "id": "zGScHDPMxdUD"
      },
      "execution_count": null,
      "outputs": []
    },
    {
      "cell_type": "code",
      "source": [
        "X = np.array([[-0.5, -0.7, -0.9, -1], [-0.0, -0.2, -0.1, -0.2]])\n",
        "Y = np.array([[0],[1]])\n",
        "w = [-0.1 for i in range(len(X[0]))]\n",
        "w, error = training_nsteps_classifier(X,Y, w, Nsteps=100, n=0.01, stop_error_zero=False)\n",
        "print(w, error)"
      ],
      "metadata": {
        "id": "98c2T3gi7HP6"
      },
      "execution_count": null,
      "outputs": []
    },
    {
      "cell_type": "code",
      "source": [],
      "metadata": {
        "id": "pLdRJRqq-LoY"
      },
      "execution_count": null,
      "outputs": []
    },
    {
      "cell_type": "code",
      "source": [
        "db1, db2, db3 = replicate_classes()"
      ],
      "metadata": {
        "id": "Ke7-ZxqYjzhl"
      },
      "execution_count": null,
      "outputs": []
    },
    {
      "cell_type": "code",
      "source": [
        "iris = datasets.load_iris()\n",
        "X = db1[iris['feature_names']]\n",
        "y = db1['target']\n",
        "\n",
        "w, errors = training_k_fold_classifier(kfold=2, X=X, y=y, random_state=42)"
      ],
      "metadata": {
        "id": "ddY5XI0LkKCZ"
      },
      "execution_count": null,
      "outputs": []
    },
    {
      "cell_type": "code",
      "source": [
        "#y_class_1.value_counts()\n",
        "#y_class_1[y_class_1[\"target\"]==0]\n",
        "#pd.DataFrame(data = iris['data'], columns = ['feature_names', 'target']).copy()\n",
        "#iris = datasets.load_iris()# Loading the predictor value (y) and remainder of the training dataset (X) as Pandas DataFrames\n",
        "\n",
        "#data1 = pd.DataFrame(data= np.c_[iris['data'], iris['target']],\n",
        "                     #columns= iris['feature_names'] + ['target'])#\n",
        "#data1"
      ],
      "metadata": {
        "id": "Nr_S12nA-PQZ"
      },
      "execution_count": null,
      "outputs": []
    },
    {
      "cell_type": "code",
      "source": [
        "#X = pd.DataFrame(data = iris['data'], columns = iris['feature_names'])\n",
        "#X = pd.DataFrame(-1*preprocessing.normalize(X))"
      ],
      "metadata": {
        "id": "7ZQyGn1G-kp_"
      },
      "execution_count": null,
      "outputs": []
    },
    {
      "cell_type": "code",
      "source": [
        "#X"
      ],
      "metadata": {
        "id": "aVVH_hqiRko0"
      },
      "execution_count": null,
      "outputs": []
    },
    {
      "cell_type": "code",
      "source": [
        "#y_class_2[\"target\"].value_counts()\n"
      ],
      "metadata": {
        "id": "yjE7GG6bGumq"
      },
      "execution_count": null,
      "outputs": []
    },
    {
      "cell_type": "code",
      "source": [
        "from sklearn.metrics import confusion_matrix\n",
        "from sklearn.metrics import precision_score, recall_score, f1_score\n",
        "\n",
        "cm = confusion_matrix([0,1,2], [0,1,2])"
      ],
      "metadata": {
        "id": "eecfyo4oRLHi"
      },
      "execution_count": null,
      "outputs": []
    },
    {
      "cell_type": "code",
      "source": [
        "cm"
      ],
      "metadata": {
        "id": "9YvcwudnjeNL"
      },
      "execution_count": null,
      "outputs": []
    },
    {
      "cell_type": "code",
      "source": [],
      "metadata": {
        "id": "g7wxEZo5jkPC"
      },
      "execution_count": null,
      "outputs": []
    },
    {
      "cell_type": "code",
      "source": [
        "recall"
      ],
      "metadata": {
        "id": "x3Et0qTzkD_A"
      },
      "execution_count": null,
      "outputs": []
    },
    {
      "cell_type": "code",
      "source": [],
      "metadata": {
        "id": "29tpqAYXko6h"
      },
      "execution_count": null,
      "outputs": []
    }
  ]
}