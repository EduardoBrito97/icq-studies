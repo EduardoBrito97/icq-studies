{
 "cells": [
  {
   "cell_type": "code",
   "execution_count": 1,
   "metadata": {},
   "outputs": [],
   "source": [
    "import sympy\n",
    "from sympy import Matrix, exp, simplify, Trace\n",
    "from sympy.physics.quantum.trace import Tr\n",
    "from sympy.physics.quantum.dagger import Dagger\n",
    "from sympy.physics.quantum import TensorProduct\n",
    "from helpers.icq_methods import *"
   ]
  },
  {
   "cell_type": "code",
   "execution_count": 2,
   "metadata": {},
   "outputs": [],
   "source": [
    "from helpers.icq_methods import *"
   ]
  },
  {
   "cell_type": "code",
   "execution_count": 3,
   "metadata": {},
   "outputs": [
    {
     "data": {
      "text/latex": [
       "$\\displaystyle \\left[\\begin{matrix}1.0 & 1.0 - 1.0 i\\\\1.0 + 1.0 i & -1.0\\end{matrix}\\right]$"
      ],
      "text/plain": [
       "Matrix([\n",
       "[        1.0, 1.0 - 1.0*I],\n",
       "[1.0 + 1.0*I,        -1.0]])"
      ]
     },
     "execution_count": 3,
     "metadata": {},
     "output_type": "execute_result"
    }
   ],
   "source": [
    "sigma_q = get_sigmaQ(2)\n",
    "Matrix(sigma_q)"
   ]
  },
  {
   "cell_type": "code",
   "execution_count": 4,
   "metadata": {},
   "outputs": [
    {
     "data": {
      "text/latex": [
       "$\\displaystyle \\left[\\begin{matrix}1 & 1.0 - 1.0 i\\\\1.0 + 1.0 i & -1\\end{matrix}\\right]$"
      ],
      "text/plain": [
       "Matrix([\n",
       "[          1, 1.0 - 1.0*I],\n",
       "[1.0 + 1.0*I,          -1]])"
      ]
     },
     "execution_count": 4,
     "metadata": {},
     "output_type": "execute_result"
    }
   ],
   "source": [
    "sigma_q_sympy = Matrix([\n",
    "    [1, (1 - 1j)],\n",
    "    [(1j + 1), -1]\n",
    "])\n",
    "sigma_q_sympy"
   ]
  },
  {
   "cell_type": "code",
   "execution_count": 5,
   "metadata": {},
   "outputs": [],
   "source": [
    "vector_i = [-1, -0.5]\n",
    "vector_w = [-0.5, -0.25]"
   ]
  },
  {
   "cell_type": "code",
   "execution_count": 6,
   "metadata": {},
   "outputs": [
    {
     "data": {
      "text/latex": [
       "$\\displaystyle \\left[\\begin{matrix}0.5 & 0\\\\0 & 0.125\\end{matrix}\\right]$"
      ],
      "text/plain": [
       "Matrix([\n",
       "[0.5,     0],\n",
       "[  0, 0.125]])"
      ]
     },
     "execution_count": 6,
     "metadata": {},
     "output_type": "execute_result"
    }
   ],
   "source": [
    "sigma_e = get_sigmaE(vector_i, vector_w)\n",
    "Matrix(sigma_e)"
   ]
  },
  {
   "cell_type": "code",
   "execution_count": 7,
   "metadata": {},
   "outputs": [
    {
     "data": {
      "text/latex": [
       "$\\displaystyle \\left[\\begin{matrix}0.5 & 0\\\\0 & 0.125\\end{matrix}\\right]$"
      ],
      "text/plain": [
       "Matrix([\n",
       "[0.5,     0],\n",
       "[  0, 0.125]])"
      ]
     },
     "execution_count": 7,
     "metadata": {},
     "output_type": "execute_result"
    }
   ],
   "source": [
    "sigma_e_sympy = Matrix([\n",
    "    [vector_i[0]*vector_w[0], 0],\n",
    "    [0, vector_i[1]*vector_w[1]]\n",
    "    ])\n",
    "sigma_e_sympy"
   ]
  },
  {
   "cell_type": "code",
   "execution_count": 8,
   "metadata": {},
   "outputs": [
    {
     "data": {
      "text/latex": [
       "$\\displaystyle \\left[\\begin{matrix}0.5 i & 0 & 1.0 i \\left(0.5 - 0.5 i\\right) & 0\\\\0 & 0.125 i & 0 & 1.0 i \\left(0.125 - 0.125 i\\right)\\\\1.0 i \\left(0.5 + 0.5 i\\right) & 0 & - 0.5 i & 0\\\\0 & 1.0 i \\left(0.125 + 0.125 i\\right) & 0 & - 0.125 i\\end{matrix}\\right]$"
      ],
      "text/plain": [
       "Matrix([\n",
       "[              0.5*I,                       0, 1.0*I*(0.5 - 0.5*I),                       0],\n",
       "[                  0,                 0.125*I,                   0, 1.0*I*(0.125 - 0.125*I)],\n",
       "[1.0*I*(0.5 + 0.5*I),                       0,              -0.5*I,                       0],\n",
       "[                  0, 1.0*I*(0.125 + 0.125*I),                   0,                -0.125*I]])"
      ]
     },
     "execution_count": 8,
     "metadata": {},
     "output_type": "execute_result"
    }
   ],
   "source": [
    "1j*Matrix(np.kron(sigma_q, sigma_e))"
   ]
  },
  {
   "cell_type": "code",
   "execution_count": 9,
   "metadata": {},
   "outputs": [
    {
     "data": {
      "text/latex": [
       "$\\displaystyle \\left[\\begin{matrix}0.5 i & 0 & 1.0 i \\left(0.5 - 0.5 i\\right) & 0\\\\0 & 0.125 i & 0 & 1.0 i \\left(0.125 - 0.125 i\\right)\\\\1.0 i \\left(0.5 + 0.5 i\\right) & 0 & - 0.5 i & 0\\\\0 & 1.0 i \\left(0.125 + 0.125 i\\right) & 0 & - 0.125 i\\end{matrix}\\right]$"
      ],
      "text/plain": [
       "Matrix([\n",
       "[              0.5*I,                       0, 1.0*I*(0.5 - 0.5*I),                       0],\n",
       "[                  0,                 0.125*I,                   0, 1.0*I*(0.125 - 0.125*I)],\n",
       "[1.0*I*(0.5 + 0.5*I),                       0,              -0.5*I,                       0],\n",
       "[                  0, 1.0*I*(0.125 + 0.125*I),                   0,                -0.125*I]])"
      ]
     },
     "execution_count": 9,
     "metadata": {},
     "output_type": "execute_result"
    }
   ],
   "source": [
    "1j*TensorProduct(sigma_q_sympy, sigma_e_sympy)"
   ]
  },
  {
   "cell_type": "code",
   "execution_count": 10,
   "metadata": {},
   "outputs": [
    {
     "data": {
      "text/latex": [
       "$\\displaystyle \\left[\\begin{matrix}0.647859344852457 + 0.439802330328579 i & 0 & 0.439802330328579 + 0.439802330328579 i & 0\\\\0 & 0.976653909802907 + 0.124025723765537 i & 0 & 0.124025723765537 + 0.124025723765537 i\\\\-0.439802330328579 + 0.439802330328579 i & 0 & 0.647859344852457 - 0.439802330328579 i & 0\\\\0 & -0.124025723765537 + 0.124025723765537 i & 0 & 0.976653909802907 - 0.124025723765537 i\\end{matrix}\\right]$"
      ],
      "text/plain": [
       "Matrix([\n",
       "[ 0.647859344852457 + 0.439802330328579*I,                                        0, 0.439802330328579 + 0.439802330328579*I,                                       0],\n",
       "[                                       0,  0.976653909802907 + 0.124025723765537*I,                                       0, 0.124025723765537 + 0.124025723765537*I],\n",
       "[-0.439802330328579 + 0.439802330328579*I,                                        0, 0.647859344852457 - 0.439802330328579*I,                                       0],\n",
       "[                                       0, -0.124025723765537 + 0.124025723765537*I,                                       0, 0.976653909802907 - 0.124025723765537*I]])"
      ]
     },
     "execution_count": 10,
     "metadata": {},
     "output_type": "execute_result"
    }
   ],
   "source": [
    "u_operator = get_U_operator(sigma_q, sigma_e)\n",
    "Matrix(u_operator)"
   ]
  },
  {
   "cell_type": "code",
   "execution_count": 11,
   "metadata": {},
   "outputs": [
    {
     "data": {
      "text/latex": [
       "$\\displaystyle \\left[\\begin{matrix}0.647859344852457 + 0.439802330328579 i & 0 & 0.439802330328579 + 0.439802330328579 i & 0\\\\0 & 0.976653909802907 + 0.124025723765537 i & 0 & 0.124025723765537 + 0.124025723765537 i\\\\-0.439802330328579 + 0.439802330328579 i & 0 & 0.647859344852457 - 0.439802330328579 i & 0\\\\0 & -0.124025723765537 + 0.124025723765537 i & 0 & 0.976653909802907 - 0.124025723765537 i\\end{matrix}\\right]$"
      ],
      "text/plain": [
       "Matrix([\n",
       "[ 0.647859344852457 + 0.439802330328579*I,                                        0, 0.439802330328579 + 0.439802330328579*I,                                       0],\n",
       "[                                       0,  0.976653909802907 + 0.124025723765537*I,                                       0, 0.124025723765537 + 0.124025723765537*I],\n",
       "[-0.439802330328579 + 0.439802330328579*I,                                        0, 0.647859344852457 - 0.439802330328579*I,                                       0],\n",
       "[                                       0, -0.124025723765537 + 0.124025723765537*I,                                       0, 0.976653909802907 - 0.124025723765537*I]])"
      ]
     },
     "execution_count": 11,
     "metadata": {},
     "output_type": "execute_result"
    }
   ],
   "source": [
    "# TensorProduct = Kroenecker product: https://docs.sympy.org/latest/modules/physics/quantum/tensorproduct.html\n",
    "# exp = matrix exponential https://stackoverflow.com/questions/47240208/sympy-symbolic-matrix-exponential\n",
    "u_operator_sympy = Matrix(1j*TensorProduct(sigma_q_sympy, sigma_e_sympy)).exp()\n",
    "u_operator_sympy.evalf()"
   ]
  },
  {
   "cell_type": "code",
   "execution_count": 12,
   "metadata": {},
   "outputs": [],
   "source": [
    "p_cog = get_p([[1/np.sqrt(2)],[1/np.sqrt(2)]])\n",
    "p_env = np.matrix([\n",
    "    [1/2, 1/2],\n",
    "    [1/2, 1/2]\n",
    "    ])"
   ]
  },
  {
   "cell_type": "code",
   "execution_count": 13,
   "metadata": {},
   "outputs": [
    {
     "data": {
      "text/latex": [
       "$\\displaystyle \\left[\\begin{matrix}0.25 & 0.25 & 0.25 & 0.25\\\\0.25 & 0.25 & 0.25 & 0.25\\\\0.25 & 0.25 & 0.25 & 0.25\\\\0.25 & 0.25 & 0.25 & 0.25\\end{matrix}\\right]$"
      ],
      "text/plain": [
       "Matrix([\n",
       "[0.25, 0.25, 0.25, 0.25],\n",
       "[0.25, 0.25, 0.25, 0.25],\n",
       "[0.25, 0.25, 0.25, 0.25],\n",
       "[0.25, 0.25, 0.25, 0.25]])"
      ]
     },
     "execution_count": 13,
     "metadata": {},
     "output_type": "execute_result"
    }
   ],
   "source": [
    "Matrix(np.kron(p_cog, p_env))"
   ]
  },
  {
   "cell_type": "code",
   "execution_count": 14,
   "metadata": {},
   "outputs": [
    {
     "data": {
      "text/latex": [
       "$\\displaystyle \\left[\\begin{matrix}0.25 & 0.25 & 0.25 & 0.25\\\\0.25 & 0.25 & 0.25 & 0.25\\\\0.25 & 0.25 & 0.25 & 0.25\\\\0.25 & 0.25 & 0.25 & 0.25\\end{matrix}\\right]$"
      ],
      "text/plain": [
       "Matrix([\n",
       "[0.25, 0.25, 0.25, 0.25],\n",
       "[0.25, 0.25, 0.25, 0.25],\n",
       "[0.25, 0.25, 0.25, 0.25],\n",
       "[0.25, 0.25, 0.25, 0.25]])"
      ]
     },
     "execution_count": 14,
     "metadata": {},
     "output_type": "execute_result"
    }
   ],
   "source": [
    "Matrix(TensorProduct(p_cog, p_env))"
   ]
  },
  {
   "cell_type": "code",
   "execution_count": 15,
   "metadata": {},
   "outputs": [
    {
     "data": {
      "text/latex": [
       "$\\displaystyle \\left[\\begin{matrix}0.647859344852457 - 0.439802330328579 i & 0 & -0.439802330328579 - 0.439802330328579 i & 0\\\\0 & 0.976653909802907 - 0.124025723765537 i & 0 & -0.124025723765537 - 0.124025723765537 i\\\\0.439802330328579 - 0.439802330328579 i & 0 & 0.647859344852457 + 0.439802330328579 i & 0\\\\0 & 0.124025723765537 - 0.124025723765537 i & 0 & 0.976653909802907 + 0.124025723765537 i\\end{matrix}\\right]$"
      ],
      "text/plain": [
       "Matrix([\n",
       "[0.647859344852457 - 0.439802330328579*I,                                       0, -0.439802330328579 - 0.439802330328579*I,                                        0],\n",
       "[                                      0, 0.976653909802907 - 0.124025723765537*I,                                        0, -0.124025723765537 - 0.124025723765537*I],\n",
       "[0.439802330328579 - 0.439802330328579*I,                                       0,  0.647859344852457 + 0.439802330328579*I,                                        0],\n",
       "[                                      0, 0.124025723765537 - 0.124025723765537*I,                                        0,  0.976653909802907 + 0.124025723765537*I]])"
      ]
     },
     "execution_count": 15,
     "metadata": {},
     "output_type": "execute_result"
    }
   ],
   "source": [
    "Matrix(u_operator.getH())"
   ]
  },
  {
   "cell_type": "code",
   "execution_count": 16,
   "metadata": {},
   "outputs": [
    {
     "data": {
      "text/latex": [
       "$\\displaystyle \\left[\\begin{matrix}0.647859344852457 - 0.439802330328579 i & 0 & -0.439802330328579 - 0.439802330328579 i & 0\\\\0 & 0.976653909802907 - 0.124025723765537 i & 0 & -0.124025723765537 - 0.124025723765537 i\\\\0.439802330328579 - 0.439802330328579 i & 0 & 0.647859344852457 + 0.439802330328579 i & 0\\\\0 & 0.124025723765537 - 0.124025723765537 i & 0 & 0.976653909802907 + 0.124025723765537 i\\end{matrix}\\right]$"
      ],
      "text/plain": [
       "Matrix([\n",
       "[0.647859344852457 - 0.439802330328579*I,                                       0, -0.439802330328579 - 0.439802330328579*I,                                        0],\n",
       "[                                      0, 0.976653909802907 - 0.124025723765537*I,                                        0, -0.124025723765537 - 0.124025723765537*I],\n",
       "[0.439802330328579 - 0.439802330328579*I,                                       0,  0.647859344852457 + 0.439802330328579*I,                                        0],\n",
       "[                                      0, 0.124025723765537 - 0.124025723765537*I,                                        0,  0.976653909802907 + 0.124025723765537*I]])"
      ]
     },
     "execution_count": 16,
     "metadata": {},
     "output_type": "execute_result"
    }
   ],
   "source": [
    "Matrix(simplify(Dagger(u_operator_sympy)).evalf())"
   ]
  },
  {
   "cell_type": "code",
   "execution_count": 17,
   "metadata": {},
   "outputs": [
    {
     "data": {
      "text/latex": [
       "$\\displaystyle \\left[\\begin{matrix}0.489178069676853 + 6.93889390390723 \\cdot 10^{-18} i & 0.353838565853947 + 0.174591720656122 i & 0.0565739102375516 + 0.0457519799144043 i & 0.231842750282993 + 0.187493931561532 i\\\\0.353838565853947 - 0.174591720656122 i & 0.318256294093656 + 3.46944695195361 \\cdot 10^{-18} i & 0.0572510296268716 + 0.0129022109054104 i & 0.234617619844435 + 0.0528739139380908 i\\\\0.0565739102375516 - 0.0457519799144043 i & 0.0572510296268716 - 0.0129022109054104 i & 0.0108219303231473 & 0.0443488187214612 - 2.60208521396521 \\cdot 10^{-18} i\\\\0.231842750282993 - 0.187493931561532 i & 0.234617619844435 - 0.0528739139380908 i & 0.0443488187214612 & 0.181743705906344\\end{matrix}\\right]$"
      ],
      "text/plain": [
       "Matrix([\n",
       "[0.489178069676853 + 6.93889390390723e-18*I,    0.353838565853947 + 0.174591720656122*I, 0.0565739102375516 + 0.0457519799144043*I,     0.231842750282993 + 0.187493931561532*I],\n",
       "[   0.353838565853947 - 0.174591720656122*I, 0.318256294093656 + 3.46944695195361e-18*I, 0.0572510296268716 + 0.0129022109054104*I,    0.234617619844435 + 0.0528739139380908*I],\n",
       "[ 0.0565739102375516 - 0.0457519799144043*I,  0.0572510296268716 - 0.0129022109054104*I,                        0.0108219303231473, 0.0443488187214612 - 2.60208521396521e-18*I],\n",
       "[   0.231842750282993 - 0.187493931561532*I,   0.234617619844435 - 0.0528739139380908*I,                        0.0443488187214612,                           0.181743705906344]])"
      ]
     },
     "execution_count": 17,
     "metadata": {},
     "output_type": "execute_result"
    }
   ],
   "source": [
    "quantum_operation = np.array(u_operator * (np.kron(p_cog, p_env)) * u_operator.getH())\n",
    "Matrix(quantum_operation)"
   ]
  },
  {
   "cell_type": "code",
   "execution_count": 18,
   "metadata": {},
   "outputs": [
    {
     "data": {
      "text/latex": [
       "$\\displaystyle \\left[\\begin{matrix}0.489178069676853 - 2.88 \\cdot 10^{-18} i & 0.353838565853947 + 0.174591720656122 i & 0.0565739102375516 + 0.0457519799144043 i & 0.231842750282993 + 0.187493931561532 i\\\\0.353838565853947 - 0.174591720656122 i & 0.318256294093656 - 3.12 \\cdot 10^{-18} i & 0.0572510296268716 + 0.0129022109054104 i & 0.234617619844435 + 0.0528739139380908 i\\\\0.0565739102375516 - 0.0457519799144043 i & 0.0572510296268716 - 0.0129022109054104 i & 0.0108219303231473 + 1.52 \\cdot 10^{-18} i & 0.0443488187214612 + 2.677 \\cdot 10^{-18} i\\\\0.231842750282993 - 0.187493931561532 i & 0.234617619844435 - 0.0528739139380908 i & 0.0443488187214612 + 3.98 \\cdot 10^{-18} i & 0.181743705906344 + 1.76 \\cdot 10^{-18} i\\end{matrix}\\right]$"
      ],
      "text/plain": [
       "Matrix([\n",
       "[           0.489178069676853 - 2.88e-18*I,   0.353838565853947 + 0.174591720656122*I, 0.0565739102375516 + 0.0457519799144043*I,  0.231842750282993 + 0.187493931561532*I],\n",
       "[  0.353838565853947 - 0.174591720656122*I,            0.318256294093656 - 3.12e-18*I, 0.0572510296268716 + 0.0129022109054104*I, 0.234617619844435 + 0.0528739139380908*I],\n",
       "[0.0565739102375516 - 0.0457519799144043*I, 0.0572510296268716 - 0.0129022109054104*I,           0.0108219303231473 + 1.52e-18*I,         0.0443488187214612 + 2.677e-18*I],\n",
       "[  0.231842750282993 - 0.187493931561532*I,  0.234617619844435 - 0.0528739139380908*I,           0.0443488187214612 + 3.98e-18*I,           0.181743705906344 + 1.76e-18*I]])"
      ]
     },
     "execution_count": 18,
     "metadata": {},
     "output_type": "execute_result"
    }
   ],
   "source": [
    "quantum_operation_sympy = u_operator_sympy * TensorProduct(p_cog, p_env) * Dagger(u_operator_sympy)\n",
    "quantum_operation_sympy.evalf().doit()"
   ]
  },
  {
   "cell_type": "code",
   "execution_count": 19,
   "metadata": {},
   "outputs": [
    {
     "data": {
      "text/latex": [
       "$\\displaystyle \\left[\\begin{matrix}0.807434363770509 + 1.04083408558608 \\cdot 10^{-17} i & 0.291191530081986 + 0.0986258938524951 i\\\\0.291191530081986 - 0.0986258938524951 i & 0.192565636229491\\end{matrix}\\right]$"
      ],
      "text/plain": [
       "Matrix([\n",
       "[0.807434363770509 + 1.04083408558608e-17*I, 0.291191530081986 + 0.0986258938524951*I],\n",
       "[  0.291191530081986 - 0.0986258938524951*I,                        0.192565636229491]])"
      ]
     },
     "execution_count": 19,
     "metadata": {},
     "output_type": "execute_result"
    }
   ],
   "source": [
    "p_cog_new = np.trace(quantum_operation.reshape([2,2,2,2]), axis1=1, axis2=3)\n",
    "Matrix(p_cog_new)"
   ]
  },
  {
   "cell_type": "code",
   "execution_count": 20,
   "metadata": {},
   "outputs": [
    {
     "data": {
      "text/latex": [
       "$\\displaystyle 1.0 - 2.72 \\cdot 10^{-18} i$"
      ],
      "text/plain": [
       "1.0 - 2.72e-18*I"
      ]
     },
     "execution_count": 20,
     "metadata": {},
     "output_type": "execute_result"
    }
   ],
   "source": [
    "p_cog_new_sympy = Tr(quantum_operation_sympy.evalf(), [0,0])\n",
    "p_cog_new_sympy"
   ]
  },
  {
   "cell_type": "code",
   "execution_count": 21,
   "metadata": {},
   "outputs": [
    {
     "data": {
      "text/plain": [
       "0.8074343637705088"
      ]
     },
     "execution_count": 21,
     "metadata": {},
     "output_type": "execute_result"
    }
   ],
   "source": [
    "result = p_cog_new[0,0]\n",
    "np.real(result)"
   ]
  },
  {
   "cell_type": "code",
   "execution_count": 22,
   "metadata": {},
   "outputs": [
    {
     "data": {
      "text/plain": [
       "0.8074343637705088"
      ]
     },
     "execution_count": 22,
     "metadata": {},
     "output_type": "execute_result"
    }
   ],
   "source": [
    "result_sympy = complex(quantum_operation_sympy.evalf()[0,0] + quantum_operation_sympy.evalf()[1,1])\n",
    "np.real(result_sympy)"
   ]
  },
  {
   "cell_type": "code",
   "execution_count": 23,
   "metadata": {},
   "outputs": [
    {
     "data": {
      "text/latex": [
       "$\\displaystyle \\left[\\begin{matrix}1.0 \\cdot \\left(0.0846979157347158 + 0.778443372086434 i\\right) \\left(0.647859344852457 - 0.761759981416289 i\\right) & 0.288675134594813 \\cdot \\left(0.647859344852457 - 0.761759981416289 i\\right) \\left(-1 + i + \\left(1 - i\\right) e^{1.73205080756888 i}\\right)\\\\\\left(0.647859344852457 - 0.761759981416289 i\\right) \\left(-0.288675134594813 - 0.288675134594813 i + 0.288675134594813 \\cdot \\left(1 + i\\right) e^{1.73205080756888 i}\\right) & \\left(0.647859344852457 - 0.761759981416289 i\\right) \\left(0.754745545690594 + 0.20858327290392 i\\right)\\end{matrix}\\right]$"
      ],
      "text/plain": [
       "Matrix([\n",
       "[                                                1.0*(0.0846979157347158 + 0.778443372086434*I)*(0.647859344852457 - 0.761759981416289*I), 0.288675134594813*(0.647859344852457 - 0.761759981416289*I)*(-1 + I + (1 - I)*exp(1.73205080756888*I))],\n",
       "[(0.647859344852457 - 0.761759981416289*I)*(-0.288675134594813 - 0.288675134594813*I + 0.288675134594813*(1 + I)*exp(1.73205080756888*I)),                     (0.647859344852457 - 0.761759981416289*I)*(0.754745545690594 + 0.20858327290392*I)]])"
      ]
     },
     "execution_count": 23,
     "metadata": {},
     "output_type": "execute_result"
    }
   ],
   "source": [
    "p_cog = Matrix([\n",
    "        [1/2,1/2],\n",
    "        [1/2,1/2]\n",
    "        ])\n",
    "p_env = Matrix([\n",
    "    [1]\n",
    "])\n",
    "sigma_e_sympy = Matrix([[vector_i[0]*vector_w[0]]])\n",
    "\n",
    "u_operator_sympy = Matrix(1j*TensorProduct(sigma_q_sympy, sigma_e_sympy)).exp()\n",
    "simplify(u_operator_sympy)"
   ]
  },
  {
   "cell_type": "code",
   "execution_count": 24,
   "metadata": {},
   "outputs": [
    {
     "data": {
      "text/latex": [
       "$\\displaystyle \\left[\\begin{matrix}1.0 \\cdot \\left(0.084737 + 0.7785 i\\right) \\left(0.6479 - 0.7617 i\\right) & \\left(0.6479 - 0.7617 i\\right) \\left(-0.2887 + 0.2887 i + 0.28864 \\cdot \\left(1 - i\\right) e^{1.732 i}\\right)\\\\0.288700103759766 \\cdot \\left(0.6479 - 0.7617 i\\right) \\left(-1 - i + \\left(1 + i\\right) e^{1.732 i}\\right) & \\left(0.6479 - 0.7617 i\\right) \\left(0.7548 + 0.2086 i\\right)\\end{matrix}\\right]$"
      ],
      "text/plain": [
       "Matrix([\n",
       "[                        1.0*(0.084737 + 0.7785*I)*(0.6479 - 0.7617*I), (0.6479 - 0.7617*I)*(-0.2887 + 0.2887*I + 0.28864*(1 - I)*exp(1.732*I))],\n",
       "[0.288700103759766*(0.6479 - 0.7617*I)*(-1 - I + (1 + I)*exp(1.732*I)),                                 (0.6479 - 0.7617*I)*(0.7548 + 0.2086*I)]])"
      ]
     },
     "execution_count": 24,
     "metadata": {},
     "output_type": "execute_result"
    }
   ],
   "source": [
    "op = u_operator_sympy\n",
    "for elemnt in sympy.preorder_traversal(u_operator_sympy):\n",
    "    if isinstance(elemnt, sympy.Float):\n",
    "        op = op.subs(elemnt, round(elemnt, 4))\n",
    "simplify(op)"
   ]
  },
  {
   "cell_type": "code",
   "execution_count": 25,
   "metadata": {},
   "outputs": [
    {
     "data": {
      "text/latex": [
       "$\\displaystyle \\left(\\left(0.538675134594813 - 0.144337567297406 i\\right) e^{3.46410161513775 i a w} - 0.0386751345948129 + 0.144337567297406 i\\right) \\left(0.211324865405187 e^{3.46410161513775 i \\overline{a} \\overline{w}} - 0.288675134594813 \\cdot \\left(1 + i\\right) e^{3.46410161513775 i \\overline{a} \\overline{w}} + 1.07735026918963 + 0.288675134594813 i\\right) e^{- 1.73205080756888 i \\left(a w + \\overline{a} \\overline{w}\\right)}$"
      ],
      "text/plain": [
       "((0.538675134594813 - 0.144337567297406*I)*exp(3.46410161513775*I*a*w) - 0.0386751345948129 + 0.144337567297406*I)*(0.211324865405187*exp(3.46410161513775*I*conjugate(a)*conjugate(w)) - 0.288675134594813*(1 + I)*exp(3.46410161513775*I*conjugate(a)*conjugate(w)) + 1.07735026918963 + 0.288675134594813*I)*exp(-1.73205080756888*I*(a*w + conjugate(a)*conjugate(w)))"
      ]
     },
     "execution_count": 25,
     "metadata": {},
     "output_type": "execute_result"
    }
   ],
   "source": [
    "# Lets now consider a parametrized approach:\n",
    "from sympy.abc import a, w\n",
    "vector_i = [a]\n",
    "vector_w = [w]\n",
    "\n",
    "p_cog = Matrix([\n",
    "        [1/2,1/2],\n",
    "        [1/2,1/2]\n",
    "        ])\n",
    "p_env = Matrix([\n",
    "    [1]\n",
    "])\n",
    "\n",
    "sigma_q_sympy = Matrix([\n",
    "    [1, (1 - 1j)],\n",
    "    [(1j + 1), -1]\n",
    "])\n",
    "sigma_e_sympy = Matrix([[vector_i[0]*vector_w[0]]])\n",
    "\n",
    "u_operator_sympy = Matrix(1j*TensorProduct(sigma_q_sympy, sigma_e_sympy)).exp()\n",
    "\n",
    "quantum_operation_sympy = u_operator_sympy * TensorProduct(p_cog, p_env) * Dagger(u_operator_sympy)\n",
    "\n",
    "op = simplify(quantum_operation_sympy.evalf()[0,0])\n",
    "op"
   ]
  },
  {
   "cell_type": "code",
   "execution_count": 26,
   "metadata": {},
   "outputs": [
    {
     "data": {
      "text/latex": [
       "$\\displaystyle \\left(\\left(0.5387 - 0.1443 i\\right) e^{3.4641 i a w} - 0.0387 + 0.1443 i\\right) \\left(0.2113 e^{3.4641 i \\overline{a} \\overline{w}} - 0.2887 \\cdot \\left(1 + i\\right) e^{3.4641 i \\overline{a} \\overline{w}} + 1.0774 + 0.2887 i\\right) e^{- 1.7321 i \\left(a w + \\overline{a} \\overline{w}\\right)}$"
      ],
      "text/plain": [
       "((0.5387 - 0.1443*I)*exp(3.4641*I*a*w) - 0.0387 + 0.1443*I)*(0.2113*exp(3.4641*I*conjugate(a)*conjugate(w)) - 0.2887*(1 + I)*exp(3.4641*I*conjugate(a)*conjugate(w)) + 1.0774 + 0.2887*I)*exp(-1.7321*I*(a*w + conjugate(a)*conjugate(w)))"
      ]
     },
     "execution_count": 26,
     "metadata": {},
     "output_type": "execute_result"
    }
   ],
   "source": [
    "for elemnt in sympy.preorder_traversal(op):\n",
    "    if isinstance(elemnt, sympy.Float):\n",
    "        op = op.subs(elemnt, round(elemnt, 4))\n",
    "simplify(op)"
   ]
  },
  {
   "cell_type": "code",
   "execution_count": 27,
   "metadata": {},
   "outputs": [
    {
     "data": {
      "text/latex": [
       "$\\displaystyle \\left(\\left(\\left(0.269337567297406 - 0.0721687836487032 i\\right) e^{3.46410161513775 i a w} - 0.0193375672974065 + 0.0721687836487032 i\\right) \\left(0.211324865405187 e^{3.46410161513775 i \\overline{a} \\overline{w}} - 0.288675134594813 \\cdot \\left(1 + i\\right) e^{3.46410161513775 i \\overline{a} \\overline{w}} + 1.07735026918963 + 0.288675134594813 i\\right) e^{1.73205080756888 i \\left(b z + \\overline{b} \\overline{z}\\right)} + \\left(\\left(0.269337567297406 - 0.0721687836487032 i\\right) e^{3.46410161513775 i b z} - 0.0193375672974065 + 0.0721687836487032 i\\right) \\left(0.211324865405187 e^{3.46410161513775 i \\overline{b} \\overline{z}} - 0.288675134594813 \\cdot \\left(1 + i\\right) e^{3.46410161513775 i \\overline{b} \\overline{z}} + 1.07735026918963 + 0.288675134594813 i\\right) e^{1.73205080756888 i \\left(a w + \\overline{a} \\overline{w}\\right)}\\right) e^{- 1.73205080756888 i \\left(a w + b z + \\overline{a} \\overline{w} + \\overline{b} \\overline{z}\\right)}$"
      ],
      "text/plain": [
       "(((0.269337567297406 - 0.0721687836487032*I)*exp(3.46410161513775*I*a*w) - 0.0193375672974065 + 0.0721687836487032*I)*(0.211324865405187*exp(3.46410161513775*I*conjugate(a)*conjugate(w)) - 0.288675134594813*(1 + I)*exp(3.46410161513775*I*conjugate(a)*conjugate(w)) + 1.07735026918963 + 0.288675134594813*I)*exp(1.73205080756888*I*(b*z + conjugate(b)*conjugate(z))) + ((0.269337567297406 - 0.0721687836487032*I)*exp(3.46410161513775*I*b*z) - 0.0193375672974065 + 0.0721687836487032*I)*(0.211324865405187*exp(3.46410161513775*I*conjugate(b)*conjugate(z)) - 0.288675134594813*(1 + I)*exp(3.46410161513775*I*conjugate(b)*conjugate(z)) + 1.07735026918963 + 0.288675134594813*I)*exp(1.73205080756888*I*(a*w + conjugate(a)*conjugate(w))))*exp(-1.73205080756888*I*(a*w + b*z + conjugate(a)*conjugate(w) + conjugate(b)*conjugate(z)))"
      ]
     },
     "execution_count": 27,
     "metadata": {},
     "output_type": "execute_result"
    }
   ],
   "source": [
    "# Increasing the number of dimensions, what would we have?\n",
    "from sympy.abc import a, b, w, z\n",
    "vector_i = [a, b]\n",
    "vector_w = [w, z]\n",
    "\n",
    "p_cog = Matrix([\n",
    "        [1/2,1/2],\n",
    "        [1/2,1/2]\n",
    "        ])\n",
    "\n",
    "# Now we have phi_env = 1/sqrt(2) * |0> + 1/sqrt(2) * |1>\n",
    "p_env = Matrix([\n",
    "    [1/2, 1/2],\n",
    "    [1/2, 1/2],\n",
    "])\n",
    "\n",
    "sigma_q_sympy = Matrix([\n",
    "    [1, (1 - 1j)],\n",
    "    [(1j + 1), -1]\n",
    "])\n",
    "\n",
    "sigma_e_sympy = Matrix([\n",
    "    [vector_i[0] * vector_w[0], 0],\n",
    "    [0,vector_i[1] * vector_w[1]]\n",
    "    ])\n",
    "\n",
    "u_operator_sympy = Matrix(1j*TensorProduct(sigma_q_sympy, sigma_e_sympy)).exp()\n",
    "\n",
    "quantum_operation_sympy = u_operator_sympy * TensorProduct(p_cog, p_env) * Dagger(u_operator_sympy)\n",
    "\n",
    "op = simplify(quantum_operation_sympy.evalf()[0,0] + quantum_operation_sympy.evalf()[1,1])\n",
    "op"
   ]
  },
  {
   "cell_type": "code",
   "execution_count": 28,
   "metadata": {},
   "outputs": [
    {
     "data": {
      "text/latex": [
       "$\\displaystyle \\left(\\left(\\left(0.2693 - 0.0722 i\\right) e^{3.4641 i a w} - 0.0193 + 0.0722 i\\right) \\left(0.2113 e^{3.4641 i \\overline{a} \\overline{w}} - 0.2887 \\cdot \\left(1 + i\\right) e^{3.4641 i \\overline{a} \\overline{w}} + 1.0774 + 0.2887 i\\right) e^{1.7321 i \\left(b z + \\overline{b} \\overline{z}\\right)} + \\left(\\left(0.2693 - 0.0722 i\\right) e^{3.4641 i b z} - 0.0193 + 0.0722 i\\right) \\left(0.2113 e^{3.4641 i \\overline{b} \\overline{z}} - 0.2887 \\cdot \\left(1 + i\\right) e^{3.4641 i \\overline{b} \\overline{z}} + 1.0774 + 0.2887 i\\right) e^{1.7321 i \\left(a w + \\overline{a} \\overline{w}\\right)}\\right) e^{- 1.7321 i \\left(a w + b z + \\overline{a} \\overline{w} + \\overline{b} \\overline{z}\\right)}$"
      ],
      "text/plain": [
       "(((0.2693 - 0.0722*I)*exp(3.4641*I*a*w) - 0.0193 + 0.0722*I)*(0.2113*exp(3.4641*I*conjugate(a)*conjugate(w)) - 0.2887*(1 + I)*exp(3.4641*I*conjugate(a)*conjugate(w)) + 1.0774 + 0.2887*I)*exp(1.7321*I*(b*z + conjugate(b)*conjugate(z))) + ((0.2693 - 0.0722*I)*exp(3.4641*I*b*z) - 0.0193 + 0.0722*I)*(0.2113*exp(3.4641*I*conjugate(b)*conjugate(z)) - 0.2887*(1 + I)*exp(3.4641*I*conjugate(b)*conjugate(z)) + 1.0774 + 0.2887*I)*exp(1.7321*I*(a*w + conjugate(a)*conjugate(w))))*exp(-1.7321*I*(a*w + b*z + conjugate(a)*conjugate(w) + conjugate(b)*conjugate(z)))"
      ]
     },
     "execution_count": 28,
     "metadata": {},
     "output_type": "execute_result"
    }
   ],
   "source": [
    "for elemnt in sympy.preorder_traversal(op):\n",
    "    if isinstance(elemnt, sympy.Float):\n",
    "        op = op.subs(elemnt, round(elemnt, 4))\n",
    "simplify(op)"
   ]
  },
  {
   "cell_type": "code",
   "execution_count": 29,
   "metadata": {},
   "outputs": [
    {
     "data": {
      "text/latex": [
       "$\\displaystyle \\left(\\left(\\left(0.0336671959121758 - 0.0090210979560879 i\\right) e^{3.46410161513775 i a w} - 0.00241719591217581 + 0.0090210979560879 i\\right) \\left(0.211324865405187 e^{3.46410161513775 i \\overline{a} \\overline{w}} - 0.288675134594813 \\cdot \\left(1 + i\\right) e^{3.46410161513775 i \\overline{a} \\overline{w}} + 1.07735026918963 + 0.288675134594813 i\\right) e^{1.73205080756888 i \\left(b z + c x + d y + \\overline{b} \\overline{z} + \\overline{c} \\overline{x} + \\overline{d} \\overline{y}\\right)} + \\left(\\left(0.0336671959121758 - 0.0090210979560879 i\\right) e^{3.46410161513775 i b z} - 0.00241719591217581 + 0.0090210979560879 i\\right) \\left(0.211324865405187 e^{3.46410161513775 i \\overline{b} \\overline{z}} - 0.288675134594813 \\cdot \\left(1 + i\\right) e^{3.46410161513775 i \\overline{b} \\overline{z}} + 1.07735026918963 + 0.288675134594813 i\\right) e^{1.73205080756888 i \\left(a w + c x + d y + \\overline{a} \\overline{w} + \\overline{c} \\overline{x} + \\overline{d} \\overline{y}\\right)} + \\left(\\left(0.0336671959121758 - 0.0090210979560879 i\\right) e^{3.46410161513775 i c x} - 0.00241719591217581 + 0.0090210979560879 i\\right) \\left(0.211324865405187 e^{3.46410161513775 i \\overline{c} \\overline{x}} - 0.288675134594813 \\cdot \\left(1 + i\\right) e^{3.46410161513775 i \\overline{c} \\overline{x}} + 1.07735026918963 + 0.288675134594813 i\\right) e^{1.73205080756888 i \\left(a w + b z + d y + \\overline{a} \\overline{w} + \\overline{b} \\overline{z} + \\overline{d} \\overline{y}\\right)} + \\left(\\left(0.0336671959121758 - 0.0090210979560879 i\\right) e^{3.46410161513775 i d y} - 0.00241719591217581 + 0.0090210979560879 i\\right) \\left(0.211324865405187 e^{3.46410161513775 i \\overline{d} \\overline{y}} - 0.288675134594813 \\cdot \\left(1 + i\\right) e^{3.46410161513775 i \\overline{d} \\overline{y}} + 1.07735026918963 + 0.288675134594813 i\\right) e^{1.73205080756888 i \\left(a w + b z + c x + \\overline{a} \\overline{w} + \\overline{b} \\overline{z} + \\overline{c} \\overline{x}\\right)}\\right) e^{- 1.73205080756888 i \\left(a w + b z + c x + d y + \\overline{a} \\overline{w} + \\overline{b} \\overline{z} + \\overline{c} \\overline{x} + \\overline{d} \\overline{y}\\right)}$"
      ],
      "text/plain": [
       "(((0.0336671959121758 - 0.0090210979560879*I)*exp(3.46410161513775*I*a*w) - 0.00241719591217581 + 0.0090210979560879*I)*(0.211324865405187*exp(3.46410161513775*I*conjugate(a)*conjugate(w)) - 0.288675134594813*(1 + I)*exp(3.46410161513775*I*conjugate(a)*conjugate(w)) + 1.07735026918963 + 0.288675134594813*I)*exp(1.73205080756888*I*(b*z + c*x + d*y + conjugate(b)*conjugate(z) + conjugate(c)*conjugate(x) + conjugate(d)*conjugate(y))) + ((0.0336671959121758 - 0.0090210979560879*I)*exp(3.46410161513775*I*b*z) - 0.00241719591217581 + 0.0090210979560879*I)*(0.211324865405187*exp(3.46410161513775*I*conjugate(b)*conjugate(z)) - 0.288675134594813*(1 + I)*exp(3.46410161513775*I*conjugate(b)*conjugate(z)) + 1.07735026918963 + 0.288675134594813*I)*exp(1.73205080756888*I*(a*w + c*x + d*y + conjugate(a)*conjugate(w) + conjugate(c)*conjugate(x) + conjugate(d)*conjugate(y))) + ((0.0336671959121758 - 0.0090210979560879*I)*exp(3.46410161513775*I*c*x) - 0.00241719591217581 + 0.0090210979560879*I)*(0.211324865405187*exp(3.46410161513775*I*conjugate(c)*conjugate(x)) - 0.288675134594813*(1 + I)*exp(3.46410161513775*I*conjugate(c)*conjugate(x)) + 1.07735026918963 + 0.288675134594813*I)*exp(1.73205080756888*I*(a*w + b*z + d*y + conjugate(a)*conjugate(w) + conjugate(b)*conjugate(z) + conjugate(d)*conjugate(y))) + ((0.0336671959121758 - 0.0090210979560879*I)*exp(3.46410161513775*I*d*y) - 0.00241719591217581 + 0.0090210979560879*I)*(0.211324865405187*exp(3.46410161513775*I*conjugate(d)*conjugate(y)) - 0.288675134594813*(1 + I)*exp(3.46410161513775*I*conjugate(d)*conjugate(y)) + 1.07735026918963 + 0.288675134594813*I)*exp(1.73205080756888*I*(a*w + b*z + c*x + conjugate(a)*conjugate(w) + conjugate(b)*conjugate(z) + conjugate(c)*conjugate(x))))*exp(-1.73205080756888*I*(a*w + b*z + c*x + d*y + conjugate(a)*conjugate(w) + conjugate(b)*conjugate(z) + conjugate(c)*conjugate(x) + conjugate(d)*conjugate(y)))"
      ]
     },
     "execution_count": 29,
     "metadata": {},
     "output_type": "execute_result"
    }
   ],
   "source": [
    "# Increasing the number of dimensions, what would we have?\n",
    "from sympy.abc import a, b, c, d, x, y, w, z\n",
    "vector_i = [a, b, c, d]\n",
    "vector_w = [w, z, x, y]\n",
    "\n",
    "p_cog = Matrix([\n",
    "        [1/2,1/2],\n",
    "        [1/2,1/2]\n",
    "        ])\n",
    "\n",
    "# Now we have phi_env = 1/4 * |00> + 1/4 * |01> + 1/4 * |10> + 1/4 * |11>, so...\n",
    "p_env = np.zeros((4, 4))\n",
    "for i in range(4):\n",
    "    for j in range(4):\n",
    "        p_env[i][j] = 1/16\n",
    "p_env = Matrix(p_env)\n",
    "\n",
    "sigma_q_sympy = Matrix([\n",
    "    [1, (1 - 1j)],\n",
    "    [(1j + 1), -1]\n",
    "])\n",
    "\n",
    "sigma_e_sympy = Matrix([\n",
    "    [vector_i[0] * vector_w[0], 0, 0, 0],\n",
    "    [0, vector_i[1] * vector_w[1], 0, 0],\n",
    "    [0, 0, vector_i[2] * vector_w[2], 0],\n",
    "    [0, 0, 0, vector_i[3] * vector_w[3]]\n",
    "    ])\n",
    "\n",
    "u_operator_sympy = Matrix(1j*TensorProduct(sigma_q_sympy, sigma_e_sympy)).exp()\n",
    "\n",
    "quantum_operation_sympy = u_operator_sympy * TensorProduct(p_cog, p_env) * Dagger(u_operator_sympy)\n",
    "\n",
    "op = simplify(quantum_operation_sympy.evalf()[0,0] + quantum_operation_sympy.evalf()[1,1] + quantum_operation_sympy.evalf()[2,2] + quantum_operation_sympy.evalf()[3,3])\n",
    "op"
   ]
  },
  {
   "cell_type": "code",
   "execution_count": 30,
   "metadata": {},
   "outputs": [
    {
     "data": {
      "text/latex": [
       "$\\displaystyle \\left(\\left(\\left(0.0337 - 0.009 i\\right) e^{3.4641 i a w} - 0.0024 + 0.009 i\\right) \\left(0.2113 e^{3.4641 i \\overline{a} \\overline{w}} - 0.2887 \\cdot \\left(1 + i\\right) e^{3.4641 i \\overline{a} \\overline{w}} + 1.0774 + 0.2887 i\\right) e^{1.7321 i \\left(b z + c x + d y + \\overline{b} \\overline{z} + \\overline{c} \\overline{x} + \\overline{d} \\overline{y}\\right)} + \\left(\\left(0.0337 - 0.009 i\\right) e^{3.4641 i b z} - 0.0024 + 0.009 i\\right) \\left(0.2113 e^{3.4641 i \\overline{b} \\overline{z}} - 0.2887 \\cdot \\left(1 + i\\right) e^{3.4641 i \\overline{b} \\overline{z}} + 1.0774 + 0.2887 i\\right) e^{1.7321 i \\left(a w + c x + d y + \\overline{a} \\overline{w} + \\overline{c} \\overline{x} + \\overline{d} \\overline{y}\\right)} + \\left(\\left(0.0337 - 0.009 i\\right) e^{3.4641 i c x} - 0.0024 + 0.009 i\\right) \\left(0.2113 e^{3.4641 i \\overline{c} \\overline{x}} - 0.2887 \\cdot \\left(1 + i\\right) e^{3.4641 i \\overline{c} \\overline{x}} + 1.0774 + 0.2887 i\\right) e^{1.7321 i \\left(a w + b z + d y + \\overline{a} \\overline{w} + \\overline{b} \\overline{z} + \\overline{d} \\overline{y}\\right)} + \\left(\\left(0.0337 - 0.009 i\\right) e^{3.4641 i d y} - 0.0024 + 0.009 i\\right) \\left(0.2113 e^{3.4641 i \\overline{d} \\overline{y}} - 0.2887 \\cdot \\left(1 + i\\right) e^{3.4641 i \\overline{d} \\overline{y}} + 1.0774 + 0.2887 i\\right) e^{1.7321 i \\left(a w + b z + c x + \\overline{a} \\overline{w} + \\overline{b} \\overline{z} + \\overline{c} \\overline{x}\\right)}\\right) e^{- 1.7321 i \\left(a w + b z + c x + d y + \\overline{a} \\overline{w} + \\overline{b} \\overline{z} + \\overline{c} \\overline{x} + \\overline{d} \\overline{y}\\right)}$"
      ],
      "text/plain": [
       "(((0.0337 - 0.009*I)*exp(3.4641*I*a*w) - 0.0024 + 0.009*I)*(0.2113*exp(3.4641*I*conjugate(a)*conjugate(w)) - 0.2887*(1 + I)*exp(3.4641*I*conjugate(a)*conjugate(w)) + 1.0774 + 0.2887*I)*exp(1.7321*I*(b*z + c*x + d*y + conjugate(b)*conjugate(z) + conjugate(c)*conjugate(x) + conjugate(d)*conjugate(y))) + ((0.0337 - 0.009*I)*exp(3.4641*I*b*z) - 0.0024 + 0.009*I)*(0.2113*exp(3.4641*I*conjugate(b)*conjugate(z)) - 0.2887*(1 + I)*exp(3.4641*I*conjugate(b)*conjugate(z)) + 1.0774 + 0.2887*I)*exp(1.7321*I*(a*w + c*x + d*y + conjugate(a)*conjugate(w) + conjugate(c)*conjugate(x) + conjugate(d)*conjugate(y))) + ((0.0337 - 0.009*I)*exp(3.4641*I*c*x) - 0.0024 + 0.009*I)*(0.2113*exp(3.4641*I*conjugate(c)*conjugate(x)) - 0.2887*(1 + I)*exp(3.4641*I*conjugate(c)*conjugate(x)) + 1.0774 + 0.2887*I)*exp(1.7321*I*(a*w + b*z + d*y + conjugate(a)*conjugate(w) + conjugate(b)*conjugate(z) + conjugate(d)*conjugate(y))) + ((0.0337 - 0.009*I)*exp(3.4641*I*d*y) - 0.0024 + 0.009*I)*(0.2113*exp(3.4641*I*conjugate(d)*conjugate(y)) - 0.2887*(1 + I)*exp(3.4641*I*conjugate(d)*conjugate(y)) + 1.0774 + 0.2887*I)*exp(1.7321*I*(a*w + b*z + c*x + conjugate(a)*conjugate(w) + conjugate(b)*conjugate(z) + conjugate(c)*conjugate(x))))*exp(-1.7321*I*(a*w + b*z + c*x + d*y + conjugate(a)*conjugate(w) + conjugate(b)*conjugate(z) + conjugate(c)*conjugate(x) + conjugate(d)*conjugate(y)))"
      ]
     },
     "execution_count": 30,
     "metadata": {},
     "output_type": "execute_result"
    }
   ],
   "source": [
    "for elemnt in sympy.preorder_traversal(op):\n",
    "    if isinstance(elemnt, sympy.Float):\n",
    "        op = op.subs(elemnt, round(elemnt, 4))\n",
    "simplify(op)"
   ]
  }
 ],
 "metadata": {
  "kernelspec": {
   "display_name": "base",
   "language": "python",
   "name": "python3"
  },
  "language_info": {
   "codemirror_mode": {
    "name": "ipython",
    "version": 3
   },
   "file_extension": ".py",
   "mimetype": "text/x-python",
   "name": "python",
   "nbconvert_exporter": "python",
   "pygments_lexer": "ipython3",
   "version": "3.9.13 (main, Aug 25 2022, 23:51:50) [MSC v.1916 64 bit (AMD64)]"
  },
  "orig_nbformat": 4,
  "vscode": {
   "interpreter": {
    "hash": "ad2bdc8ecc057115af97d19610ffacc2b4e99fae6737bb82f5d7fb13d2f2c186"
   }
  }
 },
 "nbformat": 4,
 "nbformat_minor": 2
}
