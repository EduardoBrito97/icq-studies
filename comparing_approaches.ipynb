{
 "cells": [
  {
   "cell_type": "code",
   "execution_count": 1,
   "metadata": {},
   "outputs": [],
   "source": [
    "import sympy\n",
    "from sympy.abc import x, y, z, w\n",
    "from sympy import Matrix, exp, simplify, Trace\n",
    "from sympy.physics.quantum.trace import Tr\n",
    "from sympy.physics.quantum.dagger import Dagger\n",
    "from sympy.physics.quantum import TensorProduct\n",
    "from helpers.icq_methods import *"
   ]
  },
  {
   "cell_type": "code",
   "execution_count": 2,
   "metadata": {},
   "outputs": [],
   "source": [
    "from helpers.icq_methods import *"
   ]
  },
  {
   "cell_type": "code",
   "execution_count": 3,
   "metadata": {},
   "outputs": [
    {
     "data": {
      "text/latex": [
       "$\\displaystyle \\left[\\begin{matrix}1.0 & 1.0 - 1.0 i\\\\1.0 + 1.0 i & -1.0\\end{matrix}\\right]$"
      ],
      "text/plain": [
       "Matrix([\n",
       "[        1.0, 1.0 - 1.0*I],\n",
       "[1.0 + 1.0*I,        -1.0]])"
      ]
     },
     "execution_count": 3,
     "metadata": {},
     "output_type": "execute_result"
    }
   ],
   "source": [
    "sigma_q = get_sigmaQ(2)\n",
    "Matrix(sigma_q)"
   ]
  },
  {
   "cell_type": "code",
   "execution_count": 4,
   "metadata": {},
   "outputs": [
    {
     "data": {
      "text/latex": [
       "$\\displaystyle \\left[\\begin{matrix}1 & 1.0 - 1.0 i\\\\1.0 + 1.0 i & -1\\end{matrix}\\right]$"
      ],
      "text/plain": [
       "Matrix([\n",
       "[          1, 1.0 - 1.0*I],\n",
       "[1.0 + 1.0*I,          -1]])"
      ]
     },
     "execution_count": 4,
     "metadata": {},
     "output_type": "execute_result"
    }
   ],
   "source": [
    "sigma_q_sympy = Matrix([\n",
    "    [1, (1 - 1j)],\n",
    "    [(1j + 1), -1]\n",
    "])\n",
    "sigma_q_sympy"
   ]
  },
  {
   "cell_type": "code",
   "execution_count": 5,
   "metadata": {},
   "outputs": [],
   "source": [
    "vector_i = [-1]\n",
    "vector_w = [-0.5]"
   ]
  },
  {
   "cell_type": "code",
   "execution_count": 6,
   "metadata": {},
   "outputs": [
    {
     "data": {
      "text/latex": [
       "$\\displaystyle \\left[\\begin{matrix}0.5\\end{matrix}\\right]$"
      ],
      "text/plain": [
       "Matrix([[0.5]])"
      ]
     },
     "execution_count": 6,
     "metadata": {},
     "output_type": "execute_result"
    }
   ],
   "source": [
    "sigma_e = get_sigmaE(vector_i, vector_w)\n",
    "Matrix(sigma_e)"
   ]
  },
  {
   "cell_type": "code",
   "execution_count": 7,
   "metadata": {},
   "outputs": [
    {
     "data": {
      "text/latex": [
       "$\\displaystyle \\left[\\begin{matrix}0.5\\end{matrix}\\right]$"
      ],
      "text/plain": [
       "Matrix([[0.5]])"
      ]
     },
     "execution_count": 7,
     "metadata": {},
     "output_type": "execute_result"
    }
   ],
   "source": [
    "sigma_e_sympy = Matrix([[vector_i[0]*vector_w[0]]])\n",
    "sigma_e_sympy"
   ]
  },
  {
   "cell_type": "code",
   "execution_count": 8,
   "metadata": {},
   "outputs": [
    {
     "data": {
      "text/latex": [
       "$\\displaystyle \\left[\\begin{matrix}0.5 i & 1.0 i \\left(0.5 - 0.5 i\\right)\\\\1.0 i \\left(0.5 + 0.5 i\\right) & - 0.5 i\\end{matrix}\\right]$"
      ],
      "text/plain": [
       "Matrix([\n",
       "[              0.5*I, 1.0*I*(0.5 - 0.5*I)],\n",
       "[1.0*I*(0.5 + 0.5*I),              -0.5*I]])"
      ]
     },
     "execution_count": 8,
     "metadata": {},
     "output_type": "execute_result"
    }
   ],
   "source": [
    "1j*Matrix(np.kron(sigma_q, sigma_e))"
   ]
  },
  {
   "cell_type": "code",
   "execution_count": 9,
   "metadata": {},
   "outputs": [
    {
     "data": {
      "text/latex": [
       "$\\displaystyle \\left[\\begin{matrix}0.5 i & 1.0 i \\left(0.5 - 0.5 i\\right)\\\\1.0 i \\left(0.5 + 0.5 i\\right) & - 0.5 i\\end{matrix}\\right]$"
      ],
      "text/plain": [
       "Matrix([\n",
       "[              0.5*I, 1.0*I*(0.5 - 0.5*I)],\n",
       "[1.0*I*(0.5 + 0.5*I),              -0.5*I]])"
      ]
     },
     "execution_count": 9,
     "metadata": {},
     "output_type": "execute_result"
    }
   ],
   "source": [
    "1j*TensorProduct(sigma_q_sympy, sigma_e_sympy)"
   ]
  },
  {
   "cell_type": "code",
   "execution_count": 10,
   "metadata": {},
   "outputs": [
    {
     "data": {
      "text/latex": [
       "$\\displaystyle \\left[\\begin{matrix}0.647859344852457 + 0.439802330328579 i & 0.439802330328579 + 0.439802330328579 i\\\\-0.439802330328579 + 0.439802330328579 i & 0.647859344852457 - 0.439802330328579 i\\end{matrix}\\right]$"
      ],
      "text/plain": [
       "Matrix([\n",
       "[ 0.647859344852457 + 0.439802330328579*I, 0.439802330328579 + 0.439802330328579*I],\n",
       "[-0.439802330328579 + 0.439802330328579*I, 0.647859344852457 - 0.439802330328579*I]])"
      ]
     },
     "execution_count": 10,
     "metadata": {},
     "output_type": "execute_result"
    }
   ],
   "source": [
    "u_operator = get_U_operator(sigma_q, sigma_e)\n",
    "Matrix(u_operator)"
   ]
  },
  {
   "cell_type": "code",
   "execution_count": 11,
   "metadata": {},
   "outputs": [
    {
     "data": {
      "text/latex": [
       "$\\displaystyle \\left[\\begin{matrix}0.647859344852457 + 0.439802330328579 i & 0.439802330328579 + 0.439802330328579 i\\\\-0.439802330328579 + 0.439802330328579 i & 0.647859344852457 - 0.439802330328579 i\\end{matrix}\\right]$"
      ],
      "text/plain": [
       "Matrix([\n",
       "[ 0.647859344852457 + 0.439802330328579*I, 0.439802330328579 + 0.439802330328579*I],\n",
       "[-0.439802330328579 + 0.439802330328579*I, 0.647859344852457 - 0.439802330328579*I]])"
      ]
     },
     "execution_count": 11,
     "metadata": {},
     "output_type": "execute_result"
    }
   ],
   "source": [
    "# TensorProduct = Kroenecker product: https://docs.sympy.org/latest/modules/physics/quantum/tensorproduct.html\n",
    "# exp = matrix exponential https://stackoverflow.com/questions/47240208/sympy-symbolic-matrix-exponential\n",
    "u_operator_sympy = Matrix(1j*TensorProduct(sigma_q_sympy, sigma_e_sympy)).exp()\n",
    "u_operator_sympy.evalf()"
   ]
  },
  {
   "cell_type": "code",
   "execution_count": 12,
   "metadata": {},
   "outputs": [],
   "source": [
    "p_cog = get_p([[1/np.sqrt(2)],[1/np.sqrt(2)]])\n",
    "p_env = np.matrix([1])"
   ]
  },
  {
   "cell_type": "code",
   "execution_count": 13,
   "metadata": {},
   "outputs": [
    {
     "data": {
      "text/latex": [
       "$\\displaystyle \\left[\\begin{matrix}0.978356139353705 - 4.16333634234434 \\cdot 10^{-17} i & 0.113147820475103 + 0.0915039598288085 i\\\\0.113147820475103 - 0.0915039598288086 i & 0.0216438606462946\\end{matrix}\\right]$"
      ],
      "text/plain": [
       "Matrix([\n",
       "[0.978356139353705 - 4.16333634234434e-17*I, 0.113147820475103 + 0.0915039598288085*I],\n",
       "[  0.113147820475103 - 0.0915039598288086*I,                       0.0216438606462946]])"
      ]
     },
     "execution_count": 13,
     "metadata": {},
     "output_type": "execute_result"
    }
   ],
   "source": [
    "quantum_operation = np.array(u_operator * (np.kron(p_cog, p_env)) * u_operator.getH())\n",
    "Matrix(quantum_operation)"
   ]
  },
  {
   "cell_type": "code",
   "execution_count": 14,
   "metadata": {},
   "outputs": [
    {
     "data": {
      "text/latex": [
       "$\\displaystyle \\left[\\begin{matrix}0.978356139353705 - 5.76 \\cdot 10^{-18} i & 0.113147820475103 + 0.0915039598288086 i\\\\0.113147820475103 - 0.0915039598288086 i & 0.0216438606462946 + 3.04 \\cdot 10^{-18} i\\end{matrix}\\right]$"
      ],
      "text/plain": [
       "Matrix([\n",
       "[          0.978356139353705 - 5.76e-18*I, 0.113147820475103 + 0.0915039598288086*I],\n",
       "[0.113147820475103 - 0.0915039598288086*I,          0.0216438606462946 + 3.04e-18*I]])"
      ]
     },
     "execution_count": 14,
     "metadata": {},
     "output_type": "execute_result"
    }
   ],
   "source": [
    "quantum_operation_sympy = u_operator_sympy * TensorProduct(p_cog, p_env) * Dagger(u_operator_sympy)\n",
    "quantum_operation_sympy.evalf().doit()"
   ]
  },
  {
   "cell_type": "code",
   "execution_count": 15,
   "metadata": {},
   "outputs": [
    {
     "data": {
      "text/latex": [
       "$\\displaystyle \\left[\\begin{matrix}0.978356139353705 - 4.16333634234434 \\cdot 10^{-17} i & 0.113147820475103 + 0.0915039598288085 i\\\\0.113147820475103 - 0.0915039598288086 i & 0.0216438606462946\\end{matrix}\\right]$"
      ],
      "text/plain": [
       "Matrix([\n",
       "[0.978356139353705 - 4.16333634234434e-17*I, 0.113147820475103 + 0.0915039598288085*I],\n",
       "[  0.113147820475103 - 0.0915039598288086*I,                       0.0216438606462946]])"
      ]
     },
     "execution_count": 15,
     "metadata": {},
     "output_type": "execute_result"
    }
   ],
   "source": [
    "p_cog_new = np.trace(quantum_operation.reshape([2,1,2,1]), axis1=1, axis2=3)\n",
    "Matrix(p_cog_new)"
   ]
  },
  {
   "cell_type": "code",
   "execution_count": 16,
   "metadata": {},
   "outputs": [
    {
     "data": {
      "text/latex": [
       "$\\displaystyle 1.0 - 2.72236389247532 \\cdot 10^{-18} i$"
      ],
      "text/plain": [
       "1.0 - 2.72236389247532e-18*I"
      ]
     },
     "execution_count": 16,
     "metadata": {},
     "output_type": "execute_result"
    }
   ],
   "source": [
    "p_cog_new_sympy = Tr(quantum_operation_sympy.evalf(),[0,0])\n",
    "p_cog_new_sympy.evalf()"
   ]
  },
  {
   "cell_type": "code",
   "execution_count": 17,
   "metadata": {},
   "outputs": [
    {
     "data": {
      "text/plain": [
       "0.9783561393537055"
      ]
     },
     "execution_count": 17,
     "metadata": {},
     "output_type": "execute_result"
    }
   ],
   "source": [
    "result = p_cog_new[0,0]\n",
    "np.real(result)"
   ]
  },
  {
   "cell_type": "code",
   "execution_count": 18,
   "metadata": {},
   "outputs": [
    {
     "data": {
      "text/plain": [
       "array(0.978356139353705 - 5.76e-18*I, dtype=object)"
      ]
     },
     "execution_count": 18,
     "metadata": {},
     "output_type": "execute_result"
    }
   ],
   "source": [
    "result_sympy = complex(quantum_operation_sympy.evalf()[0,0])\n",
    "np.real(result_sympy)"
   ]
  }
 ],
 "metadata": {
  "kernelspec": {
   "display_name": "base",
   "language": "python",
   "name": "python3"
  },
  "language_info": {
   "codemirror_mode": {
    "name": "ipython",
    "version": 3
   },
   "file_extension": ".py",
   "mimetype": "text/x-python",
   "name": "python",
   "nbconvert_exporter": "python",
   "pygments_lexer": "ipython3",
   "version": "3.9.13"
  },
  "orig_nbformat": 4,
  "vscode": {
   "interpreter": {
    "hash": "ad2bdc8ecc057115af97d19610ffacc2b4e99fae6737bb82f5d7fb13d2f2c186"
   }
  }
 },
 "nbformat": 4,
 "nbformat_minor": 2
}
