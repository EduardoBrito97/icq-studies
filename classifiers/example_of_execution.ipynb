{
 "cells": [
  {
   "cell_type": "code",
   "execution_count": 1,
   "id": "ab562828",
   "metadata": {},
   "outputs": [],
   "source": [
    "from classifiers_ICQ import iqc_classifier"
   ]
  },
  {
   "cell_type": "code",
   "execution_count": 2,
   "id": "5f310950",
   "metadata": {},
   "outputs": [],
   "source": [
    "vector_x = [0.9, 0.4, 0.2, 0.4]\n",
    "vector_w = [0.8, 0.6, 0.1, 0.4]\n",
    "\n",
    "#original\n",
    "\n",
    "dic_classifier_params = {}\n",
    "dic_classifier_params[\"sigma_q_params\"] = [1,1,1,0]\n",
    "dic_classifier_params[\"use_polar_coordinates_on_sigma_q\"] = False\n",
    "dic_classifier_params[\"load_inputvector_env_state\"] = False\n",
    "\n",
    "z, p11, U = iqc_classifier(vector_x, \n",
    "                        vector_w, \n",
    "                        normalize_x=False, \n",
    "                        normalize_w=False, \n",
    "                        dic_classifier_params=dic_classifier_params)"
   ]
  },
  {
   "cell_type": "code",
   "execution_count": 3,
   "id": "18ddf107",
   "metadata": {},
   "outputs": [
    {
     "name": "stdout",
     "output_type": "stream",
     "text": [
      "z 0\n",
      "p11 (0.26534096256590506+4.336808689942018e-19j)\n",
      "U [[ 0.31809529+0.54736197j  0.        +0.j          0.        +0.j\n",
      "   0.        +0.j          0.54736197+0.54736197j  0.        +0.j\n",
      "   0.        +0.j          0.        +0.j        ]\n",
      " [ 0.        +0.j          0.91483702+0.23314747j  0.        +0.j\n",
      "   0.        +0.j          0.        +0.j          0.23314747+0.23314747j\n",
      "   0.        +0.j          0.        +0.j        ]\n",
      " [ 0.        +0.j          0.        +0.j          0.99940006+0.019996j\n",
      "   0.        +0.j          0.        +0.j          0.        +0.j\n",
      "   0.019996  +0.019996j    0.        +0.j        ]\n",
      " [ 0.        +0.j          0.        +0.j          0.        +0.j\n",
      "   0.96184513+0.15795985j  0.        +0.j          0.        +0.j\n",
      "   0.        +0.j          0.15795985+0.15795985j]\n",
      " [-0.54736197+0.54736197j  0.        +0.j          0.        +0.j\n",
      "   0.        +0.j          0.31809529-0.54736197j  0.        +0.j\n",
      "   0.        +0.j          0.        +0.j        ]\n",
      " [ 0.        +0.j         -0.23314747+0.23314747j  0.        +0.j\n",
      "   0.        +0.j          0.        +0.j          0.91483702-0.23314747j\n",
      "   0.        +0.j          0.        +0.j        ]\n",
      " [ 0.        +0.j          0.        +0.j         -0.019996  +0.019996j\n",
      "   0.        +0.j          0.        +0.j          0.        +0.j\n",
      "   0.99940006-0.019996j    0.        +0.j        ]\n",
      " [ 0.        +0.j          0.        +0.j          0.        +0.j\n",
      "  -0.15795985+0.15795985j  0.        +0.j          0.        +0.j\n",
      "   0.        +0.j          0.96184513-0.15795985j]]\n"
     ]
    }
   ],
   "source": [
    "print(\"z\", z)\n",
    "print(\"p11\", p11)\n",
    "print(\"U\", U)"
   ]
  },
  {
   "cell_type": "code",
   "execution_count": 4,
   "id": "5781e4bb",
   "metadata": {},
   "outputs": [],
   "source": [
    "vector_x = [0.9, 0.4, 0.2, 0.4]\n",
    "vector_w = [0.8, 0.6, 0.1, 0.4]\n",
    "\n",
    "#original\n",
    "\n",
    "dic_classifier_params = {}\n",
    "dic_classifier_params[\"sigma_q_params\"] = [1,1,1,1]\n",
    "dic_classifier_params[\"use_polar_coordinates_on_sigma_q\"] = False\n",
    "dic_classifier_params[\"load_inputvector_env_state\"] = False\n",
    "\n",
    "z, p11, U = iqc_classifier(vector_x, \n",
    "                        vector_w, \n",
    "                        normalize_x=False, \n",
    "                        normalize_w=False, \n",
    "                        dic_classifier_params=dic_classifier_params)"
   ]
  },
  {
   "cell_type": "code",
   "execution_count": 5,
   "id": "eb134850",
   "metadata": {},
   "outputs": [
    {
     "name": "stdout",
     "output_type": "stream",
     "text": [
      "z 0\n",
      "p11 (0.265340962565905+6.938893903907228e-18j)\n",
      "U [[-0.12177623+6.21257025e-01j  0.        +0.00000000e+00j\n",
      "   0.        +0.00000000e+00j  0.        +0.00000000e+00j\n",
      "   0.05058777+7.72431961e-01j  0.        +0.00000000e+00j\n",
      "   0.        +0.00000000e+00j  0.        +0.00000000e+00j]\n",
      " [ 0.        +0.00000000e+00j  0.83319617+4.43924157e-01j\n",
      "   0.        +0.00000000e+00j  0.        +0.00000000e+00j\n",
      "   0.        +0.00000000e+00j  0.17104523+2.81884763e-01j\n",
      "   0.        +0.00000000e+00j  0.        +0.00000000e+00j]\n",
      " [ 0.        +0.00000000e+00j  0.        +0.00000000e+00j\n",
      "   0.99880029+3.99786699e-02j  0.        +0.00000000e+00j\n",
      "   0.        +0.00000000e+00j  0.        +0.00000000e+00j\n",
      "   0.01959211+2.03918945e-02j  0.        +0.00000000e+00j]\n",
      " [ 0.        +0.00000000e+00j  0.        +0.00000000e+00j\n",
      "   0.        +0.00000000e+00j  0.92439388+3.09181715e-01j\n",
      "   0.        +0.00000000e+00j  0.        +0.00000000e+00j\n",
      "   0.        +0.00000000e+00j  0.13077639+1.81108154e-01j]\n",
      " [-0.77243196+5.05877721e-02j  0.        +0.00000000e+00j\n",
      "   0.        +0.00000000e+00j  0.        +0.00000000e+00j\n",
      "   0.60006796-2.01762708e-01j  0.        +0.00000000e+00j\n",
      "   0.        +0.00000000e+00j  0.        +0.00000000e+00j]\n",
      " [ 0.        +0.00000000e+00j -0.28188476+1.71045229e-01j\n",
      "   0.        +0.00000000e+00j  0.        +0.00000000e+00j\n",
      "   0.        +0.00000000e+00j  0.9440357 -9.00583440e-03j\n",
      "   0.        +0.00000000e+00j  0.        +0.00000000e+00j]\n",
      " [ 0.        +0.00000000e+00j  0.        +0.00000000e+00j\n",
      "  -0.02039189+1.95921078e-02j  0.        +0.00000000e+00j\n",
      "   0.        +0.00000000e+00j  0.        +0.00000000e+00j\n",
      "   0.99960008-5.33248006e-06j  0.        +0.00000000e+00j]\n",
      " [ 0.        +0.00000000e+00j  0.        +0.00000000e+00j\n",
      "   0.        +0.00000000e+00j -0.18110815+1.30776394e-01j\n",
      "   0.        +0.00000000e+00j  0.        +0.00000000e+00j\n",
      "   0.        +0.00000000e+00j  0.97472564-2.70283213e-03j]]\n"
     ]
    }
   ],
   "source": [
    "print(\"z\", z)\n",
    "print(\"p11\", p11)\n",
    "print(\"U\", U)"
   ]
  },
  {
   "cell_type": "code",
   "execution_count": 6,
   "id": "35c459d7",
   "metadata": {},
   "outputs": [],
   "source": [
    "vector_x = [0.9, 0.4, 0.2, 0.4]\n",
    "vector_w = [0.8, 0.6, 0.1, 0.4]\n",
    "\n",
    "#original\n",
    "\n",
    "dic_classifier_params = {}\n",
    "dic_classifier_params[\"sigma_q_params\"] = [1,1,1,1]\n",
    "dic_classifier_params[\"use_polar_coordinates_on_sigma_q\"] = False\n",
    "dic_classifier_params[\"load_inputvector_env_state\"] = True\n",
    "\n",
    "z, p11, U = iqc_classifier(vector_x, \n",
    "                        vector_w, \n",
    "                        normalize_x=False, \n",
    "                        normalize_w=False, \n",
    "                        dic_classifier_params=dic_classifier_params)"
   ]
  },
  {
   "cell_type": "code",
   "execution_count": 7,
   "id": "c418b1b9",
   "metadata": {},
   "outputs": [
    {
     "name": "stdout",
     "output_type": "stream",
     "text": [
      "z 0\n",
      "p11 (0.07526676356016715-1.214306433183765e-17j)\n",
      "U [[-0.27882325+5.27433432e-01j  0.        +0.00000000e+00j\n",
      "   0.        +0.00000000e+00j  0.        +0.00000000e+00j\n",
      "  -0.01171815+8.02455141e-01j  0.        +0.00000000e+00j\n",
      "   0.        +0.00000000e+00j  0.        +0.00000000e+00j]\n",
      " [ 0.        +0.00000000e+00j  0.13733553+6.96964635e-01j\n",
      "   0.        +0.00000000e+00j  0.        +0.00000000e+00j\n",
      "   0.        +0.00000000e+00j  0.12974287+6.91770219e-01j\n",
      "   0.        +0.00000000e+00j  0.        +0.00000000e+00j]\n",
      " [ 0.        +0.00000000e+00j  0.        +0.00000000e+00j\n",
      "   0.97018288+1.97343316e-01j  0.        +0.00000000e+00j\n",
      "   0.        +0.00000000e+00j  0.        +0.00000000e+00j\n",
      "   0.08907016+1.08937160e-01j  0.        +0.00000000e+00j]\n",
      " [ 0.        +0.00000000e+00j  0.        +0.00000000e+00j\n",
      "   0.        +0.00000000e+00j  0.56510664+6.39286842e-01j\n",
      "   0.        +0.00000000e+00j  0.        +0.00000000e+00j\n",
      "   0.        +0.00000000e+00j  0.19604816+4.83251418e-01j]\n",
      " [-0.80245514-1.17181517e-02j  0.        +0.00000000e+00j\n",
      "   0.        +0.00000000e+00j  0.        +0.00000000e+00j\n",
      "   0.53535004-2.63303557e-01j  0.        +0.00000000e+00j\n",
      "   0.        +0.00000000e+00j  0.        +0.00000000e+00j]\n",
      " [ 0.        +0.00000000e+00j -0.69177022+1.29742874e-01j\n",
      "   0.        +0.00000000e+00j  0.        +0.00000000e+00j\n",
      "   0.        +0.00000000e+00j  0.69936288-1.24548457e-01j\n",
      "   0.        +0.00000000e+00j  0.        +0.00000000e+00j]\n",
      " [ 0.        +0.00000000e+00j  0.        +0.00000000e+00j\n",
      "  -0.10893716+8.90701604e-02j  0.        +0.00000000e+00j\n",
      "   0.        +0.00000000e+00j  0.        +0.00000000e+00j\n",
      "   0.99004988-6.64004757e-04j  0.        +0.00000000e+00j]\n",
      " [ 0.        +0.00000000e+00j  0.        +0.00000000e+00j\n",
      "   0.        +0.00000000e+00j -0.48325142+1.96048162e-01j\n",
      "   0.        +0.00000000e+00j  0.        +0.00000000e+00j\n",
      "   0.        +0.00000000e+00j  0.8523099 -4.00127385e-02j]]\n"
     ]
    }
   ],
   "source": [
    "print(\"z\", z)\n",
    "print(\"p11\", p11)\n",
    "print(\"U\", U)"
   ]
  },
  {
   "cell_type": "code",
   "execution_count": null,
   "id": "c65e0034",
   "metadata": {},
   "outputs": [],
   "source": []
  }
 ],
 "metadata": {
  "kernelspec": {
   "display_name": "Python 3",
   "language": "python",
   "name": "python3"
  },
  "language_info": {
   "codemirror_mode": {
    "name": "ipython",
    "version": 3
   },
   "file_extension": ".py",
   "mimetype": "text/x-python",
   "name": "python",
   "nbconvert_exporter": "python",
   "pygments_lexer": "ipython3",
   "version": "3.8.8"
  }
 },
 "nbformat": 4,
 "nbformat_minor": 5
}
