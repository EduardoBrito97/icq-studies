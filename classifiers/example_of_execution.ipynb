{
 "cells": [
  {
   "cell_type": "code",
   "execution_count": 1,
   "id": "ab562828",
   "metadata": {},
   "outputs": [],
   "source": [
    "from classifiers_ICQ import iqc_classifier"
   ]
  },
  {
   "cell_type": "code",
   "execution_count": 2,
   "id": "5f310950",
   "metadata": {},
   "outputs": [],
   "source": [
    "vector_x = [0.9, 0.4, 0.2, 0.4]\n",
    "vector_w =[[0.8, 0.6, 0.1, 0.4]]\n",
    "\n",
    "#original\n",
    "\n",
    "dic_classifier_params = {}\n",
    "dic_classifier_params[\"sigma_q_params\"] = [1,1,1,0]\n",
    "dic_classifier_params[\"use_polar_coordinates_on_sigma_q\"] = False\n",
    "dic_classifier_params[\"load_inputvector_env_state\"] = False\n",
    "\n",
    "z, p11, output_dict = iqc_classifier(vector_x, \n",
    "                        vector_w, \n",
    "                        normalize_x=False, \n",
    "                        normalize_w=False, \n",
    "                        dic_classifier_params=dic_classifier_params)"
   ]
  },
  {
   "cell_type": "code",
   "execution_count": 3,
   "id": "18ddf107",
   "metadata": {},
   "outputs": [
    {
     "name": "stdout",
     "output_type": "stream",
     "text": [
      "z 0\n",
      "p11 (0.265340962565905+0j)\n",
      "U [matrix([[ 0.31809529+0.54736197j,  0.        +0.j        ,\n",
      "          0.        +0.j        ,  0.        +0.j        ,\n",
      "          0.54736197+0.54736197j,  0.        +0.j        ,\n",
      "          0.        +0.j        ,  0.        +0.j        ],\n",
      "        [ 0.        +0.j        ,  0.91483702+0.23314747j,\n",
      "          0.        +0.j        ,  0.        +0.j        ,\n",
      "          0.        +0.j        ,  0.23314747+0.23314747j,\n",
      "          0.        +0.j        ,  0.        +0.j        ],\n",
      "        [ 0.        +0.j        ,  0.        +0.j        ,\n",
      "          0.99940006+0.019996j  ,  0.        +0.j        ,\n",
      "          0.        +0.j        ,  0.        +0.j        ,\n",
      "          0.019996  +0.019996j  ,  0.        +0.j        ],\n",
      "        [ 0.        +0.j        ,  0.        +0.j        ,\n",
      "          0.        +0.j        ,  0.96184513+0.15795985j,\n",
      "          0.        +0.j        ,  0.        +0.j        ,\n",
      "          0.        +0.j        ,  0.15795985+0.15795985j],\n",
      "        [-0.54736197+0.54736197j,  0.        +0.j        ,\n",
      "          0.        +0.j        ,  0.        +0.j        ,\n",
      "          0.31809529-0.54736197j,  0.        +0.j        ,\n",
      "          0.        +0.j        ,  0.        +0.j        ],\n",
      "        [ 0.        +0.j        , -0.23314747+0.23314747j,\n",
      "          0.        +0.j        ,  0.        +0.j        ,\n",
      "          0.        +0.j        ,  0.91483702-0.23314747j,\n",
      "          0.        +0.j        ,  0.        +0.j        ],\n",
      "        [ 0.        +0.j        ,  0.        +0.j        ,\n",
      "         -0.019996  +0.019996j  ,  0.        +0.j        ,\n",
      "          0.        +0.j        ,  0.        +0.j        ,\n",
      "          0.99940006-0.019996j  ,  0.        +0.j        ],\n",
      "        [ 0.        +0.j        ,  0.        +0.j        ,\n",
      "          0.        +0.j        , -0.15795985+0.15795985j,\n",
      "          0.        +0.j        ,  0.        +0.j        ,\n",
      "          0.        +0.j        ,  0.96184513-0.15795985j]])]\n"
     ]
    }
   ],
   "source": [
    "print(\"z\", z)\n",
    "print(\"p11\", p11)\n",
    "print(\"U\", output_dict[\"U_operators\"])"
   ]
  },
  {
   "cell_type": "code",
   "execution_count": 4,
   "id": "5781e4bb",
   "metadata": {},
   "outputs": [],
   "source": [
    "vector_x = [0.9, 0.4, 0.2, 0.4]\n",
    "vector_w = [[0.8, 0.6, 0.1, 0.4]]\n",
    "\n",
    "#original\n",
    "\n",
    "dic_classifier_params = {}\n",
    "dic_classifier_params[\"sigma_q_params\"] = [1,1,1,1]\n",
    "dic_classifier_params[\"use_polar_coordinates_on_sigma_q\"] = False\n",
    "dic_classifier_params[\"load_inputvector_env_state\"] = False\n",
    "\n",
    "z, p11, output_dict = iqc_classifier(vector_x, \n",
    "                        vector_w, \n",
    "                        normalize_x=False, \n",
    "                        normalize_w=False, \n",
    "                        dic_classifier_params=dic_classifier_params)"
   ]
  },
  {
   "cell_type": "code",
   "execution_count": 5,
   "id": "eb134850",
   "metadata": {},
   "outputs": [
    {
     "name": "stdout",
     "output_type": "stream",
     "text": [
      "z 0\n",
      "p11 (0.3466159002646877+3.469446951953614e-18j)\n",
      "U [matrix([[ 0.64101826+6.01493159e-01j,  0.        +0.00000000e+00j,\n",
      "          0.        +0.00000000e+00j,  0.        +0.00000000e+00j,\n",
      "          0.19675162+4.34269928e-01j,  0.        +0.00000000e+00j,\n",
      "          0.        +0.00000000e+00j,  0.        +0.00000000e+00j],\n",
      "        [ 0.        +0.00000000e+00j,  0.9571788 +2.35416820e-01j,\n",
      "          0.        +0.00000000e+00j,  0.        +0.00000000e+00j,\n",
      "          0.        +0.00000000e+00j,  0.10401884+1.32543357e-01j,\n",
      "          0.        +0.00000000e+00j,  0.        +0.00000000e+00j],\n",
      "        [ 0.        +0.00000000e+00j,  0.        +0.00000000e+00j,\n",
      "          0.99970002+1.99973334e-02j,  0.        +0.00000000e+00j,\n",
      "          0.        +0.00000000e+00j,  0.        +0.00000000e+00j,\n",
      "          0.00989901+1.00989934e-02j,  0.        +0.00000000e+00j],\n",
      "        [ 0.        +0.00000000e+00j,  0.        +0.00000000e+00j,\n",
      "          0.        +0.00000000e+00j,  0.98087497+1.58637940e-01j,\n",
      "          0.        +0.00000000e+00j,  0.        +0.00000000e+00j,\n",
      "          0.        +0.00000000e+00j,  0.07311646+8.58619371e-02j],\n",
      "        [-0.43426993+1.96751619e-01j,  0.        +0.00000000e+00j,\n",
      "          0.        +0.00000000e+00j,  0.        +0.00000000e+00j,\n",
      "          0.87853657-2.95283878e-02j,  0.        +0.00000000e+00j,\n",
      "          0.        +0.00000000e+00j,  0.        +0.00000000e+00j],\n",
      "        [ 0.        +0.00000000e+00j, -0.13254336+1.04018844e-01j,\n",
      "          0.        +0.00000000e+00j,  0.        +0.00000000e+00j,\n",
      "          0.        +0.00000000e+00j,  0.98570332-1.14538152e-03j,\n",
      "          0.        +0.00000000e+00j,  0.        +0.00000000e+00j],\n",
      "        [ 0.        +0.00000000e+00j,  0.        +0.00000000e+00j,\n",
      "         -0.01009899+9.89900670e-03j,  0.        +0.00000000e+00j,\n",
      "          0.        +0.00000000e+00j,  0.        +0.00000000e+00j,\n",
      "          0.9999    -6.66640000e-07j,  0.        +0.00000000e+00j],\n",
      "        [ 0.        +0.00000000e+00j,  0.        +0.00000000e+00j,\n",
      "          0.        +0.00000000e+00j, -0.08586194+7.31164631e-02j,\n",
      "          0.        +0.00000000e+00j,  0.        +0.00000000e+00j,\n",
      "          0.        +0.00000000e+00j,  0.99362045-3.40460518e-04j]])]\n"
     ]
    }
   ],
   "source": [
    "print(\"z\", z)\n",
    "print(\"p11\", p11)\n",
    "print(\"U\", output_dict[\"U_operators\"])"
   ]
  },
  {
   "cell_type": "code",
   "execution_count": 6,
   "id": "35c459d7",
   "metadata": {},
   "outputs": [],
   "source": [
    "vector_x = [0.9, 0.4, 0.2, 0.4]\n",
    "vector_w = [[0.8, 0.6, 0.1, 0.4]]\n",
    "\n",
    "#original\n",
    "\n",
    "dic_classifier_params = {}\n",
    "dic_classifier_params[\"sigma_q_params\"] = [1,1,1,1]\n",
    "dic_classifier_params[\"use_polar_coordinates_on_sigma_q\"] = False\n",
    "dic_classifier_params[\"load_inputvector_env_state\"] = True\n",
    "\n",
    "z, p11, output_dict = iqc_classifier(vector_x, \n",
    "                        vector_w, \n",
    "                        normalize_x=False, \n",
    "                        normalize_w=False, \n",
    "                        dic_classifier_params=dic_classifier_params)"
   ]
  },
  {
   "cell_type": "code",
   "execution_count": 7,
   "id": "c418b1b9",
   "metadata": {},
   "outputs": [
    {
     "name": "stdout",
     "output_type": "stream",
     "text": [
      "z 0\n",
      "p11 (0.13189757785873074-1.0842021724855044e-19j)\n",
      "U [matrix([[ 0.56510664+6.39286842e-01j,  0.        +0.00000000e+00j,\n",
      "          0.        +0.00000000e+00j,  0.        +0.00000000e+00j,\n",
      "          0.19604816+4.83251418e-01j,  0.        +0.00000000e+00j,\n",
      "          0.        +0.00000000e+00j,  0.        +0.00000000e+00j],\n",
      "        [ 0.        +0.00000000e+00j,  0.74452185+5.30391481e-01j,\n",
      "          0.        +0.00000000e+00j,  0.        +0.00000000e+00j,\n",
      "          0.        +0.00000000e+00j,  0.18915685+3.58596952e-01j,\n",
      "          0.        +0.00000000e+00j,  0.        +0.00000000e+00j],\n",
      "        [ 0.        +0.00000000e+00j,  0.        +0.00000000e+00j,\n",
      "          0.99251145+9.96669790e-02j,  0.        +0.00000000e+00j,\n",
      "          0.        +0.00000000e+00j,  0.        +0.00000000e+00j,\n",
      "          0.04737928+5.23709505e-02j,  0.        +0.00000000e+00j],\n",
      "        [ 0.        +0.00000000e+00j,  0.        +0.00000000e+00j,\n",
      "          0.        +0.00000000e+00j,  0.88290433+3.78984401e-01j,\n",
      "          0.        +0.00000000e+00j,  0.        +0.00000000e+00j,\n",
      "          0.        +0.00000000e+00j,  0.15317256+2.31060447e-01j],\n",
      "        [-0.48325142+1.96048162e-01j,  0.        +0.00000000e+00j,\n",
      "          0.        +0.00000000e+00j,  0.        +0.00000000e+00j,\n",
      "          0.8523099 -4.00127385e-02j,  0.        +0.00000000e+00j,\n",
      "          0.        +0.00000000e+00j,  0.        +0.00000000e+00j],\n",
      "        [ 0.        +0.00000000e+00j, -0.35859695+1.89156846e-01j,\n",
      "          0.        +0.00000000e+00j,  0.        +0.00000000e+00j,\n",
      "          0.        +0.00000000e+00j,  0.91396196-1.73623177e-02j,\n",
      "          0.        +0.00000000e+00j,  0.        +0.00000000e+00j],\n",
      "        [ 0.        +0.00000000e+00j,  0.        +0.00000000e+00j,\n",
      "         -0.05237095+4.73792786e-02j,  0.        +0.00000000e+00j,\n",
      "          0.        +0.00000000e+00j,  0.        +0.00000000e+00j,\n",
      "          0.99750312-8.32500372e-05j,  0.        +0.00000000e+00j],\n",
      "        [ 0.        +0.00000000e+00j,  0.        +0.00000000e+00j,\n",
      "          0.        +0.00000000e+00j, -0.23106045+1.53172560e-01j,\n",
      "          0.        +0.00000000e+00j,  0.        +0.00000000e+00j,\n",
      "          0.        +0.00000000e+00j,  0.96079222-5.24860700e-03j]])]\n"
     ]
    }
   ],
   "source": [
    "print(\"z\", z)\n",
    "print(\"p11\", p11)\n",
    "print(\"U\", output_dict[\"U_operators\"])"
   ]
  }
 ],
 "metadata": {
  "kernelspec": {
   "display_name": "Python 3",
   "language": "python",
   "name": "python3"
  },
  "language_info": {
   "codemirror_mode": {
    "name": "ipython",
    "version": 3
   },
   "file_extension": ".py",
   "mimetype": "text/x-python",
   "name": "python",
   "nbconvert_exporter": "python",
   "pygments_lexer": "ipython3",
   "version": "3.9.16"
  }
 },
 "nbformat": 4,
 "nbformat_minor": 5
}
