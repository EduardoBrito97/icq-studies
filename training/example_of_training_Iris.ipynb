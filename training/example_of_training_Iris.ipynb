{
 "cells": [
  {
   "cell_type": "code",
   "execution_count": 1,
   "id": "9d89c72a",
   "metadata": {},
   "outputs": [],
   "source": [
    "## Training execution of the quantum classifier inspired in open quantum system\n",
    "## Dataset: Iris"
   ]
  },
  {
   "cell_type": "code",
   "execution_count": 2,
   "id": "a621ac0a",
   "metadata": {},
   "outputs": [
    {
     "name": "stderr",
     "output_type": "stream",
     "text": [
      "Intel(R) Extension for Scikit-learn* enabled (https://github.com/intel/scikit-learn-intelex)\n",
      "[Parallel(n_jobs=-1)]: Using backend LokyBackend with 12 concurrent workers.\n",
      "[Parallel(n_jobs=-1)]: Done   3 out of   3 | elapsed:   14.8s finished\n"
     ]
    },
    {
     "name": "stdout",
     "output_type": "stream",
     "text": [
      "K-Fold #0: Negativities: [-1.0806170773018191e-16, -9.992007221626409e-17, -1.1102230246251565e-16]\n",
      "              precision    recall  f1-score   support\n",
      "\n",
      "           0       1.00      1.00      1.00        25\n",
      "           1       0.88      0.88      0.88        25\n",
      "           2       0.88      0.88      0.88        25\n",
      "\n",
      "    accuracy                           0.92        75\n",
      "   macro avg       0.92      0.92      0.92        75\n",
      "weighted avg       0.92      0.92      0.92        75\n",
      "\n",
      "-------------------------------------------------------------------------------------------------------------------\n"
     ]
    },
    {
     "name": "stderr",
     "output_type": "stream",
     "text": [
      "[Parallel(n_jobs=-1)]: Using backend LokyBackend with 12 concurrent workers.\n",
      "[Parallel(n_jobs=-1)]: Done   3 out of   3 | elapsed:   12.0s finished\n"
     ]
    },
    {
     "name": "stdout",
     "output_type": "stream",
     "text": [
      "K-Fold #1: Negativities: [-9.769962616701378e-17, -9.399888275159659e-17, -1.1472304587793285e-16]\n",
      "              precision    recall  f1-score   support\n",
      "\n",
      "           0       1.00      1.00      1.00        25\n",
      "           1       0.83      0.40      0.54        25\n",
      "           2       0.61      0.92      0.73        25\n",
      "\n",
      "    accuracy                           0.77        75\n",
      "   macro avg       0.81      0.77      0.76        75\n",
      "weighted avg       0.81      0.77      0.76        75\n",
      "\n",
      "-------------------------------------------------------------------------------------------------------------------\n",
      "AVG: Scores = 0.8466666666666667 F1-Scores = 0.8384498784498784 Negativity= -1.0423760620091746e-16\n"
     ]
    }
   ],
   "source": [
    "import sys, os\n",
    "sys.path.append(os.path.abspath('../classifiers'))\n",
    "sys.path.append(os.path.abspath('../validation'))\n",
    "sys.path.append(os.path.abspath('../training'))\n",
    "from classifiers_ICQ import iqc_classifier\n",
    "from iqc_classifier_training import IQCClassifier\n",
    "from sklearn.multiclass import OneVsOneClassifier, OneVsRestClassifier\n",
    "from validation_functions import execute_training_test_k_fold\n",
    "from sklearn import datasets\n",
    "\n",
    "import numpy as np\n",
    "\n",
    "iris = datasets.load_iris()\n",
    "X = iris.data[:, [0,1,2,3]]\n",
    "y = iris.target\n",
    "\n",
    "classifier_function = iqc_classifier\n",
    "dic_classifier_params = {}\n",
    "dic_classifier_params[\"sigma_q_params\"] = [1,1,1,1]\n",
    "dic_classifier_params[\"use_polar_coordinates_on_sigma_q\"] = False\n",
    "dic_classifier_params[\"load_inputvector_env_state\"] = False\n",
    "\n",
    "dic_training_params = {\"max_iter\": 100,\n",
    "    \"accuracy_succ\": 0.9,\n",
    "    \"plot_graphs_and_metrics\": True,\n",
    "    \"plot_graphs_in_classifier\": True,\n",
    "    \"random_seed\": 1,\n",
    "    \"learning_rate\": 0.1,\n",
    "    \"reset_weights_epoch\":0,\n",
    "    \"do_classes_refit\":True,\n",
    "    \"batch\":False}\n",
    "\n",
    "print_each_fold_metric=True\n",
    "print_avg_metric=True\n",
    "\n",
    "scores, f1scores, negativities = execute_training_test_k_fold(\n",
    "                X, \n",
    "                y, \n",
    "                k_folds=2,\n",
    "                random_seed = 1, \n",
    "                classifier_function=classifier_function, \n",
    "                dic_classifier_params=dic_classifier_params,\n",
    "                one_vs_classifier=OneVsRestClassifier, \n",
    "                dic_training_params=dic_training_params,\n",
    "                print_each_fold_metric=True,\n",
    "                print_avg_metric=True)"
   ]
  },
  {
   "cell_type": "code",
   "execution_count": 3,
   "id": "4e6cd29c",
   "metadata": {
    "scrolled": true
   },
   "outputs": [
    {
     "data": {
      "text/plain": [
       "([0.92, 0.7733333333333333],\n",
       " [0.9199999999999999, 0.7568997568997569],\n",
       " [[-1.0806170773018191e-16, -9.769962616701378e-17],\n",
       "  [-9.992007221626409e-17, -9.399888275159659e-17],\n",
       "  [-1.1102230246251565e-16, -1.1472304587793285e-16]])"
      ]
     },
     "execution_count": 3,
     "metadata": {},
     "output_type": "execute_result"
    }
   ],
   "source": [
    "scores, f1scores, negativities"
   ]
  },
  {
   "cell_type": "code",
   "execution_count": 4,
   "id": "eab4145b",
   "metadata": {},
   "outputs": [
    {
     "name": "stderr",
     "output_type": "stream",
     "text": [
      "[Parallel(n_jobs=-1)]: Using backend LokyBackend with 12 concurrent workers.\n",
      "[Parallel(n_jobs=-1)]: Done   3 out of   3 | elapsed:   13.2s finished\n"
     ]
    },
    {
     "name": "stdout",
     "output_type": "stream",
     "text": [
      "K-Fold #0: Negativities: [-1.0806170773018191e-16, -9.992007221626409e-17, -1.1102230246251565e-16]\n",
      "              precision    recall  f1-score   support\n",
      "\n",
      "           0       1.00      1.00      1.00        25\n",
      "           1       0.88      0.88      0.88        25\n",
      "           2       0.88      0.88      0.88        25\n",
      "\n",
      "    accuracy                           0.92        75\n",
      "   macro avg       0.92      0.92      0.92        75\n",
      "weighted avg       0.92      0.92      0.92        75\n",
      "\n",
      "-------------------------------------------------------------------------------------------------------------------\n"
     ]
    },
    {
     "name": "stderr",
     "output_type": "stream",
     "text": [
      "[Parallel(n_jobs=-1)]: Using backend LokyBackend with 12 concurrent workers.\n",
      "[Parallel(n_jobs=-1)]: Done   3 out of   3 | elapsed:   13.9s finished\n"
     ]
    },
    {
     "name": "stdout",
     "output_type": "stream",
     "text": [
      "K-Fold #1: Negativities: [-9.769962616701378e-17, -9.399888275159659e-17, -1.1472304587793285e-16]\n",
      "              precision    recall  f1-score   support\n",
      "\n",
      "           0       1.00      1.00      1.00        25\n",
      "           1       0.83      0.40      0.54        25\n",
      "           2       0.61      0.92      0.73        25\n",
      "\n",
      "    accuracy                           0.77        75\n",
      "   macro avg       0.81      0.77      0.76        75\n",
      "weighted avg       0.81      0.77      0.76        75\n",
      "\n",
      "-------------------------------------------------------------------------------------------------------------------\n",
      "AVG: Scores = 0.8466666666666667 F1-Scores = 0.8384498784498784 Negativity= -1.0423760620091746e-16\n"
     ]
    }
   ],
   "source": [
    "import sys, os\n",
    "sys.path.append(os.path.abspath('../classifiers'))\n",
    "sys.path.append(os.path.abspath('../validation'))\n",
    "from classifiers_ICQ import iqc_classifier\n",
    "from iqc_classifier_training import IQCClassifier\n",
    "from sklearn.multiclass import OneVsOneClassifier, OneVsRestClassifier\n",
    "from validation_functions import execute_training_test_k_fold\n",
    "\n",
    "import numpy as np\n",
    "\n",
    "X = iris.data[:, [0,1,2,3]]\n",
    "y = iris.target\n",
    "\n",
    "classifier_function = iqc_classifier\n",
    "dic_classifier_params = {}\n",
    "dic_classifier_params[\"sigma_q_params\"] = [1,1,1,1]\n",
    "dic_classifier_params[\"use_polar_coordinates_on_sigma_q\"] = False\n",
    "dic_classifier_params[\"load_inputvector_env_state\"] = False\n",
    "\n",
    "dic_training_params = {\"max_iter\": 100,\n",
    "    \"accuracy_succ\": 0.9,\n",
    "    \"plot_graphs_and_metrics\": True,\n",
    "    \"plot_graphs_in_classifier\": True,\n",
    "    \"random_seed\": 1,\n",
    "    \"learning_rate\": 0.1,\n",
    "    \"reset_weights_epoch\":0,\n",
    "    \"do_classes_refit\":True,\n",
    "    \"batch\":False}\n",
    "\n",
    "print_each_fold_metric=True\n",
    "print_avg_metric=True\n",
    "\n",
    "scores, f1scores, negativities = execute_training_test_k_fold(\n",
    "                X, \n",
    "                y, \n",
    "                k_folds=2,\n",
    "                random_seed = 1, \n",
    "                classifier_function=classifier_function, \n",
    "                dic_classifier_params=dic_classifier_params,\n",
    "                one_vs_classifier=OneVsRestClassifier, \n",
    "                dic_training_params=dic_training_params,\n",
    "                print_each_fold_metric=True,\n",
    "                print_avg_metric=True)"
   ]
  },
  {
   "cell_type": "code",
   "execution_count": 5,
   "id": "2e203b02",
   "metadata": {},
   "outputs": [
    {
     "data": {
      "text/plain": [
       "([0.92, 0.7733333333333333],\n",
       " [0.9199999999999999, 0.7568997568997569],\n",
       " [[-1.0806170773018191e-16, -9.769962616701378e-17],\n",
       "  [-9.992007221626409e-17, -9.399888275159659e-17],\n",
       "  [-1.1102230246251565e-16, -1.1472304587793285e-16]])"
      ]
     },
     "execution_count": 5,
     "metadata": {},
     "output_type": "execute_result"
    }
   ],
   "source": [
    "scores, f1scores, negativities"
   ]
  },
  {
   "cell_type": "code",
   "execution_count": 6,
   "id": "687c1123",
   "metadata": {},
   "outputs": [
    {
     "name": "stderr",
     "output_type": "stream",
     "text": [
      "[Parallel(n_jobs=-1)]: Using backend LokyBackend with 12 concurrent workers.\n",
      "[Parallel(n_jobs=-1)]: Done   3 out of   3 | elapsed:   12.2s finished\n"
     ]
    },
    {
     "name": "stdout",
     "output_type": "stream",
     "text": [
      "K-Fold #0: Negativities: [-7.223851146894352e-16, -6.261657858885883e-16, -6.143234069592533e-16]\n",
      "              precision    recall  f1-score   support\n",
      "\n",
      "           0       1.00      1.00      1.00        25\n",
      "           1       0.50      1.00      0.67        25\n",
      "           2       0.00      0.00      0.00        25\n",
      "\n",
      "    accuracy                           0.67        75\n",
      "   macro avg       0.50      0.67      0.56        75\n",
      "weighted avg       0.50      0.67      0.56        75\n",
      "\n",
      "-------------------------------------------------------------------------------------------------------------------\n"
     ]
    },
    {
     "name": "stderr",
     "output_type": "stream",
     "text": [
      "c:\\ProgramData\\Anaconda3\\lib\\site-packages\\sklearn\\metrics\\_classification.py:1344: UndefinedMetricWarning: Precision and F-score are ill-defined and being set to 0.0 in labels with no predicted samples. Use `zero_division` parameter to control this behavior.\n",
      "  _warn_prf(average, modifier, msg_start, len(result))\n",
      "c:\\ProgramData\\Anaconda3\\lib\\site-packages\\sklearn\\metrics\\_classification.py:1344: UndefinedMetricWarning: Precision and F-score are ill-defined and being set to 0.0 in labels with no predicted samples. Use `zero_division` parameter to control this behavior.\n",
      "  _warn_prf(average, modifier, msg_start, len(result))\n",
      "c:\\ProgramData\\Anaconda3\\lib\\site-packages\\sklearn\\metrics\\_classification.py:1344: UndefinedMetricWarning: Precision and F-score are ill-defined and being set to 0.0 in labels with no predicted samples. Use `zero_division` parameter to control this behavior.\n",
      "  _warn_prf(average, modifier, msg_start, len(result))\n",
      "[Parallel(n_jobs=-1)]: Using backend LokyBackend with 12 concurrent workers.\n",
      "[Parallel(n_jobs=-1)]: Done   3 out of   3 | elapsed:   11.6s finished\n"
     ]
    },
    {
     "name": "stdout",
     "output_type": "stream",
     "text": [
      "K-Fold #1: Negativities: [-5.987802846145011e-16, -6.542914358457589e-16, -5.958196898821673e-16]\n",
      "              precision    recall  f1-score   support\n",
      "\n",
      "           0       1.00      1.00      1.00        25\n",
      "           1       0.84      0.84      0.84        25\n",
      "           2       0.84      0.84      0.84        25\n",
      "\n",
      "    accuracy                           0.89        75\n",
      "   macro avg       0.89      0.89      0.89        75\n",
      "weighted avg       0.89      0.89      0.89        75\n",
      "\n",
      "-------------------------------------------------------------------------------------------------------------------\n",
      "AVG: Scores = 0.78 F1-Scores = 0.7244444444444443 Negativity= -6.35294286313284e-16\n"
     ]
    }
   ],
   "source": [
    "import sys, os\n",
    "sys.path.append(os.path.abspath('../classifiers'))\n",
    "sys.path.append(os.path.abspath('../validation'))\n",
    "from classifiers_ICQ import iqc_classifier\n",
    "from iqc_classifier_training import IQCClassifier\n",
    "from sklearn.multiclass import OneVsOneClassifier, OneVsRestClassifier\n",
    "from validation_functions import execute_training_test_k_fold\n",
    "\n",
    "import numpy as np\n",
    "\n",
    "\n",
    "X = iris.data[:, [0,1,2,3]]\n",
    "y = iris.target\n",
    "\n",
    "classifier_function = iqc_classifier\n",
    "dic_classifier_params = {}\n",
    "dic_classifier_params[\"sigma_q_params\"] = [1,1,1,1]\n",
    "dic_classifier_params[\"use_polar_coordinates_on_sigma_q\"] = False\n",
    "dic_classifier_params[\"load_inputvector_env_state\"] = True\n",
    "\n",
    "dic_training_params = {\"max_iter\": 100,\n",
    "    \"accuracy_succ\": 0.9,\n",
    "    \"plot_graphs_and_metrics\": True,\n",
    "    \"plot_graphs_in_classifier\": True,\n",
    "    \"random_seed\": 1,\n",
    "    \"learning_rate\": 0.1,\n",
    "    \"reset_weights_epoch\":0,\n",
    "    \"do_classes_refit\":True,\n",
    "    \"batch\":False}\n",
    "\n",
    "print_each_fold_metric=True\n",
    "print_avg_metric=True\n",
    "\n",
    "scores, f1scores, negativities = execute_training_test_k_fold(\n",
    "                X, \n",
    "                y, \n",
    "                k_folds=2,\n",
    "                random_seed = 1, \n",
    "                classifier_function=classifier_function, \n",
    "                dic_classifier_params=dic_classifier_params,\n",
    "                one_vs_classifier=OneVsRestClassifier, \n",
    "                dic_training_params=dic_training_params,\n",
    "                print_each_fold_metric=True,\n",
    "                print_avg_metric=True)"
   ]
  },
  {
   "cell_type": "code",
   "execution_count": 7,
   "id": "8a06e626",
   "metadata": {},
   "outputs": [
    {
     "data": {
      "text/plain": [
       "([0.6666666666666666, 0.8933333333333333],\n",
       " [0.5555555555555555, 0.8933333333333332],\n",
       " [[-7.223851146894352e-16, -5.987802846145011e-16],\n",
       "  [-6.261657858885883e-16, -6.542914358457589e-16],\n",
       "  [-6.143234069592533e-16, -5.958196898821673e-16]])"
      ]
     },
     "execution_count": 7,
     "metadata": {},
     "output_type": "execute_result"
    }
   ],
   "source": [
    "scores, f1scores, negativities"
   ]
  }
 ],
 "metadata": {
  "kernelspec": {
   "display_name": "Python 3",
   "language": "python",
   "name": "python3"
  },
  "language_info": {
   "codemirror_mode": {
    "name": "ipython",
    "version": 3
   },
   "file_extension": ".py",
   "mimetype": "text/x-python",
   "name": "python",
   "nbconvert_exporter": "python",
   "pygments_lexer": "ipython3",
   "version": "3.9.16"
  }
 },
 "nbformat": 4,
 "nbformat_minor": 5
}
