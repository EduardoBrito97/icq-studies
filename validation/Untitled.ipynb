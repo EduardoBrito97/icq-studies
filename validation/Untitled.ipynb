{
 "cells": [
  {
   "cell_type": "code",
   "execution_count": null,
   "id": "cf9235b3",
   "metadata": {},
   "outputs": [],
   "source": [
    "import numpy as np\n",
    "from tqdm.notebook import tqdm\n",
    "from helpers.utils import print_metrics, executeIrisOneVsRest\n",
    "\n",
    "from helpers.icq_executions import execute_classifier_original_normal_sigma_q"
   ]
  },
  {
   "cell_type": "code",
   "execution_count": null,
   "id": "0487fd55",
   "metadata": {},
   "outputs": [],
   "source": [
    "%%time\n",
    "scores = []\n",
    "f1scores = []\n",
    "for i_random_state in tqdm(range(10, 70, 5)):\n",
    "    curr_scores, curr_f1scores = executeIrisOneVsRest(random_seed=i_random_state,\n",
    "                                                classifier_function=execute_classifier_original_normal_sigma_q,\n",
    "                                                sigma_q_weights=[1, 1, 1],\n",
    "                                                max_iter=2000,\n",
    "                                                print_each_fold_metric=False,\n",
    "                                                print_avg_metric=True)\n",
    "    scores.append(np.mean(curr_scores))\n",
    "    f1scores.append(np.mean(curr_f1scores))"
   ]
  }
 ],
 "metadata": {
  "kernelspec": {
   "display_name": "Python 3",
   "language": "python",
   "name": "python3"
  },
  "language_info": {
   "codemirror_mode": {
    "name": "ipython",
    "version": 3
   },
   "file_extension": ".py",
   "mimetype": "text/x-python",
   "name": "python",
   "nbconvert_exporter": "python",
   "pygments_lexer": "ipython3",
   "version": "3.8.8"
  }
 },
 "nbformat": 4,
 "nbformat_minor": 5
}
